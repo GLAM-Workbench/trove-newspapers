{
 "cells": [
  {
   "cell_type": "markdown",
   "metadata": {},
   "source": [
    "# Visualise Trove newspaper searches over time\n",
    "\n",
    "You know the feeling. You enter a query into [Trove's digitised newspapers](https://trove.nla.gov.au/newspaper/) search box and...\n",
    "\n",
    "![Trove search results screen capture](images/trove-newspaper-results.png)\n",
    "\n",
    "Hmmm, **3 million results**, how do you make sense of that..?\n",
    "\n",
    "Trove tries to be as helpful as possible by ordering your results by relevance. This is great if you aim is to find a few interesting articles. But how can you get a sense of the complete results set? How can you *see* everything? Trove's web interface only shows you the first 2,000 articles matching your search. But by getting data directly from the [Trove API](https://help.nla.gov.au/trove/building-with-trove/api) we can go bigger. \n",
    "\n",
    "This notebook helps you zoom out and explore how the number of newspaper articles in your results varies over time by using the `decade` and `year` facets. We'll then combine this approach with other search facets to see how we can slice a set of results up in different ways to investigate historical changes.\n",
    "\n",
    "1. [Setting things up](#1.-Setting-things-up)\n",
    "2. [Find the number of articles per year using facets](#2.-Find-the-number-of-articles-per-year-using-facets)\n",
    "3. [How many articles in total were published each year?](#3.-How-many-articles-in-total-were-published-each-year?)\n",
    "4. [Charting our search results as a proportion of total articles](#4.-Charting-our-search-results-as-a-proportion-of-total-articles)\n",
    "5. [Comparing multiple search terms over time](#5.-Comparing-multiple-search-terms-over-time)\n",
    "6. [Comparing a search term across different states](#6.-Comparing-a-search-term-across-different-states)\n",
    "7. [Comparing a search term across different newspapers](#7.-Comparing-a-search-term-across-different-newspapers)\n",
    "8. [Chart changes in illustration types over time](#8.-Chart-changes-in-illustration-types-over-time)\n",
    "9. [But what are we searching?](#9.-But-what-are-we-searching?)\n",
    "10. [Next steps](#10.-Next-steps)\n",
    "11. [Related resources](#11.-Related-resources)\n",
    "12. [Further reading](#12.-Further-reading)\n",
    "\n",
    "If you're interested in exploring the possibilities examined in this notebook, but are feeling a bit intimidated by the code, skip to the [Related resources](#11.-Related-resources) section for some alternative starting points. But once you've got a bit of confidence, please come back here to learn more about how it all works!\n"
   ]
  },
  {
   "cell_type": "markdown",
   "metadata": {},
   "source": [
    "<div class=\"alert alert-block alert-warning\">\n",
    "<p>If you haven't used one of these notebooks before, they're basically web pages in which you can write, edit, and run live code. They're meant to encourage experimentation, so don't feel nervous. Just try running a few cells and see what happens!</p>\n",
    "\n",
    "<p>\n",
    "    Some tips:\n",
    "    <ul>\n",
    "        <li>Code cells have boxes around them.</li>\n",
    "        <li>To run a code cell click on the cell and then hit <b>Shift+Enter</b>. The <b>Shift+Enter</b> combo will also move you to the next cell, so it's a quick way to work through the notebook.</li>\n",
    "        <li>While a cell is running a <b>*</b> appears in the square brackets next to the cell. Once the cell has finished running the asterix will be replaced with a number.</li>\n",
    "        <li>In most cases you'll want to start from the top of notebook and work your way down running each cell in turn. Later cells might depend on the results of earlier ones.</li>\n",
    "        <li>To edit a code cell, just click on it and type stuff. Remember to run the cell once you've finished editing.</li>\n",
    "    </ul>\n",
    "</p>\n",
    "\n",
    "<p><b>Is this thing on?</b> If you can't edit or run any of the code cells, you might be viewing a static (read only) version of this notebook. Click here to <a href=\"https://mybinder.org/v2/gh/GLAM-Workbench/trove-newspapers/master?filepath=visualise-searches-over-time.ipynb\">load a <b>live</b> version</a> running on Binder.</p>\n",
    "\n",
    "</div>"
   ]
  },
  {
   "cell_type": "markdown",
   "metadata": {},
   "source": [
    "## 1. Setting things up"
   ]
  },
  {
   "cell_type": "markdown",
   "metadata": {},
   "source": [
    "### Import what we need"
   ]
  },
  {
   "cell_type": "code",
   "execution_count": 1,
   "metadata": {},
   "outputs": [],
   "source": [
    "import os\n",
    "import time\n",
    "from operator import itemgetter  # used for sorting\n",
    "\n",
    "import altair as alt\n",
    "import pandas as pd  # makes manipulating the data easier\n",
    "import requests\n",
    "from IPython.display import clear_output\n",
    "from requests.adapters import HTTPAdapter\n",
    "from requests.packages.urllib3.util.retry import Retry\n",
    "from tqdm.auto import tqdm\n",
    "\n",
    "# Make sure data directory exists\n",
    "os.makedirs(\"data\", exist_ok=True)\n",
    "\n",
    "# Create a session that will automatically retry on server errors\n",
    "s = requests.Session()\n",
    "retries = Retry(total=5, backoff_factor=1, status_forcelist=[502, 503, 504])\n",
    "s.mount(\"http://\", HTTPAdapter(max_retries=retries))\n",
    "s.mount(\"https://\", HTTPAdapter(max_retries=retries))"
   ]
  },
  {
   "cell_type": "code",
   "execution_count": 2,
   "metadata": {},
   "outputs": [],
   "source": [
    "%%capture\n",
    "# Load variables from the .env file if it exists\n",
    "# Use %%capture to suppress messages\n",
    "%load_ext dotenv\n",
    "%dotenv"
   ]
  },
  {
   "cell_type": "markdown",
   "metadata": {},
   "source": [
    "### Enter a Trove API key\n",
    "\n",
    "We're going to get our data from the Trove API. You'll need to get your own [Trove API key](http://help.nla.gov.au/trove/building-with-trove/api) and enter it below."
   ]
  },
  {
   "cell_type": "code",
   "execution_count": 3,
   "metadata": {},
   "outputs": [],
   "source": [
    "# Insert your Trove API key\n",
    "API_KEY = \"YOUR API KEY\"\n",
    "\n",
    "# Use api key value from environment variables if it is available\n",
    "if os.getenv(\"TROVE_API_KEY\"):\n",
    "    API_KEY = os.getenv(\"TROVE_API_KEY\")"
   ]
  },
  {
   "cell_type": "markdown",
   "metadata": {},
   "source": [
    "## 2. Find the number of articles per year using facets\n",
    "\n",
    "<img src=\"images/trove-decade-facets.png\" width=\"200\" align=\"left\" style=\"border: 1px solid #d6d6d6; margin-right: 20px\">\n",
    "\n",
    "When you search for newspaper articles using Trove's web interface, the results appear alongside a column headed 'Refine your results'. This column displays summary data extracted from your search, such as the states in which articles were published and the newspapers that published them. In the web interface, you can use this data to filter your results, but using the API we can retrieve the raw data and use it to visualise the complete result set.\n",
    "\n",
    "Here you can see the decade facet, showing the number of newspaper articles published each decade. If you click on a decade, the interface displays the number of results per year. So sitting underneath the web interface is data that breaks down our search results by year. Let's use this data to visualise a search over time."
   ]
  },
  {
   "cell_type": "markdown",
   "metadata": {},
   "source": [
    "To get results by year from the Trove API, you need to set the `facet` parameter to `year`. However, this only works if you've also selected a specific decade using the `l-decade` parameter. In other words, you can only get one decade's worth of results at a time. To assemble the complete dataset, you need to loop through all the decades, requesting the `year` data for each decade in turn.\n",
    "\n",
    "Let's start with some basic parameters for our search."
   ]
  },
  {
   "cell_type": "code",
   "execution_count": 4,
   "metadata": {},
   "outputs": [],
   "source": [
    "# Basic parameters for Trove API\n",
    "params = {\n",
    "    \"facet\": \"year\",  # Get the data aggregated by year.\n",
    "    \"zone\": \"newspaper\",\n",
    "    \"key\": API_KEY,\n",
    "    \"encoding\": \"json\",\n",
    "    \"n\": 0,  # We don't need any records, just the facets!\n",
    "}"
   ]
  },
  {
   "cell_type": "markdown",
   "metadata": {},
   "source": [
    "But what are we searching for? We need to supply a `q` parameter that includes our search terms. We can use pretty much anything that works in the Trove simple search box. This includes boolean operators, phrase searches, and proximity modifiers. But let's start with something simple. Feel free to modify the `q` value in the cell below."
   ]
  },
  {
   "cell_type": "code",
   "execution_count": 5,
   "metadata": {},
   "outputs": [],
   "source": [
    "# CHANGE THIS TO SEARCH FOR SOMETHING ELSE!\n",
    "params[\"q\"] = \"radio\""
   ]
  },
  {
   "cell_type": "markdown",
   "metadata": {},
   "source": [
    "Let's define a couple of handy functions for getting facet data from the Trove API. "
   ]
  },
  {
   "cell_type": "code",
   "execution_count": 6,
   "metadata": {},
   "outputs": [],
   "source": [
    "def get_results(params):\n",
    "    \"\"\"\n",
    "    Get JSON response data from the Trove API.\n",
    "    Parameters:\n",
    "        params\n",
    "    Returns:\n",
    "        JSON formatted response data from Trove API\n",
    "    \"\"\"\n",
    "    response = s.get(\n",
    "        \"https://api.trove.nla.gov.au/v2/result\", params=params, timeout=30\n",
    "    )\n",
    "    response.raise_for_status()\n",
    "    # print(response.url) # This shows us the url that's sent to the API\n",
    "    data = response.json()\n",
    "    return data\n",
    "\n",
    "\n",
    "def get_facets(data):\n",
    "    \"\"\"\n",
    "    Loop through facets in Trove API response, saving terms and counts.\n",
    "    Parameters:\n",
    "        data  - JSON formatted response data from Trove API\n",
    "    Returns:\n",
    "        A list of dictionaries containing: 'year', 'total_results'\n",
    "    \"\"\"\n",
    "    facets = []\n",
    "    try:\n",
    "        # The facets are buried a fair way down in the results\n",
    "        # Note that if you ask for more than one facet, you'll have use the facet['name'] param to find the one you want\n",
    "        # In this case there's only one facet, so we can just grab the list of terms (which are in fact the results by year)\n",
    "        for term in data[\"response\"][\"zone\"][0][\"facets\"][\"facet\"][\"term\"]:\n",
    "\n",
    "            # Get the year and the number of results, and convert them to integers, before adding to our results\n",
    "            facets.append(\n",
    "                {\"year\": int(term[\"search\"]), \"total_results\": int(term[\"count\"])}\n",
    "            )\n",
    "\n",
    "        # Sort facets by year\n",
    "        facets.sort(key=itemgetter(\"year\"))\n",
    "    except TypeError:\n",
    "        pass\n",
    "    return facets"
   ]
  },
  {
   "cell_type": "markdown",
   "metadata": {},
   "source": [
    "Now we'll define a function to loop through the decades, processing each in turn. \n",
    "\n",
    "To loop through the decades we need to define start and end points. Trove includes newspapers from 1803 right through until the current decade. Note that Trove expects decades to be specified using the first three digits of a year – so the decade value for the 1800s is just `180`. So let's set our range by giving `180` and `201` to the function as our default `start_decade` and `end_decade` values. Also note that I'm defining them as numbers, not strings (no quotes around them!). This is so that we can use them to build a range.\n",
    "\n",
    "This function returns a list of dictionaries with values for `year` and `total_results`."
   ]
  },
  {
   "cell_type": "code",
   "execution_count": 7,
   "metadata": {},
   "outputs": [],
   "source": [
    "def get_facet_data(params, start_decade=180, end_decade=201):\n",
    "    \"\"\"\n",
    "    Loop throught the decades from 'start_decade' to 'end_decade',\n",
    "    getting the number of search results for each year from the year facet.\n",
    "    Combine all the results into a single list.\n",
    "    Parameters:\n",
    "        params - parameters to send to the API\n",
    "        start_decade\n",
    "        end_decade\n",
    "    Returns:\n",
    "        A list of dictionaries containing 'year', 'total_results' for the complete\n",
    "        period between the start and end decades.\n",
    "    \"\"\"\n",
    "    # Create a list to hold the facets data\n",
    "    facet_data = []\n",
    "\n",
    "    # Loop through the decades\n",
    "    for decade in tqdm(range(start_decade, end_decade + 1)):\n",
    "\n",
    "        # Avoid confusion by copying the params before we change anything.\n",
    "        search_params = params.copy()\n",
    "\n",
    "        # Add decade value to params\n",
    "        search_params[\"l-decade\"] = decade\n",
    "\n",
    "        # Get the data from the API\n",
    "        data = get_results(search_params)\n",
    "\n",
    "        # Get the facets from the data and add to facets_data\n",
    "        facet_data += get_facets(data)\n",
    "\n",
    "        # Try not to go over API rate limit - increase if you get 403 errors\n",
    "        time.sleep(0.2)\n",
    "\n",
    "    # Reomve the progress bar (you can also set leave=False in tqdm, but that still leaves white space in Jupyter Lab)\n",
    "    clear_output()\n",
    "    return facet_data"
   ]
  },
  {
   "cell_type": "code",
   "execution_count": 8,
   "metadata": {},
   "outputs": [],
   "source": [
    "# Call the function and save the results to a variable called facet_data\n",
    "facet_data = get_facet_data(params)"
   ]
  },
  {
   "cell_type": "markdown",
   "metadata": {},
   "source": [
    "For easy exploration, we'll convert the facet data into a [Pandas](https://pandas.pydata.org/) DataFrame."
   ]
  },
  {
   "cell_type": "code",
   "execution_count": 9,
   "metadata": {},
   "outputs": [
    {
     "data": {
      "text/html": [
       "<div>\n",
       "<style scoped>\n",
       "    .dataframe tbody tr th:only-of-type {\n",
       "        vertical-align: middle;\n",
       "    }\n",
       "\n",
       "    .dataframe tbody tr th {\n",
       "        vertical-align: top;\n",
       "    }\n",
       "\n",
       "    .dataframe thead th {\n",
       "        text-align: right;\n",
       "    }\n",
       "</style>\n",
       "<table border=\"1\" class=\"dataframe\">\n",
       "  <thead>\n",
       "    <tr style=\"text-align: right;\">\n",
       "      <th></th>\n",
       "      <th>year</th>\n",
       "      <th>total_results</th>\n",
       "    </tr>\n",
       "  </thead>\n",
       "  <tbody>\n",
       "    <tr>\n",
       "      <th>0</th>\n",
       "      <td>1828</td>\n",
       "      <td>2</td>\n",
       "    </tr>\n",
       "    <tr>\n",
       "      <th>1</th>\n",
       "      <td>1830</td>\n",
       "      <td>1</td>\n",
       "    </tr>\n",
       "    <tr>\n",
       "      <th>2</th>\n",
       "      <td>1831</td>\n",
       "      <td>1</td>\n",
       "    </tr>\n",
       "    <tr>\n",
       "      <th>3</th>\n",
       "      <td>1832</td>\n",
       "      <td>1</td>\n",
       "    </tr>\n",
       "    <tr>\n",
       "      <th>4</th>\n",
       "      <td>1833</td>\n",
       "      <td>2</td>\n",
       "    </tr>\n",
       "  </tbody>\n",
       "</table>\n",
       "</div>"
      ],
      "text/plain": [
       "   year  total_results\n",
       "0  1828              2\n",
       "1  1830              1\n",
       "2  1831              1\n",
       "3  1832              1\n",
       "4  1833              2"
      ]
     },
     "execution_count": 9,
     "metadata": {},
     "output_type": "execute_result"
    }
   ],
   "source": [
    "# Convert our data to a dataframe called df\n",
    "df = pd.DataFrame(facet_data)\n",
    "\n",
    "# Let's have a look at the first few rows of data\n",
    "df.head()"
   ]
  },
  {
   "cell_type": "markdown",
   "metadata": {},
   "source": [
    "Which year had the most results? We can use `idxmax()` to find out."
   ]
  },
  {
   "cell_type": "code",
   "execution_count": 10,
   "metadata": {},
   "outputs": [
    {
     "data": {
      "text/plain": [
       "year               1941\n",
       "total_results    136193\n",
       "Name: 112, dtype: int64"
      ]
     },
     "execution_count": 10,
     "metadata": {},
     "output_type": "execute_result"
    }
   ],
   "source": [
    "# Show the row that has the highest value in the 'total_results' column.\n",
    "# Use .idxmax to find the row with the highest value, then use .loc to get it\n",
    "df.loc[df[\"total_results\"].idxmax()]"
   ]
  },
  {
   "cell_type": "markdown",
   "metadata": {},
   "source": [
    "Now let's display the data as a chart using [Altair](https://altair-viz.github.io/index.html)."
   ]
  },
  {
   "cell_type": "code",
   "execution_count": 11,
   "metadata": {},
   "outputs": [
    {
     "data": {
      "text/html": [
       "\n",
       "<div id=\"altair-viz-1cb824a65016420ea65728ef95f98557\"></div>\n",
       "<script type=\"text/javascript\">\n",
       "  var VEGA_DEBUG = (typeof VEGA_DEBUG == \"undefined\") ? {} : VEGA_DEBUG;\n",
       "  (function(spec, embedOpt){\n",
       "    let outputDiv = document.currentScript.previousElementSibling;\n",
       "    if (outputDiv.id !== \"altair-viz-1cb824a65016420ea65728ef95f98557\") {\n",
       "      outputDiv = document.getElementById(\"altair-viz-1cb824a65016420ea65728ef95f98557\");\n",
       "    }\n",
       "    const paths = {\n",
       "      \"vega\": \"https://cdn.jsdelivr.net/npm//vega@5?noext\",\n",
       "      \"vega-lib\": \"https://cdn.jsdelivr.net/npm//vega-lib?noext\",\n",
       "      \"vega-lite\": \"https://cdn.jsdelivr.net/npm//vega-lite@4.17.0?noext\",\n",
       "      \"vega-embed\": \"https://cdn.jsdelivr.net/npm//vega-embed@6?noext\",\n",
       "    };\n",
       "\n",
       "    function maybeLoadScript(lib, version) {\n",
       "      var key = `${lib.replace(\"-\", \"\")}_version`;\n",
       "      return (VEGA_DEBUG[key] == version) ?\n",
       "        Promise.resolve(paths[lib]) :\n",
       "        new Promise(function(resolve, reject) {\n",
       "          var s = document.createElement('script');\n",
       "          document.getElementsByTagName(\"head\")[0].appendChild(s);\n",
       "          s.async = true;\n",
       "          s.onload = () => {\n",
       "            VEGA_DEBUG[key] = version;\n",
       "            return resolve(paths[lib]);\n",
       "          };\n",
       "          s.onerror = () => reject(`Error loading script: ${paths[lib]}`);\n",
       "          s.src = paths[lib];\n",
       "        });\n",
       "    }\n",
       "\n",
       "    function showError(err) {\n",
       "      outputDiv.innerHTML = `<div class=\"error\" style=\"color:red;\">${err}</div>`;\n",
       "      throw err;\n",
       "    }\n",
       "\n",
       "    function displayChart(vegaEmbed) {\n",
       "      vegaEmbed(outputDiv, spec, embedOpt)\n",
       "        .catch(err => showError(`Javascript Error: ${err.message}<br>This usually means there's a typo in your chart specification. See the javascript console for the full traceback.`));\n",
       "    }\n",
       "\n",
       "    if(typeof define === \"function\" && define.amd) {\n",
       "      requirejs.config({paths});\n",
       "      require([\"vega-embed\"], displayChart, err => showError(`Error loading script: ${err.message}`));\n",
       "    } else {\n",
       "      maybeLoadScript(\"vega\", \"5\")\n",
       "        .then(() => maybeLoadScript(\"vega-lite\", \"4.17.0\"))\n",
       "        .then(() => maybeLoadScript(\"vega-embed\", \"6\"))\n",
       "        .catch(showError)\n",
       "        .then(() => displayChart(vegaEmbed));\n",
       "    }\n",
       "  })({\"config\": {\"view\": {\"continuousWidth\": 400, \"continuousHeight\": 300}}, \"data\": {\"name\": \"data-d464a3fe886cae753ce14796d7c19418\"}, \"mark\": {\"type\": \"line\", \"point\": true}, \"encoding\": {\"tooltip\": [{\"field\": \"year\", \"title\": \"Year\", \"type\": \"quantitative\"}, {\"field\": \"total_results\", \"format\": \",\", \"title\": \"Articles\", \"type\": \"quantitative\"}], \"x\": {\"axis\": {\"format\": \"c\", \"title\": \"Year\"}, \"field\": \"year\", \"type\": \"quantitative\"}, \"y\": {\"axis\": {\"format\": \",d\", \"title\": \"Number of articles\"}, \"field\": \"total_results\", \"type\": \"quantitative\"}}, \"height\": 400, \"width\": 700, \"$schema\": \"https://vega.github.io/schema/vega-lite/v4.17.0.json\", \"datasets\": {\"data-d464a3fe886cae753ce14796d7c19418\": [{\"year\": 1828, \"total_results\": 2}, {\"year\": 1830, \"total_results\": 1}, {\"year\": 1831, \"total_results\": 1}, {\"year\": 1832, \"total_results\": 1}, {\"year\": 1833, \"total_results\": 2}, {\"year\": 1834, \"total_results\": 5}, {\"year\": 1835, \"total_results\": 3}, {\"year\": 1836, \"total_results\": 13}, {\"year\": 1837, \"total_results\": 8}, {\"year\": 1838, \"total_results\": 7}, {\"year\": 1839, \"total_results\": 7}, {\"year\": 1840, \"total_results\": 3}, {\"year\": 1841, \"total_results\": 30}, {\"year\": 1842, \"total_results\": 13}, {\"year\": 1843, \"total_results\": 8}, {\"year\": 1844, \"total_results\": 10}, {\"year\": 1845, \"total_results\": 15}, {\"year\": 1846, \"total_results\": 9}, {\"year\": 1847, \"total_results\": 21}, {\"year\": 1848, \"total_results\": 12}, {\"year\": 1849, \"total_results\": 25}, {\"year\": 1850, \"total_results\": 42}, {\"year\": 1851, \"total_results\": 31}, {\"year\": 1852, \"total_results\": 45}, {\"year\": 1853, \"total_results\": 113}, {\"year\": 1854, \"total_results\": 184}, {\"year\": 1855, \"total_results\": 71}, {\"year\": 1856, \"total_results\": 72}, {\"year\": 1857, \"total_results\": 86}, {\"year\": 1858, \"total_results\": 141}, {\"year\": 1859, \"total_results\": 126}, {\"year\": 1860, \"total_results\": 161}, {\"year\": 1861, \"total_results\": 189}, {\"year\": 1862, \"total_results\": 150}, {\"year\": 1863, \"total_results\": 170}, {\"year\": 1864, \"total_results\": 141}, {\"year\": 1865, \"total_results\": 134}, {\"year\": 1866, \"total_results\": 115}, {\"year\": 1867, \"total_results\": 118}, {\"year\": 1868, \"total_results\": 158}, {\"year\": 1869, \"total_results\": 156}, {\"year\": 1870, \"total_results\": 159}, {\"year\": 1871, \"total_results\": 197}, {\"year\": 1872, \"total_results\": 177}, {\"year\": 1873, \"total_results\": 203}, {\"year\": 1874, \"total_results\": 225}, {\"year\": 1875, \"total_results\": 262}, {\"year\": 1876, \"total_results\": 284}, {\"year\": 1877, \"total_results\": 346}, {\"year\": 1878, \"total_results\": 335}, {\"year\": 1879, \"total_results\": 380}, {\"year\": 1880, \"total_results\": 365}, {\"year\": 1881, \"total_results\": 513}, {\"year\": 1882, \"total_results\": 458}, {\"year\": 1883, \"total_results\": 630}, {\"year\": 1884, \"total_results\": 597}, {\"year\": 1885, \"total_results\": 640}, {\"year\": 1886, \"total_results\": 720}, {\"year\": 1887, \"total_results\": 675}, {\"year\": 1888, \"total_results\": 806}, {\"year\": 1889, \"total_results\": 786}, {\"year\": 1890, \"total_results\": 841}, {\"year\": 1891, \"total_results\": 806}, {\"year\": 1892, \"total_results\": 830}, {\"year\": 1893, \"total_results\": 848}, {\"year\": 1894, \"total_results\": 899}, {\"year\": 1895, \"total_results\": 964}, {\"year\": 1896, \"total_results\": 1066}, {\"year\": 1897, \"total_results\": 1075}, {\"year\": 1898, \"total_results\": 969}, {\"year\": 1899, \"total_results\": 979}, {\"year\": 1900, \"total_results\": 928}, {\"year\": 1901, \"total_results\": 959}, {\"year\": 1902, \"total_results\": 1065}, {\"year\": 1903, \"total_results\": 1259}, {\"year\": 1904, \"total_results\": 1748}, {\"year\": 1905, \"total_results\": 1862}, {\"year\": 1906, \"total_results\": 2210}, {\"year\": 1907, \"total_results\": 2008}, {\"year\": 1908, \"total_results\": 1594}, {\"year\": 1909, \"total_results\": 2109}, {\"year\": 1910, \"total_results\": 2733}, {\"year\": 1911, \"total_results\": 3380}, {\"year\": 1912, \"total_results\": 3835}, {\"year\": 1913, \"total_results\": 4217}, {\"year\": 1914, \"total_results\": 4835}, {\"year\": 1915, \"total_results\": 4528}, {\"year\": 1916, \"total_results\": 3800}, {\"year\": 1917, \"total_results\": 3803}, {\"year\": 1918, \"total_results\": 3754}, {\"year\": 1919, \"total_results\": 4369}, {\"year\": 1920, \"total_results\": 5597}, {\"year\": 1921, \"total_results\": 5765}, {\"year\": 1922, \"total_results\": 8075}, {\"year\": 1923, \"total_results\": 12316}, {\"year\": 1924, \"total_results\": 25905}, {\"year\": 1925, \"total_results\": 39329}, {\"year\": 1926, \"total_results\": 44128}, {\"year\": 1927, \"total_results\": 55388}, {\"year\": 1928, \"total_results\": 62382}, {\"year\": 1929, \"total_results\": 62877}, {\"year\": 1930, \"total_results\": 65526}, {\"year\": 1931, \"total_results\": 67117}, {\"year\": 1932, \"total_results\": 73584}, {\"year\": 1933, \"total_results\": 80840}, {\"year\": 1934, \"total_results\": 95678}, {\"year\": 1935, \"total_results\": 103731}, {\"year\": 1936, \"total_results\": 112885}, {\"year\": 1937, \"total_results\": 125107}, {\"year\": 1938, \"total_results\": 135488}, {\"year\": 1939, \"total_results\": 132571}, {\"year\": 1940, \"total_results\": 130723}, {\"year\": 1941, \"total_results\": 136193}, {\"year\": 1942, \"total_results\": 130287}, {\"year\": 1943, \"total_results\": 125981}, {\"year\": 1944, \"total_results\": 118824}, {\"year\": 1945, \"total_results\": 119679}, {\"year\": 1946, \"total_results\": 122697}, {\"year\": 1947, \"total_results\": 129430}, {\"year\": 1948, \"total_results\": 116817}, {\"year\": 1949, \"total_results\": 122371}, {\"year\": 1950, \"total_results\": 121356}, {\"year\": 1951, \"total_results\": 108884}, {\"year\": 1952, \"total_results\": 107346}, {\"year\": 1953, \"total_results\": 120465}, {\"year\": 1954, \"total_results\": 130321}, {\"year\": 1955, \"total_results\": 12298}, {\"year\": 1956, \"total_results\": 9952}, {\"year\": 1957, \"total_results\": 5977}, {\"year\": 1958, \"total_results\": 6254}, {\"year\": 1959, \"total_results\": 6045}, {\"year\": 1960, \"total_results\": 6146}, {\"year\": 1961, \"total_results\": 5503}, {\"year\": 1962, \"total_results\": 5410}, {\"year\": 1963, \"total_results\": 6531}, {\"year\": 1964, \"total_results\": 5780}, {\"year\": 1965, \"total_results\": 6312}, {\"year\": 1966, \"total_results\": 5839}, {\"year\": 1967, \"total_results\": 5675}, {\"year\": 1968, \"total_results\": 5912}, {\"year\": 1969, \"total_results\": 7238}, {\"year\": 1970, \"total_results\": 7506}, {\"year\": 1971, \"total_results\": 7192}, {\"year\": 1972, \"total_results\": 7452}, {\"year\": 1973, \"total_results\": 6860}, {\"year\": 1974, \"total_results\": 6811}, {\"year\": 1975, \"total_results\": 6789}, {\"year\": 1976, \"total_results\": 7341}, {\"year\": 1977, \"total_results\": 7640}, {\"year\": 1978, \"total_results\": 7697}, {\"year\": 1979, \"total_results\": 7868}, {\"year\": 1980, \"total_results\": 7622}, {\"year\": 1981, \"total_results\": 7194}, {\"year\": 1982, \"total_results\": 6068}, {\"year\": 1983, \"total_results\": 5997}, {\"year\": 1984, \"total_results\": 6228}, {\"year\": 1985, \"total_results\": 6248}, {\"year\": 1986, \"total_results\": 6220}, {\"year\": 1987, \"total_results\": 6196}, {\"year\": 1988, \"total_results\": 6576}, {\"year\": 1989, \"total_results\": 6002}, {\"year\": 1990, \"total_results\": 5806}, {\"year\": 1991, \"total_results\": 5999}, {\"year\": 1992, \"total_results\": 5403}, {\"year\": 1993, \"total_results\": 5114}, {\"year\": 1994, \"total_results\": 4776}, {\"year\": 1995, \"total_results\": 4822}, {\"year\": 1996, \"total_results\": 997}, {\"year\": 1997, \"total_results\": 1062}, {\"year\": 1998, \"total_results\": 1253}, {\"year\": 1999, \"total_results\": 1588}, {\"year\": 2000, \"total_results\": 1057}, {\"year\": 2001, \"total_results\": 941}, {\"year\": 2002, \"total_results\": 937}, {\"year\": 2003, \"total_results\": 765}, {\"year\": 2004, \"total_results\": 645}, {\"year\": 2005, \"total_results\": 491}, {\"year\": 2006, \"total_results\": 511}, {\"year\": 2007, \"total_results\": 449}, {\"year\": 2008, \"total_results\": 420}, {\"year\": 2009, \"total_results\": 114}, {\"year\": 2010, \"total_results\": 122}, {\"year\": 2011, \"total_results\": 96}, {\"year\": 2012, \"total_results\": 90}, {\"year\": 2013, \"total_results\": 78}, {\"year\": 2014, \"total_results\": 73}, {\"year\": 2015, \"total_results\": 64}, {\"year\": 2016, \"total_results\": 16}, {\"year\": 2017, \"total_results\": 19}, {\"year\": 2018, \"total_results\": 13}, {\"year\": 2019, \"total_results\": 16}]}}, {\"mode\": \"vega-lite\"});\n",
       "</script>"
      ],
      "text/plain": [
       "alt.Chart(...)"
      ]
     },
     "execution_count": 11,
     "metadata": {},
     "output_type": "execute_result"
    }
   ],
   "source": [
    "alt.Chart(df).mark_line(point=True).encode(\n",
    "    # Years on the X axis\n",
    "    x=alt.X(\"year:Q\", axis=alt.Axis(format=\"c\", title=\"Year\")),\n",
    "    # Number of articles on the Y axis\n",
    "    y=alt.Y(\"total_results:Q\", axis=alt.Axis(format=\",d\", title=\"Number of articles\")),\n",
    "    # Display details when you hover over a point\n",
    "    tooltip=[\n",
    "        alt.Tooltip(\"year:Q\", title=\"Year\"),\n",
    "        alt.Tooltip(\"total_results:Q\", title=\"Articles\", format=\",\"),\n",
    "    ],\n",
    ").properties(width=700, height=400)"
   ]
  },
  {
   "cell_type": "markdown",
   "metadata": {},
   "source": [
    "No suprise to see a sudden increase in the use of the word 'radio' in the early decades of the 20th century, but why do the results drop away after 1954? To find out we have to dig a bit deeper into Trove."
   ]
  },
  {
   "cell_type": "markdown",
   "metadata": {},
   "source": [
    "## 3. How many articles in total were published each year?"
   ]
  },
  {
   "cell_type": "markdown",
   "metadata": {},
   "source": [
    "Ok, we've visualised a search in Trove's digitised newspapers. Our chart shows a clear change in the number of articles over time, but are we really observing a historical shift relating to the topic, or is this just because more newspapers were published at particular times? To explore this further, let's create another chart, but this time we'll search for *everything*. The way we do this is by setting the `q` parameter to ' ' – a single space.\n",
    "\n",
    "First let's get the data."
   ]
  },
  {
   "cell_type": "code",
   "execution_count": 12,
   "metadata": {},
   "outputs": [],
   "source": [
    "# Reset the 'q' parameter\n",
    "# Use a an empty search (a single space) to get ALL THE ARTICLES\n",
    "params[\"q\"] = \" \"\n",
    "\n",
    "# Get facet data for all articles\n",
    "all_facet_data = get_facet_data(params)"
   ]
  },
  {
   "cell_type": "markdown",
   "metadata": {},
   "source": [
    "Now let's create the chart."
   ]
  },
  {
   "cell_type": "code",
   "execution_count": 13,
   "metadata": {},
   "outputs": [
    {
     "data": {
      "text/html": [
       "\n",
       "<div id=\"altair-viz-b8d3715230b64a23b6053b845cd78c8a\"></div>\n",
       "<script type=\"text/javascript\">\n",
       "  var VEGA_DEBUG = (typeof VEGA_DEBUG == \"undefined\") ? {} : VEGA_DEBUG;\n",
       "  (function(spec, embedOpt){\n",
       "    let outputDiv = document.currentScript.previousElementSibling;\n",
       "    if (outputDiv.id !== \"altair-viz-b8d3715230b64a23b6053b845cd78c8a\") {\n",
       "      outputDiv = document.getElementById(\"altair-viz-b8d3715230b64a23b6053b845cd78c8a\");\n",
       "    }\n",
       "    const paths = {\n",
       "      \"vega\": \"https://cdn.jsdelivr.net/npm//vega@5?noext\",\n",
       "      \"vega-lib\": \"https://cdn.jsdelivr.net/npm//vega-lib?noext\",\n",
       "      \"vega-lite\": \"https://cdn.jsdelivr.net/npm//vega-lite@4.17.0?noext\",\n",
       "      \"vega-embed\": \"https://cdn.jsdelivr.net/npm//vega-embed@6?noext\",\n",
       "    };\n",
       "\n",
       "    function maybeLoadScript(lib, version) {\n",
       "      var key = `${lib.replace(\"-\", \"\")}_version`;\n",
       "      return (VEGA_DEBUG[key] == version) ?\n",
       "        Promise.resolve(paths[lib]) :\n",
       "        new Promise(function(resolve, reject) {\n",
       "          var s = document.createElement('script');\n",
       "          document.getElementsByTagName(\"head\")[0].appendChild(s);\n",
       "          s.async = true;\n",
       "          s.onload = () => {\n",
       "            VEGA_DEBUG[key] = version;\n",
       "            return resolve(paths[lib]);\n",
       "          };\n",
       "          s.onerror = () => reject(`Error loading script: ${paths[lib]}`);\n",
       "          s.src = paths[lib];\n",
       "        });\n",
       "    }\n",
       "\n",
       "    function showError(err) {\n",
       "      outputDiv.innerHTML = `<div class=\"error\" style=\"color:red;\">${err}</div>`;\n",
       "      throw err;\n",
       "    }\n",
       "\n",
       "    function displayChart(vegaEmbed) {\n",
       "      vegaEmbed(outputDiv, spec, embedOpt)\n",
       "        .catch(err => showError(`Javascript Error: ${err.message}<br>This usually means there's a typo in your chart specification. See the javascript console for the full traceback.`));\n",
       "    }\n",
       "\n",
       "    if(typeof define === \"function\" && define.amd) {\n",
       "      requirejs.config({paths});\n",
       "      require([\"vega-embed\"], displayChart, err => showError(`Error loading script: ${err.message}`));\n",
       "    } else {\n",
       "      maybeLoadScript(\"vega\", \"5\")\n",
       "        .then(() => maybeLoadScript(\"vega-lite\", \"4.17.0\"))\n",
       "        .then(() => maybeLoadScript(\"vega-embed\", \"6\"))\n",
       "        .catch(showError)\n",
       "        .then(() => displayChart(vegaEmbed));\n",
       "    }\n",
       "  })({\"config\": {\"view\": {\"continuousWidth\": 400, \"continuousHeight\": 300}}, \"data\": {\"name\": \"data-80cb15ebe5b3340311e3df57d3571b80\"}, \"mark\": {\"type\": \"line\", \"point\": true}, \"encoding\": {\"tooltip\": [{\"field\": \"year\", \"title\": \"Year\", \"type\": \"quantitative\"}, {\"field\": \"total_results\", \"format\": \",\", \"title\": \"Articles\", \"type\": \"quantitative\"}], \"x\": {\"axis\": {\"format\": \"c\", \"title\": \"Year\"}, \"field\": \"year\", \"type\": \"quantitative\"}, \"y\": {\"axis\": {\"format\": \",d\", \"title\": \"Number of articles\"}, \"field\": \"total_results\", \"type\": \"quantitative\"}}, \"height\": 400, \"width\": 700, \"$schema\": \"https://vega.github.io/schema/vega-lite/v4.17.0.json\", \"datasets\": {\"data-80cb15ebe5b3340311e3df57d3571b80\": [{\"year\": 1803, \"total_results\": 526}, {\"year\": 1804, \"total_results\": 619}, {\"year\": 1805, \"total_results\": 430}, {\"year\": 1806, \"total_results\": 367}, {\"year\": 1807, \"total_results\": 134}, {\"year\": 1808, \"total_results\": 155}, {\"year\": 1809, \"total_results\": 237}, {\"year\": 1810, \"total_results\": 274}, {\"year\": 1811, \"total_results\": 228}, {\"year\": 1812, \"total_results\": 215}, {\"year\": 1813, \"total_results\": 234}, {\"year\": 1814, \"total_results\": 239}, {\"year\": 1815, \"total_results\": 226}, {\"year\": 1816, \"total_results\": 644}, {\"year\": 1817, \"total_results\": 1068}, {\"year\": 1818, \"total_results\": 1249}, {\"year\": 1819, \"total_results\": 1152}, {\"year\": 1820, \"total_results\": 1275}, {\"year\": 1821, \"total_results\": 1005}, {\"year\": 1822, \"total_results\": 1033}, {\"year\": 1823, \"total_results\": 1156}, {\"year\": 1824, \"total_results\": 1646}, {\"year\": 1825, \"total_results\": 3366}, {\"year\": 1826, \"total_results\": 5201}, {\"year\": 1827, \"total_results\": 6618}, {\"year\": 1828, \"total_results\": 7335}, {\"year\": 1829, \"total_results\": 8935}, {\"year\": 1830, \"total_results\": 8977}, {\"year\": 1831, \"total_results\": 10989}, {\"year\": 1832, \"total_results\": 14814}, {\"year\": 1833, \"total_results\": 15622}, {\"year\": 1834, \"total_results\": 18704}, {\"year\": 1835, \"total_results\": 20389}, {\"year\": 1836, \"total_results\": 20553}, {\"year\": 1837, \"total_results\": 21805}, {\"year\": 1838, \"total_results\": 25911}, {\"year\": 1839, \"total_results\": 32876}, {\"year\": 1840, \"total_results\": 42411}, {\"year\": 1841, \"total_results\": 46377}, {\"year\": 1842, \"total_results\": 47934}, {\"year\": 1843, \"total_results\": 49913}, {\"year\": 1844, \"total_results\": 54331}, {\"year\": 1845, \"total_results\": 63389}, {\"year\": 1846, \"total_results\": 62153}, {\"year\": 1847, \"total_results\": 62767}, {\"year\": 1848, \"total_results\": 63463}, {\"year\": 1849, \"total_results\": 62794}, {\"year\": 1850, \"total_results\": 81624}, {\"year\": 1851, \"total_results\": 96566}, {\"year\": 1852, \"total_results\": 79960}, {\"year\": 1853, \"total_results\": 96033}, {\"year\": 1854, \"total_results\": 118883}, {\"year\": 1855, \"total_results\": 159947}, {\"year\": 1856, \"total_results\": 168695}, {\"year\": 1857, \"total_results\": 175343}, {\"year\": 1858, \"total_results\": 178765}, {\"year\": 1859, \"total_results\": 202996}, {\"year\": 1860, \"total_results\": 214554}, {\"year\": 1861, \"total_results\": 237976}, {\"year\": 1862, \"total_results\": 244694}, {\"year\": 1863, \"total_results\": 251706}, {\"year\": 1864, \"total_results\": 264282}, {\"year\": 1865, \"total_results\": 283302}, {\"year\": 1866, \"total_results\": 289342}, {\"year\": 1867, \"total_results\": 297136}, {\"year\": 1868, \"total_results\": 304914}, {\"year\": 1869, \"total_results\": 327192}, {\"year\": 1870, \"total_results\": 373286}, {\"year\": 1871, \"total_results\": 359781}, {\"year\": 1872, \"total_results\": 383784}, {\"year\": 1873, \"total_results\": 420951}, {\"year\": 1874, \"total_results\": 436788}, {\"year\": 1875, \"total_results\": 466891}, {\"year\": 1876, \"total_results\": 477911}, {\"year\": 1877, \"total_results\": 499944}, {\"year\": 1878, \"total_results\": 569203}, {\"year\": 1879, \"total_results\": 607530}, {\"year\": 1880, \"total_results\": 624376}, {\"year\": 1881, \"total_results\": 667930}, {\"year\": 1882, \"total_results\": 745914}, {\"year\": 1883, \"total_results\": 778865}, {\"year\": 1884, \"total_results\": 858553}, {\"year\": 1885, \"total_results\": 911515}, {\"year\": 1886, \"total_results\": 994828}, {\"year\": 1887, \"total_results\": 1043492}, {\"year\": 1888, \"total_results\": 1162025}, {\"year\": 1889, \"total_results\": 1252262}, {\"year\": 1890, \"total_results\": 1357654}, {\"year\": 1891, \"total_results\": 1429274}, {\"year\": 1892, \"total_results\": 1486705}, {\"year\": 1893, \"total_results\": 1510849}, {\"year\": 1894, \"total_results\": 1560809}, {\"year\": 1895, \"total_results\": 1678554}, {\"year\": 1896, \"total_results\": 1798582}, {\"year\": 1897, \"total_results\": 1918088}, {\"year\": 1898, \"total_results\": 2141840}, {\"year\": 1899, \"total_results\": 2308829}, {\"year\": 1900, \"total_results\": 2539736}, {\"year\": 1901, \"total_results\": 2618191}, {\"year\": 1902, \"total_results\": 2674429}, {\"year\": 1903, \"total_results\": 2713889}, {\"year\": 1904, \"total_results\": 2878677}, {\"year\": 1905, \"total_results\": 3009076}, {\"year\": 1906, \"total_results\": 3057500}, {\"year\": 1907, \"total_results\": 3205575}, {\"year\": 1908, \"total_results\": 3314151}, {\"year\": 1909, \"total_results\": 3379982}, {\"year\": 1910, \"total_results\": 3613826}, {\"year\": 1911, \"total_results\": 3740413}, {\"year\": 1912, \"total_results\": 3890753}, {\"year\": 1913, \"total_results\": 3957073}, {\"year\": 1914, \"total_results\": 4654167}, {\"year\": 1915, \"total_results\": 4751447}, {\"year\": 1916, \"total_results\": 4346277}, {\"year\": 1917, \"total_results\": 4239223}, {\"year\": 1918, \"total_results\": 4016436}, {\"year\": 1919, \"total_results\": 3486517}, {\"year\": 1920, \"total_results\": 3237978}, {\"year\": 1921, \"total_results\": 3435873}, {\"year\": 1922, \"total_results\": 3562135}, {\"year\": 1923, \"total_results\": 3828641}, {\"year\": 1924, \"total_results\": 4125328}, {\"year\": 1925, \"total_results\": 4086958}, {\"year\": 1926, \"total_results\": 4069533}, {\"year\": 1927, \"total_results\": 4126770}, {\"year\": 1928, \"total_results\": 4234586}, {\"year\": 1929, \"total_results\": 4460722}, {\"year\": 1930, \"total_results\": 4315190}, {\"year\": 1931, \"total_results\": 3941724}, {\"year\": 1932, \"total_results\": 3890710}, {\"year\": 1933, \"total_results\": 4069854}, {\"year\": 1934, \"total_results\": 4183589}, {\"year\": 1935, \"total_results\": 4271382}, {\"year\": 1936, \"total_results\": 4377987}, {\"year\": 1937, \"total_results\": 4371925}, {\"year\": 1938, \"total_results\": 4359675}, {\"year\": 1939, \"total_results\": 4140014}, {\"year\": 1940, \"total_results\": 3497071}, {\"year\": 1941, \"total_results\": 3082401}, {\"year\": 1942, \"total_results\": 2470102}, {\"year\": 1943, \"total_results\": 2191842}, {\"year\": 1944, \"total_results\": 2233365}, {\"year\": 1945, \"total_results\": 2412554}, {\"year\": 1946, \"total_results\": 2748052}, {\"year\": 1947, \"total_results\": 2851317}, {\"year\": 1948, \"total_results\": 2610229}, {\"year\": 1949, \"total_results\": 2867051}, {\"year\": 1950, \"total_results\": 2812464}, {\"year\": 1951, \"total_results\": 2554766}, {\"year\": 1952, \"total_results\": 2608800}, {\"year\": 1953, \"total_results\": 2755677}, {\"year\": 1954, \"total_results\": 2787339}, {\"year\": 1955, \"total_results\": 279909}, {\"year\": 1956, \"total_results\": 199416}, {\"year\": 1957, \"total_results\": 126201}, {\"year\": 1958, \"total_results\": 126115}, {\"year\": 1959, \"total_results\": 121259}, {\"year\": 1960, \"total_results\": 115050}, {\"year\": 1961, \"total_results\": 109239}, {\"year\": 1962, \"total_results\": 108575}, {\"year\": 1963, \"total_results\": 118702}, {\"year\": 1964, \"total_results\": 120392}, {\"year\": 1965, \"total_results\": 126432}, {\"year\": 1966, \"total_results\": 123452}, {\"year\": 1967, \"total_results\": 118503}, {\"year\": 1968, \"total_results\": 124919}, {\"year\": 1969, \"total_results\": 151689}, {\"year\": 1970, \"total_results\": 166785}, {\"year\": 1971, \"total_results\": 165077}, {\"year\": 1972, \"total_results\": 164687}, {\"year\": 1973, \"total_results\": 161814}, {\"year\": 1974, \"total_results\": 159025}, {\"year\": 1975, \"total_results\": 148204}, {\"year\": 1976, \"total_results\": 148816}, {\"year\": 1977, \"total_results\": 151194}, {\"year\": 1978, \"total_results\": 159199}, {\"year\": 1979, \"total_results\": 167101}, {\"year\": 1980, \"total_results\": 165664}, {\"year\": 1981, \"total_results\": 142781}, {\"year\": 1982, \"total_results\": 130222}, {\"year\": 1983, \"total_results\": 117491}, {\"year\": 1984, \"total_results\": 118615}, {\"year\": 1985, \"total_results\": 128586}, {\"year\": 1986, \"total_results\": 128312}, {\"year\": 1987, \"total_results\": 127591}, {\"year\": 1988, \"total_results\": 136944}, {\"year\": 1989, \"total_results\": 140206}, {\"year\": 1990, \"total_results\": 132596}, {\"year\": 1991, \"total_results\": 131729}, {\"year\": 1992, \"total_results\": 137422}, {\"year\": 1993, \"total_results\": 137978}, {\"year\": 1994, \"total_results\": 133420}, {\"year\": 1995, \"total_results\": 132425}, {\"year\": 1996, \"total_results\": 47101}, {\"year\": 1997, \"total_results\": 49822}, {\"year\": 1998, \"total_results\": 56947}, {\"year\": 1999, \"total_results\": 67005}, {\"year\": 2000, \"total_results\": 44770}, {\"year\": 2001, \"total_results\": 42081}, {\"year\": 2002, \"total_results\": 42631}, {\"year\": 2003, \"total_results\": 24075}, {\"year\": 2004, \"total_results\": 22072}, {\"year\": 2005, \"total_results\": 18071}, {\"year\": 2006, \"total_results\": 17708}, {\"year\": 2007, \"total_results\": 18719}, {\"year\": 2008, \"total_results\": 17059}, {\"year\": 2009, \"total_results\": 5762}, {\"year\": 2010, \"total_results\": 5794}, {\"year\": 2011, \"total_results\": 5386}, {\"year\": 2012, \"total_results\": 4832}, {\"year\": 2013, \"total_results\": 4904}, {\"year\": 2014, \"total_results\": 4718}, {\"year\": 2015, \"total_results\": 4819}, {\"year\": 2016, \"total_results\": 1422}, {\"year\": 2017, \"total_results\": 1094}, {\"year\": 2018, \"total_results\": 1100}, {\"year\": 2019, \"total_results\": 1153}]}}, {\"mode\": \"vega-lite\"});\n",
       "</script>"
      ],
      "text/plain": [
       "alt.Chart(...)"
      ]
     },
     "execution_count": 13,
     "metadata": {},
     "output_type": "execute_result"
    }
   ],
   "source": [
    "# Convert the results to a dataframe\n",
    "df_total = pd.DataFrame(all_facet_data)\n",
    "\n",
    "# Make a chart\n",
    "alt.Chart(df_total).mark_line(point=True).encode(\n",
    "    # Display the years along the X axis\n",
    "    x=alt.X(\"year:Q\", axis=alt.Axis(format=\"c\", title=\"Year\")),\n",
    "    # Display the number of results on the Y axis (formatted using thousands separator)\n",
    "    y=alt.Y(\"total_results:Q\", axis=alt.Axis(format=\",d\", title=\"Number of articles\")),\n",
    "    # Create a tooltip when you hover over a point to show the data for that year\n",
    "    tooltip=[\n",
    "        alt.Tooltip(\"year:Q\", title=\"Year\"),\n",
    "        alt.Tooltip(\"total_results:Q\", title=\"Articles\", format=\",\"),\n",
    "    ],\n",
    ").properties(width=700, height=400)"
   ]
  },
  {
   "cell_type": "markdown",
   "metadata": {},
   "source": [
    "This chart shows us the total number of newspaper articles in Trove for each year from 1803 to 2013. As you might expect, there's a steady increase in the number of articles published across the 19th century. But why is there such a notable peak in 1915, and why do the numbers drop away so suddenly in 1955? The answers are explored more fully in [this notebook](visualise-total-newspaper-articles-by-state-year.ipynb), but in short they're a reflection of digitisation priorities and copyright restrictions – they're artefacts of the environment in which Trove's newspapers are digitised.\n",
    "\n",
    "The important point is that our original chart showing search results over time is distorted by these underlying features. Radios didn't suddenly go out of fashion in 1955!"
   ]
  },
  {
   "cell_type": "markdown",
   "metadata": {},
   "source": [
    "## 4. Charting our search results as a proportion of total articles\n",
    "\n",
    "One way of lessening the impact of these distortions is to show the number of search results as a proportion of the total number of articles available on Trove from that year. We've just harvested the total number of articles, so to get the proportion all we have to do is divide the original number of search results for each year by the total number of articles. Again, Pandas makes this sort of manipulation easy.\n",
    "\n",
    "Below we'll define a function that takes two dataframes – the search results, and the total results – merges them, and then calculates what proportion of the total that the search results represent."
   ]
  },
  {
   "cell_type": "code",
   "execution_count": 14,
   "metadata": {},
   "outputs": [],
   "source": [
    "def merge_df_with_total(df, df_total):\n",
    "    \"\"\"\n",
    "    Merge dataframes containing search results with the total number of articles by year.\n",
    "    This is a left join on the year column. The total number of articles will be added as a column to\n",
    "    the existing results.\n",
    "    Once merged, do some reorganisation and calculate the proportion of search results.\n",
    "    Parameters:\n",
    "        df - the search results in a dataframe\n",
    "        df_total - total number of articles per year in a dataframe\n",
    "    Returns:\n",
    "        A dataframe with the following columns - 'year', 'total_results', 'total_articles', 'proportion'\n",
    "        (plus any other columns that are in the search results dataframe).\n",
    "    \"\"\"\n",
    "    # Merge the two dataframes on year\n",
    "    # Note that we're joining the two dataframes on the year column\n",
    "    df_merged = pd.merge(df, df_total, how=\"left\", on=\"year\")\n",
    "\n",
    "    # Rename the columns for convenience\n",
    "    df_merged.rename(\n",
    "        {\"total_results_y\": \"total_articles\"}, inplace=True, axis=\"columns\"\n",
    "    )\n",
    "    df_merged.rename({\"total_results_x\": \"total_results\"}, inplace=True, axis=\"columns\")\n",
    "\n",
    "    # Set blank values to zero to avoid problems\n",
    "    df_merged[\"total_results\"] = df_merged[\"total_results\"].fillna(0).astype(int)\n",
    "\n",
    "    # Calculate proportion by dividing the search results by the total articles\n",
    "    df_merged[\"proportion\"] = df_merged[\"total_results\"] / df_merged[\"total_articles\"]\n",
    "    return df_merged"
   ]
  },
  {
   "cell_type": "markdown",
   "metadata": {},
   "source": [
    "Let's merge!"
   ]
  },
  {
   "cell_type": "code",
   "execution_count": 15,
   "metadata": {},
   "outputs": [
    {
     "data": {
      "text/html": [
       "<div>\n",
       "<style scoped>\n",
       "    .dataframe tbody tr th:only-of-type {\n",
       "        vertical-align: middle;\n",
       "    }\n",
       "\n",
       "    .dataframe tbody tr th {\n",
       "        vertical-align: top;\n",
       "    }\n",
       "\n",
       "    .dataframe thead th {\n",
       "        text-align: right;\n",
       "    }\n",
       "</style>\n",
       "<table border=\"1\" class=\"dataframe\">\n",
       "  <thead>\n",
       "    <tr style=\"text-align: right;\">\n",
       "      <th></th>\n",
       "      <th>year</th>\n",
       "      <th>total_results</th>\n",
       "      <th>total_articles</th>\n",
       "      <th>proportion</th>\n",
       "    </tr>\n",
       "  </thead>\n",
       "  <tbody>\n",
       "    <tr>\n",
       "      <th>0</th>\n",
       "      <td>1828</td>\n",
       "      <td>2</td>\n",
       "      <td>7335</td>\n",
       "      <td>0.000273</td>\n",
       "    </tr>\n",
       "    <tr>\n",
       "      <th>1</th>\n",
       "      <td>1830</td>\n",
       "      <td>1</td>\n",
       "      <td>8977</td>\n",
       "      <td>0.000111</td>\n",
       "    </tr>\n",
       "    <tr>\n",
       "      <th>2</th>\n",
       "      <td>1831</td>\n",
       "      <td>1</td>\n",
       "      <td>10989</td>\n",
       "      <td>0.000091</td>\n",
       "    </tr>\n",
       "    <tr>\n",
       "      <th>3</th>\n",
       "      <td>1832</td>\n",
       "      <td>1</td>\n",
       "      <td>14814</td>\n",
       "      <td>0.000068</td>\n",
       "    </tr>\n",
       "    <tr>\n",
       "      <th>4</th>\n",
       "      <td>1833</td>\n",
       "      <td>2</td>\n",
       "      <td>15622</td>\n",
       "      <td>0.000128</td>\n",
       "    </tr>\n",
       "  </tbody>\n",
       "</table>\n",
       "</div>"
      ],
      "text/plain": [
       "   year  total_results  total_articles  proportion\n",
       "0  1828              2            7335    0.000273\n",
       "1  1830              1            8977    0.000111\n",
       "2  1831              1           10989    0.000091\n",
       "3  1832              1           14814    0.000068\n",
       "4  1833              2           15622    0.000128"
      ]
     },
     "execution_count": 15,
     "metadata": {},
     "output_type": "execute_result"
    }
   ],
   "source": [
    "# Merge the search results with the total articles\n",
    "df_merged = merge_df_with_total(df, df_total)\n",
    "df_merged.head()"
   ]
  },
  {
   "cell_type": "markdown",
   "metadata": {},
   "source": [
    "Now we have a new dataframe `df_merged` that includes both the raw number of search results for each year, and the proportion the results represent of the total number of articles on Trove. Let's create charts for both and look at the diferences."
   ]
  },
  {
   "cell_type": "code",
   "execution_count": 16,
   "metadata": {},
   "outputs": [
    {
     "data": {
      "text/html": [
       "\n",
       "<div id=\"altair-viz-12dcd47bae5f428aa10b4607dd0bf700\"></div>\n",
       "<script type=\"text/javascript\">\n",
       "  var VEGA_DEBUG = (typeof VEGA_DEBUG == \"undefined\") ? {} : VEGA_DEBUG;\n",
       "  (function(spec, embedOpt){\n",
       "    let outputDiv = document.currentScript.previousElementSibling;\n",
       "    if (outputDiv.id !== \"altair-viz-12dcd47bae5f428aa10b4607dd0bf700\") {\n",
       "      outputDiv = document.getElementById(\"altair-viz-12dcd47bae5f428aa10b4607dd0bf700\");\n",
       "    }\n",
       "    const paths = {\n",
       "      \"vega\": \"https://cdn.jsdelivr.net/npm//vega@5?noext\",\n",
       "      \"vega-lib\": \"https://cdn.jsdelivr.net/npm//vega-lib?noext\",\n",
       "      \"vega-lite\": \"https://cdn.jsdelivr.net/npm//vega-lite@4.17.0?noext\",\n",
       "      \"vega-embed\": \"https://cdn.jsdelivr.net/npm//vega-embed@6?noext\",\n",
       "    };\n",
       "\n",
       "    function maybeLoadScript(lib, version) {\n",
       "      var key = `${lib.replace(\"-\", \"\")}_version`;\n",
       "      return (VEGA_DEBUG[key] == version) ?\n",
       "        Promise.resolve(paths[lib]) :\n",
       "        new Promise(function(resolve, reject) {\n",
       "          var s = document.createElement('script');\n",
       "          document.getElementsByTagName(\"head\")[0].appendChild(s);\n",
       "          s.async = true;\n",
       "          s.onload = () => {\n",
       "            VEGA_DEBUG[key] = version;\n",
       "            return resolve(paths[lib]);\n",
       "          };\n",
       "          s.onerror = () => reject(`Error loading script: ${paths[lib]}`);\n",
       "          s.src = paths[lib];\n",
       "        });\n",
       "    }\n",
       "\n",
       "    function showError(err) {\n",
       "      outputDiv.innerHTML = `<div class=\"error\" style=\"color:red;\">${err}</div>`;\n",
       "      throw err;\n",
       "    }\n",
       "\n",
       "    function displayChart(vegaEmbed) {\n",
       "      vegaEmbed(outputDiv, spec, embedOpt)\n",
       "        .catch(err => showError(`Javascript Error: ${err.message}<br>This usually means there's a typo in your chart specification. See the javascript console for the full traceback.`));\n",
       "    }\n",
       "\n",
       "    if(typeof define === \"function\" && define.amd) {\n",
       "      requirejs.config({paths});\n",
       "      require([\"vega-embed\"], displayChart, err => showError(`Error loading script: ${err.message}`));\n",
       "    } else {\n",
       "      maybeLoadScript(\"vega\", \"5\")\n",
       "        .then(() => maybeLoadScript(\"vega-lite\", \"4.17.0\"))\n",
       "        .then(() => maybeLoadScript(\"vega-embed\", \"6\"))\n",
       "        .catch(showError)\n",
       "        .then(() => displayChart(vegaEmbed));\n",
       "    }\n",
       "  })({\"config\": {\"view\": {\"continuousWidth\": 400, \"continuousHeight\": 300}}, \"vconcat\": [{\"data\": {\"name\": \"data-d464a3fe886cae753ce14796d7c19418\"}, \"mark\": {\"type\": \"line\", \"point\": true}, \"encoding\": {\"tooltip\": [{\"field\": \"year\", \"title\": \"Year\", \"type\": \"quantitative\"}, {\"field\": \"total_results\", \"format\": \",\", \"title\": \"Articles\", \"type\": \"quantitative\"}], \"x\": {\"axis\": {\"format\": \"c\", \"title\": \"Year\"}, \"field\": \"year\", \"type\": \"quantitative\"}, \"y\": {\"axis\": {\"format\": \",d\", \"title\": \"Number of articles\"}, \"field\": \"total_results\", \"type\": \"quantitative\"}}, \"height\": 250, \"width\": 700}, {\"data\": {\"name\": \"data-6d9d9e1d41c0d277aebc35ed7aef5a5a\"}, \"mark\": {\"type\": \"line\", \"color\": \"red\", \"point\": true}, \"encoding\": {\"color\": {\"value\": \"orange\"}, \"tooltip\": [{\"field\": \"year\", \"title\": \"Year\", \"type\": \"quantitative\"}, {\"field\": \"proportion\", \"format\": \"%\", \"title\": \"Proportion\", \"type\": \"quantitative\"}], \"x\": {\"axis\": {\"format\": \"c\", \"title\": \"Year\"}, \"field\": \"year\", \"type\": \"quantitative\"}, \"y\": {\"axis\": {\"format\": \"%\", \"title\": \"Proportion of articles\"}, \"field\": \"proportion\", \"type\": \"quantitative\"}}, \"height\": 250, \"width\": 700}], \"$schema\": \"https://vega.github.io/schema/vega-lite/v4.17.0.json\", \"datasets\": {\"data-d464a3fe886cae753ce14796d7c19418\": [{\"year\": 1828, \"total_results\": 2}, {\"year\": 1830, \"total_results\": 1}, {\"year\": 1831, \"total_results\": 1}, {\"year\": 1832, \"total_results\": 1}, {\"year\": 1833, \"total_results\": 2}, {\"year\": 1834, \"total_results\": 5}, {\"year\": 1835, \"total_results\": 3}, {\"year\": 1836, \"total_results\": 13}, {\"year\": 1837, \"total_results\": 8}, {\"year\": 1838, \"total_results\": 7}, {\"year\": 1839, \"total_results\": 7}, {\"year\": 1840, \"total_results\": 3}, {\"year\": 1841, \"total_results\": 30}, {\"year\": 1842, \"total_results\": 13}, {\"year\": 1843, \"total_results\": 8}, {\"year\": 1844, \"total_results\": 10}, {\"year\": 1845, \"total_results\": 15}, {\"year\": 1846, \"total_results\": 9}, {\"year\": 1847, \"total_results\": 21}, {\"year\": 1848, \"total_results\": 12}, {\"year\": 1849, \"total_results\": 25}, {\"year\": 1850, \"total_results\": 42}, {\"year\": 1851, \"total_results\": 31}, {\"year\": 1852, \"total_results\": 45}, {\"year\": 1853, \"total_results\": 113}, {\"year\": 1854, \"total_results\": 184}, {\"year\": 1855, \"total_results\": 71}, {\"year\": 1856, \"total_results\": 72}, {\"year\": 1857, \"total_results\": 86}, {\"year\": 1858, \"total_results\": 141}, {\"year\": 1859, \"total_results\": 126}, {\"year\": 1860, \"total_results\": 161}, {\"year\": 1861, \"total_results\": 189}, {\"year\": 1862, \"total_results\": 150}, {\"year\": 1863, \"total_results\": 170}, {\"year\": 1864, \"total_results\": 141}, {\"year\": 1865, \"total_results\": 134}, {\"year\": 1866, \"total_results\": 115}, {\"year\": 1867, \"total_results\": 118}, {\"year\": 1868, \"total_results\": 158}, {\"year\": 1869, \"total_results\": 156}, {\"year\": 1870, \"total_results\": 159}, {\"year\": 1871, \"total_results\": 197}, {\"year\": 1872, \"total_results\": 177}, {\"year\": 1873, \"total_results\": 203}, {\"year\": 1874, \"total_results\": 225}, {\"year\": 1875, \"total_results\": 262}, {\"year\": 1876, \"total_results\": 284}, {\"year\": 1877, \"total_results\": 346}, {\"year\": 1878, \"total_results\": 335}, {\"year\": 1879, \"total_results\": 380}, {\"year\": 1880, \"total_results\": 365}, {\"year\": 1881, \"total_results\": 513}, {\"year\": 1882, \"total_results\": 458}, {\"year\": 1883, \"total_results\": 630}, {\"year\": 1884, \"total_results\": 597}, {\"year\": 1885, \"total_results\": 640}, {\"year\": 1886, \"total_results\": 720}, {\"year\": 1887, \"total_results\": 675}, {\"year\": 1888, \"total_results\": 806}, {\"year\": 1889, \"total_results\": 786}, {\"year\": 1890, \"total_results\": 841}, {\"year\": 1891, \"total_results\": 806}, {\"year\": 1892, \"total_results\": 830}, {\"year\": 1893, \"total_results\": 848}, {\"year\": 1894, \"total_results\": 899}, {\"year\": 1895, \"total_results\": 964}, {\"year\": 1896, \"total_results\": 1066}, {\"year\": 1897, \"total_results\": 1075}, {\"year\": 1898, \"total_results\": 969}, {\"year\": 1899, \"total_results\": 979}, {\"year\": 1900, \"total_results\": 928}, {\"year\": 1901, \"total_results\": 959}, {\"year\": 1902, \"total_results\": 1065}, {\"year\": 1903, \"total_results\": 1259}, {\"year\": 1904, \"total_results\": 1748}, {\"year\": 1905, \"total_results\": 1862}, {\"year\": 1906, \"total_results\": 2210}, {\"year\": 1907, \"total_results\": 2008}, {\"year\": 1908, \"total_results\": 1594}, {\"year\": 1909, \"total_results\": 2109}, {\"year\": 1910, \"total_results\": 2733}, {\"year\": 1911, \"total_results\": 3380}, {\"year\": 1912, \"total_results\": 3835}, {\"year\": 1913, \"total_results\": 4217}, {\"year\": 1914, \"total_results\": 4835}, {\"year\": 1915, \"total_results\": 4528}, {\"year\": 1916, \"total_results\": 3800}, {\"year\": 1917, \"total_results\": 3803}, {\"year\": 1918, \"total_results\": 3754}, {\"year\": 1919, \"total_results\": 4369}, {\"year\": 1920, \"total_results\": 5597}, {\"year\": 1921, \"total_results\": 5765}, {\"year\": 1922, \"total_results\": 8075}, {\"year\": 1923, \"total_results\": 12316}, {\"year\": 1924, \"total_results\": 25905}, {\"year\": 1925, \"total_results\": 39329}, {\"year\": 1926, \"total_results\": 44128}, {\"year\": 1927, \"total_results\": 55388}, {\"year\": 1928, \"total_results\": 62382}, {\"year\": 1929, \"total_results\": 62877}, {\"year\": 1930, \"total_results\": 65526}, {\"year\": 1931, \"total_results\": 67117}, {\"year\": 1932, \"total_results\": 73584}, {\"year\": 1933, \"total_results\": 80840}, {\"year\": 1934, \"total_results\": 95678}, {\"year\": 1935, \"total_results\": 103731}, {\"year\": 1936, \"total_results\": 112885}, {\"year\": 1937, \"total_results\": 125107}, {\"year\": 1938, \"total_results\": 135488}, {\"year\": 1939, \"total_results\": 132571}, {\"year\": 1940, \"total_results\": 130723}, {\"year\": 1941, \"total_results\": 136193}, {\"year\": 1942, \"total_results\": 130287}, {\"year\": 1943, \"total_results\": 125981}, {\"year\": 1944, \"total_results\": 118824}, {\"year\": 1945, \"total_results\": 119679}, {\"year\": 1946, \"total_results\": 122697}, {\"year\": 1947, \"total_results\": 129430}, {\"year\": 1948, \"total_results\": 116817}, {\"year\": 1949, \"total_results\": 122371}, {\"year\": 1950, \"total_results\": 121356}, {\"year\": 1951, \"total_results\": 108884}, {\"year\": 1952, \"total_results\": 107346}, {\"year\": 1953, \"total_results\": 120465}, {\"year\": 1954, \"total_results\": 130321}, {\"year\": 1955, \"total_results\": 12298}, {\"year\": 1956, \"total_results\": 9952}, {\"year\": 1957, \"total_results\": 5977}, {\"year\": 1958, \"total_results\": 6254}, {\"year\": 1959, \"total_results\": 6045}, {\"year\": 1960, \"total_results\": 6146}, {\"year\": 1961, \"total_results\": 5503}, {\"year\": 1962, \"total_results\": 5410}, {\"year\": 1963, \"total_results\": 6531}, {\"year\": 1964, \"total_results\": 5780}, {\"year\": 1965, \"total_results\": 6312}, {\"year\": 1966, \"total_results\": 5839}, {\"year\": 1967, \"total_results\": 5675}, {\"year\": 1968, \"total_results\": 5912}, {\"year\": 1969, \"total_results\": 7238}, {\"year\": 1970, \"total_results\": 7506}, {\"year\": 1971, \"total_results\": 7192}, {\"year\": 1972, \"total_results\": 7452}, {\"year\": 1973, \"total_results\": 6860}, {\"year\": 1974, \"total_results\": 6811}, {\"year\": 1975, \"total_results\": 6789}, {\"year\": 1976, \"total_results\": 7341}, {\"year\": 1977, \"total_results\": 7640}, {\"year\": 1978, \"total_results\": 7697}, {\"year\": 1979, \"total_results\": 7868}, {\"year\": 1980, \"total_results\": 7622}, {\"year\": 1981, \"total_results\": 7194}, {\"year\": 1982, \"total_results\": 6068}, {\"year\": 1983, \"total_results\": 5997}, {\"year\": 1984, \"total_results\": 6228}, {\"year\": 1985, \"total_results\": 6248}, {\"year\": 1986, \"total_results\": 6220}, {\"year\": 1987, \"total_results\": 6196}, {\"year\": 1988, \"total_results\": 6576}, {\"year\": 1989, \"total_results\": 6002}, {\"year\": 1990, \"total_results\": 5806}, {\"year\": 1991, \"total_results\": 5999}, {\"year\": 1992, \"total_results\": 5403}, {\"year\": 1993, \"total_results\": 5114}, {\"year\": 1994, \"total_results\": 4776}, {\"year\": 1995, \"total_results\": 4822}, {\"year\": 1996, \"total_results\": 997}, {\"year\": 1997, \"total_results\": 1062}, {\"year\": 1998, \"total_results\": 1253}, {\"year\": 1999, \"total_results\": 1588}, {\"year\": 2000, \"total_results\": 1057}, {\"year\": 2001, \"total_results\": 941}, {\"year\": 2002, \"total_results\": 937}, {\"year\": 2003, \"total_results\": 765}, {\"year\": 2004, \"total_results\": 645}, {\"year\": 2005, \"total_results\": 491}, {\"year\": 2006, \"total_results\": 511}, {\"year\": 2007, \"total_results\": 449}, {\"year\": 2008, \"total_results\": 420}, {\"year\": 2009, \"total_results\": 114}, {\"year\": 2010, \"total_results\": 122}, {\"year\": 2011, \"total_results\": 96}, {\"year\": 2012, \"total_results\": 90}, {\"year\": 2013, \"total_results\": 78}, {\"year\": 2014, \"total_results\": 73}, {\"year\": 2015, \"total_results\": 64}, {\"year\": 2016, \"total_results\": 16}, {\"year\": 2017, \"total_results\": 19}, {\"year\": 2018, \"total_results\": 13}, {\"year\": 2019, \"total_results\": 16}], \"data-6d9d9e1d41c0d277aebc35ed7aef5a5a\": [{\"year\": 1828, \"total_results\": 2, \"total_articles\": 7335, \"proportion\": 0.00027266530334015}, {\"year\": 1830, \"total_results\": 1, \"total_articles\": 8977, \"proportion\": 0.00011139578923916676}, {\"year\": 1831, \"total_results\": 1, \"total_articles\": 10989, \"proportion\": 9.1000091000091e-05}, {\"year\": 1832, \"total_results\": 1, \"total_articles\": 14814, \"proportion\": 6.750371270419872e-05}, {\"year\": 1833, \"total_results\": 2, \"total_articles\": 15622, \"proportion\": 0.00012802458071949814}, {\"year\": 1834, \"total_results\": 5, \"total_articles\": 18704, \"proportion\": 0.00026732249786142}, {\"year\": 1835, \"total_results\": 3, \"total_articles\": 20389, \"proportion\": 0.000147138162734808}, {\"year\": 1836, \"total_results\": 13, \"total_articles\": 20553, \"proportion\": 0.0006325110689437065}, {\"year\": 1837, \"total_results\": 8, \"total_articles\": 21805, \"proportion\": 0.0003668883283650539}, {\"year\": 1838, \"total_results\": 7, \"total_articles\": 25911, \"proportion\": 0.00027015553239936706}, {\"year\": 1839, \"total_results\": 7, \"total_articles\": 32876, \"proportion\": 0.00021292127996106583}, {\"year\": 1840, \"total_results\": 3, \"total_articles\": 42411, \"proportion\": 7.073636556553724e-05}, {\"year\": 1841, \"total_results\": 30, \"total_articles\": 46377, \"proportion\": 0.0006468723720809885}, {\"year\": 1842, \"total_results\": 13, \"total_articles\": 47934, \"proportion\": 0.0002712062419159678}, {\"year\": 1843, \"total_results\": 8, \"total_articles\": 49913, \"proportion\": 0.000160278885260353}, {\"year\": 1844, \"total_results\": 10, \"total_articles\": 54331, \"proportion\": 0.00018405698404225948}, {\"year\": 1845, \"total_results\": 15, \"total_articles\": 63389, \"proportion\": 0.00023663411632933158}, {\"year\": 1846, \"total_results\": 9, \"total_articles\": 62153, \"proportion\": 0.00014480395153894423}, {\"year\": 1847, \"total_results\": 21, \"total_articles\": 62767, \"proportion\": 0.00033457071391017573}, {\"year\": 1848, \"total_results\": 12, \"total_articles\": 63463, \"proportion\": 0.00018908655437026298}, {\"year\": 1849, \"total_results\": 25, \"total_articles\": 62794, \"proportion\": 0.00039812720960601334}, {\"year\": 1850, \"total_results\": 42, \"total_articles\": 81624, \"proportion\": 0.0005145545427815349}, {\"year\": 1851, \"total_results\": 31, \"total_articles\": 96566, \"proportion\": 0.00032102396288548763}, {\"year\": 1852, \"total_results\": 45, \"total_articles\": 79960, \"proportion\": 0.0005627813906953476}, {\"year\": 1853, \"total_results\": 113, \"total_articles\": 96033, \"proportion\": 0.0011766788499786532}, {\"year\": 1854, \"total_results\": 184, \"total_articles\": 118883, \"proportion\": 0.0015477402151695364}, {\"year\": 1855, \"total_results\": 71, \"total_articles\": 159947, \"proportion\": 0.0004438970408947964}, {\"year\": 1856, \"total_results\": 72, \"total_articles\": 168695, \"proportion\": 0.00042680577373366133}, {\"year\": 1857, \"total_results\": 86, \"total_articles\": 175343, \"proportion\": 0.0004904672556075805}, {\"year\": 1858, \"total_results\": 141, \"total_articles\": 178765, \"proportion\": 0.0007887450004195452}, {\"year\": 1859, \"total_results\": 126, \"total_articles\": 202996, \"proportion\": 0.0006207018857514434}, {\"year\": 1860, \"total_results\": 161, \"total_articles\": 214554, \"proportion\": 0.0007503938402453462}, {\"year\": 1861, \"total_results\": 189, \"total_articles\": 237976, \"proportion\": 0.0007941977342253}, {\"year\": 1862, \"total_results\": 150, \"total_articles\": 244694, \"proportion\": 0.0006130105356077386}, {\"year\": 1863, \"total_results\": 170, \"total_articles\": 251706, \"proportion\": 0.0006753911309225843}, {\"year\": 1864, \"total_results\": 141, \"total_articles\": 264282, \"proportion\": 0.0005335210116466501}, {\"year\": 1865, \"total_results\": 134, \"total_articles\": 283302, \"proportion\": 0.0004729934839852878}, {\"year\": 1866, \"total_results\": 115, \"total_articles\": 289342, \"proportion\": 0.0003974535324978745}, {\"year\": 1867, \"total_results\": 118, \"total_articles\": 297136, \"proportion\": 0.0003971245490280545}, {\"year\": 1868, \"total_results\": 158, \"total_articles\": 304914, \"proportion\": 0.0005181788963445431}, {\"year\": 1869, \"total_results\": 156, \"total_articles\": 327192, \"proportion\": 0.0004767842734541187}, {\"year\": 1870, \"total_results\": 159, \"total_articles\": 373286, \"proportion\": 0.000425946861119892}, {\"year\": 1871, \"total_results\": 197, \"total_articles\": 359781, \"proportion\": 0.0005475553183742333}, {\"year\": 1872, \"total_results\": 177, \"total_articles\": 383784, \"proportion\": 0.000461196923269339}, {\"year\": 1873, \"total_results\": 203, \"total_articles\": 420951, \"proportion\": 0.00048224140101817077}, {\"year\": 1874, \"total_results\": 225, \"total_articles\": 436788, \"proportion\": 0.0005151240418692821}, {\"year\": 1875, \"total_results\": 262, \"total_articles\": 466891, \"proportion\": 0.0005611588143699493}, {\"year\": 1876, \"total_results\": 284, \"total_articles\": 477911, \"proportion\": 0.0005942529048295603}, {\"year\": 1877, \"total_results\": 346, \"total_articles\": 499944, \"proportion\": 0.0006920775126814204}, {\"year\": 1878, \"total_results\": 335, \"total_articles\": 569203, \"proportion\": 0.0005885422248301573}, {\"year\": 1879, \"total_results\": 380, \"total_articles\": 607530, \"proportion\": 0.0006254835152173556}, {\"year\": 1880, \"total_results\": 365, \"total_articles\": 624376, \"proportion\": 0.0005845836483144771}, {\"year\": 1881, \"total_results\": 513, \"total_articles\": 667930, \"proportion\": 0.0007680445555672002}, {\"year\": 1882, \"total_results\": 458, \"total_articles\": 745914, \"proportion\": 0.0006140118029692431}, {\"year\": 1883, \"total_results\": 630, \"total_articles\": 778865, \"proportion\": 0.0008088693162486438}, {\"year\": 1884, \"total_results\": 597, \"total_articles\": 858553, \"proportion\": 0.0006953560234487562}, {\"year\": 1885, \"total_results\": 640, \"total_articles\": 911515, \"proportion\": 0.0007021277762845373}, {\"year\": 1886, \"total_results\": 720, \"total_articles\": 994828, \"proportion\": 0.0007237431998295183}, {\"year\": 1887, \"total_results\": 675, \"total_articles\": 1043492, \"proportion\": 0.0006468664829246415}, {\"year\": 1888, \"total_results\": 806, \"total_articles\": 1162025, \"proportion\": 0.0006936167466276543}, {\"year\": 1889, \"total_results\": 786, \"total_articles\": 1252262, \"proportion\": 0.0006276641789018591}, {\"year\": 1890, \"total_results\": 841, \"total_articles\": 1357654, \"proportion\": 0.0006194509057536015}, {\"year\": 1891, \"total_results\": 806, \"total_articles\": 1429274, \"proportion\": 0.000563922662834418}, {\"year\": 1892, \"total_results\": 830, \"total_articles\": 1486705, \"proportion\": 0.0005582815689729973}, {\"year\": 1893, \"total_results\": 848, \"total_articles\": 1510849, \"proportion\": 0.0005612738268351106}, {\"year\": 1894, \"total_results\": 899, \"total_articles\": 1560809, \"proportion\": 0.0005759833522231099}, {\"year\": 1895, \"total_results\": 964, \"total_articles\": 1678554, \"proportion\": 0.0005743038353249284}, {\"year\": 1896, \"total_results\": 1066, \"total_articles\": 1798582, \"proportion\": 0.0005926891295476102}, {\"year\": 1897, \"total_results\": 1075, \"total_articles\": 1918088, \"proportion\": 0.0005604539520605937}, {\"year\": 1898, \"total_results\": 969, \"total_articles\": 2141840, \"proportion\": 0.00045241474619952935}, {\"year\": 1899, \"total_results\": 979, \"total_articles\": 2308829, \"proportion\": 0.00042402447301207667}, {\"year\": 1900, \"total_results\": 928, \"total_articles\": 2539736, \"proportion\": 0.00036539230849190626}, {\"year\": 1901, \"total_results\": 959, \"total_articles\": 2618191, \"proportion\": 0.0003662834376865553}, {\"year\": 1902, \"total_results\": 1065, \"total_articles\": 2674429, \"proportion\": 0.00039821584345667803}, {\"year\": 1903, \"total_results\": 1259, \"total_articles\": 2713889, \"proportion\": 0.00046390990935885735}, {\"year\": 1904, \"total_results\": 1748, \"total_articles\": 2878677, \"proportion\": 0.0006072233876881637}, {\"year\": 1905, \"total_results\": 1862, \"total_articles\": 3009076, \"proportion\": 0.0006187946067164804}, {\"year\": 1906, \"total_results\": 2210, \"total_articles\": 3057500, \"proportion\": 0.0007228127555192151}, {\"year\": 1907, \"total_results\": 2008, \"total_articles\": 3205575, \"proportion\": 0.000626408678630199}, {\"year\": 1908, \"total_results\": 1594, \"total_articles\": 3314151, \"proportion\": 0.00048096782554566764}, {\"year\": 1909, \"total_results\": 2109, \"total_articles\": 3379982, \"proportion\": 0.0006239678199469701}, {\"year\": 1910, \"total_results\": 2733, \"total_articles\": 3613826, \"proportion\": 0.000756262199674251}, {\"year\": 1911, \"total_results\": 3380, \"total_articles\": 3740413, \"proportion\": 0.00090364352813446}, {\"year\": 1912, \"total_results\": 3835, \"total_articles\": 3890753, \"proportion\": 0.000985670383085228}, {\"year\": 1913, \"total_results\": 4217, \"total_articles\": 3957073, \"proportion\": 0.0010656866830609393}, {\"year\": 1914, \"total_results\": 4835, \"total_articles\": 4654167, \"proportion\": 0.001038853999007771}, {\"year\": 1915, \"total_results\": 4528, \"total_articles\": 4751447, \"proportion\": 0.0009529728522700558}, {\"year\": 1916, \"total_results\": 3800, \"total_articles\": 4346277, \"proportion\": 0.0008743115084473447}, {\"year\": 1917, \"total_results\": 3803, \"total_articles\": 4239223, \"proportion\": 0.0008970983597701748}, {\"year\": 1918, \"total_results\": 3754, \"total_articles\": 4016436, \"proportion\": 0.0009346594841795064}, {\"year\": 1919, \"total_results\": 4369, \"total_articles\": 3486517, \"proportion\": 0.0012531130638399296}, {\"year\": 1920, \"total_results\": 5597, \"total_articles\": 3237978, \"proportion\": 0.0017285478777187492}, {\"year\": 1921, \"total_results\": 5765, \"total_articles\": 3435873, \"proportion\": 0.0016778850673467849}, {\"year\": 1922, \"total_results\": 8075, \"total_articles\": 3562135, \"proportion\": 0.0022668989243810242}, {\"year\": 1923, \"total_results\": 12316, \"total_articles\": 3828641, \"proportion\": 0.0032168072169733333}, {\"year\": 1924, \"total_results\": 25905, \"total_articles\": 4125328, \"proportion\": 0.006279500684551628}, {\"year\": 1925, \"total_results\": 39329, \"total_articles\": 4086958, \"proportion\": 0.009623049710811807}, {\"year\": 1926, \"total_results\": 44128, \"total_articles\": 4069533, \"proportion\": 0.010843504647830599}, {\"year\": 1927, \"total_results\": 55388, \"total_articles\": 4126770, \"proportion\": 0.013421634837899859}, {\"year\": 1928, \"total_results\": 62382, \"total_articles\": 4234586, \"proportion\": 0.014731546366043811}, {\"year\": 1929, \"total_results\": 62877, \"total_articles\": 4460722, \"proportion\": 0.014095700202792284}, {\"year\": 1930, \"total_results\": 65526, \"total_articles\": 4315190, \"proportion\": 0.015184962886918073}, {\"year\": 1931, \"total_results\": 67117, \"total_articles\": 3941724, \"proportion\": 0.017027321040235185}, {\"year\": 1932, \"total_results\": 73584, \"total_articles\": 3890710, \"proportion\": 0.01891274343243264}, {\"year\": 1933, \"total_results\": 80840, \"total_articles\": 4069854, \"proportion\": 0.0198631203969479}, {\"year\": 1934, \"total_results\": 95678, \"total_articles\": 4183589, \"proportion\": 0.02286983735735035}, {\"year\": 1935, \"total_results\": 103731, \"total_articles\": 4271382, \"proportion\": 0.024285114279172407}, {\"year\": 1936, \"total_results\": 112885, \"total_articles\": 4377987, \"proportion\": 0.02578468140723122}, {\"year\": 1937, \"total_results\": 125107, \"total_articles\": 4371925, \"proportion\": 0.028615998673353273}, {\"year\": 1938, \"total_results\": 135488, \"total_articles\": 4359675, \"proportion\": 0.031077545917987007}, {\"year\": 1939, \"total_results\": 132571, \"total_articles\": 4140014, \"proportion\": 0.032021872389803516}, {\"year\": 1940, \"total_results\": 130723, \"total_articles\": 3497071, \"proportion\": 0.03738071088633888}, {\"year\": 1941, \"total_results\": 136193, \"total_articles\": 3082401, \"proportion\": 0.044184063008025236}, {\"year\": 1942, \"total_results\": 130287, \"total_articles\": 2470102, \"proportion\": 0.05274559512117313}, {\"year\": 1943, \"total_results\": 125981, \"total_articles\": 2191842, \"proportion\": 0.057477226916903684}, {\"year\": 1944, \"total_results\": 118824, \"total_articles\": 2233365, \"proportion\": 0.05320402173402019}, {\"year\": 1945, \"total_results\": 119679, \"total_articles\": 2412554, \"proportion\": 0.04960676527862174}, {\"year\": 1946, \"total_results\": 122697, \"total_articles\": 2748052, \"proportion\": 0.04464871843764237}, {\"year\": 1947, \"total_results\": 129430, \"total_articles\": 2851317, \"proportion\": 0.045393058716375626}, {\"year\": 1948, \"total_results\": 116817, \"total_articles\": 2610229, \"proportion\": 0.04475354461236926}, {\"year\": 1949, \"total_results\": 122371, \"total_articles\": 2867051, \"proportion\": 0.042681835795735756}, {\"year\": 1950, \"total_results\": 121356, \"total_articles\": 2812464, \"proportion\": 0.04314935231170959}, {\"year\": 1951, \"total_results\": 108884, \"total_articles\": 2554766, \"proportion\": 0.04261995032030331}, {\"year\": 1952, \"total_results\": 107346, \"total_articles\": 2608800, \"proportion\": 0.04114765409383624}, {\"year\": 1953, \"total_results\": 120465, \"total_articles\": 2755677, \"proportion\": 0.043715210454636014}, {\"year\": 1954, \"total_results\": 130321, \"total_articles\": 2787339, \"proportion\": 0.0467546286978369}, {\"year\": 1955, \"total_results\": 12298, \"total_articles\": 279909, \"proportion\": 0.04393570767642341}, {\"year\": 1956, \"total_results\": 9952, \"total_articles\": 199416, \"proportion\": 0.04990572471617122}, {\"year\": 1957, \"total_results\": 5977, \"total_articles\": 126201, \"proportion\": 0.047360955935372935}, {\"year\": 1958, \"total_results\": 6254, \"total_articles\": 126115, \"proportion\": 0.04958966023074178}, {\"year\": 1959, \"total_results\": 6045, \"total_articles\": 121259, \"proportion\": 0.049851969750698916}, {\"year\": 1960, \"total_results\": 6146, \"total_articles\": 115050, \"proportion\": 0.05342025206431986}, {\"year\": 1961, \"total_results\": 5503, \"total_articles\": 109239, \"proportion\": 0.05037578154322174}, {\"year\": 1962, \"total_results\": 5410, \"total_articles\": 108575, \"proportion\": 0.04982730831222657}, {\"year\": 1963, \"total_results\": 6531, \"total_articles\": 118702, \"proportion\": 0.05502013445434786}, {\"year\": 1964, \"total_results\": 5780, \"total_articles\": 120392, \"proportion\": 0.04800983454050103}, {\"year\": 1965, \"total_results\": 6312, \"total_articles\": 126432, \"proportion\": 0.04992406985573273}, {\"year\": 1966, \"total_results\": 5839, \"total_articles\": 123452, \"proportion\": 0.047297735152123904}, {\"year\": 1967, \"total_results\": 5675, \"total_articles\": 118503, \"proportion\": 0.04788908297680228}, {\"year\": 1968, \"total_results\": 5912, \"total_articles\": 124919, \"proportion\": 0.04732666768065707}, {\"year\": 1969, \"total_results\": 7238, \"total_articles\": 151689, \"proportion\": 0.0477160506035375}, {\"year\": 1970, \"total_results\": 7506, \"total_articles\": 166785, \"proportion\": 0.04500404712654016}, {\"year\": 1971, \"total_results\": 7192, \"total_articles\": 165077, \"proportion\": 0.043567547265821405}, {\"year\": 1972, \"total_results\": 7452, \"total_articles\": 164687, \"proportion\": 0.04524947324318252}, {\"year\": 1973, \"total_results\": 6860, \"total_articles\": 161814, \"proportion\": 0.0423943540113958}, {\"year\": 1974, \"total_results\": 6811, \"total_articles\": 159025, \"proportion\": 0.04282974375098255}, {\"year\": 1975, \"total_results\": 6789, \"total_articles\": 148204, \"proportion\": 0.045808480202963485}, {\"year\": 1976, \"total_results\": 7341, \"total_articles\": 148816, \"proportion\": 0.04932937318567896}, {\"year\": 1977, \"total_results\": 7640, \"total_articles\": 151194, \"proportion\": 0.05053110573170893}, {\"year\": 1978, \"total_results\": 7697, \"total_articles\": 159199, \"proportion\": 0.04834829364506058}, {\"year\": 1979, \"total_results\": 7868, \"total_articles\": 167101, \"proportion\": 0.04708529571935536}, {\"year\": 1980, \"total_results\": 7622, \"total_articles\": 165664, \"proportion\": 0.04600878887386517}, {\"year\": 1981, \"total_results\": 7194, \"total_articles\": 142781, \"proportion\": 0.05038485512778311}, {\"year\": 1982, \"total_results\": 6068, \"total_articles\": 130222, \"proportion\": 0.04659734914223403}, {\"year\": 1983, \"total_results\": 5997, \"total_articles\": 117491, \"proportion\": 0.05104220748823314}, {\"year\": 1984, \"total_results\": 6228, \"total_articles\": 118615, \"proportion\": 0.05250600682881592}, {\"year\": 1985, \"total_results\": 6248, \"total_articles\": 128586, \"proportion\": 0.04859004868337144}, {\"year\": 1986, \"total_results\": 6220, \"total_articles\": 128312, \"proportion\": 0.04847559074755284}, {\"year\": 1987, \"total_results\": 6196, \"total_articles\": 127591, \"proportion\": 0.04856141890885721}, {\"year\": 1988, \"total_results\": 6576, \"total_articles\": 136944, \"proportion\": 0.04801962846126884}, {\"year\": 1989, \"total_results\": 6002, \"total_articles\": 140206, \"proportion\": 0.04280843901116928}, {\"year\": 1990, \"total_results\": 5806, \"total_articles\": 132596, \"proportion\": 0.043787142900238316}, {\"year\": 1991, \"total_results\": 5999, \"total_articles\": 131729, \"proportion\": 0.045540465652969354}, {\"year\": 1992, \"total_results\": 5403, \"total_articles\": 137422, \"proportion\": 0.03931684883060936}, {\"year\": 1993, \"total_results\": 5114, \"total_articles\": 137978, \"proportion\": 0.03706387974894548}, {\"year\": 1994, \"total_results\": 4776, \"total_articles\": 133420, \"proportion\": 0.035796732124119324}, {\"year\": 1995, \"total_results\": 4822, \"total_articles\": 132425, \"proportion\": 0.03641306399848971}, {\"year\": 1996, \"total_results\": 997, \"total_articles\": 47101, \"proportion\": 0.02116727882635188}, {\"year\": 1997, \"total_results\": 1062, \"total_articles\": 49822, \"proportion\": 0.02131588454899442}, {\"year\": 1998, \"total_results\": 1253, \"total_articles\": 56947, \"proportion\": 0.022002914991132105}, {\"year\": 1999, \"total_results\": 1588, \"total_articles\": 67005, \"proportion\": 0.023699723901201404}, {\"year\": 2000, \"total_results\": 1057, \"total_articles\": 44770, \"proportion\": 0.023609559973196338}, {\"year\": 2001, \"total_results\": 941, \"total_articles\": 42081, \"proportion\": 0.022361635892683158}, {\"year\": 2002, \"total_results\": 937, \"total_articles\": 42631, \"proportion\": 0.021979310830147075}, {\"year\": 2003, \"total_results\": 765, \"total_articles\": 24075, \"proportion\": 0.03177570093457944}, {\"year\": 2004, \"total_results\": 645, \"total_articles\": 22072, \"proportion\": 0.02922254440014498}, {\"year\": 2005, \"total_results\": 491, \"total_articles\": 18071, \"proportion\": 0.027170604836478335}, {\"year\": 2006, \"total_results\": 511, \"total_articles\": 17708, \"proportion\": 0.0288570137790829}, {\"year\": 2007, \"total_results\": 449, \"total_articles\": 18719, \"proportion\": 0.02398632405577221}, {\"year\": 2008, \"total_results\": 420, \"total_articles\": 17059, \"proportion\": 0.024620434961017644}, {\"year\": 2009, \"total_results\": 114, \"total_articles\": 5762, \"proportion\": 0.019784796945505032}, {\"year\": 2010, \"total_results\": 122, \"total_articles\": 5794, \"proportion\": 0.02105626510182948}, {\"year\": 2011, \"total_results\": 96, \"total_articles\": 5386, \"proportion\": 0.017823988117341254}, {\"year\": 2012, \"total_results\": 90, \"total_articles\": 4832, \"proportion\": 0.018625827814569538}, {\"year\": 2013, \"total_results\": 78, \"total_articles\": 4904, \"proportion\": 0.015905383360522024}, {\"year\": 2014, \"total_results\": 73, \"total_articles\": 4718, \"proportion\": 0.015472657905892327}, {\"year\": 2015, \"total_results\": 64, \"total_articles\": 4819, \"proportion\": 0.013280763643909526}, {\"year\": 2016, \"total_results\": 16, \"total_articles\": 1422, \"proportion\": 0.011251758087201125}, {\"year\": 2017, \"total_results\": 19, \"total_articles\": 1094, \"proportion\": 0.01736745886654479}, {\"year\": 2018, \"total_results\": 13, \"total_articles\": 1100, \"proportion\": 0.011818181818181818}, {\"year\": 2019, \"total_results\": 16, \"total_articles\": 1153, \"proportion\": 0.013876843018213356}]}}, {\"mode\": \"vega-lite\"});\n",
       "</script>"
      ],
      "text/plain": [
       "alt.VConcatChart(...)"
      ]
     },
     "execution_count": 16,
     "metadata": {},
     "output_type": "execute_result"
    }
   ],
   "source": [
    "# This is the chart showing raw results -- it's the same as the one we created above (but a bit smaller)\n",
    "chart1 = (\n",
    "    alt.Chart(df)\n",
    "    .mark_line(point=True)\n",
    "    .encode(\n",
    "        x=alt.X(\"year:Q\", axis=alt.Axis(format=\"c\", title=\"Year\")),\n",
    "        y=alt.Y(\n",
    "            \"total_results:Q\", axis=alt.Axis(format=\",d\", title=\"Number of articles\")\n",
    "        ),\n",
    "        tooltip=[\n",
    "            alt.Tooltip(\"year:Q\", title=\"Year\"),\n",
    "            alt.Tooltip(\"total_results:Q\", title=\"Articles\", format=\",\"),\n",
    "        ],\n",
    "    )\n",
    "    .properties(width=700, height=250)\n",
    ")\n",
    "\n",
    "# This is the new view, note that it's using the 'proportion' column for the Y axis\n",
    "chart2 = (\n",
    "    alt.Chart(df_merged)\n",
    "    .mark_line(point=True, color=\"red\")\n",
    "    .encode(\n",
    "        x=alt.X(\"year:Q\", axis=alt.Axis(format=\"c\", title=\"Year\")),\n",
    "        # This time we're showing the proportion (formatted as a percentage) on the Y axis\n",
    "        y=alt.Y(\n",
    "            \"proportion:Q\", axis=alt.Axis(format=\"%\", title=\"Proportion of articles\")\n",
    "        ),\n",
    "        tooltip=[\n",
    "            alt.Tooltip(\"year:Q\", title=\"Year\"),\n",
    "            alt.Tooltip(\"proportion:Q\", title=\"Proportion\", format=\"%\"),\n",
    "        ],\n",
    "        # Make the charts different colors\n",
    "        color=alt.value(\"orange\"),\n",
    "    )\n",
    "    .properties(width=700, height=250)\n",
    ")\n",
    "\n",
    "# This is a shorthand way of stacking the charts on top of each other\n",
    "chart1 & chart2"
   ]
  },
  {
   "cell_type": "markdown",
   "metadata": {},
   "source": [
    "The overall shape of the two charts is similar, but there are some significant differences. Both show a dramatic increase after 1920, but the initial peaks are in different positions. The sudden drop-off after 1954 has gone, and we even have a new peak in 1963. Why 1963? The value of these sorts of visualisations is in the questions they prompt, rather than any claim to 'accuracy'. How meaningful are the post-1954 results? If we [break down the numbers by state](visualise-total-newspaper-articles-by-state-year.ipynb), we see that the post-1954 results are mostly from the ACT. It is a small, narrowly-focused sample. Reading these two charts in combination reminds us that the structure and content of a large corpus like Trove is not natural. While viewing the number of results over time can alert us to historical shifts, we have to be prepared to ask questions about how those results are generated, and what they represent."
   ]
  },
  {
   "cell_type": "markdown",
   "metadata": {},
   "source": [
    "## 5. Comparing multiple search terms over time\n",
    "\n",
    "Another way of working around inconsistencies in the newspaper corpus is to *compare* search queries. While the total numbers could be misleading, the comparative numbers might still show us interesting shifts in usage or meaning. Once again, this is not something we can do through the web interface, but all we need to achieve this using the API is a few minor adjustments to our code.\n",
    "\n",
    "Instead of a single search query, this time we'll define a list of search queries. You can include as many queries as you want and, once again, the queries can be anything you'd type in the Trove search box."
   ]
  },
  {
   "cell_type": "code",
   "execution_count": 17,
   "metadata": {},
   "outputs": [],
   "source": [
    "# Create a list of queries\n",
    "queries = [\"telegraph\", \"radio\", \"wireless\"]"
   ]
  },
  {
   "cell_type": "markdown",
   "metadata": {},
   "source": [
    "Now we'll define a new function that loops through each of the search terms, retrieving the facet data for each, and combining it all into a single dataframe."
   ]
  },
  {
   "cell_type": "code",
   "execution_count": 18,
   "metadata": {},
   "outputs": [],
   "source": [
    "def get_search_facets(params, queries):\n",
    "    \"\"\"\n",
    "    Process a list of search queries, gathering the facet data for each and combining the results into a single dataframe.\n",
    "\n",
    "    Parameters:\n",
    "        params - basic parameters to send to the API\n",
    "        queries - a list of search queries\n",
    "    Returns:\n",
    "        A dataframe\n",
    "    \"\"\"\n",
    "    # This is where we'll store the invididual dataframes\n",
    "    dfs = []\n",
    "\n",
    "    # Make a copy of the basic parameters\n",
    "    these_params = params.copy()\n",
    "\n",
    "    # Loop through the list of queries\n",
    "    for q in queries:\n",
    "\n",
    "        # Set the 'q' parameter to the current search query\n",
    "        these_params[\"q\"] = q\n",
    "\n",
    "        # Get all the facet data for this search\n",
    "        facet_data = get_facet_data(these_params)\n",
    "\n",
    "        # Convert the facet data into a dataframe\n",
    "        df = pd.DataFrame(facet_data)\n",
    "\n",
    "        # Add a column with the search query -- this will enable us to distinguish between the results in the combined dataframe.\n",
    "        df[\"query\"] = q\n",
    "\n",
    "        # Add this df to our list\n",
    "        dfs.append(df)\n",
    "\n",
    "    # Combine the dfs into one df using concat and return the result\n",
    "    return pd.concat(dfs)"
   ]
  },
  {
   "cell_type": "markdown",
   "metadata": {},
   "source": [
    "Now we're ready to harvest some data!"
   ]
  },
  {
   "cell_type": "code",
   "execution_count": 19,
   "metadata": {},
   "outputs": [],
   "source": [
    "df_queries = get_search_facets(params, queries)"
   ]
  },
  {
   "cell_type": "markdown",
   "metadata": {},
   "source": [
    "Once again, it would be useful to have the number of search results as a proportion of the total articles, so let's use our merge function again to add the proportions."
   ]
  },
  {
   "cell_type": "code",
   "execution_count": 20,
   "metadata": {},
   "outputs": [],
   "source": [
    "df_queries_merged = merge_df_with_total(df_queries, df_total)"
   ]
  },
  {
   "cell_type": "markdown",
   "metadata": {},
   "source": [
    "As we're repeating the same sorts of charts with different data, we might as well save ourselves some effort by creating a couple of reusable charting functions. One shows the raw numbers, and the other shows the proportions."
   ]
  },
  {
   "cell_type": "code",
   "execution_count": 21,
   "metadata": {},
   "outputs": [],
   "source": [
    "def make_chart_totals(df, category, category_title):\n",
    "    \"\"\"\n",
    "    Make a chart showing the raw number of search results over time.\n",
    "    Creates different coloured lines for each query or category.\n",
    "    Parameters:\n",
    "        df - a dataframe\n",
    "        category - the column containing the value that distinguishes multiple results set (eg 'query' or 'state')\n",
    "        category_title - a nicely formatted title for the category to appear above the legend\n",
    "    \"\"\"\n",
    "    chart = (\n",
    "        alt.Chart(df)\n",
    "        .mark_line(point=True)\n",
    "        .encode(\n",
    "            # Show the year on the X axis\n",
    "            x=alt.X(\"year:Q\", axis=alt.Axis(format=\"c\", title=\"Year\")),\n",
    "            # Show the total number of articles on the Y axis (with thousands separator)\n",
    "            y=alt.Y(\n",
    "                \"total_results:Q\",\n",
    "                axis=alt.Axis(format=\",d\", title=\"Number of articles\"),\n",
    "            ),\n",
    "            # Display query/category, year, and number of results on hover\n",
    "            tooltip=[\n",
    "                alt.Tooltip(\"{}:N\".format(category), title=category_title),\n",
    "                alt.Tooltip(\"year:Q\", title=\"Year\"),\n",
    "                alt.Tooltip(\"total_results:Q\", title=\"Articles\", format=\",\"),\n",
    "            ],\n",
    "            # In these charts were comparing results, so we're using color to distinguish between queries/categories\n",
    "            color=alt.Color(\n",
    "                \"{}:N\".format(category), legend=alt.Legend(title=category_title)\n",
    "            ),\n",
    "        )\n",
    "        .properties(width=700, height=250)\n",
    "    )\n",
    "    return chart\n",
    "\n",
    "\n",
    "def make_chart_proportions(df, category, category_title):\n",
    "    \"\"\"\n",
    "    Make a chart showing the proportion of search results over time.\n",
    "    Creates different coloured lines for each query or category.\n",
    "    Parameters:\n",
    "        df - a dataframe\n",
    "        category - the column containing the value that distinguishes multiple results set (eg 'query' or 'state')\n",
    "        category_title - a nicely formatted title for the category to appear above the legend\n",
    "    \"\"\"\n",
    "    chart = (\n",
    "        alt.Chart(df)\n",
    "        .mark_line(point=True)\n",
    "        .encode(\n",
    "            # Show the year on the X axis\n",
    "            x=alt.X(\"year:Q\", axis=alt.Axis(format=\"c\", title=\"Year\")),\n",
    "            # Show the proportion of articles on the Y axis (formatted as percentage)\n",
    "            y=alt.Y(\n",
    "                \"proportion:Q\",\n",
    "                axis=alt.Axis(format=\"%\", title=\"Proportion of articles\"),\n",
    "                stack=None,\n",
    "            ),\n",
    "            # Display query/category, year, and proportion of results on hover\n",
    "            tooltip=[\n",
    "                alt.Tooltip(\"{}:N\".format(category), title=category_title),\n",
    "                alt.Tooltip(\"year:Q\", title=\"Year\"),\n",
    "                alt.Tooltip(\"proportion:Q\", title=\"Proportion\", format=\"%\"),\n",
    "            ],\n",
    "            # In these charts were comparing results, so we're using color to distinguish between queries/categories\n",
    "            color=alt.Color(\n",
    "                \"{}:N\".format(category), legend=alt.Legend(title=category_title)\n",
    "            ),\n",
    "        )\n",
    "        .properties(width=700, height=250)\n",
    "    )\n",
    "    return chart"
   ]
  },
  {
   "cell_type": "markdown",
   "metadata": {},
   "source": [
    "Let's use the new functions to create charts for our queries."
   ]
  },
  {
   "cell_type": "code",
   "execution_count": 22,
   "metadata": {},
   "outputs": [
    {
     "data": {
      "text/html": [
       "\n",
       "<div id=\"altair-viz-a89dc4563f594955aa5152dc2e8d00f3\"></div>\n",
       "<script type=\"text/javascript\">\n",
       "  var VEGA_DEBUG = (typeof VEGA_DEBUG == \"undefined\") ? {} : VEGA_DEBUG;\n",
       "  (function(spec, embedOpt){\n",
       "    let outputDiv = document.currentScript.previousElementSibling;\n",
       "    if (outputDiv.id !== \"altair-viz-a89dc4563f594955aa5152dc2e8d00f3\") {\n",
       "      outputDiv = document.getElementById(\"altair-viz-a89dc4563f594955aa5152dc2e8d00f3\");\n",
       "    }\n",
       "    const paths = {\n",
       "      \"vega\": \"https://cdn.jsdelivr.net/npm//vega@5?noext\",\n",
       "      \"vega-lib\": \"https://cdn.jsdelivr.net/npm//vega-lib?noext\",\n",
       "      \"vega-lite\": \"https://cdn.jsdelivr.net/npm//vega-lite@4.17.0?noext\",\n",
       "      \"vega-embed\": \"https://cdn.jsdelivr.net/npm//vega-embed@6?noext\",\n",
       "    };\n",
       "\n",
       "    function maybeLoadScript(lib, version) {\n",
       "      var key = `${lib.replace(\"-\", \"\")}_version`;\n",
       "      return (VEGA_DEBUG[key] == version) ?\n",
       "        Promise.resolve(paths[lib]) :\n",
       "        new Promise(function(resolve, reject) {\n",
       "          var s = document.createElement('script');\n",
       "          document.getElementsByTagName(\"head\")[0].appendChild(s);\n",
       "          s.async = true;\n",
       "          s.onload = () => {\n",
       "            VEGA_DEBUG[key] = version;\n",
       "            return resolve(paths[lib]);\n",
       "          };\n",
       "          s.onerror = () => reject(`Error loading script: ${paths[lib]}`);\n",
       "          s.src = paths[lib];\n",
       "        });\n",
       "    }\n",
       "\n",
       "    function showError(err) {\n",
       "      outputDiv.innerHTML = `<div class=\"error\" style=\"color:red;\">${err}</div>`;\n",
       "      throw err;\n",
       "    }\n",
       "\n",
       "    function displayChart(vegaEmbed) {\n",
       "      vegaEmbed(outputDiv, spec, embedOpt)\n",
       "        .catch(err => showError(`Javascript Error: ${err.message}<br>This usually means there's a typo in your chart specification. See the javascript console for the full traceback.`));\n",
       "    }\n",
       "\n",
       "    if(typeof define === \"function\" && define.amd) {\n",
       "      requirejs.config({paths});\n",
       "      require([\"vega-embed\"], displayChart, err => showError(`Error loading script: ${err.message}`));\n",
       "    } else {\n",
       "      maybeLoadScript(\"vega\", \"5\")\n",
       "        .then(() => maybeLoadScript(\"vega-lite\", \"4.17.0\"))\n",
       "        .then(() => maybeLoadScript(\"vega-embed\", \"6\"))\n",
       "        .catch(showError)\n",
       "        .then(() => displayChart(vegaEmbed));\n",
       "    }\n",
       "  })({\"config\": {\"view\": {\"continuousWidth\": 400, \"continuousHeight\": 300}}, \"vconcat\": [{\"mark\": {\"type\": \"line\", \"point\": true}, \"encoding\": {\"color\": {\"field\": \"query\", \"legend\": {\"title\": \"Search query\"}, \"type\": \"nominal\"}, \"tooltip\": [{\"field\": \"query\", \"title\": \"Search query\", \"type\": \"nominal\"}, {\"field\": \"year\", \"title\": \"Year\", \"type\": \"quantitative\"}, {\"field\": \"total_results\", \"format\": \",\", \"title\": \"Articles\", \"type\": \"quantitative\"}], \"x\": {\"axis\": {\"format\": \"c\", \"title\": \"Year\"}, \"field\": \"year\", \"type\": \"quantitative\"}, \"y\": {\"axis\": {\"format\": \",d\", \"title\": \"Number of articles\"}, \"field\": \"total_results\", \"type\": \"quantitative\"}}, \"height\": 250, \"width\": 700}, {\"mark\": {\"type\": \"line\", \"point\": true}, \"encoding\": {\"color\": {\"field\": \"query\", \"legend\": {\"title\": \"Search query\"}, \"type\": \"nominal\"}, \"tooltip\": [{\"field\": \"query\", \"title\": \"Search query\", \"type\": \"nominal\"}, {\"field\": \"year\", \"title\": \"Year\", \"type\": \"quantitative\"}, {\"field\": \"proportion\", \"format\": \"%\", \"title\": \"Proportion\", \"type\": \"quantitative\"}], \"x\": {\"axis\": {\"format\": \"c\", \"title\": \"Year\"}, \"field\": \"year\", \"type\": \"quantitative\"}, \"y\": {\"axis\": {\"format\": \"%\", \"title\": \"Proportion of articles\"}, \"field\": \"proportion\", \"stack\": null, \"type\": \"quantitative\"}}, \"height\": 250, \"width\": 700}], \"data\": {\"name\": \"data-55b6a292d9bfedcaa083587bdd1c2a32\"}, \"$schema\": \"https://vega.github.io/schema/vega-lite/v4.17.0.json\", \"datasets\": {\"data-55b6a292d9bfedcaa083587bdd1c2a32\": [{\"year\": 1806, \"total_results\": 2, \"query\": \"telegraph\", \"total_articles\": 367, \"proportion\": 0.005449591280653951}, {\"year\": 1809, \"total_results\": 1, \"query\": \"telegraph\", \"total_articles\": 237, \"proportion\": 0.004219409282700422}, {\"year\": 1810, \"total_results\": 1, \"query\": \"telegraph\", \"total_articles\": 274, \"proportion\": 0.0036496350364963502}, {\"year\": 1811, \"total_results\": 1, \"query\": \"telegraph\", \"total_articles\": 228, \"proportion\": 0.0043859649122807015}, {\"year\": 1814, \"total_results\": 2, \"query\": \"telegraph\", \"total_articles\": 239, \"proportion\": 0.008368200836820083}, {\"year\": 1815, \"total_results\": 1, \"query\": \"telegraph\", \"total_articles\": 226, \"proportion\": 0.004424778761061947}, {\"year\": 1816, \"total_results\": 1, \"query\": \"telegraph\", \"total_articles\": 644, \"proportion\": 0.0015527950310559005}, {\"year\": 1817, \"total_results\": 1, \"query\": \"telegraph\", \"total_articles\": 1068, \"proportion\": 0.0009363295880149813}, {\"year\": 1818, \"total_results\": 4, \"query\": \"telegraph\", \"total_articles\": 1249, \"proportion\": 0.0032025620496397116}, {\"year\": 1819, \"total_results\": 5, \"query\": \"telegraph\", \"total_articles\": 1152, \"proportion\": 0.004340277777777778}, {\"year\": 1820, \"total_results\": 1, \"query\": \"telegraph\", \"total_articles\": 1275, \"proportion\": 0.000784313725490196}, {\"year\": 1821, \"total_results\": 7, \"query\": \"telegraph\", \"total_articles\": 1005, \"proportion\": 0.006965174129353234}, {\"year\": 1822, \"total_results\": 3, \"query\": \"telegraph\", \"total_articles\": 1033, \"proportion\": 0.002904162633107454}, {\"year\": 1823, \"total_results\": 9, \"query\": \"telegraph\", \"total_articles\": 1156, \"proportion\": 0.007785467128027681}, {\"year\": 1824, \"total_results\": 12, \"query\": \"telegraph\", \"total_articles\": 1646, \"proportion\": 0.007290400972053463}, {\"year\": 1825, \"total_results\": 19, \"query\": \"telegraph\", \"total_articles\": 3366, \"proportion\": 0.00564468211527035}, {\"year\": 1826, \"total_results\": 27, \"query\": \"telegraph\", \"total_articles\": 5201, \"proportion\": 0.005191309363583926}, {\"year\": 1827, \"total_results\": 47, \"query\": \"telegraph\", \"total_articles\": 6618, \"proportion\": 0.007101843457237836}, {\"year\": 1828, \"total_results\": 70, \"query\": \"telegraph\", \"total_articles\": 7335, \"proportion\": 0.00954328561690525}, {\"year\": 1829, \"total_results\": 55, \"query\": \"telegraph\", \"total_articles\": 8935, \"proportion\": 0.006155567991046447}, {\"year\": 1830, \"total_results\": 77, \"query\": \"telegraph\", \"total_articles\": 8977, \"proportion\": 0.00857747577141584}, {\"year\": 1831, \"total_results\": 61, \"query\": \"telegraph\", \"total_articles\": 10989, \"proportion\": 0.005551005551005551}, {\"year\": 1832, \"total_results\": 79, \"query\": \"telegraph\", \"total_articles\": 14814, \"proportion\": 0.005332793303631699}, {\"year\": 1833, \"total_results\": 160, \"query\": \"telegraph\", \"total_articles\": 15622, \"proportion\": 0.010241966457559851}, {\"year\": 1834, \"total_results\": 111, \"query\": \"telegraph\", \"total_articles\": 18704, \"proportion\": 0.005934559452523525}, {\"year\": 1835, \"total_results\": 166, \"query\": \"telegraph\", \"total_articles\": 20389, \"proportion\": 0.008141645004659375}, {\"year\": 1836, \"total_results\": 238, \"query\": \"telegraph\", \"total_articles\": 20553, \"proportion\": 0.011579818031430935}, {\"year\": 1837, \"total_results\": 197, \"query\": \"telegraph\", \"total_articles\": 21805, \"proportion\": 0.009034625085989453}, {\"year\": 1838, \"total_results\": 151, \"query\": \"telegraph\", \"total_articles\": 25911, \"proportion\": 0.0058276407703292035}, {\"year\": 1839, \"total_results\": 143, \"query\": \"telegraph\", \"total_articles\": 32876, \"proportion\": 0.004349677576347488}, {\"year\": 1840, \"total_results\": 235, \"query\": \"telegraph\", \"total_articles\": 42411, \"proportion\": 0.00554101530263375}, {\"year\": 1841, \"total_results\": 315, \"query\": \"telegraph\", \"total_articles\": 46377, \"proportion\": 0.0067921599068503785}, {\"year\": 1842, \"total_results\": 250, \"query\": \"telegraph\", \"total_articles\": 47934, \"proportion\": 0.005215504652230149}, {\"year\": 1843, \"total_results\": 206, \"query\": \"telegraph\", \"total_articles\": 49913, \"proportion\": 0.00412718129545409}, {\"year\": 1844, \"total_results\": 226, \"query\": \"telegraph\", \"total_articles\": 54331, \"proportion\": 0.004159687839355064}, {\"year\": 1845, \"total_results\": 467, \"query\": \"telegraph\", \"total_articles\": 63389, \"proportion\": 0.007367208821719857}, {\"year\": 1846, \"total_results\": 443, \"query\": \"telegraph\", \"total_articles\": 62153, \"proportion\": 0.00712757228130581}, {\"year\": 1847, \"total_results\": 510, \"query\": \"telegraph\", \"total_articles\": 62767, \"proportion\": 0.008125288766389982}, {\"year\": 1848, \"total_results\": 718, \"query\": \"telegraph\", \"total_articles\": 63463, \"proportion\": 0.011313678836487403}, {\"year\": 1849, \"total_results\": 803, \"query\": \"telegraph\", \"total_articles\": 62794, \"proportion\": 0.012787845972545148}, {\"year\": 1850, \"total_results\": 992, \"query\": \"telegraph\", \"total_articles\": 81624, \"proportion\": 0.012153288248554347}, {\"year\": 1851, \"total_results\": 947, \"query\": \"telegraph\", \"total_articles\": 96566, \"proportion\": 0.00980676428556635}, {\"year\": 1852, \"total_results\": 1236, \"query\": \"telegraph\", \"total_articles\": 79960, \"proportion\": 0.015457728864432215}, {\"year\": 1853, \"total_results\": 1527, \"query\": \"telegraph\", \"total_articles\": 96033, \"proportion\": 0.015900784105463747}, {\"year\": 1854, \"total_results\": 3187, \"query\": \"telegraph\", \"total_articles\": 118883, \"proportion\": 0.026807869922528874}, {\"year\": 1855, \"total_results\": 9540, \"query\": \"telegraph\", \"total_articles\": 159947, \"proportion\": 0.05964475732586419}, {\"year\": 1856, \"total_results\": 9565, \"query\": \"telegraph\", \"total_articles\": 168695, \"proportion\": 0.056699961468923206}, {\"year\": 1857, \"total_results\": 10933, \"query\": \"telegraph\", \"total_articles\": 175343, \"proportion\": 0.062352075646019516}, {\"year\": 1858, \"total_results\": 16816, \"query\": \"telegraph\", \"total_articles\": 178765, \"proportion\": 0.09406763068833385}, {\"year\": 1859, \"total_results\": 24042, \"query\": \"telegraph\", \"total_articles\": 202996, \"proportion\": 0.11843583124790637}, {\"year\": 1860, \"total_results\": 26377, \"query\": \"telegraph\", \"total_articles\": 214554, \"proportion\": 0.12293874735497823}, {\"year\": 1861, \"total_results\": 25150, \"query\": \"telegraph\", \"total_articles\": 237976, \"proportion\": 0.10568292600934548}, {\"year\": 1862, \"total_results\": 27316, \"query\": \"telegraph\", \"total_articles\": 244694, \"proportion\": 0.11163330527107326}, {\"year\": 1863, \"total_results\": 27864, \"query\": \"telegraph\", \"total_articles\": 251706, \"proportion\": 0.11070057924721699}, {\"year\": 1864, \"total_results\": 27969, \"query\": \"telegraph\", \"total_articles\": 264282, \"proportion\": 0.10583013599110042}, {\"year\": 1865, \"total_results\": 31013, \"query\": \"telegraph\", \"total_articles\": 283302, \"proportion\": 0.10946975312563978}, {\"year\": 1866, \"total_results\": 31275, \"query\": \"telegraph\", \"total_articles\": 289342, \"proportion\": 0.10809008025105239}, {\"year\": 1867, \"total_results\": 30907, \"query\": \"telegraph\", \"total_articles\": 297136, \"proportion\": 0.10401634268483119}, {\"year\": 1868, \"total_results\": 28845, \"query\": \"telegraph\", \"total_articles\": 304914, \"proportion\": 0.09460044471555915}, {\"year\": 1869, \"total_results\": 34895, \"query\": \"telegraph\", \"total_articles\": 327192, \"proportion\": 0.10664991809090686}, {\"year\": 1870, \"total_results\": 44588, \"query\": \"telegraph\", \"total_articles\": 373286, \"proportion\": 0.1194472870667531}, {\"year\": 1871, \"total_results\": 40984, \"query\": \"telegraph\", \"total_articles\": 359781, \"proportion\": 0.11391374197081001}, {\"year\": 1872, \"total_results\": 46561, \"query\": \"telegraph\", \"total_articles\": 383784, \"proportion\": 0.12132084714318471}, {\"year\": 1873, \"total_results\": 50293, \"query\": \"telegraph\", \"total_articles\": 420951, \"proportion\": 0.1194747132089008}, {\"year\": 1874, \"total_results\": 49298, \"query\": \"telegraph\", \"total_articles\": 436788, \"proportion\": 0.11286482229365276}, {\"year\": 1875, \"total_results\": 50479, \"query\": \"telegraph\", \"total_articles\": 466891, \"proportion\": 0.10811731217778882}, {\"year\": 1876, \"total_results\": 52498, \"query\": \"telegraph\", \"total_articles\": 477911, \"proportion\": 0.10984890492162766}, {\"year\": 1877, \"total_results\": 55287, \"query\": \"telegraph\", \"total_articles\": 499944, \"proportion\": 0.11058638567519562}, {\"year\": 1878, \"total_results\": 60904, \"query\": \"telegraph\", \"total_articles\": 569203, \"proportion\": 0.10699873331658477}, {\"year\": 1879, \"total_results\": 63945, \"query\": \"telegraph\", \"total_articles\": 607530, \"proportion\": 0.10525406152782579}, {\"year\": 1880, \"total_results\": 64173, \"query\": \"telegraph\", \"total_articles\": 624376, \"proportion\": 0.10277941496790395}, {\"year\": 1881, \"total_results\": 69268, \"query\": \"telegraph\", \"total_articles\": 667930, \"proportion\": 0.10370547811896456}, {\"year\": 1882, \"total_results\": 81359, \"query\": \"telegraph\", \"total_articles\": 745914, \"proportion\": 0.10907289580300142}, {\"year\": 1883, \"total_results\": 87198, \"query\": \"telegraph\", \"total_articles\": 778865, \"proportion\": 0.11195521688610992}, {\"year\": 1884, \"total_results\": 97749, \"query\": \"telegraph\", \"total_articles\": 858553, \"proportion\": 0.11385319252276796}, {\"year\": 1885, \"total_results\": 101068, \"query\": \"telegraph\", \"total_articles\": 911515, \"proportion\": 0.11087914077113377}, {\"year\": 1886, \"total_results\": 106501, \"query\": \"telegraph\", \"total_articles\": 994828, \"proportion\": 0.10705468684033823}, {\"year\": 1887, \"total_results\": 111493, \"query\": \"telegraph\", \"total_articles\": 1043492, \"proportion\": 0.10684605152698823}, {\"year\": 1888, \"total_results\": 120997, \"query\": \"telegraph\", \"total_articles\": 1162025, \"proportion\": 0.10412598696241475}, {\"year\": 1889, \"total_results\": 126264, \"query\": \"telegraph\", \"total_articles\": 1252262, \"proportion\": 0.10082874031153224}, {\"year\": 1890, \"total_results\": 129200, \"query\": \"telegraph\", \"total_articles\": 1357654, \"proportion\": 0.09516415817284817}, {\"year\": 1891, \"total_results\": 124890, \"query\": \"telegraph\", \"total_articles\": 1429274, \"proportion\": 0.08738002650296584}, {\"year\": 1892, \"total_results\": 117119, \"query\": \"telegraph\", \"total_articles\": 1486705, \"proportion\": 0.07877756515246805}, {\"year\": 1893, \"total_results\": 105114, \"query\": \"telegraph\", \"total_articles\": 1510849, \"proportion\": 0.06957280310606817}, {\"year\": 1894, \"total_results\": 110454, \"query\": \"telegraph\", \"total_articles\": 1560809, \"proportion\": 0.07076714703720954}, {\"year\": 1895, \"total_results\": 114090, \"query\": \"telegraph\", \"total_articles\": 1678554, \"proportion\": 0.0679692163612252}, {\"year\": 1896, \"total_results\": 114061, \"query\": \"telegraph\", \"total_articles\": 1798582, \"proportion\": 0.06341718086803938}, {\"year\": 1897, \"total_results\": 111953, \"query\": \"telegraph\", \"total_articles\": 1918088, \"proportion\": 0.058366977948874084}, {\"year\": 1898, \"total_results\": 117571, \"query\": \"telegraph\", \"total_articles\": 2141840, \"proportion\": 0.054892522317259926}, {\"year\": 1899, \"total_results\": 118370, \"query\": \"telegraph\", \"total_articles\": 2308829, \"proportion\": 0.051268413555096544}, {\"year\": 1900, \"total_results\": 136461, \"query\": \"telegraph\", \"total_articles\": 2539736, \"proportion\": 0.053730387725338384}, {\"year\": 1901, \"total_results\": 131752, \"query\": \"telegraph\", \"total_articles\": 2618191, \"proportion\": 0.05032176796879983}, {\"year\": 1902, \"total_results\": 121028, \"query\": \"telegraph\", \"total_articles\": 2674429, \"proportion\": 0.04525377192664303}, {\"year\": 1903, \"total_results\": 112577, \"query\": \"telegraph\", \"total_articles\": 2713889, \"proportion\": 0.04148179973462437}, {\"year\": 1904, \"total_results\": 118905, \"query\": \"telegraph\", \"total_articles\": 2878677, \"proportion\": 0.04130543301662534}, {\"year\": 1905, \"total_results\": 113384, \"query\": \"telegraph\", \"total_articles\": 3009076, \"proportion\": 0.037680670079452964}, {\"year\": 1906, \"total_results\": 99776, \"query\": \"telegraph\", \"total_articles\": 3057500, \"proportion\": 0.03263319705641864}, {\"year\": 1907, \"total_results\": 100695, \"query\": \"telegraph\", \"total_articles\": 3205575, \"proportion\": 0.03141246110292225}, {\"year\": 1908, \"total_results\": 116451, \"query\": \"telegraph\", \"total_articles\": 3314151, \"proportion\": 0.035137505804654044}, {\"year\": 1909, \"total_results\": 116843, \"query\": \"telegraph\", \"total_articles\": 3379982, \"proportion\": 0.03456911900714264}, {\"year\": 1910, \"total_results\": 118471, \"query\": \"telegraph\", \"total_articles\": 3613826, \"proportion\": 0.03278270730245452}, {\"year\": 1911, \"total_results\": 106769, \"query\": \"telegraph\", \"total_articles\": 3740413, \"proportion\": 0.02854470883295508}, {\"year\": 1912, \"total_results\": 114443, \"query\": \"telegraph\", \"total_articles\": 3890753, \"proportion\": 0.029414100560996803}, {\"year\": 1913, \"total_results\": 108831, \"query\": \"telegraph\", \"total_articles\": 3957073, \"proportion\": 0.02750290429314799}, {\"year\": 1914, \"total_results\": 118608, \"query\": \"telegraph\", \"total_articles\": 4654167, \"proportion\": 0.025484259589309968}, {\"year\": 1915, \"total_results\": 111641, \"query\": \"telegraph\", \"total_articles\": 4751447, \"proportion\": 0.023496210733277675}, {\"year\": 1916, \"total_results\": 104486, \"query\": \"telegraph\", \"total_articles\": 4346277, \"proportion\": 0.02404034533463928}, {\"year\": 1917, \"total_results\": 105601, \"query\": \"telegraph\", \"total_articles\": 4239223, \"proportion\": 0.024910461185929593}, {\"year\": 1918, \"total_results\": 104517, \"query\": \"telegraph\", \"total_articles\": 4016436, \"proportion\": 0.026022324269576312}, {\"year\": 1919, \"total_results\": 87166, \"query\": \"telegraph\", \"total_articles\": 3486517, \"proportion\": 0.025000881969025248}, {\"year\": 1920, \"total_results\": 69874, \"query\": \"telegraph\", \"total_articles\": 3237978, \"proportion\": 0.021579516599556883}, {\"year\": 1921, \"total_results\": 68637, \"query\": \"telegraph\", \"total_articles\": 3435873, \"proportion\": 0.01997658237076865}, {\"year\": 1922, \"total_results\": 69318, \"query\": \"telegraph\", \"total_articles\": 3562135, \"proportion\": 0.019459677974024005}, {\"year\": 1923, \"total_results\": 76847, \"query\": \"telegraph\", \"total_articles\": 3828641, \"proportion\": 0.020071612877780916}, {\"year\": 1924, \"total_results\": 75275, \"query\": \"telegraph\", \"total_articles\": 4125328, \"proportion\": 0.01824703393281698}, {\"year\": 1925, \"total_results\": 74306, \"query\": \"telegraph\", \"total_articles\": 4086958, \"proportion\": 0.018181248742952582}, {\"year\": 1926, \"total_results\": 73794, \"query\": \"telegraph\", \"total_articles\": 4069533, \"proportion\": 0.018133284580810625}, {\"year\": 1927, \"total_results\": 72639, \"query\": \"telegraph\", \"total_articles\": 4126770, \"proportion\": 0.01760190172943973}, {\"year\": 1928, \"total_results\": 67736, \"query\": \"telegraph\", \"total_articles\": 4234586, \"proportion\": 0.015995896647275555}, {\"year\": 1929, \"total_results\": 68854, \"query\": \"telegraph\", \"total_articles\": 4460722, \"proportion\": 0.015435617821509613}, {\"year\": 1930, \"total_results\": 58274, \"query\": \"telegraph\", \"total_articles\": 4315190, \"proportion\": 0.013504387987550954}, {\"year\": 1931, \"total_results\": 53353, \"query\": \"telegraph\", \"total_articles\": 3941724, \"proportion\": 0.013535447941053205}, {\"year\": 1932, \"total_results\": 52251, \"query\": \"telegraph\", \"total_articles\": 3890710, \"proportion\": 0.013429682500109235}, {\"year\": 1933, \"total_results\": 62549, \"query\": \"telegraph\", \"total_articles\": 4069854, \"proportion\": 0.015368855983531595}, {\"year\": 1934, \"total_results\": 69347, \"query\": \"telegraph\", \"total_articles\": 4183589, \"proportion\": 0.0165759590629003}, {\"year\": 1935, \"total_results\": 76391, \"query\": \"telegraph\", \"total_articles\": 4271382, \"proportion\": 0.01788437559553325}, {\"year\": 1936, \"total_results\": 78710, \"query\": \"telegraph\", \"total_articles\": 4377987, \"proportion\": 0.017978582394145987}, {\"year\": 1937, \"total_results\": 73975, \"query\": \"telegraph\", \"total_articles\": 4371925, \"proportion\": 0.0169204640976229}, {\"year\": 1938, \"total_results\": 88859, \"query\": \"telegraph\", \"total_articles\": 4359675, \"proportion\": 0.020382023889395424}, {\"year\": 1939, \"total_results\": 75326, \"query\": \"telegraph\", \"total_articles\": 4140014, \"proportion\": 0.01819462446262259}, {\"year\": 1940, \"total_results\": 59462, \"query\": \"telegraph\", \"total_articles\": 3497071, \"proportion\": 0.017003372250663482}, {\"year\": 1941, \"total_results\": 53022, \"query\": \"telegraph\", \"total_articles\": 3082401, \"proportion\": 0.01720152569376924}, {\"year\": 1942, \"total_results\": 41349, \"query\": \"telegraph\", \"total_articles\": 2470102, \"proportion\": 0.01673979455099425}, {\"year\": 1943, \"total_results\": 38829, \"query\": \"telegraph\", \"total_articles\": 2191842, \"proportion\": 0.01771523677345356}, {\"year\": 1944, \"total_results\": 40226, \"query\": \"telegraph\", \"total_articles\": 2233365, \"proportion\": 0.018011386405715143}, {\"year\": 1945, \"total_results\": 40853, \"query\": \"telegraph\", \"total_articles\": 2412554, \"proportion\": 0.01693350698056914}, {\"year\": 1946, \"total_results\": 43550, \"query\": \"telegraph\", \"total_articles\": 2748052, \"proportion\": 0.015847589492484132}, {\"year\": 1947, \"total_results\": 39487, \"query\": \"telegraph\", \"total_articles\": 2851317, \"proportion\": 0.013848688167608161}, {\"year\": 1948, \"total_results\": 28426, \"query\": \"telegraph\", \"total_articles\": 2610229, \"proportion\": 0.01089023223632869}, {\"year\": 1949, \"total_results\": 31959, \"query\": \"telegraph\", \"total_articles\": 2867051, \"proportion\": 0.011146993897213547}, {\"year\": 1950, \"total_results\": 30914, \"query\": \"telegraph\", \"total_articles\": 2812464, \"proportion\": 0.010991785139294228}, {\"year\": 1951, \"total_results\": 25016, \"query\": \"telegraph\", \"total_articles\": 2554766, \"proportion\": 0.009791894834986844}, {\"year\": 1952, \"total_results\": 22279, \"query\": \"telegraph\", \"total_articles\": 2608800, \"proportion\": 0.008539941735663907}, {\"year\": 1953, \"total_results\": 25536, \"query\": \"telegraph\", \"total_articles\": 2755677, \"proportion\": 0.009266688367323165}, {\"year\": 1954, \"total_results\": 28313, \"query\": \"telegraph\", \"total_articles\": 2787339, \"proportion\": 0.010157716732697386}, {\"year\": 1955, \"total_results\": 1369, \"query\": \"telegraph\", \"total_articles\": 279909, \"proportion\": 0.004890875248741555}, {\"year\": 1956, \"total_results\": 944, \"query\": \"telegraph\", \"total_articles\": 199416, \"proportion\": 0.004733822762466402}, {\"year\": 1957, \"total_results\": 473, \"query\": \"telegraph\", \"total_articles\": 126201, \"proportion\": 0.0037479893186266352}, {\"year\": 1958, \"total_results\": 525, \"query\": \"telegraph\", \"total_articles\": 126115, \"proportion\": 0.004162867224358721}, {\"year\": 1959, \"total_results\": 480, \"query\": \"telegraph\", \"total_articles\": 121259, \"proportion\": 0.003958469062090237}, {\"year\": 1960, \"total_results\": 498, \"query\": \"telegraph\", \"total_articles\": 115050, \"proportion\": 0.004328552803129074}, {\"year\": 1961, \"total_results\": 481, \"query\": \"telegraph\", \"total_articles\": 109239, \"proportion\": 0.004403189337141497}, {\"year\": 1962, \"total_results\": 460, \"query\": \"telegraph\", \"total_articles\": 108575, \"proportion\": 0.004236702740041446}, {\"year\": 1963, \"total_results\": 489, \"query\": \"telegraph\", \"total_articles\": 118702, \"proportion\": 0.004119559906320029}, {\"year\": 1964, \"total_results\": 441, \"query\": \"telegraph\", \"total_articles\": 120392, \"proportion\": 0.0036630340886437637}, {\"year\": 1965, \"total_results\": 493, \"query\": \"telegraph\", \"total_articles\": 126432, \"proportion\": 0.003899329283725639}, {\"year\": 1966, \"total_results\": 464, \"query\": \"telegraph\", \"total_articles\": 123452, \"proportion\": 0.0037585458315782653}, {\"year\": 1967, \"total_results\": 556, \"query\": \"telegraph\", \"total_articles\": 118503, \"proportion\": 0.004691864340987148}, {\"year\": 1968, \"total_results\": 557, \"query\": \"telegraph\", \"total_articles\": 124919, \"proportion\": 0.004458889360305478}, {\"year\": 1969, \"total_results\": 1033, \"query\": \"telegraph\", \"total_articles\": 151689, \"proportion\": 0.006809986221809096}, {\"year\": 1970, \"total_results\": 1176, \"query\": \"telegraph\", \"total_articles\": 166785, \"proportion\": 0.007050993794405972}, {\"year\": 1971, \"total_results\": 1017, \"query\": \"telegraph\", \"total_articles\": 165077, \"proportion\": 0.006160761341676914}, {\"year\": 1972, \"total_results\": 855, \"query\": \"telegraph\", \"total_articles\": 164687, \"proportion\": 0.0051916666160656275}, {\"year\": 1973, \"total_results\": 769, \"query\": \"telegraph\", \"total_articles\": 161814, \"proportion\": 0.004752370005067547}, {\"year\": 1974, \"total_results\": 559, \"query\": \"telegraph\", \"total_articles\": 159025, \"proportion\": 0.00351517057066499}, {\"year\": 1975, \"total_results\": 701, \"query\": \"telegraph\", \"total_articles\": 148204, \"proportion\": 0.004729966802515452}, {\"year\": 1976, \"total_results\": 642, \"query\": \"telegraph\", \"total_articles\": 148816, \"proportion\": 0.0043140522524459735}, {\"year\": 1977, \"total_results\": 415, \"query\": \"telegraph\", \"total_articles\": 151194, \"proportion\": 0.00274481791605487}, {\"year\": 1978, \"total_results\": 363, \"query\": \"telegraph\", \"total_articles\": 159199, \"proportion\": 0.0022801650764137965}, {\"year\": 1979, \"total_results\": 427, \"query\": \"telegraph\", \"total_articles\": 167101, \"proportion\": 0.0025553407819223104}, {\"year\": 1980, \"total_results\": 397, \"query\": \"telegraph\", \"total_articles\": 165664, \"proportion\": 0.002396416843731891}, {\"year\": 1981, \"total_results\": 453, \"query\": \"telegraph\", \"total_articles\": 142781, \"proportion\": 0.003172691044326626}, {\"year\": 1982, \"total_results\": 377, \"query\": \"telegraph\", \"total_articles\": 130222, \"proportion\": 0.00289505613490808}, {\"year\": 1983, \"total_results\": 352, \"query\": \"telegraph\", \"total_articles\": 117491, \"proportion\": 0.0029959741597228723}, {\"year\": 1984, \"total_results\": 406, \"query\": \"telegraph\", \"total_articles\": 118615, \"proportion\": 0.0034228385954558865}, {\"year\": 1985, \"total_results\": 447, \"query\": \"telegraph\", \"total_articles\": 128586, \"proportion\": 0.003476272689095236}, {\"year\": 1986, \"total_results\": 436, \"query\": \"telegraph\", \"total_articles\": 128312, \"proportion\": 0.0033979674543300705}, {\"year\": 1987, \"total_results\": 477, \"query\": \"telegraph\", \"total_articles\": 127591, \"proportion\": 0.0037385082019891686}, {\"year\": 1988, \"total_results\": 451, \"query\": \"telegraph\", \"total_articles\": 136944, \"proportion\": 0.003293316976282276}, {\"year\": 1989, \"total_results\": 384, \"query\": \"telegraph\", \"total_articles\": 140206, \"proportion\": 0.002738827154330057}, {\"year\": 1990, \"total_results\": 692, \"query\": \"telegraph\", \"total_articles\": 132596, \"proportion\": 0.0052188602974448705}, {\"year\": 1991, \"total_results\": 541, \"query\": \"telegraph\", \"total_articles\": 131729, \"proportion\": 0.004106916472454813}, {\"year\": 1992, \"total_results\": 406, \"query\": \"telegraph\", \"total_articles\": 137422, \"proportion\": 0.0029544032251022398}, {\"year\": 1993, \"total_results\": 455, \"query\": \"telegraph\", \"total_articles\": 137978, \"proportion\": 0.003297627157952717}, {\"year\": 1994, \"total_results\": 422, \"query\": \"telegraph\", \"total_articles\": 133420, \"proportion\": 0.0031629440863438765}, {\"year\": 1995, \"total_results\": 391, \"query\": \"telegraph\", \"total_articles\": 132425, \"proportion\": 0.0029526146875589955}, {\"year\": 1996, \"total_results\": 62, \"query\": \"telegraph\", \"total_articles\": 47101, \"proportion\": 0.00131632024797775}, {\"year\": 1997, \"total_results\": 101, \"query\": \"telegraph\", \"total_articles\": 49822, \"proportion\": 0.002027216892136004}, {\"year\": 1998, \"total_results\": 96, \"query\": \"telegraph\", \"total_articles\": 56947, \"proportion\": 0.001685778004109084}, {\"year\": 1999, \"total_results\": 140, \"query\": \"telegraph\", \"total_articles\": 67005, \"proportion\": 0.0020893963137079323}, {\"year\": 2000, \"total_results\": 109, \"query\": \"telegraph\", \"total_articles\": 44770, \"proportion\": 0.0024346660710297075}, {\"year\": 2001, \"total_results\": 65, \"query\": \"telegraph\", \"total_articles\": 42081, \"proportion\": 0.0015446400988569664}, {\"year\": 2002, \"total_results\": 70, \"query\": \"telegraph\", \"total_articles\": 42631, \"proportion\": 0.001641997607374915}, {\"year\": 2003, \"total_results\": 49, \"query\": \"telegraph\", \"total_articles\": 24075, \"proportion\": 0.002035306334371755}, {\"year\": 2004, \"total_results\": 45, \"query\": \"telegraph\", \"total_articles\": 22072, \"proportion\": 0.0020387821674519753}, {\"year\": 2005, \"total_results\": 35, \"query\": \"telegraph\", \"total_articles\": 18071, \"proportion\": 0.0019368048254108793}, {\"year\": 2006, \"total_results\": 29, \"query\": \"telegraph\", \"total_articles\": 17708, \"proportion\": 0.0016376778857013778}, {\"year\": 2007, \"total_results\": 19, \"query\": \"telegraph\", \"total_articles\": 18719, \"proportion\": 0.001015011485656285}, {\"year\": 2008, \"total_results\": 33, \"query\": \"telegraph\", \"total_articles\": 17059, \"proportion\": 0.0019344627469371006}, {\"year\": 2009, \"total_results\": 4, \"query\": \"telegraph\", \"total_articles\": 5762, \"proportion\": 0.0006942034015966678}, {\"year\": 2010, \"total_results\": 8, \"query\": \"telegraph\", \"total_articles\": 5794, \"proportion\": 0.001380738695201933}, {\"year\": 2011, \"total_results\": 3, \"query\": \"telegraph\", \"total_articles\": 5386, \"proportion\": 0.0005569996286669142}, {\"year\": 2012, \"total_results\": 6, \"query\": \"telegraph\", \"total_articles\": 4832, \"proportion\": 0.0012417218543046358}, {\"year\": 2013, \"total_results\": 2, \"query\": \"telegraph\", \"total_articles\": 4904, \"proportion\": 0.0004078303425774878}, {\"year\": 2014, \"total_results\": 8, \"query\": \"telegraph\", \"total_articles\": 4718, \"proportion\": 0.001695633743111488}, {\"year\": 2015, \"total_results\": 10, \"query\": \"telegraph\", \"total_articles\": 4819, \"proportion\": 0.002075119319360863}, {\"year\": 1828, \"total_results\": 2, \"query\": \"radio\", \"total_articles\": 7335, \"proportion\": 0.00027266530334015}, {\"year\": 1830, \"total_results\": 1, \"query\": \"radio\", \"total_articles\": 8977, \"proportion\": 0.00011139578923916676}, {\"year\": 1831, \"total_results\": 1, \"query\": \"radio\", \"total_articles\": 10989, \"proportion\": 9.1000091000091e-05}, {\"year\": 1832, \"total_results\": 1, \"query\": \"radio\", \"total_articles\": 14814, \"proportion\": 6.750371270419872e-05}, {\"year\": 1833, \"total_results\": 2, \"query\": \"radio\", \"total_articles\": 15622, \"proportion\": 0.00012802458071949814}, {\"year\": 1834, \"total_results\": 5, \"query\": \"radio\", \"total_articles\": 18704, \"proportion\": 0.00026732249786142}, {\"year\": 1835, \"total_results\": 3, \"query\": \"radio\", \"total_articles\": 20389, \"proportion\": 0.000147138162734808}, {\"year\": 1836, \"total_results\": 13, \"query\": \"radio\", \"total_articles\": 20553, \"proportion\": 0.0006325110689437065}, {\"year\": 1837, \"total_results\": 8, \"query\": \"radio\", \"total_articles\": 21805, \"proportion\": 0.0003668883283650539}, {\"year\": 1838, \"total_results\": 7, \"query\": \"radio\", \"total_articles\": 25911, \"proportion\": 0.00027015553239936706}, {\"year\": 1839, \"total_results\": 7, \"query\": \"radio\", \"total_articles\": 32876, \"proportion\": 0.00021292127996106583}, {\"year\": 1840, \"total_results\": 3, \"query\": \"radio\", \"total_articles\": 42411, \"proportion\": 7.073636556553724e-05}, {\"year\": 1841, \"total_results\": 30, \"query\": \"radio\", \"total_articles\": 46377, \"proportion\": 0.0006468723720809885}, {\"year\": 1842, \"total_results\": 13, \"query\": \"radio\", \"total_articles\": 47934, \"proportion\": 0.0002712062419159678}, {\"year\": 1843, \"total_results\": 8, \"query\": \"radio\", \"total_articles\": 49913, \"proportion\": 0.000160278885260353}, {\"year\": 1844, \"total_results\": 10, \"query\": \"radio\", \"total_articles\": 54331, \"proportion\": 0.00018405698404225948}, {\"year\": 1845, \"total_results\": 15, \"query\": \"radio\", \"total_articles\": 63389, \"proportion\": 0.00023663411632933158}, {\"year\": 1846, \"total_results\": 9, \"query\": \"radio\", \"total_articles\": 62153, \"proportion\": 0.00014480395153894423}, {\"year\": 1847, \"total_results\": 21, \"query\": \"radio\", \"total_articles\": 62767, \"proportion\": 0.00033457071391017573}, {\"year\": 1848, \"total_results\": 12, \"query\": \"radio\", \"total_articles\": 63463, \"proportion\": 0.00018908655437026298}, {\"year\": 1849, \"total_results\": 25, \"query\": \"radio\", \"total_articles\": 62794, \"proportion\": 0.00039812720960601334}, {\"year\": 1850, \"total_results\": 42, \"query\": \"radio\", \"total_articles\": 81624, \"proportion\": 0.0005145545427815349}, {\"year\": 1851, \"total_results\": 31, \"query\": \"radio\", \"total_articles\": 96566, \"proportion\": 0.00032102396288548763}, {\"year\": 1852, \"total_results\": 45, \"query\": \"radio\", \"total_articles\": 79960, \"proportion\": 0.0005627813906953476}, {\"year\": 1853, \"total_results\": 113, \"query\": \"radio\", \"total_articles\": 96033, \"proportion\": 0.0011766788499786532}, {\"year\": 1854, \"total_results\": 184, \"query\": \"radio\", \"total_articles\": 118883, \"proportion\": 0.0015477402151695364}, {\"year\": 1855, \"total_results\": 71, \"query\": \"radio\", \"total_articles\": 159947, \"proportion\": 0.0004438970408947964}, {\"year\": 1856, \"total_results\": 72, \"query\": \"radio\", \"total_articles\": 168695, \"proportion\": 0.00042680577373366133}, {\"year\": 1857, \"total_results\": 86, \"query\": \"radio\", \"total_articles\": 175343, \"proportion\": 0.0004904672556075805}, {\"year\": 1858, \"total_results\": 141, \"query\": \"radio\", \"total_articles\": 178765, \"proportion\": 0.0007887450004195452}, {\"year\": 1859, \"total_results\": 126, \"query\": \"radio\", \"total_articles\": 202996, \"proportion\": 0.0006207018857514434}, {\"year\": 1860, \"total_results\": 161, \"query\": \"radio\", \"total_articles\": 214554, \"proportion\": 0.0007503938402453462}, {\"year\": 1861, \"total_results\": 189, \"query\": \"radio\", \"total_articles\": 237976, \"proportion\": 0.0007941977342253}, {\"year\": 1862, \"total_results\": 150, \"query\": \"radio\", \"total_articles\": 244694, \"proportion\": 0.0006130105356077386}, {\"year\": 1863, \"total_results\": 170, \"query\": \"radio\", \"total_articles\": 251706, \"proportion\": 0.0006753911309225843}, {\"year\": 1864, \"total_results\": 141, \"query\": \"radio\", \"total_articles\": 264282, \"proportion\": 0.0005335210116466501}, {\"year\": 1865, \"total_results\": 134, \"query\": \"radio\", \"total_articles\": 283302, \"proportion\": 0.0004729934839852878}, {\"year\": 1866, \"total_results\": 115, \"query\": \"radio\", \"total_articles\": 289342, \"proportion\": 0.0003974535324978745}, {\"year\": 1867, \"total_results\": 118, \"query\": \"radio\", \"total_articles\": 297136, \"proportion\": 0.0003971245490280545}, {\"year\": 1868, \"total_results\": 158, \"query\": \"radio\", \"total_articles\": 304914, \"proportion\": 0.0005181788963445431}, {\"year\": 1869, \"total_results\": 156, \"query\": \"radio\", \"total_articles\": 327192, \"proportion\": 0.0004767842734541187}, {\"year\": 1870, \"total_results\": 159, \"query\": \"radio\", \"total_articles\": 373286, \"proportion\": 0.000425946861119892}, {\"year\": 1871, \"total_results\": 197, \"query\": \"radio\", \"total_articles\": 359781, \"proportion\": 0.0005475553183742333}, {\"year\": 1872, \"total_results\": 177, \"query\": \"radio\", \"total_articles\": 383784, \"proportion\": 0.000461196923269339}, {\"year\": 1873, \"total_results\": 203, \"query\": \"radio\", \"total_articles\": 420951, \"proportion\": 0.00048224140101817077}, {\"year\": 1874, \"total_results\": 225, \"query\": \"radio\", \"total_articles\": 436788, \"proportion\": 0.0005151240418692821}, {\"year\": 1875, \"total_results\": 262, \"query\": \"radio\", \"total_articles\": 466891, \"proportion\": 0.0005611588143699493}, {\"year\": 1876, \"total_results\": 284, \"query\": \"radio\", \"total_articles\": 477911, \"proportion\": 0.0005942529048295603}, {\"year\": 1877, \"total_results\": 346, \"query\": \"radio\", \"total_articles\": 499944, \"proportion\": 0.0006920775126814204}, {\"year\": 1878, \"total_results\": 335, \"query\": \"radio\", \"total_articles\": 569203, \"proportion\": 0.0005885422248301573}, {\"year\": 1879, \"total_results\": 380, \"query\": \"radio\", \"total_articles\": 607530, \"proportion\": 0.0006254835152173556}, {\"year\": 1880, \"total_results\": 365, \"query\": \"radio\", \"total_articles\": 624376, \"proportion\": 0.0005845836483144771}, {\"year\": 1881, \"total_results\": 513, \"query\": \"radio\", \"total_articles\": 667930, \"proportion\": 0.0007680445555672002}, {\"year\": 1882, \"total_results\": 458, \"query\": \"radio\", \"total_articles\": 745914, \"proportion\": 0.0006140118029692431}, {\"year\": 1883, \"total_results\": 630, \"query\": \"radio\", \"total_articles\": 778865, \"proportion\": 0.0008088693162486438}, {\"year\": 1884, \"total_results\": 597, \"query\": \"radio\", \"total_articles\": 858553, \"proportion\": 0.0006953560234487562}, {\"year\": 1885, \"total_results\": 640, \"query\": \"radio\", \"total_articles\": 911515, \"proportion\": 0.0007021277762845373}, {\"year\": 1886, \"total_results\": 720, \"query\": \"radio\", \"total_articles\": 994828, \"proportion\": 0.0007237431998295183}, {\"year\": 1887, \"total_results\": 675, \"query\": \"radio\", \"total_articles\": 1043492, \"proportion\": 0.0006468664829246415}, {\"year\": 1888, \"total_results\": 806, \"query\": \"radio\", \"total_articles\": 1162025, \"proportion\": 0.0006936167466276543}, {\"year\": 1889, \"total_results\": 786, \"query\": \"radio\", \"total_articles\": 1252262, \"proportion\": 0.0006276641789018591}, {\"year\": 1890, \"total_results\": 841, \"query\": \"radio\", \"total_articles\": 1357654, \"proportion\": 0.0006194509057536015}, {\"year\": 1891, \"total_results\": 806, \"query\": \"radio\", \"total_articles\": 1429274, \"proportion\": 0.000563922662834418}, {\"year\": 1892, \"total_results\": 830, \"query\": \"radio\", \"total_articles\": 1486705, \"proportion\": 0.0005582815689729973}, {\"year\": 1893, \"total_results\": 848, \"query\": \"radio\", \"total_articles\": 1510849, \"proportion\": 0.0005612738268351106}, {\"year\": 1894, \"total_results\": 899, \"query\": \"radio\", \"total_articles\": 1560809, \"proportion\": 0.0005759833522231099}, {\"year\": 1895, \"total_results\": 964, \"query\": \"radio\", \"total_articles\": 1678554, \"proportion\": 0.0005743038353249284}, {\"year\": 1896, \"total_results\": 1066, \"query\": \"radio\", \"total_articles\": 1798582, \"proportion\": 0.0005926891295476102}, {\"year\": 1897, \"total_results\": 1075, \"query\": \"radio\", \"total_articles\": 1918088, \"proportion\": 0.0005604539520605937}, {\"year\": 1898, \"total_results\": 969, \"query\": \"radio\", \"total_articles\": 2141840, \"proportion\": 0.00045241474619952935}, {\"year\": 1899, \"total_results\": 979, \"query\": \"radio\", \"total_articles\": 2308829, \"proportion\": 0.00042402447301207667}, {\"year\": 1900, \"total_results\": 928, \"query\": \"radio\", \"total_articles\": 2539736, \"proportion\": 0.00036539230849190626}, {\"year\": 1901, \"total_results\": 959, \"query\": \"radio\", \"total_articles\": 2618191, \"proportion\": 0.0003662834376865553}, {\"year\": 1902, \"total_results\": 1065, \"query\": \"radio\", \"total_articles\": 2674429, \"proportion\": 0.00039821584345667803}, {\"year\": 1903, \"total_results\": 1259, \"query\": \"radio\", \"total_articles\": 2713889, \"proportion\": 0.00046390990935885735}, {\"year\": 1904, \"total_results\": 1748, \"query\": \"radio\", \"total_articles\": 2878677, \"proportion\": 0.0006072233876881637}, {\"year\": 1905, \"total_results\": 1862, \"query\": \"radio\", \"total_articles\": 3009076, \"proportion\": 0.0006187946067164804}, {\"year\": 1906, \"total_results\": 2210, \"query\": \"radio\", \"total_articles\": 3057500, \"proportion\": 0.0007228127555192151}, {\"year\": 1907, \"total_results\": 2008, \"query\": \"radio\", \"total_articles\": 3205575, \"proportion\": 0.000626408678630199}, {\"year\": 1908, \"total_results\": 1594, \"query\": \"radio\", \"total_articles\": 3314151, \"proportion\": 0.00048096782554566764}, {\"year\": 1909, \"total_results\": 2109, \"query\": \"radio\", \"total_articles\": 3379982, \"proportion\": 0.0006239678199469701}, {\"year\": 1910, \"total_results\": 2733, \"query\": \"radio\", \"total_articles\": 3613826, \"proportion\": 0.000756262199674251}, {\"year\": 1911, \"total_results\": 3380, \"query\": \"radio\", \"total_articles\": 3740413, \"proportion\": 0.00090364352813446}, {\"year\": 1912, \"total_results\": 3835, \"query\": \"radio\", \"total_articles\": 3890753, \"proportion\": 0.000985670383085228}, {\"year\": 1913, \"total_results\": 4217, \"query\": \"radio\", \"total_articles\": 3957073, \"proportion\": 0.0010656866830609393}, {\"year\": 1914, \"total_results\": 4835, \"query\": \"radio\", \"total_articles\": 4654167, \"proportion\": 0.001038853999007771}, {\"year\": 1915, \"total_results\": 4528, \"query\": \"radio\", \"total_articles\": 4751447, \"proportion\": 0.0009529728522700558}, {\"year\": 1916, \"total_results\": 3800, \"query\": \"radio\", \"total_articles\": 4346277, \"proportion\": 0.0008743115084473447}, {\"year\": 1917, \"total_results\": 3803, \"query\": \"radio\", \"total_articles\": 4239223, \"proportion\": 0.0008970983597701748}, {\"year\": 1918, \"total_results\": 3754, \"query\": \"radio\", \"total_articles\": 4016436, \"proportion\": 0.0009346594841795064}, {\"year\": 1919, \"total_results\": 4369, \"query\": \"radio\", \"total_articles\": 3486517, \"proportion\": 0.0012531130638399296}, {\"year\": 1920, \"total_results\": 5597, \"query\": \"radio\", \"total_articles\": 3237978, \"proportion\": 0.0017285478777187492}, {\"year\": 1921, \"total_results\": 5765, \"query\": \"radio\", \"total_articles\": 3435873, \"proportion\": 0.0016778850673467849}, {\"year\": 1922, \"total_results\": 8075, \"query\": \"radio\", \"total_articles\": 3562135, \"proportion\": 0.0022668989243810242}, {\"year\": 1923, \"total_results\": 12316, \"query\": \"radio\", \"total_articles\": 3828641, \"proportion\": 0.0032168072169733333}, {\"year\": 1924, \"total_results\": 25905, \"query\": \"radio\", \"total_articles\": 4125328, \"proportion\": 0.006279500684551628}, {\"year\": 1925, \"total_results\": 39329, \"query\": \"radio\", \"total_articles\": 4086958, \"proportion\": 0.009623049710811807}, {\"year\": 1926, \"total_results\": 44128, \"query\": \"radio\", \"total_articles\": 4069533, \"proportion\": 0.010843504647830599}, {\"year\": 1927, \"total_results\": 55388, \"query\": \"radio\", \"total_articles\": 4126770, \"proportion\": 0.013421634837899859}, {\"year\": 1928, \"total_results\": 62382, \"query\": \"radio\", \"total_articles\": 4234586, \"proportion\": 0.014731546366043811}, {\"year\": 1929, \"total_results\": 62877, \"query\": \"radio\", \"total_articles\": 4460722, \"proportion\": 0.014095700202792284}, {\"year\": 1930, \"total_results\": 65526, \"query\": \"radio\", \"total_articles\": 4315190, \"proportion\": 0.015184962886918073}, {\"year\": 1931, \"total_results\": 67117, \"query\": \"radio\", \"total_articles\": 3941724, \"proportion\": 0.017027321040235185}, {\"year\": 1932, \"total_results\": 73584, \"query\": \"radio\", \"total_articles\": 3890710, \"proportion\": 0.01891274343243264}, {\"year\": 1933, \"total_results\": 80840, \"query\": \"radio\", \"total_articles\": 4069854, \"proportion\": 0.0198631203969479}, {\"year\": 1934, \"total_results\": 95678, \"query\": \"radio\", \"total_articles\": 4183589, \"proportion\": 0.02286983735735035}, {\"year\": 1935, \"total_results\": 103731, \"query\": \"radio\", \"total_articles\": 4271382, \"proportion\": 0.024285114279172407}, {\"year\": 1936, \"total_results\": 112885, \"query\": \"radio\", \"total_articles\": 4377987, \"proportion\": 0.02578468140723122}, {\"year\": 1937, \"total_results\": 125107, \"query\": \"radio\", \"total_articles\": 4371925, \"proportion\": 0.028615998673353273}, {\"year\": 1938, \"total_results\": 135488, \"query\": \"radio\", \"total_articles\": 4359675, \"proportion\": 0.031077545917987007}, {\"year\": 1939, \"total_results\": 132571, \"query\": \"radio\", \"total_articles\": 4140014, \"proportion\": 0.032021872389803516}, {\"year\": 1940, \"total_results\": 130723, \"query\": \"radio\", \"total_articles\": 3497071, \"proportion\": 0.03738071088633888}, {\"year\": 1941, \"total_results\": 136193, \"query\": \"radio\", \"total_articles\": 3082401, \"proportion\": 0.044184063008025236}, {\"year\": 1942, \"total_results\": 130287, \"query\": \"radio\", \"total_articles\": 2470102, \"proportion\": 0.05274559512117313}, {\"year\": 1943, \"total_results\": 125981, \"query\": \"radio\", \"total_articles\": 2191842, \"proportion\": 0.057477226916903684}, {\"year\": 1944, \"total_results\": 118824, \"query\": \"radio\", \"total_articles\": 2233365, \"proportion\": 0.05320402173402019}, {\"year\": 1945, \"total_results\": 119679, \"query\": \"radio\", \"total_articles\": 2412554, \"proportion\": 0.04960676527862174}, {\"year\": 1946, \"total_results\": 122697, \"query\": \"radio\", \"total_articles\": 2748052, \"proportion\": 0.04464871843764237}, {\"year\": 1947, \"total_results\": 129430, \"query\": \"radio\", \"total_articles\": 2851317, \"proportion\": 0.045393058716375626}, {\"year\": 1948, \"total_results\": 116817, \"query\": \"radio\", \"total_articles\": 2610229, \"proportion\": 0.04475354461236926}, {\"year\": 1949, \"total_results\": 122371, \"query\": \"radio\", \"total_articles\": 2867051, \"proportion\": 0.042681835795735756}, {\"year\": 1950, \"total_results\": 121356, \"query\": \"radio\", \"total_articles\": 2812464, \"proportion\": 0.04314935231170959}, {\"year\": 1951, \"total_results\": 108884, \"query\": \"radio\", \"total_articles\": 2554766, \"proportion\": 0.04261995032030331}, {\"year\": 1952, \"total_results\": 107346, \"query\": \"radio\", \"total_articles\": 2608800, \"proportion\": 0.04114765409383624}, {\"year\": 1953, \"total_results\": 120465, \"query\": \"radio\", \"total_articles\": 2755677, \"proportion\": 0.043715210454636014}, {\"year\": 1954, \"total_results\": 130321, \"query\": \"radio\", \"total_articles\": 2787339, \"proportion\": 0.0467546286978369}, {\"year\": 1955, \"total_results\": 12298, \"query\": \"radio\", \"total_articles\": 279909, \"proportion\": 0.04393570767642341}, {\"year\": 1956, \"total_results\": 9952, \"query\": \"radio\", \"total_articles\": 199416, \"proportion\": 0.04990572471617122}, {\"year\": 1957, \"total_results\": 5977, \"query\": \"radio\", \"total_articles\": 126201, \"proportion\": 0.047360955935372935}, {\"year\": 1958, \"total_results\": 6254, \"query\": \"radio\", \"total_articles\": 126115, \"proportion\": 0.04958966023074178}, {\"year\": 1959, \"total_results\": 6045, \"query\": \"radio\", \"total_articles\": 121259, \"proportion\": 0.049851969750698916}, {\"year\": 1960, \"total_results\": 6146, \"query\": \"radio\", \"total_articles\": 115050, \"proportion\": 0.05342025206431986}, {\"year\": 1961, \"total_results\": 5503, \"query\": \"radio\", \"total_articles\": 109239, \"proportion\": 0.05037578154322174}, {\"year\": 1962, \"total_results\": 5410, \"query\": \"radio\", \"total_articles\": 108575, \"proportion\": 0.04982730831222657}, {\"year\": 1963, \"total_results\": 6531, \"query\": \"radio\", \"total_articles\": 118702, \"proportion\": 0.05502013445434786}, {\"year\": 1964, \"total_results\": 5780, \"query\": \"radio\", \"total_articles\": 120392, \"proportion\": 0.04800983454050103}, {\"year\": 1965, \"total_results\": 6312, \"query\": \"radio\", \"total_articles\": 126432, \"proportion\": 0.04992406985573273}, {\"year\": 1966, \"total_results\": 5839, \"query\": \"radio\", \"total_articles\": 123452, \"proportion\": 0.047297735152123904}, {\"year\": 1967, \"total_results\": 5675, \"query\": \"radio\", \"total_articles\": 118503, \"proportion\": 0.04788908297680228}, {\"year\": 1968, \"total_results\": 5912, \"query\": \"radio\", \"total_articles\": 124919, \"proportion\": 0.04732666768065707}, {\"year\": 1969, \"total_results\": 7238, \"query\": \"radio\", \"total_articles\": 151689, \"proportion\": 0.0477160506035375}, {\"year\": 1970, \"total_results\": 7506, \"query\": \"radio\", \"total_articles\": 166785, \"proportion\": 0.04500404712654016}, {\"year\": 1971, \"total_results\": 7192, \"query\": \"radio\", \"total_articles\": 165077, \"proportion\": 0.043567547265821405}, {\"year\": 1972, \"total_results\": 7452, \"query\": \"radio\", \"total_articles\": 164687, \"proportion\": 0.04524947324318252}, {\"year\": 1973, \"total_results\": 6860, \"query\": \"radio\", \"total_articles\": 161814, \"proportion\": 0.0423943540113958}, {\"year\": 1974, \"total_results\": 6811, \"query\": \"radio\", \"total_articles\": 159025, \"proportion\": 0.04282974375098255}, {\"year\": 1975, \"total_results\": 6789, \"query\": \"radio\", \"total_articles\": 148204, \"proportion\": 0.045808480202963485}, {\"year\": 1976, \"total_results\": 7341, \"query\": \"radio\", \"total_articles\": 148816, \"proportion\": 0.04932937318567896}, {\"year\": 1977, \"total_results\": 7640, \"query\": \"radio\", \"total_articles\": 151194, \"proportion\": 0.05053110573170893}, {\"year\": 1978, \"total_results\": 7697, \"query\": \"radio\", \"total_articles\": 159199, \"proportion\": 0.04834829364506058}, {\"year\": 1979, \"total_results\": 7868, \"query\": \"radio\", \"total_articles\": 167101, \"proportion\": 0.04708529571935536}, {\"year\": 1980, \"total_results\": 7622, \"query\": \"radio\", \"total_articles\": 165664, \"proportion\": 0.04600878887386517}, {\"year\": 1981, \"total_results\": 7194, \"query\": \"radio\", \"total_articles\": 142781, \"proportion\": 0.05038485512778311}, {\"year\": 1982, \"total_results\": 6068, \"query\": \"radio\", \"total_articles\": 130222, \"proportion\": 0.04659734914223403}, {\"year\": 1983, \"total_results\": 5997, \"query\": \"radio\", \"total_articles\": 117491, \"proportion\": 0.05104220748823314}, {\"year\": 1984, \"total_results\": 6228, \"query\": \"radio\", \"total_articles\": 118615, \"proportion\": 0.05250600682881592}, {\"year\": 1985, \"total_results\": 6248, \"query\": \"radio\", \"total_articles\": 128586, \"proportion\": 0.04859004868337144}, {\"year\": 1986, \"total_results\": 6220, \"query\": \"radio\", \"total_articles\": 128312, \"proportion\": 0.04847559074755284}, {\"year\": 1987, \"total_results\": 6196, \"query\": \"radio\", \"total_articles\": 127591, \"proportion\": 0.04856141890885721}, {\"year\": 1988, \"total_results\": 6576, \"query\": \"radio\", \"total_articles\": 136944, \"proportion\": 0.04801962846126884}, {\"year\": 1989, \"total_results\": 6002, \"query\": \"radio\", \"total_articles\": 140206, \"proportion\": 0.04280843901116928}, {\"year\": 1990, \"total_results\": 5806, \"query\": \"radio\", \"total_articles\": 132596, \"proportion\": 0.043787142900238316}, {\"year\": 1991, \"total_results\": 5999, \"query\": \"radio\", \"total_articles\": 131729, \"proportion\": 0.045540465652969354}, {\"year\": 1992, \"total_results\": 5403, \"query\": \"radio\", \"total_articles\": 137422, \"proportion\": 0.03931684883060936}, {\"year\": 1993, \"total_results\": 5114, \"query\": \"radio\", \"total_articles\": 137978, \"proportion\": 0.03706387974894548}, {\"year\": 1994, \"total_results\": 4776, \"query\": \"radio\", \"total_articles\": 133420, \"proportion\": 0.035796732124119324}, {\"year\": 1995, \"total_results\": 4822, \"query\": \"radio\", \"total_articles\": 132425, \"proportion\": 0.03641306399848971}, {\"year\": 1996, \"total_results\": 997, \"query\": \"radio\", \"total_articles\": 47101, \"proportion\": 0.02116727882635188}, {\"year\": 1997, \"total_results\": 1062, \"query\": \"radio\", \"total_articles\": 49822, \"proportion\": 0.02131588454899442}, {\"year\": 1998, \"total_results\": 1253, \"query\": \"radio\", \"total_articles\": 56947, \"proportion\": 0.022002914991132105}, {\"year\": 1999, \"total_results\": 1588, \"query\": \"radio\", \"total_articles\": 67005, \"proportion\": 0.023699723901201404}, {\"year\": 2000, \"total_results\": 1057, \"query\": \"radio\", \"total_articles\": 44770, \"proportion\": 0.023609559973196338}, {\"year\": 2001, \"total_results\": 941, \"query\": \"radio\", \"total_articles\": 42081, \"proportion\": 0.022361635892683158}, {\"year\": 2002, \"total_results\": 937, \"query\": \"radio\", \"total_articles\": 42631, \"proportion\": 0.021979310830147075}, {\"year\": 2003, \"total_results\": 765, \"query\": \"radio\", \"total_articles\": 24075, \"proportion\": 0.03177570093457944}, {\"year\": 2004, \"total_results\": 645, \"query\": \"radio\", \"total_articles\": 22072, \"proportion\": 0.02922254440014498}, {\"year\": 2005, \"total_results\": 491, \"query\": \"radio\", \"total_articles\": 18071, \"proportion\": 0.027170604836478335}, {\"year\": 2006, \"total_results\": 511, \"query\": \"radio\", \"total_articles\": 17708, \"proportion\": 0.0288570137790829}, {\"year\": 2007, \"total_results\": 449, \"query\": \"radio\", \"total_articles\": 18719, \"proportion\": 0.02398632405577221}, {\"year\": 2008, \"total_results\": 420, \"query\": \"radio\", \"total_articles\": 17059, \"proportion\": 0.024620434961017644}, {\"year\": 2009, \"total_results\": 114, \"query\": \"radio\", \"total_articles\": 5762, \"proportion\": 0.019784796945505032}, {\"year\": 2010, \"total_results\": 122, \"query\": \"radio\", \"total_articles\": 5794, \"proportion\": 0.02105626510182948}, {\"year\": 2011, \"total_results\": 96, \"query\": \"radio\", \"total_articles\": 5386, \"proportion\": 0.017823988117341254}, {\"year\": 2012, \"total_results\": 90, \"query\": \"radio\", \"total_articles\": 4832, \"proportion\": 0.018625827814569538}, {\"year\": 2013, \"total_results\": 78, \"query\": \"radio\", \"total_articles\": 4904, \"proportion\": 0.015905383360522024}, {\"year\": 2014, \"total_results\": 73, \"query\": \"radio\", \"total_articles\": 4718, \"proportion\": 0.015472657905892327}, {\"year\": 2015, \"total_results\": 64, \"query\": \"radio\", \"total_articles\": 4819, \"proportion\": 0.013280763643909526}, {\"year\": 2016, \"total_results\": 16, \"query\": \"radio\", \"total_articles\": 1422, \"proportion\": 0.011251758087201125}, {\"year\": 2017, \"total_results\": 19, \"query\": \"radio\", \"total_articles\": 1094, \"proportion\": 0.01736745886654479}, {\"year\": 2018, \"total_results\": 13, \"query\": \"radio\", \"total_articles\": 1100, \"proportion\": 0.011818181818181818}, {\"year\": 2019, \"total_results\": 16, \"query\": \"radio\", \"total_articles\": 1153, \"proportion\": 0.013876843018213356}, {\"year\": 1827, \"total_results\": 2, \"query\": \"wireless\", \"total_articles\": 6618, \"proportion\": 0.0003022061045633122}, {\"year\": 1828, \"total_results\": 1, \"query\": \"wireless\", \"total_articles\": 7335, \"proportion\": 0.000136332651670075}, {\"year\": 1829, \"total_results\": 1, \"query\": \"wireless\", \"total_articles\": 8935, \"proportion\": 0.0001119194180190263}, {\"year\": 1830, \"total_results\": 1, \"query\": \"wireless\", \"total_articles\": 8977, \"proportion\": 0.00011139578923916676}, {\"year\": 1834, \"total_results\": 4, \"query\": \"wireless\", \"total_articles\": 18704, \"proportion\": 0.000213857998289136}, {\"year\": 1836, \"total_results\": 1, \"query\": \"wireless\", \"total_articles\": 20553, \"proportion\": 4.8654697611054344e-05}, {\"year\": 1837, \"total_results\": 4, \"query\": \"wireless\", \"total_articles\": 21805, \"proportion\": 0.00018344416418252695}, {\"year\": 1838, \"total_results\": 1, \"query\": \"wireless\", \"total_articles\": 25911, \"proportion\": 3.859364748562387e-05}, {\"year\": 1839, \"total_results\": 1, \"query\": \"wireless\", \"total_articles\": 32876, \"proportion\": 3.0417325708723688e-05}, {\"year\": 1840, \"total_results\": 4, \"query\": \"wireless\", \"total_articles\": 42411, \"proportion\": 9.431515408738298e-05}, {\"year\": 1841, \"total_results\": 5, \"query\": \"wireless\", \"total_articles\": 46377, \"proportion\": 0.00010781206201349807}, {\"year\": 1842, \"total_results\": 2, \"query\": \"wireless\", \"total_articles\": 47934, \"proportion\": 4.17240372178412e-05}, {\"year\": 1843, \"total_results\": 1, \"query\": \"wireless\", \"total_articles\": 49913, \"proportion\": 2.0034860657544126e-05}, {\"year\": 1844, \"total_results\": 2, \"query\": \"wireless\", \"total_articles\": 54331, \"proportion\": 3.68113968084519e-05}, {\"year\": 1845, \"total_results\": 2, \"query\": \"wireless\", \"total_articles\": 63389, \"proportion\": 3.155121551057755e-05}, {\"year\": 1846, \"total_results\": 3, \"query\": \"wireless\", \"total_articles\": 62153, \"proportion\": 4.826798384631474e-05}, {\"year\": 1847, \"total_results\": 1, \"query\": \"wireless\", \"total_articles\": 62767, \"proportion\": 1.5931938757627417e-05}, {\"year\": 1848, \"total_results\": 8, \"query\": \"wireless\", \"total_articles\": 63463, \"proportion\": 0.00012605770291350865}, {\"year\": 1849, \"total_results\": 4, \"query\": \"wireless\", \"total_articles\": 62794, \"proportion\": 6.370035353696213e-05}, {\"year\": 1850, \"total_results\": 7, \"query\": \"wireless\", \"total_articles\": 81624, \"proportion\": 8.575909046358914e-05}, {\"year\": 1851, \"total_results\": 7, \"query\": \"wireless\", \"total_articles\": 96566, \"proportion\": 7.248928194188431e-05}, {\"year\": 1852, \"total_results\": 14, \"query\": \"wireless\", \"total_articles\": 79960, \"proportion\": 0.00017508754377188593}, {\"year\": 1853, \"total_results\": 31, \"query\": \"wireless\", \"total_articles\": 96033, \"proportion\": 0.00032280570220653317}, {\"year\": 1854, \"total_results\": 38, \"query\": \"wireless\", \"total_articles\": 118883, \"proportion\": 0.000319642000958926}, {\"year\": 1855, \"total_results\": 22, \"query\": \"wireless\", \"total_articles\": 159947, \"proportion\": 0.0001375455619674017}, {\"year\": 1856, \"total_results\": 29, \"query\": \"wireless\", \"total_articles\": 168695, \"proportion\": 0.00017190788108716916}, {\"year\": 1857, \"total_results\": 13, \"query\": \"wireless\", \"total_articles\": 175343, \"proportion\": 7.414039910347148e-05}, {\"year\": 1858, \"total_results\": 23, \"query\": \"wireless\", \"total_articles\": 178765, \"proportion\": 0.00012866053198333006}, {\"year\": 1859, \"total_results\": 24, \"query\": \"wireless\", \"total_articles\": 202996, \"proportion\": 0.00011822893061932255}, {\"year\": 1860, \"total_results\": 20, \"query\": \"wireless\", \"total_articles\": 214554, \"proportion\": 9.32166261174343e-05}, {\"year\": 1861, \"total_results\": 30, \"query\": \"wireless\", \"total_articles\": 237976, \"proportion\": 0.0001260631324167143}, {\"year\": 1862, \"total_results\": 15, \"query\": \"wireless\", \"total_articles\": 244694, \"proportion\": 6.130105356077386e-05}, {\"year\": 1863, \"total_results\": 15, \"query\": \"wireless\", \"total_articles\": 251706, \"proportion\": 5.9593335081404494e-05}, {\"year\": 1864, \"total_results\": 16, \"query\": \"wireless\", \"total_articles\": 264282, \"proportion\": 6.0541391392527676e-05}, {\"year\": 1865, \"total_results\": 18, \"query\": \"wireless\", \"total_articles\": 283302, \"proportion\": 6.353643814727746e-05}, {\"year\": 1866, \"total_results\": 18, \"query\": \"wireless\", \"total_articles\": 289342, \"proportion\": 6.22101181301021e-05}, {\"year\": 1867, \"total_results\": 25, \"query\": \"wireless\", \"total_articles\": 297136, \"proportion\": 8.413655699746917e-05}, {\"year\": 1868, \"total_results\": 8, \"query\": \"wireless\", \"total_articles\": 304914, \"proportion\": 2.6236906144027496e-05}, {\"year\": 1869, \"total_results\": 21, \"query\": \"wireless\", \"total_articles\": 327192, \"proportion\": 6.41824983495929e-05}, {\"year\": 1870, \"total_results\": 15, \"query\": \"wireless\", \"total_articles\": 373286, \"proportion\": 4.0183666143386035e-05}, {\"year\": 1871, \"total_results\": 23, \"query\": \"wireless\", \"total_articles\": 359781, \"proportion\": 6.392777828734703e-05}, {\"year\": 1872, \"total_results\": 11, \"query\": \"wireless\", \"total_articles\": 383784, \"proportion\": 2.8661955683405248e-05}, {\"year\": 1873, \"total_results\": 33, \"query\": \"wireless\", \"total_articles\": 420951, \"proportion\": 7.839392233300312e-05}, {\"year\": 1874, \"total_results\": 34, \"query\": \"wireless\", \"total_articles\": 436788, \"proportion\": 7.784096632691374e-05}, {\"year\": 1875, \"total_results\": 34, \"query\": \"wireless\", \"total_articles\": 466891, \"proportion\": 7.282213621594762e-05}, {\"year\": 1876, \"total_results\": 40, \"query\": \"wireless\", \"total_articles\": 477911, \"proportion\": 8.369759222951553e-05}, {\"year\": 1877, \"total_results\": 35, \"query\": \"wireless\", \"total_articles\": 499944, \"proportion\": 7.000784087817836e-05}, {\"year\": 1878, \"total_results\": 41, \"query\": \"wireless\", \"total_articles\": 569203, \"proportion\": 7.203054094936253e-05}, {\"year\": 1879, \"total_results\": 43, \"query\": \"wireless\", \"total_articles\": 607530, \"proportion\": 7.07783977745955e-05}, {\"year\": 1880, \"total_results\": 36, \"query\": \"wireless\", \"total_articles\": 624376, \"proportion\": 5.765756531320871e-05}, {\"year\": 1881, \"total_results\": 56, \"query\": \"wireless\", \"total_articles\": 667930, \"proportion\": 8.384112107556181e-05}, {\"year\": 1882, \"total_results\": 65, \"query\": \"wireless\", \"total_articles\": 745914, \"proportion\": 8.71414130851546e-05}, {\"year\": 1883, \"total_results\": 129, \"query\": \"wireless\", \"total_articles\": 778865, \"proportion\": 0.00016562562189853183}, {\"year\": 1884, \"total_results\": 77, \"query\": \"wireless\", \"total_articles\": 858553, \"proportion\": 8.968578526893506e-05}, {\"year\": 1885, \"total_results\": 93, \"query\": \"wireless\", \"total_articles\": 911515, \"proportion\": 0.00010202794249134683}, {\"year\": 1886, \"total_results\": 69, \"query\": \"wireless\", \"total_articles\": 994828, \"proportion\": 6.93587233169955e-05}, {\"year\": 1887, \"total_results\": 84, \"query\": \"wireless\", \"total_articles\": 1043492, \"proportion\": 8.049894009728871e-05}, {\"year\": 1888, \"total_results\": 115, \"query\": \"wireless\", \"total_articles\": 1162025, \"proportion\": 9.896516856349907e-05}, {\"year\": 1889, \"total_results\": 100, \"query\": \"wireless\", \"total_articles\": 1252262, \"proportion\": 7.985549349896427e-05}, {\"year\": 1890, \"total_results\": 101, \"query\": \"wireless\", \"total_articles\": 1357654, \"proportion\": 7.43930338657714e-05}, {\"year\": 1891, \"total_results\": 81, \"query\": \"wireless\", \"total_articles\": 1429274, \"proportion\": 5.667212864713134e-05}, {\"year\": 1892, \"total_results\": 93, \"query\": \"wireless\", \"total_articles\": 1486705, \"proportion\": 6.255444086082983e-05}, {\"year\": 1893, \"total_results\": 95, \"query\": \"wireless\", \"total_articles\": 1510849, \"proportion\": 6.287855371383904e-05}, {\"year\": 1894, \"total_results\": 132, \"query\": \"wireless\", \"total_articles\": 1560809, \"proportion\": 8.457152668904395e-05}, {\"year\": 1895, \"total_results\": 134, \"query\": \"wireless\", \"total_articles\": 1678554, \"proportion\": 7.983061611363114e-05}, {\"year\": 1896, \"total_results\": 184, \"query\": \"wireless\", \"total_articles\": 1798582, \"proportion\": 0.00010230281410577888}, {\"year\": 1897, \"total_results\": 373, \"query\": \"wireless\", \"total_articles\": 1918088, \"proportion\": 0.00019446448755218738}, {\"year\": 1898, \"total_results\": 440, \"query\": \"wireless\", \"total_articles\": 2141840, \"proportion\": 0.00020543084450752624}, {\"year\": 1899, \"total_results\": 4666, \"query\": \"wireless\", \"total_articles\": 2308829, \"proportion\": 0.0020209378866949436}, {\"year\": 1900, \"total_results\": 2456, \"query\": \"wireless\", \"total_articles\": 2539736, \"proportion\": 0.0009670296440259932}, {\"year\": 1901, \"total_results\": 4143, \"query\": \"wireless\", \"total_articles\": 2618191, \"proportion\": 0.001582390283978518}, {\"year\": 1902, \"total_results\": 5713, \"query\": \"wireless\", \"total_articles\": 2674429, \"proportion\": 0.002136156914242255}, {\"year\": 1903, \"total_results\": 5289, \"query\": \"wireless\", \"total_articles\": 2713889, \"proportion\": 0.001948863789196979}, {\"year\": 1904, \"total_results\": 5158, \"query\": \"wireless\", \"total_articles\": 2878677, \"proportion\": 0.0017917953282011146}, {\"year\": 1905, \"total_results\": 4833, \"query\": \"wireless\", \"total_articles\": 3009076, \"proportion\": 0.0016061408884321966}, {\"year\": 1906, \"total_results\": 6484, \"query\": \"wireless\", \"total_articles\": 3057500, \"proportion\": 0.002120686835650041}, {\"year\": 1907, \"total_results\": 5797, \"query\": \"wireless\", \"total_articles\": 3205575, \"proportion\": 0.0018084119073801112}, {\"year\": 1908, \"total_results\": 6479, \"query\": \"wireless\", \"total_articles\": 3314151, \"proportion\": 0.001954950151637629}, {\"year\": 1909, \"total_results\": 9788, \"query\": \"wireless\", \"total_articles\": 3379982, \"proportion\": 0.0028958734099767394}, {\"year\": 1910, \"total_results\": 19674, \"query\": \"wireless\", \"total_articles\": 3613826, \"proportion\": 0.0054440916635167275}, {\"year\": 1911, \"total_results\": 29219, \"query\": \"wireless\", \"total_articles\": 3740413, \"proportion\": 0.007811704215550529}, {\"year\": 1912, \"total_results\": 40164, \"query\": \"wireless\", \"total_articles\": 3890753, \"proportion\": 0.01032293748793614}, {\"year\": 1913, \"total_results\": 40226, \"query\": \"wireless\", \"total_articles\": 3957073, \"proportion\": 0.01016559462006387}, {\"year\": 1914, \"total_results\": 55200, \"query\": \"wireless\", \"total_articles\": 4654167, \"proportion\": 0.011860339347513744}, {\"year\": 1915, \"total_results\": 42732, \"query\": \"wireless\", \"total_articles\": 4751447, \"proportion\": 0.008993470831096296}, {\"year\": 1916, \"total_results\": 41879, \"query\": \"wireless\", \"total_articles\": 4346277, \"proportion\": 0.00963560306901746}, {\"year\": 1917, \"total_results\": 72826, \"query\": \"wireless\", \"total_articles\": 4239223, \"proportion\": 0.017179091545785632}, {\"year\": 1918, \"total_results\": 53271, \"query\": \"wireless\", \"total_articles\": 4016436, \"proportion\": 0.013263251300406629}, {\"year\": 1919, \"total_results\": 31204, \"query\": \"wireless\", \"total_articles\": 3486517, \"proportion\": 0.008949906167100289}, {\"year\": 1920, \"total_results\": 25207, \"query\": \"wireless\", \"total_articles\": 3237978, \"proportion\": 0.007784796561310793}, {\"year\": 1921, \"total_results\": 22959, \"query\": \"wireless\", \"total_articles\": 3435873, \"proportion\": 0.006682144537938393}, {\"year\": 1922, \"total_results\": 29281, \"query\": \"wireless\", \"total_articles\": 3562135, \"proportion\": 0.008220070266848394}, {\"year\": 1923, \"total_results\": 37425, \"query\": \"wireless\", \"total_articles\": 3828641, \"proportion\": 0.009775008939203233}, {\"year\": 1924, \"total_results\": 60971, \"query\": \"wireless\", \"total_articles\": 4125328, \"proportion\": 0.014779673276888528}, {\"year\": 1925, \"total_results\": 66267, \"query\": \"wireless\", \"total_articles\": 4086958, \"proportion\": 0.016214260092714435}, {\"year\": 1926, \"total_results\": 69288, \"query\": \"wireless\", \"total_articles\": 4069533, \"proportion\": 0.017026032225319218}, {\"year\": 1927, \"total_results\": 86196, \"query\": \"wireless\", \"total_articles\": 4126770, \"proportion\": 0.020887037562064278}, {\"year\": 1928, \"total_results\": 90225, \"query\": \"wireless\", \"total_articles\": 4234586, \"proportion\": 0.021306687359756066}, {\"year\": 1929, \"total_results\": 86644, \"query\": \"wireless\", \"total_articles\": 4460722, \"proportion\": 0.01942376144489614}, {\"year\": 1930, \"total_results\": 82652, \"query\": \"wireless\", \"total_articles\": 4315190, \"proportion\": 0.01915373367105504}, {\"year\": 1931, \"total_results\": 69963, \"query\": \"wireless\", \"total_articles\": 3941724, \"proportion\": 0.01774934013644791}, {\"year\": 1932, \"total_results\": 69276, \"query\": \"wireless\", \"total_articles\": 3890710, \"proportion\": 0.017805490514584743}, {\"year\": 1933, \"total_results\": 74683, \"query\": \"wireless\", \"total_articles\": 4069854, \"proportion\": 0.01835028971555245}, {\"year\": 1934, \"total_results\": 80230, \"query\": \"wireless\", \"total_articles\": 4183589, \"proportion\": 0.01917731402391583}, {\"year\": 1935, \"total_results\": 79616, \"query\": \"wireless\", \"total_articles\": 4271382, \"proportion\": 0.01863940054998593}, {\"year\": 1936, \"total_results\": 79807, \"query\": \"wireless\", \"total_articles\": 4377987, \"proportion\": 0.01822915417519513}, {\"year\": 1937, \"total_results\": 82167, \"query\": \"wireless\", \"total_articles\": 4371925, \"proportion\": 0.018794238236017315}, {\"year\": 1938, \"total_results\": 71747, \"query\": \"wireless\", \"total_articles\": 4359675, \"proportion\": 0.016456960667939696}, {\"year\": 1939, \"total_results\": 67728, \"query\": \"wireless\", \"total_articles\": 4140014, \"proportion\": 0.016359364968331024}, {\"year\": 1940, \"total_results\": 60343, \"query\": \"wireless\", \"total_articles\": 3497071, \"proportion\": 0.01725529736170641}, {\"year\": 1941, \"total_results\": 48385, \"query\": \"wireless\", \"total_articles\": 3082401, \"proportion\": 0.01569717891993936}, {\"year\": 1942, \"total_results\": 34619, \"query\": \"wireless\", \"total_articles\": 2470102, \"proportion\": 0.014015210707897893}, {\"year\": 1943, \"total_results\": 32615, \"query\": \"wireless\", \"total_articles\": 2191842, \"proportion\": 0.014880178407020214}, {\"year\": 1944, \"total_results\": 31114, \"query\": \"wireless\", \"total_articles\": 2233365, \"proportion\": 0.013931444255641152}, {\"year\": 1945, \"total_results\": 32010, \"query\": \"wireless\", \"total_articles\": 2412554, \"proportion\": 0.013268096797004336}, {\"year\": 1946, \"total_results\": 33902, \"query\": \"wireless\", \"total_articles\": 2748052, \"proportion\": 0.012336738897226108}, {\"year\": 1947, \"total_results\": 32233, \"query\": \"wireless\", \"total_articles\": 2851317, \"proportion\": 0.011304600645947118}, {\"year\": 1948, \"total_results\": 25705, \"query\": \"wireless\", \"total_articles\": 2610229, \"proportion\": 0.009847794963583656}, {\"year\": 1949, \"total_results\": 29392, \"query\": \"wireless\", \"total_articles\": 2867051, \"proportion\": 0.010251648819640809}, {\"year\": 1950, \"total_results\": 29692, \"query\": \"wireless\", \"total_articles\": 2812464, \"proportion\": 0.010557290688876373}, {\"year\": 1951, \"total_results\": 25125, \"query\": \"wireless\", \"total_articles\": 2554766, \"proportion\": 0.009834560190639769}, {\"year\": 1952, \"total_results\": 22616, \"query\": \"wireless\", \"total_articles\": 2608800, \"proportion\": 0.008669119901870592}, {\"year\": 1953, \"total_results\": 22402, \"query\": \"wireless\", \"total_articles\": 2755677, \"proportion\": 0.00812939978088869}, {\"year\": 1954, \"total_results\": 23218, \"query\": \"wireless\", \"total_articles\": 2787339, \"proportion\": 0.008329808466067457}, {\"year\": 1955, \"total_results\": 1518, \"query\": \"wireless\", \"total_articles\": 279909, \"proportion\": 0.005423191108538846}, {\"year\": 1956, \"total_results\": 1120, \"query\": \"wireless\", \"total_articles\": 199416, \"proportion\": 0.005616399887672002}, {\"year\": 1957, \"total_results\": 523, \"query\": \"wireless\", \"total_articles\": 126201, \"proportion\": 0.0041441826926886475}, {\"year\": 1958, \"total_results\": 548, \"query\": \"wireless\", \"total_articles\": 126115, \"proportion\": 0.00434524045514015}, {\"year\": 1959, \"total_results\": 483, \"query\": \"wireless\", \"total_articles\": 121259, \"proportion\": 0.003983209493728301}, {\"year\": 1960, \"total_results\": 398, \"query\": \"wireless\", \"total_articles\": 115050, \"proportion\": 0.003459365493263798}, {\"year\": 1961, \"total_results\": 294, \"query\": \"wireless\", \"total_articles\": 109239, \"proportion\": 0.002691346497130146}, {\"year\": 1962, \"total_results\": 309, \"query\": \"wireless\", \"total_articles\": 108575, \"proportion\": 0.002845959014506102}, {\"year\": 1963, \"total_results\": 265, \"query\": \"wireless\", \"total_articles\": 118702, \"proportion\": 0.0022324813398257822}, {\"year\": 1964, \"total_results\": 299, \"query\": \"wireless\", \"total_articles\": 120392, \"proportion\": 0.002483553724499967}, {\"year\": 1965, \"total_results\": 382, \"query\": \"wireless\", \"total_articles\": 126432, \"proportion\": 0.003021386990635282}, {\"year\": 1966, \"total_results\": 321, \"query\": \"wireless\", \"total_articles\": 123452, \"proportion\": 0.0026002008877944465}, {\"year\": 1967, \"total_results\": 257, \"query\": \"wireless\", \"total_articles\": 118503, \"proportion\": 0.002168721466967081}, {\"year\": 1968, \"total_results\": 180, \"query\": \"wireless\", \"total_articles\": 124919, \"proportion\": 0.0014409337250538348}, {\"year\": 1969, \"total_results\": 173, \"query\": \"wireless\", \"total_articles\": 151689, \"proportion\": 0.0011404914001674478}, {\"year\": 1970, \"total_results\": 193, \"query\": \"wireless\", \"total_articles\": 166785, \"proportion\": 0.0011571784033336332}, {\"year\": 1971, \"total_results\": 201, \"query\": \"wireless\", \"total_articles\": 165077, \"proportion\": 0.001217613598502517}, {\"year\": 1972, \"total_results\": 239, \"query\": \"wireless\", \"total_articles\": 164687, \"proportion\": 0.0014512378026195147}, {\"year\": 1973, \"total_results\": 242, \"query\": \"wireless\", \"total_articles\": 161814, \"proportion\": 0.0014955442668743125}, {\"year\": 1974, \"total_results\": 173, \"query\": \"wireless\", \"total_articles\": 159025, \"proportion\": 0.0010878792642666248}, {\"year\": 1975, \"total_results\": 144, \"query\": \"wireless\", \"total_articles\": 148204, \"proportion\": 0.0009716336940973253}, {\"year\": 1976, \"total_results\": 137, \"query\": \"wireless\", \"total_articles\": 148816, \"proportion\": 0.0009205999354908075}, {\"year\": 1977, \"total_results\": 118, \"query\": \"wireless\", \"total_articles\": 151194, \"proportion\": 0.0007804542508300594}, {\"year\": 1978, \"total_results\": 108, \"query\": \"wireless\", \"total_articles\": 159199, \"proportion\": 0.0006783962210817907}, {\"year\": 1979, \"total_results\": 110, \"query\": \"wireless\", \"total_articles\": 167101, \"proportion\": 0.0006582845105654664}, {\"year\": 1980, \"total_results\": 102, \"query\": \"wireless\", \"total_articles\": 165664, \"proportion\": 0.0006157040757195286}, {\"year\": 1981, \"total_results\": 119, \"query\": \"wireless\", \"total_articles\": 142781, \"proportion\": 0.0008334442257723366}, {\"year\": 1982, \"total_results\": 146, \"query\": \"wireless\", \"total_articles\": 130222, \"proportion\": 0.0011211623228025987}, {\"year\": 1983, \"total_results\": 91, \"query\": \"wireless\", \"total_articles\": 117491, \"proportion\": 0.0007745274106101744}, {\"year\": 1984, \"total_results\": 118, \"query\": \"wireless\", \"total_articles\": 118615, \"proportion\": 0.0009948151582852085}, {\"year\": 1985, \"total_results\": 145, \"query\": \"wireless\", \"total_articles\": 128586, \"proportion\": 0.0011276499774470004}, {\"year\": 1986, \"total_results\": 228, \"query\": \"wireless\", \"total_articles\": 128312, \"proportion\": 0.0017769187605212295}, {\"year\": 1987, \"total_results\": 318, \"query\": \"wireless\", \"total_articles\": 127591, \"proportion\": 0.0024923388013261124}, {\"year\": 1988, \"total_results\": 132, \"query\": \"wireless\", \"total_articles\": 136944, \"proportion\": 0.0009638976515948125}, {\"year\": 1989, \"total_results\": 100, \"query\": \"wireless\", \"total_articles\": 140206, \"proportion\": 0.0007132362381067857}, {\"year\": 1990, \"total_results\": 98, \"query\": \"wireless\", \"total_articles\": 132596, \"proportion\": 0.0007390871519502851}, {\"year\": 1991, \"total_results\": 99, \"query\": \"wireless\", \"total_articles\": 131729, \"proportion\": 0.0007515429404307328}, {\"year\": 1992, \"total_results\": 171, \"query\": \"wireless\", \"total_articles\": 137422, \"proportion\": 0.0012443422450553769}, {\"year\": 1993, \"total_results\": 128, \"query\": \"wireless\", \"total_articles\": 137978, \"proportion\": 0.0009276841235559292}, {\"year\": 1994, \"total_results\": 112, \"query\": \"wireless\", \"total_articles\": 133420, \"proportion\": 0.0008394543546694648}, {\"year\": 1995, \"total_results\": 184, \"query\": \"wireless\", \"total_articles\": 132425, \"proportion\": 0.0013894657353218803}, {\"year\": 1996, \"total_results\": 11, \"query\": \"wireless\", \"total_articles\": 47101, \"proportion\": 0.00023354068915734273}, {\"year\": 1997, \"total_results\": 18, \"query\": \"wireless\", \"total_articles\": 49822, \"proportion\": 0.0003612861787965156}, {\"year\": 1998, \"total_results\": 21, \"query\": \"wireless\", \"total_articles\": 56947, \"proportion\": 0.0003687639383988621}, {\"year\": 1999, \"total_results\": 40, \"query\": \"wireless\", \"total_articles\": 67005, \"proportion\": 0.0005969703753451235}, {\"year\": 2000, \"total_results\": 27, \"query\": \"wireless\", \"total_articles\": 44770, \"proportion\": 0.0006030824212642394}, {\"year\": 2001, \"total_results\": 30, \"query\": \"wireless\", \"total_articles\": 42081, \"proportion\": 0.0007129108148570614}, {\"year\": 2002, \"total_results\": 34, \"query\": \"wireless\", \"total_articles\": 42631, \"proportion\": 0.000797541695010673}, {\"year\": 2003, \"total_results\": 20, \"query\": \"wireless\", \"total_articles\": 24075, \"proportion\": 0.0008307372793354102}, {\"year\": 2004, \"total_results\": 24, \"query\": \"wireless\", \"total_articles\": 22072, \"proportion\": 0.0010873504893077202}, {\"year\": 2005, \"total_results\": 21, \"query\": \"wireless\", \"total_articles\": 18071, \"proportion\": 0.0011620828952465276}, {\"year\": 2006, \"total_results\": 22, \"query\": \"wireless\", \"total_articles\": 17708, \"proportion\": 0.001242376327083804}, {\"year\": 2007, \"total_results\": 38, \"query\": \"wireless\", \"total_articles\": 18719, \"proportion\": 0.00203002297131257}, {\"year\": 2008, \"total_results\": 41, \"query\": \"wireless\", \"total_articles\": 17059, \"proportion\": 0.002403423412861246}, {\"year\": 2009, \"total_results\": 32, \"query\": \"wireless\", \"total_articles\": 5762, \"proportion\": 0.0055536272127733426}, {\"year\": 2010, \"total_results\": 65, \"query\": \"wireless\", \"total_articles\": 5794, \"proportion\": 0.011218501898515705}, {\"year\": 2011, \"total_results\": 63, \"query\": \"wireless\", \"total_articles\": 5386, \"proportion\": 0.011696992202005199}, {\"year\": 2012, \"total_results\": 54, \"query\": \"wireless\", \"total_articles\": 4832, \"proportion\": 0.011175496688741722}, {\"year\": 2013, \"total_results\": 56, \"query\": \"wireless\", \"total_articles\": 4904, \"proportion\": 0.011419249592169658}, {\"year\": 2014, \"total_results\": 23, \"query\": \"wireless\", \"total_articles\": 4718, \"proportion\": 0.004874947011445528}, {\"year\": 2015, \"total_results\": 14, \"query\": \"wireless\", \"total_articles\": 4819, \"proportion\": 0.0029051670471052084}, {\"year\": 2016, \"total_results\": 6, \"query\": \"wireless\", \"total_articles\": 1422, \"proportion\": 0.004219409282700422}, {\"year\": 2017, \"total_results\": 7, \"query\": \"wireless\", \"total_articles\": 1094, \"proportion\": 0.006398537477148081}, {\"year\": 2018, \"total_results\": 4, \"query\": \"wireless\", \"total_articles\": 1100, \"proportion\": 0.0036363636363636364}, {\"year\": 2019, \"total_results\": 3, \"query\": \"wireless\", \"total_articles\": 1153, \"proportion\": 0.0026019080659150044}]}}, {\"mode\": \"vega-lite\"});\n",
       "</script>"
      ],
      "text/plain": [
       "alt.VConcatChart(...)"
      ]
     },
     "execution_count": 22,
     "metadata": {},
     "output_type": "execute_result"
    }
   ],
   "source": [
    "# Chart total results\n",
    "chart3 = make_chart_totals(df_queries_merged, \"query\", \"Search query\")\n",
    "\n",
    "# Chart proportions\n",
    "chart4 = make_chart_proportions(df_queries_merged, \"query\", \"Search query\")\n",
    "\n",
    "# Shorthand way of concatenating the two charts (note there's only one legend)\n",
    "chart3 & chart4"
   ]
  },
  {
   "cell_type": "markdown",
   "metadata": {},
   "source": [
    "Once again, it's interesting to compare the total results with the proportions. In this case, both point to something interesting happening around 1930. To explore this further we could use the [Trove Newspaper Harvester](https://glam-workbench.github.io/trove-harvester/) to assemble a dataset of articles from 1920 to 1940 for detailed analysis. You might also notice a little peak for 'wireless' around 2011 – new uses for old words!"
   ]
  },
  {
   "cell_type": "markdown",
   "metadata": {},
   "source": [
    "## 6. Comparing a search term across different states\n",
    "\n",
    "Another way of building comparisons over time is to use some of the other facets available in Trove to slice up our search results. For example, the `state` facet tells us the number of results per state. We might be able to use this to track differences in language, or regional interest in particular events.\n",
    "\n",
    "Because we're combining three facets, `state` and `decade`/`year`, we need to think a bit about how we assemble the data. In this case we're only using one search query, but we're repeating this query across a number of different states. We're then getting the data for decade and year for each of the states.\n",
    "\n",
    "The possible values for the `state` facet are:\n",
    "\n",
    "* ACT\n",
    "* New South Wales\n",
    "* Northern Territory\n",
    "* Queensland\n",
    "* South Australia\n",
    "* Tasmania\n",
    "* Victoria\n",
    "* Western Australia\n",
    "* National\n",
    "* International\n",
    "\n",
    "There's some other ways of exploring and visualising the `state` facet in [Visualise the total number of newspaper articles in Trove by year and state](visualise-total-newspaper-articles-by-state-year.ipynb).\n",
    "\n",
    "Let's start by defining a list of states we want to compare...\n"
   ]
  },
  {
   "cell_type": "code",
   "execution_count": 23,
   "metadata": {},
   "outputs": [],
   "source": [
    "# A list of state values that we'll supply to the state facet\n",
    "states = [\"New South Wales\", \"Victoria\"]"
   ]
  },
  {
   "cell_type": "markdown",
   "metadata": {},
   "source": [
    "...and our search query."
   ]
  },
  {
   "cell_type": "code",
   "execution_count": 24,
   "metadata": {},
   "outputs": [],
   "source": [
    "# Remember this time we're comparing a single search query across multiple states\n",
    "query = \"Chinese\""
   ]
  },
  {
   "cell_type": "markdown",
   "metadata": {},
   "source": [
    "As before, we'll display both the raw number of results, and the proportion this represents of the total number of articles. But what is the total number of articles in this case? While we could generate a proportion using the totals for each year across all of Trove's newspapers, it seems more useful to use the total number of articles for each state. Otherwise, states with more newspapers will dominate. This means we'll have to make some additional calls to the API to get the state totals as well as the search results.\n",
    "\n",
    "Let's create a couple of new functions. The main function `get_state_facets()` loops through the states in our list, gathering the year by year results. It's similar to the way we handled multiple queries, but this time there's an additional step. Once we have the search results, we use `get_state_totals()` to get the total number of articles published in that state for each year. Then we merge the search results and total articles as we did before."
   ]
  },
  {
   "cell_type": "code",
   "execution_count": 25,
   "metadata": {},
   "outputs": [],
   "source": [
    "def get_state_totals(state):\n",
    "    \"\"\"\n",
    "    Get the total number of articles for each year for the specified state.\n",
    "    Parameters:\n",
    "        state\n",
    "    Returns:\n",
    "        A list of dictionaries containing 'year', 'total_results'.\n",
    "    \"\"\"\n",
    "    these_params = params.copy()\n",
    "\n",
    "    # Set the q parameter to a single space to get everything\n",
    "    these_params[\"q\"] = \" \"\n",
    "\n",
    "    # Set the state facet to the given state value\n",
    "    these_params[\"l-state\"] = state\n",
    "\n",
    "    # Get the year by year data\n",
    "    facet_data = get_facet_data(these_params)\n",
    "    return facet_data\n",
    "\n",
    "\n",
    "def get_state_facets(params, states, query):\n",
    "    \"\"\"\n",
    "    Loop through the supplied list of states searching for the specified query and getting the year by year results.\n",
    "    Merges the search results with the total number of articles for that state.\n",
    "    Parameters:\n",
    "        params - basic parameters to send to the API\n",
    "        states - a list of states to apply using the state facet\n",
    "        query - the search query to use\n",
    "    Returns:\n",
    "        A dataframe\n",
    "    \"\"\"\n",
    "    dfs = []\n",
    "    these_params = params.copy()\n",
    "\n",
    "    # Set the q parameter to the supplied query\n",
    "    these_params[\"q\"] = query\n",
    "\n",
    "    # Loop through the supplied list of states\n",
    "    for state in states:\n",
    "\n",
    "        # Set the state facet to the current state value\n",
    "        these_params[\"l-state\"] = state\n",
    "\n",
    "        # Get year facets for this state & query\n",
    "        facet_data = get_facet_data(these_params)\n",
    "\n",
    "        # Convert the results to a dataframe\n",
    "        df = pd.DataFrame(facet_data)\n",
    "\n",
    "        # Get the total number of articles per year for this state\n",
    "        total_data = get_state_totals(state)\n",
    "\n",
    "        # Convert the totals to a dataframe\n",
    "        df_total = pd.DataFrame(total_data)\n",
    "\n",
    "        # Merge the two dataframes\n",
    "        df_merged = merge_df_with_total(df, df_total)\n",
    "\n",
    "        # Add a state column to the dataframe and set its value to the current state\n",
    "        df_merged[\"state\"] = state\n",
    "\n",
    "        # Add this df to the list of dfs\n",
    "        dfs.append(df_merged)\n",
    "\n",
    "    # Concatenate all the dataframes and return the result\n",
    "    return pd.concat(dfs)"
   ]
  },
  {
   "cell_type": "markdown",
   "metadata": {},
   "source": [
    "Let's get the data!"
   ]
  },
  {
   "cell_type": "code",
   "execution_count": 26,
   "metadata": {},
   "outputs": [],
   "source": [
    "df_states = get_state_facets(params, states, query)"
   ]
  },
  {
   "cell_type": "markdown",
   "metadata": {},
   "source": [
    "And now chart the results, specifying `state` as the column to use for our category."
   ]
  },
  {
   "cell_type": "code",
   "execution_count": 27,
   "metadata": {},
   "outputs": [
    {
     "data": {
      "text/html": [
       "\n",
       "<div id=\"altair-viz-71845bb7318e4193ae7fceb5278130a9\"></div>\n",
       "<script type=\"text/javascript\">\n",
       "  var VEGA_DEBUG = (typeof VEGA_DEBUG == \"undefined\") ? {} : VEGA_DEBUG;\n",
       "  (function(spec, embedOpt){\n",
       "    let outputDiv = document.currentScript.previousElementSibling;\n",
       "    if (outputDiv.id !== \"altair-viz-71845bb7318e4193ae7fceb5278130a9\") {\n",
       "      outputDiv = document.getElementById(\"altair-viz-71845bb7318e4193ae7fceb5278130a9\");\n",
       "    }\n",
       "    const paths = {\n",
       "      \"vega\": \"https://cdn.jsdelivr.net/npm//vega@5?noext\",\n",
       "      \"vega-lib\": \"https://cdn.jsdelivr.net/npm//vega-lib?noext\",\n",
       "      \"vega-lite\": \"https://cdn.jsdelivr.net/npm//vega-lite@4.17.0?noext\",\n",
       "      \"vega-embed\": \"https://cdn.jsdelivr.net/npm//vega-embed@6?noext\",\n",
       "    };\n",
       "\n",
       "    function maybeLoadScript(lib, version) {\n",
       "      var key = `${lib.replace(\"-\", \"\")}_version`;\n",
       "      return (VEGA_DEBUG[key] == version) ?\n",
       "        Promise.resolve(paths[lib]) :\n",
       "        new Promise(function(resolve, reject) {\n",
       "          var s = document.createElement('script');\n",
       "          document.getElementsByTagName(\"head\")[0].appendChild(s);\n",
       "          s.async = true;\n",
       "          s.onload = () => {\n",
       "            VEGA_DEBUG[key] = version;\n",
       "            return resolve(paths[lib]);\n",
       "          };\n",
       "          s.onerror = () => reject(`Error loading script: ${paths[lib]}`);\n",
       "          s.src = paths[lib];\n",
       "        });\n",
       "    }\n",
       "\n",
       "    function showError(err) {\n",
       "      outputDiv.innerHTML = `<div class=\"error\" style=\"color:red;\">${err}</div>`;\n",
       "      throw err;\n",
       "    }\n",
       "\n",
       "    function displayChart(vegaEmbed) {\n",
       "      vegaEmbed(outputDiv, spec, embedOpt)\n",
       "        .catch(err => showError(`Javascript Error: ${err.message}<br>This usually means there's a typo in your chart specification. See the javascript console for the full traceback.`));\n",
       "    }\n",
       "\n",
       "    if(typeof define === \"function\" && define.amd) {\n",
       "      requirejs.config({paths});\n",
       "      require([\"vega-embed\"], displayChart, err => showError(`Error loading script: ${err.message}`));\n",
       "    } else {\n",
       "      maybeLoadScript(\"vega\", \"5\")\n",
       "        .then(() => maybeLoadScript(\"vega-lite\", \"4.17.0\"))\n",
       "        .then(() => maybeLoadScript(\"vega-embed\", \"6\"))\n",
       "        .catch(showError)\n",
       "        .then(() => displayChart(vegaEmbed));\n",
       "    }\n",
       "  })({\"config\": {\"view\": {\"continuousWidth\": 400, \"continuousHeight\": 300}}, \"vconcat\": [{\"mark\": {\"type\": \"line\", \"point\": true}, \"encoding\": {\"color\": {\"field\": \"state\", \"legend\": {\"title\": \"State\"}, \"type\": \"nominal\"}, \"tooltip\": [{\"field\": \"state\", \"title\": \"State\", \"type\": \"nominal\"}, {\"field\": \"year\", \"title\": \"Year\", \"type\": \"quantitative\"}, {\"field\": \"total_results\", \"format\": \",\", \"title\": \"Articles\", \"type\": \"quantitative\"}], \"x\": {\"axis\": {\"format\": \"c\", \"title\": \"Year\"}, \"field\": \"year\", \"type\": \"quantitative\"}, \"y\": {\"axis\": {\"format\": \",d\", \"title\": \"Number of articles\"}, \"field\": \"total_results\", \"type\": \"quantitative\"}}, \"height\": 250, \"width\": 700}, {\"mark\": {\"type\": \"line\", \"point\": true}, \"encoding\": {\"color\": {\"field\": \"state\", \"legend\": {\"title\": \"State\"}, \"type\": \"nominal\"}, \"tooltip\": [{\"field\": \"state\", \"title\": \"State\", \"type\": \"nominal\"}, {\"field\": \"year\", \"title\": \"Year\", \"type\": \"quantitative\"}, {\"field\": \"proportion\", \"format\": \"%\", \"title\": \"Proportion\", \"type\": \"quantitative\"}], \"x\": {\"axis\": {\"format\": \"c\", \"title\": \"Year\"}, \"field\": \"year\", \"type\": \"quantitative\"}, \"y\": {\"axis\": {\"format\": \"%\", \"title\": \"Proportion of articles\"}, \"field\": \"proportion\", \"stack\": null, \"type\": \"quantitative\"}}, \"height\": 250, \"width\": 700}], \"data\": {\"name\": \"data-7544912d7ef421b1db9b73b9ea36c420\"}, \"$schema\": \"https://vega.github.io/schema/vega-lite/v4.17.0.json\", \"datasets\": {\"data-7544912d7ef421b1db9b73b9ea36c420\": [{\"year\": 1803, \"total_results\": 8, \"total_articles\": 526, \"proportion\": 0.015209125475285171, \"state\": \"New South Wales\"}, {\"year\": 1804, \"total_results\": 1, \"total_articles\": 619, \"proportion\": 0.0016155088852988692, \"state\": \"New South Wales\"}, {\"year\": 1805, \"total_results\": 4, \"total_articles\": 430, \"proportion\": 0.009302325581395349, \"state\": \"New South Wales\"}, {\"year\": 1806, \"total_results\": 5, \"total_articles\": 367, \"proportion\": 0.013623978201634877, \"state\": \"New South Wales\"}, {\"year\": 1807, \"total_results\": 1, \"total_articles\": 134, \"proportion\": 0.007462686567164179, \"state\": \"New South Wales\"}, {\"year\": 1808, \"total_results\": 3, \"total_articles\": 155, \"proportion\": 0.01935483870967742, \"state\": \"New South Wales\"}, {\"year\": 1809, \"total_results\": 4, \"total_articles\": 237, \"proportion\": 0.016877637130801686, \"state\": \"New South Wales\"}, {\"year\": 1810, \"total_results\": 1, \"total_articles\": 269, \"proportion\": 0.0037174721189591076, \"state\": \"New South Wales\"}, {\"year\": 1811, \"total_results\": 2, \"total_articles\": 228, \"proportion\": 0.008771929824561403, \"state\": \"New South Wales\"}, {\"year\": 1812, \"total_results\": 4, \"total_articles\": 208, \"proportion\": 0.019230769230769232, \"state\": \"New South Wales\"}, {\"year\": 1813, \"total_results\": 6, \"total_articles\": 234, \"proportion\": 0.02564102564102564, \"state\": \"New South Wales\"}, {\"year\": 1814, \"total_results\": 12, \"total_articles\": 201, \"proportion\": 0.05970149253731343, \"state\": \"New South Wales\"}, {\"year\": 1815, \"total_results\": 5, \"total_articles\": 226, \"proportion\": 0.022123893805309734, \"state\": \"New South Wales\"}, {\"year\": 1816, \"total_results\": 5, \"total_articles\": 485, \"proportion\": 0.010309278350515464, \"state\": \"New South Wales\"}, {\"year\": 1817, \"total_results\": 10, \"total_articles\": 685, \"proportion\": 0.014598540145985401, \"state\": \"New South Wales\"}, {\"year\": 1818, \"total_results\": 8, \"total_articles\": 789, \"proportion\": 0.010139416983523447, \"state\": \"New South Wales\"}, {\"year\": 1819, \"total_results\": 10, \"total_articles\": 717, \"proportion\": 0.01394700139470014, \"state\": \"New South Wales\"}, {\"year\": 1820, \"total_results\": 6, \"total_articles\": 815, \"proportion\": 0.007361963190184049, \"state\": \"New South Wales\"}, {\"year\": 1821, \"total_results\": 7, \"total_articles\": 739, \"proportion\": 0.009472259810554804, \"state\": \"New South Wales\"}, {\"year\": 1822, \"total_results\": 6, \"total_articles\": 821, \"proportion\": 0.007308160779537149, \"state\": \"New South Wales\"}, {\"year\": 1823, \"total_results\": 10, \"total_articles\": 957, \"proportion\": 0.01044932079414838, \"state\": \"New South Wales\"}, {\"year\": 1824, \"total_results\": 21, \"total_articles\": 1212, \"proportion\": 0.017326732673267328, \"state\": \"New South Wales\"}, {\"year\": 1825, \"total_results\": 25, \"total_articles\": 2157, \"proportion\": 0.011590171534538712, \"state\": \"New South Wales\"}, {\"year\": 1826, \"total_results\": 113, \"total_articles\": 3863, \"proportion\": 0.029251876779704894, \"state\": \"New South Wales\"}, {\"year\": 1827, \"total_results\": 163, \"total_articles\": 5281, \"proportion\": 0.030865366407877296, \"state\": \"New South Wales\"}, {\"year\": 1828, \"total_results\": 201, \"total_articles\": 5055, \"proportion\": 0.039762611275964393, \"state\": \"New South Wales\"}, {\"year\": 1829, \"total_results\": 174, \"total_articles\": 6505, \"proportion\": 0.026748654880860877, \"state\": \"New South Wales\"}, {\"year\": 1830, \"total_results\": 157, \"total_articles\": 5706, \"proportion\": 0.027514896600070102, \"state\": \"New South Wales\"}, {\"year\": 1831, \"total_results\": 159, \"total_articles\": 6686, \"proportion\": 0.023781034998504338, \"state\": \"New South Wales\"}, {\"year\": 1832, \"total_results\": 231, \"total_articles\": 9494, \"proportion\": 0.02433115651990731, \"state\": \"New South Wales\"}, {\"year\": 1833, \"total_results\": 253, \"total_articles\": 8999, \"proportion\": 0.028114234914990554, \"state\": \"New South Wales\"}, {\"year\": 1834, \"total_results\": 307, \"total_articles\": 11211, \"proportion\": 0.027383819463027384, \"state\": \"New South Wales\"}, {\"year\": 1835, \"total_results\": 342, \"total_articles\": 13117, \"proportion\": 0.02607303499275749, \"state\": \"New South Wales\"}, {\"year\": 1836, \"total_results\": 313, \"total_articles\": 14456, \"proportion\": 0.0216519092418373, \"state\": \"New South Wales\"}, {\"year\": 1837, \"total_results\": 441, \"total_articles\": 15094, \"proportion\": 0.02921690738041606, \"state\": \"New South Wales\"}, {\"year\": 1838, \"total_results\": 399, \"total_articles\": 16301, \"proportion\": 0.02447702594932826, \"state\": \"New South Wales\"}, {\"year\": 1839, \"total_results\": 575, \"total_articles\": 20008, \"proportion\": 0.028738504598160734, \"state\": \"New South Wales\"}, {\"year\": 1840, \"total_results\": 860, \"total_articles\": 23187, \"proportion\": 0.03708974856600682, \"state\": \"New South Wales\"}, {\"year\": 1841, \"total_results\": 930, \"total_articles\": 24144, \"proportion\": 0.038518886679920476, \"state\": \"New South Wales\"}, {\"year\": 1842, \"total_results\": 923, \"total_articles\": 22953, \"proportion\": 0.04021260837363308, \"state\": \"New South Wales\"}, {\"year\": 1843, \"total_results\": 853, \"total_articles\": 21118, \"proportion\": 0.04039208258357799, \"state\": \"New South Wales\"}, {\"year\": 1844, \"total_results\": 802, \"total_articles\": 25918, \"proportion\": 0.0309437456593873, \"state\": \"New South Wales\"}, {\"year\": 1845, \"total_results\": 725, \"total_articles\": 24629, \"proportion\": 0.029436842746355923, \"state\": \"New South Wales\"}, {\"year\": 1846, \"total_results\": 661, \"total_articles\": 21481, \"proportion\": 0.030771379358502864, \"state\": \"New South Wales\"}, {\"year\": 1847, \"total_results\": 784, \"total_articles\": 22784, \"proportion\": 0.03441011235955056, \"state\": \"New South Wales\"}, {\"year\": 1848, \"total_results\": 776, \"total_articles\": 22885, \"proportion\": 0.033908673803801616, \"state\": \"New South Wales\"}, {\"year\": 1849, \"total_results\": 494, \"total_articles\": 17807, \"proportion\": 0.027741899253102713, \"state\": \"New South Wales\"}, {\"year\": 1850, \"total_results\": 576, \"total_articles\": 20023, \"proportion\": 0.028766918044249114, \"state\": \"New South Wales\"}, {\"year\": 1851, \"total_results\": 725, \"total_articles\": 31646, \"proportion\": 0.022909688428237377, \"state\": \"New South Wales\"}, {\"year\": 1852, \"total_results\": 1192, \"total_articles\": 33855, \"proportion\": 0.035208979471274555, \"state\": \"New South Wales\"}, {\"year\": 1853, \"total_results\": 1355, \"total_articles\": 34184, \"proportion\": 0.03963842733442546, \"state\": \"New South Wales\"}, {\"year\": 1854, \"total_results\": 1725, \"total_articles\": 38839, \"proportion\": 0.04441411982800793, \"state\": \"New South Wales\"}, {\"year\": 1855, \"total_results\": 1545, \"total_articles\": 46292, \"proportion\": 0.033375097209020994, \"state\": \"New South Wales\"}, {\"year\": 1856, \"total_results\": 1573, \"total_articles\": 54209, \"proportion\": 0.02901732184692579, \"state\": \"New South Wales\"}, {\"year\": 1857, \"total_results\": 2139, \"total_articles\": 57032, \"proportion\": 0.03750526020479731, \"state\": \"New South Wales\"}, {\"year\": 1858, \"total_results\": 2863, \"total_articles\": 52830, \"proportion\": 0.05419269354533409, \"state\": \"New South Wales\"}, {\"year\": 1859, \"total_results\": 2416, \"total_articles\": 55756, \"proportion\": 0.04333165937298228, \"state\": \"New South Wales\"}, {\"year\": 1860, \"total_results\": 3205, \"total_articles\": 69382, \"proportion\": 0.04619353722867602, \"state\": \"New South Wales\"}, {\"year\": 1861, \"total_results\": 5565, \"total_articles\": 71834, \"proportion\": 0.07747027869810953, \"state\": \"New South Wales\"}, {\"year\": 1862, \"total_results\": 2968, \"total_articles\": 68006, \"proportion\": 0.043643207952239506, \"state\": \"New South Wales\"}, {\"year\": 1863, \"total_results\": 2387, \"total_articles\": 67298, \"proportion\": 0.03546910755148741, \"state\": \"New South Wales\"}, {\"year\": 1864, \"total_results\": 2187, \"total_articles\": 71200, \"proportion\": 0.03071629213483146, \"state\": \"New South Wales\"}, {\"year\": 1865, \"total_results\": 2428, \"total_articles\": 75270, \"proportion\": 0.032257207386741066, \"state\": \"New South Wales\"}, {\"year\": 1866, \"total_results\": 2472, \"total_articles\": 76146, \"proportion\": 0.03246395083129777, \"state\": \"New South Wales\"}, {\"year\": 1867, \"total_results\": 2344, \"total_articles\": 74418, \"proportion\": 0.031497755919266845, \"state\": \"New South Wales\"}, {\"year\": 1868, \"total_results\": 2171, \"total_articles\": 75610, \"proportion\": 0.028713133183441344, \"state\": \"New South Wales\"}, {\"year\": 1869, \"total_results\": 2132, \"total_articles\": 84174, \"proportion\": 0.025328486230902655, \"state\": \"New South Wales\"}, {\"year\": 1870, \"total_results\": 2738, \"total_articles\": 103004, \"proportion\": 0.026581491980893945, \"state\": \"New South Wales\"}, {\"year\": 1871, \"total_results\": 3164, \"total_articles\": 102854, \"proportion\": 0.03076205106267136, \"state\": \"New South Wales\"}, {\"year\": 1872, \"total_results\": 3084, \"total_articles\": 116177, \"proportion\": 0.026545701817055012, \"state\": \"New South Wales\"}, {\"year\": 1873, \"total_results\": 3228, \"total_articles\": 115127, \"proportion\": 0.028038600849496643, \"state\": \"New South Wales\"}, {\"year\": 1874, \"total_results\": 3835, \"total_articles\": 128257, \"proportion\": 0.02990090209501236, \"state\": \"New South Wales\"}, {\"year\": 1875, \"total_results\": 5018, \"total_articles\": 130633, \"proportion\": 0.038412958440822764, \"state\": \"New South Wales\"}, {\"year\": 1876, \"total_results\": 5149, \"total_articles\": 131724, \"proportion\": 0.03908930794691932, \"state\": \"New South Wales\"}, {\"year\": 1877, \"total_results\": 5593, \"total_articles\": 133840, \"proportion\": 0.04178870292887029, \"state\": \"New South Wales\"}, {\"year\": 1878, \"total_results\": 6816, \"total_articles\": 151474, \"proportion\": 0.044997821408294496, \"state\": \"New South Wales\"}, {\"year\": 1879, \"total_results\": 7779, \"total_articles\": 181575, \"proportion\": 0.04284180090871541, \"state\": \"New South Wales\"}, {\"year\": 1880, \"total_results\": 8514, \"total_articles\": 189408, \"proportion\": 0.04495058286872783, \"state\": \"New South Wales\"}, {\"year\": 1881, \"total_results\": 10354, \"total_articles\": 199744, \"proportion\": 0.0518363505286767, \"state\": \"New South Wales\"}, {\"year\": 1882, \"total_results\": 6857, \"total_articles\": 203806, \"proportion\": 0.03364474058663631, \"state\": \"New South Wales\"}, {\"year\": 1883, \"total_results\": 8733, \"total_articles\": 211489, \"proportion\": 0.041292927764564585, \"state\": \"New South Wales\"}, {\"year\": 1884, \"total_results\": 8905, \"total_articles\": 249634, \"proportion\": 0.0356722241361353, \"state\": \"New South Wales\"}, {\"year\": 1885, \"total_results\": 7782, \"total_articles\": 278444, \"proportion\": 0.02794816911120369, \"state\": \"New South Wales\"}, {\"year\": 1886, \"total_results\": 7858, \"total_articles\": 309758, \"proportion\": 0.025368190652057414, \"state\": \"New South Wales\"}, {\"year\": 1887, \"total_results\": 8779, \"total_articles\": 309669, \"proportion\": 0.028349624922094235, \"state\": \"New South Wales\"}, {\"year\": 1888, \"total_results\": 15630, \"total_articles\": 360673, \"proportion\": 0.043335653070787114, \"state\": \"New South Wales\"}, {\"year\": 1889, \"total_results\": 8622, \"total_articles\": 414875, \"proportion\": 0.02078216330219946, \"state\": \"New South Wales\"}, {\"year\": 1890, \"total_results\": 8540, \"total_articles\": 467304, \"proportion\": 0.01827504151473131, \"state\": \"New South Wales\"}, {\"year\": 1891, \"total_results\": 10744, \"total_articles\": 490816, \"proportion\": 0.021890076933107315, \"state\": \"New South Wales\"}, {\"year\": 1892, \"total_results\": 10240, \"total_articles\": 512741, \"proportion\": 0.019971096518515197, \"state\": \"New South Wales\"}, {\"year\": 1893, \"total_results\": 10320, \"total_articles\": 522291, \"proportion\": 0.019759099812173674, \"state\": \"New South Wales\"}, {\"year\": 1894, \"total_results\": 12915, \"total_articles\": 557155, \"proportion\": 0.023180264019886748, \"state\": \"New South Wales\"}, {\"year\": 1895, \"total_results\": 15690, \"total_articles\": 603090, \"proportion\": 0.026016017509824404, \"state\": \"New South Wales\"}, {\"year\": 1896, \"total_results\": 11799, \"total_articles\": 627165, \"proportion\": 0.0188132309679271, \"state\": \"New South Wales\"}, {\"year\": 1897, \"total_results\": 10984, \"total_articles\": 618284, \"proportion\": 0.017765298794728636, \"state\": \"New South Wales\"}, {\"year\": 1898, \"total_results\": 16045, \"total_articles\": 723540, \"proportion\": 0.022175691737844488, \"state\": \"New South Wales\"}, {\"year\": 1899, \"total_results\": 14414, \"total_articles\": 876015, \"proportion\": 0.01645405615200653, \"state\": \"New South Wales\"}, {\"year\": 1900, \"total_results\": 27669, \"total_articles\": 950424, \"proportion\": 0.02911226989217444, \"state\": \"New South Wales\"}, {\"year\": 1901, \"total_results\": 20084, \"total_articles\": 981290, \"proportion\": 0.020466936379663504, \"state\": \"New South Wales\"}, {\"year\": 1902, \"total_results\": 18434, \"total_articles\": 1018410, \"proportion\": 0.018100764917862156, \"state\": \"New South Wales\"}, {\"year\": 1903, \"total_results\": 17783, \"total_articles\": 1019785, \"proportion\": 0.017437989380114437, \"state\": \"New South Wales\"}, {\"year\": 1904, \"total_results\": 27871, \"total_articles\": 1063246, \"proportion\": 0.02621312471431823, \"state\": \"New South Wales\"}, {\"year\": 1905, \"total_results\": 21187, \"total_articles\": 1094970, \"proportion\": 0.019349388567723315, \"state\": \"New South Wales\"}, {\"year\": 1906, \"total_results\": 20670, \"total_articles\": 1136547, \"proportion\": 0.01818666539967111, \"state\": \"New South Wales\"}, {\"year\": 1907, \"total_results\": 20315, \"total_articles\": 1199733, \"proportion\": 0.016932934244536076, \"state\": \"New South Wales\"}, {\"year\": 1908, \"total_results\": 19350, \"total_articles\": 1140975, \"proportion\": 0.01695917964898442, \"state\": \"New South Wales\"}, {\"year\": 1909, \"total_results\": 19530, \"total_articles\": 1181794, \"proportion\": 0.016525722757096413, \"state\": \"New South Wales\"}, {\"year\": 1910, \"total_results\": 17981, \"total_articles\": 1241756, \"proportion\": 0.014480300477710597, \"state\": \"New South Wales\"}, {\"year\": 1911, \"total_results\": 22823, \"total_articles\": 1387510, \"proportion\": 0.016448890458447146, \"state\": \"New South Wales\"}, {\"year\": 1912, \"total_results\": 22426, \"total_articles\": 1448138, \"proportion\": 0.01548609317620282, \"state\": \"New South Wales\"}, {\"year\": 1913, \"total_results\": 21868, \"total_articles\": 1474976, \"proportion\": 0.014826003948538823, \"state\": \"New South Wales\"}, {\"year\": 1914, \"total_results\": 21122, \"total_articles\": 1537982, \"proportion\": 0.013733580757121996, \"state\": \"New South Wales\"}, {\"year\": 1915, \"total_results\": 19733, \"total_articles\": 1549393, \"proportion\": 0.012735955306368365, \"state\": \"New South Wales\"}, {\"year\": 1916, \"total_results\": 18317, \"total_articles\": 1406424, \"proportion\": 0.013023810742706326, \"state\": \"New South Wales\"}, {\"year\": 1917, \"total_results\": 18643, \"total_articles\": 1321823, \"proportion\": 0.014104006360912165, \"state\": \"New South Wales\"}, {\"year\": 1918, \"total_results\": 18490, \"total_articles\": 1244748, \"proportion\": 0.014854412298714278, \"state\": \"New South Wales\"}, {\"year\": 1919, \"total_results\": 22403, \"total_articles\": 1289179, \"proportion\": 0.017377726444504603, \"state\": \"New South Wales\"}, {\"year\": 1920, \"total_results\": 21066, \"total_articles\": 1182991, \"proportion\": 0.01780740512818779, \"state\": \"New South Wales\"}, {\"year\": 1921, \"total_results\": 23342, \"total_articles\": 1246313, \"proportion\": 0.018728842594115603, \"state\": \"New South Wales\"}, {\"year\": 1922, \"total_results\": 20445, \"total_articles\": 1249548, \"proportion\": 0.016361916468995187, \"state\": \"New South Wales\"}, {\"year\": 1923, \"total_results\": 22004, \"total_articles\": 1334262, \"proportion\": 0.0164915136607353, \"state\": \"New South Wales\"}, {\"year\": 1924, \"total_results\": 22486, \"total_articles\": 1417146, \"proportion\": 0.015867101907636898, \"state\": \"New South Wales\"}, {\"year\": 1925, \"total_results\": 22933, \"total_articles\": 1432431, \"proportion\": 0.016009846198525444, \"state\": \"New South Wales\"}, {\"year\": 1926, \"total_results\": 24803, \"total_articles\": 1473902, \"proportion\": 0.016828120187095206, \"state\": \"New South Wales\"}, {\"year\": 1927, \"total_results\": 33809, \"total_articles\": 1529591, \"proportion\": 0.02210329427932042, \"state\": \"New South Wales\"}, {\"year\": 1928, \"total_results\": 26835, \"total_articles\": 1532230, \"proportion\": 0.017513689198096892, \"state\": \"New South Wales\"}, {\"year\": 1929, \"total_results\": 27045, \"total_articles\": 1643061, \"proportion\": 0.01646013142543095, \"state\": \"New South Wales\"}, {\"year\": 1930, \"total_results\": 22446, \"total_articles\": 1592007, \"proportion\": 0.014099184237255239, \"state\": \"New South Wales\"}, {\"year\": 1931, \"total_results\": 19885, \"total_articles\": 1457477, \"proportion\": 0.013643439999396217, \"state\": \"New South Wales\"}, {\"year\": 1932, \"total_results\": 21705, \"total_articles\": 1432254, \"proportion\": 0.015154434897720656, \"state\": \"New South Wales\"}, {\"year\": 1933, \"total_results\": 21415, \"total_articles\": 1491237, \"proportion\": 0.01436056106440492, \"state\": \"New South Wales\"}, {\"year\": 1934, \"total_results\": 19603, \"total_articles\": 1541027, \"proportion\": 0.01272073753412497, \"state\": \"New South Wales\"}, {\"year\": 1935, \"total_results\": 20961, \"total_articles\": 1589513, \"proportion\": 0.013187057922772572, \"state\": \"New South Wales\"}, {\"year\": 1936, \"total_results\": 20389, \"total_articles\": 1630327, \"proportion\": 0.012506080068599735, \"state\": \"New South Wales\"}, {\"year\": 1937, \"total_results\": 28042, \"total_articles\": 1609969, \"proportion\": 0.01741772667672483, \"state\": \"New South Wales\"}, {\"year\": 1938, \"total_results\": 27282, \"total_articles\": 1650232, \"proportion\": 0.01653222092408825, \"state\": \"New South Wales\"}, {\"year\": 1939, \"total_results\": 21401, \"total_articles\": 1543188, \"proportion\": 0.013868044593400157, \"state\": \"New South Wales\"}, {\"year\": 1940, \"total_results\": 16371, \"total_articles\": 1324666, \"proportion\": 0.012358586994759434, \"state\": \"New South Wales\"}, {\"year\": 1941, \"total_results\": 17484, \"total_articles\": 1190782, \"proportion\": 0.01468278828534526, \"state\": \"New South Wales\"}, {\"year\": 1942, \"total_results\": 18044, \"total_articles\": 966970, \"proportion\": 0.018660351406972295, \"state\": \"New South Wales\"}, {\"year\": 1943, \"total_results\": 11598, \"total_articles\": 889707, \"proportion\": 0.01303575221955093, \"state\": \"New South Wales\"}, {\"year\": 1944, \"total_results\": 12016, \"total_articles\": 894615, \"proportion\": 0.013431476109834957, \"state\": \"New South Wales\"}, {\"year\": 1945, \"total_results\": 13805, \"total_articles\": 941396, \"proportion\": 0.014664392030558871, \"state\": \"New South Wales\"}, {\"year\": 1946, \"total_results\": 12550, \"total_articles\": 1047836, \"proportion\": 0.011977065113242912, \"state\": \"New South Wales\"}, {\"year\": 1947, \"total_results\": 12522, \"total_articles\": 1066547, \"proportion\": 0.011740692158901576, \"state\": \"New South Wales\"}, {\"year\": 1948, \"total_results\": 11635, \"total_articles\": 977278, \"proportion\": 0.011905517160930667, \"state\": \"New South Wales\"}, {\"year\": 1949, \"total_results\": 13760, \"total_articles\": 1032011, \"proportion\": 0.0133331912159851, \"state\": \"New South Wales\"}, {\"year\": 1950, \"total_results\": 15460, \"total_articles\": 1028428, \"proportion\": 0.015032651775330893, \"state\": \"New South Wales\"}, {\"year\": 1951, \"total_results\": 16220, \"total_articles\": 957727, \"proportion\": 0.016935932682277936, \"state\": \"New South Wales\"}, {\"year\": 1952, \"total_results\": 11987, \"total_articles\": 967677, \"proportion\": 0.012387397861063144, \"state\": \"New South Wales\"}, {\"year\": 1953, \"total_results\": 13903, \"total_articles\": 1023758, \"proportion\": 0.013580357858009413, \"state\": \"New South Wales\"}, {\"year\": 1954, \"total_results\": 12642, \"total_articles\": 1053305, \"proportion\": 0.012002221578744999, \"state\": \"New South Wales\"}, {\"year\": 1955, \"total_results\": 817, \"total_articles\": 84371, \"proportion\": 0.009683422028896185, \"state\": \"New South Wales\"}, {\"year\": 1956, \"total_results\": 471, \"total_articles\": 47862, \"proportion\": 0.00984079227779867, \"state\": \"New South Wales\"}, {\"year\": 1957, \"total_results\": 538, \"total_articles\": 53185, \"proportion\": 0.010115634107361098, \"state\": \"New South Wales\"}, {\"year\": 1958, \"total_results\": 616, \"total_articles\": 54142, \"proportion\": 0.011377488825680617, \"state\": \"New South Wales\"}, {\"year\": 1959, \"total_results\": 623, \"total_articles\": 49455, \"proportion\": 0.012597310686482661, \"state\": \"New South Wales\"}, {\"year\": 1960, \"total_results\": 619, \"total_articles\": 46668, \"proportion\": 0.013263906745521557, \"state\": \"New South Wales\"}, {\"year\": 1961, \"total_results\": 500, \"total_articles\": 37925, \"proportion\": 0.013183915622940013, \"state\": \"New South Wales\"}, {\"year\": 1962, \"total_results\": 455, \"total_articles\": 33445, \"proportion\": 0.013604425175661534, \"state\": \"New South Wales\"}, {\"year\": 1963, \"total_results\": 334, \"total_articles\": 27376, \"proportion\": 0.012200467562828755, \"state\": \"New South Wales\"}, {\"year\": 1964, \"total_results\": 294, \"total_articles\": 25496, \"proportion\": 0.01153122058362096, \"state\": \"New South Wales\"}, {\"year\": 1965, \"total_results\": 284, \"total_articles\": 26224, \"proportion\": 0.010829774252593044, \"state\": \"New South Wales\"}, {\"year\": 1966, \"total_results\": 330, \"total_articles\": 25210, \"proportion\": 0.013090043633478779, \"state\": \"New South Wales\"}, {\"year\": 1967, \"total_results\": 343, \"total_articles\": 25004, \"proportion\": 0.013717805151175811, \"state\": \"New South Wales\"}, {\"year\": 1968, \"total_results\": 198, \"total_articles\": 25977, \"proportion\": 0.007622127266427994, \"state\": \"New South Wales\"}, {\"year\": 1969, \"total_results\": 254, \"total_articles\": 26024, \"proportion\": 0.00976022133415309, \"state\": \"New South Wales\"}, {\"year\": 1970, \"total_results\": 193, \"total_articles\": 26126, \"proportion\": 0.007387277042027099, \"state\": \"New South Wales\"}, {\"year\": 1971, \"total_results\": 253, \"total_articles\": 22676, \"proportion\": 0.011157170576821309, \"state\": \"New South Wales\"}, {\"year\": 1972, \"total_results\": 222, \"total_articles\": 24809, \"proportion\": 0.00894836551251562, \"state\": \"New South Wales\"}, {\"year\": 1973, \"total_results\": 232, \"total_articles\": 27374, \"proportion\": 0.008475195440929348, \"state\": \"New South Wales\"}, {\"year\": 1974, \"total_results\": 303, \"total_articles\": 29183, \"proportion\": 0.01038275708460405, \"state\": \"New South Wales\"}, {\"year\": 1975, \"total_results\": 250, \"total_articles\": 28709, \"proportion\": 0.008708070639869031, \"state\": \"New South Wales\"}, {\"year\": 1976, \"total_results\": 306, \"total_articles\": 26209, \"proportion\": 0.011675378686710671, \"state\": \"New South Wales\"}, {\"year\": 1977, \"total_results\": 293, \"total_articles\": 27383, \"proportion\": 0.010700069386115472, \"state\": \"New South Wales\"}, {\"year\": 1978, \"total_results\": 276, \"total_articles\": 25366, \"proportion\": 0.010880706457462745, \"state\": \"New South Wales\"}, {\"year\": 1979, \"total_results\": 214, \"total_articles\": 20279, \"proportion\": 0.010552788599043345, \"state\": \"New South Wales\"}, {\"year\": 1980, \"total_results\": 235, \"total_articles\": 20461, \"proportion\": 0.011485264649821612, \"state\": \"New South Wales\"}, {\"year\": 1981, \"total_results\": 234, \"total_articles\": 18134, \"proportion\": 0.012903937355244293, \"state\": \"New South Wales\"}, {\"year\": 1982, \"total_results\": 188, \"total_articles\": 17650, \"proportion\": 0.01065155807365439, \"state\": \"New South Wales\"}, {\"year\": 1983, \"total_results\": 156, \"total_articles\": 18149, \"proportion\": 0.008595514904402446, \"state\": \"New South Wales\"}, {\"year\": 1984, \"total_results\": 155, \"total_articles\": 16582, \"proportion\": 0.00934748522494271, \"state\": \"New South Wales\"}, {\"year\": 1985, \"total_results\": 218, \"total_articles\": 20361, \"proportion\": 0.010706743283728696, \"state\": \"New South Wales\"}, {\"year\": 1986, \"total_results\": 200, \"total_articles\": 21047, \"proportion\": 0.009502541929966265, \"state\": \"New South Wales\"}, {\"year\": 1987, \"total_results\": 244, \"total_articles\": 21578, \"proportion\": 0.011307813513764019, \"state\": \"New South Wales\"}, {\"year\": 1988, \"total_results\": 284, \"total_articles\": 23329, \"proportion\": 0.012173689399459899, \"state\": \"New South Wales\"}, {\"year\": 1989, \"total_results\": 388, \"total_articles\": 23139, \"proportion\": 0.016768226803232637, \"state\": \"New South Wales\"}, {\"year\": 1990, \"total_results\": 320, \"total_articles\": 20219, \"proportion\": 0.015826697660616253, \"state\": \"New South Wales\"}, {\"year\": 1991, \"total_results\": 230, \"total_articles\": 16745, \"proportion\": 0.013735443415945058, \"state\": \"New South Wales\"}, {\"year\": 1992, \"total_results\": 265, \"total_articles\": 20432, \"proportion\": 0.012969851213782302, \"state\": \"New South Wales\"}, {\"year\": 1993, \"total_results\": 240, \"total_articles\": 20752, \"proportion\": 0.01156515034695451, \"state\": \"New South Wales\"}, {\"year\": 1994, \"total_results\": 221, \"total_articles\": 18776, \"proportion\": 0.011770345121431615, \"state\": \"New South Wales\"}, {\"year\": 1995, \"total_results\": 220, \"total_articles\": 18715, \"proportion\": 0.011755276516163505, \"state\": \"New South Wales\"}, {\"year\": 1996, \"total_results\": 239, \"total_articles\": 19415, \"proportion\": 0.012310069533865568, \"state\": \"New South Wales\"}, {\"year\": 1997, \"total_results\": 213, \"total_articles\": 20029, \"proportion\": 0.010634579859204154, \"state\": \"New South Wales\"}, {\"year\": 1998, \"total_results\": 211, \"total_articles\": 27807, \"proportion\": 0.007588017405689215, \"state\": \"New South Wales\"}, {\"year\": 1999, \"total_results\": 340, \"total_articles\": 38766, \"proportion\": 0.00877057215085384, \"state\": \"New South Wales\"}, {\"year\": 2000, \"total_results\": 232, \"total_articles\": 37085, \"proportion\": 0.006255898611298369, \"state\": \"New South Wales\"}, {\"year\": 2001, \"total_results\": 299, \"total_articles\": 34680, \"proportion\": 0.008621683967704729, \"state\": \"New South Wales\"}, {\"year\": 2002, \"total_results\": 300, \"total_articles\": 34750, \"proportion\": 0.008633093525179856, \"state\": \"New South Wales\"}, {\"year\": 2003, \"total_results\": 144, \"total_articles\": 16226, \"proportion\": 0.008874645630469616, \"state\": \"New South Wales\"}, {\"year\": 2004, \"total_results\": 115, \"total_articles\": 14970, \"proportion\": 0.007682030728122912, \"state\": \"New South Wales\"}, {\"year\": 2005, \"total_results\": 120, \"total_articles\": 11822, \"proportion\": 0.010150566739976316, \"state\": \"New South Wales\"}, {\"year\": 2006, \"total_results\": 89, \"total_articles\": 11751, \"proportion\": 0.0075738235043826055, \"state\": \"New South Wales\"}, {\"year\": 2007, \"total_results\": 94, \"total_articles\": 12452, \"proportion\": 0.007548988114359139, \"state\": \"New South Wales\"}, {\"year\": 2008, \"total_results\": 108, \"total_articles\": 11964, \"proportion\": 0.009027081243731194, \"state\": \"New South Wales\"}, {\"year\": 2009, \"total_results\": 24, \"total_articles\": 730, \"proportion\": 0.03287671232876712, \"state\": \"New South Wales\"}, {\"year\": 2010, \"total_results\": 11, \"total_articles\": 599, \"proportion\": 0.018363939899833055, \"state\": \"New South Wales\"}, {\"year\": 2011, \"total_results\": 8, \"total_articles\": 251, \"proportion\": 0.03187250996015936, \"state\": \"New South Wales\"}, {\"year\": 1838, \"total_results\": 3, \"total_articles\": 263, \"proportion\": 0.011406844106463879, \"state\": \"Victoria\"}, {\"year\": 1839, \"total_results\": 37, \"total_articles\": 2091, \"proportion\": 0.017694882831181254, \"state\": \"Victoria\"}, {\"year\": 1840, \"total_results\": 73, \"total_articles\": 2516, \"proportion\": 0.02901430842607313, \"state\": \"Victoria\"}, {\"year\": 1841, \"total_results\": 201, \"total_articles\": 5119, \"proportion\": 0.039265481539363156, \"state\": \"Victoria\"}, {\"year\": 1842, \"total_results\": 206, \"total_articles\": 5635, \"proportion\": 0.03655723158828749, \"state\": \"Victoria\"}, {\"year\": 1843, \"total_results\": 162, \"total_articles\": 5400, \"proportion\": 0.03, \"state\": \"Victoria\"}, {\"year\": 1844, \"total_results\": 116, \"total_articles\": 4823, \"proportion\": 0.024051420277835373, \"state\": \"Victoria\"}, {\"year\": 1845, \"total_results\": 181, \"total_articles\": 9531, \"proportion\": 0.018990662050152134, \"state\": \"Victoria\"}, {\"year\": 1846, \"total_results\": 293, \"total_articles\": 11964, \"proportion\": 0.02449013707790037, \"state\": \"Victoria\"}, {\"year\": 1847, \"total_results\": 417, \"total_articles\": 12400, \"proportion\": 0.03362903225806452, \"state\": \"Victoria\"}, {\"year\": 1848, \"total_results\": 582, \"total_articles\": 12150, \"proportion\": 0.047901234567901234, \"state\": \"Victoria\"}, {\"year\": 1849, \"total_results\": 524, \"total_articles\": 14888, \"proportion\": 0.03519613111230521, \"state\": \"Victoria\"}, {\"year\": 1850, \"total_results\": 636, \"total_articles\": 18358, \"proportion\": 0.03464429676435342, \"state\": \"Victoria\"}, {\"year\": 1851, \"total_results\": 592, \"total_articles\": 19008, \"proportion\": 0.031144781144781145, \"state\": \"Victoria\"}, {\"year\": 1852, \"total_results\": 652, \"total_articles\": 12291, \"proportion\": 0.053046944919046456, \"state\": \"Victoria\"}, {\"year\": 1853, \"total_results\": 1236, \"total_articles\": 17631, \"proportion\": 0.07010379445295219, \"state\": \"Victoria\"}, {\"year\": 1854, \"total_results\": 1613, \"total_articles\": 25451, \"proportion\": 0.06337668460964206, \"state\": \"Victoria\"}, {\"year\": 1855, \"total_results\": 2673, \"total_articles\": 39551, \"proportion\": 0.06758362620414149, \"state\": \"Victoria\"}, {\"year\": 1856, \"total_results\": 3397, \"total_articles\": 42863, \"proportion\": 0.0792525021580384, \"state\": \"Victoria\"}, {\"year\": 1857, \"total_results\": 5914, \"total_articles\": 53460, \"proportion\": 0.11062476618032173, \"state\": \"Victoria\"}, {\"year\": 1858, \"total_results\": 5096, \"total_articles\": 56445, \"proportion\": 0.09028257595889805, \"state\": \"Victoria\"}, {\"year\": 1859, \"total_results\": 6311, \"total_articles\": 68494, \"proportion\": 0.09213945747072737, \"state\": \"Victoria\"}, {\"year\": 1860, \"total_results\": 4897, \"total_articles\": 70455, \"proportion\": 0.0695053580299482, \"state\": \"Victoria\"}, {\"year\": 1861, \"total_results\": 6300, \"total_articles\": 77769, \"proportion\": 0.08100914246036338, \"state\": \"Victoria\"}, {\"year\": 1862, \"total_results\": 5823, \"total_articles\": 82739, \"proportion\": 0.07037793543552617, \"state\": \"Victoria\"}, {\"year\": 1863, \"total_results\": 6382, \"total_articles\": 86290, \"proportion\": 0.0739599026538417, \"state\": \"Victoria\"}, {\"year\": 1864, \"total_results\": 5457, \"total_articles\": 88559, \"proportion\": 0.06161993699115844, \"state\": \"Victoria\"}, {\"year\": 1865, \"total_results\": 5719, \"total_articles\": 99454, \"proportion\": 0.0575039716854023, \"state\": \"Victoria\"}, {\"year\": 1866, \"total_results\": 5375, \"total_articles\": 98571, \"proportion\": 0.05452922259082286, \"state\": \"Victoria\"}, {\"year\": 1867, \"total_results\": 5403, \"total_articles\": 105099, \"proportion\": 0.051408671823709076, \"state\": \"Victoria\"}, {\"year\": 1868, \"total_results\": 5072, \"total_articles\": 102303, \"proportion\": 0.04957821373762255, \"state\": \"Victoria\"}, {\"year\": 1869, \"total_results\": 5590, \"total_articles\": 107874, \"proportion\": 0.05181971559411906, \"state\": \"Victoria\"}, {\"year\": 1870, \"total_results\": 6361, \"total_articles\": 121801, \"proportion\": 0.05222453017627113, \"state\": \"Victoria\"}, {\"year\": 1871, \"total_results\": 6051, \"total_articles\": 119751, \"proportion\": 0.050529849437582985, \"state\": \"Victoria\"}, {\"year\": 1872, \"total_results\": 5775, \"total_articles\": 119057, \"proportion\": 0.0485061777131962, \"state\": \"Victoria\"}, {\"year\": 1873, \"total_results\": 6946, \"total_articles\": 139762, \"proportion\": 0.04969877362945579, \"state\": \"Victoria\"}, {\"year\": 1874, \"total_results\": 6806, \"total_articles\": 135267, \"proportion\": 0.05031530232798835, \"state\": \"Victoria\"}, {\"year\": 1875, \"total_results\": 8089, \"total_articles\": 148942, \"proportion\": 0.05430973130480321, \"state\": \"Victoria\"}, {\"year\": 1876, \"total_results\": 8004, \"total_articles\": 148288, \"proportion\": 0.05397604661199827, \"state\": \"Victoria\"}, {\"year\": 1877, \"total_results\": 8143, \"total_articles\": 158671, \"proportion\": 0.05132002697405323, \"state\": \"Victoria\"}, {\"year\": 1878, \"total_results\": 7669, \"total_articles\": 170693, \"proportion\": 0.04492861453017991, \"state\": \"Victoria\"}, {\"year\": 1879, \"total_results\": 7511, \"total_articles\": 177285, \"proportion\": 0.042366810502862624, \"state\": \"Victoria\"}, {\"year\": 1880, \"total_results\": 8086, \"total_articles\": 185770, \"proportion\": 0.043526941917424775, \"state\": \"Victoria\"}, {\"year\": 1881, \"total_results\": 7715, \"total_articles\": 193645, \"proportion\": 0.03984094606109117, \"state\": \"Victoria\"}, {\"year\": 1882, \"total_results\": 7443, \"total_articles\": 253805, \"proportion\": 0.029325663403006245, \"state\": \"Victoria\"}, {\"year\": 1883, \"total_results\": 9577, \"total_articles\": 262071, \"proportion\": 0.036543532096263986, \"state\": \"Victoria\"}, {\"year\": 1884, \"total_results\": 10073, \"total_articles\": 257184, \"proportion\": 0.03916651113599602, \"state\": \"Victoria\"}, {\"year\": 1885, \"total_results\": 9458, \"total_articles\": 250552, \"proportion\": 0.037748650978639164, \"state\": \"Victoria\"}, {\"year\": 1886, \"total_results\": 8608, \"total_articles\": 275274, \"proportion\": 0.03127066123208149, \"state\": \"Victoria\"}, {\"year\": 1887, \"total_results\": 11489, \"total_articles\": 312085, \"proportion\": 0.03681368857843216, \"state\": \"Victoria\"}, {\"year\": 1888, \"total_results\": 13338, \"total_articles\": 320348, \"proportion\": 0.041635970881666186, \"state\": \"Victoria\"}, {\"year\": 1889, \"total_results\": 10077, \"total_articles\": 320137, \"proportion\": 0.031477148845650456, \"state\": \"Victoria\"}, {\"year\": 1890, \"total_results\": 9134, \"total_articles\": 343131, \"proportion\": 0.026619570951036193, \"state\": \"Victoria\"}, {\"year\": 1891, \"total_results\": 11147, \"total_articles\": 370223, \"proportion\": 0.030108880323480712, \"state\": \"Victoria\"}, {\"year\": 1892, \"total_results\": 9566, \"total_articles\": 363845, \"proportion\": 0.026291415300471355, \"state\": \"Victoria\"}, {\"year\": 1893, \"total_results\": 10356, \"total_articles\": 368807, \"proportion\": 0.028079727337062474, \"state\": \"Victoria\"}, {\"year\": 1894, \"total_results\": 11450, \"total_articles\": 378964, \"proportion\": 0.0302139517210078, \"state\": \"Victoria\"}, {\"year\": 1895, \"total_results\": 12355, \"total_articles\": 390036, \"proportion\": 0.03167656318903896, \"state\": \"Victoria\"}, {\"year\": 1896, \"total_results\": 10433, \"total_articles\": 386044, \"proportion\": 0.027025416791868283, \"state\": \"Victoria\"}, {\"year\": 1897, \"total_results\": 10122, \"total_articles\": 397029, \"proportion\": 0.025494359354102596, \"state\": \"Victoria\"}, {\"year\": 1898, \"total_results\": 13186, \"total_articles\": 430061, \"proportion\": 0.03066076672844085, \"state\": \"Victoria\"}, {\"year\": 1899, \"total_results\": 11003, \"total_articles\": 453878, \"proportion\": 0.024242197242430784, \"state\": \"Victoria\"}, {\"year\": 1900, \"total_results\": 17942, \"total_articles\": 477566, \"proportion\": 0.037569676233232686, \"state\": \"Victoria\"}, {\"year\": 1901, \"total_results\": 14038, \"total_articles\": 516029, \"proportion\": 0.02720389745537557, \"state\": \"Victoria\"}, {\"year\": 1902, \"total_results\": 13503, \"total_articles\": 540599, \"proportion\": 0.02497784864566897, \"state\": \"Victoria\"}, {\"year\": 1903, \"total_results\": 13578, \"total_articles\": 549126, \"proportion\": 0.024726565487702277, \"state\": \"Victoria\"}, {\"year\": 1904, \"total_results\": 17897, \"total_articles\": 572926, \"proportion\": 0.031237891106355796, \"state\": \"Victoria\"}, {\"year\": 1905, \"total_results\": 13482, \"total_articles\": 580506, \"proportion\": 0.023224566154354993, \"state\": \"Victoria\"}, {\"year\": 1906, \"total_results\": 13871, \"total_articles\": 593560, \"proportion\": 0.023369162342475908, \"state\": \"Victoria\"}, {\"year\": 1907, \"total_results\": 13124, \"total_articles\": 612505, \"proportion\": 0.021426763863152138, \"state\": \"Victoria\"}, {\"year\": 1908, \"total_results\": 13594, \"total_articles\": 633237, \"proportion\": 0.02146747584237813, \"state\": \"Victoria\"}, {\"year\": 1909, \"total_results\": 14569, \"total_articles\": 652686, \"proportion\": 0.022321606407981785, \"state\": \"Victoria\"}, {\"year\": 1910, \"total_results\": 14002, \"total_articles\": 699531, \"proportion\": 0.020016268042445582, \"state\": \"Victoria\"}, {\"year\": 1911, \"total_results\": 13993, \"total_articles\": 657284, \"proportion\": 0.02128912311877362, \"state\": \"Victoria\"}, {\"year\": 1912, \"total_results\": 14616, \"total_articles\": 697501, \"proportion\": 0.02095480866694098, \"state\": \"Victoria\"}, {\"year\": 1913, \"total_results\": 14923, \"total_articles\": 676288, \"proportion\": 0.022066042869310118, \"state\": \"Victoria\"}, {\"year\": 1914, \"total_results\": 23891, \"total_articles\": 1250408, \"proportion\": 0.019106563617635203, \"state\": \"Victoria\"}, {\"year\": 1915, \"total_results\": 20679, \"total_articles\": 1315553, \"proportion\": 0.015718864994416798, \"state\": \"Victoria\"}, {\"year\": 1916, \"total_results\": 19991, \"total_articles\": 1183687, \"proportion\": 0.01688875521991878, \"state\": \"Victoria\"}, {\"year\": 1917, \"total_results\": 20977, \"total_articles\": 1100237, \"proportion\": 0.019065892166869502, \"state\": \"Victoria\"}, {\"year\": 1918, \"total_results\": 20579, \"total_articles\": 1044618, \"proportion\": 0.019700024315108488, \"state\": \"Victoria\"}, {\"year\": 1919, \"total_results\": 10810, \"total_articles\": 432446, \"proportion\": 0.024997340708435272, \"state\": \"Victoria\"}, {\"year\": 1920, \"total_results\": 11308, \"total_articles\": 414532, \"proportion\": 0.027278955545048392, \"state\": \"Victoria\"}, {\"year\": 1921, \"total_results\": 12377, \"total_articles\": 444162, \"proportion\": 0.027865958816828094, \"state\": \"Victoria\"}, {\"year\": 1922, \"total_results\": 12480, \"total_articles\": 478353, \"proportion\": 0.026089519664348294, \"state\": \"Victoria\"}, {\"year\": 1923, \"total_results\": 13069, \"total_articles\": 500722, \"proportion\": 0.026100311150698392, \"state\": \"Victoria\"}, {\"year\": 1924, \"total_results\": 13481, \"total_articles\": 544739, \"proportion\": 0.024747631434503495, \"state\": \"Victoria\"}, {\"year\": 1925, \"total_results\": 13013, \"total_articles\": 529797, \"proportion\": 0.02456223798926759, \"state\": \"Victoria\"}, {\"year\": 1926, \"total_results\": 13984, \"total_articles\": 524891, \"proportion\": 0.02664172180509858, \"state\": \"Victoria\"}, {\"year\": 1927, \"total_results\": 15206, \"total_articles\": 549257, \"proportion\": 0.027684672202630097, \"state\": \"Victoria\"}, {\"year\": 1928, \"total_results\": 14302, \"total_articles\": 572024, \"proportion\": 0.025002447449757353, \"state\": \"Victoria\"}, {\"year\": 1929, \"total_results\": 13512, \"total_articles\": 541729, \"proportion\": 0.024942360479132557, \"state\": \"Victoria\"}, {\"year\": 1930, \"total_results\": 11015, \"total_articles\": 529473, \"proportion\": 0.020803704815920736, \"state\": \"Victoria\"}, {\"year\": 1931, \"total_results\": 10818, \"total_articles\": 490659, \"proportion\": 0.02204789884624556, \"state\": \"Victoria\"}, {\"year\": 1932, \"total_results\": 10153, \"total_articles\": 442901, \"proportion\": 0.0229238588307545, \"state\": \"Victoria\"}, {\"year\": 1933, \"total_results\": 10183, \"total_articles\": 476847, \"proportion\": 0.021354858057196544, \"state\": \"Victoria\"}, {\"year\": 1934, \"total_results\": 8913, \"total_articles\": 542241, \"proportion\": 0.016437340592098348, \"state\": \"Victoria\"}, {\"year\": 1935, \"total_results\": 9236, \"total_articles\": 555374, \"proportion\": 0.016630234760719804, \"state\": \"Victoria\"}, {\"year\": 1936, \"total_results\": 8985, \"total_articles\": 555013, \"proportion\": 0.01618880999183803, \"state\": \"Victoria\"}, {\"year\": 1937, \"total_results\": 10990, \"total_articles\": 547201, \"proportion\": 0.02008402762421852, \"state\": \"Victoria\"}, {\"year\": 1938, \"total_results\": 9846, \"total_articles\": 539811, \"proportion\": 0.01823971723436536, \"state\": \"Victoria\"}, {\"year\": 1939, \"total_results\": 8142, \"total_articles\": 507679, \"proportion\": 0.01603769310922847, \"state\": \"Victoria\"}, {\"year\": 1940, \"total_results\": 5958, \"total_articles\": 421298, \"proportion\": 0.014142008744404199, \"state\": \"Victoria\"}, {\"year\": 1941, \"total_results\": 6222, \"total_articles\": 363521, \"proportion\": 0.017115930028801636, \"state\": \"Victoria\"}, {\"year\": 1942, \"total_results\": 5990, \"total_articles\": 278134, \"proportion\": 0.02153638174405143, \"state\": \"Victoria\"}, {\"year\": 1943, \"total_results\": 4708, \"total_articles\": 241394, \"proportion\": 0.01950338450831421, \"state\": \"Victoria\"}, {\"year\": 1944, \"total_results\": 4628, \"total_articles\": 261226, \"proportion\": 0.017716460076715183, \"state\": \"Victoria\"}, {\"year\": 1945, \"total_results\": 5236, \"total_articles\": 275682, \"proportion\": 0.018992897613917484, \"state\": \"Victoria\"}, {\"year\": 1946, \"total_results\": 5498, \"total_articles\": 345749, \"proportion\": 0.015901709043265492, \"state\": \"Victoria\"}, {\"year\": 1947, \"total_results\": 5297, \"total_articles\": 352532, \"proportion\": 0.015025586329751626, \"state\": \"Victoria\"}, {\"year\": 1948, \"total_results\": 4455, \"total_articles\": 286806, \"proportion\": 0.015533147842095354, \"state\": \"Victoria\"}, {\"year\": 1949, \"total_results\": 6144, \"total_articles\": 358591, \"proportion\": 0.01713372616713749, \"state\": \"Victoria\"}, {\"year\": 1950, \"total_results\": 6668, \"total_articles\": 363882, \"proportion\": 0.018324621718029472, \"state\": \"Victoria\"}, {\"year\": 1951, \"total_results\": 6375, \"total_articles\": 332774, \"proportion\": 0.019157145690468606, \"state\": \"Victoria\"}, {\"year\": 1952, \"total_results\": 5454, \"total_articles\": 338685, \"proportion\": 0.016103458966296117, \"state\": \"Victoria\"}, {\"year\": 1953, \"total_results\": 5819, \"total_articles\": 355367, \"proportion\": 0.016374621166287247, \"state\": \"Victoria\"}, {\"year\": 1954, \"total_results\": 5781, \"total_articles\": 369382, \"proportion\": 0.01565046483044653, \"state\": \"Victoria\"}, {\"year\": 1955, \"total_results\": 1444, \"total_articles\": 88934, \"proportion\": 0.016236759844378976, \"state\": \"Victoria\"}, {\"year\": 1956, \"total_results\": 1009, \"total_articles\": 75382, \"proportion\": 0.013385158260592715, \"state\": \"Victoria\"}, {\"year\": 1957, \"total_results\": 100, \"total_articles\": 14741, \"proportion\": 0.006783800284919612, \"state\": \"Victoria\"}, {\"year\": 1958, \"total_results\": 25, \"total_articles\": 10975, \"proportion\": 0.002277904328018223, \"state\": \"Victoria\"}, {\"year\": 1959, \"total_results\": 30, \"total_articles\": 11423, \"proportion\": 0.0026262803116519303, \"state\": \"Victoria\"}, {\"year\": 1960, \"total_results\": 27, \"total_articles\": 9314, \"proportion\": 0.0028988619282800084, \"state\": \"Victoria\"}, {\"year\": 1961, \"total_results\": 22, \"total_articles\": 9907, \"proportion\": 0.0022206520641970323, \"state\": \"Victoria\"}, {\"year\": 1962, \"total_results\": 44, \"total_articles\": 9722, \"proportion\": 0.004525817732976754, \"state\": \"Victoria\"}, {\"year\": 1963, \"total_results\": 35, \"total_articles\": 11061, \"proportion\": 0.003164270861585752, \"state\": \"Victoria\"}, {\"year\": 1964, \"total_results\": 35, \"total_articles\": 11931, \"proportion\": 0.0029335344899840752, \"state\": \"Victoria\"}, {\"year\": 1965, \"total_results\": 64, \"total_articles\": 14073, \"proportion\": 0.00454771548355006, \"state\": \"Victoria\"}, {\"year\": 1966, \"total_results\": 62, \"total_articles\": 13299, \"proportion\": 0.004662004662004662, \"state\": \"Victoria\"}, {\"year\": 1967, \"total_results\": 37, \"total_articles\": 10385, \"proportion\": 0.0035628310062590274, \"state\": \"Victoria\"}, {\"year\": 1968, \"total_results\": 69, \"total_articles\": 12766, \"proportion\": 0.005404981983393389, \"state\": \"Victoria\"}, {\"year\": 1969, \"total_results\": 84, \"total_articles\": 13910, \"proportion\": 0.00603882099209202, \"state\": \"Victoria\"}, {\"year\": 1970, \"total_results\": 70, \"total_articles\": 11332, \"proportion\": 0.006177197317331451, \"state\": \"Victoria\"}, {\"year\": 1971, \"total_results\": 105, \"total_articles\": 11603, \"proportion\": 0.009049383780056881, \"state\": \"Victoria\"}, {\"year\": 1972, \"total_results\": 65, \"total_articles\": 13939, \"proportion\": 0.004663175263648755, \"state\": \"Victoria\"}, {\"year\": 1973, \"total_results\": 45, \"total_articles\": 11095, \"proportion\": 0.00405588102748986, \"state\": \"Victoria\"}, {\"year\": 1974, \"total_results\": 44, \"total_articles\": 11880, \"proportion\": 0.003703703703703704, \"state\": \"Victoria\"}, {\"year\": 1975, \"total_results\": 59, \"total_articles\": 12033, \"proportion\": 0.0049031829136541175, \"state\": \"Victoria\"}, {\"year\": 1976, \"total_results\": 48, \"total_articles\": 13685, \"proportion\": 0.0035074899525027402, \"state\": \"Victoria\"}, {\"year\": 1977, \"total_results\": 66, \"total_articles\": 11617, \"proportion\": 0.005681329086683309, \"state\": \"Victoria\"}, {\"year\": 1978, \"total_results\": 232, \"total_articles\": 11187, \"proportion\": 0.020738357021542864, \"state\": \"Victoria\"}, {\"year\": 1979, \"total_results\": 166, \"total_articles\": 13105, \"proportion\": 0.012666921022510493, \"state\": \"Victoria\"}, {\"year\": 1980, \"total_results\": 175, \"total_articles\": 13621, \"proportion\": 0.012847808530944865, \"state\": \"Victoria\"}, {\"year\": 1981, \"total_results\": 246, \"total_articles\": 13744, \"proportion\": 0.01789871944121071, \"state\": \"Victoria\"}, {\"year\": 1982, \"total_results\": 233, \"total_articles\": 13742, \"proportion\": 0.01695531945859409, \"state\": \"Victoria\"}, {\"year\": 1983, \"total_results\": 208, \"total_articles\": 15017, \"proportion\": 0.013850968901911167, \"state\": \"Victoria\"}, {\"year\": 1984, \"total_results\": 210, \"total_articles\": 14555, \"proportion\": 0.014428031604259704, \"state\": \"Victoria\"}, {\"year\": 1985, \"total_results\": 215, \"total_articles\": 15085, \"proportion\": 0.014252568776930727, \"state\": \"Victoria\"}, {\"year\": 1986, \"total_results\": 183, \"total_articles\": 15495, \"proportion\": 0.01181026137463698, \"state\": \"Victoria\"}, {\"year\": 1987, \"total_results\": 170, \"total_articles\": 14992, \"proportion\": 0.011339381003201707, \"state\": \"Victoria\"}, {\"year\": 1988, \"total_results\": 128, \"total_articles\": 13151, \"proportion\": 0.009733100144475705, \"state\": \"Victoria\"}, {\"year\": 1989, \"total_results\": 143, \"total_articles\": 16154, \"proportion\": 0.00885229664479386, \"state\": \"Victoria\"}, {\"year\": 1990, \"total_results\": 121, \"total_articles\": 14940, \"proportion\": 0.008099062918340026, \"state\": \"Victoria\"}, {\"year\": 1991, \"total_results\": 88, \"total_articles\": 11613, \"proportion\": 0.00757771463015586, \"state\": \"Victoria\"}, {\"year\": 1992, \"total_results\": 129, \"total_articles\": 15785, \"proportion\": 0.008172315489388661, \"state\": \"Victoria\"}, {\"year\": 1993, \"total_results\": 124, \"total_articles\": 16023, \"proportion\": 0.007738875366660425, \"state\": \"Victoria\"}, {\"year\": 1994, \"total_results\": 94, \"total_articles\": 15945, \"proportion\": 0.005895264973345877, \"state\": \"Victoria\"}, {\"year\": 1995, \"total_results\": 77, \"total_articles\": 15224, \"proportion\": 0.0050578034682080926, \"state\": \"Victoria\"}, {\"year\": 1996, \"total_results\": 66, \"total_articles\": 11298, \"proportion\": 0.005841741901221455, \"state\": \"Victoria\"}, {\"year\": 1997, \"total_results\": 81, \"total_articles\": 12783, \"proportion\": 0.0063365407181412816, \"state\": \"Victoria\"}, {\"year\": 1998, \"total_results\": 75, \"total_articles\": 11945, \"proportion\": 0.006278777731268313, \"state\": \"Victoria\"}, {\"year\": 1999, \"total_results\": 167, \"total_articles\": 11452, \"proportion\": 0.014582605658400279, \"state\": \"Victoria\"}, {\"year\": 2007, \"total_results\": 3, \"total_articles\": 429, \"proportion\": 0.006993006993006993, \"state\": \"Victoria\"}]}}, {\"mode\": \"vega-lite\"});\n",
       "</script>"
      ],
      "text/plain": [
       "alt.VConcatChart(...)"
      ]
     },
     "execution_count": 27,
     "metadata": {},
     "output_type": "execute_result"
    }
   ],
   "source": [
    "# Chart totals\n",
    "chart5 = make_chart_totals(df_states, \"state\", \"State\")\n",
    "\n",
    "# Chart proportions\n",
    "chart6 = make_chart_proportions(df_states, \"state\", \"State\")\n",
    "\n",
    "# Shorthand way of concatenating the two charts (note there's only one legend)\n",
    "chart5 & chart6"
   ]
  },
  {
   "cell_type": "markdown",
   "metadata": {},
   "source": [
    "Showing the results as a proportion of the total articles for each state does seem to show up some interesting differences. Did 10% of newspaper articles published in Victoria in 1857 really mention 'Chinese'? That seems like something to investigate in more detail.\n",
    "\n",
    "Another way of visualising the number of results per state is by using a map! See [Map newspaper results by state](Map-newspaper-results-by-state.ipynb) for a demonstration."
   ]
  },
  {
   "cell_type": "markdown",
   "metadata": {},
   "source": [
    "## 7. Comparing a search term across different newspapers\n",
    "\n",
    "For a more fine-grained analysis, we might want to compare the contents of different newspapers – how did their coverage or language vary over time? To do this we can use Trove's `title` facet which, despite the name, limits your results to a particular newspaper.\n",
    "\n",
    "The `title` facet expects a numeric newspaper identifier. The easiest way of find this id number is to go to the [list of newspapers](https://trove.nla.gov.au/newspaper/about) and click on the one you're interested in. The id number will be in the url of the newspaper details page. For example, the url of the *Canberra Times* page is:\n",
    "\n",
    "`https://trove.nla.gov.au/newspaper/title/11`\n",
    "\n",
    "So the id number is '11'.\n",
    "\n",
    "As with previous examples, we'll create a list of the newspapers we want to use with the `title` facet. However, the id number on it's own isn't going to be very useful in the legend of our chart, so we'll include the name of the newspaper as well. "
   ]
  },
  {
   "cell_type": "code",
   "execution_count": 28,
   "metadata": {},
   "outputs": [],
   "source": [
    "# Create a list of dictionaries, each with the 'id' and 'name' of a newspaper\n",
    "newspapers = [\n",
    "    {\"id\": 1180, \"name\": \"Sydney Sun\"},\n",
    "    {\"id\": 35, \"name\": \"Sydney Morning Herald\"},\n",
    "    {\"id\": 1002, \"name\": \"Tribune\"},\n",
    "]"
   ]
  },
  {
   "cell_type": "code",
   "execution_count": 29,
   "metadata": {},
   "outputs": [],
   "source": [
    "# Our search query we want to compare across newspapers\n",
    "query = \"worker\""
   ]
  },
  {
   "cell_type": "markdown",
   "metadata": {},
   "source": [
    "In this case the total number of articles we want to use in calculating the proportion of results is probably the total number of articles published in each particular newspaper. This should allow a more meaningful comparison between, for example, a weekly and a daily newspaper. As in the example above, we'll define a function to loop through the newspapers, and another to get the total number of articles for a given newspaper."
   ]
  },
  {
   "cell_type": "code",
   "execution_count": 30,
   "metadata": {},
   "outputs": [],
   "source": [
    "def get_newspaper_totals(newspaper_id):\n",
    "    \"\"\"\n",
    "    Get the total number of articles for each year for the specified newspaper.\n",
    "    Parameters:\n",
    "        newspaper_id - numeric Trove newspaper identifier\n",
    "    Returns:\n",
    "        A list of dictionaries containing 'year', 'total_results'.\n",
    "    \"\"\"\n",
    "    these_params = params.copy()\n",
    "\n",
    "    # Set q to a single space for everything\n",
    "    these_params[\"q\"] = \" \"\n",
    "\n",
    "    # Set the title facet to the newspaper_id\n",
    "    these_params[\"l-title\"] = newspaper_id\n",
    "\n",
    "    # Get all the year by year data\n",
    "    facet_data = get_facet_data(these_params)\n",
    "    return facet_data\n",
    "\n",
    "\n",
    "def get_newspaper_facets(params, newspapers, query):\n",
    "    \"\"\"\n",
    "    Loop through the supplied list of newspapers searching for the specified query and getting the year by year results.\n",
    "    Merges the search results with the total number of articles for that newspaper.\n",
    "    Parameters:\n",
    "        params - basic parameters to send to the API\n",
    "        newspapers - a list of dictionaries with the id and name of a newspaper\n",
    "        query - the search query to use\n",
    "    Returns:\n",
    "        A dataframe\n",
    "    \"\"\"\n",
    "    dfs = []\n",
    "    these_params = params.copy()\n",
    "\n",
    "    # Set the query\n",
    "    these_params[\"q\"] = query\n",
    "\n",
    "    # Loop through the list of newspapers\n",
    "    for newspaper in newspapers:\n",
    "\n",
    "        # Sewt the title facet to the id of the current newspaper\n",
    "        these_params[\"l-title\"] = newspaper[\"id\"]\n",
    "\n",
    "        # Get the year by year results for this newspaper\n",
    "        facet_data = get_facet_data(these_params)\n",
    "\n",
    "        # Convert to a dataframe\n",
    "        df = pd.DataFrame(facet_data)\n",
    "\n",
    "        # Get the total number of articles published in this newspaper per year\n",
    "        total_data = get_newspaper_totals(newspaper[\"id\"])\n",
    "\n",
    "        # Convert to a dataframe\n",
    "        df_total = pd.DataFrame(total_data)\n",
    "\n",
    "        # Merge the two dataframes\n",
    "        df_merged = merge_df_with_total(df, df_total)\n",
    "\n",
    "        # Create a newspaper column and set its value to the name of the newspaper\n",
    "        df_merged[\"newspaper\"] = newspaper[\"name\"]\n",
    "\n",
    "        # Add the current datarame to the list\n",
    "        dfs.append(df_merged)\n",
    "\n",
    "    # Concatenate the dataframes and return the result\n",
    "    return pd.concat(dfs)"
   ]
  },
  {
   "cell_type": "markdown",
   "metadata": {},
   "source": [
    "Let's get the data!"
   ]
  },
  {
   "cell_type": "code",
   "execution_count": 31,
   "metadata": {},
   "outputs": [],
   "source": [
    "df_newspapers = get_newspaper_facets(params, newspapers, query)"
   ]
  },
  {
   "cell_type": "markdown",
   "metadata": {},
   "source": [
    "And make some charts!"
   ]
  },
  {
   "cell_type": "code",
   "execution_count": 32,
   "metadata": {},
   "outputs": [
    {
     "data": {
      "text/html": [
       "\n",
       "<div id=\"altair-viz-4bfd48e598e14d23872961e71db2c54d\"></div>\n",
       "<script type=\"text/javascript\">\n",
       "  var VEGA_DEBUG = (typeof VEGA_DEBUG == \"undefined\") ? {} : VEGA_DEBUG;\n",
       "  (function(spec, embedOpt){\n",
       "    let outputDiv = document.currentScript.previousElementSibling;\n",
       "    if (outputDiv.id !== \"altair-viz-4bfd48e598e14d23872961e71db2c54d\") {\n",
       "      outputDiv = document.getElementById(\"altair-viz-4bfd48e598e14d23872961e71db2c54d\");\n",
       "    }\n",
       "    const paths = {\n",
       "      \"vega\": \"https://cdn.jsdelivr.net/npm//vega@5?noext\",\n",
       "      \"vega-lib\": \"https://cdn.jsdelivr.net/npm//vega-lib?noext\",\n",
       "      \"vega-lite\": \"https://cdn.jsdelivr.net/npm//vega-lite@4.17.0?noext\",\n",
       "      \"vega-embed\": \"https://cdn.jsdelivr.net/npm//vega-embed@6?noext\",\n",
       "    };\n",
       "\n",
       "    function maybeLoadScript(lib, version) {\n",
       "      var key = `${lib.replace(\"-\", \"\")}_version`;\n",
       "      return (VEGA_DEBUG[key] == version) ?\n",
       "        Promise.resolve(paths[lib]) :\n",
       "        new Promise(function(resolve, reject) {\n",
       "          var s = document.createElement('script');\n",
       "          document.getElementsByTagName(\"head\")[0].appendChild(s);\n",
       "          s.async = true;\n",
       "          s.onload = () => {\n",
       "            VEGA_DEBUG[key] = version;\n",
       "            return resolve(paths[lib]);\n",
       "          };\n",
       "          s.onerror = () => reject(`Error loading script: ${paths[lib]}`);\n",
       "          s.src = paths[lib];\n",
       "        });\n",
       "    }\n",
       "\n",
       "    function showError(err) {\n",
       "      outputDiv.innerHTML = `<div class=\"error\" style=\"color:red;\">${err}</div>`;\n",
       "      throw err;\n",
       "    }\n",
       "\n",
       "    function displayChart(vegaEmbed) {\n",
       "      vegaEmbed(outputDiv, spec, embedOpt)\n",
       "        .catch(err => showError(`Javascript Error: ${err.message}<br>This usually means there's a typo in your chart specification. See the javascript console for the full traceback.`));\n",
       "    }\n",
       "\n",
       "    if(typeof define === \"function\" && define.amd) {\n",
       "      requirejs.config({paths});\n",
       "      require([\"vega-embed\"], displayChart, err => showError(`Error loading script: ${err.message}`));\n",
       "    } else {\n",
       "      maybeLoadScript(\"vega\", \"5\")\n",
       "        .then(() => maybeLoadScript(\"vega-lite\", \"4.17.0\"))\n",
       "        .then(() => maybeLoadScript(\"vega-embed\", \"6\"))\n",
       "        .catch(showError)\n",
       "        .then(() => displayChart(vegaEmbed));\n",
       "    }\n",
       "  })({\"config\": {\"view\": {\"continuousWidth\": 400, \"continuousHeight\": 300}}, \"vconcat\": [{\"mark\": {\"type\": \"line\", \"point\": true}, \"encoding\": {\"color\": {\"field\": \"newspaper\", \"legend\": {\"title\": \"Newspaper\"}, \"type\": \"nominal\"}, \"tooltip\": [{\"field\": \"newspaper\", \"title\": \"Newspaper\", \"type\": \"nominal\"}, {\"field\": \"year\", \"title\": \"Year\", \"type\": \"quantitative\"}, {\"field\": \"total_results\", \"format\": \",\", \"title\": \"Articles\", \"type\": \"quantitative\"}], \"x\": {\"axis\": {\"format\": \"c\", \"title\": \"Year\"}, \"field\": \"year\", \"type\": \"quantitative\"}, \"y\": {\"axis\": {\"format\": \",d\", \"title\": \"Number of articles\"}, \"field\": \"total_results\", \"type\": \"quantitative\"}}, \"height\": 250, \"width\": 700}, {\"mark\": {\"type\": \"line\", \"point\": true}, \"encoding\": {\"color\": {\"field\": \"newspaper\", \"legend\": {\"title\": \"Newspaper\"}, \"type\": \"nominal\"}, \"tooltip\": [{\"field\": \"newspaper\", \"title\": \"Newspaper\", \"type\": \"nominal\"}, {\"field\": \"year\", \"title\": \"Year\", \"type\": \"quantitative\"}, {\"field\": \"proportion\", \"format\": \"%\", \"title\": \"Proportion\", \"type\": \"quantitative\"}], \"x\": {\"axis\": {\"format\": \"c\", \"title\": \"Year\"}, \"field\": \"year\", \"type\": \"quantitative\"}, \"y\": {\"axis\": {\"format\": \"%\", \"title\": \"Proportion of articles\"}, \"field\": \"proportion\", \"stack\": null, \"type\": \"quantitative\"}}, \"height\": 250, \"width\": 700}], \"data\": {\"name\": \"data-9f3b3f881e46ca5f0210a218af018e7b\"}, \"$schema\": \"https://vega.github.io/schema/vega-lite/v4.17.0.json\", \"datasets\": {\"data-9f3b3f881e46ca5f0210a218af018e7b\": [{\"year\": 1910, \"total_results\": 5040, \"total_articles\": 26594, \"proportion\": 0.18951643227795745, \"newspaper\": \"Sydney Sun\"}, {\"year\": 1911, \"total_results\": 11741, \"total_articles\": 59711, \"proportion\": 0.19663043660297097, \"newspaper\": \"Sydney Sun\"}, {\"year\": 1912, \"total_results\": 14330, \"total_articles\": 74322, \"proportion\": 0.19280966604773822, \"newspaper\": \"Sydney Sun\"}, {\"year\": 1913, \"total_results\": 15780, \"total_articles\": 81812, \"proportion\": 0.19288123991590475, \"newspaper\": \"Sydney Sun\"}, {\"year\": 1914, \"total_results\": 10230, \"total_articles\": 54243, \"proportion\": 0.1885957635086555, \"newspaper\": \"Sydney Sun\"}, {\"year\": 1915, \"total_results\": 10775, \"total_articles\": 58624, \"proportion\": 0.1837984443231441, \"newspaper\": \"Sydney Sun\"}, {\"year\": 1916, \"total_results\": 11577, \"total_articles\": 55955, \"proportion\": 0.20689840050040212, \"newspaper\": \"Sydney Sun\"}, {\"year\": 1917, \"total_results\": 10971, \"total_articles\": 45517, \"proportion\": 0.24103082364830722, \"newspaper\": \"Sydney Sun\"}, {\"year\": 1918, \"total_results\": 9871, \"total_articles\": 43185, \"proportion\": 0.22857473659835592, \"newspaper\": \"Sydney Sun\"}, {\"year\": 1919, \"total_results\": 11595, \"total_articles\": 55078, \"proportion\": 0.21051962671120955, \"newspaper\": \"Sydney Sun\"}, {\"year\": 1920, \"total_results\": 11168, \"total_articles\": 53082, \"proportion\": 0.21039146980143927, \"newspaper\": \"Sydney Sun\"}, {\"year\": 1921, \"total_results\": 12024, \"total_articles\": 60382, \"proportion\": 0.19913219171276209, \"newspaper\": \"Sydney Sun\"}, {\"year\": 1922, \"total_results\": 11854, \"total_articles\": 65570, \"proportion\": 0.18078389507396675, \"newspaper\": \"Sydney Sun\"}, {\"year\": 1923, \"total_results\": 12277, \"total_articles\": 72373, \"proportion\": 0.16963508490735496, \"newspaper\": \"Sydney Sun\"}, {\"year\": 1924, \"total_results\": 11243, \"total_articles\": 70801, \"proportion\": 0.15879719213005467, \"newspaper\": \"Sydney Sun\"}, {\"year\": 1925, \"total_results\": 11478, \"total_articles\": 72479, \"proportion\": 0.15836311207384207, \"newspaper\": \"Sydney Sun\"}, {\"year\": 1926, \"total_results\": 13266, \"total_articles\": 79748, \"proportion\": 0.16634899934794603, \"newspaper\": \"Sydney Sun\"}, {\"year\": 1927, \"total_results\": 13718, \"total_articles\": 85260, \"proportion\": 0.16089608257095941, \"newspaper\": \"Sydney Sun\"}, {\"year\": 1928, \"total_results\": 13854, \"total_articles\": 87922, \"proportion\": 0.15757148381519984, \"newspaper\": \"Sydney Sun\"}, {\"year\": 1929, \"total_results\": 14480, \"total_articles\": 91156, \"proportion\": 0.158848567291237, \"newspaper\": \"Sydney Sun\"}, {\"year\": 1930, \"total_results\": 13453, \"total_articles\": 86528, \"proportion\": 0.15547568417159763, \"newspaper\": \"Sydney Sun\"}, {\"year\": 1931, \"total_results\": 11248, \"total_articles\": 79325, \"proportion\": 0.14179640718562875, \"newspaper\": \"Sydney Sun\"}, {\"year\": 1932, \"total_results\": 12313, \"total_articles\": 89069, \"proportion\": 0.13824113889231943, \"newspaper\": \"Sydney Sun\"}, {\"year\": 1933, \"total_results\": 13098, \"total_articles\": 90922, \"proportion\": 0.1440575438287763, \"newspaper\": \"Sydney Sun\"}, {\"year\": 1934, \"total_results\": 12814, \"total_articles\": 91762, \"proportion\": 0.13964386129334583, \"newspaper\": \"Sydney Sun\"}, {\"year\": 1935, \"total_results\": 13320, \"total_articles\": 92266, \"proportion\": 0.14436520495090283, \"newspaper\": \"Sydney Sun\"}, {\"year\": 1936, \"total_results\": 15078, \"total_articles\": 103341, \"proportion\": 0.14590530380004063, \"newspaper\": \"Sydney Sun\"}, {\"year\": 1937, \"total_results\": 14196, \"total_articles\": 92674, \"proportion\": 0.1531821222780931, \"newspaper\": \"Sydney Sun\"}, {\"year\": 1938, \"total_results\": 14306, \"total_articles\": 95217, \"proportion\": 0.15024627955092054, \"newspaper\": \"Sydney Sun\"}, {\"year\": 1939, \"total_results\": 13987, \"total_articles\": 93269, \"proportion\": 0.14996408238535847, \"newspaper\": \"Sydney Sun\"}, {\"year\": 1940, \"total_results\": 13610, \"total_articles\": 83644, \"proportion\": 0.16271340442829132, \"newspaper\": \"Sydney Sun\"}, {\"year\": 1941, \"total_results\": 11409, \"total_articles\": 68898, \"proportion\": 0.16559261517025167, \"newspaper\": \"Sydney Sun\"}, {\"year\": 1942, \"total_results\": 10221, \"total_articles\": 59524, \"proportion\": 0.17171225052079833, \"newspaper\": \"Sydney Sun\"}, {\"year\": 1943, \"total_results\": 8945, \"total_articles\": 55022, \"proportion\": 0.16257133510232272, \"newspaper\": \"Sydney Sun\"}, {\"year\": 1944, \"total_results\": 7898, \"total_articles\": 53765, \"proportion\": 0.14689853994234167, \"newspaper\": \"Sydney Sun\"}, {\"year\": 1945, \"total_results\": 10447, \"total_articles\": 66436, \"proportion\": 0.15724908182310796, \"newspaper\": \"Sydney Sun\"}, {\"year\": 1946, \"total_results\": 11801, \"total_articles\": 77045, \"proportion\": 0.153170225193069, \"newspaper\": \"Sydney Sun\"}, {\"year\": 1947, \"total_results\": 11599, \"total_articles\": 80781, \"proportion\": 0.14358574417251582, \"newspaper\": \"Sydney Sun\"}, {\"year\": 1948, \"total_results\": 7278, \"total_articles\": 59982, \"proportion\": 0.12133640092027609, \"newspaper\": \"Sydney Sun\"}, {\"year\": 1949, \"total_results\": 9572, \"total_articles\": 72217, \"proportion\": 0.1325449686361937, \"newspaper\": \"Sydney Sun\"}, {\"year\": 1950, \"total_results\": 9963, \"total_articles\": 78466, \"proportion\": 0.1269721917773303, \"newspaper\": \"Sydney Sun\"}, {\"year\": 1951, \"total_results\": 8926, \"total_articles\": 72880, \"proportion\": 0.12247530186608123, \"newspaper\": \"Sydney Sun\"}, {\"year\": 1952, \"total_results\": 8947, \"total_articles\": 75615, \"proportion\": 0.11832308404417113, \"newspaper\": \"Sydney Sun\"}, {\"year\": 1953, \"total_results\": 8570, \"total_articles\": 77322, \"proportion\": 0.1108352086081581, \"newspaper\": \"Sydney Sun\"}, {\"year\": 1954, \"total_results\": 7849, \"total_articles\": 71881, \"proportion\": 0.10919436290535747, \"newspaper\": \"Sydney Sun\"}, {\"year\": 1842, \"total_results\": 889, \"total_articles\": 3815, \"proportion\": 0.23302752293577983, \"newspaper\": \"Sydney Morning Herald\"}, {\"year\": 1843, \"total_results\": 2131, \"total_articles\": 9178, \"proportion\": 0.23218566136413163, \"newspaper\": \"Sydney Morning Herald\"}, {\"year\": 1844, \"total_results\": 1926, \"total_articles\": 8143, \"proportion\": 0.2365221662777846, \"newspaper\": \"Sydney Morning Herald\"}, {\"year\": 1845, \"total_results\": 1955, \"total_articles\": 8205, \"proportion\": 0.23826934795856186, \"newspaper\": \"Sydney Morning Herald\"}, {\"year\": 1846, \"total_results\": 1998, \"total_articles\": 8058, \"proportion\": 0.2479523454951601, \"newspaper\": \"Sydney Morning Herald\"}, {\"year\": 1847, \"total_results\": 2101, \"total_articles\": 8391, \"proportion\": 0.25038731974734835, \"newspaper\": \"Sydney Morning Herald\"}, {\"year\": 1848, \"total_results\": 2132, \"total_articles\": 8695, \"proportion\": 0.24519838987924095, \"newspaper\": \"Sydney Morning Herald\"}, {\"year\": 1849, \"total_results\": 2291, \"total_articles\": 8888, \"proportion\": 0.25776327632763274, \"newspaper\": \"Sydney Morning Herald\"}, {\"year\": 1850, \"total_results\": 2400, \"total_articles\": 9253, \"proportion\": 0.25937533772830434, \"newspaper\": \"Sydney Morning Herald\"}, {\"year\": 1851, \"total_results\": 2739, \"total_articles\": 9939, \"proportion\": 0.27558104437066105, \"newspaper\": \"Sydney Morning Herald\"}, {\"year\": 1852, \"total_results\": 2791, \"total_articles\": 10055, \"proportion\": 0.27757334659373445, \"newspaper\": \"Sydney Morning Herald\"}, {\"year\": 1853, \"total_results\": 3353, \"total_articles\": 10476, \"proportion\": 0.32006491027109585, \"newspaper\": \"Sydney Morning Herald\"}, {\"year\": 1854, \"total_results\": 4741, \"total_articles\": 14319, \"proportion\": 0.331098540400866, \"newspaper\": \"Sydney Morning Herald\"}, {\"year\": 1855, \"total_results\": 5191, \"total_articles\": 16045, \"proportion\": 0.3235275786849486, \"newspaper\": \"Sydney Morning Herald\"}, {\"year\": 1856, \"total_results\": 4934, \"total_articles\": 16377, \"proportion\": 0.30127618000854856, \"newspaper\": \"Sydney Morning Herald\"}, {\"year\": 1857, \"total_results\": 5317, \"total_articles\": 16960, \"proportion\": 0.313502358490566, \"newspaper\": \"Sydney Morning Herald\"}, {\"year\": 1858, \"total_results\": 5251, \"total_articles\": 16967, \"proportion\": 0.30948311428066244, \"newspaper\": \"Sydney Morning Herald\"}, {\"year\": 1859, \"total_results\": 5084, \"total_articles\": 17368, \"proportion\": 0.2927222478120682, \"newspaper\": \"Sydney Morning Herald\"}, {\"year\": 1860, \"total_results\": 5573, \"total_articles\": 18652, \"proportion\": 0.298788333690757, \"newspaper\": \"Sydney Morning Herald\"}, {\"year\": 1861, \"total_results\": 5499, \"total_articles\": 19369, \"proportion\": 0.28390727451081627, \"newspaper\": \"Sydney Morning Herald\"}, {\"year\": 1862, \"total_results\": 5133, \"total_articles\": 19270, \"proportion\": 0.2663725998962117, \"newspaper\": \"Sydney Morning Herald\"}, {\"year\": 1863, \"total_results\": 5258, \"total_articles\": 20205, \"proportion\": 0.2602326156891858, \"newspaper\": \"Sydney Morning Herald\"}, {\"year\": 1864, \"total_results\": 5273, \"total_articles\": 20692, \"proportion\": 0.25483278561763, \"newspaper\": \"Sydney Morning Herald\"}, {\"year\": 1865, \"total_results\": 5120, \"total_articles\": 20227, \"proportion\": 0.25312700845404656, \"newspaper\": \"Sydney Morning Herald\"}, {\"year\": 1866, \"total_results\": 5281, \"total_articles\": 20113, \"proportion\": 0.2625664992790732, \"newspaper\": \"Sydney Morning Herald\"}, {\"year\": 1867, \"total_results\": 5518, \"total_articles\": 21024, \"proportion\": 0.2624619482496195, \"newspaper\": \"Sydney Morning Herald\"}, {\"year\": 1868, \"total_results\": 5409, \"total_articles\": 21267, \"proportion\": 0.2543377063055438, \"newspaper\": \"Sydney Morning Herald\"}, {\"year\": 1869, \"total_results\": 5526, \"total_articles\": 21656, \"proportion\": 0.2551717768747691, \"newspaper\": \"Sydney Morning Herald\"}, {\"year\": 1870, \"total_results\": 5720, \"total_articles\": 21778, \"proportion\": 0.26265038111856004, \"newspaper\": \"Sydney Morning Herald\"}, {\"year\": 1871, \"total_results\": 5731, \"total_articles\": 21415, \"proportion\": 0.26761615689936963, \"newspaper\": \"Sydney Morning Herald\"}, {\"year\": 1872, \"total_results\": 5955, \"total_articles\": 20594, \"proportion\": 0.28916189181314944, \"newspaper\": \"Sydney Morning Herald\"}, {\"year\": 1873, \"total_results\": 6121, \"total_articles\": 22009, \"proportion\": 0.2781134990231269, \"newspaper\": \"Sydney Morning Herald\"}, {\"year\": 1874, \"total_results\": 6465, \"total_articles\": 22864, \"proportion\": 0.282758922323303, \"newspaper\": \"Sydney Morning Herald\"}, {\"year\": 1875, \"total_results\": 6636, \"total_articles\": 22620, \"proportion\": 0.29336870026525197, \"newspaper\": \"Sydney Morning Herald\"}, {\"year\": 1876, \"total_results\": 6286, \"total_articles\": 22119, \"proportion\": 0.2841900628419006, \"newspaper\": \"Sydney Morning Herald\"}, {\"year\": 1877, \"total_results\": 6692, \"total_articles\": 22224, \"proportion\": 0.30111591072714183, \"newspaper\": \"Sydney Morning Herald\"}, {\"year\": 1878, \"total_results\": 7234, \"total_articles\": 24945, \"proportion\": 0.28999799559029865, \"newspaper\": \"Sydney Morning Herald\"}, {\"year\": 1879, \"total_results\": 7354, \"total_articles\": 26778, \"proportion\": 0.27462842632011353, \"newspaper\": \"Sydney Morning Herald\"}, {\"year\": 1880, \"total_results\": 7390, \"total_articles\": 30084, \"proportion\": 0.24564552586092275, \"newspaper\": \"Sydney Morning Herald\"}, {\"year\": 1881, \"total_results\": 8006, \"total_articles\": 29411, \"proportion\": 0.2722110774880147, \"newspaper\": \"Sydney Morning Herald\"}, {\"year\": 1882, \"total_results\": 8419, \"total_articles\": 28221, \"proportion\": 0.2983239431628929, \"newspaper\": \"Sydney Morning Herald\"}, {\"year\": 1883, \"total_results\": 9337, \"total_articles\": 31012, \"proportion\": 0.30107700245066427, \"newspaper\": \"Sydney Morning Herald\"}, {\"year\": 1884, \"total_results\": 9849, \"total_articles\": 32517, \"proportion\": 0.30288772026939753, \"newspaper\": \"Sydney Morning Herald\"}, {\"year\": 1885, \"total_results\": 10677, \"total_articles\": 34340, \"proportion\": 0.31092020966802564, \"newspaper\": \"Sydney Morning Herald\"}, {\"year\": 1886, \"total_results\": 11759, \"total_articles\": 37973, \"proportion\": 0.30966739525452297, \"newspaper\": \"Sydney Morning Herald\"}, {\"year\": 1887, \"total_results\": 11279, \"total_articles\": 39957, \"proportion\": 0.28227844933303303, \"newspaper\": \"Sydney Morning Herald\"}, {\"year\": 1888, \"total_results\": 12344, \"total_articles\": 43952, \"proportion\": 0.28085183836912997, \"newspaper\": \"Sydney Morning Herald\"}, {\"year\": 1889, \"total_results\": 12582, \"total_articles\": 47163, \"proportion\": 0.26677692258762165, \"newspaper\": \"Sydney Morning Herald\"}, {\"year\": 1890, \"total_results\": 13177, \"total_articles\": 49542, \"proportion\": 0.2659763433046708, \"newspaper\": \"Sydney Morning Herald\"}, {\"year\": 1891, \"total_results\": 11747, \"total_articles\": 44992, \"proportion\": 0.2610908605974395, \"newspaper\": \"Sydney Morning Herald\"}, {\"year\": 1892, \"total_results\": 12079, \"total_articles\": 43389, \"proportion\": 0.2783885316554887, \"newspaper\": \"Sydney Morning Herald\"}, {\"year\": 1893, \"total_results\": 11630, \"total_articles\": 48108, \"proportion\": 0.24174773426457138, \"newspaper\": \"Sydney Morning Herald\"}, {\"year\": 1894, \"total_results\": 11713, \"total_articles\": 52110, \"proportion\": 0.22477451544809057, \"newspaper\": \"Sydney Morning Herald\"}, {\"year\": 1895, \"total_results\": 11362, \"total_articles\": 50295, \"proportion\": 0.22590714782781587, \"newspaper\": \"Sydney Morning Herald\"}, {\"year\": 1896, \"total_results\": 12221, \"total_articles\": 52479, \"proportion\": 0.2328741020217611, \"newspaper\": \"Sydney Morning Herald\"}, {\"year\": 1897, \"total_results\": 12089, \"total_articles\": 53903, \"proportion\": 0.22427323154555406, \"newspaper\": \"Sydney Morning Herald\"}, {\"year\": 1898, \"total_results\": 12372, \"total_articles\": 60637, \"proportion\": 0.20403384072431024, \"newspaper\": \"Sydney Morning Herald\"}, {\"year\": 1899, \"total_results\": 14019, \"total_articles\": 66406, \"proportion\": 0.2111104418275457, \"newspaper\": \"Sydney Morning Herald\"}, {\"year\": 1900, \"total_results\": 15375, \"total_articles\": 74506, \"proportion\": 0.20635921939172683, \"newspaper\": \"Sydney Morning Herald\"}, {\"year\": 1901, \"total_results\": 17147, \"total_articles\": 75727, \"proportion\": 0.22643178786958418, \"newspaper\": \"Sydney Morning Herald\"}, {\"year\": 1902, \"total_results\": 18560, \"total_articles\": 78991, \"proportion\": 0.23496347685179325, \"newspaper\": \"Sydney Morning Herald\"}, {\"year\": 1903, \"total_results\": 17789, \"total_articles\": 81108, \"proportion\": 0.21932485081619568, \"newspaper\": \"Sydney Morning Herald\"}, {\"year\": 1904, \"total_results\": 17043, \"total_articles\": 78359, \"proportion\": 0.2174989471534859, \"newspaper\": \"Sydney Morning Herald\"}, {\"year\": 1905, \"total_results\": 16880, \"total_articles\": 78339, \"proportion\": 0.21547377423760836, \"newspaper\": \"Sydney Morning Herald\"}, {\"year\": 1906, \"total_results\": 18554, \"total_articles\": 87256, \"proportion\": 0.21263867241221235, \"newspaper\": \"Sydney Morning Herald\"}, {\"year\": 1907, \"total_results\": 20100, \"total_articles\": 88945, \"proportion\": 0.22598234864241948, \"newspaper\": \"Sydney Morning Herald\"}, {\"year\": 1908, \"total_results\": 20264, \"total_articles\": 92758, \"proportion\": 0.2184609413743289, \"newspaper\": \"Sydney Morning Herald\"}, {\"year\": 1909, \"total_results\": 21139, \"total_articles\": 91878, \"proportion\": 0.23007684102832016, \"newspaper\": \"Sydney Morning Herald\"}, {\"year\": 1910, \"total_results\": 22077, \"total_articles\": 97509, \"proportion\": 0.22640986985816694, \"newspaper\": \"Sydney Morning Herald\"}, {\"year\": 1911, \"total_results\": 22785, \"total_articles\": 96528, \"proportion\": 0.2360454997513675, \"newspaper\": \"Sydney Morning Herald\"}, {\"year\": 1912, \"total_results\": 22377, \"total_articles\": 94942, \"proportion\": 0.2356912641402119, \"newspaper\": \"Sydney Morning Herald\"}, {\"year\": 1913, \"total_results\": 22458, \"total_articles\": 95855, \"proportion\": 0.23429137760158572, \"newspaper\": \"Sydney Morning Herald\"}, {\"year\": 1914, \"total_results\": 19090, \"total_articles\": 90179, \"proportion\": 0.21169008305703102, \"newspaper\": \"Sydney Morning Herald\"}, {\"year\": 1915, \"total_results\": 16443, \"total_articles\": 81653, \"proportion\": 0.20137655689319436, \"newspaper\": \"Sydney Morning Herald\"}, {\"year\": 1916, \"total_results\": 16434, \"total_articles\": 74196, \"proportion\": 0.2214944201843765, \"newspaper\": \"Sydney Morning Herald\"}, {\"year\": 1917, \"total_results\": 14955, \"total_articles\": 61321, \"proportion\": 0.2438805629392867, \"newspaper\": \"Sydney Morning Herald\"}, {\"year\": 1918, \"total_results\": 13053, \"total_articles\": 55565, \"proportion\": 0.23491406460901645, \"newspaper\": \"Sydney Morning Herald\"}, {\"year\": 1919, \"total_results\": 13378, \"total_articles\": 57563, \"proportion\": 0.23240623317061307, \"newspaper\": \"Sydney Morning Herald\"}, {\"year\": 1920, \"total_results\": 13839, \"total_articles\": 57435, \"proportion\": 0.2409506398537477, \"newspaper\": \"Sydney Morning Herald\"}, {\"year\": 1921, \"total_results\": 15035, \"total_articles\": 61958, \"proportion\": 0.24266438555150263, \"newspaper\": \"Sydney Morning Herald\"}, {\"year\": 1922, \"total_results\": 16180, \"total_articles\": 68646, \"proportion\": 0.23570200740028552, \"newspaper\": \"Sydney Morning Herald\"}, {\"year\": 1923, \"total_results\": 16721, \"total_articles\": 75298, \"proportion\": 0.22206433105792983, \"newspaper\": \"Sydney Morning Herald\"}, {\"year\": 1924, \"total_results\": 16499, \"total_articles\": 78306, \"proportion\": 0.21069905243531786, \"newspaper\": \"Sydney Morning Herald\"}, {\"year\": 1925, \"total_results\": 17221, \"total_articles\": 83382, \"proportion\": 0.20653138567076826, \"newspaper\": \"Sydney Morning Herald\"}, {\"year\": 1926, \"total_results\": 17596, \"total_articles\": 84749, \"proportion\": 0.2076248687300145, \"newspaper\": \"Sydney Morning Herald\"}, {\"year\": 1927, \"total_results\": 18173, \"total_articles\": 91432, \"proportion\": 0.19875973400997463, \"newspaper\": \"Sydney Morning Herald\"}, {\"year\": 1928, \"total_results\": 17458, \"total_articles\": 92258, \"proportion\": 0.1892302022588827, \"newspaper\": \"Sydney Morning Herald\"}, {\"year\": 1929, \"total_results\": 19390, \"total_articles\": 98136, \"proportion\": 0.19758294611559468, \"newspaper\": \"Sydney Morning Herald\"}, {\"year\": 1930, \"total_results\": 19663, \"total_articles\": 102209, \"proportion\": 0.19238031875862205, \"newspaper\": \"Sydney Morning Herald\"}, {\"year\": 1931, \"total_results\": 17542, \"total_articles\": 94923, \"proportion\": 0.18480241880260842, \"newspaper\": \"Sydney Morning Herald\"}, {\"year\": 1932, \"total_results\": 17507, \"total_articles\": 95369, \"proportion\": 0.18357118141115036, \"newspaper\": \"Sydney Morning Herald\"}, {\"year\": 1933, \"total_results\": 17768, \"total_articles\": 98589, \"proportion\": 0.1802229457647405, \"newspaper\": \"Sydney Morning Herald\"}, {\"year\": 1934, \"total_results\": 17848, \"total_articles\": 105398, \"proportion\": 0.16933907664282055, \"newspaper\": \"Sydney Morning Herald\"}, {\"year\": 1935, \"total_results\": 17581, \"total_articles\": 104690, \"proportion\": 0.1679339000859681, \"newspaper\": \"Sydney Morning Herald\"}, {\"year\": 1936, \"total_results\": 20113, \"total_articles\": 106652, \"proportion\": 0.18858530547950345, \"newspaper\": \"Sydney Morning Herald\"}, {\"year\": 1937, \"total_results\": 19173, \"total_articles\": 104304, \"proportion\": 0.18381845375057523, \"newspaper\": \"Sydney Morning Herald\"}, {\"year\": 1938, \"total_results\": 18026, \"total_articles\": 109361, \"proportion\": 0.16483024112800723, \"newspaper\": \"Sydney Morning Herald\"}, {\"year\": 1939, \"total_results\": 15942, \"total_articles\": 100525, \"proportion\": 0.15858741606565532, \"newspaper\": \"Sydney Morning Herald\"}, {\"year\": 1940, \"total_results\": 12885, \"total_articles\": 77634, \"proportion\": 0.16597109513872788, \"newspaper\": \"Sydney Morning Herald\"}, {\"year\": 1941, \"total_results\": 12245, \"total_articles\": 67293, \"proportion\": 0.18196543474061194, \"newspaper\": \"Sydney Morning Herald\"}, {\"year\": 1942, \"total_results\": 10763, \"total_articles\": 51184, \"proportion\": 0.21028055642388246, \"newspaper\": \"Sydney Morning Herald\"}, {\"year\": 1943, \"total_results\": 10650, \"total_articles\": 46904, \"proportion\": 0.22705952584001365, \"newspaper\": \"Sydney Morning Herald\"}, {\"year\": 1944, \"total_results\": 8938, \"total_articles\": 44751, \"proportion\": 0.19972738039373422, \"newspaper\": \"Sydney Morning Herald\"}, {\"year\": 1945, \"total_results\": 11470, \"total_articles\": 50250, \"proportion\": 0.2282587064676617, \"newspaper\": \"Sydney Morning Herald\"}, {\"year\": 1946, \"total_results\": 13405, \"total_articles\": 56798, \"proportion\": 0.23601183140251417, \"newspaper\": \"Sydney Morning Herald\"}, {\"year\": 1947, \"total_results\": 14476, \"total_articles\": 61107, \"proportion\": 0.23689593663573733, \"newspaper\": \"Sydney Morning Herald\"}, {\"year\": 1948, \"total_results\": 10197, \"total_articles\": 45564, \"proportion\": 0.22379510139583883, \"newspaper\": \"Sydney Morning Herald\"}, {\"year\": 1949, \"total_results\": 10808, \"total_articles\": 51141, \"proportion\": 0.21133728319743456, \"newspaper\": \"Sydney Morning Herald\"}, {\"year\": 1950, \"total_results\": 12061, \"total_articles\": 58692, \"proportion\": 0.20549649015197982, \"newspaper\": \"Sydney Morning Herald\"}, {\"year\": 1951, \"total_results\": 11758, \"total_articles\": 55527, \"proportion\": 0.21175284096025357, \"newspaper\": \"Sydney Morning Herald\"}, {\"year\": 1952, \"total_results\": 11077, \"total_articles\": 53589, \"proportion\": 0.20670286812592137, \"newspaper\": \"Sydney Morning Herald\"}, {\"year\": 1953, \"total_results\": 11477, \"total_articles\": 58629, \"proportion\": 0.19575636630336524, \"newspaper\": \"Sydney Morning Herald\"}, {\"year\": 1954, \"total_results\": 13989, \"total_articles\": 66329, \"proportion\": 0.2109032248337831, \"newspaper\": \"Sydney Morning Herald\"}, {\"year\": 1939, \"total_results\": 923, \"total_articles\": 2147, \"proportion\": 0.42990218910107125, \"newspaper\": \"Tribune\"}, {\"year\": 1940, \"total_results\": 1387, \"total_articles\": 2814, \"proportion\": 0.49289267945984366, \"newspaper\": \"Tribune\"}, {\"year\": 1941, \"total_results\": 241, \"total_articles\": 455, \"proportion\": 0.5296703296703297, \"newspaper\": \"Tribune\"}, {\"year\": 1942, \"total_results\": 339, \"total_articles\": 652, \"proportion\": 0.5199386503067485, \"newspaper\": \"Tribune\"}, {\"year\": 1943, \"total_results\": 1020, \"total_articles\": 2009, \"proportion\": 0.507715281234445, \"newspaper\": \"Tribune\"}, {\"year\": 1944, \"total_results\": 1603, \"total_articles\": 3425, \"proportion\": 0.46802919708029195, \"newspaper\": \"Tribune\"}, {\"year\": 1945, \"total_results\": 2721, \"total_articles\": 6861, \"proportion\": 0.3965894184521207, \"newspaper\": \"Tribune\"}, {\"year\": 1946, \"total_results\": 3476, \"total_articles\": 7531, \"proportion\": 0.46155888992165717, \"newspaper\": \"Tribune\"}, {\"year\": 1947, \"total_results\": 2860, \"total_articles\": 6347, \"proportion\": 0.4506065857885615, \"newspaper\": \"Tribune\"}, {\"year\": 1948, \"total_results\": 3138, \"total_articles\": 6561, \"proportion\": 0.47828074988568814, \"newspaper\": \"Tribune\"}, {\"year\": 1949, \"total_results\": 3502, \"total_articles\": 6571, \"proportion\": 0.5329478009435398, \"newspaper\": \"Tribune\"}, {\"year\": 1950, \"total_results\": 2994, \"total_articles\": 6291, \"proportion\": 0.4759179780639008, \"newspaper\": \"Tribune\"}, {\"year\": 1951, \"total_results\": 2115, \"total_articles\": 4338, \"proportion\": 0.487551867219917, \"newspaper\": \"Tribune\"}, {\"year\": 1952, \"total_results\": 2389, \"total_articles\": 4908, \"proportion\": 0.4867563162184189, \"newspaper\": \"Tribune\"}, {\"year\": 1953, \"total_results\": 2323, \"total_articles\": 4568, \"proportion\": 0.5085376532399299, \"newspaper\": \"Tribune\"}, {\"year\": 1954, \"total_results\": 2101, \"total_articles\": 4327, \"proportion\": 0.48555581234111395, \"newspaper\": \"Tribune\"}, {\"year\": 1955, \"total_results\": 1858, \"total_articles\": 3979, \"proportion\": 0.4669514953505906, \"newspaper\": \"Tribune\"}, {\"year\": 1956, \"total_results\": 1856, \"total_articles\": 3800, \"proportion\": 0.4884210526315789, \"newspaper\": \"Tribune\"}, {\"year\": 1957, \"total_results\": 1788, \"total_articles\": 3768, \"proportion\": 0.4745222929936306, \"newspaper\": \"Tribune\"}, {\"year\": 1958, \"total_results\": 2013, \"total_articles\": 4132, \"proportion\": 0.4871732817037754, \"newspaper\": \"Tribune\"}, {\"year\": 1959, \"total_results\": 1981, \"total_articles\": 4016, \"proportion\": 0.4932768924302789, \"newspaper\": \"Tribune\"}, {\"year\": 1960, \"total_results\": 1890, \"total_articles\": 3637, \"proportion\": 0.5196590596645587, \"newspaper\": \"Tribune\"}, {\"year\": 1961, \"total_results\": 1945, \"total_articles\": 3306, \"proportion\": 0.58832425892317, \"newspaper\": \"Tribune\"}, {\"year\": 1962, \"total_results\": 1796, \"total_articles\": 3191, \"proportion\": 0.5628329677217173, \"newspaper\": \"Tribune\"}, {\"year\": 1963, \"total_results\": 1675, \"total_articles\": 3021, \"proportion\": 0.5544521681562397, \"newspaper\": \"Tribune\"}, {\"year\": 1964, \"total_results\": 1711, \"total_articles\": 3206, \"proportion\": 0.533686837180287, \"newspaper\": \"Tribune\"}, {\"year\": 1965, \"total_results\": 1383, \"total_articles\": 2895, \"proportion\": 0.47772020725388603, \"newspaper\": \"Tribune\"}, {\"year\": 1966, \"total_results\": 1290, \"total_articles\": 3016, \"proportion\": 0.4277188328912467, \"newspaper\": \"Tribune\"}, {\"year\": 1967, \"total_results\": 1299, \"total_articles\": 3087, \"proportion\": 0.4207968901846453, \"newspaper\": \"Tribune\"}, {\"year\": 1968, \"total_results\": 1360, \"total_articles\": 3134, \"proportion\": 0.4339502233567326, \"newspaper\": \"Tribune\"}, {\"year\": 1969, \"total_results\": 1382, \"total_articles\": 3054, \"proportion\": 0.45252128356254095, \"newspaper\": \"Tribune\"}, {\"year\": 1970, \"total_results\": 1337, \"total_articles\": 2803, \"proportion\": 0.4769889404209775, \"newspaper\": \"Tribune\"}, {\"year\": 1971, \"total_results\": 1278, \"total_articles\": 2420, \"proportion\": 0.528099173553719, \"newspaper\": \"Tribune\"}, {\"year\": 1972, \"total_results\": 1316, \"total_articles\": 2463, \"proportion\": 0.534307754770605, \"newspaper\": \"Tribune\"}, {\"year\": 1973, \"total_results\": 1277, \"total_articles\": 2150, \"proportion\": 0.593953488372093, \"newspaper\": \"Tribune\"}, {\"year\": 1974, \"total_results\": 1334, \"total_articles\": 2211, \"proportion\": 0.6033469018543646, \"newspaper\": \"Tribune\"}, {\"year\": 1975, \"total_results\": 1367, \"total_articles\": 2109, \"proportion\": 0.6481744902797535, \"newspaper\": \"Tribune\"}, {\"year\": 1976, \"total_results\": 1383, \"total_articles\": 2460, \"proportion\": 0.5621951219512196, \"newspaper\": \"Tribune\"}, {\"year\": 1977, \"total_results\": 1256, \"total_articles\": 2407, \"proportion\": 0.5218113834648941, \"newspaper\": \"Tribune\"}, {\"year\": 1978, \"total_results\": 1393, \"total_articles\": 2755, \"proportion\": 0.5056261343012705, \"newspaper\": \"Tribune\"}, {\"year\": 1979, \"total_results\": 1637, \"total_articles\": 2973, \"proportion\": 0.5506222670702994, \"newspaper\": \"Tribune\"}, {\"year\": 1980, \"total_results\": 1622, \"total_articles\": 3172, \"proportion\": 0.5113493064312736, \"newspaper\": \"Tribune\"}, {\"year\": 1981, \"total_results\": 1411, \"total_articles\": 2758, \"proportion\": 0.5116026105873822, \"newspaper\": \"Tribune\"}, {\"year\": 1982, \"total_results\": 1236, \"total_articles\": 2381, \"proportion\": 0.5191096178076439, \"newspaper\": \"Tribune\"}, {\"year\": 1983, \"total_results\": 1243, \"total_articles\": 2568, \"proportion\": 0.4840342679127726, \"newspaper\": \"Tribune\"}, {\"year\": 1984, \"total_results\": 1143, \"total_articles\": 2314, \"proportion\": 0.4939498703543647, \"newspaper\": \"Tribune\"}, {\"year\": 1985, \"total_results\": 1352, \"total_articles\": 2764, \"proportion\": 0.48914616497829233, \"newspaper\": \"Tribune\"}, {\"year\": 1986, \"total_results\": 1372, \"total_articles\": 2589, \"proportion\": 0.529934337582078, \"newspaper\": \"Tribune\"}, {\"year\": 1987, \"total_results\": 1142, \"total_articles\": 2402, \"proportion\": 0.47543713572023316, \"newspaper\": \"Tribune\"}, {\"year\": 1988, \"total_results\": 823, \"total_articles\": 1924, \"proportion\": 0.42775467775467774, \"newspaper\": \"Tribune\"}, {\"year\": 1989, \"total_results\": 834, \"total_articles\": 1847, \"proportion\": 0.4515430427720628, \"newspaper\": \"Tribune\"}, {\"year\": 1990, \"total_results\": 803, \"total_articles\": 1888, \"proportion\": 0.4253177966101695, \"newspaper\": \"Tribune\"}, {\"year\": 1991, \"total_results\": 186, \"total_articles\": 406, \"proportion\": 0.458128078817734, \"newspaper\": \"Tribune\"}]}}, {\"mode\": \"vega-lite\"});\n",
       "</script>"
      ],
      "text/plain": [
       "alt.VConcatChart(...)"
      ]
     },
     "execution_count": 32,
     "metadata": {},
     "output_type": "execute_result"
    }
   ],
   "source": [
    "# Chart totals\n",
    "chart7 = make_chart_totals(df_newspapers, \"newspaper\", \"Newspaper\")\n",
    "\n",
    "# Chart proportions\n",
    "chart8 = make_chart_proportions(df_newspapers, \"newspaper\", \"Newspaper\")\n",
    "\n",
    "# Shorthand way of concatenating the two charts (note there's only one legend)\n",
    "chart7 & chart8"
   ]
  },
  {
   "cell_type": "markdown",
   "metadata": {},
   "source": [
    "## 8. Chart changes in illustration types over time\n",
    "\n",
    "Let's try something a bit different and explore the *format* of articles rather than their text content. Trove includes a couple of facets that enable you to filter your search by type of illustration. First of all you have to set the `illustrated` facet to `true`, then you can specify a type of illustration using the `illtype` facet. Possible values include:\n",
    "\n",
    "* Photo\n",
    "* Cartoon\n",
    "* Illustration\n",
    "* Map\n",
    "* Graph\n",
    "\n",
    "First we'll create a list with all the illustration types we're interesed in."
   ]
  },
  {
   "cell_type": "code",
   "execution_count": 33,
   "metadata": {},
   "outputs": [],
   "source": [
    "ill_types = [\"Photo\", \"Cartoon\", \"Illustration\", \"Map\", \"Graph\"]"
   ]
  },
  {
   "cell_type": "markdown",
   "metadata": {},
   "source": [
    "Then we'll define a function to loop through the illustration types getting the year by year results of each."
   ]
  },
  {
   "cell_type": "code",
   "execution_count": 34,
   "metadata": {},
   "outputs": [],
   "source": [
    "def get_ill_facets(params, ill_types):\n",
    "    \"\"\"\n",
    "    Loop through the supplied list of illustration types getting the year by year results.\n",
    "    Parameters:\n",
    "        params - basic parameters to send to the API\n",
    "        ill_types - a list of illustration types to use with the ill_type facet\n",
    "    Returns:\n",
    "        A dataframe\n",
    "    \"\"\"\n",
    "    dfs = []\n",
    "    ill_params = params.copy()\n",
    "\n",
    "    # No query! Set q to a single space for everything\n",
    "    ill_params[\"q\"] = \" \"\n",
    "\n",
    "    # Set the illustrated facet to true - necessary before setting ill_type\n",
    "    ill_params[\"l-illustrated\"] = \"true\"\n",
    "\n",
    "    # Loop through the illustration types\n",
    "    for ill_type in ill_types:\n",
    "\n",
    "        # Set the ill_type facet to the current illustration type\n",
    "        ill_params[\"l-illtype\"] = ill_type\n",
    "\n",
    "        # Get the year by year data\n",
    "        facet_data = get_facet_data(ill_params)\n",
    "\n",
    "        # Convert to a dataframe\n",
    "        df = pd.DataFrame(facet_data)\n",
    "\n",
    "        # Create an ill_type column and set its value to the illustration type\n",
    "        df[\"ill_type\"] = ill_type\n",
    "\n",
    "        # Add current df to the list of dfs\n",
    "        dfs.append(df)\n",
    "\n",
    "    # Concatenate all the dfs and return the result\n",
    "    return pd.concat(dfs)"
   ]
  },
  {
   "cell_type": "markdown",
   "metadata": {},
   "source": [
    "Get the data!"
   ]
  },
  {
   "cell_type": "code",
   "execution_count": 35,
   "metadata": {},
   "outputs": [],
   "source": [
    "df_illtypes = get_ill_facets(params, ill_types)"
   ]
  },
  {
   "cell_type": "markdown",
   "metadata": {},
   "source": [
    "To calculate proportions for these searches we'll just use the total number of articles across all of Trove we collected above. "
   ]
  },
  {
   "cell_type": "code",
   "execution_count": 36,
   "metadata": {},
   "outputs": [],
   "source": [
    "# Merge results with total articles and calculate proportions\n",
    "df_illtypes_merged = merge_df_with_total(df_illtypes, df_total)"
   ]
  },
  {
   "cell_type": "code",
   "execution_count": 37,
   "metadata": {},
   "outputs": [
    {
     "data": {
      "text/html": [
       "\n",
       "<div id=\"altair-viz-a821e12fe7324afcb784b64bcf5b52ac\"></div>\n",
       "<script type=\"text/javascript\">\n",
       "  var VEGA_DEBUG = (typeof VEGA_DEBUG == \"undefined\") ? {} : VEGA_DEBUG;\n",
       "  (function(spec, embedOpt){\n",
       "    let outputDiv = document.currentScript.previousElementSibling;\n",
       "    if (outputDiv.id !== \"altair-viz-a821e12fe7324afcb784b64bcf5b52ac\") {\n",
       "      outputDiv = document.getElementById(\"altair-viz-a821e12fe7324afcb784b64bcf5b52ac\");\n",
       "    }\n",
       "    const paths = {\n",
       "      \"vega\": \"https://cdn.jsdelivr.net/npm//vega@5?noext\",\n",
       "      \"vega-lib\": \"https://cdn.jsdelivr.net/npm//vega-lib?noext\",\n",
       "      \"vega-lite\": \"https://cdn.jsdelivr.net/npm//vega-lite@4.17.0?noext\",\n",
       "      \"vega-embed\": \"https://cdn.jsdelivr.net/npm//vega-embed@6?noext\",\n",
       "    };\n",
       "\n",
       "    function maybeLoadScript(lib, version) {\n",
       "      var key = `${lib.replace(\"-\", \"\")}_version`;\n",
       "      return (VEGA_DEBUG[key] == version) ?\n",
       "        Promise.resolve(paths[lib]) :\n",
       "        new Promise(function(resolve, reject) {\n",
       "          var s = document.createElement('script');\n",
       "          document.getElementsByTagName(\"head\")[0].appendChild(s);\n",
       "          s.async = true;\n",
       "          s.onload = () => {\n",
       "            VEGA_DEBUG[key] = version;\n",
       "            return resolve(paths[lib]);\n",
       "          };\n",
       "          s.onerror = () => reject(`Error loading script: ${paths[lib]}`);\n",
       "          s.src = paths[lib];\n",
       "        });\n",
       "    }\n",
       "\n",
       "    function showError(err) {\n",
       "      outputDiv.innerHTML = `<div class=\"error\" style=\"color:red;\">${err}</div>`;\n",
       "      throw err;\n",
       "    }\n",
       "\n",
       "    function displayChart(vegaEmbed) {\n",
       "      vegaEmbed(outputDiv, spec, embedOpt)\n",
       "        .catch(err => showError(`Javascript Error: ${err.message}<br>This usually means there's a typo in your chart specification. See the javascript console for the full traceback.`));\n",
       "    }\n",
       "\n",
       "    if(typeof define === \"function\" && define.amd) {\n",
       "      requirejs.config({paths});\n",
       "      require([\"vega-embed\"], displayChart, err => showError(`Error loading script: ${err.message}`));\n",
       "    } else {\n",
       "      maybeLoadScript(\"vega\", \"5\")\n",
       "        .then(() => maybeLoadScript(\"vega-lite\", \"4.17.0\"))\n",
       "        .then(() => maybeLoadScript(\"vega-embed\", \"6\"))\n",
       "        .catch(showError)\n",
       "        .then(() => displayChart(vegaEmbed));\n",
       "    }\n",
       "  })({\"config\": {\"view\": {\"continuousWidth\": 400, \"continuousHeight\": 300}}, \"vconcat\": [{\"mark\": {\"type\": \"line\", \"point\": true}, \"encoding\": {\"color\": {\"field\": \"ill_type\", \"legend\": {\"title\": \"Type\"}, \"type\": \"nominal\"}, \"tooltip\": [{\"field\": \"ill_type\", \"title\": \"Type\", \"type\": \"nominal\"}, {\"field\": \"year\", \"title\": \"Year\", \"type\": \"quantitative\"}, {\"field\": \"total_results\", \"format\": \",\", \"title\": \"Articles\", \"type\": \"quantitative\"}], \"x\": {\"axis\": {\"format\": \"c\", \"title\": \"Year\"}, \"field\": \"year\", \"type\": \"quantitative\"}, \"y\": {\"axis\": {\"format\": \",d\", \"title\": \"Number of articles\"}, \"field\": \"total_results\", \"type\": \"quantitative\"}}, \"height\": 250, \"width\": 700}, {\"mark\": {\"type\": \"line\", \"point\": true}, \"encoding\": {\"color\": {\"field\": \"ill_type\", \"legend\": {\"title\": \"Type\"}, \"type\": \"nominal\"}, \"tooltip\": [{\"field\": \"ill_type\", \"title\": \"Type\", \"type\": \"nominal\"}, {\"field\": \"year\", \"title\": \"Year\", \"type\": \"quantitative\"}, {\"field\": \"proportion\", \"format\": \"%\", \"title\": \"Proportion\", \"type\": \"quantitative\"}], \"x\": {\"axis\": {\"format\": \"c\", \"title\": \"Year\"}, \"field\": \"year\", \"type\": \"quantitative\"}, \"y\": {\"axis\": {\"format\": \"%\", \"title\": \"Proportion of articles\"}, \"field\": \"proportion\", \"stack\": null, \"type\": \"quantitative\"}}, \"height\": 250, \"width\": 700}], \"data\": {\"name\": \"data-c3a6b4e434e5fa015cf2a0e32856df4b\"}, \"$schema\": \"https://vega.github.io/schema/vega-lite/v4.17.0.json\", \"datasets\": {\"data-c3a6b4e434e5fa015cf2a0e32856df4b\": [{\"year\": 1828, \"total_results\": 1, \"ill_type\": \"Photo\", \"total_articles\": 7335, \"proportion\": 0.000136332651670075}, {\"year\": 1833, \"total_results\": 1, \"ill_type\": \"Photo\", \"total_articles\": 15622, \"proportion\": 6.401229035974907e-05}, {\"year\": 1834, \"total_results\": 4, \"ill_type\": \"Photo\", \"total_articles\": 18704, \"proportion\": 0.000213857998289136}, {\"year\": 1835, \"total_results\": 1, \"ill_type\": \"Photo\", \"total_articles\": 20389, \"proportion\": 4.9046054244935994e-05}, {\"year\": 1842, \"total_results\": 3, \"ill_type\": \"Photo\", \"total_articles\": 47934, \"proportion\": 6.258605582676179e-05}, {\"year\": 1843, \"total_results\": 1, \"ill_type\": \"Photo\", \"total_articles\": 49913, \"proportion\": 2.0034860657544126e-05}, {\"year\": 1844, \"total_results\": 1, \"ill_type\": \"Photo\", \"total_articles\": 54331, \"proportion\": 1.840569840422595e-05}, {\"year\": 1845, \"total_results\": 1, \"ill_type\": \"Photo\", \"total_articles\": 63389, \"proportion\": 1.5775607755288774e-05}, {\"year\": 1847, \"total_results\": 14, \"ill_type\": \"Photo\", \"total_articles\": 62767, \"proportion\": 0.0002230471426067838}, {\"year\": 1848, \"total_results\": 5, \"ill_type\": \"Photo\", \"total_articles\": 63463, \"proportion\": 7.878606432094291e-05}, {\"year\": 1849, \"total_results\": 10, \"ill_type\": \"Photo\", \"total_articles\": 62794, \"proportion\": 0.00015925088384240532}, {\"year\": 1850, \"total_results\": 3, \"ill_type\": \"Photo\", \"total_articles\": 81624, \"proportion\": 3.675389591296677e-05}, {\"year\": 1851, \"total_results\": 4, \"ill_type\": \"Photo\", \"total_articles\": 96566, \"proportion\": 4.142244682393389e-05}, {\"year\": 1853, \"total_results\": 1, \"ill_type\": \"Photo\", \"total_articles\": 96033, \"proportion\": 1.0413087167952683e-05}, {\"year\": 1854, \"total_results\": 1, \"ill_type\": \"Photo\", \"total_articles\": 118883, \"proportion\": 8.411631604182263e-06}, {\"year\": 1856, \"total_results\": 8, \"ill_type\": \"Photo\", \"total_articles\": 168695, \"proportion\": 4.742286374818459e-05}, {\"year\": 1857, \"total_results\": 6, \"ill_type\": \"Photo\", \"total_articles\": 175343, \"proportion\": 3.421864574006376e-05}, {\"year\": 1858, \"total_results\": 4, \"ill_type\": \"Photo\", \"total_articles\": 178765, \"proportion\": 2.2375744692753055e-05}, {\"year\": 1859, \"total_results\": 14, \"ill_type\": \"Photo\", \"total_articles\": 202996, \"proportion\": 6.896687619460482e-05}, {\"year\": 1860, \"total_results\": 7, \"ill_type\": \"Photo\", \"total_articles\": 214554, \"proportion\": 3.262581914110201e-05}, {\"year\": 1861, \"total_results\": 5, \"ill_type\": \"Photo\", \"total_articles\": 237976, \"proportion\": 2.101052206945238e-05}, {\"year\": 1862, \"total_results\": 27, \"ill_type\": \"Photo\", \"total_articles\": 244694, \"proportion\": 0.00011034189640939296}, {\"year\": 1863, \"total_results\": 14, \"ill_type\": \"Photo\", \"total_articles\": 251706, \"proportion\": 5.562044607597753e-05}, {\"year\": 1864, \"total_results\": 10, \"ill_type\": \"Photo\", \"total_articles\": 264282, \"proportion\": 3.78383696203298e-05}, {\"year\": 1865, \"total_results\": 3, \"ill_type\": \"Photo\", \"total_articles\": 283302, \"proportion\": 1.0589406357879578e-05}, {\"year\": 1866, \"total_results\": 8, \"ill_type\": \"Photo\", \"total_articles\": 289342, \"proportion\": 2.7648941391156486e-05}, {\"year\": 1867, \"total_results\": 7, \"ill_type\": \"Photo\", \"total_articles\": 297136, \"proportion\": 2.355823595929137e-05}, {\"year\": 1868, \"total_results\": 7, \"ill_type\": \"Photo\", \"total_articles\": 304914, \"proportion\": 2.295729287602406e-05}, {\"year\": 1869, \"total_results\": 35, \"ill_type\": \"Photo\", \"total_articles\": 327192, \"proportion\": 0.00010697083058265483}, {\"year\": 1870, \"total_results\": 59, \"ill_type\": \"Photo\", \"total_articles\": 373286, \"proportion\": 0.0001580557534973184}, {\"year\": 1871, \"total_results\": 37, \"ill_type\": \"Photo\", \"total_articles\": 359781, \"proportion\": 0.00010284033898399304}, {\"year\": 1872, \"total_results\": 37, \"ill_type\": \"Photo\", \"total_articles\": 383784, \"proportion\": 9.640839638963584e-05}, {\"year\": 1873, \"total_results\": 69, \"ill_type\": \"Photo\", \"total_articles\": 420951, \"proportion\": 0.00016391456487809745}, {\"year\": 1874, \"total_results\": 59, \"ill_type\": \"Photo\", \"total_articles\": 436788, \"proportion\": 0.0001350769709790562}, {\"year\": 1875, \"total_results\": 107, \"ill_type\": \"Photo\", \"total_articles\": 466891, \"proportion\": 0.0002291755463266587}, {\"year\": 1876, \"total_results\": 61, \"ill_type\": \"Photo\", \"total_articles\": 477911, \"proportion\": 0.0001276388281500112}, {\"year\": 1877, \"total_results\": 104, \"ill_type\": \"Photo\", \"total_articles\": 499944, \"proportion\": 0.00020802329860944427}, {\"year\": 1878, \"total_results\": 94, \"ill_type\": \"Photo\", \"total_articles\": 569203, \"proportion\": 0.00016514319144487994}, {\"year\": 1879, \"total_results\": 156, \"ill_type\": \"Photo\", \"total_articles\": 607530, \"proportion\": 0.00025677744308923015}, {\"year\": 1880, \"total_results\": 120, \"ill_type\": \"Photo\", \"total_articles\": 624376, \"proportion\": 0.00019219188437736236}, {\"year\": 1881, \"total_results\": 222, \"ill_type\": \"Photo\", \"total_articles\": 667930, \"proportion\": 0.0003323701585495486}, {\"year\": 1882, \"total_results\": 174, \"ill_type\": \"Photo\", \"total_articles\": 745914, \"proportion\": 0.0002332708596433369}, {\"year\": 1883, \"total_results\": 146, \"ill_type\": \"Photo\", \"total_articles\": 778865, \"proportion\": 0.00018745225424174922}, {\"year\": 1884, \"total_results\": 295, \"ill_type\": \"Photo\", \"total_articles\": 858553, \"proportion\": 0.0003436013851212447}, {\"year\": 1885, \"total_results\": 350, \"ill_type\": \"Photo\", \"total_articles\": 911515, \"proportion\": 0.0003839761276556063}, {\"year\": 1886, \"total_results\": 226, \"ill_type\": \"Photo\", \"total_articles\": 994828, \"proportion\": 0.00022717494883537658}, {\"year\": 1887, \"total_results\": 550, \"ill_type\": \"Photo\", \"total_articles\": 1043492, \"proportion\": 0.0005270763934941523}, {\"year\": 1888, \"total_results\": 622, \"ill_type\": \"Photo\", \"total_articles\": 1162025, \"proportion\": 0.0005352724769260558}, {\"year\": 1889, \"total_results\": 688, \"ill_type\": \"Photo\", \"total_articles\": 1252262, \"proportion\": 0.0005494057952728742}, {\"year\": 1890, \"total_results\": 1033, \"ill_type\": \"Photo\", \"total_articles\": 1357654, \"proportion\": 0.0007608713265677412}, {\"year\": 1891, \"total_results\": 1158, \"ill_type\": \"Photo\", \"total_articles\": 1429274, \"proportion\": 0.000810201542881211}, {\"year\": 1892, \"total_results\": 1209, \"ill_type\": \"Photo\", \"total_articles\": 1486705, \"proportion\": 0.0008132077311907876}, {\"year\": 1893, \"total_results\": 1579, \"ill_type\": \"Photo\", \"total_articles\": 1510849, \"proportion\": 0.0010451077506752825}, {\"year\": 1894, \"total_results\": 1928, \"ill_type\": \"Photo\", \"total_articles\": 1560809, \"proportion\": 0.0012352568443672481}, {\"year\": 1895, \"total_results\": 2856, \"ill_type\": \"Photo\", \"total_articles\": 1678554, \"proportion\": 0.0017014644747800785}, {\"year\": 1896, \"total_results\": 3966, \"ill_type\": \"Photo\", \"total_articles\": 1798582, \"proportion\": 0.002205070438823473}, {\"year\": 1897, \"total_results\": 5512, \"ill_type\": \"Photo\", \"total_articles\": 1918088, \"proportion\": 0.0028736950546585974}, {\"year\": 1898, \"total_results\": 7304, \"ill_type\": \"Photo\", \"total_articles\": 2141840, \"proportion\": 0.0034101520188249356}, {\"year\": 1899, \"total_results\": 8122, \"ill_type\": \"Photo\", \"total_articles\": 2308829, \"proportion\": 0.0035178005820266462}, {\"year\": 1900, \"total_results\": 10077, \"ill_type\": \"Photo\", \"total_articles\": 2539736, \"proportion\": 0.003967735229173426}, {\"year\": 1901, \"total_results\": 11544, \"ill_type\": \"Photo\", \"total_articles\": 2618191, \"proportion\": 0.004409151204018347}, {\"year\": 1902, \"total_results\": 11213, \"ill_type\": \"Photo\", \"total_articles\": 2674429, \"proportion\": 0.004192670659793175}, {\"year\": 1903, \"total_results\": 12112, \"ill_type\": \"Photo\", \"total_articles\": 2713889, \"proportion\": 0.00446296808749363}, {\"year\": 1904, \"total_results\": 13852, \"ill_type\": \"Photo\", \"total_articles\": 2878677, \"proportion\": 0.004811932703808034}, {\"year\": 1905, \"total_results\": 15933, \"ill_type\": \"Photo\", \"total_articles\": 3009076, \"proportion\": 0.005294980917730227}, {\"year\": 1906, \"total_results\": 16159, \"ill_type\": \"Photo\", \"total_articles\": 3057500, \"proportion\": 0.0052850367947669665}, {\"year\": 1907, \"total_results\": 18672, \"ill_type\": \"Photo\", \"total_articles\": 3205575, \"proportion\": 0.005824852015629022}, {\"year\": 1908, \"total_results\": 21443, \"ill_type\": \"Photo\", \"total_articles\": 3314151, \"proportion\": 0.006470133678278389}, {\"year\": 1909, \"total_results\": 22408, \"ill_type\": \"Photo\", \"total_articles\": 3379982, \"proportion\": 0.006629621104491089}, {\"year\": 1910, \"total_results\": 24981, \"ill_type\": \"Photo\", \"total_articles\": 3613826, \"proportion\": 0.0069126183717755085}, {\"year\": 1911, \"total_results\": 25761, \"ill_type\": \"Photo\", \"total_articles\": 3740413, \"proportion\": 0.00688720737522835}, {\"year\": 1912, \"total_results\": 28147, \"ill_type\": \"Photo\", \"total_articles\": 3890753, \"proportion\": 0.007234332274498021}, {\"year\": 1913, \"total_results\": 32686, \"ill_type\": \"Photo\", \"total_articles\": 3957073, \"proportion\": 0.008260145819902741}, {\"year\": 1914, \"total_results\": 36471, \"ill_type\": \"Photo\", \"total_articles\": 4654167, \"proportion\": 0.007836203556941554}, {\"year\": 1915, \"total_results\": 37866, \"ill_type\": \"Photo\", \"total_articles\": 4751447, \"proportion\": 0.007969361754429756}, {\"year\": 1916, \"total_results\": 34312, \"ill_type\": \"Photo\", \"total_articles\": 4346277, \"proportion\": 0.007894572757327708}, {\"year\": 1917, \"total_results\": 31352, \"ill_type\": \"Photo\", \"total_articles\": 4239223, \"proportion\": 0.0073956949186207}, {\"year\": 1918, \"total_results\": 25870, \"ill_type\": \"Photo\", \"total_articles\": 4016436, \"proportion\": 0.006441033792148064}, {\"year\": 1919, \"total_results\": 24454, \"ill_type\": \"Photo\", \"total_articles\": 3486517, \"proportion\": 0.007013876599483095}, {\"year\": 1920, \"total_results\": 22762, \"ill_type\": \"Photo\", \"total_articles\": 3237978, \"proportion\": 0.007029695692805819}, {\"year\": 1921, \"total_results\": 28510, \"ill_type\": \"Photo\", \"total_articles\": 3435873, \"proportion\": 0.008297745580235358}, {\"year\": 1922, \"total_results\": 42547, \"ill_type\": \"Photo\", \"total_articles\": 3562135, \"proportion\": 0.01194424130472315}, {\"year\": 1923, \"total_results\": 63907, \"ill_type\": \"Photo\", \"total_articles\": 3828641, \"proportion\": 0.01669182354783329}, {\"year\": 1924, \"total_results\": 83076, \"ill_type\": \"Photo\", \"total_articles\": 4125328, \"proportion\": 0.020138035084725385}, {\"year\": 1925, \"total_results\": 87980, \"ill_type\": \"Photo\", \"total_articles\": 4086958, \"proportion\": 0.021527013490229164}, {\"year\": 1926, \"total_results\": 98268, \"ill_type\": \"Photo\", \"total_articles\": 4069533, \"proportion\": 0.02414724244772066}, {\"year\": 1927, \"total_results\": 119070, \"ill_type\": \"Photo\", \"total_articles\": 4126770, \"proportion\": 0.028853073953721674}, {\"year\": 1928, \"total_results\": 142003, \"ill_type\": \"Photo\", \"total_articles\": 4234586, \"proportion\": 0.03353409282513096}, {\"year\": 1929, \"total_results\": 166998, \"ill_type\": \"Photo\", \"total_articles\": 4460722, \"proportion\": 0.03743743725791475}, {\"year\": 1930, \"total_results\": 184272, \"ill_type\": \"Photo\", \"total_articles\": 4315190, \"proportion\": 0.04270310229677025}, {\"year\": 1931, \"total_results\": 158137, \"ill_type\": \"Photo\", \"total_articles\": 3941724, \"proportion\": 0.04011873992192249}, {\"year\": 1932, \"total_results\": 177800, \"ill_type\": \"Photo\", \"total_articles\": 3890710, \"proportion\": 0.045698599998457864}, {\"year\": 1933, \"total_results\": 197784, \"ill_type\": \"Photo\", \"total_articles\": 4069854, \"proportion\": 0.04859732069012795}, {\"year\": 1934, \"total_results\": 219552, \"ill_type\": \"Photo\", \"total_articles\": 4183589, \"proportion\": 0.052479342497554135}, {\"year\": 1935, \"total_results\": 227984, \"ill_type\": \"Photo\", \"total_articles\": 4271382, \"proportion\": 0.05337476254757828}, {\"year\": 1936, \"total_results\": 241458, \"ill_type\": \"Photo\", \"total_articles\": 4377987, \"proportion\": 0.05515274485739679}, {\"year\": 1937, \"total_results\": 236500, \"ill_type\": \"Photo\", \"total_articles\": 4371925, \"proportion\": 0.05409516402957507}, {\"year\": 1938, \"total_results\": 225951, \"ill_type\": \"Photo\", \"total_articles\": 4359675, \"proportion\": 0.05182748714066989}, {\"year\": 1939, \"total_results\": 200731, \"ill_type\": \"Photo\", \"total_articles\": 4140014, \"proportion\": 0.04848558483135564}, {\"year\": 1940, \"total_results\": 154705, \"ill_type\": \"Photo\", \"total_articles\": 3497071, \"proportion\": 0.04423844983416122}, {\"year\": 1941, \"total_results\": 133026, \"ill_type\": \"Photo\", \"total_articles\": 3082401, \"proportion\": 0.04315661719549144}, {\"year\": 1942, \"total_results\": 93451, \"ill_type\": \"Photo\", \"total_articles\": 2470102, \"proportion\": 0.03783285062722106}, {\"year\": 1943, \"total_results\": 80838, \"ill_type\": \"Photo\", \"total_articles\": 2191842, \"proportion\": 0.03688130805048904}, {\"year\": 1944, \"total_results\": 89273, \"ill_type\": \"Photo\", \"total_articles\": 2233365, \"proportion\": 0.039972418301531545}, {\"year\": 1945, \"total_results\": 107764, \"ill_type\": \"Photo\", \"total_articles\": 2412554, \"proportion\": 0.04466801572109889}, {\"year\": 1946, \"total_results\": 134198, \"ill_type\": \"Photo\", \"total_articles\": 2748052, \"proportion\": 0.04883386486136361}, {\"year\": 1947, \"total_results\": 142275, \"ill_type\": \"Photo\", \"total_articles\": 2851317, \"proportion\": 0.04989799450569684}, {\"year\": 1948, \"total_results\": 118115, \"ill_type\": \"Photo\", \"total_articles\": 2610229, \"proportion\": 0.04525081898944499}, {\"year\": 1949, \"total_results\": 153976, \"ill_type\": \"Photo\", \"total_articles\": 2867051, \"proportion\": 0.05370535787469424}, {\"year\": 1950, \"total_results\": 155661, \"ill_type\": \"Photo\", \"total_articles\": 2812464, \"proportion\": 0.05534684177290802}, {\"year\": 1951, \"total_results\": 128139, \"ill_type\": \"Photo\", \"total_articles\": 2554766, \"proportion\": 0.05015684411018465}, {\"year\": 1952, \"total_results\": 132130, \"ill_type\": \"Photo\", \"total_articles\": 2608800, \"proportion\": 0.05064780742103649}, {\"year\": 1953, \"total_results\": 155135, \"ill_type\": \"Photo\", \"total_articles\": 2755677, \"proportion\": 0.05629651080297147}, {\"year\": 1954, \"total_results\": 171190, \"ill_type\": \"Photo\", \"total_articles\": 2787339, \"proportion\": 0.06141700022853338}, {\"year\": 1955, \"total_results\": 17720, \"ill_type\": \"Photo\", \"total_articles\": 279909, \"proportion\": 0.0633062888295839}, {\"year\": 1956, \"total_results\": 14259, \"ill_type\": \"Photo\", \"total_articles\": 199416, \"proportion\": 0.07150379106992417}, {\"year\": 1957, \"total_results\": 5929, \"ill_type\": \"Photo\", \"total_articles\": 126201, \"proportion\": 0.04698061029627341}, {\"year\": 1958, \"total_results\": 5888, \"ill_type\": \"Photo\", \"total_articles\": 126115, \"proportion\": 0.04668754708004599}, {\"year\": 1959, \"total_results\": 7034, \"ill_type\": \"Photo\", \"total_articles\": 121259, \"proportion\": 0.058008065380714006}, {\"year\": 1960, \"total_results\": 8745, \"ill_type\": \"Photo\", \"total_articles\": 115050, \"proportion\": 0.07601043024771838}, {\"year\": 1961, \"total_results\": 8952, \"ill_type\": \"Photo\", \"total_articles\": 109239, \"proportion\": 0.08194875456567709}, {\"year\": 1962, \"total_results\": 9863, \"ill_type\": \"Photo\", \"total_articles\": 108575, \"proportion\": 0.09084043288049735}, {\"year\": 1963, \"total_results\": 12806, \"ill_type\": \"Photo\", \"total_articles\": 118702, \"proportion\": 0.10788360768984516}, {\"year\": 1964, \"total_results\": 13630, \"ill_type\": \"Photo\", \"total_articles\": 120392, \"proportion\": 0.11321350255830952}, {\"year\": 1965, \"total_results\": 14660, \"ill_type\": \"Photo\", \"total_articles\": 126432, \"proportion\": 0.11595165780814984}, {\"year\": 1966, \"total_results\": 14531, \"ill_type\": \"Photo\", \"total_articles\": 123452, \"proportion\": 0.11770566697987882}, {\"year\": 1967, \"total_results\": 14150, \"ill_type\": \"Photo\", \"total_articles\": 118503, \"proportion\": 0.11940625975713695}, {\"year\": 1968, \"total_results\": 15176, \"ill_type\": \"Photo\", \"total_articles\": 124919, \"proportion\": 0.1214867233967611}, {\"year\": 1969, \"total_results\": 17812, \"ill_type\": \"Photo\", \"total_articles\": 151689, \"proportion\": 0.11742446716637331}, {\"year\": 1970, \"total_results\": 20012, \"ill_type\": \"Photo\", \"total_articles\": 166785, \"proportion\": 0.1199868093653506}, {\"year\": 1971, \"total_results\": 18790, \"ill_type\": \"Photo\", \"total_articles\": 165077, \"proportion\": 0.11382566923314574}, {\"year\": 1972, \"total_results\": 17170, \"ill_type\": \"Photo\", \"total_articles\": 164687, \"proportion\": 0.10425838105011324}, {\"year\": 1973, \"total_results\": 16591, \"ill_type\": \"Photo\", \"total_articles\": 161814, \"proportion\": 0.10253130137070958}, {\"year\": 1974, \"total_results\": 15283, \"ill_type\": \"Photo\", \"total_articles\": 159025, \"proportion\": 0.09610438610281402}, {\"year\": 1975, \"total_results\": 16008, \"ill_type\": \"Photo\", \"total_articles\": 148204, \"proportion\": 0.10801327899381934}, {\"year\": 1976, \"total_results\": 17916, \"ill_type\": \"Photo\", \"total_articles\": 148816, \"proportion\": 0.12039028061498763}, {\"year\": 1977, \"total_results\": 19252, \"ill_type\": \"Photo\", \"total_articles\": 151194, \"proportion\": 0.12733309522864664}, {\"year\": 1978, \"total_results\": 21800, \"ill_type\": \"Photo\", \"total_articles\": 159199, \"proportion\": 0.13693553351465776}, {\"year\": 1979, \"total_results\": 23575, \"ill_type\": \"Photo\", \"total_articles\": 167101, \"proportion\": 0.14108233942346246}, {\"year\": 1980, \"total_results\": 23141, \"ill_type\": \"Photo\", \"total_articles\": 165664, \"proportion\": 0.1396863531002511}, {\"year\": 1981, \"total_results\": 20718, \"ill_type\": \"Photo\", \"total_articles\": 142781, \"proportion\": 0.1451033400802628}, {\"year\": 1982, \"total_results\": 17886, \"ill_type\": \"Photo\", \"total_articles\": 130222, \"proportion\": 0.13735006373731012}, {\"year\": 1983, \"total_results\": 16408, \"ill_type\": \"Photo\", \"total_articles\": 117491, \"proportion\": 0.139653250036173}, {\"year\": 1984, \"total_results\": 17523, \"ill_type\": \"Photo\", \"total_articles\": 118615, \"proportion\": 0.14773005100535344}, {\"year\": 1985, \"total_results\": 19501, \"ill_type\": \"Photo\", \"total_articles\": 128586, \"proportion\": 0.15165725662202728}, {\"year\": 1986, \"total_results\": 19808, \"ill_type\": \"Photo\", \"total_articles\": 128312, \"proportion\": 0.15437371407194964}, {\"year\": 1987, \"total_results\": 19687, \"ill_type\": \"Photo\", \"total_articles\": 127591, \"proportion\": 0.15429771692360747}, {\"year\": 1988, \"total_results\": 21998, \"ill_type\": \"Photo\", \"total_articles\": 136944, \"proportion\": 0.16063500408926276}, {\"year\": 1989, \"total_results\": 23164, \"ill_type\": \"Photo\", \"total_articles\": 140206, \"proportion\": 0.16521404219505584}, {\"year\": 1990, \"total_results\": 21665, \"ill_type\": \"Photo\", \"total_articles\": 132596, \"proportion\": 0.16339105252043803}, {\"year\": 1991, \"total_results\": 21067, \"ill_type\": \"Photo\", \"total_articles\": 131729, \"proportion\": 0.1599268194550934}, {\"year\": 1992, \"total_results\": 23044, \"ill_type\": \"Photo\", \"total_articles\": 137422, \"proportion\": 0.16768785201787195}, {\"year\": 1993, \"total_results\": 23648, \"ill_type\": \"Photo\", \"total_articles\": 137978, \"proportion\": 0.17138964182695793}, {\"year\": 1994, \"total_results\": 24543, \"ill_type\": \"Photo\", \"total_articles\": 133420, \"proportion\": 0.18395293059511317}, {\"year\": 1995, \"total_results\": 25609, \"ill_type\": \"Photo\", \"total_articles\": 132425, \"proportion\": 0.19338493486879366}, {\"year\": 1996, \"total_results\": 10336, \"ill_type\": \"Photo\", \"total_articles\": 47101, \"proportion\": 0.21944332392093585}, {\"year\": 1997, \"total_results\": 10394, \"ill_type\": \"Photo\", \"total_articles\": 49822, \"proportion\": 0.20862269680061019}, {\"year\": 1998, \"total_results\": 12704, \"ill_type\": \"Photo\", \"total_articles\": 56947, \"proportion\": 0.22308462254376876}, {\"year\": 1999, \"total_results\": 15473, \"ill_type\": \"Photo\", \"total_articles\": 67005, \"proportion\": 0.23092306544287738}, {\"year\": 2000, \"total_results\": 10285, \"ill_type\": \"Photo\", \"total_articles\": 44770, \"proportion\": 0.22972972972972974}, {\"year\": 2001, \"total_results\": 9782, \"ill_type\": \"Photo\", \"total_articles\": 42081, \"proportion\": 0.23245645303105913}, {\"year\": 2002, \"total_results\": 10833, \"ill_type\": \"Photo\", \"total_articles\": 42631, \"proportion\": 0.2541108582956065}, {\"year\": 2003, \"total_results\": 7061, \"ill_type\": \"Photo\", \"total_articles\": 24075, \"proportion\": 0.29329179646936654}, {\"year\": 2004, \"total_results\": 6766, \"ill_type\": \"Photo\", \"total_articles\": 22072, \"proportion\": 0.30654222544400145}, {\"year\": 2005, \"total_results\": 6038, \"ill_type\": \"Photo\", \"total_articles\": 18071, \"proportion\": 0.3341265010237397}, {\"year\": 2006, \"total_results\": 6395, \"ill_type\": \"Photo\", \"total_articles\": 17708, \"proportion\": 0.3611362096227694}, {\"year\": 2007, \"total_results\": 6527, \"ill_type\": \"Photo\", \"total_articles\": 18719, \"proportion\": 0.3486831561515038}, {\"year\": 2008, \"total_results\": 6066, \"ill_type\": \"Photo\", \"total_articles\": 17059, \"proportion\": 0.3555894249369834}, {\"year\": 2009, \"total_results\": 1597, \"ill_type\": \"Photo\", \"total_articles\": 5762, \"proportion\": 0.2771607080874696}, {\"year\": 2010, \"total_results\": 1783, \"ill_type\": \"Photo\", \"total_articles\": 5794, \"proportion\": 0.3077321366931308}, {\"year\": 2011, \"total_results\": 1701, \"ill_type\": \"Photo\", \"total_articles\": 5386, \"proportion\": 0.3158187894541404}, {\"year\": 2012, \"total_results\": 1779, \"ill_type\": \"Photo\", \"total_articles\": 4832, \"proportion\": 0.36817052980132453}, {\"year\": 2013, \"total_results\": 1726, \"ill_type\": \"Photo\", \"total_articles\": 4904, \"proportion\": 0.35195758564437196}, {\"year\": 2014, \"total_results\": 1789, \"ill_type\": \"Photo\", \"total_articles\": 4718, \"proportion\": 0.3791860958033065}, {\"year\": 2015, \"total_results\": 1703, \"ill_type\": \"Photo\", \"total_articles\": 4819, \"proportion\": 0.353392820087155}, {\"year\": 2016, \"total_results\": 762, \"ill_type\": \"Photo\", \"total_articles\": 1422, \"proportion\": 0.5358649789029536}, {\"year\": 2017, \"total_results\": 534, \"ill_type\": \"Photo\", \"total_articles\": 1094, \"proportion\": 0.48811700182815354}, {\"year\": 2018, \"total_results\": 496, \"ill_type\": \"Photo\", \"total_articles\": 1100, \"proportion\": 0.4509090909090909}, {\"year\": 2019, \"total_results\": 649, \"ill_type\": \"Photo\", \"total_articles\": 1153, \"proportion\": 0.5628794449262793}, {\"year\": 1837, \"total_results\": 1, \"ill_type\": \"Cartoon\", \"total_articles\": 21805, \"proportion\": 4.586104104563174e-05}, {\"year\": 1840, \"total_results\": 1, \"ill_type\": \"Cartoon\", \"total_articles\": 42411, \"proportion\": 2.3578788521845746e-05}, {\"year\": 1857, \"total_results\": 1, \"ill_type\": \"Cartoon\", \"total_articles\": 175343, \"proportion\": 5.7031076233439605e-06}, {\"year\": 1858, \"total_results\": 1, \"ill_type\": \"Cartoon\", \"total_articles\": 178765, \"proportion\": 5.593936173188264e-06}, {\"year\": 1863, \"total_results\": 1, \"ill_type\": \"Cartoon\", \"total_articles\": 251706, \"proportion\": 3.972889005426967e-06}, {\"year\": 1864, \"total_results\": 2, \"ill_type\": \"Cartoon\", \"total_articles\": 264282, \"proportion\": 7.5676739240659596e-06}, {\"year\": 1865, \"total_results\": 1, \"ill_type\": \"Cartoon\", \"total_articles\": 283302, \"proportion\": 3.5298021192931922e-06}, {\"year\": 1867, \"total_results\": 1, \"ill_type\": \"Cartoon\", \"total_articles\": 297136, \"proportion\": 3.365462279898767e-06}, {\"year\": 1869, \"total_results\": 2, \"ill_type\": \"Cartoon\", \"total_articles\": 327192, \"proportion\": 6.112618890437419e-06}, {\"year\": 1870, \"total_results\": 2, \"ill_type\": \"Cartoon\", \"total_articles\": 373286, \"proportion\": 5.357822152451472e-06}, {\"year\": 1871, \"total_results\": 4, \"ill_type\": \"Cartoon\", \"total_articles\": 359781, \"proportion\": 1.1117874484756005e-05}, {\"year\": 1872, \"total_results\": 1, \"ill_type\": \"Cartoon\", \"total_articles\": 383784, \"proportion\": 2.6056323348550224e-06}, {\"year\": 1873, \"total_results\": 9, \"ill_type\": \"Cartoon\", \"total_articles\": 420951, \"proportion\": 2.1380160636273582e-05}, {\"year\": 1874, \"total_results\": 9, \"ill_type\": \"Cartoon\", \"total_articles\": 436788, \"proportion\": 2.0604961674771284e-05}, {\"year\": 1875, \"total_results\": 17, \"ill_type\": \"Cartoon\", \"total_articles\": 466891, \"proportion\": 3.641106810797381e-05}, {\"year\": 1876, \"total_results\": 13, \"ill_type\": \"Cartoon\", \"total_articles\": 477911, \"proportion\": 2.720171747459255e-05}, {\"year\": 1877, \"total_results\": 8, \"ill_type\": \"Cartoon\", \"total_articles\": 499944, \"proportion\": 1.600179220072648e-05}, {\"year\": 1878, \"total_results\": 2, \"ill_type\": \"Cartoon\", \"total_articles\": 569203, \"proportion\": 3.5136849243591478e-06}, {\"year\": 1879, \"total_results\": 5, \"ill_type\": \"Cartoon\", \"total_articles\": 607530, \"proportion\": 8.230046252859941e-06}, {\"year\": 1880, \"total_results\": 27, \"ill_type\": \"Cartoon\", \"total_articles\": 624376, \"proportion\": 4.324317398490653e-05}, {\"year\": 1881, \"total_results\": 2, \"ill_type\": \"Cartoon\", \"total_articles\": 667930, \"proportion\": 2.9943257526986363e-06}, {\"year\": 1882, \"total_results\": 24, \"ill_type\": \"Cartoon\", \"total_articles\": 745914, \"proportion\": 3.217529098528785e-05}, {\"year\": 1883, \"total_results\": 5, \"ill_type\": \"Cartoon\", \"total_articles\": 778865, \"proportion\": 6.41959774800511e-06}, {\"year\": 1884, \"total_results\": 69, \"ill_type\": \"Cartoon\", \"total_articles\": 858553, \"proportion\": 8.036778160463011e-05}, {\"year\": 1885, \"total_results\": 29, \"ill_type\": \"Cartoon\", \"total_articles\": 911515, \"proportion\": 3.18151648628931e-05}, {\"year\": 1886, \"total_results\": 31, \"ill_type\": \"Cartoon\", \"total_articles\": 994828, \"proportion\": 3.116116554821537e-05}, {\"year\": 1887, \"total_results\": 18, \"ill_type\": \"Cartoon\", \"total_articles\": 1043492, \"proportion\": 1.724977287799044e-05}, {\"year\": 1888, \"total_results\": 67, \"ill_type\": \"Cartoon\", \"total_articles\": 1162025, \"proportion\": 5.7657967771777714e-05}, {\"year\": 1889, \"total_results\": 73, \"ill_type\": \"Cartoon\", \"total_articles\": 1252262, \"proportion\": 5.829451025424392e-05}, {\"year\": 1890, \"total_results\": 237, \"ill_type\": \"Cartoon\", \"total_articles\": 1357654, \"proportion\": 0.00017456583194245368}, {\"year\": 1891, \"total_results\": 80, \"ill_type\": \"Cartoon\", \"total_articles\": 1429274, \"proportion\": 5.59724727379075e-05}, {\"year\": 1892, \"total_results\": 110, \"ill_type\": \"Cartoon\", \"total_articles\": 1486705, \"proportion\": 7.398912359883097e-05}, {\"year\": 1893, \"total_results\": 183, \"ill_type\": \"Cartoon\", \"total_articles\": 1510849, \"proportion\": 0.00012112395083823731}, {\"year\": 1894, \"total_results\": 163, \"ill_type\": \"Cartoon\", \"total_articles\": 1560809, \"proportion\": 0.00010443302159328912}, {\"year\": 1895, \"total_results\": 204, \"ill_type\": \"Cartoon\", \"total_articles\": 1678554, \"proportion\": 0.0001215331767700056}, {\"year\": 1896, \"total_results\": 202, \"ill_type\": \"Cartoon\", \"total_articles\": 1798582, \"proportion\": 0.00011231069809438769}, {\"year\": 1897, \"total_results\": 247, \"ill_type\": \"Cartoon\", \"total_articles\": 1918088, \"proportion\": 0.00012877407084555036}, {\"year\": 1898, \"total_results\": 387, \"ill_type\": \"Cartoon\", \"total_articles\": 2141840, \"proportion\": 0.00018068576551002875}, {\"year\": 1899, \"total_results\": 323, \"ill_type\": \"Cartoon\", \"total_articles\": 2308829, \"proportion\": 0.00013989775769448495}, {\"year\": 1900, \"total_results\": 440, \"ill_type\": \"Cartoon\", \"total_articles\": 2539736, \"proportion\": 0.0001732463531642659}, {\"year\": 1901, \"total_results\": 494, \"ill_type\": \"Cartoon\", \"total_articles\": 2618191, \"proportion\": 0.00018867989386564998}, {\"year\": 1902, \"total_results\": 514, \"ill_type\": \"Cartoon\", \"total_articles\": 2674429, \"proportion\": 0.00019219055731148593}, {\"year\": 1903, \"total_results\": 680, \"ill_type\": \"Cartoon\", \"total_articles\": 2713889, \"proportion\": 0.00025056293754092377}, {\"year\": 1904, \"total_results\": 585, \"ill_type\": \"Cartoon\", \"total_articles\": 2878677, \"proportion\": 0.00020321835343110742}, {\"year\": 1905, \"total_results\": 793, \"ill_type\": \"Cartoon\", \"total_articles\": 3009076, \"proportion\": 0.00026353604893994035}, {\"year\": 1906, \"total_results\": 979, \"ill_type\": \"Cartoon\", \"total_articles\": 3057500, \"proportion\": 0.00032019623875715453}, {\"year\": 1907, \"total_results\": 845, \"ill_type\": \"Cartoon\", \"total_articles\": 3205575, \"proportion\": 0.0002636032537064333}, {\"year\": 1908, \"total_results\": 778, \"ill_type\": \"Cartoon\", \"total_articles\": 3314151, \"proportion\": 0.00023475092112580265}, {\"year\": 1909, \"total_results\": 969, \"ill_type\": \"Cartoon\", \"total_articles\": 3379982, \"proportion\": 0.00028668791727293224}, {\"year\": 1910, \"total_results\": 714, \"ill_type\": \"Cartoon\", \"total_articles\": 3613826, \"proportion\": 0.0001975745373462917}, {\"year\": 1911, \"total_results\": 858, \"ill_type\": \"Cartoon\", \"total_articles\": 3740413, \"proportion\": 0.0002293864340649014}, {\"year\": 1912, \"total_results\": 1339, \"ill_type\": \"Cartoon\", \"total_articles\": 3890753, \"proportion\": 0.0003441493201958593}, {\"year\": 1913, \"total_results\": 1265, \"ill_type\": \"Cartoon\", \"total_articles\": 3957073, \"proportion\": 0.0003196807337140356}, {\"year\": 1914, \"total_results\": 1404, \"ill_type\": \"Cartoon\", \"total_articles\": 4654167, \"proportion\": 0.00030166515296937133}, {\"year\": 1915, \"total_results\": 1590, \"ill_type\": \"Cartoon\", \"total_articles\": 4751447, \"proportion\": 0.00033463490174677317}, {\"year\": 1916, \"total_results\": 1662, \"ill_type\": \"Cartoon\", \"total_articles\": 4346277, \"proportion\": 0.0003823962439577597}, {\"year\": 1917, \"total_results\": 1425, \"ill_type\": \"Cartoon\", \"total_articles\": 4239223, \"proportion\": 0.0003361465060932157}, {\"year\": 1918, \"total_results\": 1367, \"ill_type\": \"Cartoon\", \"total_articles\": 4016436, \"proportion\": 0.00034035149570415163}, {\"year\": 1919, \"total_results\": 846, \"ill_type\": \"Cartoon\", \"total_articles\": 3486517, \"proportion\": 0.00024264903914135512}, {\"year\": 1920, \"total_results\": 666, \"ill_type\": \"Cartoon\", \"total_articles\": 3237978, \"proportion\": 0.00020568391755595623}, {\"year\": 1921, \"total_results\": 1289, \"ill_type\": \"Cartoon\", \"total_articles\": 3435873, \"proportion\": 0.00037515938452905564}, {\"year\": 1922, \"total_results\": 2694, \"ill_type\": \"Cartoon\", \"total_articles\": 3562135, \"proportion\": 0.000756288012666561}, {\"year\": 1923, \"total_results\": 4034, \"ill_type\": \"Cartoon\", \"total_articles\": 3828641, \"proportion\": 0.0010536375700934092}, {\"year\": 1924, \"total_results\": 4567, \"ill_type\": \"Cartoon\", \"total_articles\": 4125328, \"proportion\": 0.0011070634868306228}, {\"year\": 1925, \"total_results\": 4954, \"ill_type\": \"Cartoon\", \"total_articles\": 4086958, \"proportion\": 0.001212148497733522}, {\"year\": 1926, \"total_results\": 3831, \"ill_type\": \"Cartoon\", \"total_articles\": 4069533, \"proportion\": 0.0009413856577646624}, {\"year\": 1927, \"total_results\": 4870, \"ill_type\": \"Cartoon\", \"total_articles\": 4126770, \"proportion\": 0.0011800996905570215}, {\"year\": 1928, \"total_results\": 5040, \"ill_type\": \"Cartoon\", \"total_articles\": 4234586, \"proportion\": 0.0011901989946596905}, {\"year\": 1929, \"total_results\": 6919, \"ill_type\": \"Cartoon\", \"total_articles\": 4460722, \"proportion\": 0.0015510941950652832}, {\"year\": 1930, \"total_results\": 8008, \"ill_type\": \"Cartoon\", \"total_articles\": 4315190, \"proportion\": 0.0018557699660965103}, {\"year\": 1931, \"total_results\": 8038, \"ill_type\": \"Cartoon\", \"total_articles\": 3941724, \"proportion\": 0.002039209239408949}, {\"year\": 1932, \"total_results\": 9933, \"ill_type\": \"Cartoon\", \"total_articles\": 3890710, \"proportion\": 0.002553004464480776}, {\"year\": 1933, \"total_results\": 12775, \"ill_type\": \"Cartoon\", \"total_articles\": 4069854, \"proportion\": 0.003138933239374189}, {\"year\": 1934, \"total_results\": 15811, \"ill_type\": \"Cartoon\", \"total_articles\": 4183589, \"proportion\": 0.003779290938952177}, {\"year\": 1935, \"total_results\": 14585, \"ill_type\": \"Cartoon\", \"total_articles\": 4271382, \"proportion\": 0.003414585724245689}, {\"year\": 1936, \"total_results\": 20891, \"ill_type\": \"Cartoon\", \"total_articles\": 4377987, \"proportion\": 0.004771827782951389}, {\"year\": 1937, \"total_results\": 24828, \"ill_type\": \"Cartoon\", \"total_articles\": 4371925, \"proportion\": 0.005678962928229556}, {\"year\": 1938, \"total_results\": 30128, \"ill_type\": \"Cartoon\", \"total_articles\": 4359675, \"proportion\": 0.006910606868631263}, {\"year\": 1939, \"total_results\": 30333, \"ill_type\": \"Cartoon\", \"total_articles\": 4140014, \"proportion\": 0.007326786817629119}, {\"year\": 1940, \"total_results\": 27406, \"ill_type\": \"Cartoon\", \"total_articles\": 3497071, \"proportion\": 0.007836844033192349}, {\"year\": 1941, \"total_results\": 22759, \"ill_type\": \"Cartoon\", \"total_articles\": 3082401, \"proportion\": 0.007383529917100338}, {\"year\": 1942, \"total_results\": 19049, \"ill_type\": \"Cartoon\", \"total_articles\": 2470102, \"proportion\": 0.007711827284865159}, {\"year\": 1943, \"total_results\": 16400, \"ill_type\": \"Cartoon\", \"total_articles\": 2191842, \"proportion\": 0.00748229115054826}, {\"year\": 1944, \"total_results\": 20371, \"ill_type\": \"Cartoon\", \"total_articles\": 2233365, \"proportion\": 0.009121213952936488}, {\"year\": 1945, \"total_results\": 29728, \"ill_type\": \"Cartoon\", \"total_articles\": 2412554, \"proportion\": 0.012322211233406589}, {\"year\": 1946, \"total_results\": 38744, \"ill_type\": \"Cartoon\", \"total_articles\": 2748052, \"proportion\": 0.014098714289249257}, {\"year\": 1947, \"total_results\": 41884, \"ill_type\": \"Cartoon\", \"total_articles\": 2851317, \"proportion\": 0.014689352323855959}, {\"year\": 1948, \"total_results\": 33309, \"ill_type\": \"Cartoon\", \"total_articles\": 2610229, \"proportion\": 0.012760949326668273}, {\"year\": 1949, \"total_results\": 36907, \"ill_type\": \"Cartoon\", \"total_articles\": 2867051, \"proportion\": 0.01287280902920806}, {\"year\": 1950, \"total_results\": 44363, \"ill_type\": \"Cartoon\", \"total_articles\": 2812464, \"proportion\": 0.0157737130146377}, {\"year\": 1951, \"total_results\": 37481, \"ill_type\": \"Cartoon\", \"total_articles\": 2554766, \"proportion\": 0.014671010965387829}, {\"year\": 1952, \"total_results\": 36155, \"ill_type\": \"Cartoon\", \"total_articles\": 2608800, \"proportion\": 0.01385886231217418}, {\"year\": 1953, \"total_results\": 41694, \"ill_type\": \"Cartoon\", \"total_articles\": 2755677, \"proportion\": 0.015130220268921213}, {\"year\": 1954, \"total_results\": 45840, \"ill_type\": \"Cartoon\", \"total_articles\": 2787339, \"proportion\": 0.016445792922927565}, {\"year\": 1955, \"total_results\": 6112, \"ill_type\": \"Cartoon\", \"total_articles\": 279909, \"proportion\": 0.02183566802067815}, {\"year\": 1956, \"total_results\": 5324, \"ill_type\": \"Cartoon\", \"total_articles\": 199416, \"proportion\": 0.02669795803746941}, {\"year\": 1957, \"total_results\": 1335, \"ill_type\": \"Cartoon\", \"total_articles\": 126201, \"proportion\": 0.010578363087455725}, {\"year\": 1958, \"total_results\": 1168, \"ill_type\": \"Cartoon\", \"total_articles\": 126115, \"proportion\": 0.00926138841533521}, {\"year\": 1959, \"total_results\": 1311, \"ill_type\": \"Cartoon\", \"total_articles\": 121259, \"proportion\": 0.010811568625833958}, {\"year\": 1960, \"total_results\": 1338, \"ill_type\": \"Cartoon\", \"total_articles\": 115050, \"proportion\": 0.011629726205997393}, {\"year\": 1961, \"total_results\": 1247, \"ill_type\": \"Cartoon\", \"total_articles\": 109239, \"proportion\": 0.011415337013337728}, {\"year\": 1962, \"total_results\": 1183, \"ill_type\": \"Cartoon\", \"total_articles\": 108575, \"proportion\": 0.01089569422058485}, {\"year\": 1963, \"total_results\": 1182, \"ill_type\": \"Cartoon\", \"total_articles\": 118702, \"proportion\": 0.009957709221411603}, {\"year\": 1964, \"total_results\": 2088, \"ill_type\": \"Cartoon\", \"total_articles\": 120392, \"proportion\": 0.01734334507276231}, {\"year\": 1965, \"total_results\": 2652, \"ill_type\": \"Cartoon\", \"total_articles\": 126432, \"proportion\": 0.02097570235383447}, {\"year\": 1966, \"total_results\": 2284, \"ill_type\": \"Cartoon\", \"total_articles\": 123452, \"proportion\": 0.018501117843372324}, {\"year\": 1967, \"total_results\": 2105, \"ill_type\": \"Cartoon\", \"total_articles\": 118503, \"proportion\": 0.017763263377298465}, {\"year\": 1968, \"total_results\": 2282, \"ill_type\": \"Cartoon\", \"total_articles\": 124919, \"proportion\": 0.01826783755873806}, {\"year\": 1969, \"total_results\": 2689, \"ill_type\": \"Cartoon\", \"total_articles\": 151689, \"proportion\": 0.017727059971388827}, {\"year\": 1970, \"total_results\": 2461, \"ill_type\": \"Cartoon\", \"total_articles\": 166785, \"proportion\": 0.014755523578259436}, {\"year\": 1971, \"total_results\": 2534, \"ill_type\": \"Cartoon\", \"total_articles\": 165077, \"proportion\": 0.015350412231867552}, {\"year\": 1972, \"total_results\": 2393, \"ill_type\": \"Cartoon\", \"total_articles\": 164687, \"proportion\": 0.014530594400286605}, {\"year\": 1973, \"total_results\": 2516, \"ill_type\": \"Cartoon\", \"total_articles\": 161814, \"proportion\": 0.015548716427503183}, {\"year\": 1974, \"total_results\": 2597, \"ill_type\": \"Cartoon\", \"total_articles\": 159025, \"proportion\": 0.016330765602892625}, {\"year\": 1975, \"total_results\": 2248, \"ill_type\": \"Cartoon\", \"total_articles\": 148204, \"proportion\": 0.01516828155785269}, {\"year\": 1976, \"total_results\": 2272, \"ill_type\": \"Cartoon\", \"total_articles\": 148816, \"proportion\": 0.015267175572519083}, {\"year\": 1977, \"total_results\": 2279, \"ill_type\": \"Cartoon\", \"total_articles\": 151194, \"proportion\": 0.015073349471539876}, {\"year\": 1978, \"total_results\": 2997, \"ill_type\": \"Cartoon\", \"total_articles\": 159199, \"proportion\": 0.01882549513501969}, {\"year\": 1979, \"total_results\": 3701, \"ill_type\": \"Cartoon\", \"total_articles\": 167101, \"proportion\": 0.022148281578207193}, {\"year\": 1980, \"total_results\": 3891, \"ill_type\": \"Cartoon\", \"total_articles\": 165664, \"proportion\": 0.02348729959435967}, {\"year\": 1981, \"total_results\": 3649, \"ill_type\": \"Cartoon\", \"total_articles\": 142781, \"proportion\": 0.025556621679355095}, {\"year\": 1982, \"total_results\": 3283, \"ill_type\": \"Cartoon\", \"total_articles\": 130222, \"proportion\": 0.025210793875074872}, {\"year\": 1983, \"total_results\": 3086, \"ill_type\": \"Cartoon\", \"total_articles\": 117491, \"proportion\": 0.026265841638934046}, {\"year\": 1984, \"total_results\": 3066, \"ill_type\": \"Cartoon\", \"total_articles\": 118615, \"proportion\": 0.025848332841546178}, {\"year\": 1985, \"total_results\": 3130, \"ill_type\": \"Cartoon\", \"total_articles\": 128586, \"proportion\": 0.024341685720062838}, {\"year\": 1986, \"total_results\": 2979, \"ill_type\": \"Cartoon\", \"total_articles\": 128312, \"proportion\": 0.023216846436810275}, {\"year\": 1987, \"total_results\": 2954, \"ill_type\": \"Cartoon\", \"total_articles\": 127591, \"proportion\": 0.023152103204771495}, {\"year\": 1988, \"total_results\": 3074, \"ill_type\": \"Cartoon\", \"total_articles\": 136944, \"proportion\": 0.02244713167426101}, {\"year\": 1989, \"total_results\": 3440, \"ill_type\": \"Cartoon\", \"total_articles\": 140206, \"proportion\": 0.02453532659087343}, {\"year\": 1990, \"total_results\": 3423, \"ill_type\": \"Cartoon\", \"total_articles\": 132596, \"proportion\": 0.025815258378834957}, {\"year\": 1991, \"total_results\": 2621, \"ill_type\": \"Cartoon\", \"total_articles\": 131729, \"proportion\": 0.019896909564332835}, {\"year\": 1992, \"total_results\": 2467, \"ill_type\": \"Cartoon\", \"total_articles\": 137422, \"proportion\": 0.01795200186287494}, {\"year\": 1993, \"total_results\": 2646, \"ill_type\": \"Cartoon\", \"total_articles\": 137978, \"proportion\": 0.019176970241632726}, {\"year\": 1994, \"total_results\": 3086, \"ill_type\": \"Cartoon\", \"total_articles\": 133420, \"proportion\": 0.023129965522410433}, {\"year\": 1995, \"total_results\": 2885, \"ill_type\": \"Cartoon\", \"total_articles\": 132425, \"proportion\": 0.021785916556541437}, {\"year\": 1996, \"total_results\": 665, \"ill_type\": \"Cartoon\", \"total_articles\": 47101, \"proportion\": 0.014118596208148447}, {\"year\": 1997, \"total_results\": 710, \"ill_type\": \"Cartoon\", \"total_articles\": 49822, \"proportion\": 0.014250732608084783}, {\"year\": 1998, \"total_results\": 593, \"ill_type\": \"Cartoon\", \"total_articles\": 56947, \"proportion\": 0.010413191212882153}, {\"year\": 1999, \"total_results\": 704, \"ill_type\": \"Cartoon\", \"total_articles\": 67005, \"proportion\": 0.010506678606074174}, {\"year\": 2000, \"total_results\": 341, \"ill_type\": \"Cartoon\", \"total_articles\": 44770, \"proportion\": 0.007616707616707617}, {\"year\": 2001, \"total_results\": 383, \"ill_type\": \"Cartoon\", \"total_articles\": 42081, \"proportion\": 0.009101494736341817}, {\"year\": 2002, \"total_results\": 300, \"ill_type\": \"Cartoon\", \"total_articles\": 42631, \"proportion\": 0.00703713260303535}, {\"year\": 2003, \"total_results\": 256, \"ill_type\": \"Cartoon\", \"total_articles\": 24075, \"proportion\": 0.010633437175493251}, {\"year\": 2004, \"total_results\": 226, \"ill_type\": \"Cartoon\", \"total_articles\": 22072, \"proportion\": 0.010239217107647698}, {\"year\": 2005, \"total_results\": 275, \"ill_type\": \"Cartoon\", \"total_articles\": 18071, \"proportion\": 0.015217752199656908}, {\"year\": 2006, \"total_results\": 207, \"ill_type\": \"Cartoon\", \"total_articles\": 17708, \"proportion\": 0.011689631804833973}, {\"year\": 2007, \"total_results\": 255, \"ill_type\": \"Cartoon\", \"total_articles\": 18719, \"proportion\": 0.013622522570650141}, {\"year\": 2008, \"total_results\": 247, \"ill_type\": \"Cartoon\", \"total_articles\": 17059, \"proportion\": 0.014479160560407996}, {\"year\": 2010, \"total_results\": 1, \"ill_type\": \"Cartoon\", \"total_articles\": 5794, \"proportion\": 0.00017259233690024162}, {\"year\": 2011, \"total_results\": 1, \"ill_type\": \"Cartoon\", \"total_articles\": 5386, \"proportion\": 0.0001856665428889714}, {\"year\": 2013, \"total_results\": 1, \"ill_type\": \"Cartoon\", \"total_articles\": 4904, \"proportion\": 0.0002039151712887439}, {\"year\": 1807, \"total_results\": 1, \"ill_type\": \"Illustration\", \"total_articles\": 134, \"proportion\": 0.007462686567164179}, {\"year\": 1810, \"total_results\": 1, \"ill_type\": \"Illustration\", \"total_articles\": 274, \"proportion\": 0.0036496350364963502}, {\"year\": 1821, \"total_results\": 43, \"ill_type\": \"Illustration\", \"total_articles\": 1005, \"proportion\": 0.042786069651741296}, {\"year\": 1822, \"total_results\": 45, \"ill_type\": \"Illustration\", \"total_articles\": 1033, \"proportion\": 0.04356243949661181}, {\"year\": 1823, \"total_results\": 37, \"ill_type\": \"Illustration\", \"total_articles\": 1156, \"proportion\": 0.03200692041522491}, {\"year\": 1825, \"total_results\": 30, \"ill_type\": \"Illustration\", \"total_articles\": 3366, \"proportion\": 0.008912655971479501}, {\"year\": 1827, \"total_results\": 3, \"ill_type\": \"Illustration\", \"total_articles\": 6618, \"proportion\": 0.00045330915684496827}, {\"year\": 1828, \"total_results\": 14, \"ill_type\": \"Illustration\", \"total_articles\": 7335, \"proportion\": 0.0019086571233810498}, {\"year\": 1829, \"total_results\": 18, \"ill_type\": \"Illustration\", \"total_articles\": 8935, \"proportion\": 0.0020145495243424735}, {\"year\": 1830, \"total_results\": 45, \"ill_type\": \"Illustration\", \"total_articles\": 8977, \"proportion\": 0.005012810515762504}, {\"year\": 1831, \"total_results\": 31, \"ill_type\": \"Illustration\", \"total_articles\": 10989, \"proportion\": 0.002821002821002821}, {\"year\": 1832, \"total_results\": 41, \"ill_type\": \"Illustration\", \"total_articles\": 14814, \"proportion\": 0.002767652220872148}, {\"year\": 1833, \"total_results\": 45, \"ill_type\": \"Illustration\", \"total_articles\": 15622, \"proportion\": 0.0028805530661887083}, {\"year\": 1834, \"total_results\": 129, \"ill_type\": \"Illustration\", \"total_articles\": 18704, \"proportion\": 0.006896920444824636}, {\"year\": 1835, \"total_results\": 29, \"ill_type\": \"Illustration\", \"total_articles\": 20389, \"proportion\": 0.0014223355731031438}, {\"year\": 1836, \"total_results\": 52, \"ill_type\": \"Illustration\", \"total_articles\": 20553, \"proportion\": 0.002530044275774826}, {\"year\": 1837, \"total_results\": 67, \"ill_type\": \"Illustration\", \"total_articles\": 21805, \"proportion\": 0.003072689750057326}, {\"year\": 1838, \"total_results\": 111, \"ill_type\": \"Illustration\", \"total_articles\": 25911, \"proportion\": 0.004283894870904249}, {\"year\": 1839, \"total_results\": 274, \"ill_type\": \"Illustration\", \"total_articles\": 32876, \"proportion\": 0.00833434724419029}, {\"year\": 1840, \"total_results\": 244, \"ill_type\": \"Illustration\", \"total_articles\": 42411, \"proportion\": 0.0057532243993303625}, {\"year\": 1841, \"total_results\": 262, \"ill_type\": \"Illustration\", \"total_articles\": 46377, \"proportion\": 0.005649352049507299}, {\"year\": 1842, \"total_results\": 173, \"ill_type\": \"Illustration\", \"total_articles\": 47934, \"proportion\": 0.0036091292193432636}, {\"year\": 1843, \"total_results\": 198, \"ill_type\": \"Illustration\", \"total_articles\": 49913, \"proportion\": 0.003966902410193737}, {\"year\": 1844, \"total_results\": 174, \"ill_type\": \"Illustration\", \"total_articles\": 54331, \"proportion\": 0.003202591522335315}, {\"year\": 1845, \"total_results\": 222, \"ill_type\": \"Illustration\", \"total_articles\": 63389, \"proportion\": 0.0035021849216741075}, {\"year\": 1846, \"total_results\": 180, \"ill_type\": \"Illustration\", \"total_articles\": 62153, \"proportion\": 0.0028960790307788844}, {\"year\": 1847, \"total_results\": 221, \"ill_type\": \"Illustration\", \"total_articles\": 62767, \"proportion\": 0.003520958465435659}, {\"year\": 1848, \"total_results\": 208, \"ill_type\": \"Illustration\", \"total_articles\": 63463, \"proportion\": 0.0032775002757512253}, {\"year\": 1849, \"total_results\": 158, \"ill_type\": \"Illustration\", \"total_articles\": 62794, \"proportion\": 0.0025161639647100042}, {\"year\": 1850, \"total_results\": 206, \"ill_type\": \"Illustration\", \"total_articles\": 81624, \"proportion\": 0.002523767519357052}, {\"year\": 1851, \"total_results\": 297, \"ill_type\": \"Illustration\", \"total_articles\": 96566, \"proportion\": 0.0030756166766770913}, {\"year\": 1852, \"total_results\": 199, \"ill_type\": \"Illustration\", \"total_articles\": 79960, \"proportion\": 0.002488744372186093}, {\"year\": 1853, \"total_results\": 436, \"ill_type\": \"Illustration\", \"total_articles\": 96033, \"proportion\": 0.00454010600522737}, {\"year\": 1854, \"total_results\": 472, \"ill_type\": \"Illustration\", \"total_articles\": 118883, \"proportion\": 0.003970290117174028}, {\"year\": 1855, \"total_results\": 571, \"ill_type\": \"Illustration\", \"total_articles\": 159947, \"proportion\": 0.003569932540153926}, {\"year\": 1856, \"total_results\": 467, \"ill_type\": \"Illustration\", \"total_articles\": 168695, \"proportion\": 0.002768309671300276}, {\"year\": 1857, \"total_results\": 756, \"ill_type\": \"Illustration\", \"total_articles\": 175343, \"proportion\": 0.004311549363248034}, {\"year\": 1858, \"total_results\": 739, \"ill_type\": \"Illustration\", \"total_articles\": 178765, \"proportion\": 0.004133918831986127}, {\"year\": 1859, \"total_results\": 757, \"ill_type\": \"Illustration\", \"total_articles\": 202996, \"proportion\": 0.003729137519951132}, {\"year\": 1860, \"total_results\": 702, \"ill_type\": \"Illustration\", \"total_articles\": 214554, \"proportion\": 0.003271903576721944}, {\"year\": 1861, \"total_results\": 554, \"ill_type\": \"Illustration\", \"total_articles\": 237976, \"proportion\": 0.0023279658452953237}, {\"year\": 1862, \"total_results\": 304, \"ill_type\": \"Illustration\", \"total_articles\": 244694, \"proportion\": 0.0012423680188316836}, {\"year\": 1863, \"total_results\": 307, \"ill_type\": \"Illustration\", \"total_articles\": 251706, \"proportion\": 0.0012196769246660788}, {\"year\": 1864, \"total_results\": 618, \"ill_type\": \"Illustration\", \"total_articles\": 264282, \"proportion\": 0.0023384112425363815}, {\"year\": 1865, \"total_results\": 798, \"ill_type\": \"Illustration\", \"total_articles\": 283302, \"proportion\": 0.0028167820911959678}, {\"year\": 1866, \"total_results\": 884, \"ill_type\": \"Illustration\", \"total_articles\": 289342, \"proportion\": 0.0030552080237227918}, {\"year\": 1867, \"total_results\": 1314, \"ill_type\": \"Illustration\", \"total_articles\": 297136, \"proportion\": 0.004422217435786979}, {\"year\": 1868, \"total_results\": 1051, \"ill_type\": \"Illustration\", \"total_articles\": 304914, \"proportion\": 0.0034468735446716125}, {\"year\": 1869, \"total_results\": 1423, \"ill_type\": \"Illustration\", \"total_articles\": 327192, \"proportion\": 0.004349128340546224}, {\"year\": 1870, \"total_results\": 1771, \"ill_type\": \"Illustration\", \"total_articles\": 373286, \"proportion\": 0.004744351515995778}, {\"year\": 1871, \"total_results\": 2245, \"ill_type\": \"Illustration\", \"total_articles\": 359781, \"proportion\": 0.006239907054569308}, {\"year\": 1872, \"total_results\": 2458, \"ill_type\": \"Illustration\", \"total_articles\": 383784, \"proportion\": 0.006404644279073645}, {\"year\": 1873, \"total_results\": 2589, \"ill_type\": \"Illustration\", \"total_articles\": 420951, \"proportion\": 0.0061503595430347}, {\"year\": 1874, \"total_results\": 2703, \"ill_type\": \"Illustration\", \"total_articles\": 436788, \"proportion\": 0.0061883568229896425}, {\"year\": 1875, \"total_results\": 2740, \"ill_type\": \"Illustration\", \"total_articles\": 466891, \"proportion\": 0.005868607447991073}, {\"year\": 1876, \"total_results\": 2878, \"ill_type\": \"Illustration\", \"total_articles\": 477911, \"proportion\": 0.0060220417609136425}, {\"year\": 1877, \"total_results\": 3344, \"ill_type\": \"Illustration\", \"total_articles\": 499944, \"proportion\": 0.006688749139903669}, {\"year\": 1878, \"total_results\": 3332, \"ill_type\": \"Illustration\", \"total_articles\": 569203, \"proportion\": 0.00585379908398234}, {\"year\": 1879, \"total_results\": 2531, \"ill_type\": \"Illustration\", \"total_articles\": 607530, \"proportion\": 0.004166049413197702}, {\"year\": 1880, \"total_results\": 3133, \"ill_type\": \"Illustration\", \"total_articles\": 624376, \"proportion\": 0.005017809781285636}, {\"year\": 1881, \"total_results\": 3538, \"ill_type\": \"Illustration\", \"total_articles\": 667930, \"proportion\": 0.005296962256523887}, {\"year\": 1882, \"total_results\": 3425, \"ill_type\": \"Illustration\", \"total_articles\": 745914, \"proportion\": 0.004591682151025453}, {\"year\": 1883, \"total_results\": 3955, \"ill_type\": \"Illustration\", \"total_articles\": 778865, \"proportion\": 0.005077901818672042}, {\"year\": 1884, \"total_results\": 3971, \"ill_type\": \"Illustration\", \"total_articles\": 858553, \"proportion\": 0.004625224068869365}, {\"year\": 1885, \"total_results\": 3937, \"ill_type\": \"Illustration\", \"total_articles\": 911515, \"proportion\": 0.004319182898800349}, {\"year\": 1886, \"total_results\": 4267, \"ill_type\": \"Illustration\", \"total_articles\": 994828, \"proportion\": 0.004289183657878548}, {\"year\": 1887, \"total_results\": 5817, \"ill_type\": \"Illustration\", \"total_articles\": 1043492, \"proportion\": 0.005574551601737244}, {\"year\": 1888, \"total_results\": 7409, \"ill_type\": \"Illustration\", \"total_articles\": 1162025, \"proportion\": 0.006375938555538823}, {\"year\": 1889, \"total_results\": 7565, \"ill_type\": \"Illustration\", \"total_articles\": 1252262, \"proportion\": 0.006041068083196648}, {\"year\": 1890, \"total_results\": 8025, \"ill_type\": \"Illustration\", \"total_articles\": 1357654, \"proportion\": 0.005910931651215995}, {\"year\": 1891, \"total_results\": 7773, \"ill_type\": \"Illustration\", \"total_articles\": 1429274, \"proportion\": 0.005438425382396937}, {\"year\": 1892, \"total_results\": 9035, \"ill_type\": \"Illustration\", \"total_articles\": 1486705, \"proportion\": 0.006077197561049435}, {\"year\": 1893, \"total_results\": 12206, \"ill_type\": \"Illustration\", \"total_articles\": 1510849, \"proportion\": 0.008078901332959151}, {\"year\": 1894, \"total_results\": 13442, \"ill_type\": \"Illustration\", \"total_articles\": 1560809, \"proportion\": 0.008612200467834308}, {\"year\": 1895, \"total_results\": 14662, \"ill_type\": \"Illustration\", \"total_articles\": 1678554, \"proportion\": 0.008734899204910893}, {\"year\": 1896, \"total_results\": 13582, \"ill_type\": \"Illustration\", \"total_articles\": 1798582, \"proportion\": 0.007551504462960265}, {\"year\": 1897, \"total_results\": 15737, \"ill_type\": \"Illustration\", \"total_articles\": 1918088, \"proportion\": 0.008204524505653546}, {\"year\": 1898, \"total_results\": 19119, \"ill_type\": \"Illustration\", \"total_articles\": 2141840, \"proportion\": 0.008926437082134987}, {\"year\": 1899, \"total_results\": 21260, \"ill_type\": \"Illustration\", \"total_articles\": 2308829, \"proportion\": 0.00920813104825}, {\"year\": 1900, \"total_results\": 21528, \"ill_type\": \"Illustration\", \"total_articles\": 2539736, \"proportion\": 0.008476471570273446}, {\"year\": 1901, \"total_results\": 23913, \"ill_type\": \"Illustration\", \"total_articles\": 2618191, \"proportion\": 0.009133405469654429}, {\"year\": 1902, \"total_results\": 22964, \"ill_type\": \"Illustration\", \"total_articles\": 2674429, \"proportion\": 0.00858650575506024}, {\"year\": 1903, \"total_results\": 23785, \"ill_type\": \"Illustration\", \"total_articles\": 2713889, \"proportion\": 0.008764175690310105}, {\"year\": 1904, \"total_results\": 24143, \"ill_type\": \"Illustration\", \"total_articles\": 2878677, \"proportion\": 0.00838683881519184}, {\"year\": 1905, \"total_results\": 29190, \"ill_type\": \"Illustration\", \"total_articles\": 3009076, \"proportion\": 0.009700652293262118}, {\"year\": 1906, \"total_results\": 29056, \"ill_type\": \"Illustration\", \"total_articles\": 3057500, \"proportion\": 0.009503188879803762}, {\"year\": 1907, \"total_results\": 31107, \"ill_type\": \"Illustration\", \"total_articles\": 3205575, \"proportion\": 0.009704031258042629}, {\"year\": 1908, \"total_results\": 30067, \"ill_type\": \"Illustration\", \"total_articles\": 3314151, \"proportion\": 0.009072308413225589}, {\"year\": 1909, \"total_results\": 28531, \"ill_type\": \"Illustration\", \"total_articles\": 3379982, \"proportion\": 0.008441169213327172}, {\"year\": 1910, \"total_results\": 31000, \"ill_type\": \"Illustration\", \"total_articles\": 3613826, \"proportion\": 0.008578166187303981}, {\"year\": 1911, \"total_results\": 34386, \"ill_type\": \"Illustration\", \"total_articles\": 3740413, \"proportion\": 0.00919310247290874}, {\"year\": 1912, \"total_results\": 32664, \"ill_type\": \"Illustration\", \"total_articles\": 3890753, \"proportion\": 0.008395290063388757}, {\"year\": 1913, \"total_results\": 33133, \"ill_type\": \"Illustration\", \"total_articles\": 3957073, \"proportion\": 0.008373108102883116}, {\"year\": 1914, \"total_results\": 33619, \"ill_type\": \"Illustration\", \"total_articles\": 4654167, \"proportion\": 0.00722341935732001}, {\"year\": 1915, \"total_results\": 28686, \"ill_type\": \"Illustration\", \"total_articles\": 4751447, \"proportion\": 0.006037318736797443}, {\"year\": 1916, \"total_results\": 23762, \"ill_type\": \"Illustration\", \"total_articles\": 4346277, \"proportion\": 0.005467207911506791}, {\"year\": 1917, \"total_results\": 22300, \"ill_type\": \"Illustration\", \"total_articles\": 4239223, \"proportion\": 0.005260397955002603}, {\"year\": 1918, \"total_results\": 20308, \"ill_type\": \"Illustration\", \"total_articles\": 4016436, \"proportion\": 0.005056223975683915}, {\"year\": 1919, \"total_results\": 16565, \"ill_type\": \"Illustration\", \"total_articles\": 3486517, \"proportion\": 0.0047511599685301975}, {\"year\": 1920, \"total_results\": 16513, \"ill_type\": \"Illustration\", \"total_articles\": 3237978, \"proportion\": 0.005099787583485743}, {\"year\": 1921, \"total_results\": 20544, \"ill_type\": \"Illustration\", \"total_articles\": 3435873, \"proportion\": 0.005979266404782715}, {\"year\": 1922, \"total_results\": 26493, \"ill_type\": \"Illustration\", \"total_articles\": 3562135, \"proportion\": 0.0074373935855884185}, {\"year\": 1923, \"total_results\": 33342, \"ill_type\": \"Illustration\", \"total_articles\": 3828641, \"proportion\": 0.008708573094212803}, {\"year\": 1924, \"total_results\": 40948, \"ill_type\": \"Illustration\", \"total_articles\": 4125328, \"proportion\": 0.009925998611504346}, {\"year\": 1925, \"total_results\": 45359, \"ill_type\": \"Illustration\", \"total_articles\": 4086958, \"proportion\": 0.011098474709062339}, {\"year\": 1926, \"total_results\": 43006, \"ill_type\": \"Illustration\", \"total_articles\": 4069533, \"proportion\": 0.010567797336942592}, {\"year\": 1927, \"total_results\": 48751, \"ill_type\": \"Illustration\", \"total_articles\": 4126770, \"proportion\": 0.011813355239085289}, {\"year\": 1928, \"total_results\": 56523, \"ill_type\": \"Illustration\", \"total_articles\": 4234586, \"proportion\": 0.013347940034751921}, {\"year\": 1929, \"total_results\": 61331, \"ill_type\": \"Illustration\", \"total_articles\": 4460722, \"proportion\": 0.013749119537151161}, {\"year\": 1930, \"total_results\": 68911, \"ill_type\": \"Illustration\", \"total_articles\": 4315190, \"proportion\": 0.015969401115593983}, {\"year\": 1931, \"total_results\": 58323, \"ill_type\": \"Illustration\", \"total_articles\": 3941724, \"proportion\": 0.014796317550391656}, {\"year\": 1932, \"total_results\": 62396, \"ill_type\": \"Illustration\", \"total_articles\": 3890710, \"proportion\": 0.016037175733991996}, {\"year\": 1933, \"total_results\": 66831, \"ill_type\": \"Illustration\", \"total_articles\": 4069854, \"proportion\": 0.016420982177739053}, {\"year\": 1934, \"total_results\": 76481, \"ill_type\": \"Illustration\", \"total_articles\": 4183589, \"proportion\": 0.018281193491999335}, {\"year\": 1935, \"total_results\": 74405, \"ill_type\": \"Illustration\", \"total_articles\": 4271382, \"proportion\": 0.017419420693349365}, {\"year\": 1936, \"total_results\": 74349, \"ill_type\": \"Illustration\", \"total_articles\": 4377987, \"proportion\": 0.016982462487896834}, {\"year\": 1937, \"total_results\": 71839, \"ill_type\": \"Illustration\", \"total_articles\": 4371925, \"proportion\": 0.016431892129897013}, {\"year\": 1938, \"total_results\": 69972, \"ill_type\": \"Illustration\", \"total_articles\": 4359675, \"proportion\": 0.01604982022742521}, {\"year\": 1939, \"total_results\": 61613, \"ill_type\": \"Illustration\", \"total_articles\": 4140014, \"proportion\": 0.014882316823083207}, {\"year\": 1940, \"total_results\": 46011, \"ill_type\": \"Illustration\", \"total_articles\": 3497071, \"proportion\": 0.013157010538247579}, {\"year\": 1941, \"total_results\": 33004, \"ill_type\": \"Illustration\", \"total_articles\": 3082401, \"proportion\": 0.010707237637153635}, {\"year\": 1942, \"total_results\": 23307, \"ill_type\": \"Illustration\", \"total_articles\": 2470102, \"proportion\": 0.009435642738639944}, {\"year\": 1943, \"total_results\": 19648, \"ill_type\": \"Illustration\", \"total_articles\": 2191842, \"proportion\": 0.008964149788169038}, {\"year\": 1944, \"total_results\": 22152, \"ill_type\": \"Illustration\", \"total_articles\": 2233365, \"proportion\": 0.009918665332357227}, {\"year\": 1945, \"total_results\": 26687, \"ill_type\": \"Illustration\", \"total_articles\": 2412554, \"proportion\": 0.01106172131276647}, {\"year\": 1946, \"total_results\": 41953, \"ill_type\": \"Illustration\", \"total_articles\": 2748052, \"proportion\": 0.015266450562070879}, {\"year\": 1947, \"total_results\": 49933, \"ill_type\": \"Illustration\", \"total_articles\": 2851317, \"proportion\": 0.017512258370430227}, {\"year\": 1948, \"total_results\": 37634, \"ill_type\": \"Illustration\", \"total_articles\": 2610229, \"proportion\": 0.014417892070006119}, {\"year\": 1949, \"total_results\": 49020, \"ill_type\": \"Illustration\", \"total_articles\": 2867051, \"proportion\": 0.017097707714302954}, {\"year\": 1950, \"total_results\": 51542, \"ill_type\": \"Illustration\", \"total_articles\": 2812464, \"proportion\": 0.018326279020815912}, {\"year\": 1951, \"total_results\": 40836, \"ill_type\": \"Illustration\", \"total_articles\": 2554766, \"proportion\": 0.015984242783879228}, {\"year\": 1952, \"total_results\": 38709, \"ill_type\": \"Illustration\", \"total_articles\": 2608800, \"proportion\": 0.014837856485740571}, {\"year\": 1953, \"total_results\": 42426, \"ill_type\": \"Illustration\", \"total_articles\": 2755677, \"proportion\": 0.015395853723059705}, {\"year\": 1954, \"total_results\": 45609, \"ill_type\": \"Illustration\", \"total_articles\": 2787339, \"proportion\": 0.016362918181103914}, {\"year\": 1955, \"total_results\": 9517, \"ill_type\": \"Illustration\", \"total_articles\": 279909, \"proportion\": 0.034000335823428325}, {\"year\": 1956, \"total_results\": 8318, \"ill_type\": \"Illustration\", \"total_articles\": 199416, \"proportion\": 0.041711798451478314}, {\"year\": 1957, \"total_results\": 5753, \"ill_type\": \"Illustration\", \"total_articles\": 126201, \"proportion\": 0.045586009619575124}, {\"year\": 1958, \"total_results\": 5765, \"ill_type\": \"Illustration\", \"total_articles\": 126115, \"proportion\": 0.045712246758910516}, {\"year\": 1959, \"total_results\": 5634, \"ill_type\": \"Illustration\", \"total_articles\": 121259, \"proportion\": 0.04646253061628415}, {\"year\": 1960, \"total_results\": 5331, \"ill_type\": \"Illustration\", \"total_articles\": 115050, \"proportion\": 0.046336375488917864}, {\"year\": 1961, \"total_results\": 5325, \"ill_type\": \"Illustration\", \"total_articles\": 109239, \"proportion\": 0.048746326861285806}, {\"year\": 1962, \"total_results\": 5512, \"ill_type\": \"Illustration\", \"total_articles\": 108575, \"proportion\": 0.05076675109371402}, {\"year\": 1963, \"total_results\": 5480, \"ill_type\": \"Illustration\", \"total_articles\": 118702, \"proportion\": 0.04616602921601995}, {\"year\": 1964, \"total_results\": 5341, \"ill_type\": \"Illustration\", \"total_articles\": 120392, \"proportion\": 0.04436341285135225}, {\"year\": 1965, \"total_results\": 5975, \"ill_type\": \"Illustration\", \"total_articles\": 126432, \"proportion\": 0.04725860541635029}, {\"year\": 1966, \"total_results\": 6031, \"ill_type\": \"Illustration\", \"total_articles\": 123452, \"proportion\": 0.04885299549622525}, {\"year\": 1967, \"total_results\": 5393, \"ill_type\": \"Illustration\", \"total_articles\": 118503, \"proportion\": 0.04550939638658937}, {\"year\": 1968, \"total_results\": 6247, \"ill_type\": \"Illustration\", \"total_articles\": 124919, \"proportion\": 0.05000840544672948}, {\"year\": 1969, \"total_results\": 7660, \"ill_type\": \"Illustration\", \"total_articles\": 151689, \"proportion\": 0.05049805852764538}, {\"year\": 1970, \"total_results\": 8529, \"ill_type\": \"Illustration\", \"total_articles\": 166785, \"proportion\": 0.051137692238510654}, {\"year\": 1971, \"total_results\": 7799, \"ill_type\": \"Illustration\", \"total_articles\": 165077, \"proportion\": 0.047244619177717065}, {\"year\": 1972, \"total_results\": 8318, \"ill_type\": \"Illustration\", \"total_articles\": 164687, \"proportion\": 0.05050793323091683}, {\"year\": 1973, \"total_results\": 8291, \"ill_type\": \"Illustration\", \"total_articles\": 161814, \"proportion\": 0.05123784097791291}, {\"year\": 1974, \"total_results\": 7864, \"ill_type\": \"Illustration\", \"total_articles\": 159025, \"proportion\": 0.04945134412828172}, {\"year\": 1975, \"total_results\": 7791, \"ill_type\": \"Illustration\", \"total_articles\": 148204, \"proportion\": 0.0525694313243907}, {\"year\": 1976, \"total_results\": 7913, \"ill_type\": \"Illustration\", \"total_articles\": 148816, \"proportion\": 0.05317304590904204}, {\"year\": 1977, \"total_results\": 9363, \"ill_type\": \"Illustration\", \"total_articles\": 151194, \"proportion\": 0.06192706059764276}, {\"year\": 1978, \"total_results\": 9991, \"ill_type\": \"Illustration\", \"total_articles\": 159199, \"proportion\": 0.06275793189655714}, {\"year\": 1979, \"total_results\": 10232, \"ill_type\": \"Illustration\", \"total_articles\": 167101, \"proportion\": 0.06123242829187139}, {\"year\": 1980, \"total_results\": 10252, \"ill_type\": \"Illustration\", \"total_articles\": 165664, \"proportion\": 0.06188429592428047}, {\"year\": 1981, \"total_results\": 8590, \"ill_type\": \"Illustration\", \"total_articles\": 142781, \"proportion\": 0.060162066381381274}, {\"year\": 1982, \"total_results\": 7847, \"ill_type\": \"Illustration\", \"total_articles\": 130222, \"proportion\": 0.06025863525364378}, {\"year\": 1983, \"total_results\": 4794, \"ill_type\": \"Illustration\", \"total_articles\": 117491, \"proportion\": 0.040803125345771164}, {\"year\": 1984, \"total_results\": 4715, \"ill_type\": \"Illustration\", \"total_articles\": 118615, \"proportion\": 0.03975045314673523}, {\"year\": 1985, \"total_results\": 4938, \"ill_type\": \"Illustration\", \"total_articles\": 128586, \"proportion\": 0.038402314404367505}, {\"year\": 1986, \"total_results\": 5367, \"ill_type\": \"Illustration\", \"total_articles\": 128312, \"proportion\": 0.04182773240226947}, {\"year\": 1987, \"total_results\": 5812, \"ill_type\": \"Illustration\", \"total_articles\": 127591, \"proportion\": 0.04555180224310492}, {\"year\": 1988, \"total_results\": 6119, \"ill_type\": \"Illustration\", \"total_articles\": 136944, \"proportion\": 0.04468249795536862}, {\"year\": 1989, \"total_results\": 7081, \"ill_type\": \"Illustration\", \"total_articles\": 140206, \"proportion\": 0.050504258020341496}, {\"year\": 1990, \"total_results\": 6272, \"ill_type\": \"Illustration\", \"total_articles\": 132596, \"proportion\": 0.047301577724818245}, {\"year\": 1991, \"total_results\": 6321, \"ill_type\": \"Illustration\", \"total_articles\": 131729, \"proportion\": 0.047984878045077395}, {\"year\": 1992, \"total_results\": 6175, \"ill_type\": \"Illustration\", \"total_articles\": 137422, \"proportion\": 0.044934581071444164}, {\"year\": 1993, \"total_results\": 6281, \"ill_type\": \"Illustration\", \"total_articles\": 137978, \"proportion\": 0.045521749844178054}, {\"year\": 1994, \"total_results\": 6637, \"ill_type\": \"Illustration\", \"total_articles\": 133420, \"proportion\": 0.04974516564233249}, {\"year\": 1995, \"total_results\": 6825, \"ill_type\": \"Illustration\", \"total_articles\": 132425, \"proportion\": 0.05153860675854257}, {\"year\": 1996, \"total_results\": 1912, \"ill_type\": \"Illustration\", \"total_articles\": 47101, \"proportion\": 0.04059361796989448}, {\"year\": 1997, \"total_results\": 1994, \"ill_type\": \"Illustration\", \"total_articles\": 49822, \"proportion\": 0.04002248002890289}, {\"year\": 1998, \"total_results\": 2188, \"ill_type\": \"Illustration\", \"total_articles\": 56947, \"proportion\": 0.03842169034365287}, {\"year\": 1999, \"total_results\": 2857, \"ill_type\": \"Illustration\", \"total_articles\": 67005, \"proportion\": 0.042638609059025445}, {\"year\": 2000, \"total_results\": 2416, \"ill_type\": \"Illustration\", \"total_articles\": 44770, \"proportion\": 0.05396470851016306}, {\"year\": 2001, \"total_results\": 2842, \"ill_type\": \"Illustration\", \"total_articles\": 42081, \"proportion\": 0.06753641786079229}, {\"year\": 2002, \"total_results\": 3093, \"ill_type\": \"Illustration\", \"total_articles\": 42631, \"proportion\": 0.07255283713729446}, {\"year\": 2003, \"total_results\": 1456, \"ill_type\": \"Illustration\", \"total_articles\": 24075, \"proportion\": 0.060477673935617864}, {\"year\": 2004, \"total_results\": 1146, \"ill_type\": \"Illustration\", \"total_articles\": 22072, \"proportion\": 0.05192098586444364}, {\"year\": 2005, \"total_results\": 1227, \"ill_type\": \"Illustration\", \"total_articles\": 18071, \"proportion\": 0.06789884345083283}, {\"year\": 2006, \"total_results\": 994, \"ill_type\": \"Illustration\", \"total_articles\": 17708, \"proportion\": 0.05613282132369551}, {\"year\": 2007, \"total_results\": 1479, \"ill_type\": \"Illustration\", \"total_articles\": 18719, \"proportion\": 0.07901063090977083}, {\"year\": 2008, \"total_results\": 1096, \"ill_type\": \"Illustration\", \"total_articles\": 17059, \"proportion\": 0.06424761123160795}, {\"year\": 2009, \"total_results\": 633, \"ill_type\": \"Illustration\", \"total_articles\": 5762, \"proportion\": 0.10985768830267269}, {\"year\": 2010, \"total_results\": 623, \"ill_type\": \"Illustration\", \"total_articles\": 5794, \"proportion\": 0.10752502588885053}, {\"year\": 2011, \"total_results\": 568, \"ill_type\": \"Illustration\", \"total_articles\": 5386, \"proportion\": 0.10545859636093576}, {\"year\": 2012, \"total_results\": 579, \"ill_type\": \"Illustration\", \"total_articles\": 4832, \"proportion\": 0.11982615894039735}, {\"year\": 2013, \"total_results\": 733, \"ill_type\": \"Illustration\", \"total_articles\": 4904, \"proportion\": 0.14946982055464927}, {\"year\": 2014, \"total_results\": 588, \"ill_type\": \"Illustration\", \"total_articles\": 4718, \"proportion\": 0.12462908011869436}, {\"year\": 2015, \"total_results\": 622, \"ill_type\": \"Illustration\", \"total_articles\": 4819, \"proportion\": 0.1290724216642457}, {\"year\": 2016, \"total_results\": 26, \"ill_type\": \"Illustration\", \"total_articles\": 1422, \"proportion\": 0.01828410689170183}, {\"year\": 2017, \"total_results\": 35, \"ill_type\": \"Illustration\", \"total_articles\": 1094, \"proportion\": 0.031992687385740404}, {\"year\": 2018, \"total_results\": 51, \"ill_type\": \"Illustration\", \"total_articles\": 1100, \"proportion\": 0.046363636363636364}, {\"year\": 2019, \"total_results\": 19, \"ill_type\": \"Illustration\", \"total_articles\": 1153, \"proportion\": 0.01647875108412836}, {\"year\": 1838, \"total_results\": 1, \"ill_type\": \"Map\", \"total_articles\": 25911, \"proportion\": 3.859364748562387e-05}, {\"year\": 1841, \"total_results\": 1, \"ill_type\": \"Map\", \"total_articles\": 46377, \"proportion\": 2.1562412402699614e-05}, {\"year\": 1843, \"total_results\": 1, \"ill_type\": \"Map\", \"total_articles\": 49913, \"proportion\": 2.0034860657544126e-05}, {\"year\": 1845, \"total_results\": 2, \"ill_type\": \"Map\", \"total_articles\": 63389, \"proportion\": 3.155121551057755e-05}, {\"year\": 1846, \"total_results\": 2, \"ill_type\": \"Map\", \"total_articles\": 62153, \"proportion\": 3.217865589754316e-05}, {\"year\": 1850, \"total_results\": 1, \"ill_type\": \"Map\", \"total_articles\": 81624, \"proportion\": 1.2251298637655592e-05}, {\"year\": 1854, \"total_results\": 1, \"ill_type\": \"Map\", \"total_articles\": 118883, \"proportion\": 8.411631604182263e-06}, {\"year\": 1858, \"total_results\": 1, \"ill_type\": \"Map\", \"total_articles\": 178765, \"proportion\": 5.593936173188264e-06}, {\"year\": 1859, \"total_results\": 7, \"ill_type\": \"Map\", \"total_articles\": 202996, \"proportion\": 3.448343809730241e-05}, {\"year\": 1862, \"total_results\": 1, \"ill_type\": \"Map\", \"total_articles\": 244694, \"proportion\": 4.086736904051591e-06}, {\"year\": 1863, \"total_results\": 1, \"ill_type\": \"Map\", \"total_articles\": 251706, \"proportion\": 3.972889005426967e-06}, {\"year\": 1864, \"total_results\": 1, \"ill_type\": \"Map\", \"total_articles\": 264282, \"proportion\": 3.7838369620329798e-06}, {\"year\": 1865, \"total_results\": 1, \"ill_type\": \"Map\", \"total_articles\": 283302, \"proportion\": 3.5298021192931922e-06}, {\"year\": 1866, \"total_results\": 2, \"ill_type\": \"Map\", \"total_articles\": 289342, \"proportion\": 6.912235347789121e-06}, {\"year\": 1868, \"total_results\": 1, \"ill_type\": \"Map\", \"total_articles\": 304914, \"proportion\": 3.279613268003437e-06}, {\"year\": 1869, \"total_results\": 3, \"ill_type\": \"Map\", \"total_articles\": 327192, \"proportion\": 9.168928335656129e-06}, {\"year\": 1870, \"total_results\": 21, \"ill_type\": \"Map\", \"total_articles\": 373286, \"proportion\": 5.6257132600740453e-05}, {\"year\": 1871, \"total_results\": 10, \"ill_type\": \"Map\", \"total_articles\": 359781, \"proportion\": 2.779468621189001e-05}, {\"year\": 1872, \"total_results\": 5, \"ill_type\": \"Map\", \"total_articles\": 383784, \"proportion\": 1.3028161674275113e-05}, {\"year\": 1873, \"total_results\": 9, \"ill_type\": \"Map\", \"total_articles\": 420951, \"proportion\": 2.1380160636273582e-05}, {\"year\": 1874, \"total_results\": 16, \"ill_type\": \"Map\", \"total_articles\": 436788, \"proportion\": 3.6631042977371176e-05}, {\"year\": 1875, \"total_results\": 10, \"ill_type\": \"Map\", \"total_articles\": 466891, \"proportion\": 2.1418275357631652e-05}, {\"year\": 1876, \"total_results\": 14, \"ill_type\": \"Map\", \"total_articles\": 477911, \"proportion\": 2.9294157280330437e-05}, {\"year\": 1877, \"total_results\": 324, \"ill_type\": \"Map\", \"total_articles\": 499944, \"proportion\": 0.0006480725841294225}, {\"year\": 1878, \"total_results\": 321, \"ill_type\": \"Map\", \"total_articles\": 569203, \"proportion\": 0.0005639464303596432}, {\"year\": 1879, \"total_results\": 312, \"ill_type\": \"Map\", \"total_articles\": 607530, \"proportion\": 0.0005135548861784603}, {\"year\": 1880, \"total_results\": 326, \"ill_type\": \"Map\", \"total_articles\": 624376, \"proportion\": 0.0005221212858918344}, {\"year\": 1881, \"total_results\": 396, \"ill_type\": \"Map\", \"total_articles\": 667930, \"proportion\": 0.0005928764990343299}, {\"year\": 1882, \"total_results\": 650, \"ill_type\": \"Map\", \"total_articles\": 745914, \"proportion\": 0.0008714141308515459}, {\"year\": 1883, \"total_results\": 651, \"ill_type\": \"Map\", \"total_articles\": 778865, \"proportion\": 0.0008358316267902653}, {\"year\": 1884, \"total_results\": 629, \"ill_type\": \"Map\", \"total_articles\": 858553, \"proportion\": 0.000732628038105976}, {\"year\": 1885, \"total_results\": 692, \"ill_type\": \"Map\", \"total_articles\": 911515, \"proportion\": 0.0007591756581076559}, {\"year\": 1886, \"total_results\": 653, \"ill_type\": \"Map\", \"total_articles\": 994828, \"proportion\": 0.000656394874289827}, {\"year\": 1887, \"total_results\": 688, \"ill_type\": \"Map\", \"total_articles\": 1043492, \"proportion\": 0.0006593246522254123}, {\"year\": 1888, \"total_results\": 785, \"ill_type\": \"Map\", \"total_articles\": 1162025, \"proportion\": 0.0006755448462812762}, {\"year\": 1889, \"total_results\": 694, \"ill_type\": \"Map\", \"total_articles\": 1252262, \"proportion\": 0.0005541971248828121}, {\"year\": 1890, \"total_results\": 222, \"ill_type\": \"Map\", \"total_articles\": 1357654, \"proportion\": 0.000163517361566349}, {\"year\": 1891, \"total_results\": 115, \"ill_type\": \"Map\", \"total_articles\": 1429274, \"proportion\": 8.046042956074202e-05}, {\"year\": 1892, \"total_results\": 61, \"ill_type\": \"Map\", \"total_articles\": 1486705, \"proportion\": 4.103033217753354e-05}, {\"year\": 1893, \"total_results\": 186, \"ill_type\": \"Map\", \"total_articles\": 1510849, \"proportion\": 0.00012310958937656908}, {\"year\": 1894, \"total_results\": 191, \"ill_type\": \"Map\", \"total_articles\": 1560809, \"proportion\": 0.00012237243634551057}, {\"year\": 1895, \"total_results\": 113, \"ill_type\": \"Map\", \"total_articles\": 1678554, \"proportion\": 6.73198479167188e-05}, {\"year\": 1896, \"total_results\": 166, \"ill_type\": \"Map\", \"total_articles\": 1798582, \"proportion\": 9.229493011717009e-05}, {\"year\": 1897, \"total_results\": 434, \"ill_type\": \"Map\", \"total_articles\": 1918088, \"proportion\": 0.00022626699087841643}, {\"year\": 1898, \"total_results\": 812, \"ill_type\": \"Map\", \"total_articles\": 2141840, \"proportion\": 0.00037911328577298024}, {\"year\": 1899, \"total_results\": 1129, \"ill_type\": \"Map\", \"total_articles\": 2308829, \"proportion\": 0.0004889924719414041}, {\"year\": 1900, \"total_results\": 1208, \"ill_type\": \"Map\", \"total_articles\": 2539736, \"proportion\": 0.0004756399877782573}, {\"year\": 1901, \"total_results\": 322, \"ill_type\": \"Map\", \"total_articles\": 2618191, \"proportion\": 0.00012298567980716457}, {\"year\": 1902, \"total_results\": 391, \"ill_type\": \"Map\", \"total_articles\": 2674429, \"proportion\": 0.00014619943172916537}, {\"year\": 1903, \"total_results\": 387, \"ill_type\": \"Map\", \"total_articles\": 2713889, \"proportion\": 0.00014259978945343747}, {\"year\": 1904, \"total_results\": 1035, \"ill_type\": \"Map\", \"total_articles\": 2878677, \"proportion\": 0.0003595401637627285}, {\"year\": 1905, \"total_results\": 1188, \"ill_type\": \"Map\", \"total_articles\": 3009076, \"proportion\": 0.0003948055815140595}, {\"year\": 1906, \"total_results\": 1688, \"ill_type\": \"Map\", \"total_articles\": 3057500, \"proportion\": 0.000552085036794767}, {\"year\": 1907, \"total_results\": 1695, \"ill_type\": \"Map\", \"total_articles\": 3205575, \"proportion\": 0.0005287662899791769}, {\"year\": 1908, \"total_results\": 2242, \"ill_type\": \"Map\", \"total_articles\": 3314151, \"proportion\": 0.0006764930143496781}, {\"year\": 1909, \"total_results\": 2064, \"ill_type\": \"Map\", \"total_articles\": 3379982, \"proportion\": 0.0006106541395782581}, {\"year\": 1910, \"total_results\": 2343, \"ill_type\": \"Map\", \"total_articles\": 3613826, \"proportion\": 0.000648343334737201}, {\"year\": 1911, \"total_results\": 3207, \"ill_type\": \"Map\", \"total_articles\": 3740413, \"proportion\": 0.0008573919511027259}, {\"year\": 1912, \"total_results\": 3733, \"ill_type\": \"Map\", \"total_articles\": 3890753, \"proportion\": 0.0009594543781113836}, {\"year\": 1913, \"total_results\": 3959, \"ill_type\": \"Map\", \"total_articles\": 3957073, \"proportion\": 0.0010004869761058236}, {\"year\": 1914, \"total_results\": 5567, \"ill_type\": \"Map\", \"total_articles\": 4654167, \"proportion\": 0.0011961324120943662}, {\"year\": 1915, \"total_results\": 5540, \"ill_type\": \"Map\", \"total_articles\": 4751447, \"proportion\": 0.0011659606010547944}, {\"year\": 1916, \"total_results\": 5185, \"ill_type\": \"Map\", \"total_articles\": 4346277, \"proportion\": 0.001192975045078811}, {\"year\": 1917, \"total_results\": 4812, \"ill_type\": \"Map\", \"total_articles\": 4239223, \"proportion\": 0.0011351136753126694}, {\"year\": 1918, \"total_results\": 4705, \"ill_type\": \"Map\", \"total_articles\": 4016436, \"proportion\": 0.0011714365671455988}, {\"year\": 1919, \"total_results\": 3709, \"ill_type\": \"Map\", \"total_articles\": 3486517, \"proportion\": 0.0010638123950062483}, {\"year\": 1920, \"total_results\": 3838, \"ill_type\": \"Map\", \"total_articles\": 3237978, \"proportion\": 0.0011853076209906305}, {\"year\": 1921, \"total_results\": 4214, \"ill_type\": \"Map\", \"total_articles\": 3435873, \"proportion\": 0.001226471409158604}, {\"year\": 1922, \"total_results\": 4472, \"ill_type\": \"Map\", \"total_articles\": 3562135, \"proportion\": 0.0012554268718058131}, {\"year\": 1923, \"total_results\": 4680, \"ill_type\": \"Map\", \"total_articles\": 3828641, \"proportion\": 0.0012223658473071778}, {\"year\": 1924, \"total_results\": 4987, \"ill_type\": \"Map\", \"total_articles\": 4125328, \"proportion\": 0.001208873573204361}, {\"year\": 1925, \"total_results\": 5166, \"ill_type\": \"Map\", \"total_articles\": 4086958, \"proportion\": 0.001264020819396725}, {\"year\": 1926, \"total_results\": 5243, \"ill_type\": \"Map\", \"total_articles\": 4069533, \"proportion\": 0.0012883542165648982}, {\"year\": 1927, \"total_results\": 5415, \"ill_type\": \"Map\", \"total_articles\": 4126770, \"proportion\": 0.0013121642349828073}, {\"year\": 1928, \"total_results\": 5346, \"ill_type\": \"Map\", \"total_articles\": 4234586, \"proportion\": 0.0012624610764783144}, {\"year\": 1929, \"total_results\": 5822, \"ill_type\": \"Map\", \"total_articles\": 4460722, \"proportion\": 0.001305169880570903}, {\"year\": 1930, \"total_results\": 5676, \"ill_type\": \"Map\", \"total_articles\": 4315190, \"proportion\": 0.001315353437507966}, {\"year\": 1931, \"total_results\": 5120, \"ill_type\": \"Map\", \"total_articles\": 3941724, \"proportion\": 0.001298924024107218}, {\"year\": 1932, \"total_results\": 5117, \"ill_type\": \"Map\", \"total_articles\": 3890710, \"proportion\": 0.0013151841180658542}, {\"year\": 1933, \"total_results\": 5435, \"ill_type\": \"Map\", \"total_articles\": 4069854, \"proportion\": 0.0013354287401955943}, {\"year\": 1934, \"total_results\": 5653, \"ill_type\": \"Map\", \"total_articles\": 4183589, \"proportion\": 0.0013512321597556548}, {\"year\": 1935, \"total_results\": 6639, \"ill_type\": \"Map\", \"total_articles\": 4271382, \"proportion\": 0.0015542978829802625}, {\"year\": 1936, \"total_results\": 6968, \"ill_type\": \"Map\", \"total_articles\": 4377987, \"proportion\": 0.0015915990613951114}, {\"year\": 1937, \"total_results\": 7826, \"ill_type\": \"Map\", \"total_articles\": 4371925, \"proportion\": 0.0017900581551604843}, {\"year\": 1938, \"total_results\": 8207, \"ill_type\": \"Map\", \"total_articles\": 4359675, \"proportion\": 0.0018824797720013533}, {\"year\": 1939, \"total_results\": 8788, \"ill_type\": \"Map\", \"total_articles\": 4140014, \"proportion\": 0.0021226981358034055}, {\"year\": 1940, \"total_results\": 9220, \"ill_type\": \"Map\", \"total_articles\": 3497071, \"proportion\": 0.002636492081516217}, {\"year\": 1941, \"total_results\": 10501, \"ill_type\": \"Map\", \"total_articles\": 3082401, \"proportion\": 0.0034067598602517974}, {\"year\": 1942, \"total_results\": 7524, \"ill_type\": \"Map\", \"total_articles\": 2470102, \"proportion\": 0.0030460280587603266}, {\"year\": 1943, \"total_results\": 7472, \"ill_type\": \"Map\", \"total_articles\": 2191842, \"proportion\": 0.003409004846152232}, {\"year\": 1944, \"total_results\": 9308, \"ill_type\": \"Map\", \"total_articles\": 2233365, \"proportion\": 0.004167702099746347}, {\"year\": 1945, \"total_results\": 7865, \"ill_type\": \"Map\", \"total_articles\": 2412554, \"proportion\": 0.0032600306563086256}, {\"year\": 1946, \"total_results\": 4671, \"ill_type\": \"Map\", \"total_articles\": 2748052, \"proportion\": 0.0016997494952788374}, {\"year\": 1947, \"total_results\": 4782, \"ill_type\": \"Map\", \"total_articles\": 2851317, \"proportion\": 0.00167711973098747}, {\"year\": 1948, \"total_results\": 5170, \"ill_type\": \"Map\", \"total_articles\": 2610229, \"proportion\": 0.0019806691290304413}, {\"year\": 1949, \"total_results\": 5602, \"ill_type\": \"Map\", \"total_articles\": 2867051, \"proportion\": 0.001953924084364038}, {\"year\": 1950, \"total_results\": 6355, \"ill_type\": \"Map\", \"total_articles\": 2812464, \"proportion\": 0.002259584478236877}, {\"year\": 1951, \"total_results\": 4552, \"ill_type\": \"Map\", \"total_articles\": 2554766, \"proportion\": 0.0017817678801111336}, {\"year\": 1952, \"total_results\": 4797, \"ill_type\": \"Map\", \"total_articles\": 2608800, \"proportion\": 0.0018387764489420423}, {\"year\": 1953, \"total_results\": 5497, \"ill_type\": \"Map\", \"total_articles\": 2755677, \"proportion\": 0.001994791116665705}, {\"year\": 1954, \"total_results\": 5753, \"ill_type\": \"Map\", \"total_articles\": 2787339, \"proportion\": 0.002063975713036699}, {\"year\": 1955, \"total_results\": 414, \"ill_type\": \"Map\", \"total_articles\": 279909, \"proportion\": 0.0014790521205105946}, {\"year\": 1956, \"total_results\": 401, \"ill_type\": \"Map\", \"total_articles\": 199416, \"proportion\": 0.002010871745496851}, {\"year\": 1957, \"total_results\": 57, \"ill_type\": \"Map\", \"total_articles\": 126201, \"proportion\": 0.0004516604464306939}, {\"year\": 1958, \"total_results\": 37, \"ill_type\": \"Map\", \"total_articles\": 126115, \"proportion\": 0.0002933830234309955}, {\"year\": 1959, \"total_results\": 44, \"ill_type\": \"Map\", \"total_articles\": 121259, \"proportion\": 0.0003628596640249384}, {\"year\": 1960, \"total_results\": 41, \"ill_type\": \"Map\", \"total_articles\": 115050, \"proportion\": 0.00035636679704476314}, {\"year\": 1961, \"total_results\": 26, \"ill_type\": \"Map\", \"total_articles\": 109239, \"proportion\": 0.00023801023444008093}, {\"year\": 1962, \"total_results\": 69, \"ill_type\": \"Map\", \"total_articles\": 108575, \"proportion\": 0.0006355054110062169}, {\"year\": 1963, \"total_results\": 54, \"ill_type\": \"Map\", \"total_articles\": 118702, \"proportion\": 0.0004549207258512915}, {\"year\": 1964, \"total_results\": 249, \"ill_type\": \"Map\", \"total_articles\": 120392, \"proportion\": 0.0020682437371253902}, {\"year\": 1965, \"total_results\": 503, \"ill_type\": \"Map\", \"total_articles\": 126432, \"proportion\": 0.00397842318400405}, {\"year\": 1966, \"total_results\": 591, \"ill_type\": \"Map\", \"total_articles\": 123452, \"proportion\": 0.004787285746686971}, {\"year\": 1967, \"total_results\": 662, \"ill_type\": \"Map\", \"total_articles\": 118503, \"proportion\": 0.005586356463549446}, {\"year\": 1968, \"total_results\": 538, \"ill_type\": \"Map\", \"total_articles\": 124919, \"proportion\": 0.0043067908004386845}, {\"year\": 1969, \"total_results\": 567, \"ill_type\": \"Map\", \"total_articles\": 151689, \"proportion\": 0.003737911120780017}, {\"year\": 1970, \"total_results\": 598, \"ill_type\": \"Map\", \"total_articles\": 166785, \"proportion\": 0.0035854543274275266}, {\"year\": 1971, \"total_results\": 479, \"ill_type\": \"Map\", \"total_articles\": 165077, \"proportion\": 0.0029016761874761476}, {\"year\": 1972, \"total_results\": 525, \"ill_type\": \"Map\", \"total_articles\": 164687, \"proportion\": 0.00318786546600521}, {\"year\": 1973, \"total_results\": 554, \"ill_type\": \"Map\", \"total_articles\": 161814, \"proportion\": 0.0034236839828445005}, {\"year\": 1974, \"total_results\": 612, \"ill_type\": \"Map\", \"total_articles\": 159025, \"proportion\": 0.0038484515013362678}, {\"year\": 1975, \"total_results\": 571, \"ill_type\": \"Map\", \"total_articles\": 148204, \"proportion\": 0.003852797495344255}, {\"year\": 1976, \"total_results\": 597, \"ill_type\": \"Map\", \"total_articles\": 148816, \"proportion\": 0.0040116654123212555}, {\"year\": 1977, \"total_results\": 652, \"ill_type\": \"Map\", \"total_articles\": 151194, \"proportion\": 0.00431234043678982}, {\"year\": 1978, \"total_results\": 744, \"ill_type\": \"Map\", \"total_articles\": 159199, \"proportion\": 0.004673396189674558}, {\"year\": 1979, \"total_results\": 776, \"ill_type\": \"Map\", \"total_articles\": 167101, \"proportion\": 0.00464389800180729}, {\"year\": 1980, \"total_results\": 688, \"ill_type\": \"Map\", \"total_articles\": 165664, \"proportion\": 0.004152984353872899}, {\"year\": 1981, \"total_results\": 642, \"ill_type\": \"Map\", \"total_articles\": 142781, \"proportion\": 0.0044963965793768075}, {\"year\": 1982, \"total_results\": 654, \"ill_type\": \"Map\", \"total_articles\": 130222, \"proportion\": 0.005022192870636298}, {\"year\": 1983, \"total_results\": 569, \"ill_type\": \"Map\", \"total_articles\": 117491, \"proportion\": 0.0048429241388702115}, {\"year\": 1984, \"total_results\": 579, \"ill_type\": \"Map\", \"total_articles\": 118615, \"proportion\": 0.004881338785145218}, {\"year\": 1985, \"total_results\": 608, \"ill_type\": \"Map\", \"total_articles\": 128586, \"proportion\": 0.0047283530088812155}, {\"year\": 1986, \"total_results\": 605, \"ill_type\": \"Map\", \"total_articles\": 128312, \"proportion\": 0.004715069518049754}, {\"year\": 1987, \"total_results\": 546, \"ill_type\": \"Map\", \"total_articles\": 127591, \"proportion\": 0.004279298696616533}, {\"year\": 1988, \"total_results\": 612, \"ill_type\": \"Map\", \"total_articles\": 136944, \"proportion\": 0.004468980021030494}, {\"year\": 1989, \"total_results\": 653, \"ill_type\": \"Map\", \"total_articles\": 140206, \"proportion\": 0.004657432634837311}, {\"year\": 1990, \"total_results\": 801, \"ill_type\": \"Map\", \"total_articles\": 132596, \"proportion\": 0.006040906211348758}, {\"year\": 1991, \"total_results\": 802, \"ill_type\": \"Map\", \"total_articles\": 131729, \"proportion\": 0.006088256951772199}, {\"year\": 1992, \"total_results\": 754, \"ill_type\": \"Map\", \"total_articles\": 137422, \"proportion\": 0.005486748846618445}, {\"year\": 1993, \"total_results\": 686, \"ill_type\": \"Map\", \"total_articles\": 137978, \"proportion\": 0.004971807099682558}, {\"year\": 1994, \"total_results\": 721, \"ill_type\": \"Map\", \"total_articles\": 133420, \"proportion\": 0.00540398740818468}, {\"year\": 1995, \"total_results\": 652, \"ill_type\": \"Map\", \"total_articles\": 132425, \"proportion\": 0.004923541627336228}, {\"year\": 1996, \"total_results\": 40, \"ill_type\": \"Map\", \"total_articles\": 47101, \"proportion\": 0.0008492388696630644}, {\"year\": 1997, \"total_results\": 58, \"ill_type\": \"Map\", \"total_articles\": 49822, \"proportion\": 0.0011641443538998836}, {\"year\": 1998, \"total_results\": 101, \"ill_type\": \"Map\", \"total_articles\": 56947, \"proportion\": 0.0017735789418230987}, {\"year\": 1999, \"total_results\": 58, \"ill_type\": \"Map\", \"total_articles\": 67005, \"proportion\": 0.0008656070442504291}, {\"year\": 2000, \"total_results\": 34, \"ill_type\": \"Map\", \"total_articles\": 44770, \"proportion\": 0.0007594371230734867}, {\"year\": 2001, \"total_results\": 34, \"ill_type\": \"Map\", \"total_articles\": 42081, \"proportion\": 0.0008079655901713362}, {\"year\": 2002, \"total_results\": 29, \"ill_type\": \"Map\", \"total_articles\": 42631, \"proportion\": 0.0006802561516267505}, {\"year\": 2003, \"total_results\": 23, \"ill_type\": \"Map\", \"total_articles\": 24075, \"proportion\": 0.0009553478712357217}, {\"year\": 2004, \"total_results\": 19, \"ill_type\": \"Map\", \"total_articles\": 22072, \"proportion\": 0.0008608191373686118}, {\"year\": 2005, \"total_results\": 15, \"ill_type\": \"Map\", \"total_articles\": 18071, \"proportion\": 0.0008300592108903768}, {\"year\": 2006, \"total_results\": 18, \"ill_type\": \"Map\", \"total_articles\": 17708, \"proportion\": 0.0010164897221594759}, {\"year\": 2007, \"total_results\": 14, \"ill_type\": \"Map\", \"total_articles\": 18719, \"proportion\": 0.0007479031999572627}, {\"year\": 2008, \"total_results\": 10, \"ill_type\": \"Map\", \"total_articles\": 17059, \"proportion\": 0.000586200832405182}, {\"year\": 2009, \"total_results\": 6, \"ill_type\": \"Map\", \"total_articles\": 5762, \"proportion\": 0.0010413051023950017}, {\"year\": 2010, \"total_results\": 7, \"ill_type\": \"Map\", \"total_articles\": 5794, \"proportion\": 0.0012081463583016915}, {\"year\": 2011, \"total_results\": 4, \"ill_type\": \"Map\", \"total_articles\": 5386, \"proportion\": 0.0007426661715558856}, {\"year\": 2012, \"total_results\": 6, \"ill_type\": \"Map\", \"total_articles\": 4832, \"proportion\": 0.0012417218543046358}, {\"year\": 2013, \"total_results\": 7, \"ill_type\": \"Map\", \"total_articles\": 4904, \"proportion\": 0.0014274061990212073}, {\"year\": 2014, \"total_results\": 23, \"ill_type\": \"Map\", \"total_articles\": 4718, \"proportion\": 0.004874947011445528}, {\"year\": 2015, \"total_results\": 8, \"ill_type\": \"Map\", \"total_articles\": 4819, \"proportion\": 0.0016600954554886907}, {\"year\": 2017, \"total_results\": 1, \"ill_type\": \"Map\", \"total_articles\": 1094, \"proportion\": 0.0009140767824497258}, {\"year\": 1833, \"total_results\": 1, \"ill_type\": \"Graph\", \"total_articles\": 15622, \"proportion\": 6.401229035974907e-05}, {\"year\": 1840, \"total_results\": 2, \"ill_type\": \"Graph\", \"total_articles\": 42411, \"proportion\": 4.715757704369149e-05}, {\"year\": 1841, \"total_results\": 1, \"ill_type\": \"Graph\", \"total_articles\": 46377, \"proportion\": 2.1562412402699614e-05}, {\"year\": 1844, \"total_results\": 2, \"ill_type\": \"Graph\", \"total_articles\": 54331, \"proportion\": 3.68113968084519e-05}, {\"year\": 1855, \"total_results\": 1, \"ill_type\": \"Graph\", \"total_articles\": 159947, \"proportion\": 6.2520709985182595e-06}, {\"year\": 1858, \"total_results\": 1, \"ill_type\": \"Graph\", \"total_articles\": 178765, \"proportion\": 5.593936173188264e-06}, {\"year\": 1859, \"total_results\": 1, \"ill_type\": \"Graph\", \"total_articles\": 202996, \"proportion\": 4.926205442471773e-06}, {\"year\": 1863, \"total_results\": 1, \"ill_type\": \"Graph\", \"total_articles\": 251706, \"proportion\": 3.972889005426967e-06}, {\"year\": 1870, \"total_results\": 2, \"ill_type\": \"Graph\", \"total_articles\": 373286, \"proportion\": 5.357822152451472e-06}, {\"year\": 1871, \"total_results\": 2, \"ill_type\": \"Graph\", \"total_articles\": 359781, \"proportion\": 5.5589372423780025e-06}, {\"year\": 1873, \"total_results\": 1, \"ill_type\": \"Graph\", \"total_articles\": 420951, \"proportion\": 2.3755734040303977e-06}, {\"year\": 1874, \"total_results\": 4, \"ill_type\": \"Graph\", \"total_articles\": 436788, \"proportion\": 9.157760744342794e-06}, {\"year\": 1875, \"total_results\": 2, \"ill_type\": \"Graph\", \"total_articles\": 466891, \"proportion\": 4.2836550715263305e-06}, {\"year\": 1876, \"total_results\": 1, \"ill_type\": \"Graph\", \"total_articles\": 477911, \"proportion\": 2.0924398057378885e-06}, {\"year\": 1877, \"total_results\": 2, \"ill_type\": \"Graph\", \"total_articles\": 499944, \"proportion\": 4.00044805018162e-06}, {\"year\": 1880, \"total_results\": 4, \"ill_type\": \"Graph\", \"total_articles\": 624376, \"proportion\": 6.406396145912078e-06}, {\"year\": 1881, \"total_results\": 103, \"ill_type\": \"Graph\", \"total_articles\": 667930, \"proportion\": 0.00015420777626397975}, {\"year\": 1882, \"total_results\": 143, \"ill_type\": \"Graph\", \"total_articles\": 745914, \"proportion\": 0.0001917111087873401}, {\"year\": 1883, \"total_results\": 87, \"ill_type\": \"Graph\", \"total_articles\": 778865, \"proportion\": 0.00011170100081528891}, {\"year\": 1884, \"total_results\": 33, \"ill_type\": \"Graph\", \"total_articles\": 858553, \"proportion\": 3.843676511525788e-05}, {\"year\": 1885, \"total_results\": 107, \"ill_type\": \"Graph\", \"total_articles\": 911515, \"proportion\": 0.00011738698759757108}, {\"year\": 1886, \"total_results\": 114, \"ill_type\": \"Graph\", \"total_articles\": 994828, \"proportion\": 0.00011459267330634039}, {\"year\": 1887, \"total_results\": 144, \"ill_type\": \"Graph\", \"total_articles\": 1043492, \"proportion\": 0.0001379981830239235}, {\"year\": 1888, \"total_results\": 107, \"ill_type\": \"Graph\", \"total_articles\": 1162025, \"proportion\": 9.208063509821218e-05}, {\"year\": 1889, \"total_results\": 110, \"ill_type\": \"Graph\", \"total_articles\": 1252262, \"proportion\": 8.78410428488607e-05}, {\"year\": 1890, \"total_results\": 347, \"ill_type\": \"Graph\", \"total_articles\": 1357654, \"proportion\": 0.0002555879480338879}, {\"year\": 1891, \"total_results\": 350, \"ill_type\": \"Graph\", \"total_articles\": 1429274, \"proportion\": 0.0002448795682283453}, {\"year\": 1892, \"total_results\": 183, \"ill_type\": \"Graph\", \"total_articles\": 1486705, \"proportion\": 0.00012309099653260062}, {\"year\": 1893, \"total_results\": 289, \"ill_type\": \"Graph\", \"total_articles\": 1510849, \"proportion\": 0.00019128317919262614}, {\"year\": 1894, \"total_results\": 16, \"ill_type\": \"Graph\", \"total_articles\": 1560809, \"proportion\": 1.025109414412654e-05}, {\"year\": 1895, \"total_results\": 21, \"ill_type\": \"Graph\", \"total_articles\": 1678554, \"proportion\": 1.2510768196912343e-05}, {\"year\": 1896, \"total_results\": 29, \"ill_type\": \"Graph\", \"total_articles\": 1798582, \"proportion\": 1.6123813092758627e-05}, {\"year\": 1897, \"total_results\": 61, \"ill_type\": \"Graph\", \"total_articles\": 1918088, \"proportion\": 3.1802503326229035e-05}, {\"year\": 1898, \"total_results\": 92, \"ill_type\": \"Graph\", \"total_articles\": 2141840, \"proportion\": 4.295372203339185e-05}, {\"year\": 1899, \"total_results\": 153, \"ill_type\": \"Graph\", \"total_articles\": 2308829, \"proportion\": 6.626735890791392e-05}, {\"year\": 1900, \"total_results\": 188, \"ill_type\": \"Graph\", \"total_articles\": 2539736, \"proportion\": 7.402344180654997e-05}, {\"year\": 1901, \"total_results\": 63, \"ill_type\": \"Graph\", \"total_articles\": 2618191, \"proportion\": 2.406241561444524e-05}, {\"year\": 1902, \"total_results\": 56, \"ill_type\": \"Graph\", \"total_articles\": 2674429, \"proportion\": 2.093904904560936e-05}, {\"year\": 1903, \"total_results\": 53, \"ill_type\": \"Graph\", \"total_articles\": 2713889, \"proportion\": 1.9529170131866117e-05}, {\"year\": 1904, \"total_results\": 175, \"ill_type\": \"Graph\", \"total_articles\": 2878677, \"proportion\": 6.079181512896376e-05}, {\"year\": 1905, \"total_results\": 368, \"ill_type\": \"Graph\", \"total_articles\": 3009076, \"proportion\": 0.00012229667844879956}, {\"year\": 1906, \"total_results\": 417, \"ill_type\": \"Graph\", \"total_articles\": 3057500, \"proportion\": 0.00013638593622240393}, {\"year\": 1907, \"total_results\": 404, \"ill_type\": \"Graph\", \"total_articles\": 3205575, \"proportion\": 0.0001260304313578687}, {\"year\": 1908, \"total_results\": 418, \"ill_type\": \"Graph\", \"total_articles\": 3314151, \"proportion\": 0.00012612581623468573}, {\"year\": 1909, \"total_results\": 521, \"ill_type\": \"Graph\", \"total_articles\": 3379982, \"proportion\": 0.0001541428327133103}, {\"year\": 1910, \"total_results\": 452, \"ill_type\": \"Graph\", \"total_articles\": 3613826, \"proportion\": 0.00012507519731165805}, {\"year\": 1911, \"total_results\": 474, \"ill_type\": \"Graph\", \"total_articles\": 3740413, \"proportion\": 0.00012672397406382664}, {\"year\": 1912, \"total_results\": 487, \"ill_type\": \"Graph\", \"total_articles\": 3890753, \"proportion\": 0.00012516857276727666}, {\"year\": 1913, \"total_results\": 542, \"ill_type\": \"Graph\", \"total_articles\": 3957073, \"proportion\": 0.000136969927014235}, {\"year\": 1914, \"total_results\": 560, \"ill_type\": \"Graph\", \"total_articles\": 4654167, \"proportion\": 0.00012032228323564668}, {\"year\": 1915, \"total_results\": 630, \"ill_type\": \"Graph\", \"total_articles\": 4751447, \"proportion\": 0.0001325911874845705}, {\"year\": 1916, \"total_results\": 555, \"ill_type\": \"Graph\", \"total_articles\": 4346277, \"proportion\": 0.00012769549662849377}, {\"year\": 1917, \"total_results\": 490, \"ill_type\": \"Graph\", \"total_articles\": 4239223, \"proportion\": 0.00011558721963907065}, {\"year\": 1918, \"total_results\": 601, \"ill_type\": \"Graph\", \"total_articles\": 4016436, \"proportion\": 0.00014963514917205203}, {\"year\": 1919, \"total_results\": 610, \"ill_type\": \"Graph\", \"total_articles\": 3486517, \"proportion\": 0.00017495970907355392}, {\"year\": 1920, \"total_results\": 390, \"ill_type\": \"Graph\", \"total_articles\": 3237978, \"proportion\": 0.00012044553730754193}, {\"year\": 1921, \"total_results\": 345, \"ill_type\": \"Graph\", \"total_articles\": 3435873, \"proportion\": 0.00010041116187938262}, {\"year\": 1922, \"total_results\": 453, \"ill_type\": \"Graph\", \"total_articles\": 3562135, \"proportion\": 0.00012717092417889833}, {\"year\": 1923, \"total_results\": 423, \"ill_type\": \"Graph\", \"total_articles\": 3828641, \"proportion\": 0.00011048306696814875}, {\"year\": 1924, \"total_results\": 556, \"ill_type\": \"Graph\", \"total_articles\": 4125328, \"proportion\": 0.00013477716196142465}, {\"year\": 1925, \"total_results\": 419, \"ill_type\": \"Graph\", \"total_articles\": 4086958, \"proportion\": 0.00010252123951359422}, {\"year\": 1926, \"total_results\": 459, \"ill_type\": \"Graph\", \"total_articles\": 4069533, \"proportion\": 0.0001127893544541843}, {\"year\": 1927, \"total_results\": 471, \"ill_type\": \"Graph\", \"total_articles\": 4126770, \"proportion\": 0.0001141328448156791}, {\"year\": 1928, \"total_results\": 492, \"ill_type\": \"Graph\", \"total_articles\": 4234586, \"proportion\": 0.00011618609233582692}, {\"year\": 1929, \"total_results\": 513, \"ill_type\": \"Graph\", \"total_articles\": 4460722, \"proportion\": 0.00011500380431687964}, {\"year\": 1930, \"total_results\": 497, \"ill_type\": \"Graph\", \"total_articles\": 4315190, \"proportion\": 0.00011517453460913656}, {\"year\": 1931, \"total_results\": 612, \"ill_type\": \"Graph\", \"total_articles\": 3941724, \"proportion\": 0.0001552620122565659}, {\"year\": 1932, \"total_results\": 953, \"ill_type\": \"Graph\", \"total_articles\": 3890710, \"proportion\": 0.00024494243981175673}, {\"year\": 1933, \"total_results\": 1125, \"ill_type\": \"Graph\", \"total_articles\": 4069854, \"proportion\": 0.0002764226923127955}, {\"year\": 1934, \"total_results\": 784, \"ill_type\": \"Graph\", \"total_articles\": 4183589, \"proportion\": 0.00018739890558083024}, {\"year\": 1935, \"total_results\": 697, \"ill_type\": \"Graph\", \"total_articles\": 4271382, \"proportion\": 0.00016317903666775765}, {\"year\": 1936, \"total_results\": 767, \"ill_type\": \"Graph\", \"total_articles\": 4377987, \"proportion\": 0.00017519467280282012}, {\"year\": 1937, \"total_results\": 735, \"ill_type\": \"Graph\", \"total_articles\": 4371925, \"proportion\": 0.00016811816305174494}, {\"year\": 1938, \"total_results\": 837, \"ill_type\": \"Graph\", \"total_articles\": 4359675, \"proportion\": 0.0001919867880059867}, {\"year\": 1939, \"total_results\": 768, \"ill_type\": \"Graph\", \"total_articles\": 4140014, \"proportion\": 0.00018550661905974232}, {\"year\": 1940, \"total_results\": 406, \"ill_type\": \"Graph\", \"total_articles\": 3497071, \"proportion\": 0.00011609715673487899}, {\"year\": 1941, \"total_results\": 180, \"ill_type\": \"Graph\", \"total_articles\": 3082401, \"proportion\": 5.839603607707109e-05}, {\"year\": 1942, \"total_results\": 125, \"ill_type\": \"Graph\", \"total_articles\": 2470102, \"proportion\": 5.0605197680095804e-05}, {\"year\": 1943, \"total_results\": 139, \"ill_type\": \"Graph\", \"total_articles\": 2191842, \"proportion\": 6.341697987354928e-05}, {\"year\": 1944, \"total_results\": 146, \"ill_type\": \"Graph\", \"total_articles\": 2233365, \"proportion\": 6.537220740899942e-05}, {\"year\": 1945, \"total_results\": 433, \"ill_type\": \"Graph\", \"total_articles\": 2412554, \"proportion\": 0.00017947784795697836}, {\"year\": 1946, \"total_results\": 348, \"ill_type\": \"Graph\", \"total_articles\": 2748052, \"proportion\": 0.00012663515828666998}, {\"year\": 1947, \"total_results\": 330, \"ill_type\": \"Graph\", \"total_articles\": 2851317, \"proportion\": 0.00011573599147341387}, {\"year\": 1948, \"total_results\": 271, \"ill_type\": \"Graph\", \"total_articles\": 2610229, \"proportion\": 0.00010382230831088001}, {\"year\": 1949, \"total_results\": 419, \"ill_type\": \"Graph\", \"total_articles\": 2867051, \"proportion\": 0.00014614319731319744}, {\"year\": 1950, \"total_results\": 406, \"ill_type\": \"Graph\", \"total_articles\": 2812464, \"proportion\": 0.0001443574033303182}, {\"year\": 1951, \"total_results\": 267, \"ill_type\": \"Graph\", \"total_articles\": 2554766, \"proportion\": 0.00010451055008560471}, {\"year\": 1952, \"total_results\": 408, \"ill_type\": \"Graph\", \"total_articles\": 2608800, \"proportion\": 0.00015639374425023}, {\"year\": 1953, \"total_results\": 401, \"ill_type\": \"Graph\", \"total_articles\": 2755677, \"proportion\": 0.00014551778020428373}, {\"year\": 1954, \"total_results\": 470, \"ill_type\": \"Graph\", \"total_articles\": 2787339, \"proportion\": 0.0001686196045762643}, {\"year\": 1955, \"total_results\": 17, \"ill_type\": \"Graph\", \"total_articles\": 279909, \"proportion\": 6.0734024272174174e-05}, {\"year\": 1956, \"total_results\": 10, \"ill_type\": \"Graph\", \"total_articles\": 199416, \"proportion\": 5.014642756850002e-05}, {\"year\": 1957, \"total_results\": 3, \"ill_type\": \"Graph\", \"total_articles\": 126201, \"proportion\": 2.377160244372073e-05}, {\"year\": 1958, \"total_results\": 5, \"ill_type\": \"Graph\", \"total_articles\": 126115, \"proportion\": 3.96463545177021e-05}, {\"year\": 1959, \"total_results\": 4, \"ill_type\": \"Graph\", \"total_articles\": 121259, \"proportion\": 3.298724218408531e-05}, {\"year\": 1961, \"total_results\": 1, \"ill_type\": \"Graph\", \"total_articles\": 109239, \"proportion\": 9.154239786156958e-06}, {\"year\": 1962, \"total_results\": 10, \"ill_type\": \"Graph\", \"total_articles\": 108575, \"proportion\": 9.210223347916187e-05}, {\"year\": 1963, \"total_results\": 1, \"ill_type\": \"Graph\", \"total_articles\": 118702, \"proportion\": 8.424457886135027e-06}, {\"year\": 1964, \"total_results\": 9, \"ill_type\": \"Graph\", \"total_articles\": 120392, \"proportion\": 7.475579772742375e-05}, {\"year\": 1965, \"total_results\": 32, \"ill_type\": \"Graph\", \"total_articles\": 126432, \"proportion\": 0.0002531004808909137}, {\"year\": 1966, \"total_results\": 46, \"ill_type\": \"Graph\", \"total_articles\": 123452, \"proportion\": 0.00037261445744094873}, {\"year\": 1967, \"total_results\": 112, \"ill_type\": \"Graph\", \"total_articles\": 118503, \"proportion\": 0.000945123752141296}, {\"year\": 1968, \"total_results\": 93, \"ill_type\": \"Graph\", \"total_articles\": 124919, \"proportion\": 0.000744482424611148}, {\"year\": 1969, \"total_results\": 81, \"ill_type\": \"Graph\", \"total_articles\": 151689, \"proportion\": 0.0005339873029685738}, {\"year\": 1970, \"total_results\": 92, \"ill_type\": \"Graph\", \"total_articles\": 166785, \"proportion\": 0.0005516083580657733}, {\"year\": 1971, \"total_results\": 84, \"ill_type\": \"Graph\", \"total_articles\": 165077, \"proportion\": 0.0005088534441503056}, {\"year\": 1972, \"total_results\": 59, \"ill_type\": \"Graph\", \"total_articles\": 164687, \"proportion\": 0.00035825535713201404}, {\"year\": 1973, \"total_results\": 41, \"ill_type\": \"Graph\", \"total_articles\": 161814, \"proportion\": 0.00025337733447044136}, {\"year\": 1974, \"total_results\": 34, \"ill_type\": \"Graph\", \"total_articles\": 159025, \"proportion\": 0.0002138028611853482}, {\"year\": 1975, \"total_results\": 17, \"ill_type\": \"Graph\", \"total_articles\": 148204, \"proportion\": 0.00011470675555315647}, {\"year\": 1976, \"total_results\": 22, \"ill_type\": \"Graph\", \"total_articles\": 148816, \"proportion\": 0.00014783356628319535}, {\"year\": 1977, \"total_results\": 19, \"ill_type\": \"Graph\", \"total_articles\": 151194, \"proportion\": 0.00012566636242178922}, {\"year\": 1978, \"total_results\": 28, \"ill_type\": \"Graph\", \"total_articles\": 159199, \"proportion\": 0.00017588050176194574}, {\"year\": 1979, \"total_results\": 66, \"ill_type\": \"Graph\", \"total_articles\": 167101, \"proportion\": 0.00039497070633927984}, {\"year\": 1980, \"total_results\": 31, \"ill_type\": \"Graph\", \"total_articles\": 165664, \"proportion\": 0.00018712574850299402}, {\"year\": 1981, \"total_results\": 12, \"ill_type\": \"Graph\", \"total_articles\": 142781, \"proportion\": 8.404479587620202e-05}, {\"year\": 1982, \"total_results\": 21, \"ill_type\": \"Graph\", \"total_articles\": 130222, \"proportion\": 0.00016126307382777105}, {\"year\": 1983, \"total_results\": 10, \"ill_type\": \"Graph\", \"total_articles\": 117491, \"proportion\": 8.511290226485432e-05}, {\"year\": 1984, \"total_results\": 34, \"ill_type\": \"Graph\", \"total_articles\": 118615, \"proportion\": 0.00028664165577709395}, {\"year\": 1985, \"total_results\": 41, \"ill_type\": \"Graph\", \"total_articles\": 128586, \"proportion\": 0.00031885275224363463}, {\"year\": 1986, \"total_results\": 37, \"ill_type\": \"Graph\", \"total_articles\": 128312, \"proportion\": 0.0002883596234179188}, {\"year\": 1987, \"total_results\": 62, \"ill_type\": \"Graph\", \"total_articles\": 127591, \"proportion\": 0.00048592769082458795}, {\"year\": 1988, \"total_results\": 79, \"ill_type\": \"Graph\", \"total_articles\": 136944, \"proportion\": 0.0005768781399696227}, {\"year\": 1989, \"total_results\": 137, \"ill_type\": \"Graph\", \"total_articles\": 140206, \"proportion\": 0.0009771336462062964}, {\"year\": 1990, \"total_results\": 232, \"ill_type\": \"Graph\", \"total_articles\": 132596, \"proportion\": 0.0017496757066578178}, {\"year\": 1991, \"total_results\": 331, \"ill_type\": \"Graph\", \"total_articles\": 131729, \"proportion\": 0.002512734477601743}, {\"year\": 1992, \"total_results\": 353, \"ill_type\": \"Graph\", \"total_articles\": 137422, \"proportion\": 0.0025687298976874154}, {\"year\": 1993, \"total_results\": 583, \"ill_type\": \"Graph\", \"total_articles\": 137978, \"proportion\": 0.004225311281508646}, {\"year\": 1994, \"total_results\": 629, \"ill_type\": \"Graph\", \"total_articles\": 133420, \"proportion\": 0.004714435616849048}, {\"year\": 1995, \"total_results\": 546, \"ill_type\": \"Graph\", \"total_articles\": 132425, \"proportion\": 0.004123088540683406}, {\"year\": 1996, \"total_results\": 32, \"ill_type\": \"Graph\", \"total_articles\": 47101, \"proportion\": 0.0006793910957304516}, {\"year\": 1997, \"total_results\": 17, \"ill_type\": \"Graph\", \"total_articles\": 49822, \"proportion\": 0.0003412147244189314}, {\"year\": 1998, \"total_results\": 24, \"ill_type\": \"Graph\", \"total_articles\": 56947, \"proportion\": 0.000421444501027271}, {\"year\": 1999, \"total_results\": 22, \"ill_type\": \"Graph\", \"total_articles\": 67005, \"proportion\": 0.00032833370643981793}, {\"year\": 2000, \"total_results\": 13, \"ill_type\": \"Graph\", \"total_articles\": 44770, \"proportion\": 0.0002903730176457449}, {\"year\": 2001, \"total_results\": 25, \"ill_type\": \"Graph\", \"total_articles\": 42081, \"proportion\": 0.0005940923457142178}, {\"year\": 2002, \"total_results\": 15, \"ill_type\": \"Graph\", \"total_articles\": 42631, \"proportion\": 0.0003518566301517675}, {\"year\": 2003, \"total_results\": 8, \"ill_type\": \"Graph\", \"total_articles\": 24075, \"proportion\": 0.0003322949117341641}, {\"year\": 2004, \"total_results\": 9, \"ill_type\": \"Graph\", \"total_articles\": 22072, \"proportion\": 0.00040775643349039506}, {\"year\": 2005, \"total_results\": 3, \"ill_type\": \"Graph\", \"total_articles\": 18071, \"proportion\": 0.00016601184217807536}, {\"year\": 2006, \"total_results\": 5, \"ill_type\": \"Graph\", \"total_articles\": 17708, \"proportion\": 0.00028235825615541}, {\"year\": 2007, \"total_results\": 5, \"ill_type\": \"Graph\", \"total_articles\": 18719, \"proportion\": 0.0002671082856990224}, {\"year\": 2008, \"total_results\": 8, \"ill_type\": \"Graph\", \"total_articles\": 17059, \"proportion\": 0.0004689606659241456}, {\"year\": 2009, \"total_results\": 1, \"ill_type\": \"Graph\", \"total_articles\": 5762, \"proportion\": 0.00017355085039916696}, {\"year\": 2011, \"total_results\": 1, \"ill_type\": \"Graph\", \"total_articles\": 5386, \"proportion\": 0.0001856665428889714}, {\"year\": 2012, \"total_results\": 1, \"ill_type\": \"Graph\", \"total_articles\": 4832, \"proportion\": 0.00020695364238410596}, {\"year\": 2014, \"total_results\": 2, \"ill_type\": \"Graph\", \"total_articles\": 4718, \"proportion\": 0.000423908435777872}, {\"year\": 2015, \"total_results\": 1, \"ill_type\": \"Graph\", \"total_articles\": 4819, \"proportion\": 0.00020751193193608634}]}}, {\"mode\": \"vega-lite\"});\n",
       "</script>"
      ],
      "text/plain": [
       "alt.VConcatChart(...)"
      ]
     },
     "execution_count": 37,
     "metadata": {},
     "output_type": "execute_result"
    }
   ],
   "source": [
    "# Make total results chart\n",
    "chart9 = make_chart_totals(df_illtypes_merged, \"ill_type\", \"Type\")\n",
    "\n",
    "# Make proportions chart\n",
    "chart10 = make_chart_proportions(df_illtypes_merged, \"ill_type\", \"Type\")\n",
    "\n",
    "# Shorthand way of concatenating the two charts (note there's only one legend)\n",
    "chart9 & chart10"
   ]
  },
  {
   "cell_type": "markdown",
   "metadata": {},
   "source": [
    "And there we have it – interesting to see the rapid increase in photos from the 1920s on."
   ]
  },
  {
   "cell_type": "markdown",
   "metadata": {},
   "source": [
    "## 9. But what are we searching?\n",
    "\n",
    "We've seen that we can visualise Trove search results over time in a number of different ways. But what are we actually searching? In the last example, exploring illustration types, we sliced up the complete collection of Trove newspaper articles using the `ill_type` facet. This is a metadata field whose value is set by the people who processed the articles. It should be consistent, but we can't take these sorts of things for granted. Let's look at all the values in the `illtype` field."
   ]
  },
  {
   "cell_type": "code",
   "execution_count": 38,
   "metadata": {},
   "outputs": [
    {
     "data": {
      "text/html": [
       "<div>\n",
       "<style scoped>\n",
       "    .dataframe tbody tr th:only-of-type {\n",
       "        vertical-align: middle;\n",
       "    }\n",
       "\n",
       "    .dataframe tbody tr th {\n",
       "        vertical-align: top;\n",
       "    }\n",
       "\n",
       "    .dataframe thead th {\n",
       "        text-align: right;\n",
       "    }\n",
       "</style>\n",
       "<table border=\"1\" class=\"dataframe\">\n",
       "  <thead>\n",
       "    <tr style=\"text-align: right;\">\n",
       "      <th></th>\n",
       "      <th>ill_type</th>\n",
       "      <th>total_results</th>\n",
       "    </tr>\n",
       "  </thead>\n",
       "  <tbody>\n",
       "    <tr>\n",
       "      <th>0</th>\n",
       "      <td>Photo</td>\n",
       "      <td>6209770</td>\n",
       "    </tr>\n",
       "    <tr>\n",
       "      <th>1</th>\n",
       "      <td>Illustration</td>\n",
       "      <td>2724048</td>\n",
       "    </tr>\n",
       "    <tr>\n",
       "      <th>2</th>\n",
       "      <td>Cartoon</td>\n",
       "      <td>843536</td>\n",
       "    </tr>\n",
       "    <tr>\n",
       "      <th>3</th>\n",
       "      <td>Map</td>\n",
       "      <td>300771</td>\n",
       "    </tr>\n",
       "    <tr>\n",
       "      <th>4</th>\n",
       "      <td>Cartoons</td>\n",
       "      <td>57561</td>\n",
       "    </tr>\n",
       "    <tr>\n",
       "      <th>5</th>\n",
       "      <td>Graph</td>\n",
       "      <td>31842</td>\n",
       "    </tr>\n",
       "    <tr>\n",
       "      <th>6</th>\n",
       "      <td>Chart</td>\n",
       "      <td>20</td>\n",
       "    </tr>\n",
       "    <tr>\n",
       "      <th>7</th>\n",
       "      <td>Unknown</td>\n",
       "      <td>9</td>\n",
       "    </tr>\n",
       "    <tr>\n",
       "      <th>8</th>\n",
       "      <td>Diagram</td>\n",
       "      <td>5</td>\n",
       "    </tr>\n",
       "  </tbody>\n",
       "</table>\n",
       "</div>"
      ],
      "text/plain": [
       "       ill_type  total_results\n",
       "0         Photo        6209770\n",
       "1  Illustration        2724048\n",
       "2       Cartoon         843536\n",
       "3           Map         300771\n",
       "4      Cartoons          57561\n",
       "5         Graph          31842\n",
       "6         Chart             20\n",
       "7       Unknown              9\n",
       "8       Diagram              5"
      ]
     },
     "execution_count": 38,
     "metadata": {},
     "output_type": "execute_result"
    }
   ],
   "source": [
    "ill_params = params.copy()\n",
    "\n",
    "# No query! Set q to a single space for everything\n",
    "ill_params[\"q\"] = \" \"\n",
    "\n",
    "# Set the illustrated facet to true - necessary before setting ill_type\n",
    "ill_params[\"l-illustrated\"] = \"true\"\n",
    "ill_params[\"facet\"] = \"illtype\"\n",
    "data = get_results(ill_params)\n",
    "facets = []\n",
    "for term in data[\"response\"][\"zone\"][0][\"facets\"][\"facet\"][\"term\"]:\n",
    "    # Get the state and the number of results, and convert it to integers, before adding to our results\n",
    "    facets.append({\"ill_type\": term[\"search\"], \"total_results\": int(term[\"count\"])})\n",
    "df_ill_types = pd.DataFrame(facets)\n",
    "df_ill_types"
   ]
  },
  {
   "cell_type": "markdown",
   "metadata": {},
   "source": [
    "It's pretty consistent, but why are there entries both for 'Cartoon' and 'Cartoons'? In the past I've noticed variations in capitalisation amongst the facet values, but fortunately these seem to have been fixed. The point is that we can't take search results for granted – we have to think about how they are created.\n",
    "\n",
    "Just as working with the Trove API enables us to view search results in different ways, so we can turn the search results against themselves to reveal some of their limitations and inconsistencies. In most of the examples above we're searching the full text of the newspaper articles for specific terms. The full text has been extracted from page images using Optical Character Recognition. The results are far from perfect, and Trove users help to correct errors. But many errors remain, and all the visualisations we've created will have been affected by them. Some articles will be missing. While we can't do much directly to improve the results, we can investigate whether the OCR errors are evenly distributed across the collection – do certain time periods, or newspapers have higher error rates?\n",
    "\n",
    "As a final example, let's what we can find out about the variation of OCR errors over time. We'll do this by searching for a very common OCR error – 'tbe'. This is of course meant to be 'the'. This is hardly a perfect measure of OCR accuracy, but it is something we can easily measure. How does the frequency of 'tbe' change over time?"
   ]
  },
  {
   "cell_type": "code",
   "execution_count": 39,
   "metadata": {},
   "outputs": [],
   "source": [
    "params[\"q\"] = 'text:\"tbe\"~0'\n",
    "\n",
    "ocr_facets = get_facet_data(params)"
   ]
  },
  {
   "cell_type": "code",
   "execution_count": 40,
   "metadata": {},
   "outputs": [],
   "source": [
    "df_ocr = pd.DataFrame(ocr_facets)\n",
    "df_ocr_merged = merge_df_with_total(df_ocr, df_total)"
   ]
  },
  {
   "cell_type": "code",
   "execution_count": 41,
   "metadata": {},
   "outputs": [
    {
     "data": {
      "text/html": [
       "\n",
       "<div id=\"altair-viz-4e002182133840fa906310c351b5cd30\"></div>\n",
       "<script type=\"text/javascript\">\n",
       "  var VEGA_DEBUG = (typeof VEGA_DEBUG == \"undefined\") ? {} : VEGA_DEBUG;\n",
       "  (function(spec, embedOpt){\n",
       "    let outputDiv = document.currentScript.previousElementSibling;\n",
       "    if (outputDiv.id !== \"altair-viz-4e002182133840fa906310c351b5cd30\") {\n",
       "      outputDiv = document.getElementById(\"altair-viz-4e002182133840fa906310c351b5cd30\");\n",
       "    }\n",
       "    const paths = {\n",
       "      \"vega\": \"https://cdn.jsdelivr.net/npm//vega@5?noext\",\n",
       "      \"vega-lib\": \"https://cdn.jsdelivr.net/npm//vega-lib?noext\",\n",
       "      \"vega-lite\": \"https://cdn.jsdelivr.net/npm//vega-lite@4.17.0?noext\",\n",
       "      \"vega-embed\": \"https://cdn.jsdelivr.net/npm//vega-embed@6?noext\",\n",
       "    };\n",
       "\n",
       "    function maybeLoadScript(lib, version) {\n",
       "      var key = `${lib.replace(\"-\", \"\")}_version`;\n",
       "      return (VEGA_DEBUG[key] == version) ?\n",
       "        Promise.resolve(paths[lib]) :\n",
       "        new Promise(function(resolve, reject) {\n",
       "          var s = document.createElement('script');\n",
       "          document.getElementsByTagName(\"head\")[0].appendChild(s);\n",
       "          s.async = true;\n",
       "          s.onload = () => {\n",
       "            VEGA_DEBUG[key] = version;\n",
       "            return resolve(paths[lib]);\n",
       "          };\n",
       "          s.onerror = () => reject(`Error loading script: ${paths[lib]}`);\n",
       "          s.src = paths[lib];\n",
       "        });\n",
       "    }\n",
       "\n",
       "    function showError(err) {\n",
       "      outputDiv.innerHTML = `<div class=\"error\" style=\"color:red;\">${err}</div>`;\n",
       "      throw err;\n",
       "    }\n",
       "\n",
       "    function displayChart(vegaEmbed) {\n",
       "      vegaEmbed(outputDiv, spec, embedOpt)\n",
       "        .catch(err => showError(`Javascript Error: ${err.message}<br>This usually means there's a typo in your chart specification. See the javascript console for the full traceback.`));\n",
       "    }\n",
       "\n",
       "    if(typeof define === \"function\" && define.amd) {\n",
       "      requirejs.config({paths});\n",
       "      require([\"vega-embed\"], displayChart, err => showError(`Error loading script: ${err.message}`));\n",
       "    } else {\n",
       "      maybeLoadScript(\"vega\", \"5\")\n",
       "        .then(() => maybeLoadScript(\"vega-lite\", \"4.17.0\"))\n",
       "        .then(() => maybeLoadScript(\"vega-embed\", \"6\"))\n",
       "        .catch(showError)\n",
       "        .then(() => displayChart(vegaEmbed));\n",
       "    }\n",
       "  })({\"config\": {\"view\": {\"continuousWidth\": 400, \"continuousHeight\": 300}}, \"data\": {\"name\": \"data-464ae67ffc994c45d9f38ca1ae29d5a4\"}, \"mark\": {\"type\": \"line\", \"point\": true}, \"encoding\": {\"tooltip\": [{\"field\": \"year\", \"title\": \"Year\", \"type\": \"quantitative\"}, {\"field\": \"proportion\", \"format\": \"%\", \"title\": \"Proportion\", \"type\": \"quantitative\"}], \"x\": {\"axis\": {\"format\": \"c\", \"title\": \"Year\"}, \"field\": \"year\", \"type\": \"quantitative\"}, \"y\": {\"axis\": {\"format\": \"%\", \"title\": \"Proportion of articles\"}, \"field\": \"proportion\", \"type\": \"quantitative\"}}, \"height\": 400, \"width\": 700, \"$schema\": \"https://vega.github.io/schema/vega-lite/v4.17.0.json\", \"datasets\": {\"data-464ae67ffc994c45d9f38ca1ae29d5a4\": [{\"year\": 1804, \"total_results\": 1, \"total_articles\": 619, \"proportion\": 0.0016155088852988692}, {\"year\": 1806, \"total_results\": 1, \"total_articles\": 367, \"proportion\": 0.0027247956403269754}, {\"year\": 1807, \"total_results\": 1, \"total_articles\": 134, \"proportion\": 0.007462686567164179}, {\"year\": 1809, \"total_results\": 3, \"total_articles\": 237, \"proportion\": 0.012658227848101266}, {\"year\": 1810, \"total_results\": 2, \"total_articles\": 274, \"proportion\": 0.0072992700729927005}, {\"year\": 1811, \"total_results\": 2, \"total_articles\": 228, \"proportion\": 0.008771929824561403}, {\"year\": 1812, \"total_results\": 2, \"total_articles\": 215, \"proportion\": 0.009302325581395349}, {\"year\": 1813, \"total_results\": 2, \"total_articles\": 234, \"proportion\": 0.008547008547008548}, {\"year\": 1815, \"total_results\": 1, \"total_articles\": 226, \"proportion\": 0.004424778761061947}, {\"year\": 1816, \"total_results\": 2, \"total_articles\": 644, \"proportion\": 0.003105590062111801}, {\"year\": 1817, \"total_results\": 2, \"total_articles\": 1068, \"proportion\": 0.0018726591760299626}, {\"year\": 1818, \"total_results\": 4, \"total_articles\": 1249, \"proportion\": 0.0032025620496397116}, {\"year\": 1819, \"total_results\": 3, \"total_articles\": 1152, \"proportion\": 0.0026041666666666665}, {\"year\": 1820, \"total_results\": 4, \"total_articles\": 1275, \"proportion\": 0.003137254901960784}, {\"year\": 1821, \"total_results\": 4, \"total_articles\": 1005, \"proportion\": 0.003980099502487562}, {\"year\": 1822, \"total_results\": 5, \"total_articles\": 1033, \"proportion\": 0.00484027105517909}, {\"year\": 1823, \"total_results\": 31, \"total_articles\": 1156, \"proportion\": 0.026816608996539794}, {\"year\": 1824, \"total_results\": 44, \"total_articles\": 1646, \"proportion\": 0.026731470230862697}, {\"year\": 1825, \"total_results\": 141, \"total_articles\": 3366, \"proportion\": 0.04188948306595366}, {\"year\": 1826, \"total_results\": 225, \"total_articles\": 5201, \"proportion\": 0.043260911363199386}, {\"year\": 1827, \"total_results\": 423, \"total_articles\": 6618, \"proportion\": 0.06391659111514053}, {\"year\": 1828, \"total_results\": 812, \"total_articles\": 7335, \"proportion\": 0.11070211315610089}, {\"year\": 1829, \"total_results\": 930, \"total_articles\": 8935, \"proportion\": 0.10408505875769446}, {\"year\": 1830, \"total_results\": 1013, \"total_articles\": 8977, \"proportion\": 0.11284393449927593}, {\"year\": 1831, \"total_results\": 1419, \"total_articles\": 10989, \"proportion\": 0.12912912912912913}, {\"year\": 1832, \"total_results\": 1784, \"total_articles\": 14814, \"proportion\": 0.12042662346429053}, {\"year\": 1833, \"total_results\": 2340, \"total_articles\": 15622, \"proportion\": 0.14978875944181283}, {\"year\": 1834, \"total_results\": 2379, \"total_articles\": 18704, \"proportion\": 0.12719204448246366}, {\"year\": 1835, \"total_results\": 2468, \"total_articles\": 20389, \"proportion\": 0.12104566187650204}, {\"year\": 1836, \"total_results\": 1849, \"total_articles\": 20553, \"proportion\": 0.08996253588283949}, {\"year\": 1837, \"total_results\": 2254, \"total_articles\": 21805, \"proportion\": 0.10337078651685393}, {\"year\": 1838, \"total_results\": 2864, \"total_articles\": 25911, \"proportion\": 0.11053220639882676}, {\"year\": 1839, \"total_results\": 4366, \"total_articles\": 32876, \"proportion\": 0.13280204404428764}, {\"year\": 1840, \"total_results\": 5432, \"total_articles\": 42411, \"proportion\": 0.1280799792506661}, {\"year\": 1841, \"total_results\": 6414, \"total_articles\": 46377, \"proportion\": 0.13830131315091532}, {\"year\": 1842, \"total_results\": 5724, \"total_articles\": 47934, \"proportion\": 0.1194141945174615}, {\"year\": 1843, \"total_results\": 5652, \"total_articles\": 49913, \"proportion\": 0.1132370324364394}, {\"year\": 1844, \"total_results\": 6199, \"total_articles\": 54331, \"proportion\": 0.11409692440779666}, {\"year\": 1845, \"total_results\": 8905, \"total_articles\": 63389, \"proportion\": 0.14048178706084652}, {\"year\": 1846, \"total_results\": 10916, \"total_articles\": 62153, \"proportion\": 0.17563110388879055}, {\"year\": 1847, \"total_results\": 9770, \"total_articles\": 62767, \"proportion\": 0.15565504166201985}, {\"year\": 1848, \"total_results\": 10468, \"total_articles\": 63463, \"proportion\": 0.16494650426232607}, {\"year\": 1849, \"total_results\": 9857, \"total_articles\": 62794, \"proportion\": 0.15697359620345894}, {\"year\": 1850, \"total_results\": 10938, \"total_articles\": 81624, \"proportion\": 0.13400470449867685}, {\"year\": 1851, \"total_results\": 9431, \"total_articles\": 96566, \"proportion\": 0.09766377399913014}, {\"year\": 1852, \"total_results\": 8238, \"total_articles\": 79960, \"proportion\": 0.10302651325662832}, {\"year\": 1853, \"total_results\": 10810, \"total_articles\": 96033, \"proportion\": 0.1125654722855685}, {\"year\": 1854, \"total_results\": 14615, \"total_articles\": 118883, \"proportion\": 0.12293599589512377}, {\"year\": 1855, \"total_results\": 14637, \"total_articles\": 159947, \"proportion\": 0.09151156320531176}, {\"year\": 1856, \"total_results\": 16150, \"total_articles\": 168695, \"proportion\": 0.09573490619164765}, {\"year\": 1857, \"total_results\": 23206, \"total_articles\": 175343, \"proportion\": 0.13234631550731993}, {\"year\": 1858, \"total_results\": 29769, \"total_articles\": 178765, \"proportion\": 0.16652588593964143}, {\"year\": 1859, \"total_results\": 36832, \"total_articles\": 202996, \"proportion\": 0.18144199885712034}, {\"year\": 1860, \"total_results\": 44557, \"total_articles\": 214554, \"proportion\": 0.20767266049572602}, {\"year\": 1861, \"total_results\": 43847, \"total_articles\": 237976, \"proportion\": 0.18424967223585573}, {\"year\": 1862, \"total_results\": 47179, \"total_articles\": 244694, \"proportion\": 0.19280816039625}, {\"year\": 1863, \"total_results\": 52669, \"total_articles\": 251706, \"proportion\": 0.2092480910268329}, {\"year\": 1864, \"total_results\": 57166, \"total_articles\": 264282, \"proportion\": 0.21630682377157734}, {\"year\": 1865, \"total_results\": 50711, \"total_articles\": 283302, \"proportion\": 0.17899979527147708}, {\"year\": 1866, \"total_results\": 54817, \"total_articles\": 289342, \"proportion\": 0.18945400252987812}, {\"year\": 1867, \"total_results\": 53902, \"total_articles\": 297136, \"proportion\": 0.18140514781110334}, {\"year\": 1868, \"total_results\": 55156, \"total_articles\": 304914, \"proportion\": 0.18089034940999757}, {\"year\": 1869, \"total_results\": 59283, \"total_articles\": 327192, \"proportion\": 0.18118719284090076}, {\"year\": 1870, \"total_results\": 62633, \"total_articles\": 373286, \"proportion\": 0.1677882374372465}, {\"year\": 1871, \"total_results\": 61904, \"total_articles\": 359781, \"proportion\": 0.1720602255260839}, {\"year\": 1872, \"total_results\": 74946, \"total_articles\": 383784, \"proportion\": 0.19528172096804453}, {\"year\": 1873, \"total_results\": 71511, \"total_articles\": 420951, \"proportion\": 0.1698796296956178}, {\"year\": 1874, \"total_results\": 78502, \"total_articles\": 436788, \"proportion\": 0.1797256334880995}, {\"year\": 1875, \"total_results\": 87410, \"total_articles\": 466891, \"proportion\": 0.18721714490105829}, {\"year\": 1876, \"total_results\": 89749, \"total_articles\": 477911, \"proportion\": 0.18779438012516975}, {\"year\": 1877, \"total_results\": 87400, \"total_articles\": 499944, \"proportion\": 0.1748195797929368}, {\"year\": 1878, \"total_results\": 100581, \"total_articles\": 569203, \"proportion\": 0.17670497168848373}, {\"year\": 1879, \"total_results\": 105188, \"total_articles\": 607530, \"proportion\": 0.1731404210491663}, {\"year\": 1880, \"total_results\": 115663, \"total_articles\": 624376, \"proportion\": 0.18524574935615717}, {\"year\": 1881, \"total_results\": 128864, \"total_articles\": 667930, \"proportion\": 0.19293039689787853}, {\"year\": 1882, \"total_results\": 113724, \"total_articles\": 745914, \"proportion\": 0.15246261633378647}, {\"year\": 1883, \"total_results\": 135747, \"total_articles\": 778865, \"proportion\": 0.17428822709968994}, {\"year\": 1884, \"total_results\": 148880, \"total_articles\": 858553, \"proportion\": 0.17340804819271496}, {\"year\": 1885, \"total_results\": 139039, \"total_articles\": 911515, \"proportion\": 0.15253616232316528}, {\"year\": 1886, \"total_results\": 143667, \"total_articles\": 994828, \"proportion\": 0.1444139087359825}, {\"year\": 1887, \"total_results\": 155348, \"total_articles\": 1043492, \"proportion\": 0.14887320650278105}, {\"year\": 1888, \"total_results\": 183010, \"total_articles\": 1162025, \"proportion\": 0.15749230868526926}, {\"year\": 1889, \"total_results\": 194270, \"total_articles\": 1252262, \"proportion\": 0.15513526722043788}, {\"year\": 1890, \"total_results\": 210717, \"total_articles\": 1357654, \"proportion\": 0.15520670214944307}, {\"year\": 1891, \"total_results\": 195562, \"total_articles\": 1429274, \"proportion\": 0.13682610891963332}, {\"year\": 1892, \"total_results\": 186172, \"total_articles\": 1486705, \"proportion\": 0.12522457380583235}, {\"year\": 1893, \"total_results\": 202379, \"total_articles\": 1510849, \"proportion\": 0.13395051391634769}, {\"year\": 1894, \"total_results\": 226288, \"total_articles\": 1560809, \"proportion\": 0.14498122448038164}, {\"year\": 1895, \"total_results\": 248931, \"total_articles\": 1678554, \"proportion\": 0.14830085895359935}, {\"year\": 1896, \"total_results\": 223553, \"total_articles\": 1798582, \"proportion\": 0.12429402718363688}, {\"year\": 1897, \"total_results\": 267426, \"total_articles\": 1918088, \"proportion\": 0.13942321728721518}, {\"year\": 1898, \"total_results\": 278768, \"total_articles\": 2141840, \"proportion\": 0.1301535128674411}, {\"year\": 1899, \"total_results\": 287186, \"total_articles\": 2308829, \"proportion\": 0.12438599827011874}, {\"year\": 1900, \"total_results\": 297659, \"total_articles\": 2539736, \"proportion\": 0.11720076417391415}, {\"year\": 1901, \"total_results\": 278404, \"total_articles\": 2618191, \"proportion\": 0.10633448820196846}, {\"year\": 1902, \"total_results\": 284035, \"total_articles\": 2674429, \"proportion\": 0.10620397849410099}, {\"year\": 1903, \"total_results\": 284358, \"total_articles\": 2713889, \"proportion\": 0.10477878793126764}, {\"year\": 1904, \"total_results\": 291401, \"total_articles\": 2878677, \"proportion\": 0.10122740411654381}, {\"year\": 1905, \"total_results\": 287112, \"total_articles\": 3009076, \"proportion\": 0.09541533680106451}, {\"year\": 1906, \"total_results\": 264375, \"total_articles\": 3057500, \"proportion\": 0.08646770237121831}, {\"year\": 1907, \"total_results\": 275645, \"total_articles\": 3205575, \"proportion\": 0.08598925309811813}, {\"year\": 1908, \"total_results\": 257286, \"total_articles\": 3314151, \"proportion\": 0.0776325520472664}, {\"year\": 1909, \"total_results\": 258380, \"total_articles\": 3379982, \"proportion\": 0.07644419408150695}, {\"year\": 1910, \"total_results\": 265611, \"total_articles\": 3613826, \"proportion\": 0.07349855803793542}, {\"year\": 1911, \"total_results\": 277682, \"total_articles\": 3740413, \"proportion\": 0.07423832608858968}, {\"year\": 1912, \"total_results\": 291560, \"total_articles\": 3890753, \"proportion\": 0.07493665108013796}, {\"year\": 1913, \"total_results\": 301769, \"total_articles\": 3957073, \"proportion\": 0.0762606603416212}, {\"year\": 1914, \"total_results\": 295005, \"total_articles\": 4654167, \"proportion\": 0.06338513422487849}, {\"year\": 1915, \"total_results\": 287237, \"total_articles\": 4751447, \"proportion\": 0.06045253161826281}, {\"year\": 1916, \"total_results\": 265040, \"total_articles\": 4346277, \"proportion\": 0.06098092689444322}, {\"year\": 1917, \"total_results\": 274707, \"total_articles\": 4239223, \"proportion\": 0.06480126192936772}, {\"year\": 1918, \"total_results\": 251594, \"total_articles\": 4016436, \"proportion\": 0.06264110768850792}, {\"year\": 1919, \"total_results\": 223997, \"total_articles\": 3486517, \"proportion\": 0.06424663926778501}, {\"year\": 1920, \"total_results\": 239217, \"total_articles\": 3237978, \"proportion\": 0.07387851307204682}, {\"year\": 1921, \"total_results\": 278384, \"total_articles\": 3435873, \"proportion\": 0.08102278518443493}, {\"year\": 1922, \"total_results\": 269272, \"total_articles\": 3562135, \"proportion\": 0.07559286776048633}, {\"year\": 1923, \"total_results\": 256697, \"total_articles\": 3828641, \"proportion\": 0.06704650553551508}, {\"year\": 1924, \"total_results\": 249637, \"total_articles\": 4125328, \"proportion\": 0.06051324888590677}, {\"year\": 1925, \"total_results\": 235105, \"total_articles\": 4086958, \"proportion\": 0.057525670682204225}, {\"year\": 1926, \"total_results\": 244677, \"total_articles\": 4069533, \"proportion\": 0.060124097777312535}, {\"year\": 1927, \"total_results\": 241667, \"total_articles\": 4126770, \"proportion\": 0.05856081148210344}, {\"year\": 1928, \"total_results\": 211860, \"total_articles\": 4234586, \"proportion\": 0.050030864882659135}, {\"year\": 1929, \"total_results\": 195805, \"total_articles\": 4460722, \"proportion\": 0.0438953604371669}, {\"year\": 1930, \"total_results\": 167692, \"total_articles\": 4315190, \"proportion\": 0.03886086128304895}, {\"year\": 1931, \"total_results\": 147097, \"total_articles\": 3941724, \"proportion\": 0.0373179349949413}, {\"year\": 1932, \"total_results\": 137289, \"total_articles\": 3890710, \"proportion\": 0.03528636161523218}, {\"year\": 1933, \"total_results\": 134796, \"total_articles\": 4069854, \"proportion\": 0.033120598429329406}, {\"year\": 1934, \"total_results\": 134312, \"total_articles\": 4183589, \"proportion\": 0.03210449209996489}, {\"year\": 1935, \"total_results\": 134542, \"total_articles\": 4271382, \"proportion\": 0.0314984705184411}, {\"year\": 1936, \"total_results\": 115590, \"total_articles\": 4377987, \"proportion\": 0.026402545279371546}, {\"year\": 1937, \"total_results\": 102093, \"total_articles\": 4371925, \"proportion\": 0.023351955946179316}, {\"year\": 1938, \"total_results\": 99333, \"total_articles\": 4359675, \"proportion\": 0.022784496550775}, {\"year\": 1939, \"total_results\": 96699, \"total_articles\": 4140014, \"proportion\": 0.023357167391221383}, {\"year\": 1940, \"total_results\": 82893, \"total_articles\": 3497071, \"proportion\": 0.023703550771488485}, {\"year\": 1941, \"total_results\": 70754, \"total_articles\": 3082401, \"proportion\": 0.022954184092206044}, {\"year\": 1942, \"total_results\": 59853, \"total_articles\": 2470102, \"proportion\": 0.024230983173974194}, {\"year\": 1943, \"total_results\": 54087, \"total_articles\": 2191842, \"proportion\": 0.024676504967055108}, {\"year\": 1944, \"total_results\": 54115, \"total_articles\": 2233365, \"proportion\": 0.024230253451630164}, {\"year\": 1945, \"total_results\": 53894, \"total_articles\": 2412554, \"proportion\": 0.022338981842478966}, {\"year\": 1946, \"total_results\": 56074, \"total_articles\": 2748052, \"proportion\": 0.02040499961427222}, {\"year\": 1947, \"total_results\": 50945, \"total_articles\": 2851317, \"proportion\": 0.01786718207761536}, {\"year\": 1948, \"total_results\": 40671, \"total_articles\": 2610229, \"proportion\": 0.015581391517755722}, {\"year\": 1949, \"total_results\": 43695, \"total_articles\": 2867051, \"proportion\": 0.01524039858377127}, {\"year\": 1950, \"total_results\": 33959, \"total_articles\": 2812464, \"proportion\": 0.012074465664271615}, {\"year\": 1951, \"total_results\": 31360, \"total_articles\": 2554766, \"proportion\": 0.01227509681904331}, {\"year\": 1952, \"total_results\": 31791, \"total_articles\": 2608800, \"proportion\": 0.0121860625574977}, {\"year\": 1953, \"total_results\": 31591, \"total_articles\": 2755677, \"proportion\": 0.011463970559684608}, {\"year\": 1954, \"total_results\": 31271, \"total_articles\": 2787339, \"proportion\": 0.011218943946179493}, {\"year\": 1955, \"total_results\": 2881, \"total_articles\": 279909, \"proportion\": 0.010292630819301988}, {\"year\": 1956, \"total_results\": 1972, \"total_articles\": 199416, \"proportion\": 0.009888875516508204}, {\"year\": 1957, \"total_results\": 1369, \"total_articles\": 126201, \"proportion\": 0.010847774581817893}, {\"year\": 1958, \"total_results\": 1362, \"total_articles\": 126115, \"proportion\": 0.010799666970622051}, {\"year\": 1959, \"total_results\": 969, \"total_articles\": 121259, \"proportion\": 0.007991159419094665}, {\"year\": 1960, \"total_results\": 706, \"total_articles\": 115050, \"proportion\": 0.006136462407648848}, {\"year\": 1961, \"total_results\": 613, \"total_articles\": 109239, \"proportion\": 0.005611548988914215}, {\"year\": 1962, \"total_results\": 522, \"total_articles\": 108575, \"proportion\": 0.00480773658761225}, {\"year\": 1963, \"total_results\": 466, \"total_articles\": 118702, \"proportion\": 0.003925797374938923}, {\"year\": 1964, \"total_results\": 545, \"total_articles\": 120392, \"proportion\": 0.004526878862382883}, {\"year\": 1965, \"total_results\": 395, \"total_articles\": 126432, \"proportion\": 0.0031242090609972157}, {\"year\": 1966, \"total_results\": 387, \"total_articles\": 123452, \"proportion\": 0.003134821631079286}, {\"year\": 1967, \"total_results\": 374, \"total_articles\": 118503, \"proportion\": 0.003156038243757542}, {\"year\": 1968, \"total_results\": 293, \"total_articles\": 124919, \"proportion\": 0.002345519896893187}, {\"year\": 1969, \"total_results\": 319, \"total_articles\": 151689, \"proportion\": 0.0021029870326787045}, {\"year\": 1970, \"total_results\": 408, \"total_articles\": 166785, \"proportion\": 0.0024462631531612555}, {\"year\": 1971, \"total_results\": 474, \"total_articles\": 165077, \"proportion\": 0.0028713872919910103}, {\"year\": 1972, \"total_results\": 528, \"total_articles\": 164687, \"proportion\": 0.0032060818400966684}, {\"year\": 1973, \"total_results\": 753, \"total_articles\": 161814, \"proportion\": 0.004653491045274204}, {\"year\": 1974, \"total_results\": 507, \"total_articles\": 159025, \"proportion\": 0.0031881779594403396}, {\"year\": 1975, \"total_results\": 552, \"total_articles\": 148204, \"proportion\": 0.0037245958273730805}, {\"year\": 1976, \"total_results\": 479, \"total_articles\": 148816, \"proportion\": 0.0032187399204386623}, {\"year\": 1977, \"total_results\": 348, \"total_articles\": 151194, \"proportion\": 0.002301678638041192}, {\"year\": 1978, \"total_results\": 454, \"total_articles\": 159199, \"proportion\": 0.00285177670714012}, {\"year\": 1979, \"total_results\": 544, \"total_articles\": 167101, \"proportion\": 0.0032555161249783067}, {\"year\": 1980, \"total_results\": 472, \"total_articles\": 165664, \"proportion\": 0.0028491404288197796}, {\"year\": 1981, \"total_results\": 349, \"total_articles\": 142781, \"proportion\": 0.002444302813399542}, {\"year\": 1982, \"total_results\": 463, \"total_articles\": 130222, \"proportion\": 0.0035554668182027614}, {\"year\": 1983, \"total_results\": 233, \"total_articles\": 117491, \"proportion\": 0.001983130622771106}, {\"year\": 1984, \"total_results\": 157, \"total_articles\": 118615, \"proportion\": 0.0013236099987354044}, {\"year\": 1985, \"total_results\": 126, \"total_articles\": 128586, \"proportion\": 0.0009798889459194625}, {\"year\": 1986, \"total_results\": 163, \"total_articles\": 128312, \"proportion\": 0.0012703410437059667}, {\"year\": 1987, \"total_results\": 579, \"total_articles\": 127591, \"proportion\": 0.00453793762882962}, {\"year\": 1988, \"total_results\": 597, \"total_articles\": 136944, \"proportion\": 0.0043594461969856295}, {\"year\": 1989, \"total_results\": 426, \"total_articles\": 140206, \"proportion\": 0.0030383863743349074}, {\"year\": 1990, \"total_results\": 446, \"total_articles\": 132596, \"proportion\": 0.0033636007119370115}, {\"year\": 1991, \"total_results\": 409, \"total_articles\": 131729, \"proportion\": 0.003104859218547169}, {\"year\": 1992, \"total_results\": 504, \"total_articles\": 137422, \"proportion\": 0.003667535038057953}, {\"year\": 1993, \"total_results\": 351, \"total_articles\": 137978, \"proportion\": 0.0025438838075635246}, {\"year\": 1994, \"total_results\": 231, \"total_articles\": 133420, \"proportion\": 0.0017313746065057713}, {\"year\": 1995, \"total_results\": 194, \"total_articles\": 132425, \"proportion\": 0.001464980177458939}, {\"year\": 1996, \"total_results\": 52, \"total_articles\": 47101, \"proportion\": 0.0011040105305619838}, {\"year\": 1997, \"total_results\": 66, \"total_articles\": 49822, \"proportion\": 0.0013247159889205572}, {\"year\": 1998, \"total_results\": 47, \"total_articles\": 56947, \"proportion\": 0.0008253288145117389}, {\"year\": 1999, \"total_results\": 102, \"total_articles\": 67005, \"proportion\": 0.0015222744571300648}, {\"year\": 2000, \"total_results\": 55, \"total_articles\": 44770, \"proportion\": 0.0012285012285012285}, {\"year\": 2001, \"total_results\": 29, \"total_articles\": 42081, \"proportion\": 0.0006891471210284927}, {\"year\": 2002, \"total_results\": 22, \"total_articles\": 42631, \"proportion\": 0.000516056390889259}, {\"year\": 2003, \"total_results\": 13, \"total_articles\": 24075, \"proportion\": 0.0005399792315680166}, {\"year\": 2004, \"total_results\": 12, \"total_articles\": 22072, \"proportion\": 0.0005436752446538601}, {\"year\": 2005, \"total_results\": 20, \"total_articles\": 18071, \"proportion\": 0.0011067456145205025}, {\"year\": 2006, \"total_results\": 22, \"total_articles\": 17708, \"proportion\": 0.001242376327083804}, {\"year\": 2007, \"total_results\": 21, \"total_articles\": 18719, \"proportion\": 0.001121854799935894}, {\"year\": 2008, \"total_results\": 21, \"total_articles\": 17059, \"proportion\": 0.0012310217480508822}, {\"year\": 2009, \"total_results\": 3, \"total_articles\": 5762, \"proportion\": 0.0005206525511975009}, {\"year\": 2010, \"total_results\": 4, \"total_articles\": 5794, \"proportion\": 0.0006903693476009665}, {\"year\": 2011, \"total_results\": 1, \"total_articles\": 5386, \"proportion\": 0.0001856665428889714}, {\"year\": 2012, \"total_results\": 4, \"total_articles\": 4832, \"proportion\": 0.0008278145695364238}, {\"year\": 2013, \"total_results\": 2, \"total_articles\": 4904, \"proportion\": 0.0004078303425774878}, {\"year\": 2014, \"total_results\": 2, \"total_articles\": 4718, \"proportion\": 0.000423908435777872}, {\"year\": 2015, \"total_results\": 3, \"total_articles\": 4819, \"proportion\": 0.0006225357958082589}, {\"year\": 2016, \"total_results\": 1, \"total_articles\": 1422, \"proportion\": 0.0007032348804500703}]}}, {\"mode\": \"vega-lite\"});\n",
       "</script>"
      ],
      "text/plain": [
       "alt.Chart(...)"
      ]
     },
     "execution_count": 41,
     "metadata": {},
     "output_type": "execute_result"
    }
   ],
   "source": [
    "alt.Chart(df_ocr_merged).mark_line(point=True).encode(\n",
    "    x=alt.X(\"year:Q\", axis=alt.Axis(format=\"c\", title=\"Year\")),\n",
    "    # This time we're showing the proportion (formatted as a percentage) on the Y axis\n",
    "    y=alt.Y(\"proportion:Q\", axis=alt.Axis(format=\"%\", title=\"Proportion of articles\")),\n",
    "    tooltip=[\n",
    "        alt.Tooltip(\"year:Q\", title=\"Year\"),\n",
    "        alt.Tooltip(\"proportion:Q\", title=\"Proportion\", format=\"%\"),\n",
    "    ],\n",
    ").properties(width=700, height=400)"
   ]
  },
  {
   "cell_type": "markdown",
   "metadata": {},
   "source": [
    "In general, the proportion of articles containing 'tbe' decreases over time. This is perhaps due to improvements in paper, printing technology, or the use of more OCR-friendly fonts. The variations in the period before 1860 seem unusual. Have a greater proportion of these articles been corrected by volunteers? ([Check out this notebook for more on rates of correction.](Analysing_OCR_corrections.ipynb)) There might also be differences as a result of the digitisation process itself – most newspapers were digitised from microfilm, rather than hardcopy. How might that affect the results? Once again, this visualisation doesn't provide answers, but it does suggest some avenues for further investigation. Most importantly though, it suggests ways in which the accuracy of our visualisations might themselves vary over time!\n",
    "\n",
    "One final thing we should consider is that our visualisations all show the *number of articles* that match our search query, **not** the number of times our search terms appear in newspapers. So an article in which a search term appears once has the same value in our visualisation as an article in which a search terms appears 20 times. This might mean that periods of intensive discussion around particular words are being flattened, or even rendered invisible. We can't investigate this using Trove's own search interface. To examine word frequency in greater depth, we need to harvest the text content of all the articles we're interested in and use other tools to analyse their contents. That's what the [Trove Newspaper Harvester](https://glam-workbench.github.io/trove-harvester/) is for!"
   ]
  },
  {
   "cell_type": "markdown",
   "metadata": {},
   "source": [
    "## 10. Next steps\n",
    "\n",
    "Don't just use my examples, try plugging different search terms and facet values into the examples above. \n",
    "\n",
    "If you find something that you'd like to investigate in more detail, you can use the [Trove Newspaper Harvester](https://glam-workbench.github.io/trove-harvester/) to download newspaper articles in bulk. Once you have all the text and metadata, you can explore the articles using a variety of text analysis tools."
   ]
  },
  {
   "cell_type": "markdown",
   "metadata": {},
   "source": [
    "## 11. Related resources"
   ]
  },
  {
   "cell_type": "markdown",
   "metadata": {},
   "source": [
    "### QueryPic\n",
    "\n",
    "This is the latest version of a tool called [QueryPic](https://glam-workbench.github.io/trove-newspapers/#querypic) which I created many years ago to visualise searches in Trove. While it's inside a Jupyter notebook you can run it as a web app, so you don't have worry about the code. It reproduces most of what is available in this notebook, and adds some extra options for saving your charts. A good option if you're intimidated by the code, but want to try out some of the things described in this notebook.\n",
    "\n",
    "### Visualise a search in Papers Past\n",
    "\n",
    "Do something similar for New Zealand newspapers in Papers Past [using this notebook](https://glam-workbench.github.io/digitalnz/#visualise-a-search-in-papers-past).\n",
    "\n",
    "### Trove Newspaper Harvester\n",
    "\n",
    "Once you've found something interesting in your visualisations, you can use the [Trove Newspaper Harvester](https://glam-workbench.github.io/trove-harvester/) to download the full text of thousands of articles for in-depth analysis.\n",
    "\n",
    "## 12. Further reading\n",
    "\n",
    "* Tim Sherratt, ['Seams and edges: dreams of aggregation, access, and discovery in a broken world'](http://discontents.com.au/seams-and-edges-dreams-of-aggregation-access-discovery-in-a-broken-world/), ALIA Online, 2015.\n",
    "\n",
    "* Tim Sherratt, ['Hacking heritage: understanding the limits of online access'](https://hcommons.org/deposits/item/hc:18733/), preprint of a chapter submitted for publication as part of *The Routledge International Handbook of New Digital Practices in Galleries, Libraries, Archives, Museums and Heritage Sites*, forthcoming 2019."
   ]
  },
  {
   "cell_type": "markdown",
   "metadata": {},
   "source": [
    "----\n",
    "\n",
    "Created by [Tim Sherratt](https://timsherratt.org/) for the [GLAM Workbench](https://glam-workbench.github.io/).  \n",
    "Support this project by becoming a [GitHub sponsor](https://github.com/sponsors/wragge?o=esb).\n",
    "\n",
    "Work on this notebook was supported by the [Humanities, Arts and Social Sciences (HASS) Data Enhanced Virtual Lab](https://tinker.edu.au/)."
   ]
  }
 ],
 "metadata": {
  "kernelspec": {
   "display_name": "Python 3 (ipykernel)",
   "language": "python",
   "name": "python3"
  },
  "language_info": {
   "codemirror_mode": {
    "name": "ipython",
    "version": 3
   },
   "file_extension": ".py",
   "mimetype": "text/x-python",
   "name": "python",
   "nbconvert_exporter": "python",
   "pygments_lexer": "ipython3",
   "version": "3.8.12"
  }
 },
 "nbformat": 4,
 "nbformat_minor": 4
}
