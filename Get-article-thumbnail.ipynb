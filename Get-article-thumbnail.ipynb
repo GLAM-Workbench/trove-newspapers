{
 "cells": [
  {
   "cell_type": "markdown",
   "metadata": {},
   "source": [
    "# Generate a thumbnail image from a Trove newspaper article\n",
    "\n",
    "In [another notebook](Save-page-image.ipynb), I showed how to get high-resolution page images from newspapers. But what if you only want a nice square thumbnail for display purposes? This notebook gets the page image and then crops and resizes the top of the article to create a thumbnail.\n",
    "\n",
    "Of course, if you're doing this to lots of articles you won't want to feed each one in manually. If you're viewing this notebook in app mode (no code visible), just click on the 'Edit app' button to see what's going on behind the scenes. You should be able to copy and modify the code to suit your purposes.\n",
    "\n",
    "Briefly, the steps to generate a thumbnail are:\n",
    "\n",
    "* Get the article record using the Trove API\n",
    "* Get the page identifier from the article record\n",
    "* Use the page identifier to download a high-res page image\n",
    "* Scrape the article's HTML page to get the first row of the OCR'd text (or illustration)\n",
    "* Extract the coordinates (left, top, and width) from the row element's data attributes to find its position within the high-res image\n",
    "* Crop a square image from the page using the coordinates\n",
    "* Resize the cropped image"
   ]
  },
  {
   "cell_type": "code",
   "execution_count": 1,
   "metadata": {},
   "outputs": [],
   "source": [
    "import ipywidgets as widgets\n",
    "import requests\n",
    "import random\n",
    "import re\n",
    "from IPython.display import display, HTML, FileLink, clear_output\n",
    "from bs4 import BeautifulSoup\n",
    "from PIL import Image\n",
    "from io import BytesIO\n",
    "\n",
    "titles = {}\n",
    "\n",
    "def display_button():\n",
    "    button = widgets.Button(\n",
    "        description='Get thumbnail',\n",
    "        disabled=False,\n",
    "        button_style='primary',\n",
    "        tooltip='Click to download',\n",
    "        icon=''\n",
    "    )\n",
    "    button.on_click(get_page_image)\n",
    "    display(button)\n",
    "    \n",
    "def get_article_top(article_url):\n",
    "    '''\n",
    "    Positional information about the article is attached to each line of the OCR output in data attributes.\n",
    "    This function loads the HTML version of the article and scrapes the x, y, and width values for the\n",
    "    top line of text (ie the top of the article).\n",
    "    '''\n",
    "    response = requests.get(article_url)\n",
    "    soup = BeautifulSoup(response.text, 'lxml')\n",
    "    # Lines of OCR are in divs with the class 'zone'\n",
    "    # 'onPage' limits to those on the current page\n",
    "    zones = soup.select('div.zone.onPage')\n",
    "    # Start with the first element, but...\n",
    "    top_element = zones[0]\n",
    "    top_y = int(top_element['data-y'])\n",
    "    # Illustrations might come after text even if they're above them on the page\n",
    "    # So loop through the zones to find the element with the lowest 'y' attribute\n",
    "    for zone in zones:\n",
    "        if int(zone['data-y']) < top_y:\n",
    "            top_y = int(zone['data-y'])\n",
    "            top_element = zone\n",
    "    top_x = int(top_element['data-x'])\n",
    "    top_w = int(top_element['data-w'])\n",
    "    return {'x': top_x, 'y': top_y, 'w': top_w}\n",
    "\n",
    "def get_page_image(b):\n",
    "    clear_output(wait=True)\n",
    "    display_button()\n",
    "    article = None\n",
    "    page_id = None\n",
    "    # Get the article record from the API\n",
    "    article_id = re.search(r'article\\/{0,1}(\\d+)', article_url.value).group(1)\n",
    "    params = {\n",
    "        'reclevel': 'full',\n",
    "        'encoding': 'json',\n",
    "        'key': api_key.value\n",
    "    }\n",
    "    api_response = requests.get('http://api.trove.nla.gov.au/v2/newspaper/{}'.format(article_id), params=params)\n",
    "    data = api_response.json()\n",
    "    article = data['article']\n",
    "    try:\n",
    "        # Get page id\n",
    "        page_id = re.search(r'page\\/(\\d+)', article['trovePageUrl']).group(1)\n",
    "    except AttributeError:\n",
    "         print('Couldn\\'t extract page details!')\n",
    "    else:\n",
    "        # Get position of top line of article\n",
    "        article_top = get_article_top(article_url.value)\n",
    "        # Construct the url we need to download the image\n",
    "        page_url = 'https://trove.nla.gov.au/ndp/imageservice/nla.news-page{}/level{}'.format(page_id, 7)\n",
    "        # Download the page image\n",
    "        response = requests.get(page_url)\n",
    "        # Open download as an image for editing\n",
    "        img = Image.open(BytesIO(response.content))\n",
    "        # Use coordinates of top line to create a square box to crop thumbnail\n",
    "        box = (article_top['x'], article_top['y'], article_top['x'] + article_top['w'], article_top['y'] + article_top['w'])\n",
    "        # Crop image to create thumb\n",
    "        thumb = img.crop(box)\n",
    "        # Resize thumb\n",
    "        thumb.thumbnail((size.value, size.value), Image.ANTIALIAS)\n",
    "        # Save and display thumbnail\n",
    "        thumbfile = 'data/{}-thumb-{}.jpg'.format(page_id, size.value)\n",
    "        thumb.save(thumbfile)\n",
    "        display(FileLink(thumbfile))\n",
    "        display(HTML('<img src=\"{}\">'.format(thumbfile)))"
   ]
  },
  {
   "cell_type": "markdown",
   "metadata": {},
   "source": [
    "## Enter your Trove API key\n",
    "\n",
    "Get your own [Trove API key](http://help.nla.gov.au/trove/building-with-trove/api) and enter it below."
   ]
  },
  {
   "cell_type": "code",
   "execution_count": 2,
   "metadata": {},
   "outputs": [
    {
     "data": {
      "application/vnd.jupyter.widget-view+json": {
       "model_id": "d0eec55eb66642929fb46fea3f33120e",
       "version_major": 2,
       "version_minor": 0
      },
      "text/plain": [
       "Text(value='', description='API key:', placeholder='Enter your Trove API key')"
      ]
     },
     "metadata": {},
     "output_type": "display_data"
    }
   ],
   "source": [
    "api_key = widgets.Text(\n",
    "    placeholder='Enter your Trove API key',\n",
    "    description='API key:',\n",
    "    disabled=False\n",
    ")\n",
    "display(api_key)"
   ]
  },
  {
   "cell_type": "markdown",
   "metadata": {},
   "source": [
    "## Enter an article url...\n",
    "\n",
    "You can use the url in your browser's location bar or an article permalink."
   ]
  },
  {
   "cell_type": "code",
   "execution_count": 3,
   "metadata": {},
   "outputs": [
    {
     "data": {
      "application/vnd.jupyter.widget-view+json": {
       "model_id": "29589b1e10ed4b738699ef2a205af464",
       "version_major": 2,
       "version_minor": 0
      },
      "text/plain": [
       "Text(value='', description='Article/Page:', placeholder='Enter an article url')"
      ]
     },
     "metadata": {},
     "output_type": "display_data"
    }
   ],
   "source": [
    "article_url = widgets.Text(\n",
    "    placeholder='Enter an article url',\n",
    "    description='Article/Page:',\n",
    "    disabled=False\n",
    ")\n",
    "display(article_url)"
   ]
  },
  {
   "cell_type": "markdown",
   "metadata": {},
   "source": [
    "## Thumbnail size\n",
    "\n",
    "Generate a square thumbnail with this height and width (in pixels)."
   ]
  },
  {
   "cell_type": "code",
   "execution_count": 4,
   "metadata": {
    "scrolled": true
   },
   "outputs": [
    {
     "data": {
      "application/vnd.jupyter.widget-view+json": {
       "model_id": "fa7eeb79f16b43cfbb57a07bdcdb1aea",
       "version_major": 2,
       "version_minor": 0
      },
      "text/plain": [
       "BoundedIntText(value=500, description='Size:', max=500, min=100, step=50)"
      ]
     },
     "metadata": {},
     "output_type": "display_data"
    }
   ],
   "source": [
    "size = widgets.BoundedIntText(\n",
    "    min=100,\n",
    "    max=500,\n",
    "    value=500,\n",
    "    step=50,\n",
    "    description='Size:',\n",
    "    disabled=False\n",
    ")\n",
    "display(size)"
   ]
  },
  {
   "cell_type": "markdown",
   "metadata": {},
   "source": [
    "## Get the thumbnail!"
   ]
  },
  {
   "cell_type": "code",
   "execution_count": 5,
   "metadata": {
    "scrolled": false
   },
   "outputs": [
    {
     "data": {
      "application/vnd.jupyter.widget-view+json": {
       "model_id": "f9400a3b6fff43758efe9c1d4ec65067",
       "version_major": 2,
       "version_minor": 0
      },
      "text/plain": [
       "Button(button_style='primary', description='Get thumbnail', style=ButtonStyle(), tooltip='Click to download')"
      ]
     },
     "metadata": {},
     "output_type": "display_data"
    },
    {
     "data": {
      "text/html": [
       "<a href='data/10253102-thumb-500.jpg' target='_blank'>data/10253102-thumb-500.jpg</a><br>"
      ],
      "text/plain": [
       "/Users/tim/mycode/glam-workbench/trove-newspapers/notebooks/data/10253102-thumb-500.jpg"
      ]
     },
     "metadata": {},
     "output_type": "display_data"
    },
    {
     "data": {
      "text/html": [
       "<img src=\"data/10253102-thumb-500.jpg\">"
      ],
      "text/plain": [
       "<IPython.core.display.HTML object>"
      ]
     },
     "metadata": {},
     "output_type": "display_data"
    }
   ],
   "source": [
    "display_button()"
   ]
  },
  {
   "cell_type": "code",
   "execution_count": null,
   "metadata": {},
   "outputs": [],
   "source": []
  }
 ],
 "metadata": {
  "kernelspec": {
   "display_name": "Python 3",
   "language": "python",
   "name": "python3"
  },
  "language_info": {
   "codemirror_mode": {
    "name": "ipython",
    "version": 3
   },
   "file_extension": ".py",
   "mimetype": "text/x-python",
   "name": "python",
   "nbconvert_exporter": "python",
   "pygments_lexer": "ipython3",
   "version": "3.7.3"
  }
 },
 "nbformat": 4,
 "nbformat_minor": 2
}
