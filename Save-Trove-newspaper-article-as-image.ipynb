{
 "cells": [
  {
   "cell_type": "markdown",
   "metadata": {},
   "source": [
    "# Save a Trove newspaper article as an image\n",
    "\n",
    "Sometimes you want to be able to save a Trove newspaper article as an image. Unfortunately, the Trove web interface doesn't make this easy. The 'Download JPG' option actually loads an HTML page, and while you could individually save the images embedded in the HTML page, often articles are sliced up in ways that make the whole thing hard to read and use.\n",
    "\n",
    "One alternative is to [download the complete page](Save-page-image.ipynb) on which an article is published. I've also created a notebook that [generates a nice-looking thumbnail](Get-article-thumbnail.ipynb) for an article. This notebook takes things one step further – it grabs the page on which an article was published, but then it crops the page image to the boundaries of the article. The result is an image which presents the article as it was originally published.\n",
    "\n",
    "This is possible because information about the position of each line of text in an article is embedded in the display of the OCRd text. This notebook gathers all that positional information and uses it to draw a box that around the article. The OCRd text display also includes information about any additional parts of the article that are published on other pages. This means we can grab images of the article from every page on which it appears. So an article published across three pages, will generate three images.\n",
    "\n",
    "Here's an example. This is a [large, illustrated article](https://trove.nla.gov.au/newspaper/article/162833980) that is spread across two pages. If you download the JPG or PDF versions from Trove, you'll see they're a bit of a mess.\n",
    "\n",
    "<img src=\"images/162833980.png\" style=\"height: 300px;\">\n",
    "\n",
    "Here are the two images of this article extracted by this notebook.\n",
    "\n",
    "<table><tr><td><a href=\"images/nla.news-article162833980-16636766.jpg\"><img src=\"images/nla.news-article162833980-16636766.jpg\" style=\"height: 300px;\"></a></td><td><a href=\"images/nla.news-article162833980-16636767.jpg\"><img src=\"images/nla.news-article162833980-16636767.jpg\" style=\"height: 300px; margin-left: 20px;\"></a></td></tr></table>\n",
    "\n",
    "Much better!\n",
    "\n",
    "Note that the images are saved with a file name something like this: `nla.news-article162833980-16636766.jpg`. The first part of the file name, `nla.news-article162833980`, is the Trove identifier for this article. Just add it to `nla.gov.au/` and you'll have a link:\n",
    "\n",
    "https://nla.gov.au/nla.news-article162833980\n",
    "\n",
    "The second number is the identifier for the page. So if you mislay the details of an article, you can always just look them up using the information in the file name."
   ]
  },
  {
   "cell_type": "markdown",
   "metadata": {},
   "source": [
    "## How to use this notebook\n",
    "\n",
    "### Running live on Binder\n",
    "\n",
    "* If you're viewing this notebook using [nbviewer.jupyter.org](http://nbviewer.jupyter.org) (look for 'nbviewer' in the logo or url), you'll first need to open up a *live* version on Binder.\n",
    "* To open the notebook on Binder, just click on the set of rings in the top menu bar in NBViewer. They'll say 'Execute on Binder' when you hover over the icon. Be patient for a little while while Binder loads your live computing environment.\n",
    "\n",
    "<img src=\"images/start_binder.gif\" width=500 style=\"border: 1px solid #d6d6d6;\">\n",
    "\n",
    "* If your notebook's already running in Binder (look for 'binder.org' in the url), move on to the next step.\n",
    "\n",
    "### Setting your options\n",
    "\n",
    "* Once the notebook has loaded in Binder, you're ready to go!\n",
    "* In Trove, copy the url of the article you want to save as an image, and then come back here and paste it into the cell below where indicated. You can use the url in your browser's location bar or an article permalink. \n",
    "* You can also set a maximum size for the images.\n",
    "\n",
    "<img src=\"images/run_save_images.gif\" width=500 style=\"border: 1px solid #d6d6d6;\">\n",
    "\n",
    "### Get your images!\n",
    "\n",
    "* From the 'Cell' menu select 'Run all'. Alternatively, you can hit 'Shift+Enter' to run each cell individually until you get to the bottom of the notebook. This will run the code below which goes off and prepares your images.\n",
    "* The links and images will be displayed at [the bottom of the notebook](#Get-the-images!). Just click on the links to open the images, and select 'Save page as' to download them to your computer.\n",
    "* If you want to get another article, just replace the url and 'Run all' again."
   ]
  },
  {
   "cell_type": "code",
   "execution_count": 1,
   "metadata": {},
   "outputs": [],
   "source": [
    "# Copy the url of the article you want and paste it between the quotes\n",
    "article_url = 'Insert the article url here'\n",
    "\n",
    "# Set this if you want to limit the size of the image.\n",
    "# Leave as None if you want them at full size\n",
    "max_size = None"
   ]
  },
  {
   "cell_type": "markdown",
   "metadata": {},
   "source": [
    "## Load all the things we need"
   ]
  },
  {
   "cell_type": "code",
   "execution_count": 2,
   "metadata": {},
   "outputs": [],
   "source": [
    "import requests\n",
    "from IPython.display import display, HTML, FileLink\n",
    "from bs4 import BeautifulSoup\n",
    "from PIL import Image\n",
    "from io import BytesIO\n",
    "import re"
   ]
  },
  {
   "cell_type": "code",
   "execution_count": 3,
   "metadata": {},
   "outputs": [],
   "source": [
    "def get_box(zones):\n",
    "    '''\n",
    "    Loop through all the zones to find the outer limits of each boundary.\n",
    "    Return a bounding box around the article.\n",
    "    '''\n",
    "    left = 10000\n",
    "    right = 0\n",
    "    top = 10000\n",
    "    bottom = 0\n",
    "    page_id = zones[0]['data-page-id']\n",
    "    for zone in zones:\n",
    "        if int(zone['data-y']) < top:\n",
    "            top = int(zone['data-y'])\n",
    "        if int(zone['data-x']) < left:\n",
    "            left = int(zone['data-x'])\n",
    "        if (int(zone['data-x']) + int(zone['data-w'])) > right:\n",
    "            right = int(zone['data-x']) + int(zone['data-w'])\n",
    "        if (int(zone['data-y']) + int(zone['data-h'])) > bottom:\n",
    "            bottom = int(zone['data-y']) + int(zone['data-h'])\n",
    "    return {'page_id': page_id, 'left': left, 'top': top, 'right': right, 'bottom': bottom}\n",
    "    \n",
    "def get_article_boxes(article_url):\n",
    "    '''\n",
    "    Positional information about the article is attached to each line of the OCR output in data attributes.\n",
    "    This function loads the HTML version of the article and scrapes the x, y, and width values for each line of text \n",
    "    to determine the coordinates of a box around the article.\n",
    "    '''\n",
    "    boxes = []\n",
    "    response = requests.get(article_url)\n",
    "    soup = BeautifulSoup(response.text, 'lxml')\n",
    "    # Lines of OCR are in divs with the class 'zone'\n",
    "    # 'onPage' limits to those on the current page\n",
    "    zones = soup.select('div.zone.onPage')\n",
    "    boxes.append(get_box(zones))\n",
    "    off_page_zones = soup.select('div.zone.offPage')\n",
    "    if off_page_zones:\n",
    "        current_page = off_page_zones[0]['data-page-id']\n",
    "        zones = []\n",
    "        for zone in off_page_zones:\n",
    "            if zone['data-page-id'] == current_page:\n",
    "                zones.append(zone)\n",
    "            else:\n",
    "                boxes.append(get_box(zones))\n",
    "                zones = [zone]\n",
    "                current_page = zone['data-page-id']\n",
    "        boxes.append(get_box(zones))    \n",
    "    return boxes\n",
    "\n",
    "def get_page_images(article_id, size):\n",
    "    '''\n",
    "    Extract an image of the article from the page image(s), save it, and return the filename(s).\n",
    "    '''\n",
    "    images = []\n",
    "    # Get position of article on the page(s)\n",
    "    boxes = get_article_boxes('http://nla.gov.au/nla.news-article{}'.format(article_id))\n",
    "    for box in boxes:\n",
    "        # print(box)\n",
    "        # Construct the url we need to download the page image\n",
    "        page_url = 'https://trove.nla.gov.au/ndp/imageservice/nla.news-page{}/level{}'.format(box['page_id'], 7)\n",
    "        # Download the page image\n",
    "        response = requests.get(page_url)\n",
    "        # Open download as an image for editing\n",
    "        img = Image.open(BytesIO(response.content))\n",
    "        # Use coordinates of top line to create a square box to crop thumbnail\n",
    "        points = (box['left'], box['top'], box['right'], box['bottom'])\n",
    "        # Crop image to article box\n",
    "        cropped = img.crop(points)\n",
    "        # Resize if necessary\n",
    "        if size:\n",
    "            cropped.thumbnail((size, size), Image.ANTIALIAS)\n",
    "        # Save and display thumbnail\n",
    "        cropped_file = 'nla.news-article{}-{}.jpg'.format(article_id, box['page_id'])\n",
    "        cropped.save(cropped_file)\n",
    "        images.append(cropped_file)\n",
    "    return images\n",
    "\n",
    "def get_article(article_url, size):\n",
    "    # Get the article record from the API\n",
    "    article_id = re.search(r'article\\/{0,1}(\\d+)', article_url).group(1)\n",
    "    # print(article_id)\n",
    "    images = get_page_images(article_id, size)\n",
    "    for image in images:\n",
    "        display(FileLink(image))\n",
    "        display(HTML('<img src=\"{}\">'.format(image)))"
   ]
  },
  {
   "cell_type": "markdown",
   "metadata": {},
   "source": [
    "## Get the images!\n",
    "\n",
    "The links and images will load below once they're ready."
   ]
  },
  {
   "cell_type": "code",
   "execution_count": null,
   "metadata": {},
   "outputs": [],
   "source": [
    "get_article(article_url, max_size)"
   ]
  },
  {
   "cell_type": "markdown",
   "metadata": {},
   "source": [
    "----\n",
    "\n",
    "Created by [Tim Sherratt](https://timsherratt.org/) for the [GLAM Workbench](https://glam-workbench.github.io/).\n",
    "\n",
    "Work on this notebook was supported by the [Humanities, Arts and Social Sciences (HASS) Data Enhanced Virtual Lab](https://tinker.edu.au/).\n"
   ]
  }
 ],
 "metadata": {
  "kernelspec": {
   "display_name": "Python 3",
   "language": "python",
   "name": "python3"
  },
  "language_info": {
   "codemirror_mode": {
    "name": "ipython",
    "version": 3
   },
   "file_extension": ".py",
   "mimetype": "text/x-python",
   "name": "python",
   "nbconvert_exporter": "python",
   "pygments_lexer": "ipython3",
   "version": "3.7.7"
  }
 },
 "nbformat": 4,
 "nbformat_minor": 4
}
