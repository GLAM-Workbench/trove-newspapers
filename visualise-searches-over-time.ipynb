{
 "cells": [
  {
   "cell_type": "markdown",
   "metadata": {
    "editable": true,
    "slideshow": {
     "slide_type": ""
    },
    "tags": []
   },
   "source": [
    "# Visualise Trove newspaper searches over time\n",
    "\n",
    "You know the feeling. You enter a query into [Trove's digitised newspapers](https://trove.nla.gov.au/newspaper/) search box and...\n",
    "\n",
    "![Trove search results screen capture](images/trove-newspaper-results.png)\n",
    "\n",
    "Hmmm, **3 million results**, how do you make sense of that..?\n",
    "\n",
    "Trove tries to be as helpful as possible by ordering your results by relevance. This is great if you aim is to find a few interesting articles. But how can you get a sense of the complete results set? How can you *see* everything? Trove's web interface only shows you the first 2,000 articles matching your search. But by getting data directly from the [Trove API](https://help.nla.gov.au/trove/building-with-trove/api) we can go bigger. \n",
    "\n",
    "This notebook helps you zoom out and explore how the number of newspaper articles in your results varies over time by using the `decade` and `year` facets. We'll then combine this approach with other search facets to see how we can slice a set of results up in different ways to investigate historical changes.\n",
    "\n",
    "1. [Setting things up](#1.-Setting-things-up)\n",
    "2. [Find the number of articles per year using facets](#2.-Find-the-number-of-articles-per-year-using-facets)\n",
    "3. [How many articles in total were published each year?](#3.-How-many-articles-in-total-were-published-each-year?)\n",
    "4. [Charting our search results as a proportion of total articles](#4.-Charting-our-search-results-as-a-proportion-of-total-articles)\n",
    "5. [Comparing multiple search terms over time](#5.-Comparing-multiple-search-terms-over-time)\n",
    "6. [Comparing a search term across different states](#6.-Comparing-a-search-term-across-different-states)\n",
    "7. [Comparing a search term across different newspapers](#7.-Comparing-a-search-term-across-different-newspapers)\n",
    "8. [Chart changes in illustration types over time](#8.-Chart-changes-in-illustration-types-over-time)\n",
    "9. [But what are we searching?](#9.-But-what-are-we-searching?)\n",
    "10. [Next steps](#10.-Next-steps)\n",
    "11. [Related resources](#11.-Related-resources)\n",
    "12. [Further reading](#12.-Further-reading)\n",
    "\n",
    "If you're interested in exploring the possibilities examined in this notebook, but are feeling a bit intimidated by the code, skip to the [Related resources](#11.-Related-resources) section for some alternative starting points. But once you've got a bit of confidence, please come back here to learn more about how it all works!\n"
   ]
  },
  {
   "cell_type": "markdown",
   "metadata": {},
   "source": [
    "<div class=\"alert alert-block alert-warning\">\n",
    "<p>If you haven't used one of these notebooks before, they're basically web pages in which you can write, edit, and run live code. They're meant to encourage experimentation, so don't feel nervous. Just try running a few cells and see what happens!</p>\n",
    "\n",
    "<p>\n",
    "    Some tips:\n",
    "    <ul>\n",
    "        <li>Code cells have boxes around them.</li>\n",
    "        <li>To run a code cell click on the cell and then hit <b>Shift+Enter</b>. The <b>Shift+Enter</b> combo will also move you to the next cell, so it's a quick way to work through the notebook.</li>\n",
    "        <li>While a cell is running a <b>*</b> appears in the square brackets next to the cell. Once the cell has finished running the asterix will be replaced with a number.</li>\n",
    "        <li>In most cases you'll want to start from the top of notebook and work your way down running each cell in turn. Later cells might depend on the results of earlier ones.</li>\n",
    "        <li>To edit a code cell, just click on it and type stuff. Remember to run the cell once you've finished editing.</li>\n",
    "    </ul>\n",
    "</p>\n",
    "\n",
    "<p><b>Is this thing on?</b> If you can't edit or run any of the code cells, you might be viewing a static (read only) version of this notebook. Click here to <a href=\"https://mybinder.org/v2/gh/GLAM-Workbench/trove-newspapers/master?filepath=visualise-searches-over-time.ipynb\">load a <b>live</b> version</a> running on Binder.</p>\n",
    "\n",
    "</div>"
   ]
  },
  {
   "cell_type": "markdown",
   "metadata": {},
   "source": [
    "## 1. Setting things up"
   ]
  },
  {
   "cell_type": "markdown",
   "metadata": {},
   "source": [
    "### Import what we need"
   ]
  },
  {
   "cell_type": "code",
   "execution_count": 1,
   "metadata": {},
   "outputs": [
    {
     "data": {
      "text/plain": [
       "True"
      ]
     },
     "execution_count": 1,
     "metadata": {},
     "output_type": "execute_result"
    }
   ],
   "source": [
    "import os\n",
    "import time\n",
    "from operator import itemgetter  # used for sorting\n",
    "\n",
    "import altair as alt\n",
    "import pandas as pd  # makes manipulating the data easier\n",
    "import requests\n",
    "from dotenv import load_dotenv\n",
    "from IPython.display import clear_output\n",
    "from requests.adapters import HTTPAdapter\n",
    "from requests.packages.urllib3.util.retry import Retry\n",
    "from tqdm.auto import tqdm\n",
    "\n",
    "# Make sure data directory exists\n",
    "os.makedirs(\"data\", exist_ok=True)\n",
    "\n",
    "# Create a session that will automatically retry on server errors\n",
    "s = requests.Session()\n",
    "retries = Retry(total=5, backoff_factor=1, status_forcelist=[502, 503, 504])\n",
    "s.mount(\"http://\", HTTPAdapter(max_retries=retries))\n",
    "s.mount(\"https://\", HTTPAdapter(max_retries=retries))\n",
    "\n",
    "load_dotenv()"
   ]
  },
  {
   "cell_type": "markdown",
   "metadata": {},
   "source": [
    "### Enter a Trove API key\n",
    "\n",
    "We're going to get our data from the Trove API. You'll need to get your own [Trove API key](http://help.nla.gov.au/trove/building-with-trove/api) and enter it below."
   ]
  },
  {
   "cell_type": "code",
   "execution_count": 2,
   "metadata": {},
   "outputs": [],
   "source": [
    "# Insert your Trove API key\n",
    "API_KEY = \"YOUR API KEY\"\n",
    "\n",
    "# Use api key value from environment variables if it is available\n",
    "if os.getenv(\"TROVE_API_KEY\"):\n",
    "    API_KEY = os.getenv(\"TROVE_API_KEY\")"
   ]
  },
  {
   "cell_type": "markdown",
   "metadata": {},
   "source": [
    "## 2. Find the number of articles per year using facets\n",
    "\n",
    "<img src=\"images/trove-decade-facets.png\" width=\"200\" align=\"left\" style=\"border: 1px solid #d6d6d6; margin-right: 20px\">\n",
    "\n",
    "When you search for newspaper articles using Trove's web interface, the results appear alongside a column headed 'Refine your results'. This column displays summary data extracted from your search, such as the states in which articles were published and the newspapers that published them. In the web interface, you can use this data to filter your results, but using the API we can retrieve the raw data and use it to visualise the complete result set.\n",
    "\n",
    "Here you can see the decade facet, showing the number of newspaper articles published each decade. If you click on a decade, the interface displays the number of results per year. So sitting underneath the web interface is data that breaks down our search results by year. Let's use this data to visualise a search over time."
   ]
  },
  {
   "cell_type": "markdown",
   "metadata": {},
   "source": [
    "To get results by year from the Trove API, you need to set the `facet` parameter to `year`. However, this only works if you've also selected a specific decade using the `l-decade` parameter. In other words, you can only get one decade's worth of results at a time. To assemble the complete dataset, you need to loop through all the decades, requesting the `year` data for each decade in turn.\n",
    "\n",
    "Let's start with some basic parameters for our search."
   ]
  },
  {
   "cell_type": "code",
   "execution_count": 3,
   "metadata": {},
   "outputs": [],
   "source": [
    "# Basic parameters for Trove API\n",
    "params = {\n",
    "    \"facet\": \"year\",  # Get the data aggregated by year.\n",
    "    \"category\": \"newspaper\",\n",
    "    \"l-artType\": \"newspaper\",\n",
    "    \"encoding\": \"json\",\n",
    "    \"n\": 0,  # We don't need any records, just the facets!\n",
    "}\n",
    "\n",
    "headers = {\"X-API-KEY\": API_KEY}"
   ]
  },
  {
   "cell_type": "markdown",
   "metadata": {},
   "source": [
    "But what are we searching for? We need to supply a `q` parameter that includes our search terms. We can use pretty much anything that works in the Trove simple search box. This includes boolean operators, phrase searches, and proximity modifiers. But let's start with something simple. Feel free to modify the `q` value in the cell below."
   ]
  },
  {
   "cell_type": "code",
   "execution_count": 4,
   "metadata": {},
   "outputs": [],
   "source": [
    "# CHANGE THIS TO SEARCH FOR SOMETHING ELSE!\n",
    "params[\"q\"] = \"radio\""
   ]
  },
  {
   "cell_type": "markdown",
   "metadata": {},
   "source": [
    "Let's define a couple of handy functions for getting facet data from the Trove API. "
   ]
  },
  {
   "cell_type": "code",
   "execution_count": 5,
   "metadata": {},
   "outputs": [],
   "source": [
    "def get_results(params):\n",
    "    \"\"\"\n",
    "    Get JSON response data from the Trove API.\n",
    "    Parameters:\n",
    "        params\n",
    "    Returns:\n",
    "        JSON formatted response data from Trove API\n",
    "    \"\"\"\n",
    "    response = s.get(\n",
    "        \"https://api.trove.nla.gov.au/v3/result\",\n",
    "        params=params,\n",
    "        headers=headers,\n",
    "        timeout=30,\n",
    "    )\n",
    "    response.raise_for_status()\n",
    "    # print(response.url) # This shows us the url that's sent to the API\n",
    "    data = response.json()\n",
    "    return data\n",
    "\n",
    "\n",
    "def get_facets(data):\n",
    "    \"\"\"\n",
    "    Loop through facets in Trove API response, saving terms and counts.\n",
    "    Parameters:\n",
    "        data  - JSON formatted response data from Trove API\n",
    "    Returns:\n",
    "        A list of dictionaries containing: 'year', 'total_results'\n",
    "    \"\"\"\n",
    "    facets = []\n",
    "    try:\n",
    "        # The facets are buried a fair way down in the results\n",
    "        # Note that if you ask for more than one facet, you'll have use the facet['name'] param to find the one you want\n",
    "        # In this case there's only one facet, so we can just grab the list of terms (which are in fact the results by year)\n",
    "        for term in data[\"category\"][0][\"facets\"][\"facet\"][0][\"term\"]:\n",
    "\n",
    "            # Get the year and the number of results, and convert them to integers, before adding to our results\n",
    "            facets.append(\n",
    "                {\"year\": int(term[\"search\"]), \"total_results\": int(term[\"count\"])}\n",
    "            )\n",
    "\n",
    "        # Sort facets by year\n",
    "        facets.sort(key=itemgetter(\"year\"))\n",
    "    except (TypeError, KeyError):\n",
    "        pass\n",
    "    return facets"
   ]
  },
  {
   "cell_type": "markdown",
   "metadata": {},
   "source": [
    "Now we'll define a function to loop through the decades, processing each in turn. \n",
    "\n",
    "To loop through the decades we need to define start and end points. Trove includes newspapers from 1803 right through until the current decade. Note that Trove expects decades to be specified using the first three digits of a year – so the decade value for the 1800s is just `180`. So let's set our range by giving `180` and `201` to the function as our default `start_decade` and `end_decade` values. Also note that I'm defining them as numbers, not strings (no quotes around them!). This is so that we can use them to build a range.\n",
    "\n",
    "This function returns a list of dictionaries with values for `year` and `total_results`."
   ]
  },
  {
   "cell_type": "code",
   "execution_count": 6,
   "metadata": {},
   "outputs": [],
   "source": [
    "def get_facet_data(params, start_decade=180, end_decade=201):\n",
    "    \"\"\"\n",
    "    Loop throught the decades from 'start_decade' to 'end_decade',\n",
    "    getting the number of search results for each year from the year facet.\n",
    "    Combine all the results into a single list.\n",
    "    Parameters:\n",
    "        params - parameters to send to the API\n",
    "        start_decade\n",
    "        end_decade\n",
    "    Returns:\n",
    "        A list of dictionaries containing 'year', 'total_results' for the complete\n",
    "        period between the start and end decades.\n",
    "    \"\"\"\n",
    "    # Create a list to hold the facets data\n",
    "    facet_data = []\n",
    "\n",
    "    # Loop through the decades\n",
    "    for decade in tqdm(range(start_decade, end_decade + 1)):\n",
    "\n",
    "        # Avoid confusion by copying the params before we change anything.\n",
    "        search_params = params.copy()\n",
    "\n",
    "        # Add decade value to params\n",
    "        search_params[\"l-decade\"] = decade\n",
    "\n",
    "        # Get the data from the API\n",
    "        data = get_results(search_params)\n",
    "\n",
    "        # Get the facets from the data and add to facets_data\n",
    "        facet_data += get_facets(data)\n",
    "\n",
    "        # Try not to go over API rate limit - increase if you get 403 errors\n",
    "        time.sleep(0.2)\n",
    "\n",
    "    # Reomve the progress bar (you can also set leave=False in tqdm, but that still leaves white space in Jupyter Lab)\n",
    "    clear_output()\n",
    "    return facet_data"
   ]
  },
  {
   "cell_type": "code",
   "execution_count": 7,
   "metadata": {},
   "outputs": [],
   "source": [
    "# Call the function and save the results to a variable called facet_data\n",
    "facet_data = get_facet_data(params)"
   ]
  },
  {
   "cell_type": "markdown",
   "metadata": {},
   "source": [
    "For easy exploration, we'll convert the facet data into a [Pandas](https://pandas.pydata.org/) DataFrame."
   ]
  },
  {
   "cell_type": "code",
   "execution_count": 8,
   "metadata": {},
   "outputs": [
    {
     "data": {
      "text/html": [
       "<div>\n",
       "<style scoped>\n",
       "    .dataframe tbody tr th:only-of-type {\n",
       "        vertical-align: middle;\n",
       "    }\n",
       "\n",
       "    .dataframe tbody tr th {\n",
       "        vertical-align: top;\n",
       "    }\n",
       "\n",
       "    .dataframe thead th {\n",
       "        text-align: right;\n",
       "    }\n",
       "</style>\n",
       "<table border=\"1\" class=\"dataframe\">\n",
       "  <thead>\n",
       "    <tr style=\"text-align: right;\">\n",
       "      <th></th>\n",
       "      <th>year</th>\n",
       "      <th>total_results</th>\n",
       "    </tr>\n",
       "  </thead>\n",
       "  <tbody>\n",
       "    <tr>\n",
       "      <th>0</th>\n",
       "      <td>1830</td>\n",
       "      <td>1</td>\n",
       "    </tr>\n",
       "    <tr>\n",
       "      <th>1</th>\n",
       "      <td>1831</td>\n",
       "      <td>1</td>\n",
       "    </tr>\n",
       "    <tr>\n",
       "      <th>2</th>\n",
       "      <td>1832</td>\n",
       "      <td>1</td>\n",
       "    </tr>\n",
       "    <tr>\n",
       "      <th>3</th>\n",
       "      <td>1833</td>\n",
       "      <td>2</td>\n",
       "    </tr>\n",
       "    <tr>\n",
       "      <th>4</th>\n",
       "      <td>1834</td>\n",
       "      <td>5</td>\n",
       "    </tr>\n",
       "  </tbody>\n",
       "</table>\n",
       "</div>"
      ],
      "text/plain": [
       "   year  total_results\n",
       "0  1830              1\n",
       "1  1831              1\n",
       "2  1832              1\n",
       "3  1833              2\n",
       "4  1834              5"
      ]
     },
     "execution_count": 8,
     "metadata": {},
     "output_type": "execute_result"
    }
   ],
   "source": [
    "# Convert our data to a dataframe called df\n",
    "df = pd.DataFrame(facet_data)\n",
    "\n",
    "# Let's have a look at the first few rows of data\n",
    "df.head()"
   ]
  },
  {
   "cell_type": "markdown",
   "metadata": {},
   "source": [
    "Which year had the most results? We can use `idxmax()` to find out."
   ]
  },
  {
   "cell_type": "code",
   "execution_count": 9,
   "metadata": {},
   "outputs": [
    {
     "data": {
      "text/plain": [
       "year               1954\n",
       "total_results    161172\n",
       "Name: 124, dtype: int64"
      ]
     },
     "execution_count": 9,
     "metadata": {},
     "output_type": "execute_result"
    }
   ],
   "source": [
    "# Show the row that has the highest value in the 'total_results' column.\n",
    "# Use .idxmax to find the row with the highest value, then use .loc to get it\n",
    "df.loc[df[\"total_results\"].idxmax()]"
   ]
  },
  {
   "cell_type": "markdown",
   "metadata": {},
   "source": [
    "Now let's display the data as a chart using [Altair](https://altair-viz.github.io/index.html)."
   ]
  },
  {
   "cell_type": "code",
   "execution_count": 10,
   "metadata": {},
   "outputs": [
    {
     "data": {
      "text/html": [
       "\n",
       "<style>\n",
       "  #altair-viz-391dd9cbb06946db883887d7996e8009.vega-embed {\n",
       "    width: 100%;\n",
       "    display: flex;\n",
       "  }\n",
       "\n",
       "  #altair-viz-391dd9cbb06946db883887d7996e8009.vega-embed details,\n",
       "  #altair-viz-391dd9cbb06946db883887d7996e8009.vega-embed details summary {\n",
       "    position: relative;\n",
       "  }\n",
       "</style>\n",
       "<div id=\"altair-viz-391dd9cbb06946db883887d7996e8009\"></div>\n",
       "<script type=\"text/javascript\">\n",
       "  var VEGA_DEBUG = (typeof VEGA_DEBUG == \"undefined\") ? {} : VEGA_DEBUG;\n",
       "  (function(spec, embedOpt){\n",
       "    let outputDiv = document.currentScript.previousElementSibling;\n",
       "    if (outputDiv.id !== \"altair-viz-391dd9cbb06946db883887d7996e8009\") {\n",
       "      outputDiv = document.getElementById(\"altair-viz-391dd9cbb06946db883887d7996e8009\");\n",
       "    }\n",
       "    const paths = {\n",
       "      \"vega\": \"https://cdn.jsdelivr.net/npm/vega@5?noext\",\n",
       "      \"vega-lib\": \"https://cdn.jsdelivr.net/npm/vega-lib?noext\",\n",
       "      \"vega-lite\": \"https://cdn.jsdelivr.net/npm/vega-lite@5.20.1?noext\",\n",
       "      \"vega-embed\": \"https://cdn.jsdelivr.net/npm/vega-embed@6?noext\",\n",
       "    };\n",
       "\n",
       "    function maybeLoadScript(lib, version) {\n",
       "      var key = `${lib.replace(\"-\", \"\")}_version`;\n",
       "      return (VEGA_DEBUG[key] == version) ?\n",
       "        Promise.resolve(paths[lib]) :\n",
       "        new Promise(function(resolve, reject) {\n",
       "          var s = document.createElement('script');\n",
       "          document.getElementsByTagName(\"head\")[0].appendChild(s);\n",
       "          s.async = true;\n",
       "          s.onload = () => {\n",
       "            VEGA_DEBUG[key] = version;\n",
       "            return resolve(paths[lib]);\n",
       "          };\n",
       "          s.onerror = () => reject(`Error loading script: ${paths[lib]}`);\n",
       "          s.src = paths[lib];\n",
       "        });\n",
       "    }\n",
       "\n",
       "    function showError(err) {\n",
       "      outputDiv.innerHTML = `<div class=\"error\" style=\"color:red;\">${err}</div>`;\n",
       "      throw err;\n",
       "    }\n",
       "\n",
       "    function displayChart(vegaEmbed) {\n",
       "      vegaEmbed(outputDiv, spec, embedOpt)\n",
       "        .catch(err => showError(`Javascript Error: ${err.message}<br>This usually means there's a typo in your chart specification. See the javascript console for the full traceback.`));\n",
       "    }\n",
       "\n",
       "    if(typeof define === \"function\" && define.amd) {\n",
       "      requirejs.config({paths});\n",
       "      require([\"vega-embed\"], displayChart, err => showError(`Error loading script: ${err.message}`));\n",
       "    } else {\n",
       "      maybeLoadScript(\"vega\", \"5\")\n",
       "        .then(() => maybeLoadScript(\"vega-lite\", \"5.20.1\"))\n",
       "        .then(() => maybeLoadScript(\"vega-embed\", \"6\"))\n",
       "        .catch(showError)\n",
       "        .then(() => displayChart(vegaEmbed));\n",
       "    }\n",
       "  })({\"config\": {\"view\": {\"continuousWidth\": 300, \"continuousHeight\": 300}}, \"data\": {\"name\": \"data-4c173b289cc190e2e4b5a5734d74a1e3\"}, \"mark\": {\"type\": \"line\", \"point\": true}, \"encoding\": {\"tooltip\": [{\"field\": \"year\", \"title\": \"Year\", \"type\": \"quantitative\"}, {\"field\": \"total_results\", \"format\": \",\", \"title\": \"Articles\", \"type\": \"quantitative\"}], \"x\": {\"axis\": {\"format\": \"c\", \"title\": \"Year\"}, \"field\": \"year\", \"type\": \"quantitative\"}, \"y\": {\"axis\": {\"format\": \",d\", \"title\": \"Number of articles\"}, \"field\": \"total_results\", \"type\": \"quantitative\"}}, \"height\": 400, \"width\": 700, \"$schema\": \"https://vega.github.io/schema/vega-lite/v5.20.1.json\", \"datasets\": {\"data-4c173b289cc190e2e4b5a5734d74a1e3\": [{\"year\": 1830, \"total_results\": 1}, {\"year\": 1831, \"total_results\": 1}, {\"year\": 1832, \"total_results\": 1}, {\"year\": 1833, \"total_results\": 2}, {\"year\": 1834, \"total_results\": 5}, {\"year\": 1835, \"total_results\": 3}, {\"year\": 1836, \"total_results\": 11}, {\"year\": 1837, \"total_results\": 7}, {\"year\": 1838, \"total_results\": 7}, {\"year\": 1839, \"total_results\": 5}, {\"year\": 1840, \"total_results\": 3}, {\"year\": 1841, \"total_results\": 29}, {\"year\": 1842, \"total_results\": 12}, {\"year\": 1843, \"total_results\": 8}, {\"year\": 1844, \"total_results\": 10}, {\"year\": 1845, \"total_results\": 15}, {\"year\": 1846, \"total_results\": 8}, {\"year\": 1847, \"total_results\": 21}, {\"year\": 1848, \"total_results\": 12}, {\"year\": 1849, \"total_results\": 25}, {\"year\": 1850, \"total_results\": 42}, {\"year\": 1851, \"total_results\": 31}, {\"year\": 1852, \"total_results\": 44}, {\"year\": 1853, \"total_results\": 108}, {\"year\": 1854, \"total_results\": 179}, {\"year\": 1855, \"total_results\": 70}, {\"year\": 1856, \"total_results\": 71}, {\"year\": 1857, \"total_results\": 86}, {\"year\": 1858, \"total_results\": 141}, {\"year\": 1859, \"total_results\": 129}, {\"year\": 1860, \"total_results\": 159}, {\"year\": 1861, \"total_results\": 185}, {\"year\": 1862, \"total_results\": 148}, {\"year\": 1863, \"total_results\": 171}, {\"year\": 1864, \"total_results\": 134}, {\"year\": 1865, \"total_results\": 136}, {\"year\": 1866, \"total_results\": 115}, {\"year\": 1867, \"total_results\": 120}, {\"year\": 1868, \"total_results\": 158}, {\"year\": 1869, \"total_results\": 159}, {\"year\": 1870, \"total_results\": 164}, {\"year\": 1871, \"total_results\": 198}, {\"year\": 1872, \"total_results\": 181}, {\"year\": 1873, \"total_results\": 205}, {\"year\": 1874, \"total_results\": 219}, {\"year\": 1875, \"total_results\": 263}, {\"year\": 1876, \"total_results\": 285}, {\"year\": 1877, \"total_results\": 346}, {\"year\": 1878, \"total_results\": 333}, {\"year\": 1879, \"total_results\": 383}, {\"year\": 1880, \"total_results\": 368}, {\"year\": 1881, \"total_results\": 514}, {\"year\": 1882, \"total_results\": 467}, {\"year\": 1883, \"total_results\": 632}, {\"year\": 1884, \"total_results\": 609}, {\"year\": 1885, \"total_results\": 667}, {\"year\": 1886, \"total_results\": 738}, {\"year\": 1887, \"total_results\": 689}, {\"year\": 1888, \"total_results\": 830}, {\"year\": 1889, \"total_results\": 807}, {\"year\": 1890, \"total_results\": 875}, {\"year\": 1891, \"total_results\": 827}, {\"year\": 1892, \"total_results\": 849}, {\"year\": 1893, \"total_results\": 855}, {\"year\": 1894, \"total_results\": 922}, {\"year\": 1895, \"total_results\": 975}, {\"year\": 1896, \"total_results\": 1086}, {\"year\": 1897, \"total_results\": 1086}, {\"year\": 1898, \"total_results\": 991}, {\"year\": 1899, \"total_results\": 1005}, {\"year\": 1900, \"total_results\": 949}, {\"year\": 1901, \"total_results\": 983}, {\"year\": 1902, \"total_results\": 1080}, {\"year\": 1903, \"total_results\": 1286}, {\"year\": 1904, \"total_results\": 1797}, {\"year\": 1905, \"total_results\": 1903}, {\"year\": 1906, \"total_results\": 2258}, {\"year\": 1907, \"total_results\": 2039}, {\"year\": 1908, \"total_results\": 1643}, {\"year\": 1909, \"total_results\": 2157}, {\"year\": 1910, \"total_results\": 2822}, {\"year\": 1911, \"total_results\": 3422}, {\"year\": 1912, \"total_results\": 3882}, {\"year\": 1913, \"total_results\": 4265}, {\"year\": 1914, \"total_results\": 4879}, {\"year\": 1915, \"total_results\": 4539}, {\"year\": 1916, \"total_results\": 3811}, {\"year\": 1917, \"total_results\": 3807}, {\"year\": 1918, \"total_results\": 3768}, {\"year\": 1919, \"total_results\": 4434}, {\"year\": 1920, \"total_results\": 5635}, {\"year\": 1921, \"total_results\": 5803}, {\"year\": 1922, \"total_results\": 8186}, {\"year\": 1923, \"total_results\": 12555}, {\"year\": 1924, \"total_results\": 26547}, {\"year\": 1925, \"total_results\": 40441}, {\"year\": 1926, \"total_results\": 45318}, {\"year\": 1927, \"total_results\": 57744}, {\"year\": 1928, \"total_results\": 65025}, {\"year\": 1929, \"total_results\": 65380}, {\"year\": 1930, \"total_results\": 68251}, {\"year\": 1931, \"total_results\": 69717}, {\"year\": 1932, \"total_results\": 77098}, {\"year\": 1933, \"total_results\": 84708}, {\"year\": 1934, \"total_results\": 100804}, {\"year\": 1935, \"total_results\": 109040}, {\"year\": 1936, \"total_results\": 118603}, {\"year\": 1937, \"total_results\": 131059}, {\"year\": 1938, \"total_results\": 142627}, {\"year\": 1939, \"total_results\": 139193}, {\"year\": 1940, \"total_results\": 139204}, {\"year\": 1941, \"total_results\": 161007}, {\"year\": 1942, \"total_results\": 151577}, {\"year\": 1943, \"total_results\": 144858}, {\"year\": 1944, \"total_results\": 137512}, {\"year\": 1945, \"total_results\": 133136}, {\"year\": 1946, \"total_results\": 143686}, {\"year\": 1947, \"total_results\": 151660}, {\"year\": 1948, \"total_results\": 132935}, {\"year\": 1949, \"total_results\": 145825}, {\"year\": 1950, \"total_results\": 147021}, {\"year\": 1951, \"total_results\": 133450}, {\"year\": 1952, \"total_results\": 135504}, {\"year\": 1953, \"total_results\": 152068}, {\"year\": 1954, \"total_results\": 161172}, {\"year\": 1955, \"total_results\": 16996}, {\"year\": 1956, \"total_results\": 11065}, {\"year\": 1957, \"total_results\": 7009}, {\"year\": 1958, \"total_results\": 7345}, {\"year\": 1959, \"total_results\": 7473}, {\"year\": 1960, \"total_results\": 7554}, {\"year\": 1961, \"total_results\": 7172}, {\"year\": 1962, \"total_results\": 7196}, {\"year\": 1963, \"total_results\": 8724}, {\"year\": 1964, \"total_results\": 8034}, {\"year\": 1965, \"total_results\": 8287}, {\"year\": 1966, \"total_results\": 6918}, {\"year\": 1967, \"total_results\": 6793}, {\"year\": 1968, \"total_results\": 7133}, {\"year\": 1969, \"total_results\": 8202}, {\"year\": 1970, \"total_results\": 8411}, {\"year\": 1971, \"total_results\": 8132}, {\"year\": 1972, \"total_results\": 8019}, {\"year\": 1973, \"total_results\": 7538}, {\"year\": 1974, \"total_results\": 7614}, {\"year\": 1975, \"total_results\": 7706}, {\"year\": 1976, \"total_results\": 8290}, {\"year\": 1977, \"total_results\": 8568}, {\"year\": 1978, \"total_results\": 8480}, {\"year\": 1979, \"total_results\": 8752}, {\"year\": 1980, \"total_results\": 8562}, {\"year\": 1981, \"total_results\": 8193}, {\"year\": 1982, \"total_results\": 6985}, {\"year\": 1983, \"total_results\": 6905}, {\"year\": 1984, \"total_results\": 7132}, {\"year\": 1985, \"total_results\": 7172}, {\"year\": 1986, \"total_results\": 7071}, {\"year\": 1987, \"total_results\": 6452}, {\"year\": 1988, \"total_results\": 6750}, {\"year\": 1989, \"total_results\": 6183}, {\"year\": 1990, \"total_results\": 6027}, {\"year\": 1991, \"total_results\": 6248}, {\"year\": 1992, \"total_results\": 6178}, {\"year\": 1993, \"total_results\": 5820}, {\"year\": 1994, \"total_results\": 5466}, {\"year\": 1995, \"total_results\": 5560}, {\"year\": 1996, \"total_results\": 1701}, {\"year\": 1997, \"total_results\": 1749}, {\"year\": 1998, \"total_results\": 1846}, {\"year\": 1999, \"total_results\": 2165}, {\"year\": 2000, \"total_results\": 1660}, {\"year\": 2001, \"total_results\": 1571}, {\"year\": 2002, \"total_results\": 1595}, {\"year\": 2003, \"total_results\": 1008}, {\"year\": 2004, \"total_results\": 849}, {\"year\": 2005, \"total_results\": 697}, {\"year\": 2006, \"total_results\": 724}, {\"year\": 2007, \"total_results\": 692}, {\"year\": 2008, \"total_results\": 662}, {\"year\": 2009, \"total_results\": 296}, {\"year\": 2010, \"total_results\": 264}, {\"year\": 2011, \"total_results\": 224}, {\"year\": 2012, \"total_results\": 131}, {\"year\": 2013, \"total_results\": 128}, {\"year\": 2014, \"total_results\": 128}, {\"year\": 2015, \"total_results\": 93}, {\"year\": 2016, \"total_results\": 67}, {\"year\": 2017, \"total_results\": 55}, {\"year\": 2018, \"total_results\": 36}, {\"year\": 2019, \"total_results\": 32}]}}, {\"mode\": \"vega-lite\"});\n",
       "</script>"
      ],
      "text/plain": [
       "alt.Chart(...)"
      ]
     },
     "execution_count": 10,
     "metadata": {},
     "output_type": "execute_result"
    }
   ],
   "source": [
    "alt.Chart(df).mark_line(point=True).encode(\n",
    "    # Years on the X axis\n",
    "    x=alt.X(\"year:Q\", axis=alt.Axis(format=\"c\", title=\"Year\")),\n",
    "    # Number of articles on the Y axis\n",
    "    y=alt.Y(\"total_results:Q\", axis=alt.Axis(format=\",d\", title=\"Number of articles\")),\n",
    "    # Display details when you hover over a point\n",
    "    tooltip=[\n",
    "        alt.Tooltip(\"year:Q\", title=\"Year\"),\n",
    "        alt.Tooltip(\"total_results:Q\", title=\"Articles\", format=\",\"),\n",
    "    ],\n",
    ").properties(width=700, height=400)"
   ]
  },
  {
   "cell_type": "markdown",
   "metadata": {},
   "source": [
    "No suprise to see a sudden increase in the use of the word 'radio' in the early decades of the 20th century, but why do the results drop away after 1954? To find out we have to dig a bit deeper into Trove."
   ]
  },
  {
   "cell_type": "markdown",
   "metadata": {},
   "source": [
    "## 3. How many articles in total were published each year?"
   ]
  },
  {
   "cell_type": "markdown",
   "metadata": {},
   "source": [
    "Ok, we've visualised a search in Trove's digitised newspapers. Our chart shows a clear change in the number of articles over time, but are we really observing a historical shift relating to the topic, or is this just because more newspapers were published at particular times? To explore this further, let's create another chart, but this time we'll search for *everything*. The way we do this is by setting the `q` parameter to ' ' – a single space.\n",
    "\n",
    "First let's get the data."
   ]
  },
  {
   "cell_type": "code",
   "execution_count": 11,
   "metadata": {},
   "outputs": [],
   "source": [
    "# Reset the 'q' parameter\n",
    "del params[\"q\"]\n",
    "\n",
    "# Get facet data for all articles\n",
    "all_facet_data = get_facet_data(params)"
   ]
  },
  {
   "cell_type": "markdown",
   "metadata": {},
   "source": [
    "Now let's create the chart."
   ]
  },
  {
   "cell_type": "code",
   "execution_count": 12,
   "metadata": {},
   "outputs": [
    {
     "data": {
      "text/html": [
       "\n",
       "<style>\n",
       "  #altair-viz-33a5116328fb4749b1c23454d717020f.vega-embed {\n",
       "    width: 100%;\n",
       "    display: flex;\n",
       "  }\n",
       "\n",
       "  #altair-viz-33a5116328fb4749b1c23454d717020f.vega-embed details,\n",
       "  #altair-viz-33a5116328fb4749b1c23454d717020f.vega-embed details summary {\n",
       "    position: relative;\n",
       "  }\n",
       "</style>\n",
       "<div id=\"altair-viz-33a5116328fb4749b1c23454d717020f\"></div>\n",
       "<script type=\"text/javascript\">\n",
       "  var VEGA_DEBUG = (typeof VEGA_DEBUG == \"undefined\") ? {} : VEGA_DEBUG;\n",
       "  (function(spec, embedOpt){\n",
       "    let outputDiv = document.currentScript.previousElementSibling;\n",
       "    if (outputDiv.id !== \"altair-viz-33a5116328fb4749b1c23454d717020f\") {\n",
       "      outputDiv = document.getElementById(\"altair-viz-33a5116328fb4749b1c23454d717020f\");\n",
       "    }\n",
       "    const paths = {\n",
       "      \"vega\": \"https://cdn.jsdelivr.net/npm/vega@5?noext\",\n",
       "      \"vega-lib\": \"https://cdn.jsdelivr.net/npm/vega-lib?noext\",\n",
       "      \"vega-lite\": \"https://cdn.jsdelivr.net/npm/vega-lite@5.20.1?noext\",\n",
       "      \"vega-embed\": \"https://cdn.jsdelivr.net/npm/vega-embed@6?noext\",\n",
       "    };\n",
       "\n",
       "    function maybeLoadScript(lib, version) {\n",
       "      var key = `${lib.replace(\"-\", \"\")}_version`;\n",
       "      return (VEGA_DEBUG[key] == version) ?\n",
       "        Promise.resolve(paths[lib]) :\n",
       "        new Promise(function(resolve, reject) {\n",
       "          var s = document.createElement('script');\n",
       "          document.getElementsByTagName(\"head\")[0].appendChild(s);\n",
       "          s.async = true;\n",
       "          s.onload = () => {\n",
       "            VEGA_DEBUG[key] = version;\n",
       "            return resolve(paths[lib]);\n",
       "          };\n",
       "          s.onerror = () => reject(`Error loading script: ${paths[lib]}`);\n",
       "          s.src = paths[lib];\n",
       "        });\n",
       "    }\n",
       "\n",
       "    function showError(err) {\n",
       "      outputDiv.innerHTML = `<div class=\"error\" style=\"color:red;\">${err}</div>`;\n",
       "      throw err;\n",
       "    }\n",
       "\n",
       "    function displayChart(vegaEmbed) {\n",
       "      vegaEmbed(outputDiv, spec, embedOpt)\n",
       "        .catch(err => showError(`Javascript Error: ${err.message}<br>This usually means there's a typo in your chart specification. See the javascript console for the full traceback.`));\n",
       "    }\n",
       "\n",
       "    if(typeof define === \"function\" && define.amd) {\n",
       "      requirejs.config({paths});\n",
       "      require([\"vega-embed\"], displayChart, err => showError(`Error loading script: ${err.message}`));\n",
       "    } else {\n",
       "      maybeLoadScript(\"vega\", \"5\")\n",
       "        .then(() => maybeLoadScript(\"vega-lite\", \"5.20.1\"))\n",
       "        .then(() => maybeLoadScript(\"vega-embed\", \"6\"))\n",
       "        .catch(showError)\n",
       "        .then(() => displayChart(vegaEmbed));\n",
       "    }\n",
       "  })({\"config\": {\"view\": {\"continuousWidth\": 300, \"continuousHeight\": 300}}, \"data\": {\"name\": \"data-7b4a358e126aac8509932734c5f8752d\"}, \"mark\": {\"type\": \"line\", \"point\": true}, \"encoding\": {\"tooltip\": [{\"field\": \"year\", \"title\": \"Year\", \"type\": \"quantitative\"}, {\"field\": \"total_results\", \"format\": \",\", \"title\": \"Articles\", \"type\": \"quantitative\"}], \"x\": {\"axis\": {\"format\": \"c\", \"title\": \"Year\"}, \"field\": \"year\", \"type\": \"quantitative\"}, \"y\": {\"axis\": {\"format\": \",d\", \"title\": \"Number of articles\"}, \"field\": \"total_results\", \"type\": \"quantitative\"}}, \"height\": 400, \"width\": 700, \"$schema\": \"https://vega.github.io/schema/vega-lite/v5.20.1.json\", \"datasets\": {\"data-7b4a358e126aac8509932734c5f8752d\": [{\"year\": 1803, \"total_results\": 526}, {\"year\": 1804, \"total_results\": 619}, {\"year\": 1805, \"total_results\": 430}, {\"year\": 1806, \"total_results\": 367}, {\"year\": 1807, \"total_results\": 134}, {\"year\": 1808, \"total_results\": 155}, {\"year\": 1809, \"total_results\": 237}, {\"year\": 1810, \"total_results\": 274}, {\"year\": 1811, \"total_results\": 228}, {\"year\": 1812, \"total_results\": 215}, {\"year\": 1813, \"total_results\": 234}, {\"year\": 1814, \"total_results\": 239}, {\"year\": 1815, \"total_results\": 226}, {\"year\": 1816, \"total_results\": 644}, {\"year\": 1817, \"total_results\": 1068}, {\"year\": 1818, \"total_results\": 1249}, {\"year\": 1819, \"total_results\": 1152}, {\"year\": 1820, \"total_results\": 1275}, {\"year\": 1821, \"total_results\": 1005}, {\"year\": 1822, \"total_results\": 1033}, {\"year\": 1823, \"total_results\": 1156}, {\"year\": 1824, \"total_results\": 1646}, {\"year\": 1825, \"total_results\": 3366}, {\"year\": 1826, \"total_results\": 5201}, {\"year\": 1827, \"total_results\": 6693}, {\"year\": 1828, \"total_results\": 7335}, {\"year\": 1829, \"total_results\": 8935}, {\"year\": 1830, \"total_results\": 8977}, {\"year\": 1831, \"total_results\": 10989}, {\"year\": 1832, \"total_results\": 14814}, {\"year\": 1833, \"total_results\": 15622}, {\"year\": 1834, \"total_results\": 18704}, {\"year\": 1835, \"total_results\": 20389}, {\"year\": 1836, \"total_results\": 20553}, {\"year\": 1837, \"total_results\": 21805}, {\"year\": 1838, \"total_results\": 25911}, {\"year\": 1839, \"total_results\": 32876}, {\"year\": 1840, \"total_results\": 42411}, {\"year\": 1841, \"total_results\": 46377}, {\"year\": 1842, \"total_results\": 47934}, {\"year\": 1843, \"total_results\": 49913}, {\"year\": 1844, \"total_results\": 54331}, {\"year\": 1845, \"total_results\": 63389}, {\"year\": 1846, \"total_results\": 62153}, {\"year\": 1847, \"total_results\": 62767}, {\"year\": 1848, \"total_results\": 63463}, {\"year\": 1849, \"total_results\": 62794}, {\"year\": 1850, \"total_results\": 81624}, {\"year\": 1851, \"total_results\": 96566}, {\"year\": 1852, \"total_results\": 79960}, {\"year\": 1853, \"total_results\": 96033}, {\"year\": 1854, \"total_results\": 118895}, {\"year\": 1855, \"total_results\": 159935}, {\"year\": 1856, \"total_results\": 168695}, {\"year\": 1857, \"total_results\": 175982}, {\"year\": 1858, \"total_results\": 182050}, {\"year\": 1859, \"total_results\": 208543}, {\"year\": 1860, \"total_results\": 221733}, {\"year\": 1861, \"total_results\": 245273}, {\"year\": 1862, \"total_results\": 252981}, {\"year\": 1863, \"total_results\": 260291}, {\"year\": 1864, \"total_results\": 274076}, {\"year\": 1865, \"total_results\": 292157}, {\"year\": 1866, \"total_results\": 297673}, {\"year\": 1867, \"total_results\": 306399}, {\"year\": 1868, \"total_results\": 315179}, {\"year\": 1869, \"total_results\": 337323}, {\"year\": 1870, \"total_results\": 385289}, {\"year\": 1871, \"total_results\": 371982}, {\"year\": 1872, \"total_results\": 397020}, {\"year\": 1873, \"total_results\": 430691}, {\"year\": 1874, \"total_results\": 445748}, {\"year\": 1875, \"total_results\": 482469}, {\"year\": 1876, \"total_results\": 494060}, {\"year\": 1877, \"total_results\": 509249}, {\"year\": 1878, \"total_results\": 578926}, {\"year\": 1879, \"total_results\": 620648}, {\"year\": 1880, \"total_results\": 635861}, {\"year\": 1881, \"total_results\": 679154}, {\"year\": 1882, \"total_results\": 764271}, {\"year\": 1883, \"total_results\": 795970}, {\"year\": 1884, \"total_results\": 898376}, {\"year\": 1885, \"total_results\": 952777}, {\"year\": 1886, \"total_results\": 1031192}, {\"year\": 1887, \"total_results\": 1070273}, {\"year\": 1888, \"total_results\": 1199895}, {\"year\": 1889, \"total_results\": 1288503}, {\"year\": 1890, \"total_results\": 1403249}, {\"year\": 1891, \"total_results\": 1473337}, {\"year\": 1892, \"total_results\": 1532205}, {\"year\": 1893, \"total_results\": 1560089}, {\"year\": 1894, \"total_results\": 1620538}, {\"year\": 1895, \"total_results\": 1738871}, {\"year\": 1896, \"total_results\": 1858409}, {\"year\": 1897, \"total_results\": 1970237}, {\"year\": 1898, \"total_results\": 2197298}, {\"year\": 1899, \"total_results\": 2378661}, {\"year\": 1900, \"total_results\": 2615010}, {\"year\": 1901, \"total_results\": 2712040}, {\"year\": 1902, \"total_results\": 2769996}, {\"year\": 1903, \"total_results\": 2802628}, {\"year\": 1904, \"total_results\": 2963666}, {\"year\": 1905, \"total_results\": 3093983}, {\"year\": 1906, \"total_results\": 3136799}, {\"year\": 1907, \"total_results\": 3295230}, {\"year\": 1908, \"total_results\": 3396203}, {\"year\": 1909, \"total_results\": 3453773}, {\"year\": 1910, \"total_results\": 3686929}, {\"year\": 1911, \"total_results\": 3813205}, {\"year\": 1912, \"total_results\": 3968854}, {\"year\": 1913, \"total_results\": 4044296}, {\"year\": 1914, \"total_results\": 4682621}, {\"year\": 1915, \"total_results\": 4783530}, {\"year\": 1916, \"total_results\": 4369287}, {\"year\": 1917, \"total_results\": 4262301}, {\"year\": 1918, \"total_results\": 4040965}, {\"year\": 1919, \"total_results\": 3558241}, {\"year\": 1920, \"total_results\": 3304747}, {\"year\": 1921, \"total_results\": 3485308}, {\"year\": 1922, \"total_results\": 3635068}, {\"year\": 1923, \"total_results\": 3944282}, {\"year\": 1924, \"total_results\": 4249519}, {\"year\": 1925, \"total_results\": 4231795}, {\"year\": 1926, \"total_results\": 4226596}, {\"year\": 1927, \"total_results\": 4321841}, {\"year\": 1928, \"total_results\": 4441252}, {\"year\": 1929, \"total_results\": 4661832}, {\"year\": 1930, \"total_results\": 4505395}, {\"year\": 1931, \"total_results\": 4119730}, {\"year\": 1932, \"total_results\": 4134954}, {\"year\": 1933, \"total_results\": 4320822}, {\"year\": 1934, \"total_results\": 4457622}, {\"year\": 1935, \"total_results\": 4552116}, {\"year\": 1936, \"total_results\": 4632922}, {\"year\": 1937, \"total_results\": 4618274}, {\"year\": 1938, \"total_results\": 4616705}, {\"year\": 1939, \"total_results\": 4387229}, {\"year\": 1940, \"total_results\": 3783203}, {\"year\": 1941, \"total_results\": 3598964}, {\"year\": 1942, \"total_results\": 2935253}, {\"year\": 1943, \"total_results\": 2586289}, {\"year\": 1944, \"total_results\": 2635712}, {\"year\": 1945, \"total_results\": 2769932}, {\"year\": 1946, \"total_results\": 3323157}, {\"year\": 1947, \"total_results\": 3441909}, {\"year\": 1948, \"total_results\": 3101920}, {\"year\": 1949, \"total_results\": 3524852}, {\"year\": 1950, \"total_results\": 3554270}, {\"year\": 1951, \"total_results\": 3281008}, {\"year\": 1952, \"total_results\": 3375009}, {\"year\": 1953, \"total_results\": 3592915}, {\"year\": 1954, \"total_results\": 3541607}, {\"year\": 1955, \"total_results\": 404423}, {\"year\": 1956, \"total_results\": 229324}, {\"year\": 1957, \"total_results\": 153132}, {\"year\": 1958, \"total_results\": 153484}, {\"year\": 1959, \"total_results\": 153425}, {\"year\": 1960, \"total_results\": 154646}, {\"year\": 1961, \"total_results\": 151751}, {\"year\": 1962, \"total_results\": 156236}, {\"year\": 1963, \"total_results\": 167154}, {\"year\": 1964, \"total_results\": 167801}, {\"year\": 1965, \"total_results\": 177093}, {\"year\": 1966, \"total_results\": 160897}, {\"year\": 1967, \"total_results\": 155832}, {\"year\": 1968, \"total_results\": 157330}, {\"year\": 1969, \"total_results\": 179517}, {\"year\": 1970, \"total_results\": 193249}, {\"year\": 1971, \"total_results\": 191379}, {\"year\": 1972, \"total_results\": 179093}, {\"year\": 1973, \"total_results\": 180806}, {\"year\": 1974, \"total_results\": 179385}, {\"year\": 1975, \"total_results\": 168395}, {\"year\": 1976, \"total_results\": 169153}, {\"year\": 1977, \"total_results\": 170625}, {\"year\": 1978, \"total_results\": 175661}, {\"year\": 1979, \"total_results\": 184844}, {\"year\": 1980, \"total_results\": 185923}, {\"year\": 1981, \"total_results\": 164070}, {\"year\": 1982, \"total_results\": 153396}, {\"year\": 1983, \"total_results\": 141802}, {\"year\": 1984, \"total_results\": 146493}, {\"year\": 1985, \"total_results\": 155564}, {\"year\": 1986, \"total_results\": 152788}, {\"year\": 1987, \"total_results\": 133503}, {\"year\": 1988, \"total_results\": 143213}, {\"year\": 1989, \"total_results\": 146122}, {\"year\": 1990, \"total_results\": 138585}, {\"year\": 1991, \"total_results\": 139257}, {\"year\": 1992, \"total_results\": 159414}, {\"year\": 1993, \"total_results\": 160603}, {\"year\": 1994, \"total_results\": 155783}, {\"year\": 1995, \"total_results\": 154299}, {\"year\": 1996, \"total_results\": 69400}, {\"year\": 1997, \"total_results\": 73218}, {\"year\": 1998, \"total_results\": 80878}, {\"year\": 1999, \"total_results\": 90368}, {\"year\": 2000, \"total_results\": 68823}, {\"year\": 2001, \"total_results\": 67114}, {\"year\": 2002, \"total_results\": 68169}, {\"year\": 2003, \"total_results\": 33361}, {\"year\": 2004, \"total_results\": 30793}, {\"year\": 2005, \"total_results\": 26677}, {\"year\": 2006, \"total_results\": 26179}, {\"year\": 2007, \"total_results\": 27726}, {\"year\": 2008, \"total_results\": 26158}, {\"year\": 2009, \"total_results\": 14340}, {\"year\": 2010, \"total_results\": 14750}, {\"year\": 2011, \"total_results\": 15228}, {\"year\": 2012, \"total_results\": 8112}, {\"year\": 2013, \"total_results\": 8358}, {\"year\": 2014, \"total_results\": 8077}, {\"year\": 2015, \"total_results\": 8255}, {\"year\": 2016, \"total_results\": 4665}, {\"year\": 2017, \"total_results\": 4184}, {\"year\": 2018, \"total_results\": 3506}, {\"year\": 2019, \"total_results\": 3314}]}}, {\"mode\": \"vega-lite\"});\n",
       "</script>"
      ],
      "text/plain": [
       "alt.Chart(...)"
      ]
     },
     "execution_count": 12,
     "metadata": {},
     "output_type": "execute_result"
    }
   ],
   "source": [
    "# Convert the results to a dataframe\n",
    "df_total = pd.DataFrame(all_facet_data)\n",
    "\n",
    "# Make a chart\n",
    "alt.Chart(df_total).mark_line(point=True).encode(\n",
    "    # Display the years along the X axis\n",
    "    x=alt.X(\"year:Q\", axis=alt.Axis(format=\"c\", title=\"Year\")),\n",
    "    # Display the number of results on the Y axis (formatted using thousands separator)\n",
    "    y=alt.Y(\"total_results:Q\", axis=alt.Axis(format=\",d\", title=\"Number of articles\")),\n",
    "    # Create a tooltip when you hover over a point to show the data for that year\n",
    "    tooltip=[\n",
    "        alt.Tooltip(\"year:Q\", title=\"Year\"),\n",
    "        alt.Tooltip(\"total_results:Q\", title=\"Articles\", format=\",\"),\n",
    "    ],\n",
    ").properties(width=700, height=400)"
   ]
  },
  {
   "cell_type": "markdown",
   "metadata": {},
   "source": [
    "This chart shows us the total number of newspaper articles in Trove for each year from 1803 to 2013. As you might expect, there's a steady increase in the number of articles published across the 19th century. But why is there such a notable peak in 1915, and why do the numbers drop away so suddenly in 1955? The answers are explored more fully in [this notebook](visualise-total-newspaper-articles-by-state-year.ipynb), but in short they're a reflection of digitisation priorities and copyright restrictions – they're artefacts of the environment in which Trove's newspapers are digitised.\n",
    "\n",
    "The important point is that our original chart showing search results over time is distorted by these underlying features. Radios didn't suddenly go out of fashion in 1955!"
   ]
  },
  {
   "cell_type": "markdown",
   "metadata": {},
   "source": [
    "## 4. Charting our search results as a proportion of total articles\n",
    "\n",
    "One way of lessening the impact of these distortions is to show the number of search results as a proportion of the total number of articles available on Trove from that year. We've just harvested the total number of articles, so to get the proportion all we have to do is divide the original number of search results for each year by the total number of articles. Again, Pandas makes this sort of manipulation easy.\n",
    "\n",
    "Below we'll define a function that takes two dataframes – the search results, and the total results – merges them, and then calculates what proportion of the total that the search results represent."
   ]
  },
  {
   "cell_type": "code",
   "execution_count": 13,
   "metadata": {},
   "outputs": [],
   "source": [
    "def merge_df_with_total(df, df_total):\n",
    "    \"\"\"\n",
    "    Merge dataframes containing search results with the total number of articles by year.\n",
    "    This is a left join on the year column. The total number of articles will be added as a column to\n",
    "    the existing results.\n",
    "    Once merged, do some reorganisation and calculate the proportion of search results.\n",
    "    Parameters:\n",
    "        df - the search results in a dataframe\n",
    "        df_total - total number of articles per year in a dataframe\n",
    "    Returns:\n",
    "        A dataframe with the following columns - 'year', 'total_results', 'total_articles', 'proportion'\n",
    "        (plus any other columns that are in the search results dataframe).\n",
    "    \"\"\"\n",
    "    # Merge the two dataframes on year\n",
    "    # Note that we're joining the two dataframes on the year column\n",
    "    df_merged = pd.merge(df, df_total, how=\"left\", on=\"year\")\n",
    "\n",
    "    # Rename the columns for convenience\n",
    "    df_merged.rename(\n",
    "        {\"total_results_y\": \"total_articles\"}, inplace=True, axis=\"columns\"\n",
    "    )\n",
    "    df_merged.rename({\"total_results_x\": \"total_results\"}, inplace=True, axis=\"columns\")\n",
    "\n",
    "    # Set blank values to zero to avoid problems\n",
    "    df_merged[\"total_results\"] = df_merged[\"total_results\"].fillna(0).astype(int)\n",
    "\n",
    "    # Calculate proportion by dividing the search results by the total articles\n",
    "    df_merged[\"proportion\"] = df_merged[\"total_results\"] / df_merged[\"total_articles\"]\n",
    "    return df_merged"
   ]
  },
  {
   "cell_type": "markdown",
   "metadata": {},
   "source": [
    "Let's merge!"
   ]
  },
  {
   "cell_type": "code",
   "execution_count": 14,
   "metadata": {},
   "outputs": [
    {
     "data": {
      "text/html": [
       "<div>\n",
       "<style scoped>\n",
       "    .dataframe tbody tr th:only-of-type {\n",
       "        vertical-align: middle;\n",
       "    }\n",
       "\n",
       "    .dataframe tbody tr th {\n",
       "        vertical-align: top;\n",
       "    }\n",
       "\n",
       "    .dataframe thead th {\n",
       "        text-align: right;\n",
       "    }\n",
       "</style>\n",
       "<table border=\"1\" class=\"dataframe\">\n",
       "  <thead>\n",
       "    <tr style=\"text-align: right;\">\n",
       "      <th></th>\n",
       "      <th>year</th>\n",
       "      <th>total_results</th>\n",
       "      <th>total_articles</th>\n",
       "      <th>proportion</th>\n",
       "    </tr>\n",
       "  </thead>\n",
       "  <tbody>\n",
       "    <tr>\n",
       "      <th>0</th>\n",
       "      <td>1830</td>\n",
       "      <td>1</td>\n",
       "      <td>8977</td>\n",
       "      <td>0.000111</td>\n",
       "    </tr>\n",
       "    <tr>\n",
       "      <th>1</th>\n",
       "      <td>1831</td>\n",
       "      <td>1</td>\n",
       "      <td>10989</td>\n",
       "      <td>0.000091</td>\n",
       "    </tr>\n",
       "    <tr>\n",
       "      <th>2</th>\n",
       "      <td>1832</td>\n",
       "      <td>1</td>\n",
       "      <td>14814</td>\n",
       "      <td>0.000068</td>\n",
       "    </tr>\n",
       "    <tr>\n",
       "      <th>3</th>\n",
       "      <td>1833</td>\n",
       "      <td>2</td>\n",
       "      <td>15622</td>\n",
       "      <td>0.000128</td>\n",
       "    </tr>\n",
       "    <tr>\n",
       "      <th>4</th>\n",
       "      <td>1834</td>\n",
       "      <td>5</td>\n",
       "      <td>18704</td>\n",
       "      <td>0.000267</td>\n",
       "    </tr>\n",
       "  </tbody>\n",
       "</table>\n",
       "</div>"
      ],
      "text/plain": [
       "   year  total_results  total_articles  proportion\n",
       "0  1830              1            8977    0.000111\n",
       "1  1831              1           10989    0.000091\n",
       "2  1832              1           14814    0.000068\n",
       "3  1833              2           15622    0.000128\n",
       "4  1834              5           18704    0.000267"
      ]
     },
     "execution_count": 14,
     "metadata": {},
     "output_type": "execute_result"
    }
   ],
   "source": [
    "# Merge the search results with the total articles\n",
    "df_merged = merge_df_with_total(df, df_total)\n",
    "df_merged.head()"
   ]
  },
  {
   "cell_type": "markdown",
   "metadata": {},
   "source": [
    "Now we have a new dataframe `df_merged` that includes both the raw number of search results for each year, and the proportion the results represent of the total number of articles on Trove. Let's create charts for both and look at the diferences."
   ]
  },
  {
   "cell_type": "code",
   "execution_count": 15,
   "metadata": {},
   "outputs": [
    {
     "data": {
      "text/html": [
       "\n",
       "<style>\n",
       "  #altair-viz-50e77175765f4c8eaaf658fe3d3964b3.vega-embed {\n",
       "    width: 100%;\n",
       "    display: flex;\n",
       "  }\n",
       "\n",
       "  #altair-viz-50e77175765f4c8eaaf658fe3d3964b3.vega-embed details,\n",
       "  #altair-viz-50e77175765f4c8eaaf658fe3d3964b3.vega-embed details summary {\n",
       "    position: relative;\n",
       "  }\n",
       "</style>\n",
       "<div id=\"altair-viz-50e77175765f4c8eaaf658fe3d3964b3\"></div>\n",
       "<script type=\"text/javascript\">\n",
       "  var VEGA_DEBUG = (typeof VEGA_DEBUG == \"undefined\") ? {} : VEGA_DEBUG;\n",
       "  (function(spec, embedOpt){\n",
       "    let outputDiv = document.currentScript.previousElementSibling;\n",
       "    if (outputDiv.id !== \"altair-viz-50e77175765f4c8eaaf658fe3d3964b3\") {\n",
       "      outputDiv = document.getElementById(\"altair-viz-50e77175765f4c8eaaf658fe3d3964b3\");\n",
       "    }\n",
       "    const paths = {\n",
       "      \"vega\": \"https://cdn.jsdelivr.net/npm/vega@5?noext\",\n",
       "      \"vega-lib\": \"https://cdn.jsdelivr.net/npm/vega-lib?noext\",\n",
       "      \"vega-lite\": \"https://cdn.jsdelivr.net/npm/vega-lite@5.20.1?noext\",\n",
       "      \"vega-embed\": \"https://cdn.jsdelivr.net/npm/vega-embed@6?noext\",\n",
       "    };\n",
       "\n",
       "    function maybeLoadScript(lib, version) {\n",
       "      var key = `${lib.replace(\"-\", \"\")}_version`;\n",
       "      return (VEGA_DEBUG[key] == version) ?\n",
       "        Promise.resolve(paths[lib]) :\n",
       "        new Promise(function(resolve, reject) {\n",
       "          var s = document.createElement('script');\n",
       "          document.getElementsByTagName(\"head\")[0].appendChild(s);\n",
       "          s.async = true;\n",
       "          s.onload = () => {\n",
       "            VEGA_DEBUG[key] = version;\n",
       "            return resolve(paths[lib]);\n",
       "          };\n",
       "          s.onerror = () => reject(`Error loading script: ${paths[lib]}`);\n",
       "          s.src = paths[lib];\n",
       "        });\n",
       "    }\n",
       "\n",
       "    function showError(err) {\n",
       "      outputDiv.innerHTML = `<div class=\"error\" style=\"color:red;\">${err}</div>`;\n",
       "      throw err;\n",
       "    }\n",
       "\n",
       "    function displayChart(vegaEmbed) {\n",
       "      vegaEmbed(outputDiv, spec, embedOpt)\n",
       "        .catch(err => showError(`Javascript Error: ${err.message}<br>This usually means there's a typo in your chart specification. See the javascript console for the full traceback.`));\n",
       "    }\n",
       "\n",
       "    if(typeof define === \"function\" && define.amd) {\n",
       "      requirejs.config({paths});\n",
       "      require([\"vega-embed\"], displayChart, err => showError(`Error loading script: ${err.message}`));\n",
       "    } else {\n",
       "      maybeLoadScript(\"vega\", \"5\")\n",
       "        .then(() => maybeLoadScript(\"vega-lite\", \"5.20.1\"))\n",
       "        .then(() => maybeLoadScript(\"vega-embed\", \"6\"))\n",
       "        .catch(showError)\n",
       "        .then(() => displayChart(vegaEmbed));\n",
       "    }\n",
       "  })({\"config\": {\"view\": {\"continuousWidth\": 300, \"continuousHeight\": 300}}, \"vconcat\": [{\"data\": {\"name\": \"data-4c173b289cc190e2e4b5a5734d74a1e3\"}, \"mark\": {\"type\": \"line\", \"point\": true}, \"encoding\": {\"tooltip\": [{\"field\": \"year\", \"title\": \"Year\", \"type\": \"quantitative\"}, {\"field\": \"total_results\", \"format\": \",\", \"title\": \"Articles\", \"type\": \"quantitative\"}], \"x\": {\"axis\": {\"format\": \"c\", \"title\": \"Year\"}, \"field\": \"year\", \"type\": \"quantitative\"}, \"y\": {\"axis\": {\"format\": \",d\", \"title\": \"Number of articles\"}, \"field\": \"total_results\", \"type\": \"quantitative\"}}, \"height\": 250, \"width\": 700}, {\"data\": {\"name\": \"data-9f70804bf93df29feac295fb1a22df31\"}, \"mark\": {\"type\": \"line\", \"color\": \"red\", \"point\": true}, \"encoding\": {\"color\": {\"value\": \"orange\"}, \"tooltip\": [{\"field\": \"year\", \"title\": \"Year\", \"type\": \"quantitative\"}, {\"field\": \"proportion\", \"format\": \"%\", \"title\": \"Proportion\", \"type\": \"quantitative\"}], \"x\": {\"axis\": {\"format\": \"c\", \"title\": \"Year\"}, \"field\": \"year\", \"type\": \"quantitative\"}, \"y\": {\"axis\": {\"format\": \"%\", \"title\": \"Proportion of articles\"}, \"field\": \"proportion\", \"type\": \"quantitative\"}}, \"height\": 250, \"width\": 700}], \"$schema\": \"https://vega.github.io/schema/vega-lite/v5.20.1.json\", \"datasets\": {\"data-4c173b289cc190e2e4b5a5734d74a1e3\": [{\"year\": 1830, \"total_results\": 1}, {\"year\": 1831, \"total_results\": 1}, {\"year\": 1832, \"total_results\": 1}, {\"year\": 1833, \"total_results\": 2}, {\"year\": 1834, \"total_results\": 5}, {\"year\": 1835, \"total_results\": 3}, {\"year\": 1836, \"total_results\": 11}, {\"year\": 1837, \"total_results\": 7}, {\"year\": 1838, \"total_results\": 7}, {\"year\": 1839, \"total_results\": 5}, {\"year\": 1840, \"total_results\": 3}, {\"year\": 1841, \"total_results\": 29}, {\"year\": 1842, \"total_results\": 12}, {\"year\": 1843, \"total_results\": 8}, {\"year\": 1844, \"total_results\": 10}, {\"year\": 1845, \"total_results\": 15}, {\"year\": 1846, \"total_results\": 8}, {\"year\": 1847, \"total_results\": 21}, {\"year\": 1848, \"total_results\": 12}, {\"year\": 1849, \"total_results\": 25}, {\"year\": 1850, \"total_results\": 42}, {\"year\": 1851, \"total_results\": 31}, {\"year\": 1852, \"total_results\": 44}, {\"year\": 1853, \"total_results\": 108}, {\"year\": 1854, \"total_results\": 179}, {\"year\": 1855, \"total_results\": 70}, {\"year\": 1856, \"total_results\": 71}, {\"year\": 1857, \"total_results\": 86}, {\"year\": 1858, \"total_results\": 141}, {\"year\": 1859, \"total_results\": 129}, {\"year\": 1860, \"total_results\": 159}, {\"year\": 1861, \"total_results\": 185}, {\"year\": 1862, \"total_results\": 148}, {\"year\": 1863, \"total_results\": 171}, {\"year\": 1864, \"total_results\": 134}, {\"year\": 1865, \"total_results\": 136}, {\"year\": 1866, \"total_results\": 115}, {\"year\": 1867, \"total_results\": 120}, {\"year\": 1868, \"total_results\": 158}, {\"year\": 1869, \"total_results\": 159}, {\"year\": 1870, \"total_results\": 164}, {\"year\": 1871, \"total_results\": 198}, {\"year\": 1872, \"total_results\": 181}, {\"year\": 1873, \"total_results\": 205}, {\"year\": 1874, \"total_results\": 219}, {\"year\": 1875, \"total_results\": 263}, {\"year\": 1876, \"total_results\": 285}, {\"year\": 1877, \"total_results\": 346}, {\"year\": 1878, \"total_results\": 333}, {\"year\": 1879, \"total_results\": 383}, {\"year\": 1880, \"total_results\": 368}, {\"year\": 1881, \"total_results\": 514}, {\"year\": 1882, \"total_results\": 467}, {\"year\": 1883, \"total_results\": 632}, {\"year\": 1884, \"total_results\": 609}, {\"year\": 1885, \"total_results\": 667}, {\"year\": 1886, \"total_results\": 738}, {\"year\": 1887, \"total_results\": 689}, {\"year\": 1888, \"total_results\": 830}, {\"year\": 1889, \"total_results\": 807}, {\"year\": 1890, \"total_results\": 875}, {\"year\": 1891, \"total_results\": 827}, {\"year\": 1892, \"total_results\": 849}, {\"year\": 1893, \"total_results\": 855}, {\"year\": 1894, \"total_results\": 922}, {\"year\": 1895, \"total_results\": 975}, {\"year\": 1896, \"total_results\": 1086}, {\"year\": 1897, \"total_results\": 1086}, {\"year\": 1898, \"total_results\": 991}, {\"year\": 1899, \"total_results\": 1005}, {\"year\": 1900, \"total_results\": 949}, {\"year\": 1901, \"total_results\": 983}, {\"year\": 1902, \"total_results\": 1080}, {\"year\": 1903, \"total_results\": 1286}, {\"year\": 1904, \"total_results\": 1797}, {\"year\": 1905, \"total_results\": 1903}, {\"year\": 1906, \"total_results\": 2258}, {\"year\": 1907, \"total_results\": 2039}, {\"year\": 1908, \"total_results\": 1643}, {\"year\": 1909, \"total_results\": 2157}, {\"year\": 1910, \"total_results\": 2822}, {\"year\": 1911, \"total_results\": 3422}, {\"year\": 1912, \"total_results\": 3882}, {\"year\": 1913, \"total_results\": 4265}, {\"year\": 1914, \"total_results\": 4879}, {\"year\": 1915, \"total_results\": 4539}, {\"year\": 1916, \"total_results\": 3811}, {\"year\": 1917, \"total_results\": 3807}, {\"year\": 1918, \"total_results\": 3768}, {\"year\": 1919, \"total_results\": 4434}, {\"year\": 1920, \"total_results\": 5635}, {\"year\": 1921, \"total_results\": 5803}, {\"year\": 1922, \"total_results\": 8186}, {\"year\": 1923, \"total_results\": 12555}, {\"year\": 1924, \"total_results\": 26547}, {\"year\": 1925, \"total_results\": 40441}, {\"year\": 1926, \"total_results\": 45318}, {\"year\": 1927, \"total_results\": 57744}, {\"year\": 1928, \"total_results\": 65025}, {\"year\": 1929, \"total_results\": 65380}, {\"year\": 1930, \"total_results\": 68251}, {\"year\": 1931, \"total_results\": 69717}, {\"year\": 1932, \"total_results\": 77098}, {\"year\": 1933, \"total_results\": 84708}, {\"year\": 1934, \"total_results\": 100804}, {\"year\": 1935, \"total_results\": 109040}, {\"year\": 1936, \"total_results\": 118603}, {\"year\": 1937, \"total_results\": 131059}, {\"year\": 1938, \"total_results\": 142627}, {\"year\": 1939, \"total_results\": 139193}, {\"year\": 1940, \"total_results\": 139204}, {\"year\": 1941, \"total_results\": 161007}, {\"year\": 1942, \"total_results\": 151577}, {\"year\": 1943, \"total_results\": 144858}, {\"year\": 1944, \"total_results\": 137512}, {\"year\": 1945, \"total_results\": 133136}, {\"year\": 1946, \"total_results\": 143686}, {\"year\": 1947, \"total_results\": 151660}, {\"year\": 1948, \"total_results\": 132935}, {\"year\": 1949, \"total_results\": 145825}, {\"year\": 1950, \"total_results\": 147021}, {\"year\": 1951, \"total_results\": 133450}, {\"year\": 1952, \"total_results\": 135504}, {\"year\": 1953, \"total_results\": 152068}, {\"year\": 1954, \"total_results\": 161172}, {\"year\": 1955, \"total_results\": 16996}, {\"year\": 1956, \"total_results\": 11065}, {\"year\": 1957, \"total_results\": 7009}, {\"year\": 1958, \"total_results\": 7345}, {\"year\": 1959, \"total_results\": 7473}, {\"year\": 1960, \"total_results\": 7554}, {\"year\": 1961, \"total_results\": 7172}, {\"year\": 1962, \"total_results\": 7196}, {\"year\": 1963, \"total_results\": 8724}, {\"year\": 1964, \"total_results\": 8034}, {\"year\": 1965, \"total_results\": 8287}, {\"year\": 1966, \"total_results\": 6918}, {\"year\": 1967, \"total_results\": 6793}, {\"year\": 1968, \"total_results\": 7133}, {\"year\": 1969, \"total_results\": 8202}, {\"year\": 1970, \"total_results\": 8411}, {\"year\": 1971, \"total_results\": 8132}, {\"year\": 1972, \"total_results\": 8019}, {\"year\": 1973, \"total_results\": 7538}, {\"year\": 1974, \"total_results\": 7614}, {\"year\": 1975, \"total_results\": 7706}, {\"year\": 1976, \"total_results\": 8290}, {\"year\": 1977, \"total_results\": 8568}, {\"year\": 1978, \"total_results\": 8480}, {\"year\": 1979, \"total_results\": 8752}, {\"year\": 1980, \"total_results\": 8562}, {\"year\": 1981, \"total_results\": 8193}, {\"year\": 1982, \"total_results\": 6985}, {\"year\": 1983, \"total_results\": 6905}, {\"year\": 1984, \"total_results\": 7132}, {\"year\": 1985, \"total_results\": 7172}, {\"year\": 1986, \"total_results\": 7071}, {\"year\": 1987, \"total_results\": 6452}, {\"year\": 1988, \"total_results\": 6750}, {\"year\": 1989, \"total_results\": 6183}, {\"year\": 1990, \"total_results\": 6027}, {\"year\": 1991, \"total_results\": 6248}, {\"year\": 1992, \"total_results\": 6178}, {\"year\": 1993, \"total_results\": 5820}, {\"year\": 1994, \"total_results\": 5466}, {\"year\": 1995, \"total_results\": 5560}, {\"year\": 1996, \"total_results\": 1701}, {\"year\": 1997, \"total_results\": 1749}, {\"year\": 1998, \"total_results\": 1846}, {\"year\": 1999, \"total_results\": 2165}, {\"year\": 2000, \"total_results\": 1660}, {\"year\": 2001, \"total_results\": 1571}, {\"year\": 2002, \"total_results\": 1595}, {\"year\": 2003, \"total_results\": 1008}, {\"year\": 2004, \"total_results\": 849}, {\"year\": 2005, \"total_results\": 697}, {\"year\": 2006, \"total_results\": 724}, {\"year\": 2007, \"total_results\": 692}, {\"year\": 2008, \"total_results\": 662}, {\"year\": 2009, \"total_results\": 296}, {\"year\": 2010, \"total_results\": 264}, {\"year\": 2011, \"total_results\": 224}, {\"year\": 2012, \"total_results\": 131}, {\"year\": 2013, \"total_results\": 128}, {\"year\": 2014, \"total_results\": 128}, {\"year\": 2015, \"total_results\": 93}, {\"year\": 2016, \"total_results\": 67}, {\"year\": 2017, \"total_results\": 55}, {\"year\": 2018, \"total_results\": 36}, {\"year\": 2019, \"total_results\": 32}], \"data-9f70804bf93df29feac295fb1a22df31\": [{\"year\": 1830, \"total_results\": 1, \"total_articles\": 8977, \"proportion\": 0.00011139578923916676}, {\"year\": 1831, \"total_results\": 1, \"total_articles\": 10989, \"proportion\": 9.1000091000091e-05}, {\"year\": 1832, \"total_results\": 1, \"total_articles\": 14814, \"proportion\": 6.750371270419872e-05}, {\"year\": 1833, \"total_results\": 2, \"total_articles\": 15622, \"proportion\": 0.00012802458071949814}, {\"year\": 1834, \"total_results\": 5, \"total_articles\": 18704, \"proportion\": 0.00026732249786142}, {\"year\": 1835, \"total_results\": 3, \"total_articles\": 20389, \"proportion\": 0.000147138162734808}, {\"year\": 1836, \"total_results\": 11, \"total_articles\": 20553, \"proportion\": 0.0005352016737215978}, {\"year\": 1837, \"total_results\": 7, \"total_articles\": 21805, \"proportion\": 0.00032102728731942215}, {\"year\": 1838, \"total_results\": 7, \"total_articles\": 25911, \"proportion\": 0.00027015553239936706}, {\"year\": 1839, \"total_results\": 5, \"total_articles\": 32876, \"proportion\": 0.00015208662854361845}, {\"year\": 1840, \"total_results\": 3, \"total_articles\": 42411, \"proportion\": 7.073636556553724e-05}, {\"year\": 1841, \"total_results\": 29, \"total_articles\": 46377, \"proportion\": 0.0006253099596782888}, {\"year\": 1842, \"total_results\": 12, \"total_articles\": 47934, \"proportion\": 0.00025034422330704717}, {\"year\": 1843, \"total_results\": 8, \"total_articles\": 49913, \"proportion\": 0.000160278885260353}, {\"year\": 1844, \"total_results\": 10, \"total_articles\": 54331, \"proportion\": 0.00018405698404225948}, {\"year\": 1845, \"total_results\": 15, \"total_articles\": 63389, \"proportion\": 0.00023663411632933158}, {\"year\": 1846, \"total_results\": 8, \"total_articles\": 62153, \"proportion\": 0.00012871462359017265}, {\"year\": 1847, \"total_results\": 21, \"total_articles\": 62767, \"proportion\": 0.00033457071391017573}, {\"year\": 1848, \"total_results\": 12, \"total_articles\": 63463, \"proportion\": 0.00018908655437026298}, {\"year\": 1849, \"total_results\": 25, \"total_articles\": 62794, \"proportion\": 0.00039812720960601334}, {\"year\": 1850, \"total_results\": 42, \"total_articles\": 81624, \"proportion\": 0.0005145545427815349}, {\"year\": 1851, \"total_results\": 31, \"total_articles\": 96566, \"proportion\": 0.00032102396288548763}, {\"year\": 1852, \"total_results\": 44, \"total_articles\": 79960, \"proportion\": 0.0005502751375687844}, {\"year\": 1853, \"total_results\": 108, \"total_articles\": 96033, \"proportion\": 0.0011246134141388898}, {\"year\": 1854, \"total_results\": 179, \"total_articles\": 118895, \"proportion\": 0.001505530089574835}, {\"year\": 1855, \"total_results\": 70, \"total_articles\": 159935, \"proportion\": 0.0004376778066089349}, {\"year\": 1856, \"total_results\": 71, \"total_articles\": 168695, \"proportion\": 0.00042087791576513826}, {\"year\": 1857, \"total_results\": 86, \"total_articles\": 175982, \"proportion\": 0.0004886863429214352}, {\"year\": 1858, \"total_results\": 141, \"total_articles\": 182050, \"proportion\": 0.0007745124965668772}, {\"year\": 1859, \"total_results\": 129, \"total_articles\": 208543, \"proportion\": 0.0006185774636405921}, {\"year\": 1860, \"total_results\": 159, \"total_articles\": 221733, \"proportion\": 0.000717078648644992}, {\"year\": 1861, \"total_results\": 185, \"total_articles\": 245273, \"proportion\": 0.000754261577915221}, {\"year\": 1862, \"total_results\": 148, \"total_articles\": 252981, \"proportion\": 0.000585024171775746}, {\"year\": 1863, \"total_results\": 171, \"total_articles\": 260291, \"proportion\": 0.0006569570211801407}, {\"year\": 1864, \"total_results\": 134, \"total_articles\": 274076, \"proportion\": 0.0004889154832966038}, {\"year\": 1865, \"total_results\": 136, \"total_articles\": 292157, \"proportion\": 0.0004655031370119491}, {\"year\": 1866, \"total_results\": 115, \"total_articles\": 297673, \"proportion\": 0.00038632996610374473}, {\"year\": 1867, \"total_results\": 120, \"total_articles\": 306399, \"proportion\": 0.0003916461868348134}, {\"year\": 1868, \"total_results\": 158, \"total_articles\": 315179, \"proportion\": 0.0005013024344896075}, {\"year\": 1869, \"total_results\": 159, \"total_articles\": 337323, \"proportion\": 0.0004713583123593707}, {\"year\": 1870, \"total_results\": 164, \"total_articles\": 385289, \"proportion\": 0.00042565450869347425}, {\"year\": 1871, \"total_results\": 198, \"total_articles\": 371982, \"proportion\": 0.0005322838201848477}, {\"year\": 1872, \"total_results\": 181, \"total_articles\": 397020, \"proportion\": 0.0004558964283915168}, {\"year\": 1873, \"total_results\": 205, \"total_articles\": 430691, \"proportion\": 0.0004759792983832957}, {\"year\": 1874, \"total_results\": 219, \"total_articles\": 445748, \"proportion\": 0.0004913089907301884}, {\"year\": 1875, \"total_results\": 263, \"total_articles\": 482469, \"proportion\": 0.0005451127429948867}, {\"year\": 1876, \"total_results\": 285, \"total_articles\": 494060, \"proportion\": 0.0005768530138039914}, {\"year\": 1877, \"total_results\": 346, \"total_articles\": 509249, \"proportion\": 0.0006794318692820211}, {\"year\": 1878, \"total_results\": 333, \"total_articles\": 578926, \"proportion\": 0.0005752030484034229}, {\"year\": 1879, \"total_results\": 383, \"total_articles\": 620648, \"proportion\": 0.00061709696961885}, {\"year\": 1880, \"total_results\": 368, \"total_articles\": 635861, \"proportion\": 0.0005787428384505419}, {\"year\": 1881, \"total_results\": 514, \"total_articles\": 679154, \"proportion\": 0.000756823930949387}, {\"year\": 1882, \"total_results\": 467, \"total_articles\": 764271, \"proportion\": 0.0006110398013270162}, {\"year\": 1883, \"total_results\": 632, \"total_articles\": 795970, \"proportion\": 0.0007939997738608239}, {\"year\": 1884, \"total_results\": 609, \"total_articles\": 898376, \"proportion\": 0.000677889881296918}, {\"year\": 1885, \"total_results\": 667, \"total_articles\": 952777, \"proportion\": 0.0007000588805145381}, {\"year\": 1886, \"total_results\": 738, \"total_articles\": 1031192, \"proportion\": 0.0007156766150241662}, {\"year\": 1887, \"total_results\": 689, \"total_articles\": 1070273, \"proportion\": 0.0006437609843469844}, {\"year\": 1888, \"total_results\": 830, \"total_articles\": 1199895, \"proportion\": 0.0006917271927960364}, {\"year\": 1889, \"total_results\": 807, \"total_articles\": 1288503, \"proportion\": 0.000626308204171818}, {\"year\": 1890, \"total_results\": 875, \"total_articles\": 1403249, \"proportion\": 0.000623552911849572}, {\"year\": 1891, \"total_results\": 827, \"total_articles\": 1473337, \"proportion\": 0.0005613108202671893}, {\"year\": 1892, \"total_results\": 849, \"total_articles\": 1532205, \"proportion\": 0.000554103400001958}, {\"year\": 1893, \"total_results\": 855, \"total_articles\": 1560089, \"proportion\": 0.0005480456563696045}, {\"year\": 1894, \"total_results\": 922, \"total_articles\": 1620538, \"proportion\": 0.000568946855920688}, {\"year\": 1895, \"total_results\": 975, \"total_articles\": 1738871, \"proportion\": 0.0005607086437119257}, {\"year\": 1896, \"total_results\": 1086, \"total_articles\": 1858409, \"proportion\": 0.0005843708247215764}, {\"year\": 1897, \"total_results\": 1086, \"total_articles\": 1970237, \"proportion\": 0.0005512027233271936}, {\"year\": 1898, \"total_results\": 991, \"total_articles\": 2197298, \"proportion\": 0.00045100846585215116}, {\"year\": 1899, \"total_results\": 1005, \"total_articles\": 2378661, \"proportion\": 0.000422506611913173}, {\"year\": 1900, \"total_results\": 949, \"total_articles\": 2615010, \"proportion\": 0.00036290492196970565}, {\"year\": 1901, \"total_results\": 983, \"total_articles\": 2712040, \"proportion\": 0.0003624577808586894}, {\"year\": 1902, \"total_results\": 1080, \"total_articles\": 2769996, \"proportion\": 0.0003898922597722163}, {\"year\": 1903, \"total_results\": 1286, \"total_articles\": 2802628, \"proportion\": 0.00045885504604963626}, {\"year\": 1904, \"total_results\": 1797, \"total_articles\": 2963666, \"proportion\": 0.0006063436298152356}, {\"year\": 1905, \"total_results\": 1903, \"total_articles\": 3093983, \"proportion\": 0.000615064788655917}, {\"year\": 1906, \"total_results\": 2258, \"total_articles\": 3136799, \"proportion\": 0.000719842106555122}, {\"year\": 1907, \"total_results\": 2039, \"total_articles\": 3295230, \"proportion\": 0.0006187731964081415}, {\"year\": 1908, \"total_results\": 1643, \"total_articles\": 3396203, \"proportion\": 0.00048377555758592755}, {\"year\": 1909, \"total_results\": 2157, \"total_articles\": 3453773, \"proportion\": 0.000624534386017842}, {\"year\": 1910, \"total_results\": 2822, \"total_articles\": 3686929, \"proportion\": 0.0007654066568680872}, {\"year\": 1911, \"total_results\": 3422, \"total_articles\": 3813205, \"proportion\": 0.0008974078236024551}, {\"year\": 1912, \"total_results\": 3882, \"total_articles\": 3968854, \"proportion\": 0.0009781161010205968}, {\"year\": 1913, \"total_results\": 4265, \"total_articles\": 4044296, \"proportion\": 0.0010545716732899867}, {\"year\": 1914, \"total_results\": 4879, \"total_articles\": 4682621, \"proportion\": 0.0010419378378049386}, {\"year\": 1915, \"total_results\": 4539, \"total_articles\": 4783530, \"proportion\": 0.0009488808474076675}, {\"year\": 1916, \"total_results\": 3811, \"total_articles\": 4369287, \"proportion\": 0.0008722246902068919}, {\"year\": 1917, \"total_results\": 3807, \"total_articles\": 4262301, \"proportion\": 0.0008931795290853462}, {\"year\": 1918, \"total_results\": 3768, \"total_articles\": 4040965, \"proportion\": 0.0009324505408980281}, {\"year\": 1919, \"total_results\": 4434, \"total_articles\": 3558241, \"proportion\": 0.0012461213279257926}, {\"year\": 1920, \"total_results\": 5635, \"total_articles\": 3304747, \"proportion\": 0.0017051229640272008}, {\"year\": 1921, \"total_results\": 5803, \"total_articles\": 3485308, \"proportion\": 0.001664989148735205}, {\"year\": 1922, \"total_results\": 8186, \"total_articles\": 3635068, \"proportion\": 0.002251952370629655}, {\"year\": 1923, \"total_results\": 12555, \"total_articles\": 3944282, \"proportion\": 0.0031830888359402295}, {\"year\": 1924, \"total_results\": 26547, \"total_articles\": 4249519, \"proportion\": 0.006247059961374452}, {\"year\": 1925, \"total_results\": 40441, \"total_articles\": 4231795, \"proportion\": 0.009556464809850193}, {\"year\": 1926, \"total_results\": 45318, \"total_articles\": 4226596, \"proportion\": 0.01072210355567459}, {\"year\": 1927, \"total_results\": 57744, \"total_articles\": 4321841, \"proportion\": 0.013360972789142405}, {\"year\": 1928, \"total_results\": 65025, \"total_articles\": 4441252, \"proportion\": 0.014641141732106172}, {\"year\": 1929, \"total_results\": 65380, \"total_articles\": 4661832, \"proportion\": 0.01402452941247132}, {\"year\": 1930, \"total_results\": 68251, \"total_articles\": 4505395, \"proportion\": 0.015148727248110321}, {\"year\": 1931, \"total_results\": 69717, \"total_articles\": 4119730, \"proportion\": 0.01692271095435866}, {\"year\": 1932, \"total_results\": 77098, \"total_articles\": 4134954, \"proportion\": 0.018645431122087452}, {\"year\": 1933, \"total_results\": 84708, \"total_articles\": 4320822, \"proportion\": 0.019604603013037798}, {\"year\": 1934, \"total_results\": 100804, \"total_articles\": 4457622, \"proportion\": 0.022613851062292856}, {\"year\": 1935, \"total_results\": 109040, \"total_articles\": 4552116, \"proportion\": 0.023953695380346196}, {\"year\": 1936, \"total_results\": 118603, \"total_articles\": 4632922, \"proportion\": 0.025600042478591264}, {\"year\": 1937, \"total_results\": 131059, \"total_articles\": 4618274, \"proportion\": 0.02837835087307509}, {\"year\": 1938, \"total_results\": 142627, \"total_articles\": 4616705, \"proportion\": 0.030893678500142418}, {\"year\": 1939, \"total_results\": 139193, \"total_articles\": 4387229, \"proportion\": 0.03172685993824348}, {\"year\": 1940, \"total_results\": 139204, \"total_articles\": 3783203, \"proportion\": 0.03679527638353004}, {\"year\": 1941, \"total_results\": 161007, \"total_articles\": 3598964, \"proportion\": 0.044737040992907956}, {\"year\": 1942, \"total_results\": 151577, \"total_articles\": 2935253, \"proportion\": 0.05164018229433715}, {\"year\": 1943, \"total_results\": 144858, \"total_articles\": 2586289, \"proportion\": 0.05600998186977557}, {\"year\": 1944, \"total_results\": 137512, \"total_articles\": 2635712, \"proportion\": 0.05217261977029357}, {\"year\": 1945, \"total_results\": 133136, \"total_articles\": 2769932, \"proportion\": 0.04806471783422842}, {\"year\": 1946, \"total_results\": 143686, \"total_articles\": 3323157, \"proportion\": 0.04323780068170117}, {\"year\": 1947, \"total_results\": 151660, \"total_articles\": 3441909, \"proportion\": 0.04406275703395993}, {\"year\": 1948, \"total_results\": 132935, \"total_articles\": 3101920, \"proportion\": 0.04285571516995925}, {\"year\": 1949, \"total_results\": 145825, \"total_articles\": 3524852, \"proportion\": 0.04137053130173976}, {\"year\": 1950, \"total_results\": 147021, \"total_articles\": 3554270, \"proportion\": 0.0413646121425778}, {\"year\": 1951, \"total_results\": 133450, \"total_articles\": 3281008, \"proportion\": 0.04067347595616957}, {\"year\": 1952, \"total_results\": 135504, \"total_articles\": 3375009, \"proportion\": 0.04014922626872995}, {\"year\": 1953, \"total_results\": 152068, \"total_articles\": 3592915, \"proportion\": 0.042324407897208816}, {\"year\": 1954, \"total_results\": 161172, \"total_articles\": 3541607, \"proportion\": 0.0455081549138569}, {\"year\": 1955, \"total_results\": 16996, \"total_articles\": 404423, \"proportion\": 0.04202530518788496}, {\"year\": 1956, \"total_results\": 11065, \"total_articles\": 229324, \"proportion\": 0.04825051019518236}, {\"year\": 1957, \"total_results\": 7009, \"total_articles\": 153132, \"proportion\": 0.04577096883734295}, {\"year\": 1958, \"total_results\": 7345, \"total_articles\": 153484, \"proportion\": 0.04785515102551406}, {\"year\": 1959, \"total_results\": 7473, \"total_articles\": 153425, \"proportion\": 0.0487078377057194}, {\"year\": 1960, \"total_results\": 7554, \"total_articles\": 154646, \"proportion\": 0.04884704421711522}, {\"year\": 1961, \"total_results\": 7172, \"total_articles\": 151751, \"proportion\": 0.047261632542783906}, {\"year\": 1962, \"total_results\": 7196, \"total_articles\": 156236, \"proportion\": 0.04605852684400522}, {\"year\": 1963, \"total_results\": 8724, \"total_articles\": 167154, \"proportion\": 0.05219139236871388}, {\"year\": 1964, \"total_results\": 8034, \"total_articles\": 167801, \"proportion\": 0.04787814136983689}, {\"year\": 1965, \"total_results\": 8287, \"total_articles\": 177093, \"proportion\": 0.0467946220347501}, {\"year\": 1966, \"total_results\": 6918, \"total_articles\": 160897, \"proportion\": 0.04299645114576406}, {\"year\": 1967, \"total_results\": 6793, \"total_articles\": 155832, \"proportion\": 0.04359181682837928}, {\"year\": 1968, \"total_results\": 7133, \"total_articles\": 157330, \"proportion\": 0.04533782495391851}, {\"year\": 1969, \"total_results\": 8202, \"total_articles\": 179517, \"proportion\": 0.04568926619763031}, {\"year\": 1970, \"total_results\": 8411, \"total_articles\": 193249, \"proportion\": 0.043524157951658225}, {\"year\": 1971, \"total_results\": 8132, \"total_articles\": 191379, \"proportion\": 0.042491600436829535}, {\"year\": 1972, \"total_results\": 8019, \"total_articles\": 179093, \"proportion\": 0.04477561937094136}, {\"year\": 1973, \"total_results\": 7538, \"total_articles\": 180806, \"proportion\": 0.04169109432209108}, {\"year\": 1974, \"total_results\": 7614, \"total_articles\": 179385, \"proportion\": 0.042445020486662766}, {\"year\": 1975, \"total_results\": 7706, \"total_articles\": 168395, \"proportion\": 0.045761453724873065}, {\"year\": 1976, \"total_results\": 8290, \"total_articles\": 169153, \"proportion\": 0.0490088854469031}, {\"year\": 1977, \"total_results\": 8568, \"total_articles\": 170625, \"proportion\": 0.05021538461538461}, {\"year\": 1978, \"total_results\": 8480, \"total_articles\": 175661, \"proportion\": 0.04827480203346218}, {\"year\": 1979, \"total_results\": 8752, \"total_articles\": 184844, \"proportion\": 0.04734803401787453}, {\"year\": 1980, \"total_results\": 8562, \"total_articles\": 185923, \"proportion\": 0.046051322321606254}, {\"year\": 1981, \"total_results\": 8193, \"total_articles\": 164070, \"proportion\": 0.04993600292558054}, {\"year\": 1982, \"total_results\": 6985, \"total_articles\": 153396, \"proportion\": 0.04553573756812433}, {\"year\": 1983, \"total_results\": 6905, \"total_articles\": 141802, \"proportion\": 0.048694658749523986}, {\"year\": 1984, \"total_results\": 7132, \"total_articles\": 146493, \"proportion\": 0.04868492009857126}, {\"year\": 1985, \"total_results\": 7172, \"total_articles\": 155564, \"proportion\": 0.046103211539944976}, {\"year\": 1986, \"total_results\": 7071, \"total_articles\": 152788, \"proportion\": 0.04627981255072388}, {\"year\": 1987, \"total_results\": 6452, \"total_articles\": 133503, \"proportion\": 0.048328501981228886}, {\"year\": 1988, \"total_results\": 6750, \"total_articles\": 143213, \"proportion\": 0.04713259271155552}, {\"year\": 1989, \"total_results\": 6183, \"total_articles\": 146122, \"proportion\": 0.042313956830593615}, {\"year\": 1990, \"total_results\": 6027, \"total_articles\": 138585, \"proportion\": 0.04348955514666089}, {\"year\": 1991, \"total_results\": 6248, \"total_articles\": 139257, \"proportion\": 0.044866685337182334}, {\"year\": 1992, \"total_results\": 6178, \"total_articles\": 159414, \"proportion\": 0.03875443812964984}, {\"year\": 1993, \"total_results\": 5820, \"total_articles\": 160603, \"proportion\": 0.036238426430390464}, {\"year\": 1994, \"total_results\": 5466, \"total_articles\": 155783, \"proportion\": 0.03508726882907634}, {\"year\": 1995, \"total_results\": 5560, \"total_articles\": 154299, \"proportion\": 0.0360339341149327}, {\"year\": 1996, \"total_results\": 1701, \"total_articles\": 69400, \"proportion\": 0.024510086455331412}, {\"year\": 1997, \"total_results\": 1749, \"total_articles\": 73218, \"proportion\": 0.02388756863066459}, {\"year\": 1998, \"total_results\": 1846, \"total_articles\": 80878, \"proportion\": 0.022824501100422858}, {\"year\": 1999, \"total_results\": 2165, \"total_articles\": 90368, \"proportion\": 0.023957595609065154}, {\"year\": 2000, \"total_results\": 1660, \"total_articles\": 68823, \"proportion\": 0.02411984365691702}, {\"year\": 2001, \"total_results\": 1571, \"total_articles\": 67114, \"proportion\": 0.02340793277110588}, {\"year\": 2002, \"total_results\": 1595, \"total_articles\": 68169, \"proportion\": 0.023397732106969445}, {\"year\": 2003, \"total_results\": 1008, \"total_articles\": 33361, \"proportion\": 0.030214921615059502}, {\"year\": 2004, \"total_results\": 849, \"total_articles\": 30793, \"proportion\": 0.027571201247036665}, {\"year\": 2005, \"total_results\": 697, \"total_articles\": 26677, \"proportion\": 0.02612737564193875}, {\"year\": 2006, \"total_results\": 724, \"total_articles\": 26179, \"proportion\": 0.027655754612475648}, {\"year\": 2007, \"total_results\": 692, \"total_articles\": 27726, \"proportion\": 0.02495852268628724}, {\"year\": 2008, \"total_results\": 662, \"total_articles\": 26158, \"proportion\": 0.02530774524046181}, {\"year\": 2009, \"total_results\": 296, \"total_articles\": 14340, \"proportion\": 0.020641562064156207}, {\"year\": 2010, \"total_results\": 264, \"total_articles\": 14750, \"proportion\": 0.017898305084745762}, {\"year\": 2011, \"total_results\": 224, \"total_articles\": 15228, \"proportion\": 0.014709745206199106}, {\"year\": 2012, \"total_results\": 131, \"total_articles\": 8112, \"proportion\": 0.016148915187376725}, {\"year\": 2013, \"total_results\": 128, \"total_articles\": 8358, \"proportion\": 0.01531466858100024}, {\"year\": 2014, \"total_results\": 128, \"total_articles\": 8077, \"proportion\": 0.015847468119351244}, {\"year\": 2015, \"total_results\": 93, \"total_articles\": 8255, \"proportion\": 0.011265899454875833}, {\"year\": 2016, \"total_results\": 67, \"total_articles\": 4665, \"proportion\": 0.014362272240085745}, {\"year\": 2017, \"total_results\": 55, \"total_articles\": 4184, \"proportion\": 0.013145315487571701}, {\"year\": 2018, \"total_results\": 36, \"total_articles\": 3506, \"proportion\": 0.01026811180832858}, {\"year\": 2019, \"total_results\": 32, \"total_articles\": 3314, \"proportion\": 0.009656004828002414}]}}, {\"mode\": \"vega-lite\"});\n",
       "</script>"
      ],
      "text/plain": [
       "alt.VConcatChart(...)"
      ]
     },
     "execution_count": 15,
     "metadata": {},
     "output_type": "execute_result"
    }
   ],
   "source": [
    "# This is the chart showing raw results -- it's the same as the one we created above (but a bit smaller)\n",
    "chart1 = (\n",
    "    alt.Chart(df)\n",
    "    .mark_line(point=True)\n",
    "    .encode(\n",
    "        x=alt.X(\"year:Q\", axis=alt.Axis(format=\"c\", title=\"Year\")),\n",
    "        y=alt.Y(\n",
    "            \"total_results:Q\", axis=alt.Axis(format=\",d\", title=\"Number of articles\")\n",
    "        ),\n",
    "        tooltip=[\n",
    "            alt.Tooltip(\"year:Q\", title=\"Year\"),\n",
    "            alt.Tooltip(\"total_results:Q\", title=\"Articles\", format=\",\"),\n",
    "        ],\n",
    "    )\n",
    "    .properties(width=700, height=250)\n",
    ")\n",
    "\n",
    "# This is the new view, note that it's using the 'proportion' column for the Y axis\n",
    "chart2 = (\n",
    "    alt.Chart(df_merged)\n",
    "    .mark_line(point=True, color=\"red\")\n",
    "    .encode(\n",
    "        x=alt.X(\"year:Q\", axis=alt.Axis(format=\"c\", title=\"Year\")),\n",
    "        # This time we're showing the proportion (formatted as a percentage) on the Y axis\n",
    "        y=alt.Y(\n",
    "            \"proportion:Q\", axis=alt.Axis(format=\"%\", title=\"Proportion of articles\")\n",
    "        ),\n",
    "        tooltip=[\n",
    "            alt.Tooltip(\"year:Q\", title=\"Year\"),\n",
    "            alt.Tooltip(\"proportion:Q\", title=\"Proportion\", format=\"%\"),\n",
    "        ],\n",
    "        # Make the charts different colors\n",
    "        color=alt.value(\"orange\"),\n",
    "    )\n",
    "    .properties(width=700, height=250)\n",
    ")\n",
    "\n",
    "# This is a shorthand way of stacking the charts on top of each other\n",
    "chart1 & chart2"
   ]
  },
  {
   "cell_type": "markdown",
   "metadata": {},
   "source": [
    "The overall shape of the two charts is similar, but there are some significant differences. Both show a dramatic increase after 1920, but the initial peaks are in different positions. The sudden drop-off after 1954 has gone, and we even have a new peak in 1963. Why 1963? The value of these sorts of visualisations is in the questions they prompt, rather than any claim to 'accuracy'. How meaningful are the post-1954 results? If we [break down the numbers by state](visualise-total-newspaper-articles-by-state-year.ipynb), we see that the post-1954 results are mostly from the ACT. It is a small, narrowly-focused sample. Reading these two charts in combination reminds us that the structure and content of a large corpus like Trove is not natural. While viewing the number of results over time can alert us to historical shifts, we have to be prepared to ask questions about how those results are generated, and what they represent."
   ]
  },
  {
   "cell_type": "markdown",
   "metadata": {},
   "source": [
    "## 5. Comparing multiple search terms over time\n",
    "\n",
    "Another way of working around inconsistencies in the newspaper corpus is to *compare* search queries. While the total numbers could be misleading, the comparative numbers might still show us interesting shifts in usage or meaning. Once again, this is not something we can do through the web interface, but all we need to achieve this using the API is a few minor adjustments to our code.\n",
    "\n",
    "Instead of a single search query, this time we'll define a list of search queries. You can include as many queries as you want and, once again, the queries can be anything you'd type in the Trove search box."
   ]
  },
  {
   "cell_type": "code",
   "execution_count": 16,
   "metadata": {},
   "outputs": [],
   "source": [
    "# Create a list of queries\n",
    "queries = [\"telegraph\", \"radio\", \"wireless\"]"
   ]
  },
  {
   "cell_type": "markdown",
   "metadata": {},
   "source": [
    "Now we'll define a new function that loops through each of the search terms, retrieving the facet data for each, and combining it all into a single dataframe."
   ]
  },
  {
   "cell_type": "code",
   "execution_count": 17,
   "metadata": {},
   "outputs": [],
   "source": [
    "def get_search_facets(params, queries):\n",
    "    \"\"\"\n",
    "    Process a list of search queries, gathering the facet data for each and combining the results into a single dataframe.\n",
    "\n",
    "    Parameters:\n",
    "        params - basic parameters to send to the API\n",
    "        queries - a list of search queries\n",
    "    Returns:\n",
    "        A dataframe\n",
    "    \"\"\"\n",
    "    # This is where we'll store the invididual dataframes\n",
    "    dfs = []\n",
    "\n",
    "    # Make a copy of the basic parameters\n",
    "    these_params = params.copy()\n",
    "\n",
    "    # Loop through the list of queries\n",
    "    for q in queries:\n",
    "\n",
    "        # Set the 'q' parameter to the current search query\n",
    "        these_params[\"q\"] = q\n",
    "\n",
    "        # Get all the facet data for this search\n",
    "        facet_data = get_facet_data(these_params)\n",
    "\n",
    "        # Convert the facet data into a dataframe\n",
    "        df = pd.DataFrame(facet_data)\n",
    "\n",
    "        # Add a column with the search query -- this will enable us to distinguish between the results in the combined dataframe.\n",
    "        df[\"query\"] = q\n",
    "\n",
    "        # Add this df to our list\n",
    "        dfs.append(df)\n",
    "\n",
    "    # Combine the dfs into one df using concat and return the result\n",
    "    return pd.concat(dfs)"
   ]
  },
  {
   "cell_type": "markdown",
   "metadata": {},
   "source": [
    "Now we're ready to harvest some data!"
   ]
  },
  {
   "cell_type": "code",
   "execution_count": 18,
   "metadata": {},
   "outputs": [],
   "source": [
    "df_queries = get_search_facets(params, queries)"
   ]
  },
  {
   "cell_type": "markdown",
   "metadata": {},
   "source": [
    "Once again, it would be useful to have the number of search results as a proportion of the total articles, so let's use our merge function again to add the proportions."
   ]
  },
  {
   "cell_type": "code",
   "execution_count": 19,
   "metadata": {},
   "outputs": [],
   "source": [
    "df_queries_merged = merge_df_with_total(df_queries, df_total)"
   ]
  },
  {
   "cell_type": "markdown",
   "metadata": {},
   "source": [
    "As we're repeating the same sorts of charts with different data, we might as well save ourselves some effort by creating a couple of reusable charting functions. One shows the raw numbers, and the other shows the proportions."
   ]
  },
  {
   "cell_type": "code",
   "execution_count": 20,
   "metadata": {},
   "outputs": [],
   "source": [
    "def make_chart_totals(df, category, category_title):\n",
    "    \"\"\"\n",
    "    Make a chart showing the raw number of search results over time.\n",
    "    Creates different coloured lines for each query or category.\n",
    "    Parameters:\n",
    "        df - a dataframe\n",
    "        category - the column containing the value that distinguishes multiple results set (eg 'query' or 'state')\n",
    "        category_title - a nicely formatted title for the category to appear above the legend\n",
    "    \"\"\"\n",
    "    chart = (\n",
    "        alt.Chart(df)\n",
    "        .mark_line(point=True)\n",
    "        .encode(\n",
    "            # Show the year on the X axis\n",
    "            x=alt.X(\"year:Q\", axis=alt.Axis(format=\"c\", title=\"Year\")),\n",
    "            # Show the total number of articles on the Y axis (with thousands separator)\n",
    "            y=alt.Y(\n",
    "                \"total_results:Q\",\n",
    "                axis=alt.Axis(format=\",d\", title=\"Number of articles\"),\n",
    "            ),\n",
    "            # Display query/category, year, and number of results on hover\n",
    "            tooltip=[\n",
    "                alt.Tooltip(\"{}:N\".format(category), title=category_title),\n",
    "                alt.Tooltip(\"year:Q\", title=\"Year\"),\n",
    "                alt.Tooltip(\"total_results:Q\", title=\"Articles\", format=\",\"),\n",
    "            ],\n",
    "            # In these charts were comparing results, so we're using color to distinguish between queries/categories\n",
    "            color=alt.Color(\n",
    "                \"{}:N\".format(category), legend=alt.Legend(title=category_title)\n",
    "            ),\n",
    "        )\n",
    "        .properties(width=700, height=250)\n",
    "    )\n",
    "    return chart\n",
    "\n",
    "\n",
    "def make_chart_proportions(df, category, category_title):\n",
    "    \"\"\"\n",
    "    Make a chart showing the proportion of search results over time.\n",
    "    Creates different coloured lines for each query or category.\n",
    "    Parameters:\n",
    "        df - a dataframe\n",
    "        category - the column containing the value that distinguishes multiple results set (eg 'query' or 'state')\n",
    "        category_title - a nicely formatted title for the category to appear above the legend\n",
    "    \"\"\"\n",
    "    chart = (\n",
    "        alt.Chart(df)\n",
    "        .mark_line(point=True)\n",
    "        .encode(\n",
    "            # Show the year on the X axis\n",
    "            x=alt.X(\"year:Q\", axis=alt.Axis(format=\"c\", title=\"Year\")),\n",
    "            # Show the proportion of articles on the Y axis (formatted as percentage)\n",
    "            y=alt.Y(\n",
    "                \"proportion:Q\",\n",
    "                axis=alt.Axis(format=\"%\", title=\"Proportion of articles\"),\n",
    "                stack=None,\n",
    "            ),\n",
    "            # Display query/category, year, and proportion of results on hover\n",
    "            tooltip=[\n",
    "                alt.Tooltip(\"{}:N\".format(category), title=category_title),\n",
    "                alt.Tooltip(\"year:Q\", title=\"Year\"),\n",
    "                alt.Tooltip(\"proportion:Q\", title=\"Proportion\", format=\"%\"),\n",
    "            ],\n",
    "            # In these charts were comparing results, so we're using color to distinguish between queries/categories\n",
    "            color=alt.Color(\n",
    "                \"{}:N\".format(category), legend=alt.Legend(title=category_title)\n",
    "            ),\n",
    "        )\n",
    "        .properties(width=700, height=250)\n",
    "    )\n",
    "    return chart"
   ]
  },
  {
   "cell_type": "markdown",
   "metadata": {},
   "source": [
    "Let's use the new functions to create charts for our queries."
   ]
  },
  {
   "cell_type": "code",
   "execution_count": 21,
   "metadata": {},
   "outputs": [
    {
     "data": {
      "text/html": [
       "\n",
       "<style>\n",
       "  #altair-viz-f207168fc2904814a5c08d774c6ead7f.vega-embed {\n",
       "    width: 100%;\n",
       "    display: flex;\n",
       "  }\n",
       "\n",
       "  #altair-viz-f207168fc2904814a5c08d774c6ead7f.vega-embed details,\n",
       "  #altair-viz-f207168fc2904814a5c08d774c6ead7f.vega-embed details summary {\n",
       "    position: relative;\n",
       "  }\n",
       "</style>\n",
       "<div id=\"altair-viz-f207168fc2904814a5c08d774c6ead7f\"></div>\n",
       "<script type=\"text/javascript\">\n",
       "  var VEGA_DEBUG = (typeof VEGA_DEBUG == \"undefined\") ? {} : VEGA_DEBUG;\n",
       "  (function(spec, embedOpt){\n",
       "    let outputDiv = document.currentScript.previousElementSibling;\n",
       "    if (outputDiv.id !== \"altair-viz-f207168fc2904814a5c08d774c6ead7f\") {\n",
       "      outputDiv = document.getElementById(\"altair-viz-f207168fc2904814a5c08d774c6ead7f\");\n",
       "    }\n",
       "    const paths = {\n",
       "      \"vega\": \"https://cdn.jsdelivr.net/npm/vega@5?noext\",\n",
       "      \"vega-lib\": \"https://cdn.jsdelivr.net/npm/vega-lib?noext\",\n",
       "      \"vega-lite\": \"https://cdn.jsdelivr.net/npm/vega-lite@5.20.1?noext\",\n",
       "      \"vega-embed\": \"https://cdn.jsdelivr.net/npm/vega-embed@6?noext\",\n",
       "    };\n",
       "\n",
       "    function maybeLoadScript(lib, version) {\n",
       "      var key = `${lib.replace(\"-\", \"\")}_version`;\n",
       "      return (VEGA_DEBUG[key] == version) ?\n",
       "        Promise.resolve(paths[lib]) :\n",
       "        new Promise(function(resolve, reject) {\n",
       "          var s = document.createElement('script');\n",
       "          document.getElementsByTagName(\"head\")[0].appendChild(s);\n",
       "          s.async = true;\n",
       "          s.onload = () => {\n",
       "            VEGA_DEBUG[key] = version;\n",
       "            return resolve(paths[lib]);\n",
       "          };\n",
       "          s.onerror = () => reject(`Error loading script: ${paths[lib]}`);\n",
       "          s.src = paths[lib];\n",
       "        });\n",
       "    }\n",
       "\n",
       "    function showError(err) {\n",
       "      outputDiv.innerHTML = `<div class=\"error\" style=\"color:red;\">${err}</div>`;\n",
       "      throw err;\n",
       "    }\n",
       "\n",
       "    function displayChart(vegaEmbed) {\n",
       "      vegaEmbed(outputDiv, spec, embedOpt)\n",
       "        .catch(err => showError(`Javascript Error: ${err.message}<br>This usually means there's a typo in your chart specification. See the javascript console for the full traceback.`));\n",
       "    }\n",
       "\n",
       "    if(typeof define === \"function\" && define.amd) {\n",
       "      requirejs.config({paths});\n",
       "      require([\"vega-embed\"], displayChart, err => showError(`Error loading script: ${err.message}`));\n",
       "    } else {\n",
       "      maybeLoadScript(\"vega\", \"5\")\n",
       "        .then(() => maybeLoadScript(\"vega-lite\", \"5.20.1\"))\n",
       "        .then(() => maybeLoadScript(\"vega-embed\", \"6\"))\n",
       "        .catch(showError)\n",
       "        .then(() => displayChart(vegaEmbed));\n",
       "    }\n",
       "  })({\"config\": {\"view\": {\"continuousWidth\": 300, \"continuousHeight\": 300}}, \"vconcat\": [{\"mark\": {\"type\": \"line\", \"point\": true}, \"encoding\": {\"color\": {\"field\": \"query\", \"legend\": {\"title\": \"Search query\"}, \"type\": \"nominal\"}, \"tooltip\": [{\"field\": \"query\", \"title\": \"Search query\", \"type\": \"nominal\"}, {\"field\": \"year\", \"title\": \"Year\", \"type\": \"quantitative\"}, {\"field\": \"total_results\", \"format\": \",\", \"title\": \"Articles\", \"type\": \"quantitative\"}], \"x\": {\"axis\": {\"format\": \"c\", \"title\": \"Year\"}, \"field\": \"year\", \"type\": \"quantitative\"}, \"y\": {\"axis\": {\"format\": \",d\", \"title\": \"Number of articles\"}, \"field\": \"total_results\", \"type\": \"quantitative\"}}, \"height\": 250, \"width\": 700}, {\"mark\": {\"type\": \"line\", \"point\": true}, \"encoding\": {\"color\": {\"field\": \"query\", \"legend\": {\"title\": \"Search query\"}, \"type\": \"nominal\"}, \"tooltip\": [{\"field\": \"query\", \"title\": \"Search query\", \"type\": \"nominal\"}, {\"field\": \"year\", \"title\": \"Year\", \"type\": \"quantitative\"}, {\"field\": \"proportion\", \"format\": \"%\", \"title\": \"Proportion\", \"type\": \"quantitative\"}], \"x\": {\"axis\": {\"format\": \"c\", \"title\": \"Year\"}, \"field\": \"year\", \"type\": \"quantitative\"}, \"y\": {\"axis\": {\"format\": \"%\", \"title\": \"Proportion of articles\"}, \"field\": \"proportion\", \"stack\": null, \"type\": \"quantitative\"}}, \"height\": 250, \"width\": 700}], \"data\": {\"name\": \"data-dfee5c2ee1daeb36e6fc82f607ce82de\"}, \"$schema\": \"https://vega.github.io/schema/vega-lite/v5.20.1.json\", \"datasets\": {\"data-dfee5c2ee1daeb36e6fc82f607ce82de\": [{\"year\": 1806, \"total_results\": 2, \"query\": \"telegraph\", \"total_articles\": 367, \"proportion\": 0.005449591280653951}, {\"year\": 1809, \"total_results\": 1, \"query\": \"telegraph\", \"total_articles\": 237, \"proportion\": 0.004219409282700422}, {\"year\": 1810, \"total_results\": 1, \"query\": \"telegraph\", \"total_articles\": 274, \"proportion\": 0.0036496350364963502}, {\"year\": 1811, \"total_results\": 1, \"query\": \"telegraph\", \"total_articles\": 228, \"proportion\": 0.0043859649122807015}, {\"year\": 1814, \"total_results\": 2, \"query\": \"telegraph\", \"total_articles\": 239, \"proportion\": 0.008368200836820083}, {\"year\": 1815, \"total_results\": 1, \"query\": \"telegraph\", \"total_articles\": 226, \"proportion\": 0.004424778761061947}, {\"year\": 1816, \"total_results\": 1, \"query\": \"telegraph\", \"total_articles\": 644, \"proportion\": 0.0015527950310559005}, {\"year\": 1817, \"total_results\": 1, \"query\": \"telegraph\", \"total_articles\": 1068, \"proportion\": 0.0009363295880149813}, {\"year\": 1818, \"total_results\": 4, \"query\": \"telegraph\", \"total_articles\": 1249, \"proportion\": 0.0032025620496397116}, {\"year\": 1819, \"total_results\": 5, \"query\": \"telegraph\", \"total_articles\": 1152, \"proportion\": 0.004340277777777778}, {\"year\": 1820, \"total_results\": 1, \"query\": \"telegraph\", \"total_articles\": 1275, \"proportion\": 0.000784313725490196}, {\"year\": 1821, \"total_results\": 7, \"query\": \"telegraph\", \"total_articles\": 1005, \"proportion\": 0.006965174129353234}, {\"year\": 1822, \"total_results\": 3, \"query\": \"telegraph\", \"total_articles\": 1033, \"proportion\": 0.002904162633107454}, {\"year\": 1823, \"total_results\": 9, \"query\": \"telegraph\", \"total_articles\": 1156, \"proportion\": 0.007785467128027681}, {\"year\": 1824, \"total_results\": 13, \"query\": \"telegraph\", \"total_articles\": 1646, \"proportion\": 0.007897934386391251}, {\"year\": 1825, \"total_results\": 19, \"query\": \"telegraph\", \"total_articles\": 3366, \"proportion\": 0.00564468211527035}, {\"year\": 1826, \"total_results\": 27, \"query\": \"telegraph\", \"total_articles\": 5201, \"proportion\": 0.005191309363583926}, {\"year\": 1827, \"total_results\": 48, \"query\": \"telegraph\", \"total_articles\": 6693, \"proportion\": 0.007171671896010758}, {\"year\": 1828, \"total_results\": 71, \"query\": \"telegraph\", \"total_articles\": 7335, \"proportion\": 0.009679618268575324}, {\"year\": 1829, \"total_results\": 58, \"query\": \"telegraph\", \"total_articles\": 8935, \"proportion\": 0.0064913262451035255}, {\"year\": 1830, \"total_results\": 77, \"query\": \"telegraph\", \"total_articles\": 8977, \"proportion\": 0.00857747577141584}, {\"year\": 1831, \"total_results\": 63, \"query\": \"telegraph\", \"total_articles\": 10989, \"proportion\": 0.005733005733005733}, {\"year\": 1832, \"total_results\": 80, \"query\": \"telegraph\", \"total_articles\": 14814, \"proportion\": 0.005400297016335899}, {\"year\": 1833, \"total_results\": 160, \"query\": \"telegraph\", \"total_articles\": 15622, \"proportion\": 0.010241966457559851}, {\"year\": 1834, \"total_results\": 112, \"query\": \"telegraph\", \"total_articles\": 18704, \"proportion\": 0.005988023952095809}, {\"year\": 1835, \"total_results\": 168, \"query\": \"telegraph\", \"total_articles\": 20389, \"proportion\": 0.008239737113149247}, {\"year\": 1836, \"total_results\": 238, \"query\": \"telegraph\", \"total_articles\": 20553, \"proportion\": 0.011579818031430935}, {\"year\": 1837, \"total_results\": 197, \"query\": \"telegraph\", \"total_articles\": 21805, \"proportion\": 0.009034625085989453}, {\"year\": 1838, \"total_results\": 151, \"query\": \"telegraph\", \"total_articles\": 25911, \"proportion\": 0.0058276407703292035}, {\"year\": 1839, \"total_results\": 144, \"query\": \"telegraph\", \"total_articles\": 32876, \"proportion\": 0.004380094902056211}, {\"year\": 1840, \"total_results\": 237, \"query\": \"telegraph\", \"total_articles\": 42411, \"proportion\": 0.005588172879677442}, {\"year\": 1841, \"total_results\": 317, \"query\": \"telegraph\", \"total_articles\": 46377, \"proportion\": 0.006835284731655777}, {\"year\": 1842, \"total_results\": 253, \"query\": \"telegraph\", \"total_articles\": 47934, \"proportion\": 0.005278090708056912}, {\"year\": 1843, \"total_results\": 207, \"query\": \"telegraph\", \"total_articles\": 49913, \"proportion\": 0.0041472161561116345}, {\"year\": 1844, \"total_results\": 226, \"query\": \"telegraph\", \"total_articles\": 54331, \"proportion\": 0.004159687839355064}, {\"year\": 1845, \"total_results\": 468, \"query\": \"telegraph\", \"total_articles\": 63389, \"proportion\": 0.007382984429475145}, {\"year\": 1846, \"total_results\": 446, \"query\": \"telegraph\", \"total_articles\": 62153, \"proportion\": 0.007175840265152124}, {\"year\": 1847, \"total_results\": 509, \"query\": \"telegraph\", \"total_articles\": 62767, \"proportion\": 0.008109356827632355}, {\"year\": 1848, \"total_results\": 717, \"query\": \"telegraph\", \"total_articles\": 63463, \"proportion\": 0.011297921623623213}, {\"year\": 1849, \"total_results\": 802, \"query\": \"telegraph\", \"total_articles\": 62794, \"proportion\": 0.012771920884160907}, {\"year\": 1850, \"total_results\": 993, \"query\": \"telegraph\", \"total_articles\": 81624, \"proportion\": 0.012165539547192003}, {\"year\": 1851, \"total_results\": 948, \"query\": \"telegraph\", \"total_articles\": 96566, \"proportion\": 0.009817119897272332}, {\"year\": 1852, \"total_results\": 1237, \"query\": \"telegraph\", \"total_articles\": 79960, \"proportion\": 0.01547023511755878}, {\"year\": 1853, \"total_results\": 1552, \"query\": \"telegraph\", \"total_articles\": 96033, \"proportion\": 0.016161111284662563}, {\"year\": 1854, \"total_results\": 3216, \"query\": \"telegraph\", \"total_articles\": 118895, \"proportion\": 0.02704907691660709}, {\"year\": 1855, \"total_results\": 9564, \"query\": \"telegraph\", \"total_articles\": 159935, \"proportion\": 0.05979929346296933}, {\"year\": 1856, \"total_results\": 9579, \"query\": \"telegraph\", \"total_articles\": 168695, \"proportion\": 0.05678295148048253}, {\"year\": 1857, \"total_results\": 10968, \"query\": \"telegraph\", \"total_articles\": 175982, \"proportion\": 0.06232455592049187}, {\"year\": 1858, \"total_results\": 17016, \"query\": \"telegraph\", \"total_articles\": 182050, \"proportion\": 0.09346882724526229}, {\"year\": 1859, \"total_results\": 24699, \"query\": \"telegraph\", \"total_articles\": 208543, \"proportion\": 0.11843600600355803}, {\"year\": 1860, \"total_results\": 27291, \"query\": \"telegraph\", \"total_articles\": 221733, \"proportion\": 0.1230804616362923}, {\"year\": 1861, \"total_results\": 25855, \"query\": \"telegraph\", \"total_articles\": 245273, \"proportion\": 0.10541315187566508}, {\"year\": 1862, \"total_results\": 28069, \"query\": \"telegraph\", \"total_articles\": 252981, \"proportion\": 0.11095299647009065}, {\"year\": 1863, \"total_results\": 28708, \"query\": \"telegraph\", \"total_articles\": 260291, \"proportion\": 0.11029194247976304}, {\"year\": 1864, \"total_results\": 28869, \"query\": \"telegraph\", \"total_articles\": 274076, \"proportion\": 0.10533209766634072}, {\"year\": 1865, \"total_results\": 31823, \"query\": \"telegraph\", \"total_articles\": 292157, \"proportion\": 0.10892431124361217}, {\"year\": 1866, \"total_results\": 32135, \"query\": \"telegraph\", \"total_articles\": 297673, \"proportion\": 0.10795403009342466}, {\"year\": 1867, \"total_results\": 31778, \"query\": \"telegraph\", \"total_articles\": 306399, \"proportion\": 0.10371443771030585}, {\"year\": 1868, \"total_results\": 29761, \"query\": \"telegraph\", \"total_articles\": 315179, \"proportion\": 0.09442570729648866}, {\"year\": 1869, \"total_results\": 36023, \"query\": \"telegraph\", \"total_articles\": 337323, \"proportion\": 0.10679082066743151}, {\"year\": 1870, \"total_results\": 46036, \"query\": \"telegraph\", \"total_articles\": 385289, \"proportion\": 0.11948433513544378}, {\"year\": 1871, \"total_results\": 42589, \"query\": \"telegraph\", \"total_articles\": 371982, \"proportion\": 0.11449209908006301}, {\"year\": 1872, \"total_results\": 48398, \"query\": \"telegraph\", \"total_articles\": 397020, \"proportion\": 0.12190317868117476}, {\"year\": 1873, \"total_results\": 51433, \"query\": \"telegraph\", \"total_articles\": 430691, \"proportion\": 0.11941972318901486}, {\"year\": 1874, \"total_results\": 50594, \"query\": \"telegraph\", \"total_articles\": 445748, \"proportion\": 0.11350359395891849}, {\"year\": 1875, \"total_results\": 52519, \"query\": \"telegraph\", \"total_articles\": 482469, \"proportion\": 0.10885466216482302}, {\"year\": 1876, \"total_results\": 54465, \"query\": \"telegraph\", \"total_articles\": 494060, \"proportion\": 0.11023964700643646}, {\"year\": 1877, \"total_results\": 56382, \"query\": \"telegraph\", \"total_articles\": 509249, \"proportion\": 0.11071597587820496}, {\"year\": 1878, \"total_results\": 61880, \"query\": \"telegraph\", \"total_articles\": 578926, \"proportion\": 0.10688758148709852}, {\"year\": 1879, \"total_results\": 65287, \"query\": \"telegraph\", \"total_articles\": 620648, \"proportion\": 0.10519167064100746}, {\"year\": 1880, \"total_results\": 65340, \"query\": \"telegraph\", \"total_articles\": 635861, \"proportion\": 0.10275830724010436}, {\"year\": 1881, \"total_results\": 70295, \"query\": \"telegraph\", \"total_articles\": 679154, \"proportion\": 0.10350377086787385}, {\"year\": 1882, \"total_results\": 82924, \"query\": \"telegraph\", \"total_articles\": 764271, \"proportion\": 0.10850078048231583}, {\"year\": 1883, \"total_results\": 88606, \"query\": \"telegraph\", \"total_articles\": 795970, \"proportion\": 0.11131826576378506}, {\"year\": 1884, \"total_results\": 100847, \"query\": \"telegraph\", \"total_articles\": 898376, \"proportion\": 0.11225477973587897}, {\"year\": 1885, \"total_results\": 104130, \"query\": \"telegraph\", \"total_articles\": 952777, \"proportion\": 0.10929105131631012}, {\"year\": 1886, \"total_results\": 108960, \"query\": \"telegraph\", \"total_articles\": 1031192, \"proportion\": 0.10566412462470616}, {\"year\": 1887, \"total_results\": 112990, \"query\": \"telegraph\", \"total_articles\": 1070273, \"proportion\": 0.10557119538659762}, {\"year\": 1888, \"total_results\": 122975, \"query\": \"telegraph\", \"total_articles\": 1199895, \"proportion\": 0.10248813437842477}, {\"year\": 1889, \"total_results\": 128115, \"query\": \"telegraph\", \"total_articles\": 1288503, \"proportion\": 0.09942933776638471}, {\"year\": 1890, \"total_results\": 131311, \"query\": \"telegraph\", \"total_articles\": 1403249, \"proportion\": 0.09357640732329045}, {\"year\": 1891, \"total_results\": 126882, \"query\": \"telegraph\", \"total_articles\": 1473337, \"proportion\": 0.08611879020210583}, {\"year\": 1892, \"total_results\": 118983, \"query\": \"telegraph\", \"total_articles\": 1532205, \"proportion\": 0.07765475246458535}, {\"year\": 1893, \"total_results\": 107063, \"query\": \"telegraph\", \"total_articles\": 1560089, \"proportion\": 0.0686262129916947}, {\"year\": 1894, \"total_results\": 113145, \"query\": \"telegraph\", \"total_articles\": 1620538, \"proportion\": 0.06981940565417163}, {\"year\": 1895, \"total_results\": 116128, \"query\": \"telegraph\", \"total_articles\": 1738871, \"proportion\": 0.06678356243792667}, {\"year\": 1896, \"total_results\": 115525, \"query\": \"telegraph\", \"total_articles\": 1858409, \"proportion\": 0.0621633881454513}, {\"year\": 1897, \"total_results\": 113500, \"query\": \"telegraph\", \"total_articles\": 1970237, \"proportion\": 0.05760728277867079}, {\"year\": 1898, \"total_results\": 119229, \"query\": \"telegraph\", \"total_articles\": 2197298, \"proportion\": 0.05426164316355815}, {\"year\": 1899, \"total_results\": 120433, \"query\": \"telegraph\", \"total_articles\": 2378661, \"proportion\": 0.05063058586322305}, {\"year\": 1900, \"total_results\": 138904, \"query\": \"telegraph\", \"total_articles\": 2615010, \"proportion\": 0.05311796130798735}, {\"year\": 1901, \"total_results\": 134622, \"query\": \"telegraph\", \"total_articles\": 2712040, \"proportion\": 0.04963864839751626}, {\"year\": 1902, \"total_results\": 123555, \"query\": \"telegraph\", \"total_articles\": 2769996, \"proportion\": 0.044604757551996464}, {\"year\": 1903, \"total_results\": 114693, \"query\": \"telegraph\", \"total_articles\": 2802628, \"proportion\": 0.04092337620262126}, {\"year\": 1904, \"total_results\": 121140, \"query\": \"telegraph\", \"total_articles\": 2963666, \"proportion\": 0.04087505137218567}, {\"year\": 1905, \"total_results\": 115436, \"query\": \"telegraph\", \"total_articles\": 3093983, \"proportion\": 0.03730983654402755}, {\"year\": 1906, \"total_results\": 101540, \"query\": \"telegraph\", \"total_articles\": 3136799, \"proportion\": 0.032370579052084625}, {\"year\": 1907, \"total_results\": 102682, \"query\": \"telegraph\", \"total_articles\": 3295230, \"proportion\": 0.031160799094448643}, {\"year\": 1908, \"total_results\": 118448, \"query\": \"telegraph\", \"total_articles\": 3396203, \"proportion\": 0.03487659601030916}, {\"year\": 1909, \"total_results\": 118559, \"query\": \"telegraph\", \"total_articles\": 3453773, \"proportion\": 0.03432738631056528}, {\"year\": 1910, \"total_results\": 120203, \"query\": \"telegraph\", \"total_articles\": 3686929, \"proportion\": 0.0326024721387366}, {\"year\": 1911, \"total_results\": 108209, \"query\": \"telegraph\", \"total_articles\": 3813205, \"proportion\": 0.028377441024020476}, {\"year\": 1912, \"total_results\": 115947, \"query\": \"telegraph\", \"total_articles\": 3968854, \"proportion\": 0.029214226575228014}, {\"year\": 1913, \"total_results\": 110130, \"query\": \"telegraph\", \"total_articles\": 4044296, \"proportion\": 0.027230944520381297}, {\"year\": 1914, \"total_results\": 119180, \"query\": \"telegraph\", \"total_articles\": 4682621, \"proportion\": 0.025451558005655378}, {\"year\": 1915, \"total_results\": 112185, \"query\": \"telegraph\", \"total_articles\": 4783530, \"proportion\": 0.02345234586173809}, {\"year\": 1916, \"total_results\": 104864, \"query\": \"telegraph\", \"total_articles\": 4369287, \"proportion\": 0.02400025450376686}, {\"year\": 1917, \"total_results\": 105992, \"query\": \"telegraph\", \"total_articles\": 4262301, \"proportion\": 0.024867319318837407}, {\"year\": 1918, \"total_results\": 104891, \"query\": \"telegraph\", \"total_articles\": 4040965, \"proportion\": 0.025956918706299115}, {\"year\": 1919, \"total_results\": 88422, \"query\": \"telegraph\", \"total_articles\": 3558241, \"proportion\": 0.024849918822249534}, {\"year\": 1920, \"total_results\": 71023, \"query\": \"telegraph\", \"total_articles\": 3304747, \"proportion\": 0.021491206437285516}, {\"year\": 1921, \"total_results\": 69412, \"query\": \"telegraph\", \"total_articles\": 3485308, \"proportion\": 0.01991559999862279}, {\"year\": 1922, \"total_results\": 70293, \"query\": \"telegraph\", \"total_articles\": 3635068, \"proportion\": 0.019337464938757678}, {\"year\": 1923, \"total_results\": 78159, \"query\": \"telegraph\", \"total_articles\": 3944282, \"proportion\": 0.01981577382144583}, {\"year\": 1924, \"total_results\": 76650, \"query\": \"telegraph\", \"total_articles\": 4249519, \"proportion\": 0.018037335519619984}, {\"year\": 1925, \"total_results\": 75861, \"query\": \"telegraph\", \"total_articles\": 4231795, \"proportion\": 0.017926435472417734}, {\"year\": 1926, \"total_results\": 75103, \"query\": \"telegraph\", \"total_articles\": 4226596, \"proportion\": 0.017769145667104212}, {\"year\": 1927, \"total_results\": 74803, \"query\": \"telegraph\", \"total_articles\": 4321841, \"proportion\": 0.01730813327005783}, {\"year\": 1928, \"total_results\": 70314, \"query\": \"telegraph\", \"total_articles\": 4441252, \"proportion\": 0.015832022141504244}, {\"year\": 1929, \"total_results\": 71176, \"query\": \"telegraph\", \"total_articles\": 4661832, \"proportion\": 0.015267817458887407}, {\"year\": 1930, \"total_results\": 60364, \"query\": \"telegraph\", \"total_articles\": 4505395, \"proportion\": 0.013398159317884448}, {\"year\": 1931, \"total_results\": 55375, \"query\": \"telegraph\", \"total_articles\": 4119730, \"proportion\": 0.013441414850002305}, {\"year\": 1932, \"total_results\": 54651, \"query\": \"telegraph\", \"total_articles\": 4134954, \"proportion\": 0.013216833851114183}, {\"year\": 1933, \"total_results\": 64912, \"query\": \"telegraph\", \"total_articles\": 4320822, \"proportion\": 0.015023067370051347}, {\"year\": 1934, \"total_results\": 72031, \"query\": \"telegraph\", \"total_articles\": 4457622, \"proportion\": 0.016159064182651648}, {\"year\": 1935, \"total_results\": 78729, \"query\": \"telegraph\", \"total_articles\": 4552116, \"proportion\": 0.01729503378209167}, {\"year\": 1936, \"total_results\": 80870, \"query\": \"telegraph\", \"total_articles\": 4632922, \"proportion\": 0.01745550648165456}, {\"year\": 1937, \"total_results\": 75949, \"query\": \"telegraph\", \"total_articles\": 4618274, \"proportion\": 0.01644532134732586}, {\"year\": 1938, \"total_results\": 91128, \"query\": \"telegraph\", \"total_articles\": 4616705, \"proportion\": 0.019738753071725398}, {\"year\": 1939, \"total_results\": 77300, \"query\": \"telegraph\", \"total_articles\": 4387229, \"proportion\": 0.017619321899996557}, {\"year\": 1940, \"total_results\": 61183, \"query\": \"telegraph\", \"total_articles\": 3783203, \"proportion\": 0.016172275185867637}, {\"year\": 1941, \"total_results\": 56982, \"query\": \"telegraph\", \"total_articles\": 3598964, \"proportion\": 0.0158328896871433}, {\"year\": 1942, \"total_results\": 45008, \"query\": \"telegraph\", \"total_articles\": 2935253, \"proportion\": 0.015333601566883672}, {\"year\": 1943, \"total_results\": 41645, \"query\": \"telegraph\", \"total_articles\": 2586289, \"proportion\": 0.016102222141454417}, {\"year\": 1944, \"total_results\": 43242, \"query\": \"telegraph\", \"total_articles\": 2635712, \"proportion\": 0.01640619308938154}, {\"year\": 1945, \"total_results\": 43354, \"query\": \"telegraph\", \"total_articles\": 2769932, \"proportion\": 0.015651647766082345}, {\"year\": 1946, \"total_results\": 47749, \"query\": \"telegraph\", \"total_articles\": 3323157, \"proportion\": 0.014368565794514072}, {\"year\": 1947, \"total_results\": 43885, \"query\": \"telegraph\", \"total_articles\": 3441909, \"proportion\": 0.012750191826686876}, {\"year\": 1948, \"total_results\": 31502, \"query\": \"telegraph\", \"total_articles\": 3101920, \"proportion\": 0.010155645535668232}, {\"year\": 1949, \"total_results\": 35709, \"query\": \"telegraph\", \"total_articles\": 3524852, \"proportion\": 0.010130638109061034}, {\"year\": 1950, \"total_results\": 35117, \"query\": \"telegraph\", \"total_articles\": 3554270, \"proportion\": 0.009880228570142393}, {\"year\": 1951, \"total_results\": 29949, \"query\": \"telegraph\", \"total_articles\": 3281008, \"proportion\": 0.009127987496525459}, {\"year\": 1952, \"total_results\": 26569, \"query\": \"telegraph\", \"total_articles\": 3375009, \"proportion\": 0.007872275303562153}, {\"year\": 1953, \"total_results\": 30058, \"query\": \"telegraph\", \"total_articles\": 3592915, \"proportion\": 0.008365909018164917}, {\"year\": 1954, \"total_results\": 33128, \"query\": \"telegraph\", \"total_articles\": 3541607, \"proportion\": 0.00935394582176961}, {\"year\": 1955, \"total_results\": 1895, \"query\": \"telegraph\", \"total_articles\": 404423, \"proportion\": 0.004685688004885973}, {\"year\": 1956, \"total_results\": 1005, \"query\": \"telegraph\", \"total_articles\": 229324, \"proportion\": 0.004382445797212677}, {\"year\": 1957, \"total_results\": 528, \"query\": \"telegraph\", \"total_articles\": 153132, \"proportion\": 0.003448005642191051}, {\"year\": 1958, \"total_results\": 602, \"query\": \"telegraph\", \"total_articles\": 153484, \"proportion\": 0.003922232936332126}, {\"year\": 1959, \"total_results\": 599, \"query\": \"telegraph\", \"total_articles\": 153425, \"proportion\": 0.00390418771386671}, {\"year\": 1960, \"total_results\": 620, \"query\": \"telegraph\", \"total_articles\": 154646, \"proportion\": 0.004009156395897728}, {\"year\": 1961, \"total_results\": 565, \"query\": \"telegraph\", \"total_articles\": 151751, \"proportion\": 0.0037232044599376612}, {\"year\": 1962, \"total_results\": 560, \"query\": \"telegraph\", \"total_articles\": 156236, \"proportion\": 0.0035843211551755036}, {\"year\": 1963, \"total_results\": 625, \"query\": \"telegraph\", \"total_articles\": 167154, \"proportion\": 0.003739066968185027}, {\"year\": 1964, \"total_results\": 527, \"query\": \"telegraph\", \"total_articles\": 167801, \"proportion\": 0.0031406249068837494}, {\"year\": 1965, \"total_results\": 609, \"query\": \"telegraph\", \"total_articles\": 177093, \"proportion\": 0.0034388711016245703}, {\"year\": 1966, \"total_results\": 559, \"query\": \"telegraph\", \"total_articles\": 160897, \"proportion\": 0.0034742723605785068}, {\"year\": 1967, \"total_results\": 617, \"query\": \"telegraph\", \"total_articles\": 155832, \"proportion\": 0.003959392165922275}, {\"year\": 1968, \"total_results\": 621, \"query\": \"telegraph\", \"total_articles\": 157330, \"proportion\": 0.003947117523676349}, {\"year\": 1969, \"total_results\": 1092, \"query\": \"telegraph\", \"total_articles\": 179517, \"proportion\": 0.006082989354768629}, {\"year\": 1970, \"total_results\": 1233, \"query\": \"telegraph\", \"total_articles\": 193249, \"proportion\": 0.0063803693680174285}, {\"year\": 1971, \"total_results\": 1072, \"query\": \"telegraph\", \"total_articles\": 191379, \"proportion\": 0.005601450524874725}, {\"year\": 1972, \"total_results\": 885, \"query\": \"telegraph\", \"total_articles\": 179093, \"proportion\": 0.004941566672064235}, {\"year\": 1973, \"total_results\": 795, \"query\": \"telegraph\", \"total_articles\": 180806, \"proportion\": 0.004396977976394588}, {\"year\": 1974, \"total_results\": 600, \"query\": \"telegraph\", \"total_articles\": 179385, \"proportion\": 0.0033447612676645202}, {\"year\": 1975, \"total_results\": 745, \"query\": \"telegraph\", \"total_articles\": 168395, \"proportion\": 0.004424121856349654}, {\"year\": 1976, \"total_results\": 652, \"query\": \"telegraph\", \"total_articles\": 169153, \"proportion\": 0.0038544985900338747}, {\"year\": 1977, \"total_results\": 434, \"query\": \"telegraph\", \"total_articles\": 170625, \"proportion\": 0.0025435897435897438}, {\"year\": 1978, \"total_results\": 382, \"query\": \"telegraph\", \"total_articles\": 175661, \"proportion\": 0.0021746432048092633}, {\"year\": 1979, \"total_results\": 446, \"query\": \"telegraph\", \"total_articles\": 184844, \"proportion\": 0.0024128454264136243}, {\"year\": 1980, \"total_results\": 412, \"query\": \"telegraph\", \"total_articles\": 185923, \"proportion\": 0.00221597112783249}, {\"year\": 1981, \"total_results\": 483, \"query\": \"telegraph\", \"total_articles\": 164070, \"proportion\": 0.002943865423294935}, {\"year\": 1982, \"total_results\": 404, \"query\": \"telegraph\", \"total_articles\": 153396, \"proportion\": 0.0026337062244126313}, {\"year\": 1983, \"total_results\": 370, \"query\": \"telegraph\", \"total_articles\": 141802, \"proportion\": 0.00260927208360954}, {\"year\": 1984, \"total_results\": 430, \"query\": \"telegraph\", \"total_articles\": 146493, \"proportion\": 0.0029352938365655697}, {\"year\": 1985, \"total_results\": 463, \"query\": \"telegraph\", \"total_articles\": 155564, \"proportion\": 0.002976267002648428}, {\"year\": 1986, \"total_results\": 465, \"query\": \"telegraph\", \"total_articles\": 152788, \"proportion\": 0.003043432730319135}, {\"year\": 1987, \"total_results\": 484, \"query\": \"telegraph\", \"total_articles\": 133503, \"proportion\": 0.003625386695430065}, {\"year\": 1988, \"total_results\": 454, \"query\": \"telegraph\", \"total_articles\": 143213, \"proportion\": 0.003170103272747586}, {\"year\": 1989, \"total_results\": 396, \"query\": \"telegraph\", \"total_articles\": 146122, \"proportion\": 0.002710064192934671}, {\"year\": 1990, \"total_results\": 694, \"query\": \"telegraph\", \"total_articles\": 138585, \"proportion\": 0.005007756972255295}, {\"year\": 1991, \"total_results\": 554, \"query\": \"telegraph\", \"total_articles\": 139257, \"proportion\": 0.003978256030217511}, {\"year\": 1992, \"total_results\": 465, \"query\": \"telegraph\", \"total_articles\": 159414, \"proportion\": 0.0029169332680943957}, {\"year\": 1993, \"total_results\": 516, \"query\": \"telegraph\", \"total_articles\": 160603, \"proportion\": 0.0032128914154779175}, {\"year\": 1994, \"total_results\": 456, \"query\": \"telegraph\", \"total_articles\": 155783, \"proportion\": 0.0029271486619207488}, {\"year\": 1995, \"total_results\": 422, \"query\": \"telegraph\", \"total_articles\": 154299, \"proportion\": 0.002734949675629784}, {\"year\": 1996, \"total_results\": 128, \"query\": \"telegraph\", \"total_articles\": 69400, \"proportion\": 0.0018443804034582133}, {\"year\": 1997, \"total_results\": 213, \"query\": \"telegraph\", \"total_articles\": 73218, \"proportion\": 0.0029091207080226174}, {\"year\": 1998, \"total_results\": 168, \"query\": \"telegraph\", \"total_articles\": 80878, \"proportion\": 0.0020772027003635105}, {\"year\": 1999, \"total_results\": 201, \"query\": \"telegraph\", \"total_articles\": 90368, \"proportion\": 0.0022242386685552406}, {\"year\": 2000, \"total_results\": 178, \"query\": \"telegraph\", \"total_articles\": 68823, \"proportion\": 0.002586344681283873}, {\"year\": 2001, \"total_results\": 129, \"query\": \"telegraph\", \"total_articles\": 67114, \"proportion\": 0.0019221026909437672}, {\"year\": 2002, \"total_results\": 169, \"query\": \"telegraph\", \"total_articles\": 68169, \"proportion\": 0.0024791327436224676}, {\"year\": 2003, \"total_results\": 57, \"query\": \"telegraph\", \"total_articles\": 33361, \"proportion\": 0.0017085818770420551}, {\"year\": 2004, \"total_results\": 57, \"query\": \"telegraph\", \"total_articles\": 30793, \"proportion\": 0.0018510700483876205}, {\"year\": 2005, \"total_results\": 36, \"query\": \"telegraph\", \"total_articles\": 26677, \"proportion\": 0.0013494770776324174}, {\"year\": 2006, \"total_results\": 34, \"query\": \"telegraph\", \"total_articles\": 26179, \"proportion\": 0.0012987509072157073}, {\"year\": 2007, \"total_results\": 23, \"query\": \"telegraph\", \"total_articles\": 27726, \"proportion\": 0.0008295462742552118}, {\"year\": 2008, \"total_results\": 42, \"query\": \"telegraph\", \"total_articles\": 26158, \"proportion\": 0.001605627341539873}, {\"year\": 2009, \"total_results\": 5, \"query\": \"telegraph\", \"total_articles\": 14340, \"proportion\": 0.0003486750348675035}, {\"year\": 2010, \"total_results\": 12, \"query\": \"telegraph\", \"total_articles\": 14750, \"proportion\": 0.0008135593220338983}, {\"year\": 2011, \"total_results\": 7, \"query\": \"telegraph\", \"total_articles\": 15228, \"proportion\": 0.00045967953769372207}, {\"year\": 2012, \"total_results\": 8, \"query\": \"telegraph\", \"total_articles\": 8112, \"proportion\": 0.0009861932938856016}, {\"year\": 2013, \"total_results\": 5, \"query\": \"telegraph\", \"total_articles\": 8358, \"proportion\": 0.0005982292414453219}, {\"year\": 2014, \"total_results\": 13, \"query\": \"telegraph\", \"total_articles\": 8077, \"proportion\": 0.0016095084808716107}, {\"year\": 2015, \"total_results\": 11, \"query\": \"telegraph\", \"total_articles\": 8255, \"proportion\": 0.0013325257419745608}, {\"year\": 2016, \"total_results\": 1, \"query\": \"telegraph\", \"total_articles\": 4665, \"proportion\": 0.00021436227224008573}, {\"year\": 2017, \"total_results\": 1, \"query\": \"telegraph\", \"total_articles\": 4184, \"proportion\": 0.0002390057361376673}, {\"year\": 2018, \"total_results\": 1, \"query\": \"telegraph\", \"total_articles\": 3506, \"proportion\": 0.0002852253280091272}, {\"year\": 1830, \"total_results\": 1, \"query\": \"radio\", \"total_articles\": 8977, \"proportion\": 0.00011139578923916676}, {\"year\": 1831, \"total_results\": 1, \"query\": \"radio\", \"total_articles\": 10989, \"proportion\": 9.1000091000091e-05}, {\"year\": 1832, \"total_results\": 1, \"query\": \"radio\", \"total_articles\": 14814, \"proportion\": 6.750371270419872e-05}, {\"year\": 1833, \"total_results\": 2, \"query\": \"radio\", \"total_articles\": 15622, \"proportion\": 0.00012802458071949814}, {\"year\": 1834, \"total_results\": 5, \"query\": \"radio\", \"total_articles\": 18704, \"proportion\": 0.00026732249786142}, {\"year\": 1835, \"total_results\": 3, \"query\": \"radio\", \"total_articles\": 20389, \"proportion\": 0.000147138162734808}, {\"year\": 1836, \"total_results\": 11, \"query\": \"radio\", \"total_articles\": 20553, \"proportion\": 0.0005352016737215978}, {\"year\": 1837, \"total_results\": 7, \"query\": \"radio\", \"total_articles\": 21805, \"proportion\": 0.00032102728731942215}, {\"year\": 1838, \"total_results\": 7, \"query\": \"radio\", \"total_articles\": 25911, \"proportion\": 0.00027015553239936706}, {\"year\": 1839, \"total_results\": 5, \"query\": \"radio\", \"total_articles\": 32876, \"proportion\": 0.00015208662854361845}, {\"year\": 1840, \"total_results\": 3, \"query\": \"radio\", \"total_articles\": 42411, \"proportion\": 7.073636556553724e-05}, {\"year\": 1841, \"total_results\": 29, \"query\": \"radio\", \"total_articles\": 46377, \"proportion\": 0.0006253099596782888}, {\"year\": 1842, \"total_results\": 12, \"query\": \"radio\", \"total_articles\": 47934, \"proportion\": 0.00025034422330704717}, {\"year\": 1843, \"total_results\": 8, \"query\": \"radio\", \"total_articles\": 49913, \"proportion\": 0.000160278885260353}, {\"year\": 1844, \"total_results\": 10, \"query\": \"radio\", \"total_articles\": 54331, \"proportion\": 0.00018405698404225948}, {\"year\": 1845, \"total_results\": 15, \"query\": \"radio\", \"total_articles\": 63389, \"proportion\": 0.00023663411632933158}, {\"year\": 1846, \"total_results\": 8, \"query\": \"radio\", \"total_articles\": 62153, \"proportion\": 0.00012871462359017265}, {\"year\": 1847, \"total_results\": 21, \"query\": \"radio\", \"total_articles\": 62767, \"proportion\": 0.00033457071391017573}, {\"year\": 1848, \"total_results\": 12, \"query\": \"radio\", \"total_articles\": 63463, \"proportion\": 0.00018908655437026298}, {\"year\": 1849, \"total_results\": 25, \"query\": \"radio\", \"total_articles\": 62794, \"proportion\": 0.00039812720960601334}, {\"year\": 1850, \"total_results\": 42, \"query\": \"radio\", \"total_articles\": 81624, \"proportion\": 0.0005145545427815349}, {\"year\": 1851, \"total_results\": 31, \"query\": \"radio\", \"total_articles\": 96566, \"proportion\": 0.00032102396288548763}, {\"year\": 1852, \"total_results\": 44, \"query\": \"radio\", \"total_articles\": 79960, \"proportion\": 0.0005502751375687844}, {\"year\": 1853, \"total_results\": 108, \"query\": \"radio\", \"total_articles\": 96033, \"proportion\": 0.0011246134141388898}, {\"year\": 1854, \"total_results\": 179, \"query\": \"radio\", \"total_articles\": 118895, \"proportion\": 0.001505530089574835}, {\"year\": 1855, \"total_results\": 70, \"query\": \"radio\", \"total_articles\": 159935, \"proportion\": 0.0004376778066089349}, {\"year\": 1856, \"total_results\": 71, \"query\": \"radio\", \"total_articles\": 168695, \"proportion\": 0.00042087791576513826}, {\"year\": 1857, \"total_results\": 86, \"query\": \"radio\", \"total_articles\": 175982, \"proportion\": 0.0004886863429214352}, {\"year\": 1858, \"total_results\": 141, \"query\": \"radio\", \"total_articles\": 182050, \"proportion\": 0.0007745124965668772}, {\"year\": 1859, \"total_results\": 129, \"query\": \"radio\", \"total_articles\": 208543, \"proportion\": 0.0006185774636405921}, {\"year\": 1860, \"total_results\": 159, \"query\": \"radio\", \"total_articles\": 221733, \"proportion\": 0.000717078648644992}, {\"year\": 1861, \"total_results\": 185, \"query\": \"radio\", \"total_articles\": 245273, \"proportion\": 0.000754261577915221}, {\"year\": 1862, \"total_results\": 148, \"query\": \"radio\", \"total_articles\": 252981, \"proportion\": 0.000585024171775746}, {\"year\": 1863, \"total_results\": 171, \"query\": \"radio\", \"total_articles\": 260291, \"proportion\": 0.0006569570211801407}, {\"year\": 1864, \"total_results\": 134, \"query\": \"radio\", \"total_articles\": 274076, \"proportion\": 0.0004889154832966038}, {\"year\": 1865, \"total_results\": 136, \"query\": \"radio\", \"total_articles\": 292157, \"proportion\": 0.0004655031370119491}, {\"year\": 1866, \"total_results\": 115, \"query\": \"radio\", \"total_articles\": 297673, \"proportion\": 0.00038632996610374473}, {\"year\": 1867, \"total_results\": 120, \"query\": \"radio\", \"total_articles\": 306399, \"proportion\": 0.0003916461868348134}, {\"year\": 1868, \"total_results\": 158, \"query\": \"radio\", \"total_articles\": 315179, \"proportion\": 0.0005013024344896075}, {\"year\": 1869, \"total_results\": 159, \"query\": \"radio\", \"total_articles\": 337323, \"proportion\": 0.0004713583123593707}, {\"year\": 1870, \"total_results\": 164, \"query\": \"radio\", \"total_articles\": 385289, \"proportion\": 0.00042565450869347425}, {\"year\": 1871, \"total_results\": 198, \"query\": \"radio\", \"total_articles\": 371982, \"proportion\": 0.0005322838201848477}, {\"year\": 1872, \"total_results\": 181, \"query\": \"radio\", \"total_articles\": 397020, \"proportion\": 0.0004558964283915168}, {\"year\": 1873, \"total_results\": 205, \"query\": \"radio\", \"total_articles\": 430691, \"proportion\": 0.0004759792983832957}, {\"year\": 1874, \"total_results\": 219, \"query\": \"radio\", \"total_articles\": 445748, \"proportion\": 0.0004913089907301884}, {\"year\": 1875, \"total_results\": 263, \"query\": \"radio\", \"total_articles\": 482469, \"proportion\": 0.0005451127429948867}, {\"year\": 1876, \"total_results\": 285, \"query\": \"radio\", \"total_articles\": 494060, \"proportion\": 0.0005768530138039914}, {\"year\": 1877, \"total_results\": 346, \"query\": \"radio\", \"total_articles\": 509249, \"proportion\": 0.0006794318692820211}, {\"year\": 1878, \"total_results\": 333, \"query\": \"radio\", \"total_articles\": 578926, \"proportion\": 0.0005752030484034229}, {\"year\": 1879, \"total_results\": 383, \"query\": \"radio\", \"total_articles\": 620648, \"proportion\": 0.00061709696961885}, {\"year\": 1880, \"total_results\": 368, \"query\": \"radio\", \"total_articles\": 635861, \"proportion\": 0.0005787428384505419}, {\"year\": 1881, \"total_results\": 514, \"query\": \"radio\", \"total_articles\": 679154, \"proportion\": 0.000756823930949387}, {\"year\": 1882, \"total_results\": 467, \"query\": \"radio\", \"total_articles\": 764271, \"proportion\": 0.0006110398013270162}, {\"year\": 1883, \"total_results\": 632, \"query\": \"radio\", \"total_articles\": 795970, \"proportion\": 0.0007939997738608239}, {\"year\": 1884, \"total_results\": 609, \"query\": \"radio\", \"total_articles\": 898376, \"proportion\": 0.000677889881296918}, {\"year\": 1885, \"total_results\": 667, \"query\": \"radio\", \"total_articles\": 952777, \"proportion\": 0.0007000588805145381}, {\"year\": 1886, \"total_results\": 738, \"query\": \"radio\", \"total_articles\": 1031192, \"proportion\": 0.0007156766150241662}, {\"year\": 1887, \"total_results\": 689, \"query\": \"radio\", \"total_articles\": 1070273, \"proportion\": 0.0006437609843469844}, {\"year\": 1888, \"total_results\": 830, \"query\": \"radio\", \"total_articles\": 1199895, \"proportion\": 0.0006917271927960364}, {\"year\": 1889, \"total_results\": 807, \"query\": \"radio\", \"total_articles\": 1288503, \"proportion\": 0.000626308204171818}, {\"year\": 1890, \"total_results\": 875, \"query\": \"radio\", \"total_articles\": 1403249, \"proportion\": 0.000623552911849572}, {\"year\": 1891, \"total_results\": 827, \"query\": \"radio\", \"total_articles\": 1473337, \"proportion\": 0.0005613108202671893}, {\"year\": 1892, \"total_results\": 849, \"query\": \"radio\", \"total_articles\": 1532205, \"proportion\": 0.000554103400001958}, {\"year\": 1893, \"total_results\": 855, \"query\": \"radio\", \"total_articles\": 1560089, \"proportion\": 0.0005480456563696045}, {\"year\": 1894, \"total_results\": 922, \"query\": \"radio\", \"total_articles\": 1620538, \"proportion\": 0.000568946855920688}, {\"year\": 1895, \"total_results\": 975, \"query\": \"radio\", \"total_articles\": 1738871, \"proportion\": 0.0005607086437119257}, {\"year\": 1896, \"total_results\": 1086, \"query\": \"radio\", \"total_articles\": 1858409, \"proportion\": 0.0005843708247215764}, {\"year\": 1897, \"total_results\": 1086, \"query\": \"radio\", \"total_articles\": 1970237, \"proportion\": 0.0005512027233271936}, {\"year\": 1898, \"total_results\": 991, \"query\": \"radio\", \"total_articles\": 2197298, \"proportion\": 0.00045100846585215116}, {\"year\": 1899, \"total_results\": 1005, \"query\": \"radio\", \"total_articles\": 2378661, \"proportion\": 0.000422506611913173}, {\"year\": 1900, \"total_results\": 949, \"query\": \"radio\", \"total_articles\": 2615010, \"proportion\": 0.00036290492196970565}, {\"year\": 1901, \"total_results\": 983, \"query\": \"radio\", \"total_articles\": 2712040, \"proportion\": 0.0003624577808586894}, {\"year\": 1902, \"total_results\": 1080, \"query\": \"radio\", \"total_articles\": 2769996, \"proportion\": 0.0003898922597722163}, {\"year\": 1903, \"total_results\": 1286, \"query\": \"radio\", \"total_articles\": 2802628, \"proportion\": 0.00045885504604963626}, {\"year\": 1904, \"total_results\": 1797, \"query\": \"radio\", \"total_articles\": 2963666, \"proportion\": 0.0006063436298152356}, {\"year\": 1905, \"total_results\": 1903, \"query\": \"radio\", \"total_articles\": 3093983, \"proportion\": 0.000615064788655917}, {\"year\": 1906, \"total_results\": 2258, \"query\": \"radio\", \"total_articles\": 3136799, \"proportion\": 0.000719842106555122}, {\"year\": 1907, \"total_results\": 2039, \"query\": \"radio\", \"total_articles\": 3295230, \"proportion\": 0.0006187731964081415}, {\"year\": 1908, \"total_results\": 1643, \"query\": \"radio\", \"total_articles\": 3396203, \"proportion\": 0.00048377555758592755}, {\"year\": 1909, \"total_results\": 2157, \"query\": \"radio\", \"total_articles\": 3453773, \"proportion\": 0.000624534386017842}, {\"year\": 1910, \"total_results\": 2822, \"query\": \"radio\", \"total_articles\": 3686929, \"proportion\": 0.0007654066568680872}, {\"year\": 1911, \"total_results\": 3422, \"query\": \"radio\", \"total_articles\": 3813205, \"proportion\": 0.0008974078236024551}, {\"year\": 1912, \"total_results\": 3882, \"query\": \"radio\", \"total_articles\": 3968854, \"proportion\": 0.0009781161010205968}, {\"year\": 1913, \"total_results\": 4265, \"query\": \"radio\", \"total_articles\": 4044296, \"proportion\": 0.0010545716732899867}, {\"year\": 1914, \"total_results\": 4879, \"query\": \"radio\", \"total_articles\": 4682621, \"proportion\": 0.0010419378378049386}, {\"year\": 1915, \"total_results\": 4539, \"query\": \"radio\", \"total_articles\": 4783530, \"proportion\": 0.0009488808474076675}, {\"year\": 1916, \"total_results\": 3811, \"query\": \"radio\", \"total_articles\": 4369287, \"proportion\": 0.0008722246902068919}, {\"year\": 1917, \"total_results\": 3807, \"query\": \"radio\", \"total_articles\": 4262301, \"proportion\": 0.0008931795290853462}, {\"year\": 1918, \"total_results\": 3768, \"query\": \"radio\", \"total_articles\": 4040965, \"proportion\": 0.0009324505408980281}, {\"year\": 1919, \"total_results\": 4434, \"query\": \"radio\", \"total_articles\": 3558241, \"proportion\": 0.0012461213279257926}, {\"year\": 1920, \"total_results\": 5635, \"query\": \"radio\", \"total_articles\": 3304747, \"proportion\": 0.0017051229640272008}, {\"year\": 1921, \"total_results\": 5803, \"query\": \"radio\", \"total_articles\": 3485308, \"proportion\": 0.001664989148735205}, {\"year\": 1922, \"total_results\": 8186, \"query\": \"radio\", \"total_articles\": 3635068, \"proportion\": 0.002251952370629655}, {\"year\": 1923, \"total_results\": 12555, \"query\": \"radio\", \"total_articles\": 3944282, \"proportion\": 0.0031830888359402295}, {\"year\": 1924, \"total_results\": 26547, \"query\": \"radio\", \"total_articles\": 4249519, \"proportion\": 0.006247059961374452}, {\"year\": 1925, \"total_results\": 40441, \"query\": \"radio\", \"total_articles\": 4231795, \"proportion\": 0.009556464809850193}, {\"year\": 1926, \"total_results\": 45318, \"query\": \"radio\", \"total_articles\": 4226596, \"proportion\": 0.01072210355567459}, {\"year\": 1927, \"total_results\": 57744, \"query\": \"radio\", \"total_articles\": 4321841, \"proportion\": 0.013360972789142405}, {\"year\": 1928, \"total_results\": 65025, \"query\": \"radio\", \"total_articles\": 4441252, \"proportion\": 0.014641141732106172}, {\"year\": 1929, \"total_results\": 65380, \"query\": \"radio\", \"total_articles\": 4661832, \"proportion\": 0.01402452941247132}, {\"year\": 1930, \"total_results\": 68251, \"query\": \"radio\", \"total_articles\": 4505395, \"proportion\": 0.015148727248110321}, {\"year\": 1931, \"total_results\": 69717, \"query\": \"radio\", \"total_articles\": 4119730, \"proportion\": 0.01692271095435866}, {\"year\": 1932, \"total_results\": 77098, \"query\": \"radio\", \"total_articles\": 4134954, \"proportion\": 0.018645431122087452}, {\"year\": 1933, \"total_results\": 84708, \"query\": \"radio\", \"total_articles\": 4320822, \"proportion\": 0.019604603013037798}, {\"year\": 1934, \"total_results\": 100804, \"query\": \"radio\", \"total_articles\": 4457622, \"proportion\": 0.022613851062292856}, {\"year\": 1935, \"total_results\": 109040, \"query\": \"radio\", \"total_articles\": 4552116, \"proportion\": 0.023953695380346196}, {\"year\": 1936, \"total_results\": 118603, \"query\": \"radio\", \"total_articles\": 4632922, \"proportion\": 0.025600042478591264}, {\"year\": 1937, \"total_results\": 131059, \"query\": \"radio\", \"total_articles\": 4618274, \"proportion\": 0.02837835087307509}, {\"year\": 1938, \"total_results\": 142627, \"query\": \"radio\", \"total_articles\": 4616705, \"proportion\": 0.030893678500142418}, {\"year\": 1939, \"total_results\": 139193, \"query\": \"radio\", \"total_articles\": 4387229, \"proportion\": 0.03172685993824348}, {\"year\": 1940, \"total_results\": 139204, \"query\": \"radio\", \"total_articles\": 3783203, \"proportion\": 0.03679527638353004}, {\"year\": 1941, \"total_results\": 161007, \"query\": \"radio\", \"total_articles\": 3598964, \"proportion\": 0.044737040992907956}, {\"year\": 1942, \"total_results\": 151577, \"query\": \"radio\", \"total_articles\": 2935253, \"proportion\": 0.05164018229433715}, {\"year\": 1943, \"total_results\": 144858, \"query\": \"radio\", \"total_articles\": 2586289, \"proportion\": 0.05600998186977557}, {\"year\": 1944, \"total_results\": 137512, \"query\": \"radio\", \"total_articles\": 2635712, \"proportion\": 0.05217261977029357}, {\"year\": 1945, \"total_results\": 133136, \"query\": \"radio\", \"total_articles\": 2769932, \"proportion\": 0.04806471783422842}, {\"year\": 1946, \"total_results\": 143686, \"query\": \"radio\", \"total_articles\": 3323157, \"proportion\": 0.04323780068170117}, {\"year\": 1947, \"total_results\": 151660, \"query\": \"radio\", \"total_articles\": 3441909, \"proportion\": 0.04406275703395993}, {\"year\": 1948, \"total_results\": 132935, \"query\": \"radio\", \"total_articles\": 3101920, \"proportion\": 0.04285571516995925}, {\"year\": 1949, \"total_results\": 145825, \"query\": \"radio\", \"total_articles\": 3524852, \"proportion\": 0.04137053130173976}, {\"year\": 1950, \"total_results\": 147021, \"query\": \"radio\", \"total_articles\": 3554270, \"proportion\": 0.0413646121425778}, {\"year\": 1951, \"total_results\": 133450, \"query\": \"radio\", \"total_articles\": 3281008, \"proportion\": 0.04067347595616957}, {\"year\": 1952, \"total_results\": 135504, \"query\": \"radio\", \"total_articles\": 3375009, \"proportion\": 0.04014922626872995}, {\"year\": 1953, \"total_results\": 152068, \"query\": \"radio\", \"total_articles\": 3592915, \"proportion\": 0.042324407897208816}, {\"year\": 1954, \"total_results\": 161172, \"query\": \"radio\", \"total_articles\": 3541607, \"proportion\": 0.0455081549138569}, {\"year\": 1955, \"total_results\": 16996, \"query\": \"radio\", \"total_articles\": 404423, \"proportion\": 0.04202530518788496}, {\"year\": 1956, \"total_results\": 11065, \"query\": \"radio\", \"total_articles\": 229324, \"proportion\": 0.04825051019518236}, {\"year\": 1957, \"total_results\": 7009, \"query\": \"radio\", \"total_articles\": 153132, \"proportion\": 0.04577096883734295}, {\"year\": 1958, \"total_results\": 7345, \"query\": \"radio\", \"total_articles\": 153484, \"proportion\": 0.04785515102551406}, {\"year\": 1959, \"total_results\": 7473, \"query\": \"radio\", \"total_articles\": 153425, \"proportion\": 0.0487078377057194}, {\"year\": 1960, \"total_results\": 7554, \"query\": \"radio\", \"total_articles\": 154646, \"proportion\": 0.04884704421711522}, {\"year\": 1961, \"total_results\": 7172, \"query\": \"radio\", \"total_articles\": 151751, \"proportion\": 0.047261632542783906}, {\"year\": 1962, \"total_results\": 7196, \"query\": \"radio\", \"total_articles\": 156236, \"proportion\": 0.04605852684400522}, {\"year\": 1963, \"total_results\": 8724, \"query\": \"radio\", \"total_articles\": 167154, \"proportion\": 0.05219139236871388}, {\"year\": 1964, \"total_results\": 8034, \"query\": \"radio\", \"total_articles\": 167801, \"proportion\": 0.04787814136983689}, {\"year\": 1965, \"total_results\": 8287, \"query\": \"radio\", \"total_articles\": 177093, \"proportion\": 0.0467946220347501}, {\"year\": 1966, \"total_results\": 6918, \"query\": \"radio\", \"total_articles\": 160897, \"proportion\": 0.04299645114576406}, {\"year\": 1967, \"total_results\": 6793, \"query\": \"radio\", \"total_articles\": 155832, \"proportion\": 0.04359181682837928}, {\"year\": 1968, \"total_results\": 7133, \"query\": \"radio\", \"total_articles\": 157330, \"proportion\": 0.04533782495391851}, {\"year\": 1969, \"total_results\": 8202, \"query\": \"radio\", \"total_articles\": 179517, \"proportion\": 0.04568926619763031}, {\"year\": 1970, \"total_results\": 8411, \"query\": \"radio\", \"total_articles\": 193249, \"proportion\": 0.043524157951658225}, {\"year\": 1971, \"total_results\": 8132, \"query\": \"radio\", \"total_articles\": 191379, \"proportion\": 0.042491600436829535}, {\"year\": 1972, \"total_results\": 8019, \"query\": \"radio\", \"total_articles\": 179093, \"proportion\": 0.04477561937094136}, {\"year\": 1973, \"total_results\": 7538, \"query\": \"radio\", \"total_articles\": 180806, \"proportion\": 0.04169109432209108}, {\"year\": 1974, \"total_results\": 7614, \"query\": \"radio\", \"total_articles\": 179385, \"proportion\": 0.042445020486662766}, {\"year\": 1975, \"total_results\": 7706, \"query\": \"radio\", \"total_articles\": 168395, \"proportion\": 0.045761453724873065}, {\"year\": 1976, \"total_results\": 8290, \"query\": \"radio\", \"total_articles\": 169153, \"proportion\": 0.0490088854469031}, {\"year\": 1977, \"total_results\": 8568, \"query\": \"radio\", \"total_articles\": 170625, \"proportion\": 0.05021538461538461}, {\"year\": 1978, \"total_results\": 8480, \"query\": \"radio\", \"total_articles\": 175661, \"proportion\": 0.04827480203346218}, {\"year\": 1979, \"total_results\": 8752, \"query\": \"radio\", \"total_articles\": 184844, \"proportion\": 0.04734803401787453}, {\"year\": 1980, \"total_results\": 8562, \"query\": \"radio\", \"total_articles\": 185923, \"proportion\": 0.046051322321606254}, {\"year\": 1981, \"total_results\": 8193, \"query\": \"radio\", \"total_articles\": 164070, \"proportion\": 0.04993600292558054}, {\"year\": 1982, \"total_results\": 6985, \"query\": \"radio\", \"total_articles\": 153396, \"proportion\": 0.04553573756812433}, {\"year\": 1983, \"total_results\": 6905, \"query\": \"radio\", \"total_articles\": 141802, \"proportion\": 0.048694658749523986}, {\"year\": 1984, \"total_results\": 7132, \"query\": \"radio\", \"total_articles\": 146493, \"proportion\": 0.04868492009857126}, {\"year\": 1985, \"total_results\": 7172, \"query\": \"radio\", \"total_articles\": 155564, \"proportion\": 0.046103211539944976}, {\"year\": 1986, \"total_results\": 7071, \"query\": \"radio\", \"total_articles\": 152788, \"proportion\": 0.04627981255072388}, {\"year\": 1987, \"total_results\": 6452, \"query\": \"radio\", \"total_articles\": 133503, \"proportion\": 0.048328501981228886}, {\"year\": 1988, \"total_results\": 6750, \"query\": \"radio\", \"total_articles\": 143213, \"proportion\": 0.04713259271155552}, {\"year\": 1989, \"total_results\": 6183, \"query\": \"radio\", \"total_articles\": 146122, \"proportion\": 0.042313956830593615}, {\"year\": 1990, \"total_results\": 6027, \"query\": \"radio\", \"total_articles\": 138585, \"proportion\": 0.04348955514666089}, {\"year\": 1991, \"total_results\": 6248, \"query\": \"radio\", \"total_articles\": 139257, \"proportion\": 0.044866685337182334}, {\"year\": 1992, \"total_results\": 6178, \"query\": \"radio\", \"total_articles\": 159414, \"proportion\": 0.03875443812964984}, {\"year\": 1993, \"total_results\": 5820, \"query\": \"radio\", \"total_articles\": 160603, \"proportion\": 0.036238426430390464}, {\"year\": 1994, \"total_results\": 5466, \"query\": \"radio\", \"total_articles\": 155783, \"proportion\": 0.03508726882907634}, {\"year\": 1995, \"total_results\": 5560, \"query\": \"radio\", \"total_articles\": 154299, \"proportion\": 0.0360339341149327}, {\"year\": 1996, \"total_results\": 1701, \"query\": \"radio\", \"total_articles\": 69400, \"proportion\": 0.024510086455331412}, {\"year\": 1997, \"total_results\": 1749, \"query\": \"radio\", \"total_articles\": 73218, \"proportion\": 0.02388756863066459}, {\"year\": 1998, \"total_results\": 1846, \"query\": \"radio\", \"total_articles\": 80878, \"proportion\": 0.022824501100422858}, {\"year\": 1999, \"total_results\": 2165, \"query\": \"radio\", \"total_articles\": 90368, \"proportion\": 0.023957595609065154}, {\"year\": 2000, \"total_results\": 1660, \"query\": \"radio\", \"total_articles\": 68823, \"proportion\": 0.02411984365691702}, {\"year\": 2001, \"total_results\": 1571, \"query\": \"radio\", \"total_articles\": 67114, \"proportion\": 0.02340793277110588}, {\"year\": 2002, \"total_results\": 1595, \"query\": \"radio\", \"total_articles\": 68169, \"proportion\": 0.023397732106969445}, {\"year\": 2003, \"total_results\": 1008, \"query\": \"radio\", \"total_articles\": 33361, \"proportion\": 0.030214921615059502}, {\"year\": 2004, \"total_results\": 849, \"query\": \"radio\", \"total_articles\": 30793, \"proportion\": 0.027571201247036665}, {\"year\": 2005, \"total_results\": 697, \"query\": \"radio\", \"total_articles\": 26677, \"proportion\": 0.02612737564193875}, {\"year\": 2006, \"total_results\": 724, \"query\": \"radio\", \"total_articles\": 26179, \"proportion\": 0.027655754612475648}, {\"year\": 2007, \"total_results\": 692, \"query\": \"radio\", \"total_articles\": 27726, \"proportion\": 0.02495852268628724}, {\"year\": 2008, \"total_results\": 662, \"query\": \"radio\", \"total_articles\": 26158, \"proportion\": 0.02530774524046181}, {\"year\": 2009, \"total_results\": 296, \"query\": \"radio\", \"total_articles\": 14340, \"proportion\": 0.020641562064156207}, {\"year\": 2010, \"total_results\": 264, \"query\": \"radio\", \"total_articles\": 14750, \"proportion\": 0.017898305084745762}, {\"year\": 2011, \"total_results\": 224, \"query\": \"radio\", \"total_articles\": 15228, \"proportion\": 0.014709745206199106}, {\"year\": 2012, \"total_results\": 131, \"query\": \"radio\", \"total_articles\": 8112, \"proportion\": 0.016148915187376725}, {\"year\": 2013, \"total_results\": 128, \"query\": \"radio\", \"total_articles\": 8358, \"proportion\": 0.01531466858100024}, {\"year\": 2014, \"total_results\": 128, \"query\": \"radio\", \"total_articles\": 8077, \"proportion\": 0.015847468119351244}, {\"year\": 2015, \"total_results\": 93, \"query\": \"radio\", \"total_articles\": 8255, \"proportion\": 0.011265899454875833}, {\"year\": 2016, \"total_results\": 67, \"query\": \"radio\", \"total_articles\": 4665, \"proportion\": 0.014362272240085745}, {\"year\": 2017, \"total_results\": 55, \"query\": \"radio\", \"total_articles\": 4184, \"proportion\": 0.013145315487571701}, {\"year\": 2018, \"total_results\": 36, \"query\": \"radio\", \"total_articles\": 3506, \"proportion\": 0.01026811180832858}, {\"year\": 2019, \"total_results\": 32, \"query\": \"radio\", \"total_articles\": 3314, \"proportion\": 0.009656004828002414}, {\"year\": 1827, \"total_results\": 2, \"query\": \"wireless\", \"total_articles\": 6693, \"proportion\": 0.00029881966233378154}, {\"year\": 1828, \"total_results\": 1, \"query\": \"wireless\", \"total_articles\": 7335, \"proportion\": 0.000136332651670075}, {\"year\": 1829, \"total_results\": 1, \"query\": \"wireless\", \"total_articles\": 8935, \"proportion\": 0.0001119194180190263}, {\"year\": 1830, \"total_results\": 1, \"query\": \"wireless\", \"total_articles\": 8977, \"proportion\": 0.00011139578923916676}, {\"year\": 1834, \"total_results\": 4, \"query\": \"wireless\", \"total_articles\": 18704, \"proportion\": 0.000213857998289136}, {\"year\": 1836, \"total_results\": 1, \"query\": \"wireless\", \"total_articles\": 20553, \"proportion\": 4.8654697611054344e-05}, {\"year\": 1837, \"total_results\": 4, \"query\": \"wireless\", \"total_articles\": 21805, \"proportion\": 0.00018344416418252695}, {\"year\": 1838, \"total_results\": 1, \"query\": \"wireless\", \"total_articles\": 25911, \"proportion\": 3.859364748562387e-05}, {\"year\": 1839, \"total_results\": 1, \"query\": \"wireless\", \"total_articles\": 32876, \"proportion\": 3.0417325708723688e-05}, {\"year\": 1840, \"total_results\": 4, \"query\": \"wireless\", \"total_articles\": 42411, \"proportion\": 9.431515408738298e-05}, {\"year\": 1841, \"total_results\": 5, \"query\": \"wireless\", \"total_articles\": 46377, \"proportion\": 0.00010781206201349807}, {\"year\": 1842, \"total_results\": 1, \"query\": \"wireless\", \"total_articles\": 47934, \"proportion\": 2.08620186089206e-05}, {\"year\": 1843, \"total_results\": 1, \"query\": \"wireless\", \"total_articles\": 49913, \"proportion\": 2.0034860657544126e-05}, {\"year\": 1844, \"total_results\": 2, \"query\": \"wireless\", \"total_articles\": 54331, \"proportion\": 3.68113968084519e-05}, {\"year\": 1845, \"total_results\": 2, \"query\": \"wireless\", \"total_articles\": 63389, \"proportion\": 3.155121551057755e-05}, {\"year\": 1846, \"total_results\": 3, \"query\": \"wireless\", \"total_articles\": 62153, \"proportion\": 4.826798384631474e-05}, {\"year\": 1847, \"total_results\": 1, \"query\": \"wireless\", \"total_articles\": 62767, \"proportion\": 1.5931938757627417e-05}, {\"year\": 1848, \"total_results\": 8, \"query\": \"wireless\", \"total_articles\": 63463, \"proportion\": 0.00012605770291350865}, {\"year\": 1849, \"total_results\": 4, \"query\": \"wireless\", \"total_articles\": 62794, \"proportion\": 6.370035353696213e-05}, {\"year\": 1850, \"total_results\": 7, \"query\": \"wireless\", \"total_articles\": 81624, \"proportion\": 8.575909046358914e-05}, {\"year\": 1851, \"total_results\": 7, \"query\": \"wireless\", \"total_articles\": 96566, \"proportion\": 7.248928194188431e-05}, {\"year\": 1852, \"total_results\": 14, \"query\": \"wireless\", \"total_articles\": 79960, \"proportion\": 0.00017508754377188593}, {\"year\": 1853, \"total_results\": 31, \"query\": \"wireless\", \"total_articles\": 96033, \"proportion\": 0.00032280570220653317}, {\"year\": 1854, \"total_results\": 38, \"query\": \"wireless\", \"total_articles\": 118895, \"proportion\": 0.00031960973968627783}, {\"year\": 1855, \"total_results\": 21, \"query\": \"wireless\", \"total_articles\": 159935, \"proportion\": 0.00013130334198268047}, {\"year\": 1856, \"total_results\": 29, \"query\": \"wireless\", \"total_articles\": 168695, \"proportion\": 0.00017190788108716916}, {\"year\": 1857, \"total_results\": 13, \"query\": \"wireless\", \"total_articles\": 175982, \"proportion\": 7.387119137184484e-05}, {\"year\": 1858, \"total_results\": 23, \"query\": \"wireless\", \"total_articles\": 182050, \"proportion\": 0.00012633891787970338}, {\"year\": 1859, \"total_results\": 24, \"query\": \"wireless\", \"total_articles\": 208543, \"proportion\": 0.00011508417928197063}, {\"year\": 1860, \"total_results\": 19, \"query\": \"wireless\", \"total_articles\": 221733, \"proportion\": 8.568864354877262e-05}, {\"year\": 1861, \"total_results\": 30, \"query\": \"wireless\", \"total_articles\": 245273, \"proportion\": 0.00012231268831057639}, {\"year\": 1862, \"total_results\": 15, \"query\": \"wireless\", \"total_articles\": 252981, \"proportion\": 5.929299038267696e-05}, {\"year\": 1863, \"total_results\": 15, \"query\": \"wireless\", \"total_articles\": 260291, \"proportion\": 5.7627808875450936e-05}, {\"year\": 1864, \"total_results\": 15, \"query\": \"wireless\", \"total_articles\": 274076, \"proportion\": 5.472934514514222e-05}, {\"year\": 1865, \"total_results\": 18, \"query\": \"wireless\", \"total_articles\": 292157, \"proportion\": 6.161070931040502e-05}, {\"year\": 1866, \"total_results\": 18, \"query\": \"wireless\", \"total_articles\": 297673, \"proportion\": 6.0469038172760044e-05}, {\"year\": 1867, \"total_results\": 24, \"query\": \"wireless\", \"total_articles\": 306399, \"proportion\": 7.832923736696269e-05}, {\"year\": 1868, \"total_results\": 8, \"query\": \"wireless\", \"total_articles\": 315179, \"proportion\": 2.538240174630924e-05}, {\"year\": 1869, \"total_results\": 20, \"query\": \"wireless\", \"total_articles\": 337323, \"proportion\": 5.929035375589569e-05}, {\"year\": 1870, \"total_results\": 15, \"query\": \"wireless\", \"total_articles\": 385289, \"proportion\": 3.893181481952508e-05}, {\"year\": 1871, \"total_results\": 23, \"query\": \"wireless\", \"total_articles\": 371982, \"proportion\": 6.183094880935099e-05}, {\"year\": 1872, \"total_results\": 11, \"query\": \"wireless\", \"total_articles\": 397020, \"proportion\": 2.7706412775175055e-05}, {\"year\": 1873, \"total_results\": 32, \"query\": \"wireless\", \"total_articles\": 430691, \"proportion\": 7.429920755251444e-05}, {\"year\": 1874, \"total_results\": 32, \"query\": \"wireless\", \"total_articles\": 445748, \"proportion\": 7.178944156788141e-05}, {\"year\": 1875, \"total_results\": 34, \"query\": \"wireless\", \"total_articles\": 482469, \"proportion\": 7.047084890428193e-05}, {\"year\": 1876, \"total_results\": 40, \"query\": \"wireless\", \"total_articles\": 494060, \"proportion\": 8.096182649880581e-05}, {\"year\": 1877, \"total_results\": 35, \"query\": \"wireless\", \"total_articles\": 509249, \"proportion\": 6.872865729731428e-05}, {\"year\": 1878, \"total_results\": 41, \"query\": \"wireless\", \"total_articles\": 578926, \"proportion\": 7.082079574937038e-05}, {\"year\": 1879, \"total_results\": 42, \"query\": \"wireless\", \"total_articles\": 620648, \"proportion\": 6.767120815663629e-05}, {\"year\": 1880, \"total_results\": 35, \"query\": \"wireless\", \"total_articles\": 635861, \"proportion\": 5.504347648306784e-05}, {\"year\": 1881, \"total_results\": 56, \"query\": \"wireless\", \"total_articles\": 679154, \"proportion\": 8.245552555090599e-05}, {\"year\": 1882, \"total_results\": 64, \"query\": \"wireless\", \"total_articles\": 764271, \"proportion\": 8.373992994631485e-05}, {\"year\": 1883, \"total_results\": 129, \"query\": \"wireless\", \"total_articles\": 795970, \"proportion\": 0.0001620664095380479}, {\"year\": 1884, \"total_results\": 78, \"query\": \"wireless\", \"total_articles\": 898376, \"proportion\": 8.682333455034418e-05}, {\"year\": 1885, \"total_results\": 93, \"query\": \"wireless\", \"total_articles\": 952777, \"proportion\": 9.760940912721445e-05}, {\"year\": 1886, \"total_results\": 71, \"query\": \"wireless\", \"total_articles\": 1031192, \"proportion\": 6.885235727197262e-05}, {\"year\": 1887, \"total_results\": 84, \"query\": \"wireless\", \"total_articles\": 1070273, \"proportion\": 7.848464830935659e-05}, {\"year\": 1888, \"total_results\": 115, \"query\": \"wireless\", \"total_articles\": 1199895, \"proportion\": 9.584171948378816e-05}, {\"year\": 1889, \"total_results\": 100, \"query\": \"wireless\", \"total_articles\": 1288503, \"proportion\": 7.760944289613606e-05}, {\"year\": 1890, \"total_results\": 101, \"query\": \"wireless\", \"total_articles\": 1403249, \"proportion\": 7.197582182492203e-05}, {\"year\": 1891, \"total_results\": 80, \"query\": \"wireless\", \"total_articles\": 1473337, \"proportion\": 5.429850740190465e-05}, {\"year\": 1892, \"total_results\": 93, \"query\": \"wireless\", \"total_articles\": 1532205, \"proportion\": 6.0696838869472424e-05}, {\"year\": 1893, \"total_results\": 95, \"query\": \"wireless\", \"total_articles\": 1560089, \"proportion\": 6.089396181884495e-05}, {\"year\": 1894, \"total_results\": 130, \"query\": \"wireless\", \"total_articles\": 1620538, \"proportion\": 8.022027252677815e-05}, {\"year\": 1895, \"total_results\": 133, \"query\": \"wireless\", \"total_articles\": 1738871, \"proportion\": 7.64864098601909e-05}, {\"year\": 1896, \"total_results\": 184, \"query\": \"wireless\", \"total_articles\": 1858409, \"proportion\": 9.900942149978827e-05}, {\"year\": 1897, \"total_results\": 376, \"query\": \"wireless\", \"total_articles\": 1970237, \"proportion\": 0.00019083998524035433}, {\"year\": 1898, \"total_results\": 444, \"query\": \"wireless\", \"total_articles\": 2197298, \"proportion\": 0.00020206635604273976}, {\"year\": 1899, \"total_results\": 4751, \"query\": \"wireless\", \"total_articles\": 2378661, \"proportion\": 0.0019973422021885424}, {\"year\": 1900, \"total_results\": 2512, \"query\": \"wireless\", \"total_articles\": 2615010, \"proportion\": 0.0009606081812306645}, {\"year\": 1901, \"total_results\": 4261, \"query\": \"wireless\", \"total_articles\": 2712040, \"proportion\": 0.0015711420185542987}, {\"year\": 1902, \"total_results\": 5858, \"query\": \"wireless\", \"total_articles\": 2769996, \"proportion\": 0.002114804497912632}, {\"year\": 1903, \"total_results\": 5406, \"query\": \"wireless\", \"total_articles\": 2802628, \"proportion\": 0.0019289038716518924}, {\"year\": 1904, \"total_results\": 5283, \"query\": \"wireless\", \"total_articles\": 2963666, \"proportion\": 0.0017825895360678295}, {\"year\": 1905, \"total_results\": 4936, \"query\": \"wireless\", \"total_articles\": 3093983, \"proportion\": 0.0015953545963245436}, {\"year\": 1906, \"total_results\": 6577, \"query\": \"wireless\", \"total_articles\": 3136799, \"proportion\": 0.002096723443229866}, {\"year\": 1907, \"total_results\": 5889, \"query\": \"wireless\", \"total_articles\": 3295230, \"proportion\": 0.0017871286678016406}, {\"year\": 1908, \"total_results\": 6622, \"query\": \"wireless\", \"total_articles\": 3396203, \"proportion\": 0.0019498245540681756}, {\"year\": 1909, \"total_results\": 9956, \"query\": \"wireless\", \"total_articles\": 3453773, \"proportion\": 0.0028826445744986715}, {\"year\": 1910, \"total_results\": 19910, \"query\": \"wireless\", \"total_articles\": 3686929, \"proportion\": 0.005400158234671728}, {\"year\": 1911, \"total_results\": 29457, \"query\": \"wireless\", \"total_articles\": 3813205, \"proportion\": 0.00772499773812318}, {\"year\": 1912, \"total_results\": 40554, \"query\": \"wireless\", \"total_articles\": 3968854, \"proportion\": 0.010218062947137889}, {\"year\": 1913, \"total_results\": 40647, \"query\": \"wireless\", \"total_articles\": 4044296, \"proportion\": 0.010050451302278567}, {\"year\": 1914, \"total_results\": 55392, \"query\": \"wireless\", \"total_articles\": 4682621, \"proportion\": 0.011829272537751827}, {\"year\": 1915, \"total_results\": 42895, \"query\": \"wireless\", \"total_articles\": 4783530, \"proportion\": 0.008967227131428045}, {\"year\": 1916, \"total_results\": 41960, \"query\": \"wireless\", \"total_articles\": 4369287, \"proportion\": 0.009603397533739486}, {\"year\": 1917, \"total_results\": 72895, \"query\": \"wireless\", \"total_articles\": 4262301, \"proportion\": 0.017102264715701684}, {\"year\": 1918, \"total_results\": 53360, \"query\": \"wireless\", \"total_articles\": 4040965, \"proportion\": 0.01320476668320562}, {\"year\": 1919, \"total_results\": 31616, \"query\": \"wireless\", \"total_articles\": 3558241, \"proportion\": 0.008885289107736097}, {\"year\": 1920, \"total_results\": 25424, \"query\": \"wireless\", \"total_articles\": 3304747, \"proportion\": 0.007693175907263098}, {\"year\": 1921, \"total_results\": 23083, \"query\": \"wireless\", \"total_articles\": 3485308, \"proportion\": 0.006622944084138331}, {\"year\": 1922, \"total_results\": 29610, \"query\": \"wireless\", \"total_articles\": 3635068, \"proportion\": 0.008145652295913033}, {\"year\": 1923, \"total_results\": 38236, \"query\": \"wireless\", \"total_articles\": 3944282, \"proportion\": 0.009694033033135055}, {\"year\": 1924, \"total_results\": 62445, \"query\": \"wireless\", \"total_articles\": 4249519, \"proportion\": 0.014694604259917416}, {\"year\": 1925, \"total_results\": 68244, \"query\": \"wireless\", \"total_articles\": 4231795, \"proportion\": 0.016126490059182923}, {\"year\": 1926, \"total_results\": 71610, \"query\": \"wireless\", \"total_articles\": 4226596, \"proportion\": 0.01694271229140424}, {\"year\": 1927, \"total_results\": 89896, \"query\": \"wireless\", \"total_articles\": 4321841, \"proportion\": 0.02080039501684583}, {\"year\": 1928, \"total_results\": 93895, \"query\": \"wireless\", \"total_articles\": 4441252, \"proportion\": 0.02114156098325427}, {\"year\": 1929, \"total_results\": 89829, \"query\": \"wireless\", \"total_articles\": 4661832, \"proportion\": 0.019269034147948703}, {\"year\": 1930, \"total_results\": 85280, \"query\": \"wireless\", \"total_articles\": 4505395, \"proportion\": 0.018928418041037468}, {\"year\": 1931, \"total_results\": 71944, \"query\": \"wireless\", \"total_articles\": 4119730, \"proportion\": 0.017463280360606157}, {\"year\": 1932, \"total_results\": 72187, \"query\": \"wireless\", \"total_articles\": 4134954, \"proportion\": 0.017457751646088444}, {\"year\": 1933, \"total_results\": 77912, \"query\": \"wireless\", \"total_articles\": 4320822, \"proportion\": 0.018031754143077405}, {\"year\": 1934, \"total_results\": 83917, \"query\": \"wireless\", \"total_articles\": 4457622, \"proportion\": 0.01882550830913882}, {\"year\": 1935, \"total_results\": 83347, \"query\": \"wireless\", \"total_articles\": 4552116, \"proportion\": 0.018309507051226286}, {\"year\": 1936, \"total_results\": 82896, \"query\": \"wireless\", \"total_articles\": 4632922, \"proportion\": 0.017892811491322325}, {\"year\": 1937, \"total_results\": 85273, \"query\": \"wireless\", \"total_articles\": 4618274, \"proportion\": 0.018464257426042716}, {\"year\": 1938, \"total_results\": 74395, \"query\": \"wireless\", \"total_articles\": 4616705, \"proportion\": 0.016114306632110997}, {\"year\": 1939, \"total_results\": 70200, \"query\": \"wireless\", \"total_articles\": 4387229, \"proportion\": 0.016000988323153408}, {\"year\": 1940, \"total_results\": 63121, \"query\": \"wireless\", \"total_articles\": 3783203, \"proportion\": 0.016684539529071}, {\"year\": 1941, \"total_results\": 53120, \"query\": \"wireless\", \"total_articles\": 3598964, \"proportion\": 0.014759803098891792}, {\"year\": 1942, \"total_results\": 38768, \"query\": \"wireless\", \"total_articles\": 2935253, \"proportion\": 0.013207720084094966}, {\"year\": 1943, \"total_results\": 36683, \"query\": \"wireless\", \"total_articles\": 2586289, \"proportion\": 0.014183643049945308}, {\"year\": 1944, \"total_results\": 35627, \"query\": \"wireless\", \"total_articles\": 2635712, \"proportion\": 0.013517030692275939}, {\"year\": 1945, \"total_results\": 34671, \"query\": \"wireless\", \"total_articles\": 2769932, \"proportion\": 0.012516913772612468}, {\"year\": 1946, \"total_results\": 37364, \"query\": \"wireless\", \"total_articles\": 3323157, \"proportion\": 0.01124352535856717}, {\"year\": 1947, \"total_results\": 35754, \"query\": \"wireless\", \"total_articles\": 3441909, \"proportion\": 0.01038784000390481}, {\"year\": 1948, \"total_results\": 28411, \"query\": \"wireless\", \"total_articles\": 3101920, \"proportion\": 0.009159165935936452}, {\"year\": 1949, \"total_results\": 34286, \"query\": \"wireless\", \"total_articles\": 3524852, \"proportion\": 0.00972693321591942}, {\"year\": 1950, \"total_results\": 34110, \"query\": \"wireless\", \"total_articles\": 3554270, \"proportion\": 0.009596907381825242}, {\"year\": 1951, \"total_results\": 29241, \"query\": \"wireless\", \"total_articles\": 3281008, \"proportion\": 0.008912200153123674}, {\"year\": 1952, \"total_results\": 26956, \"query\": \"wireless\", \"total_articles\": 3375009, \"proportion\": 0.007986941664451857}, {\"year\": 1953, \"total_results\": 27051, \"query\": \"wireless\", \"total_articles\": 3592915, \"proportion\": 0.007528984125702946}, {\"year\": 1954, \"total_results\": 27044, \"query\": \"wireless\", \"total_articles\": 3541607, \"proportion\": 0.007636081586692143}, {\"year\": 1955, \"total_results\": 2050, \"query\": \"wireless\", \"total_articles\": 404423, \"proportion\": 0.005068950084441291}, {\"year\": 1956, \"total_results\": 1316, \"query\": \"wireless\", \"total_articles\": 229324, \"proportion\": 0.005738605640927247}, {\"year\": 1957, \"total_results\": 658, \"query\": \"wireless\", \"total_articles\": 153132, \"proportion\": 0.004296946425306271}, {\"year\": 1958, \"total_results\": 713, \"query\": \"wireless\", \"total_articles\": 153484, \"proportion\": 0.004645435354825258}, {\"year\": 1959, \"total_results\": 640, \"query\": \"wireless\", \"total_articles\": 153425, \"proportion\": 0.004171419260224866}, {\"year\": 1960, \"total_results\": 577, \"query\": \"wireless\", \"total_articles\": 154646, \"proportion\": 0.0037311020006983693}, {\"year\": 1961, \"total_results\": 473, \"query\": \"wireless\", \"total_articles\": 151751, \"proportion\": 0.003116948158496484}, {\"year\": 1962, \"total_results\": 471, \"query\": \"wireless\", \"total_articles\": 156236, \"proportion\": 0.003014670114442254}, {\"year\": 1963, \"total_results\": 383, \"query\": \"wireless\", \"total_articles\": 167154, \"proportion\": 0.0022913002381037845}, {\"year\": 1964, \"total_results\": 452, \"query\": \"wireless\", \"total_articles\": 167801, \"proportion\": 0.0026936669030577886}, {\"year\": 1965, \"total_results\": 515, \"query\": \"wireless\", \"total_articles\": 177093, \"proportion\": 0.002908076547350827}, {\"year\": 1966, \"total_results\": 393, \"query\": \"wireless\", \"total_articles\": 160897, \"proportion\": 0.0024425564180811325}, {\"year\": 1967, \"total_results\": 343, \"query\": \"wireless\", \"total_articles\": 155832, \"proportion\": 0.002201088351558088}, {\"year\": 1968, \"total_results\": 236, \"query\": \"wireless\", \"total_articles\": 157330, \"proportion\": 0.001500031780334329}, {\"year\": 1969, \"total_results\": 228, \"query\": \"wireless\", \"total_articles\": 179517, \"proportion\": 0.0012700747004461973}, {\"year\": 1970, \"total_results\": 258, \"query\": \"wireless\", \"total_articles\": 193249, \"proportion\": 0.0013350651232347903}, {\"year\": 1971, \"total_results\": 259, \"query\": \"wireless\", \"total_articles\": 191379, \"proportion\": 0.0013533355279314867}, {\"year\": 1972, \"total_results\": 264, \"query\": \"wireless\", \"total_articles\": 179093, \"proportion\": 0.0014740944648869582}, {\"year\": 1973, \"total_results\": 272, \"query\": \"wireless\", \"total_articles\": 180806, \"proportion\": 0.0015043748548167648}, {\"year\": 1974, \"total_results\": 225, \"query\": \"wireless\", \"total_articles\": 179385, \"proportion\": 0.0012542854753741953}, {\"year\": 1975, \"total_results\": 203, \"query\": \"wireless\", \"total_articles\": 168395, \"proportion\": 0.0012054989756227917}, {\"year\": 1976, \"total_results\": 222, \"query\": \"wireless\", \"total_articles\": 169153, \"proportion\": 0.0013124212990606138}, {\"year\": 1977, \"total_results\": 167, \"query\": \"wireless\", \"total_articles\": 170625, \"proportion\": 0.0009787545787545788}, {\"year\": 1978, \"total_results\": 154, \"query\": \"wireless\", \"total_articles\": 175661, \"proportion\": 0.000876688621834101}, {\"year\": 1979, \"total_results\": 158, \"query\": \"wireless\", \"total_articles\": 184844, \"proportion\": 0.0008547748371599836}, {\"year\": 1980, \"total_results\": 135, \"query\": \"wireless\", \"total_articles\": 185923, \"proportion\": 0.000726107044314044}, {\"year\": 1981, \"total_results\": 164, \"query\": \"wireless\", \"total_articles\": 164070, \"proportion\": 0.0009995733528372036}, {\"year\": 1982, \"total_results\": 182, \"query\": \"wireless\", \"total_articles\": 153396, \"proportion\": 0.0011864716159482645}, {\"year\": 1983, \"total_results\": 139, \"query\": \"wireless\", \"total_articles\": 141802, \"proportion\": 0.0009802400530316922}, {\"year\": 1984, \"total_results\": 172, \"query\": \"wireless\", \"total_articles\": 146493, \"proportion\": 0.001174117534626228}, {\"year\": 1985, \"total_results\": 182, \"query\": \"wireless\", \"total_articles\": 155564, \"proportion\": 0.001169936489162017}, {\"year\": 1986, \"total_results\": 262, \"query\": \"wireless\", \"total_articles\": 152788, \"proportion\": 0.0017147943555776632}, {\"year\": 1987, \"total_results\": 330, \"query\": \"wireless\", \"total_articles\": 133503, \"proportion\": 0.0024718545650659536}, {\"year\": 1988, \"total_results\": 134, \"query\": \"wireless\", \"total_articles\": 143213, \"proportion\": 0.0009356692479034725}, {\"year\": 1989, \"total_results\": 101, \"query\": \"wireless\", \"total_articles\": 146122, \"proportion\": 0.0006912032411272773}, {\"year\": 1990, \"total_results\": 104, \"query\": \"wireless\", \"total_articles\": 138585, \"proportion\": 0.0007504419670238482}, {\"year\": 1991, \"total_results\": 107, \"query\": \"wireless\", \"total_articles\": 139257, \"proportion\": 0.0007683635293019381}, {\"year\": 1992, \"total_results\": 175, \"query\": \"wireless\", \"total_articles\": 159414, \"proportion\": 0.001097770584766708}, {\"year\": 1993, \"total_results\": 148, \"query\": \"wireless\", \"total_articles\": 160603, \"proportion\": 0.0009215269951370771}, {\"year\": 1994, \"total_results\": 124, \"query\": \"wireless\", \"total_articles\": 155783, \"proportion\": 0.0007959790221012562}, {\"year\": 1995, \"total_results\": 208, \"query\": \"wireless\", \"total_articles\": 154299, \"proportion\": 0.001348032067608993}, {\"year\": 1996, \"total_results\": 41, \"query\": \"wireless\", \"total_articles\": 69400, \"proportion\": 0.0005907780979827089}, {\"year\": 1997, \"total_results\": 38, \"query\": \"wireless\", \"total_articles\": 73218, \"proportion\": 0.0005189980605861947}, {\"year\": 1998, \"total_results\": 50, \"query\": \"wireless\", \"total_articles\": 80878, \"proportion\": 0.000618215089393902}, {\"year\": 1999, \"total_results\": 62, \"query\": \"wireless\", \"total_articles\": 90368, \"proportion\": 0.0006860835694050991}, {\"year\": 2000, \"total_results\": 52, \"query\": \"wireless\", \"total_articles\": 68823, \"proportion\": 0.0007555613675660753}, {\"year\": 2001, \"total_results\": 73, \"query\": \"wireless\", \"total_articles\": 67114, \"proportion\": 0.001087701522782132}, {\"year\": 2002, \"total_results\": 53, \"query\": \"wireless\", \"total_articles\": 68169, \"proportion\": 0.0007774794994792354}, {\"year\": 2003, \"total_results\": 29, \"query\": \"wireless\", \"total_articles\": 33361, \"proportion\": 0.0008692784988459578}, {\"year\": 2004, \"total_results\": 34, \"query\": \"wireless\", \"total_articles\": 30793, \"proportion\": 0.0011041470464066509}, {\"year\": 2005, \"total_results\": 46, \"query\": \"wireless\", \"total_articles\": 26677, \"proportion\": 0.0017243318214192}, {\"year\": 2006, \"total_results\": 49, \"query\": \"wireless\", \"total_articles\": 26179, \"proportion\": 0.0018717292486344016}, {\"year\": 2007, \"total_results\": 91, \"query\": \"wireless\", \"total_articles\": 27726, \"proportion\": 0.003282117867705403}, {\"year\": 2008, \"total_results\": 118, \"query\": \"wireless\", \"total_articles\": 26158, \"proportion\": 0.004511048245278691}, {\"year\": 2009, \"total_results\": 73, \"query\": \"wireless\", \"total_articles\": 14340, \"proportion\": 0.0050906555090655505}, {\"year\": 2010, \"total_results\": 110, \"query\": \"wireless\", \"total_articles\": 14750, \"proportion\": 0.007457627118644068}, {\"year\": 2011, \"total_results\": 102, \"query\": \"wireless\", \"total_articles\": 15228, \"proportion\": 0.006698187549251379}, {\"year\": 2012, \"total_results\": 64, \"query\": \"wireless\", \"total_articles\": 8112, \"proportion\": 0.007889546351084813}, {\"year\": 2013, \"total_results\": 65, \"query\": \"wireless\", \"total_articles\": 8358, \"proportion\": 0.007776980138789184}, {\"year\": 2014, \"total_results\": 34, \"query\": \"wireless\", \"total_articles\": 8077, \"proportion\": 0.004209483719202674}, {\"year\": 2015, \"total_results\": 21, \"query\": \"wireless\", \"total_articles\": 8255, \"proportion\": 0.0025439127801332524}, {\"year\": 2016, \"total_results\": 10, \"query\": \"wireless\", \"total_articles\": 4665, \"proportion\": 0.0021436227224008574}, {\"year\": 2017, \"total_results\": 13, \"query\": \"wireless\", \"total_articles\": 4184, \"proportion\": 0.003107074569789675}, {\"year\": 2018, \"total_results\": 10, \"query\": \"wireless\", \"total_articles\": 3506, \"proportion\": 0.002852253280091272}, {\"year\": 2019, \"total_results\": 4, \"query\": \"wireless\", \"total_articles\": 3314, \"proportion\": 0.0012070006035003018}]}}, {\"mode\": \"vega-lite\"});\n",
       "</script>"
      ],
      "text/plain": [
       "alt.VConcatChart(...)"
      ]
     },
     "execution_count": 21,
     "metadata": {},
     "output_type": "execute_result"
    }
   ],
   "source": [
    "# Chart total results\n",
    "chart3 = make_chart_totals(df_queries_merged, \"query\", \"Search query\")\n",
    "\n",
    "# Chart proportions\n",
    "chart4 = make_chart_proportions(df_queries_merged, \"query\", \"Search query\")\n",
    "\n",
    "# Shorthand way of concatenating the two charts (note there's only one legend)\n",
    "chart3 & chart4"
   ]
  },
  {
   "cell_type": "markdown",
   "metadata": {},
   "source": [
    "Once again, it's interesting to compare the total results with the proportions. In this case, both point to something interesting happening around 1930. To explore this further we could use the [Trove Newspaper Harvester](https://glam-workbench.github.io/trove-harvester/) to assemble a dataset of articles from 1920 to 1940 for detailed analysis. You might also notice a little peak for 'wireless' around 2011 – new uses for old words!"
   ]
  },
  {
   "cell_type": "markdown",
   "metadata": {},
   "source": [
    "## 6. Comparing a search term across different states\n",
    "\n",
    "Another way of building comparisons over time is to use some of the other facets available in Trove to slice up our search results. For example, the `state` facet tells us the number of results per state. We might be able to use this to track differences in language, or regional interest in particular events.\n",
    "\n",
    "Because we're combining three facets, `state` and `decade`/`year`, we need to think a bit about how we assemble the data. In this case we're only using one search query, but we're repeating this query across a number of different states. We're then getting the data for decade and year for each of the states.\n",
    "\n",
    "The possible values for the `state` facet are:\n",
    "\n",
    "* ACT\n",
    "* New South Wales\n",
    "* Northern Territory\n",
    "* Queensland\n",
    "* South Australia\n",
    "* Tasmania\n",
    "* Victoria\n",
    "* Western Australia\n",
    "* National\n",
    "* International\n",
    "\n",
    "There's some other ways of exploring and visualising the `state` facet in [Visualise the total number of newspaper articles in Trove by year and state](visualise-total-newspaper-articles-by-state-year.ipynb).\n",
    "\n",
    "Let's start by defining a list of states we want to compare...\n"
   ]
  },
  {
   "cell_type": "code",
   "execution_count": 22,
   "metadata": {},
   "outputs": [],
   "source": [
    "# A list of state values that we'll supply to the state facet\n",
    "states = [\"New South Wales\", \"Victoria\"]"
   ]
  },
  {
   "cell_type": "markdown",
   "metadata": {},
   "source": [
    "...and our search query."
   ]
  },
  {
   "cell_type": "code",
   "execution_count": 23,
   "metadata": {},
   "outputs": [],
   "source": [
    "# Remember this time we're comparing a single search query across multiple states\n",
    "query = \"Chinese\""
   ]
  },
  {
   "cell_type": "markdown",
   "metadata": {},
   "source": [
    "As before, we'll display both the raw number of results, and the proportion this represents of the total number of articles. But what is the total number of articles in this case? While we could generate a proportion using the totals for each year across all of Trove's newspapers, it seems more useful to use the total number of articles for each state. Otherwise, states with more newspapers will dominate. This means we'll have to make some additional calls to the API to get the state totals as well as the search results.\n",
    "\n",
    "Let's create a couple of new functions. The main function `get_state_facets()` loops through the states in our list, gathering the year by year results. It's similar to the way we handled multiple queries, but this time there's an additional step. Once we have the search results, we use `get_state_totals()` to get the total number of articles published in that state for each year. Then we merge the search results and total articles as we did before."
   ]
  },
  {
   "cell_type": "code",
   "execution_count": 24,
   "metadata": {},
   "outputs": [],
   "source": [
    "def get_state_totals(state):\n",
    "    \"\"\"\n",
    "    Get the total number of articles for each year for the specified state.\n",
    "    Parameters:\n",
    "        state\n",
    "    Returns:\n",
    "        A list of dictionaries containing 'year', 'total_results'.\n",
    "    \"\"\"\n",
    "    these_params = params.copy()\n",
    "\n",
    "    # Set the q parameter to a single space to get everything\n",
    "    these_params.pop(\"q\", None)\n",
    "\n",
    "    # Set the state facet to the given state value\n",
    "    these_params[\"l-state\"] = state\n",
    "\n",
    "    # Get the year by year data\n",
    "    facet_data = get_facet_data(these_params)\n",
    "    return facet_data\n",
    "\n",
    "\n",
    "def get_state_facets(params, states, query):\n",
    "    \"\"\"\n",
    "    Loop through the supplied list of states searching for the specified query and getting the year by year results.\n",
    "    Merges the search results with the total number of articles for that state.\n",
    "    Parameters:\n",
    "        params - basic parameters to send to the API\n",
    "        states - a list of states to apply using the state facet\n",
    "        query - the search query to use\n",
    "    Returns:\n",
    "        A dataframe\n",
    "    \"\"\"\n",
    "    dfs = []\n",
    "    these_params = params.copy()\n",
    "\n",
    "    # Set the q parameter to the supplied query\n",
    "    these_params[\"q\"] = query\n",
    "\n",
    "    # Loop through the supplied list of states\n",
    "    for state in states:\n",
    "\n",
    "        # Set the state facet to the current state value\n",
    "        these_params[\"l-state\"] = state\n",
    "\n",
    "        # Get year facets for this state & query\n",
    "        facet_data = get_facet_data(these_params)\n",
    "\n",
    "        # Convert the results to a dataframe\n",
    "        df = pd.DataFrame(facet_data)\n",
    "\n",
    "        # Get the total number of articles per year for this state\n",
    "        total_data = get_state_totals(state)\n",
    "\n",
    "        # Convert the totals to a dataframe\n",
    "        df_total = pd.DataFrame(total_data)\n",
    "\n",
    "        # Merge the two dataframes\n",
    "        df_merged = merge_df_with_total(df, df_total)\n",
    "\n",
    "        # Add a state column to the dataframe and set its value to the current state\n",
    "        df_merged[\"state\"] = state\n",
    "\n",
    "        # Add this df to the list of dfs\n",
    "        dfs.append(df_merged)\n",
    "\n",
    "    # Concatenate all the dataframes and return the result\n",
    "    return pd.concat(dfs)"
   ]
  },
  {
   "cell_type": "markdown",
   "metadata": {},
   "source": [
    "Let's get the data!"
   ]
  },
  {
   "cell_type": "code",
   "execution_count": 25,
   "metadata": {},
   "outputs": [],
   "source": [
    "df_states = get_state_facets(params, states, query)"
   ]
  },
  {
   "cell_type": "markdown",
   "metadata": {},
   "source": [
    "And now chart the results, specifying `state` as the column to use for our category."
   ]
  },
  {
   "cell_type": "code",
   "execution_count": 26,
   "metadata": {},
   "outputs": [
    {
     "data": {
      "text/html": [
       "\n",
       "<style>\n",
       "  #altair-viz-2c2245d0ffb94e56bacb32fe26c19e74.vega-embed {\n",
       "    width: 100%;\n",
       "    display: flex;\n",
       "  }\n",
       "\n",
       "  #altair-viz-2c2245d0ffb94e56bacb32fe26c19e74.vega-embed details,\n",
       "  #altair-viz-2c2245d0ffb94e56bacb32fe26c19e74.vega-embed details summary {\n",
       "    position: relative;\n",
       "  }\n",
       "</style>\n",
       "<div id=\"altair-viz-2c2245d0ffb94e56bacb32fe26c19e74\"></div>\n",
       "<script type=\"text/javascript\">\n",
       "  var VEGA_DEBUG = (typeof VEGA_DEBUG == \"undefined\") ? {} : VEGA_DEBUG;\n",
       "  (function(spec, embedOpt){\n",
       "    let outputDiv = document.currentScript.previousElementSibling;\n",
       "    if (outputDiv.id !== \"altair-viz-2c2245d0ffb94e56bacb32fe26c19e74\") {\n",
       "      outputDiv = document.getElementById(\"altair-viz-2c2245d0ffb94e56bacb32fe26c19e74\");\n",
       "    }\n",
       "    const paths = {\n",
       "      \"vega\": \"https://cdn.jsdelivr.net/npm/vega@5?noext\",\n",
       "      \"vega-lib\": \"https://cdn.jsdelivr.net/npm/vega-lib?noext\",\n",
       "      \"vega-lite\": \"https://cdn.jsdelivr.net/npm/vega-lite@5.20.1?noext\",\n",
       "      \"vega-embed\": \"https://cdn.jsdelivr.net/npm/vega-embed@6?noext\",\n",
       "    };\n",
       "\n",
       "    function maybeLoadScript(lib, version) {\n",
       "      var key = `${lib.replace(\"-\", \"\")}_version`;\n",
       "      return (VEGA_DEBUG[key] == version) ?\n",
       "        Promise.resolve(paths[lib]) :\n",
       "        new Promise(function(resolve, reject) {\n",
       "          var s = document.createElement('script');\n",
       "          document.getElementsByTagName(\"head\")[0].appendChild(s);\n",
       "          s.async = true;\n",
       "          s.onload = () => {\n",
       "            VEGA_DEBUG[key] = version;\n",
       "            return resolve(paths[lib]);\n",
       "          };\n",
       "          s.onerror = () => reject(`Error loading script: ${paths[lib]}`);\n",
       "          s.src = paths[lib];\n",
       "        });\n",
       "    }\n",
       "\n",
       "    function showError(err) {\n",
       "      outputDiv.innerHTML = `<div class=\"error\" style=\"color:red;\">${err}</div>`;\n",
       "      throw err;\n",
       "    }\n",
       "\n",
       "    function displayChart(vegaEmbed) {\n",
       "      vegaEmbed(outputDiv, spec, embedOpt)\n",
       "        .catch(err => showError(`Javascript Error: ${err.message}<br>This usually means there's a typo in your chart specification. See the javascript console for the full traceback.`));\n",
       "    }\n",
       "\n",
       "    if(typeof define === \"function\" && define.amd) {\n",
       "      requirejs.config({paths});\n",
       "      require([\"vega-embed\"], displayChart, err => showError(`Error loading script: ${err.message}`));\n",
       "    } else {\n",
       "      maybeLoadScript(\"vega\", \"5\")\n",
       "        .then(() => maybeLoadScript(\"vega-lite\", \"5.20.1\"))\n",
       "        .then(() => maybeLoadScript(\"vega-embed\", \"6\"))\n",
       "        .catch(showError)\n",
       "        .then(() => displayChart(vegaEmbed));\n",
       "    }\n",
       "  })({\"config\": {\"view\": {\"continuousWidth\": 300, \"continuousHeight\": 300}}, \"vconcat\": [{\"mark\": {\"type\": \"line\", \"point\": true}, \"encoding\": {\"color\": {\"field\": \"state\", \"legend\": {\"title\": \"State\"}, \"type\": \"nominal\"}, \"tooltip\": [{\"field\": \"state\", \"title\": \"State\", \"type\": \"nominal\"}, {\"field\": \"year\", \"title\": \"Year\", \"type\": \"quantitative\"}, {\"field\": \"total_results\", \"format\": \",\", \"title\": \"Articles\", \"type\": \"quantitative\"}], \"x\": {\"axis\": {\"format\": \"c\", \"title\": \"Year\"}, \"field\": \"year\", \"type\": \"quantitative\"}, \"y\": {\"axis\": {\"format\": \",d\", \"title\": \"Number of articles\"}, \"field\": \"total_results\", \"type\": \"quantitative\"}}, \"height\": 250, \"width\": 700}, {\"mark\": {\"type\": \"line\", \"point\": true}, \"encoding\": {\"color\": {\"field\": \"state\", \"legend\": {\"title\": \"State\"}, \"type\": \"nominal\"}, \"tooltip\": [{\"field\": \"state\", \"title\": \"State\", \"type\": \"nominal\"}, {\"field\": \"year\", \"title\": \"Year\", \"type\": \"quantitative\"}, {\"field\": \"proportion\", \"format\": \"%\", \"title\": \"Proportion\", \"type\": \"quantitative\"}], \"x\": {\"axis\": {\"format\": \"c\", \"title\": \"Year\"}, \"field\": \"year\", \"type\": \"quantitative\"}, \"y\": {\"axis\": {\"format\": \"%\", \"title\": \"Proportion of articles\"}, \"field\": \"proportion\", \"stack\": null, \"type\": \"quantitative\"}}, \"height\": 250, \"width\": 700}], \"data\": {\"name\": \"data-40189f5a2eb708348f33a5ce42304e93\"}, \"$schema\": \"https://vega.github.io/schema/vega-lite/v5.20.1.json\", \"datasets\": {\"data-40189f5a2eb708348f33a5ce42304e93\": [{\"year\": 1803, \"total_results\": 8, \"total_articles\": 526, \"proportion\": 0.015209125475285171, \"state\": \"New South Wales\"}, {\"year\": 1804, \"total_results\": 1, \"total_articles\": 619, \"proportion\": 0.0016155088852988692, \"state\": \"New South Wales\"}, {\"year\": 1805, \"total_results\": 4, \"total_articles\": 430, \"proportion\": 0.009302325581395349, \"state\": \"New South Wales\"}, {\"year\": 1806, \"total_results\": 5, \"total_articles\": 367, \"proportion\": 0.013623978201634877, \"state\": \"New South Wales\"}, {\"year\": 1807, \"total_results\": 2, \"total_articles\": 134, \"proportion\": 0.014925373134328358, \"state\": \"New South Wales\"}, {\"year\": 1808, \"total_results\": 3, \"total_articles\": 155, \"proportion\": 0.01935483870967742, \"state\": \"New South Wales\"}, {\"year\": 1809, \"total_results\": 4, \"total_articles\": 237, \"proportion\": 0.016877637130801686, \"state\": \"New South Wales\"}, {\"year\": 1810, \"total_results\": 1, \"total_articles\": 269, \"proportion\": 0.0037174721189591076, \"state\": \"New South Wales\"}, {\"year\": 1811, \"total_results\": 2, \"total_articles\": 228, \"proportion\": 0.008771929824561403, \"state\": \"New South Wales\"}, {\"year\": 1812, \"total_results\": 4, \"total_articles\": 208, \"proportion\": 0.019230769230769232, \"state\": \"New South Wales\"}, {\"year\": 1813, \"total_results\": 6, \"total_articles\": 234, \"proportion\": 0.02564102564102564, \"state\": \"New South Wales\"}, {\"year\": 1814, \"total_results\": 12, \"total_articles\": 201, \"proportion\": 0.05970149253731343, \"state\": \"New South Wales\"}, {\"year\": 1815, \"total_results\": 5, \"total_articles\": 226, \"proportion\": 0.022123893805309734, \"state\": \"New South Wales\"}, {\"year\": 1816, \"total_results\": 5, \"total_articles\": 485, \"proportion\": 0.010309278350515464, \"state\": \"New South Wales\"}, {\"year\": 1817, \"total_results\": 10, \"total_articles\": 685, \"proportion\": 0.014598540145985401, \"state\": \"New South Wales\"}, {\"year\": 1818, \"total_results\": 9, \"total_articles\": 789, \"proportion\": 0.011406844106463879, \"state\": \"New South Wales\"}, {\"year\": 1819, \"total_results\": 10, \"total_articles\": 717, \"proportion\": 0.01394700139470014, \"state\": \"New South Wales\"}, {\"year\": 1820, \"total_results\": 6, \"total_articles\": 815, \"proportion\": 0.007361963190184049, \"state\": \"New South Wales\"}, {\"year\": 1821, \"total_results\": 7, \"total_articles\": 739, \"proportion\": 0.009472259810554804, \"state\": \"New South Wales\"}, {\"year\": 1822, \"total_results\": 6, \"total_articles\": 821, \"proportion\": 0.007308160779537149, \"state\": \"New South Wales\"}, {\"year\": 1823, \"total_results\": 9, \"total_articles\": 957, \"proportion\": 0.009404388714733543, \"state\": \"New South Wales\"}, {\"year\": 1824, \"total_results\": 20, \"total_articles\": 1212, \"proportion\": 0.0165016501650165, \"state\": \"New South Wales\"}, {\"year\": 1825, \"total_results\": 25, \"total_articles\": 2157, \"proportion\": 0.011590171534538712, \"state\": \"New South Wales\"}, {\"year\": 1826, \"total_results\": 113, \"total_articles\": 3863, \"proportion\": 0.029251876779704894, \"state\": \"New South Wales\"}, {\"year\": 1827, \"total_results\": 160, \"total_articles\": 5281, \"proportion\": 0.030297292179511458, \"state\": \"New South Wales\"}, {\"year\": 1828, \"total_results\": 202, \"total_articles\": 5055, \"proportion\": 0.03996043521266073, \"state\": \"New South Wales\"}, {\"year\": 1829, \"total_results\": 179, \"total_articles\": 6505, \"proportion\": 0.02751729438893159, \"state\": \"New South Wales\"}, {\"year\": 1830, \"total_results\": 157, \"total_articles\": 5706, \"proportion\": 0.027514896600070102, \"state\": \"New South Wales\"}, {\"year\": 1831, \"total_results\": 159, \"total_articles\": 6686, \"proportion\": 0.023781034998504338, \"state\": \"New South Wales\"}, {\"year\": 1832, \"total_results\": 233, \"total_articles\": 9494, \"proportion\": 0.024541815883716032, \"state\": \"New South Wales\"}, {\"year\": 1833, \"total_results\": 253, \"total_articles\": 8999, \"proportion\": 0.028114234914990554, \"state\": \"New South Wales\"}, {\"year\": 1834, \"total_results\": 308, \"total_articles\": 11211, \"proportion\": 0.027473017572027473, \"state\": \"New South Wales\"}, {\"year\": 1835, \"total_results\": 341, \"total_articles\": 13117, \"proportion\": 0.025996798048334224, \"state\": \"New South Wales\"}, {\"year\": 1836, \"total_results\": 318, \"total_articles\": 14456, \"proportion\": 0.021997786386275593, \"state\": \"New South Wales\"}, {\"year\": 1837, \"total_results\": 444, \"total_articles\": 15094, \"proportion\": 0.029415661852391677, \"state\": \"New South Wales\"}, {\"year\": 1838, \"total_results\": 400, \"total_articles\": 16301, \"proportion\": 0.024538371879025828, \"state\": \"New South Wales\"}, {\"year\": 1839, \"total_results\": 574, \"total_articles\": 20008, \"proportion\": 0.028688524590163935, \"state\": \"New South Wales\"}, {\"year\": 1840, \"total_results\": 861, \"total_articles\": 23187, \"proportion\": 0.03713287618061845, \"state\": \"New South Wales\"}, {\"year\": 1841, \"total_results\": 930, \"total_articles\": 24144, \"proportion\": 0.038518886679920476, \"state\": \"New South Wales\"}, {\"year\": 1842, \"total_results\": 922, \"total_articles\": 22953, \"proportion\": 0.040169041083954166, \"state\": \"New South Wales\"}, {\"year\": 1843, \"total_results\": 853, \"total_articles\": 21118, \"proportion\": 0.04039208258357799, \"state\": \"New South Wales\"}, {\"year\": 1844, \"total_results\": 802, \"total_articles\": 25918, \"proportion\": 0.0309437456593873, \"state\": \"New South Wales\"}, {\"year\": 1845, \"total_results\": 723, \"total_articles\": 24629, \"proportion\": 0.0293556376629177, \"state\": \"New South Wales\"}, {\"year\": 1846, \"total_results\": 663, \"total_articles\": 21481, \"proportion\": 0.030864484893626927, \"state\": \"New South Wales\"}, {\"year\": 1847, \"total_results\": 786, \"total_articles\": 22784, \"proportion\": 0.03449789325842697, \"state\": \"New South Wales\"}, {\"year\": 1848, \"total_results\": 778, \"total_articles\": 22885, \"proportion\": 0.033996067292986674, \"state\": \"New South Wales\"}, {\"year\": 1849, \"total_results\": 493, \"total_articles\": 17807, \"proportion\": 0.027685741562306958, \"state\": \"New South Wales\"}, {\"year\": 1850, \"total_results\": 579, \"total_articles\": 20023, \"proportion\": 0.028916745742396246, \"state\": \"New South Wales\"}, {\"year\": 1851, \"total_results\": 724, \"total_articles\": 31646, \"proportion\": 0.02287808885799153, \"state\": \"New South Wales\"}, {\"year\": 1852, \"total_results\": 1192, \"total_articles\": 33855, \"proportion\": 0.035208979471274555, \"state\": \"New South Wales\"}, {\"year\": 1853, \"total_results\": 1356, \"total_articles\": 34184, \"proportion\": 0.03966768078633279, \"state\": \"New South Wales\"}, {\"year\": 1854, \"total_results\": 1727, \"total_articles\": 38839, \"proportion\": 0.044465614459692576, \"state\": \"New South Wales\"}, {\"year\": 1855, \"total_results\": 1545, \"total_articles\": 46292, \"proportion\": 0.033375097209020994, \"state\": \"New South Wales\"}, {\"year\": 1856, \"total_results\": 1575, \"total_articles\": 54209, \"proportion\": 0.02905421608957922, \"state\": \"New South Wales\"}, {\"year\": 1857, \"total_results\": 2142, \"total_articles\": 57032, \"proportion\": 0.03755786225277037, \"state\": \"New South Wales\"}, {\"year\": 1858, \"total_results\": 2864, \"total_articles\": 52830, \"proportion\": 0.05421162218436494, \"state\": \"New South Wales\"}, {\"year\": 1859, \"total_results\": 2445, \"total_articles\": 56416, \"proportion\": 0.04333876914350539, \"state\": \"New South Wales\"}, {\"year\": 1860, \"total_results\": 3305, \"total_articles\": 71688, \"proportion\": 0.046102555518357326, \"state\": \"New South Wales\"}, {\"year\": 1861, \"total_results\": 5758, \"total_articles\": 74315, \"proportion\": 0.0774809930700397, \"state\": \"New South Wales\"}, {\"year\": 1862, \"total_results\": 3150, \"total_articles\": 71716, \"proportion\": 0.043923252830609626, \"state\": \"New South Wales\"}, {\"year\": 1863, \"total_results\": 2434, \"total_articles\": 68897, \"proportion\": 0.0353280984658258, \"state\": \"New South Wales\"}, {\"year\": 1864, \"total_results\": 2279, \"total_articles\": 74669, \"proportion\": 0.030521367635832807, \"state\": \"New South Wales\"}, {\"year\": 1865, \"total_results\": 2499, \"total_articles\": 78146, \"proportion\": 0.031978604151204154, \"state\": \"New South Wales\"}, {\"year\": 1866, \"total_results\": 2569, \"total_articles\": 79198, \"proportion\": 0.032437687820399505, \"state\": \"New South Wales\"}, {\"year\": 1867, \"total_results\": 2440, \"total_articles\": 77368, \"proportion\": 0.031537586599110747, \"state\": \"New South Wales\"}, {\"year\": 1868, \"total_results\": 2266, \"total_articles\": 78746, \"proportion\": 0.028776064815990654, \"state\": \"New South Wales\"}, {\"year\": 1869, \"total_results\": 2188, \"total_articles\": 85400, \"proportion\": 0.025620608899297424, \"state\": \"New South Wales\"}, {\"year\": 1870, \"total_results\": 2806, \"total_articles\": 104452, \"proportion\": 0.026864014092597557, \"state\": \"New South Wales\"}, {\"year\": 1871, \"total_results\": 3166, \"total_articles\": 104150, \"proportion\": 0.03039846375420067, \"state\": \"New South Wales\"}, {\"year\": 1872, \"total_results\": 3083, \"total_articles\": 117822, \"proportion\": 0.026166590280253265, \"state\": \"New South Wales\"}, {\"year\": 1873, \"total_results\": 3204, \"total_articles\": 117333, \"proportion\": 0.027306895758226587, \"state\": \"New South Wales\"}, {\"year\": 1874, \"total_results\": 3812, \"total_articles\": 128268, \"proportion\": 0.029719025789752704, \"state\": \"New South Wales\"}, {\"year\": 1875, \"total_results\": 5318, \"total_articles\": 133802, \"proportion\": 0.03974529528706596, \"state\": \"New South Wales\"}, {\"year\": 1876, \"total_results\": 5319, \"total_articles\": 134607, \"proportion\": 0.039515032650605096, \"state\": \"New South Wales\"}, {\"year\": 1877, \"total_results\": 5581, \"total_articles\": 132986, \"proportion\": 0.04196682357541395, \"state\": \"New South Wales\"}, {\"year\": 1878, \"total_results\": 6746, \"total_articles\": 148430, \"proportion\": 0.04544903321430978, \"state\": \"New South Wales\"}, {\"year\": 1879, \"total_results\": 7523, \"total_articles\": 176122, \"proportion\": 0.042714709122085824, \"state\": \"New South Wales\"}, {\"year\": 1880, \"total_results\": 8167, \"total_articles\": 183563, \"proportion\": 0.044491536965510475, \"state\": \"New South Wales\"}, {\"year\": 1881, \"total_results\": 10059, \"total_articles\": 194528, \"proportion\": 0.05170977956900806, \"state\": \"New South Wales\"}, {\"year\": 1882, \"total_results\": 6767, \"total_articles\": 200060, \"proportion\": 0.03382485254423673, \"state\": \"New South Wales\"}, {\"year\": 1883, \"total_results\": 8639, \"total_articles\": 206604, \"proportion\": 0.04181429207566165, \"state\": \"New South Wales\"}, {\"year\": 1884, \"total_results\": 8682, \"total_articles\": 245699, \"proportion\": 0.03533591915311011, \"state\": \"New South Wales\"}, {\"year\": 1885, \"total_results\": 7581, \"total_articles\": 274556, \"proportion\": 0.027611853319541368, \"state\": \"New South Wales\"}, {\"year\": 1886, \"total_results\": 7755, \"total_articles\": 303903, \"proportion\": 0.025518010681039673, \"state\": \"New South Wales\"}, {\"year\": 1887, \"total_results\": 8834, \"total_articles\": 305974, \"proportion\": 0.02887173419963788, \"state\": \"New South Wales\"}, {\"year\": 1888, \"total_results\": 15953, \"total_articles\": 360925, \"proportion\": 0.04420031862575327, \"state\": \"New South Wales\"}, {\"year\": 1889, \"total_results\": 8623, \"total_articles\": 410545, \"proportion\": 0.02100378764812627, \"state\": \"New South Wales\"}, {\"year\": 1890, \"total_results\": 8586, \"total_articles\": 463022, \"proportion\": 0.01854339534622545, \"state\": \"New South Wales\"}, {\"year\": 1891, \"total_results\": 10667, \"total_articles\": 484887, \"proportion\": 0.02199893995920699, \"state\": \"New South Wales\"}, {\"year\": 1892, \"total_results\": 10211, \"total_articles\": 507052, \"proportion\": 0.0201379740144995, \"state\": \"New South Wales\"}, {\"year\": 1893, \"total_results\": 10340, \"total_articles\": 519953, \"proportion\": 0.01988641281038863, \"state\": \"New South Wales\"}, {\"year\": 1894, \"total_results\": 13070, \"total_articles\": 556432, \"proportion\": 0.023488943842194555, \"state\": \"New South Wales\"}, {\"year\": 1895, \"total_results\": 15816, \"total_articles\": 600960, \"proportion\": 0.026317891373801916, \"state\": \"New South Wales\"}, {\"year\": 1896, \"total_results\": 11903, \"total_articles\": 624084, \"proportion\": 0.019072753026836132, \"state\": \"New South Wales\"}, {\"year\": 1897, \"total_results\": 11045, \"total_articles\": 616845, \"proportion\": 0.017905632695409707, \"state\": \"New South Wales\"}, {\"year\": 1898, \"total_results\": 16050, \"total_articles\": 726243, \"proportion\": 0.022100040895402778, \"state\": \"New South Wales\"}, {\"year\": 1899, \"total_results\": 14595, \"total_articles\": 885444, \"proportion\": 0.016483255858077982, \"state\": \"New South Wales\"}, {\"year\": 1900, \"total_results\": 27385, \"total_articles\": 956963, \"proportion\": 0.02861657138259264, \"state\": \"New South Wales\"}, {\"year\": 1901, \"total_results\": 20207, \"total_articles\": 996078, \"proportion\": 0.020286563903630036, \"state\": \"New South Wales\"}, {\"year\": 1902, \"total_results\": 18633, \"total_articles\": 1032446, \"proportion\": 0.018047432989231397, \"state\": \"New South Wales\"}, {\"year\": 1903, \"total_results\": 17953, \"total_articles\": 1029016, \"proportion\": 0.017446764676156638, \"state\": \"New South Wales\"}, {\"year\": 1904, \"total_results\": 27899, \"total_articles\": 1072616, \"proportion\": 0.026010240384256807, \"state\": \"New South Wales\"}, {\"year\": 1905, \"total_results\": 21319, \"total_articles\": 1100738, \"proportion\": 0.0193679149806766, \"state\": \"New South Wales\"}, {\"year\": 1906, \"total_results\": 20719, \"total_articles\": 1142481, \"proportion\": 0.0181350937127182, \"state\": \"New South Wales\"}, {\"year\": 1907, \"total_results\": 20417, \"total_articles\": 1200431, \"proportion\": 0.017008057939190174, \"state\": \"New South Wales\"}, {\"year\": 1908, \"total_results\": 19327, \"total_articles\": 1132188, \"proportion\": 0.01707048652697255, \"state\": \"New South Wales\"}, {\"year\": 1909, \"total_results\": 19524, \"total_articles\": 1181555, \"proportion\": 0.016523987457206818, \"state\": \"New South Wales\"}, {\"year\": 1910, \"total_results\": 18006, \"total_articles\": 1240208, \"proportion\": 0.01451853237521448, \"state\": \"New South Wales\"}, {\"year\": 1911, \"total_results\": 22661, \"total_articles\": 1379810, \"proportion\": 0.016423275668389126, \"state\": \"New South Wales\"}, {\"year\": 1912, \"total_results\": 22100, \"total_articles\": 1442428, \"proportion\": 0.01532138865856736, \"state\": \"New South Wales\"}, {\"year\": 1913, \"total_results\": 21691, \"total_articles\": 1469587, \"proportion\": 0.014759929150162597, \"state\": \"New South Wales\"}, {\"year\": 1914, \"total_results\": 20909, \"total_articles\": 1532108, \"proportion\": 0.01364721024888585, \"state\": \"New South Wales\"}, {\"year\": 1915, \"total_results\": 19608, \"total_articles\": 1545742, \"proportion\": 0.012685169970150258, \"state\": \"New South Wales\"}, {\"year\": 1916, \"total_results\": 18122, \"total_articles\": 1399570, \"proportion\": 0.012948262680680495, \"state\": \"New South Wales\"}, {\"year\": 1917, \"total_results\": 18532, \"total_articles\": 1314717, \"proportion\": 0.014095809212172657, \"state\": \"New South Wales\"}, {\"year\": 1918, \"total_results\": 18362, \"total_articles\": 1237964, \"proportion\": 0.014832418390195515, \"state\": \"New South Wales\"}, {\"year\": 1919, \"total_results\": 22228, \"total_articles\": 1278979, \"proportion\": 0.017379487857111024, \"state\": \"New South Wales\"}, {\"year\": 1920, \"total_results\": 20895, \"total_articles\": 1174574, \"proportion\": 0.01778942833742276, \"state\": \"New South Wales\"}, {\"year\": 1921, \"total_results\": 23216, \"total_articles\": 1238037, \"proportion\": 0.01875226669316022, \"state\": \"New South Wales\"}, {\"year\": 1922, \"total_results\": 20297, \"total_articles\": 1242761, \"proportion\": 0.016332182937829558, \"state\": \"New South Wales\"}, {\"year\": 1923, \"total_results\": 21937, \"total_articles\": 1326247, \"proportion\": 0.016540659469917746, \"state\": \"New South Wales\"}, {\"year\": 1924, \"total_results\": 22546, \"total_articles\": 1414024, \"proportion\": 0.01594456671173898, \"state\": \"New South Wales\"}, {\"year\": 1925, \"total_results\": 23016, \"total_articles\": 1430796, \"proportion\": 0.016086150646213715, \"state\": \"New South Wales\"}, {\"year\": 1926, \"total_results\": 24866, \"total_articles\": 1476018, \"proportion\": 0.016846678021541744, \"state\": \"New South Wales\"}, {\"year\": 1927, \"total_results\": 33724, \"total_articles\": 1541439, \"proportion\": 0.021878257913547017, \"state\": \"New South Wales\"}, {\"year\": 1928, \"total_results\": 26859, \"total_articles\": 1545331, \"proportion\": 0.017380742378170114, \"state\": \"New South Wales\"}, {\"year\": 1929, \"total_results\": 26856, \"total_articles\": 1651042, \"proportion\": 0.01626609135321815, \"state\": \"New South Wales\"}, {\"year\": 1930, \"total_results\": 22336, \"total_articles\": 1600395, \"proportion\": 0.013956554475613833, \"state\": \"New South Wales\"}, {\"year\": 1931, \"total_results\": 19733, \"total_articles\": 1469026, \"proportion\": 0.013432709836313313, \"state\": \"New South Wales\"}, {\"year\": 1932, \"total_results\": 21500, \"total_articles\": 1442818, \"proportion\": 0.01490139435465873, \"state\": \"New South Wales\"}, {\"year\": 1933, \"total_results\": 21224, \"total_articles\": 1501470, \"proportion\": 0.014135480562382199, \"state\": \"New South Wales\"}, {\"year\": 1934, \"total_results\": 19681, \"total_articles\": 1575183, \"proportion\": 0.012494421283114406, \"state\": \"New South Wales\"}, {\"year\": 1935, \"total_results\": 21110, \"total_articles\": 1641369, \"proportion\": 0.01286121524166717, \"state\": \"New South Wales\"}, {\"year\": 1936, \"total_results\": 20038, \"total_articles\": 1636019, \"proportion\": 0.012248024014391031, \"state\": \"New South Wales\"}, {\"year\": 1937, \"total_results\": 27737, \"total_articles\": 1613733, \"proportion\": 0.01718809741140573, \"state\": \"New South Wales\"}, {\"year\": 1938, \"total_results\": 26953, \"total_articles\": 1659257, \"proportion\": 0.01624401765368475, \"state\": \"New South Wales\"}, {\"year\": 1939, \"total_results\": 21083, \"total_articles\": 1552024, \"proportion\": 0.013584197151590439, \"state\": \"New South Wales\"}, {\"year\": 1940, \"total_results\": 16426, \"total_articles\": 1395876, \"proportion\": 0.011767520897271677, \"state\": \"New South Wales\"}, {\"year\": 1941, \"total_results\": 21119, \"total_articles\": 1519799, \"proportion\": 0.01389591649948447, \"state\": \"New South Wales\"}, {\"year\": 1942, \"total_results\": 22701, \"total_articles\": 1282650, \"proportion\": 0.017698514793591393, \"state\": \"New South Wales\"}, {\"year\": 1943, \"total_results\": 14490, \"total_articles\": 1154079, \"proportion\": 0.012555466306899268, \"state\": \"New South Wales\"}, {\"year\": 1944, \"total_results\": 15164, \"total_articles\": 1165486, \"proportion\": 0.013010881297587444, \"state\": \"New South Wales\"}, {\"year\": 1945, \"total_results\": 16791, \"total_articles\": 1147876, \"proportion\": 0.014627886635838715, \"state\": \"New South Wales\"}, {\"year\": 1946, \"total_results\": 16914, \"total_articles\": 1434515, \"proportion\": 0.011790744607062318, \"state\": \"New South Wales\"}, {\"year\": 1947, \"total_results\": 16484, \"total_articles\": 1483799, \"proportion\": 0.011109321410784075, \"state\": \"New South Wales\"}, {\"year\": 1948, \"total_results\": 14905, \"total_articles\": 1306485, \"proportion\": 0.011408473882210664, \"state\": \"New South Wales\"}, {\"year\": 1949, \"total_results\": 19738, \"total_articles\": 1493921, \"proportion\": 0.013212211355218917, \"state\": \"New South Wales\"}, {\"year\": 1950, \"total_results\": 24257, \"total_articles\": 1582714, \"proportion\": 0.015326205492590575, \"state\": \"New South Wales\"}, {\"year\": 1951, \"total_results\": 26248, \"total_articles\": 1500039, \"proportion\": 0.017498211713162123, \"state\": \"New South Wales\"}, {\"year\": 1952, \"total_results\": 19500, \"total_articles\": 1543050, \"proportion\": 0.012637309225235734, \"state\": \"New South Wales\"}, {\"year\": 1953, \"total_results\": 21553, \"total_articles\": 1660222, \"proportion\": 0.012981998792932511, \"state\": \"New South Wales\"}, {\"year\": 1954, \"total_results\": 19050, \"total_articles\": 1597705, \"proportion\": 0.011923352558826567, \"state\": \"New South Wales\"}, {\"year\": 1955, \"total_results\": 1099, \"total_articles\": 109566, \"proportion\": 0.010030483909241918, \"state\": \"New South Wales\"}, {\"year\": 1956, \"total_results\": 504, \"total_articles\": 56200, \"proportion\": 0.00896797153024911, \"state\": \"New South Wales\"}, {\"year\": 1957, \"total_results\": 595, \"total_articles\": 60968, \"proportion\": 0.00975921795040021, \"state\": \"New South Wales\"}, {\"year\": 1958, \"total_results\": 641, \"total_articles\": 62993, \"proportion\": 0.010175733811693363, \"state\": \"New South Wales\"}, {\"year\": 1959, \"total_results\": 652, \"total_articles\": 59423, \"proportion\": 0.01097218248826212, \"state\": \"New South Wales\"}, {\"year\": 1960, \"total_results\": 650, \"total_articles\": 58202, \"proportion\": 0.01116800109961857, \"state\": \"New South Wales\"}, {\"year\": 1961, \"total_results\": 541, \"total_articles\": 52555, \"proportion\": 0.01029397773760822, \"state\": \"New South Wales\"}, {\"year\": 1962, \"total_results\": 511, \"total_articles\": 50623, \"proportion\": 0.01009422594472868, \"state\": \"New South Wales\"}, {\"year\": 1963, \"total_results\": 369, \"total_articles\": 45380, \"proportion\": 0.008131335390039665, \"state\": \"New South Wales\"}, {\"year\": 1964, \"total_results\": 337, \"total_articles\": 44075, \"proportion\": 0.007646057855927396, \"state\": \"New South Wales\"}, {\"year\": 1965, \"total_results\": 317, \"total_articles\": 45172, \"proportion\": 0.007017621535464447, \"state\": \"New South Wales\"}, {\"year\": 1966, \"total_results\": 368, \"total_articles\": 38248, \"proportion\": 0.009621418113365405, \"state\": \"New South Wales\"}, {\"year\": 1967, \"total_results\": 363, \"total_articles\": 38519, \"proportion\": 0.00942392066253018, \"state\": \"New South Wales\"}, {\"year\": 1968, \"total_results\": 229, \"total_articles\": 39263, \"proportion\": 0.005832463133229758, \"state\": \"New South Wales\"}, {\"year\": 1969, \"total_results\": 288, \"total_articles\": 39760, \"proportion\": 0.007243460764587525, \"state\": \"New South Wales\"}, {\"year\": 1970, \"total_results\": 254, \"total_articles\": 37283, \"proportion\": 0.006812756484188504, \"state\": \"New South Wales\"}, {\"year\": 1971, \"total_results\": 312, \"total_articles\": 34496, \"proportion\": 0.009044526901669759, \"state\": \"New South Wales\"}, {\"year\": 1972, \"total_results\": 223, \"total_articles\": 24809, \"proportion\": 0.008988673465274698, \"state\": \"New South Wales\"}, {\"year\": 1973, \"total_results\": 232, \"total_articles\": 27374, \"proportion\": 0.008475195440929348, \"state\": \"New South Wales\"}, {\"year\": 1974, \"total_results\": 303, \"total_articles\": 29183, \"proportion\": 0.01038275708460405, \"state\": \"New South Wales\"}, {\"year\": 1975, \"total_results\": 250, \"total_articles\": 28709, \"proportion\": 0.008708070639869031, \"state\": \"New South Wales\"}, {\"year\": 1976, \"total_results\": 306, \"total_articles\": 26209, \"proportion\": 0.011675378686710671, \"state\": \"New South Wales\"}, {\"year\": 1977, \"total_results\": 293, \"total_articles\": 27383, \"proportion\": 0.010700069386115472, \"state\": \"New South Wales\"}, {\"year\": 1978, \"total_results\": 277, \"total_articles\": 25366, \"proportion\": 0.010920129306946306, \"state\": \"New South Wales\"}, {\"year\": 1979, \"total_results\": 214, \"total_articles\": 20279, \"proportion\": 0.010552788599043345, \"state\": \"New South Wales\"}, {\"year\": 1980, \"total_results\": 235, \"total_articles\": 20461, \"proportion\": 0.011485264649821612, \"state\": \"New South Wales\"}, {\"year\": 1981, \"total_results\": 234, \"total_articles\": 18134, \"proportion\": 0.012903937355244293, \"state\": \"New South Wales\"}, {\"year\": 1982, \"total_results\": 188, \"total_articles\": 17650, \"proportion\": 0.01065155807365439, \"state\": \"New South Wales\"}, {\"year\": 1983, \"total_results\": 156, \"total_articles\": 18149, \"proportion\": 0.008595514904402446, \"state\": \"New South Wales\"}, {\"year\": 1984, \"total_results\": 155, \"total_articles\": 16582, \"proportion\": 0.00934748522494271, \"state\": \"New South Wales\"}, {\"year\": 1985, \"total_results\": 218, \"total_articles\": 20361, \"proportion\": 0.010706743283728696, \"state\": \"New South Wales\"}, {\"year\": 1986, \"total_results\": 200, \"total_articles\": 21047, \"proportion\": 0.009502541929966265, \"state\": \"New South Wales\"}, {\"year\": 1987, \"total_results\": 244, \"total_articles\": 21578, \"proportion\": 0.011307813513764019, \"state\": \"New South Wales\"}, {\"year\": 1988, \"total_results\": 285, \"total_articles\": 23329, \"proportion\": 0.012216554502979125, \"state\": \"New South Wales\"}, {\"year\": 1989, \"total_results\": 388, \"total_articles\": 23139, \"proportion\": 0.016768226803232637, \"state\": \"New South Wales\"}, {\"year\": 1990, \"total_results\": 321, \"total_articles\": 20219, \"proportion\": 0.015876156090805678, \"state\": \"New South Wales\"}, {\"year\": 1991, \"total_results\": 230, \"total_articles\": 16745, \"proportion\": 0.013735443415945058, \"state\": \"New South Wales\"}, {\"year\": 1992, \"total_results\": 265, \"total_articles\": 20432, \"proportion\": 0.012969851213782302, \"state\": \"New South Wales\"}, {\"year\": 1993, \"total_results\": 240, \"total_articles\": 20752, \"proportion\": 0.01156515034695451, \"state\": \"New South Wales\"}, {\"year\": 1994, \"total_results\": 221, \"total_articles\": 18776, \"proportion\": 0.011770345121431615, \"state\": \"New South Wales\"}, {\"year\": 1995, \"total_results\": 222, \"total_articles\": 18715, \"proportion\": 0.011862142666310447, \"state\": \"New South Wales\"}, {\"year\": 1996, \"total_results\": 239, \"total_articles\": 19415, \"proportion\": 0.012310069533865568, \"state\": \"New South Wales\"}, {\"year\": 1997, \"total_results\": 213, \"total_articles\": 20029, \"proportion\": 0.010634579859204154, \"state\": \"New South Wales\"}, {\"year\": 1998, \"total_results\": 168, \"total_articles\": 20079, \"proportion\": 0.008366950545345885, \"state\": \"New South Wales\"}, {\"year\": 1999, \"total_results\": 209, \"total_articles\": 20620, \"proportion\": 0.010135790494665373, \"state\": \"New South Wales\"}, {\"year\": 2000, \"total_results\": 162, \"total_articles\": 19063, \"proportion\": 0.008498137753763835, \"state\": \"New South Wales\"}, {\"year\": 2001, \"total_results\": 170, \"total_articles\": 17195, \"proportion\": 0.009886594940389648, \"state\": \"New South Wales\"}, {\"year\": 2002, \"total_results\": 153, \"total_articles\": 16979, \"proportion\": 0.00901113139760881, \"state\": \"New South Wales\"}, {\"year\": 2003, \"total_results\": 144, \"total_articles\": 16226, \"proportion\": 0.008874645630469616, \"state\": \"New South Wales\"}, {\"year\": 2004, \"total_results\": 115, \"total_articles\": 14970, \"proportion\": 0.007682030728122912, \"state\": \"New South Wales\"}, {\"year\": 2005, \"total_results\": 120, \"total_articles\": 11822, \"proportion\": 0.010150566739976316, \"state\": \"New South Wales\"}, {\"year\": 2006, \"total_results\": 89, \"total_articles\": 11751, \"proportion\": 0.0075738235043826055, \"state\": \"New South Wales\"}, {\"year\": 2007, \"total_results\": 94, \"total_articles\": 12452, \"proportion\": 0.007548988114359139, \"state\": \"New South Wales\"}, {\"year\": 2008, \"total_results\": 108, \"total_articles\": 11964, \"proportion\": 0.009027081243731194, \"state\": \"New South Wales\"}, {\"year\": 2009, \"total_results\": 24, \"total_articles\": 730, \"proportion\": 0.03287671232876712, \"state\": \"New South Wales\"}, {\"year\": 2010, \"total_results\": 11, \"total_articles\": 599, \"proportion\": 0.018363939899833055, \"state\": \"New South Wales\"}, {\"year\": 2011, \"total_results\": 8, \"total_articles\": 251, \"proportion\": 0.03187250996015936, \"state\": \"New South Wales\"}, {\"year\": 1838, \"total_results\": 3, \"total_articles\": 263, \"proportion\": 0.011406844106463879, \"state\": \"Victoria\"}, {\"year\": 1839, \"total_results\": 37, \"total_articles\": 2091, \"proportion\": 0.017694882831181254, \"state\": \"Victoria\"}, {\"year\": 1840, \"total_results\": 74, \"total_articles\": 2516, \"proportion\": 0.029411764705882353, \"state\": \"Victoria\"}, {\"year\": 1841, \"total_results\": 202, \"total_articles\": 5119, \"proportion\": 0.03946083219378785, \"state\": \"Victoria\"}, {\"year\": 1842, \"total_results\": 207, \"total_articles\": 5635, \"proportion\": 0.036734693877551024, \"state\": \"Victoria\"}, {\"year\": 1843, \"total_results\": 163, \"total_articles\": 5400, \"proportion\": 0.030185185185185186, \"state\": \"Victoria\"}, {\"year\": 1844, \"total_results\": 115, \"total_articles\": 4823, \"proportion\": 0.023844080447854032, \"state\": \"Victoria\"}, {\"year\": 1845, \"total_results\": 182, \"total_articles\": 9531, \"proportion\": 0.019095582834959605, \"state\": \"Victoria\"}, {\"year\": 1846, \"total_results\": 283, \"total_articles\": 11964, \"proportion\": 0.02365429622199933, \"state\": \"Victoria\"}, {\"year\": 1847, \"total_results\": 420, \"total_articles\": 12400, \"proportion\": 0.03387096774193549, \"state\": \"Victoria\"}, {\"year\": 1848, \"total_results\": 584, \"total_articles\": 12150, \"proportion\": 0.04806584362139918, \"state\": \"Victoria\"}, {\"year\": 1849, \"total_results\": 526, \"total_articles\": 14888, \"proportion\": 0.03533046749059646, \"state\": \"Victoria\"}, {\"year\": 1850, \"total_results\": 635, \"total_articles\": 18358, \"proportion\": 0.03458982459962959, \"state\": \"Victoria\"}, {\"year\": 1851, \"total_results\": 589, \"total_articles\": 19008, \"proportion\": 0.03098695286195286, \"state\": \"Victoria\"}, {\"year\": 1852, \"total_results\": 652, \"total_articles\": 12291, \"proportion\": 0.053046944919046456, \"state\": \"Victoria\"}, {\"year\": 1853, \"total_results\": 1238, \"total_articles\": 17631, \"proportion\": 0.07021723101355568, \"state\": \"Victoria\"}, {\"year\": 1854, \"total_results\": 1606, \"total_articles\": 25451, \"proportion\": 0.06310164630073474, \"state\": \"Victoria\"}, {\"year\": 1855, \"total_results\": 2693, \"total_articles\": 39551, \"proportion\": 0.06808930241966069, \"state\": \"Victoria\"}, {\"year\": 1856, \"total_results\": 3414, \"total_articles\": 42863, \"proportion\": 0.0796491146210018, \"state\": \"Victoria\"}, {\"year\": 1857, \"total_results\": 5981, \"total_articles\": 54099, \"proportion\": 0.11055657221020722, \"state\": \"Victoria\"}, {\"year\": 1858, \"total_results\": 5246, \"total_articles\": 59730, \"proportion\": 0.08782856186171104, \"state\": \"Victoria\"}, {\"year\": 1859, \"total_results\": 6557, \"total_articles\": 73381, \"proportion\": 0.0893555552527221, \"state\": \"Victoria\"}, {\"year\": 1860, \"total_results\": 5101, \"total_articles\": 75328, \"proportion\": 0.06771718351741716, \"state\": \"Victoria\"}, {\"year\": 1861, \"total_results\": 6505, \"total_articles\": 82585, \"proportion\": 0.07876733062904887, \"state\": \"Victoria\"}, {\"year\": 1862, \"total_results\": 6006, \"total_articles\": 87316, \"proportion\": 0.06878464428054423, \"state\": \"Victoria\"}, {\"year\": 1863, \"total_results\": 6661, \"total_articles\": 93276, \"proportion\": 0.07141172434495476, \"state\": \"Victoria\"}, {\"year\": 1864, \"total_results\": 5708, \"total_articles\": 94884, \"proportion\": 0.06015766620294254, \"state\": \"Victoria\"}, {\"year\": 1865, \"total_results\": 5914, \"total_articles\": 105433, \"proportion\": 0.056092494759705215, \"state\": \"Victoria\"}, {\"year\": 1866, \"total_results\": 5621, \"total_articles\": 103850, \"proportion\": 0.05412614347616755, \"state\": \"Victoria\"}, {\"year\": 1867, \"total_results\": 5667, \"total_articles\": 111412, \"proportion\": 0.05086525688435716, \"state\": \"Victoria\"}, {\"year\": 1868, \"total_results\": 5338, \"total_articles\": 109432, \"proportion\": 0.04877915052269903, \"state\": \"Victoria\"}, {\"year\": 1869, \"total_results\": 5873, \"total_articles\": 116779, \"proportion\": 0.05029157639644114, \"state\": \"Victoria\"}, {\"year\": 1870, \"total_results\": 6639, \"total_articles\": 132356, \"proportion\": 0.050160174075976914, \"state\": \"Victoria\"}, {\"year\": 1871, \"total_results\": 6393, \"total_articles\": 130656, \"proportion\": 0.04893001469507715, \"state\": \"Victoria\"}, {\"year\": 1872, \"total_results\": 6205, \"total_articles\": 130648, \"proportion\": 0.04749402975935338, \"state\": \"Victoria\"}, {\"year\": 1873, \"total_results\": 7337, \"total_articles\": 147296, \"proportion\": 0.04981126439278731, \"state\": \"Victoria\"}, {\"year\": 1874, \"total_results\": 7219, \"total_articles\": 144216, \"proportion\": 0.05005685915571088, \"state\": \"Victoria\"}, {\"year\": 1875, \"total_results\": 8574, \"total_articles\": 161351, \"proportion\": 0.053138809179986486, \"state\": \"Victoria\"}, {\"year\": 1876, \"total_results\": 8573, \"total_articles\": 161554, \"proportion\": 0.05306584795176845, \"state\": \"Victoria\"}, {\"year\": 1877, \"total_results\": 8600, \"total_articles\": 168830, \"proportion\": 0.05093881419179056, \"state\": \"Victoria\"}, {\"year\": 1878, \"total_results\": 8160, \"total_articles\": 182976, \"proportion\": 0.04459601259181532, \"state\": \"Victoria\"}, {\"year\": 1879, \"total_results\": 8182, \"total_articles\": 193456, \"proportion\": 0.042293854933421554, \"state\": \"Victoria\"}, {\"year\": 1880, \"total_results\": 8778, \"total_articles\": 200369, \"proportion\": 0.04380917207751698, \"state\": \"Victoria\"}, {\"year\": 1881, \"total_results\": 8366, \"total_articles\": 207418, \"proportion\": 0.04033401151298344, \"state\": \"Victoria\"}, {\"year\": 1882, \"total_results\": 8002, \"total_articles\": 272607, \"proportion\": 0.029353611609386408, \"state\": \"Victoria\"}, {\"year\": 1883, \"total_results\": 10151, \"total_articles\": 280673, \"proportion\": 0.0361666423204227, \"state\": \"Victoria\"}, {\"year\": 1884, \"total_results\": 11475, \"total_articles\": 298073, \"proportion\": 0.03849728086743851, \"state\": \"Victoria\"}, {\"year\": 1885, \"total_results\": 10694, \"total_articles\": 295458, \"proportion\": 0.036194653724048766, \"state\": \"Victoria\"}, {\"year\": 1886, \"total_results\": 9424, \"total_articles\": 314865, \"proportion\": 0.029930287583567562, \"state\": \"Victoria\"}, {\"year\": 1887, \"total_results\": 12186, \"total_articles\": 339666, \"proportion\": 0.035876419777075126, \"state\": \"Victoria\"}, {\"year\": 1888, \"total_results\": 14382, \"total_articles\": 353639, \"proportion\": 0.040668591416670674, \"state\": \"Victoria\"}, {\"year\": 1889, \"total_results\": 11052, \"total_articles\": 360708, \"proportion\": 0.030639741841045943, \"state\": \"Victoria\"}, {\"year\": 1890, \"total_results\": 10483, \"total_articles\": 391839, \"proportion\": 0.026753334915615854, \"state\": \"Victoria\"}, {\"year\": 1891, \"total_results\": 12524, \"total_articles\": 418882, \"proportion\": 0.029898634937762902, \"state\": \"Victoria\"}, {\"year\": 1892, \"total_results\": 10603, \"total_articles\": 413943, \"proportion\": 0.025614637764136607, \"state\": \"Victoria\"}, {\"year\": 1893, \"total_results\": 11279, \"total_articles\": 419245, \"proportion\": 0.026903123471955538, \"state\": \"Victoria\"}, {\"year\": 1894, \"total_results\": 12675, \"total_articles\": 438119, \"proportion\": 0.028930496052442373, \"state\": \"Victoria\"}, {\"year\": 1895, \"total_results\": 13722, \"total_articles\": 451136, \"proportion\": 0.030416548446588167, \"state\": \"Victoria\"}, {\"year\": 1896, \"total_results\": 11516, \"total_articles\": 447496, \"proportion\": 0.025734308239626722, \"state\": \"Victoria\"}, {\"year\": 1897, \"total_results\": 11083, \"total_articles\": 449201, \"proportion\": 0.0246726966324652, \"state\": \"Victoria\"}, {\"year\": 1898, \"total_results\": 14282, \"total_articles\": 481455, \"proportion\": 0.029664246918195886, \"state\": \"Victoria\"}, {\"year\": 1899, \"total_results\": 11822, \"total_articles\": 513053, \"proportion\": 0.023042453703613467, \"state\": \"Victoria\"}, {\"year\": 1900, \"total_results\": 19900, \"total_articles\": 544520, \"proportion\": 0.036545948725482995, \"state\": \"Victoria\"}, {\"year\": 1901, \"total_results\": 15647, \"total_articles\": 591934, \"proportion\": 0.02643369024249325, \"state\": \"Victoria\"}, {\"year\": 1902, \"total_results\": 15000, \"total_articles\": 618013, \"proportion\": 0.02427133409815004, \"state\": \"Victoria\"}, {\"year\": 1903, \"total_results\": 14835, \"total_articles\": 624919, \"proportion\": 0.02373907658432533, \"state\": \"Victoria\"}, {\"year\": 1904, \"total_results\": 19601, \"total_articles\": 644423, \"proportion\": 0.030416356958084985, \"state\": \"Victoria\"}, {\"year\": 1905, \"total_results\": 15019, \"total_articles\": 657223, \"proportion\": 0.022852213023585602, \"state\": \"Victoria\"}, {\"year\": 1906, \"total_results\": 15143, \"total_articles\": 664837, \"proportion\": 0.022777011508083936, \"state\": \"Victoria\"}, {\"year\": 1907, \"total_results\": 14324, \"total_articles\": 697800, \"proportion\": 0.02052737173975351, \"state\": \"Victoria\"}, {\"year\": 1908, \"total_results\": 14939, \"total_articles\": 720013, \"proportion\": 0.020748236490174484, \"state\": \"Victoria\"}, {\"year\": 1909, \"total_results\": 15950, \"total_articles\": 724605, \"proportion\": 0.022011992740872614, \"state\": \"Victoria\"}, {\"year\": 1910, \"total_results\": 15300, \"total_articles\": 771680, \"proportion\": 0.019826871241965582, \"state\": \"Victoria\"}, {\"year\": 1911, \"total_results\": 15568, \"total_articles\": 735238, \"proportion\": 0.021174096007007256, \"state\": \"Victoria\"}, {\"year\": 1912, \"total_results\": 16490, \"total_articles\": 775893, \"proportion\": 0.021252930494282073, \"state\": \"Victoria\"}, {\"year\": 1913, \"total_results\": 16718, \"total_articles\": 763564, \"proportion\": 0.021894693830510605, \"state\": \"Victoria\"}, {\"year\": 1914, \"total_results\": 24638, \"total_articles\": 1281578, \"proportion\": 0.019224737003912366, \"state\": \"Victoria\"}, {\"year\": 1915, \"total_results\": 21298, \"total_articles\": 1344068, \"proportion\": 0.01584592446215519, \"state\": \"Victoria\"}, {\"year\": 1916, \"total_results\": 20568, \"total_articles\": 1210363, \"proportion\": 0.01699324913269821, \"state\": \"Victoria\"}, {\"year\": 1917, \"total_results\": 21387, \"total_articles\": 1127219, \"proportion\": 0.01897324299892035, \"state\": \"Victoria\"}, {\"year\": 1918, \"total_results\": 21160, \"total_articles\": 1072827, \"proportion\": 0.019723590103530204, \"state\": \"Victoria\"}, {\"year\": 1919, \"total_results\": 12669, \"total_articles\": 507328, \"proportion\": 0.024972010218241452, \"state\": \"Victoria\"}, {\"year\": 1920, \"total_results\": 13195, \"total_articles\": 482203, \"proportion\": 0.027363994002525906, \"state\": \"Victoria\"}, {\"year\": 1921, \"total_results\": 13773, \"total_articles\": 497821, \"proportion\": 0.027666570916052156, \"state\": \"Victoria\"}, {\"year\": 1922, \"total_results\": 14118, \"total_articles\": 550611, \"proportion\": 0.025640606526204524, \"state\": \"Victoria\"}, {\"year\": 1923, \"total_results\": 15242, \"total_articles\": 617241, \"proportion\": 0.02469375819169498, \"state\": \"Victoria\"}, {\"year\": 1924, \"total_results\": 15716, \"total_articles\": 666429, \"proportion\": 0.02358240712814118, \"state\": \"Victoria\"}, {\"year\": 1925, \"total_results\": 15317, \"total_articles\": 670817, \"proportion\": 0.022833350973514386, \"state\": \"Victoria\"}, {\"year\": 1926, \"total_results\": 16369, \"total_articles\": 674465, \"proportion\": 0.02426960628053346, \"state\": \"Victoria\"}, {\"year\": 1927, \"total_results\": 18178, \"total_articles\": 708489, \"proportion\": 0.02565742022811928, \"state\": \"Victoria\"}, {\"year\": 1928, \"total_results\": 17345, \"total_articles\": 738117, \"proportion\": 0.02349898457832566, \"state\": \"Victoria\"}, {\"year\": 1929, \"total_results\": 16314, \"total_articles\": 708870, \"proportion\": 0.023014092852003894, \"state\": \"Victoria\"}, {\"year\": 1930, \"total_results\": 13108, \"total_articles\": 684730, \"proportion\": 0.019143311962379332, \"state\": \"Victoria\"}, {\"year\": 1931, \"total_results\": 12756, \"total_articles\": 629161, \"proportion\": 0.020274619691938948, \"state\": \"Victoria\"}, {\"year\": 1932, \"total_results\": 12996, \"total_articles\": 641297, \"proportion\": 0.0202651813434337, \"state\": \"Victoria\"}, {\"year\": 1933, \"total_results\": 13365, \"total_articles\": 684082, \"proportion\": 0.01953713151347353, \"state\": \"Victoria\"}, {\"year\": 1934, \"total_results\": 11854, \"total_articles\": 749738, \"proportion\": 0.015810856592569672, \"state\": \"Victoria\"}, {\"year\": 1935, \"total_results\": 12314, \"total_articles\": 767255, \"proportion\": 0.016049422942828656, \"state\": \"Victoria\"}, {\"year\": 1936, \"total_results\": 12009, \"total_articles\": 779092, \"proportion\": 0.015414097436503005, \"state\": \"Victoria\"}, {\"year\": 1937, \"total_results\": 15130, \"total_articles\": 767736, \"proportion\": 0.019707295216063854, \"state\": \"Victoria\"}, {\"year\": 1938, \"total_results\": 13833, \"total_articles\": 767364, \"proportion\": 0.018026647067102445, \"state\": \"Victoria\"}, {\"year\": 1939, \"total_results\": 11463, \"total_articles\": 731338, \"proportion\": 0.01567401119591762, \"state\": \"Victoria\"}, {\"year\": 1940, \"total_results\": 8365, \"total_articles\": 616983, \"proportion\": 0.013557910023452835, \"state\": \"Victoria\"}, {\"year\": 1941, \"total_results\": 8470, \"total_articles\": 533439, \"proportion\": 0.01587810415061516, \"state\": \"Victoria\"}, {\"year\": 1942, \"total_results\": 8442, \"total_articles\": 413831, \"proportion\": 0.020399631733727053, \"state\": \"Victoria\"}, {\"year\": 1943, \"total_results\": 6382, \"total_articles\": 357764, \"proportion\": 0.01783857515009895, \"state\": \"Victoria\"}, {\"year\": 1944, \"total_results\": 6406, \"total_articles\": 379377, \"proportion\": 0.01688557819794031, \"state\": \"Victoria\"}, {\"year\": 1945, \"total_results\": 7072, \"total_articles\": 413126, \"proportion\": 0.017118264161539096, \"state\": \"Victoria\"}, {\"year\": 1946, \"total_results\": 7412, \"total_articles\": 519959, \"proportion\": 0.014254970103412, \"state\": \"Victoria\"}, {\"year\": 1947, \"total_results\": 7304, \"total_articles\": 508891, \"proportion\": 0.014352778885851784, \"state\": \"Victoria\"}, {\"year\": 1948, \"total_results\": 6168, \"total_articles\": 430327, \"proportion\": 0.014333286082444281, \"state\": \"Victoria\"}, {\"year\": 1949, \"total_results\": 8213, \"total_articles\": 531209, \"proportion\": 0.015460957928047152, \"state\": \"Victoria\"}, {\"year\": 1950, \"total_results\": 8478, \"total_articles\": 528944, \"proportion\": 0.016028161771378446, \"state\": \"Victoria\"}, {\"year\": 1951, \"total_results\": 7788, \"total_articles\": 448551, \"proportion\": 0.017362574155447206, \"state\": \"Victoria\"}, {\"year\": 1952, \"total_results\": 6690, \"total_articles\": 458560, \"proportion\": 0.014589148639218423, \"state\": \"Victoria\"}, {\"year\": 1953, \"total_results\": 7262, \"total_articles\": 479539, \"proportion\": 0.01514371093904771, \"state\": \"Victoria\"}, {\"year\": 1954, \"total_results\": 6922, \"total_articles\": 503745, \"proportion\": 0.013741079315923731, \"state\": \"Victoria\"}, {\"year\": 1955, \"total_results\": 1637, \"total_articles\": 120323, \"proportion\": 0.013605046416728305, \"state\": \"Victoria\"}, {\"year\": 1956, \"total_results\": 1043, \"total_articles\": 89082, \"proportion\": 0.01170831368851171, \"state\": \"Victoria\"}, {\"year\": 1957, \"total_results\": 129, \"total_articles\": 26327, \"proportion\": 0.004899912637216545, \"state\": \"Victoria\"}, {\"year\": 1958, \"total_results\": 53, \"total_articles\": 21161, \"proportion\": 0.0025046075327252964, \"state\": \"Victoria\"}, {\"year\": 1959, \"total_results\": 45, \"total_articles\": 21224, \"proportion\": 0.0021202412363362233, \"state\": \"Victoria\"}, {\"year\": 1960, \"total_results\": 46, \"total_articles\": 19817, \"proportion\": 0.00232123933996064, \"state\": \"Victoria\"}, {\"year\": 1961, \"total_results\": 46, \"total_articles\": 20171, \"proportion\": 0.002280501710376283, \"state\": \"Victoria\"}, {\"year\": 1962, \"total_results\": 63, \"total_articles\": 20218, \"proportion\": 0.0031160352161440303, \"state\": \"Victoria\"}, {\"year\": 1963, \"total_results\": 70, \"total_articles\": 19668, \"proportion\": 0.003559080740288794, \"state\": \"Victoria\"}, {\"year\": 1964, \"total_results\": 64, \"total_articles\": 20535, \"proportion\": 0.003116630143657171, \"state\": \"Victoria\"}, {\"year\": 1965, \"total_results\": 101, \"total_articles\": 25211, \"proportion\": 0.004006187775177502, \"state\": \"Victoria\"}, {\"year\": 1966, \"total_results\": 107, \"total_articles\": 24485, \"proportion\": 0.004370022462732285, \"state\": \"Victoria\"}, {\"year\": 1967, \"total_results\": 58, \"total_articles\": 20357, \"proportion\": 0.002849142801002112, \"state\": \"Victoria\"}, {\"year\": 1968, \"total_results\": 92, \"total_articles\": 17906, \"proportion\": 0.005137942589076287, \"state\": \"Victoria\"}, {\"year\": 1969, \"total_results\": 84, \"total_articles\": 13910, \"proportion\": 0.00603882099209202, \"state\": \"Victoria\"}, {\"year\": 1970, \"total_results\": 70, \"total_articles\": 11332, \"proportion\": 0.006177197317331451, \"state\": \"Victoria\"}, {\"year\": 1971, \"total_results\": 105, \"total_articles\": 11603, \"proportion\": 0.009049383780056881, \"state\": \"Victoria\"}, {\"year\": 1972, \"total_results\": 65, \"total_articles\": 13939, \"proportion\": 0.004663175263648755, \"state\": \"Victoria\"}, {\"year\": 1973, \"total_results\": 45, \"total_articles\": 11095, \"proportion\": 0.00405588102748986, \"state\": \"Victoria\"}, {\"year\": 1974, \"total_results\": 44, \"total_articles\": 11880, \"proportion\": 0.003703703703703704, \"state\": \"Victoria\"}, {\"year\": 1975, \"total_results\": 59, \"total_articles\": 12033, \"proportion\": 0.0049031829136541175, \"state\": \"Victoria\"}, {\"year\": 1976, \"total_results\": 48, \"total_articles\": 13685, \"proportion\": 0.0035074899525027402, \"state\": \"Victoria\"}, {\"year\": 1977, \"total_results\": 66, \"total_articles\": 11617, \"proportion\": 0.005681329086683309, \"state\": \"Victoria\"}, {\"year\": 1978, \"total_results\": 232, \"total_articles\": 11187, \"proportion\": 0.020738357021542864, \"state\": \"Victoria\"}, {\"year\": 1979, \"total_results\": 166, \"total_articles\": 13105, \"proportion\": 0.012666921022510493, \"state\": \"Victoria\"}, {\"year\": 1980, \"total_results\": 175, \"total_articles\": 13621, \"proportion\": 0.012847808530944865, \"state\": \"Victoria\"}, {\"year\": 1981, \"total_results\": 246, \"total_articles\": 13744, \"proportion\": 0.01789871944121071, \"state\": \"Victoria\"}, {\"year\": 1982, \"total_results\": 233, \"total_articles\": 13742, \"proportion\": 0.01695531945859409, \"state\": \"Victoria\"}, {\"year\": 1983, \"total_results\": 208, \"total_articles\": 15017, \"proportion\": 0.013850968901911167, \"state\": \"Victoria\"}, {\"year\": 1984, \"total_results\": 210, \"total_articles\": 14555, \"proportion\": 0.014428031604259704, \"state\": \"Victoria\"}, {\"year\": 1985, \"total_results\": 215, \"total_articles\": 15085, \"proportion\": 0.014252568776930727, \"state\": \"Victoria\"}, {\"year\": 1986, \"total_results\": 183, \"total_articles\": 15495, \"proportion\": 0.01181026137463698, \"state\": \"Victoria\"}, {\"year\": 1987, \"total_results\": 170, \"total_articles\": 14992, \"proportion\": 0.011339381003201707, \"state\": \"Victoria\"}, {\"year\": 1988, \"total_results\": 128, \"total_articles\": 13151, \"proportion\": 0.009733100144475705, \"state\": \"Victoria\"}, {\"year\": 1989, \"total_results\": 142, \"total_articles\": 16154, \"proportion\": 0.008790392472452644, \"state\": \"Victoria\"}, {\"year\": 1990, \"total_results\": 121, \"total_articles\": 14940, \"proportion\": 0.008099062918340026, \"state\": \"Victoria\"}, {\"year\": 1991, \"total_results\": 88, \"total_articles\": 11613, \"proportion\": 0.00757771463015586, \"state\": \"Victoria\"}, {\"year\": 1992, \"total_results\": 129, \"total_articles\": 15785, \"proportion\": 0.008172315489388661, \"state\": \"Victoria\"}, {\"year\": 1993, \"total_results\": 124, \"total_articles\": 16023, \"proportion\": 0.007738875366660425, \"state\": \"Victoria\"}, {\"year\": 1994, \"total_results\": 94, \"total_articles\": 15945, \"proportion\": 0.005895264973345877, \"state\": \"Victoria\"}, {\"year\": 1995, \"total_results\": 77, \"total_articles\": 15224, \"proportion\": 0.0050578034682080926, \"state\": \"Victoria\"}, {\"year\": 1996, \"total_results\": 67, \"total_articles\": 11298, \"proportion\": 0.005930253142149053, \"state\": \"Victoria\"}, {\"year\": 1997, \"total_results\": 81, \"total_articles\": 12783, \"proportion\": 0.0063365407181412816, \"state\": \"Victoria\"}, {\"year\": 1998, \"total_results\": 118, \"total_articles\": 19673, \"proportion\": 0.005998068418644843, \"state\": \"Victoria\"}, {\"year\": 1999, \"total_results\": 297, \"total_articles\": 29598, \"proportion\": 0.010034461787958646, \"state\": \"Victoria\"}, {\"year\": 2000, \"total_results\": 70, \"total_articles\": 18028, \"proportion\": 0.0038828489017084535, \"state\": \"Victoria\"}, {\"year\": 2001, \"total_results\": 130, \"total_articles\": 17500, \"proportion\": 0.0074285714285714285, \"state\": \"Victoria\"}, {\"year\": 2002, \"total_results\": 147, \"total_articles\": 17802, \"proportion\": 0.008257499157398046, \"state\": \"Victoria\"}, {\"year\": 2007, \"total_results\": 3, \"total_articles\": 429, \"proportion\": 0.006993006993006993, \"state\": \"Victoria\"}]}}, {\"mode\": \"vega-lite\"});\n",
       "</script>"
      ],
      "text/plain": [
       "alt.VConcatChart(...)"
      ]
     },
     "execution_count": 26,
     "metadata": {},
     "output_type": "execute_result"
    }
   ],
   "source": [
    "# Chart totals\n",
    "chart5 = make_chart_totals(df_states, \"state\", \"State\")\n",
    "\n",
    "# Chart proportions\n",
    "chart6 = make_chart_proportions(df_states, \"state\", \"State\")\n",
    "\n",
    "# Shorthand way of concatenating the two charts (note there's only one legend)\n",
    "chart5 & chart6"
   ]
  },
  {
   "cell_type": "markdown",
   "metadata": {},
   "source": [
    "Showing the results as a proportion of the total articles for each state does seem to show up some interesting differences. Did 10% of newspaper articles published in Victoria in 1857 really mention 'Chinese'? That seems like something to investigate in more detail.\n",
    "\n",
    "Another way of visualising the number of results per state is by using a map! See [Map newspaper results by state](Map-newspaper-results-by-state.ipynb) for a demonstration."
   ]
  },
  {
   "cell_type": "markdown",
   "metadata": {},
   "source": [
    "## 7. Comparing a search term across different newspapers\n",
    "\n",
    "For a more fine-grained analysis, we might want to compare the contents of different newspapers – how did their coverage or language vary over time? To do this we can use Trove's `title` facet which, despite the name, limits your results to a particular newspaper.\n",
    "\n",
    "The `title` facet expects a numeric newspaper identifier. The easiest way of find this id number is to go to the [list of newspapers](https://trove.nla.gov.au/newspaper/about) and click on the one you're interested in. The id number will be in the url of the newspaper details page. For example, the url of the *Canberra Times* page is:\n",
    "\n",
    "`https://trove.nla.gov.au/newspaper/title/11`\n",
    "\n",
    "So the id number is '11'.\n",
    "\n",
    "As with previous examples, we'll create a list of the newspapers we want to use with the `title` facet. However, the id number on it's own isn't going to be very useful in the legend of our chart, so we'll include the name of the newspaper as well. "
   ]
  },
  {
   "cell_type": "code",
   "execution_count": 27,
   "metadata": {},
   "outputs": [],
   "source": [
    "# Create a list of dictionaries, each with the 'id' and 'name' of a newspaper\n",
    "newspapers = [\n",
    "    {\"id\": 1180, \"name\": \"Sydney Sun\"},\n",
    "    {\"id\": 35, \"name\": \"Sydney Morning Herald\"},\n",
    "    {\"id\": 1002, \"name\": \"Tribune\"},\n",
    "]"
   ]
  },
  {
   "cell_type": "code",
   "execution_count": 28,
   "metadata": {},
   "outputs": [],
   "source": [
    "# Our search query we want to compare across newspapers\n",
    "query = \"worker\""
   ]
  },
  {
   "cell_type": "markdown",
   "metadata": {},
   "source": [
    "In this case the total number of articles we want to use in calculating the proportion of results is probably the total number of articles published in each particular newspaper. This should allow a more meaningful comparison between, for example, a weekly and a daily newspaper. As in the example above, we'll define a function to loop through the newspapers, and another to get the total number of articles for a given newspaper."
   ]
  },
  {
   "cell_type": "code",
   "execution_count": 29,
   "metadata": {},
   "outputs": [],
   "source": [
    "def get_newspaper_totals(newspaper_id):\n",
    "    \"\"\"\n",
    "    Get the total number of articles for each year for the specified newspaper.\n",
    "    Parameters:\n",
    "        newspaper_id - numeric Trove newspaper identifier\n",
    "    Returns:\n",
    "        A list of dictionaries containing 'year', 'total_results'.\n",
    "    \"\"\"\n",
    "    these_params = params.copy()\n",
    "\n",
    "    # Set q to a single space for everything\n",
    "    these_params.pop(\"q\", None)\n",
    "\n",
    "    # Set the title facet to the newspaper_id\n",
    "    these_params[\"l-title\"] = newspaper_id\n",
    "\n",
    "    # Get all the year by year data\n",
    "    facet_data = get_facet_data(these_params)\n",
    "    return facet_data\n",
    "\n",
    "\n",
    "def get_newspaper_facets(params, newspapers, query):\n",
    "    \"\"\"\n",
    "    Loop through the supplied list of newspapers searching for the specified query and getting the year by year results.\n",
    "    Merges the search results with the total number of articles for that newspaper.\n",
    "    Parameters:\n",
    "        params - basic parameters to send to the API\n",
    "        newspapers - a list of dictionaries with the id and name of a newspaper\n",
    "        query - the search query to use\n",
    "    Returns:\n",
    "        A dataframe\n",
    "    \"\"\"\n",
    "    dfs = []\n",
    "    these_params = params.copy()\n",
    "\n",
    "    # Set the query\n",
    "    these_params[\"q\"] = query\n",
    "\n",
    "    # Loop through the list of newspapers\n",
    "    for newspaper in newspapers:\n",
    "\n",
    "        # Sewt the title facet to the id of the current newspaper\n",
    "        these_params[\"l-title\"] = newspaper[\"id\"]\n",
    "\n",
    "        # Get the year by year results for this newspaper\n",
    "        facet_data = get_facet_data(these_params)\n",
    "\n",
    "        # Convert to a dataframe\n",
    "        df = pd.DataFrame(facet_data)\n",
    "\n",
    "        # Get the total number of articles published in this newspaper per year\n",
    "        total_data = get_newspaper_totals(newspaper[\"id\"])\n",
    "\n",
    "        # Convert to a dataframe\n",
    "        df_total = pd.DataFrame(total_data)\n",
    "\n",
    "        # Merge the two dataframes\n",
    "        df_merged = merge_df_with_total(df, df_total)\n",
    "\n",
    "        # Create a newspaper column and set its value to the name of the newspaper\n",
    "        df_merged[\"newspaper\"] = newspaper[\"name\"]\n",
    "\n",
    "        # Add the current datarame to the list\n",
    "        dfs.append(df_merged)\n",
    "\n",
    "    # Concatenate the dataframes and return the result\n",
    "    return pd.concat(dfs)"
   ]
  },
  {
   "cell_type": "markdown",
   "metadata": {},
   "source": [
    "Let's get the data!"
   ]
  },
  {
   "cell_type": "code",
   "execution_count": 30,
   "metadata": {},
   "outputs": [],
   "source": [
    "df_newspapers = get_newspaper_facets(params, newspapers, query)"
   ]
  },
  {
   "cell_type": "markdown",
   "metadata": {},
   "source": [
    "And make some charts!"
   ]
  },
  {
   "cell_type": "code",
   "execution_count": 31,
   "metadata": {},
   "outputs": [
    {
     "data": {
      "text/html": [
       "\n",
       "<style>\n",
       "  #altair-viz-100f268152eb4aa19551918ec720c563.vega-embed {\n",
       "    width: 100%;\n",
       "    display: flex;\n",
       "  }\n",
       "\n",
       "  #altair-viz-100f268152eb4aa19551918ec720c563.vega-embed details,\n",
       "  #altair-viz-100f268152eb4aa19551918ec720c563.vega-embed details summary {\n",
       "    position: relative;\n",
       "  }\n",
       "</style>\n",
       "<div id=\"altair-viz-100f268152eb4aa19551918ec720c563\"></div>\n",
       "<script type=\"text/javascript\">\n",
       "  var VEGA_DEBUG = (typeof VEGA_DEBUG == \"undefined\") ? {} : VEGA_DEBUG;\n",
       "  (function(spec, embedOpt){\n",
       "    let outputDiv = document.currentScript.previousElementSibling;\n",
       "    if (outputDiv.id !== \"altair-viz-100f268152eb4aa19551918ec720c563\") {\n",
       "      outputDiv = document.getElementById(\"altair-viz-100f268152eb4aa19551918ec720c563\");\n",
       "    }\n",
       "    const paths = {\n",
       "      \"vega\": \"https://cdn.jsdelivr.net/npm/vega@5?noext\",\n",
       "      \"vega-lib\": \"https://cdn.jsdelivr.net/npm/vega-lib?noext\",\n",
       "      \"vega-lite\": \"https://cdn.jsdelivr.net/npm/vega-lite@5.20.1?noext\",\n",
       "      \"vega-embed\": \"https://cdn.jsdelivr.net/npm/vega-embed@6?noext\",\n",
       "    };\n",
       "\n",
       "    function maybeLoadScript(lib, version) {\n",
       "      var key = `${lib.replace(\"-\", \"\")}_version`;\n",
       "      return (VEGA_DEBUG[key] == version) ?\n",
       "        Promise.resolve(paths[lib]) :\n",
       "        new Promise(function(resolve, reject) {\n",
       "          var s = document.createElement('script');\n",
       "          document.getElementsByTagName(\"head\")[0].appendChild(s);\n",
       "          s.async = true;\n",
       "          s.onload = () => {\n",
       "            VEGA_DEBUG[key] = version;\n",
       "            return resolve(paths[lib]);\n",
       "          };\n",
       "          s.onerror = () => reject(`Error loading script: ${paths[lib]}`);\n",
       "          s.src = paths[lib];\n",
       "        });\n",
       "    }\n",
       "\n",
       "    function showError(err) {\n",
       "      outputDiv.innerHTML = `<div class=\"error\" style=\"color:red;\">${err}</div>`;\n",
       "      throw err;\n",
       "    }\n",
       "\n",
       "    function displayChart(vegaEmbed) {\n",
       "      vegaEmbed(outputDiv, spec, embedOpt)\n",
       "        .catch(err => showError(`Javascript Error: ${err.message}<br>This usually means there's a typo in your chart specification. See the javascript console for the full traceback.`));\n",
       "    }\n",
       "\n",
       "    if(typeof define === \"function\" && define.amd) {\n",
       "      requirejs.config({paths});\n",
       "      require([\"vega-embed\"], displayChart, err => showError(`Error loading script: ${err.message}`));\n",
       "    } else {\n",
       "      maybeLoadScript(\"vega\", \"5\")\n",
       "        .then(() => maybeLoadScript(\"vega-lite\", \"5.20.1\"))\n",
       "        .then(() => maybeLoadScript(\"vega-embed\", \"6\"))\n",
       "        .catch(showError)\n",
       "        .then(() => displayChart(vegaEmbed));\n",
       "    }\n",
       "  })({\"config\": {\"view\": {\"continuousWidth\": 300, \"continuousHeight\": 300}}, \"vconcat\": [{\"mark\": {\"type\": \"line\", \"point\": true}, \"encoding\": {\"color\": {\"field\": \"newspaper\", \"legend\": {\"title\": \"Newspaper\"}, \"type\": \"nominal\"}, \"tooltip\": [{\"field\": \"newspaper\", \"title\": \"Newspaper\", \"type\": \"nominal\"}, {\"field\": \"year\", \"title\": \"Year\", \"type\": \"quantitative\"}, {\"field\": \"total_results\", \"format\": \",\", \"title\": \"Articles\", \"type\": \"quantitative\"}], \"x\": {\"axis\": {\"format\": \"c\", \"title\": \"Year\"}, \"field\": \"year\", \"type\": \"quantitative\"}, \"y\": {\"axis\": {\"format\": \",d\", \"title\": \"Number of articles\"}, \"field\": \"total_results\", \"type\": \"quantitative\"}}, \"height\": 250, \"width\": 700}, {\"mark\": {\"type\": \"line\", \"point\": true}, \"encoding\": {\"color\": {\"field\": \"newspaper\", \"legend\": {\"title\": \"Newspaper\"}, \"type\": \"nominal\"}, \"tooltip\": [{\"field\": \"newspaper\", \"title\": \"Newspaper\", \"type\": \"nominal\"}, {\"field\": \"year\", \"title\": \"Year\", \"type\": \"quantitative\"}, {\"field\": \"proportion\", \"format\": \"%\", \"title\": \"Proportion\", \"type\": \"quantitative\"}], \"x\": {\"axis\": {\"format\": \"c\", \"title\": \"Year\"}, \"field\": \"year\", \"type\": \"quantitative\"}, \"y\": {\"axis\": {\"format\": \"%\", \"title\": \"Proportion of articles\"}, \"field\": \"proportion\", \"stack\": null, \"type\": \"quantitative\"}}, \"height\": 250, \"width\": 700}], \"data\": {\"name\": \"data-ccf4899b6c55bc1b0effd47b4608c15c\"}, \"$schema\": \"https://vega.github.io/schema/vega-lite/v5.20.1.json\", \"datasets\": {\"data-ccf4899b6c55bc1b0effd47b4608c15c\": [{\"year\": 1910, \"total_results\": 5040, \"total_articles\": 26594, \"proportion\": 0.18951643227795745, \"newspaper\": \"Sydney Sun\"}, {\"year\": 1911, \"total_results\": 11745, \"total_articles\": 59711, \"proportion\": 0.19669742593491987, \"newspaper\": \"Sydney Sun\"}, {\"year\": 1912, \"total_results\": 14330, \"total_articles\": 74322, \"proportion\": 0.19280966604773822, \"newspaper\": \"Sydney Sun\"}, {\"year\": 1913, \"total_results\": 15781, \"total_articles\": 81812, \"proportion\": 0.19289346306165356, \"newspaper\": \"Sydney Sun\"}, {\"year\": 1914, \"total_results\": 10233, \"total_articles\": 54243, \"proportion\": 0.18865107018417124, \"newspaper\": \"Sydney Sun\"}, {\"year\": 1915, \"total_results\": 10775, \"total_articles\": 58624, \"proportion\": 0.1837984443231441, \"newspaper\": \"Sydney Sun\"}, {\"year\": 1916, \"total_results\": 11579, \"total_articles\": 55955, \"proportion\": 0.2069341435081762, \"newspaper\": \"Sydney Sun\"}, {\"year\": 1917, \"total_results\": 10974, \"total_articles\": 45517, \"proportion\": 0.24109673308873608, \"newspaper\": \"Sydney Sun\"}, {\"year\": 1918, \"total_results\": 9871, \"total_articles\": 43185, \"proportion\": 0.22857473659835592, \"newspaper\": \"Sydney Sun\"}, {\"year\": 1919, \"total_results\": 11597, \"total_articles\": 55078, \"proportion\": 0.21055593885035767, \"newspaper\": \"Sydney Sun\"}, {\"year\": 1920, \"total_results\": 11169, \"total_articles\": 53082, \"proportion\": 0.2104103085791794, \"newspaper\": \"Sydney Sun\"}, {\"year\": 1921, \"total_results\": 12026, \"total_articles\": 60382, \"proportion\": 0.19916531416647346, \"newspaper\": \"Sydney Sun\"}, {\"year\": 1922, \"total_results\": 11856, \"total_articles\": 65570, \"proportion\": 0.1808143968278176, \"newspaper\": \"Sydney Sun\"}, {\"year\": 1923, \"total_results\": 12279, \"total_articles\": 72373, \"proportion\": 0.16966271952247386, \"newspaper\": \"Sydney Sun\"}, {\"year\": 1924, \"total_results\": 11243, \"total_articles\": 70801, \"proportion\": 0.15879719213005467, \"newspaper\": \"Sydney Sun\"}, {\"year\": 1925, \"total_results\": 11480, \"total_articles\": 72479, \"proportion\": 0.1583907062735413, \"newspaper\": \"Sydney Sun\"}, {\"year\": 1926, \"total_results\": 13267, \"total_articles\": 79748, \"proportion\": 0.1663615388473692, \"newspaper\": \"Sydney Sun\"}, {\"year\": 1927, \"total_results\": 13719, \"total_articles\": 85260, \"proportion\": 0.16090781140042223, \"newspaper\": \"Sydney Sun\"}, {\"year\": 1928, \"total_results\": 13857, \"total_articles\": 87922, \"proportion\": 0.15760560496803985, \"newspaper\": \"Sydney Sun\"}, {\"year\": 1929, \"total_results\": 14483, \"total_articles\": 91156, \"proportion\": 0.1588814779060073, \"newspaper\": \"Sydney Sun\"}, {\"year\": 1930, \"total_results\": 13457, \"total_articles\": 86528, \"proportion\": 0.15552191198224852, \"newspaper\": \"Sydney Sun\"}, {\"year\": 1931, \"total_results\": 11251, \"total_articles\": 79325, \"proportion\": 0.14183422628427356, \"newspaper\": \"Sydney Sun\"}, {\"year\": 1932, \"total_results\": 12315, \"total_articles\": 89069, \"proportion\": 0.13826359339388564, \"newspaper\": \"Sydney Sun\"}, {\"year\": 1933, \"total_results\": 13099, \"total_articles\": 90922, \"proportion\": 0.14406854226699808, \"newspaper\": \"Sydney Sun\"}, {\"year\": 1934, \"total_results\": 12816, \"total_articles\": 91762, \"proportion\": 0.13966565680782894, \"newspaper\": \"Sydney Sun\"}, {\"year\": 1935, \"total_results\": 13322, \"total_articles\": 92266, \"proportion\": 0.14438688140810266, \"newspaper\": \"Sydney Sun\"}, {\"year\": 1936, \"total_results\": 15080, \"total_articles\": 103341, \"proportion\": 0.1459246572028527, \"newspaper\": \"Sydney Sun\"}, {\"year\": 1937, \"total_results\": 14199, \"total_articles\": 92674, \"proportion\": 0.15321449381703606, \"newspaper\": \"Sydney Sun\"}, {\"year\": 1938, \"total_results\": 14307, \"total_articles\": 95217, \"proportion\": 0.1502567818771858, \"newspaper\": \"Sydney Sun\"}, {\"year\": 1939, \"total_results\": 13989, \"total_articles\": 93269, \"proportion\": 0.14998552573738327, \"newspaper\": \"Sydney Sun\"}, {\"year\": 1940, \"total_results\": 13613, \"total_articles\": 83644, \"proportion\": 0.16274927071876047, \"newspaper\": \"Sydney Sun\"}, {\"year\": 1941, \"total_results\": 11410, \"total_articles\": 68898, \"proportion\": 0.16560712937966268, \"newspaper\": \"Sydney Sun\"}, {\"year\": 1942, \"total_results\": 10225, \"total_articles\": 59524, \"proportion\": 0.17177945030575903, \"newspaper\": \"Sydney Sun\"}, {\"year\": 1943, \"total_results\": 8951, \"total_articles\": 55022, \"proportion\": 0.16268038239249755, \"newspaper\": \"Sydney Sun\"}, {\"year\": 1944, \"total_results\": 7905, \"total_articles\": 53765, \"proportion\": 0.14702873616665116, \"newspaper\": \"Sydney Sun\"}, {\"year\": 1945, \"total_results\": 10452, \"total_articles\": 66436, \"proportion\": 0.15732434222409536, \"newspaper\": \"Sydney Sun\"}, {\"year\": 1946, \"total_results\": 11805, \"total_articles\": 77045, \"proportion\": 0.15322214290349795, \"newspaper\": \"Sydney Sun\"}, {\"year\": 1947, \"total_results\": 11602, \"total_articles\": 80781, \"proportion\": 0.1436228816182023, \"newspaper\": \"Sydney Sun\"}, {\"year\": 1948, \"total_results\": 7280, \"total_articles\": 59982, \"proportion\": 0.12136974425661032, \"newspaper\": \"Sydney Sun\"}, {\"year\": 1949, \"total_results\": 9572, \"total_articles\": 72217, \"proportion\": 0.1325449686361937, \"newspaper\": \"Sydney Sun\"}, {\"year\": 1950, \"total_results\": 9964, \"total_articles\": 78466, \"proportion\": 0.12698493615068948, \"newspaper\": \"Sydney Sun\"}, {\"year\": 1951, \"total_results\": 8930, \"total_articles\": 72880, \"proportion\": 0.12253018660812294, \"newspaper\": \"Sydney Sun\"}, {\"year\": 1952, \"total_results\": 8948, \"total_articles\": 75615, \"proportion\": 0.11833630893341268, \"newspaper\": \"Sydney Sun\"}, {\"year\": 1953, \"total_results\": 8572, \"total_articles\": 77322, \"proportion\": 0.11086107446780993, \"newspaper\": \"Sydney Sun\"}, {\"year\": 1954, \"total_results\": 7853, \"total_articles\": 71881, \"proportion\": 0.10925001043391161, \"newspaper\": \"Sydney Sun\"}, {\"year\": 1842, \"total_results\": 889, \"total_articles\": 3815, \"proportion\": 0.23302752293577983, \"newspaper\": \"Sydney Morning Herald\"}, {\"year\": 1843, \"total_results\": 2136, \"total_articles\": 9178, \"proportion\": 0.23273044236217041, \"newspaper\": \"Sydney Morning Herald\"}, {\"year\": 1844, \"total_results\": 1927, \"total_articles\": 8143, \"proportion\": 0.23664497114085717, \"newspaper\": \"Sydney Morning Herald\"}, {\"year\": 1845, \"total_results\": 1954, \"total_articles\": 8205, \"proportion\": 0.23814747105423523, \"newspaper\": \"Sydney Morning Herald\"}, {\"year\": 1846, \"total_results\": 1998, \"total_articles\": 8058, \"proportion\": 0.2479523454951601, \"newspaper\": \"Sydney Morning Herald\"}, {\"year\": 1847, \"total_results\": 2101, \"total_articles\": 8391, \"proportion\": 0.25038731974734835, \"newspaper\": \"Sydney Morning Herald\"}, {\"year\": 1848, \"total_results\": 2132, \"total_articles\": 8695, \"proportion\": 0.24519838987924095, \"newspaper\": \"Sydney Morning Herald\"}, {\"year\": 1849, \"total_results\": 2292, \"total_articles\": 8888, \"proportion\": 0.2578757875787579, \"newspaper\": \"Sydney Morning Herald\"}, {\"year\": 1850, \"total_results\": 2400, \"total_articles\": 9253, \"proportion\": 0.25937533772830434, \"newspaper\": \"Sydney Morning Herald\"}, {\"year\": 1851, \"total_results\": 2739, \"total_articles\": 9939, \"proportion\": 0.27558104437066105, \"newspaper\": \"Sydney Morning Herald\"}, {\"year\": 1852, \"total_results\": 2791, \"total_articles\": 10055, \"proportion\": 0.27757334659373445, \"newspaper\": \"Sydney Morning Herald\"}, {\"year\": 1853, \"total_results\": 3353, \"total_articles\": 10476, \"proportion\": 0.32006491027109585, \"newspaper\": \"Sydney Morning Herald\"}, {\"year\": 1854, \"total_results\": 4742, \"total_articles\": 14319, \"proportion\": 0.33116837768000557, \"newspaper\": \"Sydney Morning Herald\"}, {\"year\": 1855, \"total_results\": 5193, \"total_articles\": 16045, \"proportion\": 0.323652228108445, \"newspaper\": \"Sydney Morning Herald\"}, {\"year\": 1856, \"total_results\": 4936, \"total_articles\": 16377, \"proportion\": 0.3013983024974049, \"newspaper\": \"Sydney Morning Herald\"}, {\"year\": 1857, \"total_results\": 5317, \"total_articles\": 16960, \"proportion\": 0.313502358490566, \"newspaper\": \"Sydney Morning Herald\"}, {\"year\": 1858, \"total_results\": 5251, \"total_articles\": 16967, \"proportion\": 0.30948311428066244, \"newspaper\": \"Sydney Morning Herald\"}, {\"year\": 1859, \"total_results\": 5086, \"total_articles\": 17368, \"proportion\": 0.29283740211883924, \"newspaper\": \"Sydney Morning Herald\"}, {\"year\": 1860, \"total_results\": 5576, \"total_articles\": 18652, \"proportion\": 0.298949174351276, \"newspaper\": \"Sydney Morning Herald\"}, {\"year\": 1861, \"total_results\": 5501, \"total_articles\": 19369, \"proportion\": 0.28401053229387163, \"newspaper\": \"Sydney Morning Herald\"}, {\"year\": 1862, \"total_results\": 5135, \"total_articles\": 19270, \"proportion\": 0.266476388168137, \"newspaper\": \"Sydney Morning Herald\"}, {\"year\": 1863, \"total_results\": 5259, \"total_articles\": 20205, \"proportion\": 0.2602821083890126, \"newspaper\": \"Sydney Morning Herald\"}, {\"year\": 1864, \"total_results\": 5273, \"total_articles\": 20692, \"proportion\": 0.25483278561763, \"newspaper\": \"Sydney Morning Herald\"}, {\"year\": 1865, \"total_results\": 5119, \"total_articles\": 20227, \"proportion\": 0.2530775695852079, \"newspaper\": \"Sydney Morning Herald\"}, {\"year\": 1866, \"total_results\": 5281, \"total_articles\": 20113, \"proportion\": 0.2625664992790732, \"newspaper\": \"Sydney Morning Herald\"}, {\"year\": 1867, \"total_results\": 5519, \"total_articles\": 21024, \"proportion\": 0.2625095129375951, \"newspaper\": \"Sydney Morning Herald\"}, {\"year\": 1868, \"total_results\": 5413, \"total_articles\": 21267, \"proportion\": 0.25452579113180046, \"newspaper\": \"Sydney Morning Herald\"}, {\"year\": 1869, \"total_results\": 5528, \"total_articles\": 21656, \"proportion\": 0.25526413003324716, \"newspaper\": \"Sydney Morning Herald\"}, {\"year\": 1870, \"total_results\": 5723, \"total_articles\": 21778, \"proportion\": 0.2627881348149509, \"newspaper\": \"Sydney Morning Herald\"}, {\"year\": 1871, \"total_results\": 5730, \"total_articles\": 21415, \"proportion\": 0.267569460658417, \"newspaper\": \"Sydney Morning Herald\"}, {\"year\": 1872, \"total_results\": 5955, \"total_articles\": 20594, \"proportion\": 0.28916189181314944, \"newspaper\": \"Sydney Morning Herald\"}, {\"year\": 1873, \"total_results\": 6121, \"total_articles\": 22009, \"proportion\": 0.2781134990231269, \"newspaper\": \"Sydney Morning Herald\"}, {\"year\": 1874, \"total_results\": 6465, \"total_articles\": 22864, \"proportion\": 0.282758922323303, \"newspaper\": \"Sydney Morning Herald\"}, {\"year\": 1875, \"total_results\": 6638, \"total_articles\": 22620, \"proportion\": 0.2934571175950486, \"newspaper\": \"Sydney Morning Herald\"}, {\"year\": 1876, \"total_results\": 6290, \"total_articles\": 22119, \"proportion\": 0.28437090284370903, \"newspaper\": \"Sydney Morning Herald\"}, {\"year\": 1877, \"total_results\": 6694, \"total_articles\": 22224, \"proportion\": 0.30120590352771776, \"newspaper\": \"Sydney Morning Herald\"}, {\"year\": 1878, \"total_results\": 7236, \"total_articles\": 24945, \"proportion\": 0.2900781719783524, \"newspaper\": \"Sydney Morning Herald\"}, {\"year\": 1879, \"total_results\": 7361, \"total_articles\": 26778, \"proportion\": 0.27488983493912916, \"newspaper\": \"Sydney Morning Herald\"}, {\"year\": 1880, \"total_results\": 7393, \"total_articles\": 30084, \"proportion\": 0.24574524664273367, \"newspaper\": \"Sydney Morning Herald\"}, {\"year\": 1881, \"total_results\": 8013, \"total_articles\": 29411, \"proportion\": 0.2724490836761756, \"newspaper\": \"Sydney Morning Herald\"}, {\"year\": 1882, \"total_results\": 8421, \"total_articles\": 28221, \"proportion\": 0.2983948123737642, \"newspaper\": \"Sydney Morning Herald\"}, {\"year\": 1883, \"total_results\": 9344, \"total_articles\": 31012, \"proportion\": 0.30130272152715076, \"newspaper\": \"Sydney Morning Herald\"}, {\"year\": 1884, \"total_results\": 9851, \"total_articles\": 32517, \"proportion\": 0.3029492265584156, \"newspaper\": \"Sydney Morning Herald\"}, {\"year\": 1885, \"total_results\": 10681, \"total_articles\": 34340, \"proportion\": 0.3110366919044846, \"newspaper\": \"Sydney Morning Herald\"}, {\"year\": 1886, \"total_results\": 11763, \"total_articles\": 37973, \"proportion\": 0.3097727332578411, \"newspaper\": \"Sydney Morning Herald\"}, {\"year\": 1887, \"total_results\": 11282, \"total_articles\": 39957, \"proportion\": 0.2823535300447982, \"newspaper\": \"Sydney Morning Herald\"}, {\"year\": 1888, \"total_results\": 12346, \"total_articles\": 43952, \"proportion\": 0.28089734255551513, \"newspaper\": \"Sydney Morning Herald\"}, {\"year\": 1889, \"total_results\": 12585, \"total_articles\": 47163, \"proportion\": 0.266840531772788, \"newspaper\": \"Sydney Morning Herald\"}, {\"year\": 1890, \"total_results\": 13178, \"total_articles\": 49542, \"proportion\": 0.2659965281982964, \"newspaper\": \"Sydney Morning Herald\"}, {\"year\": 1891, \"total_results\": 11752, \"total_articles\": 44992, \"proportion\": 0.2612019914651494, \"newspaper\": \"Sydney Morning Herald\"}, {\"year\": 1892, \"total_results\": 12080, \"total_articles\": 43389, \"proportion\": 0.27841157897162877, \"newspaper\": \"Sydney Morning Herald\"}, {\"year\": 1893, \"total_results\": 11634, \"total_articles\": 48108, \"proportion\": 0.2418308805188326, \"newspaper\": \"Sydney Morning Herald\"}, {\"year\": 1894, \"total_results\": 11713, \"total_articles\": 52110, \"proportion\": 0.22477451544809057, \"newspaper\": \"Sydney Morning Herald\"}, {\"year\": 1895, \"total_results\": 11364, \"total_articles\": 50295, \"proportion\": 0.2259469132120489, \"newspaper\": \"Sydney Morning Herald\"}, {\"year\": 1896, \"total_results\": 12224, \"total_articles\": 52479, \"proportion\": 0.23293126774519332, \"newspaper\": \"Sydney Morning Herald\"}, {\"year\": 1897, \"total_results\": 12088, \"total_articles\": 53903, \"proportion\": 0.22425467970242843, \"newspaper\": \"Sydney Morning Herald\"}, {\"year\": 1898, \"total_results\": 12376, \"total_articles\": 60637, \"proportion\": 0.20409980704850175, \"newspaper\": \"Sydney Morning Herald\"}, {\"year\": 1899, \"total_results\": 14024, \"total_articles\": 66406, \"proportion\": 0.21118573622865403, \"newspaper\": \"Sydney Morning Herald\"}, {\"year\": 1900, \"total_results\": 15396, \"total_articles\": 74506, \"proportion\": 0.2066410758865058, \"newspaper\": \"Sydney Morning Herald\"}, {\"year\": 1901, \"total_results\": 17154, \"total_articles\": 75727, \"proportion\": 0.22652422517728155, \"newspaper\": \"Sydney Morning Herald\"}, {\"year\": 1902, \"total_results\": 18563, \"total_articles\": 78991, \"proportion\": 0.23500145586206023, \"newspaper\": \"Sydney Morning Herald\"}, {\"year\": 1903, \"total_results\": 17792, \"total_articles\": 81108, \"proportion\": 0.2193618385362726, \"newspaper\": \"Sydney Morning Herald\"}, {\"year\": 1904, \"total_results\": 17046, \"total_articles\": 78359, \"proportion\": 0.2175372324812721, \"newspaper\": \"Sydney Morning Herald\"}, {\"year\": 1905, \"total_results\": 16883, \"total_articles\": 78339, \"proportion\": 0.2155120693396648, \"newspaper\": \"Sydney Morning Herald\"}, {\"year\": 1906, \"total_results\": 18556, \"total_articles\": 87256, \"proportion\": 0.21266159347208216, \"newspaper\": \"Sydney Morning Herald\"}, {\"year\": 1907, \"total_results\": 20098, \"total_articles\": 88945, \"proportion\": 0.2259598628365844, \"newspaper\": \"Sydney Morning Herald\"}, {\"year\": 1908, \"total_results\": 20264, \"total_articles\": 92758, \"proportion\": 0.2184609413743289, \"newspaper\": \"Sydney Morning Herald\"}, {\"year\": 1909, \"total_results\": 21141, \"total_articles\": 91878, \"proportion\": 0.23009860902501142, \"newspaper\": \"Sydney Morning Herald\"}, {\"year\": 1910, \"total_results\": 22079, \"total_articles\": 97509, \"proportion\": 0.2264303807853634, \"newspaper\": \"Sydney Morning Herald\"}, {\"year\": 1911, \"total_results\": 22792, \"total_articles\": 96528, \"proportion\": 0.23611801757003148, \"newspaper\": \"Sydney Morning Herald\"}, {\"year\": 1912, \"total_results\": 22378, \"total_articles\": 94942, \"proportion\": 0.23570179688652018, \"newspaper\": \"Sydney Morning Herald\"}, {\"year\": 1913, \"total_results\": 22466, \"total_articles\": 95855, \"proportion\": 0.2343748369933754, \"newspaper\": \"Sydney Morning Herald\"}, {\"year\": 1914, \"total_results\": 19102, \"total_articles\": 90179, \"proportion\": 0.21182315173155614, \"newspaper\": \"Sydney Morning Herald\"}, {\"year\": 1915, \"total_results\": 16453, \"total_articles\": 81653, \"proportion\": 0.20149902636767786, \"newspaper\": \"Sydney Morning Herald\"}, {\"year\": 1916, \"total_results\": 16435, \"total_articles\": 74196, \"proportion\": 0.22150789799989218, \"newspaper\": \"Sydney Morning Herald\"}, {\"year\": 1917, \"total_results\": 14957, \"total_articles\": 61321, \"proportion\": 0.24391317819344108, \"newspaper\": \"Sydney Morning Herald\"}, {\"year\": 1918, \"total_results\": 13053, \"total_articles\": 55565, \"proportion\": 0.23491406460901645, \"newspaper\": \"Sydney Morning Herald\"}, {\"year\": 1919, \"total_results\": 13383, \"total_articles\": 57563, \"proportion\": 0.23249309452252315, \"newspaper\": \"Sydney Morning Herald\"}, {\"year\": 1920, \"total_results\": 13845, \"total_articles\": 57435, \"proportion\": 0.24105510577174197, \"newspaper\": \"Sydney Morning Herald\"}, {\"year\": 1921, \"total_results\": 15036, \"total_articles\": 61958, \"proportion\": 0.24268052551728592, \"newspaper\": \"Sydney Morning Herald\"}, {\"year\": 1922, \"total_results\": 16187, \"total_articles\": 68646, \"proportion\": 0.2358039798385922, \"newspaper\": \"Sydney Morning Herald\"}, {\"year\": 1923, \"total_results\": 16724, \"total_articles\": 75298, \"proportion\": 0.2221041727535924, \"newspaper\": \"Sydney Morning Herald\"}, {\"year\": 1924, \"total_results\": 16502, \"total_articles\": 78306, \"proportion\": 0.21073736367583581, \"newspaper\": \"Sydney Morning Herald\"}, {\"year\": 1925, \"total_results\": 17224, \"total_articles\": 83382, \"proportion\": 0.20656736465903913, \"newspaper\": \"Sydney Morning Herald\"}, {\"year\": 1926, \"total_results\": 17608, \"total_articles\": 84749, \"proportion\": 0.20776646332110113, \"newspaper\": \"Sydney Morning Herald\"}, {\"year\": 1927, \"total_results\": 18186, \"total_articles\": 91432, \"proportion\": 0.19890191617814332, \"newspaper\": \"Sydney Morning Herald\"}, {\"year\": 1928, \"total_results\": 17467, \"total_articles\": 92258, \"proportion\": 0.1893277547746537, \"newspaper\": \"Sydney Morning Herald\"}, {\"year\": 1929, \"total_results\": 19395, \"total_articles\": 98136, \"proportion\": 0.1976338958180484, \"newspaper\": \"Sydney Morning Herald\"}, {\"year\": 1930, \"total_results\": 19674, \"total_articles\": 102209, \"proportion\": 0.19248794137502567, \"newspaper\": \"Sydney Morning Herald\"}, {\"year\": 1931, \"total_results\": 17547, \"total_articles\": 94923, \"proportion\": 0.1848550930754401, \"newspaper\": \"Sydney Morning Herald\"}, {\"year\": 1932, \"total_results\": 17511, \"total_articles\": 95369, \"proportion\": 0.18361312376138997, \"newspaper\": \"Sydney Morning Herald\"}, {\"year\": 1933, \"total_results\": 17775, \"total_articles\": 98589, \"proportion\": 0.1802939476006451, \"newspaper\": \"Sydney Morning Herald\"}, {\"year\": 1934, \"total_results\": 17870, \"total_articles\": 105398, \"proportion\": 0.16954780925634264, \"newspaper\": \"Sydney Morning Herald\"}, {\"year\": 1935, \"total_results\": 17601, \"total_articles\": 104690, \"proportion\": 0.16812494029993313, \"newspaper\": \"Sydney Morning Herald\"}, {\"year\": 1936, \"total_results\": 20118, \"total_articles\": 106652, \"proportion\": 0.18863218692570227, \"newspaper\": \"Sydney Morning Herald\"}, {\"year\": 1937, \"total_results\": 19183, \"total_articles\": 104304, \"proportion\": 0.18391432735082067, \"newspaper\": \"Sydney Morning Herald\"}, {\"year\": 1938, \"total_results\": 18062, \"total_articles\": 109361, \"proportion\": 0.16515942612082918, \"newspaper\": \"Sydney Morning Herald\"}, {\"year\": 1939, \"total_results\": 15968, \"total_articles\": 100525, \"proportion\": 0.15884605819447897, \"newspaper\": \"Sydney Morning Herald\"}, {\"year\": 1940, \"total_results\": 12938, \"total_articles\": 77634, \"proportion\": 0.16665378571244557, \"newspaper\": \"Sydney Morning Herald\"}, {\"year\": 1941, \"total_results\": 12271, \"total_articles\": 67293, \"proportion\": 0.18235180479396074, \"newspaper\": \"Sydney Morning Herald\"}, {\"year\": 1942, \"total_results\": 10856, \"total_articles\": 51184, \"proportion\": 0.21209753047827445, \"newspaper\": \"Sydney Morning Herald\"}, {\"year\": 1943, \"total_results\": 10687, \"total_articles\": 46904, \"proportion\": 0.22784837114105408, \"newspaper\": \"Sydney Morning Herald\"}, {\"year\": 1944, \"total_results\": 8980, \"total_articles\": 44751, \"proportion\": 0.20066590690710823, \"newspaper\": \"Sydney Morning Herald\"}, {\"year\": 1945, \"total_results\": 11486, \"total_articles\": 50250, \"proportion\": 0.2285771144278607, \"newspaper\": \"Sydney Morning Herald\"}, {\"year\": 1946, \"total_results\": 13423, \"total_articles\": 56798, \"proportion\": 0.2363287439698581, \"newspaper\": \"Sydney Morning Herald\"}, {\"year\": 1947, \"total_results\": 14478, \"total_articles\": 61107, \"proportion\": 0.2369286661102656, \"newspaper\": \"Sydney Morning Herald\"}, {\"year\": 1948, \"total_results\": 10197, \"total_articles\": 45564, \"proportion\": 0.22379510139583883, \"newspaper\": \"Sydney Morning Herald\"}, {\"year\": 1949, \"total_results\": 10810, \"total_articles\": 51141, \"proportion\": 0.21137639076279308, \"newspaper\": \"Sydney Morning Herald\"}, {\"year\": 1950, \"total_results\": 12065, \"total_articles\": 58692, \"proportion\": 0.20556464254072104, \"newspaper\": \"Sydney Morning Herald\"}, {\"year\": 1951, \"total_results\": 11759, \"total_articles\": 55527, \"proportion\": 0.21177085021701153, \"newspaper\": \"Sydney Morning Herald\"}, {\"year\": 1952, \"total_results\": 11079, \"total_articles\": 53589, \"proportion\": 0.20674018921793652, \"newspaper\": \"Sydney Morning Herald\"}, {\"year\": 1953, \"total_results\": 11479, \"total_articles\": 58629, \"proportion\": 0.19579047911443143, \"newspaper\": \"Sydney Morning Herald\"}, {\"year\": 1954, \"total_results\": 13998, \"total_articles\": 66329, \"proportion\": 0.2110389120897345, \"newspaper\": \"Sydney Morning Herald\"}, {\"year\": 1939, \"total_results\": 923, \"total_articles\": 2147, \"proportion\": 0.42990218910107125, \"newspaper\": \"Tribune\"}, {\"year\": 1940, \"total_results\": 1387, \"total_articles\": 2814, \"proportion\": 0.49289267945984366, \"newspaper\": \"Tribune\"}, {\"year\": 1941, \"total_results\": 241, \"total_articles\": 455, \"proportion\": 0.5296703296703297, \"newspaper\": \"Tribune\"}, {\"year\": 1942, \"total_results\": 339, \"total_articles\": 652, \"proportion\": 0.5199386503067485, \"newspaper\": \"Tribune\"}, {\"year\": 1943, \"total_results\": 1020, \"total_articles\": 2009, \"proportion\": 0.507715281234445, \"newspaper\": \"Tribune\"}, {\"year\": 1944, \"total_results\": 1603, \"total_articles\": 3425, \"proportion\": 0.46802919708029195, \"newspaper\": \"Tribune\"}, {\"year\": 1945, \"total_results\": 2721, \"total_articles\": 6861, \"proportion\": 0.3965894184521207, \"newspaper\": \"Tribune\"}, {\"year\": 1946, \"total_results\": 3477, \"total_articles\": 7531, \"proportion\": 0.46169167441242864, \"newspaper\": \"Tribune\"}, {\"year\": 1947, \"total_results\": 2860, \"total_articles\": 6347, \"proportion\": 0.4506065857885615, \"newspaper\": \"Tribune\"}, {\"year\": 1948, \"total_results\": 3138, \"total_articles\": 6561, \"proportion\": 0.47828074988568814, \"newspaper\": \"Tribune\"}, {\"year\": 1949, \"total_results\": 3502, \"total_articles\": 6571, \"proportion\": 0.5329478009435398, \"newspaper\": \"Tribune\"}, {\"year\": 1950, \"total_results\": 2994, \"total_articles\": 6291, \"proportion\": 0.4759179780639008, \"newspaper\": \"Tribune\"}, {\"year\": 1951, \"total_results\": 2115, \"total_articles\": 4338, \"proportion\": 0.487551867219917, \"newspaper\": \"Tribune\"}, {\"year\": 1952, \"total_results\": 2389, \"total_articles\": 4908, \"proportion\": 0.4867563162184189, \"newspaper\": \"Tribune\"}, {\"year\": 1953, \"total_results\": 2323, \"total_articles\": 4568, \"proportion\": 0.5085376532399299, \"newspaper\": \"Tribune\"}, {\"year\": 1954, \"total_results\": 2101, \"total_articles\": 4327, \"proportion\": 0.48555581234111395, \"newspaper\": \"Tribune\"}, {\"year\": 1955, \"total_results\": 1858, \"total_articles\": 3979, \"proportion\": 0.4669514953505906, \"newspaper\": \"Tribune\"}, {\"year\": 1956, \"total_results\": 1856, \"total_articles\": 3800, \"proportion\": 0.4884210526315789, \"newspaper\": \"Tribune\"}, {\"year\": 1957, \"total_results\": 1789, \"total_articles\": 3768, \"proportion\": 0.4747876857749469, \"newspaper\": \"Tribune\"}, {\"year\": 1958, \"total_results\": 2013, \"total_articles\": 4132, \"proportion\": 0.4871732817037754, \"newspaper\": \"Tribune\"}, {\"year\": 1959, \"total_results\": 1981, \"total_articles\": 4016, \"proportion\": 0.4932768924302789, \"newspaper\": \"Tribune\"}, {\"year\": 1960, \"total_results\": 1890, \"total_articles\": 3637, \"proportion\": 0.5196590596645587, \"newspaper\": \"Tribune\"}, {\"year\": 1961, \"total_results\": 1945, \"total_articles\": 3306, \"proportion\": 0.58832425892317, \"newspaper\": \"Tribune\"}, {\"year\": 1962, \"total_results\": 1796, \"total_articles\": 3191, \"proportion\": 0.5628329677217173, \"newspaper\": \"Tribune\"}, {\"year\": 1963, \"total_results\": 1675, \"total_articles\": 3021, \"proportion\": 0.5544521681562397, \"newspaper\": \"Tribune\"}, {\"year\": 1964, \"total_results\": 1711, \"total_articles\": 3206, \"proportion\": 0.533686837180287, \"newspaper\": \"Tribune\"}, {\"year\": 1965, \"total_results\": 1383, \"total_articles\": 2895, \"proportion\": 0.47772020725388603, \"newspaper\": \"Tribune\"}, {\"year\": 1966, \"total_results\": 1290, \"total_articles\": 3016, \"proportion\": 0.4277188328912467, \"newspaper\": \"Tribune\"}, {\"year\": 1967, \"total_results\": 1300, \"total_articles\": 3087, \"proportion\": 0.4211208292840946, \"newspaper\": \"Tribune\"}, {\"year\": 1968, \"total_results\": 1360, \"total_articles\": 3134, \"proportion\": 0.4339502233567326, \"newspaper\": \"Tribune\"}, {\"year\": 1969, \"total_results\": 1382, \"total_articles\": 3054, \"proportion\": 0.45252128356254095, \"newspaper\": \"Tribune\"}, {\"year\": 1970, \"total_results\": 1337, \"total_articles\": 2803, \"proportion\": 0.4769889404209775, \"newspaper\": \"Tribune\"}, {\"year\": 1971, \"total_results\": 1278, \"total_articles\": 2420, \"proportion\": 0.528099173553719, \"newspaper\": \"Tribune\"}, {\"year\": 1972, \"total_results\": 1316, \"total_articles\": 2463, \"proportion\": 0.534307754770605, \"newspaper\": \"Tribune\"}, {\"year\": 1973, \"total_results\": 1277, \"total_articles\": 2150, \"proportion\": 0.593953488372093, \"newspaper\": \"Tribune\"}, {\"year\": 1974, \"total_results\": 1334, \"total_articles\": 2211, \"proportion\": 0.6033469018543646, \"newspaper\": \"Tribune\"}, {\"year\": 1975, \"total_results\": 1367, \"total_articles\": 2109, \"proportion\": 0.6481744902797535, \"newspaper\": \"Tribune\"}, {\"year\": 1976, \"total_results\": 1384, \"total_articles\": 2460, \"proportion\": 0.5626016260162602, \"newspaper\": \"Tribune\"}, {\"year\": 1977, \"total_results\": 1256, \"total_articles\": 2407, \"proportion\": 0.5218113834648941, \"newspaper\": \"Tribune\"}, {\"year\": 1978, \"total_results\": 1393, \"total_articles\": 2755, \"proportion\": 0.5056261343012705, \"newspaper\": \"Tribune\"}, {\"year\": 1979, \"total_results\": 1637, \"total_articles\": 2973, \"proportion\": 0.5506222670702994, \"newspaper\": \"Tribune\"}, {\"year\": 1980, \"total_results\": 1622, \"total_articles\": 3172, \"proportion\": 0.5113493064312736, \"newspaper\": \"Tribune\"}, {\"year\": 1981, \"total_results\": 1411, \"total_articles\": 2758, \"proportion\": 0.5116026105873822, \"newspaper\": \"Tribune\"}, {\"year\": 1982, \"total_results\": 1236, \"total_articles\": 2381, \"proportion\": 0.5191096178076439, \"newspaper\": \"Tribune\"}, {\"year\": 1983, \"total_results\": 1243, \"total_articles\": 2568, \"proportion\": 0.4840342679127726, \"newspaper\": \"Tribune\"}, {\"year\": 1984, \"total_results\": 1143, \"total_articles\": 2314, \"proportion\": 0.4939498703543647, \"newspaper\": \"Tribune\"}, {\"year\": 1985, \"total_results\": 1352, \"total_articles\": 2764, \"proportion\": 0.48914616497829233, \"newspaper\": \"Tribune\"}, {\"year\": 1986, \"total_results\": 1372, \"total_articles\": 2589, \"proportion\": 0.529934337582078, \"newspaper\": \"Tribune\"}, {\"year\": 1987, \"total_results\": 1142, \"total_articles\": 2402, \"proportion\": 0.47543713572023316, \"newspaper\": \"Tribune\"}, {\"year\": 1988, \"total_results\": 823, \"total_articles\": 1924, \"proportion\": 0.42775467775467774, \"newspaper\": \"Tribune\"}, {\"year\": 1989, \"total_results\": 835, \"total_articles\": 1847, \"proportion\": 0.45208446128857604, \"newspaper\": \"Tribune\"}, {\"year\": 1990, \"total_results\": 803, \"total_articles\": 1888, \"proportion\": 0.4253177966101695, \"newspaper\": \"Tribune\"}, {\"year\": 1991, \"total_results\": 186, \"total_articles\": 406, \"proportion\": 0.458128078817734, \"newspaper\": \"Tribune\"}]}}, {\"mode\": \"vega-lite\"});\n",
       "</script>"
      ],
      "text/plain": [
       "alt.VConcatChart(...)"
      ]
     },
     "execution_count": 31,
     "metadata": {},
     "output_type": "execute_result"
    }
   ],
   "source": [
    "# Chart totals\n",
    "chart7 = make_chart_totals(df_newspapers, \"newspaper\", \"Newspaper\")\n",
    "\n",
    "# Chart proportions\n",
    "chart8 = make_chart_proportions(df_newspapers, \"newspaper\", \"Newspaper\")\n",
    "\n",
    "# Shorthand way of concatenating the two charts (note there's only one legend)\n",
    "chart7 & chart8"
   ]
  },
  {
   "cell_type": "markdown",
   "metadata": {},
   "source": [
    "## 8. Chart changes in illustration types over time\n",
    "\n",
    "Let's try something a bit different and explore the *format* of articles rather than their text content. Trove includes a couple of facets that enable you to filter your search by type of illustration. First of all you have to set the `illustrated` facet to `true`, then you can specify a type of illustration using the `illtype` facet. Possible values include:\n",
    "\n",
    "* Photo\n",
    "* Cartoon\n",
    "* Illustration\n",
    "* Map\n",
    "* Graph\n",
    "\n",
    "First we'll create a list with all the illustration types we're interesed in."
   ]
  },
  {
   "cell_type": "code",
   "execution_count": 32,
   "metadata": {},
   "outputs": [],
   "source": [
    "ill_types = [\"Photo\", \"Cartoon\", \"Illustration\", \"Map\", \"Graph\"]"
   ]
  },
  {
   "cell_type": "markdown",
   "metadata": {},
   "source": [
    "Then we'll define a function to loop through the illustration types getting the year by year results of each."
   ]
  },
  {
   "cell_type": "code",
   "execution_count": 33,
   "metadata": {},
   "outputs": [],
   "source": [
    "def get_ill_facets(params, ill_types):\n",
    "    \"\"\"\n",
    "    Loop through the supplied list of illustration types getting the year by year results.\n",
    "    Parameters:\n",
    "        params - basic parameters to send to the API\n",
    "        ill_types - a list of illustration types to use with the ill_type facet\n",
    "    Returns:\n",
    "        A dataframe\n",
    "    \"\"\"\n",
    "    dfs = []\n",
    "    ill_params = params.copy()\n",
    "\n",
    "    # No query! Set q to a single space for everything\n",
    "    ill_params[\"q\"] = \" \"\n",
    "\n",
    "    # Set the illustrated facet to true - necessary before setting ill_type\n",
    "    ill_params[\"l-illustrated\"] = \"true\"\n",
    "\n",
    "    # Loop through the illustration types\n",
    "    for ill_type in ill_types:\n",
    "\n",
    "        # Set the ill_type facet to the current illustration type\n",
    "        ill_params[\"l-illustrationType\"] = ill_type\n",
    "\n",
    "        # Get the year by year data\n",
    "        facet_data = get_facet_data(ill_params)\n",
    "\n",
    "        # Convert to a dataframe\n",
    "        df = pd.DataFrame(facet_data)\n",
    "\n",
    "        # Create an ill_type column and set its value to the illustration type\n",
    "        df[\"ill_type\"] = ill_type\n",
    "\n",
    "        # Add current df to the list of dfs\n",
    "        dfs.append(df)\n",
    "\n",
    "    # Concatenate all the dfs and return the result\n",
    "    return pd.concat(dfs)"
   ]
  },
  {
   "cell_type": "markdown",
   "metadata": {},
   "source": [
    "Get the data!"
   ]
  },
  {
   "cell_type": "code",
   "execution_count": 34,
   "metadata": {},
   "outputs": [],
   "source": [
    "df_illtypes = get_ill_facets(params, ill_types)"
   ]
  },
  {
   "cell_type": "markdown",
   "metadata": {},
   "source": [
    "To calculate proportions for these searches we'll just use the total number of articles across all of Trove we collected above. "
   ]
  },
  {
   "cell_type": "code",
   "execution_count": 35,
   "metadata": {},
   "outputs": [],
   "source": [
    "# Merge results with total articles and calculate proportions\n",
    "df_illtypes_merged = merge_df_with_total(df_illtypes, df_total)"
   ]
  },
  {
   "cell_type": "code",
   "execution_count": 36,
   "metadata": {},
   "outputs": [
    {
     "data": {
      "text/html": [
       "\n",
       "<style>\n",
       "  #altair-viz-f09e0171954140efb816394327460e29.vega-embed {\n",
       "    width: 100%;\n",
       "    display: flex;\n",
       "  }\n",
       "\n",
       "  #altair-viz-f09e0171954140efb816394327460e29.vega-embed details,\n",
       "  #altair-viz-f09e0171954140efb816394327460e29.vega-embed details summary {\n",
       "    position: relative;\n",
       "  }\n",
       "</style>\n",
       "<div id=\"altair-viz-f09e0171954140efb816394327460e29\"></div>\n",
       "<script type=\"text/javascript\">\n",
       "  var VEGA_DEBUG = (typeof VEGA_DEBUG == \"undefined\") ? {} : VEGA_DEBUG;\n",
       "  (function(spec, embedOpt){\n",
       "    let outputDiv = document.currentScript.previousElementSibling;\n",
       "    if (outputDiv.id !== \"altair-viz-f09e0171954140efb816394327460e29\") {\n",
       "      outputDiv = document.getElementById(\"altair-viz-f09e0171954140efb816394327460e29\");\n",
       "    }\n",
       "    const paths = {\n",
       "      \"vega\": \"https://cdn.jsdelivr.net/npm/vega@5?noext\",\n",
       "      \"vega-lib\": \"https://cdn.jsdelivr.net/npm/vega-lib?noext\",\n",
       "      \"vega-lite\": \"https://cdn.jsdelivr.net/npm/vega-lite@5.20.1?noext\",\n",
       "      \"vega-embed\": \"https://cdn.jsdelivr.net/npm/vega-embed@6?noext\",\n",
       "    };\n",
       "\n",
       "    function maybeLoadScript(lib, version) {\n",
       "      var key = `${lib.replace(\"-\", \"\")}_version`;\n",
       "      return (VEGA_DEBUG[key] == version) ?\n",
       "        Promise.resolve(paths[lib]) :\n",
       "        new Promise(function(resolve, reject) {\n",
       "          var s = document.createElement('script');\n",
       "          document.getElementsByTagName(\"head\")[0].appendChild(s);\n",
       "          s.async = true;\n",
       "          s.onload = () => {\n",
       "            VEGA_DEBUG[key] = version;\n",
       "            return resolve(paths[lib]);\n",
       "          };\n",
       "          s.onerror = () => reject(`Error loading script: ${paths[lib]}`);\n",
       "          s.src = paths[lib];\n",
       "        });\n",
       "    }\n",
       "\n",
       "    function showError(err) {\n",
       "      outputDiv.innerHTML = `<div class=\"error\" style=\"color:red;\">${err}</div>`;\n",
       "      throw err;\n",
       "    }\n",
       "\n",
       "    function displayChart(vegaEmbed) {\n",
       "      vegaEmbed(outputDiv, spec, embedOpt)\n",
       "        .catch(err => showError(`Javascript Error: ${err.message}<br>This usually means there's a typo in your chart specification. See the javascript console for the full traceback.`));\n",
       "    }\n",
       "\n",
       "    if(typeof define === \"function\" && define.amd) {\n",
       "      requirejs.config({paths});\n",
       "      require([\"vega-embed\"], displayChart, err => showError(`Error loading script: ${err.message}`));\n",
       "    } else {\n",
       "      maybeLoadScript(\"vega\", \"5\")\n",
       "        .then(() => maybeLoadScript(\"vega-lite\", \"5.20.1\"))\n",
       "        .then(() => maybeLoadScript(\"vega-embed\", \"6\"))\n",
       "        .catch(showError)\n",
       "        .then(() => displayChart(vegaEmbed));\n",
       "    }\n",
       "  })({\"config\": {\"view\": {\"continuousWidth\": 300, \"continuousHeight\": 300}}, \"vconcat\": [{\"mark\": {\"type\": \"line\", \"point\": true}, \"encoding\": {\"color\": {\"field\": \"ill_type\", \"legend\": {\"title\": \"Type\"}, \"type\": \"nominal\"}, \"tooltip\": [{\"field\": \"ill_type\", \"title\": \"Type\", \"type\": \"nominal\"}, {\"field\": \"year\", \"title\": \"Year\", \"type\": \"quantitative\"}, {\"field\": \"total_results\", \"format\": \",\", \"title\": \"Articles\", \"type\": \"quantitative\"}], \"x\": {\"axis\": {\"format\": \"c\", \"title\": \"Year\"}, \"field\": \"year\", \"type\": \"quantitative\"}, \"y\": {\"axis\": {\"format\": \",d\", \"title\": \"Number of articles\"}, \"field\": \"total_results\", \"type\": \"quantitative\"}}, \"height\": 250, \"width\": 700}, {\"mark\": {\"type\": \"line\", \"point\": true}, \"encoding\": {\"color\": {\"field\": \"ill_type\", \"legend\": {\"title\": \"Type\"}, \"type\": \"nominal\"}, \"tooltip\": [{\"field\": \"ill_type\", \"title\": \"Type\", \"type\": \"nominal\"}, {\"field\": \"year\", \"title\": \"Year\", \"type\": \"quantitative\"}, {\"field\": \"proportion\", \"format\": \"%\", \"title\": \"Proportion\", \"type\": \"quantitative\"}], \"x\": {\"axis\": {\"format\": \"c\", \"title\": \"Year\"}, \"field\": \"year\", \"type\": \"quantitative\"}, \"y\": {\"axis\": {\"format\": \"%\", \"title\": \"Proportion of articles\"}, \"field\": \"proportion\", \"stack\": null, \"type\": \"quantitative\"}}, \"height\": 250, \"width\": 700}], \"data\": {\"name\": \"data-ed0d7d9dc10b3d0bb93c68d221f588ea\"}, \"$schema\": \"https://vega.github.io/schema/vega-lite/v5.20.1.json\", \"datasets\": {\"data-ed0d7d9dc10b3d0bb93c68d221f588ea\": [{\"year\": 1828, \"total_results\": 1, \"ill_type\": \"Photo\", \"total_articles\": 7335, \"proportion\": 0.000136332651670075}, {\"year\": 1833, \"total_results\": 1, \"ill_type\": \"Photo\", \"total_articles\": 15622, \"proportion\": 6.401229035974907e-05}, {\"year\": 1834, \"total_results\": 4, \"ill_type\": \"Photo\", \"total_articles\": 18704, \"proportion\": 0.000213857998289136}, {\"year\": 1835, \"total_results\": 1, \"ill_type\": \"Photo\", \"total_articles\": 20389, \"proportion\": 4.9046054244935994e-05}, {\"year\": 1842, \"total_results\": 3, \"ill_type\": \"Photo\", \"total_articles\": 47934, \"proportion\": 6.258605582676179e-05}, {\"year\": 1843, \"total_results\": 1, \"ill_type\": \"Photo\", \"total_articles\": 49913, \"proportion\": 2.0034860657544126e-05}, {\"year\": 1844, \"total_results\": 1, \"ill_type\": \"Photo\", \"total_articles\": 54331, \"proportion\": 1.840569840422595e-05}, {\"year\": 1845, \"total_results\": 1, \"ill_type\": \"Photo\", \"total_articles\": 63389, \"proportion\": 1.5775607755288774e-05}, {\"year\": 1847, \"total_results\": 14, \"ill_type\": \"Photo\", \"total_articles\": 62767, \"proportion\": 0.0002230471426067838}, {\"year\": 1848, \"total_results\": 5, \"ill_type\": \"Photo\", \"total_articles\": 63463, \"proportion\": 7.878606432094291e-05}, {\"year\": 1849, \"total_results\": 10, \"ill_type\": \"Photo\", \"total_articles\": 62794, \"proportion\": 0.00015925088384240532}, {\"year\": 1850, \"total_results\": 3, \"ill_type\": \"Photo\", \"total_articles\": 81624, \"proportion\": 3.675389591296677e-05}, {\"year\": 1851, \"total_results\": 4, \"ill_type\": \"Photo\", \"total_articles\": 96566, \"proportion\": 4.142244682393389e-05}, {\"year\": 1853, \"total_results\": 1, \"ill_type\": \"Photo\", \"total_articles\": 96033, \"proportion\": 1.0413087167952683e-05}, {\"year\": 1854, \"total_results\": 1, \"ill_type\": \"Photo\", \"total_articles\": 118895, \"proportion\": 8.410782623323101e-06}, {\"year\": 1856, \"total_results\": 8, \"ill_type\": \"Photo\", \"total_articles\": 168695, \"proportion\": 4.742286374818459e-05}, {\"year\": 1857, \"total_results\": 6, \"ill_type\": \"Photo\", \"total_articles\": 175982, \"proportion\": 3.4094396017774545e-05}, {\"year\": 1858, \"total_results\": 4, \"ill_type\": \"Photo\", \"total_articles\": 182050, \"proportion\": 2.1971985718209283e-05}, {\"year\": 1859, \"total_results\": 14, \"ill_type\": \"Photo\", \"total_articles\": 208543, \"proportion\": 6.713243791448287e-05}, {\"year\": 1860, \"total_results\": 8, \"ill_type\": \"Photo\", \"total_articles\": 221733, \"proportion\": 3.6079428862641104e-05}, {\"year\": 1861, \"total_results\": 5, \"ill_type\": \"Photo\", \"total_articles\": 245273, \"proportion\": 2.038544805176273e-05}, {\"year\": 1862, \"total_results\": 27, \"ill_type\": \"Photo\", \"total_articles\": 252981, \"proportion\": 0.00010672738268881852}, {\"year\": 1863, \"total_results\": 14, \"ill_type\": \"Photo\", \"total_articles\": 260291, \"proportion\": 5.378595495042088e-05}, {\"year\": 1864, \"total_results\": 10, \"ill_type\": \"Photo\", \"total_articles\": 274076, \"proportion\": 3.6486230096761485e-05}, {\"year\": 1865, \"total_results\": 4, \"ill_type\": \"Photo\", \"total_articles\": 292157, \"proportion\": 1.369126873564556e-05}, {\"year\": 1866, \"total_results\": 8, \"ill_type\": \"Photo\", \"total_articles\": 297673, \"proportion\": 2.6875128076782242e-05}, {\"year\": 1867, \"total_results\": 7, \"ill_type\": \"Photo\", \"total_articles\": 306399, \"proportion\": 2.2846027565364116e-05}, {\"year\": 1868, \"total_results\": 7, \"ill_type\": \"Photo\", \"total_articles\": 315179, \"proportion\": 2.2209601528020584e-05}, {\"year\": 1869, \"total_results\": 35, \"ill_type\": \"Photo\", \"total_articles\": 337323, \"proportion\": 0.00010375811907281745}, {\"year\": 1870, \"total_results\": 59, \"ill_type\": \"Photo\", \"total_articles\": 385289, \"proportion\": 0.00015313180495679865}, {\"year\": 1871, \"total_results\": 38, \"ill_type\": \"Photo\", \"total_articles\": 371982, \"proportion\": 0.00010215548064153642}, {\"year\": 1872, \"total_results\": 37, \"ill_type\": \"Photo\", \"total_articles\": 397020, \"proportion\": 9.31942975164979e-05}, {\"year\": 1873, \"total_results\": 69, \"ill_type\": \"Photo\", \"total_articles\": 430691, \"proportion\": 0.00016020766628510927}, {\"year\": 1874, \"total_results\": 59, \"ill_type\": \"Photo\", \"total_articles\": 445748, \"proportion\": 0.00013236178289078134}, {\"year\": 1875, \"total_results\": 107, \"ill_type\": \"Photo\", \"total_articles\": 482469, \"proportion\": 0.00022177590684582845}, {\"year\": 1876, \"total_results\": 63, \"ill_type\": \"Photo\", \"total_articles\": 494060, \"proportion\": 0.00012751487673561915}, {\"year\": 1877, \"total_results\": 104, \"ill_type\": \"Photo\", \"total_articles\": 509249, \"proportion\": 0.00020422229596916242}, {\"year\": 1878, \"total_results\": 94, \"ill_type\": \"Photo\", \"total_articles\": 578926, \"proportion\": 0.0001623696292790443}, {\"year\": 1879, \"total_results\": 158, \"ill_type\": \"Photo\", \"total_articles\": 620648, \"proportion\": 0.00025457264020829843}, {\"year\": 1880, \"total_results\": 123, \"ill_type\": \"Photo\", \"total_articles\": 635861, \"proportion\": 0.000193438503069067}, {\"year\": 1881, \"total_results\": 223, \"ill_type\": \"Photo\", \"total_articles\": 679154, \"proportion\": 0.0003283496821045006}, {\"year\": 1882, \"total_results\": 181, \"ill_type\": \"Photo\", \"total_articles\": 764271, \"proportion\": 0.0002368269893794217}, {\"year\": 1883, \"total_results\": 151, \"ill_type\": \"Photo\", \"total_articles\": 795970, \"proportion\": 0.0001897056421724437}, {\"year\": 1884, \"total_results\": 326, \"ill_type\": \"Photo\", \"total_articles\": 898376, \"proportion\": 0.00036287701363348974}, {\"year\": 1885, \"total_results\": 357, \"ill_type\": \"Photo\", \"total_articles\": 952777, \"proportion\": 0.0003746941834238232}, {\"year\": 1886, \"total_results\": 235, \"ill_type\": \"Photo\", \"total_articles\": 1031192, \"proportion\": 0.00022789160505512067}, {\"year\": 1887, \"total_results\": 565, \"ill_type\": \"Photo\", \"total_articles\": 1070273, \"proportion\": 0.0005279026939855532}, {\"year\": 1888, \"total_results\": 633, \"ill_type\": \"Photo\", \"total_articles\": 1199895, \"proportion\": 0.0005275461602890253}, {\"year\": 1889, \"total_results\": 701, \"ill_type\": \"Photo\", \"total_articles\": 1288503, \"proportion\": 0.0005440421947019138}, {\"year\": 1890, \"total_results\": 1048, \"ill_type\": \"Photo\", \"total_articles\": 1403249, \"proportion\": 0.0007468382304209731}, {\"year\": 1891, \"total_results\": 1162, \"ill_type\": \"Photo\", \"total_articles\": 1473337, \"proportion\": 0.0007886858200126651}, {\"year\": 1892, \"total_results\": 1226, \"ill_type\": \"Photo\", \"total_articles\": 1532205, \"proportion\": 0.0008001540263868085}, {\"year\": 1893, \"total_results\": 1596, \"ill_type\": \"Photo\", \"total_articles\": 1560089, \"proportion\": 0.0010230185585565952}, {\"year\": 1894, \"total_results\": 1994, \"ill_type\": \"Photo\", \"total_articles\": 1620538, \"proportion\": 0.0012304555647568893}, {\"year\": 1895, \"total_results\": 2917, \"ill_type\": \"Photo\", \"total_articles\": 1738871, \"proportion\": 0.0016775252448283974}, {\"year\": 1896, \"total_results\": 3989, \"ill_type\": \"Photo\", \"total_articles\": 1858409, \"proportion\": 0.002146459686753562}, {\"year\": 1897, \"total_results\": 5552, \"ill_type\": \"Photo\", \"total_articles\": 1970237, \"proportion\": 0.0028179351012086362}, {\"year\": 1898, \"total_results\": 7398, \"ill_type\": \"Photo\", \"total_articles\": 2197298, \"proportion\": 0.003366862391901326}, {\"year\": 1899, \"total_results\": 8173, \"ill_type\": \"Photo\", \"total_articles\": 2378661, \"proportion\": 0.003435966705638172}, {\"year\": 1900, \"total_results\": 10184, \"ill_type\": \"Photo\", \"total_articles\": 2615010, \"proportion\": 0.003894440174224955}, {\"year\": 1901, \"total_results\": 11648, \"ill_type\": \"Photo\", \"total_articles\": 2712040, \"proportion\": 0.004294921903806728}, {\"year\": 1902, \"total_results\": 11229, \"ill_type\": \"Photo\", \"total_articles\": 2769996, \"proportion\": 0.004053796467576126}, {\"year\": 1903, \"total_results\": 12281, \"ill_type\": \"Photo\", \"total_articles\": 2802628, \"proportion\": 0.004381958647383812}, {\"year\": 1904, \"total_results\": 14044, \"ill_type\": \"Photo\", \"total_articles\": 2963666, \"proportion\": 0.004738725618878781}, {\"year\": 1905, \"total_results\": 16051, \"ill_type\": \"Photo\", \"total_articles\": 3093983, \"proportion\": 0.005187811309887611}, {\"year\": 1906, \"total_results\": 16242, \"ill_type\": \"Photo\", \"total_articles\": 3136799, \"proportion\": 0.005177889944494371}, {\"year\": 1907, \"total_results\": 18727, \"ill_type\": \"Photo\", \"total_articles\": 3295230, \"proportion\": 0.005683063094230145}, {\"year\": 1908, \"total_results\": 21501, \"ill_type\": \"Photo\", \"total_articles\": 3396203, \"proportion\": 0.00633089364799454}, {\"year\": 1909, \"total_results\": 22458, \"ill_type\": \"Photo\", \"total_articles\": 3453773, \"proportion\": 0.006502453982934026}, {\"year\": 1910, \"total_results\": 25158, \"ill_type\": \"Photo\", \"total_articles\": 3686929, \"proportion\": 0.006823565086281835}, {\"year\": 1911, \"total_results\": 25891, \"ill_type\": \"Photo\", \"total_articles\": 3813205, \"proportion\": 0.006789826405871177}, {\"year\": 1912, \"total_results\": 28212, \"ill_type\": \"Photo\", \"total_articles\": 3968854, \"proportion\": 0.007108349160740103}, {\"year\": 1913, \"total_results\": 32789, \"ill_type\": \"Photo\", \"total_articles\": 4044296, \"proportion\": 0.008107467900470193}, {\"year\": 1914, \"total_results\": 36499, \"ill_type\": \"Photo\", \"total_articles\": 4682621, \"proportion\": 0.007794566333683636}, {\"year\": 1915, \"total_results\": 37961, \"ill_type\": \"Photo\", \"total_articles\": 4783530, \"proportion\": 0.00793577128187761}, {\"year\": 1916, \"total_results\": 34347, \"ill_type\": \"Photo\", \"total_articles\": 4369287, \"proportion\": 0.007861007985971167}, {\"year\": 1917, \"total_results\": 31364, \"ill_type\": \"Photo\", \"total_articles\": 4262301, \"proportion\": 0.007358466706128919}, {\"year\": 1918, \"total_results\": 25870, \"ill_type\": \"Photo\", \"total_articles\": 4040965, \"proportion\": 0.0064019361711868325}, {\"year\": 1919, \"total_results\": 24556, \"ill_type\": \"Photo\", \"total_articles\": 3558241, \"proportion\": 0.006901162681223672}, {\"year\": 1920, \"total_results\": 22897, \"ill_type\": \"Photo\", \"total_articles\": 3304747, \"proportion\": 0.006928518279916738}, {\"year\": 1921, \"total_results\": 28536, \"ill_type\": \"Photo\", \"total_articles\": 3485308, \"proportion\": 0.008187511691936551}, {\"year\": 1922, \"total_results\": 46572, \"ill_type\": \"Photo\", \"total_articles\": 3635068, \"proportion\": 0.012811864867452272}, {\"year\": 1923, \"total_results\": 76723, \"ill_type\": \"Photo\", \"total_articles\": 3944282, \"proportion\": 0.019451702489832117}, {\"year\": 1924, \"total_results\": 95665, \"ill_type\": \"Photo\", \"total_articles\": 4249519, \"proportion\": 0.02251195958883817}, {\"year\": 1925, \"total_results\": 100036, \"ill_type\": \"Photo\", \"total_articles\": 4231795, \"proportion\": 0.023639141310011474}, {\"year\": 1926, \"total_results\": 111022, \"ill_type\": \"Photo\", \"total_articles\": 4226596, \"proportion\": 0.02626747387259156}, {\"year\": 1927, \"total_results\": 133283, \"ill_type\": \"Photo\", \"total_articles\": 4321841, \"proportion\": 0.030839403855903075}, {\"year\": 1928, \"total_results\": 156966, \"ill_type\": \"Photo\", \"total_articles\": 4441252, \"proportion\": 0.03534273668776282}, {\"year\": 1929, \"total_results\": 180547, \"ill_type\": \"Photo\", \"total_articles\": 4661832, \"proportion\": 0.03872876585857234}, {\"year\": 1930, \"total_results\": 195456, \"ill_type\": \"Photo\", \"total_articles\": 4505395, \"proportion\": 0.04338265568279807}, {\"year\": 1931, \"total_results\": 167911, \"ill_type\": \"Photo\", \"total_articles\": 4119730, \"proportion\": 0.040757768106162294}, {\"year\": 1932, \"total_results\": 189590, \"ill_type\": \"Photo\", \"total_articles\": 4134954, \"proportion\": 0.04585057052629848}, {\"year\": 1933, \"total_results\": 211110, \"ill_type\": \"Photo\", \"total_articles\": 4320822, \"proportion\": 0.0488587588195024}, {\"year\": 1934, \"total_results\": 234851, \"ill_type\": \"Photo\", \"total_articles\": 4457622, \"proportion\": 0.05268526582110372}, {\"year\": 1935, \"total_results\": 243946, \"ill_type\": \"Photo\", \"total_articles\": 4552116, \"proportion\": 0.0535895833937448}, {\"year\": 1936, \"total_results\": 259516, \"ill_type\": \"Photo\", \"total_articles\": 4632922, \"proportion\": 0.05601562037953585}, {\"year\": 1937, \"total_results\": 253341, \"ill_type\": \"Photo\", \"total_articles\": 4618274, \"proportion\": 0.054856208185135834}, {\"year\": 1938, \"total_results\": 241062, \"ill_type\": \"Photo\", \"total_articles\": 4616705, \"proportion\": 0.05221516211237235}, {\"year\": 1939, \"total_results\": 214029, \"ill_type\": \"Photo\", \"total_articles\": 4387229, \"proportion\": 0.04878455170678348}, {\"year\": 1940, \"total_results\": 167198, \"ill_type\": \"Photo\", \"total_articles\": 3783203, \"proportion\": 0.04419482644732519}, {\"year\": 1941, \"total_results\": 180647, \"ill_type\": \"Photo\", \"total_articles\": 3598964, \"proportion\": 0.05019416698805545}, {\"year\": 1942, \"total_results\": 137587, \"ill_type\": \"Photo\", \"total_articles\": 2935253, \"proportion\": 0.04687398326481567}, {\"year\": 1943, \"total_results\": 121600, \"ill_type\": \"Photo\", \"total_articles\": 2586289, \"proportion\": 0.047017174028115186}, {\"year\": 1944, \"total_results\": 131754, \"ill_type\": \"Photo\", \"total_articles\": 2635712, \"proportion\": 0.049988010829711285}, {\"year\": 1945, \"total_results\": 141876, \"ill_type\": \"Photo\", \"total_articles\": 2769932, \"proportion\": 0.05122002995019372}, {\"year\": 1946, \"total_results\": 196675, \"ill_type\": \"Photo\", \"total_articles\": 3323157, \"proportion\": 0.05918318033123322}, {\"year\": 1947, \"total_results\": 203758, \"ill_type\": \"Photo\", \"total_articles\": 3441909, \"proportion\": 0.05919912467180277}, {\"year\": 1948, \"total_results\": 168648, \"ill_type\": \"Photo\", \"total_articles\": 3101920, \"proportion\": 0.05436890699953577}, {\"year\": 1949, \"total_results\": 225449, \"ill_type\": \"Photo\", \"total_articles\": 3524852, \"proportion\": 0.06395984852697362}, {\"year\": 1950, \"total_results\": 228903, \"ill_type\": \"Photo\", \"total_articles\": 3554270, \"proportion\": 0.06440225419003058}, {\"year\": 1951, \"total_results\": 199062, \"ill_type\": \"Photo\", \"total_articles\": 3281008, \"proportion\": 0.06067098891560155}, {\"year\": 1952, \"total_results\": 210306, \"ill_type\": \"Photo\", \"total_articles\": 3375009, \"proportion\": 0.0623127227216283}, {\"year\": 1953, \"total_results\": 232925, \"ill_type\": \"Photo\", \"total_articles\": 3592915, \"proportion\": 0.06482897591509958}, {\"year\": 1954, \"total_results\": 254513, \"ill_type\": \"Photo\", \"total_articles\": 3541607, \"proportion\": 0.07186370480970926}, {\"year\": 1955, \"total_results\": 24860, \"ill_type\": \"Photo\", \"total_articles\": 404423, \"proportion\": 0.061470292243517306}, {\"year\": 1956, \"total_results\": 15137, \"ill_type\": \"Photo\", \"total_articles\": 229324, \"proportion\": 0.06600704679841621}, {\"year\": 1957, \"total_results\": 6661, \"ill_type\": \"Photo\", \"total_articles\": 153132, \"proportion\": 0.04349841966408066}, {\"year\": 1958, \"total_results\": 6877, \"ill_type\": \"Photo\", \"total_articles\": 153484, \"proportion\": 0.04480597326105653}, {\"year\": 1959, \"total_results\": 8497, \"ill_type\": \"Photo\", \"total_articles\": 153425, \"proportion\": 0.05538210852207919}, {\"year\": 1960, \"total_results\": 11201, \"ill_type\": \"Photo\", \"total_articles\": 154646, \"proportion\": 0.07242993675879104}, {\"year\": 1961, \"total_results\": 11409, \"ill_type\": \"Photo\", \"total_articles\": 151751, \"proportion\": 0.07518237112111288}, {\"year\": 1962, \"total_results\": 13034, \"ill_type\": \"Photo\", \"total_articles\": 156236, \"proportion\": 0.08342507488670985}, {\"year\": 1963, \"total_results\": 16209, \"ill_type\": \"Photo\", \"total_articles\": 167154, \"proportion\": 0.09697045837969777}, {\"year\": 1964, \"total_results\": 17592, \"ill_type\": \"Photo\", \"total_articles\": 167801, \"proportion\": 0.1048384693774173}, {\"year\": 1965, \"total_results\": 19057, \"ill_type\": \"Photo\", \"total_articles\": 177093, \"proportion\": 0.10761012575313536}, {\"year\": 1966, \"total_results\": 18443, \"ill_type\": \"Photo\", \"total_articles\": 160897, \"proportion\": 0.1146261272739703}, {\"year\": 1967, \"total_results\": 17994, \"ill_type\": \"Photo\", \"total_articles\": 155832, \"proportion\": 0.11547050669952257}, {\"year\": 1968, \"total_results\": 18888, \"ill_type\": \"Photo\", \"total_articles\": 157330, \"proportion\": 0.12005339096167292}, {\"year\": 1969, \"total_results\": 21153, \"ill_type\": \"Photo\", \"total_articles\": 179517, \"proportion\": 0.11783285148481759}, {\"year\": 1970, \"total_results\": 23489, \"ill_type\": \"Photo\", \"total_articles\": 193249, \"proportion\": 0.1215478475955891}, {\"year\": 1971, \"total_results\": 22430, \"ill_type\": \"Photo\", \"total_articles\": 191379, \"proportion\": 0.11720199185908589}, {\"year\": 1972, \"total_results\": 19752, \"ill_type\": \"Photo\", \"total_articles\": 179093, \"proportion\": 0.11028906769108787}, {\"year\": 1973, \"total_results\": 19721, \"ill_type\": \"Photo\", \"total_articles\": 180806, \"proportion\": 0.10907270776412287}, {\"year\": 1974, \"total_results\": 18386, \"ill_type\": \"Photo\", \"total_articles\": 179385, \"proportion\": 0.10249463444546646}, {\"year\": 1975, \"total_results\": 19028, \"ill_type\": \"Photo\", \"total_articles\": 168395, \"proportion\": 0.11299622910418955}, {\"year\": 1976, \"total_results\": 20899, \"ill_type\": \"Photo\", \"total_articles\": 169153, \"proportion\": 0.1235508681489539}, {\"year\": 1977, \"total_results\": 22265, \"ill_type\": \"Photo\", \"total_articles\": 170625, \"proportion\": 0.1304908424908425}, {\"year\": 1978, \"total_results\": 24926, \"ill_type\": \"Photo\", \"total_articles\": 175661, \"proportion\": 0.14189831550543378}, {\"year\": 1979, \"total_results\": 26931, \"ill_type\": \"Photo\", \"total_articles\": 184844, \"proportion\": 0.1456958299971868}, {\"year\": 1980, \"total_results\": 27119, \"ill_type\": \"Photo\", \"total_articles\": 185923, \"proportion\": 0.1458614587759449}, {\"year\": 1981, \"total_results\": 24666, \"ill_type\": \"Photo\", \"total_articles\": 164070, \"proportion\": 0.15033827025050284}, {\"year\": 1982, \"total_results\": 22335, \"ill_type\": \"Photo\", \"total_articles\": 153396, \"proportion\": 0.14560353594617853}, {\"year\": 1983, \"total_results\": 20914, \"ill_type\": \"Photo\", \"total_articles\": 141802, \"proportion\": 0.14748734150435114}, {\"year\": 1984, \"total_results\": 22725, \"ill_type\": \"Photo\", \"total_articles\": 146493, \"proportion\": 0.15512686613012225}, {\"year\": 1985, \"total_results\": 24823, \"ill_type\": \"Photo\", \"total_articles\": 155564, \"proportion\": 0.15956776632125685}, {\"year\": 1986, \"total_results\": 25069, \"ill_type\": \"Photo\", \"total_articles\": 152788, \"proportion\": 0.16407702175563527}, {\"year\": 1987, \"total_results\": 21400, \"ill_type\": \"Photo\", \"total_articles\": 133503, \"proportion\": 0.1602960233103376}, {\"year\": 1988, \"total_results\": 23775, \"ill_type\": \"Photo\", \"total_articles\": 143213, \"proportion\": 0.16601146543958997}, {\"year\": 1989, \"total_results\": 24863, \"ill_type\": \"Photo\", \"total_articles\": 146122, \"proportion\": 0.17015233845690586}, {\"year\": 1990, \"total_results\": 23400, \"ill_type\": \"Photo\", \"total_articles\": 138585, \"proportion\": 0.16884944258036583}, {\"year\": 1991, \"total_results\": 22997, \"ill_type\": \"Photo\", \"total_articles\": 139257, \"proportion\": 0.16514071105940814}, {\"year\": 1992, \"total_results\": 27717, \"ill_type\": \"Photo\", \"total_articles\": 159414, \"proportion\": 0.17386804170273626}, {\"year\": 1993, \"total_results\": 28413, \"ill_type\": \"Photo\", \"total_articles\": 160603, \"proportion\": 0.17691450346506604}, {\"year\": 1994, \"total_results\": 29571, \"ill_type\": \"Photo\", \"total_articles\": 155783, \"proportion\": 0.1898217392141633}, {\"year\": 1995, \"total_results\": 30711, \"ill_type\": \"Photo\", \"total_articles\": 154299, \"proportion\": 0.19903563859778742}, {\"year\": 1996, \"total_results\": 15186, \"ill_type\": \"Photo\", \"total_articles\": 69400, \"proportion\": 0.2188184438040346}, {\"year\": 1997, \"total_results\": 15606, \"ill_type\": \"Photo\", \"total_articles\": 73218, \"proportion\": 0.21314430877653037}, {\"year\": 1998, \"total_results\": 18095, \"ill_type\": \"Photo\", \"total_articles\": 80878, \"proportion\": 0.2237320408516531}, {\"year\": 1999, \"total_results\": 20924, \"ill_type\": \"Photo\", \"total_articles\": 90368, \"proportion\": 0.2315421388101983}, {\"year\": 2000, \"total_results\": 16189, \"ill_type\": \"Photo\", \"total_articles\": 68823, \"proportion\": 0.23522659576013832}, {\"year\": 2001, \"total_results\": 16152, \"ill_type\": \"Photo\", \"total_articles\": 67114, \"proportion\": 0.2406651369311917}, {\"year\": 2002, \"total_results\": 17798, \"ill_type\": \"Photo\", \"total_articles\": 68169, \"proportion\": 0.26108641757983836}, {\"year\": 2003, \"total_results\": 10041, \"ill_type\": \"Photo\", \"total_articles\": 33361, \"proportion\": 0.30098018644525043}, {\"year\": 2004, \"total_results\": 9553, \"ill_type\": \"Photo\", \"total_articles\": 30793, \"proportion\": 0.3102328451271393}, {\"year\": 2005, \"total_results\": 8920, \"ill_type\": \"Photo\", \"total_articles\": 26677, \"proportion\": 0.3343704314578101}, {\"year\": 2006, \"total_results\": 9285, \"ill_type\": \"Photo\", \"total_articles\": 26179, \"proportion\": 0.35467359333817183}, {\"year\": 2007, \"total_results\": 9718, \"ill_type\": \"Photo\", \"total_articles\": 27726, \"proportion\": 0.35050133448748466}, {\"year\": 2008, \"total_results\": 9190, \"ill_type\": \"Photo\", \"total_articles\": 26158, \"proportion\": 0.35132655401789126}, {\"year\": 2009, \"total_results\": 4638, \"ill_type\": \"Photo\", \"total_articles\": 14340, \"proportion\": 0.3234309623430962}, {\"year\": 2010, \"total_results\": 4928, \"ill_type\": \"Photo\", \"total_articles\": 14750, \"proportion\": 0.3341016949152542}, {\"year\": 2011, \"total_results\": 5346, \"ill_type\": \"Photo\", \"total_articles\": 15228, \"proportion\": 0.35106382978723405}, {\"year\": 2012, \"total_results\": 3351, \"ill_type\": \"Photo\", \"total_articles\": 8112, \"proportion\": 0.4130917159763314}, {\"year\": 2013, \"total_results\": 3508, \"ill_type\": \"Photo\", \"total_articles\": 8358, \"proportion\": 0.41971763579803784}, {\"year\": 2014, \"total_results\": 3556, \"ill_type\": \"Photo\", \"total_articles\": 8077, \"proportion\": 0.44026247369072674}, {\"year\": 2015, \"total_results\": 3446, \"ill_type\": \"Photo\", \"total_articles\": 8255, \"proportion\": 0.4174439733494852}, {\"year\": 2016, \"total_results\": 2372, \"ill_type\": \"Photo\", \"total_articles\": 4665, \"proportion\": 0.5084673097534834}, {\"year\": 2017, \"total_results\": 2039, \"ill_type\": \"Photo\", \"total_articles\": 4184, \"proportion\": 0.48733269598470363}, {\"year\": 2018, \"total_results\": 1733, \"ill_type\": \"Photo\", \"total_articles\": 3506, \"proportion\": 0.49429549343981743}, {\"year\": 2019, \"total_results\": 1727, \"ill_type\": \"Photo\", \"total_articles\": 3314, \"proportion\": 0.5211225105612552}, {\"year\": 1837, \"total_results\": 1, \"ill_type\": \"Cartoon\", \"total_articles\": 21805, \"proportion\": 4.586104104563174e-05}, {\"year\": 1840, \"total_results\": 1, \"ill_type\": \"Cartoon\", \"total_articles\": 42411, \"proportion\": 2.3578788521845746e-05}, {\"year\": 1857, \"total_results\": 1, \"ill_type\": \"Cartoon\", \"total_articles\": 175982, \"proportion\": 5.682399336295758e-06}, {\"year\": 1858, \"total_results\": 1, \"ill_type\": \"Cartoon\", \"total_articles\": 182050, \"proportion\": 5.492996429552321e-06}, {\"year\": 1863, \"total_results\": 1, \"ill_type\": \"Cartoon\", \"total_articles\": 260291, \"proportion\": 3.841853925030062e-06}, {\"year\": 1864, \"total_results\": 2, \"ill_type\": \"Cartoon\", \"total_articles\": 274076, \"proportion\": 7.297246019352297e-06}, {\"year\": 1865, \"total_results\": 1, \"ill_type\": \"Cartoon\", \"total_articles\": 292157, \"proportion\": 3.42281718391139e-06}, {\"year\": 1867, \"total_results\": 1, \"ill_type\": \"Cartoon\", \"total_articles\": 306399, \"proportion\": 3.2637182236234454e-06}, {\"year\": 1869, \"total_results\": 2, \"ill_type\": \"Cartoon\", \"total_articles\": 337323, \"proportion\": 5.929035375589568e-06}, {\"year\": 1870, \"total_results\": 2, \"ill_type\": \"Cartoon\", \"total_articles\": 385289, \"proportion\": 5.1909086426033445e-06}, {\"year\": 1871, \"total_results\": 4, \"ill_type\": \"Cartoon\", \"total_articles\": 371982, \"proportion\": 1.075320848858278e-05}, {\"year\": 1872, \"total_results\": 1, \"ill_type\": \"Cartoon\", \"total_articles\": 397020, \"proportion\": 2.5187647977431867e-06}, {\"year\": 1873, \"total_results\": 9, \"ill_type\": \"Cartoon\", \"total_articles\": 430691, \"proportion\": 2.0896652124144687e-05}, {\"year\": 1874, \"total_results\": 9, \"ill_type\": \"Cartoon\", \"total_articles\": 445748, \"proportion\": 2.0190780440966645e-05}, {\"year\": 1875, \"total_results\": 17, \"ill_type\": \"Cartoon\", \"total_articles\": 482469, \"proportion\": 3.5235424452140967e-05}, {\"year\": 1876, \"total_results\": 13, \"ill_type\": \"Cartoon\", \"total_articles\": 494060, \"proportion\": 2.631259361211189e-05}, {\"year\": 1877, \"total_results\": 8, \"ill_type\": \"Cartoon\", \"total_articles\": 509249, \"proportion\": 1.5709407382243263e-05}, {\"year\": 1878, \"total_results\": 2, \"ill_type\": \"Cartoon\", \"total_articles\": 578926, \"proportion\": 3.454672963383921e-06}, {\"year\": 1879, \"total_results\": 5, \"ill_type\": \"Cartoon\", \"total_articles\": 620648, \"proportion\": 8.056096209123368e-06}, {\"year\": 1880, \"total_results\": 27, \"ill_type\": \"Cartoon\", \"total_articles\": 635861, \"proportion\": 4.246211042979519e-05}, {\"year\": 1881, \"total_results\": 2, \"ill_type\": \"Cartoon\", \"total_articles\": 679154, \"proportion\": 2.944840198246642e-06}, {\"year\": 1882, \"total_results\": 24, \"ill_type\": \"Cartoon\", \"total_articles\": 764271, \"proportion\": 3.140247372986807e-05}, {\"year\": 1883, \"total_results\": 5, \"ill_type\": \"Cartoon\", \"total_articles\": 795970, \"proportion\": 6.281643780544493e-06}, {\"year\": 1884, \"total_results\": 69, \"ill_type\": \"Cartoon\", \"total_articles\": 898376, \"proportion\": 7.680525748684293e-05}, {\"year\": 1885, \"total_results\": 29, \"ill_type\": \"Cartoon\", \"total_articles\": 952777, \"proportion\": 3.043734263106687e-05}, {\"year\": 1886, \"total_results\": 31, \"ill_type\": \"Cartoon\", \"total_articles\": 1031192, \"proportion\": 3.006229683705847e-05}, {\"year\": 1887, \"total_results\": 19, \"ill_type\": \"Cartoon\", \"total_articles\": 1070273, \"proportion\": 1.7752479974735418e-05}, {\"year\": 1888, \"total_results\": 67, \"ill_type\": \"Cartoon\", \"total_articles\": 1199895, \"proportion\": 5.583821917751137e-05}, {\"year\": 1889, \"total_results\": 73, \"ill_type\": \"Cartoon\", \"total_articles\": 1288503, \"proportion\": 5.6654893314179326e-05}, {\"year\": 1890, \"total_results\": 237, \"ill_type\": \"Cartoon\", \"total_articles\": 1403249, \"proportion\": 0.00016889376012382693}, {\"year\": 1891, \"total_results\": 80, \"ill_type\": \"Cartoon\", \"total_articles\": 1473337, \"proportion\": 5.429850740190465e-05}, {\"year\": 1892, \"total_results\": 111, \"ill_type\": \"Cartoon\", \"total_articles\": 1532205, \"proportion\": 7.244461413453161e-05}, {\"year\": 1893, \"total_results\": 183, \"ill_type\": \"Cartoon\", \"total_articles\": 1560089, \"proportion\": 0.0001173010001352487}, {\"year\": 1894, \"total_results\": 163, \"ill_type\": \"Cartoon\", \"total_articles\": 1620538, \"proportion\": 0.00010058388016819105}, {\"year\": 1895, \"total_results\": 205, \"ill_type\": \"Cartoon\", \"total_articles\": 1738871, \"proportion\": 0.00011789258662661003}, {\"year\": 1896, \"total_results\": 205, \"ill_type\": \"Cartoon\", \"total_articles\": 1858409, \"proportion\": 0.00011030940982313366}, {\"year\": 1897, \"total_results\": 252, \"ill_type\": \"Cartoon\", \"total_articles\": 1970237, \"proportion\": 0.0001279033943632162}, {\"year\": 1898, \"total_results\": 387, \"ill_type\": \"Cartoon\", \"total_articles\": 2197298, \"proportion\": 0.0001761254049291448}, {\"year\": 1899, \"total_results\": 324, \"ill_type\": \"Cartoon\", \"total_articles\": 2378661, \"proportion\": 0.00013621108682573935}, {\"year\": 1900, \"total_results\": 452, \"ill_type\": \"Cartoon\", \"total_articles\": 2615010, \"proportion\": 0.0001728482873870463}, {\"year\": 1901, \"total_results\": 496, \"ill_type\": \"Cartoon\", \"total_articles\": 2712040, \"proportion\": 0.00018288815799177003}, {\"year\": 1902, \"total_results\": 514, \"ill_type\": \"Cartoon\", \"total_articles\": 2769996, \"proportion\": 0.00018555983474344368}, {\"year\": 1903, \"total_results\": 686, \"ill_type\": \"Cartoon\", \"total_articles\": 2802628, \"proportion\": 0.00024477026562212326}, {\"year\": 1904, \"total_results\": 599, \"ill_type\": \"Cartoon\", \"total_articles\": 2963666, \"proportion\": 0.0002021145432717452}, {\"year\": 1905, \"total_results\": 793, \"ill_type\": \"Cartoon\", \"total_articles\": 3093983, \"proportion\": 0.000256303929271751}, {\"year\": 1906, \"total_results\": 991, \"ill_type\": \"Cartoon\", \"total_articles\": 3136799, \"proportion\": 0.0003159271601400026}, {\"year\": 1907, \"total_results\": 845, \"ill_type\": \"Cartoon\", \"total_articles\": 3295230, \"proportion\": 0.0002564312657993524}, {\"year\": 1908, \"total_results\": 778, \"ill_type\": \"Cartoon\", \"total_articles\": 3396203, \"proportion\": 0.00022907935715267905}, {\"year\": 1909, \"total_results\": 969, \"ill_type\": \"Cartoon\", \"total_articles\": 3453773, \"proportion\": 0.00028056273530426}, {\"year\": 1910, \"total_results\": 714, \"ill_type\": \"Cartoon\", \"total_articles\": 3686929, \"proportion\": 0.0001936571059545763}, {\"year\": 1911, \"total_results\": 862, \"ill_type\": \"Cartoon\", \"total_articles\": 3813205, \"proportion\": 0.00022605655872160032}, {\"year\": 1912, \"total_results\": 1339, \"ill_type\": \"Cartoon\", \"total_articles\": 3968854, \"proportion\": 0.0003373769859007159}, {\"year\": 1913, \"total_results\": 1310, \"ill_type\": \"Cartoon\", \"total_articles\": 4044296, \"proportion\": 0.0003239129875755879}, {\"year\": 1914, \"total_results\": 1404, \"ill_type\": \"Cartoon\", \"total_articles\": 4682621, \"proportion\": 0.00029983208122117934}, {\"year\": 1915, \"total_results\": 1590, \"ill_type\": \"Cartoon\", \"total_articles\": 4783530, \"proportion\": 0.0003323905149544374}, {\"year\": 1916, \"total_results\": 1662, \"ill_type\": \"Cartoon\", \"total_articles\": 4369287, \"proportion\": 0.0003803824285289568}, {\"year\": 1917, \"total_results\": 1425, \"ill_type\": \"Cartoon\", \"total_articles\": 4262301, \"proportion\": 0.00033432645887749364}, {\"year\": 1918, \"total_results\": 1367, \"ill_type\": \"Cartoon\", \"total_articles\": 4040965, \"proportion\": 0.0003382855332822729}, {\"year\": 1919, \"total_results\": 847, \"ill_type\": \"Cartoon\", \"total_articles\": 3558241, \"proportion\": 0.0002380389636339978}, {\"year\": 1920, \"total_results\": 675, \"ill_type\": \"Cartoon\", \"total_articles\": 3304747, \"proportion\": 0.0002042516416536576}, {\"year\": 1921, \"total_results\": 1290, \"ill_type\": \"Cartoon\", \"total_articles\": 3485308, \"proportion\": 0.0003701251080248862}, {\"year\": 1922, \"total_results\": 2808, \"ill_type\": \"Cartoon\", \"total_articles\": 3635068, \"proportion\": 0.0007724752329254914}, {\"year\": 1923, \"total_results\": 4421, \"ill_type\": \"Cartoon\", \"total_articles\": 3944282, \"proportion\": 0.0011208630620224416}, {\"year\": 1924, \"total_results\": 5105, \"ill_type\": \"Cartoon\", \"total_articles\": 4249519, \"proportion\": 0.001201312430889237}, {\"year\": 1925, \"total_results\": 5730, \"ill_type\": \"Cartoon\", \"total_articles\": 4231795, \"proportion\": 0.0013540353443396952}, {\"year\": 1926, \"total_results\": 4725, \"ill_type\": \"Cartoon\", \"total_articles\": 4226596, \"proportion\": 0.0011179208989929486}, {\"year\": 1927, \"total_results\": 5798, \"ill_type\": \"Cartoon\", \"total_articles\": 4321841, \"proportion\": 0.0013415579147867773}, {\"year\": 1928, \"total_results\": 5883, \"ill_type\": \"Cartoon\", \"total_articles\": 4441252, \"proportion\": 0.0013246264792000093}, {\"year\": 1929, \"total_results\": 8014, \"ill_type\": \"Cartoon\", \"total_articles\": 4661832, \"proportion\": 0.001719066667353092}, {\"year\": 1930, \"total_results\": 9608, \"ill_type\": \"Cartoon\", \"total_articles\": 4505395, \"proportion\": 0.002132554415317636}, {\"year\": 1931, \"total_results\": 9849, \"ill_type\": \"Cartoon\", \"total_articles\": 4119730, \"proportion\": 0.002390690652057295}, {\"year\": 1932, \"total_results\": 11746, \"ill_type\": \"Cartoon\", \"total_articles\": 4134954, \"proportion\": 0.002840660379776897}, {\"year\": 1933, \"total_results\": 14521, \"ill_type\": \"Cartoon\", \"total_articles\": 4320822, \"proportion\": 0.0033607031254701074}, {\"year\": 1934, \"total_results\": 17735, \"ill_type\": \"Cartoon\", \"total_articles\": 4457622, \"proportion\": 0.003978578713044758}, {\"year\": 1935, \"total_results\": 16388, \"ill_type\": \"Cartoon\", \"total_articles\": 4552116, \"proportion\": 0.003600084004889155}, {\"year\": 1936, \"total_results\": 23073, \"ill_type\": \"Cartoon\", \"total_articles\": 4632922, \"proportion\": 0.0049802263021048055}, {\"year\": 1937, \"total_results\": 27665, \"ill_type\": \"Cartoon\", \"total_articles\": 4618274, \"proportion\": 0.0059903331850816996}, {\"year\": 1938, \"total_results\": 32822, \"ill_type\": \"Cartoon\", \"total_articles\": 4616705, \"proportion\": 0.0071093994526399236}, {\"year\": 1939, \"total_results\": 32774, \"ill_type\": \"Cartoon\", \"total_articles\": 4387229, \"proportion\": 0.007470318964430623}, {\"year\": 1940, \"total_results\": 29360, \"ill_type\": \"Cartoon\", \"total_articles\": 3783203, \"proportion\": 0.0077606197711304415}, {\"year\": 1941, \"total_results\": 38927, \"ill_type\": \"Cartoon\", \"total_articles\": 3598964, \"proportion\": 0.010816168208406642}, {\"year\": 1942, \"total_results\": 33163, \"ill_type\": \"Cartoon\", \"total_articles\": 2935253, \"proportion\": 0.011298174297070815}, {\"year\": 1943, \"total_results\": 28851, \"ill_type\": \"Cartoon\", \"total_articles\": 2586289, \"proportion\": 0.011155365854318679}, {\"year\": 1944, \"total_results\": 34774, \"ill_type\": \"Cartoon\", \"total_articles\": 2635712, \"proportion\": 0.013193398975305344}, {\"year\": 1945, \"total_results\": 40459, \"ill_type\": \"Cartoon\", \"total_articles\": 2769932, \"proportion\": 0.01460649575513045}, {\"year\": 1946, \"total_results\": 58570, \"ill_type\": \"Cartoon\", \"total_articles\": 3323157, \"proportion\": 0.01762480677259606}, {\"year\": 1947, \"total_results\": 61238, \"ill_type\": \"Cartoon\", \"total_articles\": 3441909, \"proportion\": 0.017791870732201228}, {\"year\": 1948, \"total_results\": 51751, \"ill_type\": \"Cartoon\", \"total_articles\": 3101920, \"proportion\": 0.016683537937793366}, {\"year\": 1949, \"total_results\": 60289, \"ill_type\": \"Cartoon\", \"total_articles\": 3524852, \"proportion\": 0.017103980535920372}, {\"year\": 1950, \"total_results\": 72069, \"ill_type\": \"Cartoon\", \"total_articles\": 3554270, \"proportion\": 0.020276737557923287}, {\"year\": 1951, \"total_results\": 69157, \"ill_type\": \"Cartoon\", \"total_articles\": 3281008, \"proportion\": 0.02107797359835758}, {\"year\": 1952, \"total_results\": 72967, \"ill_type\": \"Cartoon\", \"total_articles\": 3375009, \"proportion\": 0.02161979419906732}, {\"year\": 1953, \"total_results\": 81702, \"ill_type\": \"Cartoon\", \"total_articles\": 3592915, \"proportion\": 0.02273975309741533}, {\"year\": 1954, \"total_results\": 83844, \"ill_type\": \"Cartoon\", \"total_articles\": 3541607, \"proportion\": 0.023673998837251}, {\"year\": 1955, \"total_results\": 9650, \"ill_type\": \"Cartoon\", \"total_articles\": 404423, \"proportion\": 0.02386115527554071}, {\"year\": 1956, \"total_results\": 5393, \"ill_type\": \"Cartoon\", \"total_articles\": 229324, \"proportion\": 0.023516945457082557}, {\"year\": 1957, \"total_results\": 1377, \"ill_type\": \"Cartoon\", \"total_articles\": 153132, \"proportion\": 0.00899224198730507}, {\"year\": 1958, \"total_results\": 1175, \"ill_type\": \"Cartoon\", \"total_articles\": 153484, \"proportion\": 0.007655521096661541}, {\"year\": 1959, \"total_results\": 1365, \"ill_type\": \"Cartoon\", \"total_articles\": 153425, \"proportion\": 0.008896855140948345}, {\"year\": 1960, \"total_results\": 1450, \"ill_type\": \"Cartoon\", \"total_articles\": 154646, \"proportion\": 0.009376252861373719}, {\"year\": 1961, \"total_results\": 1370, \"ill_type\": \"Cartoon\", \"total_articles\": 151751, \"proportion\": 0.009027947097547957}, {\"year\": 1962, \"total_results\": 1303, \"ill_type\": \"Cartoon\", \"total_articles\": 156236, \"proportion\": 0.00833994725927443}, {\"year\": 1963, \"total_results\": 1265, \"ill_type\": \"Cartoon\", \"total_articles\": 167154, \"proportion\": 0.007567871543606494}, {\"year\": 1964, \"total_results\": 2168, \"ill_type\": \"Cartoon\", \"total_articles\": 167801, \"proportion\": 0.012920066030595765}, {\"year\": 1965, \"total_results\": 2770, \"ill_type\": \"Cartoon\", \"total_articles\": 177093, \"proportion\": 0.015641499099343283}, {\"year\": 1966, \"total_results\": 2425, \"ill_type\": \"Cartoon\", \"total_articles\": 160897, \"proportion\": 0.015071753979253808}, {\"year\": 1967, \"total_results\": 2208, \"ill_type\": \"Cartoon\", \"total_articles\": 155832, \"proportion\": 0.014169105190204836}, {\"year\": 1968, \"total_results\": 2350, \"ill_type\": \"Cartoon\", \"total_articles\": 157330, \"proportion\": 0.014936757134685057}, {\"year\": 1969, \"total_results\": 2741, \"ill_type\": \"Cartoon\", \"total_articles\": 179517, \"proportion\": 0.015268748920715029}, {\"year\": 1970, \"total_results\": 2514, \"ill_type\": \"Cartoon\", \"total_articles\": 193249, \"proportion\": 0.01300912294500877}, {\"year\": 1971, \"total_results\": 2596, \"ill_type\": \"Cartoon\", \"total_articles\": 191379, \"proportion\": 0.01356470668150633}, {\"year\": 1972, \"total_results\": 2415, \"ill_type\": \"Cartoon\", \"total_articles\": 179093, \"proportion\": 0.013484614139022742}, {\"year\": 1973, \"total_results\": 2561, \"ill_type\": \"Cartoon\", \"total_articles\": 180806, \"proportion\": 0.014164352952888731}, {\"year\": 1974, \"total_results\": 2625, \"ill_type\": \"Cartoon\", \"total_articles\": 179385, \"proportion\": 0.014633330546032277}, {\"year\": 1975, \"total_results\": 2274, \"ill_type\": \"Cartoon\", \"total_articles\": 168395, \"proportion\": 0.013503963894414918}, {\"year\": 1976, \"total_results\": 2312, \"ill_type\": \"Cartoon\", \"total_articles\": 169153, \"proportion\": 0.013668099294721348}, {\"year\": 1977, \"total_results\": 2319, \"ill_type\": \"Cartoon\", \"total_articles\": 170625, \"proportion\": 0.013591208791208792}, {\"year\": 1978, \"total_results\": 3030, \"ill_type\": \"Cartoon\", \"total_articles\": 175661, \"proportion\": 0.017249133273748867}, {\"year\": 1979, \"total_results\": 3741, \"ill_type\": \"Cartoon\", \"total_articles\": 184844, \"proportion\": 0.02023868775832594}, {\"year\": 1980, \"total_results\": 3940, \"ill_type\": \"Cartoon\", \"total_articles\": 185923, \"proportion\": 0.02119156855257284}, {\"year\": 1981, \"total_results\": 3696, \"ill_type\": \"Cartoon\", \"total_articles\": 164070, \"proportion\": 0.0225269701956482}, {\"year\": 1982, \"total_results\": 3343, \"ill_type\": \"Cartoon\", \"total_articles\": 153396, \"proportion\": 0.021793267099533234}, {\"year\": 1983, \"total_results\": 3149, \"ill_type\": \"Cartoon\", \"total_articles\": 141802, \"proportion\": 0.022207021057530925}, {\"year\": 1984, \"total_results\": 3129, \"ill_type\": \"Cartoon\", \"total_articles\": 146493, \"proportion\": 0.021359382359566668}, {\"year\": 1985, \"total_results\": 3206, \"ill_type\": \"Cartoon\", \"total_articles\": 155564, \"proportion\": 0.02060888123216168}, {\"year\": 1986, \"total_results\": 3041, \"ill_type\": \"Cartoon\", \"total_articles\": 152788, \"proportion\": 0.019903395554624708}, {\"year\": 1987, \"total_results\": 3009, \"ill_type\": \"Cartoon\", \"total_articles\": 133503, \"proportion\": 0.022538819352374104}, {\"year\": 1988, \"total_results\": 3114, \"ill_type\": \"Cartoon\", \"total_articles\": 143213, \"proportion\": 0.021743836104264277}, {\"year\": 1989, \"total_results\": 3514, \"ill_type\": \"Cartoon\", \"total_articles\": 146122, \"proportion\": 0.024048397914071803}, {\"year\": 1990, \"total_results\": 3508, \"ill_type\": \"Cartoon\", \"total_articles\": 138585, \"proportion\": 0.025312984810765955}, {\"year\": 1991, \"total_results\": 2693, \"ill_type\": \"Cartoon\", \"total_articles\": 139257, \"proportion\": 0.019338345648692704}, {\"year\": 1992, \"total_results\": 2570, \"ill_type\": \"Cartoon\", \"total_articles\": 159414, \"proportion\": 0.01612154515914537}, {\"year\": 1993, \"total_results\": 2741, \"ill_type\": \"Cartoon\", \"total_articles\": 160603, \"proportion\": 0.017066929011288704}, {\"year\": 1994, \"total_results\": 3145, \"ill_type\": \"Cartoon\", \"total_articles\": 155783, \"proportion\": 0.020188338907326218}, {\"year\": 1995, \"total_results\": 2960, \"ill_type\": \"Cartoon\", \"total_articles\": 154299, \"proportion\": 0.019183533269820283}, {\"year\": 1996, \"total_results\": 771, \"ill_type\": \"Cartoon\", \"total_articles\": 69400, \"proportion\": 0.011109510086455332}, {\"year\": 1997, \"total_results\": 820, \"ill_type\": \"Cartoon\", \"total_articles\": 73218, \"proportion\": 0.011199431833702094}, {\"year\": 1998, \"total_results\": 682, \"ill_type\": \"Cartoon\", \"total_articles\": 80878, \"proportion\": 0.008432453819332822}, {\"year\": 1999, \"total_results\": 810, \"ill_type\": \"Cartoon\", \"total_articles\": 90368, \"proportion\": 0.00896334985835694}, {\"year\": 2000, \"total_results\": 439, \"ill_type\": \"Cartoon\", \"total_articles\": 68823, \"proportion\": 0.006378681545413597}, {\"year\": 2001, \"total_results\": 488, \"ill_type\": \"Cartoon\", \"total_articles\": 67114, \"proportion\": 0.007271210179694252}, {\"year\": 2002, \"total_results\": 430, \"ill_type\": \"Cartoon\", \"total_articles\": 68169, \"proportion\": 0.0063078525429447405}, {\"year\": 2003, \"total_results\": 371, \"ill_type\": \"Cartoon\", \"total_articles\": 33361, \"proportion\": 0.011120769761098288}, {\"year\": 2004, \"total_results\": 298, \"ill_type\": \"Cartoon\", \"total_articles\": 30793, \"proportion\": 0.009677524112623}, {\"year\": 2005, \"total_results\": 351, \"ill_type\": \"Cartoon\", \"total_articles\": 26677, \"proportion\": 0.01315740150691607}, {\"year\": 2006, \"total_results\": 273, \"ill_type\": \"Cartoon\", \"total_articles\": 26179, \"proportion\": 0.010428205813820238}, {\"year\": 2007, \"total_results\": 319, \"ill_type\": \"Cartoon\", \"total_articles\": 27726, \"proportion\": 0.011505446151626632}, {\"year\": 2008, \"total_results\": 284, \"ill_type\": \"Cartoon\", \"total_articles\": 26158, \"proportion\": 0.01085709916660295}, {\"year\": 2009, \"total_results\": 42, \"ill_type\": \"Cartoon\", \"total_articles\": 14340, \"proportion\": 0.0029288702928870294}, {\"year\": 2010, \"total_results\": 47, \"ill_type\": \"Cartoon\", \"total_articles\": 14750, \"proportion\": 0.0031864406779661017}, {\"year\": 2011, \"total_results\": 26, \"ill_type\": \"Cartoon\", \"total_articles\": 15228, \"proportion\": 0.0017073811400052535}, {\"year\": 2012, \"total_results\": 22, \"ill_type\": \"Cartoon\", \"total_articles\": 8112, \"proportion\": 0.0027120315581854043}, {\"year\": 2013, \"total_results\": 23, \"ill_type\": \"Cartoon\", \"total_articles\": 8358, \"proportion\": 0.0027518545106484803}, {\"year\": 2014, \"total_results\": 27, \"ill_type\": \"Cartoon\", \"total_articles\": 8077, \"proportion\": 0.0033428253064256533}, {\"year\": 2015, \"total_results\": 22, \"ill_type\": \"Cartoon\", \"total_articles\": 8255, \"proportion\": 0.0026650514839491215}, {\"year\": 2016, \"total_results\": 30, \"ill_type\": \"Cartoon\", \"total_articles\": 4665, \"proportion\": 0.006430868167202572}, {\"year\": 2017, \"total_results\": 20, \"ill_type\": \"Cartoon\", \"total_articles\": 4184, \"proportion\": 0.004780114722753346}, {\"year\": 2018, \"total_results\": 15, \"ill_type\": \"Cartoon\", \"total_articles\": 3506, \"proportion\": 0.004278379920136908}, {\"year\": 2019, \"total_results\": 12, \"ill_type\": \"Cartoon\", \"total_articles\": 3314, \"proportion\": 0.003621001810500905}, {\"year\": 1807, \"total_results\": 1, \"ill_type\": \"Illustration\", \"total_articles\": 134, \"proportion\": 0.007462686567164179}, {\"year\": 1810, \"total_results\": 1, \"ill_type\": \"Illustration\", \"total_articles\": 274, \"proportion\": 0.0036496350364963502}, {\"year\": 1821, \"total_results\": 43, \"ill_type\": \"Illustration\", \"total_articles\": 1005, \"proportion\": 0.042786069651741296}, {\"year\": 1822, \"total_results\": 45, \"ill_type\": \"Illustration\", \"total_articles\": 1033, \"proportion\": 0.04356243949661181}, {\"year\": 1823, \"total_results\": 37, \"ill_type\": \"Illustration\", \"total_articles\": 1156, \"proportion\": 0.03200692041522491}, {\"year\": 1825, \"total_results\": 30, \"ill_type\": \"Illustration\", \"total_articles\": 3366, \"proportion\": 0.008912655971479501}, {\"year\": 1827, \"total_results\": 4, \"ill_type\": \"Illustration\", \"total_articles\": 6693, \"proportion\": 0.0005976393246675631}, {\"year\": 1828, \"total_results\": 14, \"ill_type\": \"Illustration\", \"total_articles\": 7335, \"proportion\": 0.0019086571233810498}, {\"year\": 1829, \"total_results\": 18, \"ill_type\": \"Illustration\", \"total_articles\": 8935, \"proportion\": 0.0020145495243424735}, {\"year\": 1830, \"total_results\": 45, \"ill_type\": \"Illustration\", \"total_articles\": 8977, \"proportion\": 0.005012810515762504}, {\"year\": 1831, \"total_results\": 31, \"ill_type\": \"Illustration\", \"total_articles\": 10989, \"proportion\": 0.002821002821002821}, {\"year\": 1832, \"total_results\": 41, \"ill_type\": \"Illustration\", \"total_articles\": 14814, \"proportion\": 0.002767652220872148}, {\"year\": 1833, \"total_results\": 45, \"ill_type\": \"Illustration\", \"total_articles\": 15622, \"proportion\": 0.0028805530661887083}, {\"year\": 1834, \"total_results\": 129, \"ill_type\": \"Illustration\", \"total_articles\": 18704, \"proportion\": 0.006896920444824636}, {\"year\": 1835, \"total_results\": 29, \"ill_type\": \"Illustration\", \"total_articles\": 20389, \"proportion\": 0.0014223355731031438}, {\"year\": 1836, \"total_results\": 52, \"ill_type\": \"Illustration\", \"total_articles\": 20553, \"proportion\": 0.002530044275774826}, {\"year\": 1837, \"total_results\": 67, \"ill_type\": \"Illustration\", \"total_articles\": 21805, \"proportion\": 0.003072689750057326}, {\"year\": 1838, \"total_results\": 111, \"ill_type\": \"Illustration\", \"total_articles\": 25911, \"proportion\": 0.004283894870904249}, {\"year\": 1839, \"total_results\": 274, \"ill_type\": \"Illustration\", \"total_articles\": 32876, \"proportion\": 0.00833434724419029}, {\"year\": 1840, \"total_results\": 244, \"ill_type\": \"Illustration\", \"total_articles\": 42411, \"proportion\": 0.0057532243993303625}, {\"year\": 1841, \"total_results\": 262, \"ill_type\": \"Illustration\", \"total_articles\": 46377, \"proportion\": 0.005649352049507299}, {\"year\": 1842, \"total_results\": 173, \"ill_type\": \"Illustration\", \"total_articles\": 47934, \"proportion\": 0.0036091292193432636}, {\"year\": 1843, \"total_results\": 198, \"ill_type\": \"Illustration\", \"total_articles\": 49913, \"proportion\": 0.003966902410193737}, {\"year\": 1844, \"total_results\": 174, \"ill_type\": \"Illustration\", \"total_articles\": 54331, \"proportion\": 0.003202591522335315}, {\"year\": 1845, \"total_results\": 222, \"ill_type\": \"Illustration\", \"total_articles\": 63389, \"proportion\": 0.0035021849216741075}, {\"year\": 1846, \"total_results\": 180, \"ill_type\": \"Illustration\", \"total_articles\": 62153, \"proportion\": 0.0028960790307788844}, {\"year\": 1847, \"total_results\": 221, \"ill_type\": \"Illustration\", \"total_articles\": 62767, \"proportion\": 0.003520958465435659}, {\"year\": 1848, \"total_results\": 208, \"ill_type\": \"Illustration\", \"total_articles\": 63463, \"proportion\": 0.0032775002757512253}, {\"year\": 1849, \"total_results\": 158, \"ill_type\": \"Illustration\", \"total_articles\": 62794, \"proportion\": 0.0025161639647100042}, {\"year\": 1850, \"total_results\": 206, \"ill_type\": \"Illustration\", \"total_articles\": 81624, \"proportion\": 0.002523767519357052}, {\"year\": 1851, \"total_results\": 297, \"ill_type\": \"Illustration\", \"total_articles\": 96566, \"proportion\": 0.0030756166766770913}, {\"year\": 1852, \"total_results\": 199, \"ill_type\": \"Illustration\", \"total_articles\": 79960, \"proportion\": 0.002488744372186093}, {\"year\": 1853, \"total_results\": 436, \"ill_type\": \"Illustration\", \"total_articles\": 96033, \"proportion\": 0.00454010600522737}, {\"year\": 1854, \"total_results\": 472, \"ill_type\": \"Illustration\", \"total_articles\": 118895, \"proportion\": 0.003969889398208503}, {\"year\": 1855, \"total_results\": 571, \"ill_type\": \"Illustration\", \"total_articles\": 159935, \"proportion\": 0.003570200393910026}, {\"year\": 1856, \"total_results\": 467, \"ill_type\": \"Illustration\", \"total_articles\": 168695, \"proportion\": 0.002768309671300276}, {\"year\": 1857, \"total_results\": 757, \"ill_type\": \"Illustration\", \"total_articles\": 175982, \"proportion\": 0.004301576297575888}, {\"year\": 1858, \"total_results\": 739, \"ill_type\": \"Illustration\", \"total_articles\": 182050, \"proportion\": 0.0040593243614391655}, {\"year\": 1859, \"total_results\": 757, \"ill_type\": \"Illustration\", \"total_articles\": 208543, \"proportion\": 0.0036299468215188237}, {\"year\": 1860, \"total_results\": 704, \"ill_type\": \"Illustration\", \"total_articles\": 221733, \"proportion\": 0.0031749897399124174}, {\"year\": 1861, \"total_results\": 555, \"ill_type\": \"Illustration\", \"total_articles\": 245273, \"proportion\": 0.002262784733745663}, {\"year\": 1862, \"total_results\": 304, \"ill_type\": \"Illustration\", \"total_articles\": 252981, \"proportion\": 0.0012016712717555864}, {\"year\": 1863, \"total_results\": 307, \"ill_type\": \"Illustration\", \"total_articles\": 260291, \"proportion\": 0.0011794491549842292}, {\"year\": 1864, \"total_results\": 619, \"ill_type\": \"Illustration\", \"total_articles\": 274076, \"proportion\": 0.0022584976429895357}, {\"year\": 1865, \"total_results\": 800, \"ill_type\": \"Illustration\", \"total_articles\": 292157, \"proportion\": 0.002738253747129112}, {\"year\": 1866, \"total_results\": 885, \"ill_type\": \"Illustration\", \"total_articles\": 297673, \"proportion\": 0.0029730610434940356}, {\"year\": 1867, \"total_results\": 1315, \"ill_type\": \"Illustration\", \"total_articles\": 306399, \"proportion\": 0.004291789464064831}, {\"year\": 1868, \"total_results\": 1053, \"ill_type\": \"Illustration\", \"total_articles\": 315179, \"proportion\": 0.0033409586298579538}, {\"year\": 1869, \"total_results\": 1449, \"ill_type\": \"Illustration\", \"total_articles\": 337323, \"proportion\": 0.0042955861296146425}, {\"year\": 1870, \"total_results\": 1798, \"ill_type\": \"Illustration\", \"total_articles\": 385289, \"proportion\": 0.004666626869700406}, {\"year\": 1871, \"total_results\": 2247, \"ill_type\": \"Illustration\", \"total_articles\": 371982, \"proportion\": 0.006040614868461377}, {\"year\": 1872, \"total_results\": 2461, \"ill_type\": \"Illustration\", \"total_articles\": 397020, \"proportion\": 0.0061986801672459825}, {\"year\": 1873, \"total_results\": 2594, \"ill_type\": \"Illustration\", \"total_articles\": 430691, \"proportion\": 0.006022879512225702}, {\"year\": 1874, \"total_results\": 2703, \"ill_type\": \"Illustration\", \"total_articles\": 445748, \"proportion\": 0.006063964392436982}, {\"year\": 1875, \"total_results\": 2740, \"ill_type\": \"Illustration\", \"total_articles\": 482469, \"proportion\": 0.005679121352874485}, {\"year\": 1876, \"total_results\": 2879, \"ill_type\": \"Illustration\", \"total_articles\": 494060, \"proportion\": 0.005827227462251549}, {\"year\": 1877, \"total_results\": 3346, \"ill_type\": \"Illustration\", \"total_articles\": 509249, \"proportion\": 0.006570459637623245}, {\"year\": 1878, \"total_results\": 3338, \"ill_type\": \"Illustration\", \"total_articles\": 578926, \"proportion\": 0.005765849175887764}, {\"year\": 1879, \"total_results\": 2631, \"ill_type\": \"Illustration\", \"total_articles\": 620648, \"proportion\": 0.004239117825240716}, {\"year\": 1880, \"total_results\": 3160, \"ill_type\": \"Illustration\", \"total_articles\": 635861, \"proportion\": 0.004969639591042696}, {\"year\": 1881, \"total_results\": 3559, \"ill_type\": \"Illustration\", \"total_articles\": 679154, \"proportion\": 0.0052403431327799}, {\"year\": 1882, \"total_results\": 3466, \"ill_type\": \"Illustration\", \"total_articles\": 764271, \"proportion\": 0.004535040581155114}, {\"year\": 1883, \"total_results\": 3969, \"ill_type\": \"Illustration\", \"total_articles\": 795970, \"proportion\": 0.004986368832996219}, {\"year\": 1884, \"total_results\": 4013, \"ill_type\": \"Illustration\", \"total_articles\": 898376, \"proportion\": 0.004466949250647835}, {\"year\": 1885, \"total_results\": 3959, \"ill_type\": \"Illustration\", \"total_articles\": 952777, \"proportion\": 0.004155222050910129}, {\"year\": 1886, \"total_results\": 4348, \"ill_type\": \"Illustration\", \"total_articles\": 1031192, \"proportion\": 0.004216479569275169}, {\"year\": 1887, \"total_results\": 5968, \"ill_type\": \"Illustration\", \"total_articles\": 1070273, \"proportion\": 0.005576147394169525}, {\"year\": 1888, \"total_results\": 7497, \"ill_type\": \"Illustration\", \"total_articles\": 1199895, \"proportion\": 0.006248046704086608}, {\"year\": 1889, \"total_results\": 8024, \"ill_type\": \"Illustration\", \"total_articles\": 1288503, \"proportion\": 0.006227381697985957}, {\"year\": 1890, \"total_results\": 8433, \"ill_type\": \"Illustration\", \"total_articles\": 1403249, \"proportion\": 0.006009624806431361}, {\"year\": 1891, \"total_results\": 7853, \"ill_type\": \"Illustration\", \"total_articles\": 1473337, \"proportion\": 0.0053300772328394655}, {\"year\": 1892, \"total_results\": 9309, \"ill_type\": \"Illustration\", \"total_articles\": 1532205, \"proportion\": 0.006075557774579772}, {\"year\": 1893, \"total_results\": 12695, \"ill_type\": \"Illustration\", \"total_articles\": 1560089, \"proportion\": 0.008137356266213017}, {\"year\": 1894, \"total_results\": 14344, \"ill_type\": \"Illustration\", \"total_articles\": 1620538, \"proportion\": 0.008851381454800814}, {\"year\": 1895, \"total_results\": 15400, \"ill_type\": \"Illustration\", \"total_articles\": 1738871, \"proportion\": 0.008856321141706314}, {\"year\": 1896, \"total_results\": 14073, \"ill_type\": \"Illustration\", \"total_articles\": 1858409, \"proportion\": 0.0075726064606876095}, {\"year\": 1897, \"total_results\": 16196, \"ill_type\": \"Illustration\", \"total_articles\": 1970237, \"proportion\": 0.008220330853597815}, {\"year\": 1898, \"total_results\": 19833, \"ill_type\": \"Illustration\", \"total_articles\": 2197298, \"proportion\": 0.009026085674314545}, {\"year\": 1899, \"total_results\": 21916, \"ill_type\": \"Illustration\", \"total_articles\": 2378661, \"proportion\": 0.00921358697182995}, {\"year\": 1900, \"total_results\": 22207, \"ill_type\": \"Illustration\", \"total_articles\": 2615010, \"proportion\": 0.008492128137177295}, {\"year\": 1901, \"total_results\": 25344, \"ill_type\": \"Illustration\", \"total_articles\": 2712040, \"proportion\": 0.009344994911579476}, {\"year\": 1902, \"total_results\": 23988, \"ill_type\": \"Illustration\", \"total_articles\": 2769996, \"proportion\": 0.008659940303162892}, {\"year\": 1903, \"total_results\": 25115, \"ill_type\": \"Illustration\", \"total_articles\": 2802628, \"proportion\": 0.008961232100728316}, {\"year\": 1904, \"total_results\": 24885, \"ill_type\": \"Illustration\", \"total_articles\": 2963666, \"proportion\": 0.008396695174152553}, {\"year\": 1905, \"total_results\": 30005, \"ill_type\": \"Illustration\", \"total_articles\": 3093983, \"proportion\": 0.009697855482722433}, {\"year\": 1906, \"total_results\": 29764, \"ill_type\": \"Illustration\", \"total_articles\": 3136799, \"proportion\": 0.009488653879320925}, {\"year\": 1907, \"total_results\": 32148, \"ill_type\": \"Illustration\", \"total_articles\": 3295230, \"proportion\": 0.009755919920612522}, {\"year\": 1908, \"total_results\": 30979, \"ill_type\": \"Illustration\", \"total_articles\": 3396203, \"proportion\": 0.00912165733320417}, {\"year\": 1909, \"total_results\": 29202, \"ill_type\": \"Illustration\", \"total_articles\": 3453773, \"proportion\": 0.00845510113142931}, {\"year\": 1910, \"total_results\": 31650, \"ill_type\": \"Illustration\", \"total_articles\": 3686929, \"proportion\": 0.008584380116894033}, {\"year\": 1911, \"total_results\": 35351, \"ill_type\": \"Illustration\", \"total_articles\": 3813205, \"proportion\": 0.00927067912687621}, {\"year\": 1912, \"total_results\": 33100, \"ill_type\": \"Illustration\", \"total_articles\": 3968854, \"proportion\": 0.00833993893451359}, {\"year\": 1913, \"total_results\": 33536, \"ill_type\": \"Illustration\", \"total_articles\": 4044296, \"proportion\": 0.008292172481935051}, {\"year\": 1914, \"total_results\": 33798, \"ill_type\": \"Illustration\", \"total_articles\": 4682621, \"proportion\": 0.007217752621875654}, {\"year\": 1915, \"total_results\": 28893, \"ill_type\": \"Illustration\", \"total_articles\": 4783530, \"proportion\": 0.006040100093445635}, {\"year\": 1916, \"total_results\": 23806, \"ill_type\": \"Illustration\", \"total_articles\": 4369287, \"proportion\": 0.005448486217545334}, {\"year\": 1917, \"total_results\": 22405, \"ill_type\": \"Illustration\", \"total_articles\": 4262301, \"proportion\": 0.0052565503937896454}, {\"year\": 1918, \"total_results\": 20355, \"ill_type\": \"Illustration\", \"total_articles\": 4040965, \"proportion\": 0.005037163152860765}, {\"year\": 1919, \"total_results\": 16682, \"ill_type\": \"Illustration\", \"total_articles\": 3558241, \"proportion\": 0.004688271536413638}, {\"year\": 1920, \"total_results\": 16809, \"ill_type\": \"Illustration\", \"total_articles\": 3304747, \"proportion\": 0.005086319769713082}, {\"year\": 1921, \"total_results\": 20619, \"ill_type\": \"Illustration\", \"total_articles\": 3485308, \"proportion\": 0.0059159764359419595}, {\"year\": 1922, \"total_results\": 26557, \"ill_type\": \"Illustration\", \"total_articles\": 3635068, \"proportion\": 0.007305778048718759}, {\"year\": 1923, \"total_results\": 34000, \"ill_type\": \"Illustration\", \"total_articles\": 3944282, \"proportion\": 0.008620073311188196}, {\"year\": 1924, \"total_results\": 42100, \"ill_type\": \"Illustration\", \"total_articles\": 4249519, \"proportion\": 0.009907003592641897}, {\"year\": 1925, \"total_results\": 46771, \"ill_type\": \"Illustration\", \"total_articles\": 4231795, \"proportion\": 0.01105228395987991}, {\"year\": 1926, \"total_results\": 44500, \"ill_type\": \"Illustration\", \"total_articles\": 4226596, \"proportion\": 0.010528567196864805}, {\"year\": 1927, \"total_results\": 50919, \"ill_type\": \"Illustration\", \"total_articles\": 4321841, \"proportion\": 0.011781784660749898}, {\"year\": 1928, \"total_results\": 59743, \"ill_type\": \"Illustration\", \"total_articles\": 4441252, \"proportion\": 0.013451837454843815}, {\"year\": 1929, \"total_results\": 64373, \"ill_type\": \"Illustration\", \"total_articles\": 4661832, \"proportion\": 0.013808519912343473}, {\"year\": 1930, \"total_results\": 72235, \"ill_type\": \"Illustration\", \"total_articles\": 4505395, \"proportion\": 0.01603300043614378}, {\"year\": 1931, \"total_results\": 62470, \"ill_type\": \"Illustration\", \"total_articles\": 4119730, \"proportion\": 0.015163615091280254}, {\"year\": 1932, \"total_results\": 66478, \"ill_type\": \"Illustration\", \"total_articles\": 4134954, \"proportion\": 0.01607708332426431}, {\"year\": 1933, \"total_results\": 71619, \"ill_type\": \"Illustration\", \"total_articles\": 4320822, \"proportion\": 0.016575318307488714}, {\"year\": 1934, \"total_results\": 81954, \"ill_type\": \"Illustration\", \"total_articles\": 4457622, \"proportion\": 0.018385138982174802}, {\"year\": 1935, \"total_results\": 78918, \"ill_type\": \"Illustration\", \"total_articles\": 4552116, \"proportion\": 0.01733655293494278}, {\"year\": 1936, \"total_results\": 80149, \"ill_type\": \"Illustration\", \"total_articles\": 4632922, \"proportion\": 0.01729988115491692}, {\"year\": 1937, \"total_results\": 76612, \"ill_type\": \"Illustration\", \"total_articles\": 4618274, \"proportion\": 0.01658888147390129}, {\"year\": 1938, \"total_results\": 75092, \"ill_type\": \"Illustration\", \"total_articles\": 4616705, \"proportion\": 0.016265280107782498}, {\"year\": 1939, \"total_results\": 65711, \"ill_type\": \"Illustration\", \"total_articles\": 4387229, \"proportion\": 0.01497779122083666}, {\"year\": 1940, \"total_results\": 50587, \"ill_type\": \"Illustration\", \"total_articles\": 3783203, \"proportion\": 0.013371473854297536}, {\"year\": 1941, \"total_results\": 41967, \"ill_type\": \"Illustration\", \"total_articles\": 3598964, \"proportion\": 0.011660855735150449}, {\"year\": 1942, \"total_results\": 29968, \"ill_type\": \"Illustration\", \"total_articles\": 2935253, \"proportion\": 0.010209682095546789}, {\"year\": 1943, \"total_results\": 25196, \"ill_type\": \"Illustration\", \"total_articles\": 2586289, \"proportion\": 0.009742144052733473}, {\"year\": 1944, \"total_results\": 28171, \"ill_type\": \"Illustration\", \"total_articles\": 2635712, \"proportion\": 0.010688193550736955}, {\"year\": 1945, \"total_results\": 31515, \"ill_type\": \"Illustration\", \"total_articles\": 2769932, \"proportion\": 0.011377535621813099}, {\"year\": 1946, \"total_results\": 50315, \"ill_type\": \"Illustration\", \"total_articles\": 3323157, \"proportion\": 0.015140723113593489}, {\"year\": 1947, \"total_results\": 58790, \"ill_type\": \"Illustration\", \"total_articles\": 3441909, \"proportion\": 0.017080637518307427}, {\"year\": 1948, \"total_results\": 46118, \"ill_type\": \"Illustration\", \"total_articles\": 3101920, \"proportion\": 0.014867565894671687}, {\"year\": 1949, \"total_results\": 61389, \"ill_type\": \"Illustration\", \"total_articles\": 3524852, \"proportion\": 0.017416050376015787}, {\"year\": 1950, \"total_results\": 64796, \"ill_type\": \"Illustration\", \"total_articles\": 3554270, \"proportion\": 0.018230466453026922}, {\"year\": 1951, \"total_results\": 53437, \"ill_type\": \"Illustration\", \"total_articles\": 3281008, \"proportion\": 0.016286763092317972}, {\"year\": 1952, \"total_results\": 50637, \"ill_type\": \"Illustration\", \"total_articles\": 3375009, \"proportion\": 0.015003515546180766}, {\"year\": 1953, \"total_results\": 55858, \"ill_type\": \"Illustration\", \"total_articles\": 3592915, \"proportion\": 0.015546707895956347}, {\"year\": 1954, \"total_results\": 61504, \"ill_type\": \"Illustration\", \"total_articles\": 3541607, \"proportion\": 0.01736612786229528}, {\"year\": 1955, \"total_results\": 11960, \"ill_type\": \"Illustration\", \"total_articles\": 404423, \"proportion\": 0.02957299659020382}, {\"year\": 1956, \"total_results\": 8404, \"ill_type\": \"Illustration\", \"total_articles\": 229324, \"proportion\": 0.03664684027838342}, {\"year\": 1957, \"total_results\": 5941, \"ill_type\": \"Illustration\", \"total_articles\": 153132, \"proportion\": 0.03879659378836559}, {\"year\": 1958, \"total_results\": 5976, \"ill_type\": \"Illustration\", \"total_articles\": 153484, \"proportion\": 0.038935654530765425}, {\"year\": 1959, \"total_results\": 6349, \"ill_type\": \"Illustration\", \"total_articles\": 153425, \"proportion\": 0.04138178262994949}, {\"year\": 1960, \"total_results\": 5940, \"ill_type\": \"Illustration\", \"total_articles\": 154646, \"proportion\": 0.038410304825213716}, {\"year\": 1961, \"total_results\": 6001, \"ill_type\": \"Illustration\", \"total_articles\": 151751, \"proportion\": 0.03954504418422284}, {\"year\": 1962, \"total_results\": 6522, \"ill_type\": \"Illustration\", \"total_articles\": 156236, \"proportion\": 0.04174454031081185}, {\"year\": 1963, \"total_results\": 6253, \"ill_type\": \"Illustration\", \"total_articles\": 167154, \"proportion\": 0.03740861720329756}, {\"year\": 1964, \"total_results\": 6205, \"ill_type\": \"Illustration\", \"total_articles\": 167801, \"proportion\": 0.03697832551653447}, {\"year\": 1965, \"total_results\": 7023, \"ill_type\": \"Illustration\", \"total_articles\": 177093, \"proportion\": 0.039657129304941474}, {\"year\": 1966, \"total_results\": 6765, \"ill_type\": \"Illustration\", \"total_articles\": 160897, \"proportion\": 0.04204553223490805}, {\"year\": 1967, \"total_results\": 6213, \"ill_type\": \"Illustration\", \"total_articles\": 155832, \"proportion\": 0.039869859849068226}, {\"year\": 1968, \"total_results\": 6905, \"ill_type\": \"Illustration\", \"total_articles\": 157330, \"proportion\": 0.04388864170851078}, {\"year\": 1969, \"total_results\": 8255, \"ill_type\": \"Illustration\", \"total_articles\": 179517, \"proportion\": 0.04598450286045333}, {\"year\": 1970, \"total_results\": 9099, \"ill_type\": \"Illustration\", \"total_articles\": 193249, \"proportion\": 0.047084331613617664}, {\"year\": 1971, \"total_results\": 8486, \"ill_type\": \"Illustration\", \"total_articles\": 191379, \"proportion\": 0.04434133316612585}, {\"year\": 1972, \"total_results\": 8479, \"ill_type\": \"Illustration\", \"total_articles\": 179093, \"proportion\": 0.04734411730218378}, {\"year\": 1973, \"total_results\": 8576, \"ill_type\": \"Illustration\", \"total_articles\": 180806, \"proportion\": 0.04743205424598741}, {\"year\": 1974, \"total_results\": 8061, \"ill_type\": \"Illustration\", \"total_articles\": 179385, \"proportion\": 0.04493686763107283}, {\"year\": 1975, \"total_results\": 8009, \"ill_type\": \"Illustration\", \"total_articles\": 168395, \"proportion\": 0.04756079456040856}, {\"year\": 1976, \"total_results\": 8073, \"ill_type\": \"Illustration\", \"total_articles\": 169153, \"proportion\": 0.04772602318610962}, {\"year\": 1977, \"total_results\": 9692, \"ill_type\": \"Illustration\", \"total_articles\": 170625, \"proportion\": 0.056802930402930406}, {\"year\": 1978, \"total_results\": 10254, \"ill_type\": \"Illustration\", \"total_articles\": 175661, \"proportion\": 0.05837379953433033}, {\"year\": 1979, \"total_results\": 10520, \"ill_type\": \"Illustration\", \"total_articles\": 184844, \"proportion\": 0.05691285624634827}, {\"year\": 1980, \"total_results\": 10582, \"ill_type\": \"Illustration\", \"total_articles\": 185923, \"proportion\": 0.056916035132823804}, {\"year\": 1981, \"total_results\": 9022, \"ill_type\": \"Illustration\", \"total_articles\": 164070, \"proportion\": 0.05498872432498324}, {\"year\": 1982, \"total_results\": 8561, \"ill_type\": \"Illustration\", \"total_articles\": 153396, \"proportion\": 0.05580979947325875}, {\"year\": 1983, \"total_results\": 5919, \"ill_type\": \"Illustration\", \"total_articles\": 141802, \"proportion\": 0.04174130125104018}, {\"year\": 1984, \"total_results\": 6068, \"ill_type\": \"Illustration\", \"total_articles\": 146493, \"proportion\": 0.04142177441925553}, {\"year\": 1985, \"total_results\": 6222, \"ill_type\": \"Illustration\", \"total_articles\": 155564, \"proportion\": 0.03999640019541796}, {\"year\": 1986, \"total_results\": 6525, \"ill_type\": \"Illustration\", \"total_articles\": 152788, \"proportion\": 0.042706233473833025}, {\"year\": 1987, \"total_results\": 6166, \"ill_type\": \"Illustration\", \"total_articles\": 133503, \"proportion\": 0.04618622802483839}, {\"year\": 1988, \"total_results\": 6474, \"ill_type\": \"Illustration\", \"total_articles\": 143213, \"proportion\": 0.045205393365127466}, {\"year\": 1989, \"total_results\": 7381, \"ill_type\": \"Illustration\", \"total_articles\": 146122, \"proportion\": 0.05051258537386567}, {\"year\": 1990, \"total_results\": 6640, \"ill_type\": \"Illustration\", \"total_articles\": 138585, \"proportion\": 0.047912833279214924}, {\"year\": 1991, \"total_results\": 6788, \"ill_type\": \"Illustration\", \"total_articles\": 139257, \"proportion\": 0.04874440782150987}, {\"year\": 1992, \"total_results\": 7266, \"ill_type\": \"Illustration\", \"total_articles\": 159414, \"proportion\": 0.04557943467951372}, {\"year\": 1993, \"total_results\": 7667, \"ill_type\": \"Illustration\", \"total_articles\": 160603, \"proportion\": 0.047738834268351155}, {\"year\": 1994, \"total_results\": 8285, \"ill_type\": \"Illustration\", \"total_articles\": 155783, \"proportion\": 0.05318295321055571}, {\"year\": 1995, \"total_results\": 8908, \"ill_type\": \"Illustration\", \"total_articles\": 154299, \"proportion\": 0.057732065664715906}, {\"year\": 1996, \"total_results\": 3930, \"ill_type\": \"Illustration\", \"total_articles\": 69400, \"proportion\": 0.056628242074927955}, {\"year\": 1997, \"total_results\": 3872, \"ill_type\": \"Illustration\", \"total_articles\": 73218, \"proportion\": 0.05288317080499331}, {\"year\": 1998, \"total_results\": 4235, \"ill_type\": \"Illustration\", \"total_articles\": 80878, \"proportion\": 0.05236281807166349}, {\"year\": 1999, \"total_results\": 4671, \"ill_type\": \"Illustration\", \"total_articles\": 90368, \"proportion\": 0.05168865084985836}, {\"year\": 2000, \"total_results\": 4251, \"ill_type\": \"Illustration\", \"total_articles\": 68823, \"proportion\": 0.06176714179852665}, {\"year\": 2001, \"total_results\": 4793, \"ill_type\": \"Illustration\", \"total_articles\": 67114, \"proportion\": 0.07141579998211997}, {\"year\": 2002, \"total_results\": 5195, \"ill_type\": \"Illustration\", \"total_articles\": 68169, \"proportion\": 0.07620766037348355}, {\"year\": 2003, \"total_results\": 2160, \"ill_type\": \"Illustration\", \"total_articles\": 33361, \"proportion\": 0.06474626060369892}, {\"year\": 2004, \"total_results\": 1771, \"ill_type\": \"Illustration\", \"total_articles\": 30793, \"proportion\": 0.057513071152534664}, {\"year\": 2005, \"total_results\": 1574, \"ill_type\": \"Illustration\", \"total_articles\": 26677, \"proportion\": 0.05900213667203959}, {\"year\": 2006, \"total_results\": 1352, \"ill_type\": \"Illustration\", \"total_articles\": 26179, \"proportion\": 0.051644447839871654}, {\"year\": 2007, \"total_results\": 1943, \"ill_type\": \"Illustration\", \"total_articles\": 27726, \"proportion\": 0.07007862655990767}, {\"year\": 2008, \"total_results\": 1666, \"ill_type\": \"Illustration\", \"total_articles\": 26158, \"proportion\": 0.0636898845477483}, {\"year\": 2009, \"total_results\": 1239, \"ill_type\": \"Illustration\", \"total_articles\": 14340, \"proportion\": 0.08640167364016736}, {\"year\": 2010, \"total_results\": 1196, \"ill_type\": \"Illustration\", \"total_articles\": 14750, \"proportion\": 0.08108474576271187}, {\"year\": 2011, \"total_results\": 1202, \"ill_type\": \"Illustration\", \"total_articles\": 15228, \"proportion\": 0.07893354347255056}, {\"year\": 2012, \"total_results\": 666, \"ill_type\": \"Illustration\", \"total_articles\": 8112, \"proportion\": 0.08210059171597633}, {\"year\": 2013, \"total_results\": 798, \"ill_type\": \"Illustration\", \"total_articles\": 8358, \"proportion\": 0.09547738693467336}, {\"year\": 2014, \"total_results\": 648, \"ill_type\": \"Illustration\", \"total_articles\": 8077, \"proportion\": 0.08022780735421567}, {\"year\": 2015, \"total_results\": 678, \"ill_type\": \"Illustration\", \"total_articles\": 8255, \"proportion\": 0.08213204118715929}, {\"year\": 2016, \"total_results\": 126, \"ill_type\": \"Illustration\", \"total_articles\": 4665, \"proportion\": 0.027009646302250803}, {\"year\": 2017, \"total_results\": 232, \"ill_type\": \"Illustration\", \"total_articles\": 4184, \"proportion\": 0.055449330783938815}, {\"year\": 2018, \"total_results\": 120, \"ill_type\": \"Illustration\", \"total_articles\": 3506, \"proportion\": 0.034227039361095266}, {\"year\": 2019, \"total_results\": 146, \"ill_type\": \"Illustration\", \"total_articles\": 3314, \"proportion\": 0.044055522027761015}, {\"year\": 1838, \"total_results\": 1, \"ill_type\": \"Map\", \"total_articles\": 25911, \"proportion\": 3.859364748562387e-05}, {\"year\": 1841, \"total_results\": 1, \"ill_type\": \"Map\", \"total_articles\": 46377, \"proportion\": 2.1562412402699614e-05}, {\"year\": 1843, \"total_results\": 1, \"ill_type\": \"Map\", \"total_articles\": 49913, \"proportion\": 2.0034860657544126e-05}, {\"year\": 1845, \"total_results\": 2, \"ill_type\": \"Map\", \"total_articles\": 63389, \"proportion\": 3.155121551057755e-05}, {\"year\": 1846, \"total_results\": 2, \"ill_type\": \"Map\", \"total_articles\": 62153, \"proportion\": 3.217865589754316e-05}, {\"year\": 1850, \"total_results\": 1, \"ill_type\": \"Map\", \"total_articles\": 81624, \"proportion\": 1.2251298637655592e-05}, {\"year\": 1854, \"total_results\": 1, \"ill_type\": \"Map\", \"total_articles\": 118895, \"proportion\": 8.410782623323101e-06}, {\"year\": 1858, \"total_results\": 1, \"ill_type\": \"Map\", \"total_articles\": 182050, \"proportion\": 5.492996429552321e-06}, {\"year\": 1859, \"total_results\": 7, \"ill_type\": \"Map\", \"total_articles\": 208543, \"proportion\": 3.3566218957241434e-05}, {\"year\": 1862, \"total_results\": 1, \"ill_type\": \"Map\", \"total_articles\": 252981, \"proportion\": 3.952866025511797e-06}, {\"year\": 1863, \"total_results\": 1, \"ill_type\": \"Map\", \"total_articles\": 260291, \"proportion\": 3.841853925030062e-06}, {\"year\": 1864, \"total_results\": 1, \"ill_type\": \"Map\", \"total_articles\": 274076, \"proportion\": 3.6486230096761483e-06}, {\"year\": 1865, \"total_results\": 1, \"ill_type\": \"Map\", \"total_articles\": 292157, \"proportion\": 3.42281718391139e-06}, {\"year\": 1866, \"total_results\": 2, \"ill_type\": \"Map\", \"total_articles\": 297673, \"proportion\": 6.7187820191955605e-06}, {\"year\": 1868, \"total_results\": 1, \"ill_type\": \"Map\", \"total_articles\": 315179, \"proportion\": 3.172800218288655e-06}, {\"year\": 1869, \"total_results\": 3, \"ill_type\": \"Map\", \"total_articles\": 337323, \"proportion\": 8.893553063384353e-06}, {\"year\": 1870, \"total_results\": 21, \"ill_type\": \"Map\", \"total_articles\": 385289, \"proportion\": 5.450454074733512e-05}, {\"year\": 1871, \"total_results\": 10, \"ill_type\": \"Map\", \"total_articles\": 371982, \"proportion\": 2.688302122145695e-05}, {\"year\": 1872, \"total_results\": 5, \"ill_type\": \"Map\", \"total_articles\": 397020, \"proportion\": 1.2593823988715934e-05}, {\"year\": 1873, \"total_results\": 9, \"ill_type\": \"Map\", \"total_articles\": 430691, \"proportion\": 2.0896652124144687e-05}, {\"year\": 1874, \"total_results\": 16, \"ill_type\": \"Map\", \"total_articles\": 445748, \"proportion\": 3.5894720783940704e-05}, {\"year\": 1875, \"total_results\": 10, \"ill_type\": \"Map\", \"total_articles\": 482469, \"proportion\": 2.0726720265965273e-05}, {\"year\": 1876, \"total_results\": 14, \"ill_type\": \"Map\", \"total_articles\": 494060, \"proportion\": 2.8336639274582036e-05}, {\"year\": 1877, \"total_results\": 324, \"ill_type\": \"Map\", \"total_articles\": 509249, \"proportion\": 0.0006362309989808522}, {\"year\": 1878, \"total_results\": 321, \"ill_type\": \"Map\", \"total_articles\": 578926, \"proportion\": 0.0005544750106231194}, {\"year\": 1879, \"total_results\": 312, \"ill_type\": \"Map\", \"total_articles\": 620648, \"proportion\": 0.0005027004034492982}, {\"year\": 1880, \"total_results\": 327, \"ill_type\": \"Map\", \"total_articles\": 635861, \"proportion\": 0.0005142633374275196}, {\"year\": 1881, \"total_results\": 396, \"ill_type\": \"Map\", \"total_articles\": 679154, \"proportion\": 0.0005830783592528352}, {\"year\": 1882, \"total_results\": 650, \"ill_type\": \"Map\", \"total_articles\": 764271, \"proportion\": 0.0008504836635172602}, {\"year\": 1883, \"total_results\": 651, \"ill_type\": \"Map\", \"total_articles\": 795970, \"proportion\": 0.000817870020226893}, {\"year\": 1884, \"total_results\": 629, \"ill_type\": \"Map\", \"total_articles\": 898376, \"proportion\": 0.0007001522747713652}, {\"year\": 1885, \"total_results\": 692, \"ill_type\": \"Map\", \"total_articles\": 952777, \"proportion\": 0.0007262979689895957}, {\"year\": 1886, \"total_results\": 653, \"ill_type\": \"Map\", \"total_articles\": 1031192, \"proportion\": 0.0006332477365999736}, {\"year\": 1887, \"total_results\": 688, \"ill_type\": \"Map\", \"total_articles\": 1070273, \"proportion\": 0.0006428266432956826}, {\"year\": 1888, \"total_results\": 785, \"ill_type\": \"Map\", \"total_articles\": 1199895, \"proportion\": 0.0006542239112589018}, {\"year\": 1889, \"total_results\": 694, \"ill_type\": \"Map\", \"total_articles\": 1288503, \"proportion\": 0.0005386095336991842}, {\"year\": 1890, \"total_results\": 223, \"ill_type\": \"Map\", \"total_articles\": 1403249, \"proportion\": 0.00015891691353423377}, {\"year\": 1891, \"total_results\": 115, \"ill_type\": \"Map\", \"total_articles\": 1473337, \"proportion\": 7.805410439023794e-05}, {\"year\": 1892, \"total_results\": 61, \"ill_type\": \"Map\", \"total_articles\": 1532205, \"proportion\": 3.9811905064922776e-05}, {\"year\": 1893, \"total_results\": 186, \"ill_type\": \"Map\", \"total_articles\": 1560089, \"proportion\": 0.00011922396735058064}, {\"year\": 1894, \"total_results\": 191, \"ill_type\": \"Map\", \"total_articles\": 1620538, \"proportion\": 0.0001178620927124202}, {\"year\": 1895, \"total_results\": 113, \"ill_type\": \"Map\", \"total_articles\": 1738871, \"proportion\": 6.498469409174114e-05}, {\"year\": 1896, \"total_results\": 166, \"ill_type\": \"Map\", \"total_articles\": 1858409, \"proportion\": 8.932371722263505e-05}, {\"year\": 1897, \"total_results\": 435, \"ill_type\": \"Map\", \"total_articles\": 1970237, \"proportion\": 0.00022078562122221845}, {\"year\": 1898, \"total_results\": 813, \"ill_type\": \"Map\", \"total_articles\": 2197298, \"proportion\": 0.00036999988167285455}, {\"year\": 1899, \"total_results\": 1130, \"ill_type\": \"Map\", \"total_articles\": 2378661, \"proportion\": 0.00047505718553421443}, {\"year\": 1900, \"total_results\": 1210, \"ill_type\": \"Map\", \"total_articles\": 2615010, \"proportion\": 0.00046271333570426117}, {\"year\": 1901, \"total_results\": 323, \"ill_type\": \"Map\", \"total_articles\": 2712040, \"proportion\": 0.00011909853836964057}, {\"year\": 1902, \"total_results\": 394, \"ill_type\": \"Map\", \"total_articles\": 2769996, \"proportion\": 0.00014223847254653076}, {\"year\": 1903, \"total_results\": 390, \"ill_type\": \"Map\", \"total_articles\": 2802628, \"proportion\": 0.00013915510727788348}, {\"year\": 1904, \"total_results\": 1037, \"ill_type\": \"Map\", \"total_articles\": 2963666, \"proportion\": 0.00034990447641535856}, {\"year\": 1905, \"total_results\": 1191, \"ill_type\": \"Map\", \"total_articles\": 3093983, \"proportion\": 0.0003849407058797673}, {\"year\": 1906, \"total_results\": 1688, \"ill_type\": \"Map\", \"total_articles\": 3136799, \"proportion\": 0.0005381282001173808}, {\"year\": 1907, \"total_results\": 1695, \"ill_type\": \"Map\", \"total_articles\": 3295230, \"proportion\": 0.0005143798763667483}, {\"year\": 1908, \"total_results\": 2246, \"ill_type\": \"Map\", \"total_articles\": 3396203, \"proportion\": 0.0006613267817029783}, {\"year\": 1909, \"total_results\": 2065, \"ill_type\": \"Map\", \"total_articles\": 3453773, \"proportion\": 0.0005978968507773962}, {\"year\": 1910, \"total_results\": 2344, \"ill_type\": \"Map\", \"total_articles\": 3686929, \"proportion\": 0.0006357594626856118}, {\"year\": 1911, \"total_results\": 3208, \"ill_type\": \"Map\", \"total_articles\": 3813205, \"proportion\": 0.0008412870538038212}, {\"year\": 1912, \"total_results\": 3733, \"ill_type\": \"Map\", \"total_articles\": 3968854, \"proportion\": 0.0009405737777202185}, {\"year\": 1913, \"total_results\": 3959, \"ill_type\": \"Map\", \"total_articles\": 4044296, \"proportion\": 0.0009789095555814906}, {\"year\": 1914, \"total_results\": 5567, \"ill_type\": \"Map\", \"total_articles\": 4682621, \"proportion\": 0.0011888640998278528}, {\"year\": 1915, \"total_results\": 5540, \"ill_type\": \"Map\", \"total_articles\": 4783530, \"proportion\": 0.001158140536382128}, {\"year\": 1916, \"total_results\": 5187, \"ill_type\": \"Map\", \"total_articles\": 4369287, \"proportion\": 0.0011871502146688921}, {\"year\": 1917, \"total_results\": 4812, \"ill_type\": \"Map\", \"total_articles\": 4262301, \"proportion\": 0.0011289676632410522}, {\"year\": 1918, \"total_results\": 4705, \"ill_type\": \"Map\", \"total_articles\": 4040965, \"proportion\": 0.0011643258479100908}, {\"year\": 1919, \"total_results\": 3710, \"ill_type\": \"Map\", \"total_articles\": 3558241, \"proportion\": 0.0010426500060001557}, {\"year\": 1920, \"total_results\": 3840, \"ill_type\": \"Map\", \"total_articles\": 3304747, \"proportion\": 0.0011619648947408076}, {\"year\": 1921, \"total_results\": 4214, \"ill_type\": \"Map\", \"total_articles\": 3485308, \"proportion\": 0.001209075352881295}, {\"year\": 1922, \"total_results\": 4571, \"ill_type\": \"Map\", \"total_articles\": 3635068, \"proportion\": 0.0012574730376433123}, {\"year\": 1923, \"total_results\": 4992, \"ill_type\": \"Map\", \"total_articles\": 3944282, \"proportion\": 0.001265629587336808}, {\"year\": 1924, \"total_results\": 5305, \"ill_type\": \"Map\", \"total_articles\": 4249519, \"proportion\": 0.0012483765809730466}, {\"year\": 1925, \"total_results\": 5350, \"ill_type\": \"Map\", \"total_articles\": 4231795, \"proportion\": 0.0012642389340693488}, {\"year\": 1926, \"total_results\": 5258, \"ill_type\": \"Map\", \"total_articles\": 4226596, \"proportion\": 0.0012440271083396662}, {\"year\": 1927, \"total_results\": 5503, \"ill_type\": \"Map\", \"total_articles\": 4321841, \"proportion\": 0.001273299966380068}, {\"year\": 1928, \"total_results\": 5666, \"ill_type\": \"Map\", \"total_articles\": 4441252, \"proportion\": 0.001275766382992904}, {\"year\": 1929, \"total_results\": 6140, \"ill_type\": \"Map\", \"total_articles\": 4661832, \"proportion\": 0.0013170787793296713}, {\"year\": 1930, \"total_results\": 5997, \"ill_type\": \"Map\", \"total_articles\": 4505395, \"proportion\": 0.0013310708606015676}, {\"year\": 1931, \"total_results\": 5486, \"ill_type\": \"Map\", \"total_articles\": 4119730, \"proportion\": 0.001331640665771786}, {\"year\": 1932, \"total_results\": 5493, \"ill_type\": \"Map\", \"total_articles\": 4134954, \"proportion\": 0.0013284307394955302}, {\"year\": 1933, \"total_results\": 5824, \"ill_type\": \"Map\", \"total_articles\": 4320822, \"proportion\": 0.0013478916743156742}, {\"year\": 1934, \"total_results\": 6021, \"ill_type\": \"Map\", \"total_articles\": 4457622, \"proportion\": 0.0013507201821957985}, {\"year\": 1935, \"total_results\": 7053, \"ill_type\": \"Map\", \"total_articles\": 4552116, \"proportion\": 0.0015493893389360025}, {\"year\": 1936, \"total_results\": 7449, \"ill_type\": \"Map\", \"total_articles\": 4632922, \"proportion\": 0.0016078405809551726}, {\"year\": 1937, \"total_results\": 8327, \"ill_type\": \"Map\", \"total_articles\": 4618274, \"proportion\": 0.0018030545610762808}, {\"year\": 1938, \"total_results\": 8621, \"ill_type\": \"Map\", \"total_articles\": 4616705, \"proportion\": 0.001867349115873767}, {\"year\": 1939, \"total_results\": 9247, \"ill_type\": \"Map\", \"total_articles\": 4387229, \"proportion\": 0.0021077085331082557}, {\"year\": 1940, \"total_results\": 9706, \"ill_type\": \"Map\", \"total_articles\": 3783203, \"proportion\": 0.0025655509366005473}, {\"year\": 1941, \"total_results\": 11703, \"ill_type\": \"Map\", \"total_articles\": 3598964, \"proportion\": 0.003251769120224598}, {\"year\": 1942, \"total_results\": 9115, \"ill_type\": \"Map\", \"total_articles\": 2935253, \"proportion\": 0.0031053541210927984}, {\"year\": 1943, \"total_results\": 8887, \"ill_type\": \"Map\", \"total_articles\": 2586289, \"proportion\": 0.00343619757884753}, {\"year\": 1944, \"total_results\": 11203, \"ill_type\": \"Map\", \"total_articles\": 2635712, \"proportion\": 0.004250464390646626}, {\"year\": 1945, \"total_results\": 9416, \"ill_type\": \"Map\", \"total_articles\": 2769932, \"proportion\": 0.0033993614283671946}, {\"year\": 1946, \"total_results\": 6147, \"ill_type\": \"Map\", \"total_articles\": 3323157, \"proportion\": 0.0018497470928999142}, {\"year\": 1947, \"total_results\": 6234, \"ill_type\": \"Map\", \"total_articles\": 3441909, \"proportion\": 0.0018112041893030874}, {\"year\": 1948, \"total_results\": 5778, \"ill_type\": \"Map\", \"total_articles\": 3101920, \"proportion\": 0.0018627172847784598}, {\"year\": 1949, \"total_results\": 7134, \"ill_type\": \"Map\", \"total_articles\": 3524852, \"proportion\": 0.0020239147629460756}, {\"year\": 1950, \"total_results\": 8522, \"ill_type\": \"Map\", \"total_articles\": 3554270, \"proportion\": 0.002397679410962026}, {\"year\": 1951, \"total_results\": 6997, \"ill_type\": \"Map\", \"total_articles\": 3281008, \"proportion\": 0.0021325763302009627}, {\"year\": 1952, \"total_results\": 7139, \"ill_type\": \"Map\", \"total_articles\": 3375009, \"proportion\": 0.002115253618582943}, {\"year\": 1953, \"total_results\": 7857, \"ill_type\": \"Map\", \"total_articles\": 3592915, \"proportion\": 0.0021868037512716}, {\"year\": 1954, \"total_results\": 7793, \"ill_type\": \"Map\", \"total_articles\": 3541607, \"proportion\": 0.002200413541084598}, {\"year\": 1955, \"total_results\": 785, \"ill_type\": \"Map\", \"total_articles\": 404423, \"proportion\": 0.0019410369835543477}, {\"year\": 1956, \"total_results\": 408, \"ill_type\": \"Map\", \"total_articles\": 229324, \"proportion\": 0.0017791421743908182}, {\"year\": 1957, \"total_results\": 61, \"ill_type\": \"Map\", \"total_articles\": 153132, \"proportion\": 0.0003983491366925267}, {\"year\": 1958, \"total_results\": 41, \"ill_type\": \"Map\", \"total_articles\": 153484, \"proportion\": 0.0002671288212452112}, {\"year\": 1959, \"total_results\": 44, \"ill_type\": \"Map\", \"total_articles\": 153425, \"proportion\": 0.0002867850741404595}, {\"year\": 1960, \"total_results\": 46, \"ill_type\": \"Map\", \"total_articles\": 154646, \"proportion\": 0.00029745353905047655}, {\"year\": 1961, \"total_results\": 32, \"ill_type\": \"Map\", \"total_articles\": 151751, \"proportion\": 0.00021087175702301798}, {\"year\": 1962, \"total_results\": 74, \"ill_type\": \"Map\", \"total_articles\": 156236, \"proportion\": 0.00047364243836247726}, {\"year\": 1963, \"total_results\": 69, \"ill_type\": \"Map\", \"total_articles\": 167154, \"proportion\": 0.000412792993287627}, {\"year\": 1964, \"total_results\": 266, \"ill_type\": \"Map\", \"total_articles\": 167801, \"proportion\": 0.0015852110535694067}, {\"year\": 1965, \"total_results\": 504, \"ill_type\": \"Map\", \"total_articles\": 177093, \"proportion\": 0.002845962290999644}, {\"year\": 1966, \"total_results\": 604, \"ill_type\": \"Map\", \"total_articles\": 160897, \"proportion\": 0.0037539543931832168}, {\"year\": 1967, \"total_results\": 675, \"ill_type\": \"Map\", \"total_articles\": 155832, \"proportion\": 0.004331587863853381}, {\"year\": 1968, \"total_results\": 541, \"ill_type\": \"Map\", \"total_articles\": 157330, \"proportion\": 0.003438632174410475}, {\"year\": 1969, \"total_results\": 576, \"ill_type\": \"Map\", \"total_articles\": 179517, \"proportion\": 0.003208609769548288}, {\"year\": 1970, \"total_results\": 605, \"ill_type\": \"Map\", \"total_articles\": 193249, \"proportion\": 0.0031306759672753803}, {\"year\": 1971, \"total_results\": 489, \"ill_type\": \"Map\", \"total_articles\": 191379, \"proportion\": 0.0025551392786042357}, {\"year\": 1972, \"total_results\": 536, \"ill_type\": \"Map\", \"total_articles\": 179093, \"proportion\": 0.002992858459012915}, {\"year\": 1973, \"total_results\": 568, \"ill_type\": \"Map\", \"total_articles\": 180806, \"proportion\": 0.00314148866741148}, {\"year\": 1974, \"total_results\": 627, \"ill_type\": \"Map\", \"total_articles\": 179385, \"proportion\": 0.003495275524709424}, {\"year\": 1975, \"total_results\": 581, \"ill_type\": \"Map\", \"total_articles\": 168395, \"proportion\": 0.0034502212060928176}, {\"year\": 1976, \"total_results\": 607, \"ill_type\": \"Map\", \"total_articles\": 169153, \"proportion\": 0.0035884672456296964}, {\"year\": 1977, \"total_results\": 663, \"ill_type\": \"Map\", \"total_articles\": 170625, \"proportion\": 0.0038857142857142857}, {\"year\": 1978, \"total_results\": 756, \"ill_type\": \"Map\", \"total_articles\": 175661, \"proportion\": 0.004303744143549223}, {\"year\": 1979, \"total_results\": 796, \"ill_type\": \"Map\", \"total_articles\": 184844, \"proportion\": 0.004306333989742702}, {\"year\": 1980, \"total_results\": 698, \"ill_type\": \"Map\", \"total_articles\": 185923, \"proportion\": 0.0037542423476385387}, {\"year\": 1981, \"total_results\": 654, \"ill_type\": \"Map\", \"total_articles\": 164070, \"proportion\": 0.003986103492411776}, {\"year\": 1982, \"total_results\": 664, \"ill_type\": \"Map\", \"total_articles\": 153396, \"proportion\": 0.004328665675767295}, {\"year\": 1983, \"total_results\": 578, \"ill_type\": \"Map\", \"total_articles\": 141802, \"proportion\": 0.004076106119800849}, {\"year\": 1984, \"total_results\": 599, \"ill_type\": \"Map\", \"total_articles\": 146493, \"proportion\": 0.004088932576983201}, {\"year\": 1985, \"total_results\": 636, \"ill_type\": \"Map\", \"total_articles\": 155564, \"proportion\": 0.004088349489599136}, {\"year\": 1986, \"total_results\": 640, \"ill_type\": \"Map\", \"total_articles\": 152788, \"proportion\": 0.004188810639579025}, {\"year\": 1987, \"total_results\": 559, \"ill_type\": \"Map\", \"total_articles\": 133503, \"proportion\": 0.0041871718238541454}, {\"year\": 1988, \"total_results\": 620, \"ill_type\": \"Map\", \"total_articles\": 143213, \"proportion\": 0.00432921592313547}, {\"year\": 1989, \"total_results\": 660, \"ill_type\": \"Map\", \"total_articles\": 146122, \"proportion\": 0.004516773654891119}, {\"year\": 1990, \"total_results\": 813, \"ill_type\": \"Map\", \"total_articles\": 138585, \"proportion\": 0.005866435761446044}, {\"year\": 1991, \"total_results\": 810, \"ill_type\": \"Map\", \"total_articles\": 139257, \"proportion\": 0.005816583726491307}, {\"year\": 1992, \"total_results\": 791, \"ill_type\": \"Map\", \"total_articles\": 159414, \"proportion\": 0.00496192304314552}, {\"year\": 1993, \"total_results\": 702, \"ill_type\": \"Map\", \"total_articles\": 160603, \"proportion\": 0.00437102669315019}, {\"year\": 1994, \"total_results\": 788, \"ill_type\": \"Map\", \"total_articles\": 155783, \"proportion\": 0.005058318301740241}, {\"year\": 1995, \"total_results\": 911, \"ill_type\": \"Map\", \"total_articles\": 154299, \"proportion\": 0.00590412121919131}, {\"year\": 1996, \"total_results\": 270, \"ill_type\": \"Map\", \"total_articles\": 69400, \"proportion\": 0.0038904899135446687}, {\"year\": 1997, \"total_results\": 293, \"ill_type\": \"Map\", \"total_articles\": 73218, \"proportion\": 0.004001748203993553}, {\"year\": 1998, \"total_results\": 339, \"ill_type\": \"Map\", \"total_articles\": 80878, \"proportion\": 0.004191498306090655}, {\"year\": 1999, \"total_results\": 290, \"ill_type\": \"Map\", \"total_articles\": 90368, \"proportion\": 0.003209100566572238}, {\"year\": 2000, \"total_results\": 263, \"ill_type\": \"Map\", \"total_articles\": 68823, \"proportion\": 0.003821396916728419}, {\"year\": 2001, \"total_results\": 276, \"ill_type\": \"Map\", \"total_articles\": 67114, \"proportion\": 0.00411240575736806}, {\"year\": 2002, \"total_results\": 293, \"ill_type\": \"Map\", \"total_articles\": 68169, \"proportion\": 0.004298141383913509}, {\"year\": 2003, \"total_results\": 57, \"ill_type\": \"Map\", \"total_articles\": 33361, \"proportion\": 0.0017085818770420551}, {\"year\": 2004, \"total_results\": 26, \"ill_type\": \"Map\", \"total_articles\": 30793, \"proportion\": 0.0008443477413697918}, {\"year\": 2005, \"total_results\": 30, \"ill_type\": \"Map\", \"total_articles\": 26677, \"proportion\": 0.001124564231360348}, {\"year\": 2006, \"total_results\": 21, \"ill_type\": \"Map\", \"total_articles\": 26179, \"proportion\": 0.0008021696779861721}, {\"year\": 2007, \"total_results\": 21, \"ill_type\": \"Map\", \"total_articles\": 27726, \"proportion\": 0.0007574118156243238}, {\"year\": 2008, \"total_results\": 14, \"ill_type\": \"Map\", \"total_articles\": 26158, \"proportion\": 0.0005352091138466243}, {\"year\": 2009, \"total_results\": 9, \"ill_type\": \"Map\", \"total_articles\": 14340, \"proportion\": 0.0006276150627615063}, {\"year\": 2010, \"total_results\": 22, \"ill_type\": \"Map\", \"total_articles\": 14750, \"proportion\": 0.0014915254237288136}, {\"year\": 2011, \"total_results\": 6, \"ill_type\": \"Map\", \"total_articles\": 15228, \"proportion\": 0.0003940110323089047}, {\"year\": 2012, \"total_results\": 9, \"ill_type\": \"Map\", \"total_articles\": 8112, \"proportion\": 0.0011094674556213018}, {\"year\": 2013, \"total_results\": 7, \"ill_type\": \"Map\", \"total_articles\": 8358, \"proportion\": 0.0008375209380234506}, {\"year\": 2014, \"total_results\": 23, \"ill_type\": \"Map\", \"total_articles\": 8077, \"proportion\": 0.0028475919276959266}, {\"year\": 2015, \"total_results\": 12, \"ill_type\": \"Map\", \"total_articles\": 8255, \"proportion\": 0.00145366444579043}, {\"year\": 2016, \"total_results\": 1, \"ill_type\": \"Map\", \"total_articles\": 4665, \"proportion\": 0.00021436227224008573}, {\"year\": 2017, \"total_results\": 3, \"ill_type\": \"Map\", \"total_articles\": 4184, \"proportion\": 0.0007170172084130019}, {\"year\": 2018, \"total_results\": 2, \"ill_type\": \"Map\", \"total_articles\": 3506, \"proportion\": 0.0005704506560182544}, {\"year\": 2019, \"total_results\": 13, \"ill_type\": \"Map\", \"total_articles\": 3314, \"proportion\": 0.003922751961375981}, {\"year\": 1833, \"total_results\": 1, \"ill_type\": \"Graph\", \"total_articles\": 15622, \"proportion\": 6.401229035974907e-05}, {\"year\": 1840, \"total_results\": 2, \"ill_type\": \"Graph\", \"total_articles\": 42411, \"proportion\": 4.715757704369149e-05}, {\"year\": 1841, \"total_results\": 1, \"ill_type\": \"Graph\", \"total_articles\": 46377, \"proportion\": 2.1562412402699614e-05}, {\"year\": 1844, \"total_results\": 2, \"ill_type\": \"Graph\", \"total_articles\": 54331, \"proportion\": 3.68113968084519e-05}, {\"year\": 1855, \"total_results\": 1, \"ill_type\": \"Graph\", \"total_articles\": 159935, \"proportion\": 6.252540094413355e-06}, {\"year\": 1858, \"total_results\": 1, \"ill_type\": \"Graph\", \"total_articles\": 182050, \"proportion\": 5.492996429552321e-06}, {\"year\": 1859, \"total_results\": 1, \"ill_type\": \"Graph\", \"total_articles\": 208543, \"proportion\": 4.795174136748776e-06}, {\"year\": 1860, \"total_results\": 1, \"ill_type\": \"Graph\", \"total_articles\": 221733, \"proportion\": 4.509928607830138e-06}, {\"year\": 1863, \"total_results\": 1, \"ill_type\": \"Graph\", \"total_articles\": 260291, \"proportion\": 3.841853925030062e-06}, {\"year\": 1870, \"total_results\": 2, \"ill_type\": \"Graph\", \"total_articles\": 385289, \"proportion\": 5.1909086426033445e-06}, {\"year\": 1871, \"total_results\": 2, \"ill_type\": \"Graph\", \"total_articles\": 371982, \"proportion\": 5.37660424429139e-06}, {\"year\": 1873, \"total_results\": 1, \"ill_type\": \"Graph\", \"total_articles\": 430691, \"proportion\": 2.3218502360160763e-06}, {\"year\": 1874, \"total_results\": 4, \"ill_type\": \"Graph\", \"total_articles\": 445748, \"proportion\": 8.973680195985176e-06}, {\"year\": 1875, \"total_results\": 2, \"ill_type\": \"Graph\", \"total_articles\": 482469, \"proportion\": 4.145344053193055e-06}, {\"year\": 1876, \"total_results\": 1, \"ill_type\": \"Graph\", \"total_articles\": 494060, \"proportion\": 2.0240456624701455e-06}, {\"year\": 1877, \"total_results\": 2, \"ill_type\": \"Graph\", \"total_articles\": 509249, \"proportion\": 3.927351845560816e-06}, {\"year\": 1880, \"total_results\": 4, \"ill_type\": \"Graph\", \"total_articles\": 635861, \"proportion\": 6.290683026636325e-06}, {\"year\": 1881, \"total_results\": 103, \"ill_type\": \"Graph\", \"total_articles\": 679154, \"proportion\": 0.00015165927020970206}, {\"year\": 1882, \"total_results\": 143, \"ill_type\": \"Graph\", \"total_articles\": 764271, \"proportion\": 0.00018710640597379726}, {\"year\": 1883, \"total_results\": 87, \"ill_type\": \"Graph\", \"total_articles\": 795970, \"proportion\": 0.00010930060178147418}, {\"year\": 1884, \"total_results\": 33, \"ill_type\": \"Graph\", \"total_articles\": 898376, \"proportion\": 3.673294923283792e-05}, {\"year\": 1885, \"total_results\": 107, \"ill_type\": \"Graph\", \"total_articles\": 952777, \"proportion\": 0.00011230329867324672}, {\"year\": 1886, \"total_results\": 116, \"ill_type\": \"Graph\", \"total_articles\": 1031192, \"proportion\": 0.00011249117526125106}, {\"year\": 1887, \"total_results\": 144, \"ill_type\": \"Graph\", \"total_articles\": 1070273, \"proportion\": 0.00013454511138746844}, {\"year\": 1888, \"total_results\": 107, \"ill_type\": \"Graph\", \"total_articles\": 1199895, \"proportion\": 8.917446943274204e-05}, {\"year\": 1889, \"total_results\": 110, \"ill_type\": \"Graph\", \"total_articles\": 1288503, \"proportion\": 8.537038718574967e-05}, {\"year\": 1890, \"total_results\": 347, \"ill_type\": \"Graph\", \"total_articles\": 1403249, \"proportion\": 0.0002472832690420588}, {\"year\": 1891, \"total_results\": 350, \"ill_type\": \"Graph\", \"total_articles\": 1473337, \"proportion\": 0.00023755596988333288}, {\"year\": 1892, \"total_results\": 184, \"ill_type\": \"Graph\", \"total_articles\": 1532205, \"proportion\": 0.0001200883693761605}, {\"year\": 1893, \"total_results\": 289, \"ill_type\": \"Graph\", \"total_articles\": 1560089, \"proportion\": 0.0001852458417436441}, {\"year\": 1894, \"total_results\": 16, \"ill_type\": \"Graph\", \"total_articles\": 1620538, \"proportion\": 9.87326431098808e-06}, {\"year\": 1895, \"total_results\": 22, \"ill_type\": \"Graph\", \"total_articles\": 1738871, \"proportion\": 1.2651887345294734e-05}, {\"year\": 1896, \"total_results\": 29, \"ill_type\": \"Graph\", \"total_articles\": 1858409, \"proportion\": 1.5604745779857932e-05}, {\"year\": 1897, \"total_results\": 63, \"ill_type\": \"Graph\", \"total_articles\": 1970237, \"proportion\": 3.197584859080405e-05}, {\"year\": 1898, \"total_results\": 94, \"ill_type\": \"Graph\", \"total_articles\": 2197298, \"proportion\": 4.2779814117156615e-05}, {\"year\": 1899, \"total_results\": 153, \"ill_type\": \"Graph\", \"total_articles\": 2378661, \"proportion\": 6.43219021121547e-05}, {\"year\": 1900, \"total_results\": 188, \"ill_type\": \"Graph\", \"total_articles\": 2615010, \"proportion\": 7.18926505061166e-05}, {\"year\": 1901, \"total_results\": 64, \"ill_type\": \"Graph\", \"total_articles\": 2712040, \"proportion\": 2.359847199893807e-05}, {\"year\": 1902, \"total_results\": 57, \"ill_type\": \"Graph\", \"total_articles\": 2769996, \"proportion\": 2.0577647043533637e-05}, {\"year\": 1903, \"total_results\": 53, \"ill_type\": \"Graph\", \"total_articles\": 2802628, \"proportion\": 1.8910822271096983e-05}, {\"year\": 1904, \"total_results\": 175, \"ill_type\": \"Graph\", \"total_articles\": 2963666, \"proportion\": 5.904848926970853e-05}, {\"year\": 1905, \"total_results\": 371, \"ill_type\": \"Graph\", \"total_articles\": 3093983, \"proportion\": 0.00011991016110948251}, {\"year\": 1906, \"total_results\": 425, \"ill_type\": \"Graph\", \"total_articles\": 3136799, \"proportion\": 0.00013548843901059647}, {\"year\": 1907, \"total_results\": 413, \"ill_type\": \"Graph\", \"total_articles\": 3295230, \"proportion\": 0.00012533267784039354}, {\"year\": 1908, \"total_results\": 420, \"ill_type\": \"Graph\", \"total_articles\": 3396203, \"proportion\": 0.00012366751928550795}, {\"year\": 1909, \"total_results\": 521, \"ill_type\": \"Graph\", \"total_articles\": 3453773, \"proportion\": 0.00015084952022035032}, {\"year\": 1910, \"total_results\": 453, \"ill_type\": \"Graph\", \"total_articles\": 3686929, \"proportion\": 0.00012286648318966814}, {\"year\": 1911, \"total_results\": 478, \"ill_type\": \"Graph\", \"total_articles\": 3813205, \"proportion\": 0.0001253538689894721}, {\"year\": 1912, \"total_results\": 499, \"ill_type\": \"Graph\", \"total_articles\": 3968854, \"proportion\": 0.0001257289887710659}, {\"year\": 1913, \"total_results\": 542, \"ill_type\": \"Graph\", \"total_articles\": 4044296, \"proportion\": 0.0001340159078366173}, {\"year\": 1914, \"total_results\": 560, \"ill_type\": \"Graph\", \"total_articles\": 4682621, \"proportion\": 0.00011959114350702309}, {\"year\": 1915, \"total_results\": 630, \"ill_type\": \"Graph\", \"total_articles\": 4783530, \"proportion\": 0.0001317019021517582}, {\"year\": 1916, \"total_results\": 555, \"ill_type\": \"Graph\", \"total_articles\": 4369287, \"proportion\": 0.000127023013136926}, {\"year\": 1917, \"total_results\": 490, \"ill_type\": \"Graph\", \"total_articles\": 4262301, \"proportion\": 0.00011496137884208554}, {\"year\": 1918, \"total_results\": 601, \"ill_type\": \"Graph\", \"total_articles\": 4040965, \"proportion\": 0.00014872685113580543}, {\"year\": 1919, \"total_results\": 610, \"ill_type\": \"Graph\", \"total_articles\": 3558241, \"proportion\": 0.00017143301985447304}, {\"year\": 1920, \"total_results\": 390, \"ill_type\": \"Graph\", \"total_articles\": 3304747, \"proportion\": 0.00011801205962211328}, {\"year\": 1921, \"total_results\": 345, \"ill_type\": \"Graph\", \"total_articles\": 3485308, \"proportion\": 9.89869474950277e-05}, {\"year\": 1922, \"total_results\": 456, \"ill_type\": \"Graph\", \"total_articles\": 3635068, \"proportion\": 0.00012544469594516527}, {\"year\": 1923, \"total_results\": 424, \"ill_type\": \"Graph\", \"total_articles\": 3944282, \"proportion\": 0.00010749738482187633}, {\"year\": 1924, \"total_results\": 556, \"ill_type\": \"Graph\", \"total_articles\": 4249519, \"proportion\": 0.00013083833723299038}, {\"year\": 1925, \"total_results\": 419, \"ill_type\": \"Graph\", \"total_articles\": 4231795, \"proportion\": 9.90123576401976e-05}, {\"year\": 1926, \"total_results\": 459, \"ill_type\": \"Graph\", \"total_articles\": 4226596, \"proportion\": 0.00010859803018788642}, {\"year\": 1927, \"total_results\": 472, \"ill_type\": \"Graph\", \"total_articles\": 4321841, \"proportion\": 0.00010921271745073453}, {\"year\": 1928, \"total_results\": 493, \"ill_type\": \"Graph\", \"total_articles\": 4441252, \"proportion\": 0.00011100473470093568}, {\"year\": 1929, \"total_results\": 514, \"ill_type\": \"Graph\", \"total_articles\": 4661832, \"proportion\": 0.00011025708348134381}, {\"year\": 1930, \"total_results\": 498, \"ill_type\": \"Graph\", \"total_articles\": 4505395, \"proportion\": 0.00011053414850418221}, {\"year\": 1931, \"total_results\": 625, \"ill_type\": \"Graph\", \"total_articles\": 4119730, \"proportion\": 0.00015170897121898766}, {\"year\": 1932, \"total_results\": 955, \"ill_type\": \"Graph\", \"total_articles\": 4134954, \"proportion\": 0.00023095782927693996}, {\"year\": 1933, \"total_results\": 1129, \"ill_type\": \"Graph\", \"total_articles\": 4320822, \"proportion\": 0.0002612928743651092}, {\"year\": 1934, \"total_results\": 791, \"ill_type\": \"Graph\", \"total_articles\": 4457622, \"proportion\": 0.00017744887296410508}, {\"year\": 1935, \"total_results\": 698, \"ill_type\": \"Graph\", \"total_articles\": 4552116, \"proportion\": 0.00015333528407448317}, {\"year\": 1936, \"total_results\": 768, \"ill_type\": \"Graph\", \"total_articles\": 4632922, \"proportion\": 0.00016577011225313095}, {\"year\": 1937, \"total_results\": 749, \"ill_type\": \"Graph\", \"total_articles\": 4618274, \"proportion\": 0.00016218180211914667}, {\"year\": 1938, \"total_results\": 848, \"ill_type\": \"Graph\", \"total_articles\": 4616705, \"proportion\": 0.00018368078532199914}, {\"year\": 1939, \"total_results\": 774, \"ill_type\": \"Graph\", \"total_articles\": 4387229, \"proportion\": 0.0001764211533065632}, {\"year\": 1940, \"total_results\": 413, \"ill_type\": \"Graph\", \"total_articles\": 3783203, \"proportion\": 0.00010916675631733217}, {\"year\": 1941, \"total_results\": 213, \"ill_type\": \"Graph\", \"total_articles\": 3598964, \"proportion\": 5.918369841987861e-05}, {\"year\": 1942, \"total_results\": 136, \"ill_type\": \"Graph\", \"total_articles\": 2935253, \"proportion\": 4.633331436847182e-05}, {\"year\": 1943, \"total_results\": 140, \"ill_type\": \"Graph\", \"total_articles\": 2586289, \"proportion\": 5.413161483500104e-05}, {\"year\": 1944, \"total_results\": 148, \"ill_type\": \"Graph\", \"total_articles\": 2635712, \"proportion\": 5.6151810212951944e-05}, {\"year\": 1945, \"total_results\": 436, \"ill_type\": \"Graph\", \"total_articles\": 2769932, \"proportion\": 0.00015740458610536288}, {\"year\": 1946, \"total_results\": 361, \"ill_type\": \"Graph\", \"total_articles\": 3323157, \"proportion\": 0.00010863164153845274}, {\"year\": 1947, \"total_results\": 333, \"ill_type\": \"Graph\", \"total_articles\": 3441909, \"proportion\": 9.674863571349505e-05}, {\"year\": 1948, \"total_results\": 289, \"ill_type\": \"Graph\", \"total_articles\": 3101920, \"proportion\": 9.316810233661732e-05}, {\"year\": 1949, \"total_results\": 442, \"ill_type\": \"Graph\", \"total_articles\": 3524852, \"proportion\": 0.00012539533574742995}, {\"year\": 1950, \"total_results\": 438, \"ill_type\": \"Graph\", \"total_articles\": 3554270, \"proportion\": 0.00012323205609028015}, {\"year\": 1951, \"total_results\": 285, \"ill_type\": \"Graph\", \"total_articles\": 3281008, \"proportion\": 8.686354925071807e-05}, {\"year\": 1952, \"total_results\": 443, \"ill_type\": \"Graph\", \"total_articles\": 3375009, \"proportion\": 0.0001312589092355013}, {\"year\": 1953, \"total_results\": 430, \"ill_type\": \"Graph\", \"total_articles\": 3592915, \"proportion\": 0.00011967998129652385}, {\"year\": 1954, \"total_results\": 527, \"ill_type\": \"Graph\", \"total_articles\": 3541607, \"proportion\": 0.00014880250688458657}, {\"year\": 1955, \"total_results\": 47, \"ill_type\": \"Graph\", \"total_articles\": 404423, \"proportion\": 0.00011621495315548325}, {\"year\": 1956, \"total_results\": 10, \"ill_type\": \"Graph\", \"total_articles\": 229324, \"proportion\": 4.360642584291221e-05}, {\"year\": 1957, \"total_results\": 3, \"ill_type\": \"Graph\", \"total_articles\": 153132, \"proportion\": 1.959094114881279e-05}, {\"year\": 1958, \"total_results\": 5, \"ill_type\": \"Graph\", \"total_articles\": 153484, \"proportion\": 3.257668551770869e-05}, {\"year\": 1959, \"total_results\": 5, \"ill_type\": \"Graph\", \"total_articles\": 153425, \"proportion\": 3.2589212970506765e-05}, {\"year\": 1961, \"total_results\": 1, \"ill_type\": \"Graph\", \"total_articles\": 151751, \"proportion\": 6.589742406969312e-06}, {\"year\": 1962, \"total_results\": 10, \"ill_type\": \"Graph\", \"total_articles\": 156236, \"proportion\": 6.400573491384828e-05}, {\"year\": 1963, \"total_results\": 2, \"ill_type\": \"Graph\", \"total_articles\": 167154, \"proportion\": 1.1965014298192086e-05}, {\"year\": 1964, \"total_results\": 13, \"ill_type\": \"Graph\", \"total_articles\": 167801, \"proportion\": 7.747272066316649e-05}, {\"year\": 1965, \"total_results\": 48, \"ill_type\": \"Graph\", \"total_articles\": 177093, \"proportion\": 0.0002710440277142518}, {\"year\": 1966, \"total_results\": 91, \"ill_type\": \"Graph\", \"total_articles\": 160897, \"proportion\": 0.0005655792214895244}, {\"year\": 1967, \"total_results\": 112, \"ill_type\": \"Graph\", \"total_articles\": 155832, \"proportion\": 0.0007187227270393757}, {\"year\": 1968, \"total_results\": 95, \"ill_type\": \"Graph\", \"total_articles\": 157330, \"proportion\": 0.0006038263522532257}, {\"year\": 1969, \"total_results\": 121, \"ill_type\": \"Graph\", \"total_articles\": 179517, \"proportion\": 0.0006740308717280258}, {\"year\": 1970, \"total_results\": 93, \"ill_type\": \"Graph\", \"total_articles\": 193249, \"proportion\": 0.00048124440488695933}, {\"year\": 1971, \"total_results\": 86, \"ill_type\": \"Graph\", \"total_articles\": 191379, \"proportion\": 0.0004493700980776365}, {\"year\": 1972, \"total_results\": 63, \"ill_type\": \"Graph\", \"total_articles\": 179093, \"proportion\": 0.000351772542757115}, {\"year\": 1973, \"total_results\": 42, \"ill_type\": \"Graph\", \"total_articles\": 180806, \"proportion\": 0.00023229317611141224}, {\"year\": 1974, \"total_results\": 37, \"ill_type\": \"Graph\", \"total_articles\": 179385, \"proportion\": 0.00020626027817264542}, {\"year\": 1975, \"total_results\": 18, \"ill_type\": \"Graph\", \"total_articles\": 168395, \"proportion\": 0.00010689153478428694}, {\"year\": 1976, \"total_results\": 22, \"ill_type\": \"Graph\", \"total_articles\": 169153, \"proportion\": 0.00013005976837537613}, {\"year\": 1977, \"total_results\": 21, \"ill_type\": \"Graph\", \"total_articles\": 170625, \"proportion\": 0.00012307692307692307}, {\"year\": 1978, \"total_results\": 29, \"ill_type\": \"Graph\", \"total_articles\": 175661, \"proportion\": 0.0001650907145012268}, {\"year\": 1979, \"total_results\": 70, \"ill_type\": \"Graph\", \"total_articles\": 184844, \"proportion\": 0.0003786977126658155}, {\"year\": 1980, \"total_results\": 33, \"ill_type\": \"Graph\", \"total_articles\": 185923, \"proportion\": 0.0001774928330545441}, {\"year\": 1981, \"total_results\": 13, \"ill_type\": \"Graph\", \"total_articles\": 164070, \"proportion\": 7.923447309075394e-05}, {\"year\": 1982, \"total_results\": 22, \"ill_type\": \"Graph\", \"total_articles\": 153396, \"proportion\": 0.00014341964588385615}, {\"year\": 1983, \"total_results\": 11, \"ill_type\": \"Graph\", \"total_articles\": 141802, \"proportion\": 7.757295383704038e-05}, {\"year\": 1984, \"total_results\": 36, \"ill_type\": \"Graph\", \"total_articles\": 146493, \"proportion\": 0.000245745530503164}, {\"year\": 1985, \"total_results\": 43, \"ill_type\": \"Graph\", \"total_articles\": 155564, \"proportion\": 0.0002764135661206963}, {\"year\": 1986, \"total_results\": 39, \"ill_type\": \"Graph\", \"total_articles\": 152788, \"proportion\": 0.00025525564834934683}, {\"year\": 1987, \"total_results\": 62, \"ill_type\": \"Graph\", \"total_articles\": 133503, \"proportion\": 0.0004644090394972398}, {\"year\": 1988, \"total_results\": 79, \"ill_type\": \"Graph\", \"total_articles\": 143213, \"proportion\": 0.0005516258998833905}, {\"year\": 1989, \"total_results\": 140, \"ill_type\": \"Graph\", \"total_articles\": 146122, \"proportion\": 0.0009581035025526615}, {\"year\": 1990, \"total_results\": 233, \"ill_type\": \"Graph\", \"total_articles\": 138585, \"proportion\": 0.0016812786376591983}, {\"year\": 1991, \"total_results\": 334, \"ill_type\": \"Graph\", \"total_articles\": 139257, \"proportion\": 0.002398443166232218}, {\"year\": 1992, \"total_results\": 358, \"ill_type\": \"Graph\", \"total_articles\": 159414, \"proportion\": 0.0022457249676941797}, {\"year\": 1993, \"total_results\": 617, \"ill_type\": \"Graph\", \"total_articles\": 160603, \"proportion\": 0.0038417713243214637}, {\"year\": 1994, \"total_results\": 635, \"ill_type\": \"Graph\", \"total_articles\": 155783, \"proportion\": 0.004076182895437885}, {\"year\": 1995, \"total_results\": 555, \"ill_type\": \"Graph\", \"total_articles\": 154299, \"proportion\": 0.0035969124880913033}, {\"year\": 1996, \"total_results\": 38, \"ill_type\": \"Graph\", \"total_articles\": 69400, \"proportion\": 0.000547550432276657}, {\"year\": 1997, \"total_results\": 26, \"ill_type\": \"Graph\", \"total_articles\": 73218, \"proportion\": 0.00035510393619055423}, {\"year\": 1998, \"total_results\": 40, \"ill_type\": \"Graph\", \"total_articles\": 80878, \"proportion\": 0.0004945720715151215}, {\"year\": 1999, \"total_results\": 34, \"ill_type\": \"Graph\", \"total_articles\": 90368, \"proportion\": 0.0003762393767705382}, {\"year\": 2000, \"total_results\": 42, \"ill_type\": \"Graph\", \"total_articles\": 68823, \"proportion\": 0.0006102611045725992}, {\"year\": 2001, \"total_results\": 38, \"ill_type\": \"Graph\", \"total_articles\": 67114, \"proportion\": 0.0005662007926811098}, {\"year\": 2002, \"total_results\": 53, \"ill_type\": \"Graph\", \"total_articles\": 68169, \"proportion\": 0.0007774794994792354}, {\"year\": 2003, \"total_results\": 13, \"ill_type\": \"Graph\", \"total_articles\": 33361, \"proportion\": 0.00038967656844818803}, {\"year\": 2004, \"total_results\": 11, \"ill_type\": \"Graph\", \"total_articles\": 30793, \"proportion\": 0.0003572240444256812}, {\"year\": 2005, \"total_results\": 13, \"ill_type\": \"Graph\", \"total_articles\": 26677, \"proportion\": 0.0004873111669228174}, {\"year\": 2006, \"total_results\": 11, \"ill_type\": \"Graph\", \"total_articles\": 26179, \"proportion\": 0.00042018411704037586}, {\"year\": 2007, \"total_results\": 13, \"ill_type\": \"Graph\", \"total_articles\": 27726, \"proportion\": 0.0004688739811007718}, {\"year\": 2008, \"total_results\": 20, \"ill_type\": \"Graph\", \"total_articles\": 26158, \"proportion\": 0.0007645844483523206}, {\"year\": 2009, \"total_results\": 3, \"ill_type\": \"Graph\", \"total_articles\": 14340, \"proportion\": 0.00020920502092050208}, {\"year\": 2010, \"total_results\": 1, \"ill_type\": \"Graph\", \"total_articles\": 14750, \"proportion\": 6.779661016949152e-05}, {\"year\": 2011, \"total_results\": 2, \"ill_type\": \"Graph\", \"total_articles\": 15228, \"proportion\": 0.0001313370107696349}, {\"year\": 2012, \"total_results\": 1, \"ill_type\": \"Graph\", \"total_articles\": 8112, \"proportion\": 0.0001232741617357002}, {\"year\": 2014, \"total_results\": 2, \"ill_type\": \"Graph\", \"total_articles\": 8077, \"proportion\": 0.0002476166893648632}, {\"year\": 2015, \"total_results\": 1, \"ill_type\": \"Graph\", \"total_articles\": 8255, \"proportion\": 0.00012113870381586917}, {\"year\": 2018, \"total_results\": 7, \"ill_type\": \"Graph\", \"total_articles\": 3506, \"proportion\": 0.0019965772960638907}]}}, {\"mode\": \"vega-lite\"});\n",
       "</script>"
      ],
      "text/plain": [
       "alt.VConcatChart(...)"
      ]
     },
     "execution_count": 36,
     "metadata": {},
     "output_type": "execute_result"
    }
   ],
   "source": [
    "# Make total results chart\n",
    "chart9 = make_chart_totals(df_illtypes_merged, \"ill_type\", \"Type\")\n",
    "\n",
    "# Make proportions chart\n",
    "chart10 = make_chart_proportions(df_illtypes_merged, \"ill_type\", \"Type\")\n",
    "\n",
    "# Shorthand way of concatenating the two charts (note there's only one legend)\n",
    "chart9 & chart10"
   ]
  },
  {
   "cell_type": "markdown",
   "metadata": {},
   "source": [
    "And there we have it – interesting to see the rapid increase in photos from the 1920s on."
   ]
  },
  {
   "cell_type": "markdown",
   "metadata": {},
   "source": [
    "## 9. But what are we searching?\n",
    "\n",
    "We've seen that we can visualise Trove search results over time in a number of different ways. But what are we actually searching? In the last example, exploring illustration types, we sliced up the complete collection of Trove newspaper articles using the `ill_type` facet. This is a metadata field whose value is set by the people who processed the articles. It should be consistent, but we can't take these sorts of things for granted. Let's look at all the values in the `illtype` field."
   ]
  },
  {
   "cell_type": "code",
   "execution_count": 37,
   "metadata": {},
   "outputs": [
    {
     "data": {
      "text/html": [
       "<div>\n",
       "<style scoped>\n",
       "    .dataframe tbody tr th:only-of-type {\n",
       "        vertical-align: middle;\n",
       "    }\n",
       "\n",
       "    .dataframe tbody tr th {\n",
       "        vertical-align: top;\n",
       "    }\n",
       "\n",
       "    .dataframe thead th {\n",
       "        text-align: right;\n",
       "    }\n",
       "</style>\n",
       "<table border=\"1\" class=\"dataframe\">\n",
       "  <thead>\n",
       "    <tr style=\"text-align: right;\">\n",
       "      <th></th>\n",
       "      <th>ill_type</th>\n",
       "      <th>total_results</th>\n",
       "    </tr>\n",
       "  </thead>\n",
       "  <tbody>\n",
       "    <tr>\n",
       "      <th>0</th>\n",
       "      <td>Photo</td>\n",
       "      <td>7523021</td>\n",
       "    </tr>\n",
       "    <tr>\n",
       "      <th>1</th>\n",
       "      <td>Illustration</td>\n",
       "      <td>2992908</td>\n",
       "    </tr>\n",
       "    <tr>\n",
       "      <th>2</th>\n",
       "      <td>Cartoon</td>\n",
       "      <td>1202747</td>\n",
       "    </tr>\n",
       "    <tr>\n",
       "      <th>3</th>\n",
       "      <td>Map</td>\n",
       "      <td>334039</td>\n",
       "    </tr>\n",
       "    <tr>\n",
       "      <th>4</th>\n",
       "      <td>Cartoons</td>\n",
       "      <td>68216</td>\n",
       "    </tr>\n",
       "    <tr>\n",
       "      <th>5</th>\n",
       "      <td>Graph</td>\n",
       "      <td>32651</td>\n",
       "    </tr>\n",
       "    <tr>\n",
       "      <th>6</th>\n",
       "      <td>Chart</td>\n",
       "      <td>20</td>\n",
       "    </tr>\n",
       "    <tr>\n",
       "      <th>7</th>\n",
       "      <td>Unknown</td>\n",
       "      <td>9</td>\n",
       "    </tr>\n",
       "    <tr>\n",
       "      <th>8</th>\n",
       "      <td>Diagram</td>\n",
       "      <td>5</td>\n",
       "    </tr>\n",
       "  </tbody>\n",
       "</table>\n",
       "</div>"
      ],
      "text/plain": [
       "       ill_type  total_results\n",
       "0         Photo        7523021\n",
       "1  Illustration        2992908\n",
       "2       Cartoon        1202747\n",
       "3           Map         334039\n",
       "4      Cartoons          68216\n",
       "5         Graph          32651\n",
       "6         Chart             20\n",
       "7       Unknown              9\n",
       "8       Diagram              5"
      ]
     },
     "execution_count": 37,
     "metadata": {},
     "output_type": "execute_result"
    }
   ],
   "source": [
    "ill_params = params.copy()\n",
    "\n",
    "# No query! Set q to a single space for everything\n",
    "ill_params.pop(\"q\", None)\n",
    "\n",
    "# Set the illustrated facet to true - necessary before setting ill_type\n",
    "ill_params[\"l-illustrated\"] = \"true\"\n",
    "ill_params[\"facet\"] = \"illustrationType\"\n",
    "data = get_results(ill_params)\n",
    "facets = []\n",
    "for term in data[\"category\"][0][\"facets\"][\"facet\"][0][\"term\"]:\n",
    "    # Get the state and the number of results, and convert it to integers, before adding to our results\n",
    "    facets.append({\"ill_type\": term[\"search\"], \"total_results\": int(term[\"count\"])})\n",
    "df_ill_types = pd.DataFrame(facets)\n",
    "df_ill_types"
   ]
  },
  {
   "cell_type": "markdown",
   "metadata": {},
   "source": [
    "It's pretty consistent, but why are there entries both for 'Cartoon' and 'Cartoons'? In the past I've noticed variations in capitalisation amongst the facet values, but fortunately these seem to have been fixed. The point is that we can't take search results for granted – we have to think about how they are created.\n",
    "\n",
    "Just as working with the Trove API enables us to view search results in different ways, so we can turn the search results against themselves to reveal some of their limitations and inconsistencies. In most of the examples above we're searching the full text of the newspaper articles for specific terms. The full text has been extracted from page images using Optical Character Recognition. The results are far from perfect, and Trove users help to correct errors. But many errors remain, and all the visualisations we've created will have been affected by them. Some articles will be missing. While we can't do much directly to improve the results, we can investigate whether the OCR errors are evenly distributed across the collection – do certain time periods, or newspapers have higher error rates?\n",
    "\n",
    "As a final example, let's what we can find out about the variation of OCR errors over time. We'll do this by searching for a very common OCR error – 'tbe'. This is of course meant to be 'the'. This is hardly a perfect measure of OCR accuracy, but it is something we can easily measure. How does the frequency of 'tbe' change over time?"
   ]
  },
  {
   "cell_type": "code",
   "execution_count": 38,
   "metadata": {},
   "outputs": [],
   "source": [
    "params[\"q\"] = 'text:\"tbe\"~0'\n",
    "\n",
    "ocr_facets = get_facet_data(params)"
   ]
  },
  {
   "cell_type": "code",
   "execution_count": 39,
   "metadata": {},
   "outputs": [],
   "source": [
    "df_ocr = pd.DataFrame(ocr_facets)\n",
    "df_ocr_merged = merge_df_with_total(df_ocr, df_total)"
   ]
  },
  {
   "cell_type": "code",
   "execution_count": 40,
   "metadata": {},
   "outputs": [
    {
     "data": {
      "text/html": [
       "\n",
       "<style>\n",
       "  #altair-viz-74719d3ceeb541f395f895216772d9f2.vega-embed {\n",
       "    width: 100%;\n",
       "    display: flex;\n",
       "  }\n",
       "\n",
       "  #altair-viz-74719d3ceeb541f395f895216772d9f2.vega-embed details,\n",
       "  #altair-viz-74719d3ceeb541f395f895216772d9f2.vega-embed details summary {\n",
       "    position: relative;\n",
       "  }\n",
       "</style>\n",
       "<div id=\"altair-viz-74719d3ceeb541f395f895216772d9f2\"></div>\n",
       "<script type=\"text/javascript\">\n",
       "  var VEGA_DEBUG = (typeof VEGA_DEBUG == \"undefined\") ? {} : VEGA_DEBUG;\n",
       "  (function(spec, embedOpt){\n",
       "    let outputDiv = document.currentScript.previousElementSibling;\n",
       "    if (outputDiv.id !== \"altair-viz-74719d3ceeb541f395f895216772d9f2\") {\n",
       "      outputDiv = document.getElementById(\"altair-viz-74719d3ceeb541f395f895216772d9f2\");\n",
       "    }\n",
       "    const paths = {\n",
       "      \"vega\": \"https://cdn.jsdelivr.net/npm/vega@5?noext\",\n",
       "      \"vega-lib\": \"https://cdn.jsdelivr.net/npm/vega-lib?noext\",\n",
       "      \"vega-lite\": \"https://cdn.jsdelivr.net/npm/vega-lite@5.20.1?noext\",\n",
       "      \"vega-embed\": \"https://cdn.jsdelivr.net/npm/vega-embed@6?noext\",\n",
       "    };\n",
       "\n",
       "    function maybeLoadScript(lib, version) {\n",
       "      var key = `${lib.replace(\"-\", \"\")}_version`;\n",
       "      return (VEGA_DEBUG[key] == version) ?\n",
       "        Promise.resolve(paths[lib]) :\n",
       "        new Promise(function(resolve, reject) {\n",
       "          var s = document.createElement('script');\n",
       "          document.getElementsByTagName(\"head\")[0].appendChild(s);\n",
       "          s.async = true;\n",
       "          s.onload = () => {\n",
       "            VEGA_DEBUG[key] = version;\n",
       "            return resolve(paths[lib]);\n",
       "          };\n",
       "          s.onerror = () => reject(`Error loading script: ${paths[lib]}`);\n",
       "          s.src = paths[lib];\n",
       "        });\n",
       "    }\n",
       "\n",
       "    function showError(err) {\n",
       "      outputDiv.innerHTML = `<div class=\"error\" style=\"color:red;\">${err}</div>`;\n",
       "      throw err;\n",
       "    }\n",
       "\n",
       "    function displayChart(vegaEmbed) {\n",
       "      vegaEmbed(outputDiv, spec, embedOpt)\n",
       "        .catch(err => showError(`Javascript Error: ${err.message}<br>This usually means there's a typo in your chart specification. See the javascript console for the full traceback.`));\n",
       "    }\n",
       "\n",
       "    if(typeof define === \"function\" && define.amd) {\n",
       "      requirejs.config({paths});\n",
       "      require([\"vega-embed\"], displayChart, err => showError(`Error loading script: ${err.message}`));\n",
       "    } else {\n",
       "      maybeLoadScript(\"vega\", \"5\")\n",
       "        .then(() => maybeLoadScript(\"vega-lite\", \"5.20.1\"))\n",
       "        .then(() => maybeLoadScript(\"vega-embed\", \"6\"))\n",
       "        .catch(showError)\n",
       "        .then(() => displayChart(vegaEmbed));\n",
       "    }\n",
       "  })({\"config\": {\"view\": {\"continuousWidth\": 300, \"continuousHeight\": 300}}, \"data\": {\"name\": \"data-3aed7b2c487e6baf437be58d9603dd83\"}, \"mark\": {\"type\": \"line\", \"point\": true}, \"encoding\": {\"tooltip\": [{\"field\": \"year\", \"title\": \"Year\", \"type\": \"quantitative\"}, {\"field\": \"proportion\", \"format\": \"%\", \"title\": \"Proportion\", \"type\": \"quantitative\"}], \"x\": {\"axis\": {\"format\": \"c\", \"title\": \"Year\"}, \"field\": \"year\", \"type\": \"quantitative\"}, \"y\": {\"axis\": {\"format\": \"%\", \"title\": \"Proportion of articles\"}, \"field\": \"proportion\", \"type\": \"quantitative\"}}, \"height\": 400, \"width\": 700, \"$schema\": \"https://vega.github.io/schema/vega-lite/v5.20.1.json\", \"datasets\": {\"data-3aed7b2c487e6baf437be58d9603dd83\": [{\"year\": 1806, \"total_results\": 1, \"total_articles\": 367, \"proportion\": 0.0027247956403269754}, {\"year\": 1807, \"total_results\": 1, \"total_articles\": 134, \"proportion\": 0.007462686567164179}, {\"year\": 1809, \"total_results\": 2, \"total_articles\": 237, \"proportion\": 0.008438818565400843}, {\"year\": 1810, \"total_results\": 2, \"total_articles\": 274, \"proportion\": 0.0072992700729927005}, {\"year\": 1811, \"total_results\": 1, \"total_articles\": 228, \"proportion\": 0.0043859649122807015}, {\"year\": 1812, \"total_results\": 2, \"total_articles\": 215, \"proportion\": 0.009302325581395349}, {\"year\": 1813, \"total_results\": 1, \"total_articles\": 234, \"proportion\": 0.004273504273504274}, {\"year\": 1815, \"total_results\": 1, \"total_articles\": 226, \"proportion\": 0.004424778761061947}, {\"year\": 1816, \"total_results\": 2, \"total_articles\": 644, \"proportion\": 0.003105590062111801}, {\"year\": 1817, \"total_results\": 1, \"total_articles\": 1068, \"proportion\": 0.0009363295880149813}, {\"year\": 1818, \"total_results\": 3, \"total_articles\": 1249, \"proportion\": 0.0024019215372297837}, {\"year\": 1819, \"total_results\": 3, \"total_articles\": 1152, \"proportion\": 0.0026041666666666665}, {\"year\": 1820, \"total_results\": 3, \"total_articles\": 1275, \"proportion\": 0.002352941176470588}, {\"year\": 1821, \"total_results\": 4, \"total_articles\": 1005, \"proportion\": 0.003980099502487562}, {\"year\": 1822, \"total_results\": 1, \"total_articles\": 1033, \"proportion\": 0.000968054211035818}, {\"year\": 1823, \"total_results\": 6, \"total_articles\": 1156, \"proportion\": 0.005190311418685121}, {\"year\": 1824, \"total_results\": 13, \"total_articles\": 1646, \"proportion\": 0.007897934386391251}, {\"year\": 1825, \"total_results\": 130, \"total_articles\": 3366, \"proportion\": 0.038621509209744505}, {\"year\": 1826, \"total_results\": 162, \"total_articles\": 5201, \"proportion\": 0.031147856181503557}, {\"year\": 1827, \"total_results\": 296, \"total_articles\": 6693, \"proportion\": 0.04422531002539967}, {\"year\": 1828, \"total_results\": 757, \"total_articles\": 7335, \"proportion\": 0.10320381731424676}, {\"year\": 1829, \"total_results\": 887, \"total_articles\": 8935, \"proportion\": 0.09927252378287633}, {\"year\": 1830, \"total_results\": 963, \"total_articles\": 8977, \"proportion\": 0.1072741450373176}, {\"year\": 1831, \"total_results\": 1338, \"total_articles\": 10989, \"proportion\": 0.12175812175812176}, {\"year\": 1832, \"total_results\": 1736, \"total_articles\": 14814, \"proportion\": 0.117186445254489}, {\"year\": 1833, \"total_results\": 2294, \"total_articles\": 15622, \"proportion\": 0.14684419408526436}, {\"year\": 1834, \"total_results\": 2331, \"total_articles\": 18704, \"proportion\": 0.12462574850299402}, {\"year\": 1835, \"total_results\": 2423, \"total_articles\": 20389, \"proportion\": 0.11883858943547991}, {\"year\": 1836, \"total_results\": 1824, \"total_articles\": 20553, \"proportion\": 0.08874616844256313}, {\"year\": 1837, \"total_results\": 2225, \"total_articles\": 21805, \"proportion\": 0.10204081632653061}, {\"year\": 1838, \"total_results\": 2808, \"total_articles\": 25911, \"proportion\": 0.10837096213963182}, {\"year\": 1839, \"total_results\": 4280, \"total_articles\": 32876, \"proportion\": 0.1301861540333374}, {\"year\": 1840, \"total_results\": 5207, \"total_articles\": 42411, \"proportion\": 0.1227747518332508}, {\"year\": 1841, \"total_results\": 6296, \"total_articles\": 46377, \"proportion\": 0.13575694848739678}, {\"year\": 1842, \"total_results\": 5634, \"total_articles\": 47934, \"proportion\": 0.11753661284265865}, {\"year\": 1843, \"total_results\": 5592, \"total_articles\": 49913, \"proportion\": 0.11203494079698675}, {\"year\": 1844, \"total_results\": 6077, \"total_articles\": 54331, \"proportion\": 0.11185142920248109}, {\"year\": 1845, \"total_results\": 8645, \"total_articles\": 63389, \"proportion\": 0.13638012904447144}, {\"year\": 1846, \"total_results\": 10063, \"total_articles\": 62153, \"proportion\": 0.1619069071484884}, {\"year\": 1847, \"total_results\": 9455, \"total_articles\": 62767, \"proportion\": 0.1506364809533672}, {\"year\": 1848, \"total_results\": 10311, \"total_articles\": 63463, \"proportion\": 0.16247262184264846}, {\"year\": 1849, \"total_results\": 9664, \"total_articles\": 62794, \"proportion\": 0.1539000541453005}, {\"year\": 1850, \"total_results\": 10805, \"total_articles\": 81624, \"proportion\": 0.13237528177986865}, {\"year\": 1851, \"total_results\": 9361, \"total_articles\": 96566, \"proportion\": 0.09693888117971129}, {\"year\": 1852, \"total_results\": 8165, \"total_articles\": 79960, \"proportion\": 0.1021135567783892}, {\"year\": 1853, \"total_results\": 10706, \"total_articles\": 96033, \"proportion\": 0.11148251122010143}, {\"year\": 1854, \"total_results\": 14435, \"total_articles\": 118895, \"proportion\": 0.12140964716766896}, {\"year\": 1855, \"total_results\": 14313, \"total_articles\": 159935, \"proportion\": 0.08949260637133835}, {\"year\": 1856, \"total_results\": 15999, \"total_articles\": 168695, \"proportion\": 0.09483979963840067}, {\"year\": 1857, \"total_results\": 23245, \"total_articles\": 175982, \"proportion\": 0.13208737257219488}, {\"year\": 1858, \"total_results\": 30928, \"total_articles\": 182050, \"proportion\": 0.16988739357319418}, {\"year\": 1859, \"total_results\": 38791, \"total_articles\": 208543, \"proportion\": 0.18600959993862176}, {\"year\": 1860, \"total_results\": 45235, \"total_articles\": 221733, \"proportion\": 0.2040066205751963}, {\"year\": 1861, \"total_results\": 44320, \"total_articles\": 245273, \"proportion\": 0.18069661153082484}, {\"year\": 1862, \"total_results\": 48785, \"total_articles\": 252981, \"proportion\": 0.19284056905459304}, {\"year\": 1863, \"total_results\": 54496, \"total_articles\": 260291, \"proportion\": 0.2093656714984383}, {\"year\": 1864, \"total_results\": 59130, \"total_articles\": 274076, \"proportion\": 0.21574307856215064}, {\"year\": 1865, \"total_results\": 52971, \"total_articles\": 292157, \"proportion\": 0.18131004904897025}, {\"year\": 1866, \"total_results\": 57173, \"total_articles\": 297673, \"proportion\": 0.19206646219173387}, {\"year\": 1867, \"total_results\": 56942, \"total_articles\": 306399, \"proportion\": 0.18584264308956622}, {\"year\": 1868, \"total_results\": 58247, \"total_articles\": 315179, \"proportion\": 0.1848060943146593}, {\"year\": 1869, \"total_results\": 62399, \"total_articles\": 337323, \"proportion\": 0.18498293920070674}, {\"year\": 1870, \"total_results\": 66697, \"total_articles\": 385289, \"proportion\": 0.17310901686785762}, {\"year\": 1871, \"total_results\": 66192, \"total_articles\": 371982, \"proportion\": 0.17794409406906786}, {\"year\": 1872, \"total_results\": 79512, \"total_articles\": 397020, \"proportion\": 0.20027202659815627}, {\"year\": 1873, \"total_results\": 74030, \"total_articles\": 430691, \"proportion\": 0.17188657297227014}, {\"year\": 1874, \"total_results\": 80252, \"total_articles\": 445748, \"proportion\": 0.18003894577205057}, {\"year\": 1875, \"total_results\": 90508, \"total_articles\": 482469, \"proportion\": 0.1875933997831985}, {\"year\": 1876, \"total_results\": 93782, \"total_articles\": 494060, \"proportion\": 0.18981905031777516}, {\"year\": 1877, \"total_results\": 89620, \"total_articles\": 509249, \"proportion\": 0.17598463619958016}, {\"year\": 1878, \"total_results\": 103116, \"total_articles\": 578926, \"proportion\": 0.1781160286461482}, {\"year\": 1879, \"total_results\": 108160, \"total_articles\": 620648, \"proportion\": 0.1742694731957567}, {\"year\": 1880, \"total_results\": 117651, \"total_articles\": 635861, \"proportion\": 0.18502628719169756}, {\"year\": 1881, \"total_results\": 130792, \"total_articles\": 679154, \"proportion\": 0.1925807696045374}, {\"year\": 1882, \"total_results\": 117645, \"total_articles\": 764271, \"proportion\": 0.15393100091459705}, {\"year\": 1883, \"total_results\": 139430, \"total_articles\": 795970, \"proportion\": 0.17516991846426372}, {\"year\": 1884, \"total_results\": 163927, \"total_articles\": 898376, \"proportion\": 0.18247036875428552}, {\"year\": 1885, \"total_results\": 152411, \"total_articles\": 952777, \"proportion\": 0.15996502854288044}, {\"year\": 1886, \"total_results\": 153190, \"total_articles\": 1031192, \"proportion\": 0.1485562339506125}, {\"year\": 1887, \"total_results\": 160140, \"total_articles\": 1070273, \"proportion\": 0.1496253759554805}, {\"year\": 1888, \"total_results\": 190787, \"total_articles\": 1199895, \"proportion\": 0.15900307943611733}, {\"year\": 1889, \"total_results\": 201620, \"total_articles\": 1288503, \"proportion\": 0.1564761587671895}, {\"year\": 1890, \"total_results\": 219409, \"total_articles\": 1403249, \"proportion\": 0.15635785238400313}, {\"year\": 1891, \"total_results\": 203790, \"total_articles\": 1473337, \"proportion\": 0.13831866029292686}, {\"year\": 1892, \"total_results\": 195578, \"total_articles\": 1532205, \"proportion\": 0.1276447994883191}, {\"year\": 1893, \"total_results\": 211361, \"total_articles\": 1560089, \"proportion\": 0.13548009119992513}, {\"year\": 1894, \"total_results\": 236815, \"total_articles\": 1620538, \"proportion\": 0.14613356798791513}, {\"year\": 1895, \"total_results\": 257549, \"total_articles\": 1738871, \"proportion\": 0.14811276972242335}, {\"year\": 1896, \"total_results\": 232064, \"total_articles\": 1858409, \"proportion\": 0.12487240429851555}, {\"year\": 1897, \"total_results\": 275559, \"total_articles\": 1970237, \"proportion\": 0.1398608390767202}, {\"year\": 1898, \"total_results\": 288001, \"total_articles\": 2197298, \"proportion\": 0.13107052388888535}, {\"year\": 1899, \"total_results\": 299801, \"total_articles\": 2378661, \"proportion\": 0.1260377161772947}, {\"year\": 1900, \"total_results\": 310175, \"total_articles\": 2615010, \"proportion\": 0.11861331314220595}, {\"year\": 1901, \"total_results\": 292863, \"total_articles\": 2712040, \"proportion\": 0.10798623914101561}, {\"year\": 1902, \"total_results\": 296936, \"total_articles\": 2769996, \"proportion\": 0.10719726671085446}, {\"year\": 1903, \"total_results\": 297066, \"total_articles\": 2802628, \"proportion\": 0.10599551563746598}, {\"year\": 1904, \"total_results\": 303561, \"total_articles\": 2963666, \"proportion\": 0.10242753400686852}, {\"year\": 1905, \"total_results\": 299499, \"total_articles\": 3093983, \"proportion\": 0.09680046722945795}, {\"year\": 1906, \"total_results\": 275066, \"total_articles\": 3136799, \"proportion\": 0.08769003050562053}, {\"year\": 1907, \"total_results\": 286927, \"total_articles\": 3295230, \"proportion\": 0.08707343645208376}, {\"year\": 1908, \"total_results\": 265742, \"total_articles\": 3396203, \"proportion\": 0.0782467950237368}, {\"year\": 1909, \"total_results\": 265891, \"total_articles\": 3453773, \"proportion\": 0.07698566176757998}, {\"year\": 1910, \"total_results\": 272629, \"total_articles\": 3686929, \"proportion\": 0.07394473829032237}, {\"year\": 1911, \"total_results\": 284567, \"total_articles\": 3813205, \"proportion\": 0.07462672476302742}, {\"year\": 1912, \"total_results\": 297926, \"total_articles\": 3968854, \"proportion\": 0.07506600142005727}, {\"year\": 1913, \"total_results\": 310277, \"total_articles\": 4044296, \"proportion\": 0.07671965652365702}, {\"year\": 1914, \"total_results\": 299199, \"total_articles\": 4682621, \"proportion\": 0.0638956259752818}, {\"year\": 1915, \"total_results\": 291400, \"total_articles\": 4783530, \"proportion\": 0.06091735601114658}, {\"year\": 1916, \"total_results\": 268304, \"total_articles\": 4369287, \"proportion\": 0.061406815345387014}, {\"year\": 1917, \"total_results\": 278319, \"total_articles\": 4262301, \"proportion\": 0.06529782856724572}, {\"year\": 1918, \"total_results\": 255753, \"total_articles\": 4040965, \"proportion\": 0.06329008046345365}, {\"year\": 1919, \"total_results\": 231044, \"total_articles\": 3558241, \"proportion\": 0.0649320830151752}, {\"year\": 1920, \"total_results\": 246299, \"total_articles\": 3304747, \"proportion\": 0.07452885198170994}, {\"year\": 1921, \"total_results\": 282775, \"total_articles\": 3485308, \"proportion\": 0.0811334321098738}, {\"year\": 1922, \"total_results\": 273419, \"total_articles\": 3635068, \"proportion\": 0.07521702482594549}, {\"year\": 1923, \"total_results\": 260105, \"total_articles\": 3944282, \"proportion\": 0.06594482848842959}, {\"year\": 1924, \"total_results\": 253337, \"total_articles\": 4249519, \"proportion\": 0.05961545294891022}, {\"year\": 1925, \"total_results\": 239840, \"total_articles\": 4231795, \"proportion\": 0.0566757132611575}, {\"year\": 1926, \"total_results\": 248803, \"total_articles\": 4226596, \"proportion\": 0.058866047287225935}, {\"year\": 1927, \"total_results\": 246152, \"total_articles\": 4321841, \"proportion\": 0.05695535768206188}, {\"year\": 1928, \"total_results\": 215513, \"total_articles\": 4441252, \"proportion\": 0.04852528070913337}, {\"year\": 1929, \"total_results\": 198607, \"total_articles\": 4661832, \"proportion\": 0.04260277933653551}, {\"year\": 1930, \"total_results\": 170400, \"total_articles\": 4505395, \"proportion\": 0.03782132310263584}, {\"year\": 1931, \"total_results\": 148387, \"total_articles\": 4119730, \"proportion\": 0.036018622579635076}, {\"year\": 1932, \"total_results\": 141316, \"total_articles\": 4134954, \"proportion\": 0.03417595455717282}, {\"year\": 1933, \"total_results\": 138559, \"total_articles\": 4320822, \"proportion\": 0.03206774081413213}, {\"year\": 1934, \"total_results\": 138366, \"total_articles\": 4457622, \"proportion\": 0.031040317012075047}, {\"year\": 1935, \"total_results\": 139377, \"total_articles\": 4552116, \"proportion\": 0.030618068608093466}, {\"year\": 1936, \"total_results\": 119422, \"total_articles\": 4632922, \"proportion\": 0.025776820762361204}, {\"year\": 1937, \"total_results\": 105428, \"total_articles\": 4618274, \"proportion\": 0.02282844196771348}, {\"year\": 1938, \"total_results\": 102791, \"total_articles\": 4616705, \"proportion\": 0.0222650136840019}, {\"year\": 1939, \"total_results\": 99753, \"total_articles\": 4387229, \"proportion\": 0.022737130886033075}, {\"year\": 1940, \"total_results\": 93952, \"total_articles\": 3783203, \"proportion\": 0.024833983267617415}, {\"year\": 1941, \"total_results\": 78244, \"total_articles\": 3598964, \"proportion\": 0.021740700935046865}, {\"year\": 1942, \"total_results\": 68887, \"total_articles\": 2935253, \"proportion\": 0.023468845786036162}, {\"year\": 1943, \"total_results\": 64120, \"total_articles\": 2586289, \"proportion\": 0.024792279594430474}, {\"year\": 1944, \"total_results\": 63301, \"total_articles\": 2635712, \"proportion\": 0.024016660393851832}, {\"year\": 1945, \"total_results\": 62375, \"total_articles\": 2769932, \"proportion\": 0.02251860334477525}, {\"year\": 1946, \"total_results\": 64581, \"total_articles\": 3323157, \"proportion\": 0.019433628925747414}, {\"year\": 1947, \"total_results\": 58767, \"total_articles\": 3441909, \"proportion\": 0.017073955180104995}, {\"year\": 1948, \"total_results\": 47209, \"total_articles\": 3101920, \"proportion\": 0.015219283540516841}, {\"year\": 1949, \"total_results\": 51897, \"total_articles\": 3524852, \"proportion\": 0.014723171355846998}, {\"year\": 1950, \"total_results\": 44968, \"total_articles\": 3554270, \"proportion\": 0.012651824425268762}, {\"year\": 1951, \"total_results\": 38957, \"total_articles\": 3281008, \"proportion\": 0.011873485221614822}, {\"year\": 1952, \"total_results\": 40040, \"total_articles\": 3375009, \"proportion\": 0.011863672067244858}, {\"year\": 1953, \"total_results\": 39459, \"total_articles\": 3592915, \"proportion\": 0.010982447399952406}, {\"year\": 1954, \"total_results\": 37233, \"total_articles\": 3541607, \"proportion\": 0.010513024172360174}, {\"year\": 1955, \"total_results\": 4218, \"total_articles\": 404423, \"proportion\": 0.010429673881060177}, {\"year\": 1956, \"total_results\": 2128, \"total_articles\": 229324, \"proportion\": 0.00927944741937172}, {\"year\": 1957, \"total_results\": 1468, \"total_articles\": 153132, \"proportion\": 0.009586500535485725}, {\"year\": 1958, \"total_results\": 1512, \"total_articles\": 153484, \"proportion\": 0.009851189700555107}, {\"year\": 1959, \"total_results\": 1243, \"total_articles\": 153425, \"proportion\": 0.008101678344467981}, {\"year\": 1960, \"total_results\": 1094, \"total_articles\": 154646, \"proportion\": 0.0070742211243743774}, {\"year\": 1961, \"total_results\": 925, \"total_articles\": 151751, \"proportion\": 0.0060955117264466134}, {\"year\": 1962, \"total_results\": 854, \"total_articles\": 156236, \"proportion\": 0.005466089761642643}, {\"year\": 1963, \"total_results\": 764, \"total_articles\": 167154, \"proportion\": 0.004570635461909377}, {\"year\": 1964, \"total_results\": 803, \"total_articles\": 167801, \"proportion\": 0.004785430360963284}, {\"year\": 1965, \"total_results\": 801, \"total_articles\": 177093, \"proportion\": 0.004523047212481577}, {\"year\": 1966, \"total_results\": 558, \"total_articles\": 160897, \"proportion\": 0.003468057204298402}, {\"year\": 1967, \"total_results\": 550, \"total_articles\": 155832, \"proportion\": 0.0035294419631397914}, {\"year\": 1968, \"total_results\": 395, \"total_articles\": 157330, \"proportion\": 0.0025106464120002543}, {\"year\": 1969, \"total_results\": 499, \"total_articles\": 179517, \"proportion\": 0.0027796810329940897}, {\"year\": 1970, \"total_results\": 560, \"total_articles\": 193249, \"proportion\": 0.0028978157713623358}, {\"year\": 1971, \"total_results\": 557, \"total_articles\": 191379, \"proportion\": 0.002910455170107483}, {\"year\": 1972, \"total_results\": 542, \"total_articles\": 179093, \"proportion\": 0.003026360605942164}, {\"year\": 1973, \"total_results\": 767, \"total_articles\": 180806, \"proportion\": 0.004242115858986981}, {\"year\": 1974, \"total_results\": 554, \"total_articles\": 179385, \"proportion\": 0.0030883295704769074}, {\"year\": 1975, \"total_results\": 586, \"total_articles\": 168395, \"proportion\": 0.0034799132990884526}, {\"year\": 1976, \"total_results\": 543, \"total_articles\": 169153, \"proportion\": 0.00321011155581042}, {\"year\": 1977, \"total_results\": 402, \"total_articles\": 170625, \"proportion\": 0.002356043956043956}, {\"year\": 1978, \"total_results\": 464, \"total_articles\": 175661, \"proportion\": 0.002641451432019629}, {\"year\": 1979, \"total_results\": 551, \"total_articles\": 184844, \"proportion\": 0.002980891995412348}, {\"year\": 1980, \"total_results\": 480, \"total_articles\": 185923, \"proportion\": 0.002581713935338823}, {\"year\": 1981, \"total_results\": 356, \"total_articles\": 164070, \"proportion\": 0.002169805570792954}, {\"year\": 1982, \"total_results\": 485, \"total_articles\": 153396, \"proportion\": 0.003161751284257738}, {\"year\": 1983, \"total_results\": 240, \"total_articles\": 141802, \"proportion\": 0.001692500810989972}, {\"year\": 1984, \"total_results\": 177, \"total_articles\": 146493, \"proportion\": 0.001208248858307223}, {\"year\": 1985, \"total_results\": 145, \"total_articles\": 155564, \"proportion\": 0.0009320922578488596}, {\"year\": 1986, \"total_results\": 185, \"total_articles\": 152788, \"proportion\": 0.0012108280755033119}, {\"year\": 1987, \"total_results\": 586, \"total_articles\": 133503, \"proportion\": 0.004389414470086814}, {\"year\": 1988, \"total_results\": 602, \"total_articles\": 143213, \"proportion\": 0.004203529009237988}, {\"year\": 1989, \"total_results\": 429, \"total_articles\": 146122, \"proportion\": 0.002935902875679227}, {\"year\": 1990, \"total_results\": 453, \"total_articles\": 138585, \"proportion\": 0.0032687520294404156}, {\"year\": 1991, \"total_results\": 416, \"total_articles\": 139257, \"proportion\": 0.0029872825064449185}, {\"year\": 1992, \"total_results\": 522, \"total_articles\": 159414, \"proportion\": 0.0032744928299898377}, {\"year\": 1993, \"total_results\": 430, \"total_articles\": 160603, \"proportion\": 0.0026774095128982646}, {\"year\": 1994, \"total_results\": 333, \"total_articles\": 155783, \"proportion\": 0.0021375888254815995}, {\"year\": 1995, \"total_results\": 239, \"total_articles\": 154299, \"proportion\": 0.0015489406930699486}, {\"year\": 1996, \"total_results\": 58, \"total_articles\": 69400, \"proportion\": 0.0008357348703170029}, {\"year\": 1997, \"total_results\": 110, \"total_articles\": 73218, \"proportion\": 0.0015023628069600371}, {\"year\": 1998, \"total_results\": 83, \"total_articles\": 80878, \"proportion\": 0.0010262370483938772}, {\"year\": 1999, \"total_results\": 123, \"total_articles\": 90368, \"proportion\": 0.0013611012747875354}, {\"year\": 2000, \"total_results\": 84, \"total_articles\": 68823, \"proportion\": 0.0012205222091451985}, {\"year\": 2001, \"total_results\": 71, \"total_articles\": 67114, \"proportion\": 0.0010579014810620734}, {\"year\": 2002, \"total_results\": 52, \"total_articles\": 68169, \"proportion\": 0.0007628100749607593}, {\"year\": 2003, \"total_results\": 23, \"total_articles\": 33361, \"proportion\": 0.0006894277749467942}, {\"year\": 2004, \"total_results\": 21, \"total_articles\": 30793, \"proportion\": 0.000681973175721755}, {\"year\": 2005, \"total_results\": 29, \"total_articles\": 26677, \"proportion\": 0.0010870787569816696}, {\"year\": 2006, \"total_results\": 41, \"total_articles\": 26179, \"proportion\": 0.0015661407998777647}, {\"year\": 2007, \"total_results\": 27, \"total_articles\": 27726, \"proportion\": 0.0009738151915169877}, {\"year\": 2008, \"total_results\": 35, \"total_articles\": 26158, \"proportion\": 0.0013380227846165609}, {\"year\": 2009, \"total_results\": 10, \"total_articles\": 14340, \"proportion\": 0.000697350069735007}, {\"year\": 2010, \"total_results\": 13, \"total_articles\": 14750, \"proportion\": 0.0008813559322033898}, {\"year\": 2011, \"total_results\": 12, \"total_articles\": 15228, \"proportion\": 0.0007880220646178094}, {\"year\": 2012, \"total_results\": 6, \"total_articles\": 8112, \"proportion\": 0.0007396449704142012}, {\"year\": 2013, \"total_results\": 3, \"total_articles\": 8358, \"proportion\": 0.0003589375448671931}, {\"year\": 2014, \"total_results\": 6, \"total_articles\": 8077, \"proportion\": 0.0007428500680945896}, {\"year\": 2015, \"total_results\": 3, \"total_articles\": 8255, \"proportion\": 0.0003634161114476075}, {\"year\": 2016, \"total_results\": 1, \"total_articles\": 4665, \"proportion\": 0.00021436227224008573}, {\"year\": 2017, \"total_results\": 4, \"total_articles\": 4184, \"proportion\": 0.0009560229445506692}, {\"year\": 2018, \"total_results\": 2, \"total_articles\": 3506, \"proportion\": 0.0005704506560182544}, {\"year\": 2019, \"total_results\": 1, \"total_articles\": 3314, \"proportion\": 0.00030175015087507544}]}}, {\"mode\": \"vega-lite\"});\n",
       "</script>"
      ],
      "text/plain": [
       "alt.Chart(...)"
      ]
     },
     "execution_count": 40,
     "metadata": {},
     "output_type": "execute_result"
    }
   ],
   "source": [
    "alt.Chart(df_ocr_merged).mark_line(point=True).encode(\n",
    "    x=alt.X(\"year:Q\", axis=alt.Axis(format=\"c\", title=\"Year\")),\n",
    "    # This time we're showing the proportion (formatted as a percentage) on the Y axis\n",
    "    y=alt.Y(\"proportion:Q\", axis=alt.Axis(format=\"%\", title=\"Proportion of articles\")),\n",
    "    tooltip=[\n",
    "        alt.Tooltip(\"year:Q\", title=\"Year\"),\n",
    "        alt.Tooltip(\"proportion:Q\", title=\"Proportion\", format=\"%\"),\n",
    "    ],\n",
    ").properties(width=700, height=400)"
   ]
  },
  {
   "cell_type": "markdown",
   "metadata": {},
   "source": [
    "In general, the proportion of articles containing 'tbe' decreases over time. This is perhaps due to improvements in paper, printing technology, or the use of more OCR-friendly fonts. The variations in the period before 1860 seem unusual. Have a greater proportion of these articles been corrected by volunteers? ([Check out this notebook for more on rates of correction.](Analysing_OCR_corrections.ipynb)) There might also be differences as a result of the digitisation process itself – most newspapers were digitised from microfilm, rather than hardcopy. How might that affect the results? Once again, this visualisation doesn't provide answers, but it does suggest some avenues for further investigation. Most importantly though, it suggests ways in which the accuracy of our visualisations might themselves vary over time!\n",
    "\n",
    "One final thing we should consider is that our visualisations all show the *number of articles* that match our search query, **not** the number of times our search terms appear in newspapers. So an article in which a search term appears once has the same value in our visualisation as an article in which a search terms appears 20 times. This might mean that periods of intensive discussion around particular words are being flattened, or even rendered invisible. We can't investigate this using Trove's own search interface. To examine word frequency in greater depth, we need to harvest the text content of all the articles we're interested in and use other tools to analyse their contents. That's what the [Trove Newspaper Harvester](https://glam-workbench.github.io/trove-harvester/) is for!"
   ]
  },
  {
   "cell_type": "markdown",
   "metadata": {},
   "source": [
    "## 10. Next steps\n",
    "\n",
    "Don't just use my examples, try plugging different search terms and facet values into the examples above. \n",
    "\n",
    "If you find something that you'd like to investigate in more detail, you can use the [Trove Newspaper Harvester](https://glam-workbench.github.io/trove-harvester/) to download newspaper articles in bulk. Once you have all the text and metadata, you can explore the articles using a variety of text analysis tools."
   ]
  },
  {
   "cell_type": "markdown",
   "metadata": {},
   "source": [
    "## 11. Related resources"
   ]
  },
  {
   "cell_type": "markdown",
   "metadata": {},
   "source": [
    "### QueryPic\n",
    "\n",
    "This is the latest version of a tool called [QueryPic](https://glam-workbench.github.io/trove-newspapers/#querypic) which I created many years ago to visualise searches in Trove. While it's inside a Jupyter notebook you can run it as a web app, so you don't have worry about the code. It reproduces most of what is available in this notebook, and adds some extra options for saving your charts. A good option if you're intimidated by the code, but want to try out some of the things described in this notebook.\n",
    "\n",
    "### Visualise a search in Papers Past\n",
    "\n",
    "Do something similar for New Zealand newspapers in Papers Past [using this notebook](https://glam-workbench.github.io/digitalnz/#visualise-a-search-in-papers-past).\n",
    "\n",
    "### Trove Newspaper Harvester\n",
    "\n",
    "Once you've found something interesting in your visualisations, you can use the [Trove Newspaper Harvester](https://glam-workbench.github.io/trove-harvester/) to download the full text of thousands of articles for in-depth analysis.\n",
    "\n",
    "## 12. Further reading\n",
    "\n",
    "* Tim Sherratt, ['Seams and edges: dreams of aggregation, access, and discovery in a broken world'](http://discontents.com.au/seams-and-edges-dreams-of-aggregation-access-discovery-in-a-broken-world/), ALIA Online, 2015.\n",
    "\n",
    "* Tim Sherratt, ['Hacking heritage: understanding the limits of online access'](https://hcommons.org/deposits/item/hc:18733/), preprint of a chapter submitted for publication as part of *The Routledge International Handbook of New Digital Practices in Galleries, Libraries, Archives, Museums and Heritage Sites*, forthcoming 2019."
   ]
  },
  {
   "cell_type": "markdown",
   "metadata": {},
   "source": [
    "----\n",
    "\n",
    "Created by [Tim Sherratt](https://timsherratt.org/) for the [GLAM Workbench](https://glam-workbench.github.io/).  \n",
    "Support this project by becoming a [GitHub sponsor](https://github.com/sponsors/wragge?o=esb).\n",
    "\n",
    "Work on this notebook was supported by the [Humanities, Arts and Social Sciences (HASS) Data Enhanced Virtual Lab](https://tinker.edu.au/)."
   ]
  }
 ],
 "metadata": {
  "kernelspec": {
   "display_name": "Python 3 (ipykernel)",
   "language": "python",
   "name": "python3"
  },
  "language_info": {
   "codemirror_mode": {
    "name": "ipython",
    "version": 3
   },
   "file_extension": ".py",
   "mimetype": "text/x-python",
   "name": "python",
   "nbconvert_exporter": "python",
   "pygments_lexer": "ipython3",
   "version": "3.10.12"
  },
  "rocrate": {
   "author": [
    {
     "mainEntityOfPage": "https://timsherratt.au",
     "name": "Sherratt, Tim",
     "orcid": "https://orcid.org/0000-0001-7956-4498"
    }
   ],
   "category": "Visualising searches",
   "description": "This notebook helps you zoom out and explore how the number of Trove newspaper articles in your search results varies over time by using the decade and year facets. We then combine this approach with other search facets to see how we can slice a set of results up in different ways to investigate historical changes.",
   "mainEntityOfPage": "https://glam-workbench.net/trove-newspapers/visualise-searches-over-time/",
   "name": "Visualise Trove newspaper searches over time",
   "position": 3
  }
 },
 "nbformat": 4,
 "nbformat_minor": 4
}
