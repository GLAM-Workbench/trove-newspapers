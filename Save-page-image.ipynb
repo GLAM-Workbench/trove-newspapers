{
 "cells": [
  {
   "cell_type": "markdown",
   "metadata": {},
   "source": [
    "# Download a page image\n",
    "\n",
    "The Trove web interface doesn't provide a way of getting high-resolution page images from newspapers. This simple app lets you download page images as complete, high-resolution JPG files."
   ]
  },
  {
   "cell_type": "code",
   "execution_count": null,
   "metadata": {},
   "outputs": [],
   "source": [
    "import base64\n",
    "import os\n",
    "import re\n",
    "from collections import OrderedDict\n",
    "from io import BytesIO\n",
    "from operator import itemgetter\n",
    "\n",
    "import arrow\n",
    "import ipywidgets as widgets\n",
    "import requests\n",
    "from IPython.display import HTML, display"
   ]
  },
  {
   "cell_type": "code",
   "execution_count": null,
   "metadata": {},
   "outputs": [],
   "source": [
    "%%capture\n",
    "# Load env variables\n",
    "%load_ext dotenv\n",
    "%dotenv"
   ]
  },
  {
   "cell_type": "code",
   "execution_count": null,
   "metadata": {},
   "outputs": [],
   "source": [
    "titles = {}\n",
    "out = widgets.Output()\n",
    "\n",
    "\n",
    "def get_page_image(b):\n",
    "    out.clear_output()\n",
    "    # display_button()\n",
    "    article = None\n",
    "    page_id = None\n",
    "    if article_url.value and \"page\" in article_url.value:\n",
    "        page_id = re.search(r\"page\\/{0,1}(\\d+)\", article_url.value).group(1)\n",
    "    elif article_url.value:\n",
    "        article_id = re.search(r\"article\\/{0,1}(\\d+)\", article_url.value).group(1)\n",
    "        params = {\"reclevel\": \"full\", \"encoding\": \"json\", \"key\": api_key.value}\n",
    "        response = requests.get(\n",
    "            \"http://api.trove.nla.gov.au/v2/newspaper/{}\".format(article_id),\n",
    "            params=params,\n",
    "        )\n",
    "        data = response.json()\n",
    "        article = data[\"article\"]\n",
    "    else:\n",
    "        end = arrow.get(date.value)\n",
    "        start = end.shift(days=-1)\n",
    "        date_query = \"date:[{}Z TO {}Z]\".format(\n",
    "            start.format(\"YYYY-MM-DDT00:00:00\"), end.format(\"YYYY-MM-DDT00:00:00\")\n",
    "        )\n",
    "\n",
    "        params = {\n",
    "            \"zone\": \"newspaper\",\n",
    "            \"reclevel\": \"full\",\n",
    "            \"encoding\": \"json\",\n",
    "            \"n\": \"1\",\n",
    "            \"q\": \"{} firstpageseq:{}\".format(date_query, page.value),\n",
    "            \"l-title\": title.value,\n",
    "            \"key\": api_key.value,\n",
    "        }\n",
    "        response = requests.get(\"http://api.trove.nla.gov.au/v2/result\", params=params)\n",
    "        data = response.json()\n",
    "        try:\n",
    "            article = data[\"response\"][\"zone\"][0][\"records\"][\"article\"][0]\n",
    "        except (KeyError, IndexError):\n",
    "            with out:\n",
    "                display(HTML(\"Page not found!\"))\n",
    "    if article:\n",
    "        page_id = re.search(r\"page\\/(\\d+)\", article[\"trovePageUrl\"]).group(1)\n",
    "    if page_id:\n",
    "        # Construct the url we need to download the image\n",
    "        page_url = (\n",
    "            \"http://trove.nla.gov.au/ndp/imageservice/nla.news-page{}/level{}\".format(\n",
    "                page_id, size.value\n",
    "            )\n",
    "        )\n",
    "        # Download the page image\n",
    "        response = requests.get(page_url)\n",
    "        img_file = BytesIO(response.content)\n",
    "        # For the download link we can use a data uri -- a base64 encoded version of the file\n",
    "        # Encode the file\n",
    "        encoded_image = base64.b64encode(img_file.read()).decode()\n",
    "        # Create a data uri string\n",
    "        encoded_string = \"data:image/jpeg;base64,\" + encoded_image\n",
    "        # Reset to the beginning\n",
    "        img_file.seek(0)\n",
    "        filename = f\"{page_id}-level{size.value}.jpg\"\n",
    "        with out:\n",
    "            display(\n",
    "                HTML(\n",
    "                    f'<a download=\"{filename}\" href=\"{encoded_string}\">Download {filename}</a>'\n",
    "                )\n",
    "            )\n",
    "            display(widgets.Image(value=img_file.read(), format=\"jpg\"))\n",
    "\n",
    "\n",
    "def get_titles(b):\n",
    "    params = {\"encoding\": \"json\", \"key\": api_key.value}\n",
    "    response = requests.get(\n",
    "        \"http://api.trove.nla.gov.au/v2/newspaper/titles\", params=params\n",
    "    )\n",
    "    data = response.json()\n",
    "    title_list = [\n",
    "        (t[\"title\"], t[\"id\"]) for t in data[\"response\"][\"records\"][\"newspaper\"]\n",
    "    ]\n",
    "    title_list.sort(key=itemgetter(0))\n",
    "    titles = OrderedDict(title_list)\n",
    "    title.options = titles"
   ]
  },
  {
   "cell_type": "markdown",
   "metadata": {},
   "source": [
    "## Enter your Trove API key\n",
    "\n",
    "Get your own [Trove API key](http://help.nla.gov.au/trove/building-with-trove/api) and enter it below."
   ]
  },
  {
   "cell_type": "code",
   "execution_count": null,
   "metadata": {},
   "outputs": [],
   "source": [
    "api_key = widgets.Text(\n",
    "    placeholder=\"Enter your Trove API key\", description=\"API key:\", disabled=False\n",
    ")\n",
    "display(api_key)"
   ]
  },
  {
   "cell_type": "markdown",
   "metadata": {},
   "source": [
    "## Either enter an article or page url...\n",
    "\n",
    "You can use the url in your browser's location bar or an article or page permalink."
   ]
  },
  {
   "cell_type": "code",
   "execution_count": null,
   "metadata": {},
   "outputs": [],
   "source": [
    "article_url = widgets.Text(\n",
    "    placeholder=\"Enter an article or page url\",\n",
    "    description=\"Article/Page:\",\n",
    "    disabled=False,\n",
    ")\n",
    "display(article_url)"
   ]
  },
  {
   "cell_type": "markdown",
   "metadata": {},
   "source": [
    "## Or provide a date, newspaper title, and page number\n",
    "\n",
    "If you've provided a url above these settings will be ignored."
   ]
  },
  {
   "cell_type": "code",
   "execution_count": null,
   "metadata": {},
   "outputs": [],
   "source": [
    "date = widgets.DatePicker(description=\"Date:\", disabled=False)\n",
    "display(date)"
   ]
  },
  {
   "cell_type": "code",
   "execution_count": null,
   "metadata": {},
   "outputs": [],
   "source": [
    "page = widgets.IntText(value=1, description=\"Page:\", disabled=False)\n",
    "display(page)"
   ]
  },
  {
   "cell_type": "code",
   "execution_count": null,
   "metadata": {},
   "outputs": [],
   "source": [
    "title = widgets.Dropdown(\n",
    "    options=[\"Click the button to load titles\"],\n",
    "    description=\"Newspaper:\",\n",
    "    disabled=False,\n",
    ")\n",
    "titles_button = widgets.Button(\n",
    "    description=\"Load titles\",\n",
    "    disabled=False,\n",
    "    button_style=\"\",  # 'success', 'info', 'warning', 'danger' or ''\n",
    "    tooltip=\"Click to load titles\",\n",
    "    icon=\"\",\n",
    ")\n",
    "titles_button.on_click(get_titles)\n",
    "display(widgets.HBox([title, titles_button]))"
   ]
  },
  {
   "cell_type": "markdown",
   "metadata": {},
   "source": [
    "## Choose the resolution"
   ]
  },
  {
   "cell_type": "markdown",
   "metadata": {},
   "source": [
    "Page images are available in seven resolutions that correspond to the zoom levels in the Trove web interface. As a rough guide:\n",
    "\n",
    "\n",
    "<ul class=\"browser-default\">\n",
    "    <li>size 1 is around 900 x 1200 px (500kb)</li>\n",
    "    <li>size 4 is around 2700 x 3500 px (3mb)</li>\n",
    "    <li>size 7 is around 6100 x 7800 px (7mb)</li>\n",
    "</ul>"
   ]
  },
  {
   "cell_type": "code",
   "execution_count": null,
   "metadata": {},
   "outputs": [],
   "source": [
    "size = widgets.BoundedIntText(\n",
    "    min=1, max=7, value=4, description=\"Size:\", disabled=False\n",
    ")\n",
    "display(size)"
   ]
  },
  {
   "cell_type": "markdown",
   "metadata": {},
   "source": [
    "## Get the image!"
   ]
  },
  {
   "cell_type": "code",
   "execution_count": null,
   "metadata": {},
   "outputs": [],
   "source": [
    "button = widgets.Button(\n",
    "    description=\"Get thumbnail\",\n",
    "    disabled=False,\n",
    "    button_style=\"primary\",\n",
    "    tooltip=\"Click to download\",\n",
    "    icon=\"\",\n",
    ")\n",
    "button.on_click(get_page_image)\n",
    "display(button)\n",
    "display(out)"
   ]
  },
  {
   "cell_type": "code",
   "execution_count": null,
   "metadata": {},
   "outputs": [],
   "source": [
    "# TESTING\n",
    "\n",
    "if os.getenv(\"GW_STATUS\") == \"dev\" and os.getenv(\"TROVE_API_KEY\"):\n",
    "    api_key.value = os.getenv(\"TROVE_API_KEY\")\n",
    "    article_url.value = \"https://trove.nla.gov.au/newspaper/article/61389505\"\n",
    "    button.click()"
   ]
  },
  {
   "cell_type": "markdown",
   "metadata": {},
   "source": [
    "----\n",
    "\n",
    "Created by [Tim Sherratt](https://timsherratt.org/) for the [GLAM Workbench](https://glam-workbench.github.io/).  \n",
    "Support this project by becoming a [GitHub sponsor](https://github.com/sponsors/wragge?o=esb)."
   ]
  }
 ],
 "metadata": {
  "kernelspec": {
   "display_name": "Python 3 (ipykernel)",
   "language": "python",
   "name": "python3"
  },
  "language_info": {
   "codemirror_mode": {
    "name": "ipython",
    "version": 3
   },
   "file_extension": ".py",
   "mimetype": "text/x-python",
   "name": "python",
   "nbconvert_exporter": "python",
   "pygments_lexer": "ipython3",
   "version": "3.8.12"
  }
 },
 "nbformat": 4,
 "nbformat_minor": 4
}
