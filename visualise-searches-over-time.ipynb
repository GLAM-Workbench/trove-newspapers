{
 "cells": [
  {
   "cell_type": "markdown",
   "metadata": {},
   "source": [
    "# Visualise Trove newspaper searches over time\n",
    "\n",
    "You know the feeling. You enter a query into [Trove's digitised newspapers](https://trove.nla.gov.au/newspaper/) search box and...\n",
    "\n",
    "![Trove search results screen capture](images/trove-newspaper-results.png)\n",
    "\n",
    "Hmmm, **3 million results**, how do you make sense of that..?\n",
    "\n",
    "Trove tries to be as helpful as possible by ordering your results by relevance. This is great if you aim is to find a few interesting articles. But how can you get a sense of the complete results set? How can you *see* everything? Trove's web interface only shows you the first 2,000 articles matching your search. But by getting data directly from the [Trove API](https://help.nla.gov.au/trove/building-with-trove/api) we can go bigger. \n",
    "\n",
    "This notebook helps you zoom out and explore how the number of newspaper articles in your results varies over time by using the `decade` and `year` facets. We'll then combine this approach with other search facets to see how we can slice a set of results up in different ways to investigate historical changes.\n",
    "\n",
    "1. [Setting things up](#1.-Setting-things-up)\n",
    "2. [Find the number of articles per year using facets](#2.-Find-the-number-of-articles-per-year-using-facets)\n",
    "3. [How many articles in total were published each year?](#3.-How-many-articles-in-total-were-published-each-year?)\n",
    "4. [Charting our search results as a proportion of total articles](#4.-Charting-our-search-results-as-a-proportion-of-total-articles)\n",
    "5. [Comparing multiple search terms over time](#5.-Comparing-multiple-search-terms-over-time)\n",
    "6. [Comparing a search term across different states](#6.-Comparing-a-search-term-across-different-states)\n",
    "7. [Comparing a search term across different newspapers](#7.-Comparing-a-search-term-across-different-newspapers)\n",
    "8. [Chart changes in illustration types over time](#8.-Chart-changes-in-illustration-types-over-time)\n",
    "9. [But what are we searching?](#9.-But-what-are-we-searching?)\n",
    "10. [Next steps](#10.-Next-steps)\n",
    "11. [Related resources](#11.-Related-resources)\n",
    "12. [Further reading](#12.-Further-reading)\n",
    "\n",
    "If you're interested in exploring the possibilities examined in this notebook, but are feeling a bit intimidated by the code, skip to the [Related resources](#11.-Related-resources) section for some alternative starting points. But once you've got a bit of confidence, please come back here to learn more about how it all works!\n"
   ]
  },
  {
   "cell_type": "markdown",
   "metadata": {},
   "source": [
    "<div class=\"alert alert-block alert-warning\">\n",
    "<p>If you haven't used one of these notebooks before, they're basically web pages in which you can write, edit, and run live code. They're meant to encourage experimentation, so don't feel nervous. Just try running a few cells and see what happens!</p>\n",
    "\n",
    "<p>\n",
    "    Some tips:\n",
    "    <ul>\n",
    "        <li>Code cells have boxes around them.</li>\n",
    "        <li>To run a code cell click on the cell and then hit <b>Shift+Enter</b>. The <b>Shift+Enter</b> combo will also move you to the next cell, so it's a quick way to work through the notebook.</li>\n",
    "        <li>While a cell is running a <b>*</b> appears in the square brackets next to the cell. Once the cell has finished running the asterix will be replaced with a number.</li>\n",
    "        <li>In most cases you'll want to start from the top of notebook and work your way down running each cell in turn. Later cells might depend on the results of earlier ones.</li>\n",
    "        <li>To edit a code cell, just click on it and type stuff. Remember to run the cell once you've finished editing.</li>\n",
    "    </ul>\n",
    "</p>\n",
    "\n",
    "<p><b>Is this thing on?</b> If you can't edit or run any of the code cells, you might be viewing a static (read only) version of this notebook. Click here to <a href=\"https://mybinder.org/v2/gh/GLAM-Workbench/trove-newspapers/master?filepath=visualise-searches-over-time.ipynb\">load a <b>live</b> version</a> running on Binder.</p>\n",
    "\n",
    "</div>"
   ]
  },
  {
   "cell_type": "markdown",
   "metadata": {},
   "source": [
    "## 1. Setting things up"
   ]
  },
  {
   "cell_type": "markdown",
   "metadata": {},
   "source": [
    "### Import what we need"
   ]
  },
  {
   "cell_type": "code",
   "execution_count": 1,
   "metadata": {},
   "outputs": [],
   "source": [
    "import requests\n",
    "import os\n",
    "import ipywidgets as widgets\n",
    "from operator import itemgetter # used for sorting\n",
    "import pandas as pd # makes manipulating the data easier\n",
    "import altair as alt\n",
    "from requests.adapters import HTTPAdapter\n",
    "from requests.packages.urllib3.util.retry import Retry\n",
    "from tqdm.auto import tqdm\n",
    "from IPython.display import display, HTML, FileLink, clear_output\n",
    "import math\n",
    "from collections import OrderedDict\n",
    "import time\n",
    "\n",
    "# Make sure data directory exists\n",
    "os.makedirs('data', exist_ok=True)\n",
    "\n",
    "# Create a session that will automatically retry on server errors\n",
    "s = requests.Session()\n",
    "retries = Retry(total=5, backoff_factor=1, status_forcelist=[ 502, 503, 504 ])\n",
    "s.mount('http://', HTTPAdapter(max_retries=retries))\n",
    "s.mount('https://', HTTPAdapter(max_retries=retries))"
   ]
  },
  {
   "cell_type": "markdown",
   "metadata": {},
   "source": [
    "### Enter a Trove API key\n",
    "\n",
    "We're going to get our data from the Trove API. You'll need to get your own [Trove API key](http://help.nla.gov.au/trove/building-with-trove/api) and enter it below."
   ]
  },
  {
   "cell_type": "code",
   "execution_count": null,
   "metadata": {},
   "outputs": [],
   "source": [
    "api_key = 'YOUR API KEY'\n",
    "print('Your API key is: {}'.format(api_key))"
   ]
  },
  {
   "cell_type": "markdown",
   "metadata": {},
   "source": [
    "## 2. Find the number of articles per year using facets\n",
    "\n",
    "<img src=\"images/trove-decade-facets.png\" width=\"200\" align=\"left\" style=\"border: 1px solid #d6d6d6; margin-right: 20px\">\n",
    "\n",
    "When you search for newspaper articles using Trove's web interface, the results appear alongside a column headed 'Refine your results'. This column displays summary data extracted from your search, such as the states in which articles were published and the newspapers that published them. In the web interface, you can use this data to filter your results, but using the API we can retrieve the raw data and use it to visualise the complete result set.\n",
    "\n",
    "Here you can see the decade facet, showing the number of newspaper articles published each decade. If you click on a decade, the interface displays the number of results per year. So sitting underneath the web interface is data that breaks down our search results by year. Let's use this data to visualise a search over time."
   ]
  },
  {
   "cell_type": "markdown",
   "metadata": {},
   "source": [
    "To get results by year from the Trove API, you need to set the `facet` parameter to `year`. However, this only works if you've also selected a specific decade using the `l-decade` parameter. In other words, you can only get one decade's worth of results at a time. To assemble the complete dataset, you need to loop through all the decades, requesting the `year` data for each decade in turn.\n",
    "\n",
    "Let's start with some basic parameters for our search."
   ]
  },
  {
   "cell_type": "code",
   "execution_count": 3,
   "metadata": {},
   "outputs": [],
   "source": [
    "# Basic parameters for Trove API\n",
    "params = {\n",
    "    'facet': 'year', # Get the data aggregated by year.\n",
    "    'zone': 'newspaper',\n",
    "    'key': api_key,\n",
    "    'encoding': 'json',\n",
    "    'n': 0 # We don't need any records, just the facets!\n",
    "}"
   ]
  },
  {
   "cell_type": "markdown",
   "metadata": {},
   "source": [
    "But what are we searching for? We need to supply a `q` parameter that includes our search terms. We can use pretty much anything that works in the Trove simple search box. This includes boolean operators, phrase searches, and proximity modifiers. But let's start with something simple. Feel free to modify the `q` value in the cell below."
   ]
  },
  {
   "cell_type": "code",
   "execution_count": 4,
   "metadata": {},
   "outputs": [],
   "source": [
    "# CHANGE THIS TO SEARCH FOR SOMETHING ELSE!\n",
    "params['q'] = 'radio'"
   ]
  },
  {
   "cell_type": "markdown",
   "metadata": {},
   "source": [
    "Let's define a couple of handy functions for getting facet data from the Trove API. "
   ]
  },
  {
   "cell_type": "code",
   "execution_count": 5,
   "metadata": {},
   "outputs": [],
   "source": [
    "def get_results(params):\n",
    "    '''\n",
    "    Get JSON response data from the Trove API.\n",
    "    Parameters:\n",
    "        params\n",
    "    Returns:\n",
    "        JSON formatted response data from Trove API \n",
    "    '''\n",
    "    response = s.get('https://api.trove.nla.gov.au/v2/result', params=params, timeout=30)\n",
    "    response.raise_for_status()\n",
    "    # print(response.url) # This shows us the url that's sent to the API\n",
    "    data = response.json()\n",
    "    return data\n",
    "\n",
    "def get_facets(data):\n",
    "    '''\n",
    "    Loop through facets in Trove API response, saving terms and counts.\n",
    "    Parameters:\n",
    "        data  - JSON formatted response data from Trove API  \n",
    "    Returns:\n",
    "        A list of dictionaries containing: 'year', 'total_results'\n",
    "    '''\n",
    "    facets = []\n",
    "    try:\n",
    "        # The facets are buried a fair way down in the results\n",
    "        # Note that if you ask for more than one facet, you'll have use the facet['name'] param to find the one you want\n",
    "        # In this case there's only one facet, so we can just grab the list of terms (which are in fact the results by year)\n",
    "        for term in data['response']['zone'][0]['facets']['facet']['term']:\n",
    "            \n",
    "            # Get the year and the number of results, and convert them to integers, before adding to our results\n",
    "            facets.append({'year': int(term['search']), 'total_results': int(term['count'])})\n",
    "            \n",
    "        # Sort facets by year\n",
    "        facets.sort(key=itemgetter('year'))\n",
    "    except TypeError:\n",
    "        pass\n",
    "    return facets"
   ]
  },
  {
   "cell_type": "markdown",
   "metadata": {},
   "source": [
    "Now we'll define a function to loop through the decades, processing each in turn. \n",
    "\n",
    "To loop through the decades we need to define start and end points. Trove includes newspapers from 1803 right through until the current decade. Note that Trove expects decades to be specified using the first three digits of a year – so the decade value for the 1800s is just `180`. So let's set our range by giving `180` and `201` to the function as our default `start_decade` and `end_decade` values. Also note that I'm defining them as numbers, not strings (no quotes around them!). This is so that we can use them to build a range.\n",
    "\n",
    "This function returns a list of dictionaries with values for `year` and `total_results`."
   ]
  },
  {
   "cell_type": "code",
   "execution_count": 6,
   "metadata": {},
   "outputs": [],
   "source": [
    "def get_facet_data(params, start_decade=180, end_decade=201):\n",
    "    '''\n",
    "    Loop throught the decades from 'start_decade' to 'end_decade',\n",
    "    getting the number of search results for each year from the year facet.\n",
    "    Combine all the results into a single list.\n",
    "    Parameters:\n",
    "        params - parameters to send to the API\n",
    "        start_decade\n",
    "        end_decade\n",
    "    Returns:\n",
    "        A list of dictionaries containing 'year', 'total_results' for the complete \n",
    "        period between the start and end decades.\n",
    "    '''\n",
    "    # Create a list to hold the facets data\n",
    "    facet_data = []\n",
    "    \n",
    "    # Loop through the decades\n",
    "    for decade in tqdm(range(start_decade, end_decade + 1)):\n",
    "        \n",
    "        # Avoid confusion by copying the params before we change anything.\n",
    "        search_params = params.copy()\n",
    "        \n",
    "        # Add decade value to params\n",
    "        search_params['l-decade'] = decade\n",
    "        \n",
    "        # Get the data from the API\n",
    "        data = get_results(search_params)\n",
    "        \n",
    "        # Get the facets from the data and add to facets_data\n",
    "        facet_data += get_facets(data)\n",
    "        \n",
    "        # Try not to go over API rate limit - increase if you get 403 errors\n",
    "        time.sleep(0.2)\n",
    "        \n",
    "    # Reomve the progress bar (you can also set leave=False in tqdm, but that still leaves white space in Jupyter Lab)\n",
    "    clear_output()\n",
    "    return facet_data"
   ]
  },
  {
   "cell_type": "code",
   "execution_count": 7,
   "metadata": {},
   "outputs": [],
   "source": [
    "# Call the function and save the results to a variable called facet_data\n",
    "facet_data = get_facet_data(params)"
   ]
  },
  {
   "cell_type": "markdown",
   "metadata": {},
   "source": [
    "For easy exploration, we'll convert the facet data into a [Pandas](https://pandas.pydata.org/) DataFrame."
   ]
  },
  {
   "cell_type": "code",
   "execution_count": 8,
   "metadata": {},
   "outputs": [
    {
     "data": {
      "text/html": [
       "<div>\n",
       "<style scoped>\n",
       "    .dataframe tbody tr th:only-of-type {\n",
       "        vertical-align: middle;\n",
       "    }\n",
       "\n",
       "    .dataframe tbody tr th {\n",
       "        vertical-align: top;\n",
       "    }\n",
       "\n",
       "    .dataframe thead th {\n",
       "        text-align: right;\n",
       "    }\n",
       "</style>\n",
       "<table border=\"1\" class=\"dataframe\">\n",
       "  <thead>\n",
       "    <tr style=\"text-align: right;\">\n",
       "      <th></th>\n",
       "      <th>year</th>\n",
       "      <th>total_results</th>\n",
       "    </tr>\n",
       "  </thead>\n",
       "  <tbody>\n",
       "    <tr>\n",
       "      <th>0</th>\n",
       "      <td>1830</td>\n",
       "      <td>2</td>\n",
       "    </tr>\n",
       "    <tr>\n",
       "      <th>1</th>\n",
       "      <td>1832</td>\n",
       "      <td>1</td>\n",
       "    </tr>\n",
       "    <tr>\n",
       "      <th>2</th>\n",
       "      <td>1833</td>\n",
       "      <td>1</td>\n",
       "    </tr>\n",
       "    <tr>\n",
       "      <th>3</th>\n",
       "      <td>1834</td>\n",
       "      <td>4</td>\n",
       "    </tr>\n",
       "    <tr>\n",
       "      <th>4</th>\n",
       "      <td>1835</td>\n",
       "      <td>1</td>\n",
       "    </tr>\n",
       "  </tbody>\n",
       "</table>\n",
       "</div>"
      ],
      "text/plain": [
       "   year  total_results\n",
       "0  1830              2\n",
       "1  1832              1\n",
       "2  1833              1\n",
       "3  1834              4\n",
       "4  1835              1"
      ]
     },
     "execution_count": 8,
     "metadata": {},
     "output_type": "execute_result"
    }
   ],
   "source": [
    "# Convert our data to a dataframe called df\n",
    "df = pd.DataFrame(facet_data)\n",
    "\n",
    "# Let's have a look at the first few rows of data\n",
    "df.head()"
   ]
  },
  {
   "cell_type": "markdown",
   "metadata": {},
   "source": [
    "Which year had the most results? We can use `idxmax()` to find out."
   ]
  },
  {
   "cell_type": "code",
   "execution_count": 9,
   "metadata": {},
   "outputs": [
    {
     "data": {
      "text/plain": [
       "year               1941\n",
       "total_results    133573\n",
       "Name: 110, dtype: int64"
      ]
     },
     "execution_count": 9,
     "metadata": {},
     "output_type": "execute_result"
    }
   ],
   "source": [
    "# Show the row that has the highest value in the 'total_results' column.\n",
    "# Use .idxmax to find the row with the highest value, then use .loc to get it\n",
    "df.loc[df['total_results'].idxmax()]"
   ]
  },
  {
   "cell_type": "markdown",
   "metadata": {},
   "source": [
    "Now let's display the data as a chart using [Altair](https://altair-viz.github.io/index.html)."
   ]
  },
  {
   "cell_type": "code",
   "execution_count": 10,
   "metadata": {},
   "outputs": [
    {
     "data": {
      "text/html": [
       "\n",
       "<div id=\"altair-viz-e8ef09cef4f8417c91522e76940540c2\"></div>\n",
       "<script type=\"text/javascript\">\n",
       "  (function(spec, embedOpt){\n",
       "    let outputDiv = document.currentScript.previousElementSibling;\n",
       "    if (outputDiv.id !== \"altair-viz-e8ef09cef4f8417c91522e76940540c2\") {\n",
       "      outputDiv = document.getElementById(\"altair-viz-e8ef09cef4f8417c91522e76940540c2\");\n",
       "    }\n",
       "    const paths = {\n",
       "      \"vega\": \"https://cdn.jsdelivr.net/npm//vega@5?noext\",\n",
       "      \"vega-lib\": \"https://cdn.jsdelivr.net/npm//vega-lib?noext\",\n",
       "      \"vega-lite\": \"https://cdn.jsdelivr.net/npm//vega-lite@4.8.1?noext\",\n",
       "      \"vega-embed\": \"https://cdn.jsdelivr.net/npm//vega-embed@6?noext\",\n",
       "    };\n",
       "\n",
       "    function loadScript(lib) {\n",
       "      return new Promise(function(resolve, reject) {\n",
       "        var s = document.createElement('script');\n",
       "        s.src = paths[lib];\n",
       "        s.async = true;\n",
       "        s.onload = () => resolve(paths[lib]);\n",
       "        s.onerror = () => reject(`Error loading script: ${paths[lib]}`);\n",
       "        document.getElementsByTagName(\"head\")[0].appendChild(s);\n",
       "      });\n",
       "    }\n",
       "\n",
       "    function showError(err) {\n",
       "      outputDiv.innerHTML = `<div class=\"error\" style=\"color:red;\">${err}</div>`;\n",
       "      throw err;\n",
       "    }\n",
       "\n",
       "    function displayChart(vegaEmbed) {\n",
       "      vegaEmbed(outputDiv, spec, embedOpt)\n",
       "        .catch(err => showError(`Javascript Error: ${err.message}<br>This usually means there's a typo in your chart specification. See the javascript console for the full traceback.`));\n",
       "    }\n",
       "\n",
       "    if(typeof define === \"function\" && define.amd) {\n",
       "      requirejs.config({paths});\n",
       "      require([\"vega-embed\"], displayChart, err => showError(`Error loading script: ${err.message}`));\n",
       "    } else if (typeof vegaEmbed === \"function\") {\n",
       "      displayChart(vegaEmbed);\n",
       "    } else {\n",
       "      loadScript(\"vega\")\n",
       "        .then(() => loadScript(\"vega-lite\"))\n",
       "        .then(() => loadScript(\"vega-embed\"))\n",
       "        .catch(showError)\n",
       "        .then(() => displayChart(vegaEmbed));\n",
       "    }\n",
       "  })({\"config\": {\"view\": {\"continuousWidth\": 400, \"continuousHeight\": 300}}, \"data\": {\"name\": \"data-8027965fac8c8d410856dae221c2047d\"}, \"mark\": {\"type\": \"line\", \"point\": true}, \"encoding\": {\"tooltip\": [{\"type\": \"quantitative\", \"field\": \"year\", \"title\": \"Year\"}, {\"type\": \"quantitative\", \"field\": \"total_results\", \"format\": \",\", \"title\": \"Articles\"}], \"x\": {\"type\": \"quantitative\", \"axis\": {\"format\": \"c\", \"title\": \"Year\"}, \"field\": \"year\"}, \"y\": {\"type\": \"quantitative\", \"axis\": {\"format\": \",d\", \"title\": \"Number of articles\"}, \"field\": \"total_results\"}}, \"height\": 400, \"width\": 700, \"$schema\": \"https://vega.github.io/schema/vega-lite/v4.8.1.json\", \"datasets\": {\"data-8027965fac8c8d410856dae221c2047d\": [{\"year\": 1830, \"total_results\": 2}, {\"year\": 1832, \"total_results\": 1}, {\"year\": 1833, \"total_results\": 1}, {\"year\": 1834, \"total_results\": 4}, {\"year\": 1835, \"total_results\": 1}, {\"year\": 1836, \"total_results\": 6}, {\"year\": 1837, \"total_results\": 4}, {\"year\": 1838, \"total_results\": 3}, {\"year\": 1839, \"total_results\": 5}, {\"year\": 1840, \"total_results\": 2}, {\"year\": 1841, \"total_results\": 16}, {\"year\": 1842, \"total_results\": 5}, {\"year\": 1843, \"total_results\": 5}, {\"year\": 1844, \"total_results\": 2}, {\"year\": 1845, \"total_results\": 12}, {\"year\": 1846, \"total_results\": 6}, {\"year\": 1847, \"total_results\": 15}, {\"year\": 1848, \"total_results\": 10}, {\"year\": 1849, \"total_results\": 17}, {\"year\": 1850, \"total_results\": 14}, {\"year\": 1851, \"total_results\": 11}, {\"year\": 1852, \"total_results\": 14}, {\"year\": 1853, \"total_results\": 38}, {\"year\": 1854, \"total_results\": 44}, {\"year\": 1855, \"total_results\": 29}, {\"year\": 1856, \"total_results\": 32}, {\"year\": 1857, \"total_results\": 39}, {\"year\": 1858, \"total_results\": 72}, {\"year\": 1859, \"total_results\": 70}, {\"year\": 1860, \"total_results\": 96}, {\"year\": 1861, \"total_results\": 105}, {\"year\": 1862, \"total_results\": 102}, {\"year\": 1863, \"total_results\": 114}, {\"year\": 1864, \"total_results\": 88}, {\"year\": 1865, \"total_results\": 88}, {\"year\": 1866, \"total_results\": 71}, {\"year\": 1867, \"total_results\": 78}, {\"year\": 1868, \"total_results\": 118}, {\"year\": 1869, \"total_results\": 116}, {\"year\": 1870, \"total_results\": 114}, {\"year\": 1871, \"total_results\": 127}, {\"year\": 1872, \"total_results\": 115}, {\"year\": 1873, \"total_results\": 128}, {\"year\": 1874, \"total_results\": 146}, {\"year\": 1875, \"total_results\": 163}, {\"year\": 1876, \"total_results\": 174}, {\"year\": 1877, \"total_results\": 242}, {\"year\": 1878, \"total_results\": 258}, {\"year\": 1879, \"total_results\": 299}, {\"year\": 1880, \"total_results\": 286}, {\"year\": 1881, \"total_results\": 380}, {\"year\": 1882, \"total_results\": 293}, {\"year\": 1883, \"total_results\": 341}, {\"year\": 1884, \"total_results\": 346}, {\"year\": 1885, \"total_results\": 440}, {\"year\": 1886, \"total_results\": 527}, {\"year\": 1887, \"total_results\": 445}, {\"year\": 1888, \"total_results\": 571}, {\"year\": 1889, \"total_results\": 556}, {\"year\": 1890, \"total_results\": 572}, {\"year\": 1891, \"total_results\": 532}, {\"year\": 1892, \"total_results\": 551}, {\"year\": 1893, \"total_results\": 550}, {\"year\": 1894, \"total_results\": 573}, {\"year\": 1895, \"total_results\": 634}, {\"year\": 1896, \"total_results\": 671}, {\"year\": 1897, \"total_results\": 642}, {\"year\": 1898, \"total_results\": 576}, {\"year\": 1899, \"total_results\": 529}, {\"year\": 1900, \"total_results\": 602}, {\"year\": 1901, \"total_results\": 575}, {\"year\": 1902, \"total_results\": 594}, {\"year\": 1903, \"total_results\": 925}, {\"year\": 1904, \"total_results\": 1419}, {\"year\": 1905, \"total_results\": 1190}, {\"year\": 1906, \"total_results\": 1424}, {\"year\": 1907, \"total_results\": 1090}, {\"year\": 1908, \"total_results\": 1186}, {\"year\": 1909, \"total_results\": 1669}, {\"year\": 1910, \"total_results\": 2184}, {\"year\": 1911, \"total_results\": 2379}, {\"year\": 1912, \"total_results\": 2763}, {\"year\": 1913, \"total_results\": 3368}, {\"year\": 1914, \"total_results\": 4064}, {\"year\": 1915, \"total_results\": 3886}, {\"year\": 1916, \"total_results\": 3321}, {\"year\": 1917, \"total_results\": 3364}, {\"year\": 1918, \"total_results\": 3302}, {\"year\": 1919, \"total_results\": 3659}, {\"year\": 1920, \"total_results\": 5094}, {\"year\": 1921, \"total_results\": 5426}, {\"year\": 1922, \"total_results\": 7441}, {\"year\": 1923, \"total_results\": 11575}, {\"year\": 1924, \"total_results\": 24628}, {\"year\": 1925, \"total_results\": 37796}, {\"year\": 1926, \"total_results\": 42711}, {\"year\": 1927, \"total_results\": 53700}, {\"year\": 1928, \"total_results\": 60651}, {\"year\": 1929, \"total_results\": 60785}, {\"year\": 1930, \"total_results\": 63628}, {\"year\": 1931, \"total_results\": 65111}, {\"year\": 1932, \"total_results\": 71767}, {\"year\": 1933, \"total_results\": 78748}, {\"year\": 1934, \"total_results\": 92623}, {\"year\": 1935, \"total_results\": 100567}, {\"year\": 1936, \"total_results\": 109107}, {\"year\": 1937, \"total_results\": 120609}, {\"year\": 1938, \"total_results\": 131417}, {\"year\": 1939, \"total_results\": 127995}, {\"year\": 1940, \"total_results\": 127062}, {\"year\": 1941, \"total_results\": 133573}, {\"year\": 1942, \"total_results\": 127790}, {\"year\": 1943, \"total_results\": 122849}, {\"year\": 1944, \"total_results\": 115743}, {\"year\": 1945, \"total_results\": 116548}, {\"year\": 1946, \"total_results\": 118287}, {\"year\": 1947, \"total_results\": 124657}, {\"year\": 1948, \"total_results\": 111442}, {\"year\": 1949, \"total_results\": 117770}, {\"year\": 1950, \"total_results\": 119067}, {\"year\": 1951, \"total_results\": 107284}, {\"year\": 1952, \"total_results\": 105600}, {\"year\": 1953, \"total_results\": 118204}, {\"year\": 1954, \"total_results\": 127251}, {\"year\": 1955, \"total_results\": 11717}, {\"year\": 1956, \"total_results\": 9233}, {\"year\": 1957, \"total_results\": 5175}, {\"year\": 1958, \"total_results\": 5655}, {\"year\": 1959, \"total_results\": 5418}, {\"year\": 1960, \"total_results\": 5454}, {\"year\": 1961, \"total_results\": 4853}, {\"year\": 1962, \"total_results\": 4865}, {\"year\": 1963, \"total_results\": 5943}, {\"year\": 1964, \"total_results\": 5337}, {\"year\": 1965, \"total_results\": 5829}, {\"year\": 1966, \"total_results\": 5340}, {\"year\": 1967, \"total_results\": 5196}, {\"year\": 1968, \"total_results\": 5454}, {\"year\": 1969, \"total_results\": 6501}, {\"year\": 1970, \"total_results\": 6769}, {\"year\": 1971, \"total_results\": 6371}, {\"year\": 1972, \"total_results\": 6730}, {\"year\": 1973, \"total_results\": 6114}, {\"year\": 1974, \"total_results\": 5887}, {\"year\": 1975, \"total_results\": 6270}, {\"year\": 1976, \"total_results\": 6784}, {\"year\": 1977, \"total_results\": 6996}, {\"year\": 1978, \"total_results\": 6860}, {\"year\": 1979, \"total_results\": 6999}, {\"year\": 1980, \"total_results\": 6824}, {\"year\": 1981, \"total_results\": 6421}, {\"year\": 1982, \"total_results\": 5225}, {\"year\": 1983, \"total_results\": 5058}, {\"year\": 1984, \"total_results\": 5379}, {\"year\": 1985, \"total_results\": 5282}, {\"year\": 1986, \"total_results\": 5114}, {\"year\": 1987, \"total_results\": 5047}, {\"year\": 1988, \"total_results\": 5503}, {\"year\": 1989, \"total_results\": 4968}, {\"year\": 1990, \"total_results\": 4869}, {\"year\": 1991, \"total_results\": 5248}, {\"year\": 1992, \"total_results\": 4656}, {\"year\": 1993, \"total_results\": 4410}, {\"year\": 1994, \"total_results\": 4082}, {\"year\": 1995, \"total_results\": 4180}, {\"year\": 1996, \"total_results\": 500}, {\"year\": 1997, \"total_results\": 591}, {\"year\": 1998, \"total_results\": 754}, {\"year\": 1999, \"total_results\": 1066}, {\"year\": 2000, \"total_results\": 740}, {\"year\": 2001, \"total_results\": 702}, {\"year\": 2002, \"total_results\": 653}, {\"year\": 2003, \"total_results\": 436}, {\"year\": 2004, \"total_results\": 368}, {\"year\": 2005, \"total_results\": 184}, {\"year\": 2006, \"total_results\": 220}, {\"year\": 2007, \"total_results\": 156}, {\"year\": 2008, \"total_results\": 115}, {\"year\": 2009, \"total_results\": 93}, {\"year\": 2010, \"total_results\": 104}, {\"year\": 2011, \"total_results\": 79}, {\"year\": 2012, \"total_results\": 78}, {\"year\": 2013, \"total_results\": 57}, {\"year\": 2014, \"total_results\": 45}, {\"year\": 2015, \"total_results\": 40}]}}, {\"mode\": \"vega-lite\"});\n",
       "</script>"
      ],
      "text/plain": [
       "alt.Chart(...)"
      ]
     },
     "execution_count": 10,
     "metadata": {},
     "output_type": "execute_result"
    }
   ],
   "source": [
    "alt.Chart(df).mark_line(point=True).encode(\n",
    "        # Years on the X axis\n",
    "        x=alt.X('year:Q', axis=alt.Axis(format='c', title='Year')),\n",
    "    \n",
    "        # Number of articles on the Y axis\n",
    "        y=alt.Y('total_results:Q', axis=alt.Axis(format=',d', title='Number of articles')),\n",
    "    \n",
    "        # Display details when you hover over a point\n",
    "        tooltip=[alt.Tooltip('year:Q', title='Year'), alt.Tooltip('total_results:Q', title='Articles', format=',')]\n",
    "    ).properties(width=700, height=400)"
   ]
  },
  {
   "cell_type": "markdown",
   "metadata": {},
   "source": [
    "No suprise to see a sudden increase in the use of the word 'radio' in the early decades of the 20th century, but why do the results drop away after 1954? To find out we have to dig a bit deeper into Trove."
   ]
  },
  {
   "cell_type": "markdown",
   "metadata": {},
   "source": [
    "## 3. How many articles in total were published each year?"
   ]
  },
  {
   "cell_type": "markdown",
   "metadata": {},
   "source": [
    "Ok, we've visualised a search in Trove's digitised newspapers. Our chart shows a clear change in the number of articles over time, but are we really observing a historical shift relating to the topic, or is this just because more newspapers were published at particular times? To explore this further, let's create another chart, but this time we'll search for *everything*. The way we do this is by setting the `q` parameter to ' ' – a single space.\n",
    "\n",
    "First let's get the data."
   ]
  },
  {
   "cell_type": "code",
   "execution_count": 11,
   "metadata": {},
   "outputs": [],
   "source": [
    "# Reset the 'q' parameter\n",
    "# Use a an empty search (a single space) to get ALL THE ARTICLES\n",
    "params['q'] = ' '\n",
    "\n",
    "# Get facet data for all articles\n",
    "all_facet_data = get_facet_data(params)"
   ]
  },
  {
   "cell_type": "markdown",
   "metadata": {},
   "source": [
    "Now let's create the chart."
   ]
  },
  {
   "cell_type": "code",
   "execution_count": 12,
   "metadata": {},
   "outputs": [
    {
     "data": {
      "text/html": [
       "\n",
       "<div id=\"altair-viz-38d799554bb74dc2bde81262b1352ad2\"></div>\n",
       "<script type=\"text/javascript\">\n",
       "  (function(spec, embedOpt){\n",
       "    let outputDiv = document.currentScript.previousElementSibling;\n",
       "    if (outputDiv.id !== \"altair-viz-38d799554bb74dc2bde81262b1352ad2\") {\n",
       "      outputDiv = document.getElementById(\"altair-viz-38d799554bb74dc2bde81262b1352ad2\");\n",
       "    }\n",
       "    const paths = {\n",
       "      \"vega\": \"https://cdn.jsdelivr.net/npm//vega@5?noext\",\n",
       "      \"vega-lib\": \"https://cdn.jsdelivr.net/npm//vega-lib?noext\",\n",
       "      \"vega-lite\": \"https://cdn.jsdelivr.net/npm//vega-lite@4.8.1?noext\",\n",
       "      \"vega-embed\": \"https://cdn.jsdelivr.net/npm//vega-embed@6?noext\",\n",
       "    };\n",
       "\n",
       "    function loadScript(lib) {\n",
       "      return new Promise(function(resolve, reject) {\n",
       "        var s = document.createElement('script');\n",
       "        s.src = paths[lib];\n",
       "        s.async = true;\n",
       "        s.onload = () => resolve(paths[lib]);\n",
       "        s.onerror = () => reject(`Error loading script: ${paths[lib]}`);\n",
       "        document.getElementsByTagName(\"head\")[0].appendChild(s);\n",
       "      });\n",
       "    }\n",
       "\n",
       "    function showError(err) {\n",
       "      outputDiv.innerHTML = `<div class=\"error\" style=\"color:red;\">${err}</div>`;\n",
       "      throw err;\n",
       "    }\n",
       "\n",
       "    function displayChart(vegaEmbed) {\n",
       "      vegaEmbed(outputDiv, spec, embedOpt)\n",
       "        .catch(err => showError(`Javascript Error: ${err.message}<br>This usually means there's a typo in your chart specification. See the javascript console for the full traceback.`));\n",
       "    }\n",
       "\n",
       "    if(typeof define === \"function\" && define.amd) {\n",
       "      requirejs.config({paths});\n",
       "      require([\"vega-embed\"], displayChart, err => showError(`Error loading script: ${err.message}`));\n",
       "    } else if (typeof vegaEmbed === \"function\") {\n",
       "      displayChart(vegaEmbed);\n",
       "    } else {\n",
       "      loadScript(\"vega\")\n",
       "        .then(() => loadScript(\"vega-lite\"))\n",
       "        .then(() => loadScript(\"vega-embed\"))\n",
       "        .catch(showError)\n",
       "        .then(() => displayChart(vegaEmbed));\n",
       "    }\n",
       "  })({\"config\": {\"view\": {\"continuousWidth\": 400, \"continuousHeight\": 300}}, \"data\": {\"name\": \"data-cc41d05041d2f5fb008e36772ca78f4c\"}, \"mark\": {\"type\": \"line\", \"point\": true}, \"encoding\": {\"tooltip\": [{\"type\": \"quantitative\", \"field\": \"year\", \"title\": \"Year\"}, {\"type\": \"quantitative\", \"field\": \"total_results\", \"format\": \",\", \"title\": \"Articles\"}], \"x\": {\"type\": \"quantitative\", \"axis\": {\"format\": \"c\", \"title\": \"Year\"}, \"field\": \"year\"}, \"y\": {\"type\": \"quantitative\", \"axis\": {\"format\": \",d\", \"title\": \"Number of articles\"}, \"field\": \"total_results\"}}, \"height\": 400, \"width\": 700, \"$schema\": \"https://vega.github.io/schema/vega-lite/v4.8.1.json\", \"datasets\": {\"data-cc41d05041d2f5fb008e36772ca78f4c\": [{\"year\": 1803, \"total_results\": 526}, {\"year\": 1804, \"total_results\": 619}, {\"year\": 1805, \"total_results\": 430}, {\"year\": 1806, \"total_results\": 367}, {\"year\": 1807, \"total_results\": 134}, {\"year\": 1808, \"total_results\": 155}, {\"year\": 1809, \"total_results\": 237}, {\"year\": 1810, \"total_results\": 274}, {\"year\": 1811, \"total_results\": 228}, {\"year\": 1812, \"total_results\": 215}, {\"year\": 1813, \"total_results\": 234}, {\"year\": 1814, \"total_results\": 239}, {\"year\": 1815, \"total_results\": 226}, {\"year\": 1816, \"total_results\": 644}, {\"year\": 1817, \"total_results\": 1068}, {\"year\": 1818, \"total_results\": 1249}, {\"year\": 1819, \"total_results\": 1152}, {\"year\": 1820, \"total_results\": 1275}, {\"year\": 1821, \"total_results\": 1005}, {\"year\": 1822, \"total_results\": 1033}, {\"year\": 1823, \"total_results\": 1156}, {\"year\": 1824, \"total_results\": 1646}, {\"year\": 1825, \"total_results\": 3366}, {\"year\": 1826, \"total_results\": 5201}, {\"year\": 1827, \"total_results\": 6537}, {\"year\": 1828, \"total_results\": 6726}, {\"year\": 1829, \"total_results\": 8320}, {\"year\": 1830, \"total_results\": 8369}, {\"year\": 1831, \"total_results\": 10311}, {\"year\": 1832, \"total_results\": 13732}, {\"year\": 1833, \"total_results\": 15438}, {\"year\": 1834, \"total_results\": 18704}, {\"year\": 1835, \"total_results\": 20389}, {\"year\": 1836, \"total_results\": 20553}, {\"year\": 1837, \"total_results\": 21697}, {\"year\": 1838, \"total_results\": 25191}, {\"year\": 1839, \"total_results\": 31159}, {\"year\": 1840, \"total_results\": 40450}, {\"year\": 1841, \"total_results\": 43583}, {\"year\": 1842, \"total_results\": 44264}, {\"year\": 1843, \"total_results\": 45968}, {\"year\": 1844, \"total_results\": 51377}, {\"year\": 1845, \"total_results\": 60228}, {\"year\": 1846, \"total_results\": 58794}, {\"year\": 1847, \"total_results\": 59503}, {\"year\": 1848, \"total_results\": 60302}, {\"year\": 1849, \"total_results\": 59698}, {\"year\": 1850, \"total_results\": 78726}, {\"year\": 1851, \"total_results\": 93422}, {\"year\": 1852, \"total_results\": 77328}, {\"year\": 1853, \"total_results\": 89716}, {\"year\": 1854, \"total_results\": 111809}, {\"year\": 1855, \"total_results\": 152862}, {\"year\": 1856, \"total_results\": 165260}, {\"year\": 1857, \"total_results\": 167962}, {\"year\": 1858, \"total_results\": 170506}, {\"year\": 1859, \"total_results\": 192157}, {\"year\": 1860, \"total_results\": 203666}, {\"year\": 1861, \"total_results\": 222964}, {\"year\": 1862, \"total_results\": 231360}, {\"year\": 1863, \"total_results\": 236359}, {\"year\": 1864, \"total_results\": 250078}, {\"year\": 1865, \"total_results\": 270535}, {\"year\": 1866, \"total_results\": 286531}, {\"year\": 1867, \"total_results\": 294045}, {\"year\": 1868, \"total_results\": 301851}, {\"year\": 1869, \"total_results\": 323274}, {\"year\": 1870, \"total_results\": 368748}, {\"year\": 1871, \"total_results\": 356420}, {\"year\": 1872, \"total_results\": 379281}, {\"year\": 1873, \"total_results\": 418488}, {\"year\": 1874, \"total_results\": 433570}, {\"year\": 1875, \"total_results\": 461964}, {\"year\": 1876, \"total_results\": 474589}, {\"year\": 1877, \"total_results\": 496062}, {\"year\": 1878, \"total_results\": 567221}, {\"year\": 1879, \"total_results\": 605369}, {\"year\": 1880, \"total_results\": 620926}, {\"year\": 1881, \"total_results\": 663699}, {\"year\": 1882, \"total_results\": 743779}, {\"year\": 1883, \"total_results\": 766454}, {\"year\": 1884, \"total_results\": 852461}, {\"year\": 1885, \"total_results\": 908355}, {\"year\": 1886, \"total_results\": 992953}, {\"year\": 1887, \"total_results\": 1041600}, {\"year\": 1888, \"total_results\": 1156393}, {\"year\": 1889, \"total_results\": 1241746}, {\"year\": 1890, \"total_results\": 1348543}, {\"year\": 1891, \"total_results\": 1419001}, {\"year\": 1892, \"total_results\": 1473222}, {\"year\": 1893, \"total_results\": 1493950}, {\"year\": 1894, \"total_results\": 1537245}, {\"year\": 1895, \"total_results\": 1655640}, {\"year\": 1896, \"total_results\": 1759780}, {\"year\": 1897, \"total_results\": 1878259}, {\"year\": 1898, \"total_results\": 2101016}, {\"year\": 1899, \"total_results\": 2270158}, {\"year\": 1900, \"total_results\": 2502505}, {\"year\": 1901, \"total_results\": 2576632}, {\"year\": 1902, \"total_results\": 2635471}, {\"year\": 1903, \"total_results\": 2679197}, {\"year\": 1904, \"total_results\": 2851878}, {\"year\": 1905, \"total_results\": 2981209}, {\"year\": 1906, \"total_results\": 3027361}, {\"year\": 1907, \"total_results\": 3182813}, {\"year\": 1908, \"total_results\": 3283574}, {\"year\": 1909, \"total_results\": 3348174}, {\"year\": 1910, \"total_results\": 3585173}, {\"year\": 1911, \"total_results\": 3713930}, {\"year\": 1912, \"total_results\": 3868683}, {\"year\": 1913, \"total_results\": 3935079}, {\"year\": 1914, \"total_results\": 4631430}, {\"year\": 1915, \"total_results\": 4731925}, {\"year\": 1916, \"total_results\": 4327007}, {\"year\": 1917, \"total_results\": 4219898}, {\"year\": 1918, \"total_results\": 3996936}, {\"year\": 1919, \"total_results\": 3453197}, {\"year\": 1920, \"total_results\": 3202012}, {\"year\": 1921, \"total_results\": 3387474}, {\"year\": 1922, \"total_results\": 3507102}, {\"year\": 1923, \"total_results\": 3777858}, {\"year\": 1924, \"total_results\": 4063598}, {\"year\": 1925, \"total_results\": 4025384}, {\"year\": 1926, \"total_results\": 4007278}, {\"year\": 1927, \"total_results\": 4040350}, {\"year\": 1928, \"total_results\": 4120958}, {\"year\": 1929, \"total_results\": 4346183}, {\"year\": 1930, \"total_results\": 4194819}, {\"year\": 1931, \"total_results\": 3825141}, {\"year\": 1932, \"total_results\": 3804137}, {\"year\": 1933, \"total_results\": 3978777}, {\"year\": 1934, \"total_results\": 4075716}, {\"year\": 1935, \"total_results\": 4157594}, {\"year\": 1936, \"total_results\": 4246634}, {\"year\": 1937, \"total_results\": 4229023}, {\"year\": 1938, \"total_results\": 4225814}, {\"year\": 1939, \"total_results\": 3994424}, {\"year\": 1940, \"total_results\": 3392990}, {\"year\": 1941, \"total_results\": 2987500}, {\"year\": 1942, \"total_results\": 2389391}, {\"year\": 1943, \"total_results\": 2103261}, {\"year\": 1944, \"total_results\": 2152455}, {\"year\": 1945, \"total_results\": 2337141}, {\"year\": 1946, \"total_results\": 2625887}, {\"year\": 1947, \"total_results\": 2716737}, {\"year\": 1948, \"total_results\": 2465735}, {\"year\": 1949, \"total_results\": 2720488}, {\"year\": 1950, \"total_results\": 2740028}, {\"year\": 1951, \"total_results\": 2511109}, {\"year\": 1952, \"total_results\": 2554216}, {\"year\": 1953, \"total_results\": 2691009}, {\"year\": 1954, \"total_results\": 2702881}, {\"year\": 1955, \"total_results\": 252963}, {\"year\": 1956, \"total_results\": 176649}, {\"year\": 1957, \"total_results\": 102977}, {\"year\": 1958, \"total_results\": 103319}, {\"year\": 1959, \"total_results\": 99010}, {\"year\": 1960, \"total_results\": 93273}, {\"year\": 1961, \"total_results\": 88200}, {\"year\": 1962, \"total_results\": 87318}, {\"year\": 1963, \"total_results\": 96229}, {\"year\": 1964, \"total_results\": 96814}, {\"year\": 1965, \"total_results\": 101122}, {\"year\": 1966, \"total_results\": 98928}, {\"year\": 1967, \"total_results\": 97474}, {\"year\": 1968, \"total_results\": 100507}, {\"year\": 1969, \"total_results\": 121108}, {\"year\": 1970, \"total_results\": 138406}, {\"year\": 1971, \"total_results\": 136162}, {\"year\": 1972, \"total_results\": 132241}, {\"year\": 1973, \"total_results\": 133033}, {\"year\": 1974, \"total_results\": 131271}, {\"year\": 1975, \"total_results\": 125005}, {\"year\": 1976, \"total_results\": 126193}, {\"year\": 1977, \"total_results\": 128804}, {\"year\": 1978, \"total_results\": 133155}, {\"year\": 1979, \"total_results\": 137809}, {\"year\": 1980, \"total_results\": 135609}, {\"year\": 1981, \"total_results\": 114802}, {\"year\": 1982, \"total_results\": 102033}, {\"year\": 1983, \"total_results\": 87590}, {\"year\": 1984, \"total_results\": 92214}, {\"year\": 1985, \"total_results\": 98601}, {\"year\": 1986, \"total_results\": 96748}, {\"year\": 1987, \"total_results\": 96387}, {\"year\": 1988, \"total_results\": 107116}, {\"year\": 1989, \"total_results\": 107496}, {\"year\": 1990, \"total_results\": 104053}, {\"year\": 1991, \"total_results\": 111099}, {\"year\": 1992, \"total_results\": 110158}, {\"year\": 1993, \"total_results\": 109708}, {\"year\": 1994, \"total_results\": 106086}, {\"year\": 1995, \"total_results\": 106861}, {\"year\": 1996, \"total_results\": 25540}, {\"year\": 1997, \"total_results\": 26458}, {\"year\": 1998, \"total_results\": 32955}, {\"year\": 1999, \"total_results\": 42254}, {\"year\": 2000, \"total_results\": 32249}, {\"year\": 2001, \"total_results\": 31114}, {\"year\": 2002, \"total_results\": 31128}, {\"year\": 2003, \"total_results\": 12888}, {\"year\": 2004, \"total_results\": 10980}, {\"year\": 2005, \"total_results\": 6187}, {\"year\": 2006, \"total_results\": 5553}, {\"year\": 2007, \"total_results\": 5747}, {\"year\": 2008, \"total_results\": 4715}, {\"year\": 2009, \"total_results\": 4227}, {\"year\": 2010, \"total_results\": 4137}, {\"year\": 2011, \"total_results\": 3645}, {\"year\": 2012, \"total_results\": 3322}, {\"year\": 2013, \"total_results\": 3451}, {\"year\": 2014, \"total_results\": 3132}, {\"year\": 2015, \"total_results\": 3223}]}}, {\"mode\": \"vega-lite\"});\n",
       "</script>"
      ],
      "text/plain": [
       "alt.Chart(...)"
      ]
     },
     "execution_count": 12,
     "metadata": {},
     "output_type": "execute_result"
    }
   ],
   "source": [
    "# Convert the results to a dataframe\n",
    "df_total = pd.DataFrame(all_facet_data)\n",
    "\n",
    "# Make a chart \n",
    "alt.Chart(df_total).mark_line(point=True).encode(\n",
    "        # Display the years along the X axis\n",
    "        x=alt.X('year:Q', axis=alt.Axis(format='c', title='Year')),\n",
    "        \n",
    "        # Display the number of results on the Y axis (formatted using thousands separator)\n",
    "        y=alt.Y('total_results:Q', axis=alt.Axis(format=',d', title='Number of articles')),\n",
    "        \n",
    "        # Create a tooltip when you hover over a point to show the data for that year\n",
    "        tooltip=[alt.Tooltip('year:Q', title='Year'), alt.Tooltip('total_results:Q', title='Articles', format=',')]\n",
    "    ).properties(width=700, height=400)"
   ]
  },
  {
   "cell_type": "markdown",
   "metadata": {},
   "source": [
    "This chart shows us the total number of newspaper articles in Trove for each year from 1803 to 2013. As you might expect, there's a steady increase in the number of articles published across the 19th century. But why is there such a notable peak in 1915, and why do the numbers drop away so suddenly in 1955? The answers are explored more fully in [this notebook](visualise-total-newspaper-articles-by-state-year.ipynb), but in short they're a reflection of digitisation priorities and copyright restrictions – they're artefacts of the environment in which Trove's newspapers are digitised.\n",
    "\n",
    "The important point is that our original chart showing search results over time is distorted by these underlying features. Radios didn't suddenly go out of fashion in 1955!"
   ]
  },
  {
   "cell_type": "markdown",
   "metadata": {},
   "source": [
    "## 4. Charting our search results as a proportion of total articles\n",
    "\n",
    "One way of lessening the impact of these distortions is to show the number of search results as a proportion of the total number of articles available on Trove from that year. We've just harvested the total number of articles, so to get the proportion all we have to do is divide the original number of search results for each year by the total number of articles. Again, Pandas makes this sort of manipulation easy.\n",
    "\n",
    "Below we'll define a function that takes two dataframes – the search results, and the total results – merges them, and then calculates what proportion of the total that the search results represent."
   ]
  },
  {
   "cell_type": "code",
   "execution_count": 13,
   "metadata": {},
   "outputs": [],
   "source": [
    "def merge_df_with_total(df, df_total):\n",
    "    '''\n",
    "    Merge dataframes containing search results with the total number of articles by year.\n",
    "    This is a left join on the year column. The total number of articles will be added as a column to \n",
    "    the existing results.\n",
    "    Once merged, do some reorganisation and calculate the proportion of search results.\n",
    "    Parameters:\n",
    "        df - the search results in a dataframe\n",
    "        df_total - total number of articles per year in a dataframe\n",
    "    Returns:\n",
    "        A dataframe with the following columns - 'year', 'total_results', 'total_articles', 'proportion' \n",
    "        (plus any other columns that are in the search results dataframe).\n",
    "    '''\n",
    "    # Merge the two dataframes on year\n",
    "    # Note that we're joining the two dataframes on the year column\n",
    "    df_merged = pd.merge(df, df_total, how='left', on='year')\n",
    "\n",
    "    # Rename the columns for convenience\n",
    "    df_merged.rename({'total_results_y': 'total_articles'}, inplace=True, axis='columns')\n",
    "    df_merged.rename({'total_results_x': 'total_results'}, inplace=True, axis='columns')\n",
    "\n",
    "    # Set blank values to zero to avoid problems\n",
    "    df_merged['total_results'] = df_merged['total_results'].fillna(0).astype(int)\n",
    "\n",
    "    # Calculate proportion by dividing the search results by the total articles\n",
    "    df_merged['proportion'] = df_merged['total_results'] / df_merged['total_articles']\n",
    "    return df_merged"
   ]
  },
  {
   "cell_type": "markdown",
   "metadata": {},
   "source": [
    "Let's merge!"
   ]
  },
  {
   "cell_type": "code",
   "execution_count": 14,
   "metadata": {},
   "outputs": [
    {
     "data": {
      "text/html": [
       "<div>\n",
       "<style scoped>\n",
       "    .dataframe tbody tr th:only-of-type {\n",
       "        vertical-align: middle;\n",
       "    }\n",
       "\n",
       "    .dataframe tbody tr th {\n",
       "        vertical-align: top;\n",
       "    }\n",
       "\n",
       "    .dataframe thead th {\n",
       "        text-align: right;\n",
       "    }\n",
       "</style>\n",
       "<table border=\"1\" class=\"dataframe\">\n",
       "  <thead>\n",
       "    <tr style=\"text-align: right;\">\n",
       "      <th></th>\n",
       "      <th>year</th>\n",
       "      <th>total_results</th>\n",
       "      <th>total_articles</th>\n",
       "      <th>proportion</th>\n",
       "    </tr>\n",
       "  </thead>\n",
       "  <tbody>\n",
       "    <tr>\n",
       "      <th>0</th>\n",
       "      <td>1830</td>\n",
       "      <td>2</td>\n",
       "      <td>8369</td>\n",
       "      <td>0.000239</td>\n",
       "    </tr>\n",
       "    <tr>\n",
       "      <th>1</th>\n",
       "      <td>1832</td>\n",
       "      <td>1</td>\n",
       "      <td>13732</td>\n",
       "      <td>0.000073</td>\n",
       "    </tr>\n",
       "    <tr>\n",
       "      <th>2</th>\n",
       "      <td>1833</td>\n",
       "      <td>1</td>\n",
       "      <td>15438</td>\n",
       "      <td>0.000065</td>\n",
       "    </tr>\n",
       "    <tr>\n",
       "      <th>3</th>\n",
       "      <td>1834</td>\n",
       "      <td>4</td>\n",
       "      <td>18704</td>\n",
       "      <td>0.000214</td>\n",
       "    </tr>\n",
       "    <tr>\n",
       "      <th>4</th>\n",
       "      <td>1835</td>\n",
       "      <td>1</td>\n",
       "      <td>20389</td>\n",
       "      <td>0.000049</td>\n",
       "    </tr>\n",
       "  </tbody>\n",
       "</table>\n",
       "</div>"
      ],
      "text/plain": [
       "   year  total_results  total_articles  proportion\n",
       "0  1830              2            8369    0.000239\n",
       "1  1832              1           13732    0.000073\n",
       "2  1833              1           15438    0.000065\n",
       "3  1834              4           18704    0.000214\n",
       "4  1835              1           20389    0.000049"
      ]
     },
     "execution_count": 14,
     "metadata": {},
     "output_type": "execute_result"
    }
   ],
   "source": [
    "# Merge the search results with the total articles\n",
    "df_merged = merge_df_with_total(df, df_total)\n",
    "df_merged.head()"
   ]
  },
  {
   "cell_type": "markdown",
   "metadata": {},
   "source": [
    "Now we have a new dataframe `df_merged` that includes both the raw number of search results for each year, and the proportion the results represent of the total number of articles on Trove. Let's create charts for both and look at the diferences."
   ]
  },
  {
   "cell_type": "code",
   "execution_count": 15,
   "metadata": {},
   "outputs": [
    {
     "data": {
      "text/html": [
       "\n",
       "<div id=\"altair-viz-1d00a78533944afdb01ff72c76e06497\"></div>\n",
       "<script type=\"text/javascript\">\n",
       "  (function(spec, embedOpt){\n",
       "    let outputDiv = document.currentScript.previousElementSibling;\n",
       "    if (outputDiv.id !== \"altair-viz-1d00a78533944afdb01ff72c76e06497\") {\n",
       "      outputDiv = document.getElementById(\"altair-viz-1d00a78533944afdb01ff72c76e06497\");\n",
       "    }\n",
       "    const paths = {\n",
       "      \"vega\": \"https://cdn.jsdelivr.net/npm//vega@5?noext\",\n",
       "      \"vega-lib\": \"https://cdn.jsdelivr.net/npm//vega-lib?noext\",\n",
       "      \"vega-lite\": \"https://cdn.jsdelivr.net/npm//vega-lite@4.8.1?noext\",\n",
       "      \"vega-embed\": \"https://cdn.jsdelivr.net/npm//vega-embed@6?noext\",\n",
       "    };\n",
       "\n",
       "    function loadScript(lib) {\n",
       "      return new Promise(function(resolve, reject) {\n",
       "        var s = document.createElement('script');\n",
       "        s.src = paths[lib];\n",
       "        s.async = true;\n",
       "        s.onload = () => resolve(paths[lib]);\n",
       "        s.onerror = () => reject(`Error loading script: ${paths[lib]}`);\n",
       "        document.getElementsByTagName(\"head\")[0].appendChild(s);\n",
       "      });\n",
       "    }\n",
       "\n",
       "    function showError(err) {\n",
       "      outputDiv.innerHTML = `<div class=\"error\" style=\"color:red;\">${err}</div>`;\n",
       "      throw err;\n",
       "    }\n",
       "\n",
       "    function displayChart(vegaEmbed) {\n",
       "      vegaEmbed(outputDiv, spec, embedOpt)\n",
       "        .catch(err => showError(`Javascript Error: ${err.message}<br>This usually means there's a typo in your chart specification. See the javascript console for the full traceback.`));\n",
       "    }\n",
       "\n",
       "    if(typeof define === \"function\" && define.amd) {\n",
       "      requirejs.config({paths});\n",
       "      require([\"vega-embed\"], displayChart, err => showError(`Error loading script: ${err.message}`));\n",
       "    } else if (typeof vegaEmbed === \"function\") {\n",
       "      displayChart(vegaEmbed);\n",
       "    } else {\n",
       "      loadScript(\"vega\")\n",
       "        .then(() => loadScript(\"vega-lite\"))\n",
       "        .then(() => loadScript(\"vega-embed\"))\n",
       "        .catch(showError)\n",
       "        .then(() => displayChart(vegaEmbed));\n",
       "    }\n",
       "  })({\"config\": {\"view\": {\"continuousWidth\": 400, \"continuousHeight\": 300}}, \"vconcat\": [{\"data\": {\"name\": \"data-8027965fac8c8d410856dae221c2047d\"}, \"mark\": {\"type\": \"line\", \"point\": true}, \"encoding\": {\"tooltip\": [{\"type\": \"quantitative\", \"field\": \"year\", \"title\": \"Year\"}, {\"type\": \"quantitative\", \"field\": \"total_results\", \"format\": \",\", \"title\": \"Articles\"}], \"x\": {\"type\": \"quantitative\", \"axis\": {\"format\": \"c\", \"title\": \"Year\"}, \"field\": \"year\"}, \"y\": {\"type\": \"quantitative\", \"axis\": {\"format\": \",d\", \"title\": \"Number of articles\"}, \"field\": \"total_results\"}}, \"height\": 250, \"width\": 700}, {\"data\": {\"name\": \"data-ffa84aec12f85e3e9c66c18c93bf26d6\"}, \"mark\": {\"type\": \"line\", \"color\": \"red\", \"point\": true}, \"encoding\": {\"color\": {\"value\": \"orange\"}, \"tooltip\": [{\"type\": \"quantitative\", \"field\": \"year\", \"title\": \"Year\"}, {\"type\": \"quantitative\", \"field\": \"proportion\", \"format\": \"%\", \"title\": \"Proportion\"}], \"x\": {\"type\": \"quantitative\", \"axis\": {\"format\": \"c\", \"title\": \"Year\"}, \"field\": \"year\"}, \"y\": {\"type\": \"quantitative\", \"axis\": {\"format\": \"%\", \"title\": \"Proportion of articles\"}, \"field\": \"proportion\"}}, \"height\": 250, \"width\": 700}], \"$schema\": \"https://vega.github.io/schema/vega-lite/v4.8.1.json\", \"datasets\": {\"data-8027965fac8c8d410856dae221c2047d\": [{\"year\": 1830, \"total_results\": 2}, {\"year\": 1832, \"total_results\": 1}, {\"year\": 1833, \"total_results\": 1}, {\"year\": 1834, \"total_results\": 4}, {\"year\": 1835, \"total_results\": 1}, {\"year\": 1836, \"total_results\": 6}, {\"year\": 1837, \"total_results\": 4}, {\"year\": 1838, \"total_results\": 3}, {\"year\": 1839, \"total_results\": 5}, {\"year\": 1840, \"total_results\": 2}, {\"year\": 1841, \"total_results\": 16}, {\"year\": 1842, \"total_results\": 5}, {\"year\": 1843, \"total_results\": 5}, {\"year\": 1844, \"total_results\": 2}, {\"year\": 1845, \"total_results\": 12}, {\"year\": 1846, \"total_results\": 6}, {\"year\": 1847, \"total_results\": 15}, {\"year\": 1848, \"total_results\": 10}, {\"year\": 1849, \"total_results\": 17}, {\"year\": 1850, \"total_results\": 14}, {\"year\": 1851, \"total_results\": 11}, {\"year\": 1852, \"total_results\": 14}, {\"year\": 1853, \"total_results\": 38}, {\"year\": 1854, \"total_results\": 44}, {\"year\": 1855, \"total_results\": 29}, {\"year\": 1856, \"total_results\": 32}, {\"year\": 1857, \"total_results\": 39}, {\"year\": 1858, \"total_results\": 72}, {\"year\": 1859, \"total_results\": 70}, {\"year\": 1860, \"total_results\": 96}, {\"year\": 1861, \"total_results\": 105}, {\"year\": 1862, \"total_results\": 102}, {\"year\": 1863, \"total_results\": 114}, {\"year\": 1864, \"total_results\": 88}, {\"year\": 1865, \"total_results\": 88}, {\"year\": 1866, \"total_results\": 71}, {\"year\": 1867, \"total_results\": 78}, {\"year\": 1868, \"total_results\": 118}, {\"year\": 1869, \"total_results\": 116}, {\"year\": 1870, \"total_results\": 114}, {\"year\": 1871, \"total_results\": 127}, {\"year\": 1872, \"total_results\": 115}, {\"year\": 1873, \"total_results\": 128}, {\"year\": 1874, \"total_results\": 146}, {\"year\": 1875, \"total_results\": 163}, {\"year\": 1876, \"total_results\": 174}, {\"year\": 1877, \"total_results\": 242}, {\"year\": 1878, \"total_results\": 258}, {\"year\": 1879, \"total_results\": 299}, {\"year\": 1880, \"total_results\": 286}, {\"year\": 1881, \"total_results\": 380}, {\"year\": 1882, \"total_results\": 293}, {\"year\": 1883, \"total_results\": 341}, {\"year\": 1884, \"total_results\": 346}, {\"year\": 1885, \"total_results\": 440}, {\"year\": 1886, \"total_results\": 527}, {\"year\": 1887, \"total_results\": 445}, {\"year\": 1888, \"total_results\": 571}, {\"year\": 1889, \"total_results\": 556}, {\"year\": 1890, \"total_results\": 572}, {\"year\": 1891, \"total_results\": 532}, {\"year\": 1892, \"total_results\": 551}, {\"year\": 1893, \"total_results\": 550}, {\"year\": 1894, \"total_results\": 573}, {\"year\": 1895, \"total_results\": 634}, {\"year\": 1896, \"total_results\": 671}, {\"year\": 1897, \"total_results\": 642}, {\"year\": 1898, \"total_results\": 576}, {\"year\": 1899, \"total_results\": 529}, {\"year\": 1900, \"total_results\": 602}, {\"year\": 1901, \"total_results\": 575}, {\"year\": 1902, \"total_results\": 594}, {\"year\": 1903, \"total_results\": 925}, {\"year\": 1904, \"total_results\": 1419}, {\"year\": 1905, \"total_results\": 1190}, {\"year\": 1906, \"total_results\": 1424}, {\"year\": 1907, \"total_results\": 1090}, {\"year\": 1908, \"total_results\": 1186}, {\"year\": 1909, \"total_results\": 1669}, {\"year\": 1910, \"total_results\": 2184}, {\"year\": 1911, \"total_results\": 2379}, {\"year\": 1912, \"total_results\": 2763}, {\"year\": 1913, \"total_results\": 3368}, {\"year\": 1914, \"total_results\": 4064}, {\"year\": 1915, \"total_results\": 3886}, {\"year\": 1916, \"total_results\": 3321}, {\"year\": 1917, \"total_results\": 3364}, {\"year\": 1918, \"total_results\": 3302}, {\"year\": 1919, \"total_results\": 3659}, {\"year\": 1920, \"total_results\": 5094}, {\"year\": 1921, \"total_results\": 5426}, {\"year\": 1922, \"total_results\": 7441}, {\"year\": 1923, \"total_results\": 11575}, {\"year\": 1924, \"total_results\": 24628}, {\"year\": 1925, \"total_results\": 37796}, {\"year\": 1926, \"total_results\": 42711}, {\"year\": 1927, \"total_results\": 53700}, {\"year\": 1928, \"total_results\": 60651}, {\"year\": 1929, \"total_results\": 60785}, {\"year\": 1930, \"total_results\": 63628}, {\"year\": 1931, \"total_results\": 65111}, {\"year\": 1932, \"total_results\": 71767}, {\"year\": 1933, \"total_results\": 78748}, {\"year\": 1934, \"total_results\": 92623}, {\"year\": 1935, \"total_results\": 100567}, {\"year\": 1936, \"total_results\": 109107}, {\"year\": 1937, \"total_results\": 120609}, {\"year\": 1938, \"total_results\": 131417}, {\"year\": 1939, \"total_results\": 127995}, {\"year\": 1940, \"total_results\": 127062}, {\"year\": 1941, \"total_results\": 133573}, {\"year\": 1942, \"total_results\": 127790}, {\"year\": 1943, \"total_results\": 122849}, {\"year\": 1944, \"total_results\": 115743}, {\"year\": 1945, \"total_results\": 116548}, {\"year\": 1946, \"total_results\": 118287}, {\"year\": 1947, \"total_results\": 124657}, {\"year\": 1948, \"total_results\": 111442}, {\"year\": 1949, \"total_results\": 117770}, {\"year\": 1950, \"total_results\": 119067}, {\"year\": 1951, \"total_results\": 107284}, {\"year\": 1952, \"total_results\": 105600}, {\"year\": 1953, \"total_results\": 118204}, {\"year\": 1954, \"total_results\": 127251}, {\"year\": 1955, \"total_results\": 11717}, {\"year\": 1956, \"total_results\": 9233}, {\"year\": 1957, \"total_results\": 5175}, {\"year\": 1958, \"total_results\": 5655}, {\"year\": 1959, \"total_results\": 5418}, {\"year\": 1960, \"total_results\": 5454}, {\"year\": 1961, \"total_results\": 4853}, {\"year\": 1962, \"total_results\": 4865}, {\"year\": 1963, \"total_results\": 5943}, {\"year\": 1964, \"total_results\": 5337}, {\"year\": 1965, \"total_results\": 5829}, {\"year\": 1966, \"total_results\": 5340}, {\"year\": 1967, \"total_results\": 5196}, {\"year\": 1968, \"total_results\": 5454}, {\"year\": 1969, \"total_results\": 6501}, {\"year\": 1970, \"total_results\": 6769}, {\"year\": 1971, \"total_results\": 6371}, {\"year\": 1972, \"total_results\": 6730}, {\"year\": 1973, \"total_results\": 6114}, {\"year\": 1974, \"total_results\": 5887}, {\"year\": 1975, \"total_results\": 6270}, {\"year\": 1976, \"total_results\": 6784}, {\"year\": 1977, \"total_results\": 6996}, {\"year\": 1978, \"total_results\": 6860}, {\"year\": 1979, \"total_results\": 6999}, {\"year\": 1980, \"total_results\": 6824}, {\"year\": 1981, \"total_results\": 6421}, {\"year\": 1982, \"total_results\": 5225}, {\"year\": 1983, \"total_results\": 5058}, {\"year\": 1984, \"total_results\": 5379}, {\"year\": 1985, \"total_results\": 5282}, {\"year\": 1986, \"total_results\": 5114}, {\"year\": 1987, \"total_results\": 5047}, {\"year\": 1988, \"total_results\": 5503}, {\"year\": 1989, \"total_results\": 4968}, {\"year\": 1990, \"total_results\": 4869}, {\"year\": 1991, \"total_results\": 5248}, {\"year\": 1992, \"total_results\": 4656}, {\"year\": 1993, \"total_results\": 4410}, {\"year\": 1994, \"total_results\": 4082}, {\"year\": 1995, \"total_results\": 4180}, {\"year\": 1996, \"total_results\": 500}, {\"year\": 1997, \"total_results\": 591}, {\"year\": 1998, \"total_results\": 754}, {\"year\": 1999, \"total_results\": 1066}, {\"year\": 2000, \"total_results\": 740}, {\"year\": 2001, \"total_results\": 702}, {\"year\": 2002, \"total_results\": 653}, {\"year\": 2003, \"total_results\": 436}, {\"year\": 2004, \"total_results\": 368}, {\"year\": 2005, \"total_results\": 184}, {\"year\": 2006, \"total_results\": 220}, {\"year\": 2007, \"total_results\": 156}, {\"year\": 2008, \"total_results\": 115}, {\"year\": 2009, \"total_results\": 93}, {\"year\": 2010, \"total_results\": 104}, {\"year\": 2011, \"total_results\": 79}, {\"year\": 2012, \"total_results\": 78}, {\"year\": 2013, \"total_results\": 57}, {\"year\": 2014, \"total_results\": 45}, {\"year\": 2015, \"total_results\": 40}], \"data-ffa84aec12f85e3e9c66c18c93bf26d6\": [{\"year\": 1830, \"total_results\": 2, \"total_articles\": 8369, \"proportion\": 0.0002389771776795316}, {\"year\": 1832, \"total_results\": 1, \"total_articles\": 13732, \"proportion\": 7.282260413632391e-05}, {\"year\": 1833, \"total_results\": 1, \"total_articles\": 15438, \"proportion\": 6.477522995206633e-05}, {\"year\": 1834, \"total_results\": 4, \"total_articles\": 18704, \"proportion\": 0.000213857998289136}, {\"year\": 1835, \"total_results\": 1, \"total_articles\": 20389, \"proportion\": 4.9046054244935994e-05}, {\"year\": 1836, \"total_results\": 6, \"total_articles\": 20553, \"proportion\": 0.00029192818566632606}, {\"year\": 1837, \"total_results\": 4, \"total_articles\": 21697, \"proportion\": 0.00018435728441720052}, {\"year\": 1838, \"total_results\": 3, \"total_articles\": 25191, \"proportion\": 0.00011909015124449208}, {\"year\": 1839, \"total_results\": 5, \"total_articles\": 31159, \"proportion\": 0.00016046728072146088}, {\"year\": 1840, \"total_results\": 2, \"total_articles\": 40450, \"proportion\": 4.9443757725587144e-05}, {\"year\": 1841, \"total_results\": 16, \"total_articles\": 43583, \"proportion\": 0.0003671156184750935}, {\"year\": 1842, \"total_results\": 5, \"total_articles\": 44264, \"proportion\": 0.00011295861196457618}, {\"year\": 1843, \"total_results\": 5, \"total_articles\": 45968, \"proportion\": 0.000108771319178559}, {\"year\": 1844, \"total_results\": 2, \"total_articles\": 51377, \"proportion\": 3.89279249469607e-05}, {\"year\": 1845, \"total_results\": 12, \"total_articles\": 60228, \"proportion\": 0.00019924287706714485}, {\"year\": 1846, \"total_results\": 6, \"total_articles\": 58794, \"proportion\": 0.0001020512297173181}, {\"year\": 1847, \"total_results\": 15, \"total_articles\": 59503, \"proportion\": 0.00025208813001025156}, {\"year\": 1848, \"total_results\": 10, \"total_articles\": 60302, \"proportion\": 0.00016583197903883784}, {\"year\": 1849, \"total_results\": 17, \"total_articles\": 59698, \"proportion\": 0.0002847666588495427}, {\"year\": 1850, \"total_results\": 14, \"total_articles\": 78726, \"proportion\": 0.00017783197418895917}, {\"year\": 1851, \"total_results\": 11, \"total_articles\": 93422, \"proportion\": 0.00011774528483654814}, {\"year\": 1852, \"total_results\": 14, \"total_articles\": 77328, \"proportion\": 0.00018104696875646597}, {\"year\": 1853, \"total_results\": 38, \"total_articles\": 89716, \"proportion\": 0.000423558785500914}, {\"year\": 1854, \"total_results\": 44, \"total_articles\": 111809, \"proportion\": 0.00039352824906760636}, {\"year\": 1855, \"total_results\": 29, \"total_articles\": 152862, \"proportion\": 0.00018971359788567466}, {\"year\": 1856, \"total_results\": 32, \"total_articles\": 165260, \"proportion\": 0.00019363427326636815}, {\"year\": 1857, \"total_results\": 39, \"total_articles\": 167962, \"proportion\": 0.00023219537752586895}, {\"year\": 1858, \"total_results\": 72, \"total_articles\": 170506, \"proportion\": 0.0004222725299989443}, {\"year\": 1859, \"total_results\": 70, \"total_articles\": 192157, \"proportion\": 0.00036428545408181853}, {\"year\": 1860, \"total_results\": 96, \"total_articles\": 203666, \"proportion\": 0.0004713599717184017}, {\"year\": 1861, \"total_results\": 105, \"total_articles\": 222964, \"proportion\": 0.0004709280421951526}, {\"year\": 1862, \"total_results\": 102, \"total_articles\": 231360, \"proportion\": 0.0004408713692946058}, {\"year\": 1863, \"total_results\": 114, \"total_articles\": 236359, \"proportion\": 0.00048231715314415785}, {\"year\": 1864, \"total_results\": 88, \"total_articles\": 250078, \"proportion\": 0.00035189021025440063}, {\"year\": 1865, \"total_results\": 88, \"total_articles\": 270535, \"proportion\": 0.00032528138688154955}, {\"year\": 1866, \"total_results\": 71, \"total_articles\": 286531, \"proportion\": 0.0002477916874613916}, {\"year\": 1867, \"total_results\": 78, \"total_articles\": 294045, \"proportion\": 0.00026526552058358415}, {\"year\": 1868, \"total_results\": 118, \"total_articles\": 301851, \"proportion\": 0.00039092134861239483}, {\"year\": 1869, \"total_results\": 116, \"total_articles\": 323274, \"proportion\": 0.00035882873352017174}, {\"year\": 1870, \"total_results\": 114, \"total_articles\": 368748, \"proportion\": 0.00030915421914152753}, {\"year\": 1871, \"total_results\": 127, \"total_articles\": 356420, \"proportion\": 0.00035632119409685203}, {\"year\": 1872, \"total_results\": 115, \"total_articles\": 379281, \"proportion\": 0.0003032052752444757}, {\"year\": 1873, \"total_results\": 128, \"total_articles\": 418488, \"proportion\": 0.000305863011603678}, {\"year\": 1874, \"total_results\": 146, \"total_articles\": 433570, \"proportion\": 0.0003367391655326706}, {\"year\": 1875, \"total_results\": 163, \"total_articles\": 461964, \"proportion\": 0.00035284134694478356}, {\"year\": 1876, \"total_results\": 174, \"total_articles\": 474589, \"proportion\": 0.0003666330235214048}, {\"year\": 1877, \"total_results\": 242, \"total_articles\": 496062, \"proportion\": 0.0004878422455257609}, {\"year\": 1878, \"total_results\": 258, \"total_articles\": 567221, \"proportion\": 0.00045484916813728687}, {\"year\": 1879, \"total_results\": 299, \"total_articles\": 605369, \"proportion\": 0.0004939136295383477}, {\"year\": 1880, \"total_results\": 286, \"total_articles\": 620926, \"proportion\": 0.00046060239062303723}, {\"year\": 1881, \"total_results\": 380, \"total_articles\": 663699, \"proportion\": 0.0005725487005404558}, {\"year\": 1882, \"total_results\": 293, \"total_articles\": 743779, \"proportion\": 0.00039393421970773576}, {\"year\": 1883, \"total_results\": 341, \"total_articles\": 766454, \"proportion\": 0.00044490602175733965}, {\"year\": 1884, \"total_results\": 346, \"total_articles\": 852461, \"proportion\": 0.00040588367092453495}, {\"year\": 1885, \"total_results\": 440, \"total_articles\": 908355, \"proportion\": 0.00048439211541743043}, {\"year\": 1886, \"total_results\": 527, \"total_articles\": 992953, \"proportion\": 0.0005307401256655652}, {\"year\": 1887, \"total_results\": 445, \"total_articles\": 1041600, \"proportion\": 0.0004272273425499232}, {\"year\": 1888, \"total_results\": 571, \"total_articles\": 1156393, \"proportion\": 0.0004937767696622169}, {\"year\": 1889, \"total_results\": 556, \"total_articles\": 1241746, \"proportion\": 0.0004477566265564777}, {\"year\": 1890, \"total_results\": 572, \"total_articles\": 1348543, \"proportion\": 0.00042416148391263755}, {\"year\": 1891, \"total_results\": 532, \"total_articles\": 1419001, \"proportion\": 0.00037491164558728287}, {\"year\": 1892, \"total_results\": 551, \"total_articles\": 1473222, \"proportion\": 0.0003740101627589053}, {\"year\": 1893, \"total_results\": 550, \"total_articles\": 1493950, \"proportion\": 0.00036815154456307106}, {\"year\": 1894, \"total_results\": 573, \"total_articles\": 1537245, \"proportion\": 0.00037274474790940937}, {\"year\": 1895, \"total_results\": 634, \"total_articles\": 1655640, \"proportion\": 0.00038293348795631903}, {\"year\": 1896, \"total_results\": 671, \"total_articles\": 1759780, \"proportion\": 0.000381297662207776}, {\"year\": 1897, \"total_results\": 642, \"total_articles\": 1878259, \"proportion\": 0.00034180589577901665}, {\"year\": 1898, \"total_results\": 576, \"total_articles\": 2101016, \"proportion\": 0.00027415307641636235}, {\"year\": 1899, \"total_results\": 529, \"total_articles\": 2270158, \"proportion\": 0.00023302342832525312}, {\"year\": 1900, \"total_results\": 602, \"total_articles\": 2502505, \"proportion\": 0.000240558959922158}, {\"year\": 1901, \"total_results\": 575, \"total_articles\": 2576632, \"proportion\": 0.00022315953539349043}, {\"year\": 1902, \"total_results\": 594, \"total_articles\": 2635471, \"proportion\": 0.000225386657641082}, {\"year\": 1903, \"total_results\": 925, \"total_articles\": 2679197, \"proportion\": 0.0003452527007159235}, {\"year\": 1904, \"total_results\": 1419, \"total_articles\": 2851878, \"proportion\": 0.0004975668664648347}, {\"year\": 1905, \"total_results\": 1190, \"total_articles\": 2981209, \"proportion\": 0.00039916691516763835}, {\"year\": 1906, \"total_results\": 1424, \"total_articles\": 3027361, \"proportion\": 0.0004703766746020709}, {\"year\": 1907, \"total_results\": 1090, \"total_articles\": 3182813, \"proportion\": 0.0003424643546447749}, {\"year\": 1908, \"total_results\": 1186, \"total_articles\": 3283574, \"proportion\": 0.0003611917989361592}, {\"year\": 1909, \"total_results\": 1669, \"total_articles\": 3348174, \"proportion\": 0.0004984806643860205}, {\"year\": 1910, \"total_results\": 2184, \"total_articles\": 3585173, \"proportion\": 0.000609175624160954}, {\"year\": 1911, \"total_results\": 2379, \"total_articles\": 3713930, \"proportion\": 0.0006405613460673734}, {\"year\": 1912, \"total_results\": 2763, \"total_articles\": 3868683, \"proportion\": 0.0007141965366508447}, {\"year\": 1913, \"total_results\": 3368, \"total_articles\": 3935079, \"proportion\": 0.0008558913302630011}, {\"year\": 1914, \"total_results\": 4064, \"total_articles\": 4631430, \"proportion\": 0.0008774827645025402}, {\"year\": 1915, \"total_results\": 3886, \"total_articles\": 4731925, \"proportion\": 0.0008212302604119888}, {\"year\": 1916, \"total_results\": 3321, \"total_articles\": 4327007, \"proportion\": 0.0007675051138119258}, {\"year\": 1917, \"total_results\": 3364, \"total_articles\": 4219898, \"proportion\": 0.0007971756663312715}, {\"year\": 1918, \"total_results\": 3302, \"total_articles\": 3996936, \"proportion\": 0.0008261328177383876}, {\"year\": 1919, \"total_results\": 3659, \"total_articles\": 3453197, \"proportion\": 0.0010595978161686112}, {\"year\": 1920, \"total_results\": 5094, \"total_articles\": 3202012, \"proportion\": 0.0015908747375087914}, {\"year\": 1921, \"total_results\": 5426, \"total_articles\": 3387474, \"proportion\": 0.0016017835118439286}, {\"year\": 1922, \"total_results\": 7441, \"total_articles\": 3507102, \"proportion\": 0.002121694778195787}, {\"year\": 1923, \"total_results\": 11575, \"total_articles\": 3777858, \"proportion\": 0.003063905525300316}, {\"year\": 1924, \"total_results\": 24628, \"total_articles\": 4063598, \"proportion\": 0.006060638872250651}, {\"year\": 1925, \"total_results\": 37796, \"total_articles\": 4025384, \"proportion\": 0.00938941477384518}, {\"year\": 1926, \"total_results\": 42711, \"total_articles\": 4007278, \"proportion\": 0.010658357119221576}, {\"year\": 1927, \"total_results\": 53700, \"total_articles\": 4040350, \"proportion\": 0.013290927766158872}, {\"year\": 1928, \"total_results\": 60651, \"total_articles\": 4120958, \"proportion\": 0.014717694283707818}, {\"year\": 1929, \"total_results\": 60785, \"total_articles\": 4346183, \"proportion\": 0.01398583538705112}, {\"year\": 1930, \"total_results\": 63628, \"total_articles\": 4194819, \"proportion\": 0.015168234910731548}, {\"year\": 1931, \"total_results\": 65111, \"total_articles\": 3825141, \"proportion\": 0.017021856187784973}, {\"year\": 1932, \"total_results\": 71767, \"total_articles\": 3804137, \"proportion\": 0.01886551404431544}, {\"year\": 1933, \"total_results\": 78748, \"total_articles\": 3978777, \"proportion\": 0.01979201146482952}, {\"year\": 1934, \"total_results\": 92623, \"total_articles\": 4075716, \"proportion\": 0.022725577542694338}, {\"year\": 1935, \"total_results\": 100567, \"total_articles\": 4157594, \"proportion\": 0.024188749550821943}, {\"year\": 1936, \"total_results\": 109107, \"total_articles\": 4246634, \"proportion\": 0.025692583820503486}, {\"year\": 1937, \"total_results\": 120609, \"total_articles\": 4229023, \"proportion\": 0.02851935305152041}, {\"year\": 1938, \"total_results\": 131417, \"total_articles\": 4225814, \"proportion\": 0.031098623839099403}, {\"year\": 1939, \"total_results\": 127995, \"total_articles\": 3994424, \"proportion\": 0.032043418525424444}, {\"year\": 1940, \"total_results\": 127062, \"total_articles\": 3392990, \"proportion\": 0.037448386231612826}, {\"year\": 1941, \"total_results\": 133573, \"total_articles\": 2987500, \"proportion\": 0.04471062761506276}, {\"year\": 1942, \"total_results\": 127790, \"total_articles\": 2389391, \"proportion\": 0.053482247150006004}, {\"year\": 1943, \"total_results\": 122849, \"total_articles\": 2103261, \"proportion\": 0.058408823251132405}, {\"year\": 1944, \"total_results\": 115743, \"total_articles\": 2152455, \"proportion\": 0.05377255273629414}, {\"year\": 1945, \"total_results\": 116548, \"total_articles\": 2337141, \"proportion\": 0.049867765787344455}, {\"year\": 1946, \"total_results\": 118287, \"total_articles\": 2625887, \"proportion\": 0.045046492861269355}, {\"year\": 1947, \"total_results\": 124657, \"total_articles\": 2716737, \"proportion\": 0.04588482433154185}, {\"year\": 1948, \"total_results\": 111442, \"total_articles\": 2465735, \"proportion\": 0.0451962599387201}, {\"year\": 1949, \"total_results\": 117770, \"total_articles\": 2720488, \"proportion\": 0.04329002737744111}, {\"year\": 1950, \"total_results\": 119067, \"total_articles\": 2740028, \"proportion\": 0.04345466542677666}, {\"year\": 1951, \"total_results\": 107284, \"total_articles\": 2511109, \"proportion\": 0.04272375273235849}, {\"year\": 1952, \"total_results\": 105600, \"total_articles\": 2554216, \"proportion\": 0.0413434102675733}, {\"year\": 1953, \"total_results\": 118204, \"total_articles\": 2691009, \"proportion\": 0.043925531278416384}, {\"year\": 1954, \"total_results\": 127251, \"total_articles\": 2702881, \"proportion\": 0.04707976414795916}, {\"year\": 1955, \"total_results\": 11717, \"total_articles\": 252963, \"proportion\": 0.04631902689326107}, {\"year\": 1956, \"total_results\": 9233, \"total_articles\": 176649, \"proportion\": 0.0522674909000334}, {\"year\": 1957, \"total_results\": 5175, \"total_articles\": 102977, \"proportion\": 0.050253940200238885}, {\"year\": 1958, \"total_results\": 5655, \"total_articles\": 103319, \"proportion\": 0.05473339850366341}, {\"year\": 1959, \"total_results\": 5418, \"total_articles\": 99010, \"proportion\": 0.05472174527825472}, {\"year\": 1960, \"total_results\": 5454, \"total_articles\": 93273, \"proportion\": 0.05847351323534142}, {\"year\": 1961, \"total_results\": 4853, \"total_articles\": 88200, \"proportion\": 0.05502267573696145}, {\"year\": 1962, \"total_results\": 4865, \"total_articles\": 87318, \"proportion\": 0.05571588904922238}, {\"year\": 1963, \"total_results\": 5943, \"total_articles\": 96229, \"proportion\": 0.06175892922092093}, {\"year\": 1964, \"total_results\": 5337, \"total_articles\": 96814, \"proportion\": 0.05512632470510463}, {\"year\": 1965, \"total_results\": 5829, \"total_articles\": 101122, \"proportion\": 0.05764324281560887}, {\"year\": 1966, \"total_results\": 5340, \"total_articles\": 98928, \"proportion\": 0.05397865114022319}, {\"year\": 1967, \"total_results\": 5196, \"total_articles\": 97474, \"proportion\": 0.053306522765045036}, {\"year\": 1968, \"total_results\": 5454, \"total_articles\": 100507, \"proportion\": 0.05426487707323868}, {\"year\": 1969, \"total_results\": 6501, \"total_articles\": 121108, \"proportion\": 0.05367936057073026}, {\"year\": 1970, \"total_results\": 6769, \"total_articles\": 138406, \"proportion\": 0.04890683929887433}, {\"year\": 1971, \"total_results\": 6371, \"total_articles\": 136162, \"proportion\": 0.04678985326302493}, {\"year\": 1972, \"total_results\": 6730, \"total_articles\": 132241, \"proportion\": 0.050891932154173064}, {\"year\": 1973, \"total_results\": 6114, \"total_articles\": 133033, \"proportion\": 0.045958521569836056}, {\"year\": 1974, \"total_results\": 5887, \"total_articles\": 131271, \"proportion\": 0.04484615794806164}, {\"year\": 1975, \"total_results\": 6270, \"total_articles\": 125005, \"proportion\": 0.05015799368025279}, {\"year\": 1976, \"total_results\": 6784, \"total_articles\": 126193, \"proportion\": 0.05375892482150357}, {\"year\": 1977, \"total_results\": 6996, \"total_articles\": 128804, \"proportion\": 0.05431508338250365}, {\"year\": 1978, \"total_results\": 6860, \"total_articles\": 133155, \"proportion\": 0.0515189065374939}, {\"year\": 1979, \"total_results\": 6999, \"total_articles\": 137809, \"proportion\": 0.05078768440377624}, {\"year\": 1980, \"total_results\": 6824, \"total_articles\": 135609, \"proportion\": 0.05032114387688133}, {\"year\": 1981, \"total_results\": 6421, \"total_articles\": 114802, \"proportion\": 0.05593108134004634}, {\"year\": 1982, \"total_results\": 5225, \"total_articles\": 102033, \"proportion\": 0.05120892260347142}, {\"year\": 1983, \"total_results\": 5058, \"total_articles\": 87590, \"proportion\": 0.057746318072839364}, {\"year\": 1984, \"total_results\": 5379, \"total_articles\": 92214, \"proportion\": 0.05833170668228252}, {\"year\": 1985, \"total_results\": 5282, \"total_articles\": 98601, \"proportion\": 0.05356943641545218}, {\"year\": 1986, \"total_results\": 5114, \"total_articles\": 96748, \"proportion\": 0.05285897382891636}, {\"year\": 1987, \"total_results\": 5047, \"total_articles\": 96387, \"proportion\": 0.05236183302727546}, {\"year\": 1988, \"total_results\": 5503, \"total_articles\": 107116, \"proportion\": 0.05137421113559132}, {\"year\": 1989, \"total_results\": 4968, \"total_articles\": 107496, \"proportion\": 0.046215673141326186}, {\"year\": 1990, \"total_results\": 4869, \"total_articles\": 104053, \"proportion\": 0.04679346102467012}, {\"year\": 1991, \"total_results\": 5248, \"total_articles\": 111099, \"proportion\": 0.047237148849224565}, {\"year\": 1992, \"total_results\": 4656, \"total_articles\": 110158, \"proportion\": 0.042266562573757695}, {\"year\": 1993, \"total_results\": 4410, \"total_articles\": 109708, \"proportion\": 0.04019761548838736}, {\"year\": 1994, \"total_results\": 4082, \"total_articles\": 106086, \"proportion\": 0.03847821578719152}, {\"year\": 1995, \"total_results\": 4180, \"total_articles\": 106861, \"proportion\": 0.0391162351091605}, {\"year\": 1996, \"total_results\": 500, \"total_articles\": 25540, \"proportion\": 0.01957713390759593}, {\"year\": 1997, \"total_results\": 591, \"total_articles\": 26458, \"proportion\": 0.02233728928868395}, {\"year\": 1998, \"total_results\": 754, \"total_articles\": 32955, \"proportion\": 0.022879684418145956}, {\"year\": 1999, \"total_results\": 1066, \"total_articles\": 42254, \"proportion\": 0.025228380745018222}, {\"year\": 2000, \"total_results\": 740, \"total_articles\": 32249, \"proportion\": 0.022946447951874477}, {\"year\": 2001, \"total_results\": 702, \"total_articles\": 31114, \"proportion\": 0.02256219065372501}, {\"year\": 2002, \"total_results\": 653, \"total_articles\": 31128, \"proportion\": 0.020977897712670265}, {\"year\": 2003, \"total_results\": 436, \"total_articles\": 12888, \"proportion\": 0.03382991930477964}, {\"year\": 2004, \"total_results\": 368, \"total_articles\": 10980, \"proportion\": 0.03351548269581057}, {\"year\": 2005, \"total_results\": 184, \"total_articles\": 6187, \"proportion\": 0.02973977695167286}, {\"year\": 2006, \"total_results\": 220, \"total_articles\": 5553, \"proportion\": 0.03961822438321628}, {\"year\": 2007, \"total_results\": 156, \"total_articles\": 5747, \"proportion\": 0.027144597181137986}, {\"year\": 2008, \"total_results\": 115, \"total_articles\": 4715, \"proportion\": 0.024390243902439025}, {\"year\": 2009, \"total_results\": 93, \"total_articles\": 4227, \"proportion\": 0.0220014194464159}, {\"year\": 2010, \"total_results\": 104, \"total_articles\": 4137, \"proportion\": 0.025138989605994682}, {\"year\": 2011, \"total_results\": 79, \"total_articles\": 3645, \"proportion\": 0.02167352537722908}, {\"year\": 2012, \"total_results\": 78, \"total_articles\": 3322, \"proportion\": 0.023479831426851294}, {\"year\": 2013, \"total_results\": 57, \"total_articles\": 3451, \"proportion\": 0.0165169516082295}, {\"year\": 2014, \"total_results\": 45, \"total_articles\": 3132, \"proportion\": 0.014367816091954023}, {\"year\": 2015, \"total_results\": 40, \"total_articles\": 3223, \"proportion\": 0.012410797393732548}]}}, {\"mode\": \"vega-lite\"});\n",
       "</script>"
      ],
      "text/plain": [
       "alt.VConcatChart(...)"
      ]
     },
     "execution_count": 15,
     "metadata": {},
     "output_type": "execute_result"
    }
   ],
   "source": [
    "# This is the chart showing raw results -- it's the same as the one we created above (but a bit smaller)\n",
    "chart1 = alt.Chart(df).mark_line(point=True).encode(\n",
    "        x=alt.X('year:Q', axis=alt.Axis(format='c', title='Year')),\n",
    "        y=alt.Y('total_results:Q', axis=alt.Axis(format=',d', title='Number of articles')),\n",
    "        tooltip=[alt.Tooltip('year:Q', title='Year'), alt.Tooltip('total_results:Q', title='Articles', format=',')]\n",
    "    ).properties(width=700, height=250)\n",
    "\n",
    "# This is the new view, note that it's using the 'proportion' column for the Y axis\n",
    "chart2 = alt.Chart(df_merged).mark_line(point=True, color='red').encode(\n",
    "        x=alt.X('year:Q', axis=alt.Axis(format='c', title='Year')),\n",
    "    \n",
    "        # This time we're showing the proportion (formatted as a percentage) on the Y axis\n",
    "        y=alt.Y('proportion:Q', axis=alt.Axis(format='%', title='Proportion of articles')),\n",
    "        tooltip=[alt.Tooltip('year:Q', title='Year'), alt.Tooltip('proportion:Q', title='Proportion', format='%')],\n",
    "        \n",
    "        # Make the charts different colors\n",
    "        color=alt.value('orange')\n",
    "    ).properties(width=700, height=250)\n",
    "\n",
    "# This is a shorthand way of stacking the charts on top of each other\n",
    "chart1 & chart2"
   ]
  },
  {
   "cell_type": "markdown",
   "metadata": {},
   "source": [
    "The overall shape of the two charts is similar, but there are some significant differences. Both show a dramatic increase after 1920, but the initial peaks are in different positions. The sudden drop-off after 1954 has gone, and we even have a new peak in 1963. Why 1963? The value of these sorts of visualisations is in the questions they prompt, rather than any claim to 'accuracy'. How meaningful are the post-1954 results? If we [break down the numbers by state](visualise-total-newspaper-articles-by-state-year.ipynb), we see that the post-1954 results are mostly from the ACT. It is a small, narrowly-focused sample. Reading these two charts in combination reminds us that the structure and content of a large corpus like Trove is not natural. While viewing the number of results over time can alert us to historical shifts, we have to be prepared to ask questions about how those results are generated, and what they represent."
   ]
  },
  {
   "cell_type": "markdown",
   "metadata": {},
   "source": [
    "## 5. Comparing multiple search terms over time\n",
    "\n",
    "Another way of working around inconsistencies in the newspaper corpus is to *compare* search queries. While the total numbers could be misleading, the comparative numbers might still show us interesting shifts in usage or meaning. Once again, this is not something we can do through the web interface, but all we need to achieve this using the API is a few minor adjustments to our code.\n",
    "\n",
    "Instead of a single search query, this time we'll define a list of search queries. You can include as many queries as you want and, once again, the queries can be anything you'd type in the Trove search box."
   ]
  },
  {
   "cell_type": "code",
   "execution_count": 16,
   "metadata": {},
   "outputs": [],
   "source": [
    "# Create a list of queries\n",
    "queries = [\n",
    "    'telegraph',\n",
    "    'radio',\n",
    "    'wireless'\n",
    "]"
   ]
  },
  {
   "cell_type": "markdown",
   "metadata": {},
   "source": [
    "Now we'll define a new function that loops through each of the search terms, retrieving the facet data for each, and combining it all into a single dataframe."
   ]
  },
  {
   "cell_type": "code",
   "execution_count": 17,
   "metadata": {},
   "outputs": [],
   "source": [
    "def get_search_facets(params, queries):\n",
    "    '''\n",
    "    Process a list of search queries, gathering the facet data for each and combining the results into a single dataframe.\n",
    "    \n",
    "    Parameters:\n",
    "        params - basic parameters to send to the API\n",
    "        queries - a list of search queries\n",
    "    Returns:\n",
    "        A dataframe\n",
    "    '''\n",
    "    # This is where we'll store the invididual dataframes\n",
    "    dfs = []\n",
    "    \n",
    "    # Make a copy of the basic parameters\n",
    "    these_params = params.copy()\n",
    "    \n",
    "    # Loop through the list of queries\n",
    "    for q in queries:\n",
    "        \n",
    "        # Set the 'q' parameter to the current search query\n",
    "        these_params['q'] = q\n",
    "        \n",
    "        # Get all the facet data for this search\n",
    "        facet_data = get_facet_data(these_params)\n",
    "        \n",
    "        # Convert the facet data into a dataframe\n",
    "        df = pd.DataFrame(facet_data)\n",
    "        \n",
    "        # Add a column with the search query -- this will enable us to distinguish between the results in the combined dataframe.\n",
    "        df['query'] = q\n",
    "        \n",
    "        # Add this df to our list\n",
    "        dfs.append(df)\n",
    "        \n",
    "    # Combine the dfs into one df using concat and return the result\n",
    "    return pd.concat(dfs)"
   ]
  },
  {
   "cell_type": "markdown",
   "metadata": {},
   "source": [
    "Now we're ready to harvest some data!"
   ]
  },
  {
   "cell_type": "code",
   "execution_count": 18,
   "metadata": {},
   "outputs": [],
   "source": [
    "df_queries = get_search_facets(params, queries)"
   ]
  },
  {
   "cell_type": "markdown",
   "metadata": {},
   "source": [
    "Once again, it would be useful to have the number of search results as a proportion of the total articles, so let's use our merge function again to add the proportions."
   ]
  },
  {
   "cell_type": "code",
   "execution_count": 19,
   "metadata": {},
   "outputs": [],
   "source": [
    "df_queries_merged = merge_df_with_total(df_queries, df_total)"
   ]
  },
  {
   "cell_type": "markdown",
   "metadata": {},
   "source": [
    "As we're repeating the same sorts of charts with different data, we might as well save ourselves some effort by creating a couple of reusable charting functions. One shows the raw numbers, and the other shows the proportions."
   ]
  },
  {
   "cell_type": "code",
   "execution_count": 20,
   "metadata": {},
   "outputs": [],
   "source": [
    "def make_chart_totals(df, category, category_title):\n",
    "    '''\n",
    "    Make a chart showing the raw number of search results over time.\n",
    "    Creates different coloured lines for each query or category.\n",
    "    Parameters:\n",
    "        df - a dataframe\n",
    "        category - the column containing the value that distinguishes multiple results set (eg 'query' or 'state')\n",
    "        category_title - a nicely formatted title for the category to appear above the legend\n",
    "    '''\n",
    "    chart = alt.Chart(df).mark_line(point=True).encode(\n",
    "        \n",
    "        # Show the year on the X axis\n",
    "        x=alt.X('year:Q', axis=alt.Axis(format='c', title='Year')),\n",
    "        \n",
    "        # Show the total number of articles on the Y axis (with thousands separator)\n",
    "        y=alt.Y('total_results:Q', axis=alt.Axis(format=',d', title='Number of articles')),\n",
    "        \n",
    "        # Display query/category, year, and number of results on hover\n",
    "        tooltip=[alt.Tooltip('{}:N'.format(category), title=category_title), alt.Tooltip('year:Q', title='Year'), alt.Tooltip('total_results:Q', title='Articles', format=',')],\n",
    "        \n",
    "        # In these charts were comparing results, so we're using color to distinguish between queries/categories\n",
    "        color=alt.Color('{}:N'.format(category), legend=alt.Legend(title=category_title))\n",
    "    ).properties(width=700, height=250)\n",
    "    return chart\n",
    "\n",
    "\n",
    "def make_chart_proportions(df, category, category_title):\n",
    "    '''\n",
    "    Make a chart showing the proportion of search results over time.\n",
    "    Creates different coloured lines for each query or category.\n",
    "    Parameters:\n",
    "        df - a dataframe\n",
    "        category - the column containing the value that distinguishes multiple results set (eg 'query' or 'state')\n",
    "        category_title - a nicely formatted title for the category to appear above the legend\n",
    "    '''\n",
    "    chart = alt.Chart(df).mark_line(point=True).encode(\n",
    "        # Show the year on the X axis\n",
    "        x=alt.X('year:Q', axis=alt.Axis(format='c', title='Year')),\n",
    "        \n",
    "        # Show the proportion of articles on the Y axis (formatted as percentage)\n",
    "        y=alt.Y('proportion:Q', axis=alt.Axis(format='%', title='Proportion of articles'), stack=None),\n",
    "        \n",
    "        # Display query/category, year, and proportion of results on hover\n",
    "        tooltip=[alt.Tooltip('{}:N'.format(category), title=category_title), alt.Tooltip('year:Q', title='Year'), alt.Tooltip('proportion:Q', title='Proportion', format='%')],\n",
    "        \n",
    "        # In these charts were comparing results, so we're using color to distinguish between queries/categories\n",
    "        color=alt.Color('{}:N'.format(category), legend=alt.Legend(title=category_title))\n",
    "    ).properties(width=700, height=250)\n",
    "    return chart"
   ]
  },
  {
   "cell_type": "markdown",
   "metadata": {},
   "source": [
    "Let's use the new functions to create charts for our queries."
   ]
  },
  {
   "cell_type": "code",
   "execution_count": 21,
   "metadata": {},
   "outputs": [
    {
     "data": {
      "text/html": [
       "\n",
       "<div id=\"altair-viz-4852c5066489471e9620d239dcf3fe0c\"></div>\n",
       "<script type=\"text/javascript\">\n",
       "  (function(spec, embedOpt){\n",
       "    let outputDiv = document.currentScript.previousElementSibling;\n",
       "    if (outputDiv.id !== \"altair-viz-4852c5066489471e9620d239dcf3fe0c\") {\n",
       "      outputDiv = document.getElementById(\"altair-viz-4852c5066489471e9620d239dcf3fe0c\");\n",
       "    }\n",
       "    const paths = {\n",
       "      \"vega\": \"https://cdn.jsdelivr.net/npm//vega@5?noext\",\n",
       "      \"vega-lib\": \"https://cdn.jsdelivr.net/npm//vega-lib?noext\",\n",
       "      \"vega-lite\": \"https://cdn.jsdelivr.net/npm//vega-lite@4.8.1?noext\",\n",
       "      \"vega-embed\": \"https://cdn.jsdelivr.net/npm//vega-embed@6?noext\",\n",
       "    };\n",
       "\n",
       "    function loadScript(lib) {\n",
       "      return new Promise(function(resolve, reject) {\n",
       "        var s = document.createElement('script');\n",
       "        s.src = paths[lib];\n",
       "        s.async = true;\n",
       "        s.onload = () => resolve(paths[lib]);\n",
       "        s.onerror = () => reject(`Error loading script: ${paths[lib]}`);\n",
       "        document.getElementsByTagName(\"head\")[0].appendChild(s);\n",
       "      });\n",
       "    }\n",
       "\n",
       "    function showError(err) {\n",
       "      outputDiv.innerHTML = `<div class=\"error\" style=\"color:red;\">${err}</div>`;\n",
       "      throw err;\n",
       "    }\n",
       "\n",
       "    function displayChart(vegaEmbed) {\n",
       "      vegaEmbed(outputDiv, spec, embedOpt)\n",
       "        .catch(err => showError(`Javascript Error: ${err.message}<br>This usually means there's a typo in your chart specification. See the javascript console for the full traceback.`));\n",
       "    }\n",
       "\n",
       "    if(typeof define === \"function\" && define.amd) {\n",
       "      requirejs.config({paths});\n",
       "      require([\"vega-embed\"], displayChart, err => showError(`Error loading script: ${err.message}`));\n",
       "    } else if (typeof vegaEmbed === \"function\") {\n",
       "      displayChart(vegaEmbed);\n",
       "    } else {\n",
       "      loadScript(\"vega\")\n",
       "        .then(() => loadScript(\"vega-lite\"))\n",
       "        .then(() => loadScript(\"vega-embed\"))\n",
       "        .catch(showError)\n",
       "        .then(() => displayChart(vegaEmbed));\n",
       "    }\n",
       "  })({\"config\": {\"view\": {\"continuousWidth\": 400, \"continuousHeight\": 300}}, \"vconcat\": [{\"mark\": {\"type\": \"line\", \"point\": true}, \"encoding\": {\"color\": {\"type\": \"nominal\", \"field\": \"query\", \"legend\": {\"title\": \"Search query\"}}, \"tooltip\": [{\"type\": \"nominal\", \"field\": \"query\", \"title\": \"Search query\"}, {\"type\": \"quantitative\", \"field\": \"year\", \"title\": \"Year\"}, {\"type\": \"quantitative\", \"field\": \"total_results\", \"format\": \",\", \"title\": \"Articles\"}], \"x\": {\"type\": \"quantitative\", \"axis\": {\"format\": \"c\", \"title\": \"Year\"}, \"field\": \"year\"}, \"y\": {\"type\": \"quantitative\", \"axis\": {\"format\": \",d\", \"title\": \"Number of articles\"}, \"field\": \"total_results\"}}, \"height\": 250, \"width\": 700}, {\"mark\": {\"type\": \"line\", \"point\": true}, \"encoding\": {\"color\": {\"type\": \"nominal\", \"field\": \"query\", \"legend\": {\"title\": \"Search query\"}}, \"tooltip\": [{\"type\": \"nominal\", \"field\": \"query\", \"title\": \"Search query\"}, {\"type\": \"quantitative\", \"field\": \"year\", \"title\": \"Year\"}, {\"type\": \"quantitative\", \"field\": \"proportion\", \"format\": \"%\", \"title\": \"Proportion\"}], \"x\": {\"type\": \"quantitative\", \"axis\": {\"format\": \"c\", \"title\": \"Year\"}, \"field\": \"year\"}, \"y\": {\"type\": \"quantitative\", \"axis\": {\"format\": \"%\", \"title\": \"Proportion of articles\"}, \"field\": \"proportion\", \"stack\": null}}, \"height\": 250, \"width\": 700}], \"data\": {\"name\": \"data-3d7ffec055f7915fd5137e67a8f51244\"}, \"$schema\": \"https://vega.github.io/schema/vega-lite/v4.8.1.json\", \"datasets\": {\"data-3d7ffec055f7915fd5137e67a8f51244\": [{\"year\": 1806, \"total_results\": 2, \"query\": \"telegraph\", \"total_articles\": 367, \"proportion\": 0.005449591280653951}, {\"year\": 1809, \"total_results\": 1, \"query\": \"telegraph\", \"total_articles\": 237, \"proportion\": 0.004219409282700422}, {\"year\": 1810, \"total_results\": 1, \"query\": \"telegraph\", \"total_articles\": 274, \"proportion\": 0.0036496350364963502}, {\"year\": 1811, \"total_results\": 1, \"query\": \"telegraph\", \"total_articles\": 228, \"proportion\": 0.0043859649122807015}, {\"year\": 1814, \"total_results\": 2, \"query\": \"telegraph\", \"total_articles\": 239, \"proportion\": 0.008368200836820083}, {\"year\": 1815, \"total_results\": 1, \"query\": \"telegraph\", \"total_articles\": 226, \"proportion\": 0.004424778761061947}, {\"year\": 1816, \"total_results\": 1, \"query\": \"telegraph\", \"total_articles\": 644, \"proportion\": 0.0015527950310559005}, {\"year\": 1817, \"total_results\": 1, \"query\": \"telegraph\", \"total_articles\": 1068, \"proportion\": 0.0009363295880149813}, {\"year\": 1818, \"total_results\": 4, \"query\": \"telegraph\", \"total_articles\": 1249, \"proportion\": 0.0032025620496397116}, {\"year\": 1819, \"total_results\": 5, \"query\": \"telegraph\", \"total_articles\": 1152, \"proportion\": 0.004340277777777778}, {\"year\": 1820, \"total_results\": 1, \"query\": \"telegraph\", \"total_articles\": 1275, \"proportion\": 0.000784313725490196}, {\"year\": 1821, \"total_results\": 7, \"query\": \"telegraph\", \"total_articles\": 1005, \"proportion\": 0.006965174129353234}, {\"year\": 1822, \"total_results\": 3, \"query\": \"telegraph\", \"total_articles\": 1033, \"proportion\": 0.002904162633107454}, {\"year\": 1823, \"total_results\": 9, \"query\": \"telegraph\", \"total_articles\": 1156, \"proportion\": 0.007785467128027681}, {\"year\": 1824, \"total_results\": 12, \"query\": \"telegraph\", \"total_articles\": 1646, \"proportion\": 0.007290400972053463}, {\"year\": 1825, \"total_results\": 18, \"query\": \"telegraph\", \"total_articles\": 3366, \"proportion\": 0.0053475935828877}, {\"year\": 1826, \"total_results\": 27, \"query\": \"telegraph\", \"total_articles\": 5201, \"proportion\": 0.005191309363583926}, {\"year\": 1827, \"total_results\": 47, \"query\": \"telegraph\", \"total_articles\": 6537, \"proportion\": 0.007189842435367906}, {\"year\": 1828, \"total_results\": 69, \"query\": \"telegraph\", \"total_articles\": 6726, \"proportion\": 0.010258697591436218}, {\"year\": 1829, \"total_results\": 52, \"query\": \"telegraph\", \"total_articles\": 8320, \"proportion\": 0.00625}, {\"year\": 1830, \"total_results\": 74, \"query\": \"telegraph\", \"total_articles\": 8369, \"proportion\": 0.00884215557414267}, {\"year\": 1831, \"total_results\": 62, \"query\": \"telegraph\", \"total_articles\": 10311, \"proportion\": 0.006012995829696441}, {\"year\": 1832, \"total_results\": 75, \"query\": \"telegraph\", \"total_articles\": 13732, \"proportion\": 0.005461695310224293}, {\"year\": 1833, \"total_results\": 151, \"query\": \"telegraph\", \"total_articles\": 15438, \"proportion\": 0.009781059722762015}, {\"year\": 1834, \"total_results\": 111, \"query\": \"telegraph\", \"total_articles\": 18704, \"proportion\": 0.005934559452523525}, {\"year\": 1835, \"total_results\": 164, \"query\": \"telegraph\", \"total_articles\": 20389, \"proportion\": 0.008043552896169504}, {\"year\": 1836, \"total_results\": 233, \"query\": \"telegraph\", \"total_articles\": 20553, \"proportion\": 0.011336544543375663}, {\"year\": 1837, \"total_results\": 191, \"query\": \"telegraph\", \"total_articles\": 21697, \"proportion\": 0.008803060330921325}, {\"year\": 1838, \"total_results\": 148, \"query\": \"telegraph\", \"total_articles\": 25191, \"proportion\": 0.005875114128061609}, {\"year\": 1839, \"total_results\": 137, \"query\": \"telegraph\", \"total_articles\": 31159, \"proportion\": 0.0043968034917680286}, {\"year\": 1840, \"total_results\": 224, \"query\": \"telegraph\", \"total_articles\": 40450, \"proportion\": 0.0055377008652657605}, {\"year\": 1841, \"total_results\": 290, \"query\": \"telegraph\", \"total_articles\": 43583, \"proportion\": 0.00665397058486107}, {\"year\": 1842, \"total_results\": 225, \"query\": \"telegraph\", \"total_articles\": 44264, \"proportion\": 0.005083137538405928}, {\"year\": 1843, \"total_results\": 179, \"query\": \"telegraph\", \"total_articles\": 45968, \"proportion\": 0.003894013226592412}, {\"year\": 1844, \"total_results\": 191, \"query\": \"telegraph\", \"total_articles\": 51377, \"proportion\": 0.003717616832434747}, {\"year\": 1845, \"total_results\": 427, \"query\": \"telegraph\", \"total_articles\": 60228, \"proportion\": 0.007089725708972571}, {\"year\": 1846, \"total_results\": 420, \"query\": \"telegraph\", \"total_articles\": 58794, \"proportion\": 0.007143586080212267}, {\"year\": 1847, \"total_results\": 482, \"query\": \"telegraph\", \"total_articles\": 59503, \"proportion\": 0.008100431910996084}, {\"year\": 1848, \"total_results\": 670, \"query\": \"telegraph\", \"total_articles\": 60302, \"proportion\": 0.011110742595602135}, {\"year\": 1849, \"total_results\": 763, \"query\": \"telegraph\", \"total_articles\": 59698, \"proportion\": 0.012780997688364769}, {\"year\": 1850, \"total_results\": 946, \"query\": \"telegraph\", \"total_articles\": 78726, \"proportion\": 0.012016360541625384}, {\"year\": 1851, \"total_results\": 898, \"query\": \"telegraph\", \"total_articles\": 93422, \"proportion\": 0.009612296889383656}, {\"year\": 1852, \"total_results\": 1186, \"query\": \"telegraph\", \"total_articles\": 77328, \"proportion\": 0.015337264638940617}, {\"year\": 1853, \"total_results\": 1440, \"query\": \"telegraph\", \"total_articles\": 89716, \"proportion\": 0.016050648713718845}, {\"year\": 1854, \"total_results\": 2959, \"query\": \"telegraph\", \"total_articles\": 111809, \"proportion\": 0.026464774749796527}, {\"year\": 1855, \"total_results\": 9187, \"query\": \"telegraph\", \"total_articles\": 152862, \"proportion\": 0.06009995944054114}, {\"year\": 1856, \"total_results\": 9283, \"query\": \"telegraph\", \"total_articles\": 165260, \"proportion\": 0.05617209246036548}, {\"year\": 1857, \"total_results\": 10487, \"query\": \"telegraph\", \"total_articles\": 167962, \"proportion\": 0.06243674164394327}, {\"year\": 1858, \"total_results\": 16040, \"query\": \"telegraph\", \"total_articles\": 170506, \"proportion\": 0.09407293584976482}, {\"year\": 1859, \"total_results\": 22515, \"query\": \"telegraph\", \"total_articles\": 192157, \"proportion\": 0.1171698142664592}, {\"year\": 1860, \"total_results\": 24665, \"query\": \"telegraph\", \"total_articles\": 203666, \"proportion\": 0.12110514273369144}, {\"year\": 1861, \"total_results\": 23366, \"query\": \"telegraph\", \"total_articles\": 222964, \"proportion\": 0.10479718698982796}, {\"year\": 1862, \"total_results\": 25882, \"query\": \"telegraph\", \"total_articles\": 231360, \"proportion\": 0.11186894882434302}, {\"year\": 1863, \"total_results\": 26088, \"query\": \"telegraph\", \"total_articles\": 236359, \"proportion\": 0.11037447273004201}, {\"year\": 1864, \"total_results\": 26217, \"query\": \"telegraph\", \"total_articles\": 250078, \"proportion\": 0.10483529138908661}, {\"year\": 1865, \"total_results\": 29358, \"query\": \"telegraph\", \"total_articles\": 270535, \"proportion\": 0.10851830631896058}, {\"year\": 1866, \"total_results\": 30371, \"query\": \"telegraph\", \"total_articles\": 286531, \"proportion\": 0.10599551182943556}, {\"year\": 1867, \"total_results\": 29943, \"query\": \"telegraph\", \"total_articles\": 294045, \"proportion\": 0.10183135234402897}, {\"year\": 1868, \"total_results\": 27866, \"query\": \"telegraph\", \"total_articles\": 301851, \"proportion\": 0.0923170703426525}, {\"year\": 1869, \"total_results\": 33845, \"query\": \"telegraph\", \"total_articles\": 323274, \"proportion\": 0.10469446970681218}, {\"year\": 1870, \"total_results\": 43435, \"query\": \"telegraph\", \"total_articles\": 368748, \"proportion\": 0.11779046937203727}, {\"year\": 1871, \"total_results\": 39919, \"query\": \"telegraph\", \"total_articles\": 356420, \"proportion\": 0.11199988777285225}, {\"year\": 1872, \"total_results\": 45520, \"query\": \"telegraph\", \"total_articles\": 379281, \"proportion\": 0.12001655764459596}, {\"year\": 1873, \"total_results\": 49335, \"query\": \"telegraph\", \"total_articles\": 418488, \"proportion\": 0.11788868498021449}, {\"year\": 1874, \"total_results\": 48202, \"query\": \"telegraph\", \"total_articles\": 433570, \"proportion\": 0.11117466614387526}, {\"year\": 1875, \"total_results\": 49274, \"query\": \"telegraph\", \"total_articles\": 461964, \"proportion\": 0.10666199097765194}, {\"year\": 1876, \"total_results\": 51464, \"query\": \"telegraph\", \"total_articles\": 474589, \"proportion\": 0.10843909150865275}, {\"year\": 1877, \"total_results\": 54393, \"query\": \"telegraph\", \"total_articles\": 496062, \"proportion\": 0.10964960025158145}, {\"year\": 1878, \"total_results\": 60156, \"query\": \"telegraph\", \"total_articles\": 567221, \"proportion\": 0.10605390138940554}, {\"year\": 1879, \"total_results\": 63059, \"query\": \"telegraph\", \"total_articles\": 605369, \"proportion\": 0.10416621928113266}, {\"year\": 1880, \"total_results\": 63270, \"query\": \"telegraph\", \"total_articles\": 620926, \"proportion\": 0.10189620019132714}, {\"year\": 1881, \"total_results\": 67942, \"query\": \"telegraph\", \"total_articles\": 663699, \"proportion\": 0.10236869424242014}, {\"year\": 1882, \"total_results\": 80336, \"query\": \"telegraph\", \"total_articles\": 743779, \"proportion\": 0.10801057841106028}, {\"year\": 1883, \"total_results\": 85229, \"query\": \"telegraph\", \"total_articles\": 766454, \"proportion\": 0.11119910653476921}, {\"year\": 1884, \"total_results\": 96154, \"query\": \"telegraph\", \"total_articles\": 852461, \"proportion\": 0.11279577599444432}, {\"year\": 1885, \"total_results\": 99824, \"query\": \"telegraph\", \"total_articles\": 908355, \"proportion\": 0.10989536029415813}, {\"year\": 1886, \"total_results\": 105308, \"query\": \"telegraph\", \"total_articles\": 992953, \"proportion\": 0.10605537220794942}, {\"year\": 1887, \"total_results\": 110217, \"query\": \"telegraph\", \"total_articles\": 1041600, \"proportion\": 0.10581509216589861}, {\"year\": 1888, \"total_results\": 119403, \"query\": \"telegraph\", \"total_articles\": 1156393, \"proportion\": 0.10325468936598543}, {\"year\": 1889, \"total_results\": 124317, \"query\": \"telegraph\", \"total_articles\": 1241746, \"proportion\": 0.10011467723672958}, {\"year\": 1890, \"total_results\": 126755, \"query\": \"telegraph\", \"total_articles\": 1348543, \"proportion\": 0.09399403652682932}, {\"year\": 1891, \"total_results\": 122217, \"query\": \"telegraph\", \"total_articles\": 1419001, \"proportion\": 0.08612890336229502}, {\"year\": 1892, \"total_results\": 113430, \"query\": \"telegraph\", \"total_articles\": 1473222, \"proportion\": 0.07699450591967809}, {\"year\": 1893, \"total_results\": 101114, \"query\": \"telegraph\", \"total_articles\": 1493950, \"proportion\": 0.0676823186853643}, {\"year\": 1894, \"total_results\": 106176, \"query\": \"telegraph\", \"total_articles\": 1537245, \"proportion\": 0.06906901632465873}, {\"year\": 1895, \"total_results\": 110399, \"query\": \"telegraph\", \"total_articles\": 1655640, \"proportion\": 0.06668055857553574}, {\"year\": 1896, \"total_results\": 110112, \"query\": \"telegraph\", \"total_articles\": 1759780, \"proportion\": 0.06257145779586085}, {\"year\": 1897, \"total_results\": 108698, \"query\": \"telegraph\", \"total_articles\": 1878259, \"proportion\": 0.05787167797412391}, {\"year\": 1898, \"total_results\": 114612, \"query\": \"telegraph\", \"total_articles\": 2101016, \"proportion\": 0.05455075068443077}, {\"year\": 1899, \"total_results\": 116074, \"query\": \"telegraph\", \"total_articles\": 2270158, \"proportion\": 0.05113036185146585}, {\"year\": 1900, \"total_results\": 134519, \"query\": \"telegraph\", \"total_articles\": 2502505, \"proportion\": 0.05375373875376872}, {\"year\": 1901, \"total_results\": 129730, \"query\": \"telegraph\", \"total_articles\": 2576632, \"proportion\": 0.05034867222016959}, {\"year\": 1902, \"total_results\": 119576, \"query\": \"telegraph\", \"total_articles\": 2635471, \"proportion\": 0.0453717760506566}, {\"year\": 1903, \"total_results\": 110997, \"query\": \"telegraph\", \"total_articles\": 2679197, \"proportion\": 0.041429204347422005}, {\"year\": 1904, \"total_results\": 117366, \"query\": \"telegraph\", \"total_articles\": 2851878, \"proportion\": 0.04115393435483566}, {\"year\": 1905, \"total_results\": 111914, \"query\": \"telegraph\", \"total_articles\": 2981209, \"proportion\": 0.03753980348241267}, {\"year\": 1906, \"total_results\": 98322, \"query\": \"telegraph\", \"total_articles\": 3027361, \"proportion\": 0.03247779171364102}, {\"year\": 1907, \"total_results\": 99485, \"query\": \"telegraph\", \"total_articles\": 3182813, \"proportion\": 0.031256941579665534}, {\"year\": 1908, \"total_results\": 115085, \"query\": \"telegraph\", \"total_articles\": 3283574, \"proportion\": 0.035048699983615414}, {\"year\": 1909, \"total_results\": 115463, \"query\": \"telegraph\", \"total_articles\": 3348174, \"proportion\": 0.03448536426123613}, {\"year\": 1910, \"total_results\": 116979, \"query\": \"telegraph\", \"total_articles\": 3585173, \"proportion\": 0.03262855097926934}, {\"year\": 1911, \"total_results\": 105390, \"query\": \"telegraph\", \"total_articles\": 3713930, \"proportion\": 0.028376948407751356}, {\"year\": 1912, \"total_results\": 112874, \"query\": \"telegraph\", \"total_articles\": 3868683, \"proportion\": 0.02917633727033205}, {\"year\": 1913, \"total_results\": 107637, \"query\": \"telegraph\", \"total_articles\": 3935079, \"proportion\": 0.02735319926232739}, {\"year\": 1914, \"total_results\": 117345, \"query\": \"telegraph\", \"total_articles\": 4631430, \"proportion\": 0.025336667076907134}, {\"year\": 1915, \"total_results\": 110526, \"query\": \"telegraph\", \"total_articles\": 4731925, \"proportion\": 0.023357513062865536}, {\"year\": 1916, \"total_results\": 103614, \"query\": \"telegraph\", \"total_articles\": 4327007, \"proportion\": 0.023945882222977683}, {\"year\": 1917, \"total_results\": 104787, \"query\": \"telegraph\", \"total_articles\": 4219898, \"proportion\": 0.02483164285013524}, {\"year\": 1918, \"total_results\": 103662, \"query\": \"telegraph\", \"total_articles\": 3996936, \"proportion\": 0.0259353664907319}, {\"year\": 1919, \"total_results\": 86047, \"query\": \"telegraph\", \"total_articles\": 3453197, \"proportion\": 0.024918068676649495}, {\"year\": 1920, \"total_results\": 68864, \"query\": \"telegraph\", \"total_articles\": 3202012, \"proportion\": 0.021506477802081942}, {\"year\": 1921, \"total_results\": 67839, \"query\": \"telegraph\", \"total_articles\": 3387474, \"proportion\": 0.020026426771098463}, {\"year\": 1922, \"total_results\": 68123, \"query\": \"telegraph\", \"total_articles\": 3507102, \"proportion\": 0.01942429960691192}, {\"year\": 1923, \"total_results\": 75510, \"query\": \"telegraph\", \"total_articles\": 3777858, \"proportion\": 0.019987516735674025}, {\"year\": 1924, \"total_results\": 73893, \"query\": \"telegraph\", \"total_articles\": 4063598, \"proportion\": 0.01818413140276179}, {\"year\": 1925, \"total_results\": 72842, \"query\": \"telegraph\", \"total_articles\": 4025384, \"proportion\": 0.018095664910478107}, {\"year\": 1926, \"total_results\": 72485, \"query\": \"telegraph\", \"total_articles\": 4007278, \"proportion\": 0.018088338268520427}, {\"year\": 1927, \"total_results\": 71335, \"query\": \"telegraph\", \"total_articles\": 4040350, \"proportion\": 0.017655648644300616}, {\"year\": 1928, \"total_results\": 66451, \"query\": \"telegraph\", \"total_articles\": 4120958, \"proportion\": 0.016125134010101533}, {\"year\": 1929, \"total_results\": 67600, \"query\": \"telegraph\", \"total_articles\": 4346183, \"proportion\": 0.01555387796602214}, {\"year\": 1930, \"total_results\": 56942, \"query\": \"telegraph\", \"total_articles\": 4194819, \"proportion\": 0.01357436399520456}, {\"year\": 1931, \"total_results\": 52333, \"query\": \"telegraph\", \"total_articles\": 3825141, \"proportion\": 0.013681325734136336}, {\"year\": 1932, \"total_results\": 51407, \"query\": \"telegraph\", \"total_articles\": 3804137, \"proportion\": 0.013513446019425694}, {\"year\": 1933, \"total_results\": 61442, \"query\": \"telegraph\", \"total_articles\": 3978777, \"proportion\": 0.015442433692564324}, {\"year\": 1934, \"total_results\": 67665, \"query\": \"telegraph\", \"total_articles\": 4075716, \"proportion\": 0.0166019909139891}, {\"year\": 1935, \"total_results\": 74912, \"query\": \"telegraph\", \"total_articles\": 4157594, \"proportion\": 0.018018113360756247}, {\"year\": 1936, \"total_results\": 77230, \"query\": \"telegraph\", \"total_articles\": 4246634, \"proportion\": 0.01818616815105799}, {\"year\": 1937, \"total_results\": 72815, \"query\": \"telegraph\", \"total_articles\": 4229023, \"proportion\": 0.01721792480201692}, {\"year\": 1938, \"total_results\": 87898, \"query\": \"telegraph\", \"total_articles\": 4225814, \"proportion\": 0.020800252921685622}, {\"year\": 1939, \"total_results\": 74044, \"query\": \"telegraph\", \"total_articles\": 3994424, \"proportion\": 0.018536840355455504}, {\"year\": 1940, \"total_results\": 58546, \"query\": \"telegraph\", \"total_articles\": 3392990, \"proportion\": 0.01725498748891096}, {\"year\": 1941, \"total_results\": 52335, \"query\": \"telegraph\", \"total_articles\": 2987500, \"proportion\": 0.01751799163179916}, {\"year\": 1942, \"total_results\": 40933, \"query\": \"telegraph\", \"total_articles\": 2389391, \"proportion\": 0.017131143458730697}, {\"year\": 1943, \"total_results\": 38145, \"query\": \"telegraph\", \"total_articles\": 2103261, \"proportion\": 0.018136122906286953}, {\"year\": 1944, \"total_results\": 39413, \"query\": \"telegraph\", \"total_articles\": 2152455, \"proportion\": 0.01831071962015466}, {\"year\": 1945, \"total_results\": 39988, \"query\": \"telegraph\", \"total_articles\": 2337141, \"proportion\": 0.017109793546901963}, {\"year\": 1946, \"total_results\": 42580, \"query\": \"telegraph\", \"total_articles\": 2625887, \"proportion\": 0.016215473095376916}, {\"year\": 1947, \"total_results\": 38587, \"query\": \"telegraph\", \"total_articles\": 2716737, \"proportion\": 0.014203435960124222}, {\"year\": 1948, \"total_results\": 27761, \"query\": \"telegraph\", \"total_articles\": 2465735, \"proportion\": 0.011258711905375071}, {\"year\": 1949, \"total_results\": 31288, \"query\": \"telegraph\", \"total_articles\": 2720488, \"proportion\": 0.01150087778369175}, {\"year\": 1950, \"total_results\": 30620, \"query\": \"telegraph\", \"total_articles\": 2740028, \"proportion\": 0.01117506828397374}, {\"year\": 1951, \"total_results\": 24864, \"query\": \"telegraph\", \"total_articles\": 2511109, \"proportion\": 0.009901601244709011}, {\"year\": 1952, \"total_results\": 22106, \"query\": \"telegraph\", \"total_articles\": 2554216, \"proportion\": 0.008654710486505448}, {\"year\": 1953, \"total_results\": 25395, \"query\": \"telegraph\", \"total_articles\": 2691009, \"proportion\": 0.009436980701290855}, {\"year\": 1954, \"total_results\": 28089, \"query\": \"telegraph\", \"total_articles\": 2702881, \"proportion\": 0.010392244423635373}, {\"year\": 1955, \"total_results\": 1321, \"query\": \"telegraph\", \"total_articles\": 252963, \"proportion\": 0.005222107580950573}, {\"year\": 1956, \"total_results\": 905, \"query\": \"telegraph\", \"total_articles\": 176649, \"proportion\": 0.0051231538248164435}, {\"year\": 1957, \"total_results\": 424, \"query\": \"telegraph\", \"total_articles\": 102977, \"proportion\": 0.0041174242792079785}, {\"year\": 1958, \"total_results\": 467, \"query\": \"telegraph\", \"total_articles\": 103319, \"proportion\": 0.004519981803927642}, {\"year\": 1959, \"total_results\": 450, \"query\": \"telegraph\", \"total_articles\": 99010, \"proportion\": 0.004544995455004545}, {\"year\": 1960, \"total_results\": 461, \"query\": \"telegraph\", \"total_articles\": 93273, \"proportion\": 0.004942480675007773}, {\"year\": 1961, \"total_results\": 447, \"query\": \"telegraph\", \"total_articles\": 88200, \"proportion\": 0.0050680272108843535}, {\"year\": 1962, \"total_results\": 425, \"query\": \"telegraph\", \"total_articles\": 87318, \"proportion\": 0.0048672667720286765}, {\"year\": 1963, \"total_results\": 455, \"query\": \"telegraph\", \"total_articles\": 96229, \"proportion\": 0.004728304357314323}, {\"year\": 1964, \"total_results\": 406, \"query\": \"telegraph\", \"total_articles\": 96814, \"proportion\": 0.0041936083624269215}, {\"year\": 1965, \"total_results\": 466, \"query\": \"telegraph\", \"total_articles\": 101122, \"proportion\": 0.004608294930875576}, {\"year\": 1966, \"total_results\": 437, \"query\": \"telegraph\", \"total_articles\": 98928, \"proportion\": 0.004417354035257965}, {\"year\": 1967, \"total_results\": 526, \"query\": \"telegraph\", \"total_articles\": 97474, \"proportion\": 0.005396310811088085}, {\"year\": 1968, \"total_results\": 473, \"query\": \"telegraph\", \"total_articles\": 100507, \"proportion\": 0.004706139870854767}, {\"year\": 1969, \"total_results\": 690, \"query\": \"telegraph\", \"total_articles\": 121108, \"proportion\": 0.0056973940614988275}, {\"year\": 1970, \"total_results\": 831, \"query\": \"telegraph\", \"total_articles\": 138406, \"proportion\": 0.006004074967848215}, {\"year\": 1971, \"total_results\": 779, \"query\": \"telegraph\", \"total_articles\": 136162, \"proportion\": 0.0057211263054302965}, {\"year\": 1972, \"total_results\": 666, \"query\": \"telegraph\", \"total_articles\": 132241, \"proportion\": 0.005036259556415937}, {\"year\": 1973, \"total_results\": 614, \"query\": \"telegraph\", \"total_articles\": 133033, \"proportion\": 0.004615396179895214}, {\"year\": 1974, \"total_results\": 444, \"query\": \"telegraph\", \"total_articles\": 131271, \"proportion\": 0.0033823159723015746}, {\"year\": 1975, \"total_results\": 537, \"query\": \"telegraph\", \"total_articles\": 125005, \"proportion\": 0.004295828166873325}, {\"year\": 1976, \"total_results\": 504, \"query\": \"telegraph\", \"total_articles\": 126193, \"proportion\": 0.003993882386503213}, {\"year\": 1977, \"total_results\": 365, \"query\": \"telegraph\", \"total_articles\": 128804, \"proportion\": 0.002833762926617186}, {\"year\": 1978, \"total_results\": 306, \"query\": \"telegraph\", \"total_articles\": 133155, \"proportion\": 0.0022980736735383578}, {\"year\": 1979, \"total_results\": 355, \"query\": \"telegraph\", \"total_articles\": 137809, \"proportion\": 0.0025760291417831925}, {\"year\": 1980, \"total_results\": 292, \"query\": \"telegraph\", \"total_articles\": 135609, \"proportion\": 0.0021532494155992597}, {\"year\": 1981, \"total_results\": 339, \"query\": \"telegraph\", \"total_articles\": 114802, \"proportion\": 0.0029529102280448074}, {\"year\": 1982, \"total_results\": 271, \"query\": \"telegraph\", \"total_articles\": 102033, \"proportion\": 0.0026560034498642597}, {\"year\": 1983, \"total_results\": 230, \"query\": \"telegraph\", \"total_articles\": 87590, \"proportion\": 0.0026258705331658866}, {\"year\": 1984, \"total_results\": 278, \"query\": \"telegraph\", \"total_articles\": 92214, \"proportion\": 0.0030147266141800594}, {\"year\": 1985, \"total_results\": 289, \"query\": \"telegraph\", \"total_articles\": 98601, \"proportion\": 0.0029310047565440514}, {\"year\": 1986, \"total_results\": 261, \"query\": \"telegraph\", \"total_articles\": 96748, \"proportion\": 0.0026977301856369123}, {\"year\": 1987, \"total_results\": 354, \"query\": \"telegraph\", \"total_articles\": 96387, \"proportion\": 0.0036726944504964364}, {\"year\": 1988, \"total_results\": 373, \"query\": \"telegraph\", \"total_articles\": 107116, \"proportion\": 0.0034822062063557266}, {\"year\": 1989, \"total_results\": 313, \"query\": \"telegraph\", \"total_articles\": 107496, \"proportion\": 0.002911736250651187}, {\"year\": 1990, \"total_results\": 396, \"query\": \"telegraph\", \"total_articles\": 104053, \"proportion\": 0.003805752837496276}, {\"year\": 1991, \"total_results\": 402, \"query\": \"telegraph\", \"total_articles\": 111099, \"proportion\": 0.003618394404990144}, {\"year\": 1992, \"total_results\": 322, \"query\": \"telegraph\", \"total_articles\": 110158, \"proportion\": 0.0029230741298861634}, {\"year\": 1993, \"total_results\": 359, \"query\": \"telegraph\", \"total_articles\": 109708, \"proportion\": 0.0032723228934991066}, {\"year\": 1994, \"total_results\": 305, \"query\": \"telegraph\", \"total_articles\": 106086, \"proportion\": 0.002875025922364874}, {\"year\": 1995, \"total_results\": 321, \"query\": \"telegraph\", \"total_articles\": 106861, \"proportion\": 0.003003902265559933}, {\"year\": 1996, \"total_results\": 27, \"query\": \"telegraph\", \"total_articles\": 25540, \"proportion\": 0.00105716523101018}, {\"year\": 1997, \"total_results\": 49, \"query\": \"telegraph\", \"total_articles\": 26458, \"proportion\": 0.0018519918361176203}, {\"year\": 1998, \"total_results\": 35, \"query\": \"telegraph\", \"total_articles\": 32955, \"proportion\": 0.0010620543164921864}, {\"year\": 1999, \"total_results\": 82, \"query\": \"telegraph\", \"total_articles\": 42254, \"proportion\": 0.0019406446726937094}, {\"year\": 2000, \"total_results\": 85, \"query\": \"telegraph\", \"total_articles\": 32249, \"proportion\": 0.002635740643120717}, {\"year\": 2001, \"total_results\": 35, \"query\": \"telegraph\", \"total_articles\": 31114, \"proportion\": 0.0011248955454136401}, {\"year\": 2002, \"total_results\": 37, \"query\": \"telegraph\", \"total_articles\": 31128, \"proportion\": 0.0011886404523258802}, {\"year\": 2003, \"total_results\": 23, \"query\": \"telegraph\", \"total_articles\": 12888, \"proportion\": 0.0017846058348851646}, {\"year\": 2004, \"total_results\": 17, \"query\": \"telegraph\", \"total_articles\": 10980, \"proportion\": 0.0015482695810564663}, {\"year\": 2005, \"total_results\": 12, \"query\": \"telegraph\", \"total_articles\": 6187, \"proportion\": 0.0019395506707612737}, {\"year\": 2006, \"total_results\": 9, \"query\": \"telegraph\", \"total_articles\": 5553, \"proportion\": 0.0016207455429497568}, {\"year\": 2007, \"total_results\": 4, \"query\": \"telegraph\", \"total_articles\": 5747, \"proportion\": 0.0006960153123368715}, {\"year\": 2008, \"total_results\": 4, \"query\": \"telegraph\", \"total_articles\": 4715, \"proportion\": 0.000848356309650053}, {\"year\": 2009, \"total_results\": 3, \"query\": \"telegraph\", \"total_articles\": 4227, \"proportion\": 0.0007097232079489}, {\"year\": 2010, \"total_results\": 8, \"query\": \"telegraph\", \"total_articles\": 4137, \"proportion\": 0.0019337684312303602}, {\"year\": 2011, \"total_results\": 2, \"query\": \"telegraph\", \"total_articles\": 3645, \"proportion\": 0.0005486968449931413}, {\"year\": 2012, \"total_results\": 6, \"query\": \"telegraph\", \"total_articles\": 3322, \"proportion\": 0.001806140878988561}, {\"year\": 2013, \"total_results\": 2, \"query\": \"telegraph\", \"total_articles\": 3451, \"proportion\": 0.0005795421616922632}, {\"year\": 2014, \"total_results\": 7, \"query\": \"telegraph\", \"total_articles\": 3132, \"proportion\": 0.002234993614303959}, {\"year\": 2015, \"total_results\": 8, \"query\": \"telegraph\", \"total_articles\": 3223, \"proportion\": 0.0024821594787465093}, {\"year\": 1830, \"total_results\": 2, \"query\": \"radio\", \"total_articles\": 8369, \"proportion\": 0.0002389771776795316}, {\"year\": 1832, \"total_results\": 1, \"query\": \"radio\", \"total_articles\": 13732, \"proportion\": 7.282260413632391e-05}, {\"year\": 1833, \"total_results\": 1, \"query\": \"radio\", \"total_articles\": 15438, \"proportion\": 6.477522995206633e-05}, {\"year\": 1834, \"total_results\": 4, \"query\": \"radio\", \"total_articles\": 18704, \"proportion\": 0.000213857998289136}, {\"year\": 1835, \"total_results\": 1, \"query\": \"radio\", \"total_articles\": 20389, \"proportion\": 4.9046054244935994e-05}, {\"year\": 1836, \"total_results\": 6, \"query\": \"radio\", \"total_articles\": 20553, \"proportion\": 0.00029192818566632606}, {\"year\": 1837, \"total_results\": 4, \"query\": \"radio\", \"total_articles\": 21697, \"proportion\": 0.00018435728441720052}, {\"year\": 1838, \"total_results\": 3, \"query\": \"radio\", \"total_articles\": 25191, \"proportion\": 0.00011909015124449208}, {\"year\": 1839, \"total_results\": 5, \"query\": \"radio\", \"total_articles\": 31159, \"proportion\": 0.00016046728072146088}, {\"year\": 1840, \"total_results\": 2, \"query\": \"radio\", \"total_articles\": 40450, \"proportion\": 4.9443757725587144e-05}, {\"year\": 1841, \"total_results\": 16, \"query\": \"radio\", \"total_articles\": 43583, \"proportion\": 0.0003671156184750935}, {\"year\": 1842, \"total_results\": 5, \"query\": \"radio\", \"total_articles\": 44264, \"proportion\": 0.00011295861196457618}, {\"year\": 1843, \"total_results\": 5, \"query\": \"radio\", \"total_articles\": 45968, \"proportion\": 0.000108771319178559}, {\"year\": 1844, \"total_results\": 2, \"query\": \"radio\", \"total_articles\": 51377, \"proportion\": 3.89279249469607e-05}, {\"year\": 1845, \"total_results\": 12, \"query\": \"radio\", \"total_articles\": 60228, \"proportion\": 0.00019924287706714485}, {\"year\": 1846, \"total_results\": 6, \"query\": \"radio\", \"total_articles\": 58794, \"proportion\": 0.0001020512297173181}, {\"year\": 1847, \"total_results\": 15, \"query\": \"radio\", \"total_articles\": 59503, \"proportion\": 0.00025208813001025156}, {\"year\": 1848, \"total_results\": 10, \"query\": \"radio\", \"total_articles\": 60302, \"proportion\": 0.00016583197903883784}, {\"year\": 1849, \"total_results\": 17, \"query\": \"radio\", \"total_articles\": 59698, \"proportion\": 0.0002847666588495427}, {\"year\": 1850, \"total_results\": 14, \"query\": \"radio\", \"total_articles\": 78726, \"proportion\": 0.00017783197418895917}, {\"year\": 1851, \"total_results\": 11, \"query\": \"radio\", \"total_articles\": 93422, \"proportion\": 0.00011774528483654814}, {\"year\": 1852, \"total_results\": 14, \"query\": \"radio\", \"total_articles\": 77328, \"proportion\": 0.00018104696875646597}, {\"year\": 1853, \"total_results\": 38, \"query\": \"radio\", \"total_articles\": 89716, \"proportion\": 0.000423558785500914}, {\"year\": 1854, \"total_results\": 44, \"query\": \"radio\", \"total_articles\": 111809, \"proportion\": 0.00039352824906760636}, {\"year\": 1855, \"total_results\": 29, \"query\": \"radio\", \"total_articles\": 152862, \"proportion\": 0.00018971359788567466}, {\"year\": 1856, \"total_results\": 32, \"query\": \"radio\", \"total_articles\": 165260, \"proportion\": 0.00019363427326636815}, {\"year\": 1857, \"total_results\": 39, \"query\": \"radio\", \"total_articles\": 167962, \"proportion\": 0.00023219537752586895}, {\"year\": 1858, \"total_results\": 72, \"query\": \"radio\", \"total_articles\": 170506, \"proportion\": 0.0004222725299989443}, {\"year\": 1859, \"total_results\": 70, \"query\": \"radio\", \"total_articles\": 192157, \"proportion\": 0.00036428545408181853}, {\"year\": 1860, \"total_results\": 96, \"query\": \"radio\", \"total_articles\": 203666, \"proportion\": 0.0004713599717184017}, {\"year\": 1861, \"total_results\": 105, \"query\": \"radio\", \"total_articles\": 222964, \"proportion\": 0.0004709280421951526}, {\"year\": 1862, \"total_results\": 102, \"query\": \"radio\", \"total_articles\": 231360, \"proportion\": 0.0004408713692946058}, {\"year\": 1863, \"total_results\": 114, \"query\": \"radio\", \"total_articles\": 236359, \"proportion\": 0.00048231715314415785}, {\"year\": 1864, \"total_results\": 88, \"query\": \"radio\", \"total_articles\": 250078, \"proportion\": 0.00035189021025440063}, {\"year\": 1865, \"total_results\": 88, \"query\": \"radio\", \"total_articles\": 270535, \"proportion\": 0.00032528138688154955}, {\"year\": 1866, \"total_results\": 71, \"query\": \"radio\", \"total_articles\": 286531, \"proportion\": 0.0002477916874613916}, {\"year\": 1867, \"total_results\": 78, \"query\": \"radio\", \"total_articles\": 294045, \"proportion\": 0.00026526552058358415}, {\"year\": 1868, \"total_results\": 118, \"query\": \"radio\", \"total_articles\": 301851, \"proportion\": 0.00039092134861239483}, {\"year\": 1869, \"total_results\": 116, \"query\": \"radio\", \"total_articles\": 323274, \"proportion\": 0.00035882873352017174}, {\"year\": 1870, \"total_results\": 114, \"query\": \"radio\", \"total_articles\": 368748, \"proportion\": 0.00030915421914152753}, {\"year\": 1871, \"total_results\": 127, \"query\": \"radio\", \"total_articles\": 356420, \"proportion\": 0.00035632119409685203}, {\"year\": 1872, \"total_results\": 115, \"query\": \"radio\", \"total_articles\": 379281, \"proportion\": 0.0003032052752444757}, {\"year\": 1873, \"total_results\": 128, \"query\": \"radio\", \"total_articles\": 418488, \"proportion\": 0.000305863011603678}, {\"year\": 1874, \"total_results\": 146, \"query\": \"radio\", \"total_articles\": 433570, \"proportion\": 0.0003367391655326706}, {\"year\": 1875, \"total_results\": 163, \"query\": \"radio\", \"total_articles\": 461964, \"proportion\": 0.00035284134694478356}, {\"year\": 1876, \"total_results\": 174, \"query\": \"radio\", \"total_articles\": 474589, \"proportion\": 0.0003666330235214048}, {\"year\": 1877, \"total_results\": 242, \"query\": \"radio\", \"total_articles\": 496062, \"proportion\": 0.0004878422455257609}, {\"year\": 1878, \"total_results\": 258, \"query\": \"radio\", \"total_articles\": 567221, \"proportion\": 0.00045484916813728687}, {\"year\": 1879, \"total_results\": 299, \"query\": \"radio\", \"total_articles\": 605369, \"proportion\": 0.0004939136295383477}, {\"year\": 1880, \"total_results\": 286, \"query\": \"radio\", \"total_articles\": 620926, \"proportion\": 0.00046060239062303723}, {\"year\": 1881, \"total_results\": 380, \"query\": \"radio\", \"total_articles\": 663699, \"proportion\": 0.0005725487005404558}, {\"year\": 1882, \"total_results\": 293, \"query\": \"radio\", \"total_articles\": 743779, \"proportion\": 0.00039393421970773576}, {\"year\": 1883, \"total_results\": 341, \"query\": \"radio\", \"total_articles\": 766454, \"proportion\": 0.00044490602175733965}, {\"year\": 1884, \"total_results\": 346, \"query\": \"radio\", \"total_articles\": 852461, \"proportion\": 0.00040588367092453495}, {\"year\": 1885, \"total_results\": 440, \"query\": \"radio\", \"total_articles\": 908355, \"proportion\": 0.00048439211541743043}, {\"year\": 1886, \"total_results\": 527, \"query\": \"radio\", \"total_articles\": 992953, \"proportion\": 0.0005307401256655652}, {\"year\": 1887, \"total_results\": 445, \"query\": \"radio\", \"total_articles\": 1041600, \"proportion\": 0.0004272273425499232}, {\"year\": 1888, \"total_results\": 571, \"query\": \"radio\", \"total_articles\": 1156393, \"proportion\": 0.0004937767696622169}, {\"year\": 1889, \"total_results\": 556, \"query\": \"radio\", \"total_articles\": 1241746, \"proportion\": 0.0004477566265564777}, {\"year\": 1890, \"total_results\": 572, \"query\": \"radio\", \"total_articles\": 1348543, \"proportion\": 0.00042416148391263755}, {\"year\": 1891, \"total_results\": 532, \"query\": \"radio\", \"total_articles\": 1419001, \"proportion\": 0.00037491164558728287}, {\"year\": 1892, \"total_results\": 551, \"query\": \"radio\", \"total_articles\": 1473222, \"proportion\": 0.0003740101627589053}, {\"year\": 1893, \"total_results\": 550, \"query\": \"radio\", \"total_articles\": 1493950, \"proportion\": 0.00036815154456307106}, {\"year\": 1894, \"total_results\": 573, \"query\": \"radio\", \"total_articles\": 1537245, \"proportion\": 0.00037274474790940937}, {\"year\": 1895, \"total_results\": 634, \"query\": \"radio\", \"total_articles\": 1655640, \"proportion\": 0.00038293348795631903}, {\"year\": 1896, \"total_results\": 671, \"query\": \"radio\", \"total_articles\": 1759780, \"proportion\": 0.000381297662207776}, {\"year\": 1897, \"total_results\": 642, \"query\": \"radio\", \"total_articles\": 1878259, \"proportion\": 0.00034180589577901665}, {\"year\": 1898, \"total_results\": 576, \"query\": \"radio\", \"total_articles\": 2101016, \"proportion\": 0.00027415307641636235}, {\"year\": 1899, \"total_results\": 529, \"query\": \"radio\", \"total_articles\": 2270158, \"proportion\": 0.00023302342832525312}, {\"year\": 1900, \"total_results\": 602, \"query\": \"radio\", \"total_articles\": 2502505, \"proportion\": 0.000240558959922158}, {\"year\": 1901, \"total_results\": 575, \"query\": \"radio\", \"total_articles\": 2576632, \"proportion\": 0.00022315953539349043}, {\"year\": 1902, \"total_results\": 594, \"query\": \"radio\", \"total_articles\": 2635471, \"proportion\": 0.000225386657641082}, {\"year\": 1903, \"total_results\": 925, \"query\": \"radio\", \"total_articles\": 2679197, \"proportion\": 0.0003452527007159235}, {\"year\": 1904, \"total_results\": 1419, \"query\": \"radio\", \"total_articles\": 2851878, \"proportion\": 0.0004975668664648347}, {\"year\": 1905, \"total_results\": 1190, \"query\": \"radio\", \"total_articles\": 2981209, \"proportion\": 0.00039916691516763835}, {\"year\": 1906, \"total_results\": 1424, \"query\": \"radio\", \"total_articles\": 3027361, \"proportion\": 0.0004703766746020709}, {\"year\": 1907, \"total_results\": 1090, \"query\": \"radio\", \"total_articles\": 3182813, \"proportion\": 0.0003424643546447749}, {\"year\": 1908, \"total_results\": 1186, \"query\": \"radio\", \"total_articles\": 3283574, \"proportion\": 0.0003611917989361592}, {\"year\": 1909, \"total_results\": 1669, \"query\": \"radio\", \"total_articles\": 3348174, \"proportion\": 0.0004984806643860205}, {\"year\": 1910, \"total_results\": 2184, \"query\": \"radio\", \"total_articles\": 3585173, \"proportion\": 0.000609175624160954}, {\"year\": 1911, \"total_results\": 2379, \"query\": \"radio\", \"total_articles\": 3713930, \"proportion\": 0.0006405613460673734}, {\"year\": 1912, \"total_results\": 2763, \"query\": \"radio\", \"total_articles\": 3868683, \"proportion\": 0.0007141965366508447}, {\"year\": 1913, \"total_results\": 3368, \"query\": \"radio\", \"total_articles\": 3935079, \"proportion\": 0.0008558913302630011}, {\"year\": 1914, \"total_results\": 4064, \"query\": \"radio\", \"total_articles\": 4631430, \"proportion\": 0.0008774827645025402}, {\"year\": 1915, \"total_results\": 3886, \"query\": \"radio\", \"total_articles\": 4731925, \"proportion\": 0.0008212302604119888}, {\"year\": 1916, \"total_results\": 3321, \"query\": \"radio\", \"total_articles\": 4327007, \"proportion\": 0.0007675051138119258}, {\"year\": 1917, \"total_results\": 3364, \"query\": \"radio\", \"total_articles\": 4219898, \"proportion\": 0.0007971756663312715}, {\"year\": 1918, \"total_results\": 3302, \"query\": \"radio\", \"total_articles\": 3996936, \"proportion\": 0.0008261328177383876}, {\"year\": 1919, \"total_results\": 3659, \"query\": \"radio\", \"total_articles\": 3453197, \"proportion\": 0.0010595978161686112}, {\"year\": 1920, \"total_results\": 5094, \"query\": \"radio\", \"total_articles\": 3202012, \"proportion\": 0.0015908747375087914}, {\"year\": 1921, \"total_results\": 5426, \"query\": \"radio\", \"total_articles\": 3387474, \"proportion\": 0.0016017835118439286}, {\"year\": 1922, \"total_results\": 7441, \"query\": \"radio\", \"total_articles\": 3507102, \"proportion\": 0.002121694778195787}, {\"year\": 1923, \"total_results\": 11575, \"query\": \"radio\", \"total_articles\": 3777858, \"proportion\": 0.003063905525300316}, {\"year\": 1924, \"total_results\": 24628, \"query\": \"radio\", \"total_articles\": 4063598, \"proportion\": 0.006060638872250651}, {\"year\": 1925, \"total_results\": 37796, \"query\": \"radio\", \"total_articles\": 4025384, \"proportion\": 0.00938941477384518}, {\"year\": 1926, \"total_results\": 42711, \"query\": \"radio\", \"total_articles\": 4007278, \"proportion\": 0.010658357119221576}, {\"year\": 1927, \"total_results\": 53700, \"query\": \"radio\", \"total_articles\": 4040350, \"proportion\": 0.013290927766158872}, {\"year\": 1928, \"total_results\": 60651, \"query\": \"radio\", \"total_articles\": 4120958, \"proportion\": 0.014717694283707818}, {\"year\": 1929, \"total_results\": 60785, \"query\": \"radio\", \"total_articles\": 4346183, \"proportion\": 0.01398583538705112}, {\"year\": 1930, \"total_results\": 63628, \"query\": \"radio\", \"total_articles\": 4194819, \"proportion\": 0.015168234910731548}, {\"year\": 1931, \"total_results\": 65111, \"query\": \"radio\", \"total_articles\": 3825141, \"proportion\": 0.017021856187784973}, {\"year\": 1932, \"total_results\": 71767, \"query\": \"radio\", \"total_articles\": 3804137, \"proportion\": 0.01886551404431544}, {\"year\": 1933, \"total_results\": 78748, \"query\": \"radio\", \"total_articles\": 3978777, \"proportion\": 0.01979201146482952}, {\"year\": 1934, \"total_results\": 92623, \"query\": \"radio\", \"total_articles\": 4075716, \"proportion\": 0.022725577542694338}, {\"year\": 1935, \"total_results\": 100567, \"query\": \"radio\", \"total_articles\": 4157594, \"proportion\": 0.024188749550821943}, {\"year\": 1936, \"total_results\": 109107, \"query\": \"radio\", \"total_articles\": 4246634, \"proportion\": 0.025692583820503486}, {\"year\": 1937, \"total_results\": 120609, \"query\": \"radio\", \"total_articles\": 4229023, \"proportion\": 0.02851935305152041}, {\"year\": 1938, \"total_results\": 131417, \"query\": \"radio\", \"total_articles\": 4225814, \"proportion\": 0.031098623839099403}, {\"year\": 1939, \"total_results\": 127995, \"query\": \"radio\", \"total_articles\": 3994424, \"proportion\": 0.032043418525424444}, {\"year\": 1940, \"total_results\": 127062, \"query\": \"radio\", \"total_articles\": 3392990, \"proportion\": 0.037448386231612826}, {\"year\": 1941, \"total_results\": 133573, \"query\": \"radio\", \"total_articles\": 2987500, \"proportion\": 0.04471062761506276}, {\"year\": 1942, \"total_results\": 127790, \"query\": \"radio\", \"total_articles\": 2389391, \"proportion\": 0.053482247150006004}, {\"year\": 1943, \"total_results\": 122849, \"query\": \"radio\", \"total_articles\": 2103261, \"proportion\": 0.058408823251132405}, {\"year\": 1944, \"total_results\": 115743, \"query\": \"radio\", \"total_articles\": 2152455, \"proportion\": 0.05377255273629414}, {\"year\": 1945, \"total_results\": 116548, \"query\": \"radio\", \"total_articles\": 2337141, \"proportion\": 0.049867765787344455}, {\"year\": 1946, \"total_results\": 118287, \"query\": \"radio\", \"total_articles\": 2625887, \"proportion\": 0.045046492861269355}, {\"year\": 1947, \"total_results\": 124657, \"query\": \"radio\", \"total_articles\": 2716737, \"proportion\": 0.04588482433154185}, {\"year\": 1948, \"total_results\": 111442, \"query\": \"radio\", \"total_articles\": 2465735, \"proportion\": 0.0451962599387201}, {\"year\": 1949, \"total_results\": 117770, \"query\": \"radio\", \"total_articles\": 2720488, \"proportion\": 0.04329002737744111}, {\"year\": 1950, \"total_results\": 119067, \"query\": \"radio\", \"total_articles\": 2740028, \"proportion\": 0.04345466542677666}, {\"year\": 1951, \"total_results\": 107284, \"query\": \"radio\", \"total_articles\": 2511109, \"proportion\": 0.04272375273235849}, {\"year\": 1952, \"total_results\": 105600, \"query\": \"radio\", \"total_articles\": 2554216, \"proportion\": 0.0413434102675733}, {\"year\": 1953, \"total_results\": 118204, \"query\": \"radio\", \"total_articles\": 2691009, \"proportion\": 0.043925531278416384}, {\"year\": 1954, \"total_results\": 127251, \"query\": \"radio\", \"total_articles\": 2702881, \"proportion\": 0.04707976414795916}, {\"year\": 1955, \"total_results\": 11717, \"query\": \"radio\", \"total_articles\": 252963, \"proportion\": 0.04631902689326107}, {\"year\": 1956, \"total_results\": 9233, \"query\": \"radio\", \"total_articles\": 176649, \"proportion\": 0.0522674909000334}, {\"year\": 1957, \"total_results\": 5175, \"query\": \"radio\", \"total_articles\": 102977, \"proportion\": 0.050253940200238885}, {\"year\": 1958, \"total_results\": 5655, \"query\": \"radio\", \"total_articles\": 103319, \"proportion\": 0.05473339850366341}, {\"year\": 1959, \"total_results\": 5418, \"query\": \"radio\", \"total_articles\": 99010, \"proportion\": 0.05472174527825472}, {\"year\": 1960, \"total_results\": 5454, \"query\": \"radio\", \"total_articles\": 93273, \"proportion\": 0.05847351323534142}, {\"year\": 1961, \"total_results\": 4853, \"query\": \"radio\", \"total_articles\": 88200, \"proportion\": 0.05502267573696145}, {\"year\": 1962, \"total_results\": 4865, \"query\": \"radio\", \"total_articles\": 87318, \"proportion\": 0.05571588904922238}, {\"year\": 1963, \"total_results\": 5943, \"query\": \"radio\", \"total_articles\": 96229, \"proportion\": 0.06175892922092093}, {\"year\": 1964, \"total_results\": 5337, \"query\": \"radio\", \"total_articles\": 96814, \"proportion\": 0.05512632470510463}, {\"year\": 1965, \"total_results\": 5829, \"query\": \"radio\", \"total_articles\": 101122, \"proportion\": 0.05764324281560887}, {\"year\": 1966, \"total_results\": 5340, \"query\": \"radio\", \"total_articles\": 98928, \"proportion\": 0.05397865114022319}, {\"year\": 1967, \"total_results\": 5196, \"query\": \"radio\", \"total_articles\": 97474, \"proportion\": 0.053306522765045036}, {\"year\": 1968, \"total_results\": 5454, \"query\": \"radio\", \"total_articles\": 100507, \"proportion\": 0.05426487707323868}, {\"year\": 1969, \"total_results\": 6501, \"query\": \"radio\", \"total_articles\": 121108, \"proportion\": 0.05367936057073026}, {\"year\": 1970, \"total_results\": 6769, \"query\": \"radio\", \"total_articles\": 138406, \"proportion\": 0.04890683929887433}, {\"year\": 1971, \"total_results\": 6371, \"query\": \"radio\", \"total_articles\": 136162, \"proportion\": 0.04678985326302493}, {\"year\": 1972, \"total_results\": 6730, \"query\": \"radio\", \"total_articles\": 132241, \"proportion\": 0.050891932154173064}, {\"year\": 1973, \"total_results\": 6114, \"query\": \"radio\", \"total_articles\": 133033, \"proportion\": 0.045958521569836056}, {\"year\": 1974, \"total_results\": 5887, \"query\": \"radio\", \"total_articles\": 131271, \"proportion\": 0.04484615794806164}, {\"year\": 1975, \"total_results\": 6270, \"query\": \"radio\", \"total_articles\": 125005, \"proportion\": 0.05015799368025279}, {\"year\": 1976, \"total_results\": 6784, \"query\": \"radio\", \"total_articles\": 126193, \"proportion\": 0.05375892482150357}, {\"year\": 1977, \"total_results\": 6996, \"query\": \"radio\", \"total_articles\": 128804, \"proportion\": 0.05431508338250365}, {\"year\": 1978, \"total_results\": 6860, \"query\": \"radio\", \"total_articles\": 133155, \"proportion\": 0.0515189065374939}, {\"year\": 1979, \"total_results\": 6999, \"query\": \"radio\", \"total_articles\": 137809, \"proportion\": 0.05078768440377624}, {\"year\": 1980, \"total_results\": 6824, \"query\": \"radio\", \"total_articles\": 135609, \"proportion\": 0.05032114387688133}, {\"year\": 1981, \"total_results\": 6421, \"query\": \"radio\", \"total_articles\": 114802, \"proportion\": 0.05593108134004634}, {\"year\": 1982, \"total_results\": 5225, \"query\": \"radio\", \"total_articles\": 102033, \"proportion\": 0.05120892260347142}, {\"year\": 1983, \"total_results\": 5058, \"query\": \"radio\", \"total_articles\": 87590, \"proportion\": 0.057746318072839364}, {\"year\": 1984, \"total_results\": 5379, \"query\": \"radio\", \"total_articles\": 92214, \"proportion\": 0.05833170668228252}, {\"year\": 1985, \"total_results\": 5282, \"query\": \"radio\", \"total_articles\": 98601, \"proportion\": 0.05356943641545218}, {\"year\": 1986, \"total_results\": 5114, \"query\": \"radio\", \"total_articles\": 96748, \"proportion\": 0.05285897382891636}, {\"year\": 1987, \"total_results\": 5047, \"query\": \"radio\", \"total_articles\": 96387, \"proportion\": 0.05236183302727546}, {\"year\": 1988, \"total_results\": 5503, \"query\": \"radio\", \"total_articles\": 107116, \"proportion\": 0.05137421113559132}, {\"year\": 1989, \"total_results\": 4968, \"query\": \"radio\", \"total_articles\": 107496, \"proportion\": 0.046215673141326186}, {\"year\": 1990, \"total_results\": 4869, \"query\": \"radio\", \"total_articles\": 104053, \"proportion\": 0.04679346102467012}, {\"year\": 1991, \"total_results\": 5248, \"query\": \"radio\", \"total_articles\": 111099, \"proportion\": 0.047237148849224565}, {\"year\": 1992, \"total_results\": 4656, \"query\": \"radio\", \"total_articles\": 110158, \"proportion\": 0.042266562573757695}, {\"year\": 1993, \"total_results\": 4410, \"query\": \"radio\", \"total_articles\": 109708, \"proportion\": 0.04019761548838736}, {\"year\": 1994, \"total_results\": 4082, \"query\": \"radio\", \"total_articles\": 106086, \"proportion\": 0.03847821578719152}, {\"year\": 1995, \"total_results\": 4180, \"query\": \"radio\", \"total_articles\": 106861, \"proportion\": 0.0391162351091605}, {\"year\": 1996, \"total_results\": 500, \"query\": \"radio\", \"total_articles\": 25540, \"proportion\": 0.01957713390759593}, {\"year\": 1997, \"total_results\": 591, \"query\": \"radio\", \"total_articles\": 26458, \"proportion\": 0.02233728928868395}, {\"year\": 1998, \"total_results\": 754, \"query\": \"radio\", \"total_articles\": 32955, \"proportion\": 0.022879684418145956}, {\"year\": 1999, \"total_results\": 1066, \"query\": \"radio\", \"total_articles\": 42254, \"proportion\": 0.025228380745018222}, {\"year\": 2000, \"total_results\": 740, \"query\": \"radio\", \"total_articles\": 32249, \"proportion\": 0.022946447951874477}, {\"year\": 2001, \"total_results\": 702, \"query\": \"radio\", \"total_articles\": 31114, \"proportion\": 0.02256219065372501}, {\"year\": 2002, \"total_results\": 653, \"query\": \"radio\", \"total_articles\": 31128, \"proportion\": 0.020977897712670265}, {\"year\": 2003, \"total_results\": 436, \"query\": \"radio\", \"total_articles\": 12888, \"proportion\": 0.03382991930477964}, {\"year\": 2004, \"total_results\": 368, \"query\": \"radio\", \"total_articles\": 10980, \"proportion\": 0.03351548269581057}, {\"year\": 2005, \"total_results\": 184, \"query\": \"radio\", \"total_articles\": 6187, \"proportion\": 0.02973977695167286}, {\"year\": 2006, \"total_results\": 220, \"query\": \"radio\", \"total_articles\": 5553, \"proportion\": 0.03961822438321628}, {\"year\": 2007, \"total_results\": 156, \"query\": \"radio\", \"total_articles\": 5747, \"proportion\": 0.027144597181137986}, {\"year\": 2008, \"total_results\": 115, \"query\": \"radio\", \"total_articles\": 4715, \"proportion\": 0.024390243902439025}, {\"year\": 2009, \"total_results\": 93, \"query\": \"radio\", \"total_articles\": 4227, \"proportion\": 0.0220014194464159}, {\"year\": 2010, \"total_results\": 104, \"query\": \"radio\", \"total_articles\": 4137, \"proportion\": 0.025138989605994682}, {\"year\": 2011, \"total_results\": 79, \"query\": \"radio\", \"total_articles\": 3645, \"proportion\": 0.02167352537722908}, {\"year\": 2012, \"total_results\": 78, \"query\": \"radio\", \"total_articles\": 3322, \"proportion\": 0.023479831426851294}, {\"year\": 2013, \"total_results\": 57, \"query\": \"radio\", \"total_articles\": 3451, \"proportion\": 0.0165169516082295}, {\"year\": 2014, \"total_results\": 45, \"query\": \"radio\", \"total_articles\": 3132, \"proportion\": 0.014367816091954023}, {\"year\": 2015, \"total_results\": 40, \"query\": \"radio\", \"total_articles\": 3223, \"proportion\": 0.012410797393732548}, {\"year\": 1830, \"total_results\": 1, \"query\": \"wireless\", \"total_articles\": 8369, \"proportion\": 0.0001194885888397658}, {\"year\": 1846, \"total_results\": 1, \"query\": \"wireless\", \"total_articles\": 58794, \"proportion\": 1.7008538286219682e-05}, {\"year\": 1854, \"total_results\": 1, \"query\": \"wireless\", \"total_articles\": 111809, \"proportion\": 8.9438238424456e-06}, {\"year\": 1857, \"total_results\": 1, \"query\": \"wireless\", \"total_articles\": 167962, \"proportion\": 5.953727628868434e-06}, {\"year\": 1858, \"total_results\": 1, \"query\": \"wireless\", \"total_articles\": 170506, \"proportion\": 5.864896249985338e-06}, {\"year\": 1860, \"total_results\": 1, \"query\": \"wireless\", \"total_articles\": 203666, \"proportion\": 4.909999705400018e-06}, {\"year\": 1861, \"total_results\": 1, \"query\": \"wireless\", \"total_articles\": 222964, \"proportion\": 4.485028973287167e-06}, {\"year\": 1862, \"total_results\": 1, \"query\": \"wireless\", \"total_articles\": 231360, \"proportion\": 4.322268326417704e-06}, {\"year\": 1863, \"total_results\": 1, \"query\": \"wireless\", \"total_articles\": 236359, \"proportion\": 4.230852220562788e-06}, {\"year\": 1864, \"total_results\": 1, \"query\": \"wireless\", \"total_articles\": 250078, \"proportion\": 3.998752389254553e-06}, {\"year\": 1867, \"total_results\": 2, \"query\": \"wireless\", \"total_articles\": 294045, \"proportion\": 6.801680014963696e-06}, {\"year\": 1869, \"total_results\": 4, \"query\": \"wireless\", \"total_articles\": 323274, \"proportion\": 1.2373404604143853e-05}, {\"year\": 1870, \"total_results\": 1, \"query\": \"wireless\", \"total_articles\": 368748, \"proportion\": 2.7118791152765575e-06}, {\"year\": 1873, \"total_results\": 2, \"query\": \"wireless\", \"total_articles\": 418488, \"proportion\": 4.779109556307469e-06}, {\"year\": 1874, \"total_results\": 4, \"query\": \"wireless\", \"total_articles\": 433570, \"proportion\": 9.225730562538921e-06}, {\"year\": 1875, \"total_results\": 3, \"query\": \"wireless\", \"total_articles\": 461964, \"proportion\": 6.49401252045614e-06}, {\"year\": 1876, \"total_results\": 5, \"query\": \"wireless\", \"total_articles\": 474589, \"proportion\": 1.0535431710385197e-05}, {\"year\": 1877, \"total_results\": 1, \"query\": \"wireless\", \"total_articles\": 496062, \"proportion\": 2.0158770476271113e-06}, {\"year\": 1878, \"total_results\": 3, \"query\": \"wireless\", \"total_articles\": 567221, \"proportion\": 5.288943815549848e-06}, {\"year\": 1879, \"total_results\": 2, \"query\": \"wireless\", \"total_articles\": 605369, \"proportion\": 3.303770097246473e-06}, {\"year\": 1880, \"total_results\": 3, \"query\": \"wireless\", \"total_articles\": 620926, \"proportion\": 4.831493607933957e-06}, {\"year\": 1882, \"total_results\": 1, \"query\": \"wireless\", \"total_articles\": 743779, \"proportion\": 1.3444853914939787e-06}, {\"year\": 1883, \"total_results\": 3, \"query\": \"wireless\", \"total_articles\": 766454, \"proportion\": 3.91412922367161e-06}, {\"year\": 1884, \"total_results\": 3, \"query\": \"wireless\", \"total_articles\": 852461, \"proportion\": 3.5192225802705346e-06}, {\"year\": 1885, \"total_results\": 5, \"query\": \"wireless\", \"total_articles\": 908355, \"proportion\": 5.504455857016254e-06}, {\"year\": 1886, \"total_results\": 1, \"query\": \"wireless\", \"total_articles\": 992953, \"proportion\": 1.0070970126481314e-06}, {\"year\": 1887, \"total_results\": 3, \"query\": \"wireless\", \"total_articles\": 1041600, \"proportion\": 2.880184331797235e-06}, {\"year\": 1888, \"total_results\": 5, \"query\": \"wireless\", \"total_articles\": 1156393, \"proportion\": 4.3237895767269435e-06}, {\"year\": 1889, \"total_results\": 3, \"query\": \"wireless\", \"total_articles\": 1241746, \"proportion\": 2.4159530209881894e-06}, {\"year\": 1890, \"total_results\": 4, \"query\": \"wireless\", \"total_articles\": 1348543, \"proportion\": 2.9661642231652976e-06}, {\"year\": 1891, \"total_results\": 3, \"query\": \"wireless\", \"total_articles\": 1419001, \"proportion\": 2.114163414965881e-06}, {\"year\": 1892, \"total_results\": 5, \"query\": \"wireless\", \"total_articles\": 1473222, \"proportion\": 3.3939216221316273e-06}, {\"year\": 1893, \"total_results\": 6, \"query\": \"wireless\", \"total_articles\": 1493950, \"proportion\": 4.016198667960775e-06}, {\"year\": 1894, \"total_results\": 3, \"query\": \"wireless\", \"total_articles\": 1537245, \"proportion\": 1.9515431827717766e-06}, {\"year\": 1895, \"total_results\": 11, \"query\": \"wireless\", \"total_articles\": 1655640, \"proportion\": 6.643956415645914e-06}, {\"year\": 1896, \"total_results\": 9, \"query\": \"wireless\", \"total_articles\": 1759780, \"proportion\": 5.114275648092375e-06}, {\"year\": 1897, \"total_results\": 182, \"query\": \"wireless\", \"total_articles\": 1878259, \"proportion\": 9.689824459778976e-05}, {\"year\": 1898, \"total_results\": 253, \"query\": \"wireless\", \"total_articles\": 2101016, \"proportion\": 0.00012041793113427028}, {\"year\": 1899, \"total_results\": 4353, \"query\": \"wireless\", \"total_articles\": 2270158, \"proportion\": 0.001917487681474153}, {\"year\": 1900, \"total_results\": 2268, \"query\": \"wireless\", \"total_articles\": 2502505, \"proportion\": 0.0009062918955206882}, {\"year\": 1901, \"total_results\": 3913, \"query\": \"wireless\", \"total_articles\": 2576632, \"proportion\": 0.001518649151295179}, {\"year\": 1902, \"total_results\": 5417, \"query\": \"wireless\", \"total_articles\": 2635471, \"proportion\": 0.0020554200748177463}, {\"year\": 1903, \"total_results\": 5062, \"query\": \"wireless\", \"total_articles\": 2679197, \"proportion\": 0.0018893720767827076}, {\"year\": 1904, \"total_results\": 4961, \"query\": \"wireless\", \"total_articles\": 2851878, \"proportion\": 0.0017395554788809339}, {\"year\": 1905, \"total_results\": 4433, \"query\": \"wireless\", \"total_articles\": 2981209, \"proportion\": 0.0014869806175950764}, {\"year\": 1906, \"total_results\": 5884, \"query\": \"wireless\", \"total_articles\": 3027361, \"proportion\": 0.0019436069897181077}, {\"year\": 1907, \"total_results\": 5233, \"query\": \"wireless\", \"total_articles\": 3182813, \"proportion\": 0.001644143089776245}, {\"year\": 1908, \"total_results\": 6208, \"query\": \"wireless\", \"total_articles\": 3283574, \"proportion\": 0.0018906228396253595}, {\"year\": 1909, \"total_results\": 9440, \"query\": \"wireless\", \"total_articles\": 3348174, \"proportion\": 0.0028194472569227284}, {\"year\": 1910, \"total_results\": 19022, \"query\": \"wireless\", \"total_articles\": 3585173, \"proportion\": 0.005305741173438492}, {\"year\": 1911, \"total_results\": 28203, \"query\": \"wireless\", \"total_articles\": 3713930, \"proportion\": 0.0075938426410837034}, {\"year\": 1912, \"total_results\": 39036, \"query\": \"wireless\", \"total_articles\": 3868683, \"proportion\": 0.01009025552106492}, {\"year\": 1913, \"total_results\": 39196, \"query\": \"wireless\", \"total_articles\": 3935079, \"proportion\": 0.009960664067989487}, {\"year\": 1914, \"total_results\": 54074, \"query\": \"wireless\", \"total_articles\": 4631430, \"proportion\": 0.011675443653472038}, {\"year\": 1915, \"total_results\": 41895, \"query\": \"wireless\", \"total_articles\": 4731925, \"proportion\": 0.008853690622738103}, {\"year\": 1916, \"total_results\": 41070, \"query\": \"wireless\", \"total_articles\": 4327007, \"proportion\": 0.009491549239462752}, {\"year\": 1917, \"total_results\": 71900, \"query\": \"wireless\", \"total_articles\": 4219898, \"proportion\": 0.017038326518792633}, {\"year\": 1918, \"total_results\": 52253, \"query\": \"wireless\", \"total_articles\": 3996936, \"proportion\": 0.013073264120316163}, {\"year\": 1919, \"total_results\": 30174, \"query\": \"wireless\", \"total_articles\": 3453197, \"proportion\": 0.008737989752684252}, {\"year\": 1920, \"total_results\": 24555, \"query\": \"wireless\", \"total_articles\": 3202012, \"proportion\": 0.007668615857779421}, {\"year\": 1921, \"total_results\": 22463, \"query\": \"wireless\", \"total_articles\": 3387474, \"proportion\": 0.006631194807694465}, {\"year\": 1922, \"total_results\": 28366, \"query\": \"wireless\", \"total_articles\": 3507102, \"proportion\": 0.008088159397702148}, {\"year\": 1923, \"total_results\": 36476, \"query\": \"wireless\", \"total_articles\": 3777858, \"proportion\": 0.009655206733551129}, {\"year\": 1924, \"total_results\": 59221, \"query\": \"wireless\", \"total_articles\": 4063598, \"proportion\": 0.014573538032059274}, {\"year\": 1925, \"total_results\": 64268, \"query\": \"wireless\", \"total_articles\": 4025384, \"proportion\": 0.01596568178340253}, {\"year\": 1926, \"total_results\": 67661, \"query\": \"wireless\", \"total_articles\": 4007278, \"proportion\": 0.016884528600211914}, {\"year\": 1927, \"total_results\": 84124, \"query\": \"wireless\", \"total_articles\": 4040350, \"proportion\": 0.020820968480453426}, {\"year\": 1928, \"total_results\": 87820, \"query\": \"wireless\", \"total_articles\": 4120958, \"proportion\": 0.021310578753775216}, {\"year\": 1929, \"total_results\": 84154, \"query\": \"wireless\", \"total_articles\": 4346183, \"proportion\": 0.01936273737208028}, {\"year\": 1930, \"total_results\": 80496, \"query\": \"wireless\", \"total_articles\": 4194819, \"proportion\": 0.01918938576372425}, {\"year\": 1931, \"total_results\": 68017, \"query\": \"wireless\", \"total_articles\": 3825141, \"proportion\": 0.017781566744859863}, {\"year\": 1932, \"total_results\": 67449, \"query\": \"wireless\", \"total_articles\": 3804137, \"proportion\": 0.017730433998565245}, {\"year\": 1933, \"total_results\": 72676, \"query\": \"wireless\", \"total_articles\": 3978777, \"proportion\": 0.018265914375196198}, {\"year\": 1934, \"total_results\": 78174, \"query\": \"wireless\", \"total_articles\": 4075716, \"proportion\": 0.019180433572898604}, {\"year\": 1935, \"total_results\": 77697, \"query\": \"wireless\", \"total_articles\": 4157594, \"proportion\": 0.018687971937615844}, {\"year\": 1936, \"total_results\": 77393, \"query\": \"wireless\", \"total_articles\": 4246634, \"proportion\": 0.018224551491840362}, {\"year\": 1937, \"total_results\": 79418, \"query\": \"wireless\", \"total_articles\": 4229023, \"proportion\": 0.01877927833449948}, {\"year\": 1938, \"total_results\": 70236, \"query\": \"wireless\", \"total_articles\": 4225814, \"proportion\": 0.01662070313553791}, {\"year\": 1939, \"total_results\": 66382, \"query\": \"wireless\", \"total_articles\": 3994424, \"proportion\": 0.01661866642099086}, {\"year\": 1940, \"total_results\": 59202, \"query\": \"wireless\", \"total_articles\": 3392990, \"proportion\": 0.01744832728655257}, {\"year\": 1941, \"total_results\": 47409, \"query\": \"wireless\", \"total_articles\": 2987500, \"proportion\": 0.015869121338912134}, {\"year\": 1942, \"total_results\": 33930, \"query\": \"wireless\", \"total_articles\": 2389391, \"proportion\": 0.014200271115108411}, {\"year\": 1943, \"total_results\": 31887, \"query\": \"wireless\", \"total_articles\": 2103261, \"proportion\": 0.01516074324584538}, {\"year\": 1944, \"total_results\": 30608, \"query\": \"wireless\", \"total_articles\": 2152455, \"proportion\": 0.014220041766262246}, {\"year\": 1945, \"total_results\": 31502, \"query\": \"wireless\", \"total_articles\": 2337141, \"proportion\": 0.01347886156633254}, {\"year\": 1946, \"total_results\": 33041, \"query\": \"wireless\", \"total_articles\": 2625887, \"proportion\": 0.01258279583241777}, {\"year\": 1947, \"total_results\": 31385, \"query\": \"wireless\", \"total_articles\": 2716737, \"proportion\": 0.011552461647925434}, {\"year\": 1948, \"total_results\": 24800, \"query\": \"wireless\", \"total_articles\": 2465735, \"proportion\": 0.010057852932289967}, {\"year\": 1949, \"total_results\": 28493, \"query\": \"wireless\", \"total_articles\": 2720488, \"proportion\": 0.01047348857999006}, {\"year\": 1950, \"total_results\": 29287, \"query\": \"wireless\", \"total_articles\": 2740028, \"proportion\": 0.010688576905053525}, {\"year\": 1951, \"total_results\": 24957, \"query\": \"wireless\", \"total_articles\": 2511109, \"proportion\": 0.00993863667407508}, {\"year\": 1952, \"total_results\": 22423, \"query\": \"wireless\", \"total_articles\": 2554216, \"proportion\": 0.008778819019221553}, {\"year\": 1953, \"total_results\": 22125, \"query\": \"wireless\", \"total_articles\": 2691009, \"proportion\": 0.008221823115418789}, {\"year\": 1954, \"total_results\": 22933, \"query\": \"wireless\", \"total_articles\": 2702881, \"proportion\": 0.008484650267621845}, {\"year\": 1955, \"total_results\": 1506, \"query\": \"wireless\", \"total_articles\": 252963, \"proportion\": 0.005953439831121547}, {\"year\": 1956, \"total_results\": 1024, \"query\": \"wireless\", \"total_articles\": 176649, \"proportion\": 0.00579680609570391}, {\"year\": 1957, \"total_results\": 428, \"query\": \"wireless\", \"total_articles\": 102977, \"proportion\": 0.004156267904483525}, {\"year\": 1958, \"total_results\": 470, \"query\": \"wireless\", \"total_articles\": 103319, \"proportion\": 0.004549018089605977}, {\"year\": 1959, \"total_results\": 417, \"query\": \"wireless\", \"total_articles\": 99010, \"proportion\": 0.0042116957883042115}, {\"year\": 1960, \"total_results\": 329, \"query\": \"wireless\", \"total_articles\": 93273, \"proportion\": 0.0035272801346584756}, {\"year\": 1961, \"total_results\": 223, \"query\": \"wireless\", \"total_articles\": 88200, \"proportion\": 0.0025283446712018143}, {\"year\": 1962, \"total_results\": 277, \"query\": \"wireless\", \"total_articles\": 87318, \"proportion\": 0.00317231269612222}, {\"year\": 1963, \"total_results\": 246, \"query\": \"wireless\", \"total_articles\": 96229, \"proportion\": 0.0025564019162622495}, {\"year\": 1964, \"total_results\": 276, \"query\": \"wireless\", \"total_articles\": 96814, \"proportion\": 0.002850827359679385}, {\"year\": 1965, \"total_results\": 368, \"query\": \"wireless\", \"total_articles\": 101122, \"proportion\": 0.0036391685291034593}, {\"year\": 1966, \"total_results\": 308, \"query\": \"wireless\", \"total_articles\": 98928, \"proportion\": 0.003113375384117742}, {\"year\": 1967, \"total_results\": 238, \"query\": \"wireless\", \"total_articles\": 97474, \"proportion\": 0.0024416767548269282}, {\"year\": 1968, \"total_results\": 165, \"query\": \"wireless\", \"total_articles\": 100507, \"proportion\": 0.0016416766991353836}, {\"year\": 1969, \"total_results\": 157, \"query\": \"wireless\", \"total_articles\": 121108, \"proportion\": 0.0012963635763120521}, {\"year\": 1970, \"total_results\": 164, \"query\": \"wireless\", \"total_articles\": 138406, \"proportion\": 0.0011849197289134864}, {\"year\": 1971, \"total_results\": 175, \"query\": \"wireless\", \"total_articles\": 136162, \"proportion\": 0.0012852337656614914}, {\"year\": 1972, \"total_results\": 208, \"query\": \"wireless\", \"total_articles\": 132241, \"proportion\": 0.0015728858674692418}, {\"year\": 1973, \"total_results\": 223, \"query\": \"wireless\", \"total_articles\": 133033, \"proportion\": 0.0016762758112648741}, {\"year\": 1974, \"total_results\": 159, \"query\": \"wireless\", \"total_articles\": 131271, \"proportion\": 0.0012112347738647531}, {\"year\": 1975, \"total_results\": 141, \"query\": \"wireless\", \"total_articles\": 125005, \"proportion\": 0.0011279548818047278}, {\"year\": 1976, \"total_results\": 129, \"query\": \"wireless\", \"total_articles\": 126193, \"proportion\": 0.0010222437060692748}, {\"year\": 1977, \"total_results\": 110, \"query\": \"wireless\", \"total_articles\": 128804, \"proportion\": 0.0008540107450079191}, {\"year\": 1978, \"total_results\": 99, \"query\": \"wireless\", \"total_articles\": 133155, \"proportion\": 0.0007434944237918215}, {\"year\": 1979, \"total_results\": 99, \"query\": \"wireless\", \"total_articles\": 137809, \"proportion\": 0.0007183855916522143}, {\"year\": 1980, \"total_results\": 96, \"query\": \"wireless\", \"total_articles\": 135609, \"proportion\": 0.0007079176160874278}, {\"year\": 1981, \"total_results\": 109, \"query\": \"wireless\", \"total_articles\": 114802, \"proportion\": 0.0009494608107872685}, {\"year\": 1982, \"total_results\": 134, \"query\": \"wireless\", \"total_articles\": 102033, \"proportion\": 0.00131330059882587}, {\"year\": 1983, \"total_results\": 79, \"query\": \"wireless\", \"total_articles\": 87590, \"proportion\": 0.0009019294440004567}, {\"year\": 1984, \"total_results\": 105, \"query\": \"wireless\", \"total_articles\": 92214, \"proportion\": 0.0011386557355716053}, {\"year\": 1985, \"total_results\": 129, \"query\": \"wireless\", \"total_articles\": 98601, \"proportion\": 0.0013083031612255453}, {\"year\": 1986, \"total_results\": 217, \"query\": \"wireless\", \"total_articles\": 96748, \"proportion\": 0.0022429404225410344}, {\"year\": 1987, \"total_results\": 311, \"query\": \"wireless\", \"total_articles\": 96387, \"proportion\": 0.0032265761980350047}, {\"year\": 1988, \"total_results\": 127, \"query\": \"wireless\", \"total_articles\": 107116, \"proportion\": 0.0011856305313865342}, {\"year\": 1989, \"total_results\": 91, \"query\": \"wireless\", \"total_articles\": 107496, \"proportion\": 0.0008465431271861279}, {\"year\": 1990, \"total_results\": 90, \"query\": \"wireless\", \"total_articles\": 104053, \"proportion\": 0.0008649438267036991}, {\"year\": 1991, \"total_results\": 96, \"query\": \"wireless\", \"total_articles\": 111099, \"proportion\": 0.000864094186266303}, {\"year\": 1992, \"total_results\": 165, \"query\": \"wireless\", \"total_articles\": 110158, \"proportion\": 0.001497848544817444}, {\"year\": 1993, \"total_results\": 114, \"query\": \"wireless\", \"total_articles\": 109708, \"proportion\": 0.0010391220330331426}, {\"year\": 1994, \"total_results\": 100, \"query\": \"wireless\", \"total_articles\": 106086, \"proportion\": 0.0009426314499556963}, {\"year\": 1995, \"total_results\": 174, \"query\": \"wireless\", \"total_articles\": 106861, \"proportion\": 0.0016282834710511786}, {\"year\": 1996, \"total_results\": 5, \"query\": \"wireless\", \"total_articles\": 25540, \"proportion\": 0.00019577133907595928}, {\"year\": 1997, \"total_results\": 13, \"query\": \"wireless\", \"total_articles\": 26458, \"proportion\": 0.000491344772847532}, {\"year\": 1998, \"total_results\": 11, \"query\": \"wireless\", \"total_articles\": 32955, \"proportion\": 0.00033378849946897286}, {\"year\": 1999, \"total_results\": 20, \"query\": \"wireless\", \"total_articles\": 42254, \"proportion\": 0.00047332796894968525}, {\"year\": 2000, \"total_results\": 10, \"query\": \"wireless\", \"total_articles\": 32249, \"proportion\": 0.00031008713448479023}, {\"year\": 2001, \"total_results\": 13, \"query\": \"wireless\", \"total_articles\": 31114, \"proportion\": 0.00041781834543935207}, {\"year\": 2002, \"total_results\": 17, \"query\": \"wireless\", \"total_articles\": 31128, \"proportion\": 0.0005461320997172963}, {\"year\": 2003, \"total_results\": 4, \"query\": \"wireless\", \"total_articles\": 12888, \"proportion\": 0.00031036623215394165}, {\"year\": 2004, \"total_results\": 12, \"query\": \"wireless\", \"total_articles\": 10980, \"proportion\": 0.001092896174863388}, {\"year\": 2005, \"total_results\": 3, \"query\": \"wireless\", \"total_articles\": 6187, \"proportion\": 0.00048488766769031843}, {\"year\": 2006, \"total_results\": 5, \"query\": \"wireless\", \"total_articles\": 5553, \"proportion\": 0.0009004141905276427}, {\"year\": 2007, \"total_results\": 19, \"query\": \"wireless\", \"total_articles\": 5747, \"proportion\": 0.003306072733600139}, {\"year\": 2008, \"total_results\": 16, \"query\": \"wireless\", \"total_articles\": 4715, \"proportion\": 0.003393425238600212}, {\"year\": 2009, \"total_results\": 29, \"query\": \"wireless\", \"total_articles\": 4227, \"proportion\": 0.006860657676839366}, {\"year\": 2010, \"total_results\": 57, \"query\": \"wireless\", \"total_articles\": 4137, \"proportion\": 0.013778100072516316}, {\"year\": 2011, \"total_results\": 60, \"query\": \"wireless\", \"total_articles\": 3645, \"proportion\": 0.01646090534979424}, {\"year\": 2012, \"total_results\": 45, \"query\": \"wireless\", \"total_articles\": 3322, \"proportion\": 0.013546056592414209}, {\"year\": 2013, \"total_results\": 51, \"query\": \"wireless\", \"total_articles\": 3451, \"proportion\": 0.014778325123152709}, {\"year\": 2014, \"total_results\": 20, \"query\": \"wireless\", \"total_articles\": 3132, \"proportion\": 0.006385696040868455}, {\"year\": 2015, \"total_results\": 4, \"query\": \"wireless\", \"total_articles\": 3223, \"proportion\": 0.0012410797393732546}]}}, {\"mode\": \"vega-lite\"});\n",
       "</script>"
      ],
      "text/plain": [
       "alt.VConcatChart(...)"
      ]
     },
     "execution_count": 21,
     "metadata": {},
     "output_type": "execute_result"
    }
   ],
   "source": [
    "# Chart total results\n",
    "chart3 = make_chart_totals(df_queries_merged, 'query', 'Search query')\n",
    "\n",
    "# Chart proportions\n",
    "chart4 = make_chart_proportions(df_queries_merged, 'query', 'Search query')\n",
    "\n",
    "# Shorthand way of concatenating the two charts (note there's only one legend)\n",
    "chart3 & chart4"
   ]
  },
  {
   "cell_type": "markdown",
   "metadata": {},
   "source": [
    "Once again, it's interesting to compare the total results with the proportions. In this case, both point to something interesting happening around 1930. To explore this further we could use the [Trove Newspaper Harvester](https://glam-workbench.github.io/trove-harvester/) to assemble a dataset of articles from 1920 to 1940 for detailed analysis. You might also notice a little peak for 'wireless' around 2011 – new uses for old words!"
   ]
  },
  {
   "cell_type": "markdown",
   "metadata": {},
   "source": [
    "## 6. Comparing a search term across different states\n",
    "\n",
    "Another way of building comparisons over time is to use some of the other facets available in Trove to slice up our search results. For example, the `state` facet tells us the number of results per state. We might be able to use this to track differences in language, or regional interest in particular events.\n",
    "\n",
    "Because we're combining three facets, `state` and `decade`/`year`, we need to think a bit about how we assemble the data. In this case we're only using one search query, but we're repeating this query across a number of different states. We're then getting the data for decade and year for each of the states.\n",
    "\n",
    "The possible values for the `state` facet are:\n",
    "\n",
    "* ACT\n",
    "* New South Wales\n",
    "* Northern Territory\n",
    "* Queensland\n",
    "* South Australia\n",
    "* Tasmania\n",
    "* Victoria\n",
    "* Western Australia\n",
    "* National\n",
    "* International\n",
    "\n",
    "There's some other ways of exploring and visualising the `state` facet in [Visualise the total number of newspaper articles in Trove by year and state](visualise-total-newspaper-articles-by-state-year.ipynb).\n",
    "\n",
    "Let's start by defining a list of states we want to compare...\n"
   ]
  },
  {
   "cell_type": "code",
   "execution_count": 22,
   "metadata": {},
   "outputs": [],
   "source": [
    "# A list of state values that we'll supply to the state facet\n",
    "states = [\n",
    "    'New South Wales',\n",
    "    'Victoria'\n",
    "]"
   ]
  },
  {
   "cell_type": "markdown",
   "metadata": {},
   "source": [
    "...and our search query."
   ]
  },
  {
   "cell_type": "code",
   "execution_count": 23,
   "metadata": {},
   "outputs": [],
   "source": [
    "# Remember this time we're comparing a single search query across multiple states\n",
    "query = 'Chinese'"
   ]
  },
  {
   "cell_type": "markdown",
   "metadata": {},
   "source": [
    "As before, we'll display both the raw number of results, and the proportion this represents of the total number of articles. But what is the total number of articles in this case? While we could generate a proportion using the totals for each year across all of Trove's newspapers, it seems more useful to use the total number of articles for each state. Otherwise, states with more newspapers will dominate. This means we'll have to make some additional calls to the API to get the state totals as well as the search results.\n",
    "\n",
    "Let's create a couple of new functions. The main function `get_state_facets()` loops through the states in our list, gathering the year by year results. It's similar to the way we handled multiple queries, but this time there's an additional step. Once we have the search results, we use `get_state_totals()` to get the total number of articles published in that state for each year. Then we merge the search results and total articles as we did before."
   ]
  },
  {
   "cell_type": "code",
   "execution_count": 24,
   "metadata": {},
   "outputs": [],
   "source": [
    "def get_state_totals(state):\n",
    "    '''\n",
    "    Get the total number of articles for each year for the specified state.\n",
    "    Parameters:\n",
    "        state\n",
    "    Returns:\n",
    "        A list of dictionaries containing 'year', 'total_results'.\n",
    "    ''' \n",
    "    these_params = params.copy()\n",
    "    \n",
    "    # Set the q parameter to a single space to get everything\n",
    "    these_params['q'] = ' '\n",
    "    \n",
    "    # Set the state facet to the given state value\n",
    "    these_params['l-state'] = state\n",
    "    \n",
    "    # Get the year by year data\n",
    "    facet_data = get_facet_data(these_params)\n",
    "    return facet_data\n",
    "\n",
    "\n",
    "def get_state_facets(params, states, query):\n",
    "    '''\n",
    "    Loop through the supplied list of states searching for the specified query and getting the year by year results.\n",
    "    Merges the search results with the total number of articles for that state.\n",
    "    Parameters:\n",
    "        params - basic parameters to send to the API\n",
    "        states - a list of states to apply using the state facet\n",
    "        query - the search query to use\n",
    "    Returns:\n",
    "        A dataframe   \n",
    "    '''\n",
    "    dfs = []\n",
    "    these_params = params.copy()\n",
    "    \n",
    "    # Set the q parameter to the supplied query\n",
    "    these_params['q'] = query\n",
    "    \n",
    "    # Loop through the supplied list of states\n",
    "    for state in states:\n",
    "        \n",
    "        # Set the state facet to the current state value\n",
    "        these_params['l-state'] = state\n",
    "        \n",
    "        # Get year facets for this state & query\n",
    "        facet_data = get_facet_data(these_params)\n",
    "        \n",
    "        # Convert the results to a dataframe\n",
    "        df = pd.DataFrame(facet_data)\n",
    "        \n",
    "        # Get the total number of articles per year for this state\n",
    "        total_data = get_state_totals(state)\n",
    "        \n",
    "        # Convert the totals to a dataframe\n",
    "        df_total = pd.DataFrame(total_data)\n",
    "        \n",
    "        # Merge the two dataframes\n",
    "        df_merged = merge_df_with_total(df, df_total)\n",
    "        \n",
    "        # Add a state column to the dataframe and set its value to the current state\n",
    "        df_merged['state'] = state\n",
    "        \n",
    "        # Add this df to the list of dfs\n",
    "        dfs.append(df_merged)\n",
    "        \n",
    "    # Concatenate all the dataframes and return the result\n",
    "    return pd.concat(dfs)"
   ]
  },
  {
   "cell_type": "markdown",
   "metadata": {},
   "source": [
    "Let's get the data!"
   ]
  },
  {
   "cell_type": "code",
   "execution_count": 25,
   "metadata": {},
   "outputs": [],
   "source": [
    "df_states = get_state_facets(params, states, query)"
   ]
  },
  {
   "cell_type": "markdown",
   "metadata": {},
   "source": [
    "And now chart the results, specifying `state` as the column to use for our category."
   ]
  },
  {
   "cell_type": "code",
   "execution_count": 26,
   "metadata": {},
   "outputs": [
    {
     "data": {
      "text/html": [
       "\n",
       "<div id=\"altair-viz-faf8c9c52826428294d4d4f47fca17fe\"></div>\n",
       "<script type=\"text/javascript\">\n",
       "  (function(spec, embedOpt){\n",
       "    let outputDiv = document.currentScript.previousElementSibling;\n",
       "    if (outputDiv.id !== \"altair-viz-faf8c9c52826428294d4d4f47fca17fe\") {\n",
       "      outputDiv = document.getElementById(\"altair-viz-faf8c9c52826428294d4d4f47fca17fe\");\n",
       "    }\n",
       "    const paths = {\n",
       "      \"vega\": \"https://cdn.jsdelivr.net/npm//vega@5?noext\",\n",
       "      \"vega-lib\": \"https://cdn.jsdelivr.net/npm//vega-lib?noext\",\n",
       "      \"vega-lite\": \"https://cdn.jsdelivr.net/npm//vega-lite@4.8.1?noext\",\n",
       "      \"vega-embed\": \"https://cdn.jsdelivr.net/npm//vega-embed@6?noext\",\n",
       "    };\n",
       "\n",
       "    function loadScript(lib) {\n",
       "      return new Promise(function(resolve, reject) {\n",
       "        var s = document.createElement('script');\n",
       "        s.src = paths[lib];\n",
       "        s.async = true;\n",
       "        s.onload = () => resolve(paths[lib]);\n",
       "        s.onerror = () => reject(`Error loading script: ${paths[lib]}`);\n",
       "        document.getElementsByTagName(\"head\")[0].appendChild(s);\n",
       "      });\n",
       "    }\n",
       "\n",
       "    function showError(err) {\n",
       "      outputDiv.innerHTML = `<div class=\"error\" style=\"color:red;\">${err}</div>`;\n",
       "      throw err;\n",
       "    }\n",
       "\n",
       "    function displayChart(vegaEmbed) {\n",
       "      vegaEmbed(outputDiv, spec, embedOpt)\n",
       "        .catch(err => showError(`Javascript Error: ${err.message}<br>This usually means there's a typo in your chart specification. See the javascript console for the full traceback.`));\n",
       "    }\n",
       "\n",
       "    if(typeof define === \"function\" && define.amd) {\n",
       "      requirejs.config({paths});\n",
       "      require([\"vega-embed\"], displayChart, err => showError(`Error loading script: ${err.message}`));\n",
       "    } else if (typeof vegaEmbed === \"function\") {\n",
       "      displayChart(vegaEmbed);\n",
       "    } else {\n",
       "      loadScript(\"vega\")\n",
       "        .then(() => loadScript(\"vega-lite\"))\n",
       "        .then(() => loadScript(\"vega-embed\"))\n",
       "        .catch(showError)\n",
       "        .then(() => displayChart(vegaEmbed));\n",
       "    }\n",
       "  })({\"config\": {\"view\": {\"continuousWidth\": 400, \"continuousHeight\": 300}}, \"vconcat\": [{\"mark\": {\"type\": \"line\", \"point\": true}, \"encoding\": {\"color\": {\"type\": \"nominal\", \"field\": \"state\", \"legend\": {\"title\": \"State\"}}, \"tooltip\": [{\"type\": \"nominal\", \"field\": \"state\", \"title\": \"State\"}, {\"type\": \"quantitative\", \"field\": \"year\", \"title\": \"Year\"}, {\"type\": \"quantitative\", \"field\": \"total_results\", \"format\": \",\", \"title\": \"Articles\"}], \"x\": {\"type\": \"quantitative\", \"axis\": {\"format\": \"c\", \"title\": \"Year\"}, \"field\": \"year\"}, \"y\": {\"type\": \"quantitative\", \"axis\": {\"format\": \",d\", \"title\": \"Number of articles\"}, \"field\": \"total_results\"}}, \"height\": 250, \"width\": 700}, {\"mark\": {\"type\": \"line\", \"point\": true}, \"encoding\": {\"color\": {\"type\": \"nominal\", \"field\": \"state\", \"legend\": {\"title\": \"State\"}}, \"tooltip\": [{\"type\": \"nominal\", \"field\": \"state\", \"title\": \"State\"}, {\"type\": \"quantitative\", \"field\": \"year\", \"title\": \"Year\"}, {\"type\": \"quantitative\", \"field\": \"proportion\", \"format\": \"%\", \"title\": \"Proportion\"}], \"x\": {\"type\": \"quantitative\", \"axis\": {\"format\": \"c\", \"title\": \"Year\"}, \"field\": \"year\"}, \"y\": {\"type\": \"quantitative\", \"axis\": {\"format\": \"%\", \"title\": \"Proportion of articles\"}, \"field\": \"proportion\", \"stack\": null}}, \"height\": 250, \"width\": 700}], \"data\": {\"name\": \"data-8760f4293a81101b3298b5dc0aefa294\"}, \"$schema\": \"https://vega.github.io/schema/vega-lite/v4.8.1.json\", \"datasets\": {\"data-8760f4293a81101b3298b5dc0aefa294\": [{\"year\": 1803, \"total_results\": 8, \"total_articles\": 526, \"proportion\": 0.015209125475285171, \"state\": \"New South Wales\"}, {\"year\": 1804, \"total_results\": 1, \"total_articles\": 619, \"proportion\": 0.0016155088852988692, \"state\": \"New South Wales\"}, {\"year\": 1805, \"total_results\": 6, \"total_articles\": 430, \"proportion\": 0.013953488372093023, \"state\": \"New South Wales\"}, {\"year\": 1806, \"total_results\": 5, \"total_articles\": 367, \"proportion\": 0.013623978201634877, \"state\": \"New South Wales\"}, {\"year\": 1807, \"total_results\": 1, \"total_articles\": 134, \"proportion\": 0.007462686567164179, \"state\": \"New South Wales\"}, {\"year\": 1808, \"total_results\": 3, \"total_articles\": 155, \"proportion\": 0.01935483870967742, \"state\": \"New South Wales\"}, {\"year\": 1809, \"total_results\": 4, \"total_articles\": 237, \"proportion\": 0.016877637130801686, \"state\": \"New South Wales\"}, {\"year\": 1810, \"total_results\": 1, \"total_articles\": 269, \"proportion\": 0.0037174721189591076, \"state\": \"New South Wales\"}, {\"year\": 1811, \"total_results\": 2, \"total_articles\": 228, \"proportion\": 0.008771929824561403, \"state\": \"New South Wales\"}, {\"year\": 1812, \"total_results\": 4, \"total_articles\": 208, \"proportion\": 0.019230769230769232, \"state\": \"New South Wales\"}, {\"year\": 1813, \"total_results\": 6, \"total_articles\": 234, \"proportion\": 0.02564102564102564, \"state\": \"New South Wales\"}, {\"year\": 1814, \"total_results\": 12, \"total_articles\": 201, \"proportion\": 0.05970149253731343, \"state\": \"New South Wales\"}, {\"year\": 1815, \"total_results\": 5, \"total_articles\": 226, \"proportion\": 0.022123893805309734, \"state\": \"New South Wales\"}, {\"year\": 1816, \"total_results\": 5, \"total_articles\": 485, \"proportion\": 0.010309278350515464, \"state\": \"New South Wales\"}, {\"year\": 1817, \"total_results\": 10, \"total_articles\": 685, \"proportion\": 0.014598540145985401, \"state\": \"New South Wales\"}, {\"year\": 1818, \"total_results\": 8, \"total_articles\": 789, \"proportion\": 0.010139416983523447, \"state\": \"New South Wales\"}, {\"year\": 1819, \"total_results\": 10, \"total_articles\": 717, \"proportion\": 0.01394700139470014, \"state\": \"New South Wales\"}, {\"year\": 1820, \"total_results\": 8, \"total_articles\": 815, \"proportion\": 0.0098159509202454, \"state\": \"New South Wales\"}, {\"year\": 1821, \"total_results\": 7, \"total_articles\": 739, \"proportion\": 0.009472259810554804, \"state\": \"New South Wales\"}, {\"year\": 1822, \"total_results\": 5, \"total_articles\": 821, \"proportion\": 0.0060901339829476245, \"state\": \"New South Wales\"}, {\"year\": 1823, \"total_results\": 10, \"total_articles\": 957, \"proportion\": 0.01044932079414838, \"state\": \"New South Wales\"}, {\"year\": 1824, \"total_results\": 21, \"total_articles\": 1212, \"proportion\": 0.017326732673267328, \"state\": \"New South Wales\"}, {\"year\": 1825, \"total_results\": 26, \"total_articles\": 2157, \"proportion\": 0.01205377839592026, \"state\": \"New South Wales\"}, {\"year\": 1826, \"total_results\": 118, \"total_articles\": 3863, \"proportion\": 0.030546207610665285, \"state\": \"New South Wales\"}, {\"year\": 1827, \"total_results\": 158, \"total_articles\": 5281, \"proportion\": 0.029918576027267562, \"state\": \"New South Wales\"}, {\"year\": 1828, \"total_results\": 197, \"total_articles\": 5055, \"proportion\": 0.03897131552917903, \"state\": \"New South Wales\"}, {\"year\": 1829, \"total_results\": 176, \"total_articles\": 6505, \"proportion\": 0.02705611068408916, \"state\": \"New South Wales\"}, {\"year\": 1830, \"total_results\": 160, \"total_articles\": 5706, \"proportion\": 0.028040658955485454, \"state\": \"New South Wales\"}, {\"year\": 1831, \"total_results\": 162, \"total_articles\": 6686, \"proportion\": 0.024229733772061023, \"state\": \"New South Wales\"}, {\"year\": 1832, \"total_results\": 234, \"total_articles\": 9494, \"proportion\": 0.024647145565620393, \"state\": \"New South Wales\"}, {\"year\": 1833, \"total_results\": 255, \"total_articles\": 8999, \"proportion\": 0.02833648183131459, \"state\": \"New South Wales\"}, {\"year\": 1834, \"total_results\": 314, \"total_articles\": 11211, \"proportion\": 0.02800820622602801, \"state\": \"New South Wales\"}, {\"year\": 1835, \"total_results\": 348, \"total_articles\": 13117, \"proportion\": 0.026530456659297097, \"state\": \"New South Wales\"}, {\"year\": 1836, \"total_results\": 311, \"total_articles\": 14456, \"proportion\": 0.021513558384061982, \"state\": \"New South Wales\"}, {\"year\": 1837, \"total_results\": 442, \"total_articles\": 15102, \"proportion\": 0.029267646669315323, \"state\": \"New South Wales\"}, {\"year\": 1838, \"total_results\": 401, \"total_articles\": 16301, \"proportion\": 0.02459971780872339, \"state\": \"New South Wales\"}, {\"year\": 1839, \"total_results\": 582, \"total_articles\": 20008, \"proportion\": 0.029088364654138346, \"state\": \"New South Wales\"}, {\"year\": 1840, \"total_results\": 868, \"total_articles\": 23187, \"proportion\": 0.0374347694828999, \"state\": \"New South Wales\"}, {\"year\": 1841, \"total_results\": 936, \"total_articles\": 24144, \"proportion\": 0.03876739562624255, \"state\": \"New South Wales\"}, {\"year\": 1842, \"total_results\": 940, \"total_articles\": 22953, \"proportion\": 0.04095325229817453, \"state\": \"New South Wales\"}, {\"year\": 1843, \"total_results\": 881, \"total_articles\": 21118, \"proportion\": 0.04171796571645042, \"state\": \"New South Wales\"}, {\"year\": 1844, \"total_results\": 808, \"total_articles\": 25918, \"proportion\": 0.03117524500347249, \"state\": \"New South Wales\"}, {\"year\": 1845, \"total_results\": 743, \"total_articles\": 24629, \"proportion\": 0.030167688497299932, \"state\": \"New South Wales\"}, {\"year\": 1846, \"total_results\": 673, \"total_articles\": 21481, \"proportion\": 0.031330012569247244, \"state\": \"New South Wales\"}, {\"year\": 1847, \"total_results\": 787, \"total_articles\": 22784, \"proportion\": 0.03454178370786517, \"state\": \"New South Wales\"}, {\"year\": 1848, \"total_results\": 782, \"total_articles\": 22885, \"proportion\": 0.034170854271356785, \"state\": \"New South Wales\"}, {\"year\": 1849, \"total_results\": 501, \"total_articles\": 17807, \"proportion\": 0.028135003088672995, \"state\": \"New South Wales\"}, {\"year\": 1850, \"total_results\": 584, \"total_articles\": 20023, \"proportion\": 0.02916645857264146, \"state\": \"New South Wales\"}, {\"year\": 1851, \"total_results\": 742, \"total_articles\": 31607, \"proportion\": 0.023475812320055685, \"state\": \"New South Wales\"}, {\"year\": 1852, \"total_results\": 1203, \"total_articles\": 33855, \"proportion\": 0.03553389455028799, \"state\": \"New South Wales\"}, {\"year\": 1853, \"total_results\": 1368, \"total_articles\": 34184, \"proportion\": 0.04001872220922069, \"state\": \"New South Wales\"}, {\"year\": 1854, \"total_results\": 1729, \"total_articles\": 38829, \"proportion\": 0.04452857400396611, \"state\": \"New South Wales\"}, {\"year\": 1855, \"total_results\": 1583, \"total_articles\": 46292, \"proportion\": 0.03419597338633025, \"state\": \"New South Wales\"}, {\"year\": 1856, \"total_results\": 1591, \"total_articles\": 54164, \"proportion\": 0.029373753784801712, \"state\": \"New South Wales\"}, {\"year\": 1857, \"total_results\": 2110, \"total_articles\": 56231, \"proportion\": 0.03752378581209653, \"state\": \"New South Wales\"}, {\"year\": 1858, \"total_results\": 2800, \"total_articles\": 51424, \"proportion\": 0.05444928438083385, \"state\": \"New South Wales\"}, {\"year\": 1859, \"total_results\": 2358, \"total_articles\": 54387, \"proportion\": 0.04335594903193778, \"state\": \"New South Wales\"}, {\"year\": 1860, \"total_results\": 3048, \"total_articles\": 65841, \"proportion\": 0.04629334305372033, \"state\": \"New South Wales\"}, {\"year\": 1861, \"total_results\": 5072, \"total_articles\": 66982, \"proportion\": 0.07572183571705832, \"state\": \"New South Wales\"}, {\"year\": 1862, \"total_results\": 2774, \"total_articles\": 64537, \"proportion\": 0.0429830949687776, \"state\": \"New South Wales\"}, {\"year\": 1863, \"total_results\": 2179, \"total_articles\": 64081, \"proportion\": 0.03400383889140307, \"state\": \"New South Wales\"}, {\"year\": 1864, \"total_results\": 2037, \"total_articles\": 68302, \"proportion\": 0.029823431231881935, \"state\": \"New South Wales\"}, {\"year\": 1865, \"total_results\": 2260, \"total_articles\": 72365, \"proportion\": 0.031230567263179715, \"state\": \"New South Wales\"}, {\"year\": 1866, \"total_results\": 2314, \"total_articles\": 73344, \"proportion\": 0.03154995636998255, \"state\": \"New South Wales\"}, {\"year\": 1867, \"total_results\": 2186, \"total_articles\": 71327, \"proportion\": 0.030647580859982895, \"state\": \"New South Wales\"}, {\"year\": 1868, \"total_results\": 2020, \"total_articles\": 72547, \"proportion\": 0.027844018360511116, \"state\": \"New South Wales\"}, {\"year\": 1869, \"total_results\": 1965, \"total_articles\": 81114, \"proportion\": 0.024225164583179228, \"state\": \"New South Wales\"}, {\"year\": 1870, \"total_results\": 2586, \"total_articles\": 99522, \"proportion\": 0.02598420449749804, \"state\": \"New South Wales\"}, {\"year\": 1871, \"total_results\": 3010, \"total_articles\": 99942, \"proportion\": 0.03011746813151628, \"state\": \"New South Wales\"}, {\"year\": 1872, \"total_results\": 2976, \"total_articles\": 112453, \"proportion\": 0.02646438956719696, \"state\": \"New South Wales\"}, {\"year\": 1873, \"total_results\": 3181, \"total_articles\": 113383, \"proportion\": 0.028055352213294762, \"state\": \"New South Wales\"}, {\"year\": 1874, \"total_results\": 3751, \"total_articles\": 125858, \"proportion\": 0.02980342926154873, \"state\": \"New South Wales\"}, {\"year\": 1875, \"total_results\": 4736, \"total_articles\": 126084, \"proportion\": 0.0375622600805812, \"state\": \"New South Wales\"}, {\"year\": 1876, \"total_results\": 4939, \"total_articles\": 128404, \"proportion\": 0.038464533815145946, \"state\": \"New South Wales\"}, {\"year\": 1877, \"total_results\": 5323, \"total_articles\": 129964, \"proportion\": 0.04095749592194762, \"state\": \"New South Wales\"}, {\"year\": 1878, \"total_results\": 6719, \"total_articles\": 149498, \"proportion\": 0.04494374506682364, \"state\": \"New South Wales\"}, {\"year\": 1879, \"total_results\": 7713, \"total_articles\": 179423, \"proportion\": 0.0429877997804072, \"state\": \"New South Wales\"}, {\"year\": 1880, \"total_results\": 8410, \"total_articles\": 187114, \"proportion\": 0.04494586188099234, \"state\": \"New South Wales\"}, {\"year\": 1881, \"total_results\": 10071, \"total_articles\": 197590, \"proportion\": 0.05096917860215598, \"state\": \"New South Wales\"}, {\"year\": 1882, \"total_results\": 6750, \"total_articles\": 202073, \"proportion\": 0.033403769924730174, \"state\": \"New South Wales\"}, {\"year\": 1883, \"total_results\": 8458, \"total_articles\": 209752, \"proportion\": 0.04032381097677257, \"state\": \"New South Wales\"}, {\"year\": 1884, \"total_results\": 8680, \"total_articles\": 247648, \"proportion\": 0.03504974802946117, \"state\": \"New South Wales\"}, {\"year\": 1885, \"total_results\": 7667, \"total_articles\": 276422, \"proportion\": 0.02773657668347671, \"state\": \"New South Wales\"}, {\"year\": 1886, \"total_results\": 7724, \"total_articles\": 308129, \"proportion\": 0.025067423059822347, \"state\": \"New South Wales\"}, {\"year\": 1887, \"total_results\": 8579, \"total_articles\": 307800, \"proportion\": 0.02787199480181936, \"state\": \"New South Wales\"}, {\"year\": 1888, \"total_results\": 15410, \"total_articles\": 358786, \"proportion\": 0.04295039382807579, \"state\": \"New South Wales\"}, {\"year\": 1889, \"total_results\": 8576, \"total_articles\": 413228, \"proportion\": 0.020753675936770983, \"state\": \"New South Wales\"}, {\"year\": 1890, \"total_results\": 8463, \"total_articles\": 465735, \"proportion\": 0.018171277657895585, \"state\": \"New South Wales\"}, {\"year\": 1891, \"total_results\": 10524, \"total_articles\": 489220, \"proportion\": 0.021511794284779853, \"state\": \"New South Wales\"}, {\"year\": 1892, \"total_results\": 10043, \"total_articles\": 510884, \"proportion\": 0.01965808285246749, \"state\": \"New South Wales\"}, {\"year\": 1893, \"total_results\": 10085, \"total_articles\": 518795, \"proportion\": 0.01943927755664569, \"state\": \"New South Wales\"}, {\"year\": 1894, \"total_results\": 12764, \"total_articles\": 553108, \"proportion\": 0.023076867447225497, \"state\": \"New South Wales\"}, {\"year\": 1895, \"total_results\": 15462, \"total_articles\": 599955, \"proportion\": 0.025771932894967122, \"state\": \"New South Wales\"}, {\"year\": 1896, \"total_results\": 11565, \"total_articles\": 622407, \"proportion\": 0.01858108922296825, \"state\": \"New South Wales\"}, {\"year\": 1897, \"total_results\": 10784, \"total_articles\": 615470, \"proportion\": 0.017521568882317578, \"state\": \"New South Wales\"}, {\"year\": 1898, \"total_results\": 15737, \"total_articles\": 715648, \"proportion\": 0.021989860937220534, \"state\": \"New South Wales\"}, {\"year\": 1899, \"total_results\": 14134, \"total_articles\": 864174, \"proportion\": 0.016355502479824664, \"state\": \"New South Wales\"}, {\"year\": 1900, \"total_results\": 27248, \"total_articles\": 938404, \"proportion\": 0.02903653437112374, \"state\": \"New South Wales\"}, {\"year\": 1901, \"total_results\": 19793, \"total_articles\": 968348, \"proportion\": 0.020439965797419937, \"state\": \"New South Wales\"}, {\"year\": 1902, \"total_results\": 18127, \"total_articles\": 1009183, \"proportion\": 0.017962054453949383, \"state\": \"New South Wales\"}, {\"year\": 1903, \"total_results\": 17568, \"total_articles\": 1012659, \"proportion\": 0.017348386771855087, \"state\": \"New South Wales\"}, {\"year\": 1904, \"total_results\": 27624, \"total_articles\": 1055839, \"proportion\": 0.026163079787732788, \"state\": \"New South Wales\"}, {\"year\": 1905, \"total_results\": 21053, \"total_articles\": 1087004, \"proportion\": 0.019367914009516065, \"state\": \"New South Wales\"}, {\"year\": 1906, \"total_results\": 20521, \"total_articles\": 1128527, \"proportion\": 0.018183880403393096, \"state\": \"New South Wales\"}, {\"year\": 1907, \"total_results\": 20088, \"total_articles\": 1192777, \"proportion\": 0.016841371019058884, \"state\": \"New South Wales\"}, {\"year\": 1908, \"total_results\": 19037, \"total_articles\": 1125427, \"proportion\": 0.01691535745987967, \"state\": \"New South Wales\"}, {\"year\": 1909, \"total_results\": 19294, \"total_articles\": 1167606, \"proportion\": 0.01652440977521527, \"state\": \"New South Wales\"}, {\"year\": 1910, \"total_results\": 17776, \"total_articles\": 1227928, \"proportion\": 0.014476418812829416, \"state\": \"New South Wales\"}, {\"year\": 1911, \"total_results\": 22628, \"total_articles\": 1374022, \"proportion\": 0.01646844082554719, \"state\": \"New South Wales\"}, {\"year\": 1912, \"total_results\": 22253, \"total_articles\": 1435116, \"proportion\": 0.015506063621337926, \"state\": \"New South Wales\"}, {\"year\": 1913, \"total_results\": 21499, \"total_articles\": 1458170, \"proportion\": 0.01474382273671794, \"state\": \"New South Wales\"}, {\"year\": 1914, \"total_results\": 20942, \"total_articles\": 1519883, \"proportion\": 0.013778692175647731, \"state\": \"New South Wales\"}, {\"year\": 1915, \"total_results\": 19495, \"total_articles\": 1532746, \"proportion\": 0.012719002365688771, \"state\": \"New South Wales\"}, {\"year\": 1916, \"total_results\": 18098, \"total_articles\": 1389454, \"proportion\": 0.013025260282096421, \"state\": \"New South Wales\"}, {\"year\": 1917, \"total_results\": 18461, \"total_articles\": 1304951, \"proportion\": 0.014146891339215036, \"state\": \"New South Wales\"}, {\"year\": 1918, \"total_results\": 18279, \"total_articles\": 1228862, \"proportion\": 0.014874737765509878, \"state\": \"New South Wales\"}, {\"year\": 1919, \"total_results\": 22289, \"total_articles\": 1277551, \"proportion\": 0.0174466616205537, \"state\": \"New South Wales\"}, {\"year\": 1920, \"total_results\": 21044, \"total_articles\": 1181208, \"proportion\": 0.017815659900711815, \"state\": \"New South Wales\"}, {\"year\": 1921, \"total_results\": 23271, \"total_articles\": 1244473, \"proportion\": 0.018699481627966214, \"state\": \"New South Wales\"}, {\"year\": 1922, \"total_results\": 20369, \"total_articles\": 1241941, \"proportion\": 0.016400940141278852, \"state\": \"New South Wales\"}, {\"year\": 1923, \"total_results\": 21929, \"total_articles\": 1324713, \"proportion\": 0.016553774289223402, \"state\": \"New South Wales\"}, {\"year\": 1924, \"total_results\": 22377, \"total_articles\": 1406199, \"proportion\": 0.01591311044880561, \"state\": \"New South Wales\"}, {\"year\": 1925, \"total_results\": 22808, \"total_articles\": 1421614, \"proportion\": 0.016043736204061017, \"state\": \"New South Wales\"}, {\"year\": 1926, \"total_results\": 24681, \"total_articles\": 1461264, \"proportion\": 0.016890171796472096, \"state\": \"New South Wales\"}, {\"year\": 1927, \"total_results\": 33646, \"total_articles\": 1514571, \"proportion\": 0.02221487140583043, \"state\": \"New South Wales\"}, {\"year\": 1928, \"total_results\": 26678, \"total_articles\": 1517030, \"proportion\": 0.017585677277311588, \"state\": \"New South Wales\"}, {\"year\": 1929, \"total_results\": 26915, \"total_articles\": 1628570, \"proportion\": 0.0165267688831306, \"state\": \"New South Wales\"}, {\"year\": 1930, \"total_results\": 22319, \"total_articles\": 1575542, \"proportion\": 0.014165918775887916, \"state\": \"New South Wales\"}, {\"year\": 1931, \"total_results\": 19816, \"total_articles\": 1444946, \"proportion\": 0.013714007305463318, \"state\": \"New South Wales\"}, {\"year\": 1932, \"total_results\": 21643, \"total_articles\": 1420419, \"proportion\": 0.01523705329202158, \"state\": \"New South Wales\"}, {\"year\": 1933, \"total_results\": 21280, \"total_articles\": 1478412, \"proportion\": 0.014393822560964062, \"state\": \"New South Wales\"}, {\"year\": 1934, \"total_results\": 19347, \"total_articles\": 1525248, \"proportion\": 0.012684494587109768, \"state\": \"New South Wales\"}, {\"year\": 1935, \"total_results\": 20713, \"total_articles\": 1572692, \"proportion\": 0.013170410989564391, \"state\": \"New South Wales\"}, {\"year\": 1936, \"total_results\": 20074, \"total_articles\": 1608686, \"proportion\": 0.012478507303476253, \"state\": \"New South Wales\"}, {\"year\": 1937, \"total_results\": 27863, \"total_articles\": 1591908, \"proportion\": 0.01750289589599399, \"state\": \"New South Wales\"}, {\"year\": 1938, \"total_results\": 27182, \"total_articles\": 1634342, \"proportion\": 0.016631769849884542, \"state\": \"New South Wales\"}, {\"year\": 1939, \"total_results\": 21207, \"total_articles\": 1520014, \"proportion\": 0.013951845180373339, \"state\": \"New South Wales\"}, {\"year\": 1940, \"total_results\": 16290, \"total_articles\": 1309551, \"proportion\": 0.012439378076913385, \"state\": \"New South Wales\"}, {\"year\": 1941, \"total_results\": 17393, \"total_articles\": 1176686, \"proportion\": 0.014781343535998559, \"state\": \"New South Wales\"}, {\"year\": 1942, \"total_results\": 17951, \"total_articles\": 955225, \"proportion\": 0.018792431102619803, \"state\": \"New South Wales\"}, {\"year\": 1943, \"total_results\": 11402, \"total_articles\": 860777, \"proportion\": 0.01324617177271233, \"state\": \"New South Wales\"}, {\"year\": 1944, \"total_results\": 11850, \"total_articles\": 866495, \"proportion\": 0.013675785780645013, \"state\": \"New South Wales\"}, {\"year\": 1945, \"total_results\": 13628, \"total_articles\": 918247, \"proportion\": 0.014841322650659353, \"state\": \"New South Wales\"}, {\"year\": 1946, \"total_results\": 12129, \"total_articles\": 994505, \"proportion\": 0.01219601711404166, \"state\": \"New South Wales\"}, {\"year\": 1947, \"total_results\": 11702, \"total_articles\": 987635, \"proportion\": 0.011848506786414009, \"state\": \"New South Wales\"}, {\"year\": 1948, \"total_results\": 10915, \"total_articles\": 904454, \"proportion\": 0.012068054317853644, \"state\": \"New South Wales\"}, {\"year\": 1949, \"total_results\": 12844, \"total_articles\": 955173, \"proportion\": 0.013446778751074412, \"state\": \"New South Wales\"}, {\"year\": 1950, \"total_results\": 15206, \"total_articles\": 1000109, \"proportion\": 0.015204342726642795, \"state\": \"New South Wales\"}, {\"year\": 1951, \"total_results\": 16152, \"total_articles\": 945593, \"proportion\": 0.017081344722306532, \"state\": \"New South Wales\"}, {\"year\": 1952, \"total_results\": 11921, \"total_articles\": 953878, \"proportion\": 0.01249740532856403, \"state\": \"New South Wales\"}, {\"year\": 1953, \"total_results\": 13819, \"total_articles\": 1007737, \"proportion\": 0.013712903267419972, \"state\": \"New South Wales\"}, {\"year\": 1954, \"total_results\": 12567, \"total_articles\": 1035058, \"proportion\": 0.01214134860075474, \"state\": \"New South Wales\"}, {\"year\": 1955, \"total_results\": 811, \"total_articles\": 77095, \"proportion\": 0.010519488942214151, \"state\": \"New South Wales\"}, {\"year\": 1956, \"total_results\": 467, \"total_articles\": 40827, \"proportion\": 0.01143850882994097, \"state\": \"New South Wales\"}, {\"year\": 1957, \"total_results\": 521, \"total_articles\": 49005, \"proportion\": 0.010631568207325783, \"state\": \"New South Wales\"}, {\"year\": 1958, \"total_results\": 604, \"total_articles\": 49493, \"proportion\": 0.012203745984280605, \"state\": \"New South Wales\"}, {\"year\": 1959, \"total_results\": 603, \"total_articles\": 44700, \"proportion\": 0.01348993288590604, \"state\": \"New South Wales\"}, {\"year\": 1960, \"total_results\": 582, \"total_articles\": 41169, \"proportion\": 0.01413685054288421, \"state\": \"New South Wales\"}, {\"year\": 1961, \"total_results\": 481, \"total_articles\": 32597, \"proportion\": 0.014755959137343927, \"state\": \"New South Wales\"}, {\"year\": 1962, \"total_results\": 445, \"total_articles\": 28235, \"proportion\": 0.015760580839383743, \"state\": \"New South Wales\"}, {\"year\": 1963, \"total_results\": 319, \"total_articles\": 22636, \"proportion\": 0.014092595864993816, \"state\": \"New South Wales\"}, {\"year\": 1964, \"total_results\": 288, \"total_articles\": 20656, \"proportion\": 0.013942680092951201, \"state\": \"New South Wales\"}, {\"year\": 1965, \"total_results\": 269, \"total_articles\": 21089, \"proportion\": 0.012755464934325953, \"state\": \"New South Wales\"}, {\"year\": 1966, \"total_results\": 302, \"total_articles\": 20082, \"proportion\": 0.015038342794542376, \"state\": \"New South Wales\"}, {\"year\": 1967, \"total_results\": 311, \"total_articles\": 20028, \"proportion\": 0.015528260435390453, \"state\": \"New South Wales\"}, {\"year\": 1968, \"total_results\": 174, \"total_articles\": 20055, \"proportion\": 0.008676140613313389, \"state\": \"New South Wales\"}, {\"year\": 1969, \"total_results\": 200, \"total_articles\": 18298, \"proportion\": 0.010930156301235108, \"state\": \"New South Wales\"}, {\"year\": 1970, \"total_results\": 168, \"total_articles\": 19104, \"proportion\": 0.008793969849246231, \"state\": \"New South Wales\"}, {\"year\": 1971, \"total_results\": 218, \"total_articles\": 16277, \"proportion\": 0.013393131412422437, \"state\": \"New South Wales\"}, {\"year\": 1972, \"total_results\": 180, \"total_articles\": 17497, \"proportion\": 0.010287477853346287, \"state\": \"New South Wales\"}, {\"year\": 1973, \"total_results\": 194, \"total_articles\": 19285, \"proportion\": 0.01005963183821623, \"state\": \"New South Wales\"}, {\"year\": 1974, \"total_results\": 245, \"total_articles\": 21314, \"proportion\": 0.011494792155390824, \"state\": \"New South Wales\"}, {\"year\": 1975, \"total_results\": 178, \"total_articles\": 19194, \"proportion\": 0.00927373137438783, \"state\": \"New South Wales\"}, {\"year\": 1976, \"total_results\": 232, \"total_articles\": 17805, \"proportion\": 0.013030047739399045, \"state\": \"New South Wales\"}, {\"year\": 1977, \"total_results\": 180, \"total_articles\": 16753, \"proportion\": 0.010744344296543903, \"state\": \"New South Wales\"}, {\"year\": 1978, \"total_results\": 184, \"total_articles\": 14107, \"proportion\": 0.013043170057418303, \"state\": \"New South Wales\"}, {\"year\": 1979, \"total_results\": 61, \"total_articles\": 8359, \"proportion\": 0.007297523627228138, \"state\": \"New South Wales\"}, {\"year\": 1980, \"total_results\": 120, \"total_articles\": 8286, \"proportion\": 0.01448225923244026, \"state\": \"New South Wales\"}, {\"year\": 1981, \"total_results\": 133, \"total_articles\": 7657, \"proportion\": 0.017369727047146403, \"state\": \"New South Wales\"}, {\"year\": 1982, \"total_results\": 94, \"total_articles\": 6996, \"proportion\": 0.013436249285305889, \"state\": \"New South Wales\"}, {\"year\": 1983, \"total_results\": 75, \"total_articles\": 7040, \"proportion\": 0.01065340909090909, \"state\": \"New South Wales\"}, {\"year\": 1984, \"total_results\": 62, \"total_articles\": 5804, \"proportion\": 0.010682288077188146, \"state\": \"New South Wales\"}, {\"year\": 1985, \"total_results\": 96, \"total_articles\": 6226, \"proportion\": 0.015419209765499518, \"state\": \"New South Wales\"}, {\"year\": 1986, \"total_results\": 79, \"total_articles\": 5894, \"proportion\": 0.01340346114692908, \"state\": \"New South Wales\"}, {\"year\": 1987, \"total_results\": 94, \"total_articles\": 6174, \"proportion\": 0.015225137674117265, \"state\": \"New South Wales\"}, {\"year\": 1988, \"total_results\": 121, \"total_articles\": 7475, \"proportion\": 0.016187290969899664, \"state\": \"New South Wales\"}, {\"year\": 1989, \"total_results\": 188, \"total_articles\": 7461, \"proportion\": 0.025197694678997455, \"state\": \"New South Wales\"}, {\"year\": 1990, \"total_results\": 137, \"total_articles\": 7477, \"proportion\": 0.018322856760732913, \"state\": \"New South Wales\"}, {\"year\": 1991, \"total_results\": 152, \"total_articles\": 8356, \"proportion\": 0.018190521780756343, \"state\": \"New South Wales\"}, {\"year\": 1992, \"total_results\": 133, \"total_articles\": 9268, \"proportion\": 0.014350453172205438, \"state\": \"New South Wales\"}, {\"year\": 1993, \"total_results\": 113, \"total_articles\": 9248, \"proportion\": 0.012218858131487889, \"state\": \"New South Wales\"}, {\"year\": 1994, \"total_results\": 95, \"total_articles\": 8077, \"proportion\": 0.011761792744831, \"state\": \"New South Wales\"}, {\"year\": 1995, \"total_results\": 126, \"total_articles\": 9127, \"proportion\": 0.013805193382272379, \"state\": \"New South Wales\"}, {\"year\": 1996, \"total_results\": 178, \"total_articles\": 9838, \"proportion\": 0.01809310835535678, \"state\": \"New South Wales\"}, {\"year\": 1997, \"total_results\": 155, \"total_articles\": 10172, \"proportion\": 0.0152379079826976, \"state\": \"New South Wales\"}, {\"year\": 1998, \"total_results\": 138, \"total_articles\": 16658, \"proportion\": 0.008284307840076839, \"state\": \"New South Wales\"}, {\"year\": 1999, \"total_results\": 250, \"total_articles\": 26882, \"proportion\": 0.009299903281005878, \"state\": \"New South Wales\"}, {\"year\": 2000, \"total_results\": 179, \"total_articles\": 25914, \"proportion\": 0.006907463147333487, \"state\": \"New South Wales\"}, {\"year\": 2001, \"total_results\": 234, \"total_articles\": 24957, \"proportion\": 0.009376126938333935, \"state\": \"New South Wales\"}, {\"year\": 2002, \"total_results\": 229, \"total_articles\": 25180, \"proportion\": 0.009094519459888801, \"state\": \"New South Wales\"}, {\"year\": 2003, \"total_results\": 95, \"total_articles\": 6806, \"proportion\": 0.01395827211284161, \"state\": \"New South Wales\"}, {\"year\": 2004, \"total_results\": 75, \"total_articles\": 5629, \"proportion\": 0.013323858589447504, \"state\": \"New South Wales\"}, {\"year\": 2005, \"total_results\": 63, \"total_articles\": 1626, \"proportion\": 0.03874538745387454, \"state\": \"New South Wales\"}, {\"year\": 2006, \"total_results\": 32, \"total_articles\": 986, \"proportion\": 0.032454361054766734, \"state\": \"New South Wales\"}, {\"year\": 2007, \"total_results\": 44, \"total_articles\": 943, \"proportion\": 0.04665959703075292, \"state\": \"New South Wales\"}, {\"year\": 2008, \"total_results\": 29, \"total_articles\": 1075, \"proportion\": 0.026976744186046512, \"state\": \"New South Wales\"}, {\"year\": 2009, \"total_results\": 24, \"total_articles\": 730, \"proportion\": 0.03287671232876712, \"state\": \"New South Wales\"}, {\"year\": 2010, \"total_results\": 11, \"total_articles\": 599, \"proportion\": 0.018363939899833055, \"state\": \"New South Wales\"}, {\"year\": 2011, \"total_results\": 8, \"total_articles\": 251, \"proportion\": 0.03187250996015936, \"state\": \"New South Wales\"}, {\"year\": 1838, \"total_results\": 3, \"total_articles\": 263, \"proportion\": 0.011406844106463879, \"state\": \"Victoria\"}, {\"year\": 1839, \"total_results\": 37, \"total_articles\": 2091, \"proportion\": 0.017694882831181254, \"state\": \"Victoria\"}, {\"year\": 1840, \"total_results\": 75, \"total_articles\": 2516, \"proportion\": 0.029809220985691574, \"state\": \"Victoria\"}, {\"year\": 1841, \"total_results\": 200, \"total_articles\": 5119, \"proportion\": 0.039070130884938464, \"state\": \"Victoria\"}, {\"year\": 1842, \"total_results\": 203, \"total_articles\": 5635, \"proportion\": 0.03602484472049689, \"state\": \"Victoria\"}, {\"year\": 1843, \"total_results\": 165, \"total_articles\": 5400, \"proportion\": 0.030555555555555555, \"state\": \"Victoria\"}, {\"year\": 1844, \"total_results\": 116, \"total_articles\": 4823, \"proportion\": 0.024051420277835373, \"state\": \"Victoria\"}, {\"year\": 1845, \"total_results\": 182, \"total_articles\": 9531, \"proportion\": 0.019095582834959605, \"state\": \"Victoria\"}, {\"year\": 1846, \"total_results\": 291, \"total_articles\": 11964, \"proportion\": 0.02432296890672016, \"state\": \"Victoria\"}, {\"year\": 1847, \"total_results\": 417, \"total_articles\": 12400, \"proportion\": 0.03362903225806452, \"state\": \"Victoria\"}, {\"year\": 1848, \"total_results\": 581, \"total_articles\": 12150, \"proportion\": 0.047818930041152265, \"state\": \"Victoria\"}, {\"year\": 1849, \"total_results\": 504, \"total_articles\": 14888, \"proportion\": 0.0338527673293928, \"state\": \"Victoria\"}, {\"year\": 1850, \"total_results\": 612, \"total_articles\": 18358, \"proportion\": 0.03333696481098159, \"state\": \"Victoria\"}, {\"year\": 1851, \"total_results\": 605, \"total_articles\": 19008, \"proportion\": 0.031828703703703706, \"state\": \"Victoria\"}, {\"year\": 1852, \"total_results\": 657, \"total_articles\": 12291, \"proportion\": 0.05345374664388577, \"state\": \"Victoria\"}, {\"year\": 1853, \"total_results\": 1236, \"total_articles\": 17623, \"proportion\": 0.0701356182261817, \"state\": \"Victoria\"}, {\"year\": 1854, \"total_results\": 1552, \"total_articles\": 25451, \"proportion\": 0.06097992220344976, \"state\": \"Victoria\"}, {\"year\": 1855, \"total_results\": 2669, \"total_articles\": 39551, \"proportion\": 0.06748249096103764, \"state\": \"Victoria\"}, {\"year\": 1856, \"total_results\": 3394, \"total_articles\": 42863, \"proportion\": 0.0791825117233978, \"state\": \"Victoria\"}, {\"year\": 1857, \"total_results\": 5825, \"total_articles\": 53460, \"proportion\": 0.10895997007108119, \"state\": \"Victoria\"}, {\"year\": 1858, \"total_results\": 5025, \"total_articles\": 56486, \"proportion\": 0.08896009630704954, \"state\": \"Victoria\"}, {\"year\": 1859, \"total_results\": 6202, \"total_articles\": 68494, \"proportion\": 0.09054807720384267, \"state\": \"Victoria\"}, {\"year\": 1860, \"total_results\": 4788, \"total_articles\": 70455, \"proportion\": 0.06795827123695976, \"state\": \"Victoria\"}, {\"year\": 1861, \"total_results\": 6196, \"total_articles\": 77769, \"proportion\": 0.07967184868006533, \"state\": \"Victoria\"}, {\"year\": 1862, \"total_results\": 5735, \"total_articles\": 82739, \"proportion\": 0.06931434994379918, \"state\": \"Victoria\"}, {\"year\": 1863, \"total_results\": 6277, \"total_articles\": 86290, \"proportion\": 0.07274307567504926, \"state\": \"Victoria\"}, {\"year\": 1864, \"total_results\": 5398, \"total_articles\": 88559, \"proportion\": 0.06095371447283732, \"state\": \"Victoria\"}, {\"year\": 1865, \"total_results\": 5646, \"total_articles\": 99454, \"proportion\": 0.056769964003458885, \"state\": \"Victoria\"}, {\"year\": 1866, \"total_results\": 5315, \"total_articles\": 98571, \"proportion\": 0.053920524292134606, \"state\": \"Victoria\"}, {\"year\": 1867, \"total_results\": 5388, \"total_articles\": 105099, \"proportion\": 0.05126594924785202, \"state\": \"Victoria\"}, {\"year\": 1868, \"total_results\": 5046, \"total_articles\": 102303, \"proportion\": 0.04932406674291077, \"state\": \"Victoria\"}, {\"year\": 1869, \"total_results\": 5433, \"total_articles\": 107016, \"proportion\": 0.05076810944157883, \"state\": \"Victoria\"}, {\"year\": 1870, \"total_results\": 6189, \"total_articles\": 120745, \"proportion\": 0.051256780819081534, \"state\": \"Victoria\"}, {\"year\": 1871, \"total_results\": 5974, \"total_articles\": 119302, \"proportion\": 0.05007460059345191, \"state\": \"Victoria\"}, {\"year\": 1872, \"total_results\": 5670, \"total_articles\": 118278, \"proportion\": 0.04793790899406483, \"state\": \"Victoria\"}, {\"year\": 1873, \"total_results\": 6892, \"total_articles\": 139050, \"proportion\": 0.049564904710535776, \"state\": \"Victoria\"}, {\"year\": 1874, \"total_results\": 6707, \"total_articles\": 134448, \"proportion\": 0.04988545757467571, \"state\": \"Victoria\"}, {\"year\": 1875, \"total_results\": 7995, \"total_articles\": 148564, \"proportion\": 0.05381519075953798, \"state\": \"Victoria\"}, {\"year\": 1876, \"total_results\": 7933, \"total_articles\": 148286, \"proportion\": 0.05349797013878586, \"state\": \"Victoria\"}, {\"year\": 1877, \"total_results\": 8021, \"total_articles\": 158665, \"proportion\": 0.05055305202785743, \"state\": \"Victoria\"}, {\"year\": 1878, \"total_results\": 7615, \"total_articles\": 170687, \"proportion\": 0.044613825305969405, \"state\": \"Victoria\"}, {\"year\": 1879, \"total_results\": 7443, \"total_articles\": 177276, \"proportion\": 0.041985378731469576, \"state\": \"Victoria\"}, {\"year\": 1880, \"total_results\": 8014, \"total_articles\": 185765, \"proportion\": 0.0431405270099319, \"state\": \"Victoria\"}, {\"year\": 1881, \"total_results\": 7667, \"total_articles\": 193639, \"proportion\": 0.039594296603473474, \"state\": \"Victoria\"}, {\"year\": 1882, \"total_results\": 7366, \"total_articles\": 253800, \"proportion\": 0.029022852639873916, \"state\": \"Victoria\"}, {\"year\": 1883, \"total_results\": 9145, \"total_articles\": 251397, \"proportion\": 0.03637672685036019, \"state\": \"Victoria\"}, {\"year\": 1884, \"total_results\": 9861, \"total_articles\": 253086, \"proportion\": 0.0389630402313838, \"state\": \"Victoria\"}, {\"year\": 1885, \"total_results\": 9347, \"total_articles\": 249414, \"proportion\": 0.037475843376875394, \"state\": \"Victoria\"}, {\"year\": 1886, \"total_results\": 8538, \"total_articles\": 275028, \"proportion\": 0.031044111872245737, \"state\": \"Victoria\"}, {\"year\": 1887, \"total_results\": 11322, \"total_articles\": 312071, \"proportion\": 0.036280205466063815, \"state\": \"Victoria\"}, {\"year\": 1888, \"total_results\": 13253, \"total_articles\": 320341, \"proportion\": 0.0413715384543346, \"state\": \"Victoria\"}, {\"year\": 1889, \"total_results\": 10024, \"total_articles\": 320124, \"proportion\": 0.03131286626432257, \"state\": \"Victoria\"}, {\"year\": 1890, \"total_results\": 9044, \"total_articles\": 343123, \"proportion\": 0.026357894982265834, \"state\": \"Victoria\"}, {\"year\": 1891, \"total_results\": 11081, \"total_articles\": 370217, \"proportion\": 0.02993109446621846, \"state\": \"Victoria\"}, {\"year\": 1892, \"total_results\": 9506, \"total_articles\": 363829, \"proportion\": 0.026127658872712182, \"state\": \"Victoria\"}, {\"year\": 1893, \"total_results\": 10263, \"total_articles\": 368803, \"proportion\": 0.027827864740796578, \"state\": \"Victoria\"}, {\"year\": 1894, \"total_results\": 11169, \"total_articles\": 372765, \"proportion\": 0.029962576958673694, \"state\": \"Victoria\"}, {\"year\": 1895, \"total_results\": 12039, \"total_articles\": 384396, \"proportion\": 0.031319264508475636, \"state\": \"Victoria\"}, {\"year\": 1896, \"total_results\": 10194, \"total_articles\": 377580, \"proportion\": 0.026998252026060703, \"state\": \"Victoria\"}, {\"year\": 1897, \"total_results\": 9942, \"total_articles\": 387678, \"proportion\": 0.025644994041446767, \"state\": \"Victoria\"}, {\"year\": 1898, \"total_results\": 12829, \"total_articles\": 416983, \"proportion\": 0.030766242268869474, \"state\": \"Victoria\"}, {\"year\": 1899, \"total_results\": 10617, \"total_articles\": 440554, \"proportion\": 0.024099202367927654, \"state\": \"Victoria\"}, {\"year\": 1900, \"total_results\": 17736, \"total_articles\": 468126, \"proportion\": 0.03788723548788147, \"state\": \"Victoria\"}, {\"year\": 1901, \"total_results\": 13861, \"total_articles\": 504990, \"proportion\": 0.027448068278579773, \"state\": \"Victoria\"}, {\"year\": 1902, \"total_results\": 13200, \"total_articles\": 531210, \"proportion\": 0.02484892980177331, \"state\": \"Victoria\"}, {\"year\": 1903, \"total_results\": 13483, \"total_articles\": 539210, \"proportion\": 0.025005100053782384, \"state\": \"Victoria\"}, {\"year\": 1904, \"total_results\": 17719, \"total_articles\": 562694, \"proportion\": 0.03148958403679442, \"state\": \"Victoria\"}, {\"year\": 1905, \"total_results\": 13081, \"total_articles\": 572853, \"proportion\": 0.02283482848130323, \"state\": \"Victoria\"}, {\"year\": 1906, \"total_results\": 13421, \"total_articles\": 586445, \"proportion\": 0.022885351567495674, \"state\": \"Victoria\"}, {\"year\": 1907, \"total_results\": 12734, \"total_articles\": 608044, \"proportion\": 0.020942563367124748, \"state\": \"Victoria\"}, {\"year\": 1908, \"total_results\": 13673, \"total_articles\": 629520, \"proportion\": 0.02171972296352777, \"state\": \"Victoria\"}, {\"year\": 1909, \"total_results\": 14530, \"total_articles\": 649035, \"proportion\": 0.022387082360735555, \"state\": \"Victoria\"}, {\"year\": 1910, \"total_results\": 14048, \"total_articles\": 695708, \"proportion\": 0.020192379561540186, \"state\": \"Victoria\"}, {\"year\": 1911, \"total_results\": 13542, \"total_articles\": 653750, \"proportion\": 0.02071434034416826, \"state\": \"Victoria\"}, {\"year\": 1912, \"total_results\": 14068, \"total_articles\": 694894, \"proportion\": 0.020244814317003746, \"state\": \"Victoria\"}, {\"year\": 1913, \"total_results\": 14760, \"total_articles\": 676281, \"proportion\": 0.021825247197540667, \"state\": \"Victoria\"}, {\"year\": 1914, \"total_results\": 23714, \"total_articles\": 1250375, \"proportion\": 0.01896551034689593, \"state\": \"Victoria\"}, {\"year\": 1915, \"total_results\": 20597, \"total_articles\": 1315491, \"proportion\": 0.01565727169551141, \"state\": \"Victoria\"}, {\"year\": 1916, \"total_results\": 19980, \"total_articles\": 1183648, \"proportion\": 0.016880018383843846, \"state\": \"Victoria\"}, {\"year\": 1917, \"total_results\": 20874, \"total_articles\": 1100198, \"proportion\": 0.018972948505632622, \"state\": \"Victoria\"}, {\"year\": 1918, \"total_results\": 20447, \"total_articles\": 1043250, \"proportion\": 0.01959932901988977, \"state\": \"Victoria\"}, {\"year\": 1919, \"total_results\": 10447, \"total_articles\": 424137, \"proportion\": 0.02463119227985297, \"state\": \"Victoria\"}, {\"year\": 1920, \"total_results\": 11011, \"total_articles\": 405934, \"proportion\": 0.027125099154049672, \"state\": \"Victoria\"}, {\"year\": 1921, \"total_results\": 11945, \"total_articles\": 429493, \"proportion\": 0.027811861892976138, \"state\": \"Victoria\"}, {\"year\": 1922, \"total_results\": 11951, \"total_articles\": 464884, \"proportion\": 0.025707488319666842, \"state\": \"Victoria\"}, {\"year\": 1923, \"total_results\": 12717, \"total_articles\": 493524, \"proportion\": 0.025767743817929827, \"state\": \"Victoria\"}, {\"year\": 1924, \"total_results\": 13080, \"total_articles\": 535800, \"proportion\": 0.024412094064949607, \"state\": \"Victoria\"}, {\"year\": 1925, \"total_results\": 12724, \"total_articles\": 520188, \"proportion\": 0.024460387398402117, \"state\": \"Victoria\"}, {\"year\": 1926, \"total_results\": 13727, \"total_articles\": 516079, \"proportion\": 0.026598640905752802, \"state\": \"Victoria\"}, {\"year\": 1927, \"total_results\": 14318, \"total_articles\": 515475, \"proportion\": 0.027776322809059607, \"state\": \"Victoria\"}, {\"year\": 1928, \"total_results\": 13186, \"total_articles\": 516269, \"proportion\": 0.025540948613997742, \"state\": \"Victoria\"}, {\"year\": 1929, \"total_results\": 12317, \"total_articles\": 483508, \"proportion\": 0.02547424241170777, \"state\": \"Victoria\"}, {\"year\": 1930, \"total_results\": 10315, \"total_articles\": 469437, \"proportion\": 0.021973129514716565, \"state\": \"Victoria\"}, {\"year\": 1931, \"total_results\": 10289, \"total_articles\": 433891, \"proportion\": 0.023713328923623676, \"state\": \"Victoria\"}, {\"year\": 1932, \"total_results\": 9973, \"total_articles\": 428713, \"proportion\": 0.023262648904978388, \"state\": \"Victoria\"}, {\"year\": 1933, \"total_results\": 10063, \"total_articles\": 464685, \"proportion\": 0.02165553009027621, \"state\": \"Victoria\"}, {\"year\": 1934, \"total_results\": 8957, \"total_articles\": 526773, \"proportion\": 0.01700352903432788, \"state\": \"Victoria\"}, {\"year\": 1935, \"total_results\": 9242, \"total_articles\": 537242, \"proportion\": 0.01720267588907792, \"state\": \"Victoria\"}, {\"year\": 1936, \"total_results\": 8891, \"total_articles\": 535647, \"proportion\": 0.016598618119769176, \"state\": \"Victoria\"}, {\"year\": 1937, \"total_results\": 10926, \"total_articles\": 528016, \"proportion\": 0.020692554771067545, \"state\": \"Victoria\"}, {\"year\": 1938, \"total_results\": 9785, \"total_articles\": 519939, \"proportion\": 0.018819515366225652, \"state\": \"Victoria\"}, {\"year\": 1939, \"total_results\": 8058, \"total_articles\": 488246, \"proportion\": 0.01650397545499605, \"state\": \"Victoria\"}, {\"year\": 1940, \"total_results\": 5894, \"total_articles\": 402954, \"proportion\": 0.014626979754512923, \"state\": \"Victoria\"}, {\"year\": 1941, \"total_results\": 6205, \"total_articles\": 345166, \"proportion\": 0.017976857512037685, \"state\": \"Victoria\"}, {\"year\": 1942, \"total_results\": 5852, \"total_articles\": 262960, \"proportion\": 0.022254335260115606, \"state\": \"Victoria\"}, {\"year\": 1943, \"total_results\": 4672, \"total_articles\": 225599, \"proportion\": 0.02070931165475024, \"state\": \"Victoria\"}, {\"year\": 1944, \"total_results\": 4661, \"total_articles\": 248088, \"proportion\": 0.018787688239656895, \"state\": \"Victoria\"}, {\"year\": 1945, \"total_results\": 5271, \"total_articles\": 261284, \"proportion\": 0.02017345111066885, \"state\": \"Victoria\"}, {\"year\": 1946, \"total_results\": 5442, \"total_articles\": 329179, \"proportion\": 0.016532038799558904, \"state\": \"Victoria\"}, {\"year\": 1947, \"total_results\": 5215, \"total_articles\": 336289, \"proportion\": 0.01550749504146731, \"state\": \"Victoria\"}, {\"year\": 1948, \"total_results\": 4386, \"total_articles\": 269924, \"proportion\": 0.01624901824217187, \"state\": \"Victoria\"}, {\"year\": 1949, \"total_results\": 6076, \"total_articles\": 341173, \"proportion\": 0.017809146679250702, \"state\": \"Victoria\"}, {\"year\": 1950, \"total_results\": 6608, \"total_articles\": 345191, \"proportion\": 0.01914302516577779, \"state\": \"Victoria\"}, {\"year\": 1951, \"total_results\": 6286, \"total_articles\": 317759, \"proportion\": 0.01978228783449092, \"state\": \"Victoria\"}, {\"year\": 1952, \"total_results\": 5395, \"total_articles\": 319205, \"proportion\": 0.01690136432699989, \"state\": \"Victoria\"}, {\"year\": 1953, \"total_results\": 5727, \"total_articles\": 337186, \"proportion\": 0.016984690942091308, \"state\": \"Victoria\"}, {\"year\": 1954, \"total_results\": 5645, \"total_articles\": 340632, \"proportion\": 0.016572136499213228, \"state\": \"Victoria\"}, {\"year\": 1955, \"total_results\": 1395, \"total_articles\": 71860, \"proportion\": 0.01941274700807125, \"state\": \"Victoria\"}, {\"year\": 1956, \"total_results\": 982, \"total_articles\": 66758, \"proportion\": 0.01470984750891279, \"state\": \"Victoria\"}, {\"year\": 1957, \"total_results\": 69, \"total_articles\": 3259, \"proportion\": 0.02117213869285057, \"state\": \"Victoria\"}, {\"year\": 1965, \"total_results\": 2, \"total_articles\": 332, \"proportion\": 0.006024096385542169, \"state\": \"Victoria\"}, {\"year\": 1992, \"total_results\": 4, \"total_articles\": 332, \"proportion\": 0.012048192771084338, \"state\": \"Victoria\"}, {\"year\": 2007, \"total_results\": 3, \"total_articles\": 429, \"proportion\": 0.006993006993006993, \"state\": \"Victoria\"}]}}, {\"mode\": \"vega-lite\"});\n",
       "</script>"
      ],
      "text/plain": [
       "alt.VConcatChart(...)"
      ]
     },
     "execution_count": 26,
     "metadata": {},
     "output_type": "execute_result"
    }
   ],
   "source": [
    "# Chart totals\n",
    "chart5 = make_chart_totals(df_states, 'state', 'State')\n",
    "\n",
    "# Chart proportions\n",
    "chart6 = make_chart_proportions(df_states, 'state', 'State')\n",
    "\n",
    "# Shorthand way of concatenating the two charts (note there's only one legend)\n",
    "chart5 & chart6"
   ]
  },
  {
   "cell_type": "markdown",
   "metadata": {},
   "source": [
    "Showing the results as a proportion of the total articles for each state does seem to show up some interesting differences. Did 10% of newspaper articles published in Victoria in 1857 really mention 'Chinese'? That seems like something to investigate in more detail.\n",
    "\n",
    "Another way of visualising the number of results per state is by using a map! See [Map newspaper results by state](Map-newspaper-results-by-state.ipynb) for a demonstration."
   ]
  },
  {
   "cell_type": "markdown",
   "metadata": {},
   "source": [
    "## 7. Comparing a search term across different newspapers\n",
    "\n",
    "For a more fine-grained analysis, we might want to compare the contents of different newspapers – how did their coverage or language vary over time? To do this we can use Trove's `title` facet which, despite the name, limits your results to a particular newspaper.\n",
    "\n",
    "The `title` facet expects a numeric newspaper identifier. The easiest way of find this id number is to go to the [list of newspapers](https://trove.nla.gov.au/newspaper/about) and click on the one you're interested in. The id number will be in the url of the newspaper details page. For example, the url of the *Canberra Times* page is:\n",
    "\n",
    "`https://trove.nla.gov.au/newspaper/title/11`\n",
    "\n",
    "So the id number is '11'.\n",
    "\n",
    "As with previous examples, we'll create a list of the newspapers we want to use with the `title` facet. However, the id number on it's own isn't going to be very useful in the legend of our chart, so we'll include the name of the newspaper as well. "
   ]
  },
  {
   "cell_type": "code",
   "execution_count": 27,
   "metadata": {},
   "outputs": [],
   "source": [
    "# Create a list of dictionaries, each with the 'id' and 'name' of a newspaper\n",
    "newspapers = [\n",
    "    {'id': 1180, 'name': 'Sydney Sun'},\n",
    "    {'id': 35, 'name': 'Sydney Morning Herald'},\n",
    "    {'id': 1002, 'name': 'Tribune'}\n",
    "]"
   ]
  },
  {
   "cell_type": "code",
   "execution_count": 28,
   "metadata": {},
   "outputs": [],
   "source": [
    "# Our search query we want to compare across newspapers\n",
    "query = 'worker'"
   ]
  },
  {
   "cell_type": "markdown",
   "metadata": {},
   "source": [
    "In this case the total number of articles we want to use in calculating the proportion of results is probably the total number of articles published in each particular newspaper. This should allow a more meaningful comparison between, for example, a weekly and a daily newspaper. As in the example above, we'll define a function to loop through the newspapers, and another to get the total number of articles for a given newspaper."
   ]
  },
  {
   "cell_type": "code",
   "execution_count": 29,
   "metadata": {},
   "outputs": [],
   "source": [
    "def get_newspaper_totals(newspaper_id):\n",
    "    '''\n",
    "    Get the total number of articles for each year for the specified newspaper.\n",
    "    Parameters:\n",
    "        newspaper_id - numeric Trove newspaper identifier\n",
    "    Returns:\n",
    "        A list of dictionaries containing 'year', 'total_results'.\n",
    "    '''\n",
    "    these_params = params.copy()\n",
    "    \n",
    "    # Set q to a single space for everything\n",
    "    these_params['q'] = ' '\n",
    "    \n",
    "    #Set the title facet to the newspaper_id\n",
    "    these_params['l-title'] = newspaper_id\n",
    "    \n",
    "    # Get all the year by year data\n",
    "    facet_data = get_facet_data(these_params)\n",
    "    return facet_data\n",
    "\n",
    "def get_newspaper_facets(params, newspapers, query):\n",
    "    '''\n",
    "    Loop through the supplied list of newspapers searching for the specified query and getting the year by year results.\n",
    "    Merges the search results with the total number of articles for that newspaper.\n",
    "    Parameters:\n",
    "        params - basic parameters to send to the API\n",
    "        newspapers - a list of dictionaries with the id and name of a newspaper\n",
    "        query - the search query to use\n",
    "    Returns:\n",
    "        A dataframe   \n",
    "    '''\n",
    "    dfs = []\n",
    "    these_params = params.copy()\n",
    "    \n",
    "    # Set the query\n",
    "    these_params['q'] = query\n",
    "    \n",
    "    # Loop through the list of newspapers\n",
    "    for newspaper in newspapers:\n",
    "        \n",
    "        # Sewt the title facet to the id of the current newspaper\n",
    "        these_params['l-title'] = newspaper['id']\n",
    "        \n",
    "        # Get the year by year results for this newspaper\n",
    "        facet_data = get_facet_data(these_params)\n",
    "        \n",
    "        # Convert to a dataframe\n",
    "        df = pd.DataFrame(facet_data)\n",
    "        \n",
    "        # Get the total number of articles published in this newspaper per year\n",
    "        total_data = get_newspaper_totals(newspaper['id'])\n",
    "        \n",
    "        # Convert to a dataframe\n",
    "        df_total = pd.DataFrame(total_data)\n",
    "        \n",
    "        # Merge the two dataframes\n",
    "        df_merged = merge_df_with_total(df, df_total)\n",
    "        \n",
    "        # Create a newspaper column and set its value to the name of the newspaper\n",
    "        df_merged['newspaper'] = newspaper['name']\n",
    "        \n",
    "        # Add the current datarame to the list\n",
    "        dfs.append(df_merged)\n",
    "        \n",
    "    # Concatenate the dataframes and return the result\n",
    "    return pd.concat(dfs)"
   ]
  },
  {
   "cell_type": "markdown",
   "metadata": {},
   "source": [
    "Let's get the data!"
   ]
  },
  {
   "cell_type": "code",
   "execution_count": 30,
   "metadata": {},
   "outputs": [],
   "source": [
    "df_newspapers = get_newspaper_facets(params, newspapers, query)"
   ]
  },
  {
   "cell_type": "markdown",
   "metadata": {},
   "source": [
    "And make some charts!"
   ]
  },
  {
   "cell_type": "code",
   "execution_count": 31,
   "metadata": {},
   "outputs": [
    {
     "data": {
      "text/html": [
       "\n",
       "<div id=\"altair-viz-1aeff9ad1a344617aedac021a6718fb4\"></div>\n",
       "<script type=\"text/javascript\">\n",
       "  (function(spec, embedOpt){\n",
       "    let outputDiv = document.currentScript.previousElementSibling;\n",
       "    if (outputDiv.id !== \"altair-viz-1aeff9ad1a344617aedac021a6718fb4\") {\n",
       "      outputDiv = document.getElementById(\"altair-viz-1aeff9ad1a344617aedac021a6718fb4\");\n",
       "    }\n",
       "    const paths = {\n",
       "      \"vega\": \"https://cdn.jsdelivr.net/npm//vega@5?noext\",\n",
       "      \"vega-lib\": \"https://cdn.jsdelivr.net/npm//vega-lib?noext\",\n",
       "      \"vega-lite\": \"https://cdn.jsdelivr.net/npm//vega-lite@4.8.1?noext\",\n",
       "      \"vega-embed\": \"https://cdn.jsdelivr.net/npm//vega-embed@6?noext\",\n",
       "    };\n",
       "\n",
       "    function loadScript(lib) {\n",
       "      return new Promise(function(resolve, reject) {\n",
       "        var s = document.createElement('script');\n",
       "        s.src = paths[lib];\n",
       "        s.async = true;\n",
       "        s.onload = () => resolve(paths[lib]);\n",
       "        s.onerror = () => reject(`Error loading script: ${paths[lib]}`);\n",
       "        document.getElementsByTagName(\"head\")[0].appendChild(s);\n",
       "      });\n",
       "    }\n",
       "\n",
       "    function showError(err) {\n",
       "      outputDiv.innerHTML = `<div class=\"error\" style=\"color:red;\">${err}</div>`;\n",
       "      throw err;\n",
       "    }\n",
       "\n",
       "    function displayChart(vegaEmbed) {\n",
       "      vegaEmbed(outputDiv, spec, embedOpt)\n",
       "        .catch(err => showError(`Javascript Error: ${err.message}<br>This usually means there's a typo in your chart specification. See the javascript console for the full traceback.`));\n",
       "    }\n",
       "\n",
       "    if(typeof define === \"function\" && define.amd) {\n",
       "      requirejs.config({paths});\n",
       "      require([\"vega-embed\"], displayChart, err => showError(`Error loading script: ${err.message}`));\n",
       "    } else if (typeof vegaEmbed === \"function\") {\n",
       "      displayChart(vegaEmbed);\n",
       "    } else {\n",
       "      loadScript(\"vega\")\n",
       "        .then(() => loadScript(\"vega-lite\"))\n",
       "        .then(() => loadScript(\"vega-embed\"))\n",
       "        .catch(showError)\n",
       "        .then(() => displayChart(vegaEmbed));\n",
       "    }\n",
       "  })({\"config\": {\"view\": {\"continuousWidth\": 400, \"continuousHeight\": 300}}, \"vconcat\": [{\"mark\": {\"type\": \"line\", \"point\": true}, \"encoding\": {\"color\": {\"type\": \"nominal\", \"field\": \"newspaper\", \"legend\": {\"title\": \"Newspaper\"}}, \"tooltip\": [{\"type\": \"nominal\", \"field\": \"newspaper\", \"title\": \"Newspaper\"}, {\"type\": \"quantitative\", \"field\": \"year\", \"title\": \"Year\"}, {\"type\": \"quantitative\", \"field\": \"total_results\", \"format\": \",\", \"title\": \"Articles\"}], \"x\": {\"type\": \"quantitative\", \"axis\": {\"format\": \"c\", \"title\": \"Year\"}, \"field\": \"year\"}, \"y\": {\"type\": \"quantitative\", \"axis\": {\"format\": \",d\", \"title\": \"Number of articles\"}, \"field\": \"total_results\"}}, \"height\": 250, \"width\": 700}, {\"mark\": {\"type\": \"line\", \"point\": true}, \"encoding\": {\"color\": {\"type\": \"nominal\", \"field\": \"newspaper\", \"legend\": {\"title\": \"Newspaper\"}}, \"tooltip\": [{\"type\": \"nominal\", \"field\": \"newspaper\", \"title\": \"Newspaper\"}, {\"type\": \"quantitative\", \"field\": \"year\", \"title\": \"Year\"}, {\"type\": \"quantitative\", \"field\": \"proportion\", \"format\": \"%\", \"title\": \"Proportion\"}], \"x\": {\"type\": \"quantitative\", \"axis\": {\"format\": \"c\", \"title\": \"Year\"}, \"field\": \"year\"}, \"y\": {\"type\": \"quantitative\", \"axis\": {\"format\": \"%\", \"title\": \"Proportion of articles\"}, \"field\": \"proportion\", \"stack\": null}}, \"height\": 250, \"width\": 700}], \"data\": {\"name\": \"data-9b7478fe8a48489593ca4ec84602a19f\"}, \"$schema\": \"https://vega.github.io/schema/vega-lite/v4.8.1.json\", \"datasets\": {\"data-9b7478fe8a48489593ca4ec84602a19f\": [{\"year\": 1910, \"total_results\": 5040, \"total_articles\": 26594, \"proportion\": 0.18951643227795745, \"newspaper\": \"Sydney Sun\"}, {\"year\": 1911, \"total_results\": 11739, \"total_articles\": 59711, \"proportion\": 0.19659694193699653, \"newspaper\": \"Sydney Sun\"}, {\"year\": 1912, \"total_results\": 14328, \"total_articles\": 74322, \"proportion\": 0.19278275611528214, \"newspaper\": \"Sydney Sun\"}, {\"year\": 1913, \"total_results\": 15780, \"total_articles\": 81812, \"proportion\": 0.19288123991590475, \"newspaper\": \"Sydney Sun\"}, {\"year\": 1914, \"total_results\": 10229, \"total_articles\": 54243, \"proportion\": 0.18857732795015025, \"newspaper\": \"Sydney Sun\"}, {\"year\": 1915, \"total_results\": 10775, \"total_articles\": 58624, \"proportion\": 0.1837984443231441, \"newspaper\": \"Sydney Sun\"}, {\"year\": 1916, \"total_results\": 11577, \"total_articles\": 55955, \"proportion\": 0.20689840050040212, \"newspaper\": \"Sydney Sun\"}, {\"year\": 1917, \"total_results\": 10969, \"total_articles\": 45517, \"proportion\": 0.24098688402135465, \"newspaper\": \"Sydney Sun\"}, {\"year\": 1918, \"total_results\": 9871, \"total_articles\": 43185, \"proportion\": 0.22857473659835592, \"newspaper\": \"Sydney Sun\"}, {\"year\": 1919, \"total_results\": 11595, \"total_articles\": 55078, \"proportion\": 0.21051962671120955, \"newspaper\": \"Sydney Sun\"}, {\"year\": 1920, \"total_results\": 11166, \"total_articles\": 53082, \"proportion\": 0.21035379224595907, \"newspaper\": \"Sydney Sun\"}, {\"year\": 1921, \"total_results\": 12024, \"total_articles\": 60382, \"proportion\": 0.19913219171276209, \"newspaper\": \"Sydney Sun\"}, {\"year\": 1922, \"total_results\": 11852, \"total_articles\": 65570, \"proportion\": 0.18075339332011592, \"newspaper\": \"Sydney Sun\"}, {\"year\": 1923, \"total_results\": 12274, \"total_articles\": 72373, \"proportion\": 0.1695936329846766, \"newspaper\": \"Sydney Sun\"}, {\"year\": 1924, \"total_results\": 11242, \"total_articles\": 70801, \"proportion\": 0.1587830680357622, \"newspaper\": \"Sydney Sun\"}, {\"year\": 1925, \"total_results\": 11477, \"total_articles\": 72479, \"proportion\": 0.15834931497399246, \"newspaper\": \"Sydney Sun\"}, {\"year\": 1926, \"total_results\": 13263, \"total_articles\": 79748, \"proportion\": 0.16631138084967648, \"newspaper\": \"Sydney Sun\"}, {\"year\": 1927, \"total_results\": 13718, \"total_articles\": 85260, \"proportion\": 0.16089608257095941, \"newspaper\": \"Sydney Sun\"}, {\"year\": 1928, \"total_results\": 13853, \"total_articles\": 87922, \"proportion\": 0.1575601100975865, \"newspaper\": \"Sydney Sun\"}, {\"year\": 1929, \"total_results\": 14477, \"total_articles\": 91156, \"proportion\": 0.15881565667646672, \"newspaper\": \"Sydney Sun\"}, {\"year\": 1930, \"total_results\": 13451, \"total_articles\": 86528, \"proportion\": 0.15545257026627218, \"newspaper\": \"Sydney Sun\"}, {\"year\": 1931, \"total_results\": 11248, \"total_articles\": 79325, \"proportion\": 0.14179640718562875, \"newspaper\": \"Sydney Sun\"}, {\"year\": 1932, \"total_results\": 12311, \"total_articles\": 89069, \"proportion\": 0.13821868439075324, \"newspaper\": \"Sydney Sun\"}, {\"year\": 1933, \"total_results\": 13095, \"total_articles\": 90922, \"proportion\": 0.144024548514111, \"newspaper\": \"Sydney Sun\"}, {\"year\": 1934, \"total_results\": 12811, \"total_articles\": 91762, \"proportion\": 0.13961116802162116, \"newspaper\": \"Sydney Sun\"}, {\"year\": 1935, \"total_results\": 13319, \"total_articles\": 92266, \"proportion\": 0.1443543667223029, \"newspaper\": \"Sydney Sun\"}, {\"year\": 1936, \"total_results\": 15076, \"total_articles\": 103341, \"proportion\": 0.1458859503972286, \"newspaper\": \"Sydney Sun\"}, {\"year\": 1937, \"total_results\": 14196, \"total_articles\": 92674, \"proportion\": 0.1531821222780931, \"newspaper\": \"Sydney Sun\"}, {\"year\": 1938, \"total_results\": 14304, \"total_articles\": 95217, \"proportion\": 0.15022527489839, \"newspaper\": \"Sydney Sun\"}, {\"year\": 1939, \"total_results\": 13987, \"total_articles\": 93269, \"proportion\": 0.14996408238535847, \"newspaper\": \"Sydney Sun\"}, {\"year\": 1940, \"total_results\": 13609, \"total_articles\": 83644, \"proportion\": 0.16270144899813496, \"newspaper\": \"Sydney Sun\"}, {\"year\": 1941, \"total_results\": 11409, \"total_articles\": 68898, \"proportion\": 0.16559261517025167, \"newspaper\": \"Sydney Sun\"}, {\"year\": 1942, \"total_results\": 10220, \"total_articles\": 59524, \"proportion\": 0.17169545057455815, \"newspaper\": \"Sydney Sun\"}, {\"year\": 1943, \"total_results\": 8942, \"total_articles\": 55022, \"proportion\": 0.1625168114572353, \"newspaper\": \"Sydney Sun\"}, {\"year\": 1944, \"total_results\": 7897, \"total_articles\": 53765, \"proportion\": 0.14687994048172603, \"newspaper\": \"Sydney Sun\"}, {\"year\": 1945, \"total_results\": 10448, \"total_articles\": 66436, \"proportion\": 0.15726413390330543, \"newspaper\": \"Sydney Sun\"}, {\"year\": 1946, \"total_results\": 11801, \"total_articles\": 77045, \"proportion\": 0.153170225193069, \"newspaper\": \"Sydney Sun\"}, {\"year\": 1947, \"total_results\": 11599, \"total_articles\": 80781, \"proportion\": 0.14358574417251582, \"newspaper\": \"Sydney Sun\"}, {\"year\": 1948, \"total_results\": 7277, \"total_articles\": 59982, \"proportion\": 0.12131972925210896, \"newspaper\": \"Sydney Sun\"}, {\"year\": 1949, \"total_results\": 9572, \"total_articles\": 72217, \"proportion\": 0.1325449686361937, \"newspaper\": \"Sydney Sun\"}, {\"year\": 1950, \"total_results\": 9963, \"total_articles\": 78466, \"proportion\": 0.1269721917773303, \"newspaper\": \"Sydney Sun\"}, {\"year\": 1951, \"total_results\": 8926, \"total_articles\": 72880, \"proportion\": 0.12247530186608123, \"newspaper\": \"Sydney Sun\"}, {\"year\": 1952, \"total_results\": 8946, \"total_articles\": 75615, \"proportion\": 0.11830985915492957, \"newspaper\": \"Sydney Sun\"}, {\"year\": 1953, \"total_results\": 8570, \"total_articles\": 77322, \"proportion\": 0.1108352086081581, \"newspaper\": \"Sydney Sun\"}, {\"year\": 1954, \"total_results\": 7846, \"total_articles\": 71881, \"proportion\": 0.10915262725894186, \"newspaper\": \"Sydney Sun\"}, {\"year\": 1842, \"total_results\": 864, \"total_articles\": 3815, \"proportion\": 0.22647444298820446, \"newspaper\": \"Sydney Morning Herald\"}, {\"year\": 1843, \"total_results\": 2011, \"total_articles\": 9178, \"proportion\": 0.2191109174112007, \"newspaper\": \"Sydney Morning Herald\"}, {\"year\": 1844, \"total_results\": 1786, \"total_articles\": 8143, \"proportion\": 0.21932948544762373, \"newspaper\": \"Sydney Morning Herald\"}, {\"year\": 1845, \"total_results\": 1903, \"total_articles\": 8205, \"proportion\": 0.2319317489335771, \"newspaper\": \"Sydney Morning Herald\"}, {\"year\": 1846, \"total_results\": 1952, \"total_articles\": 8058, \"proportion\": 0.24224373293621246, \"newspaper\": \"Sydney Morning Herald\"}, {\"year\": 1847, \"total_results\": 2060, \"total_articles\": 8391, \"proportion\": 0.24550113216541533, \"newspaper\": \"Sydney Morning Herald\"}, {\"year\": 1848, \"total_results\": 2104, \"total_articles\": 8695, \"proportion\": 0.24197814836112708, \"newspaper\": \"Sydney Morning Herald\"}, {\"year\": 1849, \"total_results\": 2260, \"total_articles\": 8888, \"proportion\": 0.2542754275427543, \"newspaper\": \"Sydney Morning Herald\"}, {\"year\": 1850, \"total_results\": 2355, \"total_articles\": 9253, \"proportion\": 0.2545120501458986, \"newspaper\": \"Sydney Morning Herald\"}, {\"year\": 1851, \"total_results\": 2719, \"total_articles\": 9939, \"proportion\": 0.27356876949391284, \"newspaper\": \"Sydney Morning Herald\"}, {\"year\": 1852, \"total_results\": 2709, \"total_articles\": 10055, \"proportion\": 0.269418199900547, \"newspaper\": \"Sydney Morning Herald\"}, {\"year\": 1853, \"total_results\": 3295, \"total_articles\": 10476, \"proportion\": 0.31452844597174495, \"newspaper\": \"Sydney Morning Herald\"}, {\"year\": 1854, \"total_results\": 4562, \"total_articles\": 14319, \"proportion\": 0.3185976674348767, \"newspaper\": \"Sydney Morning Herald\"}, {\"year\": 1855, \"total_results\": 5081, \"total_articles\": 16045, \"proportion\": 0.31667186039264567, \"newspaper\": \"Sydney Morning Herald\"}, {\"year\": 1856, \"total_results\": 4746, \"total_articles\": 16377, \"proportion\": 0.2897966660560542, \"newspaper\": \"Sydney Morning Herald\"}, {\"year\": 1857, \"total_results\": 5236, \"total_articles\": 16960, \"proportion\": 0.3087264150943396, \"newspaper\": \"Sydney Morning Herald\"}, {\"year\": 1858, \"total_results\": 5197, \"total_articles\": 16967, \"proportion\": 0.30630046560971297, \"newspaper\": \"Sydney Morning Herald\"}, {\"year\": 1859, \"total_results\": 4957, \"total_articles\": 17368, \"proportion\": 0.285409949332105, \"newspaper\": \"Sydney Morning Herald\"}, {\"year\": 1860, \"total_results\": 5428, \"total_articles\": 18652, \"proportion\": 0.2910143684323397, \"newspaper\": \"Sydney Morning Herald\"}, {\"year\": 1861, \"total_results\": 5308, \"total_articles\": 19369, \"proportion\": 0.2740461562290258, \"newspaper\": \"Sydney Morning Herald\"}, {\"year\": 1862, \"total_results\": 4996, \"total_articles\": 19270, \"proportion\": 0.25926310326933055, \"newspaper\": \"Sydney Morning Herald\"}, {\"year\": 1863, \"total_results\": 5038, \"total_articles\": 20205, \"proportion\": 0.24934422172729523, \"newspaper\": \"Sydney Morning Herald\"}, {\"year\": 1864, \"total_results\": 5149, \"total_articles\": 20692, \"proportion\": 0.2488401314517688, \"newspaper\": \"Sydney Morning Herald\"}, {\"year\": 1865, \"total_results\": 4798, \"total_articles\": 20227, \"proportion\": 0.2372076926879913, \"newspaper\": \"Sydney Morning Herald\"}, {\"year\": 1866, \"total_results\": 4971, \"total_articles\": 20113, \"proportion\": 0.2471535822602297, \"newspaper\": \"Sydney Morning Herald\"}, {\"year\": 1867, \"total_results\": 5271, \"total_articles\": 21024, \"proportion\": 0.2507134703196347, \"newspaper\": \"Sydney Morning Herald\"}, {\"year\": 1868, \"total_results\": 5184, \"total_articles\": 21267, \"proportion\": 0.2437579348286077, \"newspaper\": \"Sydney Morning Herald\"}, {\"year\": 1869, \"total_results\": 5370, \"total_articles\": 21656, \"proportion\": 0.24796823051348357, \"newspaper\": \"Sydney Morning Herald\"}, {\"year\": 1870, \"total_results\": 5372, \"total_articles\": 21778, \"proportion\": 0.24667095233722106, \"newspaper\": \"Sydney Morning Herald\"}, {\"year\": 1871, \"total_results\": 5435, \"total_articles\": 21415, \"proportion\": 0.25379406957739903, \"newspaper\": \"Sydney Morning Herald\"}, {\"year\": 1872, \"total_results\": 5758, \"total_articles\": 20594, \"proportion\": 0.279595998834612, \"newspaper\": \"Sydney Morning Herald\"}, {\"year\": 1873, \"total_results\": 5924, \"total_articles\": 22009, \"proportion\": 0.26916261529374347, \"newspaper\": \"Sydney Morning Herald\"}, {\"year\": 1874, \"total_results\": 6279, \"total_articles\": 22864, \"proportion\": 0.27462386284114765, \"newspaper\": \"Sydney Morning Herald\"}, {\"year\": 1875, \"total_results\": 6233, \"total_articles\": 22620, \"proportion\": 0.275552608311229, \"newspaper\": \"Sydney Morning Herald\"}, {\"year\": 1876, \"total_results\": 5733, \"total_articles\": 22119, \"proportion\": 0.2591889325918893, \"newspaper\": \"Sydney Morning Herald\"}, {\"year\": 1877, \"total_results\": 6133, \"total_articles\": 22224, \"proportion\": 0.2759629229661627, \"newspaper\": \"Sydney Morning Herald\"}, {\"year\": 1878, \"total_results\": 6935, \"total_articles\": 24945, \"proportion\": 0.2780116255762678, \"newspaper\": \"Sydney Morning Herald\"}, {\"year\": 1879, \"total_results\": 6806, \"total_articles\": 26778, \"proportion\": 0.25416386586003437, \"newspaper\": \"Sydney Morning Herald\"}, {\"year\": 1880, \"total_results\": 6886, \"total_articles\": 30084, \"proportion\": 0.22889243451668662, \"newspaper\": \"Sydney Morning Herald\"}, {\"year\": 1881, \"total_results\": 7166, \"total_articles\": 29411, \"proportion\": 0.24365033490870763, \"newspaper\": \"Sydney Morning Herald\"}, {\"year\": 1882, \"total_results\": 7698, \"total_articles\": 28221, \"proportion\": 0.27277559264377593, \"newspaper\": \"Sydney Morning Herald\"}, {\"year\": 1883, \"total_results\": 8288, \"total_articles\": 31012, \"proportion\": 0.26725138656004127, \"newspaper\": \"Sydney Morning Herald\"}, {\"year\": 1884, \"total_results\": 9253, \"total_articles\": 32517, \"proportion\": 0.28455884614201804, \"newspaper\": \"Sydney Morning Herald\"}, {\"year\": 1885, \"total_results\": 9898, \"total_articles\": 34340, \"proportion\": 0.28823529411764703, \"newspaper\": \"Sydney Morning Herald\"}, {\"year\": 1886, \"total_results\": 10699, \"total_articles\": 37973, \"proportion\": 0.281752824375214, \"newspaper\": \"Sydney Morning Herald\"}, {\"year\": 1887, \"total_results\": 10747, \"total_articles\": 39957, \"proportion\": 0.26896413644668016, \"newspaper\": \"Sydney Morning Herald\"}, {\"year\": 1888, \"total_results\": 11946, \"total_articles\": 43952, \"proportion\": 0.27179650527848565, \"newspaper\": \"Sydney Morning Herald\"}, {\"year\": 1889, \"total_results\": 12098, \"total_articles\": 47163, \"proportion\": 0.2565146407141191, \"newspaper\": \"Sydney Morning Herald\"}, {\"year\": 1890, \"total_results\": 12753, \"total_articles\": 49542, \"proportion\": 0.2574179484074119, \"newspaper\": \"Sydney Morning Herald\"}, {\"year\": 1891, \"total_results\": 11066, \"total_articles\": 44992, \"proportion\": 0.24595483641536273, \"newspaper\": \"Sydney Morning Herald\"}, {\"year\": 1892, \"total_results\": 11003, \"total_articles\": 43389, \"proportion\": 0.25358961948881054, \"newspaper\": \"Sydney Morning Herald\"}, {\"year\": 1893, \"total_results\": 10561, \"total_articles\": 48108, \"proportion\": 0.21952689781325352, \"newspaper\": \"Sydney Morning Herald\"}, {\"year\": 1894, \"total_results\": 10972, \"total_articles\": 52110, \"proportion\": 0.21055459604682403, \"newspaper\": \"Sydney Morning Herald\"}, {\"year\": 1895, \"total_results\": 10427, \"total_articles\": 50295, \"proportion\": 0.20731683069887663, \"newspaper\": \"Sydney Morning Herald\"}, {\"year\": 1896, \"total_results\": 10915, \"total_articles\": 52479, \"proportion\": 0.20798795708759693, \"newspaper\": \"Sydney Morning Herald\"}, {\"year\": 1897, \"total_results\": 10841, \"total_articles\": 53903, \"proportion\": 0.2011205313247871, \"newspaper\": \"Sydney Morning Herald\"}, {\"year\": 1898, \"total_results\": 11314, \"total_articles\": 60637, \"proportion\": 0.18658574797565844, \"newspaper\": \"Sydney Morning Herald\"}, {\"year\": 1899, \"total_results\": 12717, \"total_articles\": 66406, \"proportion\": 0.19150377977893565, \"newspaper\": \"Sydney Morning Herald\"}, {\"year\": 1900, \"total_results\": 14304, \"total_articles\": 74506, \"proportion\": 0.1919845381580007, \"newspaper\": \"Sydney Morning Herald\"}, {\"year\": 1901, \"total_results\": 15495, \"total_articles\": 75727, \"proportion\": 0.20461658325300092, \"newspaper\": \"Sydney Morning Herald\"}, {\"year\": 1902, \"total_results\": 16341, \"total_articles\": 78991, \"proportion\": 0.20687166892430783, \"newspaper\": \"Sydney Morning Herald\"}, {\"year\": 1903, \"total_results\": 16149, \"total_articles\": 81108, \"proportion\": 0.19910489717413818, \"newspaper\": \"Sydney Morning Herald\"}, {\"year\": 1904, \"total_results\": 16132, \"total_articles\": 78359, \"proportion\": 0.20587296928240534, \"newspaper\": \"Sydney Morning Herald\"}, {\"year\": 1905, \"total_results\": 16018, \"total_articles\": 78339, \"proportion\": 0.20447031491338924, \"newspaper\": \"Sydney Morning Herald\"}, {\"year\": 1906, \"total_results\": 17665, \"total_articles\": 87256, \"proportion\": 0.2024502613000825, \"newspaper\": \"Sydney Morning Herald\"}, {\"year\": 1907, \"total_results\": 19226, \"total_articles\": 88945, \"proportion\": 0.21615605149249537, \"newspaper\": \"Sydney Morning Herald\"}, {\"year\": 1908, \"total_results\": 19377, \"total_articles\": 92758, \"proportion\": 0.20889842385562432, \"newspaper\": \"Sydney Morning Herald\"}, {\"year\": 1909, \"total_results\": 19884, \"total_articles\": 91878, \"proportion\": 0.2164174231045517, \"newspaper\": \"Sydney Morning Herald\"}, {\"year\": 1910, \"total_results\": 20389, \"total_articles\": 97509, \"proportion\": 0.2090986473043514, \"newspaper\": \"Sydney Morning Herald\"}, {\"year\": 1911, \"total_results\": 21264, \"total_articles\": 96528, \"proportion\": 0.22028841372451516, \"newspaper\": \"Sydney Morning Herald\"}, {\"year\": 1912, \"total_results\": 21156, \"total_articles\": 94942, \"proportion\": 0.2228307808978113, \"newspaper\": \"Sydney Morning Herald\"}, {\"year\": 1913, \"total_results\": 20720, \"total_articles\": 95855, \"proportion\": 0.21615982473527723, \"newspaper\": \"Sydney Morning Herald\"}, {\"year\": 1914, \"total_results\": 17756, \"total_articles\": 90179, \"proportion\": 0.19689728207232282, \"newspaper\": \"Sydney Morning Herald\"}, {\"year\": 1915, \"total_results\": 14899, \"total_articles\": 81653, \"proportion\": 0.1824672700329443, \"newspaper\": \"Sydney Morning Herald\"}, {\"year\": 1916, \"total_results\": 14960, \"total_articles\": 74196, \"proportion\": 0.20162812011429188, \"newspaper\": \"Sydney Morning Herald\"}, {\"year\": 1917, \"total_results\": 14185, \"total_articles\": 61321, \"proportion\": 0.23132369008985504, \"newspaper\": \"Sydney Morning Herald\"}, {\"year\": 1918, \"total_results\": 12472, \"total_articles\": 55565, \"proportion\": 0.22445784216683165, \"newspaper\": \"Sydney Morning Herald\"}, {\"year\": 1919, \"total_results\": 12932, \"total_articles\": 57553, \"proportion\": 0.2246972355915417, \"newspaper\": \"Sydney Morning Herald\"}, {\"year\": 1920, \"total_results\": 13524, \"total_articles\": 57435, \"proportion\": 0.23546617915904935, \"newspaper\": \"Sydney Morning Herald\"}, {\"year\": 1921, \"total_results\": 14370, \"total_articles\": 61958, \"proportion\": 0.2319313083056264, \"newspaper\": \"Sydney Morning Herald\"}, {\"year\": 1922, \"total_results\": 14859, \"total_articles\": 68646, \"proportion\": 0.21645835154269732, \"newspaper\": \"Sydney Morning Herald\"}, {\"year\": 1923, \"total_results\": 15855, \"total_articles\": 75298, \"proportion\": 0.2105633615766687, \"newspaper\": \"Sydney Morning Herald\"}, {\"year\": 1924, \"total_results\": 15415, \"total_articles\": 78306, \"proportion\": 0.19685592419482542, \"newspaper\": \"Sydney Morning Herald\"}, {\"year\": 1925, \"total_results\": 16166, \"total_articles\": 83382, \"proportion\": 0.1938787747955194, \"newspaper\": \"Sydney Morning Herald\"}, {\"year\": 1926, \"total_results\": 17277, \"total_articles\": 84749, \"proportion\": 0.20386081251696186, \"newspaper\": \"Sydney Morning Herald\"}, {\"year\": 1927, \"total_results\": 18161, \"total_articles\": 91432, \"proportion\": 0.19862848893166507, \"newspaper\": \"Sydney Morning Herald\"}, {\"year\": 1928, \"total_results\": 17448, \"total_articles\": 92258, \"proportion\": 0.1891218105746927, \"newspaper\": \"Sydney Morning Herald\"}, {\"year\": 1929, \"total_results\": 19387, \"total_articles\": 98136, \"proportion\": 0.19755237629412245, \"newspaper\": \"Sydney Morning Herald\"}, {\"year\": 1930, \"total_results\": 19661, \"total_articles\": 102209, \"proportion\": 0.19236075101018502, \"newspaper\": \"Sydney Morning Herald\"}, {\"year\": 1931, \"total_results\": 17539, \"total_articles\": 94923, \"proportion\": 0.18477081423890943, \"newspaper\": \"Sydney Morning Herald\"}, {\"year\": 1932, \"total_results\": 17506, \"total_articles\": 95369, \"proportion\": 0.18356069582359047, \"newspaper\": \"Sydney Morning Herald\"}, {\"year\": 1933, \"total_results\": 17766, \"total_articles\": 98589, \"proportion\": 0.1802026595259106, \"newspaper\": \"Sydney Morning Herald\"}, {\"year\": 1934, \"total_results\": 17840, \"total_articles\": 105398, \"proportion\": 0.16926317387426706, \"newspaper\": \"Sydney Morning Herald\"}, {\"year\": 1935, \"total_results\": 17573, \"total_articles\": 104690, \"proportion\": 0.16785748400038208, \"newspaper\": \"Sydney Morning Herald\"}, {\"year\": 1936, \"total_results\": 20110, \"total_articles\": 106652, \"proportion\": 0.18855717661178412, \"newspaper\": \"Sydney Morning Herald\"}, {\"year\": 1937, \"total_results\": 19164, \"total_articles\": 104304, \"proportion\": 0.18373216751035434, \"newspaper\": \"Sydney Morning Herald\"}, {\"year\": 1938, \"total_results\": 17902, \"total_articles\": 109361, \"proportion\": 0.16369638170828724, \"newspaper\": \"Sydney Morning Herald\"}, {\"year\": 1939, \"total_results\": 15898, \"total_articles\": 100525, \"proportion\": 0.15814971400149216, \"newspaper\": \"Sydney Morning Herald\"}, {\"year\": 1940, \"total_results\": 12846, \"total_articles\": 77634, \"proportion\": 0.1654687379241054, \"newspaper\": \"Sydney Morning Herald\"}, {\"year\": 1941, \"total_results\": 12235, \"total_articles\": 67293, \"proportion\": 0.18181683087393935, \"newspaper\": \"Sydney Morning Herald\"}, {\"year\": 1942, \"total_results\": 10752, \"total_articles\": 51184, \"proportion\": 0.2100656455142232, \"newspaper\": \"Sydney Morning Herald\"}, {\"year\": 1943, \"total_results\": 10629, \"total_articles\": 46904, \"proportion\": 0.22661180283131502, \"newspaper\": \"Sydney Morning Herald\"}, {\"year\": 1944, \"total_results\": 8931, \"total_articles\": 44751, \"proportion\": 0.1995709593081719, \"newspaper\": \"Sydney Morning Herald\"}, {\"year\": 1945, \"total_results\": 11466, \"total_articles\": 50250, \"proportion\": 0.22817910447761194, \"newspaper\": \"Sydney Morning Herald\"}, {\"year\": 1946, \"total_results\": 13402, \"total_articles\": 56798, \"proportion\": 0.23595901264129018, \"newspaper\": \"Sydney Morning Herald\"}, {\"year\": 1947, \"total_results\": 14474, \"total_articles\": 61107, \"proportion\": 0.23686320716120904, \"newspaper\": \"Sydney Morning Herald\"}, {\"year\": 1948, \"total_results\": 10197, \"total_articles\": 45564, \"proportion\": 0.22379510139583883, \"newspaper\": \"Sydney Morning Herald\"}, {\"year\": 1949, \"total_results\": 10805, \"total_articles\": 51141, \"proportion\": 0.21127862184939677, \"newspaper\": \"Sydney Morning Herald\"}, {\"year\": 1950, \"total_results\": 12059, \"total_articles\": 58692, \"proportion\": 0.20546241395760922, \"newspaper\": \"Sydney Morning Herald\"}, {\"year\": 1951, \"total_results\": 11753, \"total_articles\": 55527, \"proportion\": 0.2116627946764637, \"newspaper\": \"Sydney Morning Herald\"}, {\"year\": 1952, \"total_results\": 11077, \"total_articles\": 53589, \"proportion\": 0.20670286812592137, \"newspaper\": \"Sydney Morning Herald\"}, {\"year\": 1953, \"total_results\": 11474, \"total_articles\": 58629, \"proportion\": 0.19570519708676593, \"newspaper\": \"Sydney Morning Herald\"}, {\"year\": 1954, \"total_results\": 13986, \"total_articles\": 66329, \"proportion\": 0.21085799574846598, \"newspaper\": \"Sydney Morning Herald\"}, {\"year\": 1939, \"total_results\": 923, \"total_articles\": 2147, \"proportion\": 0.42990218910107125, \"newspaper\": \"Tribune\"}, {\"year\": 1940, \"total_results\": 1387, \"total_articles\": 2814, \"proportion\": 0.49289267945984366, \"newspaper\": \"Tribune\"}, {\"year\": 1941, \"total_results\": 241, \"total_articles\": 455, \"proportion\": 0.5296703296703297, \"newspaper\": \"Tribune\"}, {\"year\": 1942, \"total_results\": 339, \"total_articles\": 652, \"proportion\": 0.5199386503067485, \"newspaper\": \"Tribune\"}, {\"year\": 1943, \"total_results\": 1020, \"total_articles\": 2009, \"proportion\": 0.507715281234445, \"newspaper\": \"Tribune\"}, {\"year\": 1944, \"total_results\": 1602, \"total_articles\": 3425, \"proportion\": 0.46773722627737224, \"newspaper\": \"Tribune\"}, {\"year\": 1945, \"total_results\": 2720, \"total_articles\": 6861, \"proportion\": 0.3964436671039207, \"newspaper\": \"Tribune\"}, {\"year\": 1946, \"total_results\": 3476, \"total_articles\": 7531, \"proportion\": 0.46155888992165717, \"newspaper\": \"Tribune\"}, {\"year\": 1947, \"total_results\": 2860, \"total_articles\": 6347, \"proportion\": 0.4506065857885615, \"newspaper\": \"Tribune\"}, {\"year\": 1948, \"total_results\": 3138, \"total_articles\": 6561, \"proportion\": 0.47828074988568814, \"newspaper\": \"Tribune\"}, {\"year\": 1949, \"total_results\": 3502, \"total_articles\": 6571, \"proportion\": 0.5329478009435398, \"newspaper\": \"Tribune\"}, {\"year\": 1950, \"total_results\": 2994, \"total_articles\": 6291, \"proportion\": 0.4759179780639008, \"newspaper\": \"Tribune\"}, {\"year\": 1951, \"total_results\": 2115, \"total_articles\": 4338, \"proportion\": 0.487551867219917, \"newspaper\": \"Tribune\"}, {\"year\": 1952, \"total_results\": 2389, \"total_articles\": 4908, \"proportion\": 0.4867563162184189, \"newspaper\": \"Tribune\"}, {\"year\": 1953, \"total_results\": 2323, \"total_articles\": 4568, \"proportion\": 0.5085376532399299, \"newspaper\": \"Tribune\"}, {\"year\": 1954, \"total_results\": 2101, \"total_articles\": 4327, \"proportion\": 0.48555581234111395, \"newspaper\": \"Tribune\"}, {\"year\": 1955, \"total_results\": 1858, \"total_articles\": 3979, \"proportion\": 0.4669514953505906, \"newspaper\": \"Tribune\"}, {\"year\": 1956, \"total_results\": 1857, \"total_articles\": 3800, \"proportion\": 0.4886842105263158, \"newspaper\": \"Tribune\"}, {\"year\": 1957, \"total_results\": 1787, \"total_articles\": 3768, \"proportion\": 0.4742569002123142, \"newspaper\": \"Tribune\"}, {\"year\": 1958, \"total_results\": 2012, \"total_articles\": 4132, \"proportion\": 0.48693126815101645, \"newspaper\": \"Tribune\"}, {\"year\": 1959, \"total_results\": 1981, \"total_articles\": 4016, \"proportion\": 0.4932768924302789, \"newspaper\": \"Tribune\"}, {\"year\": 1960, \"total_results\": 1890, \"total_articles\": 3637, \"proportion\": 0.5196590596645587, \"newspaper\": \"Tribune\"}, {\"year\": 1961, \"total_results\": 1945, \"total_articles\": 3306, \"proportion\": 0.58832425892317, \"newspaper\": \"Tribune\"}, {\"year\": 1962, \"total_results\": 1796, \"total_articles\": 3191, \"proportion\": 0.5628329677217173, \"newspaper\": \"Tribune\"}, {\"year\": 1963, \"total_results\": 1674, \"total_articles\": 3021, \"proportion\": 0.5541211519364448, \"newspaper\": \"Tribune\"}, {\"year\": 1964, \"total_results\": 1711, \"total_articles\": 3206, \"proportion\": 0.533686837180287, \"newspaper\": \"Tribune\"}, {\"year\": 1965, \"total_results\": 1382, \"total_articles\": 2895, \"proportion\": 0.4773747841105354, \"newspaper\": \"Tribune\"}, {\"year\": 1966, \"total_results\": 1290, \"total_articles\": 3016, \"proportion\": 0.4277188328912467, \"newspaper\": \"Tribune\"}, {\"year\": 1967, \"total_results\": 1299, \"total_articles\": 3087, \"proportion\": 0.4207968901846453, \"newspaper\": \"Tribune\"}, {\"year\": 1968, \"total_results\": 1360, \"total_articles\": 3134, \"proportion\": 0.4339502233567326, \"newspaper\": \"Tribune\"}, {\"year\": 1969, \"total_results\": 1382, \"total_articles\": 3054, \"proportion\": 0.45252128356254095, \"newspaper\": \"Tribune\"}, {\"year\": 1970, \"total_results\": 1337, \"total_articles\": 2803, \"proportion\": 0.4769889404209775, \"newspaper\": \"Tribune\"}, {\"year\": 1971, \"total_results\": 1278, \"total_articles\": 2420, \"proportion\": 0.528099173553719, \"newspaper\": \"Tribune\"}, {\"year\": 1972, \"total_results\": 1316, \"total_articles\": 2463, \"proportion\": 0.534307754770605, \"newspaper\": \"Tribune\"}, {\"year\": 1973, \"total_results\": 1277, \"total_articles\": 2150, \"proportion\": 0.593953488372093, \"newspaper\": \"Tribune\"}, {\"year\": 1974, \"total_results\": 1334, \"total_articles\": 2211, \"proportion\": 0.6033469018543646, \"newspaper\": \"Tribune\"}, {\"year\": 1975, \"total_results\": 1367, \"total_articles\": 2109, \"proportion\": 0.6481744902797535, \"newspaper\": \"Tribune\"}, {\"year\": 1976, \"total_results\": 1383, \"total_articles\": 2460, \"proportion\": 0.5621951219512196, \"newspaper\": \"Tribune\"}]}}, {\"mode\": \"vega-lite\"});\n",
       "</script>"
      ],
      "text/plain": [
       "alt.VConcatChart(...)"
      ]
     },
     "execution_count": 31,
     "metadata": {},
     "output_type": "execute_result"
    }
   ],
   "source": [
    "# Chart totals\n",
    "chart7 = make_chart_totals(df_newspapers, 'newspaper', 'Newspaper')\n",
    "\n",
    "# Chart proportions\n",
    "chart8 = make_chart_proportions(df_newspapers, 'newspaper', 'Newspaper')\n",
    "\n",
    "# Shorthand way of concatenating the two charts (note there's only one legend)\n",
    "chart7 & chart8"
   ]
  },
  {
   "cell_type": "markdown",
   "metadata": {},
   "source": [
    "## 8. Chart changes in illustration types over time\n",
    "\n",
    "Let's try something a bit different and explore the *format* of articles rather than their text content. Trove includes a couple of facets that enable you to filter your search by type of illustration. First of all you have to set the `illustrated` facet to `true`, then you can specify a type of illustration using the `illtype` facet. Possible values include:\n",
    "\n",
    "* Photo\n",
    "* Cartoon\n",
    "* Illustration\n",
    "* Map\n",
    "* Graph\n",
    "\n",
    "First we'll create a list with all the illustration types we're interesed in."
   ]
  },
  {
   "cell_type": "code",
   "execution_count": 32,
   "metadata": {},
   "outputs": [],
   "source": [
    "ill_types = [\n",
    "    'Photo',\n",
    "    'Cartoon',\n",
    "    'Illustration',\n",
    "    'Map',\n",
    "    'Graph'\n",
    "]"
   ]
  },
  {
   "cell_type": "markdown",
   "metadata": {},
   "source": [
    "Then we'll define a function to loop through the illustration types getting the year by year results of each."
   ]
  },
  {
   "cell_type": "code",
   "execution_count": 33,
   "metadata": {},
   "outputs": [],
   "source": [
    "def get_ill_facets(params, ill_types):\n",
    "    '''\n",
    "    Loop through the supplied list of illustration types getting the year by year results.\n",
    "    Parameters:\n",
    "        params - basic parameters to send to the API\n",
    "        ill_types - a list of illustration types to use with the ill_type facet\n",
    "    Returns:\n",
    "        A dataframe   \n",
    "    '''\n",
    "    dfs = []\n",
    "    ill_params = params.copy()\n",
    "    \n",
    "    # No query! Set q to a single space for everything\n",
    "    ill_params['q'] = ' '\n",
    "    \n",
    "    # Set the illustrated facet to true - necessary before setting ill_type\n",
    "    ill_params['l-illustrated'] = 'true'\n",
    "    \n",
    "    # Loop through the illustration types\n",
    "    for ill_type in ill_types:\n",
    "        \n",
    "        # Set the ill_type facet to the current illustration type\n",
    "        ill_params['l-illtype'] = ill_type\n",
    "        \n",
    "        # Get the year by year data\n",
    "        facet_data = get_facet_data(ill_params)\n",
    "        \n",
    "        # Convert to a dataframe\n",
    "        df = pd.DataFrame(facet_data)\n",
    "        \n",
    "        # Create an ill_type column and set its value to the illustration type \n",
    "        df['ill_type'] = ill_type\n",
    "        \n",
    "        # Add current df to the list of dfs\n",
    "        dfs.append(df)\n",
    "        \n",
    "    # Concatenate all the dfs and return the result\n",
    "    return pd.concat(dfs)"
   ]
  },
  {
   "cell_type": "markdown",
   "metadata": {},
   "source": [
    "Get the data!"
   ]
  },
  {
   "cell_type": "code",
   "execution_count": 34,
   "metadata": {},
   "outputs": [],
   "source": [
    "df_illtypes = get_ill_facets(params, ill_types)"
   ]
  },
  {
   "cell_type": "markdown",
   "metadata": {},
   "source": [
    "To calculate proportions for these searches we'll just use the total number of articles across all of Trove we collected above. "
   ]
  },
  {
   "cell_type": "code",
   "execution_count": 35,
   "metadata": {},
   "outputs": [],
   "source": [
    "# Merge results with total articles and calculate proportions\n",
    "df_illtypes_merged = merge_df_with_total(df_illtypes, df_total)"
   ]
  },
  {
   "cell_type": "code",
   "execution_count": 36,
   "metadata": {},
   "outputs": [
    {
     "data": {
      "text/html": [
       "\n",
       "<div id=\"altair-viz-1e09b5ad818142d686b9e404c451b130\"></div>\n",
       "<script type=\"text/javascript\">\n",
       "  (function(spec, embedOpt){\n",
       "    let outputDiv = document.currentScript.previousElementSibling;\n",
       "    if (outputDiv.id !== \"altair-viz-1e09b5ad818142d686b9e404c451b130\") {\n",
       "      outputDiv = document.getElementById(\"altair-viz-1e09b5ad818142d686b9e404c451b130\");\n",
       "    }\n",
       "    const paths = {\n",
       "      \"vega\": \"https://cdn.jsdelivr.net/npm//vega@5?noext\",\n",
       "      \"vega-lib\": \"https://cdn.jsdelivr.net/npm//vega-lib?noext\",\n",
       "      \"vega-lite\": \"https://cdn.jsdelivr.net/npm//vega-lite@4.8.1?noext\",\n",
       "      \"vega-embed\": \"https://cdn.jsdelivr.net/npm//vega-embed@6?noext\",\n",
       "    };\n",
       "\n",
       "    function loadScript(lib) {\n",
       "      return new Promise(function(resolve, reject) {\n",
       "        var s = document.createElement('script');\n",
       "        s.src = paths[lib];\n",
       "        s.async = true;\n",
       "        s.onload = () => resolve(paths[lib]);\n",
       "        s.onerror = () => reject(`Error loading script: ${paths[lib]}`);\n",
       "        document.getElementsByTagName(\"head\")[0].appendChild(s);\n",
       "      });\n",
       "    }\n",
       "\n",
       "    function showError(err) {\n",
       "      outputDiv.innerHTML = `<div class=\"error\" style=\"color:red;\">${err}</div>`;\n",
       "      throw err;\n",
       "    }\n",
       "\n",
       "    function displayChart(vegaEmbed) {\n",
       "      vegaEmbed(outputDiv, spec, embedOpt)\n",
       "        .catch(err => showError(`Javascript Error: ${err.message}<br>This usually means there's a typo in your chart specification. See the javascript console for the full traceback.`));\n",
       "    }\n",
       "\n",
       "    if(typeof define === \"function\" && define.amd) {\n",
       "      requirejs.config({paths});\n",
       "      require([\"vega-embed\"], displayChart, err => showError(`Error loading script: ${err.message}`));\n",
       "    } else if (typeof vegaEmbed === \"function\") {\n",
       "      displayChart(vegaEmbed);\n",
       "    } else {\n",
       "      loadScript(\"vega\")\n",
       "        .then(() => loadScript(\"vega-lite\"))\n",
       "        .then(() => loadScript(\"vega-embed\"))\n",
       "        .catch(showError)\n",
       "        .then(() => displayChart(vegaEmbed));\n",
       "    }\n",
       "  })({\"config\": {\"view\": {\"continuousWidth\": 400, \"continuousHeight\": 300}}, \"vconcat\": [{\"mark\": {\"type\": \"line\", \"point\": true}, \"encoding\": {\"color\": {\"type\": \"nominal\", \"field\": \"ill_type\", \"legend\": {\"title\": \"Type\"}}, \"tooltip\": [{\"type\": \"nominal\", \"field\": \"ill_type\", \"title\": \"Type\"}, {\"type\": \"quantitative\", \"field\": \"year\", \"title\": \"Year\"}, {\"type\": \"quantitative\", \"field\": \"total_results\", \"format\": \",\", \"title\": \"Articles\"}], \"x\": {\"type\": \"quantitative\", \"axis\": {\"format\": \"c\", \"title\": \"Year\"}, \"field\": \"year\"}, \"y\": {\"type\": \"quantitative\", \"axis\": {\"format\": \",d\", \"title\": \"Number of articles\"}, \"field\": \"total_results\"}}, \"height\": 250, \"width\": 700}, {\"mark\": {\"type\": \"line\", \"point\": true}, \"encoding\": {\"color\": {\"type\": \"nominal\", \"field\": \"ill_type\", \"legend\": {\"title\": \"Type\"}}, \"tooltip\": [{\"type\": \"nominal\", \"field\": \"ill_type\", \"title\": \"Type\"}, {\"type\": \"quantitative\", \"field\": \"year\", \"title\": \"Year\"}, {\"type\": \"quantitative\", \"field\": \"proportion\", \"format\": \"%\", \"title\": \"Proportion\"}], \"x\": {\"type\": \"quantitative\", \"axis\": {\"format\": \"c\", \"title\": \"Year\"}, \"field\": \"year\"}, \"y\": {\"type\": \"quantitative\", \"axis\": {\"format\": \"%\", \"title\": \"Proportion of articles\"}, \"field\": \"proportion\", \"stack\": null}}, \"height\": 250, \"width\": 700}], \"data\": {\"name\": \"data-37703ad4decde818c3ff9576b98ac335\"}, \"$schema\": \"https://vega.github.io/schema/vega-lite/v4.8.1.json\", \"datasets\": {\"data-37703ad4decde818c3ff9576b98ac335\": [{\"year\": 1828, \"total_results\": 1, \"ill_type\": \"Photo\", \"total_articles\": 6726, \"proportion\": 0.0001486767766874814}, {\"year\": 1833, \"total_results\": 1, \"ill_type\": \"Photo\", \"total_articles\": 15438, \"proportion\": 6.477522995206633e-05}, {\"year\": 1834, \"total_results\": 4, \"ill_type\": \"Photo\", \"total_articles\": 18704, \"proportion\": 0.000213857998289136}, {\"year\": 1835, \"total_results\": 1, \"ill_type\": \"Photo\", \"total_articles\": 20389, \"proportion\": 4.9046054244935994e-05}, {\"year\": 1842, \"total_results\": 2, \"ill_type\": \"Photo\", \"total_articles\": 44264, \"proportion\": 4.518344478583047e-05}, {\"year\": 1843, \"total_results\": 1, \"ill_type\": \"Photo\", \"total_articles\": 45968, \"proportion\": 2.17542638357118e-05}, {\"year\": 1844, \"total_results\": 1, \"ill_type\": \"Photo\", \"total_articles\": 51377, \"proportion\": 1.946396247348035e-05}, {\"year\": 1845, \"total_results\": 1, \"ill_type\": \"Photo\", \"total_articles\": 60228, \"proportion\": 1.6603573088928736e-05}, {\"year\": 1847, \"total_results\": 14, \"ill_type\": \"Photo\", \"total_articles\": 59503, \"proportion\": 0.00023528225467623481}, {\"year\": 1848, \"total_results\": 5, \"ill_type\": \"Photo\", \"total_articles\": 60302, \"proportion\": 8.291598951941892e-05}, {\"year\": 1849, \"total_results\": 10, \"ill_type\": \"Photo\", \"total_articles\": 59698, \"proportion\": 0.0001675097993232604}, {\"year\": 1850, \"total_results\": 3, \"ill_type\": \"Photo\", \"total_articles\": 78726, \"proportion\": 3.810685161191982e-05}, {\"year\": 1851, \"total_results\": 3, \"ill_type\": \"Photo\", \"total_articles\": 93422, \"proportion\": 3.211235040996767e-05}, {\"year\": 1853, \"total_results\": 1, \"ill_type\": \"Photo\", \"total_articles\": 89716, \"proportion\": 1.114628382897142e-05}, {\"year\": 1854, \"total_results\": 1, \"ill_type\": \"Photo\", \"total_articles\": 111809, \"proportion\": 8.9438238424456e-06}, {\"year\": 1856, \"total_results\": 8, \"ill_type\": \"Photo\", \"total_articles\": 165260, \"proportion\": 4.840856831659204e-05}, {\"year\": 1857, \"total_results\": 6, \"ill_type\": \"Photo\", \"total_articles\": 167962, \"proportion\": 3.572236577321061e-05}, {\"year\": 1858, \"total_results\": 4, \"ill_type\": \"Photo\", \"total_articles\": 170506, \"proportion\": 2.3459584999941352e-05}, {\"year\": 1859, \"total_results\": 14, \"ill_type\": \"Photo\", \"total_articles\": 192157, \"proportion\": 7.28570908163637e-05}, {\"year\": 1860, \"total_results\": 7, \"ill_type\": \"Photo\", \"total_articles\": 203666, \"proportion\": 3.436999793780013e-05}, {\"year\": 1861, \"total_results\": 5, \"ill_type\": \"Photo\", \"total_articles\": 222964, \"proportion\": 2.2425144866435836e-05}, {\"year\": 1862, \"total_results\": 27, \"ill_type\": \"Photo\", \"total_articles\": 231360, \"proportion\": 0.00011670124481327801}, {\"year\": 1863, \"total_results\": 14, \"ill_type\": \"Photo\", \"total_articles\": 236359, \"proportion\": 5.9231931087879034e-05}, {\"year\": 1864, \"total_results\": 10, \"ill_type\": \"Photo\", \"total_articles\": 250078, \"proportion\": 3.9987523892545524e-05}, {\"year\": 1866, \"total_results\": 8, \"ill_type\": \"Photo\", \"total_articles\": 286531, \"proportion\": 2.792019013649483e-05}, {\"year\": 1867, \"total_results\": 7, \"ill_type\": \"Photo\", \"total_articles\": 294045, \"proportion\": 2.3805880052372935e-05}, {\"year\": 1868, \"total_results\": 7, \"ill_type\": \"Photo\", \"total_articles\": 301851, \"proportion\": 2.3190249493955626e-05}, {\"year\": 1869, \"total_results\": 35, \"ill_type\": \"Photo\", \"total_articles\": 323274, \"proportion\": 0.00010826729028625872}, {\"year\": 1870, \"total_results\": 59, \"ill_type\": \"Photo\", \"total_articles\": 368748, \"proportion\": 0.00016000086780131688}, {\"year\": 1871, \"total_results\": 37, \"ill_type\": \"Photo\", \"total_articles\": 356420, \"proportion\": 0.000103810111666012}, {\"year\": 1872, \"total_results\": 36, \"ill_type\": \"Photo\", \"total_articles\": 379281, \"proportion\": 9.491643398957501e-05}, {\"year\": 1873, \"total_results\": 68, \"ill_type\": \"Photo\", \"total_articles\": 418488, \"proportion\": 0.00016248972491445394}, {\"year\": 1874, \"total_results\": 59, \"ill_type\": \"Photo\", \"total_articles\": 433570, \"proportion\": 0.0001360795257974491}, {\"year\": 1875, \"total_results\": 106, \"ill_type\": \"Photo\", \"total_articles\": 461964, \"proportion\": 0.00022945510905611694}, {\"year\": 1876, \"total_results\": 61, \"ill_type\": \"Photo\", \"total_articles\": 474589, \"proportion\": 0.0001285322668666994}, {\"year\": 1877, \"total_results\": 104, \"ill_type\": \"Photo\", \"total_articles\": 496062, \"proportion\": 0.00020965121295321955}, {\"year\": 1878, \"total_results\": 93, \"ill_type\": \"Photo\", \"total_articles\": 567221, \"proportion\": 0.00016395725828204528}, {\"year\": 1879, \"total_results\": 156, \"ill_type\": \"Photo\", \"total_articles\": 605369, \"proportion\": 0.0002576940675852249}, {\"year\": 1880, \"total_results\": 120, \"ill_type\": \"Photo\", \"total_articles\": 620926, \"proportion\": 0.00019325974431735828}, {\"year\": 1881, \"total_results\": 222, \"ill_type\": \"Photo\", \"total_articles\": 663699, \"proportion\": 0.00033448897768416103}, {\"year\": 1882, \"total_results\": 174, \"ill_type\": \"Photo\", \"total_articles\": 743779, \"proportion\": 0.0002339404581199523}, {\"year\": 1883, \"total_results\": 146, \"ill_type\": \"Photo\", \"total_articles\": 766454, \"proportion\": 0.000190487622218685}, {\"year\": 1884, \"total_results\": 295, \"ill_type\": \"Photo\", \"total_articles\": 852461, \"proportion\": 0.0003460568870599359}, {\"year\": 1885, \"total_results\": 346, \"ill_type\": \"Photo\", \"total_articles\": 908355, \"proportion\": 0.00038090834530552485}, {\"year\": 1886, \"total_results\": 226, \"ill_type\": \"Photo\", \"total_articles\": 992953, \"proportion\": 0.0002276039248584777}, {\"year\": 1887, \"total_results\": 550, \"ill_type\": \"Photo\", \"total_articles\": 1041600, \"proportion\": 0.0005280337941628264}, {\"year\": 1888, \"total_results\": 622, \"ill_type\": \"Photo\", \"total_articles\": 1156393, \"proportion\": 0.0005378794233448317}, {\"year\": 1889, \"total_results\": 688, \"ill_type\": \"Photo\", \"total_articles\": 1241746, \"proportion\": 0.0005540585594799581}, {\"year\": 1890, \"total_results\": 1033, \"ill_type\": \"Photo\", \"total_articles\": 1348543, \"proportion\": 0.0007660119106324381}, {\"year\": 1891, \"total_results\": 1158, \"ill_type\": \"Photo\", \"total_articles\": 1419001, \"proportion\": 0.00081606707817683}, {\"year\": 1892, \"total_results\": 1209, \"ill_type\": \"Photo\", \"total_articles\": 1473222, \"proportion\": 0.0008206502482314274}, {\"year\": 1893, \"total_results\": 1579, \"ill_type\": \"Photo\", \"total_articles\": 1493950, \"proportion\": 0.001056929616118344}, {\"year\": 1894, \"total_results\": 1911, \"ill_type\": \"Photo\", \"total_articles\": 1537245, \"proportion\": 0.0012431330074256217}, {\"year\": 1895, \"total_results\": 2816, \"ill_type\": \"Photo\", \"total_articles\": 1655640, \"proportion\": 0.001700852842405354}, {\"year\": 1896, \"total_results\": 3924, \"ill_type\": \"Photo\", \"total_articles\": 1759780, \"proportion\": 0.0022298241825682756}, {\"year\": 1897, \"total_results\": 5442, \"ill_type\": \"Photo\", \"total_articles\": 1878259, \"proportion\": 0.002897363995061384}, {\"year\": 1898, \"total_results\": 7295, \"ill_type\": \"Photo\", \"total_articles\": 2101016, \"proportion\": 0.003472129674405145}, {\"year\": 1899, \"total_results\": 8039, \"ill_type\": \"Photo\", \"total_articles\": 2270158, \"proportion\": 0.003541163214190378}, {\"year\": 1900, \"total_results\": 10046, \"ill_type\": \"Photo\", \"total_articles\": 2502505, \"proportion\": 0.004014377593651162}, {\"year\": 1901, \"total_results\": 11506, \"ill_type\": \"Photo\", \"total_articles\": 2576632, \"proportion\": 0.004465519329108697}, {\"year\": 1902, \"total_results\": 11169, \"ill_type\": \"Photo\", \"total_articles\": 2635471, \"proportion\": 0.004237952153523981}, {\"year\": 1903, \"total_results\": 12110, \"ill_type\": \"Photo\", \"total_articles\": 2679197, \"proportion\": 0.0045200110331565764}, {\"year\": 1904, \"total_results\": 13844, \"ill_type\": \"Photo\", \"total_articles\": 2851878, \"proportion\": 0.0048543451017189375}, {\"year\": 1905, \"total_results\": 15859, \"ill_type\": \"Photo\", \"total_articles\": 2981209, \"proportion\": 0.005319653871969392}, {\"year\": 1906, \"total_results\": 16135, \"ill_type\": \"Photo\", \"total_articles\": 3027361, \"proportion\": 0.005329724469595796}, {\"year\": 1907, \"total_results\": 18666, \"ill_type\": \"Photo\", \"total_articles\": 3182813, \"proportion\": 0.005864623526421439}, {\"year\": 1908, \"total_results\": 20281, \"ill_type\": \"Photo\", \"total_articles\": 3283574, \"proportion\": 0.006176501580290257}, {\"year\": 1909, \"total_results\": 21251, \"ill_type\": \"Photo\", \"total_articles\": 3348174, \"proportion\": 0.006347041700939079}, {\"year\": 1910, \"total_results\": 23773, \"ill_type\": \"Photo\", \"total_articles\": 3585173, \"proportion\": 0.0066309212972428385}, {\"year\": 1911, \"total_results\": 24519, \"ill_type\": \"Photo\", \"total_articles\": 3713930, \"proportion\": 0.006601901489796523}, {\"year\": 1912, \"total_results\": 26841, \"ill_type\": \"Photo\", \"total_articles\": 3868683, \"proportion\": 0.00693801999285028}, {\"year\": 1913, \"total_results\": 31007, \"ill_type\": \"Photo\", \"total_articles\": 3935079, \"proportion\": 0.007879638502810236}, {\"year\": 1914, \"total_results\": 35087, \"ill_type\": \"Photo\", \"total_articles\": 4631430, \"proportion\": 0.007575845905044446}, {\"year\": 1915, \"total_results\": 36652, \"ill_type\": \"Photo\", \"total_articles\": 4731925, \"proportion\": 0.00774568489568199}, {\"year\": 1916, \"total_results\": 32876, \"ill_type\": \"Photo\", \"total_articles\": 4327007, \"proportion\": 0.007597861524143594}, {\"year\": 1917, \"total_results\": 29877, \"ill_type\": \"Photo\", \"total_articles\": 4219898, \"proportion\": 0.007080028948567003}, {\"year\": 1918, \"total_results\": 24811, \"ill_type\": \"Photo\", \"total_articles\": 3996936, \"proportion\": 0.006207504948790773}, {\"year\": 1919, \"total_results\": 23863, \"ill_type\": \"Photo\", \"total_articles\": 3453197, \"proportion\": 0.006910407949503026}, {\"year\": 1920, \"total_results\": 22666, \"ill_type\": \"Photo\", \"total_articles\": 3202012, \"proportion\": 0.007078674283544221}, {\"year\": 1921, \"total_results\": 28093, \"ill_type\": \"Photo\", \"total_articles\": 3387474, \"proportion\": 0.008293200183971892}, {\"year\": 1922, \"total_results\": 41975, \"ill_type\": \"Photo\", \"total_articles\": 3507102, \"proportion\": 0.011968571202092212}, {\"year\": 1923, \"total_results\": 63542, \"ill_type\": \"Photo\", \"total_articles\": 3777858, \"proportion\": 0.01681958400765725}, {\"year\": 1924, \"total_results\": 81725, \"ill_type\": \"Photo\", \"total_articles\": 4063598, \"proportion\": 0.020111487405988487}, {\"year\": 1925, \"total_results\": 87032, \"ill_type\": \"Photo\", \"total_articles\": 4025384, \"proportion\": 0.02162079443849332}, {\"year\": 1926, \"total_results\": 97323, \"ill_type\": \"Photo\", \"total_articles\": 4007278, \"proportion\": 0.024286560602982874}, {\"year\": 1927, \"total_results\": 117838, \"ill_type\": \"Photo\", \"total_articles\": 4040350, \"proportion\": 0.029165295085821774}, {\"year\": 1928, \"total_results\": 139744, \"ill_type\": \"Photo\", \"total_articles\": 4120958, \"proportion\": 0.03391056157330407}, {\"year\": 1929, \"total_results\": 164491, \"ill_type\": \"Photo\", \"total_articles\": 4346183, \"proportion\": 0.0378472328477655}, {\"year\": 1930, \"total_results\": 181591, \"ill_type\": \"Photo\", \"total_articles\": 4194819, \"proportion\": 0.04328935288983863}, {\"year\": 1931, \"total_results\": 155982, \"ill_type\": \"Photo\", \"total_articles\": 3825141, \"proportion\": 0.04077810465025995}, {\"year\": 1932, \"total_results\": 175574, \"ill_type\": \"Photo\", \"total_articles\": 3804137, \"proportion\": 0.04615343769164991}, {\"year\": 1933, \"total_results\": 195157, \"ill_type\": \"Photo\", \"total_articles\": 3978777, \"proportion\": 0.049049494354672304}, {\"year\": 1934, \"total_results\": 216727, \"ill_type\": \"Photo\", \"total_articles\": 4075716, \"proportion\": 0.05317519670163476}, {\"year\": 1935, \"total_results\": 223316, \"ill_type\": \"Photo\", \"total_articles\": 4157594, \"proportion\": 0.05371279639137443}, {\"year\": 1936, \"total_results\": 236168, \"ill_type\": \"Photo\", \"total_articles\": 4246634, \"proportion\": 0.05561298666190682}, {\"year\": 1937, \"total_results\": 230115, \"ill_type\": \"Photo\", \"total_articles\": 4229023, \"proportion\": 0.05441327701457287}, {\"year\": 1938, \"total_results\": 222205, \"ill_type\": \"Photo\", \"total_articles\": 4225814, \"proportion\": 0.052582768668947566}, {\"year\": 1939, \"total_results\": 195650, \"ill_type\": \"Photo\", \"total_articles\": 3994424, \"proportion\": 0.04898077920621346}, {\"year\": 1940, \"total_results\": 152198, \"ill_type\": \"Photo\", \"total_articles\": 3392990, \"proportion\": 0.04485660140466079}, {\"year\": 1941, \"total_results\": 129883, \"ill_type\": \"Photo\", \"total_articles\": 2987500, \"proportion\": 0.04347548117154812}, {\"year\": 1942, \"total_results\": 91409, \"ill_type\": \"Photo\", \"total_articles\": 2389391, \"proportion\": 0.03825619164046404}, {\"year\": 1943, \"total_results\": 78742, \"ill_type\": \"Photo\", \"total_articles\": 2103261, \"proportion\": 0.037438054525805405}, {\"year\": 1944, \"total_results\": 87565, \"ill_type\": \"Photo\", \"total_articles\": 2152455, \"proportion\": 0.040681454432264556}, {\"year\": 1945, \"total_results\": 105690, \"ill_type\": \"Photo\", \"total_articles\": 2337141, \"proportion\": 0.045221918574874176}, {\"year\": 1946, \"total_results\": 129353, \"ill_type\": \"Photo\", \"total_articles\": 2625887, \"proportion\": 0.049260687912313056}, {\"year\": 1947, \"total_results\": 137009, \"ill_type\": \"Photo\", \"total_articles\": 2716737, \"proportion\": 0.050431455087481786}, {\"year\": 1948, \"total_results\": 111873, \"ill_type\": \"Photo\", \"total_articles\": 2465735, \"proportion\": 0.04537105568927723}, {\"year\": 1949, \"total_results\": 147207, \"ill_type\": \"Photo\", \"total_articles\": 2720488, \"proportion\": 0.05411051252569392}, {\"year\": 1950, \"total_results\": 154550, \"ill_type\": \"Photo\", \"total_articles\": 2740028, \"proportion\": 0.05640453309236256}, {\"year\": 1951, \"total_results\": 127204, \"ill_type\": \"Photo\", \"total_articles\": 2511109, \"proportion\": 0.050656502764316484}, {\"year\": 1952, \"total_results\": 130487, \"ill_type\": \"Photo\", \"total_articles\": 2554216, \"proportion\": 0.0510869088597049}, {\"year\": 1953, \"total_results\": 153371, \"ill_type\": \"Photo\", \"total_articles\": 2691009, \"proportion\": 0.05699386363999526}, {\"year\": 1954, \"total_results\": 168906, \"ill_type\": \"Photo\", \"total_articles\": 2702881, \"proportion\": 0.06249109746230041}, {\"year\": 1955, \"total_results\": 16551, \"ill_type\": \"Photo\", \"total_articles\": 252963, \"proportion\": 0.0654285409328637}, {\"year\": 1956, \"total_results\": 13402, \"ill_type\": \"Photo\", \"total_articles\": 176649, \"proportion\": 0.07586796415490606}, {\"year\": 1957, \"total_results\": 4873, \"ill_type\": \"Photo\", \"total_articles\": 102977, \"proportion\": 0.047321246491935094}, {\"year\": 1958, \"total_results\": 4641, \"ill_type\": \"Photo\", \"total_articles\": 103319, \"proportion\": 0.04491913394438583}, {\"year\": 1959, \"total_results\": 5550, \"ill_type\": \"Photo\", \"total_articles\": 99010, \"proportion\": 0.05605494394505606}, {\"year\": 1960, \"total_results\": 7011, \"ill_type\": \"Photo\", \"total_articles\": 93273, \"proportion\": 0.07516644688173427}, {\"year\": 1961, \"total_results\": 7287, \"ill_type\": \"Photo\", \"total_articles\": 88200, \"proportion\": 0.08261904761904762}, {\"year\": 1962, \"total_results\": 7994, \"ill_type\": \"Photo\", \"total_articles\": 87318, \"proportion\": 0.09155042488375821}, {\"year\": 1963, \"total_results\": 10889, \"ill_type\": \"Photo\", \"total_articles\": 96229, \"proportion\": 0.11315715636658388}, {\"year\": 1964, \"total_results\": 11507, \"ill_type\": \"Photo\", \"total_articles\": 96814, \"proportion\": 0.11885677691243002}, {\"year\": 1965, \"total_results\": 12474, \"ill_type\": \"Photo\", \"total_articles\": 101122, \"proportion\": 0.12335594628270802}, {\"year\": 1966, \"total_results\": 12282, \"ill_type\": \"Photo\", \"total_articles\": 98928, \"proportion\": 0.12415089762251334}, {\"year\": 1967, \"total_results\": 12063, \"ill_type\": \"Photo\", \"total_articles\": 97474, \"proportion\": 0.123756078544022}, {\"year\": 1968, \"total_results\": 12668, \"ill_type\": \"Photo\", \"total_articles\": 100507, \"proportion\": 0.1260409722705881}, {\"year\": 1969, \"total_results\": 14373, \"ill_type\": \"Photo\", \"total_articles\": 121108, \"proportion\": 0.1186791954288734}, {\"year\": 1970, \"total_results\": 16390, \"ill_type\": \"Photo\", \"total_articles\": 138406, \"proportion\": 0.1184197216883661}, {\"year\": 1971, \"total_results\": 14963, \"ill_type\": \"Photo\", \"total_articles\": 136162, \"proportion\": 0.10989115906053083}, {\"year\": 1972, \"total_results\": 13398, \"ill_type\": \"Photo\", \"total_articles\": 132241, \"proportion\": 0.10131502332861972}, {\"year\": 1973, \"total_results\": 13112, \"ill_type\": \"Photo\", \"total_articles\": 133033, \"proportion\": 0.09856201092961897}, {\"year\": 1974, \"total_results\": 12228, \"ill_type\": \"Photo\", \"total_articles\": 131271, \"proportion\": 0.09315081015608931}, {\"year\": 1975, \"total_results\": 12573, \"ill_type\": \"Photo\", \"total_articles\": 125005, \"proportion\": 0.10057997680092796}, {\"year\": 1976, \"total_results\": 14482, \"ill_type\": \"Photo\", \"total_articles\": 126193, \"proportion\": 0.11476072365345145}, {\"year\": 1977, \"total_results\": 15048, \"ill_type\": \"Photo\", \"total_articles\": 128804, \"proportion\": 0.11682866991708332}, {\"year\": 1978, \"total_results\": 16782, \"ill_type\": \"Photo\", \"total_articles\": 133155, \"proportion\": 0.1260335698997409}, {\"year\": 1979, \"total_results\": 18240, \"ill_type\": \"Photo\", \"total_articles\": 137809, \"proportion\": 0.1323571029468322}, {\"year\": 1980, \"total_results\": 17664, \"ill_type\": \"Photo\", \"total_articles\": 135609, \"proportion\": 0.13025684136008672}, {\"year\": 1981, \"total_results\": 15326, \"ill_type\": \"Photo\", \"total_articles\": 114802, \"proportion\": 0.1334994163864741}, {\"year\": 1982, \"total_results\": 12423, \"ill_type\": \"Photo\", \"total_articles\": 102033, \"proportion\": 0.12175472641204316}, {\"year\": 1983, \"total_results\": 10599, \"ill_type\": \"Photo\", \"total_articles\": 87590, \"proportion\": 0.12100696426532709}, {\"year\": 1984, \"total_results\": 11956, \"ill_type\": \"Photo\", \"total_articles\": 92214, \"proportion\": 0.12965493309042012}, {\"year\": 1985, \"total_results\": 12962, \"ill_type\": \"Photo\", \"total_articles\": 98601, \"proportion\": 0.13145911299074045}, {\"year\": 1986, \"total_results\": 12093, \"ill_type\": \"Photo\", \"total_articles\": 96748, \"proportion\": 0.12499483193451028}, {\"year\": 1987, \"total_results\": 12687, \"ill_type\": \"Photo\", \"total_articles\": 96387, \"proportion\": 0.1316256341622833}, {\"year\": 1988, \"total_results\": 14822, \"ill_type\": \"Photo\", \"total_articles\": 107116, \"proportion\": 0.13837335225363157}, {\"year\": 1989, \"total_results\": 15377, \"ill_type\": \"Photo\", \"total_articles\": 107496, \"proportion\": 0.14304718315100096}, {\"year\": 1990, \"total_results\": 14522, \"ill_type\": \"Photo\", \"total_articles\": 104053, \"proportion\": 0.13956349168212354}, {\"year\": 1991, \"total_results\": 15809, \"ill_type\": \"Photo\", \"total_articles\": 111099, \"proportion\": 0.14229651031962484}, {\"year\": 1992, \"total_results\": 16336, \"ill_type\": \"Photo\", \"total_articles\": 110158, \"proportion\": 0.14829608380689555}, {\"year\": 1993, \"total_results\": 16561, \"ill_type\": \"Photo\", \"total_articles\": 109708, \"proportion\": 0.15095526306194626}, {\"year\": 1994, \"total_results\": 17310, \"ill_type\": \"Photo\", \"total_articles\": 106086, \"proportion\": 0.16316950398733104}, {\"year\": 1995, \"total_results\": 18593, \"ill_type\": \"Photo\", \"total_articles\": 106861, \"proportion\": 0.1739923826278998}, {\"year\": 1996, \"total_results\": 4552, \"ill_type\": \"Photo\", \"total_articles\": 25540, \"proportion\": 0.17823022709475334}, {\"year\": 1997, \"total_results\": 4675, \"ill_type\": \"Photo\", \"total_articles\": 26458, \"proportion\": 0.17669513946632398}, {\"year\": 1998, \"total_results\": 6039, \"ill_type\": \"Photo\", \"total_articles\": 32955, \"proportion\": 0.18324988620846608}, {\"year\": 1999, \"total_results\": 7821, \"ill_type\": \"Photo\", \"total_articles\": 42254, \"proportion\": 0.18509490225777442}, {\"year\": 2000, \"total_results\": 6417, \"ill_type\": \"Photo\", \"total_articles\": 32249, \"proportion\": 0.1989829141988899}, {\"year\": 2001, \"total_results\": 6169, \"ill_type\": \"Photo\", \"total_articles\": 31114, \"proportion\": 0.1982708748473356}, {\"year\": 2002, \"total_results\": 6627, \"ill_type\": \"Photo\", \"total_articles\": 31128, \"proportion\": 0.21289514263685427}, {\"year\": 2003, \"total_results\": 2994, \"ill_type\": \"Photo\", \"total_articles\": 12888, \"proportion\": 0.23230912476722532}, {\"year\": 2004, \"total_results\": 2451, \"ill_type\": \"Photo\", \"total_articles\": 10980, \"proportion\": 0.223224043715847}, {\"year\": 2005, \"total_results\": 1078, \"ill_type\": \"Photo\", \"total_articles\": 6187, \"proportion\": 0.17423630192338774}, {\"year\": 2006, \"total_results\": 1142, \"ill_type\": \"Photo\", \"total_articles\": 5553, \"proportion\": 0.2056546011165136}, {\"year\": 2007, \"total_results\": 1349, \"ill_type\": \"Photo\", \"total_articles\": 5747, \"proportion\": 0.23473116408560987}, {\"year\": 2008, \"total_results\": 1068, \"ill_type\": \"Photo\", \"total_articles\": 4715, \"proportion\": 0.22651113467656417}, {\"year\": 2009, \"total_results\": 896, \"ill_type\": \"Photo\", \"total_articles\": 4227, \"proportion\": 0.21197066477407145}, {\"year\": 2010, \"total_results\": 997, \"ill_type\": \"Photo\", \"total_articles\": 4137, \"proportion\": 0.24099589074208363}, {\"year\": 2011, \"total_results\": 913, \"ill_type\": \"Photo\", \"total_articles\": 3645, \"proportion\": 0.250480109739369}, {\"year\": 2012, \"total_results\": 1043, \"ill_type\": \"Photo\", \"total_articles\": 3322, \"proportion\": 0.3139674894641782}, {\"year\": 2013, \"total_results\": 1024, \"ill_type\": \"Photo\", \"total_articles\": 3451, \"proportion\": 0.29672558678643873}, {\"year\": 2014, \"total_results\": 995, \"ill_type\": \"Photo\", \"total_articles\": 3132, \"proportion\": 0.3176883780332056}, {\"year\": 2015, \"total_results\": 966, \"ill_type\": \"Photo\", \"total_articles\": 3223, \"proportion\": 0.29972075705864104}, {\"year\": 1837, \"total_results\": 1, \"ill_type\": \"Cartoon\", \"total_articles\": 21697, \"proportion\": 4.608932110430013e-05}, {\"year\": 1840, \"total_results\": 1, \"ill_type\": \"Cartoon\", \"total_articles\": 40450, \"proportion\": 2.4721878862793572e-05}, {\"year\": 1857, \"total_results\": 1, \"ill_type\": \"Cartoon\", \"total_articles\": 167962, \"proportion\": 5.953727628868434e-06}, {\"year\": 1858, \"total_results\": 1, \"ill_type\": \"Cartoon\", \"total_articles\": 170506, \"proportion\": 5.864896249985338e-06}, {\"year\": 1863, \"total_results\": 1, \"ill_type\": \"Cartoon\", \"total_articles\": 236359, \"proportion\": 4.230852220562788e-06}, {\"year\": 1864, \"total_results\": 2, \"ill_type\": \"Cartoon\", \"total_articles\": 250078, \"proportion\": 7.997504778509105e-06}, {\"year\": 1865, \"total_results\": 1, \"ill_type\": \"Cartoon\", \"total_articles\": 270535, \"proportion\": 3.6963793963812445e-06}, {\"year\": 1867, \"total_results\": 1, \"ill_type\": \"Cartoon\", \"total_articles\": 294045, \"proportion\": 3.400840007481848e-06}, {\"year\": 1869, \"total_results\": 2, \"ill_type\": \"Cartoon\", \"total_articles\": 323274, \"proportion\": 6.186702302071926e-06}, {\"year\": 1870, \"total_results\": 2, \"ill_type\": \"Cartoon\", \"total_articles\": 368748, \"proportion\": 5.423758230553115e-06}, {\"year\": 1871, \"total_results\": 4, \"ill_type\": \"Cartoon\", \"total_articles\": 356420, \"proportion\": 1.1222714774704001e-05}, {\"year\": 1872, \"total_results\": 1, \"ill_type\": \"Cartoon\", \"total_articles\": 379281, \"proportion\": 2.6365676108215283e-06}, {\"year\": 1873, \"total_results\": 9, \"ill_type\": \"Cartoon\", \"total_articles\": 418488, \"proportion\": 2.150599300338361e-05}, {\"year\": 1874, \"total_results\": 9, \"ill_type\": \"Cartoon\", \"total_articles\": 433570, \"proportion\": 2.075789376571257e-05}, {\"year\": 1875, \"total_results\": 17, \"ill_type\": \"Cartoon\", \"total_articles\": 461964, \"proportion\": 3.679940428258479e-05}, {\"year\": 1876, \"total_results\": 13, \"ill_type\": \"Cartoon\", \"total_articles\": 474589, \"proportion\": 2.739212244700151e-05}, {\"year\": 1877, \"total_results\": 8, \"ill_type\": \"Cartoon\", \"total_articles\": 496062, \"proportion\": 1.612701638101689e-05}, {\"year\": 1878, \"total_results\": 2, \"ill_type\": \"Cartoon\", \"total_articles\": 567221, \"proportion\": 3.525962543699898e-06}, {\"year\": 1879, \"total_results\": 5, \"ill_type\": \"Cartoon\", \"total_articles\": 605369, \"proportion\": 8.259425243116182e-06}, {\"year\": 1880, \"total_results\": 27, \"ill_type\": \"Cartoon\", \"total_articles\": 620926, \"proportion\": 4.348344247140561e-05}, {\"year\": 1881, \"total_results\": 2, \"ill_type\": \"Cartoon\", \"total_articles\": 663699, \"proportion\": 3.01341421337082e-06}, {\"year\": 1882, \"total_results\": 24, \"ill_type\": \"Cartoon\", \"total_articles\": 743779, \"proportion\": 3.226764939585549e-05}, {\"year\": 1883, \"total_results\": 5, \"ill_type\": \"Cartoon\", \"total_articles\": 766454, \"proportion\": 6.523548706119349e-06}, {\"year\": 1884, \"total_results\": 69, \"ill_type\": \"Cartoon\", \"total_articles\": 852461, \"proportion\": 8.094211934622229e-05}, {\"year\": 1885, \"total_results\": 29, \"ill_type\": \"Cartoon\", \"total_articles\": 908355, \"proportion\": 3.192584397069428e-05}, {\"year\": 1886, \"total_results\": 31, \"ill_type\": \"Cartoon\", \"total_articles\": 992953, \"proportion\": 3.1220007392092075e-05}, {\"year\": 1887, \"total_results\": 18, \"ill_type\": \"Cartoon\", \"total_articles\": 1041600, \"proportion\": 1.728110599078341e-05}, {\"year\": 1888, \"total_results\": 67, \"ill_type\": \"Cartoon\", \"total_articles\": 1156393, \"proportion\": 5.793878032814104e-05}, {\"year\": 1889, \"total_results\": 73, \"ill_type\": \"Cartoon\", \"total_articles\": 1241746, \"proportion\": 5.878819017737927e-05}, {\"year\": 1890, \"total_results\": 237, \"ill_type\": \"Cartoon\", \"total_articles\": 1348543, \"proportion\": 0.00017574523022254387}, {\"year\": 1891, \"total_results\": 80, \"ill_type\": \"Cartoon\", \"total_articles\": 1419001, \"proportion\": 5.6377691065756824e-05}, {\"year\": 1892, \"total_results\": 110, \"ill_type\": \"Cartoon\", \"total_articles\": 1473222, \"proportion\": 7.46662756868958e-05}, {\"year\": 1893, \"total_results\": 183, \"ill_type\": \"Cartoon\", \"total_articles\": 1493950, \"proportion\": 0.00012249405937280364}, {\"year\": 1894, \"total_results\": 163, \"ill_type\": \"Cartoon\", \"total_articles\": 1537245, \"proportion\": 0.0001060338462639332}, {\"year\": 1895, \"total_results\": 202, \"ill_type\": \"Cartoon\", \"total_articles\": 1655640, \"proportion\": 0.00012200719963277041}, {\"year\": 1896, \"total_results\": 202, \"ill_type\": \"Cartoon\", \"total_articles\": 1759780, \"proportion\": 0.00011478707565718443}, {\"year\": 1897, \"total_results\": 247, \"ill_type\": \"Cartoon\", \"total_articles\": 1878259, \"proportion\": 0.0001315047605255718}, {\"year\": 1898, \"total_results\": 387, \"ill_type\": \"Cartoon\", \"total_articles\": 2101016, \"proportion\": 0.00018419659821724348}, {\"year\": 1899, \"total_results\": 323, \"ill_type\": \"Cartoon\", \"total_articles\": 2270158, \"proportion\": 0.00014228084565039086}, {\"year\": 1900, \"total_results\": 440, \"ill_type\": \"Cartoon\", \"total_articles\": 2502505, \"proportion\": 0.00017582382452782313}, {\"year\": 1901, \"total_results\": 494, \"ill_type\": \"Cartoon\", \"total_articles\": 2576632, \"proportion\": 0.00019172314866849438}, {\"year\": 1902, \"total_results\": 514, \"ill_type\": \"Cartoon\", \"total_articles\": 2635471, \"proportion\": 0.00019503155223487566}, {\"year\": 1903, \"total_results\": 680, \"ill_type\": \"Cartoon\", \"total_articles\": 2679197, \"proportion\": 0.00025380739079657077}, {\"year\": 1904, \"total_results\": 585, \"ill_type\": \"Cartoon\", \"total_articles\": 2851878, \"proportion\": 0.00020512798934596782}, {\"year\": 1905, \"total_results\": 793, \"ill_type\": \"Cartoon\", \"total_articles\": 2981209, \"proportion\": 0.0002659994653175943}, {\"year\": 1906, \"total_results\": 979, \"ill_type\": \"Cartoon\", \"total_articles\": 3027361, \"proportion\": 0.0003233839637889237}, {\"year\": 1907, \"total_results\": 845, \"ill_type\": \"Cartoon\", \"total_articles\": 3182813, \"proportion\": 0.0002654884217200319}, {\"year\": 1908, \"total_results\": 776, \"ill_type\": \"Cartoon\", \"total_articles\": 3283574, \"proportion\": 0.00023632785495316993}, {\"year\": 1909, \"total_results\": 968, \"ill_type\": \"Cartoon\", \"total_articles\": 3348174, \"proportion\": 0.0002891128119386866}, {\"year\": 1910, \"total_results\": 714, \"ill_type\": \"Cartoon\", \"total_articles\": 3585173, \"proportion\": 0.00019915356943723498}, {\"year\": 1911, \"total_results\": 854, \"ill_type\": \"Cartoon\", \"total_articles\": 3713930, \"proportion\": 0.00022994509858828788}, {\"year\": 1912, \"total_results\": 1339, \"ill_type\": \"Cartoon\", \"total_articles\": 3868683, \"proportion\": 0.0003461126176530876}, {\"year\": 1913, \"total_results\": 1264, \"ill_type\": \"Cartoon\", \"total_articles\": 3935079, \"proportion\": 0.0003212133733528603}, {\"year\": 1914, \"total_results\": 1403, \"ill_type\": \"Cartoon\", \"total_articles\": 4631430, \"proportion\": 0.0003029301965051831}, {\"year\": 1915, \"total_results\": 1587, \"ill_type\": \"Cartoon\", \"total_articles\": 4731925, \"proportion\": 0.0003353814779397391}, {\"year\": 1916, \"total_results\": 1659, \"ill_type\": \"Cartoon\", \"total_articles\": 4327007, \"proportion\": 0.00038340589696295846}, {\"year\": 1917, \"total_results\": 1400, \"ill_type\": \"Cartoon\", \"total_articles\": 4219898, \"proportion\": 0.0003317615733840012}, {\"year\": 1918, \"total_results\": 1346, \"ill_type\": \"Cartoon\", \"total_articles\": 3996936, \"proportion\": 0.0003367579565947516}, {\"year\": 1919, \"total_results\": 842, \"ill_type\": \"Cartoon\", \"total_articles\": 3453197, \"proportion\": 0.00024383202000928414}, {\"year\": 1920, \"total_results\": 666, \"ill_type\": \"Cartoon\", \"total_articles\": 3202012, \"proportion\": 0.00020799422363189144}, {\"year\": 1921, \"total_results\": 1289, \"ill_type\": \"Cartoon\", \"total_articles\": 3387474, \"proportion\": 0.00038051952575872167}, {\"year\": 1922, \"total_results\": 2694, \"ill_type\": \"Cartoon\", \"total_articles\": 3507102, \"proportion\": 0.0007681555882891345}, {\"year\": 1923, \"total_results\": 4033, \"ill_type\": \"Cartoon\", \"total_articles\": 3777858, \"proportion\": 0.0010675361540851986}, {\"year\": 1924, \"total_results\": 4566, \"ill_type\": \"Cartoon\", \"total_articles\": 4063598, \"proportion\": 0.0011236347689904365}, {\"year\": 1925, \"total_results\": 4954, \"ill_type\": \"Cartoon\", \"total_articles\": 4025384, \"proportion\": 0.001230690040999815}, {\"year\": 1926, \"total_results\": 3831, \"ill_type\": \"Cartoon\", \"total_articles\": 4007278, \"proportion\": 0.0009560105388246086}, {\"year\": 1927, \"total_results\": 4870, \"ill_type\": \"Cartoon\", \"total_articles\": 4040350, \"proportion\": 0.0012053411214374991}, {\"year\": 1928, \"total_results\": 5039, \"ill_type\": \"Cartoon\", \"total_articles\": 4120958, \"proportion\": 0.0012227739278099898}, {\"year\": 1929, \"total_results\": 6919, \"ill_type\": \"Cartoon\", \"total_articles\": 4346183, \"proportion\": 0.0015919716219956685}, {\"year\": 1930, \"total_results\": 8008, \"ill_type\": \"Cartoon\", \"total_articles\": 4194819, \"proportion\": 0.0019090215811456942}, {\"year\": 1931, \"total_results\": 8034, \"ill_type\": \"Cartoon\", \"total_articles\": 3825141, \"proportion\": 0.0021003147334960988}, {\"year\": 1932, \"total_results\": 9927, \"ill_type\": \"Cartoon\", \"total_articles\": 3804137, \"proportion\": 0.002609527469699435}, {\"year\": 1933, \"total_results\": 12771, \"ill_type\": \"Cartoon\", \"total_articles\": 3978777, \"proportion\": 0.0032097802917831282}, {\"year\": 1934, \"total_results\": 15811, \"ill_type\": \"Cartoon\", \"total_articles\": 4075716, \"proportion\": 0.0038793183823406735}, {\"year\": 1935, \"total_results\": 14543, \"ill_type\": \"Cartoon\", \"total_articles\": 4157594, \"proportion\": 0.0034979365469548014}, {\"year\": 1936, \"total_results\": 20841, \"ill_type\": \"Cartoon\", \"total_articles\": 4246634, \"proportion\": 0.004907651565922564}, {\"year\": 1937, \"total_results\": 24825, \"ill_type\": \"Cartoon\", \"total_articles\": 4229023, \"proportion\": 0.005870150150519399}, {\"year\": 1938, \"total_results\": 30119, \"ill_type\": \"Cartoon\", \"total_articles\": 4225814, \"proportion\": 0.007127384215206822}, {\"year\": 1939, \"total_results\": 30333, \"ill_type\": \"Cartoon\", \"total_articles\": 3994424, \"proportion\": 0.007593835807115119}, {\"year\": 1940, \"total_results\": 27405, \"ill_type\": \"Cartoon\", \"total_articles\": 3392990, \"proportion\": 0.00807694688165895}, {\"year\": 1941, \"total_results\": 22738, \"ill_type\": \"Cartoon\", \"total_articles\": 2987500, \"proportion\": 0.007611046025104602}, {\"year\": 1942, \"total_results\": 19049, \"ill_type\": \"Cartoon\", \"total_articles\": 2389391, \"proportion\": 0.00797232432866785}, {\"year\": 1943, \"total_results\": 16400, \"ill_type\": \"Cartoon\", \"total_articles\": 2103261, \"proportion\": 0.007797415537111181}, {\"year\": 1944, \"total_results\": 20369, \"ill_type\": \"Cartoon\", \"total_articles\": 2152455, \"proportion\": 0.00946314789391648}, {\"year\": 1945, \"total_results\": 29724, \"ill_type\": \"Cartoon\", \"total_articles\": 2337141, \"proportion\": 0.01271810301560753}, {\"year\": 1946, \"total_results\": 38740, \"ill_type\": \"Cartoon\", \"total_articles\": 2625887, \"proportion\": 0.014753110091942266}, {\"year\": 1947, \"total_results\": 41874, \"ill_type\": \"Cartoon\", \"total_articles\": 2716737, \"proportion\": 0.015413343286449884}, {\"year\": 1948, \"total_results\": 33297, \"ill_type\": \"Cartoon\", \"total_articles\": 2465735, \"proportion\": 0.013503884237357218}, {\"year\": 1949, \"total_results\": 36905, \"ill_type\": \"Cartoon\", \"total_articles\": 2720488, \"proportion\": 0.013565580881077219}, {\"year\": 1950, \"total_results\": 44351, \"ill_type\": \"Cartoon\", \"total_articles\": 2740028, \"proportion\": 0.016186330942603508}, {\"year\": 1951, \"total_results\": 37477, \"ill_type\": \"Cartoon\", \"total_articles\": 2511109, \"proportion\": 0.0149244815736792}, {\"year\": 1952, \"total_results\": 36130, \"ill_type\": \"Cartoon\", \"total_articles\": 2554216, \"proportion\": 0.0141452406531006}, {\"year\": 1953, \"total_results\": 41681, \"ill_type\": \"Cartoon\", \"total_articles\": 2691009, \"proportion\": 0.015488985729887935}, {\"year\": 1954, \"total_results\": 45837, \"ill_type\": \"Cartoon\", \"total_articles\": 2702881, \"proportion\": 0.016958571243055096}, {\"year\": 1955, \"total_results\": 6111, \"ill_type\": \"Cartoon\", \"total_articles\": 252963, \"proportion\": 0.02415768313943146}, {\"year\": 1956, \"total_results\": 5322, \"ill_type\": \"Cartoon\", \"total_articles\": 176649, \"proportion\": 0.030127541055992392}, {\"year\": 1957, \"total_results\": 1330, \"ill_type\": \"Cartoon\", \"total_articles\": 102977, \"proportion\": 0.012915505404119367}, {\"year\": 1958, \"total_results\": 1155, \"ill_type\": \"Cartoon\", \"total_articles\": 103319, \"proportion\": 0.01117896998615937}, {\"year\": 1959, \"total_results\": 1281, \"ill_type\": \"Cartoon\", \"total_articles\": 99010, \"proportion\": 0.012938087061912937}, {\"year\": 1960, \"total_results\": 1268, \"ill_type\": \"Cartoon\", \"total_articles\": 93273, \"proportion\": 0.013594502160325067}, {\"year\": 1961, \"total_results\": 1160, \"ill_type\": \"Cartoon\", \"total_articles\": 88200, \"proportion\": 0.013151927437641724}, {\"year\": 1962, \"total_results\": 1107, \"ill_type\": \"Cartoon\", \"total_articles\": 87318, \"proportion\": 0.012677798392084107}, {\"year\": 1963, \"total_results\": 1106, \"ill_type\": \"Cartoon\", \"total_articles\": 96229, \"proportion\": 0.01149341674547174}, {\"year\": 1964, \"total_results\": 2011, \"ill_type\": \"Cartoon\", \"total_articles\": 96814, \"proportion\": 0.020771789204040738}, {\"year\": 1965, \"total_results\": 2564, \"ill_type\": \"Cartoon\", \"total_articles\": 101122, \"proportion\": 0.02535551116473171}, {\"year\": 1966, \"total_results\": 2205, \"ill_type\": \"Cartoon\", \"total_articles\": 98928, \"proportion\": 0.022288937409024746}, {\"year\": 1967, \"total_results\": 2025, \"ill_type\": \"Cartoon\", \"total_articles\": 97474, \"proportion\": 0.020774770708086258}, {\"year\": 1968, \"total_results\": 2208, \"ill_type\": \"Cartoon\", \"total_articles\": 100507, \"proportion\": 0.021968619101157133}, {\"year\": 1969, \"total_results\": 2592, \"ill_type\": \"Cartoon\", \"total_articles\": 121108, \"proportion\": 0.021402384648412986}, {\"year\": 1970, \"total_results\": 2413, \"ill_type\": \"Cartoon\", \"total_articles\": 138406, \"proportion\": 0.017434215279684407}, {\"year\": 1971, \"total_results\": 2485, \"ill_type\": \"Cartoon\", \"total_articles\": 136162, \"proportion\": 0.018250319472393178}, {\"year\": 1972, \"total_results\": 2325, \"ill_type\": \"Cartoon\", \"total_articles\": 132241, \"proportion\": 0.017581536739740323}, {\"year\": 1973, \"total_results\": 2490, \"ill_type\": \"Cartoon\", \"total_articles\": 133033, \"proportion\": 0.01871716040380958}, {\"year\": 1974, \"total_results\": 2544, \"ill_type\": \"Cartoon\", \"total_articles\": 131271, \"proportion\": 0.01937975638183605}, {\"year\": 1975, \"total_results\": 2163, \"ill_type\": \"Cartoon\", \"total_articles\": 125005, \"proportion\": 0.017303307867685292}, {\"year\": 1976, \"total_results\": 2166, \"ill_type\": \"Cartoon\", \"total_articles\": 126193, \"proportion\": 0.01716418501818643}, {\"year\": 1977, \"total_results\": 2146, \"ill_type\": \"Cartoon\", \"total_articles\": 128804, \"proportion\": 0.016660973261699945}, {\"year\": 1978, \"total_results\": 2787, \"ill_type\": \"Cartoon\", \"total_articles\": 133155, \"proportion\": 0.020930494536442492}, {\"year\": 1979, \"total_results\": 3548, \"ill_type\": \"Cartoon\", \"total_articles\": 137809, \"proportion\": 0.02574577857759653}, {\"year\": 1980, \"total_results\": 3719, \"ill_type\": \"Cartoon\", \"total_articles\": 135609, \"proportion\": 0.027424433481553583}, {\"year\": 1981, \"total_results\": 3474, \"ill_type\": \"Cartoon\", \"total_articles\": 114802, \"proportion\": 0.03026079685022909}, {\"year\": 1982, \"total_results\": 3077, \"ill_type\": \"Cartoon\", \"total_articles\": 102033, \"proportion\": 0.030156910019307478}, {\"year\": 1983, \"total_results\": 2899, \"ill_type\": \"Cartoon\", \"total_articles\": 87590, \"proportion\": 0.03309738554629524}, {\"year\": 1984, \"total_results\": 2929, \"ill_type\": \"Cartoon\", \"total_articles\": 92214, \"proportion\": 0.0317630728522784}, {\"year\": 1985, \"total_results\": 2949, \"ill_type\": \"Cartoon\", \"total_articles\": 98601, \"proportion\": 0.02990841877871421}, {\"year\": 1986, \"total_results\": 2840, \"ill_type\": \"Cartoon\", \"total_articles\": 96748, \"proportion\": 0.02935461198164303}, {\"year\": 1987, \"total_results\": 2845, \"ill_type\": \"Cartoon\", \"total_articles\": 96387, \"proportion\": 0.02951642856401797}, {\"year\": 1988, \"total_results\": 2836, \"ill_type\": \"Cartoon\", \"total_articles\": 107116, \"proportion\": 0.0264759699764741}, {\"year\": 1989, \"total_results\": 3291, \"ill_type\": \"Cartoon\", \"total_articles\": 107496, \"proportion\": 0.030615092654610404}, {\"year\": 1990, \"total_results\": 3232, \"ill_type\": \"Cartoon\", \"total_articles\": 104053, \"proportion\": 0.031061093865626173}, {\"year\": 1991, \"total_results\": 2514, \"ill_type\": \"Cartoon\", \"total_articles\": 111099, \"proportion\": 0.02262846650284881}, {\"year\": 1992, \"total_results\": 2287, \"ill_type\": \"Cartoon\", \"total_articles\": 110158, \"proportion\": 0.020761088618166633}, {\"year\": 1993, \"total_results\": 2285, \"ill_type\": \"Cartoon\", \"total_articles\": 109708, \"proportion\": 0.020828016188427462}, {\"year\": 1994, \"total_results\": 2548, \"ill_type\": \"Cartoon\", \"total_articles\": 106086, \"proportion\": 0.024018249344871144}, {\"year\": 1995, \"total_results\": 2380, \"ill_type\": \"Cartoon\", \"total_articles\": 106861, \"proportion\": 0.022271923339665548}, {\"year\": 1996, \"total_results\": 127, \"ill_type\": \"Cartoon\", \"total_articles\": 25540, \"proportion\": 0.004972592012529366}, {\"year\": 1997, \"total_results\": 71, \"ill_type\": \"Cartoon\", \"total_articles\": 26458, \"proportion\": 0.0026834983747826744}, {\"year\": 1998, \"total_results\": 65, \"ill_type\": \"Cartoon\", \"total_articles\": 32955, \"proportion\": 0.0019723865877712033}, {\"year\": 1999, \"total_results\": 97, \"ill_type\": \"Cartoon\", \"total_articles\": 42254, \"proportion\": 0.0022956406494059733}, {\"year\": 2000, \"total_results\": 52, \"ill_type\": \"Cartoon\", \"total_articles\": 32249, \"proportion\": 0.0016124530993209092}, {\"year\": 2001, \"total_results\": 93, \"ill_type\": \"Cartoon\", \"total_articles\": 31114, \"proportion\": 0.0029890081635276723}, {\"year\": 2002, \"total_results\": 82, \"ill_type\": \"Cartoon\", \"total_articles\": 31128, \"proportion\": 0.002634284245695194}, {\"year\": 2003, \"total_results\": 75, \"ill_type\": \"Cartoon\", \"total_articles\": 12888, \"proportion\": 0.005819366852886406}, {\"year\": 2004, \"total_results\": 27, \"ill_type\": \"Cartoon\", \"total_articles\": 10980, \"proportion\": 0.002459016393442623}, {\"year\": 2005, \"total_results\": 17, \"ill_type\": \"Cartoon\", \"total_articles\": 6187, \"proportion\": 0.002747696783578471}, {\"year\": 2006, \"total_results\": 3, \"ill_type\": \"Cartoon\", \"total_articles\": 5553, \"proportion\": 0.0005402485143165856}, {\"year\": 2007, \"total_results\": 7, \"ill_type\": \"Cartoon\", \"total_articles\": 5747, \"proportion\": 0.001218026796589525}, {\"year\": 1807, \"total_results\": 1, \"ill_type\": \"Illustration\", \"total_articles\": 134, \"proportion\": 0.007462686567164179}, {\"year\": 1810, \"total_results\": 1, \"ill_type\": \"Illustration\", \"total_articles\": 274, \"proportion\": 0.0036496350364963502}, {\"year\": 1821, \"total_results\": 43, \"ill_type\": \"Illustration\", \"total_articles\": 1005, \"proportion\": 0.042786069651741296}, {\"year\": 1822, \"total_results\": 45, \"ill_type\": \"Illustration\", \"total_articles\": 1033, \"proportion\": 0.04356243949661181}, {\"year\": 1823, \"total_results\": 37, \"ill_type\": \"Illustration\", \"total_articles\": 1156, \"proportion\": 0.03200692041522491}, {\"year\": 1825, \"total_results\": 30, \"ill_type\": \"Illustration\", \"total_articles\": 3366, \"proportion\": 0.008912655971479501}, {\"year\": 1827, \"total_results\": 2, \"ill_type\": \"Illustration\", \"total_articles\": 6537, \"proportion\": 0.0003059507419305492}, {\"year\": 1828, \"total_results\": 6, \"ill_type\": \"Illustration\", \"total_articles\": 6726, \"proportion\": 0.0008920606601248885}, {\"year\": 1829, \"total_results\": 17, \"ill_type\": \"Illustration\", \"total_articles\": 8320, \"proportion\": 0.002043269230769231}, {\"year\": 1830, \"total_results\": 45, \"ill_type\": \"Illustration\", \"total_articles\": 8369, \"proportion\": 0.005376986497789461}, {\"year\": 1831, \"total_results\": 31, \"ill_type\": \"Illustration\", \"total_articles\": 10311, \"proportion\": 0.0030064979148482205}, {\"year\": 1832, \"total_results\": 41, \"ill_type\": \"Illustration\", \"total_articles\": 13732, \"proportion\": 0.0029857267695892805}, {\"year\": 1833, \"total_results\": 45, \"ill_type\": \"Illustration\", \"total_articles\": 15438, \"proportion\": 0.0029148853478429848}, {\"year\": 1834, \"total_results\": 129, \"ill_type\": \"Illustration\", \"total_articles\": 18704, \"proportion\": 0.006896920444824636}, {\"year\": 1835, \"total_results\": 29, \"ill_type\": \"Illustration\", \"total_articles\": 20389, \"proportion\": 0.0014223355731031438}, {\"year\": 1836, \"total_results\": 52, \"ill_type\": \"Illustration\", \"total_articles\": 20553, \"proportion\": 0.002530044275774826}, {\"year\": 1837, \"total_results\": 67, \"ill_type\": \"Illustration\", \"total_articles\": 21697, \"proportion\": 0.003087984513988109}, {\"year\": 1838, \"total_results\": 51, \"ill_type\": \"Illustration\", \"total_articles\": 25191, \"proportion\": 0.002024532571156365}, {\"year\": 1839, \"total_results\": 116, \"ill_type\": \"Illustration\", \"total_articles\": 31159, \"proportion\": 0.003722840912737893}, {\"year\": 1840, \"total_results\": 104, \"ill_type\": \"Illustration\", \"total_articles\": 40450, \"proportion\": 0.0025710754017305316}, {\"year\": 1841, \"total_results\": 162, \"ill_type\": \"Illustration\", \"total_articles\": 43583, \"proportion\": 0.0037170456370603216}, {\"year\": 1842, \"total_results\": 66, \"ill_type\": \"Illustration\", \"total_articles\": 44264, \"proportion\": 0.0014910536779324055}, {\"year\": 1843, \"total_results\": 86, \"ill_type\": \"Illustration\", \"total_articles\": 45968, \"proportion\": 0.0018708666898712147}, {\"year\": 1844, \"total_results\": 72, \"ill_type\": \"Illustration\", \"total_articles\": 51377, \"proportion\": 0.0014014052980905853}, {\"year\": 1845, \"total_results\": 118, \"ill_type\": \"Illustration\", \"total_articles\": 60228, \"proportion\": 0.001959221624493591}, {\"year\": 1846, \"total_results\": 70, \"ill_type\": \"Illustration\", \"total_articles\": 58794, \"proportion\": 0.0011905976800353777}, {\"year\": 1847, \"total_results\": 122, \"ill_type\": \"Illustration\", \"total_articles\": 59503, \"proportion\": 0.002050316790750046}, {\"year\": 1848, \"total_results\": 105, \"ill_type\": \"Illustration\", \"total_articles\": 60302, \"proportion\": 0.0017412357799077975}, {\"year\": 1849, \"total_results\": 55, \"ill_type\": \"Illustration\", \"total_articles\": 59698, \"proportion\": 0.0009213038962779322}, {\"year\": 1850, \"total_results\": 114, \"ill_type\": \"Illustration\", \"total_articles\": 78726, \"proportion\": 0.0014480603612529533}, {\"year\": 1851, \"total_results\": 191, \"ill_type\": \"Illustration\", \"total_articles\": 93422, \"proportion\": 0.0020444863094346085}, {\"year\": 1852, \"total_results\": 103, \"ill_type\": \"Illustration\", \"total_articles\": 77328, \"proportion\": 0.0013319884129939996}, {\"year\": 1853, \"total_results\": 141, \"ill_type\": \"Illustration\", \"total_articles\": 89716, \"proportion\": 0.0015716260198849704}, {\"year\": 1854, \"total_results\": 174, \"ill_type\": \"Illustration\", \"total_articles\": 111809, \"proportion\": 0.0015562253485855342}, {\"year\": 1855, \"total_results\": 283, \"ill_type\": \"Illustration\", \"total_articles\": 152862, \"proportion\": 0.0018513430414360665}, {\"year\": 1856, \"total_results\": 313, \"ill_type\": \"Illustration\", \"total_articles\": 165260, \"proportion\": 0.0018939852353866634}, {\"year\": 1857, \"total_results\": 453, \"ill_type\": \"Illustration\", \"total_articles\": 167962, \"proportion\": 0.002697038615877401}, {\"year\": 1858, \"total_results\": 432, \"ill_type\": \"Illustration\", \"total_articles\": 170506, \"proportion\": 0.002533635179993666}, {\"year\": 1859, \"total_results\": 408, \"ill_type\": \"Illustration\", \"total_articles\": 192157, \"proportion\": 0.0021232637895054565}, {\"year\": 1860, \"total_results\": 375, \"ill_type\": \"Illustration\", \"total_articles\": 203666, \"proportion\": 0.0018412498895250067}, {\"year\": 1861, \"total_results\": 307, \"ill_type\": \"Illustration\", \"total_articles\": 222964, \"proportion\": 0.0013769038947991604}, {\"year\": 1862, \"total_results\": 301, \"ill_type\": \"Illustration\", \"total_articles\": 231360, \"proportion\": 0.0013010027662517288}, {\"year\": 1863, \"total_results\": 300, \"ill_type\": \"Illustration\", \"total_articles\": 236359, \"proportion\": 0.0012692556661688364}, {\"year\": 1864, \"total_results\": 617, \"ill_type\": \"Illustration\", \"total_articles\": 250078, \"proportion\": 0.0024672302241700588}, {\"year\": 1865, \"total_results\": 797, \"ill_type\": \"Illustration\", \"total_articles\": 270535, \"proportion\": 0.002946014378915852}, {\"year\": 1866, \"total_results\": 883, \"ill_type\": \"Illustration\", \"total_articles\": 286531, \"proportion\": 0.0030816909863156166}, {\"year\": 1867, \"total_results\": 1314, \"ill_type\": \"Illustration\", \"total_articles\": 294045, \"proportion\": 0.0044687037698311486}, {\"year\": 1868, \"total_results\": 1051, \"ill_type\": \"Illustration\", \"total_articles\": 301851, \"proportion\": 0.003481850316878195}, {\"year\": 1869, \"total_results\": 1393, \"ill_type\": \"Illustration\", \"total_articles\": 323274, \"proportion\": 0.004309038153393097}, {\"year\": 1870, \"total_results\": 1732, \"ill_type\": \"Illustration\", \"total_articles\": 368748, \"proportion\": 0.004696974627658997}, {\"year\": 1871, \"total_results\": 2245, \"ill_type\": \"Illustration\", \"total_articles\": 356420, \"proportion\": 0.00629874866730262}, {\"year\": 1872, \"total_results\": 2457, \"ill_type\": \"Illustration\", \"total_articles\": 379281, \"proportion\": 0.006478046619788494}, {\"year\": 1873, \"total_results\": 2585, \"ill_type\": \"Illustration\", \"total_articles\": 418488, \"proportion\": 0.0061769991015274035}, {\"year\": 1874, \"total_results\": 2667, \"ill_type\": \"Illustration\", \"total_articles\": 433570, \"proportion\": 0.006151255852572825}, {\"year\": 1875, \"total_results\": 2739, \"ill_type\": \"Illustration\", \"total_articles\": 461964, \"proportion\": 0.005929033431176455}, {\"year\": 1876, \"total_results\": 2877, \"ill_type\": \"Illustration\", \"total_articles\": 474589, \"proportion\": 0.006062087406155642}, {\"year\": 1877, \"total_results\": 3344, \"ill_type\": \"Illustration\", \"total_articles\": 496062, \"proportion\": 0.00674109284726506}, {\"year\": 1878, \"total_results\": 3330, \"ill_type\": \"Illustration\", \"total_articles\": 567221, \"proportion\": 0.0058707276352603305}, {\"year\": 1879, \"total_results\": 2531, \"ill_type\": \"Illustration\", \"total_articles\": 605369, \"proportion\": 0.004180921058065412}, {\"year\": 1880, \"total_results\": 3132, \"ill_type\": \"Illustration\", \"total_articles\": 620926, \"proportion\": 0.005044079326683051}, {\"year\": 1881, \"total_results\": 3538, \"ill_type\": \"Illustration\", \"total_articles\": 663699, \"proportion\": 0.005330729743452981}, {\"year\": 1882, \"total_results\": 3425, \"ill_type\": \"Illustration\", \"total_articles\": 743779, \"proportion\": 0.004604862465866877}, {\"year\": 1883, \"total_results\": 3954, \"ill_type\": \"Illustration\", \"total_articles\": 766454, \"proportion\": 0.005158822316799182}, {\"year\": 1884, \"total_results\": 3971, \"ill_type\": \"Illustration\", \"total_articles\": 852461, \"proportion\": 0.004658277622084764}, {\"year\": 1885, \"total_results\": 3918, \"ill_type\": \"Illustration\", \"total_articles\": 908355, \"proportion\": 0.0043132916095579375}, {\"year\": 1886, \"total_results\": 4267, \"ill_type\": \"Illustration\", \"total_articles\": 992953, \"proportion\": 0.004297282952969577}, {\"year\": 1887, \"total_results\": 5817, \"ill_type\": \"Illustration\", \"total_articles\": 1041600, \"proportion\": 0.005584677419354839}, {\"year\": 1888, \"total_results\": 7407, \"ill_type\": \"Illustration\", \"total_articles\": 1156393, \"proportion\": 0.006405261878963293}, {\"year\": 1889, \"total_results\": 7565, \"ill_type\": \"Illustration\", \"total_articles\": 1241746, \"proportion\": 0.0060922282012585505}, {\"year\": 1890, \"total_results\": 8024, \"ill_type\": \"Illustration\", \"total_articles\": 1348543, \"proportion\": 0.005950125431669587}, {\"year\": 1891, \"total_results\": 7773, \"ill_type\": \"Illustration\", \"total_articles\": 1419001, \"proportion\": 0.005477797408176597}, {\"year\": 1892, \"total_results\": 9035, \"ill_type\": \"Illustration\", \"total_articles\": 1473222, \"proportion\": 0.00613281637119185}, {\"year\": 1893, \"total_results\": 12206, \"ill_type\": \"Illustration\", \"total_articles\": 1493950, \"proportion\": 0.008170286823521536}, {\"year\": 1894, \"total_results\": 13399, \"ill_type\": \"Illustration\", \"total_articles\": 1537245, \"proportion\": 0.008716242368653012}, {\"year\": 1895, \"total_results\": 14491, \"ill_type\": \"Illustration\", \"total_articles\": 1655640, \"proportion\": 0.008752506583556812}, {\"year\": 1896, \"total_results\": 13259, \"ill_type\": \"Illustration\", \"total_articles\": 1759780, \"proportion\": 0.007534464535339644}, {\"year\": 1897, \"total_results\": 15657, \"ill_type\": \"Illustration\", \"total_articles\": 1878259, \"proportion\": 0.008335911075096672}, {\"year\": 1898, \"total_results\": 18790, \"ill_type\": \"Illustration\", \"total_articles\": 2101016, \"proportion\": 0.008943292197679599}, {\"year\": 1899, \"total_results\": 20867, \"ill_type\": \"Illustration\", \"total_articles\": 2270158, \"proportion\": 0.00919187122658423}, {\"year\": 1900, \"total_results\": 21293, \"ill_type\": \"Illustration\", \"total_articles\": 2502505, \"proportion\": 0.008508674308343041}, {\"year\": 1901, \"total_results\": 23486, \"ill_type\": \"Illustration\", \"total_articles\": 2576632, \"proportion\": 0.009114999736089592}, {\"year\": 1902, \"total_results\": 22580, \"ill_type\": \"Illustration\", \"total_articles\": 2635471, \"proportion\": 0.008567728500901737}, {\"year\": 1903, \"total_results\": 23374, \"ill_type\": \"Illustration\", \"total_articles\": 2679197, \"proportion\": 0.008724255812469184}, {\"year\": 1904, \"total_results\": 23889, \"ill_type\": \"Illustration\", \"total_articles\": 2851878, \"proportion\": 0.008376585534163804}, {\"year\": 1905, \"total_results\": 28595, \"ill_type\": \"Illustration\", \"total_articles\": 2981209, \"proportion\": 0.009591746167410604}, {\"year\": 1906, \"total_results\": 28389, \"ill_type\": \"Illustration\", \"total_articles\": 3027361, \"proportion\": 0.009377474308481876}, {\"year\": 1907, \"total_results\": 30642, \"ill_type\": \"Illustration\", \"total_articles\": 3182813, \"proportion\": 0.009627332802775406}, {\"year\": 1908, \"total_results\": 29768, \"ill_type\": \"Illustration\", \"total_articles\": 3283574, \"proportion\": 0.009065731425574694}, {\"year\": 1909, \"total_results\": 28284, \"ill_type\": \"Illustration\", \"total_articles\": 3348174, \"proportion\": 0.008447589641398565}, {\"year\": 1910, \"total_results\": 30503, \"ill_type\": \"Illustration\", \"total_articles\": 3585173, \"proportion\": 0.00850809709880109}, {\"year\": 1911, \"total_results\": 33605, \"ill_type\": \"Illustration\", \"total_articles\": 3713930, \"proportion\": 0.0090483665551047}, {\"year\": 1912, \"total_results\": 31952, \"ill_type\": \"Illustration\", \"total_articles\": 3868683, \"proportion\": 0.008259141418410347}, {\"year\": 1913, \"total_results\": 32458, \"ill_type\": \"Illustration\", \"total_articles\": 3935079, \"proportion\": 0.008248373158455015}, {\"year\": 1914, \"total_results\": 33072, \"ill_type\": \"Illustration\", \"total_articles\": 4631430, \"proportion\": 0.007140775095380908}, {\"year\": 1915, \"total_results\": 28251, \"ill_type\": \"Illustration\", \"total_articles\": 4731925, \"proportion\": 0.005970297500488702}, {\"year\": 1916, \"total_results\": 23355, \"ill_type\": \"Illustration\", \"total_articles\": 4327007, \"proportion\": 0.005397495312579804}, {\"year\": 1917, \"total_results\": 21875, \"ill_type\": \"Illustration\", \"total_articles\": 4219898, \"proportion\": 0.0051837745841250196}, {\"year\": 1918, \"total_results\": 19692, \"ill_type\": \"Illustration\", \"total_articles\": 3996936, \"proportion\": 0.004926773908814151}, {\"year\": 1919, \"total_results\": 15892, \"ill_type\": \"Illustration\", \"total_articles\": 3453197, \"proportion\": 0.004602112187633662}, {\"year\": 1920, \"total_results\": 16193, \"ill_type\": \"Illustration\", \"total_articles\": 3202012, \"proportion\": 0.005057132827734562}, {\"year\": 1921, \"total_results\": 20202, \"ill_type\": \"Illustration\", \"total_articles\": 3387474, \"proportion\": 0.005963735810223193}, {\"year\": 1922, \"total_results\": 26194, \"ill_type\": \"Illustration\", \"total_articles\": 3507102, \"proportion\": 0.007468844647232958}, {\"year\": 1923, \"total_results\": 32815, \"ill_type\": \"Illustration\", \"total_articles\": 3777858, \"proportion\": 0.008686139076693725}, {\"year\": 1924, \"total_results\": 39555, \"ill_type\": \"Illustration\", \"total_articles\": 4063598, \"proportion\": 0.00973398451323187}, {\"year\": 1925, \"total_results\": 44108, \"ill_type\": \"Illustration\", \"total_articles\": 4025384, \"proportion\": 0.010957463933875625}, {\"year\": 1926, \"total_results\": 41872, \"ill_type\": \"Illustration\", \"total_articles\": 4007278, \"proportion\": 0.010448988066213525}, {\"year\": 1927, \"total_results\": 47785, \"ill_type\": \"Illustration\", \"total_articles\": 4040350, \"proportion\": 0.011826945685398542}, {\"year\": 1928, \"total_results\": 54992, \"ill_type\": \"Illustration\", \"total_articles\": 4120958, \"proportion\": 0.013344469902386776}, {\"year\": 1929, \"total_results\": 59617, \"ill_type\": \"Illustration\", \"total_articles\": 4346183, \"proportion\": 0.013717093826928135}, {\"year\": 1930, \"total_results\": 66900, \"ill_type\": \"Illustration\", \"total_articles\": 4194819, \"proportion\": 0.015948244727603266}, {\"year\": 1931, \"total_results\": 56423, \"ill_type\": \"Illustration\", \"total_articles\": 3825141, \"proportion\": 0.014750567364706294}, {\"year\": 1932, \"total_results\": 60400, \"ill_type\": \"Illustration\", \"total_articles\": 3804137, \"proportion\": 0.015877451311558967}, {\"year\": 1933, \"total_results\": 64763, \"ill_type\": \"Illustration\", \"total_articles\": 3978777, \"proportion\": 0.01627711228852484}, {\"year\": 1934, \"total_results\": 72619, \"ill_type\": \"Illustration\", \"total_articles\": 4075716, \"proportion\": 0.017817482866814078}, {\"year\": 1935, \"total_results\": 70467, \"ill_type\": \"Illustration\", \"total_articles\": 4157594, \"proportion\": 0.01694898539876669}, {\"year\": 1936, \"total_results\": 69665, \"ill_type\": \"Illustration\", \"total_articles\": 4246634, \"proportion\": 0.01640475727364308}, {\"year\": 1937, \"total_results\": 65753, \"ill_type\": \"Illustration\", \"total_articles\": 4229023, \"proportion\": 0.015548035562823848}, {\"year\": 1938, \"total_results\": 64340, \"ill_type\": \"Illustration\", \"total_articles\": 4225814, \"proportion\": 0.015225468986566848}, {\"year\": 1939, \"total_results\": 55681, \"ill_type\": \"Illustration\", \"total_articles\": 3994424, \"proportion\": 0.013939681916591729}, {\"year\": 1940, \"total_results\": 43527, \"ill_type\": \"Illustration\", \"total_articles\": 3392990, \"proportion\": 0.012828508188942496}, {\"year\": 1941, \"total_results\": 31498, \"ill_type\": \"Illustration\", \"total_articles\": 2987500, \"proportion\": 0.01054326359832636}, {\"year\": 1942, \"total_results\": 21512, \"ill_type\": \"Illustration\", \"total_articles\": 2389391, \"proportion\": 0.009003130923318954}, {\"year\": 1943, \"total_results\": 18802, \"ill_type\": \"Illustration\", \"total_articles\": 2103261, \"proportion\": 0.008939451641997831}, {\"year\": 1944, \"total_results\": 21502, \"ill_type\": \"Illustration\", \"total_articles\": 2152455, \"proportion\": 0.009989523590504796}, {\"year\": 1945, \"total_results\": 26242, \"ill_type\": \"Illustration\", \"total_articles\": 2337141, \"proportion\": 0.011228248531004334}, {\"year\": 1946, \"total_results\": 40197, \"ill_type\": \"Illustration\", \"total_articles\": 2625887, \"proportion\": 0.015307970221110048}, {\"year\": 1947, \"total_results\": 48149, \"ill_type\": \"Illustration\", \"total_articles\": 2716737, \"proportion\": 0.017723099438775265}, {\"year\": 1948, \"total_results\": 35930, \"ill_type\": \"Illustration\", \"total_articles\": 2465735, \"proportion\": 0.014571719994241068}, {\"year\": 1949, \"total_results\": 47242, \"ill_type\": \"Illustration\", \"total_articles\": 2720488, \"proportion\": 0.017365266819776452}, {\"year\": 1950, \"total_results\": 50928, \"ill_type\": \"Illustration\", \"total_articles\": 2740028, \"proportion\": 0.018586671377080817}, {\"year\": 1951, \"total_results\": 40434, \"ill_type\": \"Illustration\", \"total_articles\": 2511109, \"proportion\": 0.016102048935350874}, {\"year\": 1952, \"total_results\": 38223, \"ill_type\": \"Illustration\", \"total_articles\": 2554216, \"proportion\": 0.014964670176680437}, {\"year\": 1953, \"total_results\": 41668, \"ill_type\": \"Illustration\", \"total_articles\": 2691009, \"proportion\": 0.0154841548281704}, {\"year\": 1954, \"total_results\": 44618, \"ill_type\": \"Illustration\", \"total_articles\": 2702881, \"proportion\": 0.016507570995541423}, {\"year\": 1955, \"total_results\": 9102, \"ill_type\": \"Illustration\", \"total_articles\": 252963, \"proportion\": 0.0359815467084119}, {\"year\": 1956, \"total_results\": 8070, \"ill_type\": \"Illustration\", \"total_articles\": 176649, \"proportion\": 0.04568381366438531}, {\"year\": 1957, \"total_results\": 5588, \"ill_type\": \"Illustration\", \"total_articles\": 102977, \"proportion\": 0.05426454450993911}, {\"year\": 1958, \"total_results\": 5545, \"ill_type\": \"Illustration\", \"total_articles\": 103319, \"proportion\": 0.05366873469545776}, {\"year\": 1959, \"total_results\": 5370, \"ill_type\": \"Illustration\", \"total_articles\": 99010, \"proportion\": 0.05423694576305424}, {\"year\": 1960, \"total_results\": 4735, \"ill_type\": \"Illustration\", \"total_articles\": 93273, \"proportion\": 0.050764958776923656}, {\"year\": 1961, \"total_results\": 4890, \"ill_type\": \"Illustration\", \"total_articles\": 88200, \"proportion\": 0.0554421768707483}, {\"year\": 1962, \"total_results\": 5178, \"ill_type\": \"Illustration\", \"total_articles\": 87318, \"proportion\": 0.05930048787191644}, {\"year\": 1963, \"total_results\": 5115, \"ill_type\": \"Illustration\", \"total_articles\": 96229, \"proportion\": 0.0531544544783797}, {\"year\": 1964, \"total_results\": 5015, \"ill_type\": \"Illustration\", \"total_articles\": 96814, \"proportion\": 0.05180035945214535}, {\"year\": 1965, \"total_results\": 5394, \"ill_type\": \"Illustration\", \"total_articles\": 101122, \"proportion\": 0.05334150827713059}, {\"year\": 1966, \"total_results\": 5437, \"ill_type\": \"Illustration\", \"total_articles\": 98928, \"proportion\": 0.05495916221898755}, {\"year\": 1967, \"total_results\": 4916, \"ill_type\": \"Illustration\", \"total_articles\": 97474, \"proportion\": 0.05043396187701336}, {\"year\": 1968, \"total_results\": 5815, \"ill_type\": \"Illustration\", \"total_articles\": 100507, \"proportion\": 0.05785666669983185}, {\"year\": 1969, \"total_results\": 6811, \"ill_type\": \"Illustration\", \"total_articles\": 121108, \"proportion\": 0.05623905935198335}, {\"year\": 1970, \"total_results\": 7632, \"ill_type\": \"Illustration\", \"total_articles\": 138406, \"proportion\": 0.05514211811626664}, {\"year\": 1971, \"total_results\": 7310, \"ill_type\": \"Illustration\", \"total_articles\": 136162, \"proportion\": 0.05368605043991716}, {\"year\": 1972, \"total_results\": 7732, \"ill_type\": \"Illustration\", \"total_articles\": 132241, \"proportion\": 0.0584690073426547}, {\"year\": 1973, \"total_results\": 7777, \"ill_type\": \"Illustration\", \"total_articles\": 133033, \"proportion\": 0.05845917930137635}, {\"year\": 1974, \"total_results\": 7133, \"ill_type\": \"Illustration\", \"total_articles\": 131271, \"proportion\": 0.0543379725910521}, {\"year\": 1975, \"total_results\": 7464, \"ill_type\": \"Illustration\", \"total_articles\": 125005, \"proportion\": 0.059709611615535375}, {\"year\": 1976, \"total_results\": 7484, \"ill_type\": \"Illustration\", \"total_articles\": 126193, \"proportion\": 0.05930598369164692}, {\"year\": 1977, \"total_results\": 8682, \"ill_type\": \"Illustration\", \"total_articles\": 128804, \"proportion\": 0.0674047389832614}, {\"year\": 1978, \"total_results\": 9331, \"ill_type\": \"Illustration\", \"total_articles\": 133155, \"proportion\": 0.07007622695355037}, {\"year\": 1979, \"total_results\": 9248, \"ill_type\": \"Illustration\", \"total_articles\": 137809, \"proportion\": 0.0671073732484816}, {\"year\": 1980, \"total_results\": 9110, \"ill_type\": \"Illustration\", \"total_articles\": 135609, \"proportion\": 0.0671784321099632}, {\"year\": 1981, \"total_results\": 7427, \"ill_type\": \"Illustration\", \"total_articles\": 114802, \"proportion\": 0.06469399487813801}, {\"year\": 1982, \"total_results\": 6475, \"ill_type\": \"Illustration\", \"total_articles\": 102033, \"proportion\": 0.06345986102535454}, {\"year\": 1983, \"total_results\": 2821, \"ill_type\": \"Illustration\", \"total_articles\": 87590, \"proportion\": 0.032206872930699855}, {\"year\": 1984, \"total_results\": 2969, \"ill_type\": \"Illustration\", \"total_articles\": 92214, \"proportion\": 0.03219684646582948}, {\"year\": 1985, \"total_results\": 3286, \"ill_type\": \"Illustration\", \"total_articles\": 98601, \"proportion\": 0.03332623401385382}, {\"year\": 1986, \"total_results\": 3838, \"ill_type\": \"Illustration\", \"total_articles\": 96748, \"proportion\": 0.0396700706991359}, {\"year\": 1987, \"total_results\": 3746, \"ill_type\": \"Illustration\", \"total_articles\": 96387, \"proportion\": 0.03886416217954704}, {\"year\": 1988, \"total_results\": 4456, \"ill_type\": \"Illustration\", \"total_articles\": 107116, \"proportion\": 0.04159976100675903}, {\"year\": 1989, \"total_results\": 5320, \"ill_type\": \"Illustration\", \"total_articles\": 107496, \"proportion\": 0.04949021358934286}, {\"year\": 1990, \"total_results\": 4706, \"ill_type\": \"Illustration\", \"total_articles\": 104053, \"proportion\": 0.045226951649640086}, {\"year\": 1991, \"total_results\": 4940, \"ill_type\": \"Illustration\", \"total_articles\": 111099, \"proportion\": 0.044464846668286845}, {\"year\": 1992, \"total_results\": 4672, \"ill_type\": \"Illustration\", \"total_articles\": 110158, \"proportion\": 0.04241180849325514}, {\"year\": 1993, \"total_results\": 4703, \"ill_type\": \"Illustration\", \"total_articles\": 109708, \"proportion\": 0.04286834141539359}, {\"year\": 1994, \"total_results\": 5301, \"ill_type\": \"Illustration\", \"total_articles\": 106086, \"proportion\": 0.04996889316215146}, {\"year\": 1995, \"total_results\": 5419, \"ill_type\": \"Illustration\", \"total_articles\": 106861, \"proportion\": 0.050710736377162856}, {\"year\": 1996, \"total_results\": 991, \"ill_type\": \"Illustration\", \"total_articles\": 25540, \"proportion\": 0.038801879404855126}, {\"year\": 1997, \"total_results\": 915, \"ill_type\": \"Illustration\", \"total_articles\": 26458, \"proportion\": 0.034583112858114745}, {\"year\": 1998, \"total_results\": 1237, \"ill_type\": \"Illustration\", \"total_articles\": 32955, \"proportion\": 0.037536033985738126}, {\"year\": 1999, \"total_results\": 1916, \"ill_type\": \"Illustration\", \"total_articles\": 42254, \"proportion\": 0.045344819425379844}, {\"year\": 2000, \"total_results\": 1891, \"ill_type\": \"Illustration\", \"total_articles\": 32249, \"proportion\": 0.05863747713107383}, {\"year\": 2001, \"total_results\": 2297, \"ill_type\": \"Illustration\", \"total_articles\": 31114, \"proportion\": 0.0738252876518609}, {\"year\": 2002, \"total_results\": 2525, \"ill_type\": \"Illustration\", \"total_articles\": 31128, \"proportion\": 0.08111667951683373}, {\"year\": 2003, \"total_results\": 983, \"ill_type\": \"Illustration\", \"total_articles\": 12888, \"proportion\": 0.07627250155183116}, {\"year\": 2004, \"total_results\": 806, \"ill_type\": \"Illustration\", \"total_articles\": 10980, \"proportion\": 0.07340619307832423}, {\"year\": 2005, \"total_results\": 509, \"ill_type\": \"Illustration\", \"total_articles\": 6187, \"proportion\": 0.0822692742847907}, {\"year\": 2006, \"total_results\": 535, \"ill_type\": \"Illustration\", \"total_articles\": 5553, \"proportion\": 0.09634431838645777}, {\"year\": 2007, \"total_results\": 837, \"ill_type\": \"Illustration\", \"total_articles\": 5747, \"proportion\": 0.14564120410649034}, {\"year\": 2008, \"total_results\": 550, \"ill_type\": \"Illustration\", \"total_articles\": 4715, \"proportion\": 0.11664899257688228}, {\"year\": 2009, \"total_results\": 608, \"ill_type\": \"Illustration\", \"total_articles\": 4227, \"proportion\": 0.14383723681097704}, {\"year\": 2010, \"total_results\": 614, \"ill_type\": \"Illustration\", \"total_articles\": 4137, \"proportion\": 0.14841672709693013}, {\"year\": 2011, \"total_results\": 509, \"ill_type\": \"Illustration\", \"total_articles\": 3645, \"proportion\": 0.13964334705075446}, {\"year\": 2012, \"total_results\": 546, \"ill_type\": \"Illustration\", \"total_articles\": 3322, \"proportion\": 0.16435881998795907}, {\"year\": 2013, \"total_results\": 703, \"ill_type\": \"Illustration\", \"total_articles\": 3451, \"proportion\": 0.20370906983483048}, {\"year\": 2014, \"total_results\": 531, \"ill_type\": \"Illustration\", \"total_articles\": 3132, \"proportion\": 0.16954022988505746}, {\"year\": 2015, \"total_results\": 550, \"ill_type\": \"Illustration\", \"total_articles\": 3223, \"proportion\": 0.17064846416382254}, {\"year\": 1838, \"total_results\": 1, \"ill_type\": \"Map\", \"total_articles\": 25191, \"proportion\": 3.969671708149736e-05}, {\"year\": 1841, \"total_results\": 1, \"ill_type\": \"Map\", \"total_articles\": 43583, \"proportion\": 2.2944726154693344e-05}, {\"year\": 1843, \"total_results\": 1, \"ill_type\": \"Map\", \"total_articles\": 45968, \"proportion\": 2.17542638357118e-05}, {\"year\": 1845, \"total_results\": 2, \"ill_type\": \"Map\", \"total_articles\": 60228, \"proportion\": 3.320714617785747e-05}, {\"year\": 1846, \"total_results\": 2, \"ill_type\": \"Map\", \"total_articles\": 58794, \"proportion\": 3.4017076572439365e-05}, {\"year\": 1850, \"total_results\": 1, \"ill_type\": \"Map\", \"total_articles\": 78726, \"proportion\": 1.270228387063994e-05}, {\"year\": 1854, \"total_results\": 1, \"ill_type\": \"Map\", \"total_articles\": 111809, \"proportion\": 8.9438238424456e-06}, {\"year\": 1858, \"total_results\": 1, \"ill_type\": \"Map\", \"total_articles\": 170506, \"proportion\": 5.864896249985338e-06}, {\"year\": 1859, \"total_results\": 7, \"ill_type\": \"Map\", \"total_articles\": 192157, \"proportion\": 3.642854540818185e-05}, {\"year\": 1862, \"total_results\": 1, \"ill_type\": \"Map\", \"total_articles\": 231360, \"proportion\": 4.322268326417704e-06}, {\"year\": 1863, \"total_results\": 1, \"ill_type\": \"Map\", \"total_articles\": 236359, \"proportion\": 4.230852220562788e-06}, {\"year\": 1864, \"total_results\": 1, \"ill_type\": \"Map\", \"total_articles\": 250078, \"proportion\": 3.998752389254553e-06}, {\"year\": 1865, \"total_results\": 1, \"ill_type\": \"Map\", \"total_articles\": 270535, \"proportion\": 3.6963793963812445e-06}, {\"year\": 1866, \"total_results\": 2, \"ill_type\": \"Map\", \"total_articles\": 286531, \"proportion\": 6.980047534123707e-06}, {\"year\": 1868, \"total_results\": 1, \"ill_type\": \"Map\", \"total_articles\": 301851, \"proportion\": 3.3128927848508037e-06}, {\"year\": 1869, \"total_results\": 3, \"ill_type\": \"Map\", \"total_articles\": 323274, \"proportion\": 9.28005345310789e-06}, {\"year\": 1870, \"total_results\": 21, \"ill_type\": \"Map\", \"total_articles\": 368748, \"proportion\": 5.6949461420807704e-05}, {\"year\": 1871, \"total_results\": 10, \"ill_type\": \"Map\", \"total_articles\": 356420, \"proportion\": 2.805678693676e-05}, {\"year\": 1872, \"total_results\": 5, \"ill_type\": \"Map\", \"total_articles\": 379281, \"proportion\": 1.318283805410764e-05}, {\"year\": 1873, \"total_results\": 9, \"ill_type\": \"Map\", \"total_articles\": 418488, \"proportion\": 2.150599300338361e-05}, {\"year\": 1874, \"total_results\": 16, \"ill_type\": \"Map\", \"total_articles\": 433570, \"proportion\": 3.6902922250155686e-05}, {\"year\": 1875, \"total_results\": 10, \"ill_type\": \"Map\", \"total_articles\": 461964, \"proportion\": 2.1646708401520464e-05}, {\"year\": 1876, \"total_results\": 14, \"ill_type\": \"Map\", \"total_articles\": 474589, \"proportion\": 2.949920878907855e-05}, {\"year\": 1877, \"total_results\": 324, \"ill_type\": \"Map\", \"total_articles\": 496062, \"proportion\": 0.000653144163431184}, {\"year\": 1878, \"total_results\": 321, \"ill_type\": \"Map\", \"total_articles\": 567221, \"proportion\": 0.0005659169882638337}, {\"year\": 1879, \"total_results\": 312, \"ill_type\": \"Map\", \"total_articles\": 605369, \"proportion\": 0.0005153881351704498}, {\"year\": 1880, \"total_results\": 326, \"ill_type\": \"Map\", \"total_articles\": 620926, \"proportion\": 0.0005250223053954899}, {\"year\": 1881, \"total_results\": 396, \"ill_type\": \"Map\", \"total_articles\": 663699, \"proportion\": 0.0005966560142474223}, {\"year\": 1882, \"total_results\": 650, \"ill_type\": \"Map\", \"total_articles\": 743779, \"proportion\": 0.0008739155044710862}, {\"year\": 1883, \"total_results\": 651, \"ill_type\": \"Map\", \"total_articles\": 766454, \"proportion\": 0.0008493660415367393}, {\"year\": 1884, \"total_results\": 629, \"ill_type\": \"Map\", \"total_articles\": 852461, \"proportion\": 0.0007378636676633887}, {\"year\": 1885, \"total_results\": 692, \"ill_type\": \"Map\", \"total_articles\": 908355, \"proportion\": 0.0007618166906110497}, {\"year\": 1886, \"total_results\": 653, \"ill_type\": \"Map\", \"total_articles\": 992953, \"proportion\": 0.0006576343492592298}, {\"year\": 1887, \"total_results\": 688, \"ill_type\": \"Map\", \"total_articles\": 1041600, \"proportion\": 0.0006605222734254992}, {\"year\": 1888, \"total_results\": 785, \"ill_type\": \"Map\", \"total_articles\": 1156393, \"proportion\": 0.00067883496354613}, {\"year\": 1889, \"total_results\": 694, \"ill_type\": \"Map\", \"total_articles\": 1241746, \"proportion\": 0.0005588904655219344}, {\"year\": 1890, \"total_results\": 222, \"ill_type\": \"Map\", \"total_articles\": 1348543, \"proportion\": 0.000164622114385674}, {\"year\": 1891, \"total_results\": 115, \"ill_type\": \"Map\", \"total_articles\": 1419001, \"proportion\": 8.104293090702543e-05}, {\"year\": 1892, \"total_results\": 61, \"ill_type\": \"Map\", \"total_articles\": 1473222, \"proportion\": 4.140584379000585e-05}, {\"year\": 1893, \"total_results\": 186, \"ill_type\": \"Map\", \"total_articles\": 1493950, \"proportion\": 0.00012450215870678404}, {\"year\": 1894, \"total_results\": 191, \"ill_type\": \"Map\", \"total_articles\": 1537245, \"proportion\": 0.00012424824930313646}, {\"year\": 1895, \"total_results\": 112, \"ill_type\": \"Map\", \"total_articles\": 1655640, \"proportion\": 6.764755623203112e-05}, {\"year\": 1896, \"total_results\": 165, \"ill_type\": \"Map\", \"total_articles\": 1759780, \"proportion\": 9.376172021502688e-05}, {\"year\": 1897, \"total_results\": 434, \"ill_type\": \"Map\", \"total_articles\": 1878259, \"proportion\": 0.00023106504481011406}, {\"year\": 1898, \"total_results\": 812, \"ill_type\": \"Map\", \"total_articles\": 2101016, \"proportion\": 0.0003864796841147331}, {\"year\": 1899, \"total_results\": 1128, \"ill_type\": \"Map\", \"total_articles\": 2270158, \"proportion\": 0.0004968817148409935}, {\"year\": 1900, \"total_results\": 1208, \"ill_type\": \"Map\", \"total_articles\": 2502505, \"proportion\": 0.0004827163182491144}, {\"year\": 1901, \"total_results\": 322, \"ill_type\": \"Map\", \"total_articles\": 2576632, \"proportion\": 0.00012496933982035464}, {\"year\": 1902, \"total_results\": 391, \"ill_type\": \"Map\", \"total_articles\": 2635471, \"proportion\": 0.00014836057767283342}, {\"year\": 1903, \"total_results\": 387, \"ill_type\": \"Map\", \"total_articles\": 2679197, \"proportion\": 0.00014444626505628365}, {\"year\": 1904, \"total_results\": 1035, \"ill_type\": \"Map\", \"total_articles\": 2851878, \"proportion\": 0.00036291875038132766}, {\"year\": 1905, \"total_results\": 1187, \"ill_type\": \"Map\", \"total_articles\": 2981209, \"proportion\": 0.00039816061202015693}, {\"year\": 1906, \"total_results\": 1688, \"ill_type\": \"Map\", \"total_articles\": 3027361, \"proportion\": 0.0005575813389945897}, {\"year\": 1907, \"total_results\": 1694, \"ill_type\": \"Map\", \"total_articles\": 3182813, \"proportion\": 0.0005322335933653658}, {\"year\": 1908, \"total_results\": 2232, \"ill_type\": \"Map\", \"total_articles\": 3283574, \"proportion\": 0.0006797471291952001}, {\"year\": 1909, \"total_results\": 2060, \"ill_type\": \"Map\", \"total_articles\": 3348174, \"proportion\": 0.0006152607361505107}, {\"year\": 1910, \"total_results\": 2335, \"ill_type\": \"Map\", \"total_articles\": 3585173, \"proportion\": 0.000651293535904683}, {\"year\": 1911, \"total_results\": 3189, \"ill_type\": \"Map\", \"total_articles\": 3713930, \"proportion\": 0.0008586591562038056}, {\"year\": 1912, \"total_results\": 3663, \"ill_type\": \"Map\", \"total_articles\": 3868683, \"proportion\": 0.0009468338450061688}, {\"year\": 1913, \"total_results\": 3856, \"ill_type\": \"Map\", \"total_articles\": 3935079, \"proportion\": 0.0009799040883296116}, {\"year\": 1914, \"total_results\": 5482, \"ill_type\": \"Map\", \"total_articles\": 4631430, \"proportion\": 0.0011836517015263105}, {\"year\": 1915, \"total_results\": 5529, \"ill_type\": \"Map\", \"total_articles\": 4731925, \"proportion\": 0.0011684462454497906}, {\"year\": 1916, \"total_results\": 5154, \"ill_type\": \"Map\", \"total_articles\": 4327007, \"proportion\": 0.0011911235641634045}, {\"year\": 1917, \"total_results\": 4789, \"ill_type\": \"Map\", \"total_articles\": 4219898, \"proportion\": 0.0011348615535257014}, {\"year\": 1918, \"total_results\": 4673, \"ill_type\": \"Map\", \"total_articles\": 3996936, \"proportion\": 0.0011691455655031754}, {\"year\": 1919, \"total_results\": 3694, \"ill_type\": \"Map\", \"total_articles\": 3453197, \"proportion\": 0.0010697333514421564}, {\"year\": 1920, \"total_results\": 3836, \"ill_type\": \"Map\", \"total_articles\": 3202012, \"proportion\": 0.0011979967595374408}, {\"year\": 1921, \"total_results\": 4208, \"ill_type\": \"Map\", \"total_articles\": 3387474, \"proportion\": 0.0012422235565498067}, {\"year\": 1922, \"total_results\": 4458, \"ill_type\": \"Map\", \"total_articles\": 3507102, \"proportion\": 0.001271134971266875}, {\"year\": 1923, \"total_results\": 4662, \"ill_type\": \"Map\", \"total_articles\": 3777858, \"proportion\": 0.0012340326184838075}, {\"year\": 1924, \"total_results\": 4968, \"ill_type\": \"Map\", \"total_articles\": 4063598, \"proportion\": 0.0012225618774298049}, {\"year\": 1925, \"total_results\": 5145, \"ill_type\": \"Map\", \"total_articles\": 4025384, \"proportion\": 0.0012781389303480116}, {\"year\": 1926, \"total_results\": 5235, \"ill_type\": \"Map\", \"total_articles\": 4007278, \"proportion\": 0.0013063730542278325}, {\"year\": 1927, \"total_results\": 5402, \"ill_type\": \"Map\", \"total_articles\": 4040350, \"proportion\": 0.0013370128825473042}, {\"year\": 1928, \"total_results\": 5317, \"ill_type\": \"Map\", \"total_articles\": 4120958, \"proportion\": 0.0012902339698681715}, {\"year\": 1929, \"total_results\": 5801, \"ill_type\": \"Map\", \"total_articles\": 4346183, \"proportion\": 0.001334734409480687}, {\"year\": 1930, \"total_results\": 5662, \"ill_type\": \"Map\", \"total_articles\": 4194819, \"proportion\": 0.001349760263792073}, {\"year\": 1931, \"total_results\": 5110, \"ill_type\": \"Map\", \"total_articles\": 3825141, \"proportion\": 0.0013358984675336152}, {\"year\": 1932, \"total_results\": 5093, \"ill_type\": \"Map\", \"total_articles\": 3804137, \"proportion\": 0.001338805621353805}, {\"year\": 1933, \"total_results\": 5371, \"ill_type\": \"Map\", \"total_articles\": 3978777, \"proportion\": 0.0013499122971707136}, {\"year\": 1934, \"total_results\": 5624, \"ill_type\": \"Map\", \"total_articles\": 4075716, \"proportion\": 0.001379880246808168}, {\"year\": 1935, \"total_results\": 6525, \"ill_type\": \"Map\", \"total_articles\": 4157594, \"proportion\": 0.0015694173120319108}, {\"year\": 1936, \"total_results\": 6852, \"ill_type\": \"Map\", \"total_articles\": 4246634, \"proportion\": 0.00161351319656933}, {\"year\": 1937, \"total_results\": 7704, \"ill_type\": \"Map\", \"total_articles\": 4229023, \"proportion\": 0.0018216973518469868}, {\"year\": 1938, \"total_results\": 8158, \"ill_type\": \"Map\", \"total_articles\": 4225814, \"proportion\": 0.0019305156355674906}, {\"year\": 1939, \"total_results\": 8640, \"ill_type\": \"Map\", \"total_articles\": 3994424, \"proportion\": 0.002163015243249089}, {\"year\": 1940, \"total_results\": 9165, \"ill_type\": \"Map\", \"total_articles\": 3392990, \"proportion\": 0.002701157386258138}, {\"year\": 1941, \"total_results\": 10469, \"ill_type\": \"Map\", \"total_articles\": 2987500, \"proportion\": 0.003504267782426778}, {\"year\": 1942, \"total_results\": 7488, \"ill_type\": \"Map\", \"total_articles\": 2389391, \"proportion\": 0.003133852935748063}, {\"year\": 1943, \"total_results\": 7446, \"ill_type\": \"Map\", \"total_articles\": 2103261, \"proportion\": 0.003540216834715235}, {\"year\": 1944, \"total_results\": 9292, \"ill_type\": \"Map\", \"total_articles\": 2152455, \"proportion\": 0.004316931132125875}, {\"year\": 1945, \"total_results\": 7832, \"ill_type\": \"Map\", \"total_articles\": 2337141, \"proportion\": 0.003351102907355611}, {\"year\": 1946, \"total_results\": 4653, \"ill_type\": \"Map\", \"total_articles\": 2625887, \"proportion\": 0.0017719726705680786}, {\"year\": 1947, \"total_results\": 4767, \"ill_type\": \"Map\", \"total_articles\": 2716737, \"proportion\": 0.0017546784985075846}, {\"year\": 1948, \"total_results\": 5163, \"ill_type\": \"Map\", \"total_articles\": 2465735, \"proportion\": 0.0020938989794118184}, {\"year\": 1949, \"total_results\": 5544, \"ill_type\": \"Map\", \"total_articles\": 2720488, \"proportion\": 0.002037869676322777}, {\"year\": 1950, \"total_results\": 6344, \"ill_type\": \"Map\", \"total_articles\": 2740028, \"proportion\": 0.002315304807104161}, {\"year\": 1951, \"total_results\": 4545, \"ill_type\": \"Map\", \"total_articles\": 2511109, \"proportion\": 0.001809957273857885}, {\"year\": 1952, \"total_results\": 4788, \"ill_type\": \"Map\", \"total_articles\": 2554216, \"proportion\": 0.0018745478064501983}, {\"year\": 1953, \"total_results\": 5486, \"ill_type\": \"Map\", \"total_articles\": 2691009, \"proportion\": 0.002038640524799434}, {\"year\": 1954, \"total_results\": 5747, \"ill_type\": \"Map\", \"total_articles\": 2702881, \"proportion\": 0.0021262497313052258}, {\"year\": 1955, \"total_results\": 411, \"ill_type\": \"Map\", \"total_articles\": 252963, \"proportion\": 0.0016247435395690278}, {\"year\": 1956, \"total_results\": 394, \"ill_type\": \"Map\", \"total_articles\": 176649, \"proportion\": 0.0022304117204173246}, {\"year\": 1957, \"total_results\": 54, \"ill_type\": \"Map\", \"total_articles\": 102977, \"proportion\": 0.000524388941219884}, {\"year\": 1958, \"total_results\": 35, \"ill_type\": \"Map\", \"total_articles\": 103319, \"proportion\": 0.00033875666624725366}, {\"year\": 1959, \"total_results\": 44, \"ill_type\": \"Map\", \"total_articles\": 99010, \"proportion\": 0.0004443995556004444}, {\"year\": 1960, \"total_results\": 40, \"ill_type\": \"Map\", \"total_articles\": 93273, \"proportion\": 0.00042884864859069614}, {\"year\": 1961, \"total_results\": 24, \"ill_type\": \"Map\", \"total_articles\": 88200, \"proportion\": 0.00027210884353741496}, {\"year\": 1962, \"total_results\": 67, \"ill_type\": \"Map\", \"total_articles\": 87318, \"proportion\": 0.0007673102911198149}, {\"year\": 1963, \"total_results\": 53, \"ill_type\": \"Map\", \"total_articles\": 96229, \"proportion\": 0.0005507695185443058}, {\"year\": 1964, \"total_results\": 246, \"ill_type\": \"Map\", \"total_articles\": 96814, \"proportion\": 0.0025409548205838}, {\"year\": 1965, \"total_results\": 498, \"ill_type\": \"Map\", \"total_articles\": 101122, \"proportion\": 0.00492474436818892}, {\"year\": 1966, \"total_results\": 588, \"ill_type\": \"Map\", \"total_articles\": 98928, \"proportion\": 0.005943716642406598}, {\"year\": 1967, \"total_results\": 637, \"ill_type\": \"Map\", \"total_articles\": 97474, \"proportion\": 0.006535076020272072}, {\"year\": 1968, \"total_results\": 536, \"ill_type\": \"Map\", \"total_articles\": 100507, \"proportion\": 0.005332961883251913}, {\"year\": 1969, \"total_results\": 563, \"ill_type\": \"Map\", \"total_articles\": 121108, \"proportion\": 0.004648743270469333}, {\"year\": 1970, \"total_results\": 594, \"ill_type\": \"Map\", \"total_articles\": 138406, \"proportion\": 0.004291721457162262}, {\"year\": 1971, \"total_results\": 472, \"ill_type\": \"Map\", \"total_articles\": 136162, \"proportion\": 0.0034664590708127084}, {\"year\": 1972, \"total_results\": 516, \"ill_type\": \"Map\", \"total_articles\": 132241, \"proportion\": 0.003901966863529465}, {\"year\": 1973, \"total_results\": 544, \"ill_type\": \"Map\", \"total_articles\": 133033, \"proportion\": 0.004089210947659603}, {\"year\": 1974, \"total_results\": 579, \"ill_type\": \"Map\", \"total_articles\": 131271, \"proportion\": 0.004410722855771648}, {\"year\": 1975, \"total_results\": 563, \"ill_type\": \"Map\", \"total_articles\": 125005, \"proportion\": 0.004503819847206112}, {\"year\": 1976, \"total_results\": 592, \"ill_type\": \"Map\", \"total_articles\": 126193, \"proportion\": 0.004691226930178378}, {\"year\": 1977, \"total_results\": 632, \"ill_type\": \"Map\", \"total_articles\": 128804, \"proportion\": 0.004906679916772771}, {\"year\": 1978, \"total_results\": 729, \"ill_type\": \"Map\", \"total_articles\": 133155, \"proportion\": 0.005474822575194323}, {\"year\": 1979, \"total_results\": 734, \"ill_type\": \"Map\", \"total_articles\": 137809, \"proportion\": 0.005326212366391164}, {\"year\": 1980, \"total_results\": 656, \"ill_type\": \"Map\", \"total_articles\": 135609, \"proportion\": 0.00483743704326409}, {\"year\": 1981, \"total_results\": 611, \"ill_type\": \"Map\", \"total_articles\": 114802, \"proportion\": 0.005322206930192854}, {\"year\": 1982, \"total_results\": 606, \"ill_type\": \"Map\", \"total_articles\": 102033, \"proportion\": 0.005939254946928935}, {\"year\": 1983, \"total_results\": 535, \"ill_type\": \"Map\", \"total_articles\": 87590, \"proportion\": 0.006108003196711953}, {\"year\": 1984, \"total_results\": 547, \"ill_type\": \"Map\", \"total_articles\": 92214, \"proportion\": 0.0059318541653111245}, {\"year\": 1985, \"total_results\": 585, \"ill_type\": \"Map\", \"total_articles\": 98601, \"proportion\": 0.005933002707883287}, {\"year\": 1986, \"total_results\": 576, \"ill_type\": \"Map\", \"total_articles\": 96748, \"proportion\": 0.00595361144416422}, {\"year\": 1987, \"total_results\": 525, \"ill_type\": \"Map\", \"total_articles\": 96387, \"proportion\": 0.005446792617261664}, {\"year\": 1988, \"total_results\": 577, \"ill_type\": \"Map\", \"total_articles\": 107116, \"proportion\": 0.005386683595354569}, {\"year\": 1989, \"total_results\": 622, \"ill_type\": \"Map\", \"total_articles\": 107496, \"proportion\": 0.005786261814393094}, {\"year\": 1990, \"total_results\": 744, \"ill_type\": \"Map\", \"total_articles\": 104053, \"proportion\": 0.007150202300750579}, {\"year\": 1991, \"total_results\": 781, \"ill_type\": \"Map\", \"total_articles\": 111099, \"proportion\": 0.007029766244520653}, {\"year\": 1992, \"total_results\": 735, \"ill_type\": \"Map\", \"total_articles\": 110158, \"proportion\": 0.006672234426914069}, {\"year\": 1993, \"total_results\": 674, \"ill_type\": \"Map\", \"total_articles\": 109708, \"proportion\": 0.006143581142669632}, {\"year\": 1994, \"total_results\": 704, \"ill_type\": \"Map\", \"total_articles\": 106086, \"proportion\": 0.006636125407688102}, {\"year\": 1995, \"total_results\": 646, \"ill_type\": \"Map\", \"total_articles\": 106861, \"proportion\": 0.006045236335052077}, {\"year\": 1996, \"total_results\": 34, \"ill_type\": \"Map\", \"total_articles\": 25540, \"proportion\": 0.0013312451057165232}, {\"year\": 1997, \"total_results\": 42, \"ill_type\": \"Map\", \"total_articles\": 26458, \"proportion\": 0.0015874215738151032}, {\"year\": 1998, \"total_results\": 92, \"ill_type\": \"Map\", \"total_articles\": 32955, \"proportion\": 0.002791685631922318}, {\"year\": 1999, \"total_results\": 47, \"ill_type\": \"Map\", \"total_articles\": 42254, \"proportion\": 0.0011123207270317603}, {\"year\": 2000, \"total_results\": 24, \"ill_type\": \"Map\", \"total_articles\": 32249, \"proportion\": 0.0007442091227634965}, {\"year\": 2001, \"total_results\": 15, \"ill_type\": \"Map\", \"total_articles\": 31114, \"proportion\": 0.00048209809089156004}, {\"year\": 2002, \"total_results\": 12, \"ill_type\": \"Map\", \"total_articles\": 31128, \"proportion\": 0.00038550501156515033}, {\"year\": 2003, \"total_results\": 19, \"ill_type\": \"Map\", \"total_articles\": 12888, \"proportion\": 0.0014742396027312228}, {\"year\": 2004, \"total_results\": 12, \"ill_type\": \"Map\", \"total_articles\": 10980, \"proportion\": 0.001092896174863388}, {\"year\": 2005, \"total_results\": 5, \"ill_type\": \"Map\", \"total_articles\": 6187, \"proportion\": 0.0008081461128171974}, {\"year\": 2006, \"total_results\": 11, \"ill_type\": \"Map\", \"total_articles\": 5553, \"proportion\": 0.0019809112191608138}, {\"year\": 2007, \"total_results\": 7, \"ill_type\": \"Map\", \"total_articles\": 5747, \"proportion\": 0.001218026796589525}, {\"year\": 2008, \"total_results\": 8, \"ill_type\": \"Map\", \"total_articles\": 4715, \"proportion\": 0.001696712619300106}, {\"year\": 2009, \"total_results\": 4, \"ill_type\": \"Map\", \"total_articles\": 4227, \"proportion\": 0.0009462976105985332}, {\"year\": 2010, \"total_results\": 6, \"ill_type\": \"Map\", \"total_articles\": 4137, \"proportion\": 0.0014503263234227702}, {\"year\": 2011, \"total_results\": 3, \"ill_type\": \"Map\", \"total_articles\": 3645, \"proportion\": 0.0008230452674897119}, {\"year\": 2012, \"total_results\": 4, \"ill_type\": \"Map\", \"total_articles\": 3322, \"proportion\": 0.0012040939193257074}, {\"year\": 2013, \"total_results\": 6, \"ill_type\": \"Map\", \"total_articles\": 3451, \"proportion\": 0.0017386264850767893}, {\"year\": 2014, \"total_results\": 6, \"ill_type\": \"Map\", \"total_articles\": 3132, \"proportion\": 0.0019157088122605363}, {\"year\": 2015, \"total_results\": 5, \"ill_type\": \"Map\", \"total_articles\": 3223, \"proportion\": 0.0015513496742165685}, {\"year\": 1833, \"total_results\": 1, \"ill_type\": \"Graph\", \"total_articles\": 15438, \"proportion\": 6.477522995206633e-05}, {\"year\": 1840, \"total_results\": 2, \"ill_type\": \"Graph\", \"total_articles\": 40450, \"proportion\": 4.9443757725587144e-05}, {\"year\": 1841, \"total_results\": 1, \"ill_type\": \"Graph\", \"total_articles\": 43583, \"proportion\": 2.2944726154693344e-05}, {\"year\": 1844, \"total_results\": 2, \"ill_type\": \"Graph\", \"total_articles\": 51377, \"proportion\": 3.89279249469607e-05}, {\"year\": 1855, \"total_results\": 1, \"ill_type\": \"Graph\", \"total_articles\": 152862, \"proportion\": 6.541848202954299e-06}, {\"year\": 1858, \"total_results\": 1, \"ill_type\": \"Graph\", \"total_articles\": 170506, \"proportion\": 5.864896249985338e-06}, {\"year\": 1859, \"total_results\": 1, \"ill_type\": \"Graph\", \"total_articles\": 192157, \"proportion\": 5.20407791545455e-06}, {\"year\": 1863, \"total_results\": 1, \"ill_type\": \"Graph\", \"total_articles\": 236359, \"proportion\": 4.230852220562788e-06}, {\"year\": 1870, \"total_results\": 2, \"ill_type\": \"Graph\", \"total_articles\": 368748, \"proportion\": 5.423758230553115e-06}, {\"year\": 1871, \"total_results\": 2, \"ill_type\": \"Graph\", \"total_articles\": 356420, \"proportion\": 5.6113573873520005e-06}, {\"year\": 1873, \"total_results\": 1, \"ill_type\": \"Graph\", \"total_articles\": 418488, \"proportion\": 2.3895547781537344e-06}, {\"year\": 1874, \"total_results\": 4, \"ill_type\": \"Graph\", \"total_articles\": 433570, \"proportion\": 9.225730562538921e-06}, {\"year\": 1875, \"total_results\": 2, \"ill_type\": \"Graph\", \"total_articles\": 461964, \"proportion\": 4.329341680304093e-06}, {\"year\": 1876, \"total_results\": 1, \"ill_type\": \"Graph\", \"total_articles\": 474589, \"proportion\": 2.1070863420770393e-06}, {\"year\": 1877, \"total_results\": 2, \"ill_type\": \"Graph\", \"total_articles\": 496062, \"proportion\": 4.031754095254223e-06}, {\"year\": 1880, \"total_results\": 4, \"ill_type\": \"Graph\", \"total_articles\": 620926, \"proportion\": 6.441991477245276e-06}, {\"year\": 1881, \"total_results\": 103, \"ill_type\": \"Graph\", \"total_articles\": 663699, \"proportion\": 0.00015519083198859725}, {\"year\": 1882, \"total_results\": 143, \"ill_type\": \"Graph\", \"total_articles\": 743779, \"proportion\": 0.00019226141098363896}, {\"year\": 1883, \"total_results\": 87, \"ill_type\": \"Graph\", \"total_articles\": 766454, \"proportion\": 0.00011350974748647669}, {\"year\": 1884, \"total_results\": 33, \"ill_type\": \"Graph\", \"total_articles\": 852461, \"proportion\": 3.871144838297588e-05}, {\"year\": 1885, \"total_results\": 107, \"ill_type\": \"Graph\", \"total_articles\": 908355, \"proportion\": 0.00011779535534014786}, {\"year\": 1886, \"total_results\": 114, \"ill_type\": \"Graph\", \"total_articles\": 992953, \"proportion\": 0.00011480905944188698}, {\"year\": 1887, \"total_results\": 144, \"ill_type\": \"Graph\", \"total_articles\": 1041600, \"proportion\": 0.00013824884792626728}, {\"year\": 1888, \"total_results\": 107, \"ill_type\": \"Graph\", \"total_articles\": 1156393, \"proportion\": 9.252909694195659e-05}, {\"year\": 1889, \"total_results\": 110, \"ill_type\": \"Graph\", \"total_articles\": 1241746, \"proportion\": 8.858494410290027e-05}, {\"year\": 1890, \"total_results\": 347, \"ill_type\": \"Graph\", \"total_articles\": 1348543, \"proportion\": 0.00025731474635958955}, {\"year\": 1891, \"total_results\": 350, \"ill_type\": \"Graph\", \"total_articles\": 1419001, \"proportion\": 0.0002466523984126861}, {\"year\": 1892, \"total_results\": 183, \"ill_type\": \"Graph\", \"total_articles\": 1473222, \"proportion\": 0.00012421753137001755}, {\"year\": 1893, \"total_results\": 289, \"ill_type\": \"Graph\", \"total_articles\": 1493950, \"proportion\": 0.00019344690250677732}, {\"year\": 1894, \"total_results\": 16, \"ill_type\": \"Graph\", \"total_articles\": 1537245, \"proportion\": 1.0408230308116143e-05}, {\"year\": 1895, \"total_results\": 21, \"ill_type\": \"Graph\", \"total_articles\": 1655640, \"proportion\": 1.2683916793505835e-05}, {\"year\": 1896, \"total_results\": 29, \"ill_type\": \"Graph\", \"total_articles\": 1759780, \"proportion\": 1.647933264385321e-05}, {\"year\": 1897, \"total_results\": 61, \"ill_type\": \"Graph\", \"total_articles\": 1878259, \"proportion\": 3.247688417838009e-05}, {\"year\": 1898, \"total_results\": 92, \"ill_type\": \"Graph\", \"total_articles\": 2101016, \"proportion\": 4.37883385942801e-05}, {\"year\": 1899, \"total_results\": 153, \"ill_type\": \"Graph\", \"total_articles\": 2270158, \"proportion\": 6.739619004492198e-05}, {\"year\": 1900, \"total_results\": 188, \"ill_type\": \"Graph\", \"total_articles\": 2502505, \"proportion\": 7.512472502552442e-05}, {\"year\": 1901, \"total_results\": 63, \"ill_type\": \"Graph\", \"total_articles\": 2576632, \"proportion\": 2.4450523008330256e-05}, {\"year\": 1902, \"total_results\": 56, \"ill_type\": \"Graph\", \"total_articles\": 2635471, \"proportion\": 2.124857378434443e-05}, {\"year\": 1903, \"total_results\": 53, \"ill_type\": \"Graph\", \"total_articles\": 2679197, \"proportion\": 1.9782046635615076e-05}, {\"year\": 1904, \"total_results\": 175, \"ill_type\": \"Graph\", \"total_articles\": 2851878, \"proportion\": 6.136307373597328e-05}, {\"year\": 1905, \"total_results\": 368, \"ill_type\": \"Graph\", \"total_articles\": 2981209, \"proportion\": 0.00012343985275772347}, {\"year\": 1906, \"total_results\": 417, \"ill_type\": \"Graph\", \"total_articles\": 3027361, \"proportion\": 0.00013774373125636485}, {\"year\": 1907, \"total_results\": 404, \"ill_type\": \"Graph\", \"total_articles\": 3182813, \"proportion\": 0.00012693174245549457}, {\"year\": 1908, \"total_results\": 404, \"ill_type\": \"Graph\", \"total_articles\": 3283574, \"proportion\": 0.0001230366667539699}, {\"year\": 1909, \"total_results\": 494, \"ill_type\": \"Graph\", \"total_articles\": 3348174, \"proportion\": 0.00014754310857201567}, {\"year\": 1910, \"total_results\": 450, \"ill_type\": \"Graph\", \"total_articles\": 3585173, \"proportion\": 0.0001255169555276691}, {\"year\": 1911, \"total_results\": 472, \"ill_type\": \"Graph\", \"total_articles\": 3713930, \"proportion\": 0.0001270890943017235}, {\"year\": 1912, \"total_results\": 483, \"ill_type\": \"Graph\", \"total_articles\": 3868683, \"proportion\": 0.00012484868881735723}, {\"year\": 1913, \"total_results\": 541, \"ill_type\": \"Graph\", \"total_articles\": 3935079, \"proportion\": 0.00013748135679105808}, {\"year\": 1914, \"total_results\": 559, \"ill_type\": \"Graph\", \"total_articles\": 4631430, \"proportion\": 0.00012069706332601378}, {\"year\": 1915, \"total_results\": 630, \"ill_type\": \"Graph\", \"total_articles\": 4731925, \"proportion\": 0.00013313820485320456}, {\"year\": 1916, \"total_results\": 535, \"ill_type\": \"Graph\", \"total_articles\": 4327007, \"proportion\": 0.0001236420463382657}, {\"year\": 1917, \"total_results\": 489, \"ill_type\": \"Graph\", \"total_articles\": 4219898, \"proportion\": 0.00011587957813198328}, {\"year\": 1918, \"total_results\": 599, \"ill_type\": \"Graph\", \"total_articles\": 3996936, \"proportion\": 0.0001498647964340685}, {\"year\": 1919, \"total_results\": 610, \"ill_type\": \"Graph\", \"total_articles\": 3453197, \"proportion\": 0.00017664790048178543}, {\"year\": 1920, \"total_results\": 389, \"ill_type\": \"Graph\", \"total_articles\": 3202012, \"proportion\": 0.00012148611560481348}, {\"year\": 1921, \"total_results\": 345, \"ill_type\": \"Graph\", \"total_articles\": 3387474, \"proportion\": 0.00010184580014488672}, {\"year\": 1922, \"total_results\": 453, \"ill_type\": \"Graph\", \"total_articles\": 3507102, \"proportion\": 0.00012916647420006604}, {\"year\": 1923, \"total_results\": 423, \"ill_type\": \"Graph\", \"total_articles\": 3777858, \"proportion\": 0.0001119682105574111}, {\"year\": 1924, \"total_results\": 556, \"ill_type\": \"Graph\", \"total_articles\": 4063598, \"proportion\": 0.0001368245579410168}, {\"year\": 1925, \"total_results\": 419, \"ill_type\": \"Graph\", \"total_articles\": 4025384, \"proportion\": 0.00010408944836070297}, {\"year\": 1926, \"total_results\": 459, \"ill_type\": \"Graph\", \"total_articles\": 4007278, \"proportion\": 0.00011454159157413087}, {\"year\": 1927, \"total_results\": 470, \"ill_type\": \"Graph\", \"total_articles\": 4040350, \"proportion\": 0.00011632655586768472}, {\"year\": 1928, \"total_results\": 492, \"ill_type\": \"Graph\", \"total_articles\": 4120958, \"proportion\": 0.00011938971472167394}, {\"year\": 1929, \"total_results\": 512, \"ill_type\": \"Graph\", \"total_articles\": 4346183, \"proportion\": 0.0001178045195059665}, {\"year\": 1930, \"total_results\": 497, \"ill_type\": \"Graph\", \"total_articles\": 4194819, \"proportion\": 0.00011847948624243382}, {\"year\": 1931, \"total_results\": 612, \"ill_type\": \"Graph\", \"total_articles\": 3825141, \"proportion\": 0.0001599941021781942}, {\"year\": 1932, \"total_results\": 953, \"ill_type\": \"Graph\", \"total_articles\": 3804137, \"proportion\": 0.0002505167400648294}, {\"year\": 1933, \"total_results\": 1124, \"ill_type\": \"Graph\", \"total_articles\": 3978777, \"proportion\": 0.0002824988683708587}, {\"year\": 1934, \"total_results\": 783, \"ill_type\": \"Graph\", \"total_articles\": 4075716, \"proportion\": 0.0001921134838639395}, {\"year\": 1935, \"total_results\": 691, \"ill_type\": \"Graph\", \"total_articles\": 4157594, \"proportion\": 0.00016620189465349432}, {\"year\": 1936, \"total_results\": 766, \"ill_type\": \"Graph\", \"total_articles\": 4246634, \"proportion\": 0.00018037815361531039}, {\"year\": 1937, \"total_results\": 731, \"ill_type\": \"Graph\", \"total_articles\": 4229023, \"proportion\": 0.00017285316253895993}, {\"year\": 1938, \"total_results\": 837, \"ill_type\": \"Graph\", \"total_articles\": 4225814, \"proportion\": 0.00019806834848859887}, {\"year\": 1939, \"total_results\": 764, \"ill_type\": \"Graph\", \"total_articles\": 3994424, \"proportion\": 0.0001912666256761926}, {\"year\": 1940, \"total_results\": 406, \"ill_type\": \"Graph\", \"total_articles\": 3392990, \"proportion\": 0.00011965847232087333}, {\"year\": 1941, \"total_results\": 178, \"ill_type\": \"Graph\", \"total_articles\": 2987500, \"proportion\": 5.9581589958158996e-05}, {\"year\": 1942, \"total_results\": 124, \"ill_type\": \"Graph\", \"total_articles\": 2389391, \"proportion\": 5.1896068914631386e-05}, {\"year\": 1943, \"total_results\": 139, \"ill_type\": \"Graph\", \"total_articles\": 2103261, \"proportion\": 6.608785119868624e-05}, {\"year\": 1944, \"total_results\": 146, \"ill_type\": \"Graph\", \"total_articles\": 2152455, \"proportion\": 6.7829524891345e-05}, {\"year\": 1945, \"total_results\": 433, \"ill_type\": \"Graph\", \"total_articles\": 2337141, \"proportion\": 0.00018526909587397594}, {\"year\": 1946, \"total_results\": 347, \"ill_type\": \"Graph\", \"total_articles\": 2625887, \"proportion\": 0.00013214582348745394}, {\"year\": 1947, \"total_results\": 329, \"ill_type\": \"Graph\", \"total_articles\": 2716737, \"proportion\": 0.000121101159221522}, {\"year\": 1948, \"total_results\": 271, \"ill_type\": \"Graph\", \"total_articles\": 2465735, \"proportion\": 0.00010990637680042665}, {\"year\": 1949, \"total_results\": 418, \"ill_type\": \"Graph\", \"total_articles\": 2720488, \"proportion\": 0.00015364890416719353}, {\"year\": 1950, \"total_results\": 405, \"ill_type\": \"Graph\", \"total_articles\": 2740028, \"proportion\": 0.00014780870852414648}, {\"year\": 1951, \"total_results\": 266, \"ill_type\": \"Graph\", \"total_articles\": 2511109, \"proportion\": 0.00010592929259542298}, {\"year\": 1952, \"total_results\": 407, \"ill_type\": \"Graph\", \"total_articles\": 2554216, \"proportion\": 0.0001593443937396054}, {\"year\": 1953, \"total_results\": 401, \"ill_type\": \"Graph\", \"total_articles\": 2691009, \"proportion\": 0.0001490147375947089}, {\"year\": 1954, \"total_results\": 469, \"ill_type\": \"Graph\", \"total_articles\": 2702881, \"proportion\": 0.00017351855298105984}, {\"year\": 1955, \"total_results\": 16, \"ill_type\": \"Graph\", \"total_articles\": 252963, \"proportion\": 6.325035677154367e-05}, {\"year\": 1956, \"total_results\": 10, \"ill_type\": \"Graph\", \"total_articles\": 176649, \"proportion\": 5.66094345283585e-05}, {\"year\": 1957, \"total_results\": 3, \"ill_type\": \"Graph\", \"total_articles\": 102977, \"proportion\": 2.9132718956660226e-05}, {\"year\": 1958, \"total_results\": 5, \"ill_type\": \"Graph\", \"total_articles\": 103319, \"proportion\": 4.839380946389338e-05}, {\"year\": 1959, \"total_results\": 4, \"ill_type\": \"Graph\", \"total_articles\": 99010, \"proportion\": 4.03999596000404e-05}, {\"year\": 1961, \"total_results\": 1, \"ill_type\": \"Graph\", \"total_articles\": 88200, \"proportion\": 1.1337868480725624e-05}, {\"year\": 1962, \"total_results\": 10, \"ill_type\": \"Graph\", \"total_articles\": 87318, \"proportion\": 0.00011452392404773357}, {\"year\": 1963, \"total_results\": 1, \"ill_type\": \"Graph\", \"total_articles\": 96229, \"proportion\": 1.0391877708383127e-05}, {\"year\": 1964, \"total_results\": 9, \"ill_type\": \"Graph\", \"total_articles\": 96814, \"proportion\": 9.29617617286756e-05}, {\"year\": 1965, \"total_results\": 32, \"ill_type\": \"Graph\", \"total_articles\": 101122, \"proportion\": 0.0003164494373133443}, {\"year\": 1966, \"total_results\": 46, \"ill_type\": \"Graph\", \"total_articles\": 98928, \"proportion\": 0.00046498463529031216}, {\"year\": 1967, \"total_results\": 112, \"ill_type\": \"Graph\", \"total_articles\": 97474, \"proportion\": 0.001149024355212672}, {\"year\": 1968, \"total_results\": 93, \"ill_type\": \"Graph\", \"total_articles\": 100507, \"proportion\": 0.0009253086849672162}, {\"year\": 1969, \"total_results\": 80, \"ill_type\": \"Graph\", \"total_articles\": 121108, \"proportion\": 0.0006605674274201539}, {\"year\": 1970, \"total_results\": 92, \"ill_type\": \"Graph\", \"total_articles\": 138406, \"proportion\": 0.0006647110674392728}, {\"year\": 1971, \"total_results\": 80, \"ill_type\": \"Graph\", \"total_articles\": 136162, \"proportion\": 0.0005875354357309675}, {\"year\": 1972, \"total_results\": 59, \"ill_type\": \"Graph\", \"total_articles\": 132241, \"proportion\": 0.00044615512586867914}, {\"year\": 1973, \"total_results\": 34, \"ill_type\": \"Graph\", \"total_articles\": 133033, \"proportion\": 0.0002555756842287252}, {\"year\": 1974, \"total_results\": 32, \"ill_type\": \"Graph\", \"total_articles\": 131271, \"proportion\": 0.0002437705205262396}, {\"year\": 1975, \"total_results\": 17, \"ill_type\": \"Graph\", \"total_articles\": 125005, \"proportion\": 0.0001359945602175913}, {\"year\": 1976, \"total_results\": 22, \"ill_type\": \"Graph\", \"total_articles\": 126193, \"proportion\": 0.00017433613591879107}, {\"year\": 1977, \"total_results\": 17, \"ill_type\": \"Graph\", \"total_articles\": 128804, \"proportion\": 0.0001319834787739511}, {\"year\": 1978, \"total_results\": 27, \"ill_type\": \"Graph\", \"total_articles\": 133155, \"proportion\": 0.00020277120648867861}, {\"year\": 1979, \"total_results\": 59, \"ill_type\": \"Graph\", \"total_articles\": 137809, \"proportion\": 0.0004281287869442489}, {\"year\": 1980, \"total_results\": 26, \"ill_type\": \"Graph\", \"total_articles\": 135609, \"proportion\": 0.00019172768769034503}, {\"year\": 1981, \"total_results\": 8, \"ill_type\": \"Graph\", \"total_articles\": 114802, \"proportion\": 6.968519712200136e-05}, {\"year\": 1982, \"total_results\": 15, \"ill_type\": \"Graph\", \"total_articles\": 102033, \"proportion\": 0.0001470112610625974}, {\"year\": 1983, \"total_results\": 5, \"ill_type\": \"Graph\", \"total_articles\": 87590, \"proportion\": 5.708414202534536e-05}, {\"year\": 1984, \"total_results\": 29, \"ill_type\": \"Graph\", \"total_articles\": 92214, \"proportion\": 0.00031448586982453855}, {\"year\": 1985, \"total_results\": 39, \"ill_type\": \"Graph\", \"total_articles\": 98601, \"proportion\": 0.00039553351385888583}, {\"year\": 1986, \"total_results\": 30, \"ill_type\": \"Graph\", \"total_articles\": 96748, \"proportion\": 0.00031008392938355314}, {\"year\": 1987, \"total_results\": 41, \"ill_type\": \"Graph\", \"total_articles\": 96387, \"proportion\": 0.0004253685663004347}, {\"year\": 1988, \"total_results\": 62, \"ill_type\": \"Graph\", \"total_articles\": 107116, \"proportion\": 0.0005788117554800403}, {\"year\": 1989, \"total_results\": 118, \"ill_type\": \"Graph\", \"total_articles\": 107496, \"proportion\": 0.00109771526382377}, {\"year\": 1990, \"total_results\": 206, \"ill_type\": \"Graph\", \"total_articles\": 104053, \"proportion\": 0.0019797603144551335}, {\"year\": 1991, \"total_results\": 316, \"ill_type\": \"Graph\", \"total_articles\": 111099, \"proportion\": 0.0028443100297932474}, {\"year\": 1992, \"total_results\": 345, \"ill_type\": \"Graph\", \"total_articles\": 110158, \"proportion\": 0.0031318651391637467}, {\"year\": 1993, \"total_results\": 539, \"ill_type\": \"Graph\", \"total_articles\": 109708, \"proportion\": 0.004913041893025121}, {\"year\": 1994, \"total_results\": 582, \"ill_type\": \"Graph\", \"total_articles\": 106086, \"proportion\": 0.0054861150387421525}, {\"year\": 1995, \"total_results\": 528, \"ill_type\": \"Graph\", \"total_articles\": 106861, \"proportion\": 0.004940998119051852}, {\"year\": 1996, \"total_results\": 15, \"ill_type\": \"Graph\", \"total_articles\": 25540, \"proportion\": 0.0005873140172278779}, {\"year\": 1997, \"total_results\": 8, \"ill_type\": \"Graph\", \"total_articles\": 26458, \"proportion\": 0.0003023660140600197}, {\"year\": 1998, \"total_results\": 15, \"ill_type\": \"Graph\", \"total_articles\": 32955, \"proportion\": 0.0004551661356395084}, {\"year\": 1999, \"total_results\": 16, \"ill_type\": \"Graph\", \"total_articles\": 42254, \"proportion\": 0.0003786623751597482}, {\"year\": 2000, \"total_results\": 6, \"ill_type\": \"Graph\", \"total_articles\": 32249, \"proportion\": 0.00018605228069087414}, {\"year\": 2001, \"total_results\": 13, \"ill_type\": \"Graph\", \"total_articles\": 31114, \"proportion\": 0.00041781834543935207}, {\"year\": 2002, \"total_results\": 3, \"ill_type\": \"Graph\", \"total_articles\": 31128, \"proportion\": 9.637625289128758e-05}, {\"year\": 2003, \"total_results\": 1, \"ill_type\": \"Graph\", \"total_articles\": 12888, \"proportion\": 7.759155803848541e-05}, {\"year\": 2004, \"total_results\": 1, \"ill_type\": \"Graph\", \"total_articles\": 10980, \"proportion\": 9.107468123861566e-05}, {\"year\": 2006, \"total_results\": 4, \"ill_type\": \"Graph\", \"total_articles\": 5553, \"proportion\": 0.0007203313524221142}, {\"year\": 2007, \"total_results\": 2, \"ill_type\": \"Graph\", \"total_articles\": 5747, \"proportion\": 0.0003480076561684357}, {\"year\": 2008, \"total_results\": 1, \"ill_type\": \"Graph\", \"total_articles\": 4715, \"proportion\": 0.00021208907741251324}, {\"year\": 2009, \"total_results\": 1, \"ill_type\": \"Graph\", \"total_articles\": 4227, \"proportion\": 0.0002365744026496333}, {\"year\": 2011, \"total_results\": 1, \"ill_type\": \"Graph\", \"total_articles\": 3645, \"proportion\": 0.00027434842249657066}, {\"year\": 2012, \"total_results\": 1, \"ill_type\": \"Graph\", \"total_articles\": 3322, \"proportion\": 0.00030102347983142685}, {\"year\": 2014, \"total_results\": 2, \"ill_type\": \"Graph\", \"total_articles\": 3132, \"proportion\": 0.0006385696040868455}]}}, {\"mode\": \"vega-lite\"});\n",
       "</script>"
      ],
      "text/plain": [
       "alt.VConcatChart(...)"
      ]
     },
     "execution_count": 36,
     "metadata": {},
     "output_type": "execute_result"
    }
   ],
   "source": [
    "# Make total results chart \n",
    "chart9 = make_chart_totals(df_illtypes_merged, 'ill_type', 'Type')\n",
    "\n",
    "# Make proportions chart\n",
    "chart10 = make_chart_proportions(df_illtypes_merged, 'ill_type', 'Type')\n",
    "\n",
    "# Shorthand way of concatenating the two charts (note there's only one legend)\n",
    "chart9 & chart10"
   ]
  },
  {
   "cell_type": "markdown",
   "metadata": {},
   "source": [
    "And there we have it – interesting to see the rapid increase in photos from the 1920s on."
   ]
  },
  {
   "cell_type": "markdown",
   "metadata": {},
   "source": [
    "## 9. But what are we searching?\n",
    "\n",
    "We've seen that we can visualise Trove search results over time in a number of different ways. But what are we actually searching? In the last example, exploring illustration types, we sliced up the complete collection of Trove newspaper articles using the `ill_type` facet. This is a metadata field whose value is set by the people who processed the articles. It should be consistent, but we can't take these sorts of things for granted. Let's look at all the values in the `illtype` field."
   ]
  },
  {
   "cell_type": "code",
   "execution_count": 37,
   "metadata": {},
   "outputs": [
    {
     "data": {
      "text/html": [
       "<div>\n",
       "<style scoped>\n",
       "    .dataframe tbody tr th:only-of-type {\n",
       "        vertical-align: middle;\n",
       "    }\n",
       "\n",
       "    .dataframe tbody tr th {\n",
       "        vertical-align: top;\n",
       "    }\n",
       "\n",
       "    .dataframe thead th {\n",
       "        text-align: right;\n",
       "    }\n",
       "</style>\n",
       "<table border=\"1\" class=\"dataframe\">\n",
       "  <thead>\n",
       "    <tr style=\"text-align: right;\">\n",
       "      <th></th>\n",
       "      <th>ill_type</th>\n",
       "      <th>total_results</th>\n",
       "    </tr>\n",
       "  </thead>\n",
       "  <tbody>\n",
       "    <tr>\n",
       "      <th>0</th>\n",
       "      <td>Photo</td>\n",
       "      <td>5856346</td>\n",
       "    </tr>\n",
       "    <tr>\n",
       "      <th>1</th>\n",
       "      <td>Illustration</td>\n",
       "      <td>2596487</td>\n",
       "    </tr>\n",
       "    <tr>\n",
       "      <th>2</th>\n",
       "      <td>Cartoon</td>\n",
       "      <td>833425</td>\n",
       "    </tr>\n",
       "    <tr>\n",
       "      <th>3</th>\n",
       "      <td>Map</td>\n",
       "      <td>298358</td>\n",
       "    </tr>\n",
       "    <tr>\n",
       "      <th>4</th>\n",
       "      <td>Cartoons</td>\n",
       "      <td>51636</td>\n",
       "    </tr>\n",
       "    <tr>\n",
       "      <th>5</th>\n",
       "      <td>Graph</td>\n",
       "      <td>31362</td>\n",
       "    </tr>\n",
       "    <tr>\n",
       "      <th>6</th>\n",
       "      <td>Chart</td>\n",
       "      <td>20</td>\n",
       "    </tr>\n",
       "    <tr>\n",
       "      <th>7</th>\n",
       "      <td>Unknown</td>\n",
       "      <td>6</td>\n",
       "    </tr>\n",
       "    <tr>\n",
       "      <th>8</th>\n",
       "      <td>Diagram</td>\n",
       "      <td>5</td>\n",
       "    </tr>\n",
       "  </tbody>\n",
       "</table>\n",
       "</div>"
      ],
      "text/plain": [
       "       ill_type  total_results\n",
       "0         Photo        5856346\n",
       "1  Illustration        2596487\n",
       "2       Cartoon         833425\n",
       "3           Map         298358\n",
       "4      Cartoons          51636\n",
       "5         Graph          31362\n",
       "6         Chart             20\n",
       "7       Unknown              6\n",
       "8       Diagram              5"
      ]
     },
     "execution_count": 37,
     "metadata": {},
     "output_type": "execute_result"
    }
   ],
   "source": [
    "ill_params = params.copy()\n",
    "\n",
    "# No query! Set q to a single space for everything\n",
    "ill_params['q'] = ' '\n",
    "\n",
    "# Set the illustrated facet to true - necessary before setting ill_type\n",
    "ill_params['l-illustrated'] = 'true'\n",
    "ill_params['facet'] = 'illtype'\n",
    "data = get_results(ill_params)\n",
    "facets = []\n",
    "for term in data['response']['zone'][0]['facets']['facet']['term']:\n",
    "    # Get the state and the number of results, and convert it to integers, before adding to our results\n",
    "    facets.append({'ill_type': term['search'], 'total_results': int(term['count'])})\n",
    "df_ill_types = pd.DataFrame(facets)\n",
    "df_ill_types\n",
    "    "
   ]
  },
  {
   "cell_type": "markdown",
   "metadata": {},
   "source": [
    "It's pretty consistent, but why are there entries both for 'Cartoon' and 'Cartoons'? In the past I've noticed variations in capitalisation amongst the facet values, but fortunately these seem to have been fixed. The point is that we can't take search results for granted – we have to think about how they are created.\n",
    "\n",
    "Just as working with the Trove API enables us to view search results in different ways, so we can turn the search results against themselves to reveal some of their limitations and inconsistencies. In most of the examples above we're searching the full text of the newspaper articles for specific terms. The full text has been extracted from page images using Optical Character Recognition. The results are far from perfect, and Trove users help to correct errors. But many errors remain, and all the visualisations we've created will have been affected by them. Some articles will be missing. While we can't do much directly to improve the results, we can investigate whether the OCR errors are evenly distributed across the collection – do certain time periods, or newspapers have higher error rates?\n",
    "\n",
    "As a final example, let's what we can find out about the variation of OCR errors over time. We'll do this by searching for a very common OCR error – 'tbe'. This is of course meant to be 'the'. This is hardly a perfect measure of OCR accuracy, but it is something we can easily measure. How does the frequency of 'tbe' change over time?"
   ]
  },
  {
   "cell_type": "code",
   "execution_count": 38,
   "metadata": {},
   "outputs": [],
   "source": [
    "params['q'] = 'text:\"tbe\"~0'\n",
    "\n",
    "ocr_facets = get_facet_data(params)"
   ]
  },
  {
   "cell_type": "code",
   "execution_count": 39,
   "metadata": {},
   "outputs": [],
   "source": [
    "df_ocr = pd.DataFrame(ocr_facets)\n",
    "df_ocr_merged = merge_df_with_total(df_ocr, df_total)"
   ]
  },
  {
   "cell_type": "code",
   "execution_count": 40,
   "metadata": {},
   "outputs": [
    {
     "data": {
      "text/html": [
       "\n",
       "<div id=\"altair-viz-f01f0e6877f34bf7a46eb4b618ab4e3b\"></div>\n",
       "<script type=\"text/javascript\">\n",
       "  (function(spec, embedOpt){\n",
       "    let outputDiv = document.currentScript.previousElementSibling;\n",
       "    if (outputDiv.id !== \"altair-viz-f01f0e6877f34bf7a46eb4b618ab4e3b\") {\n",
       "      outputDiv = document.getElementById(\"altair-viz-f01f0e6877f34bf7a46eb4b618ab4e3b\");\n",
       "    }\n",
       "    const paths = {\n",
       "      \"vega\": \"https://cdn.jsdelivr.net/npm//vega@5?noext\",\n",
       "      \"vega-lib\": \"https://cdn.jsdelivr.net/npm//vega-lib?noext\",\n",
       "      \"vega-lite\": \"https://cdn.jsdelivr.net/npm//vega-lite@4.8.1?noext\",\n",
       "      \"vega-embed\": \"https://cdn.jsdelivr.net/npm//vega-embed@6?noext\",\n",
       "    };\n",
       "\n",
       "    function loadScript(lib) {\n",
       "      return new Promise(function(resolve, reject) {\n",
       "        var s = document.createElement('script');\n",
       "        s.src = paths[lib];\n",
       "        s.async = true;\n",
       "        s.onload = () => resolve(paths[lib]);\n",
       "        s.onerror = () => reject(`Error loading script: ${paths[lib]}`);\n",
       "        document.getElementsByTagName(\"head\")[0].appendChild(s);\n",
       "      });\n",
       "    }\n",
       "\n",
       "    function showError(err) {\n",
       "      outputDiv.innerHTML = `<div class=\"error\" style=\"color:red;\">${err}</div>`;\n",
       "      throw err;\n",
       "    }\n",
       "\n",
       "    function displayChart(vegaEmbed) {\n",
       "      vegaEmbed(outputDiv, spec, embedOpt)\n",
       "        .catch(err => showError(`Javascript Error: ${err.message}<br>This usually means there's a typo in your chart specification. See the javascript console for the full traceback.`));\n",
       "    }\n",
       "\n",
       "    if(typeof define === \"function\" && define.amd) {\n",
       "      requirejs.config({paths});\n",
       "      require([\"vega-embed\"], displayChart, err => showError(`Error loading script: ${err.message}`));\n",
       "    } else if (typeof vegaEmbed === \"function\") {\n",
       "      displayChart(vegaEmbed);\n",
       "    } else {\n",
       "      loadScript(\"vega\")\n",
       "        .then(() => loadScript(\"vega-lite\"))\n",
       "        .then(() => loadScript(\"vega-embed\"))\n",
       "        .catch(showError)\n",
       "        .then(() => displayChart(vegaEmbed));\n",
       "    }\n",
       "  })({\"config\": {\"view\": {\"continuousWidth\": 400, \"continuousHeight\": 300}}, \"data\": {\"name\": \"data-c1cc5ea54ee181e7c0c0d64bdc9cd37e\"}, \"mark\": {\"type\": \"line\", \"point\": true}, \"encoding\": {\"tooltip\": [{\"type\": \"quantitative\", \"field\": \"year\", \"title\": \"Year\"}, {\"type\": \"quantitative\", \"field\": \"proportion\", \"format\": \"%\", \"title\": \"Proportion\"}], \"x\": {\"type\": \"quantitative\", \"axis\": {\"format\": \"c\", \"title\": \"Year\"}, \"field\": \"year\"}, \"y\": {\"type\": \"quantitative\", \"axis\": {\"format\": \"%\", \"title\": \"Proportion of articles\"}, \"field\": \"proportion\"}}, \"height\": 400, \"width\": 700, \"$schema\": \"https://vega.github.io/schema/vega-lite/v4.8.1.json\", \"datasets\": {\"data-c1cc5ea54ee181e7c0c0d64bdc9cd37e\": [{\"year\": 1804, \"total_results\": 2, \"total_articles\": 619, \"proportion\": 0.0032310177705977385}, {\"year\": 1806, \"total_results\": 2, \"total_articles\": 367, \"proportion\": 0.005449591280653951}, {\"year\": 1807, \"total_results\": 1, \"total_articles\": 134, \"proportion\": 0.007462686567164179}, {\"year\": 1809, \"total_results\": 3, \"total_articles\": 237, \"proportion\": 0.012658227848101266}, {\"year\": 1810, \"total_results\": 2, \"total_articles\": 274, \"proportion\": 0.0072992700729927005}, {\"year\": 1811, \"total_results\": 2, \"total_articles\": 228, \"proportion\": 0.008771929824561403}, {\"year\": 1812, \"total_results\": 2, \"total_articles\": 215, \"proportion\": 0.009302325581395349}, {\"year\": 1813, \"total_results\": 2, \"total_articles\": 234, \"proportion\": 0.008547008547008548}, {\"year\": 1815, \"total_results\": 1, \"total_articles\": 226, \"proportion\": 0.004424778761061947}, {\"year\": 1816, \"total_results\": 4, \"total_articles\": 644, \"proportion\": 0.006211180124223602}, {\"year\": 1817, \"total_results\": 4, \"total_articles\": 1068, \"proportion\": 0.003745318352059925}, {\"year\": 1818, \"total_results\": 4, \"total_articles\": 1249, \"proportion\": 0.0032025620496397116}, {\"year\": 1819, \"total_results\": 6, \"total_articles\": 1152, \"proportion\": 0.005208333333333333}, {\"year\": 1820, \"total_results\": 10, \"total_articles\": 1275, \"proportion\": 0.00784313725490196}, {\"year\": 1821, \"total_results\": 24, \"total_articles\": 1005, \"proportion\": 0.023880597014925373}, {\"year\": 1822, \"total_results\": 6, \"total_articles\": 1033, \"proportion\": 0.005808325266214908}, {\"year\": 1823, \"total_results\": 33, \"total_articles\": 1156, \"proportion\": 0.028546712802768166}, {\"year\": 1824, \"total_results\": 54, \"total_articles\": 1646, \"proportion\": 0.032806804374240585}, {\"year\": 1825, \"total_results\": 171, \"total_articles\": 3366, \"proportion\": 0.05080213903743316}, {\"year\": 1826, \"total_results\": 266, \"total_articles\": 5201, \"proportion\": 0.05114401076716016}, {\"year\": 1827, \"total_results\": 487, \"total_articles\": 6537, \"proportion\": 0.07449900566008873}, {\"year\": 1828, \"total_results\": 859, \"total_articles\": 6726, \"proportion\": 0.12771335117454655}, {\"year\": 1829, \"total_results\": 1034, \"total_articles\": 8320, \"proportion\": 0.12427884615384616}, {\"year\": 1830, \"total_results\": 1073, \"total_articles\": 8369, \"proportion\": 0.1282112558250687}, {\"year\": 1831, \"total_results\": 1509, \"total_articles\": 10311, \"proportion\": 0.14634855979051498}, {\"year\": 1832, \"total_results\": 1990, \"total_articles\": 13732, \"proportion\": 0.1449169822312846}, {\"year\": 1833, \"total_results\": 2733, \"total_articles\": 15438, \"proportion\": 0.17703070345899727}, {\"year\": 1834, \"total_results\": 2560, \"total_articles\": 18704, \"proportion\": 0.13686911890504705}, {\"year\": 1835, \"total_results\": 2813, \"total_articles\": 20389, \"proportion\": 0.13796655059100496}, {\"year\": 1836, \"total_results\": 2213, \"total_articles\": 20553, \"proportion\": 0.10767284581326327}, {\"year\": 1837, \"total_results\": 2568, \"total_articles\": 21697, \"proportion\": 0.11835737659584274}, {\"year\": 1838, \"total_results\": 2969, \"total_articles\": 25191, \"proportion\": 0.11785955301496566}, {\"year\": 1839, \"total_results\": 4565, \"total_articles\": 31159, \"proportion\": 0.1465066272986938}, {\"year\": 1840, \"total_results\": 5573, \"total_articles\": 40450, \"proportion\": 0.13777503090234858}, {\"year\": 1841, \"total_results\": 6119, \"total_articles\": 43583, \"proportion\": 0.14039877934056857}, {\"year\": 1842, \"total_results\": 5490, \"total_articles\": 44264, \"proportion\": 0.12402855593710464}, {\"year\": 1843, \"total_results\": 5323, \"total_articles\": 45968, \"proportion\": 0.11579794639749391}, {\"year\": 1844, \"total_results\": 5861, \"total_articles\": 51377, \"proportion\": 0.11407828405706834}, {\"year\": 1845, \"total_results\": 8514, \"total_articles\": 60228, \"proportion\": 0.14136282127913927}, {\"year\": 1846, \"total_results\": 9902, \"total_articles\": 58794, \"proportion\": 0.16841854611014728}, {\"year\": 1847, \"total_results\": 8840, \"total_articles\": 59503, \"proportion\": 0.14856393795270828}, {\"year\": 1848, \"total_results\": 9447, \"total_articles\": 60302, \"proportion\": 0.15666147059799013}, {\"year\": 1849, \"total_results\": 8780, \"total_articles\": 59698, \"proportion\": 0.14707360380582263}, {\"year\": 1850, \"total_results\": 10271, \"total_articles\": 78726, \"proportion\": 0.13046515763534283}, {\"year\": 1851, \"total_results\": 9255, \"total_articles\": 93422, \"proportion\": 0.09906660101475027}, {\"year\": 1852, \"total_results\": 7736, \"total_articles\": 77328, \"proportion\": 0.1000413821642872}, {\"year\": 1853, \"total_results\": 10276, \"total_articles\": 89716, \"proportion\": 0.11453921262651032}, {\"year\": 1854, \"total_results\": 13838, \"total_articles\": 111809, \"proportion\": 0.1237646343317622}, {\"year\": 1855, \"total_results\": 16446, \"total_articles\": 152862, \"proportion\": 0.10758723554578639}, {\"year\": 1856, \"total_results\": 18124, \"total_articles\": 165260, \"proportion\": 0.10966961152123926}, {\"year\": 1857, \"total_results\": 24385, \"total_articles\": 167962, \"proportion\": 0.14518164822995677}, {\"year\": 1858, \"total_results\": 31208, \"total_articles\": 170506, \"proportion\": 0.1830316821695424}, {\"year\": 1859, \"total_results\": 35576, \"total_articles\": 192157, \"proportion\": 0.18514027592021107}, {\"year\": 1860, \"total_results\": 43645, \"total_articles\": 203666, \"proportion\": 0.21429693714218376}, {\"year\": 1861, \"total_results\": 40261, \"total_articles\": 222964, \"proportion\": 0.18057175149351465}, {\"year\": 1862, \"total_results\": 46914, \"total_articles\": 231360, \"proportion\": 0.20277489626556017}, {\"year\": 1863, \"total_results\": 52975, \"total_articles\": 236359, \"proportion\": 0.2241293963843137}, {\"year\": 1864, \"total_results\": 56701, \"total_articles\": 250078, \"proportion\": 0.22673325922312237}, {\"year\": 1865, \"total_results\": 47759, \"total_articles\": 270535, \"proportion\": 0.17653538359177187}, {\"year\": 1866, \"total_results\": 56792, \"total_articles\": 286531, \"proportion\": 0.1982054297789768}, {\"year\": 1867, \"total_results\": 55168, \"total_articles\": 294045, \"proportion\": 0.18761754153275859}, {\"year\": 1868, \"total_results\": 55896, \"total_articles\": 301851, \"proportion\": 0.18517745510202052}, {\"year\": 1869, \"total_results\": 60548, \"total_articles\": 323274, \"proportion\": 0.18729622549292552}, {\"year\": 1870, \"total_results\": 63964, \"total_articles\": 368748, \"proportion\": 0.17346263572954973}, {\"year\": 1871, \"total_results\": 64489, \"total_articles\": 356420, \"proportion\": 0.18093541327647159}, {\"year\": 1872, \"total_results\": 80040, \"total_articles\": 379281, \"proportion\": 0.2110308715701551}, {\"year\": 1873, \"total_results\": 73949, \"total_articles\": 418488, \"proportion\": 0.1767051862896905}, {\"year\": 1874, \"total_results\": 80963, \"total_articles\": 433570, \"proportion\": 0.18673570588370966}, {\"year\": 1875, \"total_results\": 89115, \"total_articles\": 461964, \"proportion\": 0.1929046419201496}, {\"year\": 1876, \"total_results\": 94185, \"total_articles\": 474589, \"proportion\": 0.19845592712852594}, {\"year\": 1877, \"total_results\": 91559, \"total_articles\": 496062, \"proportion\": 0.18457168660369067}, {\"year\": 1878, \"total_results\": 102045, \"total_articles\": 567221, \"proportion\": 0.17990342388592806}, {\"year\": 1879, \"total_results\": 106656, \"total_articles\": 605369, \"proportion\": 0.1761834517459599}, {\"year\": 1880, \"total_results\": 117487, \"total_articles\": 620926, \"proportion\": 0.18921256317177892}, {\"year\": 1881, \"total_results\": 133150, \"total_articles\": 663699, \"proportion\": 0.20061805125516236}, {\"year\": 1882, \"total_results\": 121040, \"total_articles\": 743779, \"proportion\": 0.1627365117864312}, {\"year\": 1883, \"total_results\": 136891, \"total_articles\": 766454, \"proportion\": 0.1786030211858768}, {\"year\": 1884, \"total_results\": 150342, \"total_articles\": 852461, \"proportion\": 0.17636232038767755}, {\"year\": 1885, \"total_results\": 142046, \"total_articles\": 908355, \"proportion\": 0.15637718733314618}, {\"year\": 1886, \"total_results\": 146556, \"total_articles\": 992953, \"proportion\": 0.14759610978565954}, {\"year\": 1887, \"total_results\": 158698, \"total_articles\": 1041600, \"proportion\": 0.15235983102918588}, {\"year\": 1888, \"total_results\": 188223, \"total_articles\": 1156393, \"proportion\": 0.1627673291000551}, {\"year\": 1889, \"total_results\": 202788, \"total_articles\": 1241746, \"proportion\": 0.16330876040671763}, {\"year\": 1890, \"total_results\": 221168, \"total_articles\": 1348543, \"proportion\": 0.16400515222725565}, {\"year\": 1891, \"total_results\": 200396, \"total_articles\": 1419001, \"proportion\": 0.14122329723516755}, {\"year\": 1892, \"total_results\": 190956, \"total_articles\": 1473222, \"proportion\": 0.1296179394551534}, {\"year\": 1893, \"total_results\": 209386, \"total_articles\": 1493950, \"proportion\": 0.1401559623816058}, {\"year\": 1894, \"total_results\": 231221, \"total_articles\": 1537245, \"proportion\": 0.15041258875455768}, {\"year\": 1895, \"total_results\": 255080, \"total_articles\": 1655640, \"proportion\": 0.15406730931845086}, {\"year\": 1896, \"total_results\": 228316, \"total_articles\": 1759780, \"proportion\": 0.12974121765220653}, {\"year\": 1897, \"total_results\": 270296, \"total_articles\": 1878259, \"proportion\": 0.14390773583408892}, {\"year\": 1898, \"total_results\": 279309, \"total_articles\": 2101016, \"proportion\": 0.13293996809162806}, {\"year\": 1899, \"total_results\": 286280, \"total_articles\": 2270158, \"proportion\": 0.12610576003960958}, {\"year\": 1900, \"total_results\": 300703, \"total_articles\": 2502505, \"proportion\": 0.12016079887952272}, {\"year\": 1901, \"total_results\": 280222, \"total_articles\": 2576632, \"proportion\": 0.10875515013397334}, {\"year\": 1902, \"total_results\": 282331, \"total_articles\": 2635471, \"proportion\": 0.10712734080549549}, {\"year\": 1903, \"total_results\": 286187, \"total_articles\": 2679197, \"proportion\": 0.10681819963220324}, {\"year\": 1904, \"total_results\": 293665, \"total_articles\": 2851878, \"proportion\": 0.10297249742099768}, {\"year\": 1905, \"total_results\": 288143, \"total_articles\": 2981209, \"proportion\": 0.09665306927491497}, {\"year\": 1906, \"total_results\": 264658, \"total_articles\": 3027361, \"proportion\": 0.08742201541210315}, {\"year\": 1907, \"total_results\": 277998, \"total_articles\": 3182813, \"proportion\": 0.08734349143352123}, {\"year\": 1908, \"total_results\": 259141, \"total_articles\": 3283574, \"proportion\": 0.07892040806755078}, {\"year\": 1909, \"total_results\": 260431, \"total_articles\": 3348174, \"proportion\": 0.07778299455165712}, {\"year\": 1910, \"total_results\": 269331, \"total_articles\": 3585173, \"proportion\": 0.07512357144271699}, {\"year\": 1911, \"total_results\": 282612, \"total_articles\": 3713930, \"proportion\": 0.0760951337262684}, {\"year\": 1912, \"total_results\": 297602, \"total_articles\": 3868683, \"proportion\": 0.07692592026795682}, {\"year\": 1913, \"total_results\": 308842, \"total_articles\": 3935079, \"proportion\": 0.07848432013690196}, {\"year\": 1914, \"total_results\": 300003, \"total_articles\": 4631430, \"proportion\": 0.06477545811984635}, {\"year\": 1915, \"total_results\": 292654, \"total_articles\": 4731925, \"proportion\": 0.061846711433507506}, {\"year\": 1916, \"total_results\": 270536, \"total_articles\": 4327007, \"proportion\": 0.06252266289377392}, {\"year\": 1917, \"total_results\": 279471, \"total_articles\": 4219898, \"proportion\": 0.06622695619657158}, {\"year\": 1918, \"total_results\": 256617, \"total_articles\": 3996936, \"proportion\": 0.06420342982724767}, {\"year\": 1919, \"total_results\": 226992, \"total_articles\": 3453197, \"proportion\": 0.06573386922321547}, {\"year\": 1920, \"total_results\": 240551, \"total_articles\": 3202012, \"proportion\": 0.07512495268599868}, {\"year\": 1921, \"total_results\": 280775, \"total_articles\": 3387474, \"proportion\": 0.08288624503095818}, {\"year\": 1922, \"total_results\": 272460, \"total_articles\": 3507102, \"proportion\": 0.07768807408509933}, {\"year\": 1923, \"total_results\": 260977, \"total_articles\": 3777858, \"proportion\": 0.06908068011026354}, {\"year\": 1924, \"total_results\": 253903, \"total_articles\": 4063598, \"proportion\": 0.06248231247283811}, {\"year\": 1925, \"total_results\": 242237, \"total_articles\": 4025384, \"proportion\": 0.060177364445230565}, {\"year\": 1926, \"total_results\": 246219, \"total_articles\": 4007278, \"proportion\": 0.06144295454420681}, {\"year\": 1927, \"total_results\": 242122, \"total_articles\": 4040350, \"proportion\": 0.059925996510203326}, {\"year\": 1928, \"total_results\": 211099, \"total_articles\": 4120958, \"proportion\": 0.05122571013827367}, {\"year\": 1929, \"total_results\": 193094, \"total_articles\": 4346183, \"proportion\": 0.04442840994040058}, {\"year\": 1930, \"total_results\": 164357, \"total_articles\": 4194819, \"proportion\": 0.03918095154999536}, {\"year\": 1931, \"total_results\": 144032, \"total_articles\": 3825141, \"proportion\": 0.03765403680544063}, {\"year\": 1932, \"total_results\": 136162, \"total_articles\": 3804137, \"proportion\": 0.03579313783914723}, {\"year\": 1933, \"total_results\": 133951, \"total_articles\": 3978777, \"proportion\": 0.03366637537112535}, {\"year\": 1934, \"total_results\": 133250, \"total_articles\": 4075716, \"proportion\": 0.03269364204964232}, {\"year\": 1935, \"total_results\": 133185, \"total_articles\": 4157594, \"proportion\": 0.03203415244489962}, {\"year\": 1936, \"total_results\": 114503, \"total_articles\": 4246634, \"proportion\": 0.02696323723683275}, {\"year\": 1937, \"total_results\": 100524, \"total_articles\": 4229023, \"proportion\": 0.023770029153305623}, {\"year\": 1938, \"total_results\": 98435, \"total_articles\": 4225814, \"proportion\": 0.023293737017294182}, {\"year\": 1939, \"total_results\": 95384, \"total_articles\": 3994424, \"proportion\": 0.023879287727091567}, {\"year\": 1940, \"total_results\": 81695, \"total_articles\": 3392990, \"proportion\": 0.024077583488309722}, {\"year\": 1941, \"total_results\": 69970, \"total_articles\": 2987500, \"proportion\": 0.02342092050209205}, {\"year\": 1942, \"total_results\": 59530, \"total_articles\": 2389391, \"proportion\": 0.02491429824587102}, {\"year\": 1943, \"total_results\": 53636, \"total_articles\": 2103261, \"proportion\": 0.02550135242368874}, {\"year\": 1944, \"total_results\": 53822, \"total_articles\": 2152455, \"proportion\": 0.0250049362239861}, {\"year\": 1945, \"total_results\": 53678, \"total_articles\": 2337141, \"proportion\": 0.02296737766356416}, {\"year\": 1946, \"total_results\": 55640, \"total_articles\": 2625887, \"proportion\": 0.021189030601849967}, {\"year\": 1947, \"total_results\": 50158, \"total_articles\": 2716737, \"proportion\": 0.01846258949614924}, {\"year\": 1948, \"total_results\": 39632, \"total_articles\": 2465735, \"proportion\": 0.016073097879536934}, {\"year\": 1949, \"total_results\": 42646, \"total_articles\": 2720488, \"proportion\": 0.01567586403615822}, {\"year\": 1950, \"total_results\": 33895, \"total_articles\": 2740028, \"proportion\": 0.01237031154426159}, {\"year\": 1951, \"total_results\": 31376, \"total_articles\": 2511109, \"proportion\": 0.012494877761180419}, {\"year\": 1952, \"total_results\": 31714, \"total_articles\": 2554216, \"proportion\": 0.012416334405547534}, {\"year\": 1953, \"total_results\": 31474, \"total_articles\": 2691009, \"proportion\": 0.011695984665974733}, {\"year\": 1954, \"total_results\": 31133, \"total_articles\": 2702881, \"proportion\": 0.011518450127845066}, {\"year\": 1955, \"total_results\": 2832, \"total_articles\": 252963, \"proportion\": 0.011195313148563228}, {\"year\": 1956, \"total_results\": 1624, \"total_articles\": 176649, \"proportion\": 0.00919337216740542}, {\"year\": 1957, \"total_results\": 1076, \"total_articles\": 102977, \"proportion\": 0.010448935199122135}, {\"year\": 1958, \"total_results\": 982, \"total_articles\": 103319, \"proportion\": 0.00950454417870866}, {\"year\": 1959, \"total_results\": 897, \"total_articles\": 99010, \"proportion\": 0.00905969094030906}, {\"year\": 1960, \"total_results\": 648, \"total_articles\": 93273, \"proportion\": 0.006947348107169278}, {\"year\": 1961, \"total_results\": 539, \"total_articles\": 88200, \"proportion\": 0.006111111111111111}, {\"year\": 1962, \"total_results\": 460, \"total_articles\": 87318, \"proportion\": 0.0052681005061957446}, {\"year\": 1963, \"total_results\": 406, \"total_articles\": 96229, \"proportion\": 0.00421910234960355}, {\"year\": 1964, \"total_results\": 500, \"total_articles\": 96814, \"proportion\": 0.005164542318259756}, {\"year\": 1965, \"total_results\": 356, \"total_articles\": 101122, \"proportion\": 0.003520499990110955}, {\"year\": 1966, \"total_results\": 341, \"total_articles\": 98928, \"proportion\": 0.0034469513181303573}, {\"year\": 1967, \"total_results\": 326, \"total_articles\": 97474, \"proportion\": 0.0033444816053511705}, {\"year\": 1968, \"total_results\": 235, \"total_articles\": 100507, \"proportion\": 0.0023381456017988796}, {\"year\": 1969, \"total_results\": 237, \"total_articles\": 121108, \"proportion\": 0.001956931003732206}, {\"year\": 1970, \"total_results\": 339, \"total_articles\": 138406, \"proportion\": 0.0024493157811077554}, {\"year\": 1971, \"total_results\": 415, \"total_articles\": 136162, \"proportion\": 0.003047840072854394}, {\"year\": 1972, \"total_results\": 454, \"total_articles\": 132241, \"proportion\": 0.0034331258838030563}, {\"year\": 1973, \"total_results\": 701, \"total_articles\": 133033, \"proportion\": 0.005269369254245188}, {\"year\": 1974, \"total_results\": 463, \"total_articles\": 131271, \"proportion\": 0.0035270547188640295}, {\"year\": 1975, \"total_results\": 509, \"total_articles\": 125005, \"proportion\": 0.004071837126514939}, {\"year\": 1976, \"total_results\": 429, \"total_articles\": 126193, \"proportion\": 0.0033995546504164255}, {\"year\": 1977, \"total_results\": 287, \"total_articles\": 128804, \"proportion\": 0.002228191671066116}, {\"year\": 1978, \"total_results\": 327, \"total_articles\": 133155, \"proportion\": 0.0024557846119184407}, {\"year\": 1979, \"total_results\": 478, \"total_articles\": 137809, \"proportion\": 0.003468568816260186}, {\"year\": 1980, \"total_results\": 414, \"total_articles\": 135609, \"proportion\": 0.0030528947193770323}, {\"year\": 1981, \"total_results\": 285, \"total_articles\": 114802, \"proportion\": 0.0024825351474712983}, {\"year\": 1982, \"total_results\": 424, \"total_articles\": 102033, \"proportion\": 0.004155518312702753}, {\"year\": 1983, \"total_results\": 207, \"total_articles\": 87590, \"proportion\": 0.0023632834798492978}, {\"year\": 1984, \"total_results\": 137, \"total_articles\": 92214, \"proportion\": 0.0014856746264124753}, {\"year\": 1985, \"total_results\": 107, \"total_articles\": 98601, \"proportion\": 0.0010851816918692509}, {\"year\": 1986, \"total_results\": 144, \"total_articles\": 96748, \"proportion\": 0.001488402861041055}, {\"year\": 1987, \"total_results\": 541, \"total_articles\": 96387, \"proportion\": 0.005612790106549638}, {\"year\": 1988, \"total_results\": 488, \"total_articles\": 107116, \"proportion\": 0.004555808656036446}, {\"year\": 1989, \"total_results\": 358, \"total_articles\": 107496, \"proportion\": 0.003330356478380591}, {\"year\": 1990, \"total_results\": 377, \"total_articles\": 104053, \"proportion\": 0.0036231535851921617}, {\"year\": 1991, \"total_results\": 395, \"total_articles\": 111099, \"proportion\": 0.0035553875372415595}, {\"year\": 1992, \"total_results\": 495, \"total_articles\": 110158, \"proportion\": 0.0044935456344523325}, {\"year\": 1993, \"total_results\": 330, \"total_articles\": 109708, \"proportion\": 0.00300798483246436}, {\"year\": 1994, \"total_results\": 202, \"total_articles\": 106086, \"proportion\": 0.0019041155289105066}, {\"year\": 1995, \"total_results\": 174, \"total_articles\": 106861, \"proportion\": 0.0016282834710511786}, {\"year\": 1996, \"total_results\": 17, \"total_articles\": 25540, \"proportion\": 0.0006656225528582616}, {\"year\": 1997, \"total_results\": 20, \"total_articles\": 26458, \"proportion\": 0.0007559150351500491}, {\"year\": 1998, \"total_results\": 14, \"total_articles\": 32955, \"proportion\": 0.00042482172659687455}, {\"year\": 1999, \"total_results\": 88, \"total_articles\": 42254, \"proportion\": 0.002082643063378615}, {\"year\": 2000, \"total_results\": 30, \"total_articles\": 32249, \"proportion\": 0.0009302614034543707}, {\"year\": 2001, \"total_results\": 22, \"total_articles\": 31114, \"proportion\": 0.0007070771999742881}, {\"year\": 2002, \"total_results\": 14, \"total_articles\": 31128, \"proportion\": 0.00044975584682600876}, {\"year\": 2003, \"total_results\": 8, \"total_articles\": 12888, \"proportion\": 0.0006207324643078833}, {\"year\": 2004, \"total_results\": 2, \"total_articles\": 10980, \"proportion\": 0.00018214936247723133}, {\"year\": 2005, \"total_results\": 3, \"total_articles\": 6187, \"proportion\": 0.00048488766769031843}, {\"year\": 2006, \"total_results\": 4, \"total_articles\": 5553, \"proportion\": 0.0007203313524221142}, {\"year\": 2007, \"total_results\": 4, \"total_articles\": 5747, \"proportion\": 0.0006960153123368715}, {\"year\": 2008, \"total_results\": 1, \"total_articles\": 4715, \"proportion\": 0.00021208907741251324}, {\"year\": 2009, \"total_results\": 3, \"total_articles\": 4227, \"proportion\": 0.0007097232079489}, {\"year\": 2010, \"total_results\": 4, \"total_articles\": 4137, \"proportion\": 0.0009668842156151801}, {\"year\": 2011, \"total_results\": 1, \"total_articles\": 3645, \"proportion\": 0.00027434842249657066}, {\"year\": 2012, \"total_results\": 4, \"total_articles\": 3322, \"proportion\": 0.0012040939193257074}, {\"year\": 2013, \"total_results\": 2, \"total_articles\": 3451, \"proportion\": 0.0005795421616922632}, {\"year\": 2014, \"total_results\": 2, \"total_articles\": 3132, \"proportion\": 0.0006385696040868455}, {\"year\": 2015, \"total_results\": 4, \"total_articles\": 3223, \"proportion\": 0.0012410797393732546}]}}, {\"mode\": \"vega-lite\"});\n",
       "</script>"
      ],
      "text/plain": [
       "alt.Chart(...)"
      ]
     },
     "execution_count": 40,
     "metadata": {},
     "output_type": "execute_result"
    }
   ],
   "source": [
    "alt.Chart(df_ocr_merged).mark_line(point=True).encode(\n",
    "        x=alt.X('year:Q', axis=alt.Axis(format='c', title='Year')),\n",
    "    \n",
    "        # This time we're showing the proportion (formatted as a percentage) on the Y axis\n",
    "        y=alt.Y('proportion:Q', axis=alt.Axis(format='%', title='Proportion of articles')),\n",
    "        tooltip=[alt.Tooltip('year:Q', title='Year'), alt.Tooltip('proportion:Q', title='Proportion', format='%')],\n",
    "        \n",
    "    ).properties(width=700, height=400)"
   ]
  },
  {
   "cell_type": "markdown",
   "metadata": {},
   "source": [
    "In general, the proportion of articles containing 'tbe' decreases over time. This is perhaps due to improvements in paper, printing technology, or the use of more OCR-friendly fonts. The variations in the period before 1860 seem unusual. Have a greater proportion of these articles been corrected by volunteers? ([Check out this notebook for more on rates of correction.](Analysing_OCR_corrections.ipynb)) There might also be differences as a result of the digitisation process itself – most newspapers were digitised from microfilm, rather than hardcopy. How might that affect the results? Once again, this visualisation doesn't provide answers, but it does suggest some avenues for further investigation. Most importantly though, it suggests ways in which the accuracy of our visualisations might themselves vary over time!\n",
    "\n",
    "One final thing we should consider is that our visualisations all show the *number of articles* that match our search query, **not** the number of times our search terms appear in newspapers. So an article in which a search term appears once has the same value in our visualisation as an article in which a search terms appears 20 times. This might mean that periods of intensive discussion around particular words are being flattened, or even rendered invisible. We can't investigate this using Trove's own search interface. To examine word frequency in greater depth, we need to harvest the text content of all the articles we're interested in and use other tools to analyse their contents. That's what the [Trove Newspaper Harvester](https://glam-workbench.github.io/trove-harvester/) is for!"
   ]
  },
  {
   "cell_type": "markdown",
   "metadata": {},
   "source": [
    "## 10. Next steps\n",
    "\n",
    "Don't just use my examples, try plugging different search terms and facet values into the examples above. \n",
    "\n",
    "If you find something that you'd like to investigate in more detail, you can use the [Trove Newspaper Harvester](https://glam-workbench.github.io/trove-harvester/) to download newspaper articles in bulk. Once you have all the text and metadata, you can explore the articles using a variety of text analysis tools."
   ]
  },
  {
   "cell_type": "markdown",
   "metadata": {},
   "source": [
    "## 11. Related resources"
   ]
  },
  {
   "cell_type": "markdown",
   "metadata": {},
   "source": [
    "### QueryPic\n",
    "\n",
    "[QueryPic](http://dhistory.org/querypic/) is an earlier tool I created for visualising newspaper searches in Trove (and Papers Past). It's great for creating and sharing quick visualisations. It's not quite as flexible as the approaches outlined here, but it's a good place to start your exploration of Trove data.\n",
    "\n",
    "\n",
    "### QueryPic Deconstructed\n",
    "\n",
    "This is [a Jupyter notebook version of QueryPic](https://glam-workbench.github.io/trove-newspapers/#querypic-deconstructed) that extends some of its functionality. It's meant to be run in Appmode, so you don't have worry about the code. It reproduces most of what is available in this notebook, and adds some extra options for saving your charts. A good option if you're intimidated by the code, but want to try out some of the things described in this notebook.\n",
    "\n",
    "### Visualise a search in Papers Past\n",
    "\n",
    "Do something similar for New Zealand newspapers in Papers Past [using this notebook](https://glam-workbench.github.io/digitalnz/#visualise-a-search-in-papers-past).\n",
    "\n",
    "### Trove Newspaper Harvester\n",
    "\n",
    "Once you've found something interesting in your visualisations, you can use the [Trove Newspaper Harvester](https://glam-workbench.github.io/trove-harvester/) to download the full text of thousands of articles for in-depth analysis.\n",
    "\n",
    "## 12. Further reading\n",
    "\n",
    "* Tim Sherratt, ['Seams and edges: dreams of aggregation, access, and discovery in a broken world'](http://discontents.com.au/seams-and-edges-dreams-of-aggregation-access-discovery-in-a-broken-world/), ALIA Online, 2015.\n",
    "\n",
    "* Tim Sherratt, ['Hacking heritage: understanding the limits of online access'](https://hcommons.org/deposits/item/hc:18733/), preprint of a chapter submitted for publication as part of *The Routledge International Handbook of New Digital Practices in Galleries, Libraries, Archives, Museums and Heritage Sites*, forthcoming 2019."
   ]
  },
  {
   "cell_type": "markdown",
   "metadata": {},
   "source": [
    "----\n",
    "\n",
    "Created by [Tim Sherratt](https://timsherratt.org/) for the [GLAM Workbench](https://glam-workbench.github.io/).\n",
    "\n",
    "Work on this notebook was supported by the [Humanities, Arts and Social Sciences (HASS) Data Enhanced Virtual Lab](https://tinker.edu.au/)."
   ]
  }
 ],
 "metadata": {
  "kernelspec": {
   "display_name": "Python 3",
   "language": "python",
   "name": "python3"
  },
  "language_info": {
   "codemirror_mode": {
    "name": "ipython",
    "version": 3
   },
   "file_extension": ".py",
   "mimetype": "text/x-python",
   "name": "python",
   "nbconvert_exporter": "python",
   "pygments_lexer": "ipython3",
   "version": "3.7.7"
  }
 },
 "nbformat": 4,
 "nbformat_minor": 4
}
