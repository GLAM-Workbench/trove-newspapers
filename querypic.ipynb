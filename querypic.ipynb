{
 "cells": [
  {
   "cell_type": "markdown",
   "id": "6cf0a308-d390-4a60-b7a9-db48f24b9b73",
   "metadata": {},
   "source": [
    "# QueryPic\n",
    "\n",
    "#### Visualise searches in Trove's newspapers and gazettes\n",
    "\n",
    "[View in GLAM Workbench](https://glam-workbench.net/trove-newspapers/) &middot; [View code](https://github.com/GLAM-Workbench/trove-newspapers/blob/master/querypic.ipynb)\n",
    "\n",
    "What does it mean when your search in [Trove's digitised newspapers](https://trove.nla.gov.au/newspaper/) returns 3 million results? QueryPic helps you explore your search results by showing you how they change over time – aggregating the number of articles matching your query by day, month, or year.\n",
    "\n",
    "<ul class=\"browser-default\">\n",
    "    <li>Just search in Trove, then copy and paste the url below to visualise the results.</li>\n",
    "    <li>Combine multiple searches to compare changes in language, technology, or the impact of particular events.</li>\n",
    "    <li>Click on any point in a chart to view the results for that date in Trove.</li>\n",
    "    <li>Save your chart as an image or a HTML file.</li>\n",
    "</ul>"
   ]
  },
  {
   "cell_type": "code",
   "execution_count": null,
   "id": "5b58d28e-06d9-4db4-9d57-28bb9b0e72de",
   "metadata": {},
   "outputs": [],
   "source": [
    "# This notebook is designed to run in Voila\n",
    "# If you can see the code, just select 'View > Open with Voila in new browser tab' from the menu."
   ]
  },
  {
   "cell_type": "code",
   "execution_count": null,
   "id": "96b91880-9793-43b9-b6b7-6569e73de2e4",
   "metadata": {},
   "outputs": [],
   "source": [
    "%%capture\n",
    "\n",
    "import os\n",
    "import re\n",
    "import time\n",
    "from calendar import monthrange\n",
    "from operator import itemgetter  # used for sorting\n",
    "\n",
    "import altair as alt\n",
    "import arrow\n",
    "import ipywidgets as widgets\n",
    "import pandas as pd  # makes manipulating the data easier\n",
    "import requests_cache\n",
    "from IPython.display import HTML, display\n",
    "from requests.adapters import HTTPAdapter\n",
    "from requests.packages.urllib3.util.retry import Retry\n",
    "from tqdm.auto import tqdm\n",
    "from trove_query_parser.parser import parse_query\n",
    "\n",
    "# Make sure data directory exists\n",
    "os.makedirs(\"data\", exist_ok=True)\n",
    "\n",
    "# Create a session that will automatically retry on server errors\n",
    "s = requests_cache.CachedSession(\"querypic\", expire_after=60 * 60)\n",
    "retries = Retry(total=5, backoff_factor=1, status_forcelist=[502, 503, 504])\n",
    "s.mount(\"http://\", HTTPAdapter(max_retries=retries))\n",
    "s.mount(\"https://\", HTTPAdapter(max_retries=retries))\n",
    "\n",
    "# CONFIG SO THAT ALTAIR HREFS OPEN IN A NEW TAB\n",
    "\n",
    "\n",
    "def blank_href():\n",
    "    return {\"usermeta\": {\"embedOptions\": {\"loader\": {\"target\": \"_blank\"}}}}\n",
    "\n",
    "\n",
    "# register the custom theme under a chosen name\n",
    "alt.themes.register(\"blank_href\", blank_href)\n",
    "\n",
    "# enable the newly registered theme\n",
    "alt.themes.enable(\"blank_href\")\n",
    "\n",
    "dfs = []\n",
    "queries = []\n",
    "unit = None\n",
    "shifted = False"
   ]
  },
  {
   "cell_type": "code",
   "execution_count": null,
   "id": "b28a97f5-88c5-40fc-8383-7b947bec76f8",
   "metadata": {},
   "outputs": [],
   "source": [
    "%%capture\n",
    "# Load environment variables if available\n",
    "%load_ext dotenv\n",
    "%dotenv"
   ]
  },
  {
   "cell_type": "code",
   "execution_count": null,
   "id": "8fdd456a-072d-4dc6-a1e2-96337790359b",
   "metadata": {},
   "outputs": [],
   "source": [
    "def get_results(params):\n",
    "    \"\"\"\n",
    "    Get JSON response data from the Trove API.\n",
    "    Parameters:\n",
    "        params\n",
    "    Returns:\n",
    "        JSON formatted response data from Trove API\n",
    "    \"\"\"\n",
    "    response = s.get(\n",
    "        \"https://api.trove.nla.gov.au/v2/result\", params=params, timeout=30\n",
    "    )\n",
    "    response.raise_for_status()\n",
    "    # display(response.url) # This shows us the url that's sent to the API\n",
    "    data = response.json()\n",
    "    if not response.from_cache:\n",
    "        time.sleep(0.2)\n",
    "    return data\n",
    "\n",
    "\n",
    "def get_year_facets(data, start, end):\n",
    "    \"\"\"\n",
    "    Loop through facets in Trove API response, saving terms and counts.\n",
    "    Parameters:\n",
    "        data  - JSON formatted response data from Trove API\n",
    "    Returns:\n",
    "        A list of dictionaries containing: 'year', 'total_results'\n",
    "    \"\"\"\n",
    "    dates = {}\n",
    "    try:\n",
    "        for term in data[\"response\"][\"zone\"][0][\"facets\"][\"facet\"][\"term\"]:\n",
    "            if int(term[\"display\"]) >= start and int(term[\"display\"]) <= end:\n",
    "                dates[f'{term[\"display\"]}-01-01'] = int(term[\"count\"])\n",
    "    except TypeError:\n",
    "        pass\n",
    "    return dates\n",
    "\n",
    "\n",
    "def get_month_facets(data, year, start, end):\n",
    "    \"\"\"\n",
    "    Loop through facets in Trove API response, saving terms and counts.\n",
    "    Parameters:\n",
    "        data  - JSON formatted response data from Trove API\n",
    "    \"\"\"\n",
    "    dates = {}\n",
    "    try:\n",
    "        for term in data[\"response\"][\"zone\"][0][\"facets\"][\"facet\"][\"term\"]:\n",
    "            iso_date = f'{year}-{term[\"search\"]:02}-01'\n",
    "            date = arrow.get(iso_date)\n",
    "            if date >= arrow.get(start) and date <= arrow.get(end):\n",
    "                dates[iso_date] = int(term[\"count\"])\n",
    "    except TypeError:\n",
    "        pass\n",
    "    return dates\n",
    "\n",
    "\n",
    "def combine_totals(query_data, total_data, start, end, unit):\n",
    "    \"\"\"\n",
    "    Take facets data from the query search and a blank search (ie everything) for a decade and combine them.\n",
    "    Parameters:\n",
    "        query_data    - list of dictionaries containing facets data from a query search\n",
    "        total_data    - list of dictionaries containing facets data from a blank search\n",
    "    Returns:\n",
    "        A list of dictionaries containing: 'year', 'total_results', 'total articles'\n",
    "    \"\"\"\n",
    "    totals = []\n",
    "    # These are for cases where a full datetime is provided\n",
    "    if unit == \"year\":\n",
    "        start = f\"{start[:4]}-01-01\"\n",
    "    elif unit == \"month\":\n",
    "        start = f\"{start[:7]}-01\"\n",
    "    start_date = arrow.get(start)\n",
    "    if shifted and unit == \"day\":\n",
    "        start_date = start_date.shift(days=+1)\n",
    "    end_date = arrow.get(end)\n",
    "    while start_date <= end_date:\n",
    "        totals.append(\n",
    "            {\n",
    "                \"date\": start_date.format(\"YYYY-MM-DD\"),\n",
    "                \"total_results\": query_data.get(start_date.format(\"YYYY-MM-DD\"), 0),\n",
    "                \"total_articles\": total_data.get(start_date.format(\"YYYY-MM-DD\"), 0),\n",
    "            }\n",
    "        )\n",
    "        if unit == \"year\":\n",
    "            start_date = start_date.shift(years=+1)\n",
    "        elif unit == \"month\":\n",
    "            start_date = start_date.shift(months=+1)\n",
    "        elif unit == \"day\":\n",
    "            start_date = start_date.shift(days=+1)\n",
    "    return totals\n",
    "\n",
    "\n",
    "def clean_params(params):\n",
    "    \"\"\"\n",
    "    Remove unwanted facets from query to get total articles.\n",
    "    \"\"\"\n",
    "    keep = [\n",
    "        \"l-decade\",\n",
    "        \"l-year\",\n",
    "        \"l-month\",\n",
    "        \"l-title\",\n",
    "        \"l-state\",\n",
    "        \"key\",\n",
    "        \"encoding\",\n",
    "        \"q\",\n",
    "        \"n\",\n",
    "        \"zone\",\n",
    "        \"facet\",\n",
    "    ]\n",
    "    params_c = params.copy()\n",
    "    for k in list(params_c.keys()):\n",
    "        if k not in keep:\n",
    "            del params_c[k]\n",
    "    return params_c\n",
    "\n",
    "\n",
    "def year_totals(params):\n",
    "    \"\"\"\n",
    "    Generate a dataset for a search query.\n",
    "    Parameters:\n",
    "        params: the API search parameters\n",
    "    Returns:\n",
    "        A list of dicts, each containing:\n",
    "            - date\n",
    "            - total_results\n",
    "            - total_articles\n",
    "    \"\"\"\n",
    "    global unit\n",
    "    query_dates = {}\n",
    "    total_dates = {}\n",
    "    params_c = params.copy()\n",
    "    q = params_c[\"q\"]\n",
    "    if choose_unit.value != \"auto\":\n",
    "        unit = choose_unit.value\n",
    "        start, end, _ = set_date_range(params_c)\n",
    "    else:\n",
    "        start, end, unit = set_date_range(params_c)\n",
    "    start_year = int(start[:4])\n",
    "    end_year = int(end[:4])\n",
    "    with results:\n",
    "        if unit == \"year\":\n",
    "            start_decade = int(start[:3])\n",
    "            end_decade = int(end[:3])\n",
    "            for decade in tqdm(range(start_decade, end_decade + 1), leave=False):\n",
    "                params_c[\"facet\"] = \"year\"\n",
    "                params_c[\"q\"] = q\n",
    "                params_c[\"l-decade\"] = decade\n",
    "                query_data = get_results(params_c)\n",
    "                params_cleaned = clean_params(params_c)\n",
    "                params_cleaned[\"q\"] = \" \"\n",
    "                total_data = get_results(params_cleaned)\n",
    "                query_dates.update(get_year_facets(query_data, start_year, end_year))\n",
    "                total_dates.update(get_year_facets(total_data, start_year, end_year))\n",
    "            totals = combine_totals(query_dates, total_dates, start, end, unit)\n",
    "            totals.sort(key=itemgetter(\"date\"))\n",
    "        elif unit == \"month\":\n",
    "            for year in tqdm(range(start_year, end_year + 1), leave=False):\n",
    "                params_c[\"q\"] = q\n",
    "                params_c[\"l-decade\"] = str(year)[:3]\n",
    "                params_c[\"l-year\"] = year\n",
    "                params_c[\"facet\"] = \"month\"\n",
    "                query_data = get_results(params_c)\n",
    "                params_cleaned = clean_params(params_c)\n",
    "                params_cleaned[\"q\"] = \" \"\n",
    "                total_data = get_results(params_cleaned)\n",
    "                query_dates.update(get_month_facets(query_data, year, start, end))\n",
    "                total_dates.update(get_month_facets(total_data, year, start, end))\n",
    "            totals = combine_totals(query_dates, total_dates, start, end, unit)\n",
    "        elif unit == \"day\":\n",
    "            totals = []\n",
    "            start_date = arrow.get(start)\n",
    "            if shifted:\n",
    "                start_date = start_date.shift(days=+1)\n",
    "            end_date = arrow.get(end)\n",
    "            with tqdm(total=(end_date - start_date).days + 1, leave=False) as pbar:\n",
    "                while start_date <= end_date:\n",
    "                    q = re.sub(r\" date:\\[.+\\]\", \"\", q)\n",
    "                    from_date = start_date.shift(days=-1).format(\"YYYY-MM-DDT00:00:00\")\n",
    "                    to_date = start_date.format(\"YYYY-MM-DDT00:00:00\")\n",
    "                    q = q + f\" date:[{from_date}Z TO {to_date}Z]\"\n",
    "                    params_c[\"q\"] = q\n",
    "                    query_data = get_results(params_c)\n",
    "                    params_cleaned = clean_params(params_c)\n",
    "                    params_cleaned[\"q\"] = f\"date:[{from_date}Z TO {to_date}Z]\"\n",
    "                    total_data = get_results(params_cleaned)\n",
    "                    totals.append(\n",
    "                        {\n",
    "                            \"date\": to_date,\n",
    "                            \"total_results\": int(\n",
    "                                query_data[\"response\"][\"zone\"][0][\"records\"][\"total\"]\n",
    "                            ),\n",
    "                            \"total_articles\": int(\n",
    "                                total_data[\"response\"][\"zone\"][0][\"records\"][\"total\"]\n",
    "                            ),\n",
    "                        }\n",
    "                    )\n",
    "                    start_date = start_date.shift(days=+1)\n",
    "                    pbar.update(1)\n",
    "    return totals\n",
    "\n",
    "\n",
    "def set_date_range(params):\n",
    "    \"\"\"\n",
    "    Determines the date range from the query paramaters,\n",
    "    then uses the date range to set the time unit.\n",
    "    Returns:\n",
    "        - start: start date (ISO format)\n",
    "        - end: end date (ISO format)\n",
    "        - unit: one of 'year', 'month', or 'day'\n",
    "    \"\"\"\n",
    "    global shifted\n",
    "    shifted = False\n",
    "    if \"l-month\" in params:\n",
    "        start = f'{params[\"l-year\"][0]}-{params[\"l-month\"][0]}-01'\n",
    "        end = f'{params[\"l-year\"][0]}-{params[\"l-month\"][0]}-{monthrange(int(params[\"l-year\"][0]), int(params[\"l-month\"][0]))[1]}'\n",
    "        unit = \"day\"\n",
    "    elif \"l-year\" in params:\n",
    "        start = params[\"l-year\"][0] + \"-01-01\"\n",
    "        end = params[\"l-year\"][0] + \"-12-31\"\n",
    "        unit = \"month\"\n",
    "    elif \"l-decade\" in params:\n",
    "        start = params[\"l-decade\"][0] + \"0-01-01\"\n",
    "        end = params[\"l-decade\"][0] + \"9-12-31\"\n",
    "        unit = \"month\"\n",
    "    elif \"date:\" in params[\"q\"]:\n",
    "        date_range = re.search(r\"date:\\[(.+)\\]\", params[\"q\"]).group(1)\n",
    "        start_date, _, end_date = date_range.split()\n",
    "        if len(start_date) > 4:\n",
    "            shifted = True\n",
    "        diff = arrow.get(end_date) - arrow.get(start_date)\n",
    "        days = diff.days\n",
    "        # More than a 20 years\n",
    "        if days > 2 * 3653:\n",
    "            start = start_date[:10]\n",
    "            end = end_date[:10]\n",
    "            unit = \"year\"\n",
    "        # A single year\n",
    "        elif days == 0:\n",
    "            start = start_date[:10]\n",
    "            end = (\n",
    "                arrow.get(end_date[:10])\n",
    "                .shift(years=+1)\n",
    "                .shift(days=-1)\n",
    "                .format(\"YYYY-MM-DD\")\n",
    "            )\n",
    "            unit = \"month\"\n",
    "        elif days < 94:\n",
    "            start = start_date[:10]\n",
    "            end = end_date[:10]\n",
    "            unit = \"day\"\n",
    "        else:\n",
    "            start = start_date[:10]\n",
    "            end = end_date[:10]\n",
    "            unit = \"month\"\n",
    "    else:\n",
    "        start = \"1803-01-01\"\n",
    "        end = arrow.now().format(\"YYYY-01-01\")\n",
    "        unit = \"year\"\n",
    "    return start, end, unit\n",
    "\n",
    "\n",
    "def show_results(view=\"raw\"):\n",
    "    \"\"\"\n",
    "    Display the chart and the save data options.\n",
    "    \"\"\"\n",
    "    results.clear_output(wait=True)\n",
    "    save_data.clear_output(wait=True)\n",
    "    chart = make_chart(view=view)\n",
    "    chart_type.unobserve(change_chart, \"value\")\n",
    "    chart_type.value = \"raw\"\n",
    "    chart_type.observe(change_chart, \"value\")\n",
    "    csv_file = save_as_csv()\n",
    "    with results:\n",
    "        display(chart_type)\n",
    "        display(chart)\n",
    "    with save_data:\n",
    "        display(\n",
    "            widgets.HBox([save_chart_button, save_chart_width, save_chart_height]),\n",
    "            layout=widgets.Layout(margin=\"50px 0 50px 0\"),\n",
    "        )\n",
    "        display(HTML(f'Download data: <a href=\"{csv_file}\" download>{csv_file}</a>'))\n",
    "\n",
    "\n",
    "def make_chart(view, width=800, height=400):\n",
    "    \"\"\"\n",
    "    Create the chart.\n",
    "    Parameters:\n",
    "        - view: either 'raw' or 'relative'\n",
    "        - width: in pixels\n",
    "        - height: in pixels\n",
    "    \"\"\"\n",
    "    # Combine dfs into a single df\n",
    "    df = pd.concat(dfs, ignore_index=True)\n",
    "    # Define shared tooltips\n",
    "    tooltip = [\n",
    "        alt.Tooltip(\"id\", title=\"query\"),\n",
    "        alt.Tooltip(\"total_results:Q\", title=\"results\", format=\",\"),\n",
    "        alt.Tooltip(\"PercentOfTotal:Q\", title=\"proportion\", format=\".2%\"),\n",
    "    ]\n",
    "    # Configure x & tooltips based on time unit\n",
    "    if unit == \"year\":\n",
    "        x = alt.X(\n",
    "            \"year(date):T\", axis=alt.Axis(title=\"Year\"), scale=alt.Scale(padding=10)\n",
    "        )\n",
    "        tooltip.insert(1, alt.Tooltip(\"year(date):T\", title=\"year\"))\n",
    "    elif unit == \"month\":\n",
    "        x = alt.X(\n",
    "            \"yearmonth(date):T\",\n",
    "            axis=alt.Axis(title=\"Month\"),\n",
    "            scale=alt.Scale(padding=10),\n",
    "        )\n",
    "        tooltip.insert(1, alt.Tooltip(\"yearmonth(date):T\", title=\"month\"))\n",
    "    elif unit == \"day\":\n",
    "        x = alt.X(\n",
    "            \"date:T\",\n",
    "            axis=alt.Axis(title=\"Date\", format=\"%e %b %Y\"),\n",
    "            scale=alt.Scale(padding=10),\n",
    "        )\n",
    "        tooltip.insert(1, alt.Tooltip(\"date:T\", title=\"date\", format=\"%A, %e %b %Y\"))\n",
    "    # Configure y based on cahrt view type\n",
    "    if view == \"raw\":\n",
    "        y = alt.Y(\n",
    "            \"total_results:Q\", axis=alt.Axis(format=\",d\", title=\"Number of articles\")\n",
    "        )\n",
    "    elif view == \"relative\":\n",
    "        y = alt.Y(\n",
    "            \"PercentOfTotal:Q\",\n",
    "            axis=alt.Axis(format=\".2%\", title=\"Percentage of total articles\"),\n",
    "        )\n",
    "    # Create chart\n",
    "    plot = (\n",
    "        alt.Chart(df)\n",
    "        .mark_line(point=True, interpolate=\"cardinal\")\n",
    "        .encode(\n",
    "            x=x,\n",
    "            y=y,\n",
    "            tooltip=tooltip,\n",
    "            color=alt.Color(\"id\", legend=alt.Legend(title=\"\")),\n",
    "            href=\"url:N\",\n",
    "        )\n",
    "        .properties(\n",
    "            width=width,\n",
    "            height=height,\n",
    "            title={\n",
    "                \"text\": \"Trove Newspapers & Gazettes Search\",\n",
    "                \"subtitle\": f'Created by QueryPic: {arrow.now().format(\"D MMMM YYYY\")}',\n",
    "            },\n",
    "        )\n",
    "        .transform_calculate(\n",
    "            PercentOfTotal=\"datum.total_results / datum.total_articles\"\n",
    "        )\n",
    "    )\n",
    "    # Create text chart listing queries\n",
    "    query_list = list_queries()\n",
    "    # Combine charts\n",
    "    chart = (\n",
    "        alt.vconcat(plot, query_list)\n",
    "        .configure(padding=20)\n",
    "        .configure_view(strokeWidth=0)\n",
    "        .configure_title(fontSize=14)\n",
    "    )\n",
    "    return chart\n",
    "\n",
    "\n",
    "def list_queries():\n",
    "    \"\"\"\n",
    "    Creates a text-based chart that lists the saved queries.\n",
    "    \"\"\"\n",
    "    df = pd.DataFrame(queries)\n",
    "    chart = (\n",
    "        alt.Chart(df)\n",
    "        .mark_text(align=\"left\", dx=2, dy=1, baseline=\"middle\")\n",
    "        .encode(\n",
    "            x=alt.X(\"x:Q\", title=None, axis=None, scale=alt.Scale(range=[0, 1])),\n",
    "            y=alt.Y(\n",
    "                \"id:O\",\n",
    "                title=None,\n",
    "                axis=alt.Axis(labelFontWeight=\"bold\", domain=False, grid=False),\n",
    "            ),\n",
    "            text=\"url:N\",\n",
    "            href=\"url\",\n",
    "            color=alt.value(\"blue\"),\n",
    "        )\n",
    "    )\n",
    "    return chart\n",
    "\n",
    "\n",
    "def clear_all(b):\n",
    "    \"\"\"\n",
    "    Clear all queries and results.\n",
    "    \"\"\"\n",
    "    global dfs, queries\n",
    "    dfs = []\n",
    "    queries = []\n",
    "    query.value = \"\"\n",
    "    results.clear_output()\n",
    "    save_data.clear_output()\n",
    "\n",
    "\n",
    "def clear_last(b):\n",
    "    \"\"\"\n",
    "    Remove the most recent query from the chart.\n",
    "    \"\"\"\n",
    "    global dfs, queries\n",
    "    results.clear_output()\n",
    "    save_data.clear_output()\n",
    "    dfs.pop()\n",
    "    queries.pop()\n",
    "    if dfs:\n",
    "        show_results()\n",
    "\n",
    "\n",
    "def save_chart(b):\n",
    "    \"\"\"\n",
    "    Save the chart as HTML for download.\n",
    "    \"\"\"\n",
    "    width = save_chart_width.value\n",
    "    height = save_chart_height.value\n",
    "    if chart_type.value == \"proportion\":\n",
    "        chart = make_chart(\"relative\", width, height)\n",
    "    else:\n",
    "        chart = make_chart(\"raw\", width, height)\n",
    "    filename = f'data/querypic-{arrow.now().format(\"YYYYMMDDHHmmss\")}.html'\n",
    "    chart.save(filename)\n",
    "    with save_data:\n",
    "        display(\n",
    "            HTML(f\"Download HTML version: <a href={filename} download>{filename}</a>\")\n",
    "        )\n",
    "        # display(widgets.HBox([save_chart_button, save_chart_width, save_chart_height], layout=widgets.Layout(margin='50px 0 50px 0')))\n",
    "\n",
    "\n",
    "def save_as_csv():\n",
    "    \"\"\"\n",
    "    Save harvested data as a CSV for download.\n",
    "    \"\"\"\n",
    "    df = pd.concat(dfs, ignore_index=True)\n",
    "    filename = f'data/querypic-{arrow.now().format(\"YYYYMMDDHHmmss\")}.csv'\n",
    "    df.to_csv(filename, index=False)\n",
    "    return filename\n",
    "\n",
    "\n",
    "def change_chart(o):\n",
    "    \"\"\"\n",
    "    Switch between chart views.\n",
    "    \"\"\"\n",
    "    results.clear_output()\n",
    "    if chart_type.value == \"proportion\":\n",
    "        view = \"relative\"\n",
    "    else:\n",
    "        view = \"raw\"\n",
    "    chart = make_chart(view)\n",
    "    # chart_type.value = view\n",
    "    with results:\n",
    "        display(chart_type)\n",
    "        display(chart)\n",
    "\n",
    "\n",
    "def add_date_query(date):\n",
    "    date_from = arrow.get(date).shift(days=-1).format(\"YYYY-MM-DD\")\n",
    "    date_query = f\"date:[{date_from}T00:00:00Z TO {date}T00:00:00Z]\"\n",
    "    url = re.sub(r\"\\s*date:\\[.+\\]\", \"\", query.value)\n",
    "    url = re.sub(r\"(keyword=[^&]+)\", r\"\\1 \" + date_query, url)\n",
    "    return url\n",
    "\n",
    "\n",
    "def add_urls_to_df(df):\n",
    "    url = re.sub(r\"\\s*date:\\[.+\\]\", \"\", query.value)\n",
    "    if unit == \"year\":\n",
    "        df[\"url\"] = df[\"date\"].apply(lambda x: f\"{url}&l-decade={x[:3]}&l-year={x[:4]}\")\n",
    "    elif unit == \"month\":\n",
    "        df[\"url\"] = df[\"date\"].apply(\n",
    "            lambda x: f'{url}&l-decade={x[:3]}&l-year={x[:4]}&l-month={x[5:7].strip(\"0\")}'\n",
    "        )\n",
    "    elif unit == \"day\":\n",
    "        df[\"url\"] = df[\"date\"].apply(lambda x: add_date_query(x))\n",
    "    return df\n",
    "\n",
    "\n",
    "def get_data(b):\n",
    "    \"\"\"\n",
    "    Assemble the data and prepare it for display.\n",
    "    \"\"\"\n",
    "    global dfs, queries\n",
    "    # Add current query to queries list\n",
    "    queries.append(\n",
    "        {\n",
    "            \"x\": 0,\n",
    "            \"y\": len(queries),\n",
    "            \"id\": f\"Query {len(queries) + 1}\",\n",
    "            \"url\": query.value,\n",
    "            \"params\": query.value.split(\"?\")[1],\n",
    "        }\n",
    "    )\n",
    "    # Extract params from query\n",
    "    params = parse_query(query.value)\n",
    "    # Add extra params for API\n",
    "    params[\"key\"] = api_key.value\n",
    "    params[\"encoding\"] = \"json\"\n",
    "    params[\"n\"] = 1\n",
    "    # Limit to newspapers if no specific zone set\n",
    "    if \",\" in params[\"zone\"]:\n",
    "        params[\"zone\"] = \"newspaper\"\n",
    "    # Get the data\n",
    "    totals = year_totals(params)\n",
    "    # Convert to dataframe\n",
    "    df = pd.DataFrame(totals)\n",
    "    # Add urls to the data rows\n",
    "    df = add_urls_to_df(df)\n",
    "    # Add a query id to the dataframe\n",
    "    df[\"id\"] = f\"Query {len(queries)}\"\n",
    "    # Add current ddf to list of dfs\n",
    "    dfs.append(df)\n",
    "    # Display the results\n",
    "    show_results()\n",
    "\n",
    "\n",
    "# CREATE WIDGETS\n",
    "\n",
    "results = widgets.Output()\n",
    "save_data = widgets.Output()\n",
    "\n",
    "chart_type = widgets.Dropdown(\n",
    "    options=[\n",
    "        (\"Raw number of results\", \"raw\"),\n",
    "        (\"Proportion of total articles\", \"proportion\"),\n",
    "    ],\n",
    "    value=\"raw\",\n",
    ")\n",
    "\n",
    "chart_type.observe(change_chart, \"value\")\n",
    "\n",
    "api_key = widgets.Password(\n",
    "    placeholder=\"Enter your Trove API key\",\n",
    "    description=\"API key:\",\n",
    "    disabled=False,\n",
    "    value=\"\",\n",
    ")\n",
    "\n",
    "query = widgets.Text(\n",
    "    placeholder=\"Enter your search query\",\n",
    "    description=\"Query:\",\n",
    "    disabled=False,\n",
    "    value=\"\",\n",
    "    layout=widgets.Layout(width=\"80%\"),\n",
    ")\n",
    "\n",
    "choose_unit = widgets.Dropdown(\n",
    "    options=[\n",
    "        (\"Automatic\", \"auto\"),\n",
    "        (\"Year\", \"year\"),\n",
    "        (\"Month\", \"month\"),\n",
    "        (\"Day\", \"day\"),\n",
    "    ],\n",
    "    value=\"auto\",\n",
    "    description=\"Time unit:\",\n",
    ")\n",
    "\n",
    "clear_last_button = widgets.Button(\n",
    "    description=\"Remove last query\",\n",
    "    disabled=False,\n",
    "    button_style=\"\",  # 'success', 'info', 'warning', 'danger' or ''\n",
    "    tooltip=\"Remove the last query\",\n",
    "    icon=\"\",\n",
    ")\n",
    "\n",
    "clear_all_button = widgets.Button(\n",
    "    description=\"Clear all queries\",\n",
    "    disabled=False,\n",
    "    button_style=\"\",  # 'success', 'info', 'warning', 'danger' or ''\n",
    "    tooltip=\"Clear current queries\",\n",
    "    icon=\"\",\n",
    ")\n",
    "\n",
    "get_data_button = widgets.Button(\n",
    "    description=\"Visualise query\",\n",
    "    disabled=False,\n",
    "    button_style=\"primary\",  # 'success', 'info', 'warning', 'danger' or ''\n",
    "    tooltip=\"Create chart from query\",\n",
    "    icon=\"\",\n",
    ")\n",
    "\n",
    "save_chart_button = widgets.Button(\n",
    "    description=\"Save chart as HTML\",\n",
    "    disabled=False,\n",
    "    button_style=\"primary\",  # 'success', 'info', 'warning', 'danger' or ''\n",
    "    tooltip=\"Save chart as HTML\",\n",
    "    icon=\"\",\n",
    ")\n",
    "\n",
    "save_chart_width = widgets.BoundedIntText(\n",
    "    value=700, min=700, max=2000, step=100, description=\"Width\", disabled=False\n",
    ")\n",
    "\n",
    "save_chart_height = widgets.BoundedIntText(\n",
    "    value=400, min=400, max=1500, step=100, description=\"Height\", disabled=False\n",
    ")\n",
    "\n",
    "clear_all_button.on_click(clear_all)\n",
    "clear_last_button.on_click(clear_last)\n",
    "get_data_button.on_click(get_data)\n",
    "save_chart_button.on_click(save_chart)"
   ]
  },
  {
   "cell_type": "markdown",
   "id": "92122b41-ac09-413a-820d-b627edb0eee8",
   "metadata": {},
   "source": [
    "## 1. Enter your Trove API key\n",
    "\n",
    "Get your own [Trove API key](https://trove.nla.gov.au/about/create-something/using-api) and enter it below."
   ]
  },
  {
   "cell_type": "code",
   "execution_count": null,
   "id": "eeb4138a-c8f9-4c02-b03d-39270dd1c240",
   "metadata": {},
   "outputs": [],
   "source": [
    "display(api_key)"
   ]
  },
  {
   "cell_type": "markdown",
   "id": "89237347-a145-4f00-9ed4-14ed4755ef94",
   "metadata": {},
   "source": [
    "## 2. Enter your search url\n",
    "\n",
    "Construct your search using the [Trove web interface](https://trove.nla.gov.au/newspaper/), then just copy and paste the url into the box below."
   ]
  },
  {
   "cell_type": "code",
   "execution_count": null,
   "id": "3b76984e-c761-4938-8756-35a08d37bfb1",
   "metadata": {},
   "outputs": [],
   "source": [
    "display(query)"
   ]
  },
  {
   "cell_type": "markdown",
   "id": "a1c2da63-d5fa-4cea-9210-7ee5aecf3c3d",
   "metadata": {},
   "source": [
    "## 3. Select the scale (optional)\n",
    "\n",
    "QueryPic aggregates search results by time units – either 'year', 'month', or 'day'. If you choose 'Automatic' in the list below, QueryPic will choose a unit based on the date range of your query, trying to balance resolution and efficiency:\n",
    "\n",
    "<ul class=\"browser-default\">\n",
    "    <li>Less than 3 months – 'day'</li>\n",
    "    <li>Between 3 months and 20 years – 'month'</li>\n",
    "    <li>More than 20 years – 'year'</li>\n",
    "</ul>\n",
    "\n",
    "If you're not happy with these results you can select your own time unit."
   ]
  },
  {
   "cell_type": "code",
   "execution_count": null,
   "id": "052e5136-1381-4981-b1b4-054a3484a233",
   "metadata": {},
   "outputs": [],
   "source": [
    "display(choose_unit)"
   ]
  },
  {
   "cell_type": "markdown",
   "id": "6977f588-5f28-4c22-b716-16d765ca3931",
   "metadata": {},
   "source": [
    "## 4. Create your chart\n",
    "\n",
    "You can add as many queries as you want to a single chart."
   ]
  },
  {
   "cell_type": "code",
   "execution_count": null,
   "id": "77c6095d-4ac4-4826-8921-e50c1476833a",
   "metadata": {},
   "outputs": [],
   "source": [
    "display(\n",
    "    widgets.VBox(\n",
    "        [\n",
    "            widgets.HBox(\n",
    "                [get_data_button, clear_last_button, clear_all_button],\n",
    "                layout=widgets.Layout(margin=\"0 0 20px 0\"),\n",
    "            ),\n",
    "            results,\n",
    "            save_data,\n",
    "        ]\n",
    "    )\n",
    ")"
   ]
  },
  {
   "cell_type": "markdown",
   "id": "3db7579a-6a6c-4a7a-9dc3-5d06faea3b78",
   "metadata": {},
   "source": [
    "## 5. Questions?\n",
    "\n",
    "**But what are you actually searching?** For more ways of analysing Trove's digitised newspaper corpus, see the [Trove Newspapers in Context](https://glam-workbench.net/trove-newspapers/#trove-newspapers-in-context) of the GLAM Workbench.\n",
    "\n",
    "**How does it work?** For examples of how to use Trove's facets to construct high-level visualisations like these, see [Visualise Trove newspaper searches over time](https://glam-workbench.net/trove-newspapers/#visualise-trove-newspaper-searches-over-time).\n",
    "\n",
    "**Any problems?** Feel free to ask questions in the [GLAM Workbench section](https://ozglam.chat/c/glam-workbench/8) of OzGLAM Help."
   ]
  },
  {
   "cell_type": "code",
   "execution_count": null,
   "id": "b61f3132-4cde-44e7-aca4-cae96816f2ee",
   "metadata": {},
   "outputs": [],
   "source": [
    "# TESTING\n",
    "if os.getenv(\"GW_STATUS\") == \"dev\" and os.getenv(\"TROVE_API_KEY\"):\n",
    "    api_key.value = os.getenv(\"TROVE_API_KEY\")\n",
    "    query.value = \"https://trove.nla.gov.au/search/category/newspapers?keyword=cat\"\n",
    "    get_data_button.click()"
   ]
  },
  {
   "cell_type": "markdown",
   "id": "a101f6ba-2c21-4cfb-ba43-c47395a8b630",
   "metadata": {},
   "source": [
    "----\n",
    "\n",
    "Created by [Tim Sherratt](https://timsherratt.org/) for the [GLAM Workbench](https://glam-workbench.github.io/). Support this project by becoming a [GitHub sponsor](https://github.com/sponsors/wragge?o=esb).\n",
    "\n"
   ]
  }
 ],
 "metadata": {
  "kernelspec": {
   "display_name": "Python 3 (ipykernel)",
   "language": "python",
   "name": "python3"
  },
  "language_info": {
   "codemirror_mode": {
    "name": "ipython",
    "version": 3
   },
   "file_extension": ".py",
   "mimetype": "text/x-python",
   "name": "python",
   "nbconvert_exporter": "python",
   "pygments_lexer": "ipython3",
   "version": "3.8.12"
  },
  "widgets": {
   "application/vnd.jupyter.widget-state+json": {
    "state": {
     "00078d9b3f2d4a8498f10549c7277116": {
      "model_module": "@jupyter-widgets/base",
      "model_module_version": "1.2.0",
      "model_name": "LayoutModel",
      "state": {
       "margin": "50px 0 50px 0"
      }
     },
     "0026bf2207b74d71ac90935da374ec6b": {
      "model_module": "@jupyter-widgets/controls",
      "model_module_version": "1.5.0",
      "model_name": "PasswordModel",
      "state": {
       "description": "API key:",
       "layout": "IPY_MODEL_98b8ffb13c1b4be0b363728f740a1c6a",
       "placeholder": "Enter your Trove API key",
       "style": "IPY_MODEL_a95efb2132534ebbb372110ba41fd894",
       "value": "6pi5hht0d2umqcro"
      }
     },
     "00c59b4566a64742a101dc7dbf568cf2": {
      "model_module": "@jupyter-widgets/base",
      "model_module_version": "1.2.0",
      "model_name": "LayoutModel",
      "state": {}
     },
     "0126a046565f4aebb5dd822035d6c648": {
      "model_module": "@jupyter-widgets/base",
      "model_module_version": "1.2.0",
      "model_name": "LayoutModel",
      "state": {
       "margin": "50px 0 50px 0"
      }
     },
     "01688d6f0b6d4211a5cac38c97e9ee45": {
      "model_module": "@jupyter-widgets/controls",
      "model_module_version": "1.5.0",
      "model_name": "FloatProgressModel",
      "state": {
       "layout": "IPY_MODEL_a3101ac4aaae445f98c6d898216c8adc",
       "max": 6,
       "style": "IPY_MODEL_898546044a424767884d345b0d4ee274",
       "value": 6
      }
     },
     "018ccdc84a7b437a9dc821ac73a71d55": {
      "model_module": "@jupyter-widgets/base",
      "model_module_version": "1.2.0",
      "model_name": "LayoutModel",
      "state": {}
     },
     "01a1550a144d454fa58c34e6d2ece905": {
      "model_module": "@jupyter-widgets/controls",
      "model_module_version": "1.5.0",
      "model_name": "ProgressStyleModel",
      "state": {
       "description_width": ""
      }
     },
     "01b02a0d384d43cb8e4f93a25f0d96dd": {
      "model_module": "@jupyter-widgets/controls",
      "model_module_version": "1.5.0",
      "model_name": "TextModel",
      "state": {
       "description": "Query:",
       "layout": "IPY_MODEL_7ca36395edf84971a77e433717513eae",
       "placeholder": "Enter your search query",
       "style": "IPY_MODEL_0b2f6494652246b492e1ded83f1f2836",
       "value": "https://trove.nla.gov.au/search/category/newspapers?keyword=text%3A%22darling%20wife%22%20date%3A%5B1850%20TO%201954%5D"
      }
     },
     "01d777ec447c4cdfa701e211313003a2": {
      "model_module": "@jupyter-widgets/controls",
      "model_module_version": "1.5.0",
      "model_name": "ButtonStyleModel",
      "state": {}
     },
     "020ab68071b14a958333c0b49adf9fea": {
      "model_module": "@jupyter-widgets/controls",
      "model_module_version": "1.5.0",
      "model_name": "ButtonStyleModel",
      "state": {}
     },
     "021202a1fdc8492bb67eed216cce90a7": {
      "model_module": "@jupyter-widgets/controls",
      "model_module_version": "1.5.0",
      "model_name": "DescriptionStyleModel",
      "state": {
       "description_width": ""
      }
     },
     "02a08370fbf24d0088ac9f193081cf76": {
      "model_module": "@jupyter-widgets/base",
      "model_module_version": "1.2.0",
      "model_name": "LayoutModel",
      "state": {}
     },
     "02e78c1061be46409605efc212fb4769": {
      "model_module": "@jupyter-widgets/base",
      "model_module_version": "1.2.0",
      "model_name": "LayoutModel",
      "state": {}
     },
     "03005852310a41eebdf66d32184408fe": {
      "model_module": "@jupyter-widgets/controls",
      "model_module_version": "1.5.0",
      "model_name": "DescriptionStyleModel",
      "state": {
       "description_width": ""
      }
     },
     "030367c1f1a44d4e8d19624368882b99": {
      "model_module": "@jupyter-widgets/base",
      "model_module_version": "1.2.0",
      "model_name": "LayoutModel",
      "state": {
       "margin": "50px 0 50px 0"
      }
     },
     "0320db77578b4dceafa13539381d4bc7": {
      "model_module": "@jupyter-widgets/controls",
      "model_module_version": "1.5.0",
      "model_name": "ButtonModel",
      "state": {
       "button_style": "primary",
       "description": "Visualise query",
       "layout": "IPY_MODEL_b91d441d4ff64845bd952d3cc2584aaa",
       "style": "IPY_MODEL_dd5d1d2829f14d759668cba82a80eddb",
       "tooltip": "Create chart from query"
      }
     },
     "037aa69837464afeb44e3b0dfadcef76": {
      "model_module": "@jupyter-widgets/controls",
      "model_module_version": "1.5.0",
      "model_name": "ButtonStyleModel",
      "state": {}
     },
     "039b67039d3841aeaf552a0640e29d28": {
      "model_module": "@jupyter-widgets/controls",
      "model_module_version": "1.5.0",
      "model_name": "ButtonStyleModel",
      "state": {}
     },
     "03ae19b6fa344cb0aff14b4551fc4674": {
      "model_module": "@jupyter-widgets/controls",
      "model_module_version": "1.5.0",
      "model_name": "HTMLModel",
      "state": {
       "layout": "IPY_MODEL_0b1d00104e384924a2ed2475d484f85b",
       "style": "IPY_MODEL_9f9204e9d95e486da3d1a2f3de3922c8",
       "value": "100%"
      }
     },
     "03c1877ed4a54ea3a6629f2dd2c112fe": {
      "model_module": "@jupyter-widgets/controls",
      "model_module_version": "1.5.0",
      "model_name": "HTMLModel",
      "state": {
       "layout": "IPY_MODEL_38012494e3c041ea82f4695b3f70f29f",
       "style": "IPY_MODEL_1bf63ce674f94ba59f89d8c7d75bb32b",
       "value": " 6/6 [00:09&lt;00:00,  1.50s/it]"
      }
     },
     "04494a850f8c4b6ab184b18a1c89786b": {
      "model_module": "@jupyter-widgets/controls",
      "model_module_version": "1.5.0",
      "model_name": "ButtonModel",
      "state": {
       "description": "Remove last query",
       "layout": "IPY_MODEL_018ccdc84a7b437a9dc821ac73a71d55",
       "style": "IPY_MODEL_a60720e1c98949fcab261923a4f06f34",
       "tooltip": "Remove the last query"
      }
     },
     "04d46c6e5c164deeac3b9ebcab8a8e2f": {
      "model_module": "@jupyter-widgets/controls",
      "model_module_version": "1.5.0",
      "model_name": "HTMLModel",
      "state": {
       "layout": "IPY_MODEL_58a1e9601388442984ae2891a0a5b793",
       "style": "IPY_MODEL_e22f1c9464864366bb268f922ff52995",
       "value": "100%"
      }
     },
     "04d9317dd5a54645aa380af05425d008": {
      "model_module": "@jupyter-widgets/controls",
      "model_module_version": "1.5.0",
      "model_name": "DescriptionStyleModel",
      "state": {
       "description_width": ""
      }
     },
     "052d076e1d0e4559afd6b324a1b0fdb2": {
      "model_module": "@jupyter-widgets/base",
      "model_module_version": "1.2.0",
      "model_name": "LayoutModel",
      "state": {}
     },
     "05357c4e366a43acbb07ef45ff257393": {
      "model_module": "@jupyter-widgets/base",
      "model_module_version": "1.2.0",
      "model_name": "LayoutModel",
      "state": {}
     },
     "05aaf12f299042d79c55592f396d6dc8": {
      "model_module": "@jupyter-widgets/base",
      "model_module_version": "1.2.0",
      "model_name": "LayoutModel",
      "state": {
       "margin": "50px 0 50px 0"
      }
     },
     "05c99d4d3ded4c80a9ca9fe954c14795": {
      "model_module": "@jupyter-widgets/output",
      "model_module_version": "1.0.0",
      "model_name": "OutputModel",
      "state": {
       "layout": "IPY_MODEL_44b24cb6bafd4800a9accc03fe1b2c51",
       "outputs": [
        {
         "data": {
          "application/vnd.jupyter.widget-view+json": {
           "model_id": "",
           "version_major": 2,
           "version_minor": 0
          },
          "text/plain": "Dropdown(options=(('Raw number of results', 'raw'), ('Proportion of total articles', 'proportion')), value='ra…"
         },
         "metadata": {},
         "output_type": "display_data"
        },
        {
         "data": {
          "text/html": "\n<div id=\"altair-viz-7f5e742b74c143f2933d717348ce7cec\"></div>\n<script type=\"text/javascript\">\n  var VEGA_DEBUG = (typeof VEGA_DEBUG == \"undefined\") ? {} : VEGA_DEBUG;\n  (function(spec, embedOpt){\n    let outputDiv = document.currentScript.previousElementSibling;\n    if (outputDiv.id !== \"altair-viz-7f5e742b74c143f2933d717348ce7cec\") {\n      outputDiv = document.getElementById(\"altair-viz-7f5e742b74c143f2933d717348ce7cec\");\n    }\n    const paths = {\n      \"vega\": \"https://cdn.jsdelivr.net/npm//vega@5?noext\",\n      \"vega-lib\": \"https://cdn.jsdelivr.net/npm//vega-lib?noext\",\n      \"vega-lite\": \"https://cdn.jsdelivr.net/npm//vega-lite@4.17.0?noext\",\n      \"vega-embed\": \"https://cdn.jsdelivr.net/npm//vega-embed@6?noext\",\n    };\n\n    function maybeLoadScript(lib, version) {\n      var key = `${lib.replace(\"-\", \"\")}_version`;\n      return (VEGA_DEBUG[key] == version) ?\n        Promise.resolve(paths[lib]) :\n        new Promise(function(resolve, reject) {\n          var s = document.createElement('script');\n          document.getElementsByTagName(\"head\")[0].appendChild(s);\n          s.async = true;\n          s.onload = () => {\n            VEGA_DEBUG[key] = version;\n            return resolve(paths[lib]);\n          };\n          s.onerror = () => reject(`Error loading script: ${paths[lib]}`);\n          s.src = paths[lib];\n        });\n    }\n\n    function showError(err) {\n      outputDiv.innerHTML = `<div class=\"error\" style=\"color:red;\">${err}</div>`;\n      throw err;\n    }\n\n    function displayChart(vegaEmbed) {\n      vegaEmbed(outputDiv, spec, embedOpt)\n        .catch(err => showError(`Javascript Error: ${err.message}<br>This usually means there's a typo in your chart specification. See the javascript console for the full traceback.`));\n    }\n\n    if(typeof define === \"function\" && define.amd) {\n      requirejs.config({paths});\n      require([\"vega-embed\"], displayChart, err => showError(`Error loading script: ${err.message}`));\n    } else {\n      maybeLoadScript(\"vega\", \"5\")\n        .then(() => maybeLoadScript(\"vega-lite\", \"4.17.0\"))\n        .then(() => maybeLoadScript(\"vega-embed\", \"6\"))\n        .catch(showError)\n        .then(() => displayChart(vegaEmbed));\n    }\n  })({\"usermeta\": {\"embedOptions\": {\"loader\": {\"target\": \"_blank\"}}}, \"vconcat\": [{\"data\": {\"name\": \"data-9795c4a2d72f205d2bd58f746762ec7c\"}, \"mark\": {\"type\": \"line\", \"interpolate\": \"cardinal\", \"point\": true}, \"encoding\": {\"color\": {\"field\": \"id\", \"legend\": {\"title\": \"\"}, \"type\": \"nominal\"}, \"href\": {\"field\": \"url\", \"type\": \"nominal\"}, \"tooltip\": [{\"field\": \"id\", \"title\": \"query\", \"type\": \"nominal\"}, {\"field\": \"date\", \"timeUnit\": \"year\", \"title\": \"year\", \"type\": \"temporal\"}, {\"field\": \"total_results\", \"format\": \",\", \"title\": \"results\", \"type\": \"quantitative\"}, {\"field\": \"PercentOfTotal\", \"format\": \".2%\", \"title\": \"proportion\", \"type\": \"quantitative\"}], \"x\": {\"axis\": {\"title\": \"Year\"}, \"field\": \"date\", \"scale\": {\"padding\": 10}, \"timeUnit\": \"year\", \"type\": \"temporal\"}, \"y\": {\"axis\": {\"format\": \",d\", \"title\": \"Number of articles\"}, \"field\": \"total_results\", \"type\": \"quantitative\"}}, \"height\": 400, \"title\": {\"text\": \"Trove Newspapers & Gazettes Search\", \"subtitle\": \"Created by QueryPic: 24 June 2022\"}, \"transform\": [{\"calculate\": \"datum.total_results / datum.total_articles\", \"as\": \"PercentOfTotal\"}], \"width\": 800}, {\"data\": {\"name\": \"data-319e3cdd607cc1e6902f8a95ffffe1a0\"}, \"mark\": {\"type\": \"text\", \"align\": \"left\", \"baseline\": \"middle\", \"dx\": 2, \"dy\": 1}, \"encoding\": {\"color\": {\"value\": \"blue\"}, \"href\": {\"field\": \"url\", \"type\": \"nominal\"}, \"text\": {\"field\": \"url\", \"type\": \"nominal\"}, \"x\": {\"axis\": null, \"field\": \"x\", \"scale\": {\"range\": [0, 1]}, \"title\": null, \"type\": \"quantitative\"}, \"y\": {\"axis\": {\"domain\": false, \"grid\": false, \"labelFontWeight\": \"bold\"}, \"field\": \"id\", \"title\": null, \"type\": \"ordinal\"}}}], \"config\": {\"padding\": 20, \"title\": {\"fontSize\": 14}, \"view\": {\"strokeWidth\": 0}}, \"$schema\": \"https://vega.github.io/schema/vega-lite/v4.17.0.json\", \"datasets\": {\"data-9795c4a2d72f205d2bd58f746762ec7c\": [{\"date\": \"1900-01-02\", \"total_results\": 0, \"total_articles\": 0, \"url\": \"https://trove.nla.gov.au/search/category/newspapers?keyword=cat%20&l-decade=190&l-year=1900\", \"id\": \"Query 1\"}, {\"date\": \"1901-01-02\", \"total_results\": 0, \"total_articles\": 0, \"url\": \"https://trove.nla.gov.au/search/category/newspapers?keyword=cat%20&l-decade=190&l-year=1901\", \"id\": \"Query 1\"}, {\"date\": \"1902-01-02\", \"total_results\": 0, \"total_articles\": 0, \"url\": \"https://trove.nla.gov.au/search/category/newspapers?keyword=cat%20&l-decade=190&l-year=1902\", \"id\": \"Query 1\"}, {\"date\": \"1903-01-02\", \"total_results\": 0, \"total_articles\": 0, \"url\": \"https://trove.nla.gov.au/search/category/newspapers?keyword=cat%20&l-decade=190&l-year=1903\", \"id\": \"Query 1\"}, {\"date\": \"1904-01-02\", \"total_results\": 0, \"total_articles\": 0, \"url\": \"https://trove.nla.gov.au/search/category/newspapers?keyword=cat%20&l-decade=190&l-year=1904\", \"id\": \"Query 1\"}, {\"date\": \"1905-01-02\", \"total_results\": 0, \"total_articles\": 0, \"url\": \"https://trove.nla.gov.au/search/category/newspapers?keyword=cat%20&l-decade=190&l-year=1905\", \"id\": \"Query 1\"}, {\"date\": \"1906-01-02\", \"total_results\": 0, \"total_articles\": 0, \"url\": \"https://trove.nla.gov.au/search/category/newspapers?keyword=cat%20&l-decade=190&l-year=1906\", \"id\": \"Query 1\"}, {\"date\": \"1907-01-02\", \"total_results\": 0, \"total_articles\": 0, \"url\": \"https://trove.nla.gov.au/search/category/newspapers?keyword=cat%20&l-decade=190&l-year=1907\", \"id\": \"Query 1\"}, {\"date\": \"1908-01-02\", \"total_results\": 0, \"total_articles\": 0, \"url\": \"https://trove.nla.gov.au/search/category/newspapers?keyword=cat%20&l-decade=190&l-year=1908\", \"id\": \"Query 1\"}, {\"date\": \"1909-01-02\", \"total_results\": 0, \"total_articles\": 0, \"url\": \"https://trove.nla.gov.au/search/category/newspapers?keyword=cat%20&l-decade=190&l-year=1909\", \"id\": \"Query 1\"}, {\"date\": \"1910-01-02\", \"total_results\": 0, \"total_articles\": 0, \"url\": \"https://trove.nla.gov.au/search/category/newspapers?keyword=cat%20&l-decade=191&l-year=1910\", \"id\": \"Query 1\"}, {\"date\": \"1911-01-02\", \"total_results\": 0, \"total_articles\": 0, \"url\": \"https://trove.nla.gov.au/search/category/newspapers?keyword=cat%20&l-decade=191&l-year=1911\", \"id\": \"Query 1\"}, {\"date\": \"1912-01-02\", \"total_results\": 0, \"total_articles\": 0, \"url\": \"https://trove.nla.gov.au/search/category/newspapers?keyword=cat%20&l-decade=191&l-year=1912\", \"id\": \"Query 1\"}, {\"date\": \"1913-01-02\", \"total_results\": 0, \"total_articles\": 0, \"url\": \"https://trove.nla.gov.au/search/category/newspapers?keyword=cat%20&l-decade=191&l-year=1913\", \"id\": \"Query 1\"}, {\"date\": \"1914-01-02\", \"total_results\": 0, \"total_articles\": 0, \"url\": \"https://trove.nla.gov.au/search/category/newspapers?keyword=cat%20&l-decade=191&l-year=1914\", \"id\": \"Query 1\"}, {\"date\": \"1915-01-02\", \"total_results\": 0, \"total_articles\": 0, \"url\": \"https://trove.nla.gov.au/search/category/newspapers?keyword=cat%20&l-decade=191&l-year=1915\", \"id\": \"Query 1\"}, {\"date\": \"1916-01-02\", \"total_results\": 0, \"total_articles\": 0, \"url\": \"https://trove.nla.gov.au/search/category/newspapers?keyword=cat%20&l-decade=191&l-year=1916\", \"id\": \"Query 1\"}, {\"date\": \"1917-01-02\", \"total_results\": 0, \"total_articles\": 0, \"url\": \"https://trove.nla.gov.au/search/category/newspapers?keyword=cat%20&l-decade=191&l-year=1917\", \"id\": \"Query 1\"}, {\"date\": \"1918-01-02\", \"total_results\": 0, \"total_articles\": 0, \"url\": \"https://trove.nla.gov.au/search/category/newspapers?keyword=cat%20&l-decade=191&l-year=1918\", \"id\": \"Query 1\"}, {\"date\": \"1919-01-02\", \"total_results\": 0, \"total_articles\": 0, \"url\": \"https://trove.nla.gov.au/search/category/newspapers?keyword=cat%20&l-decade=191&l-year=1919\", \"id\": \"Query 1\"}, {\"date\": \"1920-01-02\", \"total_results\": 0, \"total_articles\": 0, \"url\": \"https://trove.nla.gov.au/search/category/newspapers?keyword=cat%20&l-decade=192&l-year=1920\", \"id\": \"Query 1\"}, {\"date\": \"1921-01-02\", \"total_results\": 0, \"total_articles\": 0, \"url\": \"https://trove.nla.gov.au/search/category/newspapers?keyword=cat%20&l-decade=192&l-year=1921\", \"id\": \"Query 1\"}, {\"date\": \"1922-01-02\", \"total_results\": 0, \"total_articles\": 0, \"url\": \"https://trove.nla.gov.au/search/category/newspapers?keyword=cat%20&l-decade=192&l-year=1922\", \"id\": \"Query 1\"}, {\"date\": \"1923-01-02\", \"total_results\": 0, \"total_articles\": 0, \"url\": \"https://trove.nla.gov.au/search/category/newspapers?keyword=cat%20&l-decade=192&l-year=1923\", \"id\": \"Query 1\"}, {\"date\": \"1924-01-02\", \"total_results\": 0, \"total_articles\": 0, \"url\": \"https://trove.nla.gov.au/search/category/newspapers?keyword=cat%20&l-decade=192&l-year=1924\", \"id\": \"Query 1\"}, {\"date\": \"1925-01-02\", \"total_results\": 0, \"total_articles\": 0, \"url\": \"https://trove.nla.gov.au/search/category/newspapers?keyword=cat%20&l-decade=192&l-year=1925\", \"id\": \"Query 1\"}, {\"date\": \"1926-01-02\", \"total_results\": 0, \"total_articles\": 0, \"url\": \"https://trove.nla.gov.au/search/category/newspapers?keyword=cat%20&l-decade=192&l-year=1926\", \"id\": \"Query 1\"}, {\"date\": \"1927-01-02\", \"total_results\": 0, \"total_articles\": 0, \"url\": \"https://trove.nla.gov.au/search/category/newspapers?keyword=cat%20&l-decade=192&l-year=1927\", \"id\": \"Query 1\"}, {\"date\": \"1928-01-02\", \"total_results\": 0, \"total_articles\": 0, \"url\": \"https://trove.nla.gov.au/search/category/newspapers?keyword=cat%20&l-decade=192&l-year=1928\", \"id\": \"Query 1\"}, {\"date\": \"1929-01-02\", \"total_results\": 0, \"total_articles\": 0, \"url\": \"https://trove.nla.gov.au/search/category/newspapers?keyword=cat%20&l-decade=192&l-year=1929\", \"id\": \"Query 1\"}, {\"date\": \"1930-01-02\", \"total_results\": 0, \"total_articles\": 0, \"url\": \"https://trove.nla.gov.au/search/category/newspapers?keyword=cat%20&l-decade=193&l-year=1930\", \"id\": \"Query 1\"}, {\"date\": \"1931-01-02\", \"total_results\": 0, \"total_articles\": 0, \"url\": \"https://trove.nla.gov.au/search/category/newspapers?keyword=cat%20&l-decade=193&l-year=1931\", \"id\": \"Query 1\"}, {\"date\": \"1932-01-02\", \"total_results\": 0, \"total_articles\": 0, \"url\": \"https://trove.nla.gov.au/search/category/newspapers?keyword=cat%20&l-decade=193&l-year=1932\", \"id\": \"Query 1\"}, {\"date\": \"1933-01-02\", \"total_results\": 0, \"total_articles\": 0, \"url\": \"https://trove.nla.gov.au/search/category/newspapers?keyword=cat%20&l-decade=193&l-year=1933\", \"id\": \"Query 1\"}, {\"date\": \"1934-01-02\", \"total_results\": 0, \"total_articles\": 0, \"url\": \"https://trove.nla.gov.au/search/category/newspapers?keyword=cat%20&l-decade=193&l-year=1934\", \"id\": \"Query 1\"}, {\"date\": \"1935-01-02\", \"total_results\": 0, \"total_articles\": 0, \"url\": \"https://trove.nla.gov.au/search/category/newspapers?keyword=cat%20&l-decade=193&l-year=1935\", \"id\": \"Query 1\"}, {\"date\": \"1936-01-02\", \"total_results\": 0, \"total_articles\": 0, \"url\": \"https://trove.nla.gov.au/search/category/newspapers?keyword=cat%20&l-decade=193&l-year=1936\", \"id\": \"Query 1\"}, {\"date\": \"1937-01-02\", \"total_results\": 0, \"total_articles\": 0, \"url\": \"https://trove.nla.gov.au/search/category/newspapers?keyword=cat%20&l-decade=193&l-year=1937\", \"id\": \"Query 1\"}, {\"date\": \"1938-01-02\", \"total_results\": 0, \"total_articles\": 0, \"url\": \"https://trove.nla.gov.au/search/category/newspapers?keyword=cat%20&l-decade=193&l-year=1938\", \"id\": \"Query 1\"}, {\"date\": \"1939-01-02\", \"total_results\": 0, \"total_articles\": 0, \"url\": \"https://trove.nla.gov.au/search/category/newspapers?keyword=cat%20&l-decade=193&l-year=1939\", \"id\": \"Query 1\"}, {\"date\": \"1940-01-02\", \"total_results\": 0, \"total_articles\": 0, \"url\": \"https://trove.nla.gov.au/search/category/newspapers?keyword=cat%20&l-decade=194&l-year=1940\", \"id\": \"Query 1\"}, {\"date\": \"1941-01-02\", \"total_results\": 0, \"total_articles\": 0, \"url\": \"https://trove.nla.gov.au/search/category/newspapers?keyword=cat%20&l-decade=194&l-year=1941\", \"id\": \"Query 1\"}, {\"date\": \"1942-01-02\", \"total_results\": 0, \"total_articles\": 0, \"url\": \"https://trove.nla.gov.au/search/category/newspapers?keyword=cat%20&l-decade=194&l-year=1942\", \"id\": \"Query 1\"}, {\"date\": \"1943-01-02\", \"total_results\": 0, \"total_articles\": 0, \"url\": \"https://trove.nla.gov.au/search/category/newspapers?keyword=cat%20&l-decade=194&l-year=1943\", \"id\": \"Query 1\"}, {\"date\": \"1944-01-02\", \"total_results\": 0, \"total_articles\": 0, \"url\": \"https://trove.nla.gov.au/search/category/newspapers?keyword=cat%20&l-decade=194&l-year=1944\", \"id\": \"Query 1\"}, {\"date\": \"1945-01-02\", \"total_results\": 0, \"total_articles\": 0, \"url\": \"https://trove.nla.gov.au/search/category/newspapers?keyword=cat%20&l-decade=194&l-year=1945\", \"id\": \"Query 1\"}, {\"date\": \"1946-01-02\", \"total_results\": 0, \"total_articles\": 0, \"url\": \"https://trove.nla.gov.au/search/category/newspapers?keyword=cat%20&l-decade=194&l-year=1946\", \"id\": \"Query 1\"}, {\"date\": \"1947-01-02\", \"total_results\": 0, \"total_articles\": 0, \"url\": \"https://trove.nla.gov.au/search/category/newspapers?keyword=cat%20&l-decade=194&l-year=1947\", \"id\": \"Query 1\"}, {\"date\": \"1948-01-02\", \"total_results\": 0, \"total_articles\": 0, \"url\": \"https://trove.nla.gov.au/search/category/newspapers?keyword=cat%20&l-decade=194&l-year=1948\", \"id\": \"Query 1\"}, {\"date\": \"1949-01-02\", \"total_results\": 0, \"total_articles\": 0, \"url\": \"https://trove.nla.gov.au/search/category/newspapers?keyword=cat%20&l-decade=194&l-year=1949\", \"id\": \"Query 1\"}], \"data-319e3cdd607cc1e6902f8a95ffffe1a0\": [{\"x\": 0, \"y\": 0, \"id\": \"Query 1\", \"url\": \"https://trove.nla.gov.au/search/category/newspapers?keyword=cat%20date:[1900-01-01T00:00:00Z TO 1950-01-01T00:00:00Z]\", \"params\": \"keyword=cat%20date:[1900-01-01T00:00:00Z TO 1950-01-01T00:00:00Z]\"}]}}, {\"mode\": \"vega-lite\"});\n</script>",
          "text/plain": "alt.VConcatChart(...)"
         },
         "metadata": {},
         "output_type": "display_data"
        }
       ]
      }
     },
     "0631bfe72db249f69818975f4d622d79": {
      "model_module": "@jupyter-widgets/controls",
      "model_module_version": "1.5.0",
      "model_name": "ButtonStyleModel",
      "state": {}
     },
     "0644195d2fa649eb960cad9d909a2dd5": {
      "model_module": "@jupyter-widgets/base",
      "model_module_version": "1.2.0",
      "model_name": "LayoutModel",
      "state": {}
     },
     "06496592c7714ddcb87d35f3853463f3": {
      "model_module": "@jupyter-widgets/base",
      "model_module_version": "1.2.0",
      "model_name": "LayoutModel",
      "state": {}
     },
     "067776a315b946d6b3b2e446b2600bd1": {
      "model_module": "@jupyter-widgets/controls",
      "model_module_version": "1.5.0",
      "model_name": "FloatProgressModel",
      "state": {
       "layout": "IPY_MODEL_8b7d83f9c02e4eebac1b98546348e14a",
       "max": 6,
       "style": "IPY_MODEL_01a1550a144d454fa58c34e6d2ece905",
       "value": 6
      }
     },
     "06a7637965ff429bbcec3af1346810a9": {
      "model_module": "@jupyter-widgets/base",
      "model_module_version": "1.2.0",
      "model_name": "LayoutModel",
      "state": {}
     },
     "07078f0aa02c4b05ac618c29247c0f6f": {
      "model_module": "@jupyter-widgets/controls",
      "model_module_version": "1.5.0",
      "model_name": "PasswordModel",
      "state": {
       "description": "API key:",
       "layout": "IPY_MODEL_3da7e24fb0a64877a932b1af9c8f85d6",
       "placeholder": "Enter your Trove API key",
       "style": "IPY_MODEL_80dad6222aca4d3bb4d93fc28e7f06d9",
       "value": "6pi5hht0d2umqcro"
      }
     },
     "073f2e3163a74526b2ce7fc44baccc93": {
      "model_module": "@jupyter-widgets/controls",
      "model_module_version": "1.5.0",
      "model_name": "DescriptionStyleModel",
      "state": {
       "description_width": ""
      }
     },
     "07857d5de845459185dd084827045fd3": {
      "model_module": "@jupyter-widgets/controls",
      "model_module_version": "1.5.0",
      "model_name": "BoundedIntTextModel",
      "state": {
       "description": "Width",
       "layout": "IPY_MODEL_72d9f72dbbf44e2b80455f923310efad",
       "max": 2000,
       "min": 700,
       "step": 100,
       "style": "IPY_MODEL_073f2e3163a74526b2ce7fc44baccc93",
       "value": 700
      }
     },
     "07dc470be1c3431a8eeb6db0f8a09e9b": {
      "model_module": "@jupyter-widgets/base",
      "model_module_version": "1.2.0",
      "model_name": "LayoutModel",
      "state": {}
     },
     "07f6a1194ee94e07bbff1fb99a9ea8d7": {
      "model_module": "@jupyter-widgets/base",
      "model_module_version": "1.2.0",
      "model_name": "LayoutModel",
      "state": {}
     },
     "08720a8891c84f4aa20e78cfd6cb91f8": {
      "model_module": "@jupyter-widgets/base",
      "model_module_version": "1.2.0",
      "model_name": "LayoutModel",
      "state": {}
     },
     "08ca74a690414b1da89a1fa3f28a40ed": {
      "model_module": "@jupyter-widgets/controls",
      "model_module_version": "1.5.0",
      "model_name": "FloatProgressModel",
      "state": {
       "layout": "IPY_MODEL_06496592c7714ddcb87d35f3853463f3",
       "max": 6,
       "style": "IPY_MODEL_40012fd01be8409298390ae6124b5a70",
       "value": 6
      }
     },
     "08d9665cd80a4deebcd6027f75a7feb2": {
      "model_module": "@jupyter-widgets/controls",
      "model_module_version": "1.5.0",
      "model_name": "ButtonStyleModel",
      "state": {}
     },
     "09783f18fbaa4325a3c9a0c1190595d1": {
      "model_module": "@jupyter-widgets/controls",
      "model_module_version": "1.5.0",
      "model_name": "DescriptionStyleModel",
      "state": {
       "description_width": ""
      }
     },
     "0a69ef4963b84745aab10e0ec99b4434": {
      "model_module": "@jupyter-widgets/controls",
      "model_module_version": "1.5.0",
      "model_name": "ButtonModel",
      "state": {
       "button_style": "primary",
       "description": "Visualise query",
       "layout": "IPY_MODEL_b70c63d93333476898dbc6a15d625b60",
       "style": "IPY_MODEL_6a80310815af461aa6a48359e773b52b",
       "tooltip": "Create chart from query"
      }
     },
     "0a765541f46743a9b0f19d5f1a19de14": {
      "model_module": "@jupyter-widgets/controls",
      "model_module_version": "1.5.0",
      "model_name": "DescriptionStyleModel",
      "state": {
       "description_width": ""
      }
     },
     "0ac489aaa73f41dfbc910b0b544035cc": {
      "model_module": "@jupyter-widgets/base",
      "model_module_version": "1.2.0",
      "model_name": "LayoutModel",
      "state": {}
     },
     "0af0a151594942bda619d2f45e76b527": {
      "model_module": "@jupyter-widgets/controls",
      "model_module_version": "1.5.0",
      "model_name": "ButtonModel",
      "state": {
       "description": "Clear all queries",
       "layout": "IPY_MODEL_7500c7fc0fd1411a8f1108a13fa12447",
       "style": "IPY_MODEL_8d13b1bf7af6465693cca68a4c7cecd1",
       "tooltip": "Clear current queries"
      }
     },
     "0b1d00104e384924a2ed2475d484f85b": {
      "model_module": "@jupyter-widgets/base",
      "model_module_version": "1.2.0",
      "model_name": "LayoutModel",
      "state": {}
     },
     "0b2f6494652246b492e1ded83f1f2836": {
      "model_module": "@jupyter-widgets/controls",
      "model_module_version": "1.5.0",
      "model_name": "DescriptionStyleModel",
      "state": {
       "description_width": ""
      }
     },
     "0b5b004531d641aa8dd74f7b60391f6d": {
      "model_module": "@jupyter-widgets/output",
      "model_module_version": "1.0.0",
      "model_name": "OutputModel",
      "state": {
       "layout": "IPY_MODEL_692957b85f1f481ba0b3e46e4f60c19d",
       "outputs": [
        {
         "data": {
          "application/vnd.jupyter.widget-view+json": {
           "model_id": "67a1e289b6af4ae284386c91ad372949",
           "version_major": 2,
           "version_minor": 0
          },
          "text/plain": "HBox(children=(Button(button_style='primary', description='Save chart as HTML', style=ButtonStyle(), tooltip='…"
         },
         "metadata": {},
         "output_type": "display_data"
        },
        {
         "data": {
          "text/html": "Download data: <a href=\"data/querypic-20220624225759.csv\" download>data/querypic-20220624225759.csv</a>",
          "text/plain": "<IPython.core.display.HTML object>"
         },
         "metadata": {},
         "output_type": "display_data"
        }
       ]
      }
     },
     "0b76012b21214f008f1103ee3e6c790e": {
      "model_module": "@jupyter-widgets/controls",
      "model_module_version": "1.5.0",
      "model_name": "BoundedIntTextModel",
      "state": {
       "description": "Width",
       "layout": "IPY_MODEL_dcb7cfd50f824af1a5f80815855fa281",
       "max": 2000,
       "min": 700,
       "step": 100,
       "style": "IPY_MODEL_7b54aa33434343088aaea2bc54872fde",
       "value": 700
      }
     },
     "0bd0b6e2b0b5479ab1cd512879b09bf8": {
      "model_module": "@jupyter-widgets/base",
      "model_module_version": "1.2.0",
      "model_name": "LayoutModel",
      "state": {}
     },
     "0be627383c3c4fbf998df38b752f6aa2": {
      "model_module": "@jupyter-widgets/controls",
      "model_module_version": "1.5.0",
      "model_name": "BoundedIntTextModel",
      "state": {
       "description": "Height",
       "layout": "IPY_MODEL_d389295857814b789757aa9057fa92c7",
       "max": 1500,
       "min": 400,
       "step": 100,
       "style": "IPY_MODEL_0fc5685985a3492f8e4d0c9c956e9301",
       "value": 400
      }
     },
     "0bfed1f840544063945e1075aac0d91c": {
      "model_module": "@jupyter-widgets/base",
      "model_module_version": "1.2.0",
      "model_name": "LayoutModel",
      "state": {}
     },
     "0c2de5c0d29e4e168e9817cd28fded44": {
      "model_module": "@jupyter-widgets/controls",
      "model_module_version": "1.5.0",
      "model_name": "ButtonModel",
      "state": {
       "description": "Clear all queries",
       "layout": "IPY_MODEL_e70c14e5ce06492ab5301aed236f3158",
       "style": "IPY_MODEL_a4ff2af0e0ce4a958138122ce36ecef8",
       "tooltip": "Clear current queries"
      }
     },
     "0c8984cecae54070963aab3fb7b6819e": {
      "model_module": "@jupyter-widgets/base",
      "model_module_version": "1.2.0",
      "model_name": "LayoutModel",
      "state": {}
     },
     "0c9e8d2c272648d48a54eaaee12bd122": {
      "model_module": "@jupyter-widgets/controls",
      "model_module_version": "1.5.0",
      "model_name": "ButtonModel",
      "state": {
       "button_style": "primary",
       "description": "Save chart as HTML",
       "layout": "IPY_MODEL_cc52e25adfe04ea9b404cbfc8e004239",
       "style": "IPY_MODEL_6ea342ee89214e8ca4c11148b4398d65",
       "tooltip": "Save chart as HTML"
      }
     },
     "0d0ff99aa2544b0d9ea25074b3c284e5": {
      "model_module": "@jupyter-widgets/base",
      "model_module_version": "1.2.0",
      "model_name": "LayoutModel",
      "state": {
       "width": "80%"
      }
     },
     "0d3989ac66244f9aa1577d23707d7934": {
      "model_module": "@jupyter-widgets/base",
      "model_module_version": "1.2.0",
      "model_name": "LayoutModel",
      "state": {
       "margin": "0 0 20px 0"
      }
     },
     "0d5db8f1f7a24f7a9005d3d8927beb99": {
      "model_module": "@jupyter-widgets/controls",
      "model_module_version": "1.5.0",
      "model_name": "DescriptionStyleModel",
      "state": {
       "description_width": ""
      }
     },
     "0d8fe6bbae644721b37b2cb56ca5685e": {
      "model_module": "@jupyter-widgets/base",
      "model_module_version": "1.2.0",
      "model_name": "LayoutModel",
      "state": {}
     },
     "0db20511bd3b41e592159efd08e675f8": {
      "model_module": "@jupyter-widgets/controls",
      "model_module_version": "1.5.0",
      "model_name": "TextModel",
      "state": {
       "description": "Query:",
       "layout": "IPY_MODEL_48550c16753048b199b83dfd54a42f0f",
       "placeholder": "Enter your search query",
       "style": "IPY_MODEL_5a69bda876a346c591d08df02d525aec",
       "value": "https://trove.nla.gov.au/search/category/newspapers?keyword=cat%20date:[1899-12-31T00:00:00Z TO 1950-01-01T00:00:00Z]"
      }
     },
     "0e053ebf0a964e18a34a97c632296859": {
      "model_module": "@jupyter-widgets/base",
      "model_module_version": "1.2.0",
      "model_name": "LayoutModel",
      "state": {}
     },
     "0e0fbf6a06b74447aa218b90692f6fbf": {
      "model_module": "@jupyter-widgets/base",
      "model_module_version": "1.2.0",
      "model_name": "LayoutModel",
      "state": {}
     },
     "0e527931889f4fda812408ed178de2ea": {
      "model_module": "@jupyter-widgets/controls",
      "model_module_version": "1.5.0",
      "model_name": "DescriptionStyleModel",
      "state": {
       "description_width": ""
      }
     },
     "0edf95d24ca641838d776b4710223a06": {
      "model_module": "@jupyter-widgets/controls",
      "model_module_version": "1.5.0",
      "model_name": "PasswordModel",
      "state": {
       "description": "API key:",
       "layout": "IPY_MODEL_cf02d4afb71141e58972e1cc4f03392d",
       "placeholder": "Enter your Trove API key",
       "style": "IPY_MODEL_15a07962e2ef4ee890ac7e6205b125ed",
       "value": "6pi5hht0d2umqcro"
      }
     },
     "0f2fd707a9cc4726a8168ece9641121b": {
      "model_module": "@jupyter-widgets/output",
      "model_module_version": "1.0.0",
      "model_name": "OutputModel",
      "state": {
       "layout": "IPY_MODEL_d8d79f9d9b194ff4be799d614119a98a"
      }
     },
     "0f34d63f250a46a3b0abdfbc598cbdd9": {
      "model_module": "@jupyter-widgets/base",
      "model_module_version": "1.2.0",
      "model_name": "LayoutModel",
      "state": {}
     },
     "0f5c827f373644f1bb7efad0acfd3028": {
      "model_module": "@jupyter-widgets/controls",
      "model_module_version": "1.5.0",
      "model_name": "FloatProgressModel",
      "state": {
       "layout": "IPY_MODEL_dab53b5ab26d4f45bf5c9dbfa1491990",
       "max": 6,
       "style": "IPY_MODEL_ed3b72182e604885828bfdb4789d0fdc",
       "value": 6
      }
     },
     "0f84f76820264eddbafa13c4a5d0db9a": {
      "model_module": "@jupyter-widgets/base",
      "model_module_version": "1.2.0",
      "model_name": "LayoutModel",
      "state": {}
     },
     "0fc5685985a3492f8e4d0c9c956e9301": {
      "model_module": "@jupyter-widgets/controls",
      "model_module_version": "1.5.0",
      "model_name": "DescriptionStyleModel",
      "state": {
       "description_width": ""
      }
     },
     "0fd157699f6f45faa38abb922096e7fe": {
      "model_module": "@jupyter-widgets/base",
      "model_module_version": "1.2.0",
      "model_name": "LayoutModel",
      "state": {
       "width": "80%"
      }
     },
     "101988a3a6be43929868c132958b1432": {
      "model_module": "@jupyter-widgets/output",
      "model_module_version": "1.0.0",
      "model_name": "OutputModel",
      "state": {
       "layout": "IPY_MODEL_9bbadfdd355c467b9eeff2c69c6f509c",
       "outputs": [
        {
         "data": {
          "application/vnd.jupyter.widget-view+json": {
           "model_id": "",
           "version_major": 2,
           "version_minor": 0
          },
          "text/plain": "Dropdown(options=(('Raw number of results', 'raw'), ('Proportion of total articles', 'proportion')), value='ra…"
         },
         "metadata": {},
         "output_type": "display_data"
        },
        {
         "data": {
          "text/html": "\n<div id=\"altair-viz-762d5fcd160c4d299330445884144750\"></div>\n<script type=\"text/javascript\">\n  var VEGA_DEBUG = (typeof VEGA_DEBUG == \"undefined\") ? {} : VEGA_DEBUG;\n  (function(spec, embedOpt){\n    let outputDiv = document.currentScript.previousElementSibling;\n    if (outputDiv.id !== \"altair-viz-762d5fcd160c4d299330445884144750\") {\n      outputDiv = document.getElementById(\"altair-viz-762d5fcd160c4d299330445884144750\");\n    }\n    const paths = {\n      \"vega\": \"https://cdn.jsdelivr.net/npm//vega@5?noext\",\n      \"vega-lib\": \"https://cdn.jsdelivr.net/npm//vega-lib?noext\",\n      \"vega-lite\": \"https://cdn.jsdelivr.net/npm//vega-lite@4.17.0?noext\",\n      \"vega-embed\": \"https://cdn.jsdelivr.net/npm//vega-embed@6?noext\",\n    };\n\n    function maybeLoadScript(lib, version) {\n      var key = `${lib.replace(\"-\", \"\")}_version`;\n      return (VEGA_DEBUG[key] == version) ?\n        Promise.resolve(paths[lib]) :\n        new Promise(function(resolve, reject) {\n          var s = document.createElement('script');\n          document.getElementsByTagName(\"head\")[0].appendChild(s);\n          s.async = true;\n          s.onload = () => {\n            VEGA_DEBUG[key] = version;\n            return resolve(paths[lib]);\n          };\n          s.onerror = () => reject(`Error loading script: ${paths[lib]}`);\n          s.src = paths[lib];\n        });\n    }\n\n    function showError(err) {\n      outputDiv.innerHTML = `<div class=\"error\" style=\"color:red;\">${err}</div>`;\n      throw err;\n    }\n\n    function displayChart(vegaEmbed) {\n      vegaEmbed(outputDiv, spec, embedOpt)\n        .catch(err => showError(`Javascript Error: ${err.message}<br>This usually means there's a typo in your chart specification. See the javascript console for the full traceback.`));\n    }\n\n    if(typeof define === \"function\" && define.amd) {\n      requirejs.config({paths});\n      require([\"vega-embed\"], displayChart, err => showError(`Error loading script: ${err.message}`));\n    } else {\n      maybeLoadScript(\"vega\", \"5\")\n        .then(() => maybeLoadScript(\"vega-lite\", \"4.17.0\"))\n        .then(() => maybeLoadScript(\"vega-embed\", \"6\"))\n        .catch(showError)\n        .then(() => displayChart(vegaEmbed));\n    }\n  })({\"usermeta\": {\"embedOptions\": {\"loader\": {\"target\": \"_blank\"}}}, \"vconcat\": [{\"data\": {\"name\": \"data-f0991baa680c24e5b2c03963ab43ad25\"}, \"mark\": {\"type\": \"line\", \"interpolate\": \"cardinal\", \"point\": true}, \"encoding\": {\"color\": {\"field\": \"id\", \"legend\": {\"title\": \"\"}, \"type\": \"nominal\"}, \"href\": {\"field\": \"url\", \"type\": \"nominal\"}, \"tooltip\": [{\"field\": \"id\", \"title\": \"query\", \"type\": \"nominal\"}, {\"field\": \"date\", \"format\": \"%A, %e %b %Y\", \"title\": \"date\", \"type\": \"temporal\"}, {\"field\": \"total_results\", \"format\": \",\", \"title\": \"results\", \"type\": \"quantitative\"}, {\"field\": \"PercentOfTotal\", \"format\": \".2%\", \"title\": \"proportion\", \"type\": \"quantitative\"}], \"x\": {\"axis\": {\"format\": \"%e %b %Y\", \"title\": \"Date\"}, \"field\": \"date\", \"scale\": {\"padding\": 10}, \"type\": \"temporal\"}, \"y\": {\"axis\": {\"format\": \",d\", \"title\": \"Number of articles\"}, \"field\": \"total_results\", \"type\": \"quantitative\"}}, \"height\": 400, \"title\": {\"text\": \"Trove Newspapers & Gazettes Search\", \"subtitle\": \"Created by QueryPic: 24 June 2022\"}, \"transform\": [{\"calculate\": \"datum.total_results / datum.total_articles\", \"as\": \"PercentOfTotal\"}], \"width\": 800}, {\"data\": {\"name\": \"data-5c1a99b20007a6e0fff6b244126ce49a\"}, \"mark\": {\"type\": \"text\", \"align\": \"left\", \"baseline\": \"middle\", \"dx\": 2, \"dy\": 1}, \"encoding\": {\"color\": {\"value\": \"blue\"}, \"href\": {\"field\": \"url\", \"type\": \"nominal\"}, \"text\": {\"field\": \"url\", \"type\": \"nominal\"}, \"x\": {\"axis\": null, \"field\": \"x\", \"scale\": {\"range\": [0, 1]}, \"title\": null, \"type\": \"quantitative\"}, \"y\": {\"axis\": {\"domain\": false, \"grid\": false, \"labelFontWeight\": \"bold\"}, \"field\": \"id\", \"title\": null, \"type\": \"ordinal\"}}}], \"config\": {\"padding\": 20, \"title\": {\"fontSize\": 14}, \"view\": {\"strokeWidth\": 0}}, \"$schema\": \"https://vega.github.io/schema/vega-lite/v4.17.0.json\", \"datasets\": {\"data-f0991baa680c24e5b2c03963ab43ad25\": [{\"date\": \"1900-01-01T00:00:00\", \"total_results\": 70, \"total_articles\": 3561, \"url\": \"https://trove.nla.gov.au/search/category/newspapers?keyword=cat%20 date:[1899-12-31T00:00:00Z TO 1900-01-01T00:00:00T00:00:00Z]\", \"id\": \"Query 1\"}, {\"date\": \"1900-01-02T00:00:00\", \"total_results\": 132, \"total_articles\": 4755, \"url\": \"https://trove.nla.gov.au/search/category/newspapers?keyword=cat%20 date:[1900-01-01T00:00:00Z TO 1900-01-02T00:00:00T00:00:00Z]\", \"id\": \"Query 1\"}, {\"date\": \"1900-01-03T00:00:00\", \"total_results\": 150, \"total_articles\": 5803, \"url\": \"https://trove.nla.gov.au/search/category/newspapers?keyword=cat%20 date:[1900-01-02T00:00:00Z TO 1900-01-03T00:00:00T00:00:00Z]\", \"id\": \"Query 1\"}, {\"date\": \"1900-01-04T00:00:00\", \"total_results\": 150, \"total_articles\": 5892, \"url\": \"https://trove.nla.gov.au/search/category/newspapers?keyword=cat%20 date:[1900-01-03T00:00:00Z TO 1900-01-04T00:00:00T00:00:00Z]\", \"id\": \"Query 1\"}, {\"date\": \"1900-01-05T00:00:00\", \"total_results\": 251, \"total_articles\": 8681, \"url\": \"https://trove.nla.gov.au/search/category/newspapers?keyword=cat%20 date:[1900-01-04T00:00:00Z TO 1900-01-05T00:00:00T00:00:00Z]\", \"id\": \"Query 1\"}, {\"date\": \"1900-01-06T00:00:00\", \"total_results\": 408, \"total_articles\": 14614, \"url\": \"https://trove.nla.gov.au/search/category/newspapers?keyword=cat%20 date:[1900-01-05T00:00:00Z TO 1900-01-06T00:00:00T00:00:00Z]\", \"id\": \"Query 1\"}, {\"date\": \"1900-01-07T00:00:00\", \"total_results\": 15, \"total_articles\": 536, \"url\": \"https://trove.nla.gov.au/search/category/newspapers?keyword=cat%20 date:[1900-01-06T00:00:00Z TO 1900-01-07T00:00:00T00:00:00Z]\", \"id\": \"Query 1\"}, {\"date\": \"1900-01-08T00:00:00\", \"total_results\": 82, \"total_articles\": 4524, \"url\": \"https://trove.nla.gov.au/search/category/newspapers?keyword=cat%20 date:[1900-01-07T00:00:00Z TO 1900-01-08T00:00:00T00:00:00Z]\", \"id\": \"Query 1\"}, {\"date\": \"1900-01-09T00:00:00\", \"total_results\": 138, \"total_articles\": 6306, \"url\": \"https://trove.nla.gov.au/search/category/newspapers?keyword=cat%20 date:[1900-01-08T00:00:00Z TO 1900-01-09T00:00:00T00:00:00Z]\", \"id\": \"Query 1\"}, {\"date\": \"1900-01-10T00:00:00\", \"total_results\": 131, \"total_articles\": 5992, \"url\": \"https://trove.nla.gov.au/search/category/newspapers?keyword=cat%20 date:[1900-01-09T00:00:00Z TO 1900-01-10T00:00:00T00:00:00Z]\", \"id\": \"Query 1\"}, {\"date\": \"1900-01-11T00:00:00\", \"total_results\": 144, \"total_articles\": 5920, \"url\": \"https://trove.nla.gov.au/search/category/newspapers?keyword=cat%20 date:[1900-01-10T00:00:00Z TO 1900-01-11T00:00:00T00:00:00Z]\", \"id\": \"Query 1\"}, {\"date\": \"1900-01-12T00:00:00\", \"total_results\": 241, \"total_articles\": 8654, \"url\": \"https://trove.nla.gov.au/search/category/newspapers?keyword=cat%20 date:[1900-01-11T00:00:00Z TO 1900-01-12T00:00:00T00:00:00Z]\", \"id\": \"Query 1\"}, {\"date\": \"1900-01-13T00:00:00\", \"total_results\": 426, \"total_articles\": 14324, \"url\": \"https://trove.nla.gov.au/search/category/newspapers?keyword=cat%20 date:[1900-01-12T00:00:00Z TO 1900-01-13T00:00:00T00:00:00Z]\", \"id\": \"Query 1\"}, {\"date\": \"1900-01-14T00:00:00\", \"total_results\": 13, \"total_articles\": 437, \"url\": \"https://trove.nla.gov.au/search/category/newspapers?keyword=cat%20 date:[1900-01-13T00:00:00Z TO 1900-01-14T00:00:00T00:00:00Z]\", \"id\": \"Query 1\"}, {\"date\": \"1900-01-15T00:00:00\", \"total_results\": 80, \"total_articles\": 4436, \"url\": \"https://trove.nla.gov.au/search/category/newspapers?keyword=cat%20 date:[1900-01-14T00:00:00Z TO 1900-01-15T00:00:00T00:00:00Z]\", \"id\": \"Query 1\"}, {\"date\": \"1900-01-16T00:00:00\", \"total_results\": 156, \"total_articles\": 6508, \"url\": \"https://trove.nla.gov.au/search/category/newspapers?keyword=cat%20 date:[1900-01-15T00:00:00Z TO 1900-01-16T00:00:00T00:00:00Z]\", \"id\": \"Query 1\"}, {\"date\": \"1900-01-17T00:00:00\", \"total_results\": 128, \"total_articles\": 6083, \"url\": \"https://trove.nla.gov.au/search/category/newspapers?keyword=cat%20 date:[1900-01-16T00:00:00Z TO 1900-01-17T00:00:00T00:00:00Z]\", \"id\": \"Query 1\"}, {\"date\": \"1900-01-18T00:00:00\", \"total_results\": 145, \"total_articles\": 5842, \"url\": \"https://trove.nla.gov.au/search/category/newspapers?keyword=cat%20 date:[1900-01-17T00:00:00Z TO 1900-01-18T00:00:00T00:00:00Z]\", \"id\": \"Query 1\"}, {\"date\": \"1900-01-19T00:00:00\", \"total_results\": 241, \"total_articles\": 9181, \"url\": \"https://trove.nla.gov.au/search/category/newspapers?keyword=cat%20 date:[1900-01-18T00:00:00Z TO 1900-01-19T00:00:00T00:00:00Z]\", \"id\": \"Query 1\"}, {\"date\": \"1900-01-20T00:00:00\", \"total_results\": 400, \"total_articles\": 14087, \"url\": \"https://trove.nla.gov.au/search/category/newspapers?keyword=cat%20 date:[1900-01-19T00:00:00Z TO 1900-01-20T00:00:00T00:00:00Z]\", \"id\": \"Query 1\"}, {\"date\": \"1900-01-21T00:00:00\", \"total_results\": 16, \"total_articles\": 398, \"url\": \"https://trove.nla.gov.au/search/category/newspapers?keyword=cat%20 date:[1900-01-20T00:00:00Z TO 1900-01-21T00:00:00T00:00:00Z]\", \"id\": \"Query 1\"}, {\"date\": \"1900-01-22T00:00:00\", \"total_results\": 89, \"total_articles\": 4632, \"url\": \"https://trove.nla.gov.au/search/category/newspapers?keyword=cat%20 date:[1900-01-21T00:00:00Z TO 1900-01-22T00:00:00T00:00:00Z]\", \"id\": \"Query 1\"}, {\"date\": \"1900-01-23T00:00:00\", \"total_results\": 148, \"total_articles\": 6447, \"url\": \"https://trove.nla.gov.au/search/category/newspapers?keyword=cat%20 date:[1900-01-22T00:00:00Z TO 1900-01-23T00:00:00T00:00:00Z]\", \"id\": \"Query 1\"}, {\"date\": \"1900-01-24T00:00:00\", \"total_results\": 142, \"total_articles\": 5902, \"url\": \"https://trove.nla.gov.au/search/category/newspapers?keyword=cat%20 date:[1900-01-23T00:00:00Z TO 1900-01-24T00:00:00T00:00:00Z]\", \"id\": \"Query 1\"}, {\"date\": \"1900-01-25T00:00:00\", \"total_results\": 141, \"total_articles\": 6215, \"url\": \"https://trove.nla.gov.au/search/category/newspapers?keyword=cat%20 date:[1900-01-24T00:00:00Z TO 1900-01-25T00:00:00T00:00:00Z]\", \"id\": \"Query 1\"}, {\"date\": \"1900-01-26T00:00:00\", \"total_results\": 245, \"total_articles\": 8752, \"url\": \"https://trove.nla.gov.au/search/category/newspapers?keyword=cat%20 date:[1900-01-25T00:00:00Z TO 1900-01-26T00:00:00T00:00:00Z]\", \"id\": \"Query 1\"}, {\"date\": \"1900-01-27T00:00:00\", \"total_results\": 453, \"total_articles\": 14612, \"url\": \"https://trove.nla.gov.au/search/category/newspapers?keyword=cat%20 date:[1900-01-26T00:00:00Z TO 1900-01-27T00:00:00T00:00:00Z]\", \"id\": \"Query 1\"}, {\"date\": \"1900-01-28T00:00:00\", \"total_results\": 28, \"total_articles\": 564, \"url\": \"https://trove.nla.gov.au/search/category/newspapers?keyword=cat%20 date:[1900-01-27T00:00:00Z TO 1900-01-28T00:00:00T00:00:00Z]\", \"id\": \"Query 1\"}, {\"date\": \"1900-01-29T00:00:00\", \"total_results\": 101, \"total_articles\": 4605, \"url\": \"https://trove.nla.gov.au/search/category/newspapers?keyword=cat%20 date:[1900-01-28T00:00:00Z TO 1900-01-29T00:00:00T00:00:00Z]\", \"id\": \"Query 1\"}, {\"date\": \"1900-01-30T00:00:00\", \"total_results\": 142, \"total_articles\": 6411, \"url\": \"https://trove.nla.gov.au/search/category/newspapers?keyword=cat%20 date:[1900-01-29T00:00:00Z TO 1900-01-30T00:00:00T00:00:00Z]\", \"id\": \"Query 1\"}, {\"date\": \"1900-01-31T00:00:00\", \"total_results\": 154, \"total_articles\": 6030, \"url\": \"https://trove.nla.gov.au/search/category/newspapers?keyword=cat%20 date:[1900-01-30T00:00:00Z TO 1900-01-31T00:00:00T00:00:00Z]\", \"id\": \"Query 1\"}], \"data-5c1a99b20007a6e0fff6b244126ce49a\": [{\"x\": 0, \"y\": 0, \"id\": \"Query 1\", \"url\": \"https://trove.nla.gov.au/search/category/newspapers?keyword=cat%20date:[1899-12-31T00:00:00Z TO 1900-01-31T00:00:00Z]\", \"params\": \"keyword=cat%20date:[1899-12-31T00:00:00Z TO 1900-01-31T00:00:00Z]\"}]}}, {\"mode\": \"vega-lite\"});\n</script>",
          "text/plain": "alt.VConcatChart(...)"
         },
         "metadata": {},
         "output_type": "display_data"
        }
       ]
      }
     },
     "1072615ccf594f6a98a90ef32b3c6f8c": {
      "model_module": "@jupyter-widgets/controls",
      "model_module_version": "1.5.0",
      "model_name": "DescriptionStyleModel",
      "state": {
       "description_width": ""
      }
     },
     "10776846d1fc4ef09319bec3a3d7e1c9": {
      "model_module": "@jupyter-widgets/controls",
      "model_module_version": "1.5.0",
      "model_name": "ButtonStyleModel",
      "state": {}
     },
     "107b7375801448b7838c5fb6555224ac": {
      "model_module": "@jupyter-widgets/base",
      "model_module_version": "1.2.0",
      "model_name": "LayoutModel",
      "state": {}
     },
     "10b913df753945fb81c1d6b4f411358d": {
      "model_module": "@jupyter-widgets/base",
      "model_module_version": "1.2.0",
      "model_name": "LayoutModel",
      "state": {}
     },
     "1157239bf86d4733996aab920eb09b0b": {
      "model_module": "@jupyter-widgets/controls",
      "model_module_version": "1.5.0",
      "model_name": "DescriptionStyleModel",
      "state": {
       "description_width": ""
      }
     },
     "1174fe7e985a44dbafffd068131969fd": {
      "model_module": "@jupyter-widgets/base",
      "model_module_version": "1.2.0",
      "model_name": "LayoutModel",
      "state": {}
     },
     "11750af4db2141c1842b27d79a79313b": {
      "model_module": "@jupyter-widgets/controls",
      "model_module_version": "1.5.0",
      "model_name": "ButtonStyleModel",
      "state": {}
     },
     "1269c6ad24124d85991700e4a0b68d3f": {
      "model_module": "@jupyter-widgets/controls",
      "model_module_version": "1.5.0",
      "model_name": "ButtonModel",
      "state": {
       "description": "Remove last query",
       "layout": "IPY_MODEL_cd7d26173e00455abd71b255068a783b",
       "style": "IPY_MODEL_10776846d1fc4ef09319bec3a3d7e1c9",
       "tooltip": "Remove the last query"
      }
     },
     "12796613aa8c4a46b49b2a2f4f6b9969": {
      "model_module": "@jupyter-widgets/base",
      "model_module_version": "1.2.0",
      "model_name": "LayoutModel",
      "state": {}
     },
     "131a5c5272e84dcab7528206544387cd": {
      "model_module": "@jupyter-widgets/controls",
      "model_module_version": "1.5.0",
      "model_name": "ButtonStyleModel",
      "state": {}
     },
     "1321fc3c09584a58a0fbf1839ecffb1d": {
      "model_module": "@jupyter-widgets/base",
      "model_module_version": "1.2.0",
      "model_name": "LayoutModel",
      "state": {}
     },
     "1326909ccbbe4518a127e3098e857644": {
      "model_module": "@jupyter-widgets/base",
      "model_module_version": "1.2.0",
      "model_name": "LayoutModel",
      "state": {}
     },
     "1331c72874e44340884674279cb8274c": {
      "model_module": "@jupyter-widgets/controls",
      "model_module_version": "1.5.0",
      "model_name": "HTMLModel",
      "state": {
       "layout": "IPY_MODEL_de812c2065b8492cb79cbd0221c397b9",
       "style": "IPY_MODEL_355cf46b5f504b07beb72868907121fa",
       "value": " 31/31 [00:30&lt;00:00,  1.03it/s]"
      }
     },
     "1344656b26524e7f85f61708177c84f9": {
      "model_module": "@jupyter-widgets/base",
      "model_module_version": "1.2.0",
      "model_name": "LayoutModel",
      "state": {}
     },
     "13879ce3b3374e9589590f55b3650cc8": {
      "model_module": "@jupyter-widgets/base",
      "model_module_version": "1.2.0",
      "model_name": "LayoutModel",
      "state": {}
     },
     "138b3fd600e947c2b2a2e093ca54f82c": {
      "model_module": "@jupyter-widgets/base",
      "model_module_version": "1.2.0",
      "model_name": "LayoutModel",
      "state": {}
     },
     "138f904a2822459289d8d5ffb8ed52a0": {
      "model_module": "@jupyter-widgets/controls",
      "model_module_version": "1.5.0",
      "model_name": "ButtonStyleModel",
      "state": {}
     },
     "13f11e58004145aa8d7db922c52d32e1": {
      "model_module": "@jupyter-widgets/base",
      "model_module_version": "1.2.0",
      "model_name": "LayoutModel",
      "state": {
       "width": "80%"
      }
     },
     "145880dd1022410990679ef3d790045d": {
      "model_module": "@jupyter-widgets/base",
      "model_module_version": "1.2.0",
      "model_name": "LayoutModel",
      "state": {}
     },
     "1472d8272c204a929a58aa68d1bb4fd6": {
      "model_module": "@jupyter-widgets/output",
      "model_module_version": "1.0.0",
      "model_name": "OutputModel",
      "state": {
       "layout": "IPY_MODEL_bb73fde51fb0443cb6d0081e41ed08c1",
       "outputs": [
        {
         "data": {
          "application/vnd.jupyter.widget-view+json": {
           "model_id": "",
           "version_major": 2,
           "version_minor": 0
          },
          "text/plain": "HBox(children=(Button(button_style='primary', description='Save chart as HTML', style=ButtonStyle(), tooltip='…"
         },
         "metadata": {},
         "output_type": "display_data"
        },
        {
         "data": {
          "text/html": "Download data: <a href=\"data/querypic-20220624234724.csv\" download>data/querypic-20220624234724.csv</a>",
          "text/plain": "<IPython.core.display.HTML object>"
         },
         "metadata": {},
         "output_type": "display_data"
        }
       ]
      }
     },
     "152e37f29a6349daaa51f6f416287ef1": {
      "model_module": "@jupyter-widgets/controls",
      "model_module_version": "1.5.0",
      "model_name": "DescriptionStyleModel",
      "state": {
       "description_width": ""
      }
     },
     "15a07962e2ef4ee890ac7e6205b125ed": {
      "model_module": "@jupyter-widgets/controls",
      "model_module_version": "1.5.0",
      "model_name": "DescriptionStyleModel",
      "state": {
       "description_width": ""
      }
     },
     "15b37c100ee645009eb1e85d1cdd9e50": {
      "model_module": "@jupyter-widgets/controls",
      "model_module_version": "1.5.0",
      "model_name": "DescriptionStyleModel",
      "state": {
       "description_width": ""
      }
     },
     "16349b8c3b9f447c935eee8ea2eefe40": {
      "model_module": "@jupyter-widgets/controls",
      "model_module_version": "1.5.0",
      "model_name": "FloatProgressModel",
      "state": {
       "layout": "IPY_MODEL_2ebd8867140e4337883858bba38e14cc",
       "max": 11,
       "style": "IPY_MODEL_e42464c502ef447db6cfa7633b126e96",
       "value": 11
      }
     },
     "1637fc3533d74e31a23e1961d283d6ee": {
      "model_module": "@jupyter-widgets/base",
      "model_module_version": "1.2.0",
      "model_name": "LayoutModel",
      "state": {}
     },
     "16785d6d95d04fd288407816b8e6dcb6": {
      "model_module": "@jupyter-widgets/base",
      "model_module_version": "1.2.0",
      "model_name": "LayoutModel",
      "state": {}
     },
     "16de067690de46c3a874abed4f0e6950": {
      "model_module": "@jupyter-widgets/controls",
      "model_module_version": "1.5.0",
      "model_name": "DescriptionStyleModel",
      "state": {
       "description_width": ""
      }
     },
     "173bac2d24b641fcb540a0092f60d7a2": {
      "model_module": "@jupyter-widgets/base",
      "model_module_version": "1.2.0",
      "model_name": "LayoutModel",
      "state": {}
     },
     "174f4630b79d49b78fd1494fc974fdea": {
      "model_module": "@jupyter-widgets/base",
      "model_module_version": "1.2.0",
      "model_name": "LayoutModel",
      "state": {}
     },
     "18056ef296c64e6598c758ec45110b43": {
      "model_module": "@jupyter-widgets/controls",
      "model_module_version": "1.5.0",
      "model_name": "FloatProgressModel",
      "state": {
       "layout": "IPY_MODEL_427273433972424694325bb5560b7ec2",
       "max": 6,
       "style": "IPY_MODEL_d531c29e79214e21be10ba21ba4755b7",
       "value": 6
      }
     },
     "181e2e63d90841cfb617c53a6f312188": {
      "model_module": "@jupyter-widgets/base",
      "model_module_version": "1.2.0",
      "model_name": "LayoutModel",
      "state": {}
     },
     "183bffff494449c28a1e09fd2bd0b597": {
      "model_module": "@jupyter-widgets/base",
      "model_module_version": "1.2.0",
      "model_name": "LayoutModel",
      "state": {}
     },
     "184418b8f9b1447e891234a1c0ea56a7": {
      "model_module": "@jupyter-widgets/output",
      "model_module_version": "1.0.0",
      "model_name": "OutputModel",
      "state": {
       "layout": "IPY_MODEL_2636ee7cc2a7404cae3f139ecdc6cd2e",
       "outputs": [
        {
         "data": {
          "application/vnd.jupyter.widget-view+json": {
           "model_id": "",
           "version_major": 2,
           "version_minor": 0
          },
          "text/plain": "HBox(children=(Button(button_style='primary', description='Save chart as HTML', style=ButtonStyle(), tooltip='…"
         },
         "metadata": {},
         "output_type": "display_data"
        },
        {
         "data": {
          "text/html": "Download data: <a href=\"data/querypic-20220625000304.csv\" download>data/querypic-20220625000304.csv</a>",
          "text/plain": "<IPython.core.display.HTML object>"
         },
         "metadata": {},
         "output_type": "display_data"
        }
       ]
      }
     },
     "184e152d757c4a3d9d46f6656851d8a5": {
      "model_module": "@jupyter-widgets/controls",
      "model_module_version": "1.5.0",
      "model_name": "ButtonModel",
      "state": {
       "description": "Remove last query",
       "layout": "IPY_MODEL_8e1640737fcb44dbb4dbcf5d346ee911",
       "style": "IPY_MODEL_49af3ef0643548f8a31f1760812ce718",
       "tooltip": "Remove the last query"
      }
     },
     "185b164483da409382bf12db2ce1f272": {
      "model_module": "@jupyter-widgets/controls",
      "model_module_version": "1.5.0",
      "model_name": "HBoxModel",
      "state": {
       "children": [
        "IPY_MODEL_608c2636161b4063aaaa4e4df956833d",
        "IPY_MODEL_f51b94ec5def4ca2ae89c10e2d20a6c2",
        "IPY_MODEL_ad3b9197185444fdbdc6978c64da27b5"
       ],
       "layout": "IPY_MODEL_73adb49974bb4115a84a284a273e2cd0"
      }
     },
     "185b67d145e845809708b2165421b80b": {
      "model_module": "@jupyter-widgets/controls",
      "model_module_version": "1.5.0",
      "model_name": "BoundedIntTextModel",
      "state": {
       "description": "Height",
       "layout": "IPY_MODEL_6fba1350fcde49d58995110fc9c4263a",
       "max": 1500,
       "min": 400,
       "step": 100,
       "style": "IPY_MODEL_bc38555fdc9a446a91755bfe812188c7",
       "value": 400
      }
     },
     "185d28fb58a1408d984961614bf9cf10": {
      "model_module": "@jupyter-widgets/base",
      "model_module_version": "1.2.0",
      "model_name": "LayoutModel",
      "state": {}
     },
     "192d63d163364f999c4fc859205af32e": {
      "model_module": "@jupyter-widgets/controls",
      "model_module_version": "1.5.0",
      "model_name": "DescriptionStyleModel",
      "state": {
       "description_width": ""
      }
     },
     "193378c399884348bc6c4c18e99e9a9a": {
      "model_module": "@jupyter-widgets/controls",
      "model_module_version": "1.5.0",
      "model_name": "HBoxModel",
      "state": {
       "children": [
        "IPY_MODEL_64f73815e69f45b3826e322e1b20e5a4",
        "IPY_MODEL_efe74d38aabf454687841e7383779eed",
        "IPY_MODEL_952c82176759431dbd3133ef7b720c5b"
       ],
       "layout": "IPY_MODEL_c995a93725954f34b3fd7d4c8e70de62"
      }
     },
     "1a6412e7267343bb8a878a4228657eda": {
      "model_module": "@jupyter-widgets/controls",
      "model_module_version": "1.5.0",
      "model_name": "DescriptionStyleModel",
      "state": {
       "description_width": ""
      }
     },
     "1a83c04832484b5faeda383a9b750dc7": {
      "model_module": "@jupyter-widgets/base",
      "model_module_version": "1.2.0",
      "model_name": "LayoutModel",
      "state": {}
     },
     "1a93c175dbae42a782c12900722e574a": {
      "model_module": "@jupyter-widgets/base",
      "model_module_version": "1.2.0",
      "model_name": "LayoutModel",
      "state": {}
     },
     "1a9ab7a3a9554d909468928b76a273d1": {
      "model_module": "@jupyter-widgets/controls",
      "model_module_version": "1.5.0",
      "model_name": "DescriptionStyleModel",
      "state": {
       "description_width": ""
      }
     },
     "1b5f7dcbfba14edfb944f9e6a12c9c4c": {
      "model_module": "@jupyter-widgets/base",
      "model_module_version": "1.2.0",
      "model_name": "LayoutModel",
      "state": {}
     },
     "1b76696308194928ad61484f83d56956": {
      "model_module": "@jupyter-widgets/controls",
      "model_module_version": "1.5.0",
      "model_name": "ButtonModel",
      "state": {
       "description": "Clear all queries",
       "layout": "IPY_MODEL_7a40dc9ded1c44288aebb79f2549f692",
       "style": "IPY_MODEL_bb0a9673c6fb4fc3a417655cd953482c",
       "tooltip": "Clear current queries"
      }
     },
     "1b84b759bb9947a6a01317761f11cf4b": {
      "model_module": "@jupyter-widgets/controls",
      "model_module_version": "1.5.0",
      "model_name": "PasswordModel",
      "state": {
       "description": "API key:",
       "layout": "IPY_MODEL_1321fc3c09584a58a0fbf1839ecffb1d",
       "placeholder": "Enter your Trove API key",
       "style": "IPY_MODEL_021202a1fdc8492bb67eed216cce90a7",
       "value": "6pi5hht0d2umqcro"
      }
     },
     "1b9fc293c0f241f593990eff98ae4828": {
      "model_module": "@jupyter-widgets/controls",
      "model_module_version": "1.5.0",
      "model_name": "HTMLModel",
      "state": {
       "layout": "IPY_MODEL_d4115866516e497791dde148c47f7336",
       "style": "IPY_MODEL_e219df09d44840e2b99fd014c6200ddc",
       "value": "100%"
      }
     },
     "1bba6bad32674a96bed3683c3f258c48": {
      "model_module": "@jupyter-widgets/base",
      "model_module_version": "1.2.0",
      "model_name": "LayoutModel",
      "state": {}
     },
     "1bf63ce674f94ba59f89d8c7d75bb32b": {
      "model_module": "@jupyter-widgets/controls",
      "model_module_version": "1.5.0",
      "model_name": "DescriptionStyleModel",
      "state": {
       "description_width": ""
      }
     },
     "1d36ab85bd2647f880d25c2656075862": {
      "model_module": "@jupyter-widgets/controls",
      "model_module_version": "1.5.0",
      "model_name": "DescriptionStyleModel",
      "state": {
       "description_width": ""
      }
     },
     "1d7cb5b035774b3e98a1fe4c3e1bc814": {
      "model_module": "@jupyter-widgets/base",
      "model_module_version": "1.2.0",
      "model_name": "LayoutModel",
      "state": {}
     },
     "1d7dbd996a624050b37289dfe73c8727": {
      "model_module": "@jupyter-widgets/controls",
      "model_module_version": "1.5.0",
      "model_name": "BoundedIntTextModel",
      "state": {
       "description": "Height",
       "layout": "IPY_MODEL_dbb1598115504cef935a8217d17542d5",
       "max": 1500,
       "min": 400,
       "step": 100,
       "style": "IPY_MODEL_d7fbd3d17fa0419f8d8a12013d38c2bf",
       "value": 400
      }
     },
     "1d8d4d03dd7e4dadb9f6b7f51b70a9b2": {
      "model_module": "@jupyter-widgets/controls",
      "model_module_version": "1.5.0",
      "model_name": "DescriptionStyleModel",
      "state": {
       "description_width": ""
      }
     },
     "1d9546ddc37145609b2d33a3738488b6": {
      "model_module": "@jupyter-widgets/controls",
      "model_module_version": "1.5.0",
      "model_name": "FloatProgressModel",
      "state": {
       "layout": "IPY_MODEL_263e4738336f46c09d97df10990a85fb",
       "max": 7,
       "style": "IPY_MODEL_7332b999878142d1b8a4b987fd555099",
       "value": 7
      }
     },
     "1de603621a054b3e8337ad9b3e840fdc": {
      "model_module": "@jupyter-widgets/base",
      "model_module_version": "1.2.0",
      "model_name": "LayoutModel",
      "state": {
       "margin": "0 0 20px 0"
      }
     },
     "1dfc8e6e083246c38f71311939f25869": {
      "model_module": "@jupyter-widgets/base",
      "model_module_version": "1.2.0",
      "model_name": "LayoutModel",
      "state": {}
     },
     "1e33c134694346bba0b09d52ac8b7a2c": {
      "model_module": "@jupyter-widgets/base",
      "model_module_version": "1.2.0",
      "model_name": "LayoutModel",
      "state": {}
     },
     "1e533cedf2af4f01b34ab6d7f2409945": {
      "model_module": "@jupyter-widgets/controls",
      "model_module_version": "1.5.0",
      "model_name": "TextModel",
      "state": {
       "description": "Query:",
       "layout": "IPY_MODEL_34fbfc3d26ec4c7e8c643086c635d72d",
       "placeholder": "Enter your search query",
       "style": "IPY_MODEL_ce9f3442355b45349bad9c138d97b9f1",
       "value": "https://trove.nla.gov.au/search/category/newspapers?keyword=text%3A%22darling%20wife%22%20date%3A%5B1850%20TO%201954%5D"
      }
     },
     "1e5641bf76ae4a5bb1392392e47574f4": {
      "model_module": "@jupyter-widgets/base",
      "model_module_version": "1.2.0",
      "model_name": "LayoutModel",
      "state": {
       "width": "80%"
      }
     },
     "1e7f7706ab17437f9ec6a57edac3740b": {
      "model_module": "@jupyter-widgets/controls",
      "model_module_version": "1.5.0",
      "model_name": "HBoxModel",
      "state": {
       "children": [
        "IPY_MODEL_43fca3c6bd26467aa60883166ee8440d",
        "IPY_MODEL_27184d70eeb247c1a5d7fcbaf19e1a84",
        "IPY_MODEL_ba078ad052634589b9a9e7e9dfd6f5ec"
       ],
       "layout": "IPY_MODEL_2948e411c87b49dd853011687c3e1dfb"
      }
     },
     "1e895baebaba410d88042dedbb069640": {
      "model_module": "@jupyter-widgets/controls",
      "model_module_version": "1.5.0",
      "model_name": "HBoxModel",
      "state": {
       "children": [
        "IPY_MODEL_dc32d41edac7432aacaa021ce18a9d8b",
        "IPY_MODEL_854c23e231ae479a924f732b8a76bc3c",
        "IPY_MODEL_1d7dbd996a624050b37289dfe73c8727"
       ],
       "layout": "IPY_MODEL_55fb85ebfc174207b8ec0813343b8b99"
      }
     },
     "1ef4ff7f3cca43389e074e342674b95b": {
      "model_module": "@jupyter-widgets/base",
      "model_module_version": "1.2.0",
      "model_name": "LayoutModel",
      "state": {}
     },
     "1f0cdb29a1054e41aaea9a4fddfd6080": {
      "model_module": "@jupyter-widgets/controls",
      "model_module_version": "1.5.0",
      "model_name": "HTMLModel",
      "state": {
       "layout": "IPY_MODEL_4fc97bcd74304798b6cdc3199b38f297",
       "style": "IPY_MODEL_afcc25c60d004412b36a003ac2eecf27",
       "value": " 6/6 [00:10&lt;00:00,  1.61s/it]"
      }
     },
     "1f2d6935040d40d0aa9432350e3e9873": {
      "model_module": "@jupyter-widgets/base",
      "model_module_version": "1.2.0",
      "model_name": "LayoutModel",
      "state": {}
     },
     "1f38ec79133a43f98ce8e67fcbff8522": {
      "model_module": "@jupyter-widgets/controls",
      "model_module_version": "1.5.0",
      "model_name": "DescriptionStyleModel",
      "state": {
       "description_width": ""
      }
     },
     "1f4853e34faf45e38e8547348fffe6be": {
      "model_module": "@jupyter-widgets/base",
      "model_module_version": "1.2.0",
      "model_name": "LayoutModel",
      "state": {}
     },
     "1f4e3c2d5f4541c492a682a03fec2dc8": {
      "model_module": "@jupyter-widgets/controls",
      "model_module_version": "1.5.0",
      "model_name": "DescriptionStyleModel",
      "state": {
       "description_width": ""
      }
     },
     "1f559279c2364f9b8344a3d358915fe3": {
      "model_module": "@jupyter-widgets/controls",
      "model_module_version": "1.5.0",
      "model_name": "DescriptionStyleModel",
      "state": {
       "description_width": ""
      }
     },
     "1f61f4ef23c84c23815be9fe6d355c27": {
      "model_module": "@jupyter-widgets/base",
      "model_module_version": "1.2.0",
      "model_name": "LayoutModel",
      "state": {}
     },
     "1f6a1756999045ddadffb9b5ad4165bd": {
      "model_module": "@jupyter-widgets/output",
      "model_module_version": "1.0.0",
      "model_name": "OutputModel",
      "state": {
       "layout": "IPY_MODEL_ae0518e6b47d4baab3652bad928c424e",
       "outputs": [
        {
         "data": {
          "application/vnd.jupyter.widget-view+json": {
           "model_id": "",
           "version_major": 2,
           "version_minor": 0
          },
          "text/plain": "Dropdown(options=(('Raw number of results', 'raw'), ('Proportion of total articles', 'proportion')), value='ra…"
         },
         "metadata": {},
         "output_type": "display_data"
        },
        {
         "data": {
          "text/html": "\n<div id=\"altair-viz-da408ce9cac744888f64bd95ab5fc77a\"></div>\n<script type=\"text/javascript\">\n  var VEGA_DEBUG = (typeof VEGA_DEBUG == \"undefined\") ? {} : VEGA_DEBUG;\n  (function(spec, embedOpt){\n    let outputDiv = document.currentScript.previousElementSibling;\n    if (outputDiv.id !== \"altair-viz-da408ce9cac744888f64bd95ab5fc77a\") {\n      outputDiv = document.getElementById(\"altair-viz-da408ce9cac744888f64bd95ab5fc77a\");\n    }\n    const paths = {\n      \"vega\": \"https://cdn.jsdelivr.net/npm//vega@5?noext\",\n      \"vega-lib\": \"https://cdn.jsdelivr.net/npm//vega-lib?noext\",\n      \"vega-lite\": \"https://cdn.jsdelivr.net/npm//vega-lite@4.17.0?noext\",\n      \"vega-embed\": \"https://cdn.jsdelivr.net/npm//vega-embed@6?noext\",\n    };\n\n    function maybeLoadScript(lib, version) {\n      var key = `${lib.replace(\"-\", \"\")}_version`;\n      return (VEGA_DEBUG[key] == version) ?\n        Promise.resolve(paths[lib]) :\n        new Promise(function(resolve, reject) {\n          var s = document.createElement('script');\n          document.getElementsByTagName(\"head\")[0].appendChild(s);\n          s.async = true;\n          s.onload = () => {\n            VEGA_DEBUG[key] = version;\n            return resolve(paths[lib]);\n          };\n          s.onerror = () => reject(`Error loading script: ${paths[lib]}`);\n          s.src = paths[lib];\n        });\n    }\n\n    function showError(err) {\n      outputDiv.innerHTML = `<div class=\"error\" style=\"color:red;\">${err}</div>`;\n      throw err;\n    }\n\n    function displayChart(vegaEmbed) {\n      vegaEmbed(outputDiv, spec, embedOpt)\n        .catch(err => showError(`Javascript Error: ${err.message}<br>This usually means there's a typo in your chart specification. See the javascript console for the full traceback.`));\n    }\n\n    if(typeof define === \"function\" && define.amd) {\n      requirejs.config({paths});\n      require([\"vega-embed\"], displayChart, err => showError(`Error loading script: ${err.message}`));\n    } else {\n      maybeLoadScript(\"vega\", \"5\")\n        .then(() => maybeLoadScript(\"vega-lite\", \"4.17.0\"))\n        .then(() => maybeLoadScript(\"vega-embed\", \"6\"))\n        .catch(showError)\n        .then(() => displayChart(vegaEmbed));\n    }\n  })({\"usermeta\": {\"embedOptions\": {\"loader\": {\"target\": \"_blank\"}}}, \"vconcat\": [{\"data\": {\"name\": \"data-d10f65eebacae6fe3f3cc06df08d78d4\"}, \"mark\": {\"type\": \"line\", \"interpolate\": \"cardinal\", \"point\": true}, \"encoding\": {\"color\": {\"field\": \"id\", \"legend\": {\"title\": \"\"}, \"type\": \"nominal\"}, \"href\": {\"field\": \"url\", \"type\": \"nominal\"}, \"tooltip\": [{\"field\": \"id\", \"title\": \"query\", \"type\": \"nominal\"}, {\"field\": \"date\", \"timeUnit\": \"year\", \"title\": \"year\", \"type\": \"temporal\"}, {\"field\": \"total_results\", \"format\": \",\", \"title\": \"results\", \"type\": \"quantitative\"}, {\"field\": \"PercentOfTotal\", \"format\": \".2%\", \"title\": \"proportion\", \"type\": \"quantitative\"}], \"x\": {\"axis\": {\"title\": \"Year\"}, \"field\": \"date\", \"scale\": {\"padding\": 10}, \"timeUnit\": \"year\", \"type\": \"temporal\"}, \"y\": {\"axis\": {\"format\": \",d\", \"title\": \"Number of articles\"}, \"field\": \"total_results\", \"type\": \"quantitative\"}}, \"height\": 400, \"title\": {\"text\": \"Trove Newspapers & Gazettes Search\", \"subtitle\": \"Created by QueryPic: 24 June 2022\"}, \"transform\": [{\"calculate\": \"datum.total_results / datum.total_articles\", \"as\": \"PercentOfTotal\"}], \"width\": 800}, {\"data\": {\"name\": \"data-f675c00c0df2c3ff4332f63876210147\"}, \"mark\": {\"type\": \"text\", \"align\": \"left\", \"baseline\": \"middle\", \"dx\": 2, \"dy\": 1}, \"encoding\": {\"color\": {\"value\": \"blue\"}, \"href\": {\"field\": \"url\", \"type\": \"nominal\"}, \"text\": {\"field\": \"url\", \"type\": \"nominal\"}, \"x\": {\"axis\": null, \"field\": \"x\", \"scale\": {\"range\": [0, 1]}, \"title\": null, \"type\": \"quantitative\"}, \"y\": {\"axis\": {\"domain\": false, \"grid\": false, \"labelFontWeight\": \"bold\"}, \"field\": \"id\", \"title\": null, \"type\": \"ordinal\"}}}], \"config\": {\"padding\": 20, \"title\": {\"fontSize\": 14}, \"view\": {\"strokeWidth\": 0}}, \"$schema\": \"https://vega.github.io/schema/vega-lite/v4.17.0.json\", \"datasets\": {\"data-d10f65eebacae6fe3f3cc06df08d78d4\": [{\"date\": \"1850-01-02\", \"total_results\": 0, \"total_articles\": 0, \"url\": \"https://trove.nla.gov.au/search/category/newspapers?keyword=text%3A%22darling%20wife%22%20date%3A%5B1850%20TO%201954%5D&l-decade=185&l-year=1850\", \"id\": \"Query 1\"}, {\"date\": \"1851-01-02\", \"total_results\": 0, \"total_articles\": 0, \"url\": \"https://trove.nla.gov.au/search/category/newspapers?keyword=text%3A%22darling%20wife%22%20date%3A%5B1850%20TO%201954%5D&l-decade=185&l-year=1851\", \"id\": \"Query 1\"}, {\"date\": \"1852-01-02\", \"total_results\": 0, \"total_articles\": 0, \"url\": \"https://trove.nla.gov.au/search/category/newspapers?keyword=text%3A%22darling%20wife%22%20date%3A%5B1850%20TO%201954%5D&l-decade=185&l-year=1852\", \"id\": \"Query 1\"}, {\"date\": \"1853-01-02\", \"total_results\": 0, \"total_articles\": 0, \"url\": \"https://trove.nla.gov.au/search/category/newspapers?keyword=text%3A%22darling%20wife%22%20date%3A%5B1850%20TO%201954%5D&l-decade=185&l-year=1853\", \"id\": \"Query 1\"}, {\"date\": \"1854-01-02\", \"total_results\": 0, \"total_articles\": 0, \"url\": \"https://trove.nla.gov.au/search/category/newspapers?keyword=text%3A%22darling%20wife%22%20date%3A%5B1850%20TO%201954%5D&l-decade=185&l-year=1854\", \"id\": \"Query 1\"}, {\"date\": \"1855-01-02\", \"total_results\": 0, \"total_articles\": 0, \"url\": \"https://trove.nla.gov.au/search/category/newspapers?keyword=text%3A%22darling%20wife%22%20date%3A%5B1850%20TO%201954%5D&l-decade=185&l-year=1855\", \"id\": \"Query 1\"}, {\"date\": \"1856-01-02\", \"total_results\": 0, \"total_articles\": 0, \"url\": \"https://trove.nla.gov.au/search/category/newspapers?keyword=text%3A%22darling%20wife%22%20date%3A%5B1850%20TO%201954%5D&l-decade=185&l-year=1856\", \"id\": \"Query 1\"}, {\"date\": \"1857-01-02\", \"total_results\": 0, \"total_articles\": 0, \"url\": \"https://trove.nla.gov.au/search/category/newspapers?keyword=text%3A%22darling%20wife%22%20date%3A%5B1850%20TO%201954%5D&l-decade=185&l-year=1857\", \"id\": \"Query 1\"}, {\"date\": \"1858-01-02\", \"total_results\": 0, \"total_articles\": 0, \"url\": \"https://trove.nla.gov.au/search/category/newspapers?keyword=text%3A%22darling%20wife%22%20date%3A%5B1850%20TO%201954%5D&l-decade=185&l-year=1858\", \"id\": \"Query 1\"}, {\"date\": \"1859-01-02\", \"total_results\": 0, \"total_articles\": 0, \"url\": \"https://trove.nla.gov.au/search/category/newspapers?keyword=text%3A%22darling%20wife%22%20date%3A%5B1850%20TO%201954%5D&l-decade=185&l-year=1859\", \"id\": \"Query 1\"}, {\"date\": \"1860-01-02\", \"total_results\": 0, \"total_articles\": 0, \"url\": \"https://trove.nla.gov.au/search/category/newspapers?keyword=text%3A%22darling%20wife%22%20date%3A%5B1850%20TO%201954%5D&l-decade=186&l-year=1860\", \"id\": \"Query 1\"}, {\"date\": \"1861-01-02\", \"total_results\": 0, \"total_articles\": 0, \"url\": \"https://trove.nla.gov.au/search/category/newspapers?keyword=text%3A%22darling%20wife%22%20date%3A%5B1850%20TO%201954%5D&l-decade=186&l-year=1861\", \"id\": \"Query 1\"}, {\"date\": \"1862-01-02\", \"total_results\": 0, \"total_articles\": 0, \"url\": \"https://trove.nla.gov.au/search/category/newspapers?keyword=text%3A%22darling%20wife%22%20date%3A%5B1850%20TO%201954%5D&l-decade=186&l-year=1862\", \"id\": \"Query 1\"}, {\"date\": \"1863-01-02\", \"total_results\": 0, \"total_articles\": 0, \"url\": \"https://trove.nla.gov.au/search/category/newspapers?keyword=text%3A%22darling%20wife%22%20date%3A%5B1850%20TO%201954%5D&l-decade=186&l-year=1863\", \"id\": \"Query 1\"}, {\"date\": \"1864-01-02\", \"total_results\": 0, \"total_articles\": 0, \"url\": \"https://trove.nla.gov.au/search/category/newspapers?keyword=text%3A%22darling%20wife%22%20date%3A%5B1850%20TO%201954%5D&l-decade=186&l-year=1864\", \"id\": \"Query 1\"}, {\"date\": \"1865-01-02\", \"total_results\": 0, \"total_articles\": 0, \"url\": \"https://trove.nla.gov.au/search/category/newspapers?keyword=text%3A%22darling%20wife%22%20date%3A%5B1850%20TO%201954%5D&l-decade=186&l-year=1865\", \"id\": \"Query 1\"}, {\"date\": \"1866-01-02\", \"total_results\": 0, \"total_articles\": 0, \"url\": \"https://trove.nla.gov.au/search/category/newspapers?keyword=text%3A%22darling%20wife%22%20date%3A%5B1850%20TO%201954%5D&l-decade=186&l-year=1866\", \"id\": \"Query 1\"}, {\"date\": \"1867-01-02\", \"total_results\": 0, \"total_articles\": 0, \"url\": \"https://trove.nla.gov.au/search/category/newspapers?keyword=text%3A%22darling%20wife%22%20date%3A%5B1850%20TO%201954%5D&l-decade=186&l-year=1867\", \"id\": \"Query 1\"}, {\"date\": \"1868-01-02\", \"total_results\": 0, \"total_articles\": 0, \"url\": \"https://trove.nla.gov.au/search/category/newspapers?keyword=text%3A%22darling%20wife%22%20date%3A%5B1850%20TO%201954%5D&l-decade=186&l-year=1868\", \"id\": \"Query 1\"}, {\"date\": \"1869-01-02\", \"total_results\": 0, \"total_articles\": 0, \"url\": \"https://trove.nla.gov.au/search/category/newspapers?keyword=text%3A%22darling%20wife%22%20date%3A%5B1850%20TO%201954%5D&l-decade=186&l-year=1869\", \"id\": \"Query 1\"}, {\"date\": \"1870-01-02\", \"total_results\": 0, \"total_articles\": 0, \"url\": \"https://trove.nla.gov.au/search/category/newspapers?keyword=text%3A%22darling%20wife%22%20date%3A%5B1850%20TO%201954%5D&l-decade=187&l-year=1870\", \"id\": \"Query 1\"}, {\"date\": \"1871-01-02\", \"total_results\": 0, \"total_articles\": 0, \"url\": \"https://trove.nla.gov.au/search/category/newspapers?keyword=text%3A%22darling%20wife%22%20date%3A%5B1850%20TO%201954%5D&l-decade=187&l-year=1871\", \"id\": \"Query 1\"}, {\"date\": \"1872-01-02\", \"total_results\": 0, \"total_articles\": 0, \"url\": \"https://trove.nla.gov.au/search/category/newspapers?keyword=text%3A%22darling%20wife%22%20date%3A%5B1850%20TO%201954%5D&l-decade=187&l-year=1872\", \"id\": \"Query 1\"}, {\"date\": \"1873-01-02\", \"total_results\": 0, \"total_articles\": 0, \"url\": \"https://trove.nla.gov.au/search/category/newspapers?keyword=text%3A%22darling%20wife%22%20date%3A%5B1850%20TO%201954%5D&l-decade=187&l-year=1873\", \"id\": \"Query 1\"}, {\"date\": \"1874-01-02\", \"total_results\": 0, \"total_articles\": 0, \"url\": \"https://trove.nla.gov.au/search/category/newspapers?keyword=text%3A%22darling%20wife%22%20date%3A%5B1850%20TO%201954%5D&l-decade=187&l-year=1874\", \"id\": \"Query 1\"}, {\"date\": \"1875-01-02\", \"total_results\": 0, \"total_articles\": 0, \"url\": \"https://trove.nla.gov.au/search/category/newspapers?keyword=text%3A%22darling%20wife%22%20date%3A%5B1850%20TO%201954%5D&l-decade=187&l-year=1875\", \"id\": \"Query 1\"}, {\"date\": \"1876-01-02\", \"total_results\": 0, \"total_articles\": 0, \"url\": \"https://trove.nla.gov.au/search/category/newspapers?keyword=text%3A%22darling%20wife%22%20date%3A%5B1850%20TO%201954%5D&l-decade=187&l-year=1876\", \"id\": \"Query 1\"}, {\"date\": \"1877-01-02\", \"total_results\": 0, \"total_articles\": 0, \"url\": \"https://trove.nla.gov.au/search/category/newspapers?keyword=text%3A%22darling%20wife%22%20date%3A%5B1850%20TO%201954%5D&l-decade=187&l-year=1877\", \"id\": \"Query 1\"}, {\"date\": \"1878-01-02\", \"total_results\": 0, \"total_articles\": 0, \"url\": \"https://trove.nla.gov.au/search/category/newspapers?keyword=text%3A%22darling%20wife%22%20date%3A%5B1850%20TO%201954%5D&l-decade=187&l-year=1878\", \"id\": \"Query 1\"}, {\"date\": \"1879-01-02\", \"total_results\": 0, \"total_articles\": 0, \"url\": \"https://trove.nla.gov.au/search/category/newspapers?keyword=text%3A%22darling%20wife%22%20date%3A%5B1850%20TO%201954%5D&l-decade=187&l-year=1879\", \"id\": \"Query 1\"}, {\"date\": \"1880-01-02\", \"total_results\": 0, \"total_articles\": 0, \"url\": \"https://trove.nla.gov.au/search/category/newspapers?keyword=text%3A%22darling%20wife%22%20date%3A%5B1850%20TO%201954%5D&l-decade=188&l-year=1880\", \"id\": \"Query 1\"}, {\"date\": \"1881-01-02\", \"total_results\": 0, \"total_articles\": 0, \"url\": \"https://trove.nla.gov.au/search/category/newspapers?keyword=text%3A%22darling%20wife%22%20date%3A%5B1850%20TO%201954%5D&l-decade=188&l-year=1881\", \"id\": \"Query 1\"}, {\"date\": \"1882-01-02\", \"total_results\": 0, \"total_articles\": 0, \"url\": \"https://trove.nla.gov.au/search/category/newspapers?keyword=text%3A%22darling%20wife%22%20date%3A%5B1850%20TO%201954%5D&l-decade=188&l-year=1882\", \"id\": \"Query 1\"}, {\"date\": \"1883-01-02\", \"total_results\": 0, \"total_articles\": 0, \"url\": \"https://trove.nla.gov.au/search/category/newspapers?keyword=text%3A%22darling%20wife%22%20date%3A%5B1850%20TO%201954%5D&l-decade=188&l-year=1883\", \"id\": \"Query 1\"}, {\"date\": \"1884-01-02\", \"total_results\": 0, \"total_articles\": 0, \"url\": \"https://trove.nla.gov.au/search/category/newspapers?keyword=text%3A%22darling%20wife%22%20date%3A%5B1850%20TO%201954%5D&l-decade=188&l-year=1884\", \"id\": \"Query 1\"}, {\"date\": \"1885-01-02\", \"total_results\": 0, \"total_articles\": 0, \"url\": \"https://trove.nla.gov.au/search/category/newspapers?keyword=text%3A%22darling%20wife%22%20date%3A%5B1850%20TO%201954%5D&l-decade=188&l-year=1885\", \"id\": \"Query 1\"}, {\"date\": \"1886-01-02\", \"total_results\": 0, \"total_articles\": 0, \"url\": \"https://trove.nla.gov.au/search/category/newspapers?keyword=text%3A%22darling%20wife%22%20date%3A%5B1850%20TO%201954%5D&l-decade=188&l-year=1886\", \"id\": \"Query 1\"}, {\"date\": \"1887-01-02\", \"total_results\": 0, \"total_articles\": 0, \"url\": \"https://trove.nla.gov.au/search/category/newspapers?keyword=text%3A%22darling%20wife%22%20date%3A%5B1850%20TO%201954%5D&l-decade=188&l-year=1887\", \"id\": \"Query 1\"}, {\"date\": \"1888-01-02\", \"total_results\": 0, \"total_articles\": 0, \"url\": \"https://trove.nla.gov.au/search/category/newspapers?keyword=text%3A%22darling%20wife%22%20date%3A%5B1850%20TO%201954%5D&l-decade=188&l-year=1888\", \"id\": \"Query 1\"}, {\"date\": \"1889-01-02\", \"total_results\": 0, \"total_articles\": 0, \"url\": \"https://trove.nla.gov.au/search/category/newspapers?keyword=text%3A%22darling%20wife%22%20date%3A%5B1850%20TO%201954%5D&l-decade=188&l-year=1889\", \"id\": \"Query 1\"}, {\"date\": \"1890-01-02\", \"total_results\": 0, \"total_articles\": 0, \"url\": \"https://trove.nla.gov.au/search/category/newspapers?keyword=text%3A%22darling%20wife%22%20date%3A%5B1850%20TO%201954%5D&l-decade=189&l-year=1890\", \"id\": \"Query 1\"}, {\"date\": \"1891-01-02\", \"total_results\": 0, \"total_articles\": 0, \"url\": \"https://trove.nla.gov.au/search/category/newspapers?keyword=text%3A%22darling%20wife%22%20date%3A%5B1850%20TO%201954%5D&l-decade=189&l-year=1891\", \"id\": \"Query 1\"}, {\"date\": \"1892-01-02\", \"total_results\": 0, \"total_articles\": 0, \"url\": \"https://trove.nla.gov.au/search/category/newspapers?keyword=text%3A%22darling%20wife%22%20date%3A%5B1850%20TO%201954%5D&l-decade=189&l-year=1892\", \"id\": \"Query 1\"}, {\"date\": \"1893-01-02\", \"total_results\": 0, \"total_articles\": 0, \"url\": \"https://trove.nla.gov.au/search/category/newspapers?keyword=text%3A%22darling%20wife%22%20date%3A%5B1850%20TO%201954%5D&l-decade=189&l-year=1893\", \"id\": \"Query 1\"}, {\"date\": \"1894-01-02\", \"total_results\": 0, \"total_articles\": 0, \"url\": \"https://trove.nla.gov.au/search/category/newspapers?keyword=text%3A%22darling%20wife%22%20date%3A%5B1850%20TO%201954%5D&l-decade=189&l-year=1894\", \"id\": \"Query 1\"}, {\"date\": \"1895-01-02\", \"total_results\": 0, \"total_articles\": 0, \"url\": \"https://trove.nla.gov.au/search/category/newspapers?keyword=text%3A%22darling%20wife%22%20date%3A%5B1850%20TO%201954%5D&l-decade=189&l-year=1895\", \"id\": \"Query 1\"}, {\"date\": \"1896-01-02\", \"total_results\": 0, \"total_articles\": 0, \"url\": \"https://trove.nla.gov.au/search/category/newspapers?keyword=text%3A%22darling%20wife%22%20date%3A%5B1850%20TO%201954%5D&l-decade=189&l-year=1896\", \"id\": \"Query 1\"}, {\"date\": \"1897-01-02\", \"total_results\": 0, \"total_articles\": 0, \"url\": \"https://trove.nla.gov.au/search/category/newspapers?keyword=text%3A%22darling%20wife%22%20date%3A%5B1850%20TO%201954%5D&l-decade=189&l-year=1897\", \"id\": \"Query 1\"}, {\"date\": \"1898-01-02\", \"total_results\": 0, \"total_articles\": 0, \"url\": \"https://trove.nla.gov.au/search/category/newspapers?keyword=text%3A%22darling%20wife%22%20date%3A%5B1850%20TO%201954%5D&l-decade=189&l-year=1898\", \"id\": \"Query 1\"}, {\"date\": \"1899-01-02\", \"total_results\": 0, \"total_articles\": 0, \"url\": \"https://trove.nla.gov.au/search/category/newspapers?keyword=text%3A%22darling%20wife%22%20date%3A%5B1850%20TO%201954%5D&l-decade=189&l-year=1899\", \"id\": \"Query 1\"}, {\"date\": \"1900-01-02\", \"total_results\": 0, \"total_articles\": 0, \"url\": \"https://trove.nla.gov.au/search/category/newspapers?keyword=text%3A%22darling%20wife%22%20date%3A%5B1850%20TO%201954%5D&l-decade=190&l-year=1900\", \"id\": \"Query 1\"}, {\"date\": \"1901-01-02\", \"total_results\": 0, \"total_articles\": 0, \"url\": \"https://trove.nla.gov.au/search/category/newspapers?keyword=text%3A%22darling%20wife%22%20date%3A%5B1850%20TO%201954%5D&l-decade=190&l-year=1901\", \"id\": \"Query 1\"}, {\"date\": \"1902-01-02\", \"total_results\": 0, \"total_articles\": 0, \"url\": \"https://trove.nla.gov.au/search/category/newspapers?keyword=text%3A%22darling%20wife%22%20date%3A%5B1850%20TO%201954%5D&l-decade=190&l-year=1902\", \"id\": \"Query 1\"}, {\"date\": \"1903-01-02\", \"total_results\": 0, \"total_articles\": 0, \"url\": \"https://trove.nla.gov.au/search/category/newspapers?keyword=text%3A%22darling%20wife%22%20date%3A%5B1850%20TO%201954%5D&l-decade=190&l-year=1903\", \"id\": \"Query 1\"}, {\"date\": \"1904-01-02\", \"total_results\": 0, \"total_articles\": 0, \"url\": \"https://trove.nla.gov.au/search/category/newspapers?keyword=text%3A%22darling%20wife%22%20date%3A%5B1850%20TO%201954%5D&l-decade=190&l-year=1904\", \"id\": \"Query 1\"}, {\"date\": \"1905-01-02\", \"total_results\": 0, \"total_articles\": 0, \"url\": \"https://trove.nla.gov.au/search/category/newspapers?keyword=text%3A%22darling%20wife%22%20date%3A%5B1850%20TO%201954%5D&l-decade=190&l-year=1905\", \"id\": \"Query 1\"}, {\"date\": \"1906-01-02\", \"total_results\": 0, \"total_articles\": 0, \"url\": \"https://trove.nla.gov.au/search/category/newspapers?keyword=text%3A%22darling%20wife%22%20date%3A%5B1850%20TO%201954%5D&l-decade=190&l-year=1906\", \"id\": \"Query 1\"}, {\"date\": \"1907-01-02\", \"total_results\": 0, \"total_articles\": 0, \"url\": \"https://trove.nla.gov.au/search/category/newspapers?keyword=text%3A%22darling%20wife%22%20date%3A%5B1850%20TO%201954%5D&l-decade=190&l-year=1907\", \"id\": \"Query 1\"}, {\"date\": \"1908-01-02\", \"total_results\": 0, \"total_articles\": 0, \"url\": \"https://trove.nla.gov.au/search/category/newspapers?keyword=text%3A%22darling%20wife%22%20date%3A%5B1850%20TO%201954%5D&l-decade=190&l-year=1908\", \"id\": \"Query 1\"}, {\"date\": \"1909-01-02\", \"total_results\": 0, \"total_articles\": 0, \"url\": \"https://trove.nla.gov.au/search/category/newspapers?keyword=text%3A%22darling%20wife%22%20date%3A%5B1850%20TO%201954%5D&l-decade=190&l-year=1909\", \"id\": \"Query 1\"}, {\"date\": \"1910-01-02\", \"total_results\": 0, \"total_articles\": 0, \"url\": \"https://trove.nla.gov.au/search/category/newspapers?keyword=text%3A%22darling%20wife%22%20date%3A%5B1850%20TO%201954%5D&l-decade=191&l-year=1910\", \"id\": \"Query 1\"}, {\"date\": \"1911-01-02\", \"total_results\": 0, \"total_articles\": 0, \"url\": \"https://trove.nla.gov.au/search/category/newspapers?keyword=text%3A%22darling%20wife%22%20date%3A%5B1850%20TO%201954%5D&l-decade=191&l-year=1911\", \"id\": \"Query 1\"}, {\"date\": \"1912-01-02\", \"total_results\": 0, \"total_articles\": 0, \"url\": \"https://trove.nla.gov.au/search/category/newspapers?keyword=text%3A%22darling%20wife%22%20date%3A%5B1850%20TO%201954%5D&l-decade=191&l-year=1912\", \"id\": \"Query 1\"}, {\"date\": \"1913-01-02\", \"total_results\": 0, \"total_articles\": 0, \"url\": \"https://trove.nla.gov.au/search/category/newspapers?keyword=text%3A%22darling%20wife%22%20date%3A%5B1850%20TO%201954%5D&l-decade=191&l-year=1913\", \"id\": \"Query 1\"}, {\"date\": \"1914-01-02\", \"total_results\": 0, \"total_articles\": 0, \"url\": \"https://trove.nla.gov.au/search/category/newspapers?keyword=text%3A%22darling%20wife%22%20date%3A%5B1850%20TO%201954%5D&l-decade=191&l-year=1914\", \"id\": \"Query 1\"}, {\"date\": \"1915-01-02\", \"total_results\": 0, \"total_articles\": 0, \"url\": \"https://trove.nla.gov.au/search/category/newspapers?keyword=text%3A%22darling%20wife%22%20date%3A%5B1850%20TO%201954%5D&l-decade=191&l-year=1915\", \"id\": \"Query 1\"}, {\"date\": \"1916-01-02\", \"total_results\": 0, \"total_articles\": 0, \"url\": \"https://trove.nla.gov.au/search/category/newspapers?keyword=text%3A%22darling%20wife%22%20date%3A%5B1850%20TO%201954%5D&l-decade=191&l-year=1916\", \"id\": \"Query 1\"}, {\"date\": \"1917-01-02\", \"total_results\": 0, \"total_articles\": 0, \"url\": \"https://trove.nla.gov.au/search/category/newspapers?keyword=text%3A%22darling%20wife%22%20date%3A%5B1850%20TO%201954%5D&l-decade=191&l-year=1917\", \"id\": \"Query 1\"}, {\"date\": \"1918-01-02\", \"total_results\": 0, \"total_articles\": 0, \"url\": \"https://trove.nla.gov.au/search/category/newspapers?keyword=text%3A%22darling%20wife%22%20date%3A%5B1850%20TO%201954%5D&l-decade=191&l-year=1918\", \"id\": \"Query 1\"}, {\"date\": \"1919-01-02\", \"total_results\": 0, \"total_articles\": 0, \"url\": \"https://trove.nla.gov.au/search/category/newspapers?keyword=text%3A%22darling%20wife%22%20date%3A%5B1850%20TO%201954%5D&l-decade=191&l-year=1919\", \"id\": \"Query 1\"}, {\"date\": \"1920-01-02\", \"total_results\": 0, \"total_articles\": 0, \"url\": \"https://trove.nla.gov.au/search/category/newspapers?keyword=text%3A%22darling%20wife%22%20date%3A%5B1850%20TO%201954%5D&l-decade=192&l-year=1920\", \"id\": \"Query 1\"}, {\"date\": \"1921-01-02\", \"total_results\": 0, \"total_articles\": 0, \"url\": \"https://trove.nla.gov.au/search/category/newspapers?keyword=text%3A%22darling%20wife%22%20date%3A%5B1850%20TO%201954%5D&l-decade=192&l-year=1921\", \"id\": \"Query 1\"}, {\"date\": \"1922-01-02\", \"total_results\": 0, \"total_articles\": 0, \"url\": \"https://trove.nla.gov.au/search/category/newspapers?keyword=text%3A%22darling%20wife%22%20date%3A%5B1850%20TO%201954%5D&l-decade=192&l-year=1922\", \"id\": \"Query 1\"}, {\"date\": \"1923-01-02\", \"total_results\": 0, \"total_articles\": 0, \"url\": \"https://trove.nla.gov.au/search/category/newspapers?keyword=text%3A%22darling%20wife%22%20date%3A%5B1850%20TO%201954%5D&l-decade=192&l-year=1923\", \"id\": \"Query 1\"}, {\"date\": \"1924-01-02\", \"total_results\": 0, \"total_articles\": 0, \"url\": \"https://trove.nla.gov.au/search/category/newspapers?keyword=text%3A%22darling%20wife%22%20date%3A%5B1850%20TO%201954%5D&l-decade=192&l-year=1924\", \"id\": \"Query 1\"}, {\"date\": \"1925-01-02\", \"total_results\": 0, \"total_articles\": 0, \"url\": \"https://trove.nla.gov.au/search/category/newspapers?keyword=text%3A%22darling%20wife%22%20date%3A%5B1850%20TO%201954%5D&l-decade=192&l-year=1925\", \"id\": \"Query 1\"}, {\"date\": \"1926-01-02\", \"total_results\": 0, \"total_articles\": 0, \"url\": \"https://trove.nla.gov.au/search/category/newspapers?keyword=text%3A%22darling%20wife%22%20date%3A%5B1850%20TO%201954%5D&l-decade=192&l-year=1926\", \"id\": \"Query 1\"}, {\"date\": \"1927-01-02\", \"total_results\": 0, \"total_articles\": 0, \"url\": \"https://trove.nla.gov.au/search/category/newspapers?keyword=text%3A%22darling%20wife%22%20date%3A%5B1850%20TO%201954%5D&l-decade=192&l-year=1927\", \"id\": \"Query 1\"}, {\"date\": \"1928-01-02\", \"total_results\": 0, \"total_articles\": 0, \"url\": \"https://trove.nla.gov.au/search/category/newspapers?keyword=text%3A%22darling%20wife%22%20date%3A%5B1850%20TO%201954%5D&l-decade=192&l-year=1928\", \"id\": \"Query 1\"}, {\"date\": \"1929-01-02\", \"total_results\": 0, \"total_articles\": 0, \"url\": \"https://trove.nla.gov.au/search/category/newspapers?keyword=text%3A%22darling%20wife%22%20date%3A%5B1850%20TO%201954%5D&l-decade=192&l-year=1929\", \"id\": \"Query 1\"}, {\"date\": \"1930-01-02\", \"total_results\": 0, \"total_articles\": 0, \"url\": \"https://trove.nla.gov.au/search/category/newspapers?keyword=text%3A%22darling%20wife%22%20date%3A%5B1850%20TO%201954%5D&l-decade=193&l-year=1930\", \"id\": \"Query 1\"}, {\"date\": \"1931-01-02\", \"total_results\": 0, \"total_articles\": 0, \"url\": \"https://trove.nla.gov.au/search/category/newspapers?keyword=text%3A%22darling%20wife%22%20date%3A%5B1850%20TO%201954%5D&l-decade=193&l-year=1931\", \"id\": \"Query 1\"}, {\"date\": \"1932-01-02\", \"total_results\": 0, \"total_articles\": 0, \"url\": \"https://trove.nla.gov.au/search/category/newspapers?keyword=text%3A%22darling%20wife%22%20date%3A%5B1850%20TO%201954%5D&l-decade=193&l-year=1932\", \"id\": \"Query 1\"}, {\"date\": \"1933-01-02\", \"total_results\": 0, \"total_articles\": 0, \"url\": \"https://trove.nla.gov.au/search/category/newspapers?keyword=text%3A%22darling%20wife%22%20date%3A%5B1850%20TO%201954%5D&l-decade=193&l-year=1933\", \"id\": \"Query 1\"}, {\"date\": \"1934-01-02\", \"total_results\": 0, \"total_articles\": 0, \"url\": \"https://trove.nla.gov.au/search/category/newspapers?keyword=text%3A%22darling%20wife%22%20date%3A%5B1850%20TO%201954%5D&l-decade=193&l-year=1934\", \"id\": \"Query 1\"}, {\"date\": \"1935-01-02\", \"total_results\": 0, \"total_articles\": 0, \"url\": \"https://trove.nla.gov.au/search/category/newspapers?keyword=text%3A%22darling%20wife%22%20date%3A%5B1850%20TO%201954%5D&l-decade=193&l-year=1935\", \"id\": \"Query 1\"}, {\"date\": \"1936-01-02\", \"total_results\": 0, \"total_articles\": 0, \"url\": \"https://trove.nla.gov.au/search/category/newspapers?keyword=text%3A%22darling%20wife%22%20date%3A%5B1850%20TO%201954%5D&l-decade=193&l-year=1936\", \"id\": \"Query 1\"}, {\"date\": \"1937-01-02\", \"total_results\": 0, \"total_articles\": 0, \"url\": \"https://trove.nla.gov.au/search/category/newspapers?keyword=text%3A%22darling%20wife%22%20date%3A%5B1850%20TO%201954%5D&l-decade=193&l-year=1937\", \"id\": \"Query 1\"}, {\"date\": \"1938-01-02\", \"total_results\": 0, \"total_articles\": 0, \"url\": \"https://trove.nla.gov.au/search/category/newspapers?keyword=text%3A%22darling%20wife%22%20date%3A%5B1850%20TO%201954%5D&l-decade=193&l-year=1938\", \"id\": \"Query 1\"}, {\"date\": \"1939-01-02\", \"total_results\": 0, \"total_articles\": 0, \"url\": \"https://trove.nla.gov.au/search/category/newspapers?keyword=text%3A%22darling%20wife%22%20date%3A%5B1850%20TO%201954%5D&l-decade=193&l-year=1939\", \"id\": \"Query 1\"}, {\"date\": \"1940-01-02\", \"total_results\": 0, \"total_articles\": 0, \"url\": \"https://trove.nla.gov.au/search/category/newspapers?keyword=text%3A%22darling%20wife%22%20date%3A%5B1850%20TO%201954%5D&l-decade=194&l-year=1940\", \"id\": \"Query 1\"}, {\"date\": \"1941-01-02\", \"total_results\": 0, \"total_articles\": 0, \"url\": \"https://trove.nla.gov.au/search/category/newspapers?keyword=text%3A%22darling%20wife%22%20date%3A%5B1850%20TO%201954%5D&l-decade=194&l-year=1941\", \"id\": \"Query 1\"}, {\"date\": \"1942-01-02\", \"total_results\": 0, \"total_articles\": 0, \"url\": \"https://trove.nla.gov.au/search/category/newspapers?keyword=text%3A%22darling%20wife%22%20date%3A%5B1850%20TO%201954%5D&l-decade=194&l-year=1942\", \"id\": \"Query 1\"}, {\"date\": \"1943-01-02\", \"total_results\": 0, \"total_articles\": 0, \"url\": \"https://trove.nla.gov.au/search/category/newspapers?keyword=text%3A%22darling%20wife%22%20date%3A%5B1850%20TO%201954%5D&l-decade=194&l-year=1943\", \"id\": \"Query 1\"}, {\"date\": \"1944-01-02\", \"total_results\": 0, \"total_articles\": 0, \"url\": \"https://trove.nla.gov.au/search/category/newspapers?keyword=text%3A%22darling%20wife%22%20date%3A%5B1850%20TO%201954%5D&l-decade=194&l-year=1944\", \"id\": \"Query 1\"}, {\"date\": \"1945-01-02\", \"total_results\": 0, \"total_articles\": 0, \"url\": \"https://trove.nla.gov.au/search/category/newspapers?keyword=text%3A%22darling%20wife%22%20date%3A%5B1850%20TO%201954%5D&l-decade=194&l-year=1945\", \"id\": \"Query 1\"}, {\"date\": \"1946-01-02\", \"total_results\": 0, \"total_articles\": 0, \"url\": \"https://trove.nla.gov.au/search/category/newspapers?keyword=text%3A%22darling%20wife%22%20date%3A%5B1850%20TO%201954%5D&l-decade=194&l-year=1946\", \"id\": \"Query 1\"}, {\"date\": \"1947-01-02\", \"total_results\": 0, \"total_articles\": 0, \"url\": \"https://trove.nla.gov.au/search/category/newspapers?keyword=text%3A%22darling%20wife%22%20date%3A%5B1850%20TO%201954%5D&l-decade=194&l-year=1947\", \"id\": \"Query 1\"}, {\"date\": \"1948-01-02\", \"total_results\": 0, \"total_articles\": 0, \"url\": \"https://trove.nla.gov.au/search/category/newspapers?keyword=text%3A%22darling%20wife%22%20date%3A%5B1850%20TO%201954%5D&l-decade=194&l-year=1948\", \"id\": \"Query 1\"}, {\"date\": \"1949-01-02\", \"total_results\": 0, \"total_articles\": 0, \"url\": \"https://trove.nla.gov.au/search/category/newspapers?keyword=text%3A%22darling%20wife%22%20date%3A%5B1850%20TO%201954%5D&l-decade=194&l-year=1949\", \"id\": \"Query 1\"}, {\"date\": \"1950-01-02\", \"total_results\": 0, \"total_articles\": 0, \"url\": \"https://trove.nla.gov.au/search/category/newspapers?keyword=text%3A%22darling%20wife%22%20date%3A%5B1850%20TO%201954%5D&l-decade=195&l-year=1950\", \"id\": \"Query 1\"}, {\"date\": \"1951-01-02\", \"total_results\": 0, \"total_articles\": 0, \"url\": \"https://trove.nla.gov.au/search/category/newspapers?keyword=text%3A%22darling%20wife%22%20date%3A%5B1850%20TO%201954%5D&l-decade=195&l-year=1951\", \"id\": \"Query 1\"}, {\"date\": \"1952-01-02\", \"total_results\": 0, \"total_articles\": 0, \"url\": \"https://trove.nla.gov.au/search/category/newspapers?keyword=text%3A%22darling%20wife%22%20date%3A%5B1850%20TO%201954%5D&l-decade=195&l-year=1952\", \"id\": \"Query 1\"}, {\"date\": \"1953-01-02\", \"total_results\": 0, \"total_articles\": 0, \"url\": \"https://trove.nla.gov.au/search/category/newspapers?keyword=text%3A%22darling%20wife%22%20date%3A%5B1850%20TO%201954%5D&l-decade=195&l-year=1953\", \"id\": \"Query 1\"}, {\"date\": \"1850-01-02\", \"total_results\": 0, \"total_articles\": 0, \"url\": \"https://trove.nla.gov.au/search/category/newspapers?keyword=text%3A%22darling%20wife%22%20date%3A%5B1850%20TO%201954%5D&l-decade=185&l-year=1850\", \"id\": \"Query 2\"}, {\"date\": \"1851-01-02\", \"total_results\": 0, \"total_articles\": 0, \"url\": \"https://trove.nla.gov.au/search/category/newspapers?keyword=text%3A%22darling%20wife%22%20date%3A%5B1850%20TO%201954%5D&l-decade=185&l-year=1851\", \"id\": \"Query 2\"}, {\"date\": \"1852-01-02\", \"total_results\": 0, \"total_articles\": 0, \"url\": \"https://trove.nla.gov.au/search/category/newspapers?keyword=text%3A%22darling%20wife%22%20date%3A%5B1850%20TO%201954%5D&l-decade=185&l-year=1852\", \"id\": \"Query 2\"}, {\"date\": \"1853-01-02\", \"total_results\": 0, \"total_articles\": 0, \"url\": \"https://trove.nla.gov.au/search/category/newspapers?keyword=text%3A%22darling%20wife%22%20date%3A%5B1850%20TO%201954%5D&l-decade=185&l-year=1853\", \"id\": \"Query 2\"}, {\"date\": \"1854-01-02\", \"total_results\": 0, \"total_articles\": 0, \"url\": \"https://trove.nla.gov.au/search/category/newspapers?keyword=text%3A%22darling%20wife%22%20date%3A%5B1850%20TO%201954%5D&l-decade=185&l-year=1854\", \"id\": \"Query 2\"}, {\"date\": \"1855-01-02\", \"total_results\": 0, \"total_articles\": 0, \"url\": \"https://trove.nla.gov.au/search/category/newspapers?keyword=text%3A%22darling%20wife%22%20date%3A%5B1850%20TO%201954%5D&l-decade=185&l-year=1855\", \"id\": \"Query 2\"}, {\"date\": \"1856-01-02\", \"total_results\": 0, \"total_articles\": 0, \"url\": \"https://trove.nla.gov.au/search/category/newspapers?keyword=text%3A%22darling%20wife%22%20date%3A%5B1850%20TO%201954%5D&l-decade=185&l-year=1856\", \"id\": \"Query 2\"}, {\"date\": \"1857-01-02\", \"total_results\": 0, \"total_articles\": 0, \"url\": \"https://trove.nla.gov.au/search/category/newspapers?keyword=text%3A%22darling%20wife%22%20date%3A%5B1850%20TO%201954%5D&l-decade=185&l-year=1857\", \"id\": \"Query 2\"}, {\"date\": \"1858-01-02\", \"total_results\": 0, \"total_articles\": 0, \"url\": \"https://trove.nla.gov.au/search/category/newspapers?keyword=text%3A%22darling%20wife%22%20date%3A%5B1850%20TO%201954%5D&l-decade=185&l-year=1858\", \"id\": \"Query 2\"}, {\"date\": \"1859-01-02\", \"total_results\": 0, \"total_articles\": 0, \"url\": \"https://trove.nla.gov.au/search/category/newspapers?keyword=text%3A%22darling%20wife%22%20date%3A%5B1850%20TO%201954%5D&l-decade=185&l-year=1859\", \"id\": \"Query 2\"}, {\"date\": \"1860-01-02\", \"total_results\": 0, \"total_articles\": 0, \"url\": \"https://trove.nla.gov.au/search/category/newspapers?keyword=text%3A%22darling%20wife%22%20date%3A%5B1850%20TO%201954%5D&l-decade=186&l-year=1860\", \"id\": \"Query 2\"}, {\"date\": \"1861-01-02\", \"total_results\": 0, \"total_articles\": 0, \"url\": \"https://trove.nla.gov.au/search/category/newspapers?keyword=text%3A%22darling%20wife%22%20date%3A%5B1850%20TO%201954%5D&l-decade=186&l-year=1861\", \"id\": \"Query 2\"}, {\"date\": \"1862-01-02\", \"total_results\": 0, \"total_articles\": 0, \"url\": \"https://trove.nla.gov.au/search/category/newspapers?keyword=text%3A%22darling%20wife%22%20date%3A%5B1850%20TO%201954%5D&l-decade=186&l-year=1862\", \"id\": \"Query 2\"}, {\"date\": \"1863-01-02\", \"total_results\": 0, \"total_articles\": 0, \"url\": \"https://trove.nla.gov.au/search/category/newspapers?keyword=text%3A%22darling%20wife%22%20date%3A%5B1850%20TO%201954%5D&l-decade=186&l-year=1863\", \"id\": \"Query 2\"}, {\"date\": \"1864-01-02\", \"total_results\": 0, \"total_articles\": 0, \"url\": \"https://trove.nla.gov.au/search/category/newspapers?keyword=text%3A%22darling%20wife%22%20date%3A%5B1850%20TO%201954%5D&l-decade=186&l-year=1864\", \"id\": \"Query 2\"}, {\"date\": \"1865-01-02\", \"total_results\": 0, \"total_articles\": 0, \"url\": \"https://trove.nla.gov.au/search/category/newspapers?keyword=text%3A%22darling%20wife%22%20date%3A%5B1850%20TO%201954%5D&l-decade=186&l-year=1865\", \"id\": \"Query 2\"}, {\"date\": \"1866-01-02\", \"total_results\": 0, \"total_articles\": 0, \"url\": \"https://trove.nla.gov.au/search/category/newspapers?keyword=text%3A%22darling%20wife%22%20date%3A%5B1850%20TO%201954%5D&l-decade=186&l-year=1866\", \"id\": \"Query 2\"}, {\"date\": \"1867-01-02\", \"total_results\": 0, \"total_articles\": 0, \"url\": \"https://trove.nla.gov.au/search/category/newspapers?keyword=text%3A%22darling%20wife%22%20date%3A%5B1850%20TO%201954%5D&l-decade=186&l-year=1867\", \"id\": \"Query 2\"}, {\"date\": \"1868-01-02\", \"total_results\": 0, \"total_articles\": 0, \"url\": \"https://trove.nla.gov.au/search/category/newspapers?keyword=text%3A%22darling%20wife%22%20date%3A%5B1850%20TO%201954%5D&l-decade=186&l-year=1868\", \"id\": \"Query 2\"}, {\"date\": \"1869-01-02\", \"total_results\": 0, \"total_articles\": 0, \"url\": \"https://trove.nla.gov.au/search/category/newspapers?keyword=text%3A%22darling%20wife%22%20date%3A%5B1850%20TO%201954%5D&l-decade=186&l-year=1869\", \"id\": \"Query 2\"}, {\"date\": \"1870-01-02\", \"total_results\": 0, \"total_articles\": 0, \"url\": \"https://trove.nla.gov.au/search/category/newspapers?keyword=text%3A%22darling%20wife%22%20date%3A%5B1850%20TO%201954%5D&l-decade=187&l-year=1870\", \"id\": \"Query 2\"}, {\"date\": \"1871-01-02\", \"total_results\": 0, \"total_articles\": 0, \"url\": \"https://trove.nla.gov.au/search/category/newspapers?keyword=text%3A%22darling%20wife%22%20date%3A%5B1850%20TO%201954%5D&l-decade=187&l-year=1871\", \"id\": \"Query 2\"}, {\"date\": \"1872-01-02\", \"total_results\": 0, \"total_articles\": 0, \"url\": \"https://trove.nla.gov.au/search/category/newspapers?keyword=text%3A%22darling%20wife%22%20date%3A%5B1850%20TO%201954%5D&l-decade=187&l-year=1872\", \"id\": \"Query 2\"}, {\"date\": \"1873-01-02\", \"total_results\": 0, \"total_articles\": 0, \"url\": \"https://trove.nla.gov.au/search/category/newspapers?keyword=text%3A%22darling%20wife%22%20date%3A%5B1850%20TO%201954%5D&l-decade=187&l-year=1873\", \"id\": \"Query 2\"}, {\"date\": \"1874-01-02\", \"total_results\": 0, \"total_articles\": 0, \"url\": \"https://trove.nla.gov.au/search/category/newspapers?keyword=text%3A%22darling%20wife%22%20date%3A%5B1850%20TO%201954%5D&l-decade=187&l-year=1874\", \"id\": \"Query 2\"}, {\"date\": \"1875-01-02\", \"total_results\": 0, \"total_articles\": 0, \"url\": \"https://trove.nla.gov.au/search/category/newspapers?keyword=text%3A%22darling%20wife%22%20date%3A%5B1850%20TO%201954%5D&l-decade=187&l-year=1875\", \"id\": \"Query 2\"}, {\"date\": \"1876-01-02\", \"total_results\": 0, \"total_articles\": 0, \"url\": \"https://trove.nla.gov.au/search/category/newspapers?keyword=text%3A%22darling%20wife%22%20date%3A%5B1850%20TO%201954%5D&l-decade=187&l-year=1876\", \"id\": \"Query 2\"}, {\"date\": \"1877-01-02\", \"total_results\": 0, \"total_articles\": 0, \"url\": \"https://trove.nla.gov.au/search/category/newspapers?keyword=text%3A%22darling%20wife%22%20date%3A%5B1850%20TO%201954%5D&l-decade=187&l-year=1877\", \"id\": \"Query 2\"}, {\"date\": \"1878-01-02\", \"total_results\": 0, \"total_articles\": 0, \"url\": \"https://trove.nla.gov.au/search/category/newspapers?keyword=text%3A%22darling%20wife%22%20date%3A%5B1850%20TO%201954%5D&l-decade=187&l-year=1878\", \"id\": \"Query 2\"}, {\"date\": \"1879-01-02\", \"total_results\": 0, \"total_articles\": 0, \"url\": \"https://trove.nla.gov.au/search/category/newspapers?keyword=text%3A%22darling%20wife%22%20date%3A%5B1850%20TO%201954%5D&l-decade=187&l-year=1879\", \"id\": \"Query 2\"}, {\"date\": \"1880-01-02\", \"total_results\": 0, \"total_articles\": 0, \"url\": \"https://trove.nla.gov.au/search/category/newspapers?keyword=text%3A%22darling%20wife%22%20date%3A%5B1850%20TO%201954%5D&l-decade=188&l-year=1880\", \"id\": \"Query 2\"}, {\"date\": \"1881-01-02\", \"total_results\": 0, \"total_articles\": 0, \"url\": \"https://trove.nla.gov.au/search/category/newspapers?keyword=text%3A%22darling%20wife%22%20date%3A%5B1850%20TO%201954%5D&l-decade=188&l-year=1881\", \"id\": \"Query 2\"}, {\"date\": \"1882-01-02\", \"total_results\": 0, \"total_articles\": 0, \"url\": \"https://trove.nla.gov.au/search/category/newspapers?keyword=text%3A%22darling%20wife%22%20date%3A%5B1850%20TO%201954%5D&l-decade=188&l-year=1882\", \"id\": \"Query 2\"}, {\"date\": \"1883-01-02\", \"total_results\": 0, \"total_articles\": 0, \"url\": \"https://trove.nla.gov.au/search/category/newspapers?keyword=text%3A%22darling%20wife%22%20date%3A%5B1850%20TO%201954%5D&l-decade=188&l-year=1883\", \"id\": \"Query 2\"}, {\"date\": \"1884-01-02\", \"total_results\": 0, \"total_articles\": 0, \"url\": \"https://trove.nla.gov.au/search/category/newspapers?keyword=text%3A%22darling%20wife%22%20date%3A%5B1850%20TO%201954%5D&l-decade=188&l-year=1884\", \"id\": \"Query 2\"}, {\"date\": \"1885-01-02\", \"total_results\": 0, \"total_articles\": 0, \"url\": \"https://trove.nla.gov.au/search/category/newspapers?keyword=text%3A%22darling%20wife%22%20date%3A%5B1850%20TO%201954%5D&l-decade=188&l-year=1885\", \"id\": \"Query 2\"}, {\"date\": \"1886-01-02\", \"total_results\": 0, \"total_articles\": 0, \"url\": \"https://trove.nla.gov.au/search/category/newspapers?keyword=text%3A%22darling%20wife%22%20date%3A%5B1850%20TO%201954%5D&l-decade=188&l-year=1886\", \"id\": \"Query 2\"}, {\"date\": \"1887-01-02\", \"total_results\": 0, \"total_articles\": 0, \"url\": \"https://trove.nla.gov.au/search/category/newspapers?keyword=text%3A%22darling%20wife%22%20date%3A%5B1850%20TO%201954%5D&l-decade=188&l-year=1887\", \"id\": \"Query 2\"}, {\"date\": \"1888-01-02\", \"total_results\": 0, \"total_articles\": 0, \"url\": \"https://trove.nla.gov.au/search/category/newspapers?keyword=text%3A%22darling%20wife%22%20date%3A%5B1850%20TO%201954%5D&l-decade=188&l-year=1888\", \"id\": \"Query 2\"}, {\"date\": \"1889-01-02\", \"total_results\": 0, \"total_articles\": 0, \"url\": \"https://trove.nla.gov.au/search/category/newspapers?keyword=text%3A%22darling%20wife%22%20date%3A%5B1850%20TO%201954%5D&l-decade=188&l-year=1889\", \"id\": \"Query 2\"}, {\"date\": \"1890-01-02\", \"total_results\": 0, \"total_articles\": 0, \"url\": \"https://trove.nla.gov.au/search/category/newspapers?keyword=text%3A%22darling%20wife%22%20date%3A%5B1850%20TO%201954%5D&l-decade=189&l-year=1890\", \"id\": \"Query 2\"}, {\"date\": \"1891-01-02\", \"total_results\": 0, \"total_articles\": 0, \"url\": \"https://trove.nla.gov.au/search/category/newspapers?keyword=text%3A%22darling%20wife%22%20date%3A%5B1850%20TO%201954%5D&l-decade=189&l-year=1891\", \"id\": \"Query 2\"}, {\"date\": \"1892-01-02\", \"total_results\": 0, \"total_articles\": 0, \"url\": \"https://trove.nla.gov.au/search/category/newspapers?keyword=text%3A%22darling%20wife%22%20date%3A%5B1850%20TO%201954%5D&l-decade=189&l-year=1892\", \"id\": \"Query 2\"}, {\"date\": \"1893-01-02\", \"total_results\": 0, \"total_articles\": 0, \"url\": \"https://trove.nla.gov.au/search/category/newspapers?keyword=text%3A%22darling%20wife%22%20date%3A%5B1850%20TO%201954%5D&l-decade=189&l-year=1893\", \"id\": \"Query 2\"}, {\"date\": \"1894-01-02\", \"total_results\": 0, \"total_articles\": 0, \"url\": \"https://trove.nla.gov.au/search/category/newspapers?keyword=text%3A%22darling%20wife%22%20date%3A%5B1850%20TO%201954%5D&l-decade=189&l-year=1894\", \"id\": \"Query 2\"}, {\"date\": \"1895-01-02\", \"total_results\": 0, \"total_articles\": 0, \"url\": \"https://trove.nla.gov.au/search/category/newspapers?keyword=text%3A%22darling%20wife%22%20date%3A%5B1850%20TO%201954%5D&l-decade=189&l-year=1895\", \"id\": \"Query 2\"}, {\"date\": \"1896-01-02\", \"total_results\": 0, \"total_articles\": 0, \"url\": \"https://trove.nla.gov.au/search/category/newspapers?keyword=text%3A%22darling%20wife%22%20date%3A%5B1850%20TO%201954%5D&l-decade=189&l-year=1896\", \"id\": \"Query 2\"}, {\"date\": \"1897-01-02\", \"total_results\": 0, \"total_articles\": 0, \"url\": \"https://trove.nla.gov.au/search/category/newspapers?keyword=text%3A%22darling%20wife%22%20date%3A%5B1850%20TO%201954%5D&l-decade=189&l-year=1897\", \"id\": \"Query 2\"}, {\"date\": \"1898-01-02\", \"total_results\": 0, \"total_articles\": 0, \"url\": \"https://trove.nla.gov.au/search/category/newspapers?keyword=text%3A%22darling%20wife%22%20date%3A%5B1850%20TO%201954%5D&l-decade=189&l-year=1898\", \"id\": \"Query 2\"}, {\"date\": \"1899-01-02\", \"total_results\": 0, \"total_articles\": 0, \"url\": \"https://trove.nla.gov.au/search/category/newspapers?keyword=text%3A%22darling%20wife%22%20date%3A%5B1850%20TO%201954%5D&l-decade=189&l-year=1899\", \"id\": \"Query 2\"}, {\"date\": \"1900-01-02\", \"total_results\": 0, \"total_articles\": 0, \"url\": \"https://trove.nla.gov.au/search/category/newspapers?keyword=text%3A%22darling%20wife%22%20date%3A%5B1850%20TO%201954%5D&l-decade=190&l-year=1900\", \"id\": \"Query 2\"}, {\"date\": \"1901-01-02\", \"total_results\": 0, \"total_articles\": 0, \"url\": \"https://trove.nla.gov.au/search/category/newspapers?keyword=text%3A%22darling%20wife%22%20date%3A%5B1850%20TO%201954%5D&l-decade=190&l-year=1901\", \"id\": \"Query 2\"}, {\"date\": \"1902-01-02\", \"total_results\": 0, \"total_articles\": 0, \"url\": \"https://trove.nla.gov.au/search/category/newspapers?keyword=text%3A%22darling%20wife%22%20date%3A%5B1850%20TO%201954%5D&l-decade=190&l-year=1902\", \"id\": \"Query 2\"}, {\"date\": \"1903-01-02\", \"total_results\": 0, \"total_articles\": 0, \"url\": \"https://trove.nla.gov.au/search/category/newspapers?keyword=text%3A%22darling%20wife%22%20date%3A%5B1850%20TO%201954%5D&l-decade=190&l-year=1903\", \"id\": \"Query 2\"}, {\"date\": \"1904-01-02\", \"total_results\": 0, \"total_articles\": 0, \"url\": \"https://trove.nla.gov.au/search/category/newspapers?keyword=text%3A%22darling%20wife%22%20date%3A%5B1850%20TO%201954%5D&l-decade=190&l-year=1904\", \"id\": \"Query 2\"}, {\"date\": \"1905-01-02\", \"total_results\": 0, \"total_articles\": 0, \"url\": \"https://trove.nla.gov.au/search/category/newspapers?keyword=text%3A%22darling%20wife%22%20date%3A%5B1850%20TO%201954%5D&l-decade=190&l-year=1905\", \"id\": \"Query 2\"}, {\"date\": \"1906-01-02\", \"total_results\": 0, \"total_articles\": 0, \"url\": \"https://trove.nla.gov.au/search/category/newspapers?keyword=text%3A%22darling%20wife%22%20date%3A%5B1850%20TO%201954%5D&l-decade=190&l-year=1906\", \"id\": \"Query 2\"}, {\"date\": \"1907-01-02\", \"total_results\": 0, \"total_articles\": 0, \"url\": \"https://trove.nla.gov.au/search/category/newspapers?keyword=text%3A%22darling%20wife%22%20date%3A%5B1850%20TO%201954%5D&l-decade=190&l-year=1907\", \"id\": \"Query 2\"}, {\"date\": \"1908-01-02\", \"total_results\": 0, \"total_articles\": 0, \"url\": \"https://trove.nla.gov.au/search/category/newspapers?keyword=text%3A%22darling%20wife%22%20date%3A%5B1850%20TO%201954%5D&l-decade=190&l-year=1908\", \"id\": \"Query 2\"}, {\"date\": \"1909-01-02\", \"total_results\": 0, \"total_articles\": 0, \"url\": \"https://trove.nla.gov.au/search/category/newspapers?keyword=text%3A%22darling%20wife%22%20date%3A%5B1850%20TO%201954%5D&l-decade=190&l-year=1909\", \"id\": \"Query 2\"}, {\"date\": \"1910-01-02\", \"total_results\": 0, \"total_articles\": 0, \"url\": \"https://trove.nla.gov.au/search/category/newspapers?keyword=text%3A%22darling%20wife%22%20date%3A%5B1850%20TO%201954%5D&l-decade=191&l-year=1910\", \"id\": \"Query 2\"}, {\"date\": \"1911-01-02\", \"total_results\": 0, \"total_articles\": 0, \"url\": \"https://trove.nla.gov.au/search/category/newspapers?keyword=text%3A%22darling%20wife%22%20date%3A%5B1850%20TO%201954%5D&l-decade=191&l-year=1911\", \"id\": \"Query 2\"}, {\"date\": \"1912-01-02\", \"total_results\": 0, \"total_articles\": 0, \"url\": \"https://trove.nla.gov.au/search/category/newspapers?keyword=text%3A%22darling%20wife%22%20date%3A%5B1850%20TO%201954%5D&l-decade=191&l-year=1912\", \"id\": \"Query 2\"}, {\"date\": \"1913-01-02\", \"total_results\": 0, \"total_articles\": 0, \"url\": \"https://trove.nla.gov.au/search/category/newspapers?keyword=text%3A%22darling%20wife%22%20date%3A%5B1850%20TO%201954%5D&l-decade=191&l-year=1913\", \"id\": \"Query 2\"}, {\"date\": \"1914-01-02\", \"total_results\": 0, \"total_articles\": 0, \"url\": \"https://trove.nla.gov.au/search/category/newspapers?keyword=text%3A%22darling%20wife%22%20date%3A%5B1850%20TO%201954%5D&l-decade=191&l-year=1914\", \"id\": \"Query 2\"}, {\"date\": \"1915-01-02\", \"total_results\": 0, \"total_articles\": 0, \"url\": \"https://trove.nla.gov.au/search/category/newspapers?keyword=text%3A%22darling%20wife%22%20date%3A%5B1850%20TO%201954%5D&l-decade=191&l-year=1915\", \"id\": \"Query 2\"}, {\"date\": \"1916-01-02\", \"total_results\": 0, \"total_articles\": 0, \"url\": \"https://trove.nla.gov.au/search/category/newspapers?keyword=text%3A%22darling%20wife%22%20date%3A%5B1850%20TO%201954%5D&l-decade=191&l-year=1916\", \"id\": \"Query 2\"}, {\"date\": \"1917-01-02\", \"total_results\": 0, \"total_articles\": 0, \"url\": \"https://trove.nla.gov.au/search/category/newspapers?keyword=text%3A%22darling%20wife%22%20date%3A%5B1850%20TO%201954%5D&l-decade=191&l-year=1917\", \"id\": \"Query 2\"}, {\"date\": \"1918-01-02\", \"total_results\": 0, \"total_articles\": 0, \"url\": \"https://trove.nla.gov.au/search/category/newspapers?keyword=text%3A%22darling%20wife%22%20date%3A%5B1850%20TO%201954%5D&l-decade=191&l-year=1918\", \"id\": \"Query 2\"}, {\"date\": \"1919-01-02\", \"total_results\": 0, \"total_articles\": 0, \"url\": \"https://trove.nla.gov.au/search/category/newspapers?keyword=text%3A%22darling%20wife%22%20date%3A%5B1850%20TO%201954%5D&l-decade=191&l-year=1919\", \"id\": \"Query 2\"}, {\"date\": \"1920-01-02\", \"total_results\": 0, \"total_articles\": 0, \"url\": \"https://trove.nla.gov.au/search/category/newspapers?keyword=text%3A%22darling%20wife%22%20date%3A%5B1850%20TO%201954%5D&l-decade=192&l-year=1920\", \"id\": \"Query 2\"}, {\"date\": \"1921-01-02\", \"total_results\": 0, \"total_articles\": 0, \"url\": \"https://trove.nla.gov.au/search/category/newspapers?keyword=text%3A%22darling%20wife%22%20date%3A%5B1850%20TO%201954%5D&l-decade=192&l-year=1921\", \"id\": \"Query 2\"}, {\"date\": \"1922-01-02\", \"total_results\": 0, \"total_articles\": 0, \"url\": \"https://trove.nla.gov.au/search/category/newspapers?keyword=text%3A%22darling%20wife%22%20date%3A%5B1850%20TO%201954%5D&l-decade=192&l-year=1922\", \"id\": \"Query 2\"}, {\"date\": \"1923-01-02\", \"total_results\": 0, \"total_articles\": 0, \"url\": \"https://trove.nla.gov.au/search/category/newspapers?keyword=text%3A%22darling%20wife%22%20date%3A%5B1850%20TO%201954%5D&l-decade=192&l-year=1923\", \"id\": \"Query 2\"}, {\"date\": \"1924-01-02\", \"total_results\": 0, \"total_articles\": 0, \"url\": \"https://trove.nla.gov.au/search/category/newspapers?keyword=text%3A%22darling%20wife%22%20date%3A%5B1850%20TO%201954%5D&l-decade=192&l-year=1924\", \"id\": \"Query 2\"}, {\"date\": \"1925-01-02\", \"total_results\": 0, \"total_articles\": 0, \"url\": \"https://trove.nla.gov.au/search/category/newspapers?keyword=text%3A%22darling%20wife%22%20date%3A%5B1850%20TO%201954%5D&l-decade=192&l-year=1925\", \"id\": \"Query 2\"}, {\"date\": \"1926-01-02\", \"total_results\": 0, \"total_articles\": 0, \"url\": \"https://trove.nla.gov.au/search/category/newspapers?keyword=text%3A%22darling%20wife%22%20date%3A%5B1850%20TO%201954%5D&l-decade=192&l-year=1926\", \"id\": \"Query 2\"}, {\"date\": \"1927-01-02\", \"total_results\": 0, \"total_articles\": 0, \"url\": \"https://trove.nla.gov.au/search/category/newspapers?keyword=text%3A%22darling%20wife%22%20date%3A%5B1850%20TO%201954%5D&l-decade=192&l-year=1927\", \"id\": \"Query 2\"}, {\"date\": \"1928-01-02\", \"total_results\": 0, \"total_articles\": 0, \"url\": \"https://trove.nla.gov.au/search/category/newspapers?keyword=text%3A%22darling%20wife%22%20date%3A%5B1850%20TO%201954%5D&l-decade=192&l-year=1928\", \"id\": \"Query 2\"}, {\"date\": \"1929-01-02\", \"total_results\": 0, \"total_articles\": 0, \"url\": \"https://trove.nla.gov.au/search/category/newspapers?keyword=text%3A%22darling%20wife%22%20date%3A%5B1850%20TO%201954%5D&l-decade=192&l-year=1929\", \"id\": \"Query 2\"}, {\"date\": \"1930-01-02\", \"total_results\": 0, \"total_articles\": 0, \"url\": \"https://trove.nla.gov.au/search/category/newspapers?keyword=text%3A%22darling%20wife%22%20date%3A%5B1850%20TO%201954%5D&l-decade=193&l-year=1930\", \"id\": \"Query 2\"}, {\"date\": \"1931-01-02\", \"total_results\": 0, \"total_articles\": 0, \"url\": \"https://trove.nla.gov.au/search/category/newspapers?keyword=text%3A%22darling%20wife%22%20date%3A%5B1850%20TO%201954%5D&l-decade=193&l-year=1931\", \"id\": \"Query 2\"}, {\"date\": \"1932-01-02\", \"total_results\": 0, \"total_articles\": 0, \"url\": \"https://trove.nla.gov.au/search/category/newspapers?keyword=text%3A%22darling%20wife%22%20date%3A%5B1850%20TO%201954%5D&l-decade=193&l-year=1932\", \"id\": \"Query 2\"}, {\"date\": \"1933-01-02\", \"total_results\": 0, \"total_articles\": 0, \"url\": \"https://trove.nla.gov.au/search/category/newspapers?keyword=text%3A%22darling%20wife%22%20date%3A%5B1850%20TO%201954%5D&l-decade=193&l-year=1933\", \"id\": \"Query 2\"}, {\"date\": \"1934-01-02\", \"total_results\": 0, \"total_articles\": 0, \"url\": \"https://trove.nla.gov.au/search/category/newspapers?keyword=text%3A%22darling%20wife%22%20date%3A%5B1850%20TO%201954%5D&l-decade=193&l-year=1934\", \"id\": \"Query 2\"}, {\"date\": \"1935-01-02\", \"total_results\": 0, \"total_articles\": 0, \"url\": \"https://trove.nla.gov.au/search/category/newspapers?keyword=text%3A%22darling%20wife%22%20date%3A%5B1850%20TO%201954%5D&l-decade=193&l-year=1935\", \"id\": \"Query 2\"}, {\"date\": \"1936-01-02\", \"total_results\": 0, \"total_articles\": 0, \"url\": \"https://trove.nla.gov.au/search/category/newspapers?keyword=text%3A%22darling%20wife%22%20date%3A%5B1850%20TO%201954%5D&l-decade=193&l-year=1936\", \"id\": \"Query 2\"}, {\"date\": \"1937-01-02\", \"total_results\": 0, \"total_articles\": 0, \"url\": \"https://trove.nla.gov.au/search/category/newspapers?keyword=text%3A%22darling%20wife%22%20date%3A%5B1850%20TO%201954%5D&l-decade=193&l-year=1937\", \"id\": \"Query 2\"}, {\"date\": \"1938-01-02\", \"total_results\": 0, \"total_articles\": 0, \"url\": \"https://trove.nla.gov.au/search/category/newspapers?keyword=text%3A%22darling%20wife%22%20date%3A%5B1850%20TO%201954%5D&l-decade=193&l-year=1938\", \"id\": \"Query 2\"}, {\"date\": \"1939-01-02\", \"total_results\": 0, \"total_articles\": 0, \"url\": \"https://trove.nla.gov.au/search/category/newspapers?keyword=text%3A%22darling%20wife%22%20date%3A%5B1850%20TO%201954%5D&l-decade=193&l-year=1939\", \"id\": \"Query 2\"}, {\"date\": \"1940-01-02\", \"total_results\": 0, \"total_articles\": 0, \"url\": \"https://trove.nla.gov.au/search/category/newspapers?keyword=text%3A%22darling%20wife%22%20date%3A%5B1850%20TO%201954%5D&l-decade=194&l-year=1940\", \"id\": \"Query 2\"}, {\"date\": \"1941-01-02\", \"total_results\": 0, \"total_articles\": 0, \"url\": \"https://trove.nla.gov.au/search/category/newspapers?keyword=text%3A%22darling%20wife%22%20date%3A%5B1850%20TO%201954%5D&l-decade=194&l-year=1941\", \"id\": \"Query 2\"}, {\"date\": \"1942-01-02\", \"total_results\": 0, \"total_articles\": 0, \"url\": \"https://trove.nla.gov.au/search/category/newspapers?keyword=text%3A%22darling%20wife%22%20date%3A%5B1850%20TO%201954%5D&l-decade=194&l-year=1942\", \"id\": \"Query 2\"}, {\"date\": \"1943-01-02\", \"total_results\": 0, \"total_articles\": 0, \"url\": \"https://trove.nla.gov.au/search/category/newspapers?keyword=text%3A%22darling%20wife%22%20date%3A%5B1850%20TO%201954%5D&l-decade=194&l-year=1943\", \"id\": \"Query 2\"}, {\"date\": \"1944-01-02\", \"total_results\": 0, \"total_articles\": 0, \"url\": \"https://trove.nla.gov.au/search/category/newspapers?keyword=text%3A%22darling%20wife%22%20date%3A%5B1850%20TO%201954%5D&l-decade=194&l-year=1944\", \"id\": \"Query 2\"}, {\"date\": \"1945-01-02\", \"total_results\": 0, \"total_articles\": 0, \"url\": \"https://trove.nla.gov.au/search/category/newspapers?keyword=text%3A%22darling%20wife%22%20date%3A%5B1850%20TO%201954%5D&l-decade=194&l-year=1945\", \"id\": \"Query 2\"}, {\"date\": \"1946-01-02\", \"total_results\": 0, \"total_articles\": 0, \"url\": \"https://trove.nla.gov.au/search/category/newspapers?keyword=text%3A%22darling%20wife%22%20date%3A%5B1850%20TO%201954%5D&l-decade=194&l-year=1946\", \"id\": \"Query 2\"}, {\"date\": \"1947-01-02\", \"total_results\": 0, \"total_articles\": 0, \"url\": \"https://trove.nla.gov.au/search/category/newspapers?keyword=text%3A%22darling%20wife%22%20date%3A%5B1850%20TO%201954%5D&l-decade=194&l-year=1947\", \"id\": \"Query 2\"}, {\"date\": \"1948-01-02\", \"total_results\": 0, \"total_articles\": 0, \"url\": \"https://trove.nla.gov.au/search/category/newspapers?keyword=text%3A%22darling%20wife%22%20date%3A%5B1850%20TO%201954%5D&l-decade=194&l-year=1948\", \"id\": \"Query 2\"}, {\"date\": \"1949-01-02\", \"total_results\": 0, \"total_articles\": 0, \"url\": \"https://trove.nla.gov.au/search/category/newspapers?keyword=text%3A%22darling%20wife%22%20date%3A%5B1850%20TO%201954%5D&l-decade=194&l-year=1949\", \"id\": \"Query 2\"}, {\"date\": \"1950-01-02\", \"total_results\": 0, \"total_articles\": 0, \"url\": \"https://trove.nla.gov.au/search/category/newspapers?keyword=text%3A%22darling%20wife%22%20date%3A%5B1850%20TO%201954%5D&l-decade=195&l-year=1950\", \"id\": \"Query 2\"}, {\"date\": \"1951-01-02\", \"total_results\": 0, \"total_articles\": 0, \"url\": \"https://trove.nla.gov.au/search/category/newspapers?keyword=text%3A%22darling%20wife%22%20date%3A%5B1850%20TO%201954%5D&l-decade=195&l-year=1951\", \"id\": \"Query 2\"}, {\"date\": \"1952-01-02\", \"total_results\": 0, \"total_articles\": 0, \"url\": \"https://trove.nla.gov.au/search/category/newspapers?keyword=text%3A%22darling%20wife%22%20date%3A%5B1850%20TO%201954%5D&l-decade=195&l-year=1952\", \"id\": \"Query 2\"}, {\"date\": \"1953-01-02\", \"total_results\": 0, \"total_articles\": 0, \"url\": \"https://trove.nla.gov.au/search/category/newspapers?keyword=text%3A%22darling%20wife%22%20date%3A%5B1850%20TO%201954%5D&l-decade=195&l-year=1953\", \"id\": \"Query 2\"}], \"data-f675c00c0df2c3ff4332f63876210147\": [{\"x\": 0, \"y\": 0, \"id\": \"Query 1\", \"url\": \"https://trove.nla.gov.au/search/category/newspapers?keyword=text%3A%22darling%20wife%22%20date%3A%5B1850%20TO%201954%5D\", \"params\": \"keyword=text%3A%22darling%20wife%22%20date%3A%5B1850%20TO%201954%5D\"}, {\"x\": 0, \"y\": 1, \"id\": \"Query 2\", \"url\": \"https://trove.nla.gov.au/search/category/newspapers?keyword=text%3A%22darling%20wife%22%20date%3A%5B1850%20TO%201954%5D\", \"params\": \"keyword=text%3A%22darling%20wife%22%20date%3A%5B1850%20TO%201954%5D\"}]}}, {\"mode\": \"vega-lite\"});\n</script>",
          "text/plain": "alt.VConcatChart(...)"
         },
         "metadata": {},
         "output_type": "display_data"
        }
       ]
      }
     },
     "1f73947a17524e26a8fb8ac14251c66b": {
      "model_module": "@jupyter-widgets/controls",
      "model_module_version": "1.5.0",
      "model_name": "FloatProgressModel",
      "state": {
       "layout": "IPY_MODEL_4b602955f1714f3fa41f7fc86a5be538",
       "max": 11,
       "style": "IPY_MODEL_2ac9cbf9babe4f90bff767e238252514",
       "value": 11
      }
     },
     "1f8c0368ac664f3db0f2e1a2f66742cd": {
      "model_module": "@jupyter-widgets/base",
      "model_module_version": "1.2.0",
      "model_name": "LayoutModel",
      "state": {
       "margin": "0 0 20px 0"
      }
     },
     "1fe383c336cb4a42a98d24323934ccbd": {
      "model_module": "@jupyter-widgets/controls",
      "model_module_version": "1.5.0",
      "model_name": "BoundedIntTextModel",
      "state": {
       "description": "Height",
       "layout": "IPY_MODEL_df9db41e1f5d4a098c546b5bd115f280",
       "max": 1500,
       "min": 400,
       "step": 100,
       "style": "IPY_MODEL_626786cebe92475baa471939a24f368f",
       "value": 400
      }
     },
     "208f0c205f634e5d8c9d340aae8c8a24": {
      "model_module": "@jupyter-widgets/output",
      "model_module_version": "1.0.0",
      "model_name": "OutputModel",
      "state": {
       "layout": "IPY_MODEL_52a9915c7b7149b28bf9cedca98ee734"
      }
     },
     "20c70ab102ea45a2864970b02edf3263": {
      "model_module": "@jupyter-widgets/base",
      "model_module_version": "1.2.0",
      "model_name": "LayoutModel",
      "state": {}
     },
     "2159c8be822743c98c7cbe41c8190a99": {
      "model_module": "@jupyter-widgets/base",
      "model_module_version": "1.2.0",
      "model_name": "LayoutModel",
      "state": {}
     },
     "21a437ea39f74a858fbf757a67989adc": {
      "model_module": "@jupyter-widgets/controls",
      "model_module_version": "1.5.0",
      "model_name": "VBoxModel",
      "state": {
       "children": [
        "IPY_MODEL_e9ed0e0d2e5d4ed9b688dff34a2c1963",
        "IPY_MODEL_cb55c2f66f2d452c982b58c46f6f761a",
        "IPY_MODEL_f715d192a0f74a27adb01ee1d55f71d2"
       ],
       "layout": "IPY_MODEL_294be96110ce4f8f954f9dc2c1a0ce3d"
      }
     },
     "21af5c01a03f422db26aca53a11118ed": {
      "model_module": "@jupyter-widgets/base",
      "model_module_version": "1.2.0",
      "model_name": "LayoutModel",
      "state": {}
     },
     "21ec4d8b8f9147eabb3560a0bbb239ff": {
      "model_module": "@jupyter-widgets/controls",
      "model_module_version": "1.5.0",
      "model_name": "HBoxModel",
      "state": {
       "children": [
        "IPY_MODEL_902a602c8ff549f7b393aa99d7c88bf0",
        "IPY_MODEL_868ba60458994a248799098de6294c21",
        "IPY_MODEL_0af0a151594942bda619d2f45e76b527"
       ],
       "layout": "IPY_MODEL_c876d96e63724117b38ac1904e781b24"
      }
     },
     "21f92d6e82e142e1becc96796d36c839": {
      "model_module": "@jupyter-widgets/controls",
      "model_module_version": "1.5.0",
      "model_name": "DescriptionStyleModel",
      "state": {
       "description_width": ""
      }
     },
     "2235d0e7703e4d8b9e964e84368c4579": {
      "model_module": "@jupyter-widgets/controls",
      "model_module_version": "1.5.0",
      "model_name": "DescriptionStyleModel",
      "state": {
       "description_width": ""
      }
     },
     "22a52b42de9a4b06aa70b985b5fe3146": {
      "model_module": "@jupyter-widgets/base",
      "model_module_version": "1.2.0",
      "model_name": "LayoutModel",
      "state": {}
     },
     "22ccbad771524529b6113149eb38e5cd": {
      "model_module": "@jupyter-widgets/controls",
      "model_module_version": "1.5.0",
      "model_name": "PasswordModel",
      "state": {
       "description": "API key:",
       "layout": "IPY_MODEL_052d076e1d0e4559afd6b324a1b0fdb2",
       "placeholder": "Enter your Trove API key",
       "style": "IPY_MODEL_781008025d964063845104cc4ced1237"
      }
     },
     "2351ef33529548189e6844e1f8d93c8b": {
      "model_module": "@jupyter-widgets/base",
      "model_module_version": "1.2.0",
      "model_name": "LayoutModel",
      "state": {}
     },
     "23e4f2075cf74ef48873da2074ab9cb8": {
      "model_module": "@jupyter-widgets/base",
      "model_module_version": "1.2.0",
      "model_name": "LayoutModel",
      "state": {}
     },
     "246d7e109c0a4b5e8ab39dbd87f4088c": {
      "model_module": "@jupyter-widgets/controls",
      "model_module_version": "1.5.0",
      "model_name": "ButtonModel",
      "state": {
       "description": "Remove last query",
       "layout": "IPY_MODEL_7a5451c381e649088b978b741d2cb9dd",
       "style": "IPY_MODEL_45023846b5b542a290c38304291bed35",
       "tooltip": "Remove the last query"
      }
     },
     "2480227c4304417e957359681fd01568": {
      "model_module": "@jupyter-widgets/base",
      "model_module_version": "1.2.0",
      "model_name": "LayoutModel",
      "state": {
       "margin": "50px 0 50px 0"
      }
     },
     "24b5a09e08854364acd3e7b866fcbc80": {
      "model_module": "@jupyter-widgets/base",
      "model_module_version": "1.2.0",
      "model_name": "LayoutModel",
      "state": {}
     },
     "252045c4fc2e415499e3149da783dffa": {
      "model_module": "@jupyter-widgets/controls",
      "model_module_version": "1.5.0",
      "model_name": "DropdownModel",
      "state": {
       "_options_labels": [
        "Raw number of results",
        "Proportion of total articles"
       ],
       "index": 0,
       "layout": "IPY_MODEL_0bfed1f840544063945e1075aac0d91c",
       "style": "IPY_MODEL_bae9c9fdd9e2411185db11c43f6dd426"
      }
     },
     "252794c4cd55449bbc54545771ce3819": {
      "model_module": "@jupyter-widgets/controls",
      "model_module_version": "1.5.0",
      "model_name": "DropdownModel",
      "state": {
       "_options_labels": [
        "Raw number of results",
        "Proportion of total articles"
       ],
       "index": 0,
       "layout": "IPY_MODEL_78558748fc764da0bac972e7b593ab16",
       "style": "IPY_MODEL_eedbd769e21240a3b623921c7e74d5d8"
      }
     },
     "259d4fed68c543da8ca42735bc47ffbd": {
      "model_module": "@jupyter-widgets/controls",
      "model_module_version": "1.5.0",
      "model_name": "HTMLModel",
      "state": {
       "layout": "IPY_MODEL_34aab14af79e42f49d9dbbf0195d1a8f",
       "style": "IPY_MODEL_8ef1c254b84e417692e8c6254c2e4439",
       "value": "100%"
      }
     },
     "25b7b39033d946e183f8e9f42e63c8fb": {
      "model_module": "@jupyter-widgets/controls",
      "model_module_version": "1.5.0",
      "model_name": "ButtonStyleModel",
      "state": {}
     },
     "26023b9849054893b57c2b509fadc80c": {
      "model_module": "@jupyter-widgets/base",
      "model_module_version": "1.2.0",
      "model_name": "LayoutModel",
      "state": {}
     },
     "260d0e28b4194074a16cdaca839bdf87": {
      "model_module": "@jupyter-widgets/controls",
      "model_module_version": "1.5.0",
      "model_name": "DescriptionStyleModel",
      "state": {
       "description_width": ""
      }
     },
     "2636ee7cc2a7404cae3f139ecdc6cd2e": {
      "model_module": "@jupyter-widgets/base",
      "model_module_version": "1.2.0",
      "model_name": "LayoutModel",
      "state": {}
     },
     "263e4738336f46c09d97df10990a85fb": {
      "model_module": "@jupyter-widgets/base",
      "model_module_version": "1.2.0",
      "model_name": "LayoutModel",
      "state": {}
     },
     "26f4918bf3dc4d8f9635b6787568e299": {
      "model_module": "@jupyter-widgets/base",
      "model_module_version": "1.2.0",
      "model_name": "LayoutModel",
      "state": {}
     },
     "27184d70eeb247c1a5d7fcbaf19e1a84": {
      "model_module": "@jupyter-widgets/controls",
      "model_module_version": "1.5.0",
      "model_name": "ButtonModel",
      "state": {
       "description": "Remove last query",
       "layout": "IPY_MODEL_91008fdbe86542a9b94afde49452bf07",
       "style": "IPY_MODEL_8163d7318d03487e8a7a9a4c18d0f9f1",
       "tooltip": "Remove the last query"
      }
     },
     "271bf7b89d8349a3bf15fc9855640b31": {
      "model_module": "@jupyter-widgets/controls",
      "model_module_version": "1.5.0",
      "model_name": "VBoxModel",
      "state": {
       "children": [
        "IPY_MODEL_b3f81143c82e4d678c486d448a50ef9f",
        "IPY_MODEL_8f8d96fd3b9345cc9943a87bc17fd7f7",
        "IPY_MODEL_f76ef0dbbed148f6a49edddd35a876f0"
       ],
       "layout": "IPY_MODEL_9a2f00299a97490b8011d13d5d58a0d8"
      }
     },
     "272511e75c3d444c8f9abd4f349e04f2": {
      "model_module": "@jupyter-widgets/controls",
      "model_module_version": "1.5.0",
      "model_name": "HBoxModel",
      "state": {
       "children": [
        "IPY_MODEL_e37e72408a824d91a0a8e7e09fccf4e8",
        "IPY_MODEL_7146b65f8f1b431491db79a4b4f77fb1",
        "IPY_MODEL_d0a3af6fae4b44c38b8d9617f87516fa"
       ],
       "layout": "IPY_MODEL_6a62f26043b048328d44dba64361a634"
      }
     },
     "27811282c9ea45099f83323109c7a611": {
      "model_module": "@jupyter-widgets/controls",
      "model_module_version": "1.5.0",
      "model_name": "ButtonModel",
      "state": {
       "button_style": "primary",
       "description": "Save chart as HTML",
       "layout": "IPY_MODEL_1dfc8e6e083246c38f71311939f25869",
       "style": "IPY_MODEL_b70e8d7c3af1455cb8011ac000c606d8",
       "tooltip": "Save chart as HTML"
      }
     },
     "2797f019dd2f446684ffc8c7e9288ab5": {
      "model_module": "@jupyter-widgets/controls",
      "model_module_version": "1.5.0",
      "model_name": "BoundedIntTextModel",
      "state": {
       "description": "Height",
       "layout": "IPY_MODEL_3309319a1c474f82832065d67885362d",
       "max": 1500,
       "min": 400,
       "step": 100,
       "style": "IPY_MODEL_2f0857b398414666af511c9157f697ab",
       "value": 400
      }
     },
     "27effab6bc1f43c296fae67839720921": {
      "model_module": "@jupyter-widgets/controls",
      "model_module_version": "1.5.0",
      "model_name": "DescriptionStyleModel",
      "state": {
       "description_width": ""
      }
     },
     "2802bcc1164343efbd0cd3a6c4e05a2e": {
      "model_module": "@jupyter-widgets/output",
      "model_module_version": "1.0.0",
      "model_name": "OutputModel",
      "state": {
       "layout": "IPY_MODEL_ad98b4743f534f9f9dea0e3ab3159b8a",
       "outputs": [
        {
         "data": {
          "application/vnd.jupyter.widget-view+json": {
           "model_id": "",
           "version_major": 2,
           "version_minor": 0
          },
          "text/plain": "HBox(children=(Button(button_style='primary', description='Save chart as HTML', style=ButtonStyle(), tooltip='…"
         },
         "metadata": {},
         "output_type": "display_data"
        },
        {
         "data": {
          "text/html": "Download data: <a href=\"data/querypic-20220624230250.csv\" download>data/querypic-20220624230250.csv</a>",
          "text/plain": "<IPython.core.display.HTML object>"
         },
         "metadata": {},
         "output_type": "display_data"
        }
       ]
      }
     },
     "2878d06c75014c43a05dd4b937d554c0": {
      "model_module": "@jupyter-widgets/base",
      "model_module_version": "1.2.0",
      "model_name": "LayoutModel",
      "state": {}
     },
     "2897ce1f50fd4c61a9a86ad8731b47e9": {
      "model_module": "@jupyter-widgets/base",
      "model_module_version": "1.2.0",
      "model_name": "LayoutModel",
      "state": {}
     },
     "28a0f2ca48ac4b62a249d19802639351": {
      "model_module": "@jupyter-widgets/base",
      "model_module_version": "1.2.0",
      "model_name": "LayoutModel",
      "state": {}
     },
     "29269d837070403aaf07ab767d114a21": {
      "model_module": "@jupyter-widgets/base",
      "model_module_version": "1.2.0",
      "model_name": "LayoutModel",
      "state": {}
     },
     "2948e411c87b49dd853011687c3e1dfb": {
      "model_module": "@jupyter-widgets/base",
      "model_module_version": "1.2.0",
      "model_name": "LayoutModel",
      "state": {
       "margin": "0 0 20px 0"
      }
     },
     "294be96110ce4f8f954f9dc2c1a0ce3d": {
      "model_module": "@jupyter-widgets/base",
      "model_module_version": "1.2.0",
      "model_name": "LayoutModel",
      "state": {}
     },
     "29654cd1c1644bcc88e9a1c201f89458": {
      "model_module": "@jupyter-widgets/base",
      "model_module_version": "1.2.0",
      "model_name": "LayoutModel",
      "state": {}
     },
     "2a2ee3f5bb7d4e529c8b46b593b885d9": {
      "model_module": "@jupyter-widgets/controls",
      "model_module_version": "1.5.0",
      "model_name": "FloatProgressModel",
      "state": {
       "layout": "IPY_MODEL_980cb6fd5dad4f8d9b052a59283b64fe",
       "max": 11,
       "style": "IPY_MODEL_3be51fd9b07c4a289e6155564925ac85",
       "value": 11
      }
     },
     "2a63d0f0b5d347049172c0508235c244": {
      "model_module": "@jupyter-widgets/controls",
      "model_module_version": "1.5.0",
      "model_name": "DropdownModel",
      "state": {
       "_options_labels": [
        "Automatic",
        "Year",
        "Month",
        "Day"
       ],
       "description": "Time unit:",
       "index": 0,
       "layout": "IPY_MODEL_8540233799f845189e639f90806d4bdd",
       "style": "IPY_MODEL_ca3608f0280a4c9cadfdb167a5f9f607"
      }
     },
     "2a860c99603e400d96f7597472c653a2": {
      "model_module": "@jupyter-widgets/controls",
      "model_module_version": "1.5.0",
      "model_name": "ButtonModel",
      "state": {
       "button_style": "primary",
       "description": "Visualise query",
       "layout": "IPY_MODEL_8d21434790b743fc8b80d1883640ef04",
       "style": "IPY_MODEL_32bfd3b8dd5f4e94a90a8a5a2944ee5d",
       "tooltip": "Create chart from query"
      }
     },
     "2a9a765e4d6e4279af08f047bd7cb58d": {
      "model_module": "@jupyter-widgets/controls",
      "model_module_version": "1.5.0",
      "model_name": "DescriptionStyleModel",
      "state": {
       "description_width": ""
      }
     },
     "2aba04411b3042ef912bff5c9afa1db3": {
      "model_module": "@jupyter-widgets/base",
      "model_module_version": "1.2.0",
      "model_name": "LayoutModel",
      "state": {}
     },
     "2ac9cbf9babe4f90bff767e238252514": {
      "model_module": "@jupyter-widgets/controls",
      "model_module_version": "1.5.0",
      "model_name": "ProgressStyleModel",
      "state": {
       "description_width": ""
      }
     },
     "2ad5768fec0e41de9982c19363680db1": {
      "model_module": "@jupyter-widgets/controls",
      "model_module_version": "1.5.0",
      "model_name": "ButtonStyleModel",
      "state": {}
     },
     "2b83fc49d086476489149110eec000a2": {
      "model_module": "@jupyter-widgets/base",
      "model_module_version": "1.2.0",
      "model_name": "LayoutModel",
      "state": {}
     },
     "2bb786db5bcc4a59b54d558e2392f3e3": {
      "model_module": "@jupyter-widgets/controls",
      "model_module_version": "1.5.0",
      "model_name": "HTMLModel",
      "state": {
       "layout": "IPY_MODEL_7fb4aba121e442f0822521911f7fd163",
       "style": "IPY_MODEL_ab850cad89bb41fda81c8db5e443cdad",
       "value": "100%"
      }
     },
     "2bf84b2262b844079532ede8143a8f4a": {
      "model_module": "@jupyter-widgets/controls",
      "model_module_version": "1.5.0",
      "model_name": "HBoxModel",
      "state": {
       "children": [
        "IPY_MODEL_27811282c9ea45099f83323109c7a611",
        "IPY_MODEL_a7194e95ca6d4c478e02acf2a6b032c7",
        "IPY_MODEL_185b67d145e845809708b2165421b80b"
       ],
       "layout": "IPY_MODEL_f77aac6e1f984707a1abd8ebda099262"
      }
     },
     "2c39d9d87db343c3944fbce13ffd9c5c": {
      "model_module": "@jupyter-widgets/base",
      "model_module_version": "1.2.0",
      "model_name": "LayoutModel",
      "state": {}
     },
     "2c83b7d8d0474c04970adb9d180b475f": {
      "model_module": "@jupyter-widgets/base",
      "model_module_version": "1.2.0",
      "model_name": "LayoutModel",
      "state": {}
     },
     "2d0531c624734b759587bd96b61c1730": {
      "model_module": "@jupyter-widgets/output",
      "model_module_version": "1.0.0",
      "model_name": "OutputModel",
      "state": {
       "layout": "IPY_MODEL_1174fe7e985a44dbafffd068131969fd",
       "outputs": [
        {
         "data": {
          "application/vnd.jupyter.widget-view+json": {
           "model_id": "",
           "version_major": 2,
           "version_minor": 0
          },
          "text/plain": "Dropdown(options=(('Raw number of results', 'raw'), ('Proportion of total articles', 'proportion')), value='ra…"
         },
         "metadata": {},
         "output_type": "display_data"
        },
        {
         "data": {
          "text/html": "\n<div id=\"altair-viz-38fc3cdb61b74e0a8ef6ca0a665d7578\"></div>\n<script type=\"text/javascript\">\n  var VEGA_DEBUG = (typeof VEGA_DEBUG == \"undefined\") ? {} : VEGA_DEBUG;\n  (function(spec, embedOpt){\n    let outputDiv = document.currentScript.previousElementSibling;\n    if (outputDiv.id !== \"altair-viz-38fc3cdb61b74e0a8ef6ca0a665d7578\") {\n      outputDiv = document.getElementById(\"altair-viz-38fc3cdb61b74e0a8ef6ca0a665d7578\");\n    }\n    const paths = {\n      \"vega\": \"https://cdn.jsdelivr.net/npm//vega@5?noext\",\n      \"vega-lib\": \"https://cdn.jsdelivr.net/npm//vega-lib?noext\",\n      \"vega-lite\": \"https://cdn.jsdelivr.net/npm//vega-lite@4.17.0?noext\",\n      \"vega-embed\": \"https://cdn.jsdelivr.net/npm//vega-embed@6?noext\",\n    };\n\n    function maybeLoadScript(lib, version) {\n      var key = `${lib.replace(\"-\", \"\")}_version`;\n      return (VEGA_DEBUG[key] == version) ?\n        Promise.resolve(paths[lib]) :\n        new Promise(function(resolve, reject) {\n          var s = document.createElement('script');\n          document.getElementsByTagName(\"head\")[0].appendChild(s);\n          s.async = true;\n          s.onload = () => {\n            VEGA_DEBUG[key] = version;\n            return resolve(paths[lib]);\n          };\n          s.onerror = () => reject(`Error loading script: ${paths[lib]}`);\n          s.src = paths[lib];\n        });\n    }\n\n    function showError(err) {\n      outputDiv.innerHTML = `<div class=\"error\" style=\"color:red;\">${err}</div>`;\n      throw err;\n    }\n\n    function displayChart(vegaEmbed) {\n      vegaEmbed(outputDiv, spec, embedOpt)\n        .catch(err => showError(`Javascript Error: ${err.message}<br>This usually means there's a typo in your chart specification. See the javascript console for the full traceback.`));\n    }\n\n    if(typeof define === \"function\" && define.amd) {\n      requirejs.config({paths});\n      require([\"vega-embed\"], displayChart, err => showError(`Error loading script: ${err.message}`));\n    } else {\n      maybeLoadScript(\"vega\", \"5\")\n        .then(() => maybeLoadScript(\"vega-lite\", \"4.17.0\"))\n        .then(() => maybeLoadScript(\"vega-embed\", \"6\"))\n        .catch(showError)\n        .then(() => displayChart(vegaEmbed));\n    }\n  })({\"usermeta\": {\"embedOptions\": {\"loader\": {\"target\": \"_blank\"}}}, \"vconcat\": [{\"data\": {\"name\": \"data-4540a0cb0f78c0d77fd81ee76f771437\"}, \"mark\": {\"type\": \"line\", \"interpolate\": \"cardinal\", \"point\": true}, \"encoding\": {\"color\": {\"field\": \"id\", \"legend\": {\"title\": \"\"}, \"type\": \"nominal\"}, \"href\": {\"field\": \"url\", \"type\": \"nominal\"}, \"tooltip\": [{\"field\": \"id\", \"title\": \"query\", \"type\": \"nominal\"}, {\"field\": \"date\", \"timeUnit\": \"year\", \"title\": \"year\", \"type\": \"temporal\"}, {\"field\": \"total_results\", \"format\": \",\", \"title\": \"results\", \"type\": \"quantitative\"}, {\"field\": \"PercentOfTotal\", \"format\": \".2%\", \"title\": \"proportion\", \"type\": \"quantitative\"}], \"x\": {\"axis\": {\"title\": \"Year\"}, \"field\": \"date\", \"scale\": {\"padding\": 10}, \"timeUnit\": \"year\", \"type\": \"temporal\"}, \"y\": {\"axis\": {\"format\": \",d\", \"title\": \"Number of articles\"}, \"field\": \"total_results\", \"type\": \"quantitative\"}}, \"height\": 400, \"title\": {\"text\": \"Trove Newspapers & Gazettes Search\", \"subtitle\": \"Created by QueryPic: 25 June 2022\"}, \"transform\": [{\"calculate\": \"datum.total_results / datum.total_articles\", \"as\": \"PercentOfTotal\"}], \"width\": 800}, {\"data\": {\"name\": \"data-f9902fe970bf34234dea6de475206cd4\"}, \"mark\": {\"type\": \"text\", \"align\": \"left\", \"baseline\": \"middle\", \"dx\": 2, \"dy\": 1}, \"encoding\": {\"color\": {\"value\": \"blue\"}, \"href\": {\"field\": \"url\", \"type\": \"nominal\"}, \"text\": {\"field\": \"url\", \"type\": \"nominal\"}, \"x\": {\"axis\": null, \"field\": \"x\", \"scale\": {\"range\": [0, 1]}, \"title\": null, \"type\": \"quantitative\"}, \"y\": {\"axis\": {\"domain\": false, \"grid\": false, \"labelFontWeight\": \"bold\"}, \"field\": \"id\", \"title\": null, \"type\": \"ordinal\"}}}], \"config\": {\"padding\": 20, \"title\": {\"fontSize\": 14}, \"view\": {\"strokeWidth\": 0}}, \"$schema\": \"https://vega.github.io/schema/vega-lite/v4.17.0.json\", \"datasets\": {\"data-4540a0cb0f78c0d77fd81ee76f771437\": [{\"date\": \"1900-01-01\", \"total_results\": 66834, \"total_articles\": 2545773, \"url\": \"https://trove.nla.gov.au/search/category/newspapers?keyword=cat%20&l-decade=190&l-year=1900\", \"id\": \"Query 1\"}, {\"date\": \"1901-01-01\", \"total_results\": 72155, \"total_articles\": 2621771, \"url\": \"https://trove.nla.gov.au/search/category/newspapers?keyword=cat%20&l-decade=190&l-year=1901\", \"id\": \"Query 1\"}, {\"date\": \"1902-01-01\", \"total_results\": 75474, \"total_articles\": 2680442, \"url\": \"https://trove.nla.gov.au/search/category/newspapers?keyword=cat%20&l-decade=190&l-year=1902\", \"id\": \"Query 1\"}, {\"date\": \"1903-01-01\", \"total_results\": 75659, \"total_articles\": 2720158, \"url\": \"https://trove.nla.gov.au/search/category/newspapers?keyword=cat%20&l-decade=190&l-year=1903\", \"id\": \"Query 1\"}, {\"date\": \"1904-01-01\", \"total_results\": 83149, \"total_articles\": 2883017, \"url\": \"https://trove.nla.gov.au/search/category/newspapers?keyword=cat%20&l-decade=190&l-year=1904\", \"id\": \"Query 1\"}, {\"date\": \"1905-01-01\", \"total_results\": 84983, \"total_articles\": 3014126, \"url\": \"https://trove.nla.gov.au/search/category/newspapers?keyword=cat%20&l-decade=190&l-year=1905\", \"id\": \"Query 1\"}, {\"date\": \"1906-01-01\", \"total_results\": 85792, \"total_articles\": 3063302, \"url\": \"https://trove.nla.gov.au/search/category/newspapers?keyword=cat%20&l-decade=190&l-year=1906\", \"id\": \"Query 1\"}, {\"date\": \"1907-01-01\", \"total_results\": 92392, \"total_articles\": 3210978, \"url\": \"https://trove.nla.gov.au/search/category/newspapers?keyword=cat%20&l-decade=190&l-year=1907\", \"id\": \"Query 1\"}, {\"date\": \"1908-01-01\", \"total_results\": 94555, \"total_articles\": 3318955, \"url\": \"https://trove.nla.gov.au/search/category/newspapers?keyword=cat%20&l-decade=190&l-year=1908\", \"id\": \"Query 1\"}, {\"date\": \"1909-01-01\", \"total_results\": 94882, \"total_articles\": 3383066, \"url\": \"https://trove.nla.gov.au/search/category/newspapers?keyword=cat%20&l-decade=190&l-year=1909\", \"id\": \"Query 1\"}, {\"date\": \"1910-01-01\", \"total_results\": 99553, \"total_articles\": 3618690, \"url\": \"https://trove.nla.gov.au/search/category/newspapers?keyword=cat%20&l-decade=191&l-year=1910\", \"id\": \"Query 1\"}, {\"date\": \"1911-01-01\", \"total_results\": 105938, \"total_articles\": 3745183, \"url\": \"https://trove.nla.gov.au/search/category/newspapers?keyword=cat%20&l-decade=191&l-year=1911\", \"id\": \"Query 1\"}, {\"date\": \"1912-01-01\", \"total_results\": 111761, \"total_articles\": 3899502, \"url\": \"https://trove.nla.gov.au/search/category/newspapers?keyword=cat%20&l-decade=191&l-year=1912\", \"id\": \"Query 1\"}, {\"date\": \"1913-01-01\", \"total_results\": 114280, \"total_articles\": 3963719, \"url\": \"https://trove.nla.gov.au/search/category/newspapers?keyword=cat%20&l-decade=191&l-year=1913\", \"id\": \"Query 1\"}, {\"date\": \"1914-01-01\", \"total_results\": 136172, \"total_articles\": 4655411, \"url\": \"https://trove.nla.gov.au/search/category/newspapers?keyword=cat%20&l-decade=191&l-year=1914\", \"id\": \"Query 1\"}, {\"date\": \"1915-01-01\", \"total_results\": 123354, \"total_articles\": 4753962, \"url\": \"https://trove.nla.gov.au/search/category/newspapers?keyword=cat%20&l-decade=191&l-year=1915\", \"id\": \"Query 1\"}, {\"date\": \"1916-01-01\", \"total_results\": 118679, \"total_articles\": 4348588, \"url\": \"https://trove.nla.gov.au/search/category/newspapers?keyword=cat%20&l-decade=191&l-year=1916\", \"id\": \"Query 1\"}, {\"date\": \"1917-01-01\", \"total_results\": 115367, \"total_articles\": 4239123, \"url\": \"https://trove.nla.gov.au/search/category/newspapers?keyword=cat%20&l-decade=191&l-year=1917\", \"id\": \"Query 1\"}, {\"date\": \"1918-01-01\", \"total_results\": 112591, \"total_articles\": 4016436, \"url\": \"https://trove.nla.gov.au/search/category/newspapers?keyword=cat%20&l-decade=191&l-year=1918\", \"id\": \"Query 1\"}, {\"date\": \"1919-01-01\", \"total_results\": 93396, \"total_articles\": 3493498, \"url\": \"https://trove.nla.gov.au/search/category/newspapers?keyword=cat%20&l-decade=191&l-year=1919\", \"id\": \"Query 1\"}, {\"date\": \"1920-01-01\", \"total_results\": 97861, \"total_articles\": 3250768, \"url\": \"https://trove.nla.gov.au/search/category/newspapers?keyword=cat%20&l-decade=192&l-year=1920\", \"id\": \"Query 1\"}, {\"date\": \"1921-01-01\", \"total_results\": 100345, \"total_articles\": 3435950, \"url\": \"https://trove.nla.gov.au/search/category/newspapers?keyword=cat%20&l-decade=192&l-year=1921\", \"id\": \"Query 1\"}, {\"date\": \"1922-01-01\", \"total_results\": 107023, \"total_articles\": 3567651, \"url\": \"https://trove.nla.gov.au/search/category/newspapers?keyword=cat%20&l-decade=192&l-year=1922\", \"id\": \"Query 1\"}, {\"date\": \"1923-01-01\", \"total_results\": 114347, \"total_articles\": 3836447, \"url\": \"https://trove.nla.gov.au/search/category/newspapers?keyword=cat%20&l-decade=192&l-year=1923\", \"id\": \"Query 1\"}, {\"date\": \"1924-01-01\", \"total_results\": 118236, \"total_articles\": 4133174, \"url\": \"https://trove.nla.gov.au/search/category/newspapers?keyword=cat%20&l-decade=192&l-year=1924\", \"id\": \"Query 1\"}, {\"date\": \"1925-01-01\", \"total_results\": 121650, \"total_articles\": 4091761, \"url\": \"https://trove.nla.gov.au/search/category/newspapers?keyword=cat%20&l-decade=192&l-year=1925\", \"id\": \"Query 1\"}, {\"date\": \"1926-01-01\", \"total_results\": 124954, \"total_articles\": 4074160, \"url\": \"https://trove.nla.gov.au/search/category/newspapers?keyword=cat%20&l-decade=192&l-year=1926\", \"id\": \"Query 1\"}, {\"date\": \"1927-01-01\", \"total_results\": 123778, \"total_articles\": 4146580, \"url\": \"https://trove.nla.gov.au/search/category/newspapers?keyword=cat%20&l-decade=192&l-year=1927\", \"id\": \"Query 1\"}, {\"date\": \"1928-01-01\", \"total_results\": 116906, \"total_articles\": 4253194, \"url\": \"https://trove.nla.gov.au/search/category/newspapers?keyword=cat%20&l-decade=192&l-year=1928\", \"id\": \"Query 1\"}, {\"date\": \"1929-01-01\", \"total_results\": 114579, \"total_articles\": 4480398, \"url\": \"https://trove.nla.gov.au/search/category/newspapers?keyword=cat%20&l-decade=192&l-year=1929\", \"id\": \"Query 1\"}, {\"date\": \"1930-01-01\", \"total_results\": 105908, \"total_articles\": 4332529, \"url\": \"https://trove.nla.gov.au/search/category/newspapers?keyword=cat%20&l-decade=193&l-year=1930\", \"id\": \"Query 1\"}, {\"date\": \"1931-01-01\", \"total_results\": 92258, \"total_articles\": 3960930, \"url\": \"https://trove.nla.gov.au/search/category/newspapers?keyword=cat%20&l-decade=193&l-year=1931\", \"id\": \"Query 1\"}, {\"date\": \"1932-01-01\", \"total_results\": 92897, \"total_articles\": 3950233, \"url\": \"https://trove.nla.gov.au/search/category/newspapers?keyword=cat%20&l-decade=193&l-year=1932\", \"id\": \"Query 1\"}, {\"date\": \"1933-01-01\", \"total_results\": 96502, \"total_articles\": 4135042, \"url\": \"https://trove.nla.gov.au/search/category/newspapers?keyword=cat%20&l-decade=193&l-year=1933\", \"id\": \"Query 1\"}, {\"date\": \"1934-01-01\", \"total_results\": 98693, \"total_articles\": 4241394, \"url\": \"https://trove.nla.gov.au/search/category/newspapers?keyword=cat%20&l-decade=193&l-year=1934\", \"id\": \"Query 1\"}, {\"date\": \"1935-01-01\", \"total_results\": 99911, \"total_articles\": 4326389, \"url\": \"https://trove.nla.gov.au/search/category/newspapers?keyword=cat%20&l-decade=193&l-year=1935\", \"id\": \"Query 1\"}, {\"date\": \"1936-01-01\", \"total_results\": 98073, \"total_articles\": 4442897, \"url\": \"https://trove.nla.gov.au/search/category/newspapers?keyword=cat%20&l-decade=193&l-year=1936\", \"id\": \"Query 1\"}, {\"date\": \"1937-01-01\", \"total_results\": 95905, \"total_articles\": 4419467, \"url\": \"https://trove.nla.gov.au/search/category/newspapers?keyword=cat%20&l-decade=193&l-year=1937\", \"id\": \"Query 1\"}, {\"date\": \"1938-01-01\", \"total_results\": 90651, \"total_articles\": 4379701, \"url\": \"https://trove.nla.gov.au/search/category/newspapers?keyword=cat%20&l-decade=193&l-year=1938\", \"id\": \"Query 1\"}, {\"date\": \"1939-01-01\", \"total_results\": 83396, \"total_articles\": 4155489, \"url\": \"https://trove.nla.gov.au/search/category/newspapers?keyword=cat%20&l-decade=193&l-year=1939\", \"id\": \"Query 1\"}, {\"date\": \"1940-01-01\", \"total_results\": 71523, \"total_articles\": 3523860, \"url\": \"https://trove.nla.gov.au/search/category/newspapers?keyword=cat%20&l-decade=194&l-year=1940\", \"id\": \"Query 1\"}, {\"date\": \"1941-01-01\", \"total_results\": 61333, \"total_articles\": 3107703, \"url\": \"https://trove.nla.gov.au/search/category/newspapers?keyword=cat%20&l-decade=194&l-year=1941\", \"id\": \"Query 1\"}, {\"date\": \"1942-01-01\", \"total_results\": 46600, \"total_articles\": 2495152, \"url\": \"https://trove.nla.gov.au/search/category/newspapers?keyword=cat%20&l-decade=194&l-year=1942\", \"id\": \"Query 1\"}, {\"date\": \"1943-01-01\", \"total_results\": 41810, \"total_articles\": 2211897, \"url\": \"https://trove.nla.gov.au/search/category/newspapers?keyword=cat%20&l-decade=194&l-year=1943\", \"id\": \"Query 1\"}, {\"date\": \"1944-01-01\", \"total_results\": 45489, \"total_articles\": 2253769, \"url\": \"https://trove.nla.gov.au/search/category/newspapers?keyword=cat%20&l-decade=194&l-year=1944\", \"id\": \"Query 1\"}, {\"date\": \"1945-01-01\", \"total_results\": 52500, \"total_articles\": 2435682, \"url\": \"https://trove.nla.gov.au/search/category/newspapers?keyword=cat%20&l-decade=194&l-year=1945\", \"id\": \"Query 1\"}, {\"date\": \"1946-01-01\", \"total_results\": 68115, \"total_articles\": 2773266, \"url\": \"https://trove.nla.gov.au/search/category/newspapers?keyword=cat%20&l-decade=194&l-year=1946\", \"id\": \"Query 1\"}, {\"date\": \"1947-01-01\", \"total_results\": 72224, \"total_articles\": 2874641, \"url\": \"https://trove.nla.gov.au/search/category/newspapers?keyword=cat%20&l-decade=194&l-year=1947\", \"id\": \"Query 1\"}, {\"date\": \"1948-01-01\", \"total_results\": 59071, \"total_articles\": 2633444, \"url\": \"https://trove.nla.gov.au/search/category/newspapers?keyword=cat%20&l-decade=194&l-year=1948\", \"id\": \"Query 1\"}, {\"date\": \"1949-01-01\", \"total_results\": 66924, \"total_articles\": 2891112, \"url\": \"https://trove.nla.gov.au/search/category/newspapers?keyword=cat%20&l-decade=194&l-year=1949\", \"id\": \"Query 1\"}, {\"date\": \"1950-01-01\", \"total_results\": 37, \"total_articles\": 2842961, \"url\": \"https://trove.nla.gov.au/search/category/newspapers?keyword=cat%20&l-decade=195&l-year=1950\", \"id\": \"Query 1\"}], \"data-f9902fe970bf34234dea6de475206cd4\": [{\"x\": 0, \"y\": 0, \"id\": \"Query 1\", \"url\": \"https://trove.nla.gov.au/search/category/newspapers?keyword=cat%20date:[1900-01-21T00:00:00Z TO 1950-01-01T00:00:00Z]\", \"params\": \"keyword=cat%20date:[1900-01-21T00:00:00Z TO 1950-01-01T00:00:00Z]\"}]}}, {\"mode\": \"vega-lite\"});\n</script>",
          "text/plain": "alt.VConcatChart(...)"
         },
         "metadata": {},
         "output_type": "display_data"
        }
       ]
      }
     },
     "2d19a438515745f4bf221190e3da8479": {
      "model_module": "@jupyter-widgets/controls",
      "model_module_version": "1.5.0",
      "model_name": "ButtonStyleModel",
      "state": {}
     },
     "2d23cb1c47df425fb0f9ac195cb90a0e": {
      "model_module": "@jupyter-widgets/controls",
      "model_module_version": "1.5.0",
      "model_name": "ButtonModel",
      "state": {
       "button_style": "primary",
       "description": "Save chart as HTML",
       "layout": "IPY_MODEL_38e3a15c050841adb2d5d4e1b8aa7387",
       "style": "IPY_MODEL_2ad5768fec0e41de9982c19363680db1",
       "tooltip": "Save chart as HTML"
      }
     },
     "2d2df18301be4f7699e98f01046dbf32": {
      "model_module": "@jupyter-widgets/output",
      "model_module_version": "1.0.0",
      "model_name": "OutputModel",
      "state": {
       "layout": "IPY_MODEL_c272414b774642deb3287b9ada351a97",
       "outputs": [
        {
         "data": {
          "application/vnd.jupyter.widget-view+json": {
           "model_id": "",
           "version_major": 2,
           "version_minor": 0
          },
          "text/plain": "  0%|          | 0/6 [00:00<?, ?it/s]"
         },
         "metadata": {},
         "output_type": "display_data"
        },
        {
         "ename": "UnboundLocalError",
         "evalue": "local variable 'start_date' referenced before assignment",
         "output_type": "error",
         "traceback": [
          "\u001b[0;31m---------------------------------------------------------------------------\u001b[0m",
          "\u001b[0;31mUnboundLocalError\u001b[0m                         Traceback (most recent call last)",
          "Input \u001b[0;32mIn [120]\u001b[0m, in \u001b[0;36myear_totals\u001b[0;34m(params)\u001b[0m\n\u001b[1;32m    151\u001b[0m         query_dates\u001b[38;5;241m.\u001b[39mupdate(get_year_facets(query_data, start_year, end_year))\n\u001b[1;32m    152\u001b[0m         total_dates\u001b[38;5;241m.\u001b[39mupdate(get_year_facets(total_data, start_year, end_year))\n\u001b[0;32m--> 153\u001b[0m     totals \u001b[38;5;241m=\u001b[39m \u001b[43mcombine_totals\u001b[49m\u001b[43m(\u001b[49m\u001b[43mquery_dates\u001b[49m\u001b[43m,\u001b[49m\u001b[43m \u001b[49m\u001b[43mtotal_dates\u001b[49m\u001b[43m,\u001b[49m\u001b[43m \u001b[49m\u001b[43mstart\u001b[49m\u001b[43m,\u001b[49m\u001b[43m \u001b[49m\u001b[43mend\u001b[49m\u001b[43m,\u001b[49m\u001b[43m \u001b[49m\u001b[43munit\u001b[49m\u001b[43m)\u001b[49m\n\u001b[1;32m    154\u001b[0m     totals\u001b[38;5;241m.\u001b[39msort(key\u001b[38;5;241m=\u001b[39mitemgetter(\u001b[38;5;124m\"\u001b[39m\u001b[38;5;124mdate\u001b[39m\u001b[38;5;124m\"\u001b[39m))\n\u001b[1;32m    155\u001b[0m \u001b[38;5;28;01melif\u001b[39;00m unit \u001b[38;5;241m==\u001b[39m \u001b[38;5;124m\"\u001b[39m\u001b[38;5;124mmonth\u001b[39m\u001b[38;5;124m\"\u001b[39m:\n",
          "Input \u001b[0;32mIn [120]\u001b[0m, in \u001b[0;36mcombine_totals\u001b[0;34m(query_data, total_data, start, end, unit)\u001b[0m\n\u001b[1;32m     66\u001b[0m \u001b[38;5;66;03m# These are for cases where a full datetime is provided\u001b[39;00m\n\u001b[1;32m     67\u001b[0m \u001b[38;5;28;01mif\u001b[39;00m unit \u001b[38;5;241m==\u001b[39m \u001b[38;5;124m'\u001b[39m\u001b[38;5;124myear\u001b[39m\u001b[38;5;124m'\u001b[39m:\n\u001b[0;32m---> 68\u001b[0m     start \u001b[38;5;241m=\u001b[39m \u001b[38;5;124mf\u001b[39m\u001b[38;5;124m'\u001b[39m\u001b[38;5;132;01m{\u001b[39;00mstart_date[:\u001b[38;5;241m4\u001b[39m]\u001b[38;5;132;01m}\u001b[39;00m\u001b[38;5;124m-01-01\u001b[39m\u001b[38;5;124m'\u001b[39m\n\u001b[1;32m     69\u001b[0m \u001b[38;5;28;01melif\u001b[39;00m unit \u001b[38;5;241m==\u001b[39m \u001b[38;5;124m'\u001b[39m\u001b[38;5;124mmonth\u001b[39m\u001b[38;5;124m'\u001b[39m:\n\u001b[1;32m     70\u001b[0m     start \u001b[38;5;241m=\u001b[39m \u001b[38;5;124mf\u001b[39m\u001b[38;5;124m'\u001b[39m\u001b[38;5;132;01m{\u001b[39;00mstart_date[:\u001b[38;5;241m7\u001b[39m]\u001b[38;5;132;01m}\u001b[39;00m\u001b[38;5;124m-01\u001b[39m\u001b[38;5;124m'\u001b[39m\n",
          "\u001b[0;31mUnboundLocalError\u001b[0m: local variable 'start_date' referenced before assignment"
         ]
        }
       ]
      }
     },
     "2d616f49b247468482c640375e7f098b": {
      "model_module": "@jupyter-widgets/controls",
      "model_module_version": "1.5.0",
      "model_name": "DescriptionStyleModel",
      "state": {
       "description_width": ""
      }
     },
     "2d7f5ea811a34bc0a867e1de41ef56e8": {
      "model_module": "@jupyter-widgets/controls",
      "model_module_version": "1.5.0",
      "model_name": "ButtonStyleModel",
      "state": {}
     },
     "2e3dcdf1161e4a2cbf9047d6f0162445": {
      "model_module": "@jupyter-widgets/controls",
      "model_module_version": "1.5.0",
      "model_name": "DescriptionStyleModel",
      "state": {
       "description_width": ""
      }
     },
     "2e704d34bbe5467e8d9f57741b13e78f": {
      "model_module": "@jupyter-widgets/controls",
      "model_module_version": "1.5.0",
      "model_name": "FloatProgressModel",
      "state": {
       "layout": "IPY_MODEL_95d46e5bf3e5490b9827ebe2a7a16dd6",
       "max": 11,
       "style": "IPY_MODEL_c738bc147693424e838f26773d48e3d4",
       "value": 11
      }
     },
     "2e7b22dde6af4ee68648d33d923b799e": {
      "model_module": "@jupyter-widgets/base",
      "model_module_version": "1.2.0",
      "model_name": "LayoutModel",
      "state": {}
     },
     "2ebd8867140e4337883858bba38e14cc": {
      "model_module": "@jupyter-widgets/base",
      "model_module_version": "1.2.0",
      "model_name": "LayoutModel",
      "state": {}
     },
     "2f022318be3b4d9788632a2a1aa9cb3c": {
      "model_module": "@jupyter-widgets/base",
      "model_module_version": "1.2.0",
      "model_name": "LayoutModel",
      "state": {}
     },
     "2f0857b398414666af511c9157f697ab": {
      "model_module": "@jupyter-widgets/controls",
      "model_module_version": "1.5.0",
      "model_name": "DescriptionStyleModel",
      "state": {
       "description_width": ""
      }
     },
     "2f153eafca444de68eef338d9112adea": {
      "model_module": "@jupyter-widgets/controls",
      "model_module_version": "1.5.0",
      "model_name": "HBoxModel",
      "state": {
       "children": [
        "IPY_MODEL_0c9e8d2c272648d48a54eaaee12bd122",
        "IPY_MODEL_07857d5de845459185dd084827045fd3",
        "IPY_MODEL_7c25ba8e6a4d40cc90c85ede1a5a21d2"
       ],
       "layout": "IPY_MODEL_0ac489aaa73f41dfbc910b0b544035cc"
      }
     },
     "2f15e7b27abd46ad93c5164d547ffc9f": {
      "model_module": "@jupyter-widgets/controls",
      "model_module_version": "1.5.0",
      "model_name": "DropdownModel",
      "state": {
       "_options_labels": [
        "Automatic",
        "Year",
        "Month",
        "Day"
       ],
       "description": "Time unit:",
       "index": 0,
       "layout": "IPY_MODEL_d70518e3b5b344558843301d3f39b1e3",
       "style": "IPY_MODEL_f31178e7a2a0487fbbb7bfa3b2ebb891"
      }
     },
     "2f5fd250ef33405490f124d59abc2636": {
      "model_module": "@jupyter-widgets/controls",
      "model_module_version": "1.5.0",
      "model_name": "HTMLModel",
      "state": {
       "layout": "IPY_MODEL_a9e35c04a89c4dcfa3e10ea3b0d274e5",
       "style": "IPY_MODEL_1f4e3c2d5f4541c492a682a03fec2dc8",
       "value": " 0/11 [00:00&lt;?, ?it/s]"
      }
     },
     "2f679ff798c84fc1bf2b36c02277e8b1": {
      "model_module": "@jupyter-widgets/controls",
      "model_module_version": "1.5.0",
      "model_name": "DescriptionStyleModel",
      "state": {
       "description_width": ""
      }
     },
     "2fba26d7d4a746d1a2a0ee9b97478a5a": {
      "model_module": "@jupyter-widgets/base",
      "model_module_version": "1.2.0",
      "model_name": "LayoutModel",
      "state": {
       "width": "80%"
      }
     },
     "30109444f7eb4d7f8907b7b64f099fdc": {
      "model_module": "@jupyter-widgets/base",
      "model_module_version": "1.2.0",
      "model_name": "LayoutModel",
      "state": {}
     },
     "304f775e8c954817a4fc36909d6600ac": {
      "model_module": "@jupyter-widgets/base",
      "model_module_version": "1.2.0",
      "model_name": "LayoutModel",
      "state": {}
     },
     "3082311b3a76440ca96b20df0d87804f": {
      "model_module": "@jupyter-widgets/base",
      "model_module_version": "1.2.0",
      "model_name": "LayoutModel",
      "state": {}
     },
     "30a8484a41004f03955320eb011a7b3e": {
      "model_module": "@jupyter-widgets/base",
      "model_module_version": "1.2.0",
      "model_name": "LayoutModel",
      "state": {}
     },
     "31072fca7b9b4ead88b156d22be03a32": {
      "model_module": "@jupyter-widgets/controls",
      "model_module_version": "1.5.0",
      "model_name": "HTMLModel",
      "state": {
       "layout": "IPY_MODEL_3e81e9a42c814ad8b0042608ea0d92be",
       "style": "IPY_MODEL_4f1b35c0814e40c78167e751d67e0b04",
       "value": "100%"
      }
     },
     "313bae3ac6c1415cb6d335affa017f2a": {
      "model_module": "@jupyter-widgets/base",
      "model_module_version": "1.2.0",
      "model_name": "LayoutModel",
      "state": {}
     },
     "315cd7a7a1764393b4394c263f1a959c": {
      "model_module": "@jupyter-widgets/controls",
      "model_module_version": "1.5.0",
      "model_name": "HBoxModel",
      "state": {
       "children": [
        "IPY_MODEL_e5c26c3db0274055bcc2e5a261f3aa27",
        "IPY_MODEL_5668d294c3db487292fa69ded5a04dbe",
        "IPY_MODEL_e881ba16e33b449cb9c0737890dffe6a"
       ],
       "layout": "IPY_MODEL_48edaf83f0a44c4dbfad278238ddcf36"
      }
     },
     "3180181da0324a18a847afb7adeb451b": {
      "model_module": "@jupyter-widgets/controls",
      "model_module_version": "1.5.0",
      "model_name": "DropdownModel",
      "state": {
       "_options_labels": [
        "Raw number of results",
        "Proportion of total articles"
       ],
       "index": 0,
       "layout": "IPY_MODEL_626d3d142d934ad49474697da60f599c",
       "style": "IPY_MODEL_1a6412e7267343bb8a878a4228657eda"
      }
     },
     "319eb15df3fe4dbaac2d5a099ba836f9": {
      "model_module": "@jupyter-widgets/controls",
      "model_module_version": "1.5.0",
      "model_name": "VBoxModel",
      "state": {
       "children": [
        "IPY_MODEL_cb4921da1a0345b8b7d2af72229a4f00",
        "IPY_MODEL_69a00c2085ad4ba3afe16768a24887c7",
        "IPY_MODEL_5768b96c76fd4302897cec4b03a69c31"
       ],
       "layout": "IPY_MODEL_96fca6b5519f4727bbf21a027cceff21"
      }
     },
     "31aad61f221f430a95149fdd9462f7e8": {
      "model_module": "@jupyter-widgets/controls",
      "model_module_version": "1.5.0",
      "model_name": "DescriptionStyleModel",
      "state": {
       "description_width": ""
      }
     },
     "31d49e8448f2489a8f1e949bc1cbe945": {
      "model_module": "@jupyter-widgets/base",
      "model_module_version": "1.2.0",
      "model_name": "LayoutModel",
      "state": {}
     },
     "324ffaa1182b4173a66fdd90cc90bbab": {
      "model_module": "@jupyter-widgets/base",
      "model_module_version": "1.2.0",
      "model_name": "LayoutModel",
      "state": {}
     },
     "32bf825d610a468583ec4bb159a12e1e": {
      "model_module": "@jupyter-widgets/base",
      "model_module_version": "1.2.0",
      "model_name": "LayoutModel",
      "state": {
       "margin": "50px 0 50px 0"
      }
     },
     "32bfd3b8dd5f4e94a90a8a5a2944ee5d": {
      "model_module": "@jupyter-widgets/controls",
      "model_module_version": "1.5.0",
      "model_name": "ButtonStyleModel",
      "state": {}
     },
     "3309319a1c474f82832065d67885362d": {
      "model_module": "@jupyter-widgets/base",
      "model_module_version": "1.2.0",
      "model_name": "LayoutModel",
      "state": {}
     },
     "3324acf0ea86440f9a5efb2bc856271d": {
      "model_module": "@jupyter-widgets/controls",
      "model_module_version": "1.5.0",
      "model_name": "ButtonModel",
      "state": {
       "button_style": "primary",
       "description": "Save chart as HTML",
       "layout": "IPY_MODEL_7ef8e560dbfd4386912afc55e64e2eef",
       "style": "IPY_MODEL_138f904a2822459289d8d5ffb8ed52a0",
       "tooltip": "Save chart as HTML"
      }
     },
     "33679f7022454260a0ac51975ccd3f36": {
      "model_module": "@jupyter-widgets/controls",
      "model_module_version": "1.5.0",
      "model_name": "DescriptionStyleModel",
      "state": {
       "description_width": ""
      }
     },
     "336b72c9030f470686c19f9beff6fdd0": {
      "model_module": "@jupyter-widgets/controls",
      "model_module_version": "1.5.0",
      "model_name": "HTMLModel",
      "state": {
       "layout": "IPY_MODEL_0d8fe6bbae644721b37b2cb56ca5685e",
       "style": "IPY_MODEL_bc94c6e947a94127ab8bf387627ef6a9",
       "value": "  0%"
      }
     },
     "3379382562174674bd3a1eaf51735933": {
      "model_module": "@jupyter-widgets/controls",
      "model_module_version": "1.5.0",
      "model_name": "ButtonStyleModel",
      "state": {}
     },
     "337fd9f2f8684c96a3be46f7b900ddd7": {
      "model_module": "@jupyter-widgets/controls",
      "model_module_version": "1.5.0",
      "model_name": "ProgressStyleModel",
      "state": {
       "description_width": ""
      }
     },
     "33a1db7680534ba2a171c1eff0511652": {
      "model_module": "@jupyter-widgets/controls",
      "model_module_version": "1.5.0",
      "model_name": "ButtonModel",
      "state": {
       "button_style": "primary",
       "description": "Save chart as HTML",
       "layout": "IPY_MODEL_98f0b3d5193d4dcf88abeaea7eaa0005",
       "style": "IPY_MODEL_2d19a438515745f4bf221190e3da8479",
       "tooltip": "Save chart as HTML"
      }
     },
     "33ae03e7750041309524a805f1fde202": {
      "model_module": "@jupyter-widgets/base",
      "model_module_version": "1.2.0",
      "model_name": "LayoutModel",
      "state": {}
     },
     "33dfea1d4e4c410e89b1a916e3a70c6f": {
      "model_module": "@jupyter-widgets/controls",
      "model_module_version": "1.5.0",
      "model_name": "DescriptionStyleModel",
      "state": {
       "description_width": ""
      }
     },
     "344abb885f464fb6b1fa9f4f6ef196fa": {
      "model_module": "@jupyter-widgets/base",
      "model_module_version": "1.2.0",
      "model_name": "LayoutModel",
      "state": {}
     },
     "34aab14af79e42f49d9dbbf0195d1a8f": {
      "model_module": "@jupyter-widgets/base",
      "model_module_version": "1.2.0",
      "model_name": "LayoutModel",
      "state": {}
     },
     "34bfff5cee26470e9b6ffee4ae004693": {
      "model_module": "@jupyter-widgets/output",
      "model_module_version": "1.0.0",
      "model_name": "OutputModel",
      "state": {
       "layout": "IPY_MODEL_3996fc98bb62479c91110ea9095a398d",
       "outputs": [
        {
         "data": {
          "application/vnd.jupyter.widget-view+json": {
           "model_id": "",
           "version_major": 2,
           "version_minor": 0
          },
          "text/plain": "  0%|          | 0/6 [00:00<?, ?it/s]"
         },
         "metadata": {},
         "output_type": "display_data"
        },
        {
         "ename": "UnboundLocalError",
         "evalue": "local variable 'start_date' referenced before assignment",
         "output_type": "error",
         "traceback": [
          "\u001b[0;31m---------------------------------------------------------------------------\u001b[0m",
          "\u001b[0;31mUnboundLocalError\u001b[0m                         Traceback (most recent call last)",
          "Input \u001b[0;32mIn [112]\u001b[0m, in \u001b[0;36myear_totals\u001b[0;34m(params)\u001b[0m\n\u001b[1;32m    151\u001b[0m         query_dates\u001b[38;5;241m.\u001b[39mupdate(get_year_facets(query_data, start_year, end_year))\n\u001b[1;32m    152\u001b[0m         total_dates\u001b[38;5;241m.\u001b[39mupdate(get_year_facets(total_data, start_year, end_year))\n\u001b[0;32m--> 153\u001b[0m     totals \u001b[38;5;241m=\u001b[39m \u001b[43mcombine_totals\u001b[49m\u001b[43m(\u001b[49m\u001b[43mquery_dates\u001b[49m\u001b[43m,\u001b[49m\u001b[43m \u001b[49m\u001b[43mtotal_dates\u001b[49m\u001b[43m,\u001b[49m\u001b[43m \u001b[49m\u001b[43mstart\u001b[49m\u001b[43m,\u001b[49m\u001b[43m \u001b[49m\u001b[43mend\u001b[49m\u001b[43m,\u001b[49m\u001b[43m \u001b[49m\u001b[43munit\u001b[49m\u001b[43m)\u001b[49m\n\u001b[1;32m    154\u001b[0m     totals\u001b[38;5;241m.\u001b[39msort(key\u001b[38;5;241m=\u001b[39mitemgetter(\u001b[38;5;124m\"\u001b[39m\u001b[38;5;124mdate\u001b[39m\u001b[38;5;124m\"\u001b[39m))\n\u001b[1;32m    155\u001b[0m \u001b[38;5;28;01melif\u001b[39;00m unit \u001b[38;5;241m==\u001b[39m \u001b[38;5;124m\"\u001b[39m\u001b[38;5;124mmonth\u001b[39m\u001b[38;5;124m\"\u001b[39m:\n",
          "Input \u001b[0;32mIn [112]\u001b[0m, in \u001b[0;36mcombine_totals\u001b[0;34m(query_data, total_data, start, end, unit)\u001b[0m\n\u001b[1;32m     66\u001b[0m \u001b[38;5;66;03m# These are for cases where a full datetime is provided\u001b[39;00m\n\u001b[1;32m     67\u001b[0m \u001b[38;5;28;01mif\u001b[39;00m unit \u001b[38;5;241m==\u001b[39m \u001b[38;5;124m'\u001b[39m\u001b[38;5;124myear\u001b[39m\u001b[38;5;124m'\u001b[39m:\n\u001b[0;32m---> 68\u001b[0m     start_date \u001b[38;5;241m=\u001b[39m \u001b[38;5;124mf\u001b[39m\u001b[38;5;124m'\u001b[39m\u001b[38;5;132;01m{\u001b[39;00mstart_date[:\u001b[38;5;241m4\u001b[39m]\u001b[38;5;132;01m}\u001b[39;00m\u001b[38;5;124m-01-01\u001b[39m\u001b[38;5;124m'\u001b[39m\n\u001b[1;32m     69\u001b[0m \u001b[38;5;28;01melif\u001b[39;00m unit \u001b[38;5;241m==\u001b[39m \u001b[38;5;124m'\u001b[39m\u001b[38;5;124mmonth\u001b[39m\u001b[38;5;124m'\u001b[39m:\n\u001b[1;32m     70\u001b[0m     start_date \u001b[38;5;241m=\u001b[39m \u001b[38;5;124mf\u001b[39m\u001b[38;5;124m'\u001b[39m\u001b[38;5;132;01m{\u001b[39;00mstart_date[:\u001b[38;5;241m7\u001b[39m]\u001b[38;5;132;01m}\u001b[39;00m\u001b[38;5;124m-01\u001b[39m\u001b[38;5;124m'\u001b[39m\n",
          "\u001b[0;31mUnboundLocalError\u001b[0m: local variable 'start_date' referenced before assignment"
         ]
        }
       ]
      }
     },
     "34ca0702097f46a88f103c10190fd471": {
      "model_module": "@jupyter-widgets/base",
      "model_module_version": "1.2.0",
      "model_name": "LayoutModel",
      "state": {}
     },
     "34e6c7e8a93f438791b4d225f4985c43": {
      "model_module": "@jupyter-widgets/base",
      "model_module_version": "1.2.0",
      "model_name": "LayoutModel",
      "state": {}
     },
     "34e8ca57edf84ba4b3cfaf3779990db9": {
      "model_module": "@jupyter-widgets/controls",
      "model_module_version": "1.5.0",
      "model_name": "ProgressStyleModel",
      "state": {
       "description_width": ""
      }
     },
     "34fbfc3d26ec4c7e8c643086c635d72d": {
      "model_module": "@jupyter-widgets/base",
      "model_module_version": "1.2.0",
      "model_name": "LayoutModel",
      "state": {
       "width": "80%"
      }
     },
     "3508ff13705340f7b7f620201e981909": {
      "model_module": "@jupyter-widgets/output",
      "model_module_version": "1.0.0",
      "model_name": "OutputModel",
      "state": {
       "layout": "IPY_MODEL_324ffaa1182b4173a66fdd90cc90bbab",
       "outputs": [
        {
         "data": {
          "application/vnd.jupyter.widget-view+json": {
           "model_id": "",
           "version_major": 2,
           "version_minor": 0
          },
          "text/plain": "Dropdown(options=(('Raw number of results', 'raw'), ('Proportion of total articles', 'proportion')), value='ra…"
         },
         "metadata": {},
         "output_type": "display_data"
        },
        {
         "data": {
          "text/html": "\n<div id=\"altair-viz-e8599d35ece14fcd85bfdc432391ce8a\"></div>\n<script type=\"text/javascript\">\n  var VEGA_DEBUG = (typeof VEGA_DEBUG == \"undefined\") ? {} : VEGA_DEBUG;\n  (function(spec, embedOpt){\n    let outputDiv = document.currentScript.previousElementSibling;\n    if (outputDiv.id !== \"altair-viz-e8599d35ece14fcd85bfdc432391ce8a\") {\n      outputDiv = document.getElementById(\"altair-viz-e8599d35ece14fcd85bfdc432391ce8a\");\n    }\n    const paths = {\n      \"vega\": \"https://cdn.jsdelivr.net/npm//vega@5?noext\",\n      \"vega-lib\": \"https://cdn.jsdelivr.net/npm//vega-lib?noext\",\n      \"vega-lite\": \"https://cdn.jsdelivr.net/npm//vega-lite@4.17.0?noext\",\n      \"vega-embed\": \"https://cdn.jsdelivr.net/npm//vega-embed@6?noext\",\n    };\n\n    function maybeLoadScript(lib, version) {\n      var key = `${lib.replace(\"-\", \"\")}_version`;\n      return (VEGA_DEBUG[key] == version) ?\n        Promise.resolve(paths[lib]) :\n        new Promise(function(resolve, reject) {\n          var s = document.createElement('script');\n          document.getElementsByTagName(\"head\")[0].appendChild(s);\n          s.async = true;\n          s.onload = () => {\n            VEGA_DEBUG[key] = version;\n            return resolve(paths[lib]);\n          };\n          s.onerror = () => reject(`Error loading script: ${paths[lib]}`);\n          s.src = paths[lib];\n        });\n    }\n\n    function showError(err) {\n      outputDiv.innerHTML = `<div class=\"error\" style=\"color:red;\">${err}</div>`;\n      throw err;\n    }\n\n    function displayChart(vegaEmbed) {\n      vegaEmbed(outputDiv, spec, embedOpt)\n        .catch(err => showError(`Javascript Error: ${err.message}<br>This usually means there's a typo in your chart specification. See the javascript console for the full traceback.`));\n    }\n\n    if(typeof define === \"function\" && define.amd) {\n      requirejs.config({paths});\n      require([\"vega-embed\"], displayChart, err => showError(`Error loading script: ${err.message}`));\n    } else {\n      maybeLoadScript(\"vega\", \"5\")\n        .then(() => maybeLoadScript(\"vega-lite\", \"4.17.0\"))\n        .then(() => maybeLoadScript(\"vega-embed\", \"6\"))\n        .catch(showError)\n        .then(() => displayChart(vegaEmbed));\n    }\n  })({\"usermeta\": {\"embedOptions\": {\"loader\": {\"target\": \"_blank\"}}}, \"vconcat\": [{\"data\": {\"name\": \"data-82054f5faec3e16ceea130d99ce922e3\"}, \"mark\": {\"type\": \"line\", \"interpolate\": \"cardinal\", \"point\": true}, \"encoding\": {\"color\": {\"field\": \"id\", \"legend\": {\"title\": \"\"}, \"type\": \"nominal\"}, \"href\": {\"field\": \"url\", \"type\": \"nominal\"}, \"tooltip\": [{\"field\": \"id\", \"title\": \"query\", \"type\": \"nominal\"}, {\"field\": \"date\", \"timeUnit\": \"year\", \"title\": \"year\", \"type\": \"temporal\"}, {\"field\": \"total_results\", \"format\": \",\", \"title\": \"results\", \"type\": \"quantitative\"}, {\"field\": \"PercentOfTotal\", \"format\": \".2%\", \"title\": \"proportion\", \"type\": \"quantitative\"}], \"x\": {\"axis\": {\"title\": \"Year\"}, \"field\": \"date\", \"scale\": {\"padding\": 10}, \"timeUnit\": \"year\", \"type\": \"temporal\"}, \"y\": {\"axis\": {\"format\": \",d\", \"title\": \"Number of articles\"}, \"field\": \"total_results\", \"type\": \"quantitative\"}}, \"height\": 400, \"title\": {\"text\": \"Trove Newspapers & Gazettes Search\", \"subtitle\": \"Created by QueryPic: 24 June 2022\"}, \"transform\": [{\"calculate\": \"datum.total_results / datum.total_articles\", \"as\": \"PercentOfTotal\"}], \"width\": 800}, {\"data\": {\"name\": \"data-a84671b8975528608e8fe6591fb4c574\"}, \"mark\": {\"type\": \"text\", \"align\": \"left\", \"baseline\": \"middle\", \"dx\": 2, \"dy\": 1}, \"encoding\": {\"color\": {\"value\": \"blue\"}, \"href\": {\"field\": \"url\", \"type\": \"nominal\"}, \"text\": {\"field\": \"url\", \"type\": \"nominal\"}, \"x\": {\"axis\": null, \"field\": \"x\", \"scale\": {\"range\": [0, 1]}, \"title\": null, \"type\": \"quantitative\"}, \"y\": {\"axis\": {\"domain\": false, \"grid\": false, \"labelFontWeight\": \"bold\"}, \"field\": \"id\", \"title\": null, \"type\": \"ordinal\"}}}], \"config\": {\"padding\": 20, \"title\": {\"fontSize\": 14}, \"view\": {\"strokeWidth\": 0}}, \"$schema\": \"https://vega.github.io/schema/vega-lite/v4.17.0.json\", \"datasets\": {\"data-82054f5faec3e16ceea130d99ce922e3\": [{\"date\": \"1850-01-02\", \"total_results\": 0, \"total_articles\": 0, \"url\": \"https://trove.nla.gov.au/search/category/newspapers?keyword=text%3A%22darling%20wife%22%20date%3A%5B1850%20TO%201954%5D&l-decade=185&l-year=1850\", \"id\": \"Query 1\"}, {\"date\": \"1851-01-02\", \"total_results\": 0, \"total_articles\": 0, \"url\": \"https://trove.nla.gov.au/search/category/newspapers?keyword=text%3A%22darling%20wife%22%20date%3A%5B1850%20TO%201954%5D&l-decade=185&l-year=1851\", \"id\": \"Query 1\"}, {\"date\": \"1852-01-02\", \"total_results\": 0, \"total_articles\": 0, \"url\": \"https://trove.nla.gov.au/search/category/newspapers?keyword=text%3A%22darling%20wife%22%20date%3A%5B1850%20TO%201954%5D&l-decade=185&l-year=1852\", \"id\": \"Query 1\"}, {\"date\": \"1853-01-02\", \"total_results\": 0, \"total_articles\": 0, \"url\": \"https://trove.nla.gov.au/search/category/newspapers?keyword=text%3A%22darling%20wife%22%20date%3A%5B1850%20TO%201954%5D&l-decade=185&l-year=1853\", \"id\": \"Query 1\"}, {\"date\": \"1854-01-02\", \"total_results\": 0, \"total_articles\": 0, \"url\": \"https://trove.nla.gov.au/search/category/newspapers?keyword=text%3A%22darling%20wife%22%20date%3A%5B1850%20TO%201954%5D&l-decade=185&l-year=1854\", \"id\": \"Query 1\"}, {\"date\": \"1855-01-02\", \"total_results\": 0, \"total_articles\": 0, \"url\": \"https://trove.nla.gov.au/search/category/newspapers?keyword=text%3A%22darling%20wife%22%20date%3A%5B1850%20TO%201954%5D&l-decade=185&l-year=1855\", \"id\": \"Query 1\"}, {\"date\": \"1856-01-02\", \"total_results\": 0, \"total_articles\": 0, \"url\": \"https://trove.nla.gov.au/search/category/newspapers?keyword=text%3A%22darling%20wife%22%20date%3A%5B1850%20TO%201954%5D&l-decade=185&l-year=1856\", \"id\": \"Query 1\"}, {\"date\": \"1857-01-02\", \"total_results\": 0, \"total_articles\": 0, \"url\": \"https://trove.nla.gov.au/search/category/newspapers?keyword=text%3A%22darling%20wife%22%20date%3A%5B1850%20TO%201954%5D&l-decade=185&l-year=1857\", \"id\": \"Query 1\"}, {\"date\": \"1858-01-02\", \"total_results\": 0, \"total_articles\": 0, \"url\": \"https://trove.nla.gov.au/search/category/newspapers?keyword=text%3A%22darling%20wife%22%20date%3A%5B1850%20TO%201954%5D&l-decade=185&l-year=1858\", \"id\": \"Query 1\"}, {\"date\": \"1859-01-02\", \"total_results\": 0, \"total_articles\": 0, \"url\": \"https://trove.nla.gov.au/search/category/newspapers?keyword=text%3A%22darling%20wife%22%20date%3A%5B1850%20TO%201954%5D&l-decade=185&l-year=1859\", \"id\": \"Query 1\"}, {\"date\": \"1860-01-02\", \"total_results\": 0, \"total_articles\": 0, \"url\": \"https://trove.nla.gov.au/search/category/newspapers?keyword=text%3A%22darling%20wife%22%20date%3A%5B1850%20TO%201954%5D&l-decade=186&l-year=1860\", \"id\": \"Query 1\"}, {\"date\": \"1861-01-02\", \"total_results\": 0, \"total_articles\": 0, \"url\": \"https://trove.nla.gov.au/search/category/newspapers?keyword=text%3A%22darling%20wife%22%20date%3A%5B1850%20TO%201954%5D&l-decade=186&l-year=1861\", \"id\": \"Query 1\"}, {\"date\": \"1862-01-02\", \"total_results\": 0, \"total_articles\": 0, \"url\": \"https://trove.nla.gov.au/search/category/newspapers?keyword=text%3A%22darling%20wife%22%20date%3A%5B1850%20TO%201954%5D&l-decade=186&l-year=1862\", \"id\": \"Query 1\"}, {\"date\": \"1863-01-02\", \"total_results\": 0, \"total_articles\": 0, \"url\": \"https://trove.nla.gov.au/search/category/newspapers?keyword=text%3A%22darling%20wife%22%20date%3A%5B1850%20TO%201954%5D&l-decade=186&l-year=1863\", \"id\": \"Query 1\"}, {\"date\": \"1864-01-02\", \"total_results\": 0, \"total_articles\": 0, \"url\": \"https://trove.nla.gov.au/search/category/newspapers?keyword=text%3A%22darling%20wife%22%20date%3A%5B1850%20TO%201954%5D&l-decade=186&l-year=1864\", \"id\": \"Query 1\"}, {\"date\": \"1865-01-02\", \"total_results\": 0, \"total_articles\": 0, \"url\": \"https://trove.nla.gov.au/search/category/newspapers?keyword=text%3A%22darling%20wife%22%20date%3A%5B1850%20TO%201954%5D&l-decade=186&l-year=1865\", \"id\": \"Query 1\"}, {\"date\": \"1866-01-02\", \"total_results\": 0, \"total_articles\": 0, \"url\": \"https://trove.nla.gov.au/search/category/newspapers?keyword=text%3A%22darling%20wife%22%20date%3A%5B1850%20TO%201954%5D&l-decade=186&l-year=1866\", \"id\": \"Query 1\"}, {\"date\": \"1867-01-02\", \"total_results\": 0, \"total_articles\": 0, \"url\": \"https://trove.nla.gov.au/search/category/newspapers?keyword=text%3A%22darling%20wife%22%20date%3A%5B1850%20TO%201954%5D&l-decade=186&l-year=1867\", \"id\": \"Query 1\"}, {\"date\": \"1868-01-02\", \"total_results\": 0, \"total_articles\": 0, \"url\": \"https://trove.nla.gov.au/search/category/newspapers?keyword=text%3A%22darling%20wife%22%20date%3A%5B1850%20TO%201954%5D&l-decade=186&l-year=1868\", \"id\": \"Query 1\"}, {\"date\": \"1869-01-02\", \"total_results\": 0, \"total_articles\": 0, \"url\": \"https://trove.nla.gov.au/search/category/newspapers?keyword=text%3A%22darling%20wife%22%20date%3A%5B1850%20TO%201954%5D&l-decade=186&l-year=1869\", \"id\": \"Query 1\"}, {\"date\": \"1870-01-02\", \"total_results\": 0, \"total_articles\": 0, \"url\": \"https://trove.nla.gov.au/search/category/newspapers?keyword=text%3A%22darling%20wife%22%20date%3A%5B1850%20TO%201954%5D&l-decade=187&l-year=1870\", \"id\": \"Query 1\"}, {\"date\": \"1871-01-02\", \"total_results\": 0, \"total_articles\": 0, \"url\": \"https://trove.nla.gov.au/search/category/newspapers?keyword=text%3A%22darling%20wife%22%20date%3A%5B1850%20TO%201954%5D&l-decade=187&l-year=1871\", \"id\": \"Query 1\"}, {\"date\": \"1872-01-02\", \"total_results\": 0, \"total_articles\": 0, \"url\": \"https://trove.nla.gov.au/search/category/newspapers?keyword=text%3A%22darling%20wife%22%20date%3A%5B1850%20TO%201954%5D&l-decade=187&l-year=1872\", \"id\": \"Query 1\"}, {\"date\": \"1873-01-02\", \"total_results\": 0, \"total_articles\": 0, \"url\": \"https://trove.nla.gov.au/search/category/newspapers?keyword=text%3A%22darling%20wife%22%20date%3A%5B1850%20TO%201954%5D&l-decade=187&l-year=1873\", \"id\": \"Query 1\"}, {\"date\": \"1874-01-02\", \"total_results\": 0, \"total_articles\": 0, \"url\": \"https://trove.nla.gov.au/search/category/newspapers?keyword=text%3A%22darling%20wife%22%20date%3A%5B1850%20TO%201954%5D&l-decade=187&l-year=1874\", \"id\": \"Query 1\"}, {\"date\": \"1875-01-02\", \"total_results\": 0, \"total_articles\": 0, \"url\": \"https://trove.nla.gov.au/search/category/newspapers?keyword=text%3A%22darling%20wife%22%20date%3A%5B1850%20TO%201954%5D&l-decade=187&l-year=1875\", \"id\": \"Query 1\"}, {\"date\": \"1876-01-02\", \"total_results\": 0, \"total_articles\": 0, \"url\": \"https://trove.nla.gov.au/search/category/newspapers?keyword=text%3A%22darling%20wife%22%20date%3A%5B1850%20TO%201954%5D&l-decade=187&l-year=1876\", \"id\": \"Query 1\"}, {\"date\": \"1877-01-02\", \"total_results\": 0, \"total_articles\": 0, \"url\": \"https://trove.nla.gov.au/search/category/newspapers?keyword=text%3A%22darling%20wife%22%20date%3A%5B1850%20TO%201954%5D&l-decade=187&l-year=1877\", \"id\": \"Query 1\"}, {\"date\": \"1878-01-02\", \"total_results\": 0, \"total_articles\": 0, \"url\": \"https://trove.nla.gov.au/search/category/newspapers?keyword=text%3A%22darling%20wife%22%20date%3A%5B1850%20TO%201954%5D&l-decade=187&l-year=1878\", \"id\": \"Query 1\"}, {\"date\": \"1879-01-02\", \"total_results\": 0, \"total_articles\": 0, \"url\": \"https://trove.nla.gov.au/search/category/newspapers?keyword=text%3A%22darling%20wife%22%20date%3A%5B1850%20TO%201954%5D&l-decade=187&l-year=1879\", \"id\": \"Query 1\"}, {\"date\": \"1880-01-02\", \"total_results\": 0, \"total_articles\": 0, \"url\": \"https://trove.nla.gov.au/search/category/newspapers?keyword=text%3A%22darling%20wife%22%20date%3A%5B1850%20TO%201954%5D&l-decade=188&l-year=1880\", \"id\": \"Query 1\"}, {\"date\": \"1881-01-02\", \"total_results\": 0, \"total_articles\": 0, \"url\": \"https://trove.nla.gov.au/search/category/newspapers?keyword=text%3A%22darling%20wife%22%20date%3A%5B1850%20TO%201954%5D&l-decade=188&l-year=1881\", \"id\": \"Query 1\"}, {\"date\": \"1882-01-02\", \"total_results\": 0, \"total_articles\": 0, \"url\": \"https://trove.nla.gov.au/search/category/newspapers?keyword=text%3A%22darling%20wife%22%20date%3A%5B1850%20TO%201954%5D&l-decade=188&l-year=1882\", \"id\": \"Query 1\"}, {\"date\": \"1883-01-02\", \"total_results\": 0, \"total_articles\": 0, \"url\": \"https://trove.nla.gov.au/search/category/newspapers?keyword=text%3A%22darling%20wife%22%20date%3A%5B1850%20TO%201954%5D&l-decade=188&l-year=1883\", \"id\": \"Query 1\"}, {\"date\": \"1884-01-02\", \"total_results\": 0, \"total_articles\": 0, \"url\": \"https://trove.nla.gov.au/search/category/newspapers?keyword=text%3A%22darling%20wife%22%20date%3A%5B1850%20TO%201954%5D&l-decade=188&l-year=1884\", \"id\": \"Query 1\"}, {\"date\": \"1885-01-02\", \"total_results\": 0, \"total_articles\": 0, \"url\": \"https://trove.nla.gov.au/search/category/newspapers?keyword=text%3A%22darling%20wife%22%20date%3A%5B1850%20TO%201954%5D&l-decade=188&l-year=1885\", \"id\": \"Query 1\"}, {\"date\": \"1886-01-02\", \"total_results\": 0, \"total_articles\": 0, \"url\": \"https://trove.nla.gov.au/search/category/newspapers?keyword=text%3A%22darling%20wife%22%20date%3A%5B1850%20TO%201954%5D&l-decade=188&l-year=1886\", \"id\": \"Query 1\"}, {\"date\": \"1887-01-02\", \"total_results\": 0, \"total_articles\": 0, \"url\": \"https://trove.nla.gov.au/search/category/newspapers?keyword=text%3A%22darling%20wife%22%20date%3A%5B1850%20TO%201954%5D&l-decade=188&l-year=1887\", \"id\": \"Query 1\"}, {\"date\": \"1888-01-02\", \"total_results\": 0, \"total_articles\": 0, \"url\": \"https://trove.nla.gov.au/search/category/newspapers?keyword=text%3A%22darling%20wife%22%20date%3A%5B1850%20TO%201954%5D&l-decade=188&l-year=1888\", \"id\": \"Query 1\"}, {\"date\": \"1889-01-02\", \"total_results\": 0, \"total_articles\": 0, \"url\": \"https://trove.nla.gov.au/search/category/newspapers?keyword=text%3A%22darling%20wife%22%20date%3A%5B1850%20TO%201954%5D&l-decade=188&l-year=1889\", \"id\": \"Query 1\"}, {\"date\": \"1890-01-02\", \"total_results\": 0, \"total_articles\": 0, \"url\": \"https://trove.nla.gov.au/search/category/newspapers?keyword=text%3A%22darling%20wife%22%20date%3A%5B1850%20TO%201954%5D&l-decade=189&l-year=1890\", \"id\": \"Query 1\"}, {\"date\": \"1891-01-02\", \"total_results\": 0, \"total_articles\": 0, \"url\": \"https://trove.nla.gov.au/search/category/newspapers?keyword=text%3A%22darling%20wife%22%20date%3A%5B1850%20TO%201954%5D&l-decade=189&l-year=1891\", \"id\": \"Query 1\"}, {\"date\": \"1892-01-02\", \"total_results\": 0, \"total_articles\": 0, \"url\": \"https://trove.nla.gov.au/search/category/newspapers?keyword=text%3A%22darling%20wife%22%20date%3A%5B1850%20TO%201954%5D&l-decade=189&l-year=1892\", \"id\": \"Query 1\"}, {\"date\": \"1893-01-02\", \"total_results\": 0, \"total_articles\": 0, \"url\": \"https://trove.nla.gov.au/search/category/newspapers?keyword=text%3A%22darling%20wife%22%20date%3A%5B1850%20TO%201954%5D&l-decade=189&l-year=1893\", \"id\": \"Query 1\"}, {\"date\": \"1894-01-02\", \"total_results\": 0, \"total_articles\": 0, \"url\": \"https://trove.nla.gov.au/search/category/newspapers?keyword=text%3A%22darling%20wife%22%20date%3A%5B1850%20TO%201954%5D&l-decade=189&l-year=1894\", \"id\": \"Query 1\"}, {\"date\": \"1895-01-02\", \"total_results\": 0, \"total_articles\": 0, \"url\": \"https://trove.nla.gov.au/search/category/newspapers?keyword=text%3A%22darling%20wife%22%20date%3A%5B1850%20TO%201954%5D&l-decade=189&l-year=1895\", \"id\": \"Query 1\"}, {\"date\": \"1896-01-02\", \"total_results\": 0, \"total_articles\": 0, \"url\": \"https://trove.nla.gov.au/search/category/newspapers?keyword=text%3A%22darling%20wife%22%20date%3A%5B1850%20TO%201954%5D&l-decade=189&l-year=1896\", \"id\": \"Query 1\"}, {\"date\": \"1897-01-02\", \"total_results\": 0, \"total_articles\": 0, \"url\": \"https://trove.nla.gov.au/search/category/newspapers?keyword=text%3A%22darling%20wife%22%20date%3A%5B1850%20TO%201954%5D&l-decade=189&l-year=1897\", \"id\": \"Query 1\"}, {\"date\": \"1898-01-02\", \"total_results\": 0, \"total_articles\": 0, \"url\": \"https://trove.nla.gov.au/search/category/newspapers?keyword=text%3A%22darling%20wife%22%20date%3A%5B1850%20TO%201954%5D&l-decade=189&l-year=1898\", \"id\": \"Query 1\"}, {\"date\": \"1899-01-02\", \"total_results\": 0, \"total_articles\": 0, \"url\": \"https://trove.nla.gov.au/search/category/newspapers?keyword=text%3A%22darling%20wife%22%20date%3A%5B1850%20TO%201954%5D&l-decade=189&l-year=1899\", \"id\": \"Query 1\"}, {\"date\": \"1900-01-02\", \"total_results\": 0, \"total_articles\": 0, \"url\": \"https://trove.nla.gov.au/search/category/newspapers?keyword=text%3A%22darling%20wife%22%20date%3A%5B1850%20TO%201954%5D&l-decade=190&l-year=1900\", \"id\": \"Query 1\"}, {\"date\": \"1901-01-02\", \"total_results\": 0, \"total_articles\": 0, \"url\": \"https://trove.nla.gov.au/search/category/newspapers?keyword=text%3A%22darling%20wife%22%20date%3A%5B1850%20TO%201954%5D&l-decade=190&l-year=1901\", \"id\": \"Query 1\"}, {\"date\": \"1902-01-02\", \"total_results\": 0, \"total_articles\": 0, \"url\": \"https://trove.nla.gov.au/search/category/newspapers?keyword=text%3A%22darling%20wife%22%20date%3A%5B1850%20TO%201954%5D&l-decade=190&l-year=1902\", \"id\": \"Query 1\"}, {\"date\": \"1903-01-02\", \"total_results\": 0, \"total_articles\": 0, \"url\": \"https://trove.nla.gov.au/search/category/newspapers?keyword=text%3A%22darling%20wife%22%20date%3A%5B1850%20TO%201954%5D&l-decade=190&l-year=1903\", \"id\": \"Query 1\"}, {\"date\": \"1904-01-02\", \"total_results\": 0, \"total_articles\": 0, \"url\": \"https://trove.nla.gov.au/search/category/newspapers?keyword=text%3A%22darling%20wife%22%20date%3A%5B1850%20TO%201954%5D&l-decade=190&l-year=1904\", \"id\": \"Query 1\"}, {\"date\": \"1905-01-02\", \"total_results\": 0, \"total_articles\": 0, \"url\": \"https://trove.nla.gov.au/search/category/newspapers?keyword=text%3A%22darling%20wife%22%20date%3A%5B1850%20TO%201954%5D&l-decade=190&l-year=1905\", \"id\": \"Query 1\"}, {\"date\": \"1906-01-02\", \"total_results\": 0, \"total_articles\": 0, \"url\": \"https://trove.nla.gov.au/search/category/newspapers?keyword=text%3A%22darling%20wife%22%20date%3A%5B1850%20TO%201954%5D&l-decade=190&l-year=1906\", \"id\": \"Query 1\"}, {\"date\": \"1907-01-02\", \"total_results\": 0, \"total_articles\": 0, \"url\": \"https://trove.nla.gov.au/search/category/newspapers?keyword=text%3A%22darling%20wife%22%20date%3A%5B1850%20TO%201954%5D&l-decade=190&l-year=1907\", \"id\": \"Query 1\"}, {\"date\": \"1908-01-02\", \"total_results\": 0, \"total_articles\": 0, \"url\": \"https://trove.nla.gov.au/search/category/newspapers?keyword=text%3A%22darling%20wife%22%20date%3A%5B1850%20TO%201954%5D&l-decade=190&l-year=1908\", \"id\": \"Query 1\"}, {\"date\": \"1909-01-02\", \"total_results\": 0, \"total_articles\": 0, \"url\": \"https://trove.nla.gov.au/search/category/newspapers?keyword=text%3A%22darling%20wife%22%20date%3A%5B1850%20TO%201954%5D&l-decade=190&l-year=1909\", \"id\": \"Query 1\"}, {\"date\": \"1910-01-02\", \"total_results\": 0, \"total_articles\": 0, \"url\": \"https://trove.nla.gov.au/search/category/newspapers?keyword=text%3A%22darling%20wife%22%20date%3A%5B1850%20TO%201954%5D&l-decade=191&l-year=1910\", \"id\": \"Query 1\"}, {\"date\": \"1911-01-02\", \"total_results\": 0, \"total_articles\": 0, \"url\": \"https://trove.nla.gov.au/search/category/newspapers?keyword=text%3A%22darling%20wife%22%20date%3A%5B1850%20TO%201954%5D&l-decade=191&l-year=1911\", \"id\": \"Query 1\"}, {\"date\": \"1912-01-02\", \"total_results\": 0, \"total_articles\": 0, \"url\": \"https://trove.nla.gov.au/search/category/newspapers?keyword=text%3A%22darling%20wife%22%20date%3A%5B1850%20TO%201954%5D&l-decade=191&l-year=1912\", \"id\": \"Query 1\"}, {\"date\": \"1913-01-02\", \"total_results\": 0, \"total_articles\": 0, \"url\": \"https://trove.nla.gov.au/search/category/newspapers?keyword=text%3A%22darling%20wife%22%20date%3A%5B1850%20TO%201954%5D&l-decade=191&l-year=1913\", \"id\": \"Query 1\"}, {\"date\": \"1914-01-02\", \"total_results\": 0, \"total_articles\": 0, \"url\": \"https://trove.nla.gov.au/search/category/newspapers?keyword=text%3A%22darling%20wife%22%20date%3A%5B1850%20TO%201954%5D&l-decade=191&l-year=1914\", \"id\": \"Query 1\"}, {\"date\": \"1915-01-02\", \"total_results\": 0, \"total_articles\": 0, \"url\": \"https://trove.nla.gov.au/search/category/newspapers?keyword=text%3A%22darling%20wife%22%20date%3A%5B1850%20TO%201954%5D&l-decade=191&l-year=1915\", \"id\": \"Query 1\"}, {\"date\": \"1916-01-02\", \"total_results\": 0, \"total_articles\": 0, \"url\": \"https://trove.nla.gov.au/search/category/newspapers?keyword=text%3A%22darling%20wife%22%20date%3A%5B1850%20TO%201954%5D&l-decade=191&l-year=1916\", \"id\": \"Query 1\"}, {\"date\": \"1917-01-02\", \"total_results\": 0, \"total_articles\": 0, \"url\": \"https://trove.nla.gov.au/search/category/newspapers?keyword=text%3A%22darling%20wife%22%20date%3A%5B1850%20TO%201954%5D&l-decade=191&l-year=1917\", \"id\": \"Query 1\"}, {\"date\": \"1918-01-02\", \"total_results\": 0, \"total_articles\": 0, \"url\": \"https://trove.nla.gov.au/search/category/newspapers?keyword=text%3A%22darling%20wife%22%20date%3A%5B1850%20TO%201954%5D&l-decade=191&l-year=1918\", \"id\": \"Query 1\"}, {\"date\": \"1919-01-02\", \"total_results\": 0, \"total_articles\": 0, \"url\": \"https://trove.nla.gov.au/search/category/newspapers?keyword=text%3A%22darling%20wife%22%20date%3A%5B1850%20TO%201954%5D&l-decade=191&l-year=1919\", \"id\": \"Query 1\"}, {\"date\": \"1920-01-02\", \"total_results\": 0, \"total_articles\": 0, \"url\": \"https://trove.nla.gov.au/search/category/newspapers?keyword=text%3A%22darling%20wife%22%20date%3A%5B1850%20TO%201954%5D&l-decade=192&l-year=1920\", \"id\": \"Query 1\"}, {\"date\": \"1921-01-02\", \"total_results\": 0, \"total_articles\": 0, \"url\": \"https://trove.nla.gov.au/search/category/newspapers?keyword=text%3A%22darling%20wife%22%20date%3A%5B1850%20TO%201954%5D&l-decade=192&l-year=1921\", \"id\": \"Query 1\"}, {\"date\": \"1922-01-02\", \"total_results\": 0, \"total_articles\": 0, \"url\": \"https://trove.nla.gov.au/search/category/newspapers?keyword=text%3A%22darling%20wife%22%20date%3A%5B1850%20TO%201954%5D&l-decade=192&l-year=1922\", \"id\": \"Query 1\"}, {\"date\": \"1923-01-02\", \"total_results\": 0, \"total_articles\": 0, \"url\": \"https://trove.nla.gov.au/search/category/newspapers?keyword=text%3A%22darling%20wife%22%20date%3A%5B1850%20TO%201954%5D&l-decade=192&l-year=1923\", \"id\": \"Query 1\"}, {\"date\": \"1924-01-02\", \"total_results\": 0, \"total_articles\": 0, \"url\": \"https://trove.nla.gov.au/search/category/newspapers?keyword=text%3A%22darling%20wife%22%20date%3A%5B1850%20TO%201954%5D&l-decade=192&l-year=1924\", \"id\": \"Query 1\"}, {\"date\": \"1925-01-02\", \"total_results\": 0, \"total_articles\": 0, \"url\": \"https://trove.nla.gov.au/search/category/newspapers?keyword=text%3A%22darling%20wife%22%20date%3A%5B1850%20TO%201954%5D&l-decade=192&l-year=1925\", \"id\": \"Query 1\"}, {\"date\": \"1926-01-02\", \"total_results\": 0, \"total_articles\": 0, \"url\": \"https://trove.nla.gov.au/search/category/newspapers?keyword=text%3A%22darling%20wife%22%20date%3A%5B1850%20TO%201954%5D&l-decade=192&l-year=1926\", \"id\": \"Query 1\"}, {\"date\": \"1927-01-02\", \"total_results\": 0, \"total_articles\": 0, \"url\": \"https://trove.nla.gov.au/search/category/newspapers?keyword=text%3A%22darling%20wife%22%20date%3A%5B1850%20TO%201954%5D&l-decade=192&l-year=1927\", \"id\": \"Query 1\"}, {\"date\": \"1928-01-02\", \"total_results\": 0, \"total_articles\": 0, \"url\": \"https://trove.nla.gov.au/search/category/newspapers?keyword=text%3A%22darling%20wife%22%20date%3A%5B1850%20TO%201954%5D&l-decade=192&l-year=1928\", \"id\": \"Query 1\"}, {\"date\": \"1929-01-02\", \"total_results\": 0, \"total_articles\": 0, \"url\": \"https://trove.nla.gov.au/search/category/newspapers?keyword=text%3A%22darling%20wife%22%20date%3A%5B1850%20TO%201954%5D&l-decade=192&l-year=1929\", \"id\": \"Query 1\"}, {\"date\": \"1930-01-02\", \"total_results\": 0, \"total_articles\": 0, \"url\": \"https://trove.nla.gov.au/search/category/newspapers?keyword=text%3A%22darling%20wife%22%20date%3A%5B1850%20TO%201954%5D&l-decade=193&l-year=1930\", \"id\": \"Query 1\"}, {\"date\": \"1931-01-02\", \"total_results\": 0, \"total_articles\": 0, \"url\": \"https://trove.nla.gov.au/search/category/newspapers?keyword=text%3A%22darling%20wife%22%20date%3A%5B1850%20TO%201954%5D&l-decade=193&l-year=1931\", \"id\": \"Query 1\"}, {\"date\": \"1932-01-02\", \"total_results\": 0, \"total_articles\": 0, \"url\": \"https://trove.nla.gov.au/search/category/newspapers?keyword=text%3A%22darling%20wife%22%20date%3A%5B1850%20TO%201954%5D&l-decade=193&l-year=1932\", \"id\": \"Query 1\"}, {\"date\": \"1933-01-02\", \"total_results\": 0, \"total_articles\": 0, \"url\": \"https://trove.nla.gov.au/search/category/newspapers?keyword=text%3A%22darling%20wife%22%20date%3A%5B1850%20TO%201954%5D&l-decade=193&l-year=1933\", \"id\": \"Query 1\"}, {\"date\": \"1934-01-02\", \"total_results\": 0, \"total_articles\": 0, \"url\": \"https://trove.nla.gov.au/search/category/newspapers?keyword=text%3A%22darling%20wife%22%20date%3A%5B1850%20TO%201954%5D&l-decade=193&l-year=1934\", \"id\": \"Query 1\"}, {\"date\": \"1935-01-02\", \"total_results\": 0, \"total_articles\": 0, \"url\": \"https://trove.nla.gov.au/search/category/newspapers?keyword=text%3A%22darling%20wife%22%20date%3A%5B1850%20TO%201954%5D&l-decade=193&l-year=1935\", \"id\": \"Query 1\"}, {\"date\": \"1936-01-02\", \"total_results\": 0, \"total_articles\": 0, \"url\": \"https://trove.nla.gov.au/search/category/newspapers?keyword=text%3A%22darling%20wife%22%20date%3A%5B1850%20TO%201954%5D&l-decade=193&l-year=1936\", \"id\": \"Query 1\"}, {\"date\": \"1937-01-02\", \"total_results\": 0, \"total_articles\": 0, \"url\": \"https://trove.nla.gov.au/search/category/newspapers?keyword=text%3A%22darling%20wife%22%20date%3A%5B1850%20TO%201954%5D&l-decade=193&l-year=1937\", \"id\": \"Query 1\"}, {\"date\": \"1938-01-02\", \"total_results\": 0, \"total_articles\": 0, \"url\": \"https://trove.nla.gov.au/search/category/newspapers?keyword=text%3A%22darling%20wife%22%20date%3A%5B1850%20TO%201954%5D&l-decade=193&l-year=1938\", \"id\": \"Query 1\"}, {\"date\": \"1939-01-02\", \"total_results\": 0, \"total_articles\": 0, \"url\": \"https://trove.nla.gov.au/search/category/newspapers?keyword=text%3A%22darling%20wife%22%20date%3A%5B1850%20TO%201954%5D&l-decade=193&l-year=1939\", \"id\": \"Query 1\"}, {\"date\": \"1940-01-02\", \"total_results\": 0, \"total_articles\": 0, \"url\": \"https://trove.nla.gov.au/search/category/newspapers?keyword=text%3A%22darling%20wife%22%20date%3A%5B1850%20TO%201954%5D&l-decade=194&l-year=1940\", \"id\": \"Query 1\"}, {\"date\": \"1941-01-02\", \"total_results\": 0, \"total_articles\": 0, \"url\": \"https://trove.nla.gov.au/search/category/newspapers?keyword=text%3A%22darling%20wife%22%20date%3A%5B1850%20TO%201954%5D&l-decade=194&l-year=1941\", \"id\": \"Query 1\"}, {\"date\": \"1942-01-02\", \"total_results\": 0, \"total_articles\": 0, \"url\": \"https://trove.nla.gov.au/search/category/newspapers?keyword=text%3A%22darling%20wife%22%20date%3A%5B1850%20TO%201954%5D&l-decade=194&l-year=1942\", \"id\": \"Query 1\"}, {\"date\": \"1943-01-02\", \"total_results\": 0, \"total_articles\": 0, \"url\": \"https://trove.nla.gov.au/search/category/newspapers?keyword=text%3A%22darling%20wife%22%20date%3A%5B1850%20TO%201954%5D&l-decade=194&l-year=1943\", \"id\": \"Query 1\"}, {\"date\": \"1944-01-02\", \"total_results\": 0, \"total_articles\": 0, \"url\": \"https://trove.nla.gov.au/search/category/newspapers?keyword=text%3A%22darling%20wife%22%20date%3A%5B1850%20TO%201954%5D&l-decade=194&l-year=1944\", \"id\": \"Query 1\"}, {\"date\": \"1945-01-02\", \"total_results\": 0, \"total_articles\": 0, \"url\": \"https://trove.nla.gov.au/search/category/newspapers?keyword=text%3A%22darling%20wife%22%20date%3A%5B1850%20TO%201954%5D&l-decade=194&l-year=1945\", \"id\": \"Query 1\"}, {\"date\": \"1946-01-02\", \"total_results\": 0, \"total_articles\": 0, \"url\": \"https://trove.nla.gov.au/search/category/newspapers?keyword=text%3A%22darling%20wife%22%20date%3A%5B1850%20TO%201954%5D&l-decade=194&l-year=1946\", \"id\": \"Query 1\"}, {\"date\": \"1947-01-02\", \"total_results\": 0, \"total_articles\": 0, \"url\": \"https://trove.nla.gov.au/search/category/newspapers?keyword=text%3A%22darling%20wife%22%20date%3A%5B1850%20TO%201954%5D&l-decade=194&l-year=1947\", \"id\": \"Query 1\"}, {\"date\": \"1948-01-02\", \"total_results\": 0, \"total_articles\": 0, \"url\": \"https://trove.nla.gov.au/search/category/newspapers?keyword=text%3A%22darling%20wife%22%20date%3A%5B1850%20TO%201954%5D&l-decade=194&l-year=1948\", \"id\": \"Query 1\"}, {\"date\": \"1949-01-02\", \"total_results\": 0, \"total_articles\": 0, \"url\": \"https://trove.nla.gov.au/search/category/newspapers?keyword=text%3A%22darling%20wife%22%20date%3A%5B1850%20TO%201954%5D&l-decade=194&l-year=1949\", \"id\": \"Query 1\"}, {\"date\": \"1950-01-02\", \"total_results\": 0, \"total_articles\": 0, \"url\": \"https://trove.nla.gov.au/search/category/newspapers?keyword=text%3A%22darling%20wife%22%20date%3A%5B1850%20TO%201954%5D&l-decade=195&l-year=1950\", \"id\": \"Query 1\"}, {\"date\": \"1951-01-02\", \"total_results\": 0, \"total_articles\": 0, \"url\": \"https://trove.nla.gov.au/search/category/newspapers?keyword=text%3A%22darling%20wife%22%20date%3A%5B1850%20TO%201954%5D&l-decade=195&l-year=1951\", \"id\": \"Query 1\"}, {\"date\": \"1952-01-02\", \"total_results\": 0, \"total_articles\": 0, \"url\": \"https://trove.nla.gov.au/search/category/newspapers?keyword=text%3A%22darling%20wife%22%20date%3A%5B1850%20TO%201954%5D&l-decade=195&l-year=1952\", \"id\": \"Query 1\"}, {\"date\": \"1953-01-02\", \"total_results\": 0, \"total_articles\": 0, \"url\": \"https://trove.nla.gov.au/search/category/newspapers?keyword=text%3A%22darling%20wife%22%20date%3A%5B1850%20TO%201954%5D&l-decade=195&l-year=1953\", \"id\": \"Query 1\"}], \"data-a84671b8975528608e8fe6591fb4c574\": [{\"x\": 0, \"y\": 0, \"id\": \"Query 1\", \"url\": \"https://trove.nla.gov.au/search/category/newspapers?keyword=text%3A%22darling%20wife%22%20date%3A%5B1850%20TO%201954%5D\", \"params\": \"keyword=text%3A%22darling%20wife%22%20date%3A%5B1850%20TO%201954%5D\"}]}}, {\"mode\": \"vega-lite\"});\n</script>",
          "text/plain": "alt.VConcatChart(...)"
         },
         "metadata": {},
         "output_type": "display_data"
        }
       ]
      }
     },
     "3556de9cffb44cb7932d0822e447c965": {
      "model_module": "@jupyter-widgets/output",
      "model_module_version": "1.0.0",
      "model_name": "OutputModel",
      "state": {
       "layout": "IPY_MODEL_432105edf8d5418a947bc444710dd156",
       "outputs": [
        {
         "data": {
          "application/vnd.jupyter.widget-view+json": {
           "model_id": "",
           "version_major": 2,
           "version_minor": 0
          },
          "text/plain": "HBox(children=(Button(button_style='primary', description='Save chart as HTML', style=ButtonStyle(), tooltip='…"
         },
         "metadata": {},
         "output_type": "display_data"
        },
        {
         "data": {
          "text/html": "Download data: <a href=\"data/querypic-20220624232042.csv\" download>data/querypic-20220624232042.csv</a>",
          "text/plain": "<IPython.core.display.HTML object>"
         },
         "metadata": {},
         "output_type": "display_data"
        }
       ]
      }
     },
     "355cf46b5f504b07beb72868907121fa": {
      "model_module": "@jupyter-widgets/controls",
      "model_module_version": "1.5.0",
      "model_name": "DescriptionStyleModel",
      "state": {
       "description_width": ""
      }
     },
     "35b58d85a8b44cbe876ffd42eb68ad06": {
      "model_module": "@jupyter-widgets/output",
      "model_module_version": "1.0.0",
      "model_name": "OutputModel",
      "state": {
       "layout": "IPY_MODEL_08720a8891c84f4aa20e78cfd6cb91f8"
      }
     },
     "35d72eb4d5e342e5a71456089d59d7e4": {
      "model_module": "@jupyter-widgets/controls",
      "model_module_version": "1.5.0",
      "model_name": "DropdownModel",
      "state": {
       "_options_labels": [
        "Automatic",
        "Year",
        "Month",
        "Day"
       ],
       "description": "Time unit:",
       "index": 1,
       "layout": "IPY_MODEL_f9ddc21f44404e5fadc283b1f3396c62",
       "style": "IPY_MODEL_4f3aa7ac02954f3ba08ef46ac4d76277"
      }
     },
     "360cafcffc4e45c98da478f59bde48e0": {
      "model_module": "@jupyter-widgets/controls",
      "model_module_version": "1.5.0",
      "model_name": "ButtonStyleModel",
      "state": {}
     },
     "364ff1c6bf8c40a191379ef0b87029e0": {
      "model_module": "@jupyter-widgets/controls",
      "model_module_version": "1.5.0",
      "model_name": "DescriptionStyleModel",
      "state": {
       "description_width": ""
      }
     },
     "36a63da480a34e1399a84c7d119015a2": {
      "model_module": "@jupyter-widgets/base",
      "model_module_version": "1.2.0",
      "model_name": "LayoutModel",
      "state": {}
     },
     "36b1750c29ec40169b0ebbc57a2784cd": {
      "model_module": "@jupyter-widgets/controls",
      "model_module_version": "1.5.0",
      "model_name": "HBoxModel",
      "state": {
       "children": [
        "IPY_MODEL_33a1db7680534ba2a171c1eff0511652",
        "IPY_MODEL_e56d9751e04845b19444484be628ec73",
        "IPY_MODEL_6c4f5e3155114069af030cec680b6c09"
       ],
       "layout": "IPY_MODEL_34ca0702097f46a88f103c10190fd471"
      }
     },
     "370829332efc4f9db9990d1c5906b100": {
      "model_module": "@jupyter-widgets/base",
      "model_module_version": "1.2.0",
      "model_name": "LayoutModel",
      "state": {}
     },
     "37217e4d802348979020793524174c43": {
      "model_module": "@jupyter-widgets/controls",
      "model_module_version": "1.5.0",
      "model_name": "DropdownModel",
      "state": {
       "_options_labels": [
        "Automatic",
        "Year",
        "Month",
        "Day"
       ],
       "description": "Time unit:",
       "index": 0,
       "layout": "IPY_MODEL_145880dd1022410990679ef3d790045d",
       "style": "IPY_MODEL_9f6d4a7c80184c48abd58cbf34282bac"
      }
     },
     "3766ef732b174af2a40e1c5f701b5d98": {
      "model_module": "@jupyter-widgets/controls",
      "model_module_version": "1.5.0",
      "model_name": "DescriptionStyleModel",
      "state": {
       "description_width": ""
      }
     },
     "3794568549f54645b45afa90cbb33892": {
      "model_module": "@jupyter-widgets/base",
      "model_module_version": "1.2.0",
      "model_name": "LayoutModel",
      "state": {}
     },
     "37a73819540e4f8199e7737a25333945": {
      "model_module": "@jupyter-widgets/controls",
      "model_module_version": "1.5.0",
      "model_name": "ButtonModel",
      "state": {
       "button_style": "primary",
       "description": "Save chart as HTML",
       "layout": "IPY_MODEL_aea0ab9d67544def8030d5f78cb320a9",
       "style": "IPY_MODEL_52c848c6a23040b7a4fb8b89e227f07b",
       "tooltip": "Save chart as HTML"
      }
     },
     "37ba2a03e0894762a3c88c9c2af911b8": {
      "model_module": "@jupyter-widgets/controls",
      "model_module_version": "1.5.0",
      "model_name": "DescriptionStyleModel",
      "state": {
       "description_width": ""
      }
     },
     "38012494e3c041ea82f4695b3f70f29f": {
      "model_module": "@jupyter-widgets/base",
      "model_module_version": "1.2.0",
      "model_name": "LayoutModel",
      "state": {}
     },
     "382efd81dcad4f06b83ccffc6aa5d924": {
      "model_module": "@jupyter-widgets/base",
      "model_module_version": "1.2.0",
      "model_name": "LayoutModel",
      "state": {
       "margin": "0 0 20px 0"
      }
     },
     "383ba7effe3c4272a66bae63ac572888": {
      "model_module": "@jupyter-widgets/controls",
      "model_module_version": "1.5.0",
      "model_name": "DescriptionStyleModel",
      "state": {
       "description_width": ""
      }
     },
     "38e3a15c050841adb2d5d4e1b8aa7387": {
      "model_module": "@jupyter-widgets/base",
      "model_module_version": "1.2.0",
      "model_name": "LayoutModel",
      "state": {}
     },
     "392a2313980a4846a7d6e11d78c92845": {
      "model_module": "@jupyter-widgets/controls",
      "model_module_version": "1.5.0",
      "model_name": "DescriptionStyleModel",
      "state": {
       "description_width": ""
      }
     },
     "393d912d05b145aaad5219b6509e7268": {
      "model_module": "@jupyter-widgets/controls",
      "model_module_version": "1.5.0",
      "model_name": "HBoxModel",
      "state": {
       "children": [
        "IPY_MODEL_58653cea4f72426e8848aebf9572346c",
        "IPY_MODEL_d05034023f954b2e96d22fb3b1491d2f",
        "IPY_MODEL_a5ebb2bc595f42bfb53bae6c242c6dad"
       ],
       "layout": "IPY_MODEL_8ec961fc299542d7b40288114885a5e5"
      }
     },
     "393dbd1337b743b1b33b27c7d0044597": {
      "model_module": "@jupyter-widgets/controls",
      "model_module_version": "1.5.0",
      "model_name": "ButtonStyleModel",
      "state": {}
     },
     "39542b4faa7f4e6db49cb3f5df7b65dc": {
      "model_module": "@jupyter-widgets/base",
      "model_module_version": "1.2.0",
      "model_name": "LayoutModel",
      "state": {}
     },
     "3996fc98bb62479c91110ea9095a398d": {
      "model_module": "@jupyter-widgets/base",
      "model_module_version": "1.2.0",
      "model_name": "LayoutModel",
      "state": {}
     },
     "39b82e92f744456491dac8f120677201": {
      "model_module": "@jupyter-widgets/base",
      "model_module_version": "1.2.0",
      "model_name": "LayoutModel",
      "state": {}
     },
     "3a30beabeea14b0d984ab5f78730f59e": {
      "model_module": "@jupyter-widgets/base",
      "model_module_version": "1.2.0",
      "model_name": "LayoutModel",
      "state": {}
     },
     "3a385d9c92f74e3eb3db1e2bb5ab19fe": {
      "model_module": "@jupyter-widgets/controls",
      "model_module_version": "1.5.0",
      "model_name": "ButtonStyleModel",
      "state": {}
     },
     "3a3868adbe3242509e1a6745f6365951": {
      "model_module": "@jupyter-widgets/base",
      "model_module_version": "1.2.0",
      "model_name": "LayoutModel",
      "state": {}
     },
     "3a70dd8cfe1a446d8d220a69a8c79898": {
      "model_module": "@jupyter-widgets/controls",
      "model_module_version": "1.5.0",
      "model_name": "ButtonStyleModel",
      "state": {}
     },
     "3a917b493d164071ba6d0a03f4e1071c": {
      "model_module": "@jupyter-widgets/controls",
      "model_module_version": "1.5.0",
      "model_name": "ButtonModel",
      "state": {
       "button_style": "primary",
       "description": "Visualise query",
       "layout": "IPY_MODEL_fc15622257c74094978d439cd7a95cb5",
       "style": "IPY_MODEL_5fe34c0c0708466a908fc8ebeba43d69",
       "tooltip": "Create chart from query"
      }
     },
     "3bb8caa4383b4c959db68fd08260f125": {
      "model_module": "@jupyter-widgets/base",
      "model_module_version": "1.2.0",
      "model_name": "LayoutModel",
      "state": {}
     },
     "3bdd7f8884f14018b0cc63a36d56b8f7": {
      "model_module": "@jupyter-widgets/controls",
      "model_module_version": "1.5.0",
      "model_name": "HTMLModel",
      "state": {
       "layout": "IPY_MODEL_80507a99765e4e348676ac4d632df44a",
       "style": "IPY_MODEL_636d50b0a8ab4c5ab9daffcc16780448",
       "value": " 0/11 [00:00&lt;?, ?it/s]"
      }
     },
     "3be51fd9b07c4a289e6155564925ac85": {
      "model_module": "@jupyter-widgets/controls",
      "model_module_version": "1.5.0",
      "model_name": "ProgressStyleModel",
      "state": {
       "description_width": ""
      }
     },
     "3c2a5b992776453f9828087d4470a6e4": {
      "model_module": "@jupyter-widgets/base",
      "model_module_version": "1.2.0",
      "model_name": "LayoutModel",
      "state": {}
     },
     "3c84099379de4088aaaf5c651cbc1e04": {
      "model_module": "@jupyter-widgets/base",
      "model_module_version": "1.2.0",
      "model_name": "LayoutModel",
      "state": {}
     },
     "3cbcd2418edf4f5fb6898db378166d4b": {
      "model_module": "@jupyter-widgets/controls",
      "model_module_version": "1.5.0",
      "model_name": "DescriptionStyleModel",
      "state": {
       "description_width": ""
      }
     },
     "3d881895eab44b60aaa7752a1caa6aeb": {
      "model_module": "@jupyter-widgets/base",
      "model_module_version": "1.2.0",
      "model_name": "LayoutModel",
      "state": {}
     },
     "3da7e24fb0a64877a932b1af9c8f85d6": {
      "model_module": "@jupyter-widgets/base",
      "model_module_version": "1.2.0",
      "model_name": "LayoutModel",
      "state": {}
     },
     "3dad8684776a4088a7802857949eb079": {
      "model_module": "@jupyter-widgets/base",
      "model_module_version": "1.2.0",
      "model_name": "LayoutModel",
      "state": {}
     },
     "3e1544130af345c88c2b07a1060bfbb6": {
      "model_module": "@jupyter-widgets/base",
      "model_module_version": "1.2.0",
      "model_name": "LayoutModel",
      "state": {}
     },
     "3e198f89d7a4408dab8a5c85b0064902": {
      "model_module": "@jupyter-widgets/base",
      "model_module_version": "1.2.0",
      "model_name": "LayoutModel",
      "state": {}
     },
     "3e2f1301f78c4f4c8399199b4a3ea603": {
      "model_module": "@jupyter-widgets/controls",
      "model_module_version": "1.5.0",
      "model_name": "ButtonStyleModel",
      "state": {}
     },
     "3e81e9a42c814ad8b0042608ea0d92be": {
      "model_module": "@jupyter-widgets/base",
      "model_module_version": "1.2.0",
      "model_name": "LayoutModel",
      "state": {}
     },
     "3eafd257d02447749bb93788b409cda6": {
      "model_module": "@jupyter-widgets/controls",
      "model_module_version": "1.5.0",
      "model_name": "TextModel",
      "state": {
       "description": "Query:",
       "layout": "IPY_MODEL_68e9d3fa2cf24d72971694e9380aa1dd",
       "placeholder": "Enter your search query",
       "style": "IPY_MODEL_66581801753d408e92258f1a248901d5",
       "value": "https://trove.nla.gov.au/search/category/newspapers?keyword=cat%20date:[1900-01-01T00:00:00Z TO 1900-02-01T00:00:00Z]"
      }
     },
     "3ec8a2fe134043c68716517f29200057": {
      "model_module": "@jupyter-widgets/controls",
      "model_module_version": "1.5.0",
      "model_name": "DropdownModel",
      "state": {
       "_options_labels": [
        "Automatic",
        "Year",
        "Month",
        "Day"
       ],
       "description": "Time unit:",
       "index": 0,
       "layout": "IPY_MODEL_3e198f89d7a4408dab8a5c85b0064902",
       "style": "IPY_MODEL_a537d6c69da54606af85d16d62a963d5"
      }
     },
     "3eda71e7b87c44d687351e6e195b2d8a": {
      "model_module": "@jupyter-widgets/controls",
      "model_module_version": "1.5.0",
      "model_name": "ButtonModel",
      "state": {
       "button_style": "primary",
       "description": "Visualise query",
       "layout": "IPY_MODEL_48d9c4ec1504406f807e0a5b098f32aa",
       "style": "IPY_MODEL_a1c626256e4a4fa084595180a7fb3f98",
       "tooltip": "Create chart from query"
      }
     },
     "3efb227b10be4fe7988104e62e2da5dc": {
      "model_module": "@jupyter-widgets/base",
      "model_module_version": "1.2.0",
      "model_name": "LayoutModel",
      "state": {}
     },
     "3f89a54fdcd1470c8900748e24911b34": {
      "model_module": "@jupyter-widgets/controls",
      "model_module_version": "1.5.0",
      "model_name": "PasswordModel",
      "state": {
       "description": "API key:",
       "layout": "IPY_MODEL_479bded465c54a878f3bc1bd33140428",
       "placeholder": "Enter your Trove API key",
       "style": "IPY_MODEL_b86b25405eaf405b9f914e382fc721fc",
       "value": "6pi5hht0d2umqcro"
      }
     },
     "3fa2f0867e1f458c87d8a498e45834f1": {
      "model_module": "@jupyter-widgets/base",
      "model_module_version": "1.2.0",
      "model_name": "LayoutModel",
      "state": {}
     },
     "3ff998525f3446b3a69c828beccc4f01": {
      "model_module": "@jupyter-widgets/base",
      "model_module_version": "1.2.0",
      "model_name": "LayoutModel",
      "state": {}
     },
     "40012fd01be8409298390ae6124b5a70": {
      "model_module": "@jupyter-widgets/controls",
      "model_module_version": "1.5.0",
      "model_name": "ProgressStyleModel",
      "state": {
       "description_width": ""
      }
     },
     "404e371c9c124cdebce0bb1c08d885b6": {
      "model_module": "@jupyter-widgets/controls",
      "model_module_version": "1.5.0",
      "model_name": "PasswordModel",
      "state": {
       "description": "API key:",
       "layout": "IPY_MODEL_85cdb8c53aa24cac8aa3d9fa0198b9c3",
       "placeholder": "Enter your Trove API key",
       "style": "IPY_MODEL_1157239bf86d4733996aab920eb09b0b",
       "value": "6pi5hht0d2umqcro"
      }
     },
     "40d5557037d6491abf6f6d9b7dcb0df4": {
      "model_module": "@jupyter-widgets/controls",
      "model_module_version": "1.5.0",
      "model_name": "DropdownModel",
      "state": {
       "_options_labels": [
        "Automatic",
        "Year",
        "Month",
        "Day"
       ],
       "description": "Time unit:",
       "index": 0,
       "layout": "IPY_MODEL_e3de6030183f49dc9954d940bfdac3c0",
       "style": "IPY_MODEL_d69acc414cfb4d7d88e91620d9901f1e"
      }
     },
     "410543128ac247cdbd5448ac2c2b05cc": {
      "model_module": "@jupyter-widgets/controls",
      "model_module_version": "1.5.0",
      "model_name": "DescriptionStyleModel",
      "state": {
       "description_width": ""
      }
     },
     "415fcf03dff34cd999ff763e280721c6": {
      "model_module": "@jupyter-widgets/controls",
      "model_module_version": "1.5.0",
      "model_name": "DescriptionStyleModel",
      "state": {
       "description_width": ""
      }
     },
     "42346562588f4e0aa26aaa8a95af67cd": {
      "model_module": "@jupyter-widgets/controls",
      "model_module_version": "1.5.0",
      "model_name": "TextModel",
      "state": {
       "description": "Query:",
       "layout": "IPY_MODEL_55da292982c9470a9f152bbd1bbd7638",
       "placeholder": "Enter your search query",
       "style": "IPY_MODEL_1d36ab85bd2647f880d25c2656075862",
       "value": "https://trove.nla.gov.au/search/category/newspapers?keyword=text%3A%22darling%20wife%22%20date%3A%5B1850%20TO%201954%5D"
      }
     },
     "427273433972424694325bb5560b7ec2": {
      "model_module": "@jupyter-widgets/base",
      "model_module_version": "1.2.0",
      "model_name": "LayoutModel",
      "state": {}
     },
     "428bcf0d62934308a6e3f16243ac245e": {
      "model_module": "@jupyter-widgets/controls",
      "model_module_version": "1.5.0",
      "model_name": "VBoxModel",
      "state": {
       "children": [
        "IPY_MODEL_d7349bf34f0c4797a385b9003de0aea8",
        "IPY_MODEL_b01eecd1a0a546cd9e7420323afa9348",
        "IPY_MODEL_a174afca1bd24864a8c1c6f20ee7fc1d"
       ],
       "layout": "IPY_MODEL_8f2595a10b5d45ec89dc97e571b3bae9"
      }
     },
     "429db81e86c4433eaf2969a8deb8409b": {
      "model_module": "@jupyter-widgets/controls",
      "model_module_version": "1.5.0",
      "model_name": "DescriptionStyleModel",
      "state": {
       "description_width": ""
      }
     },
     "42a34eef30004000ba8b025ea4bf8f9f": {
      "model_module": "@jupyter-widgets/controls",
      "model_module_version": "1.5.0",
      "model_name": "ButtonModel",
      "state": {
       "description": "Remove last query",
       "layout": "IPY_MODEL_a0c44ba372e5459f9093c8f214cf9a81",
       "style": "IPY_MODEL_393dbd1337b743b1b33b27c7d0044597",
       "tooltip": "Remove the last query"
      }
     },
     "42cd294b967c4717a8b5930ea659d580": {
      "model_module": "@jupyter-widgets/base",
      "model_module_version": "1.2.0",
      "model_name": "LayoutModel",
      "state": {}
     },
     "42f0252bc5eb42c0b0c96842bb403a20": {
      "model_module": "@jupyter-widgets/controls",
      "model_module_version": "1.5.0",
      "model_name": "HBoxModel",
      "state": {
       "children": [
        "IPY_MODEL_dc32d41edac7432aacaa021ce18a9d8b",
        "IPY_MODEL_854c23e231ae479a924f732b8a76bc3c",
        "IPY_MODEL_1d7dbd996a624050b37289dfe73c8727"
       ],
       "layout": "IPY_MODEL_24b5a09e08854364acd3e7b866fcbc80"
      }
     },
     "42ffd1dec7044cc9a2644f4aaff663c3": {
      "model_module": "@jupyter-widgets/controls",
      "model_module_version": "1.5.0",
      "model_name": "DescriptionStyleModel",
      "state": {
       "description_width": ""
      }
     },
     "432105edf8d5418a947bc444710dd156": {
      "model_module": "@jupyter-widgets/base",
      "model_module_version": "1.2.0",
      "model_name": "LayoutModel",
      "state": {}
     },
     "43272456008b4d8eb7969481a5bfefd9": {
      "model_module": "@jupyter-widgets/base",
      "model_module_version": "1.2.0",
      "model_name": "LayoutModel",
      "state": {}
     },
     "4330180ccb9c4089830c59c201cb8990": {
      "model_module": "@jupyter-widgets/controls",
      "model_module_version": "1.5.0",
      "model_name": "TextModel",
      "state": {
       "description": "Query:",
       "layout": "IPY_MODEL_1e5641bf76ae4a5bb1392392e47574f4",
       "placeholder": "Enter your search query",
       "style": "IPY_MODEL_e8fe891304364ecd911299beddf04ac7"
      }
     },
     "43a9dfe72d484c1cb6975642756eb5bd": {
      "model_module": "@jupyter-widgets/controls",
      "model_module_version": "1.5.0",
      "model_name": "ButtonModel",
      "state": {
       "description": "Remove last query",
       "layout": "IPY_MODEL_6359555abec043d381a87bb23f937ed1",
       "style": "IPY_MODEL_9cb0e8f98bd9435c8bceb1f5fb207b80",
       "tooltip": "Remove the last query"
      }
     },
     "43e3df8021ba4511b3737fc82bde770c": {
      "model_module": "@jupyter-widgets/controls",
      "model_module_version": "1.5.0",
      "model_name": "DescriptionStyleModel",
      "state": {
       "description_width": ""
      }
     },
     "43fca3c6bd26467aa60883166ee8440d": {
      "model_module": "@jupyter-widgets/controls",
      "model_module_version": "1.5.0",
      "model_name": "ButtonModel",
      "state": {
       "button_style": "primary",
       "description": "Visualise query",
       "layout": "IPY_MODEL_20c70ab102ea45a2864970b02edf3263",
       "style": "IPY_MODEL_08d9665cd80a4deebcd6027f75a7feb2",
       "tooltip": "Create chart from query"
      }
     },
     "441f049ae84144eea221b928b00355ef": {
      "model_module": "@jupyter-widgets/controls",
      "model_module_version": "1.5.0",
      "model_name": "ButtonStyleModel",
      "state": {}
     },
     "449b22a967934d01b80fe4f8a1652426": {
      "model_module": "@jupyter-widgets/base",
      "model_module_version": "1.2.0",
      "model_name": "LayoutModel",
      "state": {}
     },
     "44b24cb6bafd4800a9accc03fe1b2c51": {
      "model_module": "@jupyter-widgets/base",
      "model_module_version": "1.2.0",
      "model_name": "LayoutModel",
      "state": {}
     },
     "44c1514f4ae74f0fa96e4d67089c56ed": {
      "model_module": "@jupyter-widgets/controls",
      "model_module_version": "1.5.0",
      "model_name": "DescriptionStyleModel",
      "state": {
       "description_width": ""
      }
     },
     "44fc794dbc154e5ca7413f796e151976": {
      "model_module": "@jupyter-widgets/controls",
      "model_module_version": "1.5.0",
      "model_name": "ButtonStyleModel",
      "state": {}
     },
     "45023846b5b542a290c38304291bed35": {
      "model_module": "@jupyter-widgets/controls",
      "model_module_version": "1.5.0",
      "model_name": "ButtonStyleModel",
      "state": {}
     },
     "451c577a4cfb47609843ef970ec28ca2": {
      "model_module": "@jupyter-widgets/controls",
      "model_module_version": "1.5.0",
      "model_name": "FloatProgressModel",
      "state": {
       "layout": "IPY_MODEL_cd39fb97d0e94492803dc66bf2a1f751",
       "max": 11,
       "style": "IPY_MODEL_9ead1ccfc91b440e98143630375b145f",
       "value": 11
      }
     },
     "4553d667eb1246ea92f2bb0cd6dba271": {
      "model_module": "@jupyter-widgets/base",
      "model_module_version": "1.2.0",
      "model_name": "LayoutModel",
      "state": {}
     },
     "455467f9631c4720a1e083b263c4f695": {
      "model_module": "@jupyter-widgets/base",
      "model_module_version": "1.2.0",
      "model_name": "LayoutModel",
      "state": {}
     },
     "4597ff0082e347db82c0b9656ecc2f12": {
      "model_module": "@jupyter-widgets/controls",
      "model_module_version": "1.5.0",
      "model_name": "PasswordModel",
      "state": {
       "description": "API key:",
       "layout": "IPY_MODEL_da04eba6dc8b46e08bf96ff1a81c0428",
       "placeholder": "Enter your Trove API key",
       "style": "IPY_MODEL_15b37c100ee645009eb1e85d1cdd9e50",
       "value": "6pi5hht0d2umqcro"
      }
     },
     "45c388df924b4b35ae2963facb5c0ff3": {
      "model_module": "@jupyter-widgets/controls",
      "model_module_version": "1.5.0",
      "model_name": "ButtonStyleModel",
      "state": {}
     },
     "45f959889ca64110ac32f751bca01c22": {
      "model_module": "@jupyter-widgets/controls",
      "model_module_version": "1.5.0",
      "model_name": "BoundedIntTextModel",
      "state": {
       "description": "Width",
       "layout": "IPY_MODEL_9d999d7ac723474b843889d91a3d8f70",
       "max": 2000,
       "min": 700,
       "step": 100,
       "style": "IPY_MODEL_fa9f20a4ed784628ad273765dec8d5c0",
       "value": 700
      }
     },
     "4664b7ebf99e4f0b93a09d0a0f25bad9": {
      "model_module": "@jupyter-widgets/base",
      "model_module_version": "1.2.0",
      "model_name": "LayoutModel",
      "state": {}
     },
     "466acabf35bc4d51b856424968b7776f": {
      "model_module": "@jupyter-widgets/base",
      "model_module_version": "1.2.0",
      "model_name": "LayoutModel",
      "state": {}
     },
     "469f5254b8fb4d3681fa717d9d3654eb": {
      "model_module": "@jupyter-widgets/controls",
      "model_module_version": "1.5.0",
      "model_name": "DescriptionStyleModel",
      "state": {
       "description_width": ""
      }
     },
     "46ef1484e674407d860b5a5c33c22a1a": {
      "model_module": "@jupyter-widgets/controls",
      "model_module_version": "1.5.0",
      "model_name": "HBoxModel",
      "state": {
       "children": [
        "IPY_MODEL_0c9e8d2c272648d48a54eaaee12bd122",
        "IPY_MODEL_07857d5de845459185dd084827045fd3",
        "IPY_MODEL_7c25ba8e6a4d40cc90c85ede1a5a21d2"
       ],
       "layout": "IPY_MODEL_b7ec4a29515c45b69c5766d72fd6631c"
      }
     },
     "46ffe9ab925f47fe8515c2a7ec866b23": {
      "model_module": "@jupyter-widgets/controls",
      "model_module_version": "1.5.0",
      "model_name": "ButtonStyleModel",
      "state": {}
     },
     "4728a7624370469ea883b36496c930c8": {
      "model_module": "@jupyter-widgets/controls",
      "model_module_version": "1.5.0",
      "model_name": "DescriptionStyleModel",
      "state": {
       "description_width": ""
      }
     },
     "474fbf333c1d4bbcac2c8f5e9d69880a": {
      "model_module": "@jupyter-widgets/base",
      "model_module_version": "1.2.0",
      "model_name": "LayoutModel",
      "state": {}
     },
     "476d152e367946a680dfc7df7fa2d669": {
      "model_module": "@jupyter-widgets/controls",
      "model_module_version": "1.5.0",
      "model_name": "DescriptionStyleModel",
      "state": {
       "description_width": ""
      }
     },
     "479bded465c54a878f3bc1bd33140428": {
      "model_module": "@jupyter-widgets/base",
      "model_module_version": "1.2.0",
      "model_name": "LayoutModel",
      "state": {}
     },
     "4816f38502494436b9af1140341a75df": {
      "model_module": "@jupyter-widgets/controls",
      "model_module_version": "1.5.0",
      "model_name": "ButtonModel",
      "state": {
       "description": "Clear all queries",
       "layout": "IPY_MODEL_bfa1a17599f34391a469c6b2282e40f6",
       "style": "IPY_MODEL_d573ee25a3114f23a41595a20e0f0ead",
       "tooltip": "Clear current queries"
      }
     },
     "48324e3224c04e6a9aaacd496bf8b841": {
      "model_module": "@jupyter-widgets/controls",
      "model_module_version": "1.5.0",
      "model_name": "HTMLModel",
      "state": {
       "layout": "IPY_MODEL_3bb8caa4383b4c959db68fd08260f125",
       "style": "IPY_MODEL_410543128ac247cdbd5448ac2c2b05cc",
       "value": " 0/11 [00:00&lt;?, ?it/s]"
      }
     },
     "483653ccabd541429e1f67026525a6c3": {
      "model_module": "@jupyter-widgets/controls",
      "model_module_version": "1.5.0",
      "model_name": "DescriptionStyleModel",
      "state": {
       "description_width": ""
      }
     },
     "48550c16753048b199b83dfd54a42f0f": {
      "model_module": "@jupyter-widgets/base",
      "model_module_version": "1.2.0",
      "model_name": "LayoutModel",
      "state": {
       "width": "80%"
      }
     },
     "48625c3b086340648e3bfba4fefd01e1": {
      "model_module": "@jupyter-widgets/base",
      "model_module_version": "1.2.0",
      "model_name": "LayoutModel",
      "state": {}
     },
     "487c4957d4904cc7bf311a0fe5d853e8": {
      "model_module": "@jupyter-widgets/controls",
      "model_module_version": "1.5.0",
      "model_name": "TextModel",
      "state": {
       "description": "Query:",
       "layout": "IPY_MODEL_5c27ef21b3414f868dadd4bc7fdce0a8",
       "placeholder": "Enter your search query",
       "style": "IPY_MODEL_ae5f69fd6e1d442cb7ddaa2094d54be1",
       "value": "https://trove.nla.gov.au/search/category/newspapers?keyword=cat%20date:[1900-01-21T00:00:00Z TO 1950-01-31T00:00:00Z]"
      }
     },
     "487c53f7d81d4695b52f08d969662c03": {
      "model_module": "@jupyter-widgets/controls",
      "model_module_version": "1.5.0",
      "model_name": "DescriptionStyleModel",
      "state": {
       "description_width": ""
      }
     },
     "48a4f1ec29484da9bc7375309927d4bb": {
      "model_module": "@jupyter-widgets/base",
      "model_module_version": "1.2.0",
      "model_name": "LayoutModel",
      "state": {}
     },
     "48d9c4ec1504406f807e0a5b098f32aa": {
      "model_module": "@jupyter-widgets/base",
      "model_module_version": "1.2.0",
      "model_name": "LayoutModel",
      "state": {}
     },
     "48edaf83f0a44c4dbfad278238ddcf36": {
      "model_module": "@jupyter-widgets/base",
      "model_module_version": "1.2.0",
      "model_name": "LayoutModel",
      "state": {}
     },
     "4907a82fc6154afd8368e1d872d711d3": {
      "model_module": "@jupyter-widgets/base",
      "model_module_version": "1.2.0",
      "model_name": "LayoutModel",
      "state": {}
     },
     "49af3ef0643548f8a31f1760812ce718": {
      "model_module": "@jupyter-widgets/controls",
      "model_module_version": "1.5.0",
      "model_name": "ButtonStyleModel",
      "state": {}
     },
     "49b708bfc00249e9b8b8d0c92ffe5efe": {
      "model_module": "@jupyter-widgets/base",
      "model_module_version": "1.2.0",
      "model_name": "LayoutModel",
      "state": {}
     },
     "49f957cfa9b942439b4435ef07b5e241": {
      "model_module": "@jupyter-widgets/controls",
      "model_module_version": "1.5.0",
      "model_name": "DescriptionStyleModel",
      "state": {
       "description_width": ""
      }
     },
     "4a06cbca2ecc459696a8e4d3d7236526": {
      "model_module": "@jupyter-widgets/controls",
      "model_module_version": "1.5.0",
      "model_name": "ProgressStyleModel",
      "state": {
       "description_width": ""
      }
     },
     "4a8909b92c2c4117959940b8ab208b6a": {
      "model_module": "@jupyter-widgets/controls",
      "model_module_version": "1.5.0",
      "model_name": "HTMLModel",
      "state": {
       "layout": "IPY_MODEL_c6b32b0205eb4f54af29fad48a22f06a",
       "style": "IPY_MODEL_bf5fc72dee6b456d94018b0b93b1d704",
       "value": "100%"
      }
     },
     "4b602955f1714f3fa41f7fc86a5be538": {
      "model_module": "@jupyter-widgets/base",
      "model_module_version": "1.2.0",
      "model_name": "LayoutModel",
      "state": {}
     },
     "4bb9a9c954e44376a5582b14b349e424": {
      "model_module": "@jupyter-widgets/output",
      "model_module_version": "1.0.0",
      "model_name": "OutputModel",
      "state": {
       "layout": "IPY_MODEL_c58be535fba24a668071dc0365f26c7c",
       "outputs": [
        {
         "data": {
          "application/vnd.jupyter.widget-view+json": {
           "model_id": "",
           "version_major": 2,
           "version_minor": 0
          },
          "text/plain": "Dropdown(options=(('Raw number of results', 'raw'), ('Proportion of total articles', 'proportion')), value='ra…"
         },
         "metadata": {},
         "output_type": "display_data"
        },
        {
         "data": {
          "text/html": "\n<div id=\"altair-viz-492fababb6a24654a23d3e9a2a311d7a\"></div>\n<script type=\"text/javascript\">\n  var VEGA_DEBUG = (typeof VEGA_DEBUG == \"undefined\") ? {} : VEGA_DEBUG;\n  (function(spec, embedOpt){\n    let outputDiv = document.currentScript.previousElementSibling;\n    if (outputDiv.id !== \"altair-viz-492fababb6a24654a23d3e9a2a311d7a\") {\n      outputDiv = document.getElementById(\"altair-viz-492fababb6a24654a23d3e9a2a311d7a\");\n    }\n    const paths = {\n      \"vega\": \"https://cdn.jsdelivr.net/npm//vega@5?noext\",\n      \"vega-lib\": \"https://cdn.jsdelivr.net/npm//vega-lib?noext\",\n      \"vega-lite\": \"https://cdn.jsdelivr.net/npm//vega-lite@4.17.0?noext\",\n      \"vega-embed\": \"https://cdn.jsdelivr.net/npm//vega-embed@6?noext\",\n    };\n\n    function maybeLoadScript(lib, version) {\n      var key = `${lib.replace(\"-\", \"\")}_version`;\n      return (VEGA_DEBUG[key] == version) ?\n        Promise.resolve(paths[lib]) :\n        new Promise(function(resolve, reject) {\n          var s = document.createElement('script');\n          document.getElementsByTagName(\"head\")[0].appendChild(s);\n          s.async = true;\n          s.onload = () => {\n            VEGA_DEBUG[key] = version;\n            return resolve(paths[lib]);\n          };\n          s.onerror = () => reject(`Error loading script: ${paths[lib]}`);\n          s.src = paths[lib];\n        });\n    }\n\n    function showError(err) {\n      outputDiv.innerHTML = `<div class=\"error\" style=\"color:red;\">${err}</div>`;\n      throw err;\n    }\n\n    function displayChart(vegaEmbed) {\n      vegaEmbed(outputDiv, spec, embedOpt)\n        .catch(err => showError(`Javascript Error: ${err.message}<br>This usually means there's a typo in your chart specification. See the javascript console for the full traceback.`));\n    }\n\n    if(typeof define === \"function\" && define.amd) {\n      requirejs.config({paths});\n      require([\"vega-embed\"], displayChart, err => showError(`Error loading script: ${err.message}`));\n    } else {\n      maybeLoadScript(\"vega\", \"5\")\n        .then(() => maybeLoadScript(\"vega-lite\", \"4.17.0\"))\n        .then(() => maybeLoadScript(\"vega-embed\", \"6\"))\n        .catch(showError)\n        .then(() => displayChart(vegaEmbed));\n    }\n  })({\"usermeta\": {\"embedOptions\": {\"loader\": {\"target\": \"_blank\"}}}, \"vconcat\": [{\"data\": {\"name\": \"data-d10f65eebacae6fe3f3cc06df08d78d4\"}, \"mark\": {\"type\": \"line\", \"interpolate\": \"cardinal\", \"point\": true}, \"encoding\": {\"color\": {\"field\": \"id\", \"legend\": {\"title\": \"\"}, \"type\": \"nominal\"}, \"href\": {\"field\": \"url\", \"type\": \"nominal\"}, \"tooltip\": [{\"field\": \"id\", \"title\": \"query\", \"type\": \"nominal\"}, {\"field\": \"date\", \"timeUnit\": \"year\", \"title\": \"year\", \"type\": \"temporal\"}, {\"field\": \"total_results\", \"format\": \",\", \"title\": \"results\", \"type\": \"quantitative\"}, {\"field\": \"PercentOfTotal\", \"format\": \".2%\", \"title\": \"proportion\", \"type\": \"quantitative\"}], \"x\": {\"axis\": {\"title\": \"Year\"}, \"field\": \"date\", \"scale\": {\"padding\": 10}, \"timeUnit\": \"year\", \"type\": \"temporal\"}, \"y\": {\"axis\": {\"format\": \",d\", \"title\": \"Number of articles\"}, \"field\": \"total_results\", \"type\": \"quantitative\"}}, \"height\": 400, \"title\": {\"text\": \"Trove Newspapers & Gazettes Search\", \"subtitle\": \"Created by QueryPic: 24 June 2022\"}, \"transform\": [{\"calculate\": \"datum.total_results / datum.total_articles\", \"as\": \"PercentOfTotal\"}], \"width\": 800}, {\"data\": {\"name\": \"data-f675c00c0df2c3ff4332f63876210147\"}, \"mark\": {\"type\": \"text\", \"align\": \"left\", \"baseline\": \"middle\", \"dx\": 2, \"dy\": 1}, \"encoding\": {\"color\": {\"value\": \"blue\"}, \"href\": {\"field\": \"url\", \"type\": \"nominal\"}, \"text\": {\"field\": \"url\", \"type\": \"nominal\"}, \"x\": {\"axis\": null, \"field\": \"x\", \"scale\": {\"range\": [0, 1]}, \"title\": null, \"type\": \"quantitative\"}, \"y\": {\"axis\": {\"domain\": false, \"grid\": false, \"labelFontWeight\": \"bold\"}, \"field\": \"id\", \"title\": null, \"type\": \"ordinal\"}}}], \"config\": {\"padding\": 20, \"title\": {\"fontSize\": 14}, \"view\": {\"strokeWidth\": 0}}, \"$schema\": \"https://vega.github.io/schema/vega-lite/v4.17.0.json\", \"datasets\": {\"data-d10f65eebacae6fe3f3cc06df08d78d4\": [{\"date\": \"1850-01-02\", \"total_results\": 0, \"total_articles\": 0, \"url\": \"https://trove.nla.gov.au/search/category/newspapers?keyword=text%3A%22darling%20wife%22%20date%3A%5B1850%20TO%201954%5D&l-decade=185&l-year=1850\", \"id\": \"Query 1\"}, {\"date\": \"1851-01-02\", \"total_results\": 0, \"total_articles\": 0, \"url\": \"https://trove.nla.gov.au/search/category/newspapers?keyword=text%3A%22darling%20wife%22%20date%3A%5B1850%20TO%201954%5D&l-decade=185&l-year=1851\", \"id\": \"Query 1\"}, {\"date\": \"1852-01-02\", \"total_results\": 0, \"total_articles\": 0, \"url\": \"https://trove.nla.gov.au/search/category/newspapers?keyword=text%3A%22darling%20wife%22%20date%3A%5B1850%20TO%201954%5D&l-decade=185&l-year=1852\", \"id\": \"Query 1\"}, {\"date\": \"1853-01-02\", \"total_results\": 0, \"total_articles\": 0, \"url\": \"https://trove.nla.gov.au/search/category/newspapers?keyword=text%3A%22darling%20wife%22%20date%3A%5B1850%20TO%201954%5D&l-decade=185&l-year=1853\", \"id\": \"Query 1\"}, {\"date\": \"1854-01-02\", \"total_results\": 0, \"total_articles\": 0, \"url\": \"https://trove.nla.gov.au/search/category/newspapers?keyword=text%3A%22darling%20wife%22%20date%3A%5B1850%20TO%201954%5D&l-decade=185&l-year=1854\", \"id\": \"Query 1\"}, {\"date\": \"1855-01-02\", \"total_results\": 0, \"total_articles\": 0, \"url\": \"https://trove.nla.gov.au/search/category/newspapers?keyword=text%3A%22darling%20wife%22%20date%3A%5B1850%20TO%201954%5D&l-decade=185&l-year=1855\", \"id\": \"Query 1\"}, {\"date\": \"1856-01-02\", \"total_results\": 0, \"total_articles\": 0, \"url\": \"https://trove.nla.gov.au/search/category/newspapers?keyword=text%3A%22darling%20wife%22%20date%3A%5B1850%20TO%201954%5D&l-decade=185&l-year=1856\", \"id\": \"Query 1\"}, {\"date\": \"1857-01-02\", \"total_results\": 0, \"total_articles\": 0, \"url\": \"https://trove.nla.gov.au/search/category/newspapers?keyword=text%3A%22darling%20wife%22%20date%3A%5B1850%20TO%201954%5D&l-decade=185&l-year=1857\", \"id\": \"Query 1\"}, {\"date\": \"1858-01-02\", \"total_results\": 0, \"total_articles\": 0, \"url\": \"https://trove.nla.gov.au/search/category/newspapers?keyword=text%3A%22darling%20wife%22%20date%3A%5B1850%20TO%201954%5D&l-decade=185&l-year=1858\", \"id\": \"Query 1\"}, {\"date\": \"1859-01-02\", \"total_results\": 0, \"total_articles\": 0, \"url\": \"https://trove.nla.gov.au/search/category/newspapers?keyword=text%3A%22darling%20wife%22%20date%3A%5B1850%20TO%201954%5D&l-decade=185&l-year=1859\", \"id\": \"Query 1\"}, {\"date\": \"1860-01-02\", \"total_results\": 0, \"total_articles\": 0, \"url\": \"https://trove.nla.gov.au/search/category/newspapers?keyword=text%3A%22darling%20wife%22%20date%3A%5B1850%20TO%201954%5D&l-decade=186&l-year=1860\", \"id\": \"Query 1\"}, {\"date\": \"1861-01-02\", \"total_results\": 0, \"total_articles\": 0, \"url\": \"https://trove.nla.gov.au/search/category/newspapers?keyword=text%3A%22darling%20wife%22%20date%3A%5B1850%20TO%201954%5D&l-decade=186&l-year=1861\", \"id\": \"Query 1\"}, {\"date\": \"1862-01-02\", \"total_results\": 0, \"total_articles\": 0, \"url\": \"https://trove.nla.gov.au/search/category/newspapers?keyword=text%3A%22darling%20wife%22%20date%3A%5B1850%20TO%201954%5D&l-decade=186&l-year=1862\", \"id\": \"Query 1\"}, {\"date\": \"1863-01-02\", \"total_results\": 0, \"total_articles\": 0, \"url\": \"https://trove.nla.gov.au/search/category/newspapers?keyword=text%3A%22darling%20wife%22%20date%3A%5B1850%20TO%201954%5D&l-decade=186&l-year=1863\", \"id\": \"Query 1\"}, {\"date\": \"1864-01-02\", \"total_results\": 0, \"total_articles\": 0, \"url\": \"https://trove.nla.gov.au/search/category/newspapers?keyword=text%3A%22darling%20wife%22%20date%3A%5B1850%20TO%201954%5D&l-decade=186&l-year=1864\", \"id\": \"Query 1\"}, {\"date\": \"1865-01-02\", \"total_results\": 0, \"total_articles\": 0, \"url\": \"https://trove.nla.gov.au/search/category/newspapers?keyword=text%3A%22darling%20wife%22%20date%3A%5B1850%20TO%201954%5D&l-decade=186&l-year=1865\", \"id\": \"Query 1\"}, {\"date\": \"1866-01-02\", \"total_results\": 0, \"total_articles\": 0, \"url\": \"https://trove.nla.gov.au/search/category/newspapers?keyword=text%3A%22darling%20wife%22%20date%3A%5B1850%20TO%201954%5D&l-decade=186&l-year=1866\", \"id\": \"Query 1\"}, {\"date\": \"1867-01-02\", \"total_results\": 0, \"total_articles\": 0, \"url\": \"https://trove.nla.gov.au/search/category/newspapers?keyword=text%3A%22darling%20wife%22%20date%3A%5B1850%20TO%201954%5D&l-decade=186&l-year=1867\", \"id\": \"Query 1\"}, {\"date\": \"1868-01-02\", \"total_results\": 0, \"total_articles\": 0, \"url\": \"https://trove.nla.gov.au/search/category/newspapers?keyword=text%3A%22darling%20wife%22%20date%3A%5B1850%20TO%201954%5D&l-decade=186&l-year=1868\", \"id\": \"Query 1\"}, {\"date\": \"1869-01-02\", \"total_results\": 0, \"total_articles\": 0, \"url\": \"https://trove.nla.gov.au/search/category/newspapers?keyword=text%3A%22darling%20wife%22%20date%3A%5B1850%20TO%201954%5D&l-decade=186&l-year=1869\", \"id\": \"Query 1\"}, {\"date\": \"1870-01-02\", \"total_results\": 0, \"total_articles\": 0, \"url\": \"https://trove.nla.gov.au/search/category/newspapers?keyword=text%3A%22darling%20wife%22%20date%3A%5B1850%20TO%201954%5D&l-decade=187&l-year=1870\", \"id\": \"Query 1\"}, {\"date\": \"1871-01-02\", \"total_results\": 0, \"total_articles\": 0, \"url\": \"https://trove.nla.gov.au/search/category/newspapers?keyword=text%3A%22darling%20wife%22%20date%3A%5B1850%20TO%201954%5D&l-decade=187&l-year=1871\", \"id\": \"Query 1\"}, {\"date\": \"1872-01-02\", \"total_results\": 0, \"total_articles\": 0, \"url\": \"https://trove.nla.gov.au/search/category/newspapers?keyword=text%3A%22darling%20wife%22%20date%3A%5B1850%20TO%201954%5D&l-decade=187&l-year=1872\", \"id\": \"Query 1\"}, {\"date\": \"1873-01-02\", \"total_results\": 0, \"total_articles\": 0, \"url\": \"https://trove.nla.gov.au/search/category/newspapers?keyword=text%3A%22darling%20wife%22%20date%3A%5B1850%20TO%201954%5D&l-decade=187&l-year=1873\", \"id\": \"Query 1\"}, {\"date\": \"1874-01-02\", \"total_results\": 0, \"total_articles\": 0, \"url\": \"https://trove.nla.gov.au/search/category/newspapers?keyword=text%3A%22darling%20wife%22%20date%3A%5B1850%20TO%201954%5D&l-decade=187&l-year=1874\", \"id\": \"Query 1\"}, {\"date\": \"1875-01-02\", \"total_results\": 0, \"total_articles\": 0, \"url\": \"https://trove.nla.gov.au/search/category/newspapers?keyword=text%3A%22darling%20wife%22%20date%3A%5B1850%20TO%201954%5D&l-decade=187&l-year=1875\", \"id\": \"Query 1\"}, {\"date\": \"1876-01-02\", \"total_results\": 0, \"total_articles\": 0, \"url\": \"https://trove.nla.gov.au/search/category/newspapers?keyword=text%3A%22darling%20wife%22%20date%3A%5B1850%20TO%201954%5D&l-decade=187&l-year=1876\", \"id\": \"Query 1\"}, {\"date\": \"1877-01-02\", \"total_results\": 0, \"total_articles\": 0, \"url\": \"https://trove.nla.gov.au/search/category/newspapers?keyword=text%3A%22darling%20wife%22%20date%3A%5B1850%20TO%201954%5D&l-decade=187&l-year=1877\", \"id\": \"Query 1\"}, {\"date\": \"1878-01-02\", \"total_results\": 0, \"total_articles\": 0, \"url\": \"https://trove.nla.gov.au/search/category/newspapers?keyword=text%3A%22darling%20wife%22%20date%3A%5B1850%20TO%201954%5D&l-decade=187&l-year=1878\", \"id\": \"Query 1\"}, {\"date\": \"1879-01-02\", \"total_results\": 0, \"total_articles\": 0, \"url\": \"https://trove.nla.gov.au/search/category/newspapers?keyword=text%3A%22darling%20wife%22%20date%3A%5B1850%20TO%201954%5D&l-decade=187&l-year=1879\", \"id\": \"Query 1\"}, {\"date\": \"1880-01-02\", \"total_results\": 0, \"total_articles\": 0, \"url\": \"https://trove.nla.gov.au/search/category/newspapers?keyword=text%3A%22darling%20wife%22%20date%3A%5B1850%20TO%201954%5D&l-decade=188&l-year=1880\", \"id\": \"Query 1\"}, {\"date\": \"1881-01-02\", \"total_results\": 0, \"total_articles\": 0, \"url\": \"https://trove.nla.gov.au/search/category/newspapers?keyword=text%3A%22darling%20wife%22%20date%3A%5B1850%20TO%201954%5D&l-decade=188&l-year=1881\", \"id\": \"Query 1\"}, {\"date\": \"1882-01-02\", \"total_results\": 0, \"total_articles\": 0, \"url\": \"https://trove.nla.gov.au/search/category/newspapers?keyword=text%3A%22darling%20wife%22%20date%3A%5B1850%20TO%201954%5D&l-decade=188&l-year=1882\", \"id\": \"Query 1\"}, {\"date\": \"1883-01-02\", \"total_results\": 0, \"total_articles\": 0, \"url\": \"https://trove.nla.gov.au/search/category/newspapers?keyword=text%3A%22darling%20wife%22%20date%3A%5B1850%20TO%201954%5D&l-decade=188&l-year=1883\", \"id\": \"Query 1\"}, {\"date\": \"1884-01-02\", \"total_results\": 0, \"total_articles\": 0, \"url\": \"https://trove.nla.gov.au/search/category/newspapers?keyword=text%3A%22darling%20wife%22%20date%3A%5B1850%20TO%201954%5D&l-decade=188&l-year=1884\", \"id\": \"Query 1\"}, {\"date\": \"1885-01-02\", \"total_results\": 0, \"total_articles\": 0, \"url\": \"https://trove.nla.gov.au/search/category/newspapers?keyword=text%3A%22darling%20wife%22%20date%3A%5B1850%20TO%201954%5D&l-decade=188&l-year=1885\", \"id\": \"Query 1\"}, {\"date\": \"1886-01-02\", \"total_results\": 0, \"total_articles\": 0, \"url\": \"https://trove.nla.gov.au/search/category/newspapers?keyword=text%3A%22darling%20wife%22%20date%3A%5B1850%20TO%201954%5D&l-decade=188&l-year=1886\", \"id\": \"Query 1\"}, {\"date\": \"1887-01-02\", \"total_results\": 0, \"total_articles\": 0, \"url\": \"https://trove.nla.gov.au/search/category/newspapers?keyword=text%3A%22darling%20wife%22%20date%3A%5B1850%20TO%201954%5D&l-decade=188&l-year=1887\", \"id\": \"Query 1\"}, {\"date\": \"1888-01-02\", \"total_results\": 0, \"total_articles\": 0, \"url\": \"https://trove.nla.gov.au/search/category/newspapers?keyword=text%3A%22darling%20wife%22%20date%3A%5B1850%20TO%201954%5D&l-decade=188&l-year=1888\", \"id\": \"Query 1\"}, {\"date\": \"1889-01-02\", \"total_results\": 0, \"total_articles\": 0, \"url\": \"https://trove.nla.gov.au/search/category/newspapers?keyword=text%3A%22darling%20wife%22%20date%3A%5B1850%20TO%201954%5D&l-decade=188&l-year=1889\", \"id\": \"Query 1\"}, {\"date\": \"1890-01-02\", \"total_results\": 0, \"total_articles\": 0, \"url\": \"https://trove.nla.gov.au/search/category/newspapers?keyword=text%3A%22darling%20wife%22%20date%3A%5B1850%20TO%201954%5D&l-decade=189&l-year=1890\", \"id\": \"Query 1\"}, {\"date\": \"1891-01-02\", \"total_results\": 0, \"total_articles\": 0, \"url\": \"https://trove.nla.gov.au/search/category/newspapers?keyword=text%3A%22darling%20wife%22%20date%3A%5B1850%20TO%201954%5D&l-decade=189&l-year=1891\", \"id\": \"Query 1\"}, {\"date\": \"1892-01-02\", \"total_results\": 0, \"total_articles\": 0, \"url\": \"https://trove.nla.gov.au/search/category/newspapers?keyword=text%3A%22darling%20wife%22%20date%3A%5B1850%20TO%201954%5D&l-decade=189&l-year=1892\", \"id\": \"Query 1\"}, {\"date\": \"1893-01-02\", \"total_results\": 0, \"total_articles\": 0, \"url\": \"https://trove.nla.gov.au/search/category/newspapers?keyword=text%3A%22darling%20wife%22%20date%3A%5B1850%20TO%201954%5D&l-decade=189&l-year=1893\", \"id\": \"Query 1\"}, {\"date\": \"1894-01-02\", \"total_results\": 0, \"total_articles\": 0, \"url\": \"https://trove.nla.gov.au/search/category/newspapers?keyword=text%3A%22darling%20wife%22%20date%3A%5B1850%20TO%201954%5D&l-decade=189&l-year=1894\", \"id\": \"Query 1\"}, {\"date\": \"1895-01-02\", \"total_results\": 0, \"total_articles\": 0, \"url\": \"https://trove.nla.gov.au/search/category/newspapers?keyword=text%3A%22darling%20wife%22%20date%3A%5B1850%20TO%201954%5D&l-decade=189&l-year=1895\", \"id\": \"Query 1\"}, {\"date\": \"1896-01-02\", \"total_results\": 0, \"total_articles\": 0, \"url\": \"https://trove.nla.gov.au/search/category/newspapers?keyword=text%3A%22darling%20wife%22%20date%3A%5B1850%20TO%201954%5D&l-decade=189&l-year=1896\", \"id\": \"Query 1\"}, {\"date\": \"1897-01-02\", \"total_results\": 0, \"total_articles\": 0, \"url\": \"https://trove.nla.gov.au/search/category/newspapers?keyword=text%3A%22darling%20wife%22%20date%3A%5B1850%20TO%201954%5D&l-decade=189&l-year=1897\", \"id\": \"Query 1\"}, {\"date\": \"1898-01-02\", \"total_results\": 0, \"total_articles\": 0, \"url\": \"https://trove.nla.gov.au/search/category/newspapers?keyword=text%3A%22darling%20wife%22%20date%3A%5B1850%20TO%201954%5D&l-decade=189&l-year=1898\", \"id\": \"Query 1\"}, {\"date\": \"1899-01-02\", \"total_results\": 0, \"total_articles\": 0, \"url\": \"https://trove.nla.gov.au/search/category/newspapers?keyword=text%3A%22darling%20wife%22%20date%3A%5B1850%20TO%201954%5D&l-decade=189&l-year=1899\", \"id\": \"Query 1\"}, {\"date\": \"1900-01-02\", \"total_results\": 0, \"total_articles\": 0, \"url\": \"https://trove.nla.gov.au/search/category/newspapers?keyword=text%3A%22darling%20wife%22%20date%3A%5B1850%20TO%201954%5D&l-decade=190&l-year=1900\", \"id\": \"Query 1\"}, {\"date\": \"1901-01-02\", \"total_results\": 0, \"total_articles\": 0, \"url\": \"https://trove.nla.gov.au/search/category/newspapers?keyword=text%3A%22darling%20wife%22%20date%3A%5B1850%20TO%201954%5D&l-decade=190&l-year=1901\", \"id\": \"Query 1\"}, {\"date\": \"1902-01-02\", \"total_results\": 0, \"total_articles\": 0, \"url\": \"https://trove.nla.gov.au/search/category/newspapers?keyword=text%3A%22darling%20wife%22%20date%3A%5B1850%20TO%201954%5D&l-decade=190&l-year=1902\", \"id\": \"Query 1\"}, {\"date\": \"1903-01-02\", \"total_results\": 0, \"total_articles\": 0, \"url\": \"https://trove.nla.gov.au/search/category/newspapers?keyword=text%3A%22darling%20wife%22%20date%3A%5B1850%20TO%201954%5D&l-decade=190&l-year=1903\", \"id\": \"Query 1\"}, {\"date\": \"1904-01-02\", \"total_results\": 0, \"total_articles\": 0, \"url\": \"https://trove.nla.gov.au/search/category/newspapers?keyword=text%3A%22darling%20wife%22%20date%3A%5B1850%20TO%201954%5D&l-decade=190&l-year=1904\", \"id\": \"Query 1\"}, {\"date\": \"1905-01-02\", \"total_results\": 0, \"total_articles\": 0, \"url\": \"https://trove.nla.gov.au/search/category/newspapers?keyword=text%3A%22darling%20wife%22%20date%3A%5B1850%20TO%201954%5D&l-decade=190&l-year=1905\", \"id\": \"Query 1\"}, {\"date\": \"1906-01-02\", \"total_results\": 0, \"total_articles\": 0, \"url\": \"https://trove.nla.gov.au/search/category/newspapers?keyword=text%3A%22darling%20wife%22%20date%3A%5B1850%20TO%201954%5D&l-decade=190&l-year=1906\", \"id\": \"Query 1\"}, {\"date\": \"1907-01-02\", \"total_results\": 0, \"total_articles\": 0, \"url\": \"https://trove.nla.gov.au/search/category/newspapers?keyword=text%3A%22darling%20wife%22%20date%3A%5B1850%20TO%201954%5D&l-decade=190&l-year=1907\", \"id\": \"Query 1\"}, {\"date\": \"1908-01-02\", \"total_results\": 0, \"total_articles\": 0, \"url\": \"https://trove.nla.gov.au/search/category/newspapers?keyword=text%3A%22darling%20wife%22%20date%3A%5B1850%20TO%201954%5D&l-decade=190&l-year=1908\", \"id\": \"Query 1\"}, {\"date\": \"1909-01-02\", \"total_results\": 0, \"total_articles\": 0, \"url\": \"https://trove.nla.gov.au/search/category/newspapers?keyword=text%3A%22darling%20wife%22%20date%3A%5B1850%20TO%201954%5D&l-decade=190&l-year=1909\", \"id\": \"Query 1\"}, {\"date\": \"1910-01-02\", \"total_results\": 0, \"total_articles\": 0, \"url\": \"https://trove.nla.gov.au/search/category/newspapers?keyword=text%3A%22darling%20wife%22%20date%3A%5B1850%20TO%201954%5D&l-decade=191&l-year=1910\", \"id\": \"Query 1\"}, {\"date\": \"1911-01-02\", \"total_results\": 0, \"total_articles\": 0, \"url\": \"https://trove.nla.gov.au/search/category/newspapers?keyword=text%3A%22darling%20wife%22%20date%3A%5B1850%20TO%201954%5D&l-decade=191&l-year=1911\", \"id\": \"Query 1\"}, {\"date\": \"1912-01-02\", \"total_results\": 0, \"total_articles\": 0, \"url\": \"https://trove.nla.gov.au/search/category/newspapers?keyword=text%3A%22darling%20wife%22%20date%3A%5B1850%20TO%201954%5D&l-decade=191&l-year=1912\", \"id\": \"Query 1\"}, {\"date\": \"1913-01-02\", \"total_results\": 0, \"total_articles\": 0, \"url\": \"https://trove.nla.gov.au/search/category/newspapers?keyword=text%3A%22darling%20wife%22%20date%3A%5B1850%20TO%201954%5D&l-decade=191&l-year=1913\", \"id\": \"Query 1\"}, {\"date\": \"1914-01-02\", \"total_results\": 0, \"total_articles\": 0, \"url\": \"https://trove.nla.gov.au/search/category/newspapers?keyword=text%3A%22darling%20wife%22%20date%3A%5B1850%20TO%201954%5D&l-decade=191&l-year=1914\", \"id\": \"Query 1\"}, {\"date\": \"1915-01-02\", \"total_results\": 0, \"total_articles\": 0, \"url\": \"https://trove.nla.gov.au/search/category/newspapers?keyword=text%3A%22darling%20wife%22%20date%3A%5B1850%20TO%201954%5D&l-decade=191&l-year=1915\", \"id\": \"Query 1\"}, {\"date\": \"1916-01-02\", \"total_results\": 0, \"total_articles\": 0, \"url\": \"https://trove.nla.gov.au/search/category/newspapers?keyword=text%3A%22darling%20wife%22%20date%3A%5B1850%20TO%201954%5D&l-decade=191&l-year=1916\", \"id\": \"Query 1\"}, {\"date\": \"1917-01-02\", \"total_results\": 0, \"total_articles\": 0, \"url\": \"https://trove.nla.gov.au/search/category/newspapers?keyword=text%3A%22darling%20wife%22%20date%3A%5B1850%20TO%201954%5D&l-decade=191&l-year=1917\", \"id\": \"Query 1\"}, {\"date\": \"1918-01-02\", \"total_results\": 0, \"total_articles\": 0, \"url\": \"https://trove.nla.gov.au/search/category/newspapers?keyword=text%3A%22darling%20wife%22%20date%3A%5B1850%20TO%201954%5D&l-decade=191&l-year=1918\", \"id\": \"Query 1\"}, {\"date\": \"1919-01-02\", \"total_results\": 0, \"total_articles\": 0, \"url\": \"https://trove.nla.gov.au/search/category/newspapers?keyword=text%3A%22darling%20wife%22%20date%3A%5B1850%20TO%201954%5D&l-decade=191&l-year=1919\", \"id\": \"Query 1\"}, {\"date\": \"1920-01-02\", \"total_results\": 0, \"total_articles\": 0, \"url\": \"https://trove.nla.gov.au/search/category/newspapers?keyword=text%3A%22darling%20wife%22%20date%3A%5B1850%20TO%201954%5D&l-decade=192&l-year=1920\", \"id\": \"Query 1\"}, {\"date\": \"1921-01-02\", \"total_results\": 0, \"total_articles\": 0, \"url\": \"https://trove.nla.gov.au/search/category/newspapers?keyword=text%3A%22darling%20wife%22%20date%3A%5B1850%20TO%201954%5D&l-decade=192&l-year=1921\", \"id\": \"Query 1\"}, {\"date\": \"1922-01-02\", \"total_results\": 0, \"total_articles\": 0, \"url\": \"https://trove.nla.gov.au/search/category/newspapers?keyword=text%3A%22darling%20wife%22%20date%3A%5B1850%20TO%201954%5D&l-decade=192&l-year=1922\", \"id\": \"Query 1\"}, {\"date\": \"1923-01-02\", \"total_results\": 0, \"total_articles\": 0, \"url\": \"https://trove.nla.gov.au/search/category/newspapers?keyword=text%3A%22darling%20wife%22%20date%3A%5B1850%20TO%201954%5D&l-decade=192&l-year=1923\", \"id\": \"Query 1\"}, {\"date\": \"1924-01-02\", \"total_results\": 0, \"total_articles\": 0, \"url\": \"https://trove.nla.gov.au/search/category/newspapers?keyword=text%3A%22darling%20wife%22%20date%3A%5B1850%20TO%201954%5D&l-decade=192&l-year=1924\", \"id\": \"Query 1\"}, {\"date\": \"1925-01-02\", \"total_results\": 0, \"total_articles\": 0, \"url\": \"https://trove.nla.gov.au/search/category/newspapers?keyword=text%3A%22darling%20wife%22%20date%3A%5B1850%20TO%201954%5D&l-decade=192&l-year=1925\", \"id\": \"Query 1\"}, {\"date\": \"1926-01-02\", \"total_results\": 0, \"total_articles\": 0, \"url\": \"https://trove.nla.gov.au/search/category/newspapers?keyword=text%3A%22darling%20wife%22%20date%3A%5B1850%20TO%201954%5D&l-decade=192&l-year=1926\", \"id\": \"Query 1\"}, {\"date\": \"1927-01-02\", \"total_results\": 0, \"total_articles\": 0, \"url\": \"https://trove.nla.gov.au/search/category/newspapers?keyword=text%3A%22darling%20wife%22%20date%3A%5B1850%20TO%201954%5D&l-decade=192&l-year=1927\", \"id\": \"Query 1\"}, {\"date\": \"1928-01-02\", \"total_results\": 0, \"total_articles\": 0, \"url\": \"https://trove.nla.gov.au/search/category/newspapers?keyword=text%3A%22darling%20wife%22%20date%3A%5B1850%20TO%201954%5D&l-decade=192&l-year=1928\", \"id\": \"Query 1\"}, {\"date\": \"1929-01-02\", \"total_results\": 0, \"total_articles\": 0, \"url\": \"https://trove.nla.gov.au/search/category/newspapers?keyword=text%3A%22darling%20wife%22%20date%3A%5B1850%20TO%201954%5D&l-decade=192&l-year=1929\", \"id\": \"Query 1\"}, {\"date\": \"1930-01-02\", \"total_results\": 0, \"total_articles\": 0, \"url\": \"https://trove.nla.gov.au/search/category/newspapers?keyword=text%3A%22darling%20wife%22%20date%3A%5B1850%20TO%201954%5D&l-decade=193&l-year=1930\", \"id\": \"Query 1\"}, {\"date\": \"1931-01-02\", \"total_results\": 0, \"total_articles\": 0, \"url\": \"https://trove.nla.gov.au/search/category/newspapers?keyword=text%3A%22darling%20wife%22%20date%3A%5B1850%20TO%201954%5D&l-decade=193&l-year=1931\", \"id\": \"Query 1\"}, {\"date\": \"1932-01-02\", \"total_results\": 0, \"total_articles\": 0, \"url\": \"https://trove.nla.gov.au/search/category/newspapers?keyword=text%3A%22darling%20wife%22%20date%3A%5B1850%20TO%201954%5D&l-decade=193&l-year=1932\", \"id\": \"Query 1\"}, {\"date\": \"1933-01-02\", \"total_results\": 0, \"total_articles\": 0, \"url\": \"https://trove.nla.gov.au/search/category/newspapers?keyword=text%3A%22darling%20wife%22%20date%3A%5B1850%20TO%201954%5D&l-decade=193&l-year=1933\", \"id\": \"Query 1\"}, {\"date\": \"1934-01-02\", \"total_results\": 0, \"total_articles\": 0, \"url\": \"https://trove.nla.gov.au/search/category/newspapers?keyword=text%3A%22darling%20wife%22%20date%3A%5B1850%20TO%201954%5D&l-decade=193&l-year=1934\", \"id\": \"Query 1\"}, {\"date\": \"1935-01-02\", \"total_results\": 0, \"total_articles\": 0, \"url\": \"https://trove.nla.gov.au/search/category/newspapers?keyword=text%3A%22darling%20wife%22%20date%3A%5B1850%20TO%201954%5D&l-decade=193&l-year=1935\", \"id\": \"Query 1\"}, {\"date\": \"1936-01-02\", \"total_results\": 0, \"total_articles\": 0, \"url\": \"https://trove.nla.gov.au/search/category/newspapers?keyword=text%3A%22darling%20wife%22%20date%3A%5B1850%20TO%201954%5D&l-decade=193&l-year=1936\", \"id\": \"Query 1\"}, {\"date\": \"1937-01-02\", \"total_results\": 0, \"total_articles\": 0, \"url\": \"https://trove.nla.gov.au/search/category/newspapers?keyword=text%3A%22darling%20wife%22%20date%3A%5B1850%20TO%201954%5D&l-decade=193&l-year=1937\", \"id\": \"Query 1\"}, {\"date\": \"1938-01-02\", \"total_results\": 0, \"total_articles\": 0, \"url\": \"https://trove.nla.gov.au/search/category/newspapers?keyword=text%3A%22darling%20wife%22%20date%3A%5B1850%20TO%201954%5D&l-decade=193&l-year=1938\", \"id\": \"Query 1\"}, {\"date\": \"1939-01-02\", \"total_results\": 0, \"total_articles\": 0, \"url\": \"https://trove.nla.gov.au/search/category/newspapers?keyword=text%3A%22darling%20wife%22%20date%3A%5B1850%20TO%201954%5D&l-decade=193&l-year=1939\", \"id\": \"Query 1\"}, {\"date\": \"1940-01-02\", \"total_results\": 0, \"total_articles\": 0, \"url\": \"https://trove.nla.gov.au/search/category/newspapers?keyword=text%3A%22darling%20wife%22%20date%3A%5B1850%20TO%201954%5D&l-decade=194&l-year=1940\", \"id\": \"Query 1\"}, {\"date\": \"1941-01-02\", \"total_results\": 0, \"total_articles\": 0, \"url\": \"https://trove.nla.gov.au/search/category/newspapers?keyword=text%3A%22darling%20wife%22%20date%3A%5B1850%20TO%201954%5D&l-decade=194&l-year=1941\", \"id\": \"Query 1\"}, {\"date\": \"1942-01-02\", \"total_results\": 0, \"total_articles\": 0, \"url\": \"https://trove.nla.gov.au/search/category/newspapers?keyword=text%3A%22darling%20wife%22%20date%3A%5B1850%20TO%201954%5D&l-decade=194&l-year=1942\", \"id\": \"Query 1\"}, {\"date\": \"1943-01-02\", \"total_results\": 0, \"total_articles\": 0, \"url\": \"https://trove.nla.gov.au/search/category/newspapers?keyword=text%3A%22darling%20wife%22%20date%3A%5B1850%20TO%201954%5D&l-decade=194&l-year=1943\", \"id\": \"Query 1\"}, {\"date\": \"1944-01-02\", \"total_results\": 0, \"total_articles\": 0, \"url\": \"https://trove.nla.gov.au/search/category/newspapers?keyword=text%3A%22darling%20wife%22%20date%3A%5B1850%20TO%201954%5D&l-decade=194&l-year=1944\", \"id\": \"Query 1\"}, {\"date\": \"1945-01-02\", \"total_results\": 0, \"total_articles\": 0, \"url\": \"https://trove.nla.gov.au/search/category/newspapers?keyword=text%3A%22darling%20wife%22%20date%3A%5B1850%20TO%201954%5D&l-decade=194&l-year=1945\", \"id\": \"Query 1\"}, {\"date\": \"1946-01-02\", \"total_results\": 0, \"total_articles\": 0, \"url\": \"https://trove.nla.gov.au/search/category/newspapers?keyword=text%3A%22darling%20wife%22%20date%3A%5B1850%20TO%201954%5D&l-decade=194&l-year=1946\", \"id\": \"Query 1\"}, {\"date\": \"1947-01-02\", \"total_results\": 0, \"total_articles\": 0, \"url\": \"https://trove.nla.gov.au/search/category/newspapers?keyword=text%3A%22darling%20wife%22%20date%3A%5B1850%20TO%201954%5D&l-decade=194&l-year=1947\", \"id\": \"Query 1\"}, {\"date\": \"1948-01-02\", \"total_results\": 0, \"total_articles\": 0, \"url\": \"https://trove.nla.gov.au/search/category/newspapers?keyword=text%3A%22darling%20wife%22%20date%3A%5B1850%20TO%201954%5D&l-decade=194&l-year=1948\", \"id\": \"Query 1\"}, {\"date\": \"1949-01-02\", \"total_results\": 0, \"total_articles\": 0, \"url\": \"https://trove.nla.gov.au/search/category/newspapers?keyword=text%3A%22darling%20wife%22%20date%3A%5B1850%20TO%201954%5D&l-decade=194&l-year=1949\", \"id\": \"Query 1\"}, {\"date\": \"1950-01-02\", \"total_results\": 0, \"total_articles\": 0, \"url\": \"https://trove.nla.gov.au/search/category/newspapers?keyword=text%3A%22darling%20wife%22%20date%3A%5B1850%20TO%201954%5D&l-decade=195&l-year=1950\", \"id\": \"Query 1\"}, {\"date\": \"1951-01-02\", \"total_results\": 0, \"total_articles\": 0, \"url\": \"https://trove.nla.gov.au/search/category/newspapers?keyword=text%3A%22darling%20wife%22%20date%3A%5B1850%20TO%201954%5D&l-decade=195&l-year=1951\", \"id\": \"Query 1\"}, {\"date\": \"1952-01-02\", \"total_results\": 0, \"total_articles\": 0, \"url\": \"https://trove.nla.gov.au/search/category/newspapers?keyword=text%3A%22darling%20wife%22%20date%3A%5B1850%20TO%201954%5D&l-decade=195&l-year=1952\", \"id\": \"Query 1\"}, {\"date\": \"1953-01-02\", \"total_results\": 0, \"total_articles\": 0, \"url\": \"https://trove.nla.gov.au/search/category/newspapers?keyword=text%3A%22darling%20wife%22%20date%3A%5B1850%20TO%201954%5D&l-decade=195&l-year=1953\", \"id\": \"Query 1\"}, {\"date\": \"1850-01-02\", \"total_results\": 0, \"total_articles\": 0, \"url\": \"https://trove.nla.gov.au/search/category/newspapers?keyword=text%3A%22darling%20wife%22%20date%3A%5B1850%20TO%201954%5D&l-decade=185&l-year=1850\", \"id\": \"Query 2\"}, {\"date\": \"1851-01-02\", \"total_results\": 0, \"total_articles\": 0, \"url\": \"https://trove.nla.gov.au/search/category/newspapers?keyword=text%3A%22darling%20wife%22%20date%3A%5B1850%20TO%201954%5D&l-decade=185&l-year=1851\", \"id\": \"Query 2\"}, {\"date\": \"1852-01-02\", \"total_results\": 0, \"total_articles\": 0, \"url\": \"https://trove.nla.gov.au/search/category/newspapers?keyword=text%3A%22darling%20wife%22%20date%3A%5B1850%20TO%201954%5D&l-decade=185&l-year=1852\", \"id\": \"Query 2\"}, {\"date\": \"1853-01-02\", \"total_results\": 0, \"total_articles\": 0, \"url\": \"https://trove.nla.gov.au/search/category/newspapers?keyword=text%3A%22darling%20wife%22%20date%3A%5B1850%20TO%201954%5D&l-decade=185&l-year=1853\", \"id\": \"Query 2\"}, {\"date\": \"1854-01-02\", \"total_results\": 0, \"total_articles\": 0, \"url\": \"https://trove.nla.gov.au/search/category/newspapers?keyword=text%3A%22darling%20wife%22%20date%3A%5B1850%20TO%201954%5D&l-decade=185&l-year=1854\", \"id\": \"Query 2\"}, {\"date\": \"1855-01-02\", \"total_results\": 0, \"total_articles\": 0, \"url\": \"https://trove.nla.gov.au/search/category/newspapers?keyword=text%3A%22darling%20wife%22%20date%3A%5B1850%20TO%201954%5D&l-decade=185&l-year=1855\", \"id\": \"Query 2\"}, {\"date\": \"1856-01-02\", \"total_results\": 0, \"total_articles\": 0, \"url\": \"https://trove.nla.gov.au/search/category/newspapers?keyword=text%3A%22darling%20wife%22%20date%3A%5B1850%20TO%201954%5D&l-decade=185&l-year=1856\", \"id\": \"Query 2\"}, {\"date\": \"1857-01-02\", \"total_results\": 0, \"total_articles\": 0, \"url\": \"https://trove.nla.gov.au/search/category/newspapers?keyword=text%3A%22darling%20wife%22%20date%3A%5B1850%20TO%201954%5D&l-decade=185&l-year=1857\", \"id\": \"Query 2\"}, {\"date\": \"1858-01-02\", \"total_results\": 0, \"total_articles\": 0, \"url\": \"https://trove.nla.gov.au/search/category/newspapers?keyword=text%3A%22darling%20wife%22%20date%3A%5B1850%20TO%201954%5D&l-decade=185&l-year=1858\", \"id\": \"Query 2\"}, {\"date\": \"1859-01-02\", \"total_results\": 0, \"total_articles\": 0, \"url\": \"https://trove.nla.gov.au/search/category/newspapers?keyword=text%3A%22darling%20wife%22%20date%3A%5B1850%20TO%201954%5D&l-decade=185&l-year=1859\", \"id\": \"Query 2\"}, {\"date\": \"1860-01-02\", \"total_results\": 0, \"total_articles\": 0, \"url\": \"https://trove.nla.gov.au/search/category/newspapers?keyword=text%3A%22darling%20wife%22%20date%3A%5B1850%20TO%201954%5D&l-decade=186&l-year=1860\", \"id\": \"Query 2\"}, {\"date\": \"1861-01-02\", \"total_results\": 0, \"total_articles\": 0, \"url\": \"https://trove.nla.gov.au/search/category/newspapers?keyword=text%3A%22darling%20wife%22%20date%3A%5B1850%20TO%201954%5D&l-decade=186&l-year=1861\", \"id\": \"Query 2\"}, {\"date\": \"1862-01-02\", \"total_results\": 0, \"total_articles\": 0, \"url\": \"https://trove.nla.gov.au/search/category/newspapers?keyword=text%3A%22darling%20wife%22%20date%3A%5B1850%20TO%201954%5D&l-decade=186&l-year=1862\", \"id\": \"Query 2\"}, {\"date\": \"1863-01-02\", \"total_results\": 0, \"total_articles\": 0, \"url\": \"https://trove.nla.gov.au/search/category/newspapers?keyword=text%3A%22darling%20wife%22%20date%3A%5B1850%20TO%201954%5D&l-decade=186&l-year=1863\", \"id\": \"Query 2\"}, {\"date\": \"1864-01-02\", \"total_results\": 0, \"total_articles\": 0, \"url\": \"https://trove.nla.gov.au/search/category/newspapers?keyword=text%3A%22darling%20wife%22%20date%3A%5B1850%20TO%201954%5D&l-decade=186&l-year=1864\", \"id\": \"Query 2\"}, {\"date\": \"1865-01-02\", \"total_results\": 0, \"total_articles\": 0, \"url\": \"https://trove.nla.gov.au/search/category/newspapers?keyword=text%3A%22darling%20wife%22%20date%3A%5B1850%20TO%201954%5D&l-decade=186&l-year=1865\", \"id\": \"Query 2\"}, {\"date\": \"1866-01-02\", \"total_results\": 0, \"total_articles\": 0, \"url\": \"https://trove.nla.gov.au/search/category/newspapers?keyword=text%3A%22darling%20wife%22%20date%3A%5B1850%20TO%201954%5D&l-decade=186&l-year=1866\", \"id\": \"Query 2\"}, {\"date\": \"1867-01-02\", \"total_results\": 0, \"total_articles\": 0, \"url\": \"https://trove.nla.gov.au/search/category/newspapers?keyword=text%3A%22darling%20wife%22%20date%3A%5B1850%20TO%201954%5D&l-decade=186&l-year=1867\", \"id\": \"Query 2\"}, {\"date\": \"1868-01-02\", \"total_results\": 0, \"total_articles\": 0, \"url\": \"https://trove.nla.gov.au/search/category/newspapers?keyword=text%3A%22darling%20wife%22%20date%3A%5B1850%20TO%201954%5D&l-decade=186&l-year=1868\", \"id\": \"Query 2\"}, {\"date\": \"1869-01-02\", \"total_results\": 0, \"total_articles\": 0, \"url\": \"https://trove.nla.gov.au/search/category/newspapers?keyword=text%3A%22darling%20wife%22%20date%3A%5B1850%20TO%201954%5D&l-decade=186&l-year=1869\", \"id\": \"Query 2\"}, {\"date\": \"1870-01-02\", \"total_results\": 0, \"total_articles\": 0, \"url\": \"https://trove.nla.gov.au/search/category/newspapers?keyword=text%3A%22darling%20wife%22%20date%3A%5B1850%20TO%201954%5D&l-decade=187&l-year=1870\", \"id\": \"Query 2\"}, {\"date\": \"1871-01-02\", \"total_results\": 0, \"total_articles\": 0, \"url\": \"https://trove.nla.gov.au/search/category/newspapers?keyword=text%3A%22darling%20wife%22%20date%3A%5B1850%20TO%201954%5D&l-decade=187&l-year=1871\", \"id\": \"Query 2\"}, {\"date\": \"1872-01-02\", \"total_results\": 0, \"total_articles\": 0, \"url\": \"https://trove.nla.gov.au/search/category/newspapers?keyword=text%3A%22darling%20wife%22%20date%3A%5B1850%20TO%201954%5D&l-decade=187&l-year=1872\", \"id\": \"Query 2\"}, {\"date\": \"1873-01-02\", \"total_results\": 0, \"total_articles\": 0, \"url\": \"https://trove.nla.gov.au/search/category/newspapers?keyword=text%3A%22darling%20wife%22%20date%3A%5B1850%20TO%201954%5D&l-decade=187&l-year=1873\", \"id\": \"Query 2\"}, {\"date\": \"1874-01-02\", \"total_results\": 0, \"total_articles\": 0, \"url\": \"https://trove.nla.gov.au/search/category/newspapers?keyword=text%3A%22darling%20wife%22%20date%3A%5B1850%20TO%201954%5D&l-decade=187&l-year=1874\", \"id\": \"Query 2\"}, {\"date\": \"1875-01-02\", \"total_results\": 0, \"total_articles\": 0, \"url\": \"https://trove.nla.gov.au/search/category/newspapers?keyword=text%3A%22darling%20wife%22%20date%3A%5B1850%20TO%201954%5D&l-decade=187&l-year=1875\", \"id\": \"Query 2\"}, {\"date\": \"1876-01-02\", \"total_results\": 0, \"total_articles\": 0, \"url\": \"https://trove.nla.gov.au/search/category/newspapers?keyword=text%3A%22darling%20wife%22%20date%3A%5B1850%20TO%201954%5D&l-decade=187&l-year=1876\", \"id\": \"Query 2\"}, {\"date\": \"1877-01-02\", \"total_results\": 0, \"total_articles\": 0, \"url\": \"https://trove.nla.gov.au/search/category/newspapers?keyword=text%3A%22darling%20wife%22%20date%3A%5B1850%20TO%201954%5D&l-decade=187&l-year=1877\", \"id\": \"Query 2\"}, {\"date\": \"1878-01-02\", \"total_results\": 0, \"total_articles\": 0, \"url\": \"https://trove.nla.gov.au/search/category/newspapers?keyword=text%3A%22darling%20wife%22%20date%3A%5B1850%20TO%201954%5D&l-decade=187&l-year=1878\", \"id\": \"Query 2\"}, {\"date\": \"1879-01-02\", \"total_results\": 0, \"total_articles\": 0, \"url\": \"https://trove.nla.gov.au/search/category/newspapers?keyword=text%3A%22darling%20wife%22%20date%3A%5B1850%20TO%201954%5D&l-decade=187&l-year=1879\", \"id\": \"Query 2\"}, {\"date\": \"1880-01-02\", \"total_results\": 0, \"total_articles\": 0, \"url\": \"https://trove.nla.gov.au/search/category/newspapers?keyword=text%3A%22darling%20wife%22%20date%3A%5B1850%20TO%201954%5D&l-decade=188&l-year=1880\", \"id\": \"Query 2\"}, {\"date\": \"1881-01-02\", \"total_results\": 0, \"total_articles\": 0, \"url\": \"https://trove.nla.gov.au/search/category/newspapers?keyword=text%3A%22darling%20wife%22%20date%3A%5B1850%20TO%201954%5D&l-decade=188&l-year=1881\", \"id\": \"Query 2\"}, {\"date\": \"1882-01-02\", \"total_results\": 0, \"total_articles\": 0, \"url\": \"https://trove.nla.gov.au/search/category/newspapers?keyword=text%3A%22darling%20wife%22%20date%3A%5B1850%20TO%201954%5D&l-decade=188&l-year=1882\", \"id\": \"Query 2\"}, {\"date\": \"1883-01-02\", \"total_results\": 0, \"total_articles\": 0, \"url\": \"https://trove.nla.gov.au/search/category/newspapers?keyword=text%3A%22darling%20wife%22%20date%3A%5B1850%20TO%201954%5D&l-decade=188&l-year=1883\", \"id\": \"Query 2\"}, {\"date\": \"1884-01-02\", \"total_results\": 0, \"total_articles\": 0, \"url\": \"https://trove.nla.gov.au/search/category/newspapers?keyword=text%3A%22darling%20wife%22%20date%3A%5B1850%20TO%201954%5D&l-decade=188&l-year=1884\", \"id\": \"Query 2\"}, {\"date\": \"1885-01-02\", \"total_results\": 0, \"total_articles\": 0, \"url\": \"https://trove.nla.gov.au/search/category/newspapers?keyword=text%3A%22darling%20wife%22%20date%3A%5B1850%20TO%201954%5D&l-decade=188&l-year=1885\", \"id\": \"Query 2\"}, {\"date\": \"1886-01-02\", \"total_results\": 0, \"total_articles\": 0, \"url\": \"https://trove.nla.gov.au/search/category/newspapers?keyword=text%3A%22darling%20wife%22%20date%3A%5B1850%20TO%201954%5D&l-decade=188&l-year=1886\", \"id\": \"Query 2\"}, {\"date\": \"1887-01-02\", \"total_results\": 0, \"total_articles\": 0, \"url\": \"https://trove.nla.gov.au/search/category/newspapers?keyword=text%3A%22darling%20wife%22%20date%3A%5B1850%20TO%201954%5D&l-decade=188&l-year=1887\", \"id\": \"Query 2\"}, {\"date\": \"1888-01-02\", \"total_results\": 0, \"total_articles\": 0, \"url\": \"https://trove.nla.gov.au/search/category/newspapers?keyword=text%3A%22darling%20wife%22%20date%3A%5B1850%20TO%201954%5D&l-decade=188&l-year=1888\", \"id\": \"Query 2\"}, {\"date\": \"1889-01-02\", \"total_results\": 0, \"total_articles\": 0, \"url\": \"https://trove.nla.gov.au/search/category/newspapers?keyword=text%3A%22darling%20wife%22%20date%3A%5B1850%20TO%201954%5D&l-decade=188&l-year=1889\", \"id\": \"Query 2\"}, {\"date\": \"1890-01-02\", \"total_results\": 0, \"total_articles\": 0, \"url\": \"https://trove.nla.gov.au/search/category/newspapers?keyword=text%3A%22darling%20wife%22%20date%3A%5B1850%20TO%201954%5D&l-decade=189&l-year=1890\", \"id\": \"Query 2\"}, {\"date\": \"1891-01-02\", \"total_results\": 0, \"total_articles\": 0, \"url\": \"https://trove.nla.gov.au/search/category/newspapers?keyword=text%3A%22darling%20wife%22%20date%3A%5B1850%20TO%201954%5D&l-decade=189&l-year=1891\", \"id\": \"Query 2\"}, {\"date\": \"1892-01-02\", \"total_results\": 0, \"total_articles\": 0, \"url\": \"https://trove.nla.gov.au/search/category/newspapers?keyword=text%3A%22darling%20wife%22%20date%3A%5B1850%20TO%201954%5D&l-decade=189&l-year=1892\", \"id\": \"Query 2\"}, {\"date\": \"1893-01-02\", \"total_results\": 0, \"total_articles\": 0, \"url\": \"https://trove.nla.gov.au/search/category/newspapers?keyword=text%3A%22darling%20wife%22%20date%3A%5B1850%20TO%201954%5D&l-decade=189&l-year=1893\", \"id\": \"Query 2\"}, {\"date\": \"1894-01-02\", \"total_results\": 0, \"total_articles\": 0, \"url\": \"https://trove.nla.gov.au/search/category/newspapers?keyword=text%3A%22darling%20wife%22%20date%3A%5B1850%20TO%201954%5D&l-decade=189&l-year=1894\", \"id\": \"Query 2\"}, {\"date\": \"1895-01-02\", \"total_results\": 0, \"total_articles\": 0, \"url\": \"https://trove.nla.gov.au/search/category/newspapers?keyword=text%3A%22darling%20wife%22%20date%3A%5B1850%20TO%201954%5D&l-decade=189&l-year=1895\", \"id\": \"Query 2\"}, {\"date\": \"1896-01-02\", \"total_results\": 0, \"total_articles\": 0, \"url\": \"https://trove.nla.gov.au/search/category/newspapers?keyword=text%3A%22darling%20wife%22%20date%3A%5B1850%20TO%201954%5D&l-decade=189&l-year=1896\", \"id\": \"Query 2\"}, {\"date\": \"1897-01-02\", \"total_results\": 0, \"total_articles\": 0, \"url\": \"https://trove.nla.gov.au/search/category/newspapers?keyword=text%3A%22darling%20wife%22%20date%3A%5B1850%20TO%201954%5D&l-decade=189&l-year=1897\", \"id\": \"Query 2\"}, {\"date\": \"1898-01-02\", \"total_results\": 0, \"total_articles\": 0, \"url\": \"https://trove.nla.gov.au/search/category/newspapers?keyword=text%3A%22darling%20wife%22%20date%3A%5B1850%20TO%201954%5D&l-decade=189&l-year=1898\", \"id\": \"Query 2\"}, {\"date\": \"1899-01-02\", \"total_results\": 0, \"total_articles\": 0, \"url\": \"https://trove.nla.gov.au/search/category/newspapers?keyword=text%3A%22darling%20wife%22%20date%3A%5B1850%20TO%201954%5D&l-decade=189&l-year=1899\", \"id\": \"Query 2\"}, {\"date\": \"1900-01-02\", \"total_results\": 0, \"total_articles\": 0, \"url\": \"https://trove.nla.gov.au/search/category/newspapers?keyword=text%3A%22darling%20wife%22%20date%3A%5B1850%20TO%201954%5D&l-decade=190&l-year=1900\", \"id\": \"Query 2\"}, {\"date\": \"1901-01-02\", \"total_results\": 0, \"total_articles\": 0, \"url\": \"https://trove.nla.gov.au/search/category/newspapers?keyword=text%3A%22darling%20wife%22%20date%3A%5B1850%20TO%201954%5D&l-decade=190&l-year=1901\", \"id\": \"Query 2\"}, {\"date\": \"1902-01-02\", \"total_results\": 0, \"total_articles\": 0, \"url\": \"https://trove.nla.gov.au/search/category/newspapers?keyword=text%3A%22darling%20wife%22%20date%3A%5B1850%20TO%201954%5D&l-decade=190&l-year=1902\", \"id\": \"Query 2\"}, {\"date\": \"1903-01-02\", \"total_results\": 0, \"total_articles\": 0, \"url\": \"https://trove.nla.gov.au/search/category/newspapers?keyword=text%3A%22darling%20wife%22%20date%3A%5B1850%20TO%201954%5D&l-decade=190&l-year=1903\", \"id\": \"Query 2\"}, {\"date\": \"1904-01-02\", \"total_results\": 0, \"total_articles\": 0, \"url\": \"https://trove.nla.gov.au/search/category/newspapers?keyword=text%3A%22darling%20wife%22%20date%3A%5B1850%20TO%201954%5D&l-decade=190&l-year=1904\", \"id\": \"Query 2\"}, {\"date\": \"1905-01-02\", \"total_results\": 0, \"total_articles\": 0, \"url\": \"https://trove.nla.gov.au/search/category/newspapers?keyword=text%3A%22darling%20wife%22%20date%3A%5B1850%20TO%201954%5D&l-decade=190&l-year=1905\", \"id\": \"Query 2\"}, {\"date\": \"1906-01-02\", \"total_results\": 0, \"total_articles\": 0, \"url\": \"https://trove.nla.gov.au/search/category/newspapers?keyword=text%3A%22darling%20wife%22%20date%3A%5B1850%20TO%201954%5D&l-decade=190&l-year=1906\", \"id\": \"Query 2\"}, {\"date\": \"1907-01-02\", \"total_results\": 0, \"total_articles\": 0, \"url\": \"https://trove.nla.gov.au/search/category/newspapers?keyword=text%3A%22darling%20wife%22%20date%3A%5B1850%20TO%201954%5D&l-decade=190&l-year=1907\", \"id\": \"Query 2\"}, {\"date\": \"1908-01-02\", \"total_results\": 0, \"total_articles\": 0, \"url\": \"https://trove.nla.gov.au/search/category/newspapers?keyword=text%3A%22darling%20wife%22%20date%3A%5B1850%20TO%201954%5D&l-decade=190&l-year=1908\", \"id\": \"Query 2\"}, {\"date\": \"1909-01-02\", \"total_results\": 0, \"total_articles\": 0, \"url\": \"https://trove.nla.gov.au/search/category/newspapers?keyword=text%3A%22darling%20wife%22%20date%3A%5B1850%20TO%201954%5D&l-decade=190&l-year=1909\", \"id\": \"Query 2\"}, {\"date\": \"1910-01-02\", \"total_results\": 0, \"total_articles\": 0, \"url\": \"https://trove.nla.gov.au/search/category/newspapers?keyword=text%3A%22darling%20wife%22%20date%3A%5B1850%20TO%201954%5D&l-decade=191&l-year=1910\", \"id\": \"Query 2\"}, {\"date\": \"1911-01-02\", \"total_results\": 0, \"total_articles\": 0, \"url\": \"https://trove.nla.gov.au/search/category/newspapers?keyword=text%3A%22darling%20wife%22%20date%3A%5B1850%20TO%201954%5D&l-decade=191&l-year=1911\", \"id\": \"Query 2\"}, {\"date\": \"1912-01-02\", \"total_results\": 0, \"total_articles\": 0, \"url\": \"https://trove.nla.gov.au/search/category/newspapers?keyword=text%3A%22darling%20wife%22%20date%3A%5B1850%20TO%201954%5D&l-decade=191&l-year=1912\", \"id\": \"Query 2\"}, {\"date\": \"1913-01-02\", \"total_results\": 0, \"total_articles\": 0, \"url\": \"https://trove.nla.gov.au/search/category/newspapers?keyword=text%3A%22darling%20wife%22%20date%3A%5B1850%20TO%201954%5D&l-decade=191&l-year=1913\", \"id\": \"Query 2\"}, {\"date\": \"1914-01-02\", \"total_results\": 0, \"total_articles\": 0, \"url\": \"https://trove.nla.gov.au/search/category/newspapers?keyword=text%3A%22darling%20wife%22%20date%3A%5B1850%20TO%201954%5D&l-decade=191&l-year=1914\", \"id\": \"Query 2\"}, {\"date\": \"1915-01-02\", \"total_results\": 0, \"total_articles\": 0, \"url\": \"https://trove.nla.gov.au/search/category/newspapers?keyword=text%3A%22darling%20wife%22%20date%3A%5B1850%20TO%201954%5D&l-decade=191&l-year=1915\", \"id\": \"Query 2\"}, {\"date\": \"1916-01-02\", \"total_results\": 0, \"total_articles\": 0, \"url\": \"https://trove.nla.gov.au/search/category/newspapers?keyword=text%3A%22darling%20wife%22%20date%3A%5B1850%20TO%201954%5D&l-decade=191&l-year=1916\", \"id\": \"Query 2\"}, {\"date\": \"1917-01-02\", \"total_results\": 0, \"total_articles\": 0, \"url\": \"https://trove.nla.gov.au/search/category/newspapers?keyword=text%3A%22darling%20wife%22%20date%3A%5B1850%20TO%201954%5D&l-decade=191&l-year=1917\", \"id\": \"Query 2\"}, {\"date\": \"1918-01-02\", \"total_results\": 0, \"total_articles\": 0, \"url\": \"https://trove.nla.gov.au/search/category/newspapers?keyword=text%3A%22darling%20wife%22%20date%3A%5B1850%20TO%201954%5D&l-decade=191&l-year=1918\", \"id\": \"Query 2\"}, {\"date\": \"1919-01-02\", \"total_results\": 0, \"total_articles\": 0, \"url\": \"https://trove.nla.gov.au/search/category/newspapers?keyword=text%3A%22darling%20wife%22%20date%3A%5B1850%20TO%201954%5D&l-decade=191&l-year=1919\", \"id\": \"Query 2\"}, {\"date\": \"1920-01-02\", \"total_results\": 0, \"total_articles\": 0, \"url\": \"https://trove.nla.gov.au/search/category/newspapers?keyword=text%3A%22darling%20wife%22%20date%3A%5B1850%20TO%201954%5D&l-decade=192&l-year=1920\", \"id\": \"Query 2\"}, {\"date\": \"1921-01-02\", \"total_results\": 0, \"total_articles\": 0, \"url\": \"https://trove.nla.gov.au/search/category/newspapers?keyword=text%3A%22darling%20wife%22%20date%3A%5B1850%20TO%201954%5D&l-decade=192&l-year=1921\", \"id\": \"Query 2\"}, {\"date\": \"1922-01-02\", \"total_results\": 0, \"total_articles\": 0, \"url\": \"https://trove.nla.gov.au/search/category/newspapers?keyword=text%3A%22darling%20wife%22%20date%3A%5B1850%20TO%201954%5D&l-decade=192&l-year=1922\", \"id\": \"Query 2\"}, {\"date\": \"1923-01-02\", \"total_results\": 0, \"total_articles\": 0, \"url\": \"https://trove.nla.gov.au/search/category/newspapers?keyword=text%3A%22darling%20wife%22%20date%3A%5B1850%20TO%201954%5D&l-decade=192&l-year=1923\", \"id\": \"Query 2\"}, {\"date\": \"1924-01-02\", \"total_results\": 0, \"total_articles\": 0, \"url\": \"https://trove.nla.gov.au/search/category/newspapers?keyword=text%3A%22darling%20wife%22%20date%3A%5B1850%20TO%201954%5D&l-decade=192&l-year=1924\", \"id\": \"Query 2\"}, {\"date\": \"1925-01-02\", \"total_results\": 0, \"total_articles\": 0, \"url\": \"https://trove.nla.gov.au/search/category/newspapers?keyword=text%3A%22darling%20wife%22%20date%3A%5B1850%20TO%201954%5D&l-decade=192&l-year=1925\", \"id\": \"Query 2\"}, {\"date\": \"1926-01-02\", \"total_results\": 0, \"total_articles\": 0, \"url\": \"https://trove.nla.gov.au/search/category/newspapers?keyword=text%3A%22darling%20wife%22%20date%3A%5B1850%20TO%201954%5D&l-decade=192&l-year=1926\", \"id\": \"Query 2\"}, {\"date\": \"1927-01-02\", \"total_results\": 0, \"total_articles\": 0, \"url\": \"https://trove.nla.gov.au/search/category/newspapers?keyword=text%3A%22darling%20wife%22%20date%3A%5B1850%20TO%201954%5D&l-decade=192&l-year=1927\", \"id\": \"Query 2\"}, {\"date\": \"1928-01-02\", \"total_results\": 0, \"total_articles\": 0, \"url\": \"https://trove.nla.gov.au/search/category/newspapers?keyword=text%3A%22darling%20wife%22%20date%3A%5B1850%20TO%201954%5D&l-decade=192&l-year=1928\", \"id\": \"Query 2\"}, {\"date\": \"1929-01-02\", \"total_results\": 0, \"total_articles\": 0, \"url\": \"https://trove.nla.gov.au/search/category/newspapers?keyword=text%3A%22darling%20wife%22%20date%3A%5B1850%20TO%201954%5D&l-decade=192&l-year=1929\", \"id\": \"Query 2\"}, {\"date\": \"1930-01-02\", \"total_results\": 0, \"total_articles\": 0, \"url\": \"https://trove.nla.gov.au/search/category/newspapers?keyword=text%3A%22darling%20wife%22%20date%3A%5B1850%20TO%201954%5D&l-decade=193&l-year=1930\", \"id\": \"Query 2\"}, {\"date\": \"1931-01-02\", \"total_results\": 0, \"total_articles\": 0, \"url\": \"https://trove.nla.gov.au/search/category/newspapers?keyword=text%3A%22darling%20wife%22%20date%3A%5B1850%20TO%201954%5D&l-decade=193&l-year=1931\", \"id\": \"Query 2\"}, {\"date\": \"1932-01-02\", \"total_results\": 0, \"total_articles\": 0, \"url\": \"https://trove.nla.gov.au/search/category/newspapers?keyword=text%3A%22darling%20wife%22%20date%3A%5B1850%20TO%201954%5D&l-decade=193&l-year=1932\", \"id\": \"Query 2\"}, {\"date\": \"1933-01-02\", \"total_results\": 0, \"total_articles\": 0, \"url\": \"https://trove.nla.gov.au/search/category/newspapers?keyword=text%3A%22darling%20wife%22%20date%3A%5B1850%20TO%201954%5D&l-decade=193&l-year=1933\", \"id\": \"Query 2\"}, {\"date\": \"1934-01-02\", \"total_results\": 0, \"total_articles\": 0, \"url\": \"https://trove.nla.gov.au/search/category/newspapers?keyword=text%3A%22darling%20wife%22%20date%3A%5B1850%20TO%201954%5D&l-decade=193&l-year=1934\", \"id\": \"Query 2\"}, {\"date\": \"1935-01-02\", \"total_results\": 0, \"total_articles\": 0, \"url\": \"https://trove.nla.gov.au/search/category/newspapers?keyword=text%3A%22darling%20wife%22%20date%3A%5B1850%20TO%201954%5D&l-decade=193&l-year=1935\", \"id\": \"Query 2\"}, {\"date\": \"1936-01-02\", \"total_results\": 0, \"total_articles\": 0, \"url\": \"https://trove.nla.gov.au/search/category/newspapers?keyword=text%3A%22darling%20wife%22%20date%3A%5B1850%20TO%201954%5D&l-decade=193&l-year=1936\", \"id\": \"Query 2\"}, {\"date\": \"1937-01-02\", \"total_results\": 0, \"total_articles\": 0, \"url\": \"https://trove.nla.gov.au/search/category/newspapers?keyword=text%3A%22darling%20wife%22%20date%3A%5B1850%20TO%201954%5D&l-decade=193&l-year=1937\", \"id\": \"Query 2\"}, {\"date\": \"1938-01-02\", \"total_results\": 0, \"total_articles\": 0, \"url\": \"https://trove.nla.gov.au/search/category/newspapers?keyword=text%3A%22darling%20wife%22%20date%3A%5B1850%20TO%201954%5D&l-decade=193&l-year=1938\", \"id\": \"Query 2\"}, {\"date\": \"1939-01-02\", \"total_results\": 0, \"total_articles\": 0, \"url\": \"https://trove.nla.gov.au/search/category/newspapers?keyword=text%3A%22darling%20wife%22%20date%3A%5B1850%20TO%201954%5D&l-decade=193&l-year=1939\", \"id\": \"Query 2\"}, {\"date\": \"1940-01-02\", \"total_results\": 0, \"total_articles\": 0, \"url\": \"https://trove.nla.gov.au/search/category/newspapers?keyword=text%3A%22darling%20wife%22%20date%3A%5B1850%20TO%201954%5D&l-decade=194&l-year=1940\", \"id\": \"Query 2\"}, {\"date\": \"1941-01-02\", \"total_results\": 0, \"total_articles\": 0, \"url\": \"https://trove.nla.gov.au/search/category/newspapers?keyword=text%3A%22darling%20wife%22%20date%3A%5B1850%20TO%201954%5D&l-decade=194&l-year=1941\", \"id\": \"Query 2\"}, {\"date\": \"1942-01-02\", \"total_results\": 0, \"total_articles\": 0, \"url\": \"https://trove.nla.gov.au/search/category/newspapers?keyword=text%3A%22darling%20wife%22%20date%3A%5B1850%20TO%201954%5D&l-decade=194&l-year=1942\", \"id\": \"Query 2\"}, {\"date\": \"1943-01-02\", \"total_results\": 0, \"total_articles\": 0, \"url\": \"https://trove.nla.gov.au/search/category/newspapers?keyword=text%3A%22darling%20wife%22%20date%3A%5B1850%20TO%201954%5D&l-decade=194&l-year=1943\", \"id\": \"Query 2\"}, {\"date\": \"1944-01-02\", \"total_results\": 0, \"total_articles\": 0, \"url\": \"https://trove.nla.gov.au/search/category/newspapers?keyword=text%3A%22darling%20wife%22%20date%3A%5B1850%20TO%201954%5D&l-decade=194&l-year=1944\", \"id\": \"Query 2\"}, {\"date\": \"1945-01-02\", \"total_results\": 0, \"total_articles\": 0, \"url\": \"https://trove.nla.gov.au/search/category/newspapers?keyword=text%3A%22darling%20wife%22%20date%3A%5B1850%20TO%201954%5D&l-decade=194&l-year=1945\", \"id\": \"Query 2\"}, {\"date\": \"1946-01-02\", \"total_results\": 0, \"total_articles\": 0, \"url\": \"https://trove.nla.gov.au/search/category/newspapers?keyword=text%3A%22darling%20wife%22%20date%3A%5B1850%20TO%201954%5D&l-decade=194&l-year=1946\", \"id\": \"Query 2\"}, {\"date\": \"1947-01-02\", \"total_results\": 0, \"total_articles\": 0, \"url\": \"https://trove.nla.gov.au/search/category/newspapers?keyword=text%3A%22darling%20wife%22%20date%3A%5B1850%20TO%201954%5D&l-decade=194&l-year=1947\", \"id\": \"Query 2\"}, {\"date\": \"1948-01-02\", \"total_results\": 0, \"total_articles\": 0, \"url\": \"https://trove.nla.gov.au/search/category/newspapers?keyword=text%3A%22darling%20wife%22%20date%3A%5B1850%20TO%201954%5D&l-decade=194&l-year=1948\", \"id\": \"Query 2\"}, {\"date\": \"1949-01-02\", \"total_results\": 0, \"total_articles\": 0, \"url\": \"https://trove.nla.gov.au/search/category/newspapers?keyword=text%3A%22darling%20wife%22%20date%3A%5B1850%20TO%201954%5D&l-decade=194&l-year=1949\", \"id\": \"Query 2\"}, {\"date\": \"1950-01-02\", \"total_results\": 0, \"total_articles\": 0, \"url\": \"https://trove.nla.gov.au/search/category/newspapers?keyword=text%3A%22darling%20wife%22%20date%3A%5B1850%20TO%201954%5D&l-decade=195&l-year=1950\", \"id\": \"Query 2\"}, {\"date\": \"1951-01-02\", \"total_results\": 0, \"total_articles\": 0, \"url\": \"https://trove.nla.gov.au/search/category/newspapers?keyword=text%3A%22darling%20wife%22%20date%3A%5B1850%20TO%201954%5D&l-decade=195&l-year=1951\", \"id\": \"Query 2\"}, {\"date\": \"1952-01-02\", \"total_results\": 0, \"total_articles\": 0, \"url\": \"https://trove.nla.gov.au/search/category/newspapers?keyword=text%3A%22darling%20wife%22%20date%3A%5B1850%20TO%201954%5D&l-decade=195&l-year=1952\", \"id\": \"Query 2\"}, {\"date\": \"1953-01-02\", \"total_results\": 0, \"total_articles\": 0, \"url\": \"https://trove.nla.gov.au/search/category/newspapers?keyword=text%3A%22darling%20wife%22%20date%3A%5B1850%20TO%201954%5D&l-decade=195&l-year=1953\", \"id\": \"Query 2\"}], \"data-f675c00c0df2c3ff4332f63876210147\": [{\"x\": 0, \"y\": 0, \"id\": \"Query 1\", \"url\": \"https://trove.nla.gov.au/search/category/newspapers?keyword=text%3A%22darling%20wife%22%20date%3A%5B1850%20TO%201954%5D\", \"params\": \"keyword=text%3A%22darling%20wife%22%20date%3A%5B1850%20TO%201954%5D\"}, {\"x\": 0, \"y\": 1, \"id\": \"Query 2\", \"url\": \"https://trove.nla.gov.au/search/category/newspapers?keyword=text%3A%22darling%20wife%22%20date%3A%5B1850%20TO%201954%5D\", \"params\": \"keyword=text%3A%22darling%20wife%22%20date%3A%5B1850%20TO%201954%5D\"}]}}, {\"mode\": \"vega-lite\"});\n</script>",
          "text/plain": "alt.VConcatChart(...)"
         },
         "metadata": {},
         "output_type": "display_data"
        }
       ]
      }
     },
     "4bd2700c5ee2437b877acb299513c6e7": {
      "model_module": "@jupyter-widgets/controls",
      "model_module_version": "1.5.0",
      "model_name": "FloatProgressModel",
      "state": {
       "layout": "IPY_MODEL_5110fb30efe74e25af4d6bab41158eea",
       "max": 23,
       "style": "IPY_MODEL_4a06cbca2ecc459696a8e4d3d7236526",
       "value": 23
      }
     },
     "4caeb068e48c47d78d2524de57883546": {
      "model_module": "@jupyter-widgets/controls",
      "model_module_version": "1.5.0",
      "model_name": "ButtonModel",
      "state": {
       "button_style": "primary",
       "description": "Visualise query",
       "layout": "IPY_MODEL_07dc470be1c3431a8eeb6db0f8a09e9b",
       "style": "IPY_MODEL_dafc4efb9460462e84216b4bd2a1ed48",
       "tooltip": "Create chart from query"
      }
     },
     "4d3c5e403c404e2d896bd7385493ebbc": {
      "model_module": "@jupyter-widgets/controls",
      "model_module_version": "1.5.0",
      "model_name": "DescriptionStyleModel",
      "state": {
       "description_width": ""
      }
     },
     "4d4a7746ce3240e2bec58d94eb741cff": {
      "model_module": "@jupyter-widgets/base",
      "model_module_version": "1.2.0",
      "model_name": "LayoutModel",
      "state": {}
     },
     "4d6c8ebd545842b08b2cad42a7ae6522": {
      "model_module": "@jupyter-widgets/controls",
      "model_module_version": "1.5.0",
      "model_name": "VBoxModel",
      "state": {
       "children": [
        "IPY_MODEL_185b164483da409382bf12db2ce1f272",
        "IPY_MODEL_4bb9a9c954e44376a5582b14b349e424",
        "IPY_MODEL_2802bcc1164343efbd0cd3a6c4e05a2e"
       ],
       "layout": "IPY_MODEL_10b913df753945fb81c1d6b4f411358d"
      }
     },
     "4daa8e35ff1b4509913cd040519a7db6": {
      "model_module": "@jupyter-widgets/controls",
      "model_module_version": "1.5.0",
      "model_name": "ButtonModel",
      "state": {
       "button_style": "primary",
       "description": "Save chart as HTML",
       "layout": "IPY_MODEL_efd1e076fa464c2c93458a728f82a80c",
       "style": "IPY_MODEL_d78639d8d76345daa9b74dd0b9c22ee4",
       "tooltip": "Save chart as HTML"
      }
     },
     "4e1907f6281a4e94aef7b790d0aaef0e": {
      "model_module": "@jupyter-widgets/controls",
      "model_module_version": "1.5.0",
      "model_name": "HBoxModel",
      "state": {
       "children": [
        "IPY_MODEL_3324acf0ea86440f9a5efb2bc856271d",
        "IPY_MODEL_8b1da44c4b57411d9430eb3601d2c00a",
        "IPY_MODEL_2797f019dd2f446684ffc8c7e9288ab5"
       ],
       "layout": "IPY_MODEL_4d4a7746ce3240e2bec58d94eb741cff"
      }
     },
     "4e1d02b546b149d3a74391bba556e072": {
      "model_module": "@jupyter-widgets/base",
      "model_module_version": "1.2.0",
      "model_name": "LayoutModel",
      "state": {}
     },
     "4eaa8fa53f554443a1bee47e3cd4849b": {
      "model_module": "@jupyter-widgets/controls",
      "model_module_version": "1.5.0",
      "model_name": "DropdownModel",
      "state": {
       "_options_labels": [
        "Raw number of results",
        "Proportion of total articles"
       ],
       "index": 0,
       "layout": "IPY_MODEL_c084075e49ad44d3bc78b7bb64385203",
       "style": "IPY_MODEL_33dfea1d4e4c410e89b1a916e3a70c6f"
      }
     },
     "4ebfe79806bf438f9a545e32121ddd34": {
      "model_module": "@jupyter-widgets/controls",
      "model_module_version": "1.5.0",
      "model_name": "BoundedIntTextModel",
      "state": {
       "description": "Height",
       "layout": "IPY_MODEL_cf989a31ab3149308c8083f9e810b6a0",
       "max": 1500,
       "min": 400,
       "step": 100,
       "style": "IPY_MODEL_2235d0e7703e4d8b9e964e84368c4579",
       "value": 400
      }
     },
     "4f1b35c0814e40c78167e751d67e0b04": {
      "model_module": "@jupyter-widgets/controls",
      "model_module_version": "1.5.0",
      "model_name": "DescriptionStyleModel",
      "state": {
       "description_width": ""
      }
     },
     "4f3aa7ac02954f3ba08ef46ac4d76277": {
      "model_module": "@jupyter-widgets/controls",
      "model_module_version": "1.5.0",
      "model_name": "DescriptionStyleModel",
      "state": {
       "description_width": ""
      }
     },
     "4f47c1414bdc45b2b5f3f9681c0c147a": {
      "model_module": "@jupyter-widgets/controls",
      "model_module_version": "1.5.0",
      "model_name": "TextModel",
      "state": {
       "description": "Query:",
       "layout": "IPY_MODEL_dd18f021f614469ab00354585249e186",
       "placeholder": "Enter your search query",
       "style": "IPY_MODEL_be905e3403b246c4adece357beb99ad5",
       "value": "https://trove.nla.gov.au/search/category/newspapers?keyword=text%3A%22darling%20wife%22%20date%3A%5B1850%20TO%201954%5D"
      }
     },
     "4fc97bcd74304798b6cdc3199b38f297": {
      "model_module": "@jupyter-widgets/base",
      "model_module_version": "1.2.0",
      "model_name": "LayoutModel",
      "state": {}
     },
     "5000bbbe64c0436da6aca9a37ae97e1b": {
      "model_module": "@jupyter-widgets/controls",
      "model_module_version": "1.5.0",
      "model_name": "ButtonStyleModel",
      "state": {}
     },
     "5007c7e4b5ec42f7aa56c96c1d5953f1": {
      "model_module": "@jupyter-widgets/base",
      "model_module_version": "1.2.0",
      "model_name": "LayoutModel",
      "state": {}
     },
     "5033bcd4d4b94de695aaff0c01bf0202": {
      "model_module": "@jupyter-widgets/base",
      "model_module_version": "1.2.0",
      "model_name": "LayoutModel",
      "state": {
       "margin": "50px 0 50px 0"
      }
     },
     "503517ddecc54c6d846fd52bae63e154": {
      "model_module": "@jupyter-widgets/output",
      "model_module_version": "1.0.0",
      "model_name": "OutputModel",
      "state": {
       "layout": "IPY_MODEL_455467f9631c4720a1e083b263c4f695",
       "outputs": [
        {
         "data": {
          "application/vnd.jupyter.widget-view+json": {
           "model_id": "",
           "version_major": 2,
           "version_minor": 0
          },
          "text/plain": "HBox(children=(Button(button_style='primary', description='Save chart as HTML', style=ButtonStyle(), tooltip='…"
         },
         "metadata": {},
         "output_type": "display_data"
        },
        {
         "data": {
          "text/html": "Download data: <a href=\"data/querypic-20220624230924.csv\" download>data/querypic-20220624230924.csv</a>",
          "text/plain": "<IPython.core.display.HTML object>"
         },
         "metadata": {},
         "output_type": "display_data"
        }
       ]
      }
     },
     "5087b53a4892464fa07140270d9e0ed0": {
      "model_module": "@jupyter-widgets/base",
      "model_module_version": "1.2.0",
      "model_name": "LayoutModel",
      "state": {}
     },
     "50d1ebd489f4482c8e93c046c164fbeb": {
      "model_module": "@jupyter-widgets/controls",
      "model_module_version": "1.5.0",
      "model_name": "DescriptionStyleModel",
      "state": {
       "description_width": ""
      }
     },
     "5110fb30efe74e25af4d6bab41158eea": {
      "model_module": "@jupyter-widgets/base",
      "model_module_version": "1.2.0",
      "model_name": "LayoutModel",
      "state": {}
     },
     "511d0e73d3c441599ff74817f931f168": {
      "model_module": "@jupyter-widgets/controls",
      "model_module_version": "1.5.0",
      "model_name": "ButtonModel",
      "state": {
       "button_style": "primary",
       "description": "Visualise query",
       "layout": "IPY_MODEL_f8d38b0872694e3ca17cc9f7428b1d74",
       "style": "IPY_MODEL_a3b3a334a0dd45f5b02359ca3e4bab89",
       "tooltip": "Create chart from query"
      }
     },
     "512ed86dffa34baaba6b27b9d26b7220": {
      "model_module": "@jupyter-widgets/base",
      "model_module_version": "1.2.0",
      "model_name": "LayoutModel",
      "state": {}
     },
     "518a282e318f49a0a33953a8ebd352e9": {
      "model_module": "@jupyter-widgets/controls",
      "model_module_version": "1.5.0",
      "model_name": "ButtonModel",
      "state": {
       "description": "Remove last query",
       "layout": "IPY_MODEL_de715ed4f2444ae382e194a7ed97a935",
       "style": "IPY_MODEL_59e6c5e74f034c829097b8a3afc4f4b4",
       "tooltip": "Remove the last query"
      }
     },
     "51e09fb0786a444a9d9e78a3d63abe5a": {
      "model_module": "@jupyter-widgets/controls",
      "model_module_version": "1.5.0",
      "model_name": "ButtonModel",
      "state": {
       "description": "Clear all queries",
       "layout": "IPY_MODEL_2e7b22dde6af4ee68648d33d923b799e",
       "style": "IPY_MODEL_ee5b8e5516e942d6942b2b800766fb4d",
       "tooltip": "Clear current queries"
      }
     },
     "51e3681834954f068a75635f1a86138c": {
      "model_module": "@jupyter-widgets/controls",
      "model_module_version": "1.5.0",
      "model_name": "DropdownModel",
      "state": {
       "_options_labels": [
        "Raw number of results",
        "Proportion of total articles"
       ],
       "index": 0,
       "layout": "IPY_MODEL_dbad3c92042545d6846f85f384efb52f",
       "style": "IPY_MODEL_6e25fd5560a0414d95a1942312a0d5da"
      }
     },
     "5290f4c94ac947e5b265e2ae87320f97": {
      "model_module": "@jupyter-widgets/base",
      "model_module_version": "1.2.0",
      "model_name": "LayoutModel",
      "state": {}
     },
     "529e571bd010435aac18d5d3bb71838e": {
      "model_module": "@jupyter-widgets/base",
      "model_module_version": "1.2.0",
      "model_name": "LayoutModel",
      "state": {
       "margin": "50px 0 50px 0"
      }
     },
     "52a9915c7b7149b28bf9cedca98ee734": {
      "model_module": "@jupyter-widgets/base",
      "model_module_version": "1.2.0",
      "model_name": "LayoutModel",
      "state": {}
     },
     "52c848c6a23040b7a4fb8b89e227f07b": {
      "model_module": "@jupyter-widgets/controls",
      "model_module_version": "1.5.0",
      "model_name": "ButtonStyleModel",
      "state": {}
     },
     "53a84e3b53074904a18150efd216cc20": {
      "model_module": "@jupyter-widgets/base",
      "model_module_version": "1.2.0",
      "model_name": "LayoutModel",
      "state": {}
     },
     "53b81767c86b487e8942a114287dc2a3": {
      "model_module": "@jupyter-widgets/controls",
      "model_module_version": "1.5.0",
      "model_name": "DescriptionStyleModel",
      "state": {
       "description_width": ""
      }
     },
     "53ba31ecf393455a8f421e1a63aca257": {
      "model_module": "@jupyter-widgets/controls",
      "model_module_version": "1.5.0",
      "model_name": "PasswordModel",
      "state": {
       "description": "API key:",
       "layout": "IPY_MODEL_474fbf333c1d4bbcac2c8f5e9d69880a",
       "placeholder": "Enter your Trove API key",
       "style": "IPY_MODEL_483653ccabd541429e1f67026525a6c3",
       "value": "6pi5hht0d2umqcro"
      }
     },
     "54b1437cf4ab42628578eac21b905fa7": {
      "model_module": "@jupyter-widgets/base",
      "model_module_version": "1.2.0",
      "model_name": "LayoutModel",
      "state": {
       "width": "80%"
      }
     },
     "54ced43aff5444a49cd1b2de50bb3e95": {
      "model_module": "@jupyter-widgets/controls",
      "model_module_version": "1.5.0",
      "model_name": "HTMLModel",
      "state": {
       "layout": "IPY_MODEL_00c59b4566a64742a101dc7dbf568cf2",
       "style": "IPY_MODEL_e57141ef4615464f9a7cada6df5a06d1",
       "value": " 0/11 [00:00&lt;?, ?it/s]"
      }
     },
     "54f515b0e8b74bcbb64f7d2288acd070": {
      "model_module": "@jupyter-widgets/base",
      "model_module_version": "1.2.0",
      "model_name": "LayoutModel",
      "state": {
       "margin": "50px 0 50px 0"
      }
     },
     "553bd8bf27c74892a22cb64f26e36585": {
      "model_module": "@jupyter-widgets/controls",
      "model_module_version": "1.5.0",
      "model_name": "DropdownModel",
      "state": {
       "_options_labels": [
        "Automatic",
        "Year",
        "Month",
        "Day"
       ],
       "description": "Time unit:",
       "index": 0,
       "layout": "IPY_MODEL_39b82e92f744456491dac8f120677201",
       "style": "IPY_MODEL_44c1514f4ae74f0fa96e4d67089c56ed"
      }
     },
     "554e950039614b38ab9dba13d59f1ff0": {
      "model_module": "@jupyter-widgets/base",
      "model_module_version": "1.2.0",
      "model_name": "LayoutModel",
      "state": {}
     },
     "55aa1c5942cb4b5cb7f23c5f96c3232e": {
      "model_module": "@jupyter-widgets/output",
      "model_module_version": "1.0.0",
      "model_name": "OutputModel",
      "state": {
       "layout": "IPY_MODEL_d23446de445e4e7ab913edf06c948722",
       "outputs": [
        {
         "data": {
          "application/vnd.jupyter.widget-view+json": {
           "model_id": "",
           "version_major": 2,
           "version_minor": 0
          },
          "text/plain": "HBox(children=(Button(button_style='primary', description='Save chart as HTML', style=ButtonStyle(), tooltip='…"
         },
         "metadata": {},
         "output_type": "display_data"
        },
        {
         "data": {
          "text/html": "Download data: <a href=\"data/querypic-20220624230008.csv\" download>data/querypic-20220624230008.csv</a>",
          "text/plain": "<IPython.core.display.HTML object>"
         },
         "metadata": {},
         "output_type": "display_data"
        }
       ]
      }
     },
     "55d07823458047b78a129494c48001d7": {
      "model_module": "@jupyter-widgets/controls",
      "model_module_version": "1.5.0",
      "model_name": "HTMLModel",
      "state": {
       "layout": "IPY_MODEL_76d299a6fdd948e8a90c35f7075b7eab",
       "style": "IPY_MODEL_b37ab07d5bf14d47a6fcc0a27bef6fd3",
       "value": " 0/11 [00:00&lt;?, ?it/s]"
      }
     },
     "55da292982c9470a9f152bbd1bbd7638": {
      "model_module": "@jupyter-widgets/base",
      "model_module_version": "1.2.0",
      "model_name": "LayoutModel",
      "state": {
       "width": "80%"
      }
     },
     "55fb85ebfc174207b8ec0813343b8b99": {
      "model_module": "@jupyter-widgets/base",
      "model_module_version": "1.2.0",
      "model_name": "LayoutModel",
      "state": {}
     },
     "55fe5178ce64476097f42bec5cf1c781": {
      "model_module": "@jupyter-widgets/controls",
      "model_module_version": "1.5.0",
      "model_name": "ButtonStyleModel",
      "state": {}
     },
     "5601e19075a74a1b8a5f4f550c0624e7": {
      "model_module": "@jupyter-widgets/base",
      "model_module_version": "1.2.0",
      "model_name": "LayoutModel",
      "state": {}
     },
     "5618a61f0a754f53a02e505657e06738": {
      "model_module": "@jupyter-widgets/base",
      "model_module_version": "1.2.0",
      "model_name": "LayoutModel",
      "state": {}
     },
     "5628c1cbd3914f1eb2bf1caf9daf908c": {
      "model_module": "@jupyter-widgets/controls",
      "model_module_version": "1.5.0",
      "model_name": "DescriptionStyleModel",
      "state": {
       "description_width": ""
      }
     },
     "5668d294c3db487292fa69ded5a04dbe": {
      "model_module": "@jupyter-widgets/controls",
      "model_module_version": "1.5.0",
      "model_name": "BoundedIntTextModel",
      "state": {
       "description": "Width",
       "layout": "IPY_MODEL_f3f6cc17077f41028cf1b79bbde7472e",
       "max": 2000,
       "min": 700,
       "step": 100,
       "style": "IPY_MODEL_2a9a765e4d6e4279af08f047bd7cb58d",
       "value": 700
      }
     },
     "56a842302f0b41deaee6067a3bc10692": {
      "model_module": "@jupyter-widgets/controls",
      "model_module_version": "1.5.0",
      "model_name": "TextModel",
      "state": {
       "description": "Query:",
       "layout": "IPY_MODEL_7b5778b4dc13481d922230c5f10f45c0",
       "placeholder": "Enter your search query",
       "style": "IPY_MODEL_260d0e28b4194074a16cdaca839bdf87",
       "value": "https://trove.nla.gov.au/search/category/newspapers?keyword=cat%20date:[1900-01-21T00:00:00Z TO 1950-01-01T00:00:00Z]"
      }
     },
     "56cc487949f24079b426da086daac432": {
      "model_module": "@jupyter-widgets/controls",
      "model_module_version": "1.5.0",
      "model_name": "ButtonModel",
      "state": {
       "description": "Remove last query",
       "layout": "IPY_MODEL_d6c3310916fd43a3a82e5852cb806d95",
       "style": "IPY_MODEL_8d7ffa494434462ba883f71581ab8c95",
       "tooltip": "Remove the last query"
      }
     },
     "56e90a3f358643cda5e919f02319bff6": {
      "model_module": "@jupyter-widgets/base",
      "model_module_version": "1.2.0",
      "model_name": "LayoutModel",
      "state": {}
     },
     "5707bae9be574ee0a7a33c9afff4ae74": {
      "model_module": "@jupyter-widgets/controls",
      "model_module_version": "1.5.0",
      "model_name": "BoundedIntTextModel",
      "state": {
       "description": "Width",
       "layout": "IPY_MODEL_cef6ca5e5b8d4d6da72ba634bbcf9b14",
       "max": 2000,
       "min": 700,
       "step": 100,
       "style": "IPY_MODEL_66fc8ff97d864696b3c787e7490f7094",
       "value": 700
      }
     },
     "57214f59de4d46b2b6ce391c53cf2dd1": {
      "model_module": "@jupyter-widgets/controls",
      "model_module_version": "1.5.0",
      "model_name": "HTMLModel",
      "state": {
       "layout": "IPY_MODEL_fc8e15784d4543ee9ac826c7fdac129c",
       "style": "IPY_MODEL_a347604bd6624dcc9148d48c6d3d6d05",
       "value": "100%"
      }
     },
     "5768b96c76fd4302897cec4b03a69c31": {
      "model_module": "@jupyter-widgets/output",
      "model_module_version": "1.0.0",
      "model_name": "OutputModel",
      "state": {
       "layout": "IPY_MODEL_70697089ca524336bb9a6fe6932d1fec",
       "outputs": [
        {
         "data": {
          "application/vnd.jupyter.widget-view+json": {
           "model_id": "",
           "version_major": 2,
           "version_minor": 0
          },
          "text/plain": "HBox(children=(Button(button_style='primary', description='Save chart as HTML', style=ButtonStyle(), tooltip='…"
         },
         "metadata": {},
         "output_type": "display_data"
        },
        {
         "data": {
          "text/html": "Download data: <a href=\"data/querypic-20220624225857.csv\" download>data/querypic-20220624225857.csv</a>",
          "text/plain": "<IPython.core.display.HTML object>"
         },
         "metadata": {},
         "output_type": "display_data"
        }
       ]
      }
     },
     "583c744c78ee4770a10043d715a1d1c8": {
      "model_module": "@jupyter-widgets/base",
      "model_module_version": "1.2.0",
      "model_name": "LayoutModel",
      "state": {}
     },
     "58653cea4f72426e8848aebf9572346c": {
      "model_module": "@jupyter-widgets/controls",
      "model_module_version": "1.5.0",
      "model_name": "ButtonModel",
      "state": {
       "button_style": "primary",
       "description": "Visualise query",
       "layout": "IPY_MODEL_8919dcf7654e4e94b83ea6cb4dd371e0",
       "style": "IPY_MODEL_978f7b919b1d49d89126053893cfd62a",
       "tooltip": "Create chart from query"
      }
     },
     "58679c6c746647598b734d8be7ec5d7e": {
      "model_module": "@jupyter-widgets/controls",
      "model_module_version": "1.5.0",
      "model_name": "ButtonStyleModel",
      "state": {}
     },
     "58a1e9601388442984ae2891a0a5b793": {
      "model_module": "@jupyter-widgets/base",
      "model_module_version": "1.2.0",
      "model_name": "LayoutModel",
      "state": {}
     },
     "58f153886770415da3b931052ca37468": {
      "model_module": "@jupyter-widgets/controls",
      "model_module_version": "1.5.0",
      "model_name": "ProgressStyleModel",
      "state": {
       "description_width": ""
      }
     },
     "5972354787a04431a583afbbd7cf7970": {
      "model_module": "@jupyter-widgets/controls",
      "model_module_version": "1.5.0",
      "model_name": "ButtonStyleModel",
      "state": {}
     },
     "59b183545a8d4d7cac5177904e2aabf7": {
      "model_module": "@jupyter-widgets/controls",
      "model_module_version": "1.5.0",
      "model_name": "DropdownModel",
      "state": {
       "_options_labels": [
        "Automatic",
        "Year",
        "Month",
        "Day"
       ],
       "description": "Time unit:",
       "index": 0,
       "layout": "IPY_MODEL_ef2a5ff762554c63bea059ee5901a5c1",
       "style": "IPY_MODEL_4d3c5e403c404e2d896bd7385493ebbc"
      }
     },
     "59b7a65b9b904ec7a7b838661de2b4e4": {
      "model_module": "@jupyter-widgets/base",
      "model_module_version": "1.2.0",
      "model_name": "LayoutModel",
      "state": {}
     },
     "59d39916583f45c0a7b5f881aa863384": {
      "model_module": "@jupyter-widgets/controls",
      "model_module_version": "1.5.0",
      "model_name": "DropdownModel",
      "state": {
       "_options_labels": [
        "Raw number of results",
        "Proportion of total articles"
       ],
       "index": 0,
       "layout": "IPY_MODEL_138b3fd600e947c2b2a2e093ca54f82c",
       "style": "IPY_MODEL_1072615ccf594f6a98a90ef32b3c6f8c"
      }
     },
     "59d6220a9e744c6da8ecab387467fac6": {
      "model_module": "@jupyter-widgets/controls",
      "model_module_version": "1.5.0",
      "model_name": "TextModel",
      "state": {
       "description": "Query:",
       "layout": "IPY_MODEL_e16dc047314b43f2bf168613c0dd5a95",
       "placeholder": "Enter your search query",
       "style": "IPY_MODEL_43e3df8021ba4511b3737fc82bde770c",
       "value": "https://trove.nla.gov.au/search/category/newspapers?keyword=text%3A%22darling%20wife%22%20date%3A%5B1850%20TO%201954%5D"
      }
     },
     "59e6c5e74f034c829097b8a3afc4f4b4": {
      "model_module": "@jupyter-widgets/controls",
      "model_module_version": "1.5.0",
      "model_name": "ButtonStyleModel",
      "state": {}
     },
     "5a69bda876a346c591d08df02d525aec": {
      "model_module": "@jupyter-widgets/controls",
      "model_module_version": "1.5.0",
      "model_name": "DescriptionStyleModel",
      "state": {
       "description_width": ""
      }
     },
     "5ab6d517314a47079feeba7b93a83684": {
      "model_module": "@jupyter-widgets/base",
      "model_module_version": "1.2.0",
      "model_name": "LayoutModel",
      "state": {}
     },
     "5b6885b4a04e4eb7aac2ae47a0864fc3": {
      "model_module": "@jupyter-widgets/base",
      "model_module_version": "1.2.0",
      "model_name": "LayoutModel",
      "state": {}
     },
     "5b6fb19a17fc4a3db8ef0b990fb2d7d4": {
      "model_module": "@jupyter-widgets/controls",
      "model_module_version": "1.5.0",
      "model_name": "DropdownModel",
      "state": {
       "_options_labels": [
        "Automatic",
        "Year",
        "Month",
        "Day"
       ],
       "description": "Time unit:",
       "index": 0,
       "layout": "IPY_MODEL_3a3868adbe3242509e1a6745f6365951",
       "style": "IPY_MODEL_0d5db8f1f7a24f7a9005d3d8927beb99"
      }
     },
     "5c14d9d8ffbf4da099b96e78353b3e4b": {
      "model_module": "@jupyter-widgets/controls",
      "model_module_version": "1.5.0",
      "model_name": "ButtonModel",
      "state": {
       "button_style": "primary",
       "description": "Visualise query",
       "layout": "IPY_MODEL_181e2e63d90841cfb617c53a6f312188",
       "style": "IPY_MODEL_45c388df924b4b35ae2963facb5c0ff3",
       "tooltip": "Create chart from query"
      }
     },
     "5c27ef21b3414f868dadd4bc7fdce0a8": {
      "model_module": "@jupyter-widgets/base",
      "model_module_version": "1.2.0",
      "model_name": "LayoutModel",
      "state": {
       "width": "80%"
      }
     },
     "5c8187e43d89466c9cf44c0918a61dbd": {
      "model_module": "@jupyter-widgets/controls",
      "model_module_version": "1.5.0",
      "model_name": "BoundedIntTextModel",
      "state": {
       "description": "Width",
       "layout": "IPY_MODEL_4664b7ebf99e4f0b93a09d0a0f25bad9",
       "max": 2000,
       "min": 700,
       "step": 100,
       "style": "IPY_MODEL_a47cae6c750c4445b4cff3f7e4707f52",
       "value": 700
      }
     },
     "5ced943d957840e7abb0820b51dcd22c": {
      "model_module": "@jupyter-widgets/base",
      "model_module_version": "1.2.0",
      "model_name": "LayoutModel",
      "state": {}
     },
     "5d77b3525ae74e879e16c85591a8af54": {
      "model_module": "@jupyter-widgets/controls",
      "model_module_version": "1.5.0",
      "model_name": "DropdownModel",
      "state": {
       "_options_labels": [
        "Automatic",
        "Year",
        "Month",
        "Day"
       ],
       "description": "Time unit:",
       "index": 1,
       "layout": "IPY_MODEL_33ae03e7750041309524a805f1fde202",
       "style": "IPY_MODEL_6da748a5a46d491ab8947faa889d1a7f"
      }
     },
     "5d8222a8db554152add7bc7e07dfb615": {
      "model_module": "@jupyter-widgets/base",
      "model_module_version": "1.2.0",
      "model_name": "LayoutModel",
      "state": {}
     },
     "5da0d01ae1e9446cb25c60e33af8f987": {
      "model_module": "@jupyter-widgets/controls",
      "model_module_version": "1.5.0",
      "model_name": "DescriptionStyleModel",
      "state": {
       "description_width": ""
      }
     },
     "5da767b7428944b5a273c7840717986b": {
      "model_module": "@jupyter-widgets/controls",
      "model_module_version": "1.5.0",
      "model_name": "PasswordModel",
      "state": {
       "description": "API key:",
       "layout": "IPY_MODEL_6121179f06874360831fadd27847e332",
       "placeholder": "Enter your Trove API key",
       "style": "IPY_MODEL_da7cbb9f751b434ca3e16356744d91b8",
       "value": "6pi5hht0d2umqcro"
      }
     },
     "5dcf60f5af9c4ff291e3ceeb939834a3": {
      "model_module": "@jupyter-widgets/base",
      "model_module_version": "1.2.0",
      "model_name": "LayoutModel",
      "state": {
       "margin": "0 0 20px 0"
      }
     },
     "5dd1732dd79f4809a97b76d548ac9011": {
      "model_module": "@jupyter-widgets/base",
      "model_module_version": "1.2.0",
      "model_name": "LayoutModel",
      "state": {
       "margin": "50px 0 50px 0"
      }
     },
     "5deb839e2ef04b2f847d9dede2fa4e26": {
      "model_module": "@jupyter-widgets/controls",
      "model_module_version": "1.5.0",
      "model_name": "ButtonModel",
      "state": {
       "description": "Clear all queries",
       "layout": "IPY_MODEL_ab3ad046006c4197b7bcf90dfaa9b08f",
       "style": "IPY_MODEL_46ffe9ab925f47fe8515c2a7ec866b23",
       "tooltip": "Clear current queries"
      }
     },
     "5e1704cb0d7144e6a3c9af2f15570f9c": {
      "model_module": "@jupyter-widgets/base",
      "model_module_version": "1.2.0",
      "model_name": "LayoutModel",
      "state": {}
     },
     "5e776f9cbabc4190a76221cede8ef63b": {
      "model_module": "@jupyter-widgets/controls",
      "model_module_version": "1.5.0",
      "model_name": "DescriptionStyleModel",
      "state": {
       "description_width": ""
      }
     },
     "5e803a922ed740539e20e984012359e3": {
      "model_module": "@jupyter-widgets/controls",
      "model_module_version": "1.5.0",
      "model_name": "HTMLModel",
      "state": {
       "layout": "IPY_MODEL_eff02808beb643bd9264cb7074985a5d",
       "style": "IPY_MODEL_2e3dcdf1161e4a2cbf9047d6f0162445",
       "value": " 11/11 [00:12&lt;00:00,  1.13s/it]"
      }
     },
     "5ee6daf07df04c5eb621a56ba9f66930": {
      "model_module": "@jupyter-widgets/controls",
      "model_module_version": "1.5.0",
      "model_name": "DescriptionStyleModel",
      "state": {
       "description_width": ""
      }
     },
     "5f0b1c65534048babc3dfc14ef8b93c3": {
      "model_module": "@jupyter-widgets/controls",
      "model_module_version": "1.5.0",
      "model_name": "TextModel",
      "state": {
       "description": "Query:",
       "layout": "IPY_MODEL_2fba26d7d4a746d1a2a0ee9b97478a5a",
       "placeholder": "Enter your search query",
       "style": "IPY_MODEL_e072f2c1d87e47388f836a70f7efd639",
       "value": "https://trove.nla.gov.au/search/category/newspapers?keyword=text%3A%22darling%20wife%22%20date%3A%5B1850%20TO%201954%5D"
      }
     },
     "5fcbea0ae08848369148acaba9516716": {
      "model_module": "@jupyter-widgets/base",
      "model_module_version": "1.2.0",
      "model_name": "LayoutModel",
      "state": {}
     },
     "5fe34c0c0708466a908fc8ebeba43d69": {
      "model_module": "@jupyter-widgets/controls",
      "model_module_version": "1.5.0",
      "model_name": "ButtonStyleModel",
      "state": {}
     },
     "6047f3e7e900471985b0743e0e22d615": {
      "model_module": "@jupyter-widgets/controls",
      "model_module_version": "1.5.0",
      "model_name": "ButtonModel",
      "state": {
       "button_style": "primary",
       "description": "Visualise query",
       "layout": "IPY_MODEL_9aed16989b104dc49a414bc31665b91a",
       "style": "IPY_MODEL_74c3f2f177b3412ebe2467241ac7e297",
       "tooltip": "Create chart from query"
      }
     },
     "6053253ace944612bf7a3e206a5c2107": {
      "model_module": "@jupyter-widgets/controls",
      "model_module_version": "1.5.0",
      "model_name": "ButtonModel",
      "state": {
       "description": "Clear all queries",
       "layout": "IPY_MODEL_30a8484a41004f03955320eb011a7b3e",
       "style": "IPY_MODEL_855b2debb6b64292a7b17f2c2fad8e9d",
       "tooltip": "Clear current queries"
      }
     },
     "6078457f9cae423285466ee783ee063c": {
      "model_module": "@jupyter-widgets/base",
      "model_module_version": "1.2.0",
      "model_name": "LayoutModel",
      "state": {}
     },
     "6089dc14139c466eb3c43fd8aa7d5ea9": {
      "model_module": "@jupyter-widgets/controls",
      "model_module_version": "1.5.0",
      "model_name": "HBoxModel",
      "state": {
       "children": [
        "IPY_MODEL_e37e72408a824d91a0a8e7e09fccf4e8",
        "IPY_MODEL_7146b65f8f1b431491db79a4b4f77fb1",
        "IPY_MODEL_d0a3af6fae4b44c38b8d9617f87516fa"
       ],
       "layout": "IPY_MODEL_8ac077996382480aba1aee6e5697743a"
      }
     },
     "608c2636161b4063aaaa4e4df956833d": {
      "model_module": "@jupyter-widgets/controls",
      "model_module_version": "1.5.0",
      "model_name": "ButtonModel",
      "state": {
       "button_style": "primary",
       "description": "Visualise query",
       "layout": "IPY_MODEL_304f775e8c954817a4fc36909d6600ac",
       "style": "IPY_MODEL_58679c6c746647598b734d8be7ec5d7e",
       "tooltip": "Create chart from query"
      }
     },
     "60ff8aba4b05408ba6af1f808026d869": {
      "model_module": "@jupyter-widgets/base",
      "model_module_version": "1.2.0",
      "model_name": "LayoutModel",
      "state": {}
     },
     "6121179f06874360831fadd27847e332": {
      "model_module": "@jupyter-widgets/base",
      "model_module_version": "1.2.0",
      "model_name": "LayoutModel",
      "state": {}
     },
     "626786cebe92475baa471939a24f368f": {
      "model_module": "@jupyter-widgets/controls",
      "model_module_version": "1.5.0",
      "model_name": "DescriptionStyleModel",
      "state": {
       "description_width": ""
      }
     },
     "626d3d142d934ad49474697da60f599c": {
      "model_module": "@jupyter-widgets/base",
      "model_module_version": "1.2.0",
      "model_name": "LayoutModel",
      "state": {}
     },
     "628caa1cb4694ef1a4c07013bc6e3fb4": {
      "model_module": "@jupyter-widgets/controls",
      "model_module_version": "1.5.0",
      "model_name": "VBoxModel",
      "state": {
       "children": [
        "IPY_MODEL_21ec4d8b8f9147eabb3560a0bbb239ff",
        "IPY_MODEL_77864bfc014f43459b3c35d42384c461",
        "IPY_MODEL_cdd8c15105074f319e35f5e653b3abd5"
       ],
       "layout": "IPY_MODEL_e742131198e1490bb7aef9e8908b8060"
      }
     },
     "62daf2fb2db7418391f644c67136d1c0": {
      "model_module": "@jupyter-widgets/controls",
      "model_module_version": "1.5.0",
      "model_name": "BoundedIntTextModel",
      "state": {
       "description": "Height",
       "layout": "IPY_MODEL_16785d6d95d04fd288407816b8e6dcb6",
       "max": 1500,
       "min": 400,
       "step": 100,
       "style": "IPY_MODEL_c971b5c73e8941f9bf415983d4676f32",
       "value": 400
      }
     },
     "6359555abec043d381a87bb23f937ed1": {
      "model_module": "@jupyter-widgets/base",
      "model_module_version": "1.2.0",
      "model_name": "LayoutModel",
      "state": {}
     },
     "636d50b0a8ab4c5ab9daffcc16780448": {
      "model_module": "@jupyter-widgets/controls",
      "model_module_version": "1.5.0",
      "model_name": "DescriptionStyleModel",
      "state": {
       "description_width": ""
      }
     },
     "639df6dbff7c42c68b994d998522795e": {
      "model_module": "@jupyter-widgets/controls",
      "model_module_version": "1.5.0",
      "model_name": "FloatProgressModel",
      "state": {
       "layout": "IPY_MODEL_0c8984cecae54070963aab3fb7b6819e",
       "max": 11,
       "style": "IPY_MODEL_58f153886770415da3b931052ca37468",
       "value": 11
      }
     },
     "63b1502bf040477d82a4dd7a383a839b": {
      "model_module": "@jupyter-widgets/base",
      "model_module_version": "1.2.0",
      "model_name": "LayoutModel",
      "state": {}
     },
     "63ba5136af984c8dbb695f2928fc4bf2": {
      "model_module": "@jupyter-widgets/controls",
      "model_module_version": "1.5.0",
      "model_name": "ProgressStyleModel",
      "state": {
       "description_width": ""
      }
     },
     "64027976fd4447258705256aeb236e87": {
      "model_module": "@jupyter-widgets/controls",
      "model_module_version": "1.5.0",
      "model_name": "ButtonStyleModel",
      "state": {}
     },
     "6474015d0fdc4a598b9c2023d5b7443c": {
      "model_module": "@jupyter-widgets/base",
      "model_module_version": "1.2.0",
      "model_name": "LayoutModel",
      "state": {
       "width": "80%"
      }
     },
     "6490504543ac48d2b618a3d571cb3f27": {
      "model_module": "@jupyter-widgets/controls",
      "model_module_version": "1.5.0",
      "model_name": "FloatProgressModel",
      "state": {
       "layout": "IPY_MODEL_695fc8b8c3454897b0047137175ad85b",
       "max": 11,
       "style": "IPY_MODEL_34e8ca57edf84ba4b3cfaf3779990db9",
       "value": 11
      }
     },
     "64f73815e69f45b3826e322e1b20e5a4": {
      "model_module": "@jupyter-widgets/controls",
      "model_module_version": "1.5.0",
      "model_name": "ButtonModel",
      "state": {
       "button_style": "primary",
       "description": "Save chart as HTML",
       "layout": "IPY_MODEL_449b22a967934d01b80fe4f8a1652426",
       "style": "IPY_MODEL_5972354787a04431a583afbbd7cf7970",
       "tooltip": "Save chart as HTML"
      }
     },
     "653fef5d38d54e9c8e5a2e7085bd7e99": {
      "model_module": "@jupyter-widgets/output",
      "model_module_version": "1.0.0",
      "model_name": "OutputModel",
      "state": {
       "layout": "IPY_MODEL_74692bb5a38244c2b0bc6fd00a757094",
       "outputs": [
        {
         "data": {
          "application/vnd.jupyter.widget-view+json": {
           "model_id": "59d39916583f45c0a7b5f881aa863384",
           "version_major": 2,
           "version_minor": 0
          },
          "text/plain": "Dropdown(options=(('Raw number of results', 'raw'), ('Proportion of total articles', 'proportion')), value='ra…"
         },
         "metadata": {},
         "output_type": "display_data"
        },
        {
         "data": {
          "text/html": "\n<div id=\"altair-viz-0a2dad3f1f7b49cb8ccd22465ae21e4b\"></div>\n<script type=\"text/javascript\">\n  var VEGA_DEBUG = (typeof VEGA_DEBUG == \"undefined\") ? {} : VEGA_DEBUG;\n  (function(spec, embedOpt){\n    let outputDiv = document.currentScript.previousElementSibling;\n    if (outputDiv.id !== \"altair-viz-0a2dad3f1f7b49cb8ccd22465ae21e4b\") {\n      outputDiv = document.getElementById(\"altair-viz-0a2dad3f1f7b49cb8ccd22465ae21e4b\");\n    }\n    const paths = {\n      \"vega\": \"https://cdn.jsdelivr.net/npm//vega@5?noext\",\n      \"vega-lib\": \"https://cdn.jsdelivr.net/npm//vega-lib?noext\",\n      \"vega-lite\": \"https://cdn.jsdelivr.net/npm//vega-lite@4.17.0?noext\",\n      \"vega-embed\": \"https://cdn.jsdelivr.net/npm//vega-embed@6?noext\",\n    };\n\n    function maybeLoadScript(lib, version) {\n      var key = `${lib.replace(\"-\", \"\")}_version`;\n      return (VEGA_DEBUG[key] == version) ?\n        Promise.resolve(paths[lib]) :\n        new Promise(function(resolve, reject) {\n          var s = document.createElement('script');\n          document.getElementsByTagName(\"head\")[0].appendChild(s);\n          s.async = true;\n          s.onload = () => {\n            VEGA_DEBUG[key] = version;\n            return resolve(paths[lib]);\n          };\n          s.onerror = () => reject(`Error loading script: ${paths[lib]}`);\n          s.src = paths[lib];\n        });\n    }\n\n    function showError(err) {\n      outputDiv.innerHTML = `<div class=\"error\" style=\"color:red;\">${err}</div>`;\n      throw err;\n    }\n\n    function displayChart(vegaEmbed) {\n      vegaEmbed(outputDiv, spec, embedOpt)\n        .catch(err => showError(`Javascript Error: ${err.message}<br>This usually means there's a typo in your chart specification. See the javascript console for the full traceback.`));\n    }\n\n    if(typeof define === \"function\" && define.amd) {\n      requirejs.config({paths});\n      require([\"vega-embed\"], displayChart, err => showError(`Error loading script: ${err.message}`));\n    } else {\n      maybeLoadScript(\"vega\", \"5\")\n        .then(() => maybeLoadScript(\"vega-lite\", \"4.17.0\"))\n        .then(() => maybeLoadScript(\"vega-embed\", \"6\"))\n        .catch(showError)\n        .then(() => displayChart(vegaEmbed));\n    }\n  })({\"usermeta\": {\"embedOptions\": {\"loader\": {\"target\": \"_blank\"}}}, \"vconcat\": [{\"data\": {\"name\": \"data-d10f65eebacae6fe3f3cc06df08d78d4\"}, \"mark\": {\"type\": \"line\", \"interpolate\": \"cardinal\", \"point\": true}, \"encoding\": {\"color\": {\"field\": \"id\", \"legend\": {\"title\": \"\"}, \"type\": \"nominal\"}, \"href\": {\"field\": \"url\", \"type\": \"nominal\"}, \"tooltip\": [{\"field\": \"id\", \"title\": \"query\", \"type\": \"nominal\"}, {\"field\": \"date\", \"timeUnit\": \"year\", \"title\": \"year\", \"type\": \"temporal\"}, {\"field\": \"total_results\", \"format\": \",\", \"title\": \"results\", \"type\": \"quantitative\"}, {\"field\": \"PercentOfTotal\", \"format\": \".2%\", \"title\": \"proportion\", \"type\": \"quantitative\"}], \"x\": {\"axis\": {\"title\": \"Year\"}, \"field\": \"date\", \"scale\": {\"padding\": 10}, \"timeUnit\": \"year\", \"type\": \"temporal\"}, \"y\": {\"axis\": {\"format\": \",d\", \"title\": \"Number of articles\"}, \"field\": \"total_results\", \"type\": \"quantitative\"}}, \"height\": 400, \"title\": {\"text\": \"Trove Newspapers & Gazettes Search\", \"subtitle\": \"Created by QueryPic: 24 June 2022\"}, \"transform\": [{\"calculate\": \"datum.total_results / datum.total_articles\", \"as\": \"PercentOfTotal\"}], \"width\": 800}, {\"data\": {\"name\": \"data-f675c00c0df2c3ff4332f63876210147\"}, \"mark\": {\"type\": \"text\", \"align\": \"left\", \"baseline\": \"middle\", \"dx\": 2, \"dy\": 1}, \"encoding\": {\"color\": {\"value\": \"blue\"}, \"href\": {\"field\": \"url\", \"type\": \"nominal\"}, \"text\": {\"field\": \"url\", \"type\": \"nominal\"}, \"x\": {\"axis\": null, \"field\": \"x\", \"scale\": {\"range\": [0, 1]}, \"title\": null, \"type\": \"quantitative\"}, \"y\": {\"axis\": {\"domain\": false, \"grid\": false, \"labelFontWeight\": \"bold\"}, \"field\": \"id\", \"title\": null, \"type\": \"ordinal\"}}}], \"config\": {\"padding\": 20, \"title\": {\"fontSize\": 14}, \"view\": {\"strokeWidth\": 0}}, \"$schema\": \"https://vega.github.io/schema/vega-lite/v4.17.0.json\", \"datasets\": {\"data-d10f65eebacae6fe3f3cc06df08d78d4\": [{\"date\": \"1850-01-02\", \"total_results\": 0, \"total_articles\": 0, \"url\": \"https://trove.nla.gov.au/search/category/newspapers?keyword=text%3A%22darling%20wife%22%20date%3A%5B1850%20TO%201954%5D&l-decade=185&l-year=1850\", \"id\": \"Query 1\"}, {\"date\": \"1851-01-02\", \"total_results\": 0, \"total_articles\": 0, \"url\": \"https://trove.nla.gov.au/search/category/newspapers?keyword=text%3A%22darling%20wife%22%20date%3A%5B1850%20TO%201954%5D&l-decade=185&l-year=1851\", \"id\": \"Query 1\"}, {\"date\": \"1852-01-02\", \"total_results\": 0, \"total_articles\": 0, \"url\": \"https://trove.nla.gov.au/search/category/newspapers?keyword=text%3A%22darling%20wife%22%20date%3A%5B1850%20TO%201954%5D&l-decade=185&l-year=1852\", \"id\": \"Query 1\"}, {\"date\": \"1853-01-02\", \"total_results\": 0, \"total_articles\": 0, \"url\": \"https://trove.nla.gov.au/search/category/newspapers?keyword=text%3A%22darling%20wife%22%20date%3A%5B1850%20TO%201954%5D&l-decade=185&l-year=1853\", \"id\": \"Query 1\"}, {\"date\": \"1854-01-02\", \"total_results\": 0, \"total_articles\": 0, \"url\": \"https://trove.nla.gov.au/search/category/newspapers?keyword=text%3A%22darling%20wife%22%20date%3A%5B1850%20TO%201954%5D&l-decade=185&l-year=1854\", \"id\": \"Query 1\"}, {\"date\": \"1855-01-02\", \"total_results\": 0, \"total_articles\": 0, \"url\": \"https://trove.nla.gov.au/search/category/newspapers?keyword=text%3A%22darling%20wife%22%20date%3A%5B1850%20TO%201954%5D&l-decade=185&l-year=1855\", \"id\": \"Query 1\"}, {\"date\": \"1856-01-02\", \"total_results\": 0, \"total_articles\": 0, \"url\": \"https://trove.nla.gov.au/search/category/newspapers?keyword=text%3A%22darling%20wife%22%20date%3A%5B1850%20TO%201954%5D&l-decade=185&l-year=1856\", \"id\": \"Query 1\"}, {\"date\": \"1857-01-02\", \"total_results\": 0, \"total_articles\": 0, \"url\": \"https://trove.nla.gov.au/search/category/newspapers?keyword=text%3A%22darling%20wife%22%20date%3A%5B1850%20TO%201954%5D&l-decade=185&l-year=1857\", \"id\": \"Query 1\"}, {\"date\": \"1858-01-02\", \"total_results\": 0, \"total_articles\": 0, \"url\": \"https://trove.nla.gov.au/search/category/newspapers?keyword=text%3A%22darling%20wife%22%20date%3A%5B1850%20TO%201954%5D&l-decade=185&l-year=1858\", \"id\": \"Query 1\"}, {\"date\": \"1859-01-02\", \"total_results\": 0, \"total_articles\": 0, \"url\": \"https://trove.nla.gov.au/search/category/newspapers?keyword=text%3A%22darling%20wife%22%20date%3A%5B1850%20TO%201954%5D&l-decade=185&l-year=1859\", \"id\": \"Query 1\"}, {\"date\": \"1860-01-02\", \"total_results\": 0, \"total_articles\": 0, \"url\": \"https://trove.nla.gov.au/search/category/newspapers?keyword=text%3A%22darling%20wife%22%20date%3A%5B1850%20TO%201954%5D&l-decade=186&l-year=1860\", \"id\": \"Query 1\"}, {\"date\": \"1861-01-02\", \"total_results\": 0, \"total_articles\": 0, \"url\": \"https://trove.nla.gov.au/search/category/newspapers?keyword=text%3A%22darling%20wife%22%20date%3A%5B1850%20TO%201954%5D&l-decade=186&l-year=1861\", \"id\": \"Query 1\"}, {\"date\": \"1862-01-02\", \"total_results\": 0, \"total_articles\": 0, \"url\": \"https://trove.nla.gov.au/search/category/newspapers?keyword=text%3A%22darling%20wife%22%20date%3A%5B1850%20TO%201954%5D&l-decade=186&l-year=1862\", \"id\": \"Query 1\"}, {\"date\": \"1863-01-02\", \"total_results\": 0, \"total_articles\": 0, \"url\": \"https://trove.nla.gov.au/search/category/newspapers?keyword=text%3A%22darling%20wife%22%20date%3A%5B1850%20TO%201954%5D&l-decade=186&l-year=1863\", \"id\": \"Query 1\"}, {\"date\": \"1864-01-02\", \"total_results\": 0, \"total_articles\": 0, \"url\": \"https://trove.nla.gov.au/search/category/newspapers?keyword=text%3A%22darling%20wife%22%20date%3A%5B1850%20TO%201954%5D&l-decade=186&l-year=1864\", \"id\": \"Query 1\"}, {\"date\": \"1865-01-02\", \"total_results\": 0, \"total_articles\": 0, \"url\": \"https://trove.nla.gov.au/search/category/newspapers?keyword=text%3A%22darling%20wife%22%20date%3A%5B1850%20TO%201954%5D&l-decade=186&l-year=1865\", \"id\": \"Query 1\"}, {\"date\": \"1866-01-02\", \"total_results\": 0, \"total_articles\": 0, \"url\": \"https://trove.nla.gov.au/search/category/newspapers?keyword=text%3A%22darling%20wife%22%20date%3A%5B1850%20TO%201954%5D&l-decade=186&l-year=1866\", \"id\": \"Query 1\"}, {\"date\": \"1867-01-02\", \"total_results\": 0, \"total_articles\": 0, \"url\": \"https://trove.nla.gov.au/search/category/newspapers?keyword=text%3A%22darling%20wife%22%20date%3A%5B1850%20TO%201954%5D&l-decade=186&l-year=1867\", \"id\": \"Query 1\"}, {\"date\": \"1868-01-02\", \"total_results\": 0, \"total_articles\": 0, \"url\": \"https://trove.nla.gov.au/search/category/newspapers?keyword=text%3A%22darling%20wife%22%20date%3A%5B1850%20TO%201954%5D&l-decade=186&l-year=1868\", \"id\": \"Query 1\"}, {\"date\": \"1869-01-02\", \"total_results\": 0, \"total_articles\": 0, \"url\": \"https://trove.nla.gov.au/search/category/newspapers?keyword=text%3A%22darling%20wife%22%20date%3A%5B1850%20TO%201954%5D&l-decade=186&l-year=1869\", \"id\": \"Query 1\"}, {\"date\": \"1870-01-02\", \"total_results\": 0, \"total_articles\": 0, \"url\": \"https://trove.nla.gov.au/search/category/newspapers?keyword=text%3A%22darling%20wife%22%20date%3A%5B1850%20TO%201954%5D&l-decade=187&l-year=1870\", \"id\": \"Query 1\"}, {\"date\": \"1871-01-02\", \"total_results\": 0, \"total_articles\": 0, \"url\": \"https://trove.nla.gov.au/search/category/newspapers?keyword=text%3A%22darling%20wife%22%20date%3A%5B1850%20TO%201954%5D&l-decade=187&l-year=1871\", \"id\": \"Query 1\"}, {\"date\": \"1872-01-02\", \"total_results\": 0, \"total_articles\": 0, \"url\": \"https://trove.nla.gov.au/search/category/newspapers?keyword=text%3A%22darling%20wife%22%20date%3A%5B1850%20TO%201954%5D&l-decade=187&l-year=1872\", \"id\": \"Query 1\"}, {\"date\": \"1873-01-02\", \"total_results\": 0, \"total_articles\": 0, \"url\": \"https://trove.nla.gov.au/search/category/newspapers?keyword=text%3A%22darling%20wife%22%20date%3A%5B1850%20TO%201954%5D&l-decade=187&l-year=1873\", \"id\": \"Query 1\"}, {\"date\": \"1874-01-02\", \"total_results\": 0, \"total_articles\": 0, \"url\": \"https://trove.nla.gov.au/search/category/newspapers?keyword=text%3A%22darling%20wife%22%20date%3A%5B1850%20TO%201954%5D&l-decade=187&l-year=1874\", \"id\": \"Query 1\"}, {\"date\": \"1875-01-02\", \"total_results\": 0, \"total_articles\": 0, \"url\": \"https://trove.nla.gov.au/search/category/newspapers?keyword=text%3A%22darling%20wife%22%20date%3A%5B1850%20TO%201954%5D&l-decade=187&l-year=1875\", \"id\": \"Query 1\"}, {\"date\": \"1876-01-02\", \"total_results\": 0, \"total_articles\": 0, \"url\": \"https://trove.nla.gov.au/search/category/newspapers?keyword=text%3A%22darling%20wife%22%20date%3A%5B1850%20TO%201954%5D&l-decade=187&l-year=1876\", \"id\": \"Query 1\"}, {\"date\": \"1877-01-02\", \"total_results\": 0, \"total_articles\": 0, \"url\": \"https://trove.nla.gov.au/search/category/newspapers?keyword=text%3A%22darling%20wife%22%20date%3A%5B1850%20TO%201954%5D&l-decade=187&l-year=1877\", \"id\": \"Query 1\"}, {\"date\": \"1878-01-02\", \"total_results\": 0, \"total_articles\": 0, \"url\": \"https://trove.nla.gov.au/search/category/newspapers?keyword=text%3A%22darling%20wife%22%20date%3A%5B1850%20TO%201954%5D&l-decade=187&l-year=1878\", \"id\": \"Query 1\"}, {\"date\": \"1879-01-02\", \"total_results\": 0, \"total_articles\": 0, \"url\": \"https://trove.nla.gov.au/search/category/newspapers?keyword=text%3A%22darling%20wife%22%20date%3A%5B1850%20TO%201954%5D&l-decade=187&l-year=1879\", \"id\": \"Query 1\"}, {\"date\": \"1880-01-02\", \"total_results\": 0, \"total_articles\": 0, \"url\": \"https://trove.nla.gov.au/search/category/newspapers?keyword=text%3A%22darling%20wife%22%20date%3A%5B1850%20TO%201954%5D&l-decade=188&l-year=1880\", \"id\": \"Query 1\"}, {\"date\": \"1881-01-02\", \"total_results\": 0, \"total_articles\": 0, \"url\": \"https://trove.nla.gov.au/search/category/newspapers?keyword=text%3A%22darling%20wife%22%20date%3A%5B1850%20TO%201954%5D&l-decade=188&l-year=1881\", \"id\": \"Query 1\"}, {\"date\": \"1882-01-02\", \"total_results\": 0, \"total_articles\": 0, \"url\": \"https://trove.nla.gov.au/search/category/newspapers?keyword=text%3A%22darling%20wife%22%20date%3A%5B1850%20TO%201954%5D&l-decade=188&l-year=1882\", \"id\": \"Query 1\"}, {\"date\": \"1883-01-02\", \"total_results\": 0, \"total_articles\": 0, \"url\": \"https://trove.nla.gov.au/search/category/newspapers?keyword=text%3A%22darling%20wife%22%20date%3A%5B1850%20TO%201954%5D&l-decade=188&l-year=1883\", \"id\": \"Query 1\"}, {\"date\": \"1884-01-02\", \"total_results\": 0, \"total_articles\": 0, \"url\": \"https://trove.nla.gov.au/search/category/newspapers?keyword=text%3A%22darling%20wife%22%20date%3A%5B1850%20TO%201954%5D&l-decade=188&l-year=1884\", \"id\": \"Query 1\"}, {\"date\": \"1885-01-02\", \"total_results\": 0, \"total_articles\": 0, \"url\": \"https://trove.nla.gov.au/search/category/newspapers?keyword=text%3A%22darling%20wife%22%20date%3A%5B1850%20TO%201954%5D&l-decade=188&l-year=1885\", \"id\": \"Query 1\"}, {\"date\": \"1886-01-02\", \"total_results\": 0, \"total_articles\": 0, \"url\": \"https://trove.nla.gov.au/search/category/newspapers?keyword=text%3A%22darling%20wife%22%20date%3A%5B1850%20TO%201954%5D&l-decade=188&l-year=1886\", \"id\": \"Query 1\"}, {\"date\": \"1887-01-02\", \"total_results\": 0, \"total_articles\": 0, \"url\": \"https://trove.nla.gov.au/search/category/newspapers?keyword=text%3A%22darling%20wife%22%20date%3A%5B1850%20TO%201954%5D&l-decade=188&l-year=1887\", \"id\": \"Query 1\"}, {\"date\": \"1888-01-02\", \"total_results\": 0, \"total_articles\": 0, \"url\": \"https://trove.nla.gov.au/search/category/newspapers?keyword=text%3A%22darling%20wife%22%20date%3A%5B1850%20TO%201954%5D&l-decade=188&l-year=1888\", \"id\": \"Query 1\"}, {\"date\": \"1889-01-02\", \"total_results\": 0, \"total_articles\": 0, \"url\": \"https://trove.nla.gov.au/search/category/newspapers?keyword=text%3A%22darling%20wife%22%20date%3A%5B1850%20TO%201954%5D&l-decade=188&l-year=1889\", \"id\": \"Query 1\"}, {\"date\": \"1890-01-02\", \"total_results\": 0, \"total_articles\": 0, \"url\": \"https://trove.nla.gov.au/search/category/newspapers?keyword=text%3A%22darling%20wife%22%20date%3A%5B1850%20TO%201954%5D&l-decade=189&l-year=1890\", \"id\": \"Query 1\"}, {\"date\": \"1891-01-02\", \"total_results\": 0, \"total_articles\": 0, \"url\": \"https://trove.nla.gov.au/search/category/newspapers?keyword=text%3A%22darling%20wife%22%20date%3A%5B1850%20TO%201954%5D&l-decade=189&l-year=1891\", \"id\": \"Query 1\"}, {\"date\": \"1892-01-02\", \"total_results\": 0, \"total_articles\": 0, \"url\": \"https://trove.nla.gov.au/search/category/newspapers?keyword=text%3A%22darling%20wife%22%20date%3A%5B1850%20TO%201954%5D&l-decade=189&l-year=1892\", \"id\": \"Query 1\"}, {\"date\": \"1893-01-02\", \"total_results\": 0, \"total_articles\": 0, \"url\": \"https://trove.nla.gov.au/search/category/newspapers?keyword=text%3A%22darling%20wife%22%20date%3A%5B1850%20TO%201954%5D&l-decade=189&l-year=1893\", \"id\": \"Query 1\"}, {\"date\": \"1894-01-02\", \"total_results\": 0, \"total_articles\": 0, \"url\": \"https://trove.nla.gov.au/search/category/newspapers?keyword=text%3A%22darling%20wife%22%20date%3A%5B1850%20TO%201954%5D&l-decade=189&l-year=1894\", \"id\": \"Query 1\"}, {\"date\": \"1895-01-02\", \"total_results\": 0, \"total_articles\": 0, \"url\": \"https://trove.nla.gov.au/search/category/newspapers?keyword=text%3A%22darling%20wife%22%20date%3A%5B1850%20TO%201954%5D&l-decade=189&l-year=1895\", \"id\": \"Query 1\"}, {\"date\": \"1896-01-02\", \"total_results\": 0, \"total_articles\": 0, \"url\": \"https://trove.nla.gov.au/search/category/newspapers?keyword=text%3A%22darling%20wife%22%20date%3A%5B1850%20TO%201954%5D&l-decade=189&l-year=1896\", \"id\": \"Query 1\"}, {\"date\": \"1897-01-02\", \"total_results\": 0, \"total_articles\": 0, \"url\": \"https://trove.nla.gov.au/search/category/newspapers?keyword=text%3A%22darling%20wife%22%20date%3A%5B1850%20TO%201954%5D&l-decade=189&l-year=1897\", \"id\": \"Query 1\"}, {\"date\": \"1898-01-02\", \"total_results\": 0, \"total_articles\": 0, \"url\": \"https://trove.nla.gov.au/search/category/newspapers?keyword=text%3A%22darling%20wife%22%20date%3A%5B1850%20TO%201954%5D&l-decade=189&l-year=1898\", \"id\": \"Query 1\"}, {\"date\": \"1899-01-02\", \"total_results\": 0, \"total_articles\": 0, \"url\": \"https://trove.nla.gov.au/search/category/newspapers?keyword=text%3A%22darling%20wife%22%20date%3A%5B1850%20TO%201954%5D&l-decade=189&l-year=1899\", \"id\": \"Query 1\"}, {\"date\": \"1900-01-02\", \"total_results\": 0, \"total_articles\": 0, \"url\": \"https://trove.nla.gov.au/search/category/newspapers?keyword=text%3A%22darling%20wife%22%20date%3A%5B1850%20TO%201954%5D&l-decade=190&l-year=1900\", \"id\": \"Query 1\"}, {\"date\": \"1901-01-02\", \"total_results\": 0, \"total_articles\": 0, \"url\": \"https://trove.nla.gov.au/search/category/newspapers?keyword=text%3A%22darling%20wife%22%20date%3A%5B1850%20TO%201954%5D&l-decade=190&l-year=1901\", \"id\": \"Query 1\"}, {\"date\": \"1902-01-02\", \"total_results\": 0, \"total_articles\": 0, \"url\": \"https://trove.nla.gov.au/search/category/newspapers?keyword=text%3A%22darling%20wife%22%20date%3A%5B1850%20TO%201954%5D&l-decade=190&l-year=1902\", \"id\": \"Query 1\"}, {\"date\": \"1903-01-02\", \"total_results\": 0, \"total_articles\": 0, \"url\": \"https://trove.nla.gov.au/search/category/newspapers?keyword=text%3A%22darling%20wife%22%20date%3A%5B1850%20TO%201954%5D&l-decade=190&l-year=1903\", \"id\": \"Query 1\"}, {\"date\": \"1904-01-02\", \"total_results\": 0, \"total_articles\": 0, \"url\": \"https://trove.nla.gov.au/search/category/newspapers?keyword=text%3A%22darling%20wife%22%20date%3A%5B1850%20TO%201954%5D&l-decade=190&l-year=1904\", \"id\": \"Query 1\"}, {\"date\": \"1905-01-02\", \"total_results\": 0, \"total_articles\": 0, \"url\": \"https://trove.nla.gov.au/search/category/newspapers?keyword=text%3A%22darling%20wife%22%20date%3A%5B1850%20TO%201954%5D&l-decade=190&l-year=1905\", \"id\": \"Query 1\"}, {\"date\": \"1906-01-02\", \"total_results\": 0, \"total_articles\": 0, \"url\": \"https://trove.nla.gov.au/search/category/newspapers?keyword=text%3A%22darling%20wife%22%20date%3A%5B1850%20TO%201954%5D&l-decade=190&l-year=1906\", \"id\": \"Query 1\"}, {\"date\": \"1907-01-02\", \"total_results\": 0, \"total_articles\": 0, \"url\": \"https://trove.nla.gov.au/search/category/newspapers?keyword=text%3A%22darling%20wife%22%20date%3A%5B1850%20TO%201954%5D&l-decade=190&l-year=1907\", \"id\": \"Query 1\"}, {\"date\": \"1908-01-02\", \"total_results\": 0, \"total_articles\": 0, \"url\": \"https://trove.nla.gov.au/search/category/newspapers?keyword=text%3A%22darling%20wife%22%20date%3A%5B1850%20TO%201954%5D&l-decade=190&l-year=1908\", \"id\": \"Query 1\"}, {\"date\": \"1909-01-02\", \"total_results\": 0, \"total_articles\": 0, \"url\": \"https://trove.nla.gov.au/search/category/newspapers?keyword=text%3A%22darling%20wife%22%20date%3A%5B1850%20TO%201954%5D&l-decade=190&l-year=1909\", \"id\": \"Query 1\"}, {\"date\": \"1910-01-02\", \"total_results\": 0, \"total_articles\": 0, \"url\": \"https://trove.nla.gov.au/search/category/newspapers?keyword=text%3A%22darling%20wife%22%20date%3A%5B1850%20TO%201954%5D&l-decade=191&l-year=1910\", \"id\": \"Query 1\"}, {\"date\": \"1911-01-02\", \"total_results\": 0, \"total_articles\": 0, \"url\": \"https://trove.nla.gov.au/search/category/newspapers?keyword=text%3A%22darling%20wife%22%20date%3A%5B1850%20TO%201954%5D&l-decade=191&l-year=1911\", \"id\": \"Query 1\"}, {\"date\": \"1912-01-02\", \"total_results\": 0, \"total_articles\": 0, \"url\": \"https://trove.nla.gov.au/search/category/newspapers?keyword=text%3A%22darling%20wife%22%20date%3A%5B1850%20TO%201954%5D&l-decade=191&l-year=1912\", \"id\": \"Query 1\"}, {\"date\": \"1913-01-02\", \"total_results\": 0, \"total_articles\": 0, \"url\": \"https://trove.nla.gov.au/search/category/newspapers?keyword=text%3A%22darling%20wife%22%20date%3A%5B1850%20TO%201954%5D&l-decade=191&l-year=1913\", \"id\": \"Query 1\"}, {\"date\": \"1914-01-02\", \"total_results\": 0, \"total_articles\": 0, \"url\": \"https://trove.nla.gov.au/search/category/newspapers?keyword=text%3A%22darling%20wife%22%20date%3A%5B1850%20TO%201954%5D&l-decade=191&l-year=1914\", \"id\": \"Query 1\"}, {\"date\": \"1915-01-02\", \"total_results\": 0, \"total_articles\": 0, \"url\": \"https://trove.nla.gov.au/search/category/newspapers?keyword=text%3A%22darling%20wife%22%20date%3A%5B1850%20TO%201954%5D&l-decade=191&l-year=1915\", \"id\": \"Query 1\"}, {\"date\": \"1916-01-02\", \"total_results\": 0, \"total_articles\": 0, \"url\": \"https://trove.nla.gov.au/search/category/newspapers?keyword=text%3A%22darling%20wife%22%20date%3A%5B1850%20TO%201954%5D&l-decade=191&l-year=1916\", \"id\": \"Query 1\"}, {\"date\": \"1917-01-02\", \"total_results\": 0, \"total_articles\": 0, \"url\": \"https://trove.nla.gov.au/search/category/newspapers?keyword=text%3A%22darling%20wife%22%20date%3A%5B1850%20TO%201954%5D&l-decade=191&l-year=1917\", \"id\": \"Query 1\"}, {\"date\": \"1918-01-02\", \"total_results\": 0, \"total_articles\": 0, \"url\": \"https://trove.nla.gov.au/search/category/newspapers?keyword=text%3A%22darling%20wife%22%20date%3A%5B1850%20TO%201954%5D&l-decade=191&l-year=1918\", \"id\": \"Query 1\"}, {\"date\": \"1919-01-02\", \"total_results\": 0, \"total_articles\": 0, \"url\": \"https://trove.nla.gov.au/search/category/newspapers?keyword=text%3A%22darling%20wife%22%20date%3A%5B1850%20TO%201954%5D&l-decade=191&l-year=1919\", \"id\": \"Query 1\"}, {\"date\": \"1920-01-02\", \"total_results\": 0, \"total_articles\": 0, \"url\": \"https://trove.nla.gov.au/search/category/newspapers?keyword=text%3A%22darling%20wife%22%20date%3A%5B1850%20TO%201954%5D&l-decade=192&l-year=1920\", \"id\": \"Query 1\"}, {\"date\": \"1921-01-02\", \"total_results\": 0, \"total_articles\": 0, \"url\": \"https://trove.nla.gov.au/search/category/newspapers?keyword=text%3A%22darling%20wife%22%20date%3A%5B1850%20TO%201954%5D&l-decade=192&l-year=1921\", \"id\": \"Query 1\"}, {\"date\": \"1922-01-02\", \"total_results\": 0, \"total_articles\": 0, \"url\": \"https://trove.nla.gov.au/search/category/newspapers?keyword=text%3A%22darling%20wife%22%20date%3A%5B1850%20TO%201954%5D&l-decade=192&l-year=1922\", \"id\": \"Query 1\"}, {\"date\": \"1923-01-02\", \"total_results\": 0, \"total_articles\": 0, \"url\": \"https://trove.nla.gov.au/search/category/newspapers?keyword=text%3A%22darling%20wife%22%20date%3A%5B1850%20TO%201954%5D&l-decade=192&l-year=1923\", \"id\": \"Query 1\"}, {\"date\": \"1924-01-02\", \"total_results\": 0, \"total_articles\": 0, \"url\": \"https://trove.nla.gov.au/search/category/newspapers?keyword=text%3A%22darling%20wife%22%20date%3A%5B1850%20TO%201954%5D&l-decade=192&l-year=1924\", \"id\": \"Query 1\"}, {\"date\": \"1925-01-02\", \"total_results\": 0, \"total_articles\": 0, \"url\": \"https://trove.nla.gov.au/search/category/newspapers?keyword=text%3A%22darling%20wife%22%20date%3A%5B1850%20TO%201954%5D&l-decade=192&l-year=1925\", \"id\": \"Query 1\"}, {\"date\": \"1926-01-02\", \"total_results\": 0, \"total_articles\": 0, \"url\": \"https://trove.nla.gov.au/search/category/newspapers?keyword=text%3A%22darling%20wife%22%20date%3A%5B1850%20TO%201954%5D&l-decade=192&l-year=1926\", \"id\": \"Query 1\"}, {\"date\": \"1927-01-02\", \"total_results\": 0, \"total_articles\": 0, \"url\": \"https://trove.nla.gov.au/search/category/newspapers?keyword=text%3A%22darling%20wife%22%20date%3A%5B1850%20TO%201954%5D&l-decade=192&l-year=1927\", \"id\": \"Query 1\"}, {\"date\": \"1928-01-02\", \"total_results\": 0, \"total_articles\": 0, \"url\": \"https://trove.nla.gov.au/search/category/newspapers?keyword=text%3A%22darling%20wife%22%20date%3A%5B1850%20TO%201954%5D&l-decade=192&l-year=1928\", \"id\": \"Query 1\"}, {\"date\": \"1929-01-02\", \"total_results\": 0, \"total_articles\": 0, \"url\": \"https://trove.nla.gov.au/search/category/newspapers?keyword=text%3A%22darling%20wife%22%20date%3A%5B1850%20TO%201954%5D&l-decade=192&l-year=1929\", \"id\": \"Query 1\"}, {\"date\": \"1930-01-02\", \"total_results\": 0, \"total_articles\": 0, \"url\": \"https://trove.nla.gov.au/search/category/newspapers?keyword=text%3A%22darling%20wife%22%20date%3A%5B1850%20TO%201954%5D&l-decade=193&l-year=1930\", \"id\": \"Query 1\"}, {\"date\": \"1931-01-02\", \"total_results\": 0, \"total_articles\": 0, \"url\": \"https://trove.nla.gov.au/search/category/newspapers?keyword=text%3A%22darling%20wife%22%20date%3A%5B1850%20TO%201954%5D&l-decade=193&l-year=1931\", \"id\": \"Query 1\"}, {\"date\": \"1932-01-02\", \"total_results\": 0, \"total_articles\": 0, \"url\": \"https://trove.nla.gov.au/search/category/newspapers?keyword=text%3A%22darling%20wife%22%20date%3A%5B1850%20TO%201954%5D&l-decade=193&l-year=1932\", \"id\": \"Query 1\"}, {\"date\": \"1933-01-02\", \"total_results\": 0, \"total_articles\": 0, \"url\": \"https://trove.nla.gov.au/search/category/newspapers?keyword=text%3A%22darling%20wife%22%20date%3A%5B1850%20TO%201954%5D&l-decade=193&l-year=1933\", \"id\": \"Query 1\"}, {\"date\": \"1934-01-02\", \"total_results\": 0, \"total_articles\": 0, \"url\": \"https://trove.nla.gov.au/search/category/newspapers?keyword=text%3A%22darling%20wife%22%20date%3A%5B1850%20TO%201954%5D&l-decade=193&l-year=1934\", \"id\": \"Query 1\"}, {\"date\": \"1935-01-02\", \"total_results\": 0, \"total_articles\": 0, \"url\": \"https://trove.nla.gov.au/search/category/newspapers?keyword=text%3A%22darling%20wife%22%20date%3A%5B1850%20TO%201954%5D&l-decade=193&l-year=1935\", \"id\": \"Query 1\"}, {\"date\": \"1936-01-02\", \"total_results\": 0, \"total_articles\": 0, \"url\": \"https://trove.nla.gov.au/search/category/newspapers?keyword=text%3A%22darling%20wife%22%20date%3A%5B1850%20TO%201954%5D&l-decade=193&l-year=1936\", \"id\": \"Query 1\"}, {\"date\": \"1937-01-02\", \"total_results\": 0, \"total_articles\": 0, \"url\": \"https://trove.nla.gov.au/search/category/newspapers?keyword=text%3A%22darling%20wife%22%20date%3A%5B1850%20TO%201954%5D&l-decade=193&l-year=1937\", \"id\": \"Query 1\"}, {\"date\": \"1938-01-02\", \"total_results\": 0, \"total_articles\": 0, \"url\": \"https://trove.nla.gov.au/search/category/newspapers?keyword=text%3A%22darling%20wife%22%20date%3A%5B1850%20TO%201954%5D&l-decade=193&l-year=1938\", \"id\": \"Query 1\"}, {\"date\": \"1939-01-02\", \"total_results\": 0, \"total_articles\": 0, \"url\": \"https://trove.nla.gov.au/search/category/newspapers?keyword=text%3A%22darling%20wife%22%20date%3A%5B1850%20TO%201954%5D&l-decade=193&l-year=1939\", \"id\": \"Query 1\"}, {\"date\": \"1940-01-02\", \"total_results\": 0, \"total_articles\": 0, \"url\": \"https://trove.nla.gov.au/search/category/newspapers?keyword=text%3A%22darling%20wife%22%20date%3A%5B1850%20TO%201954%5D&l-decade=194&l-year=1940\", \"id\": \"Query 1\"}, {\"date\": \"1941-01-02\", \"total_results\": 0, \"total_articles\": 0, \"url\": \"https://trove.nla.gov.au/search/category/newspapers?keyword=text%3A%22darling%20wife%22%20date%3A%5B1850%20TO%201954%5D&l-decade=194&l-year=1941\", \"id\": \"Query 1\"}, {\"date\": \"1942-01-02\", \"total_results\": 0, \"total_articles\": 0, \"url\": \"https://trove.nla.gov.au/search/category/newspapers?keyword=text%3A%22darling%20wife%22%20date%3A%5B1850%20TO%201954%5D&l-decade=194&l-year=1942\", \"id\": \"Query 1\"}, {\"date\": \"1943-01-02\", \"total_results\": 0, \"total_articles\": 0, \"url\": \"https://trove.nla.gov.au/search/category/newspapers?keyword=text%3A%22darling%20wife%22%20date%3A%5B1850%20TO%201954%5D&l-decade=194&l-year=1943\", \"id\": \"Query 1\"}, {\"date\": \"1944-01-02\", \"total_results\": 0, \"total_articles\": 0, \"url\": \"https://trove.nla.gov.au/search/category/newspapers?keyword=text%3A%22darling%20wife%22%20date%3A%5B1850%20TO%201954%5D&l-decade=194&l-year=1944\", \"id\": \"Query 1\"}, {\"date\": \"1945-01-02\", \"total_results\": 0, \"total_articles\": 0, \"url\": \"https://trove.nla.gov.au/search/category/newspapers?keyword=text%3A%22darling%20wife%22%20date%3A%5B1850%20TO%201954%5D&l-decade=194&l-year=1945\", \"id\": \"Query 1\"}, {\"date\": \"1946-01-02\", \"total_results\": 0, \"total_articles\": 0, \"url\": \"https://trove.nla.gov.au/search/category/newspapers?keyword=text%3A%22darling%20wife%22%20date%3A%5B1850%20TO%201954%5D&l-decade=194&l-year=1946\", \"id\": \"Query 1\"}, {\"date\": \"1947-01-02\", \"total_results\": 0, \"total_articles\": 0, \"url\": \"https://trove.nla.gov.au/search/category/newspapers?keyword=text%3A%22darling%20wife%22%20date%3A%5B1850%20TO%201954%5D&l-decade=194&l-year=1947\", \"id\": \"Query 1\"}, {\"date\": \"1948-01-02\", \"total_results\": 0, \"total_articles\": 0, \"url\": \"https://trove.nla.gov.au/search/category/newspapers?keyword=text%3A%22darling%20wife%22%20date%3A%5B1850%20TO%201954%5D&l-decade=194&l-year=1948\", \"id\": \"Query 1\"}, {\"date\": \"1949-01-02\", \"total_results\": 0, \"total_articles\": 0, \"url\": \"https://trove.nla.gov.au/search/category/newspapers?keyword=text%3A%22darling%20wife%22%20date%3A%5B1850%20TO%201954%5D&l-decade=194&l-year=1949\", \"id\": \"Query 1\"}, {\"date\": \"1950-01-02\", \"total_results\": 0, \"total_articles\": 0, \"url\": \"https://trove.nla.gov.au/search/category/newspapers?keyword=text%3A%22darling%20wife%22%20date%3A%5B1850%20TO%201954%5D&l-decade=195&l-year=1950\", \"id\": \"Query 1\"}, {\"date\": \"1951-01-02\", \"total_results\": 0, \"total_articles\": 0, \"url\": \"https://trove.nla.gov.au/search/category/newspapers?keyword=text%3A%22darling%20wife%22%20date%3A%5B1850%20TO%201954%5D&l-decade=195&l-year=1951\", \"id\": \"Query 1\"}, {\"date\": \"1952-01-02\", \"total_results\": 0, \"total_articles\": 0, \"url\": \"https://trove.nla.gov.au/search/category/newspapers?keyword=text%3A%22darling%20wife%22%20date%3A%5B1850%20TO%201954%5D&l-decade=195&l-year=1952\", \"id\": \"Query 1\"}, {\"date\": \"1953-01-02\", \"total_results\": 0, \"total_articles\": 0, \"url\": \"https://trove.nla.gov.au/search/category/newspapers?keyword=text%3A%22darling%20wife%22%20date%3A%5B1850%20TO%201954%5D&l-decade=195&l-year=1953\", \"id\": \"Query 1\"}, {\"date\": \"1850-01-02\", \"total_results\": 0, \"total_articles\": 0, \"url\": \"https://trove.nla.gov.au/search/category/newspapers?keyword=text%3A%22darling%20wife%22%20date%3A%5B1850%20TO%201954%5D&l-decade=185&l-year=1850\", \"id\": \"Query 2\"}, {\"date\": \"1851-01-02\", \"total_results\": 0, \"total_articles\": 0, \"url\": \"https://trove.nla.gov.au/search/category/newspapers?keyword=text%3A%22darling%20wife%22%20date%3A%5B1850%20TO%201954%5D&l-decade=185&l-year=1851\", \"id\": \"Query 2\"}, {\"date\": \"1852-01-02\", \"total_results\": 0, \"total_articles\": 0, \"url\": \"https://trove.nla.gov.au/search/category/newspapers?keyword=text%3A%22darling%20wife%22%20date%3A%5B1850%20TO%201954%5D&l-decade=185&l-year=1852\", \"id\": \"Query 2\"}, {\"date\": \"1853-01-02\", \"total_results\": 0, \"total_articles\": 0, \"url\": \"https://trove.nla.gov.au/search/category/newspapers?keyword=text%3A%22darling%20wife%22%20date%3A%5B1850%20TO%201954%5D&l-decade=185&l-year=1853\", \"id\": \"Query 2\"}, {\"date\": \"1854-01-02\", \"total_results\": 0, \"total_articles\": 0, \"url\": \"https://trove.nla.gov.au/search/category/newspapers?keyword=text%3A%22darling%20wife%22%20date%3A%5B1850%20TO%201954%5D&l-decade=185&l-year=1854\", \"id\": \"Query 2\"}, {\"date\": \"1855-01-02\", \"total_results\": 0, \"total_articles\": 0, \"url\": \"https://trove.nla.gov.au/search/category/newspapers?keyword=text%3A%22darling%20wife%22%20date%3A%5B1850%20TO%201954%5D&l-decade=185&l-year=1855\", \"id\": \"Query 2\"}, {\"date\": \"1856-01-02\", \"total_results\": 0, \"total_articles\": 0, \"url\": \"https://trove.nla.gov.au/search/category/newspapers?keyword=text%3A%22darling%20wife%22%20date%3A%5B1850%20TO%201954%5D&l-decade=185&l-year=1856\", \"id\": \"Query 2\"}, {\"date\": \"1857-01-02\", \"total_results\": 0, \"total_articles\": 0, \"url\": \"https://trove.nla.gov.au/search/category/newspapers?keyword=text%3A%22darling%20wife%22%20date%3A%5B1850%20TO%201954%5D&l-decade=185&l-year=1857\", \"id\": \"Query 2\"}, {\"date\": \"1858-01-02\", \"total_results\": 0, \"total_articles\": 0, \"url\": \"https://trove.nla.gov.au/search/category/newspapers?keyword=text%3A%22darling%20wife%22%20date%3A%5B1850%20TO%201954%5D&l-decade=185&l-year=1858\", \"id\": \"Query 2\"}, {\"date\": \"1859-01-02\", \"total_results\": 0, \"total_articles\": 0, \"url\": \"https://trove.nla.gov.au/search/category/newspapers?keyword=text%3A%22darling%20wife%22%20date%3A%5B1850%20TO%201954%5D&l-decade=185&l-year=1859\", \"id\": \"Query 2\"}, {\"date\": \"1860-01-02\", \"total_results\": 0, \"total_articles\": 0, \"url\": \"https://trove.nla.gov.au/search/category/newspapers?keyword=text%3A%22darling%20wife%22%20date%3A%5B1850%20TO%201954%5D&l-decade=186&l-year=1860\", \"id\": \"Query 2\"}, {\"date\": \"1861-01-02\", \"total_results\": 0, \"total_articles\": 0, \"url\": \"https://trove.nla.gov.au/search/category/newspapers?keyword=text%3A%22darling%20wife%22%20date%3A%5B1850%20TO%201954%5D&l-decade=186&l-year=1861\", \"id\": \"Query 2\"}, {\"date\": \"1862-01-02\", \"total_results\": 0, \"total_articles\": 0, \"url\": \"https://trove.nla.gov.au/search/category/newspapers?keyword=text%3A%22darling%20wife%22%20date%3A%5B1850%20TO%201954%5D&l-decade=186&l-year=1862\", \"id\": \"Query 2\"}, {\"date\": \"1863-01-02\", \"total_results\": 0, \"total_articles\": 0, \"url\": \"https://trove.nla.gov.au/search/category/newspapers?keyword=text%3A%22darling%20wife%22%20date%3A%5B1850%20TO%201954%5D&l-decade=186&l-year=1863\", \"id\": \"Query 2\"}, {\"date\": \"1864-01-02\", \"total_results\": 0, \"total_articles\": 0, \"url\": \"https://trove.nla.gov.au/search/category/newspapers?keyword=text%3A%22darling%20wife%22%20date%3A%5B1850%20TO%201954%5D&l-decade=186&l-year=1864\", \"id\": \"Query 2\"}, {\"date\": \"1865-01-02\", \"total_results\": 0, \"total_articles\": 0, \"url\": \"https://trove.nla.gov.au/search/category/newspapers?keyword=text%3A%22darling%20wife%22%20date%3A%5B1850%20TO%201954%5D&l-decade=186&l-year=1865\", \"id\": \"Query 2\"}, {\"date\": \"1866-01-02\", \"total_results\": 0, \"total_articles\": 0, \"url\": \"https://trove.nla.gov.au/search/category/newspapers?keyword=text%3A%22darling%20wife%22%20date%3A%5B1850%20TO%201954%5D&l-decade=186&l-year=1866\", \"id\": \"Query 2\"}, {\"date\": \"1867-01-02\", \"total_results\": 0, \"total_articles\": 0, \"url\": \"https://trove.nla.gov.au/search/category/newspapers?keyword=text%3A%22darling%20wife%22%20date%3A%5B1850%20TO%201954%5D&l-decade=186&l-year=1867\", \"id\": \"Query 2\"}, {\"date\": \"1868-01-02\", \"total_results\": 0, \"total_articles\": 0, \"url\": \"https://trove.nla.gov.au/search/category/newspapers?keyword=text%3A%22darling%20wife%22%20date%3A%5B1850%20TO%201954%5D&l-decade=186&l-year=1868\", \"id\": \"Query 2\"}, {\"date\": \"1869-01-02\", \"total_results\": 0, \"total_articles\": 0, \"url\": \"https://trove.nla.gov.au/search/category/newspapers?keyword=text%3A%22darling%20wife%22%20date%3A%5B1850%20TO%201954%5D&l-decade=186&l-year=1869\", \"id\": \"Query 2\"}, {\"date\": \"1870-01-02\", \"total_results\": 0, \"total_articles\": 0, \"url\": \"https://trove.nla.gov.au/search/category/newspapers?keyword=text%3A%22darling%20wife%22%20date%3A%5B1850%20TO%201954%5D&l-decade=187&l-year=1870\", \"id\": \"Query 2\"}, {\"date\": \"1871-01-02\", \"total_results\": 0, \"total_articles\": 0, \"url\": \"https://trove.nla.gov.au/search/category/newspapers?keyword=text%3A%22darling%20wife%22%20date%3A%5B1850%20TO%201954%5D&l-decade=187&l-year=1871\", \"id\": \"Query 2\"}, {\"date\": \"1872-01-02\", \"total_results\": 0, \"total_articles\": 0, \"url\": \"https://trove.nla.gov.au/search/category/newspapers?keyword=text%3A%22darling%20wife%22%20date%3A%5B1850%20TO%201954%5D&l-decade=187&l-year=1872\", \"id\": \"Query 2\"}, {\"date\": \"1873-01-02\", \"total_results\": 0, \"total_articles\": 0, \"url\": \"https://trove.nla.gov.au/search/category/newspapers?keyword=text%3A%22darling%20wife%22%20date%3A%5B1850%20TO%201954%5D&l-decade=187&l-year=1873\", \"id\": \"Query 2\"}, {\"date\": \"1874-01-02\", \"total_results\": 0, \"total_articles\": 0, \"url\": \"https://trove.nla.gov.au/search/category/newspapers?keyword=text%3A%22darling%20wife%22%20date%3A%5B1850%20TO%201954%5D&l-decade=187&l-year=1874\", \"id\": \"Query 2\"}, {\"date\": \"1875-01-02\", \"total_results\": 0, \"total_articles\": 0, \"url\": \"https://trove.nla.gov.au/search/category/newspapers?keyword=text%3A%22darling%20wife%22%20date%3A%5B1850%20TO%201954%5D&l-decade=187&l-year=1875\", \"id\": \"Query 2\"}, {\"date\": \"1876-01-02\", \"total_results\": 0, \"total_articles\": 0, \"url\": \"https://trove.nla.gov.au/search/category/newspapers?keyword=text%3A%22darling%20wife%22%20date%3A%5B1850%20TO%201954%5D&l-decade=187&l-year=1876\", \"id\": \"Query 2\"}, {\"date\": \"1877-01-02\", \"total_results\": 0, \"total_articles\": 0, \"url\": \"https://trove.nla.gov.au/search/category/newspapers?keyword=text%3A%22darling%20wife%22%20date%3A%5B1850%20TO%201954%5D&l-decade=187&l-year=1877\", \"id\": \"Query 2\"}, {\"date\": \"1878-01-02\", \"total_results\": 0, \"total_articles\": 0, \"url\": \"https://trove.nla.gov.au/search/category/newspapers?keyword=text%3A%22darling%20wife%22%20date%3A%5B1850%20TO%201954%5D&l-decade=187&l-year=1878\", \"id\": \"Query 2\"}, {\"date\": \"1879-01-02\", \"total_results\": 0, \"total_articles\": 0, \"url\": \"https://trove.nla.gov.au/search/category/newspapers?keyword=text%3A%22darling%20wife%22%20date%3A%5B1850%20TO%201954%5D&l-decade=187&l-year=1879\", \"id\": \"Query 2\"}, {\"date\": \"1880-01-02\", \"total_results\": 0, \"total_articles\": 0, \"url\": \"https://trove.nla.gov.au/search/category/newspapers?keyword=text%3A%22darling%20wife%22%20date%3A%5B1850%20TO%201954%5D&l-decade=188&l-year=1880\", \"id\": \"Query 2\"}, {\"date\": \"1881-01-02\", \"total_results\": 0, \"total_articles\": 0, \"url\": \"https://trove.nla.gov.au/search/category/newspapers?keyword=text%3A%22darling%20wife%22%20date%3A%5B1850%20TO%201954%5D&l-decade=188&l-year=1881\", \"id\": \"Query 2\"}, {\"date\": \"1882-01-02\", \"total_results\": 0, \"total_articles\": 0, \"url\": \"https://trove.nla.gov.au/search/category/newspapers?keyword=text%3A%22darling%20wife%22%20date%3A%5B1850%20TO%201954%5D&l-decade=188&l-year=1882\", \"id\": \"Query 2\"}, {\"date\": \"1883-01-02\", \"total_results\": 0, \"total_articles\": 0, \"url\": \"https://trove.nla.gov.au/search/category/newspapers?keyword=text%3A%22darling%20wife%22%20date%3A%5B1850%20TO%201954%5D&l-decade=188&l-year=1883\", \"id\": \"Query 2\"}, {\"date\": \"1884-01-02\", \"total_results\": 0, \"total_articles\": 0, \"url\": \"https://trove.nla.gov.au/search/category/newspapers?keyword=text%3A%22darling%20wife%22%20date%3A%5B1850%20TO%201954%5D&l-decade=188&l-year=1884\", \"id\": \"Query 2\"}, {\"date\": \"1885-01-02\", \"total_results\": 0, \"total_articles\": 0, \"url\": \"https://trove.nla.gov.au/search/category/newspapers?keyword=text%3A%22darling%20wife%22%20date%3A%5B1850%20TO%201954%5D&l-decade=188&l-year=1885\", \"id\": \"Query 2\"}, {\"date\": \"1886-01-02\", \"total_results\": 0, \"total_articles\": 0, \"url\": \"https://trove.nla.gov.au/search/category/newspapers?keyword=text%3A%22darling%20wife%22%20date%3A%5B1850%20TO%201954%5D&l-decade=188&l-year=1886\", \"id\": \"Query 2\"}, {\"date\": \"1887-01-02\", \"total_results\": 0, \"total_articles\": 0, \"url\": \"https://trove.nla.gov.au/search/category/newspapers?keyword=text%3A%22darling%20wife%22%20date%3A%5B1850%20TO%201954%5D&l-decade=188&l-year=1887\", \"id\": \"Query 2\"}, {\"date\": \"1888-01-02\", \"total_results\": 0, \"total_articles\": 0, \"url\": \"https://trove.nla.gov.au/search/category/newspapers?keyword=text%3A%22darling%20wife%22%20date%3A%5B1850%20TO%201954%5D&l-decade=188&l-year=1888\", \"id\": \"Query 2\"}, {\"date\": \"1889-01-02\", \"total_results\": 0, \"total_articles\": 0, \"url\": \"https://trove.nla.gov.au/search/category/newspapers?keyword=text%3A%22darling%20wife%22%20date%3A%5B1850%20TO%201954%5D&l-decade=188&l-year=1889\", \"id\": \"Query 2\"}, {\"date\": \"1890-01-02\", \"total_results\": 0, \"total_articles\": 0, \"url\": \"https://trove.nla.gov.au/search/category/newspapers?keyword=text%3A%22darling%20wife%22%20date%3A%5B1850%20TO%201954%5D&l-decade=189&l-year=1890\", \"id\": \"Query 2\"}, {\"date\": \"1891-01-02\", \"total_results\": 0, \"total_articles\": 0, \"url\": \"https://trove.nla.gov.au/search/category/newspapers?keyword=text%3A%22darling%20wife%22%20date%3A%5B1850%20TO%201954%5D&l-decade=189&l-year=1891\", \"id\": \"Query 2\"}, {\"date\": \"1892-01-02\", \"total_results\": 0, \"total_articles\": 0, \"url\": \"https://trove.nla.gov.au/search/category/newspapers?keyword=text%3A%22darling%20wife%22%20date%3A%5B1850%20TO%201954%5D&l-decade=189&l-year=1892\", \"id\": \"Query 2\"}, {\"date\": \"1893-01-02\", \"total_results\": 0, \"total_articles\": 0, \"url\": \"https://trove.nla.gov.au/search/category/newspapers?keyword=text%3A%22darling%20wife%22%20date%3A%5B1850%20TO%201954%5D&l-decade=189&l-year=1893\", \"id\": \"Query 2\"}, {\"date\": \"1894-01-02\", \"total_results\": 0, \"total_articles\": 0, \"url\": \"https://trove.nla.gov.au/search/category/newspapers?keyword=text%3A%22darling%20wife%22%20date%3A%5B1850%20TO%201954%5D&l-decade=189&l-year=1894\", \"id\": \"Query 2\"}, {\"date\": \"1895-01-02\", \"total_results\": 0, \"total_articles\": 0, \"url\": \"https://trove.nla.gov.au/search/category/newspapers?keyword=text%3A%22darling%20wife%22%20date%3A%5B1850%20TO%201954%5D&l-decade=189&l-year=1895\", \"id\": \"Query 2\"}, {\"date\": \"1896-01-02\", \"total_results\": 0, \"total_articles\": 0, \"url\": \"https://trove.nla.gov.au/search/category/newspapers?keyword=text%3A%22darling%20wife%22%20date%3A%5B1850%20TO%201954%5D&l-decade=189&l-year=1896\", \"id\": \"Query 2\"}, {\"date\": \"1897-01-02\", \"total_results\": 0, \"total_articles\": 0, \"url\": \"https://trove.nla.gov.au/search/category/newspapers?keyword=text%3A%22darling%20wife%22%20date%3A%5B1850%20TO%201954%5D&l-decade=189&l-year=1897\", \"id\": \"Query 2\"}, {\"date\": \"1898-01-02\", \"total_results\": 0, \"total_articles\": 0, \"url\": \"https://trove.nla.gov.au/search/category/newspapers?keyword=text%3A%22darling%20wife%22%20date%3A%5B1850%20TO%201954%5D&l-decade=189&l-year=1898\", \"id\": \"Query 2\"}, {\"date\": \"1899-01-02\", \"total_results\": 0, \"total_articles\": 0, \"url\": \"https://trove.nla.gov.au/search/category/newspapers?keyword=text%3A%22darling%20wife%22%20date%3A%5B1850%20TO%201954%5D&l-decade=189&l-year=1899\", \"id\": \"Query 2\"}, {\"date\": \"1900-01-02\", \"total_results\": 0, \"total_articles\": 0, \"url\": \"https://trove.nla.gov.au/search/category/newspapers?keyword=text%3A%22darling%20wife%22%20date%3A%5B1850%20TO%201954%5D&l-decade=190&l-year=1900\", \"id\": \"Query 2\"}, {\"date\": \"1901-01-02\", \"total_results\": 0, \"total_articles\": 0, \"url\": \"https://trove.nla.gov.au/search/category/newspapers?keyword=text%3A%22darling%20wife%22%20date%3A%5B1850%20TO%201954%5D&l-decade=190&l-year=1901\", \"id\": \"Query 2\"}, {\"date\": \"1902-01-02\", \"total_results\": 0, \"total_articles\": 0, \"url\": \"https://trove.nla.gov.au/search/category/newspapers?keyword=text%3A%22darling%20wife%22%20date%3A%5B1850%20TO%201954%5D&l-decade=190&l-year=1902\", \"id\": \"Query 2\"}, {\"date\": \"1903-01-02\", \"total_results\": 0, \"total_articles\": 0, \"url\": \"https://trove.nla.gov.au/search/category/newspapers?keyword=text%3A%22darling%20wife%22%20date%3A%5B1850%20TO%201954%5D&l-decade=190&l-year=1903\", \"id\": \"Query 2\"}, {\"date\": \"1904-01-02\", \"total_results\": 0, \"total_articles\": 0, \"url\": \"https://trove.nla.gov.au/search/category/newspapers?keyword=text%3A%22darling%20wife%22%20date%3A%5B1850%20TO%201954%5D&l-decade=190&l-year=1904\", \"id\": \"Query 2\"}, {\"date\": \"1905-01-02\", \"total_results\": 0, \"total_articles\": 0, \"url\": \"https://trove.nla.gov.au/search/category/newspapers?keyword=text%3A%22darling%20wife%22%20date%3A%5B1850%20TO%201954%5D&l-decade=190&l-year=1905\", \"id\": \"Query 2\"}, {\"date\": \"1906-01-02\", \"total_results\": 0, \"total_articles\": 0, \"url\": \"https://trove.nla.gov.au/search/category/newspapers?keyword=text%3A%22darling%20wife%22%20date%3A%5B1850%20TO%201954%5D&l-decade=190&l-year=1906\", \"id\": \"Query 2\"}, {\"date\": \"1907-01-02\", \"total_results\": 0, \"total_articles\": 0, \"url\": \"https://trove.nla.gov.au/search/category/newspapers?keyword=text%3A%22darling%20wife%22%20date%3A%5B1850%20TO%201954%5D&l-decade=190&l-year=1907\", \"id\": \"Query 2\"}, {\"date\": \"1908-01-02\", \"total_results\": 0, \"total_articles\": 0, \"url\": \"https://trove.nla.gov.au/search/category/newspapers?keyword=text%3A%22darling%20wife%22%20date%3A%5B1850%20TO%201954%5D&l-decade=190&l-year=1908\", \"id\": \"Query 2\"}, {\"date\": \"1909-01-02\", \"total_results\": 0, \"total_articles\": 0, \"url\": \"https://trove.nla.gov.au/search/category/newspapers?keyword=text%3A%22darling%20wife%22%20date%3A%5B1850%20TO%201954%5D&l-decade=190&l-year=1909\", \"id\": \"Query 2\"}, {\"date\": \"1910-01-02\", \"total_results\": 0, \"total_articles\": 0, \"url\": \"https://trove.nla.gov.au/search/category/newspapers?keyword=text%3A%22darling%20wife%22%20date%3A%5B1850%20TO%201954%5D&l-decade=191&l-year=1910\", \"id\": \"Query 2\"}, {\"date\": \"1911-01-02\", \"total_results\": 0, \"total_articles\": 0, \"url\": \"https://trove.nla.gov.au/search/category/newspapers?keyword=text%3A%22darling%20wife%22%20date%3A%5B1850%20TO%201954%5D&l-decade=191&l-year=1911\", \"id\": \"Query 2\"}, {\"date\": \"1912-01-02\", \"total_results\": 0, \"total_articles\": 0, \"url\": \"https://trove.nla.gov.au/search/category/newspapers?keyword=text%3A%22darling%20wife%22%20date%3A%5B1850%20TO%201954%5D&l-decade=191&l-year=1912\", \"id\": \"Query 2\"}, {\"date\": \"1913-01-02\", \"total_results\": 0, \"total_articles\": 0, \"url\": \"https://trove.nla.gov.au/search/category/newspapers?keyword=text%3A%22darling%20wife%22%20date%3A%5B1850%20TO%201954%5D&l-decade=191&l-year=1913\", \"id\": \"Query 2\"}, {\"date\": \"1914-01-02\", \"total_results\": 0, \"total_articles\": 0, \"url\": \"https://trove.nla.gov.au/search/category/newspapers?keyword=text%3A%22darling%20wife%22%20date%3A%5B1850%20TO%201954%5D&l-decade=191&l-year=1914\", \"id\": \"Query 2\"}, {\"date\": \"1915-01-02\", \"total_results\": 0, \"total_articles\": 0, \"url\": \"https://trove.nla.gov.au/search/category/newspapers?keyword=text%3A%22darling%20wife%22%20date%3A%5B1850%20TO%201954%5D&l-decade=191&l-year=1915\", \"id\": \"Query 2\"}, {\"date\": \"1916-01-02\", \"total_results\": 0, \"total_articles\": 0, \"url\": \"https://trove.nla.gov.au/search/category/newspapers?keyword=text%3A%22darling%20wife%22%20date%3A%5B1850%20TO%201954%5D&l-decade=191&l-year=1916\", \"id\": \"Query 2\"}, {\"date\": \"1917-01-02\", \"total_results\": 0, \"total_articles\": 0, \"url\": \"https://trove.nla.gov.au/search/category/newspapers?keyword=text%3A%22darling%20wife%22%20date%3A%5B1850%20TO%201954%5D&l-decade=191&l-year=1917\", \"id\": \"Query 2\"}, {\"date\": \"1918-01-02\", \"total_results\": 0, \"total_articles\": 0, \"url\": \"https://trove.nla.gov.au/search/category/newspapers?keyword=text%3A%22darling%20wife%22%20date%3A%5B1850%20TO%201954%5D&l-decade=191&l-year=1918\", \"id\": \"Query 2\"}, {\"date\": \"1919-01-02\", \"total_results\": 0, \"total_articles\": 0, \"url\": \"https://trove.nla.gov.au/search/category/newspapers?keyword=text%3A%22darling%20wife%22%20date%3A%5B1850%20TO%201954%5D&l-decade=191&l-year=1919\", \"id\": \"Query 2\"}, {\"date\": \"1920-01-02\", \"total_results\": 0, \"total_articles\": 0, \"url\": \"https://trove.nla.gov.au/search/category/newspapers?keyword=text%3A%22darling%20wife%22%20date%3A%5B1850%20TO%201954%5D&l-decade=192&l-year=1920\", \"id\": \"Query 2\"}, {\"date\": \"1921-01-02\", \"total_results\": 0, \"total_articles\": 0, \"url\": \"https://trove.nla.gov.au/search/category/newspapers?keyword=text%3A%22darling%20wife%22%20date%3A%5B1850%20TO%201954%5D&l-decade=192&l-year=1921\", \"id\": \"Query 2\"}, {\"date\": \"1922-01-02\", \"total_results\": 0, \"total_articles\": 0, \"url\": \"https://trove.nla.gov.au/search/category/newspapers?keyword=text%3A%22darling%20wife%22%20date%3A%5B1850%20TO%201954%5D&l-decade=192&l-year=1922\", \"id\": \"Query 2\"}, {\"date\": \"1923-01-02\", \"total_results\": 0, \"total_articles\": 0, \"url\": \"https://trove.nla.gov.au/search/category/newspapers?keyword=text%3A%22darling%20wife%22%20date%3A%5B1850%20TO%201954%5D&l-decade=192&l-year=1923\", \"id\": \"Query 2\"}, {\"date\": \"1924-01-02\", \"total_results\": 0, \"total_articles\": 0, \"url\": \"https://trove.nla.gov.au/search/category/newspapers?keyword=text%3A%22darling%20wife%22%20date%3A%5B1850%20TO%201954%5D&l-decade=192&l-year=1924\", \"id\": \"Query 2\"}, {\"date\": \"1925-01-02\", \"total_results\": 0, \"total_articles\": 0, \"url\": \"https://trove.nla.gov.au/search/category/newspapers?keyword=text%3A%22darling%20wife%22%20date%3A%5B1850%20TO%201954%5D&l-decade=192&l-year=1925\", \"id\": \"Query 2\"}, {\"date\": \"1926-01-02\", \"total_results\": 0, \"total_articles\": 0, \"url\": \"https://trove.nla.gov.au/search/category/newspapers?keyword=text%3A%22darling%20wife%22%20date%3A%5B1850%20TO%201954%5D&l-decade=192&l-year=1926\", \"id\": \"Query 2\"}, {\"date\": \"1927-01-02\", \"total_results\": 0, \"total_articles\": 0, \"url\": \"https://trove.nla.gov.au/search/category/newspapers?keyword=text%3A%22darling%20wife%22%20date%3A%5B1850%20TO%201954%5D&l-decade=192&l-year=1927\", \"id\": \"Query 2\"}, {\"date\": \"1928-01-02\", \"total_results\": 0, \"total_articles\": 0, \"url\": \"https://trove.nla.gov.au/search/category/newspapers?keyword=text%3A%22darling%20wife%22%20date%3A%5B1850%20TO%201954%5D&l-decade=192&l-year=1928\", \"id\": \"Query 2\"}, {\"date\": \"1929-01-02\", \"total_results\": 0, \"total_articles\": 0, \"url\": \"https://trove.nla.gov.au/search/category/newspapers?keyword=text%3A%22darling%20wife%22%20date%3A%5B1850%20TO%201954%5D&l-decade=192&l-year=1929\", \"id\": \"Query 2\"}, {\"date\": \"1930-01-02\", \"total_results\": 0, \"total_articles\": 0, \"url\": \"https://trove.nla.gov.au/search/category/newspapers?keyword=text%3A%22darling%20wife%22%20date%3A%5B1850%20TO%201954%5D&l-decade=193&l-year=1930\", \"id\": \"Query 2\"}, {\"date\": \"1931-01-02\", \"total_results\": 0, \"total_articles\": 0, \"url\": \"https://trove.nla.gov.au/search/category/newspapers?keyword=text%3A%22darling%20wife%22%20date%3A%5B1850%20TO%201954%5D&l-decade=193&l-year=1931\", \"id\": \"Query 2\"}, {\"date\": \"1932-01-02\", \"total_results\": 0, \"total_articles\": 0, \"url\": \"https://trove.nla.gov.au/search/category/newspapers?keyword=text%3A%22darling%20wife%22%20date%3A%5B1850%20TO%201954%5D&l-decade=193&l-year=1932\", \"id\": \"Query 2\"}, {\"date\": \"1933-01-02\", \"total_results\": 0, \"total_articles\": 0, \"url\": \"https://trove.nla.gov.au/search/category/newspapers?keyword=text%3A%22darling%20wife%22%20date%3A%5B1850%20TO%201954%5D&l-decade=193&l-year=1933\", \"id\": \"Query 2\"}, {\"date\": \"1934-01-02\", \"total_results\": 0, \"total_articles\": 0, \"url\": \"https://trove.nla.gov.au/search/category/newspapers?keyword=text%3A%22darling%20wife%22%20date%3A%5B1850%20TO%201954%5D&l-decade=193&l-year=1934\", \"id\": \"Query 2\"}, {\"date\": \"1935-01-02\", \"total_results\": 0, \"total_articles\": 0, \"url\": \"https://trove.nla.gov.au/search/category/newspapers?keyword=text%3A%22darling%20wife%22%20date%3A%5B1850%20TO%201954%5D&l-decade=193&l-year=1935\", \"id\": \"Query 2\"}, {\"date\": \"1936-01-02\", \"total_results\": 0, \"total_articles\": 0, \"url\": \"https://trove.nla.gov.au/search/category/newspapers?keyword=text%3A%22darling%20wife%22%20date%3A%5B1850%20TO%201954%5D&l-decade=193&l-year=1936\", \"id\": \"Query 2\"}, {\"date\": \"1937-01-02\", \"total_results\": 0, \"total_articles\": 0, \"url\": \"https://trove.nla.gov.au/search/category/newspapers?keyword=text%3A%22darling%20wife%22%20date%3A%5B1850%20TO%201954%5D&l-decade=193&l-year=1937\", \"id\": \"Query 2\"}, {\"date\": \"1938-01-02\", \"total_results\": 0, \"total_articles\": 0, \"url\": \"https://trove.nla.gov.au/search/category/newspapers?keyword=text%3A%22darling%20wife%22%20date%3A%5B1850%20TO%201954%5D&l-decade=193&l-year=1938\", \"id\": \"Query 2\"}, {\"date\": \"1939-01-02\", \"total_results\": 0, \"total_articles\": 0, \"url\": \"https://trove.nla.gov.au/search/category/newspapers?keyword=text%3A%22darling%20wife%22%20date%3A%5B1850%20TO%201954%5D&l-decade=193&l-year=1939\", \"id\": \"Query 2\"}, {\"date\": \"1940-01-02\", \"total_results\": 0, \"total_articles\": 0, \"url\": \"https://trove.nla.gov.au/search/category/newspapers?keyword=text%3A%22darling%20wife%22%20date%3A%5B1850%20TO%201954%5D&l-decade=194&l-year=1940\", \"id\": \"Query 2\"}, {\"date\": \"1941-01-02\", \"total_results\": 0, \"total_articles\": 0, \"url\": \"https://trove.nla.gov.au/search/category/newspapers?keyword=text%3A%22darling%20wife%22%20date%3A%5B1850%20TO%201954%5D&l-decade=194&l-year=1941\", \"id\": \"Query 2\"}, {\"date\": \"1942-01-02\", \"total_results\": 0, \"total_articles\": 0, \"url\": \"https://trove.nla.gov.au/search/category/newspapers?keyword=text%3A%22darling%20wife%22%20date%3A%5B1850%20TO%201954%5D&l-decade=194&l-year=1942\", \"id\": \"Query 2\"}, {\"date\": \"1943-01-02\", \"total_results\": 0, \"total_articles\": 0, \"url\": \"https://trove.nla.gov.au/search/category/newspapers?keyword=text%3A%22darling%20wife%22%20date%3A%5B1850%20TO%201954%5D&l-decade=194&l-year=1943\", \"id\": \"Query 2\"}, {\"date\": \"1944-01-02\", \"total_results\": 0, \"total_articles\": 0, \"url\": \"https://trove.nla.gov.au/search/category/newspapers?keyword=text%3A%22darling%20wife%22%20date%3A%5B1850%20TO%201954%5D&l-decade=194&l-year=1944\", \"id\": \"Query 2\"}, {\"date\": \"1945-01-02\", \"total_results\": 0, \"total_articles\": 0, \"url\": \"https://trove.nla.gov.au/search/category/newspapers?keyword=text%3A%22darling%20wife%22%20date%3A%5B1850%20TO%201954%5D&l-decade=194&l-year=1945\", \"id\": \"Query 2\"}, {\"date\": \"1946-01-02\", \"total_results\": 0, \"total_articles\": 0, \"url\": \"https://trove.nla.gov.au/search/category/newspapers?keyword=text%3A%22darling%20wife%22%20date%3A%5B1850%20TO%201954%5D&l-decade=194&l-year=1946\", \"id\": \"Query 2\"}, {\"date\": \"1947-01-02\", \"total_results\": 0, \"total_articles\": 0, \"url\": \"https://trove.nla.gov.au/search/category/newspapers?keyword=text%3A%22darling%20wife%22%20date%3A%5B1850%20TO%201954%5D&l-decade=194&l-year=1947\", \"id\": \"Query 2\"}, {\"date\": \"1948-01-02\", \"total_results\": 0, \"total_articles\": 0, \"url\": \"https://trove.nla.gov.au/search/category/newspapers?keyword=text%3A%22darling%20wife%22%20date%3A%5B1850%20TO%201954%5D&l-decade=194&l-year=1948\", \"id\": \"Query 2\"}, {\"date\": \"1949-01-02\", \"total_results\": 0, \"total_articles\": 0, \"url\": \"https://trove.nla.gov.au/search/category/newspapers?keyword=text%3A%22darling%20wife%22%20date%3A%5B1850%20TO%201954%5D&l-decade=194&l-year=1949\", \"id\": \"Query 2\"}, {\"date\": \"1950-01-02\", \"total_results\": 0, \"total_articles\": 0, \"url\": \"https://trove.nla.gov.au/search/category/newspapers?keyword=text%3A%22darling%20wife%22%20date%3A%5B1850%20TO%201954%5D&l-decade=195&l-year=1950\", \"id\": \"Query 2\"}, {\"date\": \"1951-01-02\", \"total_results\": 0, \"total_articles\": 0, \"url\": \"https://trove.nla.gov.au/search/category/newspapers?keyword=text%3A%22darling%20wife%22%20date%3A%5B1850%20TO%201954%5D&l-decade=195&l-year=1951\", \"id\": \"Query 2\"}, {\"date\": \"1952-01-02\", \"total_results\": 0, \"total_articles\": 0, \"url\": \"https://trove.nla.gov.au/search/category/newspapers?keyword=text%3A%22darling%20wife%22%20date%3A%5B1850%20TO%201954%5D&l-decade=195&l-year=1952\", \"id\": \"Query 2\"}, {\"date\": \"1953-01-02\", \"total_results\": 0, \"total_articles\": 0, \"url\": \"https://trove.nla.gov.au/search/category/newspapers?keyword=text%3A%22darling%20wife%22%20date%3A%5B1850%20TO%201954%5D&l-decade=195&l-year=1953\", \"id\": \"Query 2\"}], \"data-f675c00c0df2c3ff4332f63876210147\": [{\"x\": 0, \"y\": 0, \"id\": \"Query 1\", \"url\": \"https://trove.nla.gov.au/search/category/newspapers?keyword=text%3A%22darling%20wife%22%20date%3A%5B1850%20TO%201954%5D\", \"params\": \"keyword=text%3A%22darling%20wife%22%20date%3A%5B1850%20TO%201954%5D\"}, {\"x\": 0, \"y\": 1, \"id\": \"Query 2\", \"url\": \"https://trove.nla.gov.au/search/category/newspapers?keyword=text%3A%22darling%20wife%22%20date%3A%5B1850%20TO%201954%5D\", \"params\": \"keyword=text%3A%22darling%20wife%22%20date%3A%5B1850%20TO%201954%5D\"}]}}, {\"mode\": \"vega-lite\"});\n</script>",
          "text/plain": "alt.VConcatChart(...)"
         },
         "metadata": {},
         "output_type": "display_data"
        }
       ]
      }
     },
     "65569254d21143f1b70fe45d14cc48ea": {
      "model_module": "@jupyter-widgets/base",
      "model_module_version": "1.2.0",
      "model_name": "LayoutModel",
      "state": {}
     },
     "65605a73bd7d419595cf83897983aac6": {
      "model_module": "@jupyter-widgets/controls",
      "model_module_version": "1.5.0",
      "model_name": "ButtonModel",
      "state": {
       "description": "Clear all queries",
       "layout": "IPY_MODEL_96c6570112fb4c80b8499bdb4ad1fbd3",
       "style": "IPY_MODEL_131a5c5272e84dcab7528206544387cd",
       "tooltip": "Clear current queries"
      }
     },
     "65641954a9f24ce1af366aa9242bb025": {
      "model_module": "@jupyter-widgets/base",
      "model_module_version": "1.2.0",
      "model_name": "LayoutModel",
      "state": {}
     },
     "65c6499fe9734e45ad787e69fabb5eb1": {
      "model_module": "@jupyter-widgets/controls",
      "model_module_version": "1.5.0",
      "model_name": "DescriptionStyleModel",
      "state": {
       "description_width": ""
      }
     },
     "65dbb21ceab448068bd7d0c313a0fd7b": {
      "model_module": "@jupyter-widgets/controls",
      "model_module_version": "1.5.0",
      "model_name": "VBoxModel",
      "state": {
       "children": [
        "IPY_MODEL_bd11b7f9115a488887e60678d34327c9",
        "IPY_MODEL_34bfff5cee26470e9b6ffee4ae004693",
        "IPY_MODEL_208f0c205f634e5d8c9d340aae8c8a24"
       ],
       "layout": "IPY_MODEL_66047093c95a4632921aca159b8271f4"
      }
     },
     "66047093c95a4632921aca159b8271f4": {
      "model_module": "@jupyter-widgets/base",
      "model_module_version": "1.2.0",
      "model_name": "LayoutModel",
      "state": {}
     },
     "6606b6bbac644509bd1aa72545ec0de7": {
      "model_module": "@jupyter-widgets/controls",
      "model_module_version": "1.5.0",
      "model_name": "FloatProgressModel",
      "state": {
       "layout": "IPY_MODEL_3efb227b10be4fe7988104e62e2da5dc",
       "max": 11,
       "style": "IPY_MODEL_67050942fced4af39224833f2fe936d9",
       "value": 11
      }
     },
     "66414a6b0b654264a603aeff5e9cff3a": {
      "model_module": "@jupyter-widgets/base",
      "model_module_version": "1.2.0",
      "model_name": "LayoutModel",
      "state": {}
     },
     "66581801753d408e92258f1a248901d5": {
      "model_module": "@jupyter-widgets/controls",
      "model_module_version": "1.5.0",
      "model_name": "DescriptionStyleModel",
      "state": {
       "description_width": ""
      }
     },
     "66825308c84d4cb1bf804d19d4b2692a": {
      "model_module": "@jupyter-widgets/controls",
      "model_module_version": "1.5.0",
      "model_name": "BoundedIntTextModel",
      "state": {
       "description": "Height",
       "layout": "IPY_MODEL_9f33d8b649ff4645a44b483fdef64dc1",
       "max": 1500,
       "min": 400,
       "step": 100,
       "style": "IPY_MODEL_a918ed3a3733405aac4a91907d2d39e9",
       "value": 400
      }
     },
     "66b096cc072a43bd9a00991dfeed3bc9": {
      "model_module": "@jupyter-widgets/controls",
      "model_module_version": "1.5.0",
      "model_name": "DropdownModel",
      "state": {
       "_options_labels": [
        "Raw number of results",
        "Proportion of total articles"
       ],
       "index": 0,
       "layout": "IPY_MODEL_12796613aa8c4a46b49b2a2f4f6b9969",
       "style": "IPY_MODEL_dcb21f49a2644ee49739130b7232bb91"
      }
     },
     "66ee99356d4f47208f30bed8df6439ba": {
      "model_module": "@jupyter-widgets/controls",
      "model_module_version": "1.5.0",
      "model_name": "PasswordModel",
      "state": {
       "description": "API key:",
       "layout": "IPY_MODEL_185d28fb58a1408d984961614bf9cf10",
       "placeholder": "Enter your Trove API key",
       "style": "IPY_MODEL_bbecf1c476804f33aa94b78f36c40d28",
       "value": "6pi5hht0d2umqcro"
      }
     },
     "66fc8ff97d864696b3c787e7490f7094": {
      "model_module": "@jupyter-widgets/controls",
      "model_module_version": "1.5.0",
      "model_name": "DescriptionStyleModel",
      "state": {
       "description_width": ""
      }
     },
     "67050942fced4af39224833f2fe936d9": {
      "model_module": "@jupyter-widgets/controls",
      "model_module_version": "1.5.0",
      "model_name": "ProgressStyleModel",
      "state": {
       "description_width": ""
      }
     },
     "6760bd9f8eec4592898b31f71aa3f9bf": {
      "model_module": "@jupyter-widgets/controls",
      "model_module_version": "1.5.0",
      "model_name": "ProgressStyleModel",
      "state": {
       "description_width": ""
      }
     },
     "67a1e289b6af4ae284386c91ad372949": {
      "model_module": "@jupyter-widgets/controls",
      "model_module_version": "1.5.0",
      "model_name": "HBoxModel",
      "state": {
       "children": [
        "IPY_MODEL_2d23cb1c47df425fb0f9ac195cb90a0e",
        "IPY_MODEL_767f7b87f7684d78a3279d871a03598c",
        "IPY_MODEL_6f4e54b6996c4230becde23f1cff1e2f"
       ],
       "layout": "IPY_MODEL_fc262eb232894ccd9762a45e90770317"
      }
     },
     "67b788380e574fed8cd2251a77f9f840": {
      "model_module": "@jupyter-widgets/base",
      "model_module_version": "1.2.0",
      "model_name": "LayoutModel",
      "state": {}
     },
     "67da5287651f4fa784eb446b9f8963e3": {
      "model_module": "@jupyter-widgets/controls",
      "model_module_version": "1.5.0",
      "model_name": "DescriptionStyleModel",
      "state": {
       "description_width": ""
      }
     },
     "6836323186c1431e811565eb17d924e3": {
      "model_module": "@jupyter-widgets/controls",
      "model_module_version": "1.5.0",
      "model_name": "BoundedIntTextModel",
      "state": {
       "description": "Width",
       "layout": "IPY_MODEL_5d8222a8db554152add7bc7e07dfb615",
       "max": 2000,
       "min": 700,
       "step": 100,
       "style": "IPY_MODEL_6ad82169731e479c82bf4482e31c11c0",
       "value": 700
      }
     },
     "6843b1d57eb4418393ddec0f2038642d": {
      "model_module": "@jupyter-widgets/controls",
      "model_module_version": "1.5.0",
      "model_name": "ButtonModel",
      "state": {
       "description": "Clear all queries",
       "layout": "IPY_MODEL_851dffe33b5f476e805829052248d74e",
       "style": "IPY_MODEL_c3c019d3018d4a2caf7988371b3b2e48",
       "tooltip": "Clear current queries"
      }
     },
     "687b0ad74a1b41e3ab13cb6fdf61608a": {
      "model_module": "@jupyter-widgets/controls",
      "model_module_version": "1.5.0",
      "model_name": "HBoxModel",
      "state": {
       "children": [
        "IPY_MODEL_3a917b493d164071ba6d0a03f4e1071c",
        "IPY_MODEL_184e152d757c4a3d9d46f6656851d8a5",
        "IPY_MODEL_75f7004919994ff281a745852cd42739"
       ],
       "layout": "IPY_MODEL_fd4350e337614d1e8ae0fef9969f2b5a"
      }
     },
     "688e2befa9264ce58ca2403fabc30d18": {
      "model_module": "@jupyter-widgets/controls",
      "model_module_version": "1.5.0",
      "model_name": "BoundedIntTextModel",
      "state": {
       "description": "Width",
       "layout": "IPY_MODEL_fd5982a984fa40068a37ba1f25e943ac",
       "max": 2000,
       "min": 700,
       "step": 100,
       "style": "IPY_MODEL_31aad61f221f430a95149fdd9462f7e8",
       "value": 700
      }
     },
     "68e9d3fa2cf24d72971694e9380aa1dd": {
      "model_module": "@jupyter-widgets/base",
      "model_module_version": "1.2.0",
      "model_name": "LayoutModel",
      "state": {
       "width": "80%"
      }
     },
     "692957b85f1f481ba0b3e46e4f60c19d": {
      "model_module": "@jupyter-widgets/base",
      "model_module_version": "1.2.0",
      "model_name": "LayoutModel",
      "state": {}
     },
     "695fc8b8c3454897b0047137175ad85b": {
      "model_module": "@jupyter-widgets/base",
      "model_module_version": "1.2.0",
      "model_name": "LayoutModel",
      "state": {}
     },
     "698a9e75c445448d8806b8f2d629b95b": {
      "model_module": "@jupyter-widgets/controls",
      "model_module_version": "1.5.0",
      "model_name": "HBoxModel",
      "state": {
       "children": [
        "IPY_MODEL_4daa8e35ff1b4509913cd040519a7db6",
        "IPY_MODEL_6836323186c1431e811565eb17d924e3",
        "IPY_MODEL_66825308c84d4cb1bf804d19d4b2692a"
       ],
       "layout": "IPY_MODEL_9ff995e186934b9b99e34add0508063b"
      }
     },
     "69a00c2085ad4ba3afe16768a24887c7": {
      "model_module": "@jupyter-widgets/output",
      "model_module_version": "1.0.0",
      "model_name": "OutputModel",
      "state": {
       "layout": "IPY_MODEL_1f61f4ef23c84c23815be9fe6d355c27",
       "outputs": [
        {
         "data": {
          "application/vnd.jupyter.widget-view+json": {
           "model_id": "",
           "version_major": 2,
           "version_minor": 0
          },
          "text/plain": "Dropdown(options=(('Raw number of results', 'raw'), ('Proportion of total articles', 'proportion')), value='ra…"
         },
         "metadata": {},
         "output_type": "display_data"
        },
        {
         "data": {
          "text/html": "\n<div id=\"altair-viz-33c6678873e34c0b8481c4d222c5f0cd\"></div>\n<script type=\"text/javascript\">\n  var VEGA_DEBUG = (typeof VEGA_DEBUG == \"undefined\") ? {} : VEGA_DEBUG;\n  (function(spec, embedOpt){\n    let outputDiv = document.currentScript.previousElementSibling;\n    if (outputDiv.id !== \"altair-viz-33c6678873e34c0b8481c4d222c5f0cd\") {\n      outputDiv = document.getElementById(\"altair-viz-33c6678873e34c0b8481c4d222c5f0cd\");\n    }\n    const paths = {\n      \"vega\": \"https://cdn.jsdelivr.net/npm//vega@5?noext\",\n      \"vega-lib\": \"https://cdn.jsdelivr.net/npm//vega-lib?noext\",\n      \"vega-lite\": \"https://cdn.jsdelivr.net/npm//vega-lite@4.17.0?noext\",\n      \"vega-embed\": \"https://cdn.jsdelivr.net/npm//vega-embed@6?noext\",\n    };\n\n    function maybeLoadScript(lib, version) {\n      var key = `${lib.replace(\"-\", \"\")}_version`;\n      return (VEGA_DEBUG[key] == version) ?\n        Promise.resolve(paths[lib]) :\n        new Promise(function(resolve, reject) {\n          var s = document.createElement('script');\n          document.getElementsByTagName(\"head\")[0].appendChild(s);\n          s.async = true;\n          s.onload = () => {\n            VEGA_DEBUG[key] = version;\n            return resolve(paths[lib]);\n          };\n          s.onerror = () => reject(`Error loading script: ${paths[lib]}`);\n          s.src = paths[lib];\n        });\n    }\n\n    function showError(err) {\n      outputDiv.innerHTML = `<div class=\"error\" style=\"color:red;\">${err}</div>`;\n      throw err;\n    }\n\n    function displayChart(vegaEmbed) {\n      vegaEmbed(outputDiv, spec, embedOpt)\n        .catch(err => showError(`Javascript Error: ${err.message}<br>This usually means there's a typo in your chart specification. See the javascript console for the full traceback.`));\n    }\n\n    if(typeof define === \"function\" && define.amd) {\n      requirejs.config({paths});\n      require([\"vega-embed\"], displayChart, err => showError(`Error loading script: ${err.message}`));\n    } else {\n      maybeLoadScript(\"vega\", \"5\")\n        .then(() => maybeLoadScript(\"vega-lite\", \"4.17.0\"))\n        .then(() => maybeLoadScript(\"vega-embed\", \"6\"))\n        .catch(showError)\n        .then(() => displayChart(vegaEmbed));\n    }\n  })({\"usermeta\": {\"embedOptions\": {\"loader\": {\"target\": \"_blank\"}}}, \"vconcat\": [{\"data\": {\"name\": \"data-4a80dea378a0a22f1438f910b07f478f\"}, \"mark\": {\"type\": \"line\", \"interpolate\": \"cardinal\", \"point\": true}, \"encoding\": {\"color\": {\"field\": \"id\", \"legend\": {\"title\": \"\"}, \"type\": \"nominal\"}, \"href\": {\"field\": \"url\", \"type\": \"nominal\"}, \"tooltip\": [{\"field\": \"id\", \"title\": \"query\", \"type\": \"nominal\"}, {\"field\": \"date\", \"timeUnit\": \"year\", \"title\": \"year\", \"type\": \"temporal\"}, {\"field\": \"total_results\", \"format\": \",\", \"title\": \"results\", \"type\": \"quantitative\"}, {\"field\": \"PercentOfTotal\", \"format\": \".2%\", \"title\": \"proportion\", \"type\": \"quantitative\"}], \"x\": {\"axis\": {\"title\": \"Year\"}, \"field\": \"date\", \"scale\": {\"padding\": 10}, \"timeUnit\": \"year\", \"type\": \"temporal\"}, \"y\": {\"axis\": {\"format\": \",d\", \"title\": \"Number of articles\"}, \"field\": \"total_results\", \"type\": \"quantitative\"}}, \"height\": 400, \"title\": {\"text\": \"Trove Newspapers & Gazettes Search\", \"subtitle\": \"Created by QueryPic: 24 June 2022\"}, \"transform\": [{\"calculate\": \"datum.total_results / datum.total_articles\", \"as\": \"PercentOfTotal\"}], \"width\": 800}, {\"data\": {\"name\": \"data-880285703c4c92419cc8423c92737e7b\"}, \"mark\": {\"type\": \"text\", \"align\": \"left\", \"baseline\": \"middle\", \"dx\": 2, \"dy\": 1}, \"encoding\": {\"color\": {\"value\": \"blue\"}, \"href\": {\"field\": \"url\", \"type\": \"nominal\"}, \"text\": {\"field\": \"url\", \"type\": \"nominal\"}, \"x\": {\"axis\": null, \"field\": \"x\", \"scale\": {\"range\": [0, 1]}, \"title\": null, \"type\": \"quantitative\"}, \"y\": {\"axis\": {\"domain\": false, \"grid\": false, \"labelFontWeight\": \"bold\"}, \"field\": \"id\", \"title\": null, \"type\": \"ordinal\"}}}], \"config\": {\"padding\": 20, \"title\": {\"fontSize\": 14}, \"view\": {\"strokeWidth\": 0}}, \"$schema\": \"https://vega.github.io/schema/vega-lite/v4.17.0.json\", \"datasets\": {\"data-4a80dea378a0a22f1438f910b07f478f\": [{\"date\": \"1850-01-02\", \"total_results\": 0, \"total_articles\": 0, \"url\": \"https://trove.nla.gov.au/search/category/newspapers?keyword=text%3A%22darling%20wife%22%20date%3A%5B1850%20TO%201954%5D&l-decade=185&l-year=1850\", \"id\": \"Query 1\"}, {\"date\": \"1851-01-02\", \"total_results\": 0, \"total_articles\": 0, \"url\": \"https://trove.nla.gov.au/search/category/newspapers?keyword=text%3A%22darling%20wife%22%20date%3A%5B1850%20TO%201954%5D&l-decade=185&l-year=1851\", \"id\": \"Query 1\"}, {\"date\": \"1852-01-02\", \"total_results\": 0, \"total_articles\": 0, \"url\": \"https://trove.nla.gov.au/search/category/newspapers?keyword=text%3A%22darling%20wife%22%20date%3A%5B1850%20TO%201954%5D&l-decade=185&l-year=1852\", \"id\": \"Query 1\"}, {\"date\": \"1853-01-02\", \"total_results\": 0, \"total_articles\": 0, \"url\": \"https://trove.nla.gov.au/search/category/newspapers?keyword=text%3A%22darling%20wife%22%20date%3A%5B1850%20TO%201954%5D&l-decade=185&l-year=1853\", \"id\": \"Query 1\"}, {\"date\": \"1854-01-02\", \"total_results\": 0, \"total_articles\": 0, \"url\": \"https://trove.nla.gov.au/search/category/newspapers?keyword=text%3A%22darling%20wife%22%20date%3A%5B1850%20TO%201954%5D&l-decade=185&l-year=1854\", \"id\": \"Query 1\"}, {\"date\": \"1855-01-02\", \"total_results\": 0, \"total_articles\": 0, \"url\": \"https://trove.nla.gov.au/search/category/newspapers?keyword=text%3A%22darling%20wife%22%20date%3A%5B1850%20TO%201954%5D&l-decade=185&l-year=1855\", \"id\": \"Query 1\"}, {\"date\": \"1856-01-02\", \"total_results\": 0, \"total_articles\": 0, \"url\": \"https://trove.nla.gov.au/search/category/newspapers?keyword=text%3A%22darling%20wife%22%20date%3A%5B1850%20TO%201954%5D&l-decade=185&l-year=1856\", \"id\": \"Query 1\"}, {\"date\": \"1857-01-02\", \"total_results\": 0, \"total_articles\": 0, \"url\": \"https://trove.nla.gov.au/search/category/newspapers?keyword=text%3A%22darling%20wife%22%20date%3A%5B1850%20TO%201954%5D&l-decade=185&l-year=1857\", \"id\": \"Query 1\"}, {\"date\": \"1858-01-02\", \"total_results\": 0, \"total_articles\": 0, \"url\": \"https://trove.nla.gov.au/search/category/newspapers?keyword=text%3A%22darling%20wife%22%20date%3A%5B1850%20TO%201954%5D&l-decade=185&l-year=1858\", \"id\": \"Query 1\"}, {\"date\": \"1859-01-02\", \"total_results\": 0, \"total_articles\": 0, \"url\": \"https://trove.nla.gov.au/search/category/newspapers?keyword=text%3A%22darling%20wife%22%20date%3A%5B1850%20TO%201954%5D&l-decade=185&l-year=1859\", \"id\": \"Query 1\"}, {\"date\": \"1860-01-02\", \"total_results\": 0, \"total_articles\": 0, \"url\": \"https://trove.nla.gov.au/search/category/newspapers?keyword=text%3A%22darling%20wife%22%20date%3A%5B1850%20TO%201954%5D&l-decade=186&l-year=1860\", \"id\": \"Query 1\"}, {\"date\": \"1861-01-02\", \"total_results\": 0, \"total_articles\": 0, \"url\": \"https://trove.nla.gov.au/search/category/newspapers?keyword=text%3A%22darling%20wife%22%20date%3A%5B1850%20TO%201954%5D&l-decade=186&l-year=1861\", \"id\": \"Query 1\"}, {\"date\": \"1862-01-02\", \"total_results\": 0, \"total_articles\": 0, \"url\": \"https://trove.nla.gov.au/search/category/newspapers?keyword=text%3A%22darling%20wife%22%20date%3A%5B1850%20TO%201954%5D&l-decade=186&l-year=1862\", \"id\": \"Query 1\"}, {\"date\": \"1863-01-02\", \"total_results\": 0, \"total_articles\": 0, \"url\": \"https://trove.nla.gov.au/search/category/newspapers?keyword=text%3A%22darling%20wife%22%20date%3A%5B1850%20TO%201954%5D&l-decade=186&l-year=1863\", \"id\": \"Query 1\"}, {\"date\": \"1864-01-02\", \"total_results\": 0, \"total_articles\": 0, \"url\": \"https://trove.nla.gov.au/search/category/newspapers?keyword=text%3A%22darling%20wife%22%20date%3A%5B1850%20TO%201954%5D&l-decade=186&l-year=1864\", \"id\": \"Query 1\"}, {\"date\": \"1865-01-02\", \"total_results\": 0, \"total_articles\": 0, \"url\": \"https://trove.nla.gov.au/search/category/newspapers?keyword=text%3A%22darling%20wife%22%20date%3A%5B1850%20TO%201954%5D&l-decade=186&l-year=1865\", \"id\": \"Query 1\"}, {\"date\": \"1866-01-02\", \"total_results\": 0, \"total_articles\": 0, \"url\": \"https://trove.nla.gov.au/search/category/newspapers?keyword=text%3A%22darling%20wife%22%20date%3A%5B1850%20TO%201954%5D&l-decade=186&l-year=1866\", \"id\": \"Query 1\"}, {\"date\": \"1867-01-02\", \"total_results\": 0, \"total_articles\": 0, \"url\": \"https://trove.nla.gov.au/search/category/newspapers?keyword=text%3A%22darling%20wife%22%20date%3A%5B1850%20TO%201954%5D&l-decade=186&l-year=1867\", \"id\": \"Query 1\"}, {\"date\": \"1868-01-02\", \"total_results\": 0, \"total_articles\": 0, \"url\": \"https://trove.nla.gov.au/search/category/newspapers?keyword=text%3A%22darling%20wife%22%20date%3A%5B1850%20TO%201954%5D&l-decade=186&l-year=1868\", \"id\": \"Query 1\"}, {\"date\": \"1869-01-02\", \"total_results\": 0, \"total_articles\": 0, \"url\": \"https://trove.nla.gov.au/search/category/newspapers?keyword=text%3A%22darling%20wife%22%20date%3A%5B1850%20TO%201954%5D&l-decade=186&l-year=1869\", \"id\": \"Query 1\"}, {\"date\": \"1870-01-02\", \"total_results\": 0, \"total_articles\": 0, \"url\": \"https://trove.nla.gov.au/search/category/newspapers?keyword=text%3A%22darling%20wife%22%20date%3A%5B1850%20TO%201954%5D&l-decade=187&l-year=1870\", \"id\": \"Query 1\"}, {\"date\": \"1871-01-02\", \"total_results\": 0, \"total_articles\": 0, \"url\": \"https://trove.nla.gov.au/search/category/newspapers?keyword=text%3A%22darling%20wife%22%20date%3A%5B1850%20TO%201954%5D&l-decade=187&l-year=1871\", \"id\": \"Query 1\"}, {\"date\": \"1872-01-02\", \"total_results\": 0, \"total_articles\": 0, \"url\": \"https://trove.nla.gov.au/search/category/newspapers?keyword=text%3A%22darling%20wife%22%20date%3A%5B1850%20TO%201954%5D&l-decade=187&l-year=1872\", \"id\": \"Query 1\"}, {\"date\": \"1873-01-02\", \"total_results\": 0, \"total_articles\": 0, \"url\": \"https://trove.nla.gov.au/search/category/newspapers?keyword=text%3A%22darling%20wife%22%20date%3A%5B1850%20TO%201954%5D&l-decade=187&l-year=1873\", \"id\": \"Query 1\"}, {\"date\": \"1874-01-02\", \"total_results\": 0, \"total_articles\": 0, \"url\": \"https://trove.nla.gov.au/search/category/newspapers?keyword=text%3A%22darling%20wife%22%20date%3A%5B1850%20TO%201954%5D&l-decade=187&l-year=1874\", \"id\": \"Query 1\"}, {\"date\": \"1875-01-02\", \"total_results\": 0, \"total_articles\": 0, \"url\": \"https://trove.nla.gov.au/search/category/newspapers?keyword=text%3A%22darling%20wife%22%20date%3A%5B1850%20TO%201954%5D&l-decade=187&l-year=1875\", \"id\": \"Query 1\"}, {\"date\": \"1876-01-02\", \"total_results\": 0, \"total_articles\": 0, \"url\": \"https://trove.nla.gov.au/search/category/newspapers?keyword=text%3A%22darling%20wife%22%20date%3A%5B1850%20TO%201954%5D&l-decade=187&l-year=1876\", \"id\": \"Query 1\"}, {\"date\": \"1877-01-02\", \"total_results\": 0, \"total_articles\": 0, \"url\": \"https://trove.nla.gov.au/search/category/newspapers?keyword=text%3A%22darling%20wife%22%20date%3A%5B1850%20TO%201954%5D&l-decade=187&l-year=1877\", \"id\": \"Query 1\"}, {\"date\": \"1878-01-02\", \"total_results\": 0, \"total_articles\": 0, \"url\": \"https://trove.nla.gov.au/search/category/newspapers?keyword=text%3A%22darling%20wife%22%20date%3A%5B1850%20TO%201954%5D&l-decade=187&l-year=1878\", \"id\": \"Query 1\"}, {\"date\": \"1879-01-02\", \"total_results\": 0, \"total_articles\": 0, \"url\": \"https://trove.nla.gov.au/search/category/newspapers?keyword=text%3A%22darling%20wife%22%20date%3A%5B1850%20TO%201954%5D&l-decade=187&l-year=1879\", \"id\": \"Query 1\"}, {\"date\": \"1880-01-02\", \"total_results\": 0, \"total_articles\": 0, \"url\": \"https://trove.nla.gov.au/search/category/newspapers?keyword=text%3A%22darling%20wife%22%20date%3A%5B1850%20TO%201954%5D&l-decade=188&l-year=1880\", \"id\": \"Query 1\"}, {\"date\": \"1881-01-02\", \"total_results\": 0, \"total_articles\": 0, \"url\": \"https://trove.nla.gov.au/search/category/newspapers?keyword=text%3A%22darling%20wife%22%20date%3A%5B1850%20TO%201954%5D&l-decade=188&l-year=1881\", \"id\": \"Query 1\"}, {\"date\": \"1882-01-02\", \"total_results\": 0, \"total_articles\": 0, \"url\": \"https://trove.nla.gov.au/search/category/newspapers?keyword=text%3A%22darling%20wife%22%20date%3A%5B1850%20TO%201954%5D&l-decade=188&l-year=1882\", \"id\": \"Query 1\"}, {\"date\": \"1883-01-02\", \"total_results\": 0, \"total_articles\": 0, \"url\": \"https://trove.nla.gov.au/search/category/newspapers?keyword=text%3A%22darling%20wife%22%20date%3A%5B1850%20TO%201954%5D&l-decade=188&l-year=1883\", \"id\": \"Query 1\"}, {\"date\": \"1884-01-02\", \"total_results\": 0, \"total_articles\": 0, \"url\": \"https://trove.nla.gov.au/search/category/newspapers?keyword=text%3A%22darling%20wife%22%20date%3A%5B1850%20TO%201954%5D&l-decade=188&l-year=1884\", \"id\": \"Query 1\"}, {\"date\": \"1885-01-02\", \"total_results\": 0, \"total_articles\": 0, \"url\": \"https://trove.nla.gov.au/search/category/newspapers?keyword=text%3A%22darling%20wife%22%20date%3A%5B1850%20TO%201954%5D&l-decade=188&l-year=1885\", \"id\": \"Query 1\"}, {\"date\": \"1886-01-02\", \"total_results\": 0, \"total_articles\": 0, \"url\": \"https://trove.nla.gov.au/search/category/newspapers?keyword=text%3A%22darling%20wife%22%20date%3A%5B1850%20TO%201954%5D&l-decade=188&l-year=1886\", \"id\": \"Query 1\"}, {\"date\": \"1887-01-02\", \"total_results\": 0, \"total_articles\": 0, \"url\": \"https://trove.nla.gov.au/search/category/newspapers?keyword=text%3A%22darling%20wife%22%20date%3A%5B1850%20TO%201954%5D&l-decade=188&l-year=1887\", \"id\": \"Query 1\"}, {\"date\": \"1888-01-02\", \"total_results\": 0, \"total_articles\": 0, \"url\": \"https://trove.nla.gov.au/search/category/newspapers?keyword=text%3A%22darling%20wife%22%20date%3A%5B1850%20TO%201954%5D&l-decade=188&l-year=1888\", \"id\": \"Query 1\"}, {\"date\": \"1889-01-02\", \"total_results\": 0, \"total_articles\": 0, \"url\": \"https://trove.nla.gov.au/search/category/newspapers?keyword=text%3A%22darling%20wife%22%20date%3A%5B1850%20TO%201954%5D&l-decade=188&l-year=1889\", \"id\": \"Query 1\"}, {\"date\": \"1890-01-02\", \"total_results\": 0, \"total_articles\": 0, \"url\": \"https://trove.nla.gov.au/search/category/newspapers?keyword=text%3A%22darling%20wife%22%20date%3A%5B1850%20TO%201954%5D&l-decade=189&l-year=1890\", \"id\": \"Query 1\"}, {\"date\": \"1891-01-02\", \"total_results\": 0, \"total_articles\": 0, \"url\": \"https://trove.nla.gov.au/search/category/newspapers?keyword=text%3A%22darling%20wife%22%20date%3A%5B1850%20TO%201954%5D&l-decade=189&l-year=1891\", \"id\": \"Query 1\"}, {\"date\": \"1892-01-02\", \"total_results\": 0, \"total_articles\": 0, \"url\": \"https://trove.nla.gov.au/search/category/newspapers?keyword=text%3A%22darling%20wife%22%20date%3A%5B1850%20TO%201954%5D&l-decade=189&l-year=1892\", \"id\": \"Query 1\"}, {\"date\": \"1893-01-02\", \"total_results\": 0, \"total_articles\": 0, \"url\": \"https://trove.nla.gov.au/search/category/newspapers?keyword=text%3A%22darling%20wife%22%20date%3A%5B1850%20TO%201954%5D&l-decade=189&l-year=1893\", \"id\": \"Query 1\"}, {\"date\": \"1894-01-02\", \"total_results\": 0, \"total_articles\": 0, \"url\": \"https://trove.nla.gov.au/search/category/newspapers?keyword=text%3A%22darling%20wife%22%20date%3A%5B1850%20TO%201954%5D&l-decade=189&l-year=1894\", \"id\": \"Query 1\"}, {\"date\": \"1895-01-02\", \"total_results\": 0, \"total_articles\": 0, \"url\": \"https://trove.nla.gov.au/search/category/newspapers?keyword=text%3A%22darling%20wife%22%20date%3A%5B1850%20TO%201954%5D&l-decade=189&l-year=1895\", \"id\": \"Query 1\"}, {\"date\": \"1896-01-02\", \"total_results\": 0, \"total_articles\": 0, \"url\": \"https://trove.nla.gov.au/search/category/newspapers?keyword=text%3A%22darling%20wife%22%20date%3A%5B1850%20TO%201954%5D&l-decade=189&l-year=1896\", \"id\": \"Query 1\"}, {\"date\": \"1897-01-02\", \"total_results\": 0, \"total_articles\": 0, \"url\": \"https://trove.nla.gov.au/search/category/newspapers?keyword=text%3A%22darling%20wife%22%20date%3A%5B1850%20TO%201954%5D&l-decade=189&l-year=1897\", \"id\": \"Query 1\"}, {\"date\": \"1898-01-02\", \"total_results\": 0, \"total_articles\": 0, \"url\": \"https://trove.nla.gov.au/search/category/newspapers?keyword=text%3A%22darling%20wife%22%20date%3A%5B1850%20TO%201954%5D&l-decade=189&l-year=1898\", \"id\": \"Query 1\"}, {\"date\": \"1899-01-02\", \"total_results\": 0, \"total_articles\": 0, \"url\": \"https://trove.nla.gov.au/search/category/newspapers?keyword=text%3A%22darling%20wife%22%20date%3A%5B1850%20TO%201954%5D&l-decade=189&l-year=1899\", \"id\": \"Query 1\"}, {\"date\": \"1900-01-02\", \"total_results\": 0, \"total_articles\": 0, \"url\": \"https://trove.nla.gov.au/search/category/newspapers?keyword=text%3A%22darling%20wife%22%20date%3A%5B1850%20TO%201954%5D&l-decade=190&l-year=1900\", \"id\": \"Query 1\"}, {\"date\": \"1901-01-02\", \"total_results\": 0, \"total_articles\": 0, \"url\": \"https://trove.nla.gov.au/search/category/newspapers?keyword=text%3A%22darling%20wife%22%20date%3A%5B1850%20TO%201954%5D&l-decade=190&l-year=1901\", \"id\": \"Query 1\"}, {\"date\": \"1902-01-02\", \"total_results\": 0, \"total_articles\": 0, \"url\": \"https://trove.nla.gov.au/search/category/newspapers?keyword=text%3A%22darling%20wife%22%20date%3A%5B1850%20TO%201954%5D&l-decade=190&l-year=1902\", \"id\": \"Query 1\"}, {\"date\": \"1903-01-02\", \"total_results\": 0, \"total_articles\": 0, \"url\": \"https://trove.nla.gov.au/search/category/newspapers?keyword=text%3A%22darling%20wife%22%20date%3A%5B1850%20TO%201954%5D&l-decade=190&l-year=1903\", \"id\": \"Query 1\"}, {\"date\": \"1904-01-02\", \"total_results\": 0, \"total_articles\": 0, \"url\": \"https://trove.nla.gov.au/search/category/newspapers?keyword=text%3A%22darling%20wife%22%20date%3A%5B1850%20TO%201954%5D&l-decade=190&l-year=1904\", \"id\": \"Query 1\"}, {\"date\": \"1905-01-02\", \"total_results\": 0, \"total_articles\": 0, \"url\": \"https://trove.nla.gov.au/search/category/newspapers?keyword=text%3A%22darling%20wife%22%20date%3A%5B1850%20TO%201954%5D&l-decade=190&l-year=1905\", \"id\": \"Query 1\"}, {\"date\": \"1906-01-02\", \"total_results\": 0, \"total_articles\": 0, \"url\": \"https://trove.nla.gov.au/search/category/newspapers?keyword=text%3A%22darling%20wife%22%20date%3A%5B1850%20TO%201954%5D&l-decade=190&l-year=1906\", \"id\": \"Query 1\"}, {\"date\": \"1907-01-02\", \"total_results\": 0, \"total_articles\": 0, \"url\": \"https://trove.nla.gov.au/search/category/newspapers?keyword=text%3A%22darling%20wife%22%20date%3A%5B1850%20TO%201954%5D&l-decade=190&l-year=1907\", \"id\": \"Query 1\"}, {\"date\": \"1908-01-02\", \"total_results\": 0, \"total_articles\": 0, \"url\": \"https://trove.nla.gov.au/search/category/newspapers?keyword=text%3A%22darling%20wife%22%20date%3A%5B1850%20TO%201954%5D&l-decade=190&l-year=1908\", \"id\": \"Query 1\"}, {\"date\": \"1909-01-02\", \"total_results\": 0, \"total_articles\": 0, \"url\": \"https://trove.nla.gov.au/search/category/newspapers?keyword=text%3A%22darling%20wife%22%20date%3A%5B1850%20TO%201954%5D&l-decade=190&l-year=1909\", \"id\": \"Query 1\"}, {\"date\": \"1910-01-02\", \"total_results\": 0, \"total_articles\": 0, \"url\": \"https://trove.nla.gov.au/search/category/newspapers?keyword=text%3A%22darling%20wife%22%20date%3A%5B1850%20TO%201954%5D&l-decade=191&l-year=1910\", \"id\": \"Query 1\"}, {\"date\": \"1911-01-02\", \"total_results\": 0, \"total_articles\": 0, \"url\": \"https://trove.nla.gov.au/search/category/newspapers?keyword=text%3A%22darling%20wife%22%20date%3A%5B1850%20TO%201954%5D&l-decade=191&l-year=1911\", \"id\": \"Query 1\"}, {\"date\": \"1912-01-02\", \"total_results\": 0, \"total_articles\": 0, \"url\": \"https://trove.nla.gov.au/search/category/newspapers?keyword=text%3A%22darling%20wife%22%20date%3A%5B1850%20TO%201954%5D&l-decade=191&l-year=1912\", \"id\": \"Query 1\"}, {\"date\": \"1913-01-02\", \"total_results\": 0, \"total_articles\": 0, \"url\": \"https://trove.nla.gov.au/search/category/newspapers?keyword=text%3A%22darling%20wife%22%20date%3A%5B1850%20TO%201954%5D&l-decade=191&l-year=1913\", \"id\": \"Query 1\"}, {\"date\": \"1914-01-02\", \"total_results\": 0, \"total_articles\": 0, \"url\": \"https://trove.nla.gov.au/search/category/newspapers?keyword=text%3A%22darling%20wife%22%20date%3A%5B1850%20TO%201954%5D&l-decade=191&l-year=1914\", \"id\": \"Query 1\"}, {\"date\": \"1915-01-02\", \"total_results\": 0, \"total_articles\": 0, \"url\": \"https://trove.nla.gov.au/search/category/newspapers?keyword=text%3A%22darling%20wife%22%20date%3A%5B1850%20TO%201954%5D&l-decade=191&l-year=1915\", \"id\": \"Query 1\"}, {\"date\": \"1916-01-02\", \"total_results\": 0, \"total_articles\": 0, \"url\": \"https://trove.nla.gov.au/search/category/newspapers?keyword=text%3A%22darling%20wife%22%20date%3A%5B1850%20TO%201954%5D&l-decade=191&l-year=1916\", \"id\": \"Query 1\"}, {\"date\": \"1917-01-02\", \"total_results\": 0, \"total_articles\": 0, \"url\": \"https://trove.nla.gov.au/search/category/newspapers?keyword=text%3A%22darling%20wife%22%20date%3A%5B1850%20TO%201954%5D&l-decade=191&l-year=1917\", \"id\": \"Query 1\"}, {\"date\": \"1918-01-02\", \"total_results\": 0, \"total_articles\": 0, \"url\": \"https://trove.nla.gov.au/search/category/newspapers?keyword=text%3A%22darling%20wife%22%20date%3A%5B1850%20TO%201954%5D&l-decade=191&l-year=1918\", \"id\": \"Query 1\"}, {\"date\": \"1919-01-02\", \"total_results\": 0, \"total_articles\": 0, \"url\": \"https://trove.nla.gov.au/search/category/newspapers?keyword=text%3A%22darling%20wife%22%20date%3A%5B1850%20TO%201954%5D&l-decade=191&l-year=1919\", \"id\": \"Query 1\"}, {\"date\": \"1920-01-02\", \"total_results\": 0, \"total_articles\": 0, \"url\": \"https://trove.nla.gov.au/search/category/newspapers?keyword=text%3A%22darling%20wife%22%20date%3A%5B1850%20TO%201954%5D&l-decade=192&l-year=1920\", \"id\": \"Query 1\"}, {\"date\": \"1921-01-02\", \"total_results\": 0, \"total_articles\": 0, \"url\": \"https://trove.nla.gov.au/search/category/newspapers?keyword=text%3A%22darling%20wife%22%20date%3A%5B1850%20TO%201954%5D&l-decade=192&l-year=1921\", \"id\": \"Query 1\"}, {\"date\": \"1922-01-02\", \"total_results\": 0, \"total_articles\": 0, \"url\": \"https://trove.nla.gov.au/search/category/newspapers?keyword=text%3A%22darling%20wife%22%20date%3A%5B1850%20TO%201954%5D&l-decade=192&l-year=1922\", \"id\": \"Query 1\"}, {\"date\": \"1923-01-02\", \"total_results\": 0, \"total_articles\": 0, \"url\": \"https://trove.nla.gov.au/search/category/newspapers?keyword=text%3A%22darling%20wife%22%20date%3A%5B1850%20TO%201954%5D&l-decade=192&l-year=1923\", \"id\": \"Query 1\"}, {\"date\": \"1924-01-02\", \"total_results\": 0, \"total_articles\": 0, \"url\": \"https://trove.nla.gov.au/search/category/newspapers?keyword=text%3A%22darling%20wife%22%20date%3A%5B1850%20TO%201954%5D&l-decade=192&l-year=1924\", \"id\": \"Query 1\"}, {\"date\": \"1925-01-02\", \"total_results\": 0, \"total_articles\": 0, \"url\": \"https://trove.nla.gov.au/search/category/newspapers?keyword=text%3A%22darling%20wife%22%20date%3A%5B1850%20TO%201954%5D&l-decade=192&l-year=1925\", \"id\": \"Query 1\"}, {\"date\": \"1926-01-02\", \"total_results\": 0, \"total_articles\": 0, \"url\": \"https://trove.nla.gov.au/search/category/newspapers?keyword=text%3A%22darling%20wife%22%20date%3A%5B1850%20TO%201954%5D&l-decade=192&l-year=1926\", \"id\": \"Query 1\"}, {\"date\": \"1927-01-02\", \"total_results\": 0, \"total_articles\": 0, \"url\": \"https://trove.nla.gov.au/search/category/newspapers?keyword=text%3A%22darling%20wife%22%20date%3A%5B1850%20TO%201954%5D&l-decade=192&l-year=1927\", \"id\": \"Query 1\"}, {\"date\": \"1928-01-02\", \"total_results\": 0, \"total_articles\": 0, \"url\": \"https://trove.nla.gov.au/search/category/newspapers?keyword=text%3A%22darling%20wife%22%20date%3A%5B1850%20TO%201954%5D&l-decade=192&l-year=1928\", \"id\": \"Query 1\"}, {\"date\": \"1929-01-02\", \"total_results\": 0, \"total_articles\": 0, \"url\": \"https://trove.nla.gov.au/search/category/newspapers?keyword=text%3A%22darling%20wife%22%20date%3A%5B1850%20TO%201954%5D&l-decade=192&l-year=1929\", \"id\": \"Query 1\"}, {\"date\": \"1930-01-02\", \"total_results\": 0, \"total_articles\": 0, \"url\": \"https://trove.nla.gov.au/search/category/newspapers?keyword=text%3A%22darling%20wife%22%20date%3A%5B1850%20TO%201954%5D&l-decade=193&l-year=1930\", \"id\": \"Query 1\"}, {\"date\": \"1931-01-02\", \"total_results\": 0, \"total_articles\": 0, \"url\": \"https://trove.nla.gov.au/search/category/newspapers?keyword=text%3A%22darling%20wife%22%20date%3A%5B1850%20TO%201954%5D&l-decade=193&l-year=1931\", \"id\": \"Query 1\"}, {\"date\": \"1932-01-02\", \"total_results\": 0, \"total_articles\": 0, \"url\": \"https://trove.nla.gov.au/search/category/newspapers?keyword=text%3A%22darling%20wife%22%20date%3A%5B1850%20TO%201954%5D&l-decade=193&l-year=1932\", \"id\": \"Query 1\"}, {\"date\": \"1933-01-02\", \"total_results\": 0, \"total_articles\": 0, \"url\": \"https://trove.nla.gov.au/search/category/newspapers?keyword=text%3A%22darling%20wife%22%20date%3A%5B1850%20TO%201954%5D&l-decade=193&l-year=1933\", \"id\": \"Query 1\"}, {\"date\": \"1934-01-02\", \"total_results\": 0, \"total_articles\": 0, \"url\": \"https://trove.nla.gov.au/search/category/newspapers?keyword=text%3A%22darling%20wife%22%20date%3A%5B1850%20TO%201954%5D&l-decade=193&l-year=1934\", \"id\": \"Query 1\"}, {\"date\": \"1935-01-02\", \"total_results\": 0, \"total_articles\": 0, \"url\": \"https://trove.nla.gov.au/search/category/newspapers?keyword=text%3A%22darling%20wife%22%20date%3A%5B1850%20TO%201954%5D&l-decade=193&l-year=1935\", \"id\": \"Query 1\"}, {\"date\": \"1936-01-02\", \"total_results\": 0, \"total_articles\": 0, \"url\": \"https://trove.nla.gov.au/search/category/newspapers?keyword=text%3A%22darling%20wife%22%20date%3A%5B1850%20TO%201954%5D&l-decade=193&l-year=1936\", \"id\": \"Query 1\"}, {\"date\": \"1937-01-02\", \"total_results\": 0, \"total_articles\": 0, \"url\": \"https://trove.nla.gov.au/search/category/newspapers?keyword=text%3A%22darling%20wife%22%20date%3A%5B1850%20TO%201954%5D&l-decade=193&l-year=1937\", \"id\": \"Query 1\"}, {\"date\": \"1938-01-02\", \"total_results\": 0, \"total_articles\": 0, \"url\": \"https://trove.nla.gov.au/search/category/newspapers?keyword=text%3A%22darling%20wife%22%20date%3A%5B1850%20TO%201954%5D&l-decade=193&l-year=1938\", \"id\": \"Query 1\"}, {\"date\": \"1939-01-02\", \"total_results\": 0, \"total_articles\": 0, \"url\": \"https://trove.nla.gov.au/search/category/newspapers?keyword=text%3A%22darling%20wife%22%20date%3A%5B1850%20TO%201954%5D&l-decade=193&l-year=1939\", \"id\": \"Query 1\"}, {\"date\": \"1940-01-02\", \"total_results\": 0, \"total_articles\": 0, \"url\": \"https://trove.nla.gov.au/search/category/newspapers?keyword=text%3A%22darling%20wife%22%20date%3A%5B1850%20TO%201954%5D&l-decade=194&l-year=1940\", \"id\": \"Query 1\"}, {\"date\": \"1941-01-02\", \"total_results\": 0, \"total_articles\": 0, \"url\": \"https://trove.nla.gov.au/search/category/newspapers?keyword=text%3A%22darling%20wife%22%20date%3A%5B1850%20TO%201954%5D&l-decade=194&l-year=1941\", \"id\": \"Query 1\"}, {\"date\": \"1942-01-02\", \"total_results\": 0, \"total_articles\": 0, \"url\": \"https://trove.nla.gov.au/search/category/newspapers?keyword=text%3A%22darling%20wife%22%20date%3A%5B1850%20TO%201954%5D&l-decade=194&l-year=1942\", \"id\": \"Query 1\"}, {\"date\": \"1943-01-02\", \"total_results\": 0, \"total_articles\": 0, \"url\": \"https://trove.nla.gov.au/search/category/newspapers?keyword=text%3A%22darling%20wife%22%20date%3A%5B1850%20TO%201954%5D&l-decade=194&l-year=1943\", \"id\": \"Query 1\"}, {\"date\": \"1944-01-02\", \"total_results\": 0, \"total_articles\": 0, \"url\": \"https://trove.nla.gov.au/search/category/newspapers?keyword=text%3A%22darling%20wife%22%20date%3A%5B1850%20TO%201954%5D&l-decade=194&l-year=1944\", \"id\": \"Query 1\"}, {\"date\": \"1945-01-02\", \"total_results\": 0, \"total_articles\": 0, \"url\": \"https://trove.nla.gov.au/search/category/newspapers?keyword=text%3A%22darling%20wife%22%20date%3A%5B1850%20TO%201954%5D&l-decade=194&l-year=1945\", \"id\": \"Query 1\"}, {\"date\": \"1946-01-02\", \"total_results\": 0, \"total_articles\": 0, \"url\": \"https://trove.nla.gov.au/search/category/newspapers?keyword=text%3A%22darling%20wife%22%20date%3A%5B1850%20TO%201954%5D&l-decade=194&l-year=1946\", \"id\": \"Query 1\"}, {\"date\": \"1947-01-02\", \"total_results\": 0, \"total_articles\": 0, \"url\": \"https://trove.nla.gov.au/search/category/newspapers?keyword=text%3A%22darling%20wife%22%20date%3A%5B1850%20TO%201954%5D&l-decade=194&l-year=1947\", \"id\": \"Query 1\"}, {\"date\": \"1948-01-02\", \"total_results\": 0, \"total_articles\": 0, \"url\": \"https://trove.nla.gov.au/search/category/newspapers?keyword=text%3A%22darling%20wife%22%20date%3A%5B1850%20TO%201954%5D&l-decade=194&l-year=1948\", \"id\": \"Query 1\"}, {\"date\": \"1949-01-02\", \"total_results\": 0, \"total_articles\": 0, \"url\": \"https://trove.nla.gov.au/search/category/newspapers?keyword=text%3A%22darling%20wife%22%20date%3A%5B1850%20TO%201954%5D&l-decade=194&l-year=1949\", \"id\": \"Query 1\"}, {\"date\": \"1950-01-02\", \"total_results\": 0, \"total_articles\": 0, \"url\": \"https://trove.nla.gov.au/search/category/newspapers?keyword=text%3A%22darling%20wife%22%20date%3A%5B1850%20TO%201954%5D&l-decade=195&l-year=1950\", \"id\": \"Query 1\"}, {\"date\": \"1951-01-02\", \"total_results\": 0, \"total_articles\": 0, \"url\": \"https://trove.nla.gov.au/search/category/newspapers?keyword=text%3A%22darling%20wife%22%20date%3A%5B1850%20TO%201954%5D&l-decade=195&l-year=1951\", \"id\": \"Query 1\"}, {\"date\": \"1952-01-02\", \"total_results\": 0, \"total_articles\": 0, \"url\": \"https://trove.nla.gov.au/search/category/newspapers?keyword=text%3A%22darling%20wife%22%20date%3A%5B1850%20TO%201954%5D&l-decade=195&l-year=1952\", \"id\": \"Query 1\"}, {\"date\": \"1953-01-02\", \"total_results\": 0, \"total_articles\": 0, \"url\": \"https://trove.nla.gov.au/search/category/newspapers?keyword=text%3A%22darling%20wife%22%20date%3A%5B1850%20TO%201954%5D&l-decade=195&l-year=1953\", \"id\": \"Query 1\"}, {\"date\": \"1850-01-02\", \"total_results\": 0, \"total_articles\": 0, \"url\": \"https://trove.nla.gov.au/search/category/newspapers?keyword=text%3A%22darling%20wife%22%20date%3A%5B1850%20TO%201954%5D&l-decade=185&l-year=1850\", \"id\": \"Query 2\"}, {\"date\": \"1851-01-02\", \"total_results\": 0, \"total_articles\": 0, \"url\": \"https://trove.nla.gov.au/search/category/newspapers?keyword=text%3A%22darling%20wife%22%20date%3A%5B1850%20TO%201954%5D&l-decade=185&l-year=1851\", \"id\": \"Query 2\"}, {\"date\": \"1852-01-02\", \"total_results\": 0, \"total_articles\": 0, \"url\": \"https://trove.nla.gov.au/search/category/newspapers?keyword=text%3A%22darling%20wife%22%20date%3A%5B1850%20TO%201954%5D&l-decade=185&l-year=1852\", \"id\": \"Query 2\"}, {\"date\": \"1853-01-02\", \"total_results\": 0, \"total_articles\": 0, \"url\": \"https://trove.nla.gov.au/search/category/newspapers?keyword=text%3A%22darling%20wife%22%20date%3A%5B1850%20TO%201954%5D&l-decade=185&l-year=1853\", \"id\": \"Query 2\"}, {\"date\": \"1854-01-02\", \"total_results\": 0, \"total_articles\": 0, \"url\": \"https://trove.nla.gov.au/search/category/newspapers?keyword=text%3A%22darling%20wife%22%20date%3A%5B1850%20TO%201954%5D&l-decade=185&l-year=1854\", \"id\": \"Query 2\"}, {\"date\": \"1855-01-02\", \"total_results\": 0, \"total_articles\": 0, \"url\": \"https://trove.nla.gov.au/search/category/newspapers?keyword=text%3A%22darling%20wife%22%20date%3A%5B1850%20TO%201954%5D&l-decade=185&l-year=1855\", \"id\": \"Query 2\"}, {\"date\": \"1856-01-02\", \"total_results\": 0, \"total_articles\": 0, \"url\": \"https://trove.nla.gov.au/search/category/newspapers?keyword=text%3A%22darling%20wife%22%20date%3A%5B1850%20TO%201954%5D&l-decade=185&l-year=1856\", \"id\": \"Query 2\"}, {\"date\": \"1857-01-02\", \"total_results\": 0, \"total_articles\": 0, \"url\": \"https://trove.nla.gov.au/search/category/newspapers?keyword=text%3A%22darling%20wife%22%20date%3A%5B1850%20TO%201954%5D&l-decade=185&l-year=1857\", \"id\": \"Query 2\"}, {\"date\": \"1858-01-02\", \"total_results\": 0, \"total_articles\": 0, \"url\": \"https://trove.nla.gov.au/search/category/newspapers?keyword=text%3A%22darling%20wife%22%20date%3A%5B1850%20TO%201954%5D&l-decade=185&l-year=1858\", \"id\": \"Query 2\"}, {\"date\": \"1859-01-02\", \"total_results\": 0, \"total_articles\": 0, \"url\": \"https://trove.nla.gov.au/search/category/newspapers?keyword=text%3A%22darling%20wife%22%20date%3A%5B1850%20TO%201954%5D&l-decade=185&l-year=1859\", \"id\": \"Query 2\"}, {\"date\": \"1860-01-02\", \"total_results\": 0, \"total_articles\": 0, \"url\": \"https://trove.nla.gov.au/search/category/newspapers?keyword=text%3A%22darling%20wife%22%20date%3A%5B1850%20TO%201954%5D&l-decade=186&l-year=1860\", \"id\": \"Query 2\"}, {\"date\": \"1861-01-02\", \"total_results\": 0, \"total_articles\": 0, \"url\": \"https://trove.nla.gov.au/search/category/newspapers?keyword=text%3A%22darling%20wife%22%20date%3A%5B1850%20TO%201954%5D&l-decade=186&l-year=1861\", \"id\": \"Query 2\"}, {\"date\": \"1862-01-02\", \"total_results\": 0, \"total_articles\": 0, \"url\": \"https://trove.nla.gov.au/search/category/newspapers?keyword=text%3A%22darling%20wife%22%20date%3A%5B1850%20TO%201954%5D&l-decade=186&l-year=1862\", \"id\": \"Query 2\"}, {\"date\": \"1863-01-02\", \"total_results\": 0, \"total_articles\": 0, \"url\": \"https://trove.nla.gov.au/search/category/newspapers?keyword=text%3A%22darling%20wife%22%20date%3A%5B1850%20TO%201954%5D&l-decade=186&l-year=1863\", \"id\": \"Query 2\"}, {\"date\": \"1864-01-02\", \"total_results\": 0, \"total_articles\": 0, \"url\": \"https://trove.nla.gov.au/search/category/newspapers?keyword=text%3A%22darling%20wife%22%20date%3A%5B1850%20TO%201954%5D&l-decade=186&l-year=1864\", \"id\": \"Query 2\"}, {\"date\": \"1865-01-02\", \"total_results\": 0, \"total_articles\": 0, \"url\": \"https://trove.nla.gov.au/search/category/newspapers?keyword=text%3A%22darling%20wife%22%20date%3A%5B1850%20TO%201954%5D&l-decade=186&l-year=1865\", \"id\": \"Query 2\"}, {\"date\": \"1866-01-02\", \"total_results\": 0, \"total_articles\": 0, \"url\": \"https://trove.nla.gov.au/search/category/newspapers?keyword=text%3A%22darling%20wife%22%20date%3A%5B1850%20TO%201954%5D&l-decade=186&l-year=1866\", \"id\": \"Query 2\"}, {\"date\": \"1867-01-02\", \"total_results\": 0, \"total_articles\": 0, \"url\": \"https://trove.nla.gov.au/search/category/newspapers?keyword=text%3A%22darling%20wife%22%20date%3A%5B1850%20TO%201954%5D&l-decade=186&l-year=1867\", \"id\": \"Query 2\"}, {\"date\": \"1868-01-02\", \"total_results\": 0, \"total_articles\": 0, \"url\": \"https://trove.nla.gov.au/search/category/newspapers?keyword=text%3A%22darling%20wife%22%20date%3A%5B1850%20TO%201954%5D&l-decade=186&l-year=1868\", \"id\": \"Query 2\"}, {\"date\": \"1869-01-02\", \"total_results\": 0, \"total_articles\": 0, \"url\": \"https://trove.nla.gov.au/search/category/newspapers?keyword=text%3A%22darling%20wife%22%20date%3A%5B1850%20TO%201954%5D&l-decade=186&l-year=1869\", \"id\": \"Query 2\"}, {\"date\": \"1870-01-02\", \"total_results\": 0, \"total_articles\": 0, \"url\": \"https://trove.nla.gov.au/search/category/newspapers?keyword=text%3A%22darling%20wife%22%20date%3A%5B1850%20TO%201954%5D&l-decade=187&l-year=1870\", \"id\": \"Query 2\"}, {\"date\": \"1871-01-02\", \"total_results\": 0, \"total_articles\": 0, \"url\": \"https://trove.nla.gov.au/search/category/newspapers?keyword=text%3A%22darling%20wife%22%20date%3A%5B1850%20TO%201954%5D&l-decade=187&l-year=1871\", \"id\": \"Query 2\"}, {\"date\": \"1872-01-02\", \"total_results\": 0, \"total_articles\": 0, \"url\": \"https://trove.nla.gov.au/search/category/newspapers?keyword=text%3A%22darling%20wife%22%20date%3A%5B1850%20TO%201954%5D&l-decade=187&l-year=1872\", \"id\": \"Query 2\"}, {\"date\": \"1873-01-02\", \"total_results\": 0, \"total_articles\": 0, \"url\": \"https://trove.nla.gov.au/search/category/newspapers?keyword=text%3A%22darling%20wife%22%20date%3A%5B1850%20TO%201954%5D&l-decade=187&l-year=1873\", \"id\": \"Query 2\"}, {\"date\": \"1874-01-02\", \"total_results\": 0, \"total_articles\": 0, \"url\": \"https://trove.nla.gov.au/search/category/newspapers?keyword=text%3A%22darling%20wife%22%20date%3A%5B1850%20TO%201954%5D&l-decade=187&l-year=1874\", \"id\": \"Query 2\"}, {\"date\": \"1875-01-02\", \"total_results\": 0, \"total_articles\": 0, \"url\": \"https://trove.nla.gov.au/search/category/newspapers?keyword=text%3A%22darling%20wife%22%20date%3A%5B1850%20TO%201954%5D&l-decade=187&l-year=1875\", \"id\": \"Query 2\"}, {\"date\": \"1876-01-02\", \"total_results\": 0, \"total_articles\": 0, \"url\": \"https://trove.nla.gov.au/search/category/newspapers?keyword=text%3A%22darling%20wife%22%20date%3A%5B1850%20TO%201954%5D&l-decade=187&l-year=1876\", \"id\": \"Query 2\"}, {\"date\": \"1877-01-02\", \"total_results\": 0, \"total_articles\": 0, \"url\": \"https://trove.nla.gov.au/search/category/newspapers?keyword=text%3A%22darling%20wife%22%20date%3A%5B1850%20TO%201954%5D&l-decade=187&l-year=1877\", \"id\": \"Query 2\"}, {\"date\": \"1878-01-02\", \"total_results\": 0, \"total_articles\": 0, \"url\": \"https://trove.nla.gov.au/search/category/newspapers?keyword=text%3A%22darling%20wife%22%20date%3A%5B1850%20TO%201954%5D&l-decade=187&l-year=1878\", \"id\": \"Query 2\"}, {\"date\": \"1879-01-02\", \"total_results\": 0, \"total_articles\": 0, \"url\": \"https://trove.nla.gov.au/search/category/newspapers?keyword=text%3A%22darling%20wife%22%20date%3A%5B1850%20TO%201954%5D&l-decade=187&l-year=1879\", \"id\": \"Query 2\"}, {\"date\": \"1880-01-02\", \"total_results\": 0, \"total_articles\": 0, \"url\": \"https://trove.nla.gov.au/search/category/newspapers?keyword=text%3A%22darling%20wife%22%20date%3A%5B1850%20TO%201954%5D&l-decade=188&l-year=1880\", \"id\": \"Query 2\"}, {\"date\": \"1881-01-02\", \"total_results\": 0, \"total_articles\": 0, \"url\": \"https://trove.nla.gov.au/search/category/newspapers?keyword=text%3A%22darling%20wife%22%20date%3A%5B1850%20TO%201954%5D&l-decade=188&l-year=1881\", \"id\": \"Query 2\"}, {\"date\": \"1882-01-02\", \"total_results\": 0, \"total_articles\": 0, \"url\": \"https://trove.nla.gov.au/search/category/newspapers?keyword=text%3A%22darling%20wife%22%20date%3A%5B1850%20TO%201954%5D&l-decade=188&l-year=1882\", \"id\": \"Query 2\"}, {\"date\": \"1883-01-02\", \"total_results\": 0, \"total_articles\": 0, \"url\": \"https://trove.nla.gov.au/search/category/newspapers?keyword=text%3A%22darling%20wife%22%20date%3A%5B1850%20TO%201954%5D&l-decade=188&l-year=1883\", \"id\": \"Query 2\"}, {\"date\": \"1884-01-02\", \"total_results\": 0, \"total_articles\": 0, \"url\": \"https://trove.nla.gov.au/search/category/newspapers?keyword=text%3A%22darling%20wife%22%20date%3A%5B1850%20TO%201954%5D&l-decade=188&l-year=1884\", \"id\": \"Query 2\"}, {\"date\": \"1885-01-02\", \"total_results\": 0, \"total_articles\": 0, \"url\": \"https://trove.nla.gov.au/search/category/newspapers?keyword=text%3A%22darling%20wife%22%20date%3A%5B1850%20TO%201954%5D&l-decade=188&l-year=1885\", \"id\": \"Query 2\"}, {\"date\": \"1886-01-02\", \"total_results\": 0, \"total_articles\": 0, \"url\": \"https://trove.nla.gov.au/search/category/newspapers?keyword=text%3A%22darling%20wife%22%20date%3A%5B1850%20TO%201954%5D&l-decade=188&l-year=1886\", \"id\": \"Query 2\"}, {\"date\": \"1887-01-02\", \"total_results\": 0, \"total_articles\": 0, \"url\": \"https://trove.nla.gov.au/search/category/newspapers?keyword=text%3A%22darling%20wife%22%20date%3A%5B1850%20TO%201954%5D&l-decade=188&l-year=1887\", \"id\": \"Query 2\"}, {\"date\": \"1888-01-02\", \"total_results\": 0, \"total_articles\": 0, \"url\": \"https://trove.nla.gov.au/search/category/newspapers?keyword=text%3A%22darling%20wife%22%20date%3A%5B1850%20TO%201954%5D&l-decade=188&l-year=1888\", \"id\": \"Query 2\"}, {\"date\": \"1889-01-02\", \"total_results\": 0, \"total_articles\": 0, \"url\": \"https://trove.nla.gov.au/search/category/newspapers?keyword=text%3A%22darling%20wife%22%20date%3A%5B1850%20TO%201954%5D&l-decade=188&l-year=1889\", \"id\": \"Query 2\"}, {\"date\": \"1890-01-02\", \"total_results\": 0, \"total_articles\": 0, \"url\": \"https://trove.nla.gov.au/search/category/newspapers?keyword=text%3A%22darling%20wife%22%20date%3A%5B1850%20TO%201954%5D&l-decade=189&l-year=1890\", \"id\": \"Query 2\"}, {\"date\": \"1891-01-02\", \"total_results\": 0, \"total_articles\": 0, \"url\": \"https://trove.nla.gov.au/search/category/newspapers?keyword=text%3A%22darling%20wife%22%20date%3A%5B1850%20TO%201954%5D&l-decade=189&l-year=1891\", \"id\": \"Query 2\"}, {\"date\": \"1892-01-02\", \"total_results\": 0, \"total_articles\": 0, \"url\": \"https://trove.nla.gov.au/search/category/newspapers?keyword=text%3A%22darling%20wife%22%20date%3A%5B1850%20TO%201954%5D&l-decade=189&l-year=1892\", \"id\": \"Query 2\"}, {\"date\": \"1893-01-02\", \"total_results\": 0, \"total_articles\": 0, \"url\": \"https://trove.nla.gov.au/search/category/newspapers?keyword=text%3A%22darling%20wife%22%20date%3A%5B1850%20TO%201954%5D&l-decade=189&l-year=1893\", \"id\": \"Query 2\"}, {\"date\": \"1894-01-02\", \"total_results\": 0, \"total_articles\": 0, \"url\": \"https://trove.nla.gov.au/search/category/newspapers?keyword=text%3A%22darling%20wife%22%20date%3A%5B1850%20TO%201954%5D&l-decade=189&l-year=1894\", \"id\": \"Query 2\"}, {\"date\": \"1895-01-02\", \"total_results\": 0, \"total_articles\": 0, \"url\": \"https://trove.nla.gov.au/search/category/newspapers?keyword=text%3A%22darling%20wife%22%20date%3A%5B1850%20TO%201954%5D&l-decade=189&l-year=1895\", \"id\": \"Query 2\"}, {\"date\": \"1896-01-02\", \"total_results\": 0, \"total_articles\": 0, \"url\": \"https://trove.nla.gov.au/search/category/newspapers?keyword=text%3A%22darling%20wife%22%20date%3A%5B1850%20TO%201954%5D&l-decade=189&l-year=1896\", \"id\": \"Query 2\"}, {\"date\": \"1897-01-02\", \"total_results\": 0, \"total_articles\": 0, \"url\": \"https://trove.nla.gov.au/search/category/newspapers?keyword=text%3A%22darling%20wife%22%20date%3A%5B1850%20TO%201954%5D&l-decade=189&l-year=1897\", \"id\": \"Query 2\"}, {\"date\": \"1898-01-02\", \"total_results\": 0, \"total_articles\": 0, \"url\": \"https://trove.nla.gov.au/search/category/newspapers?keyword=text%3A%22darling%20wife%22%20date%3A%5B1850%20TO%201954%5D&l-decade=189&l-year=1898\", \"id\": \"Query 2\"}, {\"date\": \"1899-01-02\", \"total_results\": 0, \"total_articles\": 0, \"url\": \"https://trove.nla.gov.au/search/category/newspapers?keyword=text%3A%22darling%20wife%22%20date%3A%5B1850%20TO%201954%5D&l-decade=189&l-year=1899\", \"id\": \"Query 2\"}, {\"date\": \"1900-01-02\", \"total_results\": 0, \"total_articles\": 0, \"url\": \"https://trove.nla.gov.au/search/category/newspapers?keyword=text%3A%22darling%20wife%22%20date%3A%5B1850%20TO%201954%5D&l-decade=190&l-year=1900\", \"id\": \"Query 2\"}, {\"date\": \"1901-01-02\", \"total_results\": 0, \"total_articles\": 0, \"url\": \"https://trove.nla.gov.au/search/category/newspapers?keyword=text%3A%22darling%20wife%22%20date%3A%5B1850%20TO%201954%5D&l-decade=190&l-year=1901\", \"id\": \"Query 2\"}, {\"date\": \"1902-01-02\", \"total_results\": 0, \"total_articles\": 0, \"url\": \"https://trove.nla.gov.au/search/category/newspapers?keyword=text%3A%22darling%20wife%22%20date%3A%5B1850%20TO%201954%5D&l-decade=190&l-year=1902\", \"id\": \"Query 2\"}, {\"date\": \"1903-01-02\", \"total_results\": 0, \"total_articles\": 0, \"url\": \"https://trove.nla.gov.au/search/category/newspapers?keyword=text%3A%22darling%20wife%22%20date%3A%5B1850%20TO%201954%5D&l-decade=190&l-year=1903\", \"id\": \"Query 2\"}, {\"date\": \"1904-01-02\", \"total_results\": 0, \"total_articles\": 0, \"url\": \"https://trove.nla.gov.au/search/category/newspapers?keyword=text%3A%22darling%20wife%22%20date%3A%5B1850%20TO%201954%5D&l-decade=190&l-year=1904\", \"id\": \"Query 2\"}, {\"date\": \"1905-01-02\", \"total_results\": 0, \"total_articles\": 0, \"url\": \"https://trove.nla.gov.au/search/category/newspapers?keyword=text%3A%22darling%20wife%22%20date%3A%5B1850%20TO%201954%5D&l-decade=190&l-year=1905\", \"id\": \"Query 2\"}, {\"date\": \"1906-01-02\", \"total_results\": 0, \"total_articles\": 0, \"url\": \"https://trove.nla.gov.au/search/category/newspapers?keyword=text%3A%22darling%20wife%22%20date%3A%5B1850%20TO%201954%5D&l-decade=190&l-year=1906\", \"id\": \"Query 2\"}, {\"date\": \"1907-01-02\", \"total_results\": 0, \"total_articles\": 0, \"url\": \"https://trove.nla.gov.au/search/category/newspapers?keyword=text%3A%22darling%20wife%22%20date%3A%5B1850%20TO%201954%5D&l-decade=190&l-year=1907\", \"id\": \"Query 2\"}, {\"date\": \"1908-01-02\", \"total_results\": 0, \"total_articles\": 0, \"url\": \"https://trove.nla.gov.au/search/category/newspapers?keyword=text%3A%22darling%20wife%22%20date%3A%5B1850%20TO%201954%5D&l-decade=190&l-year=1908\", \"id\": \"Query 2\"}, {\"date\": \"1909-01-02\", \"total_results\": 0, \"total_articles\": 0, \"url\": \"https://trove.nla.gov.au/search/category/newspapers?keyword=text%3A%22darling%20wife%22%20date%3A%5B1850%20TO%201954%5D&l-decade=190&l-year=1909\", \"id\": \"Query 2\"}, {\"date\": \"1910-01-02\", \"total_results\": 0, \"total_articles\": 0, \"url\": \"https://trove.nla.gov.au/search/category/newspapers?keyword=text%3A%22darling%20wife%22%20date%3A%5B1850%20TO%201954%5D&l-decade=191&l-year=1910\", \"id\": \"Query 2\"}, {\"date\": \"1911-01-02\", \"total_results\": 0, \"total_articles\": 0, \"url\": \"https://trove.nla.gov.au/search/category/newspapers?keyword=text%3A%22darling%20wife%22%20date%3A%5B1850%20TO%201954%5D&l-decade=191&l-year=1911\", \"id\": \"Query 2\"}, {\"date\": \"1912-01-02\", \"total_results\": 0, \"total_articles\": 0, \"url\": \"https://trove.nla.gov.au/search/category/newspapers?keyword=text%3A%22darling%20wife%22%20date%3A%5B1850%20TO%201954%5D&l-decade=191&l-year=1912\", \"id\": \"Query 2\"}, {\"date\": \"1913-01-02\", \"total_results\": 0, \"total_articles\": 0, \"url\": \"https://trove.nla.gov.au/search/category/newspapers?keyword=text%3A%22darling%20wife%22%20date%3A%5B1850%20TO%201954%5D&l-decade=191&l-year=1913\", \"id\": \"Query 2\"}, {\"date\": \"1914-01-02\", \"total_results\": 0, \"total_articles\": 0, \"url\": \"https://trove.nla.gov.au/search/category/newspapers?keyword=text%3A%22darling%20wife%22%20date%3A%5B1850%20TO%201954%5D&l-decade=191&l-year=1914\", \"id\": \"Query 2\"}, {\"date\": \"1915-01-02\", \"total_results\": 0, \"total_articles\": 0, \"url\": \"https://trove.nla.gov.au/search/category/newspapers?keyword=text%3A%22darling%20wife%22%20date%3A%5B1850%20TO%201954%5D&l-decade=191&l-year=1915\", \"id\": \"Query 2\"}, {\"date\": \"1916-01-02\", \"total_results\": 0, \"total_articles\": 0, \"url\": \"https://trove.nla.gov.au/search/category/newspapers?keyword=text%3A%22darling%20wife%22%20date%3A%5B1850%20TO%201954%5D&l-decade=191&l-year=1916\", \"id\": \"Query 2\"}, {\"date\": \"1917-01-02\", \"total_results\": 0, \"total_articles\": 0, \"url\": \"https://trove.nla.gov.au/search/category/newspapers?keyword=text%3A%22darling%20wife%22%20date%3A%5B1850%20TO%201954%5D&l-decade=191&l-year=1917\", \"id\": \"Query 2\"}, {\"date\": \"1918-01-02\", \"total_results\": 0, \"total_articles\": 0, \"url\": \"https://trove.nla.gov.au/search/category/newspapers?keyword=text%3A%22darling%20wife%22%20date%3A%5B1850%20TO%201954%5D&l-decade=191&l-year=1918\", \"id\": \"Query 2\"}, {\"date\": \"1919-01-02\", \"total_results\": 0, \"total_articles\": 0, \"url\": \"https://trove.nla.gov.au/search/category/newspapers?keyword=text%3A%22darling%20wife%22%20date%3A%5B1850%20TO%201954%5D&l-decade=191&l-year=1919\", \"id\": \"Query 2\"}, {\"date\": \"1920-01-02\", \"total_results\": 0, \"total_articles\": 0, \"url\": \"https://trove.nla.gov.au/search/category/newspapers?keyword=text%3A%22darling%20wife%22%20date%3A%5B1850%20TO%201954%5D&l-decade=192&l-year=1920\", \"id\": \"Query 2\"}, {\"date\": \"1921-01-02\", \"total_results\": 0, \"total_articles\": 0, \"url\": \"https://trove.nla.gov.au/search/category/newspapers?keyword=text%3A%22darling%20wife%22%20date%3A%5B1850%20TO%201954%5D&l-decade=192&l-year=1921\", \"id\": \"Query 2\"}, {\"date\": \"1922-01-02\", \"total_results\": 0, \"total_articles\": 0, \"url\": \"https://trove.nla.gov.au/search/category/newspapers?keyword=text%3A%22darling%20wife%22%20date%3A%5B1850%20TO%201954%5D&l-decade=192&l-year=1922\", \"id\": \"Query 2\"}, {\"date\": \"1923-01-02\", \"total_results\": 0, \"total_articles\": 0, \"url\": \"https://trove.nla.gov.au/search/category/newspapers?keyword=text%3A%22darling%20wife%22%20date%3A%5B1850%20TO%201954%5D&l-decade=192&l-year=1923\", \"id\": \"Query 2\"}, {\"date\": \"1924-01-02\", \"total_results\": 0, \"total_articles\": 0, \"url\": \"https://trove.nla.gov.au/search/category/newspapers?keyword=text%3A%22darling%20wife%22%20date%3A%5B1850%20TO%201954%5D&l-decade=192&l-year=1924\", \"id\": \"Query 2\"}, {\"date\": \"1925-01-02\", \"total_results\": 0, \"total_articles\": 0, \"url\": \"https://trove.nla.gov.au/search/category/newspapers?keyword=text%3A%22darling%20wife%22%20date%3A%5B1850%20TO%201954%5D&l-decade=192&l-year=1925\", \"id\": \"Query 2\"}, {\"date\": \"1926-01-02\", \"total_results\": 0, \"total_articles\": 0, \"url\": \"https://trove.nla.gov.au/search/category/newspapers?keyword=text%3A%22darling%20wife%22%20date%3A%5B1850%20TO%201954%5D&l-decade=192&l-year=1926\", \"id\": \"Query 2\"}, {\"date\": \"1927-01-02\", \"total_results\": 0, \"total_articles\": 0, \"url\": \"https://trove.nla.gov.au/search/category/newspapers?keyword=text%3A%22darling%20wife%22%20date%3A%5B1850%20TO%201954%5D&l-decade=192&l-year=1927\", \"id\": \"Query 2\"}, {\"date\": \"1928-01-02\", \"total_results\": 0, \"total_articles\": 0, \"url\": \"https://trove.nla.gov.au/search/category/newspapers?keyword=text%3A%22darling%20wife%22%20date%3A%5B1850%20TO%201954%5D&l-decade=192&l-year=1928\", \"id\": \"Query 2\"}, {\"date\": \"1929-01-02\", \"total_results\": 0, \"total_articles\": 0, \"url\": \"https://trove.nla.gov.au/search/category/newspapers?keyword=text%3A%22darling%20wife%22%20date%3A%5B1850%20TO%201954%5D&l-decade=192&l-year=1929\", \"id\": \"Query 2\"}, {\"date\": \"1930-01-02\", \"total_results\": 0, \"total_articles\": 0, \"url\": \"https://trove.nla.gov.au/search/category/newspapers?keyword=text%3A%22darling%20wife%22%20date%3A%5B1850%20TO%201954%5D&l-decade=193&l-year=1930\", \"id\": \"Query 2\"}, {\"date\": \"1931-01-02\", \"total_results\": 0, \"total_articles\": 0, \"url\": \"https://trove.nla.gov.au/search/category/newspapers?keyword=text%3A%22darling%20wife%22%20date%3A%5B1850%20TO%201954%5D&l-decade=193&l-year=1931\", \"id\": \"Query 2\"}, {\"date\": \"1932-01-02\", \"total_results\": 0, \"total_articles\": 0, \"url\": \"https://trove.nla.gov.au/search/category/newspapers?keyword=text%3A%22darling%20wife%22%20date%3A%5B1850%20TO%201954%5D&l-decade=193&l-year=1932\", \"id\": \"Query 2\"}, {\"date\": \"1933-01-02\", \"total_results\": 0, \"total_articles\": 0, \"url\": \"https://trove.nla.gov.au/search/category/newspapers?keyword=text%3A%22darling%20wife%22%20date%3A%5B1850%20TO%201954%5D&l-decade=193&l-year=1933\", \"id\": \"Query 2\"}, {\"date\": \"1934-01-02\", \"total_results\": 0, \"total_articles\": 0, \"url\": \"https://trove.nla.gov.au/search/category/newspapers?keyword=text%3A%22darling%20wife%22%20date%3A%5B1850%20TO%201954%5D&l-decade=193&l-year=1934\", \"id\": \"Query 2\"}, {\"date\": \"1935-01-02\", \"total_results\": 0, \"total_articles\": 0, \"url\": \"https://trove.nla.gov.au/search/category/newspapers?keyword=text%3A%22darling%20wife%22%20date%3A%5B1850%20TO%201954%5D&l-decade=193&l-year=1935\", \"id\": \"Query 2\"}, {\"date\": \"1936-01-02\", \"total_results\": 0, \"total_articles\": 0, \"url\": \"https://trove.nla.gov.au/search/category/newspapers?keyword=text%3A%22darling%20wife%22%20date%3A%5B1850%20TO%201954%5D&l-decade=193&l-year=1936\", \"id\": \"Query 2\"}, {\"date\": \"1937-01-02\", \"total_results\": 0, \"total_articles\": 0, \"url\": \"https://trove.nla.gov.au/search/category/newspapers?keyword=text%3A%22darling%20wife%22%20date%3A%5B1850%20TO%201954%5D&l-decade=193&l-year=1937\", \"id\": \"Query 2\"}, {\"date\": \"1938-01-02\", \"total_results\": 0, \"total_articles\": 0, \"url\": \"https://trove.nla.gov.au/search/category/newspapers?keyword=text%3A%22darling%20wife%22%20date%3A%5B1850%20TO%201954%5D&l-decade=193&l-year=1938\", \"id\": \"Query 2\"}, {\"date\": \"1939-01-02\", \"total_results\": 0, \"total_articles\": 0, \"url\": \"https://trove.nla.gov.au/search/category/newspapers?keyword=text%3A%22darling%20wife%22%20date%3A%5B1850%20TO%201954%5D&l-decade=193&l-year=1939\", \"id\": \"Query 2\"}, {\"date\": \"1940-01-02\", \"total_results\": 0, \"total_articles\": 0, \"url\": \"https://trove.nla.gov.au/search/category/newspapers?keyword=text%3A%22darling%20wife%22%20date%3A%5B1850%20TO%201954%5D&l-decade=194&l-year=1940\", \"id\": \"Query 2\"}, {\"date\": \"1941-01-02\", \"total_results\": 0, \"total_articles\": 0, \"url\": \"https://trove.nla.gov.au/search/category/newspapers?keyword=text%3A%22darling%20wife%22%20date%3A%5B1850%20TO%201954%5D&l-decade=194&l-year=1941\", \"id\": \"Query 2\"}, {\"date\": \"1942-01-02\", \"total_results\": 0, \"total_articles\": 0, \"url\": \"https://trove.nla.gov.au/search/category/newspapers?keyword=text%3A%22darling%20wife%22%20date%3A%5B1850%20TO%201954%5D&l-decade=194&l-year=1942\", \"id\": \"Query 2\"}, {\"date\": \"1943-01-02\", \"total_results\": 0, \"total_articles\": 0, \"url\": \"https://trove.nla.gov.au/search/category/newspapers?keyword=text%3A%22darling%20wife%22%20date%3A%5B1850%20TO%201954%5D&l-decade=194&l-year=1943\", \"id\": \"Query 2\"}, {\"date\": \"1944-01-02\", \"total_results\": 0, \"total_articles\": 0, \"url\": \"https://trove.nla.gov.au/search/category/newspapers?keyword=text%3A%22darling%20wife%22%20date%3A%5B1850%20TO%201954%5D&l-decade=194&l-year=1944\", \"id\": \"Query 2\"}, {\"date\": \"1945-01-02\", \"total_results\": 0, \"total_articles\": 0, \"url\": \"https://trove.nla.gov.au/search/category/newspapers?keyword=text%3A%22darling%20wife%22%20date%3A%5B1850%20TO%201954%5D&l-decade=194&l-year=1945\", \"id\": \"Query 2\"}, {\"date\": \"1946-01-02\", \"total_results\": 0, \"total_articles\": 0, \"url\": \"https://trove.nla.gov.au/search/category/newspapers?keyword=text%3A%22darling%20wife%22%20date%3A%5B1850%20TO%201954%5D&l-decade=194&l-year=1946\", \"id\": \"Query 2\"}, {\"date\": \"1947-01-02\", \"total_results\": 0, \"total_articles\": 0, \"url\": \"https://trove.nla.gov.au/search/category/newspapers?keyword=text%3A%22darling%20wife%22%20date%3A%5B1850%20TO%201954%5D&l-decade=194&l-year=1947\", \"id\": \"Query 2\"}, {\"date\": \"1948-01-02\", \"total_results\": 0, \"total_articles\": 0, \"url\": \"https://trove.nla.gov.au/search/category/newspapers?keyword=text%3A%22darling%20wife%22%20date%3A%5B1850%20TO%201954%5D&l-decade=194&l-year=1948\", \"id\": \"Query 2\"}, {\"date\": \"1949-01-02\", \"total_results\": 0, \"total_articles\": 0, \"url\": \"https://trove.nla.gov.au/search/category/newspapers?keyword=text%3A%22darling%20wife%22%20date%3A%5B1850%20TO%201954%5D&l-decade=194&l-year=1949\", \"id\": \"Query 2\"}, {\"date\": \"1950-01-02\", \"total_results\": 0, \"total_articles\": 0, \"url\": \"https://trove.nla.gov.au/search/category/newspapers?keyword=text%3A%22darling%20wife%22%20date%3A%5B1850%20TO%201954%5D&l-decade=195&l-year=1950\", \"id\": \"Query 2\"}, {\"date\": \"1951-01-02\", \"total_results\": 0, \"total_articles\": 0, \"url\": \"https://trove.nla.gov.au/search/category/newspapers?keyword=text%3A%22darling%20wife%22%20date%3A%5B1850%20TO%201954%5D&l-decade=195&l-year=1951\", \"id\": \"Query 2\"}, {\"date\": \"1952-01-02\", \"total_results\": 0, \"total_articles\": 0, \"url\": \"https://trove.nla.gov.au/search/category/newspapers?keyword=text%3A%22darling%20wife%22%20date%3A%5B1850%20TO%201954%5D&l-decade=195&l-year=1952\", \"id\": \"Query 2\"}, {\"date\": \"1953-01-02\", \"total_results\": 0, \"total_articles\": 0, \"url\": \"https://trove.nla.gov.au/search/category/newspapers?keyword=text%3A%22darling%20wife%22%20date%3A%5B1850%20TO%201954%5D&l-decade=195&l-year=1953\", \"id\": \"Query 2\"}, {\"date\": \"1850-01-02\", \"total_results\": 0, \"total_articles\": 0, \"url\": \"https://trove.nla.gov.au/search/category/newspapers?keyword=text%3A%22darling%20wife%22%20date%3A%5B1850%20TO%201954%5D&l-decade=185&l-year=1850\", \"id\": \"Query 3\"}, {\"date\": \"1851-01-02\", \"total_results\": 0, \"total_articles\": 0, \"url\": \"https://trove.nla.gov.au/search/category/newspapers?keyword=text%3A%22darling%20wife%22%20date%3A%5B1850%20TO%201954%5D&l-decade=185&l-year=1851\", \"id\": \"Query 3\"}, {\"date\": \"1852-01-02\", \"total_results\": 0, \"total_articles\": 0, \"url\": \"https://trove.nla.gov.au/search/category/newspapers?keyword=text%3A%22darling%20wife%22%20date%3A%5B1850%20TO%201954%5D&l-decade=185&l-year=1852\", \"id\": \"Query 3\"}, {\"date\": \"1853-01-02\", \"total_results\": 0, \"total_articles\": 0, \"url\": \"https://trove.nla.gov.au/search/category/newspapers?keyword=text%3A%22darling%20wife%22%20date%3A%5B1850%20TO%201954%5D&l-decade=185&l-year=1853\", \"id\": \"Query 3\"}, {\"date\": \"1854-01-02\", \"total_results\": 0, \"total_articles\": 0, \"url\": \"https://trove.nla.gov.au/search/category/newspapers?keyword=text%3A%22darling%20wife%22%20date%3A%5B1850%20TO%201954%5D&l-decade=185&l-year=1854\", \"id\": \"Query 3\"}, {\"date\": \"1855-01-02\", \"total_results\": 0, \"total_articles\": 0, \"url\": \"https://trove.nla.gov.au/search/category/newspapers?keyword=text%3A%22darling%20wife%22%20date%3A%5B1850%20TO%201954%5D&l-decade=185&l-year=1855\", \"id\": \"Query 3\"}, {\"date\": \"1856-01-02\", \"total_results\": 0, \"total_articles\": 0, \"url\": \"https://trove.nla.gov.au/search/category/newspapers?keyword=text%3A%22darling%20wife%22%20date%3A%5B1850%20TO%201954%5D&l-decade=185&l-year=1856\", \"id\": \"Query 3\"}, {\"date\": \"1857-01-02\", \"total_results\": 0, \"total_articles\": 0, \"url\": \"https://trove.nla.gov.au/search/category/newspapers?keyword=text%3A%22darling%20wife%22%20date%3A%5B1850%20TO%201954%5D&l-decade=185&l-year=1857\", \"id\": \"Query 3\"}, {\"date\": \"1858-01-02\", \"total_results\": 0, \"total_articles\": 0, \"url\": \"https://trove.nla.gov.au/search/category/newspapers?keyword=text%3A%22darling%20wife%22%20date%3A%5B1850%20TO%201954%5D&l-decade=185&l-year=1858\", \"id\": \"Query 3\"}, {\"date\": \"1859-01-02\", \"total_results\": 0, \"total_articles\": 0, \"url\": \"https://trove.nla.gov.au/search/category/newspapers?keyword=text%3A%22darling%20wife%22%20date%3A%5B1850%20TO%201954%5D&l-decade=185&l-year=1859\", \"id\": \"Query 3\"}, {\"date\": \"1860-01-02\", \"total_results\": 0, \"total_articles\": 0, \"url\": \"https://trove.nla.gov.au/search/category/newspapers?keyword=text%3A%22darling%20wife%22%20date%3A%5B1850%20TO%201954%5D&l-decade=186&l-year=1860\", \"id\": \"Query 3\"}, {\"date\": \"1861-01-02\", \"total_results\": 0, \"total_articles\": 0, \"url\": \"https://trove.nla.gov.au/search/category/newspapers?keyword=text%3A%22darling%20wife%22%20date%3A%5B1850%20TO%201954%5D&l-decade=186&l-year=1861\", \"id\": \"Query 3\"}, {\"date\": \"1862-01-02\", \"total_results\": 0, \"total_articles\": 0, \"url\": \"https://trove.nla.gov.au/search/category/newspapers?keyword=text%3A%22darling%20wife%22%20date%3A%5B1850%20TO%201954%5D&l-decade=186&l-year=1862\", \"id\": \"Query 3\"}, {\"date\": \"1863-01-02\", \"total_results\": 0, \"total_articles\": 0, \"url\": \"https://trove.nla.gov.au/search/category/newspapers?keyword=text%3A%22darling%20wife%22%20date%3A%5B1850%20TO%201954%5D&l-decade=186&l-year=1863\", \"id\": \"Query 3\"}, {\"date\": \"1864-01-02\", \"total_results\": 0, \"total_articles\": 0, \"url\": \"https://trove.nla.gov.au/search/category/newspapers?keyword=text%3A%22darling%20wife%22%20date%3A%5B1850%20TO%201954%5D&l-decade=186&l-year=1864\", \"id\": \"Query 3\"}, {\"date\": \"1865-01-02\", \"total_results\": 0, \"total_articles\": 0, \"url\": \"https://trove.nla.gov.au/search/category/newspapers?keyword=text%3A%22darling%20wife%22%20date%3A%5B1850%20TO%201954%5D&l-decade=186&l-year=1865\", \"id\": \"Query 3\"}, {\"date\": \"1866-01-02\", \"total_results\": 0, \"total_articles\": 0, \"url\": \"https://trove.nla.gov.au/search/category/newspapers?keyword=text%3A%22darling%20wife%22%20date%3A%5B1850%20TO%201954%5D&l-decade=186&l-year=1866\", \"id\": \"Query 3\"}, {\"date\": \"1867-01-02\", \"total_results\": 0, \"total_articles\": 0, \"url\": \"https://trove.nla.gov.au/search/category/newspapers?keyword=text%3A%22darling%20wife%22%20date%3A%5B1850%20TO%201954%5D&l-decade=186&l-year=1867\", \"id\": \"Query 3\"}, {\"date\": \"1868-01-02\", \"total_results\": 0, \"total_articles\": 0, \"url\": \"https://trove.nla.gov.au/search/category/newspapers?keyword=text%3A%22darling%20wife%22%20date%3A%5B1850%20TO%201954%5D&l-decade=186&l-year=1868\", \"id\": \"Query 3\"}, {\"date\": \"1869-01-02\", \"total_results\": 0, \"total_articles\": 0, \"url\": \"https://trove.nla.gov.au/search/category/newspapers?keyword=text%3A%22darling%20wife%22%20date%3A%5B1850%20TO%201954%5D&l-decade=186&l-year=1869\", \"id\": \"Query 3\"}, {\"date\": \"1870-01-02\", \"total_results\": 0, \"total_articles\": 0, \"url\": \"https://trove.nla.gov.au/search/category/newspapers?keyword=text%3A%22darling%20wife%22%20date%3A%5B1850%20TO%201954%5D&l-decade=187&l-year=1870\", \"id\": \"Query 3\"}, {\"date\": \"1871-01-02\", \"total_results\": 0, \"total_articles\": 0, \"url\": \"https://trove.nla.gov.au/search/category/newspapers?keyword=text%3A%22darling%20wife%22%20date%3A%5B1850%20TO%201954%5D&l-decade=187&l-year=1871\", \"id\": \"Query 3\"}, {\"date\": \"1872-01-02\", \"total_results\": 0, \"total_articles\": 0, \"url\": \"https://trove.nla.gov.au/search/category/newspapers?keyword=text%3A%22darling%20wife%22%20date%3A%5B1850%20TO%201954%5D&l-decade=187&l-year=1872\", \"id\": \"Query 3\"}, {\"date\": \"1873-01-02\", \"total_results\": 0, \"total_articles\": 0, \"url\": \"https://trove.nla.gov.au/search/category/newspapers?keyword=text%3A%22darling%20wife%22%20date%3A%5B1850%20TO%201954%5D&l-decade=187&l-year=1873\", \"id\": \"Query 3\"}, {\"date\": \"1874-01-02\", \"total_results\": 0, \"total_articles\": 0, \"url\": \"https://trove.nla.gov.au/search/category/newspapers?keyword=text%3A%22darling%20wife%22%20date%3A%5B1850%20TO%201954%5D&l-decade=187&l-year=1874\", \"id\": \"Query 3\"}, {\"date\": \"1875-01-02\", \"total_results\": 0, \"total_articles\": 0, \"url\": \"https://trove.nla.gov.au/search/category/newspapers?keyword=text%3A%22darling%20wife%22%20date%3A%5B1850%20TO%201954%5D&l-decade=187&l-year=1875\", \"id\": \"Query 3\"}, {\"date\": \"1876-01-02\", \"total_results\": 0, \"total_articles\": 0, \"url\": \"https://trove.nla.gov.au/search/category/newspapers?keyword=text%3A%22darling%20wife%22%20date%3A%5B1850%20TO%201954%5D&l-decade=187&l-year=1876\", \"id\": \"Query 3\"}, {\"date\": \"1877-01-02\", \"total_results\": 0, \"total_articles\": 0, \"url\": \"https://trove.nla.gov.au/search/category/newspapers?keyword=text%3A%22darling%20wife%22%20date%3A%5B1850%20TO%201954%5D&l-decade=187&l-year=1877\", \"id\": \"Query 3\"}, {\"date\": \"1878-01-02\", \"total_results\": 0, \"total_articles\": 0, \"url\": \"https://trove.nla.gov.au/search/category/newspapers?keyword=text%3A%22darling%20wife%22%20date%3A%5B1850%20TO%201954%5D&l-decade=187&l-year=1878\", \"id\": \"Query 3\"}, {\"date\": \"1879-01-02\", \"total_results\": 0, \"total_articles\": 0, \"url\": \"https://trove.nla.gov.au/search/category/newspapers?keyword=text%3A%22darling%20wife%22%20date%3A%5B1850%20TO%201954%5D&l-decade=187&l-year=1879\", \"id\": \"Query 3\"}, {\"date\": \"1880-01-02\", \"total_results\": 0, \"total_articles\": 0, \"url\": \"https://trove.nla.gov.au/search/category/newspapers?keyword=text%3A%22darling%20wife%22%20date%3A%5B1850%20TO%201954%5D&l-decade=188&l-year=1880\", \"id\": \"Query 3\"}, {\"date\": \"1881-01-02\", \"total_results\": 0, \"total_articles\": 0, \"url\": \"https://trove.nla.gov.au/search/category/newspapers?keyword=text%3A%22darling%20wife%22%20date%3A%5B1850%20TO%201954%5D&l-decade=188&l-year=1881\", \"id\": \"Query 3\"}, {\"date\": \"1882-01-02\", \"total_results\": 0, \"total_articles\": 0, \"url\": \"https://trove.nla.gov.au/search/category/newspapers?keyword=text%3A%22darling%20wife%22%20date%3A%5B1850%20TO%201954%5D&l-decade=188&l-year=1882\", \"id\": \"Query 3\"}, {\"date\": \"1883-01-02\", \"total_results\": 0, \"total_articles\": 0, \"url\": \"https://trove.nla.gov.au/search/category/newspapers?keyword=text%3A%22darling%20wife%22%20date%3A%5B1850%20TO%201954%5D&l-decade=188&l-year=1883\", \"id\": \"Query 3\"}, {\"date\": \"1884-01-02\", \"total_results\": 0, \"total_articles\": 0, \"url\": \"https://trove.nla.gov.au/search/category/newspapers?keyword=text%3A%22darling%20wife%22%20date%3A%5B1850%20TO%201954%5D&l-decade=188&l-year=1884\", \"id\": \"Query 3\"}, {\"date\": \"1885-01-02\", \"total_results\": 0, \"total_articles\": 0, \"url\": \"https://trove.nla.gov.au/search/category/newspapers?keyword=text%3A%22darling%20wife%22%20date%3A%5B1850%20TO%201954%5D&l-decade=188&l-year=1885\", \"id\": \"Query 3\"}, {\"date\": \"1886-01-02\", \"total_results\": 0, \"total_articles\": 0, \"url\": \"https://trove.nla.gov.au/search/category/newspapers?keyword=text%3A%22darling%20wife%22%20date%3A%5B1850%20TO%201954%5D&l-decade=188&l-year=1886\", \"id\": \"Query 3\"}, {\"date\": \"1887-01-02\", \"total_results\": 0, \"total_articles\": 0, \"url\": \"https://trove.nla.gov.au/search/category/newspapers?keyword=text%3A%22darling%20wife%22%20date%3A%5B1850%20TO%201954%5D&l-decade=188&l-year=1887\", \"id\": \"Query 3\"}, {\"date\": \"1888-01-02\", \"total_results\": 0, \"total_articles\": 0, \"url\": \"https://trove.nla.gov.au/search/category/newspapers?keyword=text%3A%22darling%20wife%22%20date%3A%5B1850%20TO%201954%5D&l-decade=188&l-year=1888\", \"id\": \"Query 3\"}, {\"date\": \"1889-01-02\", \"total_results\": 0, \"total_articles\": 0, \"url\": \"https://trove.nla.gov.au/search/category/newspapers?keyword=text%3A%22darling%20wife%22%20date%3A%5B1850%20TO%201954%5D&l-decade=188&l-year=1889\", \"id\": \"Query 3\"}, {\"date\": \"1890-01-02\", \"total_results\": 0, \"total_articles\": 0, \"url\": \"https://trove.nla.gov.au/search/category/newspapers?keyword=text%3A%22darling%20wife%22%20date%3A%5B1850%20TO%201954%5D&l-decade=189&l-year=1890\", \"id\": \"Query 3\"}, {\"date\": \"1891-01-02\", \"total_results\": 0, \"total_articles\": 0, \"url\": \"https://trove.nla.gov.au/search/category/newspapers?keyword=text%3A%22darling%20wife%22%20date%3A%5B1850%20TO%201954%5D&l-decade=189&l-year=1891\", \"id\": \"Query 3\"}, {\"date\": \"1892-01-02\", \"total_results\": 0, \"total_articles\": 0, \"url\": \"https://trove.nla.gov.au/search/category/newspapers?keyword=text%3A%22darling%20wife%22%20date%3A%5B1850%20TO%201954%5D&l-decade=189&l-year=1892\", \"id\": \"Query 3\"}, {\"date\": \"1893-01-02\", \"total_results\": 0, \"total_articles\": 0, \"url\": \"https://trove.nla.gov.au/search/category/newspapers?keyword=text%3A%22darling%20wife%22%20date%3A%5B1850%20TO%201954%5D&l-decade=189&l-year=1893\", \"id\": \"Query 3\"}, {\"date\": \"1894-01-02\", \"total_results\": 0, \"total_articles\": 0, \"url\": \"https://trove.nla.gov.au/search/category/newspapers?keyword=text%3A%22darling%20wife%22%20date%3A%5B1850%20TO%201954%5D&l-decade=189&l-year=1894\", \"id\": \"Query 3\"}, {\"date\": \"1895-01-02\", \"total_results\": 0, \"total_articles\": 0, \"url\": \"https://trove.nla.gov.au/search/category/newspapers?keyword=text%3A%22darling%20wife%22%20date%3A%5B1850%20TO%201954%5D&l-decade=189&l-year=1895\", \"id\": \"Query 3\"}, {\"date\": \"1896-01-02\", \"total_results\": 0, \"total_articles\": 0, \"url\": \"https://trove.nla.gov.au/search/category/newspapers?keyword=text%3A%22darling%20wife%22%20date%3A%5B1850%20TO%201954%5D&l-decade=189&l-year=1896\", \"id\": \"Query 3\"}, {\"date\": \"1897-01-02\", \"total_results\": 0, \"total_articles\": 0, \"url\": \"https://trove.nla.gov.au/search/category/newspapers?keyword=text%3A%22darling%20wife%22%20date%3A%5B1850%20TO%201954%5D&l-decade=189&l-year=1897\", \"id\": \"Query 3\"}, {\"date\": \"1898-01-02\", \"total_results\": 0, \"total_articles\": 0, \"url\": \"https://trove.nla.gov.au/search/category/newspapers?keyword=text%3A%22darling%20wife%22%20date%3A%5B1850%20TO%201954%5D&l-decade=189&l-year=1898\", \"id\": \"Query 3\"}, {\"date\": \"1899-01-02\", \"total_results\": 0, \"total_articles\": 0, \"url\": \"https://trove.nla.gov.au/search/category/newspapers?keyword=text%3A%22darling%20wife%22%20date%3A%5B1850%20TO%201954%5D&l-decade=189&l-year=1899\", \"id\": \"Query 3\"}, {\"date\": \"1900-01-02\", \"total_results\": 0, \"total_articles\": 0, \"url\": \"https://trove.nla.gov.au/search/category/newspapers?keyword=text%3A%22darling%20wife%22%20date%3A%5B1850%20TO%201954%5D&l-decade=190&l-year=1900\", \"id\": \"Query 3\"}, {\"date\": \"1901-01-02\", \"total_results\": 0, \"total_articles\": 0, \"url\": \"https://trove.nla.gov.au/search/category/newspapers?keyword=text%3A%22darling%20wife%22%20date%3A%5B1850%20TO%201954%5D&l-decade=190&l-year=1901\", \"id\": \"Query 3\"}, {\"date\": \"1902-01-02\", \"total_results\": 0, \"total_articles\": 0, \"url\": \"https://trove.nla.gov.au/search/category/newspapers?keyword=text%3A%22darling%20wife%22%20date%3A%5B1850%20TO%201954%5D&l-decade=190&l-year=1902\", \"id\": \"Query 3\"}, {\"date\": \"1903-01-02\", \"total_results\": 0, \"total_articles\": 0, \"url\": \"https://trove.nla.gov.au/search/category/newspapers?keyword=text%3A%22darling%20wife%22%20date%3A%5B1850%20TO%201954%5D&l-decade=190&l-year=1903\", \"id\": \"Query 3\"}, {\"date\": \"1904-01-02\", \"total_results\": 0, \"total_articles\": 0, \"url\": \"https://trove.nla.gov.au/search/category/newspapers?keyword=text%3A%22darling%20wife%22%20date%3A%5B1850%20TO%201954%5D&l-decade=190&l-year=1904\", \"id\": \"Query 3\"}, {\"date\": \"1905-01-02\", \"total_results\": 0, \"total_articles\": 0, \"url\": \"https://trove.nla.gov.au/search/category/newspapers?keyword=text%3A%22darling%20wife%22%20date%3A%5B1850%20TO%201954%5D&l-decade=190&l-year=1905\", \"id\": \"Query 3\"}, {\"date\": \"1906-01-02\", \"total_results\": 0, \"total_articles\": 0, \"url\": \"https://trove.nla.gov.au/search/category/newspapers?keyword=text%3A%22darling%20wife%22%20date%3A%5B1850%20TO%201954%5D&l-decade=190&l-year=1906\", \"id\": \"Query 3\"}, {\"date\": \"1907-01-02\", \"total_results\": 0, \"total_articles\": 0, \"url\": \"https://trove.nla.gov.au/search/category/newspapers?keyword=text%3A%22darling%20wife%22%20date%3A%5B1850%20TO%201954%5D&l-decade=190&l-year=1907\", \"id\": \"Query 3\"}, {\"date\": \"1908-01-02\", \"total_results\": 0, \"total_articles\": 0, \"url\": \"https://trove.nla.gov.au/search/category/newspapers?keyword=text%3A%22darling%20wife%22%20date%3A%5B1850%20TO%201954%5D&l-decade=190&l-year=1908\", \"id\": \"Query 3\"}, {\"date\": \"1909-01-02\", \"total_results\": 0, \"total_articles\": 0, \"url\": \"https://trove.nla.gov.au/search/category/newspapers?keyword=text%3A%22darling%20wife%22%20date%3A%5B1850%20TO%201954%5D&l-decade=190&l-year=1909\", \"id\": \"Query 3\"}, {\"date\": \"1910-01-02\", \"total_results\": 0, \"total_articles\": 0, \"url\": \"https://trove.nla.gov.au/search/category/newspapers?keyword=text%3A%22darling%20wife%22%20date%3A%5B1850%20TO%201954%5D&l-decade=191&l-year=1910\", \"id\": \"Query 3\"}, {\"date\": \"1911-01-02\", \"total_results\": 0, \"total_articles\": 0, \"url\": \"https://trove.nla.gov.au/search/category/newspapers?keyword=text%3A%22darling%20wife%22%20date%3A%5B1850%20TO%201954%5D&l-decade=191&l-year=1911\", \"id\": \"Query 3\"}, {\"date\": \"1912-01-02\", \"total_results\": 0, \"total_articles\": 0, \"url\": \"https://trove.nla.gov.au/search/category/newspapers?keyword=text%3A%22darling%20wife%22%20date%3A%5B1850%20TO%201954%5D&l-decade=191&l-year=1912\", \"id\": \"Query 3\"}, {\"date\": \"1913-01-02\", \"total_results\": 0, \"total_articles\": 0, \"url\": \"https://trove.nla.gov.au/search/category/newspapers?keyword=text%3A%22darling%20wife%22%20date%3A%5B1850%20TO%201954%5D&l-decade=191&l-year=1913\", \"id\": \"Query 3\"}, {\"date\": \"1914-01-02\", \"total_results\": 0, \"total_articles\": 0, \"url\": \"https://trove.nla.gov.au/search/category/newspapers?keyword=text%3A%22darling%20wife%22%20date%3A%5B1850%20TO%201954%5D&l-decade=191&l-year=1914\", \"id\": \"Query 3\"}, {\"date\": \"1915-01-02\", \"total_results\": 0, \"total_articles\": 0, \"url\": \"https://trove.nla.gov.au/search/category/newspapers?keyword=text%3A%22darling%20wife%22%20date%3A%5B1850%20TO%201954%5D&l-decade=191&l-year=1915\", \"id\": \"Query 3\"}, {\"date\": \"1916-01-02\", \"total_results\": 0, \"total_articles\": 0, \"url\": \"https://trove.nla.gov.au/search/category/newspapers?keyword=text%3A%22darling%20wife%22%20date%3A%5B1850%20TO%201954%5D&l-decade=191&l-year=1916\", \"id\": \"Query 3\"}, {\"date\": \"1917-01-02\", \"total_results\": 0, \"total_articles\": 0, \"url\": \"https://trove.nla.gov.au/search/category/newspapers?keyword=text%3A%22darling%20wife%22%20date%3A%5B1850%20TO%201954%5D&l-decade=191&l-year=1917\", \"id\": \"Query 3\"}, {\"date\": \"1918-01-02\", \"total_results\": 0, \"total_articles\": 0, \"url\": \"https://trove.nla.gov.au/search/category/newspapers?keyword=text%3A%22darling%20wife%22%20date%3A%5B1850%20TO%201954%5D&l-decade=191&l-year=1918\", \"id\": \"Query 3\"}, {\"date\": \"1919-01-02\", \"total_results\": 0, \"total_articles\": 0, \"url\": \"https://trove.nla.gov.au/search/category/newspapers?keyword=text%3A%22darling%20wife%22%20date%3A%5B1850%20TO%201954%5D&l-decade=191&l-year=1919\", \"id\": \"Query 3\"}, {\"date\": \"1920-01-02\", \"total_results\": 0, \"total_articles\": 0, \"url\": \"https://trove.nla.gov.au/search/category/newspapers?keyword=text%3A%22darling%20wife%22%20date%3A%5B1850%20TO%201954%5D&l-decade=192&l-year=1920\", \"id\": \"Query 3\"}, {\"date\": \"1921-01-02\", \"total_results\": 0, \"total_articles\": 0, \"url\": \"https://trove.nla.gov.au/search/category/newspapers?keyword=text%3A%22darling%20wife%22%20date%3A%5B1850%20TO%201954%5D&l-decade=192&l-year=1921\", \"id\": \"Query 3\"}, {\"date\": \"1922-01-02\", \"total_results\": 0, \"total_articles\": 0, \"url\": \"https://trove.nla.gov.au/search/category/newspapers?keyword=text%3A%22darling%20wife%22%20date%3A%5B1850%20TO%201954%5D&l-decade=192&l-year=1922\", \"id\": \"Query 3\"}, {\"date\": \"1923-01-02\", \"total_results\": 0, \"total_articles\": 0, \"url\": \"https://trove.nla.gov.au/search/category/newspapers?keyword=text%3A%22darling%20wife%22%20date%3A%5B1850%20TO%201954%5D&l-decade=192&l-year=1923\", \"id\": \"Query 3\"}, {\"date\": \"1924-01-02\", \"total_results\": 0, \"total_articles\": 0, \"url\": \"https://trove.nla.gov.au/search/category/newspapers?keyword=text%3A%22darling%20wife%22%20date%3A%5B1850%20TO%201954%5D&l-decade=192&l-year=1924\", \"id\": \"Query 3\"}, {\"date\": \"1925-01-02\", \"total_results\": 0, \"total_articles\": 0, \"url\": \"https://trove.nla.gov.au/search/category/newspapers?keyword=text%3A%22darling%20wife%22%20date%3A%5B1850%20TO%201954%5D&l-decade=192&l-year=1925\", \"id\": \"Query 3\"}, {\"date\": \"1926-01-02\", \"total_results\": 0, \"total_articles\": 0, \"url\": \"https://trove.nla.gov.au/search/category/newspapers?keyword=text%3A%22darling%20wife%22%20date%3A%5B1850%20TO%201954%5D&l-decade=192&l-year=1926\", \"id\": \"Query 3\"}, {\"date\": \"1927-01-02\", \"total_results\": 0, \"total_articles\": 0, \"url\": \"https://trove.nla.gov.au/search/category/newspapers?keyword=text%3A%22darling%20wife%22%20date%3A%5B1850%20TO%201954%5D&l-decade=192&l-year=1927\", \"id\": \"Query 3\"}, {\"date\": \"1928-01-02\", \"total_results\": 0, \"total_articles\": 0, \"url\": \"https://trove.nla.gov.au/search/category/newspapers?keyword=text%3A%22darling%20wife%22%20date%3A%5B1850%20TO%201954%5D&l-decade=192&l-year=1928\", \"id\": \"Query 3\"}, {\"date\": \"1929-01-02\", \"total_results\": 0, \"total_articles\": 0, \"url\": \"https://trove.nla.gov.au/search/category/newspapers?keyword=text%3A%22darling%20wife%22%20date%3A%5B1850%20TO%201954%5D&l-decade=192&l-year=1929\", \"id\": \"Query 3\"}, {\"date\": \"1930-01-02\", \"total_results\": 0, \"total_articles\": 0, \"url\": \"https://trove.nla.gov.au/search/category/newspapers?keyword=text%3A%22darling%20wife%22%20date%3A%5B1850%20TO%201954%5D&l-decade=193&l-year=1930\", \"id\": \"Query 3\"}, {\"date\": \"1931-01-02\", \"total_results\": 0, \"total_articles\": 0, \"url\": \"https://trove.nla.gov.au/search/category/newspapers?keyword=text%3A%22darling%20wife%22%20date%3A%5B1850%20TO%201954%5D&l-decade=193&l-year=1931\", \"id\": \"Query 3\"}, {\"date\": \"1932-01-02\", \"total_results\": 0, \"total_articles\": 0, \"url\": \"https://trove.nla.gov.au/search/category/newspapers?keyword=text%3A%22darling%20wife%22%20date%3A%5B1850%20TO%201954%5D&l-decade=193&l-year=1932\", \"id\": \"Query 3\"}, {\"date\": \"1933-01-02\", \"total_results\": 0, \"total_articles\": 0, \"url\": \"https://trove.nla.gov.au/search/category/newspapers?keyword=text%3A%22darling%20wife%22%20date%3A%5B1850%20TO%201954%5D&l-decade=193&l-year=1933\", \"id\": \"Query 3\"}, {\"date\": \"1934-01-02\", \"total_results\": 0, \"total_articles\": 0, \"url\": \"https://trove.nla.gov.au/search/category/newspapers?keyword=text%3A%22darling%20wife%22%20date%3A%5B1850%20TO%201954%5D&l-decade=193&l-year=1934\", \"id\": \"Query 3\"}, {\"date\": \"1935-01-02\", \"total_results\": 0, \"total_articles\": 0, \"url\": \"https://trove.nla.gov.au/search/category/newspapers?keyword=text%3A%22darling%20wife%22%20date%3A%5B1850%20TO%201954%5D&l-decade=193&l-year=1935\", \"id\": \"Query 3\"}, {\"date\": \"1936-01-02\", \"total_results\": 0, \"total_articles\": 0, \"url\": \"https://trove.nla.gov.au/search/category/newspapers?keyword=text%3A%22darling%20wife%22%20date%3A%5B1850%20TO%201954%5D&l-decade=193&l-year=1936\", \"id\": \"Query 3\"}, {\"date\": \"1937-01-02\", \"total_results\": 0, \"total_articles\": 0, \"url\": \"https://trove.nla.gov.au/search/category/newspapers?keyword=text%3A%22darling%20wife%22%20date%3A%5B1850%20TO%201954%5D&l-decade=193&l-year=1937\", \"id\": \"Query 3\"}, {\"date\": \"1938-01-02\", \"total_results\": 0, \"total_articles\": 0, \"url\": \"https://trove.nla.gov.au/search/category/newspapers?keyword=text%3A%22darling%20wife%22%20date%3A%5B1850%20TO%201954%5D&l-decade=193&l-year=1938\", \"id\": \"Query 3\"}, {\"date\": \"1939-01-02\", \"total_results\": 0, \"total_articles\": 0, \"url\": \"https://trove.nla.gov.au/search/category/newspapers?keyword=text%3A%22darling%20wife%22%20date%3A%5B1850%20TO%201954%5D&l-decade=193&l-year=1939\", \"id\": \"Query 3\"}, {\"date\": \"1940-01-02\", \"total_results\": 0, \"total_articles\": 0, \"url\": \"https://trove.nla.gov.au/search/category/newspapers?keyword=text%3A%22darling%20wife%22%20date%3A%5B1850%20TO%201954%5D&l-decade=194&l-year=1940\", \"id\": \"Query 3\"}, {\"date\": \"1941-01-02\", \"total_results\": 0, \"total_articles\": 0, \"url\": \"https://trove.nla.gov.au/search/category/newspapers?keyword=text%3A%22darling%20wife%22%20date%3A%5B1850%20TO%201954%5D&l-decade=194&l-year=1941\", \"id\": \"Query 3\"}, {\"date\": \"1942-01-02\", \"total_results\": 0, \"total_articles\": 0, \"url\": \"https://trove.nla.gov.au/search/category/newspapers?keyword=text%3A%22darling%20wife%22%20date%3A%5B1850%20TO%201954%5D&l-decade=194&l-year=1942\", \"id\": \"Query 3\"}, {\"date\": \"1943-01-02\", \"total_results\": 0, \"total_articles\": 0, \"url\": \"https://trove.nla.gov.au/search/category/newspapers?keyword=text%3A%22darling%20wife%22%20date%3A%5B1850%20TO%201954%5D&l-decade=194&l-year=1943\", \"id\": \"Query 3\"}, {\"date\": \"1944-01-02\", \"total_results\": 0, \"total_articles\": 0, \"url\": \"https://trove.nla.gov.au/search/category/newspapers?keyword=text%3A%22darling%20wife%22%20date%3A%5B1850%20TO%201954%5D&l-decade=194&l-year=1944\", \"id\": \"Query 3\"}, {\"date\": \"1945-01-02\", \"total_results\": 0, \"total_articles\": 0, \"url\": \"https://trove.nla.gov.au/search/category/newspapers?keyword=text%3A%22darling%20wife%22%20date%3A%5B1850%20TO%201954%5D&l-decade=194&l-year=1945\", \"id\": \"Query 3\"}, {\"date\": \"1946-01-02\", \"total_results\": 0, \"total_articles\": 0, \"url\": \"https://trove.nla.gov.au/search/category/newspapers?keyword=text%3A%22darling%20wife%22%20date%3A%5B1850%20TO%201954%5D&l-decade=194&l-year=1946\", \"id\": \"Query 3\"}, {\"date\": \"1947-01-02\", \"total_results\": 0, \"total_articles\": 0, \"url\": \"https://trove.nla.gov.au/search/category/newspapers?keyword=text%3A%22darling%20wife%22%20date%3A%5B1850%20TO%201954%5D&l-decade=194&l-year=1947\", \"id\": \"Query 3\"}, {\"date\": \"1948-01-02\", \"total_results\": 0, \"total_articles\": 0, \"url\": \"https://trove.nla.gov.au/search/category/newspapers?keyword=text%3A%22darling%20wife%22%20date%3A%5B1850%20TO%201954%5D&l-decade=194&l-year=1948\", \"id\": \"Query 3\"}, {\"date\": \"1949-01-02\", \"total_results\": 0, \"total_articles\": 0, \"url\": \"https://trove.nla.gov.au/search/category/newspapers?keyword=text%3A%22darling%20wife%22%20date%3A%5B1850%20TO%201954%5D&l-decade=194&l-year=1949\", \"id\": \"Query 3\"}, {\"date\": \"1950-01-02\", \"total_results\": 0, \"total_articles\": 0, \"url\": \"https://trove.nla.gov.au/search/category/newspapers?keyword=text%3A%22darling%20wife%22%20date%3A%5B1850%20TO%201954%5D&l-decade=195&l-year=1950\", \"id\": \"Query 3\"}, {\"date\": \"1951-01-02\", \"total_results\": 0, \"total_articles\": 0, \"url\": \"https://trove.nla.gov.au/search/category/newspapers?keyword=text%3A%22darling%20wife%22%20date%3A%5B1850%20TO%201954%5D&l-decade=195&l-year=1951\", \"id\": \"Query 3\"}, {\"date\": \"1952-01-02\", \"total_results\": 0, \"total_articles\": 0, \"url\": \"https://trove.nla.gov.au/search/category/newspapers?keyword=text%3A%22darling%20wife%22%20date%3A%5B1850%20TO%201954%5D&l-decade=195&l-year=1952\", \"id\": \"Query 3\"}, {\"date\": \"1953-01-02\", \"total_results\": 0, \"total_articles\": 0, \"url\": \"https://trove.nla.gov.au/search/category/newspapers?keyword=text%3A%22darling%20wife%22%20date%3A%5B1850%20TO%201954%5D&l-decade=195&l-year=1953\", \"id\": \"Query 3\"}], \"data-880285703c4c92419cc8423c92737e7b\": [{\"x\": 0, \"y\": 0, \"id\": \"Query 1\", \"url\": \"https://trove.nla.gov.au/search/category/newspapers?keyword=text%3A%22darling%20wife%22%20date%3A%5B1850%20TO%201954%5D\", \"params\": \"keyword=text%3A%22darling%20wife%22%20date%3A%5B1850%20TO%201954%5D\"}, {\"x\": 0, \"y\": 1, \"id\": \"Query 2\", \"url\": \"https://trove.nla.gov.au/search/category/newspapers?keyword=text%3A%22darling%20wife%22%20date%3A%5B1850%20TO%201954%5D\", \"params\": \"keyword=text%3A%22darling%20wife%22%20date%3A%5B1850%20TO%201954%5D\"}, {\"x\": 0, \"y\": 2, \"id\": \"Query 3\", \"url\": \"https://trove.nla.gov.au/search/category/newspapers?keyword=text%3A%22darling%20wife%22%20date%3A%5B1850%20TO%201954%5D\", \"params\": \"keyword=text%3A%22darling%20wife%22%20date%3A%5B1850%20TO%201954%5D\"}]}}, {\"mode\": \"vega-lite\"});\n</script>",
          "text/plain": "alt.VConcatChart(...)"
         },
         "metadata": {},
         "output_type": "display_data"
        }
       ]
      }
     },
     "6a62f26043b048328d44dba64361a634": {
      "model_module": "@jupyter-widgets/base",
      "model_module_version": "1.2.0",
      "model_name": "LayoutModel",
      "state": {}
     },
     "6a68a0d93bcb40bab60405ab5b35c8b5": {
      "model_module": "@jupyter-widgets/base",
      "model_module_version": "1.2.0",
      "model_name": "LayoutModel",
      "state": {
       "margin": "0 0 20px 0"
      }
     },
     "6a80310815af461aa6a48359e773b52b": {
      "model_module": "@jupyter-widgets/controls",
      "model_module_version": "1.5.0",
      "model_name": "ButtonStyleModel",
      "state": {}
     },
     "6ad82169731e479c82bf4482e31c11c0": {
      "model_module": "@jupyter-widgets/controls",
      "model_module_version": "1.5.0",
      "model_name": "DescriptionStyleModel",
      "state": {
       "description_width": ""
      }
     },
     "6b378664a4484a2f833f077bf106c667": {
      "model_module": "@jupyter-widgets/controls",
      "model_module_version": "1.5.0",
      "model_name": "PasswordModel",
      "state": {
       "description": "API key:",
       "layout": "IPY_MODEL_2c39d9d87db343c3944fbce13ffd9c5c",
       "placeholder": "Enter your Trove API key",
       "style": "IPY_MODEL_67da5287651f4fa784eb446b9f8963e3",
       "value": "6pi5hht0d2umqcro"
      }
     },
     "6b4b9213271f4d97a7cd5d18272391ea": {
      "model_module": "@jupyter-widgets/controls",
      "model_module_version": "1.5.0",
      "model_name": "HTMLModel",
      "state": {
       "layout": "IPY_MODEL_3e1544130af345c88c2b07a1060bfbb6",
       "style": "IPY_MODEL_8028bf602a6d4775be4aaed919fa9283",
       "value": " 0/11 [00:00&lt;?, ?it/s]"
      }
     },
     "6b4e1a1b569546128cd01c2a8f999574": {
      "model_module": "@jupyter-widgets/base",
      "model_module_version": "1.2.0",
      "model_name": "LayoutModel",
      "state": {}
     },
     "6b65bf67b7464fcba495a4a88c417527": {
      "model_module": "@jupyter-widgets/base",
      "model_module_version": "1.2.0",
      "model_name": "LayoutModel",
      "state": {}
     },
     "6bd288e2885f4863bd47099319038963": {
      "model_module": "@jupyter-widgets/controls",
      "model_module_version": "1.5.0",
      "model_name": "HTMLModel",
      "state": {
       "layout": "IPY_MODEL_f0d75cc487aa4f8fbb3e93ed8a547f84",
       "style": "IPY_MODEL_f7f0025170f04f6483cebbcf72ffacd3",
       "value": "100%"
      }
     },
     "6c4f5e3155114069af030cec680b6c09": {
      "model_module": "@jupyter-widgets/controls",
      "model_module_version": "1.5.0",
      "model_name": "BoundedIntTextModel",
      "state": {
       "description": "Height",
       "layout": "IPY_MODEL_34e6c7e8a93f438791b4d225f4985c43",
       "max": 1500,
       "min": 400,
       "step": 100,
       "style": "IPY_MODEL_21f92d6e82e142e1becc96796d36c839",
       "value": 400
      }
     },
     "6c98e6d0551e4be7b4ba94afc12f239e": {
      "model_module": "@jupyter-widgets/controls",
      "model_module_version": "1.5.0",
      "model_name": "DescriptionStyleModel",
      "state": {
       "description_width": ""
      }
     },
     "6cf753a063a94a5aa93cf5147c74a753": {
      "model_module": "@jupyter-widgets/base",
      "model_module_version": "1.2.0",
      "model_name": "LayoutModel",
      "state": {}
     },
     "6da748a5a46d491ab8947faa889d1a7f": {
      "model_module": "@jupyter-widgets/controls",
      "model_module_version": "1.5.0",
      "model_name": "DescriptionStyleModel",
      "state": {
       "description_width": ""
      }
     },
     "6db102f79a9e44e5bde0f284d2fb9392": {
      "model_module": "@jupyter-widgets/controls",
      "model_module_version": "1.5.0",
      "model_name": "DropdownModel",
      "state": {
       "_options_labels": [
        "Automatic",
        "Year",
        "Month",
        "Day"
       ],
       "description": "Time unit:",
       "index": 0,
       "layout": "IPY_MODEL_ad6e856dad5d44c8b2b07c6443a04760",
       "style": "IPY_MODEL_fdb3645badf54c1bbec34d0d0dc3a1f6"
      }
     },
     "6dbc8db9444f453cb63cd8530802e728": {
      "model_module": "@jupyter-widgets/base",
      "model_module_version": "1.2.0",
      "model_name": "LayoutModel",
      "state": {}
     },
     "6dd6c99f1ecb41e38258c6bf894a24c4": {
      "model_module": "@jupyter-widgets/controls",
      "model_module_version": "1.5.0",
      "model_name": "HTMLModel",
      "state": {
       "layout": "IPY_MODEL_9f12b7efc95b4a1f9018baef86f4002c",
       "style": "IPY_MODEL_9ee02cfbc6414a7084407a20b8f34a51",
       "value": "100%"
      }
     },
     "6e25fd5560a0414d95a1942312a0d5da": {
      "model_module": "@jupyter-widgets/controls",
      "model_module_version": "1.5.0",
      "model_name": "DescriptionStyleModel",
      "state": {
       "description_width": ""
      }
     },
     "6e2b8ad0d0594829a5e12aedca85c320": {
      "model_module": "@jupyter-widgets/controls",
      "model_module_version": "1.5.0",
      "model_name": "FloatProgressModel",
      "state": {
       "layout": "IPY_MODEL_4553d667eb1246ea92f2bb0cd6dba271",
       "max": 31,
       "style": "IPY_MODEL_337fd9f2f8684c96a3be46f7b900ddd7",
       "value": 31
      }
     },
     "6ea342ee89214e8ca4c11148b4398d65": {
      "model_module": "@jupyter-widgets/controls",
      "model_module_version": "1.5.0",
      "model_name": "ButtonStyleModel",
      "state": {}
     },
     "6ef21ac21a4c4334a83451936353742d": {
      "model_module": "@jupyter-widgets/controls",
      "model_module_version": "1.5.0",
      "model_name": "HBoxModel",
      "state": {
       "children": [
        "IPY_MODEL_c2e0ed63d05947b48cb95cb4c00b2447",
        "IPY_MODEL_45f959889ca64110ac32f751bca01c22",
        "IPY_MODEL_f67792adc7ac4722b5c1a5064ff586f6"
       ],
       "layout": "IPY_MODEL_1f4853e34faf45e38e8547348fffe6be"
      }
     },
     "6f0a4ca5a2364d44bab087dab16fde8f": {
      "model_module": "@jupyter-widgets/controls",
      "model_module_version": "1.5.0",
      "model_name": "DescriptionStyleModel",
      "state": {
       "description_width": ""
      }
     },
     "6f4e54b6996c4230becde23f1cff1e2f": {
      "model_module": "@jupyter-widgets/controls",
      "model_module_version": "1.5.0",
      "model_name": "BoundedIntTextModel",
      "state": {
       "description": "Height",
       "layout": "IPY_MODEL_87330517d2fd4308b7ebb676578ab115",
       "max": 1500,
       "min": 400,
       "step": 100,
       "style": "IPY_MODEL_04d9317dd5a54645aa380af05425d008",
       "value": 400
      }
     },
     "6fba0300bc6240d3a0d4d2a7d7d467e5": {
      "model_module": "@jupyter-widgets/controls",
      "model_module_version": "1.5.0",
      "model_name": "DescriptionStyleModel",
      "state": {
       "description_width": ""
      }
     },
     "6fba1350fcde49d58995110fc9c4263a": {
      "model_module": "@jupyter-widgets/base",
      "model_module_version": "1.2.0",
      "model_name": "LayoutModel",
      "state": {}
     },
     "6fd3aacfda8746edb56c3d3a97ca2fd9": {
      "model_module": "@jupyter-widgets/controls",
      "model_module_version": "1.5.0",
      "model_name": "ButtonStyleModel",
      "state": {}
     },
     "705eb5ceefd648adbaf54a72099eed2c": {
      "model_module": "@jupyter-widgets/base",
      "model_module_version": "1.2.0",
      "model_name": "LayoutModel",
      "state": {}
     },
     "70603612a1244808a6a6634501a15d7b": {
      "model_module": "@jupyter-widgets/controls",
      "model_module_version": "1.5.0",
      "model_name": "TextModel",
      "state": {
       "description": "Query:",
       "layout": "IPY_MODEL_13f11e58004145aa8d7db922c52d32e1",
       "placeholder": "Enter your search query",
       "style": "IPY_MODEL_7cbf2b7ff883462faf4e87a37221bfef",
       "value": "https://trove.nla.gov.au/search/category/newspapers?keyword=text%3A%22darling%20wife%22%20date%3A%5B1850%20TO%201954%5D"
      }
     },
     "70697089ca524336bb9a6fe6932d1fec": {
      "model_module": "@jupyter-widgets/base",
      "model_module_version": "1.2.0",
      "model_name": "LayoutModel",
      "state": {}
     },
     "7081a8a62f834ffd937b075ff4d607c8": {
      "model_module": "@jupyter-widgets/base",
      "model_module_version": "1.2.0",
      "model_name": "LayoutModel",
      "state": {}
     },
     "7102390a72634e6cb28e8b4fb67f251c": {
      "model_module": "@jupyter-widgets/base",
      "model_module_version": "1.2.0",
      "model_name": "LayoutModel",
      "state": {
       "margin": "50px 0 50px 0"
      }
     },
     "7135cac9eb4b463c99ba64d8c74a7bb6": {
      "model_module": "@jupyter-widgets/base",
      "model_module_version": "1.2.0",
      "model_name": "LayoutModel",
      "state": {}
     },
     "713fedd1776c46fab3499942730df78c": {
      "model_module": "@jupyter-widgets/controls",
      "model_module_version": "1.5.0",
      "model_name": "HTMLModel",
      "state": {
       "layout": "IPY_MODEL_1e33c134694346bba0b09d52ac8b7a2c",
       "style": "IPY_MODEL_16de067690de46c3a874abed4f0e6950",
       "value": "100%"
      }
     },
     "7146b65f8f1b431491db79a4b4f77fb1": {
      "model_module": "@jupyter-widgets/controls",
      "model_module_version": "1.5.0",
      "model_name": "BoundedIntTextModel",
      "state": {
       "description": "Width",
       "layout": "IPY_MODEL_b96e77041bc5417a9ed9886616220c54",
       "max": 2000,
       "min": 700,
       "step": 100,
       "style": "IPY_MODEL_ee68a8a4e6a44379b93be5ca73ca3364",
       "value": 700
      }
     },
     "71d749bbea9f42d09c0c8d3a5dbee330": {
      "model_module": "@jupyter-widgets/controls",
      "model_module_version": "1.5.0",
      "model_name": "VBoxModel",
      "state": {
       "children": [
        "IPY_MODEL_bbbed6fd511b4776a85d93a24a53f4d7",
        "IPY_MODEL_f47bd5d58e9e4b6e8380ff704af0ae11",
        "IPY_MODEL_9482366c008e4880a4d90084eb2a4ae5"
       ],
       "layout": "IPY_MODEL_5087b53a4892464fa07140270d9e0ed0"
      }
     },
     "71e22a3405c34e1c92d4ecca617deac8": {
      "model_module": "@jupyter-widgets/controls",
      "model_module_version": "1.5.0",
      "model_name": "HTMLModel",
      "state": {
       "layout": "IPY_MODEL_90107a5e38394e72b4864743cb8c00ba",
       "style": "IPY_MODEL_5ee6daf07df04c5eb621a56ba9f66930",
       "value": " 11/11 [00:16&lt;00:00,  1.55s/it]"
      }
     },
     "72d9f72dbbf44e2b80455f923310efad": {
      "model_module": "@jupyter-widgets/base",
      "model_module_version": "1.2.0",
      "model_name": "LayoutModel",
      "state": {}
     },
     "72ec49f428a94a678b20b0e629a30623": {
      "model_module": "@jupyter-widgets/controls",
      "model_module_version": "1.5.0",
      "model_name": "ButtonStyleModel",
      "state": {}
     },
     "7332b999878142d1b8a4b987fd555099": {
      "model_module": "@jupyter-widgets/controls",
      "model_module_version": "1.5.0",
      "model_name": "ProgressStyleModel",
      "state": {
       "description_width": ""
      }
     },
     "739d2d9767584debb6e900418496f71e": {
      "model_module": "@jupyter-widgets/controls",
      "model_module_version": "1.5.0",
      "model_name": "HBoxModel",
      "state": {
       "children": [
        "IPY_MODEL_a1310d19654344618075d8b7bb7661aa",
        "IPY_MODEL_c05eb7196ad14b41a96cae1254ea7fcd",
        "IPY_MODEL_0be627383c3c4fbf998df38b752f6aa2"
       ],
       "layout": "IPY_MODEL_96be48334491494d84d53c86a97a0ebe"
      }
     },
     "73adb49974bb4115a84a284a273e2cd0": {
      "model_module": "@jupyter-widgets/base",
      "model_module_version": "1.2.0",
      "model_name": "LayoutModel",
      "state": {
       "margin": "0 0 20px 0"
      }
     },
     "73c9e184524e4ad4b7ce0e28f0bea911": {
      "model_module": "@jupyter-widgets/base",
      "model_module_version": "1.2.0",
      "model_name": "LayoutModel",
      "state": {}
     },
     "73efc1d65f9643e2a590ed656c119a22": {
      "model_module": "@jupyter-widgets/controls",
      "model_module_version": "1.5.0",
      "model_name": "ButtonModel",
      "state": {
       "button_style": "primary",
       "description": "Visualise query",
       "layout": "IPY_MODEL_0e053ebf0a964e18a34a97c632296859",
       "style": "IPY_MODEL_a2acbbed1b7d492bb46e9cae7782a930",
       "tooltip": "Create chart from query"
      }
     },
     "7404259b7adf4573add5fe1538598b0d": {
      "model_module": "@jupyter-widgets/controls",
      "model_module_version": "1.5.0",
      "model_name": "HTMLModel",
      "state": {
       "layout": "IPY_MODEL_5ced943d957840e7abb0820b51dcd22c",
       "style": "IPY_MODEL_0a765541f46743a9b0f19d5f1a19de14",
       "value": " 6/6 [00:10&lt;00:00,  1.55s/it]"
      }
     },
     "74302b288a224104b48a708c5302d21a": {
      "model_module": "@jupyter-widgets/controls",
      "model_module_version": "1.5.0",
      "model_name": "HTMLModel",
      "state": {
       "layout": "IPY_MODEL_9d74ea31b1e74da7ac48e25f2e567d04",
       "style": "IPY_MODEL_8b38d14f733c4b8999203b36cc719909",
       "value": " 11/11 [00:16&lt;00:00,  1.55s/it]"
      }
     },
     "744b3216a6b84f3cb0cc724297d5f70d": {
      "model_module": "@jupyter-widgets/controls",
      "model_module_version": "1.5.0",
      "model_name": "ProgressStyleModel",
      "state": {
       "description_width": ""
      }
     },
     "7467f2717d8f45b388d023ea77029b7a": {
      "model_module": "@jupyter-widgets/base",
      "model_module_version": "1.2.0",
      "model_name": "LayoutModel",
      "state": {}
     },
     "74692bb5a38244c2b0bc6fd00a757094": {
      "model_module": "@jupyter-widgets/base",
      "model_module_version": "1.2.0",
      "model_name": "LayoutModel",
      "state": {}
     },
     "7469c4636d854681b692d5900a6bf15d": {
      "model_module": "@jupyter-widgets/base",
      "model_module_version": "1.2.0",
      "model_name": "LayoutModel",
      "state": {}
     },
     "74a8f35e9d02483ab98500bddf136c0d": {
      "model_module": "@jupyter-widgets/controls",
      "model_module_version": "1.5.0",
      "model_name": "ProgressStyleModel",
      "state": {
       "description_width": ""
      }
     },
     "74b5458fe4114ae49a70e040ab8ecea5": {
      "model_module": "@jupyter-widgets/base",
      "model_module_version": "1.2.0",
      "model_name": "LayoutModel",
      "state": {}
     },
     "74bc548c785c41278723b7b2cc0a8ff8": {
      "model_module": "@jupyter-widgets/base",
      "model_module_version": "1.2.0",
      "model_name": "LayoutModel",
      "state": {}
     },
     "74c3f2f177b3412ebe2467241ac7e297": {
      "model_module": "@jupyter-widgets/controls",
      "model_module_version": "1.5.0",
      "model_name": "ButtonStyleModel",
      "state": {}
     },
     "74e0839ac3d240e0b3d50f1cf12ce8f8": {
      "model_module": "@jupyter-widgets/controls",
      "model_module_version": "1.5.0",
      "model_name": "ButtonStyleModel",
      "state": {}
     },
     "7500c7fc0fd1411a8f1108a13fa12447": {
      "model_module": "@jupyter-widgets/base",
      "model_module_version": "1.2.0",
      "model_name": "LayoutModel",
      "state": {}
     },
     "7576c11b1d3d49088f43efdb37acbef6": {
      "model_module": "@jupyter-widgets/controls",
      "model_module_version": "1.5.0",
      "model_name": "PasswordModel",
      "state": {
       "description": "API key:",
       "layout": "IPY_MODEL_3fa2f0867e1f458c87d8a498e45834f1",
       "placeholder": "Enter your Trove API key",
       "style": "IPY_MODEL_bf799f76591b4ae984fa6bb634bace06",
       "value": "6pi5hht0d2umqcro"
      }
     },
     "757c50b4c8ae4d5b8a58d3a90c86d2fe": {
      "model_module": "@jupyter-widgets/controls",
      "model_module_version": "1.5.0",
      "model_name": "ButtonStyleModel",
      "state": {}
     },
     "758bb5b158214399b2cd48ca2bd70269": {
      "model_module": "@jupyter-widgets/controls",
      "model_module_version": "1.5.0",
      "model_name": "HBoxModel",
      "state": {
       "children": [
        "IPY_MODEL_e20f52fd13bc4fc1988272ff30149035",
        "IPY_MODEL_cf43568c496a4a819e724138f312da89",
        "IPY_MODEL_4ebfe79806bf438f9a545e32121ddd34"
       ],
       "layout": "IPY_MODEL_2b83fc49d086476489149110eec000a2"
      }
     },
     "75f7004919994ff281a745852cd42739": {
      "model_module": "@jupyter-widgets/controls",
      "model_module_version": "1.5.0",
      "model_name": "ButtonModel",
      "state": {
       "description": "Clear all queries",
       "layout": "IPY_MODEL_1637fc3533d74e31a23e1961d283d6ee",
       "style": "IPY_MODEL_a12f0cfd5b924997a114b641a40be572",
       "tooltip": "Clear current queries"
      }
     },
     "767f7b87f7684d78a3279d871a03598c": {
      "model_module": "@jupyter-widgets/controls",
      "model_module_version": "1.5.0",
      "model_name": "BoundedIntTextModel",
      "state": {
       "description": "Width",
       "layout": "IPY_MODEL_93da8c4556744d0f878c51321d4939ee",
       "max": 2000,
       "min": 700,
       "step": 100,
       "style": "IPY_MODEL_8d2cf92472e740499f2bf4b6aae5ed39",
       "value": 700
      }
     },
     "76a10adc7f0d49c2b534b448e70c943c": {
      "model_module": "@jupyter-widgets/controls",
      "model_module_version": "1.5.0",
      "model_name": "VBoxModel",
      "state": {
       "children": [
        "IPY_MODEL_1e7f7706ab17437f9ec6a57edac3740b",
        "IPY_MODEL_1f6a1756999045ddadffb9b5ad4165bd",
        "IPY_MODEL_55aa1c5942cb4b5cb7f23c5f96c3232e"
       ],
       "layout": "IPY_MODEL_f63a6aceb38e47a28d34647d1b9c138b"
      }
     },
     "76d299a6fdd948e8a90c35f7075b7eab": {
      "model_module": "@jupyter-widgets/base",
      "model_module_version": "1.2.0",
      "model_name": "LayoutModel",
      "state": {}
     },
     "77864bfc014f43459b3c35d42384c461": {
      "model_module": "@jupyter-widgets/output",
      "model_module_version": "1.0.0",
      "model_name": "OutputModel",
      "state": {
       "layout": "IPY_MODEL_02a08370fbf24d0088ac9f193081cf76",
       "outputs": [
        {
         "data": {
          "application/vnd.jupyter.widget-view+json": {
           "model_id": "",
           "version_major": 2,
           "version_minor": 0
          },
          "text/plain": "Dropdown(options=(('Raw number of results', 'raw'), ('Proportion of total articles', 'proportion')), value='ra…"
         },
         "metadata": {},
         "output_type": "display_data"
        },
        {
         "data": {
          "text/html": "\n<div id=\"altair-viz-206b30caabd04403b375b0343ffb3e2c\"></div>\n<script type=\"text/javascript\">\n  var VEGA_DEBUG = (typeof VEGA_DEBUG == \"undefined\") ? {} : VEGA_DEBUG;\n  (function(spec, embedOpt){\n    let outputDiv = document.currentScript.previousElementSibling;\n    if (outputDiv.id !== \"altair-viz-206b30caabd04403b375b0343ffb3e2c\") {\n      outputDiv = document.getElementById(\"altair-viz-206b30caabd04403b375b0343ffb3e2c\");\n    }\n    const paths = {\n      \"vega\": \"https://cdn.jsdelivr.net/npm//vega@5?noext\",\n      \"vega-lib\": \"https://cdn.jsdelivr.net/npm//vega-lib?noext\",\n      \"vega-lite\": \"https://cdn.jsdelivr.net/npm//vega-lite@4.17.0?noext\",\n      \"vega-embed\": \"https://cdn.jsdelivr.net/npm//vega-embed@6?noext\",\n    };\n\n    function maybeLoadScript(lib, version) {\n      var key = `${lib.replace(\"-\", \"\")}_version`;\n      return (VEGA_DEBUG[key] == version) ?\n        Promise.resolve(paths[lib]) :\n        new Promise(function(resolve, reject) {\n          var s = document.createElement('script');\n          document.getElementsByTagName(\"head\")[0].appendChild(s);\n          s.async = true;\n          s.onload = () => {\n            VEGA_DEBUG[key] = version;\n            return resolve(paths[lib]);\n          };\n          s.onerror = () => reject(`Error loading script: ${paths[lib]}`);\n          s.src = paths[lib];\n        });\n    }\n\n    function showError(err) {\n      outputDiv.innerHTML = `<div class=\"error\" style=\"color:red;\">${err}</div>`;\n      throw err;\n    }\n\n    function displayChart(vegaEmbed) {\n      vegaEmbed(outputDiv, spec, embedOpt)\n        .catch(err => showError(`Javascript Error: ${err.message}<br>This usually means there's a typo in your chart specification. See the javascript console for the full traceback.`));\n    }\n\n    if(typeof define === \"function\" && define.amd) {\n      requirejs.config({paths});\n      require([\"vega-embed\"], displayChart, err => showError(`Error loading script: ${err.message}`));\n    } else {\n      maybeLoadScript(\"vega\", \"5\")\n        .then(() => maybeLoadScript(\"vega-lite\", \"4.17.0\"))\n        .then(() => maybeLoadScript(\"vega-embed\", \"6\"))\n        .catch(showError)\n        .then(() => displayChart(vegaEmbed));\n    }\n  })({\"usermeta\": {\"embedOptions\": {\"loader\": {\"target\": \"_blank\"}}}, \"vconcat\": [{\"data\": {\"name\": \"data-82054f5faec3e16ceea130d99ce922e3\"}, \"mark\": {\"type\": \"line\", \"interpolate\": \"cardinal\", \"point\": true}, \"encoding\": {\"color\": {\"field\": \"id\", \"legend\": {\"title\": \"\"}, \"type\": \"nominal\"}, \"href\": {\"field\": \"url\", \"type\": \"nominal\"}, \"tooltip\": [{\"field\": \"id\", \"title\": \"query\", \"type\": \"nominal\"}, {\"field\": \"date\", \"timeUnit\": \"year\", \"title\": \"year\", \"type\": \"temporal\"}, {\"field\": \"total_results\", \"format\": \",\", \"title\": \"results\", \"type\": \"quantitative\"}, {\"field\": \"PercentOfTotal\", \"format\": \".2%\", \"title\": \"proportion\", \"type\": \"quantitative\"}], \"x\": {\"axis\": {\"title\": \"Year\"}, \"field\": \"date\", \"scale\": {\"padding\": 10}, \"timeUnit\": \"year\", \"type\": \"temporal\"}, \"y\": {\"axis\": {\"format\": \",d\", \"title\": \"Number of articles\"}, \"field\": \"total_results\", \"type\": \"quantitative\"}}, \"height\": 400, \"title\": {\"text\": \"Trove Newspapers & Gazettes Search\", \"subtitle\": \"Created by QueryPic: 24 June 2022\"}, \"transform\": [{\"calculate\": \"datum.total_results / datum.total_articles\", \"as\": \"PercentOfTotal\"}], \"width\": 800}, {\"data\": {\"name\": \"data-a84671b8975528608e8fe6591fb4c574\"}, \"mark\": {\"type\": \"text\", \"align\": \"left\", \"baseline\": \"middle\", \"dx\": 2, \"dy\": 1}, \"encoding\": {\"color\": {\"value\": \"blue\"}, \"href\": {\"field\": \"url\", \"type\": \"nominal\"}, \"text\": {\"field\": \"url\", \"type\": \"nominal\"}, \"x\": {\"axis\": null, \"field\": \"x\", \"scale\": {\"range\": [0, 1]}, \"title\": null, \"type\": \"quantitative\"}, \"y\": {\"axis\": {\"domain\": false, \"grid\": false, \"labelFontWeight\": \"bold\"}, \"field\": \"id\", \"title\": null, \"type\": \"ordinal\"}}}], \"config\": {\"padding\": 20, \"title\": {\"fontSize\": 14}, \"view\": {\"strokeWidth\": 0}}, \"$schema\": \"https://vega.github.io/schema/vega-lite/v4.17.0.json\", \"datasets\": {\"data-82054f5faec3e16ceea130d99ce922e3\": [{\"date\": \"1850-01-02\", \"total_results\": 0, \"total_articles\": 0, \"url\": \"https://trove.nla.gov.au/search/category/newspapers?keyword=text%3A%22darling%20wife%22%20date%3A%5B1850%20TO%201954%5D&l-decade=185&l-year=1850\", \"id\": \"Query 1\"}, {\"date\": \"1851-01-02\", \"total_results\": 0, \"total_articles\": 0, \"url\": \"https://trove.nla.gov.au/search/category/newspapers?keyword=text%3A%22darling%20wife%22%20date%3A%5B1850%20TO%201954%5D&l-decade=185&l-year=1851\", \"id\": \"Query 1\"}, {\"date\": \"1852-01-02\", \"total_results\": 0, \"total_articles\": 0, \"url\": \"https://trove.nla.gov.au/search/category/newspapers?keyword=text%3A%22darling%20wife%22%20date%3A%5B1850%20TO%201954%5D&l-decade=185&l-year=1852\", \"id\": \"Query 1\"}, {\"date\": \"1853-01-02\", \"total_results\": 0, \"total_articles\": 0, \"url\": \"https://trove.nla.gov.au/search/category/newspapers?keyword=text%3A%22darling%20wife%22%20date%3A%5B1850%20TO%201954%5D&l-decade=185&l-year=1853\", \"id\": \"Query 1\"}, {\"date\": \"1854-01-02\", \"total_results\": 0, \"total_articles\": 0, \"url\": \"https://trove.nla.gov.au/search/category/newspapers?keyword=text%3A%22darling%20wife%22%20date%3A%5B1850%20TO%201954%5D&l-decade=185&l-year=1854\", \"id\": \"Query 1\"}, {\"date\": \"1855-01-02\", \"total_results\": 0, \"total_articles\": 0, \"url\": \"https://trove.nla.gov.au/search/category/newspapers?keyword=text%3A%22darling%20wife%22%20date%3A%5B1850%20TO%201954%5D&l-decade=185&l-year=1855\", \"id\": \"Query 1\"}, {\"date\": \"1856-01-02\", \"total_results\": 0, \"total_articles\": 0, \"url\": \"https://trove.nla.gov.au/search/category/newspapers?keyword=text%3A%22darling%20wife%22%20date%3A%5B1850%20TO%201954%5D&l-decade=185&l-year=1856\", \"id\": \"Query 1\"}, {\"date\": \"1857-01-02\", \"total_results\": 0, \"total_articles\": 0, \"url\": \"https://trove.nla.gov.au/search/category/newspapers?keyword=text%3A%22darling%20wife%22%20date%3A%5B1850%20TO%201954%5D&l-decade=185&l-year=1857\", \"id\": \"Query 1\"}, {\"date\": \"1858-01-02\", \"total_results\": 0, \"total_articles\": 0, \"url\": \"https://trove.nla.gov.au/search/category/newspapers?keyword=text%3A%22darling%20wife%22%20date%3A%5B1850%20TO%201954%5D&l-decade=185&l-year=1858\", \"id\": \"Query 1\"}, {\"date\": \"1859-01-02\", \"total_results\": 0, \"total_articles\": 0, \"url\": \"https://trove.nla.gov.au/search/category/newspapers?keyword=text%3A%22darling%20wife%22%20date%3A%5B1850%20TO%201954%5D&l-decade=185&l-year=1859\", \"id\": \"Query 1\"}, {\"date\": \"1860-01-02\", \"total_results\": 0, \"total_articles\": 0, \"url\": \"https://trove.nla.gov.au/search/category/newspapers?keyword=text%3A%22darling%20wife%22%20date%3A%5B1850%20TO%201954%5D&l-decade=186&l-year=1860\", \"id\": \"Query 1\"}, {\"date\": \"1861-01-02\", \"total_results\": 0, \"total_articles\": 0, \"url\": \"https://trove.nla.gov.au/search/category/newspapers?keyword=text%3A%22darling%20wife%22%20date%3A%5B1850%20TO%201954%5D&l-decade=186&l-year=1861\", \"id\": \"Query 1\"}, {\"date\": \"1862-01-02\", \"total_results\": 0, \"total_articles\": 0, \"url\": \"https://trove.nla.gov.au/search/category/newspapers?keyword=text%3A%22darling%20wife%22%20date%3A%5B1850%20TO%201954%5D&l-decade=186&l-year=1862\", \"id\": \"Query 1\"}, {\"date\": \"1863-01-02\", \"total_results\": 0, \"total_articles\": 0, \"url\": \"https://trove.nla.gov.au/search/category/newspapers?keyword=text%3A%22darling%20wife%22%20date%3A%5B1850%20TO%201954%5D&l-decade=186&l-year=1863\", \"id\": \"Query 1\"}, {\"date\": \"1864-01-02\", \"total_results\": 0, \"total_articles\": 0, \"url\": \"https://trove.nla.gov.au/search/category/newspapers?keyword=text%3A%22darling%20wife%22%20date%3A%5B1850%20TO%201954%5D&l-decade=186&l-year=1864\", \"id\": \"Query 1\"}, {\"date\": \"1865-01-02\", \"total_results\": 0, \"total_articles\": 0, \"url\": \"https://trove.nla.gov.au/search/category/newspapers?keyword=text%3A%22darling%20wife%22%20date%3A%5B1850%20TO%201954%5D&l-decade=186&l-year=1865\", \"id\": \"Query 1\"}, {\"date\": \"1866-01-02\", \"total_results\": 0, \"total_articles\": 0, \"url\": \"https://trove.nla.gov.au/search/category/newspapers?keyword=text%3A%22darling%20wife%22%20date%3A%5B1850%20TO%201954%5D&l-decade=186&l-year=1866\", \"id\": \"Query 1\"}, {\"date\": \"1867-01-02\", \"total_results\": 0, \"total_articles\": 0, \"url\": \"https://trove.nla.gov.au/search/category/newspapers?keyword=text%3A%22darling%20wife%22%20date%3A%5B1850%20TO%201954%5D&l-decade=186&l-year=1867\", \"id\": \"Query 1\"}, {\"date\": \"1868-01-02\", \"total_results\": 0, \"total_articles\": 0, \"url\": \"https://trove.nla.gov.au/search/category/newspapers?keyword=text%3A%22darling%20wife%22%20date%3A%5B1850%20TO%201954%5D&l-decade=186&l-year=1868\", \"id\": \"Query 1\"}, {\"date\": \"1869-01-02\", \"total_results\": 0, \"total_articles\": 0, \"url\": \"https://trove.nla.gov.au/search/category/newspapers?keyword=text%3A%22darling%20wife%22%20date%3A%5B1850%20TO%201954%5D&l-decade=186&l-year=1869\", \"id\": \"Query 1\"}, {\"date\": \"1870-01-02\", \"total_results\": 0, \"total_articles\": 0, \"url\": \"https://trove.nla.gov.au/search/category/newspapers?keyword=text%3A%22darling%20wife%22%20date%3A%5B1850%20TO%201954%5D&l-decade=187&l-year=1870\", \"id\": \"Query 1\"}, {\"date\": \"1871-01-02\", \"total_results\": 0, \"total_articles\": 0, \"url\": \"https://trove.nla.gov.au/search/category/newspapers?keyword=text%3A%22darling%20wife%22%20date%3A%5B1850%20TO%201954%5D&l-decade=187&l-year=1871\", \"id\": \"Query 1\"}, {\"date\": \"1872-01-02\", \"total_results\": 0, \"total_articles\": 0, \"url\": \"https://trove.nla.gov.au/search/category/newspapers?keyword=text%3A%22darling%20wife%22%20date%3A%5B1850%20TO%201954%5D&l-decade=187&l-year=1872\", \"id\": \"Query 1\"}, {\"date\": \"1873-01-02\", \"total_results\": 0, \"total_articles\": 0, \"url\": \"https://trove.nla.gov.au/search/category/newspapers?keyword=text%3A%22darling%20wife%22%20date%3A%5B1850%20TO%201954%5D&l-decade=187&l-year=1873\", \"id\": \"Query 1\"}, {\"date\": \"1874-01-02\", \"total_results\": 0, \"total_articles\": 0, \"url\": \"https://trove.nla.gov.au/search/category/newspapers?keyword=text%3A%22darling%20wife%22%20date%3A%5B1850%20TO%201954%5D&l-decade=187&l-year=1874\", \"id\": \"Query 1\"}, {\"date\": \"1875-01-02\", \"total_results\": 0, \"total_articles\": 0, \"url\": \"https://trove.nla.gov.au/search/category/newspapers?keyword=text%3A%22darling%20wife%22%20date%3A%5B1850%20TO%201954%5D&l-decade=187&l-year=1875\", \"id\": \"Query 1\"}, {\"date\": \"1876-01-02\", \"total_results\": 0, \"total_articles\": 0, \"url\": \"https://trove.nla.gov.au/search/category/newspapers?keyword=text%3A%22darling%20wife%22%20date%3A%5B1850%20TO%201954%5D&l-decade=187&l-year=1876\", \"id\": \"Query 1\"}, {\"date\": \"1877-01-02\", \"total_results\": 0, \"total_articles\": 0, \"url\": \"https://trove.nla.gov.au/search/category/newspapers?keyword=text%3A%22darling%20wife%22%20date%3A%5B1850%20TO%201954%5D&l-decade=187&l-year=1877\", \"id\": \"Query 1\"}, {\"date\": \"1878-01-02\", \"total_results\": 0, \"total_articles\": 0, \"url\": \"https://trove.nla.gov.au/search/category/newspapers?keyword=text%3A%22darling%20wife%22%20date%3A%5B1850%20TO%201954%5D&l-decade=187&l-year=1878\", \"id\": \"Query 1\"}, {\"date\": \"1879-01-02\", \"total_results\": 0, \"total_articles\": 0, \"url\": \"https://trove.nla.gov.au/search/category/newspapers?keyword=text%3A%22darling%20wife%22%20date%3A%5B1850%20TO%201954%5D&l-decade=187&l-year=1879\", \"id\": \"Query 1\"}, {\"date\": \"1880-01-02\", \"total_results\": 0, \"total_articles\": 0, \"url\": \"https://trove.nla.gov.au/search/category/newspapers?keyword=text%3A%22darling%20wife%22%20date%3A%5B1850%20TO%201954%5D&l-decade=188&l-year=1880\", \"id\": \"Query 1\"}, {\"date\": \"1881-01-02\", \"total_results\": 0, \"total_articles\": 0, \"url\": \"https://trove.nla.gov.au/search/category/newspapers?keyword=text%3A%22darling%20wife%22%20date%3A%5B1850%20TO%201954%5D&l-decade=188&l-year=1881\", \"id\": \"Query 1\"}, {\"date\": \"1882-01-02\", \"total_results\": 0, \"total_articles\": 0, \"url\": \"https://trove.nla.gov.au/search/category/newspapers?keyword=text%3A%22darling%20wife%22%20date%3A%5B1850%20TO%201954%5D&l-decade=188&l-year=1882\", \"id\": \"Query 1\"}, {\"date\": \"1883-01-02\", \"total_results\": 0, \"total_articles\": 0, \"url\": \"https://trove.nla.gov.au/search/category/newspapers?keyword=text%3A%22darling%20wife%22%20date%3A%5B1850%20TO%201954%5D&l-decade=188&l-year=1883\", \"id\": \"Query 1\"}, {\"date\": \"1884-01-02\", \"total_results\": 0, \"total_articles\": 0, \"url\": \"https://trove.nla.gov.au/search/category/newspapers?keyword=text%3A%22darling%20wife%22%20date%3A%5B1850%20TO%201954%5D&l-decade=188&l-year=1884\", \"id\": \"Query 1\"}, {\"date\": \"1885-01-02\", \"total_results\": 0, \"total_articles\": 0, \"url\": \"https://trove.nla.gov.au/search/category/newspapers?keyword=text%3A%22darling%20wife%22%20date%3A%5B1850%20TO%201954%5D&l-decade=188&l-year=1885\", \"id\": \"Query 1\"}, {\"date\": \"1886-01-02\", \"total_results\": 0, \"total_articles\": 0, \"url\": \"https://trove.nla.gov.au/search/category/newspapers?keyword=text%3A%22darling%20wife%22%20date%3A%5B1850%20TO%201954%5D&l-decade=188&l-year=1886\", \"id\": \"Query 1\"}, {\"date\": \"1887-01-02\", \"total_results\": 0, \"total_articles\": 0, \"url\": \"https://trove.nla.gov.au/search/category/newspapers?keyword=text%3A%22darling%20wife%22%20date%3A%5B1850%20TO%201954%5D&l-decade=188&l-year=1887\", \"id\": \"Query 1\"}, {\"date\": \"1888-01-02\", \"total_results\": 0, \"total_articles\": 0, \"url\": \"https://trove.nla.gov.au/search/category/newspapers?keyword=text%3A%22darling%20wife%22%20date%3A%5B1850%20TO%201954%5D&l-decade=188&l-year=1888\", \"id\": \"Query 1\"}, {\"date\": \"1889-01-02\", \"total_results\": 0, \"total_articles\": 0, \"url\": \"https://trove.nla.gov.au/search/category/newspapers?keyword=text%3A%22darling%20wife%22%20date%3A%5B1850%20TO%201954%5D&l-decade=188&l-year=1889\", \"id\": \"Query 1\"}, {\"date\": \"1890-01-02\", \"total_results\": 0, \"total_articles\": 0, \"url\": \"https://trove.nla.gov.au/search/category/newspapers?keyword=text%3A%22darling%20wife%22%20date%3A%5B1850%20TO%201954%5D&l-decade=189&l-year=1890\", \"id\": \"Query 1\"}, {\"date\": \"1891-01-02\", \"total_results\": 0, \"total_articles\": 0, \"url\": \"https://trove.nla.gov.au/search/category/newspapers?keyword=text%3A%22darling%20wife%22%20date%3A%5B1850%20TO%201954%5D&l-decade=189&l-year=1891\", \"id\": \"Query 1\"}, {\"date\": \"1892-01-02\", \"total_results\": 0, \"total_articles\": 0, \"url\": \"https://trove.nla.gov.au/search/category/newspapers?keyword=text%3A%22darling%20wife%22%20date%3A%5B1850%20TO%201954%5D&l-decade=189&l-year=1892\", \"id\": \"Query 1\"}, {\"date\": \"1893-01-02\", \"total_results\": 0, \"total_articles\": 0, \"url\": \"https://trove.nla.gov.au/search/category/newspapers?keyword=text%3A%22darling%20wife%22%20date%3A%5B1850%20TO%201954%5D&l-decade=189&l-year=1893\", \"id\": \"Query 1\"}, {\"date\": \"1894-01-02\", \"total_results\": 0, \"total_articles\": 0, \"url\": \"https://trove.nla.gov.au/search/category/newspapers?keyword=text%3A%22darling%20wife%22%20date%3A%5B1850%20TO%201954%5D&l-decade=189&l-year=1894\", \"id\": \"Query 1\"}, {\"date\": \"1895-01-02\", \"total_results\": 0, \"total_articles\": 0, \"url\": \"https://trove.nla.gov.au/search/category/newspapers?keyword=text%3A%22darling%20wife%22%20date%3A%5B1850%20TO%201954%5D&l-decade=189&l-year=1895\", \"id\": \"Query 1\"}, {\"date\": \"1896-01-02\", \"total_results\": 0, \"total_articles\": 0, \"url\": \"https://trove.nla.gov.au/search/category/newspapers?keyword=text%3A%22darling%20wife%22%20date%3A%5B1850%20TO%201954%5D&l-decade=189&l-year=1896\", \"id\": \"Query 1\"}, {\"date\": \"1897-01-02\", \"total_results\": 0, \"total_articles\": 0, \"url\": \"https://trove.nla.gov.au/search/category/newspapers?keyword=text%3A%22darling%20wife%22%20date%3A%5B1850%20TO%201954%5D&l-decade=189&l-year=1897\", \"id\": \"Query 1\"}, {\"date\": \"1898-01-02\", \"total_results\": 0, \"total_articles\": 0, \"url\": \"https://trove.nla.gov.au/search/category/newspapers?keyword=text%3A%22darling%20wife%22%20date%3A%5B1850%20TO%201954%5D&l-decade=189&l-year=1898\", \"id\": \"Query 1\"}, {\"date\": \"1899-01-02\", \"total_results\": 0, \"total_articles\": 0, \"url\": \"https://trove.nla.gov.au/search/category/newspapers?keyword=text%3A%22darling%20wife%22%20date%3A%5B1850%20TO%201954%5D&l-decade=189&l-year=1899\", \"id\": \"Query 1\"}, {\"date\": \"1900-01-02\", \"total_results\": 0, \"total_articles\": 0, \"url\": \"https://trove.nla.gov.au/search/category/newspapers?keyword=text%3A%22darling%20wife%22%20date%3A%5B1850%20TO%201954%5D&l-decade=190&l-year=1900\", \"id\": \"Query 1\"}, {\"date\": \"1901-01-02\", \"total_results\": 0, \"total_articles\": 0, \"url\": \"https://trove.nla.gov.au/search/category/newspapers?keyword=text%3A%22darling%20wife%22%20date%3A%5B1850%20TO%201954%5D&l-decade=190&l-year=1901\", \"id\": \"Query 1\"}, {\"date\": \"1902-01-02\", \"total_results\": 0, \"total_articles\": 0, \"url\": \"https://trove.nla.gov.au/search/category/newspapers?keyword=text%3A%22darling%20wife%22%20date%3A%5B1850%20TO%201954%5D&l-decade=190&l-year=1902\", \"id\": \"Query 1\"}, {\"date\": \"1903-01-02\", \"total_results\": 0, \"total_articles\": 0, \"url\": \"https://trove.nla.gov.au/search/category/newspapers?keyword=text%3A%22darling%20wife%22%20date%3A%5B1850%20TO%201954%5D&l-decade=190&l-year=1903\", \"id\": \"Query 1\"}, {\"date\": \"1904-01-02\", \"total_results\": 0, \"total_articles\": 0, \"url\": \"https://trove.nla.gov.au/search/category/newspapers?keyword=text%3A%22darling%20wife%22%20date%3A%5B1850%20TO%201954%5D&l-decade=190&l-year=1904\", \"id\": \"Query 1\"}, {\"date\": \"1905-01-02\", \"total_results\": 0, \"total_articles\": 0, \"url\": \"https://trove.nla.gov.au/search/category/newspapers?keyword=text%3A%22darling%20wife%22%20date%3A%5B1850%20TO%201954%5D&l-decade=190&l-year=1905\", \"id\": \"Query 1\"}, {\"date\": \"1906-01-02\", \"total_results\": 0, \"total_articles\": 0, \"url\": \"https://trove.nla.gov.au/search/category/newspapers?keyword=text%3A%22darling%20wife%22%20date%3A%5B1850%20TO%201954%5D&l-decade=190&l-year=1906\", \"id\": \"Query 1\"}, {\"date\": \"1907-01-02\", \"total_results\": 0, \"total_articles\": 0, \"url\": \"https://trove.nla.gov.au/search/category/newspapers?keyword=text%3A%22darling%20wife%22%20date%3A%5B1850%20TO%201954%5D&l-decade=190&l-year=1907\", \"id\": \"Query 1\"}, {\"date\": \"1908-01-02\", \"total_results\": 0, \"total_articles\": 0, \"url\": \"https://trove.nla.gov.au/search/category/newspapers?keyword=text%3A%22darling%20wife%22%20date%3A%5B1850%20TO%201954%5D&l-decade=190&l-year=1908\", \"id\": \"Query 1\"}, {\"date\": \"1909-01-02\", \"total_results\": 0, \"total_articles\": 0, \"url\": \"https://trove.nla.gov.au/search/category/newspapers?keyword=text%3A%22darling%20wife%22%20date%3A%5B1850%20TO%201954%5D&l-decade=190&l-year=1909\", \"id\": \"Query 1\"}, {\"date\": \"1910-01-02\", \"total_results\": 0, \"total_articles\": 0, \"url\": \"https://trove.nla.gov.au/search/category/newspapers?keyword=text%3A%22darling%20wife%22%20date%3A%5B1850%20TO%201954%5D&l-decade=191&l-year=1910\", \"id\": \"Query 1\"}, {\"date\": \"1911-01-02\", \"total_results\": 0, \"total_articles\": 0, \"url\": \"https://trove.nla.gov.au/search/category/newspapers?keyword=text%3A%22darling%20wife%22%20date%3A%5B1850%20TO%201954%5D&l-decade=191&l-year=1911\", \"id\": \"Query 1\"}, {\"date\": \"1912-01-02\", \"total_results\": 0, \"total_articles\": 0, \"url\": \"https://trove.nla.gov.au/search/category/newspapers?keyword=text%3A%22darling%20wife%22%20date%3A%5B1850%20TO%201954%5D&l-decade=191&l-year=1912\", \"id\": \"Query 1\"}, {\"date\": \"1913-01-02\", \"total_results\": 0, \"total_articles\": 0, \"url\": \"https://trove.nla.gov.au/search/category/newspapers?keyword=text%3A%22darling%20wife%22%20date%3A%5B1850%20TO%201954%5D&l-decade=191&l-year=1913\", \"id\": \"Query 1\"}, {\"date\": \"1914-01-02\", \"total_results\": 0, \"total_articles\": 0, \"url\": \"https://trove.nla.gov.au/search/category/newspapers?keyword=text%3A%22darling%20wife%22%20date%3A%5B1850%20TO%201954%5D&l-decade=191&l-year=1914\", \"id\": \"Query 1\"}, {\"date\": \"1915-01-02\", \"total_results\": 0, \"total_articles\": 0, \"url\": \"https://trove.nla.gov.au/search/category/newspapers?keyword=text%3A%22darling%20wife%22%20date%3A%5B1850%20TO%201954%5D&l-decade=191&l-year=1915\", \"id\": \"Query 1\"}, {\"date\": \"1916-01-02\", \"total_results\": 0, \"total_articles\": 0, \"url\": \"https://trove.nla.gov.au/search/category/newspapers?keyword=text%3A%22darling%20wife%22%20date%3A%5B1850%20TO%201954%5D&l-decade=191&l-year=1916\", \"id\": \"Query 1\"}, {\"date\": \"1917-01-02\", \"total_results\": 0, \"total_articles\": 0, \"url\": \"https://trove.nla.gov.au/search/category/newspapers?keyword=text%3A%22darling%20wife%22%20date%3A%5B1850%20TO%201954%5D&l-decade=191&l-year=1917\", \"id\": \"Query 1\"}, {\"date\": \"1918-01-02\", \"total_results\": 0, \"total_articles\": 0, \"url\": \"https://trove.nla.gov.au/search/category/newspapers?keyword=text%3A%22darling%20wife%22%20date%3A%5B1850%20TO%201954%5D&l-decade=191&l-year=1918\", \"id\": \"Query 1\"}, {\"date\": \"1919-01-02\", \"total_results\": 0, \"total_articles\": 0, \"url\": \"https://trove.nla.gov.au/search/category/newspapers?keyword=text%3A%22darling%20wife%22%20date%3A%5B1850%20TO%201954%5D&l-decade=191&l-year=1919\", \"id\": \"Query 1\"}, {\"date\": \"1920-01-02\", \"total_results\": 0, \"total_articles\": 0, \"url\": \"https://trove.nla.gov.au/search/category/newspapers?keyword=text%3A%22darling%20wife%22%20date%3A%5B1850%20TO%201954%5D&l-decade=192&l-year=1920\", \"id\": \"Query 1\"}, {\"date\": \"1921-01-02\", \"total_results\": 0, \"total_articles\": 0, \"url\": \"https://trove.nla.gov.au/search/category/newspapers?keyword=text%3A%22darling%20wife%22%20date%3A%5B1850%20TO%201954%5D&l-decade=192&l-year=1921\", \"id\": \"Query 1\"}, {\"date\": \"1922-01-02\", \"total_results\": 0, \"total_articles\": 0, \"url\": \"https://trove.nla.gov.au/search/category/newspapers?keyword=text%3A%22darling%20wife%22%20date%3A%5B1850%20TO%201954%5D&l-decade=192&l-year=1922\", \"id\": \"Query 1\"}, {\"date\": \"1923-01-02\", \"total_results\": 0, \"total_articles\": 0, \"url\": \"https://trove.nla.gov.au/search/category/newspapers?keyword=text%3A%22darling%20wife%22%20date%3A%5B1850%20TO%201954%5D&l-decade=192&l-year=1923\", \"id\": \"Query 1\"}, {\"date\": \"1924-01-02\", \"total_results\": 0, \"total_articles\": 0, \"url\": \"https://trove.nla.gov.au/search/category/newspapers?keyword=text%3A%22darling%20wife%22%20date%3A%5B1850%20TO%201954%5D&l-decade=192&l-year=1924\", \"id\": \"Query 1\"}, {\"date\": \"1925-01-02\", \"total_results\": 0, \"total_articles\": 0, \"url\": \"https://trove.nla.gov.au/search/category/newspapers?keyword=text%3A%22darling%20wife%22%20date%3A%5B1850%20TO%201954%5D&l-decade=192&l-year=1925\", \"id\": \"Query 1\"}, {\"date\": \"1926-01-02\", \"total_results\": 0, \"total_articles\": 0, \"url\": \"https://trove.nla.gov.au/search/category/newspapers?keyword=text%3A%22darling%20wife%22%20date%3A%5B1850%20TO%201954%5D&l-decade=192&l-year=1926\", \"id\": \"Query 1\"}, {\"date\": \"1927-01-02\", \"total_results\": 0, \"total_articles\": 0, \"url\": \"https://trove.nla.gov.au/search/category/newspapers?keyword=text%3A%22darling%20wife%22%20date%3A%5B1850%20TO%201954%5D&l-decade=192&l-year=1927\", \"id\": \"Query 1\"}, {\"date\": \"1928-01-02\", \"total_results\": 0, \"total_articles\": 0, \"url\": \"https://trove.nla.gov.au/search/category/newspapers?keyword=text%3A%22darling%20wife%22%20date%3A%5B1850%20TO%201954%5D&l-decade=192&l-year=1928\", \"id\": \"Query 1\"}, {\"date\": \"1929-01-02\", \"total_results\": 0, \"total_articles\": 0, \"url\": \"https://trove.nla.gov.au/search/category/newspapers?keyword=text%3A%22darling%20wife%22%20date%3A%5B1850%20TO%201954%5D&l-decade=192&l-year=1929\", \"id\": \"Query 1\"}, {\"date\": \"1930-01-02\", \"total_results\": 0, \"total_articles\": 0, \"url\": \"https://trove.nla.gov.au/search/category/newspapers?keyword=text%3A%22darling%20wife%22%20date%3A%5B1850%20TO%201954%5D&l-decade=193&l-year=1930\", \"id\": \"Query 1\"}, {\"date\": \"1931-01-02\", \"total_results\": 0, \"total_articles\": 0, \"url\": \"https://trove.nla.gov.au/search/category/newspapers?keyword=text%3A%22darling%20wife%22%20date%3A%5B1850%20TO%201954%5D&l-decade=193&l-year=1931\", \"id\": \"Query 1\"}, {\"date\": \"1932-01-02\", \"total_results\": 0, \"total_articles\": 0, \"url\": \"https://trove.nla.gov.au/search/category/newspapers?keyword=text%3A%22darling%20wife%22%20date%3A%5B1850%20TO%201954%5D&l-decade=193&l-year=1932\", \"id\": \"Query 1\"}, {\"date\": \"1933-01-02\", \"total_results\": 0, \"total_articles\": 0, \"url\": \"https://trove.nla.gov.au/search/category/newspapers?keyword=text%3A%22darling%20wife%22%20date%3A%5B1850%20TO%201954%5D&l-decade=193&l-year=1933\", \"id\": \"Query 1\"}, {\"date\": \"1934-01-02\", \"total_results\": 0, \"total_articles\": 0, \"url\": \"https://trove.nla.gov.au/search/category/newspapers?keyword=text%3A%22darling%20wife%22%20date%3A%5B1850%20TO%201954%5D&l-decade=193&l-year=1934\", \"id\": \"Query 1\"}, {\"date\": \"1935-01-02\", \"total_results\": 0, \"total_articles\": 0, \"url\": \"https://trove.nla.gov.au/search/category/newspapers?keyword=text%3A%22darling%20wife%22%20date%3A%5B1850%20TO%201954%5D&l-decade=193&l-year=1935\", \"id\": \"Query 1\"}, {\"date\": \"1936-01-02\", \"total_results\": 0, \"total_articles\": 0, \"url\": \"https://trove.nla.gov.au/search/category/newspapers?keyword=text%3A%22darling%20wife%22%20date%3A%5B1850%20TO%201954%5D&l-decade=193&l-year=1936\", \"id\": \"Query 1\"}, {\"date\": \"1937-01-02\", \"total_results\": 0, \"total_articles\": 0, \"url\": \"https://trove.nla.gov.au/search/category/newspapers?keyword=text%3A%22darling%20wife%22%20date%3A%5B1850%20TO%201954%5D&l-decade=193&l-year=1937\", \"id\": \"Query 1\"}, {\"date\": \"1938-01-02\", \"total_results\": 0, \"total_articles\": 0, \"url\": \"https://trove.nla.gov.au/search/category/newspapers?keyword=text%3A%22darling%20wife%22%20date%3A%5B1850%20TO%201954%5D&l-decade=193&l-year=1938\", \"id\": \"Query 1\"}, {\"date\": \"1939-01-02\", \"total_results\": 0, \"total_articles\": 0, \"url\": \"https://trove.nla.gov.au/search/category/newspapers?keyword=text%3A%22darling%20wife%22%20date%3A%5B1850%20TO%201954%5D&l-decade=193&l-year=1939\", \"id\": \"Query 1\"}, {\"date\": \"1940-01-02\", \"total_results\": 0, \"total_articles\": 0, \"url\": \"https://trove.nla.gov.au/search/category/newspapers?keyword=text%3A%22darling%20wife%22%20date%3A%5B1850%20TO%201954%5D&l-decade=194&l-year=1940\", \"id\": \"Query 1\"}, {\"date\": \"1941-01-02\", \"total_results\": 0, \"total_articles\": 0, \"url\": \"https://trove.nla.gov.au/search/category/newspapers?keyword=text%3A%22darling%20wife%22%20date%3A%5B1850%20TO%201954%5D&l-decade=194&l-year=1941\", \"id\": \"Query 1\"}, {\"date\": \"1942-01-02\", \"total_results\": 0, \"total_articles\": 0, \"url\": \"https://trove.nla.gov.au/search/category/newspapers?keyword=text%3A%22darling%20wife%22%20date%3A%5B1850%20TO%201954%5D&l-decade=194&l-year=1942\", \"id\": \"Query 1\"}, {\"date\": \"1943-01-02\", \"total_results\": 0, \"total_articles\": 0, \"url\": \"https://trove.nla.gov.au/search/category/newspapers?keyword=text%3A%22darling%20wife%22%20date%3A%5B1850%20TO%201954%5D&l-decade=194&l-year=1943\", \"id\": \"Query 1\"}, {\"date\": \"1944-01-02\", \"total_results\": 0, \"total_articles\": 0, \"url\": \"https://trove.nla.gov.au/search/category/newspapers?keyword=text%3A%22darling%20wife%22%20date%3A%5B1850%20TO%201954%5D&l-decade=194&l-year=1944\", \"id\": \"Query 1\"}, {\"date\": \"1945-01-02\", \"total_results\": 0, \"total_articles\": 0, \"url\": \"https://trove.nla.gov.au/search/category/newspapers?keyword=text%3A%22darling%20wife%22%20date%3A%5B1850%20TO%201954%5D&l-decade=194&l-year=1945\", \"id\": \"Query 1\"}, {\"date\": \"1946-01-02\", \"total_results\": 0, \"total_articles\": 0, \"url\": \"https://trove.nla.gov.au/search/category/newspapers?keyword=text%3A%22darling%20wife%22%20date%3A%5B1850%20TO%201954%5D&l-decade=194&l-year=1946\", \"id\": \"Query 1\"}, {\"date\": \"1947-01-02\", \"total_results\": 0, \"total_articles\": 0, \"url\": \"https://trove.nla.gov.au/search/category/newspapers?keyword=text%3A%22darling%20wife%22%20date%3A%5B1850%20TO%201954%5D&l-decade=194&l-year=1947\", \"id\": \"Query 1\"}, {\"date\": \"1948-01-02\", \"total_results\": 0, \"total_articles\": 0, \"url\": \"https://trove.nla.gov.au/search/category/newspapers?keyword=text%3A%22darling%20wife%22%20date%3A%5B1850%20TO%201954%5D&l-decade=194&l-year=1948\", \"id\": \"Query 1\"}, {\"date\": \"1949-01-02\", \"total_results\": 0, \"total_articles\": 0, \"url\": \"https://trove.nla.gov.au/search/category/newspapers?keyword=text%3A%22darling%20wife%22%20date%3A%5B1850%20TO%201954%5D&l-decade=194&l-year=1949\", \"id\": \"Query 1\"}, {\"date\": \"1950-01-02\", \"total_results\": 0, \"total_articles\": 0, \"url\": \"https://trove.nla.gov.au/search/category/newspapers?keyword=text%3A%22darling%20wife%22%20date%3A%5B1850%20TO%201954%5D&l-decade=195&l-year=1950\", \"id\": \"Query 1\"}, {\"date\": \"1951-01-02\", \"total_results\": 0, \"total_articles\": 0, \"url\": \"https://trove.nla.gov.au/search/category/newspapers?keyword=text%3A%22darling%20wife%22%20date%3A%5B1850%20TO%201954%5D&l-decade=195&l-year=1951\", \"id\": \"Query 1\"}, {\"date\": \"1952-01-02\", \"total_results\": 0, \"total_articles\": 0, \"url\": \"https://trove.nla.gov.au/search/category/newspapers?keyword=text%3A%22darling%20wife%22%20date%3A%5B1850%20TO%201954%5D&l-decade=195&l-year=1952\", \"id\": \"Query 1\"}, {\"date\": \"1953-01-02\", \"total_results\": 0, \"total_articles\": 0, \"url\": \"https://trove.nla.gov.au/search/category/newspapers?keyword=text%3A%22darling%20wife%22%20date%3A%5B1850%20TO%201954%5D&l-decade=195&l-year=1953\", \"id\": \"Query 1\"}], \"data-a84671b8975528608e8fe6591fb4c574\": [{\"x\": 0, \"y\": 0, \"id\": \"Query 1\", \"url\": \"https://trove.nla.gov.au/search/category/newspapers?keyword=text%3A%22darling%20wife%22%20date%3A%5B1850%20TO%201954%5D\", \"params\": \"keyword=text%3A%22darling%20wife%22%20date%3A%5B1850%20TO%201954%5D\"}]}}, {\"mode\": \"vega-lite\"});\n</script>",
          "text/plain": "alt.VConcatChart(...)"
         },
         "metadata": {},
         "output_type": "display_data"
        }
       ]
      }
     },
     "778b2ef8b1fa481bbdf8ce985a54b7d0": {
      "model_module": "@jupyter-widgets/base",
      "model_module_version": "1.2.0",
      "model_name": "LayoutModel",
      "state": {}
     },
     "780e12a4dc2346e6b1bc936498778e32": {
      "model_module": "@jupyter-widgets/controls",
      "model_module_version": "1.5.0",
      "model_name": "DescriptionStyleModel",
      "state": {
       "description_width": ""
      }
     },
     "781008025d964063845104cc4ced1237": {
      "model_module": "@jupyter-widgets/controls",
      "model_module_version": "1.5.0",
      "model_name": "DescriptionStyleModel",
      "state": {
       "description_width": ""
      }
     },
     "78538576620a4dbb9382f8423faeb3cc": {
      "model_module": "@jupyter-widgets/controls",
      "model_module_version": "1.5.0",
      "model_name": "HTMLModel",
      "state": {
       "layout": "IPY_MODEL_0644195d2fa649eb960cad9d909a2dd5",
       "style": "IPY_MODEL_27effab6bc1f43c296fae67839720921",
       "value": " 31/31 [00:31&lt;00:00,  1.01s/it]"
      }
     },
     "78558748fc764da0bac972e7b593ab16": {
      "model_module": "@jupyter-widgets/base",
      "model_module_version": "1.2.0",
      "model_name": "LayoutModel",
      "state": {}
     },
     "78701163e496406a81747cb614887069": {
      "model_module": "@jupyter-widgets/controls",
      "model_module_version": "1.5.0",
      "model_name": "ButtonStyleModel",
      "state": {}
     },
     "78e48c1e363844a6872409ca870bab64": {
      "model_module": "@jupyter-widgets/base",
      "model_module_version": "1.2.0",
      "model_name": "LayoutModel",
      "state": {
       "margin": "0 0 20px 0"
      }
     },
     "79260c1083b34dc89b557a6cbe786d2e": {
      "model_module": "@jupyter-widgets/controls",
      "model_module_version": "1.5.0",
      "model_name": "DescriptionStyleModel",
      "state": {
       "description_width": ""
      }
     },
     "79d7144c9d414a1bb66e20e03323f4f7": {
      "model_module": "@jupyter-widgets/controls",
      "model_module_version": "1.5.0",
      "model_name": "ButtonModel",
      "state": {
       "description": "Remove last query",
       "layout": "IPY_MODEL_6078457f9cae423285466ee783ee063c",
       "style": "IPY_MODEL_ecd34f52f5ee42f4ae3598a4e40d089a",
       "tooltip": "Remove the last query"
      }
     },
     "7a40dc9ded1c44288aebb79f2549f692": {
      "model_module": "@jupyter-widgets/base",
      "model_module_version": "1.2.0",
      "model_name": "LayoutModel",
      "state": {}
     },
     "7a5451c381e649088b978b741d2cb9dd": {
      "model_module": "@jupyter-widgets/base",
      "model_module_version": "1.2.0",
      "model_name": "LayoutModel",
      "state": {}
     },
     "7aac87d3d54443dd8aea39cffe9689cb": {
      "model_module": "@jupyter-widgets/base",
      "model_module_version": "1.2.0",
      "model_name": "LayoutModel",
      "state": {
       "width": "80%"
      }
     },
     "7ab2bb6a040946919ac76672a18a81d4": {
      "model_module": "@jupyter-widgets/controls",
      "model_module_version": "1.5.0",
      "model_name": "TextModel",
      "state": {
       "description": "Query:",
       "layout": "IPY_MODEL_83b3878d340e4e9dbd2c3d89698234dc",
       "placeholder": "Enter your search query",
       "style": "IPY_MODEL_a0ab92deb73f4de881d333c67c4aa86a",
       "value": "https://trove.nla.gov.au/search/category/newspapers?keyword=text%3A%22darling%20wife%22%20date%3A%5B1850%20TO%201954%5D"
      }
     },
     "7ae3865b478f4be7a728bb3e7c6892be": {
      "model_module": "@jupyter-widgets/base",
      "model_module_version": "1.2.0",
      "model_name": "LayoutModel",
      "state": {}
     },
     "7af64a8d74ea402881159031e90c8471": {
      "model_module": "@jupyter-widgets/controls",
      "model_module_version": "1.5.0",
      "model_name": "ButtonModel",
      "state": {
       "button_style": "primary",
       "description": "Save chart as HTML",
       "layout": "IPY_MODEL_f1db4afb0e5c4a08af2213ef3056fc01",
       "style": "IPY_MODEL_360cafcffc4e45c98da478f59bde48e0",
       "tooltip": "Save chart as HTML"
      }
     },
     "7b54aa33434343088aaea2bc54872fde": {
      "model_module": "@jupyter-widgets/controls",
      "model_module_version": "1.5.0",
      "model_name": "DescriptionStyleModel",
      "state": {
       "description_width": ""
      }
     },
     "7b5778b4dc13481d922230c5f10f45c0": {
      "model_module": "@jupyter-widgets/base",
      "model_module_version": "1.2.0",
      "model_name": "LayoutModel",
      "state": {
       "width": "80%"
      }
     },
     "7c25ba8e6a4d40cc90c85ede1a5a21d2": {
      "model_module": "@jupyter-widgets/controls",
      "model_module_version": "1.5.0",
      "model_name": "BoundedIntTextModel",
      "state": {
       "description": "Height",
       "layout": "IPY_MODEL_ac683bda757746e7917f0a3cfffc0dd5",
       "max": 1500,
       "min": 400,
       "step": 100,
       "style": "IPY_MODEL_1f38ec79133a43f98ce8e67fcbff8522",
       "value": 400
      }
     },
     "7c2e7f45f3104f599396d7664e2f6854": {
      "model_module": "@jupyter-widgets/controls",
      "model_module_version": "1.5.0",
      "model_name": "FloatProgressModel",
      "state": {
       "layout": "IPY_MODEL_1344656b26524e7f85f61708177c84f9",
       "max": 11,
       "style": "IPY_MODEL_e81301b49b604165aa00407b0a6f120e",
       "value": 11
      }
     },
     "7c6f3cb5582a4ad791ebdd11e37db581": {
      "model_module": "@jupyter-widgets/controls",
      "model_module_version": "1.5.0",
      "model_name": "HTMLModel",
      "state": {
       "layout": "IPY_MODEL_74b5458fe4114ae49a70e040ab8ecea5",
       "style": "IPY_MODEL_b881620764ea49e3a37f4459ace520e9",
       "value": "100%"
      }
     },
     "7ca36395edf84971a77e433717513eae": {
      "model_module": "@jupyter-widgets/base",
      "model_module_version": "1.2.0",
      "model_name": "LayoutModel",
      "state": {
       "width": "80%"
      }
     },
     "7cbf2b7ff883462faf4e87a37221bfef": {
      "model_module": "@jupyter-widgets/controls",
      "model_module_version": "1.5.0",
      "model_name": "DescriptionStyleModel",
      "state": {
       "description_width": ""
      }
     },
     "7ce5a5e92dee4381a6bf81db5a5a993e": {
      "model_module": "@jupyter-widgets/controls",
      "model_module_version": "1.5.0",
      "model_name": "DescriptionStyleModel",
      "state": {
       "description_width": ""
      }
     },
     "7d707c91e6bd42d9a66a38d5c1735423": {
      "model_module": "@jupyter-widgets/output",
      "model_module_version": "1.0.0",
      "model_name": "OutputModel",
      "state": {
       "layout": "IPY_MODEL_f3f880b2f1594374aaca079e13bfe4dc"
      }
     },
     "7e1e1db627964a16aa59a0f8a82e57db": {
      "model_module": "@jupyter-widgets/controls",
      "model_module_version": "1.5.0",
      "model_name": "DescriptionStyleModel",
      "state": {
       "description_width": ""
      }
     },
     "7e44b67508b3451e88687b5a692f4dbb": {
      "model_module": "@jupyter-widgets/controls",
      "model_module_version": "1.5.0",
      "model_name": "HBoxModel",
      "state": {
       "children": [
        "IPY_MODEL_e5c26c3db0274055bcc2e5a261f3aa27",
        "IPY_MODEL_5668d294c3db487292fa69ded5a04dbe",
        "IPY_MODEL_e881ba16e33b449cb9c0737890dffe6a"
       ],
       "layout": "IPY_MODEL_bde62db43ab140688b4d61dda814117f"
      }
     },
     "7e6b961a0f8a44888e1468e252d89ead": {
      "model_module": "@jupyter-widgets/controls",
      "model_module_version": "1.5.0",
      "model_name": "VBoxModel",
      "state": {
       "children": [
        "IPY_MODEL_d738849453a34a949297084f8a3fcf63",
        "IPY_MODEL_c26dada0ad0e4a9da83b6c29082b46f4",
        "IPY_MODEL_fb27efc08bf64eb1be0865b3a561c08e"
       ],
       "layout": "IPY_MODEL_87a16ccfa9424030a56b1656fefdbeff"
      }
     },
     "7ef0069ea76b4fe9b2f0b2adf0484231": {
      "model_module": "@jupyter-widgets/controls",
      "model_module_version": "1.5.0",
      "model_name": "ButtonStyleModel",
      "state": {}
     },
     "7ef8e560dbfd4386912afc55e64e2eef": {
      "model_module": "@jupyter-widgets/base",
      "model_module_version": "1.2.0",
      "model_name": "LayoutModel",
      "state": {}
     },
     "7fb4aba121e442f0822521911f7fd163": {
      "model_module": "@jupyter-widgets/base",
      "model_module_version": "1.2.0",
      "model_name": "LayoutModel",
      "state": {}
     },
     "8028bf602a6d4775be4aaed919fa9283": {
      "model_module": "@jupyter-widgets/controls",
      "model_module_version": "1.5.0",
      "model_name": "DescriptionStyleModel",
      "state": {
       "description_width": ""
      }
     },
     "80507a99765e4e348676ac4d632df44a": {
      "model_module": "@jupyter-widgets/base",
      "model_module_version": "1.2.0",
      "model_name": "LayoutModel",
      "state": {}
     },
     "80dad6222aca4d3bb4d93fc28e7f06d9": {
      "model_module": "@jupyter-widgets/controls",
      "model_module_version": "1.5.0",
      "model_name": "DescriptionStyleModel",
      "state": {
       "description_width": ""
      }
     },
     "80edb17d84474e46995bf448de3d8521": {
      "model_module": "@jupyter-widgets/controls",
      "model_module_version": "1.5.0",
      "model_name": "ButtonStyleModel",
      "state": {}
     },
     "8163d7318d03487e8a7a9a4c18d0f9f1": {
      "model_module": "@jupyter-widgets/controls",
      "model_module_version": "1.5.0",
      "model_name": "ButtonStyleModel",
      "state": {}
     },
     "82abec383b3f43bbb305825b7ed61e41": {
      "model_module": "@jupyter-widgets/controls",
      "model_module_version": "1.5.0",
      "model_name": "BoundedIntTextModel",
      "state": {
       "description": "Width",
       "layout": "IPY_MODEL_e076a7fb1f4e469790b0a22fe7ede922",
       "max": 2000,
       "min": 700,
       "step": 100,
       "style": "IPY_MODEL_49f957cfa9b942439b4435ef07b5e241",
       "value": 700
      }
     },
     "82b2eaf54b524a0b8cb720dea7172c24": {
      "model_module": "@jupyter-widgets/controls",
      "model_module_version": "1.5.0",
      "model_name": "DropdownModel",
      "state": {
       "_options_labels": [
        "Raw number of results",
        "Proportion of total articles"
       ],
       "index": 0,
       "layout": "IPY_MODEL_dcbe6abc9eb54287b6ec4ba4988a72cc",
       "style": "IPY_MODEL_65c6499fe9734e45ad787e69fabb5eb1"
      }
     },
     "83430bb4d78f4ccebb39937471796bfd": {
      "model_module": "@jupyter-widgets/controls",
      "model_module_version": "1.5.0",
      "model_name": "DropdownModel",
      "state": {
       "_options_labels": [
        "Raw number of results",
        "Proportion of total articles"
       ],
       "index": 0,
       "layout": "IPY_MODEL_d89b082cddd6436b8ac0c3ee2a05812b",
       "style": "IPY_MODEL_df1520eca32944a18c9d9fee731188ba"
      }
     },
     "836a48322e164c25ba3074af247bad2b": {
      "model_module": "@jupyter-widgets/controls",
      "model_module_version": "1.5.0",
      "model_name": "DescriptionStyleModel",
      "state": {
       "description_width": ""
      }
     },
     "83b3878d340e4e9dbd2c3d89698234dc": {
      "model_module": "@jupyter-widgets/base",
      "model_module_version": "1.2.0",
      "model_name": "LayoutModel",
      "state": {
       "width": "80%"
      }
     },
     "83b96b1feeb442f68693bcb7ce0f15b8": {
      "model_module": "@jupyter-widgets/controls",
      "model_module_version": "1.5.0",
      "model_name": "DropdownModel",
      "state": {
       "_options_labels": [
        "Raw number of results",
        "Proportion of total articles"
       ],
       "index": 0,
       "layout": "IPY_MODEL_f95ebd6d25724c0a8ac63e41ca6ed47e",
       "style": "IPY_MODEL_afaa20b48ad24a2e88d91bf1cdbacfbe"
      }
     },
     "83e5e43235f24f8c8e7696822fe8a58c": {
      "model_module": "@jupyter-widgets/controls",
      "model_module_version": "1.5.0",
      "model_name": "HBoxModel",
      "state": {
       "children": [
        "IPY_MODEL_af9e7b2c3801488e865a92556a663439",
        "IPY_MODEL_5707bae9be574ee0a7a33c9afff4ae74",
        "IPY_MODEL_62daf2fb2db7418391f644c67136d1c0"
       ],
       "layout": "IPY_MODEL_7467f2717d8f45b388d023ea77029b7a"
      }
     },
     "83fb941065264c63bddf7c9e4a9af3e4": {
      "model_module": "@jupyter-widgets/controls",
      "model_module_version": "1.5.0",
      "model_name": "HBoxModel",
      "state": {
       "children": [
        "IPY_MODEL_3eda71e7b87c44d687351e6e195b2d8a",
        "IPY_MODEL_42a34eef30004000ba8b025ea4bf8f9f",
        "IPY_MODEL_ebba1a6f7af647df85cd370bc6c1026d"
       ],
       "layout": "IPY_MODEL_0d3989ac66244f9aa1577d23707d7934"
      }
     },
     "851dffe33b5f476e805829052248d74e": {
      "model_module": "@jupyter-widgets/base",
      "model_module_version": "1.2.0",
      "model_name": "LayoutModel",
      "state": {}
     },
     "8540233799f845189e639f90806d4bdd": {
      "model_module": "@jupyter-widgets/base",
      "model_module_version": "1.2.0",
      "model_name": "LayoutModel",
      "state": {}
     },
     "854c23e231ae479a924f732b8a76bc3c": {
      "model_module": "@jupyter-widgets/controls",
      "model_module_version": "1.5.0",
      "model_name": "BoundedIntTextModel",
      "state": {
       "description": "Width",
       "layout": "IPY_MODEL_86eadfadcff84b3aa7a80dbd69cbedb4",
       "max": 2000,
       "min": 700,
       "step": 100,
       "style": "IPY_MODEL_b2acb48a558148818cc290a4346a3ec4",
       "value": 700
      }
     },
     "855b2debb6b64292a7b17f2c2fad8e9d": {
      "model_module": "@jupyter-widgets/controls",
      "model_module_version": "1.5.0",
      "model_name": "ButtonStyleModel",
      "state": {}
     },
     "856ac167677e46399473211313f86d00": {
      "model_module": "@jupyter-widgets/controls",
      "model_module_version": "1.5.0",
      "model_name": "HBoxModel",
      "state": {
       "children": [
        "IPY_MODEL_914d1c91ee4847608f2a4424e1fcfdc6",
        "IPY_MODEL_b53985d2136b48708083ae5cbdfd9d83",
        "IPY_MODEL_5deb839e2ef04b2f847d9dede2fa4e26"
       ],
       "layout": "IPY_MODEL_1f8c0368ac664f3db0f2e1a2f66742cd"
      }
     },
     "859aba23d029427ab722789dd1a6d6e0": {
      "model_module": "@jupyter-widgets/controls",
      "model_module_version": "1.5.0",
      "model_name": "PasswordModel",
      "state": {
       "description": "API key:",
       "layout": "IPY_MODEL_7081a8a62f834ffd937b075ff4d607c8",
       "placeholder": "Enter your Trove API key",
       "style": "IPY_MODEL_bab6fb843aec4d029ea189ef3d8228d1"
      }
     },
     "85cdb8c53aa24cac8aa3d9fa0198b9c3": {
      "model_module": "@jupyter-widgets/base",
      "model_module_version": "1.2.0",
      "model_name": "LayoutModel",
      "state": {}
     },
     "86498f9bfbf544e49a093ca1d1ca610d": {
      "model_module": "@jupyter-widgets/controls",
      "model_module_version": "1.5.0",
      "model_name": "HTMLModel",
      "state": {
       "layout": "IPY_MODEL_b801cb5141cb4db89828f0665c5e8f39",
       "style": "IPY_MODEL_364ff1c6bf8c40a191379ef0b87029e0",
       "value": " 11/11 [00:18&lt;00:00,  1.66s/it]"
      }
     },
     "8657773be117439b86cde28858c89cc5": {
      "model_module": "@jupyter-widgets/controls",
      "model_module_version": "1.5.0",
      "model_name": "FloatProgressModel",
      "state": {
       "layout": "IPY_MODEL_3794568549f54645b45afa90cbb33892",
       "max": 11,
       "style": "IPY_MODEL_ea29250a824b41df9b7075e12199617c",
       "value": 11
      }
     },
     "866b029a703d42b2a3ede1388d107384": {
      "model_module": "@jupyter-widgets/controls",
      "model_module_version": "1.5.0",
      "model_name": "HTMLModel",
      "state": {
       "layout": "IPY_MODEL_3c84099379de4088aaaf5c651cbc1e04",
       "style": "IPY_MODEL_487c53f7d81d4695b52f08d969662c03",
       "value": " 0/11 [00:00&lt;?, ?it/s]"
      }
     },
     "868ba60458994a248799098de6294c21": {
      "model_module": "@jupyter-widgets/controls",
      "model_module_version": "1.5.0",
      "model_name": "ButtonModel",
      "state": {
       "description": "Remove last query",
       "layout": "IPY_MODEL_9f77113b450c45cb83f05eb343b6352b",
       "style": "IPY_MODEL_80edb17d84474e46995bf448de3d8521",
       "tooltip": "Remove the last query"
      }
     },
     "86eadfadcff84b3aa7a80dbd69cbedb4": {
      "model_module": "@jupyter-widgets/base",
      "model_module_version": "1.2.0",
      "model_name": "LayoutModel",
      "state": {}
     },
     "87151bebf1f74071a686af1ca964d02f": {
      "model_module": "@jupyter-widgets/base",
      "model_module_version": "1.2.0",
      "model_name": "LayoutModel",
      "state": {
       "margin": "50px 0 50px 0"
      }
     },
     "873090647b1d4188a03bbeceab41c52d": {
      "model_module": "@jupyter-widgets/controls",
      "model_module_version": "1.5.0",
      "model_name": "HTMLModel",
      "state": {
       "layout": "IPY_MODEL_fc060f9758df4ccc901635465df0573b",
       "style": "IPY_MODEL_dab86d566b574905a3525367e40d2288",
       "value": "  0%"
      }
     },
     "87330517d2fd4308b7ebb676578ab115": {
      "model_module": "@jupyter-widgets/base",
      "model_module_version": "1.2.0",
      "model_name": "LayoutModel",
      "state": {}
     },
     "879fb8d0b4594238bd35f9765777c017": {
      "model_module": "@jupyter-widgets/base",
      "model_module_version": "1.2.0",
      "model_name": "LayoutModel",
      "state": {}
     },
     "87a16ccfa9424030a56b1656fefdbeff": {
      "model_module": "@jupyter-widgets/base",
      "model_module_version": "1.2.0",
      "model_name": "LayoutModel",
      "state": {}
     },
     "88dfece9a96b4fb2b22c47170efcc30f": {
      "model_module": "@jupyter-widgets/controls",
      "model_module_version": "1.5.0",
      "model_name": "ButtonStyleModel",
      "state": {}
     },
     "88e7a1e1b3144c659733e026a046f2ed": {
      "model_module": "@jupyter-widgets/controls",
      "model_module_version": "1.5.0",
      "model_name": "FloatProgressModel",
      "state": {
       "layout": "IPY_MODEL_29654cd1c1644bcc88e9a1c201f89458",
       "max": 11,
       "style": "IPY_MODEL_c7d150b208d540bcb45d0c19fafa3f97",
       "value": 11
      }
     },
     "8919dcf7654e4e94b83ea6cb4dd371e0": {
      "model_module": "@jupyter-widgets/base",
      "model_module_version": "1.2.0",
      "model_name": "LayoutModel",
      "state": {}
     },
     "898546044a424767884d345b0d4ee274": {
      "model_module": "@jupyter-widgets/controls",
      "model_module_version": "1.5.0",
      "model_name": "ProgressStyleModel",
      "state": {
       "description_width": ""
      }
     },
     "89cda86cf36c48688a7a6693e9ae79fc": {
      "model_module": "@jupyter-widgets/controls",
      "model_module_version": "1.5.0",
      "model_name": "HTMLModel",
      "state": {
       "layout": "IPY_MODEL_67b788380e574fed8cd2251a77f9f840",
       "style": "IPY_MODEL_f6dc60e116a34bebb0e56a4de5eef613",
       "value": "  0%"
      }
     },
     "89f4153f447145938b4cc5223eac1729": {
      "model_module": "@jupyter-widgets/controls",
      "model_module_version": "1.5.0",
      "model_name": "HBoxModel",
      "state": {
       "children": [
        "IPY_MODEL_e5c26c3db0274055bcc2e5a261f3aa27",
        "IPY_MODEL_5668d294c3db487292fa69ded5a04dbe",
        "IPY_MODEL_e881ba16e33b449cb9c0737890dffe6a"
       ],
       "layout": "IPY_MODEL_23e4f2075cf74ef48873da2074ab9cb8"
      }
     },
     "89fc487733914c04ae0ac8a07348f251": {
      "model_module": "@jupyter-widgets/controls",
      "model_module_version": "1.5.0",
      "model_name": "DescriptionStyleModel",
      "state": {
       "description_width": ""
      }
     },
     "8a42e248b5674761aa832cb68c190706": {
      "model_module": "@jupyter-widgets/controls",
      "model_module_version": "1.5.0",
      "model_name": "DescriptionStyleModel",
      "state": {
       "description_width": ""
      }
     },
     "8a5dc19fbb3a490785b5e08032bc6b01": {
      "model_module": "@jupyter-widgets/controls",
      "model_module_version": "1.5.0",
      "model_name": "VBoxModel",
      "state": {
       "children": [
        "IPY_MODEL_e2785a5863b74a908817d4e0bb929e44",
        "IPY_MODEL_e8906903c2f6439698f0cc9ed20f7309",
        "IPY_MODEL_3556de9cffb44cb7932d0822e447c965"
       ],
       "layout": "IPY_MODEL_3a30beabeea14b0d984ab5f78730f59e"
      }
     },
     "8ac077996382480aba1aee6e5697743a": {
      "model_module": "@jupyter-widgets/base",
      "model_module_version": "1.2.0",
      "model_name": "LayoutModel",
      "state": {}
     },
     "8ad3608e2f00427b9575af8c471d62a8": {
      "model_module": "@jupyter-widgets/controls",
      "model_module_version": "1.5.0",
      "model_name": "HBoxModel",
      "state": {
       "children": [
        "IPY_MODEL_94f0081bb9da4554a593fd424d46ea0e",
        "IPY_MODEL_688e2befa9264ce58ca2403fabc30d18",
        "IPY_MODEL_ba8ab901ef0e473ba522da8306b520d9"
       ],
       "layout": "IPY_MODEL_0bd0b6e2b0b5479ab1cd512879b09bf8"
      }
     },
     "8b1da44c4b57411d9430eb3601d2c00a": {
      "model_module": "@jupyter-widgets/controls",
      "model_module_version": "1.5.0",
      "model_name": "BoundedIntTextModel",
      "state": {
       "description": "Width",
       "layout": "IPY_MODEL_5618a61f0a754f53a02e505657e06738",
       "max": 2000,
       "min": 700,
       "step": 100,
       "style": "IPY_MODEL_af66e835e2fa43e6b7306b0dfc979132",
       "value": 700
      }
     },
     "8b38d14f733c4b8999203b36cc719909": {
      "model_module": "@jupyter-widgets/controls",
      "model_module_version": "1.5.0",
      "model_name": "DescriptionStyleModel",
      "state": {
       "description_width": ""
      }
     },
     "8b7d83f9c02e4eebac1b98546348e14a": {
      "model_module": "@jupyter-widgets/base",
      "model_module_version": "1.2.0",
      "model_name": "LayoutModel",
      "state": {}
     },
     "8b98344caa8b4e7ca859ebde3c50a85d": {
      "model_module": "@jupyter-widgets/base",
      "model_module_version": "1.2.0",
      "model_name": "LayoutModel",
      "state": {}
     },
     "8cc1e568136b4a13bef815af79d3bcdc": {
      "model_module": "@jupyter-widgets/base",
      "model_module_version": "1.2.0",
      "model_name": "LayoutModel",
      "state": {}
     },
     "8d116cc71679487c9d7cc1cdd31b26d4": {
      "model_module": "@jupyter-widgets/base",
      "model_module_version": "1.2.0",
      "model_name": "LayoutModel",
      "state": {}
     },
     "8d13b1bf7af6465693cca68a4c7cecd1": {
      "model_module": "@jupyter-widgets/controls",
      "model_module_version": "1.5.0",
      "model_name": "ButtonStyleModel",
      "state": {}
     },
     "8d15f99b5dfc44fc8c7a801c97cf34f0": {
      "model_module": "@jupyter-widgets/base",
      "model_module_version": "1.2.0",
      "model_name": "LayoutModel",
      "state": {
       "margin": "50px 0 50px 0"
      }
     },
     "8d21434790b743fc8b80d1883640ef04": {
      "model_module": "@jupyter-widgets/base",
      "model_module_version": "1.2.0",
      "model_name": "LayoutModel",
      "state": {}
     },
     "8d2cf92472e740499f2bf4b6aae5ed39": {
      "model_module": "@jupyter-widgets/controls",
      "model_module_version": "1.5.0",
      "model_name": "DescriptionStyleModel",
      "state": {
       "description_width": ""
      }
     },
     "8d5d1f31410a4e48a2454f24591b6398": {
      "model_module": "@jupyter-widgets/controls",
      "model_module_version": "1.5.0",
      "model_name": "PasswordModel",
      "state": {
       "description": "API key:",
       "layout": "IPY_MODEL_cc756486ac394710a5373263108d11b5",
       "placeholder": "Enter your Trove API key",
       "style": "IPY_MODEL_bc6bf6fc07ad4bc88f873525363574be",
       "value": "6pi5hht0d2umqcro"
      }
     },
     "8d64a3ee529141578ecee6f31af0eca1": {
      "model_module": "@jupyter-widgets/controls",
      "model_module_version": "1.5.0",
      "model_name": "ButtonModel",
      "state": {
       "description": "Remove last query",
       "layout": "IPY_MODEL_ef55cbe63e624e03af25e81c93ea4a0b",
       "style": "IPY_MODEL_dd2cbd50d6a94ca9b1499d434343c7b0",
       "tooltip": "Remove the last query"
      }
     },
     "8d7ffa494434462ba883f71581ab8c95": {
      "model_module": "@jupyter-widgets/controls",
      "model_module_version": "1.5.0",
      "model_name": "ButtonStyleModel",
      "state": {}
     },
     "8dfb19f6637c48c6b475d867d2b5718d": {
      "model_module": "@jupyter-widgets/controls",
      "model_module_version": "1.5.0",
      "model_name": "DescriptionStyleModel",
      "state": {
       "description_width": ""
      }
     },
     "8e0c14da09d84d6ea32c7544805e288e": {
      "model_module": "@jupyter-widgets/controls",
      "model_module_version": "1.5.0",
      "model_name": "HBoxModel",
      "state": {
       "children": [
        "IPY_MODEL_fb736eb167c449f496463f18aacbcc4f",
        "IPY_MODEL_e5caca53882c4d85ace22cc0d2427433",
        "IPY_MODEL_fee3d97133c9436f9e7bc9052bb9aade"
       ],
       "layout": "IPY_MODEL_382efd81dcad4f06b83ccffc6aa5d924"
      }
     },
     "8e0ffa40b7ae4f09b4d1855b78f1e665": {
      "model_module": "@jupyter-widgets/base",
      "model_module_version": "1.2.0",
      "model_name": "LayoutModel",
      "state": {}
     },
     "8e1640737fcb44dbb4dbcf5d346ee911": {
      "model_module": "@jupyter-widgets/base",
      "model_module_version": "1.2.0",
      "model_name": "LayoutModel",
      "state": {}
     },
     "8e5a756906b64be4a92226f7270e807d": {
      "model_module": "@jupyter-widgets/controls",
      "model_module_version": "1.5.0",
      "model_name": "DropdownModel",
      "state": {
       "_options_labels": [
        "Raw number of results",
        "Proportion of total articles"
       ],
       "index": 0,
       "layout": "IPY_MODEL_1f2d6935040d40d0aa9432350e3e9873",
       "style": "IPY_MODEL_c03fa30ef7f84c16996df6b22cf13d92"
      }
     },
     "8eac6d1dc52c4155a98a64e946f82a58": {
      "model_module": "@jupyter-widgets/controls",
      "model_module_version": "1.5.0",
      "model_name": "DescriptionStyleModel",
      "state": {
       "description_width": ""
      }
     },
     "8ec961fc299542d7b40288114885a5e5": {
      "model_module": "@jupyter-widgets/base",
      "model_module_version": "1.2.0",
      "model_name": "LayoutModel",
      "state": {
       "margin": "0 0 20px 0"
      }
     },
     "8ed5ed7a956a4dc592b9bb6f46b11089": {
      "model_module": "@jupyter-widgets/controls",
      "model_module_version": "1.5.0",
      "model_name": "DescriptionStyleModel",
      "state": {
       "description_width": ""
      }
     },
     "8ef1c254b84e417692e8c6254c2e4439": {
      "model_module": "@jupyter-widgets/controls",
      "model_module_version": "1.5.0",
      "model_name": "DescriptionStyleModel",
      "state": {
       "description_width": ""
      }
     },
     "8f2595a10b5d45ec89dc97e571b3bae9": {
      "model_module": "@jupyter-widgets/base",
      "model_module_version": "1.2.0",
      "model_name": "LayoutModel",
      "state": {}
     },
     "8f543d96f23243ed82072703a9d8a5db": {
      "model_module": "@jupyter-widgets/controls",
      "model_module_version": "1.5.0",
      "model_name": "ButtonModel",
      "state": {
       "description": "Remove last query",
       "layout": "IPY_MODEL_cb5e73a324bc4bb79de3fe1caf1ed2f3",
       "style": "IPY_MODEL_01d777ec447c4cdfa701e211313003a2",
       "tooltip": "Remove the last query"
      }
     },
     "8f8d96fd3b9345cc9943a87bc17fd7f7": {
      "model_module": "@jupyter-widgets/output",
      "model_module_version": "1.0.0",
      "model_name": "OutputModel",
      "state": {
       "layout": "IPY_MODEL_53a84e3b53074904a18150efd216cc20",
       "outputs": [
        {
         "data": {
          "application/vnd.jupyter.widget-view+json": {
           "model_id": "",
           "version_major": 2,
           "version_minor": 0
          },
          "text/plain": "Dropdown(options=(('Raw number of results', 'raw'), ('Proportion of total articles', 'proportion')), value='ra…"
         },
         "metadata": {},
         "output_type": "display_data"
        },
        {
         "data": {
          "text/html": "\n<div id=\"altair-viz-a26ea70dd72848afa213097eab3bb64a\"></div>\n<script type=\"text/javascript\">\n  var VEGA_DEBUG = (typeof VEGA_DEBUG == \"undefined\") ? {} : VEGA_DEBUG;\n  (function(spec, embedOpt){\n    let outputDiv = document.currentScript.previousElementSibling;\n    if (outputDiv.id !== \"altair-viz-a26ea70dd72848afa213097eab3bb64a\") {\n      outputDiv = document.getElementById(\"altair-viz-a26ea70dd72848afa213097eab3bb64a\");\n    }\n    const paths = {\n      \"vega\": \"https://cdn.jsdelivr.net/npm//vega@5?noext\",\n      \"vega-lib\": \"https://cdn.jsdelivr.net/npm//vega-lib?noext\",\n      \"vega-lite\": \"https://cdn.jsdelivr.net/npm//vega-lite@4.17.0?noext\",\n      \"vega-embed\": \"https://cdn.jsdelivr.net/npm//vega-embed@6?noext\",\n    };\n\n    function maybeLoadScript(lib, version) {\n      var key = `${lib.replace(\"-\", \"\")}_version`;\n      return (VEGA_DEBUG[key] == version) ?\n        Promise.resolve(paths[lib]) :\n        new Promise(function(resolve, reject) {\n          var s = document.createElement('script');\n          document.getElementsByTagName(\"head\")[0].appendChild(s);\n          s.async = true;\n          s.onload = () => {\n            VEGA_DEBUG[key] = version;\n            return resolve(paths[lib]);\n          };\n          s.onerror = () => reject(`Error loading script: ${paths[lib]}`);\n          s.src = paths[lib];\n        });\n    }\n\n    function showError(err) {\n      outputDiv.innerHTML = `<div class=\"error\" style=\"color:red;\">${err}</div>`;\n      throw err;\n    }\n\n    function displayChart(vegaEmbed) {\n      vegaEmbed(outputDiv, spec, embedOpt)\n        .catch(err => showError(`Javascript Error: ${err.message}<br>This usually means there's a typo in your chart specification. See the javascript console for the full traceback.`));\n    }\n\n    if(typeof define === \"function\" && define.amd) {\n      requirejs.config({paths});\n      require([\"vega-embed\"], displayChart, err => showError(`Error loading script: ${err.message}`));\n    } else {\n      maybeLoadScript(\"vega\", \"5\")\n        .then(() => maybeLoadScript(\"vega-lite\", \"4.17.0\"))\n        .then(() => maybeLoadScript(\"vega-embed\", \"6\"))\n        .catch(showError)\n        .then(() => displayChart(vegaEmbed));\n    }\n  })({\"usermeta\": {\"embedOptions\": {\"loader\": {\"target\": \"_blank\"}}}, \"vconcat\": [{\"data\": {\"name\": \"data-d10f65eebacae6fe3f3cc06df08d78d4\"}, \"mark\": {\"type\": \"line\", \"interpolate\": \"cardinal\", \"point\": true}, \"encoding\": {\"color\": {\"field\": \"id\", \"legend\": {\"title\": \"\"}, \"type\": \"nominal\"}, \"href\": {\"field\": \"url\", \"type\": \"nominal\"}, \"tooltip\": [{\"field\": \"id\", \"title\": \"query\", \"type\": \"nominal\"}, {\"field\": \"date\", \"timeUnit\": \"year\", \"title\": \"year\", \"type\": \"temporal\"}, {\"field\": \"total_results\", \"format\": \",\", \"title\": \"results\", \"type\": \"quantitative\"}, {\"field\": \"PercentOfTotal\", \"format\": \".2%\", \"title\": \"proportion\", \"type\": \"quantitative\"}], \"x\": {\"axis\": {\"title\": \"Year\"}, \"field\": \"date\", \"scale\": {\"padding\": 10}, \"timeUnit\": \"year\", \"type\": \"temporal\"}, \"y\": {\"axis\": {\"format\": \",d\", \"title\": \"Number of articles\"}, \"field\": \"total_results\", \"type\": \"quantitative\"}}, \"height\": 400, \"title\": {\"text\": \"Trove Newspapers & Gazettes Search\", \"subtitle\": \"Created by QueryPic: 24 June 2022\"}, \"transform\": [{\"calculate\": \"datum.total_results / datum.total_articles\", \"as\": \"PercentOfTotal\"}], \"width\": 800}, {\"data\": {\"name\": \"data-f675c00c0df2c3ff4332f63876210147\"}, \"mark\": {\"type\": \"text\", \"align\": \"left\", \"baseline\": \"middle\", \"dx\": 2, \"dy\": 1}, \"encoding\": {\"color\": {\"value\": \"blue\"}, \"href\": {\"field\": \"url\", \"type\": \"nominal\"}, \"text\": {\"field\": \"url\", \"type\": \"nominal\"}, \"x\": {\"axis\": null, \"field\": \"x\", \"scale\": {\"range\": [0, 1]}, \"title\": null, \"type\": \"quantitative\"}, \"y\": {\"axis\": {\"domain\": false, \"grid\": false, \"labelFontWeight\": \"bold\"}, \"field\": \"id\", \"title\": null, \"type\": \"ordinal\"}}}], \"config\": {\"padding\": 20, \"title\": {\"fontSize\": 14}, \"view\": {\"strokeWidth\": 0}}, \"$schema\": \"https://vega.github.io/schema/vega-lite/v4.17.0.json\", \"datasets\": {\"data-d10f65eebacae6fe3f3cc06df08d78d4\": [{\"date\": \"1850-01-02\", \"total_results\": 0, \"total_articles\": 0, \"url\": \"https://trove.nla.gov.au/search/category/newspapers?keyword=text%3A%22darling%20wife%22%20date%3A%5B1850%20TO%201954%5D&l-decade=185&l-year=1850\", \"id\": \"Query 1\"}, {\"date\": \"1851-01-02\", \"total_results\": 0, \"total_articles\": 0, \"url\": \"https://trove.nla.gov.au/search/category/newspapers?keyword=text%3A%22darling%20wife%22%20date%3A%5B1850%20TO%201954%5D&l-decade=185&l-year=1851\", \"id\": \"Query 1\"}, {\"date\": \"1852-01-02\", \"total_results\": 0, \"total_articles\": 0, \"url\": \"https://trove.nla.gov.au/search/category/newspapers?keyword=text%3A%22darling%20wife%22%20date%3A%5B1850%20TO%201954%5D&l-decade=185&l-year=1852\", \"id\": \"Query 1\"}, {\"date\": \"1853-01-02\", \"total_results\": 0, \"total_articles\": 0, \"url\": \"https://trove.nla.gov.au/search/category/newspapers?keyword=text%3A%22darling%20wife%22%20date%3A%5B1850%20TO%201954%5D&l-decade=185&l-year=1853\", \"id\": \"Query 1\"}, {\"date\": \"1854-01-02\", \"total_results\": 0, \"total_articles\": 0, \"url\": \"https://trove.nla.gov.au/search/category/newspapers?keyword=text%3A%22darling%20wife%22%20date%3A%5B1850%20TO%201954%5D&l-decade=185&l-year=1854\", \"id\": \"Query 1\"}, {\"date\": \"1855-01-02\", \"total_results\": 0, \"total_articles\": 0, \"url\": \"https://trove.nla.gov.au/search/category/newspapers?keyword=text%3A%22darling%20wife%22%20date%3A%5B1850%20TO%201954%5D&l-decade=185&l-year=1855\", \"id\": \"Query 1\"}, {\"date\": \"1856-01-02\", \"total_results\": 0, \"total_articles\": 0, \"url\": \"https://trove.nla.gov.au/search/category/newspapers?keyword=text%3A%22darling%20wife%22%20date%3A%5B1850%20TO%201954%5D&l-decade=185&l-year=1856\", \"id\": \"Query 1\"}, {\"date\": \"1857-01-02\", \"total_results\": 0, \"total_articles\": 0, \"url\": \"https://trove.nla.gov.au/search/category/newspapers?keyword=text%3A%22darling%20wife%22%20date%3A%5B1850%20TO%201954%5D&l-decade=185&l-year=1857\", \"id\": \"Query 1\"}, {\"date\": \"1858-01-02\", \"total_results\": 0, \"total_articles\": 0, \"url\": \"https://trove.nla.gov.au/search/category/newspapers?keyword=text%3A%22darling%20wife%22%20date%3A%5B1850%20TO%201954%5D&l-decade=185&l-year=1858\", \"id\": \"Query 1\"}, {\"date\": \"1859-01-02\", \"total_results\": 0, \"total_articles\": 0, \"url\": \"https://trove.nla.gov.au/search/category/newspapers?keyword=text%3A%22darling%20wife%22%20date%3A%5B1850%20TO%201954%5D&l-decade=185&l-year=1859\", \"id\": \"Query 1\"}, {\"date\": \"1860-01-02\", \"total_results\": 0, \"total_articles\": 0, \"url\": \"https://trove.nla.gov.au/search/category/newspapers?keyword=text%3A%22darling%20wife%22%20date%3A%5B1850%20TO%201954%5D&l-decade=186&l-year=1860\", \"id\": \"Query 1\"}, {\"date\": \"1861-01-02\", \"total_results\": 0, \"total_articles\": 0, \"url\": \"https://trove.nla.gov.au/search/category/newspapers?keyword=text%3A%22darling%20wife%22%20date%3A%5B1850%20TO%201954%5D&l-decade=186&l-year=1861\", \"id\": \"Query 1\"}, {\"date\": \"1862-01-02\", \"total_results\": 0, \"total_articles\": 0, \"url\": \"https://trove.nla.gov.au/search/category/newspapers?keyword=text%3A%22darling%20wife%22%20date%3A%5B1850%20TO%201954%5D&l-decade=186&l-year=1862\", \"id\": \"Query 1\"}, {\"date\": \"1863-01-02\", \"total_results\": 0, \"total_articles\": 0, \"url\": \"https://trove.nla.gov.au/search/category/newspapers?keyword=text%3A%22darling%20wife%22%20date%3A%5B1850%20TO%201954%5D&l-decade=186&l-year=1863\", \"id\": \"Query 1\"}, {\"date\": \"1864-01-02\", \"total_results\": 0, \"total_articles\": 0, \"url\": \"https://trove.nla.gov.au/search/category/newspapers?keyword=text%3A%22darling%20wife%22%20date%3A%5B1850%20TO%201954%5D&l-decade=186&l-year=1864\", \"id\": \"Query 1\"}, {\"date\": \"1865-01-02\", \"total_results\": 0, \"total_articles\": 0, \"url\": \"https://trove.nla.gov.au/search/category/newspapers?keyword=text%3A%22darling%20wife%22%20date%3A%5B1850%20TO%201954%5D&l-decade=186&l-year=1865\", \"id\": \"Query 1\"}, {\"date\": \"1866-01-02\", \"total_results\": 0, \"total_articles\": 0, \"url\": \"https://trove.nla.gov.au/search/category/newspapers?keyword=text%3A%22darling%20wife%22%20date%3A%5B1850%20TO%201954%5D&l-decade=186&l-year=1866\", \"id\": \"Query 1\"}, {\"date\": \"1867-01-02\", \"total_results\": 0, \"total_articles\": 0, \"url\": \"https://trove.nla.gov.au/search/category/newspapers?keyword=text%3A%22darling%20wife%22%20date%3A%5B1850%20TO%201954%5D&l-decade=186&l-year=1867\", \"id\": \"Query 1\"}, {\"date\": \"1868-01-02\", \"total_results\": 0, \"total_articles\": 0, \"url\": \"https://trove.nla.gov.au/search/category/newspapers?keyword=text%3A%22darling%20wife%22%20date%3A%5B1850%20TO%201954%5D&l-decade=186&l-year=1868\", \"id\": \"Query 1\"}, {\"date\": \"1869-01-02\", \"total_results\": 0, \"total_articles\": 0, \"url\": \"https://trove.nla.gov.au/search/category/newspapers?keyword=text%3A%22darling%20wife%22%20date%3A%5B1850%20TO%201954%5D&l-decade=186&l-year=1869\", \"id\": \"Query 1\"}, {\"date\": \"1870-01-02\", \"total_results\": 0, \"total_articles\": 0, \"url\": \"https://trove.nla.gov.au/search/category/newspapers?keyword=text%3A%22darling%20wife%22%20date%3A%5B1850%20TO%201954%5D&l-decade=187&l-year=1870\", \"id\": \"Query 1\"}, {\"date\": \"1871-01-02\", \"total_results\": 0, \"total_articles\": 0, \"url\": \"https://trove.nla.gov.au/search/category/newspapers?keyword=text%3A%22darling%20wife%22%20date%3A%5B1850%20TO%201954%5D&l-decade=187&l-year=1871\", \"id\": \"Query 1\"}, {\"date\": \"1872-01-02\", \"total_results\": 0, \"total_articles\": 0, \"url\": \"https://trove.nla.gov.au/search/category/newspapers?keyword=text%3A%22darling%20wife%22%20date%3A%5B1850%20TO%201954%5D&l-decade=187&l-year=1872\", \"id\": \"Query 1\"}, {\"date\": \"1873-01-02\", \"total_results\": 0, \"total_articles\": 0, \"url\": \"https://trove.nla.gov.au/search/category/newspapers?keyword=text%3A%22darling%20wife%22%20date%3A%5B1850%20TO%201954%5D&l-decade=187&l-year=1873\", \"id\": \"Query 1\"}, {\"date\": \"1874-01-02\", \"total_results\": 0, \"total_articles\": 0, \"url\": \"https://trove.nla.gov.au/search/category/newspapers?keyword=text%3A%22darling%20wife%22%20date%3A%5B1850%20TO%201954%5D&l-decade=187&l-year=1874\", \"id\": \"Query 1\"}, {\"date\": \"1875-01-02\", \"total_results\": 0, \"total_articles\": 0, \"url\": \"https://trove.nla.gov.au/search/category/newspapers?keyword=text%3A%22darling%20wife%22%20date%3A%5B1850%20TO%201954%5D&l-decade=187&l-year=1875\", \"id\": \"Query 1\"}, {\"date\": \"1876-01-02\", \"total_results\": 0, \"total_articles\": 0, \"url\": \"https://trove.nla.gov.au/search/category/newspapers?keyword=text%3A%22darling%20wife%22%20date%3A%5B1850%20TO%201954%5D&l-decade=187&l-year=1876\", \"id\": \"Query 1\"}, {\"date\": \"1877-01-02\", \"total_results\": 0, \"total_articles\": 0, \"url\": \"https://trove.nla.gov.au/search/category/newspapers?keyword=text%3A%22darling%20wife%22%20date%3A%5B1850%20TO%201954%5D&l-decade=187&l-year=1877\", \"id\": \"Query 1\"}, {\"date\": \"1878-01-02\", \"total_results\": 0, \"total_articles\": 0, \"url\": \"https://trove.nla.gov.au/search/category/newspapers?keyword=text%3A%22darling%20wife%22%20date%3A%5B1850%20TO%201954%5D&l-decade=187&l-year=1878\", \"id\": \"Query 1\"}, {\"date\": \"1879-01-02\", \"total_results\": 0, \"total_articles\": 0, \"url\": \"https://trove.nla.gov.au/search/category/newspapers?keyword=text%3A%22darling%20wife%22%20date%3A%5B1850%20TO%201954%5D&l-decade=187&l-year=1879\", \"id\": \"Query 1\"}, {\"date\": \"1880-01-02\", \"total_results\": 0, \"total_articles\": 0, \"url\": \"https://trove.nla.gov.au/search/category/newspapers?keyword=text%3A%22darling%20wife%22%20date%3A%5B1850%20TO%201954%5D&l-decade=188&l-year=1880\", \"id\": \"Query 1\"}, {\"date\": \"1881-01-02\", \"total_results\": 0, \"total_articles\": 0, \"url\": \"https://trove.nla.gov.au/search/category/newspapers?keyword=text%3A%22darling%20wife%22%20date%3A%5B1850%20TO%201954%5D&l-decade=188&l-year=1881\", \"id\": \"Query 1\"}, {\"date\": \"1882-01-02\", \"total_results\": 0, \"total_articles\": 0, \"url\": \"https://trove.nla.gov.au/search/category/newspapers?keyword=text%3A%22darling%20wife%22%20date%3A%5B1850%20TO%201954%5D&l-decade=188&l-year=1882\", \"id\": \"Query 1\"}, {\"date\": \"1883-01-02\", \"total_results\": 0, \"total_articles\": 0, \"url\": \"https://trove.nla.gov.au/search/category/newspapers?keyword=text%3A%22darling%20wife%22%20date%3A%5B1850%20TO%201954%5D&l-decade=188&l-year=1883\", \"id\": \"Query 1\"}, {\"date\": \"1884-01-02\", \"total_results\": 0, \"total_articles\": 0, \"url\": \"https://trove.nla.gov.au/search/category/newspapers?keyword=text%3A%22darling%20wife%22%20date%3A%5B1850%20TO%201954%5D&l-decade=188&l-year=1884\", \"id\": \"Query 1\"}, {\"date\": \"1885-01-02\", \"total_results\": 0, \"total_articles\": 0, \"url\": \"https://trove.nla.gov.au/search/category/newspapers?keyword=text%3A%22darling%20wife%22%20date%3A%5B1850%20TO%201954%5D&l-decade=188&l-year=1885\", \"id\": \"Query 1\"}, {\"date\": \"1886-01-02\", \"total_results\": 0, \"total_articles\": 0, \"url\": \"https://trove.nla.gov.au/search/category/newspapers?keyword=text%3A%22darling%20wife%22%20date%3A%5B1850%20TO%201954%5D&l-decade=188&l-year=1886\", \"id\": \"Query 1\"}, {\"date\": \"1887-01-02\", \"total_results\": 0, \"total_articles\": 0, \"url\": \"https://trove.nla.gov.au/search/category/newspapers?keyword=text%3A%22darling%20wife%22%20date%3A%5B1850%20TO%201954%5D&l-decade=188&l-year=1887\", \"id\": \"Query 1\"}, {\"date\": \"1888-01-02\", \"total_results\": 0, \"total_articles\": 0, \"url\": \"https://trove.nla.gov.au/search/category/newspapers?keyword=text%3A%22darling%20wife%22%20date%3A%5B1850%20TO%201954%5D&l-decade=188&l-year=1888\", \"id\": \"Query 1\"}, {\"date\": \"1889-01-02\", \"total_results\": 0, \"total_articles\": 0, \"url\": \"https://trove.nla.gov.au/search/category/newspapers?keyword=text%3A%22darling%20wife%22%20date%3A%5B1850%20TO%201954%5D&l-decade=188&l-year=1889\", \"id\": \"Query 1\"}, {\"date\": \"1890-01-02\", \"total_results\": 0, \"total_articles\": 0, \"url\": \"https://trove.nla.gov.au/search/category/newspapers?keyword=text%3A%22darling%20wife%22%20date%3A%5B1850%20TO%201954%5D&l-decade=189&l-year=1890\", \"id\": \"Query 1\"}, {\"date\": \"1891-01-02\", \"total_results\": 0, \"total_articles\": 0, \"url\": \"https://trove.nla.gov.au/search/category/newspapers?keyword=text%3A%22darling%20wife%22%20date%3A%5B1850%20TO%201954%5D&l-decade=189&l-year=1891\", \"id\": \"Query 1\"}, {\"date\": \"1892-01-02\", \"total_results\": 0, \"total_articles\": 0, \"url\": \"https://trove.nla.gov.au/search/category/newspapers?keyword=text%3A%22darling%20wife%22%20date%3A%5B1850%20TO%201954%5D&l-decade=189&l-year=1892\", \"id\": \"Query 1\"}, {\"date\": \"1893-01-02\", \"total_results\": 0, \"total_articles\": 0, \"url\": \"https://trove.nla.gov.au/search/category/newspapers?keyword=text%3A%22darling%20wife%22%20date%3A%5B1850%20TO%201954%5D&l-decade=189&l-year=1893\", \"id\": \"Query 1\"}, {\"date\": \"1894-01-02\", \"total_results\": 0, \"total_articles\": 0, \"url\": \"https://trove.nla.gov.au/search/category/newspapers?keyword=text%3A%22darling%20wife%22%20date%3A%5B1850%20TO%201954%5D&l-decade=189&l-year=1894\", \"id\": \"Query 1\"}, {\"date\": \"1895-01-02\", \"total_results\": 0, \"total_articles\": 0, \"url\": \"https://trove.nla.gov.au/search/category/newspapers?keyword=text%3A%22darling%20wife%22%20date%3A%5B1850%20TO%201954%5D&l-decade=189&l-year=1895\", \"id\": \"Query 1\"}, {\"date\": \"1896-01-02\", \"total_results\": 0, \"total_articles\": 0, \"url\": \"https://trove.nla.gov.au/search/category/newspapers?keyword=text%3A%22darling%20wife%22%20date%3A%5B1850%20TO%201954%5D&l-decade=189&l-year=1896\", \"id\": \"Query 1\"}, {\"date\": \"1897-01-02\", \"total_results\": 0, \"total_articles\": 0, \"url\": \"https://trove.nla.gov.au/search/category/newspapers?keyword=text%3A%22darling%20wife%22%20date%3A%5B1850%20TO%201954%5D&l-decade=189&l-year=1897\", \"id\": \"Query 1\"}, {\"date\": \"1898-01-02\", \"total_results\": 0, \"total_articles\": 0, \"url\": \"https://trove.nla.gov.au/search/category/newspapers?keyword=text%3A%22darling%20wife%22%20date%3A%5B1850%20TO%201954%5D&l-decade=189&l-year=1898\", \"id\": \"Query 1\"}, {\"date\": \"1899-01-02\", \"total_results\": 0, \"total_articles\": 0, \"url\": \"https://trove.nla.gov.au/search/category/newspapers?keyword=text%3A%22darling%20wife%22%20date%3A%5B1850%20TO%201954%5D&l-decade=189&l-year=1899\", \"id\": \"Query 1\"}, {\"date\": \"1900-01-02\", \"total_results\": 0, \"total_articles\": 0, \"url\": \"https://trove.nla.gov.au/search/category/newspapers?keyword=text%3A%22darling%20wife%22%20date%3A%5B1850%20TO%201954%5D&l-decade=190&l-year=1900\", \"id\": \"Query 1\"}, {\"date\": \"1901-01-02\", \"total_results\": 0, \"total_articles\": 0, \"url\": \"https://trove.nla.gov.au/search/category/newspapers?keyword=text%3A%22darling%20wife%22%20date%3A%5B1850%20TO%201954%5D&l-decade=190&l-year=1901\", \"id\": \"Query 1\"}, {\"date\": \"1902-01-02\", \"total_results\": 0, \"total_articles\": 0, \"url\": \"https://trove.nla.gov.au/search/category/newspapers?keyword=text%3A%22darling%20wife%22%20date%3A%5B1850%20TO%201954%5D&l-decade=190&l-year=1902\", \"id\": \"Query 1\"}, {\"date\": \"1903-01-02\", \"total_results\": 0, \"total_articles\": 0, \"url\": \"https://trove.nla.gov.au/search/category/newspapers?keyword=text%3A%22darling%20wife%22%20date%3A%5B1850%20TO%201954%5D&l-decade=190&l-year=1903\", \"id\": \"Query 1\"}, {\"date\": \"1904-01-02\", \"total_results\": 0, \"total_articles\": 0, \"url\": \"https://trove.nla.gov.au/search/category/newspapers?keyword=text%3A%22darling%20wife%22%20date%3A%5B1850%20TO%201954%5D&l-decade=190&l-year=1904\", \"id\": \"Query 1\"}, {\"date\": \"1905-01-02\", \"total_results\": 0, \"total_articles\": 0, \"url\": \"https://trove.nla.gov.au/search/category/newspapers?keyword=text%3A%22darling%20wife%22%20date%3A%5B1850%20TO%201954%5D&l-decade=190&l-year=1905\", \"id\": \"Query 1\"}, {\"date\": \"1906-01-02\", \"total_results\": 0, \"total_articles\": 0, \"url\": \"https://trove.nla.gov.au/search/category/newspapers?keyword=text%3A%22darling%20wife%22%20date%3A%5B1850%20TO%201954%5D&l-decade=190&l-year=1906\", \"id\": \"Query 1\"}, {\"date\": \"1907-01-02\", \"total_results\": 0, \"total_articles\": 0, \"url\": \"https://trove.nla.gov.au/search/category/newspapers?keyword=text%3A%22darling%20wife%22%20date%3A%5B1850%20TO%201954%5D&l-decade=190&l-year=1907\", \"id\": \"Query 1\"}, {\"date\": \"1908-01-02\", \"total_results\": 0, \"total_articles\": 0, \"url\": \"https://trove.nla.gov.au/search/category/newspapers?keyword=text%3A%22darling%20wife%22%20date%3A%5B1850%20TO%201954%5D&l-decade=190&l-year=1908\", \"id\": \"Query 1\"}, {\"date\": \"1909-01-02\", \"total_results\": 0, \"total_articles\": 0, \"url\": \"https://trove.nla.gov.au/search/category/newspapers?keyword=text%3A%22darling%20wife%22%20date%3A%5B1850%20TO%201954%5D&l-decade=190&l-year=1909\", \"id\": \"Query 1\"}, {\"date\": \"1910-01-02\", \"total_results\": 0, \"total_articles\": 0, \"url\": \"https://trove.nla.gov.au/search/category/newspapers?keyword=text%3A%22darling%20wife%22%20date%3A%5B1850%20TO%201954%5D&l-decade=191&l-year=1910\", \"id\": \"Query 1\"}, {\"date\": \"1911-01-02\", \"total_results\": 0, \"total_articles\": 0, \"url\": \"https://trove.nla.gov.au/search/category/newspapers?keyword=text%3A%22darling%20wife%22%20date%3A%5B1850%20TO%201954%5D&l-decade=191&l-year=1911\", \"id\": \"Query 1\"}, {\"date\": \"1912-01-02\", \"total_results\": 0, \"total_articles\": 0, \"url\": \"https://trove.nla.gov.au/search/category/newspapers?keyword=text%3A%22darling%20wife%22%20date%3A%5B1850%20TO%201954%5D&l-decade=191&l-year=1912\", \"id\": \"Query 1\"}, {\"date\": \"1913-01-02\", \"total_results\": 0, \"total_articles\": 0, \"url\": \"https://trove.nla.gov.au/search/category/newspapers?keyword=text%3A%22darling%20wife%22%20date%3A%5B1850%20TO%201954%5D&l-decade=191&l-year=1913\", \"id\": \"Query 1\"}, {\"date\": \"1914-01-02\", \"total_results\": 0, \"total_articles\": 0, \"url\": \"https://trove.nla.gov.au/search/category/newspapers?keyword=text%3A%22darling%20wife%22%20date%3A%5B1850%20TO%201954%5D&l-decade=191&l-year=1914\", \"id\": \"Query 1\"}, {\"date\": \"1915-01-02\", \"total_results\": 0, \"total_articles\": 0, \"url\": \"https://trove.nla.gov.au/search/category/newspapers?keyword=text%3A%22darling%20wife%22%20date%3A%5B1850%20TO%201954%5D&l-decade=191&l-year=1915\", \"id\": \"Query 1\"}, {\"date\": \"1916-01-02\", \"total_results\": 0, \"total_articles\": 0, \"url\": \"https://trove.nla.gov.au/search/category/newspapers?keyword=text%3A%22darling%20wife%22%20date%3A%5B1850%20TO%201954%5D&l-decade=191&l-year=1916\", \"id\": \"Query 1\"}, {\"date\": \"1917-01-02\", \"total_results\": 0, \"total_articles\": 0, \"url\": \"https://trove.nla.gov.au/search/category/newspapers?keyword=text%3A%22darling%20wife%22%20date%3A%5B1850%20TO%201954%5D&l-decade=191&l-year=1917\", \"id\": \"Query 1\"}, {\"date\": \"1918-01-02\", \"total_results\": 0, \"total_articles\": 0, \"url\": \"https://trove.nla.gov.au/search/category/newspapers?keyword=text%3A%22darling%20wife%22%20date%3A%5B1850%20TO%201954%5D&l-decade=191&l-year=1918\", \"id\": \"Query 1\"}, {\"date\": \"1919-01-02\", \"total_results\": 0, \"total_articles\": 0, \"url\": \"https://trove.nla.gov.au/search/category/newspapers?keyword=text%3A%22darling%20wife%22%20date%3A%5B1850%20TO%201954%5D&l-decade=191&l-year=1919\", \"id\": \"Query 1\"}, {\"date\": \"1920-01-02\", \"total_results\": 0, \"total_articles\": 0, \"url\": \"https://trove.nla.gov.au/search/category/newspapers?keyword=text%3A%22darling%20wife%22%20date%3A%5B1850%20TO%201954%5D&l-decade=192&l-year=1920\", \"id\": \"Query 1\"}, {\"date\": \"1921-01-02\", \"total_results\": 0, \"total_articles\": 0, \"url\": \"https://trove.nla.gov.au/search/category/newspapers?keyword=text%3A%22darling%20wife%22%20date%3A%5B1850%20TO%201954%5D&l-decade=192&l-year=1921\", \"id\": \"Query 1\"}, {\"date\": \"1922-01-02\", \"total_results\": 0, \"total_articles\": 0, \"url\": \"https://trove.nla.gov.au/search/category/newspapers?keyword=text%3A%22darling%20wife%22%20date%3A%5B1850%20TO%201954%5D&l-decade=192&l-year=1922\", \"id\": \"Query 1\"}, {\"date\": \"1923-01-02\", \"total_results\": 0, \"total_articles\": 0, \"url\": \"https://trove.nla.gov.au/search/category/newspapers?keyword=text%3A%22darling%20wife%22%20date%3A%5B1850%20TO%201954%5D&l-decade=192&l-year=1923\", \"id\": \"Query 1\"}, {\"date\": \"1924-01-02\", \"total_results\": 0, \"total_articles\": 0, \"url\": \"https://trove.nla.gov.au/search/category/newspapers?keyword=text%3A%22darling%20wife%22%20date%3A%5B1850%20TO%201954%5D&l-decade=192&l-year=1924\", \"id\": \"Query 1\"}, {\"date\": \"1925-01-02\", \"total_results\": 0, \"total_articles\": 0, \"url\": \"https://trove.nla.gov.au/search/category/newspapers?keyword=text%3A%22darling%20wife%22%20date%3A%5B1850%20TO%201954%5D&l-decade=192&l-year=1925\", \"id\": \"Query 1\"}, {\"date\": \"1926-01-02\", \"total_results\": 0, \"total_articles\": 0, \"url\": \"https://trove.nla.gov.au/search/category/newspapers?keyword=text%3A%22darling%20wife%22%20date%3A%5B1850%20TO%201954%5D&l-decade=192&l-year=1926\", \"id\": \"Query 1\"}, {\"date\": \"1927-01-02\", \"total_results\": 0, \"total_articles\": 0, \"url\": \"https://trove.nla.gov.au/search/category/newspapers?keyword=text%3A%22darling%20wife%22%20date%3A%5B1850%20TO%201954%5D&l-decade=192&l-year=1927\", \"id\": \"Query 1\"}, {\"date\": \"1928-01-02\", \"total_results\": 0, \"total_articles\": 0, \"url\": \"https://trove.nla.gov.au/search/category/newspapers?keyword=text%3A%22darling%20wife%22%20date%3A%5B1850%20TO%201954%5D&l-decade=192&l-year=1928\", \"id\": \"Query 1\"}, {\"date\": \"1929-01-02\", \"total_results\": 0, \"total_articles\": 0, \"url\": \"https://trove.nla.gov.au/search/category/newspapers?keyword=text%3A%22darling%20wife%22%20date%3A%5B1850%20TO%201954%5D&l-decade=192&l-year=1929\", \"id\": \"Query 1\"}, {\"date\": \"1930-01-02\", \"total_results\": 0, \"total_articles\": 0, \"url\": \"https://trove.nla.gov.au/search/category/newspapers?keyword=text%3A%22darling%20wife%22%20date%3A%5B1850%20TO%201954%5D&l-decade=193&l-year=1930\", \"id\": \"Query 1\"}, {\"date\": \"1931-01-02\", \"total_results\": 0, \"total_articles\": 0, \"url\": \"https://trove.nla.gov.au/search/category/newspapers?keyword=text%3A%22darling%20wife%22%20date%3A%5B1850%20TO%201954%5D&l-decade=193&l-year=1931\", \"id\": \"Query 1\"}, {\"date\": \"1932-01-02\", \"total_results\": 0, \"total_articles\": 0, \"url\": \"https://trove.nla.gov.au/search/category/newspapers?keyword=text%3A%22darling%20wife%22%20date%3A%5B1850%20TO%201954%5D&l-decade=193&l-year=1932\", \"id\": \"Query 1\"}, {\"date\": \"1933-01-02\", \"total_results\": 0, \"total_articles\": 0, \"url\": \"https://trove.nla.gov.au/search/category/newspapers?keyword=text%3A%22darling%20wife%22%20date%3A%5B1850%20TO%201954%5D&l-decade=193&l-year=1933\", \"id\": \"Query 1\"}, {\"date\": \"1934-01-02\", \"total_results\": 0, \"total_articles\": 0, \"url\": \"https://trove.nla.gov.au/search/category/newspapers?keyword=text%3A%22darling%20wife%22%20date%3A%5B1850%20TO%201954%5D&l-decade=193&l-year=1934\", \"id\": \"Query 1\"}, {\"date\": \"1935-01-02\", \"total_results\": 0, \"total_articles\": 0, \"url\": \"https://trove.nla.gov.au/search/category/newspapers?keyword=text%3A%22darling%20wife%22%20date%3A%5B1850%20TO%201954%5D&l-decade=193&l-year=1935\", \"id\": \"Query 1\"}, {\"date\": \"1936-01-02\", \"total_results\": 0, \"total_articles\": 0, \"url\": \"https://trove.nla.gov.au/search/category/newspapers?keyword=text%3A%22darling%20wife%22%20date%3A%5B1850%20TO%201954%5D&l-decade=193&l-year=1936\", \"id\": \"Query 1\"}, {\"date\": \"1937-01-02\", \"total_results\": 0, \"total_articles\": 0, \"url\": \"https://trove.nla.gov.au/search/category/newspapers?keyword=text%3A%22darling%20wife%22%20date%3A%5B1850%20TO%201954%5D&l-decade=193&l-year=1937\", \"id\": \"Query 1\"}, {\"date\": \"1938-01-02\", \"total_results\": 0, \"total_articles\": 0, \"url\": \"https://trove.nla.gov.au/search/category/newspapers?keyword=text%3A%22darling%20wife%22%20date%3A%5B1850%20TO%201954%5D&l-decade=193&l-year=1938\", \"id\": \"Query 1\"}, {\"date\": \"1939-01-02\", \"total_results\": 0, \"total_articles\": 0, \"url\": \"https://trove.nla.gov.au/search/category/newspapers?keyword=text%3A%22darling%20wife%22%20date%3A%5B1850%20TO%201954%5D&l-decade=193&l-year=1939\", \"id\": \"Query 1\"}, {\"date\": \"1940-01-02\", \"total_results\": 0, \"total_articles\": 0, \"url\": \"https://trove.nla.gov.au/search/category/newspapers?keyword=text%3A%22darling%20wife%22%20date%3A%5B1850%20TO%201954%5D&l-decade=194&l-year=1940\", \"id\": \"Query 1\"}, {\"date\": \"1941-01-02\", \"total_results\": 0, \"total_articles\": 0, \"url\": \"https://trove.nla.gov.au/search/category/newspapers?keyword=text%3A%22darling%20wife%22%20date%3A%5B1850%20TO%201954%5D&l-decade=194&l-year=1941\", \"id\": \"Query 1\"}, {\"date\": \"1942-01-02\", \"total_results\": 0, \"total_articles\": 0, \"url\": \"https://trove.nla.gov.au/search/category/newspapers?keyword=text%3A%22darling%20wife%22%20date%3A%5B1850%20TO%201954%5D&l-decade=194&l-year=1942\", \"id\": \"Query 1\"}, {\"date\": \"1943-01-02\", \"total_results\": 0, \"total_articles\": 0, \"url\": \"https://trove.nla.gov.au/search/category/newspapers?keyword=text%3A%22darling%20wife%22%20date%3A%5B1850%20TO%201954%5D&l-decade=194&l-year=1943\", \"id\": \"Query 1\"}, {\"date\": \"1944-01-02\", \"total_results\": 0, \"total_articles\": 0, \"url\": \"https://trove.nla.gov.au/search/category/newspapers?keyword=text%3A%22darling%20wife%22%20date%3A%5B1850%20TO%201954%5D&l-decade=194&l-year=1944\", \"id\": \"Query 1\"}, {\"date\": \"1945-01-02\", \"total_results\": 0, \"total_articles\": 0, \"url\": \"https://trove.nla.gov.au/search/category/newspapers?keyword=text%3A%22darling%20wife%22%20date%3A%5B1850%20TO%201954%5D&l-decade=194&l-year=1945\", \"id\": \"Query 1\"}, {\"date\": \"1946-01-02\", \"total_results\": 0, \"total_articles\": 0, \"url\": \"https://trove.nla.gov.au/search/category/newspapers?keyword=text%3A%22darling%20wife%22%20date%3A%5B1850%20TO%201954%5D&l-decade=194&l-year=1946\", \"id\": \"Query 1\"}, {\"date\": \"1947-01-02\", \"total_results\": 0, \"total_articles\": 0, \"url\": \"https://trove.nla.gov.au/search/category/newspapers?keyword=text%3A%22darling%20wife%22%20date%3A%5B1850%20TO%201954%5D&l-decade=194&l-year=1947\", \"id\": \"Query 1\"}, {\"date\": \"1948-01-02\", \"total_results\": 0, \"total_articles\": 0, \"url\": \"https://trove.nla.gov.au/search/category/newspapers?keyword=text%3A%22darling%20wife%22%20date%3A%5B1850%20TO%201954%5D&l-decade=194&l-year=1948\", \"id\": \"Query 1\"}, {\"date\": \"1949-01-02\", \"total_results\": 0, \"total_articles\": 0, \"url\": \"https://trove.nla.gov.au/search/category/newspapers?keyword=text%3A%22darling%20wife%22%20date%3A%5B1850%20TO%201954%5D&l-decade=194&l-year=1949\", \"id\": \"Query 1\"}, {\"date\": \"1950-01-02\", \"total_results\": 0, \"total_articles\": 0, \"url\": \"https://trove.nla.gov.au/search/category/newspapers?keyword=text%3A%22darling%20wife%22%20date%3A%5B1850%20TO%201954%5D&l-decade=195&l-year=1950\", \"id\": \"Query 1\"}, {\"date\": \"1951-01-02\", \"total_results\": 0, \"total_articles\": 0, \"url\": \"https://trove.nla.gov.au/search/category/newspapers?keyword=text%3A%22darling%20wife%22%20date%3A%5B1850%20TO%201954%5D&l-decade=195&l-year=1951\", \"id\": \"Query 1\"}, {\"date\": \"1952-01-02\", \"total_results\": 0, \"total_articles\": 0, \"url\": \"https://trove.nla.gov.au/search/category/newspapers?keyword=text%3A%22darling%20wife%22%20date%3A%5B1850%20TO%201954%5D&l-decade=195&l-year=1952\", \"id\": \"Query 1\"}, {\"date\": \"1953-01-02\", \"total_results\": 0, \"total_articles\": 0, \"url\": \"https://trove.nla.gov.au/search/category/newspapers?keyword=text%3A%22darling%20wife%22%20date%3A%5B1850%20TO%201954%5D&l-decade=195&l-year=1953\", \"id\": \"Query 1\"}, {\"date\": \"1850-01-02\", \"total_results\": 0, \"total_articles\": 0, \"url\": \"https://trove.nla.gov.au/search/category/newspapers?keyword=text%3A%22darling%20wife%22%20date%3A%5B1850%20TO%201954%5D&l-decade=185&l-year=1850\", \"id\": \"Query 2\"}, {\"date\": \"1851-01-02\", \"total_results\": 0, \"total_articles\": 0, \"url\": \"https://trove.nla.gov.au/search/category/newspapers?keyword=text%3A%22darling%20wife%22%20date%3A%5B1850%20TO%201954%5D&l-decade=185&l-year=1851\", \"id\": \"Query 2\"}, {\"date\": \"1852-01-02\", \"total_results\": 0, \"total_articles\": 0, \"url\": \"https://trove.nla.gov.au/search/category/newspapers?keyword=text%3A%22darling%20wife%22%20date%3A%5B1850%20TO%201954%5D&l-decade=185&l-year=1852\", \"id\": \"Query 2\"}, {\"date\": \"1853-01-02\", \"total_results\": 0, \"total_articles\": 0, \"url\": \"https://trove.nla.gov.au/search/category/newspapers?keyword=text%3A%22darling%20wife%22%20date%3A%5B1850%20TO%201954%5D&l-decade=185&l-year=1853\", \"id\": \"Query 2\"}, {\"date\": \"1854-01-02\", \"total_results\": 0, \"total_articles\": 0, \"url\": \"https://trove.nla.gov.au/search/category/newspapers?keyword=text%3A%22darling%20wife%22%20date%3A%5B1850%20TO%201954%5D&l-decade=185&l-year=1854\", \"id\": \"Query 2\"}, {\"date\": \"1855-01-02\", \"total_results\": 0, \"total_articles\": 0, \"url\": \"https://trove.nla.gov.au/search/category/newspapers?keyword=text%3A%22darling%20wife%22%20date%3A%5B1850%20TO%201954%5D&l-decade=185&l-year=1855\", \"id\": \"Query 2\"}, {\"date\": \"1856-01-02\", \"total_results\": 0, \"total_articles\": 0, \"url\": \"https://trove.nla.gov.au/search/category/newspapers?keyword=text%3A%22darling%20wife%22%20date%3A%5B1850%20TO%201954%5D&l-decade=185&l-year=1856\", \"id\": \"Query 2\"}, {\"date\": \"1857-01-02\", \"total_results\": 0, \"total_articles\": 0, \"url\": \"https://trove.nla.gov.au/search/category/newspapers?keyword=text%3A%22darling%20wife%22%20date%3A%5B1850%20TO%201954%5D&l-decade=185&l-year=1857\", \"id\": \"Query 2\"}, {\"date\": \"1858-01-02\", \"total_results\": 0, \"total_articles\": 0, \"url\": \"https://trove.nla.gov.au/search/category/newspapers?keyword=text%3A%22darling%20wife%22%20date%3A%5B1850%20TO%201954%5D&l-decade=185&l-year=1858\", \"id\": \"Query 2\"}, {\"date\": \"1859-01-02\", \"total_results\": 0, \"total_articles\": 0, \"url\": \"https://trove.nla.gov.au/search/category/newspapers?keyword=text%3A%22darling%20wife%22%20date%3A%5B1850%20TO%201954%5D&l-decade=185&l-year=1859\", \"id\": \"Query 2\"}, {\"date\": \"1860-01-02\", \"total_results\": 0, \"total_articles\": 0, \"url\": \"https://trove.nla.gov.au/search/category/newspapers?keyword=text%3A%22darling%20wife%22%20date%3A%5B1850%20TO%201954%5D&l-decade=186&l-year=1860\", \"id\": \"Query 2\"}, {\"date\": \"1861-01-02\", \"total_results\": 0, \"total_articles\": 0, \"url\": \"https://trove.nla.gov.au/search/category/newspapers?keyword=text%3A%22darling%20wife%22%20date%3A%5B1850%20TO%201954%5D&l-decade=186&l-year=1861\", \"id\": \"Query 2\"}, {\"date\": \"1862-01-02\", \"total_results\": 0, \"total_articles\": 0, \"url\": \"https://trove.nla.gov.au/search/category/newspapers?keyword=text%3A%22darling%20wife%22%20date%3A%5B1850%20TO%201954%5D&l-decade=186&l-year=1862\", \"id\": \"Query 2\"}, {\"date\": \"1863-01-02\", \"total_results\": 0, \"total_articles\": 0, \"url\": \"https://trove.nla.gov.au/search/category/newspapers?keyword=text%3A%22darling%20wife%22%20date%3A%5B1850%20TO%201954%5D&l-decade=186&l-year=1863\", \"id\": \"Query 2\"}, {\"date\": \"1864-01-02\", \"total_results\": 0, \"total_articles\": 0, \"url\": \"https://trove.nla.gov.au/search/category/newspapers?keyword=text%3A%22darling%20wife%22%20date%3A%5B1850%20TO%201954%5D&l-decade=186&l-year=1864\", \"id\": \"Query 2\"}, {\"date\": \"1865-01-02\", \"total_results\": 0, \"total_articles\": 0, \"url\": \"https://trove.nla.gov.au/search/category/newspapers?keyword=text%3A%22darling%20wife%22%20date%3A%5B1850%20TO%201954%5D&l-decade=186&l-year=1865\", \"id\": \"Query 2\"}, {\"date\": \"1866-01-02\", \"total_results\": 0, \"total_articles\": 0, \"url\": \"https://trove.nla.gov.au/search/category/newspapers?keyword=text%3A%22darling%20wife%22%20date%3A%5B1850%20TO%201954%5D&l-decade=186&l-year=1866\", \"id\": \"Query 2\"}, {\"date\": \"1867-01-02\", \"total_results\": 0, \"total_articles\": 0, \"url\": \"https://trove.nla.gov.au/search/category/newspapers?keyword=text%3A%22darling%20wife%22%20date%3A%5B1850%20TO%201954%5D&l-decade=186&l-year=1867\", \"id\": \"Query 2\"}, {\"date\": \"1868-01-02\", \"total_results\": 0, \"total_articles\": 0, \"url\": \"https://trove.nla.gov.au/search/category/newspapers?keyword=text%3A%22darling%20wife%22%20date%3A%5B1850%20TO%201954%5D&l-decade=186&l-year=1868\", \"id\": \"Query 2\"}, {\"date\": \"1869-01-02\", \"total_results\": 0, \"total_articles\": 0, \"url\": \"https://trove.nla.gov.au/search/category/newspapers?keyword=text%3A%22darling%20wife%22%20date%3A%5B1850%20TO%201954%5D&l-decade=186&l-year=1869\", \"id\": \"Query 2\"}, {\"date\": \"1870-01-02\", \"total_results\": 0, \"total_articles\": 0, \"url\": \"https://trove.nla.gov.au/search/category/newspapers?keyword=text%3A%22darling%20wife%22%20date%3A%5B1850%20TO%201954%5D&l-decade=187&l-year=1870\", \"id\": \"Query 2\"}, {\"date\": \"1871-01-02\", \"total_results\": 0, \"total_articles\": 0, \"url\": \"https://trove.nla.gov.au/search/category/newspapers?keyword=text%3A%22darling%20wife%22%20date%3A%5B1850%20TO%201954%5D&l-decade=187&l-year=1871\", \"id\": \"Query 2\"}, {\"date\": \"1872-01-02\", \"total_results\": 0, \"total_articles\": 0, \"url\": \"https://trove.nla.gov.au/search/category/newspapers?keyword=text%3A%22darling%20wife%22%20date%3A%5B1850%20TO%201954%5D&l-decade=187&l-year=1872\", \"id\": \"Query 2\"}, {\"date\": \"1873-01-02\", \"total_results\": 0, \"total_articles\": 0, \"url\": \"https://trove.nla.gov.au/search/category/newspapers?keyword=text%3A%22darling%20wife%22%20date%3A%5B1850%20TO%201954%5D&l-decade=187&l-year=1873\", \"id\": \"Query 2\"}, {\"date\": \"1874-01-02\", \"total_results\": 0, \"total_articles\": 0, \"url\": \"https://trove.nla.gov.au/search/category/newspapers?keyword=text%3A%22darling%20wife%22%20date%3A%5B1850%20TO%201954%5D&l-decade=187&l-year=1874\", \"id\": \"Query 2\"}, {\"date\": \"1875-01-02\", \"total_results\": 0, \"total_articles\": 0, \"url\": \"https://trove.nla.gov.au/search/category/newspapers?keyword=text%3A%22darling%20wife%22%20date%3A%5B1850%20TO%201954%5D&l-decade=187&l-year=1875\", \"id\": \"Query 2\"}, {\"date\": \"1876-01-02\", \"total_results\": 0, \"total_articles\": 0, \"url\": \"https://trove.nla.gov.au/search/category/newspapers?keyword=text%3A%22darling%20wife%22%20date%3A%5B1850%20TO%201954%5D&l-decade=187&l-year=1876\", \"id\": \"Query 2\"}, {\"date\": \"1877-01-02\", \"total_results\": 0, \"total_articles\": 0, \"url\": \"https://trove.nla.gov.au/search/category/newspapers?keyword=text%3A%22darling%20wife%22%20date%3A%5B1850%20TO%201954%5D&l-decade=187&l-year=1877\", \"id\": \"Query 2\"}, {\"date\": \"1878-01-02\", \"total_results\": 0, \"total_articles\": 0, \"url\": \"https://trove.nla.gov.au/search/category/newspapers?keyword=text%3A%22darling%20wife%22%20date%3A%5B1850%20TO%201954%5D&l-decade=187&l-year=1878\", \"id\": \"Query 2\"}, {\"date\": \"1879-01-02\", \"total_results\": 0, \"total_articles\": 0, \"url\": \"https://trove.nla.gov.au/search/category/newspapers?keyword=text%3A%22darling%20wife%22%20date%3A%5B1850%20TO%201954%5D&l-decade=187&l-year=1879\", \"id\": \"Query 2\"}, {\"date\": \"1880-01-02\", \"total_results\": 0, \"total_articles\": 0, \"url\": \"https://trove.nla.gov.au/search/category/newspapers?keyword=text%3A%22darling%20wife%22%20date%3A%5B1850%20TO%201954%5D&l-decade=188&l-year=1880\", \"id\": \"Query 2\"}, {\"date\": \"1881-01-02\", \"total_results\": 0, \"total_articles\": 0, \"url\": \"https://trove.nla.gov.au/search/category/newspapers?keyword=text%3A%22darling%20wife%22%20date%3A%5B1850%20TO%201954%5D&l-decade=188&l-year=1881\", \"id\": \"Query 2\"}, {\"date\": \"1882-01-02\", \"total_results\": 0, \"total_articles\": 0, \"url\": \"https://trove.nla.gov.au/search/category/newspapers?keyword=text%3A%22darling%20wife%22%20date%3A%5B1850%20TO%201954%5D&l-decade=188&l-year=1882\", \"id\": \"Query 2\"}, {\"date\": \"1883-01-02\", \"total_results\": 0, \"total_articles\": 0, \"url\": \"https://trove.nla.gov.au/search/category/newspapers?keyword=text%3A%22darling%20wife%22%20date%3A%5B1850%20TO%201954%5D&l-decade=188&l-year=1883\", \"id\": \"Query 2\"}, {\"date\": \"1884-01-02\", \"total_results\": 0, \"total_articles\": 0, \"url\": \"https://trove.nla.gov.au/search/category/newspapers?keyword=text%3A%22darling%20wife%22%20date%3A%5B1850%20TO%201954%5D&l-decade=188&l-year=1884\", \"id\": \"Query 2\"}, {\"date\": \"1885-01-02\", \"total_results\": 0, \"total_articles\": 0, \"url\": \"https://trove.nla.gov.au/search/category/newspapers?keyword=text%3A%22darling%20wife%22%20date%3A%5B1850%20TO%201954%5D&l-decade=188&l-year=1885\", \"id\": \"Query 2\"}, {\"date\": \"1886-01-02\", \"total_results\": 0, \"total_articles\": 0, \"url\": \"https://trove.nla.gov.au/search/category/newspapers?keyword=text%3A%22darling%20wife%22%20date%3A%5B1850%20TO%201954%5D&l-decade=188&l-year=1886\", \"id\": \"Query 2\"}, {\"date\": \"1887-01-02\", \"total_results\": 0, \"total_articles\": 0, \"url\": \"https://trove.nla.gov.au/search/category/newspapers?keyword=text%3A%22darling%20wife%22%20date%3A%5B1850%20TO%201954%5D&l-decade=188&l-year=1887\", \"id\": \"Query 2\"}, {\"date\": \"1888-01-02\", \"total_results\": 0, \"total_articles\": 0, \"url\": \"https://trove.nla.gov.au/search/category/newspapers?keyword=text%3A%22darling%20wife%22%20date%3A%5B1850%20TO%201954%5D&l-decade=188&l-year=1888\", \"id\": \"Query 2\"}, {\"date\": \"1889-01-02\", \"total_results\": 0, \"total_articles\": 0, \"url\": \"https://trove.nla.gov.au/search/category/newspapers?keyword=text%3A%22darling%20wife%22%20date%3A%5B1850%20TO%201954%5D&l-decade=188&l-year=1889\", \"id\": \"Query 2\"}, {\"date\": \"1890-01-02\", \"total_results\": 0, \"total_articles\": 0, \"url\": \"https://trove.nla.gov.au/search/category/newspapers?keyword=text%3A%22darling%20wife%22%20date%3A%5B1850%20TO%201954%5D&l-decade=189&l-year=1890\", \"id\": \"Query 2\"}, {\"date\": \"1891-01-02\", \"total_results\": 0, \"total_articles\": 0, \"url\": \"https://trove.nla.gov.au/search/category/newspapers?keyword=text%3A%22darling%20wife%22%20date%3A%5B1850%20TO%201954%5D&l-decade=189&l-year=1891\", \"id\": \"Query 2\"}, {\"date\": \"1892-01-02\", \"total_results\": 0, \"total_articles\": 0, \"url\": \"https://trove.nla.gov.au/search/category/newspapers?keyword=text%3A%22darling%20wife%22%20date%3A%5B1850%20TO%201954%5D&l-decade=189&l-year=1892\", \"id\": \"Query 2\"}, {\"date\": \"1893-01-02\", \"total_results\": 0, \"total_articles\": 0, \"url\": \"https://trove.nla.gov.au/search/category/newspapers?keyword=text%3A%22darling%20wife%22%20date%3A%5B1850%20TO%201954%5D&l-decade=189&l-year=1893\", \"id\": \"Query 2\"}, {\"date\": \"1894-01-02\", \"total_results\": 0, \"total_articles\": 0, \"url\": \"https://trove.nla.gov.au/search/category/newspapers?keyword=text%3A%22darling%20wife%22%20date%3A%5B1850%20TO%201954%5D&l-decade=189&l-year=1894\", \"id\": \"Query 2\"}, {\"date\": \"1895-01-02\", \"total_results\": 0, \"total_articles\": 0, \"url\": \"https://trove.nla.gov.au/search/category/newspapers?keyword=text%3A%22darling%20wife%22%20date%3A%5B1850%20TO%201954%5D&l-decade=189&l-year=1895\", \"id\": \"Query 2\"}, {\"date\": \"1896-01-02\", \"total_results\": 0, \"total_articles\": 0, \"url\": \"https://trove.nla.gov.au/search/category/newspapers?keyword=text%3A%22darling%20wife%22%20date%3A%5B1850%20TO%201954%5D&l-decade=189&l-year=1896\", \"id\": \"Query 2\"}, {\"date\": \"1897-01-02\", \"total_results\": 0, \"total_articles\": 0, \"url\": \"https://trove.nla.gov.au/search/category/newspapers?keyword=text%3A%22darling%20wife%22%20date%3A%5B1850%20TO%201954%5D&l-decade=189&l-year=1897\", \"id\": \"Query 2\"}, {\"date\": \"1898-01-02\", \"total_results\": 0, \"total_articles\": 0, \"url\": \"https://trove.nla.gov.au/search/category/newspapers?keyword=text%3A%22darling%20wife%22%20date%3A%5B1850%20TO%201954%5D&l-decade=189&l-year=1898\", \"id\": \"Query 2\"}, {\"date\": \"1899-01-02\", \"total_results\": 0, \"total_articles\": 0, \"url\": \"https://trove.nla.gov.au/search/category/newspapers?keyword=text%3A%22darling%20wife%22%20date%3A%5B1850%20TO%201954%5D&l-decade=189&l-year=1899\", \"id\": \"Query 2\"}, {\"date\": \"1900-01-02\", \"total_results\": 0, \"total_articles\": 0, \"url\": \"https://trove.nla.gov.au/search/category/newspapers?keyword=text%3A%22darling%20wife%22%20date%3A%5B1850%20TO%201954%5D&l-decade=190&l-year=1900\", \"id\": \"Query 2\"}, {\"date\": \"1901-01-02\", \"total_results\": 0, \"total_articles\": 0, \"url\": \"https://trove.nla.gov.au/search/category/newspapers?keyword=text%3A%22darling%20wife%22%20date%3A%5B1850%20TO%201954%5D&l-decade=190&l-year=1901\", \"id\": \"Query 2\"}, {\"date\": \"1902-01-02\", \"total_results\": 0, \"total_articles\": 0, \"url\": \"https://trove.nla.gov.au/search/category/newspapers?keyword=text%3A%22darling%20wife%22%20date%3A%5B1850%20TO%201954%5D&l-decade=190&l-year=1902\", \"id\": \"Query 2\"}, {\"date\": \"1903-01-02\", \"total_results\": 0, \"total_articles\": 0, \"url\": \"https://trove.nla.gov.au/search/category/newspapers?keyword=text%3A%22darling%20wife%22%20date%3A%5B1850%20TO%201954%5D&l-decade=190&l-year=1903\", \"id\": \"Query 2\"}, {\"date\": \"1904-01-02\", \"total_results\": 0, \"total_articles\": 0, \"url\": \"https://trove.nla.gov.au/search/category/newspapers?keyword=text%3A%22darling%20wife%22%20date%3A%5B1850%20TO%201954%5D&l-decade=190&l-year=1904\", \"id\": \"Query 2\"}, {\"date\": \"1905-01-02\", \"total_results\": 0, \"total_articles\": 0, \"url\": \"https://trove.nla.gov.au/search/category/newspapers?keyword=text%3A%22darling%20wife%22%20date%3A%5B1850%20TO%201954%5D&l-decade=190&l-year=1905\", \"id\": \"Query 2\"}, {\"date\": \"1906-01-02\", \"total_results\": 0, \"total_articles\": 0, \"url\": \"https://trove.nla.gov.au/search/category/newspapers?keyword=text%3A%22darling%20wife%22%20date%3A%5B1850%20TO%201954%5D&l-decade=190&l-year=1906\", \"id\": \"Query 2\"}, {\"date\": \"1907-01-02\", \"total_results\": 0, \"total_articles\": 0, \"url\": \"https://trove.nla.gov.au/search/category/newspapers?keyword=text%3A%22darling%20wife%22%20date%3A%5B1850%20TO%201954%5D&l-decade=190&l-year=1907\", \"id\": \"Query 2\"}, {\"date\": \"1908-01-02\", \"total_results\": 0, \"total_articles\": 0, \"url\": \"https://trove.nla.gov.au/search/category/newspapers?keyword=text%3A%22darling%20wife%22%20date%3A%5B1850%20TO%201954%5D&l-decade=190&l-year=1908\", \"id\": \"Query 2\"}, {\"date\": \"1909-01-02\", \"total_results\": 0, \"total_articles\": 0, \"url\": \"https://trove.nla.gov.au/search/category/newspapers?keyword=text%3A%22darling%20wife%22%20date%3A%5B1850%20TO%201954%5D&l-decade=190&l-year=1909\", \"id\": \"Query 2\"}, {\"date\": \"1910-01-02\", \"total_results\": 0, \"total_articles\": 0, \"url\": \"https://trove.nla.gov.au/search/category/newspapers?keyword=text%3A%22darling%20wife%22%20date%3A%5B1850%20TO%201954%5D&l-decade=191&l-year=1910\", \"id\": \"Query 2\"}, {\"date\": \"1911-01-02\", \"total_results\": 0, \"total_articles\": 0, \"url\": \"https://trove.nla.gov.au/search/category/newspapers?keyword=text%3A%22darling%20wife%22%20date%3A%5B1850%20TO%201954%5D&l-decade=191&l-year=1911\", \"id\": \"Query 2\"}, {\"date\": \"1912-01-02\", \"total_results\": 0, \"total_articles\": 0, \"url\": \"https://trove.nla.gov.au/search/category/newspapers?keyword=text%3A%22darling%20wife%22%20date%3A%5B1850%20TO%201954%5D&l-decade=191&l-year=1912\", \"id\": \"Query 2\"}, {\"date\": \"1913-01-02\", \"total_results\": 0, \"total_articles\": 0, \"url\": \"https://trove.nla.gov.au/search/category/newspapers?keyword=text%3A%22darling%20wife%22%20date%3A%5B1850%20TO%201954%5D&l-decade=191&l-year=1913\", \"id\": \"Query 2\"}, {\"date\": \"1914-01-02\", \"total_results\": 0, \"total_articles\": 0, \"url\": \"https://trove.nla.gov.au/search/category/newspapers?keyword=text%3A%22darling%20wife%22%20date%3A%5B1850%20TO%201954%5D&l-decade=191&l-year=1914\", \"id\": \"Query 2\"}, {\"date\": \"1915-01-02\", \"total_results\": 0, \"total_articles\": 0, \"url\": \"https://trove.nla.gov.au/search/category/newspapers?keyword=text%3A%22darling%20wife%22%20date%3A%5B1850%20TO%201954%5D&l-decade=191&l-year=1915\", \"id\": \"Query 2\"}, {\"date\": \"1916-01-02\", \"total_results\": 0, \"total_articles\": 0, \"url\": \"https://trove.nla.gov.au/search/category/newspapers?keyword=text%3A%22darling%20wife%22%20date%3A%5B1850%20TO%201954%5D&l-decade=191&l-year=1916\", \"id\": \"Query 2\"}, {\"date\": \"1917-01-02\", \"total_results\": 0, \"total_articles\": 0, \"url\": \"https://trove.nla.gov.au/search/category/newspapers?keyword=text%3A%22darling%20wife%22%20date%3A%5B1850%20TO%201954%5D&l-decade=191&l-year=1917\", \"id\": \"Query 2\"}, {\"date\": \"1918-01-02\", \"total_results\": 0, \"total_articles\": 0, \"url\": \"https://trove.nla.gov.au/search/category/newspapers?keyword=text%3A%22darling%20wife%22%20date%3A%5B1850%20TO%201954%5D&l-decade=191&l-year=1918\", \"id\": \"Query 2\"}, {\"date\": \"1919-01-02\", \"total_results\": 0, \"total_articles\": 0, \"url\": \"https://trove.nla.gov.au/search/category/newspapers?keyword=text%3A%22darling%20wife%22%20date%3A%5B1850%20TO%201954%5D&l-decade=191&l-year=1919\", \"id\": \"Query 2\"}, {\"date\": \"1920-01-02\", \"total_results\": 0, \"total_articles\": 0, \"url\": \"https://trove.nla.gov.au/search/category/newspapers?keyword=text%3A%22darling%20wife%22%20date%3A%5B1850%20TO%201954%5D&l-decade=192&l-year=1920\", \"id\": \"Query 2\"}, {\"date\": \"1921-01-02\", \"total_results\": 0, \"total_articles\": 0, \"url\": \"https://trove.nla.gov.au/search/category/newspapers?keyword=text%3A%22darling%20wife%22%20date%3A%5B1850%20TO%201954%5D&l-decade=192&l-year=1921\", \"id\": \"Query 2\"}, {\"date\": \"1922-01-02\", \"total_results\": 0, \"total_articles\": 0, \"url\": \"https://trove.nla.gov.au/search/category/newspapers?keyword=text%3A%22darling%20wife%22%20date%3A%5B1850%20TO%201954%5D&l-decade=192&l-year=1922\", \"id\": \"Query 2\"}, {\"date\": \"1923-01-02\", \"total_results\": 0, \"total_articles\": 0, \"url\": \"https://trove.nla.gov.au/search/category/newspapers?keyword=text%3A%22darling%20wife%22%20date%3A%5B1850%20TO%201954%5D&l-decade=192&l-year=1923\", \"id\": \"Query 2\"}, {\"date\": \"1924-01-02\", \"total_results\": 0, \"total_articles\": 0, \"url\": \"https://trove.nla.gov.au/search/category/newspapers?keyword=text%3A%22darling%20wife%22%20date%3A%5B1850%20TO%201954%5D&l-decade=192&l-year=1924\", \"id\": \"Query 2\"}, {\"date\": \"1925-01-02\", \"total_results\": 0, \"total_articles\": 0, \"url\": \"https://trove.nla.gov.au/search/category/newspapers?keyword=text%3A%22darling%20wife%22%20date%3A%5B1850%20TO%201954%5D&l-decade=192&l-year=1925\", \"id\": \"Query 2\"}, {\"date\": \"1926-01-02\", \"total_results\": 0, \"total_articles\": 0, \"url\": \"https://trove.nla.gov.au/search/category/newspapers?keyword=text%3A%22darling%20wife%22%20date%3A%5B1850%20TO%201954%5D&l-decade=192&l-year=1926\", \"id\": \"Query 2\"}, {\"date\": \"1927-01-02\", \"total_results\": 0, \"total_articles\": 0, \"url\": \"https://trove.nla.gov.au/search/category/newspapers?keyword=text%3A%22darling%20wife%22%20date%3A%5B1850%20TO%201954%5D&l-decade=192&l-year=1927\", \"id\": \"Query 2\"}, {\"date\": \"1928-01-02\", \"total_results\": 0, \"total_articles\": 0, \"url\": \"https://trove.nla.gov.au/search/category/newspapers?keyword=text%3A%22darling%20wife%22%20date%3A%5B1850%20TO%201954%5D&l-decade=192&l-year=1928\", \"id\": \"Query 2\"}, {\"date\": \"1929-01-02\", \"total_results\": 0, \"total_articles\": 0, \"url\": \"https://trove.nla.gov.au/search/category/newspapers?keyword=text%3A%22darling%20wife%22%20date%3A%5B1850%20TO%201954%5D&l-decade=192&l-year=1929\", \"id\": \"Query 2\"}, {\"date\": \"1930-01-02\", \"total_results\": 0, \"total_articles\": 0, \"url\": \"https://trove.nla.gov.au/search/category/newspapers?keyword=text%3A%22darling%20wife%22%20date%3A%5B1850%20TO%201954%5D&l-decade=193&l-year=1930\", \"id\": \"Query 2\"}, {\"date\": \"1931-01-02\", \"total_results\": 0, \"total_articles\": 0, \"url\": \"https://trove.nla.gov.au/search/category/newspapers?keyword=text%3A%22darling%20wife%22%20date%3A%5B1850%20TO%201954%5D&l-decade=193&l-year=1931\", \"id\": \"Query 2\"}, {\"date\": \"1932-01-02\", \"total_results\": 0, \"total_articles\": 0, \"url\": \"https://trove.nla.gov.au/search/category/newspapers?keyword=text%3A%22darling%20wife%22%20date%3A%5B1850%20TO%201954%5D&l-decade=193&l-year=1932\", \"id\": \"Query 2\"}, {\"date\": \"1933-01-02\", \"total_results\": 0, \"total_articles\": 0, \"url\": \"https://trove.nla.gov.au/search/category/newspapers?keyword=text%3A%22darling%20wife%22%20date%3A%5B1850%20TO%201954%5D&l-decade=193&l-year=1933\", \"id\": \"Query 2\"}, {\"date\": \"1934-01-02\", \"total_results\": 0, \"total_articles\": 0, \"url\": \"https://trove.nla.gov.au/search/category/newspapers?keyword=text%3A%22darling%20wife%22%20date%3A%5B1850%20TO%201954%5D&l-decade=193&l-year=1934\", \"id\": \"Query 2\"}, {\"date\": \"1935-01-02\", \"total_results\": 0, \"total_articles\": 0, \"url\": \"https://trove.nla.gov.au/search/category/newspapers?keyword=text%3A%22darling%20wife%22%20date%3A%5B1850%20TO%201954%5D&l-decade=193&l-year=1935\", \"id\": \"Query 2\"}, {\"date\": \"1936-01-02\", \"total_results\": 0, \"total_articles\": 0, \"url\": \"https://trove.nla.gov.au/search/category/newspapers?keyword=text%3A%22darling%20wife%22%20date%3A%5B1850%20TO%201954%5D&l-decade=193&l-year=1936\", \"id\": \"Query 2\"}, {\"date\": \"1937-01-02\", \"total_results\": 0, \"total_articles\": 0, \"url\": \"https://trove.nla.gov.au/search/category/newspapers?keyword=text%3A%22darling%20wife%22%20date%3A%5B1850%20TO%201954%5D&l-decade=193&l-year=1937\", \"id\": \"Query 2\"}, {\"date\": \"1938-01-02\", \"total_results\": 0, \"total_articles\": 0, \"url\": \"https://trove.nla.gov.au/search/category/newspapers?keyword=text%3A%22darling%20wife%22%20date%3A%5B1850%20TO%201954%5D&l-decade=193&l-year=1938\", \"id\": \"Query 2\"}, {\"date\": \"1939-01-02\", \"total_results\": 0, \"total_articles\": 0, \"url\": \"https://trove.nla.gov.au/search/category/newspapers?keyword=text%3A%22darling%20wife%22%20date%3A%5B1850%20TO%201954%5D&l-decade=193&l-year=1939\", \"id\": \"Query 2\"}, {\"date\": \"1940-01-02\", \"total_results\": 0, \"total_articles\": 0, \"url\": \"https://trove.nla.gov.au/search/category/newspapers?keyword=text%3A%22darling%20wife%22%20date%3A%5B1850%20TO%201954%5D&l-decade=194&l-year=1940\", \"id\": \"Query 2\"}, {\"date\": \"1941-01-02\", \"total_results\": 0, \"total_articles\": 0, \"url\": \"https://trove.nla.gov.au/search/category/newspapers?keyword=text%3A%22darling%20wife%22%20date%3A%5B1850%20TO%201954%5D&l-decade=194&l-year=1941\", \"id\": \"Query 2\"}, {\"date\": \"1942-01-02\", \"total_results\": 0, \"total_articles\": 0, \"url\": \"https://trove.nla.gov.au/search/category/newspapers?keyword=text%3A%22darling%20wife%22%20date%3A%5B1850%20TO%201954%5D&l-decade=194&l-year=1942\", \"id\": \"Query 2\"}, {\"date\": \"1943-01-02\", \"total_results\": 0, \"total_articles\": 0, \"url\": \"https://trove.nla.gov.au/search/category/newspapers?keyword=text%3A%22darling%20wife%22%20date%3A%5B1850%20TO%201954%5D&l-decade=194&l-year=1943\", \"id\": \"Query 2\"}, {\"date\": \"1944-01-02\", \"total_results\": 0, \"total_articles\": 0, \"url\": \"https://trove.nla.gov.au/search/category/newspapers?keyword=text%3A%22darling%20wife%22%20date%3A%5B1850%20TO%201954%5D&l-decade=194&l-year=1944\", \"id\": \"Query 2\"}, {\"date\": \"1945-01-02\", \"total_results\": 0, \"total_articles\": 0, \"url\": \"https://trove.nla.gov.au/search/category/newspapers?keyword=text%3A%22darling%20wife%22%20date%3A%5B1850%20TO%201954%5D&l-decade=194&l-year=1945\", \"id\": \"Query 2\"}, {\"date\": \"1946-01-02\", \"total_results\": 0, \"total_articles\": 0, \"url\": \"https://trove.nla.gov.au/search/category/newspapers?keyword=text%3A%22darling%20wife%22%20date%3A%5B1850%20TO%201954%5D&l-decade=194&l-year=1946\", \"id\": \"Query 2\"}, {\"date\": \"1947-01-02\", \"total_results\": 0, \"total_articles\": 0, \"url\": \"https://trove.nla.gov.au/search/category/newspapers?keyword=text%3A%22darling%20wife%22%20date%3A%5B1850%20TO%201954%5D&l-decade=194&l-year=1947\", \"id\": \"Query 2\"}, {\"date\": \"1948-01-02\", \"total_results\": 0, \"total_articles\": 0, \"url\": \"https://trove.nla.gov.au/search/category/newspapers?keyword=text%3A%22darling%20wife%22%20date%3A%5B1850%20TO%201954%5D&l-decade=194&l-year=1948\", \"id\": \"Query 2\"}, {\"date\": \"1949-01-02\", \"total_results\": 0, \"total_articles\": 0, \"url\": \"https://trove.nla.gov.au/search/category/newspapers?keyword=text%3A%22darling%20wife%22%20date%3A%5B1850%20TO%201954%5D&l-decade=194&l-year=1949\", \"id\": \"Query 2\"}, {\"date\": \"1950-01-02\", \"total_results\": 0, \"total_articles\": 0, \"url\": \"https://trove.nla.gov.au/search/category/newspapers?keyword=text%3A%22darling%20wife%22%20date%3A%5B1850%20TO%201954%5D&l-decade=195&l-year=1950\", \"id\": \"Query 2\"}, {\"date\": \"1951-01-02\", \"total_results\": 0, \"total_articles\": 0, \"url\": \"https://trove.nla.gov.au/search/category/newspapers?keyword=text%3A%22darling%20wife%22%20date%3A%5B1850%20TO%201954%5D&l-decade=195&l-year=1951\", \"id\": \"Query 2\"}, {\"date\": \"1952-01-02\", \"total_results\": 0, \"total_articles\": 0, \"url\": \"https://trove.nla.gov.au/search/category/newspapers?keyword=text%3A%22darling%20wife%22%20date%3A%5B1850%20TO%201954%5D&l-decade=195&l-year=1952\", \"id\": \"Query 2\"}, {\"date\": \"1953-01-02\", \"total_results\": 0, \"total_articles\": 0, \"url\": \"https://trove.nla.gov.au/search/category/newspapers?keyword=text%3A%22darling%20wife%22%20date%3A%5B1850%20TO%201954%5D&l-decade=195&l-year=1953\", \"id\": \"Query 2\"}], \"data-f675c00c0df2c3ff4332f63876210147\": [{\"x\": 0, \"y\": 0, \"id\": \"Query 1\", \"url\": \"https://trove.nla.gov.au/search/category/newspapers?keyword=text%3A%22darling%20wife%22%20date%3A%5B1850%20TO%201954%5D\", \"params\": \"keyword=text%3A%22darling%20wife%22%20date%3A%5B1850%20TO%201954%5D\"}, {\"x\": 0, \"y\": 1, \"id\": \"Query 2\", \"url\": \"https://trove.nla.gov.au/search/category/newspapers?keyword=text%3A%22darling%20wife%22%20date%3A%5B1850%20TO%201954%5D\", \"params\": \"keyword=text%3A%22darling%20wife%22%20date%3A%5B1850%20TO%201954%5D\"}]}}, {\"mode\": \"vega-lite\"});\n</script>",
          "text/plain": "alt.VConcatChart(...)"
         },
         "metadata": {},
         "output_type": "display_data"
        }
       ]
      }
     },
     "8fb441060c514a8db21b4c354e5ee510": {
      "model_module": "@jupyter-widgets/controls",
      "model_module_version": "1.5.0",
      "model_name": "DescriptionStyleModel",
      "state": {
       "description_width": ""
      }
     },
     "8fbfe15468a345ddbb8c30799e81a922": {
      "model_module": "@jupyter-widgets/controls",
      "model_module_version": "1.5.0",
      "model_name": "DropdownModel",
      "state": {
       "_options_labels": [
        "Raw number of results",
        "Proportion of total articles"
       ],
       "index": 0,
       "layout": "IPY_MODEL_9a3a7a1fe88848b78a14fac5d5adc6f7",
       "style": "IPY_MODEL_9fc623afde9741249628ca40e80cf835"
      }
     },
     "90107a5e38394e72b4864743cb8c00ba": {
      "model_module": "@jupyter-widgets/base",
      "model_module_version": "1.2.0",
      "model_name": "LayoutModel",
      "state": {}
     },
     "902a602c8ff549f7b393aa99d7c88bf0": {
      "model_module": "@jupyter-widgets/controls",
      "model_module_version": "1.5.0",
      "model_name": "ButtonModel",
      "state": {
       "button_style": "primary",
       "description": "Visualise query",
       "layout": "IPY_MODEL_cf66d78ade4749b7899ce80b97d687c4",
       "style": "IPY_MODEL_441f049ae84144eea221b928b00355ef",
       "tooltip": "Create chart from query"
      }
     },
     "904d701226c643b48595fe655a390146": {
      "model_module": "@jupyter-widgets/controls",
      "model_module_version": "1.5.0",
      "model_name": "DescriptionStyleModel",
      "state": {
       "description_width": ""
      }
     },
     "91008fdbe86542a9b94afde49452bf07": {
      "model_module": "@jupyter-widgets/base",
      "model_module_version": "1.2.0",
      "model_name": "LayoutModel",
      "state": {}
     },
     "914d1c91ee4847608f2a4424e1fcfdc6": {
      "model_module": "@jupyter-widgets/controls",
      "model_module_version": "1.5.0",
      "model_name": "ButtonModel",
      "state": {
       "button_style": "primary",
       "description": "Visualise query",
       "layout": "IPY_MODEL_8cc1e568136b4a13bef815af79d3bcdc",
       "style": "IPY_MODEL_25b7b39033d946e183f8e9f42e63c8fb",
       "tooltip": "Create chart from query"
      }
     },
     "9189bc0fa06a4f0aba55896979370c87": {
      "model_module": "@jupyter-widgets/base",
      "model_module_version": "1.2.0",
      "model_name": "LayoutModel",
      "state": {}
     },
     "920989494ea24311b5a789dda85a6683": {
      "model_module": "@jupyter-widgets/controls",
      "model_module_version": "1.5.0",
      "model_name": "HTMLModel",
      "state": {
       "layout": "IPY_MODEL_c4d86249b0514fa9b0462b8f2a1ee986",
       "style": "IPY_MODEL_fb206e36ca3145d28cdf030ebaaf085b",
       "value": "  0%"
      }
     },
     "9217ef57745f4ffa87c485f3de6afa45": {
      "model_module": "@jupyter-widgets/base",
      "model_module_version": "1.2.0",
      "model_name": "LayoutModel",
      "state": {
       "margin": "50px 0 50px 0"
      }
     },
     "9219b86512bd43db9a96e96b6894348d": {
      "model_module": "@jupyter-widgets/controls",
      "model_module_version": "1.5.0",
      "model_name": "BoundedIntTextModel",
      "state": {
       "description": "Height",
       "layout": "IPY_MODEL_8e0ffa40b7ae4f09b4d1855b78f1e665",
       "max": 1500,
       "min": 400,
       "step": 100,
       "style": "IPY_MODEL_8eac6d1dc52c4155a98a64e946f82a58",
       "value": 400
      }
     },
     "922b401db4f8445b98856f2ae4ca426f": {
      "model_module": "@jupyter-widgets/controls",
      "model_module_version": "1.5.0",
      "model_name": "DescriptionStyleModel",
      "state": {
       "description_width": ""
      }
     },
     "9256d23de5d04cacbb21c11d6362dd8e": {
      "model_module": "@jupyter-widgets/base",
      "model_module_version": "1.2.0",
      "model_name": "LayoutModel",
      "state": {}
     },
     "931a4836b46943fb8f487c7972987d4d": {
      "model_module": "@jupyter-widgets/base",
      "model_module_version": "1.2.0",
      "model_name": "LayoutModel",
      "state": {}
     },
     "93317219e19a4e7482b783d9f6088bb2": {
      "model_module": "@jupyter-widgets/base",
      "model_module_version": "1.2.0",
      "model_name": "LayoutModel",
      "state": {}
     },
     "93b54250f83a4a57a6dd3a260b029405": {
      "model_module": "@jupyter-widgets/base",
      "model_module_version": "1.2.0",
      "model_name": "LayoutModel",
      "state": {
       "margin": "50px 0 50px 0"
      }
     },
     "93da8c4556744d0f878c51321d4939ee": {
      "model_module": "@jupyter-widgets/base",
      "model_module_version": "1.2.0",
      "model_name": "LayoutModel",
      "state": {}
     },
     "93f4011aacd84672843394816f80f820": {
      "model_module": "@jupyter-widgets/base",
      "model_module_version": "1.2.0",
      "model_name": "LayoutModel",
      "state": {}
     },
     "9430caf0c468489cb795841d2aa5f584": {
      "model_module": "@jupyter-widgets/controls",
      "model_module_version": "1.5.0",
      "model_name": "ButtonStyleModel",
      "state": {}
     },
     "94750ee93fcb436cabe02f444a15f31a": {
      "model_module": "@jupyter-widgets/base",
      "model_module_version": "1.2.0",
      "model_name": "LayoutModel",
      "state": {}
     },
     "9482366c008e4880a4d90084eb2a4ae5": {
      "model_module": "@jupyter-widgets/output",
      "model_module_version": "1.0.0",
      "model_name": "OutputModel",
      "state": {
       "layout": "IPY_MODEL_ace571107268433eb349592a91f759bf",
       "outputs": [
        {
         "data": {
          "application/vnd.jupyter.widget-view+json": {
           "model_id": "",
           "version_major": 2,
           "version_minor": 0
          },
          "text/plain": "HBox(children=(Button(button_style='primary', description='Save chart as HTML', style=ButtonStyle(), tooltip='…"
         },
         "metadata": {},
         "output_type": "display_data"
        },
        {
         "data": {
          "text/html": "Download data: <a href=\"data/querypic-20220624232738.csv\" download>data/querypic-20220624232738.csv</a>",
          "text/plain": "<IPython.core.display.HTML object>"
         },
         "metadata": {},
         "output_type": "display_data"
        }
       ]
      }
     },
     "94efb1bee1274a7b83a38f803da208cf": {
      "model_module": "@jupyter-widgets/base",
      "model_module_version": "1.2.0",
      "model_name": "LayoutModel",
      "state": {}
     },
     "94f0081bb9da4554a593fd424d46ea0e": {
      "model_module": "@jupyter-widgets/controls",
      "model_module_version": "1.5.0",
      "model_name": "ButtonModel",
      "state": {
       "button_style": "primary",
       "description": "Save chart as HTML",
       "layout": "IPY_MODEL_e8ead9f571264a6f94cb41821a394f1f",
       "style": "IPY_MODEL_3a70dd8cfe1a446d8d220a69a8c79898",
       "tooltip": "Save chart as HTML"
      }
     },
     "952c82176759431dbd3133ef7b720c5b": {
      "model_module": "@jupyter-widgets/controls",
      "model_module_version": "1.5.0",
      "model_name": "BoundedIntTextModel",
      "state": {
       "description": "Height",
       "layout": "IPY_MODEL_94efb1bee1274a7b83a38f803da208cf",
       "max": 1500,
       "min": 400,
       "step": 100,
       "style": "IPY_MODEL_8a42e248b5674761aa832cb68c190706",
       "value": 400
      }
     },
     "959eaaa571114fb2b280a7bb9576bc80": {
      "model_module": "@jupyter-widgets/controls",
      "model_module_version": "1.5.0",
      "model_name": "PasswordModel",
      "state": {
       "description": "API key:",
       "layout": "IPY_MODEL_c6f054bc219443559eb89ddd3c7cc29c",
       "placeholder": "Enter your Trove API key",
       "style": "IPY_MODEL_3cbcd2418edf4f5fb6898db378166d4b",
       "value": "6pi5hht0d2umqcro"
      }
     },
     "95d46e5bf3e5490b9827ebe2a7a16dd6": {
      "model_module": "@jupyter-widgets/base",
      "model_module_version": "1.2.0",
      "model_name": "LayoutModel",
      "state": {}
     },
     "96be48334491494d84d53c86a97a0ebe": {
      "model_module": "@jupyter-widgets/base",
      "model_module_version": "1.2.0",
      "model_name": "LayoutModel",
      "state": {}
     },
     "96c6570112fb4c80b8499bdb4ad1fbd3": {
      "model_module": "@jupyter-widgets/base",
      "model_module_version": "1.2.0",
      "model_name": "LayoutModel",
      "state": {}
     },
     "96d2ccd8ebf74a23b9dbdbb6ef6bfccd": {
      "model_module": "@jupyter-widgets/controls",
      "model_module_version": "1.5.0",
      "model_name": "VBoxModel",
      "state": {
       "children": [
        "IPY_MODEL_393d912d05b145aaad5219b6509e7268",
        "IPY_MODEL_f42306a4bd554657af38006d9c7178ff",
        "IPY_MODEL_1472d8272c204a929a58aa68d1bb4fd6"
       ],
       "layout": "IPY_MODEL_a2df0277bafa41df845587155788144e"
      }
     },
     "96f4e7e21b364570ab32d81048b5c2a6": {
      "model_module": "@jupyter-widgets/base",
      "model_module_version": "1.2.0",
      "model_name": "LayoutModel",
      "state": {}
     },
     "96fca6b5519f4727bbf21a027cceff21": {
      "model_module": "@jupyter-widgets/base",
      "model_module_version": "1.2.0",
      "model_name": "LayoutModel",
      "state": {}
     },
     "971cf19ffa68428ca1b9a7621df4a3ab": {
      "model_module": "@jupyter-widgets/controls",
      "model_module_version": "1.5.0",
      "model_name": "HTMLModel",
      "state": {
       "layout": "IPY_MODEL_f0d5f3215c3c4713aed25ffadf4bee9d",
       "style": "IPY_MODEL_aa1b1b275a484fbd8568b39fc53a207a",
       "value": "  0%"
      }
     },
     "97312f996fca413d8bd5abc37332065a": {
      "model_module": "@jupyter-widgets/controls",
      "model_module_version": "1.5.0",
      "model_name": "DescriptionStyleModel",
      "state": {
       "description_width": ""
      }
     },
     "978f7b919b1d49d89126053893cfd62a": {
      "model_module": "@jupyter-widgets/controls",
      "model_module_version": "1.5.0",
      "model_name": "ButtonStyleModel",
      "state": {}
     },
     "980cb6fd5dad4f8d9b052a59283b64fe": {
      "model_module": "@jupyter-widgets/base",
      "model_module_version": "1.2.0",
      "model_name": "LayoutModel",
      "state": {}
     },
     "9823f5bf1ca24ee397655e0f18fa34cb": {
      "model_module": "@jupyter-widgets/controls",
      "model_module_version": "1.5.0",
      "model_name": "TextModel",
      "state": {
       "description": "Query:",
       "layout": "IPY_MODEL_0d0ff99aa2544b0d9ea25074b3c284e5",
       "placeholder": "Enter your search query",
       "style": "IPY_MODEL_2f679ff798c84fc1bf2b36c02277e8b1"
      }
     },
     "983fe20ae3874f0b8a92d32bb2b3bf58": {
      "model_module": "@jupyter-widgets/controls",
      "model_module_version": "1.5.0",
      "model_name": "PasswordModel",
      "state": {
       "description": "API key:",
       "layout": "IPY_MODEL_5ab6d517314a47079feeba7b93a83684",
       "placeholder": "Enter your Trove API key",
       "style": "IPY_MODEL_904d701226c643b48595fe655a390146",
       "value": "6pi5hht0d2umqcro"
      }
     },
     "98b5467c7bae478883938d9aa960bfc9": {
      "model_module": "@jupyter-widgets/controls",
      "model_module_version": "1.5.0",
      "model_name": "DescriptionStyleModel",
      "state": {
       "description_width": ""
      }
     },
     "98b8ffb13c1b4be0b363728f740a1c6a": {
      "model_module": "@jupyter-widgets/base",
      "model_module_version": "1.2.0",
      "model_name": "LayoutModel",
      "state": {}
     },
     "98ebf9ef99ea4880927d98935402ec66": {
      "model_module": "@jupyter-widgets/controls",
      "model_module_version": "1.5.0",
      "model_name": "PasswordModel",
      "state": {
       "description": "API key:",
       "layout": "IPY_MODEL_705eb5ceefd648adbaf54a72099eed2c",
       "placeholder": "Enter your Trove API key",
       "style": "IPY_MODEL_98b5467c7bae478883938d9aa960bfc9",
       "value": "6pi5hht0d2umqcro"
      }
     },
     "98f0b3d5193d4dcf88abeaea7eaa0005": {
      "model_module": "@jupyter-widgets/base",
      "model_module_version": "1.2.0",
      "model_name": "LayoutModel",
      "state": {}
     },
     "9997e612cff74e7c9c054644c56eaa88": {
      "model_module": "@jupyter-widgets/controls",
      "model_module_version": "1.5.0",
      "model_name": "FloatProgressModel",
      "state": {
       "layout": "IPY_MODEL_583c744c78ee4770a10043d715a1d1c8",
       "max": 11,
       "style": "IPY_MODEL_b3579d35ed144a82b8d286af3d916aad",
       "value": 11
      }
     },
     "9a2f00299a97490b8011d13d5d58a0d8": {
      "model_module": "@jupyter-widgets/base",
      "model_module_version": "1.2.0",
      "model_name": "LayoutModel",
      "state": {}
     },
     "9a3a7a1fe88848b78a14fac5d5adc6f7": {
      "model_module": "@jupyter-widgets/base",
      "model_module_version": "1.2.0",
      "model_name": "LayoutModel",
      "state": {}
     },
     "9aed16989b104dc49a414bc31665b91a": {
      "model_module": "@jupyter-widgets/base",
      "model_module_version": "1.2.0",
      "model_name": "LayoutModel",
      "state": {}
     },
     "9af9d01f3e654f438eb7645c5ae847fa": {
      "model_module": "@jupyter-widgets/controls",
      "model_module_version": "1.5.0",
      "model_name": "ButtonModel",
      "state": {
       "button_style": "primary",
       "description": "Visualise query",
       "layout": "IPY_MODEL_174f4630b79d49b78fd1494fc974fdea",
       "style": "IPY_MODEL_a8d262a06d1d4688b837551d9901408f",
       "tooltip": "Create chart from query"
      }
     },
     "9bbadfdd355c467b9eeff2c69c6f509c": {
      "model_module": "@jupyter-widgets/base",
      "model_module_version": "1.2.0",
      "model_name": "LayoutModel",
      "state": {}
     },
     "9c63113a14c8426e97657477bf4688b1": {
      "model_module": "@jupyter-widgets/controls",
      "model_module_version": "1.5.0",
      "model_name": "BoundedIntTextModel",
      "state": {
       "description": "Height",
       "layout": "IPY_MODEL_6cf753a063a94a5aa93cf5147c74a753",
       "max": 1500,
       "min": 400,
       "step": 100,
       "style": "IPY_MODEL_c8e0ed56b9db4a488529415c49918086",
       "value": 400
      }
     },
     "9c6b78a228194bb0bf24b319b8de67ea": {
      "model_module": "@jupyter-widgets/controls",
      "model_module_version": "1.5.0",
      "model_name": "HTMLModel",
      "state": {
       "layout": "IPY_MODEL_f21c58431c554dd596f796481c345805",
       "style": "IPY_MODEL_fb7f155dd32b4ab0a6ddacd156ddf30d",
       "value": "100%"
      }
     },
     "9cb0e8f98bd9435c8bceb1f5fb207b80": {
      "model_module": "@jupyter-widgets/controls",
      "model_module_version": "1.5.0",
      "model_name": "ButtonStyleModel",
      "state": {}
     },
     "9ccdc4149b5141968daf4f2f241372f3": {
      "model_module": "@jupyter-widgets/controls",
      "model_module_version": "1.5.0",
      "model_name": "DropdownModel",
      "state": {
       "_options_labels": [
        "Raw number of results",
        "Proportion of total articles"
       ],
       "index": 0,
       "layout": "IPY_MODEL_d2f26c2d238c4044a9bb9f4f24d7ac11",
       "style": "IPY_MODEL_afe48c5037444988a4e9441a27e258e7"
      }
     },
     "9d74ea31b1e74da7ac48e25f2e567d04": {
      "model_module": "@jupyter-widgets/base",
      "model_module_version": "1.2.0",
      "model_name": "LayoutModel",
      "state": {}
     },
     "9d999d7ac723474b843889d91a3d8f70": {
      "model_module": "@jupyter-widgets/base",
      "model_module_version": "1.2.0",
      "model_name": "LayoutModel",
      "state": {}
     },
     "9dcc2617d96c44bdabd2ced8f9fe2f48": {
      "model_module": "@jupyter-widgets/controls",
      "model_module_version": "1.5.0",
      "model_name": "DropdownModel",
      "state": {
       "_options_labels": [
        "Raw number of results",
        "Proportion of total articles"
       ],
       "index": 0,
       "layout": "IPY_MODEL_94750ee93fcb436cabe02f444a15f31a",
       "style": "IPY_MODEL_33679f7022454260a0ac51975ccd3f36"
      }
     },
     "9e0edaca00ae474abface1c9e688cb17": {
      "model_module": "@jupyter-widgets/controls",
      "model_module_version": "1.5.0",
      "model_name": "ButtonStyleModel",
      "state": {}
     },
     "9e43ec55564b47b0b35f83411d575afa": {
      "model_module": "@jupyter-widgets/base",
      "model_module_version": "1.2.0",
      "model_name": "LayoutModel",
      "state": {}
     },
     "9ead1ccfc91b440e98143630375b145f": {
      "model_module": "@jupyter-widgets/controls",
      "model_module_version": "1.5.0",
      "model_name": "ProgressStyleModel",
      "state": {
       "description_width": ""
      }
     },
     "9ee02cfbc6414a7084407a20b8f34a51": {
      "model_module": "@jupyter-widgets/controls",
      "model_module_version": "1.5.0",
      "model_name": "DescriptionStyleModel",
      "state": {
       "description_width": ""
      }
     },
     "9f12b7efc95b4a1f9018baef86f4002c": {
      "model_module": "@jupyter-widgets/base",
      "model_module_version": "1.2.0",
      "model_name": "LayoutModel",
      "state": {}
     },
     "9f33d8b649ff4645a44b483fdef64dc1": {
      "model_module": "@jupyter-widgets/base",
      "model_module_version": "1.2.0",
      "model_name": "LayoutModel",
      "state": {}
     },
     "9f562bf345fb4f7ea2011b0dbc520ef1": {
      "model_module": "@jupyter-widgets/controls",
      "model_module_version": "1.5.0",
      "model_name": "ProgressStyleModel",
      "state": {
       "description_width": ""
      }
     },
     "9f6d4a7c80184c48abd58cbf34282bac": {
      "model_module": "@jupyter-widgets/controls",
      "model_module_version": "1.5.0",
      "model_name": "DescriptionStyleModel",
      "state": {
       "description_width": ""
      }
     },
     "9f77113b450c45cb83f05eb343b6352b": {
      "model_module": "@jupyter-widgets/base",
      "model_module_version": "1.2.0",
      "model_name": "LayoutModel",
      "state": {}
     },
     "9f9204e9d95e486da3d1a2f3de3922c8": {
      "model_module": "@jupyter-widgets/controls",
      "model_module_version": "1.5.0",
      "model_name": "DescriptionStyleModel",
      "state": {
       "description_width": ""
      }
     },
     "9fc623afde9741249628ca40e80cf835": {
      "model_module": "@jupyter-widgets/controls",
      "model_module_version": "1.5.0",
      "model_name": "DescriptionStyleModel",
      "state": {
       "description_width": ""
      }
     },
     "9ff995e186934b9b99e34add0508063b": {
      "model_module": "@jupyter-widgets/base",
      "model_module_version": "1.2.0",
      "model_name": "LayoutModel",
      "state": {}
     },
     "a01bb4994a814aff83dc7677bdd20b97": {
      "model_module": "@jupyter-widgets/output",
      "model_module_version": "1.0.0",
      "model_name": "OutputModel",
      "state": {
       "layout": "IPY_MODEL_466acabf35bc4d51b856424968b7776f",
       "outputs": [
        {
         "data": {
          "application/vnd.jupyter.widget-view+json": {
           "model_id": "",
           "version_major": 2,
           "version_minor": 0
          },
          "text/plain": "Dropdown(options=(('Raw number of results', 'raw'), ('Proportion of total articles', 'proportion')), value='ra…"
         },
         "metadata": {},
         "output_type": "display_data"
        },
        {
         "data": {
          "text/html": "\n<div id=\"altair-viz-8a62b18db01b435987ac9dabf1782450\"></div>\n<script type=\"text/javascript\">\n  var VEGA_DEBUG = (typeof VEGA_DEBUG == \"undefined\") ? {} : VEGA_DEBUG;\n  (function(spec, embedOpt){\n    let outputDiv = document.currentScript.previousElementSibling;\n    if (outputDiv.id !== \"altair-viz-8a62b18db01b435987ac9dabf1782450\") {\n      outputDiv = document.getElementById(\"altair-viz-8a62b18db01b435987ac9dabf1782450\");\n    }\n    const paths = {\n      \"vega\": \"https://cdn.jsdelivr.net/npm//vega@5?noext\",\n      \"vega-lib\": \"https://cdn.jsdelivr.net/npm//vega-lib?noext\",\n      \"vega-lite\": \"https://cdn.jsdelivr.net/npm//vega-lite@4.17.0?noext\",\n      \"vega-embed\": \"https://cdn.jsdelivr.net/npm//vega-embed@6?noext\",\n    };\n\n    function maybeLoadScript(lib, version) {\n      var key = `${lib.replace(\"-\", \"\")}_version`;\n      return (VEGA_DEBUG[key] == version) ?\n        Promise.resolve(paths[lib]) :\n        new Promise(function(resolve, reject) {\n          var s = document.createElement('script');\n          document.getElementsByTagName(\"head\")[0].appendChild(s);\n          s.async = true;\n          s.onload = () => {\n            VEGA_DEBUG[key] = version;\n            return resolve(paths[lib]);\n          };\n          s.onerror = () => reject(`Error loading script: ${paths[lib]}`);\n          s.src = paths[lib];\n        });\n    }\n\n    function showError(err) {\n      outputDiv.innerHTML = `<div class=\"error\" style=\"color:red;\">${err}</div>`;\n      throw err;\n    }\n\n    function displayChart(vegaEmbed) {\n      vegaEmbed(outputDiv, spec, embedOpt)\n        .catch(err => showError(`Javascript Error: ${err.message}<br>This usually means there's a typo in your chart specification. See the javascript console for the full traceback.`));\n    }\n\n    if(typeof define === \"function\" && define.amd) {\n      requirejs.config({paths});\n      require([\"vega-embed\"], displayChart, err => showError(`Error loading script: ${err.message}`));\n    } else {\n      maybeLoadScript(\"vega\", \"5\")\n        .then(() => maybeLoadScript(\"vega-lite\", \"4.17.0\"))\n        .then(() => maybeLoadScript(\"vega-embed\", \"6\"))\n        .catch(showError)\n        .then(() => displayChart(vegaEmbed));\n    }\n  })({\"usermeta\": {\"embedOptions\": {\"loader\": {\"target\": \"_blank\"}}}, \"vconcat\": [{\"data\": {\"name\": \"data-1b3b5d8dcbd05a849bcce9c06575ada7\"}, \"mark\": {\"type\": \"line\", \"interpolate\": \"cardinal\", \"point\": true}, \"encoding\": {\"color\": {\"field\": \"id\", \"legend\": {\"title\": \"\"}, \"type\": \"nominal\"}, \"href\": {\"field\": \"url\", \"type\": \"nominal\"}, \"tooltip\": [{\"field\": \"id\", \"title\": \"query\", \"type\": \"nominal\"}, {\"field\": \"date\", \"timeUnit\": \"year\", \"title\": \"year\", \"type\": \"temporal\"}, {\"field\": \"total_results\", \"format\": \",\", \"title\": \"results\", \"type\": \"quantitative\"}, {\"field\": \"PercentOfTotal\", \"format\": \".2%\", \"title\": \"proportion\", \"type\": \"quantitative\"}], \"x\": {\"axis\": {\"title\": \"Year\"}, \"field\": \"date\", \"scale\": {\"padding\": 10}, \"timeUnit\": \"year\", \"type\": \"temporal\"}, \"y\": {\"axis\": {\"format\": \",d\", \"title\": \"Number of articles\"}, \"field\": \"total_results\", \"type\": \"quantitative\"}}, \"height\": 400, \"title\": {\"text\": \"Trove Newspapers & Gazettes Search\", \"subtitle\": \"Created by QueryPic: 24 June 2022\"}, \"transform\": [{\"calculate\": \"datum.total_results / datum.total_articles\", \"as\": \"PercentOfTotal\"}], \"width\": 800}, {\"data\": {\"name\": \"data-7b652dd2f569c4c8ff1a82cc6339570e\"}, \"mark\": {\"type\": \"text\", \"align\": \"left\", \"baseline\": \"middle\", \"dx\": 2, \"dy\": 1}, \"encoding\": {\"color\": {\"value\": \"blue\"}, \"href\": {\"field\": \"url\", \"type\": \"nominal\"}, \"text\": {\"field\": \"url\", \"type\": \"nominal\"}, \"x\": {\"axis\": null, \"field\": \"x\", \"scale\": {\"range\": [0, 1]}, \"title\": null, \"type\": \"quantitative\"}, \"y\": {\"axis\": {\"domain\": false, \"grid\": false, \"labelFontWeight\": \"bold\"}, \"field\": \"id\", \"title\": null, \"type\": \"ordinal\"}}}], \"config\": {\"padding\": 20, \"title\": {\"fontSize\": 14}, \"view\": {\"strokeWidth\": 0}}, \"$schema\": \"https://vega.github.io/schema/vega-lite/v4.17.0.json\", \"datasets\": {\"data-1b3b5d8dcbd05a849bcce9c06575ada7\": [{\"date\": \"1850-01-02\", \"total_results\": 0, \"total_articles\": 0, \"url\": \"https://trove.nla.gov.au/search/category/newspapers?keyword=text%3A%22darling%20wife%22%20date%3A%5B1850-01-01%20TO%201954-12-31%5D&l-decade=185&l-year=1850\", \"id\": \"Query 1\"}, {\"date\": \"1851-01-02\", \"total_results\": 0, \"total_articles\": 0, \"url\": \"https://trove.nla.gov.au/search/category/newspapers?keyword=text%3A%22darling%20wife%22%20date%3A%5B1850-01-01%20TO%201954-12-31%5D&l-decade=185&l-year=1851\", \"id\": \"Query 1\"}, {\"date\": \"1852-01-02\", \"total_results\": 0, \"total_articles\": 0, \"url\": \"https://trove.nla.gov.au/search/category/newspapers?keyword=text%3A%22darling%20wife%22%20date%3A%5B1850-01-01%20TO%201954-12-31%5D&l-decade=185&l-year=1852\", \"id\": \"Query 1\"}, {\"date\": \"1853-01-02\", \"total_results\": 0, \"total_articles\": 0, \"url\": \"https://trove.nla.gov.au/search/category/newspapers?keyword=text%3A%22darling%20wife%22%20date%3A%5B1850-01-01%20TO%201954-12-31%5D&l-decade=185&l-year=1853\", \"id\": \"Query 1\"}, {\"date\": \"1854-01-02\", \"total_results\": 0, \"total_articles\": 0, \"url\": \"https://trove.nla.gov.au/search/category/newspapers?keyword=text%3A%22darling%20wife%22%20date%3A%5B1850-01-01%20TO%201954-12-31%5D&l-decade=185&l-year=1854\", \"id\": \"Query 1\"}, {\"date\": \"1855-01-02\", \"total_results\": 0, \"total_articles\": 0, \"url\": \"https://trove.nla.gov.au/search/category/newspapers?keyword=text%3A%22darling%20wife%22%20date%3A%5B1850-01-01%20TO%201954-12-31%5D&l-decade=185&l-year=1855\", \"id\": \"Query 1\"}, {\"date\": \"1856-01-02\", \"total_results\": 0, \"total_articles\": 0, \"url\": \"https://trove.nla.gov.au/search/category/newspapers?keyword=text%3A%22darling%20wife%22%20date%3A%5B1850-01-01%20TO%201954-12-31%5D&l-decade=185&l-year=1856\", \"id\": \"Query 1\"}, {\"date\": \"1857-01-02\", \"total_results\": 0, \"total_articles\": 0, \"url\": \"https://trove.nla.gov.au/search/category/newspapers?keyword=text%3A%22darling%20wife%22%20date%3A%5B1850-01-01%20TO%201954-12-31%5D&l-decade=185&l-year=1857\", \"id\": \"Query 1\"}, {\"date\": \"1858-01-02\", \"total_results\": 0, \"total_articles\": 0, \"url\": \"https://trove.nla.gov.au/search/category/newspapers?keyword=text%3A%22darling%20wife%22%20date%3A%5B1850-01-01%20TO%201954-12-31%5D&l-decade=185&l-year=1858\", \"id\": \"Query 1\"}, {\"date\": \"1859-01-02\", \"total_results\": 0, \"total_articles\": 0, \"url\": \"https://trove.nla.gov.au/search/category/newspapers?keyword=text%3A%22darling%20wife%22%20date%3A%5B1850-01-01%20TO%201954-12-31%5D&l-decade=185&l-year=1859\", \"id\": \"Query 1\"}, {\"date\": \"1860-01-02\", \"total_results\": 0, \"total_articles\": 0, \"url\": \"https://trove.nla.gov.au/search/category/newspapers?keyword=text%3A%22darling%20wife%22%20date%3A%5B1850-01-01%20TO%201954-12-31%5D&l-decade=186&l-year=1860\", \"id\": \"Query 1\"}, {\"date\": \"1861-01-02\", \"total_results\": 0, \"total_articles\": 0, \"url\": \"https://trove.nla.gov.au/search/category/newspapers?keyword=text%3A%22darling%20wife%22%20date%3A%5B1850-01-01%20TO%201954-12-31%5D&l-decade=186&l-year=1861\", \"id\": \"Query 1\"}, {\"date\": \"1862-01-02\", \"total_results\": 0, \"total_articles\": 0, \"url\": \"https://trove.nla.gov.au/search/category/newspapers?keyword=text%3A%22darling%20wife%22%20date%3A%5B1850-01-01%20TO%201954-12-31%5D&l-decade=186&l-year=1862\", \"id\": \"Query 1\"}, {\"date\": \"1863-01-02\", \"total_results\": 0, \"total_articles\": 0, \"url\": \"https://trove.nla.gov.au/search/category/newspapers?keyword=text%3A%22darling%20wife%22%20date%3A%5B1850-01-01%20TO%201954-12-31%5D&l-decade=186&l-year=1863\", \"id\": \"Query 1\"}, {\"date\": \"1864-01-02\", \"total_results\": 0, \"total_articles\": 0, \"url\": \"https://trove.nla.gov.au/search/category/newspapers?keyword=text%3A%22darling%20wife%22%20date%3A%5B1850-01-01%20TO%201954-12-31%5D&l-decade=186&l-year=1864\", \"id\": \"Query 1\"}, {\"date\": \"1865-01-02\", \"total_results\": 0, \"total_articles\": 0, \"url\": \"https://trove.nla.gov.au/search/category/newspapers?keyword=text%3A%22darling%20wife%22%20date%3A%5B1850-01-01%20TO%201954-12-31%5D&l-decade=186&l-year=1865\", \"id\": \"Query 1\"}, {\"date\": \"1866-01-02\", \"total_results\": 0, \"total_articles\": 0, \"url\": \"https://trove.nla.gov.au/search/category/newspapers?keyword=text%3A%22darling%20wife%22%20date%3A%5B1850-01-01%20TO%201954-12-31%5D&l-decade=186&l-year=1866\", \"id\": \"Query 1\"}, {\"date\": \"1867-01-02\", \"total_results\": 0, \"total_articles\": 0, \"url\": \"https://trove.nla.gov.au/search/category/newspapers?keyword=text%3A%22darling%20wife%22%20date%3A%5B1850-01-01%20TO%201954-12-31%5D&l-decade=186&l-year=1867\", \"id\": \"Query 1\"}, {\"date\": \"1868-01-02\", \"total_results\": 0, \"total_articles\": 0, \"url\": \"https://trove.nla.gov.au/search/category/newspapers?keyword=text%3A%22darling%20wife%22%20date%3A%5B1850-01-01%20TO%201954-12-31%5D&l-decade=186&l-year=1868\", \"id\": \"Query 1\"}, {\"date\": \"1869-01-02\", \"total_results\": 0, \"total_articles\": 0, \"url\": \"https://trove.nla.gov.au/search/category/newspapers?keyword=text%3A%22darling%20wife%22%20date%3A%5B1850-01-01%20TO%201954-12-31%5D&l-decade=186&l-year=1869\", \"id\": \"Query 1\"}, {\"date\": \"1870-01-02\", \"total_results\": 0, \"total_articles\": 0, \"url\": \"https://trove.nla.gov.au/search/category/newspapers?keyword=text%3A%22darling%20wife%22%20date%3A%5B1850-01-01%20TO%201954-12-31%5D&l-decade=187&l-year=1870\", \"id\": \"Query 1\"}, {\"date\": \"1871-01-02\", \"total_results\": 0, \"total_articles\": 0, \"url\": \"https://trove.nla.gov.au/search/category/newspapers?keyword=text%3A%22darling%20wife%22%20date%3A%5B1850-01-01%20TO%201954-12-31%5D&l-decade=187&l-year=1871\", \"id\": \"Query 1\"}, {\"date\": \"1872-01-02\", \"total_results\": 0, \"total_articles\": 0, \"url\": \"https://trove.nla.gov.au/search/category/newspapers?keyword=text%3A%22darling%20wife%22%20date%3A%5B1850-01-01%20TO%201954-12-31%5D&l-decade=187&l-year=1872\", \"id\": \"Query 1\"}, {\"date\": \"1873-01-02\", \"total_results\": 0, \"total_articles\": 0, \"url\": \"https://trove.nla.gov.au/search/category/newspapers?keyword=text%3A%22darling%20wife%22%20date%3A%5B1850-01-01%20TO%201954-12-31%5D&l-decade=187&l-year=1873\", \"id\": \"Query 1\"}, {\"date\": \"1874-01-02\", \"total_results\": 0, \"total_articles\": 0, \"url\": \"https://trove.nla.gov.au/search/category/newspapers?keyword=text%3A%22darling%20wife%22%20date%3A%5B1850-01-01%20TO%201954-12-31%5D&l-decade=187&l-year=1874\", \"id\": \"Query 1\"}, {\"date\": \"1875-01-02\", \"total_results\": 0, \"total_articles\": 0, \"url\": \"https://trove.nla.gov.au/search/category/newspapers?keyword=text%3A%22darling%20wife%22%20date%3A%5B1850-01-01%20TO%201954-12-31%5D&l-decade=187&l-year=1875\", \"id\": \"Query 1\"}, {\"date\": \"1876-01-02\", \"total_results\": 0, \"total_articles\": 0, \"url\": \"https://trove.nla.gov.au/search/category/newspapers?keyword=text%3A%22darling%20wife%22%20date%3A%5B1850-01-01%20TO%201954-12-31%5D&l-decade=187&l-year=1876\", \"id\": \"Query 1\"}, {\"date\": \"1877-01-02\", \"total_results\": 0, \"total_articles\": 0, \"url\": \"https://trove.nla.gov.au/search/category/newspapers?keyword=text%3A%22darling%20wife%22%20date%3A%5B1850-01-01%20TO%201954-12-31%5D&l-decade=187&l-year=1877\", \"id\": \"Query 1\"}, {\"date\": \"1878-01-02\", \"total_results\": 0, \"total_articles\": 0, \"url\": \"https://trove.nla.gov.au/search/category/newspapers?keyword=text%3A%22darling%20wife%22%20date%3A%5B1850-01-01%20TO%201954-12-31%5D&l-decade=187&l-year=1878\", \"id\": \"Query 1\"}, {\"date\": \"1879-01-02\", \"total_results\": 0, \"total_articles\": 0, \"url\": \"https://trove.nla.gov.au/search/category/newspapers?keyword=text%3A%22darling%20wife%22%20date%3A%5B1850-01-01%20TO%201954-12-31%5D&l-decade=187&l-year=1879\", \"id\": \"Query 1\"}, {\"date\": \"1880-01-02\", \"total_results\": 0, \"total_articles\": 0, \"url\": \"https://trove.nla.gov.au/search/category/newspapers?keyword=text%3A%22darling%20wife%22%20date%3A%5B1850-01-01%20TO%201954-12-31%5D&l-decade=188&l-year=1880\", \"id\": \"Query 1\"}, {\"date\": \"1881-01-02\", \"total_results\": 0, \"total_articles\": 0, \"url\": \"https://trove.nla.gov.au/search/category/newspapers?keyword=text%3A%22darling%20wife%22%20date%3A%5B1850-01-01%20TO%201954-12-31%5D&l-decade=188&l-year=1881\", \"id\": \"Query 1\"}, {\"date\": \"1882-01-02\", \"total_results\": 0, \"total_articles\": 0, \"url\": \"https://trove.nla.gov.au/search/category/newspapers?keyword=text%3A%22darling%20wife%22%20date%3A%5B1850-01-01%20TO%201954-12-31%5D&l-decade=188&l-year=1882\", \"id\": \"Query 1\"}, {\"date\": \"1883-01-02\", \"total_results\": 0, \"total_articles\": 0, \"url\": \"https://trove.nla.gov.au/search/category/newspapers?keyword=text%3A%22darling%20wife%22%20date%3A%5B1850-01-01%20TO%201954-12-31%5D&l-decade=188&l-year=1883\", \"id\": \"Query 1\"}, {\"date\": \"1884-01-02\", \"total_results\": 0, \"total_articles\": 0, \"url\": \"https://trove.nla.gov.au/search/category/newspapers?keyword=text%3A%22darling%20wife%22%20date%3A%5B1850-01-01%20TO%201954-12-31%5D&l-decade=188&l-year=1884\", \"id\": \"Query 1\"}, {\"date\": \"1885-01-02\", \"total_results\": 0, \"total_articles\": 0, \"url\": \"https://trove.nla.gov.au/search/category/newspapers?keyword=text%3A%22darling%20wife%22%20date%3A%5B1850-01-01%20TO%201954-12-31%5D&l-decade=188&l-year=1885\", \"id\": \"Query 1\"}, {\"date\": \"1886-01-02\", \"total_results\": 0, \"total_articles\": 0, \"url\": \"https://trove.nla.gov.au/search/category/newspapers?keyword=text%3A%22darling%20wife%22%20date%3A%5B1850-01-01%20TO%201954-12-31%5D&l-decade=188&l-year=1886\", \"id\": \"Query 1\"}, {\"date\": \"1887-01-02\", \"total_results\": 0, \"total_articles\": 0, \"url\": \"https://trove.nla.gov.au/search/category/newspapers?keyword=text%3A%22darling%20wife%22%20date%3A%5B1850-01-01%20TO%201954-12-31%5D&l-decade=188&l-year=1887\", \"id\": \"Query 1\"}, {\"date\": \"1888-01-02\", \"total_results\": 0, \"total_articles\": 0, \"url\": \"https://trove.nla.gov.au/search/category/newspapers?keyword=text%3A%22darling%20wife%22%20date%3A%5B1850-01-01%20TO%201954-12-31%5D&l-decade=188&l-year=1888\", \"id\": \"Query 1\"}, {\"date\": \"1889-01-02\", \"total_results\": 0, \"total_articles\": 0, \"url\": \"https://trove.nla.gov.au/search/category/newspapers?keyword=text%3A%22darling%20wife%22%20date%3A%5B1850-01-01%20TO%201954-12-31%5D&l-decade=188&l-year=1889\", \"id\": \"Query 1\"}, {\"date\": \"1890-01-02\", \"total_results\": 0, \"total_articles\": 0, \"url\": \"https://trove.nla.gov.au/search/category/newspapers?keyword=text%3A%22darling%20wife%22%20date%3A%5B1850-01-01%20TO%201954-12-31%5D&l-decade=189&l-year=1890\", \"id\": \"Query 1\"}, {\"date\": \"1891-01-02\", \"total_results\": 0, \"total_articles\": 0, \"url\": \"https://trove.nla.gov.au/search/category/newspapers?keyword=text%3A%22darling%20wife%22%20date%3A%5B1850-01-01%20TO%201954-12-31%5D&l-decade=189&l-year=1891\", \"id\": \"Query 1\"}, {\"date\": \"1892-01-02\", \"total_results\": 0, \"total_articles\": 0, \"url\": \"https://trove.nla.gov.au/search/category/newspapers?keyword=text%3A%22darling%20wife%22%20date%3A%5B1850-01-01%20TO%201954-12-31%5D&l-decade=189&l-year=1892\", \"id\": \"Query 1\"}, {\"date\": \"1893-01-02\", \"total_results\": 0, \"total_articles\": 0, \"url\": \"https://trove.nla.gov.au/search/category/newspapers?keyword=text%3A%22darling%20wife%22%20date%3A%5B1850-01-01%20TO%201954-12-31%5D&l-decade=189&l-year=1893\", \"id\": \"Query 1\"}, {\"date\": \"1894-01-02\", \"total_results\": 0, \"total_articles\": 0, \"url\": \"https://trove.nla.gov.au/search/category/newspapers?keyword=text%3A%22darling%20wife%22%20date%3A%5B1850-01-01%20TO%201954-12-31%5D&l-decade=189&l-year=1894\", \"id\": \"Query 1\"}, {\"date\": \"1895-01-02\", \"total_results\": 0, \"total_articles\": 0, \"url\": \"https://trove.nla.gov.au/search/category/newspapers?keyword=text%3A%22darling%20wife%22%20date%3A%5B1850-01-01%20TO%201954-12-31%5D&l-decade=189&l-year=1895\", \"id\": \"Query 1\"}, {\"date\": \"1896-01-02\", \"total_results\": 0, \"total_articles\": 0, \"url\": \"https://trove.nla.gov.au/search/category/newspapers?keyword=text%3A%22darling%20wife%22%20date%3A%5B1850-01-01%20TO%201954-12-31%5D&l-decade=189&l-year=1896\", \"id\": \"Query 1\"}, {\"date\": \"1897-01-02\", \"total_results\": 0, \"total_articles\": 0, \"url\": \"https://trove.nla.gov.au/search/category/newspapers?keyword=text%3A%22darling%20wife%22%20date%3A%5B1850-01-01%20TO%201954-12-31%5D&l-decade=189&l-year=1897\", \"id\": \"Query 1\"}, {\"date\": \"1898-01-02\", \"total_results\": 0, \"total_articles\": 0, \"url\": \"https://trove.nla.gov.au/search/category/newspapers?keyword=text%3A%22darling%20wife%22%20date%3A%5B1850-01-01%20TO%201954-12-31%5D&l-decade=189&l-year=1898\", \"id\": \"Query 1\"}, {\"date\": \"1899-01-02\", \"total_results\": 0, \"total_articles\": 0, \"url\": \"https://trove.nla.gov.au/search/category/newspapers?keyword=text%3A%22darling%20wife%22%20date%3A%5B1850-01-01%20TO%201954-12-31%5D&l-decade=189&l-year=1899\", \"id\": \"Query 1\"}, {\"date\": \"1900-01-02\", \"total_results\": 0, \"total_articles\": 0, \"url\": \"https://trove.nla.gov.au/search/category/newspapers?keyword=text%3A%22darling%20wife%22%20date%3A%5B1850-01-01%20TO%201954-12-31%5D&l-decade=190&l-year=1900\", \"id\": \"Query 1\"}, {\"date\": \"1901-01-02\", \"total_results\": 0, \"total_articles\": 0, \"url\": \"https://trove.nla.gov.au/search/category/newspapers?keyword=text%3A%22darling%20wife%22%20date%3A%5B1850-01-01%20TO%201954-12-31%5D&l-decade=190&l-year=1901\", \"id\": \"Query 1\"}, {\"date\": \"1902-01-02\", \"total_results\": 0, \"total_articles\": 0, \"url\": \"https://trove.nla.gov.au/search/category/newspapers?keyword=text%3A%22darling%20wife%22%20date%3A%5B1850-01-01%20TO%201954-12-31%5D&l-decade=190&l-year=1902\", \"id\": \"Query 1\"}, {\"date\": \"1903-01-02\", \"total_results\": 0, \"total_articles\": 0, \"url\": \"https://trove.nla.gov.au/search/category/newspapers?keyword=text%3A%22darling%20wife%22%20date%3A%5B1850-01-01%20TO%201954-12-31%5D&l-decade=190&l-year=1903\", \"id\": \"Query 1\"}, {\"date\": \"1904-01-02\", \"total_results\": 0, \"total_articles\": 0, \"url\": \"https://trove.nla.gov.au/search/category/newspapers?keyword=text%3A%22darling%20wife%22%20date%3A%5B1850-01-01%20TO%201954-12-31%5D&l-decade=190&l-year=1904\", \"id\": \"Query 1\"}, {\"date\": \"1905-01-02\", \"total_results\": 0, \"total_articles\": 0, \"url\": \"https://trove.nla.gov.au/search/category/newspapers?keyword=text%3A%22darling%20wife%22%20date%3A%5B1850-01-01%20TO%201954-12-31%5D&l-decade=190&l-year=1905\", \"id\": \"Query 1\"}, {\"date\": \"1906-01-02\", \"total_results\": 0, \"total_articles\": 0, \"url\": \"https://trove.nla.gov.au/search/category/newspapers?keyword=text%3A%22darling%20wife%22%20date%3A%5B1850-01-01%20TO%201954-12-31%5D&l-decade=190&l-year=1906\", \"id\": \"Query 1\"}, {\"date\": \"1907-01-02\", \"total_results\": 0, \"total_articles\": 0, \"url\": \"https://trove.nla.gov.au/search/category/newspapers?keyword=text%3A%22darling%20wife%22%20date%3A%5B1850-01-01%20TO%201954-12-31%5D&l-decade=190&l-year=1907\", \"id\": \"Query 1\"}, {\"date\": \"1908-01-02\", \"total_results\": 0, \"total_articles\": 0, \"url\": \"https://trove.nla.gov.au/search/category/newspapers?keyword=text%3A%22darling%20wife%22%20date%3A%5B1850-01-01%20TO%201954-12-31%5D&l-decade=190&l-year=1908\", \"id\": \"Query 1\"}, {\"date\": \"1909-01-02\", \"total_results\": 0, \"total_articles\": 0, \"url\": \"https://trove.nla.gov.au/search/category/newspapers?keyword=text%3A%22darling%20wife%22%20date%3A%5B1850-01-01%20TO%201954-12-31%5D&l-decade=190&l-year=1909\", \"id\": \"Query 1\"}, {\"date\": \"1910-01-02\", \"total_results\": 0, \"total_articles\": 0, \"url\": \"https://trove.nla.gov.au/search/category/newspapers?keyword=text%3A%22darling%20wife%22%20date%3A%5B1850-01-01%20TO%201954-12-31%5D&l-decade=191&l-year=1910\", \"id\": \"Query 1\"}, {\"date\": \"1911-01-02\", \"total_results\": 0, \"total_articles\": 0, \"url\": \"https://trove.nla.gov.au/search/category/newspapers?keyword=text%3A%22darling%20wife%22%20date%3A%5B1850-01-01%20TO%201954-12-31%5D&l-decade=191&l-year=1911\", \"id\": \"Query 1\"}, {\"date\": \"1912-01-02\", \"total_results\": 0, \"total_articles\": 0, \"url\": \"https://trove.nla.gov.au/search/category/newspapers?keyword=text%3A%22darling%20wife%22%20date%3A%5B1850-01-01%20TO%201954-12-31%5D&l-decade=191&l-year=1912\", \"id\": \"Query 1\"}, {\"date\": \"1913-01-02\", \"total_results\": 0, \"total_articles\": 0, \"url\": \"https://trove.nla.gov.au/search/category/newspapers?keyword=text%3A%22darling%20wife%22%20date%3A%5B1850-01-01%20TO%201954-12-31%5D&l-decade=191&l-year=1913\", \"id\": \"Query 1\"}, {\"date\": \"1914-01-02\", \"total_results\": 0, \"total_articles\": 0, \"url\": \"https://trove.nla.gov.au/search/category/newspapers?keyword=text%3A%22darling%20wife%22%20date%3A%5B1850-01-01%20TO%201954-12-31%5D&l-decade=191&l-year=1914\", \"id\": \"Query 1\"}, {\"date\": \"1915-01-02\", \"total_results\": 0, \"total_articles\": 0, \"url\": \"https://trove.nla.gov.au/search/category/newspapers?keyword=text%3A%22darling%20wife%22%20date%3A%5B1850-01-01%20TO%201954-12-31%5D&l-decade=191&l-year=1915\", \"id\": \"Query 1\"}, {\"date\": \"1916-01-02\", \"total_results\": 0, \"total_articles\": 0, \"url\": \"https://trove.nla.gov.au/search/category/newspapers?keyword=text%3A%22darling%20wife%22%20date%3A%5B1850-01-01%20TO%201954-12-31%5D&l-decade=191&l-year=1916\", \"id\": \"Query 1\"}, {\"date\": \"1917-01-02\", \"total_results\": 0, \"total_articles\": 0, \"url\": \"https://trove.nla.gov.au/search/category/newspapers?keyword=text%3A%22darling%20wife%22%20date%3A%5B1850-01-01%20TO%201954-12-31%5D&l-decade=191&l-year=1917\", \"id\": \"Query 1\"}, {\"date\": \"1918-01-02\", \"total_results\": 0, \"total_articles\": 0, \"url\": \"https://trove.nla.gov.au/search/category/newspapers?keyword=text%3A%22darling%20wife%22%20date%3A%5B1850-01-01%20TO%201954-12-31%5D&l-decade=191&l-year=1918\", \"id\": \"Query 1\"}, {\"date\": \"1919-01-02\", \"total_results\": 0, \"total_articles\": 0, \"url\": \"https://trove.nla.gov.au/search/category/newspapers?keyword=text%3A%22darling%20wife%22%20date%3A%5B1850-01-01%20TO%201954-12-31%5D&l-decade=191&l-year=1919\", \"id\": \"Query 1\"}, {\"date\": \"1920-01-02\", \"total_results\": 0, \"total_articles\": 0, \"url\": \"https://trove.nla.gov.au/search/category/newspapers?keyword=text%3A%22darling%20wife%22%20date%3A%5B1850-01-01%20TO%201954-12-31%5D&l-decade=192&l-year=1920\", \"id\": \"Query 1\"}, {\"date\": \"1921-01-02\", \"total_results\": 0, \"total_articles\": 0, \"url\": \"https://trove.nla.gov.au/search/category/newspapers?keyword=text%3A%22darling%20wife%22%20date%3A%5B1850-01-01%20TO%201954-12-31%5D&l-decade=192&l-year=1921\", \"id\": \"Query 1\"}, {\"date\": \"1922-01-02\", \"total_results\": 0, \"total_articles\": 0, \"url\": \"https://trove.nla.gov.au/search/category/newspapers?keyword=text%3A%22darling%20wife%22%20date%3A%5B1850-01-01%20TO%201954-12-31%5D&l-decade=192&l-year=1922\", \"id\": \"Query 1\"}, {\"date\": \"1923-01-02\", \"total_results\": 0, \"total_articles\": 0, \"url\": \"https://trove.nla.gov.au/search/category/newspapers?keyword=text%3A%22darling%20wife%22%20date%3A%5B1850-01-01%20TO%201954-12-31%5D&l-decade=192&l-year=1923\", \"id\": \"Query 1\"}, {\"date\": \"1924-01-02\", \"total_results\": 0, \"total_articles\": 0, \"url\": \"https://trove.nla.gov.au/search/category/newspapers?keyword=text%3A%22darling%20wife%22%20date%3A%5B1850-01-01%20TO%201954-12-31%5D&l-decade=192&l-year=1924\", \"id\": \"Query 1\"}, {\"date\": \"1925-01-02\", \"total_results\": 0, \"total_articles\": 0, \"url\": \"https://trove.nla.gov.au/search/category/newspapers?keyword=text%3A%22darling%20wife%22%20date%3A%5B1850-01-01%20TO%201954-12-31%5D&l-decade=192&l-year=1925\", \"id\": \"Query 1\"}, {\"date\": \"1926-01-02\", \"total_results\": 0, \"total_articles\": 0, \"url\": \"https://trove.nla.gov.au/search/category/newspapers?keyword=text%3A%22darling%20wife%22%20date%3A%5B1850-01-01%20TO%201954-12-31%5D&l-decade=192&l-year=1926\", \"id\": \"Query 1\"}, {\"date\": \"1927-01-02\", \"total_results\": 0, \"total_articles\": 0, \"url\": \"https://trove.nla.gov.au/search/category/newspapers?keyword=text%3A%22darling%20wife%22%20date%3A%5B1850-01-01%20TO%201954-12-31%5D&l-decade=192&l-year=1927\", \"id\": \"Query 1\"}, {\"date\": \"1928-01-02\", \"total_results\": 0, \"total_articles\": 0, \"url\": \"https://trove.nla.gov.au/search/category/newspapers?keyword=text%3A%22darling%20wife%22%20date%3A%5B1850-01-01%20TO%201954-12-31%5D&l-decade=192&l-year=1928\", \"id\": \"Query 1\"}, {\"date\": \"1929-01-02\", \"total_results\": 0, \"total_articles\": 0, \"url\": \"https://trove.nla.gov.au/search/category/newspapers?keyword=text%3A%22darling%20wife%22%20date%3A%5B1850-01-01%20TO%201954-12-31%5D&l-decade=192&l-year=1929\", \"id\": \"Query 1\"}, {\"date\": \"1930-01-02\", \"total_results\": 0, \"total_articles\": 0, \"url\": \"https://trove.nla.gov.au/search/category/newspapers?keyword=text%3A%22darling%20wife%22%20date%3A%5B1850-01-01%20TO%201954-12-31%5D&l-decade=193&l-year=1930\", \"id\": \"Query 1\"}, {\"date\": \"1931-01-02\", \"total_results\": 0, \"total_articles\": 0, \"url\": \"https://trove.nla.gov.au/search/category/newspapers?keyword=text%3A%22darling%20wife%22%20date%3A%5B1850-01-01%20TO%201954-12-31%5D&l-decade=193&l-year=1931\", \"id\": \"Query 1\"}, {\"date\": \"1932-01-02\", \"total_results\": 0, \"total_articles\": 0, \"url\": \"https://trove.nla.gov.au/search/category/newspapers?keyword=text%3A%22darling%20wife%22%20date%3A%5B1850-01-01%20TO%201954-12-31%5D&l-decade=193&l-year=1932\", \"id\": \"Query 1\"}, {\"date\": \"1933-01-02\", \"total_results\": 0, \"total_articles\": 0, \"url\": \"https://trove.nla.gov.au/search/category/newspapers?keyword=text%3A%22darling%20wife%22%20date%3A%5B1850-01-01%20TO%201954-12-31%5D&l-decade=193&l-year=1933\", \"id\": \"Query 1\"}, {\"date\": \"1934-01-02\", \"total_results\": 0, \"total_articles\": 0, \"url\": \"https://trove.nla.gov.au/search/category/newspapers?keyword=text%3A%22darling%20wife%22%20date%3A%5B1850-01-01%20TO%201954-12-31%5D&l-decade=193&l-year=1934\", \"id\": \"Query 1\"}, {\"date\": \"1935-01-02\", \"total_results\": 0, \"total_articles\": 0, \"url\": \"https://trove.nla.gov.au/search/category/newspapers?keyword=text%3A%22darling%20wife%22%20date%3A%5B1850-01-01%20TO%201954-12-31%5D&l-decade=193&l-year=1935\", \"id\": \"Query 1\"}, {\"date\": \"1936-01-02\", \"total_results\": 0, \"total_articles\": 0, \"url\": \"https://trove.nla.gov.au/search/category/newspapers?keyword=text%3A%22darling%20wife%22%20date%3A%5B1850-01-01%20TO%201954-12-31%5D&l-decade=193&l-year=1936\", \"id\": \"Query 1\"}, {\"date\": \"1937-01-02\", \"total_results\": 0, \"total_articles\": 0, \"url\": \"https://trove.nla.gov.au/search/category/newspapers?keyword=text%3A%22darling%20wife%22%20date%3A%5B1850-01-01%20TO%201954-12-31%5D&l-decade=193&l-year=1937\", \"id\": \"Query 1\"}, {\"date\": \"1938-01-02\", \"total_results\": 0, \"total_articles\": 0, \"url\": \"https://trove.nla.gov.au/search/category/newspapers?keyword=text%3A%22darling%20wife%22%20date%3A%5B1850-01-01%20TO%201954-12-31%5D&l-decade=193&l-year=1938\", \"id\": \"Query 1\"}, {\"date\": \"1939-01-02\", \"total_results\": 0, \"total_articles\": 0, \"url\": \"https://trove.nla.gov.au/search/category/newspapers?keyword=text%3A%22darling%20wife%22%20date%3A%5B1850-01-01%20TO%201954-12-31%5D&l-decade=193&l-year=1939\", \"id\": \"Query 1\"}, {\"date\": \"1940-01-02\", \"total_results\": 0, \"total_articles\": 0, \"url\": \"https://trove.nla.gov.au/search/category/newspapers?keyword=text%3A%22darling%20wife%22%20date%3A%5B1850-01-01%20TO%201954-12-31%5D&l-decade=194&l-year=1940\", \"id\": \"Query 1\"}, {\"date\": \"1941-01-02\", \"total_results\": 0, \"total_articles\": 0, \"url\": \"https://trove.nla.gov.au/search/category/newspapers?keyword=text%3A%22darling%20wife%22%20date%3A%5B1850-01-01%20TO%201954-12-31%5D&l-decade=194&l-year=1941\", \"id\": \"Query 1\"}, {\"date\": \"1942-01-02\", \"total_results\": 0, \"total_articles\": 0, \"url\": \"https://trove.nla.gov.au/search/category/newspapers?keyword=text%3A%22darling%20wife%22%20date%3A%5B1850-01-01%20TO%201954-12-31%5D&l-decade=194&l-year=1942\", \"id\": \"Query 1\"}, {\"date\": \"1943-01-02\", \"total_results\": 0, \"total_articles\": 0, \"url\": \"https://trove.nla.gov.au/search/category/newspapers?keyword=text%3A%22darling%20wife%22%20date%3A%5B1850-01-01%20TO%201954-12-31%5D&l-decade=194&l-year=1943\", \"id\": \"Query 1\"}, {\"date\": \"1944-01-02\", \"total_results\": 0, \"total_articles\": 0, \"url\": \"https://trove.nla.gov.au/search/category/newspapers?keyword=text%3A%22darling%20wife%22%20date%3A%5B1850-01-01%20TO%201954-12-31%5D&l-decade=194&l-year=1944\", \"id\": \"Query 1\"}, {\"date\": \"1945-01-02\", \"total_results\": 0, \"total_articles\": 0, \"url\": \"https://trove.nla.gov.au/search/category/newspapers?keyword=text%3A%22darling%20wife%22%20date%3A%5B1850-01-01%20TO%201954-12-31%5D&l-decade=194&l-year=1945\", \"id\": \"Query 1\"}, {\"date\": \"1946-01-02\", \"total_results\": 0, \"total_articles\": 0, \"url\": \"https://trove.nla.gov.au/search/category/newspapers?keyword=text%3A%22darling%20wife%22%20date%3A%5B1850-01-01%20TO%201954-12-31%5D&l-decade=194&l-year=1946\", \"id\": \"Query 1\"}, {\"date\": \"1947-01-02\", \"total_results\": 0, \"total_articles\": 0, \"url\": \"https://trove.nla.gov.au/search/category/newspapers?keyword=text%3A%22darling%20wife%22%20date%3A%5B1850-01-01%20TO%201954-12-31%5D&l-decade=194&l-year=1947\", \"id\": \"Query 1\"}, {\"date\": \"1948-01-02\", \"total_results\": 0, \"total_articles\": 0, \"url\": \"https://trove.nla.gov.au/search/category/newspapers?keyword=text%3A%22darling%20wife%22%20date%3A%5B1850-01-01%20TO%201954-12-31%5D&l-decade=194&l-year=1948\", \"id\": \"Query 1\"}, {\"date\": \"1949-01-02\", \"total_results\": 0, \"total_articles\": 0, \"url\": \"https://trove.nla.gov.au/search/category/newspapers?keyword=text%3A%22darling%20wife%22%20date%3A%5B1850-01-01%20TO%201954-12-31%5D&l-decade=194&l-year=1949\", \"id\": \"Query 1\"}, {\"date\": \"1950-01-02\", \"total_results\": 0, \"total_articles\": 0, \"url\": \"https://trove.nla.gov.au/search/category/newspapers?keyword=text%3A%22darling%20wife%22%20date%3A%5B1850-01-01%20TO%201954-12-31%5D&l-decade=195&l-year=1950\", \"id\": \"Query 1\"}, {\"date\": \"1951-01-02\", \"total_results\": 0, \"total_articles\": 0, \"url\": \"https://trove.nla.gov.au/search/category/newspapers?keyword=text%3A%22darling%20wife%22%20date%3A%5B1850-01-01%20TO%201954-12-31%5D&l-decade=195&l-year=1951\", \"id\": \"Query 1\"}, {\"date\": \"1952-01-02\", \"total_results\": 0, \"total_articles\": 0, \"url\": \"https://trove.nla.gov.au/search/category/newspapers?keyword=text%3A%22darling%20wife%22%20date%3A%5B1850-01-01%20TO%201954-12-31%5D&l-decade=195&l-year=1952\", \"id\": \"Query 1\"}, {\"date\": \"1953-01-02\", \"total_results\": 0, \"total_articles\": 0, \"url\": \"https://trove.nla.gov.au/search/category/newspapers?keyword=text%3A%22darling%20wife%22%20date%3A%5B1850-01-01%20TO%201954-12-31%5D&l-decade=195&l-year=1953\", \"id\": \"Query 1\"}, {\"date\": \"1954-01-02\", \"total_results\": 0, \"total_articles\": 0, \"url\": \"https://trove.nla.gov.au/search/category/newspapers?keyword=text%3A%22darling%20wife%22%20date%3A%5B1850-01-01%20TO%201954-12-31%5D&l-decade=195&l-year=1954\", \"id\": \"Query 1\"}], \"data-7b652dd2f569c4c8ff1a82cc6339570e\": [{\"x\": 0, \"y\": 0, \"id\": \"Query 1\", \"url\": \"https://trove.nla.gov.au/search/category/newspapers?keyword=text%3A%22darling%20wife%22%20date%3A%5B1850-01-01%20TO%201954-12-31%5D\", \"params\": \"keyword=text%3A%22darling%20wife%22%20date%3A%5B1850-01-01%20TO%201954-12-31%5D\"}]}}, {\"mode\": \"vega-lite\"});\n</script>",
          "text/plain": "alt.VConcatChart(...)"
         },
         "metadata": {},
         "output_type": "display_data"
        }
       ]
      }
     },
     "a0a783e3b4e74b8b9cd98c8f5053e710": {
      "model_module": "@jupyter-widgets/controls",
      "model_module_version": "1.5.0",
      "model_name": "VBoxModel",
      "state": {
       "children": [
        "IPY_MODEL_687b0ad74a1b41e3ab13cb6fdf61608a",
        "IPY_MODEL_05c99d4d3ded4c80a9ca9fe954c14795",
        "IPY_MODEL_a4ace9ae7d484baa8b3b28c934b02883"
       ],
       "layout": "IPY_MODEL_36a63da480a34e1399a84c7d119015a2"
      }
     },
     "a0ab92deb73f4de881d333c67c4aa86a": {
      "model_module": "@jupyter-widgets/controls",
      "model_module_version": "1.5.0",
      "model_name": "DescriptionStyleModel",
      "state": {
       "description_width": ""
      }
     },
     "a0c44ba372e5459f9093c8f214cf9a81": {
      "model_module": "@jupyter-widgets/base",
      "model_module_version": "1.2.0",
      "model_name": "LayoutModel",
      "state": {}
     },
     "a0db4ac767714b04ac7b273a8bd9b714": {
      "model_module": "@jupyter-widgets/controls",
      "model_module_version": "1.5.0",
      "model_name": "ButtonModel",
      "state": {
       "button_style": "primary",
       "description": "Save chart as HTML",
       "layout": "IPY_MODEL_31d49e8448f2489a8f1e949bc1cbe945",
       "style": "IPY_MODEL_3a385d9c92f74e3eb3db1e2bb5ab19fe",
       "tooltip": "Save chart as HTML"
      }
     },
     "a0e262e797fd47cabd73ab6a5f1dc3c7": {
      "model_module": "@jupyter-widgets/base",
      "model_module_version": "1.2.0",
      "model_name": "LayoutModel",
      "state": {}
     },
     "a10fdba19f71494bacac6afeb9f3a094": {
      "model_module": "@jupyter-widgets/controls",
      "model_module_version": "1.5.0",
      "model_name": "HBoxModel",
      "state": {
       "children": [
        "IPY_MODEL_a1310d19654344618075d8b7bb7661aa",
        "IPY_MODEL_c05eb7196ad14b41a96cae1254ea7fcd",
        "IPY_MODEL_0be627383c3c4fbf998df38b752f6aa2"
       ],
       "layout": "IPY_MODEL_6dbc8db9444f453cb63cd8530802e728"
      }
     },
     "a12be7b0ad0044d1a8ae22a91258fd6d": {
      "model_module": "@jupyter-widgets/base",
      "model_module_version": "1.2.0",
      "model_name": "LayoutModel",
      "state": {}
     },
     "a12f0cfd5b924997a114b641a40be572": {
      "model_module": "@jupyter-widgets/controls",
      "model_module_version": "1.5.0",
      "model_name": "ButtonStyleModel",
      "state": {}
     },
     "a1310d19654344618075d8b7bb7661aa": {
      "model_module": "@jupyter-widgets/controls",
      "model_module_version": "1.5.0",
      "model_name": "ButtonModel",
      "state": {
       "button_style": "primary",
       "description": "Save chart as HTML",
       "layout": "IPY_MODEL_05357c4e366a43acbb07ef45ff257393",
       "style": "IPY_MODEL_039b67039d3841aeaf552a0640e29d28",
       "tooltip": "Save chart as HTML"
      }
     },
     "a174afca1bd24864a8c1c6f20ee7fc1d": {
      "model_module": "@jupyter-widgets/output",
      "model_module_version": "1.0.0",
      "model_name": "OutputModel",
      "state": {
       "layout": "IPY_MODEL_26f4918bf3dc4d8f9635b6787568e299",
       "outputs": [
        {
         "data": {
          "application/vnd.jupyter.widget-view+json": {
           "model_id": "",
           "version_major": 2,
           "version_minor": 0
          },
          "text/plain": "HBox(children=(Button(button_style='primary', description='Save chart as HTML', style=ButtonStyle(), tooltip='…"
         },
         "metadata": {},
         "output_type": "display_data"
        },
        {
         "data": {
          "text/html": "Download data: <a href=\"data/querypic-20220624230055.csv\" download>data/querypic-20220624230055.csv</a>",
          "text/plain": "<IPython.core.display.HTML object>"
         },
         "metadata": {},
         "output_type": "display_data"
        }
       ]
      }
     },
     "a1c626256e4a4fa084595180a7fb3f98": {
      "model_module": "@jupyter-widgets/controls",
      "model_module_version": "1.5.0",
      "model_name": "ButtonStyleModel",
      "state": {}
     },
     "a1cd856a7c254bc38270a6452d405620": {
      "model_module": "@jupyter-widgets/controls",
      "model_module_version": "1.5.0",
      "model_name": "TextModel",
      "state": {
       "description": "Query:",
       "layout": "IPY_MODEL_6474015d0fdc4a598b9c2023d5b7443c",
       "placeholder": "Enter your search query",
       "style": "IPY_MODEL_aee90665d6704a0d90ae9ab40ae5078e",
       "value": "https://trove.nla.gov.au/search/category/newspapers?keyword=cat%20date:[1900-12-31T00:00:00Z TO 1950-01-01T00:00:00Z]"
      }
     },
     "a1dd4d2d9e0440cf863cca745eb45268": {
      "model_module": "@jupyter-widgets/controls",
      "model_module_version": "1.5.0",
      "model_name": "DescriptionStyleModel",
      "state": {
       "description_width": ""
      }
     },
     "a1f6924db87443bcb6da66711a6a74d5": {
      "model_module": "@jupyter-widgets/base",
      "model_module_version": "1.2.0",
      "model_name": "LayoutModel",
      "state": {}
     },
     "a1fe1db231514d50a46e2e1e9f61ccd9": {
      "model_module": "@jupyter-widgets/controls",
      "model_module_version": "1.5.0",
      "model_name": "ButtonStyleModel",
      "state": {}
     },
     "a20f728db13b4abb8df4f552c6c9de5d": {
      "model_module": "@jupyter-widgets/controls",
      "model_module_version": "1.5.0",
      "model_name": "ButtonModel",
      "state": {
       "description": "Remove last query",
       "layout": "IPY_MODEL_30109444f7eb4d7f8907b7b64f099fdc",
       "style": "IPY_MODEL_ab90d6f9fdf64adaaff5497d2fb90f4f",
       "tooltip": "Remove the last query"
      }
     },
     "a2acbbed1b7d492bb46e9cae7782a930": {
      "model_module": "@jupyter-widgets/controls",
      "model_module_version": "1.5.0",
      "model_name": "ButtonStyleModel",
      "state": {}
     },
     "a2d1bbc156254b3dae167db449e13b86": {
      "model_module": "@jupyter-widgets/base",
      "model_module_version": "1.2.0",
      "model_name": "LayoutModel",
      "state": {
       "margin": "0 0 20px 0"
      }
     },
     "a2df0277bafa41df845587155788144e": {
      "model_module": "@jupyter-widgets/base",
      "model_module_version": "1.2.0",
      "model_name": "LayoutModel",
      "state": {}
     },
     "a3101ac4aaae445f98c6d898216c8adc": {
      "model_module": "@jupyter-widgets/base",
      "model_module_version": "1.2.0",
      "model_name": "LayoutModel",
      "state": {}
     },
     "a31cb3bb79f74e5eae3d6a4c03e8f323": {
      "model_module": "@jupyter-widgets/controls",
      "model_module_version": "1.5.0",
      "model_name": "ButtonModel",
      "state": {
       "description": "Clear all queries",
       "layout": "IPY_MODEL_06a7637965ff429bbcec3af1346810a9",
       "style": "IPY_MODEL_037aa69837464afeb44e3b0dfadcef76",
       "tooltip": "Clear current queries"
      }
     },
     "a347604bd6624dcc9148d48c6d3d6d05": {
      "model_module": "@jupyter-widgets/controls",
      "model_module_version": "1.5.0",
      "model_name": "DescriptionStyleModel",
      "state": {
       "description_width": ""
      }
     },
     "a3b3a334a0dd45f5b02359ca3e4bab89": {
      "model_module": "@jupyter-widgets/controls",
      "model_module_version": "1.5.0",
      "model_name": "ButtonStyleModel",
      "state": {}
     },
     "a3d127c2ab124bd3b2a5d0e0961f38a1": {
      "model_module": "@jupyter-widgets/controls",
      "model_module_version": "1.5.0",
      "model_name": "DropdownModel",
      "state": {
       "_options_labels": [
        "Automatic",
        "Year",
        "Month",
        "Day"
       ],
       "description": "Time unit:",
       "index": 0,
       "layout": "IPY_MODEL_65641954a9f24ce1af366aa9242bb025",
       "style": "IPY_MODEL_b2ec0b70255b4579b56f9f7fe26f48db"
      }
     },
     "a47cae6c750c4445b4cff3f7e4707f52": {
      "model_module": "@jupyter-widgets/controls",
      "model_module_version": "1.5.0",
      "model_name": "DescriptionStyleModel",
      "state": {
       "description_width": ""
      }
     },
     "a4ace9ae7d484baa8b3b28c934b02883": {
      "model_module": "@jupyter-widgets/output",
      "model_module_version": "1.0.0",
      "model_name": "OutputModel",
      "state": {
       "layout": "IPY_MODEL_0f34d63f250a46a3b0abdfbc598cbdd9",
       "outputs": [
        {
         "data": {
          "application/vnd.jupyter.widget-view+json": {
           "model_id": "",
           "version_major": 2,
           "version_minor": 0
          },
          "text/plain": "HBox(children=(Button(button_style='primary', description='Save chart as HTML', style=ButtonStyle(), tooltip='…"
         },
         "metadata": {},
         "output_type": "display_data"
        },
        {
         "data": {
          "text/html": "Download data: <a href=\"data/querypic-20220624233508.csv\" download>data/querypic-20220624233508.csv</a>",
          "text/plain": "<IPython.core.display.HTML object>"
         },
         "metadata": {},
         "output_type": "display_data"
        }
       ]
      }
     },
     "a4e9f9d20fd44b85a1a11bd1ef4ad528": {
      "model_module": "@jupyter-widgets/controls",
      "model_module_version": "1.5.0",
      "model_name": "DescriptionStyleModel",
      "state": {
       "description_width": ""
      }
     },
     "a4ff2af0e0ce4a958138122ce36ecef8": {
      "model_module": "@jupyter-widgets/controls",
      "model_module_version": "1.5.0",
      "model_name": "ButtonStyleModel",
      "state": {}
     },
     "a537d6c69da54606af85d16d62a963d5": {
      "model_module": "@jupyter-widgets/controls",
      "model_module_version": "1.5.0",
      "model_name": "DescriptionStyleModel",
      "state": {
       "description_width": ""
      }
     },
     "a5864a1fdcd14bf3b8ef1c515180bbf6": {
      "model_module": "@jupyter-widgets/controls",
      "model_module_version": "1.5.0",
      "model_name": "DescriptionStyleModel",
      "state": {
       "description_width": ""
      }
     },
     "a5a5f0790e43400eb83ef6eda6891b59": {
      "model_module": "@jupyter-widgets/base",
      "model_module_version": "1.2.0",
      "model_name": "LayoutModel",
      "state": {}
     },
     "a5ebb2bc595f42bfb53bae6c242c6dad": {
      "model_module": "@jupyter-widgets/controls",
      "model_module_version": "1.5.0",
      "model_name": "ButtonModel",
      "state": {
       "description": "Clear all queries",
       "layout": "IPY_MODEL_bb379de2eb8042b0ad38e55744d97087",
       "style": "IPY_MODEL_ab61f3532e504bebb2381f1fc0389650",
       "tooltip": "Clear current queries"
      }
     },
     "a60720e1c98949fcab261923a4f06f34": {
      "model_module": "@jupyter-widgets/controls",
      "model_module_version": "1.5.0",
      "model_name": "ButtonStyleModel",
      "state": {}
     },
     "a61405f57eaa49fea2193a89b256a39a": {
      "model_module": "@jupyter-widgets/base",
      "model_module_version": "1.2.0",
      "model_name": "LayoutModel",
      "state": {}
     },
     "a6f31a7901f24560a7252f105775f891": {
      "model_module": "@jupyter-widgets/base",
      "model_module_version": "1.2.0",
      "model_name": "LayoutModel",
      "state": {}
     },
     "a7194e95ca6d4c478e02acf2a6b032c7": {
      "model_module": "@jupyter-widgets/controls",
      "model_module_version": "1.5.0",
      "model_name": "BoundedIntTextModel",
      "state": {
       "description": "Width",
       "layout": "IPY_MODEL_93f4011aacd84672843394816f80f820",
       "max": 2000,
       "min": 700,
       "step": 100,
       "style": "IPY_MODEL_5628c1cbd3914f1eb2bf1caf9daf908c",
       "value": 700
      }
     },
     "a78453c8cca64d09adc7080e75e8a35a": {
      "model_module": "@jupyter-widgets/controls",
      "model_module_version": "1.5.0",
      "model_name": "HTMLModel",
      "state": {
       "layout": "IPY_MODEL_eb96507b78984205b898255702c3266e",
       "style": "IPY_MODEL_780e12a4dc2346e6b1bc936498778e32",
       "value": " 23/23 [00:12&lt;00:00,  1.97it/s]"
      }
     },
     "a79334283868428f8286f8b6e537c6eb": {
      "model_module": "@jupyter-widgets/base",
      "model_module_version": "1.2.0",
      "model_name": "LayoutModel",
      "state": {}
     },
     "a8d262a06d1d4688b837551d9901408f": {
      "model_module": "@jupyter-widgets/controls",
      "model_module_version": "1.5.0",
      "model_name": "ButtonStyleModel",
      "state": {}
     },
     "a918ed3a3733405aac4a91907d2d39e9": {
      "model_module": "@jupyter-widgets/controls",
      "model_module_version": "1.5.0",
      "model_name": "DescriptionStyleModel",
      "state": {
       "description_width": ""
      }
     },
     "a95efb2132534ebbb372110ba41fd894": {
      "model_module": "@jupyter-widgets/controls",
      "model_module_version": "1.5.0",
      "model_name": "DescriptionStyleModel",
      "state": {
       "description_width": ""
      }
     },
     "a9a3343dfc884bfdac20381f73a10a44": {
      "model_module": "@jupyter-widgets/controls",
      "model_module_version": "1.5.0",
      "model_name": "HTMLModel",
      "state": {
       "layout": "IPY_MODEL_4e1d02b546b149d3a74391bba556e072",
       "style": "IPY_MODEL_5e776f9cbabc4190a76221cede8ef63b",
       "value": "100%"
      }
     },
     "a9e35c04a89c4dcfa3e10ea3b0d274e5": {
      "model_module": "@jupyter-widgets/base",
      "model_module_version": "1.2.0",
      "model_name": "LayoutModel",
      "state": {}
     },
     "aa153429c6f94d1da00dec7b9509bafb": {
      "model_module": "@jupyter-widgets/controls",
      "model_module_version": "1.5.0",
      "model_name": "TextModel",
      "state": {
       "description": "Query:",
       "layout": "IPY_MODEL_e0e65a619a124cb2948116b35954342b",
       "placeholder": "Enter your search query",
       "style": "IPY_MODEL_42ffd1dec7044cc9a2644f4aaff663c3",
       "value": "https://trove.nla.gov.au/search/category/newspapers?keyword=text%3A%22darling%20wife%22%20date%3A%5B1850-01-01%20TO%201954-12-31%5D"
      }
     },
     "aa1b1b275a484fbd8568b39fc53a207a": {
      "model_module": "@jupyter-widgets/controls",
      "model_module_version": "1.5.0",
      "model_name": "DescriptionStyleModel",
      "state": {
       "description_width": ""
      }
     },
     "aa48712ddf2d4c808433c36e9ec140ac": {
      "model_module": "@jupyter-widgets/base",
      "model_module_version": "1.2.0",
      "model_name": "LayoutModel",
      "state": {}
     },
     "aa7d4fa89958453cb3743182d617037d": {
      "model_module": "@jupyter-widgets/base",
      "model_module_version": "1.2.0",
      "model_name": "LayoutModel",
      "state": {}
     },
     "ab3ad046006c4197b7bcf90dfaa9b08f": {
      "model_module": "@jupyter-widgets/base",
      "model_module_version": "1.2.0",
      "model_name": "LayoutModel",
      "state": {}
     },
     "ab61f3532e504bebb2381f1fc0389650": {
      "model_module": "@jupyter-widgets/controls",
      "model_module_version": "1.5.0",
      "model_name": "ButtonStyleModel",
      "state": {}
     },
     "ab850cad89bb41fda81c8db5e443cdad": {
      "model_module": "@jupyter-widgets/controls",
      "model_module_version": "1.5.0",
      "model_name": "DescriptionStyleModel",
      "state": {
       "description_width": ""
      }
     },
     "ab8c9a8f7229466dbcba6399e9846a80": {
      "model_module": "@jupyter-widgets/controls",
      "model_module_version": "1.5.0",
      "model_name": "DescriptionStyleModel",
      "state": {
       "description_width": ""
      }
     },
     "ab90d6f9fdf64adaaff5497d2fb90f4f": {
      "model_module": "@jupyter-widgets/controls",
      "model_module_version": "1.5.0",
      "model_name": "ButtonStyleModel",
      "state": {}
     },
     "ab9f037a5e2d4d4eade6f257a47b2e34": {
      "model_module": "@jupyter-widgets/controls",
      "model_module_version": "1.5.0",
      "model_name": "VBoxModel",
      "state": {
       "children": [
        "IPY_MODEL_83fb941065264c63bddf7c9e4a9af3e4",
        "IPY_MODEL_2d2df18301be4f7699e98f01046dbf32",
        "IPY_MODEL_0f2fd707a9cc4726a8168ece9641121b"
       ],
       "layout": "IPY_MODEL_b65a05f69dbd4a489cb9ba64775c39dd"
      }
     },
     "abc2087c857840b0bb45c832cbf28786": {
      "model_module": "@jupyter-widgets/base",
      "model_module_version": "1.2.0",
      "model_name": "LayoutModel",
      "state": {}
     },
     "ac683bda757746e7917f0a3cfffc0dd5": {
      "model_module": "@jupyter-widgets/base",
      "model_module_version": "1.2.0",
      "model_name": "LayoutModel",
      "state": {}
     },
     "ac9b8ee83dc14cabaf0d0e748109cc52": {
      "model_module": "@jupyter-widgets/controls",
      "model_module_version": "1.5.0",
      "model_name": "ButtonStyleModel",
      "state": {}
     },
     "ace571107268433eb349592a91f759bf": {
      "model_module": "@jupyter-widgets/base",
      "model_module_version": "1.2.0",
      "model_name": "LayoutModel",
      "state": {}
     },
     "ad029681dadb45dcbd39fd206a992616": {
      "model_module": "@jupyter-widgets/controls",
      "model_module_version": "1.5.0",
      "model_name": "BoundedIntTextModel",
      "state": {
       "description": "Height",
       "layout": "IPY_MODEL_60ff8aba4b05408ba6af1f808026d869",
       "max": 1500,
       "min": 400,
       "step": 100,
       "style": "IPY_MODEL_09783f18fbaa4325a3c9a0c1190595d1",
       "value": 400
      }
     },
     "ad30911b744245fc92aa715ad3c673b3": {
      "model_module": "@jupyter-widgets/base",
      "model_module_version": "1.2.0",
      "model_name": "LayoutModel",
      "state": {}
     },
     "ad3b9197185444fdbdc6978c64da27b5": {
      "model_module": "@jupyter-widgets/controls",
      "model_module_version": "1.5.0",
      "model_name": "ButtonModel",
      "state": {
       "description": "Clear all queries",
       "layout": "IPY_MODEL_07f6a1194ee94e07bbff1fb99a9ea8d7",
       "style": "IPY_MODEL_11750af4db2141c1842b27d79a79313b",
       "tooltip": "Clear current queries"
      }
     },
     "ad49be54997042a5af9f385a97d981a0": {
      "model_module": "@jupyter-widgets/controls",
      "model_module_version": "1.5.0",
      "model_name": "ButtonStyleModel",
      "state": {}
     },
     "ad6e856dad5d44c8b2b07c6443a04760": {
      "model_module": "@jupyter-widgets/base",
      "model_module_version": "1.2.0",
      "model_name": "LayoutModel",
      "state": {}
     },
     "ad98b4743f534f9f9dea0e3ab3159b8a": {
      "model_module": "@jupyter-widgets/base",
      "model_module_version": "1.2.0",
      "model_name": "LayoutModel",
      "state": {}
     },
     "adcda1f43f0648e59785dce033af19c9": {
      "model_module": "@jupyter-widgets/base",
      "model_module_version": "1.2.0",
      "model_name": "LayoutModel",
      "state": {}
     },
     "ae0518e6b47d4baab3652bad928c424e": {
      "model_module": "@jupyter-widgets/base",
      "model_module_version": "1.2.0",
      "model_name": "LayoutModel",
      "state": {}
     },
     "ae5f69fd6e1d442cb7ddaa2094d54be1": {
      "model_module": "@jupyter-widgets/controls",
      "model_module_version": "1.5.0",
      "model_name": "DescriptionStyleModel",
      "state": {
       "description_width": ""
      }
     },
     "ae7de187bfa343d79b1de771f72094b9": {
      "model_module": "@jupyter-widgets/controls",
      "model_module_version": "1.5.0",
      "model_name": "ButtonModel",
      "state": {
       "description": "Clear all queries",
       "layout": "IPY_MODEL_d8f4330d56da436484b22ff173fdcb14",
       "style": "IPY_MODEL_5000bbbe64c0436da6aca9a37ae97e1b",
       "tooltip": "Clear current queries"
      }
     },
     "aea0ab9d67544def8030d5f78cb320a9": {
      "model_module": "@jupyter-widgets/base",
      "model_module_version": "1.2.0",
      "model_name": "LayoutModel",
      "state": {}
     },
     "aee90665d6704a0d90ae9ab40ae5078e": {
      "model_module": "@jupyter-widgets/controls",
      "model_module_version": "1.5.0",
      "model_name": "DescriptionStyleModel",
      "state": {
       "description_width": ""
      }
     },
     "af075083396845d7bb34f00ee64b97dd": {
      "model_module": "@jupyter-widgets/controls",
      "model_module_version": "1.5.0",
      "model_name": "PasswordModel",
      "state": {
       "description": "API key:",
       "layout": "IPY_MODEL_c8757796f74e486ca94571f016472d00",
       "placeholder": "Enter your Trove API key",
       "style": "IPY_MODEL_ab8c9a8f7229466dbcba6399e9846a80",
       "value": "6pi5hht0d2umqcro"
      }
     },
     "af66e835e2fa43e6b7306b0dfc979132": {
      "model_module": "@jupyter-widgets/controls",
      "model_module_version": "1.5.0",
      "model_name": "DescriptionStyleModel",
      "state": {
       "description_width": ""
      }
     },
     "af9cf0660a47425082793945600a5158": {
      "model_module": "@jupyter-widgets/base",
      "model_module_version": "1.2.0",
      "model_name": "LayoutModel",
      "state": {}
     },
     "af9e7b2c3801488e865a92556a663439": {
      "model_module": "@jupyter-widgets/controls",
      "model_module_version": "1.5.0",
      "model_name": "ButtonModel",
      "state": {
       "button_style": "primary",
       "description": "Save chart as HTML",
       "layout": "IPY_MODEL_59b7a65b9b904ec7a7b838661de2b4e4",
       "style": "IPY_MODEL_3e2f1301f78c4f4c8399199b4a3ea603",
       "tooltip": "Save chart as HTML"
      }
     },
     "afaa20b48ad24a2e88d91bf1cdbacfbe": {
      "model_module": "@jupyter-widgets/controls",
      "model_module_version": "1.5.0",
      "model_name": "DescriptionStyleModel",
      "state": {
       "description_width": ""
      }
     },
     "afcc25c60d004412b36a003ac2eecf27": {
      "model_module": "@jupyter-widgets/controls",
      "model_module_version": "1.5.0",
      "model_name": "DescriptionStyleModel",
      "state": {
       "description_width": ""
      }
     },
     "afe48c5037444988a4e9441a27e258e7": {
      "model_module": "@jupyter-widgets/controls",
      "model_module_version": "1.5.0",
      "model_name": "DescriptionStyleModel",
      "state": {
       "description_width": ""
      }
     },
     "b01eecd1a0a546cd9e7420323afa9348": {
      "model_module": "@jupyter-widgets/output",
      "model_module_version": "1.0.0",
      "model_name": "OutputModel",
      "state": {
       "layout": "IPY_MODEL_b1ca9d21662e48efad90b11749dddd26",
       "outputs": [
        {
         "data": {
          "application/vnd.jupyter.widget-view+json": {
           "model_id": "",
           "version_major": 2,
           "version_minor": 0
          },
          "text/plain": "Dropdown(options=(('Raw number of results', 'raw'), ('Proportion of total articles', 'proportion')), value='ra…"
         },
         "metadata": {},
         "output_type": "display_data"
        },
        {
         "data": {
          "text/html": "\n<div id=\"altair-viz-756472ebb2f9475eb280e54e7ac709a7\"></div>\n<script type=\"text/javascript\">\n  var VEGA_DEBUG = (typeof VEGA_DEBUG == \"undefined\") ? {} : VEGA_DEBUG;\n  (function(spec, embedOpt){\n    let outputDiv = document.currentScript.previousElementSibling;\n    if (outputDiv.id !== \"altair-viz-756472ebb2f9475eb280e54e7ac709a7\") {\n      outputDiv = document.getElementById(\"altair-viz-756472ebb2f9475eb280e54e7ac709a7\");\n    }\n    const paths = {\n      \"vega\": \"https://cdn.jsdelivr.net/npm//vega@5?noext\",\n      \"vega-lib\": \"https://cdn.jsdelivr.net/npm//vega-lib?noext\",\n      \"vega-lite\": \"https://cdn.jsdelivr.net/npm//vega-lite@4.17.0?noext\",\n      \"vega-embed\": \"https://cdn.jsdelivr.net/npm//vega-embed@6?noext\",\n    };\n\n    function maybeLoadScript(lib, version) {\n      var key = `${lib.replace(\"-\", \"\")}_version`;\n      return (VEGA_DEBUG[key] == version) ?\n        Promise.resolve(paths[lib]) :\n        new Promise(function(resolve, reject) {\n          var s = document.createElement('script');\n          document.getElementsByTagName(\"head\")[0].appendChild(s);\n          s.async = true;\n          s.onload = () => {\n            VEGA_DEBUG[key] = version;\n            return resolve(paths[lib]);\n          };\n          s.onerror = () => reject(`Error loading script: ${paths[lib]}`);\n          s.src = paths[lib];\n        });\n    }\n\n    function showError(err) {\n      outputDiv.innerHTML = `<div class=\"error\" style=\"color:red;\">${err}</div>`;\n      throw err;\n    }\n\n    function displayChart(vegaEmbed) {\n      vegaEmbed(outputDiv, spec, embedOpt)\n        .catch(err => showError(`Javascript Error: ${err.message}<br>This usually means there's a typo in your chart specification. See the javascript console for the full traceback.`));\n    }\n\n    if(typeof define === \"function\" && define.amd) {\n      requirejs.config({paths});\n      require([\"vega-embed\"], displayChart, err => showError(`Error loading script: ${err.message}`));\n    } else {\n      maybeLoadScript(\"vega\", \"5\")\n        .then(() => maybeLoadScript(\"vega-lite\", \"4.17.0\"))\n        .then(() => maybeLoadScript(\"vega-embed\", \"6\"))\n        .catch(showError)\n        .then(() => displayChart(vegaEmbed));\n    }\n  })({\"usermeta\": {\"embedOptions\": {\"loader\": {\"target\": \"_blank\"}}}, \"vconcat\": [{\"data\": {\"name\": \"data-82054f5faec3e16ceea130d99ce922e3\"}, \"mark\": {\"type\": \"line\", \"interpolate\": \"cardinal\", \"point\": true}, \"encoding\": {\"color\": {\"field\": \"id\", \"legend\": {\"title\": \"\"}, \"type\": \"nominal\"}, \"href\": {\"field\": \"url\", \"type\": \"nominal\"}, \"tooltip\": [{\"field\": \"id\", \"title\": \"query\", \"type\": \"nominal\"}, {\"field\": \"date\", \"timeUnit\": \"year\", \"title\": \"year\", \"type\": \"temporal\"}, {\"field\": \"total_results\", \"format\": \",\", \"title\": \"results\", \"type\": \"quantitative\"}, {\"field\": \"PercentOfTotal\", \"format\": \".2%\", \"title\": \"proportion\", \"type\": \"quantitative\"}], \"x\": {\"axis\": {\"title\": \"Year\"}, \"field\": \"date\", \"scale\": {\"padding\": 10}, \"timeUnit\": \"year\", \"type\": \"temporal\"}, \"y\": {\"axis\": {\"format\": \",d\", \"title\": \"Number of articles\"}, \"field\": \"total_results\", \"type\": \"quantitative\"}}, \"height\": 400, \"title\": {\"text\": \"Trove Newspapers & Gazettes Search\", \"subtitle\": \"Created by QueryPic: 24 June 2022\"}, \"transform\": [{\"calculate\": \"datum.total_results / datum.total_articles\", \"as\": \"PercentOfTotal\"}], \"width\": 800}, {\"data\": {\"name\": \"data-a84671b8975528608e8fe6591fb4c574\"}, \"mark\": {\"type\": \"text\", \"align\": \"left\", \"baseline\": \"middle\", \"dx\": 2, \"dy\": 1}, \"encoding\": {\"color\": {\"value\": \"blue\"}, \"href\": {\"field\": \"url\", \"type\": \"nominal\"}, \"text\": {\"field\": \"url\", \"type\": \"nominal\"}, \"x\": {\"axis\": null, \"field\": \"x\", \"scale\": {\"range\": [0, 1]}, \"title\": null, \"type\": \"quantitative\"}, \"y\": {\"axis\": {\"domain\": false, \"grid\": false, \"labelFontWeight\": \"bold\"}, \"field\": \"id\", \"title\": null, \"type\": \"ordinal\"}}}], \"config\": {\"padding\": 20, \"title\": {\"fontSize\": 14}, \"view\": {\"strokeWidth\": 0}}, \"$schema\": \"https://vega.github.io/schema/vega-lite/v4.17.0.json\", \"datasets\": {\"data-82054f5faec3e16ceea130d99ce922e3\": [{\"date\": \"1850-01-02\", \"total_results\": 0, \"total_articles\": 0, \"url\": \"https://trove.nla.gov.au/search/category/newspapers?keyword=text%3A%22darling%20wife%22%20date%3A%5B1850%20TO%201954%5D&l-decade=185&l-year=1850\", \"id\": \"Query 1\"}, {\"date\": \"1851-01-02\", \"total_results\": 0, \"total_articles\": 0, \"url\": \"https://trove.nla.gov.au/search/category/newspapers?keyword=text%3A%22darling%20wife%22%20date%3A%5B1850%20TO%201954%5D&l-decade=185&l-year=1851\", \"id\": \"Query 1\"}, {\"date\": \"1852-01-02\", \"total_results\": 0, \"total_articles\": 0, \"url\": \"https://trove.nla.gov.au/search/category/newspapers?keyword=text%3A%22darling%20wife%22%20date%3A%5B1850%20TO%201954%5D&l-decade=185&l-year=1852\", \"id\": \"Query 1\"}, {\"date\": \"1853-01-02\", \"total_results\": 0, \"total_articles\": 0, \"url\": \"https://trove.nla.gov.au/search/category/newspapers?keyword=text%3A%22darling%20wife%22%20date%3A%5B1850%20TO%201954%5D&l-decade=185&l-year=1853\", \"id\": \"Query 1\"}, {\"date\": \"1854-01-02\", \"total_results\": 0, \"total_articles\": 0, \"url\": \"https://trove.nla.gov.au/search/category/newspapers?keyword=text%3A%22darling%20wife%22%20date%3A%5B1850%20TO%201954%5D&l-decade=185&l-year=1854\", \"id\": \"Query 1\"}, {\"date\": \"1855-01-02\", \"total_results\": 0, \"total_articles\": 0, \"url\": \"https://trove.nla.gov.au/search/category/newspapers?keyword=text%3A%22darling%20wife%22%20date%3A%5B1850%20TO%201954%5D&l-decade=185&l-year=1855\", \"id\": \"Query 1\"}, {\"date\": \"1856-01-02\", \"total_results\": 0, \"total_articles\": 0, \"url\": \"https://trove.nla.gov.au/search/category/newspapers?keyword=text%3A%22darling%20wife%22%20date%3A%5B1850%20TO%201954%5D&l-decade=185&l-year=1856\", \"id\": \"Query 1\"}, {\"date\": \"1857-01-02\", \"total_results\": 0, \"total_articles\": 0, \"url\": \"https://trove.nla.gov.au/search/category/newspapers?keyword=text%3A%22darling%20wife%22%20date%3A%5B1850%20TO%201954%5D&l-decade=185&l-year=1857\", \"id\": \"Query 1\"}, {\"date\": \"1858-01-02\", \"total_results\": 0, \"total_articles\": 0, \"url\": \"https://trove.nla.gov.au/search/category/newspapers?keyword=text%3A%22darling%20wife%22%20date%3A%5B1850%20TO%201954%5D&l-decade=185&l-year=1858\", \"id\": \"Query 1\"}, {\"date\": \"1859-01-02\", \"total_results\": 0, \"total_articles\": 0, \"url\": \"https://trove.nla.gov.au/search/category/newspapers?keyword=text%3A%22darling%20wife%22%20date%3A%5B1850%20TO%201954%5D&l-decade=185&l-year=1859\", \"id\": \"Query 1\"}, {\"date\": \"1860-01-02\", \"total_results\": 0, \"total_articles\": 0, \"url\": \"https://trove.nla.gov.au/search/category/newspapers?keyword=text%3A%22darling%20wife%22%20date%3A%5B1850%20TO%201954%5D&l-decade=186&l-year=1860\", \"id\": \"Query 1\"}, {\"date\": \"1861-01-02\", \"total_results\": 0, \"total_articles\": 0, \"url\": \"https://trove.nla.gov.au/search/category/newspapers?keyword=text%3A%22darling%20wife%22%20date%3A%5B1850%20TO%201954%5D&l-decade=186&l-year=1861\", \"id\": \"Query 1\"}, {\"date\": \"1862-01-02\", \"total_results\": 0, \"total_articles\": 0, \"url\": \"https://trove.nla.gov.au/search/category/newspapers?keyword=text%3A%22darling%20wife%22%20date%3A%5B1850%20TO%201954%5D&l-decade=186&l-year=1862\", \"id\": \"Query 1\"}, {\"date\": \"1863-01-02\", \"total_results\": 0, \"total_articles\": 0, \"url\": \"https://trove.nla.gov.au/search/category/newspapers?keyword=text%3A%22darling%20wife%22%20date%3A%5B1850%20TO%201954%5D&l-decade=186&l-year=1863\", \"id\": \"Query 1\"}, {\"date\": \"1864-01-02\", \"total_results\": 0, \"total_articles\": 0, \"url\": \"https://trove.nla.gov.au/search/category/newspapers?keyword=text%3A%22darling%20wife%22%20date%3A%5B1850%20TO%201954%5D&l-decade=186&l-year=1864\", \"id\": \"Query 1\"}, {\"date\": \"1865-01-02\", \"total_results\": 0, \"total_articles\": 0, \"url\": \"https://trove.nla.gov.au/search/category/newspapers?keyword=text%3A%22darling%20wife%22%20date%3A%5B1850%20TO%201954%5D&l-decade=186&l-year=1865\", \"id\": \"Query 1\"}, {\"date\": \"1866-01-02\", \"total_results\": 0, \"total_articles\": 0, \"url\": \"https://trove.nla.gov.au/search/category/newspapers?keyword=text%3A%22darling%20wife%22%20date%3A%5B1850%20TO%201954%5D&l-decade=186&l-year=1866\", \"id\": \"Query 1\"}, {\"date\": \"1867-01-02\", \"total_results\": 0, \"total_articles\": 0, \"url\": \"https://trove.nla.gov.au/search/category/newspapers?keyword=text%3A%22darling%20wife%22%20date%3A%5B1850%20TO%201954%5D&l-decade=186&l-year=1867\", \"id\": \"Query 1\"}, {\"date\": \"1868-01-02\", \"total_results\": 0, \"total_articles\": 0, \"url\": \"https://trove.nla.gov.au/search/category/newspapers?keyword=text%3A%22darling%20wife%22%20date%3A%5B1850%20TO%201954%5D&l-decade=186&l-year=1868\", \"id\": \"Query 1\"}, {\"date\": \"1869-01-02\", \"total_results\": 0, \"total_articles\": 0, \"url\": \"https://trove.nla.gov.au/search/category/newspapers?keyword=text%3A%22darling%20wife%22%20date%3A%5B1850%20TO%201954%5D&l-decade=186&l-year=1869\", \"id\": \"Query 1\"}, {\"date\": \"1870-01-02\", \"total_results\": 0, \"total_articles\": 0, \"url\": \"https://trove.nla.gov.au/search/category/newspapers?keyword=text%3A%22darling%20wife%22%20date%3A%5B1850%20TO%201954%5D&l-decade=187&l-year=1870\", \"id\": \"Query 1\"}, {\"date\": \"1871-01-02\", \"total_results\": 0, \"total_articles\": 0, \"url\": \"https://trove.nla.gov.au/search/category/newspapers?keyword=text%3A%22darling%20wife%22%20date%3A%5B1850%20TO%201954%5D&l-decade=187&l-year=1871\", \"id\": \"Query 1\"}, {\"date\": \"1872-01-02\", \"total_results\": 0, \"total_articles\": 0, \"url\": \"https://trove.nla.gov.au/search/category/newspapers?keyword=text%3A%22darling%20wife%22%20date%3A%5B1850%20TO%201954%5D&l-decade=187&l-year=1872\", \"id\": \"Query 1\"}, {\"date\": \"1873-01-02\", \"total_results\": 0, \"total_articles\": 0, \"url\": \"https://trove.nla.gov.au/search/category/newspapers?keyword=text%3A%22darling%20wife%22%20date%3A%5B1850%20TO%201954%5D&l-decade=187&l-year=1873\", \"id\": \"Query 1\"}, {\"date\": \"1874-01-02\", \"total_results\": 0, \"total_articles\": 0, \"url\": \"https://trove.nla.gov.au/search/category/newspapers?keyword=text%3A%22darling%20wife%22%20date%3A%5B1850%20TO%201954%5D&l-decade=187&l-year=1874\", \"id\": \"Query 1\"}, {\"date\": \"1875-01-02\", \"total_results\": 0, \"total_articles\": 0, \"url\": \"https://trove.nla.gov.au/search/category/newspapers?keyword=text%3A%22darling%20wife%22%20date%3A%5B1850%20TO%201954%5D&l-decade=187&l-year=1875\", \"id\": \"Query 1\"}, {\"date\": \"1876-01-02\", \"total_results\": 0, \"total_articles\": 0, \"url\": \"https://trove.nla.gov.au/search/category/newspapers?keyword=text%3A%22darling%20wife%22%20date%3A%5B1850%20TO%201954%5D&l-decade=187&l-year=1876\", \"id\": \"Query 1\"}, {\"date\": \"1877-01-02\", \"total_results\": 0, \"total_articles\": 0, \"url\": \"https://trove.nla.gov.au/search/category/newspapers?keyword=text%3A%22darling%20wife%22%20date%3A%5B1850%20TO%201954%5D&l-decade=187&l-year=1877\", \"id\": \"Query 1\"}, {\"date\": \"1878-01-02\", \"total_results\": 0, \"total_articles\": 0, \"url\": \"https://trove.nla.gov.au/search/category/newspapers?keyword=text%3A%22darling%20wife%22%20date%3A%5B1850%20TO%201954%5D&l-decade=187&l-year=1878\", \"id\": \"Query 1\"}, {\"date\": \"1879-01-02\", \"total_results\": 0, \"total_articles\": 0, \"url\": \"https://trove.nla.gov.au/search/category/newspapers?keyword=text%3A%22darling%20wife%22%20date%3A%5B1850%20TO%201954%5D&l-decade=187&l-year=1879\", \"id\": \"Query 1\"}, {\"date\": \"1880-01-02\", \"total_results\": 0, \"total_articles\": 0, \"url\": \"https://trove.nla.gov.au/search/category/newspapers?keyword=text%3A%22darling%20wife%22%20date%3A%5B1850%20TO%201954%5D&l-decade=188&l-year=1880\", \"id\": \"Query 1\"}, {\"date\": \"1881-01-02\", \"total_results\": 0, \"total_articles\": 0, \"url\": \"https://trove.nla.gov.au/search/category/newspapers?keyword=text%3A%22darling%20wife%22%20date%3A%5B1850%20TO%201954%5D&l-decade=188&l-year=1881\", \"id\": \"Query 1\"}, {\"date\": \"1882-01-02\", \"total_results\": 0, \"total_articles\": 0, \"url\": \"https://trove.nla.gov.au/search/category/newspapers?keyword=text%3A%22darling%20wife%22%20date%3A%5B1850%20TO%201954%5D&l-decade=188&l-year=1882\", \"id\": \"Query 1\"}, {\"date\": \"1883-01-02\", \"total_results\": 0, \"total_articles\": 0, \"url\": \"https://trove.nla.gov.au/search/category/newspapers?keyword=text%3A%22darling%20wife%22%20date%3A%5B1850%20TO%201954%5D&l-decade=188&l-year=1883\", \"id\": \"Query 1\"}, {\"date\": \"1884-01-02\", \"total_results\": 0, \"total_articles\": 0, \"url\": \"https://trove.nla.gov.au/search/category/newspapers?keyword=text%3A%22darling%20wife%22%20date%3A%5B1850%20TO%201954%5D&l-decade=188&l-year=1884\", \"id\": \"Query 1\"}, {\"date\": \"1885-01-02\", \"total_results\": 0, \"total_articles\": 0, \"url\": \"https://trove.nla.gov.au/search/category/newspapers?keyword=text%3A%22darling%20wife%22%20date%3A%5B1850%20TO%201954%5D&l-decade=188&l-year=1885\", \"id\": \"Query 1\"}, {\"date\": \"1886-01-02\", \"total_results\": 0, \"total_articles\": 0, \"url\": \"https://trove.nla.gov.au/search/category/newspapers?keyword=text%3A%22darling%20wife%22%20date%3A%5B1850%20TO%201954%5D&l-decade=188&l-year=1886\", \"id\": \"Query 1\"}, {\"date\": \"1887-01-02\", \"total_results\": 0, \"total_articles\": 0, \"url\": \"https://trove.nla.gov.au/search/category/newspapers?keyword=text%3A%22darling%20wife%22%20date%3A%5B1850%20TO%201954%5D&l-decade=188&l-year=1887\", \"id\": \"Query 1\"}, {\"date\": \"1888-01-02\", \"total_results\": 0, \"total_articles\": 0, \"url\": \"https://trove.nla.gov.au/search/category/newspapers?keyword=text%3A%22darling%20wife%22%20date%3A%5B1850%20TO%201954%5D&l-decade=188&l-year=1888\", \"id\": \"Query 1\"}, {\"date\": \"1889-01-02\", \"total_results\": 0, \"total_articles\": 0, \"url\": \"https://trove.nla.gov.au/search/category/newspapers?keyword=text%3A%22darling%20wife%22%20date%3A%5B1850%20TO%201954%5D&l-decade=188&l-year=1889\", \"id\": \"Query 1\"}, {\"date\": \"1890-01-02\", \"total_results\": 0, \"total_articles\": 0, \"url\": \"https://trove.nla.gov.au/search/category/newspapers?keyword=text%3A%22darling%20wife%22%20date%3A%5B1850%20TO%201954%5D&l-decade=189&l-year=1890\", \"id\": \"Query 1\"}, {\"date\": \"1891-01-02\", \"total_results\": 0, \"total_articles\": 0, \"url\": \"https://trove.nla.gov.au/search/category/newspapers?keyword=text%3A%22darling%20wife%22%20date%3A%5B1850%20TO%201954%5D&l-decade=189&l-year=1891\", \"id\": \"Query 1\"}, {\"date\": \"1892-01-02\", \"total_results\": 0, \"total_articles\": 0, \"url\": \"https://trove.nla.gov.au/search/category/newspapers?keyword=text%3A%22darling%20wife%22%20date%3A%5B1850%20TO%201954%5D&l-decade=189&l-year=1892\", \"id\": \"Query 1\"}, {\"date\": \"1893-01-02\", \"total_results\": 0, \"total_articles\": 0, \"url\": \"https://trove.nla.gov.au/search/category/newspapers?keyword=text%3A%22darling%20wife%22%20date%3A%5B1850%20TO%201954%5D&l-decade=189&l-year=1893\", \"id\": \"Query 1\"}, {\"date\": \"1894-01-02\", \"total_results\": 0, \"total_articles\": 0, \"url\": \"https://trove.nla.gov.au/search/category/newspapers?keyword=text%3A%22darling%20wife%22%20date%3A%5B1850%20TO%201954%5D&l-decade=189&l-year=1894\", \"id\": \"Query 1\"}, {\"date\": \"1895-01-02\", \"total_results\": 0, \"total_articles\": 0, \"url\": \"https://trove.nla.gov.au/search/category/newspapers?keyword=text%3A%22darling%20wife%22%20date%3A%5B1850%20TO%201954%5D&l-decade=189&l-year=1895\", \"id\": \"Query 1\"}, {\"date\": \"1896-01-02\", \"total_results\": 0, \"total_articles\": 0, \"url\": \"https://trove.nla.gov.au/search/category/newspapers?keyword=text%3A%22darling%20wife%22%20date%3A%5B1850%20TO%201954%5D&l-decade=189&l-year=1896\", \"id\": \"Query 1\"}, {\"date\": \"1897-01-02\", \"total_results\": 0, \"total_articles\": 0, \"url\": \"https://trove.nla.gov.au/search/category/newspapers?keyword=text%3A%22darling%20wife%22%20date%3A%5B1850%20TO%201954%5D&l-decade=189&l-year=1897\", \"id\": \"Query 1\"}, {\"date\": \"1898-01-02\", \"total_results\": 0, \"total_articles\": 0, \"url\": \"https://trove.nla.gov.au/search/category/newspapers?keyword=text%3A%22darling%20wife%22%20date%3A%5B1850%20TO%201954%5D&l-decade=189&l-year=1898\", \"id\": \"Query 1\"}, {\"date\": \"1899-01-02\", \"total_results\": 0, \"total_articles\": 0, \"url\": \"https://trove.nla.gov.au/search/category/newspapers?keyword=text%3A%22darling%20wife%22%20date%3A%5B1850%20TO%201954%5D&l-decade=189&l-year=1899\", \"id\": \"Query 1\"}, {\"date\": \"1900-01-02\", \"total_results\": 0, \"total_articles\": 0, \"url\": \"https://trove.nla.gov.au/search/category/newspapers?keyword=text%3A%22darling%20wife%22%20date%3A%5B1850%20TO%201954%5D&l-decade=190&l-year=1900\", \"id\": \"Query 1\"}, {\"date\": \"1901-01-02\", \"total_results\": 0, \"total_articles\": 0, \"url\": \"https://trove.nla.gov.au/search/category/newspapers?keyword=text%3A%22darling%20wife%22%20date%3A%5B1850%20TO%201954%5D&l-decade=190&l-year=1901\", \"id\": \"Query 1\"}, {\"date\": \"1902-01-02\", \"total_results\": 0, \"total_articles\": 0, \"url\": \"https://trove.nla.gov.au/search/category/newspapers?keyword=text%3A%22darling%20wife%22%20date%3A%5B1850%20TO%201954%5D&l-decade=190&l-year=1902\", \"id\": \"Query 1\"}, {\"date\": \"1903-01-02\", \"total_results\": 0, \"total_articles\": 0, \"url\": \"https://trove.nla.gov.au/search/category/newspapers?keyword=text%3A%22darling%20wife%22%20date%3A%5B1850%20TO%201954%5D&l-decade=190&l-year=1903\", \"id\": \"Query 1\"}, {\"date\": \"1904-01-02\", \"total_results\": 0, \"total_articles\": 0, \"url\": \"https://trove.nla.gov.au/search/category/newspapers?keyword=text%3A%22darling%20wife%22%20date%3A%5B1850%20TO%201954%5D&l-decade=190&l-year=1904\", \"id\": \"Query 1\"}, {\"date\": \"1905-01-02\", \"total_results\": 0, \"total_articles\": 0, \"url\": \"https://trove.nla.gov.au/search/category/newspapers?keyword=text%3A%22darling%20wife%22%20date%3A%5B1850%20TO%201954%5D&l-decade=190&l-year=1905\", \"id\": \"Query 1\"}, {\"date\": \"1906-01-02\", \"total_results\": 0, \"total_articles\": 0, \"url\": \"https://trove.nla.gov.au/search/category/newspapers?keyword=text%3A%22darling%20wife%22%20date%3A%5B1850%20TO%201954%5D&l-decade=190&l-year=1906\", \"id\": \"Query 1\"}, {\"date\": \"1907-01-02\", \"total_results\": 0, \"total_articles\": 0, \"url\": \"https://trove.nla.gov.au/search/category/newspapers?keyword=text%3A%22darling%20wife%22%20date%3A%5B1850%20TO%201954%5D&l-decade=190&l-year=1907\", \"id\": \"Query 1\"}, {\"date\": \"1908-01-02\", \"total_results\": 0, \"total_articles\": 0, \"url\": \"https://trove.nla.gov.au/search/category/newspapers?keyword=text%3A%22darling%20wife%22%20date%3A%5B1850%20TO%201954%5D&l-decade=190&l-year=1908\", \"id\": \"Query 1\"}, {\"date\": \"1909-01-02\", \"total_results\": 0, \"total_articles\": 0, \"url\": \"https://trove.nla.gov.au/search/category/newspapers?keyword=text%3A%22darling%20wife%22%20date%3A%5B1850%20TO%201954%5D&l-decade=190&l-year=1909\", \"id\": \"Query 1\"}, {\"date\": \"1910-01-02\", \"total_results\": 0, \"total_articles\": 0, \"url\": \"https://trove.nla.gov.au/search/category/newspapers?keyword=text%3A%22darling%20wife%22%20date%3A%5B1850%20TO%201954%5D&l-decade=191&l-year=1910\", \"id\": \"Query 1\"}, {\"date\": \"1911-01-02\", \"total_results\": 0, \"total_articles\": 0, \"url\": \"https://trove.nla.gov.au/search/category/newspapers?keyword=text%3A%22darling%20wife%22%20date%3A%5B1850%20TO%201954%5D&l-decade=191&l-year=1911\", \"id\": \"Query 1\"}, {\"date\": \"1912-01-02\", \"total_results\": 0, \"total_articles\": 0, \"url\": \"https://trove.nla.gov.au/search/category/newspapers?keyword=text%3A%22darling%20wife%22%20date%3A%5B1850%20TO%201954%5D&l-decade=191&l-year=1912\", \"id\": \"Query 1\"}, {\"date\": \"1913-01-02\", \"total_results\": 0, \"total_articles\": 0, \"url\": \"https://trove.nla.gov.au/search/category/newspapers?keyword=text%3A%22darling%20wife%22%20date%3A%5B1850%20TO%201954%5D&l-decade=191&l-year=1913\", \"id\": \"Query 1\"}, {\"date\": \"1914-01-02\", \"total_results\": 0, \"total_articles\": 0, \"url\": \"https://trove.nla.gov.au/search/category/newspapers?keyword=text%3A%22darling%20wife%22%20date%3A%5B1850%20TO%201954%5D&l-decade=191&l-year=1914\", \"id\": \"Query 1\"}, {\"date\": \"1915-01-02\", \"total_results\": 0, \"total_articles\": 0, \"url\": \"https://trove.nla.gov.au/search/category/newspapers?keyword=text%3A%22darling%20wife%22%20date%3A%5B1850%20TO%201954%5D&l-decade=191&l-year=1915\", \"id\": \"Query 1\"}, {\"date\": \"1916-01-02\", \"total_results\": 0, \"total_articles\": 0, \"url\": \"https://trove.nla.gov.au/search/category/newspapers?keyword=text%3A%22darling%20wife%22%20date%3A%5B1850%20TO%201954%5D&l-decade=191&l-year=1916\", \"id\": \"Query 1\"}, {\"date\": \"1917-01-02\", \"total_results\": 0, \"total_articles\": 0, \"url\": \"https://trove.nla.gov.au/search/category/newspapers?keyword=text%3A%22darling%20wife%22%20date%3A%5B1850%20TO%201954%5D&l-decade=191&l-year=1917\", \"id\": \"Query 1\"}, {\"date\": \"1918-01-02\", \"total_results\": 0, \"total_articles\": 0, \"url\": \"https://trove.nla.gov.au/search/category/newspapers?keyword=text%3A%22darling%20wife%22%20date%3A%5B1850%20TO%201954%5D&l-decade=191&l-year=1918\", \"id\": \"Query 1\"}, {\"date\": \"1919-01-02\", \"total_results\": 0, \"total_articles\": 0, \"url\": \"https://trove.nla.gov.au/search/category/newspapers?keyword=text%3A%22darling%20wife%22%20date%3A%5B1850%20TO%201954%5D&l-decade=191&l-year=1919\", \"id\": \"Query 1\"}, {\"date\": \"1920-01-02\", \"total_results\": 0, \"total_articles\": 0, \"url\": \"https://trove.nla.gov.au/search/category/newspapers?keyword=text%3A%22darling%20wife%22%20date%3A%5B1850%20TO%201954%5D&l-decade=192&l-year=1920\", \"id\": \"Query 1\"}, {\"date\": \"1921-01-02\", \"total_results\": 0, \"total_articles\": 0, \"url\": \"https://trove.nla.gov.au/search/category/newspapers?keyword=text%3A%22darling%20wife%22%20date%3A%5B1850%20TO%201954%5D&l-decade=192&l-year=1921\", \"id\": \"Query 1\"}, {\"date\": \"1922-01-02\", \"total_results\": 0, \"total_articles\": 0, \"url\": \"https://trove.nla.gov.au/search/category/newspapers?keyword=text%3A%22darling%20wife%22%20date%3A%5B1850%20TO%201954%5D&l-decade=192&l-year=1922\", \"id\": \"Query 1\"}, {\"date\": \"1923-01-02\", \"total_results\": 0, \"total_articles\": 0, \"url\": \"https://trove.nla.gov.au/search/category/newspapers?keyword=text%3A%22darling%20wife%22%20date%3A%5B1850%20TO%201954%5D&l-decade=192&l-year=1923\", \"id\": \"Query 1\"}, {\"date\": \"1924-01-02\", \"total_results\": 0, \"total_articles\": 0, \"url\": \"https://trove.nla.gov.au/search/category/newspapers?keyword=text%3A%22darling%20wife%22%20date%3A%5B1850%20TO%201954%5D&l-decade=192&l-year=1924\", \"id\": \"Query 1\"}, {\"date\": \"1925-01-02\", \"total_results\": 0, \"total_articles\": 0, \"url\": \"https://trove.nla.gov.au/search/category/newspapers?keyword=text%3A%22darling%20wife%22%20date%3A%5B1850%20TO%201954%5D&l-decade=192&l-year=1925\", \"id\": \"Query 1\"}, {\"date\": \"1926-01-02\", \"total_results\": 0, \"total_articles\": 0, \"url\": \"https://trove.nla.gov.au/search/category/newspapers?keyword=text%3A%22darling%20wife%22%20date%3A%5B1850%20TO%201954%5D&l-decade=192&l-year=1926\", \"id\": \"Query 1\"}, {\"date\": \"1927-01-02\", \"total_results\": 0, \"total_articles\": 0, \"url\": \"https://trove.nla.gov.au/search/category/newspapers?keyword=text%3A%22darling%20wife%22%20date%3A%5B1850%20TO%201954%5D&l-decade=192&l-year=1927\", \"id\": \"Query 1\"}, {\"date\": \"1928-01-02\", \"total_results\": 0, \"total_articles\": 0, \"url\": \"https://trove.nla.gov.au/search/category/newspapers?keyword=text%3A%22darling%20wife%22%20date%3A%5B1850%20TO%201954%5D&l-decade=192&l-year=1928\", \"id\": \"Query 1\"}, {\"date\": \"1929-01-02\", \"total_results\": 0, \"total_articles\": 0, \"url\": \"https://trove.nla.gov.au/search/category/newspapers?keyword=text%3A%22darling%20wife%22%20date%3A%5B1850%20TO%201954%5D&l-decade=192&l-year=1929\", \"id\": \"Query 1\"}, {\"date\": \"1930-01-02\", \"total_results\": 0, \"total_articles\": 0, \"url\": \"https://trove.nla.gov.au/search/category/newspapers?keyword=text%3A%22darling%20wife%22%20date%3A%5B1850%20TO%201954%5D&l-decade=193&l-year=1930\", \"id\": \"Query 1\"}, {\"date\": \"1931-01-02\", \"total_results\": 0, \"total_articles\": 0, \"url\": \"https://trove.nla.gov.au/search/category/newspapers?keyword=text%3A%22darling%20wife%22%20date%3A%5B1850%20TO%201954%5D&l-decade=193&l-year=1931\", \"id\": \"Query 1\"}, {\"date\": \"1932-01-02\", \"total_results\": 0, \"total_articles\": 0, \"url\": \"https://trove.nla.gov.au/search/category/newspapers?keyword=text%3A%22darling%20wife%22%20date%3A%5B1850%20TO%201954%5D&l-decade=193&l-year=1932\", \"id\": \"Query 1\"}, {\"date\": \"1933-01-02\", \"total_results\": 0, \"total_articles\": 0, \"url\": \"https://trove.nla.gov.au/search/category/newspapers?keyword=text%3A%22darling%20wife%22%20date%3A%5B1850%20TO%201954%5D&l-decade=193&l-year=1933\", \"id\": \"Query 1\"}, {\"date\": \"1934-01-02\", \"total_results\": 0, \"total_articles\": 0, \"url\": \"https://trove.nla.gov.au/search/category/newspapers?keyword=text%3A%22darling%20wife%22%20date%3A%5B1850%20TO%201954%5D&l-decade=193&l-year=1934\", \"id\": \"Query 1\"}, {\"date\": \"1935-01-02\", \"total_results\": 0, \"total_articles\": 0, \"url\": \"https://trove.nla.gov.au/search/category/newspapers?keyword=text%3A%22darling%20wife%22%20date%3A%5B1850%20TO%201954%5D&l-decade=193&l-year=1935\", \"id\": \"Query 1\"}, {\"date\": \"1936-01-02\", \"total_results\": 0, \"total_articles\": 0, \"url\": \"https://trove.nla.gov.au/search/category/newspapers?keyword=text%3A%22darling%20wife%22%20date%3A%5B1850%20TO%201954%5D&l-decade=193&l-year=1936\", \"id\": \"Query 1\"}, {\"date\": \"1937-01-02\", \"total_results\": 0, \"total_articles\": 0, \"url\": \"https://trove.nla.gov.au/search/category/newspapers?keyword=text%3A%22darling%20wife%22%20date%3A%5B1850%20TO%201954%5D&l-decade=193&l-year=1937\", \"id\": \"Query 1\"}, {\"date\": \"1938-01-02\", \"total_results\": 0, \"total_articles\": 0, \"url\": \"https://trove.nla.gov.au/search/category/newspapers?keyword=text%3A%22darling%20wife%22%20date%3A%5B1850%20TO%201954%5D&l-decade=193&l-year=1938\", \"id\": \"Query 1\"}, {\"date\": \"1939-01-02\", \"total_results\": 0, \"total_articles\": 0, \"url\": \"https://trove.nla.gov.au/search/category/newspapers?keyword=text%3A%22darling%20wife%22%20date%3A%5B1850%20TO%201954%5D&l-decade=193&l-year=1939\", \"id\": \"Query 1\"}, {\"date\": \"1940-01-02\", \"total_results\": 0, \"total_articles\": 0, \"url\": \"https://trove.nla.gov.au/search/category/newspapers?keyword=text%3A%22darling%20wife%22%20date%3A%5B1850%20TO%201954%5D&l-decade=194&l-year=1940\", \"id\": \"Query 1\"}, {\"date\": \"1941-01-02\", \"total_results\": 0, \"total_articles\": 0, \"url\": \"https://trove.nla.gov.au/search/category/newspapers?keyword=text%3A%22darling%20wife%22%20date%3A%5B1850%20TO%201954%5D&l-decade=194&l-year=1941\", \"id\": \"Query 1\"}, {\"date\": \"1942-01-02\", \"total_results\": 0, \"total_articles\": 0, \"url\": \"https://trove.nla.gov.au/search/category/newspapers?keyword=text%3A%22darling%20wife%22%20date%3A%5B1850%20TO%201954%5D&l-decade=194&l-year=1942\", \"id\": \"Query 1\"}, {\"date\": \"1943-01-02\", \"total_results\": 0, \"total_articles\": 0, \"url\": \"https://trove.nla.gov.au/search/category/newspapers?keyword=text%3A%22darling%20wife%22%20date%3A%5B1850%20TO%201954%5D&l-decade=194&l-year=1943\", \"id\": \"Query 1\"}, {\"date\": \"1944-01-02\", \"total_results\": 0, \"total_articles\": 0, \"url\": \"https://trove.nla.gov.au/search/category/newspapers?keyword=text%3A%22darling%20wife%22%20date%3A%5B1850%20TO%201954%5D&l-decade=194&l-year=1944\", \"id\": \"Query 1\"}, {\"date\": \"1945-01-02\", \"total_results\": 0, \"total_articles\": 0, \"url\": \"https://trove.nla.gov.au/search/category/newspapers?keyword=text%3A%22darling%20wife%22%20date%3A%5B1850%20TO%201954%5D&l-decade=194&l-year=1945\", \"id\": \"Query 1\"}, {\"date\": \"1946-01-02\", \"total_results\": 0, \"total_articles\": 0, \"url\": \"https://trove.nla.gov.au/search/category/newspapers?keyword=text%3A%22darling%20wife%22%20date%3A%5B1850%20TO%201954%5D&l-decade=194&l-year=1946\", \"id\": \"Query 1\"}, {\"date\": \"1947-01-02\", \"total_results\": 0, \"total_articles\": 0, \"url\": \"https://trove.nla.gov.au/search/category/newspapers?keyword=text%3A%22darling%20wife%22%20date%3A%5B1850%20TO%201954%5D&l-decade=194&l-year=1947\", \"id\": \"Query 1\"}, {\"date\": \"1948-01-02\", \"total_results\": 0, \"total_articles\": 0, \"url\": \"https://trove.nla.gov.au/search/category/newspapers?keyword=text%3A%22darling%20wife%22%20date%3A%5B1850%20TO%201954%5D&l-decade=194&l-year=1948\", \"id\": \"Query 1\"}, {\"date\": \"1949-01-02\", \"total_results\": 0, \"total_articles\": 0, \"url\": \"https://trove.nla.gov.au/search/category/newspapers?keyword=text%3A%22darling%20wife%22%20date%3A%5B1850%20TO%201954%5D&l-decade=194&l-year=1949\", \"id\": \"Query 1\"}, {\"date\": \"1950-01-02\", \"total_results\": 0, \"total_articles\": 0, \"url\": \"https://trove.nla.gov.au/search/category/newspapers?keyword=text%3A%22darling%20wife%22%20date%3A%5B1850%20TO%201954%5D&l-decade=195&l-year=1950\", \"id\": \"Query 1\"}, {\"date\": \"1951-01-02\", \"total_results\": 0, \"total_articles\": 0, \"url\": \"https://trove.nla.gov.au/search/category/newspapers?keyword=text%3A%22darling%20wife%22%20date%3A%5B1850%20TO%201954%5D&l-decade=195&l-year=1951\", \"id\": \"Query 1\"}, {\"date\": \"1952-01-02\", \"total_results\": 0, \"total_articles\": 0, \"url\": \"https://trove.nla.gov.au/search/category/newspapers?keyword=text%3A%22darling%20wife%22%20date%3A%5B1850%20TO%201954%5D&l-decade=195&l-year=1952\", \"id\": \"Query 1\"}, {\"date\": \"1953-01-02\", \"total_results\": 0, \"total_articles\": 0, \"url\": \"https://trove.nla.gov.au/search/category/newspapers?keyword=text%3A%22darling%20wife%22%20date%3A%5B1850%20TO%201954%5D&l-decade=195&l-year=1953\", \"id\": \"Query 1\"}], \"data-a84671b8975528608e8fe6591fb4c574\": [{\"x\": 0, \"y\": 0, \"id\": \"Query 1\", \"url\": \"https://trove.nla.gov.au/search/category/newspapers?keyword=text%3A%22darling%20wife%22%20date%3A%5B1850%20TO%201954%5D\", \"params\": \"keyword=text%3A%22darling%20wife%22%20date%3A%5B1850%20TO%201954%5D\"}]}}, {\"mode\": \"vega-lite\"});\n</script>",
          "text/plain": "alt.VConcatChart(...)"
         },
         "metadata": {},
         "output_type": "display_data"
        }
       ]
      }
     },
     "b06ad5d329e34d4b85dfe29a71d8d0f5": {
      "model_module": "@jupyter-widgets/controls",
      "model_module_version": "1.5.0",
      "model_name": "FloatProgressModel",
      "state": {
       "layout": "IPY_MODEL_d8084ca22bbf4944bc4886ce80c80014",
       "max": 11,
       "style": "IPY_MODEL_6760bd9f8eec4592898b31f71aa3f9bf",
       "value": 11
      }
     },
     "b07353f3266240358d0f44c78340d64c": {
      "model_module": "@jupyter-widgets/controls",
      "model_module_version": "1.5.0",
      "model_name": "ButtonModel",
      "state": {
       "button_style": "primary",
       "description": "Save chart as HTML",
       "layout": "IPY_MODEL_ad30911b744245fc92aa715ad3c673b3",
       "style": "IPY_MODEL_55fe5178ce64476097f42bec5cf1c781",
       "tooltip": "Save chart as HTML"
      }
     },
     "b0b49a3e1fad44248acd6a446614288a": {
      "model_module": "@jupyter-widgets/controls",
      "model_module_version": "1.5.0",
      "model_name": "ButtonModel",
      "state": {
       "button_style": "primary",
       "description": "Save chart as HTML",
       "layout": "IPY_MODEL_a5a5f0790e43400eb83ef6eda6891b59",
       "style": "IPY_MODEL_74e0839ac3d240e0b3d50f1cf12ce8f8",
       "tooltip": "Save chart as HTML"
      }
     },
     "b0c9326270454ffab8f19d7e87efc9d5": {
      "model_module": "@jupyter-widgets/base",
      "model_module_version": "1.2.0",
      "model_name": "LayoutModel",
      "state": {
       "margin": "50px 0 50px 0"
      }
     },
     "b12e8d40dad54ec1895273c5a04ce5eb": {
      "model_module": "@jupyter-widgets/controls",
      "model_module_version": "1.5.0",
      "model_name": "HTMLModel",
      "state": {
       "layout": "IPY_MODEL_42cd294b967c4717a8b5930ea659d580",
       "style": "IPY_MODEL_8dfb19f6637c48c6b475d867d2b5718d",
       "value": "100%"
      }
     },
     "b1ca9d21662e48efad90b11749dddd26": {
      "model_module": "@jupyter-widgets/base",
      "model_module_version": "1.2.0",
      "model_name": "LayoutModel",
      "state": {}
     },
     "b2acb48a558148818cc290a4346a3ec4": {
      "model_module": "@jupyter-widgets/controls",
      "model_module_version": "1.5.0",
      "model_name": "DescriptionStyleModel",
      "state": {
       "description_width": ""
      }
     },
     "b2e87c2b42144f6c8a285b4c0740cc7b": {
      "model_module": "@jupyter-widgets/controls",
      "model_module_version": "1.5.0",
      "model_name": "HTMLModel",
      "state": {
       "layout": "IPY_MODEL_cc830a07c1f34853a73a0755e012754e",
       "style": "IPY_MODEL_50d1ebd489f4482c8e93c046c164fbeb",
       "value": " 11/11 [00:18&lt;00:00,  1.69s/it]"
      }
     },
     "b2ec0b70255b4579b56f9f7fe26f48db": {
      "model_module": "@jupyter-widgets/controls",
      "model_module_version": "1.5.0",
      "model_name": "DescriptionStyleModel",
      "state": {
       "description_width": ""
      }
     },
     "b31be2c4f0794a4e8c0addbe7df33adc": {
      "model_module": "@jupyter-widgets/base",
      "model_module_version": "1.2.0",
      "model_name": "LayoutModel",
      "state": {}
     },
     "b33f376dcd6c41f2b223332215a176c1": {
      "model_module": "@jupyter-widgets/controls",
      "model_module_version": "1.5.0",
      "model_name": "BoundedIntTextModel",
      "state": {
       "description": "Height",
       "layout": "IPY_MODEL_cc2e23014dc8471c959d54993a1ceb48",
       "max": 1500,
       "min": 400,
       "step": 100,
       "style": "IPY_MODEL_e615fc86668841e98285a626412a5b59",
       "value": 400
      }
     },
     "b3579d35ed144a82b8d286af3d916aad": {
      "model_module": "@jupyter-widgets/controls",
      "model_module_version": "1.5.0",
      "model_name": "ProgressStyleModel",
      "state": {
       "description_width": ""
      }
     },
     "b37ab07d5bf14d47a6fcc0a27bef6fd3": {
      "model_module": "@jupyter-widgets/controls",
      "model_module_version": "1.5.0",
      "model_name": "DescriptionStyleModel",
      "state": {
       "description_width": ""
      }
     },
     "b3f81143c82e4d678c486d448a50ef9f": {
      "model_module": "@jupyter-widgets/controls",
      "model_module_version": "1.5.0",
      "model_name": "HBoxModel",
      "state": {
       "children": [
        "IPY_MODEL_0a69ef4963b84745aab10e0ec99b4434",
        "IPY_MODEL_246d7e109c0a4b5e8ab39dbd87f4088c",
        "IPY_MODEL_0c2de5c0d29e4e168e9817cd28fded44"
       ],
       "layout": "IPY_MODEL_f29e896f0c7e494681b523b47910a36f"
      }
     },
     "b40db5bde7484d27867c034cbd3c1b79": {
      "model_module": "@jupyter-widgets/base",
      "model_module_version": "1.2.0",
      "model_name": "LayoutModel",
      "state": {}
     },
     "b4461c44bd5f4103b5e6fd0c44a02a9e": {
      "model_module": "@jupyter-widgets/base",
      "model_module_version": "1.2.0",
      "model_name": "LayoutModel",
      "state": {
       "margin": "0 0 20px 0"
      }
     },
     "b44fad4dbdb8497bbac4d54a0b4201f5": {
      "model_module": "@jupyter-widgets/base",
      "model_module_version": "1.2.0",
      "model_name": "LayoutModel",
      "state": {}
     },
     "b453d1cd5f004aa08da0542d45eb4afd": {
      "model_module": "@jupyter-widgets/base",
      "model_module_version": "1.2.0",
      "model_name": "LayoutModel",
      "state": {}
     },
     "b4ed2948c3c04686b07c4620d8817203": {
      "model_module": "@jupyter-widgets/base",
      "model_module_version": "1.2.0",
      "model_name": "LayoutModel",
      "state": {}
     },
     "b53985d2136b48708083ae5cbdfd9d83": {
      "model_module": "@jupyter-widgets/controls",
      "model_module_version": "1.5.0",
      "model_name": "ButtonModel",
      "state": {
       "description": "Remove last query",
       "layout": "IPY_MODEL_1a93c175dbae42a782c12900722e574a",
       "style": "IPY_MODEL_0631bfe72db249f69818975f4d622d79",
       "tooltip": "Remove the last query"
      }
     },
     "b5ed86e23d2e4d9faf9e823fe6970b3e": {
      "model_module": "@jupyter-widgets/controls",
      "model_module_version": "1.5.0",
      "model_name": "DropdownModel",
      "state": {
       "_options_labels": [
        "Raw number of results",
        "Proportion of total articles"
       ],
       "index": 0,
       "layout": "IPY_MODEL_96f4e7e21b364570ab32d81048b5c2a6",
       "style": "IPY_MODEL_03005852310a41eebdf66d32184408fe"
      }
     },
     "b659407f187c4ed4895ae9cd7b653742": {
      "model_module": "@jupyter-widgets/controls",
      "model_module_version": "1.5.0",
      "model_name": "ProgressStyleModel",
      "state": {
       "description_width": ""
      }
     },
     "b65a05f69dbd4a489cb9ba64775c39dd": {
      "model_module": "@jupyter-widgets/base",
      "model_module_version": "1.2.0",
      "model_name": "LayoutModel",
      "state": {}
     },
     "b67681c58d184f81a9a3a1707e53e80d": {
      "model_module": "@jupyter-widgets/controls",
      "model_module_version": "1.5.0",
      "model_name": "ButtonModel",
      "state": {
       "description": "Clear all queries",
       "layout": "IPY_MODEL_49b708bfc00249e9b8b8d0c92ffe5efe",
       "style": "IPY_MODEL_7ef0069ea76b4fe9b2f0b2adf0484231",
       "tooltip": "Clear current queries"
      }
     },
     "b69356abd8be454e8a03c1cad074f4d6": {
      "model_module": "@jupyter-widgets/controls",
      "model_module_version": "1.5.0",
      "model_name": "ButtonModel",
      "state": {
       "button_style": "primary",
       "description": "Visualise query",
       "layout": "IPY_MODEL_1d7cb5b035774b3e98a1fe4c3e1bc814",
       "style": "IPY_MODEL_757c50b4c8ae4d5b8a58d3a90c86d2fe",
       "tooltip": "Create chart from query"
      }
     },
     "b6a07cca89f14db88f0499d49b90b4a3": {
      "model_module": "@jupyter-widgets/controls",
      "model_module_version": "1.5.0",
      "model_name": "ButtonModel",
      "state": {
       "description": "Clear all queries",
       "layout": "IPY_MODEL_e60fbd0588a2440185bb45def07c811b",
       "style": "IPY_MODEL_d09fdeddd44d4ad6b784170f66c9aeab",
       "tooltip": "Clear current queries"
      }
     },
     "b70c63d93333476898dbc6a15d625b60": {
      "model_module": "@jupyter-widgets/base",
      "model_module_version": "1.2.0",
      "model_name": "LayoutModel",
      "state": {}
     },
     "b70e8d7c3af1455cb8011ac000c606d8": {
      "model_module": "@jupyter-widgets/controls",
      "model_module_version": "1.5.0",
      "model_name": "ButtonStyleModel",
      "state": {}
     },
     "b795c791951942488dbe8a29630870ee": {
      "model_module": "@jupyter-widgets/base",
      "model_module_version": "1.2.0",
      "model_name": "LayoutModel",
      "state": {}
     },
     "b7dd1cc1ba4c49b69edd7886efc27171": {
      "model_module": "@jupyter-widgets/base",
      "model_module_version": "1.2.0",
      "model_name": "LayoutModel",
      "state": {}
     },
     "b7ec4a29515c45b69c5766d72fd6631c": {
      "model_module": "@jupyter-widgets/base",
      "model_module_version": "1.2.0",
      "model_name": "LayoutModel",
      "state": {}
     },
     "b801cb5141cb4db89828f0665c5e8f39": {
      "model_module": "@jupyter-widgets/base",
      "model_module_version": "1.2.0",
      "model_name": "LayoutModel",
      "state": {}
     },
     "b83a8ec607e3445c9dab56e5d1cbefff": {
      "model_module": "@jupyter-widgets/controls",
      "model_module_version": "1.5.0",
      "model_name": "ButtonStyleModel",
      "state": {}
     },
     "b86b25405eaf405b9f914e382fc721fc": {
      "model_module": "@jupyter-widgets/controls",
      "model_module_version": "1.5.0",
      "model_name": "DescriptionStyleModel",
      "state": {
       "description_width": ""
      }
     },
     "b87b3c40626b42d885734a36c383f2c1": {
      "model_module": "@jupyter-widgets/controls",
      "model_module_version": "1.5.0",
      "model_name": "DescriptionStyleModel",
      "state": {
       "description_width": ""
      }
     },
     "b881620764ea49e3a37f4459ace520e9": {
      "model_module": "@jupyter-widgets/controls",
      "model_module_version": "1.5.0",
      "model_name": "DescriptionStyleModel",
      "state": {
       "description_width": ""
      }
     },
     "b88688d40cd1484ab5357e4132704c9f": {
      "model_module": "@jupyter-widgets/output",
      "model_module_version": "1.0.0",
      "model_name": "OutputModel",
      "state": {
       "layout": "IPY_MODEL_a79334283868428f8286f8b6e537c6eb"
      }
     },
     "b91ca2dcbf334e01a467f9e79b09cf13": {
      "model_module": "@jupyter-widgets/base",
      "model_module_version": "1.2.0",
      "model_name": "LayoutModel",
      "state": {}
     },
     "b91d441d4ff64845bd952d3cc2584aaa": {
      "model_module": "@jupyter-widgets/base",
      "model_module_version": "1.2.0",
      "model_name": "LayoutModel",
      "state": {}
     },
     "b9640520dc384b2595a1895ced1a5608": {
      "model_module": "@jupyter-widgets/controls",
      "model_module_version": "1.5.0",
      "model_name": "DropdownModel",
      "state": {
       "_options_labels": [
        "Raw number of results",
        "Proportion of total articles"
       ],
       "index": 0,
       "layout": "IPY_MODEL_9256d23de5d04cacbb21c11d6362dd8e",
       "style": "IPY_MODEL_c3bf6272e54a4cae9976048a3b93fb93"
      }
     },
     "b96e77041bc5417a9ed9886616220c54": {
      "model_module": "@jupyter-widgets/base",
      "model_module_version": "1.2.0",
      "model_name": "LayoutModel",
      "state": {}
     },
     "b9e90d07a32249138ca31f5cd099a100": {
      "model_module": "@jupyter-widgets/controls",
      "model_module_version": "1.5.0",
      "model_name": "HTMLModel",
      "state": {
       "layout": "IPY_MODEL_1b5f7dcbfba14edfb944f9e6a12c9c4c",
       "style": "IPY_MODEL_8fb441060c514a8db21b4c354e5ee510",
       "value": " 7/7 [00:11&lt;00:00,  1.65s/it]"
      }
     },
     "ba078ad052634589b9a9e7e9dfd6f5ec": {
      "model_module": "@jupyter-widgets/controls",
      "model_module_version": "1.5.0",
      "model_name": "ButtonModel",
      "state": {
       "description": "Clear all queries",
       "layout": "IPY_MODEL_c99821b432cd4ebab5a97685b28e1911",
       "style": "IPY_MODEL_6fd3aacfda8746edb56c3d3a97ca2fd9",
       "tooltip": "Clear current queries"
      }
     },
     "ba304058869f4110998fc0f8dbd363ec": {
      "model_module": "@jupyter-widgets/base",
      "model_module_version": "1.2.0",
      "model_name": "LayoutModel",
      "state": {
       "margin": "50px 0 50px 0"
      }
     },
     "ba8ab901ef0e473ba522da8306b520d9": {
      "model_module": "@jupyter-widgets/controls",
      "model_module_version": "1.5.0",
      "model_name": "BoundedIntTextModel",
      "state": {
       "description": "Height",
       "layout": "IPY_MODEL_fdd88d808a904062a670a15522eba150",
       "max": 1500,
       "min": 400,
       "step": 100,
       "style": "IPY_MODEL_836a48322e164c25ba3074af247bad2b",
       "value": 400
      }
     },
     "bab6fb843aec4d029ea189ef3d8228d1": {
      "model_module": "@jupyter-widgets/controls",
      "model_module_version": "1.5.0",
      "model_name": "DescriptionStyleModel",
      "state": {
       "description_width": ""
      }
     },
     "bad8890c332b481b98f4d19bebf4f613": {
      "model_module": "@jupyter-widgets/controls",
      "model_module_version": "1.5.0",
      "model_name": "PasswordModel",
      "state": {
       "description": "API key:",
       "layout": "IPY_MODEL_c1986079d83547c1a1b75e34d3b79100",
       "placeholder": "Enter your Trove API key",
       "style": "IPY_MODEL_5da0d01ae1e9446cb25c60e33af8f987",
       "value": "6pi5hht0d2umqcro"
      }
     },
     "bae9c9fdd9e2411185db11c43f6dd426": {
      "model_module": "@jupyter-widgets/controls",
      "model_module_version": "1.5.0",
      "model_name": "DescriptionStyleModel",
      "state": {
       "description_width": ""
      }
     },
     "bb0a9673c6fb4fc3a417655cd953482c": {
      "model_module": "@jupyter-widgets/controls",
      "model_module_version": "1.5.0",
      "model_name": "ButtonStyleModel",
      "state": {}
     },
     "bb1db050cd1c40d695681e468f27c3c2": {
      "model_module": "@jupyter-widgets/controls",
      "model_module_version": "1.5.0",
      "model_name": "HTMLModel",
      "state": {
       "layout": "IPY_MODEL_02e78c1061be46409605efc212fb4769",
       "style": "IPY_MODEL_7ce5a5e92dee4381a6bf81db5a5a993e",
       "value": " 11/11 [00:08&lt;00:00,  1.14it/s]"
      }
     },
     "bb379de2eb8042b0ad38e55744d97087": {
      "model_module": "@jupyter-widgets/base",
      "model_module_version": "1.2.0",
      "model_name": "LayoutModel",
      "state": {}
     },
     "bb6e021126c84b50a3ac57be66c58689": {
      "model_module": "@jupyter-widgets/base",
      "model_module_version": "1.2.0",
      "model_name": "LayoutModel",
      "state": {}
     },
     "bb73fde51fb0443cb6d0081e41ed08c1": {
      "model_module": "@jupyter-widgets/base",
      "model_module_version": "1.2.0",
      "model_name": "LayoutModel",
      "state": {}
     },
     "bb903fd2582d46f393679f655de58ff7": {
      "model_module": "@jupyter-widgets/base",
      "model_module_version": "1.2.0",
      "model_name": "LayoutModel",
      "state": {
       "width": "80%"
      }
     },
     "bbb8454a31fe48808d05bc9acbd49493": {
      "model_module": "@jupyter-widgets/controls",
      "model_module_version": "1.5.0",
      "model_name": "TextModel",
      "state": {
       "description": "Query:",
       "layout": "IPY_MODEL_54b1437cf4ab42628578eac21b905fa7",
       "placeholder": "Enter your search query",
       "style": "IPY_MODEL_7e1e1db627964a16aa59a0f8a82e57db",
       "value": "https://trove.nla.gov.au/search/category/newspapers?keyword=cat%20date:[1900-01-01T00:00:00Z TO 1950-01-01T00:00:00Z]"
      }
     },
     "bbbed6fd511b4776a85d93a24a53f4d7": {
      "model_module": "@jupyter-widgets/controls",
      "model_module_version": "1.5.0",
      "model_name": "HBoxModel",
      "state": {
       "children": [
        "IPY_MODEL_511d0e73d3c441599ff74817f931f168",
        "IPY_MODEL_cbc9b6e50afd47e9b04abd7f32d25e8f",
        "IPY_MODEL_b67681c58d184f81a9a3a1707e53e80d"
       ],
       "layout": "IPY_MODEL_bf2b2cf9a8024177ba5d87451c653cb8"
      }
     },
     "bbecf1c476804f33aa94b78f36c40d28": {
      "model_module": "@jupyter-widgets/controls",
      "model_module_version": "1.5.0",
      "model_name": "DescriptionStyleModel",
      "state": {
       "description_width": ""
      }
     },
     "bc38555fdc9a446a91755bfe812188c7": {
      "model_module": "@jupyter-widgets/controls",
      "model_module_version": "1.5.0",
      "model_name": "DescriptionStyleModel",
      "state": {
       "description_width": ""
      }
     },
     "bc6bf6fc07ad4bc88f873525363574be": {
      "model_module": "@jupyter-widgets/controls",
      "model_module_version": "1.5.0",
      "model_name": "DescriptionStyleModel",
      "state": {
       "description_width": ""
      }
     },
     "bc94c6e947a94127ab8bf387627ef6a9": {
      "model_module": "@jupyter-widgets/controls",
      "model_module_version": "1.5.0",
      "model_name": "DescriptionStyleModel",
      "state": {
       "description_width": ""
      }
     },
     "bd11b7f9115a488887e60678d34327c9": {
      "model_module": "@jupyter-widgets/controls",
      "model_module_version": "1.5.0",
      "model_name": "HBoxModel",
      "state": {
       "children": [
        "IPY_MODEL_2a860c99603e400d96f7597472c653a2",
        "IPY_MODEL_56cc487949f24079b426da086daac432",
        "IPY_MODEL_51e09fb0786a444a9d9e78a3d63abe5a"
       ],
       "layout": "IPY_MODEL_b4461c44bd5f4103b5e6fd0c44a02a9e"
      }
     },
     "bd25408e58bf407fac6afab8d4d49352": {
      "model_module": "@jupyter-widgets/controls",
      "model_module_version": "1.5.0",
      "model_name": "BoundedIntTextModel",
      "state": {
       "description": "Height",
       "layout": "IPY_MODEL_abc2087c857840b0bb45c832cbf28786",
       "max": 1500,
       "min": 400,
       "step": 100,
       "style": "IPY_MODEL_a1dd4d2d9e0440cf863cca745eb45268",
       "value": 400
      }
     },
     "bde62db43ab140688b4d61dda814117f": {
      "model_module": "@jupyter-widgets/base",
      "model_module_version": "1.2.0",
      "model_name": "LayoutModel",
      "state": {}
     },
     "be905e3403b246c4adece357beb99ad5": {
      "model_module": "@jupyter-widgets/controls",
      "model_module_version": "1.5.0",
      "model_name": "DescriptionStyleModel",
      "state": {
       "description_width": ""
      }
     },
     "be9bf598b34b4b40bc1e99b3b216989a": {
      "model_module": "@jupyter-widgets/controls",
      "model_module_version": "1.5.0",
      "model_name": "ButtonStyleModel",
      "state": {}
     },
     "beb664bd3c5e4566914310d659b8689d": {
      "model_module": "@jupyter-widgets/controls",
      "model_module_version": "1.5.0",
      "model_name": "DropdownModel",
      "state": {
       "_options_labels": [
        "Raw number of results",
        "Proportion of total articles"
       ],
       "index": 0,
       "layout": "IPY_MODEL_2897ce1f50fd4c61a9a86ad8731b47e9",
       "style": "IPY_MODEL_1d8d4d03dd7e4dadb9f6b7f51b70a9b2"
      }
     },
     "bf2b2cf9a8024177ba5d87451c653cb8": {
      "model_module": "@jupyter-widgets/base",
      "model_module_version": "1.2.0",
      "model_name": "LayoutModel",
      "state": {
       "margin": "0 0 20px 0"
      }
     },
     "bf2c8c9d003d4843a3f996fc2a14c00c": {
      "model_module": "@jupyter-widgets/controls",
      "model_module_version": "1.5.0",
      "model_name": "ButtonModel",
      "state": {
       "description": "Remove last query",
       "layout": "IPY_MODEL_bb6e021126c84b50a3ac57be66c58689",
       "style": "IPY_MODEL_f0639b9cc2f048c3863cae0cdee84c99",
       "tooltip": "Remove the last query"
      }
     },
     "bf5fc72dee6b456d94018b0b93b1d704": {
      "model_module": "@jupyter-widgets/controls",
      "model_module_version": "1.5.0",
      "model_name": "DescriptionStyleModel",
      "state": {
       "description_width": ""
      }
     },
     "bf799f76591b4ae984fa6bb634bace06": {
      "model_module": "@jupyter-widgets/controls",
      "model_module_version": "1.5.0",
      "model_name": "DescriptionStyleModel",
      "state": {
       "description_width": ""
      }
     },
     "bfa1a17599f34391a469c6b2282e40f6": {
      "model_module": "@jupyter-widgets/base",
      "model_module_version": "1.2.0",
      "model_name": "LayoutModel",
      "state": {}
     },
     "c03fa30ef7f84c16996df6b22cf13d92": {
      "model_module": "@jupyter-widgets/controls",
      "model_module_version": "1.5.0",
      "model_name": "DescriptionStyleModel",
      "state": {
       "description_width": ""
      }
     },
     "c05eb7196ad14b41a96cae1254ea7fcd": {
      "model_module": "@jupyter-widgets/controls",
      "model_module_version": "1.5.0",
      "model_name": "BoundedIntTextModel",
      "state": {
       "description": "Width",
       "layout": "IPY_MODEL_0e0fbf6a06b74447aa218b90692f6fbf",
       "max": 2000,
       "min": 700,
       "step": 100,
       "style": "IPY_MODEL_b87b3c40626b42d885734a36c383f2c1",
       "value": 700
      }
     },
     "c0741c186b5a45a4919be1aa1827a444": {
      "model_module": "@jupyter-widgets/base",
      "model_module_version": "1.2.0",
      "model_name": "LayoutModel",
      "state": {}
     },
     "c084075e49ad44d3bc78b7bb64385203": {
      "model_module": "@jupyter-widgets/base",
      "model_module_version": "1.2.0",
      "model_name": "LayoutModel",
      "state": {}
     },
     "c0e92b116a1b4a7c8d1c9cc18686eddb": {
      "model_module": "@jupyter-widgets/base",
      "model_module_version": "1.2.0",
      "model_name": "LayoutModel",
      "state": {
       "width": "80%"
      }
     },
     "c1986079d83547c1a1b75e34d3b79100": {
      "model_module": "@jupyter-widgets/base",
      "model_module_version": "1.2.0",
      "model_name": "LayoutModel",
      "state": {}
     },
     "c23ae95e627e4212a28a4bfe2bd7a033": {
      "model_module": "@jupyter-widgets/controls",
      "model_module_version": "1.5.0",
      "model_name": "BoundedIntTextModel",
      "state": {
       "description": "Width",
       "layout": "IPY_MODEL_28a0f2ca48ac4b62a249d19802639351",
       "max": 2000,
       "min": 700,
       "step": 100,
       "style": "IPY_MODEL_ee35fe4eca13405cb9932f0646382938",
       "value": 700
      }
     },
     "c26dada0ad0e4a9da83b6c29082b46f4": {
      "model_module": "@jupyter-widgets/output",
      "model_module_version": "1.0.0",
      "model_name": "OutputModel",
      "state": {
       "layout": "IPY_MODEL_af9cf0660a47425082793945600a5158",
       "outputs": [
        {
         "data": {
          "application/vnd.jupyter.widget-view+json": {
           "model_id": "",
           "version_major": 2,
           "version_minor": 0
          },
          "text/plain": "Dropdown(options=(('Raw number of results', 'raw'), ('Proportion of total articles', 'proportion')), value='ra…"
         },
         "metadata": {},
         "output_type": "display_data"
        },
        {
         "data": {
          "text/html": "\n<div id=\"altair-viz-d652f436ce2146508ceac131235f6adc\"></div>\n<script type=\"text/javascript\">\n  var VEGA_DEBUG = (typeof VEGA_DEBUG == \"undefined\") ? {} : VEGA_DEBUG;\n  (function(spec, embedOpt){\n    let outputDiv = document.currentScript.previousElementSibling;\n    if (outputDiv.id !== \"altair-viz-d652f436ce2146508ceac131235f6adc\") {\n      outputDiv = document.getElementById(\"altair-viz-d652f436ce2146508ceac131235f6adc\");\n    }\n    const paths = {\n      \"vega\": \"https://cdn.jsdelivr.net/npm//vega@5?noext\",\n      \"vega-lib\": \"https://cdn.jsdelivr.net/npm//vega-lib?noext\",\n      \"vega-lite\": \"https://cdn.jsdelivr.net/npm//vega-lite@4.17.0?noext\",\n      \"vega-embed\": \"https://cdn.jsdelivr.net/npm//vega-embed@6?noext\",\n    };\n\n    function maybeLoadScript(lib, version) {\n      var key = `${lib.replace(\"-\", \"\")}_version`;\n      return (VEGA_DEBUG[key] == version) ?\n        Promise.resolve(paths[lib]) :\n        new Promise(function(resolve, reject) {\n          var s = document.createElement('script');\n          document.getElementsByTagName(\"head\")[0].appendChild(s);\n          s.async = true;\n          s.onload = () => {\n            VEGA_DEBUG[key] = version;\n            return resolve(paths[lib]);\n          };\n          s.onerror = () => reject(`Error loading script: ${paths[lib]}`);\n          s.src = paths[lib];\n        });\n    }\n\n    function showError(err) {\n      outputDiv.innerHTML = `<div class=\"error\" style=\"color:red;\">${err}</div>`;\n      throw err;\n    }\n\n    function displayChart(vegaEmbed) {\n      vegaEmbed(outputDiv, spec, embedOpt)\n        .catch(err => showError(`Javascript Error: ${err.message}<br>This usually means there's a typo in your chart specification. See the javascript console for the full traceback.`));\n    }\n\n    if(typeof define === \"function\" && define.amd) {\n      requirejs.config({paths});\n      require([\"vega-embed\"], displayChart, err => showError(`Error loading script: ${err.message}`));\n    } else {\n      maybeLoadScript(\"vega\", \"5\")\n        .then(() => maybeLoadScript(\"vega-lite\", \"4.17.0\"))\n        .then(() => maybeLoadScript(\"vega-embed\", \"6\"))\n        .catch(showError)\n        .then(() => displayChart(vegaEmbed));\n    }\n  })({\"usermeta\": {\"embedOptions\": {\"loader\": {\"target\": \"_blank\"}}}, \"vconcat\": [{\"data\": {\"name\": \"data-82054f5faec3e16ceea130d99ce922e3\"}, \"mark\": {\"type\": \"line\", \"interpolate\": \"cardinal\", \"point\": true}, \"encoding\": {\"color\": {\"field\": \"id\", \"legend\": {\"title\": \"\"}, \"type\": \"nominal\"}, \"href\": {\"field\": \"url\", \"type\": \"nominal\"}, \"tooltip\": [{\"field\": \"id\", \"title\": \"query\", \"type\": \"nominal\"}, {\"field\": \"date\", \"timeUnit\": \"year\", \"title\": \"year\", \"type\": \"temporal\"}, {\"field\": \"total_results\", \"format\": \",\", \"title\": \"results\", \"type\": \"quantitative\"}, {\"field\": \"PercentOfTotal\", \"format\": \".2%\", \"title\": \"proportion\", \"type\": \"quantitative\"}], \"x\": {\"axis\": {\"title\": \"Year\"}, \"field\": \"date\", \"scale\": {\"padding\": 10}, \"timeUnit\": \"year\", \"type\": \"temporal\"}, \"y\": {\"axis\": {\"format\": \",d\", \"title\": \"Number of articles\"}, \"field\": \"total_results\", \"type\": \"quantitative\"}}, \"height\": 400, \"title\": {\"text\": \"Trove Newspapers & Gazettes Search\", \"subtitle\": \"Created by QueryPic: 24 June 2022\"}, \"transform\": [{\"calculate\": \"datum.total_results / datum.total_articles\", \"as\": \"PercentOfTotal\"}], \"width\": 800}, {\"data\": {\"name\": \"data-a84671b8975528608e8fe6591fb4c574\"}, \"mark\": {\"type\": \"text\", \"align\": \"left\", \"baseline\": \"middle\", \"dx\": 2, \"dy\": 1}, \"encoding\": {\"color\": {\"value\": \"blue\"}, \"href\": {\"field\": \"url\", \"type\": \"nominal\"}, \"text\": {\"field\": \"url\", \"type\": \"nominal\"}, \"x\": {\"axis\": null, \"field\": \"x\", \"scale\": {\"range\": [0, 1]}, \"title\": null, \"type\": \"quantitative\"}, \"y\": {\"axis\": {\"domain\": false, \"grid\": false, \"labelFontWeight\": \"bold\"}, \"field\": \"id\", \"title\": null, \"type\": \"ordinal\"}}}], \"config\": {\"padding\": 20, \"title\": {\"fontSize\": 14}, \"view\": {\"strokeWidth\": 0}}, \"$schema\": \"https://vega.github.io/schema/vega-lite/v4.17.0.json\", \"datasets\": {\"data-82054f5faec3e16ceea130d99ce922e3\": [{\"date\": \"1850-01-02\", \"total_results\": 0, \"total_articles\": 0, \"url\": \"https://trove.nla.gov.au/search/category/newspapers?keyword=text%3A%22darling%20wife%22%20date%3A%5B1850%20TO%201954%5D&l-decade=185&l-year=1850\", \"id\": \"Query 1\"}, {\"date\": \"1851-01-02\", \"total_results\": 0, \"total_articles\": 0, \"url\": \"https://trove.nla.gov.au/search/category/newspapers?keyword=text%3A%22darling%20wife%22%20date%3A%5B1850%20TO%201954%5D&l-decade=185&l-year=1851\", \"id\": \"Query 1\"}, {\"date\": \"1852-01-02\", \"total_results\": 0, \"total_articles\": 0, \"url\": \"https://trove.nla.gov.au/search/category/newspapers?keyword=text%3A%22darling%20wife%22%20date%3A%5B1850%20TO%201954%5D&l-decade=185&l-year=1852\", \"id\": \"Query 1\"}, {\"date\": \"1853-01-02\", \"total_results\": 0, \"total_articles\": 0, \"url\": \"https://trove.nla.gov.au/search/category/newspapers?keyword=text%3A%22darling%20wife%22%20date%3A%5B1850%20TO%201954%5D&l-decade=185&l-year=1853\", \"id\": \"Query 1\"}, {\"date\": \"1854-01-02\", \"total_results\": 0, \"total_articles\": 0, \"url\": \"https://trove.nla.gov.au/search/category/newspapers?keyword=text%3A%22darling%20wife%22%20date%3A%5B1850%20TO%201954%5D&l-decade=185&l-year=1854\", \"id\": \"Query 1\"}, {\"date\": \"1855-01-02\", \"total_results\": 0, \"total_articles\": 0, \"url\": \"https://trove.nla.gov.au/search/category/newspapers?keyword=text%3A%22darling%20wife%22%20date%3A%5B1850%20TO%201954%5D&l-decade=185&l-year=1855\", \"id\": \"Query 1\"}, {\"date\": \"1856-01-02\", \"total_results\": 0, \"total_articles\": 0, \"url\": \"https://trove.nla.gov.au/search/category/newspapers?keyword=text%3A%22darling%20wife%22%20date%3A%5B1850%20TO%201954%5D&l-decade=185&l-year=1856\", \"id\": \"Query 1\"}, {\"date\": \"1857-01-02\", \"total_results\": 0, \"total_articles\": 0, \"url\": \"https://trove.nla.gov.au/search/category/newspapers?keyword=text%3A%22darling%20wife%22%20date%3A%5B1850%20TO%201954%5D&l-decade=185&l-year=1857\", \"id\": \"Query 1\"}, {\"date\": \"1858-01-02\", \"total_results\": 0, \"total_articles\": 0, \"url\": \"https://trove.nla.gov.au/search/category/newspapers?keyword=text%3A%22darling%20wife%22%20date%3A%5B1850%20TO%201954%5D&l-decade=185&l-year=1858\", \"id\": \"Query 1\"}, {\"date\": \"1859-01-02\", \"total_results\": 0, \"total_articles\": 0, \"url\": \"https://trove.nla.gov.au/search/category/newspapers?keyword=text%3A%22darling%20wife%22%20date%3A%5B1850%20TO%201954%5D&l-decade=185&l-year=1859\", \"id\": \"Query 1\"}, {\"date\": \"1860-01-02\", \"total_results\": 0, \"total_articles\": 0, \"url\": \"https://trove.nla.gov.au/search/category/newspapers?keyword=text%3A%22darling%20wife%22%20date%3A%5B1850%20TO%201954%5D&l-decade=186&l-year=1860\", \"id\": \"Query 1\"}, {\"date\": \"1861-01-02\", \"total_results\": 0, \"total_articles\": 0, \"url\": \"https://trove.nla.gov.au/search/category/newspapers?keyword=text%3A%22darling%20wife%22%20date%3A%5B1850%20TO%201954%5D&l-decade=186&l-year=1861\", \"id\": \"Query 1\"}, {\"date\": \"1862-01-02\", \"total_results\": 0, \"total_articles\": 0, \"url\": \"https://trove.nla.gov.au/search/category/newspapers?keyword=text%3A%22darling%20wife%22%20date%3A%5B1850%20TO%201954%5D&l-decade=186&l-year=1862\", \"id\": \"Query 1\"}, {\"date\": \"1863-01-02\", \"total_results\": 0, \"total_articles\": 0, \"url\": \"https://trove.nla.gov.au/search/category/newspapers?keyword=text%3A%22darling%20wife%22%20date%3A%5B1850%20TO%201954%5D&l-decade=186&l-year=1863\", \"id\": \"Query 1\"}, {\"date\": \"1864-01-02\", \"total_results\": 0, \"total_articles\": 0, \"url\": \"https://trove.nla.gov.au/search/category/newspapers?keyword=text%3A%22darling%20wife%22%20date%3A%5B1850%20TO%201954%5D&l-decade=186&l-year=1864\", \"id\": \"Query 1\"}, {\"date\": \"1865-01-02\", \"total_results\": 0, \"total_articles\": 0, \"url\": \"https://trove.nla.gov.au/search/category/newspapers?keyword=text%3A%22darling%20wife%22%20date%3A%5B1850%20TO%201954%5D&l-decade=186&l-year=1865\", \"id\": \"Query 1\"}, {\"date\": \"1866-01-02\", \"total_results\": 0, \"total_articles\": 0, \"url\": \"https://trove.nla.gov.au/search/category/newspapers?keyword=text%3A%22darling%20wife%22%20date%3A%5B1850%20TO%201954%5D&l-decade=186&l-year=1866\", \"id\": \"Query 1\"}, {\"date\": \"1867-01-02\", \"total_results\": 0, \"total_articles\": 0, \"url\": \"https://trove.nla.gov.au/search/category/newspapers?keyword=text%3A%22darling%20wife%22%20date%3A%5B1850%20TO%201954%5D&l-decade=186&l-year=1867\", \"id\": \"Query 1\"}, {\"date\": \"1868-01-02\", \"total_results\": 0, \"total_articles\": 0, \"url\": \"https://trove.nla.gov.au/search/category/newspapers?keyword=text%3A%22darling%20wife%22%20date%3A%5B1850%20TO%201954%5D&l-decade=186&l-year=1868\", \"id\": \"Query 1\"}, {\"date\": \"1869-01-02\", \"total_results\": 0, \"total_articles\": 0, \"url\": \"https://trove.nla.gov.au/search/category/newspapers?keyword=text%3A%22darling%20wife%22%20date%3A%5B1850%20TO%201954%5D&l-decade=186&l-year=1869\", \"id\": \"Query 1\"}, {\"date\": \"1870-01-02\", \"total_results\": 0, \"total_articles\": 0, \"url\": \"https://trove.nla.gov.au/search/category/newspapers?keyword=text%3A%22darling%20wife%22%20date%3A%5B1850%20TO%201954%5D&l-decade=187&l-year=1870\", \"id\": \"Query 1\"}, {\"date\": \"1871-01-02\", \"total_results\": 0, \"total_articles\": 0, \"url\": \"https://trove.nla.gov.au/search/category/newspapers?keyword=text%3A%22darling%20wife%22%20date%3A%5B1850%20TO%201954%5D&l-decade=187&l-year=1871\", \"id\": \"Query 1\"}, {\"date\": \"1872-01-02\", \"total_results\": 0, \"total_articles\": 0, \"url\": \"https://trove.nla.gov.au/search/category/newspapers?keyword=text%3A%22darling%20wife%22%20date%3A%5B1850%20TO%201954%5D&l-decade=187&l-year=1872\", \"id\": \"Query 1\"}, {\"date\": \"1873-01-02\", \"total_results\": 0, \"total_articles\": 0, \"url\": \"https://trove.nla.gov.au/search/category/newspapers?keyword=text%3A%22darling%20wife%22%20date%3A%5B1850%20TO%201954%5D&l-decade=187&l-year=1873\", \"id\": \"Query 1\"}, {\"date\": \"1874-01-02\", \"total_results\": 0, \"total_articles\": 0, \"url\": \"https://trove.nla.gov.au/search/category/newspapers?keyword=text%3A%22darling%20wife%22%20date%3A%5B1850%20TO%201954%5D&l-decade=187&l-year=1874\", \"id\": \"Query 1\"}, {\"date\": \"1875-01-02\", \"total_results\": 0, \"total_articles\": 0, \"url\": \"https://trove.nla.gov.au/search/category/newspapers?keyword=text%3A%22darling%20wife%22%20date%3A%5B1850%20TO%201954%5D&l-decade=187&l-year=1875\", \"id\": \"Query 1\"}, {\"date\": \"1876-01-02\", \"total_results\": 0, \"total_articles\": 0, \"url\": \"https://trove.nla.gov.au/search/category/newspapers?keyword=text%3A%22darling%20wife%22%20date%3A%5B1850%20TO%201954%5D&l-decade=187&l-year=1876\", \"id\": \"Query 1\"}, {\"date\": \"1877-01-02\", \"total_results\": 0, \"total_articles\": 0, \"url\": \"https://trove.nla.gov.au/search/category/newspapers?keyword=text%3A%22darling%20wife%22%20date%3A%5B1850%20TO%201954%5D&l-decade=187&l-year=1877\", \"id\": \"Query 1\"}, {\"date\": \"1878-01-02\", \"total_results\": 0, \"total_articles\": 0, \"url\": \"https://trove.nla.gov.au/search/category/newspapers?keyword=text%3A%22darling%20wife%22%20date%3A%5B1850%20TO%201954%5D&l-decade=187&l-year=1878\", \"id\": \"Query 1\"}, {\"date\": \"1879-01-02\", \"total_results\": 0, \"total_articles\": 0, \"url\": \"https://trove.nla.gov.au/search/category/newspapers?keyword=text%3A%22darling%20wife%22%20date%3A%5B1850%20TO%201954%5D&l-decade=187&l-year=1879\", \"id\": \"Query 1\"}, {\"date\": \"1880-01-02\", \"total_results\": 0, \"total_articles\": 0, \"url\": \"https://trove.nla.gov.au/search/category/newspapers?keyword=text%3A%22darling%20wife%22%20date%3A%5B1850%20TO%201954%5D&l-decade=188&l-year=1880\", \"id\": \"Query 1\"}, {\"date\": \"1881-01-02\", \"total_results\": 0, \"total_articles\": 0, \"url\": \"https://trove.nla.gov.au/search/category/newspapers?keyword=text%3A%22darling%20wife%22%20date%3A%5B1850%20TO%201954%5D&l-decade=188&l-year=1881\", \"id\": \"Query 1\"}, {\"date\": \"1882-01-02\", \"total_results\": 0, \"total_articles\": 0, \"url\": \"https://trove.nla.gov.au/search/category/newspapers?keyword=text%3A%22darling%20wife%22%20date%3A%5B1850%20TO%201954%5D&l-decade=188&l-year=1882\", \"id\": \"Query 1\"}, {\"date\": \"1883-01-02\", \"total_results\": 0, \"total_articles\": 0, \"url\": \"https://trove.nla.gov.au/search/category/newspapers?keyword=text%3A%22darling%20wife%22%20date%3A%5B1850%20TO%201954%5D&l-decade=188&l-year=1883\", \"id\": \"Query 1\"}, {\"date\": \"1884-01-02\", \"total_results\": 0, \"total_articles\": 0, \"url\": \"https://trove.nla.gov.au/search/category/newspapers?keyword=text%3A%22darling%20wife%22%20date%3A%5B1850%20TO%201954%5D&l-decade=188&l-year=1884\", \"id\": \"Query 1\"}, {\"date\": \"1885-01-02\", \"total_results\": 0, \"total_articles\": 0, \"url\": \"https://trove.nla.gov.au/search/category/newspapers?keyword=text%3A%22darling%20wife%22%20date%3A%5B1850%20TO%201954%5D&l-decade=188&l-year=1885\", \"id\": \"Query 1\"}, {\"date\": \"1886-01-02\", \"total_results\": 0, \"total_articles\": 0, \"url\": \"https://trove.nla.gov.au/search/category/newspapers?keyword=text%3A%22darling%20wife%22%20date%3A%5B1850%20TO%201954%5D&l-decade=188&l-year=1886\", \"id\": \"Query 1\"}, {\"date\": \"1887-01-02\", \"total_results\": 0, \"total_articles\": 0, \"url\": \"https://trove.nla.gov.au/search/category/newspapers?keyword=text%3A%22darling%20wife%22%20date%3A%5B1850%20TO%201954%5D&l-decade=188&l-year=1887\", \"id\": \"Query 1\"}, {\"date\": \"1888-01-02\", \"total_results\": 0, \"total_articles\": 0, \"url\": \"https://trove.nla.gov.au/search/category/newspapers?keyword=text%3A%22darling%20wife%22%20date%3A%5B1850%20TO%201954%5D&l-decade=188&l-year=1888\", \"id\": \"Query 1\"}, {\"date\": \"1889-01-02\", \"total_results\": 0, \"total_articles\": 0, \"url\": \"https://trove.nla.gov.au/search/category/newspapers?keyword=text%3A%22darling%20wife%22%20date%3A%5B1850%20TO%201954%5D&l-decade=188&l-year=1889\", \"id\": \"Query 1\"}, {\"date\": \"1890-01-02\", \"total_results\": 0, \"total_articles\": 0, \"url\": \"https://trove.nla.gov.au/search/category/newspapers?keyword=text%3A%22darling%20wife%22%20date%3A%5B1850%20TO%201954%5D&l-decade=189&l-year=1890\", \"id\": \"Query 1\"}, {\"date\": \"1891-01-02\", \"total_results\": 0, \"total_articles\": 0, \"url\": \"https://trove.nla.gov.au/search/category/newspapers?keyword=text%3A%22darling%20wife%22%20date%3A%5B1850%20TO%201954%5D&l-decade=189&l-year=1891\", \"id\": \"Query 1\"}, {\"date\": \"1892-01-02\", \"total_results\": 0, \"total_articles\": 0, \"url\": \"https://trove.nla.gov.au/search/category/newspapers?keyword=text%3A%22darling%20wife%22%20date%3A%5B1850%20TO%201954%5D&l-decade=189&l-year=1892\", \"id\": \"Query 1\"}, {\"date\": \"1893-01-02\", \"total_results\": 0, \"total_articles\": 0, \"url\": \"https://trove.nla.gov.au/search/category/newspapers?keyword=text%3A%22darling%20wife%22%20date%3A%5B1850%20TO%201954%5D&l-decade=189&l-year=1893\", \"id\": \"Query 1\"}, {\"date\": \"1894-01-02\", \"total_results\": 0, \"total_articles\": 0, \"url\": \"https://trove.nla.gov.au/search/category/newspapers?keyword=text%3A%22darling%20wife%22%20date%3A%5B1850%20TO%201954%5D&l-decade=189&l-year=1894\", \"id\": \"Query 1\"}, {\"date\": \"1895-01-02\", \"total_results\": 0, \"total_articles\": 0, \"url\": \"https://trove.nla.gov.au/search/category/newspapers?keyword=text%3A%22darling%20wife%22%20date%3A%5B1850%20TO%201954%5D&l-decade=189&l-year=1895\", \"id\": \"Query 1\"}, {\"date\": \"1896-01-02\", \"total_results\": 0, \"total_articles\": 0, \"url\": \"https://trove.nla.gov.au/search/category/newspapers?keyword=text%3A%22darling%20wife%22%20date%3A%5B1850%20TO%201954%5D&l-decade=189&l-year=1896\", \"id\": \"Query 1\"}, {\"date\": \"1897-01-02\", \"total_results\": 0, \"total_articles\": 0, \"url\": \"https://trove.nla.gov.au/search/category/newspapers?keyword=text%3A%22darling%20wife%22%20date%3A%5B1850%20TO%201954%5D&l-decade=189&l-year=1897\", \"id\": \"Query 1\"}, {\"date\": \"1898-01-02\", \"total_results\": 0, \"total_articles\": 0, \"url\": \"https://trove.nla.gov.au/search/category/newspapers?keyword=text%3A%22darling%20wife%22%20date%3A%5B1850%20TO%201954%5D&l-decade=189&l-year=1898\", \"id\": \"Query 1\"}, {\"date\": \"1899-01-02\", \"total_results\": 0, \"total_articles\": 0, \"url\": \"https://trove.nla.gov.au/search/category/newspapers?keyword=text%3A%22darling%20wife%22%20date%3A%5B1850%20TO%201954%5D&l-decade=189&l-year=1899\", \"id\": \"Query 1\"}, {\"date\": \"1900-01-02\", \"total_results\": 0, \"total_articles\": 0, \"url\": \"https://trove.nla.gov.au/search/category/newspapers?keyword=text%3A%22darling%20wife%22%20date%3A%5B1850%20TO%201954%5D&l-decade=190&l-year=1900\", \"id\": \"Query 1\"}, {\"date\": \"1901-01-02\", \"total_results\": 0, \"total_articles\": 0, \"url\": \"https://trove.nla.gov.au/search/category/newspapers?keyword=text%3A%22darling%20wife%22%20date%3A%5B1850%20TO%201954%5D&l-decade=190&l-year=1901\", \"id\": \"Query 1\"}, {\"date\": \"1902-01-02\", \"total_results\": 0, \"total_articles\": 0, \"url\": \"https://trove.nla.gov.au/search/category/newspapers?keyword=text%3A%22darling%20wife%22%20date%3A%5B1850%20TO%201954%5D&l-decade=190&l-year=1902\", \"id\": \"Query 1\"}, {\"date\": \"1903-01-02\", \"total_results\": 0, \"total_articles\": 0, \"url\": \"https://trove.nla.gov.au/search/category/newspapers?keyword=text%3A%22darling%20wife%22%20date%3A%5B1850%20TO%201954%5D&l-decade=190&l-year=1903\", \"id\": \"Query 1\"}, {\"date\": \"1904-01-02\", \"total_results\": 0, \"total_articles\": 0, \"url\": \"https://trove.nla.gov.au/search/category/newspapers?keyword=text%3A%22darling%20wife%22%20date%3A%5B1850%20TO%201954%5D&l-decade=190&l-year=1904\", \"id\": \"Query 1\"}, {\"date\": \"1905-01-02\", \"total_results\": 0, \"total_articles\": 0, \"url\": \"https://trove.nla.gov.au/search/category/newspapers?keyword=text%3A%22darling%20wife%22%20date%3A%5B1850%20TO%201954%5D&l-decade=190&l-year=1905\", \"id\": \"Query 1\"}, {\"date\": \"1906-01-02\", \"total_results\": 0, \"total_articles\": 0, \"url\": \"https://trove.nla.gov.au/search/category/newspapers?keyword=text%3A%22darling%20wife%22%20date%3A%5B1850%20TO%201954%5D&l-decade=190&l-year=1906\", \"id\": \"Query 1\"}, {\"date\": \"1907-01-02\", \"total_results\": 0, \"total_articles\": 0, \"url\": \"https://trove.nla.gov.au/search/category/newspapers?keyword=text%3A%22darling%20wife%22%20date%3A%5B1850%20TO%201954%5D&l-decade=190&l-year=1907\", \"id\": \"Query 1\"}, {\"date\": \"1908-01-02\", \"total_results\": 0, \"total_articles\": 0, \"url\": \"https://trove.nla.gov.au/search/category/newspapers?keyword=text%3A%22darling%20wife%22%20date%3A%5B1850%20TO%201954%5D&l-decade=190&l-year=1908\", \"id\": \"Query 1\"}, {\"date\": \"1909-01-02\", \"total_results\": 0, \"total_articles\": 0, \"url\": \"https://trove.nla.gov.au/search/category/newspapers?keyword=text%3A%22darling%20wife%22%20date%3A%5B1850%20TO%201954%5D&l-decade=190&l-year=1909\", \"id\": \"Query 1\"}, {\"date\": \"1910-01-02\", \"total_results\": 0, \"total_articles\": 0, \"url\": \"https://trove.nla.gov.au/search/category/newspapers?keyword=text%3A%22darling%20wife%22%20date%3A%5B1850%20TO%201954%5D&l-decade=191&l-year=1910\", \"id\": \"Query 1\"}, {\"date\": \"1911-01-02\", \"total_results\": 0, \"total_articles\": 0, \"url\": \"https://trove.nla.gov.au/search/category/newspapers?keyword=text%3A%22darling%20wife%22%20date%3A%5B1850%20TO%201954%5D&l-decade=191&l-year=1911\", \"id\": \"Query 1\"}, {\"date\": \"1912-01-02\", \"total_results\": 0, \"total_articles\": 0, \"url\": \"https://trove.nla.gov.au/search/category/newspapers?keyword=text%3A%22darling%20wife%22%20date%3A%5B1850%20TO%201954%5D&l-decade=191&l-year=1912\", \"id\": \"Query 1\"}, {\"date\": \"1913-01-02\", \"total_results\": 0, \"total_articles\": 0, \"url\": \"https://trove.nla.gov.au/search/category/newspapers?keyword=text%3A%22darling%20wife%22%20date%3A%5B1850%20TO%201954%5D&l-decade=191&l-year=1913\", \"id\": \"Query 1\"}, {\"date\": \"1914-01-02\", \"total_results\": 0, \"total_articles\": 0, \"url\": \"https://trove.nla.gov.au/search/category/newspapers?keyword=text%3A%22darling%20wife%22%20date%3A%5B1850%20TO%201954%5D&l-decade=191&l-year=1914\", \"id\": \"Query 1\"}, {\"date\": \"1915-01-02\", \"total_results\": 0, \"total_articles\": 0, \"url\": \"https://trove.nla.gov.au/search/category/newspapers?keyword=text%3A%22darling%20wife%22%20date%3A%5B1850%20TO%201954%5D&l-decade=191&l-year=1915\", \"id\": \"Query 1\"}, {\"date\": \"1916-01-02\", \"total_results\": 0, \"total_articles\": 0, \"url\": \"https://trove.nla.gov.au/search/category/newspapers?keyword=text%3A%22darling%20wife%22%20date%3A%5B1850%20TO%201954%5D&l-decade=191&l-year=1916\", \"id\": \"Query 1\"}, {\"date\": \"1917-01-02\", \"total_results\": 0, \"total_articles\": 0, \"url\": \"https://trove.nla.gov.au/search/category/newspapers?keyword=text%3A%22darling%20wife%22%20date%3A%5B1850%20TO%201954%5D&l-decade=191&l-year=1917\", \"id\": \"Query 1\"}, {\"date\": \"1918-01-02\", \"total_results\": 0, \"total_articles\": 0, \"url\": \"https://trove.nla.gov.au/search/category/newspapers?keyword=text%3A%22darling%20wife%22%20date%3A%5B1850%20TO%201954%5D&l-decade=191&l-year=1918\", \"id\": \"Query 1\"}, {\"date\": \"1919-01-02\", \"total_results\": 0, \"total_articles\": 0, \"url\": \"https://trove.nla.gov.au/search/category/newspapers?keyword=text%3A%22darling%20wife%22%20date%3A%5B1850%20TO%201954%5D&l-decade=191&l-year=1919\", \"id\": \"Query 1\"}, {\"date\": \"1920-01-02\", \"total_results\": 0, \"total_articles\": 0, \"url\": \"https://trove.nla.gov.au/search/category/newspapers?keyword=text%3A%22darling%20wife%22%20date%3A%5B1850%20TO%201954%5D&l-decade=192&l-year=1920\", \"id\": \"Query 1\"}, {\"date\": \"1921-01-02\", \"total_results\": 0, \"total_articles\": 0, \"url\": \"https://trove.nla.gov.au/search/category/newspapers?keyword=text%3A%22darling%20wife%22%20date%3A%5B1850%20TO%201954%5D&l-decade=192&l-year=1921\", \"id\": \"Query 1\"}, {\"date\": \"1922-01-02\", \"total_results\": 0, \"total_articles\": 0, \"url\": \"https://trove.nla.gov.au/search/category/newspapers?keyword=text%3A%22darling%20wife%22%20date%3A%5B1850%20TO%201954%5D&l-decade=192&l-year=1922\", \"id\": \"Query 1\"}, {\"date\": \"1923-01-02\", \"total_results\": 0, \"total_articles\": 0, \"url\": \"https://trove.nla.gov.au/search/category/newspapers?keyword=text%3A%22darling%20wife%22%20date%3A%5B1850%20TO%201954%5D&l-decade=192&l-year=1923\", \"id\": \"Query 1\"}, {\"date\": \"1924-01-02\", \"total_results\": 0, \"total_articles\": 0, \"url\": \"https://trove.nla.gov.au/search/category/newspapers?keyword=text%3A%22darling%20wife%22%20date%3A%5B1850%20TO%201954%5D&l-decade=192&l-year=1924\", \"id\": \"Query 1\"}, {\"date\": \"1925-01-02\", \"total_results\": 0, \"total_articles\": 0, \"url\": \"https://trove.nla.gov.au/search/category/newspapers?keyword=text%3A%22darling%20wife%22%20date%3A%5B1850%20TO%201954%5D&l-decade=192&l-year=1925\", \"id\": \"Query 1\"}, {\"date\": \"1926-01-02\", \"total_results\": 0, \"total_articles\": 0, \"url\": \"https://trove.nla.gov.au/search/category/newspapers?keyword=text%3A%22darling%20wife%22%20date%3A%5B1850%20TO%201954%5D&l-decade=192&l-year=1926\", \"id\": \"Query 1\"}, {\"date\": \"1927-01-02\", \"total_results\": 0, \"total_articles\": 0, \"url\": \"https://trove.nla.gov.au/search/category/newspapers?keyword=text%3A%22darling%20wife%22%20date%3A%5B1850%20TO%201954%5D&l-decade=192&l-year=1927\", \"id\": \"Query 1\"}, {\"date\": \"1928-01-02\", \"total_results\": 0, \"total_articles\": 0, \"url\": \"https://trove.nla.gov.au/search/category/newspapers?keyword=text%3A%22darling%20wife%22%20date%3A%5B1850%20TO%201954%5D&l-decade=192&l-year=1928\", \"id\": \"Query 1\"}, {\"date\": \"1929-01-02\", \"total_results\": 0, \"total_articles\": 0, \"url\": \"https://trove.nla.gov.au/search/category/newspapers?keyword=text%3A%22darling%20wife%22%20date%3A%5B1850%20TO%201954%5D&l-decade=192&l-year=1929\", \"id\": \"Query 1\"}, {\"date\": \"1930-01-02\", \"total_results\": 0, \"total_articles\": 0, \"url\": \"https://trove.nla.gov.au/search/category/newspapers?keyword=text%3A%22darling%20wife%22%20date%3A%5B1850%20TO%201954%5D&l-decade=193&l-year=1930\", \"id\": \"Query 1\"}, {\"date\": \"1931-01-02\", \"total_results\": 0, \"total_articles\": 0, \"url\": \"https://trove.nla.gov.au/search/category/newspapers?keyword=text%3A%22darling%20wife%22%20date%3A%5B1850%20TO%201954%5D&l-decade=193&l-year=1931\", \"id\": \"Query 1\"}, {\"date\": \"1932-01-02\", \"total_results\": 0, \"total_articles\": 0, \"url\": \"https://trove.nla.gov.au/search/category/newspapers?keyword=text%3A%22darling%20wife%22%20date%3A%5B1850%20TO%201954%5D&l-decade=193&l-year=1932\", \"id\": \"Query 1\"}, {\"date\": \"1933-01-02\", \"total_results\": 0, \"total_articles\": 0, \"url\": \"https://trove.nla.gov.au/search/category/newspapers?keyword=text%3A%22darling%20wife%22%20date%3A%5B1850%20TO%201954%5D&l-decade=193&l-year=1933\", \"id\": \"Query 1\"}, {\"date\": \"1934-01-02\", \"total_results\": 0, \"total_articles\": 0, \"url\": \"https://trove.nla.gov.au/search/category/newspapers?keyword=text%3A%22darling%20wife%22%20date%3A%5B1850%20TO%201954%5D&l-decade=193&l-year=1934\", \"id\": \"Query 1\"}, {\"date\": \"1935-01-02\", \"total_results\": 0, \"total_articles\": 0, \"url\": \"https://trove.nla.gov.au/search/category/newspapers?keyword=text%3A%22darling%20wife%22%20date%3A%5B1850%20TO%201954%5D&l-decade=193&l-year=1935\", \"id\": \"Query 1\"}, {\"date\": \"1936-01-02\", \"total_results\": 0, \"total_articles\": 0, \"url\": \"https://trove.nla.gov.au/search/category/newspapers?keyword=text%3A%22darling%20wife%22%20date%3A%5B1850%20TO%201954%5D&l-decade=193&l-year=1936\", \"id\": \"Query 1\"}, {\"date\": \"1937-01-02\", \"total_results\": 0, \"total_articles\": 0, \"url\": \"https://trove.nla.gov.au/search/category/newspapers?keyword=text%3A%22darling%20wife%22%20date%3A%5B1850%20TO%201954%5D&l-decade=193&l-year=1937\", \"id\": \"Query 1\"}, {\"date\": \"1938-01-02\", \"total_results\": 0, \"total_articles\": 0, \"url\": \"https://trove.nla.gov.au/search/category/newspapers?keyword=text%3A%22darling%20wife%22%20date%3A%5B1850%20TO%201954%5D&l-decade=193&l-year=1938\", \"id\": \"Query 1\"}, {\"date\": \"1939-01-02\", \"total_results\": 0, \"total_articles\": 0, \"url\": \"https://trove.nla.gov.au/search/category/newspapers?keyword=text%3A%22darling%20wife%22%20date%3A%5B1850%20TO%201954%5D&l-decade=193&l-year=1939\", \"id\": \"Query 1\"}, {\"date\": \"1940-01-02\", \"total_results\": 0, \"total_articles\": 0, \"url\": \"https://trove.nla.gov.au/search/category/newspapers?keyword=text%3A%22darling%20wife%22%20date%3A%5B1850%20TO%201954%5D&l-decade=194&l-year=1940\", \"id\": \"Query 1\"}, {\"date\": \"1941-01-02\", \"total_results\": 0, \"total_articles\": 0, \"url\": \"https://trove.nla.gov.au/search/category/newspapers?keyword=text%3A%22darling%20wife%22%20date%3A%5B1850%20TO%201954%5D&l-decade=194&l-year=1941\", \"id\": \"Query 1\"}, {\"date\": \"1942-01-02\", \"total_results\": 0, \"total_articles\": 0, \"url\": \"https://trove.nla.gov.au/search/category/newspapers?keyword=text%3A%22darling%20wife%22%20date%3A%5B1850%20TO%201954%5D&l-decade=194&l-year=1942\", \"id\": \"Query 1\"}, {\"date\": \"1943-01-02\", \"total_results\": 0, \"total_articles\": 0, \"url\": \"https://trove.nla.gov.au/search/category/newspapers?keyword=text%3A%22darling%20wife%22%20date%3A%5B1850%20TO%201954%5D&l-decade=194&l-year=1943\", \"id\": \"Query 1\"}, {\"date\": \"1944-01-02\", \"total_results\": 0, \"total_articles\": 0, \"url\": \"https://trove.nla.gov.au/search/category/newspapers?keyword=text%3A%22darling%20wife%22%20date%3A%5B1850%20TO%201954%5D&l-decade=194&l-year=1944\", \"id\": \"Query 1\"}, {\"date\": \"1945-01-02\", \"total_results\": 0, \"total_articles\": 0, \"url\": \"https://trove.nla.gov.au/search/category/newspapers?keyword=text%3A%22darling%20wife%22%20date%3A%5B1850%20TO%201954%5D&l-decade=194&l-year=1945\", \"id\": \"Query 1\"}, {\"date\": \"1946-01-02\", \"total_results\": 0, \"total_articles\": 0, \"url\": \"https://trove.nla.gov.au/search/category/newspapers?keyword=text%3A%22darling%20wife%22%20date%3A%5B1850%20TO%201954%5D&l-decade=194&l-year=1946\", \"id\": \"Query 1\"}, {\"date\": \"1947-01-02\", \"total_results\": 0, \"total_articles\": 0, \"url\": \"https://trove.nla.gov.au/search/category/newspapers?keyword=text%3A%22darling%20wife%22%20date%3A%5B1850%20TO%201954%5D&l-decade=194&l-year=1947\", \"id\": \"Query 1\"}, {\"date\": \"1948-01-02\", \"total_results\": 0, \"total_articles\": 0, \"url\": \"https://trove.nla.gov.au/search/category/newspapers?keyword=text%3A%22darling%20wife%22%20date%3A%5B1850%20TO%201954%5D&l-decade=194&l-year=1948\", \"id\": \"Query 1\"}, {\"date\": \"1949-01-02\", \"total_results\": 0, \"total_articles\": 0, \"url\": \"https://trove.nla.gov.au/search/category/newspapers?keyword=text%3A%22darling%20wife%22%20date%3A%5B1850%20TO%201954%5D&l-decade=194&l-year=1949\", \"id\": \"Query 1\"}, {\"date\": \"1950-01-02\", \"total_results\": 0, \"total_articles\": 0, \"url\": \"https://trove.nla.gov.au/search/category/newspapers?keyword=text%3A%22darling%20wife%22%20date%3A%5B1850%20TO%201954%5D&l-decade=195&l-year=1950\", \"id\": \"Query 1\"}, {\"date\": \"1951-01-02\", \"total_results\": 0, \"total_articles\": 0, \"url\": \"https://trove.nla.gov.au/search/category/newspapers?keyword=text%3A%22darling%20wife%22%20date%3A%5B1850%20TO%201954%5D&l-decade=195&l-year=1951\", \"id\": \"Query 1\"}, {\"date\": \"1952-01-02\", \"total_results\": 0, \"total_articles\": 0, \"url\": \"https://trove.nla.gov.au/search/category/newspapers?keyword=text%3A%22darling%20wife%22%20date%3A%5B1850%20TO%201954%5D&l-decade=195&l-year=1952\", \"id\": \"Query 1\"}, {\"date\": \"1953-01-02\", \"total_results\": 0, \"total_articles\": 0, \"url\": \"https://trove.nla.gov.au/search/category/newspapers?keyword=text%3A%22darling%20wife%22%20date%3A%5B1850%20TO%201954%5D&l-decade=195&l-year=1953\", \"id\": \"Query 1\"}], \"data-a84671b8975528608e8fe6591fb4c574\": [{\"x\": 0, \"y\": 0, \"id\": \"Query 1\", \"url\": \"https://trove.nla.gov.au/search/category/newspapers?keyword=text%3A%22darling%20wife%22%20date%3A%5B1850%20TO%201954%5D\", \"params\": \"keyword=text%3A%22darling%20wife%22%20date%3A%5B1850%20TO%201954%5D\"}]}}, {\"mode\": \"vega-lite\"});\n</script>",
          "text/plain": "alt.VConcatChart(...)"
         },
         "metadata": {},
         "output_type": "display_data"
        }
       ]
      }
     },
     "c272414b774642deb3287b9ada351a97": {
      "model_module": "@jupyter-widgets/base",
      "model_module_version": "1.2.0",
      "model_name": "LayoutModel",
      "state": {}
     },
     "c2e0ed63d05947b48cb95cb4c00b2447": {
      "model_module": "@jupyter-widgets/controls",
      "model_module_version": "1.5.0",
      "model_name": "ButtonModel",
      "state": {
       "button_style": "primary",
       "description": "Save chart as HTML",
       "layout": "IPY_MODEL_5007c7e4b5ec42f7aa56c96c1d5953f1",
       "style": "IPY_MODEL_be9bf598b34b4b40bc1e99b3b216989a",
       "tooltip": "Save chart as HTML"
      }
     },
     "c3bf6272e54a4cae9976048a3b93fb93": {
      "model_module": "@jupyter-widgets/controls",
      "model_module_version": "1.5.0",
      "model_name": "DescriptionStyleModel",
      "state": {
       "description_width": ""
      }
     },
     "c3c019d3018d4a2caf7988371b3b2e48": {
      "model_module": "@jupyter-widgets/controls",
      "model_module_version": "1.5.0",
      "model_name": "ButtonStyleModel",
      "state": {}
     },
     "c3fc331e9ca94438892b9a236a8000f0": {
      "model_module": "@jupyter-widgets/base",
      "model_module_version": "1.2.0",
      "model_name": "LayoutModel",
      "state": {}
     },
     "c4c9d266e93942feb56fc515c1cb7d53": {
      "model_module": "@jupyter-widgets/controls",
      "model_module_version": "1.5.0",
      "model_name": "FloatProgressModel",
      "state": {
       "layout": "IPY_MODEL_fc66508a8825470f95f7cf40ef564786",
       "max": 31,
       "style": "IPY_MODEL_744b3216a6b84f3cb0cc724297d5f70d",
       "value": 31
      }
     },
     "c4d86249b0514fa9b0462b8f2a1ee986": {
      "model_module": "@jupyter-widgets/base",
      "model_module_version": "1.2.0",
      "model_name": "LayoutModel",
      "state": {}
     },
     "c52ea7867f9a4679a35646b70a40cd77": {
      "model_module": "@jupyter-widgets/controls",
      "model_module_version": "1.5.0",
      "model_name": "VBoxModel",
      "state": {
       "children": [
        "IPY_MODEL_856ac167677e46399473211313f86d00",
        "IPY_MODEL_2d0531c624734b759587bd96b61c1730",
        "IPY_MODEL_184418b8f9b1447e891234a1c0ea56a7"
       ],
       "layout": "IPY_MODEL_c0741c186b5a45a4919be1aa1827a444"
      }
     },
     "c58be535fba24a668071dc0365f26c7c": {
      "model_module": "@jupyter-widgets/base",
      "model_module_version": "1.2.0",
      "model_name": "LayoutModel",
      "state": {}
     },
     "c5a1879640fa41f4a4e514cc1e6fbf35": {
      "model_module": "@jupyter-widgets/controls",
      "model_module_version": "1.5.0",
      "model_name": "HTMLModel",
      "state": {
       "layout": "IPY_MODEL_313bae3ac6c1415cb6d335affa017f2a",
       "style": "IPY_MODEL_152e37f29a6349daaa51f6f416287ef1",
       "value": "100%"
      }
     },
     "c6b32b0205eb4f54af29fad48a22f06a": {
      "model_module": "@jupyter-widgets/base",
      "model_module_version": "1.2.0",
      "model_name": "LayoutModel",
      "state": {}
     },
     "c6f054bc219443559eb89ddd3c7cc29c": {
      "model_module": "@jupyter-widgets/base",
      "model_module_version": "1.2.0",
      "model_name": "LayoutModel",
      "state": {}
     },
     "c721b372f8074f5f9f21910974a358a3": {
      "model_module": "@jupyter-widgets/controls",
      "model_module_version": "1.5.0",
      "model_name": "DropdownModel",
      "state": {
       "_options_labels": [
        "Automatic",
        "Year",
        "Month",
        "Day"
       ],
       "description": "Time unit:",
       "index": 0,
       "layout": "IPY_MODEL_7ae3865b478f4be7a728bb3e7c6892be",
       "style": "IPY_MODEL_6f0a4ca5a2364d44bab087dab16fde8f"
      }
     },
     "c738bc147693424e838f26773d48e3d4": {
      "model_module": "@jupyter-widgets/controls",
      "model_module_version": "1.5.0",
      "model_name": "ProgressStyleModel",
      "state": {
       "description_width": ""
      }
     },
     "c791951a8afd435a8c51a6c3d4869888": {
      "model_module": "@jupyter-widgets/base",
      "model_module_version": "1.2.0",
      "model_name": "LayoutModel",
      "state": {
       "margin": "50px 0 50px 0"
      }
     },
     "c7b689ffce404ce78e9a886a0b87bafe": {
      "model_module": "@jupyter-widgets/controls",
      "model_module_version": "1.5.0",
      "model_name": "VBoxModel",
      "state": {
       "children": [
        "IPY_MODEL_f9703895df184ce48260a9c6062e7dd0",
        "IPY_MODEL_101988a3a6be43929868c132958b1432",
        "IPY_MODEL_cf9d75de970d4f5ca7a2c5a6f15ac4be"
       ],
       "layout": "IPY_MODEL_39542b4faa7f4e6db49cb3f5df7b65dc"
      }
     },
     "c7d150b208d540bcb45d0c19fafa3f97": {
      "model_module": "@jupyter-widgets/controls",
      "model_module_version": "1.5.0",
      "model_name": "ProgressStyleModel",
      "state": {
       "description_width": ""
      }
     },
     "c858a67d8e5f428aaca5a0b30d21ea9f": {
      "model_module": "@jupyter-widgets/base",
      "model_module_version": "1.2.0",
      "model_name": "LayoutModel",
      "state": {
       "margin": "50px 0 50px 0"
      }
     },
     "c8757796f74e486ca94571f016472d00": {
      "model_module": "@jupyter-widgets/base",
      "model_module_version": "1.2.0",
      "model_name": "LayoutModel",
      "state": {}
     },
     "c876d96e63724117b38ac1904e781b24": {
      "model_module": "@jupyter-widgets/base",
      "model_module_version": "1.2.0",
      "model_name": "LayoutModel",
      "state": {
       "margin": "0 0 20px 0"
      }
     },
     "c8e0ed56b9db4a488529415c49918086": {
      "model_module": "@jupyter-widgets/controls",
      "model_module_version": "1.5.0",
      "model_name": "DescriptionStyleModel",
      "state": {
       "description_width": ""
      }
     },
     "c94b97575a1e4139ac775c612440a250": {
      "model_module": "@jupyter-widgets/output",
      "model_module_version": "1.0.0",
      "model_name": "OutputModel",
      "state": {
       "layout": "IPY_MODEL_f0706379575d483e840f3d528c458d68"
      }
     },
     "c971b5c73e8941f9bf415983d4676f32": {
      "model_module": "@jupyter-widgets/controls",
      "model_module_version": "1.5.0",
      "model_name": "DescriptionStyleModel",
      "state": {
       "description_width": ""
      }
     },
     "c995a93725954f34b3fd7d4c8e70de62": {
      "model_module": "@jupyter-widgets/base",
      "model_module_version": "1.2.0",
      "model_name": "LayoutModel",
      "state": {}
     },
     "c99821b432cd4ebab5a97685b28e1911": {
      "model_module": "@jupyter-widgets/base",
      "model_module_version": "1.2.0",
      "model_name": "LayoutModel",
      "state": {}
     },
     "ca3608f0280a4c9cadfdb167a5f9f607": {
      "model_module": "@jupyter-widgets/controls",
      "model_module_version": "1.5.0",
      "model_name": "DescriptionStyleModel",
      "state": {
       "description_width": ""
      }
     },
     "ca535de451fa4436a8d2f0e8621f818d": {
      "model_module": "@jupyter-widgets/controls",
      "model_module_version": "1.5.0",
      "model_name": "TextModel",
      "state": {
       "description": "Query:",
       "layout": "IPY_MODEL_7aac87d3d54443dd8aea39cffe9689cb",
       "placeholder": "Enter your search query",
       "style": "IPY_MODEL_79260c1083b34dc89b557a6cbe786d2e",
       "value": "https://trove.nla.gov.au/search/category/newspapers?keyword=text%3A%22darling%20wife%22%20date%3A%5B1850%20TO%201954%5D"
      }
     },
     "ca8bd84a8eac4eebbec0b2fdb6795c73": {
      "model_module": "@jupyter-widgets/controls",
      "model_module_version": "1.5.0",
      "model_name": "DropdownModel",
      "state": {
       "_options_labels": [
        "Automatic",
        "Year",
        "Month",
        "Day"
       ],
       "description": "Time unit:",
       "index": 0,
       "layout": "IPY_MODEL_df66a8f80f60494882ab73098ab1b472",
       "style": "IPY_MODEL_2d616f49b247468482c640375e7f098b"
      }
     },
     "cb262fec85704498a15a06e5565955d6": {
      "model_module": "@jupyter-widgets/controls",
      "model_module_version": "1.5.0",
      "model_name": "TextModel",
      "state": {
       "description": "Query:",
       "layout": "IPY_MODEL_c0e92b116a1b4a7c8d1c9cc18686eddb",
       "placeholder": "Enter your search query",
       "style": "IPY_MODEL_4728a7624370469ea883b36496c930c8",
       "value": "https://trove.nla.gov.au/search/category/newspapers?keyword=cat%20date:[1899-12-31T00:00:00Z TO 1950-01-31T00:00:00Z]"
      }
     },
     "cb38f3f7f3824fe893eff6eb031e5b0f": {
      "model_module": "@jupyter-widgets/controls",
      "model_module_version": "1.5.0",
      "model_name": "ButtonModel",
      "state": {
       "button_style": "primary",
       "description": "Visualise query",
       "layout": "IPY_MODEL_1bba6bad32674a96bed3683c3f258c48",
       "style": "IPY_MODEL_2d7f5ea811a34bc0a867e1de41ef56e8",
       "tooltip": "Create chart from query"
      }
     },
     "cb4921da1a0345b8b7d2af72229a4f00": {
      "model_module": "@jupyter-widgets/controls",
      "model_module_version": "1.5.0",
      "model_name": "HBoxModel",
      "state": {
       "children": [
        "IPY_MODEL_4caeb068e48c47d78d2524de57883546",
        "IPY_MODEL_79d7144c9d414a1bb66e20e03323f4f7",
        "IPY_MODEL_6843b1d57eb4418393ddec0f2038642d"
       ],
       "layout": "IPY_MODEL_a2d1bbc156254b3dae167db449e13b86"
      }
     },
     "cb55c2f66f2d452c982b58c46f6f761a": {
      "model_module": "@jupyter-widgets/output",
      "model_module_version": "1.0.0",
      "model_name": "OutputModel",
      "state": {
       "layout": "IPY_MODEL_65569254d21143f1b70fe45d14cc48ea",
       "outputs": [
        {
         "data": {
          "application/vnd.jupyter.widget-view+json": {
           "model_id": "",
           "version_major": 2,
           "version_minor": 0
          },
          "text/plain": "Dropdown(options=(('Raw number of results', 'raw'), ('Proportion of total articles', 'proportion')), value='ra…"
         },
         "metadata": {},
         "output_type": "display_data"
        },
        {
         "data": {
          "text/html": "\n<div id=\"altair-viz-61cd7c66f928435d8ff3ba2474c6ba57\"></div>\n<script type=\"text/javascript\">\n  var VEGA_DEBUG = (typeof VEGA_DEBUG == \"undefined\") ? {} : VEGA_DEBUG;\n  (function(spec, embedOpt){\n    let outputDiv = document.currentScript.previousElementSibling;\n    if (outputDiv.id !== \"altair-viz-61cd7c66f928435d8ff3ba2474c6ba57\") {\n      outputDiv = document.getElementById(\"altair-viz-61cd7c66f928435d8ff3ba2474c6ba57\");\n    }\n    const paths = {\n      \"vega\": \"https://cdn.jsdelivr.net/npm//vega@5?noext\",\n      \"vega-lib\": \"https://cdn.jsdelivr.net/npm//vega-lib?noext\",\n      \"vega-lite\": \"https://cdn.jsdelivr.net/npm//vega-lite@4.17.0?noext\",\n      \"vega-embed\": \"https://cdn.jsdelivr.net/npm//vega-embed@6?noext\",\n    };\n\n    function maybeLoadScript(lib, version) {\n      var key = `${lib.replace(\"-\", \"\")}_version`;\n      return (VEGA_DEBUG[key] == version) ?\n        Promise.resolve(paths[lib]) :\n        new Promise(function(resolve, reject) {\n          var s = document.createElement('script');\n          document.getElementsByTagName(\"head\")[0].appendChild(s);\n          s.async = true;\n          s.onload = () => {\n            VEGA_DEBUG[key] = version;\n            return resolve(paths[lib]);\n          };\n          s.onerror = () => reject(`Error loading script: ${paths[lib]}`);\n          s.src = paths[lib];\n        });\n    }\n\n    function showError(err) {\n      outputDiv.innerHTML = `<div class=\"error\" style=\"color:red;\">${err}</div>`;\n      throw err;\n    }\n\n    function displayChart(vegaEmbed) {\n      vegaEmbed(outputDiv, spec, embedOpt)\n        .catch(err => showError(`Javascript Error: ${err.message}<br>This usually means there's a typo in your chart specification. See the javascript console for the full traceback.`));\n    }\n\n    if(typeof define === \"function\" && define.amd) {\n      requirejs.config({paths});\n      require([\"vega-embed\"], displayChart, err => showError(`Error loading script: ${err.message}`));\n    } else {\n      maybeLoadScript(\"vega\", \"5\")\n        .then(() => maybeLoadScript(\"vega-lite\", \"4.17.0\"))\n        .then(() => maybeLoadScript(\"vega-embed\", \"6\"))\n        .catch(showError)\n        .then(() => displayChart(vegaEmbed));\n    }\n  })({\"usermeta\": {\"embedOptions\": {\"loader\": {\"target\": \"_blank\"}}}, \"vconcat\": [{\"data\": {\"name\": \"data-57a37bb7a68a03e27f5940d05f613ea0\"}, \"mark\": {\"type\": \"line\", \"interpolate\": \"cardinal\", \"point\": true}, \"encoding\": {\"color\": {\"field\": \"id\", \"legend\": {\"title\": \"\"}, \"type\": \"nominal\"}, \"href\": {\"field\": \"url\", \"type\": \"nominal\"}, \"tooltip\": [{\"field\": \"id\", \"title\": \"query\", \"type\": \"nominal\"}, {\"field\": \"date\", \"format\": \"%A, %e %b %Y\", \"title\": \"date\", \"type\": \"temporal\"}, {\"field\": \"total_results\", \"format\": \",\", \"title\": \"results\", \"type\": \"quantitative\"}, {\"field\": \"PercentOfTotal\", \"format\": \".2%\", \"title\": \"proportion\", \"type\": \"quantitative\"}], \"x\": {\"axis\": {\"format\": \"%e %b %Y\", \"title\": \"Date\"}, \"field\": \"date\", \"scale\": {\"padding\": 10}, \"type\": \"temporal\"}, \"y\": {\"axis\": {\"format\": \",d\", \"title\": \"Number of articles\"}, \"field\": \"total_results\", \"type\": \"quantitative\"}}, \"height\": 400, \"title\": {\"text\": \"Trove Newspapers & Gazettes Search\", \"subtitle\": \"Created by QueryPic: 24 June 2022\"}, \"transform\": [{\"calculate\": \"datum.total_results / datum.total_articles\", \"as\": \"PercentOfTotal\"}], \"width\": 800}, {\"data\": {\"name\": \"data-7b16cc5db63f16b881b8108e10c4930a\"}, \"mark\": {\"type\": \"text\", \"align\": \"left\", \"baseline\": \"middle\", \"dx\": 2, \"dy\": 1}, \"encoding\": {\"color\": {\"value\": \"blue\"}, \"href\": {\"field\": \"url\", \"type\": \"nominal\"}, \"text\": {\"field\": \"url\", \"type\": \"nominal\"}, \"x\": {\"axis\": null, \"field\": \"x\", \"scale\": {\"range\": [0, 1]}, \"title\": null, \"type\": \"quantitative\"}, \"y\": {\"axis\": {\"domain\": false, \"grid\": false, \"labelFontWeight\": \"bold\"}, \"field\": \"id\", \"title\": null, \"type\": \"ordinal\"}}}], \"config\": {\"padding\": 20, \"title\": {\"fontSize\": 14}, \"view\": {\"strokeWidth\": 0}}, \"$schema\": \"https://vega.github.io/schema/vega-lite/v4.17.0.json\", \"datasets\": {\"data-57a37bb7a68a03e27f5940d05f613ea0\": [{\"date\": \"1900-01-02T00:00:00\", \"total_results\": 132, \"total_articles\": 4755, \"url\": \"https://trove.nla.gov.au/search/category/newspapers?keyword=cat%20 date:[1900-01-01T00:00:00Z TO 1900-01-02T00:00:00T00:00:00Z]\", \"id\": \"Query 1\"}, {\"date\": \"1900-01-03T00:00:00\", \"total_results\": 150, \"total_articles\": 5803, \"url\": \"https://trove.nla.gov.au/search/category/newspapers?keyword=cat%20 date:[1900-01-02T00:00:00Z TO 1900-01-03T00:00:00T00:00:00Z]\", \"id\": \"Query 1\"}, {\"date\": \"1900-01-04T00:00:00\", \"total_results\": 150, \"total_articles\": 5892, \"url\": \"https://trove.nla.gov.au/search/category/newspapers?keyword=cat%20 date:[1900-01-03T00:00:00Z TO 1900-01-04T00:00:00T00:00:00Z]\", \"id\": \"Query 1\"}, {\"date\": \"1900-01-05T00:00:00\", \"total_results\": 251, \"total_articles\": 8681, \"url\": \"https://trove.nla.gov.au/search/category/newspapers?keyword=cat%20 date:[1900-01-04T00:00:00Z TO 1900-01-05T00:00:00T00:00:00Z]\", \"id\": \"Query 1\"}, {\"date\": \"1900-01-06T00:00:00\", \"total_results\": 408, \"total_articles\": 14614, \"url\": \"https://trove.nla.gov.au/search/category/newspapers?keyword=cat%20 date:[1900-01-05T00:00:00Z TO 1900-01-06T00:00:00T00:00:00Z]\", \"id\": \"Query 1\"}, {\"date\": \"1900-01-07T00:00:00\", \"total_results\": 15, \"total_articles\": 536, \"url\": \"https://trove.nla.gov.au/search/category/newspapers?keyword=cat%20 date:[1900-01-06T00:00:00Z TO 1900-01-07T00:00:00T00:00:00Z]\", \"id\": \"Query 1\"}, {\"date\": \"1900-01-08T00:00:00\", \"total_results\": 82, \"total_articles\": 4524, \"url\": \"https://trove.nla.gov.au/search/category/newspapers?keyword=cat%20 date:[1900-01-07T00:00:00Z TO 1900-01-08T00:00:00T00:00:00Z]\", \"id\": \"Query 1\"}, {\"date\": \"1900-01-09T00:00:00\", \"total_results\": 138, \"total_articles\": 6306, \"url\": \"https://trove.nla.gov.au/search/category/newspapers?keyword=cat%20 date:[1900-01-08T00:00:00Z TO 1900-01-09T00:00:00T00:00:00Z]\", \"id\": \"Query 1\"}, {\"date\": \"1900-01-10T00:00:00\", \"total_results\": 131, \"total_articles\": 5992, \"url\": \"https://trove.nla.gov.au/search/category/newspapers?keyword=cat%20 date:[1900-01-09T00:00:00Z TO 1900-01-10T00:00:00T00:00:00Z]\", \"id\": \"Query 1\"}, {\"date\": \"1900-01-11T00:00:00\", \"total_results\": 144, \"total_articles\": 5920, \"url\": \"https://trove.nla.gov.au/search/category/newspapers?keyword=cat%20 date:[1900-01-10T00:00:00Z TO 1900-01-11T00:00:00T00:00:00Z]\", \"id\": \"Query 1\"}, {\"date\": \"1900-01-12T00:00:00\", \"total_results\": 241, \"total_articles\": 8654, \"url\": \"https://trove.nla.gov.au/search/category/newspapers?keyword=cat%20 date:[1900-01-11T00:00:00Z TO 1900-01-12T00:00:00T00:00:00Z]\", \"id\": \"Query 1\"}, {\"date\": \"1900-01-13T00:00:00\", \"total_results\": 426, \"total_articles\": 14324, \"url\": \"https://trove.nla.gov.au/search/category/newspapers?keyword=cat%20 date:[1900-01-12T00:00:00Z TO 1900-01-13T00:00:00T00:00:00Z]\", \"id\": \"Query 1\"}, {\"date\": \"1900-01-14T00:00:00\", \"total_results\": 13, \"total_articles\": 437, \"url\": \"https://trove.nla.gov.au/search/category/newspapers?keyword=cat%20 date:[1900-01-13T00:00:00Z TO 1900-01-14T00:00:00T00:00:00Z]\", \"id\": \"Query 1\"}, {\"date\": \"1900-01-15T00:00:00\", \"total_results\": 80, \"total_articles\": 4436, \"url\": \"https://trove.nla.gov.au/search/category/newspapers?keyword=cat%20 date:[1900-01-14T00:00:00Z TO 1900-01-15T00:00:00T00:00:00Z]\", \"id\": \"Query 1\"}, {\"date\": \"1900-01-16T00:00:00\", \"total_results\": 156, \"total_articles\": 6508, \"url\": \"https://trove.nla.gov.au/search/category/newspapers?keyword=cat%20 date:[1900-01-15T00:00:00Z TO 1900-01-16T00:00:00T00:00:00Z]\", \"id\": \"Query 1\"}, {\"date\": \"1900-01-17T00:00:00\", \"total_results\": 128, \"total_articles\": 6083, \"url\": \"https://trove.nla.gov.au/search/category/newspapers?keyword=cat%20 date:[1900-01-16T00:00:00Z TO 1900-01-17T00:00:00T00:00:00Z]\", \"id\": \"Query 1\"}, {\"date\": \"1900-01-18T00:00:00\", \"total_results\": 145, \"total_articles\": 5842, \"url\": \"https://trove.nla.gov.au/search/category/newspapers?keyword=cat%20 date:[1900-01-17T00:00:00Z TO 1900-01-18T00:00:00T00:00:00Z]\", \"id\": \"Query 1\"}, {\"date\": \"1900-01-19T00:00:00\", \"total_results\": 241, \"total_articles\": 9181, \"url\": \"https://trove.nla.gov.au/search/category/newspapers?keyword=cat%20 date:[1900-01-18T00:00:00Z TO 1900-01-19T00:00:00T00:00:00Z]\", \"id\": \"Query 1\"}, {\"date\": \"1900-01-20T00:00:00\", \"total_results\": 400, \"total_articles\": 14087, \"url\": \"https://trove.nla.gov.au/search/category/newspapers?keyword=cat%20 date:[1900-01-19T00:00:00Z TO 1900-01-20T00:00:00T00:00:00Z]\", \"id\": \"Query 1\"}, {\"date\": \"1900-01-21T00:00:00\", \"total_results\": 16, \"total_articles\": 398, \"url\": \"https://trove.nla.gov.au/search/category/newspapers?keyword=cat%20 date:[1900-01-20T00:00:00Z TO 1900-01-21T00:00:00T00:00:00Z]\", \"id\": \"Query 1\"}, {\"date\": \"1900-01-22T00:00:00\", \"total_results\": 89, \"total_articles\": 4632, \"url\": \"https://trove.nla.gov.au/search/category/newspapers?keyword=cat%20 date:[1900-01-21T00:00:00Z TO 1900-01-22T00:00:00T00:00:00Z]\", \"id\": \"Query 1\"}, {\"date\": \"1900-01-23T00:00:00\", \"total_results\": 148, \"total_articles\": 6447, \"url\": \"https://trove.nla.gov.au/search/category/newspapers?keyword=cat%20 date:[1900-01-22T00:00:00Z TO 1900-01-23T00:00:00T00:00:00Z]\", \"id\": \"Query 1\"}, {\"date\": \"1900-01-24T00:00:00\", \"total_results\": 142, \"total_articles\": 5902, \"url\": \"https://trove.nla.gov.au/search/category/newspapers?keyword=cat%20 date:[1900-01-23T00:00:00Z TO 1900-01-24T00:00:00T00:00:00Z]\", \"id\": \"Query 1\"}, {\"date\": \"1900-01-25T00:00:00\", \"total_results\": 141, \"total_articles\": 6215, \"url\": \"https://trove.nla.gov.au/search/category/newspapers?keyword=cat%20 date:[1900-01-24T00:00:00Z TO 1900-01-25T00:00:00T00:00:00Z]\", \"id\": \"Query 1\"}, {\"date\": \"1900-01-26T00:00:00\", \"total_results\": 245, \"total_articles\": 8752, \"url\": \"https://trove.nla.gov.au/search/category/newspapers?keyword=cat%20 date:[1900-01-25T00:00:00Z TO 1900-01-26T00:00:00T00:00:00Z]\", \"id\": \"Query 1\"}, {\"date\": \"1900-01-27T00:00:00\", \"total_results\": 453, \"total_articles\": 14612, \"url\": \"https://trove.nla.gov.au/search/category/newspapers?keyword=cat%20 date:[1900-01-26T00:00:00Z TO 1900-01-27T00:00:00T00:00:00Z]\", \"id\": \"Query 1\"}, {\"date\": \"1900-01-28T00:00:00\", \"total_results\": 28, \"total_articles\": 564, \"url\": \"https://trove.nla.gov.au/search/category/newspapers?keyword=cat%20 date:[1900-01-27T00:00:00Z TO 1900-01-28T00:00:00T00:00:00Z]\", \"id\": \"Query 1\"}, {\"date\": \"1900-01-29T00:00:00\", \"total_results\": 101, \"total_articles\": 4605, \"url\": \"https://trove.nla.gov.au/search/category/newspapers?keyword=cat%20 date:[1900-01-28T00:00:00Z TO 1900-01-29T00:00:00T00:00:00Z]\", \"id\": \"Query 1\"}, {\"date\": \"1900-01-30T00:00:00\", \"total_results\": 142, \"total_articles\": 6411, \"url\": \"https://trove.nla.gov.au/search/category/newspapers?keyword=cat%20 date:[1900-01-29T00:00:00Z TO 1900-01-30T00:00:00T00:00:00Z]\", \"id\": \"Query 1\"}, {\"date\": \"1900-01-31T00:00:00\", \"total_results\": 154, \"total_articles\": 6030, \"url\": \"https://trove.nla.gov.au/search/category/newspapers?keyword=cat%20 date:[1900-01-30T00:00:00Z TO 1900-01-31T00:00:00T00:00:00Z]\", \"id\": \"Query 1\"}, {\"date\": \"1900-02-01T00:00:00\", \"total_results\": 135, \"total_articles\": 6074, \"url\": \"https://trove.nla.gov.au/search/category/newspapers?keyword=cat%20 date:[1900-01-31T00:00:00Z TO 1900-02-01T00:00:00T00:00:00Z]\", \"id\": \"Query 1\"}], \"data-7b16cc5db63f16b881b8108e10c4930a\": [{\"x\": 0, \"y\": 0, \"id\": \"Query 1\", \"url\": \"https://trove.nla.gov.au/search/category/newspapers?keyword=cat%20date:[1900-01-01T00:00:00Z TO 1900-02-01T00:00:00Z]\", \"params\": \"keyword=cat%20date:[1900-01-01T00:00:00Z TO 1900-02-01T00:00:00Z]\"}]}}, {\"mode\": \"vega-lite\"});\n</script>",
          "text/plain": "alt.VConcatChart(...)"
         },
         "metadata": {},
         "output_type": "display_data"
        }
       ]
      }
     },
     "cb5e73a324bc4bb79de3fe1caf1ed2f3": {
      "model_module": "@jupyter-widgets/base",
      "model_module_version": "1.2.0",
      "model_name": "LayoutModel",
      "state": {}
     },
     "cbc9b6e50afd47e9b04abd7f32d25e8f": {
      "model_module": "@jupyter-widgets/controls",
      "model_module_version": "1.5.0",
      "model_name": "ButtonModel",
      "state": {
       "description": "Remove last query",
       "layout": "IPY_MODEL_6b4e1a1b569546128cd01c2a8f999574",
       "style": "IPY_MODEL_e9faef5a49884ceb919762993546723c",
       "tooltip": "Remove the last query"
      }
     },
     "cbcc594bd3e4410f87dc90b029977617": {
      "model_module": "@jupyter-widgets/controls",
      "model_module_version": "1.5.0",
      "model_name": "HTMLModel",
      "state": {
       "layout": "IPY_MODEL_f33ae31d73b44fba9bbdb54c1ef2490f",
       "style": "IPY_MODEL_e8075bf31df84ba4886040654a7f40d8",
       "value": " 11/11 [00:17&lt;00:00,  1.65s/it]"
      }
     },
     "cc2e23014dc8471c959d54993a1ceb48": {
      "model_module": "@jupyter-widgets/base",
      "model_module_version": "1.2.0",
      "model_name": "LayoutModel",
      "state": {}
     },
     "cc52e25adfe04ea9b404cbfc8e004239": {
      "model_module": "@jupyter-widgets/base",
      "model_module_version": "1.2.0",
      "model_name": "LayoutModel",
      "state": {}
     },
     "cc756486ac394710a5373263108d11b5": {
      "model_module": "@jupyter-widgets/base",
      "model_module_version": "1.2.0",
      "model_name": "LayoutModel",
      "state": {}
     },
     "cc830a07c1f34853a73a0755e012754e": {
      "model_module": "@jupyter-widgets/base",
      "model_module_version": "1.2.0",
      "model_name": "LayoutModel",
      "state": {}
     },
     "cca92cfd8d914326a4bef9a0715f5973": {
      "model_module": "@jupyter-widgets/controls",
      "model_module_version": "1.5.0",
      "model_name": "DescriptionStyleModel",
      "state": {
       "description_width": ""
      }
     },
     "cd39fb97d0e94492803dc66bf2a1f751": {
      "model_module": "@jupyter-widgets/base",
      "model_module_version": "1.2.0",
      "model_name": "LayoutModel",
      "state": {}
     },
     "cd7d26173e00455abd71b255068a783b": {
      "model_module": "@jupyter-widgets/base",
      "model_module_version": "1.2.0",
      "model_name": "LayoutModel",
      "state": {}
     },
     "cdd8c15105074f319e35f5e653b3abd5": {
      "model_module": "@jupyter-widgets/output",
      "model_module_version": "1.0.0",
      "model_name": "OutputModel",
      "state": {
       "layout": "IPY_MODEL_1326909ccbbe4518a127e3098e857644",
       "outputs": [
        {
         "data": {
          "application/vnd.jupyter.widget-view+json": {
           "model_id": "",
           "version_major": 2,
           "version_minor": 0
          },
          "text/plain": "HBox(children=(Button(button_style='primary', description='Save chart as HTML', style=ButtonStyle(), tooltip='…"
         },
         "metadata": {},
         "output_type": "display_data"
        },
        {
         "data": {
          "text/html": "Download data: <a href=\"data/querypic-20220624225531.csv\" download>data/querypic-20220624225531.csv</a>",
          "text/plain": "<IPython.core.display.HTML object>"
         },
         "metadata": {},
         "output_type": "display_data"
        }
       ]
      }
     },
     "ce39d555b77b4da18ff79a8d90ef2300": {
      "model_module": "@jupyter-widgets/base",
      "model_module_version": "1.2.0",
      "model_name": "LayoutModel",
      "state": {}
     },
     "ce3ea6de5a9044cd84508bd339cefbd4": {
      "model_module": "@jupyter-widgets/controls",
      "model_module_version": "1.5.0",
      "model_name": "FloatProgressModel",
      "state": {
       "layout": "IPY_MODEL_22a52b42de9a4b06aa70b985b5fe3146",
       "max": 11,
       "style": "IPY_MODEL_74a8f35e9d02483ab98500bddf136c0d",
       "value": 11
      }
     },
     "ce514c9f049b41fe83bd3a79c541245d": {
      "model_module": "@jupyter-widgets/controls",
      "model_module_version": "1.5.0",
      "model_name": "ButtonModel",
      "state": {
       "description": "Remove last query",
       "layout": "IPY_MODEL_344abb885f464fb6b1fa9f4f6ef196fa",
       "style": "IPY_MODEL_f9d7ea5fbfad4ad58d22380f5995f4f2",
       "tooltip": "Remove the last query"
      }
     },
     "ce9f3442355b45349bad9c138d97b9f1": {
      "model_module": "@jupyter-widgets/controls",
      "model_module_version": "1.5.0",
      "model_name": "DescriptionStyleModel",
      "state": {
       "description_width": ""
      }
     },
     "cef6ca5e5b8d4d6da72ba634bbcf9b14": {
      "model_module": "@jupyter-widgets/base",
      "model_module_version": "1.2.0",
      "model_name": "LayoutModel",
      "state": {}
     },
     "cf02d4afb71141e58972e1cc4f03392d": {
      "model_module": "@jupyter-widgets/base",
      "model_module_version": "1.2.0",
      "model_name": "LayoutModel",
      "state": {}
     },
     "cf43568c496a4a819e724138f312da89": {
      "model_module": "@jupyter-widgets/controls",
      "model_module_version": "1.5.0",
      "model_name": "BoundedIntTextModel",
      "state": {
       "description": "Width",
       "layout": "IPY_MODEL_370829332efc4f9db9990d1c5906b100",
       "max": 2000,
       "min": 700,
       "step": 100,
       "style": "IPY_MODEL_f5874b7213cc47c7a60aedaaf6508a7f",
       "value": 700
      }
     },
     "cf66d78ade4749b7899ce80b97d687c4": {
      "model_module": "@jupyter-widgets/base",
      "model_module_version": "1.2.0",
      "model_name": "LayoutModel",
      "state": {}
     },
     "cf989a31ab3149308c8083f9e810b6a0": {
      "model_module": "@jupyter-widgets/base",
      "model_module_version": "1.2.0",
      "model_name": "LayoutModel",
      "state": {}
     },
     "cf9d75de970d4f5ca7a2c5a6f15ac4be": {
      "model_module": "@jupyter-widgets/output",
      "model_module_version": "1.0.0",
      "model_name": "OutputModel",
      "state": {
       "layout": "IPY_MODEL_7469c4636d854681b692d5900a6bf15d",
       "outputs": [
        {
         "data": {
          "application/vnd.jupyter.widget-view+json": {
           "model_id": "",
           "version_major": 2,
           "version_minor": 0
          },
          "text/plain": "HBox(children=(Button(button_style='primary', description='Save chart as HTML', style=ButtonStyle(), tooltip='…"
         },
         "metadata": {},
         "output_type": "display_data"
        },
        {
         "data": {
          "text/html": "Download data: <a href=\"data/querypic-20220624234425.csv\" download>data/querypic-20220624234425.csv</a>",
          "text/plain": "<IPython.core.display.HTML object>"
         },
         "metadata": {},
         "output_type": "display_data"
        }
       ]
      }
     },
     "d05034023f954b2e96d22fb3b1491d2f": {
      "model_module": "@jupyter-widgets/controls",
      "model_module_version": "1.5.0",
      "model_name": "ButtonModel",
      "state": {
       "description": "Remove last query",
       "layout": "IPY_MODEL_93317219e19a4e7482b783d9f6088bb2",
       "style": "IPY_MODEL_9430caf0c468489cb795841d2aa5f584",
       "tooltip": "Remove the last query"
      }
     },
     "d082d581a0024a37a1241d7d20aafffe": {
      "model_module": "@jupyter-widgets/base",
      "model_module_version": "1.2.0",
      "model_name": "LayoutModel",
      "state": {
       "margin": "50px 0 50px 0"
      }
     },
     "d09e84b662934ebab77f7959702962af": {
      "model_module": "@jupyter-widgets/controls",
      "model_module_version": "1.5.0",
      "model_name": "ButtonModel",
      "state": {
       "button_style": "primary",
       "description": "Visualise query",
       "layout": "IPY_MODEL_f0e2b4c7dce346c28dea930f25c1cdff",
       "style": "IPY_MODEL_b83a8ec607e3445c9dab56e5d1cbefff",
       "tooltip": "Create chart from query"
      }
     },
     "d09fdeddd44d4ad6b784170f66c9aeab": {
      "model_module": "@jupyter-widgets/controls",
      "model_module_version": "1.5.0",
      "model_name": "ButtonStyleModel",
      "state": {}
     },
     "d0a3af6fae4b44c38b8d9617f87516fa": {
      "model_module": "@jupyter-widgets/controls",
      "model_module_version": "1.5.0",
      "model_name": "BoundedIntTextModel",
      "state": {
       "description": "Height",
       "layout": "IPY_MODEL_aa7d4fa89958453cb3743182d617037d",
       "max": 1500,
       "min": 400,
       "step": 100,
       "style": "IPY_MODEL_e97c500c484449e88a39ef46447216e0",
       "value": 400
      }
     },
     "d0a69a9cb760409094146c64c720950a": {
      "model_module": "@jupyter-widgets/controls",
      "model_module_version": "1.5.0",
      "model_name": "DescriptionStyleModel",
      "state": {
       "description_width": ""
      }
     },
     "d1d77102f516478ea1a3b00ec7981520": {
      "model_module": "@jupyter-widgets/base",
      "model_module_version": "1.2.0",
      "model_name": "LayoutModel",
      "state": {}
     },
     "d23446de445e4e7ab913edf06c948722": {
      "model_module": "@jupyter-widgets/base",
      "model_module_version": "1.2.0",
      "model_name": "LayoutModel",
      "state": {}
     },
     "d2f26c2d238c4044a9bb9f4f24d7ac11": {
      "model_module": "@jupyter-widgets/base",
      "model_module_version": "1.2.0",
      "model_name": "LayoutModel",
      "state": {}
     },
     "d389295857814b789757aa9057fa92c7": {
      "model_module": "@jupyter-widgets/base",
      "model_module_version": "1.2.0",
      "model_name": "LayoutModel",
      "state": {}
     },
     "d3b1eab4107d4a8eb73af8b2643441fd": {
      "model_module": "@jupyter-widgets/controls",
      "model_module_version": "1.5.0",
      "model_name": "DropdownModel",
      "state": {
       "_options_labels": [
        "Automatic",
        "Year",
        "Month",
        "Day"
       ],
       "description": "Time unit:",
       "index": 0,
       "layout": "IPY_MODEL_107b7375801448b7838c5fb6555224ac",
       "style": "IPY_MODEL_415fcf03dff34cd999ff763e280721c6"
      }
     },
     "d4115866516e497791dde148c47f7336": {
      "model_module": "@jupyter-widgets/base",
      "model_module_version": "1.2.0",
      "model_name": "LayoutModel",
      "state": {}
     },
     "d531c29e79214e21be10ba21ba4755b7": {
      "model_module": "@jupyter-widgets/controls",
      "model_module_version": "1.5.0",
      "model_name": "ProgressStyleModel",
      "state": {
       "description_width": ""
      }
     },
     "d573ee25a3114f23a41595a20e0f0ead": {
      "model_module": "@jupyter-widgets/controls",
      "model_module_version": "1.5.0",
      "model_name": "ButtonStyleModel",
      "state": {}
     },
     "d660e350a56a43b885d3a9f548a270c4": {
      "model_module": "@jupyter-widgets/base",
      "model_module_version": "1.2.0",
      "model_name": "LayoutModel",
      "state": {
       "margin": "50px 0 50px 0"
      }
     },
     "d68ad6672c0a4f4bb11d226d81aa48d1": {
      "model_module": "@jupyter-widgets/controls",
      "model_module_version": "1.5.0",
      "model_name": "DescriptionStyleModel",
      "state": {
       "description_width": ""
      }
     },
     "d69acc414cfb4d7d88e91620d9901f1e": {
      "model_module": "@jupyter-widgets/controls",
      "model_module_version": "1.5.0",
      "model_name": "DescriptionStyleModel",
      "state": {
       "description_width": ""
      }
     },
     "d6c3310916fd43a3a82e5852cb806d95": {
      "model_module": "@jupyter-widgets/base",
      "model_module_version": "1.2.0",
      "model_name": "LayoutModel",
      "state": {}
     },
     "d6d2ceba9ac147beb565ea607ed0d98a": {
      "model_module": "@jupyter-widgets/base",
      "model_module_version": "1.2.0",
      "model_name": "LayoutModel",
      "state": {
       "margin": "0 0 20px 0"
      }
     },
     "d6e8e47bd48a48e6b4e117156cc957df": {
      "model_module": "@jupyter-widgets/controls",
      "model_module_version": "1.5.0",
      "model_name": "DescriptionStyleModel",
      "state": {
       "description_width": ""
      }
     },
     "d70518e3b5b344558843301d3f39b1e3": {
      "model_module": "@jupyter-widgets/base",
      "model_module_version": "1.2.0",
      "model_name": "LayoutModel",
      "state": {}
     },
     "d7349bf34f0c4797a385b9003de0aea8": {
      "model_module": "@jupyter-widgets/controls",
      "model_module_version": "1.5.0",
      "model_name": "HBoxModel",
      "state": {
       "children": [
        "IPY_MODEL_73efc1d65f9643e2a590ed656c119a22",
        "IPY_MODEL_8d64a3ee529141578ecee6f31af0eca1",
        "IPY_MODEL_ed5a38c274c2401492698372772d1f1e"
       ],
       "layout": "IPY_MODEL_5dcf60f5af9c4ff291e3ceeb939834a3"
      }
     },
     "d738849453a34a949297084f8a3fcf63": {
      "model_module": "@jupyter-widgets/controls",
      "model_module_version": "1.5.0",
      "model_name": "HBoxModel",
      "state": {
       "children": [
        "IPY_MODEL_5c14d9d8ffbf4da099b96e78353b3e4b",
        "IPY_MODEL_518a282e318f49a0a33953a8ebd352e9",
        "IPY_MODEL_4816f38502494436b9af1140341a75df"
       ],
       "layout": "IPY_MODEL_1de603621a054b3e8337ad9b3e840fdc"
      }
     },
     "d74663f7d416466ebc37d58925923d46": {
      "model_module": "@jupyter-widgets/controls",
      "model_module_version": "1.5.0",
      "model_name": "BoundedIntTextModel",
      "state": {
       "description": "Width",
       "layout": "IPY_MODEL_b44fad4dbdb8497bbac4d54a0b4201f5",
       "max": 2000,
       "min": 700,
       "step": 100,
       "style": "IPY_MODEL_1a9ab7a3a9554d909468928b76a273d1",
       "value": 700
      }
     },
     "d7862b39f4914ba2bf22fe3a950e7c5f": {
      "model_module": "@jupyter-widgets/controls",
      "model_module_version": "1.5.0",
      "model_name": "HTMLModel",
      "state": {
       "layout": "IPY_MODEL_512ed86dffa34baaba6b27b9d26b7220",
       "style": "IPY_MODEL_e78752001055444d8d8cf644b9c9134d",
       "value": "100%"
      }
     },
     "d78639d8d76345daa9b74dd0b9c22ee4": {
      "model_module": "@jupyter-widgets/controls",
      "model_module_version": "1.5.0",
      "model_name": "ButtonStyleModel",
      "state": {}
     },
     "d7fbd3d17fa0419f8d8a12013d38c2bf": {
      "model_module": "@jupyter-widgets/controls",
      "model_module_version": "1.5.0",
      "model_name": "DescriptionStyleModel",
      "state": {
       "description_width": ""
      }
     },
     "d8084ca22bbf4944bc4886ce80c80014": {
      "model_module": "@jupyter-widgets/base",
      "model_module_version": "1.2.0",
      "model_name": "LayoutModel",
      "state": {}
     },
     "d89b082cddd6436b8ac0c3ee2a05812b": {
      "model_module": "@jupyter-widgets/base",
      "model_module_version": "1.2.0",
      "model_name": "LayoutModel",
      "state": {}
     },
     "d8d79f9d9b194ff4be799d614119a98a": {
      "model_module": "@jupyter-widgets/base",
      "model_module_version": "1.2.0",
      "model_name": "LayoutModel",
      "state": {}
     },
     "d8f4330d56da436484b22ff173fdcb14": {
      "model_module": "@jupyter-widgets/base",
      "model_module_version": "1.2.0",
      "model_name": "LayoutModel",
      "state": {}
     },
     "d8ffc696cfe2438daf55e2840009bfbd": {
      "model_module": "@jupyter-widgets/controls",
      "model_module_version": "1.5.0",
      "model_name": "DropdownModel",
      "state": {
       "_options_labels": [
        "Raw number of results",
        "Proportion of total articles"
       ],
       "index": 0,
       "layout": "IPY_MODEL_554e950039614b38ab9dba13d59f1ff0",
       "style": "IPY_MODEL_922b401db4f8445b98856f2ae4ca426f"
      }
     },
     "d94f15db5fb24a0bb83fabfe6e4b3f42": {
      "model_module": "@jupyter-widgets/base",
      "model_module_version": "1.2.0",
      "model_name": "LayoutModel",
      "state": {}
     },
     "da04eba6dc8b46e08bf96ff1a81c0428": {
      "model_module": "@jupyter-widgets/base",
      "model_module_version": "1.2.0",
      "model_name": "LayoutModel",
      "state": {}
     },
     "da4b216fe45f4f91ba8eecac13e0d33f": {
      "model_module": "@jupyter-widgets/controls",
      "model_module_version": "1.5.0",
      "model_name": "BoundedIntTextModel",
      "state": {
       "description": "Width",
       "layout": "IPY_MODEL_26023b9849054893b57c2b509fadc80c",
       "max": 2000,
       "min": 700,
       "step": 100,
       "style": "IPY_MODEL_3766ef732b174af2a40e1c5f701b5d98",
       "value": 700
      }
     },
     "da6bfab6fbc04bdaa331c83c3170dccd": {
      "model_module": "@jupyter-widgets/controls",
      "model_module_version": "1.5.0",
      "model_name": "DescriptionStyleModel",
      "state": {
       "description_width": ""
      }
     },
     "da7cbb9f751b434ca3e16356744d91b8": {
      "model_module": "@jupyter-widgets/controls",
      "model_module_version": "1.5.0",
      "model_name": "DescriptionStyleModel",
      "state": {
       "description_width": ""
      }
     },
     "dab53b5ab26d4f45bf5c9dbfa1491990": {
      "model_module": "@jupyter-widgets/base",
      "model_module_version": "1.2.0",
      "model_name": "LayoutModel",
      "state": {}
     },
     "dab781a4e9fa4eb98b742be174b7589f": {
      "model_module": "@jupyter-widgets/controls",
      "model_module_version": "1.5.0",
      "model_name": "DropdownModel",
      "state": {
       "_options_labels": [
        "Raw number of results",
        "Proportion of total articles"
       ],
       "index": 0,
       "layout": "IPY_MODEL_6b65bf67b7464fcba495a4a88c417527",
       "style": "IPY_MODEL_0e527931889f4fda812408ed178de2ea"
      }
     },
     "dab86d566b574905a3525367e40d2288": {
      "model_module": "@jupyter-widgets/controls",
      "model_module_version": "1.5.0",
      "model_name": "DescriptionStyleModel",
      "state": {
       "description_width": ""
      }
     },
     "dad69f03081d4529bff73f1d152ac407": {
      "model_module": "@jupyter-widgets/base",
      "model_module_version": "1.2.0",
      "model_name": "LayoutModel",
      "state": {}
     },
     "dafc4efb9460462e84216b4bd2a1ed48": {
      "model_module": "@jupyter-widgets/controls",
      "model_module_version": "1.5.0",
      "model_name": "ButtonStyleModel",
      "state": {}
     },
     "db8060ecc2c845a1a4d5677b5b06b39a": {
      "model_module": "@jupyter-widgets/base",
      "model_module_version": "1.2.0",
      "model_name": "LayoutModel",
      "state": {}
     },
     "dbad3c92042545d6846f85f384efb52f": {
      "model_module": "@jupyter-widgets/base",
      "model_module_version": "1.2.0",
      "model_name": "LayoutModel",
      "state": {}
     },
     "dbb1598115504cef935a8217d17542d5": {
      "model_module": "@jupyter-widgets/base",
      "model_module_version": "1.2.0",
      "model_name": "LayoutModel",
      "state": {}
     },
     "dbd1ddfce5014b778a3a7f4fb50749e6": {
      "model_module": "@jupyter-widgets/controls",
      "model_module_version": "1.5.0",
      "model_name": "DropdownModel",
      "state": {
       "_options_labels": [
        "Automatic",
        "Year",
        "Month",
        "Day"
       ],
       "description": "Time unit:",
       "index": 0,
       "layout": "IPY_MODEL_d94f15db5fb24a0bb83fabfe6e4b3f42",
       "style": "IPY_MODEL_383ba7effe3c4272a66bae63ac572888"
      }
     },
     "dbfaa1602d3c42e69dd119172bb6944f": {
      "model_module": "@jupyter-widgets/base",
      "model_module_version": "1.2.0",
      "model_name": "LayoutModel",
      "state": {
       "margin": "50px 0 50px 0"
      }
     },
     "dc32d41edac7432aacaa021ce18a9d8b": {
      "model_module": "@jupyter-widgets/controls",
      "model_module_version": "1.5.0",
      "model_name": "ButtonModel",
      "state": {
       "button_style": "primary",
       "description": "Save chart as HTML",
       "layout": "IPY_MODEL_ce39d555b77b4da18ff79a8d90ef2300",
       "style": "IPY_MODEL_ac9b8ee83dc14cabaf0d0e748109cc52",
       "tooltip": "Save chart as HTML"
      }
     },
     "dc6e857d18384d36bbe015d8322c127c": {
      "model_module": "@jupyter-widgets/base",
      "model_module_version": "1.2.0",
      "model_name": "LayoutModel",
      "state": {}
     },
     "dcb21f49a2644ee49739130b7232bb91": {
      "model_module": "@jupyter-widgets/controls",
      "model_module_version": "1.5.0",
      "model_name": "DescriptionStyleModel",
      "state": {
       "description_width": ""
      }
     },
     "dcb7cfd50f824af1a5f80815855fa281": {
      "model_module": "@jupyter-widgets/base",
      "model_module_version": "1.2.0",
      "model_name": "LayoutModel",
      "state": {}
     },
     "dcbe6abc9eb54287b6ec4ba4988a72cc": {
      "model_module": "@jupyter-widgets/base",
      "model_module_version": "1.2.0",
      "model_name": "LayoutModel",
      "state": {}
     },
     "dce5d5bc463e49029e65d26ad7cfffd0": {
      "model_module": "@jupyter-widgets/base",
      "model_module_version": "1.2.0",
      "model_name": "LayoutModel",
      "state": {}
     },
     "dd0e9ac1b89e4482b6cf02c253d72d1a": {
      "model_module": "@jupyter-widgets/controls",
      "model_module_version": "1.5.0",
      "model_name": "DropdownModel",
      "state": {
       "_options_labels": [
        "Automatic",
        "Year",
        "Month",
        "Day"
       ],
       "description": "Time unit:",
       "index": 0,
       "layout": "IPY_MODEL_b4ed2948c3c04686b07c4620d8817203",
       "style": "IPY_MODEL_f6e1748b43ae4c1d87e34e5a05b12b9e"
      }
     },
     "dd18f021f614469ab00354585249e186": {
      "model_module": "@jupyter-widgets/base",
      "model_module_version": "1.2.0",
      "model_name": "LayoutModel",
      "state": {
       "width": "80%"
      }
     },
     "dd2cbd50d6a94ca9b1499d434343c7b0": {
      "model_module": "@jupyter-widgets/controls",
      "model_module_version": "1.5.0",
      "model_name": "ButtonStyleModel",
      "state": {}
     },
     "dd5d1d2829f14d759668cba82a80eddb": {
      "model_module": "@jupyter-widgets/controls",
      "model_module_version": "1.5.0",
      "model_name": "ButtonStyleModel",
      "state": {}
     },
     "dd877f95f8ea4056b4652f9f6f217050": {
      "model_module": "@jupyter-widgets/controls",
      "model_module_version": "1.5.0",
      "model_name": "FloatProgressModel",
      "state": {
       "layout": "IPY_MODEL_e0e1429fabe443cfa1e3cc86b5d3fa59",
       "max": 6,
       "style": "IPY_MODEL_b659407f187c4ed4895ae9cd7b653742",
       "value": 6
      }
     },
     "dd8b6bd0803b484fab67eeb35f3748ad": {
      "model_module": "@jupyter-widgets/base",
      "model_module_version": "1.2.0",
      "model_name": "LayoutModel",
      "state": {}
     },
     "ddfa97eb903a44f48a1e75723be5e0f5": {
      "model_module": "@jupyter-widgets/controls",
      "model_module_version": "1.5.0",
      "model_name": "HTMLModel",
      "state": {
       "layout": "IPY_MODEL_29269d837070403aaf07ab767d114a21",
       "style": "IPY_MODEL_da6bfab6fbc04bdaa331c83c3170dccd",
       "value": " 11/11 [00:17&lt;00:00,  1.57s/it]"
      }
     },
     "de1736c1e8464db99e8daba57007b94e": {
      "model_module": "@jupyter-widgets/controls",
      "model_module_version": "1.5.0",
      "model_name": "ButtonModel",
      "state": {
       "description": "Clear all queries",
       "layout": "IPY_MODEL_3dad8684776a4088a7802857949eb079",
       "style": "IPY_MODEL_64027976fd4447258705256aeb236e87",
       "tooltip": "Clear current queries"
      }
     },
     "de5bbcbd280a40d684f8a09104648f51": {
      "model_module": "@jupyter-widgets/controls",
      "model_module_version": "1.5.0",
      "model_name": "HTMLModel",
      "state": {
       "layout": "IPY_MODEL_43272456008b4d8eb7969481a5bfefd9",
       "style": "IPY_MODEL_df778bfb3430442e8aae93dee5b2821e",
       "value": "  0%"
      }
     },
     "de715ed4f2444ae382e194a7ed97a935": {
      "model_module": "@jupyter-widgets/base",
      "model_module_version": "1.2.0",
      "model_name": "LayoutModel",
      "state": {}
     },
     "de812c2065b8492cb79cbd0221c397b9": {
      "model_module": "@jupyter-widgets/base",
      "model_module_version": "1.2.0",
      "model_name": "LayoutModel",
      "state": {}
     },
     "df1520eca32944a18c9d9fee731188ba": {
      "model_module": "@jupyter-widgets/controls",
      "model_module_version": "1.5.0",
      "model_name": "DescriptionStyleModel",
      "state": {
       "description_width": ""
      }
     },
     "df3f305718b6450abab96ce43be29656": {
      "model_module": "@jupyter-widgets/controls",
      "model_module_version": "1.5.0",
      "model_name": "DropdownModel",
      "state": {
       "_options_labels": [
        "Automatic",
        "Year",
        "Month",
        "Day"
       ],
       "description": "Time unit:",
       "index": 0,
       "layout": "IPY_MODEL_48a4f1ec29484da9bc7375309927d4bb",
       "style": "IPY_MODEL_476d152e367946a680dfc7df7fa2d669"
      }
     },
     "df66a8f80f60494882ab73098ab1b472": {
      "model_module": "@jupyter-widgets/base",
      "model_module_version": "1.2.0",
      "model_name": "LayoutModel",
      "state": {}
     },
     "df778bfb3430442e8aae93dee5b2821e": {
      "model_module": "@jupyter-widgets/controls",
      "model_module_version": "1.5.0",
      "model_name": "DescriptionStyleModel",
      "state": {
       "description_width": ""
      }
     },
     "df9db41e1f5d4a098c546b5bd115f280": {
      "model_module": "@jupyter-widgets/base",
      "model_module_version": "1.2.0",
      "model_name": "LayoutModel",
      "state": {}
     },
     "e00f85e5744b4effb75d48d869cbdb97": {
      "model_module": "@jupyter-widgets/base",
      "model_module_version": "1.2.0",
      "model_name": "LayoutModel",
      "state": {}
     },
     "e072f2c1d87e47388f836a70f7efd639": {
      "model_module": "@jupyter-widgets/controls",
      "model_module_version": "1.5.0",
      "model_name": "DescriptionStyleModel",
      "state": {
       "description_width": ""
      }
     },
     "e076a7fb1f4e469790b0a22fe7ede922": {
      "model_module": "@jupyter-widgets/base",
      "model_module_version": "1.2.0",
      "model_name": "LayoutModel",
      "state": {}
     },
     "e0e1429fabe443cfa1e3cc86b5d3fa59": {
      "model_module": "@jupyter-widgets/base",
      "model_module_version": "1.2.0",
      "model_name": "LayoutModel",
      "state": {}
     },
     "e0e65a619a124cb2948116b35954342b": {
      "model_module": "@jupyter-widgets/base",
      "model_module_version": "1.2.0",
      "model_name": "LayoutModel",
      "state": {
       "width": "80%"
      }
     },
     "e16dc047314b43f2bf168613c0dd5a95": {
      "model_module": "@jupyter-widgets/base",
      "model_module_version": "1.2.0",
      "model_name": "LayoutModel",
      "state": {
       "width": "80%"
      }
     },
     "e20f52fd13bc4fc1988272ff30149035": {
      "model_module": "@jupyter-widgets/controls",
      "model_module_version": "1.5.0",
      "model_name": "ButtonModel",
      "state": {
       "button_style": "primary",
       "description": "Save chart as HTML",
       "layout": "IPY_MODEL_8d116cc71679487c9d7cc1cdd31b26d4",
       "style": "IPY_MODEL_a1fe1db231514d50a46e2e1e9f61ccd9",
       "tooltip": "Save chart as HTML"
      }
     },
     "e211dc2c5799462e8365d296b2cc1665": {
      "model_module": "@jupyter-widgets/base",
      "model_module_version": "1.2.0",
      "model_name": "LayoutModel",
      "state": {}
     },
     "e219df09d44840e2b99fd014c6200ddc": {
      "model_module": "@jupyter-widgets/controls",
      "model_module_version": "1.5.0",
      "model_name": "DescriptionStyleModel",
      "state": {
       "description_width": ""
      }
     },
     "e22f1c9464864366bb268f922ff52995": {
      "model_module": "@jupyter-widgets/controls",
      "model_module_version": "1.5.0",
      "model_name": "DescriptionStyleModel",
      "state": {
       "description_width": ""
      }
     },
     "e2785a5863b74a908817d4e0bb929e44": {
      "model_module": "@jupyter-widgets/controls",
      "model_module_version": "1.5.0",
      "model_name": "HBoxModel",
      "state": {
       "children": [
        "IPY_MODEL_9af9d01f3e654f438eb7645c5ae847fa",
        "IPY_MODEL_ce514c9f049b41fe83bd3a79c541245d",
        "IPY_MODEL_de1736c1e8464db99e8daba57007b94e"
       ],
       "layout": "IPY_MODEL_78e48c1e363844a6872409ca870bab64"
      }
     },
     "e2efe7a7e910470792847ee03cd0158d": {
      "model_module": "@jupyter-widgets/controls",
      "model_module_version": "1.5.0",
      "model_name": "FloatProgressModel",
      "state": {
       "layout": "IPY_MODEL_db8060ecc2c845a1a4d5677b5b06b39a",
       "max": 11,
       "style": "IPY_MODEL_63ba5136af984c8dbb695f2928fc4bf2",
       "value": 11
      }
     },
     "e37e72408a824d91a0a8e7e09fccf4e8": {
      "model_module": "@jupyter-widgets/controls",
      "model_module_version": "1.5.0",
      "model_name": "ButtonModel",
      "state": {
       "button_style": "primary",
       "description": "Save chart as HTML",
       "layout": "IPY_MODEL_ff9617ac87784d889409e347bb24e636",
       "style": "IPY_MODEL_78701163e496406a81747cb614887069",
       "tooltip": "Save chart as HTML"
      }
     },
     "e3de6030183f49dc9954d940bfdac3c0": {
      "model_module": "@jupyter-widgets/base",
      "model_module_version": "1.2.0",
      "model_name": "LayoutModel",
      "state": {}
     },
     "e42464c502ef447db6cfa7633b126e96": {
      "model_module": "@jupyter-widgets/controls",
      "model_module_version": "1.5.0",
      "model_name": "ProgressStyleModel",
      "state": {
       "description_width": ""
      }
     },
     "e4764c8f2d9f4057be45a9f340bc4b6d": {
      "model_module": "@jupyter-widgets/controls",
      "model_module_version": "1.5.0",
      "model_name": "ButtonModel",
      "state": {
       "button_style": "primary",
       "description": "Save chart as HTML",
       "layout": "IPY_MODEL_ec97835457484d3894c85cbdf423dac9",
       "style": "IPY_MODEL_020ab68071b14a958333c0b49adf9fea",
       "tooltip": "Save chart as HTML"
      }
     },
     "e485bcc16de94d0aab3fa0f1d8a74282": {
      "model_module": "@jupyter-widgets/controls",
      "model_module_version": "1.5.0",
      "model_name": "DropdownModel",
      "state": {
       "_options_labels": [
        "Automatic",
        "Year",
        "Month",
        "Day"
       ],
       "description": "Time unit:",
       "index": 0,
       "layout": "IPY_MODEL_778b2ef8b1fa481bbdf8ce985a54b7d0",
       "style": "IPY_MODEL_6c98e6d0551e4be7b4ba94afc12f239e"
      }
     },
     "e55488d323564f758ba4430820ef4f58": {
      "model_module": "@jupyter-widgets/controls",
      "model_module_version": "1.5.0",
      "model_name": "PasswordModel",
      "state": {
       "description": "API key:",
       "layout": "IPY_MODEL_3d881895eab44b60aaa7752a1caa6aeb",
       "placeholder": "Enter your Trove API key",
       "style": "IPY_MODEL_a4e9f9d20fd44b85a1a11bd1ef4ad528",
       "value": "6pi5hht0d2umqcro"
      }
     },
     "e56d9751e04845b19444484be628ec73": {
      "model_module": "@jupyter-widgets/controls",
      "model_module_version": "1.5.0",
      "model_name": "BoundedIntTextModel",
      "state": {
       "description": "Width",
       "layout": "IPY_MODEL_73c9e184524e4ad4b7ce0e28f0bea911",
       "max": 2000,
       "min": 700,
       "step": 100,
       "style": "IPY_MODEL_392a2313980a4846a7d6e11d78c92845",
       "value": 700
      }
     },
     "e57141ef4615464f9a7cada6df5a06d1": {
      "model_module": "@jupyter-widgets/controls",
      "model_module_version": "1.5.0",
      "model_name": "DescriptionStyleModel",
      "state": {
       "description_width": ""
      }
     },
     "e5851531f24f413ca284ce2f9610f9f8": {
      "model_module": "@jupyter-widgets/controls",
      "model_module_version": "1.5.0",
      "model_name": "HTMLModel",
      "state": {
       "layout": "IPY_MODEL_183bffff494449c28a1e09fd2bd0b597",
       "style": "IPY_MODEL_192d63d163364f999c4fc859205af32e",
       "value": "100%"
      }
     },
     "e5c26c3db0274055bcc2e5a261f3aa27": {
      "model_module": "@jupyter-widgets/controls",
      "model_module_version": "1.5.0",
      "model_name": "ButtonModel",
      "state": {
       "button_style": "primary",
       "description": "Save chart as HTML",
       "layout": "IPY_MODEL_adcda1f43f0648e59785dce033af19c9",
       "style": "IPY_MODEL_fd4c7f98d90449b1b5fa0edc829dd98a",
       "tooltip": "Save chart as HTML"
      }
     },
     "e5caca53882c4d85ace22cc0d2427433": {
      "model_module": "@jupyter-widgets/controls",
      "model_module_version": "1.5.0",
      "model_name": "ButtonModel",
      "state": {
       "description": "Remove last query",
       "layout": "IPY_MODEL_3ff998525f3446b3a69c828beccc4f01",
       "style": "IPY_MODEL_88dfece9a96b4fb2b22c47170efcc30f",
       "tooltip": "Remove the last query"
      }
     },
     "e60fbd0588a2440185bb45def07c811b": {
      "model_module": "@jupyter-widgets/base",
      "model_module_version": "1.2.0",
      "model_name": "LayoutModel",
      "state": {}
     },
     "e615fc86668841e98285a626412a5b59": {
      "model_module": "@jupyter-widgets/controls",
      "model_module_version": "1.5.0",
      "model_name": "DescriptionStyleModel",
      "state": {
       "description_width": ""
      }
     },
     "e6d4b24976e243eb80c5250d476a2fa4": {
      "model_module": "@jupyter-widgets/base",
      "model_module_version": "1.2.0",
      "model_name": "LayoutModel",
      "state": {}
     },
     "e70c14e5ce06492ab5301aed236f3158": {
      "model_module": "@jupyter-widgets/base",
      "model_module_version": "1.2.0",
      "model_name": "LayoutModel",
      "state": {}
     },
     "e742131198e1490bb7aef9e8908b8060": {
      "model_module": "@jupyter-widgets/base",
      "model_module_version": "1.2.0",
      "model_name": "LayoutModel",
      "state": {}
     },
     "e78752001055444d8d8cf644b9c9134d": {
      "model_module": "@jupyter-widgets/controls",
      "model_module_version": "1.5.0",
      "model_name": "DescriptionStyleModel",
      "state": {
       "description_width": ""
      }
     },
     "e8023768e1c24765ad2eefee80af6b14": {
      "model_module": "@jupyter-widgets/base",
      "model_module_version": "1.2.0",
      "model_name": "LayoutModel",
      "state": {
       "margin": "0 0 20px 0"
      }
     },
     "e8075bf31df84ba4886040654a7f40d8": {
      "model_module": "@jupyter-widgets/controls",
      "model_module_version": "1.5.0",
      "model_name": "DescriptionStyleModel",
      "state": {
       "description_width": ""
      }
     },
     "e81301b49b604165aa00407b0a6f120e": {
      "model_module": "@jupyter-widgets/controls",
      "model_module_version": "1.5.0",
      "model_name": "ProgressStyleModel",
      "state": {
       "description_width": ""
      }
     },
     "e819fbead5d94e5aaaa2ebdacf31b1dd": {
      "model_module": "@jupyter-widgets/base",
      "model_module_version": "1.2.0",
      "model_name": "LayoutModel",
      "state": {}
     },
     "e881ba16e33b449cb9c0737890dffe6a": {
      "model_module": "@jupyter-widgets/controls",
      "model_module_version": "1.5.0",
      "model_name": "BoundedIntTextModel",
      "state": {
       "description": "Height",
       "layout": "IPY_MODEL_fac1a5b550b84836b99848cb30c94311",
       "max": 1500,
       "min": 400,
       "step": 100,
       "style": "IPY_MODEL_89fc487733914c04ae0ac8a07348f251",
       "value": 400
      }
     },
     "e8906903c2f6439698f0cc9ed20f7309": {
      "model_module": "@jupyter-widgets/output",
      "model_module_version": "1.0.0",
      "model_name": "OutputModel",
      "state": {
       "layout": "IPY_MODEL_5601e19075a74a1b8a5f4f550c0624e7",
       "outputs": [
        {
         "data": {
          "application/vnd.jupyter.widget-view+json": {
           "model_id": "",
           "version_major": 2,
           "version_minor": 0
          },
          "text/plain": "Dropdown(options=(('Raw number of results', 'raw'), ('Proportion of total articles', 'proportion')), value='ra…"
         },
         "metadata": {},
         "output_type": "display_data"
        },
        {
         "data": {
          "text/html": "\n<div id=\"altair-viz-d5400f06400e478fa59033e52fcdb9ec\"></div>\n<script type=\"text/javascript\">\n  var VEGA_DEBUG = (typeof VEGA_DEBUG == \"undefined\") ? {} : VEGA_DEBUG;\n  (function(spec, embedOpt){\n    let outputDiv = document.currentScript.previousElementSibling;\n    if (outputDiv.id !== \"altair-viz-d5400f06400e478fa59033e52fcdb9ec\") {\n      outputDiv = document.getElementById(\"altair-viz-d5400f06400e478fa59033e52fcdb9ec\");\n    }\n    const paths = {\n      \"vega\": \"https://cdn.jsdelivr.net/npm//vega@5?noext\",\n      \"vega-lib\": \"https://cdn.jsdelivr.net/npm//vega-lib?noext\",\n      \"vega-lite\": \"https://cdn.jsdelivr.net/npm//vega-lite@4.17.0?noext\",\n      \"vega-embed\": \"https://cdn.jsdelivr.net/npm//vega-embed@6?noext\",\n    };\n\n    function maybeLoadScript(lib, version) {\n      var key = `${lib.replace(\"-\", \"\")}_version`;\n      return (VEGA_DEBUG[key] == version) ?\n        Promise.resolve(paths[lib]) :\n        new Promise(function(resolve, reject) {\n          var s = document.createElement('script');\n          document.getElementsByTagName(\"head\")[0].appendChild(s);\n          s.async = true;\n          s.onload = () => {\n            VEGA_DEBUG[key] = version;\n            return resolve(paths[lib]);\n          };\n          s.onerror = () => reject(`Error loading script: ${paths[lib]}`);\n          s.src = paths[lib];\n        });\n    }\n\n    function showError(err) {\n      outputDiv.innerHTML = `<div class=\"error\" style=\"color:red;\">${err}</div>`;\n      throw err;\n    }\n\n    function displayChart(vegaEmbed) {\n      vegaEmbed(outputDiv, spec, embedOpt)\n        .catch(err => showError(`Javascript Error: ${err.message}<br>This usually means there's a typo in your chart specification. See the javascript console for the full traceback.`));\n    }\n\n    if(typeof define === \"function\" && define.amd) {\n      requirejs.config({paths});\n      require([\"vega-embed\"], displayChart, err => showError(`Error loading script: ${err.message}`));\n    } else {\n      maybeLoadScript(\"vega\", \"5\")\n        .then(() => maybeLoadScript(\"vega-lite\", \"4.17.0\"))\n        .then(() => maybeLoadScript(\"vega-embed\", \"6\"))\n        .catch(showError)\n        .then(() => displayChart(vegaEmbed));\n    }\n  })({\"usermeta\": {\"embedOptions\": {\"loader\": {\"target\": \"_blank\"}}}, \"vconcat\": [{\"data\": {\"name\": \"data-82054f5faec3e16ceea130d99ce922e3\"}, \"mark\": {\"type\": \"line\", \"interpolate\": \"cardinal\", \"point\": true}, \"encoding\": {\"color\": {\"field\": \"id\", \"legend\": {\"title\": \"\"}, \"type\": \"nominal\"}, \"href\": {\"field\": \"url\", \"type\": \"nominal\"}, \"tooltip\": [{\"field\": \"id\", \"title\": \"query\", \"type\": \"nominal\"}, {\"field\": \"date\", \"timeUnit\": \"year\", \"title\": \"year\", \"type\": \"temporal\"}, {\"field\": \"total_results\", \"format\": \",\", \"title\": \"results\", \"type\": \"quantitative\"}, {\"field\": \"PercentOfTotal\", \"format\": \".2%\", \"title\": \"proportion\", \"type\": \"quantitative\"}], \"x\": {\"axis\": {\"title\": \"Year\"}, \"field\": \"date\", \"scale\": {\"padding\": 10}, \"timeUnit\": \"year\", \"type\": \"temporal\"}, \"y\": {\"axis\": {\"format\": \",d\", \"title\": \"Number of articles\"}, \"field\": \"total_results\", \"type\": \"quantitative\"}}, \"height\": 400, \"title\": {\"text\": \"Trove Newspapers & Gazettes Search\", \"subtitle\": \"Created by QueryPic: 24 June 2022\"}, \"transform\": [{\"calculate\": \"datum.total_results / datum.total_articles\", \"as\": \"PercentOfTotal\"}], \"width\": 800}, {\"data\": {\"name\": \"data-a84671b8975528608e8fe6591fb4c574\"}, \"mark\": {\"type\": \"text\", \"align\": \"left\", \"baseline\": \"middle\", \"dx\": 2, \"dy\": 1}, \"encoding\": {\"color\": {\"value\": \"blue\"}, \"href\": {\"field\": \"url\", \"type\": \"nominal\"}, \"text\": {\"field\": \"url\", \"type\": \"nominal\"}, \"x\": {\"axis\": null, \"field\": \"x\", \"scale\": {\"range\": [0, 1]}, \"title\": null, \"type\": \"quantitative\"}, \"y\": {\"axis\": {\"domain\": false, \"grid\": false, \"labelFontWeight\": \"bold\"}, \"field\": \"id\", \"title\": null, \"type\": \"ordinal\"}}}], \"config\": {\"padding\": 20, \"title\": {\"fontSize\": 14}, \"view\": {\"strokeWidth\": 0}}, \"$schema\": \"https://vega.github.io/schema/vega-lite/v4.17.0.json\", \"datasets\": {\"data-82054f5faec3e16ceea130d99ce922e3\": [{\"date\": \"1850-01-02\", \"total_results\": 0, \"total_articles\": 0, \"url\": \"https://trove.nla.gov.au/search/category/newspapers?keyword=text%3A%22darling%20wife%22%20date%3A%5B1850%20TO%201954%5D&l-decade=185&l-year=1850\", \"id\": \"Query 1\"}, {\"date\": \"1851-01-02\", \"total_results\": 0, \"total_articles\": 0, \"url\": \"https://trove.nla.gov.au/search/category/newspapers?keyword=text%3A%22darling%20wife%22%20date%3A%5B1850%20TO%201954%5D&l-decade=185&l-year=1851\", \"id\": \"Query 1\"}, {\"date\": \"1852-01-02\", \"total_results\": 0, \"total_articles\": 0, \"url\": \"https://trove.nla.gov.au/search/category/newspapers?keyword=text%3A%22darling%20wife%22%20date%3A%5B1850%20TO%201954%5D&l-decade=185&l-year=1852\", \"id\": \"Query 1\"}, {\"date\": \"1853-01-02\", \"total_results\": 0, \"total_articles\": 0, \"url\": \"https://trove.nla.gov.au/search/category/newspapers?keyword=text%3A%22darling%20wife%22%20date%3A%5B1850%20TO%201954%5D&l-decade=185&l-year=1853\", \"id\": \"Query 1\"}, {\"date\": \"1854-01-02\", \"total_results\": 0, \"total_articles\": 0, \"url\": \"https://trove.nla.gov.au/search/category/newspapers?keyword=text%3A%22darling%20wife%22%20date%3A%5B1850%20TO%201954%5D&l-decade=185&l-year=1854\", \"id\": \"Query 1\"}, {\"date\": \"1855-01-02\", \"total_results\": 0, \"total_articles\": 0, \"url\": \"https://trove.nla.gov.au/search/category/newspapers?keyword=text%3A%22darling%20wife%22%20date%3A%5B1850%20TO%201954%5D&l-decade=185&l-year=1855\", \"id\": \"Query 1\"}, {\"date\": \"1856-01-02\", \"total_results\": 0, \"total_articles\": 0, \"url\": \"https://trove.nla.gov.au/search/category/newspapers?keyword=text%3A%22darling%20wife%22%20date%3A%5B1850%20TO%201954%5D&l-decade=185&l-year=1856\", \"id\": \"Query 1\"}, {\"date\": \"1857-01-02\", \"total_results\": 0, \"total_articles\": 0, \"url\": \"https://trove.nla.gov.au/search/category/newspapers?keyword=text%3A%22darling%20wife%22%20date%3A%5B1850%20TO%201954%5D&l-decade=185&l-year=1857\", \"id\": \"Query 1\"}, {\"date\": \"1858-01-02\", \"total_results\": 0, \"total_articles\": 0, \"url\": \"https://trove.nla.gov.au/search/category/newspapers?keyword=text%3A%22darling%20wife%22%20date%3A%5B1850%20TO%201954%5D&l-decade=185&l-year=1858\", \"id\": \"Query 1\"}, {\"date\": \"1859-01-02\", \"total_results\": 0, \"total_articles\": 0, \"url\": \"https://trove.nla.gov.au/search/category/newspapers?keyword=text%3A%22darling%20wife%22%20date%3A%5B1850%20TO%201954%5D&l-decade=185&l-year=1859\", \"id\": \"Query 1\"}, {\"date\": \"1860-01-02\", \"total_results\": 0, \"total_articles\": 0, \"url\": \"https://trove.nla.gov.au/search/category/newspapers?keyword=text%3A%22darling%20wife%22%20date%3A%5B1850%20TO%201954%5D&l-decade=186&l-year=1860\", \"id\": \"Query 1\"}, {\"date\": \"1861-01-02\", \"total_results\": 0, \"total_articles\": 0, \"url\": \"https://trove.nla.gov.au/search/category/newspapers?keyword=text%3A%22darling%20wife%22%20date%3A%5B1850%20TO%201954%5D&l-decade=186&l-year=1861\", \"id\": \"Query 1\"}, {\"date\": \"1862-01-02\", \"total_results\": 0, \"total_articles\": 0, \"url\": \"https://trove.nla.gov.au/search/category/newspapers?keyword=text%3A%22darling%20wife%22%20date%3A%5B1850%20TO%201954%5D&l-decade=186&l-year=1862\", \"id\": \"Query 1\"}, {\"date\": \"1863-01-02\", \"total_results\": 0, \"total_articles\": 0, \"url\": \"https://trove.nla.gov.au/search/category/newspapers?keyword=text%3A%22darling%20wife%22%20date%3A%5B1850%20TO%201954%5D&l-decade=186&l-year=1863\", \"id\": \"Query 1\"}, {\"date\": \"1864-01-02\", \"total_results\": 0, \"total_articles\": 0, \"url\": \"https://trove.nla.gov.au/search/category/newspapers?keyword=text%3A%22darling%20wife%22%20date%3A%5B1850%20TO%201954%5D&l-decade=186&l-year=1864\", \"id\": \"Query 1\"}, {\"date\": \"1865-01-02\", \"total_results\": 0, \"total_articles\": 0, \"url\": \"https://trove.nla.gov.au/search/category/newspapers?keyword=text%3A%22darling%20wife%22%20date%3A%5B1850%20TO%201954%5D&l-decade=186&l-year=1865\", \"id\": \"Query 1\"}, {\"date\": \"1866-01-02\", \"total_results\": 0, \"total_articles\": 0, \"url\": \"https://trove.nla.gov.au/search/category/newspapers?keyword=text%3A%22darling%20wife%22%20date%3A%5B1850%20TO%201954%5D&l-decade=186&l-year=1866\", \"id\": \"Query 1\"}, {\"date\": \"1867-01-02\", \"total_results\": 0, \"total_articles\": 0, \"url\": \"https://trove.nla.gov.au/search/category/newspapers?keyword=text%3A%22darling%20wife%22%20date%3A%5B1850%20TO%201954%5D&l-decade=186&l-year=1867\", \"id\": \"Query 1\"}, {\"date\": \"1868-01-02\", \"total_results\": 0, \"total_articles\": 0, \"url\": \"https://trove.nla.gov.au/search/category/newspapers?keyword=text%3A%22darling%20wife%22%20date%3A%5B1850%20TO%201954%5D&l-decade=186&l-year=1868\", \"id\": \"Query 1\"}, {\"date\": \"1869-01-02\", \"total_results\": 0, \"total_articles\": 0, \"url\": \"https://trove.nla.gov.au/search/category/newspapers?keyword=text%3A%22darling%20wife%22%20date%3A%5B1850%20TO%201954%5D&l-decade=186&l-year=1869\", \"id\": \"Query 1\"}, {\"date\": \"1870-01-02\", \"total_results\": 0, \"total_articles\": 0, \"url\": \"https://trove.nla.gov.au/search/category/newspapers?keyword=text%3A%22darling%20wife%22%20date%3A%5B1850%20TO%201954%5D&l-decade=187&l-year=1870\", \"id\": \"Query 1\"}, {\"date\": \"1871-01-02\", \"total_results\": 0, \"total_articles\": 0, \"url\": \"https://trove.nla.gov.au/search/category/newspapers?keyword=text%3A%22darling%20wife%22%20date%3A%5B1850%20TO%201954%5D&l-decade=187&l-year=1871\", \"id\": \"Query 1\"}, {\"date\": \"1872-01-02\", \"total_results\": 0, \"total_articles\": 0, \"url\": \"https://trove.nla.gov.au/search/category/newspapers?keyword=text%3A%22darling%20wife%22%20date%3A%5B1850%20TO%201954%5D&l-decade=187&l-year=1872\", \"id\": \"Query 1\"}, {\"date\": \"1873-01-02\", \"total_results\": 0, \"total_articles\": 0, \"url\": \"https://trove.nla.gov.au/search/category/newspapers?keyword=text%3A%22darling%20wife%22%20date%3A%5B1850%20TO%201954%5D&l-decade=187&l-year=1873\", \"id\": \"Query 1\"}, {\"date\": \"1874-01-02\", \"total_results\": 0, \"total_articles\": 0, \"url\": \"https://trove.nla.gov.au/search/category/newspapers?keyword=text%3A%22darling%20wife%22%20date%3A%5B1850%20TO%201954%5D&l-decade=187&l-year=1874\", \"id\": \"Query 1\"}, {\"date\": \"1875-01-02\", \"total_results\": 0, \"total_articles\": 0, \"url\": \"https://trove.nla.gov.au/search/category/newspapers?keyword=text%3A%22darling%20wife%22%20date%3A%5B1850%20TO%201954%5D&l-decade=187&l-year=1875\", \"id\": \"Query 1\"}, {\"date\": \"1876-01-02\", \"total_results\": 0, \"total_articles\": 0, \"url\": \"https://trove.nla.gov.au/search/category/newspapers?keyword=text%3A%22darling%20wife%22%20date%3A%5B1850%20TO%201954%5D&l-decade=187&l-year=1876\", \"id\": \"Query 1\"}, {\"date\": \"1877-01-02\", \"total_results\": 0, \"total_articles\": 0, \"url\": \"https://trove.nla.gov.au/search/category/newspapers?keyword=text%3A%22darling%20wife%22%20date%3A%5B1850%20TO%201954%5D&l-decade=187&l-year=1877\", \"id\": \"Query 1\"}, {\"date\": \"1878-01-02\", \"total_results\": 0, \"total_articles\": 0, \"url\": \"https://trove.nla.gov.au/search/category/newspapers?keyword=text%3A%22darling%20wife%22%20date%3A%5B1850%20TO%201954%5D&l-decade=187&l-year=1878\", \"id\": \"Query 1\"}, {\"date\": \"1879-01-02\", \"total_results\": 0, \"total_articles\": 0, \"url\": \"https://trove.nla.gov.au/search/category/newspapers?keyword=text%3A%22darling%20wife%22%20date%3A%5B1850%20TO%201954%5D&l-decade=187&l-year=1879\", \"id\": \"Query 1\"}, {\"date\": \"1880-01-02\", \"total_results\": 0, \"total_articles\": 0, \"url\": \"https://trove.nla.gov.au/search/category/newspapers?keyword=text%3A%22darling%20wife%22%20date%3A%5B1850%20TO%201954%5D&l-decade=188&l-year=1880\", \"id\": \"Query 1\"}, {\"date\": \"1881-01-02\", \"total_results\": 0, \"total_articles\": 0, \"url\": \"https://trove.nla.gov.au/search/category/newspapers?keyword=text%3A%22darling%20wife%22%20date%3A%5B1850%20TO%201954%5D&l-decade=188&l-year=1881\", \"id\": \"Query 1\"}, {\"date\": \"1882-01-02\", \"total_results\": 0, \"total_articles\": 0, \"url\": \"https://trove.nla.gov.au/search/category/newspapers?keyword=text%3A%22darling%20wife%22%20date%3A%5B1850%20TO%201954%5D&l-decade=188&l-year=1882\", \"id\": \"Query 1\"}, {\"date\": \"1883-01-02\", \"total_results\": 0, \"total_articles\": 0, \"url\": \"https://trove.nla.gov.au/search/category/newspapers?keyword=text%3A%22darling%20wife%22%20date%3A%5B1850%20TO%201954%5D&l-decade=188&l-year=1883\", \"id\": \"Query 1\"}, {\"date\": \"1884-01-02\", \"total_results\": 0, \"total_articles\": 0, \"url\": \"https://trove.nla.gov.au/search/category/newspapers?keyword=text%3A%22darling%20wife%22%20date%3A%5B1850%20TO%201954%5D&l-decade=188&l-year=1884\", \"id\": \"Query 1\"}, {\"date\": \"1885-01-02\", \"total_results\": 0, \"total_articles\": 0, \"url\": \"https://trove.nla.gov.au/search/category/newspapers?keyword=text%3A%22darling%20wife%22%20date%3A%5B1850%20TO%201954%5D&l-decade=188&l-year=1885\", \"id\": \"Query 1\"}, {\"date\": \"1886-01-02\", \"total_results\": 0, \"total_articles\": 0, \"url\": \"https://trove.nla.gov.au/search/category/newspapers?keyword=text%3A%22darling%20wife%22%20date%3A%5B1850%20TO%201954%5D&l-decade=188&l-year=1886\", \"id\": \"Query 1\"}, {\"date\": \"1887-01-02\", \"total_results\": 0, \"total_articles\": 0, \"url\": \"https://trove.nla.gov.au/search/category/newspapers?keyword=text%3A%22darling%20wife%22%20date%3A%5B1850%20TO%201954%5D&l-decade=188&l-year=1887\", \"id\": \"Query 1\"}, {\"date\": \"1888-01-02\", \"total_results\": 0, \"total_articles\": 0, \"url\": \"https://trove.nla.gov.au/search/category/newspapers?keyword=text%3A%22darling%20wife%22%20date%3A%5B1850%20TO%201954%5D&l-decade=188&l-year=1888\", \"id\": \"Query 1\"}, {\"date\": \"1889-01-02\", \"total_results\": 0, \"total_articles\": 0, \"url\": \"https://trove.nla.gov.au/search/category/newspapers?keyword=text%3A%22darling%20wife%22%20date%3A%5B1850%20TO%201954%5D&l-decade=188&l-year=1889\", \"id\": \"Query 1\"}, {\"date\": \"1890-01-02\", \"total_results\": 0, \"total_articles\": 0, \"url\": \"https://trove.nla.gov.au/search/category/newspapers?keyword=text%3A%22darling%20wife%22%20date%3A%5B1850%20TO%201954%5D&l-decade=189&l-year=1890\", \"id\": \"Query 1\"}, {\"date\": \"1891-01-02\", \"total_results\": 0, \"total_articles\": 0, \"url\": \"https://trove.nla.gov.au/search/category/newspapers?keyword=text%3A%22darling%20wife%22%20date%3A%5B1850%20TO%201954%5D&l-decade=189&l-year=1891\", \"id\": \"Query 1\"}, {\"date\": \"1892-01-02\", \"total_results\": 0, \"total_articles\": 0, \"url\": \"https://trove.nla.gov.au/search/category/newspapers?keyword=text%3A%22darling%20wife%22%20date%3A%5B1850%20TO%201954%5D&l-decade=189&l-year=1892\", \"id\": \"Query 1\"}, {\"date\": \"1893-01-02\", \"total_results\": 0, \"total_articles\": 0, \"url\": \"https://trove.nla.gov.au/search/category/newspapers?keyword=text%3A%22darling%20wife%22%20date%3A%5B1850%20TO%201954%5D&l-decade=189&l-year=1893\", \"id\": \"Query 1\"}, {\"date\": \"1894-01-02\", \"total_results\": 0, \"total_articles\": 0, \"url\": \"https://trove.nla.gov.au/search/category/newspapers?keyword=text%3A%22darling%20wife%22%20date%3A%5B1850%20TO%201954%5D&l-decade=189&l-year=1894\", \"id\": \"Query 1\"}, {\"date\": \"1895-01-02\", \"total_results\": 0, \"total_articles\": 0, \"url\": \"https://trove.nla.gov.au/search/category/newspapers?keyword=text%3A%22darling%20wife%22%20date%3A%5B1850%20TO%201954%5D&l-decade=189&l-year=1895\", \"id\": \"Query 1\"}, {\"date\": \"1896-01-02\", \"total_results\": 0, \"total_articles\": 0, \"url\": \"https://trove.nla.gov.au/search/category/newspapers?keyword=text%3A%22darling%20wife%22%20date%3A%5B1850%20TO%201954%5D&l-decade=189&l-year=1896\", \"id\": \"Query 1\"}, {\"date\": \"1897-01-02\", \"total_results\": 0, \"total_articles\": 0, \"url\": \"https://trove.nla.gov.au/search/category/newspapers?keyword=text%3A%22darling%20wife%22%20date%3A%5B1850%20TO%201954%5D&l-decade=189&l-year=1897\", \"id\": \"Query 1\"}, {\"date\": \"1898-01-02\", \"total_results\": 0, \"total_articles\": 0, \"url\": \"https://trove.nla.gov.au/search/category/newspapers?keyword=text%3A%22darling%20wife%22%20date%3A%5B1850%20TO%201954%5D&l-decade=189&l-year=1898\", \"id\": \"Query 1\"}, {\"date\": \"1899-01-02\", \"total_results\": 0, \"total_articles\": 0, \"url\": \"https://trove.nla.gov.au/search/category/newspapers?keyword=text%3A%22darling%20wife%22%20date%3A%5B1850%20TO%201954%5D&l-decade=189&l-year=1899\", \"id\": \"Query 1\"}, {\"date\": \"1900-01-02\", \"total_results\": 0, \"total_articles\": 0, \"url\": \"https://trove.nla.gov.au/search/category/newspapers?keyword=text%3A%22darling%20wife%22%20date%3A%5B1850%20TO%201954%5D&l-decade=190&l-year=1900\", \"id\": \"Query 1\"}, {\"date\": \"1901-01-02\", \"total_results\": 0, \"total_articles\": 0, \"url\": \"https://trove.nla.gov.au/search/category/newspapers?keyword=text%3A%22darling%20wife%22%20date%3A%5B1850%20TO%201954%5D&l-decade=190&l-year=1901\", \"id\": \"Query 1\"}, {\"date\": \"1902-01-02\", \"total_results\": 0, \"total_articles\": 0, \"url\": \"https://trove.nla.gov.au/search/category/newspapers?keyword=text%3A%22darling%20wife%22%20date%3A%5B1850%20TO%201954%5D&l-decade=190&l-year=1902\", \"id\": \"Query 1\"}, {\"date\": \"1903-01-02\", \"total_results\": 0, \"total_articles\": 0, \"url\": \"https://trove.nla.gov.au/search/category/newspapers?keyword=text%3A%22darling%20wife%22%20date%3A%5B1850%20TO%201954%5D&l-decade=190&l-year=1903\", \"id\": \"Query 1\"}, {\"date\": \"1904-01-02\", \"total_results\": 0, \"total_articles\": 0, \"url\": \"https://trove.nla.gov.au/search/category/newspapers?keyword=text%3A%22darling%20wife%22%20date%3A%5B1850%20TO%201954%5D&l-decade=190&l-year=1904\", \"id\": \"Query 1\"}, {\"date\": \"1905-01-02\", \"total_results\": 0, \"total_articles\": 0, \"url\": \"https://trove.nla.gov.au/search/category/newspapers?keyword=text%3A%22darling%20wife%22%20date%3A%5B1850%20TO%201954%5D&l-decade=190&l-year=1905\", \"id\": \"Query 1\"}, {\"date\": \"1906-01-02\", \"total_results\": 0, \"total_articles\": 0, \"url\": \"https://trove.nla.gov.au/search/category/newspapers?keyword=text%3A%22darling%20wife%22%20date%3A%5B1850%20TO%201954%5D&l-decade=190&l-year=1906\", \"id\": \"Query 1\"}, {\"date\": \"1907-01-02\", \"total_results\": 0, \"total_articles\": 0, \"url\": \"https://trove.nla.gov.au/search/category/newspapers?keyword=text%3A%22darling%20wife%22%20date%3A%5B1850%20TO%201954%5D&l-decade=190&l-year=1907\", \"id\": \"Query 1\"}, {\"date\": \"1908-01-02\", \"total_results\": 0, \"total_articles\": 0, \"url\": \"https://trove.nla.gov.au/search/category/newspapers?keyword=text%3A%22darling%20wife%22%20date%3A%5B1850%20TO%201954%5D&l-decade=190&l-year=1908\", \"id\": \"Query 1\"}, {\"date\": \"1909-01-02\", \"total_results\": 0, \"total_articles\": 0, \"url\": \"https://trove.nla.gov.au/search/category/newspapers?keyword=text%3A%22darling%20wife%22%20date%3A%5B1850%20TO%201954%5D&l-decade=190&l-year=1909\", \"id\": \"Query 1\"}, {\"date\": \"1910-01-02\", \"total_results\": 0, \"total_articles\": 0, \"url\": \"https://trove.nla.gov.au/search/category/newspapers?keyword=text%3A%22darling%20wife%22%20date%3A%5B1850%20TO%201954%5D&l-decade=191&l-year=1910\", \"id\": \"Query 1\"}, {\"date\": \"1911-01-02\", \"total_results\": 0, \"total_articles\": 0, \"url\": \"https://trove.nla.gov.au/search/category/newspapers?keyword=text%3A%22darling%20wife%22%20date%3A%5B1850%20TO%201954%5D&l-decade=191&l-year=1911\", \"id\": \"Query 1\"}, {\"date\": \"1912-01-02\", \"total_results\": 0, \"total_articles\": 0, \"url\": \"https://trove.nla.gov.au/search/category/newspapers?keyword=text%3A%22darling%20wife%22%20date%3A%5B1850%20TO%201954%5D&l-decade=191&l-year=1912\", \"id\": \"Query 1\"}, {\"date\": \"1913-01-02\", \"total_results\": 0, \"total_articles\": 0, \"url\": \"https://trove.nla.gov.au/search/category/newspapers?keyword=text%3A%22darling%20wife%22%20date%3A%5B1850%20TO%201954%5D&l-decade=191&l-year=1913\", \"id\": \"Query 1\"}, {\"date\": \"1914-01-02\", \"total_results\": 0, \"total_articles\": 0, \"url\": \"https://trove.nla.gov.au/search/category/newspapers?keyword=text%3A%22darling%20wife%22%20date%3A%5B1850%20TO%201954%5D&l-decade=191&l-year=1914\", \"id\": \"Query 1\"}, {\"date\": \"1915-01-02\", \"total_results\": 0, \"total_articles\": 0, \"url\": \"https://trove.nla.gov.au/search/category/newspapers?keyword=text%3A%22darling%20wife%22%20date%3A%5B1850%20TO%201954%5D&l-decade=191&l-year=1915\", \"id\": \"Query 1\"}, {\"date\": \"1916-01-02\", \"total_results\": 0, \"total_articles\": 0, \"url\": \"https://trove.nla.gov.au/search/category/newspapers?keyword=text%3A%22darling%20wife%22%20date%3A%5B1850%20TO%201954%5D&l-decade=191&l-year=1916\", \"id\": \"Query 1\"}, {\"date\": \"1917-01-02\", \"total_results\": 0, \"total_articles\": 0, \"url\": \"https://trove.nla.gov.au/search/category/newspapers?keyword=text%3A%22darling%20wife%22%20date%3A%5B1850%20TO%201954%5D&l-decade=191&l-year=1917\", \"id\": \"Query 1\"}, {\"date\": \"1918-01-02\", \"total_results\": 0, \"total_articles\": 0, \"url\": \"https://trove.nla.gov.au/search/category/newspapers?keyword=text%3A%22darling%20wife%22%20date%3A%5B1850%20TO%201954%5D&l-decade=191&l-year=1918\", \"id\": \"Query 1\"}, {\"date\": \"1919-01-02\", \"total_results\": 0, \"total_articles\": 0, \"url\": \"https://trove.nla.gov.au/search/category/newspapers?keyword=text%3A%22darling%20wife%22%20date%3A%5B1850%20TO%201954%5D&l-decade=191&l-year=1919\", \"id\": \"Query 1\"}, {\"date\": \"1920-01-02\", \"total_results\": 0, \"total_articles\": 0, \"url\": \"https://trove.nla.gov.au/search/category/newspapers?keyword=text%3A%22darling%20wife%22%20date%3A%5B1850%20TO%201954%5D&l-decade=192&l-year=1920\", \"id\": \"Query 1\"}, {\"date\": \"1921-01-02\", \"total_results\": 0, \"total_articles\": 0, \"url\": \"https://trove.nla.gov.au/search/category/newspapers?keyword=text%3A%22darling%20wife%22%20date%3A%5B1850%20TO%201954%5D&l-decade=192&l-year=1921\", \"id\": \"Query 1\"}, {\"date\": \"1922-01-02\", \"total_results\": 0, \"total_articles\": 0, \"url\": \"https://trove.nla.gov.au/search/category/newspapers?keyword=text%3A%22darling%20wife%22%20date%3A%5B1850%20TO%201954%5D&l-decade=192&l-year=1922\", \"id\": \"Query 1\"}, {\"date\": \"1923-01-02\", \"total_results\": 0, \"total_articles\": 0, \"url\": \"https://trove.nla.gov.au/search/category/newspapers?keyword=text%3A%22darling%20wife%22%20date%3A%5B1850%20TO%201954%5D&l-decade=192&l-year=1923\", \"id\": \"Query 1\"}, {\"date\": \"1924-01-02\", \"total_results\": 0, \"total_articles\": 0, \"url\": \"https://trove.nla.gov.au/search/category/newspapers?keyword=text%3A%22darling%20wife%22%20date%3A%5B1850%20TO%201954%5D&l-decade=192&l-year=1924\", \"id\": \"Query 1\"}, {\"date\": \"1925-01-02\", \"total_results\": 0, \"total_articles\": 0, \"url\": \"https://trove.nla.gov.au/search/category/newspapers?keyword=text%3A%22darling%20wife%22%20date%3A%5B1850%20TO%201954%5D&l-decade=192&l-year=1925\", \"id\": \"Query 1\"}, {\"date\": \"1926-01-02\", \"total_results\": 0, \"total_articles\": 0, \"url\": \"https://trove.nla.gov.au/search/category/newspapers?keyword=text%3A%22darling%20wife%22%20date%3A%5B1850%20TO%201954%5D&l-decade=192&l-year=1926\", \"id\": \"Query 1\"}, {\"date\": \"1927-01-02\", \"total_results\": 0, \"total_articles\": 0, \"url\": \"https://trove.nla.gov.au/search/category/newspapers?keyword=text%3A%22darling%20wife%22%20date%3A%5B1850%20TO%201954%5D&l-decade=192&l-year=1927\", \"id\": \"Query 1\"}, {\"date\": \"1928-01-02\", \"total_results\": 0, \"total_articles\": 0, \"url\": \"https://trove.nla.gov.au/search/category/newspapers?keyword=text%3A%22darling%20wife%22%20date%3A%5B1850%20TO%201954%5D&l-decade=192&l-year=1928\", \"id\": \"Query 1\"}, {\"date\": \"1929-01-02\", \"total_results\": 0, \"total_articles\": 0, \"url\": \"https://trove.nla.gov.au/search/category/newspapers?keyword=text%3A%22darling%20wife%22%20date%3A%5B1850%20TO%201954%5D&l-decade=192&l-year=1929\", \"id\": \"Query 1\"}, {\"date\": \"1930-01-02\", \"total_results\": 0, \"total_articles\": 0, \"url\": \"https://trove.nla.gov.au/search/category/newspapers?keyword=text%3A%22darling%20wife%22%20date%3A%5B1850%20TO%201954%5D&l-decade=193&l-year=1930\", \"id\": \"Query 1\"}, {\"date\": \"1931-01-02\", \"total_results\": 0, \"total_articles\": 0, \"url\": \"https://trove.nla.gov.au/search/category/newspapers?keyword=text%3A%22darling%20wife%22%20date%3A%5B1850%20TO%201954%5D&l-decade=193&l-year=1931\", \"id\": \"Query 1\"}, {\"date\": \"1932-01-02\", \"total_results\": 0, \"total_articles\": 0, \"url\": \"https://trove.nla.gov.au/search/category/newspapers?keyword=text%3A%22darling%20wife%22%20date%3A%5B1850%20TO%201954%5D&l-decade=193&l-year=1932\", \"id\": \"Query 1\"}, {\"date\": \"1933-01-02\", \"total_results\": 0, \"total_articles\": 0, \"url\": \"https://trove.nla.gov.au/search/category/newspapers?keyword=text%3A%22darling%20wife%22%20date%3A%5B1850%20TO%201954%5D&l-decade=193&l-year=1933\", \"id\": \"Query 1\"}, {\"date\": \"1934-01-02\", \"total_results\": 0, \"total_articles\": 0, \"url\": \"https://trove.nla.gov.au/search/category/newspapers?keyword=text%3A%22darling%20wife%22%20date%3A%5B1850%20TO%201954%5D&l-decade=193&l-year=1934\", \"id\": \"Query 1\"}, {\"date\": \"1935-01-02\", \"total_results\": 0, \"total_articles\": 0, \"url\": \"https://trove.nla.gov.au/search/category/newspapers?keyword=text%3A%22darling%20wife%22%20date%3A%5B1850%20TO%201954%5D&l-decade=193&l-year=1935\", \"id\": \"Query 1\"}, {\"date\": \"1936-01-02\", \"total_results\": 0, \"total_articles\": 0, \"url\": \"https://trove.nla.gov.au/search/category/newspapers?keyword=text%3A%22darling%20wife%22%20date%3A%5B1850%20TO%201954%5D&l-decade=193&l-year=1936\", \"id\": \"Query 1\"}, {\"date\": \"1937-01-02\", \"total_results\": 0, \"total_articles\": 0, \"url\": \"https://trove.nla.gov.au/search/category/newspapers?keyword=text%3A%22darling%20wife%22%20date%3A%5B1850%20TO%201954%5D&l-decade=193&l-year=1937\", \"id\": \"Query 1\"}, {\"date\": \"1938-01-02\", \"total_results\": 0, \"total_articles\": 0, \"url\": \"https://trove.nla.gov.au/search/category/newspapers?keyword=text%3A%22darling%20wife%22%20date%3A%5B1850%20TO%201954%5D&l-decade=193&l-year=1938\", \"id\": \"Query 1\"}, {\"date\": \"1939-01-02\", \"total_results\": 0, \"total_articles\": 0, \"url\": \"https://trove.nla.gov.au/search/category/newspapers?keyword=text%3A%22darling%20wife%22%20date%3A%5B1850%20TO%201954%5D&l-decade=193&l-year=1939\", \"id\": \"Query 1\"}, {\"date\": \"1940-01-02\", \"total_results\": 0, \"total_articles\": 0, \"url\": \"https://trove.nla.gov.au/search/category/newspapers?keyword=text%3A%22darling%20wife%22%20date%3A%5B1850%20TO%201954%5D&l-decade=194&l-year=1940\", \"id\": \"Query 1\"}, {\"date\": \"1941-01-02\", \"total_results\": 0, \"total_articles\": 0, \"url\": \"https://trove.nla.gov.au/search/category/newspapers?keyword=text%3A%22darling%20wife%22%20date%3A%5B1850%20TO%201954%5D&l-decade=194&l-year=1941\", \"id\": \"Query 1\"}, {\"date\": \"1942-01-02\", \"total_results\": 0, \"total_articles\": 0, \"url\": \"https://trove.nla.gov.au/search/category/newspapers?keyword=text%3A%22darling%20wife%22%20date%3A%5B1850%20TO%201954%5D&l-decade=194&l-year=1942\", \"id\": \"Query 1\"}, {\"date\": \"1943-01-02\", \"total_results\": 0, \"total_articles\": 0, \"url\": \"https://trove.nla.gov.au/search/category/newspapers?keyword=text%3A%22darling%20wife%22%20date%3A%5B1850%20TO%201954%5D&l-decade=194&l-year=1943\", \"id\": \"Query 1\"}, {\"date\": \"1944-01-02\", \"total_results\": 0, \"total_articles\": 0, \"url\": \"https://trove.nla.gov.au/search/category/newspapers?keyword=text%3A%22darling%20wife%22%20date%3A%5B1850%20TO%201954%5D&l-decade=194&l-year=1944\", \"id\": \"Query 1\"}, {\"date\": \"1945-01-02\", \"total_results\": 0, \"total_articles\": 0, \"url\": \"https://trove.nla.gov.au/search/category/newspapers?keyword=text%3A%22darling%20wife%22%20date%3A%5B1850%20TO%201954%5D&l-decade=194&l-year=1945\", \"id\": \"Query 1\"}, {\"date\": \"1946-01-02\", \"total_results\": 0, \"total_articles\": 0, \"url\": \"https://trove.nla.gov.au/search/category/newspapers?keyword=text%3A%22darling%20wife%22%20date%3A%5B1850%20TO%201954%5D&l-decade=194&l-year=1946\", \"id\": \"Query 1\"}, {\"date\": \"1947-01-02\", \"total_results\": 0, \"total_articles\": 0, \"url\": \"https://trove.nla.gov.au/search/category/newspapers?keyword=text%3A%22darling%20wife%22%20date%3A%5B1850%20TO%201954%5D&l-decade=194&l-year=1947\", \"id\": \"Query 1\"}, {\"date\": \"1948-01-02\", \"total_results\": 0, \"total_articles\": 0, \"url\": \"https://trove.nla.gov.au/search/category/newspapers?keyword=text%3A%22darling%20wife%22%20date%3A%5B1850%20TO%201954%5D&l-decade=194&l-year=1948\", \"id\": \"Query 1\"}, {\"date\": \"1949-01-02\", \"total_results\": 0, \"total_articles\": 0, \"url\": \"https://trove.nla.gov.au/search/category/newspapers?keyword=text%3A%22darling%20wife%22%20date%3A%5B1850%20TO%201954%5D&l-decade=194&l-year=1949\", \"id\": \"Query 1\"}, {\"date\": \"1950-01-02\", \"total_results\": 0, \"total_articles\": 0, \"url\": \"https://trove.nla.gov.au/search/category/newspapers?keyword=text%3A%22darling%20wife%22%20date%3A%5B1850%20TO%201954%5D&l-decade=195&l-year=1950\", \"id\": \"Query 1\"}, {\"date\": \"1951-01-02\", \"total_results\": 0, \"total_articles\": 0, \"url\": \"https://trove.nla.gov.au/search/category/newspapers?keyword=text%3A%22darling%20wife%22%20date%3A%5B1850%20TO%201954%5D&l-decade=195&l-year=1951\", \"id\": \"Query 1\"}, {\"date\": \"1952-01-02\", \"total_results\": 0, \"total_articles\": 0, \"url\": \"https://trove.nla.gov.au/search/category/newspapers?keyword=text%3A%22darling%20wife%22%20date%3A%5B1850%20TO%201954%5D&l-decade=195&l-year=1952\", \"id\": \"Query 1\"}, {\"date\": \"1953-01-02\", \"total_results\": 0, \"total_articles\": 0, \"url\": \"https://trove.nla.gov.au/search/category/newspapers?keyword=text%3A%22darling%20wife%22%20date%3A%5B1850%20TO%201954%5D&l-decade=195&l-year=1953\", \"id\": \"Query 1\"}], \"data-a84671b8975528608e8fe6591fb4c574\": [{\"x\": 0, \"y\": 0, \"id\": \"Query 1\", \"url\": \"https://trove.nla.gov.au/search/category/newspapers?keyword=text%3A%22darling%20wife%22%20date%3A%5B1850%20TO%201954%5D\", \"params\": \"keyword=text%3A%22darling%20wife%22%20date%3A%5B1850%20TO%201954%5D\"}]}}, {\"mode\": \"vega-lite\"});\n</script>",
          "text/plain": "alt.VConcatChart(...)"
         },
         "metadata": {},
         "output_type": "display_data"
        }
       ]
      }
     },
     "e8948945b9354318b531b000f7b3c8ac": {
      "model_module": "@jupyter-widgets/controls",
      "model_module_version": "1.5.0",
      "model_name": "HTMLModel",
      "state": {
       "layout": "IPY_MODEL_fc070f6794ac4b54917dfa0061f63c22",
       "style": "IPY_MODEL_6fba0300bc6240d3a0d4d2a7d7d467e5",
       "value": " 11/11 [00:31&lt;00:00,  5.74s/it]"
      }
     },
     "e8ead9f571264a6f94cb41821a394f1f": {
      "model_module": "@jupyter-widgets/base",
      "model_module_version": "1.2.0",
      "model_name": "LayoutModel",
      "state": {}
     },
     "e8fbe2bcbf10462bbb113b18b0aa8afa": {
      "model_module": "@jupyter-widgets/controls",
      "model_module_version": "1.5.0",
      "model_name": "HBoxModel",
      "state": {
       "children": [
        "IPY_MODEL_b69356abd8be454e8a03c1cad074f4d6",
        "IPY_MODEL_1269c6ad24124d85991700e4a0b68d3f",
        "IPY_MODEL_ae7de187bfa343d79b1de771f72094b9"
       ],
       "layout": "IPY_MODEL_6a68a0d93bcb40bab60405ab5b35c8b5"
      }
     },
     "e8fe891304364ecd911299beddf04ac7": {
      "model_module": "@jupyter-widgets/controls",
      "model_module_version": "1.5.0",
      "model_name": "DescriptionStyleModel",
      "state": {
       "description_width": ""
      }
     },
     "e97c500c484449e88a39ef46447216e0": {
      "model_module": "@jupyter-widgets/controls",
      "model_module_version": "1.5.0",
      "model_name": "DescriptionStyleModel",
      "state": {
       "description_width": ""
      }
     },
     "e9ed0e0d2e5d4ed9b688dff34a2c1963": {
      "model_module": "@jupyter-widgets/controls",
      "model_module_version": "1.5.0",
      "model_name": "HBoxModel",
      "state": {
       "children": [
        "IPY_MODEL_0320db77578b4dceafa13539381d4bc7",
        "IPY_MODEL_43a9dfe72d484c1cb6975642756eb5bd",
        "IPY_MODEL_1b76696308194928ad61484f83d56956"
       ],
       "layout": "IPY_MODEL_d6d2ceba9ac147beb565ea607ed0d98a"
      }
     },
     "e9faef5a49884ceb919762993546723c": {
      "model_module": "@jupyter-widgets/controls",
      "model_module_version": "1.5.0",
      "model_name": "ButtonStyleModel",
      "state": {}
     },
     "ea29250a824b41df9b7075e12199617c": {
      "model_module": "@jupyter-widgets/controls",
      "model_module_version": "1.5.0",
      "model_name": "ProgressStyleModel",
      "state": {
       "description_width": ""
      }
     },
     "ea50d79709fd470b811b3b9bc2e632a0": {
      "model_module": "@jupyter-widgets/controls",
      "model_module_version": "1.5.0",
      "model_name": "HTMLModel",
      "state": {
       "layout": "IPY_MODEL_2aba04411b3042ef912bff5c9afa1db3",
       "style": "IPY_MODEL_429db81e86c4433eaf2969a8deb8409b",
       "value": "  0%"
      }
     },
     "ea8aef8900ae4526b99055011e783c8a": {
      "model_module": "@jupyter-widgets/controls",
      "model_module_version": "1.5.0",
      "model_name": "HBoxModel",
      "state": {
       "children": [
        "IPY_MODEL_e20f52fd13bc4fc1988272ff30149035",
        "IPY_MODEL_cf43568c496a4a819e724138f312da89",
        "IPY_MODEL_4ebfe79806bf438f9a545e32121ddd34"
       ],
       "layout": "IPY_MODEL_dad69f03081d4529bff73f1d152ac407"
      }
     },
     "ead89fc42c204d648e16cf23309b4771": {
      "model_module": "@jupyter-widgets/output",
      "model_module_version": "1.0.0",
      "model_name": "OutputModel",
      "state": {
       "layout": "IPY_MODEL_d1d77102f516478ea1a3b00ec7981520",
       "outputs": [
        {
         "data": {
          "application/vnd.jupyter.widget-view+json": {
           "model_id": "",
           "version_major": 2,
           "version_minor": 0
          },
          "text/plain": "HBox(children=(Button(button_style='primary', description='Save chart as HTML', style=ButtonStyle(), tooltip='…"
         },
         "metadata": {},
         "output_type": "display_data"
        },
        {
         "data": {
          "text/html": "Download data: <a href=\"data/querypic-20220624225023.csv\" download>data/querypic-20220624225023.csv</a>",
          "text/plain": "<IPython.core.display.HTML object>"
         },
         "metadata": {},
         "output_type": "display_data"
        }
       ]
      }
     },
     "eb312f0b6dd141ac846addf27a6cbd13": {
      "model_module": "@jupyter-widgets/controls",
      "model_module_version": "1.5.0",
      "model_name": "HTMLModel",
      "state": {
       "layout": "IPY_MODEL_f1cbaf2422244dcf901f52b0494c37da",
       "style": "IPY_MODEL_d0a69a9cb760409094146c64c720950a",
       "value": " 6/6 [00:09&lt;00:00,  1.55s/it]"
      }
     },
     "eb5d5ce0dbdb47d69ec2a8e68a83d0c0": {
      "model_module": "@jupyter-widgets/controls",
      "model_module_version": "1.5.0",
      "model_name": "DropdownModel",
      "state": {
       "_options_labels": [
        "Raw number of results",
        "Proportion of total articles"
       ],
       "index": 0,
       "layout": "IPY_MODEL_e6d4b24976e243eb80c5250d476a2fa4",
       "style": "IPY_MODEL_cca92cfd8d914326a4bef9a0715f5973"
      }
     },
     "eb96507b78984205b898255702c3266e": {
      "model_module": "@jupyter-widgets/base",
      "model_module_version": "1.2.0",
      "model_name": "LayoutModel",
      "state": {}
     },
     "ebba1a6f7af647df85cd370bc6c1026d": {
      "model_module": "@jupyter-widgets/controls",
      "model_module_version": "1.5.0",
      "model_name": "ButtonModel",
      "state": {
       "description": "Clear all queries",
       "layout": "IPY_MODEL_b91ca2dcbf334e01a467f9e79b09cf13",
       "style": "IPY_MODEL_72ec49f428a94a678b20b0e629a30623",
       "tooltip": "Clear current queries"
      }
     },
     "ec97835457484d3894c85cbdf423dac9": {
      "model_module": "@jupyter-widgets/base",
      "model_module_version": "1.2.0",
      "model_name": "LayoutModel",
      "state": {}
     },
     "ecb8bd70f4be497884e30b6c02c05900": {
      "model_module": "@jupyter-widgets/base",
      "model_module_version": "1.2.0",
      "model_name": "LayoutModel",
      "state": {}
     },
     "ecd34f52f5ee42f4ae3598a4e40d089a": {
      "model_module": "@jupyter-widgets/controls",
      "model_module_version": "1.5.0",
      "model_name": "ButtonStyleModel",
      "state": {}
     },
     "ed35e1061f184652a91960658865363f": {
      "model_module": "@jupyter-widgets/controls",
      "model_module_version": "1.5.0",
      "model_name": "ButtonModel",
      "state": {
       "button_style": "primary",
       "description": "Visualise query",
       "layout": "IPY_MODEL_1a83c04832484b5faeda383a9b750dc7",
       "style": "IPY_MODEL_44fc794dbc154e5ca7413f796e151976",
       "tooltip": "Create chart from query"
      }
     },
     "ed3b72182e604885828bfdb4789d0fdc": {
      "model_module": "@jupyter-widgets/controls",
      "model_module_version": "1.5.0",
      "model_name": "ProgressStyleModel",
      "state": {
       "description_width": ""
      }
     },
     "ed3ba2e1fef44654b81ca87dab63319a": {
      "model_module": "@jupyter-widgets/controls",
      "model_module_version": "1.5.0",
      "model_name": "TextModel",
      "state": {
       "description": "Query:",
       "layout": "IPY_MODEL_bb903fd2582d46f393679f655de58ff7",
       "placeholder": "Enter your search query",
       "style": "IPY_MODEL_d68ad6672c0a4f4bb11d226d81aa48d1",
       "value": "https://trove.nla.gov.au/search/category/newspapers?keyword=text%3A%22darling%20wife%22%20date%3A%5B1850%20TO%201954%5D"
      }
     },
     "ed5a38c274c2401492698372772d1f1e": {
      "model_module": "@jupyter-widgets/controls",
      "model_module_version": "1.5.0",
      "model_name": "ButtonModel",
      "state": {
       "description": "Clear all queries",
       "layout": "IPY_MODEL_74bc548c785c41278723b7b2cc0a8ff8",
       "style": "IPY_MODEL_ad49be54997042a5af9f385a97d981a0",
       "tooltip": "Clear current queries"
      }
     },
     "ee35fe4eca13405cb9932f0646382938": {
      "model_module": "@jupyter-widgets/controls",
      "model_module_version": "1.5.0",
      "model_name": "DescriptionStyleModel",
      "state": {
       "description_width": ""
      }
     },
     "ee5b8e5516e942d6942b2b800766fb4d": {
      "model_module": "@jupyter-widgets/controls",
      "model_module_version": "1.5.0",
      "model_name": "ButtonStyleModel",
      "state": {}
     },
     "ee68a8a4e6a44379b93be5ca73ca3364": {
      "model_module": "@jupyter-widgets/controls",
      "model_module_version": "1.5.0",
      "model_name": "DescriptionStyleModel",
      "state": {
       "description_width": ""
      }
     },
     "eed78c6810624773adaf2ea0b5dbde4e": {
      "model_module": "@jupyter-widgets/base",
      "model_module_version": "1.2.0",
      "model_name": "LayoutModel",
      "state": {}
     },
     "eedbd769e21240a3b623921c7e74d5d8": {
      "model_module": "@jupyter-widgets/controls",
      "model_module_version": "1.5.0",
      "model_name": "DescriptionStyleModel",
      "state": {
       "description_width": ""
      }
     },
     "ef2a5ff762554c63bea059ee5901a5c1": {
      "model_module": "@jupyter-widgets/base",
      "model_module_version": "1.2.0",
      "model_name": "LayoutModel",
      "state": {}
     },
     "ef55cbe63e624e03af25e81c93ea4a0b": {
      "model_module": "@jupyter-widgets/base",
      "model_module_version": "1.2.0",
      "model_name": "LayoutModel",
      "state": {}
     },
     "efd1e076fa464c2c93458a728f82a80c": {
      "model_module": "@jupyter-widgets/base",
      "model_module_version": "1.2.0",
      "model_name": "LayoutModel",
      "state": {}
     },
     "efe74d38aabf454687841e7383779eed": {
      "model_module": "@jupyter-widgets/controls",
      "model_module_version": "1.5.0",
      "model_name": "BoundedIntTextModel",
      "state": {
       "description": "Width",
       "layout": "IPY_MODEL_9189bc0fa06a4f0aba55896979370c87",
       "max": 2000,
       "min": 700,
       "step": 100,
       "style": "IPY_MODEL_53b81767c86b487e8942a114287dc2a3",
       "value": 700
      }
     },
     "eff02808beb643bd9264cb7074985a5d": {
      "model_module": "@jupyter-widgets/base",
      "model_module_version": "1.2.0",
      "model_name": "LayoutModel",
      "state": {}
     },
     "f00bcf9703be4440951c3bccb4c73b7a": {
      "model_module": "@jupyter-widgets/controls",
      "model_module_version": "1.5.0",
      "model_name": "VBoxModel",
      "state": {
       "children": [
        "IPY_MODEL_e8fbe2bcbf10462bbb113b18b0aa8afa",
        "IPY_MODEL_3508ff13705340f7b7f620201e981909",
        "IPY_MODEL_503517ddecc54c6d846fd52bae63e154"
       ],
       "layout": "IPY_MODEL_56e90a3f358643cda5e919f02319bff6"
      }
     },
     "f0639b9cc2f048c3863cae0cdee84c99": {
      "model_module": "@jupyter-widgets/controls",
      "model_module_version": "1.5.0",
      "model_name": "ButtonStyleModel",
      "state": {}
     },
     "f0706379575d483e840f3d528c458d68": {
      "model_module": "@jupyter-widgets/base",
      "model_module_version": "1.2.0",
      "model_name": "LayoutModel",
      "state": {}
     },
     "f0d5f3215c3c4713aed25ffadf4bee9d": {
      "model_module": "@jupyter-widgets/base",
      "model_module_version": "1.2.0",
      "model_name": "LayoutModel",
      "state": {}
     },
     "f0d75cc487aa4f8fbb3e93ed8a547f84": {
      "model_module": "@jupyter-widgets/base",
      "model_module_version": "1.2.0",
      "model_name": "LayoutModel",
      "state": {}
     },
     "f0e2b4c7dce346c28dea930f25c1cdff": {
      "model_module": "@jupyter-widgets/base",
      "model_module_version": "1.2.0",
      "model_name": "LayoutModel",
      "state": {}
     },
     "f0ec1a7ce7b54bbf9c9b1704063cd087": {
      "model_module": "@jupyter-widgets/controls",
      "model_module_version": "1.5.0",
      "model_name": "HBoxModel",
      "state": {
       "children": [
        "IPY_MODEL_b0b49a3e1fad44248acd6a446614288a",
        "IPY_MODEL_5c8187e43d89466c9cf44c0918a61dbd",
        "IPY_MODEL_bd25408e58bf407fac6afab8d4d49352"
       ],
       "layout": "IPY_MODEL_2878d06c75014c43a05dd4b937d554c0"
      }
     },
     "f12d476622f34841839d022d1f22ad1e": {
      "model_module": "@jupyter-widgets/controls",
      "model_module_version": "1.5.0",
      "model_name": "HTMLModel",
      "state": {
       "layout": "IPY_MODEL_5fcbea0ae08848369148acaba9516716",
       "style": "IPY_MODEL_f4ed263526504a15ade09ae985cd8740",
       "value": " 6/6 [00:09&lt;00:00,  1.53s/it]"
      }
     },
     "f1cbaf2422244dcf901f52b0494c37da": {
      "model_module": "@jupyter-widgets/base",
      "model_module_version": "1.2.0",
      "model_name": "LayoutModel",
      "state": {}
     },
     "f1db4afb0e5c4a08af2213ef3056fc01": {
      "model_module": "@jupyter-widgets/base",
      "model_module_version": "1.2.0",
      "model_name": "LayoutModel",
      "state": {}
     },
     "f20dec482a81453b8ac4e747dd0013d4": {
      "model_module": "@jupyter-widgets/controls",
      "model_module_version": "1.5.0",
      "model_name": "DropdownModel",
      "state": {
       "_options_labels": [
        "Raw number of results",
        "Proportion of total articles"
       ],
       "index": 0,
       "layout": "IPY_MODEL_7135cac9eb4b463c99ba64d8c74a7bb6",
       "style": "IPY_MODEL_d6e8e47bd48a48e6b4e117156cc957df"
      }
     },
     "f21c58431c554dd596f796481c345805": {
      "model_module": "@jupyter-widgets/base",
      "model_module_version": "1.2.0",
      "model_name": "LayoutModel",
      "state": {}
     },
     "f29e896f0c7e494681b523b47910a36f": {
      "model_module": "@jupyter-widgets/base",
      "model_module_version": "1.2.0",
      "model_name": "LayoutModel",
      "state": {
       "margin": "0 0 20px 0"
      }
     },
     "f31178e7a2a0487fbbb7bfa3b2ebb891": {
      "model_module": "@jupyter-widgets/controls",
      "model_module_version": "1.5.0",
      "model_name": "DescriptionStyleModel",
      "state": {
       "description_width": ""
      }
     },
     "f33ae31d73b44fba9bbdb54c1ef2490f": {
      "model_module": "@jupyter-widgets/base",
      "model_module_version": "1.2.0",
      "model_name": "LayoutModel",
      "state": {}
     },
     "f37d966b78874a3a80d3236756153bae": {
      "model_module": "@jupyter-widgets/controls",
      "model_module_version": "1.5.0",
      "model_name": "HTMLModel",
      "state": {
       "layout": "IPY_MODEL_173bac2d24b641fcb540a0092f60d7a2",
       "style": "IPY_MODEL_a5864a1fdcd14bf3b8ef1c515180bbf6",
       "value": " 6/6 [00:09&lt;00:00,  1.46s/it]"
      }
     },
     "f3f6cc17077f41028cf1b79bbde7472e": {
      "model_module": "@jupyter-widgets/base",
      "model_module_version": "1.2.0",
      "model_name": "LayoutModel",
      "state": {}
     },
     "f3f880b2f1594374aaca079e13bfe4dc": {
      "model_module": "@jupyter-widgets/base",
      "model_module_version": "1.2.0",
      "model_name": "LayoutModel",
      "state": {}
     },
     "f42306a4bd554657af38006d9c7178ff": {
      "model_module": "@jupyter-widgets/output",
      "model_module_version": "1.0.0",
      "model_name": "OutputModel",
      "state": {
       "layout": "IPY_MODEL_21af5c01a03f422db26aca53a11118ed",
       "outputs": [
        {
         "data": {
          "application/vnd.jupyter.widget-view+json": {
           "model_id": "",
           "version_major": 2,
           "version_minor": 0
          },
          "text/plain": "Dropdown(options=(('Raw number of results', 'raw'), ('Proportion of total articles', 'proportion')), value='ra…"
         },
         "metadata": {},
         "output_type": "display_data"
        },
        {
         "data": {
          "text/html": "\n<div id=\"altair-viz-ebafbf15eabb4a82b4e2f56afcc66906\"></div>\n<script type=\"text/javascript\">\n  var VEGA_DEBUG = (typeof VEGA_DEBUG == \"undefined\") ? {} : VEGA_DEBUG;\n  (function(spec, embedOpt){\n    let outputDiv = document.currentScript.previousElementSibling;\n    if (outputDiv.id !== \"altair-viz-ebafbf15eabb4a82b4e2f56afcc66906\") {\n      outputDiv = document.getElementById(\"altair-viz-ebafbf15eabb4a82b4e2f56afcc66906\");\n    }\n    const paths = {\n      \"vega\": \"https://cdn.jsdelivr.net/npm//vega@5?noext\",\n      \"vega-lib\": \"https://cdn.jsdelivr.net/npm//vega-lib?noext\",\n      \"vega-lite\": \"https://cdn.jsdelivr.net/npm//vega-lite@4.17.0?noext\",\n      \"vega-embed\": \"https://cdn.jsdelivr.net/npm//vega-embed@6?noext\",\n    };\n\n    function maybeLoadScript(lib, version) {\n      var key = `${lib.replace(\"-\", \"\")}_version`;\n      return (VEGA_DEBUG[key] == version) ?\n        Promise.resolve(paths[lib]) :\n        new Promise(function(resolve, reject) {\n          var s = document.createElement('script');\n          document.getElementsByTagName(\"head\")[0].appendChild(s);\n          s.async = true;\n          s.onload = () => {\n            VEGA_DEBUG[key] = version;\n            return resolve(paths[lib]);\n          };\n          s.onerror = () => reject(`Error loading script: ${paths[lib]}`);\n          s.src = paths[lib];\n        });\n    }\n\n    function showError(err) {\n      outputDiv.innerHTML = `<div class=\"error\" style=\"color:red;\">${err}</div>`;\n      throw err;\n    }\n\n    function displayChart(vegaEmbed) {\n      vegaEmbed(outputDiv, spec, embedOpt)\n        .catch(err => showError(`Javascript Error: ${err.message}<br>This usually means there's a typo in your chart specification. See the javascript console for the full traceback.`));\n    }\n\n    if(typeof define === \"function\" && define.amd) {\n      requirejs.config({paths});\n      require([\"vega-embed\"], displayChart, err => showError(`Error loading script: ${err.message}`));\n    } else {\n      maybeLoadScript(\"vega\", \"5\")\n        .then(() => maybeLoadScript(\"vega-lite\", \"4.17.0\"))\n        .then(() => maybeLoadScript(\"vega-embed\", \"6\"))\n        .catch(showError)\n        .then(() => displayChart(vegaEmbed));\n    }\n  })({\"usermeta\": {\"embedOptions\": {\"loader\": {\"target\": \"_blank\"}}}, \"vconcat\": [{\"data\": {\"name\": \"data-81b816da2c193c56ebb1b2276739211c\"}, \"mark\": {\"type\": \"line\", \"interpolate\": \"cardinal\", \"point\": true}, \"encoding\": {\"color\": {\"field\": \"id\", \"legend\": {\"title\": \"\"}, \"type\": \"nominal\"}, \"href\": {\"field\": \"url\", \"type\": \"nominal\"}, \"tooltip\": [{\"field\": \"id\", \"title\": \"query\", \"type\": \"nominal\"}, {\"field\": \"date\", \"timeUnit\": \"year\", \"title\": \"year\", \"type\": \"temporal\"}, {\"field\": \"total_results\", \"format\": \",\", \"title\": \"results\", \"type\": \"quantitative\"}, {\"field\": \"PercentOfTotal\", \"format\": \".2%\", \"title\": \"proportion\", \"type\": \"quantitative\"}], \"x\": {\"axis\": {\"title\": \"Year\"}, \"field\": \"date\", \"scale\": {\"padding\": 10}, \"timeUnit\": \"year\", \"type\": \"temporal\"}, \"y\": {\"axis\": {\"format\": \",d\", \"title\": \"Number of articles\"}, \"field\": \"total_results\", \"type\": \"quantitative\"}}, \"height\": 400, \"title\": {\"text\": \"Trove Newspapers & Gazettes Search\", \"subtitle\": \"Created by QueryPic: 24 June 2022\"}, \"transform\": [{\"calculate\": \"datum.total_results / datum.total_articles\", \"as\": \"PercentOfTotal\"}], \"width\": 800}, {\"data\": {\"name\": \"data-1ba4d5b57e33ea77ff07e393e04049e1\"}, \"mark\": {\"type\": \"text\", \"align\": \"left\", \"baseline\": \"middle\", \"dx\": 2, \"dy\": 1}, \"encoding\": {\"color\": {\"value\": \"blue\"}, \"href\": {\"field\": \"url\", \"type\": \"nominal\"}, \"text\": {\"field\": \"url\", \"type\": \"nominal\"}, \"x\": {\"axis\": null, \"field\": \"x\", \"scale\": {\"range\": [0, 1]}, \"title\": null, \"type\": \"quantitative\"}, \"y\": {\"axis\": {\"domain\": false, \"grid\": false, \"labelFontWeight\": \"bold\"}, \"field\": \"id\", \"title\": null, \"type\": \"ordinal\"}}}], \"config\": {\"padding\": 20, \"title\": {\"fontSize\": 14}, \"view\": {\"strokeWidth\": 0}}, \"$schema\": \"https://vega.github.io/schema/vega-lite/v4.17.0.json\", \"datasets\": {\"data-81b816da2c193c56ebb1b2276739211c\": [{\"date\": \"1899-12-31\", \"total_results\": 0, \"total_articles\": 0, \"url\": \"https://trove.nla.gov.au/search/category/newspapers?keyword=cat%20&l-decade=189&l-year=1899\", \"id\": \"Query 1\"}, {\"date\": \"1900-12-31\", \"total_results\": 0, \"total_articles\": 0, \"url\": \"https://trove.nla.gov.au/search/category/newspapers?keyword=cat%20&l-decade=190&l-year=1900\", \"id\": \"Query 1\"}, {\"date\": \"1901-12-31\", \"total_results\": 0, \"total_articles\": 0, \"url\": \"https://trove.nla.gov.au/search/category/newspapers?keyword=cat%20&l-decade=190&l-year=1901\", \"id\": \"Query 1\"}, {\"date\": \"1902-12-31\", \"total_results\": 0, \"total_articles\": 0, \"url\": \"https://trove.nla.gov.au/search/category/newspapers?keyword=cat%20&l-decade=190&l-year=1902\", \"id\": \"Query 1\"}, {\"date\": \"1903-12-31\", \"total_results\": 0, \"total_articles\": 0, \"url\": \"https://trove.nla.gov.au/search/category/newspapers?keyword=cat%20&l-decade=190&l-year=1903\", \"id\": \"Query 1\"}, {\"date\": \"1904-12-31\", \"total_results\": 0, \"total_articles\": 0, \"url\": \"https://trove.nla.gov.au/search/category/newspapers?keyword=cat%20&l-decade=190&l-year=1904\", \"id\": \"Query 1\"}, {\"date\": \"1905-12-31\", \"total_results\": 0, \"total_articles\": 0, \"url\": \"https://trove.nla.gov.au/search/category/newspapers?keyword=cat%20&l-decade=190&l-year=1905\", \"id\": \"Query 1\"}, {\"date\": \"1906-12-31\", \"total_results\": 0, \"total_articles\": 0, \"url\": \"https://trove.nla.gov.au/search/category/newspapers?keyword=cat%20&l-decade=190&l-year=1906\", \"id\": \"Query 1\"}, {\"date\": \"1907-12-31\", \"total_results\": 0, \"total_articles\": 0, \"url\": \"https://trove.nla.gov.au/search/category/newspapers?keyword=cat%20&l-decade=190&l-year=1907\", \"id\": \"Query 1\"}, {\"date\": \"1908-12-31\", \"total_results\": 0, \"total_articles\": 0, \"url\": \"https://trove.nla.gov.au/search/category/newspapers?keyword=cat%20&l-decade=190&l-year=1908\", \"id\": \"Query 1\"}, {\"date\": \"1909-12-31\", \"total_results\": 0, \"total_articles\": 0, \"url\": \"https://trove.nla.gov.au/search/category/newspapers?keyword=cat%20&l-decade=190&l-year=1909\", \"id\": \"Query 1\"}, {\"date\": \"1910-12-31\", \"total_results\": 0, \"total_articles\": 0, \"url\": \"https://trove.nla.gov.au/search/category/newspapers?keyword=cat%20&l-decade=191&l-year=1910\", \"id\": \"Query 1\"}, {\"date\": \"1911-12-31\", \"total_results\": 0, \"total_articles\": 0, \"url\": \"https://trove.nla.gov.au/search/category/newspapers?keyword=cat%20&l-decade=191&l-year=1911\", \"id\": \"Query 1\"}, {\"date\": \"1912-12-31\", \"total_results\": 0, \"total_articles\": 0, \"url\": \"https://trove.nla.gov.au/search/category/newspapers?keyword=cat%20&l-decade=191&l-year=1912\", \"id\": \"Query 1\"}, {\"date\": \"1913-12-31\", \"total_results\": 0, \"total_articles\": 0, \"url\": \"https://trove.nla.gov.au/search/category/newspapers?keyword=cat%20&l-decade=191&l-year=1913\", \"id\": \"Query 1\"}, {\"date\": \"1914-12-31\", \"total_results\": 0, \"total_articles\": 0, \"url\": \"https://trove.nla.gov.au/search/category/newspapers?keyword=cat%20&l-decade=191&l-year=1914\", \"id\": \"Query 1\"}, {\"date\": \"1915-12-31\", \"total_results\": 0, \"total_articles\": 0, \"url\": \"https://trove.nla.gov.au/search/category/newspapers?keyword=cat%20&l-decade=191&l-year=1915\", \"id\": \"Query 1\"}, {\"date\": \"1916-12-31\", \"total_results\": 0, \"total_articles\": 0, \"url\": \"https://trove.nla.gov.au/search/category/newspapers?keyword=cat%20&l-decade=191&l-year=1916\", \"id\": \"Query 1\"}, {\"date\": \"1917-12-31\", \"total_results\": 0, \"total_articles\": 0, \"url\": \"https://trove.nla.gov.au/search/category/newspapers?keyword=cat%20&l-decade=191&l-year=1917\", \"id\": \"Query 1\"}, {\"date\": \"1918-12-31\", \"total_results\": 0, \"total_articles\": 0, \"url\": \"https://trove.nla.gov.au/search/category/newspapers?keyword=cat%20&l-decade=191&l-year=1918\", \"id\": \"Query 1\"}, {\"date\": \"1919-12-31\", \"total_results\": 0, \"total_articles\": 0, \"url\": \"https://trove.nla.gov.au/search/category/newspapers?keyword=cat%20&l-decade=191&l-year=1919\", \"id\": \"Query 1\"}, {\"date\": \"1920-12-31\", \"total_results\": 0, \"total_articles\": 0, \"url\": \"https://trove.nla.gov.au/search/category/newspapers?keyword=cat%20&l-decade=192&l-year=1920\", \"id\": \"Query 1\"}, {\"date\": \"1921-12-31\", \"total_results\": 0, \"total_articles\": 0, \"url\": \"https://trove.nla.gov.au/search/category/newspapers?keyword=cat%20&l-decade=192&l-year=1921\", \"id\": \"Query 1\"}, {\"date\": \"1922-12-31\", \"total_results\": 0, \"total_articles\": 0, \"url\": \"https://trove.nla.gov.au/search/category/newspapers?keyword=cat%20&l-decade=192&l-year=1922\", \"id\": \"Query 1\"}, {\"date\": \"1923-12-31\", \"total_results\": 0, \"total_articles\": 0, \"url\": \"https://trove.nla.gov.au/search/category/newspapers?keyword=cat%20&l-decade=192&l-year=1923\", \"id\": \"Query 1\"}, {\"date\": \"1924-12-31\", \"total_results\": 0, \"total_articles\": 0, \"url\": \"https://trove.nla.gov.au/search/category/newspapers?keyword=cat%20&l-decade=192&l-year=1924\", \"id\": \"Query 1\"}, {\"date\": \"1925-12-31\", \"total_results\": 0, \"total_articles\": 0, \"url\": \"https://trove.nla.gov.au/search/category/newspapers?keyword=cat%20&l-decade=192&l-year=1925\", \"id\": \"Query 1\"}, {\"date\": \"1926-12-31\", \"total_results\": 0, \"total_articles\": 0, \"url\": \"https://trove.nla.gov.au/search/category/newspapers?keyword=cat%20&l-decade=192&l-year=1926\", \"id\": \"Query 1\"}, {\"date\": \"1927-12-31\", \"total_results\": 0, \"total_articles\": 0, \"url\": \"https://trove.nla.gov.au/search/category/newspapers?keyword=cat%20&l-decade=192&l-year=1927\", \"id\": \"Query 1\"}, {\"date\": \"1928-12-31\", \"total_results\": 0, \"total_articles\": 0, \"url\": \"https://trove.nla.gov.au/search/category/newspapers?keyword=cat%20&l-decade=192&l-year=1928\", \"id\": \"Query 1\"}, {\"date\": \"1929-12-31\", \"total_results\": 0, \"total_articles\": 0, \"url\": \"https://trove.nla.gov.au/search/category/newspapers?keyword=cat%20&l-decade=192&l-year=1929\", \"id\": \"Query 1\"}, {\"date\": \"1930-12-31\", \"total_results\": 0, \"total_articles\": 0, \"url\": \"https://trove.nla.gov.au/search/category/newspapers?keyword=cat%20&l-decade=193&l-year=1930\", \"id\": \"Query 1\"}, {\"date\": \"1931-12-31\", \"total_results\": 0, \"total_articles\": 0, \"url\": \"https://trove.nla.gov.au/search/category/newspapers?keyword=cat%20&l-decade=193&l-year=1931\", \"id\": \"Query 1\"}, {\"date\": \"1932-12-31\", \"total_results\": 0, \"total_articles\": 0, \"url\": \"https://trove.nla.gov.au/search/category/newspapers?keyword=cat%20&l-decade=193&l-year=1932\", \"id\": \"Query 1\"}, {\"date\": \"1933-12-31\", \"total_results\": 0, \"total_articles\": 0, \"url\": \"https://trove.nla.gov.au/search/category/newspapers?keyword=cat%20&l-decade=193&l-year=1933\", \"id\": \"Query 1\"}, {\"date\": \"1934-12-31\", \"total_results\": 0, \"total_articles\": 0, \"url\": \"https://trove.nla.gov.au/search/category/newspapers?keyword=cat%20&l-decade=193&l-year=1934\", \"id\": \"Query 1\"}, {\"date\": \"1935-12-31\", \"total_results\": 0, \"total_articles\": 0, \"url\": \"https://trove.nla.gov.au/search/category/newspapers?keyword=cat%20&l-decade=193&l-year=1935\", \"id\": \"Query 1\"}, {\"date\": \"1936-12-31\", \"total_results\": 0, \"total_articles\": 0, \"url\": \"https://trove.nla.gov.au/search/category/newspapers?keyword=cat%20&l-decade=193&l-year=1936\", \"id\": \"Query 1\"}, {\"date\": \"1937-12-31\", \"total_results\": 0, \"total_articles\": 0, \"url\": \"https://trove.nla.gov.au/search/category/newspapers?keyword=cat%20&l-decade=193&l-year=1937\", \"id\": \"Query 1\"}, {\"date\": \"1938-12-31\", \"total_results\": 0, \"total_articles\": 0, \"url\": \"https://trove.nla.gov.au/search/category/newspapers?keyword=cat%20&l-decade=193&l-year=1938\", \"id\": \"Query 1\"}, {\"date\": \"1939-12-31\", \"total_results\": 0, \"total_articles\": 0, \"url\": \"https://trove.nla.gov.au/search/category/newspapers?keyword=cat%20&l-decade=193&l-year=1939\", \"id\": \"Query 1\"}, {\"date\": \"1940-12-31\", \"total_results\": 0, \"total_articles\": 0, \"url\": \"https://trove.nla.gov.au/search/category/newspapers?keyword=cat%20&l-decade=194&l-year=1940\", \"id\": \"Query 1\"}, {\"date\": \"1941-12-31\", \"total_results\": 0, \"total_articles\": 0, \"url\": \"https://trove.nla.gov.au/search/category/newspapers?keyword=cat%20&l-decade=194&l-year=1941\", \"id\": \"Query 1\"}, {\"date\": \"1942-12-31\", \"total_results\": 0, \"total_articles\": 0, \"url\": \"https://trove.nla.gov.au/search/category/newspapers?keyword=cat%20&l-decade=194&l-year=1942\", \"id\": \"Query 1\"}, {\"date\": \"1943-12-31\", \"total_results\": 0, \"total_articles\": 0, \"url\": \"https://trove.nla.gov.au/search/category/newspapers?keyword=cat%20&l-decade=194&l-year=1943\", \"id\": \"Query 1\"}, {\"date\": \"1944-12-31\", \"total_results\": 0, \"total_articles\": 0, \"url\": \"https://trove.nla.gov.au/search/category/newspapers?keyword=cat%20&l-decade=194&l-year=1944\", \"id\": \"Query 1\"}, {\"date\": \"1945-12-31\", \"total_results\": 0, \"total_articles\": 0, \"url\": \"https://trove.nla.gov.au/search/category/newspapers?keyword=cat%20&l-decade=194&l-year=1945\", \"id\": \"Query 1\"}, {\"date\": \"1946-12-31\", \"total_results\": 0, \"total_articles\": 0, \"url\": \"https://trove.nla.gov.au/search/category/newspapers?keyword=cat%20&l-decade=194&l-year=1946\", \"id\": \"Query 1\"}, {\"date\": \"1947-12-31\", \"total_results\": 0, \"total_articles\": 0, \"url\": \"https://trove.nla.gov.au/search/category/newspapers?keyword=cat%20&l-decade=194&l-year=1947\", \"id\": \"Query 1\"}, {\"date\": \"1948-12-31\", \"total_results\": 0, \"total_articles\": 0, \"url\": \"https://trove.nla.gov.au/search/category/newspapers?keyword=cat%20&l-decade=194&l-year=1948\", \"id\": \"Query 1\"}, {\"date\": \"1949-12-31\", \"total_results\": 0, \"total_articles\": 0, \"url\": \"https://trove.nla.gov.au/search/category/newspapers?keyword=cat%20&l-decade=194&l-year=1949\", \"id\": \"Query 1\"}], \"data-1ba4d5b57e33ea77ff07e393e04049e1\": [{\"x\": 0, \"y\": 0, \"id\": \"Query 1\", \"url\": \"https://trove.nla.gov.au/search/category/newspapers?keyword=cat%20date:[1899-12-31T00:00:00Z TO 1950-01-01T00:00:00Z]\", \"params\": \"keyword=cat%20date:[1899-12-31T00:00:00Z TO 1950-01-01T00:00:00Z]\"}]}}, {\"mode\": \"vega-lite\"});\n</script>",
          "text/plain": "alt.VConcatChart(...)"
         },
         "metadata": {},
         "output_type": "display_data"
        }
       ]
      }
     },
     "f47bd5d58e9e4b6e8380ff704af0ae11": {
      "model_module": "@jupyter-widgets/output",
      "model_module_version": "1.0.0",
      "model_name": "OutputModel",
      "state": {
       "layout": "IPY_MODEL_5e1704cb0d7144e6a3c9af2f15570f9c",
       "outputs": [
        {
         "data": {
          "application/vnd.jupyter.widget-view+json": {
           "model_id": "",
           "version_major": 2,
           "version_minor": 0
          },
          "text/plain": "Dropdown(options=(('Raw number of results', 'raw'), ('Proportion of total articles', 'proportion')), value='ra…"
         },
         "metadata": {},
         "output_type": "display_data"
        },
        {
         "data": {
          "text/html": "\n<div id=\"altair-viz-1abcf0ebebaa46c7a9761e6f5e4569e3\"></div>\n<script type=\"text/javascript\">\n  var VEGA_DEBUG = (typeof VEGA_DEBUG == \"undefined\") ? {} : VEGA_DEBUG;\n  (function(spec, embedOpt){\n    let outputDiv = document.currentScript.previousElementSibling;\n    if (outputDiv.id !== \"altair-viz-1abcf0ebebaa46c7a9761e6f5e4569e3\") {\n      outputDiv = document.getElementById(\"altair-viz-1abcf0ebebaa46c7a9761e6f5e4569e3\");\n    }\n    const paths = {\n      \"vega\": \"https://cdn.jsdelivr.net/npm//vega@5?noext\",\n      \"vega-lib\": \"https://cdn.jsdelivr.net/npm//vega-lib?noext\",\n      \"vega-lite\": \"https://cdn.jsdelivr.net/npm//vega-lite@4.17.0?noext\",\n      \"vega-embed\": \"https://cdn.jsdelivr.net/npm//vega-embed@6?noext\",\n    };\n\n    function maybeLoadScript(lib, version) {\n      var key = `${lib.replace(\"-\", \"\")}_version`;\n      return (VEGA_DEBUG[key] == version) ?\n        Promise.resolve(paths[lib]) :\n        new Promise(function(resolve, reject) {\n          var s = document.createElement('script');\n          document.getElementsByTagName(\"head\")[0].appendChild(s);\n          s.async = true;\n          s.onload = () => {\n            VEGA_DEBUG[key] = version;\n            return resolve(paths[lib]);\n          };\n          s.onerror = () => reject(`Error loading script: ${paths[lib]}`);\n          s.src = paths[lib];\n        });\n    }\n\n    function showError(err) {\n      outputDiv.innerHTML = `<div class=\"error\" style=\"color:red;\">${err}</div>`;\n      throw err;\n    }\n\n    function displayChart(vegaEmbed) {\n      vegaEmbed(outputDiv, spec, embedOpt)\n        .catch(err => showError(`Javascript Error: ${err.message}<br>This usually means there's a typo in your chart specification. See the javascript console for the full traceback.`));\n    }\n\n    if(typeof define === \"function\" && define.amd) {\n      requirejs.config({paths});\n      require([\"vega-embed\"], displayChart, err => showError(`Error loading script: ${err.message}`));\n    } else {\n      maybeLoadScript(\"vega\", \"5\")\n        .then(() => maybeLoadScript(\"vega-lite\", \"4.17.0\"))\n        .then(() => maybeLoadScript(\"vega-embed\", \"6\"))\n        .catch(showError)\n        .then(() => displayChart(vegaEmbed));\n    }\n  })({\"usermeta\": {\"embedOptions\": {\"loader\": {\"target\": \"_blank\"}}}, \"vconcat\": [{\"data\": {\"name\": \"data-72859b32b0b383501a68f155d2dfb34a\"}, \"mark\": {\"type\": \"line\", \"interpolate\": \"cardinal\", \"point\": true}, \"encoding\": {\"color\": {\"field\": \"id\", \"legend\": {\"title\": \"\"}, \"type\": \"nominal\"}, \"href\": {\"field\": \"url\", \"type\": \"nominal\"}, \"tooltip\": [{\"field\": \"id\", \"title\": \"query\", \"type\": \"nominal\"}, {\"field\": \"date\", \"timeUnit\": \"year\", \"title\": \"year\", \"type\": \"temporal\"}, {\"field\": \"total_results\", \"format\": \",\", \"title\": \"results\", \"type\": \"quantitative\"}, {\"field\": \"PercentOfTotal\", \"format\": \".2%\", \"title\": \"proportion\", \"type\": \"quantitative\"}], \"x\": {\"axis\": {\"title\": \"Year\"}, \"field\": \"date\", \"scale\": {\"padding\": 10}, \"timeUnit\": \"year\", \"type\": \"temporal\"}, \"y\": {\"axis\": {\"format\": \",d\", \"title\": \"Number of articles\"}, \"field\": \"total_results\", \"type\": \"quantitative\"}}, \"height\": 400, \"title\": {\"text\": \"Trove Newspapers & Gazettes Search\", \"subtitle\": \"Created by QueryPic: 24 June 2022\"}, \"transform\": [{\"calculate\": \"datum.total_results / datum.total_articles\", \"as\": \"PercentOfTotal\"}], \"width\": 800}, {\"data\": {\"name\": \"data-a84671b8975528608e8fe6591fb4c574\"}, \"mark\": {\"type\": \"text\", \"align\": \"left\", \"baseline\": \"middle\", \"dx\": 2, \"dy\": 1}, \"encoding\": {\"color\": {\"value\": \"blue\"}, \"href\": {\"field\": \"url\", \"type\": \"nominal\"}, \"text\": {\"field\": \"url\", \"type\": \"nominal\"}, \"x\": {\"axis\": null, \"field\": \"x\", \"scale\": {\"range\": [0, 1]}, \"title\": null, \"type\": \"quantitative\"}, \"y\": {\"axis\": {\"domain\": false, \"grid\": false, \"labelFontWeight\": \"bold\"}, \"field\": \"id\", \"title\": null, \"type\": \"ordinal\"}}}], \"config\": {\"padding\": 20, \"title\": {\"fontSize\": 14}, \"view\": {\"strokeWidth\": 0}}, \"$schema\": \"https://vega.github.io/schema/vega-lite/v4.17.0.json\", \"datasets\": {\"data-72859b32b0b383501a68f155d2dfb34a\": [{\"date\": \"1850-01-01\", \"total_results\": 0, \"total_articles\": 81624, \"url\": \"https://trove.nla.gov.au/search/category/newspapers?keyword=text%3A%22darling%20wife%22%20date%3A%5B1850%20TO%201954%5D&l-decade=185&l-year=1850\", \"id\": \"Query 1\"}, {\"date\": \"1851-01-01\", \"total_results\": 0, \"total_articles\": 96566, \"url\": \"https://trove.nla.gov.au/search/category/newspapers?keyword=text%3A%22darling%20wife%22%20date%3A%5B1850%20TO%201954%5D&l-decade=185&l-year=1851\", \"id\": \"Query 1\"}, {\"date\": \"1852-01-01\", \"total_results\": 1, \"total_articles\": 79960, \"url\": \"https://trove.nla.gov.au/search/category/newspapers?keyword=text%3A%22darling%20wife%22%20date%3A%5B1850%20TO%201954%5D&l-decade=185&l-year=1852\", \"id\": \"Query 1\"}, {\"date\": \"1853-01-01\", \"total_results\": 2, \"total_articles\": 96033, \"url\": \"https://trove.nla.gov.au/search/category/newspapers?keyword=text%3A%22darling%20wife%22%20date%3A%5B1850%20TO%201954%5D&l-decade=185&l-year=1853\", \"id\": \"Query 1\"}, {\"date\": \"1854-01-01\", \"total_results\": 1, \"total_articles\": 118895, \"url\": \"https://trove.nla.gov.au/search/category/newspapers?keyword=text%3A%22darling%20wife%22%20date%3A%5B1850%20TO%201954%5D&l-decade=185&l-year=1854\", \"id\": \"Query 1\"}, {\"date\": \"1855-01-01\", \"total_results\": 1, \"total_articles\": 159935, \"url\": \"https://trove.nla.gov.au/search/category/newspapers?keyword=text%3A%22darling%20wife%22%20date%3A%5B1850%20TO%201954%5D&l-decade=185&l-year=1855\", \"id\": \"Query 1\"}, {\"date\": \"1856-01-01\", \"total_results\": 1, \"total_articles\": 168695, \"url\": \"https://trove.nla.gov.au/search/category/newspapers?keyword=text%3A%22darling%20wife%22%20date%3A%5B1850%20TO%201954%5D&l-decade=185&l-year=1856\", \"id\": \"Query 1\"}, {\"date\": \"1857-01-01\", \"total_results\": 5, \"total_articles\": 175343, \"url\": \"https://trove.nla.gov.au/search/category/newspapers?keyword=text%3A%22darling%20wife%22%20date%3A%5B1850%20TO%201954%5D&l-decade=185&l-year=1857\", \"id\": \"Query 1\"}, {\"date\": \"1858-01-01\", \"total_results\": 14, \"total_articles\": 179582, \"url\": \"https://trove.nla.gov.au/search/category/newspapers?keyword=text%3A%22darling%20wife%22%20date%3A%5B1850%20TO%201954%5D&l-decade=185&l-year=1858\", \"id\": \"Query 1\"}, {\"date\": \"1859-01-01\", \"total_results\": 2, \"total_articles\": 205698, \"url\": \"https://trove.nla.gov.au/search/category/newspapers?keyword=text%3A%22darling%20wife%22%20date%3A%5B1850%20TO%201954%5D&l-decade=185&l-year=1859\", \"id\": \"Query 1\"}, {\"date\": \"1860-01-01\", \"total_results\": 7, \"total_articles\": 216855, \"url\": \"https://trove.nla.gov.au/search/category/newspapers?keyword=text%3A%22darling%20wife%22%20date%3A%5B1850%20TO%201954%5D&l-decade=186&l-year=1860\", \"id\": \"Query 1\"}, {\"date\": \"1861-01-01\", \"total_results\": 12, \"total_articles\": 240091, \"url\": \"https://trove.nla.gov.au/search/category/newspapers?keyword=text%3A%22darling%20wife%22%20date%3A%5B1850%20TO%201954%5D&l-decade=186&l-year=1861\", \"id\": \"Query 1\"}, {\"date\": \"1862-01-01\", \"total_results\": 8, \"total_articles\": 246646, \"url\": \"https://trove.nla.gov.au/search/category/newspapers?keyword=text%3A%22darling%20wife%22%20date%3A%5B1850%20TO%201954%5D&l-decade=186&l-year=1862\", \"id\": \"Query 1\"}, {\"date\": \"1863-01-01\", \"total_results\": 9, \"total_articles\": 256228, \"url\": \"https://trove.nla.gov.au/search/category/newspapers?keyword=text%3A%22darling%20wife%22%20date%3A%5B1850%20TO%201954%5D&l-decade=186&l-year=1863\", \"id\": \"Query 1\"}, {\"date\": \"1864-01-01\", \"total_results\": 23, \"total_articles\": 268179, \"url\": \"https://trove.nla.gov.au/search/category/newspapers?keyword=text%3A%22darling%20wife%22%20date%3A%5B1850%20TO%201954%5D&l-decade=186&l-year=1864\", \"id\": \"Query 1\"}, {\"date\": \"1865-01-01\", \"total_results\": 8, \"total_articles\": 288311, \"url\": \"https://trove.nla.gov.au/search/category/newspapers?keyword=text%3A%22darling%20wife%22%20date%3A%5B1850%20TO%201954%5D&l-decade=186&l-year=1865\", \"id\": \"Query 1\"}, {\"date\": \"1866-01-01\", \"total_results\": 13, \"total_articles\": 293667, \"url\": \"https://trove.nla.gov.au/search/category/newspapers?keyword=text%3A%22darling%20wife%22%20date%3A%5B1850%20TO%201954%5D&l-decade=186&l-year=1866\", \"id\": \"Query 1\"}, {\"date\": \"1867-01-01\", \"total_results\": 17, \"total_articles\": 302400, \"url\": \"https://trove.nla.gov.au/search/category/newspapers?keyword=text%3A%22darling%20wife%22%20date%3A%5B1850%20TO%201954%5D&l-decade=186&l-year=1867\", \"id\": \"Query 1\"}, {\"date\": \"1868-01-01\", \"total_results\": 12, \"total_articles\": 310667, \"url\": \"https://trove.nla.gov.au/search/category/newspapers?keyword=text%3A%22darling%20wife%22%20date%3A%5B1850%20TO%201954%5D&l-decade=186&l-year=1868\", \"id\": \"Query 1\"}, {\"date\": \"1869-01-01\", \"total_results\": 13, \"total_articles\": 332988, \"url\": \"https://trove.nla.gov.au/search/category/newspapers?keyword=text%3A%22darling%20wife%22%20date%3A%5B1850%20TO%201954%5D&l-decade=186&l-year=1869\", \"id\": \"Query 1\"}, {\"date\": \"1870-01-01\", \"total_results\": 16, \"total_articles\": 379561, \"url\": \"https://trove.nla.gov.au/search/category/newspapers?keyword=text%3A%22darling%20wife%22%20date%3A%5B1850%20TO%201954%5D&l-decade=187&l-year=1870\", \"id\": \"Query 1\"}, {\"date\": \"1871-01-01\", \"total_results\": 17, \"total_articles\": 364153, \"url\": \"https://trove.nla.gov.au/search/category/newspapers?keyword=text%3A%22darling%20wife%22%20date%3A%5B1850%20TO%201954%5D&l-decade=187&l-year=1871\", \"id\": \"Query 1\"}, {\"date\": \"1872-01-01\", \"total_results\": 24, \"total_articles\": 387861, \"url\": \"https://trove.nla.gov.au/search/category/newspapers?keyword=text%3A%22darling%20wife%22%20date%3A%5B1850%20TO%201954%5D&l-decade=187&l-year=1872\", \"id\": \"Query 1\"}, {\"date\": \"1873-01-01\", \"total_results\": 23, \"total_articles\": 425973, \"url\": \"https://trove.nla.gov.au/search/category/newspapers?keyword=text%3A%22darling%20wife%22%20date%3A%5B1850%20TO%201954%5D&l-decade=187&l-year=1873\", \"id\": \"Query 1\"}, {\"date\": \"1874-01-01\", \"total_results\": 22, \"total_articles\": 438608, \"url\": \"https://trove.nla.gov.au/search/category/newspapers?keyword=text%3A%22darling%20wife%22%20date%3A%5B1850%20TO%201954%5D&l-decade=187&l-year=1874\", \"id\": \"Query 1\"}, {\"date\": \"1875-01-01\", \"total_results\": 34, \"total_articles\": 468789, \"url\": \"https://trove.nla.gov.au/search/category/newspapers?keyword=text%3A%22darling%20wife%22%20date%3A%5B1850%20TO%201954%5D&l-decade=187&l-year=1875\", \"id\": \"Query 1\"}, {\"date\": \"1876-01-01\", \"total_results\": 31, \"total_articles\": 479807, \"url\": \"https://trove.nla.gov.au/search/category/newspapers?keyword=text%3A%22darling%20wife%22%20date%3A%5B1850%20TO%201954%5D&l-decade=187&l-year=1876\", \"id\": \"Query 1\"}, {\"date\": \"1877-01-01\", \"total_results\": 30, \"total_articles\": 502257, \"url\": \"https://trove.nla.gov.au/search/category/newspapers?keyword=text%3A%22darling%20wife%22%20date%3A%5B1850%20TO%201954%5D&l-decade=187&l-year=1877\", \"id\": \"Query 1\"}, {\"date\": \"1878-01-01\", \"total_results\": 45, \"total_articles\": 571649, \"url\": \"https://trove.nla.gov.au/search/category/newspapers?keyword=text%3A%22darling%20wife%22%20date%3A%5B1850%20TO%201954%5D&l-decade=187&l-year=1878\", \"id\": \"Query 1\"}, {\"date\": \"1879-01-01\", \"total_results\": 25, \"total_articles\": 609859, \"url\": \"https://trove.nla.gov.au/search/category/newspapers?keyword=text%3A%22darling%20wife%22%20date%3A%5B1850%20TO%201954%5D&l-decade=187&l-year=1879\", \"id\": \"Query 1\"}, {\"date\": \"1880-01-01\", \"total_results\": 36, \"total_articles\": 625602, \"url\": \"https://trove.nla.gov.au/search/category/newspapers?keyword=text%3A%22darling%20wife%22%20date%3A%5B1850%20TO%201954%5D&l-decade=188&l-year=1880\", \"id\": \"Query 1\"}, {\"date\": \"1881-01-01\", \"total_results\": 34, \"total_articles\": 667930, \"url\": \"https://trove.nla.gov.au/search/category/newspapers?keyword=text%3A%22darling%20wife%22%20date%3A%5B1850%20TO%201954%5D&l-decade=188&l-year=1881\", \"id\": \"Query 1\"}, {\"date\": \"1882-01-01\", \"total_results\": 14, \"total_articles\": 749342, \"url\": \"https://trove.nla.gov.au/search/category/newspapers?keyword=text%3A%22darling%20wife%22%20date%3A%5B1850%20TO%201954%5D&l-decade=188&l-year=1882\", \"id\": \"Query 1\"}, {\"date\": \"1883-01-01\", \"total_results\": 57, \"total_articles\": 782243, \"url\": \"https://trove.nla.gov.au/search/category/newspapers?keyword=text%3A%22darling%20wife%22%20date%3A%5B1850%20TO%201954%5D&l-decade=188&l-year=1883\", \"id\": \"Query 1\"}, {\"date\": \"1884-01-01\", \"total_results\": 58, \"total_articles\": 874614, \"url\": \"https://trove.nla.gov.au/search/category/newspapers?keyword=text%3A%22darling%20wife%22%20date%3A%5B1850%20TO%201954%5D&l-decade=188&l-year=1884\", \"id\": \"Query 1\"}, {\"date\": \"1885-01-01\", \"total_results\": 60, \"total_articles\": 915789, \"url\": \"https://trove.nla.gov.au/search/category/newspapers?keyword=text%3A%22darling%20wife%22%20date%3A%5B1850%20TO%201954%5D&l-decade=188&l-year=1885\", \"id\": \"Query 1\"}, {\"date\": \"1886-01-01\", \"total_results\": 37, \"total_articles\": 998785, \"url\": \"https://trove.nla.gov.au/search/category/newspapers?keyword=text%3A%22darling%20wife%22%20date%3A%5B1850%20TO%201954%5D&l-decade=188&l-year=1886\", \"id\": \"Query 1\"}, {\"date\": \"1887-01-01\", \"total_results\": 52, \"total_articles\": 1048010, \"url\": \"https://trove.nla.gov.au/search/category/newspapers?keyword=text%3A%22darling%20wife%22%20date%3A%5B1850%20TO%201954%5D&l-decade=188&l-year=1887\", \"id\": \"Query 1\"}, {\"date\": \"1888-01-01\", \"total_results\": 77, \"total_articles\": 1167444, \"url\": \"https://trove.nla.gov.au/search/category/newspapers?keyword=text%3A%22darling%20wife%22%20date%3A%5B1850%20TO%201954%5D&l-decade=188&l-year=1888\", \"id\": \"Query 1\"}, {\"date\": \"1889-01-01\", \"total_results\": 55, \"total_articles\": 1256948, \"url\": \"https://trove.nla.gov.au/search/category/newspapers?keyword=text%3A%22darling%20wife%22%20date%3A%5B1850%20TO%201954%5D&l-decade=188&l-year=1889\", \"id\": \"Query 1\"}, {\"date\": \"1890-01-01\", \"total_results\": 89, \"total_articles\": 1362884, \"url\": \"https://trove.nla.gov.au/search/category/newspapers?keyword=text%3A%22darling%20wife%22%20date%3A%5B1850%20TO%201954%5D&l-decade=189&l-year=1890\", \"id\": \"Query 1\"}, {\"date\": \"1891-01-01\", \"total_results\": 50, \"total_articles\": 1434260, \"url\": \"https://trove.nla.gov.au/search/category/newspapers?keyword=text%3A%22darling%20wife%22%20date%3A%5B1850%20TO%201954%5D&l-decade=189&l-year=1891\", \"id\": \"Query 1\"}, {\"date\": \"1892-01-01\", \"total_results\": 63, \"total_articles\": 1493756, \"url\": \"https://trove.nla.gov.au/search/category/newspapers?keyword=text%3A%22darling%20wife%22%20date%3A%5B1850%20TO%201954%5D&l-decade=189&l-year=1892\", \"id\": \"Query 1\"}, {\"date\": \"1893-01-01\", \"total_results\": 225, \"total_articles\": 1518645, \"url\": \"https://trove.nla.gov.au/search/category/newspapers?keyword=text%3A%22darling%20wife%22%20date%3A%5B1850%20TO%201954%5D&l-decade=189&l-year=1893\", \"id\": \"Query 1\"}, {\"date\": \"1894-01-01\", \"total_results\": 93, \"total_articles\": 1569559, \"url\": \"https://trove.nla.gov.au/search/category/newspapers?keyword=text%3A%22darling%20wife%22%20date%3A%5B1850%20TO%201954%5D&l-decade=189&l-year=1894\", \"id\": \"Query 1\"}, {\"date\": \"1895-01-01\", \"total_results\": 142, \"total_articles\": 1692057, \"url\": \"https://trove.nla.gov.au/search/category/newspapers?keyword=text%3A%22darling%20wife%22%20date%3A%5B1850%20TO%201954%5D&l-decade=189&l-year=1895\", \"id\": \"Query 1\"}, {\"date\": \"1896-01-01\", \"total_results\": 79, \"total_articles\": 1809330, \"url\": \"https://trove.nla.gov.au/search/category/newspapers?keyword=text%3A%22darling%20wife%22%20date%3A%5B1850%20TO%201954%5D&l-decade=189&l-year=1896\", \"id\": \"Query 1\"}, {\"date\": \"1897-01-01\", \"total_results\": 105, \"total_articles\": 1926518, \"url\": \"https://trove.nla.gov.au/search/category/newspapers?keyword=text%3A%22darling%20wife%22%20date%3A%5B1850%20TO%201954%5D&l-decade=189&l-year=1897\", \"id\": \"Query 1\"}, {\"date\": \"1898-01-01\", \"total_results\": 146, \"total_articles\": 2150458, \"url\": \"https://trove.nla.gov.au/search/category/newspapers?keyword=text%3A%22darling%20wife%22%20date%3A%5B1850%20TO%201954%5D&l-decade=189&l-year=1898\", \"id\": \"Query 1\"}, {\"date\": \"1899-01-01\", \"total_results\": 89, \"total_articles\": 2315154, \"url\": \"https://trove.nla.gov.au/search/category/newspapers?keyword=text%3A%22darling%20wife%22%20date%3A%5B1850%20TO%201954%5D&l-decade=189&l-year=1899\", \"id\": \"Query 1\"}, {\"date\": \"1900-01-01\", \"total_results\": 121, \"total_articles\": 2545773, \"url\": \"https://trove.nla.gov.au/search/category/newspapers?keyword=text%3A%22darling%20wife%22%20date%3A%5B1850%20TO%201954%5D&l-decade=190&l-year=1900\", \"id\": \"Query 1\"}, {\"date\": \"1901-01-01\", \"total_results\": 76, \"total_articles\": 2621771, \"url\": \"https://trove.nla.gov.au/search/category/newspapers?keyword=text%3A%22darling%20wife%22%20date%3A%5B1850%20TO%201954%5D&l-decade=190&l-year=1901\", \"id\": \"Query 1\"}, {\"date\": \"1902-01-01\", \"total_results\": 106, \"total_articles\": 2680442, \"url\": \"https://trove.nla.gov.au/search/category/newspapers?keyword=text%3A%22darling%20wife%22%20date%3A%5B1850%20TO%201954%5D&l-decade=190&l-year=1902\", \"id\": \"Query 1\"}, {\"date\": \"1903-01-01\", \"total_results\": 82, \"total_articles\": 2720158, \"url\": \"https://trove.nla.gov.au/search/category/newspapers?keyword=text%3A%22darling%20wife%22%20date%3A%5B1850%20TO%201954%5D&l-decade=190&l-year=1903\", \"id\": \"Query 1\"}, {\"date\": \"1904-01-01\", \"total_results\": 136, \"total_articles\": 2883017, \"url\": \"https://trove.nla.gov.au/search/category/newspapers?keyword=text%3A%22darling%20wife%22%20date%3A%5B1850%20TO%201954%5D&l-decade=190&l-year=1904\", \"id\": \"Query 1\"}, {\"date\": \"1905-01-01\", \"total_results\": 87, \"total_articles\": 3014126, \"url\": \"https://trove.nla.gov.au/search/category/newspapers?keyword=text%3A%22darling%20wife%22%20date%3A%5B1850%20TO%201954%5D&l-decade=190&l-year=1905\", \"id\": \"Query 1\"}, {\"date\": \"1906-01-01\", \"total_results\": 117, \"total_articles\": 3063302, \"url\": \"https://trove.nla.gov.au/search/category/newspapers?keyword=text%3A%22darling%20wife%22%20date%3A%5B1850%20TO%201954%5D&l-decade=190&l-year=1906\", \"id\": \"Query 1\"}, {\"date\": \"1907-01-01\", \"total_results\": 130, \"total_articles\": 3210978, \"url\": \"https://trove.nla.gov.au/search/category/newspapers?keyword=text%3A%22darling%20wife%22%20date%3A%5B1850%20TO%201954%5D&l-decade=190&l-year=1907\", \"id\": \"Query 1\"}, {\"date\": \"1908-01-01\", \"total_results\": 166, \"total_articles\": 3318955, \"url\": \"https://trove.nla.gov.au/search/category/newspapers?keyword=text%3A%22darling%20wife%22%20date%3A%5B1850%20TO%201954%5D&l-decade=190&l-year=1908\", \"id\": \"Query 1\"}, {\"date\": \"1909-01-01\", \"total_results\": 120, \"total_articles\": 3383066, \"url\": \"https://trove.nla.gov.au/search/category/newspapers?keyword=text%3A%22darling%20wife%22%20date%3A%5B1850%20TO%201954%5D&l-decade=190&l-year=1909\", \"id\": \"Query 1\"}, {\"date\": \"1910-01-01\", \"total_results\": 136, \"total_articles\": 3618690, \"url\": \"https://trove.nla.gov.au/search/category/newspapers?keyword=text%3A%22darling%20wife%22%20date%3A%5B1850%20TO%201954%5D&l-decade=191&l-year=1910\", \"id\": \"Query 1\"}, {\"date\": \"1911-01-01\", \"total_results\": 127, \"total_articles\": 3745183, \"url\": \"https://trove.nla.gov.au/search/category/newspapers?keyword=text%3A%22darling%20wife%22%20date%3A%5B1850%20TO%201954%5D&l-decade=191&l-year=1911\", \"id\": \"Query 1\"}, {\"date\": \"1912-01-01\", \"total_results\": 110, \"total_articles\": 3899502, \"url\": \"https://trove.nla.gov.au/search/category/newspapers?keyword=text%3A%22darling%20wife%22%20date%3A%5B1850%20TO%201954%5D&l-decade=191&l-year=1912\", \"id\": \"Query 1\"}, {\"date\": \"1913-01-01\", \"total_results\": 274, \"total_articles\": 3963719, \"url\": \"https://trove.nla.gov.au/search/category/newspapers?keyword=text%3A%22darling%20wife%22%20date%3A%5B1850%20TO%201954%5D&l-decade=191&l-year=1913\", \"id\": \"Query 1\"}, {\"date\": \"1914-01-01\", \"total_results\": 270, \"total_articles\": 4655411, \"url\": \"https://trove.nla.gov.au/search/category/newspapers?keyword=text%3A%22darling%20wife%22%20date%3A%5B1850%20TO%201954%5D&l-decade=191&l-year=1914\", \"id\": \"Query 1\"}, {\"date\": \"1915-01-01\", \"total_results\": 215, \"total_articles\": 4753962, \"url\": \"https://trove.nla.gov.au/search/category/newspapers?keyword=text%3A%22darling%20wife%22%20date%3A%5B1850%20TO%201954%5D&l-decade=191&l-year=1915\", \"id\": \"Query 1\"}, {\"date\": \"1916-01-01\", \"total_results\": 168, \"total_articles\": 4348588, \"url\": \"https://trove.nla.gov.au/search/category/newspapers?keyword=text%3A%22darling%20wife%22%20date%3A%5B1850%20TO%201954%5D&l-decade=191&l-year=1916\", \"id\": \"Query 1\"}, {\"date\": \"1917-01-01\", \"total_results\": 147, \"total_articles\": 4239123, \"url\": \"https://trove.nla.gov.au/search/category/newspapers?keyword=text%3A%22darling%20wife%22%20date%3A%5B1850%20TO%201954%5D&l-decade=191&l-year=1917\", \"id\": \"Query 1\"}, {\"date\": \"1918-01-01\", \"total_results\": 161, \"total_articles\": 4016436, \"url\": \"https://trove.nla.gov.au/search/category/newspapers?keyword=text%3A%22darling%20wife%22%20date%3A%5B1850%20TO%201954%5D&l-decade=191&l-year=1918\", \"id\": \"Query 1\"}, {\"date\": \"1919-01-01\", \"total_results\": 158, \"total_articles\": 3493498, \"url\": \"https://trove.nla.gov.au/search/category/newspapers?keyword=text%3A%22darling%20wife%22%20date%3A%5B1850%20TO%201954%5D&l-decade=191&l-year=1919\", \"id\": \"Query 1\"}, {\"date\": \"1920-01-01\", \"total_results\": 188, \"total_articles\": 3250768, \"url\": \"https://trove.nla.gov.au/search/category/newspapers?keyword=text%3A%22darling%20wife%22%20date%3A%5B1850%20TO%201954%5D&l-decade=192&l-year=1920\", \"id\": \"Query 1\"}, {\"date\": \"1921-01-01\", \"total_results\": 180, \"total_articles\": 3435950, \"url\": \"https://trove.nla.gov.au/search/category/newspapers?keyword=text%3A%22darling%20wife%22%20date%3A%5B1850%20TO%201954%5D&l-decade=192&l-year=1921\", \"id\": \"Query 1\"}, {\"date\": \"1922-01-01\", \"total_results\": 268, \"total_articles\": 3567651, \"url\": \"https://trove.nla.gov.au/search/category/newspapers?keyword=text%3A%22darling%20wife%22%20date%3A%5B1850%20TO%201954%5D&l-decade=192&l-year=1922\", \"id\": \"Query 1\"}, {\"date\": \"1923-01-01\", \"total_results\": 232, \"total_articles\": 3836447, \"url\": \"https://trove.nla.gov.au/search/category/newspapers?keyword=text%3A%22darling%20wife%22%20date%3A%5B1850%20TO%201954%5D&l-decade=192&l-year=1923\", \"id\": \"Query 1\"}, {\"date\": \"1924-01-01\", \"total_results\": 232, \"total_articles\": 4133174, \"url\": \"https://trove.nla.gov.au/search/category/newspapers?keyword=text%3A%22darling%20wife%22%20date%3A%5B1850%20TO%201954%5D&l-decade=192&l-year=1924\", \"id\": \"Query 1\"}, {\"date\": \"1925-01-01\", \"total_results\": 207, \"total_articles\": 4091761, \"url\": \"https://trove.nla.gov.au/search/category/newspapers?keyword=text%3A%22darling%20wife%22%20date%3A%5B1850%20TO%201954%5D&l-decade=192&l-year=1925\", \"id\": \"Query 1\"}, {\"date\": \"1926-01-01\", \"total_results\": 232, \"total_articles\": 4074160, \"url\": \"https://trove.nla.gov.au/search/category/newspapers?keyword=text%3A%22darling%20wife%22%20date%3A%5B1850%20TO%201954%5D&l-decade=192&l-year=1926\", \"id\": \"Query 1\"}, {\"date\": \"1927-01-01\", \"total_results\": 218, \"total_articles\": 4146580, \"url\": \"https://trove.nla.gov.au/search/category/newspapers?keyword=text%3A%22darling%20wife%22%20date%3A%5B1850%20TO%201954%5D&l-decade=192&l-year=1927\", \"id\": \"Query 1\"}, {\"date\": \"1928-01-01\", \"total_results\": 244, \"total_articles\": 4253194, \"url\": \"https://trove.nla.gov.au/search/category/newspapers?keyword=text%3A%22darling%20wife%22%20date%3A%5B1850%20TO%201954%5D&l-decade=192&l-year=1928\", \"id\": \"Query 1\"}, {\"date\": \"1929-01-01\", \"total_results\": 268, \"total_articles\": 4480398, \"url\": \"https://trove.nla.gov.au/search/category/newspapers?keyword=text%3A%22darling%20wife%22%20date%3A%5B1850%20TO%201954%5D&l-decade=192&l-year=1929\", \"id\": \"Query 1\"}, {\"date\": \"1930-01-01\", \"total_results\": 277, \"total_articles\": 4332529, \"url\": \"https://trove.nla.gov.au/search/category/newspapers?keyword=text%3A%22darling%20wife%22%20date%3A%5B1850%20TO%201954%5D&l-decade=193&l-year=1930\", \"id\": \"Query 1\"}, {\"date\": \"1931-01-01\", \"total_results\": 188, \"total_articles\": 3960930, \"url\": \"https://trove.nla.gov.au/search/category/newspapers?keyword=text%3A%22darling%20wife%22%20date%3A%5B1850%20TO%201954%5D&l-decade=193&l-year=1931\", \"id\": \"Query 1\"}, {\"date\": \"1932-01-01\", \"total_results\": 210, \"total_articles\": 3950233, \"url\": \"https://trove.nla.gov.au/search/category/newspapers?keyword=text%3A%22darling%20wife%22%20date%3A%5B1850%20TO%201954%5D&l-decade=193&l-year=1932\", \"id\": \"Query 1\"}, {\"date\": \"1933-01-01\", \"total_results\": 201, \"total_articles\": 4135042, \"url\": \"https://trove.nla.gov.au/search/category/newspapers?keyword=text%3A%22darling%20wife%22%20date%3A%5B1850%20TO%201954%5D&l-decade=193&l-year=1933\", \"id\": \"Query 1\"}, {\"date\": \"1934-01-01\", \"total_results\": 265, \"total_articles\": 4241394, \"url\": \"https://trove.nla.gov.au/search/category/newspapers?keyword=text%3A%22darling%20wife%22%20date%3A%5B1850%20TO%201954%5D&l-decade=193&l-year=1934\", \"id\": \"Query 1\"}, {\"date\": \"1935-01-01\", \"total_results\": 193, \"total_articles\": 4326389, \"url\": \"https://trove.nla.gov.au/search/category/newspapers?keyword=text%3A%22darling%20wife%22%20date%3A%5B1850%20TO%201954%5D&l-decade=193&l-year=1935\", \"id\": \"Query 1\"}, {\"date\": \"1936-01-01\", \"total_results\": 203, \"total_articles\": 4442897, \"url\": \"https://trove.nla.gov.au/search/category/newspapers?keyword=text%3A%22darling%20wife%22%20date%3A%5B1850%20TO%201954%5D&l-decade=193&l-year=1936\", \"id\": \"Query 1\"}, {\"date\": \"1937-01-01\", \"total_results\": 179, \"total_articles\": 4419467, \"url\": \"https://trove.nla.gov.au/search/category/newspapers?keyword=text%3A%22darling%20wife%22%20date%3A%5B1850%20TO%201954%5D&l-decade=193&l-year=1937\", \"id\": \"Query 1\"}, {\"date\": \"1938-01-01\", \"total_results\": 235, \"total_articles\": 4379701, \"url\": \"https://trove.nla.gov.au/search/category/newspapers?keyword=text%3A%22darling%20wife%22%20date%3A%5B1850%20TO%201954%5D&l-decade=193&l-year=1938\", \"id\": \"Query 1\"}, {\"date\": \"1939-01-01\", \"total_results\": 194, \"total_articles\": 4155489, \"url\": \"https://trove.nla.gov.au/search/category/newspapers?keyword=text%3A%22darling%20wife%22%20date%3A%5B1850%20TO%201954%5D&l-decade=193&l-year=1939\", \"id\": \"Query 1\"}, {\"date\": \"1940-01-01\", \"total_results\": 196, \"total_articles\": 3523860, \"url\": \"https://trove.nla.gov.au/search/category/newspapers?keyword=text%3A%22darling%20wife%22%20date%3A%5B1850%20TO%201954%5D&l-decade=194&l-year=1940\", \"id\": \"Query 1\"}, {\"date\": \"1941-01-01\", \"total_results\": 185, \"total_articles\": 3107703, \"url\": \"https://trove.nla.gov.au/search/category/newspapers?keyword=text%3A%22darling%20wife%22%20date%3A%5B1850%20TO%201954%5D&l-decade=194&l-year=1941\", \"id\": \"Query 1\"}, {\"date\": \"1942-01-01\", \"total_results\": 259, \"total_articles\": 2495152, \"url\": \"https://trove.nla.gov.au/search/category/newspapers?keyword=text%3A%22darling%20wife%22%20date%3A%5B1850%20TO%201954%5D&l-decade=194&l-year=1942\", \"id\": \"Query 1\"}, {\"date\": \"1943-01-01\", \"total_results\": 362, \"total_articles\": 2211897, \"url\": \"https://trove.nla.gov.au/search/category/newspapers?keyword=text%3A%22darling%20wife%22%20date%3A%5B1850%20TO%201954%5D&l-decade=194&l-year=1943\", \"id\": \"Query 1\"}, {\"date\": \"1944-01-01\", \"total_results\": 381, \"total_articles\": 2253769, \"url\": \"https://trove.nla.gov.au/search/category/newspapers?keyword=text%3A%22darling%20wife%22%20date%3A%5B1850%20TO%201954%5D&l-decade=194&l-year=1944\", \"id\": \"Query 1\"}, {\"date\": \"1945-01-01\", \"total_results\": 438, \"total_articles\": 2435682, \"url\": \"https://trove.nla.gov.au/search/category/newspapers?keyword=text%3A%22darling%20wife%22%20date%3A%5B1850%20TO%201954%5D&l-decade=194&l-year=1945\", \"id\": \"Query 1\"}, {\"date\": \"1946-01-01\", \"total_results\": 470, \"total_articles\": 2773266, \"url\": \"https://trove.nla.gov.au/search/category/newspapers?keyword=text%3A%22darling%20wife%22%20date%3A%5B1850%20TO%201954%5D&l-decade=194&l-year=1946\", \"id\": \"Query 1\"}, {\"date\": \"1947-01-01\", \"total_results\": 488, \"total_articles\": 2874641, \"url\": \"https://trove.nla.gov.au/search/category/newspapers?keyword=text%3A%22darling%20wife%22%20date%3A%5B1850%20TO%201954%5D&l-decade=194&l-year=1947\", \"id\": \"Query 1\"}, {\"date\": \"1948-01-01\", \"total_results\": 507, \"total_articles\": 2633444, \"url\": \"https://trove.nla.gov.au/search/category/newspapers?keyword=text%3A%22darling%20wife%22%20date%3A%5B1850%20TO%201954%5D&l-decade=194&l-year=1948\", \"id\": \"Query 1\"}, {\"date\": \"1949-01-01\", \"total_results\": 525, \"total_articles\": 2891112, \"url\": \"https://trove.nla.gov.au/search/category/newspapers?keyword=text%3A%22darling%20wife%22%20date%3A%5B1850%20TO%201954%5D&l-decade=194&l-year=1949\", \"id\": \"Query 1\"}, {\"date\": \"1950-01-01\", \"total_results\": 436, \"total_articles\": 2842961, \"url\": \"https://trove.nla.gov.au/search/category/newspapers?keyword=text%3A%22darling%20wife%22%20date%3A%5B1850%20TO%201954%5D&l-decade=195&l-year=1950\", \"id\": \"Query 1\"}, {\"date\": \"1951-01-01\", \"total_results\": 456, \"total_articles\": 2640471, \"url\": \"https://trove.nla.gov.au/search/category/newspapers?keyword=text%3A%22darling%20wife%22%20date%3A%5B1850%20TO%201954%5D&l-decade=195&l-year=1951\", \"id\": \"Query 1\"}, {\"date\": \"1952-01-01\", \"total_results\": 440, \"total_articles\": 2692171, \"url\": \"https://trove.nla.gov.au/search/category/newspapers?keyword=text%3A%22darling%20wife%22%20date%3A%5B1850%20TO%201954%5D&l-decade=195&l-year=1952\", \"id\": \"Query 1\"}, {\"date\": \"1953-01-01\", \"total_results\": 440, \"total_articles\": 2845048, \"url\": \"https://trove.nla.gov.au/search/category/newspapers?keyword=text%3A%22darling%20wife%22%20date%3A%5B1850%20TO%201954%5D&l-decade=195&l-year=1953\", \"id\": \"Query 1\"}, {\"date\": \"1954-01-01\", \"total_results\": 417, \"total_articles\": 2872638, \"url\": \"https://trove.nla.gov.au/search/category/newspapers?keyword=text%3A%22darling%20wife%22%20date%3A%5B1850%20TO%201954%5D&l-decade=195&l-year=1954\", \"id\": \"Query 1\"}], \"data-a84671b8975528608e8fe6591fb4c574\": [{\"x\": 0, \"y\": 0, \"id\": \"Query 1\", \"url\": \"https://trove.nla.gov.au/search/category/newspapers?keyword=text%3A%22darling%20wife%22%20date%3A%5B1850%20TO%201954%5D\", \"params\": \"keyword=text%3A%22darling%20wife%22%20date%3A%5B1850%20TO%201954%5D\"}]}}, {\"mode\": \"vega-lite\"});\n</script>",
          "text/plain": "alt.VConcatChart(...)"
         },
         "metadata": {},
         "output_type": "display_data"
        }
       ]
      }
     },
     "f48c5a438c0c4dcfb3467cbfbf310f95": {
      "model_module": "@jupyter-widgets/controls",
      "model_module_version": "1.5.0",
      "model_name": "FloatProgressModel",
      "state": {
       "layout": "IPY_MODEL_a61405f57eaa49fea2193a89b256a39a",
       "max": 11,
       "style": "IPY_MODEL_9f562bf345fb4f7ea2011b0dbc520ef1",
       "value": 11
      }
     },
     "f4b1abce21f948c1b23fe7af7b43823e": {
      "model_module": "@jupyter-widgets/controls",
      "model_module_version": "1.5.0",
      "model_name": "HTMLModel",
      "state": {
       "layout": "IPY_MODEL_1ef4ff7f3cca43389e074e342674b95b",
       "style": "IPY_MODEL_37ba2a03e0894762a3c88c9c2af911b8",
       "value": "100%"
      }
     },
     "f4ed263526504a15ade09ae985cd8740": {
      "model_module": "@jupyter-widgets/controls",
      "model_module_version": "1.5.0",
      "model_name": "DescriptionStyleModel",
      "state": {
       "description_width": ""
      }
     },
     "f51b94ec5def4ca2ae89c10e2d20a6c2": {
      "model_module": "@jupyter-widgets/controls",
      "model_module_version": "1.5.0",
      "model_name": "ButtonModel",
      "state": {
       "description": "Remove last query",
       "layout": "IPY_MODEL_879fb8d0b4594238bd35f9765777c017",
       "style": "IPY_MODEL_9e0edaca00ae474abface1c9e688cb17",
       "tooltip": "Remove the last query"
      }
     },
     "f5874b7213cc47c7a60aedaaf6508a7f": {
      "model_module": "@jupyter-widgets/controls",
      "model_module_version": "1.5.0",
      "model_name": "DescriptionStyleModel",
      "state": {
       "description_width": ""
      }
     },
     "f63a6aceb38e47a28d34647d1b9c138b": {
      "model_module": "@jupyter-widgets/base",
      "model_module_version": "1.2.0",
      "model_name": "LayoutModel",
      "state": {}
     },
     "f67792adc7ac4722b5c1a5064ff586f6": {
      "model_module": "@jupyter-widgets/controls",
      "model_module_version": "1.5.0",
      "model_name": "BoundedIntTextModel",
      "state": {
       "description": "Height",
       "layout": "IPY_MODEL_dc6e857d18384d36bbe015d8322c127c",
       "max": 1500,
       "min": 400,
       "step": 100,
       "style": "IPY_MODEL_97312f996fca413d8bd5abc37332065a",
       "value": 400
      }
     },
     "f6dc60e116a34bebb0e56a4de5eef613": {
      "model_module": "@jupyter-widgets/controls",
      "model_module_version": "1.5.0",
      "model_name": "DescriptionStyleModel",
      "state": {
       "description_width": ""
      }
     },
     "f6e1748b43ae4c1d87e34e5a05b12b9e": {
      "model_module": "@jupyter-widgets/controls",
      "model_module_version": "1.5.0",
      "model_name": "DescriptionStyleModel",
      "state": {
       "description_width": ""
      }
     },
     "f715d192a0f74a27adb01ee1d55f71d2": {
      "model_module": "@jupyter-widgets/output",
      "model_module_version": "1.0.0",
      "model_name": "OutputModel",
      "state": {
       "layout": "IPY_MODEL_3082311b3a76440ca96b20df0d87804f",
       "outputs": [
        {
         "data": {
          "application/vnd.jupyter.widget-view+json": {
           "model_id": "",
           "version_major": 2,
           "version_minor": 0
          },
          "text/plain": "HBox(children=(Button(button_style='primary', description='Save chart as HTML', style=ButtonStyle(), tooltip='…"
         },
         "metadata": {},
         "output_type": "display_data"
        },
        {
         "data": {
          "text/html": "Download data: <a href=\"data/querypic-20220624233844.csv\" download>data/querypic-20220624233844.csv</a>",
          "text/plain": "<IPython.core.display.HTML object>"
         },
         "metadata": {},
         "output_type": "display_data"
        }
       ]
      }
     },
     "f76ef0dbbed148f6a49edddd35a876f0": {
      "model_module": "@jupyter-widgets/output",
      "model_module_version": "1.0.0",
      "model_name": "OutputModel",
      "state": {
       "layout": "IPY_MODEL_aa48712ddf2d4c808433c36e9ec140ac",
       "outputs": [
        {
         "data": {
          "application/vnd.jupyter.widget-view+json": {
           "model_id": "",
           "version_major": 2,
           "version_minor": 0
          },
          "text/plain": "HBox(children=(Button(button_style='primary', description='Save chart as HTML', style=ButtonStyle(), tooltip='…"
         },
         "metadata": {},
         "output_type": "display_data"
        },
        {
         "data": {
          "text/html": "Download data: <a href=\"data/querypic-20220624231722.csv\" download>data/querypic-20220624231722.csv</a>",
          "text/plain": "<IPython.core.display.HTML object>"
         },
         "metadata": {},
         "output_type": "display_data"
        }
       ]
      }
     },
     "f77aac6e1f984707a1abd8ebda099262": {
      "model_module": "@jupyter-widgets/base",
      "model_module_version": "1.2.0",
      "model_name": "LayoutModel",
      "state": {}
     },
     "f794fc848f6442b18d3e81ed9f9f4234": {
      "model_module": "@jupyter-widgets/controls",
      "model_module_version": "1.5.0",
      "model_name": "DropdownModel",
      "state": {
       "_options_labels": [
        "Automatic",
        "Year",
        "Month",
        "Day"
       ],
       "description": "Time unit:",
       "index": 0,
       "layout": "IPY_MODEL_48625c3b086340648e3bfba4fefd01e1",
       "style": "IPY_MODEL_1f559279c2364f9b8344a3d358915fe3"
      }
     },
     "f7f0025170f04f6483cebbcf72ffacd3": {
      "model_module": "@jupyter-widgets/controls",
      "model_module_version": "1.5.0",
      "model_name": "DescriptionStyleModel",
      "state": {
       "description_width": ""
      }
     },
     "f816a90ab1fe4d7a8ff74032874bc0da": {
      "model_module": "@jupyter-widgets/controls",
      "model_module_version": "1.5.0",
      "model_name": "DropdownModel",
      "state": {
       "_options_labels": [
        "Automatic",
        "Year",
        "Month",
        "Day"
       ],
       "description": "Time unit:",
       "index": 0,
       "layout": "IPY_MODEL_e819fbead5d94e5aaaa2ebdacf31b1dd",
       "style": "IPY_MODEL_8ed5ed7a956a4dc592b9bb6f46b11089"
      }
     },
     "f8a8a94b153d4610995b4c28e73dc565": {
      "model_module": "@jupyter-widgets/controls",
      "model_module_version": "1.5.0",
      "model_name": "ButtonStyleModel",
      "state": {}
     },
     "f8d38b0872694e3ca17cc9f7428b1d74": {
      "model_module": "@jupyter-widgets/base",
      "model_module_version": "1.2.0",
      "model_name": "LayoutModel",
      "state": {}
     },
     "f95ebd6d25724c0a8ac63e41ca6ed47e": {
      "model_module": "@jupyter-widgets/base",
      "model_module_version": "1.2.0",
      "model_name": "LayoutModel",
      "state": {}
     },
     "f9703895df184ce48260a9c6062e7dd0": {
      "model_module": "@jupyter-widgets/controls",
      "model_module_version": "1.5.0",
      "model_name": "HBoxModel",
      "state": {
       "children": [
        "IPY_MODEL_ed35e1061f184652a91960658865363f",
        "IPY_MODEL_a20f728db13b4abb8df4f552c6c9de5d",
        "IPY_MODEL_65605a73bd7d419595cf83897983aac6"
       ],
       "layout": "IPY_MODEL_e8023768e1c24765ad2eefee80af6b14"
      }
     },
     "f9d7ea5fbfad4ad58d22380f5995f4f2": {
      "model_module": "@jupyter-widgets/controls",
      "model_module_version": "1.5.0",
      "model_name": "ButtonStyleModel",
      "state": {}
     },
     "f9ddc21f44404e5fadc283b1f3396c62": {
      "model_module": "@jupyter-widgets/base",
      "model_module_version": "1.2.0",
      "model_name": "LayoutModel",
      "state": {}
     },
     "fa954059f82f4343a0e2bc22b47f30b3": {
      "model_module": "@jupyter-widgets/controls",
      "model_module_version": "1.5.0",
      "model_name": "HBoxModel",
      "state": {
       "children": [
        "IPY_MODEL_e4764c8f2d9f4057be45a9f340bc4b6d",
        "IPY_MODEL_82abec383b3f43bbb305825b7ed61e41",
        "IPY_MODEL_b33f376dcd6c41f2b223332215a176c1"
       ],
       "layout": "IPY_MODEL_0f84f76820264eddbafa13c4a5d0db9a"
      }
     },
     "fa9f20a4ed784628ad273765dec8d5c0": {
      "model_module": "@jupyter-widgets/controls",
      "model_module_version": "1.5.0",
      "model_name": "DescriptionStyleModel",
      "state": {
       "description_width": ""
      }
     },
     "fac1a5b550b84836b99848cb30c94311": {
      "model_module": "@jupyter-widgets/base",
      "model_module_version": "1.2.0",
      "model_name": "LayoutModel",
      "state": {}
     },
     "fb206e36ca3145d28cdf030ebaaf085b": {
      "model_module": "@jupyter-widgets/controls",
      "model_module_version": "1.5.0",
      "model_name": "DescriptionStyleModel",
      "state": {
       "description_width": ""
      }
     },
     "fb27efc08bf64eb1be0865b3a561c08e": {
      "model_module": "@jupyter-widgets/output",
      "model_module_version": "1.0.0",
      "model_name": "OutputModel",
      "state": {
       "layout": "IPY_MODEL_a1f6924db87443bcb6da66711a6a74d5",
       "outputs": [
        {
         "data": {
          "application/vnd.jupyter.widget-view+json": {
           "model_id": "",
           "version_major": 2,
           "version_minor": 0
          },
          "text/plain": "HBox(children=(Button(button_style='primary', description='Save chart as HTML', style=ButtonStyle(), tooltip='…"
         },
         "metadata": {},
         "output_type": "display_data"
        },
        {
         "data": {
          "text/html": "Download data: <a href=\"data/querypic-20220624231814.csv\" download>data/querypic-20220624231814.csv</a>",
          "text/plain": "<IPython.core.display.HTML object>"
         },
         "metadata": {},
         "output_type": "display_data"
        }
       ]
      }
     },
     "fb736eb167c449f496463f18aacbcc4f": {
      "model_module": "@jupyter-widgets/controls",
      "model_module_version": "1.5.0",
      "model_name": "ButtonModel",
      "state": {
       "button_style": "primary",
       "description": "Visualise query",
       "layout": "IPY_MODEL_b7dd1cc1ba4c49b69edd7886efc27171",
       "style": "IPY_MODEL_f8a8a94b153d4610995b4c28e73dc565",
       "tooltip": "Create chart from query"
      }
     },
     "fb7f155dd32b4ab0a6ddacd156ddf30d": {
      "model_module": "@jupyter-widgets/controls",
      "model_module_version": "1.5.0",
      "model_name": "DescriptionStyleModel",
      "state": {
       "description_width": ""
      }
     },
     "fc060f9758df4ccc901635465df0573b": {
      "model_module": "@jupyter-widgets/base",
      "model_module_version": "1.2.0",
      "model_name": "LayoutModel",
      "state": {}
     },
     "fc070f6794ac4b54917dfa0061f63c22": {
      "model_module": "@jupyter-widgets/base",
      "model_module_version": "1.2.0",
      "model_name": "LayoutModel",
      "state": {}
     },
     "fc0dd0335a6d41a399fbe053ad11849b": {
      "model_module": "@jupyter-widgets/controls",
      "model_module_version": "1.5.0",
      "model_name": "TextModel",
      "state": {
       "description": "Query:",
       "layout": "IPY_MODEL_0fd157699f6f45faa38abb922096e7fe",
       "placeholder": "Enter your search query",
       "style": "IPY_MODEL_469f5254b8fb4d3681fa717d9d3654eb",
       "value": "https://trove.nla.gov.au/search/category/newspapers?keyword=text%3A%22darling%20wife%22%20date%3A%5B1850%20TO%201954%5D"
      }
     },
     "fc15622257c74094978d439cd7a95cb5": {
      "model_module": "@jupyter-widgets/base",
      "model_module_version": "1.2.0",
      "model_name": "LayoutModel",
      "state": {}
     },
     "fc262eb232894ccd9762a45e90770317": {
      "model_module": "@jupyter-widgets/base",
      "model_module_version": "1.2.0",
      "model_name": "LayoutModel",
      "state": {}
     },
     "fc66508a8825470f95f7cf40ef564786": {
      "model_module": "@jupyter-widgets/base",
      "model_module_version": "1.2.0",
      "model_name": "LayoutModel",
      "state": {}
     },
     "fc8e15784d4543ee9ac826c7fdac129c": {
      "model_module": "@jupyter-widgets/base",
      "model_module_version": "1.2.0",
      "model_name": "LayoutModel",
      "state": {}
     },
     "fccfd81313d34db4bd3fa559035db09b": {
      "model_module": "@jupyter-widgets/base",
      "model_module_version": "1.2.0",
      "model_name": "LayoutModel",
      "state": {
       "margin": "50px 0 50px 0"
      }
     },
     "fd4350e337614d1e8ae0fef9969f2b5a": {
      "model_module": "@jupyter-widgets/base",
      "model_module_version": "1.2.0",
      "model_name": "LayoutModel",
      "state": {
       "margin": "0 0 20px 0"
      }
     },
     "fd4c7f98d90449b1b5fa0edc829dd98a": {
      "model_module": "@jupyter-widgets/controls",
      "model_module_version": "1.5.0",
      "model_name": "ButtonStyleModel",
      "state": {}
     },
     "fd5982a984fa40068a37ba1f25e943ac": {
      "model_module": "@jupyter-widgets/base",
      "model_module_version": "1.2.0",
      "model_name": "LayoutModel",
      "state": {}
     },
     "fdb3645badf54c1bbec34d0d0dc3a1f6": {
      "model_module": "@jupyter-widgets/controls",
      "model_module_version": "1.5.0",
      "model_name": "DescriptionStyleModel",
      "state": {
       "description_width": ""
      }
     },
     "fdd88d808a904062a670a15522eba150": {
      "model_module": "@jupyter-widgets/base",
      "model_module_version": "1.2.0",
      "model_name": "LayoutModel",
      "state": {}
     },
     "febb8f9b46be4dbaa764d8a659fbe7e0": {
      "model_module": "@jupyter-widgets/base",
      "model_module_version": "1.2.0",
      "model_name": "LayoutModel",
      "state": {
       "margin": "50px 0 50px 0"
      }
     },
     "fee3d97133c9436f9e7bc9052bb9aade": {
      "model_module": "@jupyter-widgets/controls",
      "model_module_version": "1.5.0",
      "model_name": "ButtonModel",
      "state": {
       "description": "Clear all queries",
       "layout": "IPY_MODEL_ecb8bd70f4be497884e30b6c02c05900",
       "style": "IPY_MODEL_3379382562174674bd3a1eaf51735933",
       "tooltip": "Clear current queries"
      }
     },
     "ff8a1683ad174cb6ac07bbda9eaaea56": {
      "model_module": "@jupyter-widgets/controls",
      "model_module_version": "1.5.0",
      "model_name": "VBoxModel",
      "state": {
       "children": [
        "IPY_MODEL_8e0c14da09d84d6ea32c7544805e288e",
        "IPY_MODEL_a01bb4994a814aff83dc7677bdd20b97",
        "IPY_MODEL_ead89fc42c204d648e16cf23309b4771"
       ],
       "layout": "IPY_MODEL_a12be7b0ad0044d1a8ae22a91258fd6d"
      }
     },
     "ff9617ac87784d889409e347bb24e636": {
      "model_module": "@jupyter-widgets/base",
      "model_module_version": "1.2.0",
      "model_name": "LayoutModel",
      "state": {}
     }
    },
    "version_major": 2,
    "version_minor": 0
   }
  }
 },
 "nbformat": 4,
 "nbformat_minor": 5
}
