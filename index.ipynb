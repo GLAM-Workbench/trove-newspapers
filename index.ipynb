{
 "cells": [
  {
   "cell_type": "markdown",
   "id": "0deb4f18",
   "metadata": {},
   "source": [
    "# trove-newspapers\n",
    "\n",
    "CURRENT VERSION: v2.0.0\n",
    "\n",
    "A GLAM Workbench repository\n",
    "\n",
    "For more information and documentation see the [Trove newspapers](https://glam-workbench.net/trove-newspapers) section of the [GLAM Workbench](https://glam-workbench.net).\n",
    "\n",
    "## Notebooks\n",
    "- [Upload Trove newspaper articles to Omeka-S](https://github.com/GLAM-Workbench/trove-newspapers/blob/None/Upload-Trove-newspapers-to-Omeka.ipynb)\n",
    "- [Today's news yesterday](https://github.com/GLAM-Workbench/trove-newspapers/blob/None/Todays-news-yesterday.ipynb)\n",
    "- [Map Trove newspaper results by state](https://github.com/GLAM-Workbench/trove-newspapers/blob/None/Map-newspaper-results-by-state.ipynb)\n",
    "- [Harvesting Australian Women's Weekly covers (or the front pages of any newspaper)](https://github.com/GLAM-Workbench/trove-newspapers/blob/None/harvest-aww-covers-and-newspaper-front-pages.ipynb)\n",
    "- [Beyond the copyright cliff of death](https://github.com/GLAM-Workbench/trove-newspapers/blob/None/Beyond_the_copyright_cliff_of_death.ipynb)\n",
    "- [Create a Trove OCR corrections ticker](https://github.com/GLAM-Workbench/trove-newspapers/blob/None/Create-a-Trove-corrections-ticker.ipynb)\n",
    "- [Create 'scissors and paste' messages from Trove newspaper articles](https://github.com/GLAM-Workbench/trove-newspapers/blob/None/trove-newspapers-scissors-and-paste.ipynb)\n",
    "- [Make composite images from lots of Trove newspaper thumbnails](https://github.com/GLAM-Workbench/trove-newspapers/blob/None/Composite-thumbnails.ipynb)\n",
    "- [QueryPic](https://github.com/GLAM-Workbench/trove-newspapers/blob/None/querypic.ipynb)\n",
    "- [Map Trove newspaper results by place of publication](https://github.com/GLAM-Workbench/trove-newspapers/blob/None/Map-newspaper-results-by-place-of-publication.ipynb)\n",
    "- [Harvest information about newspaper issues](https://github.com/GLAM-Workbench/trove-newspapers/blob/None/harvest_newspaper_issues.ipynb)\n",
    "- [Harvest the issues of a newspaper as PDFs](https://github.com/GLAM-Workbench/trove-newspapers/blob/None/harvest_newspaper_issues_as_pdfs.ipynb)\n",
    "- [None](https://github.com/GLAM-Workbench/trove-newspapers/blob/None/snippets.ipynb)\n",
    "- [Corrections of OCRd text in Trove's newspapers](https://github.com/GLAM-Workbench/trove-newspapers/blob/None/Analysing_OCR_corrections.ipynb)\n",
    "- [Create large composite images from snipped words](https://github.com/GLAM-Workbench/trove-newspapers/blob/None/trove-newspapers-create-composite-from-words.ipynb)\n",
    "- [Save a Trove newspaper article as an image](https://github.com/GLAM-Workbench/trove-newspapers/blob/None/Save-Trove-newspaper-article-as-image.ipynb)\n",
    "- [Visualise the total number of newspaper articles in Trove by year and state](https://github.com/GLAM-Workbench/trove-newspapers/blob/None/visualise-total-newspaper-articles-by-state-year.ipynb)\n",
    "- [Gathering historical data about the addition of newspaper titles to Trove](https://github.com/GLAM-Workbench/trove-newspapers/blob/None/historical-data-newspaper-titles.ipynb)\n",
    "- [Get the page coordinates of a digitised newspaper article from Trove](https://github.com/GLAM-Workbench/trove-newspapers/blob/None/trove-newspapers-get-coordinates-of-articles.ipynb)\n",
    "- [Finding non-English newspapers in Trove](https://github.com/GLAM-Workbench/trove-newspapers/blob/None/find-non-english-newspapers.ipynb)\n",
    "- [Visualise Trove newspaper searches over time](https://github.com/GLAM-Workbench/trove-newspapers/blob/None/visualise-searches-over-time.ipynb)\n",
    "- [Map Trove newspaper results by place of publication over time](https://github.com/GLAM-Workbench/trove-newspapers/blob/None/Map-newspaper-results-by-place-of-publication-over-time.ipynb)\n",
    "- [Download a page image](https://github.com/GLAM-Workbench/trove-newspapers/blob/None/Save-page-image.ipynb)\n",
    "- [Generate a thumbnail image from a Trove newspaper article](https://github.com/GLAM-Workbench/trove-newspapers/blob/None/Get-article-thumbnail.ipynb)\n",
    "- [QueryPic deconstructed](https://github.com/GLAM-Workbench/trove-newspapers/blob/None/QueryPic_deconstructed.ipynb)"
   ]
  },
  {
   "cell_type": "markdown",
   "id": "626a2b6d",
   "metadata": {},
   "source": [
    "## Associated datasets\n",
    "- [trove-newspapers-data-post-54](https://github.com/GLAM-Workbench/trove-newspapers-data-post-54)\n",
    "- [trove-newspaper-titles-web-archives](https://github.com/GLAM-Workbench/trove-newspaper-titles-web-archives)\n",
    "- [aww-data](https://github.com/GLAM-Workbench/aww-data)\n",
    "- [trove-newspapers-corrections](https://github.com/GLAM-Workbench/trove-newspapers-corrections/)\n",
    "- [trove-newspapers-non-english](https://github.com/GLAM-Workbench/trove-newspapers-non-english)\n",
    "- [zenodo.12547036](https://doi.org/10.5281/zenodo.12547036)\n"
   ]
  },
  {
   "cell_type": "markdown",
   "id": "5333cba2",
   "metadata": {},
   "source": [
    "----\n",
    "Created by [Tim Sherratt](https://timsherratt.au) for the [GLAM Workbench](https://glam-workbench.net)"
   ]
  }
 ],
 "metadata": {
  "jupytext": {
   "cell_metadata_filter": "-all"
  },
  "kernelspec": {
   "display_name": "Python 3 (ipykernel)",
   "language": "python",
   "name": "python3"
  }
 },
 "nbformat": 4,
 "nbformat_minor": 5
}
