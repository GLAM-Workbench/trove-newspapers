{
 "cells": [
  {
   "cell_type": "markdown",
   "id": "846e5028-ca8c-419e-9239-48979fe4f729",
   "metadata": {},
   "source": [
    "# Harvest information about newspaper issues\n",
    "\n",
    "When you search Trove's newspapers, you find articles – these articles are grouped by page, and all the pages from a particular date make up an issue. But how do you find out what issues are available? On what dates were newspapers published? This notebook shows how you can get information about issues from the Trove API.\n",
    "\n",
    "The code below generates two datasets:\n",
    "\n",
    "* **Total number of issues per year for every newspaper** – 27,604 rows with the fields:\n",
    "    * `title` – newspaper title\n",
    "    * `title_id` – newspaper id\n",
    "    * `state` – place of publication\n",
    "    * `year` – year published\n",
    "    * `issues` – number of issues\n",
    "* **Complete list of issues for every newspaper** – 2,654,020 rows with the fields:\n",
    "    * `title` – newspaper title\n",
    "    * `title_id` – newspaper id\n",
    "    * `state` – place of publication\n",
    "    * `issue_id` – issue identifier\n",
    "    * `issue_date` – date of publication (YYYY-MM-DD)\n",
    "\n",
    "These were harvested on 10 October 2021. You can download the pre-harvested datasets from CloudStor:\n",
    "\n",
    "* [newspaper_issues_totals_by_year_20211010.csv](https://cloudstor.aarnet.edu.au/plus/s/oEkqztgGELlvluQ) (2.1mb)\n",
    "* [newspaper_issues_20211010.csv](https://cloudstor.aarnet.edu.au/plus/s/BWVyJDsdrXQbQAg) (222mb)\n",
    "\n",
    "### Issue urls\n",
    "\n",
    "To keep the file size down, I haven't included an `issue_url` in the issues dataset, but these are easily generated from the `issue_id`. Just add the `issue_id` to the end of `http://nla.gov.au/nla.news-issue`. For example: http://nla.gov.au/nla.news-issue495426. Note that when you follow an issue url, you actually get redirected to the url of the first page in the issue."
   ]
  },
  {
   "cell_type": "code",
   "execution_count": 85,
   "id": "3ede8c11-990b-4373-85a9-75e0fb02b2d9",
   "metadata": {},
   "outputs": [],
   "source": [
    "import requests\n",
    "from requests.adapters import HTTPAdapter\n",
    "from requests.packages.urllib3.util.retry import Retry\n",
    "import arrow\n",
    "import requests_cache\n",
    "from tqdm.auto import tqdm\n",
    "import time\n",
    "import pandas as pd\n",
    "import json\n",
    "import altair as alt\n",
    "\n",
    "# Create a session that will automatically retry on server errors\n",
    "s = requests_cache.CachedSession()\n",
    "retries = Retry(total=5, backoff_factor=1, status_forcelist=[ 502, 503, 504 ])\n",
    "s.mount('http://', HTTPAdapter(max_retries=retries))\n",
    "s.mount('https://', HTTPAdapter(max_retries=retries))"
   ]
  },
  {
   "cell_type": "code",
   "execution_count": 2,
   "id": "e4b5b5c5-d1cc-4f4c-8c21-a2057bc1c050",
   "metadata": {},
   "outputs": [],
   "source": [
    "API_KEY = 'YOUR API KEY'\n",
    "API_URL = 'https://api.trove.nla.gov.au/v2/newspaper/title/'\n",
    "\n",
    "PARAMS = {\n",
    "        'encoding': 'json',\n",
    "        'key': API_KEY\n",
    "}"
   ]
  },
  {
   "cell_type": "markdown",
   "id": "76b3d96b-3740-4d80-8631-ed54e5f8583a",
   "metadata": {},
   "source": [
    "## Total number of issues per year for every newspaper in Trove\n",
    "\n",
    "To get a list of all the newspapers in Trove you make a request to the `newspaper/titles` endpoint. This provides summary information about each title, but no data about issues.\n",
    "\n",
    "To get issue data you have to request information about each title separately, using the `newspaper/title/[title id]` endpoint. If you add `include=years` to the request, you get a list of years in which issues were published, and a total number of issues for each year. We can use this to aggregate information about the number of issues by title and year."
   ]
  },
  {
   "cell_type": "code",
   "execution_count": 34,
   "id": "26450b2d-143b-4ac3-9f37-5abb06835811",
   "metadata": {},
   "outputs": [],
   "source": [
    "def get_issues_by_year():\n",
    "    '''\n",
    "    Gets the total number of issues per year for each newspaper.\n",
    "    \n",
    "    Returns:\n",
    "      * A list of dicts, each containing the number of issues available from a newspaper in a particular year\n",
    "    '''\n",
    "    years = []\n",
    "    \n",
    "    # First we get a list of all the newspapers (and gazettes) in Trove\n",
    "    response = s.get('https://api.trove.nla.gov.au/v2/newspaper/titles/', params=PARAMS)\n",
    "    data = response.json()\n",
    "    titles = data['response']['records']['newspaper']\n",
    "    \n",
    "    # Then we loop through all the newspapers to retrieve issue data\n",
    "    for title in tqdm(titles):\n",
    "        params = PARAMS.copy()\n",
    "        \n",
    "        # This parameter adds the number of issues per year to the newspaper data\n",
    "        params['include'] = 'years'\n",
    "        response = s.get(f'{API_URL}{title[\"id\"]}', params=params)\n",
    "        try:\n",
    "            data = response.json()\n",
    "        except json.JSONDecodeError:\n",
    "            print(response.url)\n",
    "            print(response.text)\n",
    "        else:\n",
    "            # Loop through all the years, saving the totals\n",
    "            for year in data['newspaper']['year']:\n",
    "                years.append({\n",
    "                    'title': title['title'],\n",
    "                    'title_id': title['id'],\n",
    "                    'state': title['state'],\n",
    "                    'year': year['date'],\n",
    "                    'issues': int(year['issuecount'])\n",
    "                })\n",
    "        if not response.from_cache:\n",
    "            time.sleep(0.2)\n",
    "    return years"
   ]
  },
  {
   "cell_type": "code",
   "execution_count": null,
   "id": "5d3f90c8-75a6-48b0-9314-7d0bdb8abab1",
   "metadata": {},
   "outputs": [],
   "source": [
    "issue_totals = get_issues_by_year()"
   ]
  },
  {
   "cell_type": "code",
   "execution_count": 101,
   "id": "399c2a40-9877-4806-b9fc-a1e41ba75372",
   "metadata": {},
   "outputs": [
    {
     "data": {
      "text/html": [
       "<div>\n",
       "<style scoped>\n",
       "    .dataframe tbody tr th:only-of-type {\n",
       "        vertical-align: middle;\n",
       "    }\n",
       "\n",
       "    .dataframe tbody tr th {\n",
       "        vertical-align: top;\n",
       "    }\n",
       "\n",
       "    .dataframe thead th {\n",
       "        text-align: right;\n",
       "    }\n",
       "</style>\n",
       "<table border=\"1\" class=\"dataframe\">\n",
       "  <thead>\n",
       "    <tr style=\"text-align: right;\">\n",
       "      <th></th>\n",
       "      <th>title</th>\n",
       "      <th>title_id</th>\n",
       "      <th>state</th>\n",
       "      <th>year</th>\n",
       "      <th>issues</th>\n",
       "    </tr>\n",
       "  </thead>\n",
       "  <tbody>\n",
       "    <tr>\n",
       "      <th>0</th>\n",
       "      <td>Canberra Community News (ACT : 1925 - 1927)</td>\n",
       "      <td>166</td>\n",
       "      <td>ACT</td>\n",
       "      <td>1925</td>\n",
       "      <td>3</td>\n",
       "    </tr>\n",
       "    <tr>\n",
       "      <th>1</th>\n",
       "      <td>Canberra Community News (ACT : 1925 - 1927)</td>\n",
       "      <td>166</td>\n",
       "      <td>ACT</td>\n",
       "      <td>1926</td>\n",
       "      <td>12</td>\n",
       "    </tr>\n",
       "    <tr>\n",
       "      <th>2</th>\n",
       "      <td>Canberra Community News (ACT : 1925 - 1927)</td>\n",
       "      <td>166</td>\n",
       "      <td>ACT</td>\n",
       "      <td>1927</td>\n",
       "      <td>9</td>\n",
       "    </tr>\n",
       "    <tr>\n",
       "      <th>3</th>\n",
       "      <td>Canberra Illustrated: A Quarterly Magazine (AC...</td>\n",
       "      <td>165</td>\n",
       "      <td>ACT</td>\n",
       "      <td>1925</td>\n",
       "      <td>1</td>\n",
       "    </tr>\n",
       "    <tr>\n",
       "      <th>4</th>\n",
       "      <td>Federal Capital Pioneer (Canberra, ACT : 1924 ...</td>\n",
       "      <td>69</td>\n",
       "      <td>ACT</td>\n",
       "      <td>1924</td>\n",
       "      <td>1</td>\n",
       "    </tr>\n",
       "  </tbody>\n",
       "</table>\n",
       "</div>"
      ],
      "text/plain": [
       "                                               title title_id state  year  \\\n",
       "0        Canberra Community News (ACT : 1925 - 1927)      166   ACT  1925   \n",
       "1        Canberra Community News (ACT : 1925 - 1927)      166   ACT  1926   \n",
       "2        Canberra Community News (ACT : 1925 - 1927)      166   ACT  1927   \n",
       "3  Canberra Illustrated: A Quarterly Magazine (AC...      165   ACT  1925   \n",
       "4  Federal Capital Pioneer (Canberra, ACT : 1924 ...       69   ACT  1924   \n",
       "\n",
       "   issues  \n",
       "0       3  \n",
       "1      12  \n",
       "2       9  \n",
       "3       1  \n",
       "4       1  "
      ]
     },
     "execution_count": 101,
     "metadata": {},
     "output_type": "execute_result"
    }
   ],
   "source": [
    "# Save results as a dataframe\n",
    "df_totals = pd.DataFrame(issue_totals)\n",
    "df_totals.head()"
   ]
  },
  {
   "cell_type": "markdown",
   "id": "9542b6ef-2c56-4d71-8f4c-b644db60f44a",
   "metadata": {},
   "source": [
    "How many issues are there?"
   ]
  },
  {
   "cell_type": "code",
   "execution_count": 39,
   "id": "9971748e-1e62-4571-962c-aa0152cad01d",
   "metadata": {},
   "outputs": [
    {
     "data": {
      "text/plain": [
       "2654624"
      ]
     },
     "execution_count": 39,
     "metadata": {},
     "output_type": "execute_result"
    }
   ],
   "source": [
    "df_totals['issues'].sum()"
   ]
  },
  {
   "cell_type": "code",
   "execution_count": 114,
   "id": "7b1de749-8d0a-40dc-a563-c21ed5352ace",
   "metadata": {},
   "outputs": [
    {
     "data": {
      "text/plain": [
       "(27604, 5)"
      ]
     },
     "execution_count": 114,
     "metadata": {},
     "output_type": "execute_result"
    }
   ],
   "source": [
    "df_totals.shape"
   ]
  },
  {
   "cell_type": "code",
   "execution_count": 111,
   "id": "ccf8717c-0a0d-4e1d-accd-1628bcd0caba",
   "metadata": {},
   "outputs": [],
   "source": [
    "# Save as a CSV file\n",
    "df_totals.to_csv(f'newspaper_issues_totals_by_year_{arrow.now().format(\"YYYYMMDD\")}.csv', index=False)"
   ]
  },
  {
   "cell_type": "markdown",
   "id": "f2ebe633-878f-4d40-9a49-a8fce3e855e3",
   "metadata": {},
   "source": [
    "### Display the total number of issues per year\n",
    "\n",
    "By grouping the number of issues by year, we can see how the number of issues in Trove changes over time. It's interesting to compare this to the [number of articles over time](https://glam-workbench.net/trove-newspapers/#visualise-the-total-number-of-newspaper-articles-in-trove-by-year-and-state)."
   ]
  },
  {
   "cell_type": "code",
   "execution_count": 88,
   "id": "87d561d3-ddcc-4a07-9d39-921e6127fcf5",
   "metadata": {},
   "outputs": [],
   "source": [
    "# Group by year and calculate sum of totals\n",
    "df_years = df_totals.groupby(by='year').sum().reset_index()"
   ]
  },
  {
   "cell_type": "code",
   "execution_count": 112,
   "id": "52653761-aa53-4894-9359-0016fe89d9a4",
   "metadata": {},
   "outputs": [
    {
     "data": {
      "text/html": [
       "\n",
       "<div id=\"altair-viz-dbd53dbc32214207b5afb995bbcd5956\"></div>\n",
       "<script type=\"text/javascript\">\n",
       "  (function(spec, embedOpt){\n",
       "    let outputDiv = document.currentScript.previousElementSibling;\n",
       "    if (outputDiv.id !== \"altair-viz-dbd53dbc32214207b5afb995bbcd5956\") {\n",
       "      outputDiv = document.getElementById(\"altair-viz-dbd53dbc32214207b5afb995bbcd5956\");\n",
       "    }\n",
       "    const paths = {\n",
       "      \"vega\": \"https://cdn.jsdelivr.net/npm//vega@5?noext\",\n",
       "      \"vega-lib\": \"https://cdn.jsdelivr.net/npm//vega-lib?noext\",\n",
       "      \"vega-lite\": \"https://cdn.jsdelivr.net/npm//vega-lite@4.8.1?noext\",\n",
       "      \"vega-embed\": \"https://cdn.jsdelivr.net/npm//vega-embed@6?noext\",\n",
       "    };\n",
       "\n",
       "    function loadScript(lib) {\n",
       "      return new Promise(function(resolve, reject) {\n",
       "        var s = document.createElement('script');\n",
       "        s.src = paths[lib];\n",
       "        s.async = true;\n",
       "        s.onload = () => resolve(paths[lib]);\n",
       "        s.onerror = () => reject(`Error loading script: ${paths[lib]}`);\n",
       "        document.getElementsByTagName(\"head\")[0].appendChild(s);\n",
       "      });\n",
       "    }\n",
       "\n",
       "    function showError(err) {\n",
       "      outputDiv.innerHTML = `<div class=\"error\" style=\"color:red;\">${err}</div>`;\n",
       "      throw err;\n",
       "    }\n",
       "\n",
       "    function displayChart(vegaEmbed) {\n",
       "      vegaEmbed(outputDiv, spec, embedOpt)\n",
       "        .catch(err => showError(`Javascript Error: ${err.message}<br>This usually means there's a typo in your chart specification. See the javascript console for the full traceback.`));\n",
       "    }\n",
       "\n",
       "    if(typeof define === \"function\" && define.amd) {\n",
       "      requirejs.config({paths});\n",
       "      require([\"vega-embed\"], displayChart, err => showError(`Error loading script: ${err.message}`));\n",
       "    } else if (typeof vegaEmbed === \"function\") {\n",
       "      displayChart(vegaEmbed);\n",
       "    } else {\n",
       "      loadScript(\"vega\")\n",
       "        .then(() => loadScript(\"vega-lite\"))\n",
       "        .then(() => loadScript(\"vega-embed\"))\n",
       "        .catch(showError)\n",
       "        .then(() => displayChart(vegaEmbed));\n",
       "    }\n",
       "  })({\"config\": {\"view\": {\"continuousWidth\": 400, \"continuousHeight\": 300}}, \"data\": {\"name\": \"data-af26e3e9c98520fbc026fe4ee32d4fb2\"}, \"mark\": \"bar\", \"encoding\": {\"tooltip\": [{\"type\": \"ordinal\", \"field\": \"year\"}, {\"type\": \"quantitative\", \"field\": \"issues\"}], \"x\": {\"type\": \"ordinal\", \"field\": \"year\"}, \"y\": {\"type\": \"quantitative\", \"field\": \"issues\"}}, \"width\": 800, \"$schema\": \"https://vega.github.io/schema/vega-lite/v4.8.1.json\", \"datasets\": {\"data-af26e3e9c98520fbc026fe4ee32d4fb2\": [{\"year\": \"1803\", \"issues\": 43}, {\"year\": \"1804\", \"issues\": 53}, {\"year\": \"1805\", \"issues\": 52}, {\"year\": \"1806\", \"issues\": 50}, {\"year\": \"1807\", \"issues\": 29}, {\"year\": \"1808\", \"issues\": 33}, {\"year\": \"1809\", \"issues\": 53}, {\"year\": \"1810\", \"issues\": 53}, {\"year\": \"1811\", \"issues\": 54}, {\"year\": \"1812\", \"issues\": 53}, {\"year\": \"1813\", \"issues\": 52}, {\"year\": \"1814\", \"issues\": 64}, {\"year\": \"1815\", \"issues\": 54}, {\"year\": \"1816\", \"issues\": 84}, {\"year\": \"1817\", \"issues\": 104}, {\"year\": \"1818\", \"issues\": 104}, {\"year\": \"1819\", \"issues\": 105}, {\"year\": \"1820\", \"issues\": 107}, {\"year\": \"1821\", \"issues\": 106}, {\"year\": \"1822\", \"issues\": 104}, {\"year\": \"1823\", \"issues\": 106}, {\"year\": \"1824\", \"issues\": 120}, {\"year\": \"1825\", \"issues\": 217}, {\"year\": \"1826\", \"issues\": 334}, {\"year\": \"1827\", \"issues\": 483}, {\"year\": \"1828\", \"issues\": 544}, {\"year\": \"1829\", \"issues\": 551}, {\"year\": \"1830\", \"issues\": 552}, {\"year\": \"1831\", \"issues\": 606}, {\"year\": \"1832\", \"issues\": 771}, {\"year\": \"1833\", \"issues\": 923}, {\"year\": \"1834\", \"issues\": 1125}, {\"year\": \"1835\", \"issues\": 1183}, {\"year\": \"1836\", \"issues\": 1160}, {\"year\": \"1837\", \"issues\": 1209}, {\"year\": \"1838\", \"issues\": 1463}, {\"year\": \"1839\", \"issues\": 1718}, {\"year\": \"1840\", \"issues\": 2131}, {\"year\": \"1841\", \"issues\": 2305}, {\"year\": \"1842\", \"issues\": 2229}, {\"year\": \"1843\", \"issues\": 2014}, {\"year\": \"1844\", \"issues\": 2322}, {\"year\": \"1845\", \"issues\": 2553}, {\"year\": \"1846\", \"issues\": 2595}, {\"year\": \"1847\", \"issues\": 2579}, {\"year\": \"1848\", \"issues\": 2802}, {\"year\": \"1849\", \"issues\": 2824}, {\"year\": \"1850\", \"issues\": 3577}, {\"year\": \"1851\", \"issues\": 3760}, {\"year\": \"1852\", \"issues\": 3023}, {\"year\": \"1853\", \"issues\": 3641}, {\"year\": \"1854\", \"issues\": 3928}, {\"year\": \"1855\", \"issues\": 4548}, {\"year\": \"1856\", \"issues\": 5185}, {\"year\": \"1857\", \"issues\": 5533}, {\"year\": \"1858\", \"issues\": 5747}, {\"year\": \"1859\", \"issues\": 6107}, {\"year\": \"1860\", \"issues\": 6246}, {\"year\": \"1861\", \"issues\": 6860}, {\"year\": \"1862\", \"issues\": 7096}, {\"year\": \"1863\", \"issues\": 7183}, {\"year\": \"1864\", \"issues\": 7819}, {\"year\": \"1865\", \"issues\": 8555}, {\"year\": \"1866\", \"issues\": 9116}, {\"year\": \"1867\", \"issues\": 9189}, {\"year\": \"1868\", \"issues\": 9579}, {\"year\": \"1869\", \"issues\": 10246}, {\"year\": \"1870\", \"issues\": 11638}, {\"year\": \"1871\", \"issues\": 10828}, {\"year\": \"1872\", \"issues\": 11659}, {\"year\": \"1873\", \"issues\": 12457}, {\"year\": \"1874\", \"issues\": 12653}, {\"year\": \"1875\", \"issues\": 13133}, {\"year\": \"1876\", \"issues\": 13367}, {\"year\": \"1877\", \"issues\": 13277}, {\"year\": \"1878\", \"issues\": 14620}, {\"year\": \"1879\", \"issues\": 15639}, {\"year\": \"1880\", \"issues\": 15264}, {\"year\": \"1881\", \"issues\": 15500}, {\"year\": \"1882\", \"issues\": 17021}, {\"year\": \"1883\", \"issues\": 17849}, {\"year\": \"1884\", \"issues\": 18517}, {\"year\": \"1885\", \"issues\": 18801}, {\"year\": \"1886\", \"issues\": 19236}, {\"year\": \"1887\", \"issues\": 19554}, {\"year\": \"1888\", \"issues\": 20889}, {\"year\": \"1889\", \"issues\": 21072}, {\"year\": \"1890\", \"issues\": 22322}, {\"year\": \"1891\", \"issues\": 23581}, {\"year\": \"1892\", \"issues\": 24257}, {\"year\": \"1893\", \"issues\": 23921}, {\"year\": \"1894\", \"issues\": 24483}, {\"year\": \"1895\", \"issues\": 25634}, {\"year\": \"1896\", \"issues\": 26768}, {\"year\": \"1897\", \"issues\": 27686}, {\"year\": \"1898\", \"issues\": 29941}, {\"year\": \"1899\", \"issues\": 31782}, {\"year\": \"1900\", \"issues\": 32528}, {\"year\": \"1901\", \"issues\": 33227}, {\"year\": \"1902\", \"issues\": 33361}, {\"year\": \"1903\", \"issues\": 33269}, {\"year\": \"1904\", \"issues\": 34272}, {\"year\": \"1905\", \"issues\": 34205}, {\"year\": \"1906\", \"issues\": 33355}, {\"year\": \"1907\", \"issues\": 34425}, {\"year\": \"1908\", \"issues\": 33927}, {\"year\": \"1909\", \"issues\": 34081}, {\"year\": \"1910\", \"issues\": 34846}, {\"year\": \"1911\", \"issues\": 35697}, {\"year\": \"1912\", \"issues\": 36402}, {\"year\": \"1913\", \"issues\": 36910}, {\"year\": \"1914\", \"issues\": 48168}, {\"year\": \"1915\", \"issues\": 49287}, {\"year\": \"1916\", \"issues\": 48933}, {\"year\": \"1917\", \"issues\": 48690}, {\"year\": \"1918\", \"issues\": 48182}, {\"year\": \"1919\", \"issues\": 36181}, {\"year\": \"1920\", \"issues\": 36502}, {\"year\": \"1921\", \"issues\": 36280}, {\"year\": \"1922\", \"issues\": 34590}, {\"year\": \"1923\", \"issues\": 34372}, {\"year\": \"1924\", \"issues\": 34818}, {\"year\": \"1925\", \"issues\": 34148}, {\"year\": \"1926\", \"issues\": 33659}, {\"year\": \"1927\", \"issues\": 33853}, {\"year\": \"1928\", \"issues\": 33612}, {\"year\": \"1929\", \"issues\": 34351}, {\"year\": \"1930\", \"issues\": 33603}, {\"year\": \"1931\", \"issues\": 32339}, {\"year\": \"1932\", \"issues\": 31852}, {\"year\": \"1933\", \"issues\": 31633}, {\"year\": \"1934\", \"issues\": 31771}, {\"year\": \"1935\", \"issues\": 31738}, {\"year\": \"1936\", \"issues\": 32083}, {\"year\": \"1937\", \"issues\": 31297}, {\"year\": \"1938\", \"issues\": 31366}, {\"year\": \"1939\", \"issues\": 30575}, {\"year\": \"1940\", \"issues\": 29777}, {\"year\": \"1941\", \"issues\": 28982}, {\"year\": \"1942\", \"issues\": 28089}, {\"year\": \"1943\", \"issues\": 28042}, {\"year\": \"1944\", \"issues\": 27727}, {\"year\": \"1945\", \"issues\": 27083}, {\"year\": \"1946\", \"issues\": 27002}, {\"year\": \"1947\", \"issues\": 27118}, {\"year\": \"1948\", \"issues\": 27216}, {\"year\": \"1949\", \"issues\": 26764}, {\"year\": \"1950\", \"issues\": 26486}, {\"year\": \"1951\", \"issues\": 25642}, {\"year\": \"1952\", \"issues\": 25353}, {\"year\": \"1953\", \"issues\": 25525}, {\"year\": \"1954\", \"issues\": 24944}, {\"year\": \"1955\", \"issues\": 3286}, {\"year\": \"1956\", \"issues\": 2269}, {\"year\": \"1957\", \"issues\": 1706}, {\"year\": \"1958\", \"issues\": 1548}, {\"year\": \"1959\", \"issues\": 1526}, {\"year\": \"1960\", \"issues\": 1520}, {\"year\": \"1961\", \"issues\": 1482}, {\"year\": \"1962\", \"issues\": 1406}, {\"year\": \"1963\", \"issues\": 1358}, {\"year\": \"1964\", \"issues\": 1315}, {\"year\": \"1965\", \"issues\": 1379}, {\"year\": \"1966\", \"issues\": 1347}, {\"year\": \"1967\", \"issues\": 1359}, {\"year\": \"1968\", \"issues\": 1403}, {\"year\": \"1969\", \"issues\": 1632}, {\"year\": \"1970\", \"issues\": 1787}, {\"year\": \"1971\", \"issues\": 1791}, {\"year\": \"1972\", \"issues\": 1821}, {\"year\": \"1973\", \"issues\": 2019}, {\"year\": \"1974\", \"issues\": 2080}, {\"year\": \"1975\", \"issues\": 1903}, {\"year\": \"1976\", \"issues\": 1690}, {\"year\": \"1977\", \"issues\": 1725}, {\"year\": \"1978\", \"issues\": 1707}, {\"year\": \"1979\", \"issues\": 1674}, {\"year\": \"1980\", \"issues\": 1684}, {\"year\": \"1981\", \"issues\": 1542}, {\"year\": \"1982\", \"issues\": 1376}, {\"year\": \"1983\", \"issues\": 1438}, {\"year\": \"1984\", \"issues\": 1685}, {\"year\": \"1985\", \"issues\": 1811}, {\"year\": \"1986\", \"issues\": 1918}, {\"year\": \"1987\", \"issues\": 1676}, {\"year\": \"1988\", \"issues\": 1740}, {\"year\": \"1989\", \"issues\": 1677}, {\"year\": \"1990\", \"issues\": 1700}, {\"year\": \"1991\", \"issues\": 1694}, {\"year\": \"1992\", \"issues\": 1661}, {\"year\": \"1993\", \"issues\": 1695}, {\"year\": \"1994\", \"issues\": 1804}, {\"year\": \"1995\", \"issues\": 1838}, {\"year\": \"1996\", \"issues\": 1435}, {\"year\": \"1997\", \"issues\": 1466}, {\"year\": \"1998\", \"issues\": 1568}, {\"year\": \"1999\", \"issues\": 1580}, {\"year\": \"2000\", \"issues\": 1461}, {\"year\": \"2001\", \"issues\": 1168}, {\"year\": \"2002\", \"issues\": 1119}, {\"year\": \"2003\", \"issues\": 982}, {\"year\": \"2004\", \"issues\": 970}, {\"year\": \"2005\", \"issues\": 541}, {\"year\": \"2006\", \"issues\": 515}, {\"year\": \"2007\", \"issues\": 544}, {\"year\": \"2008\", \"issues\": 521}, {\"year\": \"2009\", \"issues\": 391}, {\"year\": \"2010\", \"issues\": 387}, {\"year\": \"2011\", \"issues\": 484}, {\"year\": \"2012\", \"issues\": 306}, {\"year\": \"2013\", \"issues\": 73}, {\"year\": \"2014\", \"issues\": 73}, {\"year\": \"2015\", \"issues\": 74}, {\"year\": \"2016\", \"issues\": 23}, {\"year\": \"2017\", \"issues\": 20}, {\"year\": \"2018\", \"issues\": 23}, {\"year\": \"2019\", \"issues\": 23}, {\"year\": \"2020\", \"issues\": 4}]}}, {\"mode\": \"vega-lite\"});\n",
       "</script>"
      ],
      "text/plain": [
       "alt.Chart(...)"
      ]
     },
     "execution_count": 112,
     "metadata": {},
     "output_type": "execute_result"
    }
   ],
   "source": [
    "# Create a chart\n",
    "alt.Chart(df_years).mark_bar().encode(\n",
    "    x='year:O',\n",
    "    y='issues:Q',\n",
    "    tooltip=['year:O', 'issues:Q']\n",
    ").properties(width=800)"
   ]
  },
  {
   "cell_type": "markdown",
   "id": "232bc11a-c93f-479b-b8ff-7ece9ff7c488",
   "metadata": {},
   "source": [
    "## Harvest a complete list of issues\n",
    "\n",
    "We've found out how many issues were published, but not _when_ they were published. To get a complete list of issue dates and identifiers we have to add another parameter to our title API request. The `range` parameter sets a date range. If we add it to our request, the API will return information about all the issues within that date range.\n",
    "\n",
    "How do we set the `range`? The summary inforation for each title includes `startDate` and `endDate` fields. We could simply set the `range` using these, however, this could return a huge amount of data. It's best to be conservative, requesting the issue data in manageable chunks. The code below iterates over the complete date range for each title, requesting a year's worth of issues at a time. Note that the `range` parameter expects a date range in the format `YYYYMMDD-YYYYMMDD`. \n",
    "\n",
    "It turned out that some titles don't have start and end dates, and some of the start and end dates are wrong. I've found ways to work around these. See below for more information."
   ]
  },
  {
   "cell_type": "code",
   "execution_count": 105,
   "id": "34ee3876-1692-4a8d-9958-71b21b3c4c1f",
   "metadata": {},
   "outputs": [],
   "source": [
    "# These are newspapers where the date ranges are off by more than a year\n",
    "# In these cases we'll harvest all the issues in one hit, rather than year by year\n",
    "dodgy_dates = ['1486', '1618', '586']\n",
    "\n",
    "def get_title_summary(title_id):\n",
    "    '''\n",
    "    Get the details of a single newspaper title.\n",
    "    '''\n",
    "    response = s.get(f'{API_URL}{title_id}', params=PARAMS)\n",
    "    data = response.json()\n",
    "    return data['newspaper']\n",
    "\n",
    "def get_issues_in_range(title_id, start_date, end_date):\n",
    "    '''\n",
    "    Get a list of issues available from a particular newspaper within the given date range.\n",
    "    '''\n",
    "    issues = []\n",
    "    params = PARAMS.copy()\n",
    "    params['include'] = 'years'\n",
    "    params['range'] = f'{start_date.format(\"YYYYMMDD\")}-{end_date.format(\"YYYYMMDD\")}'\n",
    "    response = s.get(f'{API_URL}{title_id}', params=params)\n",
    "    try:\n",
    "        data = response.json()\n",
    "    except json.JSONDecodeError:\n",
    "        print(response.url)\n",
    "        print(response.text)\n",
    "    else:\n",
    "        for year in data['newspaper']['year']:\n",
    "            if 'issue' in year:\n",
    "                for issue in year['issue']:\n",
    "                    issues.append({\n",
    "                        'title_id': title_id,\n",
    "                        'issue_id': issue['id'],\n",
    "                        'issue_date': issue['date']\n",
    "                    })\n",
    "    if not response.from_cache:\n",
    "        time.sleep(0.2)\n",
    "    return issues\n",
    "\n",
    "def get_issues_full_range(title_id):\n",
    "    '''\n",
    "    In most cases we set date ranges to get issue data in friendly chunks. But sometimes the date ranges are missing or wrong.\n",
    "    In these cases, we ask for everything at once, by setting the range to the limits of Trove.\n",
    "    '''\n",
    "    start_date = arrow.get('1803-01-01')\n",
    "    range_end = arrow.now()\n",
    "    issues = get_issues_in_range(title_id, start_date, range_end)\n",
    "    return issues\n",
    "\n",
    "def get_issues_from_title(title_id):\n",
    "    '''\n",
    "    Get a list of all the issues available for a particular newspaper.\n",
    "    \n",
    "    Params:\n",
    "      * title_id - a newspaper identifier\n",
    "    Returns:\n",
    "      * A list containing details of available issues\n",
    "    '''\n",
    "    issues = []\n",
    "    title_summary = get_title_summary(title_id)\n",
    "    \n",
    "    # Date range is off by more than a year, so get everything in one hit\n",
    "    if title_id in dodgy_dates:\n",
    "        issues += get_issues_full_range(title_id)\n",
    "    else:\n",
    "        try:\n",
    "            # The date ranges are not always reliable, so to make sure we get everything\n",
    "            # we'll set the range to the beginning and end of the given year\n",
    "            start_date = arrow.get(title_summary['startDate']).replace(day=1, month=1)\n",
    "            end_date = arrow.get(title_summary['endDate']).replace(day=31, month=12)\n",
    "        except KeyError:\n",
    "            # Some records have no start and end dates at all\n",
    "            # In this case set the range to the full range of Trove's newspapers\n",
    "            issues += get_issues_full_range(title_id)\n",
    "        else:\n",
    "            # If the date range is available, loop through it by year\n",
    "            while start_date <= end_date:\n",
    "                range_end = start_date.replace(month=12, day=31)\n",
    "                issues += get_issues_in_range(title_id, start_date, range_end)\n",
    "                start_date = start_date.shift(years=+1).replace(month=1, day=1)\n",
    "    return issues\n",
    "\n",
    "def get_all_issues():\n",
    "    issues = []\n",
    "    response = s.get('https://api.trove.nla.gov.au/v2/newspaper/titles/', params=PARAMS)\n",
    "    data = response.json()\n",
    "    titles = data['response']['records']['newspaper']\n",
    "    for title in tqdm(titles):\n",
    "        title_issues = get_issues_from_title(title['id'])\n",
    "        issues += [dict(i, title=title['title'], state=title['state']) for i in title_issues]\n",
    "    return issues"
   ]
  },
  {
   "cell_type": "code",
   "execution_count": null,
   "id": "dccffd4f-2b8e-45c6-8814-146b9c85ceea",
   "metadata": {},
   "outputs": [],
   "source": [
    "issues = get_all_issues()"
   ]
  },
  {
   "cell_type": "code",
   "execution_count": 107,
   "id": "fdd1c45e-4d55-4982-91fb-c0b5efb42740",
   "metadata": {},
   "outputs": [
    {
     "data": {
      "text/plain": [
       "2654020"
      ]
     },
     "execution_count": 107,
     "metadata": {},
     "output_type": "execute_result"
    }
   ],
   "source": [
    "len(issues)"
   ]
  },
  {
   "cell_type": "code",
   "execution_count": 113,
   "id": "7116dda9-ec50-4b99-b7f1-c64cd2db1c9a",
   "metadata": {},
   "outputs": [
    {
     "data": {
      "text/html": [
       "<div>\n",
       "<style scoped>\n",
       "    .dataframe tbody tr th:only-of-type {\n",
       "        vertical-align: middle;\n",
       "    }\n",
       "\n",
       "    .dataframe tbody tr th {\n",
       "        vertical-align: top;\n",
       "    }\n",
       "\n",
       "    .dataframe thead th {\n",
       "        text-align: right;\n",
       "    }\n",
       "</style>\n",
       "<table border=\"1\" class=\"dataframe\">\n",
       "  <thead>\n",
       "    <tr style=\"text-align: right;\">\n",
       "      <th></th>\n",
       "      <th>title_id</th>\n",
       "      <th>issue_id</th>\n",
       "      <th>issue_date</th>\n",
       "      <th>title</th>\n",
       "      <th>state</th>\n",
       "    </tr>\n",
       "  </thead>\n",
       "  <tbody>\n",
       "    <tr>\n",
       "      <th>0</th>\n",
       "      <td>166</td>\n",
       "      <td>495445</td>\n",
       "      <td>1925-10-14</td>\n",
       "      <td>Canberra Community News (ACT : 1925 - 1927)</td>\n",
       "      <td>ACT</td>\n",
       "    </tr>\n",
       "    <tr>\n",
       "      <th>1</th>\n",
       "      <td>166</td>\n",
       "      <td>495422</td>\n",
       "      <td>1925-11-11</td>\n",
       "      <td>Canberra Community News (ACT : 1925 - 1927)</td>\n",
       "      <td>ACT</td>\n",
       "    </tr>\n",
       "    <tr>\n",
       "      <th>2</th>\n",
       "      <td>166</td>\n",
       "      <td>495423</td>\n",
       "      <td>1925-12-11</td>\n",
       "      <td>Canberra Community News (ACT : 1925 - 1927)</td>\n",
       "      <td>ACT</td>\n",
       "    </tr>\n",
       "    <tr>\n",
       "      <th>3</th>\n",
       "      <td>166</td>\n",
       "      <td>495424</td>\n",
       "      <td>1926-01-11</td>\n",
       "      <td>Canberra Community News (ACT : 1925 - 1927)</td>\n",
       "      <td>ACT</td>\n",
       "    </tr>\n",
       "    <tr>\n",
       "      <th>4</th>\n",
       "      <td>166</td>\n",
       "      <td>495425</td>\n",
       "      <td>1926-02-11</td>\n",
       "      <td>Canberra Community News (ACT : 1925 - 1927)</td>\n",
       "      <td>ACT</td>\n",
       "    </tr>\n",
       "  </tbody>\n",
       "</table>\n",
       "</div>"
      ],
      "text/plain": [
       "  title_id issue_id  issue_date                                        title  \\\n",
       "0      166   495445  1925-10-14  Canberra Community News (ACT : 1925 - 1927)   \n",
       "1      166   495422  1925-11-11  Canberra Community News (ACT : 1925 - 1927)   \n",
       "2      166   495423  1925-12-11  Canberra Community News (ACT : 1925 - 1927)   \n",
       "3      166   495424  1926-01-11  Canberra Community News (ACT : 1925 - 1927)   \n",
       "4      166   495425  1926-02-11  Canberra Community News (ACT : 1925 - 1927)   \n",
       "\n",
       "  state  \n",
       "0   ACT  \n",
       "1   ACT  \n",
       "2   ACT  \n",
       "3   ACT  \n",
       "4   ACT  "
      ]
     },
     "execution_count": 113,
     "metadata": {},
     "output_type": "execute_result"
    }
   ],
   "source": [
    "df_issues = pd.DataFrame(issues)\n",
    "df_issues.head()"
   ]
  },
  {
   "cell_type": "code",
   "execution_count": 110,
   "id": "b75ee5a6-a438-4b93-9811-e8da812b0ffd",
   "metadata": {},
   "outputs": [],
   "source": [
    "df_issues.to_csv(f'newspaper_issues_{arrow.now().format(\"YYYYMMDD\")}.csv', index=False)"
   ]
  },
  {
   "cell_type": "markdown",
   "id": "f64eaf70-330f-409c-9fb2-8d37ea18edef",
   "metadata": {},
   "source": [
    "### Check to see what's missing\n",
    "\n",
    "I ran the code below a few times in order to identify problems with the harvest. It helped me track down newspapers that had errors in the date ranges. Most of the errors were small and I could pick up any missing issues by expanding the date range to cover a whole year. But in some cases, the date ranges missed multiple years. To get the issues in these missing years, I created a `dodgy_dates` list. Any newspapers in this list are processed differently – the given date range is ignored, and instead the range  is set to cover the period from 1803 to the present! Titles that are missing start and end dates are treated the same way. Once these fixes were included, the only missing issues left were from the _Noosa News_ – requesting issues from this newspaper causes an error, so it seems like there's a bug somewhere."
   ]
  },
  {
   "cell_type": "code",
   "execution_count": 84,
   "id": "3ceb77a0-e561-4b39-9ccd-814cfe603199",
   "metadata": {},
   "outputs": [
    {
     "name": "stdout",
     "output_type": "stream",
     "text": [
      "1675 Noosa News (Qld. : 1968 - 1974)\n",
      "Year totals: 604\n",
      "Issues harvested: 0\n"
     ]
    }
   ],
   "source": [
    "# Compare the total number of issues reported by the API with the number actually harvested\n",
    "# This helps us identify cases where the harvest has failed for some reason.\n",
    "missing = 0\n",
    "for title, years in df_totals.groupby(by=['title_id', 'title']):\n",
    "    num_issues = df_issues.loc[df_issues['title_id'] == title[0]].shape[0]\n",
    "    if years['issues'].sum() != num_issues:\n",
    "        print(title[0], title[1])\n",
    "        print(f'Year totals: {years[\"issues\"].sum()}')\n",
    "        print(f'Issues harvested: {num_issues}')\n",
    "        missing += (years[\"issues\"].sum() - num_issues)"
   ]
  },
  {
   "cell_type": "markdown",
   "id": "7e62ceeb-68fa-4762-8f2e-d62c8ef20b32",
   "metadata": {},
   "source": [
    "----\n",
    "\n",
    "Created by [Tim Sherratt](https://timsherratt.org/) for the [GLAM Workbench](https://glam-workbench.github.io/). Support this project by becoming a [GitHub sponsor](https://github.com/sponsors/wragge?o=esb)."
   ]
  }
 ],
 "metadata": {
  "kernelspec": {
   "display_name": "Python 3",
   "language": "python",
   "name": "python3"
  },
  "language_info": {
   "codemirror_mode": {
    "name": "ipython",
    "version": 3
   },
   "file_extension": ".py",
   "mimetype": "text/x-python",
   "name": "python",
   "nbconvert_exporter": "python",
   "pygments_lexer": "ipython3",
   "version": "3.8.5"
  }
 },
 "nbformat": 4,
 "nbformat_minor": 5
}
