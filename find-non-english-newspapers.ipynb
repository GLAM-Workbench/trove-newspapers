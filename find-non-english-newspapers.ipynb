{
 "cells": [
  {
   "cell_type": "markdown",
   "metadata": {},
   "source": [
    "# Finding non-English newspapers in Trove\n",
    "\n",
    "There are a growing number of non-English newspapers digitised in Trove. However, if you're only searching using English keywords, you might never know that they're there. I thought it would be useful to generate a list of non-English newspapers, but it wasn't quite as straightforward as I thought.\n",
    "\n",
    "## How not to do it...\n",
    "\n",
    "My first thought was I could start by searching for digitised newspapers amongst the library records in Trove. My theory was that catalogue metadata would include language information. For example, you can search for newspapers using `format:Periodical/Newspaper` in the books and libraries category (or the `article` API zone). To find those that are digitised, you can add a search for 'trove.nla.gov.au'. Here's the [sort of results](https://trove.nla.gov.au/search/category/books?keyword=%22trove.nla.gov.au%22%20format%3APeriodical%2FNewspaper) you get. Unfortunately, you only get about 826 results and there are many more newspapers than that in Trove. It seems links to digitised newspapers are not consistently recorded.\n",
    "\n",
    "My second approach was to get the list of digitised newspapers from the API, extract the ISSN, then use this to search for catalogue records. Here's the code snippet I used.\n",
    "\n",
    "``` python\n",
    "params = {\n",
    "    'zone': 'article',\n",
    "    'encoding': 'json',\n",
    "    'l-format': 'Periodical/Newspaper',\n",
    "    'reclevel': 'full',\n",
    "    'key': TROVE_API_KEY\n",
    "}\n",
    "newspapers = get_newspapers()\n",
    "for newspaper in newspapers:\n",
    "    print(f'\\n{newspaper[\"title\"]}')\n",
    "    issn = newspaper.get('issn')\n",
    "    params['q'] = f'issn:{issn}'\n",
    "    response = s.get('https://api.trove.nla.gov.au/v2/result', params=params)\n",
    "    data = response.json()\n",
    "    try:\n",
    "        works = data['response']['zone'][0]['records']['work']\n",
    "    except KeyError:\n",
    "        print('Not found')\n",
    "    else:\n",
    "        for work in works:\n",
    "            print(work.get('language'))\n",
    "    if not response.from_cache:\n",
    "        time.sleep(0.2)\n",
    "```\n",
    "\n",
    "The main problem here is that not all titles have ISSNs. You could try searching on the titles is there's no ISSN, but this would involve a fair bit of disambiguation. In any case, in running this I discovered that while there is some language information in the metadata, it's not consistently applied. So basically a metadata-only approach is not going to work. Sigh...\n",
    "\n",
    "## How I actually did it\n",
    "\n",
    "If I couldn't get language details from metadata, then I had to try and extract it from the resource itself. I spent quite a bit of time looking around for Python packages that provided reliable language detection. The first one I tried regularly identified Mandarin as Korean (it turns out this was a known issue). Another one sent me into dependency hell. Finally I found [pycld3](https://pypi.org/project/pycld3/) which installed with `pip`, and *just worked*.\n",
    "\n",
    "My plan was to get the list of newspapers via the API as before, then fire off an empty search for each one. I'd then loop through the results, running the language detector over the article text. I set the query parameters to retrieve the maxmimum number of results in one request – 100. That seemed like a reasonable sample. To try and provide a big enough amount of text for the language detector to work with, I set the number of words parameter to return articles with between 100 and 1000 words. So the query parameters I used were:\n",
    "\n",
    "``` python\n",
    "params = {\n",
    "    'zone': 'newspaper',\n",
    "    'encoding': 'json',\n",
    "    'l-word': '100 - 1000 Words',\n",
    "    'include': 'articletext',\n",
    "    'key': TROVE_API_KEY,\n",
    "    'q': ' ',\n",
    "    'n': 100,\n",
    "}\n",
    "```\n",
    "\n",
    "Because some of the newspapers had short runs and the word count filter limits the results, I found that I wasn't always getting 100 results per newspaper. To work around this I found the likely language for each article, aggregated the counts, and then calculated the proportion of results for each language. This gave me the proportion of articles in each language – a number I could use across newspapers to find the non-English titles. \n",
    "\n",
    "In general this worked pretty well, and the result was a [list of 52 newspapers](non-english-newspapers.md) (also as a [Gist](https://gist.github.com/wragge/9aa385648cff5f0de0c7d4837896df97)) that have significant amounts of non-English content. However, I had to do a fair bit of fiddling to filter out dodgy results. All the details are included below.\n",
    "\n",
    "## Problems / limitations\n",
    "\n",
    "* It's no surprise that the results of the language detection are affected by the quality of the OCR. \n",
    "* In filtering out what seems to be the product of dodgy OCR, it's possible that I might be excluding some non-English content. \n",
    "* I'm only detecting the predominant language for each article, so there might be articles containing a mix of languages that are being missed. \n",
    "* I'm just talking the first 100 results from a blank search in each newspaper. Larger, or more randomised samples might produce different results.\n",
    "* Some dodgy detection results remain in the list of newspapers, but the point of this exercise was to find non-English newspapers. If you wanted to accurately determine the quantity of non-English content, you'd have to do a lot more fine-grained analysis."
   ]
  },
  {
   "cell_type": "markdown",
   "metadata": {},
   "source": [
    "## Import what we need"
   ]
  },
  {
   "cell_type": "code",
   "execution_count": 1,
   "metadata": {},
   "outputs": [],
   "source": [
    "import os\n",
    "import re\n",
    "import time\n",
    "from collections import Counter\n",
    "from pathlib import Path\n",
    "\n",
    "import altair as alt\n",
    "import cld3\n",
    "import pandas as pd\n",
    "import requests_cache\n",
    "from IPython.display import display\n",
    "from language_tags import tags\n",
    "from requests.adapters import HTTPAdapter\n",
    "from requests.packages.urllib3.util.retry import Retry\n",
    "from tqdm.auto import tqdm\n",
    "\n",
    "s = requests_cache.CachedSession()\n",
    "retries = Retry(total=5, backoff_factor=1, status_forcelist=[502, 503, 504])\n",
    "s.mount(\"https://\", HTTPAdapter(max_retries=retries))\n",
    "s.mount(\"http://\", HTTPAdapter(max_retries=retries))"
   ]
  },
  {
   "cell_type": "code",
   "execution_count": 2,
   "metadata": {},
   "outputs": [],
   "source": [
    "%%capture\n",
    "# Load variables from the .env file if it exists\n",
    "# Use %%capture to suppress messages\n",
    "%load_ext dotenv\n",
    "%dotenv"
   ]
  },
  {
   "cell_type": "code",
   "execution_count": 3,
   "metadata": {},
   "outputs": [],
   "source": [
    "# Insert your Trove API key\n",
    "API_KEY = \"YOUR API KEY\"\n",
    "\n",
    "# Use api key value from environment variables if it is available\n",
    "if os.getenv(\"TROVE_API_KEY\"):\n",
    "    API_KEY = os.getenv(\"TROVE_API_KEY\")"
   ]
  },
  {
   "cell_type": "markdown",
   "metadata": {},
   "source": [
    "## Harvest the data and run language detection on articles"
   ]
  },
  {
   "cell_type": "code",
   "execution_count": 4,
   "metadata": {},
   "outputs": [],
   "source": [
    "def get_newspapers():\n",
    "    \"\"\"\n",
    "    Get a list of newspapers in Trove.\n",
    "    \"\"\"\n",
    "    response = s.get(\n",
    "        \"https://api.trove.nla.gov.au/v2/newspaper/titles\",\n",
    "        params={\"encoding\": \"json\", \"key\": API_KEY},\n",
    "    )\n",
    "    data = response.json()\n",
    "    return data[\"response\"][\"records\"][\"newspaper\"]"
   ]
  },
  {
   "cell_type": "code",
   "execution_count": 5,
   "metadata": {},
   "outputs": [
    {
     "data": {
      "application/vnd.jupyter.widget-view+json": {
       "model_id": "460e5f112a1e44afaa87359a8f58e617",
       "version_major": 2,
       "version_minor": 0
      },
      "text/plain": [
       "  0%|          | 0/1741 [00:00<?, ?it/s]"
      ]
     },
     "metadata": {},
     "output_type": "display_data"
    }
   ],
   "source": [
    "params = {\n",
    "    \"zone\": \"newspaper\",\n",
    "    \"encoding\": \"json\",\n",
    "    # 'l-category': 'Article',\n",
    "    \"l-word\": \"100 - 1000 Words\",\n",
    "    \"include\": \"articletext\",\n",
    "    \"key\": API_KEY,\n",
    "    \"q\": \" \",\n",
    "    \"n\": 100,\n",
    "}\n",
    "newspaper_langs = []\n",
    "newspapers = get_newspapers()\n",
    "for newspaper in tqdm(newspapers):\n",
    "    langs = []\n",
    "    # print(f'\\n{newspaper[\"title\"]}')\n",
    "    params[\"l-title\"] = newspaper[\"id\"]\n",
    "    response = s.get(\"https://api.trove.nla.gov.au/v2/result\", params=params)\n",
    "    data = response.json()\n",
    "    n = data[\"response\"][\"zone\"][0][\"records\"][\"n\"]\n",
    "    try:\n",
    "        articles = data[\"response\"][\"zone\"][0][\"records\"][\"article\"]\n",
    "    except KeyError:\n",
    "        # print('Not found')\n",
    "        pass\n",
    "    else:\n",
    "        # Detect language for each article in results\n",
    "        for article in articles:\n",
    "            if \"articleText\" in article:\n",
    "                # Clean up OCRd text by removing tags and extra whitespace\n",
    "                text = article[\"articleText\"]\n",
    "                text = re.sub(r\"<[^<]+?>\", \"\", text)\n",
    "                text = re.sub(r\"\\s\\s+\", \" \", text)\n",
    "                # Get the language\n",
    "                ld = cld3.get_language(text)\n",
    "                # If the language prediction is reliable, save it\n",
    "                if ld.is_reliable:\n",
    "                    langs.append(ld.language)\n",
    "        # Find the count of each language detected in the sample of articles\n",
    "        for lang, count in dict(Counter(langs)).items():\n",
    "            # Calculate the language count as a proportion of the total number of results\n",
    "            prop = int(count) / len(langs)\n",
    "            newspaper_langs.append(\n",
    "                {\n",
    "                    \"id\": newspaper[\"id\"],\n",
    "                    \"title\": newspaper[\"title\"],\n",
    "                    \"language\": lang,\n",
    "                    \"proportion\": prop,\n",
    "                    \"number\": n,\n",
    "                }\n",
    "            )\n",
    "    if not response.from_cache:\n",
    "        time.sleep(0.2)"
   ]
  },
  {
   "cell_type": "markdown",
   "metadata": {},
   "source": [
    "Convert the results into a dataframe."
   ]
  },
  {
   "cell_type": "code",
   "execution_count": 6,
   "metadata": {},
   "outputs": [
    {
     "data": {
      "text/html": [
       "<div>\n",
       "<style scoped>\n",
       "    .dataframe tbody tr th:only-of-type {\n",
       "        vertical-align: middle;\n",
       "    }\n",
       "\n",
       "    .dataframe tbody tr th {\n",
       "        vertical-align: top;\n",
       "    }\n",
       "\n",
       "    .dataframe thead th {\n",
       "        text-align: right;\n",
       "    }\n",
       "</style>\n",
       "<table border=\"1\" class=\"dataframe\">\n",
       "  <thead>\n",
       "    <tr style=\"text-align: right;\">\n",
       "      <th></th>\n",
       "      <th>id</th>\n",
       "      <th>title</th>\n",
       "      <th>language</th>\n",
       "      <th>proportion</th>\n",
       "      <th>number</th>\n",
       "    </tr>\n",
       "  </thead>\n",
       "  <tbody>\n",
       "    <tr>\n",
       "      <th>0</th>\n",
       "      <td>166</td>\n",
       "      <td>Canberra Community News (ACT : 1925 - 1927)</td>\n",
       "      <td>en</td>\n",
       "      <td>1.0</td>\n",
       "      <td>100</td>\n",
       "    </tr>\n",
       "    <tr>\n",
       "      <th>1</th>\n",
       "      <td>165</td>\n",
       "      <td>Canberra Illustrated: A Quarterly Magazine (AC...</td>\n",
       "      <td>en</td>\n",
       "      <td>1.0</td>\n",
       "      <td>29</td>\n",
       "    </tr>\n",
       "    <tr>\n",
       "      <th>2</th>\n",
       "      <td>69</td>\n",
       "      <td>Federal Capital Pioneer (Canberra, ACT : 1924 ...</td>\n",
       "      <td>en</td>\n",
       "      <td>1.0</td>\n",
       "      <td>100</td>\n",
       "    </tr>\n",
       "    <tr>\n",
       "      <th>3</th>\n",
       "      <td>871</td>\n",
       "      <td>Good Neighbour (ACT : 1950 - 1969)</td>\n",
       "      <td>en</td>\n",
       "      <td>1.0</td>\n",
       "      <td>100</td>\n",
       "    </tr>\n",
       "    <tr>\n",
       "      <th>4</th>\n",
       "      <td>665</td>\n",
       "      <td>Student Notes/Canberra University College Stud...</td>\n",
       "      <td>en</td>\n",
       "      <td>1.0</td>\n",
       "      <td>100</td>\n",
       "    </tr>\n",
       "  </tbody>\n",
       "</table>\n",
       "</div>"
      ],
      "text/plain": [
       "    id                                              title language  \\\n",
       "0  166        Canberra Community News (ACT : 1925 - 1927)       en   \n",
       "1  165  Canberra Illustrated: A Quarterly Magazine (AC...       en   \n",
       "2   69  Federal Capital Pioneer (Canberra, ACT : 1924 ...       en   \n",
       "3  871                 Good Neighbour (ACT : 1950 - 1969)       en   \n",
       "4  665  Student Notes/Canberra University College Stud...       en   \n",
       "\n",
       "   proportion number  \n",
       "0         1.0    100  \n",
       "1         1.0     29  \n",
       "2         1.0    100  \n",
       "3         1.0    100  \n",
       "4         1.0    100  "
      ]
     },
     "execution_count": 6,
     "metadata": {},
     "output_type": "execute_result"
    }
   ],
   "source": [
    "df = pd.DataFrame(newspaper_langs)\n",
    "df.head()"
   ]
  },
  {
   "cell_type": "markdown",
   "metadata": {},
   "source": [
    "## Add full language names\n",
    "\n",
    "The language detector returns BCP-47-style language codes. To translate these into something that's a bit easier for humans to understand, we can use the [language-tags](https://github.com/OnroerendErfgoed/language-tags) package."
   ]
  },
  {
   "cell_type": "code",
   "execution_count": 7,
   "metadata": {},
   "outputs": [],
   "source": [
    "def get_full_language(lc):\n",
    "    \"\"\"\n",
    "    Get full language names from codes\n",
    "    \"\"\"\n",
    "    lang = tags.description(lc)\n",
    "    if lang:\n",
    "        return lang[0]\n",
    "    else:\n",
    "        print(lc)\n",
    "        return lc\n",
    "\n",
    "\n",
    "df[\"language_full\"] = df[\"language\"].apply(get_full_language)"
   ]
  },
  {
   "cell_type": "markdown",
   "metadata": {},
   "source": [
    "## Filtering the results\n",
    "\n",
    "If we just look at the numbers of languages detected we might think that Australia's cultural diversity was much greater than we expected! But the likelihood that there were ten newspapers publishing articles in Igbo (the language of the Igbo people in south-eastern Nigeria) seems small. Obviously there are a considerable number of false positives here."
   ]
  },
  {
   "cell_type": "code",
   "execution_count": 8,
   "metadata": {},
   "outputs": [
    {
     "data": {
      "text/plain": [
       "English                  1680\n",
       "Maltese                   177\n",
       "Japanese                   28\n",
       "Italian                    22\n",
       "Somali                     18\n",
       "German                     16\n",
       "Welsh                      15\n",
       "Catalan                    12\n",
       "Portuguese                  9\n",
       "Norwegian                   9\n",
       "Chinese                     8\n",
       "Estonian                    7\n",
       "Danish                      7\n",
       "Hindi                       6\n",
       "French                      6\n",
       "Western Frisian             6\n",
       "Corsican                    6\n",
       "Hawaiian                    4\n",
       "Bulgarian                   4\n",
       "Vietnamese                  4\n",
       "Polish                      4\n",
       "Igbo                        4\n",
       "Indonesian                  4\n",
       "Modern Greek (1453-)        4\n",
       "Luxembourgish               3\n",
       "Javanese                    3\n",
       "Yiddish                     3\n",
       "Dutch                       3\n",
       "Scottish Gaelic             3\n",
       "Swedish                     3\n",
       "Czech                       2\n",
       "Samoan                      2\n",
       "Latin                       2\n",
       "Kurdish                     2\n",
       "Malagasy                    2\n",
       "Filipino                    2\n",
       "Russian                     2\n",
       "Malay (macrolanguage)       2\n",
       "Bosnian                     2\n",
       "Spanish                     2\n",
       "Cebuano                     2\n",
       "Uzbek                       1\n",
       "Slovenian                   1\n",
       "Irish                       1\n",
       "Croatian                    1\n",
       "Haitian                     1\n",
       "Turkish                     1\n",
       "Hebrew                      1\n",
       "Maori                       1\n",
       "Zulu                        1\n",
       "Galician                    1\n",
       "Latvian                     1\n",
       "Shona                       1\n",
       "Ukrainian                   1\n",
       "Lithuanian                  1\n",
       "Afrikaans                   1\n",
       "Hausa                       1\n",
       "Macedonian                  1\n",
       "Name: language_full, dtype: int64"
      ]
     },
     "execution_count": 8,
     "metadata": {},
     "output_type": "execute_result"
    }
   ],
   "source": [
    "df[\"language_full\"].value_counts()"
   ]
  },
  {
   "cell_type": "markdown",
   "metadata": {},
   "source": [
    "Remember that for each language detected in a newspaper we calculated the proportion of articles in our results set in that language. So we can, for example, just look at newspapers where 100% of the articles are in a single language. This highlights a few non-English language newspapers, but obviously we're missing a lot of others."
   ]
  },
  {
   "cell_type": "code",
   "execution_count": 9,
   "metadata": {},
   "outputs": [
    {
     "data": {
      "text/plain": [
       "English                 1422\n",
       "German                     3\n",
       "Italian                    3\n",
       "Modern Greek (1453-)       2\n",
       "Estonian                   1\n",
       "Yiddish                    1\n",
       "Name: language_full, dtype: int64"
      ]
     },
     "execution_count": 9,
     "metadata": {},
     "output_type": "execute_result"
    }
   ],
   "source": [
    "df.loc[df[\"proportion\"] == 1][\"language_full\"].value_counts()"
   ]
  },
  {
   "cell_type": "markdown",
   "metadata": {},
   "source": [
    "If we chart the proportions, we see them bunched up at either end of the scale. So there are lots of languages detected in only a small proportion of articles."
   ]
  },
  {
   "cell_type": "code",
   "execution_count": 10,
   "metadata": {},
   "outputs": [
    {
     "data": {
      "text/html": [
       "\n",
       "<div id=\"altair-viz-10afc5e672244da0ad68c7498fef7d1d\"></div>\n",
       "<script type=\"text/javascript\">\n",
       "  var VEGA_DEBUG = (typeof VEGA_DEBUG == \"undefined\") ? {} : VEGA_DEBUG;\n",
       "  (function(spec, embedOpt){\n",
       "    let outputDiv = document.currentScript.previousElementSibling;\n",
       "    if (outputDiv.id !== \"altair-viz-10afc5e672244da0ad68c7498fef7d1d\") {\n",
       "      outputDiv = document.getElementById(\"altair-viz-10afc5e672244da0ad68c7498fef7d1d\");\n",
       "    }\n",
       "    const paths = {\n",
       "      \"vega\": \"https://cdn.jsdelivr.net/npm//vega@5?noext\",\n",
       "      \"vega-lib\": \"https://cdn.jsdelivr.net/npm//vega-lib?noext\",\n",
       "      \"vega-lite\": \"https://cdn.jsdelivr.net/npm//vega-lite@4.17.0?noext\",\n",
       "      \"vega-embed\": \"https://cdn.jsdelivr.net/npm//vega-embed@6?noext\",\n",
       "    };\n",
       "\n",
       "    function maybeLoadScript(lib, version) {\n",
       "      var key = `${lib.replace(\"-\", \"\")}_version`;\n",
       "      return (VEGA_DEBUG[key] == version) ?\n",
       "        Promise.resolve(paths[lib]) :\n",
       "        new Promise(function(resolve, reject) {\n",
       "          var s = document.createElement('script');\n",
       "          document.getElementsByTagName(\"head\")[0].appendChild(s);\n",
       "          s.async = true;\n",
       "          s.onload = () => {\n",
       "            VEGA_DEBUG[key] = version;\n",
       "            return resolve(paths[lib]);\n",
       "          };\n",
       "          s.onerror = () => reject(`Error loading script: ${paths[lib]}`);\n",
       "          s.src = paths[lib];\n",
       "        });\n",
       "    }\n",
       "\n",
       "    function showError(err) {\n",
       "      outputDiv.innerHTML = `<div class=\"error\" style=\"color:red;\">${err}</div>`;\n",
       "      throw err;\n",
       "    }\n",
       "\n",
       "    function displayChart(vegaEmbed) {\n",
       "      vegaEmbed(outputDiv, spec, embedOpt)\n",
       "        .catch(err => showError(`Javascript Error: ${err.message}<br>This usually means there's a typo in your chart specification. See the javascript console for the full traceback.`));\n",
       "    }\n",
       "\n",
       "    if(typeof define === \"function\" && define.amd) {\n",
       "      requirejs.config({paths});\n",
       "      require([\"vega-embed\"], displayChart, err => showError(`Error loading script: ${err.message}`));\n",
       "    } else {\n",
       "      maybeLoadScript(\"vega\", \"5\")\n",
       "        .then(() => maybeLoadScript(\"vega-lite\", \"4.17.0\"))\n",
       "        .then(() => maybeLoadScript(\"vega-embed\", \"6\"))\n",
       "        .catch(showError)\n",
       "        .then(() => displayChart(vegaEmbed));\n",
       "    }\n",
       "  })({\"config\": {\"view\": {\"continuousWidth\": 400, \"continuousHeight\": 300}}, \"data\": {\"name\": \"data-e44238567f4d2ed888e8b783b8c178ce\"}, \"mark\": \"bar\", \"encoding\": {\"x\": {\"bin\": true, \"field\": \"proportion\", \"type\": \"quantitative\"}, \"y\": {\"aggregate\": \"count\", \"type\": \"quantitative\"}}, \"$schema\": \"https://vega.github.io/schema/vega-lite/v4.17.0.json\", \"datasets\": {\"data-e44238567f4d2ed888e8b783b8c178ce\": [{\"id\": \"166\", \"title\": \"Canberra Community News (ACT : 1925 - 1927)\", \"language\": \"en\", \"proportion\": 1.0, \"number\": \"100\", \"language_full\": \"English\"}, {\"id\": \"165\", \"title\": \"Canberra Illustrated: A Quarterly Magazine (ACT : 1925)\", \"language\": \"en\", \"proportion\": 1.0, \"number\": \"29\", \"language_full\": \"English\"}, {\"id\": \"69\", \"title\": \"Federal Capital Pioneer (Canberra, ACT : 1924 - 1926)\", \"language\": \"en\", \"proportion\": 1.0, \"number\": \"100\", \"language_full\": \"English\"}, {\"id\": \"871\", \"title\": \"Good Neighbour (ACT : 1950 - 1969)\", \"language\": \"en\", \"proportion\": 1.0, \"number\": \"100\", \"language_full\": \"English\"}, {\"id\": \"665\", \"title\": \"Student Notes/Canberra University College Students Association (ACT : 1947 - 1950)\", \"language\": \"en\", \"proportion\": 1.0, \"number\": \"100\", \"language_full\": \"English\"}, {\"id\": \"11\", \"title\": \"The Canberra Times (ACT : 1926 - 1995)\", \"language\": \"en\", \"proportion\": 1.0, \"number\": \"100\", \"language_full\": \"English\"}, {\"id\": \"167\", \"title\": \"The Federal Capital Pioneer Magazine (Canberra, ACT : 1926 - 1927)\", \"language\": \"en\", \"proportion\": 1.0, \"number\": \"100\", \"language_full\": \"English\"}, {\"id\": \"666\", \"title\": \"Woroni (Canberra, ACT : 1950 - 2007)\", \"language\": \"en\", \"proportion\": 1.0, \"number\": \"100\", \"language_full\": \"English\"}, {\"id\": \"1498\", \"title\": \"A Voz de Timor (Dili, East Timor : 1970 - 1975)\", \"language\": \"pt\", \"proportion\": 0.9888888888888889, \"number\": \"100\", \"language_full\": \"Portuguese\"}, {\"id\": \"1498\", \"title\": \"A Voz de Timor (Dili, East Timor : 1970 - 1975)\", \"language\": \"mt\", \"proportion\": 0.011111111111111112, \"number\": \"100\", \"language_full\": \"Maltese\"}, {\"id\": \"1488\", \"title\": \"Bangkok Recorder (Thailand : 1865 - 1867)\", \"language\": \"en\", \"proportion\": 0.9680851063829787, \"number\": \"100\", \"language_full\": \"English\"}, {\"id\": \"1488\", \"title\": \"Bangkok Recorder (Thailand : 1865 - 1867)\", \"language\": \"cy\", \"proportion\": 0.010638297872340425, \"number\": \"100\", \"language_full\": \"Welsh\"}, {\"id\": \"1488\", \"title\": \"Bangkok Recorder (Thailand : 1865 - 1867)\", \"language\": \"de\", \"proportion\": 0.010638297872340425, \"number\": \"100\", \"language_full\": \"German\"}, {\"id\": \"1488\", \"title\": \"Bangkok Recorder (Thailand : 1865 - 1867)\", \"language\": \"mt\", \"proportion\": 0.010638297872340425, \"number\": \"100\", \"language_full\": \"Maltese\"}, {\"id\": \"1283\", \"title\": \"Berita Repoeblik (Djakarta, Indonesia : 1945 - 1946)\", \"language\": \"ms\", \"proportion\": 0.8913043478260869, \"number\": \"100\", \"language_full\": \"Malay (macrolanguage)\"}, {\"id\": \"1283\", \"title\": \"Berita Repoeblik (Djakarta, Indonesia : 1945 - 1946)\", \"language\": \"id\", \"proportion\": 0.10869565217391304, \"number\": \"100\", \"language_full\": \"Indonesian\"}, {\"id\": \"1377\", \"title\": \"Guinea Gold (Papua New Guinea : 1942 - 1945)\", \"language\": \"en\", \"proportion\": 1.0, \"number\": \"100\", \"language_full\": \"English\"}, {\"id\": \"1376\", \"title\": \"Papua New Guinea Post-Courier (Port Moresby : 1969 - 1981)\", \"language\": \"en\", \"proportion\": 1.0, \"number\": \"100\", \"language_full\": \"English\"}, {\"id\": \"1375\", \"title\": \"Papuan Courier (Port Moresby, Papua New Guinea : 1917 - 1942)\", \"language\": \"en\", \"proportion\": 0.9894736842105263, \"number\": \"100\", \"language_full\": \"English\"}, {\"id\": \"1375\", \"title\": \"Papuan Courier (Port Moresby, Papua New Guinea : 1917 - 1942)\", \"language\": \"ha\", \"proportion\": 0.010526315789473684, \"number\": \"100\", \"language_full\": \"Hausa\"}, {\"id\": \"1373\", \"title\": \"Papuan Times (Kwato, Papua New Guinea : 1951 - 1954)\", \"language\": \"en\", \"proportion\": 0.9595959595959596, \"number\": \"100\", \"language_full\": \"English\"}, {\"id\": \"1373\", \"title\": \"Papuan Times (Kwato, Papua New Guinea : 1951 - 1954)\", \"language\": \"ja\", \"proportion\": 0.030303030303030304, \"number\": \"100\", \"language_full\": \"Japanese\"}, {\"id\": \"1373\", \"title\": \"Papuan Times (Kwato, Papua New Guinea : 1951 - 1954)\", \"language\": \"so\", \"proportion\": 0.010101010101010102, \"number\": \"100\", \"language_full\": \"Somali\"}, {\"id\": \"1374\", \"title\": \"Papuan Times (Port Moresby, Papua New Guinea : 1911 - 1916)\", \"language\": \"en\", \"proportion\": 1.0, \"number\": \"100\", \"language_full\": \"English\"}, {\"id\": \"1329\", \"title\": \"South Australian Record (London, England : 1837 - 1840)\", \"language\": \"en\", \"proportion\": 1.0, \"number\": \"100\", \"language_full\": \"English\"}, {\"id\": \"1331\", \"title\": \"South Australian Record and Australasian and South African Chronicle (London, England : 1840 - 1841)\", \"language\": \"en\", \"proportion\": 1.0, \"number\": \"100\", \"language_full\": \"English\"}, {\"id\": \"1330\", \"title\": \"South Australian Record and Australasian Chronicle (London, England : 1840)\", \"language\": \"en\", \"proportion\": 1.0, \"number\": \"100\", \"language_full\": \"English\"}, {\"id\": \"1030\", \"title\": \"The South Australian Colonist and Settlers' Weekly Record of British, Foreign and Colonial Intelligence (London, England : 1840)\", \"language\": \"en\", \"proportion\": 1.0, \"number\": \"100\", \"language_full\": \"English\"}, {\"id\": \"1391\", \"title\": \"The Tribune (Philippines : 1932 - 1945)\", \"language\": \"en\", \"proportion\": 1.0, \"number\": \"100\", \"language_full\": \"English\"}, {\"id\": \"1669\", \"title\": \"Air Force News (National : 1941)\", \"language\": \"en\", \"proportion\": 1.0, \"number\": \"100\", \"language_full\": \"English\"}, {\"id\": \"1672\", \"title\": \"Air Force News (National : 1997 - 2020)\", \"language\": \"en\", \"proportion\": 1.0, \"number\": \"100\", \"language_full\": \"English\"}, {\"id\": \"1671\", \"title\": \"RAAF News (National : 1960 - 1997)\", \"language\": \"en\", \"proportion\": 1.0, \"number\": \"100\", \"language_full\": \"English\"}, {\"id\": \"51\", \"title\": \"The Australian Abo Call (National : 1938)\", \"language\": \"en\", \"proportion\": 1.0, \"number\": \"47\", \"language_full\": \"English\"}, {\"id\": \"625\", \"title\": \"Adelong and Tumut Express (NSW : 1925)\", \"language\": \"en\", \"proportion\": 1.0, \"number\": \"100\", \"language_full\": \"English\"}, {\"id\": \"434\", \"title\": \"Adelong and Tumut Express and Tumbarumba Post (NSW : 1900 - 1925)\", \"language\": \"en\", \"proportion\": 1.0, \"number\": \"100\", \"language_full\": \"English\"}, {\"id\": \"435\", \"title\": \"Adelong Argus, Tumut and Gundagai Advertiser (NSW : 1925)\", \"language\": \"en\", \"proportion\": 1.0, \"number\": \"100\", \"language_full\": \"English\"}, {\"id\": \"627\", \"title\": \"Albury Banner Wodonga Express and Riverina Stock Journal (NSW : 1941)\", \"language\": \"en\", \"proportion\": 1.0, \"number\": \"100\", \"language_full\": \"English\"}, {\"id\": \"1302\", \"title\": \"All Grades Advocate (Sydney, NSW : 1917)\", \"language\": \"en\", \"proportion\": 1.0, \"number\": \"100\", \"language_full\": \"English\"}, {\"id\": \"414\", \"title\": \"Argyle Liberal and District Recorder (NSW : 1903 - 1930)\", \"language\": \"en\", \"proportion\": 1.0, \"number\": \"100\", \"language_full\": \"English\"}, {\"id\": \"1101\", \"title\": \"Ariah Park News (NSW : 1923 - 1928)\", \"language\": \"en\", \"proportion\": 0.99, \"number\": \"100\", \"language_full\": \"English\"}, {\"id\": \"1101\", \"title\": \"Ariah Park News (NSW : 1923 - 1928)\", \"language\": \"es\", \"proportion\": 0.01, \"number\": \"100\", \"language_full\": \"Spanish\"}, {\"id\": \"439\", \"title\": \"Arrow (Sydney, NSW : 1916 - 1933)\", \"language\": \"en\", \"proportion\": 0.99, \"number\": \"100\", \"language_full\": \"English\"}, {\"id\": \"439\", \"title\": \"Arrow (Sydney, NSW : 1916 - 1933)\", \"language\": \"so\", \"proportion\": 0.01, \"number\": \"100\", \"language_full\": \"Somali\"}, {\"id\": \"1320\", \"title\": \"Auburn and District News (NSW : 1929)\", \"language\": \"en\", \"proportion\": 0.9473684210526315, \"number\": \"21\", \"language_full\": \"English\"}, {\"id\": \"1320\", \"title\": \"Auburn and District News (NSW : 1929)\", \"language\": \"vi\", \"proportion\": 0.05263157894736842, \"number\": \"21\", \"language_full\": \"Vietnamese\"}, {\"id\": \"1318\", \"title\": \"Auburn News and Granville Electorate Gazetteer (NSW : 1903 - 1905)\", \"language\": \"en\", \"proportion\": 1.0, \"number\": \"100\", \"language_full\": \"English\"}, {\"id\": \"48\", \"title\": \"Australasian Chronicle (Sydney, NSW : 1839 - 1843)\", \"language\": \"en\", \"proportion\": 1.0, \"number\": \"100\", \"language_full\": \"English\"}, {\"id\": \"162\", \"title\": \"Australian Band of Hope Journal (Sydney, NSW : 1857 - 1857)\", \"language\": \"en\", \"proportion\": 1.0, \"number\": \"100\", \"language_full\": \"English\"}, {\"id\": \"52\", \"title\": \"Australian Town and Country Journal (Sydney, NSW : 1870 - 1919)\", \"language\": \"en\", \"proportion\": 1.0, \"number\": \"100\", \"language_full\": \"English\"}, {\"id\": \"671\", \"title\": \"Balmain Observer and Western Suburbs Advertiser (NSW : 1884 - 1907)\", \"language\": \"en\", \"proportion\": 1.0, \"number\": \"100\", \"language_full\": \"English\"}, {\"id\": \"635\", \"title\": \"Barrier Daily Truth (Broken Hill, NSW : 1908; 1941 - 1954)\", \"language\": \"en\", \"proportion\": 1.0, \"number\": \"100\", \"language_full\": \"English\"}, {\"id\": \"53\", \"title\": \"Barrier Miner (Broken Hill, NSW : 1888 - 1954)\", \"language\": \"en\", \"proportion\": 1.0, \"number\": \"100\", \"language_full\": \"English\"}, {\"id\": \"54\", \"title\": \"Bathurst Advocate (NSW : 1848 - 1849)\", \"language\": \"en\", \"proportion\": 1.0, \"number\": \"100\", \"language_full\": \"English\"}, {\"id\": \"55\", \"title\": \"Bathurst Free Press (NSW : 1849 - 1851)\", \"language\": \"en\", \"proportion\": 1.0, \"number\": \"100\", \"language_full\": \"English\"}, {\"id\": \"56\", \"title\": \"Bathurst Free Press and Mining Journal (NSW : 1851 - 1904)\", \"language\": \"en\", \"proportion\": 1.0, \"number\": \"100\", \"language_full\": \"English\"}, {\"id\": \"57\", \"title\": \"Bell's Life in Sydney and Sporting Chronicle (NSW : 1860 - 1870)\", \"language\": \"en\", \"proportion\": 1.0, \"number\": \"100\", \"language_full\": \"English\"}, {\"id\": \"58\", \"title\": \"Bell's Life in Sydney and Sporting Reviewer (NSW : 1845 - 1860)\", \"language\": \"en\", \"proportion\": 0.9578947368421052, \"number\": \"100\", \"language_full\": \"English\"}, {\"id\": \"58\", \"title\": \"Bell's Life in Sydney and Sporting Reviewer (NSW : 1845 - 1860)\", \"language\": \"mt\", \"proportion\": 0.042105263157894736, \"number\": \"100\", \"language_full\": \"Maltese\"}, {\"id\": \"1461\", \"title\": \"Bent's News and New South Wales Advertiser (Sydney, NSW : 1839)\", \"language\": \"en\", \"proportion\": 1.0, \"number\": \"100\", \"language_full\": \"English\"}, {\"id\": \"912\", \"title\": \"Blackheath Beacon (Katoomba, NSW : 1930 - 1931)\", \"language\": \"en\", \"proportion\": 1.0, \"number\": \"100\", \"language_full\": \"English\"}, {\"id\": \"802\", \"title\": \"Blayney West Macquarie (NSW : 1949)\", \"language\": \"en\", \"proportion\": 1.0, \"number\": \"75\", \"language_full\": \"English\"}, {\"id\": \"908\", \"title\": \"Blue Mountain Gazette (Katoomba, NSW : 1903 - 1904)\", \"language\": \"en\", \"proportion\": 1.0, \"number\": \"100\", \"language_full\": \"English\"}, {\"id\": \"910\", \"title\": \"Blue Mountains Daily (Katoomba, NSW : 1939)\", \"language\": \"en\", \"proportion\": 1.0, \"number\": \"100\", \"language_full\": \"English\"}, {\"id\": \"1784\", \"title\": \"Boggy Camp Tingha and Bora Creek (NSW : 1899)\", \"language\": \"en\", \"proportion\": 0.98, \"number\": \"100\", \"language_full\": \"English\"}, {\"id\": \"1784\", \"title\": \"Boggy Camp Tingha and Bora Creek (NSW : 1899)\", \"language\": \"mt\", \"proportion\": 0.02, \"number\": \"100\", \"language_full\": \"Maltese\"}, {\"id\": \"636\", \"title\": \"Bombala Times and Manaro and Coast Districts General Advertiser (NSW : 1899 - 1905)\", \"language\": \"en\", \"proportion\": 1.0, \"number\": \"100\", \"language_full\": \"English\"}, {\"id\": \"462\", \"title\": \"Boorowa News (NSW : 1951 - 1954)\", \"language\": \"en\", \"proportion\": 1.0, \"number\": \"100\", \"language_full\": \"English\"}, {\"id\": \"1492\", \"title\": \"Border Morning Mail (Albury, NSW : 1938 - 1951)\", \"language\": \"en\", \"proportion\": 1.0, \"number\": \"100\", \"language_full\": \"English\"}, {\"id\": \"523\", \"title\": \"Bowral and Robertson Free Press (NSW : 1901)\", \"language\": \"en\", \"proportion\": 1.0, \"number\": \"100\", \"language_full\": \"English\"}, {\"id\": \"524\", \"title\": \"Bowral Free Press (NSW : 1901 - 1906)\", \"language\": \"en\", \"proportion\": 1.0, \"number\": \"100\", \"language_full\": \"English\"}, {\"id\": \"522\", \"title\": \"Bowral Free Press and Berrima District Intelligencer (NSW : 1884 - 1901)\", \"language\": \"en\", \"proportion\": 1.0, \"number\": \"100\", \"language_full\": \"English\"}, {\"id\": \"521\", \"title\": \"Bowral Free Press and Mittagong, Burrawang and Kangaloon Advocate (NSW : 1883 - 1884)\", \"language\": \"en\", \"proportion\": 1.0, \"number\": \"100\", \"language_full\": \"English\"}, {\"id\": \"114\", \"title\": \"Braidwood Independent (NSW : 1867)\", \"language\": \"en\", \"proportion\": 1.0, \"number\": \"100\", \"language_full\": \"English\"}, {\"id\": \"876\", \"title\": \"Bundarra and Tingha Advocate (NSW : 1900 - 1929)\", \"language\": \"en\", \"proportion\": 0.98989898989899, \"number\": \"100\", \"language_full\": \"English\"}, {\"id\": \"876\", \"title\": \"Bundarra and Tingha Advocate (NSW : 1900 - 1929)\", \"language\": \"mt\", \"proportion\": 0.010101010101010102, \"number\": \"100\", \"language_full\": \"Maltese\"}, {\"id\": \"638\", \"title\": \"Camden News (NSW : 1895 - 1954)\", \"language\": \"en\", \"proportion\": 1.0, \"number\": \"100\", \"language_full\": \"English\"}, {\"id\": \"1699\", \"title\": \"Campbelltown Ingleburn News (NSW : 1953 - 1954)\", \"language\": \"en\", \"proportion\": 1.0, \"number\": \"100\", \"language_full\": \"English\"}, {\"id\": \"427\", \"title\": \"Canowindra Star and Eugowra News (NSW : 1903 - 1907; 1910 - 1911; 1914 - 1922)\", \"language\": \"en\", \"proportion\": 1.0, \"number\": \"100\", \"language_full\": \"English\"}, {\"id\": \"744\", \"title\": \"Canowindra Star and Woodstock Recorder (NSW : 1902 - 1903)\", \"language\": \"en\", \"proportion\": 1.0, \"number\": \"100\", \"language_full\": \"English\"}, {\"id\": \"1219\", \"title\": \"Casino and Kyogle Courier and North Coast Advertiser (NSW : 1904 - 1932)\", \"language\": \"en\", \"proportion\": 1.0, \"number\": \"100\", \"language_full\": \"English\"}, {\"id\": \"710\", \"title\": \"Catholic Freeman's Journal (Sydney, NSW : 1932 - 1942)\", \"language\": \"en\", \"proportion\": 1.0, \"number\": \"100\", \"language_full\": \"English\"}, {\"id\": \"711\", \"title\": \"Catholic Weekly (Sydney, NSW : 1942 - 1954)\", \"language\": \"en\", \"proportion\": 1.0, \"number\": \"100\", \"language_full\": \"English\"}, {\"id\": \"1186\", \"title\": \"Chinese Republic News (Sydney, NSW : 1914 - 1937)\", \"language\": \"af\", \"proportion\": 0.01020408163265306, \"number\": \"100\", \"language_full\": \"Afrikaans\"}, {\"id\": \"1186\", \"title\": \"Chinese Republic News (Sydney, NSW : 1914 - 1937)\", \"language\": \"zh\", \"proportion\": 0.9285714285714286, \"number\": \"100\", \"language_full\": \"Chinese\"}, {\"id\": \"1186\", \"title\": \"Chinese Republic News (Sydney, NSW : 1914 - 1937)\", \"language\": \"id\", \"proportion\": 0.01020408163265306, \"number\": \"100\", \"language_full\": \"Indonesian\"}, {\"id\": \"1186\", \"title\": \"Chinese Republic News (Sydney, NSW : 1914 - 1937)\", \"language\": \"da\", \"proportion\": 0.01020408163265306, \"number\": \"100\", \"language_full\": \"Danish\"}, {\"id\": \"1186\", \"title\": \"Chinese Republic News (Sydney, NSW : 1914 - 1937)\", \"language\": \"jv\", \"proportion\": 0.01020408163265306, \"number\": \"100\", \"language_full\": \"Javanese\"}, {\"id\": \"1186\", \"title\": \"Chinese Republic News (Sydney, NSW : 1914 - 1937)\", \"language\": \"de\", \"proportion\": 0.01020408163265306, \"number\": \"100\", \"language_full\": \"German\"}, {\"id\": \"1186\", \"title\": \"Chinese Republic News (Sydney, NSW : 1914 - 1937)\", \"language\": \"hi\", \"proportion\": 0.01020408163265306, \"number\": \"100\", \"language_full\": \"Hindi\"}, {\"id\": \"1186\", \"title\": \"Chinese Republic News (Sydney, NSW : 1914 - 1937)\", \"language\": \"cs\", \"proportion\": 0.01020408163265306, \"number\": \"100\", \"language_full\": \"Czech\"}, {\"id\": \"996\", \"title\": \"Citizen Soldier (Sydney, NSW : 1942)\", \"language\": \"en\", \"proportion\": 1.0, \"number\": \"42\", \"language_full\": \"English\"}, {\"id\": \"104\", \"title\": \"Clarence and Richmond Examiner (Grafton, NSW : 1859)\", \"language\": \"en\", \"proportion\": 1.0, \"number\": \"61\", \"language_full\": \"English\"}, {\"id\": \"64\", \"title\": \"Clarence and Richmond Examiner (Grafton, NSW : 1889 - 1915)\", \"language\": \"en\", \"proportion\": 1.0, \"number\": \"100\", \"language_full\": \"English\"}, {\"id\": \"65\", \"title\": \"Clarence and Richmond Examiner and New England Advertiser (Grafton, NSW : 1859 - 1889)\", \"language\": \"en\", \"proportion\": 1.0, \"number\": \"100\", \"language_full\": \"English\"}, {\"id\": \"626\", \"title\": \"Clear Hills Standard and Daysdale and Saverneke Times (NSW : 1914)\", \"language\": \"en\", \"proportion\": 0.9666666666666667, \"number\": \"30\", \"language_full\": \"English\"}, {\"id\": \"626\", \"title\": \"Clear Hills Standard and Daysdale and Saverneke Times (NSW : 1914)\", \"language\": \"mt\", \"proportion\": 0.03333333333333333, \"number\": \"30\", \"language_full\": \"Maltese\"}, {\"id\": \"1301\", \"title\": \"Co-operator (Sydney, NSW : 1910 - 1917)\", \"language\": \"en\", \"proportion\": 1.0, \"number\": \"100\", \"language_full\": \"English\"}, {\"id\": \"989\", \"title\": \"Coffs Harbour Advocate (NSW : 1907 - 1942; 1946 - 1954)\", \"language\": \"en\", \"proportion\": 0.9795918367346939, \"number\": \"100\", \"language_full\": \"English\"}, {\"id\": \"989\", \"title\": \"Coffs Harbour Advocate (NSW : 1907 - 1942; 1946 - 1954)\", \"language\": \"mt\", \"proportion\": 0.02040816326530612, \"number\": \"100\", \"language_full\": \"Maltese\"}, {\"id\": \"1013\", \"title\": \"Commercial Journal and Advertiser (Sydney, NSW : 1835 - 1840)\", \"language\": \"en\", \"proportion\": 1.0, \"number\": \"100\", \"language_full\": \"English\"}, {\"id\": \"1016\", \"title\": \"Commercial Journal and General Advertiser (Sydney, NSW : 1845)\", \"language\": \"en\", \"proportion\": 1.0, \"number\": \"100\", \"language_full\": \"English\"}, {\"id\": \"997\", \"title\": \"Communist (Sydney, NSW : 1921 - 1923)\", \"language\": \"en\", \"proportion\": 1.0, \"number\": \"100\", \"language_full\": \"English\"}, {\"id\": \"998\", \"title\": \"Communist Review (Sydney, NSW : 1941 - 1943)\", \"language\": \"en\", \"proportion\": 1.0, \"number\": \"48\", \"language_full\": \"English\"}, {\"id\": \"1228\", \"title\": \"Construction : Weekly Supplement to Building (Sydney, NSW : 1909 - 1914)\", \"language\": \"en\", \"proportion\": 1.0, \"number\": \"100\", \"language_full\": \"English\"}, {\"id\": \"1188\", \"title\": \"Construction (Sydney, NSW : 1938 - 1954)\", \"language\": \"en\", \"proportion\": 1.0, \"number\": \"100\", \"language_full\": \"English\"}, {\"id\": \"449\", \"title\": \"Construction and Local Government Journal (Sydney, NSW : 1913 - 1930)\", \"language\": \"en\", \"proportion\": 1.0, \"number\": \"100\", \"language_full\": \"English\"}, {\"id\": \"630\", \"title\": \"Construction and Real Estate Journal (Sydney, NSW : 1930 - 1938)\", \"language\": \"en\", \"proportion\": 1.0, \"number\": \"100\", \"language_full\": \"English\"}, {\"id\": \"1799\", \"title\": \"Coonabarabran Times (NSW : 1950-1954)\", \"language\": \"en\", \"proportion\": 1.0, \"number\": \"100\", \"language_full\": \"English\"}, {\"id\": \"639\", \"title\": \"Cootamundra Herald (NSW : 1877 - 1954)\", \"language\": \"en\", \"proportion\": 1.0, \"number\": \"100\", \"language_full\": \"English\"}, {\"id\": \"676\", \"title\": \"Country Life Stock and Station Journal (Sydney, NSW : 1924 - 1925)\", \"language\": \"en\", \"proportion\": 1.0, \"number\": \"100\", \"language_full\": \"English\"}, {\"id\": \"420\", \"title\": \"Cowra Free Press (NSW : 1911 - 1937)\", \"language\": \"en\", \"proportion\": 1.0, \"number\": \"100\", \"language_full\": \"English\"}, {\"id\": \"1697\", \"title\": \"Cowra Guardian and Lachlan Agricultural Recorder (NSW : 1898 - 1907)\", \"language\": \"en\", \"proportion\": 1.0, \"number\": \"100\", \"language_full\": \"English\"}, {\"id\": \"1177\", \"title\": \"Crookwell Gazette (NSW : 1885 - 1954)\", \"language\": \"en\", \"proportion\": 1.0, \"number\": \"100\", \"language_full\": \"English\"}, {\"id\": \"687\", \"title\": \"Daily Advertiser (Wagga Wagga, NSW : 1911 - 1954)\", \"language\": \"en\", \"proportion\": 1.0, \"number\": \"100\", \"language_full\": \"English\"}, {\"id\": \"641\", \"title\": \"Daily Commercial News and Shipping List (Sydney, NSW : 1891 - 1954)\", \"language\": \"en\", \"proportion\": 1.0, \"number\": \"100\", \"language_full\": \"English\"}, {\"id\": \"1005\", \"title\": \"Daily Examiner (Grafton, NSW : 1915 - 1954)\", \"language\": \"en\", \"proportion\": 1.0, \"number\": \"100\", \"language_full\": \"English\"}, {\"id\": \"1285\", \"title\": \"Daily News (Sydney, NSW : 1938 - 1940)\", \"language\": \"en\", \"proportion\": 1.0, \"number\": \"100\", \"language_full\": \"English\"}, {\"id\": \"432\", \"title\": \"Daily Observer (Tamworth, NSW : 1917 - 1920)\", \"language\": \"mt\", \"proportion\": 0.033707865168539325, \"number\": \"100\", \"language_full\": \"Maltese\"}, {\"id\": \"432\", \"title\": \"Daily Observer (Tamworth, NSW : 1917 - 1920)\", \"language\": \"en\", \"proportion\": 0.9662921348314607, \"number\": \"100\", \"language_full\": \"English\"}, {\"id\": \"1342\", \"title\": \"Daily Pictorial (Sydney, NSW : 1930 - 1931)\", \"language\": \"en\", \"proportion\": 1.0, \"number\": \"100\", \"language_full\": \"English\"}, {\"id\": \"628\", \"title\": \"Daily Witness (Young, NSW : 1923 - 1924)\", \"language\": \"en\", \"proportion\": 1.0, \"number\": \"100\", \"language_full\": \"English\"}, {\"id\": \"532\", \"title\": \"Delegate Argus (NSW : 1906 - 1943)\", \"language\": \"en\", \"proportion\": 0.9896907216494846, \"number\": \"100\", \"language_full\": \"English\"}, {\"id\": \"532\", \"title\": \"Delegate Argus (NSW : 1906 - 1943)\", \"language\": \"so\", \"proportion\": 0.010309278350515464, \"number\": \"100\", \"language_full\": \"Somali\"}, {\"id\": \"450\", \"title\": \"Delegate Argus and Border Post (NSW : 1895 - 1906)\", \"language\": \"en\", \"proportion\": 1.0, \"number\": \"100\", \"language_full\": \"English\"}, {\"id\": \"440\", \"title\": \"Democrat (Lithgow, NSW : 1915 - 1916)\", \"language\": \"en\", \"proportion\": 1.0, \"number\": \"100\", \"language_full\": \"English\"}, {\"id\": \"1600\", \"title\": \"Deutsch-Australische Post : Wochenschrift = German-Australian Post : Weekly (Sydney, NSW : 1893 - 1906)\", \"language\": \"de\", \"proportion\": 1.0, \"number\": \"100\", \"language_full\": \"German\"}, {\"id\": \"1591\", \"title\": \"Die Brucke = The Bridge (Sydney, NSW : 1934 - 1939)\", \"language\": \"de\", \"proportion\": 0.7040816326530612, \"number\": \"100\", \"language_full\": \"German\"}, {\"id\": \"1591\", \"title\": \"Die Brucke = The Bridge (Sydney, NSW : 1934 - 1939)\", \"language\": \"en\", \"proportion\": 0.29591836734693877, \"number\": \"100\", \"language_full\": \"English\"}, {\"id\": \"507\", \"title\": \"Direct Action (Sydney, NSW : 1914 - 1930)\", \"language\": \"en\", \"proportion\": 1.0, \"number\": \"100\", \"language_full\": \"English\"}, {\"id\": \"1183\", \"title\": \"Dubbo Dispatch and Wellington Independent (NSW : 1887 - 1932)\", \"language\": \"en\", \"proportion\": 1.0, \"number\": \"100\", \"language_full\": \"English\"}, {\"id\": \"643\", \"title\": \"Dungog Chronicle : Durham and Gloucester Advertiser (NSW : 1894 - 1954)\", \"language\": \"en\", \"proportion\": 1.0, \"number\": \"100\", \"language_full\": \"English\"}, {\"id\": \"1044\", \"title\": \"Dutch Australian Weekly (Sydney, NSW : 1951 - 1993)\", \"language\": \"nl\", \"proportion\": 0.9696969696969697, \"number\": \"100\", \"language_full\": \"Dutch\"}, {\"id\": \"1044\", \"title\": \"Dutch Australian Weekly (Sydney, NSW : 1951 - 1993)\", \"language\": \"de\", \"proportion\": 0.020202020202020204, \"number\": \"100\", \"language_full\": \"German\"}, {\"id\": \"1044\", \"title\": \"Dutch Australian Weekly (Sydney, NSW : 1951 - 1993)\", \"language\": \"en\", \"proportion\": 0.010101010101010102, \"number\": \"100\", \"language_full\": \"English\"}, {\"id\": \"1045\", \"title\": \"Dutch Weekly (Sydney, NSW : 1993 - 2004)\", \"language\": \"nl\", \"proportion\": 0.9191919191919192, \"number\": \"100\", \"language_full\": \"Dutch\"}, {\"id\": \"1045\", \"title\": \"Dutch Weekly (Sydney, NSW : 1993 - 2004)\", \"language\": \"en\", \"proportion\": 0.06060606060606061, \"number\": \"100\", \"language_full\": \"English\"}, {\"id\": \"1045\", \"title\": \"Dutch Weekly (Sydney, NSW : 1993 - 2004)\", \"language\": \"de\", \"proportion\": 0.020202020202020204, \"number\": \"100\", \"language_full\": \"German\"}, {\"id\": \"480\", \"title\": \"Eden Free Press and Eden District Advertiser (NSW : 1899)\", \"language\": \"en\", \"proportion\": 0.979381443298969, \"number\": \"100\", \"language_full\": \"English\"}, {\"id\": \"480\", \"title\": \"Eden Free Press and Eden District Advertiser (NSW : 1899)\", \"language\": \"mt\", \"proportion\": 0.020618556701030927, \"number\": \"100\", \"language_full\": \"Maltese\"}, {\"id\": \"67\", \"title\": \"Empire (Sydney, NSW : 1850 - 1875)\", \"language\": \"en\", \"proportion\": 1.0, \"number\": \"100\", \"language_full\": \"English\"}, {\"id\": \"508\", \"title\": \"Evening News (Sydney, NSW : 1869 - 1931)\", \"language\": \"en\", \"proportion\": 1.0, \"number\": \"100\", \"language_full\": \"English\"}, {\"id\": \"381\", \"title\": \"Examiner (Kiama, NSW : 1859 - 1862)\", \"language\": \"en\", \"proportion\": 1.0, \"number\": \"100\", \"language_full\": \"English\"}, {\"id\": \"1321\", \"title\": \"Express (Granville, NSW : 1933 - 1935)\", \"language\": \"en\", \"proportion\": 1.0, \"number\": \"80\", \"language_full\": \"English\"}, {\"id\": \"1104\", \"title\": \"Filmnews (Sydney, NSW : 1975 - 1995)\", \"language\": \"en\", \"proportion\": 1.0, \"number\": \"100\", \"language_full\": \"English\"}, {\"id\": \"422\", \"title\": \"Forbes Times (NSW : 1899 - 1902; 1912 - 1920)\", \"language\": \"en\", \"proportion\": 1.0, \"number\": \"100\", \"language_full\": \"English\"}, {\"id\": \"1014\", \"title\": \"Free Press and Commercial Journal (Sydney, NSW : 1841)\", \"language\": \"en\", \"proportion\": 1.0, \"number\": \"100\", \"language_full\": \"English\"}, {\"id\": \"464\", \"title\": \"Freeman's Journal (Sydney, NSW : 1850 - 1932)\", \"language\": \"en\", \"proportion\": 1.0, \"number\": \"100\", \"language_full\": \"English\"}, {\"id\": \"409\", \"title\": \"Gilgandra Weekly (NSW : 1915 - 1929)\", \"language\": \"en\", \"proportion\": 1.0, \"number\": \"100\", \"language_full\": \"English\"}, {\"id\": \"411\", \"title\": \"Gilgandra Weekly (NSW : 1942 - 1955)\", \"language\": \"en\", \"proportion\": 1.0, \"number\": \"100\", \"language_full\": \"English\"}, {\"id\": \"410\", \"title\": \"Gilgandra Weekly and Castlereagh (NSW : 1929 - 1942)\", \"language\": \"en\", \"proportion\": 1.0, \"number\": \"100\", \"language_full\": \"English\"}, {\"id\": \"903\", \"title\": \"Glen Innes Examiner (NSW : 1908 - 1954)\", \"language\": \"en\", \"proportion\": 1.0, \"number\": \"100\", \"language_full\": \"English\"}, {\"id\": \"902\", \"title\": \"Glen Innes Examiner and General Advertiser (NSW : 1874 - 1908)\", \"language\": \"en\", \"proportion\": 1.0, \"number\": \"100\", \"language_full\": \"English\"}, {\"id\": \"357\", \"title\": \"Globe (Sydney, NSW : 1885 - 1886)\", \"language\": \"en\", \"proportion\": 1.0, \"number\": \"100\", \"language_full\": \"English\"}, {\"id\": \"358\", \"title\": \"Globe (Sydney, NSW : 1911 - 1914)\", \"language\": \"en\", \"proportion\": 1.0, \"number\": \"100\", \"language_full\": \"English\"}, {\"id\": \"688\", \"title\": \"Gosford Times and Gosford and Wollombi Express (NSW : 1892 - 1906)\", \"language\": \"en\", \"proportion\": 1.0, \"number\": \"100\", \"language_full\": \"English\"}, {\"id\": \"415\", \"title\": \"Goulburn Chronicle and Southern Advertiser (NSW : 1860 - 1861)\", \"language\": \"en\", \"proportion\": 0.975609756097561, \"number\": \"42\", \"language_full\": \"English\"}, {\"id\": \"415\", \"title\": \"Goulburn Chronicle and Southern Advertiser (NSW : 1860 - 1861)\", \"language\": \"ca\", \"proportion\": 0.024390243902439025, \"number\": \"42\", \"language_full\": \"Catalan\"}, {\"id\": \"368\", \"title\": \"Goulburn Evening Penny Post (NSW : 1881 - 1940)\", \"language\": \"en\", \"proportion\": 1.0, \"number\": \"100\", \"language_full\": \"English\"}, {\"id\": \"369\", \"title\": \"Goulburn Evening Post (NSW : 1940 - 1954)\", \"language\": \"en\", \"proportion\": 1.0, \"number\": \"100\", \"language_full\": \"English\"}, {\"id\": \"365\", \"title\": \"Goulburn Herald (NSW : 1860 - 1864)\", \"language\": \"en\", \"proportion\": 1.0, \"number\": \"100\", \"language_full\": \"English\"}, {\"id\": \"367\", \"title\": \"Goulburn Herald (NSW : 1881 - 1907)\", \"language\": \"en\", \"proportion\": 1.0, \"number\": \"100\", \"language_full\": \"English\"}, {\"id\": \"1317\", \"title\": \"Granville Independent and Parramatta Advertiser (NSW : 1900 - 1901)\", \"language\": \"en\", \"proportion\": 1.0, \"number\": \"100\", \"language_full\": \"English\"}, {\"id\": \"704\", \"title\": \"Guang yi hua bao = The Chinese Australian Herald (Sydney, NSW : 1894 - 1923)\", \"language\": \"zh\", \"proportion\": 0.8541666666666666, \"number\": \"100\", \"language_full\": \"Chinese\"}, {\"id\": \"704\", \"title\": \"Guang yi hua bao = The Chinese Australian Herald (Sydney, NSW : 1894 - 1923)\", \"language\": \"ja\", \"proportion\": 0.010416666666666666, \"number\": \"100\", \"language_full\": \"Japanese\"}, {\"id\": \"704\", \"title\": \"Guang yi hua bao = The Chinese Australian Herald (Sydney, NSW : 1894 - 1923)\", \"language\": \"ceb\", \"proportion\": 0.020833333333333332, \"number\": \"100\", \"language_full\": \"Cebuano\"}, {\"id\": \"704\", \"title\": \"Guang yi hua bao = The Chinese Australian Herald (Sydney, NSW : 1894 - 1923)\", \"language\": \"fy\", \"proportion\": 0.0625, \"number\": \"100\", \"language_full\": \"Western Frisian\"}, {\"id\": \"704\", \"title\": \"Guang yi hua bao = The Chinese Australian Herald (Sydney, NSW : 1894 - 1923)\", \"language\": \"jv\", \"proportion\": 0.03125, \"number\": \"100\", \"language_full\": \"Javanese\"}, {\"id\": \"704\", \"title\": \"Guang yi hua bao = The Chinese Australian Herald (Sydney, NSW : 1894 - 1923)\", \"language\": \"hi\", \"proportion\": 0.010416666666666666, \"number\": \"100\", \"language_full\": \"Hindi\"}, {\"id\": \"704\", \"title\": \"Guang yi hua bao = The Chinese Australian Herald (Sydney, NSW : 1894 - 1923)\", \"language\": \"hi-Latn\", \"proportion\": 0.010416666666666666, \"number\": \"100\", \"language_full\": \"Hindi\"}, {\"id\": \"888\", \"title\": \"Guyra Argus (NSW : 1902 - 1954)\", \"language\": \"en\", \"proportion\": 1.0, \"number\": \"100\", \"language_full\": \"English\"}, {\"id\": \"176\", \"title\": \"Hawkesbury Advocate (Windsor, NSW : 1899 - 1900)\", \"language\": \"en\", \"proportion\": 1.0, \"number\": \"100\", \"language_full\": \"English\"}, {\"id\": \"177\", \"title\": \"Hawkesbury Chronicle and Farmers Advocate (Windsor, NSW : 1881 - 1888)\", \"language\": \"en\", \"proportion\": 1.0, \"number\": \"100\", \"language_full\": \"English\"}, {\"id\": \"178\", \"title\": \"Hawkesbury Courier and Agricultural and General Advertiser (Windsor, NSW : 1844 - 1846)\", \"language\": \"en\", \"proportion\": 1.0, \"number\": \"100\", \"language_full\": \"English\"}, {\"id\": \"179\", \"title\": \"Hawkesbury Herald (Windsor, NSW : 1902 - 1945)\", \"language\": \"en\", \"proportion\": 1.0, \"number\": \"100\", \"language_full\": \"English\"}, {\"id\": \"1462\", \"title\": \"Hill's Life in New South Wales (Sydney, NSW : 1832)\", \"language\": \"en\", \"proportion\": 1.0, \"number\": \"100\", \"language_full\": \"English\"}, {\"id\": \"279\", \"title\": \"Il Giornale Italiano (Sydney, NSW : 1932 - 1940)\", \"language\": \"it\", \"proportion\": 0.91, \"number\": \"100\", \"language_full\": \"Italian\"}, {\"id\": \"279\", \"title\": \"Il Giornale Italiano (Sydney, NSW : 1932 - 1940)\", \"language\": \"en\", \"proportion\": 0.09, \"number\": \"100\", \"language_full\": \"English\"}, {\"id\": \"1601\", \"title\": \"Il Risveglio = The Awakening (Sydney, NSW : 1944 - 1954)\", \"language\": \"it\", \"proportion\": 0.75, \"number\": \"100\", \"language_full\": \"Italian\"}, {\"id\": \"1601\", \"title\": \"Il Risveglio = The Awakening (Sydney, NSW : 1944 - 1954)\", \"language\": \"en\", \"proportion\": 0.25, \"number\": \"100\", \"language_full\": \"English\"}, {\"id\": \"670\", \"title\": \"Illawarra Daily Mercury (Wollongong, NSW : 1950 - 1954)\", \"language\": \"en\", \"proportion\": 1.0, \"number\": \"100\", \"language_full\": \"English\"}, {\"id\": \"669\", \"title\": \"Illawarra Mercury (Wollongong, NSW : 1856 - 1950)\", \"language\": \"en\", \"proportion\": 1.0, \"number\": \"100\", \"language_full\": \"English\"}, {\"id\": \"107\", \"title\": \"Illustrated Sydney News (NSW : 1853 - 1872)\", \"language\": \"en\", \"proportion\": 1.0, \"number\": \"100\", \"language_full\": \"English\"}, {\"id\": \"804\", \"title\": \"Illustrated Sydney News (NSW : 1881 - 1894)\", \"language\": \"en\", \"proportion\": 1.0, \"number\": \"100\", \"language_full\": \"English\"}, {\"id\": \"803\", \"title\": \"Illustrated Sydney News and New South Wales Agriculturalist and Grazier (NSW : 1872 - 1881)\", \"language\": \"en\", \"proportion\": 0.99, \"number\": \"100\", \"language_full\": \"English\"}, {\"id\": \"803\", \"title\": \"Illustrated Sydney News and New South Wales Agriculturalist and Grazier (NSW : 1872 - 1881)\", \"language\": \"de\", \"proportion\": 0.01, \"number\": \"100\", \"language_full\": \"German\"}, {\"id\": \"624\", \"title\": \"Intelligence (Bowral, NSW : 1884)\", \"language\": \"en\", \"proportion\": 1.0, \"number\": \"95\", \"language_full\": \"English\"}, {\"id\": \"1780\", \"title\": \"Inverell Business Guide (NSW : 1938)\", \"language\": \"en\", \"proportion\": 1.0, \"number\": \"16\", \"language_full\": \"English\"}, {\"id\": \"352\", \"title\": \"Irrigation Record (Leeton, NSW : 1913 - 1917)\", \"language\": \"en\", \"proportion\": 1.0, \"number\": \"100\", \"language_full\": \"English\"}, {\"id\": \"1602\", \"title\": \"Italian Bulletin of Australia (Sydney, NSW : 1922 - 1928, 1935 - 1940)\", \"language\": \"en\", \"proportion\": 0.8333333333333334, \"number\": \"100\", \"language_full\": \"English\"}, {\"id\": \"1602\", \"title\": \"Italian Bulletin of Australia (Sydney, NSW : 1922 - 1928, 1935 - 1940)\", \"language\": \"it\", \"proportion\": 0.16666666666666666, \"number\": \"100\", \"language_full\": \"Italian\"}, {\"id\": \"1603\", \"title\": \"Italian Bulletin of Commerce (Sydney, NSW : 1929 - 1935)\", \"language\": \"en\", \"proportion\": 0.8936170212765957, \"number\": \"100\", \"language_full\": \"English\"}, {\"id\": \"1603\", \"title\": \"Italian Bulletin of Commerce (Sydney, NSW : 1929 - 1935)\", \"language\": \"it\", \"proportion\": 0.10638297872340426, \"number\": \"100\", \"language_full\": \"Italian\"}, {\"id\": \"1595\", \"title\": \"Italo-Australian (Sydney, NSW : 1927 - 1940)\", \"language\": \"it\", \"proportion\": 0.97, \"number\": \"100\", \"language_full\": \"Italian\"}, {\"id\": \"1595\", \"title\": \"Italo-Australian (Sydney, NSW : 1927 - 1940)\", \"language\": \"en\", \"proportion\": 0.03, \"number\": \"100\", \"language_full\": \"English\"}, {\"id\": \"645\", \"title\": \"Jerilderie Herald and Urana Advertiser (NSW : 1898 - 1958)\", \"language\": \"en\", \"proportion\": 1.0, \"number\": \"100\", \"language_full\": \"English\"}, {\"id\": \"885\", \"title\": \"Justice (Narrabri, NSW : 1891)\", \"language\": \"en\", \"proportion\": 1.0, \"number\": \"32\", \"language_full\": \"English\"}, {\"id\": \"906\", \"title\": \"Katoomba Times (NSW : 1889 - 1894)\", \"language\": \"en\", \"proportion\": 0.9479166666666666, \"number\": \"100\", \"language_full\": \"English\"}, {\"id\": \"906\", \"title\": \"Katoomba Times (NSW : 1889 - 1894)\", \"language\": \"et\", \"proportion\": 0.010416666666666666, \"number\": \"100\", \"language_full\": \"Estonian\"}, {\"id\": \"906\", \"title\": \"Katoomba Times (NSW : 1889 - 1894)\", \"language\": \"mt\", \"proportion\": 0.041666666666666664, \"number\": \"100\", \"language_full\": \"Maltese\"}, {\"id\": \"380\", \"title\": \"Kiama Examiner (NSW : 1858 - 1859)\", \"language\": \"en\", \"proportion\": 1.0, \"number\": \"100\", \"language_full\": \"English\"}, {\"id\": \"363\", \"title\": \"Kiama Independent (NSW : 1947 - 1954)\", \"language\": \"en\", \"proportion\": 1.0, \"number\": \"100\", \"language_full\": \"English\"}, {\"id\": \"388\", \"title\": \"Kiama Reporter (NSW : 1886 - 1887)\", \"language\": \"en\", \"proportion\": 1.0, \"number\": \"100\", \"language_full\": \"English\"}, {\"id\": \"1596\", \"title\": \"L'Italo-Australiano = The Italo-Australian (Surry Hills, NSW : 1885)\", \"language\": \"it\", \"proportion\": 0.6984126984126984, \"number\": \"100\", \"language_full\": \"Italian\"}, {\"id\": \"1596\", \"title\": \"L'Italo-Australiano = The Italo-Australian (Surry Hills, NSW : 1885)\", \"language\": \"mt\", \"proportion\": 0.20634920634920634, \"number\": \"100\", \"language_full\": \"Maltese\"}, {\"id\": \"1596\", \"title\": \"L'Italo-Australiano = The Italo-Australian (Surry Hills, NSW : 1885)\", \"language\": \"ca\", \"proportion\": 0.015873015873015872, \"number\": \"100\", \"language_full\": \"Catalan\"}, {\"id\": \"1596\", \"title\": \"L'Italo-Australiano = The Italo-Australian (Surry Hills, NSW : 1885)\", \"language\": \"vi\", \"proportion\": 0.015873015873015872, \"number\": \"100\", \"language_full\": \"Vietnamese\"}, {\"id\": \"1596\", \"title\": \"L'Italo-Australiano = The Italo-Australian (Surry Hills, NSW : 1885)\", \"language\": \"co\", \"proportion\": 0.047619047619047616, \"number\": \"100\", \"language_full\": \"Corsican\"}, {\"id\": \"1596\", \"title\": \"L'Italo-Australiano = The Italo-Australian (Surry Hills, NSW : 1885)\", \"language\": \"pl\", \"proportion\": 0.015873015873015872, \"number\": \"100\", \"language_full\": \"Polish\"}, {\"id\": \"1597\", \"title\": \"L'Italo-Australiano = The Italo-Australian (Sydney, NSW : 1905 - 1909)\", \"language\": \"it\", \"proportion\": 0.97, \"number\": \"100\", \"language_full\": \"Italian\"}, {\"id\": \"1597\", \"title\": \"L'Italo-Australiano = The Italo-Australian (Sydney, NSW : 1905 - 1909)\", \"language\": \"en\", \"proportion\": 0.03, \"number\": \"100\", \"language_full\": \"English\"}, {\"id\": \"509\", \"title\": \"Labor News (Sydney, NSW : 1918 - 1924)\", \"language\": \"en\", \"proportion\": 1.0, \"number\": \"100\", \"language_full\": \"English\"}, {\"id\": \"1153\", \"title\": \"Lachlander and Condobolin and Western Districts Recorder (NSW : 1899 - 1952)\", \"language\": \"en\", \"proportion\": 1.0, \"number\": \"100\", \"language_full\": \"English\"}, {\"id\": \"829\", \"title\": \"Le Courrier Australien (Sydney, NSW : 1892 - 2011)\", \"language\": \"fr\", \"proportion\": 0.76, \"number\": \"100\", \"language_full\": \"French\"}, {\"id\": \"829\", \"title\": \"Le Courrier Australien (Sydney, NSW : 1892 - 2011)\", \"language\": \"en\", \"proportion\": 0.24, \"number\": \"100\", \"language_full\": \"English\"}, {\"id\": \"423\", \"title\": \"Leader (Orange, NSW : 1899 - 1945)\", \"language\": \"en\", \"proportion\": 1.0, \"number\": \"100\", \"language_full\": \"English\"}, {\"id\": \"1176\", \"title\": \"Lithgow Mercury (NSW : 1898 - 1954)\", \"language\": \"en\", \"proportion\": 1.0, \"number\": \"100\", \"language_full\": \"English\"}, {\"id\": \"120\", \"title\": \"Liverpool Herald (NSW : 1897 - 1907)\", \"language\": \"en\", \"proportion\": 1.0, \"number\": \"100\", \"language_full\": \"English\"}, {\"id\": \"183\", \"title\": \"Liverpool News (NSW : 1937 - 1941)\", \"language\": \"en\", \"proportion\": 1.0, \"number\": \"100\", \"language_full\": \"English\"}, {\"id\": \"1220\", \"title\": \"Macleay Argus (Kempsey, NSW : 1885 - 1907; 1909 - 1910; 1912 - 1913; 1915 - 1916; 1918 - 1954)\", \"language\": \"en\", \"proportion\": 1.0, \"number\": \"100\", \"language_full\": \"English\"}, {\"id\": \"801\", \"title\": \"Man on the Land (Gosford, NSW : 1936 - 1938)\", \"language\": \"en\", \"proportion\": 1.0, \"number\": \"100\", \"language_full\": \"English\"}, {\"id\": \"1006\", \"title\": \"Manilla Express (NSW : 1899 - 1954)\", \"language\": \"en\", \"proportion\": 1.0, \"number\": \"100\", \"language_full\": \"English\"}, {\"id\": \"280\", \"title\": \"Meie Kodu = Our Home (Sydney, NSW : 1949 - 1956)\", \"language\": \"et\", \"proportion\": 1.0, \"number\": \"100\", \"language_full\": \"Estonian\"}, {\"id\": \"1152\", \"title\": \"Millthorpe Post (NSW : 1900 - 1901)\", \"language\": \"en\", \"proportion\": 1.0, \"number\": \"100\", \"language_full\": \"English\"}, {\"id\": \"355\", \"title\": \"Miners' Advocate and Northumberland Recorder (Newcastle, NSW : 1873 - 1876)\", \"language\": \"en\", \"proportion\": 1.0, \"number\": \"100\", \"language_full\": \"English\"}, {\"id\": \"424\", \"title\": \"Molong Argus (NSW : 1896 - 1921)\", \"language\": \"en\", \"proportion\": 1.0, \"number\": \"100\", \"language_full\": \"English\"}, {\"id\": \"425\", \"title\": \"Molong Express and Western District Advertiser (NSW : 1887 - 1954)\", \"language\": \"en\", \"proportion\": 1.0, \"number\": \"100\", \"language_full\": \"English\"}, {\"id\": \"494\", \"title\": \"Moree Gwydir Examiner and General Advertiser (NSW : 1901 - 1940)\", \"language\": \"en\", \"proportion\": 1.0, \"number\": \"100\", \"language_full\": \"English\"}, {\"id\": \"78\", \"title\": \"Morning Chronicle (Sydney, NSW : 1843 - 1846)\", \"language\": \"en\", \"proportion\": 1.0, \"number\": \"100\", \"language_full\": \"English\"}, {\"id\": \"1480\", \"title\": \"Mosman, Neutral and Middle Harbour Resident (NSW : 1904 - 1907, 1916 - 1919)\", \"language\": \"en\", \"proportion\": 1.0, \"number\": \"100\", \"language_full\": \"English\"}, {\"id\": \"648\", \"title\": \"Mudgee Guardian and North-Western Representative (NSW : 1890 - 1954)\", \"language\": \"en\", \"proportion\": 1.0, \"number\": \"100\", \"language_full\": \"English\"}, {\"id\": \"495\", \"title\": \"Mullumbimby Star (NSW : 1906 - 1936)\", \"language\": \"en\", \"proportion\": 1.0, \"number\": \"100\", \"language_full\": \"English\"}, {\"id\": \"673\", \"title\": \"Mullumbimby Star and Byron Bay-Bangalow Advocate (NSW : 1936)\", \"language\": \"en\", \"proportion\": 1.0, \"number\": \"100\", \"language_full\": \"English\"}, {\"id\": \"1154\", \"title\": \"Murrumburrah Signal and County of Harden Advocate (NSW : 1881 - 1947)\", \"language\": \"en\", \"proportion\": 1.0, \"number\": \"100\", \"language_full\": \"English\"}, {\"id\": \"1594\", \"title\": \"Musu Pastoge = Our Haven (Sydney, NSW : 1950 - 1954)\", \"language\": \"lt\", \"proportion\": 0.95, \"number\": \"100\", \"language_full\": \"Lithuanian\"}, {\"id\": \"1594\", \"title\": \"Musu Pastoge = Our Haven (Sydney, NSW : 1950 - 1954)\", \"language\": \"en\", \"proportion\": 0.05, \"number\": \"100\", \"language_full\": \"English\"}, {\"id\": \"1155\", \"title\": \"Nambucca and Bellinger News (NSW : 1911 - 1945)\", \"language\": \"en\", \"proportion\": 1.0, \"number\": \"100\", \"language_full\": \"English\"}, {\"id\": \"1156\", \"title\": \"Nambucca News (NSW : 1909 - 1911)\", \"language\": \"en\", \"proportion\": 1.0, \"number\": \"100\", \"language_full\": \"English\"}, {\"id\": \"431\", \"title\": \"Narandera Argus and Riverina Advertiser (NSW : 1893 - 1953)\", \"language\": \"en\", \"proportion\": 0.956989247311828, \"number\": \"100\", \"language_full\": \"English\"}, {\"id\": \"431\", \"title\": \"Narandera Argus and Riverina Advertiser (NSW : 1893 - 1953)\", \"language\": \"mt\", \"proportion\": 0.043010752688172046, \"number\": \"100\", \"language_full\": \"Maltese\"}, {\"id\": \"430\", \"title\": \"Narromine News and Trangie Advocate (NSW : 1898 - 1955)\", \"language\": \"en\", \"proportion\": 0.98, \"number\": \"100\", \"language_full\": \"English\"}, {\"id\": \"430\", \"title\": \"Narromine News and Trangie Advocate (NSW : 1898 - 1955)\", \"language\": \"mt\", \"proportion\": 0.02, \"number\": \"100\", \"language_full\": \"Maltese\"}, {\"id\": \"650\", \"title\": \"National Advocate (Bathurst, NSW : 1889 - 1954)\", \"language\": \"en\", \"proportion\": 0.98989898989899, \"number\": \"100\", \"language_full\": \"English\"}, {\"id\": \"650\", \"title\": \"National Advocate (Bathurst, NSW : 1889 - 1954)\", \"language\": \"mt\", \"proportion\": 0.010101010101010102, \"number\": \"100\", \"language_full\": \"Maltese\"}, {\"id\": \"350\", \"title\": \"Nepean Times (Penrith, NSW : 1882 - 1962)\", \"language\": \"en\", \"proportion\": 0.9888888888888889, \"number\": \"100\", \"language_full\": \"English\"}, {\"id\": \"350\", \"title\": \"Nepean Times (Penrith, NSW : 1882 - 1962)\", \"language\": \"mt\", \"proportion\": 0.011111111111111112, \"number\": \"100\", \"language_full\": \"Maltese\"}, {\"id\": \"356\", \"title\": \"Newcastle Morning Herald and Miners' Advocate (NSW : 1876 - 1954)\", \"language\": \"en\", \"proportion\": 1.0, \"number\": \"100\", \"language_full\": \"English\"}, {\"id\": \"1493\", \"title\": \"North Coast Times (Bellingen and Coffs Harbour, NSW : 1888 - 1889)\", \"language\": \"en\", \"proportion\": 0.98989898989899, \"number\": \"100\", \"language_full\": \"English\"}, {\"id\": \"1493\", \"title\": \"North Coast Times (Bellingen and Coffs Harbour, NSW : 1888 - 1889)\", \"language\": \"mt\", \"proportion\": 0.010101010101010102, \"number\": \"100\", \"language_full\": \"Maltese\"}, {\"id\": \"878\", \"title\": \"North West Champion (Moree, NSW : 1915 - 1954)\", \"language\": \"en\", \"proportion\": 1.0, \"number\": \"100\", \"language_full\": \"English\"}, {\"id\": \"81\", \"title\": \"Northern Star (Lismore, NSW : 1876 - 1954)\", \"language\": \"en\", \"proportion\": 1.0, \"number\": \"100\", \"language_full\": \"English\"}, {\"id\": \"496\", \"title\": \"Northern Times (Newcastle, NSW : 1857 - 1918)\", \"language\": \"en\", \"proportion\": 0.99, \"number\": \"100\", \"language_full\": \"English\"}, {\"id\": \"496\", \"title\": \"Northern Times (Newcastle, NSW : 1857 - 1918)\", \"language\": \"mt\", \"proportion\": 0.01, \"number\": \"100\", \"language_full\": \"Maltese\"}, {\"id\": \"1501\", \"title\": \"Nota (Hawks Nest and Tea Gardens, NSW : 1970 - 1999)\", \"language\": \"en\", \"proportion\": 1.0, \"number\": \"100\", \"language_full\": \"English\"}, {\"id\": \"1726\", \"title\": \"Now (Potts Point, NSW : 1968 - 1975)\", \"language\": \"en\", \"proportion\": 1.0, \"number\": \"100\", \"language_full\": \"English\"}, {\"id\": \"1598\", \"title\": \"Oceania (Sydney, NSW : 1913 - 1915)\", \"language\": \"it\", \"proportion\": 0.54, \"number\": \"100\", \"language_full\": \"Italian\"}, {\"id\": \"1598\", \"title\": \"Oceania (Sydney, NSW : 1913 - 1915)\", \"language\": \"en\", \"proportion\": 0.46, \"number\": \"100\", \"language_full\": \"English\"}, {\"id\": \"1008\", \"title\": \"Out Of Work (Sydney, NSW : 1922)\", \"language\": \"en\", \"proportion\": 1.0, \"number\": \"27\", \"language_full\": \"English\"}, {\"id\": \"1018\", \"title\": \"Parramatta Chronicle and Cumberland General Advertiser (NSW : 1843 - 1845)\", \"language\": \"en\", \"proportion\": 1.0, \"number\": \"100\", \"language_full\": \"English\"}, {\"id\": \"1000\", \"title\": \"Party (Sydney, NSW : 1942)\", \"language\": \"en\", \"proportion\": 1.0, \"number\": \"5\", \"language_full\": \"English\"}, {\"id\": \"1001\", \"title\": \"Party Builder (Sydney, NSW : 1942)\", \"language\": \"en\", \"proportion\": 1.0, \"number\": \"100\", \"language_full\": \"English\"}, {\"id\": \"497\", \"title\": \"People (Sydney, NSW : 1900 - 1919)\", \"language\": \"en\", \"proportion\": 1.0, \"number\": \"100\", \"language_full\": \"English\"}, {\"id\": \"84\", \"title\": \"Queanbeyan Age (NSW : 1867 - 1904)\", \"language\": \"en\", \"proportion\": 1.0, \"number\": \"100\", \"language_full\": \"English\"}, {\"id\": \"86\", \"title\": \"Queanbeyan Age (NSW : 1907 - 1915)\", \"language\": \"en\", \"proportion\": 1.0, \"number\": \"100\", \"language_full\": \"English\"}, {\"id\": \"88\", \"title\": \"Queanbeyan Age (NSW : 1927 - 1954)\", \"language\": \"en\", \"proportion\": 1.0, \"number\": \"100\", \"language_full\": \"English\"}, {\"id\": \"83\", \"title\": \"Queanbeyan Age and General Advertiser (NSW : 1864 - 1867)\", \"language\": \"en\", \"proportion\": 1.0, \"number\": \"100\", \"language_full\": \"English\"}, {\"id\": \"119\", \"title\": \"Queanbeyan-Canberra Advocate (NSW : 1905 - 1927)\", \"language\": \"en\", \"proportion\": 1.0, \"number\": \"100\", \"language_full\": \"English\"}, {\"id\": \"1223\", \"title\": \"Quirindi Herald and District News (NSW : 1906 - 1907; 1913 - 1923)\", \"language\": \"en\", \"proportion\": 1.0, \"number\": \"100\", \"language_full\": \"English\"}, {\"id\": \"654\", \"title\": \"Raymond Terrace Examiner and Lower Hunter and Port Stephens Advertiser (NSW : 1912 - 1955)\", \"language\": \"en\", \"proportion\": 1.0, \"number\": \"100\", \"language_full\": \"English\"}, {\"id\": \"499\", \"title\": \"Referee (Sydney, NSW : 1886 - 1939)\", \"language\": \"en\", \"proportion\": 1.0, \"number\": \"100\", \"language_full\": \"English\"}, {\"id\": \"389\", \"title\": \"Reporter and Illawarra Journal (Kiama, NSW : 1887 - 1894)\", \"language\": \"en\", \"proportion\": 0.8941176470588236, \"number\": \"100\", \"language_full\": \"English\"}, {\"id\": \"389\", \"title\": \"Reporter and Illawarra Journal (Kiama, NSW : 1887 - 1894)\", \"language\": \"mt\", \"proportion\": 0.10588235294117647, \"number\": \"100\", \"language_full\": \"Maltese\"}, {\"id\": \"1604\", \"title\": \"Revue Australienne : Journal des Interets Francais en Australie ... (Sydney, NSW : 1873 - 1874)\", \"language\": \"fr\", \"proportion\": 0.98, \"number\": \"100\", \"language_full\": \"French\"}, {\"id\": \"1604\", \"title\": \"Revue Australienne : Journal des Interets Francais en Australie ... (Sydney, NSW : 1873 - 1874)\", \"language\": \"en\", \"proportion\": 0.02, \"number\": \"100\", \"language_full\": \"English\"}, {\"id\": \"655\", \"title\": \"Riverina Recorder (Balranald, Moulamein, NSW : 1887 - 1944)\", \"language\": \"en\", \"proportion\": 1.0, \"number\": \"100\", \"language_full\": \"English\"}, {\"id\": \"726\", \"title\": \"Riverina Times, Hay Standard and Journal of Water Conservation (Hay, NSW : 1900 - 1902)\", \"language\": \"en\", \"proportion\": 1.0, \"number\": \"100\", \"language_full\": \"English\"}, {\"id\": \"530\", \"title\": \"Robertson Advocate (NSW : 1894 - 1923)\", \"language\": \"en\", \"proportion\": 1.0, \"number\": \"100\", \"language_full\": \"English\"}, {\"id\": \"531\", \"title\": \"Robertson Mail (NSW : 1924 - 1930)\", \"language\": \"en\", \"proportion\": 1.0, \"number\": \"100\", \"language_full\": \"English\"}, {\"id\": \"529\", \"title\": \"Saturday Referee and the Arrow (Sydney, NSW : 1912 - 1916)\", \"language\": \"en\", \"proportion\": 0.98989898989899, \"number\": \"100\", \"language_full\": \"English\"}, {\"id\": \"529\", \"title\": \"Saturday Referee and the Arrow (Sydney, NSW : 1912 - 1916)\", \"language\": \"ja\", \"proportion\": 0.010101010101010102, \"number\": \"100\", \"language_full\": \"Japanese\"}, {\"id\": \"1346\", \"title\": \"Sawtell Guardian (NSW : 1970 - 1976)\", \"language\": \"en\", \"proportion\": 1.0, \"number\": \"100\", \"language_full\": \"English\"}, {\"id\": \"281\", \"title\": \"Singleton Argus (NSW : 1880 - 1954)\", \"language\": \"en\", \"proportion\": 1.0, \"number\": \"100\", \"language_full\": \"English\"}, {\"id\": \"1229\", \"title\": \"Smith's Weekly (Sydney, NSW : 1919 - 1950)\", \"language\": \"en\", \"proportion\": 1.0, \"number\": \"100\", \"language_full\": \"English\"}, {\"id\": \"1042\", \"title\": \"Society (Sydney, NSW : 1887)\", \"language\": \"en\", \"proportion\": 1.0, \"number\": \"13\", \"language_full\": \"English\"}, {\"id\": \"691\", \"title\": \"South Coast Times and Wollongong Argus (NSW : 1900 - 1954)\", \"language\": \"en\", \"proportion\": 1.0, \"number\": \"100\", \"language_full\": \"English\"}, {\"id\": \"416\", \"title\": \"Southern Argus (Goulburn, NSW : 1881 - 1885)\", \"language\": \"en\", \"proportion\": 1.0, \"number\": \"100\", \"language_full\": \"English\"}, {\"id\": \"418\", \"title\": \"Southern Morning Herald (Goulburn, NSW : 1920 - 1923)\", \"language\": \"en\", \"proportion\": 0.8, \"number\": \"100\", \"language_full\": \"English\"}, {\"id\": \"418\", \"title\": \"Southern Morning Herald (Goulburn, NSW : 1920 - 1923)\", \"language\": \"mt\", \"proportion\": 0.14666666666666667, \"number\": \"100\", \"language_full\": \"Maltese\"}, {\"id\": \"418\", \"title\": \"Southern Morning Herald (Goulburn, NSW : 1920 - 1923)\", \"language\": \"so\", \"proportion\": 0.05333333333333334, \"number\": \"100\", \"language_full\": \"Somali\"}, {\"id\": \"658\", \"title\": \"Southern Star (Bega, NSW : 1900 - 1923)\", \"language\": \"en\", \"proportion\": 1.0, \"number\": \"100\", \"language_full\": \"English\"}, {\"id\": \"623\", \"title\": \"Sunday News (Sydney, NSW : 1919)\", \"language\": \"mt\", \"proportion\": 0.18181818181818182, \"number\": \"100\", \"language_full\": \"Maltese\"}, {\"id\": \"623\", \"title\": \"Sunday News (Sydney, NSW : 1919)\", \"language\": \"en\", \"proportion\": 0.7792207792207793, \"number\": \"100\", \"language_full\": \"English\"}, {\"id\": \"623\", \"title\": \"Sunday News (Sydney, NSW : 1919)\", \"language\": \"so\", \"proportion\": 0.025974025974025976, \"number\": \"100\", \"language_full\": \"Somali\"}, {\"id\": \"623\", \"title\": \"Sunday News (Sydney, NSW : 1919)\", \"language\": \"no\", \"proportion\": 0.012987012987012988, \"number\": \"100\", \"language_full\": \"Norwegian\"}, {\"id\": \"505\", \"title\": \"Sunday Times (Sydney, NSW : 1895 - 1930)\", \"language\": \"en\", \"proportion\": 1.0, \"number\": \"100\", \"language_full\": \"English\"}, {\"id\": \"94\", \"title\": \"Sydney Chronicle (NSW : 1846 - 1848)\", \"language\": \"en\", \"proportion\": 0.9696969696969697, \"number\": \"100\", \"language_full\": \"English\"}, {\"id\": \"94\", \"title\": \"Sydney Chronicle (NSW : 1846 - 1848)\", \"language\": \"mt\", \"proportion\": 0.030303030303030304, \"number\": \"100\", \"language_full\": \"Maltese\"}, {\"id\": \"1015\", \"title\": \"Sydney Free Press (NSW : 1841 - 1842)\", \"language\": \"en\", \"proportion\": 1.0, \"number\": \"100\", \"language_full\": \"English\"}, {\"id\": \"693\", \"title\": \"Sydney General Trade List (NSW : 1828 - 1829)\", \"language\": \"en\", \"proportion\": 0.9666666666666667, \"number\": \"64\", \"language_full\": \"English\"}, {\"id\": \"693\", \"title\": \"Sydney General Trade List (NSW : 1828 - 1829)\", \"language\": \"mt\", \"proportion\": 0.016666666666666666, \"number\": \"64\", \"language_full\": \"Maltese\"}, {\"id\": \"693\", \"title\": \"Sydney General Trade List (NSW : 1828 - 1829)\", \"language\": \"no\", \"proportion\": 0.016666666666666666, \"number\": \"64\", \"language_full\": \"Norwegian\"}, {\"id\": \"694\", \"title\": \"Sydney General Trade List (NSW : 1834 - 1842)\", \"language\": \"en\", \"proportion\": 0.9733333333333334, \"number\": \"100\", \"language_full\": \"English\"}, {\"id\": \"694\", \"title\": \"Sydney General Trade List (NSW : 1834 - 1842)\", \"language\": \"ca\", \"proportion\": 0.02666666666666667, \"number\": \"100\", \"language_full\": \"Catalan\"}, {\"id\": \"695\", \"title\": \"Sydney General Trade List, and Mercantile Advertiser (NSW : 1829 - 1830)\", \"language\": \"en\", \"proportion\": 0.9767441860465116, \"number\": \"100\", \"language_full\": \"English\"}, {\"id\": \"695\", \"title\": \"Sydney General Trade List, and Mercantile Advertiser (NSW : 1829 - 1830)\", \"language\": \"mt\", \"proportion\": 0.023255813953488372, \"number\": \"100\", \"language_full\": \"Maltese\"}, {\"id\": \"696\", \"title\": \"Sydney General Trade List, Mercantile Chronicle and Advertiser (NSW : 1830)\", \"language\": \"en\", \"proportion\": 1.0, \"number\": \"9\", \"language_full\": \"English\"}, {\"id\": \"1463\", \"title\": \"Sydney Journal and Daily Advertiser (NSW : 1847)\", \"language\": \"en\", \"proportion\": 0.984375, \"number\": \"64\", \"language_full\": \"English\"}, {\"id\": \"1463\", \"title\": \"Sydney Journal and Daily Advertiser (NSW : 1847)\", \"language\": \"mi\", \"proportion\": 0.015625, \"number\": \"64\", \"language_full\": \"Maori\"}, {\"id\": \"697\", \"title\": \"Sydney Mail (NSW : 1860 - 1871)\", \"language\": \"en\", \"proportion\": 1.0, \"number\": \"100\", \"language_full\": \"English\"}, {\"id\": \"703\", \"title\": \"Sydney Mail (NSW : 1912 - 1938)\", \"language\": \"en\", \"proportion\": 1.0, \"number\": \"100\", \"language_full\": \"English\"}, {\"id\": \"1464\", \"title\": \"Sydney Punch (NSW : 1864 - 1888)\", \"language\": \"en\", \"proportion\": 1.0, \"number\": \"100\", \"language_full\": \"English\"}, {\"id\": \"692\", \"title\": \"Sydney Sportsman (Surry Hills, NSW : 1900 - 1954)\", \"language\": \"en\", \"proportion\": 1.0, \"number\": \"100\", \"language_full\": \"English\"}, {\"id\": \"681\", \"title\": \"Tamworth Observer and Northern Advertiser (NSW : 1910)\", \"language\": \"en\", \"proportion\": 1.0, \"number\": \"100\", \"language_full\": \"English\"}, {\"id\": \"417\", \"title\": \"Taralga Echo (NSW : 1924 - 1927)\", \"language\": \"en\", \"proportion\": 1.0, \"number\": \"100\", \"language_full\": \"English\"}, {\"id\": \"728\", \"title\": \"Temora Herald and Mining Journal (NSW : 1882 - 1883)\", \"language\": \"en\", \"proportion\": 0.9680851063829787, \"number\": \"100\", \"language_full\": \"English\"}, {\"id\": \"728\", \"title\": \"Temora Herald and Mining Journal (NSW : 1882 - 1883)\", \"language\": \"mt\", \"proportion\": 0.031914893617021274, \"number\": \"100\", \"language_full\": \"Maltese\"}, {\"id\": \"1187\", \"title\": \"Tharunka (Kensington, NSW : 1953 - 2010)\", \"language\": \"en\", \"proportion\": 1.0, \"number\": \"100\", \"language_full\": \"English\"}, {\"id\": \"113\", \"title\": \"The Age (Queanbeyan, NSW : 1904 - 1907)\", \"language\": \"en\", \"proportion\": 1.0, \"number\": \"100\", \"language_full\": \"English\"}, {\"id\": \"436\", \"title\": \"The Albury Banner and Wodonga Express (NSW : 1860 - 1938)\", \"language\": \"en\", \"proportion\": 1.0, \"number\": \"100\", \"language_full\": \"English\"}, {\"id\": \"1465\", \"title\": \"The Alfred (Sydney, NSW : 1835)\", \"language\": \"en\", \"proportion\": 1.0, \"number\": \"100\", \"language_full\": \"English\"}, {\"id\": \"983\", \"title\": \"The Armidale Chronicle (NSW : 1894 - 1929)\", \"language\": \"en\", \"proportion\": 0.9897959183673469, \"number\": \"100\", \"language_full\": \"English\"}, {\"id\": \"983\", \"title\": \"The Armidale Chronicle (NSW : 1894 - 1929)\", \"language\": \"mt\", \"proportion\": 0.01020408163265306, \"number\": \"100\", \"language_full\": \"Maltese\"}, {\"id\": \"985\", \"title\": \"The Armidale Express and New England General Advertiser (NSW : 1856 - 1861; 1863 - 1889; 1891 - 1954)\", \"language\": \"en\", \"proportion\": 1.0, \"number\": \"100\", \"language_full\": \"English\"}, {\"id\": \"528\", \"title\": \"The Arrow (Sydney, NSW : 1896 - 1912)\", \"language\": \"en\", \"proportion\": 1.0, \"number\": \"100\", \"language_full\": \"English\"}, {\"id\": \"1319\", \"title\": \"The Auburn and Lidcombe Advance (NSW : 1925 - 1939)\", \"language\": \"en\", \"proportion\": 1.0, \"number\": \"100\", \"language_full\": \"English\"}, {\"id\": \"1691\", \"title\": \"The Australasian Hebrew (Sydney, NSW : 1895 - 1896)\", \"language\": \"en\", \"proportion\": 0.99, \"number\": \"100\", \"language_full\": \"English\"}, {\"id\": \"1691\", \"title\": \"The Australasian Hebrew (Sydney, NSW : 1895 - 1896)\", \"language\": \"de\", \"proportion\": 0.01, \"number\": \"100\", \"language_full\": \"German\"}, {\"id\": \"50\", \"title\": \"The Australian (Sydney, NSW : 1824 - 1848)\", \"language\": \"en\", \"proportion\": 0.9791666666666666, \"number\": \"100\", \"language_full\": \"English\"}, {\"id\": \"50\", \"title\": \"The Australian (Sydney, NSW : 1824 - 1848)\", \"language\": \"mt\", \"proportion\": 0.020833333333333332, \"number\": \"100\", \"language_full\": \"Maltese\"}, {\"id\": \"161\", \"title\": \"The Australian Band of Hope Review, and Children's Friend (Sydney, NSW : 1856)\", \"language\": \"en\", \"proportion\": 1.0, \"number\": \"100\", \"language_full\": \"English\"}, {\"id\": \"995\", \"title\": \"The Australian Communist (Sydney, NSW : 1920 - 1921)\", \"language\": \"en\", \"proportion\": 1.0, \"number\": \"100\", \"language_full\": \"English\"}, {\"id\": \"1688\", \"title\": \"The Australian Hebrew Times (Sydney, NSW : 1894)\", \"language\": \"en\", \"proportion\": 1.0, \"number\": \"39\", \"language_full\": \"English\"}, {\"id\": \"164\", \"title\": \"The Australian Home Companion and Band of Hope Journal (Sydney, NSW : 1859 - 1861)\", \"language\": \"en\", \"proportion\": 1.0, \"number\": \"100\", \"language_full\": \"English\"}, {\"id\": \"1692\", \"title\": \"The Australian Jewish Chronicle (Sydney, NSW : 1922 - 1931)\", \"language\": \"en\", \"proportion\": 1.0, \"number\": \"100\", \"language_full\": \"English\"}, {\"id\": \"1695\", \"title\": \"The Australian Jewish News (Sydney, NSW : 1990 - 2008)\", \"language\": \"en\", \"proportion\": 1.0, \"number\": \"100\", \"language_full\": \"English\"}, {\"id\": \"1694\", \"title\": \"The Australian Jewish Times (Sydney, NSW : 1953 - 1990)\", \"language\": \"en\", \"proportion\": 1.0, \"number\": \"100\", \"language_full\": \"English\"}, {\"id\": \"709\", \"title\": \"The Australian Producer's Home Journal (Sydney, NSW : 1910)\", \"language\": \"en\", \"proportion\": 1.0, \"number\": \"100\", \"language_full\": \"English\"}, {\"id\": \"1466\", \"title\": \"The Australian Sportsman (Sydney, NSW : 1848)\", \"language\": \"en\", \"proportion\": 1.0, \"number\": \"100\", \"language_full\": \"English\"}, {\"id\": \"1178\", \"title\": \"The Australian Star (Sydney, NSW : 1887 - 1909)\", \"language\": \"en\", \"proportion\": 1.0, \"number\": \"100\", \"language_full\": \"English\"}, {\"id\": \"746\", \"title\": \"The Australian Worker (Sydney, NSW : 1913 - 1950)\", \"language\": \"en\", \"proportion\": 1.0, \"number\": \"100\", \"language_full\": \"English\"}, {\"id\": \"1051\", \"title\": \"The Australian Workman (Sydney, NSW : 1890 - 1897)\", \"language\": \"en\", \"proportion\": 1.0, \"number\": \"100\", \"language_full\": \"English\"}, {\"id\": \"1690\", \"title\": \"The Australian Zionist Pioneer (Sydney, NSW : 1929)\", \"language\": \"en\", \"proportion\": 1.0, \"number\": \"24\", \"language_full\": \"English\"}, {\"id\": \"184\", \"title\": \"The Australian, Windsor, Richmond, and Hawkesbury Advertiser (NSW : 1873 - 1899)\", \"language\": \"en\", \"proportion\": 1.0, \"number\": \"100\", \"language_full\": \"English\"}, {\"id\": \"1500\", \"title\": \"The Bananacoast Opinion (Coffs Harbour, NSW : 1973 - 1978)\", \"language\": \"en\", \"proportion\": 1.0, \"number\": \"100\", \"language_full\": \"English\"}, {\"id\": \"163\", \"title\": \"The Band of Hope Journal and Australian Home Companion (Sydney, NSW : 1858)\", \"language\": \"en\", \"proportion\": 1.0, \"number\": \"100\", \"language_full\": \"English\"}, {\"id\": \"674\", \"title\": \"The Bathurst Daily Argus (NSW : 1909)\", \"language\": \"en\", \"proportion\": 1.0, \"number\": \"100\", \"language_full\": \"English\"}, {\"id\": \"471\", \"title\": \"The Bathurst Post (NSW : 1881 - 1922)\", \"language\": \"en\", \"proportion\": 1.0, \"number\": \"100\", \"language_full\": \"English\"}, {\"id\": \"482\", \"title\": \"The Bathurst Times (NSW : 1909 - 1925)\", \"language\": \"en\", \"proportion\": 1.0, \"number\": \"100\", \"language_full\": \"English\"}, {\"id\": \"1011\", \"title\": \"The Bee of Australia (Sydney, NSW : 1844)\", \"language\": \"en\", \"proportion\": 1.0, \"number\": \"65\", \"language_full\": \"English\"}, {\"id\": \"443\", \"title\": \"The Bega Budget (NSW : 1905 - 1920)\", \"language\": \"en\", \"proportion\": 1.0, \"number\": \"100\", \"language_full\": \"English\"}, {\"id\": \"391\", \"title\": \"The Bega Gazette and County of Auckland Advertiser (NSW : 1865)\", \"language\": \"en\", \"proportion\": 0.9659090909090909, \"number\": \"100\", \"language_full\": \"English\"}, {\"id\": \"391\", \"title\": \"The Bega Gazette and County of Auckland Advertiser (NSW : 1865)\", \"language\": \"ca\", \"proportion\": 0.03409090909090909, \"number\": \"100\", \"language_full\": \"Catalan\"}, {\"id\": \"392\", \"title\": \"The Bega Gazette and Eden District or Southern Coast Advertiser (NSW : 1865 - 1899)\", \"language\": \"en\", \"proportion\": 1.0, \"number\": \"100\", \"language_full\": \"English\"}, {\"id\": \"720\", \"title\": \"The Bega Standard and Candelo, Merimbula, Pambula, Eden, Wolumla, and General Advertiser (NSW : 1876 - 1884)\", \"language\": \"en\", \"proportion\": 0.9791666666666666, \"number\": \"100\", \"language_full\": \"English\"}, {\"id\": \"720\", \"title\": \"The Bega Standard and Candelo, Merimbula, Pambula, Eden, Wolumla, and General Advertiser (NSW : 1876 - 1884)\", \"language\": \"mt\", \"proportion\": 0.020833333333333332, \"number\": \"100\", \"language_full\": \"Maltese\"}, {\"id\": \"1775\", \"title\": \"The Berrigan Advocate (Cobram, NSW. : 1891 - 1931)\", \"language\": \"en\", \"proportion\": 1.0, \"number\": \"100\", \"language_full\": \"English\"}, {\"id\": \"1049\", \"title\": \"The Bird O' Freedom (Sydney, NSW : 1891 - 1896)\", \"language\": \"en\", \"proportion\": 1.0, \"number\": \"100\", \"language_full\": \"English\"}, {\"id\": \"256\", \"title\": \"The Biz (Fairfield, NSW : 1928 - 1972)\", \"language\": \"en\", \"proportion\": 1.0, \"number\": \"100\", \"language_full\": \"English\"}, {\"id\": \"913\", \"title\": \"The Blackheath Bulletin (Katoomba, NSW : 1926; 1929 - 1931)\", \"language\": \"en\", \"proportion\": 1.0, \"number\": \"100\", \"language_full\": \"English\"}, {\"id\": \"721\", \"title\": \"The Blayney Advocate and Carcoar Herald (NSW : 1898 - 1904)\", \"language\": \"en\", \"proportion\": 0.9897959183673469, \"number\": \"100\", \"language_full\": \"English\"}, {\"id\": \"721\", \"title\": \"The Blayney Advocate and Carcoar Herald (NSW : 1898 - 1904)\", \"language\": \"mt\", \"proportion\": 0.01020408163265306, \"number\": \"100\", \"language_full\": \"Maltese\"}, {\"id\": \"1724\", \"title\": \"The Bligh Watchman and Coonabarabran Gazette (NSW : 1898 - 1910)\", \"language\": \"en\", \"proportion\": 1.0, \"number\": \"100\", \"language_full\": \"English\"}, {\"id\": \"444\", \"title\": \"The Blue Mountain Echo (NSW : 1909 - 1928)\", \"language\": \"en\", \"proportion\": 1.0, \"number\": \"100\", \"language_full\": \"English\"}, {\"id\": \"911\", \"title\": \"The Blue Mountain Star (Katoomba, NSW : 1929 - 1931)\", \"language\": \"en\", \"proportion\": 1.0, \"number\": \"100\", \"language_full\": \"English\"}, {\"id\": \"921\", \"title\": \"The Blue Mountains Advertiser (Katoomba, NSW : 1940 - 1954)\", \"language\": \"en\", \"proportion\": 1.0, \"number\": \"100\", \"language_full\": \"English\"}, {\"id\": \"920\", \"title\": \"The Blue Mountains Times (Katoomba, NSW : 1931 - 1937)\", \"language\": \"en\", \"proportion\": 0.98989898989899, \"number\": \"100\", \"language_full\": \"English\"}, {\"id\": \"920\", \"title\": \"The Blue Mountains Times (Katoomba, NSW : 1931 - 1937)\", \"language\": \"mt\", \"proportion\": 0.010101010101010102, \"number\": \"100\", \"language_full\": \"Maltese\"}, {\"id\": \"637\", \"title\": \"The Bombala Times (NSW : 1912 - 1938)\", \"language\": \"en\", \"proportion\": 1.0, \"number\": \"100\", \"language_full\": \"English\"}, {\"id\": \"445\", \"title\": \"The Border Morning Mail and Riverina Times (Albury, NSW : 1903 - 1920)\", \"language\": \"en\", \"proportion\": 1.0, \"number\": \"100\", \"language_full\": \"English\"}, {\"id\": \"387\", \"title\": \"The Bowral Free Press (NSW : 1884)\", \"language\": \"en\", \"proportion\": 0.99, \"number\": \"100\", \"language_full\": \"English\"}, {\"id\": \"387\", \"title\": \"The Bowral Free Press (NSW : 1884)\", \"language\": \"mt\", \"proportion\": 0.01, \"number\": \"100\", \"language_full\": \"Maltese\"}, {\"id\": \"472\", \"title\": \"The Braidwood Dispatch and Mining Journal (NSW : 1888 - 1954)\", \"language\": \"en\", \"proportion\": 1.0, \"number\": \"100\", \"language_full\": \"English\"}, {\"id\": \"485\", \"title\": \"The Braidwood Review and District Advocate (NSW : 1915 - 1954)\", \"language\": \"en\", \"proportion\": 1.0, \"number\": \"100\", \"language_full\": \"English\"}, {\"id\": \"686\", \"title\": \"The Branxton Advocate: Greta and Rothbury Recorder (NSW : 1916)\", \"language\": \"en\", \"proportion\": 1.0, \"number\": \"38\", \"language_full\": \"English\"}, {\"id\": \"722\", \"title\": \"The Broadcaster (Fairfield, NSW : 1935 - 1978)\", \"language\": \"en\", \"proportion\": 1.0, \"number\": \"100\", \"language_full\": \"English\"}, {\"id\": \"1781\", \"title\": \"The Bundarra Times (Uralla, NSW : 1930-1931)\", \"language\": \"en\", \"proportion\": 1.0, \"number\": \"100\", \"language_full\": \"English\"}, {\"id\": \"1730\", \"title\": \"The Bungendore Mirror and Lake George Advertiser (Queanbeyan, NSW : 1887 - 1888) \", \"language\": \"en\", \"proportion\": 1.0, \"number\": \"100\", \"language_full\": \"English\"}, {\"id\": \"1354\", \"title\": \"The Burrangong Argus (NSW : 1865 - 1913)\", \"language\": \"en\", \"proportion\": 1.0, \"number\": \"100\", \"language_full\": \"English\"}, {\"id\": \"1299\", \"title\": \"The Burrangong Chronicle and Young and Lachlan District Advertiser (NSW : 1901)\", \"language\": \"en\", \"proportion\": 1.0, \"number\": \"13\", \"language_full\": \"English\"}, {\"id\": \"463\", \"title\": \"The Burrowa News (NSW : 1874 - 1951)\", \"language\": \"en\", \"proportion\": 1.0, \"number\": \"100\", \"language_full\": \"English\"}, {\"id\": \"446\", \"title\": \"The Byron Bay Record (NSW : 1902 - 1924)\", \"language\": \"en\", \"proportion\": 1.0, \"number\": \"100\", \"language_full\": \"English\"}, {\"id\": \"483\", \"title\": \"The Campbelltown Herald (NSW : 1880 - 1919)\", \"language\": \"en\", \"proportion\": 1.0, \"number\": \"100\", \"language_full\": \"English\"}, {\"id\": \"1698\", \"title\": \"The Campbelltown News (NSW : 1920 - 1953)\", \"language\": \"en\", \"proportion\": 1.0, \"number\": \"100\", \"language_full\": \"English\"}, {\"id\": \"723\", \"title\": \"The Canowindra Star (NSW : 1900 - 1902)\", \"language\": \"en\", \"proportion\": 1.0, \"number\": \"100\", \"language_full\": \"English\"}, {\"id\": \"475\", \"title\": \"The Carcoar Chronicle (NSW : 1878 - 1943)\", \"language\": \"en\", \"proportion\": 1.0, \"number\": \"100\", \"language_full\": \"English\"}, {\"id\": \"224\", \"title\": \"The Castlereagh (Gilgandra, NSW : 1905 - 1907)\", \"language\": \"en\", \"proportion\": 0.6091954022988506, \"number\": \"100\", \"language_full\": \"English\"}, {\"id\": \"224\", \"title\": \"The Castlereagh (Gilgandra, NSW : 1905 - 1907)\", \"language\": \"so\", \"proportion\": 0.3103448275862069, \"number\": \"100\", \"language_full\": \"Somali\"}, {\"id\": \"224\", \"title\": \"The Castlereagh (Gilgandra, NSW : 1905 - 1907)\", \"language\": \"mt\", \"proportion\": 0.08045977011494253, \"number\": \"100\", \"language_full\": \"Maltese\"}, {\"id\": \"447\", \"title\": \"The Catholic Press (Sydney, NSW : 1895 - 1942)\", \"language\": \"en\", \"proportion\": 1.0, \"number\": \"100\", \"language_full\": \"English\"}, {\"id\": \"429\", \"title\": \"The Cessnock Eagle and South Maitland Recorder (NSW : 1913 - 1954)\", \"language\": \"en\", \"proportion\": 0.98989898989899, \"number\": \"100\", \"language_full\": \"English\"}, {\"id\": \"429\", \"title\": \"The Cessnock Eagle and South Maitland Recorder (NSW : 1913 - 1954)\", \"language\": \"mt\", \"proportion\": 0.010101010101010102, \"number\": \"100\", \"language_full\": \"Maltese\"}, {\"id\": \"905\", \"title\": \"The Chaser (Glebe, NSW : 1999 - 2005)\", \"language\": \"en\", \"proportion\": 1.0, \"number\": \"100\", \"language_full\": \"English\"}, {\"id\": \"121\", \"title\": \"The Children's Newspaper (Sydney, NSW : 1899 - 1900)\", \"language\": \"en\", \"proportion\": 1.0, \"number\": \"100\", \"language_full\": \"English\"}, {\"id\": \"914\", \"title\": \"The Chronicle (Katoomba, NSW : 1929)\", \"language\": \"en\", \"proportion\": 1.0, \"number\": \"100\", \"language_full\": \"English\"}, {\"id\": \"1467\", \"title\": \"The Citizen (Sydney, NSW : 1846 - 1847)\", \"language\": \"en\", \"proportion\": 1.0, \"number\": \"100\", \"language_full\": \"English\"}, {\"id\": \"490\", \"title\": \"The Clarence River Advocate (NSW : 1898 - 1949)\", \"language\": \"en\", \"proportion\": 1.0, \"number\": \"100\", \"language_full\": \"English\"}, {\"id\": \"448\", \"title\": \"The Cobar Herald (NSW : 1899 - 1914)\", \"language\": \"en\", \"proportion\": 0.99, \"number\": \"100\", \"language_full\": \"English\"}, {\"id\": \"448\", \"title\": \"The Cobar Herald (NSW : 1899 - 1914)\", \"language\": \"mt\", \"proportion\": 0.01, \"number\": \"100\", \"language_full\": \"Maltese\"}, {\"id\": \"393\", \"title\": \"The Cobargo Chronicle (NSW : 1898 - 1944)\", \"language\": \"en\", \"proportion\": 1.0, \"number\": \"100\", \"language_full\": \"English\"}, {\"id\": \"1012\", \"title\": \"The Colonial Observer (Sydney, NSW : 1841 - 1844)\", \"language\": \"en\", \"proportion\": 1.0, \"number\": \"100\", \"language_full\": \"English\"}, {\"id\": \"66\", \"title\": \"The Colonist (Sydney, NSW : 1835 - 1840)\", \"language\": \"en\", \"proportion\": 1.0, \"number\": \"100\", \"language_full\": \"English\"}, {\"id\": \"473\", \"title\": \"The Corowa Chronicle (NSW : 1905 - 1928)\", \"language\": \"en\", \"proportion\": 1.0, \"number\": \"100\", \"language_full\": \"English\"}, {\"id\": \"1224\", \"title\": \"The Corowa Free Press (NSW : 1875 - 1954)\", \"language\": \"en\", \"proportion\": 1.0, \"number\": \"100\", \"language_full\": \"English\"}, {\"id\": \"1748\", \"title\": \"The Cronulla-Sutherland Advocate (NSW : 1927 - 1939)\", \"language\": \"en\", \"proportion\": 1.0, \"number\": \"100\", \"language_full\": \"English\"}, {\"id\": \"442\", \"title\": \"The Cumberland Argus (Parramatta, NSW : 1950 - 1962)\", \"language\": \"en\", \"proportion\": 1.0, \"number\": \"100\", \"language_full\": \"English\"}, {\"id\": \"351\", \"title\": \"The Cumberland Argus and Fruitgrowers Advocate (Parramatta, NSW : 1888 - 1950)\", \"language\": \"en\", \"proportion\": 0.98989898989899, \"number\": \"100\", \"language_full\": \"English\"}, {\"id\": \"351\", \"title\": \"The Cumberland Argus and Fruitgrowers Advocate (Parramatta, NSW : 1888 - 1950)\", \"language\": \"mt\", \"proportion\": 0.010101010101010102, \"number\": \"100\", \"language_full\": \"Maltese\"}, {\"id\": \"724\", \"title\": \"The Cumberland Free Press (Parramatta, NSW : 1895 - 1897)\", \"language\": \"en\", \"proportion\": 1.0, \"number\": \"100\", \"language_full\": \"English\"}, {\"id\": \"1368\", \"title\": \"The Cumberland Mercury (Parramatta, NSW : 1875 - 1895)\", \"language\": \"en\", \"proportion\": 1.0, \"number\": \"100\", \"language_full\": \"English\"}, {\"id\": \"1019\", \"title\": \"The Cumberland Times and Western Advertiser (Sydney, NSW : 1845)\", \"language\": \"en\", \"proportion\": 1.0, \"number\": \"100\", \"language_full\": \"English\"}, {\"id\": \"1468\", \"title\": \"The Currency Lad (Sydney, NSW : 1832-1833)\", \"language\": \"en\", \"proportion\": 1.0, \"number\": \"100\", \"language_full\": \"English\"}, {\"id\": \"1134\", \"title\": \"The Daily Express (Wagga Wagga, NSW : 1919 - 1930)\", \"language\": \"en\", \"proportion\": 1.0, \"number\": \"100\", \"language_full\": \"English\"}, {\"id\": \"1469\", \"title\": \"The Daily News and Evening Chronicle (Sydney, NSW : 1848)\", \"language\": \"en\", \"proportion\": 1.0, \"number\": \"100\", \"language_full\": \"English\"}, {\"id\": \"1297\", \"title\": \"The Daily Telegraph (Sydney, NSW : 1883 - 1930)\", \"language\": \"en\", \"proportion\": 1.0, \"number\": \"100\", \"language_full\": \"English\"}, {\"id\": \"1347\", \"title\": \"The Daily Telegraph (Sydney, NSW : 1931 - 1954)\", \"language\": \"en\", \"proportion\": 1.0, \"number\": \"100\", \"language_full\": \"English\"}, {\"id\": \"252\", \"title\": \"The Dawn (Sydney, NSW : 1888 - 1905)\", \"language\": \"en\", \"proportion\": 1.0, \"number\": \"100\", \"language_full\": \"English\"}, {\"id\": \"1048\", \"title\": \"The Dead Bird (Sydney, NSW : 1889 - 1891)\", \"language\": \"en\", \"proportion\": 1.0, \"number\": \"100\", \"language_full\": \"English\"}, {\"id\": \"1020\", \"title\": \"The Dispatch (Sydney, NSW : 1843 - 1844)\", \"language\": \"en\", \"proportion\": 1.0, \"number\": \"100\", \"language_full\": \"English\"}, {\"id\": \"879\", \"title\": \"The Don Dorrigo Gazette and Guy Fawkes Advocate (NSW : 1910 - 1954)\", \"language\": \"en\", \"proportion\": 1.0, \"number\": \"100\", \"language_full\": \"English\"}, {\"id\": \"188\", \"title\": \"The Dubbo Liberal and Macquarie Advocate (NSW : 1894 - 1954)\", \"language\": \"en\", \"proportion\": 1.0, \"number\": \"100\", \"language_full\": \"English\"}, {\"id\": \"683\", \"title\": \"The Elector (Sydney, NSW : 1900)\", \"language\": \"en\", \"proportion\": 1.0, \"number\": \"100\", \"language_full\": \"English\"}, {\"id\": \"918\", \"title\": \"The Enterprise (Katoomba, NSW : 1913)\", \"language\": \"en\", \"proportion\": 1.0, \"number\": \"15\", \"language_full\": \"English\"}, {\"id\": \"1017\", \"title\": \"The Examiner (Sydney, NSW : 1845)\", \"language\": \"en\", \"proportion\": 1.0, \"number\": \"100\", \"language_full\": \"English\"}, {\"id\": \"451\", \"title\": \"The Farmer and Settler (Sydney, NSW : 1906 - 1955)\", \"language\": \"en\", \"proportion\": 1.0, \"number\": \"100\", \"language_full\": \"English\"}, {\"id\": \"421\", \"title\": \"The Forbes Advocate (NSW : 1911 - 1954)\", \"language\": \"en\", \"proportion\": 1.0, \"number\": \"100\", \"language_full\": \"English\"}, {\"id\": \"1470\", \"title\": \"The Gleaner (Sydney, NSW : 1827)\", \"language\": \"en\", \"proportion\": 1.0, \"number\": \"100\", \"language_full\": \"English\"}, {\"id\": \"359\", \"title\": \"The Globe and Sunday Times War Pictorial (Sydney, NSW : 1914 - 1917)\", \"language\": \"en\", \"proportion\": 1.0, \"number\": \"100\", \"language_full\": \"English\"}, {\"id\": \"644\", \"title\": \"The Gloucester Advocate (NSW : 1905 - 1954)\", \"language\": \"en\", \"proportion\": 1.0, \"number\": \"100\", \"language_full\": \"English\"}, {\"id\": \"708\", \"title\": \"The Gloucester Examiner and Lower Hunter Advertiser (NSW : 1912)\", \"language\": \"en\", \"proportion\": 1.0, \"number\": \"100\", \"language_full\": \"English\"}, {\"id\": \"1215\", \"title\": \"The Golden Age (Queanbeyan, NSW : 1860 - 1864)\", \"language\": \"en\", \"proportion\": 1.0, \"number\": \"100\", \"language_full\": \"English\"}, {\"id\": \"689\", \"title\": \"The Gosford Times and Wyong District Advocate (NSW : 1906 - 1954)\", \"language\": \"en\", \"proportion\": 1.0, \"number\": \"100\", \"language_full\": \"English\"}, {\"id\": \"366\", \"title\": \"The Goulburn Herald and Chronicle (NSW : 1864 - 1881)\", \"language\": \"en\", \"proportion\": 1.0, \"number\": \"100\", \"language_full\": \"English\"}, {\"id\": \"364\", \"title\": \"The Goulburn Herald and County of Argyle Advertiser (NSW : 1848 - 1859)\", \"language\": \"en\", \"proportion\": 1.0, \"number\": \"100\", \"language_full\": \"English\"}, {\"id\": \"1226\", \"title\": \"The Grafton Argus and Clarence River General Advertiser (NSW : 1874 - 1875; 1879 - 1882; 1888; 1892; 1899 - 1922)\", \"language\": \"en\", \"proportion\": 1.0, \"number\": \"100\", \"language_full\": \"English\"}, {\"id\": \"474\", \"title\": \"The Grenfell Record and Lachlan District Advertiser (NSW : 1876 - 1951)\", \"language\": \"en\", \"proportion\": 1.0, \"number\": \"100\", \"language_full\": \"English\"}, {\"id\": \"1021\", \"title\": \"The Guardian (Sydney, NSW : 1844)\", \"language\": \"en\", \"proportion\": 1.0, \"number\": \"100\", \"language_full\": \"English\"}, {\"id\": \"664\", \"title\": \"The Gundagai Independent (NSW : 1928 - 1954)\", \"language\": \"en\", \"proportion\": 1.0, \"number\": \"100\", \"language_full\": \"English\"}, {\"id\": \"486\", \"title\": \"The Gundagai Independent and Pastoral, Agricultural and Mining Advocate (NSW : 1898 - 1928)\", \"language\": \"en\", \"proportion\": 1.0, \"number\": \"100\", \"language_full\": \"English\"}, {\"id\": \"487\", \"title\": \"The Gundagai Times and Tumut, Adelong and Murrumbidgee District Advertiser (NSW : 1868 - 1931)\", \"language\": \"en\", \"proportion\": 1.0, \"number\": \"100\", \"language_full\": \"English\"}, {\"id\": \"886\", \"title\": \"The Gwydir Examiner and Moree General Advertiser (NSW : 1898 - 1899)\", \"language\": \"en\", \"proportion\": 0.9583333333333334, \"number\": \"100\", \"language_full\": \"English\"}, {\"id\": \"886\", \"title\": \"The Gwydir Examiner and Moree General Advertiser (NSW : 1898 - 1899)\", \"language\": \"mt\", \"proportion\": 0.03125, \"number\": \"100\", \"language_full\": \"Maltese\"}, {\"id\": \"886\", \"title\": \"The Gwydir Examiner and Moree General Advertiser (NSW : 1898 - 1899)\", \"language\": \"cy\", \"proportion\": 0.010416666666666666, \"number\": \"100\", \"language_full\": \"Welsh\"}, {\"id\": \"725\", \"title\": \"The Hay Standard and Advertiser for Balranald, Wentworth, Maude...(Hay, NSW : 1871 - 1873; 1880 - 1881; 1890 - 1900)\", \"language\": \"en\", \"proportion\": 0.9473684210526315, \"number\": \"100\", \"language_full\": \"English\"}, {\"id\": \"725\", \"title\": \"The Hay Standard and Advertiser for Balranald, Wentworth, Maude...(Hay, NSW : 1871 - 1873; 1880 - 1881; 1890 - 1900)\", \"language\": \"mt\", \"proportion\": 0.05263157894736842, \"number\": \"100\", \"language_full\": \"Maltese\"}, {\"id\": \"488\", \"title\": \"The Hebrew Standard of Australasia (Sydney, NSW : 1895 - 1953)\", \"language\": \"en\", \"proportion\": 1.0, \"number\": \"100\", \"language_full\": \"English\"}, {\"id\": \"889\", \"title\": \"The Henty Observer and Culcairn Shire Register (NSW : 1914 - 1950)\", \"language\": \"en\", \"proportion\": 1.0, \"number\": \"100\", \"language_full\": \"English\"}, {\"id\": \"853\", \"title\": \"The Hillston News (NSW : 1882 - 1883)\", \"language\": \"en\", \"proportion\": 1.0, \"number\": \"100\", \"language_full\": \"English\"}, {\"id\": \"489\", \"title\": \"The Hillston Spectator and Lachlan River Advertiser (NSW : 1898 - 1952)\", \"language\": \"en\", \"proportion\": 1.0, \"number\": \"100\", \"language_full\": \"English\"}, {\"id\": \"915\", \"title\": \"The Hospital Saturday News (Katoomba, NSW : 1930)\", \"language\": \"en\", \"proportion\": 0.9666666666666667, \"number\": \"32\", \"language_full\": \"English\"}, {\"id\": \"915\", \"title\": \"The Hospital Saturday News (Katoomba, NSW : 1930)\", \"language\": \"cy\", \"proportion\": 0.03333333333333333, \"number\": \"32\", \"language_full\": \"Welsh\"}, {\"id\": \"745\", \"title\": \"The Hummer (Wagga Wagga, NSW : 1891 - 1892)\", \"language\": \"en\", \"proportion\": 1.0, \"number\": \"100\", \"language_full\": \"English\"}, {\"id\": \"1022\", \"title\": \"The Hunter River Gazette; and Journal of Agriculture, Commerce, Politics, and News (West Maitland, NSW : 1841 - 1842)\", \"language\": \"en\", \"proportion\": 1.0, \"number\": \"100\", \"language_full\": \"English\"}, {\"id\": \"477\", \"title\": \"The Independent (Deniliquin, NSW : 1901 - 1946)\", \"language\": \"en\", \"proportion\": 1.0, \"number\": \"100\", \"language_full\": \"English\"}, {\"id\": \"916\", \"title\": \"The Independent (Katoomba, NSW : 1930 - 1931)\", \"language\": \"en\", \"proportion\": 1.0, \"number\": \"100\", \"language_full\": \"English\"}, {\"id\": \"491\", \"title\": \"The International Socialist (Sydney, NSW : 1910 - 1920)\", \"language\": \"en\", \"proportion\": 1.0, \"number\": \"100\", \"language_full\": \"English\"}, {\"id\": \"880\", \"title\": \"The Inverell Argus (NSW : 1885; 1894; 1899; 1902 - 1904; 1910; 1914; 1921-1922; 1924)\", \"language\": \"en\", \"proportion\": 1.0, \"number\": \"100\", \"language_full\": \"English\"}, {\"id\": \"904\", \"title\": \"The Inverell Times (NSW : 1899 - 1907, 1909 - 1954)\", \"language\": \"en\", \"proportion\": 1.0, \"number\": \"100\", \"language_full\": \"English\"}, {\"id\": \"1605\", \"title\": \"The Irish Citizen (Sydney, NSW : 1871 - 1872)\", \"language\": \"en\", \"proportion\": 1.0, \"number\": \"100\", \"language_full\": \"English\"}, {\"id\": \"909\", \"title\": \"The Katoomba Daily (NSW : 1920 - 1939)\", \"language\": \"en\", \"proportion\": 1.0, \"number\": \"100\", \"language_full\": \"English\"}, {\"id\": \"360\", \"title\": \"The Kiama Independent and Illawarra and Shoalhaven Advertiser (NSW : 1863)\", \"language\": \"en\", \"proportion\": 1.0, \"number\": \"100\", \"language_full\": \"English\"}, {\"id\": \"361\", \"title\": \"The Kiama Independent, and Shoalhaven Advertiser (NSW : 1863 - 1947)\", \"language\": \"en\", \"proportion\": 1.0, \"number\": \"100\", \"language_full\": \"English\"}, {\"id\": \"362\", \"title\": \"The Kiama Reporter and Illawarra Journal (NSW : 1899 - 1947)\", \"language\": \"en\", \"proportion\": 1.0, \"number\": \"100\", \"language_full\": \"English\"}, {\"id\": \"1221\", \"title\": \"The Kyogle Examiner (NSW : 1912; 1914 - 1915; 1917 - 1954)\", \"language\": \"en\", \"proportion\": 1.0, \"number\": \"100\", \"language_full\": \"English\"}, {\"id\": \"1284\", \"title\": \"The Labor Daily (Sydney, NSW : 1924 - 1938)\", \"language\": \"en\", \"proportion\": 1.0, \"number\": \"100\", \"language_full\": \"English\"}, {\"id\": \"470\", \"title\": \"The Land (Sydney, NSW : 1911 - 1954)\", \"language\": \"en\", \"proportion\": 1.0, \"number\": \"100\", \"language_full\": \"English\"}, {\"id\": \"182\", \"title\": \"The Leader (Liverpool, NSW : 1946 - 1949)\", \"language\": \"en\", \"proportion\": 1.0, \"number\": \"100\", \"language_full\": \"English\"}, {\"id\": \"646\", \"title\": \"The Lockhart Review and Oaklands Advertiser (NSW : 1910 - 1954)\", \"language\": \"en\", \"proportion\": 1.0, \"number\": \"100\", \"language_full\": \"English\"}, {\"id\": \"476\", \"title\": \"The Lyndhurst Shire Chronicle (NSW : 1897 - 1941; 1944 - 1954)\", \"language\": \"en\", \"proportion\": 1.0, \"number\": \"100\", \"language_full\": \"English\"}, {\"id\": \"881\", \"title\": \"The Macleay Chronicle (Kempsey, NSW : 1899 - 1952)\", \"language\": \"en\", \"proportion\": 1.0, \"number\": \"100\", \"language_full\": \"English\"}, {\"id\": \"492\", \"title\": \"The Maitland Daily Mercury (NSW : 1894 - 1939)\", \"language\": \"en\", \"proportion\": 1.0, \"number\": \"100\", \"language_full\": \"English\"}, {\"id\": \"629\", \"title\": \"The Maitland Mercury (NSW : 1939)\", \"language\": \"en\", \"proportion\": 1.0, \"number\": \"100\", \"language_full\": \"English\"}, {\"id\": \"8\", \"title\": \"The Maitland Mercury and Hunter River General Advertiser (NSW : 1843 - 1893)\", \"language\": \"en\", \"proportion\": 0.98989898989899, \"number\": \"100\", \"language_full\": \"English\"}, {\"id\": \"8\", \"title\": \"The Maitland Mercury and Hunter River General Advertiser (NSW : 1843 - 1893)\", \"language\": \"mt\", \"proportion\": 0.010101010101010102, \"number\": \"100\", \"language_full\": \"Maltese\"}, {\"id\": \"493\", \"title\": \"The Maitland Weekly Mercury (NSW : 1894 - 1931)\", \"language\": \"en\", \"proportion\": 1.0, \"number\": \"100\", \"language_full\": \"English\"}, {\"id\": \"510\", \"title\": \"The Manaro Mercury, and Cooma and Bombala Advertiser (NSW : 1862 - 1931)\", \"language\": \"en\", \"proportion\": 1.0, \"number\": \"100\", \"language_full\": \"English\"}, {\"id\": \"1797\", \"title\": \"The Manning River News and Advocate for the Northern Coast Districts of New South Wales (Tinonee, NSW : 1865 - 1873)\", \"language\": \"en\", \"proportion\": 1.0, \"number\": \"100\", \"language_full\": \"English\"}, {\"id\": \"877\", \"title\": \"The Manning River Times and Advocate for the Northern Coast Districts of New South Wales (Taree, NSW : 1898 - 1954)\", \"language\": \"en\", \"proportion\": 1.0, \"number\": \"100\", \"language_full\": \"English\"}, {\"id\": \"647\", \"title\": \"The Methodist (Sydney, NSW : 1892 - 1954)\", \"language\": \"en\", \"proportion\": 1.0, \"number\": \"100\", \"language_full\": \"English\"}, {\"id\": \"684\", \"title\": \"The Mining Record and Grenfell General Advertiser (NSW : 1867 - 1876)\", \"language\": \"en\", \"proportion\": 1.0, \"number\": \"100\", \"language_full\": \"English\"}, {\"id\": \"441\", \"title\": \"The Mirror (Sydney, NSW : 1917 - 1919)\", \"language\": \"en\", \"proportion\": 0.9591836734693877, \"number\": \"100\", \"language_full\": \"English\"}, {\"id\": \"441\", \"title\": \"The Mirror (Sydney, NSW : 1917 - 1919)\", \"language\": \"mt\", \"proportion\": 0.030612244897959183, \"number\": \"100\", \"language_full\": \"Maltese\"}, {\"id\": \"441\", \"title\": \"The Mirror (Sydney, NSW : 1917 - 1919)\", \"language\": \"so\", \"proportion\": 0.01020408163265306, \"number\": \"100\", \"language_full\": \"Somali\"}, {\"id\": \"438\", \"title\": \"The Mirror of Australia (Sydney, NSW : 1915 - 1917)\", \"language\": \"en\", \"proportion\": 1.0, \"number\": \"100\", \"language_full\": \"English\"}, {\"id\": \"76\", \"title\": \"The Monitor (Sydney, NSW : 1826 - 1828)\", \"language\": \"en\", \"proportion\": 1.0, \"number\": \"100\", \"language_full\": \"English\"}, {\"id\": \"887\", \"title\": \"The Moree Examiner and General Advertiser (NSW : 1899)\", \"language\": \"en\", \"proportion\": 0.9896907216494846, \"number\": \"100\", \"language_full\": \"English\"}, {\"id\": \"887\", \"title\": \"The Moree Examiner and General Advertiser (NSW : 1899)\", \"language\": \"mt\", \"proportion\": 0.010309278350515464, \"number\": \"100\", \"language_full\": \"Maltese\"}, {\"id\": \"511\", \"title\": \"The Moruya Times and South Coast Journal (NSW : 1888 - 1915)\", \"language\": \"en\", \"proportion\": 0.98989898989899, \"number\": \"100\", \"language_full\": \"English\"}, {\"id\": \"511\", \"title\": \"The Moruya Times and South Coast Journal (NSW : 1888 - 1915)\", \"language\": \"mt\", \"proportion\": 0.010101010101010102, \"number\": \"100\", \"language_full\": \"Maltese\"}, {\"id\": \"1348\", \"title\": \"The Mosman Mail (NSW : 1898 - 1906)\", \"language\": \"en\", \"proportion\": 1.0, \"number\": \"100\", \"language_full\": \"English\"}, {\"id\": \"919\", \"title\": \"The Mountain Daily (Katoomba, NSW : 1919 - 1920)\", \"language\": \"en\", \"proportion\": 1.0, \"number\": \"12\", \"language_full\": \"English\"}, {\"id\": \"907\", \"title\": \"The Mountaineer (Katoomba, NSW : 1894 - 1908)\", \"language\": \"en\", \"proportion\": 1.0, \"number\": \"100\", \"language_full\": \"English\"}, {\"id\": \"649\", \"title\": \"The Murrumbidgee Irrigator (Leeton, NSW : 1915 - 1954)\", \"language\": \"en\", \"proportion\": 1.0, \"number\": \"100\", \"language_full\": \"English\"}, {\"id\": \"512\", \"title\": \"The Murrurundi Times and Liverpool Plains Gazette (NSW : 1874 - 1907; 1926 - 1929)\", \"language\": \"en\", \"proportion\": 1.0, \"number\": \"100\", \"language_full\": \"English\"}, {\"id\": \"469\", \"title\": \"The Muswellbrook Chronicle (NSW : 1898 - 1955)\", \"language\": \"en\", \"proportion\": 1.0, \"number\": \"100\", \"language_full\": \"English\"}, {\"id\": \"1026\", \"title\": \"The New South Wales Examiner (Sydney, NSW : 1842)\", \"language\": \"en\", \"proportion\": 1.0, \"number\": \"100\", \"language_full\": \"English\"}, {\"id\": \"513\", \"title\": \"The Newcastle Argus and District Advertiser (NSW : 1916)\", \"language\": \"en\", \"proportion\": 1.0, \"number\": \"19\", \"language_full\": \"English\"}, {\"id\": \"354\", \"title\": \"The Newcastle Chronicle (NSW : 1866 - 1876)\", \"language\": \"en\", \"proportion\": 1.0, \"number\": \"100\", \"language_full\": \"English\"}, {\"id\": \"353\", \"title\": \"The Newcastle Chronicle and Hunter River District News (NSW : 1859 - 1866)\", \"language\": \"en\", \"proportion\": 0.98989898989899, \"number\": \"100\", \"language_full\": \"English\"}, {\"id\": \"353\", \"title\": \"The Newcastle Chronicle and Hunter River District News (NSW : 1859 - 1866)\", \"language\": \"mt\", \"proportion\": 0.010101010101010102, \"number\": \"100\", \"language_full\": \"Maltese\"}, {\"id\": \"651\", \"title\": \"The Newcastle Sun (NSW : 1918 - 1954)\", \"language\": \"en\", \"proportion\": 0.99, \"number\": \"100\", \"language_full\": \"English\"}, {\"id\": \"651\", \"title\": \"The Newcastle Sun (NSW : 1918 - 1954)\", \"language\": \"mt\", \"proportion\": 0.01, \"number\": \"100\", \"language_full\": \"Maltese\"}, {\"id\": \"1587\", \"title\": \"The News (Shoalhaven, NSW : 1867)\", \"language\": \"en\", \"proportion\": 0.96875, \"number\": \"32\", \"language_full\": \"English\"}, {\"id\": \"1587\", \"title\": \"The News (Shoalhaven, NSW : 1867)\", \"language\": \"ca\", \"proportion\": 0.03125, \"number\": \"32\", \"language_full\": \"Catalan\"}, {\"id\": \"1588\", \"title\": \"The News, Shoalhaven and Southern Coast Districts Advertiser (NSW : 1867 - 1871)\", \"language\": \"en\", \"proportion\": 1.0, \"number\": \"100\", \"language_full\": \"English\"}, {\"id\": \"1678\", \"title\": \"The News, Shoalhaven, Broughton Creek and Ulladulla Advertiser (NSW : 1875 - 1877)\", \"language\": \"en\", \"proportion\": 1.0, \"number\": \"100\", \"language_full\": \"English\"}, {\"id\": \"1677\", \"title\": \"The News, Shoalhaven, Broughton Creek, Ulladulla and South Coast Advertiser (NSW : 1875)\", \"language\": \"en\", \"proportion\": 1.0, \"number\": \"100\", \"language_full\": \"English\"}, {\"id\": \"437\", \"title\": \"The Newsletter: an Australian Paper for Australian People (Sydney, NSW : 1900 - 1919)\", \"language\": \"en\", \"proportion\": 1.0, \"number\": \"100\", \"language_full\": \"English\"}, {\"id\": \"652\", \"title\": \"The North Western Courier (Narrabri, NSW : 1913 - 1955)\", \"language\": \"en\", \"proportion\": 1.0, \"number\": \"100\", \"language_full\": \"English\"}, {\"id\": \"1725\", \"title\": \"The North-Western Watchman (Coonabarabran, NSW : 1936 - 1949)\", \"language\": \"en\", \"proportion\": 1.0, \"number\": \"100\", \"language_full\": \"English\"}, {\"id\": \"653\", \"title\": \"The Northern Champion (Taree, NSW : 1913 - 1954)\", \"language\": \"en\", \"proportion\": 0.98989898989899, \"number\": \"100\", \"language_full\": \"English\"}, {\"id\": \"653\", \"title\": \"The Northern Champion (Taree, NSW : 1913 - 1954)\", \"language\": \"mt\", \"proportion\": 0.010101010101010102, \"number\": \"100\", \"language_full\": \"Maltese\"}, {\"id\": \"433\", \"title\": \"The Northern Daily Leader (Tamworth, NSW : 1921)\", \"language\": \"en\", \"proportion\": 1.0, \"number\": \"100\", \"language_full\": \"English\"}, {\"id\": \"1586\", \"title\": \"The Nowra Colonist (NSW : 1899 - 1904)\", \"language\": \"en\", \"proportion\": 1.0, \"number\": \"100\", \"language_full\": \"English\"}, {\"id\": \"1157\", \"title\": \"The Nowra Leader (NSW : 1909 - 1939)\", \"language\": \"en\", \"proportion\": 1.0, \"number\": \"100\", \"language_full\": \"English\"}, {\"id\": \"1749\", \"title\": \"The Observer (Cronulla, NSW : 1939 - 1954)\", \"language\": \"en\", \"proportion\": 1.0, \"number\": \"100\", \"language_full\": \"English\"}, {\"id\": \"890\", \"title\": \"The Observer (Henty, NSW : 1950 - 1954)\", \"language\": \"en\", \"proportion\": 1.0, \"number\": \"100\", \"language_full\": \"English\"}, {\"id\": \"1027\", \"title\": \"The Omnibus and Sydney Spectator (NSW : 1841 - 1843)\", \"language\": \"en\", \"proportion\": 1.0, \"number\": \"100\", \"language_full\": \"English\"}, {\"id\": \"514\", \"title\": \"The Peak Hill Express (NSW : 1902 - 1952)\", \"language\": \"en\", \"proportion\": 1.0, \"number\": \"100\", \"language_full\": \"English\"}, {\"id\": \"748\", \"title\": \"The People and the Collectivist (Sydney, NSW : 1900)\", \"language\": \"en\", \"proportion\": 1.0, \"number\": \"100\", \"language_full\": \"English\"}, {\"id\": \"1471\", \"title\": \"The People's Advocate and New South Wales Vindicator (Sydney, NSW : 1848-1856)\", \"language\": \"en\", \"proportion\": 1.0, \"number\": \"100\", \"language_full\": \"English\"}, {\"id\": \"515\", \"title\": \"The Picton Post (NSW : 1907 - 1954)\", \"language\": \"en\", \"proportion\": 1.0, \"number\": \"100\", \"language_full\": \"English\"}, {\"id\": \"516\", \"title\": \"The Port Macquarie News and Hastings River Advocate (NSW : 1882 - 1950)\", \"language\": \"en\", \"proportion\": 1.0, \"number\": \"100\", \"language_full\": \"English\"}, {\"id\": \"1225\", \"title\": \"The Propeller (Hurstville, NSW : 1911 - 1954)\", \"language\": \"en\", \"proportion\": 1.0, \"number\": \"100\", \"language_full\": \"English\"}, {\"id\": \"1050\", \"title\": \"The Protestant Standard (Sydney, NSW : 1869 - 1895)\", \"language\": \"en\", \"proportion\": 1.0, \"number\": \"100\", \"language_full\": \"English\"}, {\"id\": \"87\", \"title\": \"The Queanbeyan Age and Queanbeyan Observer (NSW : 1915 - 1927)\", \"language\": \"en\", \"proportion\": 1.0, \"number\": \"100\", \"language_full\": \"English\"}, {\"id\": \"1778\", \"title\": \"The Queanbeyan Age Canberra Advocate (NSW : 1927)\", \"language\": \"en\", \"proportion\": 1.0, \"number\": \"100\", \"language_full\": \"English\"}, {\"id\": \"517\", \"title\": \"The Queanbeyan Leader (NSW : 1905 - 1916)\", \"language\": \"en\", \"proportion\": 1.0, \"number\": \"100\", \"language_full\": \"English\"}, {\"id\": \"1222\", \"title\": \"The Queanbeyan Observer (NSW : 1894 - 1908; 1910 - 1915)\", \"language\": \"en\", \"proportion\": 1.0, \"number\": \"100\", \"language_full\": \"English\"}, {\"id\": \"1300\", \"title\": \"The Railway and Tramway Co-operator (Sydney, NSW : 1909 - 1910)\", \"language\": \"en\", \"proportion\": 1.0, \"number\": \"100\", \"language_full\": \"English\"}, {\"id\": \"498\", \"title\": \"The Raleigh Sun (Bellingen, NSW : 1898 - 1918)\", \"language\": \"en\", \"proportion\": 1.0, \"number\": \"100\", \"language_full\": \"English\"}, {\"id\": \"917\", \"title\": \"The Record of the Blue Mountains (Katoomba, NSW : 1924)\", \"language\": \"en\", \"proportion\": 1.0, \"number\": \"60\", \"language_full\": \"English\"}, {\"id\": \"500\", \"title\": \"The Richmond River Express and Casino Kyogle Advertiser (NSW : 1904 - 1929)\", \"language\": \"mt\", \"proportion\": 0.12643678160919541, \"number\": \"100\", \"language_full\": \"Maltese\"}, {\"id\": \"500\", \"title\": \"The Richmond River Express and Casino Kyogle Advertiser (NSW : 1904 - 1929)\", \"language\": \"so\", \"proportion\": 0.04597701149425287, \"number\": \"100\", \"language_full\": \"Somali\"}, {\"id\": \"500\", \"title\": \"The Richmond River Express and Casino Kyogle Advertiser (NSW : 1904 - 1929)\", \"language\": \"en\", \"proportion\": 0.8275862068965517, \"number\": \"100\", \"language_full\": \"English\"}, {\"id\": \"680\", \"title\": \"The Richmond River Express and Tweed Advertiser (NSW : 1903 - 1904)\", \"language\": \"en\", \"proportion\": 1.0, \"number\": \"100\", \"language_full\": \"English\"}, {\"id\": \"501\", \"title\": \"The Richmond River Herald and Northern Districts Advertiser (NSW : 1886 - 1942)\", \"language\": \"en\", \"proportion\": 1.0, \"number\": \"100\", \"language_full\": \"English\"}, {\"id\": \"656\", \"title\": \"The Riverine Grazier (Hay, NSW : 1873 - 1954)\", \"language\": \"en\", \"proportion\": 1.0, \"number\": \"100\", \"language_full\": \"English\"}, {\"id\": \"1028\", \"title\": \"The Satirist and Sporting Chronicle (Sydney, NSW : 1843)\", \"language\": \"en\", \"proportion\": 1.0, \"number\": \"100\", \"language_full\": \"English\"}, {\"id\": \"657\", \"title\": \"The Scone Advocate (NSW : 1887 - 1954)\", \"language\": \"en\", \"proportion\": 0.98, \"number\": \"100\", \"language_full\": \"English\"}, {\"id\": \"657\", \"title\": \"The Scone Advocate (NSW : 1887 - 1954)\", \"language\": \"mt\", \"proportion\": 0.02, \"number\": \"100\", \"language_full\": \"Maltese\"}, {\"id\": \"675\", \"title\": \"The Scrutineer (Moss Vale, NSW : 1892)\", \"language\": \"en\", \"proportion\": 1.0, \"number\": \"100\", \"language_full\": \"English\"}, {\"id\": \"502\", \"title\": \"The Scrutineer and Berrima District Press (NSW : 1892 - 1948)\", \"language\": \"en\", \"proportion\": 1.0, \"number\": \"100\", \"language_full\": \"English\"}, {\"id\": \"1029\", \"title\": \"The Sentinel (Sydney, NSW : 1845 - 1848)\", \"language\": \"en\", \"proportion\": 1.0, \"number\": \"100\", \"language_full\": \"English\"}, {\"id\": \"690\", \"title\": \"The Shipping Gazette and Sydney General Trade List (NSW : 1844 - 1860)\", \"language\": \"en\", \"proportion\": 1.0, \"number\": \"100\", \"language_full\": \"English\"}, {\"id\": \"518\", \"title\": \"The Shoalhaven News and South Coast Districts Advertiser (NSW : 1891 - 1937)\", \"language\": \"en\", \"proportion\": 1.0, \"number\": \"100\", \"language_full\": \"English\"}, {\"id\": \"1679\", \"title\": \"The Shoalhaven News, Broughton Creek and Ulladulla Advertiser (NSW : 1877)\", \"language\": \"en\", \"proportion\": 1.0, \"number\": \"100\", \"language_full\": \"English\"}, {\"id\": \"1590\", \"title\": \"The Shoalhaven News, Broughton Creek, Kiama and Ulladulla Advertiser (NSW : 1873)\", \"language\": \"en\", \"proportion\": 1.0, \"number\": \"100\", \"language_full\": \"English\"}, {\"id\": \"520\", \"title\": \"The Shoalhaven News, Nowra (NSW : 1937 - 1940)\", \"language\": \"en\", \"proportion\": 1.0, \"number\": \"100\", \"language_full\": \"English\"}, {\"id\": \"1589\", \"title\": \"The Shoalhaven News, Ulladulla and Southern Coast Districts Advertiser (NSW : 1871 - 1873)\", \"language\": \"en\", \"proportion\": 0.9895833333333334, \"number\": \"100\", \"language_full\": \"English\"}, {\"id\": \"1589\", \"title\": \"The Shoalhaven News, Ulladulla and Southern Coast Districts Advertiser (NSW : 1871 - 1873)\", \"language\": \"mt\", \"proportion\": 0.010416666666666666, \"number\": \"100\", \"language_full\": \"Maltese\"}, {\"id\": \"503\", \"title\": \"The Shoalhaven Telegraph (NSW : 1881 - 1937)\", \"language\": \"en\", \"proportion\": 1.0, \"number\": \"100\", \"language_full\": \"English\"}, {\"id\": \"282\", \"title\": \"The Singleton Argus and Upper Hunter General Advocate (NSW : 1874 - 1880)\", \"language\": \"en\", \"proportion\": 1.0, \"number\": \"100\", \"language_full\": \"English\"}, {\"id\": \"519\", \"title\": \"The Southern Mail (Bowral, NSW : 1889 - 1954)\", \"language\": \"en\", \"proportion\": 1.0, \"number\": \"100\", \"language_full\": \"English\"}, {\"id\": \"504\", \"title\": \"The Southern Record and Advertiser (Candelo, NSW : 1910 - 1938)\", \"language\": \"en\", \"proportion\": 1.0, \"number\": \"100\", \"language_full\": \"English\"}, {\"id\": \"1392\", \"title\": \"The Spectator (Sydney, NSW : 1846)\", \"language\": \"en\", \"proportion\": 1.0, \"number\": \"100\", \"language_full\": \"English\"}, {\"id\": \"1393\", \"title\": \"The Spectator (Sydney, NSW : 1892)\", \"language\": \"en\", \"proportion\": 1.0, \"number\": \"100\", \"language_full\": \"English\"}, {\"id\": \"854\", \"title\": \"The St George Call (Kogarah, NSW : 1904 - 1957)\", \"language\": \"en\", \"proportion\": 1.0, \"number\": \"100\", \"language_full\": \"English\"}, {\"id\": \"1032\", \"title\": \"The Star (Sydney, NSW : 1845 - 1846)\", \"language\": \"en\", \"proportion\": 1.0, \"number\": \"100\", \"language_full\": \"English\"}, {\"id\": \"1179\", \"title\": \"The Star (Sydney, NSW : 1909 - 1910)\", \"language\": \"en\", \"proportion\": 1.0, \"number\": \"100\", \"language_full\": \"English\"}, {\"id\": \"1031\", \"title\": \"The Star and Working Man's Guardian (Parramatta, NSW : 1844 - 1845)\", \"language\": \"en\", \"proportion\": 1.0, \"number\": \"100\", \"language_full\": \"English\"}, {\"id\": \"1182\", \"title\": \"The Sun : Sunday Edition (Sydney, NSW : 1910)\", \"language\": \"en\", \"proportion\": 1.0, \"number\": \"100\", \"language_full\": \"English\"}, {\"id\": \"1180\", \"title\": \"The Sun (Sydney, NSW : 1910 - 1954)\", \"language\": \"en\", \"proportion\": 1.0, \"number\": \"100\", \"language_full\": \"English\"}, {\"id\": \"1033\", \"title\": \"The Sun and New South Wales Independent Press (Sydney, NSW : 1843)\", \"language\": \"en\", \"proportion\": 1.0, \"number\": \"100\", \"language_full\": \"English\"}, {\"id\": \"39\", \"title\": \"The Sun-Herald (Sydney, NSW : 1953 - 1954)\", \"language\": \"en\", \"proportion\": 1.0, \"number\": \"100\", \"language_full\": \"English\"}, {\"id\": \"38\", \"title\": \"The Sunday Herald (Sydney, NSW : 1949 - 1953)\", \"language\": \"en\", \"proportion\": 1.0, \"number\": \"100\", \"language_full\": \"English\"}, {\"id\": \"1181\", \"title\": \"The Sunday Sun (Sydney, NSW : 1903 - 1910)\", \"language\": \"en\", \"proportion\": 1.0, \"number\": \"100\", \"language_full\": \"English\"}, {\"id\": \"1472\", \"title\": \"The Sydney Daily Advertiser (NSW : 1848)\", \"language\": \"en\", \"proportion\": 1.0, \"number\": \"100\", \"language_full\": \"English\"}, {\"id\": \"1296\", \"title\": \"The Sydney Daily Telegraph (NSW : 1879 -1883)\", \"language\": \"en\", \"proportion\": 1.0, \"number\": \"100\", \"language_full\": \"English\"}, {\"id\": \"3\", \"title\": \"The Sydney Gazette and New South Wales Advertiser (NSW : 1803 - 1842)\", \"language\": \"en\", \"proportion\": 1.0, \"number\": \"100\", \"language_full\": \"English\"}, {\"id\": \"37\", \"title\": \"The Sydney Herald (NSW : 1831 - 1842)\", \"language\": \"en\", \"proportion\": 1.0, \"number\": \"100\", \"language_full\": \"English\"}, {\"id\": \"1693\", \"title\": \"The Sydney Jewish News (Sydney, N.S.W : 1939 - 1954)\", \"language\": \"en\", \"proportion\": 1.0, \"number\": \"100\", \"language_full\": \"English\"}, {\"id\": \"698\", \"title\": \"The Sydney Mail and New South Wales Advertiser (NSW : 1871 - 1912)\", \"language\": \"en\", \"proportion\": 1.0, \"number\": \"100\", \"language_full\": \"English\"}, {\"id\": \"95\", \"title\": \"The Sydney Monitor (NSW : 1828 - 1838)\", \"language\": \"en\", \"proportion\": 1.0, \"number\": \"100\", \"language_full\": \"English\"}, {\"id\": \"96\", \"title\": \"The Sydney Monitor and Commercial Advertiser (NSW : 1838 - 1841)\", \"language\": \"en\", \"proportion\": 1.0, \"number\": \"100\", \"language_full\": \"English\"}, {\"id\": \"35\", \"title\": \"The Sydney Morning Herald (NSW : 1842 - 1954)\", \"language\": \"en\", \"proportion\": 1.0, \"number\": \"100\", \"language_full\": \"English\"}, {\"id\": \"1034\", \"title\": \"The Sydney Record (NSW : 1843 - 1844)\", \"language\": \"en\", \"proportion\": 1.0, \"number\": \"100\", \"language_full\": \"English\"}, {\"id\": \"1473\", \"title\": \"The Sydney Standard and Colonial Advocate (NSW : 1839)\", \"language\": \"en\", \"proportion\": 1.0, \"number\": \"100\", \"language_full\": \"English\"}, {\"id\": \"506\", \"title\": \"The Sydney Stock and Station Journal (NSW : 1896 - 1924)\", \"language\": \"en\", \"proportion\": 1.0, \"number\": \"100\", \"language_full\": \"English\"}, {\"id\": \"1474\", \"title\": \"The Sydney Times (NSW : 1834-1838)\", \"language\": \"en\", \"proportion\": 1.0, \"number\": \"100\", \"language_full\": \"English\"}, {\"id\": \"1475\", \"title\": \"The Sydney Weekly Transcript (NSW : 1846)\", \"language\": \"en\", \"proportion\": 0.98989898989899, \"number\": \"100\", \"language_full\": \"English\"}, {\"id\": \"1475\", \"title\": \"The Sydney Weekly Transcript (NSW : 1846)\", \"language\": \"mt\", \"proportion\": 0.010101010101010102, \"number\": \"100\", \"language_full\": \"Maltese\"}, {\"id\": \"452\", \"title\": \"The Sydney Wool and Stock Journal (NSW : 1899 - 1917)\", \"language\": \"en\", \"proportion\": 0.9693877551020408, \"number\": \"100\", \"language_full\": \"English\"}, {\"id\": \"452\", \"title\": \"The Sydney Wool and Stock Journal (NSW : 1899 - 1917)\", \"language\": \"mt\", \"proportion\": 0.030612244897959183, \"number\": \"100\", \"language_full\": \"Maltese\"}, {\"id\": \"481\", \"title\": \"The Tamworth Daily Observer (NSW : 1910 - 1916)\", \"language\": \"en\", \"proportion\": 1.0, \"number\": \"100\", \"language_full\": \"English\"}, {\"id\": \"1036\", \"title\": \"The Teetotaller and General Newspaper (Sydney, NSW : 1842 - 1843)\", \"language\": \"en\", \"proportion\": 1.0, \"number\": \"100\", \"language_full\": \"English\"}, {\"id\": \"631\", \"title\": \"The Telegraph and Shoalhaven Advertiser (NSW : 1879 - 1881)\", \"language\": \"en\", \"proportion\": 1.0, \"number\": \"100\", \"language_full\": \"English\"}, {\"id\": \"727\", \"title\": \"The Temora Advertiser (NSW : 1939)\", \"language\": \"en\", \"proportion\": 1.0, \"number\": \"33\", \"language_full\": \"English\"}, {\"id\": \"855\", \"title\": \"The Temora Star (NSW : 1881 - 1883; 1899 - 1906; 1914; 1925; 1933)\", \"language\": \"en\", \"proportion\": 1.0, \"number\": \"100\", \"language_full\": \"English\"}, {\"id\": \"729\", \"title\": \"The Temora Telegraph and Mining Advocate (NSW : 1880)\", \"language\": \"en\", \"proportion\": 1.0, \"number\": \"2\", \"language_full\": \"English\"}, {\"id\": \"1037\", \"title\": \"The Temperance Advocate and Australasian Commercial and Agricultural Intelligencer (Sydney, NSW : 1840 - 1841)\", \"language\": \"en\", \"proportion\": 1.0, \"number\": \"100\", \"language_full\": \"English\"}, {\"id\": \"682\", \"title\": \"The Tenterfield Courier and District Advocate (NSW : 1914)\", \"language\": \"en\", \"proportion\": 1.0, \"number\": \"100\", \"language_full\": \"English\"}, {\"id\": \"453\", \"title\": \"The Tenterfield Intercolonial Courier and Fairfield and Wallangarra Advocate (NSW : 1900 - 1914)\", \"language\": \"en\", \"proportion\": 1.0, \"number\": \"100\", \"language_full\": \"English\"}, {\"id\": \"1783\", \"title\": \"The Tingha Miner and North Western Advocate (NSW: 1906; 1908)\", \"language\": \"en\", \"proportion\": 1.0, \"number\": \"100\", \"language_full\": \"English\"}, {\"id\": \"1782\", \"title\": \"The Tingha Spectator and North Western Journal (NSW : 1913)\", \"language\": \"en\", \"proportion\": 0.9897959183673469, \"number\": \"100\", \"language_full\": \"English\"}, {\"id\": \"1782\", \"title\": \"The Tingha Spectator and North Western Journal (NSW : 1913)\", \"language\": \"ja\", \"proportion\": 0.01020408163265306, \"number\": \"100\", \"language_full\": \"Japanese\"}, {\"id\": \"1038\", \"title\": \"The True Sun and New South Wales Independent Press (Sydney, NSW : 1844)\", \"language\": \"en\", \"proportion\": 1.0, \"number\": \"15\", \"language_full\": \"English\"}, {\"id\": \"455\", \"title\": \"The Tumut Advocate and Farmers and Settlers' Adviser (NSW : 1903 - 1925)\", \"language\": \"en\", \"proportion\": 1.0, \"number\": \"100\", \"language_full\": \"English\"}, {\"id\": \"659\", \"title\": \"The Tumut and Adelong Times (NSW : 1864 - 1867; 1899 - 1950)\", \"language\": \"en\", \"proportion\": 1.0, \"number\": \"100\", \"language_full\": \"English\"}, {\"id\": \"1158\", \"title\": \"The Twofold Bay Magnet : and South Coast and Southern Monaro Advertiser (NSW : 1908 - 1919)\", \"language\": \"en\", \"proportion\": 0.967032967032967, \"number\": \"100\", \"language_full\": \"English\"}, {\"id\": \"1158\", \"title\": \"The Twofold Bay Magnet : and South Coast and Southern Monaro Advertiser (NSW : 1908 - 1919)\", \"language\": \"mt\", \"proportion\": 0.02197802197802198, \"number\": \"100\", \"language_full\": \"Maltese\"}, {\"id\": \"1158\", \"title\": \"The Twofold Bay Magnet : and South Coast and Southern Monaro Advertiser (NSW : 1908 - 1919)\", \"language\": \"ru-Latn\", \"proportion\": 0.01098901098901099, \"number\": \"100\", \"language_full\": \"Russian\"}, {\"id\": \"700\", \"title\": \"The Ulladulla and Milton Times (NSW : 1891 - 1917)\", \"language\": \"en\", \"proportion\": 1.0, \"number\": \"100\", \"language_full\": \"English\"}, {\"id\": \"992\", \"title\": \"The Uralla News (NSW : 1904 - 1907)\", \"language\": \"en\", \"proportion\": 1.0, \"number\": \"100\", \"language_full\": \"English\"}, {\"id\": \"884\", \"title\": \"The Uralla Times (NSW : 1923 - 1954)\", \"language\": \"en\", \"proportion\": 1.0, \"number\": \"100\", \"language_full\": \"English\"}, {\"id\": \"883\", \"title\": \"The Uralla Times and District Advocate (NSW : 1915 - 1923)\", \"language\": \"en\", \"proportion\": 1.0, \"number\": \"100\", \"language_full\": \"English\"}, {\"id\": \"456\", \"title\": \"The Urana Independent and Clear Hills Standard (NSW : 1913 - 1921)\", \"language\": \"en\", \"proportion\": 1.0, \"number\": \"100\", \"language_full\": \"English\"}, {\"id\": \"1039\", \"title\": \"The Voice of Jacob. or, the Hebrews' Monthly Miscellany (Sydney, NSW : 1842)\", \"language\": \"en\", \"proportion\": 1.0, \"number\": \"24\", \"language_full\": \"English\"}, {\"id\": \"457\", \"title\": \"The Voice of the North (NSW : 1918 - 1933)\", \"language\": \"en\", \"proportion\": 1.0, \"number\": \"100\", \"language_full\": \"English\"}, {\"id\": \"962\", \"title\": \"The Walcha News (NSW : 1932 - 1935)\", \"language\": \"en\", \"proportion\": 1.0, \"number\": \"100\", \"language_full\": \"English\"}, {\"id\": \"923\", \"title\": \"The Walcha News and Southern New England Advocate (NSW : 1904 - 1907; 1927)\", \"language\": \"en\", \"proportion\": 1.0, \"number\": \"100\", \"language_full\": \"English\"}, {\"id\": \"922\", \"title\": \"The Walcha Witness and Vernon County Record (NSW : 1895 - 1906)\", \"language\": \"en\", \"proportion\": 1.0, \"number\": \"100\", \"language_full\": \"English\"}, {\"id\": \"1160\", \"title\": \"The Warialda Watchman (NSW : 1899)\", \"language\": \"en\", \"proportion\": 1.0, \"number\": \"100\", \"language_full\": \"English\"}, {\"id\": \"1316\", \"title\": \"The Weekly Advance (Granville, NSW : 1892 - 1893)\", \"language\": \"en\", \"proportion\": 1.0, \"number\": \"100\", \"language_full\": \"English\"}, {\"id\": \"1040\", \"title\": \"The Weekly Register of Politics, Facts and General Literature (Sydney, NSW : 1843 - 1845)\", \"language\": \"en\", \"proportion\": 1.0, \"number\": \"100\", \"language_full\": \"English\"}, {\"id\": \"632\", \"title\": \"The West Wyalong Advocate (NSW : 1928 - 1954)\", \"language\": \"en\", \"proportion\": 0.99, \"number\": \"100\", \"language_full\": \"English\"}, {\"id\": \"632\", \"title\": \"The West Wyalong Advocate (NSW : 1928 - 1954)\", \"language\": \"mt\", \"proportion\": 0.01, \"number\": \"100\", \"language_full\": \"Maltese\"}, {\"id\": \"702\", \"title\": \"The Wingham Chronicle and Manning River Observer (NSW : 1898 - 1954)\", \"language\": \"en\", \"proportion\": 1.0, \"number\": \"100\", \"language_full\": \"English\"}, {\"id\": \"465\", \"title\": \"The Wollondilly Press (NSW : 1906 - 1914)\", \"language\": \"en\", \"proportion\": 1.0, \"number\": \"100\", \"language_full\": \"English\"}, {\"id\": \"747\", \"title\": \"The Worker (Wagga, NSW : 1892 - 1913)\", \"language\": \"en\", \"proportion\": 1.0, \"number\": \"100\", \"language_full\": \"English\"}, {\"id\": \"1003\", \"title\": \"The Workers' Weekly (Sydney, NSW : 1923 - 1939)\", \"language\": \"en\", \"proportion\": 1.0, \"number\": \"100\", \"language_full\": \"English\"}, {\"id\": \"466\", \"title\": \"The World's News (Sydney, NSW : 1901 - 1955)\", \"language\": \"en\", \"proportion\": 1.0, \"number\": \"100\", \"language_full\": \"English\"}, {\"id\": \"467\", \"title\": \"The Wyalong Advocate and Mining, Agricultural and Pastoral Gazette (NSW : 1900 - 1928)\", \"language\": \"en\", \"proportion\": 1.0, \"number\": \"100\", \"language_full\": \"English\"}, {\"id\": \"730\", \"title\": \"The Wyalong Star and Temora and Barmedman Advertiser (West Wyalong, NSW : 1894 - 1895; 1899 - 1906)\", \"language\": \"en\", \"proportion\": 0.9782608695652174, \"number\": \"100\", \"language_full\": \"English\"}, {\"id\": \"730\", \"title\": \"The Wyalong Star and Temora and Barmedman Advertiser (West Wyalong, NSW : 1894 - 1895; 1899 - 1906)\", \"language\": \"mt\", \"proportion\": 0.021739130434782608, \"number\": \"100\", \"language_full\": \"Maltese\"}, {\"id\": \"1349\", \"title\": \"The Yass Courier (NSW : 1857 - 1929)\", \"language\": \"en\", \"proportion\": 1.0, \"number\": \"100\", \"language_full\": \"English\"}, {\"id\": \"1218\", \"title\": \"The Young Chronicle (NSW : 1902 - 1910; 1913 - 1915; 1924 - 1934; 1936 - 1940)\", \"language\": \"en\", \"proportion\": 1.0, \"number\": \"100\", \"language_full\": \"English\"}, {\"id\": \"882\", \"title\": \"Tingha Advocate and North-Western Journal (NSW : 1916 - 1932)\", \"language\": \"en\", \"proportion\": 1.0, \"number\": \"100\", \"language_full\": \"English\"}, {\"id\": \"1592\", \"title\": \"To Ethnico Vema = Greek National Tribune (Arncliffe, NSW : 1931 - 1954)\", \"language\": \"el\", \"proportion\": 1.0, \"number\": \"100\", \"language_full\": \"Modern Greek (1453-)\"}, {\"id\": \"633\", \"title\": \"Tocumwal Guardian and Finley Free Press (NSW : 1908 - 1913)\", \"language\": \"en\", \"proportion\": 1.0, \"number\": \"100\", \"language_full\": \"English\"}, {\"id\": \"454\", \"title\": \"Tocumwal Guardian and Riverina Echo (NSW : 1913 - 1918)\", \"language\": \"en\", \"proportion\": 1.0, \"number\": \"100\", \"language_full\": \"English\"}, {\"id\": \"634\", \"title\": \"Tocumwal Guardian and Riverina Stock Journal (NSW : 1919 - 1922)\", \"language\": \"en\", \"proportion\": 1.0, \"number\": \"100\", \"language_full\": \"English\"}, {\"id\": \"1002\", \"title\": \"Tribune (Sydney, NSW : 1939 - 1991)\", \"language\": \"en\", \"proportion\": 1.0, \"number\": \"100\", \"language_full\": \"English\"}, {\"id\": \"699\", \"title\": \"Truth (Sydney, NSW : 1894 - 1954)\", \"language\": \"en\", \"proportion\": 1.0, \"number\": \"100\", \"language_full\": \"English\"}, {\"id\": \"1185\", \"title\": \"Tung Wah News (Sydney, NSW : 1898 - 1902)\", \"language\": \"zh\", \"proportion\": 0.94, \"number\": \"100\", \"language_full\": \"Chinese\"}, {\"id\": \"1185\", \"title\": \"Tung Wah News (Sydney, NSW : 1898 - 1902)\", \"language\": \"ceb\", \"proportion\": 0.01, \"number\": \"100\", \"language_full\": \"Cebuano\"}, {\"id\": \"1185\", \"title\": \"Tung Wah News (Sydney, NSW : 1898 - 1902)\", \"language\": \"it\", \"proportion\": 0.01, \"number\": \"100\", \"language_full\": \"Italian\"}, {\"id\": \"1185\", \"title\": \"Tung Wah News (Sydney, NSW : 1898 - 1902)\", \"language\": \"en\", \"proportion\": 0.01, \"number\": \"100\", \"language_full\": \"English\"}, {\"id\": \"1185\", \"title\": \"Tung Wah News (Sydney, NSW : 1898 - 1902)\", \"language\": \"jv\", \"proportion\": 0.02, \"number\": \"100\", \"language_full\": \"Javanese\"}, {\"id\": \"1185\", \"title\": \"Tung Wah News (Sydney, NSW : 1898 - 1902)\", \"language\": \"id\", \"proportion\": 0.01, \"number\": \"100\", \"language_full\": \"Indonesian\"}, {\"id\": \"1184\", \"title\": \"Tung Wah Times (Sydney, NSW : 1901 - 1936)\", \"language\": \"zh\", \"proportion\": 0.9263157894736842, \"number\": \"100\", \"language_full\": \"Chinese\"}, {\"id\": \"1184\", \"title\": \"Tung Wah Times (Sydney, NSW : 1901 - 1936)\", \"language\": \"fy\", \"proportion\": 0.021052631578947368, \"number\": \"100\", \"language_full\": \"Western Frisian\"}, {\"id\": \"1184\", \"title\": \"Tung Wah Times (Sydney, NSW : 1901 - 1936)\", \"language\": \"cs\", \"proportion\": 0.010526315789473684, \"number\": \"100\", \"language_full\": \"Czech\"}, {\"id\": \"1184\", \"title\": \"Tung Wah Times (Sydney, NSW : 1901 - 1936)\", \"language\": \"fil\", \"proportion\": 0.010526315789473684, \"number\": \"100\", \"language_full\": \"Filipino\"}, {\"id\": \"1184\", \"title\": \"Tung Wah Times (Sydney, NSW : 1901 - 1936)\", \"language\": \"vi\", \"proportion\": 0.010526315789473684, \"number\": \"100\", \"language_full\": \"Vietnamese\"}, {\"id\": \"1184\", \"title\": \"Tung Wah Times (Sydney, NSW : 1901 - 1936)\", \"language\": \"hi-Latn\", \"proportion\": 0.021052631578947368, \"number\": \"100\", \"language_full\": \"Hindi\"}, {\"id\": \"1007\", \"title\": \"Tweed Daily (Murwillumbah, NSW : 1914 - 1949)\", \"language\": \"en\", \"proportion\": 1.0, \"number\": \"100\", \"language_full\": \"English\"}, {\"id\": \"394\", \"title\": \"Twofold Bay and Maneroo Observer (NSW : 1860)\", \"language\": \"en\", \"proportion\": 0.8863636363636364, \"number\": \"100\", \"language_full\": \"English\"}, {\"id\": \"394\", \"title\": \"Twofold Bay and Maneroo Observer (NSW : 1860)\", \"language\": \"fy\", \"proportion\": 0.011363636363636364, \"number\": \"100\", \"language_full\": \"Western Frisian\"}, {\"id\": \"394\", \"title\": \"Twofold Bay and Maneroo Observer (NSW : 1860)\", \"language\": \"mt\", \"proportion\": 0.09090909090909091, \"number\": \"100\", \"language_full\": \"Maltese\"}, {\"id\": \"394\", \"title\": \"Twofold Bay and Maneroo Observer (NSW : 1860)\", \"language\": \"fr\", \"proportion\": 0.011363636363636364, \"number\": \"100\", \"language_full\": \"French\"}, {\"id\": \"478\", \"title\": \"Twofold Bay and Maneroo Telegraph (NSW : 1860)\", \"language\": \"en\", \"proportion\": 1.0, \"number\": \"100\", \"language_full\": \"English\"}, {\"id\": \"479\", \"title\": \"Twofold Bay Telegraph (NSW : 1860)\", \"language\": \"en\", \"proportion\": 0.967741935483871, \"number\": \"100\", \"language_full\": \"English\"}, {\"id\": \"479\", \"title\": \"Twofold Bay Telegraph (NSW : 1860)\", \"language\": \"mt\", \"proportion\": 0.03225806451612903, \"number\": \"100\", \"language_full\": \"Maltese\"}, {\"id\": \"1599\", \"title\": \"Uniamoci (Sydney, NSW : 1903 - 1904)\", \"language\": \"it\", \"proportion\": 1.0, \"number\": \"100\", \"language_full\": \"Italian\"}, {\"id\": \"810\", \"title\": \"Upper Hunter Courier (Murrurundi, NSW : 1871)\", \"language\": \"en\", \"proportion\": 0.8571428571428571, \"number\": \"14\", \"language_full\": \"English\"}, {\"id\": \"810\", \"title\": \"Upper Hunter Courier (Murrurundi, NSW : 1871)\", \"language\": \"mt\", \"proportion\": 0.14285714285714285, \"number\": \"14\", \"language_full\": \"Maltese\"}, {\"id\": \"1593\", \"title\": \"Vil'na Dumka = Free Thought (Sydney, NSW : 1949 - 1954)\", \"language\": \"uk\", \"proportion\": 0.82, \"number\": \"100\", \"language_full\": \"Ukrainian\"}, {\"id\": \"1593\", \"title\": \"Vil'na Dumka = Free Thought (Sydney, NSW : 1949 - 1954)\", \"language\": \"en\", \"proportion\": 0.18, \"number\": \"100\", \"language_full\": \"English\"}, {\"id\": \"413\", \"title\": \"Wagga Wagga Advertiser (NSW : 1875 - 1910)\", \"language\": \"en\", \"proportion\": 1.0, \"number\": \"100\", \"language_full\": \"English\"}, {\"id\": \"412\", \"title\": \"Wagga Wagga Advertiser and Riverine Reporter (NSW : 1868 - 1875)\", \"language\": \"en\", \"proportion\": 1.0, \"number\": \"100\", \"language_full\": \"English\"}, {\"id\": \"701\", \"title\": \"Wagga Wagga Express (NSW : 1879 - 1917)\", \"language\": \"en\", \"proportion\": 1.0, \"number\": \"100\", \"language_full\": \"English\"}, {\"id\": \"1102\", \"title\": \"Wagga Wagga Express (NSW : 1930 - 1939)\", \"language\": \"en\", \"proportion\": 1.0, \"number\": \"100\", \"language_full\": \"English\"}, {\"id\": \"382\", \"title\": \"Wagga Wagga Express and Murrumbidgee District Advertiser (NSW : 1858 - 1859; 1866; 1872 - 1874)\", \"language\": \"en\", \"proportion\": 1.0, \"number\": \"100\", \"language_full\": \"English\"}, {\"id\": \"1159\", \"title\": \"Warialda Standard and Northern Districts' Advertiser (NSW : 1900 - 1954)\", \"language\": \"en\", \"proportion\": 1.0, \"number\": \"100\", \"language_full\": \"English\"}, {\"id\": \"458\", \"title\": \"Watchman (Sydney, NSW : 1902 - 1926)\", \"language\": \"en\", \"proportion\": 1.0, \"number\": \"100\", \"language_full\": \"English\"}, {\"id\": \"1490\", \"title\": \"Weekly Observer (Sydney, NSW : 1833)\", \"language\": \"en\", \"proportion\": 1.0, \"number\": \"7\", \"language_full\": \"English\"}, {\"id\": \"1227\", \"title\": \"Weekly Supplement to Building (Sydney, NSW : 1908 - 1909)\", \"language\": \"en\", \"proportion\": 1.0, \"number\": \"100\", \"language_full\": \"English\"}, {\"id\": \"660\", \"title\": \"Wellington Times (NSW : 1899 - 1954)\", \"language\": \"en\", \"proportion\": 1.0, \"number\": \"100\", \"language_full\": \"English\"}, {\"id\": \"419\", \"title\": \"Werriwa Times and Goulburn District News (NSW : 1901)\", \"language\": \"en\", \"proportion\": 1.0, \"number\": \"100\", \"language_full\": \"English\"}, {\"id\": \"661\", \"title\": \"Western Age (Dubbo, NSW : 1914 - 1932)\", \"language\": \"en\", \"proportion\": 1.0, \"number\": \"100\", \"language_full\": \"English\"}, {\"id\": \"662\", \"title\": \"Western Age (Dubbo, NSW : 1933 - 1936)\", \"language\": \"en\", \"proportion\": 1.0, \"number\": \"100\", \"language_full\": \"English\"}, {\"id\": \"459\", \"title\": \"Western Champion (Parkes, NSW : 1898 - 1934)\", \"language\": \"en\", \"proportion\": 1.0, \"number\": \"100\", \"language_full\": \"English\"}, {\"id\": \"663\", \"title\": \"Western Grazier (Wilcannia, NSW : 1896 - 1951)\", \"language\": \"en\", \"proportion\": 1.0, \"number\": \"100\", \"language_full\": \"English\"}, {\"id\": \"426\", \"title\": \"Western Herald (Bourke, NSW : 1887 - 1970)\", \"language\": \"en\", \"proportion\": 1.0, \"number\": \"100\", \"language_full\": \"English\"}, {\"id\": \"192\", \"title\": \"Windsor and Richmond Gazette (NSW : 1888 - 1965)\", \"language\": \"en\", \"proportion\": 1.0, \"number\": \"100\", \"language_full\": \"English\"}, {\"id\": \"190\", \"title\": \"Windsor Express and Richmond Advertiser (NSW : 1843 - 1844)\", \"language\": \"en\", \"proportion\": 1.0, \"number\": \"100\", \"language_full\": \"English\"}, {\"id\": \"1367\", \"title\": \"Yass Evening Tribune (NSW : 1899 - 1928)\", \"language\": \"en\", \"proportion\": 1.0, \"number\": \"100\", \"language_full\": \"English\"}, {\"id\": \"1366\", \"title\": \"Yass Tribune-Courier (NSW : 1929 - 1954)\", \"language\": \"en\", \"proportion\": 1.0, \"number\": \"100\", \"language_full\": \"English\"}, {\"id\": \"468\", \"title\": \"Young Witness (NSW : 1915 - 1923)\", \"language\": \"en\", \"proportion\": 1.0, \"number\": \"100\", \"language_full\": \"English\"}, {\"id\": \"47\", \"title\": \"Army News (Darwin, NT : 1941 - 1946)\", \"language\": \"en\", \"proportion\": 1.0, \"number\": \"100\", \"language_full\": \"English\"}, {\"id\": \"63\", \"title\": \"Centralian Advocate (Alice Springs, NT : 1947 - 1954)\", \"language\": \"en\", \"proportion\": 1.0, \"number\": \"100\", \"language_full\": \"English\"}, {\"id\": \"118\", \"title\": \"Moonta Herald and Northern Territory Gazette (NT : 1869)\", \"language\": \"en\", \"proportion\": 1.0, \"number\": \"45\", \"language_full\": \"English\"}, {\"id\": \"80\", \"title\": \"North Australian (Darwin, NT : 1883 - 1889)\", \"language\": \"en\", \"proportion\": 1.0, \"number\": \"100\", \"language_full\": \"English\"}, {\"id\": \"25\", \"title\": \"Northern Standard (Darwin, NT : 1921 - 1955)\", \"language\": \"en\", \"proportion\": 1.0, \"number\": \"100\", \"language_full\": \"English\"}, {\"id\": \"36\", \"title\": \"Northern Territory Times (Darwin, NT : 1927 - 1932)\", \"language\": \"en\", \"proportion\": 1.0, \"number\": \"100\", \"language_full\": \"English\"}, {\"id\": \"9\", \"title\": \"Northern Territory Times and Gazette (Darwin, NT : 1873 - 1927)\", \"language\": \"en\", \"proportion\": 1.0, \"number\": \"100\", \"language_full\": \"English\"}, {\"id\": \"111\", \"title\": \"The North Australian and Northern Territory Government Gazette (Darwin, NT : 1889 - 1890)\", \"language\": \"en\", \"proportion\": 1.0, \"number\": \"100\", \"language_full\": \"English\"}, {\"id\": \"1066\", \"title\": \"Balonne Beacon (St. George, Qld. : 1909 - 1954)\", \"language\": \"en\", \"proportion\": 1.0, \"number\": \"100\", \"language_full\": \"English\"}, {\"id\": \"899\", \"title\": \"Bowen Independent (Qld. : 1911 - 1954)\", \"language\": \"en\", \"proportion\": 1.0, \"number\": \"100\", \"language_full\": \"English\"}, {\"id\": \"1055\", \"title\": \"Brisbane Telegraph (Qld. : 1948 - 1954)\", \"language\": \"en\", \"proportion\": 0.98, \"number\": \"100\", \"language_full\": \"English\"}, {\"id\": \"1055\", \"title\": \"Brisbane Telegraph (Qld. : 1948 - 1954)\", \"language\": \"ja\", \"proportion\": 0.01, \"number\": \"100\", \"language_full\": \"Japanese\"}, {\"id\": \"1055\", \"title\": \"Brisbane Telegraph (Qld. : 1948 - 1954)\", \"language\": \"sn\", \"proportion\": 0.01, \"number\": \"100\", \"language_full\": \"Shona\"}, {\"id\": \"62\", \"title\": \"Cairns Morning Post (Qld. : 1907 - 1909)\", \"language\": \"en\", \"proportion\": 0.9897959183673469, \"number\": \"100\", \"language_full\": \"English\"}, {\"id\": \"62\", \"title\": \"Cairns Morning Post (Qld. : 1907 - 1909)\", \"language\": \"mt\", \"proportion\": 0.01020408163265306, \"number\": \"100\", \"language_full\": \"Maltese\"}, {\"id\": \"60\", \"title\": \"Cairns Post (Qld. : 1884 - 1893)\", \"language\": \"en\", \"proportion\": 1.0, \"number\": \"100\", \"language_full\": \"English\"}, {\"id\": \"61\", \"title\": \"Cairns Post (Qld. : 1909 - 1954)\", \"language\": \"en\", \"proportion\": 1.0, \"number\": \"100\", \"language_full\": \"English\"}, {\"id\": \"286\", \"title\": \"Chronicle and North Coast Advertiser (Qld. : 1903 - 1922)\", \"language\": \"en\", \"proportion\": 0.9489795918367347, \"number\": \"100\", \"language_full\": \"English\"}, {\"id\": \"286\", \"title\": \"Chronicle and North Coast Advertiser (Qld. : 1903 - 1922)\", \"language\": \"mt\", \"proportion\": 0.05102040816326531, \"number\": \"100\", \"language_full\": \"Maltese\"}, {\"id\": \"833\", \"title\": \"Cloncurry Advocate (Qld. : 1931 - 1953)\", \"language\": \"en\", \"proportion\": 1.0, \"number\": \"100\", \"language_full\": \"English\"}, {\"id\": \"837\", \"title\": \"Daily Mercury (Mackay, Qld. : 1906 - 1954)\", \"language\": \"en\", \"proportion\": 1.0, \"number\": \"100\", \"language_full\": \"English\"}, {\"id\": \"893\", \"title\": \"Daily Standard (Brisbane, Qld. : 1912 - 1936)\", \"language\": \"en\", \"proportion\": 0.9897959183673469, \"number\": \"100\", \"language_full\": \"English\"}, {\"id\": \"893\", \"title\": \"Daily Standard (Brisbane, Qld. : 1912 - 1936)\", \"language\": \"sv\", \"proportion\": 0.01020408163265306, \"number\": \"100\", \"language_full\": \"Swedish\"}, {\"id\": \"1062\", \"title\": \"Dalby Herald and Western Queensland Advertiser (Qld. : 1866 - 1879)\", \"language\": \"en\", \"proportion\": 1.0, \"number\": \"100\", \"language_full\": \"English\"}, {\"id\": \"834\", \"title\": \"Darling Downs Gazette (Qld. : 1881 - 1922)\", \"language\": \"en\", \"proportion\": 1.0, \"number\": \"100\", \"language_full\": \"English\"}, {\"id\": \"852\", \"title\": \"Dayboro Times and Moreton Mail (Qld. : 1937 - 1940; 1945 - 1954)\", \"language\": \"en\", \"proportion\": 1.0, \"number\": \"100\", \"language_full\": \"English\"}, {\"id\": \"1103\", \"title\": \"Geraldton Advocate and Johnstone River Guardian (Qld. : 1895 - 1896)\", \"language\": \"en\", \"proportion\": 0.9479166666666666, \"number\": \"100\", \"language_full\": \"English\"}, {\"id\": \"1103\", \"title\": \"Geraldton Advocate and Johnstone River Guardian (Qld. : 1895 - 1896)\", \"language\": \"mt\", \"proportion\": 0.052083333333333336, \"number\": \"100\", \"language_full\": \"Maltese\"}, {\"id\": \"839\", \"title\": \"Gympie Times and Mary River Mining Gazette (Qld. : 1868 - 1919)\", \"language\": \"en\", \"proportion\": 1.0, \"number\": \"100\", \"language_full\": \"English\"}, {\"id\": \"851\", \"title\": \"Humpybong Weekly and Advertiser (Redcliffe, Qld. : 1927 - 1932)\", \"language\": \"en\", \"proportion\": 1.0, \"number\": \"100\", \"language_full\": \"English\"}, {\"id\": \"376\", \"title\": \"Ipswich Herald and General Advertiser (Qld. : 1861)\", \"language\": \"en\", \"proportion\": 1.0, \"number\": \"100\", \"language_full\": \"English\"}, {\"id\": \"1059\", \"title\": \"Johnstone River Advocate (Geraldton, Qld. : 1906 - 1908)\", \"language\": \"en\", \"proportion\": 1.0, \"number\": \"100\", \"language_full\": \"English\"}, {\"id\": \"1060\", \"title\": \"Johnstone River Advocate and Innisfail News (Qld. : 1928 - 1941)\", \"language\": \"en\", \"proportion\": 1.0, \"number\": \"100\", \"language_full\": \"English\"}, {\"id\": \"842\", \"title\": \"Logan and Albert Advocate (Qld. : 1893 - 1900)\", \"language\": \"en\", \"proportion\": 1.0, \"number\": \"53\", \"language_full\": \"English\"}, {\"id\": \"843\", \"title\": \"Logan and Albert Bulletin (Southport, Qld. : 1896 - 1901; 1909; 1921; 1922; 1928)\", \"language\": \"en\", \"proportion\": 1.0, \"number\": \"100\", \"language_full\": \"English\"}, {\"id\": \"850\", \"title\": \"Logan Witness (Beenleigh, Qld. : 1878 - 1893)\", \"language\": \"en\", \"proportion\": 1.0, \"number\": \"100\", \"language_full\": \"English\"}, {\"id\": \"836\", \"title\": \"Mackay Mercury (Qld. : 1887 - 1905)\", \"language\": \"en\", \"proportion\": 1.0, \"number\": \"100\", \"language_full\": \"English\"}, {\"id\": \"835\", \"title\": \"Mackay Mercury and South Kennedy Advertiser (Qld. : 1867 - 1887)\", \"language\": \"en\", \"proportion\": 0.9896907216494846, \"number\": \"100\", \"language_full\": \"English\"}, {\"id\": \"835\", \"title\": \"Mackay Mercury and South Kennedy Advertiser (Qld. : 1867 - 1887)\", \"language\": \"mt\", \"proportion\": 0.010309278350515464, \"number\": \"100\", \"language_full\": \"Maltese\"}, {\"id\": \"732\", \"title\": \"Maryborough Chronicle (Qld. : 1947 - 1954)\", \"language\": \"en\", \"proportion\": 0.9897959183673469, \"number\": \"100\", \"language_full\": \"English\"}, {\"id\": \"732\", \"title\": \"Maryborough Chronicle (Qld. : 1947 - 1954)\", \"language\": \"mt\", \"proportion\": 0.01020408163265306, \"number\": \"100\", \"language_full\": \"Maltese\"}, {\"id\": \"731\", \"title\": \"Maryborough Chronicle, Wide Bay and Burnett Advertiser (Qld. : 1860 - 1947)\", \"language\": \"en\", \"proportion\": 1.0, \"number\": \"100\", \"language_full\": \"English\"}, {\"id\": \"1298\", \"title\": \"Moreton Mail (Qld. : 1886 - 1899, 1930 - 1935)\", \"language\": \"en\", \"proportion\": 1.0, \"number\": \"100\", \"language_full\": \"English\"}, {\"id\": \"77\", \"title\": \"Morning Bulletin (Rockhampton, Qld. : 1878 - 1954)\", \"language\": \"en\", \"proportion\": 1.0, \"number\": \"100\", \"language_full\": \"English\"}, {\"id\": \"79\", \"title\": \"Morning Post (Cairns, Qld. : 1897 - 1907)\", \"language\": \"en\", \"proportion\": 1.0, \"number\": \"100\", \"language_full\": \"English\"}, {\"id\": \"106\", \"title\": \"Nambour Chronicle and North Coast Advertiser (Qld. : 1922 - 1954)\", \"language\": \"en\", \"proportion\": 0.9583333333333334, \"number\": \"100\", \"language_full\": \"English\"}, {\"id\": \"106\", \"title\": \"Nambour Chronicle and North Coast Advertiser (Qld. : 1922 - 1954)\", \"language\": \"mt\", \"proportion\": 0.041666666666666664, \"number\": \"100\", \"language_full\": \"Maltese\"}, {\"id\": \"838\", \"title\": \"Nashville Times, Gympie and Mary River Mining Gazette (Qld. : 1868)\", \"language\": \"en\", \"proportion\": 1.0, \"number\": \"100\", \"language_full\": \"English\"}, {\"id\": \"678\", \"title\": \"National Leader (Brisbane, Qld. : 1916 - 1918)\", \"language\": \"en\", \"proportion\": 1.0, \"number\": \"100\", \"language_full\": \"English\"}, {\"id\": \"1673\", \"title\": \"Noosa Advocate (Qld. : 1911 - 1929)\", \"language\": \"en\", \"proportion\": 1.0, \"number\": \"100\", \"language_full\": \"English\"}, {\"id\": \"1674\", \"title\": \"Noosa Advocate and Cooroora Advertiser (Qld. : 1929 - 1934)\", \"language\": \"en\", \"proportion\": 0.9444444444444444, \"number\": \"100\", \"language_full\": \"English\"}, {\"id\": \"1674\", \"title\": \"Noosa Advocate and Cooroora Advertiser (Qld. : 1929 - 1934)\", \"language\": \"mt\", \"proportion\": 0.03333333333333333, \"number\": \"100\", \"language_full\": \"Maltese\"}, {\"id\": \"1674\", \"title\": \"Noosa Advocate and Cooroora Advertiser (Qld. : 1929 - 1934)\", \"language\": \"ja\", \"proportion\": 0.011111111111111112, \"number\": \"100\", \"language_full\": \"Japanese\"}, {\"id\": \"1674\", \"title\": \"Noosa Advocate and Cooroora Advertiser (Qld. : 1929 - 1934)\", \"language\": \"mg\", \"proportion\": 0.011111111111111112, \"number\": \"100\", \"language_full\": \"Malagasy\"}, {\"id\": \"1675\", \"title\": \"Noosa News (Qld. : 1968 - 1974)\", \"language\": \"en\", \"proportion\": 1.0, \"number\": \"100\", \"language_full\": \"English\"}, {\"id\": \"263\", \"title\": \"North Australian and Queensland General Advertiser (Ipswich, Qld. : 1862 - 1863)\", \"language\": \"en\", \"proportion\": 0.9797979797979798, \"number\": \"100\", \"language_full\": \"English\"}, {\"id\": \"263\", \"title\": \"North Australian and Queensland General Advertiser (Ipswich, Qld. : 1862 - 1863)\", \"language\": \"mt\", \"proportion\": 0.020202020202020204, \"number\": \"100\", \"language_full\": \"Maltese\"}, {\"id\": \"1068\", \"title\": \"Northern Argus (Rockhampton, Qld. : 1865 - 1874)\", \"language\": \"en\", \"proportion\": 1.0, \"number\": \"100\", \"language_full\": \"English\"}, {\"id\": \"900\", \"title\": \"Pittsworth Sentinel (Qld. : 1919 - 1954)\", \"language\": \"en\", \"proportion\": 1.0, \"number\": \"100\", \"language_full\": \"English\"}, {\"id\": \"379\", \"title\": \"Queensland Country Life (Qld. : 1900 - 1954)\", \"language\": \"en\", \"proportion\": 1.0, \"number\": \"100\", \"language_full\": \"English\"}, {\"id\": \"338\", \"title\": \"Queensland Figaro (Brisbane, Qld. : 1883 - 1885)\", \"language\": \"en\", \"proportion\": 1.0, \"number\": \"100\", \"language_full\": \"English\"}, {\"id\": \"336\", \"title\": \"Queensland Figaro (Brisbane, Qld. : 1901 - 1936)\", \"language\": \"en\", \"proportion\": 1.0, \"number\": \"100\", \"language_full\": \"English\"}, {\"id\": \"337\", \"title\": \"Queensland Figaro and Punch (Brisbane, Qld. : 1885 - 1889)\", \"language\": \"en\", \"proportion\": 1.0, \"number\": \"100\", \"language_full\": \"English\"}, {\"id\": \"378\", \"title\": \"Queensland Times (Ipswich, Qld. : 1909 - 1954)\", \"language\": \"en\", \"proportion\": 1.0, \"number\": \"100\", \"language_full\": \"English\"}, {\"id\": \"377\", \"title\": \"Queensland Times, Ipswich Herald and General Advertiser (Qld. : 1861 - 1908)\", \"language\": \"en\", \"proportion\": 0.9886363636363636, \"number\": \"100\", \"language_full\": \"English\"}, {\"id\": \"377\", \"title\": \"Queensland Times, Ipswich Herald and General Advertiser (Qld. : 1861 - 1908)\", \"language\": \"mt\", \"proportion\": 0.011363636363636364, \"number\": \"100\", \"language_full\": \"Maltese\"}, {\"id\": \"91\", \"title\": \"Rockhampton Bulletin (Qld. : 1871 - 1878)\", \"language\": \"en\", \"proportion\": 0.9887640449438202, \"number\": \"100\", \"language_full\": \"English\"}, {\"id\": \"91\", \"title\": \"Rockhampton Bulletin (Qld. : 1871 - 1878)\", \"language\": \"it\", \"proportion\": 0.011235955056179775, \"number\": \"100\", \"language_full\": \"Italian\"}, {\"id\": \"92\", \"title\": \"Rockhampton Bulletin and Central Queensland Advertiser (Qld. : 1861 - 1871)\", \"language\": \"en\", \"proportion\": 0.9578947368421052, \"number\": \"100\", \"language_full\": \"English\"}, {\"id\": \"92\", \"title\": \"Rockhampton Bulletin and Central Queensland Advertiser (Qld. : 1861 - 1871)\", \"language\": \"mt\", \"proportion\": 0.042105263157894736, \"number\": \"100\", \"language_full\": \"Maltese\"}, {\"id\": \"672\", \"title\": \"South Coast Bulletin (Southport, Qld. : 1929 - 1954)\", \"language\": \"en\", \"proportion\": 1.0, \"number\": \"100\", \"language_full\": \"English\"}, {\"id\": \"1211\", \"title\": \"South Coast News (Southport, Qld. : 1952 - 1954)\", \"language\": \"en\", \"proportion\": 1.0, \"number\": \"100\", \"language_full\": \"English\"}, {\"id\": \"1212\", \"title\": \"Southern Queensland Bulletin (Southport, Qld. : 1888 - 1891)\", \"language\": \"en\", \"proportion\": 0.98989898989899, \"number\": \"100\", \"language_full\": \"English\"}, {\"id\": \"1212\", \"title\": \"Southern Queensland Bulletin (Southport, Qld. : 1888 - 1891)\", \"language\": \"lv\", \"proportion\": 0.010101010101010102, \"number\": \"100\", \"language_full\": \"Latvian\"}, {\"id\": \"1209\", \"title\": \"Southport and Nerang Bulletin (Qld. : 1893)\", \"language\": \"en\", \"proportion\": 1.0, \"number\": \"30\", \"language_full\": \"English\"}, {\"id\": \"375\", \"title\": \"Sunday Mail (Brisbane, Qld. : 1926 - 1954)\", \"language\": \"en\", \"proportion\": 1.0, \"number\": \"100\", \"language_full\": \"English\"}, {\"id\": \"1064\", \"title\": \"The Beaudesert Times (Qld. : 1908 - 1954)\", \"language\": \"en\", \"proportion\": 1.0, \"number\": \"100\", \"language_full\": \"English\"}, {\"id\": \"1208\", \"title\": \"The Border Star (Coolangatta, Qld. : 1929 - 1942)\", \"language\": \"en\", \"proportion\": 1.0, \"number\": \"100\", \"language_full\": \"English\"}, {\"id\": \"16\", \"title\": \"The Brisbane Courier (Qld. : 1864 - 1933)\", \"language\": \"en\", \"proportion\": 1.0, \"number\": \"100\", \"language_full\": \"English\"}, {\"id\": \"1071\", \"title\": \"The Bundaberg Mail (Qld. : 1917 - 1925)\", \"language\": \"en\", \"proportion\": 1.0, \"number\": \"100\", \"language_full\": \"English\"}, {\"id\": \"1070\", \"title\": \"The Bundaberg Mail and Burnett Advertiser (Qld. : 1892 - 1917)\", \"language\": \"en\", \"proportion\": 1.0, \"number\": \"100\", \"language_full\": \"English\"}, {\"id\": \"186\", \"title\": \"The Capricornian (Rockhampton, Qld. : 1875 - 1929)\", \"language\": \"en\", \"proportion\": 1.0, \"number\": \"100\", \"language_full\": \"English\"}, {\"id\": \"1578\", \"title\": \"The Catholic Advocate (Brisbane, Qld. : 1911 - 1934; 1936 - 1938)\", \"language\": \"en\", \"proportion\": 0.979381443298969, \"number\": \"100\", \"language_full\": \"English\"}, {\"id\": \"1578\", \"title\": \"The Catholic Advocate (Brisbane, Qld. : 1911 - 1934; 1936 - 1938)\", \"language\": \"bg\", \"proportion\": 0.010309278350515464, \"number\": \"100\", \"language_full\": \"Bulgarian\"}, {\"id\": \"1578\", \"title\": \"The Catholic Advocate (Brisbane, Qld. : 1911 - 1934; 1936 - 1938)\", \"language\": \"lb\", \"proportion\": 0.010309278350515464, \"number\": \"100\", \"language_full\": \"Luxembourgish\"}, {\"id\": \"187\", \"title\": \"The Central Queensland Herald (Rockhampton, Qld. : 1930 - 1956)\", \"language\": \"en\", \"proportion\": 0.9896907216494846, \"number\": \"100\", \"language_full\": \"English\"}, {\"id\": \"187\", \"title\": \"The Central Queensland Herald (Rockhampton, Qld. : 1930 - 1956)\", \"language\": \"mt\", \"proportion\": 0.010309278350515464, \"number\": \"100\", \"language_full\": \"Maltese\"}, {\"id\": \"340\", \"title\": \"The Charleville Courier (Qld. : 1896 - 1898)\", \"language\": \"en\", \"proportion\": 1.0, \"number\": \"100\", \"language_full\": \"English\"}, {\"id\": \"274\", \"title\": \"The Charleville Times (Brisbane, Qld. : 1896 - 1954)\", \"language\": \"en\", \"proportion\": 1.0, \"number\": \"100\", \"language_full\": \"English\"}, {\"id\": \"1207\", \"title\": \"The Coolangatta Chronicle (Qld. : 1926)\", \"language\": \"en\", \"proportion\": 0.9565217391304348, \"number\": \"26\", \"language_full\": \"English\"}, {\"id\": \"1207\", \"title\": \"The Coolangatta Chronicle (Qld. : 1926)\", \"language\": \"mt\", \"proportion\": 0.043478260869565216, \"number\": \"26\", \"language_full\": \"Maltese\"}, {\"id\": \"15\", \"title\": \"The Courier (Brisbane, Qld. : 1861 - 1864)\", \"language\": \"en\", \"proportion\": 1.0, \"number\": \"100\", \"language_full\": \"English\"}, {\"id\": \"12\", \"title\": \"The Courier-Mail (Brisbane, Qld. : 1933 - 1954)\", \"language\": \"en\", \"proportion\": 0.99, \"number\": \"100\", \"language_full\": \"English\"}, {\"id\": \"12\", \"title\": \"The Courier-Mail (Brisbane, Qld. : 1933 - 1954)\", \"language\": \"da\", \"proportion\": 0.01, \"number\": \"100\", \"language_full\": \"Danish\"}, {\"id\": \"1058\", \"title\": \"The Daily Mail (Brisbane, Qld. : 1903; 1916 - 1926)\", \"language\": \"en\", \"proportion\": 1.0, \"number\": \"100\", \"language_full\": \"English\"}, {\"id\": \"1069\", \"title\": \"The Daily Northern Argus (Rockhampton, Qld. : 1875 - 1896)\", \"language\": \"en\", \"proportion\": 1.0, \"number\": \"100\", \"language_full\": \"English\"}, {\"id\": \"1063\", \"title\": \"The Dalby Herald (Qld. : 1910 - 1954)\", \"language\": \"en\", \"proportion\": 1.0, \"number\": \"100\", \"language_full\": \"English\"}, {\"id\": \"257\", \"title\": \"The Darling Downs Gazette and General Advertiser (Toowoomba, Qld. : 1858 - 1880)\", \"language\": \"en\", \"proportion\": 1.0, \"number\": \"100\", \"language_full\": \"English\"}, {\"id\": \"1061\", \"title\": \"The Evening Advocate (Innisfail, Qld. : 1941 - 1954)\", \"language\": \"en\", \"proportion\": 1.0, \"number\": \"100\", \"language_full\": \"English\"}, {\"id\": \"943\", \"title\": \"The Evening News (Rockhampton, Qld. : 1924 - 1941)\", \"language\": \"en\", \"proportion\": 1.0, \"number\": \"100\", \"language_full\": \"English\"}, {\"id\": \"1067\", \"title\": \"The Evening Telegraph (Charters Towers, Qld. : 1901 - 1921)\", \"language\": \"en\", \"proportion\": 1.0, \"number\": \"100\", \"language_full\": \"English\"}, {\"id\": \"679\", \"title\": \"The Leader (Brisbane, Qld. : 1918 - 1919)\", \"language\": \"en\", \"proportion\": 1.0, \"number\": \"100\", \"language_full\": \"English\"}, {\"id\": \"102\", \"title\": \"The Longreach Leader (Qld. : 1923 - 1954)\", \"language\": \"en\", \"proportion\": 1.0, \"number\": \"100\", \"language_full\": \"English\"}, {\"id\": \"14\", \"title\": \"The Moreton Bay Courier (Brisbane, Qld. : 1846 - 1861)\", \"language\": \"en\", \"proportion\": 1.0, \"number\": \"100\", \"language_full\": \"English\"}, {\"id\": \"1800\", \"title\": \"The Nanango News (Qld. : 1912 - 1913; 1920; 1922)\", \"language\": \"en\", \"proportion\": 1.0, \"number\": \"100\", \"language_full\": \"English\"}, {\"id\": \"264\", \"title\": \"The North Australian (Brisbane, Qld. : 1863 - 1865)\", \"language\": \"en\", \"proportion\": 1.0, \"number\": \"100\", \"language_full\": \"English\"}, {\"id\": \"262\", \"title\": \"The North Australian, Ipswich and General Advertiser (Ipswich, Qld. : 1856 - 1862)\", \"language\": \"en\", \"proportion\": 0.9895833333333334, \"number\": \"100\", \"language_full\": \"English\"}, {\"id\": \"262\", \"title\": \"The North Australian, Ipswich and General Advertiser (Ipswich, Qld. : 1856 - 1862)\", \"language\": \"mt\", \"proportion\": 0.010416666666666666, \"number\": \"100\", \"language_full\": \"Maltese\"}, {\"id\": \"269\", \"title\": \"The North Queensland Register (Townsville, Qld. : 1892 - 1905)\", \"language\": \"en\", \"proportion\": 1.0, \"number\": \"100\", \"language_full\": \"English\"}, {\"id\": \"733\", \"title\": \"The Northern Herald (Cairns, Qld. : 1913 - 1939)\", \"language\": \"en\", \"proportion\": 1.0, \"number\": \"100\", \"language_full\": \"English\"}, {\"id\": \"258\", \"title\": \"The Northern Miner (Charters Towers, Qld. : 1874 - 1954)\", \"language\": \"en\", \"proportion\": 1.0, \"number\": \"100\", \"language_full\": \"English\"}, {\"id\": \"268\", \"title\": \"The Northern Mining Register (Charters Towers, Qld. : 1891 - 1892)\", \"language\": \"en\", \"proportion\": 1.0, \"number\": \"100\", \"language_full\": \"English\"}, {\"id\": \"1151\", \"title\": \"The Northern Sportsman (Innisfail, Qld. : 1928)\", \"language\": \"en\", \"proportion\": 0.9666666666666667, \"number\": \"38\", \"language_full\": \"English\"}, {\"id\": \"1151\", \"title\": \"The Northern Sportsman (Innisfail, Qld. : 1928)\", \"language\": \"so\", \"proportion\": 0.03333333333333333, \"number\": \"38\", \"language_full\": \"Somali\"}, {\"id\": \"1213\", \"title\": \"The Proserpine Guardian (Qld. : 1935 - 1954)\", \"language\": \"en\", \"proportion\": 1.0, \"number\": \"100\", \"language_full\": \"English\"}, {\"id\": \"42\", \"title\": \"The Queenslander (Brisbane, Qld. : 1866 - 1939)\", \"language\": \"en\", \"proportion\": 1.0, \"number\": \"100\", \"language_full\": \"English\"}, {\"id\": \"1210\", \"title\": \"The South Coast Express (Surfers Paradise, Qld. : 1949 - 1951)\", \"language\": \"en\", \"proportion\": 1.0, \"number\": \"100\", \"language_full\": \"English\"}, {\"id\": \"1065\", \"title\": \"The St. George Standard and Balonne Advertiser (Qld. : 1878 - 1879; 1902 - 1904)\", \"language\": \"en\", \"proportion\": 1.0, \"number\": \"100\", \"language_full\": \"English\"}, {\"id\": \"840\", \"title\": \"The Telegraph (Brisbane, Qld. : 1872 - 1947)\", \"language\": \"en\", \"proportion\": 1.0, \"number\": \"100\", \"language_full\": \"English\"}, {\"id\": \"1056\", \"title\": \"The Toowoomba Chronicle and Queensland Advertiser (Qld. : 1861 - 1875)\", \"language\": \"en\", \"proportion\": 1.0, \"number\": \"100\", \"language_full\": \"English\"}, {\"id\": \"891\", \"title\": \"The Week (Brisbane, Qld. : 1876 - 1934)\", \"language\": \"en\", \"proportion\": 1.0, \"number\": \"100\", \"language_full\": \"English\"}, {\"id\": \"267\", \"title\": \"The Western Champion (Barcaldine, Qld. : 1922 - 1937)\", \"language\": \"en\", \"proportion\": 1.0, \"number\": \"100\", \"language_full\": \"English\"}, {\"id\": \"265\", \"title\": \"The Western Champion (Blackall/Barcaldine, Qld. : 1879 - 1891)\", \"language\": \"en\", \"proportion\": 1.0, \"number\": \"100\", \"language_full\": \"English\"}, {\"id\": \"266\", \"title\": \"The Western Champion and General Advertiser for the Central-Western Districts (Barcaldine, Qld. : 1892 - 1922)\", \"language\": \"en\", \"proportion\": 1.0, \"number\": \"100\", \"language_full\": \"English\"}, {\"id\": \"1482\", \"title\": \"Toowoomba Chronicle (Qld. : 1917 - 1922)\", \"language\": \"en\", \"proportion\": 1.0, \"number\": \"100\", \"language_full\": \"English\"}, {\"id\": \"1481\", \"title\": \"Toowoomba Chronicle and Darling Downs Gazette (Qld. : 1922 - 1933)\", \"language\": \"en\", \"proportion\": 1.0, \"number\": \"100\", \"language_full\": \"English\"}, {\"id\": \"1057\", \"title\": \"Toowoomba Chronicle and Darling Downs General Advertiser (Qld. : 1875 - 1902)\", \"language\": \"en\", \"proportion\": 1.0, \"number\": \"100\", \"language_full\": \"English\"}, {\"id\": \"1489\", \"title\": \"Torres News (Thursday Island, Qld. : 1957-2015)\", \"language\": \"en\", \"proportion\": 1.0, \"number\": \"100\", \"language_full\": \"English\"}, {\"id\": \"97\", \"title\": \"Townsville Daily Bulletin (Qld. : 1907 - 1954)\", \"language\": \"en\", \"proportion\": 1.0, \"number\": \"100\", \"language_full\": \"English\"}, {\"id\": \"942\", \"title\": \"Truth (Brisbane, Qld. : 1900 - 1954)\", \"language\": \"en\", \"proportion\": 0.99, \"number\": \"100\", \"language_full\": \"English\"}, {\"id\": \"942\", \"title\": \"Truth (Brisbane, Qld. : 1900 - 1954)\", \"language\": \"mt\", \"proportion\": 0.01, \"number\": \"100\", \"language_full\": \"Maltese\"}, {\"id\": \"261\", \"title\": \"Warwick Argus (Qld. : 1879 - 1901)\", \"language\": \"en\", \"proportion\": 1.0, \"number\": \"100\", \"language_full\": \"English\"}, {\"id\": \"260\", \"title\": \"Warwick Argus and Tenterfield Chronicle (Qld. : 1866 - 1879)\", \"language\": \"en\", \"proportion\": 1.0, \"number\": \"100\", \"language_full\": \"English\"}, {\"id\": \"892\", \"title\": \"Warwick Daily News (Qld. : 1919 -1954)\", \"language\": \"en\", \"proportion\": 0.8641975308641975, \"number\": \"100\", \"language_full\": \"English\"}, {\"id\": \"892\", \"title\": \"Warwick Daily News (Qld. : 1919 -1954)\", \"language\": \"mt\", \"proportion\": 0.1111111111111111, \"number\": \"100\", \"language_full\": \"Maltese\"}, {\"id\": \"892\", \"title\": \"Warwick Daily News (Qld. : 1919 -1954)\", \"language\": \"so\", \"proportion\": 0.012345679012345678, \"number\": \"100\", \"language_full\": \"Somali\"}, {\"id\": \"892\", \"title\": \"Warwick Daily News (Qld. : 1919 -1954)\", \"language\": \"et\", \"proportion\": 0.012345679012345678, \"number\": \"100\", \"language_full\": \"Estonian\"}, {\"id\": \"259\", \"title\": \"Warwick Examiner and Times (Qld. : 1867 - 1919)\", \"language\": \"en\", \"proportion\": 1.0, \"number\": \"100\", \"language_full\": \"English\"}, {\"id\": \"408\", \"title\": \"Western Star (Roma) (Toowoomba, Qld. : 1948 - 1954)\", \"language\": \"en\", \"proportion\": 1.0, \"number\": \"100\", \"language_full\": \"English\"}, {\"id\": \"374\", \"title\": \"Western Star and Roma Advertiser (Qld. : 1875 - 1948)\", \"language\": \"en\", \"proportion\": 1.0, \"number\": \"100\", \"language_full\": \"English\"}, {\"id\": \"191\", \"title\": \"Worker (Brisbane, Qld. : 1890 - 1955)\", \"language\": \"en\", \"proportion\": 0.99, \"number\": \"100\", \"language_full\": \"English\"}, {\"id\": \"191\", \"title\": \"Worker (Brisbane, Qld. : 1890 - 1955)\", \"language\": \"sm\", \"proportion\": 0.01, \"number\": \"100\", \"language_full\": \"Samoan\"}, {\"id\": \"984\", \"title\": \"Adelaide Chronicle and South Australian Advertiser (SA : 1839 - 1840)\", \"language\": \"en\", \"proportion\": 1.0, \"number\": \"100\", \"language_full\": \"English\"}, {\"id\": \"986\", \"title\": \"Adelaide Chronicle and South Australian Literary Record (SA : 1840 - 1842)\", \"language\": \"en\", \"proportion\": 1.0, \"number\": \"100\", \"language_full\": \"English\"}, {\"id\": \"1336\", \"title\": \"Adelaide Independent and Cabinet of Amusement (SA : 1841)\", \"language\": \"en\", \"proportion\": 1.0, \"number\": \"100\", \"language_full\": \"English\"}, {\"id\": \"174\", \"title\": \"Adelaide Morning Chronicle (SA : 1852 - 1853)\", \"language\": \"en\", \"proportion\": 1.0, \"number\": \"100\", \"language_full\": \"English\"}, {\"id\": \"821\", \"title\": \"Adelaide Observer (SA : 1843 - 1904)\", \"language\": \"en\", \"proportion\": 0.9896907216494846, \"number\": \"100\", \"language_full\": \"English\"}, {\"id\": \"821\", \"title\": \"Adelaide Observer (SA : 1843 - 1904)\", \"language\": \"de\", \"proportion\": 0.010309278350515464, \"number\": \"100\", \"language_full\": \"German\"}, {\"id\": \"1100\", \"title\": \"Adelaide Times (SA : 1848 - 1858)\", \"language\": \"en\", \"proportion\": 0.9894736842105263, \"number\": \"100\", \"language_full\": \"English\"}, {\"id\": \"1100\", \"title\": \"Adelaide Times (SA : 1848 - 1858)\", \"language\": \"mt\", \"proportion\": 0.010526315789473684, \"number\": \"100\", \"language_full\": \"Maltese\"}, {\"id\": \"277\", \"title\": \"Adelaider Deutsche Zeitung (SA : 1851 - 1862)\", \"language\": \"de\", \"proportion\": 1.0, \"number\": \"100\", \"language_full\": \"German\"}, {\"id\": \"45\", \"title\": \"Advertiser and Register (Adelaide, SA : 1931)\", \"language\": \"en\", \"proportion\": 1.0, \"number\": \"100\", \"language_full\": \"English\"}, {\"id\": \"1332\", \"title\": \"Australasian Sketcher (Adelaide,SA : 1874 - 1885)\", \"language\": \"en\", \"proportion\": 1.0, \"number\": \"100\", \"language_full\": \"English\"}, {\"id\": \"1166\", \"title\": \"Australian Christian Commonwealth (SA : 1901 - 1940)\", \"language\": \"en\", \"proportion\": 1.0, \"number\": \"100\", \"language_full\": \"English\"}, {\"id\": \"1150\", \"title\": \"Australische Zeitung (Adelaide, SA : 1875 - 1916)\", \"language\": \"de\", \"proportion\": 1.0, \"number\": \"100\", \"language_full\": \"German\"}, {\"id\": \"1168\", \"title\": \"Blyth Agriculturist (SA : 1908 - 1954)\", \"language\": \"en\", \"proportion\": 1.0, \"number\": \"100\", \"language_full\": \"English\"}, {\"id\": \"1162\", \"title\": \"Border Chronicle (Bordertown, SA : 1908 - 1950)\", \"language\": \"en\", \"proportion\": 1.0, \"number\": \"100\", \"language_full\": \"English\"}, {\"id\": \"276\", \"title\": \"Border Watch (Mount Gambier, SA : 1861 - 1954)\", \"language\": \"en\", \"proportion\": 1.0, \"number\": \"100\", \"language_full\": \"English\"}, {\"id\": \"371\", \"title\": \"Bunyip (Gawler, SA : 1863 - 1954)\", \"language\": \"en\", \"proportion\": 1.0, \"number\": \"100\", \"language_full\": \"English\"}, {\"id\": \"59\", \"title\": \"Burra Record (SA : 1878 - 1954)\", \"language\": \"en\", \"proportion\": 1.0, \"number\": \"100\", \"language_full\": \"English\"}, {\"id\": \"1167\", \"title\": \"Christian Colonist (SA : 1878 - 1894)\", \"language\": \"en\", \"proportion\": 1.0, \"number\": \"100\", \"language_full\": \"English\"}, {\"id\": \"291\", \"title\": \"Chronicle (Adelaide, SA : 1895 - 1954)\", \"language\": \"en\", \"proportion\": 1.0, \"number\": \"100\", \"language_full\": \"English\"}, {\"id\": \"1161\", \"title\": \"Critic (Adelaide, SA : 1897-1924)\", \"language\": \"en\", \"proportion\": 1.0, \"number\": \"100\", \"language_full\": \"English\"}, {\"id\": \"395\", \"title\": \"Daily Herald (Adelaide, SA : 1910 - 1924)\", \"language\": \"en\", \"proportion\": 1.0, \"number\": \"100\", \"language_full\": \"English\"}, {\"id\": \"1708\", \"title\": \"Daylight (Adelaide, SA : 1919 - 1928)\", \"language\": \"en\", \"proportion\": 1.0, \"number\": \"100\", \"language_full\": \"English\"}, {\"id\": \"1577\", \"title\": \"Deutsche Zeitung fu\\u0308r Sud-Australien = German Times for South Australia (Tanunda, SA : 1851)\", \"language\": \"en\", \"proportion\": 0.1, \"number\": \"10\", \"language_full\": \"English\"}, {\"id\": \"1577\", \"title\": \"Deutsche Zeitung fu\\u0308r Sud-Australien = German Times for South Australia (Tanunda, SA : 1851)\", \"language\": \"de\", \"proportion\": 0.9, \"number\": \"10\", \"language_full\": \"German\"}, {\"id\": \"1576\", \"title\": \"Die Deutsche Post fu\\u0308r die Australischen Colonien = The German Australian Post (Adelaide, SA : 1848 - 1851)\", \"language\": \"de\", \"proportion\": 0.9895833333333334, \"number\": \"100\", \"language_full\": \"German\"}, {\"id\": \"1576\", \"title\": \"Die Deutsche Post fu\\u0308r die Australischen Colonien = The German Australian Post (Adelaide, SA : 1848 - 1851)\", \"language\": \"lb\", \"proportion\": 0.010416666666666666, \"number\": \"100\", \"language_full\": \"Luxembourgish\"}, {\"id\": \"966\", \"title\": \"Evening Journal (Adelaide, SA : 1869 - 1912)\", \"language\": \"en\", \"proportion\": 1.0, \"number\": \"100\", \"language_full\": \"English\"}, {\"id\": \"1337\", \"title\": \"Examiner (SA : 1853)\", \"language\": \"en\", \"proportion\": 1.0, \"number\": \"100\", \"language_full\": \"English\"}, {\"id\": \"1143\", \"title\": \"Eyre's Peninsula Tribune (Cowell, SA : 1910 - 1950)\", \"language\": \"en\", \"proportion\": 1.0, \"number\": \"100\", \"language_full\": \"English\"}, {\"id\": \"1146\", \"title\": \"Frearson's Monthly Illustrated Adelaide News (SA : 1880 - 1884)\", \"language\": \"en\", \"proportion\": 1.0, \"number\": \"100\", \"language_full\": \"English\"}, {\"id\": \"1338\", \"title\": \"Free Press (SA : 1895)\", \"language\": \"en\", \"proportion\": 1.0, \"number\": \"100\", \"language_full\": \"English\"}, {\"id\": \"898\", \"title\": \"Gadfly (Adelaide, SA : 1906 - 1909)\", \"language\": \"en\", \"proportion\": 1.0, \"number\": \"100\", \"language_full\": \"English\"}, {\"id\": \"1335\", \"title\": \"Gawler Standard (SA : 1878 - 1885)\", \"language\": \"en\", \"proportion\": 1.0, \"number\": \"100\", \"language_full\": \"English\"}, {\"id\": \"1334\", \"title\": \"Gawler Times (SA : 1869 - 1873)\", \"language\": \"en\", \"proportion\": 1.0, \"number\": \"100\", \"language_full\": \"English\"}, {\"id\": \"1169\", \"title\": \"Glenelg Guardian (SA : 1914 - 1936)\", \"language\": \"en\", \"proportion\": 1.0, \"number\": \"100\", \"language_full\": \"English\"}, {\"id\": \"1149\", \"title\": \"Harp and Southern Cross (Adelaide, SA : 1873 - 1875)\", \"language\": \"en\", \"proportion\": 1.0, \"number\": \"100\", \"language_full\": \"English\"}, {\"id\": \"396\", \"title\": \"Herald (Adelaide, SA : 1899 - 1910)\", \"language\": \"en\", \"proportion\": 1.0, \"number\": \"100\", \"language_full\": \"English\"}, {\"id\": \"1340\", \"title\": \"Illustrated Adelaide Post (SA : 1867 - 1874)\", \"language\": \"en\", \"proportion\": 1.0, \"number\": \"100\", \"language_full\": \"English\"}, {\"id\": \"398\", \"title\": \"Kapunda Herald (SA : 1878 - 1951)\", \"language\": \"en\", \"proportion\": 1.0, \"number\": \"100\", \"language_full\": \"English\"}, {\"id\": \"399\", \"title\": \"Kapunda Herald and Northern Intelligencer (SA : 1864 - 1878)\", \"language\": \"en\", \"proportion\": 1.0, \"number\": \"100\", \"language_full\": \"English\"}, {\"id\": \"1731\", \"title\": \"Kimba Dispatch (SA. : 1927 - 1941)\", \"language\": \"en\", \"proportion\": 1.0, \"number\": \"100\", \"language_full\": \"English\"}, {\"id\": \"926\", \"title\": \"Laura Standard and Crystal Brook Courier (SA : 1917 - 1948)\", \"language\": \"en\", \"proportion\": 1.0, \"number\": \"100\", \"language_full\": \"English\"}, {\"id\": \"822\", \"title\": \"Leader (Angaston, SA : 1918 - 1954)\", \"language\": \"en\", \"proportion\": 0.9797979797979798, \"number\": \"100\", \"language_full\": \"English\"}, {\"id\": \"822\", \"title\": \"Leader (Angaston, SA : 1918 - 1954)\", \"language\": \"mt\", \"proportion\": 0.020202020202020204, \"number\": \"100\", \"language_full\": \"Maltese\"}, {\"id\": \"1479\", \"title\": \"Messenger (Port Adelaide, SA : 1951 - 1954)\", \"language\": \"en\", \"proportion\": 1.0, \"number\": \"100\", \"language_full\": \"English\"}, {\"id\": \"400\", \"title\": \"Murray Pioneer (Renmark, SA : 1942 - 1950)\", \"language\": \"en\", \"proportion\": 1.0, \"number\": \"100\", \"language_full\": \"English\"}, {\"id\": \"401\", \"title\": \"Murray Pioneer and Australian River Record (Renmark, SA : 1913 - 1942)\", \"language\": \"en\", \"proportion\": 0.99, \"number\": \"100\", \"language_full\": \"English\"}, {\"id\": \"401\", \"title\": \"Murray Pioneer and Australian River Record (Renmark, SA : 1913 - 1942)\", \"language\": \"mt\", \"proportion\": 0.01, \"number\": \"100\", \"language_full\": \"Maltese\"}, {\"id\": \"1323\", \"title\": \"Nasza droga (Adelaide, SA : 1952 - 1954)\", \"language\": \"pl\", \"proportion\": 0.89, \"number\": \"100\", \"language_full\": \"Polish\"}, {\"id\": \"1323\", \"title\": \"Nasza droga (Adelaide, SA : 1952 - 1954)\", \"language\": \"en\", \"proportion\": 0.11, \"number\": \"100\", \"language_full\": \"English\"}, {\"id\": \"461\", \"title\": \"News (Adelaide, SA : 1923 - 1954)\", \"language\": \"en\", \"proportion\": 0.99, \"number\": \"100\", \"language_full\": \"English\"}, {\"id\": \"461\", \"title\": \"News (Adelaide, SA : 1923 - 1954)\", \"language\": \"cy\", \"proportion\": 0.01, \"number\": \"100\", \"language_full\": \"Welsh\"}, {\"id\": \"372\", \"title\": \"Northern Argus (Clare, SA : 1869 - 1954)\", \"language\": \"en\", \"proportion\": 1.0, \"number\": \"100\", \"language_full\": \"English\"}, {\"id\": \"1712\", \"title\": \"Northern District Times (North Adelaide, SA : 1937 - 1938)\", \"language\": \"en\", \"proportion\": 1.0, \"number\": \"100\", \"language_full\": \"English\"}, {\"id\": \"1341\", \"title\": \"Northern Suburbs Weekly (SA : 1952 - 1961)\", \"language\": \"en\", \"proportion\": 1.0, \"number\": \"100\", \"language_full\": \"English\"}, {\"id\": \"823\", \"title\": \"Observer (Adelaide, SA : 1905 - 1931)\", \"language\": \"en\", \"proportion\": 1.0, \"number\": \"100\", \"language_full\": \"English\"}, {\"id\": \"402\", \"title\": \"Petersburg Times (SA : 1887 - 1919)\", \"language\": \"en\", \"proportion\": 1.0, \"number\": \"100\", \"language_full\": \"English\"}, {\"id\": \"896\", \"title\": \"Pinnaroo and Border Times (SA : 1911 - 1954)\", \"language\": \"en\", \"proportion\": 1.0, \"number\": \"100\", \"language_full\": \"English\"}, {\"id\": \"897\", \"title\": \"Pinnaroo Country News (Lameroo, SA : 1908 - 1922)\", \"language\": \"en\", \"proportion\": 1.0, \"number\": \"100\", \"language_full\": \"English\"}, {\"id\": \"1304\", \"title\": \"Port Adelaide District Pictorial (SA : 1952 - 1954)\", \"language\": \"en\", \"proportion\": 1.0, \"number\": \"100\", \"language_full\": \"English\"}, {\"id\": \"964\", \"title\": \"Port Adelaide News (SA : 1878 - 1883)\", \"language\": \"en\", \"proportion\": 1.0, \"number\": \"100\", \"language_full\": \"English\"}, {\"id\": \"1163\", \"title\": \"Port Adelaide News (SA : 1904)\", \"language\": \"en\", \"proportion\": 1.0, \"number\": \"100\", \"language_full\": \"English\"}, {\"id\": \"1164\", \"title\": \"Port Adelaide News (SA :1913 - 1933)\", \"language\": \"en\", \"proportion\": 1.0, \"number\": \"100\", \"language_full\": \"English\"}, {\"id\": \"963\", \"title\": \"Port Adelaide News and Commercial and Shipping Gazette (SA : 1878)\", \"language\": \"en\", \"proportion\": 1.0, \"number\": \"100\", \"language_full\": \"English\"}, {\"id\": \"965\", \"title\": \"Port Adelaide News and Lefevre's Peninsula Advertiser (SA : 1883 - 1897)\", \"language\": \"en\", \"proportion\": 1.0, \"number\": \"100\", \"language_full\": \"English\"}, {\"id\": \"1478\", \"title\": \"Port Augusta and Stirling Illustrated News (SA : 1901)\", \"language\": \"en\", \"proportion\": 1.0, \"number\": \"86\", \"language_full\": \"English\"}, {\"id\": \"988\", \"title\": \"Port Augusta Dispatch (SA : 1877 - 1880)\", \"language\": \"en\", \"proportion\": 1.0, \"number\": \"100\", \"language_full\": \"English\"}, {\"id\": \"991\", \"title\": \"Port Augusta Dispatch (SA : 1884)\", \"language\": \"en\", \"proportion\": 1.0, \"number\": \"100\", \"language_full\": \"English\"}, {\"id\": \"990\", \"title\": \"Port Augusta Dispatch and Flinders' Advertiser (SA : 1880 - 1884)\", \"language\": \"en\", \"proportion\": 0.98989898989899, \"number\": \"100\", \"language_full\": \"English\"}, {\"id\": \"990\", \"title\": \"Port Augusta Dispatch and Flinders' Advertiser (SA : 1880 - 1884)\", \"language\": \"mt\", \"proportion\": 0.010101010101010102, \"number\": \"100\", \"language_full\": \"Maltese\"}, {\"id\": \"1485\", \"title\": \"Port Lincoln Herald (SA : 1839 - 1840)\", \"language\": \"en\", \"proportion\": 1.0, \"number\": \"22\", \"language_full\": \"English\"}, {\"id\": \"370\", \"title\": \"Port Lincoln Times (SA : 1927 - 1954)\", \"language\": \"en\", \"proportion\": 1.0, \"number\": \"100\", \"language_full\": \"English\"}, {\"id\": \"1700\", \"title\": \"Port Lincoln, Tumby and West Coast Recorder (SA : 1904 - 1909)\", \"language\": \"en\", \"proportion\": 1.0, \"number\": \"100\", \"language_full\": \"English\"}, {\"id\": \"349\", \"title\": \"Port Pirie Recorder (SA : 1918 - 1919)\", \"language\": \"en\", \"proportion\": 1.0, \"number\": \"100\", \"language_full\": \"English\"}, {\"id\": \"348\", \"title\": \"Port Pirie Recorder and North Western Mail (SA : 1898 - 1918)\", \"language\": \"en\", \"proportion\": 1.0, \"number\": \"100\", \"language_full\": \"English\"}, {\"id\": \"825\", \"title\": \"Quiz (Adelaide, SA : 1889 - 1890)\", \"language\": \"en\", \"proportion\": 1.0, \"number\": \"100\", \"language_full\": \"English\"}, {\"id\": \"841\", \"title\": \"Quiz (Adelaide, SA : 1900 - 1909)\", \"language\": \"en\", \"proportion\": 1.0, \"number\": \"100\", \"language_full\": \"English\"}, {\"id\": \"824\", \"title\": \"Quiz and the Lantern (Adelaide, SA : 1890 - 1900)\", \"language\": \"en\", \"proportion\": 1.0, \"number\": \"100\", \"language_full\": \"English\"}, {\"id\": \"1165\", \"title\": \"Quorn Mercury (SA : 1895 - 1954)\", \"language\": \"en\", \"proportion\": 1.0, \"number\": \"100\", \"language_full\": \"English\"}, {\"id\": \"347\", \"title\": \"Recorder (Port Pirie, SA : 1919 - 1954)\", \"language\": \"en\", \"proportion\": 1.0, \"number\": \"100\", \"language_full\": \"English\"}, {\"id\": \"403\", \"title\": \"Renmark Pioneer (SA : 1892 - 1913)\", \"language\": \"en\", \"proportion\": 1.0, \"number\": \"100\", \"language_full\": \"English\"}, {\"id\": \"968\", \"title\": \"Saturday Journal (Adelaide, SA : 1923 - 1929)\", \"language\": \"en\", \"proportion\": 1.0, \"number\": \"100\", \"language_full\": \"English\"}, {\"id\": \"1333\", \"title\": \"Saturday Mail (SA : 1912 - 1917)\", \"language\": \"en\", \"proportion\": 1.0, \"number\": \"100\", \"language_full\": \"English\"}, {\"id\": \"1306\", \"title\": \"Seaport News Review (SA : 1954)\", \"language\": \"en\", \"proportion\": 1.0, \"number\": \"100\", \"language_full\": \"English\"}, {\"id\": \"172\", \"title\": \"South Australian (Adelaide, SA : 1844 - 1851)\", \"language\": \"en\", \"proportion\": 0.968421052631579, \"number\": \"100\", \"language_full\": \"English\"}, {\"id\": \"172\", \"title\": \"South Australian (Adelaide, SA : 1844 - 1851)\", \"language\": \"ca\", \"proportion\": 0.021052631578947368, \"number\": \"100\", \"language_full\": \"Catalan\"}, {\"id\": \"172\", \"title\": \"South Australian (Adelaide, SA : 1844 - 1851)\", \"language\": \"mt\", \"proportion\": 0.010526315789473684, \"number\": \"100\", \"language_full\": \"Maltese\"}, {\"id\": \"290\", \"title\": \"South Australian Chronicle (Adelaide, SA : 1889 - 1895)\", \"language\": \"en\", \"proportion\": 1.0, \"number\": \"100\", \"language_full\": \"English\"}, {\"id\": \"288\", \"title\": \"South Australian Chronicle and Weekly Mail (Adelaide, SA : 1868 - 1881)\", \"language\": \"en\", \"proportion\": 1.0, \"number\": \"100\", \"language_full\": \"English\"}, {\"id\": \"1339\", \"title\": \"South Australian Free Press (SA : 1853 - 1854)\", \"language\": \"en\", \"proportion\": 1.0, \"number\": \"100\", \"language_full\": \"English\"}, {\"id\": \"40\", \"title\": \"South Australian Gazette and Colonial Register (Adelaide, SA : 1836 - 1839)\", \"language\": \"en\", \"proportion\": 1.0, \"number\": \"100\", \"language_full\": \"English\"}, {\"id\": \"1004\", \"title\": \"South Australian Gazette and Colonial Register (Adelaide, SA : 1845 - 1847)\", \"language\": \"en\", \"proportion\": 1.0, \"number\": \"100\", \"language_full\": \"English\"}, {\"id\": \"987\", \"title\": \"South Australian Gazette and Mining Journal (Adelaide, SA : 1847 - 1852)\", \"language\": \"en\", \"proportion\": 1.0, \"number\": \"100\", \"language_full\": \"English\"}, {\"id\": \"41\", \"title\": \"South Australian Register (Adelaide, SA : 1839 - 1900)\", \"language\": \"en\", \"proportion\": 0.98989898989899, \"number\": \"100\", \"language_full\": \"English\"}, {\"id\": \"41\", \"title\": \"South Australian Register (Adelaide, SA : 1839 - 1900)\", \"language\": \"fr\", \"proportion\": 0.010101010101010102, \"number\": \"100\", \"language_full\": \"French\"}, {\"id\": \"287\", \"title\": \"South Australian Weekly Chronicle (Adelaide, SA : 1858 - 1867)\", \"language\": \"en\", \"proportion\": 1.0, \"number\": \"100\", \"language_full\": \"English\"}, {\"id\": \"289\", \"title\": \"South Australian Weekly Chronicle (Adelaide, SA : 1881 - 1889)\", \"language\": \"en\", \"proportion\": 1.0, \"number\": \"100\", \"language_full\": \"English\"}, {\"id\": \"373\", \"title\": \"Southern Argus (Port Elliot, SA : 1866 - 1954)\", \"language\": \"en\", \"proportion\": 1.0, \"number\": \"100\", \"language_full\": \"English\"}, {\"id\": \"171\", \"title\": \"Southern Australian (Adelaide, SA : 1838 - 1844)\", \"language\": \"en\", \"proportion\": 1.0, \"number\": \"100\", \"language_full\": \"English\"}, {\"id\": \"826\", \"title\": \"Southern Cross (Adelaide, SA : 1889 - 1954)\", \"language\": \"en\", \"proportion\": 1.0, \"number\": \"100\", \"language_full\": \"English\"}, {\"id\": \"1170\", \"title\": \"Sport (Adelaide, SA : 1911 - 1948)\", \"language\": \"en\", \"proportion\": 1.0, \"number\": \"100\", \"language_full\": \"English\"}, {\"id\": \"278\", \"title\": \"S\\u00fcd Australische Zeitung (Tanunda and Adelaide, SA : 1860 - 1874)\", \"language\": \"de\", \"proportion\": 0.9896907216494846, \"number\": \"100\", \"language_full\": \"German\"}, {\"id\": \"278\", \"title\": \"S\\u00fcd Australische Zeitung (Tanunda and Adelaide, SA : 1860 - 1874)\", \"language\": \"nl\", \"proportion\": 0.010309278350515464, \"number\": \"100\", \"language_full\": \"Dutch\"}, {\"id\": \"314\", \"title\": \"Suedaustralische Zeitung (Adelaide, SA : 1850 - 1851)\", \"language\": \"de\", \"proportion\": 0.8888888888888888, \"number\": \"18\", \"language_full\": \"German\"}, {\"id\": \"314\", \"title\": \"Suedaustralische Zeitung (Adelaide, SA : 1850 - 1851)\", \"language\": \"en\", \"proportion\": 0.1111111111111111, \"number\": \"18\", \"language_full\": \"English\"}, {\"id\": \"1092\", \"title\": \"The Adelaide Express (SA : 1863 - 1866)\", \"language\": \"en\", \"proportion\": 1.0, \"number\": \"100\", \"language_full\": \"English\"}, {\"id\": \"34\", \"title\": \"The Advertiser (Adelaide, SA : 1889 - 1931)\", \"language\": \"en\", \"proportion\": 0.5138888888888888, \"number\": \"100\", \"language_full\": \"English\"}, {\"id\": \"34\", \"title\": \"The Advertiser (Adelaide, SA : 1889 - 1931)\", \"language\": \"mt\", \"proportion\": 0.4861111111111111, \"number\": \"100\", \"language_full\": \"Maltese\"}, {\"id\": \"44\", \"title\": \"The Advertiser (Adelaide, SA : 1931 - 1954)\", \"language\": \"en\", \"proportion\": 1.0, \"number\": \"100\", \"language_full\": \"English\"}, {\"id\": \"1144\", \"title\": \"The Areas' Express (Booyoolee, SA : 1877 - 1948)\", \"language\": \"en\", \"proportion\": 1.0, \"number\": \"100\", \"language_full\": \"English\"}, {\"id\": \"1097\", \"title\": \"The Central Advocate (Balaklava, SA : 1903 - 1909)\", \"language\": \"en\", \"proportion\": 1.0, \"number\": \"100\", \"language_full\": \"English\"}, {\"id\": \"1732\", \"title\": \"The Challenger (Port Lincoln, SA. : 1932 - 1934)\", \"language\": \"en\", \"proportion\": 1.0, \"number\": \"100\", \"language_full\": \"English\"}, {\"id\": \"1305\", \"title\": \"The Citizen (Port Adelaide, SA : 1938-1940)\", \"language\": \"en\", \"proportion\": 1.0, \"number\": \"100\", \"language_full\": \"English\"}, {\"id\": \"1680\", \"title\": \"The Coromandel (Blackwood, SA : 1945 - 1970)\", \"language\": \"en\", \"proportion\": 1.0, \"number\": \"100\", \"language_full\": \"English\"}, {\"id\": \"1681\", \"title\": \"The Coromandel Times (Blackwood, SA : 1970 - 1976)\", \"language\": \"en\", \"proportion\": 1.0, \"number\": \"100\", \"language_full\": \"English\"}, {\"id\": \"1484\", \"title\": \"The Egotist (Adelaide, SA : 1839)\", \"language\": \"en\", \"proportion\": 1.0, \"number\": \"40\", \"language_full\": \"English\"}, {\"id\": \"1710\", \"title\": \"The Examiner (SA : 1841 - 1843)\", \"language\": \"en\", \"proportion\": 1.0, \"number\": \"100\", \"language_full\": \"English\"}, {\"id\": \"1094\", \"title\": \"The Express (Adelaide, SA : 1922 - 1923)\", \"language\": \"en\", \"proportion\": 1.0, \"number\": \"100\", \"language_full\": \"English\"}, {\"id\": \"1093\", \"title\": \"The Express and Telegraph (Adelaide, SA : 1867 - 1922)\", \"language\": \"en\", \"proportion\": 1.0, \"number\": \"100\", \"language_full\": \"English\"}, {\"id\": \"1303\", \"title\": \"The Gateway (Port Adelaide, SA : 1946)\", \"language\": \"en\", \"proportion\": 1.0, \"number\": \"100\", \"language_full\": \"English\"}, {\"id\": \"1145\", \"title\": \"The Illustrated Adelaide News (SA : 1875 - 1880)\", \"language\": \"en\", \"proportion\": 1.0, \"number\": \"100\", \"language_full\": \"English\"}, {\"id\": \"1148\", \"title\": \"The Irish Harp and Farmers' Herald (Adelaide, SA : 1869 - 1873)\", \"language\": \"en\", \"proportion\": 1.0, \"number\": \"100\", \"language_full\": \"English\"}, {\"id\": \"967\", \"title\": \"The Journal (Adelaide, SA : 1912 - 1923)\", \"language\": \"en\", \"proportion\": 0.9897959183673469, \"number\": \"100\", \"language_full\": \"English\"}, {\"id\": \"967\", \"title\": \"The Journal (Adelaide, SA : 1912 - 1923)\", \"language\": \"mt\", \"proportion\": 0.01020408163265306, \"number\": \"100\", \"language_full\": \"Maltese\"}, {\"id\": \"397\", \"title\": \"The Kadina and Wallaroo Times (SA : 1888 - 1954)\", \"language\": \"en\", \"proportion\": 1.0, \"number\": \"100\", \"language_full\": \"English\"}, {\"id\": \"924\", \"title\": \"The Kangaroo Island Courier (Kingscote, SA : 1907 - 1951)\", \"language\": \"en\", \"proportion\": 1.0, \"number\": \"100\", \"language_full\": \"English\"}, {\"id\": \"925\", \"title\": \"The Laura Standard (SA : 1889 - 1917)\", \"language\": \"en\", \"proportion\": 1.0, \"number\": \"100\", \"language_full\": \"English\"}, {\"id\": \"75\", \"title\": \"The Mail (Adelaide, SA : 1912 - 1954)\", \"language\": \"en\", \"proportion\": 1.0, \"number\": \"100\", \"language_full\": \"English\"}, {\"id\": \"970\", \"title\": \"The Millicent Times (SA : 1891 - 1905)\", \"language\": \"en\", \"proportion\": 1.0, \"number\": \"100\", \"language_full\": \"English\"}, {\"id\": \"714\", \"title\": \"The Mount Barker Courier and Onkaparinga and Gumeracha Advertiser (SA : 1880 - 1954)\", \"language\": \"en\", \"proportion\": 1.0, \"number\": \"100\", \"language_full\": \"English\"}, {\"id\": \"715\", \"title\": \"The Narracoorte Herald (SA : 1875 - 1954)\", \"language\": \"en\", \"proportion\": 1.0, \"number\": \"100\", \"language_full\": \"English\"}, {\"id\": \"1711\", \"title\": \"The Northern Districts Courier (North Adelaide, SA : 1925 - 1927)\", \"language\": \"en\", \"proportion\": 1.0, \"number\": \"100\", \"language_full\": \"English\"}, {\"id\": \"1095\", \"title\": \"The Pennant (Penola, SA : 1946 - 1955)\", \"language\": \"en\", \"proportion\": 1.0, \"number\": \"100\", \"language_full\": \"English\"}, {\"id\": \"1147\", \"title\": \"The Pictorial Australian (Adelaide, SA : 1885 - 1895)\", \"language\": \"en\", \"proportion\": 1.0, \"number\": \"100\", \"language_full\": \"English\"}, {\"id\": \"969\", \"title\": \"The Pioneer (Yorketown, SA : 1898 - 1954)\", \"language\": \"en\", \"proportion\": 1.0, \"number\": \"100\", \"language_full\": \"English\"}, {\"id\": \"718\", \"title\": \"The Port Adelaide Gazette (SA : 1930)\", \"language\": \"en\", \"proportion\": 1.0, \"number\": \"100\", \"language_full\": \"English\"}, {\"id\": \"719\", \"title\": \"The Port Adelaide Post Shipping Gazette, Farmers and Commercial Register (Port Adelaide, SA : 1876)\", \"language\": \"en\", \"proportion\": 1.0, \"number\": \"10\", \"language_full\": \"English\"}, {\"id\": \"993\", \"title\": \"The Port Augusta Dispatch, Newcastle and Flinders Chronicle (SA : 1885 - 1916)\", \"language\": \"en\", \"proportion\": 1.0, \"number\": \"100\", \"language_full\": \"English\"}, {\"id\": \"994\", \"title\": \"The Port Pirie Standard and Barrier Advertiser (SA : 1889 - 1898)\", \"language\": \"en\", \"proportion\": 1.0, \"number\": \"100\", \"language_full\": \"English\"}, {\"id\": \"1477\", \"title\": \"The Portonian (Port Adelaide, SA : 1871 - 1873)\", \"language\": \"en\", \"proportion\": 1.0, \"number\": \"100\", \"language_full\": \"English\"}, {\"id\": \"1099\", \"title\": \"The Producer (Balaklava, SA : 1940 - 1950)\", \"language\": \"en\", \"proportion\": 1.0, \"number\": \"100\", \"language_full\": \"English\"}, {\"id\": \"1307\", \"title\": \"The Progressive Times (Largs North, SA : 1949 - 1951)\", \"language\": \"en\", \"proportion\": 1.0, \"number\": \"100\", \"language_full\": \"English\"}, {\"id\": \"1683\", \"title\": \"The Prospecter (Fitzroy, SA : 1978 - 1984)\", \"language\": \"en\", \"proportion\": 1.0, \"number\": \"100\", \"language_full\": \"English\"}, {\"id\": \"89\", \"title\": \"The Register (Adelaide, SA : 1901 - 1929)\", \"language\": \"en\", \"proportion\": 1.0, \"number\": \"100\", \"language_full\": \"English\"}, {\"id\": \"90\", \"title\": \"The Register News-Pictorial (Adelaide, SA : 1929 - 1931)\", \"language\": \"en\", \"proportion\": 1.0, \"number\": \"100\", \"language_full\": \"English\"}, {\"id\": \"7\", \"title\": \"The South Australian Advertiser (Adelaide, SA : 1858 - 1889)\", \"language\": \"en\", \"proportion\": 1.0, \"number\": \"100\", \"language_full\": \"English\"}, {\"id\": \"971\", \"title\": \"The South Eastern Times (Millicent, SA : 1906 - 1954)\", \"language\": \"en\", \"proportion\": 1.0, \"number\": \"100\", \"language_full\": \"English\"}, {\"id\": \"1096\", \"title\": \"The Terowie Enterprise (SA : 1884 - 1891)\", \"language\": \"en\", \"proportion\": 1.0, \"number\": \"100\", \"language_full\": \"English\"}, {\"id\": \"404\", \"title\": \"The Times and Northern Advertiser, Peterborough, South Australia (SA : 1919 - 1950)\", \"language\": \"en\", \"proportion\": 1.0, \"number\": \"100\", \"language_full\": \"English\"}, {\"id\": \"830\", \"title\": \"The Victor Harbor Times and Encounter Bay and Lower Murray Pilot (SA : 1912 - 1930)\", \"language\": \"en\", \"proportion\": 0.98989898989899, \"number\": \"100\", \"language_full\": \"English\"}, {\"id\": \"830\", \"title\": \"The Victor Harbor Times and Encounter Bay and Lower Murray Pilot (SA : 1912 - 1930)\", \"language\": \"ja\", \"proportion\": 0.010101010101010102, \"number\": \"100\", \"language_full\": \"Japanese\"}, {\"id\": \"406\", \"title\": \"The Wallaroo Times and Mining Journal (Port Wallaroo, SA : 1865 - 1881)\", \"language\": \"en\", \"proportion\": 0.9888888888888889, \"number\": \"100\", \"language_full\": \"English\"}, {\"id\": \"406\", \"title\": \"The Wallaroo Times and Mining Journal (Port Wallaroo, SA : 1865 - 1881)\", \"language\": \"mt\", \"proportion\": 0.011111111111111112, \"number\": \"100\", \"language_full\": \"Maltese\"}, {\"id\": \"1709\", \"title\": \"The Western Mail (Ceduna, SA : 1928 - 1930)\", \"language\": \"en\", \"proportion\": 1.0, \"number\": \"100\", \"language_full\": \"English\"}, {\"id\": \"1309\", \"title\": \"The Western Weekly News (Port Lincoln, SA : 1902-1904)\", \"language\": \"en\", \"proportion\": 0.974025974025974, \"number\": \"77\", \"language_full\": \"English\"}, {\"id\": \"1309\", \"title\": \"The Western Weekly News (Port Lincoln, SA : 1902-1904)\", \"language\": \"ja\", \"proportion\": 0.012987012987012988, \"number\": \"77\", \"language_full\": \"Japanese\"}, {\"id\": \"1309\", \"title\": \"The Western Weekly News (Port Lincoln, SA : 1902-1904)\", \"language\": \"no\", \"proportion\": 0.012987012987012988, \"number\": \"77\", \"language_full\": \"Norwegian\"}, {\"id\": \"1098\", \"title\": \"The Wooroora Producer (Balaklava, SA : 1909 - 1940)\", \"language\": \"en\", \"proportion\": 1.0, \"number\": \"100\", \"language_full\": \"English\"}, {\"id\": \"1506\", \"title\": \"The Yellow Flag and Torrens Island Terror (Adelaide, SA : 1901)\", \"language\": \"en\", \"proportion\": 1.0, \"number\": \"28\", \"language_full\": \"English\"}, {\"id\": \"856\", \"title\": \"Times (Victor Harbor, SA : 1987 - 1999)\", \"language\": \"en\", \"proportion\": 0.9797979797979798, \"number\": \"100\", \"language_full\": \"English\"}, {\"id\": \"856\", \"title\": \"Times (Victor Harbor, SA : 1987 - 1999)\", \"language\": \"mt\", \"proportion\": 0.020202020202020204, \"number\": \"100\", \"language_full\": \"Maltese\"}, {\"id\": \"831\", \"title\": \"Times Victor Harbour and Encounter Bay and Lower Murray Pilot (SA : 1930 - 1932)\", \"language\": \"en\", \"proportion\": 0.98989898989899, \"number\": \"100\", \"language_full\": \"English\"}, {\"id\": \"831\", \"title\": \"Times Victor Harbour and Encounter Bay and Lower Murray Pilot (SA : 1930 - 1932)\", \"language\": \"ca\", \"proportion\": 0.010101010101010102, \"number\": \"100\", \"language_full\": \"Catalan\"}, {\"id\": \"827\", \"title\": \"Transcontinental (Port Augusta, SA : 1914 - 1954)\", \"language\": \"en\", \"proportion\": 1.0, \"number\": \"100\", \"language_full\": \"English\"}, {\"id\": \"1486\", \"title\": \"Tribune (SA edition, published in Sydney : 1951 - 1964)\", \"language\": \"en\", \"proportion\": 1.0, \"number\": \"100\", \"language_full\": \"English\"}, {\"id\": \"832\", \"title\": \"Victor Harbour Times (SA : 1932 - 1986)\", \"language\": \"en\", \"proportion\": 1.0, \"number\": \"100\", \"language_full\": \"English\"}, {\"id\": \"405\", \"title\": \"Wallaroo Times (Port Wallaroo, SA : 1882 - 1888)\", \"language\": \"en\", \"proportion\": 1.0, \"number\": \"100\", \"language_full\": \"English\"}, {\"id\": \"407\", \"title\": \"Weekly Herald (Adelaide, SA : 1894 - 1898)\", \"language\": \"en\", \"proportion\": 1.0, \"number\": \"100\", \"language_full\": \"English\"}, {\"id\": \"1702\", \"title\": \"West Coast Recorder (Port Lincoln, SA : 1909 - 1942)\", \"language\": \"en\", \"proportion\": 1.0, \"number\": \"100\", \"language_full\": \"English\"}, {\"id\": \"828\", \"title\": \"West Coast Sentinel (Streaky Bay, SA : 1912 - 1954)\", \"language\": \"en\", \"proportion\": 1.0, \"number\": \"100\", \"language_full\": \"English\"}, {\"id\": \"1487\", \"title\": \"Western People and Tumby Bay Times (SA : 1912)\", \"language\": \"en\", \"proportion\": 1.0, \"number\": \"94\", \"language_full\": \"English\"}, {\"id\": \"972\", \"title\": \"Whyalla News (SA : 1940 - 1954)\", \"language\": \"en\", \"proportion\": 1.0, \"number\": \"100\", \"language_full\": \"English\"}, {\"id\": \"1173\", \"title\": \"Yorke's Peninsula Advertiser (SA : 1878 - 1922)\", \"language\": \"en\", \"proportion\": 1.0, \"number\": \"100\", \"language_full\": \"English\"}, {\"id\": \"1172\", \"title\": \"Yorke's Peninsula Advertiser and Miners' and Farmers' Journal (SA : 1875 - 1878)\", \"language\": \"en\", \"proportion\": 0.979381443298969, \"number\": \"100\", \"language_full\": \"English\"}, {\"id\": \"1172\", \"title\": \"Yorke's Peninsula Advertiser and Miners' and Farmers' Journal (SA : 1875 - 1878)\", \"language\": \"ja\", \"proportion\": 0.010309278350515464, \"number\": \"100\", \"language_full\": \"Japanese\"}, {\"id\": \"1172\", \"title\": \"Yorke's Peninsula Advertiser and Miners' and Farmers' Journal (SA : 1875 - 1878)\", \"language\": \"mt\", \"proportion\": 0.010309278350515464, \"number\": \"100\", \"language_full\": \"Maltese\"}, {\"id\": \"1171\", \"title\": \"Yorke's Peninsula Advertiser and Miners' News (SA : 1872 - 1874)\", \"language\": \"en\", \"proportion\": 1.0, \"number\": \"100\", \"language_full\": \"English\"}, {\"id\": \"46\", \"title\": \"Advocate (Burnie, Tas. : 1890 - 1954)\", \"language\": \"en\", \"proportion\": 1.0, \"number\": \"100\", \"language_full\": \"English\"}, {\"id\": \"1248\", \"title\": \"Bell's Life in Tasmania (Hobart Town, Tas. : 1859)\", \"language\": \"en\", \"proportion\": 1.0, \"number\": \"100\", \"language_full\": \"English\"}, {\"id\": \"1241\", \"title\": \"Bent's News and Tasmanian Register (Hobart Town, Tas. : 1837 - 1838)\", \"language\": \"en\", \"proportion\": 1.0, \"number\": \"100\", \"language_full\": \"English\"}, {\"id\": \"1238\", \"title\": \"Bent's News and Tasmanian Three-Penny Register (Hobart Town, Tas. : 1836 - 1837)\", \"language\": \"en\", \"proportion\": 1.0, \"number\": \"100\", \"language_full\": \"English\"}, {\"id\": \"857\", \"title\": \"Circular Head Chronicle (Stanley, Tas. : 1906 - 1954)\", \"language\": \"en\", \"proportion\": 1.0, \"number\": \"100\", \"language_full\": \"English\"}, {\"id\": \"1235\", \"title\": \"Colonial Advocate, and Tasmanian Monthly Review and Register (Hobart Town, Tas. : 1828)\", \"language\": \"en\", \"proportion\": 1.0, \"number\": \"100\", \"language_full\": \"English\"}, {\"id\": \"24\", \"title\": \"Colonial Times (Hobart, Tas. : 1828 - 1857)\", \"language\": \"en\", \"proportion\": 1.0, \"number\": \"100\", \"language_full\": \"English\"}, {\"id\": \"23\", \"title\": \"Colonial Times and Tasmanian Advertiser (Hobart, Tas. : 1825 - 1827)\", \"language\": \"en\", \"proportion\": 0.99, \"number\": \"100\", \"language_full\": \"English\"}, {\"id\": \"23\", \"title\": \"Colonial Times and Tasmanian Advertiser (Hobart, Tas. : 1825 - 1827)\", \"language\": \"vi\", \"proportion\": 0.01, \"number\": \"100\", \"language_full\": \"Vietnamese\"}, {\"id\": \"1264\", \"title\": \"Cornwall Advertiser (Launceston, Tas. : 1870 - 1877)\", \"language\": \"en\", \"proportion\": 1.0, \"number\": \"100\", \"language_full\": \"English\"}, {\"id\": \"858\", \"title\": \"Critic (Hobart, Tas. : 1892 - 1893)\", \"language\": \"en\", \"proportion\": 0.9886363636363636, \"number\": \"88\", \"language_full\": \"English\"}, {\"id\": \"858\", \"title\": \"Critic (Hobart, Tas. : 1892 - 1893)\", \"language\": \"fy\", \"proportion\": 0.011363636363636364, \"number\": \"88\", \"language_full\": \"Western Frisian\"}, {\"id\": \"859\", \"title\": \"Critic (Hobart, Tas. : 1907 - 1924)\", \"language\": \"en\", \"proportion\": 1.0, \"number\": \"100\", \"language_full\": \"English\"}, {\"id\": \"860\", \"title\": \"Daily Post (Hobart, Tas. : 1908 - 1918)\", \"language\": \"en\", \"proportion\": 0.7191011235955056, \"number\": \"100\", \"language_full\": \"English\"}, {\"id\": \"860\", \"title\": \"Daily Post (Hobart, Tas. : 1908 - 1918)\", \"language\": \"ja\", \"proportion\": 0.11235955056179775, \"number\": \"100\", \"language_full\": \"Japanese\"}, {\"id\": \"860\", \"title\": \"Daily Post (Hobart, Tas. : 1908 - 1918)\", \"language\": \"cy\", \"proportion\": 0.033707865168539325, \"number\": \"100\", \"language_full\": \"Welsh\"}, {\"id\": \"860\", \"title\": \"Daily Post (Hobart, Tas. : 1908 - 1918)\", \"language\": \"it\", \"proportion\": 0.02247191011235955, \"number\": \"100\", \"language_full\": \"Italian\"}, {\"id\": \"860\", \"title\": \"Daily Post (Hobart, Tas. : 1908 - 1918)\", \"language\": \"ig\", \"proportion\": 0.033707865168539325, \"number\": \"100\", \"language_full\": \"Igbo\"}, {\"id\": \"860\", \"title\": \"Daily Post (Hobart, Tas. : 1908 - 1918)\", \"language\": \"gl\", \"proportion\": 0.02247191011235955, \"number\": \"100\", \"language_full\": \"Galician\"}, {\"id\": \"860\", \"title\": \"Daily Post (Hobart, Tas. : 1908 - 1918)\", \"language\": \"gd\", \"proportion\": 0.02247191011235955, \"number\": \"100\", \"language_full\": \"Scottish Gaelic\"}, {\"id\": \"860\", \"title\": \"Daily Post (Hobart, Tas. : 1908 - 1918)\", \"language\": \"pt\", \"proportion\": 0.011235955056179775, \"number\": \"100\", \"language_full\": \"Portuguese\"}, {\"id\": \"860\", \"title\": \"Daily Post (Hobart, Tas. : 1908 - 1918)\", \"language\": \"ca\", \"proportion\": 0.011235955056179775, \"number\": \"100\", \"language_full\": \"Catalan\"}, {\"id\": \"860\", \"title\": \"Daily Post (Hobart, Tas. : 1908 - 1918)\", \"language\": \"co\", \"proportion\": 0.011235955056179775, \"number\": \"100\", \"language_full\": \"Corsican\"}, {\"id\": \"742\", \"title\": \"Daily Telegraph (Launceston, Tas. : 1883 - 1928)\", \"language\": \"en\", \"proportion\": 1.0, \"number\": \"100\", \"language_full\": \"English\"}, {\"id\": \"1076\", \"title\": \"Deloraine - Westbury Advocate (Ulverstone, Tas. : 1893 - 1894)\", \"language\": \"en\", \"proportion\": 0.9895833333333334, \"number\": \"100\", \"language_full\": \"English\"}, {\"id\": \"1076\", \"title\": \"Deloraine - Westbury Advocate (Ulverstone, Tas. : 1893 - 1894)\", \"language\": \"mt\", \"proportion\": 0.010416666666666666, \"number\": \"100\", \"language_full\": \"Maltese\"}, {\"id\": \"159\", \"title\": \"Deloraine and Westbury Advertiser (Tas. : 1910 - 1912)\", \"language\": \"en\", \"proportion\": 1.0, \"number\": \"100\", \"language_full\": \"English\"}, {\"id\": \"862\", \"title\": \"Devon Herald (Latrobe, Tas. : 1877 - 1889)\", \"language\": \"en\", \"proportion\": 0.9894736842105263, \"number\": \"100\", \"language_full\": \"English\"}, {\"id\": \"862\", \"title\": \"Devon Herald (Latrobe, Tas. : 1877 - 1889)\", \"language\": \"mt\", \"proportion\": 0.010526315789473684, \"number\": \"100\", \"language_full\": \"Maltese\"}, {\"id\": \"116\", \"title\": \"Emu Bay Times and North West and West Coast Advocate (Tas. : 1897 - 1899)\", \"language\": \"en\", \"proportion\": 0.9333333333333333, \"number\": \"100\", \"language_full\": \"English\"}, {\"id\": \"116\", \"title\": \"Emu Bay Times and North West and West Coast Advocate (Tas. : 1897 - 1899)\", \"language\": \"mt\", \"proportion\": 0.06666666666666667, \"number\": \"100\", \"language_full\": \"Maltese\"}, {\"id\": \"68\", \"title\": \"Examiner (Launceston, Tas. : 1900 - 1954)\", \"language\": \"en\", \"proportion\": 1.0, \"number\": \"100\", \"language_full\": \"English\"}, {\"id\": \"1260\", \"title\": \"Fun or The Tasmanian Charivari (Hobart Town, Tas. : 1867)\", \"language\": \"en\", \"proportion\": 1.0, \"number\": \"100\", \"language_full\": \"English\"}, {\"id\": \"863\", \"title\": \"Guardian, or, True Friend of Tasmania (Hobart, Tas. : 1847)\", \"language\": \"en\", \"proportion\": 1.0, \"number\": \"100\", \"language_full\": \"English\"}, {\"id\": \"1739\", \"title\": \"Hobart Town Advertiser : Weekly Edt. (Tas. : 1859 - 1865)\", \"language\": \"en\", \"proportion\": 0.9795918367346939, \"number\": \"100\", \"language_full\": \"English\"}, {\"id\": \"1739\", \"title\": \"Hobart Town Advertiser : Weekly Edt. (Tas. : 1859 - 1865)\", \"language\": \"mt\", \"proportion\": 0.01020408163265306, \"number\": \"100\", \"language_full\": \"Maltese\"}, {\"id\": \"1739\", \"title\": \"Hobart Town Advertiser : Weekly Edt. (Tas. : 1859 - 1865)\", \"language\": \"ja\", \"proportion\": 0.01020408163265306, \"number\": \"100\", \"language_full\": \"Japanese\"}, {\"id\": \"5\", \"title\": \"Hobart Town Gazette and Van Diemen's Land Advertiser (Tas. : 1821 - 1825)\", \"language\": \"en\", \"proportion\": 1.0, \"number\": \"100\", \"language_full\": \"English\"}, {\"id\": \"1259\", \"title\": \"Hobart Town Punch (Hobart Town, Tas. : 1867 - 1868)\", \"language\": \"en\", \"proportion\": 1.0, \"number\": \"100\", \"language_full\": \"English\"}, {\"id\": \"1262\", \"title\": \"Hobart Town Punch (Hobart Town, Tas. : 1878)\", \"language\": \"en\", \"proportion\": 1.0, \"number\": \"19\", \"language_full\": \"English\"}, {\"id\": \"864\", \"title\": \"Hobarton Guardian, or, True Friend of Tasmania (Hobart, Tas. : 1847 - 1854)\", \"language\": \"en\", \"proportion\": 1.0, \"number\": \"100\", \"language_full\": \"English\"}, {\"id\": \"668\", \"title\": \"Huon and Derwent Times (Tas. : 1933 - 1942)\", \"language\": \"en\", \"proportion\": 1.0, \"number\": \"100\", \"language_full\": \"English\"}, {\"id\": \"667\", \"title\": \"Huon Times (Franklin, Tas. : 1910 - 1933)\", \"language\": \"en\", \"proportion\": 1.0, \"number\": \"100\", \"language_full\": \"English\"}, {\"id\": \"1078\", \"title\": \"King Island News (Currie, King Island : 1912 - 1986\", \"language\": \"en\", \"proportion\": 1.0, \"number\": \"100\", \"language_full\": \"English\"}, {\"id\": \"868\", \"title\": \"Land (Hobart, Tas. : 1924 - 1925)\", \"language\": \"en\", \"proportion\": 1.0, \"number\": \"100\", \"language_full\": \"English\"}, {\"id\": \"272\", \"title\": \"Launceston Advertiser (Tas. : 1829 - 1846)\", \"language\": \"en\", \"proportion\": 1.0, \"number\": \"100\", \"language_full\": \"English\"}, {\"id\": \"339\", \"title\": \"Launceston Courier (Tas. : 1840 - 1843)\", \"language\": \"en\", \"proportion\": 1.0, \"number\": \"100\", \"language_full\": \"English\"}, {\"id\": \"74\", \"title\": \"Launceston Examiner (Tas. : 1842 - 1899)\", \"language\": \"en\", \"proportion\": 1.0, \"number\": \"100\", \"language_full\": \"English\"}, {\"id\": \"1242\", \"title\": \"Morning Star and Commercial Advertiser (Hobart Town, Tas. : 1834 - 1835)\", \"language\": \"en\", \"proportion\": 1.0, \"number\": \"100\", \"language_full\": \"English\"}, {\"id\": \"743\", \"title\": \"North-Eastern Advertiser (Scottsdale, Tas. : 1909 - 1954)\", \"language\": \"en\", \"proportion\": 1.0, \"number\": \"100\", \"language_full\": \"English\"}, {\"id\": \"1747\", \"title\": \"Saturday Evening Express (Launceston, Tas. : 1924 - 1954)\", \"language\": \"en\", \"proportion\": 0.99, \"number\": \"100\", \"language_full\": \"English\"}, {\"id\": \"1747\", \"title\": \"Saturday Evening Express (Launceston, Tas. : 1924 - 1954)\", \"language\": \"mt\", \"proportion\": 0.01, \"number\": \"100\", \"language_full\": \"Maltese\"}, {\"id\": \"273\", \"title\": \"Tasmanian and Port Dalrymple Advertiser (Launceston, Tas. : 1825)\", \"language\": \"en\", \"proportion\": 1.0, \"number\": \"100\", \"language_full\": \"English\"}, {\"id\": \"1265\", \"title\": \"Tasmanian Evening Herald (Launceston, Tas. : 1878)\", \"language\": \"mt\", \"proportion\": 0.0449438202247191, \"number\": \"100\", \"language_full\": \"Maltese\"}, {\"id\": \"1265\", \"title\": \"Tasmanian Evening Herald (Launceston, Tas. : 1878)\", \"language\": \"en\", \"proportion\": 0.9213483146067416, \"number\": \"100\", \"language_full\": \"English\"}, {\"id\": \"1265\", \"title\": \"Tasmanian Evening Herald (Launceston, Tas. : 1878)\", \"language\": \"ja\", \"proportion\": 0.033707865168539325, \"number\": \"100\", \"language_full\": \"Japanese\"}, {\"id\": \"865\", \"title\": \"Tasmanian Morning Herald (Hobart, Tas. : 1865 - 1866)\", \"language\": \"en\", \"proportion\": 1.0, \"number\": \"100\", \"language_full\": \"English\"}, {\"id\": \"866\", \"title\": \"Tasmanian News (Hobart, Tas. : 1883 - 1911)\", \"language\": \"en\", \"proportion\": 0.9897959183673469, \"number\": \"100\", \"language_full\": \"English\"}, {\"id\": \"866\", \"title\": \"Tasmanian News (Hobart, Tas. : 1883 - 1911)\", \"language\": \"gd\", \"proportion\": 0.01020408163265306, \"number\": \"100\", \"language_full\": \"Scottish Gaelic\"}, {\"id\": \"1258\", \"title\": \"Tasmanian Punch (Hobart Town, Tas. : 1866)\", \"language\": \"en\", \"proportion\": 1.0, \"number\": \"100\", \"language_full\": \"English\"}, {\"id\": \"1261\", \"title\": \"Tasmanian Punch (Hobart Town, Tas. : 1869 - 1870; 1877 - 1878)\", \"language\": \"en\", \"proportion\": 1.0, \"number\": \"100\", \"language_full\": \"English\"}, {\"id\": \"1231\", \"title\": \"Tasmanian Weekly Dispatch (Hobart Town, Tas. : 1839 - 1841)\", \"language\": \"en\", \"proportion\": 1.0, \"number\": \"100\", \"language_full\": \"English\"}, {\"id\": \"1246\", \"title\": \"Tasmanian Weekly News (Hobart Town, Tas. : 1858)\", \"language\": \"en\", \"proportion\": 1.0, \"number\": \"100\", \"language_full\": \"English\"}, {\"id\": \"1250\", \"title\": \"Telegraph (Hobart Town, Tas. : 1867)\", \"language\": \"en\", \"proportion\": 1.0, \"number\": \"78\", \"language_full\": \"English\"}, {\"id\": \"1072\", \"title\": \"Telegraph (Launceston, Tas. : 1881 - 1883)\", \"language\": \"en\", \"proportion\": 1.0, \"number\": \"100\", \"language_full\": \"English\"}, {\"id\": \"1736\", \"title\": \"The Advertiser (Hobart, Tas. :  1837 - 1840)\", \"language\": \"en\", \"proportion\": 0.9736842105263158, \"number\": \"100\", \"language_full\": \"English\"}, {\"id\": \"1736\", \"title\": \"The Advertiser (Hobart, Tas. :  1837 - 1840)\", \"language\": \"mt\", \"proportion\": 0.013157894736842105, \"number\": \"100\", \"language_full\": \"Maltese\"}, {\"id\": \"1736\", \"title\": \"The Advertiser (Hobart, Tas. :  1837 - 1840)\", \"language\": \"pt\", \"proportion\": 0.013157894736842105, \"number\": \"100\", \"language_full\": \"Portuguese\"}, {\"id\": \"1738\", \"title\": \"The Advertiser (Hobart, Tas. :  1861 - 1865)\", \"language\": \"en\", \"proportion\": 1.0, \"number\": \"100\", \"language_full\": \"English\"}, {\"id\": \"1233\", \"title\": \"The Austral-Asiatic Review (Hobart Town, Tas. : 1833)\", \"language\": \"en\", \"proportion\": 0.989010989010989, \"number\": \"100\", \"language_full\": \"English\"}, {\"id\": \"1233\", \"title\": \"The Austral-Asiatic Review (Hobart Town, Tas. : 1833)\", \"language\": \"mt\", \"proportion\": 0.01098901098901099, \"number\": \"100\", \"language_full\": \"Maltese\"}, {\"id\": \"1232\", \"title\": \"The Austral-Asiatic Review, Tasmanian and Australian Advertiser (Hobart Town, Tas. : 1837 - 1844)\", \"language\": \"en\", \"proportion\": 1.0, \"number\": \"100\", \"language_full\": \"English\"}, {\"id\": \"1252\", \"title\": \"The Banner (Strahan, Tas. : 1901)\", \"language\": \"en\", \"proportion\": 1.0, \"number\": \"100\", \"language_full\": \"English\"}, {\"id\": \"941\", \"title\": \"The Britannia and Trades' Advocate (Hobart Town, Tas. : 1846 - 1851)\", \"language\": \"en\", \"proportion\": 1.0, \"number\": \"100\", \"language_full\": \"English\"}, {\"id\": \"271\", \"title\": \"The Clipper (Hobart, Tas. : 1893 - 1909)\", \"language\": \"en\", \"proportion\": 0.99, \"number\": \"100\", \"language_full\": \"English\"}, {\"id\": \"271\", \"title\": \"The Clipper (Hobart, Tas. : 1893 - 1909)\", \"language\": \"mt\", \"proportion\": 0.01, \"number\": \"100\", \"language_full\": \"Maltese\"}, {\"id\": \"1077\", \"title\": \"The Coastal News and North Western Advertiser (Ulverstone, Tas. : 1890 - 1893)\", \"language\": \"en\", \"proportion\": 1.0, \"number\": \"100\", \"language_full\": \"English\"}, {\"id\": \"1243\", \"title\": \"The Colonial Record (Launceston Tas. : 1839)\", \"language\": \"en\", \"proportion\": 1.0, \"number\": \"100\", \"language_full\": \"English\"}, {\"id\": \"952\", \"title\": \"The Colonist (Launceston, Tas. : 1888 - 1891)\", \"language\": \"en\", \"proportion\": 1.0, \"number\": \"100\", \"language_full\": \"English\"}, {\"id\": \"944\", \"title\": \"The Colonist and Van Diemen's Land Commercial and Agricultural Advertiser (Hobart Town, Tas. : 1832 - 1834)\", \"language\": \"en\", \"proportion\": 1.0, \"number\": \"100\", \"language_full\": \"English\"}, {\"id\": \"170\", \"title\": \"The Cornwall Chronicle (Launceston, Tas. : 1835 - 1880)\", \"language\": \"en\", \"proportion\": 1.0, \"number\": \"100\", \"language_full\": \"English\"}, {\"id\": \"1236\", \"title\": \"The Cornwall Press and Commercial Advertiser (Launceston, Tas. : 1829)\", \"language\": \"en\", \"proportion\": 1.0, \"number\": \"100\", \"language_full\": \"English\"}, {\"id\": \"21\", \"title\": \"The Courier (Hobart, Tas. : 1840 - 1859)\", \"language\": \"en\", \"proportion\": 1.0, \"number\": \"100\", \"language_full\": \"English\"}, {\"id\": \"1046\", \"title\": \"The Derwent Star and Van Diemen's Land Intelligencer (Hobart, Tas. : 1810 - 1812)\", \"language\": \"en\", \"proportion\": 1.0, \"number\": \"10\", \"language_full\": \"English\"}, {\"id\": \"1268\", \"title\": \"The Federalist (Launceston, Tas. : 1898 - 1899)\", \"language\": \"en\", \"proportion\": 1.0, \"number\": \"100\", \"language_full\": \"English\"}, {\"id\": \"1741\", \"title\": \"The Herald of Tasmania (Hobart, Tas. : 1845)\", \"language\": \"en\", \"proportion\": 0.8571428571428571, \"number\": \"21\", \"language_full\": \"English\"}, {\"id\": \"1741\", \"title\": \"The Herald of Tasmania (Hobart, Tas. : 1845)\", \"language\": \"la\", \"proportion\": 0.047619047619047616, \"number\": \"21\", \"language_full\": \"Latin\"}, {\"id\": \"1741\", \"title\": \"The Herald of Tasmania (Hobart, Tas. : 1845)\", \"language\": \"it\", \"proportion\": 0.09523809523809523, \"number\": \"21\", \"language_full\": \"Italian\"}, {\"id\": \"1745\", \"title\": \"The Hobart Herald (Tas. : 1880 - 1882)\", \"language\": \"en\", \"proportion\": 1.0, \"number\": \"100\", \"language_full\": \"English\"}, {\"id\": \"1737\", \"title\": \"The Hobart Town Advertiser (Tas. : 1839 - 1861)\", \"language\": \"en\", \"proportion\": 0.99, \"number\": \"100\", \"language_full\": \"English\"}, {\"id\": \"1737\", \"title\": \"The Hobart Town Advertiser (Tas. : 1839 - 1861)\", \"language\": \"ja\", \"proportion\": 0.01, \"number\": \"100\", \"language_full\": \"Japanese\"}, {\"id\": \"1239\", \"title\": \"The Hobart Town Chronicle (Tas. : 1833)\", \"language\": \"en\", \"proportion\": 1.0, \"number\": \"100\", \"language_full\": \"English\"}, {\"id\": \"19\", \"title\": \"The Hobart Town Courier (Tas. : 1827 - 1839)\", \"language\": \"en\", \"proportion\": 1.0, \"number\": \"100\", \"language_full\": \"English\"}, {\"id\": \"20\", \"title\": \"The Hobart Town Courier and Van Diemen's Land Gazette (Tas. : 1839 - 1840)\", \"language\": \"en\", \"proportion\": 1.0, \"number\": \"100\", \"language_full\": \"English\"}, {\"id\": \"33\", \"title\": \"The Hobart Town Daily Mercury (Tas. : 1858 - 1860)\", \"language\": \"en\", \"proportion\": 0.9655172413793104, \"number\": \"100\", \"language_full\": \"English\"}, {\"id\": \"33\", \"title\": \"The Hobart Town Daily Mercury (Tas. : 1858 - 1860)\", \"language\": \"mt\", \"proportion\": 0.034482758620689655, \"number\": \"100\", \"language_full\": \"Maltese\"}, {\"id\": \"22\", \"title\": \"The Hobart Town Gazette (Tas. : 1825 - 1833)\", \"language\": \"en\", \"proportion\": 1.0, \"number\": \"100\", \"language_full\": \"English\"}, {\"id\": \"4\", \"title\": \"The Hobart Town Gazette and Southern Reporter (Tas. : 1816 - 1821)\", \"language\": \"en\", \"proportion\": 1.0, \"number\": \"100\", \"language_full\": \"English\"}, {\"id\": \"1740\", \"title\": \"The Hobart Town Herald (Tas. :  1845)\", \"language\": \"en\", \"proportion\": 1.0, \"number\": \"31\", \"language_full\": \"English\"}, {\"id\": \"1744\", \"title\": \"The Hobart Town Herald (Tas. : 1880)\", \"language\": \"en\", \"proportion\": 1.0, \"number\": \"100\", \"language_full\": \"English\"}, {\"id\": \"1743\", \"title\": \"The Hobart Town Herald and Total Abstinence advocate (Tas. : 1846 - 1847)\", \"language\": \"en\", \"proportion\": 1.0, \"number\": \"100\", \"language_full\": \"English\"}, {\"id\": \"1742\", \"title\": \"The Hobart Town Herald, or, Southern reporter (Tas. : 1846)\", \"language\": \"en\", \"proportion\": 0.9836065573770492, \"number\": \"64\", \"language_full\": \"English\"}, {\"id\": \"1742\", \"title\": \"The Hobart Town Herald, or, Southern reporter (Tas. : 1846)\", \"language\": \"bg-Latn\", \"proportion\": 0.01639344262295082, \"number\": \"64\", \"language_full\": \"Bulgarian\"}, {\"id\": \"32\", \"title\": \"The Hobart Town Mercury (Tas. : 1857)\", \"language\": \"en\", \"proportion\": 1.0, \"number\": \"100\", \"language_full\": \"English\"}, {\"id\": \"31\", \"title\": \"The Hobarton Mercury (Tas. : 1854 - 1857)\", \"language\": \"en\", \"proportion\": 1.0, \"number\": \"100\", \"language_full\": \"English\"}, {\"id\": \"1237\", \"title\": \"The Independent (Launceston, Tas. : 1831 - 1835)\", \"language\": \"en\", \"proportion\": 0.98989898989899, \"number\": \"100\", \"language_full\": \"English\"}, {\"id\": \"1237\", \"title\": \"The Independent (Launceston, Tas. : 1831 - 1835)\", \"language\": \"mt\", \"proportion\": 0.010101010101010102, \"number\": \"100\", \"language_full\": \"Maltese\"}, {\"id\": \"1244\", \"title\": \"The Irish Exile and Freedom's Advocate (Hobart Town, Tas. : 1850 - 1851)\", \"language\": \"en\", \"proportion\": 1.0, \"number\": \"100\", \"language_full\": \"English\"}, {\"id\": \"158\", \"title\": \"The Leven Lever (Ulverstone, Tas. : 1919 - 1920)\", \"language\": \"en\", \"proportion\": 1.0, \"number\": \"100\", \"language_full\": \"English\"}, {\"id\": \"10\", \"title\": \"The Mercury (Hobart, Tas. : 1860 - 1954)\", \"language\": \"en\", \"proportion\": 1.0, \"number\": \"100\", \"language_full\": \"English\"}, {\"id\": \"1253\", \"title\": \"The Midland News (Oatlands, Tas. : 1902 - 1904)\", \"language\": \"en\", \"proportion\": 1.0, \"number\": \"100\", \"language_full\": \"English\"}, {\"id\": \"1251\", \"title\": \"The Mount Lyell Standard and Strahan Gazette (Queenstown, Tas. : 1896 - 1902)\", \"language\": \"en\", \"proportion\": 1.0, \"number\": \"100\", \"language_full\": \"English\"}, {\"id\": \"1257\", \"title\": \"The News (Hobart, Tas. : 1924 - 1925)\", \"language\": \"en\", \"proportion\": 1.0, \"number\": \"100\", \"language_full\": \"English\"}, {\"id\": \"1075\", \"title\": \"The North Coast Standard (Latrobe, Tas. : 1890 - 1894)\", \"language\": \"en\", \"proportion\": 1.0, \"number\": \"100\", \"language_full\": \"English\"}, {\"id\": \"949\", \"title\": \"The North West Post (Formby, Tas. : 1887 - 1916)\", \"language\": \"en\", \"proportion\": 1.0, \"number\": \"100\", \"language_full\": \"English\"}, {\"id\": \"115\", \"title\": \"The North Western Advocate and the Emu Bay Times (Tas. : 1899 - 1919)\", \"language\": \"en\", \"proportion\": 1.0, \"number\": \"100\", \"language_full\": \"English\"}, {\"id\": \"1074\", \"title\": \"The North Western Chronicle (Latrobe, Tas. : 1887 - 1888)\", \"language\": \"en\", \"proportion\": 1.0, \"number\": \"100\", \"language_full\": \"English\"}, {\"id\": \"1256\", \"title\": \"The Northern Standard (Ulverstone, Tas. : 1921 - 1923)\", \"language\": \"en\", \"proportion\": 1.0, \"number\": \"100\", \"language_full\": \"English\"}, {\"id\": \"160\", \"title\": \"The Observer (Hobart, Tas. : 1845 - 1846)\", \"language\": \"en\", \"proportion\": 1.0, \"number\": \"100\", \"language_full\": \"English\"}, {\"id\": \"1245\", \"title\": \"The People's Advocate or True Friend of Tasmania (Launceston, Tas. : 1855 - 1856)\", \"language\": \"en\", \"proportion\": 0.9897959183673469, \"number\": \"100\", \"language_full\": \"English\"}, {\"id\": \"1245\", \"title\": \"The People's Advocate or True Friend of Tasmania (Launceston, Tas. : 1855 - 1856)\", \"language\": \"mt\", \"proportion\": 0.01020408163265306, \"number\": \"100\", \"language_full\": \"Maltese\"}, {\"id\": \"1240\", \"title\": \"The People's Horn Boy (Hobart Town, Tas. : 1834)\", \"language\": \"en\", \"proportion\": 1.0, \"number\": \"55\", \"language_full\": \"English\"}, {\"id\": \"1230\", \"title\": \"The Tasmanian (Hobart Town, Tas. : 1827 - 1839)\", \"language\": \"en\", \"proportion\": 1.0, \"number\": \"100\", \"language_full\": \"English\"}, {\"id\": \"946\", \"title\": \"The Tasmanian (Launceston, Tas. : 1871 - 1879)\", \"language\": \"en\", \"proportion\": 0.974025974025974, \"number\": \"100\", \"language_full\": \"English\"}, {\"id\": \"946\", \"title\": \"The Tasmanian (Launceston, Tas. : 1871 - 1879)\", \"language\": \"mt\", \"proportion\": 0.025974025974025976, \"number\": \"100\", \"language_full\": \"Maltese\"}, {\"id\": \"947\", \"title\": \"The Tasmanian (Launceston, Tas. : 1881 - 1895)\", \"language\": \"en\", \"proportion\": 1.0, \"number\": \"100\", \"language_full\": \"English\"}, {\"id\": \"1234\", \"title\": \"The Tasmanian and Austral-Asiatic Review (Hobart Town, Tas. : 1844 - 1845)\", \"language\": \"en\", \"proportion\": 0.98989898989899, \"number\": \"100\", \"language_full\": \"English\"}, {\"id\": \"1234\", \"title\": \"The Tasmanian and Austral-Asiatic Review (Hobart Town, Tas. : 1844 - 1845)\", \"language\": \"no\", \"proportion\": 0.010101010101010102, \"number\": \"100\", \"language_full\": \"Norwegian\"}, {\"id\": \"1041\", \"title\": \"The Tasmanian Colonist (Hobart Town, Tas. : 1851 - 1855)\", \"language\": \"en\", \"proportion\": 1.0, \"number\": \"100\", \"language_full\": \"English\"}, {\"id\": \"948\", \"title\": \"The Tasmanian Daily News (Hobart Town, Tas. : 1855 - 1858)\", \"language\": \"en\", \"proportion\": 1.0, \"number\": \"100\", \"language_full\": \"English\"}, {\"id\": \"1269\", \"title\": \"The Tasmanian Democrat (Launceston, Tas. : 1891 - 1898)\", \"language\": \"en\", \"proportion\": 1.0, \"number\": \"100\", \"language_full\": \"English\"}, {\"id\": \"1247\", \"title\": \"The Tasmanian Telegraph (Hobart Town, Tas. : 1858 - 1859)\", \"language\": \"en\", \"proportion\": 1.0, \"number\": \"100\", \"language_full\": \"English\"}, {\"id\": \"1263\", \"title\": \"The Tasmanian Times (Hobart Town, Tas. : 1867 - 1870)\", \"language\": \"en\", \"proportion\": 1.0, \"number\": \"100\", \"language_full\": \"English\"}, {\"id\": \"950\", \"title\": \"The Tasmanian Tribune (Hobart Town, Tas. : 1872 - 1876)\", \"language\": \"en\", \"proportion\": 1.0, \"number\": \"100\", \"language_full\": \"English\"}, {\"id\": \"1035\", \"title\": \"The Teetotal Advocate (Launceston, Tas. : 1843)\", \"language\": \"en\", \"proportion\": 1.0, \"number\": \"100\", \"language_full\": \"English\"}, {\"id\": \"945\", \"title\": \"The True Colonist Van Diemen's Land Political Despatch, and Agricultural and Commercial... (Hobart Town, Tas. : 1834 - 1844)\", \"language\": \"en\", \"proportion\": 1.0, \"number\": \"100\", \"language_full\": \"English\"}, {\"id\": \"1047\", \"title\": \"The Van Diemen's Land Gazette and General Advertiser (Hobart, Tas. : 1814)\", \"language\": \"en\", \"proportion\": 1.0, \"number\": \"29\", \"language_full\": \"English\"}, {\"id\": \"1249\", \"title\": \"The Weekly Times (Hobart Town, Tas. : 1863)\", \"language\": \"en\", \"proportion\": 1.0, \"number\": \"100\", \"language_full\": \"English\"}, {\"id\": \"951\", \"title\": \"Tribune (Hobart, Tas. : 1876 - 1879)\", \"language\": \"en\", \"proportion\": 1.0, \"number\": \"100\", \"language_full\": \"English\"}, {\"id\": \"869\", \"title\": \"Trumpeter General (Hobart, Tas. : 1833 - 1834)\", \"language\": \"en\", \"proportion\": 0.9887640449438202, \"number\": \"100\", \"language_full\": \"English\"}, {\"id\": \"869\", \"title\": \"Trumpeter General (Hobart, Tas. : 1833 - 1834)\", \"language\": \"mt\", \"proportion\": 0.011235955056179775, \"number\": \"100\", \"language_full\": \"Maltese\"}, {\"id\": \"867\", \"title\": \"Van Diemen's Land Chronicle (Hobart, Tas. : 1841)\", \"language\": \"en\", \"proportion\": 1.0, \"number\": \"100\", \"language_full\": \"English\"}, {\"id\": \"1073\", \"title\": \"Voice (Hobart, Tas. : 1931 - 1953)\", \"language\": \"en\", \"proportion\": 1.0, \"number\": \"100\", \"language_full\": \"English\"}, {\"id\": \"1266\", \"title\": \"Weekly Examiner (Launceston, Tas. : 1872 - 1878)\", \"language\": \"en\", \"proportion\": 1.0, \"number\": \"100\", \"language_full\": \"English\"}, {\"id\": \"117\", \"title\": \"Wellington Times and Agricultural and Mining Gazette (Tas. : 1890 - 1897)\", \"language\": \"en\", \"proportion\": 1.0, \"number\": \"100\", \"language_full\": \"English\"}, {\"id\": \"1132\", \"title\": \"Western Tiers (Tas. : 1980 - 2004)\", \"language\": \"en\", \"proportion\": 1.0, \"number\": \"100\", \"language_full\": \"English\"}, {\"id\": \"861\", \"title\": \"World (Hobart, Tas. : 1918 - 1924)\", \"language\": \"en\", \"proportion\": 1.0, \"number\": \"100\", \"language_full\": \"English\"}, {\"id\": \"270\", \"title\": \"Zeehan and Dundas Herald (Tas. : 1890 - 1922)\", \"language\": \"en\", \"proportion\": 1.0, \"number\": \"100\", \"language_full\": \"English\"}, {\"id\": \"295\", \"title\": \"Advertiser (Footscray, Vic. : 1914 - 1918)\", \"language\": \"en\", \"proportion\": 1.0, \"number\": \"100\", \"language_full\": \"English\"}, {\"id\": \"148\", \"title\": \"Advertiser (Hurstbridge, Vic. : 1922 - 1939)\", \"language\": \"en\", \"proportion\": 1.0, \"number\": \"100\", \"language_full\": \"English\"}, {\"id\": \"792\", \"title\": \"Advocate (Melbourne, Vic. : 1868 - 1954)\", \"language\": \"en\", \"proportion\": 0.989247311827957, \"number\": \"100\", \"language_full\": \"English\"}, {\"id\": \"792\", \"title\": \"Advocate (Melbourne, Vic. : 1868 - 1954)\", \"language\": \"mt\", \"proportion\": 0.010752688172043012, \"number\": \"100\", \"language_full\": \"Maltese\"}, {\"id\": \"156\", \"title\": \"Alexandra and Yea Standard and Yarck, Gobur, Thornton and Acheron Express (Vic. : 1908 - 1949)\", \"language\": \"en\", \"proportion\": 1.0, \"number\": \"100\", \"language_full\": \"English\"}, {\"id\": \"155\", \"title\": \"Alexandra and Yea Standard, Gobur, Thornton and Acheron Express (Vic. : 1877 - 1908)\", \"language\": \"en\", \"proportion\": 0.99, \"number\": \"100\", \"language_full\": \"English\"}, {\"id\": \"155\", \"title\": \"Alexandra and Yea Standard, Gobur, Thornton and Acheron Express (Vic. : 1877 - 1908)\", \"language\": \"mt\", \"proportion\": 0.01, \"number\": \"100\", \"language_full\": \"Maltese\"}, {\"id\": \"154\", \"title\": \"Alexandra and Yea Standard, Thornton, Gobur and Acheron Express (Vic. : 1877)\", \"language\": \"en\", \"proportion\": 1.0, \"number\": \"10\", \"language_full\": \"English\"}, {\"id\": \"157\", \"title\": \"Alexandra Standard and Yarck, Gobur, Thornton, Taggerty and Acheron Express (Vic. : 1949 - 1954)\", \"language\": \"en\", \"proportion\": 1.0, \"number\": \"100\", \"language_full\": \"English\"}, {\"id\": \"153\", \"title\": \"Alexandra Times (Vic. : 1868 - 1877)\", \"language\": \"en\", \"proportion\": 1.0, \"number\": \"100\", \"language_full\": \"English\"}, {\"id\": \"533\", \"title\": \"Alpine Observer and North-Eastern Herald (Vic. : 1916 - 1918)\", \"language\": \"en\", \"proportion\": 1.0, \"number\": \"100\", \"language_full\": \"English\"}, {\"id\": \"754\", \"title\": \"Ararat Chronicle and Willaura and Lake Bolac Districts Recorder (Vic. : 1914 - 1918)\", \"language\": \"en\", \"proportion\": 1.0, \"number\": \"100\", \"language_full\": \"English\"}, {\"id\": \"1686\", \"title\": \"Australier Leben = Australian Life (Melbourne, Vic. : 1931 - 1933)\", \"language\": \"yi\", \"proportion\": 1.0, \"number\": \"100\", \"language_full\": \"Yiddish\"}, {\"id\": \"755\", \"title\": \"Avoca Free Press and Farmers' and Miners' Journal (Vic. : 1900; 1914 - 1918)\", \"language\": \"en\", \"proportion\": 1.0, \"number\": \"100\", \"language_full\": \"English\"}, {\"id\": \"756\", \"title\": \"Avoca Mail (Vic. : 1863 - 1900; 1915 - 1918)\", \"language\": \"en\", \"proportion\": 1.0, \"number\": \"100\", \"language_full\": \"English\"}, {\"id\": \"240\", \"title\": \"Bairnsdale Advertiser and Tambo and Omeo Chronicle (Vic. : 1882 - 1918)\", \"language\": \"en\", \"proportion\": 0.9693877551020408, \"number\": \"100\", \"language_full\": \"English\"}, {\"id\": \"240\", \"title\": \"Bairnsdale Advertiser and Tambo and Omeo Chronicle (Vic. : 1882 - 1918)\", \"language\": \"mt\", \"proportion\": 0.02040816326530612, \"number\": \"100\", \"language_full\": \"Maltese\"}, {\"id\": \"240\", \"title\": \"Bairnsdale Advertiser and Tambo and Omeo Chronicle (Vic. : 1882 - 1918)\", \"language\": \"sv\", \"proportion\": 0.01020408163265306, \"number\": \"100\", \"language_full\": \"Swedish\"}, {\"id\": \"757\", \"title\": \"Bealiba Times (Vic. : 1915 - 1918)\", \"language\": \"en\", \"proportion\": 1.0, \"number\": \"100\", \"language_full\": \"English\"}, {\"id\": \"959\", \"title\": \"Bell's Life in Victoria and Sporting Chronicle (Melbourne, Vic. : 1857 - 1868)\", \"language\": \"en\", \"proportion\": 1.0, \"number\": \"100\", \"language_full\": \"English\"}, {\"id\": \"216\", \"title\": \"Benalla Ensign (Vic. : 1938 - 1954)\", \"language\": \"en\", \"proportion\": 1.0, \"number\": \"100\", \"language_full\": \"English\"}, {\"id\": \"717\", \"title\": \"Benalla Standard (Vic. : 1901 - 1931)\", \"language\": \"en\", \"proportion\": 1.0, \"number\": \"100\", \"language_full\": \"English\"}, {\"id\": \"346\", \"title\": \"Bendigo Advertiser (Vic. : 1855 - 1918)\", \"language\": \"en\", \"proportion\": 0.9791666666666666, \"number\": \"100\", \"language_full\": \"English\"}, {\"id\": \"346\", \"title\": \"Bendigo Advertiser (Vic. : 1855 - 1918)\", \"language\": \"mt\", \"proportion\": 0.020833333333333332, \"number\": \"100\", \"language_full\": \"Maltese\"}, {\"id\": \"315\", \"title\": \"Bendigonian (Bendigo, Vic. : 1914 - 1918)\", \"language\": \"en\", \"proportion\": 1.0, \"number\": \"100\", \"language_full\": \"English\"}, {\"id\": \"535\", \"title\": \"Berringa Herald (Vic. : 1914 - 1918)\", \"language\": \"en\", \"proportion\": 1.0, \"number\": \"100\", \"language_full\": \"English\"}, {\"id\": \"320\", \"title\": \"Berwick Shire News and Pakenham and Cranbourne Gazette (Berwick, Vic. : 1914 - 1917)\", \"language\": \"en\", \"proportion\": 1.0, \"number\": \"100\", \"language_full\": \"English\"}, {\"id\": \"785\", \"title\": \"Beulah Record and Mallee Advocate (Vic. : 1914)\", \"language\": \"en\", \"proportion\": 1.0, \"number\": \"100\", \"language_full\": \"English\"}, {\"id\": \"786\", \"title\": \"Beulah Standard and Mallee and Wimmera Advertiser (Vic. : 1916 - 1918)\", \"language\": \"en\", \"proportion\": 1.0, \"number\": \"100\", \"language_full\": \"English\"}, {\"id\": \"536\", \"title\": \"Birchip Advertiser and Watchem Sentinel (Vic. : 1914 - 1918)\", \"language\": \"en\", \"proportion\": 1.0, \"number\": \"100\", \"language_full\": \"English\"}, {\"id\": \"760\", \"title\": \"Birregurra Times (Vic. : 1918)\", \"language\": \"en\", \"proportion\": 1.0, \"number\": \"100\", \"language_full\": \"English\"}, {\"id\": \"537\", \"title\": \"Boort Standard and Quambatook Herald (Vic. : 1914 - 1915)\", \"language\": \"en\", \"proportion\": 1.0, \"number\": \"100\", \"language_full\": \"English\"}, {\"id\": \"1575\", \"title\": \"Box Hill Reporter (Vic. : 1925 - 1930)\", \"language\": \"en\", \"proportion\": 1.0, \"number\": \"100\", \"language_full\": \"English\"}, {\"id\": \"245\", \"title\": \"Brighton Southern Cross (Vic. : 1896 - 1918)\", \"language\": \"en\", \"proportion\": 0.98989898989899, \"number\": \"100\", \"language_full\": \"English\"}, {\"id\": \"245\", \"title\": \"Brighton Southern Cross (Vic. : 1896 - 1918)\", \"language\": \"mt\", \"proportion\": 0.010101010101010102, \"number\": \"100\", \"language_full\": \"Maltese\"}, {\"id\": \"294\", \"title\": \"Broadmeadows Camp Sentry (Vic. : 1917)\", \"language\": \"en\", \"proportion\": 1.0, \"number\": \"47\", \"language_full\": \"English\"}, {\"id\": \"780\", \"title\": \"Brunswick and Coburg Star (Vic. : 1914 - 1916)\", \"language\": \"en\", \"proportion\": 1.0, \"number\": \"100\", \"language_full\": \"English\"}, {\"id\": \"538\", \"title\": \"Bruthen and Tambo Times (Vic. : 1914 - 1919)\", \"language\": \"en\", \"proportion\": 1.0, \"number\": \"100\", \"language_full\": \"English\"}, {\"id\": \"539\", \"title\": \"Bunyip Free Press and Berwick Shire Guardian (Vic. : 1914 - 1915)\", \"language\": \"en\", \"proportion\": 1.0, \"number\": \"100\", \"language_full\": \"English\"}, {\"id\": \"750\", \"title\": \"Camberwell and Hawthorn Advertiser (Vic. : 1914 - 1918)\", \"language\": \"en\", \"proportion\": 1.0, \"number\": \"100\", \"language_full\": \"English\"}, {\"id\": \"43\", \"title\": \"Camperdown Chronicle (Vic. : 1875 - 1954)\", \"language\": \"en\", \"proportion\": 1.0, \"number\": \"100\", \"language_full\": \"English\"}, {\"id\": \"761\", \"title\": \"Camperdown Herald (Vic. : 1914 - 1918)\", \"language\": \"en\", \"proportion\": 1.0, \"number\": \"100\", \"language_full\": \"English\"}, {\"id\": \"767\", \"title\": \"Casterton Free Press and Glenelg Shire Advertiser (Vic. : 1915 - 1918)\", \"language\": \"en\", \"proportion\": 1.0, \"number\": \"100\", \"language_full\": \"English\"}, {\"id\": \"540\", \"title\": \"Castlemaine Mail (Vic. : 1917 - 1918)\", \"language\": \"en\", \"proportion\": 1.0, \"number\": \"100\", \"language_full\": \"English\"}, {\"id\": \"870\", \"title\": \"Champion (Melbourne, Vic. : 1895 - 1897)\", \"language\": \"en\", \"proportion\": 1.0, \"number\": \"100\", \"language_full\": \"English\"}, {\"id\": \"541\", \"title\": \"Chiltern and Howlong Times and Ovens Register (Vic. : 1914 - 1918)\", \"language\": \"en\", \"proportion\": 1.0, \"number\": \"100\", \"language_full\": \"English\"}, {\"id\": \"1495\", \"title\": \"Chiltern Leader (Vic. : 1896 - 1898)\", \"language\": \"en\", \"proportion\": 0.98989898989899, \"number\": \"100\", \"language_full\": \"English\"}, {\"id\": \"1495\", \"title\": \"Chiltern Leader (Vic. : 1896 - 1898)\", \"language\": \"ja\", \"proportion\": 0.010101010101010102, \"number\": \"100\", \"language_full\": \"Japanese\"}, {\"id\": \"705\", \"title\": \"Chinese Times (Melbourne, Vic. : 1902 - 1922)\", \"language\": \"zh\", \"proportion\": 0.9183673469387755, \"number\": \"100\", \"language_full\": \"Chinese\"}, {\"id\": \"705\", \"title\": \"Chinese Times (Melbourne, Vic. : 1902 - 1922)\", \"language\": \"ku\", \"proportion\": 0.02040816326530612, \"number\": \"100\", \"language_full\": \"Kurdish\"}, {\"id\": \"705\", \"title\": \"Chinese Times (Melbourne, Vic. : 1902 - 1922)\", \"language\": \"it\", \"proportion\": 0.01020408163265306, \"number\": \"100\", \"language_full\": \"Italian\"}, {\"id\": \"705\", \"title\": \"Chinese Times (Melbourne, Vic. : 1902 - 1922)\", \"language\": \"ja\", \"proportion\": 0.02040816326530612, \"number\": \"100\", \"language_full\": \"Japanese\"}, {\"id\": \"705\", \"title\": \"Chinese Times (Melbourne, Vic. : 1902 - 1922)\", \"language\": \"hi\", \"proportion\": 0.01020408163265306, \"number\": \"100\", \"language_full\": \"Hindi\"}, {\"id\": \"705\", \"title\": \"Chinese Times (Melbourne, Vic. : 1902 - 1922)\", \"language\": \"ca\", \"proportion\": 0.01020408163265306, \"number\": \"100\", \"language_full\": \"Catalan\"}, {\"id\": \"705\", \"title\": \"Chinese Times (Melbourne, Vic. : 1902 - 1922)\", \"language\": \"id\", \"proportion\": 0.01020408163265306, \"number\": \"100\", \"language_full\": \"Indonesian\"}, {\"id\": \"847\", \"title\": \"Chronicle, South Yarra Gazette, Toorak Times and Malvern Standard (Vic. : 1892 - 1893)\", \"language\": \"en\", \"proportion\": 1.0, \"number\": \"100\", \"language_full\": \"English\"}, {\"id\": \"957\", \"title\": \"Church of England Messenger (Melbourne, Vic. : 1905)\", \"language\": \"en\", \"proportion\": 1.0, \"number\": \"100\", \"language_full\": \"English\"}, {\"id\": \"542\", \"title\": \"Clunes Guardian and Gazette (Vic. : 1914 - 1918)\", \"language\": \"en\", \"proportion\": 1.0, \"number\": \"100\", \"language_full\": \"English\"}, {\"id\": \"543\", \"title\": \"Cobden Times (Vic. : 1918)\", \"language\": \"en\", \"proportion\": 0.8571428571428571, \"number\": \"100\", \"language_full\": \"English\"}, {\"id\": \"543\", \"title\": \"Cobden Times (Vic. : 1918)\", \"language\": \"mt\", \"proportion\": 0.10989010989010989, \"number\": \"100\", \"language_full\": \"Maltese\"}, {\"id\": \"543\", \"title\": \"Cobden Times (Vic. : 1918)\", \"language\": \"co\", \"proportion\": 0.01098901098901099, \"number\": \"100\", \"language_full\": \"Corsican\"}, {\"id\": \"543\", \"title\": \"Cobden Times (Vic. : 1918)\", \"language\": \"ig\", \"proportion\": 0.01098901098901099, \"number\": \"100\", \"language_full\": \"Igbo\"}, {\"id\": \"543\", \"title\": \"Cobden Times (Vic. : 1918)\", \"language\": \"pt\", \"proportion\": 0.01098901098901099, \"number\": \"100\", \"language_full\": \"Portuguese\"}, {\"id\": \"544\", \"title\": \"Cobden Times and Heytesbury Advertiser (Vic. : 1914 - 1918)\", \"language\": \"en\", \"proportion\": 0.9696969696969697, \"number\": \"100\", \"language_full\": \"English\"}, {\"id\": \"544\", \"title\": \"Cobden Times and Heytesbury Advertiser (Vic. : 1914 - 1918)\", \"language\": \"et\", \"proportion\": 0.010101010101010102, \"number\": \"100\", \"language_full\": \"Estonian\"}, {\"id\": \"544\", \"title\": \"Cobden Times and Heytesbury Advertiser (Vic. : 1914 - 1918)\", \"language\": \"mt\", \"proportion\": 0.020202020202020204, \"number\": \"100\", \"language_full\": \"Maltese\"}, {\"id\": \"545\", \"title\": \"Cobram Courier (Vic. : 1888 - 1954)\", \"language\": \"en\", \"proportion\": 1.0, \"number\": \"100\", \"language_full\": \"English\"}, {\"id\": \"546\", \"title\": \"Cohuna Farmer's Weekly (Vic. : 1914 - 1918)\", \"language\": \"en\", \"proportion\": 1.0, \"number\": \"100\", \"language_full\": \"English\"}, {\"id\": \"763\", \"title\": \"Colac Reformer (Vic. : 1914 - 1918)\", \"language\": \"en\", \"proportion\": 0.9473684210526315, \"number\": \"100\", \"language_full\": \"English\"}, {\"id\": \"763\", \"title\": \"Colac Reformer (Vic. : 1914 - 1918)\", \"language\": \"mt\", \"proportion\": 0.05263157894736842, \"number\": \"100\", \"language_full\": \"Maltese\"}, {\"id\": \"547\", \"title\": \"Coleraine Albion and Western Advertiser (Vic. : 1902; 1914 - 1918)\", \"language\": \"en\", \"proportion\": 1.0, \"number\": \"100\", \"language_full\": \"English\"}, {\"id\": \"548\", \"title\": \"Corryong Courier (Vic. : 1914 - 1918)\", \"language\": \"en\", \"proportion\": 1.0, \"number\": \"100\", \"language_full\": \"English\"}, {\"id\": \"895\", \"title\": \"Countryman (Melbourne, Vic. : 1924 - 1929)\", \"language\": \"en\", \"proportion\": 1.0, \"number\": \"100\", \"language_full\": \"English\"}, {\"id\": \"549\", \"title\": \"Cressy and Lismore Pioneer and Western Plains Representative (Vic. : 1915 - 1918)\", \"language\": \"en\", \"proportion\": 0.9797979797979798, \"number\": \"100\", \"language_full\": \"English\"}, {\"id\": \"549\", \"title\": \"Cressy and Lismore Pioneer and Western Plains Representative (Vic. : 1915 - 1918)\", \"language\": \"mt\", \"proportion\": 0.020202020202020204, \"number\": \"100\", \"language_full\": \"Maltese\"}, {\"id\": \"550\", \"title\": \"Creswick Advertiser (Vic. : 1914 - 1918)\", \"language\": \"en\", \"proportion\": 1.0, \"number\": \"100\", \"language_full\": \"English\"}, {\"id\": \"312\", \"title\": \"Dandenong Advertiser and Cranbourne, Berwick and Oakleigh Advocate (Vic. : 1914 - 1918)\", \"language\": \"en\", \"proportion\": 0.9896907216494846, \"number\": \"100\", \"language_full\": \"English\"}, {\"id\": \"312\", \"title\": \"Dandenong Advertiser and Cranbourne, Berwick and Oakleigh Advocate (Vic. : 1914 - 1918)\", \"language\": \"mt\", \"proportion\": 0.010309278350515464, \"number\": \"100\", \"language_full\": \"Maltese\"}, {\"id\": \"551\", \"title\": \"Daylesford Advocate, Yandoit, Glenlyon and Eganstown Chronicle (Vic. : 1914 - 1918)\", \"language\": \"en\", \"proportion\": 1.0, \"number\": \"100\", \"language_full\": \"English\"}, {\"id\": \"787\", \"title\": \"Dimboola Banner and Wimmera and Mallee Advertiser (Vic. : 1914 - 1918)\", \"language\": \"en\", \"proportion\": 1.0, \"number\": \"100\", \"language_full\": \"English\"}, {\"id\": \"552\", \"title\": \"Donald Times (Vic. : 1915 - 1918)\", \"language\": \"en\", \"proportion\": 1.0, \"number\": \"100\", \"language_full\": \"English\"}, {\"id\": \"553\", \"title\": \"Dookie and Katamatite Recorder (Vic. : 1902 - 1920)\", \"language\": \"en\", \"proportion\": 1.0, \"number\": \"100\", \"language_full\": \"English\"}, {\"id\": \"554\", \"title\": \"Dunmunkle Standard (Vic. : 1914 - 1918)\", \"language\": \"en\", \"proportion\": 1.0, \"number\": \"100\", \"language_full\": \"English\"}, {\"id\": \"758\", \"title\": \"Dunolly and Betbetshire Express and County of Gladstone Advertiser (Vic. : 1915 - 1918)\", \"language\": \"en\", \"proportion\": 1.0, \"number\": \"100\", \"language_full\": \"English\"}, {\"id\": \"751\", \"title\": \"Echuca and Moama Advertiser and Farmers' Gazette (Vic. : 1914 - 1918)\", \"language\": \"en\", \"proportion\": 0.98, \"number\": \"100\", \"language_full\": \"English\"}, {\"id\": \"751\", \"title\": \"Echuca and Moama Advertiser and Farmers' Gazette (Vic. : 1914 - 1918)\", \"language\": \"mt\", \"proportion\": 0.02, \"number\": \"100\", \"language_full\": \"Maltese\"}, {\"id\": \"201\", \"title\": \"Elsternwick Leader and East Brighton, ... (Vic. : 1887)\", \"language\": \"en\", \"proportion\": 1.0, \"number\": \"9\", \"language_full\": \"English\"}, {\"id\": \"149\", \"title\": \"Eltham and Whittlesea Shires Advertiser (Vic. : 1940 - 1942)\", \"language\": \"en\", \"proportion\": 1.0, \"number\": \"100\", \"language_full\": \"English\"}, {\"id\": \"147\", \"title\": \"Eltham and Whittlesea Shires Advertiser and Diamond Creek Valley Advocate (Vic. : 1917 - 1922)\", \"language\": \"en\", \"proportion\": 1.0, \"number\": \"100\", \"language_full\": \"English\"}, {\"id\": \"218\", \"title\": \"Euroa Advertiser (Vic. : 1884 - 1920)\", \"language\": \"en\", \"proportion\": 1.0, \"number\": \"100\", \"language_full\": \"English\"}, {\"id\": \"217\", \"title\": \"Euroa Advertiser and Violet Town, Longwood, Avenel, Strathbogie, Balmattam and Miepoll Gazette (Vic. : 1884)\", \"language\": \"en\", \"proportion\": 1.0, \"number\": \"100\", \"language_full\": \"English\"}, {\"id\": \"770\", \"title\": \"Euroa Gazette (Vic. : 1915 - 1918)\", \"language\": \"en\", \"proportion\": 1.0, \"number\": \"100\", \"language_full\": \"English\"}, {\"id\": \"146\", \"title\": \"Evelyn Observer and Bourke East Record (Vic. : 1902 - 1917)\", \"language\": \"en\", \"proportion\": 0.9791666666666666, \"number\": \"100\", \"language_full\": \"English\"}, {\"id\": \"146\", \"title\": \"Evelyn Observer and Bourke East Record (Vic. : 1902 - 1917)\", \"language\": \"mt\", \"proportion\": 0.020833333333333332, \"number\": \"100\", \"language_full\": \"Maltese\"}, {\"id\": \"145\", \"title\": \"Evelyn Observer, and South and East Bourke Record (Vic. : 1882 - 1902)\", \"language\": \"mt\", \"proportion\": 0.07526881720430108, \"number\": \"100\", \"language_full\": \"Maltese\"}, {\"id\": \"145\", \"title\": \"Evelyn Observer, and South and East Bourke Record (Vic. : 1882 - 1902)\", \"language\": \"en\", \"proportion\": 0.9139784946236559, \"number\": \"100\", \"language_full\": \"English\"}, {\"id\": \"145\", \"title\": \"Evelyn Observer, and South and East Bourke Record (Vic. : 1882 - 1902)\", \"language\": \"so\", \"proportion\": 0.010752688172043012, \"number\": \"100\", \"language_full\": \"Somali\"}, {\"id\": \"765\", \"title\": \"Every Week (Bairnsdale, Vic. : 1914 - 1918)\", \"language\": \"en\", \"proportion\": 1.0, \"number\": \"100\", \"language_full\": \"English\"}, {\"id\": \"894\", \"title\": \"Farmers' Advocate (Melbourne, Vic. : 1917 - 1924)\", \"language\": \"en\", \"proportion\": 1.0, \"number\": \"100\", \"language_full\": \"English\"}, {\"id\": \"555\", \"title\": \"Federal Standard (Chiltern, Vic. : 1914 - 1918)\", \"language\": \"en\", \"proportion\": 1.0, \"number\": \"100\", \"language_full\": \"English\"}, {\"id\": \"1716\", \"title\": \"Fern Tree Gully and District Times (Boronia, Vic. : 1953-1954)\", \"language\": \"en\", \"proportion\": 1.0, \"number\": \"100\", \"language_full\": \"English\"}, {\"id\": \"1715\", \"title\": \"Fern Tree Gully News (Upper Ferntree Gully, Vic. : 1923-1947)\", \"language\": \"en\", \"proportion\": 1.0, \"number\": \"100\", \"language_full\": \"English\"}, {\"id\": \"152\", \"title\": \"Fitzroy City Press (Vic. : 1881 - 1920)\", \"language\": \"en\", \"proportion\": 0.9897959183673469, \"number\": \"100\", \"language_full\": \"English\"}, {\"id\": \"152\", \"title\": \"Fitzroy City Press (Vic. : 1881 - 1920)\", \"language\": \"ja\", \"proportion\": 0.01020408163265306, \"number\": \"100\", \"language_full\": \"Japanese\"}, {\"id\": \"303\", \"title\": \"Flemington Spectator (Vic. : 1914 - 1918)\", \"language\": \"en\", \"proportion\": 1.0, \"number\": \"100\", \"language_full\": \"English\"}, {\"id\": \"774\", \"title\": \"Footscray Chronicle (Vic. : 1914 - 1918)\", \"language\": \"en\", \"proportion\": 1.0, \"number\": \"100\", \"language_full\": \"English\"}, {\"id\": \"556\", \"title\": \"Foster and Toora Mirror and South Gippsland Shire Advocate (Vic. : 1914)\", \"language\": \"en\", \"proportion\": 0.9791666666666666, \"number\": \"100\", \"language_full\": \"English\"}, {\"id\": \"556\", \"title\": \"Foster and Toora Mirror and South Gippsland Shire Advocate (Vic. : 1914)\", \"language\": \"cy\", \"proportion\": 0.010416666666666666, \"number\": \"100\", \"language_full\": \"Welsh\"}, {\"id\": \"556\", \"title\": \"Foster and Toora Mirror and South Gippsland Shire Advocate (Vic. : 1914)\", \"language\": \"mt\", \"proportion\": 0.010416666666666666, \"number\": \"100\", \"language_full\": \"Maltese\"}, {\"id\": \"557\", \"title\": \"Foster Mirror and South Gippsland Shire Advocate (Vic. : 1914 - 1918)\", \"language\": \"en\", \"proportion\": 1.0, \"number\": \"100\", \"language_full\": \"English\"}, {\"id\": \"236\", \"title\": \"Frankston and Somerville Standard (Vic. : 1921 - 1939)\", \"language\": \"en\", \"proportion\": 1.0, \"number\": \"100\", \"language_full\": \"English\"}, {\"id\": \"233\", \"title\": \"Frankston Standard (Frankston, Vic. : 1949)\", \"language\": \"en\", \"proportion\": 1.0, \"number\": \"100\", \"language_full\": \"English\"}, {\"id\": \"873\", \"title\": \"Free Lance (Melbourne, Vic. : 1896)\", \"language\": \"en\", \"proportion\": 1.0, \"number\": \"100\", \"language_full\": \"English\"}, {\"id\": \"292\", \"title\": \"Geelong Advertiser (Vic. : 1840 - 1845)\", \"language\": \"en\", \"proportion\": 1.0, \"number\": \"100\", \"language_full\": \"English\"}, {\"id\": \"284\", \"title\": \"Geelong Advertiser (Vic. : 1847 - 1851)\", \"language\": \"en\", \"proportion\": 1.0, \"number\": \"100\", \"language_full\": \"English\"}, {\"id\": \"558\", \"title\": \"Geelong Advertiser (Vic. : 1859 - 1929)\", \"language\": \"en\", \"proportion\": 1.0, \"number\": \"100\", \"language_full\": \"English\"}, {\"id\": \"283\", \"title\": \"Geelong Advertiser and Intelligencer (Vic. : 1851 - 1856)\", \"language\": \"en\", \"proportion\": 1.0, \"number\": \"100\", \"language_full\": \"English\"}, {\"id\": \"285\", \"title\": \"Geelong Advertiser and Squatters' Advocate (Vic. : 1845 - 1847)\", \"language\": \"en\", \"proportion\": 1.0, \"number\": \"100\", \"language_full\": \"English\"}, {\"id\": \"848\", \"title\": \"Gippsland Chronicle and Crooked River and Stringer's Creek Advertiser (Vic. : 1866)\", \"language\": \"en\", \"proportion\": 1.0, \"number\": \"100\", \"language_full\": \"English\"}, {\"id\": \"484\", \"title\": \"Gippsland Guardian (Vic. : 1855 - 1868)\", \"language\": \"en\", \"proportion\": 0.979381443298969, \"number\": \"100\", \"language_full\": \"English\"}, {\"id\": \"484\", \"title\": \"Gippsland Guardian (Vic. : 1855 - 1868)\", \"language\": \"mt\", \"proportion\": 0.020618556701030927, \"number\": \"100\", \"language_full\": \"Maltese\"}, {\"id\": \"559\", \"title\": \"Gippsland Independent, Buln Buln, Warragul, Berwick, Poowong and Jeetho Shire Advocate (Vic. : 1914 - 1918)\", \"language\": \"en\", \"proportion\": 0.98989898989899, \"number\": \"100\", \"language_full\": \"English\"}, {\"id\": \"559\", \"title\": \"Gippsland Independent, Buln Buln, Warragul, Berwick, Poowong and Jeetho Shire Advocate (Vic. : 1914 - 1918)\", \"language\": \"mt\", \"proportion\": 0.010101010101010102, \"number\": \"100\", \"language_full\": \"Maltese\"}, {\"id\": \"316\", \"title\": \"Gippsland Mercury (Sale, Vic. : 1914 - 1918)\", \"language\": \"en\", \"proportion\": 1.0, \"number\": \"100\", \"language_full\": \"English\"}, {\"id\": \"560\", \"title\": \"Gippsland Standard and Alberton Shire Representative (Vic. : 1914 - 1918)\", \"language\": \"en\", \"proportion\": 1.0, \"number\": \"100\", \"language_full\": \"English\"}, {\"id\": \"108\", \"title\": \"Gippsland Times (Vic. : 1861 - 1954)\", \"language\": \"en\", \"proportion\": 1.0, \"number\": \"100\", \"language_full\": \"English\"}, {\"id\": \"561\", \"title\": \"Gippslander and Mirboo Times (Vic. : 1914 - 1918)\", \"language\": \"en\", \"proportion\": 1.0, \"number\": \"100\", \"language_full\": \"English\"}, {\"id\": \"562\", \"title\": \"Gisborne Gazette (Vic. : 1914 - 1918)\", \"language\": \"en\", \"proportion\": 1.0, \"number\": \"100\", \"language_full\": \"English\"}, {\"id\": \"563\", \"title\": \"Glengarry, Toongabbie and Cowwarr Journal and Central Gippsland Reporter (Vic. : 1914)\", \"language\": \"en\", \"proportion\": 1.0, \"number\": \"100\", \"language_full\": \"English\"}, {\"id\": \"564\", \"title\": \"Gordon, Egerton and Ballan Advertiser (Vic. : 1914 - 1918)\", \"language\": \"en\", \"proportion\": 1.0, \"number\": \"100\", \"language_full\": \"English\"}, {\"id\": \"1133\", \"title\": \"Goulburn Valley Stock and Property Journal (Vic. : 1916 - 1942)\", \"language\": \"en\", \"proportion\": 1.0, \"number\": \"100\", \"language_full\": \"English\"}, {\"id\": \"775\", \"title\": \"Graphic of Australia (Melbourne, Vic. : 1916 - 1918)\", \"language\": \"en\", \"proportion\": 1.0, \"number\": \"100\", \"language_full\": \"English\"}, {\"id\": \"565\", \"title\": \"Great Southern Advocate (Korumburra, Vic. : 1889 - 1906, 1914 - 1919, 1921 - 1940)\", \"language\": \"en\", \"proportion\": 1.0, \"number\": \"100\", \"language_full\": \"English\"}, {\"id\": \"321\", \"title\": \"Great Southern Star (Leongatha, Vic. : 1914 - 1918)\", \"language\": \"en\", \"proportion\": 1.0, \"number\": \"100\", \"language_full\": \"English\"}, {\"id\": \"566\", \"title\": \"Grenville Standard (Vic. : 1915 - 1918)\", \"language\": \"en\", \"proportion\": 1.0, \"number\": \"100\", \"language_full\": \"English\"}, {\"id\": \"567\", \"title\": \"Hamilton Spectator (Vic. : 1870 - 1918)\", \"language\": \"en\", \"proportion\": 1.0, \"number\": \"100\", \"language_full\": \"English\"}, {\"id\": \"927\", \"title\": \"Hamilton Spectator and Grange District Advertiser (Vic. : 1860 - 1870)\", \"language\": \"en\", \"proportion\": 0.9157894736842105, \"number\": \"100\", \"language_full\": \"English\"}, {\"id\": \"927\", \"title\": \"Hamilton Spectator and Grange District Advertiser (Vic. : 1860 - 1870)\", \"language\": \"mt\", \"proportion\": 0.07368421052631578, \"number\": \"100\", \"language_full\": \"Maltese\"}, {\"id\": \"927\", \"title\": \"Hamilton Spectator and Grange District Advertiser (Vic. : 1860 - 1870)\", \"language\": \"so\", \"proportion\": 0.010526315789473684, \"number\": \"100\", \"language_full\": \"Somali\"}, {\"id\": \"322\", \"title\": \"Hawthorn and Camberwell Citizen (Vic. : 1914)\", \"language\": \"en\", \"proportion\": 1.0, \"number\": \"100\", \"language_full\": \"English\"}, {\"id\": \"323\", \"title\": \"Hawthorn, Kew, Camberwell Citizen (Vic. : 1914 - 1918)\", \"language\": \"en\", \"proportion\": 1.0, \"number\": \"100\", \"language_full\": \"English\"}, {\"id\": \"143\", \"title\": \"Healesville and Yarra Glen Guardian (Vic. : 1900 - 1942)\", \"language\": \"en\", \"proportion\": 1.0, \"number\": \"100\", \"language_full\": \"English\"}, {\"id\": \"144\", \"title\": \"Healesville Guardian (Lilydale, Vic. : 1942 - 1954)\", \"language\": \"en\", \"proportion\": 1.0, \"number\": \"100\", \"language_full\": \"English\"}, {\"id\": \"140\", \"title\": \"Healesville Guardian (Vic. : 1893 - 1898)\", \"language\": \"en\", \"proportion\": 0.96, \"number\": \"100\", \"language_full\": \"English\"}, {\"id\": \"140\", \"title\": \"Healesville Guardian (Vic. : 1893 - 1898)\", \"language\": \"et\", \"proportion\": 0.01, \"number\": \"100\", \"language_full\": \"Estonian\"}, {\"id\": \"140\", \"title\": \"Healesville Guardian (Vic. : 1893 - 1898)\", \"language\": \"mt\", \"proportion\": 0.03, \"number\": \"100\", \"language_full\": \"Maltese\"}, {\"id\": \"141\", \"title\": \"Healesville Guardian and Yarra Glen Advocate (Vic. : 1898)\", \"language\": \"en\", \"proportion\": 0.99, \"number\": \"100\", \"language_full\": \"English\"}, {\"id\": \"141\", \"title\": \"Healesville Guardian and Yarra Glen Advocate (Vic. : 1898)\", \"language\": \"mt\", \"proportion\": 0.01, \"number\": \"100\", \"language_full\": \"Maltese\"}, {\"id\": \"142\", \"title\": \"Healesville Guardian and Yarra Glen Guardian (Vic. : 1898 - 1900)\", \"language\": \"en\", \"proportion\": 1.0, \"number\": \"100\", \"language_full\": \"English\"}, {\"id\": \"324\", \"title\": \"Heidelberg News and Greensborough and Diamond Creek Chronicle (Vic. : 1914 - 1916)\", \"language\": \"en\", \"proportion\": 1.0, \"number\": \"100\", \"language_full\": \"English\"}, {\"id\": \"325\", \"title\": \"Heidelberg News and Greensborough, Eltham and Diamond Creek Chronicle (Vic. : 1916 - 1918)\", \"language\": \"en\", \"proportion\": 1.0, \"number\": \"100\", \"language_full\": \"English\"}, {\"id\": \"568\", \"title\": \"Heyfield Herald (Vic. : 1914 - 1918)\", \"language\": \"en\", \"proportion\": 1.0, \"number\": \"100\", \"language_full\": \"English\"}, {\"id\": \"762\", \"title\": \"Heytesbury Reformer and Cobden and Camperdown Advertiser (Vic. : 1914 - 1918)\", \"language\": \"en\", \"proportion\": 1.0, \"number\": \"100\", \"language_full\": \"English\"}, {\"id\": \"569\", \"title\": \"Hopetoun Courier and Mallee Pioneer (Vic. : 1914 - 1918)\", \"language\": \"en\", \"proportion\": 1.0, \"number\": \"100\", \"language_full\": \"English\"}, {\"id\": \"940\", \"title\": \"Illustrated Australian Mail (Vic. : 1861 - 1862)\", \"language\": \"en\", \"proportion\": 1.0, \"number\": \"35\", \"language_full\": \"English\"}, {\"id\": \"70\", \"title\": \"Illustrated Australian News (Melbourne, Vic. : 1876 - 1889)\", \"language\": \"en\", \"proportion\": 1.0, \"number\": \"100\", \"language_full\": \"English\"}, {\"id\": \"71\", \"title\": \"Illustrated Australian News (Melbourne, Vic. : 1890 - 1896)\", \"language\": \"en\", \"proportion\": 0.98989898989899, \"number\": \"100\", \"language_full\": \"English\"}, {\"id\": \"71\", \"title\": \"Illustrated Australian News (Melbourne, Vic. : 1890 - 1896)\", \"language\": \"mt\", \"proportion\": 0.010101010101010102, \"number\": \"100\", \"language_full\": \"Maltese\"}, {\"id\": \"105\", \"title\": \"Illustrated Australian News and Musical Times (Melbourne, Vic. : 1889 - 1890)\", \"language\": \"en\", \"proportion\": 1.0, \"number\": \"100\", \"language_full\": \"English\"}, {\"id\": \"72\", \"title\": \"Illustrated Australian News for Home Readers (Melbourne, Vic. : 1867 - 1875)\", \"language\": \"en\", \"proportion\": 1.0, \"number\": \"100\", \"language_full\": \"English\"}, {\"id\": \"231\", \"title\": \"Independent (Footscray, Vic. : 1883 - 1922)\", \"language\": \"en\", \"proportion\": 1.0, \"number\": \"100\", \"language_full\": \"English\"}, {\"id\": \"570\", \"title\": \"Inglewood Advertiser (Vic. : 1914 - 1918)\", \"language\": \"en\", \"proportion\": 0.9583333333333334, \"number\": \"100\", \"language_full\": \"English\"}, {\"id\": \"570\", \"title\": \"Inglewood Advertiser (Vic. : 1914 - 1918)\", \"language\": \"mt\", \"proportion\": 0.041666666666666664, \"number\": \"100\", \"language_full\": \"Maltese\"}, {\"id\": \"1189\", \"title\": \"Jamboree Daily (Frankston, Vic. : 1934; 1949; 1955; 1964; 1976; 1992; 2007)\", \"language\": \"en\", \"proportion\": 1.0, \"number\": \"100\", \"language_full\": \"English\"}, {\"id\": \"571\", \"title\": \"Jamieson and Woodspoint Chronicle and Upper Goulburn Advertiser (Vic. : 1914 - 1916)\", \"language\": \"en\", \"proportion\": 1.0, \"number\": \"100\", \"language_full\": \"English\"}, {\"id\": \"712\", \"title\": \"Jewish Herald (Vic. : 1879 - 1920)\", \"language\": \"en\", \"proportion\": 1.0, \"number\": \"100\", \"language_full\": \"English\"}, {\"id\": \"297\", \"title\": \"Kerang New Times (Vic. : 1901 - 1918)\", \"language\": \"en\", \"proportion\": 1.0, \"number\": \"100\", \"language_full\": \"English\"}, {\"id\": \"766\", \"title\": \"Kerang Observer (Vic. : 1914 - 1918)\", \"language\": \"en\", \"proportion\": 1.0, \"number\": \"100\", \"language_full\": \"English\"}, {\"id\": \"195\", \"title\": \"Kerang Times and Swan Hill Gazette (Vic. : 1877 - 1889)\", \"language\": \"en\", \"proportion\": 1.0, \"number\": \"100\", \"language_full\": \"English\"}, {\"id\": \"779\", \"title\": \"Kilmore Advertiser (Vic. : 1915 - 1918)\", \"language\": \"en\", \"proportion\": 0.9897959183673469, \"number\": \"100\", \"language_full\": \"English\"}, {\"id\": \"779\", \"title\": \"Kilmore Advertiser (Vic. : 1915 - 1918)\", \"language\": \"mt\", \"proportion\": 0.01020408163265306, \"number\": \"100\", \"language_full\": \"Maltese\"}, {\"id\": \"127\", \"title\": \"Kilmore Free Press (Kilmore, Vic. : 1870 - 1954)\", \"language\": \"en\", \"proportion\": 1.0, \"number\": \"100\", \"language_full\": \"English\"}, {\"id\": \"125\", \"title\": \"Kilmore Free Press and Bourke and Dalhousie Advertiser (Kilmore, Vic. : 1865)\", \"language\": \"en\", \"proportion\": 1.0, \"number\": \"14\", \"language_full\": \"English\"}, {\"id\": \"126\", \"title\": \"Kilmore Free Press and Counties of Bourke and Dalhousie Advertiser (Kilmore, Vic. : 1865 - 1868)\", \"language\": \"en\", \"proportion\": 1.0, \"number\": \"100\", \"language_full\": \"English\"}, {\"id\": \"572\", \"title\": \"Kooweerup Sun, Lang Lang Guardian and Cranbourne Shire Record (Vic. : 1918)\", \"language\": \"en\", \"proportion\": 1.0, \"number\": \"100\", \"language_full\": \"English\"}, {\"id\": \"573\", \"title\": \"Koroit Sentinel and Tower Hill Advocate (Vic. : 1914 - 1918)\", \"language\": \"en\", \"proportion\": 1.0, \"number\": \"100\", \"language_full\": \"English\"}, {\"id\": \"574\", \"title\": \"Korong Vale Lance and North West Advertiser (Vic. : 1914 - 1915)\", \"language\": \"en\", \"proportion\": 0.99, \"number\": \"100\", \"language_full\": \"English\"}, {\"id\": \"574\", \"title\": \"Korong Vale Lance and North West Advertiser (Vic. : 1914 - 1915)\", \"language\": \"mt\", \"proportion\": 0.01, \"number\": \"100\", \"language_full\": \"Maltese\"}, {\"id\": \"752\", \"title\": \"Kyabram Free Press and Rodney and Deakin Shire Advocate (Vic. : 1914 - 1918)\", \"language\": \"en\", \"proportion\": 1.0, \"number\": \"100\", \"language_full\": \"English\"}, {\"id\": \"753\", \"title\": \"Kyabram Guardian (Vic. : 1914 - 1918)\", \"language\": \"en\", \"proportion\": 1.0, \"number\": \"100\", \"language_full\": \"English\"}, {\"id\": \"196\", \"title\": \"Kyabram Union (Vic. : 1886 - 1894)\", \"language\": \"en\", \"proportion\": 0.9318181818181818, \"number\": \"100\", \"language_full\": \"English\"}, {\"id\": \"196\", \"title\": \"Kyabram Union (Vic. : 1886 - 1894)\", \"language\": \"mt\", \"proportion\": 0.06818181818181818, \"number\": \"100\", \"language_full\": \"Maltese\"}, {\"id\": \"575\", \"title\": \"Kyneton Guardian (Vic. : 1870 - 1881; 1914 - 1918)\", \"language\": \"en\", \"proportion\": 1.0, \"number\": \"100\", \"language_full\": \"English\"}, {\"id\": \"1762\", \"title\": \"Kyneton Guardian and Woodend and Malmsbury Chronicle (Vic. : 1863 - 1870)\", \"language\": \"en\", \"proportion\": 1.0, \"number\": \"100\", \"language_full\": \"English\"}, {\"id\": \"795\", \"title\": \"Labor Call (Melbourne, Vic. : 1906 - 1953)\", \"language\": \"en\", \"proportion\": 1.0, \"number\": \"100\", \"language_full\": \"English\"}, {\"id\": \"576\", \"title\": \"Lancefield Mercury and West Bourke Agricultural Record (Vic. : 1914 - 1918)\", \"language\": \"en\", \"proportion\": 1.0, \"number\": \"100\", \"language_full\": \"English\"}, {\"id\": \"577\", \"title\": \"Lang Lang Guardian (Vic. : 1914 - 1918)\", \"language\": \"en\", \"proportion\": 1.0, \"number\": \"100\", \"language_full\": \"English\"}, {\"id\": \"319\", \"title\": \"Leader (Melbourne, Vic. : 1862 - 1918, 1935)\", \"language\": \"en\", \"proportion\": 1.0, \"number\": \"100\", \"language_full\": \"English\"}, {\"id\": \"578\", \"title\": \"Lismore, Derrinallum and Cressy Advertiser (Vic. : 1914 - 1918)\", \"language\": \"en\", \"proportion\": 1.0, \"number\": \"100\", \"language_full\": \"English\"}, {\"id\": \"579\", \"title\": \"Maldon News (Vic. : 1916 - 1918)\", \"language\": \"en\", \"proportion\": 1.0, \"number\": \"100\", \"language_full\": \"English\"}, {\"id\": \"168\", \"title\": \"Malvern and Caulfield Standard (Vic. : 1906)\", \"language\": \"en\", \"proportion\": 1.0, \"number\": \"100\", \"language_full\": \"English\"}, {\"id\": \"580\", \"title\": \"Malvern Courier and Caulfield Mirror (Vic. : 1914 - 1917)\", \"language\": \"en\", \"proportion\": 1.0, \"number\": \"100\", \"language_full\": \"English\"}, {\"id\": \"781\", \"title\": \"Malvern News (Vic. : 1914 - 1916)\", \"language\": \"en\", \"proportion\": 1.0, \"number\": \"100\", \"language_full\": \"English\"}, {\"id\": \"169\", \"title\": \"Malvern Standard (Vic. : 1906 - 1931)\", \"language\": \"en\", \"proportion\": 1.0, \"number\": \"100\", \"language_full\": \"English\"}, {\"id\": \"317\", \"title\": \"Maryborough and Dunolly Advertiser (Vic. : 1857 - 1867 ; 1914 - 1918)\", \"language\": \"en\", \"proportion\": 1.0, \"number\": \"100\", \"language_full\": \"English\"}, {\"id\": \"874\", \"title\": \"Melbourne Punch (Vic. : 1855 - 1900)\", \"language\": \"en\", \"proportion\": 1.0, \"number\": \"100\", \"language_full\": \"English\"}, {\"id\": \"1025\", \"title\": \"Melbourne Times (Vic. : 1842 - 1843)\", \"language\": \"en\", \"proportion\": 1.0, \"number\": \"100\", \"language_full\": \"English\"}, {\"id\": \"332\", \"title\": \"Melton Express (Vic. : 1915 - 1943)\", \"language\": \"en\", \"proportion\": 1.0, \"number\": \"100\", \"language_full\": \"English\"}, {\"id\": \"122\", \"title\": \"Mercury (Fitzroy, Vic. : 1875 - 1877)\", \"language\": \"en\", \"proportion\": 1.0, \"number\": \"100\", \"language_full\": \"English\"}, {\"id\": \"123\", \"title\": \"Mercury and Weekly Courier (Vic. : 1878 - 1903)\", \"language\": \"en\", \"proportion\": 1.0, \"number\": \"100\", \"language_full\": \"English\"}, {\"id\": \"788\", \"title\": \"Minyip Guardian and Sheep Hills Advocate (Vic. : 1915 - 1918)\", \"language\": \"en\", \"proportion\": 1.0, \"number\": \"100\", \"language_full\": \"English\"}, {\"id\": \"333\", \"title\": \"Moorabbin News (Vic. : 1914 - 1918)\", \"language\": \"en\", \"proportion\": 1.0, \"number\": \"100\", \"language_full\": \"English\"}, {\"id\": \"206\", \"title\": \"Mornington and Dromana Standard (Vic. : 1908 - 1911)\", \"language\": \"en\", \"proportion\": 1.0, \"number\": \"100\", \"language_full\": \"English\"}, {\"id\": \"210\", \"title\": \"Mornington Standard (Frankston, Vic. : 1911 - 1920)\", \"language\": \"en\", \"proportion\": 1.0, \"number\": \"100\", \"language_full\": \"English\"}, {\"id\": \"205\", \"title\": \"Mornington Standard (Vic. : 1889 - 1908)\", \"language\": \"en\", \"proportion\": 1.0, \"number\": \"100\", \"language_full\": \"English\"}, {\"id\": \"581\", \"title\": \"Mortlake Dispatch (Vic. : 1914 - 1918)\", \"language\": \"en\", \"proportion\": 1.0, \"number\": \"100\", \"language_full\": \"English\"}, {\"id\": \"133\", \"title\": \"Morwell Advertiser (Morwell, Vic. : 1888 - 1954)\", \"language\": \"en\", \"proportion\": 0.9550561797752809, \"number\": \"100\", \"language_full\": \"English\"}, {\"id\": \"133\", \"title\": \"Morwell Advertiser (Morwell, Vic. : 1888 - 1954)\", \"language\": \"fy\", \"proportion\": 0.011235955056179775, \"number\": \"100\", \"language_full\": \"Western Frisian\"}, {\"id\": \"133\", \"title\": \"Morwell Advertiser (Morwell, Vic. : 1888 - 1954)\", \"language\": \"mt\", \"proportion\": 0.033707865168539325, \"number\": \"100\", \"language_full\": \"Maltese\"}, {\"id\": \"132\", \"title\": \"Morwell Advertiser and Weekly Chronicle (Morwell, Vic. : 1887 - 1888)\", \"language\": \"en\", \"proportion\": 1.0, \"number\": \"100\", \"language_full\": \"English\"}, {\"id\": \"773\", \"title\": \"Morwell and Yinnar Gazette (Vic. : 1914 - 1916)\", \"language\": \"en\", \"proportion\": 1.0, \"number\": \"100\", \"language_full\": \"English\"}, {\"id\": \"582\", \"title\": \"Mount Alexander Mail (Vic. : 1854 - 1917)\", \"language\": \"en\", \"proportion\": 1.0, \"number\": \"100\", \"language_full\": \"English\"}, {\"id\": \"791\", \"title\": \"Mount Wycheproof Ensign and East Wimmera Advocate (Vic. : 1914 - 1918)\", \"language\": \"en\", \"proportion\": 1.0, \"number\": \"100\", \"language_full\": \"English\"}, {\"id\": \"1494\", \"title\": \"Mountain District Free Press (Tecoma, Vic. : 1947 - 1954)\", \"language\": \"en\", \"proportion\": 1.0, \"number\": \"100\", \"language_full\": \"English\"}, {\"id\": \"583\", \"title\": \"Murchison Advertiser and Murchison, Toolamba, Mooroopna and Dargalong Express (Vic. : 1914 - 1918)\", \"language\": \"en\", \"proportion\": 1.0, \"number\": \"100\", \"language_full\": \"English\"}, {\"id\": \"584\", \"title\": \"Myrtleford Mail and Whorouly Witness (Vic. : 1914 - 1918)\", \"language\": \"en\", \"proportion\": 1.0, \"number\": \"100\", \"language_full\": \"English\"}, {\"id\": \"1766\", \"title\": \"Nagambie Herald and Goulburn Valley Advertiser (Vic. : 1873)\", \"language\": \"en\", \"proportion\": 1.0, \"number\": \"29\", \"language_full\": \"English\"}, {\"id\": \"585\", \"title\": \"Nagambie Times (Vic. : 1882 - 1920)\", \"language\": \"en\", \"proportion\": 1.0, \"number\": \"100\", \"language_full\": \"English\"}, {\"id\": \"587\", \"title\": \"Nathalia Herald and Picola, Narioka, Kotupna and Moira Advertiser (Vic. : 1914 - 1918)\", \"language\": \"en\", \"proportion\": 1.0, \"number\": \"100\", \"language_full\": \"English\"}, {\"id\": \"588\", \"title\": \"Nhill Free Press (Vic. : 1914 - 1918)\", \"language\": \"en\", \"proportion\": 1.0, \"number\": \"100\", \"language_full\": \"English\"}, {\"id\": \"797\", \"title\": \"Norden (Melbourne, Vic. : 1914 - 1918)\", \"language\": \"da\", \"proportion\": 0.7528089887640449, \"number\": \"100\", \"language_full\": \"Danish\"}, {\"id\": \"797\", \"title\": \"Norden (Melbourne, Vic. : 1914 - 1918)\", \"language\": \"en\", \"proportion\": 0.06741573033707865, \"number\": \"100\", \"language_full\": \"English\"}, {\"id\": \"797\", \"title\": \"Norden (Melbourne, Vic. : 1914 - 1918)\", \"language\": \"mt\", \"proportion\": 0.0449438202247191, \"number\": \"100\", \"language_full\": \"Maltese\"}, {\"id\": \"797\", \"title\": \"Norden (Melbourne, Vic. : 1914 - 1918)\", \"language\": \"sv\", \"proportion\": 0.11235955056179775, \"number\": \"100\", \"language_full\": \"Swedish\"}, {\"id\": \"797\", \"title\": \"Norden (Melbourne, Vic. : 1914 - 1918)\", \"language\": \"no\", \"proportion\": 0.011235955056179775, \"number\": \"100\", \"language_full\": \"Norwegian\"}, {\"id\": \"797\", \"title\": \"Norden (Melbourne, Vic. : 1914 - 1918)\", \"language\": \"et\", \"proportion\": 0.011235955056179775, \"number\": \"100\", \"language_full\": \"Estonian\"}, {\"id\": \"151\", \"title\": \"North Melbourne Advertiser (Vic. : 1873 - 1894)\", \"language\": \"en\", \"proportion\": 1.0, \"number\": \"100\", \"language_full\": \"English\"}, {\"id\": \"385\", \"title\": \"North Melbourne Courier and West Melbourne Advertiser (Vic. : 1895 - 1913)\", \"language\": \"en\", \"proportion\": 1.0, \"number\": \"100\", \"language_full\": \"English\"}, {\"id\": \"384\", \"title\": \"North Melbourne Gazette (Vic. : 1894 - 1901)\", \"language\": \"en\", \"proportion\": 0.7848101265822784, \"number\": \"100\", \"language_full\": \"English\"}, {\"id\": \"384\", \"title\": \"North Melbourne Gazette (Vic. : 1894 - 1901)\", \"language\": \"mt\", \"proportion\": 0.189873417721519, \"number\": \"100\", \"language_full\": \"Maltese\"}, {\"id\": \"384\", \"title\": \"North Melbourne Gazette (Vic. : 1894 - 1901)\", \"language\": \"cy\", \"proportion\": 0.02531645569620253, \"number\": \"100\", \"language_full\": \"Welsh\"}, {\"id\": \"589\", \"title\": \"Northcote Leader (Vic. : 1914 - 1918)\", \"language\": \"en\", \"proportion\": 1.0, \"number\": \"100\", \"language_full\": \"English\"}, {\"id\": \"590\", \"title\": \"Northern District Standard (Vic. : 1915 - 1916)\", \"language\": \"en\", \"proportion\": 0.9895833333333334, \"number\": \"100\", \"language_full\": \"English\"}, {\"id\": \"590\", \"title\": \"Northern District Standard (Vic. : 1915 - 1916)\", \"language\": \"da\", \"proportion\": 0.010416666666666666, \"number\": \"100\", \"language_full\": \"Danish\"}, {\"id\": \"591\", \"title\": \"Numurkah Leader (Vic. : 1895 - 1948)\", \"language\": \"en\", \"proportion\": 1.0, \"number\": \"100\", \"language_full\": \"English\"}, {\"id\": \"771\", \"title\": \"Numurkah Standard and Wunghnu, Cobram, Yarroweyah and Strathmerton Advocate (Vic. : 1914 - 1918)\", \"language\": \"en\", \"proportion\": 1.0, \"number\": \"100\", \"language_full\": \"English\"}, {\"id\": \"304\", \"title\": \"Oakleigh and Caulfield Times Mulgrave and Ferntree Gully Guardian (Vic. : 1914 - 1918)\", \"language\": \"en\", \"proportion\": 1.0, \"number\": \"100\", \"language_full\": \"English\"}, {\"id\": \"215\", \"title\": \"Oakleigh Leader (North Brighton, Vic. : 1888 - 1902)\", \"language\": \"en\", \"proportion\": 1.0, \"number\": \"100\", \"language_full\": \"English\"}, {\"id\": \"214\", \"title\": \"Oakleigh Leader and District Record (Brighton, Vic. : 1887 - 1888)\", \"language\": \"en\", \"proportion\": 1.0, \"number\": \"100\", \"language_full\": \"English\"}, {\"id\": \"592\", \"title\": \"Omeo Standard and Mining Gazette (Vic. : 1914 - 1918)\", \"language\": \"en\", \"proportion\": 1.0, \"number\": \"100\", \"language_full\": \"English\"}, {\"id\": \"778\", \"title\": \"Ouyen and North West Express (Vic. : 1918)\", \"language\": \"en\", \"proportion\": 1.0, \"number\": \"100\", \"language_full\": \"English\"}, {\"id\": \"305\", \"title\": \"Ouyen Mail (Vic. : 1915 - 1918, 1931 - 1941)\", \"language\": \"en\", \"proportion\": 1.0, \"number\": \"100\", \"language_full\": \"English\"}, {\"id\": \"306\", \"title\": \"Ouyen Mail and Central Mallee Advertiser (Vic. : 1914 - 1915)\", \"language\": \"en\", \"proportion\": 1.0, \"number\": \"100\", \"language_full\": \"English\"}, {\"id\": \"326\", \"title\": \"Ovens and Murray Advertiser (Beechworth, Vic. : 1855 - 1918)\", \"language\": \"en\", \"proportion\": 1.0, \"number\": \"100\", \"language_full\": \"English\"}, {\"id\": \"327\", \"title\": \"Pakenham Gazette and Berwick Shire News (Pakenham East, Vic. : 1917 - 1918)\", \"language\": \"en\", \"proportion\": 1.0, \"number\": \"100\", \"language_full\": \"English\"}, {\"id\": \"593\", \"title\": \"Penshurst Free Press (Vic. : 1901 - 1918)\", \"language\": \"en\", \"proportion\": 1.0, \"number\": \"100\", \"language_full\": \"English\"}, {\"id\": \"594\", \"title\": \"Pitfield Banner and Hollybush Times (Vic. : 1914 - 1918)\", \"language\": \"en\", \"proportion\": 1.0, \"number\": \"100\", \"language_full\": \"English\"}, {\"id\": \"307\", \"title\": \"Port Fairy Gazette (Vic. : 1914 - 1918)\", \"language\": \"en\", \"proportion\": 1.0, \"number\": \"100\", \"language_full\": \"English\"}, {\"id\": \"764\", \"title\": \"Port Fairy Times and Macarthur News (Vic. : 1917 - 1918)\", \"language\": \"en\", \"proportion\": 1.0, \"number\": \"100\", \"language_full\": \"English\"}, {\"id\": \"308\", \"title\": \"Port Melbourne Standard (Vic. : 1914 - 1920)\", \"language\": \"en\", \"proportion\": 1.0, \"number\": \"100\", \"language_full\": \"English\"}, {\"id\": \"1137\", \"title\": \"Port Phillip Gazette (Vic. : 1838 - 1845)\", \"language\": \"en\", \"proportion\": 1.0, \"number\": \"100\", \"language_full\": \"English\"}, {\"id\": \"1139\", \"title\": \"Port Phillip Gazette (Vic. : 1851)\", \"language\": \"en\", \"proportion\": 0.9896907216494846, \"number\": \"100\", \"language_full\": \"English\"}, {\"id\": \"1139\", \"title\": \"Port Phillip Gazette (Vic. : 1851)\", \"language\": \"mt\", \"proportion\": 0.010309278350515464, \"number\": \"100\", \"language_full\": \"Maltese\"}, {\"id\": \"1138\", \"title\": \"Port Phillip Gazette and Settler's Journal (Vic. : 1845 - 1850)\", \"language\": \"en\", \"proportion\": 1.0, \"number\": \"100\", \"language_full\": \"English\"}, {\"id\": \"936\", \"title\": \"Port Phillip Patriot and Melbourne Advertiser (Vic. : 1839 - 1845)\", \"language\": \"en\", \"proportion\": 1.0, \"number\": \"100\", \"language_full\": \"English\"}, {\"id\": \"109\", \"title\": \"Portland Guardian (Vic. : 1876 - 1953)\", \"language\": \"en\", \"proportion\": 1.0, \"number\": \"100\", \"language_full\": \"English\"}, {\"id\": \"110\", \"title\": \"Portland Guardian and Normanby General Advertiser (Vic. : 1842 - 1843; 1854 - 1876)\", \"language\": \"en\", \"proportion\": 0.9897959183673469, \"number\": \"100\", \"language_full\": \"English\"}, {\"id\": \"110\", \"title\": \"Portland Guardian and Normanby General Advertiser (Vic. : 1842 - 1843; 1854 - 1876)\", \"language\": \"mt\", \"proportion\": 0.01020408163265306, \"number\": \"100\", \"language_full\": \"Maltese\"}, {\"id\": \"298\", \"title\": \"Portland Observer and Normanby Advertiser (Vic. : 1914 - 1918)\", \"language\": \"en\", \"proportion\": 1.0, \"number\": \"100\", \"language_full\": \"English\"}, {\"id\": \"595\", \"title\": \"Powlett Express and Victorian State Coalfields Advertiser (Vic. : 1915 - 1918)\", \"language\": \"en\", \"proportion\": 1.0, \"number\": \"100\", \"language_full\": \"English\"}, {\"id\": \"309\", \"title\": \"Prahran Chronicle (Vic. : 1894 - 1906; 1914 - 1918)\", \"language\": \"en\", \"proportion\": 1.0, \"number\": \"100\", \"language_full\": \"English\"}, {\"id\": \"328\", \"title\": \"Preston Leader (Vic. : 1914 - 1918)\", \"language\": \"en\", \"proportion\": 1.0, \"number\": \"100\", \"language_full\": \"English\"}, {\"id\": \"1574\", \"title\": \"Progress (North Fitzroy, Vic. : 1889 - 1890)\", \"language\": \"en\", \"proportion\": 1.0, \"number\": \"100\", \"language_full\": \"English\"}, {\"id\": \"776\", \"title\": \"Public Opinion (Melbourne, Vic. : 1914 - 1915)\", \"language\": \"en\", \"proportion\": 1.0, \"number\": \"100\", \"language_full\": \"English\"}, {\"id\": \"596\", \"title\": \"Punch (Melbourne, Vic. : 1900 - 1918; 1925)\", \"language\": \"en\", \"proportion\": 1.0, \"number\": \"100\", \"language_full\": \"English\"}, {\"id\": \"597\", \"title\": \"Quambatook Times (Vic. : 1914 - 1918)\", \"language\": \"en\", \"proportion\": 1.0, \"number\": \"100\", \"language_full\": \"English\"}, {\"id\": \"234\", \"title\": \"Queenscliff Sentinel, Drysdale, ... (Vic. : 1882 - 1884)\", \"language\": \"en\", \"proportion\": 1.0, \"number\": \"100\", \"language_full\": \"English\"}, {\"id\": \"230\", \"title\": \"Queenscliff Sentinel, Drysdale, Portarlington and Sorrento Advertiser (Vic. : 1885 - 1894)\", \"language\": \"en\", \"proportion\": 1.0, \"number\": \"100\", \"language_full\": \"English\"}, {\"id\": \"313\", \"title\": \"Queenscliff Sentinel, Drysdale, Portarlington, Sorrento Advertiser (Vic. : 1914 - 1918)\", \"language\": \"en\", \"proportion\": 1.0, \"number\": \"100\", \"language_full\": \"English\"}, {\"id\": \"598\", \"title\": \"Rainbow Argus (Vic. : 1914 - 1918)\", \"language\": \"en\", \"proportion\": 1.0, \"number\": \"100\", \"language_full\": \"English\"}, {\"id\": \"527\", \"title\": \"Record (Emerald Hill, Vic. : 1868 - 1872)\", \"language\": \"en\", \"proportion\": 1.0, \"number\": \"100\", \"language_full\": \"English\"}, {\"id\": \"248\", \"title\": \"Record (Emerald Hill, Vic. : 1881 - 1954)\", \"language\": \"en\", \"proportion\": 1.0, \"number\": \"100\", \"language_full\": \"English\"}, {\"id\": \"599\", \"title\": \"Richmond Australian (Vic. : 1912 - 1916)\", \"language\": \"en\", \"proportion\": 0.99, \"number\": \"100\", \"language_full\": \"English\"}, {\"id\": \"599\", \"title\": \"Richmond Australian (Vic. : 1912 - 1916)\", \"language\": \"mt\", \"proportion\": 0.01, \"number\": \"100\", \"language_full\": \"Maltese\"}, {\"id\": \"310\", \"title\": \"Richmond Guardian (Vic. : 1884 - 1885; 1894 - 1895; 1902 - 1928)\", \"language\": \"en\", \"proportion\": 0.99, \"number\": \"100\", \"language_full\": \"English\"}, {\"id\": \"310\", \"title\": \"Richmond Guardian (Vic. : 1884 - 1885; 1894 - 1895; 1902 - 1928)\", \"language\": \"zu\", \"proportion\": 0.01, \"number\": \"100\", \"language_full\": \"Zulu\"}, {\"id\": \"329\", \"title\": \"Ringwood and Croydon Chronicle (Vic. : 1914 - 1918)\", \"language\": \"en\", \"proportion\": 0.9381443298969072, \"number\": \"100\", \"language_full\": \"English\"}, {\"id\": \"329\", \"title\": \"Ringwood and Croydon Chronicle (Vic. : 1914 - 1918)\", \"language\": \"mt\", \"proportion\": 0.061855670103092786, \"number\": \"100\", \"language_full\": \"Maltese\"}, {\"id\": \"600\", \"title\": \"Riponshire Advocate (Vic. : 1914 - 1918)\", \"language\": \"en\", \"proportion\": 1.0, \"number\": \"100\", \"language_full\": \"English\"}, {\"id\": \"601\", \"title\": \"Rochester Express (Vic. : 1914 - 1918)\", \"language\": \"en\", \"proportion\": 1.0, \"number\": \"100\", \"language_full\": \"English\"}, {\"id\": \"602\", \"title\": \"Rosedale Courier (Vic. : 1914 - 1918)\", \"language\": \"en\", \"proportion\": 1.0, \"number\": \"100\", \"language_full\": \"English\"}, {\"id\": \"603\", \"title\": \"Rupanyup Spectator and Lubeck, Banyena, Rich Avon and Lallat Advertiser (Vic. : 1914 - 1918)\", \"language\": \"en\", \"proportion\": 1.0, \"number\": \"100\", \"language_full\": \"English\"}, {\"id\": \"604\", \"title\": \"Rutherglen Sun and Chiltern Valley Advertiser (Vic. : 1914 - 1918)\", \"language\": \"en\", \"proportion\": 1.0, \"number\": \"100\", \"language_full\": \"English\"}, {\"id\": \"749\", \"title\": \"Sandringham News (Vic. : 1918)\", \"language\": \"en\", \"proportion\": 1.0, \"number\": \"100\", \"language_full\": \"English\"}, {\"id\": \"318\", \"title\": \"Sandringham Southern Cross (Vic. : 1914 - 1918)\", \"language\": \"en\", \"proportion\": 0.7317073170731707, \"number\": \"100\", \"language_full\": \"English\"}, {\"id\": \"318\", \"title\": \"Sandringham Southern Cross (Vic. : 1914 - 1918)\", \"language\": \"mt\", \"proportion\": 0.24390243902439024, \"number\": \"100\", \"language_full\": \"Maltese\"}, {\"id\": \"318\", \"title\": \"Sandringham Southern Cross (Vic. : 1914 - 1918)\", \"language\": \"cy\", \"proportion\": 0.012195121951219513, \"number\": \"100\", \"language_full\": \"Welsh\"}, {\"id\": \"318\", \"title\": \"Sandringham Southern Cross (Vic. : 1914 - 1918)\", \"language\": \"ca\", \"proportion\": 0.012195121951219513, \"number\": \"100\", \"language_full\": \"Catalan\"}, {\"id\": \"789\", \"title\": \"Sea Lake Times and Berriwillock Advertiser (Vic. : 1914 - 1918)\", \"language\": \"en\", \"proportion\": 1.0, \"number\": \"100\", \"language_full\": \"English\"}, {\"id\": \"1043\", \"title\": \"Seamen's Strike Bulletin (Melbourne, Vic. : 1919)\", \"language\": \"bs\", \"proportion\": 0.2, \"number\": \"7\", \"language_full\": \"Bosnian\"}, {\"id\": \"1043\", \"title\": \"Seamen's Strike Bulletin (Melbourne, Vic. : 1919)\", \"language\": \"pl\", \"proportion\": 0.4, \"number\": \"7\", \"language_full\": \"Polish\"}, {\"id\": \"1043\", \"title\": \"Seamen's Strike Bulletin (Melbourne, Vic. : 1919)\", \"language\": \"ru-Latn\", \"proportion\": 0.2, \"number\": \"7\", \"language_full\": \"Russian\"}, {\"id\": \"1043\", \"title\": \"Seamen's Strike Bulletin (Melbourne, Vic. : 1919)\", \"language\": \"fy\", \"proportion\": 0.2, \"number\": \"7\", \"language_full\": \"Western Frisian\"}, {\"id\": \"772\", \"title\": \"Seaside News (Cheltenham, Vic. : 1915 - 1918)\", \"language\": \"en\", \"proportion\": 1.0, \"number\": \"100\", \"language_full\": \"English\"}, {\"id\": \"334\", \"title\": \"Seymour Express and Goulburn Valley, Avenel, Graytown, Nagambie, Tallarook and Yea Advertiser (Vic. : 1882 - 1891; 1914 - 1918)\", \"language\": \"en\", \"proportion\": 1.0, \"number\": \"100\", \"language_full\": \"English\"}, {\"id\": \"331\", \"title\": \"Shepparton Advertiser (Vic. : 1914 - 1953)\", \"language\": \"en\", \"proportion\": 1.0, \"number\": \"100\", \"language_full\": \"English\"}, {\"id\": \"605\", \"title\": \"Shepparton News (Vic. : 1914 - 1918)\", \"language\": \"en\", \"proportion\": 1.0, \"number\": \"100\", \"language_full\": \"English\"}, {\"id\": \"330\", \"title\": \"Snowy River Mail (Orbost, Vic. : 1911 - 1918)\", \"language\": \"en\", \"proportion\": 1.0, \"number\": \"100\", \"language_full\": \"English\"}, {\"id\": \"208\", \"title\": \"South Bourke and Mornington Journal (Richmond, Vic. : 1877 - 1920; 1926 - 1927)\", \"language\": \"en\", \"proportion\": 1.0, \"number\": \"100\", \"language_full\": \"English\"}, {\"id\": \"150\", \"title\": \"South Bourke Standard (Vic. : 1861 - 1873)\", \"language\": \"en\", \"proportion\": 1.0, \"number\": \"100\", \"language_full\": \"English\"}, {\"id\": \"782\", \"title\": \"South Gippsland Shire Echo (Vic. : 1914 - 1918)\", \"language\": \"en\", \"proportion\": 1.0, \"number\": \"100\", \"language_full\": \"English\"}, {\"id\": \"794\", \"title\": \"Spectator and Methodist Chronicle (Melbourne, Vic. : 1914 - 1929)\", \"language\": \"en\", \"proportion\": 1.0, \"number\": \"100\", \"language_full\": \"English\"}, {\"id\": \"875\", \"title\": \"Sporting Globe (Melbourne, Vic. : 1922 - 1954)\", \"language\": \"en\", \"proportion\": 1.0, \"number\": \"100\", \"language_full\": \"English\"}, {\"id\": \"798\", \"title\": \"Sporting Judge (Melbourne, Vic. : 1914 - 1918)\", \"language\": \"en\", \"proportion\": 1.0, \"number\": \"100\", \"language_full\": \"English\"}, {\"id\": \"1141\", \"title\": \"Sportsman (Melbourne, Vic. : 1882 - 1904)\", \"language\": \"en\", \"proportion\": 1.0, \"number\": \"100\", \"language_full\": \"English\"}, {\"id\": \"299\", \"title\": \"St Arnaud Mercury (Vic. : 1914 - 1918)\", \"language\": \"en\", \"proportion\": 1.0, \"number\": \"100\", \"language_full\": \"English\"}, {\"id\": \"237\", \"title\": \"Standard (Frankston, Vic. : 1939 - 1949)\", \"language\": \"en\", \"proportion\": 1.0, \"number\": \"100\", \"language_full\": \"English\"}, {\"id\": \"335\", \"title\": \"Standard (Port Melbourne, Vic. : 1884 - 1914)\", \"language\": \"en\", \"proportion\": 1.0, \"number\": \"100\", \"language_full\": \"English\"}, {\"id\": \"606\", \"title\": \"Stawell News and Pleasant Creek Chronicle (Vic. : 1914 - 1918)\", \"language\": \"en\", \"proportion\": 1.0, \"number\": \"100\", \"language_full\": \"English\"}, {\"id\": \"796\", \"title\": \"Stock and Land (Melbourne, Vic. : 1914 - 1918)\", \"language\": \"en\", \"proportion\": 1.0, \"number\": \"100\", \"language_full\": \"English\"}, {\"id\": \"607\", \"title\": \"Stratford Sentinel and Briagolong Express (Vic. : 1911 - 1916)\", \"language\": \"en\", \"proportion\": 1.0, \"number\": \"100\", \"language_full\": \"English\"}, {\"id\": \"1585\", \"title\": \"Sunraysia Daily (Mildura, Vic. : 1920 - 1937)\", \"language\": \"en\", \"proportion\": 1.0, \"number\": \"100\", \"language_full\": \"English\"}, {\"id\": \"251\", \"title\": \"Sunshine Advocate (Vic. : 1924 - 1954)\", \"language\": \"en\", \"proportion\": 1.0, \"number\": \"100\", \"language_full\": \"English\"}, {\"id\": \"300\", \"title\": \"Swan Hill Guardian and Lake Boga Advocate (Vic. : 1914 - 1918)\", \"language\": \"en\", \"proportion\": 1.0, \"number\": \"100\", \"language_full\": \"English\"}, {\"id\": \"713\", \"title\": \"Table Talk (Melbourne, Vic. : 1885 - 1939)\", \"language\": \"en\", \"proportion\": 1.0, \"number\": \"100\", \"language_full\": \"English\"}, {\"id\": \"608\", \"title\": \"Talbot Leader (Vic. : 1914 - 1918)\", \"language\": \"en\", \"proportion\": 1.0, \"number\": \"100\", \"language_full\": \"English\"}, {\"id\": \"609\", \"title\": \"Terang Express (Vic. : 1914 - 1918)\", \"language\": \"en\", \"proportion\": 1.0, \"number\": \"100\", \"language_full\": \"English\"}, {\"id\": \"809\", \"title\": \"The Age (Melbourne, Vic. : 1854 - 1954)\", \"language\": \"en\", \"proportion\": 1.0, \"number\": \"100\", \"language_full\": \"English\"}, {\"id\": \"229\", \"title\": \"The Ararat Advertiser (Vic. : 1914 - 1918)\", \"language\": \"en\", \"proportion\": 1.0, \"number\": \"100\", \"language_full\": \"English\"}, {\"id\": \"1503\", \"title\": \"The Arena (Melbourne, Vic. : 1900 - 1903)\", \"language\": \"en\", \"proportion\": 1.0, \"number\": \"100\", \"language_full\": \"English\"}, {\"id\": \"1504\", \"title\": \"The Arena-Sun (Melbourne, Vic. : 1903 - 1904)\", \"language\": \"en\", \"proportion\": 1.0, \"number\": \"100\", \"language_full\": \"English\"}, {\"id\": \"13\", \"title\": \"The Argus (Melbourne, Vic. : 1848 - 1957)\", \"language\": \"en\", \"proportion\": 1.0, \"number\": \"100\", \"language_full\": \"English\"}, {\"id\": \"460\", \"title\": \"The Australasian (Melbourne, Vic. : 1864 - 1946)\", \"language\": \"en\", \"proportion\": 1.0, \"number\": \"100\", \"language_full\": \"English\"}, {\"id\": \"49\", \"title\": \"The Australasian Sketcher with Pen and Pencil (Melbourne, Vic. : 1873 - 1889)\", \"language\": \"en\", \"proportion\": 1.0, \"number\": \"100\", \"language_full\": \"English\"}, {\"id\": \"1706\", \"title\": \"The Australian Israelite (Melbourne, Vic. : 1871 - 1875)\", \"language\": \"en\", \"proportion\": 1.0, \"number\": \"100\", \"language_full\": \"English\"}, {\"id\": \"1684\", \"title\": \"The Australian Jewish Herald (Melbourne, Vic. : 1920 - 1933)\", \"language\": \"en\", \"proportion\": 1.0, \"number\": \"100\", \"language_full\": \"English\"}, {\"id\": \"1696\", \"title\": \"The Australian Jewish Herald (Melbourne, Vic. : 1935 - 1968)\", \"language\": \"en\", \"proportion\": 1.0, \"number\": \"100\", \"language_full\": \"English\"}, {\"id\": \"1685\", \"title\": \"The Australian Jewish News (Melbourne, Vic. : 1935 - 1999)\", \"language\": \"en\", \"proportion\": 0.8105263157894737, \"number\": \"100\", \"language_full\": \"English\"}, {\"id\": \"1685\", \"title\": \"The Australian Jewish News (Melbourne, Vic. : 1935 - 1999)\", \"language\": \"iw\", \"proportion\": 0.031578947368421054, \"number\": \"100\", \"language_full\": \"Hebrew\"}, {\"id\": \"1685\", \"title\": \"The Australian Jewish News (Melbourne, Vic. : 1935 - 1999)\", \"language\": \"yi\", \"proportion\": 0.15789473684210525, \"number\": \"100\", \"language_full\": \"Yiddish\"}, {\"id\": \"103\", \"title\": \"The Australian News for Home Readers (Vic. : 1864 - 1867)\", \"language\": \"en\", \"proportion\": 1.0, \"number\": \"100\", \"language_full\": \"English\"}, {\"id\": \"246\", \"title\": \"The Bacchus Marsh Express (Vic. : 1866 - 1943)\", \"language\": \"en\", \"proportion\": 1.0, \"number\": \"100\", \"language_full\": \"English\"}, {\"id\": \"534\", \"title\": \"The Ballan Times (Vic. : 1899 - 1920)\", \"language\": \"en\", \"proportion\": 0.9680851063829787, \"number\": \"100\", \"language_full\": \"English\"}, {\"id\": \"534\", \"title\": \"The Ballan Times (Vic. : 1899 - 1920)\", \"language\": \"mt\", \"proportion\": 0.031914893617021274, \"number\": \"100\", \"language_full\": \"Maltese\"}, {\"id\": \"1764\", \"title\": \"The Ballan Times and Blackwood, Blakeville and Myrniong Standard (Vic. : 1893 - 1895)\", \"language\": \"en\", \"proportion\": 1.0, \"number\": \"100\", \"language_full\": \"English\"}, {\"id\": \"1765\", \"title\": \"The Ballan Times and Egerton, Gordon, Blakeville and Myrniong Standard (Vic. : 1895 - 1899)\", \"language\": \"en\", \"proportion\": 1.0, \"number\": \"100\", \"language_full\": \"English\"}, {\"id\": \"1763\", \"title\": \"The Ballan Times and Gordon, Egerton, Wallace, Millbrook and Blackwood Advertiser (Vic. : 1890 - 1893)\", \"language\": \"en\", \"proportion\": 1.0, \"number\": \"100\", \"language_full\": \"English\"}, {\"id\": \"232\", \"title\": \"The Ballarat Courier (Vic. : 1869 - 1885; 1914 - 1918)\", \"language\": \"en\", \"proportion\": 0.9895833333333334, \"number\": \"100\", \"language_full\": \"English\"}, {\"id\": \"232\", \"title\": \"The Ballarat Courier (Vic. : 1869 - 1885; 1914 - 1918)\", \"language\": \"mt\", \"proportion\": 0.010416666666666666, \"number\": \"100\", \"language_full\": \"Maltese\"}, {\"id\": \"185\", \"title\": \"The Ballarat Star (Vic. : 1865 - 1924)\", \"language\": \"en\", \"proportion\": 1.0, \"number\": \"100\", \"language_full\": \"English\"}, {\"id\": \"805\", \"title\": \"The Banner (Melbourne, Vic. : 1853 - 1854)\", \"language\": \"en\", \"proportion\": 1.0, \"number\": \"100\", \"language_full\": \"English\"}, {\"id\": \"223\", \"title\": \"The Benalla Ensign and Farmer's and Squatter's Journal (Vic. : 1869 - 1872)\", \"language\": \"en\", \"proportion\": 1.0, \"number\": \"100\", \"language_full\": \"English\"}, {\"id\": \"806\", \"title\": \"The Bendigo Independent (Vic. : 1891 - 1918)\", \"language\": \"en\", \"proportion\": 1.0, \"number\": \"100\", \"language_full\": \"English\"}, {\"id\": \"129\", \"title\": \"The Broadford Courier (Broadford, Vic. : 1891 - 1893)\", \"language\": \"en\", \"proportion\": 1.0, \"number\": \"100\", \"language_full\": \"English\"}, {\"id\": \"131\", \"title\": \"The Broadford Courier (Broadford, Vic. : 1916 - 1920)\", \"language\": \"en\", \"proportion\": 0.9791666666666666, \"number\": \"100\", \"language_full\": \"English\"}, {\"id\": \"131\", \"title\": \"The Broadford Courier (Broadford, Vic. : 1916 - 1920)\", \"language\": \"mt\", \"proportion\": 0.010416666666666666, \"number\": \"100\", \"language_full\": \"Maltese\"}, {\"id\": \"131\", \"title\": \"The Broadford Courier (Broadford, Vic. : 1916 - 1920)\", \"language\": \"ku\", \"proportion\": 0.010416666666666666, \"number\": \"100\", \"language_full\": \"Kurdish\"}, {\"id\": \"128\", \"title\": \"The Broadford Courier and Reedy Creek Times (Broadford, Vic. : 1891)\", \"language\": \"en\", \"proportion\": 1.0, \"number\": \"100\", \"language_full\": \"English\"}, {\"id\": \"130\", \"title\": \"The Broadford Courier and Reedy Creek Times (Broadford, Vic. : 1893 - 1916)\", \"language\": \"en\", \"proportion\": 1.0, \"number\": \"100\", \"language_full\": \"English\"}, {\"id\": \"293\", \"title\": \"The Brunswick and Coburg Leader (Vic. : 1914 - 1926)\", \"language\": \"en\", \"proportion\": 0.9387755102040817, \"number\": \"100\", \"language_full\": \"English\"}, {\"id\": \"293\", \"title\": \"The Brunswick and Coburg Leader (Vic. : 1914 - 1926)\", \"language\": \"pt\", \"proportion\": 0.01020408163265306, \"number\": \"100\", \"language_full\": \"Portuguese\"}, {\"id\": \"293\", \"title\": \"The Brunswick and Coburg Leader (Vic. : 1914 - 1926)\", \"language\": \"ja\", \"proportion\": 0.02040816326530612, \"number\": \"100\", \"language_full\": \"Japanese\"}, {\"id\": \"293\", \"title\": \"The Brunswick and Coburg Leader (Vic. : 1914 - 1926)\", \"language\": \"da\", \"proportion\": 0.01020408163265306, \"number\": \"100\", \"language_full\": \"Danish\"}, {\"id\": \"293\", \"title\": \"The Brunswick and Coburg Leader (Vic. : 1914 - 1926)\", \"language\": \"it\", \"proportion\": 0.01020408163265306, \"number\": \"100\", \"language_full\": \"Italian\"}, {\"id\": \"293\", \"title\": \"The Brunswick and Coburg Leader (Vic. : 1914 - 1926)\", \"language\": \"mt\", \"proportion\": 0.01020408163265306, \"number\": \"100\", \"language_full\": \"Maltese\"}, {\"id\": \"249\", \"title\": \"The Casterton News and the Merino and Sandford Record (Vic. : 1914 - 1918)\", \"language\": \"en\", \"proportion\": 0.9895833333333334, \"number\": \"100\", \"language_full\": \"English\"}, {\"id\": \"249\", \"title\": \"The Casterton News and the Merino and Sandford Record (Vic. : 1914 - 1918)\", \"language\": \"mt\", \"proportion\": 0.010416666666666666, \"number\": \"100\", \"language_full\": \"Maltese\"}, {\"id\": \"194\", \"title\": \"The Caulfield and Elsternwick Leader (North Brighton, Vic. : 1888 - 1902)\", \"language\": \"en\", \"proportion\": 1.0, \"number\": \"100\", \"language_full\": \"English\"}, {\"id\": \"706\", \"title\": \"The Chinese Advertiser (Ballarat, Vic. : 1856)\", \"language\": \"zh\", \"proportion\": 0.5, \"number\": \"10\", \"language_full\": \"Chinese\"}, {\"id\": \"706\", \"title\": \"The Chinese Advertiser (Ballarat, Vic. : 1856)\", \"language\": \"gd\", \"proportion\": 0.16666666666666666, \"number\": \"10\", \"language_full\": \"Scottish Gaelic\"}, {\"id\": \"706\", \"title\": \"The Chinese Advertiser (Ballarat, Vic. : 1856)\", \"language\": \"en\", \"proportion\": 0.3333333333333333, \"number\": \"10\", \"language_full\": \"English\"}, {\"id\": \"954\", \"title\": \"The Church of England Messenger (Melbourne, Vic. : 1870 - 1876)\", \"language\": \"en\", \"proportion\": 1.0, \"number\": \"100\", \"language_full\": \"English\"}, {\"id\": \"955\", \"title\": \"The Church of England Messenger and Ecclesiastical Gazette for the Diocese of Melbourne and Ballarat (Vic. : 1876 - 1889)\", \"language\": \"en\", \"proportion\": 1.0, \"number\": \"100\", \"language_full\": \"English\"}, {\"id\": \"953\", \"title\": \"The Church of England Messenger for the Diocese of Melbourne (Vic. : 1869)\", \"language\": \"en\", \"proportion\": 1.0, \"number\": \"100\", \"language_full\": \"English\"}, {\"id\": \"956\", \"title\": \"The Church of England Messenger for Victoria and Ecclesiastical Gazette for the Diocese of Melbourne (Vic. : 1889 - 1905)\", \"language\": \"en\", \"proportion\": 0.99, \"number\": \"100\", \"language_full\": \"English\"}, {\"id\": \"956\", \"title\": \"The Church of England Messenger for Victoria and Ecclesiastical Gazette for the Diocese of Melbourne (Vic. : 1889 - 1905)\", \"language\": \"la\", \"proportion\": 0.01, \"number\": \"100\", \"language_full\": \"Latin\"}, {\"id\": \"207\", \"title\": \"The Coburg Leader (Vic. : 1890 - 1913)\", \"language\": \"en\", \"proportion\": 1.0, \"number\": \"100\", \"language_full\": \"English\"}, {\"id\": \"241\", \"title\": \"The Colac Herald (Vic. : 1875 - 1918)\", \"language\": \"en\", \"proportion\": 1.0, \"number\": \"100\", \"language_full\": \"English\"}, {\"id\": \"1053\", \"title\": \"The Colonial Mining Journal, Railway and Share Gazette (Vic. : 1858 - 1859)\", \"language\": \"en\", \"proportion\": 1.0, \"number\": \"100\", \"language_full\": \"English\"}, {\"id\": \"1054\", \"title\": \"The Colonial Mining Journal, Railway and Share Gazette and Illustrated Record (Melbourne, Vic. : 1859 - 1861)\", \"language\": \"en\", \"proportion\": 1.0, \"number\": \"100\", \"language_full\": \"English\"}, {\"id\": \"901\", \"title\": \"The Dandenong Journal (Vic. : 1927 - 1954)\", \"language\": \"en\", \"proportion\": 1.0, \"number\": \"100\", \"language_full\": \"English\"}, {\"id\": \"1689\", \"title\": \"The Dialectic : Jewish Monthly (Fitzroy, Vic. : 1875)\", \"language\": \"en\", \"proportion\": 1.0, \"number\": \"85\", \"language_full\": \"English\"}, {\"id\": \"1483\", \"title\": \"The Elmore Standard (Vic. : 1882 - 1920\", \"language\": \"en\", \"proportion\": 1.0, \"number\": \"100\", \"language_full\": \"English\"}, {\"id\": \"199\", \"title\": \"The Elsternwick Leader (Brighton, Vic. : 1888)\", \"language\": \"en\", \"proportion\": 1.0, \"number\": \"18\", \"language_full\": \"English\"}, {\"id\": \"200\", \"title\": \"The Elsternwick Leader and Caulfield and Balaclava Guardian (Brighton, Vic. : 1887)\", \"language\": \"en\", \"proportion\": 1.0, \"number\": \"17\", \"language_full\": \"English\"}, {\"id\": \"198\", \"title\": \"The Elsternwick Leader and District Record (Brighton, Vic. : 1887 - 1888)\", \"language\": \"en\", \"proportion\": 1.0, \"number\": \"100\", \"language_full\": \"English\"}, {\"id\": \"685\", \"title\": \"The English and Chinese Advertiser (Vic. : 1856 - 1858)\", \"language\": \"en\", \"proportion\": 0.8947368421052632, \"number\": \"22\", \"language_full\": \"English\"}, {\"id\": \"685\", \"title\": \"The English and Chinese Advertiser (Vic. : 1856 - 1858)\", \"language\": \"zh\", \"proportion\": 0.05263157894736842, \"number\": \"22\", \"language_full\": \"Chinese\"}, {\"id\": \"685\", \"title\": \"The English and Chinese Advertiser (Vic. : 1856 - 1858)\", \"language\": \"mt\", \"proportion\": 0.05263157894736842, \"number\": \"22\", \"language_full\": \"Maltese\"}, {\"id\": \"242\", \"title\": \"The Essendon Gazette and Keilor, Bulla and Broadmeadows Reporter (Moonee Ponds, Vic. : 1914 - 1918)\", \"language\": \"en\", \"proportion\": 1.0, \"number\": \"100\", \"language_full\": \"English\"}, {\"id\": \"1325\", \"title\": \"The Evening Echo (Ballarat, Vic. : 1914 - 1918)\", \"language\": \"en\", \"proportion\": 1.0, \"number\": \"100\", \"language_full\": \"English\"}, {\"id\": \"1703\", \"title\": \"The Express, Bacchus Marsh (Vic. : 1943 - 1954)\", \"language\": \"en\", \"proportion\": 1.0, \"number\": \"100\", \"language_full\": \"English\"}, {\"id\": \"1502\", \"title\": \"The Express, Melton (Vic. 1943 - 1954)\", \"language\": \"en\", \"proportion\": 1.0, \"number\": \"100\", \"language_full\": \"English\"}, {\"id\": \"807\", \"title\": \"The Farmer's Journal and Gardener's Chronicle (Melbourne, Vic. : 1862 - 1864)\", \"language\": \"en\", \"proportion\": 1.0, \"number\": \"100\", \"language_full\": \"English\"}, {\"id\": \"296\", \"title\": \"The Gippsland Farmers' Journal (Traralgon, Vic. : 1893 - 1918)\", \"language\": \"en\", \"proportion\": 1.0, \"number\": \"100\", \"language_full\": \"English\"}, {\"id\": \"1206\", \"title\": \"The Gippsland Farmers' Journal and Traralgon, Heyfield and Rosedale News (Vic. : 1887 - 1893)\", \"language\": \"en\", \"proportion\": 1.0, \"number\": \"100\", \"language_full\": \"English\"}, {\"id\": \"1190\", \"title\": \"The Herald (Melbourne, Vic. : 1861 - 1954)\", \"language\": \"en\", \"proportion\": 1.0, \"number\": \"100\", \"language_full\": \"English\"}, {\"id\": \"225\", \"title\": \"The Horsham Times (Vic. : 1882 - 1954)\", \"language\": \"en\", \"proportion\": 1.0, \"number\": \"100\", \"language_full\": \"English\"}, {\"id\": \"610\", \"title\": \"The Independent (Benalla) (Vic. : 1914 - 1918)\", \"language\": \"en\", \"proportion\": 1.0, \"number\": \"100\", \"language_full\": \"English\"}, {\"id\": \"1707\", \"title\": \"The Jewish Weekly News (Melbourne, Vic. : 1933 - 1935)\", \"language\": \"en\", \"proportion\": 0.81, \"number\": \"100\", \"language_full\": \"English\"}, {\"id\": \"1707\", \"title\": \"The Jewish Weekly News (Melbourne, Vic. : 1933 - 1935)\", \"language\": \"yi\", \"proportion\": 0.19, \"number\": \"100\", \"language_full\": \"Yiddish\"}, {\"id\": \"211\", \"title\": \"The Kerang Times (Vic. : 1889 - 1901)\", \"language\": \"en\", \"proportion\": 1.0, \"number\": \"100\", \"language_full\": \"English\"}, {\"id\": \"197\", \"title\": \"The Kyabram Union and Rodney Shire Advocate (Vic. : 1894 - 1894)\", \"language\": \"en\", \"proportion\": 0.98989898989899, \"number\": \"100\", \"language_full\": \"English\"}, {\"id\": \"197\", \"title\": \"The Kyabram Union and Rodney Shire Advocate (Vic. : 1894 - 1894)\", \"language\": \"mt\", \"proportion\": 0.010101010101010102, \"number\": \"100\", \"language_full\": \"Maltese\"}, {\"id\": \"1324\", \"title\": \"The Kyneton Observer (Vic. : 1856 - 1900)\", \"language\": \"en\", \"proportion\": 0.99, \"number\": \"100\", \"language_full\": \"English\"}, {\"id\": \"1324\", \"title\": \"The Kyneton Observer (Vic. : 1856 - 1900)\", \"language\": \"mt\", \"proportion\": 0.01, \"number\": \"100\", \"language_full\": \"Maltese\"}, {\"id\": \"250\", \"title\": \"The Lilydale Express (Vic. : 1886 - 1897 ; 1914 - 1955)\", \"language\": \"en\", \"proportion\": 0.9897959183673469, \"number\": \"100\", \"language_full\": \"English\"}, {\"id\": \"250\", \"title\": \"The Lilydale Express (Vic. : 1886 - 1897 ; 1914 - 1955)\", \"language\": \"no\", \"proportion\": 0.01020408163265306, \"number\": \"100\", \"language_full\": \"Norwegian\"}, {\"id\": \"243\", \"title\": \"The Lilydale Express and Yarra Glen, Wandin Yallock, Upper Yarra, Healesville and Ringwood Chronicle (Vic. : 1898 - 1914)\", \"language\": \"en\", \"proportion\": 0.98, \"number\": \"100\", \"language_full\": \"English\"}, {\"id\": \"243\", \"title\": \"The Lilydale Express and Yarra Glen, Wandin Yallock, Upper Yarra, Healesville and Ringwood Chronicle (Vic. : 1898 - 1914)\", \"language\": \"mt\", \"proportion\": 0.02, \"number\": \"100\", \"language_full\": \"Maltese\"}, {\"id\": \"1052\", \"title\": \"The Lorgnette (Melbourne, Vic. : 1878 - 1898)\", \"language\": \"en\", \"proportion\": 1.0, \"number\": \"100\", \"language_full\": \"English\"}, {\"id\": \"209\", \"title\": \"The Maffra Spectator (Vic. : 1882 - 1920)\", \"language\": \"en\", \"proportion\": 1.0, \"number\": \"100\", \"language_full\": \"English\"}, {\"id\": \"999\", \"title\": \"The Maritime Worker (Melbourne, Vic. : 1938 - 1954)\", \"language\": \"en\", \"proportion\": 1.0, \"number\": \"100\", \"language_full\": \"English\"}, {\"id\": \"239\", \"title\": \"The McIvor Times and Rodney Advertiser (Heathcote, Vic. : 1863 - 1918)\", \"language\": \"en\", \"proportion\": 1.0, \"number\": \"100\", \"language_full\": \"English\"}, {\"id\": \"935\", \"title\": \"The Melbourne Advertiser (Vic. : 1838)\", \"language\": \"en\", \"proportion\": 0.6666666666666666, \"number\": \"3\", \"language_full\": \"English\"}, {\"id\": \"935\", \"title\": \"The Melbourne Advertiser (Vic. : 1838)\", \"language\": \"cy\", \"proportion\": 0.3333333333333333, \"number\": \"3\", \"language_full\": \"Welsh\"}, {\"id\": \"18\", \"title\": \"The Melbourne Argus (Vic. : 1846 - 1848)\", \"language\": \"en\", \"proportion\": 1.0, \"number\": \"100\", \"language_full\": \"English\"}, {\"id\": \"1024\", \"title\": \"The Melbourne Courier (Vic. : 1845 - 1846)\", \"language\": \"en\", \"proportion\": 1.0, \"number\": \"100\", \"language_full\": \"English\"}, {\"id\": \"939\", \"title\": \"The Melbourne Daily News (Vic. : 1848 - 1851)\", \"language\": \"en\", \"proportion\": 0.97, \"number\": \"100\", \"language_full\": \"English\"}, {\"id\": \"939\", \"title\": \"The Melbourne Daily News (Vic. : 1848 - 1851)\", \"language\": \"mt\", \"proportion\": 0.03, \"number\": \"100\", \"language_full\": \"Maltese\"}, {\"id\": \"938\", \"title\": \"The Melbourne Daily News and Port Phillip Patriot (Vic. : 1848)\", \"language\": \"en\", \"proportion\": 1.0, \"number\": \"100\", \"language_full\": \"English\"}, {\"id\": \"958\", \"title\": \"The Melbourne Leader (Vic. : 1861)\", \"language\": \"en\", \"proportion\": 1.0, \"number\": \"100\", \"language_full\": \"English\"}, {\"id\": \"1023\", \"title\": \"The Melbourne Weekly Courier (Vic. : 1844 - 1845)\", \"language\": \"en\", \"proportion\": 1.0, \"number\": \"100\", \"language_full\": \"English\"}, {\"id\": \"1580\", \"title\": \"The Merbein Irrigationist and Murray Valley Soldiers' Gazette (Vic. : 1919 - 1920)\", \"language\": \"en\", \"proportion\": 0.99, \"number\": \"100\", \"language_full\": \"English\"}, {\"id\": \"1580\", \"title\": \"The Merbein Irrigationist and Murray Valley Soldiers' Gazette (Vic. : 1919 - 1920)\", \"language\": \"mt\", \"proportion\": 0.01, \"number\": \"100\", \"language_full\": \"Maltese\"}, {\"id\": \"1579\", \"title\": \"The Mildura and Merbein Sun (Vic. : 1921)\", \"language\": \"en\", \"proportion\": 0.9897959183673469, \"number\": \"100\", \"language_full\": \"English\"}, {\"id\": \"1579\", \"title\": \"The Mildura and Merbein Sun (Vic. : 1921)\", \"language\": \"mt\", \"proportion\": 0.01020408163265306, \"number\": \"100\", \"language_full\": \"Maltese\"}, {\"id\": \"228\", \"title\": \"The Mildura Cultivator (Vic. : 1888 - 1920)\", \"language\": \"en\", \"proportion\": 1.0, \"number\": \"100\", \"language_full\": \"English\"}, {\"id\": \"1583\", \"title\": \"The Mildura Irrigationist (Vic. : 1892 - 1893)\", \"language\": \"en\", \"proportion\": 0.125, \"number\": \"100\", \"language_full\": \"English\"}, {\"id\": \"1583\", \"title\": \"The Mildura Irrigationist (Vic. : 1892 - 1893)\", \"language\": \"mt\", \"proportion\": 0.7625, \"number\": \"100\", \"language_full\": \"Maltese\"}, {\"id\": \"1583\", \"title\": \"The Mildura Irrigationist (Vic. : 1892 - 1893)\", \"language\": \"so\", \"proportion\": 0.1125, \"number\": \"100\", \"language_full\": \"Somali\"}, {\"id\": \"1581\", \"title\": \"The Mildura Irrigationist and Murray River Agricultural Times (Vic. : 1888)\", \"language\": \"so\", \"proportion\": 0.13333333333333333, \"number\": \"100\", \"language_full\": \"Somali\"}, {\"id\": \"1581\", \"title\": \"The Mildura Irrigationist and Murray River Agricultural Times (Vic. : 1888)\", \"language\": \"mt\", \"proportion\": 0.6266666666666667, \"number\": \"100\", \"language_full\": \"Maltese\"}, {\"id\": \"1581\", \"title\": \"The Mildura Irrigationist and Murray River Agricultural Times (Vic. : 1888)\", \"language\": \"en\", \"proportion\": 0.24, \"number\": \"100\", \"language_full\": \"English\"}, {\"id\": \"1582\", \"title\": \"The Mildura Irrigationist and Murray River Cultural Advocate (Vic. : 1891 - 1892)\", \"language\": \"en\", \"proportion\": 0.7466666666666667, \"number\": \"100\", \"language_full\": \"English\"}, {\"id\": \"1582\", \"title\": \"The Mildura Irrigationist and Murray River Cultural Advocate (Vic. : 1891 - 1892)\", \"language\": \"so\", \"proportion\": 0.14666666666666667, \"number\": \"100\", \"language_full\": \"Somali\"}, {\"id\": \"1582\", \"title\": \"The Mildura Irrigationist and Murray River Cultural Advocate (Vic. : 1891 - 1892)\", \"language\": \"mt\", \"proportion\": 0.09333333333333334, \"number\": \"100\", \"language_full\": \"Maltese\"}, {\"id\": \"1582\", \"title\": \"The Mildura Irrigationist and Murray River Cultural Advocate (Vic. : 1891 - 1892)\", \"language\": \"cy\", \"proportion\": 0.013333333333333334, \"number\": \"100\", \"language_full\": \"Welsh\"}, {\"id\": \"1584\", \"title\": \"The Mildura Irrigationist and Murray River Cultural Advocate (Vic. : 1895 - 1896)\", \"language\": \"en\", \"proportion\": 1.0, \"number\": \"100\", \"language_full\": \"English\"}, {\"id\": \"777\", \"title\": \"The Mildura Telegraph and Darling and Lower Murray Advocate (Vic. : 1913 - 1920)\", \"language\": \"en\", \"proportion\": 1.0, \"number\": \"100\", \"language_full\": \"English\"}, {\"id\": \"1570\", \"title\": \"The Moe Register and Narracan Shire Advocate (Vic. : 1888 - 1889)\", \"language\": \"en\", \"proportion\": 1.0, \"number\": \"100\", \"language_full\": \"English\"}, {\"id\": \"1733\", \"title\": \"The Morwell Advocate and Boolara and Mirboo Chronicle (Vic. : 1886)\", \"language\": \"mt\", \"proportion\": 0.625, \"number\": \"21\", \"language_full\": \"Maltese\"}, {\"id\": \"1733\", \"title\": \"The Morwell Advocate and Boolara and Mirboo Chronicle (Vic. : 1886)\", \"language\": \"en\", \"proportion\": 0.375, \"number\": \"21\", \"language_full\": \"English\"}, {\"id\": \"1734\", \"title\": \"The Morwell Advocate and Narracan, Boolara and Mirboo Chronicle (Vic. : 1886)\", \"language\": \"en\", \"proportion\": 0.8292682926829268, \"number\": \"100\", \"language_full\": \"English\"}, {\"id\": \"1734\", \"title\": \"The Morwell Advocate and Narracan, Boolara and Mirboo Chronicle (Vic. : 1886)\", \"language\": \"mt\", \"proportion\": 0.17073170731707318, \"number\": \"100\", \"language_full\": \"Maltese\"}, {\"id\": \"1713\", \"title\": \"The Mountaineer (Ferntree Gully, Vic. : 1920 - 1921)\", \"language\": \"en\", \"proportion\": 1.0, \"number\": \"100\", \"language_full\": \"English\"}, {\"id\": \"1767\", \"title\": \"The Nagambie Herald and Avenel, Murchison and Goulburn Valley Advertiser (Vic. : 1873)\", \"language\": \"en\", \"proportion\": 1.0, \"number\": \"100\", \"language_full\": \"English\"}, {\"id\": \"586\", \"title\": \"The Narracan Shire Advocate (Vic. : 1889 - 1923)\", \"language\": \"en\", \"proportion\": 1.0, \"number\": \"100\", \"language_full\": \"English\"}, {\"id\": \"1735\", \"title\": \"The Narracan Shire Advocate and Yallourn Brown Coal Mine, Walhalla and Thorpdale Lines Echo (Moe, Vic. : 1923 - 1943)\", \"language\": \"en\", \"proportion\": 1.0, \"number\": \"100\", \"language_full\": \"English\"}, {\"id\": \"222\", \"title\": \"The North Eastern Ensign (Benalla, Vic. : 1872 - 1938)\", \"language\": \"en\", \"proportion\": 0.99, \"number\": \"100\", \"language_full\": \"English\"}, {\"id\": \"222\", \"title\": \"The North Eastern Ensign (Benalla, Vic. : 1872 - 1938)\", \"language\": \"so\", \"proportion\": 0.01, \"number\": \"100\", \"language_full\": \"Somali\"}, {\"id\": \"1714\", \"title\": \"The Pilot (Upper Ferntree Gully, Vic. : 1921 - 1922)\", \"language\": \"en\", \"proportion\": 1.0, \"number\": \"100\", \"language_full\": \"English\"}, {\"id\": \"937\", \"title\": \"The Port Phillip Patriot and Morning Advertiser (Vic. : 1845 - 1848)\", \"language\": \"en\", \"proportion\": 1.0, \"number\": \"100\", \"language_full\": \"English\"}, {\"id\": \"247\", \"title\": \"The Prahran Telegraph (Vic. : 1889 - 1930)\", \"language\": \"en\", \"proportion\": 1.0, \"number\": \"100\", \"language_full\": \"English\"}, {\"id\": \"235\", \"title\": \"The Queenscliff Sentinel (Vic. : 1884 - 1885)\", \"language\": \"en\", \"proportion\": 0.9897959183673469, \"number\": \"100\", \"language_full\": \"English\"}, {\"id\": \"235\", \"title\": \"The Queenscliff Sentinel (Vic. : 1884 - 1885)\", \"language\": \"mt\", \"proportion\": 0.01020408163265306, \"number\": \"100\", \"language_full\": \"Maltese\"}, {\"id\": \"428\", \"title\": \"The Record and Emerald Hill and Sandridge Advertiser (Vic. : 1872 - 1881)\", \"language\": \"en\", \"proportion\": 1.0, \"number\": \"100\", \"language_full\": \"English\"}, {\"id\": \"244\", \"title\": \"The Reporter (Box Hill, Vic. : 1889 - 1925)\", \"language\": \"mt\", \"proportion\": 0.0851063829787234, \"number\": \"100\", \"language_full\": \"Maltese\"}, {\"id\": \"244\", \"title\": \"The Reporter (Box Hill, Vic. : 1889 - 1925)\", \"language\": \"en\", \"proportion\": 0.9042553191489362, \"number\": \"100\", \"language_full\": \"English\"}, {\"id\": \"244\", \"title\": \"The Reporter (Box Hill, Vic. : 1889 - 1925)\", \"language\": \"cy\", \"proportion\": 0.010638297872340425, \"number\": \"100\", \"language_full\": \"Welsh\"}, {\"id\": \"311\", \"title\": \"The Riverine Herald (Echuca, Vic. : Moama, NSW : 1869 - 1954; 1998 - 2002)\", \"language\": \"en\", \"proportion\": 1.0, \"number\": \"100\", \"language_full\": \"English\"}, {\"id\": \"768\", \"title\": \"The Romsey Examiner (Vic. : 1914 - 1918)\", \"language\": \"en\", \"proportion\": 1.0, \"number\": \"100\", \"language_full\": \"English\"}, {\"id\": \"1287\", \"title\": \"The San Remo Times and Phillip Island and Bass Valley Advertiser (Vic. : 1896 - 1898)\", \"language\": \"en\", \"proportion\": 1.0, \"number\": \"100\", \"language_full\": \"English\"}, {\"id\": \"960\", \"title\": \"The Snowy River Mail and Tambo and Croajingolong Gazette (Orbost, Vic. : 1890 - 1911)\", \"language\": \"en\", \"proportion\": 1.0, \"number\": \"100\", \"language_full\": \"English\"}, {\"id\": \"1322\", \"title\": \"The Socialist (Melbourne, Vic. : 1906 - 1923)\", \"language\": \"en\", \"proportion\": 0.9797979797979798, \"number\": \"100\", \"language_full\": \"English\"}, {\"id\": \"1322\", \"title\": \"The Socialist (Melbourne, Vic. : 1906 - 1923)\", \"language\": \"mt\", \"proportion\": 0.020202020202020204, \"number\": \"100\", \"language_full\": \"Maltese\"}, {\"id\": \"1281\", \"title\": \"The St. James and Devenish Herald (Dookie, Vic. : 1905)\", \"language\": \"en\", \"proportion\": 1.0, \"number\": \"49\", \"language_full\": \"English\"}, {\"id\": \"189\", \"title\": \"The Star (Ballarat, Vic. : 1855 - 1864)\", \"language\": \"en\", \"proportion\": 1.0, \"number\": \"100\", \"language_full\": \"English\"}, {\"id\": \"1191\", \"title\": \"The Sun News Pictorial (Melbourne, Vic. : 1956 Supplement)\", \"language\": \"en\", \"proportion\": 1.0, \"number\": \"11\", \"language_full\": \"English\"}, {\"id\": \"212\", \"title\": \"The Sunbury News (Vic. : 1892)\", \"language\": \"en\", \"proportion\": 0.98, \"number\": \"100\", \"language_full\": \"English\"}, {\"id\": \"212\", \"title\": \"The Sunbury News (Vic. : 1892)\", \"language\": \"mt\", \"proportion\": 0.02, \"number\": \"100\", \"language_full\": \"Maltese\"}, {\"id\": \"202\", \"title\": \"The Sunbury News (Vic. : 1900 - 1927)\", \"language\": \"en\", \"proportion\": 1.0, \"number\": \"100\", \"language_full\": \"English\"}, {\"id\": \"203\", \"title\": \"The Sunbury News and Bulla and Melton Advertiser (Vic. : 1892 - 1900)\", \"language\": \"en\", \"proportion\": 1.0, \"number\": \"100\", \"language_full\": \"English\"}, {\"id\": \"1771\", \"title\": \"The Tarrangower Times and Maldon Advertiser (Vic. : 1894 - 1900)\", \"language\": \"en\", \"proportion\": 1.0, \"number\": \"100\", \"language_full\": \"English\"}, {\"id\": \"1769\", \"title\": \"The Tarrangower Times and Maldon and Newstead Advertiser (Vic. : 1862 - 1873)\", \"language\": \"en\", \"proportion\": 1.0, \"number\": \"100\", \"language_full\": \"English\"}, {\"id\": \"1768\", \"title\": \"The Tarrangower Times and Maldon District Advertiser (Vic. : 1858 - 1862)\", \"language\": \"en\", \"proportion\": 0.99, \"number\": \"100\", \"language_full\": \"English\"}, {\"id\": \"1768\", \"title\": \"The Tarrangower Times and Maldon District Advertiser (Vic. : 1858 - 1862)\", \"language\": \"pt\", \"proportion\": 0.01, \"number\": \"100\", \"language_full\": \"Portuguese\"}, {\"id\": \"1770\", \"title\": \"The Tarrangower Times and Maldon, Newstead, Baringhup, Laancoorie and Muckleford Advertiser (Vic. : 1873 - 1894)\", \"language\": \"en\", \"proportion\": 0.9795918367346939, \"number\": \"100\", \"language_full\": \"English\"}, {\"id\": \"1770\", \"title\": \"The Tarrangower Times and Maldon, Newstead, Baringhup, Laancoorie and Muckleford Advertiser (Vic. : 1873 - 1894)\", \"language\": \"mt\", \"proportion\": 0.02040816326530612, \"number\": \"100\", \"language_full\": \"Maltese\"}, {\"id\": \"383\", \"title\": \"The Telegraph, St Kilda, Prahran and South Yarra Guardian (Vic. : 1864 - 1888)\", \"language\": \"en\", \"proportion\": 1.0, \"number\": \"100\", \"language_full\": \"English\"}, {\"id\": \"961\", \"title\": \"The Tocsin (Melbourne, Vic. : 1897 - 1906)\", \"language\": \"en\", \"proportion\": 1.0, \"number\": \"100\", \"language_full\": \"English\"}, {\"id\": \"808\", \"title\": \"The Victorian Farmers Journal and Gardeners Chronicle (Melbourne, Vic. : 1860 - 1862)\", \"language\": \"en\", \"proportion\": 1.0, \"number\": \"100\", \"language_full\": \"English\"}, {\"id\": \"617\", \"title\": \"The Violet Town Sentinel (Vic. : 1894 - 1946)\", \"language\": \"en\", \"proportion\": 1.0, \"number\": \"100\", \"language_full\": \"English\"}, {\"id\": \"1365\", \"title\": \"The Western Port Times and Phillip Island and Bass Valley Advertiser (Granville, Vic. : 1898 - 1904)\", \"language\": \"en\", \"proportion\": 1.0, \"number\": \"100\", \"language_full\": \"English\"}, {\"id\": \"716\", \"title\": \"The Yackandandah Times (Vic. : 1890 - 1931)\", \"language\": \"en\", \"proportion\": 1.0, \"number\": \"100\", \"language_full\": \"English\"}, {\"id\": \"390\", \"title\": \"The Yarragon, Trafalgar and Moe Settlement News (Vic. : 1904 - 1920)\", \"language\": \"en\", \"proportion\": 1.0, \"number\": \"100\", \"language_full\": \"English\"}, {\"id\": \"611\", \"title\": \"Toora and Welshpool Ensign and South Gippsland Observer (Vic. : 1914 - 1918)\", \"language\": \"en\", \"proportion\": 1.0, \"number\": \"100\", \"language_full\": \"English\"}, {\"id\": \"612\", \"title\": \"Trafalgar and Yarragon Times (Vic. : 1914 - 1918)\", \"language\": \"en\", \"proportion\": 1.0, \"number\": \"100\", \"language_full\": \"English\"}, {\"id\": \"135\", \"title\": \"Traralgon Record (Traralgon, Vic. : 1886 - 1932)\", \"language\": \"en\", \"proportion\": 1.0, \"number\": \"100\", \"language_full\": \"English\"}, {\"id\": \"134\", \"title\": \"Traralgon Record and Morwell, Mirboo,Toongabbie, Heyfield,Tyers and Callignee Advertiser (Traralgon, Vic. : 1883 - 1886)\", \"language\": \"en\", \"proportion\": 1.0, \"number\": \"100\", \"language_full\": \"English\"}, {\"id\": \"793\", \"title\": \"Tribune (Melbourne, Vic. : 1914 - 1918)\", \"language\": \"en\", \"proportion\": 1.0, \"number\": \"100\", \"language_full\": \"English\"}, {\"id\": \"613\", \"title\": \"Truth (Melbourne ed.) (Vic. : 1914 - 1918)\", \"language\": \"en\", \"proportion\": 0.98989898989899, \"number\": \"100\", \"language_full\": \"English\"}, {\"id\": \"613\", \"title\": \"Truth (Melbourne ed.) (Vic. : 1914 - 1918)\", \"language\": \"mt\", \"proportion\": 0.010101010101010102, \"number\": \"100\", \"language_full\": \"Maltese\"}, {\"id\": \"614\", \"title\": \"Tungamah and Lake Rowan Express and St. James Gazette (Vic. : 1914 - 1918)\", \"language\": \"en\", \"proportion\": 1.0, \"number\": \"100\", \"language_full\": \"English\"}, {\"id\": \"615\", \"title\": \"Ultima and Chillingollah Star (Vic. : 1914 - 1918)\", \"language\": \"en\", \"proportion\": 1.0, \"number\": \"100\", \"language_full\": \"English\"}, {\"id\": \"616\", \"title\": \"Upper Murray and Mitta Herald (Vic. : 1914 - 1918)\", \"language\": \"en\", \"proportion\": 1.0, \"number\": \"100\", \"language_full\": \"English\"}, {\"id\": \"799\", \"title\": \"Vigilante (Melbourne, Vic. : 1918)\", \"language\": \"en\", \"proportion\": 1.0, \"number\": \"100\", \"language_full\": \"English\"}, {\"id\": \"783\", \"title\": \"Walhalla Chronicle (Vic. : 1914)\", \"language\": \"en\", \"proportion\": 1.0, \"number\": \"100\", \"language_full\": \"English\"}, {\"id\": \"784\", \"title\": \"Walhalla Chronicle and Moondarra Advertiser (Vic. : 1914 - 1915)\", \"language\": \"en\", \"proportion\": 1.0, \"number\": \"100\", \"language_full\": \"English\"}, {\"id\": \"301\", \"title\": \"Wangaratta Chronicle (Vic. : 1914 - 1918)\", \"language\": \"en\", \"proportion\": 0.98989898989899, \"number\": \"100\", \"language_full\": \"English\"}, {\"id\": \"301\", \"title\": \"Wangaratta Chronicle (Vic. : 1914 - 1918)\", \"language\": \"mt\", \"proportion\": 0.010101010101010102, \"number\": \"100\", \"language_full\": \"Maltese\"}, {\"id\": \"618\", \"title\": \"Warracknabeal Herald (Vic. : 1914 - 1918)\", \"language\": \"en\", \"proportion\": 1.0, \"number\": \"100\", \"language_full\": \"English\"}, {\"id\": \"139\", \"title\": \"Warragul Guardian (Warragul, Vic. : 1895 - 1900)\", \"language\": \"en\", \"proportion\": 1.0, \"number\": \"100\", \"language_full\": \"English\"}, {\"id\": \"137\", \"title\": \"Warragul Guardian and Buln Buln and Narracan Shire Advocate (Warragul, Vic. : 1879 - 1894)\", \"language\": \"en\", \"proportion\": 1.0, \"number\": \"100\", \"language_full\": \"English\"}, {\"id\": \"138\", \"title\": \"Warragul Guardian and West Gippsland Advertiser (Warragul, Vic. : 1894)\", \"language\": \"en\", \"proportion\": 1.0, \"number\": \"100\", \"language_full\": \"English\"}, {\"id\": \"227\", \"title\": \"Warrnambool Standard (Vic. : 1914 - 1918)\", \"language\": \"en\", \"proportion\": 1.0, \"number\": \"100\", \"language_full\": \"English\"}, {\"id\": \"619\", \"title\": \"Wedderburn Express and Korongshire Advertiser (Vic. : 1914 - 1918)\", \"language\": \"en\", \"proportion\": 1.0, \"number\": \"100\", \"language_full\": \"English\"}, {\"id\": \"1496\", \"title\": \"Weekly Free Press, and Port Phillip Commercial Advertiser (Vic. : 1841)\", \"language\": \"en\", \"proportion\": 1.0, \"number\": \"100\", \"language_full\": \"English\"}, {\"id\": \"620\", \"title\": \"Weekly News (Yarraville) (Vic. : 1914 - 1918)\", \"language\": \"en\", \"proportion\": 1.0, \"number\": \"100\", \"language_full\": \"English\"}, {\"id\": \"621\", \"title\": \"Weekly Times (Melbourne, Vic. : 1869 - 1954)\", \"language\": \"en\", \"proportion\": 1.0, \"number\": \"100\", \"language_full\": \"English\"}, {\"id\": \"707\", \"title\": \"Weekly Times Annual (Vic. : 1914 - 1918)\", \"language\": \"en\", \"proportion\": 0.97, \"number\": \"100\", \"language_full\": \"English\"}, {\"id\": \"707\", \"title\": \"Weekly Times Annual (Vic. : 1914 - 1918)\", \"language\": \"mt\", \"proportion\": 0.02, \"number\": \"100\", \"language_full\": \"Maltese\"}, {\"id\": \"707\", \"title\": \"Weekly Times Annual (Vic. : 1914 - 1918)\", \"language\": \"ja\", \"proportion\": 0.01, \"number\": \"100\", \"language_full\": \"Japanese\"}, {\"id\": \"238\", \"title\": \"Werribee Shire Banner (Vic. : 1911 - 1952)\", \"language\": \"en\", \"proportion\": 1.0, \"number\": \"100\", \"language_full\": \"English\"}, {\"id\": \"1704\", \"title\": \"West Bourke and South Grant Guardian (Bacchus Marsh, Vic. : 1869 - 1870)\", \"language\": \"en\", \"proportion\": 0.98989898989899, \"number\": \"100\", \"language_full\": \"English\"}, {\"id\": \"1704\", \"title\": \"West Bourke and South Grant Guardian (Bacchus Marsh, Vic. : 1869 - 1870)\", \"language\": \"mt\", \"proportion\": 0.010101010101010102, \"number\": \"100\", \"language_full\": \"Maltese\"}, {\"id\": \"136\", \"title\": \"West Gippsland Gazette (Warragul, Vic. : 1898 - 1930)\", \"language\": \"en\", \"proportion\": 1.0, \"number\": \"100\", \"language_full\": \"English\"}, {\"id\": \"622\", \"title\": \"West Wimmera Mail and Natimuk Advertiser (Vic. : 1914 - 1918)\", \"language\": \"en\", \"proportion\": 1.0, \"number\": \"100\", \"language_full\": \"English\"}, {\"id\": \"759\", \"title\": \"Willaura Farmer (Vic. : 1914 - 1916)\", \"language\": \"en\", \"proportion\": 1.0, \"number\": \"100\", \"language_full\": \"English\"}, {\"id\": \"302\", \"title\": \"Williamstown Advertiser (Vic. : 1914 - 1918)\", \"language\": \"en\", \"proportion\": 1.0, \"number\": \"100\", \"language_full\": \"English\"}, {\"id\": \"193\", \"title\": \"Williamstown Chronicle (Vic. : 1856 - 1954)\", \"language\": \"en\", \"proportion\": 0.9891304347826086, \"number\": \"100\", \"language_full\": \"English\"}, {\"id\": \"193\", \"title\": \"Williamstown Chronicle (Vic. : 1856 - 1954)\", \"language\": \"cy\", \"proportion\": 0.010869565217391304, \"number\": \"100\", \"language_full\": \"Welsh\"}, {\"id\": \"213\", \"title\": \"Williamstown Trade Circular (Vic. : 1855 - 1856)\", \"language\": \"en\", \"proportion\": 0.8823529411764706, \"number\": \"18\", \"language_full\": \"English\"}, {\"id\": \"213\", \"title\": \"Williamstown Trade Circular (Vic. : 1855 - 1856)\", \"language\": \"pt\", \"proportion\": 0.11764705882352941, \"number\": \"18\", \"language_full\": \"Portuguese\"}, {\"id\": \"800\", \"title\": \"Winner (Melbourne, Vic. : 1914 - 1917)\", \"language\": \"en\", \"proportion\": 1.0, \"number\": \"100\", \"language_full\": \"English\"}, {\"id\": \"204\", \"title\": \"Wodonga and Towong Sentinel (Vic. : 1885 - 1954)\", \"language\": \"en\", \"proportion\": 1.0, \"number\": \"100\", \"language_full\": \"English\"}, {\"id\": \"872\", \"title\": \"Woman Voter (Melbourne, Vic. : 1911 - 1919)\", \"language\": \"en\", \"proportion\": 1.0, \"number\": \"100\", \"language_full\": \"English\"}, {\"id\": \"769\", \"title\": \"Woodend Star (Vic. : 1915 - 1918)\", \"language\": \"en\", \"proportion\": 1.0, \"number\": \"100\", \"language_full\": \"English\"}, {\"id\": \"790\", \"title\": \"Woomelang Sun and Lascelles and Ouyen Advocate (Vic. : 1914 - 1918)\", \"language\": \"en\", \"proportion\": 1.0, \"number\": \"100\", \"language_full\": \"English\"}, {\"id\": \"124\", \"title\": \"Yea Chronicle (Yea, Vic. : 1891 - 1920)\", \"language\": \"en\", \"proportion\": 1.0, \"number\": \"100\", \"language_full\": \"English\"}, {\"id\": \"1394\", \"title\": \"Avon Argus and Cunderdin-Meckering-Tammin Mail (WA : 1925 - 1954)\", \"language\": \"en\", \"proportion\": 1.0, \"number\": \"100\", \"language_full\": \"English\"}, {\"id\": \"1785\", \"title\": \"Baileys Sporting and Dramatic Weekly (Perth, WA : 1931 - 1933)\", \"language\": \"en\", \"proportion\": 1.0, \"number\": \"100\", \"language_full\": \"English\"}, {\"id\": \"1395\", \"title\": \"Ballidu-Wongan Budget (WA : 1927 - 1941)\", \"language\": \"en\", \"proportion\": 1.0, \"number\": \"100\", \"language_full\": \"English\"}, {\"id\": \"1396\", \"title\": \"Blackwood Chronicle and South-West Mining News (WA : 1904 - 1907)\", \"language\": \"en\", \"proportion\": 1.0, \"number\": \"100\", \"language_full\": \"English\"}, {\"id\": \"1513\", \"title\": \"Blackwood-Warren Sentinel (Bridgetown, WA : 1950 - 1954)\", \"language\": \"en\", \"proportion\": 1.0, \"number\": \"100\", \"language_full\": \"English\"}, {\"id\": \"1397\", \"title\": \"Bonnie Rock-Lake Brown-Mukinbudin Leader (WA : 1934 - 1939)\", \"language\": \"en\", \"proportion\": 1.0, \"number\": \"100\", \"language_full\": \"English\"}, {\"id\": \"1398\", \"title\": \"Bridgetown Advocate (WA : 1938 - 1950)\", \"language\": \"en\", \"proportion\": 1.0, \"number\": \"100\", \"language_full\": \"English\"}, {\"id\": \"1608\", \"title\": \"Broome Chronicle and Nor'West Advertiser (WA : 1908 - 1912)\", \"language\": \"en\", \"proportion\": 1.0, \"number\": \"100\", \"language_full\": \"English\"}, {\"id\": \"1106\", \"title\": \"Bruce Rock Post and Corrigin and Narembeen Guardian (WA : 1924 - 1948)\", \"language\": \"en\", \"proportion\": 1.0, \"number\": \"100\", \"language_full\": \"English\"}, {\"id\": \"1107\", \"title\": \"Bruce Rock Post and Corrigin Guardian (WA : 1917 - 1924)\", \"language\": \"en\", \"proportion\": 1.0, \"number\": \"100\", \"language_full\": \"English\"}, {\"id\": \"1108\", \"title\": \"Bruce Rock-Corrigin Post, Narembeen-Kondinin Guardian (WA : 1948 - 1954)\", \"language\": \"en\", \"proportion\": 1.0, \"number\": \"100\", \"language_full\": \"English\"}, {\"id\": \"1399\", \"title\": \"Bullfinch Budget (WA : 1910 - 1911)\", \"language\": \"en\", \"proportion\": 1.0, \"number\": \"100\", \"language_full\": \"English\"}, {\"id\": \"1460\", \"title\": \"Bullfinch Miner and Yilgarn Advocate (WA : 1910)\", \"language\": \"en\", \"proportion\": 1.0, \"number\": \"12\", \"language_full\": \"English\"}, {\"id\": \"1400\", \"title\": \"Bulong Bulletin and Mining Register (WA : 1897 - 1898)\", \"language\": \"en\", \"proportion\": 0.9795918367346939, \"number\": \"100\", \"language_full\": \"English\"}, {\"id\": \"1400\", \"title\": \"Bulong Bulletin and Mining Register (WA : 1897 - 1898)\", \"language\": \"mt\", \"proportion\": 0.02040816326530612, \"number\": \"100\", \"language_full\": \"Maltese\"}, {\"id\": \"345\", \"title\": \"Bunbury Herald (WA : 1892 - 1919)\", \"language\": \"en\", \"proportion\": 1.0, \"number\": \"100\", \"language_full\": \"English\"}, {\"id\": \"1111\", \"title\": \"Call (Perth, WA : 1920 - 1927)\", \"language\": \"en\", \"proportion\": 1.0, \"number\": \"100\", \"language_full\": \"English\"}, {\"id\": \"1112\", \"title\": \"Call (Perth, WA : 1945 - 1953)\", \"language\": \"en\", \"proportion\": 1.0, \"number\": \"100\", \"language_full\": \"English\"}, {\"id\": \"1109\", \"title\": \"Call and Bailey's Weekly (Perth, WA : 1940 - 1945)\", \"language\": \"en\", \"proportion\": 1.0, \"number\": \"100\", \"language_full\": \"English\"}, {\"id\": \"1110\", \"title\": \"Call and WA Sportsman (Perth, WA : 1918 - 1920)\", \"language\": \"en\", \"proportion\": 1.0, \"number\": \"100\", \"language_full\": \"English\"}, {\"id\": \"1113\", \"title\": \"Call News-Pictorial (Perth, WA : 1927 - 1931)\", \"language\": \"en\", \"proportion\": 1.0, \"number\": \"100\", \"language_full\": \"English\"}, {\"id\": \"844\", \"title\": \"Camp Chronicle (Midland Junction, WA : 1915 - 1918)\", \"language\": \"en\", \"proportion\": 1.0, \"number\": \"100\", \"language_full\": \"English\"}, {\"id\": \"1514\", \"title\": \"Cathedral Chronicle (Geraldton, WA : 1931 - 1954)\", \"language\": \"en\", \"proportion\": 1.0, \"number\": \"100\", \"language_full\": \"English\"}, {\"id\": \"1401\", \"title\": \"Central Districts Advertiser and Agriculture and Mining Journal (Northam, WA : 1893 - 1895)\", \"language\": \"en\", \"proportion\": 0.97, \"number\": \"100\", \"language_full\": \"English\"}, {\"id\": \"1401\", \"title\": \"Central Districts Advertiser and Agriculture and Mining Journal (Northam, WA : 1893 - 1895)\", \"language\": \"ja\", \"proportion\": 0.01, \"number\": \"100\", \"language_full\": \"Japanese\"}, {\"id\": \"1401\", \"title\": \"Central Districts Advertiser and Agriculture and Mining Journal (Northam, WA : 1893 - 1895)\", \"language\": \"no\", \"proportion\": 0.01, \"number\": \"100\", \"language_full\": \"Norwegian\"}, {\"id\": \"1401\", \"title\": \"Central Districts Advertiser and Agriculture and Mining Journal (Northam, WA : 1893 - 1895)\", \"language\": \"fr\", \"proportion\": 0.01, \"number\": \"100\", \"language_full\": \"French\"}, {\"id\": \"1383\", \"title\": \"Chung Wah News (Perth, WA : 1981 - 1987)\", \"language\": \"zh\", \"proportion\": 0.3888888888888889, \"number\": \"100\", \"language_full\": \"Chinese\"}, {\"id\": \"1383\", \"title\": \"Chung Wah News (Perth, WA : 1981 - 1987)\", \"language\": \"en\", \"proportion\": 0.5666666666666667, \"number\": \"100\", \"language_full\": \"English\"}, {\"id\": \"1383\", \"title\": \"Chung Wah News (Perth, WA : 1981 - 1987)\", \"language\": \"hi\", \"proportion\": 0.044444444444444446, \"number\": \"100\", \"language_full\": \"Hindi\"}, {\"id\": \"1515\", \"title\": \"Clare's Weekly (Perth, WA : 1897 - 1899)\", \"language\": \"en\", \"proportion\": 1.0, \"number\": \"100\", \"language_full\": \"English\"}, {\"id\": \"1516\", \"title\": \"Coastal Districts Star (Perth, WA : 1952 - 1954)\", \"language\": \"en\", \"proportion\": 1.0, \"number\": \"100\", \"language_full\": \"English\"}, {\"id\": \"933\", \"title\": \"Collie Mail (Perth, WA : 1908 - 1954)\", \"language\": \"en\", \"proportion\": 1.0, \"number\": \"100\", \"language_full\": \"English\"}, {\"id\": \"1216\", \"title\": \"Coolgardie Miner (WA : 1894 - 1911)\", \"language\": \"en\", \"proportion\": 1.0, \"number\": \"100\", \"language_full\": \"English\"}, {\"id\": \"343\", \"title\": \"Coolgardie Miner (WA : 1913 - 1917)\", \"language\": \"en\", \"proportion\": 1.0, \"number\": \"100\", \"language_full\": \"English\"}, {\"id\": \"1174\", \"title\": \"Coolgardie Miner (WA : 1935 - 1954)\", \"language\": \"en\", \"proportion\": 1.0, \"number\": \"100\", \"language_full\": \"English\"}, {\"id\": \"1272\", \"title\": \"Coolgardie Mining Review (WA : 1895 - 1897)\", \"language\": \"en\", \"proportion\": 1.0, \"number\": \"100\", \"language_full\": \"English\"}, {\"id\": \"1404\", \"title\": \"Coolgardie Pioneer (WA : 1895 - 1901)\", \"language\": \"en\", \"proportion\": 1.0, \"number\": \"100\", \"language_full\": \"English\"}, {\"id\": \"1405\", \"title\": \"Corrigin Broadcaster and Peoples Weekly (WA : 1930 - 1933)\", \"language\": \"en\", \"proportion\": 1.0, \"number\": \"100\", \"language_full\": \"English\"}, {\"id\": \"1517\", \"title\": \"Corrigin Chronicle and Kunjin-Bullaring Representative (WA : 1925 - 1943)\", \"language\": \"en\", \"proportion\": 1.0, \"number\": \"100\", \"language_full\": \"English\"}, {\"id\": \"1615\", \"title\": \"Cue-Big Bell Chronicle and Reedy Recorder (WA : 1937 - 1942)\", \"language\": \"en\", \"proportion\": 1.0, \"number\": \"100\", \"language_full\": \"English\"}, {\"id\": \"1406\", \"title\": \"Daily Advertiser (Geraldton, WA : 1890 - 1893)\", \"language\": \"en\", \"proportion\": 1.0, \"number\": \"100\", \"language_full\": \"English\"}, {\"id\": \"1114\", \"title\": \"Daily Telegraph and North Murchison and Pilbarra Gazette (WA : 1920 - 1947)\", \"language\": \"en\", \"proportion\": 1.0, \"number\": \"100\", \"language_full\": \"English\"}, {\"id\": \"1760\", \"title\": \"Dalgety's Review (Perth, WA : 1926 - 1948)\", \"language\": \"en\", \"proportion\": 1.0, \"number\": \"100\", \"language_full\": \"English\"}, {\"id\": \"1407\", \"title\": \"Dampier Despatch (Broome, WA : 1904 - 1905)\", \"language\": \"en\", \"proportion\": 1.0, \"number\": \"100\", \"language_full\": \"English\"}, {\"id\": \"1566\", \"title\": \"Dampier Herald (Wyalkatchem, W.A. : 1928 - 1937)\", \"language\": \"en\", \"proportion\": 1.0, \"number\": \"100\", \"language_full\": \"English\"}, {\"id\": \"1518\", \"title\": \"Dampier Herald and Bencubbin Chronicle (Wyalkatchem, W.A. : 1937 - 1943)\", \"language\": \"en\", \"proportion\": 1.0, \"number\": \"100\", \"language_full\": \"English\"}, {\"id\": \"1567\", \"title\": \"Dampier Herald and Nungarin Standard (Wyalkatchem, W.A.: 1943 - 1954)\", \"language\": \"en\", \"proportion\": 1.0, \"number\": \"100\", \"language_full\": \"English\"}, {\"id\": \"1408\", \"title\": \"Day Dawn Chronicle (WA : 1902 - 1909)\", \"language\": \"en\", \"proportion\": 1.0, \"number\": \"100\", \"language_full\": \"English\"}, {\"id\": \"1409\", \"title\": \"Democrat (Perth, WA : 1904 - 1905)\", \"language\": \"en\", \"proportion\": 1.0, \"number\": \"100\", \"language_full\": \"English\"}, {\"id\": \"1385\", \"title\": \"Der Australische Spiegel = The Australian Mirror (Perth, WA : 1952)\", \"language\": \"de\", \"proportion\": 0.82, \"number\": \"100\", \"language_full\": \"German\"}, {\"id\": \"1385\", \"title\": \"Der Australische Spiegel = The Australian Mirror (Perth, WA : 1952)\", \"language\": \"en\", \"proportion\": 0.18, \"number\": \"100\", \"language_full\": \"English\"}, {\"id\": \"1410\", \"title\": \"Dumbleyung-Lake Grace-Newdegate Cultivator and Kukerin and Moulyinning Producer (WA : 1930)\", \"language\": \"en\", \"proportion\": 1.0, \"number\": \"100\", \"language_full\": \"English\"}, {\"id\": \"1411\", \"title\": \"East Murchison News (WA : 1901 - 1911)\", \"language\": \"en\", \"proportion\": 1.0, \"number\": \"100\", \"language_full\": \"English\"}, {\"id\": \"734\", \"title\": \"Eastern Districts Chronicle (York, WA : 1877 - 1927)\", \"language\": \"en\", \"proportion\": 1.0, \"number\": \"100\", \"language_full\": \"English\"}, {\"id\": \"1384\", \"title\": \"Echo : Polski Tygodnik Niezalezny (Perth, WA : 1950 - 1952)\", \"language\": \"pl\", \"proportion\": 0.91, \"number\": \"100\", \"language_full\": \"Polish\"}, {\"id\": \"1384\", \"title\": \"Echo : Polski Tygodnik Niezalezny (Perth, WA : 1950 - 1952)\", \"language\": \"en\", \"proportion\": 0.09, \"number\": \"100\", \"language_full\": \"English\"}, {\"id\": \"1387\", \"title\": \"Eco Italiano (Perth, WA : 1958 - 1959)\", \"language\": \"it\", \"proportion\": 1.0, \"number\": \"100\", \"language_full\": \"Italian\"}, {\"id\": \"1618\", \"title\": \"Esperance Chronicle and Dundas and Norseman Advertiser (WA : 1895 - 1898)\", \"language\": \"en\", \"proportion\": 1.0, \"number\": \"100\", \"language_full\": \"English\"}, {\"id\": \"1412\", \"title\": \"Esperance Times (WA : 1896 - 1898)\", \"language\": \"en\", \"proportion\": 1.0, \"number\": \"100\", \"language_full\": \"English\"}, {\"id\": \"1522\", \"title\": \"Evening Courier (Fremantle, WA : 1902 - 1903)\", \"language\": \"en\", \"proportion\": 1.0, \"number\": \"100\", \"language_full\": \"English\"}, {\"id\": \"1413\", \"title\": \"Farmers Observer (Narembeen, WA : 1933 - 1935)\", \"language\": \"en\", \"proportion\": 1.0, \"number\": \"100\", \"language_full\": \"English\"}, {\"id\": \"1751\", \"title\": \"Freelance (Perth, WA : 1924 - 1925)\", \"language\": \"en\", \"proportion\": 1.0, \"number\": \"100\", \"language_full\": \"English\"}, {\"id\": \"1491\", \"title\": \"Fremantle Advocate (WA : 1926 - 1942)\", \"language\": \"en\", \"proportion\": 1.0, \"number\": \"100\", \"language_full\": \"English\"}, {\"id\": \"1528\", \"title\": \"Fremantle Courier (WA : 1902)\", \"language\": \"en\", \"proportion\": 0.98989898989899, \"number\": \"100\", \"language_full\": \"English\"}, {\"id\": \"1528\", \"title\": \"Fremantle Courier (WA : 1902)\", \"language\": \"mt\", \"proportion\": 0.010101010101010102, \"number\": \"100\", \"language_full\": \"Maltese\"}, {\"id\": \"1196\", \"title\": \"Fremantle Mercury (WA : 1932 - 1933)\", \"language\": \"en\", \"proportion\": 1.0, \"number\": \"100\", \"language_full\": \"English\"}, {\"id\": \"1414\", \"title\": \"Geraldton Advertiser (WA : 1893 - 1905)\", \"language\": \"en\", \"proportion\": 1.0, \"number\": \"100\", \"language_full\": \"English\"}, {\"id\": \"1623\", \"title\": \"Geraldton Express and Murchison Goldfields News (WA : 1894 - 1896)\", \"language\": \"en\", \"proportion\": 0.6438356164383562, \"number\": \"100\", \"language_full\": \"English\"}, {\"id\": \"1623\", \"title\": \"Geraldton Express and Murchison Goldfields News (WA : 1894 - 1896)\", \"language\": \"mt\", \"proportion\": 0.0958904109589041, \"number\": \"100\", \"language_full\": \"Maltese\"}, {\"id\": \"1623\", \"title\": \"Geraldton Express and Murchison Goldfields News (WA : 1894 - 1896)\", \"language\": \"ms\", \"proportion\": 0.0136986301369863, \"number\": \"100\", \"language_full\": \"Malay (macrolanguage)\"}, {\"id\": \"1623\", \"title\": \"Geraldton Express and Murchison Goldfields News (WA : 1894 - 1896)\", \"language\": \"haw\", \"proportion\": 0.0410958904109589, \"number\": \"100\", \"language_full\": \"Hawaiian\"}, {\"id\": \"1623\", \"title\": \"Geraldton Express and Murchison Goldfields News (WA : 1894 - 1896)\", \"language\": \"sl\", \"proportion\": 0.0136986301369863, \"number\": \"100\", \"language_full\": \"Slovenian\"}, {\"id\": \"1623\", \"title\": \"Geraldton Express and Murchison Goldfields News (WA : 1894 - 1896)\", \"language\": \"ja\", \"proportion\": 0.0684931506849315, \"number\": \"100\", \"language_full\": \"Japanese\"}, {\"id\": \"1623\", \"title\": \"Geraldton Express and Murchison Goldfields News (WA : 1894 - 1896)\", \"language\": \"lb\", \"proportion\": 0.0136986301369863, \"number\": \"100\", \"language_full\": \"Luxembourgish\"}, {\"id\": \"1623\", \"title\": \"Geraldton Express and Murchison Goldfields News (WA : 1894 - 1896)\", \"language\": \"da\", \"proportion\": 0.0136986301369863, \"number\": \"100\", \"language_full\": \"Danish\"}, {\"id\": \"1623\", \"title\": \"Geraldton Express and Murchison Goldfields News (WA : 1894 - 1896)\", \"language\": \"bg\", \"proportion\": 0.0273972602739726, \"number\": \"100\", \"language_full\": \"Bulgarian\"}, {\"id\": \"1623\", \"title\": \"Geraldton Express and Murchison Goldfields News (WA : 1894 - 1896)\", \"language\": \"mg\", \"proportion\": 0.0273972602739726, \"number\": \"100\", \"language_full\": \"Malagasy\"}, {\"id\": \"1623\", \"title\": \"Geraldton Express and Murchison Goldfields News (WA : 1894 - 1896)\", \"language\": \"et\", \"proportion\": 0.0136986301369863, \"number\": \"100\", \"language_full\": \"Estonian\"}, {\"id\": \"1623\", \"title\": \"Geraldton Express and Murchison Goldfields News (WA : 1894 - 1896)\", \"language\": \"sm\", \"proportion\": 0.0273972602739726, \"number\": \"100\", \"language_full\": \"Samoan\"}, {\"id\": \"173\", \"title\": \"Geraldton Guardian (WA : 1906 - 1928)\", \"language\": \"en\", \"proportion\": 1.0, \"number\": \"100\", \"language_full\": \"English\"}, {\"id\": \"221\", \"title\": \"Geraldton Guardian (WA : 1948 - 1950)\", \"language\": \"en\", \"proportion\": 1.0, \"number\": \"100\", \"language_full\": \"English\"}, {\"id\": \"1415\", \"title\": \"Geraldton Guardian (WA : 1950 - 1954)\", \"language\": \"en\", \"proportion\": 1.0, \"number\": \"100\", \"language_full\": \"English\"}, {\"id\": \"220\", \"title\": \"Geraldton Guardian and Express (WA : 1929 - 1947)\", \"language\": \"en\", \"proportion\": 1.0, \"number\": \"100\", \"language_full\": \"English\"}, {\"id\": \"1625\", \"title\": \"Geraldton Murchison Telegraph (WA : 1892 - 1899)\", \"language\": \"en\", \"proportion\": 0.9578947368421052, \"number\": \"100\", \"language_full\": \"English\"}, {\"id\": \"1625\", \"title\": \"Geraldton Murchison Telegraph (WA : 1892 - 1899)\", \"language\": \"ja\", \"proportion\": 0.010526315789473684, \"number\": \"100\", \"language_full\": \"Japanese\"}, {\"id\": \"1625\", \"title\": \"Geraldton Murchison Telegraph (WA : 1892 - 1899)\", \"language\": \"cy\", \"proportion\": 0.010526315789473684, \"number\": \"100\", \"language_full\": \"Welsh\"}, {\"id\": \"1625\", \"title\": \"Geraldton Murchison Telegraph (WA : 1892 - 1899)\", \"language\": \"mt\", \"proportion\": 0.010526315789473684, \"number\": \"100\", \"language_full\": \"Maltese\"}, {\"id\": \"1625\", \"title\": \"Geraldton Murchison Telegraph (WA : 1892 - 1899)\", \"language\": \"haw\", \"proportion\": 0.010526315789473684, \"number\": \"100\", \"language_full\": \"Hawaiian\"}, {\"id\": \"1416\", \"title\": \"Geraldton Observer (WA : 1880 - 1881)\", \"language\": \"en\", \"proportion\": 1.0, \"number\": \"100\", \"language_full\": \"English\"}, {\"id\": \"1417\", \"title\": \"Gnowangerup Star (WA : 1941 - 1954)\", \"language\": \"en\", \"proportion\": 1.0, \"number\": \"100\", \"language_full\": \"English\"}, {\"id\": \"811\", \"title\": \"Gnowangerup Star and Tambellup-Ongerup Gazette (WA : 1915 - 1944)\", \"language\": \"en\", \"proportion\": 1.0, \"number\": \"100\", \"language_full\": \"English\"}, {\"id\": \"1118\", \"title\": \"Gnowangerup Times (WA : 1912 - 1918)\", \"language\": \"en\", \"proportion\": 1.0, \"number\": \"100\", \"language_full\": \"English\"}, {\"id\": \"1627\", \"title\": \"Goomalling Gazette (WA : 1946 - 1954)\", \"language\": \"en\", \"proportion\": 1.0, \"number\": \"100\", \"language_full\": \"English\"}, {\"id\": \"812\", \"title\": \"Goomalling-Dowerin Mail (WA : 1911 - 1916)\", \"language\": \"en\", \"proportion\": 1.0, \"number\": \"100\", \"language_full\": \"English\"}, {\"id\": \"813\", \"title\": \"Goomalling-Dowerin Mail (WA : 1916 - 1922)\", \"language\": \"en\", \"proportion\": 1.0, \"number\": \"100\", \"language_full\": \"English\"}, {\"id\": \"735\", \"title\": \"Great Southern Herald (Katanning, WA : 1901 - 1954)\", \"language\": \"en\", \"proportion\": 1.0, \"number\": \"100\", \"language_full\": \"English\"}, {\"id\": \"814\", \"title\": \"Great Southern Leader (Pingelly, WA : 1907 - 1934)\", \"language\": \"en\", \"proportion\": 1.0, \"number\": \"100\", \"language_full\": \"English\"}, {\"id\": \"1418\", \"title\": \"Greenbushes Advocate and Donnybrook and Bridgetown Advertiser (WA : 1899 - 1902)\", \"language\": \"en\", \"proportion\": 1.0, \"number\": \"100\", \"language_full\": \"English\"}, {\"id\": \"1628\", \"title\": \"Greenough Sun (WA : 1947 - 1954)\", \"language\": \"en\", \"proportion\": 1.0, \"number\": \"100\", \"language_full\": \"English\"}, {\"id\": \"1274\", \"title\": \"Group Settlement Chronicle and Margaret-Augusta Mail (Busselton, WA : 1923 - 1930)\", \"language\": \"en\", \"proportion\": 1.0, \"number\": \"100\", \"language_full\": \"English\"}, {\"id\": \"1175\", \"title\": \"Hamersley News (Perth, WA : 1969 - 1987)\", \"language\": \"en\", \"proportion\": 1.0, \"number\": \"100\", \"language_full\": \"English\"}, {\"id\": \"931\", \"title\": \"Harvey Chronicle (Pinjarra, WA : 1915 - 1916)\", \"language\": \"en\", \"proportion\": 1.0, \"number\": \"100\", \"language_full\": \"English\"}, {\"id\": \"1419\", \"title\": \"Harvey Murray Times (WA : 1931 - 1955)\", \"language\": \"en\", \"proportion\": 1.0, \"number\": \"100\", \"language_full\": \"English\"}, {\"id\": \"1420\", \"title\": \"Hedland Advocate (Port Hedland, WA : 1906 - 1912)\", \"language\": \"en\", \"proportion\": 1.0, \"number\": \"100\", \"language_full\": \"English\"}, {\"id\": \"1389\", \"title\": \"Hellenic Echo (Perth, WA : 1967 - 1968)\", \"language\": \"el\", \"proportion\": 1.0, \"number\": \"100\", \"language_full\": \"Modern Greek (1453-)\"}, {\"id\": \"1421\", \"title\": \"Herald (Coolgardie, WA : 1899 - 1901)\", \"language\": \"en\", \"proportion\": 1.0, \"number\": \"100\", \"language_full\": \"English\"}, {\"id\": \"1378\", \"title\": \"Il Canguro = The Kangaroo (Perth, WA : 1955 - 1957)\", \"language\": \"it\", \"proportion\": 0.97, \"number\": \"100\", \"language_full\": \"Italian\"}, {\"id\": \"1378\", \"title\": \"Il Canguro = The Kangaroo (Perth, WA : 1955 - 1957)\", \"language\": \"en\", \"proportion\": 0.03, \"number\": \"100\", \"language_full\": \"English\"}, {\"id\": \"181\", \"title\": \"Inquirer (Perth, WA : 1840 - 1855)\", \"language\": \"en\", \"proportion\": 0.99, \"number\": \"100\", \"language_full\": \"English\"}, {\"id\": \"181\", \"title\": \"Inquirer (Perth, WA : 1840 - 1855)\", \"language\": \"mt\", \"proportion\": 0.01, \"number\": \"100\", \"language_full\": \"Maltese\"}, {\"id\": \"1386\", \"title\": \"Japanese Perth Times (Subiaco, WA : 1989 - 1996)\", \"language\": \"ja\", \"proportion\": 0.9375, \"number\": \"100\", \"language_full\": \"Japanese\"}, {\"id\": \"1386\", \"title\": \"Japanese Perth Times (Subiaco, WA : 1989 - 1996)\", \"language\": \"en\", \"proportion\": 0.041666666666666664, \"number\": \"100\", \"language_full\": \"English\"}, {\"id\": \"1386\", \"title\": \"Japanese Perth Times (Subiaco, WA : 1989 - 1996)\", \"language\": \"uz\", \"proportion\": 0.010416666666666666, \"number\": \"100\", \"language_full\": \"Uzbek\"}, {\"id\": \"1386\", \"title\": \"Japanese Perth Times (Subiaco, WA : 1989 - 1996)\", \"language\": \"fil\", \"proportion\": 0.010416666666666666, \"number\": \"100\", \"language_full\": \"Filipino\"}, {\"id\": \"1532\", \"title\": \"Kalamunda and District News (WA : 1952 - 1954)\", \"language\": \"en\", \"proportion\": 1.0, \"number\": \"100\", \"language_full\": \"English\"}, {\"id\": \"1459\", \"title\": \"Kalgoorlie and Boulder Standard (WA : 1897 - 1898)\", \"language\": \"en\", \"proportion\": 1.0, \"number\": \"100\", \"language_full\": \"English\"}, {\"id\": \"342\", \"title\": \"Kalgoorlie Miner (WA : 1895 - 1954)\", \"language\": \"en\", \"proportion\": 1.0, \"number\": \"100\", \"language_full\": \"English\"}, {\"id\": \"73\", \"title\": \"Kalgoorlie Western Argus (WA : 1896 - 1916)\", \"language\": \"en\", \"proportion\": 1.0, \"number\": \"100\", \"language_full\": \"English\"}, {\"id\": \"1458\", \"title\": \"Kanowna Democrat and North East Coolgardie Advertiser (WA : 1896 - 1897)\", \"language\": \"en\", \"proportion\": 1.0, \"number\": \"100\", \"language_full\": \"English\"}, {\"id\": \"1457\", \"title\": \"Kanowna Herald (WA : 1898)\", \"language\": \"en\", \"proportion\": 1.0, \"number\": \"100\", \"language_full\": \"English\"}, {\"id\": \"1631\", \"title\": \"Kojonup Courier (WA : 1951 - 1958)\", \"language\": \"en\", \"proportion\": 1.0, \"number\": \"100\", \"language_full\": \"English\"}, {\"id\": \"1456\", \"title\": \"Kondinin Wheatlander and Kulin and Karlgarin Gazette (WA : 1926 - 1927)\", \"language\": \"en\", \"proportion\": 1.0, \"number\": \"100\", \"language_full\": \"English\"}, {\"id\": \"1534\", \"title\": \"Kondinin-Kulin Kourier and Karlgarin Advocate (WA : 1926 - 1941)\", \"language\": \"en\", \"proportion\": 1.0, \"number\": \"100\", \"language_full\": \"English\"}, {\"id\": \"1455\", \"title\": \"Kookynie Advocate and Northern Goldfields News (WA : 1903 - 1904)\", \"language\": \"en\", \"proportion\": 0.9895833333333334, \"number\": \"100\", \"language_full\": \"English\"}, {\"id\": \"1455\", \"title\": \"Kookynie Advocate and Northern Goldfields News (WA : 1903 - 1904)\", \"language\": \"ga\", \"proportion\": 0.010416666666666666, \"number\": \"100\", \"language_full\": \"Irish\"}, {\"id\": \"1454\", \"title\": \"Kookynie Press (WA : 1903 - 1911)\", \"language\": \"en\", \"proportion\": 1.0, \"number\": \"100\", \"language_full\": \"English\"}, {\"id\": \"1453\", \"title\": \"Koorda Record (WA : 1934 - 1939)\", \"language\": \"en\", \"proportion\": 1.0, \"number\": \"100\", \"language_full\": \"English\"}, {\"id\": \"1632\", \"title\": \"Kulin Advocate and Dudinin-Jitarning Harrismith Recorder (WA : 1934 - 1940)\", \"language\": \"en\", \"proportion\": 0.9897959183673469, \"number\": \"100\", \"language_full\": \"English\"}, {\"id\": \"1632\", \"title\": \"Kulin Advocate and Dudinin-Jitarning Harrismith Recorder (WA : 1934 - 1940)\", \"language\": \"mt\", \"proportion\": 0.01020408163265306, \"number\": \"100\", \"language_full\": \"Maltese\"}, {\"id\": \"1388\", \"title\": \"La Rondine (Perth, WA : 1970 - 1974; 1983 - 1984)\", \"language\": \"it\", \"proportion\": 0.98, \"number\": \"100\", \"language_full\": \"Italian\"}, {\"id\": \"1388\", \"title\": \"La Rondine (Perth, WA : 1970 - 1974; 1983 - 1984)\", \"language\": \"en\", \"proportion\": 0.02, \"number\": \"100\", \"language_full\": \"English\"}, {\"id\": \"1422\", \"title\": \"Lake Grace Newdegate Cultivator and Dumbleyung and Kukerin Producer (WA : 1925 - 1930)\", \"language\": \"en\", \"proportion\": 1.0, \"number\": \"100\", \"language_full\": \"English\"}, {\"id\": \"976\", \"title\": \"Laverton and Beria Mercury (Laverton, WA : 1899 - 1921)\", \"language\": \"en\", \"proportion\": 1.0, \"number\": \"100\", \"language_full\": \"English\"}, {\"id\": \"1634\", \"title\": \"Leonora News (WA : 1944 - 1950)\", \"language\": \"en\", \"proportion\": 1.0, \"number\": \"100\", \"language_full\": \"English\"}, {\"id\": \"1536\", \"title\": \"Liberty (Fremantle, WA : 1891 - 1892)\", \"language\": \"en\", \"proportion\": 1.0, \"number\": \"98\", \"language_full\": \"English\"}, {\"id\": \"1537\", \"title\": \"Listening Post (Perth, WA : 1921 - 1954)\", \"language\": \"en\", \"proportion\": 0.99, \"number\": \"100\", \"language_full\": \"English\"}, {\"id\": \"1537\", \"title\": \"Listening Post (Perth, WA : 1921 - 1954)\", \"language\": \"ja\", \"proportion\": 0.01, \"number\": \"100\", \"language_full\": \"Japanese\"}, {\"id\": \"1119\", \"title\": \"Local Option Advocate (Perth, WA : 1919 - 1927)\", \"language\": \"en\", \"proportion\": 1.0, \"number\": \"100\", \"language_full\": \"English\"}, {\"id\": \"1539\", \"title\": \"Manjimup and Warren Times (WA : 1927 - 1954)\", \"language\": \"en\", \"proportion\": 1.0, \"number\": \"100\", \"language_full\": \"English\"}, {\"id\": \"1452\", \"title\": \"Manjimup Mail and Jardee-Pemberton-Northcliffe Press (WA : 1927 - 1950)\", \"language\": \"en\", \"proportion\": 1.0, \"number\": \"100\", \"language_full\": \"English\"}, {\"id\": \"1635\", \"title\": \"Margaret River News (Busselton, WA : 1939 - 1941)\", \"language\": \"en\", \"proportion\": 1.0, \"number\": \"100\", \"language_full\": \"English\"}, {\"id\": \"1390\", \"title\": \"Mediterranean Voice (Perth, WA : 1971 - 1972)\", \"language\": \"es\", \"proportion\": 0.061224489795918366, \"number\": \"100\", \"language_full\": \"Spanish\"}, {\"id\": \"1390\", \"title\": \"Mediterranean Voice (Perth, WA : 1971 - 1972)\", \"language\": \"fr\", \"proportion\": 0.08163265306122448, \"number\": \"100\", \"language_full\": \"French\"}, {\"id\": \"1390\", \"title\": \"Mediterranean Voice (Perth, WA : 1971 - 1972)\", \"language\": \"hr\", \"proportion\": 0.04081632653061224, \"number\": \"100\", \"language_full\": \"Croatian\"}, {\"id\": \"1390\", \"title\": \"Mediterranean Voice (Perth, WA : 1971 - 1972)\", \"language\": \"tr\", \"proportion\": 0.02040816326530612, \"number\": \"100\", \"language_full\": \"Turkish\"}, {\"id\": \"1390\", \"title\": \"Mediterranean Voice (Perth, WA : 1971 - 1972)\", \"language\": \"it\", \"proportion\": 0.030612244897959183, \"number\": \"100\", \"language_full\": \"Italian\"}, {\"id\": \"1390\", \"title\": \"Mediterranean Voice (Perth, WA : 1971 - 1972)\", \"language\": \"mt\", \"proportion\": 0.02040816326530612, \"number\": \"100\", \"language_full\": \"Maltese\"}, {\"id\": \"1390\", \"title\": \"Mediterranean Voice (Perth, WA : 1971 - 1972)\", \"language\": \"en\", \"proportion\": 0.22448979591836735, \"number\": \"100\", \"language_full\": \"English\"}, {\"id\": \"1390\", \"title\": \"Mediterranean Voice (Perth, WA : 1971 - 1972)\", \"language\": \"el\", \"proportion\": 0.35714285714285715, \"number\": \"100\", \"language_full\": \"Modern Greek (1453-)\"}, {\"id\": \"1390\", \"title\": \"Mediterranean Voice (Perth, WA : 1971 - 1972)\", \"language\": \"pt\", \"proportion\": 0.15306122448979592, \"number\": \"100\", \"language_full\": \"Portuguese\"}, {\"id\": \"1390\", \"title\": \"Mediterranean Voice (Perth, WA : 1971 - 1972)\", \"language\": \"bs\", \"proportion\": 0.01020408163265306, \"number\": \"100\", \"language_full\": \"Bosnian\"}, {\"id\": \"977\", \"title\": \"Meekatharra Miner (WA : 1909 - 1918)\", \"language\": \"en\", \"proportion\": 1.0, \"number\": \"100\", \"language_full\": \"English\"}, {\"id\": \"1636\", \"title\": \"Menzies Weekly Times (WA : 1897 - 1898)\", \"language\": \"en\", \"proportion\": 0.9036144578313253, \"number\": \"100\", \"language_full\": \"English\"}, {\"id\": \"1636\", \"title\": \"Menzies Weekly Times (WA : 1897 - 1898)\", \"language\": \"ja\", \"proportion\": 0.012048192771084338, \"number\": \"100\", \"language_full\": \"Japanese\"}, {\"id\": \"1636\", \"title\": \"Menzies Weekly Times (WA : 1897 - 1898)\", \"language\": \"ca\", \"proportion\": 0.012048192771084338, \"number\": \"100\", \"language_full\": \"Catalan\"}, {\"id\": \"1636\", \"title\": \"Menzies Weekly Times (WA : 1897 - 1898)\", \"language\": \"ig\", \"proportion\": 0.012048192771084338, \"number\": \"100\", \"language_full\": \"Igbo\"}, {\"id\": \"1636\", \"title\": \"Menzies Weekly Times (WA : 1897 - 1898)\", \"language\": \"mt\", \"proportion\": 0.03614457831325301, \"number\": \"100\", \"language_full\": \"Maltese\"}, {\"id\": \"1636\", \"title\": \"Menzies Weekly Times (WA : 1897 - 1898)\", \"language\": \"no\", \"proportion\": 0.012048192771084338, \"number\": \"100\", \"language_full\": \"Norwegian\"}, {\"id\": \"1636\", \"title\": \"Menzies Weekly Times (WA : 1897 - 1898)\", \"language\": \"cy\", \"proportion\": 0.012048192771084338, \"number\": \"100\", \"language_full\": \"Welsh\"}, {\"id\": \"815\", \"title\": \"Merredin Mercury and Central Districts Index (WA : 1912 - 1954)\", \"language\": \"en\", \"proportion\": 1.0, \"number\": \"100\", \"language_full\": \"English\"}, {\"id\": \"1451\", \"title\": \"Midlands Advocate (Perth, WA : 1930 - 1954)\", \"language\": \"en\", \"proportion\": 1.0, \"number\": \"100\", \"language_full\": \"English\"}, {\"id\": \"253\", \"title\": \"Mirror (Perth, WA : 1921 - 1956)\", \"language\": \"en\", \"proportion\": 1.0, \"number\": \"100\", \"language_full\": \"English\"}, {\"id\": \"1450\", \"title\": \"Morgans Courier (Mount Morgan, WA : 1904 - 1911)\", \"language\": \"en\", \"proportion\": 1.0, \"number\": \"100\", \"language_full\": \"English\"}, {\"id\": \"1449\", \"title\": \"Morning Post (Geraldton, WA : 1895 - 1896)\", \"language\": \"en\", \"proportion\": 1.0, \"number\": \"100\", \"language_full\": \"English\"}, {\"id\": \"1312\", \"title\": \"Mount Barker and Denmark Record (Albany, WA : 1929 - 1949)\", \"language\": \"en\", \"proportion\": 1.0, \"number\": \"100\", \"language_full\": \"English\"}, {\"id\": \"817\", \"title\": \"Mount Magnet Miner and Lennonville Leader (WA : 1896 - 1926)\", \"language\": \"en\", \"proportion\": 1.0, \"number\": \"100\", \"language_full\": \"English\"}, {\"id\": \"1448\", \"title\": \"Mount Morgans Mercury (WA : 1906 - 1909)\", \"language\": \"en\", \"proportion\": 1.0, \"number\": \"100\", \"language_full\": \"English\"}, {\"id\": \"1447\", \"title\": \"Mount Morgans Miner (WA : 1900; 1901 - 1903)\", \"language\": \"en\", \"proportion\": 1.0, \"number\": \"100\", \"language_full\": \"English\"}, {\"id\": \"1427\", \"title\": \"Mullewa Magnet and Perenjori-Morawa Advertiser (WA : 1927 - 1931)\", \"language\": \"en\", \"proportion\": 1.0, \"number\": \"100\", \"language_full\": \"English\"}, {\"id\": \"1120\", \"title\": \"Murchison Advocate (WA : 1898 - 1912)\", \"language\": \"en\", \"proportion\": 1.0, \"number\": \"100\", \"language_full\": \"English\"}, {\"id\": \"1423\", \"title\": \"Murchison Magnet and Mullewa Mercury (WA : 1926 - 1927)\", \"language\": \"en\", \"proportion\": 1.0, \"number\": \"100\", \"language_full\": \"English\"}, {\"id\": \"1543\", \"title\": \"Murchison Times and Cue-Big Bell-Reedy Advocate (WA : 1937 - 1942)\", \"language\": \"en\", \"proportion\": 0.8928571428571429, \"number\": \"100\", \"language_full\": \"English\"}, {\"id\": \"1543\", \"title\": \"Murchison Times and Cue-Big Bell-Reedy Advocate (WA : 1937 - 1942)\", \"language\": \"mt\", \"proportion\": 0.07142857142857142, \"number\": \"100\", \"language_full\": \"Maltese\"}, {\"id\": \"1543\", \"title\": \"Murchison Times and Cue-Big Bell-Reedy Advocate (WA : 1937 - 1942)\", \"language\": \"so\", \"proportion\": 0.023809523809523808, \"number\": \"100\", \"language_full\": \"Somali\"}, {\"id\": \"1543\", \"title\": \"Murchison Times and Cue-Big Bell-Reedy Advocate (WA : 1937 - 1942)\", \"language\": \"pt\", \"proportion\": 0.011904761904761904, \"number\": \"100\", \"language_full\": \"Portuguese\"}, {\"id\": \"1446\", \"title\": \"Narembeen Observer (WA : 1928 - 1933)\", \"language\": \"en\", \"proportion\": 1.0, \"number\": \"100\", \"language_full\": \"English\"}, {\"id\": \"1445\", \"title\": \"Narrogin Advocate and Southern Districts Courier (WA : 1904 - 1906)\", \"language\": \"en\", \"proportion\": 1.0, \"number\": \"100\", \"language_full\": \"English\"}, {\"id\": \"1424\", \"title\": \"Nelson Advocate (WA : 1926 - 1938)\", \"language\": \"en\", \"proportion\": 1.0, \"number\": \"100\", \"language_full\": \"English\"}, {\"id\": \"1122\", \"title\": \"New Call (Perth, WA : 1931 - 1934)\", \"language\": \"en\", \"proportion\": 1.0, \"number\": \"100\", \"language_full\": \"English\"}, {\"id\": \"1121\", \"title\": \"New Call and Bailey's Weekly (Perth, WA : 1934 - 1940)\", \"language\": \"en\", \"proportion\": 1.0, \"number\": \"100\", \"language_full\": \"English\"}, {\"id\": \"1444\", \"title\": \"Newcastle Herald and Toodyay District Chronicle (WA : 1902 - 1912)\", \"language\": \"en\", \"proportion\": 1.0, \"number\": \"100\", \"language_full\": \"English\"}, {\"id\": \"932\", \"title\": \"Nor-West Echo (Broome, WA : 1912 - 1930)\", \"language\": \"en\", \"proportion\": 1.0, \"number\": \"100\", \"language_full\": \"English\"}, {\"id\": \"1655\", \"title\": \"Nor'West Times and Northern Advocate (Roebourne, WA : 1891 - 1894)\", \"language\": \"en\", \"proportion\": 1.0, \"number\": \"100\", \"language_full\": \"English\"}, {\"id\": \"1645\", \"title\": \"Norseman Advertiser (Coolgardie, WA : 1935 - 1936)\", \"language\": \"en\", \"proportion\": 1.0, \"number\": \"100\", \"language_full\": \"English\"}, {\"id\": \"846\", \"title\": \"Norseman Esperance Guardian and Dundas Goldfields Advertiser (WA : 1896)\", \"language\": \"en\", \"proportion\": 1.0, \"number\": \"100\", \"language_full\": \"English\"}, {\"id\": \"1646\", \"title\": \"Norseman Sentinel and Princess Royal Watchdog (WA : 1903)\", \"language\": \"en\", \"proportion\": 1.0, \"number\": \"76\", \"language_full\": \"English\"}, {\"id\": \"736\", \"title\": \"Norseman Times (WA : 1898 - 1920)\", \"language\": \"en\", \"proportion\": 0.9897959183673469, \"number\": \"100\", \"language_full\": \"English\"}, {\"id\": \"736\", \"title\": \"Norseman Times (WA : 1898 - 1920)\", \"language\": \"mt\", \"proportion\": 0.01020408163265306, \"number\": \"100\", \"language_full\": \"Maltese\"}, {\"id\": \"1568\", \"title\": \"North-Eastern Courier (Perth, WA : 1923 - 1955)\", \"language\": \"en\", \"proportion\": 1.0, \"number\": \"100\", \"language_full\": \"English\"}, {\"id\": \"1443\", \"title\": \"North-Eastern Wheatbelt Tribune (Wyalkatchem, WA : 1926 - 1940)\", \"language\": \"en\", \"proportion\": 1.0, \"number\": \"100\", \"language_full\": \"English\"}, {\"id\": \"1652\", \"title\": \"Northam Advertiser and Toodyay Times (WA : 1954)\", \"language\": \"en\", \"proportion\": 1.0, \"number\": \"100\", \"language_full\": \"English\"}, {\"id\": \"818\", \"title\": \"Northam Courier (WA : 1909 - 1922)\", \"language\": \"en\", \"proportion\": 1.0, \"number\": \"100\", \"language_full\": \"English\"}, {\"id\": \"1653\", \"title\": \"Northam News (WA : 1947 - 1954)\", \"language\": \"en\", \"proportion\": 1.0, \"number\": \"100\", \"language_full\": \"English\"}, {\"id\": \"1442\", \"title\": \"Northern Public Opinion and Mining and Pastoral News (Roebourne, WA : 1894 - 1902)\", \"language\": \"en\", \"proportion\": 0.9894736842105263, \"number\": \"100\", \"language_full\": \"English\"}, {\"id\": \"1442\", \"title\": \"Northern Public Opinion and Mining and Pastoral News (Roebourne, WA : 1894 - 1902)\", \"language\": \"mt\", \"proportion\": 0.010526315789473684, \"number\": \"100\", \"language_full\": \"Maltese\"}, {\"id\": \"254\", \"title\": \"Northern Times (Carnarvon, WA : 1905 - 1952)\", \"language\": \"en\", \"proportion\": 1.0, \"number\": \"100\", \"language_full\": \"English\"}, {\"id\": \"1497\", \"title\": \"Northern Times (Carnarvon, WA : 1952 - 1954)\", \"language\": \"en\", \"proportion\": 1.0, \"number\": \"100\", \"language_full\": \"English\"}, {\"id\": \"1123\", \"title\": \"Nungarin Trayning Mail and Kununoppin Advertiser (WA : 1917 - 1922)\", \"language\": \"en\", \"proportion\": 1.0, \"number\": \"100\", \"language_full\": \"English\"}, {\"id\": \"1563\", \"title\": \"Once a Week (Perth : 1889)\", \"language\": \"en\", \"proportion\": 1.0, \"number\": \"100\", \"language_full\": \"English\"}, {\"id\": \"1752\", \"title\": \"Perth Daily Telegraph (WA : 1922)\", \"language\": \"en\", \"proportion\": 1.0, \"number\": \"100\", \"language_full\": \"English\"}, {\"id\": \"1090\", \"title\": \"Pingelly-Brookton Leader (WA : 1925 - 1954)\", \"language\": \"en\", \"proportion\": 1.0, \"number\": \"100\", \"language_full\": \"English\"}, {\"id\": \"1547\", \"title\": \"Pink Penny (Perth, WA : 1909)\", \"language\": \"en\", \"proportion\": 1.0, \"number\": \"100\", \"language_full\": \"English\"}, {\"id\": \"1124\", \"title\": \"Primary Producer (Perth, WA : 1916 - 1921)\", \"language\": \"en\", \"proportion\": 1.0, \"number\": \"100\", \"language_full\": \"English\"}, {\"id\": \"1754\", \"title\": \"Social Wealth  (Perth, WA : 1934)\", \"language\": \"en\", \"proportion\": 1.0, \"number\": \"100\", \"language_full\": \"English\"}, {\"id\": \"738\", \"title\": \"South Western Advertiser (Perth, WA : 1910 - 1954)\", \"language\": \"en\", \"proportion\": 0.99, \"number\": \"100\", \"language_full\": \"English\"}, {\"id\": \"738\", \"title\": \"South Western Advertiser (Perth, WA : 1910 - 1954)\", \"language\": \"mt\", \"proportion\": 0.01, \"number\": \"100\", \"language_full\": \"Maltese\"}, {\"id\": \"1126\", \"title\": \"South Western Times (Bunbury, WA : 1917 - 1929)\", \"language\": \"en\", \"proportion\": 1.0, \"number\": \"100\", \"language_full\": \"English\"}, {\"id\": \"1439\", \"title\": \"South Western Times (Bunbury, WA : 1932 - 1954)\", \"language\": \"en\", \"proportion\": 1.0, \"number\": \"100\", \"language_full\": \"English\"}, {\"id\": \"1438\", \"title\": \"South Western Tribune (Bunbury, WA : 1930 - 1932)\", \"language\": \"en\", \"proportion\": 1.0, \"number\": \"100\", \"language_full\": \"English\"}, {\"id\": \"341\", \"title\": \"Southern Advertiser (Bunbury, WA : 1888)\", \"language\": \"en\", \"proportion\": 1.0, \"number\": \"100\", \"language_full\": \"English\"}, {\"id\": \"819\", \"title\": \"Southern Times (Bunbury, WA : 1888 - 1916)\", \"language\": \"en\", \"proportion\": 1.0, \"number\": \"100\", \"language_full\": \"English\"}, {\"id\": \"929\", \"title\": \"Sparks' Fortnightly (Perth, WA : 1916 - 1919)\", \"language\": \"en\", \"proportion\": 1.0, \"number\": \"100\", \"language_full\": \"English\"}, {\"id\": \"1663\", \"title\": \"Sporting Life : Dryblower's Journal (Kalgoorlie, WA : 1905 - 1906)\", \"language\": \"en\", \"proportion\": 1.0, \"number\": \"100\", \"language_full\": \"English\"}, {\"id\": \"1753\", \"title\": \"Sports News (Perth, WA : 1953) \", \"language\": \"en\", \"proportion\": 1.0, \"number\": \"100\", \"language_full\": \"English\"}, {\"id\": \"1380\", \"title\": \"Stampa Italiana = The Italian Press (Perth, WA : 1931 - 1932)\", \"language\": \"it\", \"proportion\": 0.97, \"number\": \"100\", \"language_full\": \"Italian\"}, {\"id\": \"1380\", \"title\": \"Stampa Italiana = The Italian Press (Perth, WA : 1931 - 1932)\", \"language\": \"en\", \"proportion\": 0.02, \"number\": \"100\", \"language_full\": \"English\"}, {\"id\": \"1380\", \"title\": \"Stampa Italiana = The Italian Press (Perth, WA : 1931 - 1932)\", \"language\": \"co\", \"proportion\": 0.01, \"number\": \"100\", \"language_full\": \"Corsican\"}, {\"id\": \"1756\", \"title\": \"Suburban Life (Perth, WA : 1939)\", \"language\": \"en\", \"proportion\": 1.0, \"number\": \"100\", \"language_full\": \"English\"}, {\"id\": \"1548\", \"title\": \"Sunday Chronicle (Perth, WA : 1897 - 1899)\", \"language\": \"en\", \"proportion\": 1.0, \"number\": \"100\", \"language_full\": \"English\"}, {\"id\": \"1664\", \"title\": \"Sunday Figaro (Kalgoorlie, WA : 1904)\", \"language\": \"en\", \"proportion\": 1.0, \"number\": \"100\", \"language_full\": \"English\"}, {\"id\": \"93\", \"title\": \"Sunday Times (Perth, WA : 1902 - 1954)\", \"language\": \"en\", \"proportion\": 1.0, \"number\": \"100\", \"language_full\": \"English\"}, {\"id\": \"1379\", \"title\": \"Sunday Times Edizione Italiana (Perth, WA : 1958 - 1959)\", \"language\": \"it\", \"proportion\": 1.0, \"number\": \"100\", \"language_full\": \"Italian\"}, {\"id\": \"1142\", \"title\": \"Swan River Guardian (WA : 1836 - 1838)\", \"language\": \"en\", \"proportion\": 1.0, \"number\": \"100\", \"language_full\": \"English\"}, {\"id\": \"1127\", \"title\": \"Tambellup Times (WA : 1912 - 1924)\", \"language\": \"en\", \"proportion\": 1.0, \"number\": \"100\", \"language_full\": \"English\"}, {\"id\": \"1521\", \"title\": \"The Advertiser (Fremantle, WA : 1921 - 1932)\", \"language\": \"en\", \"proportion\": 1.0, \"number\": \"100\", \"language_full\": \"English\"}, {\"id\": \"175\", \"title\": \"The Albany Advertiser (WA : 1897 - 1954)\", \"language\": \"en\", \"proportion\": 1.0, \"number\": \"100\", \"language_full\": \"English\"}, {\"id\": \"1430\", \"title\": \"The Albany Despatch (WA : 1919 - 1927)\", \"language\": \"en\", \"proportion\": 1.0, \"number\": \"100\", \"language_full\": \"English\"}, {\"id\": \"1270\", \"title\": \"The Albany Mail and King George's Sound Advertiser (WA : 1883 - 1889)\", \"language\": \"en\", \"proportion\": 1.0, \"number\": \"100\", \"language_full\": \"English\"}, {\"id\": \"1429\", \"title\": \"The Albany Observer (WA : 1890 - 1891)\", \"language\": \"en\", \"proportion\": 1.0, \"number\": \"100\", \"language_full\": \"English\"}, {\"id\": \"930\", \"title\": \"The All British (Perth, WA : 1916)\", \"language\": \"en\", \"proportion\": 1.0, \"number\": \"54\", \"language_full\": \"English\"}, {\"id\": \"1520\", \"title\": \"The Argonaut (Perth, WA : 1899 - 1900)\", \"language\": \"en\", \"proportion\": 1.0, \"number\": \"100\", \"language_full\": \"English\"}, {\"id\": \"1105\", \"title\": \"The Australian (Perth, WA : 1907 - 1908)\", \"language\": \"en\", \"proportion\": 1.0, \"number\": \"100\", \"language_full\": \"English\"}, {\"id\": \"1080\", \"title\": \"The Australian (Perth, WA : 1917 - 1923)\", \"language\": \"en\", \"proportion\": 1.0, \"number\": \"100\", \"language_full\": \"English\"}, {\"id\": \"1606\", \"title\": \"The Australian Advertiser (Albany, WA : 1888 - 1897)\", \"language\": \"en\", \"proportion\": 1.0, \"number\": \"100\", \"language_full\": \"English\"}, {\"id\": \"1084\", \"title\": \"The Avon Gazette and Kellerberrin News (WA : 1914 - 1916)\", \"language\": \"en\", \"proportion\": 1.0, \"number\": \"100\", \"language_full\": \"English\"}, {\"id\": \"1085\", \"title\": \"The Avon Gazette and York Times (WA : 1916 - 1930)\", \"language\": \"en\", \"proportion\": 1.0, \"number\": \"100\", \"language_full\": \"English\"}, {\"id\": \"973\", \"title\": \"The Beverley Times (WA : 1905 - 1977)\", \"language\": \"en\", \"proportion\": 1.0, \"number\": \"100\", \"language_full\": \"English\"}, {\"id\": \"974\", \"title\": \"The Black Range Courier and Sandstone Observer (WA : 1907 - 1915)\", \"language\": \"en\", \"proportion\": 1.0, \"number\": \"100\", \"language_full\": \"English\"}, {\"id\": \"1079\", \"title\": \"The Blackwood Times (Greenbushes, WA : 1905 - 1955)\", \"language\": \"en\", \"proportion\": 1.0, \"number\": \"100\", \"language_full\": \"English\"}, {\"id\": \"1607\", \"title\": \"The Boyup Brook Bulletin (WA : 1930 - 1950)\", \"language\": \"en\", \"proportion\": 1.0, \"number\": \"100\", \"language_full\": \"English\"}, {\"id\": \"1202\", \"title\": \"The Broad Arrow Standard (WA : 1896 - 1899)\", \"language\": \"en\", \"proportion\": 1.0, \"number\": \"100\", \"language_full\": \"English\"}, {\"id\": \"344\", \"title\": \"The Bunbury Herald and Blackwood Express (WA : 1919 - 1929)\", \"language\": \"en\", \"proportion\": 1.0, \"number\": \"100\", \"language_full\": \"English\"}, {\"id\": \"1609\", \"title\": \"The Bunbury Monitor (WA : 1934)\", \"language\": \"en\", \"proportion\": 1.0, \"number\": \"100\", \"language_full\": \"English\"}, {\"id\": \"1610\", \"title\": \"The Bunbury Star (Collie, WA : 1935-1936)\", \"language\": \"en\", \"proportion\": 1.0, \"number\": \"100\", \"language_full\": \"English\"}, {\"id\": \"1611\", \"title\": \"The Carnamah-Three Springs Times and Arrino Advertiser (Moora, WA : 1932 - 1933)\", \"language\": \"en\", \"proportion\": 1.0, \"number\": \"100\", \"language_full\": \"English\"}, {\"id\": \"1402\", \"title\": \"The Central Districts Advocate (Goomalling, WA : 1922 - 1924)\", \"language\": \"en\", \"proportion\": 1.0, \"number\": \"100\", \"language_full\": \"English\"}, {\"id\": \"1560\", \"title\": \"The Christian Herald (Perth, WA : 1882)\", \"language\": \"en\", \"proportion\": 0.9866666666666667, \"number\": \"75\", \"language_full\": \"English\"}, {\"id\": \"1560\", \"title\": \"The Christian Herald (Perth, WA : 1882)\", \"language\": \"mt\", \"proportion\": 0.013333333333333334, \"number\": \"75\", \"language_full\": \"Maltese\"}, {\"id\": \"1612\", \"title\": \"The Coalfields Star (Collie, WA : 1934)\", \"language\": \"en\", \"proportion\": 1.0, \"number\": \"100\", \"language_full\": \"English\"}, {\"id\": \"1271\", \"title\": \"The Collie Miner (WA : 1900 - 1916)\", \"language\": \"en\", \"proportion\": 1.0, \"number\": \"100\", \"language_full\": \"English\"}, {\"id\": \"1403\", \"title\": \"The Collie Times (WA : 1935)\", \"language\": \"en\", \"proportion\": 1.0, \"number\": \"100\", \"language_full\": \"English\"}, {\"id\": \"1613\", \"title\": \"The Coolgardie Review (WA : 1895)\", \"language\": \"en\", \"proportion\": 1.0, \"number\": \"100\", \"language_full\": \"English\"}, {\"id\": \"1614\", \"title\": \"The Corrigin Sun (WA : 1929 - 1930)\", \"language\": \"en\", \"proportion\": 1.0, \"number\": \"100\", \"language_full\": \"English\"}, {\"id\": \"275\", \"title\": \"The Daily News (Perth, WA : 1882 - 1955)\", \"language\": \"en\", \"proportion\": 0.99, \"number\": \"100\", \"language_full\": \"English\"}, {\"id\": \"275\", \"title\": \"The Daily News (Perth, WA : 1882 - 1955)\", \"language\": \"ja\", \"proportion\": 0.01, \"number\": \"100\", \"language_full\": \"Japanese\"}, {\"id\": \"1115\", \"title\": \"The Daily Telegraph (Meekatharra, WA : 1918 - 1947)\", \"language\": \"en\", \"proportion\": 1.0, \"number\": \"100\", \"language_full\": \"English\"}, {\"id\": \"1519\", \"title\": \"The Dawn (Perth, WA : 1921 - 1949)\", \"language\": \"en\", \"proportion\": 1.0, \"number\": \"100\", \"language_full\": \"English\"}, {\"id\": \"1772\", \"title\": \"The Dawn News-Sheet (Perth, WA : 1950 - 1952)\", \"language\": \"en\", \"proportion\": 1.0, \"number\": \"5\", \"language_full\": \"English\"}, {\"id\": \"1773\", \"title\": \"The Dawn Newsletter (Perth, WA : 1952 - 1954)\", \"language\": \"en\", \"proportion\": 1.0, \"number\": \"13\", \"language_full\": \"English\"}, {\"id\": \"1616\", \"title\": \"The Denmark Post (Albany, WA : 1949 - 1954)\", \"language\": \"en\", \"proportion\": 1.0, \"number\": \"100\", \"language_full\": \"English\"}, {\"id\": \"1617\", \"title\": \"The Derby News (WA : 1887)\", \"language\": \"mt\", \"proportion\": 0.75, \"number\": \"5\", \"language_full\": \"Maltese\"}, {\"id\": \"1617\", \"title\": \"The Derby News (WA : 1887)\", \"language\": \"co\", \"proportion\": 0.25, \"number\": \"5\", \"language_full\": \"Corsican\"}, {\"id\": \"1314\", \"title\": \"The Dowerin Guardian and Amery Line Advocate (Wyalkatchem, WA : 1927 - 1954)\", \"language\": \"en\", \"proportion\": 1.0, \"number\": \"100\", \"language_full\": \"English\"}, {\"id\": \"934\", \"title\": \"The Eastern Recorder (Kellerberrin, WA : 1909 - 1954)\", \"language\": \"en\", \"proportion\": 1.0, \"number\": \"100\", \"language_full\": \"English\"}, {\"id\": \"1192\", \"title\": \"The Echo (Fremantle, WA : 1905)\", \"language\": \"en\", \"proportion\": 1.0, \"number\": \"100\", \"language_full\": \"English\"}, {\"id\": \"1193\", \"title\": \"The Empire (Fremantle, WA : 1907 - 1908)\", \"language\": \"en\", \"proportion\": 1.0, \"number\": \"100\", \"language_full\": \"English\"}, {\"id\": \"1619\", \"title\": \"The Esperance Echo (Kalgoorlie, WA : 1929)\", \"language\": \"en\", \"proportion\": 0.9583333333333334, \"number\": \"100\", \"language_full\": \"English\"}, {\"id\": \"1619\", \"title\": \"The Esperance Echo (Kalgoorlie, WA : 1929)\", \"language\": \"ca\", \"proportion\": 0.010416666666666666, \"number\": \"100\", \"language_full\": \"Catalan\"}, {\"id\": \"1619\", \"title\": \"The Esperance Echo (Kalgoorlie, WA : 1929)\", \"language\": \"mt\", \"proportion\": 0.010416666666666666, \"number\": \"100\", \"language_full\": \"Maltese\"}, {\"id\": \"1619\", \"title\": \"The Esperance Echo (Kalgoorlie, WA : 1929)\", \"language\": \"ja\", \"proportion\": 0.020833333333333332, \"number\": \"100\", \"language_full\": \"Japanese\"}, {\"id\": \"1523\", \"title\": \"The Evening Mail (Fremantle, WA : 1905 - 1910)\", \"language\": \"en\", \"proportion\": 1.0, \"number\": \"100\", \"language_full\": \"English\"}, {\"id\": \"1621\", \"title\": \"The Evening News (Boulder, WA : 1921 - 1922)\", \"language\": \"en\", \"proportion\": 1.0, \"number\": \"100\", \"language_full\": \"English\"}, {\"id\": \"975\", \"title\": \"The Evening Star (Boulder, WA : 1898 - 1921)\", \"language\": \"en\", \"proportion\": 1.0, \"number\": \"100\", \"language_full\": \"English\"}, {\"id\": \"1524\", \"title\": \"The Evening Times (Fremantle, WA : 1888)\", \"language\": \"en\", \"proportion\": 1.0, \"number\": \"100\", \"language_full\": \"English\"}, {\"id\": \"1527\", \"title\": \"The Express (Fremantle, WA : 1870-1871)\", \"language\": \"en\", \"proportion\": 1.0, \"number\": \"100\", \"language_full\": \"English\"}, {\"id\": \"1525\", \"title\": \"The Express (Perth, WA : 1872 - 1873)\", \"language\": \"en\", \"proportion\": 1.0, \"number\": \"100\", \"language_full\": \"English\"}, {\"id\": \"1526\", \"title\": \"The Express (Perth, WA : 1905 - 1907)\", \"language\": \"en\", \"proportion\": 1.0, \"number\": \"100\", \"language_full\": \"English\"}, {\"id\": \"1789\", \"title\": \"The Farmers' Weekly (Perth, WA : 1947 - 1955)\", \"language\": \"en\", \"proportion\": 1.0, \"number\": \"100\", \"language_full\": \"English\"}, {\"id\": \"1116\", \"title\": \"The Fremantle Herald (WA : 1913 - 1915, 1919 - 1921)\", \"language\": \"en\", \"proportion\": 1.0, \"number\": \"100\", \"language_full\": \"English\"}, {\"id\": \"1194\", \"title\": \"The Fremantle Mail (WA : 1903 - 1904)\", \"language\": \"en\", \"proportion\": 1.0, \"number\": \"100\", \"language_full\": \"English\"}, {\"id\": \"1529\", \"title\": \"The Fremantle Times (WA : 1919 - 1921, 1932)\", \"language\": \"en\", \"proportion\": 1.0, \"number\": \"100\", \"language_full\": \"English\"}, {\"id\": \"1117\", \"title\": \"The Geraldton Express (WA : 1906 - 1928)\", \"language\": \"en\", \"proportion\": 1.0, \"number\": \"100\", \"language_full\": \"English\"}, {\"id\": \"1622\", \"title\": \"The Geraldton Express and Murchison and Yalgo Goldfields Chronicler (WA : 1896 - 1905)\", \"language\": \"en\", \"proportion\": 1.0, \"number\": \"100\", \"language_full\": \"English\"}, {\"id\": \"1530\", \"title\": \"The Golden Age (Coolgardie, WA : 1894 - 1898)\", \"language\": \"en\", \"proportion\": 1.0, \"number\": \"100\", \"language_full\": \"English\"}, {\"id\": \"1197\", \"title\": \"The Golden Gate (Fremantle, WA : 1911 - 1912)\", \"language\": \"en\", \"proportion\": 1.0, \"number\": \"100\", \"language_full\": \"English\"}, {\"id\": \"1273\", \"title\": \"The Goldfields Morning Chronicle (Coolgardie, WA : 1896 - 1898)\", \"language\": \"en\", \"proportion\": 1.0, \"number\": \"100\", \"language_full\": \"English\"}, {\"id\": \"1626\", \"title\": \"The Goldfields Observer (Kalgoorlie, WA : 1930 - 1939)\", \"language\": \"en\", \"proportion\": 0.9213483146067416, \"number\": \"100\", \"language_full\": \"English\"}, {\"id\": \"1626\", \"title\": \"The Goldfields Observer (Kalgoorlie, WA : 1930 - 1939)\", \"language\": \"no\", \"proportion\": 0.011235955056179775, \"number\": \"100\", \"language_full\": \"Norwegian\"}, {\"id\": \"1626\", \"title\": \"The Goldfields Observer (Kalgoorlie, WA : 1930 - 1939)\", \"language\": \"mt\", \"proportion\": 0.02247191011235955, \"number\": \"100\", \"language_full\": \"Maltese\"}, {\"id\": \"1626\", \"title\": \"The Goldfields Observer (Kalgoorlie, WA : 1930 - 1939)\", \"language\": \"ig\", \"proportion\": 0.011235955056179775, \"number\": \"100\", \"language_full\": \"Igbo\"}, {\"id\": \"1626\", \"title\": \"The Goldfields Observer (Kalgoorlie, WA : 1930 - 1939)\", \"language\": \"cy\", \"proportion\": 0.011235955056179775, \"number\": \"100\", \"language_full\": \"Welsh\"}, {\"id\": \"1626\", \"title\": \"The Goldfields Observer (Kalgoorlie, WA : 1930 - 1939)\", \"language\": \"haw\", \"proportion\": 0.011235955056179775, \"number\": \"100\", \"language_full\": \"Hawaiian\"}, {\"id\": \"1626\", \"title\": \"The Goldfields Observer (Kalgoorlie, WA : 1930 - 1939)\", \"language\": \"so\", \"proportion\": 0.011235955056179775, \"number\": \"100\", \"language_full\": \"Somali\"}, {\"id\": \"1569\", \"title\": \"The Great North-West (Perth, WA : 1904)\", \"language\": \"en\", \"proportion\": 1.0, \"number\": \"44\", \"language_full\": \"English\"}, {\"id\": \"1531\", \"title\": \"The Guardian : Suburban and Municipal Recorder (Claremont, WA : 1903 - 1908)\", \"language\": \"en\", \"proportion\": 1.0, \"number\": \"100\", \"language_full\": \"English\"}, {\"id\": \"1203\", \"title\": \"The Hannan's Herald (Kalgoorlie, WA : 1895 - 1896)\", \"language\": \"en\", \"proportion\": 1.0, \"number\": \"100\", \"language_full\": \"English\"}, {\"id\": \"1790\", \"title\": \"The Harvey-Waroona Mail (Collie, WA : 1931 - 1946)\", \"language\": \"en\", \"proportion\": 1.0, \"number\": \"100\", \"language_full\": \"English\"}, {\"id\": \"1629\", \"title\": \"The Harvey-Waroona Mail (Collie, WA : 1931 - 1956)\", \"language\": \"en\", \"proportion\": 1.0, \"number\": \"100\", \"language_full\": \"English\"}, {\"id\": \"386\", \"title\": \"The Herald (Fremantle, WA : 1867 - 1886)\", \"language\": \"en\", \"proportion\": 1.0, \"number\": \"100\", \"language_full\": \"English\"}, {\"id\": \"1630\", \"title\": \"The Inland Watch (Leonora, WA : 1937 - 1943)\", \"language\": \"en\", \"proportion\": 1.0, \"number\": \"100\", \"language_full\": \"English\"}, {\"id\": \"180\", \"title\": \"The Inquirer and Commercial News (Perth, WA : 1855 - 1901)\", \"language\": \"en\", \"proportion\": 1.0, \"number\": \"100\", \"language_full\": \"English\"}, {\"id\": \"1428\", \"title\": \"The Irwin Index (Mingenew, WA : 1926 - 1956)\", \"language\": \"en\", \"proportion\": 1.0, \"number\": \"100\", \"language_full\": \"English\"}, {\"id\": \"1533\", \"title\": \"The Kendenup Index (WA : 1921 - 1923)\", \"language\": \"en\", \"proportion\": 1.0, \"number\": \"100\", \"language_full\": \"English\"}, {\"id\": \"928\", \"title\": \"The Labor Vanguard (Perth, WA : 1911; 1916)\", \"language\": \"en\", \"proportion\": 1.0, \"number\": \"100\", \"language_full\": \"English\"}, {\"id\": \"1633\", \"title\": \"The Lake Grace and Districts Leader (WA : 1933 - 1934)\", \"language\": \"en\", \"proportion\": 1.0, \"number\": \"100\", \"language_full\": \"English\"}, {\"id\": \"1535\", \"title\": \"The Leader (Perth, WA : 1923 - 1928)\", \"language\": \"en\", \"proportion\": 1.0, \"number\": \"100\", \"language_full\": \"English\"}, {\"id\": \"1088\", \"title\": \"The Leonora Miner (WA : 1910 - 1928)\", \"language\": \"en\", \"proportion\": 1.0, \"number\": \"100\", \"language_full\": \"English\"}, {\"id\": \"1275\", \"title\": \"The Magnet Mirror and Murchison Reflector (Meekatharra, WA : 1928 - 1935)\", \"language\": \"en\", \"proportion\": 1.0, \"number\": \"100\", \"language_full\": \"English\"}, {\"id\": \"1538\", \"title\": \"The Magpie (Perth, WA : 1923)\", \"language\": \"en\", \"proportion\": 1.0, \"number\": \"100\", \"language_full\": \"English\"}, {\"id\": \"1195\", \"title\": \"The Mail (Fremantle, WA : 1904 - 1905)\", \"language\": \"en\", \"proportion\": 1.0, \"number\": \"100\", \"language_full\": \"English\"}, {\"id\": \"1204\", \"title\": \"The Malcolm Chronicle and Leonora Advertiser (WA : 1897 - 1905)\", \"language\": \"en\", \"proportion\": 1.0, \"number\": \"100\", \"language_full\": \"English\"}, {\"id\": \"1276\", \"title\": \"The Manganese Record, Peak Hill, Nullagine and Marble Bar Gazette (Meekatharra, WA : 1928 - 1941)\", \"language\": \"en\", \"proportion\": 1.0, \"number\": \"100\", \"language_full\": \"English\"}, {\"id\": \"1277\", \"title\": \"The Menzies Miner (WA : 1896 - 1901)\", \"language\": \"en\", \"proportion\": 0.9896907216494846, \"number\": \"100\", \"language_full\": \"English\"}, {\"id\": \"1277\", \"title\": \"The Menzies Miner (WA : 1896 - 1901)\", \"language\": \"mt\", \"proportion\": 0.010309278350515464, \"number\": \"100\", \"language_full\": \"Maltese\"}, {\"id\": \"1198\", \"title\": \"The Messenger (Fremantle, WA : 1895)\", \"language\": \"en\", \"proportion\": 1.0, \"number\": \"100\", \"language_full\": \"English\"}, {\"id\": \"816\", \"title\": \"The Midlands Advertiser (Moora, WA : 1907 - 1930)\", \"language\": \"en\", \"proportion\": 1.0, \"number\": \"100\", \"language_full\": \"English\"}, {\"id\": \"1637\", \"title\": \"The Miner (Norseman, WA : 1896 - 1897)\", \"language\": \"en\", \"proportion\": 1.0, \"number\": \"100\", \"language_full\": \"English\"}, {\"id\": \"1638\", \"title\": \"The Miner's Right (Boulder, WA : 1897)\", \"language\": \"en\", \"proportion\": 0.9081632653061225, \"number\": \"100\", \"language_full\": \"English\"}, {\"id\": \"1638\", \"title\": \"The Miner's Right (Boulder, WA : 1897)\", \"language\": \"co\", \"proportion\": 0.01020408163265306, \"number\": \"100\", \"language_full\": \"Corsican\"}, {\"id\": \"1638\", \"title\": \"The Miner's Right (Boulder, WA : 1897)\", \"language\": \"mt\", \"proportion\": 0.061224489795918366, \"number\": \"100\", \"language_full\": \"Maltese\"}, {\"id\": \"1638\", \"title\": \"The Miner's Right (Boulder, WA : 1897)\", \"language\": \"da\", \"proportion\": 0.02040816326530612, \"number\": \"100\", \"language_full\": \"Danish\"}, {\"id\": \"1729\", \"title\": \"The Miner's Right (Perth, WA : 1894)\", \"language\": \"en\", \"proportion\": 0.9894736842105263, \"number\": \"100\", \"language_full\": \"English\"}, {\"id\": \"1729\", \"title\": \"The Miner's Right (Perth, WA : 1894)\", \"language\": \"ja\", \"proportion\": 0.010526315789473684, \"number\": \"100\", \"language_full\": \"Japanese\"}, {\"id\": \"1540\", \"title\": \"The Miners' Daily News (Menzies, WA : 1896 - 1898)\", \"language\": \"en\", \"proportion\": 1.0, \"number\": \"100\", \"language_full\": \"English\"}, {\"id\": \"1541\", \"title\": \"The Mirror (Perth, WA : 1907 - 1910)\", \"language\": \"en\", \"proportion\": 1.0, \"number\": \"100\", \"language_full\": \"English\"}, {\"id\": \"978\", \"title\": \"The Moora Herald and Midland Districts Advocate (WA : 1914 - 1930)\", \"language\": \"en\", \"proportion\": 1.0, \"number\": \"100\", \"language_full\": \"English\"}, {\"id\": \"1639\", \"title\": \"The Mount Barker-Denmark Sentinel and Cranbrook Chronicle (WA : 1930)\", \"language\": \"en\", \"proportion\": 1.0, \"number\": \"100\", \"language_full\": \"English\"}, {\"id\": \"1640\", \"title\": \"The Mount Magnet Leader and Youanmi Miner (WA : 1935 - 1947)\", \"language\": \"en\", \"proportion\": 0.99, \"number\": \"100\", \"language_full\": \"English\"}, {\"id\": \"1640\", \"title\": \"The Mount Magnet Leader and Youanmi Miner (WA : 1935 - 1947)\", \"language\": \"mt\", \"proportion\": 0.01, \"number\": \"100\", \"language_full\": \"Maltese\"}, {\"id\": \"1641\", \"title\": \"The Mount Margaret Mercury (WA : 1897)\", \"language\": \"en\", \"proportion\": 1.0, \"number\": \"18\", \"language_full\": \"English\"}, {\"id\": \"1278\", \"title\": \"The Mt. Leonora Miner (WA : 1899 - 1910)\", \"language\": \"en\", \"proportion\": 0.99, \"number\": \"100\", \"language_full\": \"English\"}, {\"id\": \"1278\", \"title\": \"The Mt. Leonora Miner (WA : 1899 - 1910)\", \"language\": \"mt\", \"proportion\": 0.01, \"number\": \"100\", \"language_full\": \"Maltese\"}, {\"id\": \"1313\", \"title\": \"The Mullewa Mail (WA : 1921 - 1947)\", \"language\": \"en\", \"proportion\": 1.0, \"number\": \"100\", \"language_full\": \"English\"}, {\"id\": \"1542\", \"title\": \"The Murchison Times (Cue, WA : 1924 - 1937)\", \"language\": \"en\", \"proportion\": 1.0, \"number\": \"100\", \"language_full\": \"English\"}, {\"id\": \"1279\", \"title\": \"The Murchison Times and Day Dawn Gazette (Cue, WA : 1894 - 1925)\", \"language\": \"en\", \"proportion\": 1.0, \"number\": \"100\", \"language_full\": \"English\"}, {\"id\": \"1644\", \"title\": \"The Nannup Review (WA : 1939 - 1941)\", \"language\": \"en\", \"proportion\": 1.0, \"number\": \"100\", \"language_full\": \"English\"}, {\"id\": \"1082\", \"title\": \"The Narrogin Observer (WA : 1918 - 1955)\", \"language\": \"en\", \"proportion\": 1.0, \"number\": \"100\", \"language_full\": \"English\"}, {\"id\": \"1081\", \"title\": \"The Narrogin Observer and Williams District Representative (WA : 1905 - 1930)\", \"language\": \"en\", \"proportion\": 1.0, \"number\": \"100\", \"language_full\": \"English\"}, {\"id\": \"845\", \"title\": \"The Norseman Pioneer (WA : 1896 - 1897)\", \"language\": \"en\", \"proportion\": 1.0, \"number\": \"100\", \"language_full\": \"English\"}, {\"id\": \"1647\", \"title\": \"The Norseman-Esperance News (WA : 1936 - 1954)\", \"language\": \"en\", \"proportion\": 1.0, \"number\": \"100\", \"language_full\": \"English\"}, {\"id\": \"1650\", \"title\": \"The North Coolgardie Herald (Menzies, WA : 1904 - 1911)\", \"language\": \"en\", \"proportion\": 1.0, \"number\": \"100\", \"language_full\": \"English\"}, {\"id\": \"1648\", \"title\": \"The North Coolgardie Herald and Menzies Times (WA : 1896 - 1898)\", \"language\": \"en\", \"proportion\": 1.0, \"number\": \"100\", \"language_full\": \"English\"}, {\"id\": \"1649\", \"title\": \"The North Coolgardie Herald and Miners Daily News (Menzies, WA : 1899 - 1904)\", \"language\": \"en\", \"proportion\": 1.0, \"number\": \"100\", \"language_full\": \"English\"}, {\"id\": \"1651\", \"title\": \"The North Midland Times (Moora, WA : 1933 - 1954)\", \"language\": \"en\", \"proportion\": 1.0, \"number\": \"100\", \"language_full\": \"English\"}, {\"id\": \"1083\", \"title\": \"The Northam Advertiser (WA : 1895 - 1955)\", \"language\": \"en\", \"proportion\": 1.0, \"number\": \"100\", \"language_full\": \"English\"}, {\"id\": \"1544\", \"title\": \"The Northern Grazier and Miner (Leonora, WA : 1929 - 1944)\", \"language\": \"en\", \"proportion\": 1.0, \"number\": \"100\", \"language_full\": \"English\"}, {\"id\": \"1654\", \"title\": \"The Northern Mining Register and Murchison Goldfields Gazette (Mount Magnet, WA : 1896 - 1897)\", \"language\": \"en\", \"proportion\": 1.0, \"number\": \"100\", \"language_full\": \"English\"}, {\"id\": \"1565\", \"title\": \"The Northern Producer and Morawa and District Advertiser (WA : 1930 - 1947)\", \"language\": \"en\", \"proportion\": 1.0, \"number\": \"100\", \"language_full\": \"English\"}, {\"id\": \"1564\", \"title\": \"The Northern Producer and Morawa and Perenjori Advertiser (WA : 1928 - 1930)\", \"language\": \"en\", \"proportion\": 1.0, \"number\": \"100\", \"language_full\": \"English\"}, {\"id\": \"1656\", \"title\": \"The Nungarin Standard (WA : 1934 - 1939)\", \"language\": \"en\", \"proportion\": 1.0, \"number\": \"100\", \"language_full\": \"English\"}, {\"id\": \"1657\", \"title\": \"The Pemberton Post (WA : 1937 - 1950)\", \"language\": \"en\", \"proportion\": 1.0, \"number\": \"100\", \"language_full\": \"English\"}, {\"id\": \"1545\", \"title\": \"The People (Perth, WA : 1891 - 1892)\", \"language\": \"en\", \"proportion\": 1.0, \"number\": \"100\", \"language_full\": \"English\"}, {\"id\": \"1441\", \"title\": \"The Perenjori Pioneer (WA : 1930 - 1947)\", \"language\": \"en\", \"proportion\": 1.0, \"number\": \"100\", \"language_full\": \"English\"}, {\"id\": \"26\", \"title\": \"The Perth Gazette and Independent Journal of Politics and News (WA : 1848 - 1864)\", \"language\": \"en\", \"proportion\": 1.0, \"number\": \"100\", \"language_full\": \"English\"}, {\"id\": \"28\", \"title\": \"The Perth Gazette and West Australian Times (WA : 1864 - 1874)\", \"language\": \"en\", \"proportion\": 1.0, \"number\": \"100\", \"language_full\": \"English\"}, {\"id\": \"6\", \"title\": \"The Perth Gazette and Western Australian Journal (WA : 1833 - 1847)\", \"language\": \"en\", \"proportion\": 1.0, \"number\": \"100\", \"language_full\": \"English\"}, {\"id\": \"1546\", \"title\": \"The Phillips River Times (Ravensthorpe, WA : 1908 - 1911)\", \"language\": \"en\", \"proportion\": 0.9591836734693877, \"number\": \"100\", \"language_full\": \"English\"}, {\"id\": \"1546\", \"title\": \"The Phillips River Times (Ravensthorpe, WA : 1908 - 1911)\", \"language\": \"mt\", \"proportion\": 0.04081632653061224, \"number\": \"100\", \"language_full\": \"Maltese\"}, {\"id\": \"737\", \"title\": \"The Pilbarra Goldfield News (Marble Bar, WA : 1897 - 1923)\", \"language\": \"en\", \"proportion\": 1.0, \"number\": \"100\", \"language_full\": \"English\"}, {\"id\": \"1440\", \"title\": \"The Pingelly Express (WA : 1905 - 1906)\", \"language\": \"en\", \"proportion\": 1.0, \"number\": \"100\", \"language_full\": \"English\"}, {\"id\": \"1089\", \"title\": \"The Pingelly Leader (WA : 1906 - 1925)\", \"language\": \"en\", \"proportion\": 1.0, \"number\": \"100\", \"language_full\": \"English\"}, {\"id\": \"1201\", \"title\": \"The Possum (Fremantle, WA : 1890)\", \"language\": \"en\", \"proportion\": 1.0, \"number\": \"37\", \"language_full\": \"English\"}, {\"id\": \"1199\", \"title\": \"The Possum (Perth, WA : 1887 - 1888)\", \"language\": \"en\", \"proportion\": 1.0, \"number\": \"100\", \"language_full\": \"English\"}, {\"id\": \"1658\", \"title\": \"The Preston Mail and District Advocate (Collie, WA : 1932 - 1954)\", \"language\": \"en\", \"proportion\": 1.0, \"number\": \"100\", \"language_full\": \"English\"}, {\"id\": \"1310\", \"title\": \"The Red Star (Perth, WA : 1932 - 1936)\", \"language\": \"en\", \"proportion\": 1.0, \"number\": \"100\", \"language_full\": \"English\"}, {\"id\": \"1125\", \"title\": \"The Reformer (Perth, WA : 1906 - 1919)\", \"language\": \"en\", \"proportion\": 1.0, \"number\": \"100\", \"language_full\": \"English\"}, {\"id\": \"1659\", \"title\": \"The Reliance Weekly (Narrogin, WA : 1952 - 1954)\", \"language\": \"en\", \"proportion\": 1.0, \"number\": \"100\", \"language_full\": \"English\"}, {\"id\": \"739\", \"title\": \"The South-Western News (Busselton, WA : 1903 - 1954)\", \"language\": \"en\", \"proportion\": 1.0, \"number\": \"100\", \"language_full\": \"English\"}, {\"id\": \"979\", \"title\": \"The Southern Argus and Wagin-Arthur Express (Perth, WA : 1905 - 1924)\", \"language\": \"en\", \"proportion\": 1.0, \"number\": \"100\", \"language_full\": \"English\"}, {\"id\": \"1660\", \"title\": \"The Southern Cross (Perth, WA : 1893)\", \"language\": \"en\", \"proportion\": 1.0, \"number\": \"33\", \"language_full\": \"English\"}, {\"id\": \"1437\", \"title\": \"The Southern Cross Herald (WA : 1894 - 1896)\", \"language\": \"en\", \"proportion\": 1.0, \"number\": \"100\", \"language_full\": \"English\"}, {\"id\": \"1436\", \"title\": \"The Southern Cross Miner (WA : 1899 - 1902)\", \"language\": \"en\", \"proportion\": 1.0, \"number\": \"100\", \"language_full\": \"English\"}, {\"id\": \"1661\", \"title\": \"The Southern Cross News (WA : 1935 - 1957)\", \"language\": \"en\", \"proportion\": 1.0, \"number\": \"100\", \"language_full\": \"English\"}, {\"id\": \"980\", \"title\": \"The Southern Cross Times (WA : 1900 - 1920)\", \"language\": \"en\", \"proportion\": 1.0, \"number\": \"100\", \"language_full\": \"English\"}, {\"id\": \"1010\", \"title\": \"The Southern Cross Times (WA : 1923 - 1940)\", \"language\": \"en\", \"proportion\": 1.0, \"number\": \"100\", \"language_full\": \"English\"}, {\"id\": \"1087\", \"title\": \"The Southern Districts Advocate (Katanning, WA : 1913 - 1936)\", \"language\": \"en\", \"proportion\": 1.0, \"number\": \"100\", \"language_full\": \"English\"}, {\"id\": \"1662\", \"title\": \"The Southern Sentinel (Mount Barker, WA : 1934 - 1954)\", \"language\": \"en\", \"proportion\": 0.9468085106382979, \"number\": \"100\", \"language_full\": \"English\"}, {\"id\": \"1662\", \"title\": \"The Southern Sentinel (Mount Barker, WA : 1934 - 1954)\", \"language\": \"ht\", \"proportion\": 0.010638297872340425, \"number\": \"100\", \"language_full\": \"Haitian\"}, {\"id\": \"1662\", \"title\": \"The Southern Sentinel (Mount Barker, WA : 1934 - 1954)\", \"language\": \"it\", \"proportion\": 0.010638297872340425, \"number\": \"100\", \"language_full\": \"Italian\"}, {\"id\": \"1662\", \"title\": \"The Southern Sentinel (Mount Barker, WA : 1934 - 1954)\", \"language\": \"haw\", \"proportion\": 0.02127659574468085, \"number\": \"100\", \"language_full\": \"Hawaiian\"}, {\"id\": \"1662\", \"title\": \"The Southern Sentinel (Mount Barker, WA : 1934 - 1954)\", \"language\": \"ja\", \"proportion\": 0.010638297872340425, \"number\": \"100\", \"language_full\": \"Japanese\"}, {\"id\": \"1755\", \"title\": \"The Sruss-Sruss (Crawley, WA : 1931 - 1932)\", \"language\": \"en\", \"proportion\": 1.0, \"number\": \"46\", \"language_full\": \"English\"}, {\"id\": \"1761\", \"title\": \"The Standard (Perth, WA : 1879 - 1886)\", \"language\": \"en\", \"proportion\": 1.0, \"number\": \"100\", \"language_full\": \"English\"}, {\"id\": \"1091\", \"title\": \"The Sun (Kalgoorlie, WA : 1898 - 1929)\", \"language\": \"en\", \"proportion\": 1.0, \"number\": \"100\", \"language_full\": \"English\"}, {\"id\": \"1701\", \"title\": \"The Sun (Kalgoorlie, WA : 1939)\", \"language\": \"en\", \"proportion\": 1.0, \"number\": \"100\", \"language_full\": \"English\"}, {\"id\": \"255\", \"title\": \"The Sunday Mirror (Perth, WA : 1920 - 1921)\", \"language\": \"en\", \"proportion\": 1.0, \"number\": \"100\", \"language_full\": \"English\"}, {\"id\": \"1549\", \"title\": \"The Sunday Press (Perth, WA : 1902 - 1903)\", \"language\": \"en\", \"proportion\": 1.0, \"number\": \"100\", \"language_full\": \"English\"}, {\"id\": \"1550\", \"title\": \"The Swan and Canning Leader (Victoria Park, WA : 1928 - 1929)\", \"language\": \"en\", \"proportion\": 0.99, \"number\": \"100\", \"language_full\": \"English\"}, {\"id\": \"1550\", \"title\": \"The Swan and Canning Leader (Victoria Park, WA : 1928 - 1929)\", \"language\": \"mt\", \"proportion\": 0.01, \"number\": \"100\", \"language_full\": \"Maltese\"}, {\"id\": \"1551\", \"title\": \"The Swan and Canning Times and Hills Gazette (Perth, WA : 1926 - 1928)\", \"language\": \"en\", \"proportion\": 1.0, \"number\": \"100\", \"language_full\": \"English\"}, {\"id\": \"981\", \"title\": \"The Swan Express (Midland Junction, WA : 1900 - 1954)\", \"language\": \"en\", \"proportion\": 1.0, \"number\": \"100\", \"language_full\": \"English\"}, {\"id\": \"1552\", \"title\": \"The Swan Leader (Victoria Park, WA : 1931 - 1937)\", \"language\": \"en\", \"proportion\": 1.0, \"number\": \"100\", \"language_full\": \"English\"}, {\"id\": \"1562\", \"title\": \"The Swan, Helena Vale and Guildford Advertiser (WA : 1897)\", \"language\": \"en\", \"proportion\": 0.979381443298969, \"number\": \"100\", \"language_full\": \"English\"}, {\"id\": \"1562\", \"title\": \"The Swan, Helena Vale and Guildford Advertiser (WA : 1897)\", \"language\": \"mt\", \"proportion\": 0.020618556701030927, \"number\": \"100\", \"language_full\": \"Maltese\"}, {\"id\": \"1561\", \"title\": \"The Temperance Advocate (Perth, WA : 1882)\", \"language\": \"en\", \"proportion\": 1.0, \"number\": \"93\", \"language_full\": \"English\"}, {\"id\": \"1665\", \"title\": \"The Tothersider (Coolgardie, WA : 1897)\", \"language\": \"en\", \"proportion\": 1.0, \"number\": \"100\", \"language_full\": \"English\"}, {\"id\": \"1553\", \"title\": \"The Umpire (Fremantle, WA : 1896 - 1903)\", \"language\": \"en\", \"proportion\": 1.0, \"number\": \"100\", \"language_full\": \"English\"}, {\"id\": \"1381\", \"title\": \"The Voice of Freedom = Elefthera Phoni (Perth, WA : 1956 - 1957)\", \"language\": \"el\", \"proportion\": 0.98, \"number\": \"100\", \"language_full\": \"Modern Greek (1453-)\"}, {\"id\": \"1381\", \"title\": \"The Voice of Freedom = Elefthera Phoni (Perth, WA : 1956 - 1957)\", \"language\": \"en\", \"proportion\": 0.02, \"number\": \"100\", \"language_full\": \"English\"}, {\"id\": \"1200\", \"title\": \"The W.A. Bulletin (Fremantle, WA : 1888 - 1890)\", \"language\": \"en\", \"proportion\": 1.0, \"number\": \"100\", \"language_full\": \"English\"}, {\"id\": \"1795\", \"title\": \"The W.A. Family Sphere (Perth, WA : 1919 - 1920)\", \"language\": \"en\", \"proportion\": 1.0, \"number\": \"100\", \"language_full\": \"English\"}, {\"id\": \"1086\", \"title\": \"The W.A. Record (Perth, WA : 1888 - 1922)\", \"language\": \"en\", \"proportion\": 1.0, \"number\": \"100\", \"language_full\": \"English\"}, {\"id\": \"1666\", \"title\": \"The W.A. Sportsman (Kalgoorlie, WA : 1901 - 1902)\", \"language\": \"en\", \"proportion\": 1.0, \"number\": \"100\", \"language_full\": \"English\"}, {\"id\": \"1554\", \"title\": \"The W.A. Table Talk (Perth, WA : 1921)\", \"language\": \"en\", \"proportion\": 1.0, \"number\": \"100\", \"language_full\": \"English\"}, {\"id\": \"1555\", \"title\": \"The Wagin Argus and Arthur, Dumbleyung, Lake Grace Express (WA : 1924 - 1954)\", \"language\": \"en\", \"proportion\": 1.0, \"number\": \"100\", \"language_full\": \"English\"}, {\"id\": \"1315\", \"title\": \"The Weekly Gazette (Goomalling, WA : 1924 - 1946)\", \"language\": \"en\", \"proportion\": 1.0, \"number\": \"100\", \"language_full\": \"English\"}, {\"id\": \"1556\", \"title\": \"The Weekly Herald (Fremantle, WA : 1922 - 1926)\", \"language\": \"en\", \"proportion\": 1.0, \"number\": \"100\", \"language_full\": \"English\"}, {\"id\": \"1667\", \"title\": \"The Weekly News (Broome, WA : 1931 - 1934)\", \"language\": \"en\", \"proportion\": 1.0, \"number\": \"100\", \"language_full\": \"English\"}, {\"id\": \"30\", \"title\": \"The West Australian (Perth, WA : 1879 - 1954)\", \"language\": \"mt\", \"proportion\": 0.01, \"number\": \"100\", \"language_full\": \"Maltese\"}, {\"id\": \"30\", \"title\": \"The West Australian (Perth, WA : 1879 - 1954)\", \"language\": \"en\", \"proportion\": 0.99, \"number\": \"100\", \"language_full\": \"English\"}, {\"id\": \"27\", \"title\": \"The West Australian Times (Perth, WA : 1863 - 1864)\", \"language\": \"en\", \"proportion\": 1.0, \"number\": \"100\", \"language_full\": \"English\"}, {\"id\": \"1435\", \"title\": \"The Western Australian Goldfields Courier (Coolgardie, WA : 1894 - 1898)\", \"language\": \"en\", \"proportion\": 1.0, \"number\": \"100\", \"language_full\": \"English\"}, {\"id\": \"29\", \"title\": \"The Western Australian Times (Perth, WA : 1874 - 1879)\", \"language\": \"en\", \"proportion\": 1.0, \"number\": \"100\", \"language_full\": \"English\"}, {\"id\": \"1130\", \"title\": \"The Westonian (WA : 1915 - 1920)\", \"language\": \"en\", \"proportion\": 1.0, \"number\": \"100\", \"language_full\": \"English\"}, {\"id\": \"1687\", \"title\": \"The Westralian Judean (Perth, WA : 1924 - 1925; 1929 - 1955)\", \"language\": \"en\", \"proportion\": 0.99, \"number\": \"100\", \"language_full\": \"English\"}, {\"id\": \"1687\", \"title\": \"The Westralian Judean (Perth, WA : 1924 - 1925; 1929 - 1955)\", \"language\": \"mt\", \"proportion\": 0.01, \"number\": \"100\", \"language_full\": \"Maltese\"}, {\"id\": \"1505\", \"title\": \"The Wheatbelt Wheatsheaf and Dampier Advocate (Merredin, WA : 1930 - 1939)\", \"language\": \"en\", \"proportion\": 1.0, \"number\": \"100\", \"language_full\": \"English\"}, {\"id\": \"1559\", \"title\": \"The Wiluna Miner (WA : 1931 - 1947)\", \"language\": \"en\", \"proportion\": 1.0, \"number\": \"100\", \"language_full\": \"English\"}, {\"id\": \"1311\", \"title\": \"The Workers Star (Perth, WA : 1936 - 1951)\", \"language\": \"en\", \"proportion\": 1.0, \"number\": \"100\", \"language_full\": \"English\"}, {\"id\": \"1433\", \"title\": \"The Wyalkatchem Wheatsheaf and Bencubbin Banner (WA : 1922 - 1930)\", \"language\": \"en\", \"proportion\": 1.0, \"number\": \"100\", \"language_full\": \"English\"}, {\"id\": \"1668\", \"title\": \"The Wyndham Gazette (WA : 1930)\", \"language\": \"en\", \"proportion\": 1.0, \"number\": \"100\", \"language_full\": \"English\"}, {\"id\": \"1280\", \"title\": \"The Yalgoo Observer and Murchison Chronicle (Meekatharra, WA : 1923 - 1941)\", \"language\": \"en\", \"proportion\": 1.0, \"number\": \"100\", \"language_full\": \"English\"}, {\"id\": \"1624\", \"title\": \"The York Leader and Quairading and Dangin Herald (WA : 1935 - 1947)\", \"language\": \"en\", \"proportion\": 1.0, \"number\": \"100\", \"language_full\": \"English\"}, {\"id\": \"740\", \"title\": \"Toodyay Herald (WA : 1912 - 1954)\", \"language\": \"en\", \"proportion\": 1.0, \"number\": \"100\", \"language_full\": \"English\"}, {\"id\": \"982\", \"title\": \"Truth (Perth, WA : 1903 - 1931)\", \"language\": \"en\", \"proportion\": 1.0, \"number\": \"100\", \"language_full\": \"English\"}, {\"id\": \"1382\", \"title\": \"Vesnik (Perth, WA : 1975 - 1994)\", \"language\": \"en\", \"proportion\": 0.35714285714285715, \"number\": \"100\", \"language_full\": \"English\"}, {\"id\": \"1382\", \"title\": \"Vesnik (Perth, WA : 1975 - 1994)\", \"language\": \"mk\", \"proportion\": 0.40816326530612246, \"number\": \"100\", \"language_full\": \"Macedonian\"}, {\"id\": \"1382\", \"title\": \"Vesnik (Perth, WA : 1975 - 1994)\", \"language\": \"bg-Latn\", \"proportion\": 0.22448979591836735, \"number\": \"100\", \"language_full\": \"Bulgarian\"}, {\"id\": \"1382\", \"title\": \"Vesnik (Perth, WA : 1975 - 1994)\", \"language\": \"mt\", \"proportion\": 0.01020408163265306, \"number\": \"100\", \"language_full\": \"Maltese\"}, {\"id\": \"1757\", \"title\": \"Victoria Park News (WA : 1949 - 1950) \", \"language\": \"en\", \"proportion\": 1.0, \"number\": \"100\", \"language_full\": \"English\"}, {\"id\": \"1128\", \"title\": \"Victorian Express (Geraldton, WA : 1878 - 1894)\", \"language\": \"en\", \"proportion\": 1.0, \"number\": \"100\", \"language_full\": \"English\"}, {\"id\": \"1758\", \"title\": \"W.A. Shipping and Commercial News (Fremantle, WA  : 1922 - 1923)\", \"language\": \"en\", \"proportion\": 1.0, \"number\": \"100\", \"language_full\": \"English\"}, {\"id\": \"1129\", \"title\": \"W.A. Sportsman (Perth, WA : 1914 - 1918)\", \"language\": \"en\", \"proportion\": 1.0, \"number\": \"100\", \"language_full\": \"English\"}, {\"id\": \"1759\", \"title\": \"WA Amateur Sports Gazette (Perth, WA : 1931 - 1932)\", \"language\": \"en\", \"proportion\": 1.0, \"number\": \"100\", \"language_full\": \"English\"}, {\"id\": \"1557\", \"title\": \"Weekly Judge (Perth, WA : 1919 - 1931)\", \"language\": \"en\", \"proportion\": 1.0, \"number\": \"100\", \"language_full\": \"English\"}, {\"id\": \"98\", \"title\": \"West Australian Sunday Times (Perth, WA : 1897 - 1902)\", \"language\": \"en\", \"proportion\": 1.0, \"number\": \"100\", \"language_full\": \"English\"}, {\"id\": \"99\", \"title\": \"Western Argus (Kalgoorlie, WA : 1894 - 1895)\", \"language\": \"en\", \"proportion\": 1.0, \"number\": \"100\", \"language_full\": \"English\"}, {\"id\": \"100\", \"title\": \"Western Argus (Kalgoorlie, WA : 1916 - 1938)\", \"language\": \"en\", \"proportion\": 1.0, \"number\": \"100\", \"language_full\": \"English\"}, {\"id\": \"101\", \"title\": \"Western Mail (Perth, WA : 1885 - 1954)\", \"language\": \"en\", \"proportion\": 1.0, \"number\": \"100\", \"language_full\": \"English\"}, {\"id\": \"1558\", \"title\": \"Western Women (Perth, WA : 1914 - 1919)\", \"language\": \"en\", \"proportion\": 1.0, \"number\": \"100\", \"language_full\": \"English\"}, {\"id\": \"1205\", \"title\": \"Westralian Clarion (Kalgoorlie, WA : 1903)\", \"language\": \"en\", \"proportion\": 1.0, \"number\": \"99\", \"language_full\": \"English\"}, {\"id\": \"741\", \"title\": \"Westralian Worker (Perth, WA : 1900 - 1951)\", \"language\": \"en\", \"proportion\": 1.0, \"number\": \"100\", \"language_full\": \"English\"}, {\"id\": \"1426\", \"title\": \"Wheatbelt Tribune and Koorda Record (Wyalkatchem, WA : 1940 - 1954)\", \"language\": \"en\", \"proportion\": 1.0, \"number\": \"100\", \"language_full\": \"English\"}, {\"id\": \"820\", \"title\": \"Wickepin Argus (WA : 1910 - 1934)\", \"language\": \"en\", \"proportion\": 1.0, \"number\": \"100\", \"language_full\": \"English\"}, {\"id\": \"1434\", \"title\": \"Wiluna Chronicle and East Murchison Advocate (WA : 1924 - 1931)\", \"language\": \"en\", \"proportion\": 1.0, \"number\": \"100\", \"language_full\": \"English\"}, {\"id\": \"1425\", \"title\": \"Wongan-Ballidu Budget (WA : 1941 - 1954)\", \"language\": \"en\", \"proportion\": 1.0, \"number\": \"100\", \"language_full\": \"English\"}, {\"id\": \"1009\", \"title\": \"Yilgarn Merredin Times (Southern Cross, WA : 1921 - 1923)\", \"language\": \"en\", \"proportion\": 1.0, \"number\": \"100\", \"language_full\": \"English\"}, {\"id\": \"1131\", \"title\": \"York Advocate (WA : 1915)\", \"language\": \"en\", \"proportion\": 1.0, \"number\": \"100\", \"language_full\": \"English\"}, {\"id\": \"1432\", \"title\": \"York Chronicle (WA : 1927 - 1954)\", \"language\": \"en\", \"proportion\": 1.0, \"number\": \"100\", \"language_full\": \"English\"}, {\"id\": \"1431\", \"title\": \"York Gazette and Quairading and Dangin Herald (WA : 1930 - 1931)\", \"language\": \"en\", \"proportion\": 1.0, \"number\": \"100\", \"language_full\": \"English\"}]}}, {\"mode\": \"vega-lite\"});\n",
       "</script>"
      ],
      "text/plain": [
       "alt.Chart(...)"
      ]
     },
     "execution_count": 10,
     "metadata": {},
     "output_type": "execute_result"
    }
   ],
   "source": [
    "alt.Chart(df).mark_bar().encode(x=alt.X(\"proportion:Q\", bin=True), y=\"count():Q\")"
   ]
  },
  {
   "cell_type": "markdown",
   "metadata": {},
   "source": [
    "If we zoom in on the proportions less than 0.1 (that's 10 articles in a sample of 100) we see that they're mostly less that 0.01 (or 1 article in 100). It seems likely that these are false positives. "
   ]
  },
  {
   "cell_type": "code",
   "execution_count": 11,
   "metadata": {},
   "outputs": [
    {
     "data": {
      "text/html": [
       "\n",
       "<div id=\"altair-viz-7813292148a34398a64ac7a988ceca56\"></div>\n",
       "<script type=\"text/javascript\">\n",
       "  var VEGA_DEBUG = (typeof VEGA_DEBUG == \"undefined\") ? {} : VEGA_DEBUG;\n",
       "  (function(spec, embedOpt){\n",
       "    let outputDiv = document.currentScript.previousElementSibling;\n",
       "    if (outputDiv.id !== \"altair-viz-7813292148a34398a64ac7a988ceca56\") {\n",
       "      outputDiv = document.getElementById(\"altair-viz-7813292148a34398a64ac7a988ceca56\");\n",
       "    }\n",
       "    const paths = {\n",
       "      \"vega\": \"https://cdn.jsdelivr.net/npm//vega@5?noext\",\n",
       "      \"vega-lib\": \"https://cdn.jsdelivr.net/npm//vega-lib?noext\",\n",
       "      \"vega-lite\": \"https://cdn.jsdelivr.net/npm//vega-lite@4.17.0?noext\",\n",
       "      \"vega-embed\": \"https://cdn.jsdelivr.net/npm//vega-embed@6?noext\",\n",
       "    };\n",
       "\n",
       "    function maybeLoadScript(lib, version) {\n",
       "      var key = `${lib.replace(\"-\", \"\")}_version`;\n",
       "      return (VEGA_DEBUG[key] == version) ?\n",
       "        Promise.resolve(paths[lib]) :\n",
       "        new Promise(function(resolve, reject) {\n",
       "          var s = document.createElement('script');\n",
       "          document.getElementsByTagName(\"head\")[0].appendChild(s);\n",
       "          s.async = true;\n",
       "          s.onload = () => {\n",
       "            VEGA_DEBUG[key] = version;\n",
       "            return resolve(paths[lib]);\n",
       "          };\n",
       "          s.onerror = () => reject(`Error loading script: ${paths[lib]}`);\n",
       "          s.src = paths[lib];\n",
       "        });\n",
       "    }\n",
       "\n",
       "    function showError(err) {\n",
       "      outputDiv.innerHTML = `<div class=\"error\" style=\"color:red;\">${err}</div>`;\n",
       "      throw err;\n",
       "    }\n",
       "\n",
       "    function displayChart(vegaEmbed) {\n",
       "      vegaEmbed(outputDiv, spec, embedOpt)\n",
       "        .catch(err => showError(`Javascript Error: ${err.message}<br>This usually means there's a typo in your chart specification. See the javascript console for the full traceback.`));\n",
       "    }\n",
       "\n",
       "    if(typeof define === \"function\" && define.amd) {\n",
       "      requirejs.config({paths});\n",
       "      require([\"vega-embed\"], displayChart, err => showError(`Error loading script: ${err.message}`));\n",
       "    } else {\n",
       "      maybeLoadScript(\"vega\", \"5\")\n",
       "        .then(() => maybeLoadScript(\"vega-lite\", \"4.17.0\"))\n",
       "        .then(() => maybeLoadScript(\"vega-embed\", \"6\"))\n",
       "        .catch(showError)\n",
       "        .then(() => displayChart(vegaEmbed));\n",
       "    }\n",
       "  })({\"config\": {\"view\": {\"continuousWidth\": 400, \"continuousHeight\": 300}}, \"data\": {\"name\": \"data-176758e1e782bc515932268def46d6fa\"}, \"mark\": \"bar\", \"encoding\": {\"x\": {\"bin\": true, \"field\": \"proportion\", \"type\": \"quantitative\"}, \"y\": {\"aggregate\": \"count\", \"type\": \"quantitative\"}}, \"$schema\": \"https://vega.github.io/schema/vega-lite/v4.17.0.json\", \"datasets\": {\"data-176758e1e782bc515932268def46d6fa\": [{\"id\": \"1498\", \"title\": \"A Voz de Timor (Dili, East Timor : 1970 - 1975)\", \"language\": \"mt\", \"proportion\": 0.011111111111111112, \"number\": \"100\", \"language_full\": \"Maltese\"}, {\"id\": \"1488\", \"title\": \"Bangkok Recorder (Thailand : 1865 - 1867)\", \"language\": \"cy\", \"proportion\": 0.010638297872340425, \"number\": \"100\", \"language_full\": \"Welsh\"}, {\"id\": \"1488\", \"title\": \"Bangkok Recorder (Thailand : 1865 - 1867)\", \"language\": \"de\", \"proportion\": 0.010638297872340425, \"number\": \"100\", \"language_full\": \"German\"}, {\"id\": \"1488\", \"title\": \"Bangkok Recorder (Thailand : 1865 - 1867)\", \"language\": \"mt\", \"proportion\": 0.010638297872340425, \"number\": \"100\", \"language_full\": \"Maltese\"}, {\"id\": \"1375\", \"title\": \"Papuan Courier (Port Moresby, Papua New Guinea : 1917 - 1942)\", \"language\": \"ha\", \"proportion\": 0.010526315789473684, \"number\": \"100\", \"language_full\": \"Hausa\"}, {\"id\": \"1373\", \"title\": \"Papuan Times (Kwato, Papua New Guinea : 1951 - 1954)\", \"language\": \"ja\", \"proportion\": 0.030303030303030304, \"number\": \"100\", \"language_full\": \"Japanese\"}, {\"id\": \"1373\", \"title\": \"Papuan Times (Kwato, Papua New Guinea : 1951 - 1954)\", \"language\": \"so\", \"proportion\": 0.010101010101010102, \"number\": \"100\", \"language_full\": \"Somali\"}, {\"id\": \"1101\", \"title\": \"Ariah Park News (NSW : 1923 - 1928)\", \"language\": \"es\", \"proportion\": 0.01, \"number\": \"100\", \"language_full\": \"Spanish\"}, {\"id\": \"439\", \"title\": \"Arrow (Sydney, NSW : 1916 - 1933)\", \"language\": \"so\", \"proportion\": 0.01, \"number\": \"100\", \"language_full\": \"Somali\"}, {\"id\": \"1320\", \"title\": \"Auburn and District News (NSW : 1929)\", \"language\": \"vi\", \"proportion\": 0.05263157894736842, \"number\": \"21\", \"language_full\": \"Vietnamese\"}, {\"id\": \"58\", \"title\": \"Bell's Life in Sydney and Sporting Reviewer (NSW : 1845 - 1860)\", \"language\": \"mt\", \"proportion\": 0.042105263157894736, \"number\": \"100\", \"language_full\": \"Maltese\"}, {\"id\": \"1784\", \"title\": \"Boggy Camp Tingha and Bora Creek (NSW : 1899)\", \"language\": \"mt\", \"proportion\": 0.02, \"number\": \"100\", \"language_full\": \"Maltese\"}, {\"id\": \"876\", \"title\": \"Bundarra and Tingha Advocate (NSW : 1900 - 1929)\", \"language\": \"mt\", \"proportion\": 0.010101010101010102, \"number\": \"100\", \"language_full\": \"Maltese\"}, {\"id\": \"1186\", \"title\": \"Chinese Republic News (Sydney, NSW : 1914 - 1937)\", \"language\": \"af\", \"proportion\": 0.01020408163265306, \"number\": \"100\", \"language_full\": \"Afrikaans\"}, {\"id\": \"1186\", \"title\": \"Chinese Republic News (Sydney, NSW : 1914 - 1937)\", \"language\": \"id\", \"proportion\": 0.01020408163265306, \"number\": \"100\", \"language_full\": \"Indonesian\"}, {\"id\": \"1186\", \"title\": \"Chinese Republic News (Sydney, NSW : 1914 - 1937)\", \"language\": \"da\", \"proportion\": 0.01020408163265306, \"number\": \"100\", \"language_full\": \"Danish\"}, {\"id\": \"1186\", \"title\": \"Chinese Republic News (Sydney, NSW : 1914 - 1937)\", \"language\": \"jv\", \"proportion\": 0.01020408163265306, \"number\": \"100\", \"language_full\": \"Javanese\"}, {\"id\": \"1186\", \"title\": \"Chinese Republic News (Sydney, NSW : 1914 - 1937)\", \"language\": \"de\", \"proportion\": 0.01020408163265306, \"number\": \"100\", \"language_full\": \"German\"}, {\"id\": \"1186\", \"title\": \"Chinese Republic News (Sydney, NSW : 1914 - 1937)\", \"language\": \"hi\", \"proportion\": 0.01020408163265306, \"number\": \"100\", \"language_full\": \"Hindi\"}, {\"id\": \"1186\", \"title\": \"Chinese Republic News (Sydney, NSW : 1914 - 1937)\", \"language\": \"cs\", \"proportion\": 0.01020408163265306, \"number\": \"100\", \"language_full\": \"Czech\"}, {\"id\": \"626\", \"title\": \"Clear Hills Standard and Daysdale and Saverneke Times (NSW : 1914)\", \"language\": \"mt\", \"proportion\": 0.03333333333333333, \"number\": \"30\", \"language_full\": \"Maltese\"}, {\"id\": \"989\", \"title\": \"Coffs Harbour Advocate (NSW : 1907 - 1942; 1946 - 1954)\", \"language\": \"mt\", \"proportion\": 0.02040816326530612, \"number\": \"100\", \"language_full\": \"Maltese\"}, {\"id\": \"432\", \"title\": \"Daily Observer (Tamworth, NSW : 1917 - 1920)\", \"language\": \"mt\", \"proportion\": 0.033707865168539325, \"number\": \"100\", \"language_full\": \"Maltese\"}, {\"id\": \"532\", \"title\": \"Delegate Argus (NSW : 1906 - 1943)\", \"language\": \"so\", \"proportion\": 0.010309278350515464, \"number\": \"100\", \"language_full\": \"Somali\"}, {\"id\": \"1044\", \"title\": \"Dutch Australian Weekly (Sydney, NSW : 1951 - 1993)\", \"language\": \"de\", \"proportion\": 0.020202020202020204, \"number\": \"100\", \"language_full\": \"German\"}, {\"id\": \"1044\", \"title\": \"Dutch Australian Weekly (Sydney, NSW : 1951 - 1993)\", \"language\": \"en\", \"proportion\": 0.010101010101010102, \"number\": \"100\", \"language_full\": \"English\"}, {\"id\": \"1045\", \"title\": \"Dutch Weekly (Sydney, NSW : 1993 - 2004)\", \"language\": \"en\", \"proportion\": 0.06060606060606061, \"number\": \"100\", \"language_full\": \"English\"}, {\"id\": \"1045\", \"title\": \"Dutch Weekly (Sydney, NSW : 1993 - 2004)\", \"language\": \"de\", \"proportion\": 0.020202020202020204, \"number\": \"100\", \"language_full\": \"German\"}, {\"id\": \"480\", \"title\": \"Eden Free Press and Eden District Advertiser (NSW : 1899)\", \"language\": \"mt\", \"proportion\": 0.020618556701030927, \"number\": \"100\", \"language_full\": \"Maltese\"}, {\"id\": \"415\", \"title\": \"Goulburn Chronicle and Southern Advertiser (NSW : 1860 - 1861)\", \"language\": \"ca\", \"proportion\": 0.024390243902439025, \"number\": \"42\", \"language_full\": \"Catalan\"}, {\"id\": \"704\", \"title\": \"Guang yi hua bao = The Chinese Australian Herald (Sydney, NSW : 1894 - 1923)\", \"language\": \"ja\", \"proportion\": 0.010416666666666666, \"number\": \"100\", \"language_full\": \"Japanese\"}, {\"id\": \"704\", \"title\": \"Guang yi hua bao = The Chinese Australian Herald (Sydney, NSW : 1894 - 1923)\", \"language\": \"ceb\", \"proportion\": 0.020833333333333332, \"number\": \"100\", \"language_full\": \"Cebuano\"}, {\"id\": \"704\", \"title\": \"Guang yi hua bao = The Chinese Australian Herald (Sydney, NSW : 1894 - 1923)\", \"language\": \"fy\", \"proportion\": 0.0625, \"number\": \"100\", \"language_full\": \"Western Frisian\"}, {\"id\": \"704\", \"title\": \"Guang yi hua bao = The Chinese Australian Herald (Sydney, NSW : 1894 - 1923)\", \"language\": \"jv\", \"proportion\": 0.03125, \"number\": \"100\", \"language_full\": \"Javanese\"}, {\"id\": \"704\", \"title\": \"Guang yi hua bao = The Chinese Australian Herald (Sydney, NSW : 1894 - 1923)\", \"language\": \"hi\", \"proportion\": 0.010416666666666666, \"number\": \"100\", \"language_full\": \"Hindi\"}, {\"id\": \"704\", \"title\": \"Guang yi hua bao = The Chinese Australian Herald (Sydney, NSW : 1894 - 1923)\", \"language\": \"hi-Latn\", \"proportion\": 0.010416666666666666, \"number\": \"100\", \"language_full\": \"Hindi\"}, {\"id\": \"279\", \"title\": \"Il Giornale Italiano (Sydney, NSW : 1932 - 1940)\", \"language\": \"en\", \"proportion\": 0.09, \"number\": \"100\", \"language_full\": \"English\"}, {\"id\": \"803\", \"title\": \"Illustrated Sydney News and New South Wales Agriculturalist and Grazier (NSW : 1872 - 1881)\", \"language\": \"de\", \"proportion\": 0.01, \"number\": \"100\", \"language_full\": \"German\"}, {\"id\": \"1595\", \"title\": \"Italo-Australian (Sydney, NSW : 1927 - 1940)\", \"language\": \"en\", \"proportion\": 0.03, \"number\": \"100\", \"language_full\": \"English\"}, {\"id\": \"906\", \"title\": \"Katoomba Times (NSW : 1889 - 1894)\", \"language\": \"et\", \"proportion\": 0.010416666666666666, \"number\": \"100\", \"language_full\": \"Estonian\"}, {\"id\": \"906\", \"title\": \"Katoomba Times (NSW : 1889 - 1894)\", \"language\": \"mt\", \"proportion\": 0.041666666666666664, \"number\": \"100\", \"language_full\": \"Maltese\"}, {\"id\": \"1596\", \"title\": \"L'Italo-Australiano = The Italo-Australian (Surry Hills, NSW : 1885)\", \"language\": \"ca\", \"proportion\": 0.015873015873015872, \"number\": \"100\", \"language_full\": \"Catalan\"}, {\"id\": \"1596\", \"title\": \"L'Italo-Australiano = The Italo-Australian (Surry Hills, NSW : 1885)\", \"language\": \"vi\", \"proportion\": 0.015873015873015872, \"number\": \"100\", \"language_full\": \"Vietnamese\"}, {\"id\": \"1596\", \"title\": \"L'Italo-Australiano = The Italo-Australian (Surry Hills, NSW : 1885)\", \"language\": \"co\", \"proportion\": 0.047619047619047616, \"number\": \"100\", \"language_full\": \"Corsican\"}, {\"id\": \"1596\", \"title\": \"L'Italo-Australiano = The Italo-Australian (Surry Hills, NSW : 1885)\", \"language\": \"pl\", \"proportion\": 0.015873015873015872, \"number\": \"100\", \"language_full\": \"Polish\"}, {\"id\": \"1597\", \"title\": \"L'Italo-Australiano = The Italo-Australian (Sydney, NSW : 1905 - 1909)\", \"language\": \"en\", \"proportion\": 0.03, \"number\": \"100\", \"language_full\": \"English\"}, {\"id\": \"1594\", \"title\": \"Musu Pastoge = Our Haven (Sydney, NSW : 1950 - 1954)\", \"language\": \"en\", \"proportion\": 0.05, \"number\": \"100\", \"language_full\": \"English\"}, {\"id\": \"431\", \"title\": \"Narandera Argus and Riverina Advertiser (NSW : 1893 - 1953)\", \"language\": \"mt\", \"proportion\": 0.043010752688172046, \"number\": \"100\", \"language_full\": \"Maltese\"}, {\"id\": \"430\", \"title\": \"Narromine News and Trangie Advocate (NSW : 1898 - 1955)\", \"language\": \"mt\", \"proportion\": 0.02, \"number\": \"100\", \"language_full\": \"Maltese\"}, {\"id\": \"650\", \"title\": \"National Advocate (Bathurst, NSW : 1889 - 1954)\", \"language\": \"mt\", \"proportion\": 0.010101010101010102, \"number\": \"100\", \"language_full\": \"Maltese\"}, {\"id\": \"350\", \"title\": \"Nepean Times (Penrith, NSW : 1882 - 1962)\", \"language\": \"mt\", \"proportion\": 0.011111111111111112, \"number\": \"100\", \"language_full\": \"Maltese\"}, {\"id\": \"1493\", \"title\": \"North Coast Times (Bellingen and Coffs Harbour, NSW : 1888 - 1889)\", \"language\": \"mt\", \"proportion\": 0.010101010101010102, \"number\": \"100\", \"language_full\": \"Maltese\"}, {\"id\": \"496\", \"title\": \"Northern Times (Newcastle, NSW : 1857 - 1918)\", \"language\": \"mt\", \"proportion\": 0.01, \"number\": \"100\", \"language_full\": \"Maltese\"}, {\"id\": \"1604\", \"title\": \"Revue Australienne : Journal des Interets Francais en Australie ... (Sydney, NSW : 1873 - 1874)\", \"language\": \"en\", \"proportion\": 0.02, \"number\": \"100\", \"language_full\": \"English\"}, {\"id\": \"529\", \"title\": \"Saturday Referee and the Arrow (Sydney, NSW : 1912 - 1916)\", \"language\": \"ja\", \"proportion\": 0.010101010101010102, \"number\": \"100\", \"language_full\": \"Japanese\"}, {\"id\": \"418\", \"title\": \"Southern Morning Herald (Goulburn, NSW : 1920 - 1923)\", \"language\": \"so\", \"proportion\": 0.05333333333333334, \"number\": \"100\", \"language_full\": \"Somali\"}, {\"id\": \"623\", \"title\": \"Sunday News (Sydney, NSW : 1919)\", \"language\": \"so\", \"proportion\": 0.025974025974025976, \"number\": \"100\", \"language_full\": \"Somali\"}, {\"id\": \"623\", \"title\": \"Sunday News (Sydney, NSW : 1919)\", \"language\": \"no\", \"proportion\": 0.012987012987012988, \"number\": \"100\", \"language_full\": \"Norwegian\"}, {\"id\": \"94\", \"title\": \"Sydney Chronicle (NSW : 1846 - 1848)\", \"language\": \"mt\", \"proportion\": 0.030303030303030304, \"number\": \"100\", \"language_full\": \"Maltese\"}, {\"id\": \"693\", \"title\": \"Sydney General Trade List (NSW : 1828 - 1829)\", \"language\": \"mt\", \"proportion\": 0.016666666666666666, \"number\": \"64\", \"language_full\": \"Maltese\"}, {\"id\": \"693\", \"title\": \"Sydney General Trade List (NSW : 1828 - 1829)\", \"language\": \"no\", \"proportion\": 0.016666666666666666, \"number\": \"64\", \"language_full\": \"Norwegian\"}, {\"id\": \"694\", \"title\": \"Sydney General Trade List (NSW : 1834 - 1842)\", \"language\": \"ca\", \"proportion\": 0.02666666666666667, \"number\": \"100\", \"language_full\": \"Catalan\"}, {\"id\": \"695\", \"title\": \"Sydney General Trade List, and Mercantile Advertiser (NSW : 1829 - 1830)\", \"language\": \"mt\", \"proportion\": 0.023255813953488372, \"number\": \"100\", \"language_full\": \"Maltese\"}, {\"id\": \"1463\", \"title\": \"Sydney Journal and Daily Advertiser (NSW : 1847)\", \"language\": \"mi\", \"proportion\": 0.015625, \"number\": \"64\", \"language_full\": \"Maori\"}, {\"id\": \"728\", \"title\": \"Temora Herald and Mining Journal (NSW : 1882 - 1883)\", \"language\": \"mt\", \"proportion\": 0.031914893617021274, \"number\": \"100\", \"language_full\": \"Maltese\"}, {\"id\": \"983\", \"title\": \"The Armidale Chronicle (NSW : 1894 - 1929)\", \"language\": \"mt\", \"proportion\": 0.01020408163265306, \"number\": \"100\", \"language_full\": \"Maltese\"}, {\"id\": \"1691\", \"title\": \"The Australasian Hebrew (Sydney, NSW : 1895 - 1896)\", \"language\": \"de\", \"proportion\": 0.01, \"number\": \"100\", \"language_full\": \"German\"}, {\"id\": \"50\", \"title\": \"The Australian (Sydney, NSW : 1824 - 1848)\", \"language\": \"mt\", \"proportion\": 0.020833333333333332, \"number\": \"100\", \"language_full\": \"Maltese\"}, {\"id\": \"391\", \"title\": \"The Bega Gazette and County of Auckland Advertiser (NSW : 1865)\", \"language\": \"ca\", \"proportion\": 0.03409090909090909, \"number\": \"100\", \"language_full\": \"Catalan\"}, {\"id\": \"720\", \"title\": \"The Bega Standard and Candelo, Merimbula, Pambula, Eden, Wolumla, and General Advertiser (NSW : 1876 - 1884)\", \"language\": \"mt\", \"proportion\": 0.020833333333333332, \"number\": \"100\", \"language_full\": \"Maltese\"}, {\"id\": \"721\", \"title\": \"The Blayney Advocate and Carcoar Herald (NSW : 1898 - 1904)\", \"language\": \"mt\", \"proportion\": 0.01020408163265306, \"number\": \"100\", \"language_full\": \"Maltese\"}, {\"id\": \"920\", \"title\": \"The Blue Mountains Times (Katoomba, NSW : 1931 - 1937)\", \"language\": \"mt\", \"proportion\": 0.010101010101010102, \"number\": \"100\", \"language_full\": \"Maltese\"}, {\"id\": \"387\", \"title\": \"The Bowral Free Press (NSW : 1884)\", \"language\": \"mt\", \"proportion\": 0.01, \"number\": \"100\", \"language_full\": \"Maltese\"}, {\"id\": \"224\", \"title\": \"The Castlereagh (Gilgandra, NSW : 1905 - 1907)\", \"language\": \"mt\", \"proportion\": 0.08045977011494253, \"number\": \"100\", \"language_full\": \"Maltese\"}, {\"id\": \"429\", \"title\": \"The Cessnock Eagle and South Maitland Recorder (NSW : 1913 - 1954)\", \"language\": \"mt\", \"proportion\": 0.010101010101010102, \"number\": \"100\", \"language_full\": \"Maltese\"}, {\"id\": \"448\", \"title\": \"The Cobar Herald (NSW : 1899 - 1914)\", \"language\": \"mt\", \"proportion\": 0.01, \"number\": \"100\", \"language_full\": \"Maltese\"}, {\"id\": \"351\", \"title\": \"The Cumberland Argus and Fruitgrowers Advocate (Parramatta, NSW : 1888 - 1950)\", \"language\": \"mt\", \"proportion\": 0.010101010101010102, \"number\": \"100\", \"language_full\": \"Maltese\"}, {\"id\": \"886\", \"title\": \"The Gwydir Examiner and Moree General Advertiser (NSW : 1898 - 1899)\", \"language\": \"mt\", \"proportion\": 0.03125, \"number\": \"100\", \"language_full\": \"Maltese\"}, {\"id\": \"886\", \"title\": \"The Gwydir Examiner and Moree General Advertiser (NSW : 1898 - 1899)\", \"language\": \"cy\", \"proportion\": 0.010416666666666666, \"number\": \"100\", \"language_full\": \"Welsh\"}, {\"id\": \"725\", \"title\": \"The Hay Standard and Advertiser for Balranald, Wentworth, Maude...(Hay, NSW : 1871 - 1873; 1880 - 1881; 1890 - 1900)\", \"language\": \"mt\", \"proportion\": 0.05263157894736842, \"number\": \"100\", \"language_full\": \"Maltese\"}, {\"id\": \"915\", \"title\": \"The Hospital Saturday News (Katoomba, NSW : 1930)\", \"language\": \"cy\", \"proportion\": 0.03333333333333333, \"number\": \"32\", \"language_full\": \"Welsh\"}, {\"id\": \"8\", \"title\": \"The Maitland Mercury and Hunter River General Advertiser (NSW : 1843 - 1893)\", \"language\": \"mt\", \"proportion\": 0.010101010101010102, \"number\": \"100\", \"language_full\": \"Maltese\"}, {\"id\": \"441\", \"title\": \"The Mirror (Sydney, NSW : 1917 - 1919)\", \"language\": \"mt\", \"proportion\": 0.030612244897959183, \"number\": \"100\", \"language_full\": \"Maltese\"}, {\"id\": \"441\", \"title\": \"The Mirror (Sydney, NSW : 1917 - 1919)\", \"language\": \"so\", \"proportion\": 0.01020408163265306, \"number\": \"100\", \"language_full\": \"Somali\"}, {\"id\": \"887\", \"title\": \"The Moree Examiner and General Advertiser (NSW : 1899)\", \"language\": \"mt\", \"proportion\": 0.010309278350515464, \"number\": \"100\", \"language_full\": \"Maltese\"}, {\"id\": \"511\", \"title\": \"The Moruya Times and South Coast Journal (NSW : 1888 - 1915)\", \"language\": \"mt\", \"proportion\": 0.010101010101010102, \"number\": \"100\", \"language_full\": \"Maltese\"}, {\"id\": \"353\", \"title\": \"The Newcastle Chronicle and Hunter River District News (NSW : 1859 - 1866)\", \"language\": \"mt\", \"proportion\": 0.010101010101010102, \"number\": \"100\", \"language_full\": \"Maltese\"}, {\"id\": \"651\", \"title\": \"The Newcastle Sun (NSW : 1918 - 1954)\", \"language\": \"mt\", \"proportion\": 0.01, \"number\": \"100\", \"language_full\": \"Maltese\"}, {\"id\": \"1587\", \"title\": \"The News (Shoalhaven, NSW : 1867)\", \"language\": \"ca\", \"proportion\": 0.03125, \"number\": \"32\", \"language_full\": \"Catalan\"}, {\"id\": \"653\", \"title\": \"The Northern Champion (Taree, NSW : 1913 - 1954)\", \"language\": \"mt\", \"proportion\": 0.010101010101010102, \"number\": \"100\", \"language_full\": \"Maltese\"}, {\"id\": \"500\", \"title\": \"The Richmond River Express and Casino Kyogle Advertiser (NSW : 1904 - 1929)\", \"language\": \"so\", \"proportion\": 0.04597701149425287, \"number\": \"100\", \"language_full\": \"Somali\"}, {\"id\": \"657\", \"title\": \"The Scone Advocate (NSW : 1887 - 1954)\", \"language\": \"mt\", \"proportion\": 0.02, \"number\": \"100\", \"language_full\": \"Maltese\"}, {\"id\": \"1589\", \"title\": \"The Shoalhaven News, Ulladulla and Southern Coast Districts Advertiser (NSW : 1871 - 1873)\", \"language\": \"mt\", \"proportion\": 0.010416666666666666, \"number\": \"100\", \"language_full\": \"Maltese\"}, {\"id\": \"1475\", \"title\": \"The Sydney Weekly Transcript (NSW : 1846)\", \"language\": \"mt\", \"proportion\": 0.010101010101010102, \"number\": \"100\", \"language_full\": \"Maltese\"}, {\"id\": \"452\", \"title\": \"The Sydney Wool and Stock Journal (NSW : 1899 - 1917)\", \"language\": \"mt\", \"proportion\": 0.030612244897959183, \"number\": \"100\", \"language_full\": \"Maltese\"}, {\"id\": \"1782\", \"title\": \"The Tingha Spectator and North Western Journal (NSW : 1913)\", \"language\": \"ja\", \"proportion\": 0.01020408163265306, \"number\": \"100\", \"language_full\": \"Japanese\"}, {\"id\": \"1158\", \"title\": \"The Twofold Bay Magnet : and South Coast and Southern Monaro Advertiser (NSW : 1908 - 1919)\", \"language\": \"mt\", \"proportion\": 0.02197802197802198, \"number\": \"100\", \"language_full\": \"Maltese\"}, {\"id\": \"1158\", \"title\": \"The Twofold Bay Magnet : and South Coast and Southern Monaro Advertiser (NSW : 1908 - 1919)\", \"language\": \"ru-Latn\", \"proportion\": 0.01098901098901099, \"number\": \"100\", \"language_full\": \"Russian\"}, {\"id\": \"632\", \"title\": \"The West Wyalong Advocate (NSW : 1928 - 1954)\", \"language\": \"mt\", \"proportion\": 0.01, \"number\": \"100\", \"language_full\": \"Maltese\"}, {\"id\": \"730\", \"title\": \"The Wyalong Star and Temora and Barmedman Advertiser (West Wyalong, NSW : 1894 - 1895; 1899 - 1906)\", \"language\": \"mt\", \"proportion\": 0.021739130434782608, \"number\": \"100\", \"language_full\": \"Maltese\"}, {\"id\": \"1185\", \"title\": \"Tung Wah News (Sydney, NSW : 1898 - 1902)\", \"language\": \"ceb\", \"proportion\": 0.01, \"number\": \"100\", \"language_full\": \"Cebuano\"}, {\"id\": \"1185\", \"title\": \"Tung Wah News (Sydney, NSW : 1898 - 1902)\", \"language\": \"it\", \"proportion\": 0.01, \"number\": \"100\", \"language_full\": \"Italian\"}, {\"id\": \"1185\", \"title\": \"Tung Wah News (Sydney, NSW : 1898 - 1902)\", \"language\": \"en\", \"proportion\": 0.01, \"number\": \"100\", \"language_full\": \"English\"}, {\"id\": \"1185\", \"title\": \"Tung Wah News (Sydney, NSW : 1898 - 1902)\", \"language\": \"jv\", \"proportion\": 0.02, \"number\": \"100\", \"language_full\": \"Javanese\"}, {\"id\": \"1185\", \"title\": \"Tung Wah News (Sydney, NSW : 1898 - 1902)\", \"language\": \"id\", \"proportion\": 0.01, \"number\": \"100\", \"language_full\": \"Indonesian\"}, {\"id\": \"1184\", \"title\": \"Tung Wah Times (Sydney, NSW : 1901 - 1936)\", \"language\": \"fy\", \"proportion\": 0.021052631578947368, \"number\": \"100\", \"language_full\": \"Western Frisian\"}, {\"id\": \"1184\", \"title\": \"Tung Wah Times (Sydney, NSW : 1901 - 1936)\", \"language\": \"cs\", \"proportion\": 0.010526315789473684, \"number\": \"100\", \"language_full\": \"Czech\"}, {\"id\": \"1184\", \"title\": \"Tung Wah Times (Sydney, NSW : 1901 - 1936)\", \"language\": \"fil\", \"proportion\": 0.010526315789473684, \"number\": \"100\", \"language_full\": \"Filipino\"}, {\"id\": \"1184\", \"title\": \"Tung Wah Times (Sydney, NSW : 1901 - 1936)\", \"language\": \"vi\", \"proportion\": 0.010526315789473684, \"number\": \"100\", \"language_full\": \"Vietnamese\"}, {\"id\": \"1184\", \"title\": \"Tung Wah Times (Sydney, NSW : 1901 - 1936)\", \"language\": \"hi-Latn\", \"proportion\": 0.021052631578947368, \"number\": \"100\", \"language_full\": \"Hindi\"}, {\"id\": \"394\", \"title\": \"Twofold Bay and Maneroo Observer (NSW : 1860)\", \"language\": \"fy\", \"proportion\": 0.011363636363636364, \"number\": \"100\", \"language_full\": \"Western Frisian\"}, {\"id\": \"394\", \"title\": \"Twofold Bay and Maneroo Observer (NSW : 1860)\", \"language\": \"mt\", \"proportion\": 0.09090909090909091, \"number\": \"100\", \"language_full\": \"Maltese\"}, {\"id\": \"394\", \"title\": \"Twofold Bay and Maneroo Observer (NSW : 1860)\", \"language\": \"fr\", \"proportion\": 0.011363636363636364, \"number\": \"100\", \"language_full\": \"French\"}, {\"id\": \"479\", \"title\": \"Twofold Bay Telegraph (NSW : 1860)\", \"language\": \"mt\", \"proportion\": 0.03225806451612903, \"number\": \"100\", \"language_full\": \"Maltese\"}, {\"id\": \"1055\", \"title\": \"Brisbane Telegraph (Qld. : 1948 - 1954)\", \"language\": \"ja\", \"proportion\": 0.01, \"number\": \"100\", \"language_full\": \"Japanese\"}, {\"id\": \"1055\", \"title\": \"Brisbane Telegraph (Qld. : 1948 - 1954)\", \"language\": \"sn\", \"proportion\": 0.01, \"number\": \"100\", \"language_full\": \"Shona\"}, {\"id\": \"62\", \"title\": \"Cairns Morning Post (Qld. : 1907 - 1909)\", \"language\": \"mt\", \"proportion\": 0.01020408163265306, \"number\": \"100\", \"language_full\": \"Maltese\"}, {\"id\": \"286\", \"title\": \"Chronicle and North Coast Advertiser (Qld. : 1903 - 1922)\", \"language\": \"mt\", \"proportion\": 0.05102040816326531, \"number\": \"100\", \"language_full\": \"Maltese\"}, {\"id\": \"893\", \"title\": \"Daily Standard (Brisbane, Qld. : 1912 - 1936)\", \"language\": \"sv\", \"proportion\": 0.01020408163265306, \"number\": \"100\", \"language_full\": \"Swedish\"}, {\"id\": \"1103\", \"title\": \"Geraldton Advocate and Johnstone River Guardian (Qld. : 1895 - 1896)\", \"language\": \"mt\", \"proportion\": 0.052083333333333336, \"number\": \"100\", \"language_full\": \"Maltese\"}, {\"id\": \"835\", \"title\": \"Mackay Mercury and South Kennedy Advertiser (Qld. : 1867 - 1887)\", \"language\": \"mt\", \"proportion\": 0.010309278350515464, \"number\": \"100\", \"language_full\": \"Maltese\"}, {\"id\": \"732\", \"title\": \"Maryborough Chronicle (Qld. : 1947 - 1954)\", \"language\": \"mt\", \"proportion\": 0.01020408163265306, \"number\": \"100\", \"language_full\": \"Maltese\"}, {\"id\": \"106\", \"title\": \"Nambour Chronicle and North Coast Advertiser (Qld. : 1922 - 1954)\", \"language\": \"mt\", \"proportion\": 0.041666666666666664, \"number\": \"100\", \"language_full\": \"Maltese\"}, {\"id\": \"1674\", \"title\": \"Noosa Advocate and Cooroora Advertiser (Qld. : 1929 - 1934)\", \"language\": \"mt\", \"proportion\": 0.03333333333333333, \"number\": \"100\", \"language_full\": \"Maltese\"}, {\"id\": \"1674\", \"title\": \"Noosa Advocate and Cooroora Advertiser (Qld. : 1929 - 1934)\", \"language\": \"ja\", \"proportion\": 0.011111111111111112, \"number\": \"100\", \"language_full\": \"Japanese\"}, {\"id\": \"1674\", \"title\": \"Noosa Advocate and Cooroora Advertiser (Qld. : 1929 - 1934)\", \"language\": \"mg\", \"proportion\": 0.011111111111111112, \"number\": \"100\", \"language_full\": \"Malagasy\"}, {\"id\": \"263\", \"title\": \"North Australian and Queensland General Advertiser (Ipswich, Qld. : 1862 - 1863)\", \"language\": \"mt\", \"proportion\": 0.020202020202020204, \"number\": \"100\", \"language_full\": \"Maltese\"}, {\"id\": \"377\", \"title\": \"Queensland Times, Ipswich Herald and General Advertiser (Qld. : 1861 - 1908)\", \"language\": \"mt\", \"proportion\": 0.011363636363636364, \"number\": \"100\", \"language_full\": \"Maltese\"}, {\"id\": \"91\", \"title\": \"Rockhampton Bulletin (Qld. : 1871 - 1878)\", \"language\": \"it\", \"proportion\": 0.011235955056179775, \"number\": \"100\", \"language_full\": \"Italian\"}, {\"id\": \"92\", \"title\": \"Rockhampton Bulletin and Central Queensland Advertiser (Qld. : 1861 - 1871)\", \"language\": \"mt\", \"proportion\": 0.042105263157894736, \"number\": \"100\", \"language_full\": \"Maltese\"}, {\"id\": \"1212\", \"title\": \"Southern Queensland Bulletin (Southport, Qld. : 1888 - 1891)\", \"language\": \"lv\", \"proportion\": 0.010101010101010102, \"number\": \"100\", \"language_full\": \"Latvian\"}, {\"id\": \"1578\", \"title\": \"The Catholic Advocate (Brisbane, Qld. : 1911 - 1934; 1936 - 1938)\", \"language\": \"bg\", \"proportion\": 0.010309278350515464, \"number\": \"100\", \"language_full\": \"Bulgarian\"}, {\"id\": \"1578\", \"title\": \"The Catholic Advocate (Brisbane, Qld. : 1911 - 1934; 1936 - 1938)\", \"language\": \"lb\", \"proportion\": 0.010309278350515464, \"number\": \"100\", \"language_full\": \"Luxembourgish\"}, {\"id\": \"187\", \"title\": \"The Central Queensland Herald (Rockhampton, Qld. : 1930 - 1956)\", \"language\": \"mt\", \"proportion\": 0.010309278350515464, \"number\": \"100\", \"language_full\": \"Maltese\"}, {\"id\": \"1207\", \"title\": \"The Coolangatta Chronicle (Qld. : 1926)\", \"language\": \"mt\", \"proportion\": 0.043478260869565216, \"number\": \"26\", \"language_full\": \"Maltese\"}, {\"id\": \"12\", \"title\": \"The Courier-Mail (Brisbane, Qld. : 1933 - 1954)\", \"language\": \"da\", \"proportion\": 0.01, \"number\": \"100\", \"language_full\": \"Danish\"}, {\"id\": \"262\", \"title\": \"The North Australian, Ipswich and General Advertiser (Ipswich, Qld. : 1856 - 1862)\", \"language\": \"mt\", \"proportion\": 0.010416666666666666, \"number\": \"100\", \"language_full\": \"Maltese\"}, {\"id\": \"1151\", \"title\": \"The Northern Sportsman (Innisfail, Qld. : 1928)\", \"language\": \"so\", \"proportion\": 0.03333333333333333, \"number\": \"38\", \"language_full\": \"Somali\"}, {\"id\": \"942\", \"title\": \"Truth (Brisbane, Qld. : 1900 - 1954)\", \"language\": \"mt\", \"proportion\": 0.01, \"number\": \"100\", \"language_full\": \"Maltese\"}, {\"id\": \"892\", \"title\": \"Warwick Daily News (Qld. : 1919 -1954)\", \"language\": \"so\", \"proportion\": 0.012345679012345678, \"number\": \"100\", \"language_full\": \"Somali\"}, {\"id\": \"892\", \"title\": \"Warwick Daily News (Qld. : 1919 -1954)\", \"language\": \"et\", \"proportion\": 0.012345679012345678, \"number\": \"100\", \"language_full\": \"Estonian\"}, {\"id\": \"191\", \"title\": \"Worker (Brisbane, Qld. : 1890 - 1955)\", \"language\": \"sm\", \"proportion\": 0.01, \"number\": \"100\", \"language_full\": \"Samoan\"}, {\"id\": \"821\", \"title\": \"Adelaide Observer (SA : 1843 - 1904)\", \"language\": \"de\", \"proportion\": 0.010309278350515464, \"number\": \"100\", \"language_full\": \"German\"}, {\"id\": \"1100\", \"title\": \"Adelaide Times (SA : 1848 - 1858)\", \"language\": \"mt\", \"proportion\": 0.010526315789473684, \"number\": \"100\", \"language_full\": \"Maltese\"}, {\"id\": \"1576\", \"title\": \"Die Deutsche Post fu\\u0308r die Australischen Colonien = The German Australian Post (Adelaide, SA : 1848 - 1851)\", \"language\": \"lb\", \"proportion\": 0.010416666666666666, \"number\": \"100\", \"language_full\": \"Luxembourgish\"}, {\"id\": \"822\", \"title\": \"Leader (Angaston, SA : 1918 - 1954)\", \"language\": \"mt\", \"proportion\": 0.020202020202020204, \"number\": \"100\", \"language_full\": \"Maltese\"}, {\"id\": \"401\", \"title\": \"Murray Pioneer and Australian River Record (Renmark, SA : 1913 - 1942)\", \"language\": \"mt\", \"proportion\": 0.01, \"number\": \"100\", \"language_full\": \"Maltese\"}, {\"id\": \"461\", \"title\": \"News (Adelaide, SA : 1923 - 1954)\", \"language\": \"cy\", \"proportion\": 0.01, \"number\": \"100\", \"language_full\": \"Welsh\"}, {\"id\": \"990\", \"title\": \"Port Augusta Dispatch and Flinders' Advertiser (SA : 1880 - 1884)\", \"language\": \"mt\", \"proportion\": 0.010101010101010102, \"number\": \"100\", \"language_full\": \"Maltese\"}, {\"id\": \"172\", \"title\": \"South Australian (Adelaide, SA : 1844 - 1851)\", \"language\": \"ca\", \"proportion\": 0.021052631578947368, \"number\": \"100\", \"language_full\": \"Catalan\"}, {\"id\": \"172\", \"title\": \"South Australian (Adelaide, SA : 1844 - 1851)\", \"language\": \"mt\", \"proportion\": 0.010526315789473684, \"number\": \"100\", \"language_full\": \"Maltese\"}, {\"id\": \"41\", \"title\": \"South Australian Register (Adelaide, SA : 1839 - 1900)\", \"language\": \"fr\", \"proportion\": 0.010101010101010102, \"number\": \"100\", \"language_full\": \"French\"}, {\"id\": \"278\", \"title\": \"S\\u00fcd Australische Zeitung (Tanunda and Adelaide, SA : 1860 - 1874)\", \"language\": \"nl\", \"proportion\": 0.010309278350515464, \"number\": \"100\", \"language_full\": \"Dutch\"}, {\"id\": \"967\", \"title\": \"The Journal (Adelaide, SA : 1912 - 1923)\", \"language\": \"mt\", \"proportion\": 0.01020408163265306, \"number\": \"100\", \"language_full\": \"Maltese\"}, {\"id\": \"830\", \"title\": \"The Victor Harbor Times and Encounter Bay and Lower Murray Pilot (SA : 1912 - 1930)\", \"language\": \"ja\", \"proportion\": 0.010101010101010102, \"number\": \"100\", \"language_full\": \"Japanese\"}, {\"id\": \"406\", \"title\": \"The Wallaroo Times and Mining Journal (Port Wallaroo, SA : 1865 - 1881)\", \"language\": \"mt\", \"proportion\": 0.011111111111111112, \"number\": \"100\", \"language_full\": \"Maltese\"}, {\"id\": \"1309\", \"title\": \"The Western Weekly News (Port Lincoln, SA : 1902-1904)\", \"language\": \"ja\", \"proportion\": 0.012987012987012988, \"number\": \"77\", \"language_full\": \"Japanese\"}, {\"id\": \"1309\", \"title\": \"The Western Weekly News (Port Lincoln, SA : 1902-1904)\", \"language\": \"no\", \"proportion\": 0.012987012987012988, \"number\": \"77\", \"language_full\": \"Norwegian\"}, {\"id\": \"856\", \"title\": \"Times (Victor Harbor, SA : 1987 - 1999)\", \"language\": \"mt\", \"proportion\": 0.020202020202020204, \"number\": \"100\", \"language_full\": \"Maltese\"}, {\"id\": \"831\", \"title\": \"Times Victor Harbour and Encounter Bay and Lower Murray Pilot (SA : 1930 - 1932)\", \"language\": \"ca\", \"proportion\": 0.010101010101010102, \"number\": \"100\", \"language_full\": \"Catalan\"}, {\"id\": \"1172\", \"title\": \"Yorke's Peninsula Advertiser and Miners' and Farmers' Journal (SA : 1875 - 1878)\", \"language\": \"ja\", \"proportion\": 0.010309278350515464, \"number\": \"100\", \"language_full\": \"Japanese\"}, {\"id\": \"1172\", \"title\": \"Yorke's Peninsula Advertiser and Miners' and Farmers' Journal (SA : 1875 - 1878)\", \"language\": \"mt\", \"proportion\": 0.010309278350515464, \"number\": \"100\", \"language_full\": \"Maltese\"}, {\"id\": \"23\", \"title\": \"Colonial Times and Tasmanian Advertiser (Hobart, Tas. : 1825 - 1827)\", \"language\": \"vi\", \"proportion\": 0.01, \"number\": \"100\", \"language_full\": \"Vietnamese\"}, {\"id\": \"858\", \"title\": \"Critic (Hobart, Tas. : 1892 - 1893)\", \"language\": \"fy\", \"proportion\": 0.011363636363636364, \"number\": \"88\", \"language_full\": \"Western Frisian\"}, {\"id\": \"860\", \"title\": \"Daily Post (Hobart, Tas. : 1908 - 1918)\", \"language\": \"cy\", \"proportion\": 0.033707865168539325, \"number\": \"100\", \"language_full\": \"Welsh\"}, {\"id\": \"860\", \"title\": \"Daily Post (Hobart, Tas. : 1908 - 1918)\", \"language\": \"it\", \"proportion\": 0.02247191011235955, \"number\": \"100\", \"language_full\": \"Italian\"}, {\"id\": \"860\", \"title\": \"Daily Post (Hobart, Tas. : 1908 - 1918)\", \"language\": \"ig\", \"proportion\": 0.033707865168539325, \"number\": \"100\", \"language_full\": \"Igbo\"}, {\"id\": \"860\", \"title\": \"Daily Post (Hobart, Tas. : 1908 - 1918)\", \"language\": \"gl\", \"proportion\": 0.02247191011235955, \"number\": \"100\", \"language_full\": \"Galician\"}, {\"id\": \"860\", \"title\": \"Daily Post (Hobart, Tas. : 1908 - 1918)\", \"language\": \"gd\", \"proportion\": 0.02247191011235955, \"number\": \"100\", \"language_full\": \"Scottish Gaelic\"}, {\"id\": \"860\", \"title\": \"Daily Post (Hobart, Tas. : 1908 - 1918)\", \"language\": \"pt\", \"proportion\": 0.011235955056179775, \"number\": \"100\", \"language_full\": \"Portuguese\"}, {\"id\": \"860\", \"title\": \"Daily Post (Hobart, Tas. : 1908 - 1918)\", \"language\": \"ca\", \"proportion\": 0.011235955056179775, \"number\": \"100\", \"language_full\": \"Catalan\"}, {\"id\": \"860\", \"title\": \"Daily Post (Hobart, Tas. : 1908 - 1918)\", \"language\": \"co\", \"proportion\": 0.011235955056179775, \"number\": \"100\", \"language_full\": \"Corsican\"}, {\"id\": \"1076\", \"title\": \"Deloraine - Westbury Advocate (Ulverstone, Tas. : 1893 - 1894)\", \"language\": \"mt\", \"proportion\": 0.010416666666666666, \"number\": \"100\", \"language_full\": \"Maltese\"}, {\"id\": \"862\", \"title\": \"Devon Herald (Latrobe, Tas. : 1877 - 1889)\", \"language\": \"mt\", \"proportion\": 0.010526315789473684, \"number\": \"100\", \"language_full\": \"Maltese\"}, {\"id\": \"116\", \"title\": \"Emu Bay Times and North West and West Coast Advocate (Tas. : 1897 - 1899)\", \"language\": \"mt\", \"proportion\": 0.06666666666666667, \"number\": \"100\", \"language_full\": \"Maltese\"}, {\"id\": \"1739\", \"title\": \"Hobart Town Advertiser : Weekly Edt. (Tas. : 1859 - 1865)\", \"language\": \"mt\", \"proportion\": 0.01020408163265306, \"number\": \"100\", \"language_full\": \"Maltese\"}, {\"id\": \"1739\", \"title\": \"Hobart Town Advertiser : Weekly Edt. (Tas. : 1859 - 1865)\", \"language\": \"ja\", \"proportion\": 0.01020408163265306, \"number\": \"100\", \"language_full\": \"Japanese\"}, {\"id\": \"1747\", \"title\": \"Saturday Evening Express (Launceston, Tas. : 1924 - 1954)\", \"language\": \"mt\", \"proportion\": 0.01, \"number\": \"100\", \"language_full\": \"Maltese\"}, {\"id\": \"1265\", \"title\": \"Tasmanian Evening Herald (Launceston, Tas. : 1878)\", \"language\": \"mt\", \"proportion\": 0.0449438202247191, \"number\": \"100\", \"language_full\": \"Maltese\"}, {\"id\": \"1265\", \"title\": \"Tasmanian Evening Herald (Launceston, Tas. : 1878)\", \"language\": \"ja\", \"proportion\": 0.033707865168539325, \"number\": \"100\", \"language_full\": \"Japanese\"}, {\"id\": \"866\", \"title\": \"Tasmanian News (Hobart, Tas. : 1883 - 1911)\", \"language\": \"gd\", \"proportion\": 0.01020408163265306, \"number\": \"100\", \"language_full\": \"Scottish Gaelic\"}, {\"id\": \"1736\", \"title\": \"The Advertiser (Hobart, Tas. :  1837 - 1840)\", \"language\": \"mt\", \"proportion\": 0.013157894736842105, \"number\": \"100\", \"language_full\": \"Maltese\"}, {\"id\": \"1736\", \"title\": \"The Advertiser (Hobart, Tas. :  1837 - 1840)\", \"language\": \"pt\", \"proportion\": 0.013157894736842105, \"number\": \"100\", \"language_full\": \"Portuguese\"}, {\"id\": \"1233\", \"title\": \"The Austral-Asiatic Review (Hobart Town, Tas. : 1833)\", \"language\": \"mt\", \"proportion\": 0.01098901098901099, \"number\": \"100\", \"language_full\": \"Maltese\"}, {\"id\": \"271\", \"title\": \"The Clipper (Hobart, Tas. : 1893 - 1909)\", \"language\": \"mt\", \"proportion\": 0.01, \"number\": \"100\", \"language_full\": \"Maltese\"}, {\"id\": \"1741\", \"title\": \"The Herald of Tasmania (Hobart, Tas. : 1845)\", \"language\": \"la\", \"proportion\": 0.047619047619047616, \"number\": \"21\", \"language_full\": \"Latin\"}, {\"id\": \"1741\", \"title\": \"The Herald of Tasmania (Hobart, Tas. : 1845)\", \"language\": \"it\", \"proportion\": 0.09523809523809523, \"number\": \"21\", \"language_full\": \"Italian\"}, {\"id\": \"1737\", \"title\": \"The Hobart Town Advertiser (Tas. : 1839 - 1861)\", \"language\": \"ja\", \"proportion\": 0.01, \"number\": \"100\", \"language_full\": \"Japanese\"}, {\"id\": \"33\", \"title\": \"The Hobart Town Daily Mercury (Tas. : 1858 - 1860)\", \"language\": \"mt\", \"proportion\": 0.034482758620689655, \"number\": \"100\", \"language_full\": \"Maltese\"}, {\"id\": \"1742\", \"title\": \"The Hobart Town Herald, or, Southern reporter (Tas. : 1846)\", \"language\": \"bg-Latn\", \"proportion\": 0.01639344262295082, \"number\": \"64\", \"language_full\": \"Bulgarian\"}, {\"id\": \"1237\", \"title\": \"The Independent (Launceston, Tas. : 1831 - 1835)\", \"language\": \"mt\", \"proportion\": 0.010101010101010102, \"number\": \"100\", \"language_full\": \"Maltese\"}, {\"id\": \"1245\", \"title\": \"The People's Advocate or True Friend of Tasmania (Launceston, Tas. : 1855 - 1856)\", \"language\": \"mt\", \"proportion\": 0.01020408163265306, \"number\": \"100\", \"language_full\": \"Maltese\"}, {\"id\": \"946\", \"title\": \"The Tasmanian (Launceston, Tas. : 1871 - 1879)\", \"language\": \"mt\", \"proportion\": 0.025974025974025976, \"number\": \"100\", \"language_full\": \"Maltese\"}, {\"id\": \"1234\", \"title\": \"The Tasmanian and Austral-Asiatic Review (Hobart Town, Tas. : 1844 - 1845)\", \"language\": \"no\", \"proportion\": 0.010101010101010102, \"number\": \"100\", \"language_full\": \"Norwegian\"}, {\"id\": \"869\", \"title\": \"Trumpeter General (Hobart, Tas. : 1833 - 1834)\", \"language\": \"mt\", \"proportion\": 0.011235955056179775, \"number\": \"100\", \"language_full\": \"Maltese\"}, {\"id\": \"792\", \"title\": \"Advocate (Melbourne, Vic. : 1868 - 1954)\", \"language\": \"mt\", \"proportion\": 0.010752688172043012, \"number\": \"100\", \"language_full\": \"Maltese\"}, {\"id\": \"155\", \"title\": \"Alexandra and Yea Standard, Gobur, Thornton and Acheron Express (Vic. : 1877 - 1908)\", \"language\": \"mt\", \"proportion\": 0.01, \"number\": \"100\", \"language_full\": \"Maltese\"}, {\"id\": \"240\", \"title\": \"Bairnsdale Advertiser and Tambo and Omeo Chronicle (Vic. : 1882 - 1918)\", \"language\": \"mt\", \"proportion\": 0.02040816326530612, \"number\": \"100\", \"language_full\": \"Maltese\"}, {\"id\": \"240\", \"title\": \"Bairnsdale Advertiser and Tambo and Omeo Chronicle (Vic. : 1882 - 1918)\", \"language\": \"sv\", \"proportion\": 0.01020408163265306, \"number\": \"100\", \"language_full\": \"Swedish\"}, {\"id\": \"346\", \"title\": \"Bendigo Advertiser (Vic. : 1855 - 1918)\", \"language\": \"mt\", \"proportion\": 0.020833333333333332, \"number\": \"100\", \"language_full\": \"Maltese\"}, {\"id\": \"245\", \"title\": \"Brighton Southern Cross (Vic. : 1896 - 1918)\", \"language\": \"mt\", \"proportion\": 0.010101010101010102, \"number\": \"100\", \"language_full\": \"Maltese\"}, {\"id\": \"1495\", \"title\": \"Chiltern Leader (Vic. : 1896 - 1898)\", \"language\": \"ja\", \"proportion\": 0.010101010101010102, \"number\": \"100\", \"language_full\": \"Japanese\"}, {\"id\": \"705\", \"title\": \"Chinese Times (Melbourne, Vic. : 1902 - 1922)\", \"language\": \"ku\", \"proportion\": 0.02040816326530612, \"number\": \"100\", \"language_full\": \"Kurdish\"}, {\"id\": \"705\", \"title\": \"Chinese Times (Melbourne, Vic. : 1902 - 1922)\", \"language\": \"it\", \"proportion\": 0.01020408163265306, \"number\": \"100\", \"language_full\": \"Italian\"}, {\"id\": \"705\", \"title\": \"Chinese Times (Melbourne, Vic. : 1902 - 1922)\", \"language\": \"ja\", \"proportion\": 0.02040816326530612, \"number\": \"100\", \"language_full\": \"Japanese\"}, {\"id\": \"705\", \"title\": \"Chinese Times (Melbourne, Vic. : 1902 - 1922)\", \"language\": \"hi\", \"proportion\": 0.01020408163265306, \"number\": \"100\", \"language_full\": \"Hindi\"}, {\"id\": \"705\", \"title\": \"Chinese Times (Melbourne, Vic. : 1902 - 1922)\", \"language\": \"ca\", \"proportion\": 0.01020408163265306, \"number\": \"100\", \"language_full\": \"Catalan\"}, {\"id\": \"705\", \"title\": \"Chinese Times (Melbourne, Vic. : 1902 - 1922)\", \"language\": \"id\", \"proportion\": 0.01020408163265306, \"number\": \"100\", \"language_full\": \"Indonesian\"}, {\"id\": \"543\", \"title\": \"Cobden Times (Vic. : 1918)\", \"language\": \"co\", \"proportion\": 0.01098901098901099, \"number\": \"100\", \"language_full\": \"Corsican\"}, {\"id\": \"543\", \"title\": \"Cobden Times (Vic. : 1918)\", \"language\": \"ig\", \"proportion\": 0.01098901098901099, \"number\": \"100\", \"language_full\": \"Igbo\"}, {\"id\": \"543\", \"title\": \"Cobden Times (Vic. : 1918)\", \"language\": \"pt\", \"proportion\": 0.01098901098901099, \"number\": \"100\", \"language_full\": \"Portuguese\"}, {\"id\": \"544\", \"title\": \"Cobden Times and Heytesbury Advertiser (Vic. : 1914 - 1918)\", \"language\": \"et\", \"proportion\": 0.010101010101010102, \"number\": \"100\", \"language_full\": \"Estonian\"}, {\"id\": \"544\", \"title\": \"Cobden Times and Heytesbury Advertiser (Vic. : 1914 - 1918)\", \"language\": \"mt\", \"proportion\": 0.020202020202020204, \"number\": \"100\", \"language_full\": \"Maltese\"}, {\"id\": \"763\", \"title\": \"Colac Reformer (Vic. : 1914 - 1918)\", \"language\": \"mt\", \"proportion\": 0.05263157894736842, \"number\": \"100\", \"language_full\": \"Maltese\"}, {\"id\": \"549\", \"title\": \"Cressy and Lismore Pioneer and Western Plains Representative (Vic. : 1915 - 1918)\", \"language\": \"mt\", \"proportion\": 0.020202020202020204, \"number\": \"100\", \"language_full\": \"Maltese\"}, {\"id\": \"312\", \"title\": \"Dandenong Advertiser and Cranbourne, Berwick and Oakleigh Advocate (Vic. : 1914 - 1918)\", \"language\": \"mt\", \"proportion\": 0.010309278350515464, \"number\": \"100\", \"language_full\": \"Maltese\"}, {\"id\": \"751\", \"title\": \"Echuca and Moama Advertiser and Farmers' Gazette (Vic. : 1914 - 1918)\", \"language\": \"mt\", \"proportion\": 0.02, \"number\": \"100\", \"language_full\": \"Maltese\"}, {\"id\": \"146\", \"title\": \"Evelyn Observer and Bourke East Record (Vic. : 1902 - 1917)\", \"language\": \"mt\", \"proportion\": 0.020833333333333332, \"number\": \"100\", \"language_full\": \"Maltese\"}, {\"id\": \"145\", \"title\": \"Evelyn Observer, and South and East Bourke Record (Vic. : 1882 - 1902)\", \"language\": \"mt\", \"proportion\": 0.07526881720430108, \"number\": \"100\", \"language_full\": \"Maltese\"}, {\"id\": \"145\", \"title\": \"Evelyn Observer, and South and East Bourke Record (Vic. : 1882 - 1902)\", \"language\": \"so\", \"proportion\": 0.010752688172043012, \"number\": \"100\", \"language_full\": \"Somali\"}, {\"id\": \"152\", \"title\": \"Fitzroy City Press (Vic. : 1881 - 1920)\", \"language\": \"ja\", \"proportion\": 0.01020408163265306, \"number\": \"100\", \"language_full\": \"Japanese\"}, {\"id\": \"556\", \"title\": \"Foster and Toora Mirror and South Gippsland Shire Advocate (Vic. : 1914)\", \"language\": \"cy\", \"proportion\": 0.010416666666666666, \"number\": \"100\", \"language_full\": \"Welsh\"}, {\"id\": \"556\", \"title\": \"Foster and Toora Mirror and South Gippsland Shire Advocate (Vic. : 1914)\", \"language\": \"mt\", \"proportion\": 0.010416666666666666, \"number\": \"100\", \"language_full\": \"Maltese\"}, {\"id\": \"484\", \"title\": \"Gippsland Guardian (Vic. : 1855 - 1868)\", \"language\": \"mt\", \"proportion\": 0.020618556701030927, \"number\": \"100\", \"language_full\": \"Maltese\"}, {\"id\": \"559\", \"title\": \"Gippsland Independent, Buln Buln, Warragul, Berwick, Poowong and Jeetho Shire Advocate (Vic. : 1914 - 1918)\", \"language\": \"mt\", \"proportion\": 0.010101010101010102, \"number\": \"100\", \"language_full\": \"Maltese\"}, {\"id\": \"927\", \"title\": \"Hamilton Spectator and Grange District Advertiser (Vic. : 1860 - 1870)\", \"language\": \"mt\", \"proportion\": 0.07368421052631578, \"number\": \"100\", \"language_full\": \"Maltese\"}, {\"id\": \"927\", \"title\": \"Hamilton Spectator and Grange District Advertiser (Vic. : 1860 - 1870)\", \"language\": \"so\", \"proportion\": 0.010526315789473684, \"number\": \"100\", \"language_full\": \"Somali\"}, {\"id\": \"140\", \"title\": \"Healesville Guardian (Vic. : 1893 - 1898)\", \"language\": \"et\", \"proportion\": 0.01, \"number\": \"100\", \"language_full\": \"Estonian\"}, {\"id\": \"140\", \"title\": \"Healesville Guardian (Vic. : 1893 - 1898)\", \"language\": \"mt\", \"proportion\": 0.03, \"number\": \"100\", \"language_full\": \"Maltese\"}, {\"id\": \"141\", \"title\": \"Healesville Guardian and Yarra Glen Advocate (Vic. : 1898)\", \"language\": \"mt\", \"proportion\": 0.01, \"number\": \"100\", \"language_full\": \"Maltese\"}, {\"id\": \"71\", \"title\": \"Illustrated Australian News (Melbourne, Vic. : 1890 - 1896)\", \"language\": \"mt\", \"proportion\": 0.010101010101010102, \"number\": \"100\", \"language_full\": \"Maltese\"}, {\"id\": \"570\", \"title\": \"Inglewood Advertiser (Vic. : 1914 - 1918)\", \"language\": \"mt\", \"proportion\": 0.041666666666666664, \"number\": \"100\", \"language_full\": \"Maltese\"}, {\"id\": \"779\", \"title\": \"Kilmore Advertiser (Vic. : 1915 - 1918)\", \"language\": \"mt\", \"proportion\": 0.01020408163265306, \"number\": \"100\", \"language_full\": \"Maltese\"}, {\"id\": \"574\", \"title\": \"Korong Vale Lance and North West Advertiser (Vic. : 1914 - 1915)\", \"language\": \"mt\", \"proportion\": 0.01, \"number\": \"100\", \"language_full\": \"Maltese\"}, {\"id\": \"196\", \"title\": \"Kyabram Union (Vic. : 1886 - 1894)\", \"language\": \"mt\", \"proportion\": 0.06818181818181818, \"number\": \"100\", \"language_full\": \"Maltese\"}, {\"id\": \"133\", \"title\": \"Morwell Advertiser (Morwell, Vic. : 1888 - 1954)\", \"language\": \"fy\", \"proportion\": 0.011235955056179775, \"number\": \"100\", \"language_full\": \"Western Frisian\"}, {\"id\": \"133\", \"title\": \"Morwell Advertiser (Morwell, Vic. : 1888 - 1954)\", \"language\": \"mt\", \"proportion\": 0.033707865168539325, \"number\": \"100\", \"language_full\": \"Maltese\"}, {\"id\": \"797\", \"title\": \"Norden (Melbourne, Vic. : 1914 - 1918)\", \"language\": \"en\", \"proportion\": 0.06741573033707865, \"number\": \"100\", \"language_full\": \"English\"}, {\"id\": \"797\", \"title\": \"Norden (Melbourne, Vic. : 1914 - 1918)\", \"language\": \"mt\", \"proportion\": 0.0449438202247191, \"number\": \"100\", \"language_full\": \"Maltese\"}, {\"id\": \"797\", \"title\": \"Norden (Melbourne, Vic. : 1914 - 1918)\", \"language\": \"no\", \"proportion\": 0.011235955056179775, \"number\": \"100\", \"language_full\": \"Norwegian\"}, {\"id\": \"797\", \"title\": \"Norden (Melbourne, Vic. : 1914 - 1918)\", \"language\": \"et\", \"proportion\": 0.011235955056179775, \"number\": \"100\", \"language_full\": \"Estonian\"}, {\"id\": \"384\", \"title\": \"North Melbourne Gazette (Vic. : 1894 - 1901)\", \"language\": \"cy\", \"proportion\": 0.02531645569620253, \"number\": \"100\", \"language_full\": \"Welsh\"}, {\"id\": \"590\", \"title\": \"Northern District Standard (Vic. : 1915 - 1916)\", \"language\": \"da\", \"proportion\": 0.010416666666666666, \"number\": \"100\", \"language_full\": \"Danish\"}, {\"id\": \"1139\", \"title\": \"Port Phillip Gazette (Vic. : 1851)\", \"language\": \"mt\", \"proportion\": 0.010309278350515464, \"number\": \"100\", \"language_full\": \"Maltese\"}, {\"id\": \"110\", \"title\": \"Portland Guardian and Normanby General Advertiser (Vic. : 1842 - 1843; 1854 - 1876)\", \"language\": \"mt\", \"proportion\": 0.01020408163265306, \"number\": \"100\", \"language_full\": \"Maltese\"}, {\"id\": \"599\", \"title\": \"Richmond Australian (Vic. : 1912 - 1916)\", \"language\": \"mt\", \"proportion\": 0.01, \"number\": \"100\", \"language_full\": \"Maltese\"}, {\"id\": \"310\", \"title\": \"Richmond Guardian (Vic. : 1884 - 1885; 1894 - 1895; 1902 - 1928)\", \"language\": \"zu\", \"proportion\": 0.01, \"number\": \"100\", \"language_full\": \"Zulu\"}, {\"id\": \"329\", \"title\": \"Ringwood and Croydon Chronicle (Vic. : 1914 - 1918)\", \"language\": \"mt\", \"proportion\": 0.061855670103092786, \"number\": \"100\", \"language_full\": \"Maltese\"}, {\"id\": \"318\", \"title\": \"Sandringham Southern Cross (Vic. : 1914 - 1918)\", \"language\": \"cy\", \"proportion\": 0.012195121951219513, \"number\": \"100\", \"language_full\": \"Welsh\"}, {\"id\": \"318\", \"title\": \"Sandringham Southern Cross (Vic. : 1914 - 1918)\", \"language\": \"ca\", \"proportion\": 0.012195121951219513, \"number\": \"100\", \"language_full\": \"Catalan\"}, {\"id\": \"1685\", \"title\": \"The Australian Jewish News (Melbourne, Vic. : 1935 - 1999)\", \"language\": \"iw\", \"proportion\": 0.031578947368421054, \"number\": \"100\", \"language_full\": \"Hebrew\"}, {\"id\": \"534\", \"title\": \"The Ballan Times (Vic. : 1899 - 1920)\", \"language\": \"mt\", \"proportion\": 0.031914893617021274, \"number\": \"100\", \"language_full\": \"Maltese\"}, {\"id\": \"232\", \"title\": \"The Ballarat Courier (Vic. : 1869 - 1885; 1914 - 1918)\", \"language\": \"mt\", \"proportion\": 0.010416666666666666, \"number\": \"100\", \"language_full\": \"Maltese\"}, {\"id\": \"131\", \"title\": \"The Broadford Courier (Broadford, Vic. : 1916 - 1920)\", \"language\": \"mt\", \"proportion\": 0.010416666666666666, \"number\": \"100\", \"language_full\": \"Maltese\"}, {\"id\": \"131\", \"title\": \"The Broadford Courier (Broadford, Vic. : 1916 - 1920)\", \"language\": \"ku\", \"proportion\": 0.010416666666666666, \"number\": \"100\", \"language_full\": \"Kurdish\"}, {\"id\": \"293\", \"title\": \"The Brunswick and Coburg Leader (Vic. : 1914 - 1926)\", \"language\": \"pt\", \"proportion\": 0.01020408163265306, \"number\": \"100\", \"language_full\": \"Portuguese\"}, {\"id\": \"293\", \"title\": \"The Brunswick and Coburg Leader (Vic. : 1914 - 1926)\", \"language\": \"ja\", \"proportion\": 0.02040816326530612, \"number\": \"100\", \"language_full\": \"Japanese\"}, {\"id\": \"293\", \"title\": \"The Brunswick and Coburg Leader (Vic. : 1914 - 1926)\", \"language\": \"da\", \"proportion\": 0.01020408163265306, \"number\": \"100\", \"language_full\": \"Danish\"}, {\"id\": \"293\", \"title\": \"The Brunswick and Coburg Leader (Vic. : 1914 - 1926)\", \"language\": \"it\", \"proportion\": 0.01020408163265306, \"number\": \"100\", \"language_full\": \"Italian\"}, {\"id\": \"293\", \"title\": \"The Brunswick and Coburg Leader (Vic. : 1914 - 1926)\", \"language\": \"mt\", \"proportion\": 0.01020408163265306, \"number\": \"100\", \"language_full\": \"Maltese\"}, {\"id\": \"249\", \"title\": \"The Casterton News and the Merino and Sandford Record (Vic. : 1914 - 1918)\", \"language\": \"mt\", \"proportion\": 0.010416666666666666, \"number\": \"100\", \"language_full\": \"Maltese\"}, {\"id\": \"956\", \"title\": \"The Church of England Messenger for Victoria and Ecclesiastical Gazette for the Diocese of Melbourne (Vic. : 1889 - 1905)\", \"language\": \"la\", \"proportion\": 0.01, \"number\": \"100\", \"language_full\": \"Latin\"}, {\"id\": \"685\", \"title\": \"The English and Chinese Advertiser (Vic. : 1856 - 1858)\", \"language\": \"zh\", \"proportion\": 0.05263157894736842, \"number\": \"22\", \"language_full\": \"Chinese\"}, {\"id\": \"685\", \"title\": \"The English and Chinese Advertiser (Vic. : 1856 - 1858)\", \"language\": \"mt\", \"proportion\": 0.05263157894736842, \"number\": \"22\", \"language_full\": \"Maltese\"}, {\"id\": \"197\", \"title\": \"The Kyabram Union and Rodney Shire Advocate (Vic. : 1894 - 1894)\", \"language\": \"mt\", \"proportion\": 0.010101010101010102, \"number\": \"100\", \"language_full\": \"Maltese\"}, {\"id\": \"1324\", \"title\": \"The Kyneton Observer (Vic. : 1856 - 1900)\", \"language\": \"mt\", \"proportion\": 0.01, \"number\": \"100\", \"language_full\": \"Maltese\"}, {\"id\": \"250\", \"title\": \"The Lilydale Express (Vic. : 1886 - 1897 ; 1914 - 1955)\", \"language\": \"no\", \"proportion\": 0.01020408163265306, \"number\": \"100\", \"language_full\": \"Norwegian\"}, {\"id\": \"243\", \"title\": \"The Lilydale Express and Yarra Glen, Wandin Yallock, Upper Yarra, Healesville and Ringwood Chronicle (Vic. : 1898 - 1914)\", \"language\": \"mt\", \"proportion\": 0.02, \"number\": \"100\", \"language_full\": \"Maltese\"}, {\"id\": \"939\", \"title\": \"The Melbourne Daily News (Vic. : 1848 - 1851)\", \"language\": \"mt\", \"proportion\": 0.03, \"number\": \"100\", \"language_full\": \"Maltese\"}, {\"id\": \"1580\", \"title\": \"The Merbein Irrigationist and Murray Valley Soldiers' Gazette (Vic. : 1919 - 1920)\", \"language\": \"mt\", \"proportion\": 0.01, \"number\": \"100\", \"language_full\": \"Maltese\"}, {\"id\": \"1579\", \"title\": \"The Mildura and Merbein Sun (Vic. : 1921)\", \"language\": \"mt\", \"proportion\": 0.01020408163265306, \"number\": \"100\", \"language_full\": \"Maltese\"}, {\"id\": \"1582\", \"title\": \"The Mildura Irrigationist and Murray River Cultural Advocate (Vic. : 1891 - 1892)\", \"language\": \"mt\", \"proportion\": 0.09333333333333334, \"number\": \"100\", \"language_full\": \"Maltese\"}, {\"id\": \"1582\", \"title\": \"The Mildura Irrigationist and Murray River Cultural Advocate (Vic. : 1891 - 1892)\", \"language\": \"cy\", \"proportion\": 0.013333333333333334, \"number\": \"100\", \"language_full\": \"Welsh\"}, {\"id\": \"222\", \"title\": \"The North Eastern Ensign (Benalla, Vic. : 1872 - 1938)\", \"language\": \"so\", \"proportion\": 0.01, \"number\": \"100\", \"language_full\": \"Somali\"}, {\"id\": \"235\", \"title\": \"The Queenscliff Sentinel (Vic. : 1884 - 1885)\", \"language\": \"mt\", \"proportion\": 0.01020408163265306, \"number\": \"100\", \"language_full\": \"Maltese\"}, {\"id\": \"244\", \"title\": \"The Reporter (Box Hill, Vic. : 1889 - 1925)\", \"language\": \"mt\", \"proportion\": 0.0851063829787234, \"number\": \"100\", \"language_full\": \"Maltese\"}, {\"id\": \"244\", \"title\": \"The Reporter (Box Hill, Vic. : 1889 - 1925)\", \"language\": \"cy\", \"proportion\": 0.010638297872340425, \"number\": \"100\", \"language_full\": \"Welsh\"}, {\"id\": \"1322\", \"title\": \"The Socialist (Melbourne, Vic. : 1906 - 1923)\", \"language\": \"mt\", \"proportion\": 0.020202020202020204, \"number\": \"100\", \"language_full\": \"Maltese\"}, {\"id\": \"212\", \"title\": \"The Sunbury News (Vic. : 1892)\", \"language\": \"mt\", \"proportion\": 0.02, \"number\": \"100\", \"language_full\": \"Maltese\"}, {\"id\": \"1768\", \"title\": \"The Tarrangower Times and Maldon District Advertiser (Vic. : 1858 - 1862)\", \"language\": \"pt\", \"proportion\": 0.01, \"number\": \"100\", \"language_full\": \"Portuguese\"}, {\"id\": \"1770\", \"title\": \"The Tarrangower Times and Maldon, Newstead, Baringhup, Laancoorie and Muckleford Advertiser (Vic. : 1873 - 1894)\", \"language\": \"mt\", \"proportion\": 0.02040816326530612, \"number\": \"100\", \"language_full\": \"Maltese\"}, {\"id\": \"613\", \"title\": \"Truth (Melbourne ed.) (Vic. : 1914 - 1918)\", \"language\": \"mt\", \"proportion\": 0.010101010101010102, \"number\": \"100\", \"language_full\": \"Maltese\"}, {\"id\": \"301\", \"title\": \"Wangaratta Chronicle (Vic. : 1914 - 1918)\", \"language\": \"mt\", \"proportion\": 0.010101010101010102, \"number\": \"100\", \"language_full\": \"Maltese\"}, {\"id\": \"707\", \"title\": \"Weekly Times Annual (Vic. : 1914 - 1918)\", \"language\": \"mt\", \"proportion\": 0.02, \"number\": \"100\", \"language_full\": \"Maltese\"}, {\"id\": \"707\", \"title\": \"Weekly Times Annual (Vic. : 1914 - 1918)\", \"language\": \"ja\", \"proportion\": 0.01, \"number\": \"100\", \"language_full\": \"Japanese\"}, {\"id\": \"1704\", \"title\": \"West Bourke and South Grant Guardian (Bacchus Marsh, Vic. : 1869 - 1870)\", \"language\": \"mt\", \"proportion\": 0.010101010101010102, \"number\": \"100\", \"language_full\": \"Maltese\"}, {\"id\": \"193\", \"title\": \"Williamstown Chronicle (Vic. : 1856 - 1954)\", \"language\": \"cy\", \"proportion\": 0.010869565217391304, \"number\": \"100\", \"language_full\": \"Welsh\"}, {\"id\": \"1400\", \"title\": \"Bulong Bulletin and Mining Register (WA : 1897 - 1898)\", \"language\": \"mt\", \"proportion\": 0.02040816326530612, \"number\": \"100\", \"language_full\": \"Maltese\"}, {\"id\": \"1401\", \"title\": \"Central Districts Advertiser and Agriculture and Mining Journal (Northam, WA : 1893 - 1895)\", \"language\": \"ja\", \"proportion\": 0.01, \"number\": \"100\", \"language_full\": \"Japanese\"}, {\"id\": \"1401\", \"title\": \"Central Districts Advertiser and Agriculture and Mining Journal (Northam, WA : 1893 - 1895)\", \"language\": \"no\", \"proportion\": 0.01, \"number\": \"100\", \"language_full\": \"Norwegian\"}, {\"id\": \"1401\", \"title\": \"Central Districts Advertiser and Agriculture and Mining Journal (Northam, WA : 1893 - 1895)\", \"language\": \"fr\", \"proportion\": 0.01, \"number\": \"100\", \"language_full\": \"French\"}, {\"id\": \"1383\", \"title\": \"Chung Wah News (Perth, WA : 1981 - 1987)\", \"language\": \"hi\", \"proportion\": 0.044444444444444446, \"number\": \"100\", \"language_full\": \"Hindi\"}, {\"id\": \"1384\", \"title\": \"Echo : Polski Tygodnik Niezalezny (Perth, WA : 1950 - 1952)\", \"language\": \"en\", \"proportion\": 0.09, \"number\": \"100\", \"language_full\": \"English\"}, {\"id\": \"1528\", \"title\": \"Fremantle Courier (WA : 1902)\", \"language\": \"mt\", \"proportion\": 0.010101010101010102, \"number\": \"100\", \"language_full\": \"Maltese\"}, {\"id\": \"1623\", \"title\": \"Geraldton Express and Murchison Goldfields News (WA : 1894 - 1896)\", \"language\": \"mt\", \"proportion\": 0.0958904109589041, \"number\": \"100\", \"language_full\": \"Maltese\"}, {\"id\": \"1623\", \"title\": \"Geraldton Express and Murchison Goldfields News (WA : 1894 - 1896)\", \"language\": \"ms\", \"proportion\": 0.0136986301369863, \"number\": \"100\", \"language_full\": \"Malay (macrolanguage)\"}, {\"id\": \"1623\", \"title\": \"Geraldton Express and Murchison Goldfields News (WA : 1894 - 1896)\", \"language\": \"haw\", \"proportion\": 0.0410958904109589, \"number\": \"100\", \"language_full\": \"Hawaiian\"}, {\"id\": \"1623\", \"title\": \"Geraldton Express and Murchison Goldfields News (WA : 1894 - 1896)\", \"language\": \"sl\", \"proportion\": 0.0136986301369863, \"number\": \"100\", \"language_full\": \"Slovenian\"}, {\"id\": \"1623\", \"title\": \"Geraldton Express and Murchison Goldfields News (WA : 1894 - 1896)\", \"language\": \"ja\", \"proportion\": 0.0684931506849315, \"number\": \"100\", \"language_full\": \"Japanese\"}, {\"id\": \"1623\", \"title\": \"Geraldton Express and Murchison Goldfields News (WA : 1894 - 1896)\", \"language\": \"lb\", \"proportion\": 0.0136986301369863, \"number\": \"100\", \"language_full\": \"Luxembourgish\"}, {\"id\": \"1623\", \"title\": \"Geraldton Express and Murchison Goldfields News (WA : 1894 - 1896)\", \"language\": \"da\", \"proportion\": 0.0136986301369863, \"number\": \"100\", \"language_full\": \"Danish\"}, {\"id\": \"1623\", \"title\": \"Geraldton Express and Murchison Goldfields News (WA : 1894 - 1896)\", \"language\": \"bg\", \"proportion\": 0.0273972602739726, \"number\": \"100\", \"language_full\": \"Bulgarian\"}, {\"id\": \"1623\", \"title\": \"Geraldton Express and Murchison Goldfields News (WA : 1894 - 1896)\", \"language\": \"mg\", \"proportion\": 0.0273972602739726, \"number\": \"100\", \"language_full\": \"Malagasy\"}, {\"id\": \"1623\", \"title\": \"Geraldton Express and Murchison Goldfields News (WA : 1894 - 1896)\", \"language\": \"et\", \"proportion\": 0.0136986301369863, \"number\": \"100\", \"language_full\": \"Estonian\"}, {\"id\": \"1623\", \"title\": \"Geraldton Express and Murchison Goldfields News (WA : 1894 - 1896)\", \"language\": \"sm\", \"proportion\": 0.0273972602739726, \"number\": \"100\", \"language_full\": \"Samoan\"}, {\"id\": \"1625\", \"title\": \"Geraldton Murchison Telegraph (WA : 1892 - 1899)\", \"language\": \"ja\", \"proportion\": 0.010526315789473684, \"number\": \"100\", \"language_full\": \"Japanese\"}, {\"id\": \"1625\", \"title\": \"Geraldton Murchison Telegraph (WA : 1892 - 1899)\", \"language\": \"cy\", \"proportion\": 0.010526315789473684, \"number\": \"100\", \"language_full\": \"Welsh\"}, {\"id\": \"1625\", \"title\": \"Geraldton Murchison Telegraph (WA : 1892 - 1899)\", \"language\": \"mt\", \"proportion\": 0.010526315789473684, \"number\": \"100\", \"language_full\": \"Maltese\"}, {\"id\": \"1625\", \"title\": \"Geraldton Murchison Telegraph (WA : 1892 - 1899)\", \"language\": \"haw\", \"proportion\": 0.010526315789473684, \"number\": \"100\", \"language_full\": \"Hawaiian\"}, {\"id\": \"1378\", \"title\": \"Il Canguro = The Kangaroo (Perth, WA : 1955 - 1957)\", \"language\": \"en\", \"proportion\": 0.03, \"number\": \"100\", \"language_full\": \"English\"}, {\"id\": \"181\", \"title\": \"Inquirer (Perth, WA : 1840 - 1855)\", \"language\": \"mt\", \"proportion\": 0.01, \"number\": \"100\", \"language_full\": \"Maltese\"}, {\"id\": \"1386\", \"title\": \"Japanese Perth Times (Subiaco, WA : 1989 - 1996)\", \"language\": \"en\", \"proportion\": 0.041666666666666664, \"number\": \"100\", \"language_full\": \"English\"}, {\"id\": \"1386\", \"title\": \"Japanese Perth Times (Subiaco, WA : 1989 - 1996)\", \"language\": \"uz\", \"proportion\": 0.010416666666666666, \"number\": \"100\", \"language_full\": \"Uzbek\"}, {\"id\": \"1386\", \"title\": \"Japanese Perth Times (Subiaco, WA : 1989 - 1996)\", \"language\": \"fil\", \"proportion\": 0.010416666666666666, \"number\": \"100\", \"language_full\": \"Filipino\"}, {\"id\": \"1455\", \"title\": \"Kookynie Advocate and Northern Goldfields News (WA : 1903 - 1904)\", \"language\": \"ga\", \"proportion\": 0.010416666666666666, \"number\": \"100\", \"language_full\": \"Irish\"}, {\"id\": \"1632\", \"title\": \"Kulin Advocate and Dudinin-Jitarning Harrismith Recorder (WA : 1934 - 1940)\", \"language\": \"mt\", \"proportion\": 0.01020408163265306, \"number\": \"100\", \"language_full\": \"Maltese\"}, {\"id\": \"1388\", \"title\": \"La Rondine (Perth, WA : 1970 - 1974; 1983 - 1984)\", \"language\": \"en\", \"proportion\": 0.02, \"number\": \"100\", \"language_full\": \"English\"}, {\"id\": \"1537\", \"title\": \"Listening Post (Perth, WA : 1921 - 1954)\", \"language\": \"ja\", \"proportion\": 0.01, \"number\": \"100\", \"language_full\": \"Japanese\"}, {\"id\": \"1390\", \"title\": \"Mediterranean Voice (Perth, WA : 1971 - 1972)\", \"language\": \"es\", \"proportion\": 0.061224489795918366, \"number\": \"100\", \"language_full\": \"Spanish\"}, {\"id\": \"1390\", \"title\": \"Mediterranean Voice (Perth, WA : 1971 - 1972)\", \"language\": \"fr\", \"proportion\": 0.08163265306122448, \"number\": \"100\", \"language_full\": \"French\"}, {\"id\": \"1390\", \"title\": \"Mediterranean Voice (Perth, WA : 1971 - 1972)\", \"language\": \"hr\", \"proportion\": 0.04081632653061224, \"number\": \"100\", \"language_full\": \"Croatian\"}, {\"id\": \"1390\", \"title\": \"Mediterranean Voice (Perth, WA : 1971 - 1972)\", \"language\": \"tr\", \"proportion\": 0.02040816326530612, \"number\": \"100\", \"language_full\": \"Turkish\"}, {\"id\": \"1390\", \"title\": \"Mediterranean Voice (Perth, WA : 1971 - 1972)\", \"language\": \"it\", \"proportion\": 0.030612244897959183, \"number\": \"100\", \"language_full\": \"Italian\"}, {\"id\": \"1390\", \"title\": \"Mediterranean Voice (Perth, WA : 1971 - 1972)\", \"language\": \"mt\", \"proportion\": 0.02040816326530612, \"number\": \"100\", \"language_full\": \"Maltese\"}, {\"id\": \"1390\", \"title\": \"Mediterranean Voice (Perth, WA : 1971 - 1972)\", \"language\": \"bs\", \"proportion\": 0.01020408163265306, \"number\": \"100\", \"language_full\": \"Bosnian\"}, {\"id\": \"1636\", \"title\": \"Menzies Weekly Times (WA : 1897 - 1898)\", \"language\": \"ja\", \"proportion\": 0.012048192771084338, \"number\": \"100\", \"language_full\": \"Japanese\"}, {\"id\": \"1636\", \"title\": \"Menzies Weekly Times (WA : 1897 - 1898)\", \"language\": \"ca\", \"proportion\": 0.012048192771084338, \"number\": \"100\", \"language_full\": \"Catalan\"}, {\"id\": \"1636\", \"title\": \"Menzies Weekly Times (WA : 1897 - 1898)\", \"language\": \"ig\", \"proportion\": 0.012048192771084338, \"number\": \"100\", \"language_full\": \"Igbo\"}, {\"id\": \"1636\", \"title\": \"Menzies Weekly Times (WA : 1897 - 1898)\", \"language\": \"mt\", \"proportion\": 0.03614457831325301, \"number\": \"100\", \"language_full\": \"Maltese\"}, {\"id\": \"1636\", \"title\": \"Menzies Weekly Times (WA : 1897 - 1898)\", \"language\": \"no\", \"proportion\": 0.012048192771084338, \"number\": \"100\", \"language_full\": \"Norwegian\"}, {\"id\": \"1636\", \"title\": \"Menzies Weekly Times (WA : 1897 - 1898)\", \"language\": \"cy\", \"proportion\": 0.012048192771084338, \"number\": \"100\", \"language_full\": \"Welsh\"}, {\"id\": \"1543\", \"title\": \"Murchison Times and Cue-Big Bell-Reedy Advocate (WA : 1937 - 1942)\", \"language\": \"mt\", \"proportion\": 0.07142857142857142, \"number\": \"100\", \"language_full\": \"Maltese\"}, {\"id\": \"1543\", \"title\": \"Murchison Times and Cue-Big Bell-Reedy Advocate (WA : 1937 - 1942)\", \"language\": \"so\", \"proportion\": 0.023809523809523808, \"number\": \"100\", \"language_full\": \"Somali\"}, {\"id\": \"1543\", \"title\": \"Murchison Times and Cue-Big Bell-Reedy Advocate (WA : 1937 - 1942)\", \"language\": \"pt\", \"proportion\": 0.011904761904761904, \"number\": \"100\", \"language_full\": \"Portuguese\"}, {\"id\": \"736\", \"title\": \"Norseman Times (WA : 1898 - 1920)\", \"language\": \"mt\", \"proportion\": 0.01020408163265306, \"number\": \"100\", \"language_full\": \"Maltese\"}, {\"id\": \"1442\", \"title\": \"Northern Public Opinion and Mining and Pastoral News (Roebourne, WA : 1894 - 1902)\", \"language\": \"mt\", \"proportion\": 0.010526315789473684, \"number\": \"100\", \"language_full\": \"Maltese\"}, {\"id\": \"738\", \"title\": \"South Western Advertiser (Perth, WA : 1910 - 1954)\", \"language\": \"mt\", \"proportion\": 0.01, \"number\": \"100\", \"language_full\": \"Maltese\"}, {\"id\": \"1380\", \"title\": \"Stampa Italiana = The Italian Press (Perth, WA : 1931 - 1932)\", \"language\": \"en\", \"proportion\": 0.02, \"number\": \"100\", \"language_full\": \"English\"}, {\"id\": \"1380\", \"title\": \"Stampa Italiana = The Italian Press (Perth, WA : 1931 - 1932)\", \"language\": \"co\", \"proportion\": 0.01, \"number\": \"100\", \"language_full\": \"Corsican\"}, {\"id\": \"1560\", \"title\": \"The Christian Herald (Perth, WA : 1882)\", \"language\": \"mt\", \"proportion\": 0.013333333333333334, \"number\": \"75\", \"language_full\": \"Maltese\"}, {\"id\": \"275\", \"title\": \"The Daily News (Perth, WA : 1882 - 1955)\", \"language\": \"ja\", \"proportion\": 0.01, \"number\": \"100\", \"language_full\": \"Japanese\"}, {\"id\": \"1619\", \"title\": \"The Esperance Echo (Kalgoorlie, WA : 1929)\", \"language\": \"ca\", \"proportion\": 0.010416666666666666, \"number\": \"100\", \"language_full\": \"Catalan\"}, {\"id\": \"1619\", \"title\": \"The Esperance Echo (Kalgoorlie, WA : 1929)\", \"language\": \"mt\", \"proportion\": 0.010416666666666666, \"number\": \"100\", \"language_full\": \"Maltese\"}, {\"id\": \"1619\", \"title\": \"The Esperance Echo (Kalgoorlie, WA : 1929)\", \"language\": \"ja\", \"proportion\": 0.020833333333333332, \"number\": \"100\", \"language_full\": \"Japanese\"}, {\"id\": \"1626\", \"title\": \"The Goldfields Observer (Kalgoorlie, WA : 1930 - 1939)\", \"language\": \"no\", \"proportion\": 0.011235955056179775, \"number\": \"100\", \"language_full\": \"Norwegian\"}, {\"id\": \"1626\", \"title\": \"The Goldfields Observer (Kalgoorlie, WA : 1930 - 1939)\", \"language\": \"mt\", \"proportion\": 0.02247191011235955, \"number\": \"100\", \"language_full\": \"Maltese\"}, {\"id\": \"1626\", \"title\": \"The Goldfields Observer (Kalgoorlie, WA : 1930 - 1939)\", \"language\": \"ig\", \"proportion\": 0.011235955056179775, \"number\": \"100\", \"language_full\": \"Igbo\"}, {\"id\": \"1626\", \"title\": \"The Goldfields Observer (Kalgoorlie, WA : 1930 - 1939)\", \"language\": \"cy\", \"proportion\": 0.011235955056179775, \"number\": \"100\", \"language_full\": \"Welsh\"}, {\"id\": \"1626\", \"title\": \"The Goldfields Observer (Kalgoorlie, WA : 1930 - 1939)\", \"language\": \"haw\", \"proportion\": 0.011235955056179775, \"number\": \"100\", \"language_full\": \"Hawaiian\"}, {\"id\": \"1626\", \"title\": \"The Goldfields Observer (Kalgoorlie, WA : 1930 - 1939)\", \"language\": \"so\", \"proportion\": 0.011235955056179775, \"number\": \"100\", \"language_full\": \"Somali\"}, {\"id\": \"1277\", \"title\": \"The Menzies Miner (WA : 1896 - 1901)\", \"language\": \"mt\", \"proportion\": 0.010309278350515464, \"number\": \"100\", \"language_full\": \"Maltese\"}, {\"id\": \"1638\", \"title\": \"The Miner's Right (Boulder, WA : 1897)\", \"language\": \"co\", \"proportion\": 0.01020408163265306, \"number\": \"100\", \"language_full\": \"Corsican\"}, {\"id\": \"1638\", \"title\": \"The Miner's Right (Boulder, WA : 1897)\", \"language\": \"mt\", \"proportion\": 0.061224489795918366, \"number\": \"100\", \"language_full\": \"Maltese\"}, {\"id\": \"1638\", \"title\": \"The Miner's Right (Boulder, WA : 1897)\", \"language\": \"da\", \"proportion\": 0.02040816326530612, \"number\": \"100\", \"language_full\": \"Danish\"}, {\"id\": \"1729\", \"title\": \"The Miner's Right (Perth, WA : 1894)\", \"language\": \"ja\", \"proportion\": 0.010526315789473684, \"number\": \"100\", \"language_full\": \"Japanese\"}, {\"id\": \"1640\", \"title\": \"The Mount Magnet Leader and Youanmi Miner (WA : 1935 - 1947)\", \"language\": \"mt\", \"proportion\": 0.01, \"number\": \"100\", \"language_full\": \"Maltese\"}, {\"id\": \"1278\", \"title\": \"The Mt. Leonora Miner (WA : 1899 - 1910)\", \"language\": \"mt\", \"proportion\": 0.01, \"number\": \"100\", \"language_full\": \"Maltese\"}, {\"id\": \"1546\", \"title\": \"The Phillips River Times (Ravensthorpe, WA : 1908 - 1911)\", \"language\": \"mt\", \"proportion\": 0.04081632653061224, \"number\": \"100\", \"language_full\": \"Maltese\"}, {\"id\": \"1662\", \"title\": \"The Southern Sentinel (Mount Barker, WA : 1934 - 1954)\", \"language\": \"ht\", \"proportion\": 0.010638297872340425, \"number\": \"100\", \"language_full\": \"Haitian\"}, {\"id\": \"1662\", \"title\": \"The Southern Sentinel (Mount Barker, WA : 1934 - 1954)\", \"language\": \"it\", \"proportion\": 0.010638297872340425, \"number\": \"100\", \"language_full\": \"Italian\"}, {\"id\": \"1662\", \"title\": \"The Southern Sentinel (Mount Barker, WA : 1934 - 1954)\", \"language\": \"haw\", \"proportion\": 0.02127659574468085, \"number\": \"100\", \"language_full\": \"Hawaiian\"}, {\"id\": \"1662\", \"title\": \"The Southern Sentinel (Mount Barker, WA : 1934 - 1954)\", \"language\": \"ja\", \"proportion\": 0.010638297872340425, \"number\": \"100\", \"language_full\": \"Japanese\"}, {\"id\": \"1550\", \"title\": \"The Swan and Canning Leader (Victoria Park, WA : 1928 - 1929)\", \"language\": \"mt\", \"proportion\": 0.01, \"number\": \"100\", \"language_full\": \"Maltese\"}, {\"id\": \"1562\", \"title\": \"The Swan, Helena Vale and Guildford Advertiser (WA : 1897)\", \"language\": \"mt\", \"proportion\": 0.020618556701030927, \"number\": \"100\", \"language_full\": \"Maltese\"}, {\"id\": \"1381\", \"title\": \"The Voice of Freedom = Elefthera Phoni (Perth, WA : 1956 - 1957)\", \"language\": \"en\", \"proportion\": 0.02, \"number\": \"100\", \"language_full\": \"English\"}, {\"id\": \"30\", \"title\": \"The West Australian (Perth, WA : 1879 - 1954)\", \"language\": \"mt\", \"proportion\": 0.01, \"number\": \"100\", \"language_full\": \"Maltese\"}, {\"id\": \"1687\", \"title\": \"The Westralian Judean (Perth, WA : 1924 - 1925; 1929 - 1955)\", \"language\": \"mt\", \"proportion\": 0.01, \"number\": \"100\", \"language_full\": \"Maltese\"}, {\"id\": \"1382\", \"title\": \"Vesnik (Perth, WA : 1975 - 1994)\", \"language\": \"mt\", \"proportion\": 0.01020408163265306, \"number\": \"100\", \"language_full\": \"Maltese\"}]}}, {\"mode\": \"vega-lite\"});\n",
       "</script>"
      ],
      "text/plain": [
       "alt.Chart(...)"
      ]
     },
     "execution_count": 11,
     "metadata": {},
     "output_type": "execute_result"
    }
   ],
   "source": [
    "alt.Chart(df.loc[df[\"proportion\"] < 0.1]).mark_bar().encode(\n",
    "    x=alt.X(\"proportion:Q\", bin=True), y=\"count():Q\"\n",
    ")"
   ]
  },
  {
   "cell_type": "markdown",
   "metadata": {},
   "source": [
    "Let's be fairly conservative and filter out languages that have a proportion (per newspaper) less than 0.5. This list seems a bit more in line with what we would expect, but there are still some surprises – 34 newspapers published articles in Maltese?"
   ]
  },
  {
   "cell_type": "code",
   "execution_count": 12,
   "metadata": {},
   "outputs": [
    {
     "data": {
      "text/plain": [
       "English                  1670\n",
       "Maltese                    33\n",
       "Italian                    15\n",
       "German                      9\n",
       "Chinese                     8\n",
       "Somali                      5\n",
       "Modern Greek (1453-)        4\n",
       "Japanese                    3\n",
       "Portuguese                  3\n",
       "Yiddish                     3\n",
       "French                      3\n",
       "Polish                      3\n",
       "Western Frisian             2\n",
       "Dutch                       2\n",
       "Malay (macrolanguage)       1\n",
       "Lithuanian                  1\n",
       "Ukrainian                   1\n",
       "Estonian                    1\n",
       "Indonesian                  1\n",
       "Vietnamese                  1\n",
       "Danish                      1\n",
       "Swedish                     1\n",
       "Bosnian                     1\n",
       "Russian                     1\n",
       "Scottish Gaelic             1\n",
       "Welsh                       1\n",
       "Spanish                     1\n",
       "Corsican                    1\n",
       "Macedonian                  1\n",
       "Bulgarian                   1\n",
       "Name: language_full, dtype: int64"
      ]
     },
     "execution_count": 12,
     "metadata": {},
     "output_type": "execute_result"
    }
   ],
   "source": [
    "df.loc[df[\"proportion\"] >= 0.05][\"language_full\"].value_counts()"
   ]
  },
  {
   "cell_type": "markdown",
   "metadata": {},
   "source": [
    "If we focus in on the newspapers that supposedly have a significant proportion of articles in Maltese, we see some very strange results. I seriously doubt that 80% of the *Mildura Irrigationist* from 1892-3 is in Maltese. So what's going on?"
   ]
  },
  {
   "cell_type": "code",
   "execution_count": 13,
   "metadata": {},
   "outputs": [
    {
     "data": {
      "text/html": [
       "<div>\n",
       "<style scoped>\n",
       "    .dataframe tbody tr th:only-of-type {\n",
       "        vertical-align: middle;\n",
       "    }\n",
       "\n",
       "    .dataframe tbody tr th {\n",
       "        vertical-align: top;\n",
       "    }\n",
       "\n",
       "    .dataframe thead th {\n",
       "        text-align: right;\n",
       "    }\n",
       "</style>\n",
       "<table border=\"1\" class=\"dataframe\">\n",
       "  <thead>\n",
       "    <tr style=\"text-align: right;\">\n",
       "      <th></th>\n",
       "      <th>id</th>\n",
       "      <th>title</th>\n",
       "      <th>language</th>\n",
       "      <th>proportion</th>\n",
       "      <th>number</th>\n",
       "      <th>language_full</th>\n",
       "    </tr>\n",
       "  </thead>\n",
       "  <tbody>\n",
       "    <tr>\n",
       "      <th>203</th>\n",
       "      <td>1596</td>\n",
       "      <td>L'Italo-Australiano = The Italo-Australian (Su...</td>\n",
       "      <td>mt</td>\n",
       "      <td>0.206349</td>\n",
       "      <td>100</td>\n",
       "      <td>Maltese</td>\n",
       "    </tr>\n",
       "    <tr>\n",
       "      <th>270</th>\n",
       "      <td>389</td>\n",
       "      <td>Reporter and Illawarra Journal (Kiama, NSW : 1...</td>\n",
       "      <td>mt</td>\n",
       "      <td>0.105882</td>\n",
       "      <td>100</td>\n",
       "      <td>Maltese</td>\n",
       "    </tr>\n",
       "    <tr>\n",
       "      <th>286</th>\n",
       "      <td>418</td>\n",
       "      <td>Southern Morning Herald (Goulburn, NSW : 1920 ...</td>\n",
       "      <td>mt</td>\n",
       "      <td>0.146667</td>\n",
       "      <td>100</td>\n",
       "      <td>Maltese</td>\n",
       "    </tr>\n",
       "    <tr>\n",
       "      <th>289</th>\n",
       "      <td>623</td>\n",
       "      <td>Sunday News (Sydney, NSW : 1919)</td>\n",
       "      <td>mt</td>\n",
       "      <td>0.181818</td>\n",
       "      <td>100</td>\n",
       "      <td>Maltese</td>\n",
       "    </tr>\n",
       "    <tr>\n",
       "      <th>530</th>\n",
       "      <td>500</td>\n",
       "      <td>The Richmond River Express and Casino Kyogle A...</td>\n",
       "      <td>mt</td>\n",
       "      <td>0.126437</td>\n",
       "      <td>100</td>\n",
       "      <td>Maltese</td>\n",
       "    </tr>\n",
       "    <tr>\n",
       "      <th>654</th>\n",
       "      <td>810</td>\n",
       "      <td>Upper Hunter Courier (Murrurundi, NSW : 1871)</td>\n",
       "      <td>mt</td>\n",
       "      <td>0.142857</td>\n",
       "      <td>14</td>\n",
       "      <td>Maltese</td>\n",
       "    </tr>\n",
       "    <tr>\n",
       "      <th>812</th>\n",
       "      <td>892</td>\n",
       "      <td>Warwick Daily News (Qld. : 1919 -1954)</td>\n",
       "      <td>mt</td>\n",
       "      <td>0.111111</td>\n",
       "      <td>100</td>\n",
       "      <td>Maltese</td>\n",
       "    </tr>\n",
       "    <tr>\n",
       "      <th>928</th>\n",
       "      <td>34</td>\n",
       "      <td>The Advertiser (Adelaide, SA : 1889 - 1931)</td>\n",
       "      <td>mt</td>\n",
       "      <td>0.486111</td>\n",
       "      <td>100</td>\n",
       "      <td>Maltese</td>\n",
       "    </tr>\n",
       "    <tr>\n",
       "      <th>1205</th>\n",
       "      <td>543</td>\n",
       "      <td>Cobden Times (Vic. : 1918)</td>\n",
       "      <td>mt</td>\n",
       "      <td>0.109890</td>\n",
       "      <td>100</td>\n",
       "      <td>Maltese</td>\n",
       "    </tr>\n",
       "    <tr>\n",
       "      <th>1375</th>\n",
       "      <td>384</td>\n",
       "      <td>North Melbourne Gazette (Vic. : 1894 - 1901)</td>\n",
       "      <td>mt</td>\n",
       "      <td>0.189873</td>\n",
       "      <td>100</td>\n",
       "      <td>Maltese</td>\n",
       "    </tr>\n",
       "    <tr>\n",
       "      <th>1431</th>\n",
       "      <td>318</td>\n",
       "      <td>Sandringham Southern Cross (Vic. : 1914 - 1918)</td>\n",
       "      <td>mt</td>\n",
       "      <td>0.243902</td>\n",
       "      <td>100</td>\n",
       "      <td>Maltese</td>\n",
       "    </tr>\n",
       "    <tr>\n",
       "      <th>1565</th>\n",
       "      <td>1583</td>\n",
       "      <td>The Mildura Irrigationist (Vic. : 1892 - 1893)</td>\n",
       "      <td>mt</td>\n",
       "      <td>0.762500</td>\n",
       "      <td>100</td>\n",
       "      <td>Maltese</td>\n",
       "    </tr>\n",
       "    <tr>\n",
       "      <th>1568</th>\n",
       "      <td>1581</td>\n",
       "      <td>The Mildura Irrigationist and Murray River Agr...</td>\n",
       "      <td>mt</td>\n",
       "      <td>0.626667</td>\n",
       "      <td>100</td>\n",
       "      <td>Maltese</td>\n",
       "    </tr>\n",
       "    <tr>\n",
       "      <th>1577</th>\n",
       "      <td>1733</td>\n",
       "      <td>The Morwell Advocate and Boolara and Mirboo Ch...</td>\n",
       "      <td>mt</td>\n",
       "      <td>0.625000</td>\n",
       "      <td>21</td>\n",
       "      <td>Maltese</td>\n",
       "    </tr>\n",
       "    <tr>\n",
       "      <th>1580</th>\n",
       "      <td>1734</td>\n",
       "      <td>The Morwell Advocate and Narracan, Boolara and...</td>\n",
       "      <td>mt</td>\n",
       "      <td>0.170732</td>\n",
       "      <td>100</td>\n",
       "      <td>Maltese</td>\n",
       "    </tr>\n",
       "    <tr>\n",
       "      <th>1927</th>\n",
       "      <td>1617</td>\n",
       "      <td>The Derby News (WA : 1887)</td>\n",
       "      <td>mt</td>\n",
       "      <td>0.750000</td>\n",
       "      <td>5</td>\n",
       "      <td>Maltese</td>\n",
       "    </tr>\n",
       "  </tbody>\n",
       "</table>\n",
       "</div>"
      ],
      "text/plain": [
       "        id                                              title language  \\\n",
       "203   1596  L'Italo-Australiano = The Italo-Australian (Su...       mt   \n",
       "270    389  Reporter and Illawarra Journal (Kiama, NSW : 1...       mt   \n",
       "286    418  Southern Morning Herald (Goulburn, NSW : 1920 ...       mt   \n",
       "289    623                   Sunday News (Sydney, NSW : 1919)       mt   \n",
       "530    500  The Richmond River Express and Casino Kyogle A...       mt   \n",
       "654    810      Upper Hunter Courier (Murrurundi, NSW : 1871)       mt   \n",
       "812    892             Warwick Daily News (Qld. : 1919 -1954)       mt   \n",
       "928     34        The Advertiser (Adelaide, SA : 1889 - 1931)       mt   \n",
       "1205   543                         Cobden Times (Vic. : 1918)       mt   \n",
       "1375   384       North Melbourne Gazette (Vic. : 1894 - 1901)       mt   \n",
       "1431   318    Sandringham Southern Cross (Vic. : 1914 - 1918)       mt   \n",
       "1565  1583     The Mildura Irrigationist (Vic. : 1892 - 1893)       mt   \n",
       "1568  1581  The Mildura Irrigationist and Murray River Agr...       mt   \n",
       "1577  1733  The Morwell Advocate and Boolara and Mirboo Ch...       mt   \n",
       "1580  1734  The Morwell Advocate and Narracan, Boolara and...       mt   \n",
       "1927  1617                         The Derby News (WA : 1887)       mt   \n",
       "\n",
       "      proportion number language_full  \n",
       "203     0.206349    100       Maltese  \n",
       "270     0.105882    100       Maltese  \n",
       "286     0.146667    100       Maltese  \n",
       "289     0.181818    100       Maltese  \n",
       "530     0.126437    100       Maltese  \n",
       "654     0.142857     14       Maltese  \n",
       "812     0.111111    100       Maltese  \n",
       "928     0.486111    100       Maltese  \n",
       "1205    0.109890    100       Maltese  \n",
       "1375    0.189873    100       Maltese  \n",
       "1431    0.243902    100       Maltese  \n",
       "1565    0.762500    100       Maltese  \n",
       "1568    0.626667    100       Maltese  \n",
       "1577    0.625000     21       Maltese  \n",
       "1580    0.170732    100       Maltese  \n",
       "1927    0.750000      5       Maltese  "
      ]
     },
     "execution_count": 13,
     "metadata": {},
     "output_type": "execute_result"
    }
   ],
   "source": [
    "df.loc[(df[\"proportion\"] > 0.1) & (df[\"language_full\"] == \"Maltese\")]"
   ]
  },
  {
   "cell_type": "markdown",
   "metadata": {},
   "source": [
    "If you look at results for the *Mildura Irrigationist* [in Trove](https://trove.nla.gov.au/search/advanced/category/newspapers?l-advtitle=1583&l-advWord=100%20-%201000%20Words) you'll see that many of the page images are blurry, and as a result the OCR is very, very bad. Here's a sample:\n",
    "\n",
    "> ill Tatr W lyltwililUmt aat aa«v aa MwOkaWtOPMlkMrf faiflftMMRltitlWBfMNM fmiMW^M^K IMIOHIpM^fQBMMI ft tWMmrwl tWWiltjfNMStW ffw aailwt«M wtMitiar«lH*a ifcmH af tlw ial«««l ion «M««f ffantoif wwtMaaM. tto tf h «frwringmhw torf M hr toaiy. Im*4. ar, fc> mmirf awlUW wefllaM aA. aaytMaa. l «Wa A tfc» tow waliw Macks b aaM, b wil fVfbH Ja ^IMntaam* Mm' ls tolliac. rt Tto aad nf ttoar UhKMimiw*a afM» ftjrwl ans W l OtfWOar jpaaofTwSi aJwwr la'aahS^*— attor aakwt mm rvfimMiMh* ttoai. day - Why. aa IH thrf t«fl almd yaa.\"iw. aal wwifciha m OiO all tto laM amnavaA, fawawNl I r aa4 f wa* tm enr a Mtcfc tto watrr tto wiaaal m a* a* day pfaMat. aa4 (h* ilj amintir* ilm tTtsjtvL.f**' \"\"j •fria—lhati* tow ««4M k.\" tlml t | r 4m» wtn .aa rUa* I h ha«« t ctoantaf InMM* aM*toclt ttopnaMaf II It la Mat rtgM, t jmi awl a 1 : af but d awtliqg a Mr. Jafc Matwa-(MMa M t «wl y gha yaar «toa anl yaar (ma as «fpai ta af <M>t«l. i pwwiaf Mtan (tot jw. twy MwUI «*a1 a«ry ftajr «ndl tar tlw aad annaH* a*«r aarf a««r aaria. tiaa"
   ]
  },
  {
   "cell_type": "markdown",
   "metadata": {},
   "source": [
    "What happens when we feed this fragment of bad OCR to the language detector? Remarkably, the language detector is 96% sure that it's Maltese! To find out why this is the case, we'd probably have to dig into the way the language detection model was trained. But for our purposes it's enough to know that some of the languages detected seem to be the result of bad OCR."
   ]
  },
  {
   "cell_type": "code",
   "execution_count": 14,
   "metadata": {},
   "outputs": [
    {
     "data": {
      "text/plain": [
       "LanguagePrediction(language='mt', probability=0.960280179977417, is_reliable=True, proportion=1.0)"
      ]
     },
     "execution_count": 14,
     "metadata": {},
     "output_type": "execute_result"
    }
   ],
   "source": [
    "ocr = \"\"\"ill Tatr W lyltwililUmt aat aa«v aa MwOkaWtOPMlkMrf faiflftMMRltitlWBfMNM fmiMW^M^K IMIOHIpM^fQBMMI ft tWMmrwl tWWiltjfNMStW ffw aailwt«M wtMitiar«lH*a ifcmH af tlw ial«««l ion «M««f ffantoif wwtMaaM. tto tf h «frwringmhw torf M hr toaiy. Im*4. ar, fc> mmirf awlUW wefllaM aA. aaytMaa. l «Wa A tfc» tow waliw Macks b aaM, b wil fVfbH Ja ^IMntaam* Mm' ls tolliac. rt Tto aad nf ttoar UhKMimiw*a afM» ftjrwl ans W l OtfWOar jpaaofTwSi aJwwr la'aahS^*— attor aakwt mm rvfimMiMh* ttoai. day - Why. aa IH thrf t«fl almd yaa.\"iw. aal wwifciha m OiO all tto laM amnavaA, fawawNl I r aa4 f wa* tm enr a Mtcfc tto watrr tto wiaaal m a* a* day pfaMat. aa4 (h* ilj amintir* ilm tTtsjtvL.f**' \"\"j •fria—lhati* tow ««4M k.\" tlml t | r 4m» wtn .aa rUa* I h ha«« t ctoantaf InMM* aM*toclt ttopnaMaf II It la Mat rtgM, t jmi awl a 1 : af but d awtliqg a Mr. Jafc Matwa-(MMa M t «wl y gha yaar «toa anl yaar (ma as «fpai ta af <M>t«l. i pwwiaf Mtan (tot jw. twy MwUI «*a1 a«ry ftajr «ndl tar tlw aad annaH* a*«r aarf a««r aaria. tiaa\"\"\"\n",
    "cld3.get_language(ocr)"
   ]
  },
  {
   "cell_type": "markdown",
   "metadata": {},
   "source": [
    "Of course there might actually be newspapers with articles in Maltese, so we don't want to filter them all out. So let's do some manual inspection of the newspapers that *seem* to have non-English content. First we'll filter our results to include only languages with proportions of more than 0.05, and then drop out newspapers that seem to be only in English. We end up with 89 different titles. "
   ]
  },
  {
   "cell_type": "code",
   "execution_count": 15,
   "metadata": {},
   "outputs": [
    {
     "data": {
      "text/plain": [
       "89"
      ]
     },
     "execution_count": 15,
     "metadata": {},
     "output_type": "execute_result"
    }
   ],
   "source": [
    "# The filter on the groupby drops out newspapers that only have articles in English.\n",
    "filtered = (\n",
    "    df.loc[df[\"proportion\"] >= 0.05]\n",
    "    .groupby(by=[\"title\", \"id\"])\n",
    "    .filter(lambda x: (len(x) > 1) or (len(x) == 1 and x[\"language\"] != \"en\"))\n",
    ")\n",
    "papers = filtered.groupby(by=[\"title\", \"id\"])\n",
    "len(papers)"
   ]
  },
  {
   "cell_type": "markdown",
   "metadata": {},
   "source": [
    "Let's list those 89 newspapers. From the list below, I think it's pretty easy to pick out the results that are likely to be the product of bad OCR."
   ]
  },
  {
   "cell_type": "code",
   "execution_count": 16,
   "metadata": {},
   "outputs": [
    {
     "name": "stdout",
     "output_type": "stream",
     "text": [
      "\n",
      "A Voz de Timor (Dili, East Timor : 1970 - 1975) (1498)\n"
     ]
    },
    {
     "data": {
      "text/html": [
       "<div>\n",
       "<style scoped>\n",
       "    .dataframe tbody tr th:only-of-type {\n",
       "        vertical-align: middle;\n",
       "    }\n",
       "\n",
       "    .dataframe tbody tr th {\n",
       "        vertical-align: top;\n",
       "    }\n",
       "\n",
       "    .dataframe thead th {\n",
       "        text-align: right;\n",
       "    }\n",
       "</style>\n",
       "<table border=\"1\" class=\"dataframe\">\n",
       "  <thead>\n",
       "    <tr style=\"text-align: right;\">\n",
       "      <th></th>\n",
       "      <th>language_full</th>\n",
       "      <th>language</th>\n",
       "      <th>proportion</th>\n",
       "    </tr>\n",
       "  </thead>\n",
       "  <tbody>\n",
       "    <tr>\n",
       "      <th>8</th>\n",
       "      <td>Portuguese</td>\n",
       "      <td>pt</td>\n",
       "      <td>0.988889</td>\n",
       "    </tr>\n",
       "  </tbody>\n",
       "</table>\n",
       "</div>"
      ],
      "text/plain": [
       "  language_full language  proportion\n",
       "8    Portuguese       pt    0.988889"
      ]
     },
     "metadata": {},
     "output_type": "display_data"
    },
    {
     "name": "stdout",
     "output_type": "stream",
     "text": [
      "\n",
      "Adelaider Deutsche Zeitung (SA : 1851 - 1862) (277)\n"
     ]
    },
    {
     "data": {
      "text/html": [
       "<div>\n",
       "<style scoped>\n",
       "    .dataframe tbody tr th:only-of-type {\n",
       "        vertical-align: middle;\n",
       "    }\n",
       "\n",
       "    .dataframe tbody tr th {\n",
       "        vertical-align: top;\n",
       "    }\n",
       "\n",
       "    .dataframe thead th {\n",
       "        text-align: right;\n",
       "    }\n",
       "</style>\n",
       "<table border=\"1\" class=\"dataframe\">\n",
       "  <thead>\n",
       "    <tr style=\"text-align: right;\">\n",
       "      <th></th>\n",
       "      <th>language_full</th>\n",
       "      <th>language</th>\n",
       "      <th>proportion</th>\n",
       "    </tr>\n",
       "  </thead>\n",
       "  <tbody>\n",
       "    <tr>\n",
       "      <th>828</th>\n",
       "      <td>German</td>\n",
       "      <td>de</td>\n",
       "      <td>1.0</td>\n",
       "    </tr>\n",
       "  </tbody>\n",
       "</table>\n",
       "</div>"
      ],
      "text/plain": [
       "    language_full language  proportion\n",
       "828        German       de         1.0"
      ]
     },
     "metadata": {},
     "output_type": "display_data"
    },
    {
     "name": "stdout",
     "output_type": "stream",
     "text": [
      "\n",
      "Auburn and District News (NSW : 1929) (1320)\n"
     ]
    },
    {
     "data": {
      "text/html": [
       "<div>\n",
       "<style scoped>\n",
       "    .dataframe tbody tr th:only-of-type {\n",
       "        vertical-align: middle;\n",
       "    }\n",
       "\n",
       "    .dataframe tbody tr th {\n",
       "        vertical-align: top;\n",
       "    }\n",
       "\n",
       "    .dataframe thead th {\n",
       "        text-align: right;\n",
       "    }\n",
       "</style>\n",
       "<table border=\"1\" class=\"dataframe\">\n",
       "  <thead>\n",
       "    <tr style=\"text-align: right;\">\n",
       "      <th></th>\n",
       "      <th>language_full</th>\n",
       "      <th>language</th>\n",
       "      <th>proportion</th>\n",
       "    </tr>\n",
       "  </thead>\n",
       "  <tbody>\n",
       "    <tr>\n",
       "      <th>43</th>\n",
       "      <td>English</td>\n",
       "      <td>en</td>\n",
       "      <td>0.947368</td>\n",
       "    </tr>\n",
       "    <tr>\n",
       "      <th>44</th>\n",
       "      <td>Vietnamese</td>\n",
       "      <td>vi</td>\n",
       "      <td>0.052632</td>\n",
       "    </tr>\n",
       "  </tbody>\n",
       "</table>\n",
       "</div>"
      ],
      "text/plain": [
       "   language_full language  proportion\n",
       "43       English       en    0.947368\n",
       "44    Vietnamese       vi    0.052632"
      ]
     },
     "metadata": {},
     "output_type": "display_data"
    },
    {
     "name": "stdout",
     "output_type": "stream",
     "text": [
      "\n",
      "Australier Leben = Australian Life (Melbourne, Vic. : 1931 - 1933) (1686)\n"
     ]
    },
    {
     "data": {
      "text/html": [
       "<div>\n",
       "<style scoped>\n",
       "    .dataframe tbody tr th:only-of-type {\n",
       "        vertical-align: middle;\n",
       "    }\n",
       "\n",
       "    .dataframe tbody tr th {\n",
       "        vertical-align: top;\n",
       "    }\n",
       "\n",
       "    .dataframe thead th {\n",
       "        text-align: right;\n",
       "    }\n",
       "</style>\n",
       "<table border=\"1\" class=\"dataframe\">\n",
       "  <thead>\n",
       "    <tr style=\"text-align: right;\">\n",
       "      <th></th>\n",
       "      <th>language_full</th>\n",
       "      <th>language</th>\n",
       "      <th>proportion</th>\n",
       "    </tr>\n",
       "  </thead>\n",
       "  <tbody>\n",
       "    <tr>\n",
       "      <th>1158</th>\n",
       "      <td>Yiddish</td>\n",
       "      <td>yi</td>\n",
       "      <td>1.0</td>\n",
       "    </tr>\n",
       "  </tbody>\n",
       "</table>\n",
       "</div>"
      ],
      "text/plain": [
       "     language_full language  proportion\n",
       "1158       Yiddish       yi         1.0"
      ]
     },
     "metadata": {},
     "output_type": "display_data"
    },
    {
     "name": "stdout",
     "output_type": "stream",
     "text": [
      "\n",
      "Australische Zeitung (Adelaide, SA : 1875 - 1916) (1150)\n"
     ]
    },
    {
     "data": {
      "text/html": [
       "<div>\n",
       "<style scoped>\n",
       "    .dataframe tbody tr th:only-of-type {\n",
       "        vertical-align: middle;\n",
       "    }\n",
       "\n",
       "    .dataframe tbody tr th {\n",
       "        vertical-align: top;\n",
       "    }\n",
       "\n",
       "    .dataframe thead th {\n",
       "        text-align: right;\n",
       "    }\n",
       "</style>\n",
       "<table border=\"1\" class=\"dataframe\">\n",
       "  <thead>\n",
       "    <tr style=\"text-align: right;\">\n",
       "      <th></th>\n",
       "      <th>language_full</th>\n",
       "      <th>language</th>\n",
       "      <th>proportion</th>\n",
       "    </tr>\n",
       "  </thead>\n",
       "  <tbody>\n",
       "    <tr>\n",
       "      <th>832</th>\n",
       "      <td>German</td>\n",
       "      <td>de</td>\n",
       "      <td>1.0</td>\n",
       "    </tr>\n",
       "  </tbody>\n",
       "</table>\n",
       "</div>"
      ],
      "text/plain": [
       "    language_full language  proportion\n",
       "832        German       de         1.0"
      ]
     },
     "metadata": {},
     "output_type": "display_data"
    },
    {
     "name": "stdout",
     "output_type": "stream",
     "text": [
      "\n",
      "Berita Repoeblik (Djakarta, Indonesia : 1945 - 1946) (1283)\n"
     ]
    },
    {
     "data": {
      "text/html": [
       "<div>\n",
       "<style scoped>\n",
       "    .dataframe tbody tr th:only-of-type {\n",
       "        vertical-align: middle;\n",
       "    }\n",
       "\n",
       "    .dataframe tbody tr th {\n",
       "        vertical-align: top;\n",
       "    }\n",
       "\n",
       "    .dataframe thead th {\n",
       "        text-align: right;\n",
       "    }\n",
       "</style>\n",
       "<table border=\"1\" class=\"dataframe\">\n",
       "  <thead>\n",
       "    <tr style=\"text-align: right;\">\n",
       "      <th></th>\n",
       "      <th>language_full</th>\n",
       "      <th>language</th>\n",
       "      <th>proportion</th>\n",
       "    </tr>\n",
       "  </thead>\n",
       "  <tbody>\n",
       "    <tr>\n",
       "      <th>14</th>\n",
       "      <td>Malay (macrolanguage)</td>\n",
       "      <td>ms</td>\n",
       "      <td>0.891304</td>\n",
       "    </tr>\n",
       "    <tr>\n",
       "      <th>15</th>\n",
       "      <td>Indonesian</td>\n",
       "      <td>id</td>\n",
       "      <td>0.108696</td>\n",
       "    </tr>\n",
       "  </tbody>\n",
       "</table>\n",
       "</div>"
      ],
      "text/plain": [
       "            language_full language  proportion\n",
       "14  Malay (macrolanguage)       ms    0.891304\n",
       "15             Indonesian       id    0.108696"
      ]
     },
     "metadata": {},
     "output_type": "display_data"
    },
    {
     "name": "stdout",
     "output_type": "stream",
     "text": [
      "\n",
      "Chinese Republic News (Sydney, NSW : 1914 - 1937) (1186)\n"
     ]
    },
    {
     "data": {
      "text/html": [
       "<div>\n",
       "<style scoped>\n",
       "    .dataframe tbody tr th:only-of-type {\n",
       "        vertical-align: middle;\n",
       "    }\n",
       "\n",
       "    .dataframe tbody tr th {\n",
       "        vertical-align: top;\n",
       "    }\n",
       "\n",
       "    .dataframe thead th {\n",
       "        text-align: right;\n",
       "    }\n",
       "</style>\n",
       "<table border=\"1\" class=\"dataframe\">\n",
       "  <thead>\n",
       "    <tr style=\"text-align: right;\">\n",
       "      <th></th>\n",
       "      <th>language_full</th>\n",
       "      <th>language</th>\n",
       "      <th>proportion</th>\n",
       "    </tr>\n",
       "  </thead>\n",
       "  <tbody>\n",
       "    <tr>\n",
       "      <th>83</th>\n",
       "      <td>Chinese</td>\n",
       "      <td>zh</td>\n",
       "      <td>0.928571</td>\n",
       "    </tr>\n",
       "  </tbody>\n",
       "</table>\n",
       "</div>"
      ],
      "text/plain": [
       "   language_full language  proportion\n",
       "83       Chinese       zh    0.928571"
      ]
     },
     "metadata": {},
     "output_type": "display_data"
    },
    {
     "name": "stdout",
     "output_type": "stream",
     "text": [
      "\n",
      "Chinese Times (Melbourne, Vic. : 1902 - 1922) (705)\n"
     ]
    },
    {
     "data": {
      "text/html": [
       "<div>\n",
       "<style scoped>\n",
       "    .dataframe tbody tr th:only-of-type {\n",
       "        vertical-align: middle;\n",
       "    }\n",
       "\n",
       "    .dataframe tbody tr th {\n",
       "        vertical-align: top;\n",
       "    }\n",
       "\n",
       "    .dataframe thead th {\n",
       "        text-align: right;\n",
       "    }\n",
       "</style>\n",
       "<table border=\"1\" class=\"dataframe\">\n",
       "  <thead>\n",
       "    <tr style=\"text-align: right;\">\n",
       "      <th></th>\n",
       "      <th>language_full</th>\n",
       "      <th>language</th>\n",
       "      <th>proportion</th>\n",
       "    </tr>\n",
       "  </thead>\n",
       "  <tbody>\n",
       "    <tr>\n",
       "      <th>1194</th>\n",
       "      <td>Chinese</td>\n",
       "      <td>zh</td>\n",
       "      <td>0.918367</td>\n",
       "    </tr>\n",
       "  </tbody>\n",
       "</table>\n",
       "</div>"
      ],
      "text/plain": [
       "     language_full language  proportion\n",
       "1194       Chinese       zh    0.918367"
      ]
     },
     "metadata": {},
     "output_type": "display_data"
    },
    {
     "name": "stdout",
     "output_type": "stream",
     "text": [
      "\n",
      "Chronicle and North Coast Advertiser (Qld. : 1903 - 1922) (286)\n"
     ]
    },
    {
     "data": {
      "text/html": [
       "<div>\n",
       "<style scoped>\n",
       "    .dataframe tbody tr th:only-of-type {\n",
       "        vertical-align: middle;\n",
       "    }\n",
       "\n",
       "    .dataframe tbody tr th {\n",
       "        vertical-align: top;\n",
       "    }\n",
       "\n",
       "    .dataframe thead th {\n",
       "        text-align: right;\n",
       "    }\n",
       "</style>\n",
       "<table border=\"1\" class=\"dataframe\">\n",
       "  <thead>\n",
       "    <tr style=\"text-align: right;\">\n",
       "      <th></th>\n",
       "      <th>language_full</th>\n",
       "      <th>language</th>\n",
       "      <th>proportion</th>\n",
       "    </tr>\n",
       "  </thead>\n",
       "  <tbody>\n",
       "    <tr>\n",
       "      <th>695</th>\n",
       "      <td>English</td>\n",
       "      <td>en</td>\n",
       "      <td>0.94898</td>\n",
       "    </tr>\n",
       "    <tr>\n",
       "      <th>696</th>\n",
       "      <td>Maltese</td>\n",
       "      <td>mt</td>\n",
       "      <td>0.05102</td>\n",
       "    </tr>\n",
       "  </tbody>\n",
       "</table>\n",
       "</div>"
      ],
      "text/plain": [
       "    language_full language  proportion\n",
       "695       English       en     0.94898\n",
       "696       Maltese       mt     0.05102"
      ]
     },
     "metadata": {},
     "output_type": "display_data"
    },
    {
     "name": "stdout",
     "output_type": "stream",
     "text": [
      "\n",
      "Chung Wah News (Perth, WA : 1981 - 1987) (1383)\n"
     ]
    },
    {
     "data": {
      "text/html": [
       "<div>\n",
       "<style scoped>\n",
       "    .dataframe tbody tr th:only-of-type {\n",
       "        vertical-align: middle;\n",
       "    }\n",
       "\n",
       "    .dataframe tbody tr th {\n",
       "        vertical-align: top;\n",
       "    }\n",
       "\n",
       "    .dataframe thead th {\n",
       "        text-align: right;\n",
       "    }\n",
       "</style>\n",
       "<table border=\"1\" class=\"dataframe\">\n",
       "  <thead>\n",
       "    <tr style=\"text-align: right;\">\n",
       "      <th></th>\n",
       "      <th>language_full</th>\n",
       "      <th>language</th>\n",
       "      <th>proportion</th>\n",
       "    </tr>\n",
       "  </thead>\n",
       "  <tbody>\n",
       "    <tr>\n",
       "      <th>1694</th>\n",
       "      <td>English</td>\n",
       "      <td>en</td>\n",
       "      <td>0.566667</td>\n",
       "    </tr>\n",
       "    <tr>\n",
       "      <th>1693</th>\n",
       "      <td>Chinese</td>\n",
       "      <td>zh</td>\n",
       "      <td>0.388889</td>\n",
       "    </tr>\n",
       "  </tbody>\n",
       "</table>\n",
       "</div>"
      ],
      "text/plain": [
       "     language_full language  proportion\n",
       "1694       English       en    0.566667\n",
       "1693       Chinese       zh    0.388889"
      ]
     },
     "metadata": {},
     "output_type": "display_data"
    },
    {
     "name": "stdout",
     "output_type": "stream",
     "text": [
      "\n",
      "Cobden Times (Vic. : 1918) (543)\n"
     ]
    },
    {
     "data": {
      "text/html": [
       "<div>\n",
       "<style scoped>\n",
       "    .dataframe tbody tr th:only-of-type {\n",
       "        vertical-align: middle;\n",
       "    }\n",
       "\n",
       "    .dataframe tbody tr th {\n",
       "        vertical-align: top;\n",
       "    }\n",
       "\n",
       "    .dataframe thead th {\n",
       "        text-align: right;\n",
       "    }\n",
       "</style>\n",
       "<table border=\"1\" class=\"dataframe\">\n",
       "  <thead>\n",
       "    <tr style=\"text-align: right;\">\n",
       "      <th></th>\n",
       "      <th>language_full</th>\n",
       "      <th>language</th>\n",
       "      <th>proportion</th>\n",
       "    </tr>\n",
       "  </thead>\n",
       "  <tbody>\n",
       "    <tr>\n",
       "      <th>1204</th>\n",
       "      <td>English</td>\n",
       "      <td>en</td>\n",
       "      <td>0.857143</td>\n",
       "    </tr>\n",
       "    <tr>\n",
       "      <th>1205</th>\n",
       "      <td>Maltese</td>\n",
       "      <td>mt</td>\n",
       "      <td>0.109890</td>\n",
       "    </tr>\n",
       "  </tbody>\n",
       "</table>\n",
       "</div>"
      ],
      "text/plain": [
       "     language_full language  proportion\n",
       "1204       English       en    0.857143\n",
       "1205       Maltese       mt    0.109890"
      ]
     },
     "metadata": {},
     "output_type": "display_data"
    },
    {
     "name": "stdout",
     "output_type": "stream",
     "text": [
      "\n",
      "Colac Reformer (Vic. : 1914 - 1918) (763)\n"
     ]
    },
    {
     "data": {
      "text/html": [
       "<div>\n",
       "<style scoped>\n",
       "    .dataframe tbody tr th:only-of-type {\n",
       "        vertical-align: middle;\n",
       "    }\n",
       "\n",
       "    .dataframe tbody tr th {\n",
       "        vertical-align: top;\n",
       "    }\n",
       "\n",
       "    .dataframe thead th {\n",
       "        text-align: right;\n",
       "    }\n",
       "</style>\n",
       "<table border=\"1\" class=\"dataframe\">\n",
       "  <thead>\n",
       "    <tr style=\"text-align: right;\">\n",
       "      <th></th>\n",
       "      <th>language_full</th>\n",
       "      <th>language</th>\n",
       "      <th>proportion</th>\n",
       "    </tr>\n",
       "  </thead>\n",
       "  <tbody>\n",
       "    <tr>\n",
       "      <th>1214</th>\n",
       "      <td>English</td>\n",
       "      <td>en</td>\n",
       "      <td>0.947368</td>\n",
       "    </tr>\n",
       "    <tr>\n",
       "      <th>1215</th>\n",
       "      <td>Maltese</td>\n",
       "      <td>mt</td>\n",
       "      <td>0.052632</td>\n",
       "    </tr>\n",
       "  </tbody>\n",
       "</table>\n",
       "</div>"
      ],
      "text/plain": [
       "     language_full language  proportion\n",
       "1214       English       en    0.947368\n",
       "1215       Maltese       mt    0.052632"
      ]
     },
     "metadata": {},
     "output_type": "display_data"
    },
    {
     "name": "stdout",
     "output_type": "stream",
     "text": [
      "\n",
      "Daily Post (Hobart, Tas. : 1908 - 1918) (860)\n"
     ]
    },
    {
     "data": {
      "text/html": [
       "<div>\n",
       "<style scoped>\n",
       "    .dataframe tbody tr th:only-of-type {\n",
       "        vertical-align: middle;\n",
       "    }\n",
       "\n",
       "    .dataframe tbody tr th {\n",
       "        vertical-align: top;\n",
       "    }\n",
       "\n",
       "    .dataframe thead th {\n",
       "        text-align: right;\n",
       "    }\n",
       "</style>\n",
       "<table border=\"1\" class=\"dataframe\">\n",
       "  <thead>\n",
       "    <tr style=\"text-align: right;\">\n",
       "      <th></th>\n",
       "      <th>language_full</th>\n",
       "      <th>language</th>\n",
       "      <th>proportion</th>\n",
       "    </tr>\n",
       "  </thead>\n",
       "  <tbody>\n",
       "    <tr>\n",
       "      <th>1011</th>\n",
       "      <td>English</td>\n",
       "      <td>en</td>\n",
       "      <td>0.719101</td>\n",
       "    </tr>\n",
       "    <tr>\n",
       "      <th>1012</th>\n",
       "      <td>Japanese</td>\n",
       "      <td>ja</td>\n",
       "      <td>0.112360</td>\n",
       "    </tr>\n",
       "  </tbody>\n",
       "</table>\n",
       "</div>"
      ],
      "text/plain": [
       "     language_full language  proportion\n",
       "1011       English       en    0.719101\n",
       "1012      Japanese       ja    0.112360"
      ]
     },
     "metadata": {},
     "output_type": "display_data"
    },
    {
     "name": "stdout",
     "output_type": "stream",
     "text": [
      "\n",
      "Der Australische Spiegel = The Australian Mirror (Perth, WA : 1952) (1385)\n"
     ]
    },
    {
     "data": {
      "text/html": [
       "<div>\n",
       "<style scoped>\n",
       "    .dataframe tbody tr th:only-of-type {\n",
       "        vertical-align: middle;\n",
       "    }\n",
       "\n",
       "    .dataframe tbody tr th {\n",
       "        vertical-align: top;\n",
       "    }\n",
       "\n",
       "    .dataframe thead th {\n",
       "        text-align: right;\n",
       "    }\n",
       "</style>\n",
       "<table border=\"1\" class=\"dataframe\">\n",
       "  <thead>\n",
       "    <tr style=\"text-align: right;\">\n",
       "      <th></th>\n",
       "      <th>language_full</th>\n",
       "      <th>language</th>\n",
       "      <th>proportion</th>\n",
       "    </tr>\n",
       "  </thead>\n",
       "  <tbody>\n",
       "    <tr>\n",
       "      <th>1716</th>\n",
       "      <td>German</td>\n",
       "      <td>de</td>\n",
       "      <td>0.82</td>\n",
       "    </tr>\n",
       "    <tr>\n",
       "      <th>1717</th>\n",
       "      <td>English</td>\n",
       "      <td>en</td>\n",
       "      <td>0.18</td>\n",
       "    </tr>\n",
       "  </tbody>\n",
       "</table>\n",
       "</div>"
      ],
      "text/plain": [
       "     language_full language  proportion\n",
       "1716        German       de        0.82\n",
       "1717       English       en        0.18"
      ]
     },
     "metadata": {},
     "output_type": "display_data"
    },
    {
     "name": "stdout",
     "output_type": "stream",
     "text": [
      "\n",
      "Deutsch-Australische Post : Wochenschrift = German-Australian Post : Weekly (Sydney, NSW : 1893 - 1906) (1600)\n"
     ]
    },
    {
     "data": {
      "text/html": [
       "<div>\n",
       "<style scoped>\n",
       "    .dataframe tbody tr th:only-of-type {\n",
       "        vertical-align: middle;\n",
       "    }\n",
       "\n",
       "    .dataframe tbody tr th {\n",
       "        vertical-align: top;\n",
       "    }\n",
       "\n",
       "    .dataframe thead th {\n",
       "        text-align: right;\n",
       "    }\n",
       "</style>\n",
       "<table border=\"1\" class=\"dataframe\">\n",
       "  <thead>\n",
       "    <tr style=\"text-align: right;\">\n",
       "      <th></th>\n",
       "      <th>language_full</th>\n",
       "      <th>language</th>\n",
       "      <th>proportion</th>\n",
       "    </tr>\n",
       "  </thead>\n",
       "  <tbody>\n",
       "    <tr>\n",
       "      <th>125</th>\n",
       "      <td>German</td>\n",
       "      <td>de</td>\n",
       "      <td>1.0</td>\n",
       "    </tr>\n",
       "  </tbody>\n",
       "</table>\n",
       "</div>"
      ],
      "text/plain": [
       "    language_full language  proportion\n",
       "125        German       de         1.0"
      ]
     },
     "metadata": {},
     "output_type": "display_data"
    },
    {
     "name": "stdout",
     "output_type": "stream",
     "text": [
      "\n",
      "Deutsche Zeitung für Sud-Australien = German Times for South Australia (Tanunda, SA : 1851) (1577)\n"
     ]
    },
    {
     "data": {
      "text/html": [
       "<div>\n",
       "<style scoped>\n",
       "    .dataframe tbody tr th:only-of-type {\n",
       "        vertical-align: middle;\n",
       "    }\n",
       "\n",
       "    .dataframe tbody tr th {\n",
       "        vertical-align: top;\n",
       "    }\n",
       "\n",
       "    .dataframe thead th {\n",
       "        text-align: right;\n",
       "    }\n",
       "</style>\n",
       "<table border=\"1\" class=\"dataframe\">\n",
       "  <thead>\n",
       "    <tr style=\"text-align: right;\">\n",
       "      <th></th>\n",
       "      <th>language_full</th>\n",
       "      <th>language</th>\n",
       "      <th>proportion</th>\n",
       "    </tr>\n",
       "  </thead>\n",
       "  <tbody>\n",
       "    <tr>\n",
       "      <th>844</th>\n",
       "      <td>German</td>\n",
       "      <td>de</td>\n",
       "      <td>0.9</td>\n",
       "    </tr>\n",
       "    <tr>\n",
       "      <th>843</th>\n",
       "      <td>English</td>\n",
       "      <td>en</td>\n",
       "      <td>0.1</td>\n",
       "    </tr>\n",
       "  </tbody>\n",
       "</table>\n",
       "</div>"
      ],
      "text/plain": [
       "    language_full language  proportion\n",
       "844        German       de         0.9\n",
       "843       English       en         0.1"
      ]
     },
     "metadata": {},
     "output_type": "display_data"
    },
    {
     "name": "stdout",
     "output_type": "stream",
     "text": [
      "\n",
      "Die Brucke = The Bridge (Sydney, NSW : 1934 - 1939) (1591)\n"
     ]
    },
    {
     "data": {
      "text/html": [
       "<div>\n",
       "<style scoped>\n",
       "    .dataframe tbody tr th:only-of-type {\n",
       "        vertical-align: middle;\n",
       "    }\n",
       "\n",
       "    .dataframe tbody tr th {\n",
       "        vertical-align: top;\n",
       "    }\n",
       "\n",
       "    .dataframe thead th {\n",
       "        text-align: right;\n",
       "    }\n",
       "</style>\n",
       "<table border=\"1\" class=\"dataframe\">\n",
       "  <thead>\n",
       "    <tr style=\"text-align: right;\">\n",
       "      <th></th>\n",
       "      <th>language_full</th>\n",
       "      <th>language</th>\n",
       "      <th>proportion</th>\n",
       "    </tr>\n",
       "  </thead>\n",
       "  <tbody>\n",
       "    <tr>\n",
       "      <th>126</th>\n",
       "      <td>German</td>\n",
       "      <td>de</td>\n",
       "      <td>0.704082</td>\n",
       "    </tr>\n",
       "    <tr>\n",
       "      <th>127</th>\n",
       "      <td>English</td>\n",
       "      <td>en</td>\n",
       "      <td>0.295918</td>\n",
       "    </tr>\n",
       "  </tbody>\n",
       "</table>\n",
       "</div>"
      ],
      "text/plain": [
       "    language_full language  proportion\n",
       "126        German       de    0.704082\n",
       "127       English       en    0.295918"
      ]
     },
     "metadata": {},
     "output_type": "display_data"
    },
    {
     "name": "stdout",
     "output_type": "stream",
     "text": [
      "\n",
      "Die Deutsche Post für die Australischen Colonien = The German Australian Post (Adelaide, SA : 1848 - 1851) (1576)\n"
     ]
    },
    {
     "data": {
      "text/html": [
       "<div>\n",
       "<style scoped>\n",
       "    .dataframe tbody tr th:only-of-type {\n",
       "        vertical-align: middle;\n",
       "    }\n",
       "\n",
       "    .dataframe tbody tr th {\n",
       "        vertical-align: top;\n",
       "    }\n",
       "\n",
       "    .dataframe thead th {\n",
       "        text-align: right;\n",
       "    }\n",
       "</style>\n",
       "<table border=\"1\" class=\"dataframe\">\n",
       "  <thead>\n",
       "    <tr style=\"text-align: right;\">\n",
       "      <th></th>\n",
       "      <th>language_full</th>\n",
       "      <th>language</th>\n",
       "      <th>proportion</th>\n",
       "    </tr>\n",
       "  </thead>\n",
       "  <tbody>\n",
       "    <tr>\n",
       "      <th>845</th>\n",
       "      <td>German</td>\n",
       "      <td>de</td>\n",
       "      <td>0.989583</td>\n",
       "    </tr>\n",
       "  </tbody>\n",
       "</table>\n",
       "</div>"
      ],
      "text/plain": [
       "    language_full language  proportion\n",
       "845        German       de    0.989583"
      ]
     },
     "metadata": {},
     "output_type": "display_data"
    },
    {
     "name": "stdout",
     "output_type": "stream",
     "text": [
      "\n",
      "Dutch Australian Weekly (Sydney, NSW : 1951 - 1993) (1044)\n"
     ]
    },
    {
     "data": {
      "text/html": [
       "<div>\n",
       "<style scoped>\n",
       "    .dataframe tbody tr th:only-of-type {\n",
       "        vertical-align: middle;\n",
       "    }\n",
       "\n",
       "    .dataframe tbody tr th {\n",
       "        vertical-align: top;\n",
       "    }\n",
       "\n",
       "    .dataframe thead th {\n",
       "        text-align: right;\n",
       "    }\n",
       "</style>\n",
       "<table border=\"1\" class=\"dataframe\">\n",
       "  <thead>\n",
       "    <tr style=\"text-align: right;\">\n",
       "      <th></th>\n",
       "      <th>language_full</th>\n",
       "      <th>language</th>\n",
       "      <th>proportion</th>\n",
       "    </tr>\n",
       "  </thead>\n",
       "  <tbody>\n",
       "    <tr>\n",
       "      <th>131</th>\n",
       "      <td>Dutch</td>\n",
       "      <td>nl</td>\n",
       "      <td>0.969697</td>\n",
       "    </tr>\n",
       "  </tbody>\n",
       "</table>\n",
       "</div>"
      ],
      "text/plain": [
       "    language_full language  proportion\n",
       "131         Dutch       nl    0.969697"
      ]
     },
     "metadata": {},
     "output_type": "display_data"
    },
    {
     "name": "stdout",
     "output_type": "stream",
     "text": [
      "\n",
      "Dutch Weekly (Sydney, NSW : 1993 - 2004) (1045)\n"
     ]
    },
    {
     "data": {
      "text/html": [
       "<div>\n",
       "<style scoped>\n",
       "    .dataframe tbody tr th:only-of-type {\n",
       "        vertical-align: middle;\n",
       "    }\n",
       "\n",
       "    .dataframe tbody tr th {\n",
       "        vertical-align: top;\n",
       "    }\n",
       "\n",
       "    .dataframe thead th {\n",
       "        text-align: right;\n",
       "    }\n",
       "</style>\n",
       "<table border=\"1\" class=\"dataframe\">\n",
       "  <thead>\n",
       "    <tr style=\"text-align: right;\">\n",
       "      <th></th>\n",
       "      <th>language_full</th>\n",
       "      <th>language</th>\n",
       "      <th>proportion</th>\n",
       "    </tr>\n",
       "  </thead>\n",
       "  <tbody>\n",
       "    <tr>\n",
       "      <th>134</th>\n",
       "      <td>Dutch</td>\n",
       "      <td>nl</td>\n",
       "      <td>0.919192</td>\n",
       "    </tr>\n",
       "    <tr>\n",
       "      <th>135</th>\n",
       "      <td>English</td>\n",
       "      <td>en</td>\n",
       "      <td>0.060606</td>\n",
       "    </tr>\n",
       "  </tbody>\n",
       "</table>\n",
       "</div>"
      ],
      "text/plain": [
       "    language_full language  proportion\n",
       "134         Dutch       nl    0.919192\n",
       "135       English       en    0.060606"
      ]
     },
     "metadata": {},
     "output_type": "display_data"
    },
    {
     "name": "stdout",
     "output_type": "stream",
     "text": [
      "\n",
      "Echo : Polski Tygodnik Niezalezny (Perth, WA : 1950 - 1952) (1384)\n"
     ]
    },
    {
     "data": {
      "text/html": [
       "<div>\n",
       "<style scoped>\n",
       "    .dataframe tbody tr th:only-of-type {\n",
       "        vertical-align: middle;\n",
       "    }\n",
       "\n",
       "    .dataframe tbody tr th {\n",
       "        vertical-align: top;\n",
       "    }\n",
       "\n",
       "    .dataframe thead th {\n",
       "        text-align: right;\n",
       "    }\n",
       "</style>\n",
       "<table border=\"1\" class=\"dataframe\">\n",
       "  <thead>\n",
       "    <tr style=\"text-align: right;\">\n",
       "      <th></th>\n",
       "      <th>language_full</th>\n",
       "      <th>language</th>\n",
       "      <th>proportion</th>\n",
       "    </tr>\n",
       "  </thead>\n",
       "  <tbody>\n",
       "    <tr>\n",
       "      <th>1721</th>\n",
       "      <td>Polish</td>\n",
       "      <td>pl</td>\n",
       "      <td>0.91</td>\n",
       "    </tr>\n",
       "    <tr>\n",
       "      <th>1722</th>\n",
       "      <td>English</td>\n",
       "      <td>en</td>\n",
       "      <td>0.09</td>\n",
       "    </tr>\n",
       "  </tbody>\n",
       "</table>\n",
       "</div>"
      ],
      "text/plain": [
       "     language_full language  proportion\n",
       "1721        Polish       pl        0.91\n",
       "1722       English       en        0.09"
      ]
     },
     "metadata": {},
     "output_type": "display_data"
    },
    {
     "name": "stdout",
     "output_type": "stream",
     "text": [
      "\n",
      "Eco Italiano (Perth, WA : 1958 - 1959) (1387)\n"
     ]
    },
    {
     "data": {
      "text/html": [
       "<div>\n",
       "<style scoped>\n",
       "    .dataframe tbody tr th:only-of-type {\n",
       "        vertical-align: middle;\n",
       "    }\n",
       "\n",
       "    .dataframe tbody tr th {\n",
       "        vertical-align: top;\n",
       "    }\n",
       "\n",
       "    .dataframe thead th {\n",
       "        text-align: right;\n",
       "    }\n",
       "</style>\n",
       "<table border=\"1\" class=\"dataframe\">\n",
       "  <thead>\n",
       "    <tr style=\"text-align: right;\">\n",
       "      <th></th>\n",
       "      <th>language_full</th>\n",
       "      <th>language</th>\n",
       "      <th>proportion</th>\n",
       "    </tr>\n",
       "  </thead>\n",
       "  <tbody>\n",
       "    <tr>\n",
       "      <th>1723</th>\n",
       "      <td>Italian</td>\n",
       "      <td>it</td>\n",
       "      <td>1.0</td>\n",
       "    </tr>\n",
       "  </tbody>\n",
       "</table>\n",
       "</div>"
      ],
      "text/plain": [
       "     language_full language  proportion\n",
       "1723       Italian       it         1.0"
      ]
     },
     "metadata": {},
     "output_type": "display_data"
    },
    {
     "name": "stdout",
     "output_type": "stream",
     "text": [
      "\n",
      "Emu Bay Times and North West and West Coast Advocate (Tas. : 1897 - 1899) (116)\n"
     ]
    },
    {
     "data": {
      "text/html": [
       "<div>\n",
       "<style scoped>\n",
       "    .dataframe tbody tr th:only-of-type {\n",
       "        vertical-align: middle;\n",
       "    }\n",
       "\n",
       "    .dataframe tbody tr th {\n",
       "        vertical-align: top;\n",
       "    }\n",
       "\n",
       "    .dataframe thead th {\n",
       "        text-align: right;\n",
       "    }\n",
       "</style>\n",
       "<table border=\"1\" class=\"dataframe\">\n",
       "  <thead>\n",
       "    <tr style=\"text-align: right;\">\n",
       "      <th></th>\n",
       "      <th>language_full</th>\n",
       "      <th>language</th>\n",
       "      <th>proportion</th>\n",
       "    </tr>\n",
       "  </thead>\n",
       "  <tbody>\n",
       "    <tr>\n",
       "      <th>1027</th>\n",
       "      <td>English</td>\n",
       "      <td>en</td>\n",
       "      <td>0.933333</td>\n",
       "    </tr>\n",
       "    <tr>\n",
       "      <th>1028</th>\n",
       "      <td>Maltese</td>\n",
       "      <td>mt</td>\n",
       "      <td>0.066667</td>\n",
       "    </tr>\n",
       "  </tbody>\n",
       "</table>\n",
       "</div>"
      ],
      "text/plain": [
       "     language_full language  proportion\n",
       "1027       English       en    0.933333\n",
       "1028       Maltese       mt    0.066667"
      ]
     },
     "metadata": {},
     "output_type": "display_data"
    },
    {
     "name": "stdout",
     "output_type": "stream",
     "text": [
      "\n",
      "Evelyn Observer, and South and East Bourke Record (Vic. : 1882 - 1902) (145)\n"
     ]
    },
    {
     "data": {
      "text/html": [
       "<div>\n",
       "<style scoped>\n",
       "    .dataframe tbody tr th:only-of-type {\n",
       "        vertical-align: middle;\n",
       "    }\n",
       "\n",
       "    .dataframe tbody tr th {\n",
       "        vertical-align: top;\n",
       "    }\n",
       "\n",
       "    .dataframe thead th {\n",
       "        text-align: right;\n",
       "    }\n",
       "</style>\n",
       "<table border=\"1\" class=\"dataframe\">\n",
       "  <thead>\n",
       "    <tr style=\"text-align: right;\">\n",
       "      <th></th>\n",
       "      <th>language_full</th>\n",
       "      <th>language</th>\n",
       "      <th>proportion</th>\n",
       "    </tr>\n",
       "  </thead>\n",
       "  <tbody>\n",
       "    <tr>\n",
       "      <th>1241</th>\n",
       "      <td>English</td>\n",
       "      <td>en</td>\n",
       "      <td>0.913978</td>\n",
       "    </tr>\n",
       "    <tr>\n",
       "      <th>1240</th>\n",
       "      <td>Maltese</td>\n",
       "      <td>mt</td>\n",
       "      <td>0.075269</td>\n",
       "    </tr>\n",
       "  </tbody>\n",
       "</table>\n",
       "</div>"
      ],
      "text/plain": [
       "     language_full language  proportion\n",
       "1241       English       en    0.913978\n",
       "1240       Maltese       mt    0.075269"
      ]
     },
     "metadata": {},
     "output_type": "display_data"
    },
    {
     "name": "stdout",
     "output_type": "stream",
     "text": [
      "\n",
      "Geraldton Advocate and Johnstone River Guardian (Qld. : 1895 - 1896) (1103)\n"
     ]
    },
    {
     "data": {
      "text/html": [
       "<div>\n",
       "<style scoped>\n",
       "    .dataframe tbody tr th:only-of-type {\n",
       "        vertical-align: middle;\n",
       "    }\n",
       "\n",
       "    .dataframe tbody tr th {\n",
       "        vertical-align: top;\n",
       "    }\n",
       "\n",
       "    .dataframe thead th {\n",
       "        text-align: right;\n",
       "    }\n",
       "</style>\n",
       "<table border=\"1\" class=\"dataframe\">\n",
       "  <thead>\n",
       "    <tr style=\"text-align: right;\">\n",
       "      <th></th>\n",
       "      <th>language_full</th>\n",
       "      <th>language</th>\n",
       "      <th>proportion</th>\n",
       "    </tr>\n",
       "  </thead>\n",
       "  <tbody>\n",
       "    <tr>\n",
       "      <th>704</th>\n",
       "      <td>English</td>\n",
       "      <td>en</td>\n",
       "      <td>0.947917</td>\n",
       "    </tr>\n",
       "    <tr>\n",
       "      <th>705</th>\n",
       "      <td>Maltese</td>\n",
       "      <td>mt</td>\n",
       "      <td>0.052083</td>\n",
       "    </tr>\n",
       "  </tbody>\n",
       "</table>\n",
       "</div>"
      ],
      "text/plain": [
       "    language_full language  proportion\n",
       "704       English       en    0.947917\n",
       "705       Maltese       mt    0.052083"
      ]
     },
     "metadata": {},
     "output_type": "display_data"
    },
    {
     "name": "stdout",
     "output_type": "stream",
     "text": [
      "\n",
      "Geraldton Express and Murchison Goldfields News (WA : 1894 - 1896) (1623)\n"
     ]
    },
    {
     "data": {
      "text/html": [
       "<div>\n",
       "<style scoped>\n",
       "    .dataframe tbody tr th:only-of-type {\n",
       "        vertical-align: middle;\n",
       "    }\n",
       "\n",
       "    .dataframe tbody tr th {\n",
       "        vertical-align: top;\n",
       "    }\n",
       "\n",
       "    .dataframe thead th {\n",
       "        text-align: right;\n",
       "    }\n",
       "</style>\n",
       "<table border=\"1\" class=\"dataframe\">\n",
       "  <thead>\n",
       "    <tr style=\"text-align: right;\">\n",
       "      <th></th>\n",
       "      <th>language_full</th>\n",
       "      <th>language</th>\n",
       "      <th>proportion</th>\n",
       "    </tr>\n",
       "  </thead>\n",
       "  <tbody>\n",
       "    <tr>\n",
       "      <th>1734</th>\n",
       "      <td>English</td>\n",
       "      <td>en</td>\n",
       "      <td>0.643836</td>\n",
       "    </tr>\n",
       "    <tr>\n",
       "      <th>1735</th>\n",
       "      <td>Maltese</td>\n",
       "      <td>mt</td>\n",
       "      <td>0.095890</td>\n",
       "    </tr>\n",
       "    <tr>\n",
       "      <th>1739</th>\n",
       "      <td>Japanese</td>\n",
       "      <td>ja</td>\n",
       "      <td>0.068493</td>\n",
       "    </tr>\n",
       "  </tbody>\n",
       "</table>\n",
       "</div>"
      ],
      "text/plain": [
       "     language_full language  proportion\n",
       "1734       English       en    0.643836\n",
       "1735       Maltese       mt    0.095890\n",
       "1739      Japanese       ja    0.068493"
      ]
     },
     "metadata": {},
     "output_type": "display_data"
    },
    {
     "name": "stdout",
     "output_type": "stream",
     "text": [
      "\n",
      "Guang yi hua bao = The Chinese Australian Herald (Sydney, NSW : 1894 - 1923) (704)\n"
     ]
    },
    {
     "data": {
      "text/html": [
       "<div>\n",
       "<style scoped>\n",
       "    .dataframe tbody tr th:only-of-type {\n",
       "        vertical-align: middle;\n",
       "    }\n",
       "\n",
       "    .dataframe tbody tr th {\n",
       "        vertical-align: top;\n",
       "    }\n",
       "\n",
       "    .dataframe thead th {\n",
       "        text-align: right;\n",
       "    }\n",
       "</style>\n",
       "<table border=\"1\" class=\"dataframe\">\n",
       "  <thead>\n",
       "    <tr style=\"text-align: right;\">\n",
       "      <th></th>\n",
       "      <th>language_full</th>\n",
       "      <th>language</th>\n",
       "      <th>proportion</th>\n",
       "    </tr>\n",
       "  </thead>\n",
       "  <tbody>\n",
       "    <tr>\n",
       "      <th>162</th>\n",
       "      <td>Chinese</td>\n",
       "      <td>zh</td>\n",
       "      <td>0.854167</td>\n",
       "    </tr>\n",
       "    <tr>\n",
       "      <th>165</th>\n",
       "      <td>Western Frisian</td>\n",
       "      <td>fy</td>\n",
       "      <td>0.062500</td>\n",
       "    </tr>\n",
       "  </tbody>\n",
       "</table>\n",
       "</div>"
      ],
      "text/plain": [
       "       language_full language  proportion\n",
       "162          Chinese       zh    0.854167\n",
       "165  Western Frisian       fy    0.062500"
      ]
     },
     "metadata": {},
     "output_type": "display_data"
    },
    {
     "name": "stdout",
     "output_type": "stream",
     "text": [
      "\n",
      "Hamilton Spectator and Grange District Advertiser (Vic. : 1860 - 1870) (927)\n"
     ]
    },
    {
     "data": {
      "text/html": [
       "<div>\n",
       "<style scoped>\n",
       "    .dataframe tbody tr th:only-of-type {\n",
       "        vertical-align: middle;\n",
       "    }\n",
       "\n",
       "    .dataframe tbody tr th {\n",
       "        vertical-align: top;\n",
       "    }\n",
       "\n",
       "    .dataframe thead th {\n",
       "        text-align: right;\n",
       "    }\n",
       "</style>\n",
       "<table border=\"1\" class=\"dataframe\">\n",
       "  <thead>\n",
       "    <tr style=\"text-align: right;\">\n",
       "      <th></th>\n",
       "      <th>language_full</th>\n",
       "      <th>language</th>\n",
       "      <th>proportion</th>\n",
       "    </tr>\n",
       "  </thead>\n",
       "  <tbody>\n",
       "    <tr>\n",
       "      <th>1282</th>\n",
       "      <td>English</td>\n",
       "      <td>en</td>\n",
       "      <td>0.915789</td>\n",
       "    </tr>\n",
       "    <tr>\n",
       "      <th>1283</th>\n",
       "      <td>Maltese</td>\n",
       "      <td>mt</td>\n",
       "      <td>0.073684</td>\n",
       "    </tr>\n",
       "  </tbody>\n",
       "</table>\n",
       "</div>"
      ],
      "text/plain": [
       "     language_full language  proportion\n",
       "1282       English       en    0.915789\n",
       "1283       Maltese       mt    0.073684"
      ]
     },
     "metadata": {},
     "output_type": "display_data"
    },
    {
     "name": "stdout",
     "output_type": "stream",
     "text": [
      "\n",
      "Hellenic Echo (Perth, WA : 1967 - 1968) (1389)\n"
     ]
    },
    {
     "data": {
      "text/html": [
       "<div>\n",
       "<style scoped>\n",
       "    .dataframe tbody tr th:only-of-type {\n",
       "        vertical-align: middle;\n",
       "    }\n",
       "\n",
       "    .dataframe tbody tr th {\n",
       "        vertical-align: top;\n",
       "    }\n",
       "\n",
       "    .dataframe thead th {\n",
       "        text-align: right;\n",
       "    }\n",
       "</style>\n",
       "<table border=\"1\" class=\"dataframe\">\n",
       "  <thead>\n",
       "    <tr style=\"text-align: right;\">\n",
       "      <th></th>\n",
       "      <th>language_full</th>\n",
       "      <th>language</th>\n",
       "      <th>proportion</th>\n",
       "    </tr>\n",
       "  </thead>\n",
       "  <tbody>\n",
       "    <tr>\n",
       "      <th>1771</th>\n",
       "      <td>Modern Greek (1453-)</td>\n",
       "      <td>el</td>\n",
       "      <td>1.0</td>\n",
       "    </tr>\n",
       "  </tbody>\n",
       "</table>\n",
       "</div>"
      ],
      "text/plain": [
       "             language_full language  proportion\n",
       "1771  Modern Greek (1453-)       el         1.0"
      ]
     },
     "metadata": {},
     "output_type": "display_data"
    },
    {
     "name": "stdout",
     "output_type": "stream",
     "text": [
      "\n",
      "Il Canguro = The Kangaroo (Perth, WA : 1955 - 1957) (1378)\n"
     ]
    },
    {
     "data": {
      "text/html": [
       "<div>\n",
       "<style scoped>\n",
       "    .dataframe tbody tr th:only-of-type {\n",
       "        vertical-align: middle;\n",
       "    }\n",
       "\n",
       "    .dataframe tbody tr th {\n",
       "        vertical-align: top;\n",
       "    }\n",
       "\n",
       "    .dataframe thead th {\n",
       "        text-align: right;\n",
       "    }\n",
       "</style>\n",
       "<table border=\"1\" class=\"dataframe\">\n",
       "  <thead>\n",
       "    <tr style=\"text-align: right;\">\n",
       "      <th></th>\n",
       "      <th>language_full</th>\n",
       "      <th>language</th>\n",
       "      <th>proportion</th>\n",
       "    </tr>\n",
       "  </thead>\n",
       "  <tbody>\n",
       "    <tr>\n",
       "      <th>1773</th>\n",
       "      <td>Italian</td>\n",
       "      <td>it</td>\n",
       "      <td>0.97</td>\n",
       "    </tr>\n",
       "  </tbody>\n",
       "</table>\n",
       "</div>"
      ],
      "text/plain": [
       "     language_full language  proportion\n",
       "1773       Italian       it        0.97"
      ]
     },
     "metadata": {},
     "output_type": "display_data"
    },
    {
     "name": "stdout",
     "output_type": "stream",
     "text": [
      "\n",
      "Il Giornale Italiano (Sydney, NSW : 1932 - 1940) (279)\n"
     ]
    },
    {
     "data": {
      "text/html": [
       "<div>\n",
       "<style scoped>\n",
       "    .dataframe tbody tr th:only-of-type {\n",
       "        vertical-align: middle;\n",
       "    }\n",
       "\n",
       "    .dataframe tbody tr th {\n",
       "        vertical-align: top;\n",
       "    }\n",
       "\n",
       "    .dataframe thead th {\n",
       "        text-align: right;\n",
       "    }\n",
       "</style>\n",
       "<table border=\"1\" class=\"dataframe\">\n",
       "  <thead>\n",
       "    <tr style=\"text-align: right;\">\n",
       "      <th></th>\n",
       "      <th>language_full</th>\n",
       "      <th>language</th>\n",
       "      <th>proportion</th>\n",
       "    </tr>\n",
       "  </thead>\n",
       "  <tbody>\n",
       "    <tr>\n",
       "      <th>175</th>\n",
       "      <td>Italian</td>\n",
       "      <td>it</td>\n",
       "      <td>0.91</td>\n",
       "    </tr>\n",
       "    <tr>\n",
       "      <th>176</th>\n",
       "      <td>English</td>\n",
       "      <td>en</td>\n",
       "      <td>0.09</td>\n",
       "    </tr>\n",
       "  </tbody>\n",
       "</table>\n",
       "</div>"
      ],
      "text/plain": [
       "    language_full language  proportion\n",
       "175       Italian       it        0.91\n",
       "176       English       en        0.09"
      ]
     },
     "metadata": {},
     "output_type": "display_data"
    },
    {
     "name": "stdout",
     "output_type": "stream",
     "text": [
      "\n",
      "Il Risveglio = The Awakening (Sydney, NSW : 1944 - 1954) (1601)\n"
     ]
    },
    {
     "data": {
      "text/html": [
       "<div>\n",
       "<style scoped>\n",
       "    .dataframe tbody tr th:only-of-type {\n",
       "        vertical-align: middle;\n",
       "    }\n",
       "\n",
       "    .dataframe tbody tr th {\n",
       "        vertical-align: top;\n",
       "    }\n",
       "\n",
       "    .dataframe thead th {\n",
       "        text-align: right;\n",
       "    }\n",
       "</style>\n",
       "<table border=\"1\" class=\"dataframe\">\n",
       "  <thead>\n",
       "    <tr style=\"text-align: right;\">\n",
       "      <th></th>\n",
       "      <th>language_full</th>\n",
       "      <th>language</th>\n",
       "      <th>proportion</th>\n",
       "    </tr>\n",
       "  </thead>\n",
       "  <tbody>\n",
       "    <tr>\n",
       "      <th>177</th>\n",
       "      <td>Italian</td>\n",
       "      <td>it</td>\n",
       "      <td>0.75</td>\n",
       "    </tr>\n",
       "    <tr>\n",
       "      <th>178</th>\n",
       "      <td>English</td>\n",
       "      <td>en</td>\n",
       "      <td>0.25</td>\n",
       "    </tr>\n",
       "  </tbody>\n",
       "</table>\n",
       "</div>"
      ],
      "text/plain": [
       "    language_full language  proportion\n",
       "177       Italian       it        0.75\n",
       "178       English       en        0.25"
      ]
     },
     "metadata": {},
     "output_type": "display_data"
    },
    {
     "name": "stdout",
     "output_type": "stream",
     "text": [
      "\n",
      "Italian Bulletin of Australia (Sydney, NSW : 1922 - 1928, 1935 - 1940) (1602)\n"
     ]
    },
    {
     "data": {
      "text/html": [
       "<div>\n",
       "<style scoped>\n",
       "    .dataframe tbody tr th:only-of-type {\n",
       "        vertical-align: middle;\n",
       "    }\n",
       "\n",
       "    .dataframe tbody tr th {\n",
       "        vertical-align: top;\n",
       "    }\n",
       "\n",
       "    .dataframe thead th {\n",
       "        text-align: right;\n",
       "    }\n",
       "</style>\n",
       "<table border=\"1\" class=\"dataframe\">\n",
       "  <thead>\n",
       "    <tr style=\"text-align: right;\">\n",
       "      <th></th>\n",
       "      <th>language_full</th>\n",
       "      <th>language</th>\n",
       "      <th>proportion</th>\n",
       "    </tr>\n",
       "  </thead>\n",
       "  <tbody>\n",
       "    <tr>\n",
       "      <th>188</th>\n",
       "      <td>English</td>\n",
       "      <td>en</td>\n",
       "      <td>0.833333</td>\n",
       "    </tr>\n",
       "    <tr>\n",
       "      <th>189</th>\n",
       "      <td>Italian</td>\n",
       "      <td>it</td>\n",
       "      <td>0.166667</td>\n",
       "    </tr>\n",
       "  </tbody>\n",
       "</table>\n",
       "</div>"
      ],
      "text/plain": [
       "    language_full language  proportion\n",
       "188       English       en    0.833333\n",
       "189       Italian       it    0.166667"
      ]
     },
     "metadata": {},
     "output_type": "display_data"
    },
    {
     "name": "stdout",
     "output_type": "stream",
     "text": [
      "\n",
      "Italian Bulletin of Commerce (Sydney, NSW : 1929 - 1935) (1603)\n"
     ]
    },
    {
     "data": {
      "text/html": [
       "<div>\n",
       "<style scoped>\n",
       "    .dataframe tbody tr th:only-of-type {\n",
       "        vertical-align: middle;\n",
       "    }\n",
       "\n",
       "    .dataframe tbody tr th {\n",
       "        vertical-align: top;\n",
       "    }\n",
       "\n",
       "    .dataframe thead th {\n",
       "        text-align: right;\n",
       "    }\n",
       "</style>\n",
       "<table border=\"1\" class=\"dataframe\">\n",
       "  <thead>\n",
       "    <tr style=\"text-align: right;\">\n",
       "      <th></th>\n",
       "      <th>language_full</th>\n",
       "      <th>language</th>\n",
       "      <th>proportion</th>\n",
       "    </tr>\n",
       "  </thead>\n",
       "  <tbody>\n",
       "    <tr>\n",
       "      <th>190</th>\n",
       "      <td>English</td>\n",
       "      <td>en</td>\n",
       "      <td>0.893617</td>\n",
       "    </tr>\n",
       "    <tr>\n",
       "      <th>191</th>\n",
       "      <td>Italian</td>\n",
       "      <td>it</td>\n",
       "      <td>0.106383</td>\n",
       "    </tr>\n",
       "  </tbody>\n",
       "</table>\n",
       "</div>"
      ],
      "text/plain": [
       "    language_full language  proportion\n",
       "190       English       en    0.893617\n",
       "191       Italian       it    0.106383"
      ]
     },
     "metadata": {},
     "output_type": "display_data"
    },
    {
     "name": "stdout",
     "output_type": "stream",
     "text": [
      "\n",
      "Italo-Australian (Sydney, NSW : 1927 - 1940) (1595)\n"
     ]
    },
    {
     "data": {
      "text/html": [
       "<div>\n",
       "<style scoped>\n",
       "    .dataframe tbody tr th:only-of-type {\n",
       "        vertical-align: middle;\n",
       "    }\n",
       "\n",
       "    .dataframe tbody tr th {\n",
       "        vertical-align: top;\n",
       "    }\n",
       "\n",
       "    .dataframe thead th {\n",
       "        text-align: right;\n",
       "    }\n",
       "</style>\n",
       "<table border=\"1\" class=\"dataframe\">\n",
       "  <thead>\n",
       "    <tr style=\"text-align: right;\">\n",
       "      <th></th>\n",
       "      <th>language_full</th>\n",
       "      <th>language</th>\n",
       "      <th>proportion</th>\n",
       "    </tr>\n",
       "  </thead>\n",
       "  <tbody>\n",
       "    <tr>\n",
       "      <th>192</th>\n",
       "      <td>Italian</td>\n",
       "      <td>it</td>\n",
       "      <td>0.97</td>\n",
       "    </tr>\n",
       "  </tbody>\n",
       "</table>\n",
       "</div>"
      ],
      "text/plain": [
       "    language_full language  proportion\n",
       "192       Italian       it        0.97"
      ]
     },
     "metadata": {},
     "output_type": "display_data"
    },
    {
     "name": "stdout",
     "output_type": "stream",
     "text": [
      "\n",
      "Japanese Perth Times (Subiaco, WA : 1989 - 1996) (1386)\n"
     ]
    },
    {
     "data": {
      "text/html": [
       "<div>\n",
       "<style scoped>\n",
       "    .dataframe tbody tr th:only-of-type {\n",
       "        vertical-align: middle;\n",
       "    }\n",
       "\n",
       "    .dataframe tbody tr th {\n",
       "        vertical-align: top;\n",
       "    }\n",
       "\n",
       "    .dataframe thead th {\n",
       "        text-align: right;\n",
       "    }\n",
       "</style>\n",
       "<table border=\"1\" class=\"dataframe\">\n",
       "  <thead>\n",
       "    <tr style=\"text-align: right;\">\n",
       "      <th></th>\n",
       "      <th>language_full</th>\n",
       "      <th>language</th>\n",
       "      <th>proportion</th>\n",
       "    </tr>\n",
       "  </thead>\n",
       "  <tbody>\n",
       "    <tr>\n",
       "      <th>1777</th>\n",
       "      <td>Japanese</td>\n",
       "      <td>ja</td>\n",
       "      <td>0.9375</td>\n",
       "    </tr>\n",
       "  </tbody>\n",
       "</table>\n",
       "</div>"
      ],
      "text/plain": [
       "     language_full language  proportion\n",
       "1777      Japanese       ja      0.9375"
      ]
     },
     "metadata": {},
     "output_type": "display_data"
    },
    {
     "name": "stdout",
     "output_type": "stream",
     "text": [
      "\n",
      "Kyabram Union (Vic. : 1886 - 1894) (196)\n"
     ]
    },
    {
     "data": {
      "text/html": [
       "<div>\n",
       "<style scoped>\n",
       "    .dataframe tbody tr th:only-of-type {\n",
       "        vertical-align: middle;\n",
       "    }\n",
       "\n",
       "    .dataframe tbody tr th {\n",
       "        vertical-align: top;\n",
       "    }\n",
       "\n",
       "    .dataframe thead th {\n",
       "        text-align: right;\n",
       "    }\n",
       "</style>\n",
       "<table border=\"1\" class=\"dataframe\">\n",
       "  <thead>\n",
       "    <tr style=\"text-align: right;\">\n",
       "      <th></th>\n",
       "      <th>language_full</th>\n",
       "      <th>language</th>\n",
       "      <th>proportion</th>\n",
       "    </tr>\n",
       "  </thead>\n",
       "  <tbody>\n",
       "    <tr>\n",
       "      <th>1326</th>\n",
       "      <td>English</td>\n",
       "      <td>en</td>\n",
       "      <td>0.931818</td>\n",
       "    </tr>\n",
       "    <tr>\n",
       "      <th>1327</th>\n",
       "      <td>Maltese</td>\n",
       "      <td>mt</td>\n",
       "      <td>0.068182</td>\n",
       "    </tr>\n",
       "  </tbody>\n",
       "</table>\n",
       "</div>"
      ],
      "text/plain": [
       "     language_full language  proportion\n",
       "1326       English       en    0.931818\n",
       "1327       Maltese       mt    0.068182"
      ]
     },
     "metadata": {},
     "output_type": "display_data"
    },
    {
     "name": "stdout",
     "output_type": "stream",
     "text": [
      "\n",
      "L'Italo-Australiano = The Italo-Australian (Surry Hills, NSW : 1885) (1596)\n"
     ]
    },
    {
     "data": {
      "text/html": [
       "<div>\n",
       "<style scoped>\n",
       "    .dataframe tbody tr th:only-of-type {\n",
       "        vertical-align: middle;\n",
       "    }\n",
       "\n",
       "    .dataframe tbody tr th {\n",
       "        vertical-align: top;\n",
       "    }\n",
       "\n",
       "    .dataframe thead th {\n",
       "        text-align: right;\n",
       "    }\n",
       "</style>\n",
       "<table border=\"1\" class=\"dataframe\">\n",
       "  <thead>\n",
       "    <tr style=\"text-align: right;\">\n",
       "      <th></th>\n",
       "      <th>language_full</th>\n",
       "      <th>language</th>\n",
       "      <th>proportion</th>\n",
       "    </tr>\n",
       "  </thead>\n",
       "  <tbody>\n",
       "    <tr>\n",
       "      <th>202</th>\n",
       "      <td>Italian</td>\n",
       "      <td>it</td>\n",
       "      <td>0.698413</td>\n",
       "    </tr>\n",
       "    <tr>\n",
       "      <th>203</th>\n",
       "      <td>Maltese</td>\n",
       "      <td>mt</td>\n",
       "      <td>0.206349</td>\n",
       "    </tr>\n",
       "  </tbody>\n",
       "</table>\n",
       "</div>"
      ],
      "text/plain": [
       "    language_full language  proportion\n",
       "202       Italian       it    0.698413\n",
       "203       Maltese       mt    0.206349"
      ]
     },
     "metadata": {},
     "output_type": "display_data"
    },
    {
     "name": "stdout",
     "output_type": "stream",
     "text": [
      "\n",
      "L'Italo-Australiano = The Italo-Australian (Sydney, NSW : 1905 - 1909) (1597)\n"
     ]
    },
    {
     "data": {
      "text/html": [
       "<div>\n",
       "<style scoped>\n",
       "    .dataframe tbody tr th:only-of-type {\n",
       "        vertical-align: middle;\n",
       "    }\n",
       "\n",
       "    .dataframe tbody tr th {\n",
       "        vertical-align: top;\n",
       "    }\n",
       "\n",
       "    .dataframe thead th {\n",
       "        text-align: right;\n",
       "    }\n",
       "</style>\n",
       "<table border=\"1\" class=\"dataframe\">\n",
       "  <thead>\n",
       "    <tr style=\"text-align: right;\">\n",
       "      <th></th>\n",
       "      <th>language_full</th>\n",
       "      <th>language</th>\n",
       "      <th>proportion</th>\n",
       "    </tr>\n",
       "  </thead>\n",
       "  <tbody>\n",
       "    <tr>\n",
       "      <th>208</th>\n",
       "      <td>Italian</td>\n",
       "      <td>it</td>\n",
       "      <td>0.97</td>\n",
       "    </tr>\n",
       "  </tbody>\n",
       "</table>\n",
       "</div>"
      ],
      "text/plain": [
       "    language_full language  proportion\n",
       "208       Italian       it        0.97"
      ]
     },
     "metadata": {},
     "output_type": "display_data"
    },
    {
     "name": "stdout",
     "output_type": "stream",
     "text": [
      "\n",
      "La Rondine (Perth, WA : 1970 - 1974; 1983 - 1984) (1388)\n"
     ]
    },
    {
     "data": {
      "text/html": [
       "<div>\n",
       "<style scoped>\n",
       "    .dataframe tbody tr th:only-of-type {\n",
       "        vertical-align: middle;\n",
       "    }\n",
       "\n",
       "    .dataframe tbody tr th {\n",
       "        vertical-align: top;\n",
       "    }\n",
       "\n",
       "    .dataframe thead th {\n",
       "        text-align: right;\n",
       "    }\n",
       "</style>\n",
       "<table border=\"1\" class=\"dataframe\">\n",
       "  <thead>\n",
       "    <tr style=\"text-align: right;\">\n",
       "      <th></th>\n",
       "      <th>language_full</th>\n",
       "      <th>language</th>\n",
       "      <th>proportion</th>\n",
       "    </tr>\n",
       "  </thead>\n",
       "  <tbody>\n",
       "    <tr>\n",
       "      <th>1796</th>\n",
       "      <td>Italian</td>\n",
       "      <td>it</td>\n",
       "      <td>0.98</td>\n",
       "    </tr>\n",
       "  </tbody>\n",
       "</table>\n",
       "</div>"
      ],
      "text/plain": [
       "     language_full language  proportion\n",
       "1796       Italian       it        0.98"
      ]
     },
     "metadata": {},
     "output_type": "display_data"
    },
    {
     "name": "stdout",
     "output_type": "stream",
     "text": [
      "\n",
      "Le Courrier Australien (Sydney, NSW : 1892 - 2011) (829)\n"
     ]
    },
    {
     "data": {
      "text/html": [
       "<div>\n",
       "<style scoped>\n",
       "    .dataframe tbody tr th:only-of-type {\n",
       "        vertical-align: middle;\n",
       "    }\n",
       "\n",
       "    .dataframe tbody tr th {\n",
       "        vertical-align: top;\n",
       "    }\n",
       "\n",
       "    .dataframe thead th {\n",
       "        text-align: right;\n",
       "    }\n",
       "</style>\n",
       "<table border=\"1\" class=\"dataframe\">\n",
       "  <thead>\n",
       "    <tr style=\"text-align: right;\">\n",
       "      <th></th>\n",
       "      <th>language_full</th>\n",
       "      <th>language</th>\n",
       "      <th>proportion</th>\n",
       "    </tr>\n",
       "  </thead>\n",
       "  <tbody>\n",
       "    <tr>\n",
       "      <th>212</th>\n",
       "      <td>French</td>\n",
       "      <td>fr</td>\n",
       "      <td>0.76</td>\n",
       "    </tr>\n",
       "    <tr>\n",
       "      <th>213</th>\n",
       "      <td>English</td>\n",
       "      <td>en</td>\n",
       "      <td>0.24</td>\n",
       "    </tr>\n",
       "  </tbody>\n",
       "</table>\n",
       "</div>"
      ],
      "text/plain": [
       "    language_full language  proportion\n",
       "212        French       fr        0.76\n",
       "213       English       en        0.24"
      ]
     },
     "metadata": {},
     "output_type": "display_data"
    },
    {
     "name": "stdout",
     "output_type": "stream",
     "text": [
      "\n",
      "Mediterranean Voice (Perth, WA : 1971 - 1972) (1390)\n"
     ]
    },
    {
     "data": {
      "text/html": [
       "<div>\n",
       "<style scoped>\n",
       "    .dataframe tbody tr th:only-of-type {\n",
       "        vertical-align: middle;\n",
       "    }\n",
       "\n",
       "    .dataframe tbody tr th {\n",
       "        vertical-align: top;\n",
       "    }\n",
       "\n",
       "    .dataframe thead th {\n",
       "        text-align: right;\n",
       "    }\n",
       "</style>\n",
       "<table border=\"1\" class=\"dataframe\">\n",
       "  <thead>\n",
       "    <tr style=\"text-align: right;\">\n",
       "      <th></th>\n",
       "      <th>language_full</th>\n",
       "      <th>language</th>\n",
       "      <th>proportion</th>\n",
       "    </tr>\n",
       "  </thead>\n",
       "  <tbody>\n",
       "    <tr>\n",
       "      <th>1815</th>\n",
       "      <td>Modern Greek (1453-)</td>\n",
       "      <td>el</td>\n",
       "      <td>0.357143</td>\n",
       "    </tr>\n",
       "    <tr>\n",
       "      <th>1814</th>\n",
       "      <td>English</td>\n",
       "      <td>en</td>\n",
       "      <td>0.224490</td>\n",
       "    </tr>\n",
       "    <tr>\n",
       "      <th>1816</th>\n",
       "      <td>Portuguese</td>\n",
       "      <td>pt</td>\n",
       "      <td>0.153061</td>\n",
       "    </tr>\n",
       "    <tr>\n",
       "      <th>1809</th>\n",
       "      <td>French</td>\n",
       "      <td>fr</td>\n",
       "      <td>0.081633</td>\n",
       "    </tr>\n",
       "    <tr>\n",
       "      <th>1808</th>\n",
       "      <td>Spanish</td>\n",
       "      <td>es</td>\n",
       "      <td>0.061224</td>\n",
       "    </tr>\n",
       "  </tbody>\n",
       "</table>\n",
       "</div>"
      ],
      "text/plain": [
       "             language_full language  proportion\n",
       "1815  Modern Greek (1453-)       el    0.357143\n",
       "1814               English       en    0.224490\n",
       "1816            Portuguese       pt    0.153061\n",
       "1809                French       fr    0.081633\n",
       "1808               Spanish       es    0.061224"
      ]
     },
     "metadata": {},
     "output_type": "display_data"
    },
    {
     "name": "stdout",
     "output_type": "stream",
     "text": [
      "\n",
      "Meie Kodu = Our Home (Sydney, NSW : 1949 - 1956) (280)\n"
     ]
    },
    {
     "data": {
      "text/html": [
       "<div>\n",
       "<style scoped>\n",
       "    .dataframe tbody tr th:only-of-type {\n",
       "        vertical-align: middle;\n",
       "    }\n",
       "\n",
       "    .dataframe tbody tr th {\n",
       "        vertical-align: top;\n",
       "    }\n",
       "\n",
       "    .dataframe thead th {\n",
       "        text-align: right;\n",
       "    }\n",
       "</style>\n",
       "<table border=\"1\" class=\"dataframe\">\n",
       "  <thead>\n",
       "    <tr style=\"text-align: right;\">\n",
       "      <th></th>\n",
       "      <th>language_full</th>\n",
       "      <th>language</th>\n",
       "      <th>proportion</th>\n",
       "    </tr>\n",
       "  </thead>\n",
       "  <tbody>\n",
       "    <tr>\n",
       "      <th>221</th>\n",
       "      <td>Estonian</td>\n",
       "      <td>et</td>\n",
       "      <td>1.0</td>\n",
       "    </tr>\n",
       "  </tbody>\n",
       "</table>\n",
       "</div>"
      ],
      "text/plain": [
       "    language_full language  proportion\n",
       "221      Estonian       et         1.0"
      ]
     },
     "metadata": {},
     "output_type": "display_data"
    },
    {
     "name": "stdout",
     "output_type": "stream",
     "text": [
      "\n",
      "Murchison Times and Cue-Big Bell-Reedy Advocate (WA : 1937 - 1942) (1543)\n"
     ]
    },
    {
     "data": {
      "text/html": [
       "<div>\n",
       "<style scoped>\n",
       "    .dataframe tbody tr th:only-of-type {\n",
       "        vertical-align: middle;\n",
       "    }\n",
       "\n",
       "    .dataframe tbody tr th {\n",
       "        vertical-align: top;\n",
       "    }\n",
       "\n",
       "    .dataframe thead th {\n",
       "        text-align: right;\n",
       "    }\n",
       "</style>\n",
       "<table border=\"1\" class=\"dataframe\">\n",
       "  <thead>\n",
       "    <tr style=\"text-align: right;\">\n",
       "      <th></th>\n",
       "      <th>language_full</th>\n",
       "      <th>language</th>\n",
       "      <th>proportion</th>\n",
       "    </tr>\n",
       "  </thead>\n",
       "  <tbody>\n",
       "    <tr>\n",
       "      <th>1838</th>\n",
       "      <td>English</td>\n",
       "      <td>en</td>\n",
       "      <td>0.892857</td>\n",
       "    </tr>\n",
       "    <tr>\n",
       "      <th>1839</th>\n",
       "      <td>Maltese</td>\n",
       "      <td>mt</td>\n",
       "      <td>0.071429</td>\n",
       "    </tr>\n",
       "  </tbody>\n",
       "</table>\n",
       "</div>"
      ],
      "text/plain": [
       "     language_full language  proportion\n",
       "1838       English       en    0.892857\n",
       "1839       Maltese       mt    0.071429"
      ]
     },
     "metadata": {},
     "output_type": "display_data"
    },
    {
     "name": "stdout",
     "output_type": "stream",
     "text": [
      "\n",
      "Musu Pastoge = Our Haven (Sydney, NSW : 1950 - 1954) (1594)\n"
     ]
    },
    {
     "data": {
      "text/html": [
       "<div>\n",
       "<style scoped>\n",
       "    .dataframe tbody tr th:only-of-type {\n",
       "        vertical-align: middle;\n",
       "    }\n",
       "\n",
       "    .dataframe tbody tr th {\n",
       "        vertical-align: top;\n",
       "    }\n",
       "\n",
       "    .dataframe thead th {\n",
       "        text-align: right;\n",
       "    }\n",
       "</style>\n",
       "<table border=\"1\" class=\"dataframe\">\n",
       "  <thead>\n",
       "    <tr style=\"text-align: right;\">\n",
       "      <th></th>\n",
       "      <th>language_full</th>\n",
       "      <th>language</th>\n",
       "      <th>proportion</th>\n",
       "    </tr>\n",
       "  </thead>\n",
       "  <tbody>\n",
       "    <tr>\n",
       "      <th>233</th>\n",
       "      <td>Lithuanian</td>\n",
       "      <td>lt</td>\n",
       "      <td>0.95</td>\n",
       "    </tr>\n",
       "  </tbody>\n",
       "</table>\n",
       "</div>"
      ],
      "text/plain": [
       "    language_full language  proportion\n",
       "233    Lithuanian       lt        0.95"
      ]
     },
     "metadata": {},
     "output_type": "display_data"
    },
    {
     "name": "stdout",
     "output_type": "stream",
     "text": [
      "\n",
      "Nasza droga (Adelaide, SA : 1952 - 1954) (1323)\n"
     ]
    },
    {
     "data": {
      "text/html": [
       "<div>\n",
       "<style scoped>\n",
       "    .dataframe tbody tr th:only-of-type {\n",
       "        vertical-align: middle;\n",
       "    }\n",
       "\n",
       "    .dataframe tbody tr th {\n",
       "        vertical-align: top;\n",
       "    }\n",
       "\n",
       "    .dataframe thead th {\n",
       "        text-align: right;\n",
       "    }\n",
       "</style>\n",
       "<table border=\"1\" class=\"dataframe\">\n",
       "  <thead>\n",
       "    <tr style=\"text-align: right;\">\n",
       "      <th></th>\n",
       "      <th>language_full</th>\n",
       "      <th>language</th>\n",
       "      <th>proportion</th>\n",
       "    </tr>\n",
       "  </thead>\n",
       "  <tbody>\n",
       "    <tr>\n",
       "      <th>869</th>\n",
       "      <td>Polish</td>\n",
       "      <td>pl</td>\n",
       "      <td>0.89</td>\n",
       "    </tr>\n",
       "    <tr>\n",
       "      <th>870</th>\n",
       "      <td>English</td>\n",
       "      <td>en</td>\n",
       "      <td>0.11</td>\n",
       "    </tr>\n",
       "  </tbody>\n",
       "</table>\n",
       "</div>"
      ],
      "text/plain": [
       "    language_full language  proportion\n",
       "869        Polish       pl        0.89\n",
       "870       English       en        0.11"
      ]
     },
     "metadata": {},
     "output_type": "display_data"
    },
    {
     "name": "stdout",
     "output_type": "stream",
     "text": [
      "\n",
      "Norden (Melbourne, Vic. : 1914 - 1918) (797)\n"
     ]
    },
    {
     "data": {
      "text/html": [
       "<div>\n",
       "<style scoped>\n",
       "    .dataframe tbody tr th:only-of-type {\n",
       "        vertical-align: middle;\n",
       "    }\n",
       "\n",
       "    .dataframe tbody tr th {\n",
       "        vertical-align: top;\n",
       "    }\n",
       "\n",
       "    .dataframe thead th {\n",
       "        text-align: right;\n",
       "    }\n",
       "</style>\n",
       "<table border=\"1\" class=\"dataframe\">\n",
       "  <thead>\n",
       "    <tr style=\"text-align: right;\">\n",
       "      <th></th>\n",
       "      <th>language_full</th>\n",
       "      <th>language</th>\n",
       "      <th>proportion</th>\n",
       "    </tr>\n",
       "  </thead>\n",
       "  <tbody>\n",
       "    <tr>\n",
       "      <th>1366</th>\n",
       "      <td>Danish</td>\n",
       "      <td>da</td>\n",
       "      <td>0.752809</td>\n",
       "    </tr>\n",
       "    <tr>\n",
       "      <th>1369</th>\n",
       "      <td>Swedish</td>\n",
       "      <td>sv</td>\n",
       "      <td>0.112360</td>\n",
       "    </tr>\n",
       "    <tr>\n",
       "      <th>1367</th>\n",
       "      <td>English</td>\n",
       "      <td>en</td>\n",
       "      <td>0.067416</td>\n",
       "    </tr>\n",
       "  </tbody>\n",
       "</table>\n",
       "</div>"
      ],
      "text/plain": [
       "     language_full language  proportion\n",
       "1366        Danish       da    0.752809\n",
       "1369       Swedish       sv    0.112360\n",
       "1367       English       en    0.067416"
      ]
     },
     "metadata": {},
     "output_type": "display_data"
    },
    {
     "name": "stdout",
     "output_type": "stream",
     "text": [
      "\n",
      "North Melbourne Gazette (Vic. : 1894 - 1901) (384)\n"
     ]
    },
    {
     "data": {
      "text/html": [
       "<div>\n",
       "<style scoped>\n",
       "    .dataframe tbody tr th:only-of-type {\n",
       "        vertical-align: middle;\n",
       "    }\n",
       "\n",
       "    .dataframe tbody tr th {\n",
       "        vertical-align: top;\n",
       "    }\n",
       "\n",
       "    .dataframe thead th {\n",
       "        text-align: right;\n",
       "    }\n",
       "</style>\n",
       "<table border=\"1\" class=\"dataframe\">\n",
       "  <thead>\n",
       "    <tr style=\"text-align: right;\">\n",
       "      <th></th>\n",
       "      <th>language_full</th>\n",
       "      <th>language</th>\n",
       "      <th>proportion</th>\n",
       "    </tr>\n",
       "  </thead>\n",
       "  <tbody>\n",
       "    <tr>\n",
       "      <th>1374</th>\n",
       "      <td>English</td>\n",
       "      <td>en</td>\n",
       "      <td>0.784810</td>\n",
       "    </tr>\n",
       "    <tr>\n",
       "      <th>1375</th>\n",
       "      <td>Maltese</td>\n",
       "      <td>mt</td>\n",
       "      <td>0.189873</td>\n",
       "    </tr>\n",
       "  </tbody>\n",
       "</table>\n",
       "</div>"
      ],
      "text/plain": [
       "     language_full language  proportion\n",
       "1374       English       en    0.784810\n",
       "1375       Maltese       mt    0.189873"
      ]
     },
     "metadata": {},
     "output_type": "display_data"
    },
    {
     "name": "stdout",
     "output_type": "stream",
     "text": [
      "\n",
      "Oceania (Sydney, NSW : 1913 - 1915) (1598)\n"
     ]
    },
    {
     "data": {
      "text/html": [
       "<div>\n",
       "<style scoped>\n",
       "    .dataframe tbody tr th:only-of-type {\n",
       "        vertical-align: middle;\n",
       "    }\n",
       "\n",
       "    .dataframe tbody tr th {\n",
       "        vertical-align: top;\n",
       "    }\n",
       "\n",
       "    .dataframe thead th {\n",
       "        text-align: right;\n",
       "    }\n",
       "</style>\n",
       "<table border=\"1\" class=\"dataframe\">\n",
       "  <thead>\n",
       "    <tr style=\"text-align: right;\">\n",
       "      <th></th>\n",
       "      <th>language_full</th>\n",
       "      <th>language</th>\n",
       "      <th>proportion</th>\n",
       "    </tr>\n",
       "  </thead>\n",
       "  <tbody>\n",
       "    <tr>\n",
       "      <th>254</th>\n",
       "      <td>Italian</td>\n",
       "      <td>it</td>\n",
       "      <td>0.54</td>\n",
       "    </tr>\n",
       "    <tr>\n",
       "      <th>255</th>\n",
       "      <td>English</td>\n",
       "      <td>en</td>\n",
       "      <td>0.46</td>\n",
       "    </tr>\n",
       "  </tbody>\n",
       "</table>\n",
       "</div>"
      ],
      "text/plain": [
       "    language_full language  proportion\n",
       "254       Italian       it        0.54\n",
       "255       English       en        0.46"
      ]
     },
     "metadata": {},
     "output_type": "display_data"
    },
    {
     "name": "stdout",
     "output_type": "stream",
     "text": [
      "\n",
      "Reporter and Illawarra Journal (Kiama, NSW : 1887 - 1894) (389)\n"
     ]
    },
    {
     "data": {
      "text/html": [
       "<div>\n",
       "<style scoped>\n",
       "    .dataframe tbody tr th:only-of-type {\n",
       "        vertical-align: middle;\n",
       "    }\n",
       "\n",
       "    .dataframe tbody tr th {\n",
       "        vertical-align: top;\n",
       "    }\n",
       "\n",
       "    .dataframe thead th {\n",
       "        text-align: right;\n",
       "    }\n",
       "</style>\n",
       "<table border=\"1\" class=\"dataframe\">\n",
       "  <thead>\n",
       "    <tr style=\"text-align: right;\">\n",
       "      <th></th>\n",
       "      <th>language_full</th>\n",
       "      <th>language</th>\n",
       "      <th>proportion</th>\n",
       "    </tr>\n",
       "  </thead>\n",
       "  <tbody>\n",
       "    <tr>\n",
       "      <th>269</th>\n",
       "      <td>English</td>\n",
       "      <td>en</td>\n",
       "      <td>0.894118</td>\n",
       "    </tr>\n",
       "    <tr>\n",
       "      <th>270</th>\n",
       "      <td>Maltese</td>\n",
       "      <td>mt</td>\n",
       "      <td>0.105882</td>\n",
       "    </tr>\n",
       "  </tbody>\n",
       "</table>\n",
       "</div>"
      ],
      "text/plain": [
       "    language_full language  proportion\n",
       "269       English       en    0.894118\n",
       "270       Maltese       mt    0.105882"
      ]
     },
     "metadata": {},
     "output_type": "display_data"
    },
    {
     "name": "stdout",
     "output_type": "stream",
     "text": [
      "\n",
      "Revue Australienne : Journal des Interets Francais en Australie ... (Sydney, NSW : 1873 - 1874) (1604)\n"
     ]
    },
    {
     "data": {
      "text/html": [
       "<div>\n",
       "<style scoped>\n",
       "    .dataframe tbody tr th:only-of-type {\n",
       "        vertical-align: middle;\n",
       "    }\n",
       "\n",
       "    .dataframe tbody tr th {\n",
       "        vertical-align: top;\n",
       "    }\n",
       "\n",
       "    .dataframe thead th {\n",
       "        text-align: right;\n",
       "    }\n",
       "</style>\n",
       "<table border=\"1\" class=\"dataframe\">\n",
       "  <thead>\n",
       "    <tr style=\"text-align: right;\">\n",
       "      <th></th>\n",
       "      <th>language_full</th>\n",
       "      <th>language</th>\n",
       "      <th>proportion</th>\n",
       "    </tr>\n",
       "  </thead>\n",
       "  <tbody>\n",
       "    <tr>\n",
       "      <th>271</th>\n",
       "      <td>French</td>\n",
       "      <td>fr</td>\n",
       "      <td>0.98</td>\n",
       "    </tr>\n",
       "  </tbody>\n",
       "</table>\n",
       "</div>"
      ],
      "text/plain": [
       "    language_full language  proportion\n",
       "271        French       fr        0.98"
      ]
     },
     "metadata": {},
     "output_type": "display_data"
    },
    {
     "name": "stdout",
     "output_type": "stream",
     "text": [
      "\n",
      "Ringwood and Croydon Chronicle (Vic. : 1914 - 1918) (329)\n"
     ]
    },
    {
     "data": {
      "text/html": [
       "<div>\n",
       "<style scoped>\n",
       "    .dataframe tbody tr th:only-of-type {\n",
       "        vertical-align: middle;\n",
       "    }\n",
       "\n",
       "    .dataframe tbody tr th {\n",
       "        vertical-align: top;\n",
       "    }\n",
       "\n",
       "    .dataframe thead th {\n",
       "        text-align: right;\n",
       "    }\n",
       "</style>\n",
       "<table border=\"1\" class=\"dataframe\">\n",
       "  <thead>\n",
       "    <tr style=\"text-align: right;\">\n",
       "      <th></th>\n",
       "      <th>language_full</th>\n",
       "      <th>language</th>\n",
       "      <th>proportion</th>\n",
       "    </tr>\n",
       "  </thead>\n",
       "  <tbody>\n",
       "    <tr>\n",
       "      <th>1422</th>\n",
       "      <td>English</td>\n",
       "      <td>en</td>\n",
       "      <td>0.938144</td>\n",
       "    </tr>\n",
       "    <tr>\n",
       "      <th>1423</th>\n",
       "      <td>Maltese</td>\n",
       "      <td>mt</td>\n",
       "      <td>0.061856</td>\n",
       "    </tr>\n",
       "  </tbody>\n",
       "</table>\n",
       "</div>"
      ],
      "text/plain": [
       "     language_full language  proportion\n",
       "1422       English       en    0.938144\n",
       "1423       Maltese       mt    0.061856"
      ]
     },
     "metadata": {},
     "output_type": "display_data"
    },
    {
     "name": "stdout",
     "output_type": "stream",
     "text": [
      "\n",
      "Sandringham Southern Cross (Vic. : 1914 - 1918) (318)\n"
     ]
    },
    {
     "data": {
      "text/html": [
       "<div>\n",
       "<style scoped>\n",
       "    .dataframe tbody tr th:only-of-type {\n",
       "        vertical-align: middle;\n",
       "    }\n",
       "\n",
       "    .dataframe tbody tr th {\n",
       "        vertical-align: top;\n",
       "    }\n",
       "\n",
       "    .dataframe thead th {\n",
       "        text-align: right;\n",
       "    }\n",
       "</style>\n",
       "<table border=\"1\" class=\"dataframe\">\n",
       "  <thead>\n",
       "    <tr style=\"text-align: right;\">\n",
       "      <th></th>\n",
       "      <th>language_full</th>\n",
       "      <th>language</th>\n",
       "      <th>proportion</th>\n",
       "    </tr>\n",
       "  </thead>\n",
       "  <tbody>\n",
       "    <tr>\n",
       "      <th>1430</th>\n",
       "      <td>English</td>\n",
       "      <td>en</td>\n",
       "      <td>0.731707</td>\n",
       "    </tr>\n",
       "    <tr>\n",
       "      <th>1431</th>\n",
       "      <td>Maltese</td>\n",
       "      <td>mt</td>\n",
       "      <td>0.243902</td>\n",
       "    </tr>\n",
       "  </tbody>\n",
       "</table>\n",
       "</div>"
      ],
      "text/plain": [
       "     language_full language  proportion\n",
       "1430       English       en    0.731707\n",
       "1431       Maltese       mt    0.243902"
      ]
     },
     "metadata": {},
     "output_type": "display_data"
    },
    {
     "name": "stdout",
     "output_type": "stream",
     "text": [
      "\n",
      "Seamen's Strike Bulletin (Melbourne, Vic. : 1919) (1043)\n"
     ]
    },
    {
     "data": {
      "text/html": [
       "<div>\n",
       "<style scoped>\n",
       "    .dataframe tbody tr th:only-of-type {\n",
       "        vertical-align: middle;\n",
       "    }\n",
       "\n",
       "    .dataframe tbody tr th {\n",
       "        vertical-align: top;\n",
       "    }\n",
       "\n",
       "    .dataframe thead th {\n",
       "        text-align: right;\n",
       "    }\n",
       "</style>\n",
       "<table border=\"1\" class=\"dataframe\">\n",
       "  <thead>\n",
       "    <tr style=\"text-align: right;\">\n",
       "      <th></th>\n",
       "      <th>language_full</th>\n",
       "      <th>language</th>\n",
       "      <th>proportion</th>\n",
       "    </tr>\n",
       "  </thead>\n",
       "  <tbody>\n",
       "    <tr>\n",
       "      <th>1436</th>\n",
       "      <td>Polish</td>\n",
       "      <td>pl</td>\n",
       "      <td>0.4</td>\n",
       "    </tr>\n",
       "    <tr>\n",
       "      <th>1435</th>\n",
       "      <td>Bosnian</td>\n",
       "      <td>bs</td>\n",
       "      <td>0.2</td>\n",
       "    </tr>\n",
       "    <tr>\n",
       "      <th>1437</th>\n",
       "      <td>Russian</td>\n",
       "      <td>ru-Latn</td>\n",
       "      <td>0.2</td>\n",
       "    </tr>\n",
       "    <tr>\n",
       "      <th>1438</th>\n",
       "      <td>Western Frisian</td>\n",
       "      <td>fy</td>\n",
       "      <td>0.2</td>\n",
       "    </tr>\n",
       "  </tbody>\n",
       "</table>\n",
       "</div>"
      ],
      "text/plain": [
       "        language_full language  proportion\n",
       "1436           Polish       pl         0.4\n",
       "1435          Bosnian       bs         0.2\n",
       "1437          Russian  ru-Latn         0.2\n",
       "1438  Western Frisian       fy         0.2"
      ]
     },
     "metadata": {},
     "output_type": "display_data"
    },
    {
     "name": "stdout",
     "output_type": "stream",
     "text": [
      "\n",
      "Southern Morning Herald (Goulburn, NSW : 1920 - 1923) (418)\n"
     ]
    },
    {
     "data": {
      "text/html": [
       "<div>\n",
       "<style scoped>\n",
       "    .dataframe tbody tr th:only-of-type {\n",
       "        vertical-align: middle;\n",
       "    }\n",
       "\n",
       "    .dataframe tbody tr th {\n",
       "        vertical-align: top;\n",
       "    }\n",
       "\n",
       "    .dataframe thead th {\n",
       "        text-align: right;\n",
       "    }\n",
       "</style>\n",
       "<table border=\"1\" class=\"dataframe\">\n",
       "  <thead>\n",
       "    <tr style=\"text-align: right;\">\n",
       "      <th></th>\n",
       "      <th>language_full</th>\n",
       "      <th>language</th>\n",
       "      <th>proportion</th>\n",
       "    </tr>\n",
       "  </thead>\n",
       "  <tbody>\n",
       "    <tr>\n",
       "      <th>285</th>\n",
       "      <td>English</td>\n",
       "      <td>en</td>\n",
       "      <td>0.800000</td>\n",
       "    </tr>\n",
       "    <tr>\n",
       "      <th>286</th>\n",
       "      <td>Maltese</td>\n",
       "      <td>mt</td>\n",
       "      <td>0.146667</td>\n",
       "    </tr>\n",
       "    <tr>\n",
       "      <th>287</th>\n",
       "      <td>Somali</td>\n",
       "      <td>so</td>\n",
       "      <td>0.053333</td>\n",
       "    </tr>\n",
       "  </tbody>\n",
       "</table>\n",
       "</div>"
      ],
      "text/plain": [
       "    language_full language  proportion\n",
       "285       English       en    0.800000\n",
       "286       Maltese       mt    0.146667\n",
       "287        Somali       so    0.053333"
      ]
     },
     "metadata": {},
     "output_type": "display_data"
    },
    {
     "name": "stdout",
     "output_type": "stream",
     "text": [
      "\n",
      "Stampa Italiana = The Italian Press (Perth, WA : 1931 - 1932) (1380)\n"
     ]
    },
    {
     "data": {
      "text/html": [
       "<div>\n",
       "<style scoped>\n",
       "    .dataframe tbody tr th:only-of-type {\n",
       "        vertical-align: middle;\n",
       "    }\n",
       "\n",
       "    .dataframe tbody tr th {\n",
       "        vertical-align: top;\n",
       "    }\n",
       "\n",
       "    .dataframe thead th {\n",
       "        text-align: right;\n",
       "    }\n",
       "</style>\n",
       "<table border=\"1\" class=\"dataframe\">\n",
       "  <thead>\n",
       "    <tr style=\"text-align: right;\">\n",
       "      <th></th>\n",
       "      <th>language_full</th>\n",
       "      <th>language</th>\n",
       "      <th>proportion</th>\n",
       "    </tr>\n",
       "  </thead>\n",
       "  <tbody>\n",
       "    <tr>\n",
       "      <th>1881</th>\n",
       "      <td>Italian</td>\n",
       "      <td>it</td>\n",
       "      <td>0.97</td>\n",
       "    </tr>\n",
       "  </tbody>\n",
       "</table>\n",
       "</div>"
      ],
      "text/plain": [
       "     language_full language  proportion\n",
       "1881       Italian       it        0.97"
      ]
     },
     "metadata": {},
     "output_type": "display_data"
    },
    {
     "name": "stdout",
     "output_type": "stream",
     "text": [
      "\n",
      "Suedaustralische Zeitung (Adelaide, SA : 1850 - 1851) (314)\n"
     ]
    },
    {
     "data": {
      "text/html": [
       "<div>\n",
       "<style scoped>\n",
       "    .dataframe tbody tr th:only-of-type {\n",
       "        vertical-align: middle;\n",
       "    }\n",
       "\n",
       "    .dataframe tbody tr th {\n",
       "        vertical-align: top;\n",
       "    }\n",
       "\n",
       "    .dataframe thead th {\n",
       "        text-align: right;\n",
       "    }\n",
       "</style>\n",
       "<table border=\"1\" class=\"dataframe\">\n",
       "  <thead>\n",
       "    <tr style=\"text-align: right;\">\n",
       "      <th></th>\n",
       "      <th>language_full</th>\n",
       "      <th>language</th>\n",
       "      <th>proportion</th>\n",
       "    </tr>\n",
       "  </thead>\n",
       "  <tbody>\n",
       "    <tr>\n",
       "      <th>924</th>\n",
       "      <td>German</td>\n",
       "      <td>de</td>\n",
       "      <td>0.888889</td>\n",
       "    </tr>\n",
       "    <tr>\n",
       "      <th>925</th>\n",
       "      <td>English</td>\n",
       "      <td>en</td>\n",
       "      <td>0.111111</td>\n",
       "    </tr>\n",
       "  </tbody>\n",
       "</table>\n",
       "</div>"
      ],
      "text/plain": [
       "    language_full language  proportion\n",
       "924        German       de    0.888889\n",
       "925       English       en    0.111111"
      ]
     },
     "metadata": {},
     "output_type": "display_data"
    },
    {
     "name": "stdout",
     "output_type": "stream",
     "text": [
      "\n",
      "Sunday News (Sydney, NSW : 1919) (623)\n"
     ]
    },
    {
     "data": {
      "text/html": [
       "<div>\n",
       "<style scoped>\n",
       "    .dataframe tbody tr th:only-of-type {\n",
       "        vertical-align: middle;\n",
       "    }\n",
       "\n",
       "    .dataframe tbody tr th {\n",
       "        vertical-align: top;\n",
       "    }\n",
       "\n",
       "    .dataframe thead th {\n",
       "        text-align: right;\n",
       "    }\n",
       "</style>\n",
       "<table border=\"1\" class=\"dataframe\">\n",
       "  <thead>\n",
       "    <tr style=\"text-align: right;\">\n",
       "      <th></th>\n",
       "      <th>language_full</th>\n",
       "      <th>language</th>\n",
       "      <th>proportion</th>\n",
       "    </tr>\n",
       "  </thead>\n",
       "  <tbody>\n",
       "    <tr>\n",
       "      <th>290</th>\n",
       "      <td>English</td>\n",
       "      <td>en</td>\n",
       "      <td>0.779221</td>\n",
       "    </tr>\n",
       "    <tr>\n",
       "      <th>289</th>\n",
       "      <td>Maltese</td>\n",
       "      <td>mt</td>\n",
       "      <td>0.181818</td>\n",
       "    </tr>\n",
       "  </tbody>\n",
       "</table>\n",
       "</div>"
      ],
      "text/plain": [
       "    language_full language  proportion\n",
       "290       English       en    0.779221\n",
       "289       Maltese       mt    0.181818"
      ]
     },
     "metadata": {},
     "output_type": "display_data"
    },
    {
     "name": "stdout",
     "output_type": "stream",
     "text": [
      "\n",
      "Sunday Times Edizione Italiana (Perth, WA : 1958 - 1959) (1379)\n"
     ]
    },
    {
     "data": {
      "text/html": [
       "<div>\n",
       "<style scoped>\n",
       "    .dataframe tbody tr th:only-of-type {\n",
       "        vertical-align: middle;\n",
       "    }\n",
       "\n",
       "    .dataframe tbody tr th {\n",
       "        vertical-align: top;\n",
       "    }\n",
       "\n",
       "    .dataframe thead th {\n",
       "        text-align: right;\n",
       "    }\n",
       "</style>\n",
       "<table border=\"1\" class=\"dataframe\">\n",
       "  <thead>\n",
       "    <tr style=\"text-align: right;\">\n",
       "      <th></th>\n",
       "      <th>language_full</th>\n",
       "      <th>language</th>\n",
       "      <th>proportion</th>\n",
       "    </tr>\n",
       "  </thead>\n",
       "  <tbody>\n",
       "    <tr>\n",
       "      <th>1888</th>\n",
       "      <td>Italian</td>\n",
       "      <td>it</td>\n",
       "      <td>1.0</td>\n",
       "    </tr>\n",
       "  </tbody>\n",
       "</table>\n",
       "</div>"
      ],
      "text/plain": [
       "     language_full language  proportion\n",
       "1888       Italian       it         1.0"
      ]
     },
     "metadata": {},
     "output_type": "display_data"
    },
    {
     "name": "stdout",
     "output_type": "stream",
     "text": [
      "\n",
      "Süd Australische Zeitung (Tanunda and Adelaide, SA : 1860 - 1874) (278)\n"
     ]
    },
    {
     "data": {
      "text/html": [
       "<div>\n",
       "<style scoped>\n",
       "    .dataframe tbody tr th:only-of-type {\n",
       "        vertical-align: middle;\n",
       "    }\n",
       "\n",
       "    .dataframe tbody tr th {\n",
       "        vertical-align: top;\n",
       "    }\n",
       "\n",
       "    .dataframe thead th {\n",
       "        text-align: right;\n",
       "    }\n",
       "</style>\n",
       "<table border=\"1\" class=\"dataframe\">\n",
       "  <thead>\n",
       "    <tr style=\"text-align: right;\">\n",
       "      <th></th>\n",
       "      <th>language_full</th>\n",
       "      <th>language</th>\n",
       "      <th>proportion</th>\n",
       "    </tr>\n",
       "  </thead>\n",
       "  <tbody>\n",
       "    <tr>\n",
       "      <th>922</th>\n",
       "      <td>German</td>\n",
       "      <td>de</td>\n",
       "      <td>0.989691</td>\n",
       "    </tr>\n",
       "  </tbody>\n",
       "</table>\n",
       "</div>"
      ],
      "text/plain": [
       "    language_full language  proportion\n",
       "922        German       de    0.989691"
      ]
     },
     "metadata": {},
     "output_type": "display_data"
    },
    {
     "name": "stdout",
     "output_type": "stream",
     "text": [
      "\n",
      "The Advertiser (Adelaide, SA : 1889 - 1931) (34)\n"
     ]
    },
    {
     "data": {
      "text/html": [
       "<div>\n",
       "<style scoped>\n",
       "    .dataframe tbody tr th:only-of-type {\n",
       "        vertical-align: middle;\n",
       "    }\n",
       "\n",
       "    .dataframe tbody tr th {\n",
       "        vertical-align: top;\n",
       "    }\n",
       "\n",
       "    .dataframe thead th {\n",
       "        text-align: right;\n",
       "    }\n",
       "</style>\n",
       "<table border=\"1\" class=\"dataframe\">\n",
       "  <thead>\n",
       "    <tr style=\"text-align: right;\">\n",
       "      <th></th>\n",
       "      <th>language_full</th>\n",
       "      <th>language</th>\n",
       "      <th>proportion</th>\n",
       "    </tr>\n",
       "  </thead>\n",
       "  <tbody>\n",
       "    <tr>\n",
       "      <th>927</th>\n",
       "      <td>English</td>\n",
       "      <td>en</td>\n",
       "      <td>0.513889</td>\n",
       "    </tr>\n",
       "    <tr>\n",
       "      <th>928</th>\n",
       "      <td>Maltese</td>\n",
       "      <td>mt</td>\n",
       "      <td>0.486111</td>\n",
       "    </tr>\n",
       "  </tbody>\n",
       "</table>\n",
       "</div>"
      ],
      "text/plain": [
       "    language_full language  proportion\n",
       "927       English       en    0.513889\n",
       "928       Maltese       mt    0.486111"
      ]
     },
     "metadata": {},
     "output_type": "display_data"
    },
    {
     "name": "stdout",
     "output_type": "stream",
     "text": [
      "\n",
      "The Australian Jewish News (Melbourne, Vic. : 1935 - 1999) (1685)\n"
     ]
    },
    {
     "data": {
      "text/html": [
       "<div>\n",
       "<style scoped>\n",
       "    .dataframe tbody tr th:only-of-type {\n",
       "        vertical-align: middle;\n",
       "    }\n",
       "\n",
       "    .dataframe tbody tr th {\n",
       "        vertical-align: top;\n",
       "    }\n",
       "\n",
       "    .dataframe thead th {\n",
       "        text-align: right;\n",
       "    }\n",
       "</style>\n",
       "<table border=\"1\" class=\"dataframe\">\n",
       "  <thead>\n",
       "    <tr style=\"text-align: right;\">\n",
       "      <th></th>\n",
       "      <th>language_full</th>\n",
       "      <th>language</th>\n",
       "      <th>proportion</th>\n",
       "    </tr>\n",
       "  </thead>\n",
       "  <tbody>\n",
       "    <tr>\n",
       "      <th>1473</th>\n",
       "      <td>English</td>\n",
       "      <td>en</td>\n",
       "      <td>0.810526</td>\n",
       "    </tr>\n",
       "    <tr>\n",
       "      <th>1475</th>\n",
       "      <td>Yiddish</td>\n",
       "      <td>yi</td>\n",
       "      <td>0.157895</td>\n",
       "    </tr>\n",
       "  </tbody>\n",
       "</table>\n",
       "</div>"
      ],
      "text/plain": [
       "     language_full language  proportion\n",
       "1473       English       en    0.810526\n",
       "1475       Yiddish       yi    0.157895"
      ]
     },
     "metadata": {},
     "output_type": "display_data"
    },
    {
     "name": "stdout",
     "output_type": "stream",
     "text": [
      "\n",
      "The Castlereagh (Gilgandra, NSW : 1905 - 1907) (224)\n"
     ]
    },
    {
     "data": {
      "text/html": [
       "<div>\n",
       "<style scoped>\n",
       "    .dataframe tbody tr th:only-of-type {\n",
       "        vertical-align: middle;\n",
       "    }\n",
       "\n",
       "    .dataframe tbody tr th {\n",
       "        vertical-align: top;\n",
       "    }\n",
       "\n",
       "    .dataframe thead th {\n",
       "        text-align: right;\n",
       "    }\n",
       "</style>\n",
       "<table border=\"1\" class=\"dataframe\">\n",
       "  <thead>\n",
       "    <tr style=\"text-align: right;\">\n",
       "      <th></th>\n",
       "      <th>language_full</th>\n",
       "      <th>language</th>\n",
       "      <th>proportion</th>\n",
       "    </tr>\n",
       "  </thead>\n",
       "  <tbody>\n",
       "    <tr>\n",
       "      <th>384</th>\n",
       "      <td>English</td>\n",
       "      <td>en</td>\n",
       "      <td>0.609195</td>\n",
       "    </tr>\n",
       "    <tr>\n",
       "      <th>385</th>\n",
       "      <td>Somali</td>\n",
       "      <td>so</td>\n",
       "      <td>0.310345</td>\n",
       "    </tr>\n",
       "    <tr>\n",
       "      <th>386</th>\n",
       "      <td>Maltese</td>\n",
       "      <td>mt</td>\n",
       "      <td>0.080460</td>\n",
       "    </tr>\n",
       "  </tbody>\n",
       "</table>\n",
       "</div>"
      ],
      "text/plain": [
       "    language_full language  proportion\n",
       "384       English       en    0.609195\n",
       "385        Somali       so    0.310345\n",
       "386       Maltese       mt    0.080460"
      ]
     },
     "metadata": {},
     "output_type": "display_data"
    },
    {
     "name": "stdout",
     "output_type": "stream",
     "text": [
      "\n",
      "The Chinese Advertiser (Ballarat, Vic. : 1856) (706)\n"
     ]
    },
    {
     "data": {
      "text/html": [
       "<div>\n",
       "<style scoped>\n",
       "    .dataframe tbody tr th:only-of-type {\n",
       "        vertical-align: middle;\n",
       "    }\n",
       "\n",
       "    .dataframe tbody tr th {\n",
       "        vertical-align: top;\n",
       "    }\n",
       "\n",
       "    .dataframe thead th {\n",
       "        text-align: right;\n",
       "    }\n",
       "</style>\n",
       "<table border=\"1\" class=\"dataframe\">\n",
       "  <thead>\n",
       "    <tr style=\"text-align: right;\">\n",
       "      <th></th>\n",
       "      <th>language_full</th>\n",
       "      <th>language</th>\n",
       "      <th>proportion</th>\n",
       "    </tr>\n",
       "  </thead>\n",
       "  <tbody>\n",
       "    <tr>\n",
       "      <th>1504</th>\n",
       "      <td>Chinese</td>\n",
       "      <td>zh</td>\n",
       "      <td>0.500000</td>\n",
       "    </tr>\n",
       "    <tr>\n",
       "      <th>1506</th>\n",
       "      <td>English</td>\n",
       "      <td>en</td>\n",
       "      <td>0.333333</td>\n",
       "    </tr>\n",
       "    <tr>\n",
       "      <th>1505</th>\n",
       "      <td>Scottish Gaelic</td>\n",
       "      <td>gd</td>\n",
       "      <td>0.166667</td>\n",
       "    </tr>\n",
       "  </tbody>\n",
       "</table>\n",
       "</div>"
      ],
      "text/plain": [
       "        language_full language  proportion\n",
       "1504          Chinese       zh    0.500000\n",
       "1506          English       en    0.333333\n",
       "1505  Scottish Gaelic       gd    0.166667"
      ]
     },
     "metadata": {},
     "output_type": "display_data"
    },
    {
     "name": "stdout",
     "output_type": "stream",
     "text": [
      "\n",
      "The Derby News (WA : 1887) (1617)\n"
     ]
    },
    {
     "data": {
      "text/html": [
       "<div>\n",
       "<style scoped>\n",
       "    .dataframe tbody tr th:only-of-type {\n",
       "        vertical-align: middle;\n",
       "    }\n",
       "\n",
       "    .dataframe tbody tr th {\n",
       "        vertical-align: top;\n",
       "    }\n",
       "\n",
       "    .dataframe thead th {\n",
       "        text-align: right;\n",
       "    }\n",
       "</style>\n",
       "<table border=\"1\" class=\"dataframe\">\n",
       "  <thead>\n",
       "    <tr style=\"text-align: right;\">\n",
       "      <th></th>\n",
       "      <th>language_full</th>\n",
       "      <th>language</th>\n",
       "      <th>proportion</th>\n",
       "    </tr>\n",
       "  </thead>\n",
       "  <tbody>\n",
       "    <tr>\n",
       "      <th>1927</th>\n",
       "      <td>Maltese</td>\n",
       "      <td>mt</td>\n",
       "      <td>0.75</td>\n",
       "    </tr>\n",
       "    <tr>\n",
       "      <th>1928</th>\n",
       "      <td>Corsican</td>\n",
       "      <td>co</td>\n",
       "      <td>0.25</td>\n",
       "    </tr>\n",
       "  </tbody>\n",
       "</table>\n",
       "</div>"
      ],
      "text/plain": [
       "     language_full language  proportion\n",
       "1927       Maltese       mt        0.75\n",
       "1928      Corsican       co        0.25"
      ]
     },
     "metadata": {},
     "output_type": "display_data"
    },
    {
     "name": "stdout",
     "output_type": "stream",
     "text": [
      "\n",
      "The English and Chinese Advertiser (Vic. : 1856 - 1858) (685)\n"
     ]
    },
    {
     "data": {
      "text/html": [
       "<div>\n",
       "<style scoped>\n",
       "    .dataframe tbody tr th:only-of-type {\n",
       "        vertical-align: middle;\n",
       "    }\n",
       "\n",
       "    .dataframe tbody tr th {\n",
       "        vertical-align: top;\n",
       "    }\n",
       "\n",
       "    .dataframe thead th {\n",
       "        text-align: right;\n",
       "    }\n",
       "</style>\n",
       "<table border=\"1\" class=\"dataframe\">\n",
       "  <thead>\n",
       "    <tr style=\"text-align: right;\">\n",
       "      <th></th>\n",
       "      <th>language_full</th>\n",
       "      <th>language</th>\n",
       "      <th>proportion</th>\n",
       "    </tr>\n",
       "  </thead>\n",
       "  <tbody>\n",
       "    <tr>\n",
       "      <th>1522</th>\n",
       "      <td>English</td>\n",
       "      <td>en</td>\n",
       "      <td>0.894737</td>\n",
       "    </tr>\n",
       "    <tr>\n",
       "      <th>1523</th>\n",
       "      <td>Chinese</td>\n",
       "      <td>zh</td>\n",
       "      <td>0.052632</td>\n",
       "    </tr>\n",
       "    <tr>\n",
       "      <th>1524</th>\n",
       "      <td>Maltese</td>\n",
       "      <td>mt</td>\n",
       "      <td>0.052632</td>\n",
       "    </tr>\n",
       "  </tbody>\n",
       "</table>\n",
       "</div>"
      ],
      "text/plain": [
       "     language_full language  proportion\n",
       "1522       English       en    0.894737\n",
       "1523       Chinese       zh    0.052632\n",
       "1524       Maltese       mt    0.052632"
      ]
     },
     "metadata": {},
     "output_type": "display_data"
    },
    {
     "name": "stdout",
     "output_type": "stream",
     "text": [
      "\n",
      "The Hay Standard and Advertiser for Balranald, Wentworth, Maude...(Hay, NSW : 1871 - 1873; 1880 - 1881; 1890 - 1900) (725)\n"
     ]
    },
    {
     "data": {
      "text/html": [
       "<div>\n",
       "<style scoped>\n",
       "    .dataframe tbody tr th:only-of-type {\n",
       "        vertical-align: middle;\n",
       "    }\n",
       "\n",
       "    .dataframe tbody tr th {\n",
       "        vertical-align: top;\n",
       "    }\n",
       "\n",
       "    .dataframe thead th {\n",
       "        text-align: right;\n",
       "    }\n",
       "</style>\n",
       "<table border=\"1\" class=\"dataframe\">\n",
       "  <thead>\n",
       "    <tr style=\"text-align: right;\">\n",
       "      <th></th>\n",
       "      <th>language_full</th>\n",
       "      <th>language</th>\n",
       "      <th>proportion</th>\n",
       "    </tr>\n",
       "  </thead>\n",
       "  <tbody>\n",
       "    <tr>\n",
       "      <th>441</th>\n",
       "      <td>English</td>\n",
       "      <td>en</td>\n",
       "      <td>0.947368</td>\n",
       "    </tr>\n",
       "    <tr>\n",
       "      <th>442</th>\n",
       "      <td>Maltese</td>\n",
       "      <td>mt</td>\n",
       "      <td>0.052632</td>\n",
       "    </tr>\n",
       "  </tbody>\n",
       "</table>\n",
       "</div>"
      ],
      "text/plain": [
       "    language_full language  proportion\n",
       "441       English       en    0.947368\n",
       "442       Maltese       mt    0.052632"
      ]
     },
     "metadata": {},
     "output_type": "display_data"
    },
    {
     "name": "stdout",
     "output_type": "stream",
     "text": [
      "\n",
      "The Herald of Tasmania (Hobart, Tas. : 1845) (1741)\n"
     ]
    },
    {
     "data": {
      "text/html": [
       "<div>\n",
       "<style scoped>\n",
       "    .dataframe tbody tr th:only-of-type {\n",
       "        vertical-align: middle;\n",
       "    }\n",
       "\n",
       "    .dataframe tbody tr th {\n",
       "        vertical-align: top;\n",
       "    }\n",
       "\n",
       "    .dataframe thead th {\n",
       "        text-align: right;\n",
       "    }\n",
       "</style>\n",
       "<table border=\"1\" class=\"dataframe\">\n",
       "  <thead>\n",
       "    <tr style=\"text-align: right;\">\n",
       "      <th></th>\n",
       "      <th>language_full</th>\n",
       "      <th>language</th>\n",
       "      <th>proportion</th>\n",
       "    </tr>\n",
       "  </thead>\n",
       "  <tbody>\n",
       "    <tr>\n",
       "      <th>1083</th>\n",
       "      <td>English</td>\n",
       "      <td>en</td>\n",
       "      <td>0.857143</td>\n",
       "    </tr>\n",
       "    <tr>\n",
       "      <th>1085</th>\n",
       "      <td>Italian</td>\n",
       "      <td>it</td>\n",
       "      <td>0.095238</td>\n",
       "    </tr>\n",
       "  </tbody>\n",
       "</table>\n",
       "</div>"
      ],
      "text/plain": [
       "     language_full language  proportion\n",
       "1083       English       en    0.857143\n",
       "1085       Italian       it    0.095238"
      ]
     },
     "metadata": {},
     "output_type": "display_data"
    },
    {
     "name": "stdout",
     "output_type": "stream",
     "text": [
      "\n",
      "The Jewish Weekly News (Melbourne, Vic. : 1933 - 1935) (1707)\n"
     ]
    },
    {
     "data": {
      "text/html": [
       "<div>\n",
       "<style scoped>\n",
       "    .dataframe tbody tr th:only-of-type {\n",
       "        vertical-align: middle;\n",
       "    }\n",
       "\n",
       "    .dataframe tbody tr th {\n",
       "        vertical-align: top;\n",
       "    }\n",
       "\n",
       "    .dataframe thead th {\n",
       "        text-align: right;\n",
       "    }\n",
       "</style>\n",
       "<table border=\"1\" class=\"dataframe\">\n",
       "  <thead>\n",
       "    <tr style=\"text-align: right;\">\n",
       "      <th></th>\n",
       "      <th>language_full</th>\n",
       "      <th>language</th>\n",
       "      <th>proportion</th>\n",
       "    </tr>\n",
       "  </thead>\n",
       "  <tbody>\n",
       "    <tr>\n",
       "      <th>1535</th>\n",
       "      <td>English</td>\n",
       "      <td>en</td>\n",
       "      <td>0.81</td>\n",
       "    </tr>\n",
       "    <tr>\n",
       "      <th>1536</th>\n",
       "      <td>Yiddish</td>\n",
       "      <td>yi</td>\n",
       "      <td>0.19</td>\n",
       "    </tr>\n",
       "  </tbody>\n",
       "</table>\n",
       "</div>"
      ],
      "text/plain": [
       "     language_full language  proportion\n",
       "1535       English       en        0.81\n",
       "1536       Yiddish       yi        0.19"
      ]
     },
     "metadata": {},
     "output_type": "display_data"
    },
    {
     "name": "stdout",
     "output_type": "stream",
     "text": [
      "\n",
      "The Melbourne Advertiser (Vic. : 1838) (935)\n"
     ]
    },
    {
     "data": {
      "text/html": [
       "<div>\n",
       "<style scoped>\n",
       "    .dataframe tbody tr th:only-of-type {\n",
       "        vertical-align: middle;\n",
       "    }\n",
       "\n",
       "    .dataframe tbody tr th {\n",
       "        vertical-align: top;\n",
       "    }\n",
       "\n",
       "    .dataframe thead th {\n",
       "        text-align: right;\n",
       "    }\n",
       "</style>\n",
       "<table border=\"1\" class=\"dataframe\">\n",
       "  <thead>\n",
       "    <tr style=\"text-align: right;\">\n",
       "      <th></th>\n",
       "      <th>language_full</th>\n",
       "      <th>language</th>\n",
       "      <th>proportion</th>\n",
       "    </tr>\n",
       "  </thead>\n",
       "  <tbody>\n",
       "    <tr>\n",
       "      <th>1550</th>\n",
       "      <td>English</td>\n",
       "      <td>en</td>\n",
       "      <td>0.666667</td>\n",
       "    </tr>\n",
       "    <tr>\n",
       "      <th>1551</th>\n",
       "      <td>Welsh</td>\n",
       "      <td>cy</td>\n",
       "      <td>0.333333</td>\n",
       "    </tr>\n",
       "  </tbody>\n",
       "</table>\n",
       "</div>"
      ],
      "text/plain": [
       "     language_full language  proportion\n",
       "1550       English       en    0.666667\n",
       "1551         Welsh       cy    0.333333"
      ]
     },
     "metadata": {},
     "output_type": "display_data"
    },
    {
     "name": "stdout",
     "output_type": "stream",
     "text": [
      "\n",
      "The Mildura Irrigationist (Vic. : 1892 - 1893) (1583)\n"
     ]
    },
    {
     "data": {
      "text/html": [
       "<div>\n",
       "<style scoped>\n",
       "    .dataframe tbody tr th:only-of-type {\n",
       "        vertical-align: middle;\n",
       "    }\n",
       "\n",
       "    .dataframe tbody tr th {\n",
       "        vertical-align: top;\n",
       "    }\n",
       "\n",
       "    .dataframe thead th {\n",
       "        text-align: right;\n",
       "    }\n",
       "</style>\n",
       "<table border=\"1\" class=\"dataframe\">\n",
       "  <thead>\n",
       "    <tr style=\"text-align: right;\">\n",
       "      <th></th>\n",
       "      <th>language_full</th>\n",
       "      <th>language</th>\n",
       "      <th>proportion</th>\n",
       "    </tr>\n",
       "  </thead>\n",
       "  <tbody>\n",
       "    <tr>\n",
       "      <th>1565</th>\n",
       "      <td>Maltese</td>\n",
       "      <td>mt</td>\n",
       "      <td>0.7625</td>\n",
       "    </tr>\n",
       "    <tr>\n",
       "      <th>1564</th>\n",
       "      <td>English</td>\n",
       "      <td>en</td>\n",
       "      <td>0.1250</td>\n",
       "    </tr>\n",
       "    <tr>\n",
       "      <th>1566</th>\n",
       "      <td>Somali</td>\n",
       "      <td>so</td>\n",
       "      <td>0.1125</td>\n",
       "    </tr>\n",
       "  </tbody>\n",
       "</table>\n",
       "</div>"
      ],
      "text/plain": [
       "     language_full language  proportion\n",
       "1565       Maltese       mt      0.7625\n",
       "1564       English       en      0.1250\n",
       "1566        Somali       so      0.1125"
      ]
     },
     "metadata": {},
     "output_type": "display_data"
    },
    {
     "name": "stdout",
     "output_type": "stream",
     "text": [
      "\n",
      "The Mildura Irrigationist and Murray River Agricultural Times (Vic. : 1888) (1581)\n"
     ]
    },
    {
     "data": {
      "text/html": [
       "<div>\n",
       "<style scoped>\n",
       "    .dataframe tbody tr th:only-of-type {\n",
       "        vertical-align: middle;\n",
       "    }\n",
       "\n",
       "    .dataframe tbody tr th {\n",
       "        vertical-align: top;\n",
       "    }\n",
       "\n",
       "    .dataframe thead th {\n",
       "        text-align: right;\n",
       "    }\n",
       "</style>\n",
       "<table border=\"1\" class=\"dataframe\">\n",
       "  <thead>\n",
       "    <tr style=\"text-align: right;\">\n",
       "      <th></th>\n",
       "      <th>language_full</th>\n",
       "      <th>language</th>\n",
       "      <th>proportion</th>\n",
       "    </tr>\n",
       "  </thead>\n",
       "  <tbody>\n",
       "    <tr>\n",
       "      <th>1568</th>\n",
       "      <td>Maltese</td>\n",
       "      <td>mt</td>\n",
       "      <td>0.626667</td>\n",
       "    </tr>\n",
       "    <tr>\n",
       "      <th>1569</th>\n",
       "      <td>English</td>\n",
       "      <td>en</td>\n",
       "      <td>0.240000</td>\n",
       "    </tr>\n",
       "    <tr>\n",
       "      <th>1567</th>\n",
       "      <td>Somali</td>\n",
       "      <td>so</td>\n",
       "      <td>0.133333</td>\n",
       "    </tr>\n",
       "  </tbody>\n",
       "</table>\n",
       "</div>"
      ],
      "text/plain": [
       "     language_full language  proportion\n",
       "1568       Maltese       mt    0.626667\n",
       "1569       English       en    0.240000\n",
       "1567        Somali       so    0.133333"
      ]
     },
     "metadata": {},
     "output_type": "display_data"
    },
    {
     "name": "stdout",
     "output_type": "stream",
     "text": [
      "\n",
      "The Mildura Irrigationist and Murray River Cultural Advocate (Vic. : 1891 - 1892) (1582)\n"
     ]
    },
    {
     "data": {
      "text/html": [
       "<div>\n",
       "<style scoped>\n",
       "    .dataframe tbody tr th:only-of-type {\n",
       "        vertical-align: middle;\n",
       "    }\n",
       "\n",
       "    .dataframe tbody tr th {\n",
       "        vertical-align: top;\n",
       "    }\n",
       "\n",
       "    .dataframe thead th {\n",
       "        text-align: right;\n",
       "    }\n",
       "</style>\n",
       "<table border=\"1\" class=\"dataframe\">\n",
       "  <thead>\n",
       "    <tr style=\"text-align: right;\">\n",
       "      <th></th>\n",
       "      <th>language_full</th>\n",
       "      <th>language</th>\n",
       "      <th>proportion</th>\n",
       "    </tr>\n",
       "  </thead>\n",
       "  <tbody>\n",
       "    <tr>\n",
       "      <th>1570</th>\n",
       "      <td>English</td>\n",
       "      <td>en</td>\n",
       "      <td>0.746667</td>\n",
       "    </tr>\n",
       "    <tr>\n",
       "      <th>1571</th>\n",
       "      <td>Somali</td>\n",
       "      <td>so</td>\n",
       "      <td>0.146667</td>\n",
       "    </tr>\n",
       "    <tr>\n",
       "      <th>1572</th>\n",
       "      <td>Maltese</td>\n",
       "      <td>mt</td>\n",
       "      <td>0.093333</td>\n",
       "    </tr>\n",
       "  </tbody>\n",
       "</table>\n",
       "</div>"
      ],
      "text/plain": [
       "     language_full language  proportion\n",
       "1570       English       en    0.746667\n",
       "1571        Somali       so    0.146667\n",
       "1572       Maltese       mt    0.093333"
      ]
     },
     "metadata": {},
     "output_type": "display_data"
    },
    {
     "name": "stdout",
     "output_type": "stream",
     "text": [
      "\n",
      "The Miner's Right (Boulder, WA : 1897) (1638)\n"
     ]
    },
    {
     "data": {
      "text/html": [
       "<div>\n",
       "<style scoped>\n",
       "    .dataframe tbody tr th:only-of-type {\n",
       "        vertical-align: middle;\n",
       "    }\n",
       "\n",
       "    .dataframe tbody tr th {\n",
       "        vertical-align: top;\n",
       "    }\n",
       "\n",
       "    .dataframe thead th {\n",
       "        text-align: right;\n",
       "    }\n",
       "</style>\n",
       "<table border=\"1\" class=\"dataframe\">\n",
       "  <thead>\n",
       "    <tr style=\"text-align: right;\">\n",
       "      <th></th>\n",
       "      <th>language_full</th>\n",
       "      <th>language</th>\n",
       "      <th>proportion</th>\n",
       "    </tr>\n",
       "  </thead>\n",
       "  <tbody>\n",
       "    <tr>\n",
       "      <th>1984</th>\n",
       "      <td>English</td>\n",
       "      <td>en</td>\n",
       "      <td>0.908163</td>\n",
       "    </tr>\n",
       "    <tr>\n",
       "      <th>1986</th>\n",
       "      <td>Maltese</td>\n",
       "      <td>mt</td>\n",
       "      <td>0.061224</td>\n",
       "    </tr>\n",
       "  </tbody>\n",
       "</table>\n",
       "</div>"
      ],
      "text/plain": [
       "     language_full language  proportion\n",
       "1984       English       en    0.908163\n",
       "1986       Maltese       mt    0.061224"
      ]
     },
     "metadata": {},
     "output_type": "display_data"
    },
    {
     "name": "stdout",
     "output_type": "stream",
     "text": [
      "\n",
      "The Morwell Advocate and Boolara and Mirboo Chronicle (Vic. : 1886) (1733)\n"
     ]
    },
    {
     "data": {
      "text/html": [
       "<div>\n",
       "<style scoped>\n",
       "    .dataframe tbody tr th:only-of-type {\n",
       "        vertical-align: middle;\n",
       "    }\n",
       "\n",
       "    .dataframe tbody tr th {\n",
       "        vertical-align: top;\n",
       "    }\n",
       "\n",
       "    .dataframe thead th {\n",
       "        text-align: right;\n",
       "    }\n",
       "</style>\n",
       "<table border=\"1\" class=\"dataframe\">\n",
       "  <thead>\n",
       "    <tr style=\"text-align: right;\">\n",
       "      <th></th>\n",
       "      <th>language_full</th>\n",
       "      <th>language</th>\n",
       "      <th>proportion</th>\n",
       "    </tr>\n",
       "  </thead>\n",
       "  <tbody>\n",
       "    <tr>\n",
       "      <th>1577</th>\n",
       "      <td>Maltese</td>\n",
       "      <td>mt</td>\n",
       "      <td>0.625</td>\n",
       "    </tr>\n",
       "    <tr>\n",
       "      <th>1578</th>\n",
       "      <td>English</td>\n",
       "      <td>en</td>\n",
       "      <td>0.375</td>\n",
       "    </tr>\n",
       "  </tbody>\n",
       "</table>\n",
       "</div>"
      ],
      "text/plain": [
       "     language_full language  proportion\n",
       "1577       Maltese       mt       0.625\n",
       "1578       English       en       0.375"
      ]
     },
     "metadata": {},
     "output_type": "display_data"
    },
    {
     "name": "stdout",
     "output_type": "stream",
     "text": [
      "\n",
      "The Morwell Advocate and Narracan, Boolara and Mirboo Chronicle (Vic. : 1886) (1734)\n"
     ]
    },
    {
     "data": {
      "text/html": [
       "<div>\n",
       "<style scoped>\n",
       "    .dataframe tbody tr th:only-of-type {\n",
       "        vertical-align: middle;\n",
       "    }\n",
       "\n",
       "    .dataframe tbody tr th {\n",
       "        vertical-align: top;\n",
       "    }\n",
       "\n",
       "    .dataframe thead th {\n",
       "        text-align: right;\n",
       "    }\n",
       "</style>\n",
       "<table border=\"1\" class=\"dataframe\">\n",
       "  <thead>\n",
       "    <tr style=\"text-align: right;\">\n",
       "      <th></th>\n",
       "      <th>language_full</th>\n",
       "      <th>language</th>\n",
       "      <th>proportion</th>\n",
       "    </tr>\n",
       "  </thead>\n",
       "  <tbody>\n",
       "    <tr>\n",
       "      <th>1579</th>\n",
       "      <td>English</td>\n",
       "      <td>en</td>\n",
       "      <td>0.829268</td>\n",
       "    </tr>\n",
       "    <tr>\n",
       "      <th>1580</th>\n",
       "      <td>Maltese</td>\n",
       "      <td>mt</td>\n",
       "      <td>0.170732</td>\n",
       "    </tr>\n",
       "  </tbody>\n",
       "</table>\n",
       "</div>"
      ],
      "text/plain": [
       "     language_full language  proportion\n",
       "1579       English       en    0.829268\n",
       "1580       Maltese       mt    0.170732"
      ]
     },
     "metadata": {},
     "output_type": "display_data"
    },
    {
     "name": "stdout",
     "output_type": "stream",
     "text": [
      "\n",
      "The Reporter (Box Hill, Vic. : 1889 - 1925) (244)\n"
     ]
    },
    {
     "data": {
      "text/html": [
       "<div>\n",
       "<style scoped>\n",
       "    .dataframe tbody tr th:only-of-type {\n",
       "        vertical-align: middle;\n",
       "    }\n",
       "\n",
       "    .dataframe tbody tr th {\n",
       "        vertical-align: top;\n",
       "    }\n",
       "\n",
       "    .dataframe thead th {\n",
       "        text-align: right;\n",
       "    }\n",
       "</style>\n",
       "<table border=\"1\" class=\"dataframe\">\n",
       "  <thead>\n",
       "    <tr style=\"text-align: right;\">\n",
       "      <th></th>\n",
       "      <th>language_full</th>\n",
       "      <th>language</th>\n",
       "      <th>proportion</th>\n",
       "    </tr>\n",
       "  </thead>\n",
       "  <tbody>\n",
       "    <tr>\n",
       "      <th>1594</th>\n",
       "      <td>English</td>\n",
       "      <td>en</td>\n",
       "      <td>0.904255</td>\n",
       "    </tr>\n",
       "    <tr>\n",
       "      <th>1593</th>\n",
       "      <td>Maltese</td>\n",
       "      <td>mt</td>\n",
       "      <td>0.085106</td>\n",
       "    </tr>\n",
       "  </tbody>\n",
       "</table>\n",
       "</div>"
      ],
      "text/plain": [
       "     language_full language  proportion\n",
       "1594       English       en    0.904255\n",
       "1593       Maltese       mt    0.085106"
      ]
     },
     "metadata": {},
     "output_type": "display_data"
    },
    {
     "name": "stdout",
     "output_type": "stream",
     "text": [
      "\n",
      "The Richmond River Express and Casino Kyogle Advertiser (NSW : 1904 - 1929) (500)\n"
     ]
    },
    {
     "data": {
      "text/html": [
       "<div>\n",
       "<style scoped>\n",
       "    .dataframe tbody tr th:only-of-type {\n",
       "        vertical-align: middle;\n",
       "    }\n",
       "\n",
       "    .dataframe tbody tr th {\n",
       "        vertical-align: top;\n",
       "    }\n",
       "\n",
       "    .dataframe thead th {\n",
       "        text-align: right;\n",
       "    }\n",
       "</style>\n",
       "<table border=\"1\" class=\"dataframe\">\n",
       "  <thead>\n",
       "    <tr style=\"text-align: right;\">\n",
       "      <th></th>\n",
       "      <th>language_full</th>\n",
       "      <th>language</th>\n",
       "      <th>proportion</th>\n",
       "    </tr>\n",
       "  </thead>\n",
       "  <tbody>\n",
       "    <tr>\n",
       "      <th>532</th>\n",
       "      <td>English</td>\n",
       "      <td>en</td>\n",
       "      <td>0.827586</td>\n",
       "    </tr>\n",
       "    <tr>\n",
       "      <th>530</th>\n",
       "      <td>Maltese</td>\n",
       "      <td>mt</td>\n",
       "      <td>0.126437</td>\n",
       "    </tr>\n",
       "  </tbody>\n",
       "</table>\n",
       "</div>"
      ],
      "text/plain": [
       "    language_full language  proportion\n",
       "532       English       en    0.827586\n",
       "530       Maltese       mt    0.126437"
      ]
     },
     "metadata": {},
     "output_type": "display_data"
    },
    {
     "name": "stdout",
     "output_type": "stream",
     "text": [
      "\n",
      "The Voice of Freedom = Elefthera Phoni (Perth, WA : 1956 - 1957) (1381)\n"
     ]
    },
    {
     "data": {
      "text/html": [
       "<div>\n",
       "<style scoped>\n",
       "    .dataframe tbody tr th:only-of-type {\n",
       "        vertical-align: middle;\n",
       "    }\n",
       "\n",
       "    .dataframe tbody tr th {\n",
       "        vertical-align: top;\n",
       "    }\n",
       "\n",
       "    .dataframe thead th {\n",
       "        text-align: right;\n",
       "    }\n",
       "</style>\n",
       "<table border=\"1\" class=\"dataframe\">\n",
       "  <thead>\n",
       "    <tr style=\"text-align: right;\">\n",
       "      <th></th>\n",
       "      <th>language_full</th>\n",
       "      <th>language</th>\n",
       "      <th>proportion</th>\n",
       "    </tr>\n",
       "  </thead>\n",
       "  <tbody>\n",
       "    <tr>\n",
       "      <th>2064</th>\n",
       "      <td>Modern Greek (1453-)</td>\n",
       "      <td>el</td>\n",
       "      <td>0.98</td>\n",
       "    </tr>\n",
       "  </tbody>\n",
       "</table>\n",
       "</div>"
      ],
      "text/plain": [
       "             language_full language  proportion\n",
       "2064  Modern Greek (1453-)       el        0.98"
      ]
     },
     "metadata": {},
     "output_type": "display_data"
    },
    {
     "name": "stdout",
     "output_type": "stream",
     "text": [
      "\n",
      "To Ethnico Vema = Greek National Tribune (Arncliffe, NSW : 1931 - 1954) (1592)\n"
     ]
    },
    {
     "data": {
      "text/html": [
       "<div>\n",
       "<style scoped>\n",
       "    .dataframe tbody tr th:only-of-type {\n",
       "        vertical-align: middle;\n",
       "    }\n",
       "\n",
       "    .dataframe tbody tr th {\n",
       "        vertical-align: top;\n",
       "    }\n",
       "\n",
       "    .dataframe thead th {\n",
       "        text-align: right;\n",
       "    }\n",
       "</style>\n",
       "<table border=\"1\" class=\"dataframe\">\n",
       "  <thead>\n",
       "    <tr style=\"text-align: right;\">\n",
       "      <th></th>\n",
       "      <th>language_full</th>\n",
       "      <th>language</th>\n",
       "      <th>proportion</th>\n",
       "    </tr>\n",
       "  </thead>\n",
       "  <tbody>\n",
       "    <tr>\n",
       "      <th>626</th>\n",
       "      <td>Modern Greek (1453-)</td>\n",
       "      <td>el</td>\n",
       "      <td>1.0</td>\n",
       "    </tr>\n",
       "  </tbody>\n",
       "</table>\n",
       "</div>"
      ],
      "text/plain": [
       "            language_full language  proportion\n",
       "626  Modern Greek (1453-)       el         1.0"
      ]
     },
     "metadata": {},
     "output_type": "display_data"
    },
    {
     "name": "stdout",
     "output_type": "stream",
     "text": [
      "\n",
      "Tung Wah News (Sydney, NSW : 1898 - 1902) (1185)\n"
     ]
    },
    {
     "data": {
      "text/html": [
       "<div>\n",
       "<style scoped>\n",
       "    .dataframe tbody tr th:only-of-type {\n",
       "        vertical-align: middle;\n",
       "    }\n",
       "\n",
       "    .dataframe tbody tr th {\n",
       "        vertical-align: top;\n",
       "    }\n",
       "\n",
       "    .dataframe thead th {\n",
       "        text-align: right;\n",
       "    }\n",
       "</style>\n",
       "<table border=\"1\" class=\"dataframe\">\n",
       "  <thead>\n",
       "    <tr style=\"text-align: right;\">\n",
       "      <th></th>\n",
       "      <th>language_full</th>\n",
       "      <th>language</th>\n",
       "      <th>proportion</th>\n",
       "    </tr>\n",
       "  </thead>\n",
       "  <tbody>\n",
       "    <tr>\n",
       "      <th>632</th>\n",
       "      <td>Chinese</td>\n",
       "      <td>zh</td>\n",
       "      <td>0.94</td>\n",
       "    </tr>\n",
       "  </tbody>\n",
       "</table>\n",
       "</div>"
      ],
      "text/plain": [
       "    language_full language  proportion\n",
       "632       Chinese       zh        0.94"
      ]
     },
     "metadata": {},
     "output_type": "display_data"
    },
    {
     "name": "stdout",
     "output_type": "stream",
     "text": [
      "\n",
      "Tung Wah Times (Sydney, NSW : 1901 - 1936) (1184)\n"
     ]
    },
    {
     "data": {
      "text/html": [
       "<div>\n",
       "<style scoped>\n",
       "    .dataframe tbody tr th:only-of-type {\n",
       "        vertical-align: middle;\n",
       "    }\n",
       "\n",
       "    .dataframe tbody tr th {\n",
       "        vertical-align: top;\n",
       "    }\n",
       "\n",
       "    .dataframe thead th {\n",
       "        text-align: right;\n",
       "    }\n",
       "</style>\n",
       "<table border=\"1\" class=\"dataframe\">\n",
       "  <thead>\n",
       "    <tr style=\"text-align: right;\">\n",
       "      <th></th>\n",
       "      <th>language_full</th>\n",
       "      <th>language</th>\n",
       "      <th>proportion</th>\n",
       "    </tr>\n",
       "  </thead>\n",
       "  <tbody>\n",
       "    <tr>\n",
       "      <th>638</th>\n",
       "      <td>Chinese</td>\n",
       "      <td>zh</td>\n",
       "      <td>0.926316</td>\n",
       "    </tr>\n",
       "  </tbody>\n",
       "</table>\n",
       "</div>"
      ],
      "text/plain": [
       "    language_full language  proportion\n",
       "638       Chinese       zh    0.926316"
      ]
     },
     "metadata": {},
     "output_type": "display_data"
    },
    {
     "name": "stdout",
     "output_type": "stream",
     "text": [
      "\n",
      "Twofold Bay and Maneroo Observer (NSW : 1860) (394)\n"
     ]
    },
    {
     "data": {
      "text/html": [
       "<div>\n",
       "<style scoped>\n",
       "    .dataframe tbody tr th:only-of-type {\n",
       "        vertical-align: middle;\n",
       "    }\n",
       "\n",
       "    .dataframe tbody tr th {\n",
       "        vertical-align: top;\n",
       "    }\n",
       "\n",
       "    .dataframe thead th {\n",
       "        text-align: right;\n",
       "    }\n",
       "</style>\n",
       "<table border=\"1\" class=\"dataframe\">\n",
       "  <thead>\n",
       "    <tr style=\"text-align: right;\">\n",
       "      <th></th>\n",
       "      <th>language_full</th>\n",
       "      <th>language</th>\n",
       "      <th>proportion</th>\n",
       "    </tr>\n",
       "  </thead>\n",
       "  <tbody>\n",
       "    <tr>\n",
       "      <th>645</th>\n",
       "      <td>English</td>\n",
       "      <td>en</td>\n",
       "      <td>0.886364</td>\n",
       "    </tr>\n",
       "    <tr>\n",
       "      <th>647</th>\n",
       "      <td>Maltese</td>\n",
       "      <td>mt</td>\n",
       "      <td>0.090909</td>\n",
       "    </tr>\n",
       "  </tbody>\n",
       "</table>\n",
       "</div>"
      ],
      "text/plain": [
       "    language_full language  proportion\n",
       "645       English       en    0.886364\n",
       "647       Maltese       mt    0.090909"
      ]
     },
     "metadata": {},
     "output_type": "display_data"
    },
    {
     "name": "stdout",
     "output_type": "stream",
     "text": [
      "\n",
      "Uniamoci (Sydney, NSW : 1903 - 1904) (1599)\n"
     ]
    },
    {
     "data": {
      "text/html": [
       "<div>\n",
       "<style scoped>\n",
       "    .dataframe tbody tr th:only-of-type {\n",
       "        vertical-align: middle;\n",
       "    }\n",
       "\n",
       "    .dataframe tbody tr th {\n",
       "        vertical-align: top;\n",
       "    }\n",
       "\n",
       "    .dataframe thead th {\n",
       "        text-align: right;\n",
       "    }\n",
       "</style>\n",
       "<table border=\"1\" class=\"dataframe\">\n",
       "  <thead>\n",
       "    <tr style=\"text-align: right;\">\n",
       "      <th></th>\n",
       "      <th>language_full</th>\n",
       "      <th>language</th>\n",
       "      <th>proportion</th>\n",
       "    </tr>\n",
       "  </thead>\n",
       "  <tbody>\n",
       "    <tr>\n",
       "      <th>652</th>\n",
       "      <td>Italian</td>\n",
       "      <td>it</td>\n",
       "      <td>1.0</td>\n",
       "    </tr>\n",
       "  </tbody>\n",
       "</table>\n",
       "</div>"
      ],
      "text/plain": [
       "    language_full language  proportion\n",
       "652       Italian       it         1.0"
      ]
     },
     "metadata": {},
     "output_type": "display_data"
    },
    {
     "name": "stdout",
     "output_type": "stream",
     "text": [
      "\n",
      "Upper Hunter Courier (Murrurundi, NSW : 1871) (810)\n"
     ]
    },
    {
     "data": {
      "text/html": [
       "<div>\n",
       "<style scoped>\n",
       "    .dataframe tbody tr th:only-of-type {\n",
       "        vertical-align: middle;\n",
       "    }\n",
       "\n",
       "    .dataframe tbody tr th {\n",
       "        vertical-align: top;\n",
       "    }\n",
       "\n",
       "    .dataframe thead th {\n",
       "        text-align: right;\n",
       "    }\n",
       "</style>\n",
       "<table border=\"1\" class=\"dataframe\">\n",
       "  <thead>\n",
       "    <tr style=\"text-align: right;\">\n",
       "      <th></th>\n",
       "      <th>language_full</th>\n",
       "      <th>language</th>\n",
       "      <th>proportion</th>\n",
       "    </tr>\n",
       "  </thead>\n",
       "  <tbody>\n",
       "    <tr>\n",
       "      <th>653</th>\n",
       "      <td>English</td>\n",
       "      <td>en</td>\n",
       "      <td>0.857143</td>\n",
       "    </tr>\n",
       "    <tr>\n",
       "      <th>654</th>\n",
       "      <td>Maltese</td>\n",
       "      <td>mt</td>\n",
       "      <td>0.142857</td>\n",
       "    </tr>\n",
       "  </tbody>\n",
       "</table>\n",
       "</div>"
      ],
      "text/plain": [
       "    language_full language  proportion\n",
       "653       English       en    0.857143\n",
       "654       Maltese       mt    0.142857"
      ]
     },
     "metadata": {},
     "output_type": "display_data"
    },
    {
     "name": "stdout",
     "output_type": "stream",
     "text": [
      "\n",
      "Vesnik (Perth, WA : 1975 - 1994) (1382)\n"
     ]
    },
    {
     "data": {
      "text/html": [
       "<div>\n",
       "<style scoped>\n",
       "    .dataframe tbody tr th:only-of-type {\n",
       "        vertical-align: middle;\n",
       "    }\n",
       "\n",
       "    .dataframe tbody tr th {\n",
       "        vertical-align: top;\n",
       "    }\n",
       "\n",
       "    .dataframe thead th {\n",
       "        text-align: right;\n",
       "    }\n",
       "</style>\n",
       "<table border=\"1\" class=\"dataframe\">\n",
       "  <thead>\n",
       "    <tr style=\"text-align: right;\">\n",
       "      <th></th>\n",
       "      <th>language_full</th>\n",
       "      <th>language</th>\n",
       "      <th>proportion</th>\n",
       "    </tr>\n",
       "  </thead>\n",
       "  <tbody>\n",
       "    <tr>\n",
       "      <th>2093</th>\n",
       "      <td>Macedonian</td>\n",
       "      <td>mk</td>\n",
       "      <td>0.408163</td>\n",
       "    </tr>\n",
       "    <tr>\n",
       "      <th>2092</th>\n",
       "      <td>English</td>\n",
       "      <td>en</td>\n",
       "      <td>0.357143</td>\n",
       "    </tr>\n",
       "    <tr>\n",
       "      <th>2094</th>\n",
       "      <td>Bulgarian</td>\n",
       "      <td>bg-Latn</td>\n",
       "      <td>0.224490</td>\n",
       "    </tr>\n",
       "  </tbody>\n",
       "</table>\n",
       "</div>"
      ],
      "text/plain": [
       "     language_full language  proportion\n",
       "2093    Macedonian       mk    0.408163\n",
       "2092       English       en    0.357143\n",
       "2094     Bulgarian  bg-Latn    0.224490"
      ]
     },
     "metadata": {},
     "output_type": "display_data"
    },
    {
     "name": "stdout",
     "output_type": "stream",
     "text": [
      "\n",
      "Vil'na Dumka = Free Thought (Sydney, NSW : 1949 - 1954) (1593)\n"
     ]
    },
    {
     "data": {
      "text/html": [
       "<div>\n",
       "<style scoped>\n",
       "    .dataframe tbody tr th:only-of-type {\n",
       "        vertical-align: middle;\n",
       "    }\n",
       "\n",
       "    .dataframe tbody tr th {\n",
       "        vertical-align: top;\n",
       "    }\n",
       "\n",
       "    .dataframe thead th {\n",
       "        text-align: right;\n",
       "    }\n",
       "</style>\n",
       "<table border=\"1\" class=\"dataframe\">\n",
       "  <thead>\n",
       "    <tr style=\"text-align: right;\">\n",
       "      <th></th>\n",
       "      <th>language_full</th>\n",
       "      <th>language</th>\n",
       "      <th>proportion</th>\n",
       "    </tr>\n",
       "  </thead>\n",
       "  <tbody>\n",
       "    <tr>\n",
       "      <th>655</th>\n",
       "      <td>Ukrainian</td>\n",
       "      <td>uk</td>\n",
       "      <td>0.82</td>\n",
       "    </tr>\n",
       "    <tr>\n",
       "      <th>656</th>\n",
       "      <td>English</td>\n",
       "      <td>en</td>\n",
       "      <td>0.18</td>\n",
       "    </tr>\n",
       "  </tbody>\n",
       "</table>\n",
       "</div>"
      ],
      "text/plain": [
       "    language_full language  proportion\n",
       "655     Ukrainian       uk        0.82\n",
       "656       English       en        0.18"
      ]
     },
     "metadata": {},
     "output_type": "display_data"
    },
    {
     "name": "stdout",
     "output_type": "stream",
     "text": [
      "\n",
      "Warwick Daily News (Qld. : 1919 -1954) (892)\n"
     ]
    },
    {
     "data": {
      "text/html": [
       "<div>\n",
       "<style scoped>\n",
       "    .dataframe tbody tr th:only-of-type {\n",
       "        vertical-align: middle;\n",
       "    }\n",
       "\n",
       "    .dataframe tbody tr th {\n",
       "        vertical-align: top;\n",
       "    }\n",
       "\n",
       "    .dataframe thead th {\n",
       "        text-align: right;\n",
       "    }\n",
       "</style>\n",
       "<table border=\"1\" class=\"dataframe\">\n",
       "  <thead>\n",
       "    <tr style=\"text-align: right;\">\n",
       "      <th></th>\n",
       "      <th>language_full</th>\n",
       "      <th>language</th>\n",
       "      <th>proportion</th>\n",
       "    </tr>\n",
       "  </thead>\n",
       "  <tbody>\n",
       "    <tr>\n",
       "      <th>811</th>\n",
       "      <td>English</td>\n",
       "      <td>en</td>\n",
       "      <td>0.864198</td>\n",
       "    </tr>\n",
       "    <tr>\n",
       "      <th>812</th>\n",
       "      <td>Maltese</td>\n",
       "      <td>mt</td>\n",
       "      <td>0.111111</td>\n",
       "    </tr>\n",
       "  </tbody>\n",
       "</table>\n",
       "</div>"
      ],
      "text/plain": [
       "    language_full language  proportion\n",
       "811       English       en    0.864198\n",
       "812       Maltese       mt    0.111111"
      ]
     },
     "metadata": {},
     "output_type": "display_data"
    },
    {
     "name": "stdout",
     "output_type": "stream",
     "text": [
      "\n",
      "Williamstown Trade Circular (Vic. : 1855 - 1856) (213)\n"
     ]
    },
    {
     "data": {
      "text/html": [
       "<div>\n",
       "<style scoped>\n",
       "    .dataframe tbody tr th:only-of-type {\n",
       "        vertical-align: middle;\n",
       "    }\n",
       "\n",
       "    .dataframe tbody tr th {\n",
       "        vertical-align: top;\n",
       "    }\n",
       "\n",
       "    .dataframe thead th {\n",
       "        text-align: right;\n",
       "    }\n",
       "</style>\n",
       "<table border=\"1\" class=\"dataframe\">\n",
       "  <thead>\n",
       "    <tr style=\"text-align: right;\">\n",
       "      <th></th>\n",
       "      <th>language_full</th>\n",
       "      <th>language</th>\n",
       "      <th>proportion</th>\n",
       "    </tr>\n",
       "  </thead>\n",
       "  <tbody>\n",
       "    <tr>\n",
       "      <th>1658</th>\n",
       "      <td>English</td>\n",
       "      <td>en</td>\n",
       "      <td>0.882353</td>\n",
       "    </tr>\n",
       "    <tr>\n",
       "      <th>1659</th>\n",
       "      <td>Portuguese</td>\n",
       "      <td>pt</td>\n",
       "      <td>0.117647</td>\n",
       "    </tr>\n",
       "  </tbody>\n",
       "</table>\n",
       "</div>"
      ],
      "text/plain": [
       "     language_full language  proportion\n",
       "1658       English       en    0.882353\n",
       "1659    Portuguese       pt    0.117647"
      ]
     },
     "metadata": {},
     "output_type": "display_data"
    }
   ],
   "source": [
    "for n, l in papers:\n",
    "    if not l.loc[(~df[\"language\"].isin([\"en\"])) & (df[\"proportion\"] >= 0.05)].empty:\n",
    "        print(f\"\\n{n[0]} ({n[1]})\")\n",
    "        display(\n",
    "            l[[\"language_full\", \"language\", \"proportion\"]]\n",
    "            .loc[(l[\"proportion\"] > 0.05)]\n",
    "            .sort_values(by=\"proportion\", ascending=False)\n",
    "        )"
   ]
  },
  {
   "cell_type": "markdown",
   "metadata": {},
   "source": [
    "I went through the titles above and compiled a list of title identifiers that seem to be producing dodgy results. We can use this to filter these newspapers out of our results."
   ]
  },
  {
   "cell_type": "code",
   "execution_count": 17,
   "metadata": {},
   "outputs": [],
   "source": [
    "# Titles where dodgy OCR causes false positives in language detection\n",
    "# This was manually created after scanning results\n",
    "dodgy = [\n",
    "    \"1036\",\n",
    "    \"1043\",\n",
    "    \"1103\",\n",
    "    \"116\",\n",
    "    \"1207\",\n",
    "    \"1265\",\n",
    "    \"13\",\n",
    "    \"1320\",\n",
    "    \"1336\",\n",
    "    \"140\",\n",
    "    \"1400\",\n",
    "    \"145\",\n",
    "    \"1488\",\n",
    "    \"1543\",\n",
    "    \"1546\",\n",
    "    \"1581\",\n",
    "    \"1582\",\n",
    "    \"1583\",\n",
    "    \"1617\",\n",
    "    \"1623\",\n",
    "    \"1626\",\n",
    "    \"1638\",\n",
    "    \"1675\",\n",
    "    \"1678\",\n",
    "    \"171\",\n",
    "    \"1733\",\n",
    "    \"1734\",\n",
    "    \"1741\",\n",
    "    \"196\",\n",
    "    \"213\",\n",
    "    \"224\",\n",
    "    \"244\",\n",
    "    \"286\",\n",
    "    \"292\",\n",
    "    \"318\",\n",
    "    \"329\",\n",
    "    \"34\",\n",
    "    \"384\",\n",
    "    \"389\",\n",
    "    \"394\",\n",
    "    \"418\",\n",
    "    \"430\",\n",
    "    \"431\",\n",
    "    \"452\",\n",
    "    \"479\",\n",
    "    \"499\",\n",
    "    \"500\",\n",
    "    \"543\",\n",
    "    \"570\",\n",
    "    \"623\",\n",
    "    \"725\",\n",
    "    \"763\",\n",
    "    \"810\",\n",
    "    \"860\",\n",
    "    \"886\",\n",
    "    \"892\",\n",
    "    \"906\",\n",
    "    \"92\",\n",
    "    \"926\",\n",
    "    \"927\",\n",
    "    \"935\",\n",
    "    \"937\",\n",
    "    \"94\",\n",
    "    \"946\",\n",
    "    \"970\",\n",
    "    \"986\",\n",
    "]"
   ]
  },
  {
   "cell_type": "markdown",
   "metadata": {},
   "source": [
    "Here we'll add the dodgy title ids into our filter. It seems that we have 52 newspapers with significant amounts of non-English content."
   ]
  },
  {
   "cell_type": "code",
   "execution_count": 18,
   "metadata": {},
   "outputs": [
    {
     "data": {
      "text/plain": [
       "52"
      ]
     },
     "execution_count": 18,
     "metadata": {},
     "output_type": "execute_result"
    }
   ],
   "source": [
    "# The filter removes titles that only have one language, which is English\n",
    "filtered = (\n",
    "    df.loc[(~df[\"id\"].isin(dodgy)) & (df[\"proportion\"] >= 0.05)]\n",
    "    .groupby(by=[\"title\", \"id\"])\n",
    "    .filter(lambda x: (len(x) > 1) or (len(x) == 1 and x[\"language\"] != \"en\"))\n",
    ")\n",
    "papers = filtered.groupby(by=[\"title\", \"id\"])\n",
    "len(papers)"
   ]
  },
  {
   "cell_type": "markdown",
   "metadata": {},
   "source": [
    "Let's list them."
   ]
  },
  {
   "cell_type": "code",
   "execution_count": 19,
   "metadata": {},
   "outputs": [
    {
     "name": "stdout",
     "output_type": "stream",
     "text": [
      "A Voz de Timor (Dili, East Timor : 1970 - 1975)\n",
      "Adelaider Deutsche Zeitung (SA : 1851 - 1862)\n",
      "Australier Leben = Australian Life (Melbourne, Vic. : 1931 - 1933)\n",
      "Australische Zeitung (Adelaide, SA : 1875 - 1916)\n",
      "Berita Repoeblik (Djakarta, Indonesia : 1945 - 1946)\n",
      "Chinese Republic News (Sydney, NSW : 1914 - 1937)\n",
      "Chinese Times (Melbourne, Vic. : 1902 - 1922)\n",
      "Chung Wah News (Perth, WA : 1981 - 1987)\n",
      "Der Australische Spiegel = The Australian Mirror (Perth, WA : 1952)\n",
      "Deutsch-Australische Post : Wochenschrift = German-Australian Post : Weekly (Sydney, NSW : 1893 - 1906)\n",
      "Deutsche Zeitung für Sud-Australien = German Times for South Australia (Tanunda, SA : 1851)\n",
      "Die Brucke = The Bridge (Sydney, NSW : 1934 - 1939)\n",
      "Die Deutsche Post für die Australischen Colonien = The German Australian Post (Adelaide, SA : 1848 - 1851)\n",
      "Dutch Australian Weekly (Sydney, NSW : 1951 - 1993)\n",
      "Dutch Weekly (Sydney, NSW : 1993 - 2004)\n",
      "Echo : Polski Tygodnik Niezalezny (Perth, WA : 1950 - 1952)\n",
      "Eco Italiano (Perth, WA : 1958 - 1959)\n",
      "Guang yi hua bao = The Chinese Australian Herald (Sydney, NSW : 1894 - 1923)\n",
      "Hellenic Echo (Perth, WA : 1967 - 1968)\n",
      "Il Canguro = The Kangaroo (Perth, WA : 1955 - 1957)\n",
      "Il Giornale Italiano (Sydney, NSW : 1932 - 1940)\n",
      "Il Risveglio = The Awakening (Sydney, NSW : 1944 - 1954)\n",
      "Italian Bulletin of Australia (Sydney, NSW : 1922 - 1928, 1935 - 1940)\n",
      "Italian Bulletin of Commerce (Sydney, NSW : 1929 - 1935)\n",
      "Italo-Australian (Sydney, NSW : 1927 - 1940)\n",
      "Japanese Perth Times (Subiaco, WA : 1989 - 1996)\n",
      "L'Italo-Australiano = The Italo-Australian (Surry Hills, NSW : 1885)\n",
      "L'Italo-Australiano = The Italo-Australian (Sydney, NSW : 1905 - 1909)\n",
      "La Rondine (Perth, WA : 1970 - 1974; 1983 - 1984)\n",
      "Le Courrier Australien (Sydney, NSW : 1892 - 2011)\n",
      "Mediterranean Voice (Perth, WA : 1971 - 1972)\n",
      "Meie Kodu = Our Home (Sydney, NSW : 1949 - 1956)\n",
      "Musu Pastoge = Our Haven (Sydney, NSW : 1950 - 1954)\n",
      "Nasza droga (Adelaide, SA : 1952 - 1954)\n",
      "Norden (Melbourne, Vic. : 1914 - 1918)\n",
      "Oceania (Sydney, NSW : 1913 - 1915)\n",
      "Revue Australienne : Journal des Interets Francais en Australie ... (Sydney, NSW : 1873 - 1874)\n",
      "Stampa Italiana = The Italian Press (Perth, WA : 1931 - 1932)\n",
      "Suedaustralische Zeitung (Adelaide, SA : 1850 - 1851)\n",
      "Sunday Times Edizione Italiana (Perth, WA : 1958 - 1959)\n",
      "Süd Australische Zeitung (Tanunda and Adelaide, SA : 1860 - 1874)\n",
      "The Australian Jewish News (Melbourne, Vic. : 1935 - 1999)\n",
      "The Chinese Advertiser (Ballarat, Vic. : 1856)\n",
      "The English and Chinese Advertiser (Vic. : 1856 - 1858)\n",
      "The Jewish Weekly News (Melbourne, Vic. : 1933 - 1935)\n",
      "The Voice of Freedom = Elefthera Phoni (Perth, WA : 1956 - 1957)\n",
      "To Ethnico Vema = Greek National Tribune (Arncliffe, NSW : 1931 - 1954)\n",
      "Tung Wah News (Sydney, NSW : 1898 - 1902)\n",
      "Tung Wah Times (Sydney, NSW : 1901 - 1936)\n",
      "Uniamoci (Sydney, NSW : 1903 - 1904)\n",
      "Vesnik (Perth, WA : 1975 - 1994)\n",
      "Vil'na Dumka = Free Thought (Sydney, NSW : 1949 - 1954)\n"
     ]
    }
   ],
   "source": [
    "for n, l in papers:\n",
    "    print(n[0])"
   ]
  },
  {
   "cell_type": "markdown",
   "metadata": {},
   "source": [
    "That's looking pretty good. Let's save the results as a Markdown file to make it easy to explore. We'll include links into Trove. Here's the [list of all 52 newspapers](non-english-newspapers.md) (also as a [Gist](https://gist.github.com/wragge/9aa385648cff5f0de0c7d4837896df97))."
   ]
  },
  {
   "cell_type": "code",
   "execution_count": 20,
   "metadata": {
    "tags": [
     "nbval-skip"
    ]
   },
   "outputs": [],
   "source": [
    "with open(Path(\"non-english-newspapers.md\"), \"w\") as md_file:\n",
    "    i = 1\n",
    "    for n, l in papers:\n",
    "        md_file.write(\n",
    "            f\"\\n### {i}. [{n[0]}](http://nla.gov.au/nla.news-title{n[1]})\\n\\n\"\n",
    "        )\n",
    "        md_file.write(\"| Language | Language code | Proportion of sample |\\n\")\n",
    "        md_file.write(\"|---|---|---|\\n\")\n",
    "        for row in (\n",
    "            l[[\"language_full\", \"language\", \"proportion\"]]\n",
    "            .loc[(l[\"proportion\"] > 0.05)]\n",
    "            .sort_values(by=\"proportion\", ascending=False)\n",
    "            .itertuples()\n",
    "        ):\n",
    "            md_file.write(\n",
    "                f\"| {row.language_full} | {row.language} | {row.proportion} |\\n\"\n",
    "            )\n",
    "        i += 1"
   ]
  },
  {
   "cell_type": "markdown",
   "metadata": {},
   "source": [
    "If you look at the Markdown files you'll see that there are still some dodgy results – for example, 16% of the *Chinese Advertiser* is detected as 'Scottish Gaelic'. But the point of this exercise was to find non-English newspapers, rather than accurately detect the proportion of non-English content, so I think we can live with it for now."
   ]
  },
  {
   "cell_type": "markdown",
   "metadata": {},
   "source": [
    "----\n",
    "\n",
    "Created by [Tim Sherratt](https://timsherratt.org/) for the [GLAM Workbench](https://glam-workbench.github.io/).  \n",
    "Support this project by becoming a [GitHub sponsor](https://github.com/sponsors/wragge?o=esb)."
   ]
  }
 ],
 "metadata": {
  "kernelspec": {
   "display_name": "Python 3 (ipykernel)",
   "language": "python",
   "name": "python3"
  },
  "language_info": {
   "codemirror_mode": {
    "name": "ipython",
    "version": 3
   },
   "file_extension": ".py",
   "mimetype": "text/x-python",
   "name": "python",
   "nbconvert_exporter": "python",
   "pygments_lexer": "ipython3",
   "version": "3.8.12"
  },
  "widgets": {
   "application/vnd.jupyter.widget-state+json": {
    "state": {
     "13abd8bf3b3a4efbbfef28059b5e2d28": {
      "model_module": "@jupyter-widgets/controls",
      "model_module_version": "1.5.0",
      "model_name": "DescriptionStyleModel",
      "state": {
       "description_width": ""
      }
     },
     "32bea42ad3994f479facca131929d4ea": {
      "model_module": "@jupyter-widgets/base",
      "model_module_version": "1.2.0",
      "model_name": "LayoutModel",
      "state": {}
     },
     "460e5f112a1e44afaa87359a8f58e617": {
      "model_module": "@jupyter-widgets/controls",
      "model_module_version": "1.5.0",
      "model_name": "HBoxModel",
      "state": {
       "children": [
        "IPY_MODEL_f2903fe835d64a108adccc3163a545b9",
        "IPY_MODEL_96fc52e23bf044c98a178dd686ed9c65",
        "IPY_MODEL_c6ab6032dfd6449589467453e9768ccd"
       ],
       "layout": "IPY_MODEL_32bea42ad3994f479facca131929d4ea"
      }
     },
     "70b163754840435288248389045aa6a2": {
      "model_module": "@jupyter-widgets/base",
      "model_module_version": "1.2.0",
      "model_name": "LayoutModel",
      "state": {}
     },
     "751555ed8adf4bada10bb8f1dfc9849c": {
      "model_module": "@jupyter-widgets/controls",
      "model_module_version": "1.5.0",
      "model_name": "DescriptionStyleModel",
      "state": {
       "description_width": ""
      }
     },
     "96fc52e23bf044c98a178dd686ed9c65": {
      "model_module": "@jupyter-widgets/controls",
      "model_module_version": "1.5.0",
      "model_name": "FloatProgressModel",
      "state": {
       "bar_style": "success",
       "layout": "IPY_MODEL_fcea84e37cff4825b3bc9229f13e7483",
       "max": 1741,
       "style": "IPY_MODEL_bb0991de58bc4127a7a7855496015f93",
       "value": 1741
      }
     },
     "bb0991de58bc4127a7a7855496015f93": {
      "model_module": "@jupyter-widgets/controls",
      "model_module_version": "1.5.0",
      "model_name": "ProgressStyleModel",
      "state": {
       "description_width": ""
      }
     },
     "c6ab6032dfd6449589467453e9768ccd": {
      "model_module": "@jupyter-widgets/controls",
      "model_module_version": "1.5.0",
      "model_name": "HTMLModel",
      "state": {
       "layout": "IPY_MODEL_70b163754840435288248389045aa6a2",
       "style": "IPY_MODEL_751555ed8adf4bada10bb8f1dfc9849c",
       "value": " 1741/1741 [11:33&lt;00:00,  1.47s/it]"
      }
     },
     "f2903fe835d64a108adccc3163a545b9": {
      "model_module": "@jupyter-widgets/controls",
      "model_module_version": "1.5.0",
      "model_name": "HTMLModel",
      "state": {
       "layout": "IPY_MODEL_fd7abe707d5c493fa9d9ab5643ddbfc9",
       "style": "IPY_MODEL_13abd8bf3b3a4efbbfef28059b5e2d28",
       "value": "100%"
      }
     },
     "fcea84e37cff4825b3bc9229f13e7483": {
      "model_module": "@jupyter-widgets/base",
      "model_module_version": "1.2.0",
      "model_name": "LayoutModel",
      "state": {}
     },
     "fd7abe707d5c493fa9d9ab5643ddbfc9": {
      "model_module": "@jupyter-widgets/base",
      "model_module_version": "1.2.0",
      "model_name": "LayoutModel",
      "state": {}
     }
    },
    "version_major": 2,
    "version_minor": 0
   }
  }
 },
 "nbformat": 4,
 "nbformat_minor": 4
}
