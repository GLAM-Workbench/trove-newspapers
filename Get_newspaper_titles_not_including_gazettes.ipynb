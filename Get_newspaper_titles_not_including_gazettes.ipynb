{
 "cells": [
  {
   "cell_type": "markdown",
   "metadata": {},
   "source": [
    "# Get a list of Trove newspapers that doesn't include government gazettes"
   ]
  },
  {
   "cell_type": "markdown",
   "metadata": {},
   "source": [
    "The Trove API includes an option to retrieve details of digitised newspaper titles. Version 2 of the API added a separate option to get details of government gazettes. However the original `newspaper/titles` requests actually returns *both* the newspaper and gazette titles, so there's no way of getting just the newspaper titles. This notebook explains the problem and provides a simple workaround."
   ]
  },
  {
   "cell_type": "code",
   "execution_count": 2,
   "metadata": {},
   "outputs": [],
   "source": [
    "import requests\n",
    "import pandas as pd"
   ]
  },
  {
   "cell_type": "markdown",
   "metadata": {},
   "source": [
    "Add your Trove API key below."
   ]
  },
  {
   "cell_type": "code",
   "execution_count": 3,
   "metadata": {},
   "outputs": [
    {
     "name": "stdout",
     "output_type": "stream",
     "text": [
      "Your API key is: 6pi5hht0d2umqcro\n"
     ]
    }
   ],
   "source": [
    "api_key = '6pi5hht0d2umqcro'\n",
    "print('Your API key is: {}'.format(api_key))"
   ]
  },
  {
   "cell_type": "markdown",
   "metadata": {},
   "source": [
    "## The problem\n",
    "\n",
    "Getting a list of digitised newspapers or gazettes in Trove is easy, you just fire off a request to one of these endpoints:\n",
    "\n",
    "* `https://api.trove.nla.gov.au/v2/newspaper/titles/`\n",
    "* `https://api.trove.nla.gov.au/v2/gazette/titles/`\n",
    "\n",
    "Let's create a function to get either the `newspaper` or `gazette` results."
   ]
  },
  {
   "cell_type": "code",
   "execution_count": 6,
   "metadata": {},
   "outputs": [],
   "source": [
    "def get_titles_df(title_type):\n",
    "    # Set default params\n",
    "    params = {\n",
    "        'key': api_key,\n",
    "        'encoding': 'json',\n",
    "    }\n",
    "    \n",
    "    # Make the request to the titles endpoint and get the JSON data\n",
    "    data = requests.get('https://api.trove.nla.gov.au/v2/{}/titles'.format(title_type), params=params).json()\n",
    "    titles = []\n",
    "    \n",
    "    # Loop through the title records, saving the name and id\n",
    "    for title in data['response']['records']['newspaper']:\n",
    "        titles.append({'title': title['title'], 'id': int(title['id'])})\n",
    "        \n",
    "    # Convert to a dataframe\n",
    "    df = pd.DataFrame(titles)\n",
    "    return df"
   ]
  },
  {
   "cell_type": "markdown",
   "metadata": {},
   "source": [
    "Let's use the function to get all the newspaper titles."
   ]
  },
  {
   "cell_type": "code",
   "execution_count": 10,
   "metadata": {},
   "outputs": [
    {
     "data": {
      "text/html": [
       "<div>\n",
       "<style scoped>\n",
       "    .dataframe tbody tr th:only-of-type {\n",
       "        vertical-align: middle;\n",
       "    }\n",
       "\n",
       "    .dataframe tbody tr th {\n",
       "        vertical-align: top;\n",
       "    }\n",
       "\n",
       "    .dataframe thead th {\n",
       "        text-align: right;\n",
       "    }\n",
       "</style>\n",
       "<table border=\"1\" class=\"dataframe\">\n",
       "  <thead>\n",
       "    <tr style=\"text-align: right;\">\n",
       "      <th></th>\n",
       "      <th>id</th>\n",
       "      <th>title</th>\n",
       "    </tr>\n",
       "  </thead>\n",
       "  <tbody>\n",
       "    <tr>\n",
       "      <th>0</th>\n",
       "      <td>166</td>\n",
       "      <td>Canberra Community News (ACT : 1925 - 1927)</td>\n",
       "    </tr>\n",
       "    <tr>\n",
       "      <th>1</th>\n",
       "      <td>165</td>\n",
       "      <td>Canberra Illustrated: A Quarterly Magazine (AC...</td>\n",
       "    </tr>\n",
       "    <tr>\n",
       "      <th>2</th>\n",
       "      <td>69</td>\n",
       "      <td>Federal Capital Pioneer (Canberra, ACT : 1924 ...</td>\n",
       "    </tr>\n",
       "    <tr>\n",
       "      <th>3</th>\n",
       "      <td>871</td>\n",
       "      <td>Good Neighbour (ACT : 1950 - 1969)</td>\n",
       "    </tr>\n",
       "    <tr>\n",
       "      <th>4</th>\n",
       "      <td>665</td>\n",
       "      <td>Student Notes/Canberra University College Stud...</td>\n",
       "    </tr>\n",
       "  </tbody>\n",
       "</table>\n",
       "</div>"
      ],
      "text/plain": [
       "    id                                              title\n",
       "0  166        Canberra Community News (ACT : 1925 - 1927)\n",
       "1  165  Canberra Illustrated: A Quarterly Magazine (AC...\n",
       "2   69  Federal Capital Pioneer (Canberra, ACT : 1924 ...\n",
       "3  871                 Good Neighbour (ACT : 1950 - 1969)\n",
       "4  665  Student Notes/Canberra University College Stud..."
      ]
     },
     "execution_count": 10,
     "metadata": {},
     "output_type": "execute_result"
    }
   ],
   "source": [
    "newspapers_df = get_titles_df('newspaper')\n",
    "newspapers_df.head()"
   ]
  },
  {
   "cell_type": "markdown",
   "metadata": {},
   "source": [
    "How many are there?"
   ]
  },
  {
   "cell_type": "code",
   "execution_count": 8,
   "metadata": {},
   "outputs": [
    {
     "data": {
      "text/plain": [
       "(1454, 2)"
      ]
     },
     "execution_count": 8,
     "metadata": {},
     "output_type": "execute_result"
    }
   ],
   "source": [
    "newspapers_df.shape"
   ]
  },
  {
   "cell_type": "markdown",
   "metadata": {},
   "source": [
    "Everything looks ok, but if we search inside the results for titles that include the word 'Gazette' we find that the government gazettes are all included."
   ]
  },
  {
   "cell_type": "code",
   "execution_count": 11,
   "metadata": {},
   "outputs": [
    {
     "data": {
      "text/html": [
       "<div>\n",
       "<style scoped>\n",
       "    .dataframe tbody tr th:only-of-type {\n",
       "        vertical-align: middle;\n",
       "    }\n",
       "\n",
       "    .dataframe tbody tr th {\n",
       "        vertical-align: top;\n",
       "    }\n",
       "\n",
       "    .dataframe thead th {\n",
       "        text-align: right;\n",
       "    }\n",
       "</style>\n",
       "<table border=\"1\" class=\"dataframe\">\n",
       "  <thead>\n",
       "    <tr style=\"text-align: right;\">\n",
       "      <th></th>\n",
       "      <th>id</th>\n",
       "      <th>title</th>\n",
       "    </tr>\n",
       "  </thead>\n",
       "  <tbody>\n",
       "    <tr>\n",
       "      <th>12</th>\n",
       "      <td>1372</td>\n",
       "      <td>Papua New Guinea Government Gazette (1971 - 1975)</td>\n",
       "    </tr>\n",
       "    <tr>\n",
       "      <th>17</th>\n",
       "      <td>1371</td>\n",
       "      <td>Territory of Papua and New Guinea Government G...</td>\n",
       "    </tr>\n",
       "    <tr>\n",
       "      <th>18</th>\n",
       "      <td>1369</td>\n",
       "      <td>Territory of Papua Government Gazette (Papua N...</td>\n",
       "    </tr>\n",
       "    <tr>\n",
       "      <th>19</th>\n",
       "      <td>1370</td>\n",
       "      <td>Territory of Papua-New Guinea Government Gazet...</td>\n",
       "    </tr>\n",
       "    <tr>\n",
       "      <th>21</th>\n",
       "      <td>1288</td>\n",
       "      <td>Australian Government Gazette (National : 1973...</td>\n",
       "    </tr>\n",
       "    <tr>\n",
       "      <th>22</th>\n",
       "      <td>1355</td>\n",
       "      <td>Australian Government Gazette. Chemical (Natio...</td>\n",
       "    </tr>\n",
       "    <tr>\n",
       "      <th>23</th>\n",
       "      <td>1289</td>\n",
       "      <td>Australian Government Gazette. General (Nation...</td>\n",
       "    </tr>\n",
       "    <tr>\n",
       "      <th>24</th>\n",
       "      <td>1294</td>\n",
       "      <td>Australian Government Gazette. Periodic (Natio...</td>\n",
       "    </tr>\n",
       "    <tr>\n",
       "      <th>25</th>\n",
       "      <td>1308</td>\n",
       "      <td>Australian Government Gazette. Public Service ...</td>\n",
       "    </tr>\n",
       "    <tr>\n",
       "      <th>26</th>\n",
       "      <td>1286</td>\n",
       "      <td>Australian Government Gazette. Special (Nation...</td>\n",
       "    </tr>\n",
       "    <tr>\n",
       "      <th>27</th>\n",
       "      <td>1214</td>\n",
       "      <td>Commonwealth of Australia Gazette (National : ...</td>\n",
       "    </tr>\n",
       "    <tr>\n",
       "      <th>28</th>\n",
       "      <td>1363</td>\n",
       "      <td>Commonwealth of Australia Gazette. Agricultura...</td>\n",
       "    </tr>\n",
       "    <tr>\n",
       "      <th>29</th>\n",
       "      <td>1358</td>\n",
       "      <td>Commonwealth of Australia Gazette. Australian ...</td>\n",
       "    </tr>\n",
       "    <tr>\n",
       "      <th>30</th>\n",
       "      <td>1360</td>\n",
       "      <td>Commonwealth of Australia Gazette. Australian ...</td>\n",
       "    </tr>\n",
       "    <tr>\n",
       "      <th>31</th>\n",
       "      <td>1361</td>\n",
       "      <td>Commonwealth of Australia Gazette. Australian ...</td>\n",
       "    </tr>\n",
       "    <tr>\n",
       "      <th>32</th>\n",
       "      <td>1351</td>\n",
       "      <td>Commonwealth of Australia Gazette. Australian ...</td>\n",
       "    </tr>\n",
       "    <tr>\n",
       "      <th>33</th>\n",
       "      <td>1350</td>\n",
       "      <td>Commonwealth of Australia Gazette. Australian ...</td>\n",
       "    </tr>\n",
       "    <tr>\n",
       "      <th>34</th>\n",
       "      <td>1356</td>\n",
       "      <td>Commonwealth of Australia Gazette. Australian ...</td>\n",
       "    </tr>\n",
       "    <tr>\n",
       "      <th>35</th>\n",
       "      <td>1357</td>\n",
       "      <td>Commonwealth of Australia Gazette. Australian ...</td>\n",
       "    </tr>\n",
       "    <tr>\n",
       "      <th>36</th>\n",
       "      <td>1343</td>\n",
       "      <td>Commonwealth of Australia Gazette. Business (N...</td>\n",
       "    </tr>\n",
       "  </tbody>\n",
       "</table>\n",
       "</div>"
      ],
      "text/plain": [
       "      id                                              title\n",
       "12  1372  Papua New Guinea Government Gazette (1971 - 1975)\n",
       "17  1371  Territory of Papua and New Guinea Government G...\n",
       "18  1369  Territory of Papua Government Gazette (Papua N...\n",
       "19  1370  Territory of Papua-New Guinea Government Gazet...\n",
       "21  1288  Australian Government Gazette (National : 1973...\n",
       "22  1355  Australian Government Gazette. Chemical (Natio...\n",
       "23  1289  Australian Government Gazette. General (Nation...\n",
       "24  1294  Australian Government Gazette. Periodic (Natio...\n",
       "25  1308  Australian Government Gazette. Public Service ...\n",
       "26  1286  Australian Government Gazette. Special (Nation...\n",
       "27  1214  Commonwealth of Australia Gazette (National : ...\n",
       "28  1363  Commonwealth of Australia Gazette. Agricultura...\n",
       "29  1358  Commonwealth of Australia Gazette. Australian ...\n",
       "30  1360  Commonwealth of Australia Gazette. Australian ...\n",
       "31  1361  Commonwealth of Australia Gazette. Australian ...\n",
       "32  1351  Commonwealth of Australia Gazette. Australian ...\n",
       "33  1350  Commonwealth of Australia Gazette. Australian ...\n",
       "34  1356  Commonwealth of Australia Gazette. Australian ...\n",
       "35  1357  Commonwealth of Australia Gazette. Australian ...\n",
       "36  1343  Commonwealth of Australia Gazette. Business (N..."
      ]
     },
     "execution_count": 11,
     "metadata": {},
     "output_type": "execute_result"
    }
   ],
   "source": [
    "newspapers_df.loc[newspapers_df['title'].str.contains('Gazette')][:20]"
   ]
  },
  {
   "cell_type": "markdown",
   "metadata": {},
   "source": [
    "## The solution"
   ]
  },
  {
   "cell_type": "markdown",
   "metadata": {},
   "source": [
    "We can't just filter the results on the word 'Gazette' as a number of newspapers also include the word in their titles. Instead, we'll get a list of the gazettes using the `gazette/titles` endpoint and subtract these titles from the list of newspapers.\n",
    "\n",
    "Let's get the gazettes."
   ]
  },
  {
   "cell_type": "code",
   "execution_count": 12,
   "metadata": {},
   "outputs": [
    {
     "data": {
      "text/html": [
       "<div>\n",
       "<style scoped>\n",
       "    .dataframe tbody tr th:only-of-type {\n",
       "        vertical-align: middle;\n",
       "    }\n",
       "\n",
       "    .dataframe tbody tr th {\n",
       "        vertical-align: top;\n",
       "    }\n",
       "\n",
       "    .dataframe thead th {\n",
       "        text-align: right;\n",
       "    }\n",
       "</style>\n",
       "<table border=\"1\" class=\"dataframe\">\n",
       "  <thead>\n",
       "    <tr style=\"text-align: right;\">\n",
       "      <th></th>\n",
       "      <th>id</th>\n",
       "      <th>title</th>\n",
       "    </tr>\n",
       "  </thead>\n",
       "  <tbody>\n",
       "    <tr>\n",
       "      <th>0</th>\n",
       "      <td>1372</td>\n",
       "      <td>Papua New Guinea Government Gazette (1971 - 1975)</td>\n",
       "    </tr>\n",
       "    <tr>\n",
       "      <th>1</th>\n",
       "      <td>1371</td>\n",
       "      <td>Territory of Papua and New Guinea Government G...</td>\n",
       "    </tr>\n",
       "    <tr>\n",
       "      <th>2</th>\n",
       "      <td>1369</td>\n",
       "      <td>Territory of Papua Government Gazette (Papua N...</td>\n",
       "    </tr>\n",
       "    <tr>\n",
       "      <th>3</th>\n",
       "      <td>1370</td>\n",
       "      <td>Territory of Papua-New Guinea Government Gazet...</td>\n",
       "    </tr>\n",
       "    <tr>\n",
       "      <th>4</th>\n",
       "      <td>1288</td>\n",
       "      <td>Australian Government Gazette (National : 1973...</td>\n",
       "    </tr>\n",
       "  </tbody>\n",
       "</table>\n",
       "</div>"
      ],
      "text/plain": [
       "     id                                              title\n",
       "0  1372  Papua New Guinea Government Gazette (1971 - 1975)\n",
       "1  1371  Territory of Papua and New Guinea Government G...\n",
       "2  1369  Territory of Papua Government Gazette (Papua N...\n",
       "3  1370  Territory of Papua-New Guinea Government Gazet...\n",
       "4  1288  Australian Government Gazette (National : 1973..."
      ]
     },
     "execution_count": 12,
     "metadata": {},
     "output_type": "execute_result"
    }
   ],
   "source": [
    "gazettes_df = get_titles_df('gazette')\n",
    "gazettes_df.head()"
   ]
  },
  {
   "cell_type": "code",
   "execution_count": 13,
   "metadata": {},
   "outputs": [
    {
     "data": {
      "text/plain": [
       "(37, 2)"
      ]
     },
     "execution_count": 13,
     "metadata": {},
     "output_type": "execute_result"
    }
   ],
   "source": [
    "gazettes_df.shape"
   ]
  },
  {
   "cell_type": "markdown",
   "metadata": {},
   "source": [
    "Now we'll create a new dataframe that only includes titles from `df_newspapers` if they **are not in** `df_gazettes`."
   ]
  },
  {
   "cell_type": "code",
   "execution_count": 15,
   "metadata": {},
   "outputs": [],
   "source": [
    "newspapers_not_gazettes_df = newspapers_df[~newspapers_df['id'].isin(gazettes_df['id'])]"
   ]
  },
  {
   "cell_type": "code",
   "execution_count": 16,
   "metadata": {},
   "outputs": [
    {
     "data": {
      "text/plain": [
       "(1417, 2)"
      ]
     },
     "execution_count": 16,
     "metadata": {},
     "output_type": "execute_result"
    }
   ],
   "source": [
    "newspapers_not_gazettes_df.shape"
   ]
  },
  {
   "cell_type": "markdown",
   "metadata": {},
   "source": [
    "If it worked properly the number of titles in the new dataframe should equal the number in the newspapers dataframe minus the number in the gazettes dataframe."
   ]
  },
  {
   "cell_type": "code",
   "execution_count": 17,
   "metadata": {},
   "outputs": [
    {
     "data": {
      "text/plain": [
       "True"
      ]
     },
     "execution_count": 17,
     "metadata": {},
     "output_type": "execute_result"
    }
   ],
   "source": [
    "newspapers_not_gazettes_df.shape[0] == newspapers_df.shape[0] - gazettes_df.shape[0]"
   ]
  },
  {
   "cell_type": "markdown",
   "metadata": {},
   "source": [
    "Yay!"
   ]
  }
 ],
 "metadata": {
  "kernelspec": {
   "display_name": "Python 3",
   "language": "python",
   "name": "python3"
  },
  "language_info": {
   "codemirror_mode": {
    "name": "ipython",
    "version": 3
   },
   "file_extension": ".py",
   "mimetype": "text/x-python",
   "name": "python",
   "nbconvert_exporter": "python",
   "pygments_lexer": "ipython3",
   "version": "3.7.3"
  }
 },
 "nbformat": 4,
 "nbformat_minor": 2
}
